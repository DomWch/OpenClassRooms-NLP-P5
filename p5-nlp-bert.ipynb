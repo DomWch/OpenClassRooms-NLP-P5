{
 "cells": [
  {
   "cell_type": "markdown",
   "id": "8b26926e",
   "metadata": {
    "papermill": {
     "duration": 0.018523,
     "end_time": "2023-01-21T12:31:10.247394",
     "exception": false,
     "start_time": "2023-01-21T12:31:10.228871",
     "status": "completed"
    },
    "tags": []
   },
   "source": [
    "# Index\n",
    "* [Import](#index)\n",
    "* [Tokenization](#Tokenization)\n",
    "* [CountVectorizer](#CountVectorizer)\n",
    "* [PreprocessPipeline](#PreprocessPipeline)\n",
    "* [OvsRest](#OvsRest)\n",
    "    - [LogisticRegression](#LogisticRegression)\n",
    "    - [SVC](#SVC)\n",
    "* [Word2Vec](#Word2Vec)\n",
    "* [BERT](#BERT)\n",
    "* [USE](#USE)\n",
    "* [LDA](#LDA)"
   ]
  },
  {
   "cell_type": "code",
   "execution_count": 1,
   "id": "2801f415",
   "metadata": {
    "_cell_guid": "b1076dfc-b9ad-4769-8c92-a6c4dae69d19",
    "_uuid": "8f2839f25d086af736a60e9eeb907d3b93b6e0e5",
    "execution": {
     "iopub.execute_input": "2023-01-21T12:31:10.284050Z",
     "iopub.status.busy": "2023-01-21T12:31:10.283297Z",
     "iopub.status.idle": "2023-01-21T12:31:23.306703Z",
     "shell.execute_reply": "2023-01-21T12:31:23.304616Z"
    },
    "papermill": {
     "duration": 13.04434,
     "end_time": "2023-01-21T12:31:23.308988",
     "exception": false,
     "start_time": "2023-01-21T12:31:10.264648",
     "status": "completed"
    },
    "tags": []
   },
   "outputs": [
    {
     "name": "stderr",
     "output_type": "stream",
     "text": [
      "/opt/conda/lib/python3.7/site-packages/past/types/oldstr.py:36: DeprecationWarning: invalid escape sequence \\d\n",
      "  \"\"\"\n",
      "/opt/conda/lib/python3.7/site-packages/past/builtins/misc.py:45: DeprecationWarning: the imp module is deprecated in favour of importlib; see the module's documentation for alternative uses\n",
      "  from imp import reload\n",
      "/opt/conda/lib/python3.7/site-packages/tensorflow/python/framework/dtypes.py:585: DeprecationWarning: `np.object` is a deprecated alias for the builtin `object`. To silence this warning, use `object` by itself. Doing this will not modify any behavior and is safe. \n",
      "Deprecated in NumPy 1.20; for more details and guidance: https://numpy.org/devdocs/release/1.20.0-notes.html#deprecations\n",
      "  np.object,\n",
      "/opt/conda/lib/python3.7/site-packages/tensorflow/python/framework/dtypes.py:627: DeprecationWarning: `np.object` is a deprecated alias for the builtin `object`. To silence this warning, use `object` by itself. Doing this will not modify any behavior and is safe. \n",
      "Deprecated in NumPy 1.20; for more details and guidance: https://numpy.org/devdocs/release/1.20.0-notes.html#deprecations\n",
      "  np.object,\n",
      "/opt/conda/lib/python3.7/site-packages/tensorflow/python/framework/dtypes.py:637: DeprecationWarning: `np.bool` is a deprecated alias for the builtin `bool`. To silence this warning, use `bool` by itself. Doing this will not modify any behavior and is safe. If you specifically wanted the numpy scalar type, use `np.bool_` here.\n",
      "Deprecated in NumPy 1.20; for more details and guidance: https://numpy.org/devdocs/release/1.20.0-notes.html#deprecations\n",
      "  np.bool,\n",
      "/opt/conda/lib/python3.7/site-packages/tensorflow/python/framework/tensor_util.py:108: DeprecationWarning: `np.object` is a deprecated alias for the builtin `object`. To silence this warning, use `object` by itself. Doing this will not modify any behavior and is safe. \n",
      "Deprecated in NumPy 1.20; for more details and guidance: https://numpy.org/devdocs/release/1.20.0-notes.html#deprecations\n",
      "  np.object:\n",
      "/opt/conda/lib/python3.7/site-packages/tensorflow/python/framework/tensor_util.py:110: DeprecationWarning: `np.bool` is a deprecated alias for the builtin `bool`. To silence this warning, use `bool` by itself. Doing this will not modify any behavior and is safe. If you specifically wanted the numpy scalar type, use `np.bool_` here.\n",
      "Deprecated in NumPy 1.20; for more details and guidance: https://numpy.org/devdocs/release/1.20.0-notes.html#deprecations\n",
      "  np.bool:\n",
      "/opt/conda/lib/python3.7/site-packages/tensorflow/python/ops/numpy_ops/np_random.py:110: DeprecationWarning: `np.int` is a deprecated alias for the builtin `int`. To silence this warning, use `int` by itself. Doing this will not modify any behavior and is safe. When replacing `np.int`, you may wish to use e.g. `np.int64` or `np.int32` to specify the precision. If you wish to review your current use, check the release note link for additional information.\n",
      "Deprecated in NumPy 1.20; for more details and guidance: https://numpy.org/devdocs/release/1.20.0-notes.html#deprecations\n",
      "  def randint(low, high=None, size=None, dtype=onp.int):  # pylint: disable=missing-function-docstring\n",
      "/opt/conda/lib/python3.7/site-packages/keras_preprocessing/image/utils.py:23: DeprecationWarning: NEAREST is deprecated and will be removed in Pillow 10 (2023-07-01). Use Resampling.NEAREST or Dither.NONE instead.\n",
      "  'nearest': pil_image.NEAREST,\n",
      "/opt/conda/lib/python3.7/site-packages/keras_preprocessing/image/utils.py:24: DeprecationWarning: BILINEAR is deprecated and will be removed in Pillow 10 (2023-07-01). Use Resampling.BILINEAR instead.\n",
      "  'bilinear': pil_image.BILINEAR,\n",
      "/opt/conda/lib/python3.7/site-packages/keras_preprocessing/image/utils.py:25: DeprecationWarning: BICUBIC is deprecated and will be removed in Pillow 10 (2023-07-01). Use Resampling.BICUBIC instead.\n",
      "  'bicubic': pil_image.BICUBIC,\n",
      "/opt/conda/lib/python3.7/site-packages/keras_preprocessing/image/utils.py:28: DeprecationWarning: HAMMING is deprecated and will be removed in Pillow 10 (2023-07-01). Use Resampling.HAMMING instead.\n",
      "  if hasattr(pil_image, 'HAMMING'):\n",
      "/opt/conda/lib/python3.7/site-packages/keras_preprocessing/image/utils.py:29: DeprecationWarning: HAMMING is deprecated and will be removed in Pillow 10 (2023-07-01). Use Resampling.HAMMING instead.\n",
      "  _PIL_INTERPOLATION_METHODS['hamming'] = pil_image.HAMMING\n",
      "/opt/conda/lib/python3.7/site-packages/keras_preprocessing/image/utils.py:30: DeprecationWarning: BOX is deprecated and will be removed in Pillow 10 (2023-07-01). Use Resampling.BOX instead.\n",
      "  if hasattr(pil_image, 'BOX'):\n",
      "/opt/conda/lib/python3.7/site-packages/keras_preprocessing/image/utils.py:31: DeprecationWarning: BOX is deprecated and will be removed in Pillow 10 (2023-07-01). Use Resampling.BOX instead.\n",
      "  _PIL_INTERPOLATION_METHODS['box'] = pil_image.BOX\n",
      "/opt/conda/lib/python3.7/site-packages/keras_preprocessing/image/utils.py:33: DeprecationWarning: LANCZOS is deprecated and will be removed in Pillow 10 (2023-07-01). Use Resampling.LANCZOS instead.\n",
      "  if hasattr(pil_image, 'LANCZOS'):\n",
      "/opt/conda/lib/python3.7/site-packages/keras_preprocessing/image/utils.py:34: DeprecationWarning: LANCZOS is deprecated and will be removed in Pillow 10 (2023-07-01). Use Resampling.LANCZOS instead.\n",
      "  _PIL_INTERPOLATION_METHODS['lanczos'] = pil_image.LANCZOS\n",
      "2023-01-21 12:31:18.676826: I tensorflow/stream_executor/cuda/cuda_gpu_executor.cc:937] successful NUMA node read from SysFS had negative value (-1), but there must be at least one NUMA node, so returning NUMA node zero\n",
      "2023-01-21 12:31:18.678000: I tensorflow/stream_executor/cuda/cuda_gpu_executor.cc:937] successful NUMA node read from SysFS had negative value (-1), but there must be at least one NUMA node, so returning NUMA node zero\n",
      "2023-01-21 12:31:18.678684: I tensorflow/stream_executor/cuda/cuda_gpu_executor.cc:937] successful NUMA node read from SysFS had negative value (-1), but there must be at least one NUMA node, so returning NUMA node zero\n",
      "2023-01-21 12:31:18.680704: I tensorflow/core/platform/cpu_feature_guard.cc:142] This TensorFlow binary is optimized with oneAPI Deep Neural Network Library (oneDNN) to use the following CPU instructions in performance-critical operations:  AVX2 AVX512F FMA\n",
      "To enable them in other operations, rebuild TensorFlow with the appropriate compiler flags.\n",
      "2023-01-21 12:31:18.681059: I tensorflow/stream_executor/cuda/cuda_gpu_executor.cc:937] successful NUMA node read from SysFS had negative value (-1), but there must be at least one NUMA node, so returning NUMA node zero\n",
      "2023-01-21 12:31:18.681778: I tensorflow/stream_executor/cuda/cuda_gpu_executor.cc:937] successful NUMA node read from SysFS had negative value (-1), but there must be at least one NUMA node, so returning NUMA node zero\n",
      "2023-01-21 12:31:18.682492: I tensorflow/stream_executor/cuda/cuda_gpu_executor.cc:937] successful NUMA node read from SysFS had negative value (-1), but there must be at least one NUMA node, so returning NUMA node zero\n",
      "2023-01-21 12:31:22.933376: I tensorflow/stream_executor/cuda/cuda_gpu_executor.cc:937] successful NUMA node read from SysFS had negative value (-1), but there must be at least one NUMA node, so returning NUMA node zero\n",
      "2023-01-21 12:31:22.934234: I tensorflow/stream_executor/cuda/cuda_gpu_executor.cc:937] successful NUMA node read from SysFS had negative value (-1), but there must be at least one NUMA node, so returning NUMA node zero\n",
      "2023-01-21 12:31:22.934905: I tensorflow/stream_executor/cuda/cuda_gpu_executor.cc:937] successful NUMA node read from SysFS had negative value (-1), but there must be at least one NUMA node, so returning NUMA node zero\n",
      "2023-01-21 12:31:22.935486: I tensorflow/core/common_runtime/gpu/gpu_device.cc:1510] Created device /job:localhost/replica:0/task:0/device:GPU:0 with 15043 MB memory:  -> device: 0, name: Tesla P100-PCIE-16GB, pci bus id: 0000:00:04.0, compute capability: 6.0\n"
     ]
    }
   ],
   "source": [
    "import time\n",
    "import json\n",
    "import os\n",
    "\n",
    "# from joblib import dump, load, Memory\n",
    "import joblib\n",
    "import dill\n",
    "import weakref\n",
    "\n",
    "# import warnings\n",
    "\n",
    "import numpy as np\n",
    "import pandas as pd\n",
    "import gensim\n",
    "import pyLDAvis\n",
    "import matplotlib.pyplot as plt\n",
    "\n",
    "# from gensim import (\n",
    "#     corpora,\n",
    "# )  # https://pypi.org/project/gensim/ #https://radimrehurek.com/gensim/auto_examples/core/run_topics_and_transformations.html#sphx-glr-auto-examples-core-run-topics-and-transformations-py\n",
    "from sklearn import (\n",
    "    metrics,\n",
    "    feature_extraction,\n",
    "    linear_model,\n",
    "    model_selection,\n",
    "    preprocessing,\n",
    "    cluster,\n",
    "    decomposition,\n",
    "    multiclass,\n",
    "    svm,\n",
    "    pipeline,\n",
    "    exceptions,\n",
    "    manifold,\n",
    ")\n",
    "from wordcloud import WordCloud\n",
    "from sklearn.utils._testing import ignore_warnings\n",
    "from sklearn.base import BaseEstimator, TransformerMixin\n",
    "import tensorflow as tf\n",
    "import tensorflow_hub as hub\n",
    "from transformers import (\n",
    "    AutoTokenizer,\n",
    "    TFAutoModel,\n",
    "    AutoModel,\n",
    "    BertTokenizer,\n",
    "    TFBertModel,\n",
    "    BertConfig,\n",
    ")  # BertModel\n",
    "import transformers\n",
    "from tokenizers import BertWordPieceTokenizer\n",
    "\n",
    "\n",
    "# import nlpk"
   ]
  },
  {
   "cell_type": "code",
   "execution_count": 2,
   "id": "11a23d2d",
   "metadata": {
    "execution": {
     "iopub.execute_input": "2023-01-21T12:31:23.345960Z",
     "iopub.status.busy": "2023-01-21T12:31:23.345433Z",
     "iopub.status.idle": "2023-01-21T12:31:23.396059Z",
     "shell.execute_reply": "2023-01-21T12:31:23.395196Z"
    },
    "papermill": {
     "duration": 0.07226,
     "end_time": "2023-01-21T12:31:23.398273",
     "exception": false,
     "start_time": "2023-01-21T12:31:23.326013",
     "status": "completed"
    },
    "tags": []
   },
   "outputs": [],
   "source": [
    "from kerasembedtransformerclass import p5_nlp_utils"
   ]
  },
  {
   "cell_type": "markdown",
   "id": "fc006bd1",
   "metadata": {
    "papermill": {
     "duration": 0.016778,
     "end_time": "2023-01-21T12:31:23.431925",
     "exception": false,
     "start_time": "2023-01-21T12:31:23.415147",
     "status": "completed"
    },
    "tags": []
   },
   "source": [
    "https://scikit-learn.org/stable/modules/multiclass.html test autre stategie que OneVsRest  \n",
    "https://keras.io/examples/nlp/text_extraction_with_bert/  "
   ]
  },
  {
   "cell_type": "code",
   "execution_count": 3,
   "id": "101c9e55",
   "metadata": {
    "_kg_hide-output": true,
    "execution": {
     "iopub.execute_input": "2023-01-21T12:31:23.466218Z",
     "iopub.status.busy": "2023-01-21T12:31:23.465953Z",
     "iopub.status.idle": "2023-01-21T12:31:35.212648Z",
     "shell.execute_reply": "2023-01-21T12:31:35.211283Z"
    },
    "papermill": {
     "duration": 11.76632,
     "end_time": "2023-01-21T12:31:35.214833",
     "exception": false,
     "start_time": "2023-01-21T12:31:23.448513",
     "status": "completed"
    },
    "tags": []
   },
   "outputs": [
    {
     "name": "stdout",
     "output_type": "stream",
     "text": [
      "\u001b[33mWARNING: Running pip as the 'root' user can result in broken permissions and conflicting behaviour with the system package manager. It is recommended to use a virtual environment instead: https://pip.pypa.io/warnings/venv\u001b[0m\u001b[33m\r\n",
      "\u001b[0mNote: you may need to restart the kernel to use updated packages.\n"
     ]
    }
   ],
   "source": [
    "pip install -q jupyter-black jupyter"
   ]
  },
  {
   "cell_type": "code",
   "execution_count": 4,
   "id": "a75c6071",
   "metadata": {
    "execution": {
     "iopub.execute_input": "2023-01-21T12:31:35.250856Z",
     "iopub.status.busy": "2023-01-21T12:31:35.250506Z",
     "iopub.status.idle": "2023-01-21T12:31:35.378822Z",
     "shell.execute_reply": "2023-01-21T12:31:35.377803Z"
    },
    "papermill": {
     "duration": 0.148714,
     "end_time": "2023-01-21T12:31:35.381296",
     "exception": false,
     "start_time": "2023-01-21T12:31:35.232582",
     "status": "completed"
    },
    "tags": []
   },
   "outputs": [
    {
     "data": {
      "text/html": [
       "\n",
       "                <script type=\"application/javascript\" id=\"jupyter_black\">\n",
       "                (function() {\n",
       "                    if (window.IPython === undefined) {\n",
       "                        return\n",
       "                    }\n",
       "                    var msg = \"WARNING: it looks like you might have loaded \" +\n",
       "                        \"jupyter_black in a non-lab notebook with \" +\n",
       "                        \"`is_lab=True`. Please double check, and if \" +\n",
       "                        \"loading with `%load_ext` please review the README!\"\n",
       "                    console.log(msg)\n",
       "                    alert(msg)\n",
       "                })()\n",
       "                </script>\n",
       "                "
      ],
      "text/plain": [
       "<IPython.core.display.HTML object>"
      ]
     },
     "metadata": {},
     "output_type": "display_data"
    }
   ],
   "source": [
    "# for black formating\n",
    "import jupyter_black  # pip install jupyter-black jupyter\n",
    "\n",
    "jupyter_black.load()\n",
    "# ??jupyter_black.load #show config"
   ]
  },
  {
   "cell_type": "code",
   "execution_count": 5,
   "id": "bf8ec380",
   "metadata": {
    "execution": {
     "iopub.execute_input": "2023-01-21T12:31:35.416839Z",
     "iopub.status.busy": "2023-01-21T12:31:35.416270Z",
     "iopub.status.idle": "2023-01-21T12:31:44.188162Z",
     "shell.execute_reply": "2023-01-21T12:31:44.187190Z"
    },
    "papermill": {
     "duration": 8.792276,
     "end_time": "2023-01-21T12:31:44.190421",
     "exception": false,
     "start_time": "2023-01-21T12:31:35.398145",
     "status": "completed"
    },
    "tags": []
   },
   "outputs": [
    {
     "name": "stdout",
     "output_type": "stream",
     "text": [
      "<class 'pandas.core.frame.DataFrame'>\n",
      "Int64Index: 118442 entries, 0 to 118441\n",
      "Data columns (total 12 columns):\n",
      " #   Column       Non-Null Count   Dtype \n",
      "---  ------       --------------   ----- \n",
      " 0   Id           118442 non-null  int64 \n",
      " 1   Title        118442 non-null  object\n",
      " 2   Body         118442 non-null  object\n",
      " 3   0            118440 non-null  object\n",
      " 4   1            118383 non-null  object\n",
      " 5   2            118292 non-null  object\n",
      " 6   3            118292 non-null  object\n",
      " 7   4            76389 non-null   object\n",
      " 8   5            4 non-null       object\n",
      " 9   Title_clean  118389 non-null  object\n",
      " 10  Code         88202 non-null   object\n",
      " 11  Body_clean   118392 non-null  object\n",
      "dtypes: int64(1), object(11)\n",
      "memory usage: 11.7+ MB\n"
     ]
    }
   ],
   "source": [
    "df = pd.read_csv(\n",
    "    \"/kaggle/input/p5-nlp/stackoverflowCleaned.csv\", index_col=0, low_memory=False\n",
    ")\n",
    "df.info()"
   ]
  },
  {
   "cell_type": "code",
   "execution_count": 6,
   "id": "ad4311a4",
   "metadata": {
    "execution": {
     "iopub.execute_input": "2023-01-21T12:31:44.226778Z",
     "iopub.status.busy": "2023-01-21T12:31:44.226458Z",
     "iopub.status.idle": "2023-01-21T12:31:44.297971Z",
     "shell.execute_reply": "2023-01-21T12:31:44.297044Z"
    },
    "papermill": {
     "duration": 0.091824,
     "end_time": "2023-01-21T12:31:44.300063",
     "exception": false,
     "start_time": "2023-01-21T12:31:44.208239",
     "status": "completed"
    },
    "tags": []
   },
   "outputs": [],
   "source": [
    "LONG = False\n",
    "description = {\n",
    "    \"title\": \"BERT apres correctif model\",\n",
    "    \"CountVectorizer\": {\"min_df\": 0.00001, \"max_df\": 0.995, \"max_features\": None},\n",
    "    \"StandardScaler\": {\"actif\": False},\n",
    "    \"TruncatedSVD\": {\"actif\": False, \"n_components\": 1_000},\n",
    "    \"LogisticRegression\": {\"actif\": False},\n",
    "    \"TfidfOvRSVC\": {\"actif\": False, \"max_iter\": 100},\n",
    "    \"kerasPipeline\": {\n",
    "        \"actif\": False,\n",
    "        \"TextVectorization__max_tokens\": 210_000,  # 20_000,\n",
    "        \"TextVectorization__output_sequence_length\": 100,  # 20\n",
    "        \"Embedding__output_dim\": 500,\n",
    "        \"Word2Vec__min_count\": 5,\n",
    "        \"Word2Vec__window\": 25,\n",
    "        \"Word2Vec__epochs\": 150,  # 100,\n",
    "        \"fit__epochs\": 15,  # 15\n",
    "    },\n",
    "    \"Word2Vec\": {\n",
    "        \"actif\": False,\n",
    "        \"min_count\": 1,\n",
    "        \"size\": 500,\n",
    "        \"window\": 10,\n",
    "        \"epochs\": 100,\n",
    "        \"maxlen\": 50,\n",
    "        \"max_iter\": 6_000,\n",
    "    },\n",
    "    \"BERT\": {\n",
    "        \"actif\": True,\n",
    "        \"max_length\": 512,\n",
    "        \"epochs\": 10,\n",
    "        \"raw_text\":False\n",
    "    },\n",
    "    \"USE\": {\"actif\": False, \"tsne_visu\": True, \"epochs\": 150},\n",
    "    \"LDA\": {\n",
    "        \"actif\": False,\n",
    "        \"num_topics\": [20],  # [5, 10, 20],\n",
    "        \"lda__no_below\": 100,\n",
    "        \"lda__no_above\": 0.5,\n",
    "        \"lda__max_tokens\": 100_000,\n",
    "        \"lda__iterations\": 50,\n",
    "        \"word_cloud__nb_words\": 50,\n",
    "    },\n",
    "}"
   ]
  },
  {
   "cell_type": "code",
   "execution_count": 7,
   "id": "7c6c7930",
   "metadata": {
    "execution": {
     "iopub.execute_input": "2023-01-21T12:31:44.336194Z",
     "iopub.status.busy": "2023-01-21T12:31:44.335387Z",
     "iopub.status.idle": "2023-01-21T12:31:44.341327Z",
     "shell.execute_reply": "2023-01-21T12:31:44.340418Z"
    },
    "papermill": {
     "duration": 0.026029,
     "end_time": "2023-01-21T12:31:44.343417",
     "exception": false,
     "start_time": "2023-01-21T12:31:44.317388",
     "status": "completed"
    },
    "tags": []
   },
   "outputs": [],
   "source": [
    "# # ultra fast\n",
    "# description[\"kerasPipeline\"][\"fit__epochs\"] = 1\n",
    "# description[\"kerasPipeline\"][\"TextVectorization__max_tokens\"] = 100\n",
    "# description[\"kerasPipeline\"][\"TextVectorization__output_sequence_length\"] = 5\n",
    "# description[\"kerasPipeline\"][\"Word2Vec__epochs\"] = 1\n",
    "# description[\"kerasPipeline\"][\"Embedding__output_dim\"] = 10"
   ]
  },
  {
   "cell_type": "code",
   "execution_count": 8,
   "id": "713f715b",
   "metadata": {
    "execution": {
     "iopub.execute_input": "2023-01-21T12:31:44.378527Z",
     "iopub.status.busy": "2023-01-21T12:31:44.378264Z",
     "iopub.status.idle": "2023-01-21T12:31:44.396456Z",
     "shell.execute_reply": "2023-01-21T12:31:44.395611Z"
    },
    "papermill": {
     "duration": 0.037857,
     "end_time": "2023-01-21T12:31:44.398367",
     "exception": false,
     "start_time": "2023-01-21T12:31:44.360510",
     "status": "completed"
    },
    "tags": []
   },
   "outputs": [],
   "source": [
    "class colors:\n",
    "    PURPLE = \"\\033[95m\"\n",
    "    BLUE = \"\\033[94m\"\n",
    "    CYAN = \"\\033[96m\"\n",
    "    GREEN = \"\\033[92m\"\n",
    "    YELLOW = \"\\033[93m\"\n",
    "    RED = \"\\033[91m\"\n",
    "    ENDC = \"\\033[0m\"\n",
    "    BOLD = \"\\033[1m\"\n",
    "    UNDERLINE = \"\\033[4m\""
   ]
  },
  {
   "cell_type": "markdown",
   "id": "25dbb575",
   "metadata": {
    "papermill": {
     "duration": 0.016705,
     "end_time": "2023-01-21T12:31:44.431901",
     "exception": false,
     "start_time": "2023-01-21T12:31:44.415196",
     "status": "completed"
    },
    "tags": []
   },
   "source": [
    "# Tokenization"
   ]
  },
  {
   "cell_type": "code",
   "execution_count": 9,
   "id": "b1b34fd5",
   "metadata": {
    "execution": {
     "iopub.execute_input": "2023-01-21T12:31:44.466912Z",
     "iopub.status.busy": "2023-01-21T12:31:44.466618Z",
     "iopub.status.idle": "2023-01-21T12:31:44.514510Z",
     "shell.execute_reply": "2023-01-21T12:31:44.513566Z"
    },
    "papermill": {
     "duration": 0.068291,
     "end_time": "2023-01-21T12:31:44.517140",
     "exception": false,
     "start_time": "2023-01-21T12:31:44.448849",
     "status": "completed"
    },
    "tags": []
   },
   "outputs": [
    {
     "name": "stderr",
     "output_type": "stream",
     "text": [
      "/opt/conda/lib/python3.7/site-packages/ipykernel/pylab/backend_inline.py:13: DeprecationWarning: `ipykernel.pylab.backend_inline` is deprecated, directly use `matplotlib_inline.backend_inline`\n",
      "  DeprecationWarning,\n"
     ]
    },
    {
     "data": {
      "application/vnd.jupyter.widget-view+json": {
       "model_id": "787f7ece7d0a4116a8b378720dc9394a",
       "version_major": 2,
       "version_minor": 0
      },
      "text/plain": [
       "interactive(children=(IntSlider(value=59220, description='i', max=118441), Output()), _dom_classes=('widget-in…"
      ]
     },
     "metadata": {},
     "output_type": "display_data"
    }
   ],
   "source": [
    "from ipywidgets import interact\n",
    "\n",
    "\n",
    "@interact(i=(0, df.shape[0] - 1))\n",
    "def test_tr_print(i):\n",
    "    print(\n",
    "        f'Title:{df[\"Title\"][i]}\\n{\"*\"*30}\\nTitle_clean:{df[\"Title_clean\"][i]}\\n{\"*\"*30}\\nBody:{df[\"Body\"][i]}\\n{\"*\"*30}\\nBody_clean:{df[\"Body_clean\"][i]}\\n{\"*\"*30}\\nCode:{df[\"Code\"][i]}\\n{\"*\"*30}\\nTags:{df.loc[i,\"0\"]} {df.loc[i,\"1\"]} {df.loc[i,\"2\"]} {df.loc[i,\"3\"]} {df.loc[i,\"4\"]}'\n",
    "    )"
   ]
  },
  {
   "cell_type": "code",
   "execution_count": 10,
   "id": "23010228",
   "metadata": {
    "execution": {
     "iopub.execute_input": "2023-01-21T12:31:44.556028Z",
     "iopub.status.busy": "2023-01-21T12:31:44.555388Z",
     "iopub.status.idle": "2023-01-21T12:31:44.604837Z",
     "shell.execute_reply": "2023-01-21T12:31:44.603645Z"
    },
    "papermill": {
     "duration": 0.070548,
     "end_time": "2023-01-21T12:31:44.607771",
     "exception": false,
     "start_time": "2023-01-21T12:31:44.537223",
     "status": "completed"
    },
    "tags": []
   },
   "outputs": [
    {
     "name": "stdout",
     "output_type": "stream",
     "text": [
      "53\n"
     ]
    },
    {
     "data": {
      "text/html": [
       "<div>\n",
       "<style scoped>\n",
       "    .dataframe tbody tr th:only-of-type {\n",
       "        vertical-align: middle;\n",
       "    }\n",
       "\n",
       "    .dataframe tbody tr th {\n",
       "        vertical-align: top;\n",
       "    }\n",
       "\n",
       "    .dataframe thead th {\n",
       "        text-align: right;\n",
       "    }\n",
       "</style>\n",
       "<table border=\"1\" class=\"dataframe\">\n",
       "  <thead>\n",
       "    <tr style=\"text-align: right;\">\n",
       "      <th></th>\n",
       "      <th>Title</th>\n",
       "      <th>Title_clean</th>\n",
       "      <th>Body</th>\n",
       "      <th>Body_clean</th>\n",
       "      <th>0</th>\n",
       "      <th>1</th>\n",
       "      <th>2</th>\n",
       "      <th>3</th>\n",
       "      <th>4</th>\n",
       "    </tr>\n",
       "  </thead>\n",
       "  <tbody>\n",
       "    <tr>\n",
       "      <th>302</th>\n",
       "      <td>Is &lt; faster than &lt;=?</td>\n",
       "      <td>NaN</td>\n",
       "      <td>&lt;p&gt;Is &lt;code&gt;if (a &amp;lt; 901)&lt;/code&gt; faster than...</td>\n",
       "      <td>example performance change loop code suppose g...</td>\n",
       "      <td>c++</td>\n",
       "      <td>c</td>\n",
       "      <td>performance</td>\n",
       "      <td>assembly</td>\n",
       "      <td>relational-operators</td>\n",
       "    </tr>\n",
       "    <tr>\n",
       "      <th>393</th>\n",
       "      <td>What is setup.py?</td>\n",
       "      <td>NaN</td>\n",
       "      <td>&lt;p&gt;What is &lt;code&gt;setup.py&lt;/code&gt; and how can i...</td>\n",
       "      <td>configure</td>\n",
       "      <td>python</td>\n",
       "      <td>pypi</td>\n",
       "      <td>setup.py</td>\n",
       "      <td>python-packaging</td>\n",
       "      <td>NaN</td>\n",
       "    </tr>\n",
       "    <tr>\n",
       "      <th>1437</th>\n",
       "      <td>What is related_name used for?</td>\n",
       "      <td>NaN</td>\n",
       "      <td>&lt;p&gt;What is the &lt;code&gt;related_name&lt;/code&gt; argum...</td>\n",
       "      <td>argument manytomanyfield foreignkey field exam...</td>\n",
       "      <td>python</td>\n",
       "      <td>django</td>\n",
       "      <td>foreign-keys</td>\n",
       "      <td>many-to-many</td>\n",
       "      <td>NaN</td>\n",
       "    </tr>\n",
       "    <tr>\n",
       "      <th>4062</th>\n",
       "      <td>What is \"android:allowBackup\"?</td>\n",
       "      <td>NaN</td>\n",
       "      <td>&lt;p&gt;Since the &lt;a href=\"http://tools.android.com...</td>\n",
       "      <td>adt preview version version lint warning tell ...</td>\n",
       "      <td>android</td>\n",
       "      <td>adt</td>\n",
       "      <td>compiler-warnings</td>\n",
       "      <td>android-lint</td>\n",
       "      <td>android-backup-service</td>\n",
       "    </tr>\n",
       "    <tr>\n",
       "      <th>4870</th>\n",
       "      <td>Why is 0 &lt; -0x80000000?</td>\n",
       "      <td>NaN</td>\n",
       "      <td>&lt;p&gt;I have below a simple program:&lt;/p&gt;\\n\\n&lt;pre&gt;...</td>\n",
       "      <td>program condition if(bal int32_min work change...</td>\n",
       "      <td>c</td>\n",
       "      <td>signed</td>\n",
       "      <td>numeric-limits</td>\n",
       "      <td>numeric-conversion</td>\n",
       "      <td>NaN</td>\n",
       "    </tr>\n",
       "  </tbody>\n",
       "</table>\n",
       "</div>"
      ],
      "text/plain": [
       "                               Title Title_clean  \\\n",
       "302             Is < faster than <=?         NaN   \n",
       "393                What is setup.py?         NaN   \n",
       "1437  What is related_name used for?         NaN   \n",
       "4062  What is \"android:allowBackup\"?         NaN   \n",
       "4870         Why is 0 < -0x80000000?         NaN   \n",
       "\n",
       "                                                   Body  \\\n",
       "302   <p>Is <code>if (a &lt; 901)</code> faster than...   \n",
       "393   <p>What is <code>setup.py</code> and how can i...   \n",
       "1437  <p>What is the <code>related_name</code> argum...   \n",
       "4062  <p>Since the <a href=\"http://tools.android.com...   \n",
       "4870  <p>I have below a simple program:</p>\\n\\n<pre>...   \n",
       "\n",
       "                                             Body_clean        0       1  \\\n",
       "302   example performance change loop code suppose g...      c++       c   \n",
       "393                                           configure   python    pypi   \n",
       "1437  argument manytomanyfield foreignkey field exam...   python  django   \n",
       "4062  adt preview version version lint warning tell ...  android     adt   \n",
       "4870  program condition if(bal int32_min work change...        c  signed   \n",
       "\n",
       "                      2                   3                       4  \n",
       "302         performance            assembly    relational-operators  \n",
       "393            setup.py    python-packaging                     NaN  \n",
       "1437       foreign-keys        many-to-many                     NaN  \n",
       "4062  compiler-warnings        android-lint  android-backup-service  \n",
       "4870     numeric-limits  numeric-conversion                     NaN  "
      ]
     },
     "execution_count": 10,
     "metadata": {},
     "output_type": "execute_result"
    }
   ],
   "source": [
    "print(sum(df[\"Title_clean\"].isna()))\n",
    "df[df[\"Title_clean\"].isna()][\n",
    "    [\"Title\", \"Title_clean\", \"Body\", \"Body_clean\", \"0\", \"1\", \"2\", \"3\", \"4\"]\n",
    "].head(5)"
   ]
  },
  {
   "cell_type": "code",
   "execution_count": 11,
   "id": "720b7ead",
   "metadata": {
    "execution": {
     "iopub.execute_input": "2023-01-21T12:31:44.644040Z",
     "iopub.status.busy": "2023-01-21T12:31:44.643270Z",
     "iopub.status.idle": "2023-01-21T12:31:44.709645Z",
     "shell.execute_reply": "2023-01-21T12:31:44.708783Z"
    },
    "papermill": {
     "duration": 0.086615,
     "end_time": "2023-01-21T12:31:44.711767",
     "exception": false,
     "start_time": "2023-01-21T12:31:44.625152",
     "status": "completed"
    },
    "tags": []
   },
   "outputs": [
    {
     "name": "stdout",
     "output_type": "stream",
     "text": [
      "50\n"
     ]
    },
    {
     "data": {
      "text/html": [
       "<div>\n",
       "<style scoped>\n",
       "    .dataframe tbody tr th:only-of-type {\n",
       "        vertical-align: middle;\n",
       "    }\n",
       "\n",
       "    .dataframe tbody tr th {\n",
       "        vertical-align: top;\n",
       "    }\n",
       "\n",
       "    .dataframe thead th {\n",
       "        text-align: right;\n",
       "    }\n",
       "</style>\n",
       "<table border=\"1\" class=\"dataframe\">\n",
       "  <thead>\n",
       "    <tr style=\"text-align: right;\">\n",
       "      <th></th>\n",
       "      <th>Title</th>\n",
       "      <th>Title_clean</th>\n",
       "      <th>Body</th>\n",
       "      <th>Body_clean</th>\n",
       "      <th>Code</th>\n",
       "    </tr>\n",
       "  </thead>\n",
       "  <tbody>\n",
       "    <tr>\n",
       "      <th>5</th>\n",
       "      <td>What and where are the stack and heap?</td>\n",
       "      <td>stack heap</td>\n",
       "      <td>&lt;ul&gt;\\n&lt;li&gt;What are the stack and heap?&lt;/li&gt;\\n&lt;...</td>\n",
       "      <td>NaN</td>\n",
       "      <td>NaN</td>\n",
       "    </tr>\n",
       "    <tr>\n",
       "      <th>168</th>\n",
       "      <td>What is The Rule of Three?</td>\n",
       "      <td>rule</td>\n",
       "      <td>&lt;ul&gt;\\n&lt;li&gt;What does &lt;em&gt;copying an object&lt;/em&gt;...</td>\n",
       "      <td>NaN</td>\n",
       "      <td>NaN</td>\n",
       "    </tr>\n",
       "    <tr>\n",
       "      <th>828</th>\n",
       "      <td>Why are these constructs using pre and post-in...</td>\n",
       "      <td>construct pre behavior</td>\n",
       "      <td>&lt;pre&gt;&lt;code&gt;#include &amp;lt;stdio.h&amp;gt;\\n\\nint mai...</td>\n",
       "      <td>NaN</td>\n",
       "      <td>#include &lt;stdio.h&gt;\\n\\nint main(void)\\n{\\n   in...</td>\n",
       "    </tr>\n",
       "    <tr>\n",
       "      <th>1207</th>\n",
       "      <td>How to use ADB Shell when Multiple Devices are...</td>\n",
       "      <td>use adb shell multiple device connect fail err...</td>\n",
       "      <td>&lt;pre&gt;&lt;code&gt;$ adb --help\\n&lt;/code&gt;&lt;/pre&gt;\\n&lt;hr /&gt;...</td>\n",
       "      <td>NaN</td>\n",
       "      <td>$ adb --help\\n -s SERIAL  use device with give...</td>\n",
       "    </tr>\n",
       "    <tr>\n",
       "      <th>1640</th>\n",
       "      <td>What are the advantages of list initialization...</td>\n",
       "      <td>advantage list initialization brace</td>\n",
       "      <td>&lt;pre&gt;&lt;code&gt;MyClass a1 {a};     // clearer and ...</td>\n",
       "      <td>NaN</td>\n",
       "      <td>MyClass a1 {a};     // clearer and less error-...</td>\n",
       "    </tr>\n",
       "  </tbody>\n",
       "</table>\n",
       "</div>"
      ],
      "text/plain": [
       "                                                  Title  \\\n",
       "5                What and where are the stack and heap?   \n",
       "168                          What is The Rule of Three?   \n",
       "828   Why are these constructs using pre and post-in...   \n",
       "1207  How to use ADB Shell when Multiple Devices are...   \n",
       "1640  What are the advantages of list initialization...   \n",
       "\n",
       "                                            Title_clean  \\\n",
       "5                                            stack heap   \n",
       "168                                                rule   \n",
       "828                              construct pre behavior   \n",
       "1207  use adb shell multiple device connect fail err...   \n",
       "1640                advantage list initialization brace   \n",
       "\n",
       "                                                   Body Body_clean  \\\n",
       "5     <ul>\\n<li>What are the stack and heap?</li>\\n<...        NaN   \n",
       "168   <ul>\\n<li>What does <em>copying an object</em>...        NaN   \n",
       "828   <pre><code>#include &lt;stdio.h&gt;\\n\\nint mai...        NaN   \n",
       "1207  <pre><code>$ adb --help\\n</code></pre>\\n<hr />...        NaN   \n",
       "1640  <pre><code>MyClass a1 {a};     // clearer and ...        NaN   \n",
       "\n",
       "                                                   Code  \n",
       "5                                                   NaN  \n",
       "168                                                 NaN  \n",
       "828   #include <stdio.h>\\n\\nint main(void)\\n{\\n   in...  \n",
       "1207  $ adb --help\\n -s SERIAL  use device with give...  \n",
       "1640  MyClass a1 {a};     // clearer and less error-...  "
      ]
     },
     "execution_count": 11,
     "metadata": {},
     "output_type": "execute_result"
    }
   ],
   "source": [
    "print(sum(df[\"Body_clean\"].isna()))\n",
    "df[df[\"Body_clean\"].isna()][\n",
    "    [\"Title\", \"Title_clean\", \"Body\", \"Body_clean\", \"Code\"]\n",
    "].head(5)"
   ]
  },
  {
   "cell_type": "code",
   "execution_count": 12,
   "id": "40a61595",
   "metadata": {
    "execution": {
     "iopub.execute_input": "2023-01-21T12:31:44.750588Z",
     "iopub.status.busy": "2023-01-21T12:31:44.749711Z",
     "iopub.status.idle": "2023-01-21T12:31:44.778326Z",
     "shell.execute_reply": "2023-01-21T12:31:44.777189Z"
    },
    "papermill": {
     "duration": 0.050175,
     "end_time": "2023-01-21T12:31:44.780448",
     "exception": false,
     "start_time": "2023-01-21T12:31:44.730273",
     "status": "completed"
    },
    "tags": []
   },
   "outputs": [
    {
     "data": {
      "text/plain": [
       "0"
      ]
     },
     "execution_count": 12,
     "metadata": {},
     "output_type": "execute_result"
    }
   ],
   "source": [
    "len(df[df[\"Body_clean\"].isna() & df[\"Title_clean\"].isna()])"
   ]
  },
  {
   "cell_type": "code",
   "execution_count": 13,
   "id": "ab12ce44",
   "metadata": {
    "execution": {
     "iopub.execute_input": "2023-01-21T12:31:44.817303Z",
     "iopub.status.busy": "2023-01-21T12:31:44.816399Z",
     "iopub.status.idle": "2023-01-21T12:31:44.962964Z",
     "shell.execute_reply": "2023-01-21T12:31:44.961810Z"
    },
    "papermill": {
     "duration": 0.167657,
     "end_time": "2023-01-21T12:31:44.965665",
     "exception": false,
     "start_time": "2023-01-21T12:31:44.798008",
     "status": "completed"
    },
    "tags": []
   },
   "outputs": [
    {
     "name": "stdout",
     "output_type": "stream",
     "text": [
      "taille 21\n",
      "java c# javascript python android c++ ios html php .net jquery css objective-c c sql iphone asp.net mysql linux node.js git\n"
     ]
    }
   ],
   "source": [
    "tags = df[[\"0\", \"1\", \"2\", \"3\", \"4\", \"5\"]].stack()\n",
    "target_names = [\n",
    "    tag\n",
    "    for tag, freq in tags.reset_index(drop=True).value_counts(normalize=True).items()\n",
    "    if freq > 0.002\n",
    "]\n",
    "if not LONG:\n",
    "    target_names = target_names[0:20] + [\"git\"]\n",
    "print(f\"taille {len(target_names)}\\n{' '.join(target_names)}\")"
   ]
  },
  {
   "cell_type": "code",
   "execution_count": 14,
   "id": "65d5d828",
   "metadata": {
    "execution": {
     "iopub.execute_input": "2023-01-21T12:31:45.003129Z",
     "iopub.status.busy": "2023-01-21T12:31:45.002843Z",
     "iopub.status.idle": "2023-01-21T12:31:45.017262Z",
     "shell.execute_reply": "2023-01-21T12:31:45.016411Z"
    },
    "papermill": {
     "duration": 0.03534,
     "end_time": "2023-01-21T12:31:45.019387",
     "exception": false,
     "start_time": "2023-01-21T12:31:44.984047",
     "status": "completed"
    },
    "tags": []
   },
   "outputs": [],
   "source": [
    "# Enregistrement des paramétres avec la liste des tags a predire\n",
    "description[\"target_names\"] = target_names\n",
    "with open(\"/kaggle/working/description.json\", \"w\") as outfile:\n",
    "    json.dump(description, outfile)"
   ]
  },
  {
   "cell_type": "code",
   "execution_count": 15,
   "id": "00060268",
   "metadata": {
    "execution": {
     "iopub.execute_input": "2023-01-21T12:31:45.056766Z",
     "iopub.status.busy": "2023-01-21T12:31:45.055910Z",
     "iopub.status.idle": "2023-01-21T12:31:45.306314Z",
     "shell.execute_reply": "2023-01-21T12:31:45.305419Z"
    },
    "papermill": {
     "duration": 0.271004,
     "end_time": "2023-01-21T12:31:45.308316",
     "exception": false,
     "start_time": "2023-01-21T12:31:45.037312",
     "status": "completed"
    },
    "tags": []
   },
   "outputs": [
    {
     "data": {
      "text/html": [
       "<div>\n",
       "<style scoped>\n",
       "    .dataframe tbody tr th:only-of-type {\n",
       "        vertical-align: middle;\n",
       "    }\n",
       "\n",
       "    .dataframe tbody tr th {\n",
       "        vertical-align: top;\n",
       "    }\n",
       "\n",
       "    .dataframe thead th {\n",
       "        text-align: right;\n",
       "    }\n",
       "</style>\n",
       "<table border=\"1\" class=\"dataframe\">\n",
       "  <thead>\n",
       "    <tr style=\"text-align: right;\">\n",
       "      <th></th>\n",
       "      <th>javascript</th>\n",
       "      <th>java</th>\n",
       "      <th>c#</th>\n",
       "      <th>python</th>\n",
       "      <th>html</th>\n",
       "      <th>git</th>\n",
       "      <th>php</th>\n",
       "    </tr>\n",
       "  </thead>\n",
       "  <tbody>\n",
       "    <tr>\n",
       "      <th>0</th>\n",
       "      <td>False</td>\n",
       "      <td>True</td>\n",
       "      <td>False</td>\n",
       "      <td>False</td>\n",
       "      <td>False</td>\n",
       "      <td>False</td>\n",
       "      <td>False</td>\n",
       "    </tr>\n",
       "    <tr>\n",
       "      <th>1</th>\n",
       "      <td>False</td>\n",
       "      <td>False</td>\n",
       "      <td>False</td>\n",
       "      <td>False</td>\n",
       "      <td>False</td>\n",
       "      <td>True</td>\n",
       "      <td>False</td>\n",
       "    </tr>\n",
       "    <tr>\n",
       "      <th>2</th>\n",
       "      <td>False</td>\n",
       "      <td>False</td>\n",
       "      <td>False</td>\n",
       "      <td>False</td>\n",
       "      <td>False</td>\n",
       "      <td>True</td>\n",
       "      <td>False</td>\n",
       "    </tr>\n",
       "    <tr>\n",
       "      <th>3</th>\n",
       "      <td>False</td>\n",
       "      <td>False</td>\n",
       "      <td>False</td>\n",
       "      <td>False</td>\n",
       "      <td>False</td>\n",
       "      <td>True</td>\n",
       "      <td>False</td>\n",
       "    </tr>\n",
       "    <tr>\n",
       "      <th>4</th>\n",
       "      <td>False</td>\n",
       "      <td>False</td>\n",
       "      <td>False</td>\n",
       "      <td>False</td>\n",
       "      <td>False</td>\n",
       "      <td>False</td>\n",
       "      <td>False</td>\n",
       "    </tr>\n",
       "    <tr>\n",
       "      <th>5</th>\n",
       "      <td>False</td>\n",
       "      <td>False</td>\n",
       "      <td>False</td>\n",
       "      <td>False</td>\n",
       "      <td>False</td>\n",
       "      <td>False</td>\n",
       "      <td>False</td>\n",
       "    </tr>\n",
       "    <tr>\n",
       "      <th>6</th>\n",
       "      <td>False</td>\n",
       "      <td>False</td>\n",
       "      <td>False</td>\n",
       "      <td>False</td>\n",
       "      <td>False</td>\n",
       "      <td>True</td>\n",
       "      <td>False</td>\n",
       "    </tr>\n",
       "    <tr>\n",
       "      <th>7</th>\n",
       "      <td>True</td>\n",
       "      <td>False</td>\n",
       "      <td>False</td>\n",
       "      <td>False</td>\n",
       "      <td>False</td>\n",
       "      <td>False</td>\n",
       "      <td>False</td>\n",
       "    </tr>\n",
       "    <tr>\n",
       "      <th>8</th>\n",
       "      <td>True</td>\n",
       "      <td>False</td>\n",
       "      <td>False</td>\n",
       "      <td>False</td>\n",
       "      <td>False</td>\n",
       "      <td>False</td>\n",
       "      <td>False</td>\n",
       "    </tr>\n",
       "    <tr>\n",
       "      <th>9</th>\n",
       "      <td>False</td>\n",
       "      <td>False</td>\n",
       "      <td>False</td>\n",
       "      <td>True</td>\n",
       "      <td>False</td>\n",
       "      <td>False</td>\n",
       "      <td>False</td>\n",
       "    </tr>\n",
       "  </tbody>\n",
       "</table>\n",
       "</div>"
      ],
      "text/plain": [
       "   javascript   java     c#  python   html    git    php\n",
       "0       False   True  False   False  False  False  False\n",
       "1       False  False  False   False  False   True  False\n",
       "2       False  False  False   False  False   True  False\n",
       "3       False  False  False   False  False   True  False\n",
       "4       False  False  False   False  False  False  False\n",
       "5       False  False  False   False  False  False  False\n",
       "6       False  False  False   False  False   True  False\n",
       "7        True  False  False   False  False  False  False\n",
       "8        True  False  False   False  False  False  False\n",
       "9       False  False  False    True  False  False  False"
      ]
     },
     "execution_count": 15,
     "metadata": {},
     "output_type": "execute_result"
    }
   ],
   "source": [
    "p5_nlp_utils.Commun.tags_are_in(\n",
    "    df[0:10], [\"javascript\", \"java\", \"c#\", \"python\", \"html\", \"git\", \"php\"]\n",
    ")"
   ]
  },
  {
   "cell_type": "markdown",
   "id": "e8b00603",
   "metadata": {
    "papermill": {
     "duration": 0.01841,
     "end_time": "2023-01-21T12:31:45.344820",
     "exception": false,
     "start_time": "2023-01-21T12:31:45.326410",
     "status": "completed"
    },
    "tags": []
   },
   "source": [
    "## Separation train/test"
   ]
  },
  {
   "cell_type": "code",
   "execution_count": 16,
   "id": "48ef4dfe",
   "metadata": {
    "execution": {
     "iopub.execute_input": "2023-01-21T12:31:45.382459Z",
     "iopub.status.busy": "2023-01-21T12:31:45.381892Z",
     "iopub.status.idle": "2023-01-21T12:31:46.867240Z",
     "shell.execute_reply": "2023-01-21T12:31:46.866264Z"
    },
    "papermill": {
     "duration": 1.506863,
     "end_time": "2023-01-21T12:31:46.869778",
     "exception": false,
     "start_time": "2023-01-21T12:31:45.362915",
     "status": "completed"
    },
    "tags": []
   },
   "outputs": [
    {
     "name": "stdout",
     "output_type": "stream",
     "text": [
      "99.99409% des questions ont au moins 2tokens\n"
     ]
    }
   ],
   "source": [
    "if description[\"BERT\"][\"actif\"] and description[\"BERT\"][\"raw_text\"]: #essaie sans nettoyer le texte pour BERT\n",
    "    df[\"Token\"] = (\n",
    "        df[\"Title\"].fillna(\"\").str.strip() + \" \" + df[\"Body\"].fillna(\"\").str.strip()\n",
    "    )\n",
    "else:\n",
    "    df[\"Token\"] = df[\"Title_clean\"].fillna(\"\") + df[\"Body_clean\"].fillna(\"\")\n",
    "    print(\n",
    "        f\"{len(df[[len(token.split()) > 1 for token in df['Token']]])/len(df):.5%} des questions ont au moins 2tokens\"\n",
    "        if len(df[df[\"Token\"] == \"\"]) == 0\n",
    "        else f\"{len(df[df['Token'] == ''])} questions n'ont pas de token\"\n",
    "    )\n",
    "X_train, X_test, y_train, y_test = model_selection.train_test_split(\n",
    "    df[\"Token\"], p5_nlp_utils.Commun.tags_are_in(df, target_names), random_state=42\n",
    ")"
   ]
  },
  {
   "cell_type": "markdown",
   "id": "952c8924",
   "metadata": {
    "papermill": {
     "duration": 0.017986,
     "end_time": "2023-01-21T12:31:46.906611",
     "exception": false,
     "start_time": "2023-01-21T12:31:46.888625",
     "status": "completed"
    },
    "tags": []
   },
   "source": [
    "## Nombre et % de chaque tag dans train et test\n",
    "Une question peut avoir plusieur tag donc la somme est supérieur aux nombres de ligne"
   ]
  },
  {
   "cell_type": "code",
   "execution_count": 17,
   "id": "a94edf18",
   "metadata": {
    "execution": {
     "iopub.execute_input": "2023-01-21T12:31:46.944588Z",
     "iopub.status.busy": "2023-01-21T12:31:46.943811Z",
     "iopub.status.idle": "2023-01-21T12:31:46.987984Z",
     "shell.execute_reply": "2023-01-21T12:31:46.986920Z"
    },
    "papermill": {
     "duration": 0.065586,
     "end_time": "2023-01-21T12:31:46.990081",
     "exception": false,
     "start_time": "2023-01-21T12:31:46.924495",
     "status": "completed"
    },
    "tags": []
   },
   "outputs": [
    {
     "name": "stdout",
     "output_type": "stream",
     "text": [
      "|tag positif  nb train   %    |  test   %   |\n",
      "|\u001b[1mjava          \u001b[0m\u001b[92m10706   \u001b[0m12.05% | \u001b[92m3558 \u001b[0m 12.02%|\n",
      "|\u001b[1mc#            \u001b[0m\u001b[92m10484   \u001b[0m11.80% | \u001b[92m3473 \u001b[0m 11.73%|\n",
      "|\u001b[1mjavascript    \u001b[0m\u001b[92m10451   \u001b[0m11.77% | \u001b[92m3356 \u001b[0m 11.33%|\n",
      "|\u001b[1mpython        \u001b[0m\u001b[92m7652    \u001b[0m08.61% | \u001b[92m2612 \u001b[0m 08.82%|\n",
      "|\u001b[1mandroid       \u001b[0m\u001b[92m6216    \u001b[0m07.00% | \u001b[92m2045 \u001b[0m 06.91%|\n",
      "|\u001b[1mc++           \u001b[0m\u001b[92m5893    \u001b[0m06.63% | \u001b[92m1964 \u001b[0m 06.63%|\n",
      "|\u001b[1mios           \u001b[0m\u001b[92m5554    \u001b[0m06.25% | \u001b[92m1840 \u001b[0m 06.21%|\n",
      "|\u001b[1mhtml          \u001b[0m\u001b[92m5198    \u001b[0m05.85% | \u001b[92m1755 \u001b[0m 05.93%|\n",
      "|\u001b[1mphp           \u001b[0m\u001b[92m4935    \u001b[0m05.56% | \u001b[92m1627 \u001b[0m 05.49%|\n",
      "|\u001b[1m.net          \u001b[0m\u001b[92m4746    \u001b[0m05.34% | \u001b[92m1569 \u001b[0m 05.30%|\n",
      "|\u001b[1mjquery        \u001b[0m\u001b[92m4762    \u001b[0m05.36% | \u001b[92m1538 \u001b[0m 05.19%|\n",
      "|\u001b[1mcss           \u001b[0m\u001b[92m3350    \u001b[0m03.77% | \u001b[92m1131 \u001b[0m 03.82%|\n",
      "|\u001b[1mobjective-c   \u001b[0m\u001b[92m2736    \u001b[0m03.08% | \u001b[92m888  \u001b[0m 03.00%|\n",
      "|\u001b[1mc             \u001b[0m\u001b[92m2734    \u001b[0m03.08% | \u001b[92m885  \u001b[0m 02.99%|\n",
      "|\u001b[1msql           \u001b[0m\u001b[92m2665    \u001b[0m03.00% | \u001b[92m870  \u001b[0m 02.94%|\n",
      "|\u001b[1miphone        \u001b[0m\u001b[92m2479    \u001b[0m02.79% | \u001b[92m807  \u001b[0m 02.73%|\n",
      "|\u001b[1masp.net       \u001b[0m\u001b[92m2424    \u001b[0m02.73% | \u001b[92m805  \u001b[0m 02.72%|\n",
      "|\u001b[1mmysql         \u001b[0m\u001b[92m2107    \u001b[0m02.37% | \u001b[92m685  \u001b[0m 02.31%|\n",
      "|\u001b[1mlinux         \u001b[0m\u001b[92m2082    \u001b[0m02.34% | \u001b[92m680  \u001b[0m 02.30%|\n",
      "|\u001b[1mnode.js       \u001b[0m\u001b[92m2034    \u001b[0m02.29% | \u001b[92m682  \u001b[0m 02.30%|\n",
      "|\u001b[1mgit           \u001b[0m\u001b[92m840     \u001b[0m00.95% | \u001b[92m274  \u001b[0m 00.93%|\n"
     ]
    }
   ],
   "source": [
    "print(\"|tag positif  nb train   %    |  test   %   |\")\n",
    "for column in y_train.columns:\n",
    "    nb_positif_train = y_train[y_train[column]].shape[0]\n",
    "    nb_positif_test = y_test[y_test[column]].shape[0]\n",
    "    print(\n",
    "        f\"|{colors.BOLD}{column: <14}{colors.ENDC}{colors.GREEN}{nb_positif_train: <8}{colors.ENDC}{(nb_positif_train/y_train.shape[0]):06.2%} | {colors.GREEN}{nb_positif_test:<5}{colors.ENDC} {nb_positif_test/y_test.shape[0]:06.2%}|\"\n",
    "    )"
   ]
  },
  {
   "cell_type": "markdown",
   "id": "5ee411a2",
   "metadata": {
    "papermill": {
     "duration": 0.017794,
     "end_time": "2023-01-21T12:31:47.026099",
     "exception": false,
     "start_time": "2023-01-21T12:31:47.008305",
     "status": "completed"
    },
    "tags": []
   },
   "source": [
    "### Regroupement des tags pour visualisation tsne:\n",
    "En une collone unique pour représenter tout les tags dans 1graph, avec priorité pour les tags les moins fréquents  \n",
    "Ici la somme = nombre de ligne  "
   ]
  },
  {
   "cell_type": "code",
   "execution_count": 18,
   "id": "10a0e923",
   "metadata": {
    "execution": {
     "iopub.execute_input": "2023-01-21T12:31:47.063405Z",
     "iopub.status.busy": "2023-01-21T12:31:47.063133Z",
     "iopub.status.idle": "2023-01-21T12:32:15.015439Z",
     "shell.execute_reply": "2023-01-21T12:32:15.014306Z"
    },
    "papermill": {
     "duration": 27.973446,
     "end_time": "2023-01-21T12:32:15.017576",
     "exception": false,
     "start_time": "2023-01-21T12:31:47.044130",
     "status": "completed"
    },
    "tags": []
   },
   "outputs": [
    {
     "name": "stdout",
     "output_type": "stream",
     "text": [
      "CPU times: user 27.5 s, sys: 10.7 ms, total: 27.5 s\n",
      "Wall time: 27.9 s\n"
     ]
    },
    {
     "data": {
      "text/plain": [
       "Non Suivi      18192\n",
       "java            8114\n",
       "python          6900\n",
       "android         5595\n",
       "c#              5212\n",
       "c++             4570\n",
       ".net            4188\n",
       "javascript      3734\n",
       "jquery          3411\n",
       "php             3322\n",
       "css             3227\n",
       "ios             2745\n",
       "iphone          2470\n",
       "asp.net         2402\n",
       "c               2385\n",
       "sql             2081\n",
       "mysql           2038\n",
       "linux           2038\n",
       "node.js         2010\n",
       "html            1715\n",
       "objective-c     1642\n",
       "git              840\n",
       "dtype: int64"
      ]
     },
     "execution_count": 18,
     "metadata": {},
     "output_type": "execute_result"
    }
   ],
   "source": [
    "%%time\n",
    "y_train_monodim = pd.Series(index=y_train.index, dtype=bool)\n",
    "for tag in y_train.columns:\n",
    "    y_train_monodim = (\n",
    "        y_train[tag]\n",
    "        .replace(to_replace=True, value=tag)\n",
    "        .combine(y_train_monodim, lambda s1, s2: s1 if s1 else s2)\n",
    "    )\n",
    "y_train_monodim.replace(to_replace=False, value=\"Non Suivi\", inplace=True)\n",
    "y_train_monodim.value_counts()"
   ]
  },
  {
   "cell_type": "markdown",
   "id": "1ecef674",
   "metadata": {
    "papermill": {
     "duration": 0.020487,
     "end_time": "2023-01-21T12:32:15.059197",
     "exception": false,
     "start_time": "2023-01-21T12:32:15.038710",
     "status": "completed"
    },
    "tags": []
   },
   "source": [
    "## Approche naïve pour comparer les résultats:\n",
    "    - Valeur la plus fréquente (False)\n",
    "    - Si le tag est présent dans la question"
   ]
  },
  {
   "cell_type": "code",
   "execution_count": 19,
   "id": "6bfafbb3",
   "metadata": {
    "_kg_hide-output": true,
    "execution": {
     "iopub.execute_input": "2023-01-21T12:32:15.097315Z",
     "iopub.status.busy": "2023-01-21T12:32:15.097009Z",
     "iopub.status.idle": "2023-01-21T12:32:15.165867Z",
     "shell.execute_reply": "2023-01-21T12:32:15.164727Z"
    },
    "papermill": {
     "duration": 0.089867,
     "end_time": "2023-01-21T12:32:15.167823",
     "exception": false,
     "start_time": "2023-01-21T12:32:15.077956",
     "status": "completed"
    },
    "tags": []
   },
   "outputs": [
    {
     "data": {
      "text/html": [
       "<div>\n",
       "<style scoped>\n",
       "    .dataframe tbody tr th:only-of-type {\n",
       "        vertical-align: middle;\n",
       "    }\n",
       "\n",
       "    .dataframe tbody tr th {\n",
       "        vertical-align: top;\n",
       "    }\n",
       "\n",
       "    .dataframe thead th {\n",
       "        text-align: right;\n",
       "    }\n",
       "</style>\n",
       "<table border=\"1\" class=\"dataframe\">\n",
       "  <thead>\n",
       "    <tr style=\"text-align: right;\">\n",
       "      <th></th>\n",
       "      <th>precision</th>\n",
       "      <th>recall</th>\n",
       "      <th>f1-score</th>\n",
       "      <th>support</th>\n",
       "    </tr>\n",
       "  </thead>\n",
       "  <tbody>\n",
       "    <tr>\n",
       "      <th>java</th>\n",
       "      <td>1.0</td>\n",
       "      <td>0.000000</td>\n",
       "      <td>0.000000</td>\n",
       "      <td>3558.0</td>\n",
       "    </tr>\n",
       "    <tr>\n",
       "      <th>c#</th>\n",
       "      <td>1.0</td>\n",
       "      <td>0.000000</td>\n",
       "      <td>0.000000</td>\n",
       "      <td>3473.0</td>\n",
       "    </tr>\n",
       "    <tr>\n",
       "      <th>javascript</th>\n",
       "      <td>1.0</td>\n",
       "      <td>0.000000</td>\n",
       "      <td>0.000000</td>\n",
       "      <td>3356.0</td>\n",
       "    </tr>\n",
       "    <tr>\n",
       "      <th>python</th>\n",
       "      <td>1.0</td>\n",
       "      <td>0.000000</td>\n",
       "      <td>0.000000</td>\n",
       "      <td>2612.0</td>\n",
       "    </tr>\n",
       "    <tr>\n",
       "      <th>android</th>\n",
       "      <td>1.0</td>\n",
       "      <td>0.000000</td>\n",
       "      <td>0.000000</td>\n",
       "      <td>2045.0</td>\n",
       "    </tr>\n",
       "    <tr>\n",
       "      <th>c++</th>\n",
       "      <td>1.0</td>\n",
       "      <td>0.000000</td>\n",
       "      <td>0.000000</td>\n",
       "      <td>1964.0</td>\n",
       "    </tr>\n",
       "    <tr>\n",
       "      <th>ios</th>\n",
       "      <td>1.0</td>\n",
       "      <td>0.000000</td>\n",
       "      <td>0.000000</td>\n",
       "      <td>1840.0</td>\n",
       "    </tr>\n",
       "    <tr>\n",
       "      <th>html</th>\n",
       "      <td>1.0</td>\n",
       "      <td>0.000000</td>\n",
       "      <td>0.000000</td>\n",
       "      <td>1755.0</td>\n",
       "    </tr>\n",
       "    <tr>\n",
       "      <th>php</th>\n",
       "      <td>1.0</td>\n",
       "      <td>0.000000</td>\n",
       "      <td>0.000000</td>\n",
       "      <td>1627.0</td>\n",
       "    </tr>\n",
       "    <tr>\n",
       "      <th>.net</th>\n",
       "      <td>1.0</td>\n",
       "      <td>0.000000</td>\n",
       "      <td>0.000000</td>\n",
       "      <td>1569.0</td>\n",
       "    </tr>\n",
       "    <tr>\n",
       "      <th>jquery</th>\n",
       "      <td>1.0</td>\n",
       "      <td>0.000000</td>\n",
       "      <td>0.000000</td>\n",
       "      <td>1538.0</td>\n",
       "    </tr>\n",
       "    <tr>\n",
       "      <th>css</th>\n",
       "      <td>1.0</td>\n",
       "      <td>0.000000</td>\n",
       "      <td>0.000000</td>\n",
       "      <td>1131.0</td>\n",
       "    </tr>\n",
       "    <tr>\n",
       "      <th>objective-c</th>\n",
       "      <td>1.0</td>\n",
       "      <td>0.000000</td>\n",
       "      <td>0.000000</td>\n",
       "      <td>888.0</td>\n",
       "    </tr>\n",
       "    <tr>\n",
       "      <th>c</th>\n",
       "      <td>1.0</td>\n",
       "      <td>0.000000</td>\n",
       "      <td>0.000000</td>\n",
       "      <td>885.0</td>\n",
       "    </tr>\n",
       "    <tr>\n",
       "      <th>sql</th>\n",
       "      <td>1.0</td>\n",
       "      <td>0.000000</td>\n",
       "      <td>0.000000</td>\n",
       "      <td>870.0</td>\n",
       "    </tr>\n",
       "    <tr>\n",
       "      <th>iphone</th>\n",
       "      <td>1.0</td>\n",
       "      <td>0.000000</td>\n",
       "      <td>0.000000</td>\n",
       "      <td>807.0</td>\n",
       "    </tr>\n",
       "    <tr>\n",
       "      <th>asp.net</th>\n",
       "      <td>1.0</td>\n",
       "      <td>0.000000</td>\n",
       "      <td>0.000000</td>\n",
       "      <td>805.0</td>\n",
       "    </tr>\n",
       "    <tr>\n",
       "      <th>mysql</th>\n",
       "      <td>1.0</td>\n",
       "      <td>0.000000</td>\n",
       "      <td>0.000000</td>\n",
       "      <td>685.0</td>\n",
       "    </tr>\n",
       "    <tr>\n",
       "      <th>linux</th>\n",
       "      <td>1.0</td>\n",
       "      <td>0.000000</td>\n",
       "      <td>0.000000</td>\n",
       "      <td>680.0</td>\n",
       "    </tr>\n",
       "    <tr>\n",
       "      <th>node.js</th>\n",
       "      <td>1.0</td>\n",
       "      <td>0.000000</td>\n",
       "      <td>0.000000</td>\n",
       "      <td>682.0</td>\n",
       "    </tr>\n",
       "    <tr>\n",
       "      <th>git</th>\n",
       "      <td>1.0</td>\n",
       "      <td>0.000000</td>\n",
       "      <td>0.000000</td>\n",
       "      <td>274.0</td>\n",
       "    </tr>\n",
       "    <tr>\n",
       "      <th>micro avg</th>\n",
       "      <td>1.0</td>\n",
       "      <td>0.000000</td>\n",
       "      <td>0.000000</td>\n",
       "      <td>33044.0</td>\n",
       "    </tr>\n",
       "    <tr>\n",
       "      <th>macro avg</th>\n",
       "      <td>1.0</td>\n",
       "      <td>0.000000</td>\n",
       "      <td>0.000000</td>\n",
       "      <td>33044.0</td>\n",
       "    </tr>\n",
       "    <tr>\n",
       "      <th>weighted avg</th>\n",
       "      <td>1.0</td>\n",
       "      <td>0.000000</td>\n",
       "      <td>0.000000</td>\n",
       "      <td>33044.0</td>\n",
       "    </tr>\n",
       "    <tr>\n",
       "      <th>samples avg</th>\n",
       "      <td>1.0</td>\n",
       "      <td>0.207322</td>\n",
       "      <td>0.207322</td>\n",
       "      <td>33044.0</td>\n",
       "    </tr>\n",
       "  </tbody>\n",
       "</table>\n",
       "</div>"
      ],
      "text/plain": [
       "              precision    recall  f1-score  support\n",
       "java                1.0  0.000000  0.000000   3558.0\n",
       "c#                  1.0  0.000000  0.000000   3473.0\n",
       "javascript          1.0  0.000000  0.000000   3356.0\n",
       "python              1.0  0.000000  0.000000   2612.0\n",
       "android             1.0  0.000000  0.000000   2045.0\n",
       "c++                 1.0  0.000000  0.000000   1964.0\n",
       "ios                 1.0  0.000000  0.000000   1840.0\n",
       "html                1.0  0.000000  0.000000   1755.0\n",
       "php                 1.0  0.000000  0.000000   1627.0\n",
       ".net                1.0  0.000000  0.000000   1569.0\n",
       "jquery              1.0  0.000000  0.000000   1538.0\n",
       "css                 1.0  0.000000  0.000000   1131.0\n",
       "objective-c         1.0  0.000000  0.000000    888.0\n",
       "c                   1.0  0.000000  0.000000    885.0\n",
       "sql                 1.0  0.000000  0.000000    870.0\n",
       "iphone              1.0  0.000000  0.000000    807.0\n",
       "asp.net             1.0  0.000000  0.000000    805.0\n",
       "mysql               1.0  0.000000  0.000000    685.0\n",
       "linux               1.0  0.000000  0.000000    680.0\n",
       "node.js             1.0  0.000000  0.000000    682.0\n",
       "git                 1.0  0.000000  0.000000    274.0\n",
       "micro avg           1.0  0.000000  0.000000  33044.0\n",
       "macro avg           1.0  0.000000  0.000000  33044.0\n",
       "weighted avg        1.0  0.000000  0.000000  33044.0\n",
       "samples avg         1.0  0.207322  0.207322  33044.0"
      ]
     },
     "execution_count": 19,
     "metadata": {},
     "output_type": "execute_result"
    }
   ],
   "source": [
    "p5_nlp_utils.Commun.save_score(\n",
    "    y_true=y_test,\n",
    "    y_pred=y_test.replace([True], False),\n",
    "    target_names=target_names,\n",
    "    zero_division=1,  # because TruePositif=0\n",
    ")"
   ]
  },
  {
   "cell_type": "markdown",
   "id": "f09720d4",
   "metadata": {
    "papermill": {
     "duration": 0.018542,
     "end_time": "2023-01-21T12:32:15.205422",
     "exception": false,
     "start_time": "2023-01-21T12:32:15.186880",
     "status": "completed"
    },
    "tags": []
   },
   "source": [
    "Avec prédire toujours vrai"
   ]
  },
  {
   "cell_type": "code",
   "execution_count": 20,
   "id": "081851de",
   "metadata": {
    "_kg_hide-input": false,
    "_kg_hide-output": true,
    "execution": {
     "iopub.execute_input": "2023-01-21T12:32:15.244299Z",
     "iopub.status.busy": "2023-01-21T12:32:15.243639Z",
     "iopub.status.idle": "2023-01-21T12:32:15.486080Z",
     "shell.execute_reply": "2023-01-21T12:32:15.485001Z"
    },
    "papermill": {
     "duration": 0.264636,
     "end_time": "2023-01-21T12:32:15.488830",
     "exception": false,
     "start_time": "2023-01-21T12:32:15.224194",
     "status": "completed"
    },
    "tags": []
   },
   "outputs": [
    {
     "data": {
      "text/html": [
       "<div>\n",
       "<style scoped>\n",
       "    .dataframe tbody tr th:only-of-type {\n",
       "        vertical-align: middle;\n",
       "    }\n",
       "\n",
       "    .dataframe tbody tr th {\n",
       "        vertical-align: top;\n",
       "    }\n",
       "\n",
       "    .dataframe thead th {\n",
       "        text-align: right;\n",
       "    }\n",
       "</style>\n",
       "<table border=\"1\" class=\"dataframe\">\n",
       "  <thead>\n",
       "    <tr style=\"text-align: right;\">\n",
       "      <th></th>\n",
       "      <th>precision</th>\n",
       "      <th>recall</th>\n",
       "      <th>f1-score</th>\n",
       "      <th>support</th>\n",
       "    </tr>\n",
       "  </thead>\n",
       "  <tbody>\n",
       "    <tr>\n",
       "      <th>java</th>\n",
       "      <td>0.120158</td>\n",
       "      <td>1.000000</td>\n",
       "      <td>0.214538</td>\n",
       "      <td>3558.0</td>\n",
       "    </tr>\n",
       "    <tr>\n",
       "      <th>c#</th>\n",
       "      <td>0.117287</td>\n",
       "      <td>1.000000</td>\n",
       "      <td>0.209950</td>\n",
       "      <td>3473.0</td>\n",
       "    </tr>\n",
       "    <tr>\n",
       "      <th>javascript</th>\n",
       "      <td>0.113336</td>\n",
       "      <td>1.000000</td>\n",
       "      <td>0.203598</td>\n",
       "      <td>3356.0</td>\n",
       "    </tr>\n",
       "    <tr>\n",
       "      <th>python</th>\n",
       "      <td>0.088210</td>\n",
       "      <td>1.000000</td>\n",
       "      <td>0.162120</td>\n",
       "      <td>2612.0</td>\n",
       "    </tr>\n",
       "    <tr>\n",
       "      <th>android</th>\n",
       "      <td>0.069062</td>\n",
       "      <td>1.000000</td>\n",
       "      <td>0.129201</td>\n",
       "      <td>2045.0</td>\n",
       "    </tr>\n",
       "    <tr>\n",
       "      <th>c++</th>\n",
       "      <td>0.066327</td>\n",
       "      <td>1.000000</td>\n",
       "      <td>0.124402</td>\n",
       "      <td>1964.0</td>\n",
       "    </tr>\n",
       "    <tr>\n",
       "      <th>ios</th>\n",
       "      <td>0.062139</td>\n",
       "      <td>1.000000</td>\n",
       "      <td>0.117007</td>\n",
       "      <td>1840.0</td>\n",
       "    </tr>\n",
       "    <tr>\n",
       "      <th>html</th>\n",
       "      <td>0.059269</td>\n",
       "      <td>1.000000</td>\n",
       "      <td>0.111905</td>\n",
       "      <td>1755.0</td>\n",
       "    </tr>\n",
       "    <tr>\n",
       "      <th>php</th>\n",
       "      <td>0.054946</td>\n",
       "      <td>1.000000</td>\n",
       "      <td>0.104168</td>\n",
       "      <td>1627.0</td>\n",
       "    </tr>\n",
       "    <tr>\n",
       "      <th>.net</th>\n",
       "      <td>0.052987</td>\n",
       "      <td>1.000000</td>\n",
       "      <td>0.100641</td>\n",
       "      <td>1569.0</td>\n",
       "    </tr>\n",
       "    <tr>\n",
       "      <th>jquery</th>\n",
       "      <td>0.051940</td>\n",
       "      <td>1.000000</td>\n",
       "      <td>0.098751</td>\n",
       "      <td>1538.0</td>\n",
       "    </tr>\n",
       "    <tr>\n",
       "      <th>css</th>\n",
       "      <td>0.038195</td>\n",
       "      <td>1.000000</td>\n",
       "      <td>0.073580</td>\n",
       "      <td>1131.0</td>\n",
       "    </tr>\n",
       "    <tr>\n",
       "      <th>objective-c</th>\n",
       "      <td>0.029989</td>\n",
       "      <td>1.000000</td>\n",
       "      <td>0.058231</td>\n",
       "      <td>888.0</td>\n",
       "    </tr>\n",
       "    <tr>\n",
       "      <th>c</th>\n",
       "      <td>0.029888</td>\n",
       "      <td>1.000000</td>\n",
       "      <td>0.058040</td>\n",
       "      <td>885.0</td>\n",
       "    </tr>\n",
       "    <tr>\n",
       "      <th>sql</th>\n",
       "      <td>0.029381</td>\n",
       "      <td>1.000000</td>\n",
       "      <td>0.057085</td>\n",
       "      <td>870.0</td>\n",
       "    </tr>\n",
       "    <tr>\n",
       "      <th>iphone</th>\n",
       "      <td>0.027253</td>\n",
       "      <td>1.000000</td>\n",
       "      <td>0.053061</td>\n",
       "      <td>807.0</td>\n",
       "    </tr>\n",
       "    <tr>\n",
       "      <th>asp.net</th>\n",
       "      <td>0.027186</td>\n",
       "      <td>1.000000</td>\n",
       "      <td>0.052933</td>\n",
       "      <td>805.0</td>\n",
       "    </tr>\n",
       "    <tr>\n",
       "      <th>mysql</th>\n",
       "      <td>0.023133</td>\n",
       "      <td>1.000000</td>\n",
       "      <td>0.045220</td>\n",
       "      <td>685.0</td>\n",
       "    </tr>\n",
       "    <tr>\n",
       "      <th>linux</th>\n",
       "      <td>0.022964</td>\n",
       "      <td>1.000000</td>\n",
       "      <td>0.044898</td>\n",
       "      <td>680.0</td>\n",
       "    </tr>\n",
       "    <tr>\n",
       "      <th>node.js</th>\n",
       "      <td>0.023032</td>\n",
       "      <td>1.000000</td>\n",
       "      <td>0.045027</td>\n",
       "      <td>682.0</td>\n",
       "    </tr>\n",
       "    <tr>\n",
       "      <th>git</th>\n",
       "      <td>0.009253</td>\n",
       "      <td>1.000000</td>\n",
       "      <td>0.018337</td>\n",
       "      <td>274.0</td>\n",
       "    </tr>\n",
       "    <tr>\n",
       "      <th>micro avg</th>\n",
       "      <td>0.053140</td>\n",
       "      <td>1.000000</td>\n",
       "      <td>0.100917</td>\n",
       "      <td>33044.0</td>\n",
       "    </tr>\n",
       "    <tr>\n",
       "      <th>macro avg</th>\n",
       "      <td>0.053140</td>\n",
       "      <td>1.000000</td>\n",
       "      <td>0.099176</td>\n",
       "      <td>33044.0</td>\n",
       "    </tr>\n",
       "    <tr>\n",
       "      <th>weighted avg</th>\n",
       "      <td>0.072731</td>\n",
       "      <td>1.000000</td>\n",
       "      <td>0.133680</td>\n",
       "      <td>33044.0</td>\n",
       "    </tr>\n",
       "    <tr>\n",
       "      <th>samples avg</th>\n",
       "      <td>0.053140</td>\n",
       "      <td>0.792678</td>\n",
       "      <td>0.098364</td>\n",
       "      <td>33044.0</td>\n",
       "    </tr>\n",
       "  </tbody>\n",
       "</table>\n",
       "</div>"
      ],
      "text/plain": [
       "              precision    recall  f1-score  support\n",
       "java           0.120158  1.000000  0.214538   3558.0\n",
       "c#             0.117287  1.000000  0.209950   3473.0\n",
       "javascript     0.113336  1.000000  0.203598   3356.0\n",
       "python         0.088210  1.000000  0.162120   2612.0\n",
       "android        0.069062  1.000000  0.129201   2045.0\n",
       "c++            0.066327  1.000000  0.124402   1964.0\n",
       "ios            0.062139  1.000000  0.117007   1840.0\n",
       "html           0.059269  1.000000  0.111905   1755.0\n",
       "php            0.054946  1.000000  0.104168   1627.0\n",
       ".net           0.052987  1.000000  0.100641   1569.0\n",
       "jquery         0.051940  1.000000  0.098751   1538.0\n",
       "css            0.038195  1.000000  0.073580   1131.0\n",
       "objective-c    0.029989  1.000000  0.058231    888.0\n",
       "c              0.029888  1.000000  0.058040    885.0\n",
       "sql            0.029381  1.000000  0.057085    870.0\n",
       "iphone         0.027253  1.000000  0.053061    807.0\n",
       "asp.net        0.027186  1.000000  0.052933    805.0\n",
       "mysql          0.023133  1.000000  0.045220    685.0\n",
       "linux          0.022964  1.000000  0.044898    680.0\n",
       "node.js        0.023032  1.000000  0.045027    682.0\n",
       "git            0.009253  1.000000  0.018337    274.0\n",
       "micro avg      0.053140  1.000000  0.100917  33044.0\n",
       "macro avg      0.053140  1.000000  0.099176  33044.0\n",
       "weighted avg   0.072731  1.000000  0.133680  33044.0\n",
       "samples avg    0.053140  0.792678  0.098364  33044.0"
      ]
     },
     "execution_count": 20,
     "metadata": {},
     "output_type": "execute_result"
    }
   ],
   "source": [
    "p5_nlp_utils.Commun.save_score(\n",
    "    y_true=y_test, y_pred=y_test.replace([False], True), target_names=target_names\n",
    ")"
   ]
  },
  {
   "cell_type": "markdown",
   "id": "bb822299",
   "metadata": {
    "papermill": {
     "duration": 0.018866,
     "end_time": "2023-01-21T12:32:15.528100",
     "exception": false,
     "start_time": "2023-01-21T12:32:15.509234",
     "status": "completed"
    },
    "tags": []
   },
   "source": [
    "### Methode naive le tag est dans la question:"
   ]
  },
  {
   "cell_type": "code",
   "execution_count": 21,
   "id": "c7845708",
   "metadata": {
    "_kg_hide-input": false,
    "_kg_hide-output": true,
    "execution": {
     "iopub.execute_input": "2023-01-21T12:32:15.569045Z",
     "iopub.status.busy": "2023-01-21T12:32:15.568712Z",
     "iopub.status.idle": "2023-01-21T12:32:16.212679Z",
     "shell.execute_reply": "2023-01-21T12:32:16.211689Z"
    },
    "papermill": {
     "duration": 0.666221,
     "end_time": "2023-01-21T12:32:16.215043",
     "exception": false,
     "start_time": "2023-01-21T12:32:15.548822",
     "status": "completed"
    },
    "tags": []
   },
   "outputs": [
    {
     "data": {
      "text/html": [
       "<div>\n",
       "<style scoped>\n",
       "    .dataframe tbody tr th:only-of-type {\n",
       "        vertical-align: middle;\n",
       "    }\n",
       "\n",
       "    .dataframe tbody tr th {\n",
       "        vertical-align: top;\n",
       "    }\n",
       "\n",
       "    .dataframe thead th {\n",
       "        text-align: right;\n",
       "    }\n",
       "</style>\n",
       "<table border=\"1\" class=\"dataframe\">\n",
       "  <thead>\n",
       "    <tr style=\"text-align: right;\">\n",
       "      <th></th>\n",
       "      <th>0</th>\n",
       "      <th>1</th>\n",
       "      <th>2</th>\n",
       "      <th>3</th>\n",
       "      <th>4</th>\n",
       "      <th>5</th>\n",
       "      <th>6</th>\n",
       "      <th>7</th>\n",
       "      <th>8</th>\n",
       "      <th>9</th>\n",
       "    </tr>\n",
       "  </thead>\n",
       "  <tbody>\n",
       "    <tr>\n",
       "      <th>java</th>\n",
       "      <td>False</td>\n",
       "      <td>False</td>\n",
       "      <td>False</td>\n",
       "      <td>False</td>\n",
       "      <td>True</td>\n",
       "      <td>False</td>\n",
       "      <td>False</td>\n",
       "      <td>False</td>\n",
       "      <td>False</td>\n",
       "      <td>False</td>\n",
       "    </tr>\n",
       "    <tr>\n",
       "      <th>c#</th>\n",
       "      <td>False</td>\n",
       "      <td>False</td>\n",
       "      <td>False</td>\n",
       "      <td>False</td>\n",
       "      <td>False</td>\n",
       "      <td>False</td>\n",
       "      <td>False</td>\n",
       "      <td>False</td>\n",
       "      <td>False</td>\n",
       "      <td>False</td>\n",
       "    </tr>\n",
       "    <tr>\n",
       "      <th>javascript</th>\n",
       "      <td>False</td>\n",
       "      <td>False</td>\n",
       "      <td>False</td>\n",
       "      <td>True</td>\n",
       "      <td>False</td>\n",
       "      <td>False</td>\n",
       "      <td>False</td>\n",
       "      <td>False</td>\n",
       "      <td>False</td>\n",
       "      <td>False</td>\n",
       "    </tr>\n",
       "    <tr>\n",
       "      <th>python</th>\n",
       "      <td>True</td>\n",
       "      <td>False</td>\n",
       "      <td>False</td>\n",
       "      <td>False</td>\n",
       "      <td>False</td>\n",
       "      <td>False</td>\n",
       "      <td>False</td>\n",
       "      <td>False</td>\n",
       "      <td>False</td>\n",
       "      <td>False</td>\n",
       "    </tr>\n",
       "    <tr>\n",
       "      <th>android</th>\n",
       "      <td>False</td>\n",
       "      <td>False</td>\n",
       "      <td>False</td>\n",
       "      <td>False</td>\n",
       "      <td>False</td>\n",
       "      <td>False</td>\n",
       "      <td>False</td>\n",
       "      <td>False</td>\n",
       "      <td>False</td>\n",
       "      <td>False</td>\n",
       "    </tr>\n",
       "    <tr>\n",
       "      <th>c++</th>\n",
       "      <td>False</td>\n",
       "      <td>False</td>\n",
       "      <td>False</td>\n",
       "      <td>False</td>\n",
       "      <td>True</td>\n",
       "      <td>False</td>\n",
       "      <td>False</td>\n",
       "      <td>False</td>\n",
       "      <td>False</td>\n",
       "      <td>False</td>\n",
       "    </tr>\n",
       "    <tr>\n",
       "      <th>ios</th>\n",
       "      <td>False</td>\n",
       "      <td>False</td>\n",
       "      <td>False</td>\n",
       "      <td>False</td>\n",
       "      <td>False</td>\n",
       "      <td>False</td>\n",
       "      <td>False</td>\n",
       "      <td>False</td>\n",
       "      <td>False</td>\n",
       "      <td>False</td>\n",
       "    </tr>\n",
       "    <tr>\n",
       "      <th>html</th>\n",
       "      <td>False</td>\n",
       "      <td>False</td>\n",
       "      <td>False</td>\n",
       "      <td>False</td>\n",
       "      <td>False</td>\n",
       "      <td>False</td>\n",
       "      <td>False</td>\n",
       "      <td>False</td>\n",
       "      <td>False</td>\n",
       "      <td>False</td>\n",
       "    </tr>\n",
       "    <tr>\n",
       "      <th>php</th>\n",
       "      <td>False</td>\n",
       "      <td>False</td>\n",
       "      <td>False</td>\n",
       "      <td>True</td>\n",
       "      <td>False</td>\n",
       "      <td>False</td>\n",
       "      <td>False</td>\n",
       "      <td>False</td>\n",
       "      <td>False</td>\n",
       "      <td>False</td>\n",
       "    </tr>\n",
       "    <tr>\n",
       "      <th>.net</th>\n",
       "      <td>False</td>\n",
       "      <td>False</td>\n",
       "      <td>False</td>\n",
       "      <td>False</td>\n",
       "      <td>False</td>\n",
       "      <td>False</td>\n",
       "      <td>False</td>\n",
       "      <td>False</td>\n",
       "      <td>False</td>\n",
       "      <td>False</td>\n",
       "    </tr>\n",
       "    <tr>\n",
       "      <th>jquery</th>\n",
       "      <td>False</td>\n",
       "      <td>False</td>\n",
       "      <td>False</td>\n",
       "      <td>False</td>\n",
       "      <td>False</td>\n",
       "      <td>False</td>\n",
       "      <td>False</td>\n",
       "      <td>False</td>\n",
       "      <td>False</td>\n",
       "      <td>False</td>\n",
       "    </tr>\n",
       "    <tr>\n",
       "      <th>css</th>\n",
       "      <td>False</td>\n",
       "      <td>False</td>\n",
       "      <td>False</td>\n",
       "      <td>False</td>\n",
       "      <td>False</td>\n",
       "      <td>False</td>\n",
       "      <td>False</td>\n",
       "      <td>False</td>\n",
       "      <td>False</td>\n",
       "      <td>False</td>\n",
       "    </tr>\n",
       "    <tr>\n",
       "      <th>objective-c</th>\n",
       "      <td>False</td>\n",
       "      <td>False</td>\n",
       "      <td>False</td>\n",
       "      <td>False</td>\n",
       "      <td>False</td>\n",
       "      <td>False</td>\n",
       "      <td>False</td>\n",
       "      <td>False</td>\n",
       "      <td>False</td>\n",
       "      <td>False</td>\n",
       "    </tr>\n",
       "    <tr>\n",
       "      <th>c</th>\n",
       "      <td>False</td>\n",
       "      <td>False</td>\n",
       "      <td>False</td>\n",
       "      <td>False</td>\n",
       "      <td>True</td>\n",
       "      <td>False</td>\n",
       "      <td>False</td>\n",
       "      <td>False</td>\n",
       "      <td>False</td>\n",
       "      <td>False</td>\n",
       "    </tr>\n",
       "    <tr>\n",
       "      <th>sql</th>\n",
       "      <td>False</td>\n",
       "      <td>False</td>\n",
       "      <td>True</td>\n",
       "      <td>False</td>\n",
       "      <td>False</td>\n",
       "      <td>False</td>\n",
       "      <td>False</td>\n",
       "      <td>False</td>\n",
       "      <td>False</td>\n",
       "      <td>False</td>\n",
       "    </tr>\n",
       "    <tr>\n",
       "      <th>iphone</th>\n",
       "      <td>False</td>\n",
       "      <td>False</td>\n",
       "      <td>False</td>\n",
       "      <td>False</td>\n",
       "      <td>False</td>\n",
       "      <td>False</td>\n",
       "      <td>False</td>\n",
       "      <td>False</td>\n",
       "      <td>False</td>\n",
       "      <td>False</td>\n",
       "    </tr>\n",
       "    <tr>\n",
       "      <th>asp.net</th>\n",
       "      <td>False</td>\n",
       "      <td>False</td>\n",
       "      <td>False</td>\n",
       "      <td>False</td>\n",
       "      <td>False</td>\n",
       "      <td>False</td>\n",
       "      <td>False</td>\n",
       "      <td>False</td>\n",
       "      <td>False</td>\n",
       "      <td>False</td>\n",
       "    </tr>\n",
       "    <tr>\n",
       "      <th>mysql</th>\n",
       "      <td>False</td>\n",
       "      <td>False</td>\n",
       "      <td>True</td>\n",
       "      <td>False</td>\n",
       "      <td>False</td>\n",
       "      <td>False</td>\n",
       "      <td>False</td>\n",
       "      <td>False</td>\n",
       "      <td>False</td>\n",
       "      <td>False</td>\n",
       "    </tr>\n",
       "    <tr>\n",
       "      <th>linux</th>\n",
       "      <td>False</td>\n",
       "      <td>False</td>\n",
       "      <td>False</td>\n",
       "      <td>False</td>\n",
       "      <td>False</td>\n",
       "      <td>True</td>\n",
       "      <td>False</td>\n",
       "      <td>False</td>\n",
       "      <td>False</td>\n",
       "      <td>False</td>\n",
       "    </tr>\n",
       "    <tr>\n",
       "      <th>node.js</th>\n",
       "      <td>False</td>\n",
       "      <td>False</td>\n",
       "      <td>False</td>\n",
       "      <td>False</td>\n",
       "      <td>False</td>\n",
       "      <td>False</td>\n",
       "      <td>False</td>\n",
       "      <td>False</td>\n",
       "      <td>False</td>\n",
       "      <td>False</td>\n",
       "    </tr>\n",
       "    <tr>\n",
       "      <th>git</th>\n",
       "      <td>False</td>\n",
       "      <td>False</td>\n",
       "      <td>False</td>\n",
       "      <td>False</td>\n",
       "      <td>False</td>\n",
       "      <td>False</td>\n",
       "      <td>False</td>\n",
       "      <td>False</td>\n",
       "      <td>False</td>\n",
       "      <td>False</td>\n",
       "    </tr>\n",
       "  </tbody>\n",
       "</table>\n",
       "</div>"
      ],
      "text/plain": [
       "                 0      1      2      3      4      5      6      7      8  \\\n",
       "java         False  False  False  False   True  False  False  False  False   \n",
       "c#           False  False  False  False  False  False  False  False  False   \n",
       "javascript   False  False  False   True  False  False  False  False  False   \n",
       "python        True  False  False  False  False  False  False  False  False   \n",
       "android      False  False  False  False  False  False  False  False  False   \n",
       "c++          False  False  False  False   True  False  False  False  False   \n",
       "ios          False  False  False  False  False  False  False  False  False   \n",
       "html         False  False  False  False  False  False  False  False  False   \n",
       "php          False  False  False   True  False  False  False  False  False   \n",
       ".net         False  False  False  False  False  False  False  False  False   \n",
       "jquery       False  False  False  False  False  False  False  False  False   \n",
       "css          False  False  False  False  False  False  False  False  False   \n",
       "objective-c  False  False  False  False  False  False  False  False  False   \n",
       "c            False  False  False  False   True  False  False  False  False   \n",
       "sql          False  False   True  False  False  False  False  False  False   \n",
       "iphone       False  False  False  False  False  False  False  False  False   \n",
       "asp.net      False  False  False  False  False  False  False  False  False   \n",
       "mysql        False  False   True  False  False  False  False  False  False   \n",
       "linux        False  False  False  False  False   True  False  False  False   \n",
       "node.js      False  False  False  False  False  False  False  False  False   \n",
       "git          False  False  False  False  False  False  False  False  False   \n",
       "\n",
       "                 9  \n",
       "java         False  \n",
       "c#           False  \n",
       "javascript   False  \n",
       "python       False  \n",
       "android      False  \n",
       "c++          False  \n",
       "ios          False  \n",
       "html         False  \n",
       "php          False  \n",
       ".net         False  \n",
       "jquery       False  \n",
       "css          False  \n",
       "objective-c  False  \n",
       "c            False  \n",
       "sql          False  \n",
       "iphone       False  \n",
       "asp.net      False  \n",
       "mysql        False  \n",
       "linux        False  \n",
       "node.js      False  \n",
       "git          False  "
      ]
     },
     "execution_count": 21,
     "metadata": {},
     "output_type": "execute_result"
    }
   ],
   "source": [
    "test_str = X_test.str\n",
    "pred_is_in = pd.DataFrame(\n",
    "    {\n",
    "        target_name: test_str.contains(\n",
    "            f\" {target_name} \", case=False, regex=False\n",
    "        ).values\n",
    "        for target_name in target_names\n",
    "    }\n",
    ")\n",
    "pred_is_in.head(10).T"
   ]
  },
  {
   "cell_type": "code",
   "execution_count": 22,
   "id": "89ec4405",
   "metadata": {
    "_kg_hide-input": false,
    "_kg_hide-output": true,
    "execution": {
     "iopub.execute_input": "2023-01-21T12:32:16.255879Z",
     "iopub.status.busy": "2023-01-21T12:32:16.255577Z",
     "iopub.status.idle": "2023-01-21T12:32:16.330111Z",
     "shell.execute_reply": "2023-01-21T12:32:16.328978Z"
    },
    "papermill": {
     "duration": 0.097306,
     "end_time": "2023-01-21T12:32:16.332675",
     "exception": false,
     "start_time": "2023-01-21T12:32:16.235369",
     "status": "completed"
    },
    "tags": []
   },
   "outputs": [
    {
     "data": {
      "text/html": [
       "<div>\n",
       "<style scoped>\n",
       "    .dataframe tbody tr th:only-of-type {\n",
       "        vertical-align: middle;\n",
       "    }\n",
       "\n",
       "    .dataframe tbody tr th {\n",
       "        vertical-align: top;\n",
       "    }\n",
       "\n",
       "    .dataframe thead th {\n",
       "        text-align: right;\n",
       "    }\n",
       "</style>\n",
       "<table border=\"1\" class=\"dataframe\">\n",
       "  <thead>\n",
       "    <tr style=\"text-align: right;\">\n",
       "      <th></th>\n",
       "      <th>precision</th>\n",
       "      <th>recall</th>\n",
       "      <th>f1-score</th>\n",
       "      <th>support</th>\n",
       "    </tr>\n",
       "  </thead>\n",
       "  <tbody>\n",
       "    <tr>\n",
       "      <th>git</th>\n",
       "      <td>0.716846</td>\n",
       "      <td>0.729927</td>\n",
       "      <td>0.723327</td>\n",
       "      <td>274.0</td>\n",
       "    </tr>\n",
       "    <tr>\n",
       "      <th>mysql</th>\n",
       "      <td>0.723949</td>\n",
       "      <td>0.578102</td>\n",
       "      <td>0.642857</td>\n",
       "      <td>685.0</td>\n",
       "    </tr>\n",
       "    <tr>\n",
       "      <th>python</th>\n",
       "      <td>0.878273</td>\n",
       "      <td>0.475115</td>\n",
       "      <td>0.616646</td>\n",
       "      <td>2612.0</td>\n",
       "    </tr>\n",
       "    <tr>\n",
       "      <th>php</th>\n",
       "      <td>0.827292</td>\n",
       "      <td>0.476951</td>\n",
       "      <td>0.605068</td>\n",
       "      <td>1627.0</td>\n",
       "    </tr>\n",
       "    <tr>\n",
       "      <th>android</th>\n",
       "      <td>0.851163</td>\n",
       "      <td>0.447433</td>\n",
       "      <td>0.586538</td>\n",
       "      <td>2045.0</td>\n",
       "    </tr>\n",
       "    <tr>\n",
       "      <th>jquery</th>\n",
       "      <td>0.796804</td>\n",
       "      <td>0.453836</td>\n",
       "      <td>0.578293</td>\n",
       "      <td>1538.0</td>\n",
       "    </tr>\n",
       "    <tr>\n",
       "      <th>css</th>\n",
       "      <td>0.714670</td>\n",
       "      <td>0.469496</td>\n",
       "      <td>0.566702</td>\n",
       "      <td>1131.0</td>\n",
       "    </tr>\n",
       "    <tr>\n",
       "      <th>c++</th>\n",
       "      <td>0.805702</td>\n",
       "      <td>0.388493</td>\n",
       "      <td>0.524218</td>\n",
       "      <td>1964.0</td>\n",
       "    </tr>\n",
       "    <tr>\n",
       "      <th>java</th>\n",
       "      <td>0.766089</td>\n",
       "      <td>0.347948</td>\n",
       "      <td>0.478547</td>\n",
       "      <td>3558.0</td>\n",
       "    </tr>\n",
       "    <tr>\n",
       "      <th>linux</th>\n",
       "      <td>0.458265</td>\n",
       "      <td>0.411765</td>\n",
       "      <td>0.433772</td>\n",
       "      <td>680.0</td>\n",
       "    </tr>\n",
       "    <tr>\n",
       "      <th>micro avg</th>\n",
       "      <td>0.642411</td>\n",
       "      <td>0.326746</td>\n",
       "      <td>0.433171</td>\n",
       "      <td>33044.0</td>\n",
       "    </tr>\n",
       "    <tr>\n",
       "      <th>macro avg</th>\n",
       "      <td>0.604087</td>\n",
       "      <td>0.360648</td>\n",
       "      <td>0.429556</td>\n",
       "      <td>33044.0</td>\n",
       "    </tr>\n",
       "    <tr>\n",
       "      <th>sql</th>\n",
       "      <td>0.412766</td>\n",
       "      <td>0.445977</td>\n",
       "      <td>0.428729</td>\n",
       "      <td>870.0</td>\n",
       "    </tr>\n",
       "    <tr>\n",
       "      <th>html</th>\n",
       "      <td>0.481022</td>\n",
       "      <td>0.375499</td>\n",
       "      <td>0.421760</td>\n",
       "      <td>1755.0</td>\n",
       "    </tr>\n",
       "    <tr>\n",
       "      <th>weighted avg</th>\n",
       "      <td>0.618122</td>\n",
       "      <td>0.326746</td>\n",
       "      <td>0.413810</td>\n",
       "      <td>33044.0</td>\n",
       "    </tr>\n",
       "    <tr>\n",
       "      <th>asp.net</th>\n",
       "      <td>0.524096</td>\n",
       "      <td>0.324224</td>\n",
       "      <td>0.400614</td>\n",
       "      <td>805.0</td>\n",
       "    </tr>\n",
       "    <tr>\n",
       "      <th>iphone</th>\n",
       "      <td>0.578947</td>\n",
       "      <td>0.299876</td>\n",
       "      <td>0.395102</td>\n",
       "      <td>807.0</td>\n",
       "    </tr>\n",
       "    <tr>\n",
       "      <th>javascript</th>\n",
       "      <td>0.766812</td>\n",
       "      <td>0.261621</td>\n",
       "      <td>0.390136</td>\n",
       "      <td>3356.0</td>\n",
       "    </tr>\n",
       "    <tr>\n",
       "      <th>ios</th>\n",
       "      <td>0.768456</td>\n",
       "      <td>0.248913</td>\n",
       "      <td>0.376026</td>\n",
       "      <td>1840.0</td>\n",
       "    </tr>\n",
       "    <tr>\n",
       "      <th>.net</th>\n",
       "      <td>0.536657</td>\n",
       "      <td>0.233270</td>\n",
       "      <td>0.325189</td>\n",
       "      <td>1569.0</td>\n",
       "    </tr>\n",
       "    <tr>\n",
       "      <th>c</th>\n",
       "      <td>0.205295</td>\n",
       "      <td>0.464407</td>\n",
       "      <td>0.284725</td>\n",
       "      <td>885.0</td>\n",
       "    </tr>\n",
       "    <tr>\n",
       "      <th>samples avg</th>\n",
       "      <td>0.283512</td>\n",
       "      <td>0.263238</td>\n",
       "      <td>0.262590</td>\n",
       "      <td>33044.0</td>\n",
       "    </tr>\n",
       "    <tr>\n",
       "      <th>node.js</th>\n",
       "      <td>0.872727</td>\n",
       "      <td>0.140762</td>\n",
       "      <td>0.242424</td>\n",
       "      <td>682.0</td>\n",
       "    </tr>\n",
       "    <tr>\n",
       "      <th>c#</th>\n",
       "      <td>0.000000</td>\n",
       "      <td>0.000000</td>\n",
       "      <td>0.000000</td>\n",
       "      <td>3473.0</td>\n",
       "    </tr>\n",
       "    <tr>\n",
       "      <th>objective-c</th>\n",
       "      <td>0.000000</td>\n",
       "      <td>0.000000</td>\n",
       "      <td>0.000000</td>\n",
       "      <td>888.0</td>\n",
       "    </tr>\n",
       "  </tbody>\n",
       "</table>\n",
       "</div>"
      ],
      "text/plain": [
       "              precision    recall  f1-score  support\n",
       "git            0.716846  0.729927  0.723327    274.0\n",
       "mysql          0.723949  0.578102  0.642857    685.0\n",
       "python         0.878273  0.475115  0.616646   2612.0\n",
       "php            0.827292  0.476951  0.605068   1627.0\n",
       "android        0.851163  0.447433  0.586538   2045.0\n",
       "jquery         0.796804  0.453836  0.578293   1538.0\n",
       "css            0.714670  0.469496  0.566702   1131.0\n",
       "c++            0.805702  0.388493  0.524218   1964.0\n",
       "java           0.766089  0.347948  0.478547   3558.0\n",
       "linux          0.458265  0.411765  0.433772    680.0\n",
       "micro avg      0.642411  0.326746  0.433171  33044.0\n",
       "macro avg      0.604087  0.360648  0.429556  33044.0\n",
       "sql            0.412766  0.445977  0.428729    870.0\n",
       "html           0.481022  0.375499  0.421760   1755.0\n",
       "weighted avg   0.618122  0.326746  0.413810  33044.0\n",
       "asp.net        0.524096  0.324224  0.400614    805.0\n",
       "iphone         0.578947  0.299876  0.395102    807.0\n",
       "javascript     0.766812  0.261621  0.390136   3356.0\n",
       "ios            0.768456  0.248913  0.376026   1840.0\n",
       ".net           0.536657  0.233270  0.325189   1569.0\n",
       "c              0.205295  0.464407  0.284725    885.0\n",
       "samples avg    0.283512  0.263238  0.262590  33044.0\n",
       "node.js        0.872727  0.140762  0.242424    682.0\n",
       "c#             0.000000  0.000000  0.000000   3473.0\n",
       "objective-c    0.000000  0.000000  0.000000    888.0"
      ]
     },
     "execution_count": 22,
     "metadata": {},
     "output_type": "execute_result"
    }
   ],
   "source": [
    "score_naive_is_in = p5_nlp_utils.Commun.save_score(\n",
    "    y_test, pred_is_in, target_names, \"naive_is_in\"\n",
    ")\n",
    "score_naive_is_in.sort_values(by=\"f1-score\", ascending=False)"
   ]
  },
  {
   "cell_type": "markdown",
   "id": "c2cbd9a6",
   "metadata": {
    "papermill": {
     "duration": 0.019172,
     "end_time": "2023-01-21T12:32:16.371720",
     "exception": false,
     "start_time": "2023-01-21T12:32:16.352548",
     "status": "completed"
    },
    "tags": []
   },
   "source": [
    "# CountVectorizer"
   ]
  },
  {
   "cell_type": "code",
   "execution_count": 23,
   "id": "070f74d9",
   "metadata": {
    "execution": {
     "iopub.execute_input": "2023-01-21T12:32:16.412183Z",
     "iopub.status.busy": "2023-01-21T12:32:16.411611Z",
     "iopub.status.idle": "2023-01-21T12:32:20.846498Z",
     "shell.execute_reply": "2023-01-21T12:32:20.845329Z"
    },
    "papermill": {
     "duration": 4.457667,
     "end_time": "2023-01-21T12:32:20.848774",
     "exception": false,
     "start_time": "2023-01-21T12:32:16.391107",
     "status": "completed"
    },
    "tags": []
   },
   "outputs": [
    {
     "name": "stdout",
     "output_type": "stream",
     "text": [
      "\n",
      "******************************\n",
      " pour min_df:1e-05; max_df:0.995\n",
      "\ttokens unique:\n",
      "\t\t53999 dans title et body regroupé\n"
     ]
    }
   ],
   "source": [
    "best_min_df = description[\"CountVectorizer\"][\"min_df\"]\n",
    "best_max_df = description[\"CountVectorizer\"][\"max_df\"]\n",
    "for min_df in [0.01, 0.05, 0.005, 0.0005, 0.00001] if LONG else [best_min_df]:\n",
    "    for max_df in [0.95, 0.995, 0.9995] if LONG else [best_max_df]:\n",
    "        print(f\"\\n{'*'*30}\\n pour min_df:{min_df}; max_df:{max_df}\")\n",
    "        count_vectorizer = feature_extraction.text.CountVectorizer(\n",
    "            min_df=min_df, max_df=max_df, max_features=None\n",
    "        )\n",
    "        #         pipe = pipeline.make_pipeline(feature_extraction.text.CountVectorizer(min_df=min_df, max_df=max_df, max_features=None), feature_extraction.text.TfidfTransformer( norm=\"l2\", use_idf=True, smooth_idf=True, sublinear_tf=False))\n",
    "        #         feat_train = pipe.transform(X_train[\"Token\"])\n",
    "        #         print(feat_train.shape)\n",
    "\n",
    "        token_vectors = count_vectorizer.fit_transform(df[\"Token\"])\n",
    "        print(\n",
    "            f\"\\ttokens unique:\\n\\t\\t{token_vectors.shape[1]} dans title et body regroupé\"\n",
    "        )"
   ]
  },
  {
   "cell_type": "markdown",
   "id": "05495808",
   "metadata": {
    "papermill": {
     "duration": 0.019656,
     "end_time": "2023-01-21T12:32:20.888599",
     "exception": false,
     "start_time": "2023-01-21T12:32:20.868943",
     "status": "completed"
    },
    "tags": []
   },
   "source": [
    "### Test reduction dimension\n",
    "avec n_components=1_000 : 10% de la variance éxpliqué\n"
   ]
  },
  {
   "cell_type": "code",
   "execution_count": 24,
   "id": "ee7fec6c",
   "metadata": {
    "execution": {
     "iopub.execute_input": "2023-01-21T12:32:20.930635Z",
     "iopub.status.busy": "2023-01-21T12:32:20.929130Z",
     "iopub.status.idle": "2023-01-21T12:32:20.967800Z",
     "shell.execute_reply": "2023-01-21T12:32:20.966799Z"
    },
    "papermill": {
     "duration": 0.061553,
     "end_time": "2023-01-21T12:32:20.969791",
     "exception": false,
     "start_time": "2023-01-21T12:32:20.908238",
     "status": "completed"
    },
    "tags": []
   },
   "outputs": [
    {
     "name": "stdout",
     "output_type": "stream",
     "text": [
      "CPU times: user 4 µs, sys: 0 ns, total: 4 µs\n",
      "Wall time: 7.39 µs\n"
     ]
    }
   ],
   "source": [
    "%%time\n",
    "if LONG:\n",
    "    truncSvd = decomposition.TruncatedSVD(n_components=1000).fit(\n",
    "        preprocessing.StandardScaler(with_mean=False).fit_transform(token_vectors)\n",
    "    )\n",
    "    plt.figure(figsize=(30, 15))\n",
    "    scree = truncSvd.explained_variance_ratio_ * 100\n",
    "    plt.bar(np.arange(len(scree)) + 1, scree)\n",
    "    plt.plot(np.arange(len(scree)) + 1, scree.cumsum(), c=\"red\", marker=\"o\")\n",
    "    plt.xlabel(\"rang de l'axe d'inertie\")\n",
    "    plt.ylabel(\"pourcentage variance expliquée\")\n",
    "    plt.title(\"Eboulis des valeurs propres\")\n",
    "    plt.show()"
   ]
  },
  {
   "cell_type": "markdown",
   "id": "6cf78b7f",
   "metadata": {
    "papermill": {
     "duration": 0.019753,
     "end_time": "2023-01-21T12:32:21.009721",
     "exception": false,
     "start_time": "2023-01-21T12:32:20.989968",
     "status": "completed"
    },
    "tags": []
   },
   "source": [
    "# PreprocessPipeline"
   ]
  },
  {
   "cell_type": "code",
   "execution_count": 25,
   "id": "05ab6014",
   "metadata": {
    "execution": {
     "iopub.execute_input": "2023-01-21T12:32:21.050345Z",
     "iopub.status.busy": "2023-01-21T12:32:21.050067Z",
     "iopub.status.idle": "2023-01-21T12:32:21.101089Z",
     "shell.execute_reply": "2023-01-21T12:32:21.100242Z"
    },
    "papermill": {
     "duration": 0.073824,
     "end_time": "2023-01-21T12:32:21.103074",
     "exception": false,
     "start_time": "2023-01-21T12:32:21.029250",
     "status": "completed"
    },
    "tags": []
   },
   "outputs": [],
   "source": [
    "pipeline_tfidf = pipeline.Pipeline(\n",
    "    [\n",
    "        (\n",
    "            \"count\",\n",
    "            feature_extraction.text.CountVectorizer(\n",
    "                min_df=best_min_df, max_df=best_max_df, max_features=None\n",
    "            ),\n",
    "        ),\n",
    "        (\n",
    "            \"tfidf\",\n",
    "            feature_extraction.text.TfidfTransformer(\n",
    "                norm=\"l2\", use_idf=True, smooth_idf=True, sublinear_tf=False\n",
    "            ),\n",
    "        ),\n",
    "        (\n",
    "            \"scale\",\n",
    "            preprocessing.StandardScaler(with_mean=False)\n",
    "            if description[\"StandardScaler\"][\"actif\"]\n",
    "            else \"passthrough\",\n",
    "        ),\n",
    "        (\n",
    "            \"dimReduction\",\n",
    "            decomposition.TruncatedSVD(\n",
    "                n_components=description[\"TruncatedSVD\"][\"n_components\"]\n",
    "            )\n",
    "            if description[\"TruncatedSVD\"][\"actif\"]\n",
    "            else \"passthrough\",\n",
    "        ),\n",
    "    ]\n",
    ")\n",
    "## @TODO cache\n",
    "# memory = joblib.Memory(location=\"/kaggle/working/cache_dir\", verbose=0)\n",
    "# pipeline_tfidf = memory.cache(pipeline_tfidf)"
   ]
  },
  {
   "cell_type": "markdown",
   "id": "7b17dcb8",
   "metadata": {
    "papermill": {
     "duration": 0.020214,
     "end_time": "2023-01-21T12:32:21.143392",
     "exception": false,
     "start_time": "2023-01-21T12:32:21.123178",
     "status": "completed"
    },
    "tags": []
   },
   "source": [
    "# OvsRest"
   ]
  },
  {
   "cell_type": "markdown",
   "id": "b1c63847",
   "metadata": {
    "papermill": {
     "duration": 0.019992,
     "end_time": "2023-01-21T12:32:21.182982",
     "exception": false,
     "start_time": "2023-01-21T12:32:21.162990",
     "status": "completed"
    },
    "tags": []
   },
   "source": [
    "## LogisticRegression"
   ]
  },
  {
   "cell_type": "code",
   "execution_count": 26,
   "id": "9202fa74",
   "metadata": {
    "execution": {
     "iopub.execute_input": "2023-01-21T12:32:21.225148Z",
     "iopub.status.busy": "2023-01-21T12:32:21.224377Z",
     "iopub.status.idle": "2023-01-21T12:32:21.264261Z",
     "shell.execute_reply": "2023-01-21T12:32:21.263236Z"
    },
    "papermill": {
     "duration": 0.063042,
     "end_time": "2023-01-21T12:32:21.266639",
     "exception": false,
     "start_time": "2023-01-21T12:32:21.203597",
     "status": "completed"
    },
    "tags": []
   },
   "outputs": [
    {
     "name": "stdout",
     "output_type": "stream",
     "text": [
      "CPU times: user 4 µs, sys: 1 µs, total: 5 µs\n",
      "Wall time: 7.63 µs\n"
     ]
    }
   ],
   "source": [
    "%%time\n",
    "if description[\"LogisticRegression\"][\"actif\"]:\n",
    "    pipeline_logisticReg = pipeline.Pipeline(\n",
    "        [\n",
    "            (\"tfidf\", pipeline_tfidf),\n",
    "            (\n",
    "                \"OvRLogisticReg\",\n",
    "                multiclass.OneVsRestClassifier(\n",
    "                    linear_model.LogisticRegression(random_state=42)\n",
    "                ),\n",
    "            ),\n",
    "        ]\n",
    "    )\n",
    "    with ignore_warnings(category=exceptions.ConvergenceWarning):\n",
    "        pipeline_logisticReg.fit(X_train, y_train)\n",
    "\n",
    "    # prediction sur jeu de test\n",
    "    pred_lr = pipeline_logisticReg.predict(X_test)\n",
    "    scores_lr = p5_nlp_utils.Commun.save_score(\n",
    "        y_test, pred_lr, target_names, \"LogisticRegression\"\n",
    "    )\n",
    "\n",
    "    # enregistrement model et score\n",
    "    joblib.dump(pipeline_logisticReg, \"LogisticRegression_model.joblib\")\n",
    "    scores_lr.sort_values(by=\"f1-score\", ascending=False)"
   ]
  },
  {
   "cell_type": "markdown",
   "id": "32a88b5f",
   "metadata": {
    "papermill": {
     "duration": 0.019521,
     "end_time": "2023-01-21T12:32:21.305889",
     "exception": false,
     "start_time": "2023-01-21T12:32:21.286368",
     "status": "completed"
    },
    "tags": []
   },
   "source": [
    "## SVC"
   ]
  },
  {
   "cell_type": "code",
   "execution_count": 27,
   "id": "297ca27c",
   "metadata": {
    "execution": {
     "iopub.execute_input": "2023-01-21T12:32:21.346471Z",
     "iopub.status.busy": "2023-01-21T12:32:21.346216Z",
     "iopub.status.idle": "2023-01-21T12:32:21.372084Z",
     "shell.execute_reply": "2023-01-21T12:32:21.371248Z"
    },
    "papermill": {
     "duration": 0.048726,
     "end_time": "2023-01-21T12:32:21.374206",
     "exception": false,
     "start_time": "2023-01-21T12:32:21.325480",
     "status": "completed"
    },
    "tags": []
   },
   "outputs": [],
   "source": [
    "pipeline_svc = pipeline.Pipeline(\n",
    "    [\n",
    "        (\"tfidf\", pipeline_tfidf),\n",
    "        (\n",
    "            \"TfidfOvRSVC\",\n",
    "            multiclass.OneVsRestClassifier(\n",
    "                svm.SVC(\n",
    "                    cache_size=1080,\n",
    "                    max_iter=description[\"TfidfOvRSVC\"][\"max_iter\"],\n",
    "                    random_state=42,\n",
    "                )\n",
    "            ),\n",
    "        ),\n",
    "    ]\n",
    ")"
   ]
  },
  {
   "cell_type": "code",
   "execution_count": 28,
   "id": "a305079e",
   "metadata": {
    "execution": {
     "iopub.execute_input": "2023-01-21T12:32:21.416077Z",
     "iopub.status.busy": "2023-01-21T12:32:21.415305Z",
     "iopub.status.idle": "2023-01-21T12:32:21.448601Z",
     "shell.execute_reply": "2023-01-21T12:32:21.447704Z"
    },
    "papermill": {
     "duration": 0.056293,
     "end_time": "2023-01-21T12:32:21.450612",
     "exception": false,
     "start_time": "2023-01-21T12:32:21.394319",
     "status": "completed"
    },
    "tags": []
   },
   "outputs": [
    {
     "name": "stdout",
     "output_type": "stream",
     "text": [
      "CPU times: user 4 µs, sys: 0 ns, total: 4 µs\n",
      "Wall time: 7.39 µs\n"
     ]
    }
   ],
   "source": [
    "%%time\n",
    "if description[\"TfidfOvRSVC\"][\"actif\"]:\n",
    "    with ignore_warnings(category=exceptions.ConvergenceWarning):\n",
    "        pipeline_svc.fit(\n",
    "            X_train,\n",
    "            y_train,\n",
    "        )\n",
    "    print(\"Fin entrainement début prédiction\")\n",
    "    pred_svc = pipeline_svc.predict(X_test)\n",
    "    #     print(pred_svc)\n",
    "    print(\"Enregistrement score et modéle\")\n",
    "    scores_svc = p5_nlp_utils.Commun.save_score(\n",
    "        y_test, pred_svc, target_names, \"TfidfOvRSVC\"\n",
    "    )\n",
    "    joblib.dump(pipeline_svc, \"TfidfOvRestSvc_model.joblib\")\n",
    "    print(scores_svc.sort_values(by=\"f1-score\", ascending=False))"
   ]
  },
  {
   "cell_type": "markdown",
   "id": "949f919d",
   "metadata": {
    "papermill": {
     "duration": 0.019634,
     "end_time": "2023-01-21T12:32:21.489901",
     "exception": false,
     "start_time": "2023-01-21T12:32:21.470267",
     "status": "completed"
    },
    "tags": []
   },
   "source": [
    "# Word2Vec"
   ]
  },
  {
   "cell_type": "markdown",
   "id": "fa793364",
   "metadata": {
    "papermill": {
     "duration": 0.019727,
     "end_time": "2023-01-21T12:32:21.529393",
     "exception": false,
     "start_time": "2023-01-21T12:32:21.509666",
     "status": "completed"
    },
    "tags": []
   },
   "source": [
    "## Keras Model"
   ]
  },
  {
   "cell_type": "code",
   "execution_count": 29,
   "id": "1360b2a4",
   "metadata": {
    "execution": {
     "iopub.execute_input": "2023-01-21T12:32:21.570684Z",
     "iopub.status.busy": "2023-01-21T12:32:21.569934Z",
     "iopub.status.idle": "2023-01-21T12:32:21.599072Z",
     "shell.execute_reply": "2023-01-21T12:32:21.597724Z"
    },
    "papermill": {
     "duration": 0.05192,
     "end_time": "2023-01-21T12:32:21.601164",
     "exception": false,
     "start_time": "2023-01-21T12:32:21.549244",
     "status": "completed"
    },
    "tags": []
   },
   "outputs": [
    {
     "name": "stdout",
     "output_type": "stream",
     "text": [
      "CPU times: user 4 µs, sys: 0 ns, total: 4 µs\n",
      "Wall time: 6.91 µs\n"
     ]
    }
   ],
   "source": [
    "%%time\n",
    "if description[\"kerasPipeline\"][\"actif\"]:\n",
    "    print(description[\"kerasPipeline\"])\n",
    "    ## https://www.tensorflow.org/api_docs/python/tf/keras/layers/TextVectorization\n",
    "    # because https://www.tensorflow.org/api_docs/python/tf/keras/preprocessing/text/Tokenizer deprecaded\n",
    "    vectorize_layer = tf.keras.layers.TextVectorization(\n",
    "        max_tokens=description[\"kerasPipeline\"][\"TextVectorization__max_tokens\"],\n",
    "        standardize=\"lower_and_strip_punctuation\",\n",
    "        split=\"whitespace\",\n",
    "        ngrams=None,\n",
    "        output_mode=\"int\",\n",
    "        output_sequence_length=description[\"kerasPipeline\"][\n",
    "            \"TextVectorization__output_sequence_length\"\n",
    "        ],\n",
    "    )\n",
    "    vectorize_layer.adapt(X_train)"
   ]
  },
  {
   "cell_type": "code",
   "execution_count": 30,
   "id": "3ec5b39e",
   "metadata": {
    "execution": {
     "iopub.execute_input": "2023-01-21T12:32:21.642006Z",
     "iopub.status.busy": "2023-01-21T12:32:21.641709Z",
     "iopub.status.idle": "2023-01-21T12:32:21.660589Z",
     "shell.execute_reply": "2023-01-21T12:32:21.659609Z"
    },
    "papermill": {
     "duration": 0.041647,
     "end_time": "2023-01-21T12:32:21.662744",
     "exception": false,
     "start_time": "2023-01-21T12:32:21.621097",
     "status": "completed"
    },
    "tags": []
   },
   "outputs": [
    {
     "name": "stdout",
     "output_type": "stream",
     "text": [
      "CPU times: user 3 µs, sys: 0 ns, total: 3 µs\n",
      "Wall time: 6.91 µs\n"
     ]
    }
   ],
   "source": [
    "%%time\n",
    "if description[\"kerasPipeline\"][\"actif\"]:\n",
    "    model_vectors = p5_nlp_utils.Word2Vec.build_Word2Vec(\n",
    "        X_train, description[\"kerasPipeline\"]\n",
    "    )\n",
    "    print(\n",
    "        f\"{len(vectorize_layer.get_vocabulary())} {len(model_vectors.index_to_key)} {len(vectorize_layer.get_vocabulary())/len(model_vectors.index_to_key):.2%}\"\n",
    "    )\n",
    "# embedding_matrix, vocab_size = create_embeding(\n",
    "#    vectorize_layer.get_vocabulary(), build_Word2Vec(X_train, description[\"kerasPipeline\"]), params=description[\"kerasPipeline\"]\n",
    "# )"
   ]
  },
  {
   "cell_type": "markdown",
   "id": "614a1193",
   "metadata": {
    "papermill": {
     "duration": 0.02037,
     "end_time": "2023-01-21T12:32:21.703353",
     "exception": false,
     "start_time": "2023-01-21T12:32:21.682983",
     "status": "completed"
    },
    "tags": []
   },
   "source": [
    "if description[\"kerasPipeline\"][\"actif\"] and description[\"kerasPipeline\"][\"tsne\"]:\n",
    "    X_tsne_word2vec =  p5_nlp_utils.Commun.calcul_tsne(X_train_use)\n",
    "    p5_nlp_utils.Commun.visu_tsne(\n",
    "        X_tsne_word2vec,\n",
    "        tag_list=[\n",
    "            \"java\",\n",
    "            \"c#\",\n",
    "            \"python\",\n",
    "            \"android\",\n",
    "            \"php\",\n",
    "            \"javascript\",\n",
    "            \"jquery\",\n",
    "            \"git\",\n",
    "        ],\n",
    "    )"
   ]
  },
  {
   "cell_type": "code",
   "execution_count": 31,
   "id": "7871b5cb",
   "metadata": {
    "execution": {
     "iopub.execute_input": "2023-01-21T12:32:21.744549Z",
     "iopub.status.busy": "2023-01-21T12:32:21.744270Z",
     "iopub.status.idle": "2023-01-21T12:32:21.771489Z",
     "shell.execute_reply": "2023-01-21T12:32:21.770233Z"
    },
    "papermill": {
     "duration": 0.050203,
     "end_time": "2023-01-21T12:32:21.773429",
     "exception": false,
     "start_time": "2023-01-21T12:32:21.723226",
     "status": "completed"
    },
    "tags": []
   },
   "outputs": [
    {
     "name": "stdout",
     "output_type": "stream",
     "text": [
      "CPU times: user 3 µs, sys: 0 ns, total: 3 µs\n",
      "Wall time: 6.91 µs\n"
     ]
    }
   ],
   "source": [
    "%%time\n",
    "# @TODO p5_nlp_utils.Word2Vec.get_embedding(model_vectors, vocabulary, params)\n",
    "if description[\"kerasPipeline\"][\"actif\"]:\n",
    "    print(\"Create Embedding matrix ...\")\n",
    "    embedding_matrix = np.asarray(\n",
    "        [\n",
    "            model_vectors[word]\n",
    "            if word in model_vectors.index_to_key\n",
    "            else np.zeros(description[\"kerasPipeline\"][\"Embedding__output_dim\"])\n",
    "            for word in vectorize_layer.get_vocabulary()\n",
    "        ]\n",
    "    )\n",
    "    embedding_matrix.shape"
   ]
  },
  {
   "cell_type": "code",
   "execution_count": 32,
   "id": "5b469530",
   "metadata": {
    "execution": {
     "iopub.execute_input": "2023-01-21T12:32:21.815084Z",
     "iopub.status.busy": "2023-01-21T12:32:21.814317Z",
     "iopub.status.idle": "2023-01-21T12:32:21.863376Z",
     "shell.execute_reply": "2023-01-21T12:32:21.862582Z"
    },
    "papermill": {
     "duration": 0.071913,
     "end_time": "2023-01-21T12:32:21.865348",
     "exception": false,
     "start_time": "2023-01-21T12:32:21.793435",
     "status": "completed"
    },
    "tags": []
   },
   "outputs": [],
   "source": [
    "# https://www.tensorflow.org/text/guide/word_embeddings\n",
    "if description[\"kerasPipeline\"][\"actif\"]:\n",
    "    modelkerasPipeline = tf.keras.models.Sequential(\n",
    "        [\n",
    "            vectorize_layer,\n",
    "            tf.keras.layers.Embedding(\n",
    "                input_dim=len(vectorize_layer.get_vocabulary()),\n",
    "                output_dim=description[\"kerasPipeline\"][\"Embedding__output_dim\"],\n",
    "                weights=[embedding_matrix],\n",
    "                input_length=description[\"kerasPipeline\"][\n",
    "                    \"TextVectorization__output_sequence_length\"\n",
    "                ],\n",
    "            ),\n",
    "            tf.keras.layers.GlobalAveragePooling1D(),\n",
    "            tf.keras.layers.Dense(16, activation=\"relu\"),\n",
    "            tf.keras.layers.Dense(21),\n",
    "        ]\n",
    "    )\n",
    "    # tensorboard_callback = tf.keras.callbacks.TensorBoard(log_dir=\"logs\") # for log create a dir\n",
    "    modelkerasPipeline.compile(\n",
    "        optimizer=\"adam\",\n",
    "        loss=tf.keras.losses.BinaryCrossentropy(from_logits=True),\n",
    "        metrics=[\"accuracy\"],\n",
    "    )"
   ]
  },
  {
   "cell_type": "code",
   "execution_count": 33,
   "id": "f15f0389",
   "metadata": {
    "execution": {
     "iopub.execute_input": "2023-01-21T12:32:21.906825Z",
     "iopub.status.busy": "2023-01-21T12:32:21.906064Z",
     "iopub.status.idle": "2023-01-21T12:32:21.922059Z",
     "shell.execute_reply": "2023-01-21T12:32:21.921027Z"
    },
    "papermill": {
     "duration": 0.038685,
     "end_time": "2023-01-21T12:32:21.924005",
     "exception": false,
     "start_time": "2023-01-21T12:32:21.885320",
     "status": "completed"
    },
    "tags": []
   },
   "outputs": [
    {
     "name": "stdout",
     "output_type": "stream",
     "text": [
      "CPU times: user 4 µs, sys: 1 µs, total: 5 µs\n",
      "Wall time: 7.15 µs\n"
     ]
    }
   ],
   "source": [
    "%%time\n",
    "if description[\"kerasPipeline\"][\"actif\"]:\n",
    "    modelkerasPipeline.fit(\n",
    "        X_train,\n",
    "        y_train,\n",
    "        epochs=description[\"kerasPipeline\"][\"fit__epochs\"],\n",
    "        # callbacks=[tensorboard_callback],\n",
    "    )"
   ]
  },
  {
   "cell_type": "code",
   "execution_count": 34,
   "id": "4c3df439",
   "metadata": {
    "execution": {
     "iopub.execute_input": "2023-01-21T12:32:21.966954Z",
     "iopub.status.busy": "2023-01-21T12:32:21.965381Z",
     "iopub.status.idle": "2023-01-21T12:32:21.990906Z",
     "shell.execute_reply": "2023-01-21T12:32:21.989933Z"
    },
    "papermill": {
     "duration": 0.048394,
     "end_time": "2023-01-21T12:32:21.992855",
     "exception": false,
     "start_time": "2023-01-21T12:32:21.944461",
     "status": "completed"
    },
    "tags": []
   },
   "outputs": [
    {
     "name": "stdout",
     "output_type": "stream",
     "text": [
      "CPU times: user 4 µs, sys: 0 ns, total: 4 µs\n",
      "Wall time: 6.44 µs\n"
     ]
    }
   ],
   "source": [
    "%%time\n",
    "if description[\"kerasPipeline\"][\"actif\"]:\n",
    "    pred_kerasword2vec_proba = modelkerasPipeline.predict(X_test)\n",
    "    #     print(pred_kerasword2vec_proba)\n",
    "    pred_kerasword2vec = pd.DataFrame(\n",
    "        [\n",
    "            {tag: pred_tag > 0 for pred_tag, tag in zip(pred, target_names)}\n",
    "            for pred in pred_kerasword2vec_proba\n",
    "        ]\n",
    "    )\n",
    "    print(pred_kerasword2vec.value_counts())"
   ]
  },
  {
   "cell_type": "code",
   "execution_count": 35,
   "id": "f5da4a6e",
   "metadata": {
    "execution": {
     "iopub.execute_input": "2023-01-21T12:32:22.034371Z",
     "iopub.status.busy": "2023-01-21T12:32:22.033885Z",
     "iopub.status.idle": "2023-01-21T12:32:22.053595Z",
     "shell.execute_reply": "2023-01-21T12:32:22.052786Z"
    },
    "papermill": {
     "duration": 0.042537,
     "end_time": "2023-01-21T12:32:22.055535",
     "exception": false,
     "start_time": "2023-01-21T12:32:22.012998",
     "status": "completed"
    },
    "tags": []
   },
   "outputs": [],
   "source": [
    "if description[\"kerasPipeline\"][\"actif\"]:\n",
    "    scores_kerasword2vec = p5_nlp_utils.Commun.save_score(\n",
    "        y_test,\n",
    "        pred_kerasword2vec,\n",
    "        target_names,\n",
    "        \"kerasPipeline\",\n",
    "    )\n",
    "    print(scores_kerasword2vec.sort_values(by=\"f1-score\", ascending=False))\n",
    "    modelkerasPipeline.save(\"kerasPipeline\")\n",
    "    # tf.saved_model.save(modelkerasPipeline, 'kerasPipeline')"
   ]
  },
  {
   "cell_type": "markdown",
   "id": "56fcfca1",
   "metadata": {
    "papermill": {
     "duration": 0.01985,
     "end_time": "2023-01-21T12:32:22.095299",
     "exception": false,
     "start_time": "2023-01-21T12:32:22.075449",
     "status": "completed"
    },
    "tags": []
   },
   "source": [
    "## Word2Vec puis OvR SVC"
   ]
  },
  {
   "cell_type": "code",
   "execution_count": 36,
   "id": "8bb4827c",
   "metadata": {
    "execution": {
     "iopub.execute_input": "2023-01-21T12:32:22.137003Z",
     "iopub.status.busy": "2023-01-21T12:32:22.136731Z",
     "iopub.status.idle": "2023-01-21T12:32:22.175717Z",
     "shell.execute_reply": "2023-01-21T12:32:22.174666Z"
    },
    "papermill": {
     "duration": 0.062417,
     "end_time": "2023-01-21T12:32:22.177866",
     "exception": false,
     "start_time": "2023-01-21T12:32:22.115449",
     "status": "completed"
    },
    "tags": []
   },
   "outputs": [
    {
     "name": "stdout",
     "output_type": "stream",
     "text": [
      "CPU times: user 99 µs, sys: 7 µs, total: 106 µs\n",
      "Wall time: 111 µs\n"
     ]
    }
   ],
   "source": [
    "%%time\n",
    "pipeline_w2v = pipeline.Pipeline(\n",
    "    [\n",
    "        (\n",
    "            \"keras_embed_transformer\",\n",
    "            p5_nlp_utils.KerasEmbedTransformer().init(description[\"Word2Vec\"]),\n",
    "        ),\n",
    "        (\n",
    "            \"Word2Vec\",\n",
    "            multiclass.OneVsRestClassifier(\n",
    "                svm.SVC(\n",
    "                    cache_size=1080,\n",
    "                    max_iter=description[\"Word2Vec\"][\"max_iter\"],\n",
    "                    random_state=42,\n",
    "                )\n",
    "            ),\n",
    "        ),\n",
    "    ]\n",
    ")\n",
    "\n",
    "if description[\"Word2Vec\"][\"actif\"]:\n",
    "    with ignore_warnings(category=exceptions.ConvergenceWarning):\n",
    "        pipeline_w2v.fit(X_train, y_train)\n",
    "#         pipeline_w2v.fit(X_train[0:10], y_train[0:10])"
   ]
  },
  {
   "cell_type": "code",
   "execution_count": 37,
   "id": "bffd6742",
   "metadata": {
    "execution": {
     "iopub.execute_input": "2023-01-21T12:32:22.220693Z",
     "iopub.status.busy": "2023-01-21T12:32:22.219929Z",
     "iopub.status.idle": "2023-01-21T12:32:22.233474Z",
     "shell.execute_reply": "2023-01-21T12:32:22.232309Z"
    },
    "papermill": {
     "duration": 0.037048,
     "end_time": "2023-01-21T12:32:22.235420",
     "exception": false,
     "start_time": "2023-01-21T12:32:22.198372",
     "status": "completed"
    },
    "tags": []
   },
   "outputs": [
    {
     "name": "stdout",
     "output_type": "stream",
     "text": [
      "CPU times: user 4 µs, sys: 0 ns, total: 4 µs\n",
      "Wall time: 6.68 µs\n"
     ]
    }
   ],
   "source": [
    "%%time\n",
    "if description[\"Word2Vec\"][\"actif\"]:\n",
    "    pred_word2vec = pipeline_w2v.predict(X_test)\n",
    "    print(pred_word2vec)"
   ]
  },
  {
   "cell_type": "markdown",
   "id": "136e26de",
   "metadata": {
    "papermill": {
     "duration": 0.019905,
     "end_time": "2023-01-21T12:32:22.275382",
     "exception": false,
     "start_time": "2023-01-21T12:32:22.255477",
     "status": "completed"
    },
    "tags": []
   },
   "source": [
    "### i got the same issue as:\n",
    "https://stackoverflow.com/questions/37984304/how-to-save-a-scikit-learn-pipline-with-keras-regressor-inside-to-disk  \n",
    "Solution is to save keras model in separate file than remove it from the pipeline so it can be save with joblib  \n",
    "I did that in my `KerasEmbedTransformer` class `save` & `load` method"
   ]
  },
  {
   "cell_type": "code",
   "execution_count": 38,
   "id": "1935d50d",
   "metadata": {
    "execution": {
     "iopub.execute_input": "2023-01-21T12:32:22.317356Z",
     "iopub.status.busy": "2023-01-21T12:32:22.316601Z",
     "iopub.status.idle": "2023-01-21T12:32:22.335469Z",
     "shell.execute_reply": "2023-01-21T12:32:22.334657Z"
    },
    "papermill": {
     "duration": 0.041618,
     "end_time": "2023-01-21T12:32:22.337433",
     "exception": false,
     "start_time": "2023-01-21T12:32:22.295815",
     "status": "completed"
    },
    "tags": []
   },
   "outputs": [],
   "source": [
    "if description[\"Word2Vec\"][\"actif\"]:\n",
    "    pipeline_w2v.named_steps[\"keras_embed_transformer\"].save(\"keras\")\n",
    "    # Otherwise i can save it but not load in api\n",
    "    #     pipeline_w2v.named_steps[\"keras_embed_transformer\"] = \"passthrough\"  # __module__\n",
    "    #     pipeline_w2v.named_steps[\"keras_embed_transformer\"].__module__ = None\n",
    "    ## i have issue loading the joblib in api so i try to delete the step from the pipeline\n",
    "    pipeline_w2v.steps.pop(0)\n",
    "    pipeline_w2v.steps.insert(0, (\"keras_embed_transformer\", \"passthrough\"))\n",
    "    print(pipeline_w2v)"
   ]
  },
  {
   "cell_type": "code",
   "execution_count": 39,
   "id": "fbc53135",
   "metadata": {
    "execution": {
     "iopub.execute_input": "2023-01-21T12:32:22.379982Z",
     "iopub.status.busy": "2023-01-21T12:32:22.379234Z",
     "iopub.status.idle": "2023-01-21T12:32:22.397235Z",
     "shell.execute_reply": "2023-01-21T12:32:22.396417Z"
    },
    "papermill": {
     "duration": 0.041355,
     "end_time": "2023-01-21T12:32:22.399403",
     "exception": false,
     "start_time": "2023-01-21T12:32:22.358048",
     "status": "completed"
    },
    "tags": []
   },
   "outputs": [],
   "source": [
    "if description[\"Word2Vec\"][\"actif\"]:\n",
    "    scores_word2vec = p5_nlp_utils.Commun.save_score(\n",
    "        y_test, pred_word2vec, target_names, \"Word2Vec\"\n",
    "    )\n",
    "    joblib.dump(pipeline_w2v, \"Word2Vec_model.joblib\")\n",
    "    print(scores_word2vec.sort_values(by=\"f1-score\", ascending=False))"
   ]
  },
  {
   "cell_type": "markdown",
   "id": "ab29215b",
   "metadata": {
    "papermill": {
     "duration": 0.020128,
     "end_time": "2023-01-21T12:32:22.439591",
     "exception": false,
     "start_time": "2023-01-21T12:32:22.419463",
     "status": "completed"
    },
    "tags": []
   },
   "source": [
    "### test to reimport saved model"
   ]
  },
  {
   "cell_type": "code",
   "execution_count": 40,
   "id": "c2f2e6e3",
   "metadata": {
    "execution": {
     "iopub.execute_input": "2023-01-21T12:32:22.481502Z",
     "iopub.status.busy": "2023-01-21T12:32:22.480758Z",
     "iopub.status.idle": "2023-01-21T12:32:22.500967Z",
     "shell.execute_reply": "2023-01-21T12:32:22.500160Z"
    },
    "papermill": {
     "duration": 0.043185,
     "end_time": "2023-01-21T12:32:22.503006",
     "exception": false,
     "start_time": "2023-01-21T12:32:22.459821",
     "status": "completed"
    },
    "tags": []
   },
   "outputs": [],
   "source": [
    "if description[\"Word2Vec\"][\"actif\"] and LONG:\n",
    "    loaded = joblib.load(\"/kaggle/working/Word2Vec_model.joblib\")\n",
    "    loaded.named_steps[\n",
    "        \"keras_embed_transformer\"\n",
    "    ] = p5_nlp_utils.KerasEmbedTransformer().load(\n",
    "        \"/kaggle/working/keras\", description[\"Word2Vec\"]\n",
    "    )\n",
    "    pred_word2vec == loaded.predict(X_test)"
   ]
  },
  {
   "cell_type": "markdown",
   "id": "9fdb9b7e",
   "metadata": {
    "papermill": {
     "duration": 0.020018,
     "end_time": "2023-01-21T12:32:22.543219",
     "exception": false,
     "start_time": "2023-01-21T12:32:22.523201",
     "status": "completed"
    },
    "tags": []
   },
   "source": [
    "# BERT\n",
    "Bidirectional Encoder Representations from Transformers  \n",
    "[Article explication en français](https://www.quantmetry.com/glossaire/bert-nlp/)  \n",
    "[Exemple multi-classification](https://www.analyticsvidhya.com/blog/2020/10/simple-text-multi-classification-task-using-keras-bert)"
   ]
  },
  {
   "cell_type": "code",
   "execution_count": 41,
   "id": "5750d10d",
   "metadata": {
    "execution": {
     "iopub.execute_input": "2023-01-21T12:32:22.585314Z",
     "iopub.status.busy": "2023-01-21T12:32:22.584540Z",
     "iopub.status.idle": "2023-01-21T12:32:22.589830Z",
     "shell.execute_reply": "2023-01-21T12:32:22.589025Z"
    },
    "papermill": {
     "duration": 0.028442,
     "end_time": "2023-01-21T12:32:22.591775",
     "exception": false,
     "start_time": "2023-01-21T12:32:22.563333",
     "status": "completed"
    },
    "tags": []
   },
   "outputs": [],
   "source": [
    "## check gpu\n",
    "# import torch\n",
    "# torch.cuda.is_available()"
   ]
  },
  {
   "cell_type": "code",
   "execution_count": 42,
   "id": "e8fe34c0",
   "metadata": {
    "execution": {
     "iopub.execute_input": "2023-01-21T12:32:22.634575Z",
     "iopub.status.busy": "2023-01-21T12:32:22.633195Z",
     "iopub.status.idle": "2023-01-21T12:32:22.647931Z",
     "shell.execute_reply": "2023-01-21T12:32:22.646802Z"
    },
    "papermill": {
     "duration": 0.037485,
     "end_time": "2023-01-21T12:32:22.649699",
     "exception": false,
     "start_time": "2023-01-21T12:32:22.612214",
     "status": "completed"
    },
    "tags": []
   },
   "outputs": [
    {
     "name": "stdout",
     "output_type": "stream",
     "text": [
      "{'actif': True, 'max_length': 512, 'epochs': 10, 'raw_text': False}\n",
      "BertConfig {\n",
      "  \"attention_probs_dropout_prob\": 0.1,\n",
      "  \"classifier_dropout\": null,\n",
      "  \"hidden_act\": \"gelu\",\n",
      "  \"hidden_dropout_prob\": 0.1,\n",
      "  \"hidden_size\": 768,\n",
      "  \"initializer_range\": 0.02,\n",
      "  \"intermediate_size\": 3072,\n",
      "  \"layer_norm_eps\": 1e-12,\n",
      "  \"max_position_embeddings\": 512,\n",
      "  \"model_type\": \"bert\",\n",
      "  \"num_attention_heads\": 12,\n",
      "  \"num_hidden_layers\": 12,\n",
      "  \"pad_token_id\": 0,\n",
      "  \"position_embedding_type\": \"absolute\",\n",
      "  \"transformers_version\": \"4.20.1\",\n",
      "  \"type_vocab_size\": 2,\n",
      "  \"use_cache\": true,\n",
      "  \"vocab_size\": 30522\n",
      "}\n",
      "\n"
     ]
    }
   ],
   "source": [
    "if description[\"BERT\"][\"actif\"]:\n",
    "    print(description[\"BERT\"])\n",
    "    configuration = BertConfig()\n",
    "    print(configuration)"
   ]
  },
  {
   "cell_type": "code",
   "execution_count": 43,
   "id": "82c3d4ad",
   "metadata": {
    "execution": {
     "iopub.execute_input": "2023-01-21T12:32:22.691895Z",
     "iopub.status.busy": "2023-01-21T12:32:22.691161Z",
     "iopub.status.idle": "2023-01-21T12:32:22.696582Z",
     "shell.execute_reply": "2023-01-21T12:32:22.695772Z"
    },
    "papermill": {
     "duration": 0.028643,
     "end_time": "2023-01-21T12:32:22.698715",
     "exception": false,
     "start_time": "2023-01-21T12:32:22.670072",
     "status": "completed"
    },
    "tags": []
   },
   "outputs": [],
   "source": [
    "# %%time\n",
    "# if description[\"BERT\"][\"actif\"]:\n",
    "#     tokenizer = p5_nlp_utils.Bert.get_tokenizer(\n",
    "#         model_max_length=description[\"BERT\"][\"max_length\"],\n",
    "#         save_path=\"bert_base_uncased/\",\n",
    "#     )"
   ]
  },
  {
   "cell_type": "code",
   "execution_count": 44,
   "id": "7095dcdf",
   "metadata": {
    "execution": {
     "iopub.execute_input": "2023-01-21T12:32:22.741069Z",
     "iopub.status.busy": "2023-01-21T12:32:22.740807Z",
     "iopub.status.idle": "2023-01-21T12:32:58.388772Z",
     "shell.execute_reply": "2023-01-21T12:32:58.387712Z"
    },
    "papermill": {
     "duration": 35.692168,
     "end_time": "2023-01-21T12:32:58.411926",
     "exception": false,
     "start_time": "2023-01-21T12:32:22.719758",
     "status": "completed"
    },
    "tags": []
   },
   "outputs": [
    {
     "data": {
      "application/vnd.jupyter.widget-view+json": {
       "model_id": "c3bbb664105d4778bc1eba5585a05bc8",
       "version_major": 2,
       "version_minor": 0
      },
      "text/plain": [
       "Downloading:   0%|          | 0.00/226k [00:00<?, ?B/s]"
      ]
     },
     "metadata": {},
     "output_type": "display_data"
    },
    {
     "data": {
      "application/vnd.jupyter.widget-view+json": {
       "model_id": "0dd7c6cba09f469da6893ad22d780678",
       "version_major": 2,
       "version_minor": 0
      },
      "text/plain": [
       "Downloading:   0%|          | 0.00/28.0 [00:00<?, ?B/s]"
      ]
     },
     "metadata": {},
     "output_type": "display_data"
    },
    {
     "data": {
      "application/vnd.jupyter.widget-view+json": {
       "model_id": "3b4325c579f149ddad41c1a380ca9018",
       "version_major": 2,
       "version_minor": 0
      },
      "text/plain": [
       "Downloading:   0%|          | 0.00/570 [00:00<?, ?B/s]"
      ]
     },
     "metadata": {},
     "output_type": "display_data"
    },
    {
     "name": "stdout",
     "output_type": "stream",
     "text": [
      "Shape input BERT tupple 3* (88831, 512)\n",
      "CPU times: user 30.8 s, sys: 796 ms, total: 31.6 s\n",
      "Wall time: 35.6 s\n"
     ]
    }
   ],
   "source": [
    "%%time\n",
    "if description[\"BERT\"][\"actif\"]:\n",
    "    X_train_bert = p5_nlp_utils.Bert.create_bert_inputs(\n",
    "        X_train.values, max_len=description[\"BERT\"][\"max_length\"]\n",
    "    )\n",
    "    print(\"Shape input BERT tupple 3*\", X_train_bert[0].shape)"
   ]
  },
  {
   "cell_type": "code",
   "execution_count": 45,
   "id": "bfaf349e",
   "metadata": {
    "execution": {
     "iopub.execute_input": "2023-01-21T12:32:58.455173Z",
     "iopub.status.busy": "2023-01-21T12:32:58.454434Z",
     "iopub.status.idle": "2023-01-21T12:33:15.194089Z",
     "shell.execute_reply": "2023-01-21T12:33:15.192570Z"
    },
    "papermill": {
     "duration": 16.76343,
     "end_time": "2023-01-21T12:33:15.196223",
     "exception": false,
     "start_time": "2023-01-21T12:32:58.432793",
     "status": "completed"
    },
    "tags": []
   },
   "outputs": [
    {
     "name": "stdout",
     "output_type": "stream",
     "text": [
      "Model: \"model\"\n",
      "__________________________________________________________________________________________________\n",
      "Layer (type)                    Output Shape         Param #     Connected to                     \n",
      "==================================================================================================\n",
      "input_word_ids (InputLayer)     [(None, 512)]        0                                            \n",
      "__________________________________________________________________________________________________\n",
      "input_mask (InputLayer)         [(None, 512)]        0                                            \n",
      "__________________________________________________________________________________________________\n",
      "input_type_ids (InputLayer)     [(None, 512)]        0                                            \n",
      "__________________________________________________________________________________________________\n",
      "keras_layer (KerasLayer)        [(None, 768), (None, 109482241   input_word_ids[0][0]             \n",
      "                                                                 input_mask[0][0]                 \n",
      "                                                                 input_type_ids[0][0]             \n",
      "__________________________________________________________________________________________________\n",
      "tf.__operators__.getitem (Slici (None, 768)          0           keras_layer[0][1]                \n",
      "__________________________________________________________________________________________________\n",
      "dense (Dense)                   (None, 512)          393728      tf.__operators__.getitem[0][0]   \n",
      "__________________________________________________________________________________________________\n",
      "dropout (Dropout)               (None, 512)          0           dense[0][0]                      \n",
      "__________________________________________________________________________________________________\n",
      "dense_1 (Dense)                 (None, 128)          65664       dropout[0][0]                    \n",
      "__________________________________________________________________________________________________\n",
      "dropout_1 (Dropout)             (None, 128)          0           dense_1[0][0]                    \n",
      "__________________________________________________________________________________________________\n",
      "dense_2 (Dense)                 (None, 21)           2709        dropout_1[0][0]                  \n",
      "==================================================================================================\n",
      "Total params: 109,944,342\n",
      "Trainable params: 462,101\n",
      "Non-trainable params: 109,482,241\n",
      "__________________________________________________________________________________________________\n",
      "None\n",
      "CPU times: user 8.54 s, sys: 1.11 s, total: 9.65 s\n",
      "Wall time: 16.7 s\n"
     ]
    }
   ],
   "source": [
    "%%time\n",
    "if description[\"BERT\"][\"actif\"]:\n",
    "    #     bert_model = p5_nlp_utils.Bert.create_bert_model(\n",
    "    #         params=description[\"BERT\"], target_names=target_names\n",
    "    #     )\n",
    "    bert_model = p5_nlp_utils.Bert.build_bert_model(\n",
    "        max_len=description[\"BERT\"][\"max_length\"], target_names=target_names\n",
    "    )\n",
    "    print(bert_model.summary())"
   ]
  },
  {
   "cell_type": "code",
   "execution_count": 46,
   "id": "33a4482d",
   "metadata": {
    "execution": {
     "iopub.execute_input": "2023-01-21T12:33:15.240616Z",
     "iopub.status.busy": "2023-01-21T12:33:15.240320Z",
     "iopub.status.idle": "2023-01-21T17:58:07.165488Z",
     "shell.execute_reply": "2023-01-21T17:58:07.164419Z"
    },
    "papermill": {
     "duration": 19491.971882,
     "end_time": "2023-01-21T17:58:07.190195",
     "exception": false,
     "start_time": "2023-01-21T12:33:15.218313",
     "status": "completed"
    },
    "tags": []
   },
   "outputs": [
    {
     "name": "stderr",
     "output_type": "stream",
     "text": [
      "2023-01-21 12:33:17.396526: I tensorflow/compiler/mlir/mlir_graph_optimization_pass.cc:185] None of the MLIR Optimization Passes are enabled (registered 2)\n"
     ]
    },
    {
     "name": "stdout",
     "output_type": "stream",
     "text": [
      "Epoch 1/10\n",
      "Epoch 2/10\n",
      "Epoch 3/10\n",
      "Epoch 4/10\n",
      "Epoch 5/10\n",
      "Epoch 6/10\n",
      "Epoch 7/10\n",
      "Epoch 8/10\n",
      "Epoch 9/10\n",
      "Epoch 10/10\n",
      "CPU times: user 32min 56s, sys: 8min 4s, total: 41min 1s\n",
      "Wall time: 5h 24min 51s\n"
     ]
    }
   ],
   "source": [
    "%%time\n",
    "if description[\"BERT\"][\"actif\"]:\n",
    "    bert_model.fit(\n",
    "        #         np.array(\n",
    "        #             [create_bert_input_target(x, description[\"BERT\"]) for x in X_train.values]\n",
    "        #         ),\n",
    "        X_train_bert,\n",
    "        y_train,\n",
    "        epochs=description[\"BERT\"][\"epochs\"],\n",
    "        verbose=3,\n",
    "    )"
   ]
  },
  {
   "cell_type": "code",
   "execution_count": 47,
   "id": "b0050a87",
   "metadata": {
    "execution": {
     "iopub.execute_input": "2023-01-21T17:58:07.234181Z",
     "iopub.status.busy": "2023-01-21T17:58:07.233896Z",
     "iopub.status.idle": "2023-01-21T18:09:22.825249Z",
     "shell.execute_reply": "2023-01-21T18:09:22.823456Z"
    },
    "papermill": {
     "duration": 675.615901,
     "end_time": "2023-01-21T18:09:22.827353",
     "exception": false,
     "start_time": "2023-01-21T17:58:07.211452",
     "status": "completed"
    },
    "tags": []
   },
   "outputs": [
    {
     "name": "stderr",
     "output_type": "stream",
     "text": [
      "2023-01-21 17:58:08.975748: W tensorflow/python/util/util.cc:348] Sets are not currently considered sequences, but this may change in the future, so consider avoiding using them.\n"
     ]
    },
    {
     "name": "stdout",
     "output_type": "stream",
     "text": [
      "[[0.06701173 0.04301437 0.05973967 ... 0.0422015  0.01931578 0.0054424 ]\n",
      " [0.07015488 0.07072537 0.3904219  ... 0.00594526 0.00975908 0.0074002 ]\n",
      " [0.01190855 0.14498235 0.03152774 ... 0.0176688  0.01487146 0.00897379]\n",
      " ...\n",
      " [0.2200885  0.13716604 0.01868306 ... 0.03206714 0.01519649 0.00757006]\n",
      " [0.04914235 0.09234515 0.16856939 ... 0.01537423 0.0134306  0.00816598]\n",
      " [0.17155488 0.06810644 0.02227854 ... 0.13667135 0.01926763 0.01198285]]\n",
      "Meilleur f1-score 44.86% pour limit 0.2\n"
     ]
    },
    {
     "data": {
      "image/png": "[encoded data removed]",
      "text/plain": [
       "<Figure size 2160x1080 with 1 Axes>"
      ]
     },
     "metadata": {
      "needs_background": "light"
     },
     "output_type": "display_data"
    },
    {
     "name": "stdout",
     "output_type": "stream",
     "text": [
      "              precision    recall  f1-score  support\n",
      "python         0.580038  0.589587  0.584773   2612.0\n",
      "android        0.497344  0.641076  0.560137   2045.0\n",
      "php            0.613995  0.501537  0.552097   1627.0\n",
      "ios            0.480405  0.592935  0.530771   1840.0\n",
      "sql            0.496410  0.556322  0.524661    870.0\n",
      "c++            0.439577  0.592668  0.504770   1964.0\n",
      "css            0.457252  0.529620  0.490782   1131.0\n",
      "java           0.471003  0.488477  0.479581   3558.0\n",
      "html           0.391851  0.586325  0.469756   1755.0\n",
      "javascript     0.374952  0.587902  0.457879   3356.0\n",
      "micro avg      0.432047  0.466499  0.448613  33044.0\n",
      "weighted avg   0.444126  0.466499  0.431498  33044.0\n",
      "jquery         0.393921  0.421326  0.407163   1538.0\n",
      "c#             0.340330  0.504175  0.406359   3473.0\n",
      "macro avg      0.439610  0.383872  0.372061  33044.0\n",
      "mysql          0.435597  0.271533  0.334532    685.0\n",
      "samples avg    0.323501  0.375350  0.327991  33044.0\n",
      "iphone         0.320055  0.288724  0.303583    807.0\n",
      "linux          0.489865  0.213235  0.297131    680.0\n",
      "c              0.333832  0.251977  0.287186    885.0\n",
      "objective-c    0.377282  0.209459  0.269370    888.0\n",
      ".net           0.317039  0.144678  0.198687   1569.0\n",
      "asp.net        0.421053  0.079503  0.133751    805.0\n",
      "node.js        1.000000  0.010264  0.020319    682.0\n",
      "git            0.000000  0.000000  0.000000    274.0\n",
      "CPU times: user 12min 4s, sys: 0 ns, total: 12min 4s\n",
      "Wall time: 11min 15s\n"
     ]
    }
   ],
   "source": [
    "%%time\n",
    "if description[\"BERT\"][\"actif\"]:\n",
    "    bert_model.save(\"BERT\")\n",
    "    #     pred_bert_proba = bert_model.predict(\n",
    "    #         np.array(\n",
    "    #             [create_bert_input_target(x, description[\"BERT\"]) for x in X_test.values]\n",
    "    #         )\n",
    "    #     )\n",
    "    pred_bert_proba = bert_model.predict(\n",
    "        p5_nlp_utils.Bert.create_bert_inputs(\n",
    "            X_test.values, max_len=description[\"BERT\"][\"max_length\"]\n",
    "        )\n",
    "    )\n",
    "    print(pred_bert_proba)\n",
    "    best, f1_score_avg = p5_nlp_utils.Commun.find_best_limit(\n",
    "        pred_bert_proba, y_test, target_names\n",
    "    )\n",
    "    pred_bert = p5_nlp_utils.Commun.convert_pred_to_bool(pred_bert_proba, limit=best)\n",
    "    #     print(pred_bert.value_counts())\n",
    "    scores_bert = p5_nlp_utils.Commun.save_score(\n",
    "        y_test,\n",
    "        pred_bert,\n",
    "        target_names,\n",
    "        None,\n",
    "    )\n",
    "    print(scores_bert.sort_values(by=\"f1-score\", ascending=False))"
   ]
  },
  {
   "cell_type": "markdown",
   "id": "f6f71b3d",
   "metadata": {
    "papermill": {
     "duration": 0.021916,
     "end_time": "2023-01-21T18:09:22.872015",
     "exception": false,
     "start_time": "2023-01-21T18:09:22.850099",
     "status": "completed"
    },
    "tags": []
   },
   "source": [
    "Test avec limit/seuil différent par tag"
   ]
  },
  {
   "cell_type": "code",
   "execution_count": 48,
   "id": "0259fd10",
   "metadata": {
    "execution": {
     "iopub.execute_input": "2023-01-21T18:09:22.918011Z",
     "iopub.status.busy": "2023-01-21T18:09:22.917704Z",
     "iopub.status.idle": "2023-01-21T18:09:30.681470Z",
     "shell.execute_reply": "2023-01-21T18:09:30.680445Z"
    },
    "papermill": {
     "duration": 7.789064,
     "end_time": "2023-01-21T18:09:30.683512",
     "exception": false,
     "start_time": "2023-01-21T18:09:22.894448",
     "status": "completed"
    },
    "tags": []
   },
   "outputs": [
    {
     "name": "stdout",
     "output_type": "stream",
     "text": [
      "java : meilleur f1-score 47.98% pour limit 0.19\n",
      "c# : meilleur f1-score 40.77% pour limit 0.19\n",
      "javascript : meilleur f1-score 45.86% pour limit 0.22\n",
      "python : meilleur f1-score 60.40% pour limit 0.29\n",
      "android : meilleur f1-score 58.33% pour limit 0.3\n",
      "c++ : meilleur f1-score 51.33% pour limit 0.24\n",
      "ios : meilleur f1-score 53.65% pour limit 0.23\n",
      "html : meilleur f1-score 47.17% pour limit 0.21\n",
      "php : meilleur f1-score 56.30% pour limit 0.24\n",
      ".net : meilleur f1-score 26.95% pour limit 0.13\n",
      "jquery : meilleur f1-score 40.90% pour limit 0.16\n",
      "css : meilleur f1-score 49.08% pour limit 0.2\n",
      "objective-c : meilleur f1-score 35.58% pour limit 0.13\n",
      "c : meilleur f1-score 35.93% pour limit 0.13\n",
      "sql : meilleur f1-score 52.69% pour limit 0.19\n",
      "iphone : meilleur f1-score 36.77% pour limit 0.12\n",
      "asp.net : meilleur f1-score 27.04% pour limit 0.1\n",
      "mysql : meilleur f1-score 37.35% pour limit 0.13\n",
      "linux : meilleur f1-score 35.94% pour limit 0.12\n",
      "node.js : meilleur f1-score 26.31% pour limit 0.08\n",
      "git : meilleur f1-score 26.09% pour limit 0.04\n"
     ]
    },
    {
     "data": {
      "image/png": "[encoded data removed]",
      "text/plain": [
       "<Figure size 2160x1080 with 1 Axes>"
      ]
     },
     "metadata": {
      "needs_background": "light"
     },
     "output_type": "display_data"
    },
    {
     "name": "stdout",
     "output_type": "stream",
     "text": [
      "Sur le jeu test avec limit par tag:\n",
      "              precision    recall  f1-score  support\n",
      "python         0.754879  0.503446  0.604042   2612.0\n",
      "android        0.647761  0.530562  0.583333   2045.0\n",
      "php            0.708295  0.467117  0.562963   1627.0\n",
      "ios            0.524106  0.549457  0.536482   1840.0\n",
      "sql            0.490585  0.568966  0.526876    870.0\n",
      "c++            0.501702  0.525458  0.513305   1964.0\n",
      "css            0.457252  0.529620  0.490782   1131.0\n",
      "java           0.452440  0.510680  0.479799   3558.0\n",
      "html           0.404986  0.564672  0.471680   1755.0\n",
      "javascript     0.397422  0.542014  0.458591   3356.0\n",
      "weighted avg   0.444662  0.496611  0.458077  33044.0\n",
      "micro avg      0.408666  0.496611  0.448367  33044.0\n",
      "macro avg      0.408554  0.465607  0.424957  33044.0\n",
      "jquery         0.334574  0.526008  0.408999   1538.0\n",
      "c#             0.329719  0.534120  0.407737   3473.0\n",
      "mysql          0.322375  0.443796  0.373464    685.0\n",
      "iphone         0.275246  0.553903  0.367750    807.0\n",
      "linux          0.345061  0.375000  0.359408    680.0\n",
      "c              0.292944  0.464407  0.359266    885.0\n",
      "objective-c    0.305578  0.425676  0.355765    888.0\n",
      "samples avg    0.309295  0.392246  0.324884  33044.0\n",
      "asp.net        0.229965  0.327950  0.270353    805.0\n",
      ".net           0.221493  0.344168  0.269528   1569.0\n",
      "node.js        0.334086  0.217009  0.263111    682.0\n",
      "git            0.249169  0.273723  0.260870    274.0\n",
      "CPU times: user 7.84 s, sys: 0 ns, total: 7.84 s\n",
      "Wall time: 7.72 s\n"
     ]
    }
   ],
   "source": [
    "%%time\n",
    "if description[\"BERT\"][\"actif\"]:\n",
    "    best_limits_bert = p5_nlp_utils.Commun.find_best_limit_by_tags(\n",
    "        pred_bert_proba, y_test, target_names, limits=np.linspace(0, 1, 101)\n",
    "    )\n",
    "    with open(\"/kaggle/working/best_limits_bert.json\", \"w\") as outfile:\n",
    "        json.dump(best_limits_bert, outfile)\n",
    "    pred_bert_2 = p5_nlp_utils.Commun.convert_pred_to_bool_by_tags(pred_bert_proba, {k: v[0] for k, v in best_limits_bert.items()})\n",
    "    scores_bert_2 = p5_nlp_utils.Commun.save_score(\n",
    "        y_true=y_test,\n",
    "        y_pred=pred_bert_2,\n",
    "        target_names=target_names,\n",
    "        name=\"BERT\",\n",
    "    )\n",
    "    print(\"Sur le jeu test avec limit par tag:\")\n",
    "    print(scores_bert_2.sort_values(by=\"f1-score\", ascending=False))"
   ]
  },
  {
   "cell_type": "code",
   "execution_count": 49,
   "id": "89c8dea2",
   "metadata": {
    "execution": {
     "iopub.execute_input": "2023-01-21T18:09:30.743591Z",
     "iopub.status.busy": "2023-01-21T18:09:30.743228Z",
     "iopub.status.idle": "2023-01-21T18:09:30.748784Z",
     "shell.execute_reply": "2023-01-21T18:09:30.747900Z"
    },
    "papermill": {
     "duration": 0.037776,
     "end_time": "2023-01-21T18:09:30.750720",
     "exception": false,
     "start_time": "2023-01-21T18:09:30.712944",
     "status": "completed"
    },
    "tags": []
   },
   "outputs": [],
   "source": [
    "# # detect and init the TPU\n",
    "# tpu = tf.distribute.cluster_resolver.TPUClusterResolver.connect()\n",
    "\n",
    "# # instantiate a distribution strategy\n",
    "# tpu_strategy = tf.distribute.experimental.TPUStrategy(tpu)\n",
    "# with tpu_strategy.scope():\n",
    "# ..."
   ]
  },
  {
   "cell_type": "code",
   "execution_count": 50,
   "id": "65475442",
   "metadata": {
    "execution": {
     "iopub.execute_input": "2023-01-21T18:09:30.808263Z",
     "iopub.status.busy": "2023-01-21T18:09:30.807451Z",
     "iopub.status.idle": "2023-01-21T18:09:30.813454Z",
     "shell.execute_reply": "2023-01-21T18:09:30.812362Z"
    },
    "papermill": {
     "duration": 0.037016,
     "end_time": "2023-01-21T18:09:30.815535",
     "exception": false,
     "start_time": "2023-01-21T18:09:30.778519",
     "status": "completed"
    },
    "tags": []
   },
   "outputs": [],
   "source": [
    "# %%time\n",
    "# model = BertTransformer(list(X_train[0:5]), params=description[\"BERT\"])\n",
    "# model"
   ]
  },
  {
   "cell_type": "code",
   "execution_count": 51,
   "id": "772bf531",
   "metadata": {
    "execution": {
     "iopub.execute_input": "2023-01-21T18:09:30.872861Z",
     "iopub.status.busy": "2023-01-21T18:09:30.872070Z",
     "iopub.status.idle": "2023-01-21T18:09:30.878211Z",
     "shell.execute_reply": "2023-01-21T18:09:30.877224Z"
    },
    "papermill": {
     "duration": 0.036865,
     "end_time": "2023-01-21T18:09:30.880302",
     "exception": false,
     "start_time": "2023-01-21T18:09:30.843437",
     "status": "completed"
    },
    "tags": []
   },
   "outputs": [],
   "source": [
    "# %%time\n",
    "# model = BertTransformer(list(X_train[0:50_000]), params=description[\"BERT\"])\n",
    "# # model = BertTransformer(list(X_train), params=description[\"BERT\"])\n",
    "# model\n",
    "# # model.mean(axis=1)"
   ]
  },
  {
   "cell_type": "markdown",
   "id": "625b9dc7",
   "metadata": {
    "papermill": {
     "duration": 0.027763,
     "end_time": "2023-01-21T18:09:30.936199",
     "exception": false,
     "start_time": "2023-01-21T18:09:30.908436",
     "status": "completed"
    },
    "tags": []
   },
   "source": [
    "# USE"
   ]
  },
  {
   "cell_type": "code",
   "execution_count": 52,
   "id": "e9792547",
   "metadata": {
    "execution": {
     "iopub.execute_input": "2023-01-21T18:09:30.994144Z",
     "iopub.status.busy": "2023-01-21T18:09:30.993330Z",
     "iopub.status.idle": "2023-01-21T18:09:31.010887Z",
     "shell.execute_reply": "2023-01-21T18:09:31.009898Z"
    },
    "papermill": {
     "duration": 0.04853,
     "end_time": "2023-01-21T18:09:31.012870",
     "exception": false,
     "start_time": "2023-01-21T18:09:30.964340",
     "status": "completed"
    },
    "tags": []
   },
   "outputs": [
    {
     "name": "stdout",
     "output_type": "stream",
     "text": [
      "CPU times: user 4 µs, sys: 0 ns, total: 4 µs\n",
      "Wall time: 8.34 µs\n"
     ]
    }
   ],
   "source": [
    "%%time\n",
    "if description[\"USE\"][\"actif\"]:\n",
    "    embed = hub.load(\"https://tfhub.dev/google/universal-sentence-encoder/4\")\n",
    "    X_train_use = embed(X_train.values)\n",
    "    print(X_train_use.numpy().shape)"
   ]
  },
  {
   "cell_type": "code",
   "execution_count": 53,
   "id": "022178ef",
   "metadata": {
    "execution": {
     "iopub.execute_input": "2023-01-21T18:09:31.070182Z",
     "iopub.status.busy": "2023-01-21T18:09:31.069909Z",
     "iopub.status.idle": "2023-01-21T18:09:31.113845Z",
     "shell.execute_reply": "2023-01-21T18:09:31.112811Z"
    },
    "papermill": {
     "duration": 0.074993,
     "end_time": "2023-01-21T18:09:31.116059",
     "exception": false,
     "start_time": "2023-01-21T18:09:31.041066",
     "status": "completed"
    },
    "tags": []
   },
   "outputs": [
    {
     "name": "stdout",
     "output_type": "stream",
     "text": [
      "CPU times: user 4 µs, sys: 0 ns, total: 4 µs\n",
      "Wall time: 8.11 µs\n"
     ]
    }
   ],
   "source": [
    "%%time\n",
    "if description[\"USE\"][\"actif\"]:\n",
    "    USEkerasPipeline = tf.keras.models.Sequential(\n",
    "        [\n",
    "            tf.keras.Input(shape=(512,)),  # tensor=X_train_use),\n",
    "            tf.keras.layers.Dense(128, activation=\"relu\"),\n",
    "            tf.keras.layers.Dense(len(target_names), activation=\"sigmoid\"),\n",
    "        ]\n",
    "    )\n",
    "    USEkerasPipeline.compile(\n",
    "        optimizer=\"adam\",\n",
    "        loss=tf.keras.losses.BinaryCrossentropy(),\n",
    "        metrics=[\"accuracy\"],\n",
    "    )\n",
    "    USEkerasPipeline.fit(\n",
    "        X_train_use.numpy(),\n",
    "        y_train,\n",
    "        epochs=description[\"USE\"][\"epochs\"],\n",
    "        verbose=2,\n",
    "    )"
   ]
  },
  {
   "cell_type": "code",
   "execution_count": 54,
   "id": "4d1c46a4",
   "metadata": {
    "execution": {
     "iopub.execute_input": "2023-01-21T18:09:31.175016Z",
     "iopub.status.busy": "2023-01-21T18:09:31.173501Z",
     "iopub.status.idle": "2023-01-21T18:09:31.214225Z",
     "shell.execute_reply": "2023-01-21T18:09:31.212982Z"
    },
    "papermill": {
     "duration": 0.071935,
     "end_time": "2023-01-21T18:09:31.216113",
     "exception": false,
     "start_time": "2023-01-21T18:09:31.144178",
     "status": "completed"
    },
    "tags": []
   },
   "outputs": [
    {
     "name": "stdout",
     "output_type": "stream",
     "text": [
      "CPU times: user 4 µs, sys: 0 ns, total: 4 µs\n",
      "Wall time: 7.87 µs\n"
     ]
    }
   ],
   "source": [
    "%%time\n",
    "if description[\"USE\"][\"actif\"]:\n",
    "    X_pred_test_use = USEkerasPipeline.predict(embed(X_test.values))\n",
    "    #     print(X_pred_test_use)\n",
    "    best, f1_score_avg = p5_nlp_utils.Commun.find_best_limit(\n",
    "        X_pred_test_use, y_test, target_names, limits=np.linspace(0, 1, 101)\n",
    "    )\n",
    "    pred_use_bool = p5_nlp_utils.Commun.convert_pred_to_bool(\n",
    "        X_pred_test_use, limit=best\n",
    "    )\n",
    "    use_pred_test_score = p5_nlp_utils.Commun.save_score(\n",
    "        y_true=y_test,\n",
    "        y_pred=pred_use_bool,\n",
    "        target_names=target_names,\n",
    "        name=None,\n",
    "    )\n",
    "    print(\"Sur le jeu test:\")\n",
    "    print(use_pred_test_score.sort_values(by=\"f1-score\", ascending=False))\n",
    "    USEkerasPipeline.save(\"kerasUSE\")"
   ]
  },
  {
   "cell_type": "markdown",
   "id": "75b39870",
   "metadata": {
    "papermill": {
     "duration": 0.027879,
     "end_time": "2023-01-21T18:09:31.272005",
     "exception": false,
     "start_time": "2023-01-21T18:09:31.244126",
     "status": "completed"
    },
    "tags": []
   },
   "source": [
    "La limite optimal peut etre différente en fonction des tags:"
   ]
  },
  {
   "cell_type": "code",
   "execution_count": 55,
   "id": "88ec779e",
   "metadata": {
    "execution": {
     "iopub.execute_input": "2023-01-21T18:09:31.330848Z",
     "iopub.status.busy": "2023-01-21T18:09:31.330103Z",
     "iopub.status.idle": "2023-01-21T18:09:31.387408Z",
     "shell.execute_reply": "2023-01-21T18:09:31.386206Z"
    },
    "papermill": {
     "duration": 0.090569,
     "end_time": "2023-01-21T18:09:31.390879",
     "exception": false,
     "start_time": "2023-01-21T18:09:31.300310",
     "status": "completed"
    },
    "tags": []
   },
   "outputs": [
    {
     "name": "stdout",
     "output_type": "stream",
     "text": [
      "CPU times: user 7 µs, sys: 0 ns, total: 7 µs\n",
      "Wall time: 12.6 µs\n"
     ]
    }
   ],
   "source": [
    "%%time\n",
    "if description[\"USE\"][\"actif\"]:\n",
    "    best_limits_use = p5_nlp_utils.Commun.find_best_limit_by_tags(\n",
    "        X_pred_test_use, y_test, target_names, limits=np.linspace(0, 1, 101)\n",
    "    )\n",
    "#     print(best_limits_use)\n",
    "    with open(\"/kaggle/working/best_limits_use.json\", \"w\") as outfile:\n",
    "        json.dump(best_limits_use, outfile)\n",
    "        \n",
    "    pred_use_bool_2 = p5_nlp_utils.Commun.convert_pred_to_bool_by_tags(X_pred_test_use, {k: v[0] for k, v in best_limits_use.items()})\n",
    "    use_pred_test_score_2 = p5_nlp_utils.Commun.save_score(\n",
    "        y_true=y_test,\n",
    "        y_pred=pred_use_bool_2,\n",
    "        target_names=target_names,\n",
    "        name=\"kerasUSE\",\n",
    "    )\n",
    "    print(\"Sur le jeu test avec limit par tag:\")\n",
    "    print(use_pred_test_score_2.sort_values(by=\"f1-score\", ascending=False))"
   ]
  },
  {
   "cell_type": "code",
   "execution_count": 56,
   "id": "0545f8c5",
   "metadata": {
    "execution": {
     "iopub.execute_input": "2023-01-21T18:09:31.497696Z",
     "iopub.status.busy": "2023-01-21T18:09:31.497310Z",
     "iopub.status.idle": "2023-01-21T18:09:31.505107Z",
     "shell.execute_reply": "2023-01-21T18:09:31.504153Z"
    },
    "papermill": {
     "duration": 0.058363,
     "end_time": "2023-01-21T18:09:31.507845",
     "exception": false,
     "start_time": "2023-01-21T18:09:31.449482",
     "status": "completed"
    },
    "tags": []
   },
   "outputs": [],
   "source": [
    "# f1_scores = pd.DataFrame(\n",
    "#     [\n",
    "#         p5_nlp_utils.Commun.save_score(\n",
    "#             y_true=y_test,\n",
    "#             y_pred=p5_nlp_utils.Commun.convert_pred_to_bool(\n",
    "#                 X_pred_test_use, limit=limit\n",
    "#             ),\n",
    "#             target_names=target_names,\n",
    "#             name=None,\n",
    "#         ).loc[target_names, \"f1-score\"]\n",
    "#         for limit in np.linspace(0, 1, 101)\n",
    "#     ],\n",
    "#     index=np.linspace(0, 1, 101),\n",
    "# )"
   ]
  },
  {
   "cell_type": "code",
   "execution_count": 57,
   "id": "1c6eeb04",
   "metadata": {
    "execution": {
     "iopub.execute_input": "2023-01-21T18:09:31.597704Z",
     "iopub.status.busy": "2023-01-21T18:09:31.596945Z",
     "iopub.status.idle": "2023-01-21T18:09:31.641351Z",
     "shell.execute_reply": "2023-01-21T18:09:31.640495Z"
    },
    "papermill": {
     "duration": 0.092622,
     "end_time": "2023-01-21T18:09:31.643316",
     "exception": false,
     "start_time": "2023-01-21T18:09:31.550694",
     "status": "completed"
    },
    "tags": []
   },
   "outputs": [],
   "source": [
    "if description[\"USE\"][\"actif\"] and description[\"USE\"][\"tsne_visu\"]:\n",
    "    use_pred_train = USEkerasPipeline.predict(X_train_use)\n",
    "    use_pred_train_bool = p5_nlp_utils.Commun.convert_pred_to_bool_by_tags(use_pred_train, {k: v[0] for k, v in best_limits_use.items()})\n",
    "    use_pred_train_score = p5_nlp_utils.Commun.save_score(\n",
    "        y_true=y_train, y_pred=use_pred_train_bool, target_names=target_names, name=None\n",
    "    )\n",
    "    print(\"Sur le jeu d'entrainement:\")\n",
    "    print(use_pred_train_score.sort_values(by=\"f1-score\", ascending=False))"
   ]
  },
  {
   "cell_type": "code",
   "execution_count": 58,
   "id": "ab631c85",
   "metadata": {
    "execution": {
     "iopub.execute_input": "2023-01-21T18:09:31.757332Z",
     "iopub.status.busy": "2023-01-21T18:09:31.756604Z",
     "iopub.status.idle": "2023-01-21T18:09:31.830805Z",
     "shell.execute_reply": "2023-01-21T18:09:31.829847Z"
    },
    "papermill": {
     "duration": 0.147605,
     "end_time": "2023-01-21T18:09:31.833589",
     "exception": false,
     "start_time": "2023-01-21T18:09:31.685984",
     "status": "completed"
    },
    "tags": []
   },
   "outputs": [
    {
     "name": "stdout",
     "output_type": "stream",
     "text": [
      "CPU times: user 6 µs, sys: 0 ns, total: 6 µs\n",
      "Wall time: 10.5 µs\n"
     ]
    }
   ],
   "source": [
    "%%time\n",
    "if description[\"USE\"][\"actif\"] and description[\"USE\"][\"tsne_visu\"]:\n",
    "    X_train_use_tsne = p5_nlp_utils.Commun.calcul_tsne(X_train_use)\n",
    "    print(\"Tag Réél:\")\n",
    "    p5_nlp_utils.Commun.visu_tsne(\n",
    "        X_tsne=X_train_use_tsne,\n",
    "        y_train_monodim=y_train_monodim,\n",
    "        y_train=y_train,\n",
    "        target_names=target_names,\n",
    "        tag_list=[\n",
    "            \"java\",\n",
    "            \"c#\",\n",
    "            \"python\",\n",
    "            \"android\",\n",
    "            \"php\",\n",
    "            \".net\",\n",
    "            \"mysql\",\n",
    "            \"sql\",\n",
    "            \"javascript\",\n",
    "            \"jquery\",\n",
    "            \"html\",\n",
    "            \"node.js\",\n",
    "            \"css\",\n",
    "            \"c\",\n",
    "            \"mysql\",\n",
    "            \"linux\",\n",
    "            \"git\",\n",
    "        ],\n",
    "    )\n",
    "    print(\"Tag prédit:\")\n",
    "    p5_nlp_utils.Commun.visu_tsne(\n",
    "        X_tsne=X_train_use_tsne,\n",
    "        y_train_monodim=y_train_monodim,\n",
    "        y_train=use_pred_train_bool,\n",
    "        target_names=target_names,\n",
    "        tag_list=[\n",
    "            \"python\",\n",
    "            \"java\",\n",
    "            \"git\",\n",
    "            \"android\",\n",
    "            \"javascript\",\n",
    "            \"css\"\n",
    "        ],\n",
    "        maxcols=3,\n",
    "    )"
   ]
  },
  {
   "cell_type": "markdown",
   "id": "e379b079",
   "metadata": {
    "papermill": {
     "duration": 0.038477,
     "end_time": "2023-01-21T18:09:31.917646",
     "exception": false,
     "start_time": "2023-01-21T18:09:31.879169",
     "status": "completed"
    },
    "tags": []
   },
   "source": [
    "# LDA "
   ]
  },
  {
   "cell_type": "code",
   "execution_count": 59,
   "id": "4f0c01be",
   "metadata": {
    "execution": {
     "iopub.execute_input": "2023-01-21T18:09:32.014733Z",
     "iopub.status.busy": "2023-01-21T18:09:32.014231Z",
     "iopub.status.idle": "2023-01-21T18:09:32.020216Z",
     "shell.execute_reply": "2023-01-21T18:09:32.019373Z"
    },
    "papermill": {
     "duration": 0.054326,
     "end_time": "2023-01-21T18:09:32.024114",
     "exception": false,
     "start_time": "2023-01-21T18:09:31.969788",
     "status": "completed"
    },
    "tags": []
   },
   "outputs": [],
   "source": [
    "# import importlib\n",
    "\n",
    "# importlib.reload(p5_nlp_utils)"
   ]
  },
  {
   "cell_type": "code",
   "execution_count": 60,
   "id": "f2745fc5",
   "metadata": {
    "execution": {
     "iopub.execute_input": "2023-01-21T18:09:32.111508Z",
     "iopub.status.busy": "2023-01-21T18:09:32.111074Z",
     "iopub.status.idle": "2023-01-21T18:09:32.117285Z",
     "shell.execute_reply": "2023-01-21T18:09:32.116472Z"
    },
    "papermill": {
     "duration": 0.054146,
     "end_time": "2023-01-21T18:09:32.121331",
     "exception": false,
     "start_time": "2023-01-21T18:09:32.067185",
     "status": "completed"
    },
    "tags": []
   },
   "outputs": [],
   "source": [
    "import warnings"
   ]
  },
  {
   "cell_type": "code",
   "execution_count": 61,
   "id": "d147e935",
   "metadata": {
    "execution": {
     "iopub.execute_input": "2023-01-21T18:09:32.208755Z",
     "iopub.status.busy": "2023-01-21T18:09:32.208297Z",
     "iopub.status.idle": "2023-01-21T18:09:32.287516Z",
     "shell.execute_reply": "2023-01-21T18:09:32.286705Z"
    },
    "papermill": {
     "duration": 0.126107,
     "end_time": "2023-01-21T18:09:32.290390",
     "exception": false,
     "start_time": "2023-01-21T18:09:32.164283",
     "status": "completed"
    },
    "tags": []
   },
   "outputs": [
    {
     "name": "stdout",
     "output_type": "stream",
     "text": [
      "CPU times: user 6 µs, sys: 0 ns, total: 6 µs\n",
      "Wall time: 11.2 µs\n"
     ]
    }
   ],
   "source": [
    "%%time\n",
    "lda_models = {}\n",
    "if description[\"LDA\"][\"actif\"]:\n",
    "    print(description[\"LDA\"])\n",
    "    X_train_tokens = X_train.str.split()\n",
    "    nb_num_topics = len(description[\"LDA\"][\"num_topics\"])\n",
    "    warnings.filterwarnings(\"ignore\", category=DeprecationWarning)\n",
    "    for indice, num_topics in enumerate(description[\"LDA\"][\"num_topics\"]):\n",
    "        print(f\"Début {num_topics}topics ({indice+1}/{nb_num_topics})\")\n",
    "        lda_model = p5_nlp_utils.LDA(\n",
    "            tokens=X_train_tokens,\n",
    "            num_topics=num_topics,\n",
    "            no_below=description[\"LDA\"][\"lda__no_below\"],\n",
    "            no_above=description[\"LDA\"][\"lda__no_above\"],\n",
    "            max_tokens=description[\"LDA\"][\"lda__max_tokens\"],\n",
    "            iterations=description[\"LDA\"][\"lda__iterations\"],\n",
    "        )\n",
    "        print(f\"Nommage des topis\")\n",
    "        lda_model.name_topics(target_names)\n",
    "        # print(lda_model.topics_names)\n",
    "        lda_model.word_cloud_by_topics(\n",
    "            nb_words=description[\"LDA\"][\"word_cloud__nb_words\"]\n",
    "        )\n",
    "        lda_models[indice] = lda_model.prepare_display()"
   ]
  },
  {
   "cell_type": "markdown",
   "id": "e9f39bc3",
   "metadata": {
    "papermill": {
     "duration": 0.046346,
     "end_time": "2023-01-21T18:09:32.381641",
     "exception": false,
     "start_time": "2023-01-21T18:09:32.335295",
     "status": "completed"
    },
    "tags": []
   },
   "source": [
    "### Affichage des topics avec pyLDAvis:"
   ]
  },
  {
   "cell_type": "code",
   "execution_count": 62,
   "id": "113ade98",
   "metadata": {
    "execution": {
     "iopub.execute_input": "2023-01-21T18:09:32.473763Z",
     "iopub.status.busy": "2023-01-21T18:09:32.473267Z",
     "iopub.status.idle": "2023-01-21T18:09:32.488647Z",
     "shell.execute_reply": "2023-01-21T18:09:32.487779Z"
    },
    "papermill": {
     "duration": 0.065743,
     "end_time": "2023-01-21T18:09:32.493258",
     "exception": false,
     "start_time": "2023-01-21T18:09:32.427515",
     "status": "completed"
    },
    "tags": []
   },
   "outputs": [],
   "source": [
    "pyLDAvis.display(lda_models[0].display_data) if lda_models and lda_models.get(\n",
    "    0, False\n",
    ") else None"
   ]
  },
  {
   "cell_type": "code",
   "execution_count": 63,
   "id": "a70f3053",
   "metadata": {
    "execution": {
     "iopub.execute_input": "2023-01-21T18:09:32.588186Z",
     "iopub.status.busy": "2023-01-21T18:09:32.587845Z",
     "iopub.status.idle": "2023-01-21T18:09:32.605384Z",
     "shell.execute_reply": "2023-01-21T18:09:32.604482Z"
    },
    "papermill": {
     "duration": 0.068686,
     "end_time": "2023-01-21T18:09:32.608286",
     "exception": false,
     "start_time": "2023-01-21T18:09:32.539600",
     "status": "completed"
    },
    "tags": []
   },
   "outputs": [],
   "source": [
    "pyLDAvis.display(lda_models[1].display_data) if lda_models and lda_models.get(\n",
    "    1, False\n",
    ") else None"
   ]
  },
  {
   "cell_type": "code",
   "execution_count": 64,
   "id": "904a8291",
   "metadata": {
    "execution": {
     "iopub.execute_input": "2023-01-21T18:09:32.704568Z",
     "iopub.status.busy": "2023-01-21T18:09:32.704193Z",
     "iopub.status.idle": "2023-01-21T18:09:32.720585Z",
     "shell.execute_reply": "2023-01-21T18:09:32.719696Z"
    },
    "papermill": {
     "duration": 0.067799,
     "end_time": "2023-01-21T18:09:32.722630",
     "exception": false,
     "start_time": "2023-01-21T18:09:32.654831",
     "status": "completed"
    },
    "tags": []
   },
   "outputs": [],
   "source": [
    "pyLDAvis.display(lda_models[2].display_data) if lda_models and lda_models.get(\n",
    "    2, False\n",
    ") else None"
   ]
  },
  {
   "cell_type": "code",
   "execution_count": 65,
   "id": "17cd126e",
   "metadata": {
    "execution": {
     "iopub.execute_input": "2023-01-21T18:09:32.782130Z",
     "iopub.status.busy": "2023-01-21T18:09:32.781849Z",
     "iopub.status.idle": "2023-01-21T18:09:32.786219Z",
     "shell.execute_reply": "2023-01-21T18:09:32.785122Z"
    },
    "papermill": {
     "duration": 0.036067,
     "end_time": "2023-01-21T18:09:32.788261",
     "exception": false,
     "start_time": "2023-01-21T18:09:32.752194",
     "status": "completed"
    },
    "tags": []
   },
   "outputs": [],
   "source": [
    "# pyLDAvis.prepared_data_to_html(lda_models[0].display_data)"
   ]
  },
  {
   "cell_type": "code",
   "execution_count": 66,
   "id": "f283cd81",
   "metadata": {
    "execution": {
     "iopub.execute_input": "2023-01-21T18:09:32.846517Z",
     "iopub.status.busy": "2023-01-21T18:09:32.845671Z",
     "iopub.status.idle": "2023-01-21T18:09:32.872266Z",
     "shell.execute_reply": "2023-01-21T18:09:32.871073Z"
    },
    "papermill": {
     "duration": 0.057772,
     "end_time": "2023-01-21T18:09:32.874225",
     "exception": false,
     "start_time": "2023-01-21T18:09:32.816453",
     "status": "completed"
    },
    "tags": []
   },
   "outputs": [
    {
     "name": "stdout",
     "output_type": "stream",
     "text": [
      "CPU times: user 5 µs, sys: 0 ns, total: 5 µs\n",
      "Wall time: 8.11 µs\n"
     ]
    }
   ],
   "source": [
    "%%time\n",
    "if description[\"LDA\"][\"actif\"]:\n",
    "    lda_model = lda_models[list(lda_models.keys())[-1]]  # last\n",
    "    pred_lda = lda_model.predict(X_test.str.split())\n",
    "    print(\"Exemple prediction\", pred_lda[0])\n",
    "    pred_lda_bool = p5_nlp_utils.LDA.convert_pred(pred_lda, target_names)\n",
    "    print(pred_lda_bool.head(1))"
   ]
  },
  {
   "cell_type": "code",
   "execution_count": 67,
   "id": "40a454b8",
   "metadata": {
    "execution": {
     "iopub.execute_input": "2023-01-21T18:09:32.933726Z",
     "iopub.status.busy": "2023-01-21T18:09:32.932346Z",
     "iopub.status.idle": "2023-01-21T18:09:32.958824Z",
     "shell.execute_reply": "2023-01-21T18:09:32.957536Z"
    },
    "papermill": {
     "duration": 0.057936,
     "end_time": "2023-01-21T18:09:32.960767",
     "exception": false,
     "start_time": "2023-01-21T18:09:32.902831",
     "status": "completed"
    },
    "tags": []
   },
   "outputs": [
    {
     "name": "stdout",
     "output_type": "stream",
     "text": [
      "CPU times: user 4 µs, sys: 0 ns, total: 4 µs\n",
      "Wall time: 7.63 µs\n"
     ]
    }
   ],
   "source": [
    "%%time\n",
    "if description[\"LDA\"][\"actif\"]:\n",
    "    lda_pred_test_score = p5_nlp_utils.Commun.save_score(\n",
    "        y_true=y_test,\n",
    "        y_pred=pred_lda_bool,\n",
    "        target_names=target_names,\n",
    "        name=\"LDA\",\n",
    "    )\n",
    "    print(\"Sur le jeu test:\")\n",
    "    print(lda_pred_test_score.sort_values(by=\"f1-score\", ascending=False))\n",
    "    lda_model.model.save(\"LDA\")"
   ]
  },
  {
   "cell_type": "code",
   "execution_count": 68,
   "id": "c0fb77d2",
   "metadata": {
    "execution": {
     "iopub.execute_input": "2023-01-21T18:09:33.019395Z",
     "iopub.status.busy": "2023-01-21T18:09:33.019119Z",
     "iopub.status.idle": "2023-01-21T18:09:33.023518Z",
     "shell.execute_reply": "2023-01-21T18:09:33.022466Z"
    },
    "papermill": {
     "duration": 0.036107,
     "end_time": "2023-01-21T18:09:33.025460",
     "exception": false,
     "start_time": "2023-01-21T18:09:32.989353",
     "status": "completed"
    },
    "tags": []
   },
   "outputs": [],
   "source": [
    "# X_test.values[0]"
   ]
  },
  {
   "cell_type": "code",
   "execution_count": 69,
   "id": "be1dff94",
   "metadata": {
    "execution": {
     "iopub.execute_input": "2023-01-21T18:09:33.084383Z",
     "iopub.status.busy": "2023-01-21T18:09:33.082849Z",
     "iopub.status.idle": "2023-01-21T18:09:33.088602Z",
     "shell.execute_reply": "2023-01-21T18:09:33.087782Z"
    },
    "papermill": {
     "duration": 0.037102,
     "end_time": "2023-01-21T18:09:33.090603",
     "exception": false,
     "start_time": "2023-01-21T18:09:33.053501",
     "status": "completed"
    },
    "tags": []
   },
   "outputs": [],
   "source": [
    "# pred_lda[0]"
   ]
  },
  {
   "cell_type": "code",
   "execution_count": 70,
   "id": "37f6c87f",
   "metadata": {
    "execution": {
     "iopub.execute_input": "2023-01-21T18:09:33.148869Z",
     "iopub.status.busy": "2023-01-21T18:09:33.148081Z",
     "iopub.status.idle": "2023-01-21T18:09:33.153548Z",
     "shell.execute_reply": "2023-01-21T18:09:33.152696Z"
    },
    "papermill": {
     "duration": 0.036852,
     "end_time": "2023-01-21T18:09:33.155513",
     "exception": false,
     "start_time": "2023-01-21T18:09:33.118661",
     "status": "completed"
    },
    "tags": []
   },
   "outputs": [],
   "source": [
    "# y_test.iloc[0]"
   ]
  },
  {
   "cell_type": "code",
   "execution_count": 71,
   "id": "88e16268",
   "metadata": {
    "execution": {
     "iopub.execute_input": "2023-01-21T18:09:33.213916Z",
     "iopub.status.busy": "2023-01-21T18:09:33.213609Z",
     "iopub.status.idle": "2023-01-21T18:09:33.243547Z",
     "shell.execute_reply": "2023-01-21T18:09:33.242670Z"
    },
    "papermill": {
     "duration": 0.061724,
     "end_time": "2023-01-21T18:09:33.245528",
     "exception": false,
     "start_time": "2023-01-21T18:09:33.183804",
     "status": "completed"
    },
    "tags": []
   },
   "outputs": [],
   "source": [
    "def compare_topic_tags(\n",
    "    pred_topic, y_true, tags=[\"java\", \"python\", \"javascript\", \"git\"]\n",
    "):\n",
    "    \"\"\"Pour chacun des tags, regarde les topics attribué quand ce tag est présent\"\"\"\n",
    "    df_pred = pd.DataFrame(pred_topic)\n",
    "    for tag in tags:\n",
    "        print(f\"***{colors.BOLD}{tag}{colors.ENDC}*** sur {sum(y_true[tag])} positif\")\n",
    "        display(\n",
    "            df_pred[y_true[tag].values]\n",
    "            .describe()\n",
    "            .sort_values(by=\"count\", ascending=False, axis=\"columns\")\n",
    "        )\n",
    "        print(\"\\n\")"
   ]
  },
  {
   "cell_type": "code",
   "execution_count": 72,
   "id": "093a6711",
   "metadata": {
    "execution": {
     "iopub.execute_input": "2023-01-21T18:09:33.303967Z",
     "iopub.status.busy": "2023-01-21T18:09:33.303230Z",
     "iopub.status.idle": "2023-01-21T18:09:33.312958Z",
     "shell.execute_reply": "2023-01-21T18:09:33.312130Z"
    },
    "papermill": {
     "duration": 0.041426,
     "end_time": "2023-01-21T18:09:33.314828",
     "exception": false,
     "start_time": "2023-01-21T18:09:33.273402",
     "status": "completed"
    },
    "tags": []
   },
   "outputs": [],
   "source": [
    "if description[\"LDA\"][\"actif\"]:\n",
    "    compare_topic_tags(pred_lda, y_test)"
   ]
  }
 ],
 "metadata": {
  "kernelspec": {
   "display_name": "Python 3",
   "language": "python",
   "name": "python3"
  },
  "language_info": {
   "codemirror_mode": {
    "name": "ipython",
    "version": 3
   },
   "file_extension": ".py",
   "mimetype": "text/x-python",
   "name": "python",
   "nbconvert_exporter": "python",
   "pygments_lexer": "ipython3",
   "version": "3.7.12"
  },
  "papermill": {
   "default_parameters": {},
   "duration": 20313.927824,
   "end_time": "2023-01-21T18:09:36.302617",
   "environment_variables": {},
   "exception": null,
   "input_path": "__notebook__.ipynb",
   "output_path": "__notebook__.ipynb",
   "parameters": {},
   "start_time": "2023-01-21T12:31:02.374793",
   "version": "2.3.4"
  },
  "widgets": {
   "application/vnd.jupyter.widget-state+json": {
    "state": {
     "05d24076c7a748888255d82d6e3b8c87": {
      "model_module": "@jupyter-widgets/controls",
      "model_module_version": "1.5.0",
      "model_name": "ProgressStyleModel",
      "state": {
       "_model_module": "@jupyter-widgets/controls",
       "_model_module_version": "1.5.0",
       "_model_name": "ProgressStyleModel",
       "_view_count": null,
       "_view_module": "@jupyter-widgets/base",
       "_view_module_version": "1.2.0",
       "_view_name": "StyleView",
       "bar_color": null,
       "description_width": ""
      }
     },
     "05e196be5f8f4c7188f53f773778d029": {
      "model_module": "@jupyter-widgets/controls",
      "model_module_version": "1.5.0",
      "model_name": "FloatProgressModel",
      "state": {
       "_dom_classes": [],
       "_model_module": "@jupyter-widgets/controls",
       "_model_module_version": "1.5.0",
       "_model_name": "FloatProgressModel",
       "_view_count": null,
       "_view_module": "@jupyter-widgets/controls",
       "_view_module_version": "1.5.0",
       "_view_name": "ProgressView",
       "bar_style": "success",
       "description": "",
       "description_tooltip": null,
       "layout": "IPY_MODEL_56a1c99da6924ee0841e902743e7b02f",
       "max": 570.0,
       "min": 0.0,
       "orientation": "horizontal",
       "style": "IPY_MODEL_311c741cad6e4e24a361666fca8403ac",
       "value": 570.0
      }
     },
     "06410d8bf1be4de8a5ace4ee6dc7d686": {
      "model_module": "@jupyter-widgets/controls",
      "model_module_version": "1.5.0",
      "model_name": "SliderStyleModel",
      "state": {
       "_model_module": "@jupyter-widgets/controls",
       "_model_module_version": "1.5.0",
       "_model_name": "SliderStyleModel",
       "_view_count": null,
       "_view_module": "@jupyter-widgets/base",
       "_view_module_version": "1.2.0",
       "_view_name": "StyleView",
       "description_width": "",
       "handle_color": null
      }
     },
     "0832cd3bb01341de84ca411ae75b76b2": {
      "model_module": "@jupyter-widgets/base",
      "model_module_version": "1.2.0",
      "model_name": "LayoutModel",
      "state": {
       "_model_module": "@jupyter-widgets/base",
       "_model_module_version": "1.2.0",
       "_model_name": "LayoutModel",
       "_view_count": null,
       "_view_module": "@jupyter-widgets/base",
       "_view_module_version": "1.2.0",
       "_view_name": "LayoutView",
       "align_content": null,
       "align_items": null,
       "align_self": null,
       "border": null,
       "bottom": null,
       "display": null,
       "flex": null,
       "flex_flow": null,
       "grid_area": null,
       "grid_auto_columns": null,
       "grid_auto_flow": null,
       "grid_auto_rows": null,
       "grid_column": null,
       "grid_gap": null,
       "grid_row": null,
       "grid_template_areas": null,
       "grid_template_columns": null,
       "grid_template_rows": null,
       "height": null,
       "justify_content": null,
       "justify_items": null,
       "left": null,
       "margin": null,
       "max_height": null,
       "max_width": null,
       "min_height": null,
       "min_width": null,
       "object_fit": null,
       "object_position": null,
       "order": null,
       "overflow": null,
       "overflow_x": null,
       "overflow_y": null,
       "padding": null,
       "right": null,
       "top": null,
       "visibility": null,
       "width": null
      }
     },
     "0cb14651ead24789bf1ae7e9043cc3ca": {
      "model_module": "@jupyter-widgets/base",
      "model_module_version": "1.2.0",
      "model_name": "LayoutModel",
      "state": {
       "_model_module": "@jupyter-widgets/base",
       "_model_module_version": "1.2.0",
       "_model_name": "LayoutModel",
       "_view_count": null,
       "_view_module": "@jupyter-widgets/base",
       "_view_module_version": "1.2.0",
       "_view_name": "LayoutView",
       "align_content": null,
       "align_items": null,
       "align_self": null,
       "border": null,
       "bottom": null,
       "display": null,
       "flex": null,
       "flex_flow": null,
       "grid_area": null,
       "grid_auto_columns": null,
       "grid_auto_flow": null,
       "grid_auto_rows": null,
       "grid_column": null,
       "grid_gap": null,
       "grid_row": null,
       "grid_template_areas": null,
       "grid_template_columns": null,
       "grid_template_rows": null,
       "height": null,
       "justify_content": null,
       "justify_items": null,
       "left": null,
       "margin": null,
       "max_height": null,
       "max_width": null,
       "min_height": null,
       "min_width": null,
       "object_fit": null,
       "object_position": null,
       "order": null,
       "overflow": null,
       "overflow_x": null,
       "overflow_y": null,
       "padding": null,
       "right": null,
       "top": null,
       "visibility": null,
       "width": null
      }
     },
     "0dd7c6cba09f469da6893ad22d780678": {
      "model_module": "@jupyter-widgets/controls",
      "model_module_version": "1.5.0",
      "model_name": "HBoxModel",
      "state": {
       "_dom_classes": [],
       "_model_module": "@jupyter-widgets/controls",
       "_model_module_version": "1.5.0",
       "_model_name": "HBoxModel",
       "_view_count": null,
       "_view_module": "@jupyter-widgets/controls",
       "_view_module_version": "1.5.0",
       "_view_name": "HBoxView",
       "box_style": "",
       "children": [
        "IPY_MODEL_ba2814f8e3434b7eab0122d7db3e82c9",
        "IPY_MODEL_53af36565dae40b39e94fe208b32d297",
        "IPY_MODEL_e0d60eb21fda48f9bc647fba37aa764a"
       ],
       "layout": "IPY_MODEL_ddfef0f086104e2c8f23f206df2ac394"
      }
     },
     "15722926e068470c82c3e213cac8c6af": {
      "model_module": "@jupyter-widgets/base",
      "model_module_version": "1.2.0",
      "model_name": "LayoutModel",
      "state": {
       "_model_module": "@jupyter-widgets/base",
       "_model_module_version": "1.2.0",
       "_model_name": "LayoutModel",
       "_view_count": null,
       "_view_module": "@jupyter-widgets/base",
       "_view_module_version": "1.2.0",
       "_view_name": "LayoutView",
       "align_content": null,
       "align_items": null,
       "align_self": null,
       "border": null,
       "bottom": null,
       "display": null,
       "flex": null,
       "flex_flow": null,
       "grid_area": null,
       "grid_auto_columns": null,
       "grid_auto_flow": null,
       "grid_auto_rows": null,
       "grid_column": null,
       "grid_gap": null,
       "grid_row": null,
       "grid_template_areas": null,
       "grid_template_columns": null,
       "grid_template_rows": null,
       "height": null,
       "justify_content": null,
       "justify_items": null,
       "left": null,
       "margin": null,
       "max_height": null,
       "max_width": null,
       "min_height": null,
       "min_width": null,
       "object_fit": null,
       "object_position": null,
       "order": null,
       "overflow": null,
       "overflow_x": null,
       "overflow_y": null,
       "padding": null,
       "right": null,
       "top": null,
       "visibility": null,
       "width": null
      }
     },
     "19f3eaf8b24047b7aa0666ae89f8deed": {
      "model_module": "@jupyter-widgets/controls",
      "model_module_version": "1.5.0",
      "model_name": "HTMLModel",
      "state": {
       "_dom_classes": [],
       "_model_module": "@jupyter-widgets/controls",
       "_model_module_version": "1.5.0",
       "_model_name": "HTMLModel",
       "_view_count": null,
       "_view_module": "@jupyter-widgets/controls",
       "_view_module_version": "1.5.0",
       "_view_name": "HTMLView",
       "description": "",
       "description_tooltip": null,
       "layout": "IPY_MODEL_0832cd3bb01341de84ca411ae75b76b2",
       "placeholder": "​",
       "style": "IPY_MODEL_ab68261ff1784dc89da402c3a567ea1c",
       "value": " 226k/226k [00:00&lt;00:00, 552kB/s]"
      }
     },
     "1f698048fab741ec91e0318a03b32de8": {
      "model_module": "@jupyter-widgets/base",
      "model_module_version": "1.2.0",
      "model_name": "LayoutModel",
      "state": {
       "_model_module": "@jupyter-widgets/base",
       "_model_module_version": "1.2.0",
       "_model_name": "LayoutModel",
       "_view_count": null,
       "_view_module": "@jupyter-widgets/base",
       "_view_module_version": "1.2.0",
       "_view_name": "LayoutView",
       "align_content": null,
       "align_items": null,
       "align_self": null,
       "border": null,
       "bottom": null,
       "display": null,
       "flex": null,
       "flex_flow": null,
       "grid_area": null,
       "grid_auto_columns": null,
       "grid_auto_flow": null,
       "grid_auto_rows": null,
       "grid_column": null,
       "grid_gap": null,
       "grid_row": null,
       "grid_template_areas": null,
       "grid_template_columns": null,
       "grid_template_rows": null,
       "height": null,
       "justify_content": null,
       "justify_items": null,
       "left": null,
       "margin": null,
       "max_height": null,
       "max_width": null,
       "min_height": null,
       "min_width": null,
       "object_fit": null,
       "object_position": null,
       "order": null,
       "overflow": null,
       "overflow_x": null,
       "overflow_y": null,
       "padding": null,
       "right": null,
       "top": null,
       "visibility": null,
       "width": null
      }
     },
     "204141cb48a34888ab4f4f8dd4de46a8": {
      "model_module": "@jupyter-widgets/base",
      "model_module_version": "1.2.0",
      "model_name": "LayoutModel",
      "state": {
       "_model_module": "@jupyter-widgets/base",
       "_model_module_version": "1.2.0",
       "_model_name": "LayoutModel",
       "_view_count": null,
       "_view_module": "@jupyter-widgets/base",
       "_view_module_version": "1.2.0",
       "_view_name": "LayoutView",
       "align_content": null,
       "align_items": null,
       "align_self": null,
       "border": null,
       "bottom": null,
       "display": null,
       "flex": null,
       "flex_flow": null,
       "grid_area": null,
       "grid_auto_columns": null,
       "grid_auto_flow": null,
       "grid_auto_rows": null,
       "grid_column": null,
       "grid_gap": null,
       "grid_row": null,
       "grid_template_areas": null,
       "grid_template_columns": null,
       "grid_template_rows": null,
       "height": null,
       "justify_content": null,
       "justify_items": null,
       "left": null,
       "margin": null,
       "max_height": null,
       "max_width": null,
       "min_height": null,
       "min_width": null,
       "object_fit": null,
       "object_position": null,
       "order": null,
       "overflow": null,
       "overflow_x": null,
       "overflow_y": null,
       "padding": null,
       "right": null,
       "top": null,
       "visibility": null,
       "width": null
      }
     },
     "29dade176c0a4eba8382b6755780e36b": {
      "model_module": "@jupyter-widgets/controls",
      "model_module_version": "1.5.0",
      "model_name": "HTMLModel",
      "state": {
       "_dom_classes": [],
       "_model_module": "@jupyter-widgets/controls",
       "_model_module_version": "1.5.0",
       "_model_name": "HTMLModel",
       "_view_count": null,
       "_view_module": "@jupyter-widgets/controls",
       "_view_module_version": "1.5.0",
       "_view_name": "HTMLView",
       "description": "",
       "description_tooltip": null,
       "layout": "IPY_MODEL_5639be00fc914424b6f85e10126b0c55",
       "placeholder": "​",
       "style": "IPY_MODEL_6c44df68cfad4f00a7c3c466117fcfd7",
       "value": "Downloading: 100%"
      }
     },
     "2faa49f18ddb45c3b08d4472c77eda7e": {
      "model_module": "@jupyter-widgets/controls",
      "model_module_version": "1.5.0",
      "model_name": "DescriptionStyleModel",
      "state": {
       "_model_module": "@jupyter-widgets/controls",
       "_model_module_version": "1.5.0",
       "_model_name": "DescriptionStyleModel",
       "_view_count": null,
       "_view_module": "@jupyter-widgets/base",
       "_view_module_version": "1.2.0",
       "_view_name": "StyleView",
       "description_width": ""
      }
     },
     "311c741cad6e4e24a361666fca8403ac": {
      "model_module": "@jupyter-widgets/controls",
      "model_module_version": "1.5.0",
      "model_name": "ProgressStyleModel",
      "state": {
       "_model_module": "@jupyter-widgets/controls",
       "_model_module_version": "1.5.0",
       "_model_name": "ProgressStyleModel",
       "_view_count": null,
       "_view_module": "@jupyter-widgets/base",
       "_view_module_version": "1.2.0",
       "_view_name": "StyleView",
       "bar_color": null,
       "description_width": ""
      }
     },
     "35a25337a0b74ec1a5e184e4fe8cab21": {
      "model_module": "@jupyter-widgets/controls",
      "model_module_version": "1.5.0",
      "model_name": "DescriptionStyleModel",
      "state": {
       "_model_module": "@jupyter-widgets/controls",
       "_model_module_version": "1.5.0",
       "_model_name": "DescriptionStyleModel",
       "_view_count": null,
       "_view_module": "@jupyter-widgets/base",
       "_view_module_version": "1.2.0",
       "_view_name": "StyleView",
       "description_width": ""
      }
     },
     "3b4325c579f149ddad41c1a380ca9018": {
      "model_module": "@jupyter-widgets/controls",
      "model_module_version": "1.5.0",
      "model_name": "HBoxModel",
      "state": {
       "_dom_classes": [],
       "_model_module": "@jupyter-widgets/controls",
       "_model_module_version": "1.5.0",
       "_model_name": "HBoxModel",
       "_view_count": null,
       "_view_module": "@jupyter-widgets/controls",
       "_view_module_version": "1.5.0",
       "_view_name": "HBoxView",
       "box_style": "",
       "children": [
        "IPY_MODEL_cd3d853b7fbc4c5da1be87e07ca99370",
        "IPY_MODEL_05e196be5f8f4c7188f53f773778d029",
        "IPY_MODEL_7afd225bf859484691712b06fe918785"
       ],
       "layout": "IPY_MODEL_abf329e2a3a1432fb1c4a987eed3fc4e"
      }
     },
     "53af36565dae40b39e94fe208b32d297": {
      "model_module": "@jupyter-widgets/controls",
      "model_module_version": "1.5.0",
      "model_name": "FloatProgressModel",
      "state": {
       "_dom_classes": [],
       "_model_module": "@jupyter-widgets/controls",
       "_model_module_version": "1.5.0",
       "_model_name": "FloatProgressModel",
       "_view_count": null,
       "_view_module": "@jupyter-widgets/controls",
       "_view_module_version": "1.5.0",
       "_view_name": "ProgressView",
       "bar_style": "success",
       "description": "",
       "description_tooltip": null,
       "layout": "IPY_MODEL_f150fa7734204fcdb688c902e9419b21",
       "max": 28.0,
       "min": 0.0,
       "orientation": "horizontal",
       "style": "IPY_MODEL_fe6bad3bc6dd4eca9f307668cb18d22a",
       "value": 28.0
      }
     },
     "5639be00fc914424b6f85e10126b0c55": {
      "model_module": "@jupyter-widgets/base",
      "model_module_version": "1.2.0",
      "model_name": "LayoutModel",
      "state": {
       "_model_module": "@jupyter-widgets/base",
       "_model_module_version": "1.2.0",
       "_model_name": "LayoutModel",
       "_view_count": null,
       "_view_module": "@jupyter-widgets/base",
       "_view_module_version": "1.2.0",
       "_view_name": "LayoutView",
       "align_content": null,
       "align_items": null,
       "align_self": null,
       "border": null,
       "bottom": null,
       "display": null,
       "flex": null,
       "flex_flow": null,
       "grid_area": null,
       "grid_auto_columns": null,
       "grid_auto_flow": null,
       "grid_auto_rows": null,
       "grid_column": null,
       "grid_gap": null,
       "grid_row": null,
       "grid_template_areas": null,
       "grid_template_columns": null,
       "grid_template_rows": null,
       "height": null,
       "justify_content": null,
       "justify_items": null,
       "left": null,
       "margin": null,
       "max_height": null,
       "max_width": null,
       "min_height": null,
       "min_width": null,
       "object_fit": null,
       "object_position": null,
       "order": null,
       "overflow": null,
       "overflow_x": null,
       "overflow_y": null,
       "padding": null,
       "right": null,
       "top": null,
       "visibility": null,
       "width": null
      }
     },
     "56a1c99da6924ee0841e902743e7b02f": {
      "model_module": "@jupyter-widgets/base",
      "model_module_version": "1.2.0",
      "model_name": "LayoutModel",
      "state": {
       "_model_module": "@jupyter-widgets/base",
       "_model_module_version": "1.2.0",
       "_model_name": "LayoutModel",
       "_view_count": null,
       "_view_module": "@jupyter-widgets/base",
       "_view_module_version": "1.2.0",
       "_view_name": "LayoutView",
       "align_content": null,
       "align_items": null,
       "align_self": null,
       "border": null,
       "bottom": null,
       "display": null,
       "flex": null,
       "flex_flow": null,
       "grid_area": null,
       "grid_auto_columns": null,
       "grid_auto_flow": null,
       "grid_auto_rows": null,
       "grid_column": null,
       "grid_gap": null,
       "grid_row": null,
       "grid_template_areas": null,
       "grid_template_columns": null,
       "grid_template_rows": null,
       "height": null,
       "justify_content": null,
       "justify_items": null,
       "left": null,
       "margin": null,
       "max_height": null,
       "max_width": null,
       "min_height": null,
       "min_width": null,
       "object_fit": null,
       "object_position": null,
       "order": null,
       "overflow": null,
       "overflow_x": null,
       "overflow_y": null,
       "padding": null,
       "right": null,
       "top": null,
       "visibility": null,
       "width": null
      }
     },
     "61558fde38d94b43842131e60b24fa59": {
      "model_module": "@jupyter-widgets/controls",
      "model_module_version": "1.5.0",
      "model_name": "DescriptionStyleModel",
      "state": {
       "_model_module": "@jupyter-widgets/controls",
       "_model_module_version": "1.5.0",
       "_model_name": "DescriptionStyleModel",
       "_view_count": null,
       "_view_module": "@jupyter-widgets/base",
       "_view_module_version": "1.2.0",
       "_view_name": "StyleView",
       "description_width": ""
      }
     },
     "639d5ee5a37049f996ccb955453228f6": {
      "model_module": "@jupyter-widgets/output",
      "model_module_version": "1.0.0",
      "model_name": "OutputModel",
      "state": {
       "_dom_classes": [],
       "_model_module": "@jupyter-widgets/output",
       "_model_module_version": "1.0.0",
       "_model_name": "OutputModel",
       "_view_count": null,
       "_view_module": "@jupyter-widgets/output",
       "_view_module_version": "1.0.0",
       "_view_name": "OutputView",
       "layout": "IPY_MODEL_ffece18ad14e4e3baacbd4b9b1705572",
       "msg_id": "",
       "outputs": [
        {
         "name": "stdout",
         "output_type": "stream",
         "text": "Title:How to change culture to a DateTimepicker or calendar control in .Net\n******************************\nTitle_clean:change culture datetimepicker calendar control\n******************************\nBody:<p>How to set internationalization to a <code>DateTimepicker</code> or <code>Calendar WinForm</code> control in .Net when the desire culture is different to the one installed in the PC?</p>\n\n******************************\nBody_clean:set internationalization datetimepicker calendar winform control .net desire culture instal pc\n******************************\nCode:DateTimepicker Calendar WinForm\n******************************\nTags:c# .net internationalization datetimepicker culture\n"
        }
       ]
      }
     },
     "6c44df68cfad4f00a7c3c466117fcfd7": {
      "model_module": "@jupyter-widgets/controls",
      "model_module_version": "1.5.0",
      "model_name": "DescriptionStyleModel",
      "state": {
       "_model_module": "@jupyter-widgets/controls",
       "_model_module_version": "1.5.0",
       "_model_name": "DescriptionStyleModel",
       "_view_count": null,
       "_view_module": "@jupyter-widgets/base",
       "_view_module_version": "1.2.0",
       "_view_name": "StyleView",
       "description_width": ""
      }
     },
     "7022ef44e3314c34a27bdea49ffe0bb4": {
      "model_module": "@jupyter-widgets/base",
      "model_module_version": "1.2.0",
      "model_name": "LayoutModel",
      "state": {
       "_model_module": "@jupyter-widgets/base",
       "_model_module_version": "1.2.0",
       "_model_name": "LayoutModel",
       "_view_count": null,
       "_view_module": "@jupyter-widgets/base",
       "_view_module_version": "1.2.0",
       "_view_name": "LayoutView",
       "align_content": null,
       "align_items": null,
       "align_self": null,
       "border": null,
       "bottom": null,
       "display": null,
       "flex": null,
       "flex_flow": null,
       "grid_area": null,
       "grid_auto_columns": null,
       "grid_auto_flow": null,
       "grid_auto_rows": null,
       "grid_column": null,
       "grid_gap": null,
       "grid_row": null,
       "grid_template_areas": null,
       "grid_template_columns": null,
       "grid_template_rows": null,
       "height": null,
       "justify_content": null,
       "justify_items": null,
       "left": null,
       "margin": null,
       "max_height": null,
       "max_width": null,
       "min_height": null,
       "min_width": null,
       "object_fit": null,
       "object_position": null,
       "order": null,
       "overflow": null,
       "overflow_x": null,
       "overflow_y": null,
       "padding": null,
       "right": null,
       "top": null,
       "visibility": null,
       "width": null
      }
     },
     "787f7ece7d0a4116a8b378720dc9394a": {
      "model_module": "@jupyter-widgets/controls",
      "model_module_version": "1.5.0",
      "model_name": "VBoxModel",
      "state": {
       "_dom_classes": [
        "widget-interact"
       ],
       "_model_module": "@jupyter-widgets/controls",
       "_model_module_version": "1.5.0",
       "_model_name": "VBoxModel",
       "_view_count": null,
       "_view_module": "@jupyter-widgets/controls",
       "_view_module_version": "1.5.0",
       "_view_name": "VBoxView",
       "box_style": "",
       "children": [
        "IPY_MODEL_843a12e7bbdb48bb8fd425f9c9703f45",
        "IPY_MODEL_639d5ee5a37049f996ccb955453228f6"
       ],
       "layout": "IPY_MODEL_204141cb48a34888ab4f4f8dd4de46a8"
      }
     },
     "7afd225bf859484691712b06fe918785": {
      "model_module": "@jupyter-widgets/controls",
      "model_module_version": "1.5.0",
      "model_name": "HTMLModel",
      "state": {
       "_dom_classes": [],
       "_model_module": "@jupyter-widgets/controls",
       "_model_module_version": "1.5.0",
       "_model_name": "HTMLModel",
       "_view_count": null,
       "_view_module": "@jupyter-widgets/controls",
       "_view_module_version": "1.5.0",
       "_view_name": "HTMLView",
       "description": "",
       "description_tooltip": null,
       "layout": "IPY_MODEL_843dae3fb30241cc8f48d4807ac65d26",
       "placeholder": "​",
       "style": "IPY_MODEL_35a25337a0b74ec1a5e184e4fe8cab21",
       "value": " 570/570 [00:00&lt;00:00, 21.9kB/s]"
      }
     },
     "843a12e7bbdb48bb8fd425f9c9703f45": {
      "model_module": "@jupyter-widgets/controls",
      "model_module_version": "1.5.0",
      "model_name": "IntSliderModel",
      "state": {
       "_dom_classes": [],
       "_model_module": "@jupyter-widgets/controls",
       "_model_module_version": "1.5.0",
       "_model_name": "IntSliderModel",
       "_view_count": null,
       "_view_module": "@jupyter-widgets/controls",
       "_view_module_version": "1.5.0",
       "_view_name": "IntSliderView",
       "continuous_update": true,
       "description": "i",
       "description_tooltip": null,
       "disabled": false,
       "layout": "IPY_MODEL_15722926e068470c82c3e213cac8c6af",
       "max": 118441,
       "min": 0,
       "orientation": "horizontal",
       "readout": true,
       "readout_format": "d",
       "step": 1,
       "style": "IPY_MODEL_06410d8bf1be4de8a5ace4ee6dc7d686",
       "value": 59220
      }
     },
     "843dae3fb30241cc8f48d4807ac65d26": {
      "model_module": "@jupyter-widgets/base",
      "model_module_version": "1.2.0",
      "model_name": "LayoutModel",
      "state": {
       "_model_module": "@jupyter-widgets/base",
       "_model_module_version": "1.2.0",
       "_model_name": "LayoutModel",
       "_view_count": null,
       "_view_module": "@jupyter-widgets/base",
       "_view_module_version": "1.2.0",
       "_view_name": "LayoutView",
       "align_content": null,
       "align_items": null,
       "align_self": null,
       "border": null,
       "bottom": null,
       "display": null,
       "flex": null,
       "flex_flow": null,
       "grid_area": null,
       "grid_auto_columns": null,
       "grid_auto_flow": null,
       "grid_auto_rows": null,
       "grid_column": null,
       "grid_gap": null,
       "grid_row": null,
       "grid_template_areas": null,
       "grid_template_columns": null,
       "grid_template_rows": null,
       "height": null,
       "justify_content": null,
       "justify_items": null,
       "left": null,
       "margin": null,
       "max_height": null,
       "max_width": null,
       "min_height": null,
       "min_width": null,
       "object_fit": null,
       "object_position": null,
       "order": null,
       "overflow": null,
       "overflow_x": null,
       "overflow_y": null,
       "padding": null,
       "right": null,
       "top": null,
       "visibility": null,
       "width": null
      }
     },
     "9366e48171eb4baa91cdd233117812d6": {
      "model_module": "@jupyter-widgets/controls",
      "model_module_version": "1.5.0",
      "model_name": "DescriptionStyleModel",
      "state": {
       "_model_module": "@jupyter-widgets/controls",
       "_model_module_version": "1.5.0",
       "_model_name": "DescriptionStyleModel",
       "_view_count": null,
       "_view_module": "@jupyter-widgets/base",
       "_view_module_version": "1.2.0",
       "_view_name": "StyleView",
       "description_width": ""
      }
     },
     "ab68261ff1784dc89da402c3a567ea1c": {
      "model_module": "@jupyter-widgets/controls",
      "model_module_version": "1.5.0",
      "model_name": "DescriptionStyleModel",
      "state": {
       "_model_module": "@jupyter-widgets/controls",
       "_model_module_version": "1.5.0",
       "_model_name": "DescriptionStyleModel",
       "_view_count": null,
       "_view_module": "@jupyter-widgets/base",
       "_view_module_version": "1.2.0",
       "_view_name": "StyleView",
       "description_width": ""
      }
     },
     "abf329e2a3a1432fb1c4a987eed3fc4e": {
      "model_module": "@jupyter-widgets/base",
      "model_module_version": "1.2.0",
      "model_name": "LayoutModel",
      "state": {
       "_model_module": "@jupyter-widgets/base",
       "_model_module_version": "1.2.0",
       "_model_name": "LayoutModel",
       "_view_count": null,
       "_view_module": "@jupyter-widgets/base",
       "_view_module_version": "1.2.0",
       "_view_name": "LayoutView",
       "align_content": null,
       "align_items": null,
       "align_self": null,
       "border": null,
       "bottom": null,
       "display": null,
       "flex": null,
       "flex_flow": null,
       "grid_area": null,
       "grid_auto_columns": null,
       "grid_auto_flow": null,
       "grid_auto_rows": null,
       "grid_column": null,
       "grid_gap": null,
       "grid_row": null,
       "grid_template_areas": null,
       "grid_template_columns": null,
       "grid_template_rows": null,
       "height": null,
       "justify_content": null,
       "justify_items": null,
       "left": null,
       "margin": null,
       "max_height": null,
       "max_width": null,
       "min_height": null,
       "min_width": null,
       "object_fit": null,
       "object_position": null,
       "order": null,
       "overflow": null,
       "overflow_x": null,
       "overflow_y": null,
       "padding": null,
       "right": null,
       "top": null,
       "visibility": null,
       "width": null
      }
     },
     "ba2814f8e3434b7eab0122d7db3e82c9": {
      "model_module": "@jupyter-widgets/controls",
      "model_module_version": "1.5.0",
      "model_name": "HTMLModel",
      "state": {
       "_dom_classes": [],
       "_model_module": "@jupyter-widgets/controls",
       "_model_module_version": "1.5.0",
       "_model_name": "HTMLModel",
       "_view_count": null,
       "_view_module": "@jupyter-widgets/controls",
       "_view_module_version": "1.5.0",
       "_view_name": "HTMLView",
       "description": "",
       "description_tooltip": null,
       "layout": "IPY_MODEL_7022ef44e3314c34a27bdea49ffe0bb4",
       "placeholder": "​",
       "style": "IPY_MODEL_2faa49f18ddb45c3b08d4472c77eda7e",
       "value": "Downloading: 100%"
      }
     },
     "c3bbb664105d4778bc1eba5585a05bc8": {
      "model_module": "@jupyter-widgets/controls",
      "model_module_version": "1.5.0",
      "model_name": "HBoxModel",
      "state": {
       "_dom_classes": [],
       "_model_module": "@jupyter-widgets/controls",
       "_model_module_version": "1.5.0",
       "_model_name": "HBoxModel",
       "_view_count": null,
       "_view_module": "@jupyter-widgets/controls",
       "_view_module_version": "1.5.0",
       "_view_name": "HBoxView",
       "box_style": "",
       "children": [
        "IPY_MODEL_29dade176c0a4eba8382b6755780e36b",
        "IPY_MODEL_d4cb1a4124054a6e88841beded5f7d50",
        "IPY_MODEL_19f3eaf8b24047b7aa0666ae89f8deed"
       ],
       "layout": "IPY_MODEL_d7db9f039f884c5b80aea99060a65930"
      }
     },
     "c775fc416a8544a0bd63a393430e394a": {
      "model_module": "@jupyter-widgets/base",
      "model_module_version": "1.2.0",
      "model_name": "LayoutModel",
      "state": {
       "_model_module": "@jupyter-widgets/base",
       "_model_module_version": "1.2.0",
       "_model_name": "LayoutModel",
       "_view_count": null,
       "_view_module": "@jupyter-widgets/base",
       "_view_module_version": "1.2.0",
       "_view_name": "LayoutView",
       "align_content": null,
       "align_items": null,
       "align_self": null,
       "border": null,
       "bottom": null,
       "display": null,
       "flex": null,
       "flex_flow": null,
       "grid_area": null,
       "grid_auto_columns": null,
       "grid_auto_flow": null,
       "grid_auto_rows": null,
       "grid_column": null,
       "grid_gap": null,
       "grid_row": null,
       "grid_template_areas": null,
       "grid_template_columns": null,
       "grid_template_rows": null,
       "height": null,
       "justify_content": null,
       "justify_items": null,
       "left": null,
       "margin": null,
       "max_height": null,
       "max_width": null,
       "min_height": null,
       "min_width": null,
       "object_fit": null,
       "object_position": null,
       "order": null,
       "overflow": null,
       "overflow_x": null,
       "overflow_y": null,
       "padding": null,
       "right": null,
       "top": null,
       "visibility": null,
       "width": null
      }
     },
     "cd3d853b7fbc4c5da1be87e07ca99370": {
      "model_module": "@jupyter-widgets/controls",
      "model_module_version": "1.5.0",
      "model_name": "HTMLModel",
      "state": {
       "_dom_classes": [],
       "_model_module": "@jupyter-widgets/controls",
       "_model_module_version": "1.5.0",
       "_model_name": "HTMLModel",
       "_view_count": null,
       "_view_module": "@jupyter-widgets/controls",
       "_view_module_version": "1.5.0",
       "_view_name": "HTMLView",
       "description": "",
       "description_tooltip": null,
       "layout": "IPY_MODEL_0cb14651ead24789bf1ae7e9043cc3ca",
       "placeholder": "​",
       "style": "IPY_MODEL_61558fde38d94b43842131e60b24fa59",
       "value": "Downloading: 100%"
      }
     },
     "d4cb1a4124054a6e88841beded5f7d50": {
      "model_module": "@jupyter-widgets/controls",
      "model_module_version": "1.5.0",
      "model_name": "FloatProgressModel",
      "state": {
       "_dom_classes": [],
       "_model_module": "@jupyter-widgets/controls",
       "_model_module_version": "1.5.0",
       "_model_name": "FloatProgressModel",
       "_view_count": null,
       "_view_module": "@jupyter-widgets/controls",
       "_view_module_version": "1.5.0",
       "_view_name": "ProgressView",
       "bar_style": "success",
       "description": "",
       "description_tooltip": null,
       "layout": "IPY_MODEL_c775fc416a8544a0bd63a393430e394a",
       "max": 231508.0,
       "min": 0.0,
       "orientation": "horizontal",
       "style": "IPY_MODEL_05d24076c7a748888255d82d6e3b8c87",
       "value": 231508.0
      }
     },
     "d7db9f039f884c5b80aea99060a65930": {
      "model_module": "@jupyter-widgets/base",
      "model_module_version": "1.2.0",
      "model_name": "LayoutModel",
      "state": {
       "_model_module": "@jupyter-widgets/base",
       "_model_module_version": "1.2.0",
       "_model_name": "LayoutModel",
       "_view_count": null,
       "_view_module": "@jupyter-widgets/base",
       "_view_module_version": "1.2.0",
       "_view_name": "LayoutView",
       "align_content": null,
       "align_items": null,
       "align_self": null,
       "border": null,
       "bottom": null,
       "display": null,
       "flex": null,
       "flex_flow": null,
       "grid_area": null,
       "grid_auto_columns": null,
       "grid_auto_flow": null,
       "grid_auto_rows": null,
       "grid_column": null,
       "grid_gap": null,
       "grid_row": null,
       "grid_template_areas": null,
       "grid_template_columns": null,
       "grid_template_rows": null,
       "height": null,
       "justify_content": null,
       "justify_items": null,
       "left": null,
       "margin": null,
       "max_height": null,
       "max_width": null,
       "min_height": null,
       "min_width": null,
       "object_fit": null,
       "object_position": null,
       "order": null,
       "overflow": null,
       "overflow_x": null,
       "overflow_y": null,
       "padding": null,
       "right": null,
       "top": null,
       "visibility": null,
       "width": null
      }
     },
     "ddfef0f086104e2c8f23f206df2ac394": {
      "model_module": "@jupyter-widgets/base",
      "model_module_version": "1.2.0",
      "model_name": "LayoutModel",
      "state": {
       "_model_module": "@jupyter-widgets/base",
       "_model_module_version": "1.2.0",
       "_model_name": "LayoutModel",
       "_view_count": null,
       "_view_module": "@jupyter-widgets/base",
       "_view_module_version": "1.2.0",
       "_view_name": "LayoutView",
       "align_content": null,
       "align_items": null,
       "align_self": null,
       "border": null,
       "bottom": null,
       "display": null,
       "flex": null,
       "flex_flow": null,
       "grid_area": null,
       "grid_auto_columns": null,
       "grid_auto_flow": null,
       "grid_auto_rows": null,
       "grid_column": null,
       "grid_gap": null,
       "grid_row": null,
       "grid_template_areas": null,
       "grid_template_columns": null,
       "grid_template_rows": null,
       "height": null,
       "justify_content": null,
       "justify_items": null,
       "left": null,
       "margin": null,
       "max_height": null,
       "max_width": null,
       "min_height": null,
       "min_width": null,
       "object_fit": null,
       "object_position": null,
       "order": null,
       "overflow": null,
       "overflow_x": null,
       "overflow_y": null,
       "padding": null,
       "right": null,
       "top": null,
       "visibility": null,
       "width": null
      }
     },
     "e0d60eb21fda48f9bc647fba37aa764a": {
      "model_module": "@jupyter-widgets/controls",
      "model_module_version": "1.5.0",
      "model_name": "HTMLModel",
      "state": {
       "_dom_classes": [],
       "_model_module": "@jupyter-widgets/controls",
       "_model_module_version": "1.5.0",
       "_model_name": "HTMLModel",
       "_view_count": null,
       "_view_module": "@jupyter-widgets/controls",
       "_view_module_version": "1.5.0",
       "_view_name": "HTMLView",
       "description": "",
       "description_tooltip": null,
       "layout": "IPY_MODEL_1f698048fab741ec91e0318a03b32de8",
       "placeholder": "​",
       "style": "IPY_MODEL_9366e48171eb4baa91cdd233117812d6",
       "value": " 28.0/28.0 [00:00&lt;00:00, 1.07kB/s]"
      }
     },
     "f150fa7734204fcdb688c902e9419b21": {
      "model_module": "@jupyter-widgets/base",
      "model_module_version": "1.2.0",
      "model_name": "LayoutModel",
      "state": {
       "_model_module": "@jupyter-widgets/base",
       "_model_module_version": "1.2.0",
       "_model_name": "LayoutModel",
       "_view_count": null,
       "_view_module": "@jupyter-widgets/base",
       "_view_module_version": "1.2.0",
       "_view_name": "LayoutView",
       "align_content": null,
       "align_items": null,
       "align_self": null,
       "border": null,
       "bottom": null,
       "display": null,
       "flex": null,
       "flex_flow": null,
       "grid_area": null,
       "grid_auto_columns": null,
       "grid_auto_flow": null,
       "grid_auto_rows": null,
       "grid_column": null,
       "grid_gap": null,
       "grid_row": null,
       "grid_template_areas": null,
       "grid_template_columns": null,
       "grid_template_rows": null,
       "height": null,
       "justify_content": null,
       "justify_items": null,
       "left": null,
       "margin": null,
       "max_height": null,
       "max_width": null,
       "min_height": null,
       "min_width": null,
       "object_fit": null,
       "object_position": null,
       "order": null,
       "overflow": null,
       "overflow_x": null,
       "overflow_y": null,
       "padding": null,
       "right": null,
       "top": null,
       "visibility": null,
       "width": null
      }
     },
     "fe6bad3bc6dd4eca9f307668cb18d22a": {
      "model_module": "@jupyter-widgets/controls",
      "model_module_version": "1.5.0",
      "model_name": "ProgressStyleModel",
      "state": {
       "_model_module": "@jupyter-widgets/controls",
       "_model_module_version": "1.5.0",
       "_model_name": "ProgressStyleModel",
       "_view_count": null,
       "_view_module": "@jupyter-widgets/base",
       "_view_module_version": "1.2.0",
       "_view_name": "StyleView",
       "bar_color": null,
       "description_width": ""
      }
     },
     "ffece18ad14e4e3baacbd4b9b1705572": {
      "model_module": "@jupyter-widgets/base",
      "model_module_version": "1.2.0",
      "model_name": "LayoutModel",
      "state": {
       "_model_module": "@jupyter-widgets/base",
       "_model_module_version": "1.2.0",
       "_model_name": "LayoutModel",
       "_view_count": null,
       "_view_module": "@jupyter-widgets/base",
       "_view_module_version": "1.2.0",
       "_view_name": "LayoutView",
       "align_content": null,
       "align_items": null,
       "align_self": null,
       "border": null,
       "bottom": null,
       "display": null,
       "flex": null,
       "flex_flow": null,
       "grid_area": null,
       "grid_auto_columns": null,
       "grid_auto_flow": null,
       "grid_auto_rows": null,
       "grid_column": null,
       "grid_gap": null,
       "grid_row": null,
       "grid_template_areas": null,
       "grid_template_columns": null,
       "grid_template_rows": null,
       "height": null,
       "justify_content": null,
       "justify_items": null,
       "left": null,
       "margin": null,
       "max_height": null,
       "max_width": null,
       "min_height": null,
       "min_width": null,
       "object_fit": null,
       "object_position": null,
       "order": null,
       "overflow": null,
       "overflow_x": null,
       "overflow_y": null,
       "padding": null,
       "right": null,
       "top": null,
       "visibility": null,
       "width": null
      }
     }
    },
    "version_major": 2,
    "version_minor": 0
   }
  }
 },
 "nbformat": 4,
 "nbformat_minor": 5
}
