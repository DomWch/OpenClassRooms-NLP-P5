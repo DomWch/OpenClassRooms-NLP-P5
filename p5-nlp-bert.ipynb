{
 "cells": [
  {
   "cell_type": "markdown",
   "id": "7a3df84a",
   "metadata": {
    "papermill": {
     "duration": 0.018516,
     "end_time": "2023-01-20T14:38:55.517798",
     "exception": false,
     "start_time": "2023-01-20T14:38:55.499282",
     "status": "completed"
    },
    "tags": []
   },
   "source": [
    "# Index\n",
    "* [Import](#index)\n",
    "* [Tokenization](#Tokenization)\n",
    "* [CountVectorizer](#CountVectorizer)\n",
    "* [PreprocessPipeline](#PreprocessPipeline)\n",
    "* [OvsRest](#OvsRest)\n",
    "    - [LogisticRegression](#LogisticRegression)\n",
    "    - [SVC](#SVC)\n",
    "* [Word2Vec](#Word2Vec)\n",
    "* [BERT](#BERT)\n",
    "* [USE](#USE)\n",
    "* [LDA](#LDA)"
   ]
  },
  {
   "cell_type": "code",
   "execution_count": 1,
   "id": "d7814fa5",
   "metadata": {
    "_cell_guid": "b1076dfc-b9ad-4769-8c92-a6c4dae69d19",
    "_uuid": "8f2839f25d086af736a60e9eeb907d3b93b6e0e5",
    "execution": {
     "iopub.execute_input": "2023-01-20T14:38:55.554375Z",
     "iopub.status.busy": "2023-01-20T14:38:55.553489Z",
     "iopub.status.idle": "2023-01-20T14:39:10.257442Z",
     "shell.execute_reply": "2023-01-20T14:39:10.256357Z"
    },
    "papermill": {
     "duration": 14.725605,
     "end_time": "2023-01-20T14:39:10.260108",
     "exception": false,
     "start_time": "2023-01-20T14:38:55.534503",
     "status": "completed"
    },
    "tags": []
   },
   "outputs": [
    {
     "name": "stderr",
     "output_type": "stream",
     "text": [
      "/opt/conda/lib/python3.7/site-packages/past/types/oldstr.py:36: DeprecationWarning: invalid escape sequence \\d\n",
      "  \"\"\"\n",
      "/opt/conda/lib/python3.7/site-packages/past/builtins/misc.py:45: DeprecationWarning: the imp module is deprecated in favour of importlib; see the module's documentation for alternative uses\n",
      "  from imp import reload\n",
      "/opt/conda/lib/python3.7/site-packages/tensorflow/python/framework/dtypes.py:585: DeprecationWarning: `np.object` is a deprecated alias for the builtin `object`. To silence this warning, use `object` by itself. Doing this will not modify any behavior and is safe. \n",
      "Deprecated in NumPy 1.20; for more details and guidance: https://numpy.org/devdocs/release/1.20.0-notes.html#deprecations\n",
      "  np.object,\n",
      "/opt/conda/lib/python3.7/site-packages/tensorflow/python/framework/dtypes.py:627: DeprecationWarning: `np.object` is a deprecated alias for the builtin `object`. To silence this warning, use `object` by itself. Doing this will not modify any behavior and is safe. \n",
      "Deprecated in NumPy 1.20; for more details and guidance: https://numpy.org/devdocs/release/1.20.0-notes.html#deprecations\n",
      "  np.object,\n",
      "/opt/conda/lib/python3.7/site-packages/tensorflow/python/framework/dtypes.py:637: DeprecationWarning: `np.bool` is a deprecated alias for the builtin `bool`. To silence this warning, use `bool` by itself. Doing this will not modify any behavior and is safe. If you specifically wanted the numpy scalar type, use `np.bool_` here.\n",
      "Deprecated in NumPy 1.20; for more details and guidance: https://numpy.org/devdocs/release/1.20.0-notes.html#deprecations\n",
      "  np.bool,\n",
      "/opt/conda/lib/python3.7/site-packages/tensorflow/python/framework/tensor_util.py:108: DeprecationWarning: `np.object` is a deprecated alias for the builtin `object`. To silence this warning, use `object` by itself. Doing this will not modify any behavior and is safe. \n",
      "Deprecated in NumPy 1.20; for more details and guidance: https://numpy.org/devdocs/release/1.20.0-notes.html#deprecations\n",
      "  np.object:\n",
      "/opt/conda/lib/python3.7/site-packages/tensorflow/python/framework/tensor_util.py:110: DeprecationWarning: `np.bool` is a deprecated alias for the builtin `bool`. To silence this warning, use `bool` by itself. Doing this will not modify any behavior and is safe. If you specifically wanted the numpy scalar type, use `np.bool_` here.\n",
      "Deprecated in NumPy 1.20; for more details and guidance: https://numpy.org/devdocs/release/1.20.0-notes.html#deprecations\n",
      "  np.bool:\n",
      "/opt/conda/lib/python3.7/site-packages/tensorflow/python/ops/numpy_ops/np_random.py:110: DeprecationWarning: `np.int` is a deprecated alias for the builtin `int`. To silence this warning, use `int` by itself. Doing this will not modify any behavior and is safe. When replacing `np.int`, you may wish to use e.g. `np.int64` or `np.int32` to specify the precision. If you wish to review your current use, check the release note link for additional information.\n",
      "Deprecated in NumPy 1.20; for more details and guidance: https://numpy.org/devdocs/release/1.20.0-notes.html#deprecations\n",
      "  def randint(low, high=None, size=None, dtype=onp.int):  # pylint: disable=missing-function-docstring\n",
      "/opt/conda/lib/python3.7/site-packages/keras_preprocessing/image/utils.py:23: DeprecationWarning: NEAREST is deprecated and will be removed in Pillow 10 (2023-07-01). Use Resampling.NEAREST or Dither.NONE instead.\n",
      "  'nearest': pil_image.NEAREST,\n",
      "/opt/conda/lib/python3.7/site-packages/keras_preprocessing/image/utils.py:24: DeprecationWarning: BILINEAR is deprecated and will be removed in Pillow 10 (2023-07-01). Use Resampling.BILINEAR instead.\n",
      "  'bilinear': pil_image.BILINEAR,\n",
      "/opt/conda/lib/python3.7/site-packages/keras_preprocessing/image/utils.py:25: DeprecationWarning: BICUBIC is deprecated and will be removed in Pillow 10 (2023-07-01). Use Resampling.BICUBIC instead.\n",
      "  'bicubic': pil_image.BICUBIC,\n",
      "/opt/conda/lib/python3.7/site-packages/keras_preprocessing/image/utils.py:28: DeprecationWarning: HAMMING is deprecated and will be removed in Pillow 10 (2023-07-01). Use Resampling.HAMMING instead.\n",
      "  if hasattr(pil_image, 'HAMMING'):\n",
      "/opt/conda/lib/python3.7/site-packages/keras_preprocessing/image/utils.py:29: DeprecationWarning: HAMMING is deprecated and will be removed in Pillow 10 (2023-07-01). Use Resampling.HAMMING instead.\n",
      "  _PIL_INTERPOLATION_METHODS['hamming'] = pil_image.HAMMING\n",
      "/opt/conda/lib/python3.7/site-packages/keras_preprocessing/image/utils.py:30: DeprecationWarning: BOX is deprecated and will be removed in Pillow 10 (2023-07-01). Use Resampling.BOX instead.\n",
      "  if hasattr(pil_image, 'BOX'):\n",
      "/opt/conda/lib/python3.7/site-packages/keras_preprocessing/image/utils.py:31: DeprecationWarning: BOX is deprecated and will be removed in Pillow 10 (2023-07-01). Use Resampling.BOX instead.\n",
      "  _PIL_INTERPOLATION_METHODS['box'] = pil_image.BOX\n",
      "/opt/conda/lib/python3.7/site-packages/keras_preprocessing/image/utils.py:33: DeprecationWarning: LANCZOS is deprecated and will be removed in Pillow 10 (2023-07-01). Use Resampling.LANCZOS instead.\n",
      "  if hasattr(pil_image, 'LANCZOS'):\n",
      "/opt/conda/lib/python3.7/site-packages/keras_preprocessing/image/utils.py:34: DeprecationWarning: LANCZOS is deprecated and will be removed in Pillow 10 (2023-07-01). Use Resampling.LANCZOS instead.\n",
      "  _PIL_INTERPOLATION_METHODS['lanczos'] = pil_image.LANCZOS\n",
      "2023-01-20 14:39:04.789816: I tensorflow/stream_executor/cuda/cuda_gpu_executor.cc:937] successful NUMA node read from SysFS had negative value (-1), but there must be at least one NUMA node, so returning NUMA node zero\n",
      "2023-01-20 14:39:04.791047: I tensorflow/stream_executor/cuda/cuda_gpu_executor.cc:937] successful NUMA node read from SysFS had negative value (-1), but there must be at least one NUMA node, so returning NUMA node zero\n",
      "2023-01-20 14:39:04.791793: I tensorflow/stream_executor/cuda/cuda_gpu_executor.cc:937] successful NUMA node read from SysFS had negative value (-1), but there must be at least one NUMA node, so returning NUMA node zero\n",
      "2023-01-20 14:39:04.793572: I tensorflow/core/platform/cpu_feature_guard.cc:142] This TensorFlow binary is optimized with oneAPI Deep Neural Network Library (oneDNN) to use the following CPU instructions in performance-critical operations:  AVX2 AVX512F FMA\n",
      "To enable them in other operations, rebuild TensorFlow with the appropriate compiler flags.\n",
      "2023-01-20 14:39:04.793937: I tensorflow/stream_executor/cuda/cuda_gpu_executor.cc:937] successful NUMA node read from SysFS had negative value (-1), but there must be at least one NUMA node, so returning NUMA node zero\n",
      "2023-01-20 14:39:04.794683: I tensorflow/stream_executor/cuda/cuda_gpu_executor.cc:937] successful NUMA node read from SysFS had negative value (-1), but there must be at least one NUMA node, so returning NUMA node zero\n",
      "2023-01-20 14:39:04.795523: I tensorflow/stream_executor/cuda/cuda_gpu_executor.cc:937] successful NUMA node read from SysFS had negative value (-1), but there must be at least one NUMA node, so returning NUMA node zero\n",
      "2023-01-20 14:39:09.873366: I tensorflow/stream_executor/cuda/cuda_gpu_executor.cc:937] successful NUMA node read from SysFS had negative value (-1), but there must be at least one NUMA node, so returning NUMA node zero\n",
      "2023-01-20 14:39:09.874295: I tensorflow/stream_executor/cuda/cuda_gpu_executor.cc:937] successful NUMA node read from SysFS had negative value (-1), but there must be at least one NUMA node, so returning NUMA node zero\n",
      "2023-01-20 14:39:09.874986: I tensorflow/stream_executor/cuda/cuda_gpu_executor.cc:937] successful NUMA node read from SysFS had negative value (-1), but there must be at least one NUMA node, so returning NUMA node zero\n",
      "2023-01-20 14:39:09.875621: I tensorflow/core/common_runtime/gpu/gpu_device.cc:1510] Created device /job:localhost/replica:0/task:0/device:GPU:0 with 15043 MB memory:  -> device: 0, name: Tesla P100-PCIE-16GB, pci bus id: 0000:00:04.0, compute capability: 6.0\n"
     ]
    }
   ],
   "source": [
    "import time\n",
    "import json\n",
    "import os\n",
    "\n",
    "# from joblib import dump, load, Memory\n",
    "import joblib\n",
    "import dill\n",
    "import weakref\n",
    "\n",
    "# import warnings\n",
    "\n",
    "import numpy as np\n",
    "import pandas as pd\n",
    "import gensim\n",
    "import pyLDAvis\n",
    "import matplotlib.pyplot as plt\n",
    "\n",
    "# from gensim import (\n",
    "#     corpora,\n",
    "# )  # https://pypi.org/project/gensim/ #https://radimrehurek.com/gensim/auto_examples/core/run_topics_and_transformations.html#sphx-glr-auto-examples-core-run-topics-and-transformations-py\n",
    "from sklearn import (\n",
    "    metrics,\n",
    "    feature_extraction,\n",
    "    linear_model,\n",
    "    model_selection,\n",
    "    preprocessing,\n",
    "    cluster,\n",
    "    decomposition,\n",
    "    multiclass,\n",
    "    svm,\n",
    "    pipeline,\n",
    "    exceptions,\n",
    "    manifold,\n",
    ")\n",
    "from wordcloud import WordCloud\n",
    "from sklearn.utils._testing import ignore_warnings\n",
    "from sklearn.base import BaseEstimator, TransformerMixin\n",
    "import tensorflow as tf\n",
    "import tensorflow_hub as hub\n",
    "from transformers import (\n",
    "    AutoTokenizer,\n",
    "    TFAutoModel,\n",
    "    AutoModel,\n",
    "    BertTokenizer,\n",
    "    TFBertModel,\n",
    "    BertConfig,\n",
    ")  # BertModel\n",
    "import transformers\n",
    "from tokenizers import BertWordPieceTokenizer\n",
    "\n",
    "\n",
    "# import nlpk"
   ]
  },
  {
   "cell_type": "code",
   "execution_count": 2,
   "id": "76bffc34",
   "metadata": {
    "execution": {
     "iopub.execute_input": "2023-01-20T14:39:10.295904Z",
     "iopub.status.busy": "2023-01-20T14:39:10.295334Z",
     "iopub.status.idle": "2023-01-20T14:39:10.353839Z",
     "shell.execute_reply": "2023-01-20T14:39:10.352879Z"
    },
    "papermill": {
     "duration": 0.078411,
     "end_time": "2023-01-20T14:39:10.355948",
     "exception": false,
     "start_time": "2023-01-20T14:39:10.277537",
     "status": "completed"
    },
    "tags": []
   },
   "outputs": [],
   "source": [
    "from kerasembedtransformerclass import p5_nlp_utils"
   ]
  },
  {
   "cell_type": "markdown",
   "id": "5d8089a8",
   "metadata": {
    "papermill": {
     "duration": 0.017067,
     "end_time": "2023-01-20T14:39:10.390305",
     "exception": false,
     "start_time": "2023-01-20T14:39:10.373238",
     "status": "completed"
    },
    "tags": []
   },
   "source": [
    "https://scikit-learn.org/stable/modules/multiclass.html test autre stategie que OneVsRest  \n",
    "https://keras.io/examples/nlp/text_extraction_with_bert/  "
   ]
  },
  {
   "cell_type": "code",
   "execution_count": 3,
   "id": "0ea4865e",
   "metadata": {
    "_kg_hide-output": true,
    "execution": {
     "iopub.execute_input": "2023-01-20T14:39:10.425960Z",
     "iopub.status.busy": "2023-01-20T14:39:10.425613Z",
     "iopub.status.idle": "2023-01-20T14:39:21.926566Z",
     "shell.execute_reply": "2023-01-20T14:39:21.924627Z"
    },
    "papermill": {
     "duration": 11.522067,
     "end_time": "2023-01-20T14:39:21.930003",
     "exception": false,
     "start_time": "2023-01-20T14:39:10.407936",
     "status": "completed"
    },
    "tags": []
   },
   "outputs": [
    {
     "name": "stdout",
     "output_type": "stream",
     "text": [
      "\u001b[33mWARNING: Running pip as the 'root' user can result in broken permissions and conflicting behaviour with the system package manager. It is recommended to use a virtual environment instead: https://pip.pypa.io/warnings/venv\u001b[0m\u001b[33m\r\n",
      "\u001b[0mNote: you may need to restart the kernel to use updated packages.\n"
     ]
    }
   ],
   "source": [
    "pip install -q jupyter-black jupyter"
   ]
  },
  {
   "cell_type": "code",
   "execution_count": 4,
   "id": "c2d51a9d",
   "metadata": {
    "execution": {
     "iopub.execute_input": "2023-01-20T14:39:21.967185Z",
     "iopub.status.busy": "2023-01-20T14:39:21.966818Z",
     "iopub.status.idle": "2023-01-20T14:39:22.107727Z",
     "shell.execute_reply": "2023-01-20T14:39:22.106630Z"
    },
    "papermill": {
     "duration": 0.161499,
     "end_time": "2023-01-20T14:39:22.109887",
     "exception": false,
     "start_time": "2023-01-20T14:39:21.948388",
     "status": "completed"
    },
    "tags": []
   },
   "outputs": [
    {
     "data": {
      "text/html": [
       "\n",
       "                <script type=\"application/javascript\" id=\"jupyter_black\">\n",
       "                (function() {\n",
       "                    if (window.IPython === undefined) {\n",
       "                        return\n",
       "                    }\n",
       "                    var msg = \"WARNING: it looks like you might have loaded \" +\n",
       "                        \"jupyter_black in a non-lab notebook with \" +\n",
       "                        \"`is_lab=True`. Please double check, and if \" +\n",
       "                        \"loading with `%load_ext` please review the README!\"\n",
       "                    console.log(msg)\n",
       "                    alert(msg)\n",
       "                })()\n",
       "                </script>\n",
       "                "
      ],
      "text/plain": [
       "<IPython.core.display.HTML object>"
      ]
     },
     "metadata": {},
     "output_type": "display_data"
    }
   ],
   "source": [
    "# for black formating\n",
    "import jupyter_black  # pip install jupyter-black jupyter\n",
    "\n",
    "jupyter_black.load()\n",
    "# ??jupyter_black.load #show config"
   ]
  },
  {
   "cell_type": "code",
   "execution_count": 5,
   "id": "66a9fb33",
   "metadata": {
    "execution": {
     "iopub.execute_input": "2023-01-20T14:39:22.146641Z",
     "iopub.status.busy": "2023-01-20T14:39:22.145760Z",
     "iopub.status.idle": "2023-01-20T14:39:30.010285Z",
     "shell.execute_reply": "2023-01-20T14:39:30.009156Z"
    },
    "papermill": {
     "duration": 7.886196,
     "end_time": "2023-01-20T14:39:30.013945",
     "exception": false,
     "start_time": "2023-01-20T14:39:22.127749",
     "status": "completed"
    },
    "tags": []
   },
   "outputs": [
    {
     "name": "stdout",
     "output_type": "stream",
     "text": [
      "<class 'pandas.core.frame.DataFrame'>\n",
      "Int64Index: 118442 entries, 0 to 118441\n",
      "Data columns (total 12 columns):\n",
      " #   Column       Non-Null Count   Dtype \n",
      "---  ------       --------------   ----- \n",
      " 0   Id           118442 non-null  int64 \n",
      " 1   Title        118442 non-null  object\n",
      " 2   Body         118442 non-null  object\n",
      " 3   0            118440 non-null  object\n",
      " 4   1            118383 non-null  object\n",
      " 5   2            118292 non-null  object\n",
      " 6   3            118292 non-null  object\n",
      " 7   4            76389 non-null   object\n",
      " 8   5            4 non-null       object\n",
      " 9   Title_clean  118389 non-null  object\n",
      " 10  Code         88202 non-null   object\n",
      " 11  Body_clean   118392 non-null  object\n",
      "dtypes: int64(1), object(11)\n",
      "memory usage: 11.7+ MB\n"
     ]
    }
   ],
   "source": [
    "df = pd.read_csv(\n",
    "    \"/kaggle/input/p5-nlp/stackoverflowCleaned.csv\", index_col=0, low_memory=False\n",
    ")\n",
    "df.info()"
   ]
  },
  {
   "cell_type": "code",
   "execution_count": 6,
   "id": "69f7d37b",
   "metadata": {
    "execution": {
     "iopub.execute_input": "2023-01-20T14:39:30.053539Z",
     "iopub.status.busy": "2023-01-20T14:39:30.052538Z",
     "iopub.status.idle": "2023-01-20T14:39:30.127344Z",
     "shell.execute_reply": "2023-01-20T14:39:30.126401Z"
    },
    "papermill": {
     "duration": 0.095956,
     "end_time": "2023-01-20T14:39:30.129583",
     "exception": false,
     "start_time": "2023-01-20T14:39:30.033627",
     "status": "completed"
    },
    "tags": []
   },
   "outputs": [],
   "source": [
    "LONG = False\n",
    "description = {\n",
    "    \"title\": \"BERT avec text sans nettoyage\",\n",
    "    \"CountVectorizer\": {\"min_df\": 0.00001, \"max_df\": 0.995, \"max_features\": None},\n",
    "    \"StandardScaler\": {\"actif\": False},\n",
    "    \"TruncatedSVD\": {\"actif\": False, \"n_components\": 1_000},\n",
    "    \"LogisticRegression\": {\"actif\": False},\n",
    "    \"TfidfOvRSVC\": {\"actif\": False, \"max_iter\": 100},\n",
    "    \"kerasPipeline\": {\n",
    "        \"actif\": False,\n",
    "        \"TextVectorization__max_tokens\": 210_000,  # 20_000,\n",
    "        \"TextVectorization__output_sequence_length\": 100,  # 20\n",
    "        \"Embedding__output_dim\": 500,\n",
    "        \"Word2Vec__min_count\": 5,\n",
    "        \"Word2Vec__window\": 25,\n",
    "        \"Word2Vec__epochs\": 150,  # 100,\n",
    "        \"fit__epochs\": 15,  # 15\n",
    "    },\n",
    "    \"Word2Vec\": {\n",
    "        \"actif\": False,\n",
    "        \"min_count\": 1,\n",
    "        \"size\": 500,\n",
    "        \"window\": 10,\n",
    "        \"epochs\": 100,\n",
    "        \"maxlen\": 50,\n",
    "        \"max_iter\": 6_000,\n",
    "    },\n",
    "    \"BERT\": {\n",
    "        \"actif\": True,\n",
    "        \"max_length\": 512,\n",
    "        \"epochs\": 5,\n",
    "        \"raw_text\":True\n",
    "    },\n",
    "    \"USE\": {\"actif\": False, \"tsne_visu\": True, \"epochs\": 150},\n",
    "    \"LDA\": {\n",
    "        \"actif\": False,\n",
    "        \"num_topics\": [20],  # [5, 10, 20],\n",
    "        \"lda__no_below\": 100,\n",
    "        \"lda__no_above\": 0.5,\n",
    "        \"lda__max_tokens\": 100_000,\n",
    "        \"lda__iterations\": 50,\n",
    "        \"word_cloud__nb_words\": 50,\n",
    "    },\n",
    "}"
   ]
  },
  {
   "cell_type": "code",
   "execution_count": 7,
   "id": "632b7126",
   "metadata": {
    "execution": {
     "iopub.execute_input": "2023-01-20T14:39:30.165935Z",
     "iopub.status.busy": "2023-01-20T14:39:30.165616Z",
     "iopub.status.idle": "2023-01-20T14:39:30.171224Z",
     "shell.execute_reply": "2023-01-20T14:39:30.170168Z"
    },
    "papermill": {
     "duration": 0.026443,
     "end_time": "2023-01-20T14:39:30.173193",
     "exception": false,
     "start_time": "2023-01-20T14:39:30.146750",
     "status": "completed"
    },
    "tags": []
   },
   "outputs": [],
   "source": [
    "# # ultra fast\n",
    "# description[\"kerasPipeline\"][\"fit__epochs\"] = 1\n",
    "# description[\"kerasPipeline\"][\"TextVectorization__max_tokens\"] = 100\n",
    "# description[\"kerasPipeline\"][\"TextVectorization__output_sequence_length\"] = 5\n",
    "# description[\"kerasPipeline\"][\"Word2Vec__epochs\"] = 1\n",
    "# description[\"kerasPipeline\"][\"Embedding__output_dim\"] = 10"
   ]
  },
  {
   "cell_type": "code",
   "execution_count": 8,
   "id": "5dd05507",
   "metadata": {
    "execution": {
     "iopub.execute_input": "2023-01-20T14:39:30.208939Z",
     "iopub.status.busy": "2023-01-20T14:39:30.208653Z",
     "iopub.status.idle": "2023-01-20T14:39:30.227989Z",
     "shell.execute_reply": "2023-01-20T14:39:30.227039Z"
    },
    "papermill": {
     "duration": 0.03969,
     "end_time": "2023-01-20T14:39:30.230092",
     "exception": false,
     "start_time": "2023-01-20T14:39:30.190402",
     "status": "completed"
    },
    "tags": []
   },
   "outputs": [],
   "source": [
    "class colors:\n",
    "    PURPLE = \"\\033[95m\"\n",
    "    BLUE = \"\\033[94m\"\n",
    "    CYAN = \"\\033[96m\"\n",
    "    GREEN = \"\\033[92m\"\n",
    "    YELLOW = \"\\033[93m\"\n",
    "    RED = \"\\033[91m\"\n",
    "    ENDC = \"\\033[0m\"\n",
    "    BOLD = \"\\033[1m\"\n",
    "    UNDERLINE = \"\\033[4m\""
   ]
  },
  {
   "cell_type": "markdown",
   "id": "1970cfcd",
   "metadata": {
    "papermill": {
     "duration": 0.017707,
     "end_time": "2023-01-20T14:39:30.265158",
     "exception": false,
     "start_time": "2023-01-20T14:39:30.247451",
     "status": "completed"
    },
    "tags": []
   },
   "source": [
    "# Tokenization"
   ]
  },
  {
   "cell_type": "code",
   "execution_count": 9,
   "id": "e0bc1c76",
   "metadata": {
    "execution": {
     "iopub.execute_input": "2023-01-20T14:39:30.301487Z",
     "iopub.status.busy": "2023-01-20T14:39:30.300716Z",
     "iopub.status.idle": "2023-01-20T14:39:30.352810Z",
     "shell.execute_reply": "2023-01-20T14:39:30.351668Z"
    },
    "papermill": {
     "duration": 0.078035,
     "end_time": "2023-01-20T14:39:30.360277",
     "exception": false,
     "start_time": "2023-01-20T14:39:30.282242",
     "status": "completed"
    },
    "tags": []
   },
   "outputs": [
    {
     "name": "stderr",
     "output_type": "stream",
     "text": [
      "/opt/conda/lib/python3.7/site-packages/ipykernel/pylab/backend_inline.py:13: DeprecationWarning: `ipykernel.pylab.backend_inline` is deprecated, directly use `matplotlib_inline.backend_inline`\n",
      "  DeprecationWarning,\n"
     ]
    },
    {
     "data": {
      "application/vnd.jupyter.widget-view+json": {
       "model_id": "b48195f165884cde98916479b802a9a7",
       "version_major": 2,
       "version_minor": 0
      },
      "text/plain": [
       "interactive(children=(IntSlider(value=59220, description='i', max=118441), Output()), _dom_classes=('widget-in…"
      ]
     },
     "metadata": {},
     "output_type": "display_data"
    }
   ],
   "source": [
    "from ipywidgets import interact\n",
    "\n",
    "\n",
    "@interact(i=(0, df.shape[0] - 1))\n",
    "def test_tr_print(i):\n",
    "    print(\n",
    "        f'Title:{df[\"Title\"][i]}\\n{\"*\"*30}\\nTitle_clean:{df[\"Title_clean\"][i]}\\n{\"*\"*30}\\nBody:{df[\"Body\"][i]}\\n{\"*\"*30}\\nBody_clean:{df[\"Body_clean\"][i]}\\n{\"*\"*30}\\nCode:{df[\"Code\"][i]}\\n{\"*\"*30}\\nTags:{df.loc[i,\"0\"]} {df.loc[i,\"1\"]} {df.loc[i,\"2\"]} {df.loc[i,\"3\"]} {df.loc[i,\"4\"]}'\n",
    "    )"
   ]
  },
  {
   "cell_type": "code",
   "execution_count": 10,
   "id": "317b0d54",
   "metadata": {
    "execution": {
     "iopub.execute_input": "2023-01-20T14:39:30.399174Z",
     "iopub.status.busy": "2023-01-20T14:39:30.398814Z",
     "iopub.status.idle": "2023-01-20T14:39:30.451780Z",
     "shell.execute_reply": "2023-01-20T14:39:30.450208Z"
    },
    "papermill": {
     "duration": 0.074603,
     "end_time": "2023-01-20T14:39:30.454864",
     "exception": false,
     "start_time": "2023-01-20T14:39:30.380261",
     "status": "completed"
    },
    "tags": []
   },
   "outputs": [
    {
     "name": "stdout",
     "output_type": "stream",
     "text": [
      "53\n"
     ]
    },
    {
     "data": {
      "text/html": [
       "<div>\n",
       "<style scoped>\n",
       "    .dataframe tbody tr th:only-of-type {\n",
       "        vertical-align: middle;\n",
       "    }\n",
       "\n",
       "    .dataframe tbody tr th {\n",
       "        vertical-align: top;\n",
       "    }\n",
       "\n",
       "    .dataframe thead th {\n",
       "        text-align: right;\n",
       "    }\n",
       "</style>\n",
       "<table border=\"1\" class=\"dataframe\">\n",
       "  <thead>\n",
       "    <tr style=\"text-align: right;\">\n",
       "      <th></th>\n",
       "      <th>Title</th>\n",
       "      <th>Title_clean</th>\n",
       "      <th>Body</th>\n",
       "      <th>Body_clean</th>\n",
       "      <th>0</th>\n",
       "      <th>1</th>\n",
       "      <th>2</th>\n",
       "      <th>3</th>\n",
       "      <th>4</th>\n",
       "    </tr>\n",
       "  </thead>\n",
       "  <tbody>\n",
       "    <tr>\n",
       "      <th>302</th>\n",
       "      <td>Is &lt; faster than &lt;=?</td>\n",
       "      <td>NaN</td>\n",
       "      <td>&lt;p&gt;Is &lt;code&gt;if (a &amp;lt; 901)&lt;/code&gt; faster than...</td>\n",
       "      <td>example performance change loop code suppose g...</td>\n",
       "      <td>c++</td>\n",
       "      <td>c</td>\n",
       "      <td>performance</td>\n",
       "      <td>assembly</td>\n",
       "      <td>relational-operators</td>\n",
       "    </tr>\n",
       "    <tr>\n",
       "      <th>393</th>\n",
       "      <td>What is setup.py?</td>\n",
       "      <td>NaN</td>\n",
       "      <td>&lt;p&gt;What is &lt;code&gt;setup.py&lt;/code&gt; and how can i...</td>\n",
       "      <td>configure</td>\n",
       "      <td>python</td>\n",
       "      <td>pypi</td>\n",
       "      <td>setup.py</td>\n",
       "      <td>python-packaging</td>\n",
       "      <td>NaN</td>\n",
       "    </tr>\n",
       "    <tr>\n",
       "      <th>1437</th>\n",
       "      <td>What is related_name used for?</td>\n",
       "      <td>NaN</td>\n",
       "      <td>&lt;p&gt;What is the &lt;code&gt;related_name&lt;/code&gt; argum...</td>\n",
       "      <td>argument manytomanyfield foreignkey field exam...</td>\n",
       "      <td>python</td>\n",
       "      <td>django</td>\n",
       "      <td>foreign-keys</td>\n",
       "      <td>many-to-many</td>\n",
       "      <td>NaN</td>\n",
       "    </tr>\n",
       "    <tr>\n",
       "      <th>4062</th>\n",
       "      <td>What is \"android:allowBackup\"?</td>\n",
       "      <td>NaN</td>\n",
       "      <td>&lt;p&gt;Since the &lt;a href=\"http://tools.android.com...</td>\n",
       "      <td>adt preview version version lint warning tell ...</td>\n",
       "      <td>android</td>\n",
       "      <td>adt</td>\n",
       "      <td>compiler-warnings</td>\n",
       "      <td>android-lint</td>\n",
       "      <td>android-backup-service</td>\n",
       "    </tr>\n",
       "    <tr>\n",
       "      <th>4870</th>\n",
       "      <td>Why is 0 &lt; -0x80000000?</td>\n",
       "      <td>NaN</td>\n",
       "      <td>&lt;p&gt;I have below a simple program:&lt;/p&gt;\\n\\n&lt;pre&gt;...</td>\n",
       "      <td>program condition if(bal int32_min work change...</td>\n",
       "      <td>c</td>\n",
       "      <td>signed</td>\n",
       "      <td>numeric-limits</td>\n",
       "      <td>numeric-conversion</td>\n",
       "      <td>NaN</td>\n",
       "    </tr>\n",
       "  </tbody>\n",
       "</table>\n",
       "</div>"
      ],
      "text/plain": [
       "                               Title Title_clean  \\\n",
       "302             Is < faster than <=?         NaN   \n",
       "393                What is setup.py?         NaN   \n",
       "1437  What is related_name used for?         NaN   \n",
       "4062  What is \"android:allowBackup\"?         NaN   \n",
       "4870         Why is 0 < -0x80000000?         NaN   \n",
       "\n",
       "                                                   Body  \\\n",
       "302   <p>Is <code>if (a &lt; 901)</code> faster than...   \n",
       "393   <p>What is <code>setup.py</code> and how can i...   \n",
       "1437  <p>What is the <code>related_name</code> argum...   \n",
       "4062  <p>Since the <a href=\"http://tools.android.com...   \n",
       "4870  <p>I have below a simple program:</p>\\n\\n<pre>...   \n",
       "\n",
       "                                             Body_clean        0       1  \\\n",
       "302   example performance change loop code suppose g...      c++       c   \n",
       "393                                           configure   python    pypi   \n",
       "1437  argument manytomanyfield foreignkey field exam...   python  django   \n",
       "4062  adt preview version version lint warning tell ...  android     adt   \n",
       "4870  program condition if(bal int32_min work change...        c  signed   \n",
       "\n",
       "                      2                   3                       4  \n",
       "302         performance            assembly    relational-operators  \n",
       "393            setup.py    python-packaging                     NaN  \n",
       "1437       foreign-keys        many-to-many                     NaN  \n",
       "4062  compiler-warnings        android-lint  android-backup-service  \n",
       "4870     numeric-limits  numeric-conversion                     NaN  "
      ]
     },
     "execution_count": 10,
     "metadata": {},
     "output_type": "execute_result"
    }
   ],
   "source": [
    "print(sum(df[\"Title_clean\"].isna()))\n",
    "df[df[\"Title_clean\"].isna()][\n",
    "    [\"Title\", \"Title_clean\", \"Body\", \"Body_clean\", \"0\", \"1\", \"2\", \"3\", \"4\"]\n",
    "].head(5)"
   ]
  },
  {
   "cell_type": "code",
   "execution_count": 11,
   "id": "bfae71e3",
   "metadata": {
    "execution": {
     "iopub.execute_input": "2023-01-20T14:39:30.493248Z",
     "iopub.status.busy": "2023-01-20T14:39:30.492971Z",
     "iopub.status.idle": "2023-01-20T14:39:30.556420Z",
     "shell.execute_reply": "2023-01-20T14:39:30.554830Z"
    },
    "papermill": {
     "duration": 0.084556,
     "end_time": "2023-01-20T14:39:30.559105",
     "exception": false,
     "start_time": "2023-01-20T14:39:30.474549",
     "status": "completed"
    },
    "tags": []
   },
   "outputs": [
    {
     "name": "stdout",
     "output_type": "stream",
     "text": [
      "50\n"
     ]
    },
    {
     "data": {
      "text/html": [
       "<div>\n",
       "<style scoped>\n",
       "    .dataframe tbody tr th:only-of-type {\n",
       "        vertical-align: middle;\n",
       "    }\n",
       "\n",
       "    .dataframe tbody tr th {\n",
       "        vertical-align: top;\n",
       "    }\n",
       "\n",
       "    .dataframe thead th {\n",
       "        text-align: right;\n",
       "    }\n",
       "</style>\n",
       "<table border=\"1\" class=\"dataframe\">\n",
       "  <thead>\n",
       "    <tr style=\"text-align: right;\">\n",
       "      <th></th>\n",
       "      <th>Title</th>\n",
       "      <th>Title_clean</th>\n",
       "      <th>Body</th>\n",
       "      <th>Body_clean</th>\n",
       "      <th>Code</th>\n",
       "    </tr>\n",
       "  </thead>\n",
       "  <tbody>\n",
       "    <tr>\n",
       "      <th>5</th>\n",
       "      <td>What and where are the stack and heap?</td>\n",
       "      <td>stack heap</td>\n",
       "      <td>&lt;ul&gt;\\n&lt;li&gt;What are the stack and heap?&lt;/li&gt;\\n&lt;...</td>\n",
       "      <td>NaN</td>\n",
       "      <td>NaN</td>\n",
       "    </tr>\n",
       "    <tr>\n",
       "      <th>168</th>\n",
       "      <td>What is The Rule of Three?</td>\n",
       "      <td>rule</td>\n",
       "      <td>&lt;ul&gt;\\n&lt;li&gt;What does &lt;em&gt;copying an object&lt;/em&gt;...</td>\n",
       "      <td>NaN</td>\n",
       "      <td>NaN</td>\n",
       "    </tr>\n",
       "    <tr>\n",
       "      <th>828</th>\n",
       "      <td>Why are these constructs using pre and post-in...</td>\n",
       "      <td>construct pre behavior</td>\n",
       "      <td>&lt;pre&gt;&lt;code&gt;#include &amp;lt;stdio.h&amp;gt;\\n\\nint mai...</td>\n",
       "      <td>NaN</td>\n",
       "      <td>#include &lt;stdio.h&gt;\\n\\nint main(void)\\n{\\n   in...</td>\n",
       "    </tr>\n",
       "    <tr>\n",
       "      <th>1207</th>\n",
       "      <td>How to use ADB Shell when Multiple Devices are...</td>\n",
       "      <td>use adb shell multiple device connect fail err...</td>\n",
       "      <td>&lt;pre&gt;&lt;code&gt;$ adb --help\\n&lt;/code&gt;&lt;/pre&gt;\\n&lt;hr /&gt;...</td>\n",
       "      <td>NaN</td>\n",
       "      <td>$ adb --help\\n -s SERIAL  use device with give...</td>\n",
       "    </tr>\n",
       "    <tr>\n",
       "      <th>1640</th>\n",
       "      <td>What are the advantages of list initialization...</td>\n",
       "      <td>advantage list initialization brace</td>\n",
       "      <td>&lt;pre&gt;&lt;code&gt;MyClass a1 {a};     // clearer and ...</td>\n",
       "      <td>NaN</td>\n",
       "      <td>MyClass a1 {a};     // clearer and less error-...</td>\n",
       "    </tr>\n",
       "  </tbody>\n",
       "</table>\n",
       "</div>"
      ],
      "text/plain": [
       "                                                  Title  \\\n",
       "5                What and where are the stack and heap?   \n",
       "168                          What is The Rule of Three?   \n",
       "828   Why are these constructs using pre and post-in...   \n",
       "1207  How to use ADB Shell when Multiple Devices are...   \n",
       "1640  What are the advantages of list initialization...   \n",
       "\n",
       "                                            Title_clean  \\\n",
       "5                                            stack heap   \n",
       "168                                                rule   \n",
       "828                              construct pre behavior   \n",
       "1207  use adb shell multiple device connect fail err...   \n",
       "1640                advantage list initialization brace   \n",
       "\n",
       "                                                   Body Body_clean  \\\n",
       "5     <ul>\\n<li>What are the stack and heap?</li>\\n<...        NaN   \n",
       "168   <ul>\\n<li>What does <em>copying an object</em>...        NaN   \n",
       "828   <pre><code>#include &lt;stdio.h&gt;\\n\\nint mai...        NaN   \n",
       "1207  <pre><code>$ adb --help\\n</code></pre>\\n<hr />...        NaN   \n",
       "1640  <pre><code>MyClass a1 {a};     // clearer and ...        NaN   \n",
       "\n",
       "                                                   Code  \n",
       "5                                                   NaN  \n",
       "168                                                 NaN  \n",
       "828   #include <stdio.h>\\n\\nint main(void)\\n{\\n   in...  \n",
       "1207  $ adb --help\\n -s SERIAL  use device with give...  \n",
       "1640  MyClass a1 {a};     // clearer and less error-...  "
      ]
     },
     "execution_count": 11,
     "metadata": {},
     "output_type": "execute_result"
    }
   ],
   "source": [
    "print(sum(df[\"Body_clean\"].isna()))\n",
    "df[df[\"Body_clean\"].isna()][\n",
    "    [\"Title\", \"Title_clean\", \"Body\", \"Body_clean\", \"Code\"]\n",
    "].head(5)"
   ]
  },
  {
   "cell_type": "code",
   "execution_count": 12,
   "id": "d1789f21",
   "metadata": {
    "execution": {
     "iopub.execute_input": "2023-01-20T14:39:30.597856Z",
     "iopub.status.busy": "2023-01-20T14:39:30.596835Z",
     "iopub.status.idle": "2023-01-20T14:39:30.624758Z",
     "shell.execute_reply": "2023-01-20T14:39:30.623744Z"
    },
    "papermill": {
     "duration": 0.04941,
     "end_time": "2023-01-20T14:39:30.626827",
     "exception": false,
     "start_time": "2023-01-20T14:39:30.577417",
     "status": "completed"
    },
    "tags": []
   },
   "outputs": [
    {
     "data": {
      "text/plain": [
       "0"
      ]
     },
     "execution_count": 12,
     "metadata": {},
     "output_type": "execute_result"
    }
   ],
   "source": [
    "len(df[df[\"Body_clean\"].isna() & df[\"Title_clean\"].isna()])"
   ]
  },
  {
   "cell_type": "code",
   "execution_count": 13,
   "id": "9e54bd0c",
   "metadata": {
    "execution": {
     "iopub.execute_input": "2023-01-20T14:39:30.665557Z",
     "iopub.status.busy": "2023-01-20T14:39:30.664657Z",
     "iopub.status.idle": "2023-01-20T14:39:30.822107Z",
     "shell.execute_reply": "2023-01-20T14:39:30.820294Z"
    },
    "papermill": {
     "duration": 0.179836,
     "end_time": "2023-01-20T14:39:30.825046",
     "exception": false,
     "start_time": "2023-01-20T14:39:30.645210",
     "status": "completed"
    },
    "tags": []
   },
   "outputs": [
    {
     "name": "stdout",
     "output_type": "stream",
     "text": [
      "taille 21\n",
      "java c# javascript python android c++ ios html php .net jquery css objective-c c sql iphone asp.net mysql linux node.js git\n"
     ]
    }
   ],
   "source": [
    "tags = df[[\"0\", \"1\", \"2\", \"3\", \"4\", \"5\"]].stack()\n",
    "target_names = [\n",
    "    tag\n",
    "    for tag, freq in tags.reset_index(drop=True).value_counts(normalize=True).items()\n",
    "    if freq > 0.002\n",
    "]\n",
    "if not LONG:\n",
    "    target_names = target_names[0:20] + [\"git\"]\n",
    "print(f\"taille {len(target_names)}\\n{' '.join(target_names)}\")"
   ]
  },
  {
   "cell_type": "code",
   "execution_count": 14,
   "id": "11fa5b7e",
   "metadata": {
    "execution": {
     "iopub.execute_input": "2023-01-20T14:39:30.866878Z",
     "iopub.status.busy": "2023-01-20T14:39:30.865381Z",
     "iopub.status.idle": "2023-01-20T14:39:30.881919Z",
     "shell.execute_reply": "2023-01-20T14:39:30.881044Z"
    },
    "papermill": {
     "duration": 0.039077,
     "end_time": "2023-01-20T14:39:30.884004",
     "exception": false,
     "start_time": "2023-01-20T14:39:30.844927",
     "status": "completed"
    },
    "tags": []
   },
   "outputs": [],
   "source": [
    "# Enregistrement des paramétres avec la liste des tags a predire\n",
    "description[\"target_names\"] = target_names\n",
    "with open(\"/kaggle/working/description.json\", \"w\") as outfile:\n",
    "    json.dump(description, outfile)"
   ]
  },
  {
   "cell_type": "code",
   "execution_count": 15,
   "id": "4643995d",
   "metadata": {
    "execution": {
     "iopub.execute_input": "2023-01-20T14:39:30.923839Z",
     "iopub.status.busy": "2023-01-20T14:39:30.922979Z",
     "iopub.status.idle": "2023-01-20T14:39:31.182251Z",
     "shell.execute_reply": "2023-01-20T14:39:31.181202Z"
    },
    "papermill": {
     "duration": 0.28198,
     "end_time": "2023-01-20T14:39:31.185041",
     "exception": false,
     "start_time": "2023-01-20T14:39:30.903061",
     "status": "completed"
    },
    "tags": []
   },
   "outputs": [
    {
     "data": {
      "text/html": [
       "<div>\n",
       "<style scoped>\n",
       "    .dataframe tbody tr th:only-of-type {\n",
       "        vertical-align: middle;\n",
       "    }\n",
       "\n",
       "    .dataframe tbody tr th {\n",
       "        vertical-align: top;\n",
       "    }\n",
       "\n",
       "    .dataframe thead th {\n",
       "        text-align: right;\n",
       "    }\n",
       "</style>\n",
       "<table border=\"1\" class=\"dataframe\">\n",
       "  <thead>\n",
       "    <tr style=\"text-align: right;\">\n",
       "      <th></th>\n",
       "      <th>javascript</th>\n",
       "      <th>java</th>\n",
       "      <th>c#</th>\n",
       "      <th>python</th>\n",
       "      <th>html</th>\n",
       "      <th>git</th>\n",
       "      <th>php</th>\n",
       "    </tr>\n",
       "  </thead>\n",
       "  <tbody>\n",
       "    <tr>\n",
       "      <th>0</th>\n",
       "      <td>False</td>\n",
       "      <td>True</td>\n",
       "      <td>False</td>\n",
       "      <td>False</td>\n",
       "      <td>False</td>\n",
       "      <td>False</td>\n",
       "      <td>False</td>\n",
       "    </tr>\n",
       "    <tr>\n",
       "      <th>1</th>\n",
       "      <td>False</td>\n",
       "      <td>False</td>\n",
       "      <td>False</td>\n",
       "      <td>False</td>\n",
       "      <td>False</td>\n",
       "      <td>True</td>\n",
       "      <td>False</td>\n",
       "    </tr>\n",
       "    <tr>\n",
       "      <th>2</th>\n",
       "      <td>False</td>\n",
       "      <td>False</td>\n",
       "      <td>False</td>\n",
       "      <td>False</td>\n",
       "      <td>False</td>\n",
       "      <td>True</td>\n",
       "      <td>False</td>\n",
       "    </tr>\n",
       "    <tr>\n",
       "      <th>3</th>\n",
       "      <td>False</td>\n",
       "      <td>False</td>\n",
       "      <td>False</td>\n",
       "      <td>False</td>\n",
       "      <td>False</td>\n",
       "      <td>True</td>\n",
       "      <td>False</td>\n",
       "    </tr>\n",
       "    <tr>\n",
       "      <th>4</th>\n",
       "      <td>False</td>\n",
       "      <td>False</td>\n",
       "      <td>False</td>\n",
       "      <td>False</td>\n",
       "      <td>False</td>\n",
       "      <td>False</td>\n",
       "      <td>False</td>\n",
       "    </tr>\n",
       "    <tr>\n",
       "      <th>5</th>\n",
       "      <td>False</td>\n",
       "      <td>False</td>\n",
       "      <td>False</td>\n",
       "      <td>False</td>\n",
       "      <td>False</td>\n",
       "      <td>False</td>\n",
       "      <td>False</td>\n",
       "    </tr>\n",
       "    <tr>\n",
       "      <th>6</th>\n",
       "      <td>False</td>\n",
       "      <td>False</td>\n",
       "      <td>False</td>\n",
       "      <td>False</td>\n",
       "      <td>False</td>\n",
       "      <td>True</td>\n",
       "      <td>False</td>\n",
       "    </tr>\n",
       "    <tr>\n",
       "      <th>7</th>\n",
       "      <td>True</td>\n",
       "      <td>False</td>\n",
       "      <td>False</td>\n",
       "      <td>False</td>\n",
       "      <td>False</td>\n",
       "      <td>False</td>\n",
       "      <td>False</td>\n",
       "    </tr>\n",
       "    <tr>\n",
       "      <th>8</th>\n",
       "      <td>True</td>\n",
       "      <td>False</td>\n",
       "      <td>False</td>\n",
       "      <td>False</td>\n",
       "      <td>False</td>\n",
       "      <td>False</td>\n",
       "      <td>False</td>\n",
       "    </tr>\n",
       "    <tr>\n",
       "      <th>9</th>\n",
       "      <td>False</td>\n",
       "      <td>False</td>\n",
       "      <td>False</td>\n",
       "      <td>True</td>\n",
       "      <td>False</td>\n",
       "      <td>False</td>\n",
       "      <td>False</td>\n",
       "    </tr>\n",
       "  </tbody>\n",
       "</table>\n",
       "</div>"
      ],
      "text/plain": [
       "   javascript   java     c#  python   html    git    php\n",
       "0       False   True  False   False  False  False  False\n",
       "1       False  False  False   False  False   True  False\n",
       "2       False  False  False   False  False   True  False\n",
       "3       False  False  False   False  False   True  False\n",
       "4       False  False  False   False  False  False  False\n",
       "5       False  False  False   False  False  False  False\n",
       "6       False  False  False   False  False   True  False\n",
       "7        True  False  False   False  False  False  False\n",
       "8        True  False  False   False  False  False  False\n",
       "9       False  False  False    True  False  False  False"
      ]
     },
     "execution_count": 15,
     "metadata": {},
     "output_type": "execute_result"
    }
   ],
   "source": [
    "p5_nlp_utils.Commun.tags_are_in(\n",
    "    df[0:10], [\"javascript\", \"java\", \"c#\", \"python\", \"html\", \"git\", \"php\"]\n",
    ")"
   ]
  },
  {
   "cell_type": "markdown",
   "id": "1bb4e468",
   "metadata": {
    "papermill": {
     "duration": 0.01842,
     "end_time": "2023-01-20T14:39:31.222918",
     "exception": false,
     "start_time": "2023-01-20T14:39:31.204498",
     "status": "completed"
    },
    "tags": []
   },
   "source": [
    "## Separation train/test"
   ]
  },
  {
   "cell_type": "code",
   "execution_count": 16,
   "id": "3df2b48a",
   "metadata": {
    "execution": {
     "iopub.execute_input": "2023-01-20T14:39:31.261259Z",
     "iopub.status.busy": "2023-01-20T14:39:31.260958Z",
     "iopub.status.idle": "2023-01-20T14:39:32.975600Z",
     "shell.execute_reply": "2023-01-20T14:39:32.974486Z"
    },
    "papermill": {
     "duration": 1.737007,
     "end_time": "2023-01-20T14:39:32.978309",
     "exception": false,
     "start_time": "2023-01-20T14:39:31.241302",
     "status": "completed"
    },
    "tags": []
   },
   "outputs": [],
   "source": [
    "if description[\"BERT\"][\"actif\"] and description[\"BERT\"][\"raw_text\"]: #essaie sans nettoyer le texte pour BERT\n",
    "    df[\"Token\"] = (\n",
    "        df[\"Title\"].fillna(\"\").str.strip() + \" \" + df[\"Body\"].fillna(\"\").str.strip()\n",
    "    )\n",
    "else:\n",
    "    df[\"Token\"] = df[\"Title_clean\"].fillna(\"\") + df[\"Body_clean\"].fillna(\"\")\n",
    "    print(\n",
    "        f\"{len(df[[len(token.split()) > 1 for token in df['Token']]])/len(df):.5%} des questions ont au moins 2tokens\"\n",
    "        if len(df[df[\"Token\"] == \"\"]) == 0\n",
    "        else f\"{len(df[df['Token'] == ''])} questions n'ont pas de token\"\n",
    "    )\n",
    "X_train, X_test, y_train, y_test = model_selection.train_test_split(\n",
    "    df[\"Token\"], p5_nlp_utils.Commun.tags_are_in(df, target_names), random_state=42\n",
    ")"
   ]
  },
  {
   "cell_type": "markdown",
   "id": "ab49d416",
   "metadata": {
    "papermill": {
     "duration": 0.018177,
     "end_time": "2023-01-20T14:39:33.015618",
     "exception": false,
     "start_time": "2023-01-20T14:39:32.997441",
     "status": "completed"
    },
    "tags": []
   },
   "source": [
    "## Nombre et % de chaque tag dans train et test\n",
    "Une question peut avoir plusieur tag donc la somme est supérieur aux nombres de ligne"
   ]
  },
  {
   "cell_type": "code",
   "execution_count": 17,
   "id": "5e9fc117",
   "metadata": {
    "execution": {
     "iopub.execute_input": "2023-01-20T14:39:33.056276Z",
     "iopub.status.busy": "2023-01-20T14:39:33.054535Z",
     "iopub.status.idle": "2023-01-20T14:39:33.100739Z",
     "shell.execute_reply": "2023-01-20T14:39:33.099673Z"
    },
    "papermill": {
     "duration": 0.069129,
     "end_time": "2023-01-20T14:39:33.103389",
     "exception": false,
     "start_time": "2023-01-20T14:39:33.034260",
     "status": "completed"
    },
    "tags": []
   },
   "outputs": [
    {
     "name": "stdout",
     "output_type": "stream",
     "text": [
      "|tag positif  nb train   %    |  test   %   |\n",
      "|\u001b[1mjava          \u001b[0m\u001b[92m10706   \u001b[0m12.05% | \u001b[92m3558 \u001b[0m 12.02%|\n",
      "|\u001b[1mc#            \u001b[0m\u001b[92m10484   \u001b[0m11.80% | \u001b[92m3473 \u001b[0m 11.73%|\n",
      "|\u001b[1mjavascript    \u001b[0m\u001b[92m10451   \u001b[0m11.77% | \u001b[92m3356 \u001b[0m 11.33%|\n",
      "|\u001b[1mpython        \u001b[0m\u001b[92m7652    \u001b[0m08.61% | \u001b[92m2612 \u001b[0m 08.82%|\n",
      "|\u001b[1mandroid       \u001b[0m\u001b[92m6216    \u001b[0m07.00% | \u001b[92m2045 \u001b[0m 06.91%|\n",
      "|\u001b[1mc++           \u001b[0m\u001b[92m5893    \u001b[0m06.63% | \u001b[92m1964 \u001b[0m 06.63%|\n",
      "|\u001b[1mios           \u001b[0m\u001b[92m5554    \u001b[0m06.25% | \u001b[92m1840 \u001b[0m 06.21%|\n",
      "|\u001b[1mhtml          \u001b[0m\u001b[92m5198    \u001b[0m05.85% | \u001b[92m1755 \u001b[0m 05.93%|\n",
      "|\u001b[1mphp           \u001b[0m\u001b[92m4935    \u001b[0m05.56% | \u001b[92m1627 \u001b[0m 05.49%|\n",
      "|\u001b[1m.net          \u001b[0m\u001b[92m4746    \u001b[0m05.34% | \u001b[92m1569 \u001b[0m 05.30%|\n",
      "|\u001b[1mjquery        \u001b[0m\u001b[92m4762    \u001b[0m05.36% | \u001b[92m1538 \u001b[0m 05.19%|\n",
      "|\u001b[1mcss           \u001b[0m\u001b[92m3350    \u001b[0m03.77% | \u001b[92m1131 \u001b[0m 03.82%|\n",
      "|\u001b[1mobjective-c   \u001b[0m\u001b[92m2736    \u001b[0m03.08% | \u001b[92m888  \u001b[0m 03.00%|\n",
      "|\u001b[1mc             \u001b[0m\u001b[92m2734    \u001b[0m03.08% | \u001b[92m885  \u001b[0m 02.99%|\n",
      "|\u001b[1msql           \u001b[0m\u001b[92m2665    \u001b[0m03.00% | \u001b[92m870  \u001b[0m 02.94%|\n",
      "|\u001b[1miphone        \u001b[0m\u001b[92m2479    \u001b[0m02.79% | \u001b[92m807  \u001b[0m 02.73%|\n",
      "|\u001b[1masp.net       \u001b[0m\u001b[92m2424    \u001b[0m02.73% | \u001b[92m805  \u001b[0m 02.72%|\n",
      "|\u001b[1mmysql         \u001b[0m\u001b[92m2107    \u001b[0m02.37% | \u001b[92m685  \u001b[0m 02.31%|\n",
      "|\u001b[1mlinux         \u001b[0m\u001b[92m2082    \u001b[0m02.34% | \u001b[92m680  \u001b[0m 02.30%|\n",
      "|\u001b[1mnode.js       \u001b[0m\u001b[92m2034    \u001b[0m02.29% | \u001b[92m682  \u001b[0m 02.30%|\n",
      "|\u001b[1mgit           \u001b[0m\u001b[92m840     \u001b[0m00.95% | \u001b[92m274  \u001b[0m 00.93%|\n"
     ]
    }
   ],
   "source": [
    "print(\"|tag positif  nb train   %    |  test   %   |\")\n",
    "for column in y_train.columns:\n",
    "    nb_positif_train = y_train[y_train[column]].shape[0]\n",
    "    nb_positif_test = y_test[y_test[column]].shape[0]\n",
    "    print(\n",
    "        f\"|{colors.BOLD}{column: <14}{colors.ENDC}{colors.GREEN}{nb_positif_train: <8}{colors.ENDC}{(nb_positif_train/y_train.shape[0]):06.2%} | {colors.GREEN}{nb_positif_test:<5}{colors.ENDC} {nb_positif_test/y_test.shape[0]:06.2%}|\"\n",
    "    )"
   ]
  },
  {
   "cell_type": "markdown",
   "id": "bf850be2",
   "metadata": {
    "papermill": {
     "duration": 0.019331,
     "end_time": "2023-01-20T14:39:33.141517",
     "exception": false,
     "start_time": "2023-01-20T14:39:33.122186",
     "status": "completed"
    },
    "tags": []
   },
   "source": [
    "### Regroupement des tags pour visualisation tsne:\n",
    "En une collone unique pour représenter tout les tags dans 1graph, avec priorité pour les tags les moins fréquents  \n",
    "Ici la somme = nombre de ligne  "
   ]
  },
  {
   "cell_type": "code",
   "execution_count": 18,
   "id": "62e6de78",
   "metadata": {
    "execution": {
     "iopub.execute_input": "2023-01-20T14:39:33.182169Z",
     "iopub.status.busy": "2023-01-20T14:39:33.181843Z",
     "iopub.status.idle": "2023-01-20T14:40:01.062530Z",
     "shell.execute_reply": "2023-01-20T14:40:01.061330Z"
    },
    "papermill": {
     "duration": 27.904375,
     "end_time": "2023-01-20T14:40:01.065282",
     "exception": false,
     "start_time": "2023-01-20T14:39:33.160907",
     "status": "completed"
    },
    "tags": []
   },
   "outputs": [
    {
     "name": "stdout",
     "output_type": "stream",
     "text": [
      "CPU times: user 27.8 s, sys: 4.29 ms, total: 27.8 s\n",
      "Wall time: 27.8 s\n"
     ]
    },
    {
     "data": {
      "text/plain": [
       "Non Suivi      18192\n",
       "java            8114\n",
       "python          6900\n",
       "android         5595\n",
       "c#              5212\n",
       "c++             4570\n",
       ".net            4188\n",
       "javascript      3734\n",
       "jquery          3411\n",
       "php             3322\n",
       "css             3227\n",
       "ios             2745\n",
       "iphone          2470\n",
       "asp.net         2402\n",
       "c               2385\n",
       "sql             2081\n",
       "mysql           2038\n",
       "linux           2038\n",
       "node.js         2010\n",
       "html            1715\n",
       "objective-c     1642\n",
       "git              840\n",
       "dtype: int64"
      ]
     },
     "execution_count": 18,
     "metadata": {},
     "output_type": "execute_result"
    }
   ],
   "source": [
    "%%time\n",
    "y_train_monodim = pd.Series(index=y_train.index, dtype=bool)\n",
    "for tag in y_train.columns:\n",
    "    y_train_monodim = (\n",
    "        y_train[tag]\n",
    "        .replace(to_replace=True, value=tag)\n",
    "        .combine(y_train_monodim, lambda s1, s2: s1 if s1 else s2)\n",
    "    )\n",
    "y_train_monodim.replace(to_replace=False, value=\"Non Suivi\", inplace=True)\n",
    "y_train_monodim.value_counts()"
   ]
  },
  {
   "cell_type": "markdown",
   "id": "84da19fd",
   "metadata": {
    "papermill": {
     "duration": 0.018544,
     "end_time": "2023-01-20T14:40:01.102822",
     "exception": false,
     "start_time": "2023-01-20T14:40:01.084278",
     "status": "completed"
    },
    "tags": []
   },
   "source": [
    "## Approche naïve pour comparer les résultats:\n",
    "    - Valeur la plus fréquente (False)\n",
    "    - Si le tag est présent dans la question"
   ]
  },
  {
   "cell_type": "code",
   "execution_count": 19,
   "id": "bd010717",
   "metadata": {
    "_kg_hide-output": true,
    "execution": {
     "iopub.execute_input": "2023-01-20T14:40:01.142422Z",
     "iopub.status.busy": "2023-01-20T14:40:01.142122Z",
     "iopub.status.idle": "2023-01-20T14:40:01.214899Z",
     "shell.execute_reply": "2023-01-20T14:40:01.213620Z"
    },
    "papermill": {
     "duration": 0.096494,
     "end_time": "2023-01-20T14:40:01.217472",
     "exception": false,
     "start_time": "2023-01-20T14:40:01.120978",
     "status": "completed"
    },
    "tags": []
   },
   "outputs": [
    {
     "data": {
      "text/html": [
       "<div>\n",
       "<style scoped>\n",
       "    .dataframe tbody tr th:only-of-type {\n",
       "        vertical-align: middle;\n",
       "    }\n",
       "\n",
       "    .dataframe tbody tr th {\n",
       "        vertical-align: top;\n",
       "    }\n",
       "\n",
       "    .dataframe thead th {\n",
       "        text-align: right;\n",
       "    }\n",
       "</style>\n",
       "<table border=\"1\" class=\"dataframe\">\n",
       "  <thead>\n",
       "    <tr style=\"text-align: right;\">\n",
       "      <th></th>\n",
       "      <th>precision</th>\n",
       "      <th>recall</th>\n",
       "      <th>f1-score</th>\n",
       "      <th>support</th>\n",
       "    </tr>\n",
       "  </thead>\n",
       "  <tbody>\n",
       "    <tr>\n",
       "      <th>java</th>\n",
       "      <td>1.0</td>\n",
       "      <td>0.000000</td>\n",
       "      <td>0.000000</td>\n",
       "      <td>3558.0</td>\n",
       "    </tr>\n",
       "    <tr>\n",
       "      <th>c#</th>\n",
       "      <td>1.0</td>\n",
       "      <td>0.000000</td>\n",
       "      <td>0.000000</td>\n",
       "      <td>3473.0</td>\n",
       "    </tr>\n",
       "    <tr>\n",
       "      <th>javascript</th>\n",
       "      <td>1.0</td>\n",
       "      <td>0.000000</td>\n",
       "      <td>0.000000</td>\n",
       "      <td>3356.0</td>\n",
       "    </tr>\n",
       "    <tr>\n",
       "      <th>python</th>\n",
       "      <td>1.0</td>\n",
       "      <td>0.000000</td>\n",
       "      <td>0.000000</td>\n",
       "      <td>2612.0</td>\n",
       "    </tr>\n",
       "    <tr>\n",
       "      <th>android</th>\n",
       "      <td>1.0</td>\n",
       "      <td>0.000000</td>\n",
       "      <td>0.000000</td>\n",
       "      <td>2045.0</td>\n",
       "    </tr>\n",
       "    <tr>\n",
       "      <th>c++</th>\n",
       "      <td>1.0</td>\n",
       "      <td>0.000000</td>\n",
       "      <td>0.000000</td>\n",
       "      <td>1964.0</td>\n",
       "    </tr>\n",
       "    <tr>\n",
       "      <th>ios</th>\n",
       "      <td>1.0</td>\n",
       "      <td>0.000000</td>\n",
       "      <td>0.000000</td>\n",
       "      <td>1840.0</td>\n",
       "    </tr>\n",
       "    <tr>\n",
       "      <th>html</th>\n",
       "      <td>1.0</td>\n",
       "      <td>0.000000</td>\n",
       "      <td>0.000000</td>\n",
       "      <td>1755.0</td>\n",
       "    </tr>\n",
       "    <tr>\n",
       "      <th>php</th>\n",
       "      <td>1.0</td>\n",
       "      <td>0.000000</td>\n",
       "      <td>0.000000</td>\n",
       "      <td>1627.0</td>\n",
       "    </tr>\n",
       "    <tr>\n",
       "      <th>.net</th>\n",
       "      <td>1.0</td>\n",
       "      <td>0.000000</td>\n",
       "      <td>0.000000</td>\n",
       "      <td>1569.0</td>\n",
       "    </tr>\n",
       "    <tr>\n",
       "      <th>jquery</th>\n",
       "      <td>1.0</td>\n",
       "      <td>0.000000</td>\n",
       "      <td>0.000000</td>\n",
       "      <td>1538.0</td>\n",
       "    </tr>\n",
       "    <tr>\n",
       "      <th>css</th>\n",
       "      <td>1.0</td>\n",
       "      <td>0.000000</td>\n",
       "      <td>0.000000</td>\n",
       "      <td>1131.0</td>\n",
       "    </tr>\n",
       "    <tr>\n",
       "      <th>objective-c</th>\n",
       "      <td>1.0</td>\n",
       "      <td>0.000000</td>\n",
       "      <td>0.000000</td>\n",
       "      <td>888.0</td>\n",
       "    </tr>\n",
       "    <tr>\n",
       "      <th>c</th>\n",
       "      <td>1.0</td>\n",
       "      <td>0.000000</td>\n",
       "      <td>0.000000</td>\n",
       "      <td>885.0</td>\n",
       "    </tr>\n",
       "    <tr>\n",
       "      <th>sql</th>\n",
       "      <td>1.0</td>\n",
       "      <td>0.000000</td>\n",
       "      <td>0.000000</td>\n",
       "      <td>870.0</td>\n",
       "    </tr>\n",
       "    <tr>\n",
       "      <th>iphone</th>\n",
       "      <td>1.0</td>\n",
       "      <td>0.000000</td>\n",
       "      <td>0.000000</td>\n",
       "      <td>807.0</td>\n",
       "    </tr>\n",
       "    <tr>\n",
       "      <th>asp.net</th>\n",
       "      <td>1.0</td>\n",
       "      <td>0.000000</td>\n",
       "      <td>0.000000</td>\n",
       "      <td>805.0</td>\n",
       "    </tr>\n",
       "    <tr>\n",
       "      <th>mysql</th>\n",
       "      <td>1.0</td>\n",
       "      <td>0.000000</td>\n",
       "      <td>0.000000</td>\n",
       "      <td>685.0</td>\n",
       "    </tr>\n",
       "    <tr>\n",
       "      <th>linux</th>\n",
       "      <td>1.0</td>\n",
       "      <td>0.000000</td>\n",
       "      <td>0.000000</td>\n",
       "      <td>680.0</td>\n",
       "    </tr>\n",
       "    <tr>\n",
       "      <th>node.js</th>\n",
       "      <td>1.0</td>\n",
       "      <td>0.000000</td>\n",
       "      <td>0.000000</td>\n",
       "      <td>682.0</td>\n",
       "    </tr>\n",
       "    <tr>\n",
       "      <th>git</th>\n",
       "      <td>1.0</td>\n",
       "      <td>0.000000</td>\n",
       "      <td>0.000000</td>\n",
       "      <td>274.0</td>\n",
       "    </tr>\n",
       "    <tr>\n",
       "      <th>micro avg</th>\n",
       "      <td>1.0</td>\n",
       "      <td>0.000000</td>\n",
       "      <td>0.000000</td>\n",
       "      <td>33044.0</td>\n",
       "    </tr>\n",
       "    <tr>\n",
       "      <th>macro avg</th>\n",
       "      <td>1.0</td>\n",
       "      <td>0.000000</td>\n",
       "      <td>0.000000</td>\n",
       "      <td>33044.0</td>\n",
       "    </tr>\n",
       "    <tr>\n",
       "      <th>weighted avg</th>\n",
       "      <td>1.0</td>\n",
       "      <td>0.000000</td>\n",
       "      <td>0.000000</td>\n",
       "      <td>33044.0</td>\n",
       "    </tr>\n",
       "    <tr>\n",
       "      <th>samples avg</th>\n",
       "      <td>1.0</td>\n",
       "      <td>0.207322</td>\n",
       "      <td>0.207322</td>\n",
       "      <td>33044.0</td>\n",
       "    </tr>\n",
       "  </tbody>\n",
       "</table>\n",
       "</div>"
      ],
      "text/plain": [
       "              precision    recall  f1-score  support\n",
       "java                1.0  0.000000  0.000000   3558.0\n",
       "c#                  1.0  0.000000  0.000000   3473.0\n",
       "javascript          1.0  0.000000  0.000000   3356.0\n",
       "python              1.0  0.000000  0.000000   2612.0\n",
       "android             1.0  0.000000  0.000000   2045.0\n",
       "c++                 1.0  0.000000  0.000000   1964.0\n",
       "ios                 1.0  0.000000  0.000000   1840.0\n",
       "html                1.0  0.000000  0.000000   1755.0\n",
       "php                 1.0  0.000000  0.000000   1627.0\n",
       ".net                1.0  0.000000  0.000000   1569.0\n",
       "jquery              1.0  0.000000  0.000000   1538.0\n",
       "css                 1.0  0.000000  0.000000   1131.0\n",
       "objective-c         1.0  0.000000  0.000000    888.0\n",
       "c                   1.0  0.000000  0.000000    885.0\n",
       "sql                 1.0  0.000000  0.000000    870.0\n",
       "iphone              1.0  0.000000  0.000000    807.0\n",
       "asp.net             1.0  0.000000  0.000000    805.0\n",
       "mysql               1.0  0.000000  0.000000    685.0\n",
       "linux               1.0  0.000000  0.000000    680.0\n",
       "node.js             1.0  0.000000  0.000000    682.0\n",
       "git                 1.0  0.000000  0.000000    274.0\n",
       "micro avg           1.0  0.000000  0.000000  33044.0\n",
       "macro avg           1.0  0.000000  0.000000  33044.0\n",
       "weighted avg        1.0  0.000000  0.000000  33044.0\n",
       "samples avg         1.0  0.207322  0.207322  33044.0"
      ]
     },
     "execution_count": 19,
     "metadata": {},
     "output_type": "execute_result"
    }
   ],
   "source": [
    "p5_nlp_utils.Commun.save_score(\n",
    "    y_true=y_test,\n",
    "    y_pred=y_test.replace([True], False),\n",
    "    target_names=target_names,\n",
    "    zero_division=1,  # because TruePositif=0\n",
    ")"
   ]
  },
  {
   "cell_type": "markdown",
   "id": "7c715112",
   "metadata": {
    "papermill": {
     "duration": 0.018786,
     "end_time": "2023-01-20T14:40:01.255660",
     "exception": false,
     "start_time": "2023-01-20T14:40:01.236874",
     "status": "completed"
    },
    "tags": []
   },
   "source": [
    "Avec prédire toujours vrai"
   ]
  },
  {
   "cell_type": "code",
   "execution_count": 20,
   "id": "0c2a74fd",
   "metadata": {
    "_kg_hide-input": false,
    "_kg_hide-output": true,
    "execution": {
     "iopub.execute_input": "2023-01-20T14:40:01.296124Z",
     "iopub.status.busy": "2023-01-20T14:40:01.295220Z",
     "iopub.status.idle": "2023-01-20T14:40:01.549157Z",
     "shell.execute_reply": "2023-01-20T14:40:01.548259Z"
    },
    "papermill": {
     "duration": 0.276786,
     "end_time": "2023-01-20T14:40:01.551617",
     "exception": false,
     "start_time": "2023-01-20T14:40:01.274831",
     "status": "completed"
    },
    "tags": []
   },
   "outputs": [
    {
     "data": {
      "text/html": [
       "<div>\n",
       "<style scoped>\n",
       "    .dataframe tbody tr th:only-of-type {\n",
       "        vertical-align: middle;\n",
       "    }\n",
       "\n",
       "    .dataframe tbody tr th {\n",
       "        vertical-align: top;\n",
       "    }\n",
       "\n",
       "    .dataframe thead th {\n",
       "        text-align: right;\n",
       "    }\n",
       "</style>\n",
       "<table border=\"1\" class=\"dataframe\">\n",
       "  <thead>\n",
       "    <tr style=\"text-align: right;\">\n",
       "      <th></th>\n",
       "      <th>precision</th>\n",
       "      <th>recall</th>\n",
       "      <th>f1-score</th>\n",
       "      <th>support</th>\n",
       "    </tr>\n",
       "  </thead>\n",
       "  <tbody>\n",
       "    <tr>\n",
       "      <th>java</th>\n",
       "      <td>0.120158</td>\n",
       "      <td>1.000000</td>\n",
       "      <td>0.214538</td>\n",
       "      <td>3558.0</td>\n",
       "    </tr>\n",
       "    <tr>\n",
       "      <th>c#</th>\n",
       "      <td>0.117287</td>\n",
       "      <td>1.000000</td>\n",
       "      <td>0.209950</td>\n",
       "      <td>3473.0</td>\n",
       "    </tr>\n",
       "    <tr>\n",
       "      <th>javascript</th>\n",
       "      <td>0.113336</td>\n",
       "      <td>1.000000</td>\n",
       "      <td>0.203598</td>\n",
       "      <td>3356.0</td>\n",
       "    </tr>\n",
       "    <tr>\n",
       "      <th>python</th>\n",
       "      <td>0.088210</td>\n",
       "      <td>1.000000</td>\n",
       "      <td>0.162120</td>\n",
       "      <td>2612.0</td>\n",
       "    </tr>\n",
       "    <tr>\n",
       "      <th>android</th>\n",
       "      <td>0.069062</td>\n",
       "      <td>1.000000</td>\n",
       "      <td>0.129201</td>\n",
       "      <td>2045.0</td>\n",
       "    </tr>\n",
       "    <tr>\n",
       "      <th>c++</th>\n",
       "      <td>0.066327</td>\n",
       "      <td>1.000000</td>\n",
       "      <td>0.124402</td>\n",
       "      <td>1964.0</td>\n",
       "    </tr>\n",
       "    <tr>\n",
       "      <th>ios</th>\n",
       "      <td>0.062139</td>\n",
       "      <td>1.000000</td>\n",
       "      <td>0.117007</td>\n",
       "      <td>1840.0</td>\n",
       "    </tr>\n",
       "    <tr>\n",
       "      <th>html</th>\n",
       "      <td>0.059269</td>\n",
       "      <td>1.000000</td>\n",
       "      <td>0.111905</td>\n",
       "      <td>1755.0</td>\n",
       "    </tr>\n",
       "    <tr>\n",
       "      <th>php</th>\n",
       "      <td>0.054946</td>\n",
       "      <td>1.000000</td>\n",
       "      <td>0.104168</td>\n",
       "      <td>1627.0</td>\n",
       "    </tr>\n",
       "    <tr>\n",
       "      <th>.net</th>\n",
       "      <td>0.052987</td>\n",
       "      <td>1.000000</td>\n",
       "      <td>0.100641</td>\n",
       "      <td>1569.0</td>\n",
       "    </tr>\n",
       "    <tr>\n",
       "      <th>jquery</th>\n",
       "      <td>0.051940</td>\n",
       "      <td>1.000000</td>\n",
       "      <td>0.098751</td>\n",
       "      <td>1538.0</td>\n",
       "    </tr>\n",
       "    <tr>\n",
       "      <th>css</th>\n",
       "      <td>0.038195</td>\n",
       "      <td>1.000000</td>\n",
       "      <td>0.073580</td>\n",
       "      <td>1131.0</td>\n",
       "    </tr>\n",
       "    <tr>\n",
       "      <th>objective-c</th>\n",
       "      <td>0.029989</td>\n",
       "      <td>1.000000</td>\n",
       "      <td>0.058231</td>\n",
       "      <td>888.0</td>\n",
       "    </tr>\n",
       "    <tr>\n",
       "      <th>c</th>\n",
       "      <td>0.029888</td>\n",
       "      <td>1.000000</td>\n",
       "      <td>0.058040</td>\n",
       "      <td>885.0</td>\n",
       "    </tr>\n",
       "    <tr>\n",
       "      <th>sql</th>\n",
       "      <td>0.029381</td>\n",
       "      <td>1.000000</td>\n",
       "      <td>0.057085</td>\n",
       "      <td>870.0</td>\n",
       "    </tr>\n",
       "    <tr>\n",
       "      <th>iphone</th>\n",
       "      <td>0.027253</td>\n",
       "      <td>1.000000</td>\n",
       "      <td>0.053061</td>\n",
       "      <td>807.0</td>\n",
       "    </tr>\n",
       "    <tr>\n",
       "      <th>asp.net</th>\n",
       "      <td>0.027186</td>\n",
       "      <td>1.000000</td>\n",
       "      <td>0.052933</td>\n",
       "      <td>805.0</td>\n",
       "    </tr>\n",
       "    <tr>\n",
       "      <th>mysql</th>\n",
       "      <td>0.023133</td>\n",
       "      <td>1.000000</td>\n",
       "      <td>0.045220</td>\n",
       "      <td>685.0</td>\n",
       "    </tr>\n",
       "    <tr>\n",
       "      <th>linux</th>\n",
       "      <td>0.022964</td>\n",
       "      <td>1.000000</td>\n",
       "      <td>0.044898</td>\n",
       "      <td>680.0</td>\n",
       "    </tr>\n",
       "    <tr>\n",
       "      <th>node.js</th>\n",
       "      <td>0.023032</td>\n",
       "      <td>1.000000</td>\n",
       "      <td>0.045027</td>\n",
       "      <td>682.0</td>\n",
       "    </tr>\n",
       "    <tr>\n",
       "      <th>git</th>\n",
       "      <td>0.009253</td>\n",
       "      <td>1.000000</td>\n",
       "      <td>0.018337</td>\n",
       "      <td>274.0</td>\n",
       "    </tr>\n",
       "    <tr>\n",
       "      <th>micro avg</th>\n",
       "      <td>0.053140</td>\n",
       "      <td>1.000000</td>\n",
       "      <td>0.100917</td>\n",
       "      <td>33044.0</td>\n",
       "    </tr>\n",
       "    <tr>\n",
       "      <th>macro avg</th>\n",
       "      <td>0.053140</td>\n",
       "      <td>1.000000</td>\n",
       "      <td>0.099176</td>\n",
       "      <td>33044.0</td>\n",
       "    </tr>\n",
       "    <tr>\n",
       "      <th>weighted avg</th>\n",
       "      <td>0.072731</td>\n",
       "      <td>1.000000</td>\n",
       "      <td>0.133680</td>\n",
       "      <td>33044.0</td>\n",
       "    </tr>\n",
       "    <tr>\n",
       "      <th>samples avg</th>\n",
       "      <td>0.053140</td>\n",
       "      <td>0.792678</td>\n",
       "      <td>0.098364</td>\n",
       "      <td>33044.0</td>\n",
       "    </tr>\n",
       "  </tbody>\n",
       "</table>\n",
       "</div>"
      ],
      "text/plain": [
       "              precision    recall  f1-score  support\n",
       "java           0.120158  1.000000  0.214538   3558.0\n",
       "c#             0.117287  1.000000  0.209950   3473.0\n",
       "javascript     0.113336  1.000000  0.203598   3356.0\n",
       "python         0.088210  1.000000  0.162120   2612.0\n",
       "android        0.069062  1.000000  0.129201   2045.0\n",
       "c++            0.066327  1.000000  0.124402   1964.0\n",
       "ios            0.062139  1.000000  0.117007   1840.0\n",
       "html           0.059269  1.000000  0.111905   1755.0\n",
       "php            0.054946  1.000000  0.104168   1627.0\n",
       ".net           0.052987  1.000000  0.100641   1569.0\n",
       "jquery         0.051940  1.000000  0.098751   1538.0\n",
       "css            0.038195  1.000000  0.073580   1131.0\n",
       "objective-c    0.029989  1.000000  0.058231    888.0\n",
       "c              0.029888  1.000000  0.058040    885.0\n",
       "sql            0.029381  1.000000  0.057085    870.0\n",
       "iphone         0.027253  1.000000  0.053061    807.0\n",
       "asp.net        0.027186  1.000000  0.052933    805.0\n",
       "mysql          0.023133  1.000000  0.045220    685.0\n",
       "linux          0.022964  1.000000  0.044898    680.0\n",
       "node.js        0.023032  1.000000  0.045027    682.0\n",
       "git            0.009253  1.000000  0.018337    274.0\n",
       "micro avg      0.053140  1.000000  0.100917  33044.0\n",
       "macro avg      0.053140  1.000000  0.099176  33044.0\n",
       "weighted avg   0.072731  1.000000  0.133680  33044.0\n",
       "samples avg    0.053140  0.792678  0.098364  33044.0"
      ]
     },
     "execution_count": 20,
     "metadata": {},
     "output_type": "execute_result"
    }
   ],
   "source": [
    "p5_nlp_utils.Commun.save_score(\n",
    "    y_true=y_test, y_pred=y_test.replace([False], True), target_names=target_names\n",
    ")"
   ]
  },
  {
   "cell_type": "markdown",
   "id": "0d26e19e",
   "metadata": {
    "papermill": {
     "duration": 0.01922,
     "end_time": "2023-01-20T14:40:01.590511",
     "exception": false,
     "start_time": "2023-01-20T14:40:01.571291",
     "status": "completed"
    },
    "tags": []
   },
   "source": [
    "### Methode naive le tag est dans la question:"
   ]
  },
  {
   "cell_type": "code",
   "execution_count": 21,
   "id": "62ebbf1c",
   "metadata": {
    "_kg_hide-input": false,
    "_kg_hide-output": true,
    "execution": {
     "iopub.execute_input": "2023-01-20T14:40:01.629433Z",
     "iopub.status.busy": "2023-01-20T14:40:01.629120Z",
     "iopub.status.idle": "2023-01-20T14:40:04.593578Z",
     "shell.execute_reply": "2023-01-20T14:40:04.592645Z"
    },
    "papermill": {
     "duration": 2.986644,
     "end_time": "2023-01-20T14:40:04.595944",
     "exception": false,
     "start_time": "2023-01-20T14:40:01.609300",
     "status": "completed"
    },
    "tags": []
   },
   "outputs": [
    {
     "data": {
      "text/html": [
       "<div>\n",
       "<style scoped>\n",
       "    .dataframe tbody tr th:only-of-type {\n",
       "        vertical-align: middle;\n",
       "    }\n",
       "\n",
       "    .dataframe tbody tr th {\n",
       "        vertical-align: top;\n",
       "    }\n",
       "\n",
       "    .dataframe thead th {\n",
       "        text-align: right;\n",
       "    }\n",
       "</style>\n",
       "<table border=\"1\" class=\"dataframe\">\n",
       "  <thead>\n",
       "    <tr style=\"text-align: right;\">\n",
       "      <th></th>\n",
       "      <th>0</th>\n",
       "      <th>1</th>\n",
       "      <th>2</th>\n",
       "      <th>3</th>\n",
       "      <th>4</th>\n",
       "      <th>5</th>\n",
       "      <th>6</th>\n",
       "      <th>7</th>\n",
       "      <th>8</th>\n",
       "      <th>9</th>\n",
       "    </tr>\n",
       "  </thead>\n",
       "  <tbody>\n",
       "    <tr>\n",
       "      <th>java</th>\n",
       "      <td>False</td>\n",
       "      <td>False</td>\n",
       "      <td>False</td>\n",
       "      <td>False</td>\n",
       "      <td>True</td>\n",
       "      <td>False</td>\n",
       "      <td>False</td>\n",
       "      <td>False</td>\n",
       "      <td>False</td>\n",
       "      <td>False</td>\n",
       "    </tr>\n",
       "    <tr>\n",
       "      <th>c#</th>\n",
       "      <td>False</td>\n",
       "      <td>False</td>\n",
       "      <td>False</td>\n",
       "      <td>False</td>\n",
       "      <td>False</td>\n",
       "      <td>False</td>\n",
       "      <td>False</td>\n",
       "      <td>False</td>\n",
       "      <td>False</td>\n",
       "      <td>False</td>\n",
       "    </tr>\n",
       "    <tr>\n",
       "      <th>javascript</th>\n",
       "      <td>False</td>\n",
       "      <td>False</td>\n",
       "      <td>False</td>\n",
       "      <td>False</td>\n",
       "      <td>False</td>\n",
       "      <td>False</td>\n",
       "      <td>False</td>\n",
       "      <td>False</td>\n",
       "      <td>False</td>\n",
       "      <td>False</td>\n",
       "    </tr>\n",
       "    <tr>\n",
       "      <th>python</th>\n",
       "      <td>True</td>\n",
       "      <td>False</td>\n",
       "      <td>False</td>\n",
       "      <td>False</td>\n",
       "      <td>False</td>\n",
       "      <td>False</td>\n",
       "      <td>False</td>\n",
       "      <td>False</td>\n",
       "      <td>False</td>\n",
       "      <td>False</td>\n",
       "    </tr>\n",
       "    <tr>\n",
       "      <th>android</th>\n",
       "      <td>False</td>\n",
       "      <td>False</td>\n",
       "      <td>False</td>\n",
       "      <td>False</td>\n",
       "      <td>False</td>\n",
       "      <td>False</td>\n",
       "      <td>False</td>\n",
       "      <td>False</td>\n",
       "      <td>False</td>\n",
       "      <td>False</td>\n",
       "    </tr>\n",
       "    <tr>\n",
       "      <th>c++</th>\n",
       "      <td>False</td>\n",
       "      <td>False</td>\n",
       "      <td>False</td>\n",
       "      <td>False</td>\n",
       "      <td>True</td>\n",
       "      <td>False</td>\n",
       "      <td>False</td>\n",
       "      <td>False</td>\n",
       "      <td>False</td>\n",
       "      <td>False</td>\n",
       "    </tr>\n",
       "    <tr>\n",
       "      <th>ios</th>\n",
       "      <td>False</td>\n",
       "      <td>False</td>\n",
       "      <td>False</td>\n",
       "      <td>False</td>\n",
       "      <td>False</td>\n",
       "      <td>False</td>\n",
       "      <td>False</td>\n",
       "      <td>False</td>\n",
       "      <td>False</td>\n",
       "      <td>False</td>\n",
       "    </tr>\n",
       "    <tr>\n",
       "      <th>html</th>\n",
       "      <td>False</td>\n",
       "      <td>False</td>\n",
       "      <td>False</td>\n",
       "      <td>False</td>\n",
       "      <td>False</td>\n",
       "      <td>False</td>\n",
       "      <td>False</td>\n",
       "      <td>False</td>\n",
       "      <td>False</td>\n",
       "      <td>False</td>\n",
       "    </tr>\n",
       "    <tr>\n",
       "      <th>php</th>\n",
       "      <td>False</td>\n",
       "      <td>False</td>\n",
       "      <td>False</td>\n",
       "      <td>False</td>\n",
       "      <td>False</td>\n",
       "      <td>False</td>\n",
       "      <td>False</td>\n",
       "      <td>False</td>\n",
       "      <td>False</td>\n",
       "      <td>False</td>\n",
       "    </tr>\n",
       "    <tr>\n",
       "      <th>.net</th>\n",
       "      <td>False</td>\n",
       "      <td>False</td>\n",
       "      <td>False</td>\n",
       "      <td>False</td>\n",
       "      <td>False</td>\n",
       "      <td>False</td>\n",
       "      <td>False</td>\n",
       "      <td>True</td>\n",
       "      <td>False</td>\n",
       "      <td>False</td>\n",
       "    </tr>\n",
       "    <tr>\n",
       "      <th>jquery</th>\n",
       "      <td>False</td>\n",
       "      <td>False</td>\n",
       "      <td>False</td>\n",
       "      <td>False</td>\n",
       "      <td>False</td>\n",
       "      <td>False</td>\n",
       "      <td>False</td>\n",
       "      <td>False</td>\n",
       "      <td>False</td>\n",
       "      <td>False</td>\n",
       "    </tr>\n",
       "    <tr>\n",
       "      <th>css</th>\n",
       "      <td>False</td>\n",
       "      <td>False</td>\n",
       "      <td>False</td>\n",
       "      <td>False</td>\n",
       "      <td>False</td>\n",
       "      <td>False</td>\n",
       "      <td>False</td>\n",
       "      <td>False</td>\n",
       "      <td>False</td>\n",
       "      <td>False</td>\n",
       "    </tr>\n",
       "    <tr>\n",
       "      <th>objective-c</th>\n",
       "      <td>False</td>\n",
       "      <td>False</td>\n",
       "      <td>False</td>\n",
       "      <td>False</td>\n",
       "      <td>False</td>\n",
       "      <td>False</td>\n",
       "      <td>False</td>\n",
       "      <td>False</td>\n",
       "      <td>False</td>\n",
       "      <td>False</td>\n",
       "    </tr>\n",
       "    <tr>\n",
       "      <th>c</th>\n",
       "      <td>False</td>\n",
       "      <td>False</td>\n",
       "      <td>False</td>\n",
       "      <td>False</td>\n",
       "      <td>False</td>\n",
       "      <td>False</td>\n",
       "      <td>False</td>\n",
       "      <td>False</td>\n",
       "      <td>True</td>\n",
       "      <td>False</td>\n",
       "    </tr>\n",
       "    <tr>\n",
       "      <th>sql</th>\n",
       "      <td>False</td>\n",
       "      <td>False</td>\n",
       "      <td>True</td>\n",
       "      <td>False</td>\n",
       "      <td>False</td>\n",
       "      <td>False</td>\n",
       "      <td>False</td>\n",
       "      <td>False</td>\n",
       "      <td>False</td>\n",
       "      <td>False</td>\n",
       "    </tr>\n",
       "    <tr>\n",
       "      <th>iphone</th>\n",
       "      <td>False</td>\n",
       "      <td>False</td>\n",
       "      <td>False</td>\n",
       "      <td>False</td>\n",
       "      <td>False</td>\n",
       "      <td>False</td>\n",
       "      <td>False</td>\n",
       "      <td>False</td>\n",
       "      <td>False</td>\n",
       "      <td>False</td>\n",
       "    </tr>\n",
       "    <tr>\n",
       "      <th>asp.net</th>\n",
       "      <td>False</td>\n",
       "      <td>False</td>\n",
       "      <td>False</td>\n",
       "      <td>False</td>\n",
       "      <td>False</td>\n",
       "      <td>False</td>\n",
       "      <td>False</td>\n",
       "      <td>False</td>\n",
       "      <td>False</td>\n",
       "      <td>False</td>\n",
       "    </tr>\n",
       "    <tr>\n",
       "      <th>mysql</th>\n",
       "      <td>False</td>\n",
       "      <td>False</td>\n",
       "      <td>False</td>\n",
       "      <td>False</td>\n",
       "      <td>False</td>\n",
       "      <td>False</td>\n",
       "      <td>False</td>\n",
       "      <td>False</td>\n",
       "      <td>False</td>\n",
       "      <td>False</td>\n",
       "    </tr>\n",
       "    <tr>\n",
       "      <th>linux</th>\n",
       "      <td>False</td>\n",
       "      <td>False</td>\n",
       "      <td>False</td>\n",
       "      <td>False</td>\n",
       "      <td>False</td>\n",
       "      <td>False</td>\n",
       "      <td>False</td>\n",
       "      <td>False</td>\n",
       "      <td>False</td>\n",
       "      <td>False</td>\n",
       "    </tr>\n",
       "    <tr>\n",
       "      <th>node.js</th>\n",
       "      <td>False</td>\n",
       "      <td>False</td>\n",
       "      <td>False</td>\n",
       "      <td>False</td>\n",
       "      <td>False</td>\n",
       "      <td>False</td>\n",
       "      <td>False</td>\n",
       "      <td>False</td>\n",
       "      <td>False</td>\n",
       "      <td>False</td>\n",
       "    </tr>\n",
       "    <tr>\n",
       "      <th>git</th>\n",
       "      <td>False</td>\n",
       "      <td>False</td>\n",
       "      <td>False</td>\n",
       "      <td>False</td>\n",
       "      <td>False</td>\n",
       "      <td>False</td>\n",
       "      <td>False</td>\n",
       "      <td>False</td>\n",
       "      <td>False</td>\n",
       "      <td>False</td>\n",
       "    </tr>\n",
       "  </tbody>\n",
       "</table>\n",
       "</div>"
      ],
      "text/plain": [
       "                 0      1      2      3      4      5      6      7      8  \\\n",
       "java         False  False  False  False   True  False  False  False  False   \n",
       "c#           False  False  False  False  False  False  False  False  False   \n",
       "javascript   False  False  False  False  False  False  False  False  False   \n",
       "python        True  False  False  False  False  False  False  False  False   \n",
       "android      False  False  False  False  False  False  False  False  False   \n",
       "c++          False  False  False  False   True  False  False  False  False   \n",
       "ios          False  False  False  False  False  False  False  False  False   \n",
       "html         False  False  False  False  False  False  False  False  False   \n",
       "php          False  False  False  False  False  False  False  False  False   \n",
       ".net         False  False  False  False  False  False  False   True  False   \n",
       "jquery       False  False  False  False  False  False  False  False  False   \n",
       "css          False  False  False  False  False  False  False  False  False   \n",
       "objective-c  False  False  False  False  False  False  False  False  False   \n",
       "c            False  False  False  False  False  False  False  False   True   \n",
       "sql          False  False   True  False  False  False  False  False  False   \n",
       "iphone       False  False  False  False  False  False  False  False  False   \n",
       "asp.net      False  False  False  False  False  False  False  False  False   \n",
       "mysql        False  False  False  False  False  False  False  False  False   \n",
       "linux        False  False  False  False  False  False  False  False  False   \n",
       "node.js      False  False  False  False  False  False  False  False  False   \n",
       "git          False  False  False  False  False  False  False  False  False   \n",
       "\n",
       "                 9  \n",
       "java         False  \n",
       "c#           False  \n",
       "javascript   False  \n",
       "python       False  \n",
       "android      False  \n",
       "c++          False  \n",
       "ios          False  \n",
       "html         False  \n",
       "php          False  \n",
       ".net         False  \n",
       "jquery       False  \n",
       "css          False  \n",
       "objective-c  False  \n",
       "c            False  \n",
       "sql          False  \n",
       "iphone       False  \n",
       "asp.net      False  \n",
       "mysql        False  \n",
       "linux        False  \n",
       "node.js      False  \n",
       "git          False  "
      ]
     },
     "execution_count": 21,
     "metadata": {},
     "output_type": "execute_result"
    }
   ],
   "source": [
    "test_str = X_test.str\n",
    "pred_is_in = pd.DataFrame(\n",
    "    {\n",
    "        target_name: test_str.contains(\n",
    "            f\" {target_name} \", case=False, regex=False\n",
    "        ).values\n",
    "        for target_name in target_names\n",
    "    }\n",
    ")\n",
    "pred_is_in.head(10).T"
   ]
  },
  {
   "cell_type": "code",
   "execution_count": 22,
   "id": "fb649df0",
   "metadata": {
    "_kg_hide-input": false,
    "_kg_hide-output": true,
    "execution": {
     "iopub.execute_input": "2023-01-20T14:40:04.638115Z",
     "iopub.status.busy": "2023-01-20T14:40:04.637814Z",
     "iopub.status.idle": "2023-01-20T14:40:04.713320Z",
     "shell.execute_reply": "2023-01-20T14:40:04.712227Z"
    },
    "papermill": {
     "duration": 0.09903,
     "end_time": "2023-01-20T14:40:04.715839",
     "exception": false,
     "start_time": "2023-01-20T14:40:04.616809",
     "status": "completed"
    },
    "tags": []
   },
   "outputs": [
    {
     "data": {
      "text/html": [
       "<div>\n",
       "<style scoped>\n",
       "    .dataframe tbody tr th:only-of-type {\n",
       "        vertical-align: middle;\n",
       "    }\n",
       "\n",
       "    .dataframe tbody tr th {\n",
       "        vertical-align: top;\n",
       "    }\n",
       "\n",
       "    .dataframe thead th {\n",
       "        text-align: right;\n",
       "    }\n",
       "</style>\n",
       "<table border=\"1\" class=\"dataframe\">\n",
       "  <thead>\n",
       "    <tr style=\"text-align: right;\">\n",
       "      <th></th>\n",
       "      <th>precision</th>\n",
       "      <th>recall</th>\n",
       "      <th>f1-score</th>\n",
       "      <th>support</th>\n",
       "    </tr>\n",
       "  </thead>\n",
       "  <tbody>\n",
       "    <tr>\n",
       "      <th>git</th>\n",
       "      <td>0.688213</td>\n",
       "      <td>0.660584</td>\n",
       "      <td>0.674115</td>\n",
       "      <td>274.0</td>\n",
       "    </tr>\n",
       "    <tr>\n",
       "      <th>android</th>\n",
       "      <td>0.875515</td>\n",
       "      <td>0.519315</td>\n",
       "      <td>0.651934</td>\n",
       "      <td>2045.0</td>\n",
       "    </tr>\n",
       "    <tr>\n",
       "      <th>mysql</th>\n",
       "      <td>0.768612</td>\n",
       "      <td>0.557664</td>\n",
       "      <td>0.646362</td>\n",
       "      <td>685.0</td>\n",
       "    </tr>\n",
       "    <tr>\n",
       "      <th>python</th>\n",
       "      <td>0.897113</td>\n",
       "      <td>0.464012</td>\n",
       "      <td>0.611658</td>\n",
       "      <td>2612.0</td>\n",
       "    </tr>\n",
       "    <tr>\n",
       "      <th>php</th>\n",
       "      <td>0.861340</td>\n",
       "      <td>0.450522</td>\n",
       "      <td>0.591606</td>\n",
       "      <td>1627.0</td>\n",
       "    </tr>\n",
       "    <tr>\n",
       "      <th>jquery</th>\n",
       "      <td>0.831169</td>\n",
       "      <td>0.416125</td>\n",
       "      <td>0.554593</td>\n",
       "      <td>1538.0</td>\n",
       "    </tr>\n",
       "    <tr>\n",
       "      <th>css</th>\n",
       "      <td>0.741710</td>\n",
       "      <td>0.375774</td>\n",
       "      <td>0.498826</td>\n",
       "      <td>1131.0</td>\n",
       "    </tr>\n",
       "    <tr>\n",
       "      <th>asp.net</th>\n",
       "      <td>0.551515</td>\n",
       "      <td>0.452174</td>\n",
       "      <td>0.496928</td>\n",
       "      <td>805.0</td>\n",
       "    </tr>\n",
       "    <tr>\n",
       "      <th>c++</th>\n",
       "      <td>0.835947</td>\n",
       "      <td>0.352851</td>\n",
       "      <td>0.496241</td>\n",
       "      <td>1964.0</td>\n",
       "    </tr>\n",
       "    <tr>\n",
       "      <th>java</th>\n",
       "      <td>0.801736</td>\n",
       "      <td>0.337549</td>\n",
       "      <td>0.475079</td>\n",
       "      <td>3558.0</td>\n",
       "    </tr>\n",
       "    <tr>\n",
       "      <th>micro avg</th>\n",
       "      <td>0.709102</td>\n",
       "      <td>0.348929</td>\n",
       "      <td>0.467711</td>\n",
       "      <td>33044.0</td>\n",
       "    </tr>\n",
       "    <tr>\n",
       "      <th>macro avg</th>\n",
       "      <td>0.700842</td>\n",
       "      <td>0.369202</td>\n",
       "      <td>0.462308</td>\n",
       "      <td>33044.0</td>\n",
       "    </tr>\n",
       "    <tr>\n",
       "      <th>weighted avg</th>\n",
       "      <td>0.747503</td>\n",
       "      <td>0.348929</td>\n",
       "      <td>0.461182</td>\n",
       "      <td>33044.0</td>\n",
       "    </tr>\n",
       "    <tr>\n",
       "      <th>ios</th>\n",
       "      <td>0.782269</td>\n",
       "      <td>0.326087</td>\n",
       "      <td>0.460299</td>\n",
       "      <td>1840.0</td>\n",
       "    </tr>\n",
       "    <tr>\n",
       "      <th>sql</th>\n",
       "      <td>0.417166</td>\n",
       "      <td>0.480460</td>\n",
       "      <td>0.446581</td>\n",
       "      <td>870.0</td>\n",
       "    </tr>\n",
       "    <tr>\n",
       "      <th>c</th>\n",
       "      <td>0.408353</td>\n",
       "      <td>0.397740</td>\n",
       "      <td>0.402977</td>\n",
       "      <td>885.0</td>\n",
       "    </tr>\n",
       "    <tr>\n",
       "      <th>linux</th>\n",
       "      <td>0.456175</td>\n",
       "      <td>0.336765</td>\n",
       "      <td>0.387479</td>\n",
       "      <td>680.0</td>\n",
       "    </tr>\n",
       "    <tr>\n",
       "      <th>iphone</th>\n",
       "      <td>0.604222</td>\n",
       "      <td>0.283767</td>\n",
       "      <td>0.386172</td>\n",
       "      <td>807.0</td>\n",
       "    </tr>\n",
       "    <tr>\n",
       "      <th>html</th>\n",
       "      <td>0.486159</td>\n",
       "      <td>0.320228</td>\n",
       "      <td>0.386122</td>\n",
       "      <td>1755.0</td>\n",
       "    </tr>\n",
       "    <tr>\n",
       "      <th>javascript</th>\n",
       "      <td>0.764331</td>\n",
       "      <td>0.250298</td>\n",
       "      <td>0.377104</td>\n",
       "      <td>3356.0</td>\n",
       "    </tr>\n",
       "    <tr>\n",
       "      <th>.net</th>\n",
       "      <td>0.508876</td>\n",
       "      <td>0.274060</td>\n",
       "      <td>0.356255</td>\n",
       "      <td>1569.0</td>\n",
       "    </tr>\n",
       "    <tr>\n",
       "      <th>c#</th>\n",
       "      <td>0.863636</td>\n",
       "      <td>0.224302</td>\n",
       "      <td>0.356114</td>\n",
       "      <td>3473.0</td>\n",
       "    </tr>\n",
       "    <tr>\n",
       "      <th>node.js</th>\n",
       "      <td>0.875000</td>\n",
       "      <td>0.215543</td>\n",
       "      <td>0.345882</td>\n",
       "      <td>682.0</td>\n",
       "    </tr>\n",
       "    <tr>\n",
       "      <th>samples avg</th>\n",
       "      <td>0.316185</td>\n",
       "      <td>0.285465</td>\n",
       "      <td>0.288666</td>\n",
       "      <td>33044.0</td>\n",
       "    </tr>\n",
       "    <tr>\n",
       "      <th>objective-c</th>\n",
       "      <td>0.698630</td>\n",
       "      <td>0.057432</td>\n",
       "      <td>0.106139</td>\n",
       "      <td>888.0</td>\n",
       "    </tr>\n",
       "  </tbody>\n",
       "</table>\n",
       "</div>"
      ],
      "text/plain": [
       "              precision    recall  f1-score  support\n",
       "git            0.688213  0.660584  0.674115    274.0\n",
       "android        0.875515  0.519315  0.651934   2045.0\n",
       "mysql          0.768612  0.557664  0.646362    685.0\n",
       "python         0.897113  0.464012  0.611658   2612.0\n",
       "php            0.861340  0.450522  0.591606   1627.0\n",
       "jquery         0.831169  0.416125  0.554593   1538.0\n",
       "css            0.741710  0.375774  0.498826   1131.0\n",
       "asp.net        0.551515  0.452174  0.496928    805.0\n",
       "c++            0.835947  0.352851  0.496241   1964.0\n",
       "java           0.801736  0.337549  0.475079   3558.0\n",
       "micro avg      0.709102  0.348929  0.467711  33044.0\n",
       "macro avg      0.700842  0.369202  0.462308  33044.0\n",
       "weighted avg   0.747503  0.348929  0.461182  33044.0\n",
       "ios            0.782269  0.326087  0.460299   1840.0\n",
       "sql            0.417166  0.480460  0.446581    870.0\n",
       "c              0.408353  0.397740  0.402977    885.0\n",
       "linux          0.456175  0.336765  0.387479    680.0\n",
       "iphone         0.604222  0.283767  0.386172    807.0\n",
       "html           0.486159  0.320228  0.386122   1755.0\n",
       "javascript     0.764331  0.250298  0.377104   3356.0\n",
       ".net           0.508876  0.274060  0.356255   1569.0\n",
       "c#             0.863636  0.224302  0.356114   3473.0\n",
       "node.js        0.875000  0.215543  0.345882    682.0\n",
       "samples avg    0.316185  0.285465  0.288666  33044.0\n",
       "objective-c    0.698630  0.057432  0.106139    888.0"
      ]
     },
     "execution_count": 22,
     "metadata": {},
     "output_type": "execute_result"
    }
   ],
   "source": [
    "score_naive_is_in = p5_nlp_utils.Commun.save_score(\n",
    "    y_test, pred_is_in, target_names, \"naive_is_in\"\n",
    ")\n",
    "score_naive_is_in.sort_values(by=\"f1-score\", ascending=False)"
   ]
  },
  {
   "cell_type": "markdown",
   "id": "1a0f6c94",
   "metadata": {
    "papermill": {
     "duration": 0.019433,
     "end_time": "2023-01-20T14:40:04.755346",
     "exception": false,
     "start_time": "2023-01-20T14:40:04.735913",
     "status": "completed"
    },
    "tags": []
   },
   "source": [
    "# CountVectorizer"
   ]
  },
  {
   "cell_type": "code",
   "execution_count": 23,
   "id": "e957e1c8",
   "metadata": {
    "execution": {
     "iopub.execute_input": "2023-01-20T14:40:04.797441Z",
     "iopub.status.busy": "2023-01-20T14:40:04.796557Z",
     "iopub.status.idle": "2023-01-20T14:40:23.422925Z",
     "shell.execute_reply": "2023-01-20T14:40:23.421591Z"
    },
    "papermill": {
     "duration": 18.649809,
     "end_time": "2023-01-20T14:40:23.425688",
     "exception": false,
     "start_time": "2023-01-20T14:40:04.775879",
     "status": "completed"
    },
    "tags": []
   },
   "outputs": [
    {
     "name": "stdout",
     "output_type": "stream",
     "text": [
      "\n",
      "******************************\n",
      " pour min_df:1e-05; max_df:0.995\n",
      "\ttokens unique:\n",
      "\t\t140843 dans title et body regroupé\n"
     ]
    }
   ],
   "source": [
    "best_min_df = description[\"CountVectorizer\"][\"min_df\"]\n",
    "best_max_df = description[\"CountVectorizer\"][\"max_df\"]\n",
    "for min_df in [0.01, 0.05, 0.005, 0.0005, 0.00001] if LONG else [best_min_df]:\n",
    "    for max_df in [0.95, 0.995, 0.9995] if LONG else [best_max_df]:\n",
    "        print(f\"\\n{'*'*30}\\n pour min_df:{min_df}; max_df:{max_df}\")\n",
    "        count_vectorizer = feature_extraction.text.CountVectorizer(\n",
    "            min_df=min_df, max_df=max_df, max_features=None\n",
    "        )\n",
    "        #         pipe = pipeline.make_pipeline(feature_extraction.text.CountVectorizer(min_df=min_df, max_df=max_df, max_features=None), feature_extraction.text.TfidfTransformer( norm=\"l2\", use_idf=True, smooth_idf=True, sublinear_tf=False))\n",
    "        #         feat_train = pipe.transform(X_train[\"Token\"])\n",
    "        #         print(feat_train.shape)\n",
    "\n",
    "        token_vectors = count_vectorizer.fit_transform(df[\"Token\"])\n",
    "        print(\n",
    "            f\"\\ttokens unique:\\n\\t\\t{token_vectors.shape[1]} dans title et body regroupé\"\n",
    "        )"
   ]
  },
  {
   "cell_type": "markdown",
   "id": "931005c1",
   "metadata": {
    "papermill": {
     "duration": 0.020487,
     "end_time": "2023-01-20T14:40:23.468151",
     "exception": false,
     "start_time": "2023-01-20T14:40:23.447664",
     "status": "completed"
    },
    "tags": []
   },
   "source": [
    "### Test reduction dimension\n",
    "avec n_components=1_000 : 10% de la variance éxpliqué\n"
   ]
  },
  {
   "cell_type": "code",
   "execution_count": 24,
   "id": "36ab34e7",
   "metadata": {
    "execution": {
     "iopub.execute_input": "2023-01-20T14:40:23.511801Z",
     "iopub.status.busy": "2023-01-20T14:40:23.510810Z",
     "iopub.status.idle": "2023-01-20T14:40:23.550100Z",
     "shell.execute_reply": "2023-01-20T14:40:23.549019Z"
    },
    "papermill": {
     "duration": 0.065001,
     "end_time": "2023-01-20T14:40:23.553604",
     "exception": false,
     "start_time": "2023-01-20T14:40:23.488603",
     "status": "completed"
    },
    "tags": []
   },
   "outputs": [
    {
     "name": "stdout",
     "output_type": "stream",
     "text": [
      "CPU times: user 4 µs, sys: 0 ns, total: 4 µs\n",
      "Wall time: 7.15 µs\n"
     ]
    }
   ],
   "source": [
    "%%time\n",
    "if LONG:\n",
    "    truncSvd = decomposition.TruncatedSVD(n_components=1000).fit(\n",
    "        preprocessing.StandardScaler(with_mean=False).fit_transform(token_vectors)\n",
    "    )\n",
    "    plt.figure(figsize=(30, 15))\n",
    "    scree = truncSvd.explained_variance_ratio_ * 100\n",
    "    plt.bar(np.arange(len(scree)) + 1, scree)\n",
    "    plt.plot(np.arange(len(scree)) + 1, scree.cumsum(), c=\"red\", marker=\"o\")\n",
    "    plt.xlabel(\"rang de l'axe d'inertie\")\n",
    "    plt.ylabel(\"pourcentage variance expliquée\")\n",
    "    plt.title(\"Eboulis des valeurs propres\")\n",
    "    plt.show()"
   ]
  },
  {
   "cell_type": "markdown",
   "id": "b83d9103",
   "metadata": {
    "papermill": {
     "duration": 0.020616,
     "end_time": "2023-01-20T14:40:23.596407",
     "exception": false,
     "start_time": "2023-01-20T14:40:23.575791",
     "status": "completed"
    },
    "tags": []
   },
   "source": [
    "# PreprocessPipeline"
   ]
  },
  {
   "cell_type": "code",
   "execution_count": 25,
   "id": "690e45d5",
   "metadata": {
    "execution": {
     "iopub.execute_input": "2023-01-20T14:40:23.639212Z",
     "iopub.status.busy": "2023-01-20T14:40:23.638371Z",
     "iopub.status.idle": "2023-01-20T14:40:23.691020Z",
     "shell.execute_reply": "2023-01-20T14:40:23.690158Z"
    },
    "papermill": {
     "duration": 0.076692,
     "end_time": "2023-01-20T14:40:23.693334",
     "exception": false,
     "start_time": "2023-01-20T14:40:23.616642",
     "status": "completed"
    },
    "tags": []
   },
   "outputs": [],
   "source": [
    "pipeline_tfidf = pipeline.Pipeline(\n",
    "    [\n",
    "        (\n",
    "            \"count\",\n",
    "            feature_extraction.text.CountVectorizer(\n",
    "                min_df=best_min_df, max_df=best_max_df, max_features=None\n",
    "            ),\n",
    "        ),\n",
    "        (\n",
    "            \"tfidf\",\n",
    "            feature_extraction.text.TfidfTransformer(\n",
    "                norm=\"l2\", use_idf=True, smooth_idf=True, sublinear_tf=False\n",
    "            ),\n",
    "        ),\n",
    "        (\n",
    "            \"scale\",\n",
    "            preprocessing.StandardScaler(with_mean=False)\n",
    "            if description[\"StandardScaler\"][\"actif\"]\n",
    "            else \"passthrough\",\n",
    "        ),\n",
    "        (\n",
    "            \"dimReduction\",\n",
    "            decomposition.TruncatedSVD(\n",
    "                n_components=description[\"TruncatedSVD\"][\"n_components\"]\n",
    "            )\n",
    "            if description[\"TruncatedSVD\"][\"actif\"]\n",
    "            else \"passthrough\",\n",
    "        ),\n",
    "    ]\n",
    ")\n",
    "## @TODO cache\n",
    "# memory = joblib.Memory(location=\"/kaggle/working/cache_dir\", verbose=0)\n",
    "# pipeline_tfidf = memory.cache(pipeline_tfidf)"
   ]
  },
  {
   "cell_type": "markdown",
   "id": "13bfd6d7",
   "metadata": {
    "papermill": {
     "duration": 0.020243,
     "end_time": "2023-01-20T14:40:23.733900",
     "exception": false,
     "start_time": "2023-01-20T14:40:23.713657",
     "status": "completed"
    },
    "tags": []
   },
   "source": [
    "# OvsRest"
   ]
  },
  {
   "cell_type": "markdown",
   "id": "16e0d89a",
   "metadata": {
    "papermill": {
     "duration": 0.020238,
     "end_time": "2023-01-20T14:40:23.774276",
     "exception": false,
     "start_time": "2023-01-20T14:40:23.754038",
     "status": "completed"
    },
    "tags": []
   },
   "source": [
    "## LogisticRegression"
   ]
  },
  {
   "cell_type": "code",
   "execution_count": 26,
   "id": "08dcd510",
   "metadata": {
    "execution": {
     "iopub.execute_input": "2023-01-20T14:40:23.817513Z",
     "iopub.status.busy": "2023-01-20T14:40:23.817161Z",
     "iopub.status.idle": "2023-01-20T14:40:23.859260Z",
     "shell.execute_reply": "2023-01-20T14:40:23.858130Z"
    },
    "papermill": {
     "duration": 0.066412,
     "end_time": "2023-01-20T14:40:23.861674",
     "exception": false,
     "start_time": "2023-01-20T14:40:23.795262",
     "status": "completed"
    },
    "tags": []
   },
   "outputs": [
    {
     "name": "stdout",
     "output_type": "stream",
     "text": [
      "CPU times: user 4 µs, sys: 1 µs, total: 5 µs\n",
      "Wall time: 7.87 µs\n"
     ]
    }
   ],
   "source": [
    "%%time\n",
    "if description[\"LogisticRegression\"][\"actif\"]:\n",
    "    pipeline_logisticReg = pipeline.Pipeline(\n",
    "        [\n",
    "            (\"tfidf\", pipeline_tfidf),\n",
    "            (\n",
    "                \"OvRLogisticReg\",\n",
    "                multiclass.OneVsRestClassifier(\n",
    "                    linear_model.LogisticRegression(random_state=42)\n",
    "                ),\n",
    "            ),\n",
    "        ]\n",
    "    )\n",
    "    with ignore_warnings(category=exceptions.ConvergenceWarning):\n",
    "        pipeline_logisticReg.fit(X_train, y_train)\n",
    "\n",
    "    # prediction sur jeu de test\n",
    "    pred_lr = pipeline_logisticReg.predict(X_test)\n",
    "    scores_lr = p5_nlp_utils.Commun.save_score(\n",
    "        y_test, pred_lr, target_names, \"LogisticRegression\"\n",
    "    )\n",
    "\n",
    "    # enregistrement model et score\n",
    "    joblib.dump(pipeline_logisticReg, \"LogisticRegression_model.joblib\")\n",
    "    scores_lr.sort_values(by=\"f1-score\", ascending=False)"
   ]
  },
  {
   "cell_type": "markdown",
   "id": "6a32f5b7",
   "metadata": {
    "papermill": {
     "duration": 0.019978,
     "end_time": "2023-01-20T14:40:23.902326",
     "exception": false,
     "start_time": "2023-01-20T14:40:23.882348",
     "status": "completed"
    },
    "tags": []
   },
   "source": [
    "## SVC"
   ]
  },
  {
   "cell_type": "code",
   "execution_count": 27,
   "id": "4bbe827d",
   "metadata": {
    "execution": {
     "iopub.execute_input": "2023-01-20T14:40:23.944271Z",
     "iopub.status.busy": "2023-01-20T14:40:23.943443Z",
     "iopub.status.idle": "2023-01-20T14:40:23.968765Z",
     "shell.execute_reply": "2023-01-20T14:40:23.968002Z"
    },
    "papermill": {
     "duration": 0.048613,
     "end_time": "2023-01-20T14:40:23.970899",
     "exception": false,
     "start_time": "2023-01-20T14:40:23.922286",
     "status": "completed"
    },
    "tags": []
   },
   "outputs": [],
   "source": [
    "pipeline_svc = pipeline.Pipeline(\n",
    "    [\n",
    "        (\"tfidf\", pipeline_tfidf),\n",
    "        (\n",
    "            \"TfidfOvRSVC\",\n",
    "            multiclass.OneVsRestClassifier(\n",
    "                svm.SVC(\n",
    "                    cache_size=1080,\n",
    "                    max_iter=description[\"TfidfOvRSVC\"][\"max_iter\"],\n",
    "                    random_state=42,\n",
    "                )\n",
    "            ),\n",
    "        ),\n",
    "    ]\n",
    ")"
   ]
  },
  {
   "cell_type": "code",
   "execution_count": 28,
   "id": "06f769de",
   "metadata": {
    "execution": {
     "iopub.execute_input": "2023-01-20T14:40:24.013123Z",
     "iopub.status.busy": "2023-01-20T14:40:24.012284Z",
     "iopub.status.idle": "2023-01-20T14:40:24.046984Z",
     "shell.execute_reply": "2023-01-20T14:40:24.045937Z"
    },
    "papermill": {
     "duration": 0.059248,
     "end_time": "2023-01-20T14:40:24.050238",
     "exception": false,
     "start_time": "2023-01-20T14:40:23.990990",
     "status": "completed"
    },
    "tags": []
   },
   "outputs": [
    {
     "name": "stdout",
     "output_type": "stream",
     "text": [
      "CPU times: user 4 µs, sys: 0 ns, total: 4 µs\n",
      "Wall time: 8.11 µs\n"
     ]
    }
   ],
   "source": [
    "%%time\n",
    "if description[\"TfidfOvRSVC\"][\"actif\"]:\n",
    "    with ignore_warnings(category=exceptions.ConvergenceWarning):\n",
    "        pipeline_svc.fit(\n",
    "            X_train,\n",
    "            y_train,\n",
    "        )\n",
    "    print(\"Fin entrainement début prédiction\")\n",
    "    pred_svc = pipeline_svc.predict(X_test)\n",
    "    #     print(pred_svc)\n",
    "    print(\"Enregistrement score et modéle\")\n",
    "    scores_svc = p5_nlp_utils.Commun.save_score(\n",
    "        y_test, pred_svc, target_names, \"TfidfOvRSVC\"\n",
    "    )\n",
    "    joblib.dump(pipeline_svc, \"TfidfOvRestSvc_model.joblib\")\n",
    "    print(scores_svc.sort_values(by=\"f1-score\", ascending=False))"
   ]
  },
  {
   "cell_type": "markdown",
   "id": "d99aea89",
   "metadata": {
    "papermill": {
     "duration": 0.02024,
     "end_time": "2023-01-20T14:40:24.092187",
     "exception": false,
     "start_time": "2023-01-20T14:40:24.071947",
     "status": "completed"
    },
    "tags": []
   },
   "source": [
    "# Word2Vec"
   ]
  },
  {
   "cell_type": "markdown",
   "id": "0f53b360",
   "metadata": {
    "papermill": {
     "duration": 0.019969,
     "end_time": "2023-01-20T14:40:24.132138",
     "exception": false,
     "start_time": "2023-01-20T14:40:24.112169",
     "status": "completed"
    },
    "tags": []
   },
   "source": [
    "## Keras Model"
   ]
  },
  {
   "cell_type": "code",
   "execution_count": 29,
   "id": "b4e836d6",
   "metadata": {
    "execution": {
     "iopub.execute_input": "2023-01-20T14:40:24.221134Z",
     "iopub.status.busy": "2023-01-20T14:40:24.220554Z",
     "iopub.status.idle": "2023-01-20T14:40:24.281007Z",
     "shell.execute_reply": "2023-01-20T14:40:24.278717Z"
    },
    "papermill": {
     "duration": 0.104644,
     "end_time": "2023-01-20T14:40:24.284281",
     "exception": false,
     "start_time": "2023-01-20T14:40:24.179637",
     "status": "completed"
    },
    "tags": []
   },
   "outputs": [
    {
     "name": "stdout",
     "output_type": "stream",
     "text": [
      "CPU times: user 6 µs, sys: 0 ns, total: 6 µs\n",
      "Wall time: 12.2 µs\n"
     ]
    }
   ],
   "source": [
    "%%time\n",
    "if description[\"kerasPipeline\"][\"actif\"]:\n",
    "    print(description[\"kerasPipeline\"])\n",
    "    ## https://www.tensorflow.org/api_docs/python/tf/keras/layers/TextVectorization\n",
    "    # because https://www.tensorflow.org/api_docs/python/tf/keras/preprocessing/text/Tokenizer deprecaded\n",
    "    vectorize_layer = tf.keras.layers.TextVectorization(\n",
    "        max_tokens=description[\"kerasPipeline\"][\"TextVectorization__max_tokens\"],\n",
    "        standardize=\"lower_and_strip_punctuation\",\n",
    "        split=\"whitespace\",\n",
    "        ngrams=None,\n",
    "        output_mode=\"int\",\n",
    "        output_sequence_length=description[\"kerasPipeline\"][\n",
    "            \"TextVectorization__output_sequence_length\"\n",
    "        ],\n",
    "    )\n",
    "    vectorize_layer.adapt(X_train)"
   ]
  },
  {
   "cell_type": "code",
   "execution_count": 30,
   "id": "22e4e71c",
   "metadata": {
    "execution": {
     "iopub.execute_input": "2023-01-20T14:40:24.365473Z",
     "iopub.status.busy": "2023-01-20T14:40:24.364959Z",
     "iopub.status.idle": "2023-01-20T14:40:24.395911Z",
     "shell.execute_reply": "2023-01-20T14:40:24.395027Z"
    },
    "papermill": {
     "duration": 0.074007,
     "end_time": "2023-01-20T14:40:24.398481",
     "exception": false,
     "start_time": "2023-01-20T14:40:24.324474",
     "status": "completed"
    },
    "tags": []
   },
   "outputs": [
    {
     "name": "stdout",
     "output_type": "stream",
     "text": [
      "CPU times: user 6 µs, sys: 0 ns, total: 6 µs\n",
      "Wall time: 10 µs\n"
     ]
    }
   ],
   "source": [
    "%%time\n",
    "if description[\"kerasPipeline\"][\"actif\"]:\n",
    "    model_vectors = p5_nlp_utils.Word2Vec.build_Word2Vec(\n",
    "        X_train, description[\"kerasPipeline\"]\n",
    "    )\n",
    "    print(\n",
    "        f\"{len(vectorize_layer.get_vocabulary())} {len(model_vectors.index_to_key)} {len(vectorize_layer.get_vocabulary())/len(model_vectors.index_to_key):.2%}\"\n",
    "    )\n",
    "# embedding_matrix, vocab_size = create_embeding(\n",
    "#    vectorize_layer.get_vocabulary(), build_Word2Vec(X_train, description[\"kerasPipeline\"]), params=description[\"kerasPipeline\"]\n",
    "# )"
   ]
  },
  {
   "cell_type": "markdown",
   "id": "5826c838",
   "metadata": {
    "papermill": {
     "duration": 0.030275,
     "end_time": "2023-01-20T14:40:24.459139",
     "exception": false,
     "start_time": "2023-01-20T14:40:24.428864",
     "status": "completed"
    },
    "tags": []
   },
   "source": [
    "if description[\"kerasPipeline\"][\"actif\"] and description[\"kerasPipeline\"][\"tsne\"]:\n",
    "    X_tsne_word2vec =  p5_nlp_utils.Commun.calcul_tsne(X_train_use)\n",
    "    p5_nlp_utils.Commun.visu_tsne(\n",
    "        X_tsne_word2vec,\n",
    "        tag_list=[\n",
    "            \"java\",\n",
    "            \"c#\",\n",
    "            \"python\",\n",
    "            \"android\",\n",
    "            \"php\",\n",
    "            \"javascript\",\n",
    "            \"jquery\",\n",
    "            \"git\",\n",
    "        ],\n",
    "    )"
   ]
  },
  {
   "cell_type": "code",
   "execution_count": 31,
   "id": "8d0ba284",
   "metadata": {
    "execution": {
     "iopub.execute_input": "2023-01-20T14:40:24.521050Z",
     "iopub.status.busy": "2023-01-20T14:40:24.520534Z",
     "iopub.status.idle": "2023-01-20T14:40:24.562718Z",
     "shell.execute_reply": "2023-01-20T14:40:24.561034Z"
    },
    "papermill": {
     "duration": 0.076824,
     "end_time": "2023-01-20T14:40:24.565807",
     "exception": false,
     "start_time": "2023-01-20T14:40:24.488983",
     "status": "completed"
    },
    "tags": []
   },
   "outputs": [
    {
     "name": "stdout",
     "output_type": "stream",
     "text": [
      "CPU times: user 6 µs, sys: 0 ns, total: 6 µs\n",
      "Wall time: 10.3 µs\n"
     ]
    }
   ],
   "source": [
    "%%time\n",
    "# @TODO p5_nlp_utils.Word2Vec.get_embedding(model_vectors, vocabulary, params)\n",
    "if description[\"kerasPipeline\"][\"actif\"]:\n",
    "    print(\"Create Embedding matrix ...\")\n",
    "    embedding_matrix = np.asarray(\n",
    "        [\n",
    "            model_vectors[word]\n",
    "            if word in model_vectors.index_to_key\n",
    "            else np.zeros(description[\"kerasPipeline\"][\"Embedding__output_dim\"])\n",
    "            for word in vectorize_layer.get_vocabulary()\n",
    "        ]\n",
    "    )\n",
    "    embedding_matrix.shape"
   ]
  },
  {
   "cell_type": "code",
   "execution_count": 32,
   "id": "e8e68ef7",
   "metadata": {
    "execution": {
     "iopub.execute_input": "2023-01-20T14:40:24.628800Z",
     "iopub.status.busy": "2023-01-20T14:40:24.628178Z",
     "iopub.status.idle": "2023-01-20T14:40:24.698392Z",
     "shell.execute_reply": "2023-01-20T14:40:24.697458Z"
    },
    "papermill": {
     "duration": 0.104046,
     "end_time": "2023-01-20T14:40:24.701199",
     "exception": false,
     "start_time": "2023-01-20T14:40:24.597153",
     "status": "completed"
    },
    "tags": []
   },
   "outputs": [],
   "source": [
    "# https://www.tensorflow.org/text/guide/word_embeddings\n",
    "if description[\"kerasPipeline\"][\"actif\"]:\n",
    "    modelkerasPipeline = tf.keras.models.Sequential(\n",
    "        [\n",
    "            vectorize_layer,\n",
    "            tf.keras.layers.Embedding(\n",
    "                input_dim=len(vectorize_layer.get_vocabulary()),\n",
    "                output_dim=description[\"kerasPipeline\"][\"Embedding__output_dim\"],\n",
    "                weights=[embedding_matrix],\n",
    "                input_length=description[\"kerasPipeline\"][\n",
    "                    \"TextVectorization__output_sequence_length\"\n",
    "                ],\n",
    "            ),\n",
    "            tf.keras.layers.GlobalAveragePooling1D(),\n",
    "            tf.keras.layers.Dense(16, activation=\"relu\"),\n",
    "            tf.keras.layers.Dense(21),\n",
    "        ]\n",
    "    )\n",
    "    # tensorboard_callback = tf.keras.callbacks.TensorBoard(log_dir=\"logs\") # for log create a dir\n",
    "    modelkerasPipeline.compile(\n",
    "        optimizer=\"adam\",\n",
    "        loss=tf.keras.losses.BinaryCrossentropy(from_logits=True),\n",
    "        metrics=[\"accuracy\"],\n",
    "    )"
   ]
  },
  {
   "cell_type": "code",
   "execution_count": 33,
   "id": "310f46fd",
   "metadata": {
    "execution": {
     "iopub.execute_input": "2023-01-20T14:40:24.770245Z",
     "iopub.status.busy": "2023-01-20T14:40:24.769908Z",
     "iopub.status.idle": "2023-01-20T14:40:24.787808Z",
     "shell.execute_reply": "2023-01-20T14:40:24.785783Z"
    },
    "papermill": {
     "duration": 0.044427,
     "end_time": "2023-01-20T14:40:24.790506",
     "exception": false,
     "start_time": "2023-01-20T14:40:24.746079",
     "status": "completed"
    },
    "tags": []
   },
   "outputs": [
    {
     "name": "stdout",
     "output_type": "stream",
     "text": [
      "CPU times: user 4 µs, sys: 1 µs, total: 5 µs\n",
      "Wall time: 7.87 µs\n"
     ]
    }
   ],
   "source": [
    "%%time\n",
    "if description[\"kerasPipeline\"][\"actif\"]:\n",
    "    modelkerasPipeline.fit(\n",
    "        X_train,\n",
    "        y_train,\n",
    "        epochs=description[\"kerasPipeline\"][\"fit__epochs\"],\n",
    "        # callbacks=[tensorboard_callback],\n",
    "    )"
   ]
  },
  {
   "cell_type": "code",
   "execution_count": 34,
   "id": "080b2041",
   "metadata": {
    "execution": {
     "iopub.execute_input": "2023-01-20T14:40:24.833940Z",
     "iopub.status.busy": "2023-01-20T14:40:24.833656Z",
     "iopub.status.idle": "2023-01-20T14:40:24.860095Z",
     "shell.execute_reply": "2023-01-20T14:40:24.858788Z"
    },
    "papermill": {
     "duration": 0.04996,
     "end_time": "2023-01-20T14:40:24.862219",
     "exception": false,
     "start_time": "2023-01-20T14:40:24.812259",
     "status": "completed"
    },
    "tags": []
   },
   "outputs": [
    {
     "name": "stdout",
     "output_type": "stream",
     "text": [
      "CPU times: user 4 µs, sys: 0 ns, total: 4 µs\n",
      "Wall time: 7.63 µs\n"
     ]
    }
   ],
   "source": [
    "%%time\n",
    "if description[\"kerasPipeline\"][\"actif\"]:\n",
    "    pred_kerasword2vec_proba = modelkerasPipeline.predict(X_test)\n",
    "    #     print(pred_kerasword2vec_proba)\n",
    "    pred_kerasword2vec = pd.DataFrame(\n",
    "        [\n",
    "            {tag: pred_tag > 0 for pred_tag, tag in zip(pred, target_names)}\n",
    "            for pred in pred_kerasword2vec_proba\n",
    "        ]\n",
    "    )\n",
    "    print(pred_kerasword2vec.value_counts())"
   ]
  },
  {
   "cell_type": "code",
   "execution_count": 35,
   "id": "5b45d96d",
   "metadata": {
    "execution": {
     "iopub.execute_input": "2023-01-20T14:40:24.905233Z",
     "iopub.status.busy": "2023-01-20T14:40:24.904455Z",
     "iopub.status.idle": "2023-01-20T14:40:24.924376Z",
     "shell.execute_reply": "2023-01-20T14:40:24.923513Z"
    },
    "papermill": {
     "duration": 0.043389,
     "end_time": "2023-01-20T14:40:24.926363",
     "exception": false,
     "start_time": "2023-01-20T14:40:24.882974",
     "status": "completed"
    },
    "tags": []
   },
   "outputs": [],
   "source": [
    "if description[\"kerasPipeline\"][\"actif\"]:\n",
    "    scores_kerasword2vec = p5_nlp_utils.Commun.save_score(\n",
    "        y_test,\n",
    "        pred_kerasword2vec,\n",
    "        target_names,\n",
    "        \"kerasPipeline\",\n",
    "    )\n",
    "    print(scores_kerasword2vec.sort_values(by=\"f1-score\", ascending=False))\n",
    "    modelkerasPipeline.save(\"kerasPipeline\")\n",
    "    # tf.saved_model.save(modelkerasPipeline, 'kerasPipeline')"
   ]
  },
  {
   "cell_type": "markdown",
   "id": "d769fa7d",
   "metadata": {
    "papermill": {
     "duration": 0.020147,
     "end_time": "2023-01-20T14:40:24.966984",
     "exception": false,
     "start_time": "2023-01-20T14:40:24.946837",
     "status": "completed"
    },
    "tags": []
   },
   "source": [
    "## Word2Vec puis OvR SVC"
   ]
  },
  {
   "cell_type": "code",
   "execution_count": 36,
   "id": "edf86bbf",
   "metadata": {
    "execution": {
     "iopub.execute_input": "2023-01-20T14:40:25.008933Z",
     "iopub.status.busy": "2023-01-20T14:40:25.008637Z",
     "iopub.status.idle": "2023-01-20T14:40:25.049501Z",
     "shell.execute_reply": "2023-01-20T14:40:25.048465Z"
    },
    "papermill": {
     "duration": 0.065287,
     "end_time": "2023-01-20T14:40:25.052678",
     "exception": false,
     "start_time": "2023-01-20T14:40:24.987391",
     "status": "completed"
    },
    "tags": []
   },
   "outputs": [
    {
     "name": "stdout",
     "output_type": "stream",
     "text": [
      "CPU times: user 100 µs, sys: 6 µs, total: 106 µs\n",
      "Wall time: 110 µs\n"
     ]
    }
   ],
   "source": [
    "%%time\n",
    "pipeline_w2v = pipeline.Pipeline(\n",
    "    [\n",
    "        (\n",
    "            \"keras_embed_transformer\",\n",
    "            p5_nlp_utils.KerasEmbedTransformer().init(description[\"Word2Vec\"]),\n",
    "        ),\n",
    "        (\n",
    "            \"Word2Vec\",\n",
    "            multiclass.OneVsRestClassifier(\n",
    "                svm.SVC(\n",
    "                    cache_size=1080,\n",
    "                    max_iter=description[\"Word2Vec\"][\"max_iter\"],\n",
    "                    random_state=42,\n",
    "                )\n",
    "            ),\n",
    "        ),\n",
    "    ]\n",
    ")\n",
    "\n",
    "if description[\"Word2Vec\"][\"actif\"]:\n",
    "    with ignore_warnings(category=exceptions.ConvergenceWarning):\n",
    "        pipeline_w2v.fit(X_train, y_train)\n",
    "#         pipeline_w2v.fit(X_train[0:10], y_train[0:10])"
   ]
  },
  {
   "cell_type": "code",
   "execution_count": 37,
   "id": "8086e9ba",
   "metadata": {
    "execution": {
     "iopub.execute_input": "2023-01-20T14:40:25.095289Z",
     "iopub.status.busy": "2023-01-20T14:40:25.094998Z",
     "iopub.status.idle": "2023-01-20T14:40:25.109740Z",
     "shell.execute_reply": "2023-01-20T14:40:25.108501Z"
    },
    "papermill": {
     "duration": 0.038764,
     "end_time": "2023-01-20T14:40:25.112565",
     "exception": false,
     "start_time": "2023-01-20T14:40:25.073801",
     "status": "completed"
    },
    "tags": []
   },
   "outputs": [
    {
     "name": "stdout",
     "output_type": "stream",
     "text": [
      "CPU times: user 4 µs, sys: 0 ns, total: 4 µs\n",
      "Wall time: 7.39 µs\n"
     ]
    }
   ],
   "source": [
    "%%time\n",
    "if description[\"Word2Vec\"][\"actif\"]:\n",
    "    pred_word2vec = pipeline_w2v.predict(X_test)\n",
    "    print(pred_word2vec)"
   ]
  },
  {
   "cell_type": "markdown",
   "id": "6e6a7198",
   "metadata": {
    "papermill": {
     "duration": 0.020511,
     "end_time": "2023-01-20T14:40:25.153761",
     "exception": false,
     "start_time": "2023-01-20T14:40:25.133250",
     "status": "completed"
    },
    "tags": []
   },
   "source": [
    "### i got the same issue as:\n",
    "https://stackoverflow.com/questions/37984304/how-to-save-a-scikit-learn-pipline-with-keras-regressor-inside-to-disk  \n",
    "Solution is to save keras model in separate file than remove it from the pipeline so it can be save with joblib  \n",
    "I did that in my `KerasEmbedTransformer` class `save` & `load` method"
   ]
  },
  {
   "cell_type": "code",
   "execution_count": 38,
   "id": "41a6b3ec",
   "metadata": {
    "execution": {
     "iopub.execute_input": "2023-01-20T14:40:25.196840Z",
     "iopub.status.busy": "2023-01-20T14:40:25.195959Z",
     "iopub.status.idle": "2023-01-20T14:40:25.215844Z",
     "shell.execute_reply": "2023-01-20T14:40:25.214978Z"
    },
    "papermill": {
     "duration": 0.043608,
     "end_time": "2023-01-20T14:40:25.217878",
     "exception": false,
     "start_time": "2023-01-20T14:40:25.174270",
     "status": "completed"
    },
    "tags": []
   },
   "outputs": [],
   "source": [
    "if description[\"Word2Vec\"][\"actif\"]:\n",
    "    pipeline_w2v.named_steps[\"keras_embed_transformer\"].save(\"keras\")\n",
    "    # Otherwise i can save it but not load in api\n",
    "    #     pipeline_w2v.named_steps[\"keras_embed_transformer\"] = \"passthrough\"  # __module__\n",
    "    #     pipeline_w2v.named_steps[\"keras_embed_transformer\"].__module__ = None\n",
    "    ## i have issue loading the joblib in api so i try to delete the step from the pipeline\n",
    "    pipeline_w2v.steps.pop(0)\n",
    "    pipeline_w2v.steps.insert(0, (\"keras_embed_transformer\", \"passthrough\"))\n",
    "    print(pipeline_w2v)"
   ]
  },
  {
   "cell_type": "code",
   "execution_count": 39,
   "id": "83bb305f",
   "metadata": {
    "execution": {
     "iopub.execute_input": "2023-01-20T14:40:25.260599Z",
     "iopub.status.busy": "2023-01-20T14:40:25.259862Z",
     "iopub.status.idle": "2023-01-20T14:40:25.278796Z",
     "shell.execute_reply": "2023-01-20T14:40:25.277960Z"
    },
    "papermill": {
     "duration": 0.042629,
     "end_time": "2023-01-20T14:40:25.280710",
     "exception": false,
     "start_time": "2023-01-20T14:40:25.238081",
     "status": "completed"
    },
    "tags": []
   },
   "outputs": [],
   "source": [
    "if description[\"Word2Vec\"][\"actif\"]:\n",
    "    scores_word2vec = p5_nlp_utils.Commun.save_score(\n",
    "        y_test, pred_word2vec, target_names, \"Word2Vec\"\n",
    "    )\n",
    "    joblib.dump(pipeline_w2v, \"Word2Vec_model.joblib\")\n",
    "    print(scores_word2vec.sort_values(by=\"f1-score\", ascending=False))"
   ]
  },
  {
   "cell_type": "markdown",
   "id": "93c6ee14",
   "metadata": {
    "papermill": {
     "duration": 0.020762,
     "end_time": "2023-01-20T14:40:25.322028",
     "exception": false,
     "start_time": "2023-01-20T14:40:25.301266",
     "status": "completed"
    },
    "tags": []
   },
   "source": [
    "### test to reimport saved model"
   ]
  },
  {
   "cell_type": "code",
   "execution_count": 40,
   "id": "d6881405",
   "metadata": {
    "execution": {
     "iopub.execute_input": "2023-01-20T14:40:25.365608Z",
     "iopub.status.busy": "2023-01-20T14:40:25.364704Z",
     "iopub.status.idle": "2023-01-20T14:40:25.385915Z",
     "shell.execute_reply": "2023-01-20T14:40:25.385007Z"
    },
    "papermill": {
     "duration": 0.044633,
     "end_time": "2023-01-20T14:40:25.387847",
     "exception": false,
     "start_time": "2023-01-20T14:40:25.343214",
     "status": "completed"
    },
    "tags": []
   },
   "outputs": [],
   "source": [
    "if description[\"Word2Vec\"][\"actif\"] and LONG:\n",
    "    loaded = joblib.load(\"/kaggle/working/Word2Vec_model.joblib\")\n",
    "    loaded.named_steps[\n",
    "        \"keras_embed_transformer\"\n",
    "    ] = p5_nlp_utils.KerasEmbedTransformer().load(\n",
    "        \"/kaggle/working/keras\", description[\"Word2Vec\"]\n",
    "    )\n",
    "    pred_word2vec == loaded.predict(X_test)"
   ]
  },
  {
   "cell_type": "markdown",
   "id": "c9ed599f",
   "metadata": {
    "papermill": {
     "duration": 0.020617,
     "end_time": "2023-01-20T14:40:25.428805",
     "exception": false,
     "start_time": "2023-01-20T14:40:25.408188",
     "status": "completed"
    },
    "tags": []
   },
   "source": [
    "# BERT"
   ]
  },
  {
   "cell_type": "code",
   "execution_count": 41,
   "id": "428bb5ab",
   "metadata": {
    "execution": {
     "iopub.execute_input": "2023-01-20T14:40:25.471349Z",
     "iopub.status.busy": "2023-01-20T14:40:25.470704Z",
     "iopub.status.idle": "2023-01-20T14:40:25.475695Z",
     "shell.execute_reply": "2023-01-20T14:40:25.474782Z"
    },
    "papermill": {
     "duration": 0.02822,
     "end_time": "2023-01-20T14:40:25.477823",
     "exception": false,
     "start_time": "2023-01-20T14:40:25.449603",
     "status": "completed"
    },
    "tags": []
   },
   "outputs": [],
   "source": [
    "## check gpu\n",
    "# import torch\n",
    "# torch.cuda.is_available()"
   ]
  },
  {
   "cell_type": "code",
   "execution_count": 42,
   "id": "11f57fad",
   "metadata": {
    "execution": {
     "iopub.execute_input": "2023-01-20T14:40:25.520185Z",
     "iopub.status.busy": "2023-01-20T14:40:25.519365Z",
     "iopub.status.idle": "2023-01-20T14:40:25.534661Z",
     "shell.execute_reply": "2023-01-20T14:40:25.532805Z"
    },
    "papermill": {
     "duration": 0.038623,
     "end_time": "2023-01-20T14:40:25.536662",
     "exception": false,
     "start_time": "2023-01-20T14:40:25.498039",
     "status": "completed"
    },
    "tags": []
   },
   "outputs": [
    {
     "name": "stdout",
     "output_type": "stream",
     "text": [
      "{'actif': True, 'max_length': 512, 'epochs': 5, 'raw_text': True}\n",
      "BertConfig {\n",
      "  \"attention_probs_dropout_prob\": 0.1,\n",
      "  \"classifier_dropout\": null,\n",
      "  \"hidden_act\": \"gelu\",\n",
      "  \"hidden_dropout_prob\": 0.1,\n",
      "  \"hidden_size\": 768,\n",
      "  \"initializer_range\": 0.02,\n",
      "  \"intermediate_size\": 3072,\n",
      "  \"layer_norm_eps\": 1e-12,\n",
      "  \"max_position_embeddings\": 512,\n",
      "  \"model_type\": \"bert\",\n",
      "  \"num_attention_heads\": 12,\n",
      "  \"num_hidden_layers\": 12,\n",
      "  \"pad_token_id\": 0,\n",
      "  \"position_embedding_type\": \"absolute\",\n",
      "  \"transformers_version\": \"4.20.1\",\n",
      "  \"type_vocab_size\": 2,\n",
      "  \"use_cache\": true,\n",
      "  \"vocab_size\": 30522\n",
      "}\n",
      "\n"
     ]
    }
   ],
   "source": [
    "if description[\"BERT\"][\"actif\"]:\n",
    "    print(description[\"BERT\"])\n",
    "    configuration = BertConfig()\n",
    "    print(configuration)"
   ]
  },
  {
   "cell_type": "code",
   "execution_count": 43,
   "id": "cb115742",
   "metadata": {
    "execution": {
     "iopub.execute_input": "2023-01-20T14:40:25.578965Z",
     "iopub.status.busy": "2023-01-20T14:40:25.578395Z",
     "iopub.status.idle": "2023-01-20T14:40:25.584505Z",
     "shell.execute_reply": "2023-01-20T14:40:25.583645Z"
    },
    "papermill": {
     "duration": 0.029001,
     "end_time": "2023-01-20T14:40:25.586456",
     "exception": false,
     "start_time": "2023-01-20T14:40:25.557455",
     "status": "completed"
    },
    "tags": []
   },
   "outputs": [],
   "source": [
    "# %%time\n",
    "# if description[\"BERT\"][\"actif\"]:\n",
    "#     tokenizer = p5_nlp_utils.Bert.get_tokenizer(\n",
    "#         model_max_length=description[\"BERT\"][\"max_length\"],\n",
    "#         save_path=\"bert_base_uncased/\",\n",
    "#     )"
   ]
  },
  {
   "cell_type": "code",
   "execution_count": 44,
   "id": "7c8ee67a",
   "metadata": {
    "execution": {
     "iopub.execute_input": "2023-01-20T14:40:25.628510Z",
     "iopub.status.busy": "2023-01-20T14:40:25.627777Z",
     "iopub.status.idle": "2023-01-20T14:42:30.198924Z",
     "shell.execute_reply": "2023-01-20T14:42:30.197873Z"
    },
    "papermill": {
     "duration": 124.616698,
     "end_time": "2023-01-20T14:42:30.223310",
     "exception": false,
     "start_time": "2023-01-20T14:40:25.606612",
     "status": "completed"
    },
    "tags": []
   },
   "outputs": [
    {
     "data": {
      "application/vnd.jupyter.widget-view+json": {
       "model_id": "2a55ec33c62243d5af42bda7bbe809e5",
       "version_major": 2,
       "version_minor": 0
      },
      "text/plain": [
       "Downloading:   0%|          | 0.00/226k [00:00<?, ?B/s]"
      ]
     },
     "metadata": {},
     "output_type": "display_data"
    },
    {
     "data": {
      "application/vnd.jupyter.widget-view+json": {
       "model_id": "a2af8082708b43589b380901cc6b4d3f",
       "version_major": 2,
       "version_minor": 0
      },
      "text/plain": [
       "Downloading:   0%|          | 0.00/28.0 [00:00<?, ?B/s]"
      ]
     },
     "metadata": {},
     "output_type": "display_data"
    },
    {
     "data": {
      "application/vnd.jupyter.widget-view+json": {
       "model_id": "8106b88154d347148ad2c292e7679512",
       "version_major": 2,
       "version_minor": 0
      },
      "text/plain": [
       "Downloading:   0%|          | 0.00/570 [00:00<?, ?B/s]"
      ]
     },
     "metadata": {},
     "output_type": "display_data"
    },
    {
     "name": "stdout",
     "output_type": "stream",
     "text": [
      "Shape input BERT tupple 3* (88831, 512)\n",
      "CPU times: user 2min 2s, sys: 1.69 s, total: 2min 3s\n",
      "Wall time: 2min 4s\n"
     ]
    }
   ],
   "source": [
    "%%time\n",
    "if description[\"BERT\"][\"actif\"]:\n",
    "    X_train_bert = p5_nlp_utils.Bert.create_bert_inputs(\n",
    "        X_train.values, max_len=description[\"BERT\"][\"max_length\"]\n",
    "    )\n",
    "    print(\"Shape input BERT tupple 3*\", X_train_bert[0].shape)"
   ]
  },
  {
   "cell_type": "code",
   "execution_count": 45,
   "id": "1cf930af",
   "metadata": {
    "execution": {
     "iopub.execute_input": "2023-01-20T14:42:30.278295Z",
     "iopub.status.busy": "2023-01-20T14:42:30.277755Z",
     "iopub.status.idle": "2023-01-20T14:42:39.226780Z",
     "shell.execute_reply": "2023-01-20T14:42:39.225616Z"
    },
    "papermill": {
     "duration": 8.984568,
     "end_time": "2023-01-20T14:42:39.229707",
     "exception": false,
     "start_time": "2023-01-20T14:42:30.245139",
     "status": "completed"
    },
    "tags": []
   },
   "outputs": [
    {
     "name": "stdout",
     "output_type": "stream",
     "text": [
      "Model: \"model\"\n",
      "__________________________________________________________________________________________________\n",
      "Layer (type)                    Output Shape         Param #     Connected to                     \n",
      "==================================================================================================\n",
      "input_word_ids (InputLayer)     [(None, 512)]        0                                            \n",
      "__________________________________________________________________________________________________\n",
      "input_mask (InputLayer)         [(None, 512)]        0                                            \n",
      "__________________________________________________________________________________________________\n",
      "input_type_ids (InputLayer)     [(None, 512)]        0                                            \n",
      "__________________________________________________________________________________________________\n",
      "keras_layer (KerasLayer)        [(None, 768), (None, 109482241   input_word_ids[0][0]             \n",
      "                                                                 input_mask[0][0]                 \n",
      "                                                                 input_type_ids[0][0]             \n",
      "__________________________________________________________________________________________________\n",
      "tf.__operators__.getitem (Slici (None, 768)          0           keras_layer[0][1]                \n",
      "__________________________________________________________________________________________________\n",
      "dense (Dense)                   (None, 64)           49216       tf.__operators__.getitem[0][0]   \n",
      "__________________________________________________________________________________________________\n",
      "dropout (Dropout)               (None, 64)           0           dense[0][0]                      \n",
      "__________________________________________________________________________________________________\n",
      "dense_1 (Dense)                 (None, 32)           2080        dropout[0][0]                    \n",
      "__________________________________________________________________________________________________\n",
      "dropout_1 (Dropout)             (None, 32)           0           dense_1[0][0]                    \n",
      "__________________________________________________________________________________________________\n",
      "dense_2 (Dense)                 (None, 21)           693         dropout_1[0][0]                  \n",
      "==================================================================================================\n",
      "Total params: 109,534,230\n",
      "Trainable params: 51,989\n",
      "Non-trainable params: 109,482,241\n",
      "__________________________________________________________________________________________________\n",
      "None\n",
      "CPU times: user 7.78 s, sys: 971 ms, total: 8.75 s\n",
      "Wall time: 8.93 s\n"
     ]
    }
   ],
   "source": [
    "%%time\n",
    "if description[\"BERT\"][\"actif\"]:\n",
    "    #     bert_model = p5_nlp_utils.Bert.create_bert_model(\n",
    "    #         params=description[\"BERT\"], target_names=target_names\n",
    "    #     )\n",
    "    bert_model = p5_nlp_utils.Bert.build_bert_model(\n",
    "        max_len=description[\"BERT\"][\"max_length\"], target_names=target_names\n",
    "    )\n",
    "    print(bert_model.summary())"
   ]
  },
  {
   "cell_type": "code",
   "execution_count": 46,
   "id": "d2f6f7d7",
   "metadata": {
    "execution": {
     "iopub.execute_input": "2023-01-20T14:42:39.274374Z",
     "iopub.status.busy": "2023-01-20T14:42:39.273481Z",
     "iopub.status.idle": "2023-01-20T17:24:25.169400Z",
     "shell.execute_reply": "2023-01-20T17:24:25.167315Z"
    },
    "papermill": {
     "duration": 9705.944761,
     "end_time": "2023-01-20T17:24:25.196134",
     "exception": false,
     "start_time": "2023-01-20T14:42:39.251373",
     "status": "completed"
    },
    "tags": []
   },
   "outputs": [
    {
     "name": "stderr",
     "output_type": "stream",
     "text": [
      "2023-01-20 14:42:41.942526: I tensorflow/compiler/mlir/mlir_graph_optimization_pass.cc:185] None of the MLIR Optimization Passes are enabled (registered 2)\n"
     ]
    },
    {
     "name": "stdout",
     "output_type": "stream",
     "text": [
      "Epoch 1/5\n",
      "Epoch 2/5\n",
      "Epoch 3/5\n",
      "Epoch 4/5\n",
      "Epoch 5/5\n",
      "CPU times: user 16min 4s, sys: 5min 36s, total: 21min 41s\n",
      "Wall time: 2h 41min 45s\n"
     ]
    }
   ],
   "source": [
    "%%time\n",
    "if description[\"BERT\"][\"actif\"]:\n",
    "    bert_model.fit(\n",
    "        #         np.array(\n",
    "        #             [create_bert_input_target(x, description[\"BERT\"]) for x in X_train.values]\n",
    "        #         ),\n",
    "        X_train_bert,\n",
    "        y_train,\n",
    "        epochs=description[\"BERT\"][\"epochs\"],\n",
    "        verbose=3,\n",
    "    )"
   ]
  },
  {
   "cell_type": "code",
   "execution_count": 47,
   "id": "bae4ed74",
   "metadata": {
    "execution": {
     "iopub.execute_input": "2023-01-20T17:24:25.248401Z",
     "iopub.status.busy": "2023-01-20T17:24:25.246460Z",
     "iopub.status.idle": "2023-01-20T17:36:16.170870Z",
     "shell.execute_reply": "2023-01-20T17:36:16.169820Z"
    },
    "papermill": {
     "duration": 710.952799,
     "end_time": "2023-01-20T17:36:16.173654",
     "exception": false,
     "start_time": "2023-01-20T17:24:25.220855",
     "status": "completed"
    },
    "tags": []
   },
   "outputs": [
    {
     "name": "stderr",
     "output_type": "stream",
     "text": [
      "2023-01-20 17:24:27.292032: W tensorflow/python/util/util.cc:348] Sets are not currently considered sequences, but this may change in the future, so consider avoiding using them.\n"
     ]
    },
    {
     "name": "stdout",
     "output_type": "stream",
     "text": [
      "[[0.12329216 0.11124474 0.11677467 ... 0.02643999 0.03017958 0.00971988]\n",
      " [0.12790711 0.09174725 0.1275344  ... 0.02754863 0.03243096 0.01304838]\n",
      " [0.16299959 0.10713433 0.08304149 ... 0.02490551 0.02298621 0.00981516]\n",
      " ...\n",
      " [0.13850646 0.14624056 0.10731524 ... 0.02318156 0.02156481 0.00808348]\n",
      " [0.13112077 0.08866206 0.11774814 ... 0.02801489 0.0292826  0.01200396]\n",
      " [0.14403668 0.09504502 0.11695129 ... 0.02625211 0.02791368 0.00965092]]\n",
      "Meilleur f1-score 20.84% pour limit 0.08\n"
     ]
    },
    {
     "data": {
      "image/png": "[encoded data removed]",
      "text/plain": [
       "<Figure size 2160x1080 with 1 Axes>"
      ]
     },
     "metadata": {
      "needs_background": "light"
     },
     "output_type": "display_data"
    },
    {
     "name": "stdout",
     "output_type": "stream",
     "text": [
      "              precision    recall  f1-score  support\n",
      "python         0.201900  0.634763  0.306356   2612.0\n",
      "c++            0.284123  0.311609  0.297232   1964.0\n",
      "android        0.188815  0.627384  0.290271   2045.0\n",
      "c#             0.131599  0.908724  0.229903   3473.0\n",
      "java           0.120323  0.999719  0.214795   3558.0\n",
      "javascript     0.118417  0.973480  0.211149   3356.0\n",
      "micro avg      0.138963  0.416233  0.208362  33044.0\n",
      "samples avg    0.141688  0.362376  0.194755  33044.0\n",
      "weighted avg   0.179563  0.416233  0.140512  33044.0\n",
      "ios            0.512195  0.079891  0.138223   1840.0\n",
      "macro avg      0.151939  0.218252  0.084679  33044.0\n",
      "jquery         0.292929  0.018856  0.035431   1538.0\n",
      "php            0.125874  0.011063  0.020339   1627.0\n",
      "html           0.276596  0.007407  0.014428   1755.0\n",
      "css            0.857143  0.005305  0.010545   1131.0\n",
      ".net           0.080808  0.005099  0.009592   1569.0\n",
      "node.js        0.000000  0.000000  0.000000    682.0\n",
      "git            0.000000  0.000000  0.000000    274.0\n",
      "asp.net        0.000000  0.000000  0.000000    805.0\n",
      "linux          0.000000  0.000000  0.000000    680.0\n",
      "mysql          0.000000  0.000000  0.000000    685.0\n",
      "iphone         0.000000  0.000000  0.000000    807.0\n",
      "sql            0.000000  0.000000  0.000000    870.0\n",
      "c              0.000000  0.000000  0.000000    885.0\n",
      "objective-c    0.000000  0.000000  0.000000    888.0\n",
      "CPU times: user 12min 49s, sys: 0 ns, total: 12min 49s\n",
      "Wall time: 11min 50s\n"
     ]
    }
   ],
   "source": [
    "%%time\n",
    "if description[\"BERT\"][\"actif\"]:\n",
    "    bert_model.save(\"BERT\")\n",
    "    #     pred_bert_proba = bert_model.predict(\n",
    "    #         np.array(\n",
    "    #             [create_bert_input_target(x, description[\"BERT\"]) for x in X_test.values]\n",
    "    #         )\n",
    "    #     )\n",
    "    pred_bert_proba = bert_model.predict(\n",
    "        p5_nlp_utils.Bert.create_bert_inputs(\n",
    "            X_test.values, max_len=description[\"BERT\"][\"max_length\"]\n",
    "        )\n",
    "    )\n",
    "    print(pred_bert_proba)\n",
    "    best, f1_score_avg = p5_nlp_utils.Commun.find_best_limit(\n",
    "        pred_bert_proba, y_test, target_names\n",
    "    )\n",
    "    pred_bert = p5_nlp_utils.Commun.convert_pred_to_bool(pred_bert_proba, limit=best)\n",
    "    #     print(pred_bert.value_counts())\n",
    "    scores_bert = p5_nlp_utils.Commun.save_score(\n",
    "        y_test,\n",
    "        pred_bert,\n",
    "        target_names,\n",
    "        \"BERT\",\n",
    "    )\n",
    "    print(scores_bert.sort_values(by=\"f1-score\", ascending=False))"
   ]
  },
  {
   "cell_type": "code",
   "execution_count": 48,
   "id": "6ab3a5b8",
   "metadata": {
    "execution": {
     "iopub.execute_input": "2023-01-20T17:36:16.288504Z",
     "iopub.status.busy": "2023-01-20T17:36:16.287852Z",
     "iopub.status.idle": "2023-01-20T17:36:16.305192Z",
     "shell.execute_reply": "2023-01-20T17:36:16.299130Z"
    },
    "papermill": {
     "duration": 0.085566,
     "end_time": "2023-01-20T17:36:16.312343",
     "exception": false,
     "start_time": "2023-01-20T17:36:16.226777",
     "status": "completed"
    },
    "tags": []
   },
   "outputs": [],
   "source": [
    "# # detect and init the TPU\n",
    "# tpu = tf.distribute.cluster_resolver.TPUClusterResolver.connect()\n",
    "\n",
    "# # instantiate a distribution strategy\n",
    "# tpu_strategy = tf.distribute.experimental.TPUStrategy(tpu)\n",
    "# with tpu_strategy.scope():\n",
    "# ..."
   ]
  },
  {
   "cell_type": "code",
   "execution_count": 49,
   "id": "647cce94",
   "metadata": {
    "execution": {
     "iopub.execute_input": "2023-01-20T17:36:16.539580Z",
     "iopub.status.busy": "2023-01-20T17:36:16.539136Z",
     "iopub.status.idle": "2023-01-20T17:36:16.545566Z",
     "shell.execute_reply": "2023-01-20T17:36:16.544003Z"
    },
    "papermill": {
     "duration": 0.093514,
     "end_time": "2023-01-20T17:36:16.553096",
     "exception": false,
     "start_time": "2023-01-20T17:36:16.459582",
     "status": "completed"
    },
    "tags": []
   },
   "outputs": [],
   "source": [
    "# %%time\n",
    "# model = BertTransformer(list(X_train[0:5]), params=description[\"BERT\"])\n",
    "# model"
   ]
  },
  {
   "cell_type": "code",
   "execution_count": 50,
   "id": "b204c768",
   "metadata": {
    "execution": {
     "iopub.execute_input": "2023-01-20T17:36:16.713451Z",
     "iopub.status.busy": "2023-01-20T17:36:16.713026Z",
     "iopub.status.idle": "2023-01-20T17:36:16.721548Z",
     "shell.execute_reply": "2023-01-20T17:36:16.720660Z"
    },
    "papermill": {
     "duration": 0.093024,
     "end_time": "2023-01-20T17:36:16.726552",
     "exception": false,
     "start_time": "2023-01-20T17:36:16.633528",
     "status": "completed"
    },
    "tags": []
   },
   "outputs": [],
   "source": [
    "# %%time\n",
    "# model = BertTransformer(list(X_train[0:50_000]), params=description[\"BERT\"])\n",
    "# # model = BertTransformer(list(X_train), params=description[\"BERT\"])\n",
    "# model\n",
    "# # model.mean(axis=1)"
   ]
  },
  {
   "cell_type": "markdown",
   "id": "fcf91f6c",
   "metadata": {
    "papermill": {
     "duration": 0.073958,
     "end_time": "2023-01-20T17:36:16.881002",
     "exception": false,
     "start_time": "2023-01-20T17:36:16.807044",
     "status": "completed"
    },
    "tags": []
   },
   "source": [
    "# USE"
   ]
  },
  {
   "cell_type": "code",
   "execution_count": 51,
   "id": "d4d3acdd",
   "metadata": {
    "execution": {
     "iopub.execute_input": "2023-01-20T17:36:17.041760Z",
     "iopub.status.busy": "2023-01-20T17:36:17.041268Z",
     "iopub.status.idle": "2023-01-20T17:36:17.077038Z",
     "shell.execute_reply": "2023-01-20T17:36:17.075695Z"
    },
    "papermill": {
     "duration": 0.121341,
     "end_time": "2023-01-20T17:36:17.079379",
     "exception": false,
     "start_time": "2023-01-20T17:36:16.958038",
     "status": "completed"
    },
    "tags": []
   },
   "outputs": [
    {
     "name": "stdout",
     "output_type": "stream",
     "text": [
      "CPU times: user 5 µs, sys: 0 ns, total: 5 µs\n",
      "Wall time: 10 µs\n"
     ]
    }
   ],
   "source": [
    "%%time\n",
    "if description[\"USE\"][\"actif\"]:\n",
    "    embed = hub.load(\"https://tfhub.dev/google/universal-sentence-encoder/4\")\n",
    "    X_train_use = embed(X_train.values)\n",
    "    print(X_train_use.numpy().shape)"
   ]
  },
  {
   "cell_type": "code",
   "execution_count": 52,
   "id": "f67abbc3",
   "metadata": {
    "execution": {
     "iopub.execute_input": "2023-01-20T17:36:17.131042Z",
     "iopub.status.busy": "2023-01-20T17:36:17.130634Z",
     "iopub.status.idle": "2023-01-20T17:36:17.179871Z",
     "shell.execute_reply": "2023-01-20T17:36:17.178610Z"
    },
    "papermill": {
     "duration": 0.077804,
     "end_time": "2023-01-20T17:36:17.182208",
     "exception": false,
     "start_time": "2023-01-20T17:36:17.104404",
     "status": "completed"
    },
    "tags": []
   },
   "outputs": [
    {
     "name": "stdout",
     "output_type": "stream",
     "text": [
      "CPU times: user 6 µs, sys: 0 ns, total: 6 µs\n",
      "Wall time: 9.3 µs\n"
     ]
    }
   ],
   "source": [
    "%%time\n",
    "if description[\"USE\"][\"actif\"]:\n",
    "    USEkerasPipeline = tf.keras.models.Sequential(\n",
    "        [\n",
    "            tf.keras.Input(shape=(512,)),  # tensor=X_train_use),\n",
    "            tf.keras.layers.Dense(128, activation=\"relu\"),\n",
    "            tf.keras.layers.Dense(len(target_names), activation=\"sigmoid\"),\n",
    "        ]\n",
    "    )\n",
    "    USEkerasPipeline.compile(\n",
    "        optimizer=\"adam\",\n",
    "        loss=tf.keras.losses.BinaryCrossentropy(),\n",
    "        metrics=[\"accuracy\"],\n",
    "    )\n",
    "    USEkerasPipeline.fit(\n",
    "        X_train_use.numpy(),\n",
    "        y_train,\n",
    "        epochs=description[\"USE\"][\"epochs\"],\n",
    "        verbose=2,\n",
    "    )"
   ]
  },
  {
   "cell_type": "code",
   "execution_count": 53,
   "id": "68aaead5",
   "metadata": {
    "execution": {
     "iopub.execute_input": "2023-01-20T17:36:17.232469Z",
     "iopub.status.busy": "2023-01-20T17:36:17.232072Z",
     "iopub.status.idle": "2023-01-20T17:36:17.277044Z",
     "shell.execute_reply": "2023-01-20T17:36:17.275739Z"
    },
    "papermill": {
     "duration": 0.072788,
     "end_time": "2023-01-20T17:36:17.279155",
     "exception": false,
     "start_time": "2023-01-20T17:36:17.206367",
     "status": "completed"
    },
    "tags": []
   },
   "outputs": [
    {
     "name": "stdout",
     "output_type": "stream",
     "text": [
      "CPU times: user 5 µs, sys: 0 ns, total: 5 µs\n",
      "Wall time: 9.06 µs\n"
     ]
    }
   ],
   "source": [
    "%%time\n",
    "if description[\"USE\"][\"actif\"]:\n",
    "    X_pred_test_use = USEkerasPipeline.predict(embed(X_test.values))\n",
    "    #     print(X_pred_test_use)\n",
    "    best, f1_score_avg = p5_nlp_utils.Commun.find_best_limit(\n",
    "        X_pred_test_use, y_test, target_names, limits=np.linspace(0, 1, 101)\n",
    "    )\n",
    "    pred_use_bool = p5_nlp_utils.Commun.convert_pred_to_bool(\n",
    "        X_pred_test_use, limit=best\n",
    "    )\n",
    "    use_pred_test_score = p5_nlp_utils.Commun.save_score(\n",
    "        y_true=y_test,\n",
    "        y_pred=pred_use_bool,\n",
    "        target_names=target_names,\n",
    "        name=None,\n",
    "    )\n",
    "    print(\"Sur le jeu test:\")\n",
    "    print(use_pred_test_score.sort_values(by=\"f1-score\", ascending=False))\n",
    "    USEkerasPipeline.save(\"kerasUSE\")"
   ]
  },
  {
   "cell_type": "markdown",
   "id": "a5c0e32e",
   "metadata": {
    "papermill": {
     "duration": 0.024297,
     "end_time": "2023-01-20T17:36:17.327501",
     "exception": false,
     "start_time": "2023-01-20T17:36:17.303204",
     "status": "completed"
    },
    "tags": []
   },
   "source": [
    "La limite optimal peut etre différente en fonction des tags:"
   ]
  },
  {
   "cell_type": "code",
   "execution_count": 54,
   "id": "bed1b9e3",
   "metadata": {
    "execution": {
     "iopub.execute_input": "2023-01-20T17:36:17.379308Z",
     "iopub.status.busy": "2023-01-20T17:36:17.378928Z",
     "iopub.status.idle": "2023-01-20T17:36:17.434334Z",
     "shell.execute_reply": "2023-01-20T17:36:17.432873Z"
    },
    "papermill": {
     "duration": 0.084351,
     "end_time": "2023-01-20T17:36:17.436798",
     "exception": false,
     "start_time": "2023-01-20T17:36:17.352447",
     "status": "completed"
    },
    "tags": []
   },
   "outputs": [
    {
     "name": "stdout",
     "output_type": "stream",
     "text": [
      "CPU times: user 6 µs, sys: 0 ns, total: 6 µs\n",
      "Wall time: 10.3 µs\n"
     ]
    }
   ],
   "source": [
    "%%time\n",
    "if description[\"USE\"][\"actif\"]:\n",
    "    best_limits_use = p5_nlp_utils.Commun.find_best_limit_by_tags(\n",
    "        X_pred_test_use, y_test, target_names, limits=np.linspace(0, 1, 101)\n",
    "    )\n",
    "#     print(best_limits_use)\n",
    "    with open(\"/kaggle/working/best_limits_use.json\", \"w\") as outfile:\n",
    "        json.dump(best_limits_use, outfile)\n",
    "        \n",
    "    pred_use_bool_2 = p5_nlp_utils.Commun.convert_pred_to_bool_by_tags(X_pred_test_use, {k: v[0] for k, v in best_limits_use.items()})\n",
    "    use_pred_test_score_2 = p5_nlp_utils.Commun.save_score(\n",
    "        y_true=y_test,\n",
    "        y_pred=pred_use_bool_2,\n",
    "        target_names=target_names,\n",
    "        name=\"kerasUSE\",\n",
    "    )\n",
    "    print(\"Sur le jeu test avec limit par tag:\")\n",
    "    print(use_pred_test_score_2.sort_values(by=\"f1-score\", ascending=False))"
   ]
  },
  {
   "cell_type": "code",
   "execution_count": 55,
   "id": "129a677f",
   "metadata": {
    "execution": {
     "iopub.execute_input": "2023-01-20T17:36:17.488879Z",
     "iopub.status.busy": "2023-01-20T17:36:17.487973Z",
     "iopub.status.idle": "2023-01-20T17:36:17.495645Z",
     "shell.execute_reply": "2023-01-20T17:36:17.494636Z"
    },
    "papermill": {
     "duration": 0.035134,
     "end_time": "2023-01-20T17:36:17.498100",
     "exception": false,
     "start_time": "2023-01-20T17:36:17.462966",
     "status": "completed"
    },
    "tags": []
   },
   "outputs": [],
   "source": [
    "# f1_scores = pd.DataFrame(\n",
    "#     [\n",
    "#         p5_nlp_utils.Commun.save_score(\n",
    "#             y_true=y_test,\n",
    "#             y_pred=p5_nlp_utils.Commun.convert_pred_to_bool(\n",
    "#                 X_pred_test_use, limit=limit\n",
    "#             ),\n",
    "#             target_names=target_names,\n",
    "#             name=None,\n",
    "#         ).loc[target_names, \"f1-score\"]\n",
    "#         for limit in np.linspace(0, 1, 101)\n",
    "#     ],\n",
    "#     index=np.linspace(0, 1, 101),\n",
    "# )"
   ]
  },
  {
   "cell_type": "code",
   "execution_count": 56,
   "id": "5dec1c70",
   "metadata": {
    "execution": {
     "iopub.execute_input": "2023-01-20T17:36:17.548182Z",
     "iopub.status.busy": "2023-01-20T17:36:17.547257Z",
     "iopub.status.idle": "2023-01-20T17:36:17.582633Z",
     "shell.execute_reply": "2023-01-20T17:36:17.581642Z"
    },
    "papermill": {
     "duration": 0.063913,
     "end_time": "2023-01-20T17:36:17.585104",
     "exception": false,
     "start_time": "2023-01-20T17:36:17.521191",
     "status": "completed"
    },
    "tags": []
   },
   "outputs": [],
   "source": [
    "if description[\"USE\"][\"actif\"] and description[\"USE\"][\"tsne_visu\"]:\n",
    "    use_pred_train = USEkerasPipeline.predict(X_train_use)\n",
    "    use_pred_train_bool = p5_nlp_utils.Commun.convert_pred_to_bool_by_tags(use_pred_train, {k: v[0] for k, v in best_limits_use.items()})\n",
    "    use_pred_train_score = p5_nlp_utils.Commun.save_score(\n",
    "        y_true=y_train, y_pred=use_pred_train_bool, target_names=target_names, name=None\n",
    "    )\n",
    "    print(\"Sur le jeu d'entrainement:\")\n",
    "    print(use_pred_train_score.sort_values(by=\"f1-score\", ascending=False))"
   ]
  },
  {
   "cell_type": "code",
   "execution_count": 57,
   "id": "5fc150f4",
   "metadata": {
    "execution": {
     "iopub.execute_input": "2023-01-20T17:36:17.697954Z",
     "iopub.status.busy": "2023-01-20T17:36:17.696868Z",
     "iopub.status.idle": "2023-01-20T17:36:17.757568Z",
     "shell.execute_reply": "2023-01-20T17:36:17.756158Z"
    },
    "papermill": {
     "duration": 0.089937,
     "end_time": "2023-01-20T17:36:17.759921",
     "exception": false,
     "start_time": "2023-01-20T17:36:17.669984",
     "status": "completed"
    },
    "tags": []
   },
   "outputs": [
    {
     "name": "stdout",
     "output_type": "stream",
     "text": [
      "CPU times: user 5 µs, sys: 0 ns, total: 5 µs\n",
      "Wall time: 8.82 µs\n"
     ]
    }
   ],
   "source": [
    "%%time\n",
    "if description[\"USE\"][\"actif\"] and description[\"USE\"][\"tsne_visu\"]:\n",
    "    X_train_use_tsne = p5_nlp_utils.Commun.calcul_tsne(X_train_use)\n",
    "    print(\"Tag Réél:\")\n",
    "    p5_nlp_utils.Commun.visu_tsne(\n",
    "        X_tsne=X_train_use_tsne,\n",
    "        y_train_monodim=y_train_monodim,\n",
    "        y_train=y_train,\n",
    "        target_names=target_names,\n",
    "        tag_list=[\n",
    "            \"java\",\n",
    "            \"c#\",\n",
    "            \"python\",\n",
    "            \"android\",\n",
    "            \"php\",\n",
    "            \".net\",\n",
    "            \"mysql\",\n",
    "            \"sql\",\n",
    "            \"javascript\",\n",
    "            \"jquery\",\n",
    "            \"html\",\n",
    "            \"node.js\",\n",
    "            \"css\",\n",
    "            \"c\",\n",
    "            \"mysql\",\n",
    "            \"linux\",\n",
    "            \"git\",\n",
    "        ],\n",
    "    )\n",
    "    print(\"Tag prédit:\")\n",
    "    p5_nlp_utils.Commun.visu_tsne(\n",
    "        X_tsne=X_train_use_tsne,\n",
    "        y_train_monodim=y_train_monodim,\n",
    "        y_train=use_pred_train_bool,\n",
    "        target_names=target_names,\n",
    "        tag_list=[\n",
    "            \"python\",\n",
    "            \"java\",\n",
    "            \"git\",\n",
    "            \"android\",\n",
    "            \"javascript\",\n",
    "            \"css\"\n",
    "        ],\n",
    "        maxcols=3,\n",
    "    )"
   ]
  },
  {
   "cell_type": "markdown",
   "id": "020f2f99",
   "metadata": {
    "papermill": {
     "duration": 0.024099,
     "end_time": "2023-01-20T17:36:17.809004",
     "exception": false,
     "start_time": "2023-01-20T17:36:17.784905",
     "status": "completed"
    },
    "tags": []
   },
   "source": [
    "# LDA "
   ]
  },
  {
   "cell_type": "code",
   "execution_count": 58,
   "id": "1ef18b37",
   "metadata": {
    "execution": {
     "iopub.execute_input": "2023-01-20T17:36:17.859331Z",
     "iopub.status.busy": "2023-01-20T17:36:17.858995Z",
     "iopub.status.idle": "2023-01-20T17:36:17.864278Z",
     "shell.execute_reply": "2023-01-20T17:36:17.863182Z"
    },
    "papermill": {
     "duration": 0.033217,
     "end_time": "2023-01-20T17:36:17.866458",
     "exception": false,
     "start_time": "2023-01-20T17:36:17.833241",
     "status": "completed"
    },
    "tags": []
   },
   "outputs": [],
   "source": [
    "# import importlib\n",
    "\n",
    "# importlib.reload(p5_nlp_utils)"
   ]
  },
  {
   "cell_type": "code",
   "execution_count": 59,
   "id": "332ba576",
   "metadata": {
    "execution": {
     "iopub.execute_input": "2023-01-20T17:36:17.917946Z",
     "iopub.status.busy": "2023-01-20T17:36:17.916160Z",
     "iopub.status.idle": "2023-01-20T17:36:17.922923Z",
     "shell.execute_reply": "2023-01-20T17:36:17.921955Z"
    },
    "papermill": {
     "duration": 0.034694,
     "end_time": "2023-01-20T17:36:17.925122",
     "exception": false,
     "start_time": "2023-01-20T17:36:17.890428",
     "status": "completed"
    },
    "tags": []
   },
   "outputs": [],
   "source": [
    "import warnings"
   ]
  },
  {
   "cell_type": "code",
   "execution_count": 60,
   "id": "f240b2b5",
   "metadata": {
    "execution": {
     "iopub.execute_input": "2023-01-20T17:36:17.975997Z",
     "iopub.status.busy": "2023-01-20T17:36:17.975019Z",
     "iopub.status.idle": "2023-01-20T17:36:18.034604Z",
     "shell.execute_reply": "2023-01-20T17:36:18.033373Z"
    },
    "papermill": {
     "duration": 0.088314,
     "end_time": "2023-01-20T17:36:18.037522",
     "exception": false,
     "start_time": "2023-01-20T17:36:17.949208",
     "status": "completed"
    },
    "tags": []
   },
   "outputs": [
    {
     "name": "stdout",
     "output_type": "stream",
     "text": [
      "CPU times: user 5 µs, sys: 0 ns, total: 5 µs\n",
      "Wall time: 8.58 µs\n"
     ]
    }
   ],
   "source": [
    "%%time\n",
    "lda_models = {}\n",
    "if description[\"LDA\"][\"actif\"]:\n",
    "    print(description[\"LDA\"])\n",
    "    X_train_tokens = X_train.str.split()\n",
    "    nb_num_topics = len(description[\"LDA\"][\"num_topics\"])\n",
    "    warnings.filterwarnings(\"ignore\", category=DeprecationWarning)\n",
    "    for indice, num_topics in enumerate(description[\"LDA\"][\"num_topics\"]):\n",
    "        print(f\"Début {num_topics}topics ({indice+1}/{nb_num_topics})\")\n",
    "        lda_model = p5_nlp_utils.LDA(\n",
    "            tokens=X_train_tokens,\n",
    "            num_topics=num_topics,\n",
    "            no_below=description[\"LDA\"][\"lda__no_below\"],\n",
    "            no_above=description[\"LDA\"][\"lda__no_above\"],\n",
    "            max_tokens=description[\"LDA\"][\"lda__max_tokens\"],\n",
    "            iterations=description[\"LDA\"][\"lda__iterations\"],\n",
    "        )\n",
    "        print(f\"Nommage des topis\")\n",
    "        lda_model.name_topics(target_names)\n",
    "        # print(lda_model.topics_names)\n",
    "        lda_model.word_cloud_by_topics(\n",
    "            nb_words=description[\"LDA\"][\"word_cloud__nb_words\"]\n",
    "        )\n",
    "        lda_models[indice] = lda_model.prepare_display()"
   ]
  },
  {
   "cell_type": "markdown",
   "id": "97a09dca",
   "metadata": {
    "papermill": {
     "duration": 0.023657,
     "end_time": "2023-01-20T17:36:18.086430",
     "exception": false,
     "start_time": "2023-01-20T17:36:18.062773",
     "status": "completed"
    },
    "tags": []
   },
   "source": [
    "### Affichage des topics avec pyLDAvis:"
   ]
  },
  {
   "cell_type": "code",
   "execution_count": 61,
   "id": "7abefb84",
   "metadata": {
    "execution": {
     "iopub.execute_input": "2023-01-20T17:36:18.137054Z",
     "iopub.status.busy": "2023-01-20T17:36:18.135331Z",
     "iopub.status.idle": "2023-01-20T17:36:18.148314Z",
     "shell.execute_reply": "2023-01-20T17:36:18.147398Z"
    },
    "papermill": {
     "duration": 0.040147,
     "end_time": "2023-01-20T17:36:18.150401",
     "exception": false,
     "start_time": "2023-01-20T17:36:18.110254",
     "status": "completed"
    },
    "tags": []
   },
   "outputs": [],
   "source": [
    "pyLDAvis.display(lda_models[0].display_data) if lda_models and lda_models.get(\n",
    "    0, False\n",
    ") else None"
   ]
  },
  {
   "cell_type": "code",
   "execution_count": 62,
   "id": "d275f5af",
   "metadata": {
    "execution": {
     "iopub.execute_input": "2023-01-20T17:36:18.200494Z",
     "iopub.status.busy": "2023-01-20T17:36:18.199579Z",
     "iopub.status.idle": "2023-01-20T17:36:18.211726Z",
     "shell.execute_reply": "2023-01-20T17:36:18.210780Z"
    },
    "papermill": {
     "duration": 0.03935,
     "end_time": "2023-01-20T17:36:18.213692",
     "exception": false,
     "start_time": "2023-01-20T17:36:18.174342",
     "status": "completed"
    },
    "tags": []
   },
   "outputs": [],
   "source": [
    "pyLDAvis.display(lda_models[1].display_data) if lda_models and lda_models.get(\n",
    "    1, False\n",
    ") else None"
   ]
  },
  {
   "cell_type": "code",
   "execution_count": 63,
   "id": "34c2fe56",
   "metadata": {
    "execution": {
     "iopub.execute_input": "2023-01-20T17:36:18.262918Z",
     "iopub.status.busy": "2023-01-20T17:36:18.262097Z",
     "iopub.status.idle": "2023-01-20T17:36:18.274494Z",
     "shell.execute_reply": "2023-01-20T17:36:18.273566Z"
    },
    "papermill": {
     "duration": 0.039288,
     "end_time": "2023-01-20T17:36:18.276662",
     "exception": false,
     "start_time": "2023-01-20T17:36:18.237374",
     "status": "completed"
    },
    "tags": []
   },
   "outputs": [],
   "source": [
    "pyLDAvis.display(lda_models[2].display_data) if lda_models and lda_models.get(\n",
    "    2, False\n",
    ") else None"
   ]
  },
  {
   "cell_type": "code",
   "execution_count": 64,
   "id": "c8eede6f",
   "metadata": {
    "execution": {
     "iopub.execute_input": "2023-01-20T17:36:18.327103Z",
     "iopub.status.busy": "2023-01-20T17:36:18.325968Z",
     "iopub.status.idle": "2023-01-20T17:36:18.332590Z",
     "shell.execute_reply": "2023-01-20T17:36:18.331636Z"
    },
    "papermill": {
     "duration": 0.034186,
     "end_time": "2023-01-20T17:36:18.334748",
     "exception": false,
     "start_time": "2023-01-20T17:36:18.300562",
     "status": "completed"
    },
    "tags": []
   },
   "outputs": [],
   "source": [
    "# pyLDAvis.prepared_data_to_html(lda_models[0].display_data)"
   ]
  },
  {
   "cell_type": "code",
   "execution_count": 65,
   "id": "febea5dd",
   "metadata": {
    "execution": {
     "iopub.execute_input": "2023-01-20T17:36:18.388071Z",
     "iopub.status.busy": "2023-01-20T17:36:18.386037Z",
     "iopub.status.idle": "2023-01-20T17:36:18.417123Z",
     "shell.execute_reply": "2023-01-20T17:36:18.415781Z"
    },
    "papermill": {
     "duration": 0.059246,
     "end_time": "2023-01-20T17:36:18.419227",
     "exception": false,
     "start_time": "2023-01-20T17:36:18.359981",
     "status": "completed"
    },
    "tags": []
   },
   "outputs": [
    {
     "name": "stdout",
     "output_type": "stream",
     "text": [
      "CPU times: user 5 µs, sys: 0 ns, total: 5 µs\n",
      "Wall time: 8.82 µs\n"
     ]
    }
   ],
   "source": [
    "%%time\n",
    "if description[\"LDA\"][\"actif\"]:\n",
    "    lda_model = lda_models[list(lda_models.keys())[-1]]  # last\n",
    "    pred_lda = lda_model.predict(X_test.str.split())\n",
    "    print(\"Exemple prediction\", pred_lda[0])\n",
    "    pred_lda_bool = p5_nlp_utils.LDA.convert_pred(pred_lda, target_names)\n",
    "    print(pred_lda_bool.head(1))"
   ]
  },
  {
   "cell_type": "code",
   "execution_count": 66,
   "id": "7c59dc94",
   "metadata": {
    "execution": {
     "iopub.execute_input": "2023-01-20T17:36:18.468972Z",
     "iopub.status.busy": "2023-01-20T17:36:18.468085Z",
     "iopub.status.idle": "2023-01-20T17:36:18.496099Z",
     "shell.execute_reply": "2023-01-20T17:36:18.494784Z"
    },
    "papermill": {
     "duration": 0.055127,
     "end_time": "2023-01-20T17:36:18.498477",
     "exception": false,
     "start_time": "2023-01-20T17:36:18.443350",
     "status": "completed"
    },
    "tags": []
   },
   "outputs": [
    {
     "name": "stdout",
     "output_type": "stream",
     "text": [
      "CPU times: user 5 µs, sys: 0 ns, total: 5 µs\n",
      "Wall time: 8.11 µs\n"
     ]
    }
   ],
   "source": [
    "%%time\n",
    "if description[\"LDA\"][\"actif\"]:\n",
    "    lda_pred_test_score = p5_nlp_utils.Commun.save_score(\n",
    "        y_true=y_test,\n",
    "        y_pred=pred_lda_bool,\n",
    "        target_names=target_names,\n",
    "        name=\"LDA\",\n",
    "    )\n",
    "    print(\"Sur le jeu test:\")\n",
    "    print(lda_pred_test_score.sort_values(by=\"f1-score\", ascending=False))\n",
    "    lda_model.model.save(\"LDA\")"
   ]
  },
  {
   "cell_type": "code",
   "execution_count": 67,
   "id": "32633fb5",
   "metadata": {
    "execution": {
     "iopub.execute_input": "2023-01-20T17:36:18.549570Z",
     "iopub.status.busy": "2023-01-20T17:36:18.548685Z",
     "iopub.status.idle": "2023-01-20T17:36:18.554544Z",
     "shell.execute_reply": "2023-01-20T17:36:18.553372Z"
    },
    "papermill": {
     "duration": 0.034776,
     "end_time": "2023-01-20T17:36:18.557766",
     "exception": false,
     "start_time": "2023-01-20T17:36:18.522990",
     "status": "completed"
    },
    "tags": []
   },
   "outputs": [],
   "source": [
    "# X_test.values[0]"
   ]
  },
  {
   "cell_type": "code",
   "execution_count": 68,
   "id": "c41bd454",
   "metadata": {
    "execution": {
     "iopub.execute_input": "2023-01-20T17:36:18.607531Z",
     "iopub.status.busy": "2023-01-20T17:36:18.606558Z",
     "iopub.status.idle": "2023-01-20T17:36:18.612576Z",
     "shell.execute_reply": "2023-01-20T17:36:18.611534Z"
    },
    "papermill": {
     "duration": 0.033426,
     "end_time": "2023-01-20T17:36:18.615005",
     "exception": false,
     "start_time": "2023-01-20T17:36:18.581579",
     "status": "completed"
    },
    "tags": []
   },
   "outputs": [],
   "source": [
    "# pred_lda[0]"
   ]
  },
  {
   "cell_type": "code",
   "execution_count": 69,
   "id": "545ea784",
   "metadata": {
    "execution": {
     "iopub.execute_input": "2023-01-20T17:36:18.667337Z",
     "iopub.status.busy": "2023-01-20T17:36:18.666988Z",
     "iopub.status.idle": "2023-01-20T17:36:18.673367Z",
     "shell.execute_reply": "2023-01-20T17:36:18.672368Z"
    },
    "papermill": {
     "duration": 0.035169,
     "end_time": "2023-01-20T17:36:18.675647",
     "exception": false,
     "start_time": "2023-01-20T17:36:18.640478",
     "status": "completed"
    },
    "tags": []
   },
   "outputs": [],
   "source": [
    "# y_test.iloc[0]"
   ]
  },
  {
   "cell_type": "code",
   "execution_count": 70,
   "id": "79051648",
   "metadata": {
    "execution": {
     "iopub.execute_input": "2023-01-20T17:36:18.726202Z",
     "iopub.status.busy": "2023-01-20T17:36:18.725176Z",
     "iopub.status.idle": "2023-01-20T17:36:18.754908Z",
     "shell.execute_reply": "2023-01-20T17:36:18.753965Z"
    },
    "papermill": {
     "duration": 0.057095,
     "end_time": "2023-01-20T17:36:18.757192",
     "exception": false,
     "start_time": "2023-01-20T17:36:18.700097",
     "status": "completed"
    },
    "tags": []
   },
   "outputs": [],
   "source": [
    "def compare_topic_tags(\n",
    "    pred_topic, y_true, tags=[\"java\", \"python\", \"javascript\", \"git\"]\n",
    "):\n",
    "    \"\"\"Pour chacun des tags, regarde les topics attribué quand ce tag est présent\"\"\"\n",
    "    df_pred = pd.DataFrame(pred_topic)\n",
    "    for tag in tags:\n",
    "        print(f\"***{colors.BOLD}{tag}{colors.ENDC}*** sur {sum(y_true[tag])} positif\")\n",
    "        display(\n",
    "            df_pred[y_true[tag].values]\n",
    "            .describe()\n",
    "            .sort_values(by=\"count\", ascending=False, axis=\"columns\")\n",
    "        )\n",
    "        print(\"\\n\")"
   ]
  },
  {
   "cell_type": "code",
   "execution_count": 71,
   "id": "0a820133",
   "metadata": {
    "execution": {
     "iopub.execute_input": "2023-01-20T17:36:18.806891Z",
     "iopub.status.busy": "2023-01-20T17:36:18.806108Z",
     "iopub.status.idle": "2023-01-20T17:36:18.816382Z",
     "shell.execute_reply": "2023-01-20T17:36:18.815354Z"
    },
    "papermill": {
     "duration": 0.036871,
     "end_time": "2023-01-20T17:36:18.818504",
     "exception": false,
     "start_time": "2023-01-20T17:36:18.781633",
     "status": "completed"
    },
    "tags": []
   },
   "outputs": [],
   "source": [
    "if description[\"LDA\"][\"actif\"]:\n",
    "    compare_topic_tags(pred_lda, y_test)"
   ]
  }
 ],
 "metadata": {
  "kernelspec": {
   "display_name": "Python 3",
   "language": "python",
   "name": "python3"
  },
  "language_info": {
   "codemirror_mode": {
    "name": "ipython",
    "version": 3
   },
   "file_extension": ".py",
   "mimetype": "text/x-python",
   "name": "python",
   "nbconvert_exporter": "python",
   "pygments_lexer": "ipython3",
   "version": "3.7.12"
  },
  "papermill": {
   "default_parameters": {},
   "duration": 10654.468769,
   "end_time": "2023-01-20T17:36:21.781807",
   "environment_variables": {},
   "exception": null,
   "input_path": "__notebook__.ipynb",
   "output_path": "__notebook__.ipynb",
   "parameters": {},
   "start_time": "2023-01-20T14:38:47.313038",
   "version": "2.3.4"
  },
  "widgets": {
   "application/vnd.jupyter.widget-state+json": {
    "state": {
     "036bb43e278c492db1bed52b95a25f61": {
      "model_module": "@jupyter-widgets/base",
      "model_module_version": "1.2.0",
      "model_name": "LayoutModel",
      "state": {
       "_model_module": "@jupyter-widgets/base",
       "_model_module_version": "1.2.0",
       "_model_name": "LayoutModel",
       "_view_count": null,
       "_view_module": "@jupyter-widgets/base",
       "_view_module_version": "1.2.0",
       "_view_name": "LayoutView",
       "align_content": null,
       "align_items": null,
       "align_self": null,
       "border": null,
       "bottom": null,
       "display": null,
       "flex": null,
       "flex_flow": null,
       "grid_area": null,
       "grid_auto_columns": null,
       "grid_auto_flow": null,
       "grid_auto_rows": null,
       "grid_column": null,
       "grid_gap": null,
       "grid_row": null,
       "grid_template_areas": null,
       "grid_template_columns": null,
       "grid_template_rows": null,
       "height": null,
       "justify_content": null,
       "justify_items": null,
       "left": null,
       "margin": null,
       "max_height": null,
       "max_width": null,
       "min_height": null,
       "min_width": null,
       "object_fit": null,
       "object_position": null,
       "order": null,
       "overflow": null,
       "overflow_x": null,
       "overflow_y": null,
       "padding": null,
       "right": null,
       "top": null,
       "visibility": null,
       "width": null
      }
     },
     "0555afc3e2ec40ce952ca80a3d26814c": {
      "model_module": "@jupyter-widgets/controls",
      "model_module_version": "1.5.0",
      "model_name": "DescriptionStyleModel",
      "state": {
       "_model_module": "@jupyter-widgets/controls",
       "_model_module_version": "1.5.0",
       "_model_name": "DescriptionStyleModel",
       "_view_count": null,
       "_view_module": "@jupyter-widgets/base",
       "_view_module_version": "1.2.0",
       "_view_name": "StyleView",
       "description_width": ""
      }
     },
     "058bf484855c429581871d2325b3a264": {
      "model_module": "@jupyter-widgets/base",
      "model_module_version": "1.2.0",
      "model_name": "LayoutModel",
      "state": {
       "_model_module": "@jupyter-widgets/base",
       "_model_module_version": "1.2.0",
       "_model_name": "LayoutModel",
       "_view_count": null,
       "_view_module": "@jupyter-widgets/base",
       "_view_module_version": "1.2.0",
       "_view_name": "LayoutView",
       "align_content": null,
       "align_items": null,
       "align_self": null,
       "border": null,
       "bottom": null,
       "display": null,
       "flex": null,
       "flex_flow": null,
       "grid_area": null,
       "grid_auto_columns": null,
       "grid_auto_flow": null,
       "grid_auto_rows": null,
       "grid_column": null,
       "grid_gap": null,
       "grid_row": null,
       "grid_template_areas": null,
       "grid_template_columns": null,
       "grid_template_rows": null,
       "height": null,
       "justify_content": null,
       "justify_items": null,
       "left": null,
       "margin": null,
       "max_height": null,
       "max_width": null,
       "min_height": null,
       "min_width": null,
       "object_fit": null,
       "object_position": null,
       "order": null,
       "overflow": null,
       "overflow_x": null,
       "overflow_y": null,
       "padding": null,
       "right": null,
       "top": null,
       "visibility": null,
       "width": null
      }
     },
     "0a89029033a34a54a444a3c39b9d64cb": {
      "model_module": "@jupyter-widgets/base",
      "model_module_version": "1.2.0",
      "model_name": "LayoutModel",
      "state": {
       "_model_module": "@jupyter-widgets/base",
       "_model_module_version": "1.2.0",
       "_model_name": "LayoutModel",
       "_view_count": null,
       "_view_module": "@jupyter-widgets/base",
       "_view_module_version": "1.2.0",
       "_view_name": "LayoutView",
       "align_content": null,
       "align_items": null,
       "align_self": null,
       "border": null,
       "bottom": null,
       "display": null,
       "flex": null,
       "flex_flow": null,
       "grid_area": null,
       "grid_auto_columns": null,
       "grid_auto_flow": null,
       "grid_auto_rows": null,
       "grid_column": null,
       "grid_gap": null,
       "grid_row": null,
       "grid_template_areas": null,
       "grid_template_columns": null,
       "grid_template_rows": null,
       "height": null,
       "justify_content": null,
       "justify_items": null,
       "left": null,
       "margin": null,
       "max_height": null,
       "max_width": null,
       "min_height": null,
       "min_width": null,
       "object_fit": null,
       "object_position": null,
       "order": null,
       "overflow": null,
       "overflow_x": null,
       "overflow_y": null,
       "padding": null,
       "right": null,
       "top": null,
       "visibility": null,
       "width": null
      }
     },
     "117512b73ba745e3b272de892d5f3d1c": {
      "model_module": "@jupyter-widgets/controls",
      "model_module_version": "1.5.0",
      "model_name": "DescriptionStyleModel",
      "state": {
       "_model_module": "@jupyter-widgets/controls",
       "_model_module_version": "1.5.0",
       "_model_name": "DescriptionStyleModel",
       "_view_count": null,
       "_view_module": "@jupyter-widgets/base",
       "_view_module_version": "1.2.0",
       "_view_name": "StyleView",
       "description_width": ""
      }
     },
     "2a55ec33c62243d5af42bda7bbe809e5": {
      "model_module": "@jupyter-widgets/controls",
      "model_module_version": "1.5.0",
      "model_name": "HBoxModel",
      "state": {
       "_dom_classes": [],
       "_model_module": "@jupyter-widgets/controls",
       "_model_module_version": "1.5.0",
       "_model_name": "HBoxModel",
       "_view_count": null,
       "_view_module": "@jupyter-widgets/controls",
       "_view_module_version": "1.5.0",
       "_view_name": "HBoxView",
       "box_style": "",
       "children": [
        "IPY_MODEL_e87551790c6e4e3c820e86c3e54e872d",
        "IPY_MODEL_92d61b85190e464193fb6e815f45cf4c",
        "IPY_MODEL_bb9e62c4ff324d86bc5189a2c6babb5b"
       ],
       "layout": "IPY_MODEL_5fce6e95e33b4aa2bbb7388ed053c5bb"
      }
     },
     "2e57fdd21e49449c94f81e580db28af0": {
      "model_module": "@jupyter-widgets/controls",
      "model_module_version": "1.5.0",
      "model_name": "ProgressStyleModel",
      "state": {
       "_model_module": "@jupyter-widgets/controls",
       "_model_module_version": "1.5.0",
       "_model_name": "ProgressStyleModel",
       "_view_count": null,
       "_view_module": "@jupyter-widgets/base",
       "_view_module_version": "1.2.0",
       "_view_name": "StyleView",
       "bar_color": null,
       "description_width": ""
      }
     },
     "34e0a15fed364377a20dbfb8c284b9db": {
      "model_module": "@jupyter-widgets/base",
      "model_module_version": "1.2.0",
      "model_name": "LayoutModel",
      "state": {
       "_model_module": "@jupyter-widgets/base",
       "_model_module_version": "1.2.0",
       "_model_name": "LayoutModel",
       "_view_count": null,
       "_view_module": "@jupyter-widgets/base",
       "_view_module_version": "1.2.0",
       "_view_name": "LayoutView",
       "align_content": null,
       "align_items": null,
       "align_self": null,
       "border": null,
       "bottom": null,
       "display": null,
       "flex": null,
       "flex_flow": null,
       "grid_area": null,
       "grid_auto_columns": null,
       "grid_auto_flow": null,
       "grid_auto_rows": null,
       "grid_column": null,
       "grid_gap": null,
       "grid_row": null,
       "grid_template_areas": null,
       "grid_template_columns": null,
       "grid_template_rows": null,
       "height": null,
       "justify_content": null,
       "justify_items": null,
       "left": null,
       "margin": null,
       "max_height": null,
       "max_width": null,
       "min_height": null,
       "min_width": null,
       "object_fit": null,
       "object_position": null,
       "order": null,
       "overflow": null,
       "overflow_x": null,
       "overflow_y": null,
       "padding": null,
       "right": null,
       "top": null,
       "visibility": null,
       "width": null
      }
     },
     "3960e650c25f4d79826c9fce50955eff": {
      "model_module": "@jupyter-widgets/base",
      "model_module_version": "1.2.0",
      "model_name": "LayoutModel",
      "state": {
       "_model_module": "@jupyter-widgets/base",
       "_model_module_version": "1.2.0",
       "_model_name": "LayoutModel",
       "_view_count": null,
       "_view_module": "@jupyter-widgets/base",
       "_view_module_version": "1.2.0",
       "_view_name": "LayoutView",
       "align_content": null,
       "align_items": null,
       "align_self": null,
       "border": null,
       "bottom": null,
       "display": null,
       "flex": null,
       "flex_flow": null,
       "grid_area": null,
       "grid_auto_columns": null,
       "grid_auto_flow": null,
       "grid_auto_rows": null,
       "grid_column": null,
       "grid_gap": null,
       "grid_row": null,
       "grid_template_areas": null,
       "grid_template_columns": null,
       "grid_template_rows": null,
       "height": null,
       "justify_content": null,
       "justify_items": null,
       "left": null,
       "margin": null,
       "max_height": null,
       "max_width": null,
       "min_height": null,
       "min_width": null,
       "object_fit": null,
       "object_position": null,
       "order": null,
       "overflow": null,
       "overflow_x": null,
       "overflow_y": null,
       "padding": null,
       "right": null,
       "top": null,
       "visibility": null,
       "width": null
      }
     },
     "3db4c908fe2843c4b52e4b27b141f127": {
      "model_module": "@jupyter-widgets/base",
      "model_module_version": "1.2.0",
      "model_name": "LayoutModel",
      "state": {
       "_model_module": "@jupyter-widgets/base",
       "_model_module_version": "1.2.0",
       "_model_name": "LayoutModel",
       "_view_count": null,
       "_view_module": "@jupyter-widgets/base",
       "_view_module_version": "1.2.0",
       "_view_name": "LayoutView",
       "align_content": null,
       "align_items": null,
       "align_self": null,
       "border": null,
       "bottom": null,
       "display": null,
       "flex": null,
       "flex_flow": null,
       "grid_area": null,
       "grid_auto_columns": null,
       "grid_auto_flow": null,
       "grid_auto_rows": null,
       "grid_column": null,
       "grid_gap": null,
       "grid_row": null,
       "grid_template_areas": null,
       "grid_template_columns": null,
       "grid_template_rows": null,
       "height": null,
       "justify_content": null,
       "justify_items": null,
       "left": null,
       "margin": null,
       "max_height": null,
       "max_width": null,
       "min_height": null,
       "min_width": null,
       "object_fit": null,
       "object_position": null,
       "order": null,
       "overflow": null,
       "overflow_x": null,
       "overflow_y": null,
       "padding": null,
       "right": null,
       "top": null,
       "visibility": null,
       "width": null
      }
     },
     "3ead95177c9f4887a967731c027cbed9": {
      "model_module": "@jupyter-widgets/controls",
      "model_module_version": "1.5.0",
      "model_name": "SliderStyleModel",
      "state": {
       "_model_module": "@jupyter-widgets/controls",
       "_model_module_version": "1.5.0",
       "_model_name": "SliderStyleModel",
       "_view_count": null,
       "_view_module": "@jupyter-widgets/base",
       "_view_module_version": "1.2.0",
       "_view_name": "StyleView",
       "description_width": "",
       "handle_color": null
      }
     },
     "5735b66ab9d64c5d8e92669665416b16": {
      "model_module": "@jupyter-widgets/controls",
      "model_module_version": "1.5.0",
      "model_name": "ProgressStyleModel",
      "state": {
       "_model_module": "@jupyter-widgets/controls",
       "_model_module_version": "1.5.0",
       "_model_name": "ProgressStyleModel",
       "_view_count": null,
       "_view_module": "@jupyter-widgets/base",
       "_view_module_version": "1.2.0",
       "_view_name": "StyleView",
       "bar_color": null,
       "description_width": ""
      }
     },
     "5fce6e95e33b4aa2bbb7388ed053c5bb": {
      "model_module": "@jupyter-widgets/base",
      "model_module_version": "1.2.0",
      "model_name": "LayoutModel",
      "state": {
       "_model_module": "@jupyter-widgets/base",
       "_model_module_version": "1.2.0",
       "_model_name": "LayoutModel",
       "_view_count": null,
       "_view_module": "@jupyter-widgets/base",
       "_view_module_version": "1.2.0",
       "_view_name": "LayoutView",
       "align_content": null,
       "align_items": null,
       "align_self": null,
       "border": null,
       "bottom": null,
       "display": null,
       "flex": null,
       "flex_flow": null,
       "grid_area": null,
       "grid_auto_columns": null,
       "grid_auto_flow": null,
       "grid_auto_rows": null,
       "grid_column": null,
       "grid_gap": null,
       "grid_row": null,
       "grid_template_areas": null,
       "grid_template_columns": null,
       "grid_template_rows": null,
       "height": null,
       "justify_content": null,
       "justify_items": null,
       "left": null,
       "margin": null,
       "max_height": null,
       "max_width": null,
       "min_height": null,
       "min_width": null,
       "object_fit": null,
       "object_position": null,
       "order": null,
       "overflow": null,
       "overflow_x": null,
       "overflow_y": null,
       "padding": null,
       "right": null,
       "top": null,
       "visibility": null,
       "width": null
      }
     },
     "6f012f409ed14de59b0da72d34f6212f": {
      "model_module": "@jupyter-widgets/controls",
      "model_module_version": "1.5.0",
      "model_name": "FloatProgressModel",
      "state": {
       "_dom_classes": [],
       "_model_module": "@jupyter-widgets/controls",
       "_model_module_version": "1.5.0",
       "_model_name": "FloatProgressModel",
       "_view_count": null,
       "_view_module": "@jupyter-widgets/controls",
       "_view_module_version": "1.5.0",
       "_view_name": "ProgressView",
       "bar_style": "success",
       "description": "",
       "description_tooltip": null,
       "layout": "IPY_MODEL_7a6d52b96c224786bfe7250f67750e01",
       "max": 570.0,
       "min": 0.0,
       "orientation": "horizontal",
       "style": "IPY_MODEL_cd466de637f94632ace1da93b078b19b",
       "value": 570.0
      }
     },
     "6fa539051dd648e5b2dd693eb769597c": {
      "model_module": "@jupyter-widgets/base",
      "model_module_version": "1.2.0",
      "model_name": "LayoutModel",
      "state": {
       "_model_module": "@jupyter-widgets/base",
       "_model_module_version": "1.2.0",
       "_model_name": "LayoutModel",
       "_view_count": null,
       "_view_module": "@jupyter-widgets/base",
       "_view_module_version": "1.2.0",
       "_view_name": "LayoutView",
       "align_content": null,
       "align_items": null,
       "align_self": null,
       "border": null,
       "bottom": null,
       "display": null,
       "flex": null,
       "flex_flow": null,
       "grid_area": null,
       "grid_auto_columns": null,
       "grid_auto_flow": null,
       "grid_auto_rows": null,
       "grid_column": null,
       "grid_gap": null,
       "grid_row": null,
       "grid_template_areas": null,
       "grid_template_columns": null,
       "grid_template_rows": null,
       "height": null,
       "justify_content": null,
       "justify_items": null,
       "left": null,
       "margin": null,
       "max_height": null,
       "max_width": null,
       "min_height": null,
       "min_width": null,
       "object_fit": null,
       "object_position": null,
       "order": null,
       "overflow": null,
       "overflow_x": null,
       "overflow_y": null,
       "padding": null,
       "right": null,
       "top": null,
       "visibility": null,
       "width": null
      }
     },
     "755b8bf8c0404a83a4d2719df385fc1c": {
      "model_module": "@jupyter-widgets/controls",
      "model_module_version": "1.5.0",
      "model_name": "HTMLModel",
      "state": {
       "_dom_classes": [],
       "_model_module": "@jupyter-widgets/controls",
       "_model_module_version": "1.5.0",
       "_model_name": "HTMLModel",
       "_view_count": null,
       "_view_module": "@jupyter-widgets/controls",
       "_view_module_version": "1.5.0",
       "_view_name": "HTMLView",
       "description": "",
       "description_tooltip": null,
       "layout": "IPY_MODEL_036bb43e278c492db1bed52b95a25f61",
       "placeholder": "​",
       "style": "IPY_MODEL_ec9c85216bb140758d07a4d2b8f10c84",
       "value": "Downloading: 100%"
      }
     },
     "7a6d52b96c224786bfe7250f67750e01": {
      "model_module": "@jupyter-widgets/base",
      "model_module_version": "1.2.0",
      "model_name": "LayoutModel",
      "state": {
       "_model_module": "@jupyter-widgets/base",
       "_model_module_version": "1.2.0",
       "_model_name": "LayoutModel",
       "_view_count": null,
       "_view_module": "@jupyter-widgets/base",
       "_view_module_version": "1.2.0",
       "_view_name": "LayoutView",
       "align_content": null,
       "align_items": null,
       "align_self": null,
       "border": null,
       "bottom": null,
       "display": null,
       "flex": null,
       "flex_flow": null,
       "grid_area": null,
       "grid_auto_columns": null,
       "grid_auto_flow": null,
       "grid_auto_rows": null,
       "grid_column": null,
       "grid_gap": null,
       "grid_row": null,
       "grid_template_areas": null,
       "grid_template_columns": null,
       "grid_template_rows": null,
       "height": null,
       "justify_content": null,
       "justify_items": null,
       "left": null,
       "margin": null,
       "max_height": null,
       "max_width": null,
       "min_height": null,
       "min_width": null,
       "object_fit": null,
       "object_position": null,
       "order": null,
       "overflow": null,
       "overflow_x": null,
       "overflow_y": null,
       "padding": null,
       "right": null,
       "top": null,
       "visibility": null,
       "width": null
      }
     },
     "7a7628644e7a43838868189a7ad1e4f2": {
      "model_module": "@jupyter-widgets/base",
      "model_module_version": "1.2.0",
      "model_name": "LayoutModel",
      "state": {
       "_model_module": "@jupyter-widgets/base",
       "_model_module_version": "1.2.0",
       "_model_name": "LayoutModel",
       "_view_count": null,
       "_view_module": "@jupyter-widgets/base",
       "_view_module_version": "1.2.0",
       "_view_name": "LayoutView",
       "align_content": null,
       "align_items": null,
       "align_self": null,
       "border": null,
       "bottom": null,
       "display": null,
       "flex": null,
       "flex_flow": null,
       "grid_area": null,
       "grid_auto_columns": null,
       "grid_auto_flow": null,
       "grid_auto_rows": null,
       "grid_column": null,
       "grid_gap": null,
       "grid_row": null,
       "grid_template_areas": null,
       "grid_template_columns": null,
       "grid_template_rows": null,
       "height": null,
       "justify_content": null,
       "justify_items": null,
       "left": null,
       "margin": null,
       "max_height": null,
       "max_width": null,
       "min_height": null,
       "min_width": null,
       "object_fit": null,
       "object_position": null,
       "order": null,
       "overflow": null,
       "overflow_x": null,
       "overflow_y": null,
       "padding": null,
       "right": null,
       "top": null,
       "visibility": null,
       "width": null
      }
     },
     "7ab6ff42875141759dc04f1ca1fc2f2e": {
      "model_module": "@jupyter-widgets/base",
      "model_module_version": "1.2.0",
      "model_name": "LayoutModel",
      "state": {
       "_model_module": "@jupyter-widgets/base",
       "_model_module_version": "1.2.0",
       "_model_name": "LayoutModel",
       "_view_count": null,
       "_view_module": "@jupyter-widgets/base",
       "_view_module_version": "1.2.0",
       "_view_name": "LayoutView",
       "align_content": null,
       "align_items": null,
       "align_self": null,
       "border": null,
       "bottom": null,
       "display": null,
       "flex": null,
       "flex_flow": null,
       "grid_area": null,
       "grid_auto_columns": null,
       "grid_auto_flow": null,
       "grid_auto_rows": null,
       "grid_column": null,
       "grid_gap": null,
       "grid_row": null,
       "grid_template_areas": null,
       "grid_template_columns": null,
       "grid_template_rows": null,
       "height": null,
       "justify_content": null,
       "justify_items": null,
       "left": null,
       "margin": null,
       "max_height": null,
       "max_width": null,
       "min_height": null,
       "min_width": null,
       "object_fit": null,
       "object_position": null,
       "order": null,
       "overflow": null,
       "overflow_x": null,
       "overflow_y": null,
       "padding": null,
       "right": null,
       "top": null,
       "visibility": null,
       "width": null
      }
     },
     "8106b88154d347148ad2c292e7679512": {
      "model_module": "@jupyter-widgets/controls",
      "model_module_version": "1.5.0",
      "model_name": "HBoxModel",
      "state": {
       "_dom_classes": [],
       "_model_module": "@jupyter-widgets/controls",
       "_model_module_version": "1.5.0",
       "_model_name": "HBoxModel",
       "_view_count": null,
       "_view_module": "@jupyter-widgets/controls",
       "_view_module_version": "1.5.0",
       "_view_name": "HBoxView",
       "box_style": "",
       "children": [
        "IPY_MODEL_755b8bf8c0404a83a4d2719df385fc1c",
        "IPY_MODEL_6f012f409ed14de59b0da72d34f6212f",
        "IPY_MODEL_f89aeb8094a541eb9474e55ad5f21655"
       ],
       "layout": "IPY_MODEL_c2716f7a6db74bb3827e253452585114"
      }
     },
     "825c1d56cf884c8d9efeb8adf2a5835f": {
      "model_module": "@jupyter-widgets/controls",
      "model_module_version": "1.5.0",
      "model_name": "FloatProgressModel",
      "state": {
       "_dom_classes": [],
       "_model_module": "@jupyter-widgets/controls",
       "_model_module_version": "1.5.0",
       "_model_name": "FloatProgressModel",
       "_view_count": null,
       "_view_module": "@jupyter-widgets/controls",
       "_view_module_version": "1.5.0",
       "_view_name": "ProgressView",
       "bar_style": "success",
       "description": "",
       "description_tooltip": null,
       "layout": "IPY_MODEL_058bf484855c429581871d2325b3a264",
       "max": 28.0,
       "min": 0.0,
       "orientation": "horizontal",
       "style": "IPY_MODEL_2e57fdd21e49449c94f81e580db28af0",
       "value": 28.0
      }
     },
     "8c69429b49c848fbb0b8d0b4184d3895": {
      "model_module": "@jupyter-widgets/base",
      "model_module_version": "1.2.0",
      "model_name": "LayoutModel",
      "state": {
       "_model_module": "@jupyter-widgets/base",
       "_model_module_version": "1.2.0",
       "_model_name": "LayoutModel",
       "_view_count": null,
       "_view_module": "@jupyter-widgets/base",
       "_view_module_version": "1.2.0",
       "_view_name": "LayoutView",
       "align_content": null,
       "align_items": null,
       "align_self": null,
       "border": null,
       "bottom": null,
       "display": null,
       "flex": null,
       "flex_flow": null,
       "grid_area": null,
       "grid_auto_columns": null,
       "grid_auto_flow": null,
       "grid_auto_rows": null,
       "grid_column": null,
       "grid_gap": null,
       "grid_row": null,
       "grid_template_areas": null,
       "grid_template_columns": null,
       "grid_template_rows": null,
       "height": null,
       "justify_content": null,
       "justify_items": null,
       "left": null,
       "margin": null,
       "max_height": null,
       "max_width": null,
       "min_height": null,
       "min_width": null,
       "object_fit": null,
       "object_position": null,
       "order": null,
       "overflow": null,
       "overflow_x": null,
       "overflow_y": null,
       "padding": null,
       "right": null,
       "top": null,
       "visibility": null,
       "width": null
      }
     },
     "92d61b85190e464193fb6e815f45cf4c": {
      "model_module": "@jupyter-widgets/controls",
      "model_module_version": "1.5.0",
      "model_name": "FloatProgressModel",
      "state": {
       "_dom_classes": [],
       "_model_module": "@jupyter-widgets/controls",
       "_model_module_version": "1.5.0",
       "_model_name": "FloatProgressModel",
       "_view_count": null,
       "_view_module": "@jupyter-widgets/controls",
       "_view_module_version": "1.5.0",
       "_view_name": "ProgressView",
       "bar_style": "success",
       "description": "",
       "description_tooltip": null,
       "layout": "IPY_MODEL_d0cfd122db534ad8a067bf862c705096",
       "max": 231508.0,
       "min": 0.0,
       "orientation": "horizontal",
       "style": "IPY_MODEL_5735b66ab9d64c5d8e92669665416b16",
       "value": 231508.0
      }
     },
     "a2af8082708b43589b380901cc6b4d3f": {
      "model_module": "@jupyter-widgets/controls",
      "model_module_version": "1.5.0",
      "model_name": "HBoxModel",
      "state": {
       "_dom_classes": [],
       "_model_module": "@jupyter-widgets/controls",
       "_model_module_version": "1.5.0",
       "_model_name": "HBoxModel",
       "_view_count": null,
       "_view_module": "@jupyter-widgets/controls",
       "_view_module_version": "1.5.0",
       "_view_name": "HBoxView",
       "box_style": "",
       "children": [
        "IPY_MODEL_ddbfb5bbb501462d8c1f5e4cc3024a1b",
        "IPY_MODEL_825c1d56cf884c8d9efeb8adf2a5835f",
        "IPY_MODEL_ab28606e6a3e4badbd250dc875cd9ed5"
       ],
       "layout": "IPY_MODEL_6fa539051dd648e5b2dd693eb769597c"
      }
     },
     "ab28606e6a3e4badbd250dc875cd9ed5": {
      "model_module": "@jupyter-widgets/controls",
      "model_module_version": "1.5.0",
      "model_name": "HTMLModel",
      "state": {
       "_dom_classes": [],
       "_model_module": "@jupyter-widgets/controls",
       "_model_module_version": "1.5.0",
       "_model_name": "HTMLModel",
       "_view_count": null,
       "_view_module": "@jupyter-widgets/controls",
       "_view_module_version": "1.5.0",
       "_view_name": "HTMLView",
       "description": "",
       "description_tooltip": null,
       "layout": "IPY_MODEL_3960e650c25f4d79826c9fce50955eff",
       "placeholder": "​",
       "style": "IPY_MODEL_0555afc3e2ec40ce952ca80a3d26814c",
       "value": " 28.0/28.0 [00:00&lt;00:00, 1.06kB/s]"
      }
     },
     "af898b1fbe484e6aa9fbb66211bc4416": {
      "model_module": "@jupyter-widgets/output",
      "model_module_version": "1.0.0",
      "model_name": "OutputModel",
      "state": {
       "_dom_classes": [],
       "_model_module": "@jupyter-widgets/output",
       "_model_module_version": "1.0.0",
       "_model_name": "OutputModel",
       "_view_count": null,
       "_view_module": "@jupyter-widgets/output",
       "_view_module_version": "1.0.0",
       "_view_name": "OutputView",
       "layout": "IPY_MODEL_8c69429b49c848fbb0b8d0b4184d3895",
       "msg_id": "",
       "outputs": [
        {
         "name": "stdout",
         "output_type": "stream",
         "text": "Title:How to change culture to a DateTimepicker or calendar control in .Net\n******************************\nTitle_clean:change culture datetimepicker calendar control\n******************************\nBody:<p>How to set internationalization to a <code>DateTimepicker</code> or <code>Calendar WinForm</code> control in .Net when the desire culture is different to the one installed in the PC?</p>\n\n******************************\nBody_clean:set internationalization datetimepicker calendar winform control .net desire culture instal pc\n******************************\nCode:DateTimepicker Calendar WinForm\n******************************\nTags:c# .net internationalization datetimepicker culture\n"
        }
       ]
      }
     },
     "b48195f165884cde98916479b802a9a7": {
      "model_module": "@jupyter-widgets/controls",
      "model_module_version": "1.5.0",
      "model_name": "VBoxModel",
      "state": {
       "_dom_classes": [
        "widget-interact"
       ],
       "_model_module": "@jupyter-widgets/controls",
       "_model_module_version": "1.5.0",
       "_model_name": "VBoxModel",
       "_view_count": null,
       "_view_module": "@jupyter-widgets/controls",
       "_view_module_version": "1.5.0",
       "_view_name": "VBoxView",
       "box_style": "",
       "children": [
        "IPY_MODEL_f225e67815f24700b29e826423429cb8",
        "IPY_MODEL_af898b1fbe484e6aa9fbb66211bc4416"
       ],
       "layout": "IPY_MODEL_3db4c908fe2843c4b52e4b27b141f127"
      }
     },
     "bb9e62c4ff324d86bc5189a2c6babb5b": {
      "model_module": "@jupyter-widgets/controls",
      "model_module_version": "1.5.0",
      "model_name": "HTMLModel",
      "state": {
       "_dom_classes": [],
       "_model_module": "@jupyter-widgets/controls",
       "_model_module_version": "1.5.0",
       "_model_name": "HTMLModel",
       "_view_count": null,
       "_view_module": "@jupyter-widgets/controls",
       "_view_module_version": "1.5.0",
       "_view_name": "HTMLView",
       "description": "",
       "description_tooltip": null,
       "layout": "IPY_MODEL_34e0a15fed364377a20dbfb8c284b9db",
       "placeholder": "​",
       "style": "IPY_MODEL_fc94abbb13b54d55bf95768f04347303",
       "value": " 226k/226k [00:00&lt;00:00, 2.80MB/s]"
      }
     },
     "c2716f7a6db74bb3827e253452585114": {
      "model_module": "@jupyter-widgets/base",
      "model_module_version": "1.2.0",
      "model_name": "LayoutModel",
      "state": {
       "_model_module": "@jupyter-widgets/base",
       "_model_module_version": "1.2.0",
       "_model_name": "LayoutModel",
       "_view_count": null,
       "_view_module": "@jupyter-widgets/base",
       "_view_module_version": "1.2.0",
       "_view_name": "LayoutView",
       "align_content": null,
       "align_items": null,
       "align_self": null,
       "border": null,
       "bottom": null,
       "display": null,
       "flex": null,
       "flex_flow": null,
       "grid_area": null,
       "grid_auto_columns": null,
       "grid_auto_flow": null,
       "grid_auto_rows": null,
       "grid_column": null,
       "grid_gap": null,
       "grid_row": null,
       "grid_template_areas": null,
       "grid_template_columns": null,
       "grid_template_rows": null,
       "height": null,
       "justify_content": null,
       "justify_items": null,
       "left": null,
       "margin": null,
       "max_height": null,
       "max_width": null,
       "min_height": null,
       "min_width": null,
       "object_fit": null,
       "object_position": null,
       "order": null,
       "overflow": null,
       "overflow_x": null,
       "overflow_y": null,
       "padding": null,
       "right": null,
       "top": null,
       "visibility": null,
       "width": null
      }
     },
     "ca23d097ed76438ab0f05b93d7e42905": {
      "model_module": "@jupyter-widgets/controls",
      "model_module_version": "1.5.0",
      "model_name": "DescriptionStyleModel",
      "state": {
       "_model_module": "@jupyter-widgets/controls",
       "_model_module_version": "1.5.0",
       "_model_name": "DescriptionStyleModel",
       "_view_count": null,
       "_view_module": "@jupyter-widgets/base",
       "_view_module_version": "1.2.0",
       "_view_name": "StyleView",
       "description_width": ""
      }
     },
     "cd466de637f94632ace1da93b078b19b": {
      "model_module": "@jupyter-widgets/controls",
      "model_module_version": "1.5.0",
      "model_name": "ProgressStyleModel",
      "state": {
       "_model_module": "@jupyter-widgets/controls",
       "_model_module_version": "1.5.0",
       "_model_name": "ProgressStyleModel",
       "_view_count": null,
       "_view_module": "@jupyter-widgets/base",
       "_view_module_version": "1.2.0",
       "_view_name": "StyleView",
       "bar_color": null,
       "description_width": ""
      }
     },
     "d0cfd122db534ad8a067bf862c705096": {
      "model_module": "@jupyter-widgets/base",
      "model_module_version": "1.2.0",
      "model_name": "LayoutModel",
      "state": {
       "_model_module": "@jupyter-widgets/base",
       "_model_module_version": "1.2.0",
       "_model_name": "LayoutModel",
       "_view_count": null,
       "_view_module": "@jupyter-widgets/base",
       "_view_module_version": "1.2.0",
       "_view_name": "LayoutView",
       "align_content": null,
       "align_items": null,
       "align_self": null,
       "border": null,
       "bottom": null,
       "display": null,
       "flex": null,
       "flex_flow": null,
       "grid_area": null,
       "grid_auto_columns": null,
       "grid_auto_flow": null,
       "grid_auto_rows": null,
       "grid_column": null,
       "grid_gap": null,
       "grid_row": null,
       "grid_template_areas": null,
       "grid_template_columns": null,
       "grid_template_rows": null,
       "height": null,
       "justify_content": null,
       "justify_items": null,
       "left": null,
       "margin": null,
       "max_height": null,
       "max_width": null,
       "min_height": null,
       "min_width": null,
       "object_fit": null,
       "object_position": null,
       "order": null,
       "overflow": null,
       "overflow_x": null,
       "overflow_y": null,
       "padding": null,
       "right": null,
       "top": null,
       "visibility": null,
       "width": null
      }
     },
     "d9c5345ccd7148d2a97ad8d5658110da": {
      "model_module": "@jupyter-widgets/controls",
      "model_module_version": "1.5.0",
      "model_name": "DescriptionStyleModel",
      "state": {
       "_model_module": "@jupyter-widgets/controls",
       "_model_module_version": "1.5.0",
       "_model_name": "DescriptionStyleModel",
       "_view_count": null,
       "_view_module": "@jupyter-widgets/base",
       "_view_module_version": "1.2.0",
       "_view_name": "StyleView",
       "description_width": ""
      }
     },
     "ddbfb5bbb501462d8c1f5e4cc3024a1b": {
      "model_module": "@jupyter-widgets/controls",
      "model_module_version": "1.5.0",
      "model_name": "HTMLModel",
      "state": {
       "_dom_classes": [],
       "_model_module": "@jupyter-widgets/controls",
       "_model_module_version": "1.5.0",
       "_model_name": "HTMLModel",
       "_view_count": null,
       "_view_module": "@jupyter-widgets/controls",
       "_view_module_version": "1.5.0",
       "_view_name": "HTMLView",
       "description": "",
       "description_tooltip": null,
       "layout": "IPY_MODEL_e39f0af54a4b4d24beec1ecb46edb424",
       "placeholder": "​",
       "style": "IPY_MODEL_117512b73ba745e3b272de892d5f3d1c",
       "value": "Downloading: 100%"
      }
     },
     "e39f0af54a4b4d24beec1ecb46edb424": {
      "model_module": "@jupyter-widgets/base",
      "model_module_version": "1.2.0",
      "model_name": "LayoutModel",
      "state": {
       "_model_module": "@jupyter-widgets/base",
       "_model_module_version": "1.2.0",
       "_model_name": "LayoutModel",
       "_view_count": null,
       "_view_module": "@jupyter-widgets/base",
       "_view_module_version": "1.2.0",
       "_view_name": "LayoutView",
       "align_content": null,
       "align_items": null,
       "align_self": null,
       "border": null,
       "bottom": null,
       "display": null,
       "flex": null,
       "flex_flow": null,
       "grid_area": null,
       "grid_auto_columns": null,
       "grid_auto_flow": null,
       "grid_auto_rows": null,
       "grid_column": null,
       "grid_gap": null,
       "grid_row": null,
       "grid_template_areas": null,
       "grid_template_columns": null,
       "grid_template_rows": null,
       "height": null,
       "justify_content": null,
       "justify_items": null,
       "left": null,
       "margin": null,
       "max_height": null,
       "max_width": null,
       "min_height": null,
       "min_width": null,
       "object_fit": null,
       "object_position": null,
       "order": null,
       "overflow": null,
       "overflow_x": null,
       "overflow_y": null,
       "padding": null,
       "right": null,
       "top": null,
       "visibility": null,
       "width": null
      }
     },
     "e87551790c6e4e3c820e86c3e54e872d": {
      "model_module": "@jupyter-widgets/controls",
      "model_module_version": "1.5.0",
      "model_name": "HTMLModel",
      "state": {
       "_dom_classes": [],
       "_model_module": "@jupyter-widgets/controls",
       "_model_module_version": "1.5.0",
       "_model_name": "HTMLModel",
       "_view_count": null,
       "_view_module": "@jupyter-widgets/controls",
       "_view_module_version": "1.5.0",
       "_view_name": "HTMLView",
       "description": "",
       "description_tooltip": null,
       "layout": "IPY_MODEL_7a7628644e7a43838868189a7ad1e4f2",
       "placeholder": "​",
       "style": "IPY_MODEL_d9c5345ccd7148d2a97ad8d5658110da",
       "value": "Downloading: 100%"
      }
     },
     "ec9c85216bb140758d07a4d2b8f10c84": {
      "model_module": "@jupyter-widgets/controls",
      "model_module_version": "1.5.0",
      "model_name": "DescriptionStyleModel",
      "state": {
       "_model_module": "@jupyter-widgets/controls",
       "_model_module_version": "1.5.0",
       "_model_name": "DescriptionStyleModel",
       "_view_count": null,
       "_view_module": "@jupyter-widgets/base",
       "_view_module_version": "1.2.0",
       "_view_name": "StyleView",
       "description_width": ""
      }
     },
     "f225e67815f24700b29e826423429cb8": {
      "model_module": "@jupyter-widgets/controls",
      "model_module_version": "1.5.0",
      "model_name": "IntSliderModel",
      "state": {
       "_dom_classes": [],
       "_model_module": "@jupyter-widgets/controls",
       "_model_module_version": "1.5.0",
       "_model_name": "IntSliderModel",
       "_view_count": null,
       "_view_module": "@jupyter-widgets/controls",
       "_view_module_version": "1.5.0",
       "_view_name": "IntSliderView",
       "continuous_update": true,
       "description": "i",
       "description_tooltip": null,
       "disabled": false,
       "layout": "IPY_MODEL_0a89029033a34a54a444a3c39b9d64cb",
       "max": 118441,
       "min": 0,
       "orientation": "horizontal",
       "readout": true,
       "readout_format": "d",
       "step": 1,
       "style": "IPY_MODEL_3ead95177c9f4887a967731c027cbed9",
       "value": 59220
      }
     },
     "f89aeb8094a541eb9474e55ad5f21655": {
      "model_module": "@jupyter-widgets/controls",
      "model_module_version": "1.5.0",
      "model_name": "HTMLModel",
      "state": {
       "_dom_classes": [],
       "_model_module": "@jupyter-widgets/controls",
       "_model_module_version": "1.5.0",
       "_model_name": "HTMLModel",
       "_view_count": null,
       "_view_module": "@jupyter-widgets/controls",
       "_view_module_version": "1.5.0",
       "_view_name": "HTMLView",
       "description": "",
       "description_tooltip": null,
       "layout": "IPY_MODEL_7ab6ff42875141759dc04f1ca1fc2f2e",
       "placeholder": "​",
       "style": "IPY_MODEL_ca23d097ed76438ab0f05b93d7e42905",
       "value": " 570/570 [00:00&lt;00:00, 21.8kB/s]"
      }
     },
     "fc94abbb13b54d55bf95768f04347303": {
      "model_module": "@jupyter-widgets/controls",
      "model_module_version": "1.5.0",
      "model_name": "DescriptionStyleModel",
      "state": {
       "_model_module": "@jupyter-widgets/controls",
       "_model_module_version": "1.5.0",
       "_model_name": "DescriptionStyleModel",
       "_view_count": null,
       "_view_module": "@jupyter-widgets/base",
       "_view_module_version": "1.2.0",
       "_view_name": "StyleView",
       "description_width": ""
      }
     }
    },
    "version_major": 2,
    "version_minor": 0
   }
  }
 },
 "nbformat": 4,
 "nbformat_minor": 5
}
