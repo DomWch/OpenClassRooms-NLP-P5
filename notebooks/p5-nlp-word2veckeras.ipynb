{
 "cells": [
  {
   "cell_type": "markdown",
   "id": "cca55dbb",
   "metadata": {
    "papermill": {
     "duration": 0.019834,
     "end_time": "2023-01-29T23:25:02.201621",
     "exception": false,
     "start_time": "2023-01-29T23:25:02.181787",
     "status": "completed"
    },
    "tags": []
   },
   "source": [
    "# Index\n",
    "* [Import](#index)\n",
    "* [Tokenization](#Tokenization)\n",
    "* [CountVectorizer](#CountVectorizer)\n",
    "* [PreprocessPipeline](#PreprocessPipeline)\n",
    "* [OvsRest](#OvsRest)\n",
    "    - [LogisticRegression](#LogisticRegression)\n",
    "    - [SVC](#SVC)\n",
    "* [Word2Vec](#Word2Vec)\n",
    "* [BERT](#BERT)\n",
    "* [USE](#USE)\n",
    "* [LDA](#LDA)"
   ]
  },
  {
   "cell_type": "code",
   "execution_count": 1,
   "id": "66c5c1e1",
   "metadata": {
    "_cell_guid": "b1076dfc-b9ad-4769-8c92-a6c4dae69d19",
    "_uuid": "8f2839f25d086af736a60e9eeb907d3b93b6e0e5",
    "execution": {
     "iopub.execute_input": "2023-01-29T23:25:02.236040Z",
     "iopub.status.busy": "2023-01-29T23:25:02.235207Z",
     "iopub.status.idle": "2023-01-29T23:25:15.128904Z",
     "shell.execute_reply": "2023-01-29T23:25:15.127948Z"
    },
    "papermill": {
     "duration": 12.914342,
     "end_time": "2023-01-29T23:25:15.131916",
     "exception": false,
     "start_time": "2023-01-29T23:25:02.217574",
     "status": "completed"
    },
    "tags": []
   },
   "outputs": [
    {
     "name": "stderr",
     "output_type": "stream",
     "text": [
      "/opt/conda/lib/python3.7/site-packages/past/types/oldstr.py:36: DeprecationWarning: invalid escape sequence \\d\n",
      "  \"\"\"\n",
      "/opt/conda/lib/python3.7/site-packages/past/builtins/misc.py:45: DeprecationWarning: the imp module is deprecated in favour of importlib; see the module's documentation for alternative uses\n",
      "  from imp import reload\n",
      "/opt/conda/lib/python3.7/site-packages/tensorflow/python/framework/dtypes.py:585: DeprecationWarning: `np.object` is a deprecated alias for the builtin `object`. To silence this warning, use `object` by itself. Doing this will not modify any behavior and is safe. \n",
      "Deprecated in NumPy 1.20; for more details and guidance: https://numpy.org/devdocs/release/1.20.0-notes.html#deprecations\n",
      "  np.object,\n",
      "/opt/conda/lib/python3.7/site-packages/tensorflow/python/framework/dtypes.py:627: DeprecationWarning: `np.object` is a deprecated alias for the builtin `object`. To silence this warning, use `object` by itself. Doing this will not modify any behavior and is safe. \n",
      "Deprecated in NumPy 1.20; for more details and guidance: https://numpy.org/devdocs/release/1.20.0-notes.html#deprecations\n",
      "  np.object,\n",
      "/opt/conda/lib/python3.7/site-packages/tensorflow/python/framework/dtypes.py:637: DeprecationWarning: `np.bool` is a deprecated alias for the builtin `bool`. To silence this warning, use `bool` by itself. Doing this will not modify any behavior and is safe. If you specifically wanted the numpy scalar type, use `np.bool_` here.\n",
      "Deprecated in NumPy 1.20; for more details and guidance: https://numpy.org/devdocs/release/1.20.0-notes.html#deprecations\n",
      "  np.bool,\n",
      "/opt/conda/lib/python3.7/site-packages/tensorflow/python/framework/tensor_util.py:108: DeprecationWarning: `np.object` is a deprecated alias for the builtin `object`. To silence this warning, use `object` by itself. Doing this will not modify any behavior and is safe. \n",
      "Deprecated in NumPy 1.20; for more details and guidance: https://numpy.org/devdocs/release/1.20.0-notes.html#deprecations\n",
      "  np.object:\n",
      "/opt/conda/lib/python3.7/site-packages/tensorflow/python/framework/tensor_util.py:110: DeprecationWarning: `np.bool` is a deprecated alias for the builtin `bool`. To silence this warning, use `bool` by itself. Doing this will not modify any behavior and is safe. If you specifically wanted the numpy scalar type, use `np.bool_` here.\n",
      "Deprecated in NumPy 1.20; for more details and guidance: https://numpy.org/devdocs/release/1.20.0-notes.html#deprecations\n",
      "  np.bool:\n",
      "/opt/conda/lib/python3.7/site-packages/tensorflow/python/ops/numpy_ops/np_random.py:110: DeprecationWarning: `np.int` is a deprecated alias for the builtin `int`. To silence this warning, use `int` by itself. Doing this will not modify any behavior and is safe. When replacing `np.int`, you may wish to use e.g. `np.int64` or `np.int32` to specify the precision. If you wish to review your current use, check the release note link for additional information.\n",
      "Deprecated in NumPy 1.20; for more details and guidance: https://numpy.org/devdocs/release/1.20.0-notes.html#deprecations\n",
      "  def randint(low, high=None, size=None, dtype=onp.int):  # pylint: disable=missing-function-docstring\n",
      "/opt/conda/lib/python3.7/site-packages/keras_preprocessing/image/utils.py:23: DeprecationWarning: NEAREST is deprecated and will be removed in Pillow 10 (2023-07-01). Use Resampling.NEAREST or Dither.NONE instead.\n",
      "  'nearest': pil_image.NEAREST,\n",
      "/opt/conda/lib/python3.7/site-packages/keras_preprocessing/image/utils.py:24: DeprecationWarning: BILINEAR is deprecated and will be removed in Pillow 10 (2023-07-01). Use Resampling.BILINEAR instead.\n",
      "  'bilinear': pil_image.BILINEAR,\n",
      "/opt/conda/lib/python3.7/site-packages/keras_preprocessing/image/utils.py:25: DeprecationWarning: BICUBIC is deprecated and will be removed in Pillow 10 (2023-07-01). Use Resampling.BICUBIC instead.\n",
      "  'bicubic': pil_image.BICUBIC,\n",
      "/opt/conda/lib/python3.7/site-packages/keras_preprocessing/image/utils.py:28: DeprecationWarning: HAMMING is deprecated and will be removed in Pillow 10 (2023-07-01). Use Resampling.HAMMING instead.\n",
      "  if hasattr(pil_image, 'HAMMING'):\n",
      "/opt/conda/lib/python3.7/site-packages/keras_preprocessing/image/utils.py:29: DeprecationWarning: HAMMING is deprecated and will be removed in Pillow 10 (2023-07-01). Use Resampling.HAMMING instead.\n",
      "  _PIL_INTERPOLATION_METHODS['hamming'] = pil_image.HAMMING\n",
      "/opt/conda/lib/python3.7/site-packages/keras_preprocessing/image/utils.py:30: DeprecationWarning: BOX is deprecated and will be removed in Pillow 10 (2023-07-01). Use Resampling.BOX instead.\n",
      "  if hasattr(pil_image, 'BOX'):\n",
      "/opt/conda/lib/python3.7/site-packages/keras_preprocessing/image/utils.py:31: DeprecationWarning: BOX is deprecated and will be removed in Pillow 10 (2023-07-01). Use Resampling.BOX instead.\n",
      "  _PIL_INTERPOLATION_METHODS['box'] = pil_image.BOX\n",
      "/opt/conda/lib/python3.7/site-packages/keras_preprocessing/image/utils.py:33: DeprecationWarning: LANCZOS is deprecated and will be removed in Pillow 10 (2023-07-01). Use Resampling.LANCZOS instead.\n",
      "  if hasattr(pil_image, 'LANCZOS'):\n",
      "/opt/conda/lib/python3.7/site-packages/keras_preprocessing/image/utils.py:34: DeprecationWarning: LANCZOS is deprecated and will be removed in Pillow 10 (2023-07-01). Use Resampling.LANCZOS instead.\n",
      "  _PIL_INTERPOLATION_METHODS['lanczos'] = pil_image.LANCZOS\n",
      "2023-01-29 23:25:10.156430: I tensorflow/stream_executor/cuda/cuda_gpu_executor.cc:937] successful NUMA node read from SysFS had negative value (-1), but there must be at least one NUMA node, so returning NUMA node zero\n",
      "2023-01-29 23:25:10.157608: I tensorflow/stream_executor/cuda/cuda_gpu_executor.cc:937] successful NUMA node read from SysFS had negative value (-1), but there must be at least one NUMA node, so returning NUMA node zero\n",
      "2023-01-29 23:25:10.158293: I tensorflow/stream_executor/cuda/cuda_gpu_executor.cc:937] successful NUMA node read from SysFS had negative value (-1), but there must be at least one NUMA node, so returning NUMA node zero\n",
      "2023-01-29 23:25:10.160124: I tensorflow/core/platform/cpu_feature_guard.cc:142] This TensorFlow binary is optimized with oneAPI Deep Neural Network Library (oneDNN) to use the following CPU instructions in performance-critical operations:  AVX2 AVX512F FMA\n",
      "To enable them in other operations, rebuild TensorFlow with the appropriate compiler flags.\n",
      "2023-01-29 23:25:10.160472: I tensorflow/stream_executor/cuda/cuda_gpu_executor.cc:937] successful NUMA node read from SysFS had negative value (-1), but there must be at least one NUMA node, so returning NUMA node zero\n",
      "2023-01-29 23:25:10.161163: I tensorflow/stream_executor/cuda/cuda_gpu_executor.cc:937] successful NUMA node read from SysFS had negative value (-1), but there must be at least one NUMA node, so returning NUMA node zero\n",
      "2023-01-29 23:25:10.161863: I tensorflow/stream_executor/cuda/cuda_gpu_executor.cc:937] successful NUMA node read from SysFS had negative value (-1), but there must be at least one NUMA node, so returning NUMA node zero\n",
      "2023-01-29 23:25:14.626001: I tensorflow/stream_executor/cuda/cuda_gpu_executor.cc:937] successful NUMA node read from SysFS had negative value (-1), but there must be at least one NUMA node, so returning NUMA node zero\n",
      "2023-01-29 23:25:14.626896: I tensorflow/stream_executor/cuda/cuda_gpu_executor.cc:937] successful NUMA node read from SysFS had negative value (-1), but there must be at least one NUMA node, so returning NUMA node zero\n",
      "2023-01-29 23:25:14.627587: I tensorflow/stream_executor/cuda/cuda_gpu_executor.cc:937] successful NUMA node read from SysFS had negative value (-1), but there must be at least one NUMA node, so returning NUMA node zero\n",
      "2023-01-29 23:25:14.628170: I tensorflow/core/common_runtime/gpu/gpu_device.cc:1510] Created device /job:localhost/replica:0/task:0/device:GPU:0 with 15043 MB memory:  -> device: 0, name: Tesla P100-PCIE-16GB, pci bus id: 0000:00:04.0, compute capability: 6.0\n"
     ]
    }
   ],
   "source": [
    "import time\n",
    "import json\n",
    "import os\n",
    "\n",
    "# from joblib import dump, load, Memory\n",
    "import joblib\n",
    "import dill\n",
    "import weakref\n",
    "\n",
    "# import warnings\n",
    "\n",
    "import numpy as np\n",
    "import pandas as pd\n",
    "import gensim\n",
    "import pyLDAvis\n",
    "import matplotlib.pyplot as plt\n",
    "\n",
    "# from gensim import (\n",
    "#     corpora,\n",
    "# )  # https://pypi.org/project/gensim/ #https://radimrehurek.com/gensim/auto_examples/core/run_topics_and_transformations.html#sphx-glr-auto-examples-core-run-topics-and-transformations-py\n",
    "from sklearn import (\n",
    "    metrics,\n",
    "    feature_extraction,\n",
    "    linear_model,\n",
    "    model_selection,\n",
    "    preprocessing,\n",
    "    cluster,\n",
    "    decomposition,\n",
    "    multiclass,\n",
    "    svm,\n",
    "    pipeline,\n",
    "    exceptions,\n",
    "    manifold,\n",
    ")\n",
    "from wordcloud import WordCloud\n",
    "from sklearn.utils._testing import ignore_warnings\n",
    "from sklearn.base import BaseEstimator, TransformerMixin\n",
    "import tensorflow as tf\n",
    "import tensorflow_hub as hub\n",
    "from transformers import (\n",
    "    AutoTokenizer,\n",
    "    TFAutoModel,\n",
    "    AutoModel,\n",
    "    BertTokenizer,\n",
    "    TFBertModel,\n",
    "    BertConfig,\n",
    ")  # BertModel\n",
    "import transformers\n",
    "from tokenizers import BertWordPieceTokenizer\n",
    "\n",
    "\n",
    "# import nlpk"
   ]
  },
  {
   "cell_type": "code",
   "execution_count": 2,
   "id": "67531e9d",
   "metadata": {
    "execution": {
     "iopub.execute_input": "2023-01-29T23:25:15.186227Z",
     "iopub.status.busy": "2023-01-29T23:25:15.185464Z",
     "iopub.status.idle": "2023-01-29T23:25:19.522897Z",
     "shell.execute_reply": "2023-01-29T23:25:19.521904Z"
    },
    "papermill": {
     "duration": 4.365032,
     "end_time": "2023-01-29T23:25:19.525220",
     "exception": false,
     "start_time": "2023-01-29T23:25:15.160188",
     "status": "completed"
    },
    "tags": []
   },
   "outputs": [
    {
     "name": "stderr",
     "output_type": "stream",
     "text": [
      "/opt/conda/lib/python3.7/site-packages/mxnet/numpy/utils.py:37: DeprecationWarning: `np.bool` is a deprecated alias for the builtin `bool`. To silence this warning, use `bool` by itself. Doing this will not modify any behavior and is safe. If you specifically wanted the numpy scalar type, use `np.bool_` here.\n",
      "Deprecated in NumPy 1.20; for more details and guidance: https://numpy.org/devdocs/release/1.20.0-notes.html#deprecations\n",
      "  bool = onp.bool\n",
      "/opt/conda/lib/python3.7/site-packages/mxnet/numpy/fallback.py:143: DeprecationWarning: In accordance with NEP 32, the function mirr was removed from NumPy version 1.20.  A replacement for this function is available in the numpy_financial library: https://pypi.org/project/numpy-financial\n",
      "  mirr = onp.mirr\n",
      "/opt/conda/lib/python3.7/site-packages/mxnet/numpy/fallback.py:160: DeprecationWarning: In accordance with NEP 32, the function npv was removed from NumPy version 1.20.  A replacement for this function is available in the numpy_financial library: https://pypi.org/project/numpy-financial\n",
      "  npv = onp.npv\n",
      "/opt/conda/lib/python3.7/site-packages/mxnet/numpy/fallback.py:164: DeprecationWarning: In accordance with NEP 32, the function pmt was removed from NumPy version 1.20.  A replacement for this function is available in the numpy_financial library: https://pypi.org/project/numpy-financial\n",
      "  pmt = onp.pmt\n",
      "/opt/conda/lib/python3.7/site-packages/mxnet/numpy/fallback.py:173: DeprecationWarning: In accordance with NEP 32, the function ppmt was removed from NumPy version 1.20.  A replacement for this function is available in the numpy_financial library: https://pypi.org/project/numpy-financial\n",
      "  ppmt = onp.ppmt\n",
      "/opt/conda/lib/python3.7/site-packages/mxnet/numpy/fallback.py:176: DeprecationWarning: In accordance with NEP 32, the function pv was removed from NumPy version 1.20.  A replacement for this function is available in the numpy_financial library: https://pypi.org/project/numpy-financial\n",
      "  pv = onp.pv\n",
      "/opt/conda/lib/python3.7/site-packages/mxnet/numpy/fallback.py:177: DeprecationWarning: In accordance with NEP 32, the function rate was removed from NumPy version 1.20.  A replacement for this function is available in the numpy_financial library: https://pypi.org/project/numpy-financial\n",
      "  rate = onp.rate\n"
     ]
    }
   ],
   "source": [
    "from kerasembedtransformerclass import p5_nlp_utils"
   ]
  },
  {
   "cell_type": "markdown",
   "id": "8405e8eb",
   "metadata": {
    "papermill": {
     "duration": 0.016108,
     "end_time": "2023-01-29T23:25:19.558133",
     "exception": false,
     "start_time": "2023-01-29T23:25:19.542025",
     "status": "completed"
    },
    "tags": []
   },
   "source": [
    "https://scikit-learn.org/stable/modules/multiclass.html test autre stategie que OneVsRest  \n",
    "https://keras.io/examples/nlp/text_extraction_with_bert/  "
   ]
  },
  {
   "cell_type": "code",
   "execution_count": 3,
   "id": "0e020d1f",
   "metadata": {
    "_kg_hide-output": true,
    "execution": {
     "iopub.execute_input": "2023-01-29T23:25:19.593030Z",
     "iopub.status.busy": "2023-01-29T23:25:19.591545Z",
     "iopub.status.idle": "2023-01-29T23:25:31.011931Z",
     "shell.execute_reply": "2023-01-29T23:25:31.010642Z"
    },
    "papermill": {
     "duration": 11.439887,
     "end_time": "2023-01-29T23:25:31.014172",
     "exception": false,
     "start_time": "2023-01-29T23:25:19.574285",
     "status": "completed"
    },
    "tags": []
   },
   "outputs": [
    {
     "name": "stdout",
     "output_type": "stream",
     "text": [
      "\u001b[33mWARNING: Running pip as the 'root' user can result in broken permissions and conflicting behaviour with the system package manager. It is recommended to use a virtual environment instead: https://pip.pypa.io/warnings/venv\u001b[0m\u001b[33m\r\n",
      "\u001b[0mNote: you may need to restart the kernel to use updated packages.\n"
     ]
    }
   ],
   "source": [
    "pip install -q jupyter-black jupyter"
   ]
  },
  {
   "cell_type": "code",
   "execution_count": 4,
   "id": "5915adb2",
   "metadata": {
    "execution": {
     "iopub.execute_input": "2023-01-29T23:25:31.050079Z",
     "iopub.status.busy": "2023-01-29T23:25:31.049695Z",
     "iopub.status.idle": "2023-01-29T23:25:31.175320Z",
     "shell.execute_reply": "2023-01-29T23:25:31.174398Z"
    },
    "papermill": {
     "duration": 0.145887,
     "end_time": "2023-01-29T23:25:31.177533",
     "exception": false,
     "start_time": "2023-01-29T23:25:31.031646",
     "status": "completed"
    },
    "tags": []
   },
   "outputs": [
    {
     "data": {
      "text/html": [
       "\n",
       "                <script type=\"application/javascript\" id=\"jupyter_black\">\n",
       "                (function() {\n",
       "                    if (window.IPython === undefined) {\n",
       "                        return\n",
       "                    }\n",
       "                    var msg = \"WARNING: it looks like you might have loaded \" +\n",
       "                        \"jupyter_black in a non-lab notebook with \" +\n",
       "                        \"`is_lab=True`. Please double check, and if \" +\n",
       "                        \"loading with `%load_ext` please review the README!\"\n",
       "                    console.log(msg)\n",
       "                    alert(msg)\n",
       "                })()\n",
       "                </script>\n",
       "                "
      ],
      "text/plain": [
       "<IPython.core.display.HTML object>"
      ]
     },
     "metadata": {},
     "output_type": "display_data"
    }
   ],
   "source": [
    "# for black formating\n",
    "import jupyter_black  # pip install jupyter-black jupyter\n",
    "\n",
    "jupyter_black.load()\n",
    "# ??jupyter_black.load #show config"
   ]
  },
  {
   "cell_type": "code",
   "execution_count": 5,
   "id": "cfd0625f",
   "metadata": {
    "execution": {
     "iopub.execute_input": "2023-01-29T23:25:31.212917Z",
     "iopub.status.busy": "2023-01-29T23:25:31.212095Z",
     "iopub.status.idle": "2023-01-29T23:25:42.326802Z",
     "shell.execute_reply": "2023-01-29T23:25:42.325788Z"
    },
    "papermill": {
     "duration": 11.134708,
     "end_time": "2023-01-29T23:25:42.329291",
     "exception": false,
     "start_time": "2023-01-29T23:25:31.194583",
     "status": "completed"
    },
    "tags": []
   },
   "outputs": [
    {
     "name": "stdout",
     "output_type": "stream",
     "text": [
      "<class 'pandas.core.frame.DataFrame'>\n",
      "Int64Index: 118442 entries, 0 to 118441\n",
      "Data columns (total 12 columns):\n",
      " #   Column       Non-Null Count   Dtype \n",
      "---  ------       --------------   ----- \n",
      " 0   Id           118442 non-null  int64 \n",
      " 1   Title        118442 non-null  object\n",
      " 2   Body         118442 non-null  object\n",
      " 3   0            118440 non-null  object\n",
      " 4   1            118383 non-null  object\n",
      " 5   2            118292 non-null  object\n",
      " 6   3            118292 non-null  object\n",
      " 7   4            76389 non-null   object\n",
      " 8   5            4 non-null       object\n",
      " 9   Token_lemma  118442 non-null  object\n",
      " 10  Token_BERT   118442 non-null  object\n",
      " 11  code         88202 non-null   object\n",
      "dtypes: int64(1), object(11)\n",
      "memory usage: 11.7+ MB\n"
     ]
    }
   ],
   "source": [
    "df = pd.read_csv(\n",
    "    \"/kaggle/input/p5-nlp/stackoverflowCleanedV2.csv\", index_col=0, low_memory=False\n",
    ")\n",
    "df.info()"
   ]
  },
  {
   "cell_type": "code",
   "execution_count": 6,
   "id": "08f25a2d",
   "metadata": {
    "execution": {
     "iopub.execute_input": "2023-01-29T23:25:42.365616Z",
     "iopub.status.busy": "2023-01-29T23:25:42.364764Z",
     "iopub.status.idle": "2023-01-29T23:25:42.441857Z",
     "shell.execute_reply": "2023-01-29T23:25:42.440986Z"
    },
    "papermill": {
     "duration": 0.097165,
     "end_time": "2023-01-29T23:25:42.444037",
     "exception": false,
     "start_time": "2023-01-29T23:25:42.346872",
     "status": "completed"
    },
    "tags": []
   },
   "outputs": [],
   "source": [
    "LONG = False\n",
    "description = {\n",
    "    \"title\": \"Word2Vec save vectorize layer config\",\n",
    "    \"target_min_freq\": 0.002, # 0.002 -> 50tags jusqu'a git\n",
    "    \"target_nb_max\": 20, # int en complément de freq, premier test fait avec 20+git\n",
    "    \"CountVectorizer\": {\"min_df\": 0.00001, \"max_df\": 0.995, \"max_features\": None},\n",
    "    \"StandardScaler\": {\"actif\": False},\n",
    "    \"TruncatedSVD\": {\"actif\": False, \"n_components\": 1_000},\n",
    "    \"LogisticRegression\": {\"actif\": False},\n",
    "    \"TfidfOvRSVC\": {\"actif\": False, \"max_iter\": 150},\n",
    "    \"Word2Vec_keras\": {\n",
    "        \"actif\": True,\n",
    "        \"TextVectorization__max_tokens\": 210_000,  # 20_000,\n",
    "        \"TextVectorization__output_sequence_length\": 256,  # max tokens(mots) considéré par question #20\n",
    "        \"Embedding__output_dim\": 512, \n",
    "        \"Word2Vec__min_count\": 5,\n",
    "        \"Word2Vec__window\": 25,\n",
    "        \"Word2Vec__epochs\": 200,  # 100,\n",
    "        \"fit__learning_rate\":1e-5,\n",
    "        \"fit__epochs\": 150,  # 15\n",
    "    },\n",
    "    \"Word2Vec_OVR\": {\n",
    "        \"actif\": False,\n",
    "        \"min_count\": 1,\n",
    "        \"size\": 500,\n",
    "        \"window\": 10,\n",
    "        \"epochs\": 100,\n",
    "        \"maxlen\": 50,\n",
    "        \"max_iter\": 6_000,\n",
    "    },\n",
    "    \"BERT\": {\n",
    "        \"actif\": False,\n",
    "        \"max_length\": 512,\n",
    "        \"epochs\": 10,\n",
    "        \"cleaning\":\"v2\",\n",
    "    },\n",
    "    \"USE\": {\"actif\": False, \"tsne_visu\": True, \"epochs\": 50},\n",
    "    \"LDA\": {\n",
    "        \"actif\": False,\n",
    "        \"num_topics\": [20],  # [5, 10, 20],\n",
    "        \"lda__no_below\": 100,\n",
    "        \"lda__no_above\": 0.5,\n",
    "        \"lda__max_tokens\": 100_000,\n",
    "        \"lda__iterations\": 50,\n",
    "        \"word_cloud__nb_words\": 50,\n",
    "    },\n",
    "}"
   ]
  },
  {
   "cell_type": "code",
   "execution_count": 7,
   "id": "6b6edf29",
   "metadata": {
    "execution": {
     "iopub.execute_input": "2023-01-29T23:25:42.478768Z",
     "iopub.status.busy": "2023-01-29T23:25:42.478497Z",
     "iopub.status.idle": "2023-01-29T23:25:42.496031Z",
     "shell.execute_reply": "2023-01-29T23:25:42.495049Z"
    },
    "papermill": {
     "duration": 0.037139,
     "end_time": "2023-01-29T23:25:42.498188",
     "exception": false,
     "start_time": "2023-01-29T23:25:42.461049",
     "status": "completed"
    },
    "tags": []
   },
   "outputs": [],
   "source": [
    "class colors:\n",
    "    PURPLE = \"\\033[95m\"\n",
    "    BLUE = \"\\033[94m\"\n",
    "    CYAN = \"\\033[96m\"\n",
    "    GREEN = \"\\033[92m\"\n",
    "    YELLOW = \"\\033[93m\"\n",
    "    RED = \"\\033[91m\"\n",
    "    ENDC = \"\\033[0m\"\n",
    "    BOLD = \"\\033[1m\"\n",
    "    UNDERLINE = \"\\033[4m\""
   ]
  },
  {
   "cell_type": "markdown",
   "id": "ea455530",
   "metadata": {
    "papermill": {
     "duration": 0.016764,
     "end_time": "2023-01-29T23:25:42.531379",
     "exception": false,
     "start_time": "2023-01-29T23:25:42.514615",
     "status": "completed"
    },
    "tags": []
   },
   "source": [
    "# Tokenization"
   ]
  },
  {
   "cell_type": "code",
   "execution_count": 8,
   "id": "5ca91e37",
   "metadata": {
    "execution": {
     "iopub.execute_input": "2023-01-29T23:25:42.565788Z",
     "iopub.status.busy": "2023-01-29T23:25:42.565044Z",
     "iopub.status.idle": "2023-01-29T23:25:42.614461Z",
     "shell.execute_reply": "2023-01-29T23:25:42.613543Z"
    },
    "papermill": {
     "duration": 0.071505,
     "end_time": "2023-01-29T23:25:42.619308",
     "exception": false,
     "start_time": "2023-01-29T23:25:42.547803",
     "status": "completed"
    },
    "tags": []
   },
   "outputs": [
    {
     "name": "stderr",
     "output_type": "stream",
     "text": [
      "/opt/conda/lib/python3.7/site-packages/ipykernel/pylab/backend_inline.py:13: DeprecationWarning: `ipykernel.pylab.backend_inline` is deprecated, directly use `matplotlib_inline.backend_inline`\n",
      "  DeprecationWarning,\n"
     ]
    },
    {
     "data": {
      "application/vnd.jupyter.widget-view+json": {
       "model_id": "708133d7e8d1453aba3273b8eea8e038",
       "version_major": 2,
       "version_minor": 0
      },
      "text/plain": [
       "interactive(children=(IntSlider(value=59220, description='i', max=118441), Output()), _dom_classes=('widget-in…"
      ]
     },
     "metadata": {},
     "output_type": "display_data"
    }
   ],
   "source": [
    "from ipywidgets import interact\n",
    "\n",
    "\n",
    "@interact(i=(0, df.shape[0] - 1))\n",
    "def test_tr_print(i):\n",
    "    print(\n",
    "        f'***Title***{df[\"Title\"][i]}\\n{\"*\"*30}\\n***Body***{df[\"Body\"][i]}\\n{\"*\"*30}\\n\\\n",
    "        ***Lemma** {df[\"Token_lemma\"][i]}\\n{\"*\"*30}\\n\\\n",
    "        ***Bert*** {df[\"Token_BERT\"][i]}\\n{\"*\"*30}\\n\\\n",
    "        ***Code*** {df[\"code\"][i]}\\n{\"*\"*30}\\n\\\n",
    "        ***Tags*** {df.loc[i,\"0\"]} {df.loc[i,\"1\"]} {df.loc[i,\"2\"]} {df.loc[i,\"3\"]} {df.loc[i,\"4\"]}'\n",
    "    )"
   ]
  },
  {
   "cell_type": "code",
   "execution_count": 9,
   "id": "2c65fd80",
   "metadata": {
    "execution": {
     "iopub.execute_input": "2023-01-29T23:25:42.656821Z",
     "iopub.status.busy": "2023-01-29T23:25:42.656183Z",
     "iopub.status.idle": "2023-01-29T23:25:42.720218Z",
     "shell.execute_reply": "2023-01-29T23:25:42.719338Z"
    },
    "papermill": {
     "duration": 0.083806,
     "end_time": "2023-01-29T23:25:42.722193",
     "exception": false,
     "start_time": "2023-01-29T23:25:42.638387",
     "status": "completed"
    },
    "tags": []
   },
   "outputs": [
    {
     "name": "stdout",
     "output_type": "stream",
     "text": [
      "0\n"
     ]
    },
    {
     "data": {
      "text/html": [
       "<div>\n",
       "<style scoped>\n",
       "    .dataframe tbody tr th:only-of-type {\n",
       "        vertical-align: middle;\n",
       "    }\n",
       "\n",
       "    .dataframe tbody tr th {\n",
       "        vertical-align: top;\n",
       "    }\n",
       "\n",
       "    .dataframe thead th {\n",
       "        text-align: right;\n",
       "    }\n",
       "</style>\n",
       "<table border=\"1\" class=\"dataframe\">\n",
       "  <thead>\n",
       "    <tr style=\"text-align: right;\">\n",
       "      <th></th>\n",
       "      <th>Title</th>\n",
       "      <th>Body</th>\n",
       "      <th>Token_lemma</th>\n",
       "      <th>0</th>\n",
       "      <th>1</th>\n",
       "      <th>2</th>\n",
       "      <th>3</th>\n",
       "      <th>4</th>\n",
       "    </tr>\n",
       "  </thead>\n",
       "  <tbody>\n",
       "  </tbody>\n",
       "</table>\n",
       "</div>"
      ],
      "text/plain": [
       "Empty DataFrame\n",
       "Columns: [Title, Body, Token_lemma, 0, 1, 2, 3, 4]\n",
       "Index: []"
      ]
     },
     "execution_count": 9,
     "metadata": {},
     "output_type": "execute_result"
    }
   ],
   "source": [
    "print(sum(df[\"Token_lemma\"].isna()))\n",
    "df[df[\"Token_lemma\"].isna()][\n",
    "    [\"Title\", \"Body\", \"Token_lemma\", \"0\", \"1\", \"2\", \"3\", \"4\"]\n",
    "].head(5)"
   ]
  },
  {
   "cell_type": "code",
   "execution_count": 10,
   "id": "d116d310",
   "metadata": {
    "execution": {
     "iopub.execute_input": "2023-01-29T23:25:42.757896Z",
     "iopub.status.busy": "2023-01-29T23:25:42.757038Z",
     "iopub.status.idle": "2023-01-29T23:25:42.816200Z",
     "shell.execute_reply": "2023-01-29T23:25:42.814766Z"
    },
    "papermill": {
     "duration": 0.080821,
     "end_time": "2023-01-29T23:25:42.820045",
     "exception": false,
     "start_time": "2023-01-29T23:25:42.739224",
     "status": "completed"
    },
    "tags": []
   },
   "outputs": [
    {
     "name": "stdout",
     "output_type": "stream",
     "text": [
      "0\n"
     ]
    },
    {
     "data": {
      "text/html": [
       "<div>\n",
       "<style scoped>\n",
       "    .dataframe tbody tr th:only-of-type {\n",
       "        vertical-align: middle;\n",
       "    }\n",
       "\n",
       "    .dataframe tbody tr th {\n",
       "        vertical-align: top;\n",
       "    }\n",
       "\n",
       "    .dataframe thead th {\n",
       "        text-align: right;\n",
       "    }\n",
       "</style>\n",
       "<table border=\"1\" class=\"dataframe\">\n",
       "  <thead>\n",
       "    <tr style=\"text-align: right;\">\n",
       "      <th></th>\n",
       "      <th>Title</th>\n",
       "      <th>Body</th>\n",
       "      <th>Token_BERT</th>\n",
       "      <th>code</th>\n",
       "    </tr>\n",
       "  </thead>\n",
       "  <tbody>\n",
       "  </tbody>\n",
       "</table>\n",
       "</div>"
      ],
      "text/plain": [
       "Empty DataFrame\n",
       "Columns: [Title, Body, Token_BERT, code]\n",
       "Index: []"
      ]
     },
     "execution_count": 10,
     "metadata": {},
     "output_type": "execute_result"
    }
   ],
   "source": [
    "print(sum(df[\"Token_BERT\"].isna()))\n",
    "df[df[\"Token_BERT\"].isna()][\n",
    "    [\"Title\", \"Body\", \"Token_BERT\", \"code\"]\n",
    "].head(5)"
   ]
  },
  {
   "cell_type": "code",
   "execution_count": 11,
   "id": "ac6f6c03",
   "metadata": {
    "execution": {
     "iopub.execute_input": "2023-01-29T23:25:42.856607Z",
     "iopub.status.busy": "2023-01-29T23:25:42.855134Z",
     "iopub.status.idle": "2023-01-29T23:25:43.005173Z",
     "shell.execute_reply": "2023-01-29T23:25:43.004230Z"
    },
    "papermill": {
     "duration": 0.169962,
     "end_time": "2023-01-29T23:25:43.007267",
     "exception": false,
     "start_time": "2023-01-29T23:25:42.837305",
     "status": "completed"
    },
    "tags": []
   },
   "outputs": [
    {
     "name": "stdout",
     "output_type": "stream",
     "text": [
      "taille 21\n",
      "java c# javascript python android c++ ios html php .net jquery css objective-c c sql iphone asp.net mysql linux node.js git\n"
     ]
    }
   ],
   "source": [
    "tags = df[[\"0\", \"1\", \"2\", \"3\", \"4\", \"5\"]].stack()\n",
    "target_names = [\n",
    "    tag\n",
    "    for tag, freq in tags.reset_index(drop=True).value_counts(normalize=True).items()\n",
    "    if freq > description[\"target_min_freq\"]\n",
    "]\n",
    "if description[\"target_nb_max\"] and len(target_names)>description[\"target_nb_max\"]:\n",
    "    target_names = target_names[0:description[\"target_nb_max\"]] + [\"git\"]\n",
    "print(f\"taille {len(target_names)}\\n{' '.join(target_names)}\")"
   ]
  },
  {
   "cell_type": "code",
   "execution_count": 12,
   "id": "9a8f364e",
   "metadata": {
    "execution": {
     "iopub.execute_input": "2023-01-29T23:25:43.044325Z",
     "iopub.status.busy": "2023-01-29T23:25:43.043522Z",
     "iopub.status.idle": "2023-01-29T23:25:43.056533Z",
     "shell.execute_reply": "2023-01-29T23:25:43.055693Z"
    },
    "papermill": {
     "duration": 0.033829,
     "end_time": "2023-01-29T23:25:43.058766",
     "exception": false,
     "start_time": "2023-01-29T23:25:43.024937",
     "status": "completed"
    },
    "tags": []
   },
   "outputs": [],
   "source": [
    "# Enregistrement des paramétres avec la liste des tags a predire\n",
    "description[\"target_names\"] = target_names\n",
    "with open(\"/kaggle/working/description.json\", \"w\") as outfile:\n",
    "    json.dump(description, outfile)"
   ]
  },
  {
   "cell_type": "code",
   "execution_count": 13,
   "id": "df7d4310",
   "metadata": {
    "execution": {
     "iopub.execute_input": "2023-01-29T23:25:43.095229Z",
     "iopub.status.busy": "2023-01-29T23:25:43.093806Z",
     "iopub.status.idle": "2023-01-29T23:25:43.127228Z",
     "shell.execute_reply": "2023-01-29T23:25:43.126331Z"
    },
    "papermill": {
     "duration": 0.053621,
     "end_time": "2023-01-29T23:25:43.129277",
     "exception": false,
     "start_time": "2023-01-29T23:25:43.075656",
     "status": "completed"
    },
    "tags": []
   },
   "outputs": [
    {
     "data": {
      "text/html": [
       "<div>\n",
       "<style scoped>\n",
       "    .dataframe tbody tr th:only-of-type {\n",
       "        vertical-align: middle;\n",
       "    }\n",
       "\n",
       "    .dataframe tbody tr th {\n",
       "        vertical-align: top;\n",
       "    }\n",
       "\n",
       "    .dataframe thead th {\n",
       "        text-align: right;\n",
       "    }\n",
       "</style>\n",
       "<table border=\"1\" class=\"dataframe\">\n",
       "  <thead>\n",
       "    <tr style=\"text-align: right;\">\n",
       "      <th></th>\n",
       "      <th>javascript</th>\n",
       "      <th>java</th>\n",
       "      <th>c#</th>\n",
       "      <th>python</th>\n",
       "      <th>html</th>\n",
       "      <th>git</th>\n",
       "      <th>php</th>\n",
       "    </tr>\n",
       "  </thead>\n",
       "  <tbody>\n",
       "    <tr>\n",
       "      <th>0</th>\n",
       "      <td>False</td>\n",
       "      <td>True</td>\n",
       "      <td>False</td>\n",
       "      <td>False</td>\n",
       "      <td>False</td>\n",
       "      <td>False</td>\n",
       "      <td>False</td>\n",
       "    </tr>\n",
       "    <tr>\n",
       "      <th>1</th>\n",
       "      <td>False</td>\n",
       "      <td>False</td>\n",
       "      <td>False</td>\n",
       "      <td>False</td>\n",
       "      <td>False</td>\n",
       "      <td>True</td>\n",
       "      <td>False</td>\n",
       "    </tr>\n",
       "    <tr>\n",
       "      <th>2</th>\n",
       "      <td>False</td>\n",
       "      <td>False</td>\n",
       "      <td>False</td>\n",
       "      <td>False</td>\n",
       "      <td>False</td>\n",
       "      <td>True</td>\n",
       "      <td>False</td>\n",
       "    </tr>\n",
       "    <tr>\n",
       "      <th>3</th>\n",
       "      <td>False</td>\n",
       "      <td>False</td>\n",
       "      <td>False</td>\n",
       "      <td>False</td>\n",
       "      <td>False</td>\n",
       "      <td>True</td>\n",
       "      <td>False</td>\n",
       "    </tr>\n",
       "    <tr>\n",
       "      <th>4</th>\n",
       "      <td>False</td>\n",
       "      <td>False</td>\n",
       "      <td>False</td>\n",
       "      <td>False</td>\n",
       "      <td>False</td>\n",
       "      <td>False</td>\n",
       "      <td>False</td>\n",
       "    </tr>\n",
       "    <tr>\n",
       "      <th>5</th>\n",
       "      <td>False</td>\n",
       "      <td>False</td>\n",
       "      <td>False</td>\n",
       "      <td>False</td>\n",
       "      <td>False</td>\n",
       "      <td>False</td>\n",
       "      <td>False</td>\n",
       "    </tr>\n",
       "    <tr>\n",
       "      <th>6</th>\n",
       "      <td>False</td>\n",
       "      <td>False</td>\n",
       "      <td>False</td>\n",
       "      <td>False</td>\n",
       "      <td>False</td>\n",
       "      <td>True</td>\n",
       "      <td>False</td>\n",
       "    </tr>\n",
       "    <tr>\n",
       "      <th>7</th>\n",
       "      <td>True</td>\n",
       "      <td>False</td>\n",
       "      <td>False</td>\n",
       "      <td>False</td>\n",
       "      <td>False</td>\n",
       "      <td>False</td>\n",
       "      <td>False</td>\n",
       "    </tr>\n",
       "    <tr>\n",
       "      <th>8</th>\n",
       "      <td>True</td>\n",
       "      <td>False</td>\n",
       "      <td>False</td>\n",
       "      <td>False</td>\n",
       "      <td>False</td>\n",
       "      <td>False</td>\n",
       "      <td>False</td>\n",
       "    </tr>\n",
       "    <tr>\n",
       "      <th>9</th>\n",
       "      <td>False</td>\n",
       "      <td>False</td>\n",
       "      <td>False</td>\n",
       "      <td>True</td>\n",
       "      <td>False</td>\n",
       "      <td>False</td>\n",
       "      <td>False</td>\n",
       "    </tr>\n",
       "  </tbody>\n",
       "</table>\n",
       "</div>"
      ],
      "text/plain": [
       "   javascript   java     c#  python   html    git    php\n",
       "0       False   True  False   False  False  False  False\n",
       "1       False  False  False   False  False   True  False\n",
       "2       False  False  False   False  False   True  False\n",
       "3       False  False  False   False  False   True  False\n",
       "4       False  False  False   False  False  False  False\n",
       "5       False  False  False   False  False  False  False\n",
       "6       False  False  False   False  False   True  False\n",
       "7        True  False  False   False  False  False  False\n",
       "8        True  False  False   False  False  False  False\n",
       "9       False  False  False    True  False  False  False"
      ]
     },
     "execution_count": 13,
     "metadata": {},
     "output_type": "execute_result"
    }
   ],
   "source": [
    "p5_nlp_utils.Commun.tags_are_in(\n",
    "    df[0:10], [\"javascript\", \"java\", \"c#\", \"python\", \"html\", \"git\", \"php\"]\n",
    ")"
   ]
  },
  {
   "cell_type": "markdown",
   "id": "cbc73c28",
   "metadata": {
    "papermill": {
     "duration": 0.017442,
     "end_time": "2023-01-29T23:25:43.164493",
     "exception": false,
     "start_time": "2023-01-29T23:25:43.147051",
     "status": "completed"
    },
    "tags": []
   },
   "source": [
    "## Separation train/test"
   ]
  },
  {
   "cell_type": "code",
   "execution_count": 14,
   "id": "989724d5",
   "metadata": {
    "execution": {
     "iopub.execute_input": "2023-01-29T23:25:43.202042Z",
     "iopub.status.busy": "2023-01-29T23:25:43.200988Z",
     "iopub.status.idle": "2023-01-29T23:25:44.477751Z",
     "shell.execute_reply": "2023-01-29T23:25:44.476618Z"
    },
    "papermill": {
     "duration": 1.2982,
     "end_time": "2023-01-29T23:25:44.480208",
     "exception": false,
     "start_time": "2023-01-29T23:25:43.182008",
     "status": "completed"
    },
    "tags": []
   },
   "outputs": [
    {
     "name": "stdout",
     "output_type": "stream",
     "text": [
      "99.99831% des questions ont au moins 2tokens\n"
     ]
    }
   ],
   "source": [
    "if description[\"BERT\"][\"actif\"] and description[\"BERT\"][\"cleaning\"] ==\"raw\": #essaie sans nettoyer le texte pour BERT\n",
    "    df[\"Token\"] = (\n",
    "        df[\"Title\"].fillna(\"\").str.strip() + \" \" + df[\"Body\"].fillna(\"\").str.strip()\n",
    "    )\n",
    "elif description[\"BERT\"][\"actif\"] and description[\"BERT\"][\"cleaning\"] ==\"v2\":\n",
    "    df[\"Token\"] = df[\"Token_BERT\"]\n",
    "else:\n",
    "    df[\"Token\"] = df[\"Token_lemma\"]\n",
    "#     df[\"Token\"] = df[\"Title_clean\"].fillna(\"\") + df[\"Body_clean\"].fillna(\"\")\n",
    "    print(\n",
    "        f\"{len(df[[len(token.split()) > 1 for token in df['Token']]])/len(df):.5%} des questions ont au moins 2tokens\"\n",
    "        if len(df[df[\"Token\"] == \"\"]) == 0\n",
    "        else f\"{len(df[df['Token'] == ''])} questions n'ont pas de token\"\n",
    "    )\n",
    "X_train, X_test, y_train, y_test = model_selection.train_test_split(\n",
    "    df[\"Token\"], p5_nlp_utils.Commun.tags_are_in(df, target_names), random_state=42\n",
    ")"
   ]
  },
  {
   "cell_type": "markdown",
   "id": "855659fb",
   "metadata": {
    "papermill": {
     "duration": 0.019042,
     "end_time": "2023-01-29T23:25:44.524499",
     "exception": false,
     "start_time": "2023-01-29T23:25:44.505457",
     "status": "completed"
    },
    "tags": []
   },
   "source": [
    "## Nombre et % de chaque tag dans train et test\n",
    "Une question peut avoir plusieur tag donc la somme est supérieur aux nombres de ligne"
   ]
  },
  {
   "cell_type": "code",
   "execution_count": 15,
   "id": "8c829a63",
   "metadata": {
    "execution": {
     "iopub.execute_input": "2023-01-29T23:25:44.561651Z",
     "iopub.status.busy": "2023-01-29T23:25:44.560724Z",
     "iopub.status.idle": "2023-01-29T23:25:44.606210Z",
     "shell.execute_reply": "2023-01-29T23:25:44.604731Z"
    },
    "papermill": {
     "duration": 0.066816,
     "end_time": "2023-01-29T23:25:44.608915",
     "exception": false,
     "start_time": "2023-01-29T23:25:44.542099",
     "status": "completed"
    },
    "tags": []
   },
   "outputs": [
    {
     "name": "stdout",
     "output_type": "stream",
     "text": [
      "|tag positif  nb train   %    |  test   %   |\n",
      "|\u001b[1mjava          \u001b[0m\u001b[92m10706   \u001b[0m12.05% | \u001b[92m3558 \u001b[0m 12.02%|\n",
      "|\u001b[1mc#            \u001b[0m\u001b[92m10484   \u001b[0m11.80% | \u001b[92m3473 \u001b[0m 11.73%|\n",
      "|\u001b[1mjavascript    \u001b[0m\u001b[92m10451   \u001b[0m11.77% | \u001b[92m3356 \u001b[0m 11.33%|\n",
      "|\u001b[1mpython        \u001b[0m\u001b[92m7652    \u001b[0m08.61% | \u001b[92m2612 \u001b[0m 08.82%|\n",
      "|\u001b[1mandroid       \u001b[0m\u001b[92m6216    \u001b[0m07.00% | \u001b[92m2045 \u001b[0m 06.91%|\n",
      "|\u001b[1mc++           \u001b[0m\u001b[92m5893    \u001b[0m06.63% | \u001b[92m1964 \u001b[0m 06.63%|\n",
      "|\u001b[1mios           \u001b[0m\u001b[92m5554    \u001b[0m06.25% | \u001b[92m1840 \u001b[0m 06.21%|\n",
      "|\u001b[1mhtml          \u001b[0m\u001b[92m5198    \u001b[0m05.85% | \u001b[92m1755 \u001b[0m 05.93%|\n",
      "|\u001b[1mphp           \u001b[0m\u001b[92m4935    \u001b[0m05.56% | \u001b[92m1627 \u001b[0m 05.49%|\n",
      "|\u001b[1m.net          \u001b[0m\u001b[92m4746    \u001b[0m05.34% | \u001b[92m1569 \u001b[0m 05.30%|\n",
      "|\u001b[1mjquery        \u001b[0m\u001b[92m4762    \u001b[0m05.36% | \u001b[92m1538 \u001b[0m 05.19%|\n",
      "|\u001b[1mcss           \u001b[0m\u001b[92m3350    \u001b[0m03.77% | \u001b[92m1131 \u001b[0m 03.82%|\n",
      "|\u001b[1mobjective-c   \u001b[0m\u001b[92m2736    \u001b[0m03.08% | \u001b[92m888  \u001b[0m 03.00%|\n",
      "|\u001b[1mc             \u001b[0m\u001b[92m2734    \u001b[0m03.08% | \u001b[92m885  \u001b[0m 02.99%|\n",
      "|\u001b[1msql           \u001b[0m\u001b[92m2665    \u001b[0m03.00% | \u001b[92m870  \u001b[0m 02.94%|\n",
      "|\u001b[1miphone        \u001b[0m\u001b[92m2479    \u001b[0m02.79% | \u001b[92m807  \u001b[0m 02.73%|\n",
      "|\u001b[1masp.net       \u001b[0m\u001b[92m2424    \u001b[0m02.73% | \u001b[92m805  \u001b[0m 02.72%|\n",
      "|\u001b[1mmysql         \u001b[0m\u001b[92m2107    \u001b[0m02.37% | \u001b[92m685  \u001b[0m 02.31%|\n",
      "|\u001b[1mlinux         \u001b[0m\u001b[92m2082    \u001b[0m02.34% | \u001b[92m680  \u001b[0m 02.30%|\n",
      "|\u001b[1mnode.js       \u001b[0m\u001b[92m2034    \u001b[0m02.29% | \u001b[92m682  \u001b[0m 02.30%|\n",
      "|\u001b[1mgit           \u001b[0m\u001b[92m840     \u001b[0m00.95% | \u001b[92m274  \u001b[0m 00.93%|\n"
     ]
    }
   ],
   "source": [
    "print(\"|tag positif  nb train   %    |  test   %   |\")\n",
    "for column in y_train.columns:\n",
    "    nb_positif_train = y_train[y_train[column]].shape[0]\n",
    "    nb_positif_test = y_test[y_test[column]].shape[0]\n",
    "    print(\n",
    "        f\"|{colors.BOLD}{column: <14}{colors.ENDC}{colors.GREEN}{nb_positif_train: <8}{colors.ENDC}{(nb_positif_train/y_train.shape[0]):06.2%} | {colors.GREEN}{nb_positif_test:<5}{colors.ENDC} {nb_positif_test/y_test.shape[0]:06.2%}|\"\n",
    "    )"
   ]
  },
  {
   "cell_type": "markdown",
   "id": "058f4640",
   "metadata": {
    "papermill": {
     "duration": 0.017482,
     "end_time": "2023-01-29T23:25:44.644345",
     "exception": false,
     "start_time": "2023-01-29T23:25:44.626863",
     "status": "completed"
    },
    "tags": []
   },
   "source": [
    "### Regroupement des tags pour visualisation tsne:\n",
    "En une collone unique pour représenter tout les tags dans 1graph, avec priorité pour les tags les moins fréquents  \n",
    "Ici la somme = nombre de ligne  "
   ]
  },
  {
   "cell_type": "code",
   "execution_count": 16,
   "id": "6b7dd26f",
   "metadata": {
    "execution": {
     "iopub.execute_input": "2023-01-29T23:25:44.681931Z",
     "iopub.status.busy": "2023-01-29T23:25:44.680840Z",
     "iopub.status.idle": "2023-01-29T23:26:12.574105Z",
     "shell.execute_reply": "2023-01-29T23:26:12.573032Z"
    },
    "papermill": {
     "duration": 27.914499,
     "end_time": "2023-01-29T23:26:12.576324",
     "exception": false,
     "start_time": "2023-01-29T23:25:44.661825",
     "status": "completed"
    },
    "tags": []
   },
   "outputs": [
    {
     "name": "stdout",
     "output_type": "stream",
     "text": [
      "CPU times: user 27.7 s, sys: 14.5 ms, total: 27.8 s\n",
      "Wall time: 27.9 s\n"
     ]
    },
    {
     "data": {
      "text/plain": [
       "Non Suivi      18192\n",
       "java            8114\n",
       "python          6900\n",
       "android         5595\n",
       "c#              5212\n",
       "c++             4570\n",
       ".net            4188\n",
       "javascript      3734\n",
       "jquery          3411\n",
       "php             3322\n",
       "css             3227\n",
       "ios             2745\n",
       "iphone          2470\n",
       "asp.net         2402\n",
       "c               2385\n",
       "sql             2081\n",
       "mysql           2038\n",
       "linux           2038\n",
       "node.js         2010\n",
       "html            1715\n",
       "objective-c     1642\n",
       "git              840\n",
       "dtype: int64"
      ]
     },
     "execution_count": 16,
     "metadata": {},
     "output_type": "execute_result"
    }
   ],
   "source": [
    "%%time\n",
    "y_train_monodim = pd.Series(index=y_train.index, dtype=bool)\n",
    "for tag in y_train.columns:\n",
    "    y_train_monodim = (\n",
    "        y_train[tag]\n",
    "        .replace(to_replace=True, value=tag)\n",
    "        .combine(y_train_monodim, lambda s1, s2: s1 if s1 else s2)\n",
    "    )\n",
    "y_train_monodim.replace(to_replace=False, value=\"Non Suivi\", inplace=True)\n",
    "y_train_monodim.value_counts()"
   ]
  },
  {
   "cell_type": "markdown",
   "id": "46a0d21f",
   "metadata": {
    "papermill": {
     "duration": 0.017886,
     "end_time": "2023-01-29T23:26:12.612319",
     "exception": false,
     "start_time": "2023-01-29T23:26:12.594433",
     "status": "completed"
    },
    "tags": []
   },
   "source": [
    "## Approche naïve pour comparer les résultats:\n",
    "    - Valeur la plus fréquente (False)\n",
    "    - Si le tag est présent dans la question"
   ]
  },
  {
   "cell_type": "code",
   "execution_count": 17,
   "id": "c7e6fadc",
   "metadata": {
    "_kg_hide-output": true,
    "execution": {
     "iopub.execute_input": "2023-01-29T23:26:12.648657Z",
     "iopub.status.busy": "2023-01-29T23:26:12.648289Z",
     "iopub.status.idle": "2023-01-29T23:26:12.720800Z",
     "shell.execute_reply": "2023-01-29T23:26:12.719837Z"
    },
    "papermill": {
     "duration": 0.09319,
     "end_time": "2023-01-29T23:26:12.723022",
     "exception": false,
     "start_time": "2023-01-29T23:26:12.629832",
     "status": "completed"
    },
    "tags": []
   },
   "outputs": [
    {
     "data": {
      "text/html": [
       "<div>\n",
       "<style scoped>\n",
       "    .dataframe tbody tr th:only-of-type {\n",
       "        vertical-align: middle;\n",
       "    }\n",
       "\n",
       "    .dataframe tbody tr th {\n",
       "        vertical-align: top;\n",
       "    }\n",
       "\n",
       "    .dataframe thead th {\n",
       "        text-align: right;\n",
       "    }\n",
       "</style>\n",
       "<table border=\"1\" class=\"dataframe\">\n",
       "  <thead>\n",
       "    <tr style=\"text-align: right;\">\n",
       "      <th></th>\n",
       "      <th>precision</th>\n",
       "      <th>recall</th>\n",
       "      <th>f1-score</th>\n",
       "      <th>support</th>\n",
       "    </tr>\n",
       "  </thead>\n",
       "  <tbody>\n",
       "    <tr>\n",
       "      <th>java</th>\n",
       "      <td>1.0</td>\n",
       "      <td>0.000000</td>\n",
       "      <td>0.000000</td>\n",
       "      <td>3558.0</td>\n",
       "    </tr>\n",
       "    <tr>\n",
       "      <th>c#</th>\n",
       "      <td>1.0</td>\n",
       "      <td>0.000000</td>\n",
       "      <td>0.000000</td>\n",
       "      <td>3473.0</td>\n",
       "    </tr>\n",
       "    <tr>\n",
       "      <th>javascript</th>\n",
       "      <td>1.0</td>\n",
       "      <td>0.000000</td>\n",
       "      <td>0.000000</td>\n",
       "      <td>3356.0</td>\n",
       "    </tr>\n",
       "    <tr>\n",
       "      <th>python</th>\n",
       "      <td>1.0</td>\n",
       "      <td>0.000000</td>\n",
       "      <td>0.000000</td>\n",
       "      <td>2612.0</td>\n",
       "    </tr>\n",
       "    <tr>\n",
       "      <th>android</th>\n",
       "      <td>1.0</td>\n",
       "      <td>0.000000</td>\n",
       "      <td>0.000000</td>\n",
       "      <td>2045.0</td>\n",
       "    </tr>\n",
       "    <tr>\n",
       "      <th>c++</th>\n",
       "      <td>1.0</td>\n",
       "      <td>0.000000</td>\n",
       "      <td>0.000000</td>\n",
       "      <td>1964.0</td>\n",
       "    </tr>\n",
       "    <tr>\n",
       "      <th>ios</th>\n",
       "      <td>1.0</td>\n",
       "      <td>0.000000</td>\n",
       "      <td>0.000000</td>\n",
       "      <td>1840.0</td>\n",
       "    </tr>\n",
       "    <tr>\n",
       "      <th>html</th>\n",
       "      <td>1.0</td>\n",
       "      <td>0.000000</td>\n",
       "      <td>0.000000</td>\n",
       "      <td>1755.0</td>\n",
       "    </tr>\n",
       "    <tr>\n",
       "      <th>php</th>\n",
       "      <td>1.0</td>\n",
       "      <td>0.000000</td>\n",
       "      <td>0.000000</td>\n",
       "      <td>1627.0</td>\n",
       "    </tr>\n",
       "    <tr>\n",
       "      <th>.net</th>\n",
       "      <td>1.0</td>\n",
       "      <td>0.000000</td>\n",
       "      <td>0.000000</td>\n",
       "      <td>1569.0</td>\n",
       "    </tr>\n",
       "    <tr>\n",
       "      <th>jquery</th>\n",
       "      <td>1.0</td>\n",
       "      <td>0.000000</td>\n",
       "      <td>0.000000</td>\n",
       "      <td>1538.0</td>\n",
       "    </tr>\n",
       "    <tr>\n",
       "      <th>css</th>\n",
       "      <td>1.0</td>\n",
       "      <td>0.000000</td>\n",
       "      <td>0.000000</td>\n",
       "      <td>1131.0</td>\n",
       "    </tr>\n",
       "    <tr>\n",
       "      <th>objective-c</th>\n",
       "      <td>1.0</td>\n",
       "      <td>0.000000</td>\n",
       "      <td>0.000000</td>\n",
       "      <td>888.0</td>\n",
       "    </tr>\n",
       "    <tr>\n",
       "      <th>c</th>\n",
       "      <td>1.0</td>\n",
       "      <td>0.000000</td>\n",
       "      <td>0.000000</td>\n",
       "      <td>885.0</td>\n",
       "    </tr>\n",
       "    <tr>\n",
       "      <th>sql</th>\n",
       "      <td>1.0</td>\n",
       "      <td>0.000000</td>\n",
       "      <td>0.000000</td>\n",
       "      <td>870.0</td>\n",
       "    </tr>\n",
       "    <tr>\n",
       "      <th>iphone</th>\n",
       "      <td>1.0</td>\n",
       "      <td>0.000000</td>\n",
       "      <td>0.000000</td>\n",
       "      <td>807.0</td>\n",
       "    </tr>\n",
       "    <tr>\n",
       "      <th>asp.net</th>\n",
       "      <td>1.0</td>\n",
       "      <td>0.000000</td>\n",
       "      <td>0.000000</td>\n",
       "      <td>805.0</td>\n",
       "    </tr>\n",
       "    <tr>\n",
       "      <th>mysql</th>\n",
       "      <td>1.0</td>\n",
       "      <td>0.000000</td>\n",
       "      <td>0.000000</td>\n",
       "      <td>685.0</td>\n",
       "    </tr>\n",
       "    <tr>\n",
       "      <th>linux</th>\n",
       "      <td>1.0</td>\n",
       "      <td>0.000000</td>\n",
       "      <td>0.000000</td>\n",
       "      <td>680.0</td>\n",
       "    </tr>\n",
       "    <tr>\n",
       "      <th>node.js</th>\n",
       "      <td>1.0</td>\n",
       "      <td>0.000000</td>\n",
       "      <td>0.000000</td>\n",
       "      <td>682.0</td>\n",
       "    </tr>\n",
       "    <tr>\n",
       "      <th>git</th>\n",
       "      <td>1.0</td>\n",
       "      <td>0.000000</td>\n",
       "      <td>0.000000</td>\n",
       "      <td>274.0</td>\n",
       "    </tr>\n",
       "    <tr>\n",
       "      <th>micro avg</th>\n",
       "      <td>1.0</td>\n",
       "      <td>0.000000</td>\n",
       "      <td>0.000000</td>\n",
       "      <td>33044.0</td>\n",
       "    </tr>\n",
       "    <tr>\n",
       "      <th>macro avg</th>\n",
       "      <td>1.0</td>\n",
       "      <td>0.000000</td>\n",
       "      <td>0.000000</td>\n",
       "      <td>33044.0</td>\n",
       "    </tr>\n",
       "    <tr>\n",
       "      <th>weighted avg</th>\n",
       "      <td>1.0</td>\n",
       "      <td>0.000000</td>\n",
       "      <td>0.000000</td>\n",
       "      <td>33044.0</td>\n",
       "    </tr>\n",
       "    <tr>\n",
       "      <th>samples avg</th>\n",
       "      <td>1.0</td>\n",
       "      <td>0.207322</td>\n",
       "      <td>0.207322</td>\n",
       "      <td>33044.0</td>\n",
       "    </tr>\n",
       "  </tbody>\n",
       "</table>\n",
       "</div>"
      ],
      "text/plain": [
       "              precision    recall  f1-score  support\n",
       "java                1.0  0.000000  0.000000   3558.0\n",
       "c#                  1.0  0.000000  0.000000   3473.0\n",
       "javascript          1.0  0.000000  0.000000   3356.0\n",
       "python              1.0  0.000000  0.000000   2612.0\n",
       "android             1.0  0.000000  0.000000   2045.0\n",
       "c++                 1.0  0.000000  0.000000   1964.0\n",
       "ios                 1.0  0.000000  0.000000   1840.0\n",
       "html                1.0  0.000000  0.000000   1755.0\n",
       "php                 1.0  0.000000  0.000000   1627.0\n",
       ".net                1.0  0.000000  0.000000   1569.0\n",
       "jquery              1.0  0.000000  0.000000   1538.0\n",
       "css                 1.0  0.000000  0.000000   1131.0\n",
       "objective-c         1.0  0.000000  0.000000    888.0\n",
       "c                   1.0  0.000000  0.000000    885.0\n",
       "sql                 1.0  0.000000  0.000000    870.0\n",
       "iphone              1.0  0.000000  0.000000    807.0\n",
       "asp.net             1.0  0.000000  0.000000    805.0\n",
       "mysql               1.0  0.000000  0.000000    685.0\n",
       "linux               1.0  0.000000  0.000000    680.0\n",
       "node.js             1.0  0.000000  0.000000    682.0\n",
       "git                 1.0  0.000000  0.000000    274.0\n",
       "micro avg           1.0  0.000000  0.000000  33044.0\n",
       "macro avg           1.0  0.000000  0.000000  33044.0\n",
       "weighted avg        1.0  0.000000  0.000000  33044.0\n",
       "samples avg         1.0  0.207322  0.207322  33044.0"
      ]
     },
     "execution_count": 17,
     "metadata": {},
     "output_type": "execute_result"
    }
   ],
   "source": [
    "p5_nlp_utils.Commun.save_score(\n",
    "    y_true=y_test,\n",
    "    y_pred=y_test.replace([True], False),\n",
    "    target_names=target_names,\n",
    "    zero_division=1,  # because TruePositif=0\n",
    ")"
   ]
  },
  {
   "cell_type": "markdown",
   "id": "dc78f10c",
   "metadata": {
    "papermill": {
     "duration": 0.018213,
     "end_time": "2023-01-29T23:26:12.759655",
     "exception": false,
     "start_time": "2023-01-29T23:26:12.741442",
     "status": "completed"
    },
    "tags": []
   },
   "source": [
    "Avec prédire toujours vrai"
   ]
  },
  {
   "cell_type": "code",
   "execution_count": 18,
   "id": "af03f5c7",
   "metadata": {
    "_kg_hide-input": false,
    "_kg_hide-output": true,
    "execution": {
     "iopub.execute_input": "2023-01-29T23:26:12.797286Z",
     "iopub.status.busy": "2023-01-29T23:26:12.796384Z",
     "iopub.status.idle": "2023-01-29T23:26:13.039337Z",
     "shell.execute_reply": "2023-01-29T23:26:13.038424Z"
    },
    "papermill": {
     "duration": 0.263746,
     "end_time": "2023-01-29T23:26:13.041333",
     "exception": false,
     "start_time": "2023-01-29T23:26:12.777587",
     "status": "completed"
    },
    "tags": []
   },
   "outputs": [
    {
     "data": {
      "text/html": [
       "<div>\n",
       "<style scoped>\n",
       "    .dataframe tbody tr th:only-of-type {\n",
       "        vertical-align: middle;\n",
       "    }\n",
       "\n",
       "    .dataframe tbody tr th {\n",
       "        vertical-align: top;\n",
       "    }\n",
       "\n",
       "    .dataframe thead th {\n",
       "        text-align: right;\n",
       "    }\n",
       "</style>\n",
       "<table border=\"1\" class=\"dataframe\">\n",
       "  <thead>\n",
       "    <tr style=\"text-align: right;\">\n",
       "      <th></th>\n",
       "      <th>precision</th>\n",
       "      <th>recall</th>\n",
       "      <th>f1-score</th>\n",
       "      <th>support</th>\n",
       "    </tr>\n",
       "  </thead>\n",
       "  <tbody>\n",
       "    <tr>\n",
       "      <th>java</th>\n",
       "      <td>0.120158</td>\n",
       "      <td>1.000000</td>\n",
       "      <td>0.214538</td>\n",
       "      <td>3558.0</td>\n",
       "    </tr>\n",
       "    <tr>\n",
       "      <th>c#</th>\n",
       "      <td>0.117287</td>\n",
       "      <td>1.000000</td>\n",
       "      <td>0.209950</td>\n",
       "      <td>3473.0</td>\n",
       "    </tr>\n",
       "    <tr>\n",
       "      <th>javascript</th>\n",
       "      <td>0.113336</td>\n",
       "      <td>1.000000</td>\n",
       "      <td>0.203598</td>\n",
       "      <td>3356.0</td>\n",
       "    </tr>\n",
       "    <tr>\n",
       "      <th>python</th>\n",
       "      <td>0.088210</td>\n",
       "      <td>1.000000</td>\n",
       "      <td>0.162120</td>\n",
       "      <td>2612.0</td>\n",
       "    </tr>\n",
       "    <tr>\n",
       "      <th>android</th>\n",
       "      <td>0.069062</td>\n",
       "      <td>1.000000</td>\n",
       "      <td>0.129201</td>\n",
       "      <td>2045.0</td>\n",
       "    </tr>\n",
       "    <tr>\n",
       "      <th>c++</th>\n",
       "      <td>0.066327</td>\n",
       "      <td>1.000000</td>\n",
       "      <td>0.124402</td>\n",
       "      <td>1964.0</td>\n",
       "    </tr>\n",
       "    <tr>\n",
       "      <th>ios</th>\n",
       "      <td>0.062139</td>\n",
       "      <td>1.000000</td>\n",
       "      <td>0.117007</td>\n",
       "      <td>1840.0</td>\n",
       "    </tr>\n",
       "    <tr>\n",
       "      <th>html</th>\n",
       "      <td>0.059269</td>\n",
       "      <td>1.000000</td>\n",
       "      <td>0.111905</td>\n",
       "      <td>1755.0</td>\n",
       "    </tr>\n",
       "    <tr>\n",
       "      <th>php</th>\n",
       "      <td>0.054946</td>\n",
       "      <td>1.000000</td>\n",
       "      <td>0.104168</td>\n",
       "      <td>1627.0</td>\n",
       "    </tr>\n",
       "    <tr>\n",
       "      <th>.net</th>\n",
       "      <td>0.052987</td>\n",
       "      <td>1.000000</td>\n",
       "      <td>0.100641</td>\n",
       "      <td>1569.0</td>\n",
       "    </tr>\n",
       "    <tr>\n",
       "      <th>jquery</th>\n",
       "      <td>0.051940</td>\n",
       "      <td>1.000000</td>\n",
       "      <td>0.098751</td>\n",
       "      <td>1538.0</td>\n",
       "    </tr>\n",
       "    <tr>\n",
       "      <th>css</th>\n",
       "      <td>0.038195</td>\n",
       "      <td>1.000000</td>\n",
       "      <td>0.073580</td>\n",
       "      <td>1131.0</td>\n",
       "    </tr>\n",
       "    <tr>\n",
       "      <th>objective-c</th>\n",
       "      <td>0.029989</td>\n",
       "      <td>1.000000</td>\n",
       "      <td>0.058231</td>\n",
       "      <td>888.0</td>\n",
       "    </tr>\n",
       "    <tr>\n",
       "      <th>c</th>\n",
       "      <td>0.029888</td>\n",
       "      <td>1.000000</td>\n",
       "      <td>0.058040</td>\n",
       "      <td>885.0</td>\n",
       "    </tr>\n",
       "    <tr>\n",
       "      <th>sql</th>\n",
       "      <td>0.029381</td>\n",
       "      <td>1.000000</td>\n",
       "      <td>0.057085</td>\n",
       "      <td>870.0</td>\n",
       "    </tr>\n",
       "    <tr>\n",
       "      <th>iphone</th>\n",
       "      <td>0.027253</td>\n",
       "      <td>1.000000</td>\n",
       "      <td>0.053061</td>\n",
       "      <td>807.0</td>\n",
       "    </tr>\n",
       "    <tr>\n",
       "      <th>asp.net</th>\n",
       "      <td>0.027186</td>\n",
       "      <td>1.000000</td>\n",
       "      <td>0.052933</td>\n",
       "      <td>805.0</td>\n",
       "    </tr>\n",
       "    <tr>\n",
       "      <th>mysql</th>\n",
       "      <td>0.023133</td>\n",
       "      <td>1.000000</td>\n",
       "      <td>0.045220</td>\n",
       "      <td>685.0</td>\n",
       "    </tr>\n",
       "    <tr>\n",
       "      <th>linux</th>\n",
       "      <td>0.022964</td>\n",
       "      <td>1.000000</td>\n",
       "      <td>0.044898</td>\n",
       "      <td>680.0</td>\n",
       "    </tr>\n",
       "    <tr>\n",
       "      <th>node.js</th>\n",
       "      <td>0.023032</td>\n",
       "      <td>1.000000</td>\n",
       "      <td>0.045027</td>\n",
       "      <td>682.0</td>\n",
       "    </tr>\n",
       "    <tr>\n",
       "      <th>git</th>\n",
       "      <td>0.009253</td>\n",
       "      <td>1.000000</td>\n",
       "      <td>0.018337</td>\n",
       "      <td>274.0</td>\n",
       "    </tr>\n",
       "    <tr>\n",
       "      <th>micro avg</th>\n",
       "      <td>0.053140</td>\n",
       "      <td>1.000000</td>\n",
       "      <td>0.100917</td>\n",
       "      <td>33044.0</td>\n",
       "    </tr>\n",
       "    <tr>\n",
       "      <th>macro avg</th>\n",
       "      <td>0.053140</td>\n",
       "      <td>1.000000</td>\n",
       "      <td>0.099176</td>\n",
       "      <td>33044.0</td>\n",
       "    </tr>\n",
       "    <tr>\n",
       "      <th>weighted avg</th>\n",
       "      <td>0.072731</td>\n",
       "      <td>1.000000</td>\n",
       "      <td>0.133680</td>\n",
       "      <td>33044.0</td>\n",
       "    </tr>\n",
       "    <tr>\n",
       "      <th>samples avg</th>\n",
       "      <td>0.053140</td>\n",
       "      <td>0.792678</td>\n",
       "      <td>0.098364</td>\n",
       "      <td>33044.0</td>\n",
       "    </tr>\n",
       "  </tbody>\n",
       "</table>\n",
       "</div>"
      ],
      "text/plain": [
       "              precision    recall  f1-score  support\n",
       "java           0.120158  1.000000  0.214538   3558.0\n",
       "c#             0.117287  1.000000  0.209950   3473.0\n",
       "javascript     0.113336  1.000000  0.203598   3356.0\n",
       "python         0.088210  1.000000  0.162120   2612.0\n",
       "android        0.069062  1.000000  0.129201   2045.0\n",
       "c++            0.066327  1.000000  0.124402   1964.0\n",
       "ios            0.062139  1.000000  0.117007   1840.0\n",
       "html           0.059269  1.000000  0.111905   1755.0\n",
       "php            0.054946  1.000000  0.104168   1627.0\n",
       ".net           0.052987  1.000000  0.100641   1569.0\n",
       "jquery         0.051940  1.000000  0.098751   1538.0\n",
       "css            0.038195  1.000000  0.073580   1131.0\n",
       "objective-c    0.029989  1.000000  0.058231    888.0\n",
       "c              0.029888  1.000000  0.058040    885.0\n",
       "sql            0.029381  1.000000  0.057085    870.0\n",
       "iphone         0.027253  1.000000  0.053061    807.0\n",
       "asp.net        0.027186  1.000000  0.052933    805.0\n",
       "mysql          0.023133  1.000000  0.045220    685.0\n",
       "linux          0.022964  1.000000  0.044898    680.0\n",
       "node.js        0.023032  1.000000  0.045027    682.0\n",
       "git            0.009253  1.000000  0.018337    274.0\n",
       "micro avg      0.053140  1.000000  0.100917  33044.0\n",
       "macro avg      0.053140  1.000000  0.099176  33044.0\n",
       "weighted avg   0.072731  1.000000  0.133680  33044.0\n",
       "samples avg    0.053140  0.792678  0.098364  33044.0"
      ]
     },
     "execution_count": 18,
     "metadata": {},
     "output_type": "execute_result"
    }
   ],
   "source": [
    "p5_nlp_utils.Commun.save_score(\n",
    "    y_true=y_test, y_pred=y_test.replace([False], True), target_names=target_names\n",
    ")"
   ]
  },
  {
   "cell_type": "markdown",
   "id": "24dcde5d",
   "metadata": {
    "papermill": {
     "duration": 0.017998,
     "end_time": "2023-01-29T23:26:13.078383",
     "exception": false,
     "start_time": "2023-01-29T23:26:13.060385",
     "status": "completed"
    },
    "tags": []
   },
   "source": [
    "### Methode naive le tag est dans la question:"
   ]
  },
  {
   "cell_type": "code",
   "execution_count": 19,
   "id": "16305281",
   "metadata": {
    "_kg_hide-input": false,
    "_kg_hide-output": true,
    "execution": {
     "iopub.execute_input": "2023-01-29T23:26:13.116077Z",
     "iopub.status.busy": "2023-01-29T23:26:13.115213Z",
     "iopub.status.idle": "2023-01-29T23:26:13.752077Z",
     "shell.execute_reply": "2023-01-29T23:26:13.751139Z"
    },
    "papermill": {
     "duration": 0.657883,
     "end_time": "2023-01-29T23:26:13.754157",
     "exception": false,
     "start_time": "2023-01-29T23:26:13.096274",
     "status": "completed"
    },
    "tags": []
   },
   "outputs": [
    {
     "data": {
      "text/html": [
       "<div>\n",
       "<style scoped>\n",
       "    .dataframe tbody tr th:only-of-type {\n",
       "        vertical-align: middle;\n",
       "    }\n",
       "\n",
       "    .dataframe tbody tr th {\n",
       "        vertical-align: top;\n",
       "    }\n",
       "\n",
       "    .dataframe thead th {\n",
       "        text-align: right;\n",
       "    }\n",
       "</style>\n",
       "<table border=\"1\" class=\"dataframe\">\n",
       "  <thead>\n",
       "    <tr style=\"text-align: right;\">\n",
       "      <th></th>\n",
       "      <th>0</th>\n",
       "      <th>1</th>\n",
       "      <th>2</th>\n",
       "      <th>3</th>\n",
       "      <th>4</th>\n",
       "      <th>5</th>\n",
       "      <th>6</th>\n",
       "      <th>7</th>\n",
       "      <th>8</th>\n",
       "      <th>9</th>\n",
       "    </tr>\n",
       "  </thead>\n",
       "  <tbody>\n",
       "    <tr>\n",
       "      <th>java</th>\n",
       "      <td>False</td>\n",
       "      <td>False</td>\n",
       "      <td>False</td>\n",
       "      <td>False</td>\n",
       "      <td>True</td>\n",
       "      <td>False</td>\n",
       "      <td>False</td>\n",
       "      <td>False</td>\n",
       "      <td>False</td>\n",
       "      <td>False</td>\n",
       "    </tr>\n",
       "    <tr>\n",
       "      <th>c#</th>\n",
       "      <td>False</td>\n",
       "      <td>False</td>\n",
       "      <td>False</td>\n",
       "      <td>False</td>\n",
       "      <td>False</td>\n",
       "      <td>False</td>\n",
       "      <td>False</td>\n",
       "      <td>False</td>\n",
       "      <td>False</td>\n",
       "      <td>False</td>\n",
       "    </tr>\n",
       "    <tr>\n",
       "      <th>javascript</th>\n",
       "      <td>False</td>\n",
       "      <td>False</td>\n",
       "      <td>False</td>\n",
       "      <td>True</td>\n",
       "      <td>False</td>\n",
       "      <td>False</td>\n",
       "      <td>False</td>\n",
       "      <td>False</td>\n",
       "      <td>False</td>\n",
       "      <td>True</td>\n",
       "    </tr>\n",
       "    <tr>\n",
       "      <th>python</th>\n",
       "      <td>True</td>\n",
       "      <td>False</td>\n",
       "      <td>False</td>\n",
       "      <td>False</td>\n",
       "      <td>False</td>\n",
       "      <td>False</td>\n",
       "      <td>False</td>\n",
       "      <td>False</td>\n",
       "      <td>False</td>\n",
       "      <td>False</td>\n",
       "    </tr>\n",
       "    <tr>\n",
       "      <th>android</th>\n",
       "      <td>False</td>\n",
       "      <td>False</td>\n",
       "      <td>False</td>\n",
       "      <td>False</td>\n",
       "      <td>False</td>\n",
       "      <td>False</td>\n",
       "      <td>False</td>\n",
       "      <td>False</td>\n",
       "      <td>False</td>\n",
       "      <td>False</td>\n",
       "    </tr>\n",
       "    <tr>\n",
       "      <th>c++</th>\n",
       "      <td>False</td>\n",
       "      <td>False</td>\n",
       "      <td>False</td>\n",
       "      <td>False</td>\n",
       "      <td>True</td>\n",
       "      <td>False</td>\n",
       "      <td>False</td>\n",
       "      <td>False</td>\n",
       "      <td>False</td>\n",
       "      <td>False</td>\n",
       "    </tr>\n",
       "    <tr>\n",
       "      <th>ios</th>\n",
       "      <td>False</td>\n",
       "      <td>False</td>\n",
       "      <td>False</td>\n",
       "      <td>False</td>\n",
       "      <td>False</td>\n",
       "      <td>False</td>\n",
       "      <td>False</td>\n",
       "      <td>False</td>\n",
       "      <td>False</td>\n",
       "      <td>False</td>\n",
       "    </tr>\n",
       "    <tr>\n",
       "      <th>html</th>\n",
       "      <td>False</td>\n",
       "      <td>False</td>\n",
       "      <td>False</td>\n",
       "      <td>False</td>\n",
       "      <td>False</td>\n",
       "      <td>False</td>\n",
       "      <td>False</td>\n",
       "      <td>False</td>\n",
       "      <td>False</td>\n",
       "      <td>False</td>\n",
       "    </tr>\n",
       "    <tr>\n",
       "      <th>php</th>\n",
       "      <td>False</td>\n",
       "      <td>False</td>\n",
       "      <td>False</td>\n",
       "      <td>True</td>\n",
       "      <td>False</td>\n",
       "      <td>False</td>\n",
       "      <td>False</td>\n",
       "      <td>False</td>\n",
       "      <td>False</td>\n",
       "      <td>False</td>\n",
       "    </tr>\n",
       "    <tr>\n",
       "      <th>.net</th>\n",
       "      <td>False</td>\n",
       "      <td>False</td>\n",
       "      <td>False</td>\n",
       "      <td>False</td>\n",
       "      <td>False</td>\n",
       "      <td>False</td>\n",
       "      <td>False</td>\n",
       "      <td>False</td>\n",
       "      <td>False</td>\n",
       "      <td>False</td>\n",
       "    </tr>\n",
       "    <tr>\n",
       "      <th>jquery</th>\n",
       "      <td>False</td>\n",
       "      <td>False</td>\n",
       "      <td>False</td>\n",
       "      <td>False</td>\n",
       "      <td>False</td>\n",
       "      <td>False</td>\n",
       "      <td>False</td>\n",
       "      <td>False</td>\n",
       "      <td>False</td>\n",
       "      <td>False</td>\n",
       "    </tr>\n",
       "    <tr>\n",
       "      <th>css</th>\n",
       "      <td>False</td>\n",
       "      <td>False</td>\n",
       "      <td>False</td>\n",
       "      <td>False</td>\n",
       "      <td>False</td>\n",
       "      <td>False</td>\n",
       "      <td>False</td>\n",
       "      <td>False</td>\n",
       "      <td>False</td>\n",
       "      <td>False</td>\n",
       "    </tr>\n",
       "    <tr>\n",
       "      <th>objective-c</th>\n",
       "      <td>False</td>\n",
       "      <td>False</td>\n",
       "      <td>False</td>\n",
       "      <td>False</td>\n",
       "      <td>False</td>\n",
       "      <td>False</td>\n",
       "      <td>False</td>\n",
       "      <td>False</td>\n",
       "      <td>False</td>\n",
       "      <td>False</td>\n",
       "    </tr>\n",
       "    <tr>\n",
       "      <th>c</th>\n",
       "      <td>False</td>\n",
       "      <td>False</td>\n",
       "      <td>False</td>\n",
       "      <td>False</td>\n",
       "      <td>True</td>\n",
       "      <td>False</td>\n",
       "      <td>False</td>\n",
       "      <td>False</td>\n",
       "      <td>False</td>\n",
       "      <td>False</td>\n",
       "    </tr>\n",
       "    <tr>\n",
       "      <th>sql</th>\n",
       "      <td>False</td>\n",
       "      <td>False</td>\n",
       "      <td>True</td>\n",
       "      <td>False</td>\n",
       "      <td>False</td>\n",
       "      <td>False</td>\n",
       "      <td>False</td>\n",
       "      <td>False</td>\n",
       "      <td>False</td>\n",
       "      <td>False</td>\n",
       "    </tr>\n",
       "    <tr>\n",
       "      <th>iphone</th>\n",
       "      <td>False</td>\n",
       "      <td>False</td>\n",
       "      <td>False</td>\n",
       "      <td>False</td>\n",
       "      <td>False</td>\n",
       "      <td>False</td>\n",
       "      <td>False</td>\n",
       "      <td>False</td>\n",
       "      <td>False</td>\n",
       "      <td>False</td>\n",
       "    </tr>\n",
       "    <tr>\n",
       "      <th>asp.net</th>\n",
       "      <td>False</td>\n",
       "      <td>False</td>\n",
       "      <td>False</td>\n",
       "      <td>False</td>\n",
       "      <td>False</td>\n",
       "      <td>False</td>\n",
       "      <td>False</td>\n",
       "      <td>False</td>\n",
       "      <td>False</td>\n",
       "      <td>False</td>\n",
       "    </tr>\n",
       "    <tr>\n",
       "      <th>mysql</th>\n",
       "      <td>False</td>\n",
       "      <td>False</td>\n",
       "      <td>True</td>\n",
       "      <td>False</td>\n",
       "      <td>False</td>\n",
       "      <td>False</td>\n",
       "      <td>False</td>\n",
       "      <td>False</td>\n",
       "      <td>False</td>\n",
       "      <td>False</td>\n",
       "    </tr>\n",
       "    <tr>\n",
       "      <th>linux</th>\n",
       "      <td>False</td>\n",
       "      <td>False</td>\n",
       "      <td>False</td>\n",
       "      <td>False</td>\n",
       "      <td>False</td>\n",
       "      <td>True</td>\n",
       "      <td>False</td>\n",
       "      <td>False</td>\n",
       "      <td>False</td>\n",
       "      <td>False</td>\n",
       "    </tr>\n",
       "    <tr>\n",
       "      <th>node.js</th>\n",
       "      <td>False</td>\n",
       "      <td>False</td>\n",
       "      <td>False</td>\n",
       "      <td>False</td>\n",
       "      <td>False</td>\n",
       "      <td>False</td>\n",
       "      <td>False</td>\n",
       "      <td>False</td>\n",
       "      <td>False</td>\n",
       "      <td>False</td>\n",
       "    </tr>\n",
       "    <tr>\n",
       "      <th>git</th>\n",
       "      <td>False</td>\n",
       "      <td>False</td>\n",
       "      <td>False</td>\n",
       "      <td>False</td>\n",
       "      <td>False</td>\n",
       "      <td>False</td>\n",
       "      <td>False</td>\n",
       "      <td>False</td>\n",
       "      <td>False</td>\n",
       "      <td>False</td>\n",
       "    </tr>\n",
       "  </tbody>\n",
       "</table>\n",
       "</div>"
      ],
      "text/plain": [
       "                 0      1      2      3      4      5      6      7      8  \\\n",
       "java         False  False  False  False   True  False  False  False  False   \n",
       "c#           False  False  False  False  False  False  False  False  False   \n",
       "javascript   False  False  False   True  False  False  False  False  False   \n",
       "python        True  False  False  False  False  False  False  False  False   \n",
       "android      False  False  False  False  False  False  False  False  False   \n",
       "c++          False  False  False  False   True  False  False  False  False   \n",
       "ios          False  False  False  False  False  False  False  False  False   \n",
       "html         False  False  False  False  False  False  False  False  False   \n",
       "php          False  False  False   True  False  False  False  False  False   \n",
       ".net         False  False  False  False  False  False  False  False  False   \n",
       "jquery       False  False  False  False  False  False  False  False  False   \n",
       "css          False  False  False  False  False  False  False  False  False   \n",
       "objective-c  False  False  False  False  False  False  False  False  False   \n",
       "c            False  False  False  False   True  False  False  False  False   \n",
       "sql          False  False   True  False  False  False  False  False  False   \n",
       "iphone       False  False  False  False  False  False  False  False  False   \n",
       "asp.net      False  False  False  False  False  False  False  False  False   \n",
       "mysql        False  False   True  False  False  False  False  False  False   \n",
       "linux        False  False  False  False  False   True  False  False  False   \n",
       "node.js      False  False  False  False  False  False  False  False  False   \n",
       "git          False  False  False  False  False  False  False  False  False   \n",
       "\n",
       "                 9  \n",
       "java         False  \n",
       "c#           False  \n",
       "javascript    True  \n",
       "python       False  \n",
       "android      False  \n",
       "c++          False  \n",
       "ios          False  \n",
       "html         False  \n",
       "php          False  \n",
       ".net         False  \n",
       "jquery       False  \n",
       "css          False  \n",
       "objective-c  False  \n",
       "c            False  \n",
       "sql          False  \n",
       "iphone       False  \n",
       "asp.net      False  \n",
       "mysql        False  \n",
       "linux        False  \n",
       "node.js      False  \n",
       "git          False  "
      ]
     },
     "execution_count": 19,
     "metadata": {},
     "output_type": "execute_result"
    }
   ],
   "source": [
    "test_str = X_test.str\n",
    "pred_is_in = pd.DataFrame(\n",
    "    {\n",
    "        target_name: test_str.contains(\n",
    "            f\" {target_name} \", case=False, regex=False\n",
    "        ).values\n",
    "        for target_name in target_names\n",
    "    }\n",
    ")\n",
    "pred_is_in.head(10).T"
   ]
  },
  {
   "cell_type": "code",
   "execution_count": 20,
   "id": "e6c62781",
   "metadata": {
    "_kg_hide-input": false,
    "_kg_hide-output": true,
    "execution": {
     "iopub.execute_input": "2023-01-29T23:26:13.793617Z",
     "iopub.status.busy": "2023-01-29T23:26:13.792776Z",
     "iopub.status.idle": "2023-01-29T23:26:13.865947Z",
     "shell.execute_reply": "2023-01-29T23:26:13.864564Z"
    },
    "papermill": {
     "duration": 0.095499,
     "end_time": "2023-01-29T23:26:13.868831",
     "exception": false,
     "start_time": "2023-01-29T23:26:13.773332",
     "status": "completed"
    },
    "tags": []
   },
   "outputs": [
    {
     "data": {
      "text/html": [
       "<div>\n",
       "<style scoped>\n",
       "    .dataframe tbody tr th:only-of-type {\n",
       "        vertical-align: middle;\n",
       "    }\n",
       "\n",
       "    .dataframe tbody tr th {\n",
       "        vertical-align: top;\n",
       "    }\n",
       "\n",
       "    .dataframe thead th {\n",
       "        text-align: right;\n",
       "    }\n",
       "</style>\n",
       "<table border=\"1\" class=\"dataframe\">\n",
       "  <thead>\n",
       "    <tr style=\"text-align: right;\">\n",
       "      <th></th>\n",
       "      <th>precision</th>\n",
       "      <th>recall</th>\n",
       "      <th>f1-score</th>\n",
       "      <th>support</th>\n",
       "    </tr>\n",
       "  </thead>\n",
       "  <tbody>\n",
       "    <tr>\n",
       "      <th>git</th>\n",
       "      <td>0.724138</td>\n",
       "      <td>0.766423</td>\n",
       "      <td>0.744681</td>\n",
       "      <td>274.0</td>\n",
       "    </tr>\n",
       "    <tr>\n",
       "      <th>mysql</th>\n",
       "      <td>0.742373</td>\n",
       "      <td>0.639416</td>\n",
       "      <td>0.687059</td>\n",
       "      <td>685.0</td>\n",
       "    </tr>\n",
       "    <tr>\n",
       "      <th>python</th>\n",
       "      <td>0.885378</td>\n",
       "      <td>0.547090</td>\n",
       "      <td>0.676290</td>\n",
       "      <td>2612.0</td>\n",
       "    </tr>\n",
       "    <tr>\n",
       "      <th>android</th>\n",
       "      <td>0.870266</td>\n",
       "      <td>0.528117</td>\n",
       "      <td>0.657334</td>\n",
       "      <td>2045.0</td>\n",
       "    </tr>\n",
       "    <tr>\n",
       "      <th>php</th>\n",
       "      <td>0.839885</td>\n",
       "      <td>0.538414</td>\n",
       "      <td>0.656180</td>\n",
       "      <td>1627.0</td>\n",
       "    </tr>\n",
       "    <tr>\n",
       "      <th>jquery</th>\n",
       "      <td>0.809129</td>\n",
       "      <td>0.507152</td>\n",
       "      <td>0.623501</td>\n",
       "      <td>1538.0</td>\n",
       "    </tr>\n",
       "    <tr>\n",
       "      <th>c++</th>\n",
       "      <td>0.820965</td>\n",
       "      <td>0.450611</td>\n",
       "      <td>0.581854</td>\n",
       "      <td>1964.0</td>\n",
       "    </tr>\n",
       "    <tr>\n",
       "      <th>css</th>\n",
       "      <td>0.718182</td>\n",
       "      <td>0.488948</td>\n",
       "      <td>0.581799</td>\n",
       "      <td>1131.0</td>\n",
       "    </tr>\n",
       "    <tr>\n",
       "      <th>java</th>\n",
       "      <td>0.786381</td>\n",
       "      <td>0.402473</td>\n",
       "      <td>0.532441</td>\n",
       "      <td>3558.0</td>\n",
       "    </tr>\n",
       "    <tr>\n",
       "      <th>linux</th>\n",
       "      <td>0.479042</td>\n",
       "      <td>0.470588</td>\n",
       "      <td>0.474777</td>\n",
       "      <td>680.0</td>\n",
       "    </tr>\n",
       "    <tr>\n",
       "      <th>micro avg</th>\n",
       "      <td>0.660857</td>\n",
       "      <td>0.368327</td>\n",
       "      <td>0.473018</td>\n",
       "      <td>33044.0</td>\n",
       "    </tr>\n",
       "    <tr>\n",
       "      <th>macro avg</th>\n",
       "      <td>0.616749</td>\n",
       "      <td>0.402217</td>\n",
       "      <td>0.464462</td>\n",
       "      <td>33044.0</td>\n",
       "    </tr>\n",
       "    <tr>\n",
       "      <th>weighted avg</th>\n",
       "      <td>0.630639</td>\n",
       "      <td>0.368327</td>\n",
       "      <td>0.450918</td>\n",
       "      <td>33044.0</td>\n",
       "    </tr>\n",
       "    <tr>\n",
       "      <th>sql</th>\n",
       "      <td>0.424923</td>\n",
       "      <td>0.478161</td>\n",
       "      <td>0.449973</td>\n",
       "      <td>870.0</td>\n",
       "    </tr>\n",
       "    <tr>\n",
       "      <th>html</th>\n",
       "      <td>0.485935</td>\n",
       "      <td>0.393732</td>\n",
       "      <td>0.435002</td>\n",
       "      <td>1755.0</td>\n",
       "    </tr>\n",
       "    <tr>\n",
       "      <th>asp.net</th>\n",
       "      <td>0.535780</td>\n",
       "      <td>0.362733</td>\n",
       "      <td>0.432593</td>\n",
       "      <td>805.0</td>\n",
       "    </tr>\n",
       "    <tr>\n",
       "      <th>iphone</th>\n",
       "      <td>0.594655</td>\n",
       "      <td>0.330855</td>\n",
       "      <td>0.425159</td>\n",
       "      <td>807.0</td>\n",
       "    </tr>\n",
       "    <tr>\n",
       "      <th>ios</th>\n",
       "      <td>0.786451</td>\n",
       "      <td>0.290217</td>\n",
       "      <td>0.423978</td>\n",
       "      <td>1840.0</td>\n",
       "    </tr>\n",
       "    <tr>\n",
       "      <th>javascript</th>\n",
       "      <td>0.782258</td>\n",
       "      <td>0.289035</td>\n",
       "      <td>0.422106</td>\n",
       "      <td>3356.0</td>\n",
       "    </tr>\n",
       "    <tr>\n",
       "      <th>.net</th>\n",
       "      <td>0.556604</td>\n",
       "      <td>0.263225</td>\n",
       "      <td>0.357421</td>\n",
       "      <td>1569.0</td>\n",
       "    </tr>\n",
       "    <tr>\n",
       "      <th>c</th>\n",
       "      <td>0.218765</td>\n",
       "      <td>0.532203</td>\n",
       "      <td>0.310072</td>\n",
       "      <td>885.0</td>\n",
       "    </tr>\n",
       "    <tr>\n",
       "      <th>samples avg</th>\n",
       "      <td>0.321445</td>\n",
       "      <td>0.300505</td>\n",
       "      <td>0.299495</td>\n",
       "      <td>33044.0</td>\n",
       "    </tr>\n",
       "    <tr>\n",
       "      <th>node.js</th>\n",
       "      <td>0.890625</td>\n",
       "      <td>0.167155</td>\n",
       "      <td>0.281481</td>\n",
       "      <td>682.0</td>\n",
       "    </tr>\n",
       "    <tr>\n",
       "      <th>c#</th>\n",
       "      <td>0.000000</td>\n",
       "      <td>0.000000</td>\n",
       "      <td>0.000000</td>\n",
       "      <td>3473.0</td>\n",
       "    </tr>\n",
       "    <tr>\n",
       "      <th>objective-c</th>\n",
       "      <td>0.000000</td>\n",
       "      <td>0.000000</td>\n",
       "      <td>0.000000</td>\n",
       "      <td>888.0</td>\n",
       "    </tr>\n",
       "  </tbody>\n",
       "</table>\n",
       "</div>"
      ],
      "text/plain": [
       "              precision    recall  f1-score  support\n",
       "git            0.724138  0.766423  0.744681    274.0\n",
       "mysql          0.742373  0.639416  0.687059    685.0\n",
       "python         0.885378  0.547090  0.676290   2612.0\n",
       "android        0.870266  0.528117  0.657334   2045.0\n",
       "php            0.839885  0.538414  0.656180   1627.0\n",
       "jquery         0.809129  0.507152  0.623501   1538.0\n",
       "c++            0.820965  0.450611  0.581854   1964.0\n",
       "css            0.718182  0.488948  0.581799   1131.0\n",
       "java           0.786381  0.402473  0.532441   3558.0\n",
       "linux          0.479042  0.470588  0.474777    680.0\n",
       "micro avg      0.660857  0.368327  0.473018  33044.0\n",
       "macro avg      0.616749  0.402217  0.464462  33044.0\n",
       "weighted avg   0.630639  0.368327  0.450918  33044.0\n",
       "sql            0.424923  0.478161  0.449973    870.0\n",
       "html           0.485935  0.393732  0.435002   1755.0\n",
       "asp.net        0.535780  0.362733  0.432593    805.0\n",
       "iphone         0.594655  0.330855  0.425159    807.0\n",
       "ios            0.786451  0.290217  0.423978   1840.0\n",
       "javascript     0.782258  0.289035  0.422106   3356.0\n",
       ".net           0.556604  0.263225  0.357421   1569.0\n",
       "c              0.218765  0.532203  0.310072    885.0\n",
       "samples avg    0.321445  0.300505  0.299495  33044.0\n",
       "node.js        0.890625  0.167155  0.281481    682.0\n",
       "c#             0.000000  0.000000  0.000000   3473.0\n",
       "objective-c    0.000000  0.000000  0.000000    888.0"
      ]
     },
     "execution_count": 20,
     "metadata": {},
     "output_type": "execute_result"
    }
   ],
   "source": [
    "score_naive_is_in = p5_nlp_utils.Commun.save_score(\n",
    "    y_test, pred_is_in, target_names, \"naive_is_in\"\n",
    ")\n",
    "score_naive_is_in.sort_values(by=\"f1-score\", ascending=False)"
   ]
  },
  {
   "cell_type": "markdown",
   "id": "7d2b51ac",
   "metadata": {
    "papermill": {
     "duration": 0.018963,
     "end_time": "2023-01-29T23:26:13.907447",
     "exception": false,
     "start_time": "2023-01-29T23:26:13.888484",
     "status": "completed"
    },
    "tags": []
   },
   "source": [
    "# CountVectorizer"
   ]
  },
  {
   "cell_type": "code",
   "execution_count": 21,
   "id": "ffe31e0d",
   "metadata": {
    "execution": {
     "iopub.execute_input": "2023-01-29T23:26:13.947882Z",
     "iopub.status.busy": "2023-01-29T23:26:13.947515Z",
     "iopub.status.idle": "2023-01-29T23:26:18.102387Z",
     "shell.execute_reply": "2023-01-29T23:26:18.101385Z"
    },
    "papermill": {
     "duration": 4.184398,
     "end_time": "2023-01-29T23:26:18.111173",
     "exception": false,
     "start_time": "2023-01-29T23:26:13.926775",
     "status": "completed"
    },
    "tags": []
   },
   "outputs": [
    {
     "name": "stdout",
     "output_type": "stream",
     "text": [
      "\n",
      "******************************\n",
      " pour min_df:1e-05; max_df:0.995\n",
      "\ttokens unique:\n",
      "\t\t41253 dans title et body regroupé\n"
     ]
    }
   ],
   "source": [
    "best_min_df = description[\"CountVectorizer\"][\"min_df\"]\n",
    "best_max_df = description[\"CountVectorizer\"][\"max_df\"]\n",
    "for min_df in [0.01, 0.05, 0.005, 0.0005, 0.00001] if LONG else [best_min_df]:\n",
    "    for max_df in [0.95, 0.995, 0.9995] if LONG else [best_max_df]:\n",
    "        print(f\"\\n{'*'*30}\\n pour min_df:{min_df}; max_df:{max_df}\")\n",
    "        count_vectorizer = feature_extraction.text.CountVectorizer(\n",
    "            min_df=min_df, max_df=max_df, max_features=None\n",
    "        )\n",
    "        #         pipe = pipeline.make_pipeline(feature_extraction.text.CountVectorizer(min_df=min_df, max_df=max_df, max_features=None), feature_extraction.text.TfidfTransformer( norm=\"l2\", use_idf=True, smooth_idf=True, sublinear_tf=False))\n",
    "        #         feat_train = pipe.transform(X_train[\"Token\"])\n",
    "        #         print(feat_train.shape)\n",
    "\n",
    "        token_vectors = count_vectorizer.fit_transform(df[\"Token\"])\n",
    "        print(\n",
    "            f\"\\ttokens unique:\\n\\t\\t{token_vectors.shape[1]} dans title et body regroupé\"\n",
    "        )"
   ]
  },
  {
   "cell_type": "markdown",
   "id": "fa2fd04e",
   "metadata": {
    "papermill": {
     "duration": 0.02654,
     "end_time": "2023-01-29T23:26:18.166464",
     "exception": false,
     "start_time": "2023-01-29T23:26:18.139924",
     "status": "completed"
    },
    "tags": []
   },
   "source": [
    "### Test reduction dimension\n",
    "avec n_components=1_000 : 10% de la variance éxpliqué\n"
   ]
  },
  {
   "cell_type": "code",
   "execution_count": 22,
   "id": "5ab08de8",
   "metadata": {
    "execution": {
     "iopub.execute_input": "2023-01-29T23:26:18.234211Z",
     "iopub.status.busy": "2023-01-29T23:26:18.233687Z",
     "iopub.status.idle": "2023-01-29T23:26:18.287410Z",
     "shell.execute_reply": "2023-01-29T23:26:18.285949Z"
    },
    "papermill": {
     "duration": 0.090752,
     "end_time": "2023-01-29T23:26:18.290909",
     "exception": false,
     "start_time": "2023-01-29T23:26:18.200157",
     "status": "completed"
    },
    "tags": []
   },
   "outputs": [
    {
     "name": "stdout",
     "output_type": "stream",
     "text": [
      "CPU times: user 5 µs, sys: 0 ns, total: 5 µs\n",
      "Wall time: 9.3 µs\n"
     ]
    }
   ],
   "source": [
    "%%time\n",
    "if LONG:\n",
    "    truncSvd = decomposition.TruncatedSVD(n_components=1000).fit(\n",
    "        preprocessing.StandardScaler(with_mean=False).fit_transform(token_vectors)\n",
    "    )\n",
    "    plt.figure(figsize=(30, 15))\n",
    "    scree = truncSvd.explained_variance_ratio_ * 100\n",
    "    plt.bar(np.arange(len(scree)) + 1, scree)\n",
    "    plt.plot(np.arange(len(scree)) + 1, scree.cumsum(), c=\"red\", marker=\"o\")\n",
    "    plt.xlabel(\"rang de l'axe d'inertie\")\n",
    "    plt.ylabel(\"pourcentage variance expliquée\")\n",
    "    plt.title(\"Eboulis des valeurs propres\")\n",
    "    plt.show()"
   ]
  },
  {
   "cell_type": "markdown",
   "id": "5f556e59",
   "metadata": {
    "papermill": {
     "duration": 0.029715,
     "end_time": "2023-01-29T23:26:18.350204",
     "exception": false,
     "start_time": "2023-01-29T23:26:18.320489",
     "status": "completed"
    },
    "tags": []
   },
   "source": [
    "# PreprocessPipeline"
   ]
  },
  {
   "cell_type": "code",
   "execution_count": 23,
   "id": "ad2f03b3",
   "metadata": {
    "execution": {
     "iopub.execute_input": "2023-01-29T23:26:18.412694Z",
     "iopub.status.busy": "2023-01-29T23:26:18.412116Z",
     "iopub.status.idle": "2023-01-29T23:26:18.482273Z",
     "shell.execute_reply": "2023-01-29T23:26:18.481414Z"
    },
    "papermill": {
     "duration": 0.104728,
     "end_time": "2023-01-29T23:26:18.484953",
     "exception": false,
     "start_time": "2023-01-29T23:26:18.380225",
     "status": "completed"
    },
    "tags": []
   },
   "outputs": [],
   "source": [
    "pipeline_tfidf = pipeline.Pipeline(\n",
    "    [\n",
    "        (\n",
    "            \"count\",\n",
    "            feature_extraction.text.CountVectorizer(\n",
    "                min_df=best_min_df, max_df=best_max_df, max_features=None\n",
    "            ),\n",
    "        ),\n",
    "        (\n",
    "            \"tfidf\",\n",
    "            feature_extraction.text.TfidfTransformer(\n",
    "                norm=\"l2\", use_idf=True, smooth_idf=True, sublinear_tf=False\n",
    "            ),\n",
    "        ),\n",
    "        (\n",
    "            \"scale\",\n",
    "            preprocessing.StandardScaler(with_mean=False)\n",
    "            if description[\"StandardScaler\"][\"actif\"]\n",
    "            else \"passthrough\",\n",
    "        ),\n",
    "        (\n",
    "            \"dimReduction\",\n",
    "            decomposition.TruncatedSVD(\n",
    "                n_components=description[\"TruncatedSVD\"][\"n_components\"]\n",
    "            )\n",
    "            if description[\"TruncatedSVD\"][\"actif\"]\n",
    "            else \"passthrough\",\n",
    "        ),\n",
    "    ]\n",
    ")\n",
    "## @TODO cache\n",
    "# memory = joblib.Memory(location=\"/kaggle/working/cache_dir\", verbose=0)\n",
    "# pipeline_tfidf = memory.cache(pipeline_tfidf)"
   ]
  },
  {
   "cell_type": "markdown",
   "id": "1f13ecfb",
   "metadata": {
    "papermill": {
     "duration": 0.029849,
     "end_time": "2023-01-29T23:26:18.544654",
     "exception": false,
     "start_time": "2023-01-29T23:26:18.514805",
     "status": "completed"
    },
    "tags": []
   },
   "source": [
    "# OvsRest"
   ]
  },
  {
   "cell_type": "markdown",
   "id": "9dd89aea",
   "metadata": {
    "papermill": {
     "duration": 0.02871,
     "end_time": "2023-01-29T23:26:18.602751",
     "exception": false,
     "start_time": "2023-01-29T23:26:18.574041",
     "status": "completed"
    },
    "tags": []
   },
   "source": [
    "## LogisticRegression"
   ]
  },
  {
   "cell_type": "code",
   "execution_count": 24,
   "id": "d23888a3",
   "metadata": {
    "execution": {
     "iopub.execute_input": "2023-01-29T23:26:18.662658Z",
     "iopub.status.busy": "2023-01-29T23:26:18.662150Z",
     "iopub.status.idle": "2023-01-29T23:26:18.721554Z",
     "shell.execute_reply": "2023-01-29T23:26:18.720095Z"
    },
    "papermill": {
     "duration": 0.092403,
     "end_time": "2023-01-29T23:26:18.724607",
     "exception": false,
     "start_time": "2023-01-29T23:26:18.632204",
     "status": "completed"
    },
    "tags": []
   },
   "outputs": [
    {
     "name": "stdout",
     "output_type": "stream",
     "text": [
      "CPU times: user 6 µs, sys: 1 µs, total: 7 µs\n",
      "Wall time: 11.9 µs\n"
     ]
    }
   ],
   "source": [
    "%%time\n",
    "if description[\"LogisticRegression\"][\"actif\"]:\n",
    "    pipeline_logisticReg = pipeline.Pipeline(\n",
    "        [\n",
    "            (\"tfidf\", pipeline_tfidf),\n",
    "            (\n",
    "                \"OvRLogisticReg\",\n",
    "                multiclass.OneVsRestClassifier(\n",
    "                    linear_model.LogisticRegression(random_state=42)\n",
    "                ),\n",
    "            ),\n",
    "        ]\n",
    "    )\n",
    "    with ignore_warnings(category=exceptions.ConvergenceWarning):\n",
    "        pipeline_logisticReg.fit(X_train, y_train)\n",
    "\n",
    "    # prediction sur jeu de test\n",
    "    pred_lr = pipeline_logisticReg.predict(X_test)\n",
    "    scores_lr = p5_nlp_utils.Commun.save_score(\n",
    "        y_test, pred_lr, target_names, \"LogisticRegression\"\n",
    "    )\n",
    "\n",
    "    # enregistrement model et score\n",
    "    joblib.dump(pipeline_logisticReg, \"LogisticRegression_model.joblib\")\n",
    "    scores_lr.sort_values(by=\"f1-score\", ascending=False)"
   ]
  },
  {
   "cell_type": "markdown",
   "id": "eeee70d4",
   "metadata": {
    "papermill": {
     "duration": 0.030364,
     "end_time": "2023-01-29T23:26:18.784508",
     "exception": false,
     "start_time": "2023-01-29T23:26:18.754144",
     "status": "completed"
    },
    "tags": []
   },
   "source": [
    "## SVC"
   ]
  },
  {
   "cell_type": "code",
   "execution_count": 25,
   "id": "fa5369a9",
   "metadata": {
    "execution": {
     "iopub.execute_input": "2023-01-29T23:26:18.846674Z",
     "iopub.status.busy": "2023-01-29T23:26:18.846219Z",
     "iopub.status.idle": "2023-01-29T23:26:18.881093Z",
     "shell.execute_reply": "2023-01-29T23:26:18.880294Z"
    },
    "papermill": {
     "duration": 0.068229,
     "end_time": "2023-01-29T23:26:18.883562",
     "exception": false,
     "start_time": "2023-01-29T23:26:18.815333",
     "status": "completed"
    },
    "tags": []
   },
   "outputs": [],
   "source": [
    "pipeline_svc = pipeline.Pipeline(\n",
    "    [\n",
    "        (\"tfidf\", pipeline_tfidf),\n",
    "        (\n",
    "            \"TfidfOvRSVC\",\n",
    "            multiclass.OneVsRestClassifier(\n",
    "                svm.SVC(\n",
    "                    cache_size=1080,\n",
    "                    max_iter=description[\"TfidfOvRSVC\"][\"max_iter\"],\n",
    "                    random_state=42,\n",
    "                )\n",
    "            ),\n",
    "        ),\n",
    "    ]\n",
    ")"
   ]
  },
  {
   "cell_type": "code",
   "execution_count": 26,
   "id": "901dc27c",
   "metadata": {
    "execution": {
     "iopub.execute_input": "2023-01-29T23:26:18.943055Z",
     "iopub.status.busy": "2023-01-29T23:26:18.942781Z",
     "iopub.status.idle": "2023-01-29T23:26:18.975054Z",
     "shell.execute_reply": "2023-01-29T23:26:18.973870Z"
    },
    "papermill": {
     "duration": 0.064938,
     "end_time": "2023-01-29T23:26:18.977737",
     "exception": false,
     "start_time": "2023-01-29T23:26:18.912799",
     "status": "completed"
    },
    "tags": []
   },
   "outputs": [
    {
     "name": "stdout",
     "output_type": "stream",
     "text": [
      "CPU times: user 4 µs, sys: 1e+03 ns, total: 5 µs\n",
      "Wall time: 7.63 µs\n"
     ]
    }
   ],
   "source": [
    "%%time\n",
    "if description[\"TfidfOvRSVC\"][\"actif\"]:\n",
    "    with ignore_warnings(category=exceptions.ConvergenceWarning):\n",
    "        pipeline_svc.fit(\n",
    "            X_train,\n",
    "            y_train,\n",
    "        )\n",
    "    print(\"Fin entrainement début prédiction\")\n",
    "    pred_svc = pipeline_svc.predict(X_test)\n",
    "    #     print(pred_svc)\n",
    "    print(\"Enregistrement score et modéle\")\n",
    "    scores_svc = p5_nlp_utils.Commun.save_score(\n",
    "        y_test, pred_svc, target_names, \"TfidfOvRSVC\"\n",
    "    )\n",
    "    joblib.dump(pipeline_svc, \"TfidfOvRestSvc_model.joblib\")\n",
    "    print(scores_svc.sort_values(by=\"f1-score\", ascending=False))"
   ]
  },
  {
   "cell_type": "markdown",
   "id": "9e4f19b6",
   "metadata": {
    "papermill": {
     "duration": 0.018902,
     "end_time": "2023-01-29T23:26:19.016985",
     "exception": false,
     "start_time": "2023-01-29T23:26:18.998083",
     "status": "completed"
    },
    "tags": []
   },
   "source": [
    "# Word2Vec"
   ]
  },
  {
   "cell_type": "markdown",
   "id": "d4b1542b",
   "metadata": {
    "papermill": {
     "duration": 0.019088,
     "end_time": "2023-01-29T23:26:19.055064",
     "exception": false,
     "start_time": "2023-01-29T23:26:19.035976",
     "status": "completed"
    },
    "tags": []
   },
   "source": [
    "## Keras Model"
   ]
  },
  {
   "cell_type": "code",
   "execution_count": 27,
   "id": "bd4b601a",
   "metadata": {
    "execution": {
     "iopub.execute_input": "2023-01-29T23:26:19.095567Z",
     "iopub.status.busy": "2023-01-29T23:26:19.094779Z",
     "iopub.status.idle": "2023-01-29T23:26:24.068149Z",
     "shell.execute_reply": "2023-01-29T23:26:24.066261Z"
    },
    "papermill": {
     "duration": 4.995821,
     "end_time": "2023-01-29T23:26:24.070429",
     "exception": false,
     "start_time": "2023-01-29T23:26:19.074608",
     "status": "completed"
    },
    "tags": []
   },
   "outputs": [
    {
     "name": "stdout",
     "output_type": "stream",
     "text": [
      "{'actif': True, 'TextVectorization__max_tokens': 210000, 'TextVectorization__output_sequence_length': 256, 'Embedding__output_dim': 512, 'Word2Vec__min_count': 5, 'Word2Vec__window': 25, 'Word2Vec__epochs': 200, 'fit__learning_rate': 1e-05, 'fit__epochs': 150}\n"
     ]
    },
    {
     "name": "stderr",
     "output_type": "stream",
     "text": [
      "2023-01-29 23:26:19.241667: I tensorflow/compiler/mlir/mlir_graph_optimization_pass.cc:185] None of the MLIR Optimization Passes are enabled (registered 2)\n"
     ]
    },
    {
     "name": "stdout",
     "output_type": "stream",
     "text": [
      "CPU times: user 7.17 s, sys: 463 ms, total: 7.63 s\n",
      "Wall time: 4.94 s\n"
     ]
    }
   ],
   "source": [
    "%%time\n",
    "if description[\"Word2Vec_keras\"][\"actif\"]:\n",
    "    print(description[\"Word2Vec_keras\"])\n",
    "    ## https://www.tensorflow.org/api_docs/python/tf/keras/layers/TextVectorization\n",
    "    # because https://www.tensorflow.org/api_docs/python/tf/keras/preprocessing/text/Tokenizer deprecaded\n",
    "    vectorize_layer = tf.keras.layers.TextVectorization(\n",
    "        max_tokens=description[\"Word2Vec_keras\"][\"TextVectorization__max_tokens\"],\n",
    "        standardize=\"lower_and_strip_punctuation\",\n",
    "        split=\"whitespace\",\n",
    "        ngrams=None,\n",
    "        output_mode=\"int\",\n",
    "        output_sequence_length=description[\"Word2Vec_keras\"][\n",
    "            \"TextVectorization__output_sequence_length\"\n",
    "        ],\n",
    "    )\n",
    "    vectorize_layer.adapt(X_train)"
   ]
  },
  {
   "cell_type": "code",
   "execution_count": 28,
   "id": "b89029cb",
   "metadata": {
    "execution": {
     "iopub.execute_input": "2023-01-29T23:26:24.110977Z",
     "iopub.status.busy": "2023-01-29T23:26:24.110669Z",
     "iopub.status.idle": "2023-01-30T00:25:17.998873Z",
     "shell.execute_reply": "2023-01-30T00:25:17.997835Z"
    },
    "papermill": {
     "duration": 3533.910971,
     "end_time": "2023-01-30T00:25:18.001591",
     "exception": false,
     "start_time": "2023-01-29T23:26:24.090620",
     "status": "completed"
    },
    "tags": []
   },
   "outputs": [
    {
     "name": "stdout",
     "output_type": "stream",
     "text": [
      "Build & train Word2Vec model ...\n",
      "Vocabulary size: 20120\n",
      "Word2Vec trained\n",
      "141837 20120 704.96%\n",
      "CPU times: user 58min 35s, sys: 10.9 s, total: 58min 46s\n",
      "Wall time: 58min 53s\n"
     ]
    }
   ],
   "source": [
    "%%time\n",
    "if description[\"Word2Vec_keras\"][\"actif\"]:\n",
    "    model_vectors = p5_nlp_utils.Word2Vec.build_Word2Vec(\n",
    "        X_train, description[\"Word2Vec_keras\"]\n",
    "    )\n",
    "    print(\n",
    "        f\"{len(vectorize_layer.get_vocabulary())} {len(model_vectors.index_to_key)} {len(vectorize_layer.get_vocabulary())/len(model_vectors.index_to_key):.2%}\"\n",
    "    )"
   ]
  },
  {
   "cell_type": "code",
   "execution_count": 29,
   "id": "f3734388",
   "metadata": {
    "execution": {
     "iopub.execute_input": "2023-01-30T00:25:18.044502Z",
     "iopub.status.busy": "2023-01-30T00:25:18.044041Z",
     "iopub.status.idle": "2023-01-30T00:26:36.459403Z",
     "shell.execute_reply": "2023-01-30T00:26:36.458418Z"
    },
    "papermill": {
     "duration": 78.461001,
     "end_time": "2023-01-30T00:26:36.482912",
     "exception": false,
     "start_time": "2023-01-30T00:25:18.021911",
     "status": "completed"
    },
    "tags": []
   },
   "outputs": [
    {
     "name": "stdout",
     "output_type": "stream",
     "text": [
      "Create Embedding matrix ...\n",
      "CPU times: user 1min 16s, sys: 1.37 s, total: 1min 18s\n",
      "Wall time: 1min 18s\n"
     ]
    }
   ],
   "source": [
    "%%time\n",
    "# @TODO p5_nlp_utils.Word2Vec.get_embedding(model_vectors, vocabulary, params)\n",
    "if description[\"Word2Vec_keras\"][\"actif\"]:\n",
    "    print(\"Create Embedding matrix ...\")\n",
    "    embedding_matrix = np.asarray(\n",
    "        [\n",
    "            model_vectors[word]\n",
    "            if word in model_vectors.index_to_key\n",
    "            else np.zeros(description[\"Word2Vec_keras\"][\"Embedding__output_dim\"])\n",
    "            for word in vectorize_layer.get_vocabulary()\n",
    "        ]\n",
    "    )\n",
    "    embedding_matrix.shape"
   ]
  },
  {
   "cell_type": "code",
   "execution_count": 30,
   "id": "507f32a1",
   "metadata": {
    "execution": {
     "iopub.execute_input": "2023-01-30T00:26:36.542343Z",
     "iopub.status.busy": "2023-01-30T00:26:36.541806Z",
     "iopub.status.idle": "2023-01-30T00:26:41.528239Z",
     "shell.execute_reply": "2023-01-30T00:26:41.526419Z"
    },
    "papermill": {
     "duration": 5.01885,
     "end_time": "2023-01-30T00:26:41.530635",
     "exception": false,
     "start_time": "2023-01-30T00:26:36.511785",
     "status": "completed"
    },
    "tags": []
   },
   "outputs": [
    {
     "name": "stdout",
     "output_type": "stream",
     "text": [
      "Model: \"sequential\"\n",
      "_________________________________________________________________\n",
      "Layer (type)                 Output Shape              Param #   \n",
      "=================================================================\n",
      "text_vectorization (TextVect (None, 256)               0         \n",
      "_________________________________________________________________\n",
      "embedding (Embedding)        (None, 256, 512)          72620544  \n",
      "_________________________________________________________________\n",
      "global_average_pooling1d (Gl (None, 512)               0         \n",
      "_________________________________________________________________\n",
      "dense (Dense)                (None, 256)               131328    \n",
      "_________________________________________________________________\n",
      "dense_1 (Dense)              (None, 21)                5397      \n",
      "=================================================================\n",
      "Total params: 72,757,269\n",
      "Trainable params: 72,757,269\n",
      "Non-trainable params: 0\n",
      "_________________________________________________________________\n",
      "None\n"
     ]
    }
   ],
   "source": [
    "# https://www.tensorflow.org/text/guide/word_embeddings\n",
    "if description[\"Word2Vec_keras\"][\"actif\"]:\n",
    "    modelkerasPipeline = tf.keras.models.Sequential(\n",
    "        [\n",
    "            vectorize_layer,\n",
    "            tf.keras.layers.Embedding(\n",
    "                input_dim=len(vectorize_layer.get_vocabulary()),\n",
    "                output_dim=description[\"Word2Vec_keras\"][\"Embedding__output_dim\"],\n",
    "                weights=[embedding_matrix],\n",
    "                input_length=description[\"Word2Vec_keras\"][\n",
    "                    \"TextVectorization__output_sequence_length\"\n",
    "                ],\n",
    "            ),\n",
    "            tf.keras.layers.GlobalAveragePooling1D(),\n",
    "            tf.keras.layers.Dense(256, activation=\"relu\"),\n",
    "            tf.keras.layers.Dense(len(target_names), activation=\"sigmoid\"),\n",
    "        ]\n",
    "    )\n",
    "    # tensorboard_callback = tf.keras.callbacks.TensorBoard(log_dir=\"logs\") # for log create a dir\n",
    "    modelkerasPipeline.compile(\n",
    "        optimizer=tf.keras.optimizers.Adam(learning_rate=description[\"Word2Vec_keras\"][\"fit__learning_rate\"]),\n",
    "        loss=tf.keras.losses.BinaryCrossentropy(),\n",
    "        metrics=[\"accuracy\"],\n",
    "    )\n",
    "    print(modelkerasPipeline.summary())"
   ]
  },
  {
   "cell_type": "code",
   "execution_count": 31,
   "id": "2edf4ab6",
   "metadata": {
    "execution": {
     "iopub.execute_input": "2023-01-30T00:26:41.580840Z",
     "iopub.status.busy": "2023-01-30T00:26:41.580457Z",
     "iopub.status.idle": "2023-01-30T02:58:04.198161Z",
     "shell.execute_reply": "2023-01-30T02:58:04.197121Z"
    },
    "papermill": {
     "duration": 9082.645433,
     "end_time": "2023-01-30T02:58:04.200211",
     "exception": false,
     "start_time": "2023-01-30T00:26:41.554778",
     "status": "completed"
    },
    "tags": []
   },
   "outputs": [
    {
     "name": "stdout",
     "output_type": "stream",
     "text": [
      "Epoch 1/150\n",
      "2776/2776 [==============================] - 61s 21ms/step - loss: 0.4290 - accuracy: 0.2272\n",
      "Epoch 2/150\n",
      "2776/2776 [==============================] - 60s 21ms/step - loss: 0.1956 - accuracy: 0.3600\n",
      "Epoch 3/150\n",
      "2776/2776 [==============================] - 59s 21ms/step - loss: 0.1748 - accuracy: 0.4202\n",
      "Epoch 4/150\n",
      "2776/2776 [==============================] - 59s 21ms/step - loss: 0.1622 - accuracy: 0.4562\n",
      "Epoch 5/150\n",
      "2776/2776 [==============================] - 60s 22ms/step - loss: 0.1535 - accuracy: 0.4782\n",
      "Epoch 6/150\n",
      "2776/2776 [==============================] - 60s 21ms/step - loss: 0.1467 - accuracy: 0.4939\n",
      "Epoch 7/150\n",
      "2776/2776 [==============================] - 60s 22ms/step - loss: 0.1412 - accuracy: 0.5045\n",
      "Epoch 8/150\n",
      "2776/2776 [==============================] - 60s 21ms/step - loss: 0.1366 - accuracy: 0.5159\n",
      "Epoch 9/150\n",
      "2776/2776 [==============================] - 60s 22ms/step - loss: 0.1325 - accuracy: 0.5242\n",
      "Epoch 10/150\n",
      "2776/2776 [==============================] - 60s 22ms/step - loss: 0.1290 - accuracy: 0.5308\n",
      "Epoch 11/150\n",
      "2776/2776 [==============================] - 60s 22ms/step - loss: 0.1259 - accuracy: 0.5367\n",
      "Epoch 12/150\n",
      "2776/2776 [==============================] - 60s 22ms/step - loss: 0.1230 - accuracy: 0.5411\n",
      "Epoch 13/150\n",
      "2776/2776 [==============================] - 60s 21ms/step - loss: 0.1205 - accuracy: 0.5465\n",
      "Epoch 14/150\n",
      "2776/2776 [==============================] - 60s 21ms/step - loss: 0.1182 - accuracy: 0.5514\n",
      "Epoch 15/150\n",
      "2776/2776 [==============================] - 60s 22ms/step - loss: 0.1161 - accuracy: 0.5540\n",
      "Epoch 16/150\n",
      "2776/2776 [==============================] - 60s 22ms/step - loss: 0.1142 - accuracy: 0.5576\n",
      "Epoch 17/150\n",
      "2776/2776 [==============================] - 60s 22ms/step - loss: 0.1124 - accuracy: 0.5612\n",
      "Epoch 18/150\n",
      "2776/2776 [==============================] - 60s 22ms/step - loss: 0.1108 - accuracy: 0.5633\n",
      "Epoch 19/150\n",
      "2776/2776 [==============================] - 60s 22ms/step - loss: 0.1093 - accuracy: 0.5670\n",
      "Epoch 20/150\n",
      "2776/2776 [==============================] - 60s 22ms/step - loss: 0.1079 - accuracy: 0.5686\n",
      "Epoch 21/150\n",
      "2776/2776 [==============================] - 60s 22ms/step - loss: 0.1066 - accuracy: 0.5707\n",
      "Epoch 22/150\n",
      "2776/2776 [==============================] - 60s 22ms/step - loss: 0.1053 - accuracy: 0.5723\n",
      "Epoch 23/150\n",
      "2776/2776 [==============================] - 60s 22ms/step - loss: 0.1042 - accuracy: 0.5746\n",
      "Epoch 24/150\n",
      "2776/2776 [==============================] - 60s 22ms/step - loss: 0.1031 - accuracy: 0.5765\n",
      "Epoch 25/150\n",
      "2776/2776 [==============================] - 60s 22ms/step - loss: 0.1021 - accuracy: 0.5776\n",
      "Epoch 26/150\n",
      "2776/2776 [==============================] - 60s 22ms/step - loss: 0.1012 - accuracy: 0.5800\n",
      "Epoch 27/150\n",
      "2776/2776 [==============================] - 60s 22ms/step - loss: 0.1003 - accuracy: 0.5807\n",
      "Epoch 28/150\n",
      "2776/2776 [==============================] - 60s 22ms/step - loss: 0.0994 - accuracy: 0.5818\n",
      "Epoch 29/150\n",
      "2776/2776 [==============================] - 60s 22ms/step - loss: 0.0986 - accuracy: 0.5835\n",
      "Epoch 30/150\n",
      "2776/2776 [==============================] - 60s 22ms/step - loss: 0.0978 - accuracy: 0.5840\n",
      "Epoch 31/150\n",
      "2776/2776 [==============================] - 60s 22ms/step - loss: 0.0971 - accuracy: 0.5849\n",
      "Epoch 32/150\n",
      "2776/2776 [==============================] - 60s 22ms/step - loss: 0.0964 - accuracy: 0.5865\n",
      "Epoch 33/150\n",
      "2776/2776 [==============================] - 60s 22ms/step - loss: 0.0958 - accuracy: 0.5870\n",
      "Epoch 34/150\n",
      "2776/2776 [==============================] - 60s 22ms/step - loss: 0.0951 - accuracy: 0.5882\n",
      "Epoch 35/150\n",
      "2776/2776 [==============================] - 60s 22ms/step - loss: 0.0945 - accuracy: 0.5888\n",
      "Epoch 36/150\n",
      "2776/2776 [==============================] - 60s 22ms/step - loss: 0.0939 - accuracy: 0.5892\n",
      "Epoch 37/150\n",
      "2776/2776 [==============================] - 60s 22ms/step - loss: 0.0934 - accuracy: 0.5905\n",
      "Epoch 38/150\n",
      "2776/2776 [==============================] - 60s 22ms/step - loss: 0.0928 - accuracy: 0.5902\n",
      "Epoch 39/150\n",
      "2776/2776 [==============================] - 60s 22ms/step - loss: 0.0923 - accuracy: 0.5910\n",
      "Epoch 40/150\n",
      "2776/2776 [==============================] - 60s 22ms/step - loss: 0.0918 - accuracy: 0.5921\n",
      "Epoch 41/150\n",
      "2776/2776 [==============================] - 60s 22ms/step - loss: 0.0913 - accuracy: 0.5927\n",
      "Epoch 42/150\n",
      "2776/2776 [==============================] - 60s 22ms/step - loss: 0.0909 - accuracy: 0.5927\n",
      "Epoch 43/150\n",
      "2776/2776 [==============================] - 60s 22ms/step - loss: 0.0904 - accuracy: 0.5938\n",
      "Epoch 44/150\n",
      "2776/2776 [==============================] - 60s 22ms/step - loss: 0.0900 - accuracy: 0.5938\n",
      "Epoch 45/150\n",
      "2776/2776 [==============================] - 60s 22ms/step - loss: 0.0896 - accuracy: 0.5943\n",
      "Epoch 46/150\n",
      "2776/2776 [==============================] - 60s 22ms/step - loss: 0.0891 - accuracy: 0.5949\n",
      "Epoch 47/150\n",
      "2776/2776 [==============================] - 60s 22ms/step - loss: 0.0887 - accuracy: 0.5951\n",
      "Epoch 48/150\n",
      "2776/2776 [==============================] - 60s 22ms/step - loss: 0.0884 - accuracy: 0.5958\n",
      "Epoch 49/150\n",
      "2776/2776 [==============================] - 60s 22ms/step - loss: 0.0880 - accuracy: 0.5961\n",
      "Epoch 50/150\n",
      "2776/2776 [==============================] - 60s 22ms/step - loss: 0.0876 - accuracy: 0.5962\n",
      "Epoch 51/150\n",
      "2776/2776 [==============================] - 60s 22ms/step - loss: 0.0873 - accuracy: 0.5969\n",
      "Epoch 52/150\n",
      "2776/2776 [==============================] - 60s 22ms/step - loss: 0.0869 - accuracy: 0.5975\n",
      "Epoch 53/150\n",
      "2776/2776 [==============================] - 60s 22ms/step - loss: 0.0866 - accuracy: 0.5977\n",
      "Epoch 54/150\n",
      "2776/2776 [==============================] - 61s 22ms/step - loss: 0.0863 - accuracy: 0.5980\n",
      "Epoch 55/150\n",
      "2776/2776 [==============================] - 60s 22ms/step - loss: 0.0859 - accuracy: 0.5982\n",
      "Epoch 56/150\n",
      "2776/2776 [==============================] - 60s 22ms/step - loss: 0.0856 - accuracy: 0.5985\n",
      "Epoch 57/150\n",
      "2776/2776 [==============================] - 61s 22ms/step - loss: 0.0853 - accuracy: 0.5990\n",
      "Epoch 58/150\n",
      "2776/2776 [==============================] - 60s 22ms/step - loss: 0.0850 - accuracy: 0.5996\n",
      "Epoch 59/150\n",
      "2776/2776 [==============================] - 61s 22ms/step - loss: 0.0847 - accuracy: 0.5994\n",
      "Epoch 60/150\n",
      "2776/2776 [==============================] - 60s 22ms/step - loss: 0.0844 - accuracy: 0.5999\n",
      "Epoch 61/150\n",
      "2776/2776 [==============================] - 61s 22ms/step - loss: 0.0842 - accuracy: 0.6003\n",
      "Epoch 62/150\n",
      "2776/2776 [==============================] - 60s 22ms/step - loss: 0.0839 - accuracy: 0.6006\n",
      "Epoch 63/150\n",
      "2776/2776 [==============================] - 60s 22ms/step - loss: 0.0836 - accuracy: 0.6014\n",
      "Epoch 64/150\n",
      "2776/2776 [==============================] - 61s 22ms/step - loss: 0.0834 - accuracy: 0.6015\n",
      "Epoch 65/150\n",
      "2776/2776 [==============================] - 60s 22ms/step - loss: 0.0831 - accuracy: 0.6016\n",
      "Epoch 66/150\n",
      "2776/2776 [==============================] - 60s 22ms/step - loss: 0.0828 - accuracy: 0.6018\n",
      "Epoch 67/150\n",
      "2776/2776 [==============================] - 60s 22ms/step - loss: 0.0826 - accuracy: 0.6022\n",
      "Epoch 68/150\n",
      "2776/2776 [==============================] - 61s 22ms/step - loss: 0.0824 - accuracy: 0.6024\n",
      "Epoch 69/150\n",
      "2776/2776 [==============================] - 61s 22ms/step - loss: 0.0821 - accuracy: 0.6029\n",
      "Epoch 70/150\n",
      "2776/2776 [==============================] - 60s 22ms/step - loss: 0.0819 - accuracy: 0.6030\n",
      "Epoch 71/150\n",
      "2776/2776 [==============================] - 61s 22ms/step - loss: 0.0816 - accuracy: 0.6034\n",
      "Epoch 72/150\n",
      "2776/2776 [==============================] - 61s 22ms/step - loss: 0.0814 - accuracy: 0.6032\n",
      "Epoch 73/150\n",
      "2776/2776 [==============================] - 60s 22ms/step - loss: 0.0812 - accuracy: 0.6039\n",
      "Epoch 74/150\n",
      "2776/2776 [==============================] - 61s 22ms/step - loss: 0.0810 - accuracy: 0.6041\n",
      "Epoch 75/150\n",
      "2776/2776 [==============================] - 61s 22ms/step - loss: 0.0807 - accuracy: 0.6038\n",
      "Epoch 76/150\n",
      "2776/2776 [==============================] - 60s 22ms/step - loss: 0.0805 - accuracy: 0.6045\n",
      "Epoch 77/150\n",
      "2776/2776 [==============================] - 60s 22ms/step - loss: 0.0803 - accuracy: 0.6046\n",
      "Epoch 78/150\n",
      "2776/2776 [==============================] - 61s 22ms/step - loss: 0.0801 - accuracy: 0.6045\n",
      "Epoch 79/150\n",
      "2776/2776 [==============================] - 60s 22ms/step - loss: 0.0799 - accuracy: 0.6049\n",
      "Epoch 80/150\n",
      "2776/2776 [==============================] - 61s 22ms/step - loss: 0.0797 - accuracy: 0.6057\n",
      "Epoch 81/150\n",
      "2776/2776 [==============================] - 61s 22ms/step - loss: 0.0795 - accuracy: 0.6053\n",
      "Epoch 82/150\n",
      "2776/2776 [==============================] - 61s 22ms/step - loss: 0.0793 - accuracy: 0.6058\n",
      "Epoch 83/150\n",
      "2776/2776 [==============================] - 60s 22ms/step - loss: 0.0791 - accuracy: 0.6063\n",
      "Epoch 84/150\n",
      "2776/2776 [==============================] - 60s 22ms/step - loss: 0.0789 - accuracy: 0.6060\n",
      "Epoch 85/150\n",
      "2776/2776 [==============================] - 60s 22ms/step - loss: 0.0787 - accuracy: 0.6069\n",
      "Epoch 86/150\n",
      "2776/2776 [==============================] - 60s 22ms/step - loss: 0.0785 - accuracy: 0.6072\n",
      "Epoch 87/150\n",
      "2776/2776 [==============================] - 60s 22ms/step - loss: 0.0784 - accuracy: 0.6072\n",
      "Epoch 88/150\n",
      "2776/2776 [==============================] - 60s 22ms/step - loss: 0.0782 - accuracy: 0.6074\n",
      "Epoch 89/150\n",
      "2776/2776 [==============================] - 60s 22ms/step - loss: 0.0780 - accuracy: 0.6075\n",
      "Epoch 90/150\n",
      "2776/2776 [==============================] - 60s 22ms/step - loss: 0.0778 - accuracy: 0.6076\n",
      "Epoch 91/150\n",
      "2776/2776 [==============================] - 59s 21ms/step - loss: 0.0776 - accuracy: 0.6080\n",
      "Epoch 92/150\n",
      "2776/2776 [==============================] - 60s 22ms/step - loss: 0.0775 - accuracy: 0.6080\n",
      "Epoch 93/150\n",
      "2776/2776 [==============================] - 60s 22ms/step - loss: 0.0773 - accuracy: 0.6083\n",
      "Epoch 94/150\n",
      "2776/2776 [==============================] - 60s 22ms/step - loss: 0.0771 - accuracy: 0.6084\n",
      "Epoch 95/150\n",
      "2776/2776 [==============================] - 60s 22ms/step - loss: 0.0770 - accuracy: 0.6084\n",
      "Epoch 96/150\n",
      "2776/2776 [==============================] - 61s 22ms/step - loss: 0.0768 - accuracy: 0.6088\n",
      "Epoch 97/150\n",
      "2776/2776 [==============================] - 60s 22ms/step - loss: 0.0766 - accuracy: 0.6089\n",
      "Epoch 98/150\n",
      "2776/2776 [==============================] - 61s 22ms/step - loss: 0.0765 - accuracy: 0.6091\n",
      "Epoch 99/150\n",
      "2776/2776 [==============================] - 61s 22ms/step - loss: 0.0763 - accuracy: 0.6097\n",
      "Epoch 100/150\n",
      "2776/2776 [==============================] - 61s 22ms/step - loss: 0.0761 - accuracy: 0.6096\n",
      "Epoch 101/150\n",
      "2776/2776 [==============================] - 61s 22ms/step - loss: 0.0760 - accuracy: 0.6100\n",
      "Epoch 102/150\n",
      "2776/2776 [==============================] - 61s 22ms/step - loss: 0.0758 - accuracy: 0.6099\n",
      "Epoch 103/150\n",
      "2776/2776 [==============================] - 61s 22ms/step - loss: 0.0757 - accuracy: 0.6099\n",
      "Epoch 104/150\n",
      "2776/2776 [==============================] - 61s 22ms/step - loss: 0.0755 - accuracy: 0.6101\n",
      "Epoch 105/150\n",
      "2776/2776 [==============================] - 61s 22ms/step - loss: 0.0754 - accuracy: 0.6101\n",
      "Epoch 106/150\n",
      "2776/2776 [==============================] - 61s 22ms/step - loss: 0.0752 - accuracy: 0.6102\n",
      "Epoch 107/150\n",
      "2776/2776 [==============================] - 60s 22ms/step - loss: 0.0751 - accuracy: 0.6107\n",
      "Epoch 108/150\n",
      "2776/2776 [==============================] - 61s 22ms/step - loss: 0.0749 - accuracy: 0.6107\n",
      "Epoch 109/150\n",
      "2776/2776 [==============================] - 60s 22ms/step - loss: 0.0748 - accuracy: 0.6109\n",
      "Epoch 110/150\n",
      "2776/2776 [==============================] - 61s 22ms/step - loss: 0.0746 - accuracy: 0.6111\n",
      "Epoch 111/150\n",
      "2776/2776 [==============================] - 61s 22ms/step - loss: 0.0745 - accuracy: 0.6114\n",
      "Epoch 112/150\n",
      "2776/2776 [==============================] - 61s 22ms/step - loss: 0.0743 - accuracy: 0.6112\n",
      "Epoch 113/150\n",
      "2776/2776 [==============================] - 61s 22ms/step - loss: 0.0742 - accuracy: 0.6119\n",
      "Epoch 114/150\n",
      "2776/2776 [==============================] - 61s 22ms/step - loss: 0.0741 - accuracy: 0.6118\n",
      "Epoch 115/150\n",
      "2776/2776 [==============================] - 61s 22ms/step - loss: 0.0739 - accuracy: 0.6116\n",
      "Epoch 116/150\n",
      "2776/2776 [==============================] - 61s 22ms/step - loss: 0.0738 - accuracy: 0.6125\n",
      "Epoch 117/150\n",
      "2776/2776 [==============================] - 60s 22ms/step - loss: 0.0736 - accuracy: 0.6128\n",
      "Epoch 118/150\n",
      "2776/2776 [==============================] - 60s 22ms/step - loss: 0.0735 - accuracy: 0.6129\n",
      "Epoch 119/150\n",
      "2776/2776 [==============================] - 61s 22ms/step - loss: 0.0734 - accuracy: 0.6130\n",
      "Epoch 120/150\n",
      "2776/2776 [==============================] - 61s 22ms/step - loss: 0.0732 - accuracy: 0.6127\n",
      "Epoch 121/150\n",
      "2776/2776 [==============================] - 61s 22ms/step - loss: 0.0731 - accuracy: 0.6134\n",
      "Epoch 122/150\n",
      "2776/2776 [==============================] - 60s 22ms/step - loss: 0.0730 - accuracy: 0.6133\n",
      "Epoch 123/150\n",
      "2776/2776 [==============================] - 60s 22ms/step - loss: 0.0728 - accuracy: 0.6134\n",
      "Epoch 124/150\n",
      "2776/2776 [==============================] - 60s 22ms/step - loss: 0.0727 - accuracy: 0.6136\n",
      "Epoch 125/150\n",
      "2776/2776 [==============================] - 60s 22ms/step - loss: 0.0726 - accuracy: 0.6138\n",
      "Epoch 126/150\n",
      "2776/2776 [==============================] - 61s 22ms/step - loss: 0.0725 - accuracy: 0.6143\n",
      "Epoch 127/150\n",
      "2776/2776 [==============================] - 60s 22ms/step - loss: 0.0723 - accuracy: 0.6145\n",
      "Epoch 128/150\n",
      "2776/2776 [==============================] - 60s 22ms/step - loss: 0.0722 - accuracy: 0.6147\n",
      "Epoch 129/150\n",
      "2776/2776 [==============================] - 61s 22ms/step - loss: 0.0721 - accuracy: 0.6146\n",
      "Epoch 130/150\n",
      "2776/2776 [==============================] - 61s 22ms/step - loss: 0.0719 - accuracy: 0.6151\n",
      "Epoch 131/150\n",
      "2776/2776 [==============================] - 60s 22ms/step - loss: 0.0718 - accuracy: 0.6152\n",
      "Epoch 132/150\n",
      "2776/2776 [==============================] - 60s 22ms/step - loss: 0.0717 - accuracy: 0.6151\n",
      "Epoch 133/150\n",
      "2776/2776 [==============================] - 61s 22ms/step - loss: 0.0716 - accuracy: 0.6154\n",
      "Epoch 134/150\n",
      "2776/2776 [==============================] - 61s 22ms/step - loss: 0.0715 - accuracy: 0.6159\n",
      "Epoch 135/150\n",
      "2776/2776 [==============================] - 61s 22ms/step - loss: 0.0713 - accuracy: 0.6159\n",
      "Epoch 136/150\n",
      "2776/2776 [==============================] - 60s 22ms/step - loss: 0.0712 - accuracy: 0.6162\n",
      "Epoch 137/150\n",
      "2776/2776 [==============================] - 61s 22ms/step - loss: 0.0711 - accuracy: 0.6166\n",
      "Epoch 138/150\n",
      "2776/2776 [==============================] - 60s 22ms/step - loss: 0.0710 - accuracy: 0.6164\n",
      "Epoch 139/150\n",
      "2776/2776 [==============================] - 61s 22ms/step - loss: 0.0709 - accuracy: 0.6165\n",
      "Epoch 140/150\n",
      "2776/2776 [==============================] - 61s 22ms/step - loss: 0.0707 - accuracy: 0.6170\n",
      "Epoch 141/150\n",
      "2776/2776 [==============================] - 61s 22ms/step - loss: 0.0706 - accuracy: 0.6170\n",
      "Epoch 142/150\n",
      "2776/2776 [==============================] - 61s 22ms/step - loss: 0.0705 - accuracy: 0.6172\n",
      "Epoch 143/150\n",
      "2776/2776 [==============================] - 61s 22ms/step - loss: 0.0704 - accuracy: 0.6175\n",
      "Epoch 144/150\n",
      "2776/2776 [==============================] - 60s 22ms/step - loss: 0.0703 - accuracy: 0.6176\n",
      "Epoch 145/150\n",
      "2776/2776 [==============================] - 60s 22ms/step - loss: 0.0702 - accuracy: 0.6181\n",
      "Epoch 146/150\n",
      "2776/2776 [==============================] - 61s 22ms/step - loss: 0.0701 - accuracy: 0.6178\n",
      "Epoch 147/150\n",
      "2776/2776 [==============================] - 61s 22ms/step - loss: 0.0699 - accuracy: 0.6182\n",
      "Epoch 148/150\n",
      "2776/2776 [==============================] - 61s 22ms/step - loss: 0.0698 - accuracy: 0.6183\n",
      "Epoch 149/150\n",
      "2776/2776 [==============================] - 61s 22ms/step - loss: 0.0697 - accuracy: 0.6180\n",
      "Epoch 150/150\n",
      "2776/2776 [==============================] - 61s 22ms/step - loss: 0.0696 - accuracy: 0.6184\n",
      "CPU times: user 2h 6min 18s, sys: 5min 48s, total: 2h 12min 7s\n",
      "Wall time: 2h 31min 22s\n"
     ]
    }
   ],
   "source": [
    "%%time\n",
    "if description[\"Word2Vec_keras\"][\"actif\"]:\n",
    "    modelkerasPipeline.fit(\n",
    "        X_train,\n",
    "        y_train,\n",
    "        epochs=description[\"Word2Vec_keras\"][\"fit__epochs\"],\n",
    "        # callbacks=[tensorboard_callback],\n",
    "    )"
   ]
  },
  {
   "cell_type": "code",
   "execution_count": 32,
   "id": "7d7d72a7",
   "metadata": {
    "execution": {
     "iopub.execute_input": "2023-01-30T02:58:20.353803Z",
     "iopub.status.busy": "2023-01-30T02:58:20.353442Z",
     "iopub.status.idle": "2023-01-30T02:58:23.049599Z",
     "shell.execute_reply": "2023-01-30T02:58:23.048650Z"
    },
    "papermill": {
     "duration": 10.757588,
     "end_time": "2023-01-30T02:58:23.051674",
     "exception": false,
     "start_time": "2023-01-30T02:58:12.294086",
     "status": "completed"
    },
    "tags": []
   },
   "outputs": [
    {
     "name": "stdout",
     "output_type": "stream",
     "text": [
      "CPU times: user 2.61 s, sys: 243 ms, total: 2.85 s\n",
      "Wall time: 2.68 s\n"
     ]
    }
   ],
   "source": [
    "%%time\n",
    "if description[\"Word2Vec_keras\"][\"actif\"]:\n",
    "    pred_kerasword2vec_proba = modelkerasPipeline.predict(X_test)\n",
    "    #display(pred_kerasword2vec_proba.head(5))"
   ]
  },
  {
   "cell_type": "code",
   "execution_count": 33,
   "id": "f9714004",
   "metadata": {
    "execution": {
     "iopub.execute_input": "2023-01-30T02:58:39.352499Z",
     "iopub.status.busy": "2023-01-30T02:58:39.352118Z",
     "iopub.status.idle": "2023-01-30T02:58:47.399382Z",
     "shell.execute_reply": "2023-01-30T02:58:47.398373Z"
    },
    "papermill": {
     "duration": 16.276649,
     "end_time": "2023-01-30T02:58:47.401735",
     "exception": false,
     "start_time": "2023-01-30T02:58:31.125086",
     "status": "completed"
    },
    "tags": []
   },
   "outputs": [
    {
     "name": "stdout",
     "output_type": "stream",
     "text": [
      "java : meilleur f1-score 75.64% pour limit 0.4\n",
      "c# : meilleur f1-score 67.42% pour limit 0.35000000000000003\n",
      "javascript : meilleur f1-score 71.59% pour limit 0.37\n",
      "python : meilleur f1-score 83.61% pour limit 0.28\n",
      "android : meilleur f1-score 86.98% pour limit 0.34\n",
      "c++ : meilleur f1-score 68.73% pour limit 0.33\n",
      "ios : meilleur f1-score 76.65% pour limit 0.33\n",
      "html : meilleur f1-score 63.79% pour limit 0.25\n",
      "php : meilleur f1-score 77.67% pour limit 0.27\n",
      ".net : meilleur f1-score 47.10% pour limit 0.21\n",
      "jquery : meilleur f1-score 72.82% pour limit 0.36\n",
      "css : meilleur f1-score 74.48% pour limit 0.34\n",
      "objective-c : meilleur f1-score 56.69% pour limit 0.29\n",
      "c : meilleur f1-score 55.11% pour limit 0.29\n",
      "sql : meilleur f1-score 61.85% pour limit 0.35000000000000003\n",
      "iphone : meilleur f1-score 56.63% pour limit 0.23\n",
      "asp.net : meilleur f1-score 51.78% pour limit 0.24\n",
      "mysql : meilleur f1-score 72.62% pour limit 0.35000000000000003\n",
      "linux : meilleur f1-score 53.73% pour limit 0.27\n",
      "node.js : meilleur f1-score 64.74% pour limit 0.26\n",
      "git : meilleur f1-score 81.92% pour limit 0.26\n"
     ]
    },
    {
     "data": {
      "image/png": "[encoded data removed]",
      "text/plain": [
       "<Figure size 2160x1080 with 1 Axes>"
      ]
     },
     "metadata": {
      "needs_background": "light"
     },
     "output_type": "display_data"
    },
    {
     "name": "stdout",
     "output_type": "stream",
     "text": [
      "Sur le jeu test avec limit par tag:\n",
      "              precision    recall  f1-score  support\n",
      "android        0.882679  0.857213  0.869759   2045.0\n",
      "python         0.834223  0.838055  0.836134   2612.0\n",
      "git            0.828358  0.810219  0.819188    274.0\n",
      "php            0.783970  0.769514  0.776675   1627.0\n",
      "ios            0.710441  0.832065  0.766458   1840.0\n",
      "java           0.785649  0.729342  0.756449   3558.0\n",
      "css            0.762743  0.727675  0.744796   1131.0\n",
      "jquery         0.730845  0.725618  0.728222   1538.0\n",
      "mysql          0.767480  0.689051  0.726154    685.0\n",
      "javascript     0.673496  0.764005  0.715901   3356.0\n",
      "weighted avg   0.676580  0.735988  0.701323  33044.0\n",
      "micro avg      0.658615  0.735988  0.695155  33044.0\n",
      "c++            0.645219  0.735234  0.687292   1964.0\n",
      "macro avg      0.653092  0.712351  0.676921  33044.0\n",
      "c#             0.625956  0.730492  0.674196   3473.0\n",
      "node.js        0.693467  0.607038  0.647381    682.0\n",
      "html           0.546564  0.765812  0.637874   1755.0\n",
      "sql            0.586598  0.654023  0.618478    870.0\n",
      "objective-c    0.485921  0.680180  0.566870    888.0\n",
      "iphone         0.456406  0.745973  0.566322    807.0\n",
      "samples avg    0.547836  0.599286  0.552937  33044.0\n",
      "c              0.503268  0.609040  0.551125    885.0\n",
      "linux          0.529244  0.545588  0.537292    680.0\n",
      "asp.net        0.494904  0.542857  0.517773    805.0\n",
      ".net           0.387495  0.600382  0.471000   1569.0\n",
      "CPU times: user 7.98 s, sys: 117 ms, total: 8.1 s\n",
      "Wall time: 8 s\n"
     ]
    }
   ],
   "source": [
    "%%time\n",
    "if description[\"Word2Vec_keras\"][\"actif\"]:\n",
    "    best_limits_kerasword2vec = p5_nlp_utils.Commun.find_best_limit_by_tags(\n",
    "        pred_kerasword2vec_proba, y_test, target_names, limits=np.linspace(0, 1, 101)\n",
    "    )\n",
    "    with open(\"/kaggle/working/best_limits_kerasword2vec.json\", \"w\") as outfile:\n",
    "        json.dump(best_limits_kerasword2vec, outfile)\n",
    "    pred_kerasword2vec = p5_nlp_utils.Commun.convert_pred_to_bool_by_tags(pred_kerasword2vec_proba, {k: v[0] for k, v in best_limits_kerasword2vec.items()})\n",
    "    scores_kerasword2vec = p5_nlp_utils.Commun.save_score(\n",
    "        y_true=y_test,\n",
    "        y_pred=pred_kerasword2vec,\n",
    "        target_names=target_names,\n",
    "        name=\"Word2Vec_keras\",\n",
    "    )\n",
    "    print(\"Sur le jeu test avec limit par tag:\")\n",
    "    print(scores_kerasword2vec.sort_values(by=\"f1-score\", ascending=False))"
   ]
  },
  {
   "cell_type": "code",
   "execution_count": 34,
   "id": "a4f60cb7",
   "metadata": {
    "execution": {
     "iopub.execute_input": "2023-01-30T02:59:03.788054Z",
     "iopub.status.busy": "2023-01-30T02:59:03.787699Z",
     "iopub.status.idle": "2023-01-30T02:59:09.630919Z",
     "shell.execute_reply": "2023-01-30T02:59:09.629631Z"
    },
    "papermill": {
     "duration": 14.091012,
     "end_time": "2023-01-30T02:59:09.637090",
     "exception": false,
     "start_time": "2023-01-30T02:58:55.546078",
     "status": "completed"
    },
    "tags": []
   },
   "outputs": [
    {
     "name": "stderr",
     "output_type": "stream",
     "text": [
      "2023-01-30 02:59:06.188740: W tensorflow/python/util/util.cc:348] Sets are not currently considered sequences, but this may change in the future, so consider avoiding using them.\n"
     ]
    },
    {
     "name": "stdout",
     "output_type": "stream",
     "text": [
      "CPU times: user 4.02 s, sys: 1.76 s, total: 5.78 s\n",
      "Wall time: 5.82 s\n"
     ]
    }
   ],
   "source": [
    "%%time\n",
    "if description[\"Word2Vec_keras\"][\"actif\"]:\n",
    "    joblib.dump({'config': vectorize_layer.get_config(),\n",
    "             'weights': vectorize_layer.get_weights()},\"w2v_vectorize_layer_config.joblib\") \n",
    "    modelkerasPipeline.save(\"kerasWord2Vec\")"
   ]
  },
  {
   "cell_type": "markdown",
   "id": "1e5341ab",
   "metadata": {
    "papermill": {
     "duration": 7.987831,
     "end_time": "2023-01-30T02:59:26.191637",
     "exception": false,
     "start_time": "2023-01-30T02:59:18.203806",
     "status": "completed"
    },
    "tags": []
   },
   "source": [
    "## Word2Vec puis OvR SVC"
   ]
  },
  {
   "cell_type": "code",
   "execution_count": 35,
   "id": "b5f4ed59",
   "metadata": {
    "execution": {
     "iopub.execute_input": "2023-01-30T02:59:42.702325Z",
     "iopub.status.busy": "2023-01-30T02:59:42.701967Z",
     "iopub.status.idle": "2023-01-30T02:59:42.743387Z",
     "shell.execute_reply": "2023-01-30T02:59:42.742224Z"
    },
    "papermill": {
     "duration": 8.651856,
     "end_time": "2023-01-30T02:59:42.745429",
     "exception": false,
     "start_time": "2023-01-30T02:59:34.093573",
     "status": "completed"
    },
    "tags": []
   },
   "outputs": [
    {
     "name": "stdout",
     "output_type": "stream",
     "text": [
      "CPU times: user 115 µs, sys: 4 µs, total: 119 µs\n",
      "Wall time: 124 µs\n"
     ]
    }
   ],
   "source": [
    "%%time\n",
    "pipeline_w2v = pipeline.Pipeline(\n",
    "    [\n",
    "        (\n",
    "            \"keras_embed_transformer\",\n",
    "            p5_nlp_utils.KerasEmbedTransformer().init(description[\"Word2Vec_OVR\"]),\n",
    "        ),\n",
    "        (\n",
    "            \"OVR_SVC\",\n",
    "            multiclass.OneVsRestClassifier(\n",
    "                svm.SVC(\n",
    "                    cache_size=1080,\n",
    "                    max_iter=description[\"Word2Vec_OVR\"][\"max_iter\"],\n",
    "                    random_state=42,\n",
    "                )\n",
    "            ),\n",
    "        ),\n",
    "    ]\n",
    ")\n",
    "\n",
    "if description[\"Word2Vec_OVR\"][\"actif\"]:\n",
    "    with ignore_warnings(category=exceptions.ConvergenceWarning):\n",
    "        pipeline_w2v.fit(X_train, y_train)\n",
    "#         pipeline_w2v.fit(X_train[0:10], y_train[0:10])"
   ]
  },
  {
   "cell_type": "code",
   "execution_count": 36,
   "id": "8d06bc80",
   "metadata": {
    "execution": {
     "iopub.execute_input": "2023-01-30T02:59:58.835826Z",
     "iopub.status.busy": "2023-01-30T02:59:58.835460Z",
     "iopub.status.idle": "2023-01-30T02:59:58.850403Z",
     "shell.execute_reply": "2023-01-30T02:59:58.849422Z"
    },
    "papermill": {
     "duration": 7.955079,
     "end_time": "2023-01-30T02:59:58.852503",
     "exception": false,
     "start_time": "2023-01-30T02:59:50.897424",
     "status": "completed"
    },
    "tags": []
   },
   "outputs": [
    {
     "name": "stdout",
     "output_type": "stream",
     "text": [
      "CPU times: user 5 µs, sys: 0 ns, total: 5 µs\n",
      "Wall time: 8.82 µs\n"
     ]
    }
   ],
   "source": [
    "%%time\n",
    "if description[\"Word2Vec_OVR\"][\"actif\"]:\n",
    "    pred_word2vec = pipeline_w2v.predict(X_test)\n",
    "    print(pred_word2vec)"
   ]
  },
  {
   "cell_type": "markdown",
   "id": "9226edff",
   "metadata": {
    "papermill": {
     "duration": 8.632511,
     "end_time": "2023-01-30T03:00:15.390854",
     "exception": false,
     "start_time": "2023-01-30T03:00:06.758343",
     "status": "completed"
    },
    "tags": []
   },
   "source": [
    "### i got the same issue as:\n",
    "https://stackoverflow.com/questions/37984304/how-to-save-a-scikit-learn-pipline-with-keras-regressor-inside-to-disk  \n",
    "Solution is to save keras model in separate file than remove it from the pipeline so it can be save with joblib  \n",
    "I did that in my `KerasEmbedTransformer` class `save` & `load` method"
   ]
  },
  {
   "cell_type": "code",
   "execution_count": 37,
   "id": "f7e64c37",
   "metadata": {
    "execution": {
     "iopub.execute_input": "2023-01-30T03:00:31.678565Z",
     "iopub.status.busy": "2023-01-30T03:00:31.677590Z",
     "iopub.status.idle": "2023-01-30T03:00:31.698334Z",
     "shell.execute_reply": "2023-01-30T03:00:31.697417Z"
    },
    "papermill": {
     "duration": 8.008381,
     "end_time": "2023-01-30T03:00:31.700523",
     "exception": false,
     "start_time": "2023-01-30T03:00:23.692142",
     "status": "completed"
    },
    "tags": []
   },
   "outputs": [],
   "source": [
    "if description[\"Word2Vec_OVR\"][\"actif\"]:\n",
    "    pipeline_w2v.named_steps[\"keras_embed_transformer\"].save(\"keras\")\n",
    "    # Otherwise i can save it but not load in api\n",
    "    #     pipeline_w2v.named_steps[\"keras_embed_transformer\"] = \"passthrough\"  # __module__\n",
    "    #     pipeline_w2v.named_steps[\"keras_embed_transformer\"].__module__ = None\n",
    "    ## i have issue loading the joblib in api so i try to delete the step from the pipeline\n",
    "    pipeline_w2v.steps.pop(0)\n",
    "    pipeline_w2v.steps.insert(0, (\"keras_embed_transformer\", \"passthrough\"))\n",
    "    print(pipeline_w2v)"
   ]
  },
  {
   "cell_type": "code",
   "execution_count": 38,
   "id": "de52147d",
   "metadata": {
    "execution": {
     "iopub.execute_input": "2023-01-30T03:00:48.144371Z",
     "iopub.status.busy": "2023-01-30T03:00:48.144005Z",
     "iopub.status.idle": "2023-01-30T03:00:48.163580Z",
     "shell.execute_reply": "2023-01-30T03:00:48.162725Z"
    },
    "papermill": {
     "duration": 8.034653,
     "end_time": "2023-01-30T03:00:48.165679",
     "exception": false,
     "start_time": "2023-01-30T03:00:40.131026",
     "status": "completed"
    },
    "tags": []
   },
   "outputs": [],
   "source": [
    "if description[\"Word2Vec_OVR\"][\"actif\"]:\n",
    "    scores_word2vec = p5_nlp_utils.Commun.save_score(\n",
    "        y_test, pred_word2vec, target_names, \"Word2Vec\"\n",
    "    )\n",
    "    joblib.dump(pipeline_w2v, \"Word2Vec_model.joblib\")\n",
    "    print(scores_word2vec.sort_values(by=\"f1-score\", ascending=False))"
   ]
  },
  {
   "cell_type": "markdown",
   "id": "0787b9cb",
   "metadata": {
    "papermill": {
     "duration": 7.951307,
     "end_time": "2023-01-30T03:01:04.377991",
     "exception": false,
     "start_time": "2023-01-30T03:00:56.426684",
     "status": "completed"
    },
    "tags": []
   },
   "source": [
    "### test to reimport saved model"
   ]
  },
  {
   "cell_type": "code",
   "execution_count": 39,
   "id": "f1506523",
   "metadata": {
    "execution": {
     "iopub.execute_input": "2023-01-30T03:01:20.888340Z",
     "iopub.status.busy": "2023-01-30T03:01:20.887981Z",
     "iopub.status.idle": "2023-01-30T03:01:20.911237Z",
     "shell.execute_reply": "2023-01-30T03:01:20.910310Z"
    },
    "papermill": {
     "duration": 8.103979,
     "end_time": "2023-01-30T03:01:20.913195",
     "exception": false,
     "start_time": "2023-01-30T03:01:12.809216",
     "status": "completed"
    },
    "tags": []
   },
   "outputs": [],
   "source": [
    "if description[\"Word2Vec_OVR\"][\"actif\"] and LONG:\n",
    "    loaded = joblib.load(\"/kaggle/working/Word2Vec_model.joblib\")\n",
    "    loaded.named_steps[\n",
    "        \"keras_embed_transformer\"\n",
    "    ] = p5_nlp_utils.KerasEmbedTransformer().load(\n",
    "        \"/kaggle/working/keras\", description[\"Word2Vec_OVR\"]\n",
    "    )\n",
    "    pred_word2vec == loaded.predict(X_test)"
   ]
  },
  {
   "cell_type": "markdown",
   "id": "81956fc4",
   "metadata": {
    "papermill": {
     "duration": 7.827023,
     "end_time": "2023-01-30T03:01:36.950594",
     "exception": false,
     "start_time": "2023-01-30T03:01:29.123571",
     "status": "completed"
    },
    "tags": []
   },
   "source": [
    "# BERT\n",
    "Bidirectional Encoder Representations from Transformers  \n",
    "[Article explication en français](https://www.quantmetry.com/glossaire/bert-nlp/)  \n",
    "[Exemple multi-classification](https://www.analyticsvidhya.com/blog/2020/10/simple-text-multi-classification-task-using-keras-bert)"
   ]
  },
  {
   "cell_type": "code",
   "execution_count": 40,
   "id": "d41d6289",
   "metadata": {
    "execution": {
     "iopub.execute_input": "2023-01-30T03:01:53.536532Z",
     "iopub.status.busy": "2023-01-30T03:01:53.536152Z",
     "iopub.status.idle": "2023-01-30T03:01:53.541716Z",
     "shell.execute_reply": "2023-01-30T03:01:53.540626Z"
    },
    "papermill": {
     "duration": 8.022825,
     "end_time": "2023-01-30T03:01:53.544285",
     "exception": false,
     "start_time": "2023-01-30T03:01:45.521460",
     "status": "completed"
    },
    "tags": []
   },
   "outputs": [],
   "source": [
    "## check gpu\n",
    "# import torch\n",
    "# torch.cuda.is_available()"
   ]
  },
  {
   "cell_type": "code",
   "execution_count": 41,
   "id": "58f2e613",
   "metadata": {
    "execution": {
     "iopub.execute_input": "2023-01-30T03:02:09.671149Z",
     "iopub.status.busy": "2023-01-30T03:02:09.670794Z",
     "iopub.status.idle": "2023-01-30T03:02:09.684271Z",
     "shell.execute_reply": "2023-01-30T03:02:09.683238Z"
    },
    "papermill": {
     "duration": 7.909497,
     "end_time": "2023-01-30T03:02:09.686725",
     "exception": false,
     "start_time": "2023-01-30T03:02:01.777228",
     "status": "completed"
    },
    "tags": []
   },
   "outputs": [],
   "source": [
    "if description[\"BERT\"][\"actif\"]:\n",
    "    print(description[\"BERT\"])\n",
    "    configuration = BertConfig()\n",
    "    print(configuration)"
   ]
  },
  {
   "cell_type": "code",
   "execution_count": 42,
   "id": "8b41576b",
   "metadata": {
    "execution": {
     "iopub.execute_input": "2023-01-30T03:02:26.164137Z",
     "iopub.status.busy": "2023-01-30T03:02:26.163779Z",
     "iopub.status.idle": "2023-01-30T03:02:26.169332Z",
     "shell.execute_reply": "2023-01-30T03:02:26.168416Z"
    },
    "papermill": {
     "duration": 8.042255,
     "end_time": "2023-01-30T03:02:26.171399",
     "exception": false,
     "start_time": "2023-01-30T03:02:18.129144",
     "status": "completed"
    },
    "tags": []
   },
   "outputs": [],
   "source": [
    "# %%time\n",
    "# if description[\"BERT\"][\"actif\"]:\n",
    "#     tokenizer = p5_nlp_utils.Bert.get_tokenizer(\n",
    "#         model_max_length=description[\"BERT\"][\"max_length\"],\n",
    "#         save_path=\"bert_base_uncased/\",\n",
    "#     )"
   ]
  },
  {
   "cell_type": "code",
   "execution_count": 43,
   "id": "26b7e5e5",
   "metadata": {
    "execution": {
     "iopub.execute_input": "2023-01-30T03:02:41.957123Z",
     "iopub.status.busy": "2023-01-30T03:02:41.956745Z",
     "iopub.status.idle": "2023-01-30T03:02:41.977622Z",
     "shell.execute_reply": "2023-01-30T03:02:41.976416Z"
    },
    "papermill": {
     "duration": 7.653179,
     "end_time": "2023-01-30T03:02:41.979733",
     "exception": false,
     "start_time": "2023-01-30T03:02:34.326554",
     "status": "completed"
    },
    "tags": []
   },
   "outputs": [
    {
     "name": "stdout",
     "output_type": "stream",
     "text": [
      "CPU times: user 5 µs, sys: 0 ns, total: 5 µs\n",
      "Wall time: 8.34 µs\n"
     ]
    }
   ],
   "source": [
    "%%time\n",
    "if description[\"BERT\"][\"actif\"]:\n",
    "    X_train_bert = p5_nlp_utils.Bert.create_bert_inputs(\n",
    "        X_train.values, max_len=description[\"BERT\"][\"max_length\"]\n",
    "    )\n",
    "    print(\"Shape input BERT tupple 3*\", X_train_bert[0].shape)"
   ]
  },
  {
   "cell_type": "code",
   "execution_count": 44,
   "id": "a833fd35",
   "metadata": {
    "execution": {
     "iopub.execute_input": "2023-01-30T03:02:58.828715Z",
     "iopub.status.busy": "2023-01-30T03:02:58.828336Z",
     "iopub.status.idle": "2023-01-30T03:02:58.849432Z",
     "shell.execute_reply": "2023-01-30T03:02:58.848558Z"
    },
    "papermill": {
     "duration": 8.239137,
     "end_time": "2023-01-30T03:02:58.851421",
     "exception": false,
     "start_time": "2023-01-30T03:02:50.612284",
     "status": "completed"
    },
    "tags": []
   },
   "outputs": [
    {
     "name": "stdout",
     "output_type": "stream",
     "text": [
      "CPU times: user 4 µs, sys: 0 ns, total: 4 µs\n",
      "Wall time: 8.11 µs\n"
     ]
    }
   ],
   "source": [
    "%%time\n",
    "if description[\"BERT\"][\"actif\"]:\n",
    "    #     bert_model = p5_nlp_utils.Bert.create_bert_model(\n",
    "    #         params=description[\"BERT\"], target_names=target_names\n",
    "    #     )\n",
    "    bert_model = p5_nlp_utils.Bert.build_bert_model(\n",
    "        max_len=description[\"BERT\"][\"max_length\"], target_names=target_names\n",
    "    )\n",
    "    print(bert_model.summary())"
   ]
  },
  {
   "cell_type": "code",
   "execution_count": 45,
   "id": "53e8965c",
   "metadata": {
    "execution": {
     "iopub.execute_input": "2023-01-30T03:03:14.663686Z",
     "iopub.status.busy": "2023-01-30T03:03:14.662960Z",
     "iopub.status.idle": "2023-01-30T03:03:14.682841Z",
     "shell.execute_reply": "2023-01-30T03:03:14.681762Z"
    },
    "papermill": {
     "duration": 7.835469,
     "end_time": "2023-01-30T03:03:14.684869",
     "exception": false,
     "start_time": "2023-01-30T03:03:06.849400",
     "status": "completed"
    },
    "tags": []
   },
   "outputs": [
    {
     "name": "stdout",
     "output_type": "stream",
     "text": [
      "CPU times: user 4 µs, sys: 0 ns, total: 4 µs\n",
      "Wall time: 8.11 µs\n"
     ]
    }
   ],
   "source": [
    "%%time\n",
    "if description[\"BERT\"][\"actif\"]:\n",
    "    bert_model.fit(\n",
    "        #         np.array(\n",
    "        #             [create_bert_input_target(x, description[\"BERT\"]) for x in X_train.values]\n",
    "        #         ),\n",
    "        X_train_bert,\n",
    "        y_train,\n",
    "        epochs=description[\"BERT\"][\"epochs\"],\n",
    "        verbose=3,\n",
    "    )"
   ]
  },
  {
   "cell_type": "code",
   "execution_count": 46,
   "id": "9134803d",
   "metadata": {
    "execution": {
     "iopub.execute_input": "2023-01-30T03:03:31.442455Z",
     "iopub.status.busy": "2023-01-30T03:03:31.442047Z",
     "iopub.status.idle": "2023-01-30T03:03:31.484506Z",
     "shell.execute_reply": "2023-01-30T03:03:31.483405Z"
    },
    "papermill": {
     "duration": 8.001202,
     "end_time": "2023-01-30T03:03:31.486764",
     "exception": false,
     "start_time": "2023-01-30T03:03:23.485562",
     "status": "completed"
    },
    "tags": []
   },
   "outputs": [
    {
     "name": "stdout",
     "output_type": "stream",
     "text": [
      "CPU times: user 5 µs, sys: 0 ns, total: 5 µs\n",
      "Wall time: 8.82 µs\n"
     ]
    }
   ],
   "source": [
    "%%time\n",
    "if description[\"BERT\"][\"actif\"]:\n",
    "    bert_model.save(\"BERT\")\n",
    "    #     pred_bert_proba = bert_model.predict(\n",
    "    #         np.array(\n",
    "    #             [create_bert_input_target(x, description[\"BERT\"]) for x in X_test.values]\n",
    "    #         )\n",
    "    #     )\n",
    "    pred_bert_proba = bert_model.predict(\n",
    "        p5_nlp_utils.Bert.create_bert_inputs(\n",
    "            X_test.values, max_len=description[\"BERT\"][\"max_length\"]\n",
    "        )\n",
    "    )\n",
    "    print(pred_bert_proba)\n",
    "    best, f1_score_avg = p5_nlp_utils.Commun.find_best_limit(\n",
    "        pred_bert_proba, y_test, target_names\n",
    "    )\n",
    "    pred_bert = p5_nlp_utils.Commun.convert_pred_to_bool(pred_bert_proba, limit=best)\n",
    "    #     print(pred_bert.value_counts())\n",
    "    scores_bert = p5_nlp_utils.Commun.save_score(\n",
    "        y_test,\n",
    "        pred_bert,\n",
    "        target_names,\n",
    "        None,\n",
    "    )\n",
    "    print(scores_bert.sort_values(by=\"f1-score\", ascending=False))"
   ]
  },
  {
   "cell_type": "markdown",
   "id": "1893b08e",
   "metadata": {
    "papermill": {
     "duration": 8.131297,
     "end_time": "2023-01-30T03:03:47.568829",
     "exception": false,
     "start_time": "2023-01-30T03:03:39.437532",
     "status": "completed"
    },
    "tags": []
   },
   "source": [
    "Test avec limit/seuil différent par tag"
   ]
  },
  {
   "cell_type": "code",
   "execution_count": 47,
   "id": "f1b08ddd",
   "metadata": {
    "execution": {
     "iopub.execute_input": "2023-01-30T03:04:03.865782Z",
     "iopub.status.busy": "2023-01-30T03:04:03.865415Z",
     "iopub.status.idle": "2023-01-30T03:04:03.911209Z",
     "shell.execute_reply": "2023-01-30T03:04:03.910142Z"
    },
    "papermill": {
     "duration": 8.120388,
     "end_time": "2023-01-30T03:04:03.913310",
     "exception": false,
     "start_time": "2023-01-30T03:03:55.792922",
     "status": "completed"
    },
    "tags": []
   },
   "outputs": [
    {
     "name": "stdout",
     "output_type": "stream",
     "text": [
      "CPU times: user 4 µs, sys: 0 ns, total: 4 µs\n",
      "Wall time: 8.34 µs\n"
     ]
    }
   ],
   "source": [
    "%%time\n",
    "if description[\"BERT\"][\"actif\"]:\n",
    "    best_limits_bert = p5_nlp_utils.Commun.find_best_limit_by_tags(\n",
    "        pred_bert_proba, y_test, target_names, limits=np.linspace(0, 1, 101)\n",
    "    )\n",
    "    with open(\"/kaggle/working/best_limits_bert.json\", \"w\") as outfile:\n",
    "        json.dump(best_limits_bert, outfile)\n",
    "    pred_bert_2 = p5_nlp_utils.Commun.convert_pred_to_bool_by_tags(pred_bert_proba, {k: v[0] for k, v in best_limits_bert.items()})\n",
    "    scores_bert_2 = p5_nlp_utils.Commun.save_score(\n",
    "        y_true=y_test,\n",
    "        y_pred=pred_bert_2,\n",
    "        target_names=target_names,\n",
    "        name=\"BERT\",\n",
    "    )\n",
    "    print(\"Sur le jeu test avec limit par tag:\")\n",
    "    print(scores_bert_2.sort_values(by=\"f1-score\", ascending=False))"
   ]
  },
  {
   "cell_type": "code",
   "execution_count": 48,
   "id": "e358a95c",
   "metadata": {
    "execution": {
     "iopub.execute_input": "2023-01-30T03:04:20.402041Z",
     "iopub.status.busy": "2023-01-30T03:04:20.401678Z",
     "iopub.status.idle": "2023-01-30T03:04:20.407302Z",
     "shell.execute_reply": "2023-01-30T03:04:20.406394Z"
    },
    "papermill": {
     "duration": 8.275739,
     "end_time": "2023-01-30T03:04:20.409306",
     "exception": false,
     "start_time": "2023-01-30T03:04:12.133567",
     "status": "completed"
    },
    "tags": []
   },
   "outputs": [],
   "source": [
    "# # detect and init the TPU\n",
    "# tpu = tf.distribute.cluster_resolver.TPUClusterResolver.connect()\n",
    "\n",
    "# # instantiate a distribution strategy\n",
    "# tpu_strategy = tf.distribute.experimental.TPUStrategy(tpu)\n",
    "# with tpu_strategy.scope():\n",
    "# ..."
   ]
  },
  {
   "cell_type": "code",
   "execution_count": 49,
   "id": "d2bee706",
   "metadata": {
    "execution": {
     "iopub.execute_input": "2023-01-30T03:04:36.636205Z",
     "iopub.status.busy": "2023-01-30T03:04:36.635838Z",
     "iopub.status.idle": "2023-01-30T03:04:36.641018Z",
     "shell.execute_reply": "2023-01-30T03:04:36.640049Z"
    },
    "papermill": {
     "duration": 8.102715,
     "end_time": "2023-01-30T03:04:36.642949",
     "exception": false,
     "start_time": "2023-01-30T03:04:28.540234",
     "status": "completed"
    },
    "tags": []
   },
   "outputs": [],
   "source": [
    "# %%time\n",
    "# model = BertTransformer(list(X_train[0:5]), params=description[\"BERT\"])\n",
    "# model"
   ]
  },
  {
   "cell_type": "code",
   "execution_count": 50,
   "id": "0640f1ce",
   "metadata": {
    "execution": {
     "iopub.execute_input": "2023-01-30T03:04:52.880015Z",
     "iopub.status.busy": "2023-01-30T03:04:52.879648Z",
     "iopub.status.idle": "2023-01-30T03:04:52.885444Z",
     "shell.execute_reply": "2023-01-30T03:04:52.884425Z"
    },
    "papermill": {
     "duration": 8.23552,
     "end_time": "2023-01-30T03:04:52.887311",
     "exception": false,
     "start_time": "2023-01-30T03:04:44.651791",
     "status": "completed"
    },
    "tags": []
   },
   "outputs": [],
   "source": [
    "# %%time\n",
    "# model = BertTransformer(list(X_train[0:50_000]), params=description[\"BERT\"])\n",
    "# # model = BertTransformer(list(X_train), params=description[\"BERT\"])\n",
    "# model\n",
    "# # model.mean(axis=1)"
   ]
  },
  {
   "cell_type": "markdown",
   "id": "dedc3443",
   "metadata": {
    "papermill": {
     "duration": 8.036339,
     "end_time": "2023-01-30T03:05:09.020237",
     "exception": false,
     "start_time": "2023-01-30T03:05:00.983898",
     "status": "completed"
    },
    "tags": []
   },
   "source": [
    "# USE"
   ]
  },
  {
   "cell_type": "code",
   "execution_count": 51,
   "id": "65a67aea",
   "metadata": {
    "execution": {
     "iopub.execute_input": "2023-01-30T03:05:25.528880Z",
     "iopub.status.busy": "2023-01-30T03:05:25.528527Z",
     "iopub.status.idle": "2023-01-30T03:05:25.546348Z",
     "shell.execute_reply": "2023-01-30T03:05:25.545208Z"
    },
    "papermill": {
     "duration": 8.46133,
     "end_time": "2023-01-30T03:05:25.548281",
     "exception": false,
     "start_time": "2023-01-30T03:05:17.086951",
     "status": "completed"
    },
    "tags": []
   },
   "outputs": [
    {
     "name": "stdout",
     "output_type": "stream",
     "text": [
      "CPU times: user 5 µs, sys: 0 ns, total: 5 µs\n",
      "Wall time: 8.11 µs\n"
     ]
    }
   ],
   "source": [
    "%%time\n",
    "if description[\"USE\"][\"actif\"]:\n",
    "    embed = hub.load(\"https://tfhub.dev/google/universal-sentence-encoder/4\")\n",
    "    X_train_use = embed(X_train.values)\n",
    "    print(X_train_use.numpy().shape)"
   ]
  },
  {
   "cell_type": "code",
   "execution_count": 52,
   "id": "243cffeb",
   "metadata": {
    "execution": {
     "iopub.execute_input": "2023-01-30T03:05:41.565079Z",
     "iopub.status.busy": "2023-01-30T03:05:41.564718Z",
     "iopub.status.idle": "2023-01-30T03:05:41.608397Z",
     "shell.execute_reply": "2023-01-30T03:05:41.607304Z"
    },
    "papermill": {
     "duration": 7.962574,
     "end_time": "2023-01-30T03:05:41.610695",
     "exception": false,
     "start_time": "2023-01-30T03:05:33.648121",
     "status": "completed"
    },
    "tags": []
   },
   "outputs": [
    {
     "name": "stdout",
     "output_type": "stream",
     "text": [
      "CPU times: user 4 µs, sys: 0 ns, total: 4 µs\n",
      "Wall time: 8.34 µs\n"
     ]
    }
   ],
   "source": [
    "%%time\n",
    "if description[\"USE\"][\"actif\"]:\n",
    "    USEkerasPipeline = tf.keras.models.Sequential(\n",
    "        [\n",
    "            tf.keras.Input(shape=(512,)),  # tensor=X_train_use),\n",
    "            tf.keras.layers.Dense(128, activation=\"relu\"),\n",
    "            tf.keras.layers.Dense(len(target_names), activation=\"sigmoid\"),\n",
    "        ]\n",
    "    )\n",
    "    USEkerasPipeline.compile(\n",
    "        optimizer=\"adam\",\n",
    "        loss=tf.keras.losses.BinaryCrossentropy(),\n",
    "        metrics=[\"accuracy\"],\n",
    "    )\n",
    "    USEkerasPipeline.fit(\n",
    "        X_train_use.numpy(),\n",
    "        y_train,\n",
    "        epochs=description[\"USE\"][\"epochs\"],\n",
    "        verbose=3,\n",
    "    )"
   ]
  },
  {
   "cell_type": "code",
   "execution_count": 53,
   "id": "678b6ed0",
   "metadata": {
    "execution": {
     "iopub.execute_input": "2023-01-30T03:05:57.937720Z",
     "iopub.status.busy": "2023-01-30T03:05:57.937343Z",
     "iopub.status.idle": "2023-01-30T03:05:57.981795Z",
     "shell.execute_reply": "2023-01-30T03:05:57.980899Z"
    },
    "papermill": {
     "duration": 8.396717,
     "end_time": "2023-01-30T03:05:57.983934",
     "exception": false,
     "start_time": "2023-01-30T03:05:49.587217",
     "status": "completed"
    },
    "tags": []
   },
   "outputs": [
    {
     "name": "stdout",
     "output_type": "stream",
     "text": [
      "CPU times: user 5 µs, sys: 0 ns, total: 5 µs\n",
      "Wall time: 9.3 µs\n"
     ]
    }
   ],
   "source": [
    "%%time\n",
    "if description[\"USE\"][\"actif\"]:\n",
    "    X_pred_test_use = USEkerasPipeline.predict(embed(X_test.values))\n",
    "    #     print(X_pred_test_use)\n",
    "    best, f1_score_avg = p5_nlp_utils.Commun.find_best_limit(\n",
    "        X_pred_test_use, y_test, target_names, limits=np.linspace(0, 1, 101)\n",
    "    )\n",
    "    pred_use_bool = p5_nlp_utils.Commun.convert_pred_to_bool(\n",
    "        X_pred_test_use, limit=best\n",
    "    )\n",
    "    use_pred_test_score = p5_nlp_utils.Commun.save_score(\n",
    "        y_true=y_test,\n",
    "        y_pred=pred_use_bool,\n",
    "        target_names=target_names,\n",
    "        name=None,\n",
    "    )\n",
    "    print(\"Sur le jeu test:\")\n",
    "    print(use_pred_test_score.sort_values(by=\"f1-score\", ascending=False))\n",
    "    USEkerasPipeline.save(\"kerasUSE\")"
   ]
  },
  {
   "cell_type": "markdown",
   "id": "742c6037",
   "metadata": {
    "papermill": {
     "duration": 8.167553,
     "end_time": "2023-01-30T03:06:14.165639",
     "exception": false,
     "start_time": "2023-01-30T03:06:05.998086",
     "status": "completed"
    },
    "tags": []
   },
   "source": [
    "La limite optimal peut etre différente en fonction des tags:"
   ]
  },
  {
   "cell_type": "code",
   "execution_count": 54,
   "id": "a0b37af5",
   "metadata": {
    "execution": {
     "iopub.execute_input": "2023-01-30T03:06:30.402171Z",
     "iopub.status.busy": "2023-01-30T03:06:30.401812Z",
     "iopub.status.idle": "2023-01-30T03:06:30.447113Z",
     "shell.execute_reply": "2023-01-30T03:06:30.446052Z"
    },
    "papermill": {
     "duration": 8.423137,
     "end_time": "2023-01-30T03:06:30.449481",
     "exception": false,
     "start_time": "2023-01-30T03:06:22.026344",
     "status": "completed"
    },
    "tags": []
   },
   "outputs": [
    {
     "name": "stdout",
     "output_type": "stream",
     "text": [
      "CPU times: user 4 µs, sys: 0 ns, total: 4 µs\n",
      "Wall time: 8.34 µs\n"
     ]
    }
   ],
   "source": [
    "%%time\n",
    "if description[\"USE\"][\"actif\"]:\n",
    "    best_limits_use = p5_nlp_utils.Commun.find_best_limit_by_tags(\n",
    "        X_pred_test_use, y_test, target_names, limits=np.linspace(0, 1, 101)\n",
    "    )\n",
    "#     print(best_limits_use)\n",
    "    with open(\"/kaggle/working/best_limits_use.json\", \"w\") as outfile:\n",
    "        json.dump(best_limits_use, outfile)\n",
    "        \n",
    "    pred_use_bool_2 = p5_nlp_utils.Commun.convert_pred_to_bool_by_tags(X_pred_test_use, {k: v[0] for k, v in best_limits_use.items()})\n",
    "    use_pred_test_score_2 = p5_nlp_utils.Commun.save_score(\n",
    "        y_true=y_test,\n",
    "        y_pred=pred_use_bool_2,\n",
    "        target_names=target_names,\n",
    "        name=\"kerasUSE\",\n",
    "    )\n",
    "    print(\"Sur le jeu test avec limit par tag:\")\n",
    "    print(use_pred_test_score_2.sort_values(by=\"f1-score\", ascending=False))"
   ]
  },
  {
   "cell_type": "code",
   "execution_count": 55,
   "id": "165d574e",
   "metadata": {
    "execution": {
     "iopub.execute_input": "2023-01-30T03:06:46.626507Z",
     "iopub.status.busy": "2023-01-30T03:06:46.626110Z",
     "iopub.status.idle": "2023-01-30T03:06:46.633028Z",
     "shell.execute_reply": "2023-01-30T03:06:46.632112Z"
    },
    "papermill": {
     "duration": 7.982809,
     "end_time": "2023-01-30T03:06:46.635187",
     "exception": false,
     "start_time": "2023-01-30T03:06:38.652378",
     "status": "completed"
    },
    "tags": []
   },
   "outputs": [],
   "source": [
    "# f1_scores = pd.DataFrame(\n",
    "#     [\n",
    "#         p5_nlp_utils.Commun.save_score(\n",
    "#             y_true=y_test,\n",
    "#             y_pred=p5_nlp_utils.Commun.convert_pred_to_bool(\n",
    "#                 X_pred_test_use, limit=limit\n",
    "#             ),\n",
    "#             target_names=target_names,\n",
    "#             name=None,\n",
    "#         ).loc[target_names, \"f1-score\"]\n",
    "#         for limit in np.linspace(0, 1, 101)\n",
    "#     ],\n",
    "#     index=np.linspace(0, 1, 101),\n",
    "# )"
   ]
  },
  {
   "cell_type": "code",
   "execution_count": 56,
   "id": "94378c15",
   "metadata": {
    "execution": {
     "iopub.execute_input": "2023-01-30T03:07:03.140090Z",
     "iopub.status.busy": "2023-01-30T03:07:03.139737Z",
     "iopub.status.idle": "2023-01-30T03:07:03.172903Z",
     "shell.execute_reply": "2023-01-30T03:07:03.172027Z"
    },
    "papermill": {
     "duration": 8.531702,
     "end_time": "2023-01-30T03:07:03.175049",
     "exception": false,
     "start_time": "2023-01-30T03:06:54.643347",
     "status": "completed"
    },
    "tags": []
   },
   "outputs": [],
   "source": [
    "if description[\"USE\"][\"actif\"] and description[\"USE\"][\"tsne_visu\"]:\n",
    "    use_pred_train = USEkerasPipeline.predict(X_train_use)\n",
    "    use_pred_train_bool = p5_nlp_utils.Commun.convert_pred_to_bool_by_tags(use_pred_train, {k: v[0] for k, v in best_limits_use.items()})\n",
    "    use_pred_train_score = p5_nlp_utils.Commun.save_score(\n",
    "        y_true=y_train, y_pred=use_pred_train_bool, target_names=target_names, name=None\n",
    "    )\n",
    "    print(\"Sur le jeu d'entrainement:\")\n",
    "    print(use_pred_train_score.sort_values(by=\"f1-score\", ascending=False))"
   ]
  },
  {
   "cell_type": "code",
   "execution_count": 57,
   "id": "eade9794",
   "metadata": {
    "execution": {
     "iopub.execute_input": "2023-01-30T03:07:19.543243Z",
     "iopub.status.busy": "2023-01-30T03:07:19.542894Z",
     "iopub.status.idle": "2023-01-30T03:07:19.596786Z",
     "shell.execute_reply": "2023-01-30T03:07:19.595725Z"
    },
    "papermill": {
     "duration": 8.116652,
     "end_time": "2023-01-30T03:07:19.598869",
     "exception": false,
     "start_time": "2023-01-30T03:07:11.482217",
     "status": "completed"
    },
    "tags": []
   },
   "outputs": [
    {
     "name": "stdout",
     "output_type": "stream",
     "text": [
      "CPU times: user 5 µs, sys: 0 ns, total: 5 µs\n",
      "Wall time: 8.11 µs\n"
     ]
    }
   ],
   "source": [
    "%%time\n",
    "if description[\"USE\"][\"actif\"] and description[\"USE\"][\"tsne_visu\"]:\n",
    "    X_train_use_tsne = p5_nlp_utils.Commun.calcul_tsne(X_train_use)\n",
    "    print(\"Tag Réél:\")\n",
    "    p5_nlp_utils.Commun.visu_tsne(\n",
    "        X_tsne=X_train_use_tsne,\n",
    "        y_train_monodim=y_train_monodim,\n",
    "        y_train=y_train,\n",
    "        target_names=target_names,\n",
    "        tag_list=[\n",
    "            \"java\",\n",
    "            \"c#\",\n",
    "            \"python\",\n",
    "            \"android\",\n",
    "            \"php\",\n",
    "            \".net\",\n",
    "            \"mysql\",\n",
    "            \"sql\",\n",
    "            \"javascript\",\n",
    "            \"jquery\",\n",
    "            \"html\",\n",
    "            \"node.js\",\n",
    "            \"css\",\n",
    "            \"c\",\n",
    "            \"mysql\",\n",
    "            \"linux\",\n",
    "            \"git\",\n",
    "        ],\n",
    "    )\n",
    "    print(\"Tag prédit:\")\n",
    "    p5_nlp_utils.Commun.visu_tsne(\n",
    "        X_tsne=X_train_use_tsne,\n",
    "        y_train_monodim=y_train_monodim,\n",
    "        y_train=use_pred_train_bool,\n",
    "        target_names=target_names,\n",
    "        tag_list=[\n",
    "            \"python\",\n",
    "            \"java\",\n",
    "            \"git\",\n",
    "            \"android\",\n",
    "            \"javascript\",\n",
    "            \"css\"\n",
    "        ],\n",
    "        maxcols=3,\n",
    "    )"
   ]
  },
  {
   "cell_type": "markdown",
   "id": "0432ad37",
   "metadata": {
    "papermill": {
     "duration": 8.167753,
     "end_time": "2023-01-30T03:07:35.885491",
     "exception": false,
     "start_time": "2023-01-30T03:07:27.717738",
     "status": "completed"
    },
    "tags": []
   },
   "source": [
    "# LDA "
   ]
  },
  {
   "cell_type": "code",
   "execution_count": 58,
   "id": "a4aa22e6",
   "metadata": {
    "execution": {
     "iopub.execute_input": "2023-01-30T03:07:52.063799Z",
     "iopub.status.busy": "2023-01-30T03:07:52.063440Z",
     "iopub.status.idle": "2023-01-30T03:07:52.068486Z",
     "shell.execute_reply": "2023-01-30T03:07:52.067489Z"
    },
    "papermill": {
     "duration": 8.035223,
     "end_time": "2023-01-30T03:07:52.070513",
     "exception": false,
     "start_time": "2023-01-30T03:07:44.035290",
     "status": "completed"
    },
    "tags": []
   },
   "outputs": [],
   "source": [
    "# import importlib\n",
    "\n",
    "# importlib.reload(p5_nlp_utils)"
   ]
  },
  {
   "cell_type": "code",
   "execution_count": 59,
   "id": "e284d5fc",
   "metadata": {
    "execution": {
     "iopub.execute_input": "2023-01-30T03:08:08.468305Z",
     "iopub.status.busy": "2023-01-30T03:08:08.467958Z",
     "iopub.status.idle": "2023-01-30T03:08:08.474033Z",
     "shell.execute_reply": "2023-01-30T03:08:08.473068Z"
    },
    "papermill": {
     "duration": 8.21388,
     "end_time": "2023-01-30T03:08:08.475958",
     "exception": false,
     "start_time": "2023-01-30T03:08:00.262078",
     "status": "completed"
    },
    "tags": []
   },
   "outputs": [],
   "source": [
    "import warnings"
   ]
  },
  {
   "cell_type": "code",
   "execution_count": 60,
   "id": "cc0d0a59",
   "metadata": {
    "execution": {
     "iopub.execute_input": "2023-01-30T03:08:24.649934Z",
     "iopub.status.busy": "2023-01-30T03:08:24.649582Z",
     "iopub.status.idle": "2023-01-30T03:08:24.705761Z",
     "shell.execute_reply": "2023-01-30T03:08:24.704778Z"
    },
    "papermill": {
     "duration": 8.145315,
     "end_time": "2023-01-30T03:08:24.707875",
     "exception": false,
     "start_time": "2023-01-30T03:08:16.562560",
     "status": "completed"
    },
    "tags": []
   },
   "outputs": [
    {
     "name": "stdout",
     "output_type": "stream",
     "text": [
      "CPU times: user 5 µs, sys: 0 ns, total: 5 µs\n",
      "Wall time: 9.54 µs\n"
     ]
    }
   ],
   "source": [
    "%%time\n",
    "lda_models = {}\n",
    "if description[\"LDA\"][\"actif\"]:\n",
    "    print(description[\"LDA\"])\n",
    "    X_train_tokens = X_train.str.split()\n",
    "    nb_num_topics = len(description[\"LDA\"][\"num_topics\"])\n",
    "    warnings.filterwarnings(\"ignore\", category=DeprecationWarning)\n",
    "    for indice, num_topics in enumerate(description[\"LDA\"][\"num_topics\"]):\n",
    "        print(f\"Début {num_topics}topics ({indice+1}/{nb_num_topics})\")\n",
    "        lda_model = p5_nlp_utils.LDA(\n",
    "            tokens=X_train_tokens,\n",
    "            num_topics=num_topics,\n",
    "            no_below=description[\"LDA\"][\"lda__no_below\"],\n",
    "            no_above=description[\"LDA\"][\"lda__no_above\"],\n",
    "            max_tokens=description[\"LDA\"][\"lda__max_tokens\"],\n",
    "            iterations=description[\"LDA\"][\"lda__iterations\"],\n",
    "        )\n",
    "        print(f\"Nommage des topis\")\n",
    "        lda_model.name_topics(target_names)\n",
    "        # print(lda_model.topics_names)\n",
    "        lda_model.word_cloud_by_topics(\n",
    "            nb_words=description[\"LDA\"][\"word_cloud__nb_words\"]\n",
    "        )\n",
    "        lda_models[indice] = lda_model.prepare_display()"
   ]
  },
  {
   "cell_type": "markdown",
   "id": "ef09ba23",
   "metadata": {
    "papermill": {
     "duration": 8.103658,
     "end_time": "2023-01-30T03:08:41.217409",
     "exception": false,
     "start_time": "2023-01-30T03:08:33.113751",
     "status": "completed"
    },
    "tags": []
   },
   "source": [
    "### Affichage des topics avec pyLDAvis:"
   ]
  },
  {
   "cell_type": "code",
   "execution_count": 61,
   "id": "348aadf0",
   "metadata": {
    "execution": {
     "iopub.execute_input": "2023-01-30T03:08:57.366465Z",
     "iopub.status.busy": "2023-01-30T03:08:57.366012Z",
     "iopub.status.idle": "2023-01-30T03:08:57.380130Z",
     "shell.execute_reply": "2023-01-30T03:08:57.379184Z"
    },
    "papermill": {
     "duration": 8.037078,
     "end_time": "2023-01-30T03:08:57.382229",
     "exception": false,
     "start_time": "2023-01-30T03:08:49.345151",
     "status": "completed"
    },
    "tags": []
   },
   "outputs": [],
   "source": [
    "pyLDAvis.display(lda_models[0].display_data) if lda_models and lda_models.get(\n",
    "    0, False\n",
    ") else None"
   ]
  },
  {
   "cell_type": "code",
   "execution_count": 62,
   "id": "58c4cf73",
   "metadata": {
    "execution": {
     "iopub.execute_input": "2023-01-30T03:09:13.764234Z",
     "iopub.status.busy": "2023-01-30T03:09:13.763876Z",
     "iopub.status.idle": "2023-01-30T03:09:13.778787Z",
     "shell.execute_reply": "2023-01-30T03:09:13.777969Z"
    },
    "papermill": {
     "duration": 8.182097,
     "end_time": "2023-01-30T03:09:13.780801",
     "exception": false,
     "start_time": "2023-01-30T03:09:05.598704",
     "status": "completed"
    },
    "tags": []
   },
   "outputs": [],
   "source": [
    "pyLDAvis.display(lda_models[1].display_data) if lda_models and lda_models.get(\n",
    "    1, False\n",
    ") else None"
   ]
  },
  {
   "cell_type": "code",
   "execution_count": 63,
   "id": "f5bb7dc0",
   "metadata": {
    "execution": {
     "iopub.execute_input": "2023-01-30T03:09:29.795344Z",
     "iopub.status.busy": "2023-01-30T03:09:29.794971Z",
     "iopub.status.idle": "2023-01-30T03:09:29.806287Z",
     "shell.execute_reply": "2023-01-30T03:09:29.805340Z"
    },
    "papermill": {
     "duration": 7.842093,
     "end_time": "2023-01-30T03:09:29.808269",
     "exception": false,
     "start_time": "2023-01-30T03:09:21.966176",
     "status": "completed"
    },
    "tags": []
   },
   "outputs": [],
   "source": [
    "pyLDAvis.display(lda_models[2].display_data) if lda_models and lda_models.get(\n",
    "    2, False\n",
    ") else None"
   ]
  },
  {
   "cell_type": "code",
   "execution_count": 64,
   "id": "ac91945f",
   "metadata": {
    "execution": {
     "iopub.execute_input": "2023-01-30T03:09:46.417079Z",
     "iopub.status.busy": "2023-01-30T03:09:46.416710Z",
     "iopub.status.idle": "2023-01-30T03:09:46.421585Z",
     "shell.execute_reply": "2023-01-30T03:09:46.420657Z"
    },
    "papermill": {
     "duration": 8.123611,
     "end_time": "2023-01-30T03:09:46.423571",
     "exception": false,
     "start_time": "2023-01-30T03:09:38.299960",
     "status": "completed"
    },
    "tags": []
   },
   "outputs": [],
   "source": [
    "# pyLDAvis.prepared_data_to_html(lda_models[0].display_data)"
   ]
  },
  {
   "cell_type": "code",
   "execution_count": 65,
   "id": "81472cc2",
   "metadata": {
    "execution": {
     "iopub.execute_input": "2023-01-30T03:10:02.206214Z",
     "iopub.status.busy": "2023-01-30T03:10:02.205857Z",
     "iopub.status.idle": "2023-01-30T03:10:02.232027Z",
     "shell.execute_reply": "2023-01-30T03:10:02.231015Z"
    },
    "papermill": {
     "duration": 7.821434,
     "end_time": "2023-01-30T03:10:02.234024",
     "exception": false,
     "start_time": "2023-01-30T03:09:54.412590",
     "status": "completed"
    },
    "tags": []
   },
   "outputs": [
    {
     "name": "stdout",
     "output_type": "stream",
     "text": [
      "CPU times: user 4 µs, sys: 0 ns, total: 4 µs\n",
      "Wall time: 8.58 µs\n"
     ]
    }
   ],
   "source": [
    "%%time\n",
    "if description[\"LDA\"][\"actif\"]:\n",
    "    lda_model = lda_models[list(lda_models.keys())[-1]]  # last\n",
    "    pred_lda = lda_model.predict(X_test.str.split())\n",
    "    print(\"Exemple prediction\", pred_lda[0])\n",
    "    pred_lda_bool = p5_nlp_utils.LDA.convert_pred(pred_lda, target_names)\n",
    "    print(pred_lda_bool.head(1))"
   ]
  },
  {
   "cell_type": "code",
   "execution_count": 66,
   "id": "83377dea",
   "metadata": {
    "execution": {
     "iopub.execute_input": "2023-01-30T03:10:18.759467Z",
     "iopub.status.busy": "2023-01-30T03:10:18.759085Z",
     "iopub.status.idle": "2023-01-30T03:10:18.787047Z",
     "shell.execute_reply": "2023-01-30T03:10:18.785655Z"
    },
    "papermill": {
     "duration": 8.044397,
     "end_time": "2023-01-30T03:10:18.789209",
     "exception": false,
     "start_time": "2023-01-30T03:10:10.744812",
     "status": "completed"
    },
    "tags": []
   },
   "outputs": [
    {
     "name": "stdout",
     "output_type": "stream",
     "text": [
      "CPU times: user 6 µs, sys: 0 ns, total: 6 µs\n",
      "Wall time: 9.3 µs\n"
     ]
    }
   ],
   "source": [
    "%%time\n",
    "if description[\"LDA\"][\"actif\"]:\n",
    "    lda_pred_test_score = p5_nlp_utils.Commun.save_score(\n",
    "        y_true=y_test,\n",
    "        y_pred=pred_lda_bool,\n",
    "        target_names=target_names,\n",
    "        name=\"LDA\",\n",
    "    )\n",
    "    print(\"Sur le jeu test:\")\n",
    "    print(lda_pred_test_score.sort_values(by=\"f1-score\", ascending=False))\n",
    "    lda_model.model.save(\"LDA\")"
   ]
  },
  {
   "cell_type": "code",
   "execution_count": 67,
   "id": "3d11d3e5",
   "metadata": {
    "execution": {
     "iopub.execute_input": "2023-01-30T03:10:34.644900Z",
     "iopub.status.busy": "2023-01-30T03:10:34.644537Z",
     "iopub.status.idle": "2023-01-30T03:10:34.649820Z",
     "shell.execute_reply": "2023-01-30T03:10:34.648922Z"
    },
    "papermill": {
     "duration": 7.79231,
     "end_time": "2023-01-30T03:10:34.651816",
     "exception": false,
     "start_time": "2023-01-30T03:10:26.859506",
     "status": "completed"
    },
    "tags": []
   },
   "outputs": [],
   "source": [
    "# X_test.values[0]"
   ]
  },
  {
   "cell_type": "code",
   "execution_count": 68,
   "id": "4759b08d",
   "metadata": {
    "execution": {
     "iopub.execute_input": "2023-01-30T03:10:51.323042Z",
     "iopub.status.busy": "2023-01-30T03:10:51.322663Z",
     "iopub.status.idle": "2023-01-30T03:10:51.328028Z",
     "shell.execute_reply": "2023-01-30T03:10:51.326971Z"
    },
    "papermill": {
     "duration": 8.061727,
     "end_time": "2023-01-30T03:10:51.330113",
     "exception": false,
     "start_time": "2023-01-30T03:10:43.268386",
     "status": "completed"
    },
    "tags": []
   },
   "outputs": [],
   "source": [
    "# pred_lda[0]"
   ]
  },
  {
   "cell_type": "code",
   "execution_count": 69,
   "id": "8680b8f8",
   "metadata": {
    "execution": {
     "iopub.execute_input": "2023-01-30T03:11:07.666100Z",
     "iopub.status.busy": "2023-01-30T03:11:07.665564Z",
     "iopub.status.idle": "2023-01-30T03:11:07.671906Z",
     "shell.execute_reply": "2023-01-30T03:11:07.671010Z"
    },
    "papermill": {
     "duration": 8.245632,
     "end_time": "2023-01-30T03:11:07.676733",
     "exception": false,
     "start_time": "2023-01-30T03:10:59.431101",
     "status": "completed"
    },
    "tags": []
   },
   "outputs": [],
   "source": [
    "# y_test.iloc[0]"
   ]
  },
  {
   "cell_type": "code",
   "execution_count": 70,
   "id": "7d2d6d05",
   "metadata": {
    "execution": {
     "iopub.execute_input": "2023-01-30T03:11:23.835989Z",
     "iopub.status.busy": "2023-01-30T03:11:23.835632Z",
     "iopub.status.idle": "2023-01-30T03:11:23.863606Z",
     "shell.execute_reply": "2023-01-30T03:11:23.862730Z"
    },
    "papermill": {
     "duration": 8.085916,
     "end_time": "2023-01-30T03:11:23.865639",
     "exception": false,
     "start_time": "2023-01-30T03:11:15.779723",
     "status": "completed"
    },
    "tags": []
   },
   "outputs": [],
   "source": [
    "def compare_topic_tags(\n",
    "    pred_topic, y_true, tags=[\"java\", \"python\", \"javascript\", \"git\"]\n",
    "):\n",
    "    \"\"\"Pour chacun des tags, regarde les topics attribué quand ce tag est présent\"\"\"\n",
    "    df_pred = pd.DataFrame(pred_topic)\n",
    "    for tag in tags:\n",
    "        print(f\"***{colors.BOLD}{tag}{colors.ENDC}*** sur {sum(y_true[tag])} positif\")\n",
    "        display(\n",
    "            df_pred[y_true[tag].values]\n",
    "            .describe()\n",
    "            .sort_values(by=\"count\", ascending=False, axis=\"columns\")\n",
    "        )\n",
    "        print(\"\\n\")"
   ]
  },
  {
   "cell_type": "code",
   "execution_count": 71,
   "id": "b304fbc4",
   "metadata": {
    "execution": {
     "iopub.execute_input": "2023-01-30T03:11:40.266260Z",
     "iopub.status.busy": "2023-01-30T03:11:40.265886Z",
     "iopub.status.idle": "2023-01-30T03:11:40.276392Z",
     "shell.execute_reply": "2023-01-30T03:11:40.275440Z"
    },
    "papermill": {
     "duration": 8.383389,
     "end_time": "2023-01-30T03:11:40.278535",
     "exception": false,
     "start_time": "2023-01-30T03:11:31.895146",
     "status": "completed"
    },
    "tags": []
   },
   "outputs": [],
   "source": [
    "if description[\"LDA\"][\"actif\"]:\n",
    "    compare_topic_tags(pred_lda, y_test)"
   ]
  }
 ],
 "metadata": {
  "kernelspec": {
   "display_name": "Python 3",
   "language": "python",
   "name": "python3"
  },
  "language_info": {
   "codemirror_mode": {
    "name": "ipython",
    "version": 3
   },
   "file_extension": ".py",
   "mimetype": "text/x-python",
   "name": "python",
   "nbconvert_exporter": "python",
   "pygments_lexer": "ipython3",
   "version": "3.7.12"
  },
  "papermill": {
   "default_parameters": {},
   "duration": 13616.525397,
   "end_time": "2023-01-30T03:11:51.237044",
   "environment_variables": {},
   "exception": null,
   "input_path": "__notebook__.ipynb",
   "output_path": "__notebook__.ipynb",
   "parameters": {},
   "start_time": "2023-01-29T23:24:54.711647",
   "version": "2.3.4"
  },
  "widgets": {
   "application/vnd.jupyter.widget-state+json": {
    "state": {
     "1ff89cc637d94b1ea5ed74617b72a33a": {
      "model_module": "@jupyter-widgets/base",
      "model_module_version": "1.2.0",
      "model_name": "LayoutModel",
      "state": {
       "_model_module": "@jupyter-widgets/base",
       "_model_module_version": "1.2.0",
       "_model_name": "LayoutModel",
       "_view_count": null,
       "_view_module": "@jupyter-widgets/base",
       "_view_module_version": "1.2.0",
       "_view_name": "LayoutView",
       "align_content": null,
       "align_items": null,
       "align_self": null,
       "border": null,
       "bottom": null,
       "display": null,
       "flex": null,
       "flex_flow": null,
       "grid_area": null,
       "grid_auto_columns": null,
       "grid_auto_flow": null,
       "grid_auto_rows": null,
       "grid_column": null,
       "grid_gap": null,
       "grid_row": null,
       "grid_template_areas": null,
       "grid_template_columns": null,
       "grid_template_rows": null,
       "height": null,
       "justify_content": null,
       "justify_items": null,
       "left": null,
       "margin": null,
       "max_height": null,
       "max_width": null,
       "min_height": null,
       "min_width": null,
       "object_fit": null,
       "object_position": null,
       "order": null,
       "overflow": null,
       "overflow_x": null,
       "overflow_y": null,
       "padding": null,
       "right": null,
       "top": null,
       "visibility": null,
       "width": null
      }
     },
     "5c136cc35b044c02b972ff02e14001f4": {
      "model_module": "@jupyter-widgets/output",
      "model_module_version": "1.0.0",
      "model_name": "OutputModel",
      "state": {
       "_dom_classes": [],
       "_model_module": "@jupyter-widgets/output",
       "_model_module_version": "1.0.0",
       "_model_name": "OutputModel",
       "_view_count": null,
       "_view_module": "@jupyter-widgets/output",
       "_view_module_version": "1.0.0",
       "_view_name": "OutputView",
       "layout": "IPY_MODEL_1ff89cc637d94b1ea5ed74617b72a33a",
       "msg_id": "",
       "outputs": [
        {
         "name": "stdout",
         "output_type": "stream",
         "text": "***Title***How to change culture to a DateTimepicker or calendar control in .Net\n******************************\n***Body***<p>How to set internationalization to a <code>DateTimepicker</code> or <code>Calendar WinForm</code> control in .Net when the desire culture is different to the one installed in the PC?</p>\n\n******************************\n        ***Lemma** change culture datetimepicker calendar control set internationalization datetimepicker calendar winform control .net desire culture instal pc\n******************************\n        ***Bert*** how to change culture to a datetimepicker or calendar control in .net how to set internationalization to a datetimepicker or calendar winform control in .net when the desire culture is different to the one installed in the pc?\n******************************\n        ***Code*** DateTimepicker Calendar WinForm\n******************************\n        ***Tags*** c# .net internationalization datetimepicker culture\n"
        }
       ]
      }
     },
     "708133d7e8d1453aba3273b8eea8e038": {
      "model_module": "@jupyter-widgets/controls",
      "model_module_version": "1.5.0",
      "model_name": "VBoxModel",
      "state": {
       "_dom_classes": [
        "widget-interact"
       ],
       "_model_module": "@jupyter-widgets/controls",
       "_model_module_version": "1.5.0",
       "_model_name": "VBoxModel",
       "_view_count": null,
       "_view_module": "@jupyter-widgets/controls",
       "_view_module_version": "1.5.0",
       "_view_name": "VBoxView",
       "box_style": "",
       "children": [
        "IPY_MODEL_970cef68fc364cdebb3ba43481ff4605",
        "IPY_MODEL_5c136cc35b044c02b972ff02e14001f4"
       ],
       "layout": "IPY_MODEL_d601b31fc05247edb194403d08031dd6"
      }
     },
     "71daf68cbe4341f3a83a8cb8bfdb7176": {
      "model_module": "@jupyter-widgets/base",
      "model_module_version": "1.2.0",
      "model_name": "LayoutModel",
      "state": {
       "_model_module": "@jupyter-widgets/base",
       "_model_module_version": "1.2.0",
       "_model_name": "LayoutModel",
       "_view_count": null,
       "_view_module": "@jupyter-widgets/base",
       "_view_module_version": "1.2.0",
       "_view_name": "LayoutView",
       "align_content": null,
       "align_items": null,
       "align_self": null,
       "border": null,
       "bottom": null,
       "display": null,
       "flex": null,
       "flex_flow": null,
       "grid_area": null,
       "grid_auto_columns": null,
       "grid_auto_flow": null,
       "grid_auto_rows": null,
       "grid_column": null,
       "grid_gap": null,
       "grid_row": null,
       "grid_template_areas": null,
       "grid_template_columns": null,
       "grid_template_rows": null,
       "height": null,
       "justify_content": null,
       "justify_items": null,
       "left": null,
       "margin": null,
       "max_height": null,
       "max_width": null,
       "min_height": null,
       "min_width": null,
       "object_fit": null,
       "object_position": null,
       "order": null,
       "overflow": null,
       "overflow_x": null,
       "overflow_y": null,
       "padding": null,
       "right": null,
       "top": null,
       "visibility": null,
       "width": null
      }
     },
     "970cef68fc364cdebb3ba43481ff4605": {
      "model_module": "@jupyter-widgets/controls",
      "model_module_version": "1.5.0",
      "model_name": "IntSliderModel",
      "state": {
       "_dom_classes": [],
       "_model_module": "@jupyter-widgets/controls",
       "_model_module_version": "1.5.0",
       "_model_name": "IntSliderModel",
       "_view_count": null,
       "_view_module": "@jupyter-widgets/controls",
       "_view_module_version": "1.5.0",
       "_view_name": "IntSliderView",
       "continuous_update": true,
       "description": "i",
       "description_tooltip": null,
       "disabled": false,
       "layout": "IPY_MODEL_71daf68cbe4341f3a83a8cb8bfdb7176",
       "max": 118441,
       "min": 0,
       "orientation": "horizontal",
       "readout": true,
       "readout_format": "d",
       "step": 1,
       "style": "IPY_MODEL_9a15dc60e2d7492396311d5e49ec0aab",
       "value": 59220
      }
     },
     "9a15dc60e2d7492396311d5e49ec0aab": {
      "model_module": "@jupyter-widgets/controls",
      "model_module_version": "1.5.0",
      "model_name": "SliderStyleModel",
      "state": {
       "_model_module": "@jupyter-widgets/controls",
       "_model_module_version": "1.5.0",
       "_model_name": "SliderStyleModel",
       "_view_count": null,
       "_view_module": "@jupyter-widgets/base",
       "_view_module_version": "1.2.0",
       "_view_name": "StyleView",
       "description_width": "",
       "handle_color": null
      }
     },
     "d601b31fc05247edb194403d08031dd6": {
      "model_module": "@jupyter-widgets/base",
      "model_module_version": "1.2.0",
      "model_name": "LayoutModel",
      "state": {
       "_model_module": "@jupyter-widgets/base",
       "_model_module_version": "1.2.0",
       "_model_name": "LayoutModel",
       "_view_count": null,
       "_view_module": "@jupyter-widgets/base",
       "_view_module_version": "1.2.0",
       "_view_name": "LayoutView",
       "align_content": null,
       "align_items": null,
       "align_self": null,
       "border": null,
       "bottom": null,
       "display": null,
       "flex": null,
       "flex_flow": null,
       "grid_area": null,
       "grid_auto_columns": null,
       "grid_auto_flow": null,
       "grid_auto_rows": null,
       "grid_column": null,
       "grid_gap": null,
       "grid_row": null,
       "grid_template_areas": null,
       "grid_template_columns": null,
       "grid_template_rows": null,
       "height": null,
       "justify_content": null,
       "justify_items": null,
       "left": null,
       "margin": null,
       "max_height": null,
       "max_width": null,
       "min_height": null,
       "min_width": null,
       "object_fit": null,
       "object_position": null,
       "order": null,
       "overflow": null,
       "overflow_x": null,
       "overflow_y": null,
       "padding": null,
       "right": null,
       "top": null,
       "visibility": null,
       "width": null
      }
     }
    },
    "version_major": 2,
    "version_minor": 0
   }
  }
 },
 "nbformat": 4,
 "nbformat_minor": 5
}
