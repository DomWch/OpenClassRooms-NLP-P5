{
 "cells": [
  {
   "cell_type": "code",
   "execution_count": 1,
   "id": "233987cb",
   "metadata": {
    "_cell_guid": "b1076dfc-b9ad-4769-8c92-a6c4dae69d19",
    "_uuid": "8f2839f25d086af736a60e9eeb907d3b93b6e0e5",
    "execution": {
     "iopub.execute_input": "2023-01-25T16:43:47.000167Z",
     "iopub.status.busy": "2023-01-25T16:43:46.999549Z",
     "iopub.status.idle": "2023-01-25T16:43:48.996675Z",
     "shell.execute_reply": "2023-01-25T16:43:48.995087Z"
    },
    "papermill": {
     "duration": 2.014075,
     "end_time": "2023-01-25T16:43:48.999959",
     "exception": false,
     "start_time": "2023-01-25T16:43:46.985884",
     "status": "completed"
    },
    "tags": []
   },
   "outputs": [],
   "source": [
    "import re\n",
    "\n",
    "from wordcloud import WordCloud\n",
    "import numpy as np\n",
    "import pandas as pd\n",
    "import matplotlib.pyplot as plt\n",
    "import seaborn as sns\n",
    "from sklearn import (\n",
    "    feature_extraction,\n",
    "    linear_model,\n",
    "    model_selection,\n",
    "    preprocessing,\n",
    "    cluster,\n",
    ")"
   ]
  },
  {
   "cell_type": "code",
   "execution_count": 2,
   "id": "a6d2b3c2",
   "metadata": {
    "execution": {
     "iopub.execute_input": "2023-01-25T16:43:49.022860Z",
     "iopub.status.busy": "2023-01-25T16:43:49.022440Z",
     "iopub.status.idle": "2023-01-25T16:43:49.028436Z",
     "shell.execute_reply": "2023-01-25T16:43:49.027033Z"
    },
    "papermill": {
     "duration": 0.02141,
     "end_time": "2023-01-25T16:43:49.031813",
     "exception": false,
     "start_time": "2023-01-25T16:43:49.010403",
     "status": "completed"
    },
    "tags": []
   },
   "outputs": [],
   "source": [
    "import warnings\n",
    "warnings.filterwarnings(\"ignore\", category=DeprecationWarning) #pour wordcloud"
   ]
  },
  {
   "cell_type": "code",
   "execution_count": null,
   "id": "b4cd1490",
   "metadata": {
    "execution": {
     "iopub.execute_input": "2023-01-25T16:43:49.055315Z",
     "iopub.status.busy": "2023-01-25T16:43:49.054907Z",
     "iopub.status.idle": "2023-01-25T16:44:07.004306Z",
     "shell.execute_reply": "2023-01-25T16:44:07.002394Z"
    },
    "papermill": {
     "duration": 17.964809,
     "end_time": "2023-01-25T16:44:07.007857",
     "exception": false,
     "start_time": "2023-01-25T16:43:49.043048",
     "status": "completed"
    },
    "tags": []
   },
   "outputs": [],
   "source": [
    "import p5_nlp_utils"
   ]
  },
  {
   "cell_type": "markdown",
   "id": "c5536df1",
   "metadata": {
    "papermill": {
     "duration": 0.01183,
     "end_time": "2023-01-25T16:44:07.031273",
     "exception": false,
     "start_time": "2023-01-25T16:44:07.019443",
     "status": "completed"
    },
    "tags": []
   },
   "source": [
    "https://spacy.io/usage#quickstart\n",
    "https://www.kaggle.com/code/rftexas/nlp-cheatsheet-master-nlp\n",
    "https://www.kaggle.com/code/philculliton/nlp-getting-started-tutorial/notebook"
   ]
  },
  {
   "cell_type": "code",
   "execution_count": null,
   "id": "4e1fd11f",
   "metadata": {
    "_kg_hide-output": true,
    "execution": {
     "iopub.execute_input": "2023-01-25T16:44:07.058248Z",
     "iopub.status.busy": "2023-01-25T16:44:07.057524Z",
     "iopub.status.idle": "2023-01-25T16:44:23.757383Z",
     "shell.execute_reply": "2023-01-25T16:44:23.755390Z"
    },
    "papermill": {
     "duration": 16.715144,
     "end_time": "2023-01-25T16:44:23.760584",
     "exception": false,
     "start_time": "2023-01-25T16:44:07.045440",
     "status": "completed"
    },
    "tags": []
   },
   "outputs": [],
   "source": [
    "pip install jupyter-black jupyter"
   ]
  },
  {
   "cell_type": "code",
   "execution_count": null,
   "id": "be8479bc",
   "metadata": {
    "execution": {
     "iopub.execute_input": "2023-01-25T16:44:23.790522Z",
     "iopub.status.busy": "2023-01-25T16:44:23.790022Z",
     "iopub.status.idle": "2023-01-25T16:44:24.025766Z",
     "shell.execute_reply": "2023-01-25T16:44:24.023635Z"
    },
    "papermill": {
     "duration": 0.254911,
     "end_time": "2023-01-25T16:44:24.029201",
     "exception": false,
     "start_time": "2023-01-25T16:44:23.774290",
     "status": "completed"
    },
    "tags": []
   },
   "outputs": [],
   "source": [
    "# for black formating\n",
    "import jupyter_black  # pip install jupyter-black jupyter\n",
    "\n",
    "jupyter_black.load()\n",
    "# ??jupyter_black.load #show config"
   ]
  },
  {
   "attachments": {},
   "cell_type": "markdown",
   "id": "bb15d86d",
   "metadata": {},
   "source": [
    "## Requete SQL pour récupéré les questions StackOverFlow\n",
    "3 fois car le nombre maximum de résultat est 50_000"
   ]
  },
  {
   "attachments": {},
   "cell_type": "markdown",
   "id": "d7e0c924",
   "metadata": {
    "papermill": {
     "duration": 0.01203,
     "end_time": "2023-01-25T16:44:24.053702",
     "exception": false,
     "start_time": "2023-01-25T16:44:24.041672",
     "status": "completed"
    },
    "tags": []
   },
   "source": [
    "only return 50_000\n",
    "```sql\n",
    "SELECT TOP 100000 Title, Body, Tags, Id, Score, ViewCount, FavoriteCount, AnswerCount, CommentCount, ClosedDate, AcceptedAnswerId\n",
    "FROM Posts\n",
    "WHERE ViewCount>100 AND (LEN(TAGS)-LEN(REPLACE(Tags, '<','')))>=5\n",
    "```"
   ]
  },
  {
   "cell_type": "code",
   "execution_count": 6,
   "id": "c0517260",
   "metadata": {
    "execution": {
     "iopub.execute_input": "2023-01-25T16:44:24.083462Z",
     "iopub.status.busy": "2023-01-25T16:44:24.082887Z",
     "iopub.status.idle": "2023-01-25T16:44:27.033108Z",
     "shell.execute_reply": "2023-01-25T16:44:27.030843Z"
    },
    "papermill": {
     "duration": 2.969496,
     "end_time": "2023-01-25T16:44:27.036723",
     "exception": false,
     "start_time": "2023-01-25T16:44:24.067227",
     "status": "completed"
    },
    "tags": []
   },
   "outputs": [],
   "source": [
    "df = pd.read_csv(\"/kaggle/input/stackoverflowqueryres0/QueryResults.csv\")"
   ]
  },
  {
   "attachments": {},
   "cell_type": "markdown",
   "id": "2ec74524",
   "metadata": {
    "papermill": {
     "duration": 0.012975,
     "end_time": "2023-01-25T16:44:27.062984",
     "exception": false,
     "start_time": "2023-01-25T16:44:27.050009",
     "status": "completed"
    },
    "tags": []
   },
   "source": [
    "Question pertinantes (views score comment):\n",
    "```sql\n",
    "SELECT TOP 50000 Title, Body, Tags, Id, Score, ViewCount, FavoriteCount, AnswerCount, CommentCount, ClosedDate, AcceptedAnswerId\n",
    "FROM Posts\n",
    "WHERE ViewCount>1000 AND Score>10 AND (AnswerCount>5 OR CommentCount>5) AND (LEN(TAGS)-LEN(REPLACE(Tags, '<','')))>=4\n",
    "```\n"
   ]
  },
  {
   "cell_type": "code",
   "execution_count": 7,
   "id": "7b1fe0aa",
   "metadata": {
    "execution": {
     "iopub.execute_input": "2023-01-25T16:44:27.097734Z",
     "iopub.status.busy": "2023-01-25T16:44:27.097259Z",
     "iopub.status.idle": "2023-01-25T16:44:29.193219Z",
     "shell.execute_reply": "2023-01-25T16:44:29.190719Z"
    },
    "papermill": {
     "duration": 2.118836,
     "end_time": "2023-01-25T16:44:29.196820",
     "exception": false,
     "start_time": "2023-01-25T16:44:27.077984",
     "status": "completed"
    },
    "tags": []
   },
   "outputs": [],
   "source": [
    "df = pd.concat([pd.read_csv(\"/kaggle/input/stackoverflow/QueryResults1Score.csv\"), df])"
   ]
  },
  {
   "attachments": {},
   "cell_type": "markdown",
   "id": "bf5fddbf",
   "metadata": {
    "papermill": {
     "duration": 0.013568,
     "end_time": "2023-01-25T16:44:29.223320",
     "exception": false,
     "start_time": "2023-01-25T16:44:29.209752",
     "status": "completed"
    },
    "tags": []
   },
   "source": [
    "Questions avec le plus de score/view:\n",
    "```sql\n",
    "SELECT TOP 50000 Title, Body, Tags, Id, Score, ViewCount, FavoriteCount, AnswerCount, CommentCount, ClosedDate, AcceptedAnswerId\n",
    "FROM Posts\n",
    "WHERE ViewCount>1000 AND Score>10 AND (AnswerCount>5 OR CommentCount>5) AND (LEN(TAGS)-LEN(REPLACE(Tags, '<','')))>=4\n",
    "ORDER BY Score Desc, ViewCount DESC\n",
    "```"
   ]
  },
  {
   "cell_type": "code",
   "execution_count": 8,
   "id": "a7740703",
   "metadata": {
    "execution": {
     "iopub.execute_input": "2023-01-25T16:44:29.250610Z",
     "iopub.status.busy": "2023-01-25T16:44:29.250148Z",
     "iopub.status.idle": "2023-01-25T16:44:31.333961Z",
     "shell.execute_reply": "2023-01-25T16:44:31.332390Z"
    },
    "papermill": {
     "duration": 2.10179,
     "end_time": "2023-01-25T16:44:31.337608",
     "exception": false,
     "start_time": "2023-01-25T16:44:29.235818",
     "status": "completed"
    },
    "tags": []
   },
   "outputs": [],
   "source": [
    "df = pd.concat(\n",
    "    [pd.read_csv(\"/kaggle/input/stackoverflow/QueryResults2TopOrderByScore.csv\"), df]\n",
    ")"
   ]
  },
  {
   "cell_type": "code",
   "execution_count": 9,
   "id": "218f9c42",
   "metadata": {
    "execution": {
     "iopub.execute_input": "2023-01-25T16:44:31.366800Z",
     "iopub.status.busy": "2023-01-25T16:44:31.366317Z",
     "iopub.status.idle": "2023-01-25T16:44:31.456029Z",
     "shell.execute_reply": "2023-01-25T16:44:31.454006Z"
    },
    "papermill": {
     "duration": 0.10909,
     "end_time": "2023-01-25T16:44:31.460099",
     "exception": false,
     "start_time": "2023-01-25T16:44:31.351009",
     "status": "completed"
    },
    "tags": []
   },
   "outputs": [
    {
     "name": "stdout",
     "output_type": "stream",
     "text": [
      "<class 'pandas.core.frame.DataFrame'>\n",
      "Int64Index: 150000 entries, 0 to 49999\n",
      "Data columns (total 11 columns):\n",
      " #   Column            Non-Null Count   Dtype  \n",
      "---  ------            --------------   -----  \n",
      " 0   Title             150000 non-null  object \n",
      " 1   Body              150000 non-null  object \n",
      " 2   Tags              150000 non-null  object \n",
      " 3   Id                150000 non-null  int64  \n",
      " 4   Score             150000 non-null  int64  \n",
      " 5   ViewCount         150000 non-null  int64  \n",
      " 6   FavoriteCount     116783 non-null  float64\n",
      " 7   AnswerCount       150000 non-null  int64  \n",
      " 8   CommentCount      150000 non-null  int64  \n",
      " 9   ClosedDate        7619 non-null    object \n",
      " 10  AcceptedAnswerId  107891 non-null  float64\n",
      "dtypes: float64(2), int64(5), object(4)\n",
      "memory usage: 13.7+ MB\n"
     ]
    }
   ],
   "source": [
    "df.info()"
   ]
  },
  {
   "attachments": {},
   "cell_type": "markdown",
   "id": "2f3caa4f",
   "metadata": {},
   "source": [
    "Suppression des dupliqués par id"
   ]
  },
  {
   "cell_type": "code",
   "execution_count": 10,
   "id": "007123a5",
   "metadata": {
    "execution": {
     "iopub.execute_input": "2023-01-25T16:44:31.493721Z",
     "iopub.status.busy": "2023-01-25T16:44:31.491822Z",
     "iopub.status.idle": "2023-01-25T16:44:31.675627Z",
     "shell.execute_reply": "2023-01-25T16:44:31.673481Z"
    },
    "papermill": {
     "duration": 0.204999,
     "end_time": "2023-01-25T16:44:31.678844",
     "exception": false,
     "start_time": "2023-01-25T16:44:31.473845",
     "status": "completed"
    },
    "tags": []
   },
   "outputs": [
    {
     "name": "stdout",
     "output_type": "stream",
     "text": [
      "<class 'pandas.core.frame.DataFrame'>\n",
      "RangeIndex: 118442 entries, 0 to 118441\n",
      "Data columns (total 11 columns):\n",
      " #   Column            Non-Null Count   Dtype  \n",
      "---  ------            --------------   -----  \n",
      " 0   Title             118442 non-null  object \n",
      " 1   Body              118442 non-null  object \n",
      " 2   Tags              118442 non-null  object \n",
      " 3   Id                118442 non-null  int64  \n",
      " 4   Score             118442 non-null  int64  \n",
      " 5   ViewCount         118442 non-null  int64  \n",
      " 6   FavoriteCount     85312 non-null   float64\n",
      " 7   AnswerCount       118442 non-null  int64  \n",
      " 8   CommentCount      118442 non-null  int64  \n",
      " 9   ClosedDate        5445 non-null    object \n",
      " 10  AcceptedAnswerId  81953 non-null   float64\n",
      "dtypes: float64(2), int64(5), object(4)\n",
      "memory usage: 9.9+ MB\n"
     ]
    }
   ],
   "source": [
    "df = df[~df.duplicated(subset=\"Id\")].reset_index(drop=True)\n",
    "df.info()"
   ]
  },
  {
   "cell_type": "markdown",
   "id": "a803034a",
   "metadata": {
    "papermill": {
     "duration": 0.014174,
     "end_time": "2023-01-25T16:44:31.705651",
     "exception": false,
     "start_time": "2023-01-25T16:44:31.691477",
     "status": "completed"
    },
    "tags": []
   },
   "source": [
    "### combinaison de tags les plus fréquent"
   ]
  },
  {
   "cell_type": "code",
   "execution_count": 11,
   "id": "34156668",
   "metadata": {
    "execution": {
     "iopub.execute_input": "2023-01-25T16:44:31.735222Z",
     "iopub.status.busy": "2023-01-25T16:44:31.734809Z",
     "iopub.status.idle": "2023-01-25T16:44:31.853305Z",
     "shell.execute_reply": "2023-01-25T16:44:31.851941Z"
    },
    "papermill": {
     "duration": 0.135854,
     "end_time": "2023-01-25T16:44:31.856095",
     "exception": false,
     "start_time": "2023-01-25T16:44:31.720241",
     "status": "completed"
    },
    "tags": []
   },
   "outputs": [
    {
     "data": {
      "text/plain": [
       "<javascript><jquery><html><css>                             0.000912\n",
       "<javascript><jquery><html><css><twitter-bootstrap>          0.000735\n",
       "<javascript><php><jquery><html><ajax>                       0.000321\n",
       "<sql><sql-server><sql-server-2005><tsql>                    0.000270\n",
       "<html><css><twitter-bootstrap><twitter-bootstrap-3>         0.000220\n",
       "<javascript><php><jquery><html><css>                        0.000203\n",
       "<sql><sql-server><tsql><sql-server-2008>                    0.000194\n",
       "<javascript><jquery><html><css><jquery-ui>                  0.000177\n",
       "<javascript><php><jquery><mysql><ajax>                      0.000160\n",
       "<c#><.net><winforms><datagridview>                          0.000144\n",
       "<java><lambda><java-8><java-stream>                         0.000144\n",
       "<javascript><jquery><html><forms>                           0.000135\n",
       "<php><apache><.htaccess><redirect><mod-rewrite>             0.000127\n",
       "<c#><.net><exception><exception-handling>                   0.000127\n",
       "<android><android-studio><gradle><android-gradle-plugin>    0.000118\n",
       "<python><selenium><xpath><css-selectors><webdriverwait>     0.000118\n",
       "<javascript><jquery><html><css><ajax>                       0.000118\n",
       "<angular><typescript><ionic-framework><ionic2><ionic3>      0.000110\n",
       "<javascript><jquery><html><dom>                             0.000110\n",
       "<javascript><php><jquery><html><forms>                      0.000110\n",
       "Name: Tags, dtype: float64"
      ]
     },
     "execution_count": 11,
     "metadata": {},
     "output_type": "execute_result"
    }
   ],
   "source": [
    "df[\"Tags\"].value_counts(normalize=True).head(20)"
   ]
  },
  {
   "cell_type": "code",
   "execution_count": 12,
   "id": "1fab3b87",
   "metadata": {
    "execution": {
     "iopub.execute_input": "2023-01-25T16:44:31.885955Z",
     "iopub.status.busy": "2023-01-25T16:44:31.885331Z",
     "iopub.status.idle": "2023-01-25T16:44:34.356717Z",
     "shell.execute_reply": "2023-01-25T16:44:34.355006Z"
    },
    "papermill": {
     "duration": 2.48979,
     "end_time": "2023-01-25T16:44:34.359961",
     "exception": false,
     "start_time": "2023-01-25T16:44:31.870171",
     "status": "completed"
    },
    "tags": []
   },
   "outputs": [
    {
     "data": {
      "text/html": [
       "<div>\n",
       "<style scoped>\n",
       "    .dataframe tbody tr th:only-of-type {\n",
       "        vertical-align: middle;\n",
       "    }\n",
       "\n",
       "    .dataframe tbody tr th {\n",
       "        vertical-align: top;\n",
       "    }\n",
       "\n",
       "    .dataframe thead th {\n",
       "        text-align: right;\n",
       "    }\n",
       "</style>\n",
       "<table border=\"1\" class=\"dataframe\">\n",
       "  <thead>\n",
       "    <tr style=\"text-align: right;\">\n",
       "      <th></th>\n",
       "      <th></th>\n",
       "      <th>0</th>\n",
       "    </tr>\n",
       "    <tr>\n",
       "      <th></th>\n",
       "      <th>match</th>\n",
       "      <th></th>\n",
       "    </tr>\n",
       "  </thead>\n",
       "  <tbody>\n",
       "    <tr>\n",
       "      <th rowspan=\"5\" valign=\"top\">0</th>\n",
       "      <th>0</th>\n",
       "      <td>java</td>\n",
       "    </tr>\n",
       "    <tr>\n",
       "      <th>1</th>\n",
       "      <td>c++</td>\n",
       "    </tr>\n",
       "    <tr>\n",
       "      <th>2</th>\n",
       "      <td>performance</td>\n",
       "    </tr>\n",
       "    <tr>\n",
       "      <th>3</th>\n",
       "      <td>cpu-architecture</td>\n",
       "    </tr>\n",
       "    <tr>\n",
       "      <th>4</th>\n",
       "      <td>branch-prediction</td>\n",
       "    </tr>\n",
       "    <tr>\n",
       "      <th>...</th>\n",
       "      <th>...</th>\n",
       "      <td>...</td>\n",
       "    </tr>\n",
       "    <tr>\n",
       "      <th rowspan=\"5\" valign=\"top\">118441</th>\n",
       "      <th>0</th>\n",
       "      <td>c#</td>\n",
       "    </tr>\n",
       "    <tr>\n",
       "      <th>1</th>\n",
       "      <td>.net</td>\n",
       "    </tr>\n",
       "    <tr>\n",
       "      <th>2</th>\n",
       "      <td>garbage-collection</td>\n",
       "    </tr>\n",
       "    <tr>\n",
       "      <th>3</th>\n",
       "      <td>dispose</td>\n",
       "    </tr>\n",
       "    <tr>\n",
       "      <th>4</th>\n",
       "      <td>idisposable</td>\n",
       "    </tr>\n",
       "  </tbody>\n",
       "</table>\n",
       "<p>550206 rows × 1 columns</p>\n",
       "</div>"
      ],
      "text/plain": [
       "                               0\n",
       "       match                    \n",
       "0      0                    java\n",
       "       1                     c++\n",
       "       2             performance\n",
       "       3        cpu-architecture\n",
       "       4       branch-prediction\n",
       "...                          ...\n",
       "118441 0                      c#\n",
       "       1                    .net\n",
       "       2      garbage-collection\n",
       "       3                 dispose\n",
       "       4             idisposable\n",
       "\n",
       "[550206 rows x 1 columns]"
      ]
     },
     "execution_count": 12,
     "metadata": {},
     "output_type": "execute_result"
    }
   ],
   "source": [
    "tags = df[\"Tags\"].str.extractall(r\"\\<([^>]*)\\>\")\n",
    "tags"
   ]
  },
  {
   "cell_type": "markdown",
   "id": "57b362e4",
   "metadata": {
    "papermill": {
     "duration": 0.013683,
     "end_time": "2023-01-25T16:44:34.391478",
     "exception": false,
     "start_time": "2023-01-25T16:44:34.377795",
     "status": "completed"
    },
    "tags": []
   },
   "source": [
    "## Proportion de chaque tag"
   ]
  },
  {
   "cell_type": "code",
   "execution_count": 13,
   "id": "159e0510",
   "metadata": {
    "execution": {
     "iopub.execute_input": "2023-01-25T16:44:34.420879Z",
     "iopub.status.busy": "2023-01-25T16:44:34.420363Z",
     "iopub.status.idle": "2023-01-25T16:44:34.678245Z",
     "shell.execute_reply": "2023-01-25T16:44:34.676869Z"
    },
    "papermill": {
     "duration": 0.276023,
     "end_time": "2023-01-25T16:44:34.681340",
     "exception": false,
     "start_time": "2023-01-25T16:44:34.405317",
     "status": "completed"
    },
    "tags": []
   },
   "outputs": [
    {
     "data": {
      "text/plain": [
       "java              12.043025\n",
       "c#                11.783827\n",
       "javascript        11.657182\n",
       "python             8.665845\n",
       "android            6.974722\n",
       "c++                6.633627\n",
       "ios                6.242718\n",
       "html               5.870384\n",
       "php                5.540264\n",
       ".net               5.331724\n",
       "jquery             5.319059\n",
       "css                3.783286\n",
       "objective-c        3.059725\n",
       "c                  3.055504\n",
       "sql                2.984583\n",
       "iphone             2.774354\n",
       "asp.net            2.726229\n",
       "mysql              2.357272\n",
       "linux              2.331943\n",
       "node.js            2.293105\n",
       "arrays             2.093008\n",
       "swift              2.049948\n",
       "sql-server         1.968896\n",
       "json               1.949477\n",
       "string             1.882778\n",
       "windows            1.827899\n",
       "performance        1.827055\n",
       "ruby-on-rails      1.714763\n",
       "xcode              1.713919\n",
       "spring             1.669171\n",
       "ajax               1.523108\n",
       "database           1.500312\n",
       "asp.net-mvc        1.467385\n",
       "algorithm          1.386333\n",
       "ruby               1.354249\n",
       "macos              1.323855\n",
       "multithreading     1.300214\n",
       "visual-studio      1.278263\n",
       "django             1.239425\n",
       "reactjs            1.220006\n",
       "wpf                1.192989\n",
       "xml                1.190456\n",
       "bash               1.154151\n",
       "eclipse            1.148241\n",
       "python-3.x         1.134733\n",
       "image              1.086608\n",
       "unit-testing       1.059590\n",
       "angular            1.015687\n",
       "c++11              0.993735\n",
       "angularjs          0.949832\n",
       "dtype: float64"
      ]
     },
     "execution_count": 13,
     "metadata": {},
     "output_type": "execute_result"
    }
   ],
   "source": [
    "tags.value_counts(normalize=True).head(50) * 100 * (\n",
    "    len(tags) / len(df)\n",
    ")  # pour avoir prop"
   ]
  },
  {
   "cell_type": "code",
   "execution_count": 14,
   "id": "1d75bdeb",
   "metadata": {
    "execution": {
     "iopub.execute_input": "2023-01-25T16:44:34.709298Z",
     "iopub.status.busy": "2023-01-25T16:44:34.708827Z",
     "iopub.status.idle": "2023-01-25T16:44:34.927729Z",
     "shell.execute_reply": "2023-01-25T16:44:34.925812Z"
    },
    "papermill": {
     "duration": 0.236124,
     "end_time": "2023-01-25T16:44:34.930687",
     "exception": false,
     "start_time": "2023-01-25T16:44:34.694563",
     "status": "completed"
    },
    "tags": []
   },
   "outputs": [
    {
     "name": "stdout",
     "output_type": "stream",
     "text": [
      "les 50tags les plus fréquent représente 33.29% des données\n"
     ]
    }
   ],
   "source": [
    "print(\n",
    "    f\"les 50tags les plus fréquent représente {tags.value_counts(normalize=True).head(50).sum():.2%} des données\"\n",
    ")"
   ]
  },
  {
   "cell_type": "markdown",
   "id": "736ea308",
   "metadata": {
    "papermill": {
     "duration": 0.01248,
     "end_time": "2023-01-25T16:44:34.956581",
     "exception": false,
     "start_time": "2023-01-25T16:44:34.944101",
     "status": "completed"
    },
    "tags": []
   },
   "source": [
    "## tags les plus fréquents:\n",
    "### langage : \n",
    "- javascript(jquery, nodejs, angularjs,reactjs,angular)\n",
    "- c# (.net, asp.net, asp.net-mvc, wpf) \n",
    "- java (spring, eclipse ou catégorie ide)\n",
    "- python (django\n",
    "- html css xml json ajax forms image (=front?)\n",
    "- c (objective-c \n",
    "- database sql (mysql, sql-server ) (hybernate?)\n",
    "- ? ruby ruby-on-rails,\n",
    "- swift\n",
    "### OS\n",
    "- android\n",
    "- ios iphone macos\n",
    "- linux\n",
    "- windows\n",
    "\n",
    "### Notion divers (ni langage ni os)\n",
    "- arrays string \n",
    "- performance multithreading\n",
    "- unit-testing\n"
   ]
  },
  {
   "cell_type": "code",
   "execution_count": 15,
   "id": "946e7d7e",
   "metadata": {
    "execution": {
     "iopub.execute_input": "2023-01-25T16:44:34.984292Z",
     "iopub.status.busy": "2023-01-25T16:44:34.983879Z",
     "iopub.status.idle": "2023-01-25T16:44:35.006693Z",
     "shell.execute_reply": "2023-01-25T16:44:35.005346Z"
    },
    "papermill": {
     "duration": 0.040018,
     "end_time": "2023-01-25T16:44:35.009338",
     "exception": false,
     "start_time": "2023-01-25T16:44:34.969320",
     "status": "completed"
    },
    "tags": []
   },
   "outputs": [
    {
     "data": {
      "text/html": [
       "<div>\n",
       "<style scoped>\n",
       "    .dataframe tbody tr th:only-of-type {\n",
       "        vertical-align: middle;\n",
       "    }\n",
       "\n",
       "    .dataframe tbody tr th {\n",
       "        vertical-align: top;\n",
       "    }\n",
       "\n",
       "    .dataframe thead th {\n",
       "        text-align: right;\n",
       "    }\n",
       "</style>\n",
       "<table border=\"1\" class=\"dataframe\">\n",
       "  <thead>\n",
       "    <tr style=\"text-align: right;\">\n",
       "      <th></th>\n",
       "      <th></th>\n",
       "      <th>0</th>\n",
       "    </tr>\n",
       "    <tr>\n",
       "      <th></th>\n",
       "      <th>match</th>\n",
       "      <th></th>\n",
       "    </tr>\n",
       "  </thead>\n",
       "  <tbody>\n",
       "    <tr>\n",
       "      <th rowspan=\"5\" valign=\"top\">0</th>\n",
       "      <th>0</th>\n",
       "      <td>java</td>\n",
       "    </tr>\n",
       "    <tr>\n",
       "      <th>1</th>\n",
       "      <td>c++</td>\n",
       "    </tr>\n",
       "    <tr>\n",
       "      <th>2</th>\n",
       "      <td>performance</td>\n",
       "    </tr>\n",
       "    <tr>\n",
       "      <th>3</th>\n",
       "      <td>cpu-architecture</td>\n",
       "    </tr>\n",
       "    <tr>\n",
       "      <th>4</th>\n",
       "      <td>branch-prediction</td>\n",
       "    </tr>\n",
       "    <tr>\n",
       "      <th>...</th>\n",
       "      <th>...</th>\n",
       "      <td>...</td>\n",
       "    </tr>\n",
       "    <tr>\n",
       "      <th rowspan=\"5\" valign=\"top\">118441</th>\n",
       "      <th>0</th>\n",
       "      <td>c#</td>\n",
       "    </tr>\n",
       "    <tr>\n",
       "      <th>1</th>\n",
       "      <td>.net</td>\n",
       "    </tr>\n",
       "    <tr>\n",
       "      <th>2</th>\n",
       "      <td>garbage-collection</td>\n",
       "    </tr>\n",
       "    <tr>\n",
       "      <th>3</th>\n",
       "      <td>dispose</td>\n",
       "    </tr>\n",
       "    <tr>\n",
       "      <th>4</th>\n",
       "      <td>idisposable</td>\n",
       "    </tr>\n",
       "  </tbody>\n",
       "</table>\n",
       "<p>550206 rows × 1 columns</p>\n",
       "</div>"
      ],
      "text/plain": [
       "                               0\n",
       "       match                    \n",
       "0      0                    java\n",
       "       1                     c++\n",
       "       2             performance\n",
       "       3        cpu-architecture\n",
       "       4       branch-prediction\n",
       "...                          ...\n",
       "118441 0                      c#\n",
       "       1                    .net\n",
       "       2      garbage-collection\n",
       "       3                 dispose\n",
       "       4             idisposable\n",
       "\n",
       "[550206 rows x 1 columns]"
      ]
     },
     "execution_count": 15,
     "metadata": {},
     "output_type": "execute_result"
    }
   ],
   "source": [
    "tags"
   ]
  },
  {
   "cell_type": "code",
   "execution_count": 16,
   "id": "9747ed7c",
   "metadata": {
    "execution": {
     "iopub.execute_input": "2023-01-25T16:44:35.040052Z",
     "iopub.status.busy": "2023-01-25T16:44:35.039621Z",
     "iopub.status.idle": "2023-01-25T16:44:35.367914Z",
     "shell.execute_reply": "2023-01-25T16:44:35.366495Z"
    },
    "papermill": {
     "duration": 0.346563,
     "end_time": "2023-01-25T16:44:35.371083",
     "exception": false,
     "start_time": "2023-01-25T16:44:35.024520",
     "status": "completed"
    },
    "tags": []
   },
   "outputs": [
    {
     "data": {
      "text/html": [
       "<div>\n",
       "<style scoped>\n",
       "    .dataframe tbody tr th:only-of-type {\n",
       "        vertical-align: middle;\n",
       "    }\n",
       "\n",
       "    .dataframe tbody tr th {\n",
       "        vertical-align: top;\n",
       "    }\n",
       "\n",
       "    .dataframe thead th {\n",
       "        text-align: right;\n",
       "    }\n",
       "</style>\n",
       "<table border=\"1\" class=\"dataframe\">\n",
       "  <thead>\n",
       "    <tr style=\"text-align: right;\">\n",
       "      <th>match</th>\n",
       "      <th>0</th>\n",
       "      <th>1</th>\n",
       "      <th>2</th>\n",
       "      <th>3</th>\n",
       "      <th>4</th>\n",
       "      <th>5</th>\n",
       "    </tr>\n",
       "  </thead>\n",
       "  <tbody>\n",
       "    <tr>\n",
       "      <th>0</th>\n",
       "      <td>java</td>\n",
       "      <td>c++</td>\n",
       "      <td>performance</td>\n",
       "      <td>cpu-architecture</td>\n",
       "      <td>branch-prediction</td>\n",
       "      <td>NaN</td>\n",
       "    </tr>\n",
       "    <tr>\n",
       "      <th>1</th>\n",
       "      <td>git</td>\n",
       "      <td>version-control</td>\n",
       "      <td>git-commit</td>\n",
       "      <td>undo</td>\n",
       "      <td>NaN</td>\n",
       "      <td>NaN</td>\n",
       "    </tr>\n",
       "    <tr>\n",
       "      <th>2</th>\n",
       "      <td>git</td>\n",
       "      <td>version-control</td>\n",
       "      <td>git-branch</td>\n",
       "      <td>git-push</td>\n",
       "      <td>git-remote</td>\n",
       "      <td>NaN</td>\n",
       "    </tr>\n",
       "    <tr>\n",
       "      <th>3</th>\n",
       "      <td>git</td>\n",
       "      <td>version-control</td>\n",
       "      <td>git-pull</td>\n",
       "      <td>git-fetch</td>\n",
       "      <td>NaN</td>\n",
       "      <td>NaN</td>\n",
       "    </tr>\n",
       "    <tr>\n",
       "      <th>4</th>\n",
       "      <td>c++</td>\n",
       "      <td>c</td>\n",
       "      <td>operators</td>\n",
       "      <td>code-formatting</td>\n",
       "      <td>standards-compliance</td>\n",
       "      <td>NaN</td>\n",
       "    </tr>\n",
       "    <tr>\n",
       "      <th>...</th>\n",
       "      <td>...</td>\n",
       "      <td>...</td>\n",
       "      <td>...</td>\n",
       "      <td>...</td>\n",
       "      <td>...</td>\n",
       "      <td>...</td>\n",
       "    </tr>\n",
       "    <tr>\n",
       "      <th>118437</th>\n",
       "      <td>iphone</td>\n",
       "      <td>ios</td>\n",
       "      <td>objective-c</td>\n",
       "      <td>nsstring</td>\n",
       "      <td>core-text</td>\n",
       "      <td>NaN</td>\n",
       "    </tr>\n",
       "    <tr>\n",
       "      <th>118438</th>\n",
       "      <td>google-maps</td>\n",
       "      <td>android-fragments</td>\n",
       "      <td>xamarin.android</td>\n",
       "      <td>google-maps-android-api-2</td>\n",
       "      <td>android-2.2-froyo</td>\n",
       "      <td>NaN</td>\n",
       "    </tr>\n",
       "    <tr>\n",
       "      <th>118439</th>\n",
       "      <td>javascript</td>\n",
       "      <td>google-maps</td>\n",
       "      <td>google-maps-api-3</td>\n",
       "      <td>internet-explorer-8</td>\n",
       "      <td>google-maps-markers</td>\n",
       "      <td>NaN</td>\n",
       "    </tr>\n",
       "    <tr>\n",
       "      <th>118440</th>\n",
       "      <td>java</td>\n",
       "      <td>email</td>\n",
       "      <td>exchange-server</td>\n",
       "      <td>jakarta-mail</td>\n",
       "      <td>ntlm</td>\n",
       "      <td>NaN</td>\n",
       "    </tr>\n",
       "    <tr>\n",
       "      <th>118441</th>\n",
       "      <td>c#</td>\n",
       "      <td>.net</td>\n",
       "      <td>garbage-collection</td>\n",
       "      <td>dispose</td>\n",
       "      <td>idisposable</td>\n",
       "      <td>NaN</td>\n",
       "    </tr>\n",
       "  </tbody>\n",
       "</table>\n",
       "<p>118442 rows × 6 columns</p>\n",
       "</div>"
      ],
      "text/plain": [
       "match             0                  1                   2  \\\n",
       "0              java                c++         performance   \n",
       "1               git    version-control          git-commit   \n",
       "2               git    version-control          git-branch   \n",
       "3               git    version-control            git-pull   \n",
       "4               c++                  c           operators   \n",
       "...             ...                ...                 ...   \n",
       "118437       iphone                ios         objective-c   \n",
       "118438  google-maps  android-fragments     xamarin.android   \n",
       "118439   javascript        google-maps   google-maps-api-3   \n",
       "118440         java              email     exchange-server   \n",
       "118441           c#               .net  garbage-collection   \n",
       "\n",
       "match                           3                     4    5  \n",
       "0                cpu-architecture     branch-prediction  NaN  \n",
       "1                            undo                   NaN  NaN  \n",
       "2                        git-push            git-remote  NaN  \n",
       "3                       git-fetch                   NaN  NaN  \n",
       "4                 code-formatting  standards-compliance  NaN  \n",
       "...                           ...                   ...  ...  \n",
       "118437                   nsstring             core-text  NaN  \n",
       "118438  google-maps-android-api-2     android-2.2-froyo  NaN  \n",
       "118439        internet-explorer-8   google-maps-markers  NaN  \n",
       "118440               jakarta-mail                  ntlm  NaN  \n",
       "118441                    dispose           idisposable  NaN  \n",
       "\n",
       "[118442 rows x 6 columns]"
      ]
     },
     "execution_count": 16,
     "metadata": {},
     "output_type": "execute_result"
    }
   ],
   "source": [
    "tags.unstack()[0]"
   ]
  },
  {
   "cell_type": "code",
   "execution_count": 17,
   "id": "7afdb30b",
   "metadata": {
    "execution": {
     "iopub.execute_input": "2023-01-25T16:44:35.406052Z",
     "iopub.status.busy": "2023-01-25T16:44:35.405361Z",
     "iopub.status.idle": "2023-01-25T16:44:35.801387Z",
     "shell.execute_reply": "2023-01-25T16:44:35.799226Z"
    },
    "papermill": {
     "duration": 0.418582,
     "end_time": "2023-01-25T16:44:35.804738",
     "exception": false,
     "start_time": "2023-01-25T16:44:35.386156",
     "status": "completed"
    },
    "tags": []
   },
   "outputs": [
    {
     "data": {
      "text/html": [
       "<div>\n",
       "<style scoped>\n",
       "    .dataframe tbody tr th:only-of-type {\n",
       "        vertical-align: middle;\n",
       "    }\n",
       "\n",
       "    .dataframe tbody tr th {\n",
       "        vertical-align: top;\n",
       "    }\n",
       "\n",
       "    .dataframe thead th {\n",
       "        text-align: right;\n",
       "    }\n",
       "</style>\n",
       "<table border=\"1\" class=\"dataframe\">\n",
       "  <thead>\n",
       "    <tr style=\"text-align: right;\">\n",
       "      <th></th>\n",
       "      <th>Title</th>\n",
       "      <th>Body</th>\n",
       "      <th>Tags</th>\n",
       "      <th>Id</th>\n",
       "      <th>Score</th>\n",
       "      <th>ViewCount</th>\n",
       "      <th>FavoriteCount</th>\n",
       "      <th>AnswerCount</th>\n",
       "      <th>CommentCount</th>\n",
       "      <th>ClosedDate</th>\n",
       "      <th>AcceptedAnswerId</th>\n",
       "      <th>0</th>\n",
       "      <th>1</th>\n",
       "      <th>2</th>\n",
       "      <th>3</th>\n",
       "      <th>4</th>\n",
       "      <th>5</th>\n",
       "    </tr>\n",
       "  </thead>\n",
       "  <tbody>\n",
       "    <tr>\n",
       "      <th>0</th>\n",
       "      <td>Why is processing a sorted array faster than p...</td>\n",
       "      <td>&lt;p&gt;Here is a piece of C++ code that shows some...</td>\n",
       "      <td>&lt;java&gt;&lt;c++&gt;&lt;performance&gt;&lt;cpu-architecture&gt;&lt;bra...</td>\n",
       "      <td>11227809</td>\n",
       "      <td>26730</td>\n",
       "      <td>1769357</td>\n",
       "      <td>0.0</td>\n",
       "      <td>27</td>\n",
       "      <td>9</td>\n",
       "      <td>NaN</td>\n",
       "      <td>11227902.0</td>\n",
       "      <td>java</td>\n",
       "      <td>c++</td>\n",
       "      <td>performance</td>\n",
       "      <td>cpu-architecture</td>\n",
       "      <td>branch-prediction</td>\n",
       "      <td>NaN</td>\n",
       "    </tr>\n",
       "    <tr>\n",
       "      <th>1</th>\n",
       "      <td>How do I undo the most recent local commits in...</td>\n",
       "      <td>&lt;p&gt;I accidentally committed the wrong files to...</td>\n",
       "      <td>&lt;git&gt;&lt;version-control&gt;&lt;git-commit&gt;&lt;undo&gt;</td>\n",
       "      <td>927358</td>\n",
       "      <td>25054</td>\n",
       "      <td>11955812</td>\n",
       "      <td>2.0</td>\n",
       "      <td>100</td>\n",
       "      <td>12</td>\n",
       "      <td>NaN</td>\n",
       "      <td>927386.0</td>\n",
       "      <td>git</td>\n",
       "      <td>version-control</td>\n",
       "      <td>git-commit</td>\n",
       "      <td>undo</td>\n",
       "      <td>NaN</td>\n",
       "      <td>NaN</td>\n",
       "    </tr>\n",
       "    <tr>\n",
       "      <th>2</th>\n",
       "      <td>How do I delete a Git branch locally and remot...</td>\n",
       "      <td>&lt;h4&gt;Failed Attempts to Delete a Remote Branch:...</td>\n",
       "      <td>&lt;git&gt;&lt;version-control&gt;&lt;git-branch&gt;&lt;git-push&gt;&lt;g...</td>\n",
       "      <td>2003505</td>\n",
       "      <td>19720</td>\n",
       "      <td>10488243</td>\n",
       "      <td>0.0</td>\n",
       "      <td>41</td>\n",
       "      <td>10</td>\n",
       "      <td>NaN</td>\n",
       "      <td>2003515.0</td>\n",
       "      <td>git</td>\n",
       "      <td>version-control</td>\n",
       "      <td>git-branch</td>\n",
       "      <td>git-push</td>\n",
       "      <td>git-remote</td>\n",
       "      <td>NaN</td>\n",
       "    </tr>\n",
       "    <tr>\n",
       "      <th>3</th>\n",
       "      <td>What is the difference between 'git pull' and ...</td>\n",
       "      <td>&lt;p&gt;What are the differences between &lt;a href=\"h...</td>\n",
       "      <td>&lt;git&gt;&lt;version-control&gt;&lt;git-pull&gt;&lt;git-fetch&gt;</td>\n",
       "      <td>292357</td>\n",
       "      <td>13439</td>\n",
       "      <td>3286583</td>\n",
       "      <td>0.0</td>\n",
       "      <td>37</td>\n",
       "      <td>7</td>\n",
       "      <td>NaN</td>\n",
       "      <td>292359.0</td>\n",
       "      <td>git</td>\n",
       "      <td>version-control</td>\n",
       "      <td>git-pull</td>\n",
       "      <td>git-fetch</td>\n",
       "      <td>NaN</td>\n",
       "      <td>NaN</td>\n",
       "    </tr>\n",
       "    <tr>\n",
       "      <th>4</th>\n",
       "      <td>What is the \"--&gt;\" operator in C++?</td>\n",
       "      <td>&lt;p&gt;After reading &lt;a href=\"http://groups.google...</td>\n",
       "      <td>&lt;c++&gt;&lt;c&gt;&lt;operators&gt;&lt;code-formatting&gt;&lt;standards...</td>\n",
       "      <td>1642028</td>\n",
       "      <td>9903</td>\n",
       "      <td>949071</td>\n",
       "      <td>0.0</td>\n",
       "      <td>28</td>\n",
       "      <td>0</td>\n",
       "      <td>NaN</td>\n",
       "      <td>1642035.0</td>\n",
       "      <td>c++</td>\n",
       "      <td>c</td>\n",
       "      <td>operators</td>\n",
       "      <td>code-formatting</td>\n",
       "      <td>standards-compliance</td>\n",
       "      <td>NaN</td>\n",
       "    </tr>\n",
       "  </tbody>\n",
       "</table>\n",
       "</div>"
      ],
      "text/plain": [
       "                                               Title  \\\n",
       "0  Why is processing a sorted array faster than p...   \n",
       "1  How do I undo the most recent local commits in...   \n",
       "2  How do I delete a Git branch locally and remot...   \n",
       "3  What is the difference between 'git pull' and ...   \n",
       "4                 What is the \"-->\" operator in C++?   \n",
       "\n",
       "                                                Body  \\\n",
       "0  <p>Here is a piece of C++ code that shows some...   \n",
       "1  <p>I accidentally committed the wrong files to...   \n",
       "2  <h4>Failed Attempts to Delete a Remote Branch:...   \n",
       "3  <p>What are the differences between <a href=\"h...   \n",
       "4  <p>After reading <a href=\"http://groups.google...   \n",
       "\n",
       "                                                Tags        Id  Score  \\\n",
       "0  <java><c++><performance><cpu-architecture><bra...  11227809  26730   \n",
       "1           <git><version-control><git-commit><undo>    927358  25054   \n",
       "2  <git><version-control><git-branch><git-push><g...   2003505  19720   \n",
       "3        <git><version-control><git-pull><git-fetch>    292357  13439   \n",
       "4  <c++><c><operators><code-formatting><standards...   1642028   9903   \n",
       "\n",
       "   ViewCount  FavoriteCount  AnswerCount  CommentCount ClosedDate  \\\n",
       "0    1769357            0.0           27             9        NaN   \n",
       "1   11955812            2.0          100            12        NaN   \n",
       "2   10488243            0.0           41            10        NaN   \n",
       "3    3286583            0.0           37             7        NaN   \n",
       "4     949071            0.0           28             0        NaN   \n",
       "\n",
       "   AcceptedAnswerId     0                1            2                 3  \\\n",
       "0        11227902.0  java              c++  performance  cpu-architecture   \n",
       "1          927386.0   git  version-control   git-commit              undo   \n",
       "2         2003515.0   git  version-control   git-branch          git-push   \n",
       "3          292359.0   git  version-control     git-pull         git-fetch   \n",
       "4         1642035.0   c++                c    operators   code-formatting   \n",
       "\n",
       "                      4    5  \n",
       "0     branch-prediction  NaN  \n",
       "1                   NaN  NaN  \n",
       "2            git-remote  NaN  \n",
       "3                   NaN  NaN  \n",
       "4  standards-compliance  NaN  "
      ]
     },
     "execution_count": 17,
     "metadata": {},
     "output_type": "execute_result"
    }
   ],
   "source": [
    "df = df.join(tags.unstack()[0])\n",
    "df.head()"
   ]
  },
  {
   "cell_type": "code",
   "execution_count": 18,
   "id": "639dd14a",
   "metadata": {
    "execution": {
     "iopub.execute_input": "2023-01-25T16:44:35.839414Z",
     "iopub.status.busy": "2023-01-25T16:44:35.838937Z",
     "iopub.status.idle": "2023-01-25T16:44:35.943084Z",
     "shell.execute_reply": "2023-01-25T16:44:35.941689Z"
    },
    "papermill": {
     "duration": 0.123674,
     "end_time": "2023-01-25T16:44:35.945715",
     "exception": false,
     "start_time": "2023-01-25T16:44:35.822041",
     "status": "completed"
    },
    "tags": []
   },
   "outputs": [
    {
     "name": "stdout",
     "output_type": "stream",
     "text": [
      "118438 sans 6éme tag sur 118442 (100.00%)\n",
      "42008 sans 6éme tag sur 118442 (35.47%)\n"
     ]
    }
   ],
   "source": [
    "print(\n",
    "    f\"{sum(df[5].isna())} sans 6éme tag sur {df.shape[0]} ({sum(df[5].isna())/df.shape[0]:.2%})\"\n",
    ")\n",
    "print(\n",
    "    f\"{sum(df[4].isna())} sans 6éme tag sur {df.shape[0]} ({sum(df[4].isna())/df.shape[0]:.2%})\"\n",
    ")"
   ]
  },
  {
   "cell_type": "code",
   "execution_count": 19,
   "id": "7f3814ad",
   "metadata": {
    "execution": {
     "iopub.execute_input": "2023-01-25T16:44:35.979664Z",
     "iopub.status.busy": "2023-01-25T16:44:35.978416Z",
     "iopub.status.idle": "2023-01-25T16:44:36.105419Z",
     "shell.execute_reply": "2023-01-25T16:44:36.103672Z"
    },
    "papermill": {
     "duration": 0.148914,
     "end_time": "2023-01-25T16:44:36.109105",
     "exception": false,
     "start_time": "2023-01-25T16:44:35.960191",
     "status": "completed"
    },
    "tags": []
   },
   "outputs": [
    {
     "data": {
      "text/html": [
       "<div>\n",
       "<style scoped>\n",
       "    .dataframe tbody tr th:only-of-type {\n",
       "        vertical-align: middle;\n",
       "    }\n",
       "\n",
       "    .dataframe tbody tr th {\n",
       "        vertical-align: top;\n",
       "    }\n",
       "\n",
       "    .dataframe thead th {\n",
       "        text-align: right;\n",
       "    }\n",
       "</style>\n",
       "<table border=\"1\" class=\"dataframe\">\n",
       "  <thead>\n",
       "    <tr style=\"text-align: right;\">\n",
       "      <th></th>\n",
       "      <th>Title</th>\n",
       "      <th>Body</th>\n",
       "      <th>0</th>\n",
       "      <th>1</th>\n",
       "      <th>2</th>\n",
       "      <th>3</th>\n",
       "      <th>4</th>\n",
       "      <th>5</th>\n",
       "    </tr>\n",
       "  </thead>\n",
       "  <tbody>\n",
       "    <tr>\n",
       "      <th>94452</th>\n",
       "      <td>Show the latest commit value within a web appl...</td>\n",
       "      <td>&lt;p&gt;I have a few Rails applications and I use G...</td>\n",
       "      <td>ruby-on-rails</td>\n",
       "      <td>git</td>\n",
       "      <td>version-control</td>\n",
       "      <td>github</td>\n",
       "      <td>amazon-elastic-beanstalk</td>\n",
       "      <td>beanstalk-svn</td>\n",
       "    </tr>\n",
       "    <tr>\n",
       "      <th>95832</th>\n",
       "      <td>Remove genres android-UniversalMusicPlayer-master</td>\n",
       "      <td>&lt;p&gt;I am using \"android-UniversalMusicPlayer-ma...</td>\n",
       "      <td>android</td>\n",
       "      <td>android-studio</td>\n",
       "      <td>github</td>\n",
       "      <td>mobile-application</td>\n",
       "      <td>audio-player</td>\n",
       "      <td>android-music-player</td>\n",
       "    </tr>\n",
       "    <tr>\n",
       "      <th>104180</th>\n",
       "      <td>How To Add Media To MediaStore on Android 4.4 ...</td>\n",
       "      <td>&lt;p&gt;Background: In Android 4.4, Google decided ...</td>\n",
       "      <td>android</td>\n",
       "      <td>android-sdcard</td>\n",
       "      <td>android-4.4-kitkat</td>\n",
       "      <td>audio-player</td>\n",
       "      <td>android-mediascanner</td>\n",
       "      <td>android-music-player</td>\n",
       "    </tr>\n",
       "    <tr>\n",
       "      <th>108913</th>\n",
       "      <td>When handling a form POST in a Django views.py...</td>\n",
       "      <td>&lt;p&gt;I have a Django application that generates ...</td>\n",
       "      <td>python</td>\n",
       "      <td>django</td>\n",
       "      <td>csv</td>\n",
       "      <td>httpresponse</td>\n",
       "      <td>forms</td>\n",
       "      <td>http-post</td>\n",
       "    </tr>\n",
       "  </tbody>\n",
       "</table>\n",
       "</div>"
      ],
      "text/plain": [
       "                                                    Title  \\\n",
       "94452   Show the latest commit value within a web appl...   \n",
       "95832   Remove genres android-UniversalMusicPlayer-master   \n",
       "104180  How To Add Media To MediaStore on Android 4.4 ...   \n",
       "108913  When handling a form POST in a Django views.py...   \n",
       "\n",
       "                                                     Body              0  \\\n",
       "94452   <p>I have a few Rails applications and I use G...  ruby-on-rails   \n",
       "95832   <p>I am using \"android-UniversalMusicPlayer-ma...        android   \n",
       "104180  <p>Background: In Android 4.4, Google decided ...        android   \n",
       "108913  <p>I have a Django application that generates ...         python   \n",
       "\n",
       "                     1                   2                   3  \\\n",
       "94452              git     version-control              github   \n",
       "95832   android-studio              github  mobile-application   \n",
       "104180  android-sdcard  android-4.4-kitkat        audio-player   \n",
       "108913          django                 csv        httpresponse   \n",
       "\n",
       "                               4                     5  \n",
       "94452   amazon-elastic-beanstalk         beanstalk-svn  \n",
       "95832               audio-player  android-music-player  \n",
       "104180      android-mediascanner  android-music-player  \n",
       "108913                     forms             http-post  "
      ]
     },
     "execution_count": 19,
     "metadata": {},
     "output_type": "execute_result"
    }
   ],
   "source": [
    "df[~df[5].isna()][[\"Title\", \"Body\", 0, 1, 2, 3, 4, 5]]"
   ]
  },
  {
   "cell_type": "markdown",
   "id": "012b54c6",
   "metadata": {
    "papermill": {
     "duration": 0.014504,
     "end_time": "2023-01-25T16:44:36.140984",
     "exception": false,
     "start_time": "2023-01-25T16:44:36.126480",
     "status": "completed"
    },
    "tags": []
   },
   "source": [
    "# Nettoyage du texte"
   ]
  },
  {
   "cell_type": "code",
   "execution_count": 20,
   "id": "ed0f13ce",
   "metadata": {
    "execution": {
     "iopub.execute_input": "2023-01-25T16:44:36.173123Z",
     "iopub.status.busy": "2023-01-25T16:44:36.171738Z",
     "iopub.status.idle": "2023-01-25T16:44:36.211699Z",
     "shell.execute_reply": "2023-01-25T16:44:36.209871Z"
    },
    "papermill": {
     "duration": 0.060012,
     "end_time": "2023-01-25T16:44:36.215176",
     "exception": false,
     "start_time": "2023-01-25T16:44:36.155164",
     "status": "completed"
    },
    "tags": []
   },
   "outputs": [],
   "source": [
    "def words_cloud(data, stopwords=[]):\n",
    "    plt.figure(figsize=(20, 15))\n",
    "    wordcloud = WordCloud(\n",
    "        background_color=\"white\", stopwords=stopwords, max_words=50\n",
    "    ).generate(data.to_string(header=False, index=False))\n",
    "    plt.imshow(wordcloud)\n",
    "    plt.axis(\"off\")\n",
    "    plt.show()\n",
    "\n",
    "\n",
    "# words_cloud(df[\"Body_nohtml_bow\"])"
   ]
  },
  {
   "cell_type": "code",
   "execution_count": null,
   "id": "6a3347f4",
   "metadata": {
    "execution": {
     "iopub.execute_input": "2023-01-25T16:44:36.248471Z",
     "iopub.status.busy": "2023-01-25T16:44:36.248036Z",
     "iopub.status.idle": "2023-01-25T16:44:46.504254Z",
     "shell.execute_reply": "2023-01-25T16:44:46.503093Z"
    },
    "papermill": {
     "duration": 10.282427,
     "end_time": "2023-01-25T16:44:46.513680",
     "exception": false,
     "start_time": "2023-01-25T16:44:36.231253",
     "status": "completed"
    },
    "tags": []
   },
   "outputs": [],
   "source": [
    "words_cloud(df[[0, 1, 2, 3, 4, 5]], stopwords=[\"Nan\"])"
   ]
  },
  {
   "cell_type": "code",
   "execution_count": 22,
   "id": "304a3f29",
   "metadata": {
    "execution": {
     "iopub.execute_input": "2023-01-25T16:44:46.562751Z",
     "iopub.status.busy": "2023-01-25T16:44:46.560812Z",
     "iopub.status.idle": "2023-01-25T16:44:46.663043Z",
     "shell.execute_reply": "2023-01-25T16:44:46.661470Z"
    },
    "papermill": {
     "duration": 0.128541,
     "end_time": "2023-01-25T16:44:46.665843",
     "exception": false,
     "start_time": "2023-01-25T16:44:46.537302",
     "status": "completed"
    },
    "tags": []
   },
   "outputs": [
    {
     "data": {
      "text/plain": [
       "0         False\n",
       "1         False\n",
       "2         False\n",
       "3         False\n",
       "4         False\n",
       "          ...  \n",
       "118437    False\n",
       "118438    False\n",
       "118439     True\n",
       "118440    False\n",
       "118441    False\n",
       "Length: 118442, dtype: bool"
      ]
     },
     "execution_count": 22,
     "metadata": {},
     "output_type": "execute_result"
    }
   ],
   "source": [
    "def tag_is_in(df: pd.DataFrame(), tag: str, nb_cols: int = 6):\n",
    "    return eval(\"|\".join(f'(df[{i}] == \"{tag}\")' for i in range(0, nb_cols)))\n",
    "\n",
    "\n",
    "tag_is_in(df, \"javascript\")"
   ]
  },
  {
   "cell_type": "code",
   "execution_count": 23,
   "id": "8f5ba176",
   "metadata": {
    "execution": {
     "iopub.execute_input": "2023-01-25T16:44:46.714266Z",
     "iopub.status.busy": "2023-01-25T16:44:46.713711Z",
     "iopub.status.idle": "2023-01-25T16:44:46.910136Z",
     "shell.execute_reply": "2023-01-25T16:44:46.907914Z"
    },
    "papermill": {
     "duration": 0.224048,
     "end_time": "2023-01-25T16:44:46.913463",
     "exception": false,
     "start_time": "2023-01-25T16:44:46.689415",
     "status": "completed"
    },
    "tags": []
   },
   "outputs": [
    {
     "name": "stdout",
     "output_type": "stream",
     "text": [
      "13807 js (11.66%)\n"
     ]
    }
   ],
   "source": [
    "print(\n",
    "    f'{sum(tag_is_in(df, \"javascript\"))} js ({(sum(tag_is_in(df, \"javascript\"))/ len(df)):.2%})'\n",
    ")"
   ]
  },
  {
   "cell_type": "code",
   "execution_count": 24,
   "id": "685b02e1",
   "metadata": {
    "execution": {
     "iopub.execute_input": "2023-01-25T16:44:46.961064Z",
     "iopub.status.busy": "2023-01-25T16:44:46.959201Z",
     "iopub.status.idle": "2023-01-25T16:44:47.913348Z",
     "shell.execute_reply": "2023-01-25T16:44:47.911486Z"
    },
    "papermill": {
     "duration": 0.981074,
     "end_time": "2023-01-25T16:44:47.916847",
     "exception": false,
     "start_time": "2023-01-25T16:44:46.935773",
     "status": "completed"
    },
    "tags": []
   },
   "outputs": [],
   "source": [
    "import spacy\n",
    "from bs4 import BeautifulSoup\n",
    "\n",
    "nlp = spacy.load(\"en_core_web_sm\")"
   ]
  },
  {
   "cell_type": "code",
   "execution_count": 25,
   "id": "32c5afc3",
   "metadata": {
    "execution": {
     "iopub.execute_input": "2023-01-25T16:44:47.962902Z",
     "iopub.status.busy": "2023-01-25T16:44:47.962483Z",
     "iopub.status.idle": "2023-01-25T16:44:48.073356Z",
     "shell.execute_reply": "2023-01-25T16:44:48.072031Z"
    },
    "papermill": {
     "duration": 0.13738,
     "end_time": "2023-01-25T16:44:48.076064",
     "exception": false,
     "start_time": "2023-01-25T16:44:47.938684",
     "status": "completed"
    },
    "tags": []
   },
   "outputs": [
    {
     "name": "stdout",
     "output_type": "stream",
     "text": [
      "Token \t\tLemma \t\tStopword\t\tPartOfSpeech\n",
      "------------------------------------------------------------\n",
      "Why\t\twhy\t\tTrue \t\t ('SCONJ',)\n",
      "is\t\tbe\t\tTrue \t\t ('AUX',)\n",
      "processing\t\tprocess\t\tFalse \t\t ('VERB',)\n",
      "a\t\ta\t\tTrue \t\t ('DET',)\n",
      "sorted\t\tsorted\t\tFalse \t\t ('ADJ',)\n",
      "array\t\tarray\t\tFalse \t\t ('NOUN',)\n",
      "faster\t\tfast\t\tFalse \t\t ('ADV',)\n",
      "than\t\tthan\t\tTrue \t\t ('ADP',)\n",
      "processing\t\tprocess\t\tFalse \t\t ('VERB',)\n",
      "an\t\tan\t\tTrue \t\t ('DET',)\n",
      "unsorted\t\tunsorted\t\tFalse \t\t ('ADJ',)\n",
      "array\t\tarray\t\tFalse \t\t ('NOUN',)\n",
      "?\t\t?\t\tFalse \t\t ('PUNCT',)\n",
      "Token \t\tLemma \t\tStopword\t\tPartOfSpeech\n",
      "------------------------------------------------------------\n",
      "How\t\thow\t\tTrue \t\t ('SCONJ',)\n",
      "do\t\tdo\t\tTrue \t\t ('AUX',)\n",
      "I\t\tI\t\tTrue \t\t ('PRON',)\n",
      "undo\t\tundo\t\tFalse \t\t ('VERB',)\n",
      "the\t\tthe\t\tTrue \t\t ('DET',)\n",
      "most\t\tmost\t\tTrue \t\t ('ADV',)\n",
      "recent\t\trecent\t\tFalse \t\t ('ADJ',)\n",
      "local\t\tlocal\t\tFalse \t\t ('ADJ',)\n",
      "commits\t\tcommit\t\tFalse \t\t ('NOUN',)\n",
      "in\t\tin\t\tTrue \t\t ('ADP',)\n",
      "Git\t\tGit\t\tFalse \t\t ('PROPN',)\n",
      "?\t\t?\t\tFalse \t\t ('PUNCT',)\n",
      "Token \t\tLemma \t\tStopword\t\tPartOfSpeech\n",
      "------------------------------------------------------------\n",
      "How\t\thow\t\tTrue \t\t ('SCONJ',)\n",
      "do\t\tdo\t\tTrue \t\t ('AUX',)\n",
      "I\t\tI\t\tTrue \t\t ('PRON',)\n",
      "delete\t\tdelete\t\tFalse \t\t ('VERB',)\n",
      "a\t\ta\t\tTrue \t\t ('DET',)\n",
      "Git\t\tGit\t\tFalse \t\t ('PROPN',)\n",
      "branch\t\tbranch\t\tFalse \t\t ('NOUN',)\n",
      "locally\t\tlocally\t\tFalse \t\t ('ADV',)\n",
      "and\t\tand\t\tTrue \t\t ('CCONJ',)\n",
      "remotely\t\tremotely\t\tFalse \t\t ('ADV',)\n",
      "?\t\t?\t\tFalse \t\t ('PUNCT',)\n"
     ]
    }
   ],
   "source": [
    "def nlp_print(phrase: str):\n",
    "    doc = nlp(phrase)\n",
    "    print(\n",
    "        f\"Token \\t\\tLemma \\t\\tStopword\\t\\tPartOfSpeech\".format(\n",
    "            \"Token\", \"Lemma\", \"Stopword\", \"PartOfSpeech\"\n",
    "        )\n",
    "    )\n",
    "    print(\"-\" * 60)\n",
    "    for token in doc:\n",
    "        print(\n",
    "            f\"{token.text}\\t\\t{token.lemma_}\\t\\t{token.is_stop} \\t\\t {token.pos_,}\"\n",
    "        )  # token.shape_, token.is_alpha, token.tag_,\n",
    "    return doc\n",
    "\n",
    "\n",
    "for index in range(0, 3):\n",
    "    nlp_print(df[\"Title\"][index])"
   ]
  },
  {
   "cell_type": "code",
   "execution_count": 26,
   "id": "408f742f",
   "metadata": {
    "execution": {
     "iopub.execute_input": "2023-01-25T16:44:48.125764Z",
     "iopub.status.busy": "2023-01-25T16:44:48.125282Z",
     "iopub.status.idle": "2023-01-25T16:44:48.151986Z",
     "shell.execute_reply": "2023-01-25T16:44:48.150689Z"
    },
    "papermill": {
     "duration": 0.055244,
     "end_time": "2023-01-25T16:44:48.155415",
     "exception": false,
     "start_time": "2023-01-25T16:44:48.100171",
     "status": "completed"
    },
    "tags": []
   },
   "outputs": [
    {
     "name": "stdout",
     "output_type": "stream",
     "text": [
      "Token \t\tLemma \t\tStopword\t\tPartOfSpeech\n",
      "------------------------------------------------------------\n",
      "How\t\thow\t\tTrue \t\t ('SCONJ',)\n",
      "do\t\tdo\t\tTrue \t\t ('AUX',)\n",
      "JavaScript\t\tJavaScript\t\tFalse \t\t ('PROPN',)\n",
      "closures\t\tclosure\t\tFalse \t\t ('NOUN',)\n",
      "work\t\twork\t\tFalse \t\t ('VERB',)\n",
      "?\t\t?\t\tFalse \t\t ('PUNCT',)\n"
     ]
    },
    {
     "data": {
      "text/plain": [
       "How do JavaScript closures work?"
      ]
     },
     "execution_count": 26,
     "metadata": {},
     "output_type": "execute_result"
    }
   ],
   "source": [
    "nlp_print(df[\"Title\"][11])"
   ]
  },
  {
   "cell_type": "code",
   "execution_count": 27,
   "id": "6d62ffb4",
   "metadata": {
    "execution": {
     "iopub.execute_input": "2023-01-25T16:44:48.207266Z",
     "iopub.status.busy": "2023-01-25T16:44:48.206795Z",
     "iopub.status.idle": "2023-01-25T21:04:20.008475Z",
     "shell.execute_reply": "2023-01-25T21:04:20.007352Z"
    },
    "papermill": {
     "duration": 15571.841005,
     "end_time": "2023-01-25T21:04:20.021291",
     "exception": false,
     "start_time": "2023-01-25T16:44:48.180286",
     "status": "completed"
    },
    "tags": []
   },
   "outputs": [
    {
     "name": "stderr",
     "output_type": "stream",
     "text": [
      "[=====================================================================] 100% 0s\n"
     ]
    },
    {
     "data": {
      "text/html": [
       "<div>\n",
       "<style scoped>\n",
       "    .dataframe tbody tr th:only-of-type {\n",
       "        vertical-align: middle;\n",
       "    }\n",
       "\n",
       "    .dataframe tbody tr th {\n",
       "        vertical-align: top;\n",
       "    }\n",
       "\n",
       "    .dataframe thead th {\n",
       "        text-align: right;\n",
       "    }\n",
       "</style>\n",
       "<table border=\"1\" class=\"dataframe\">\n",
       "  <thead>\n",
       "    <tr style=\"text-align: right;\">\n",
       "      <th></th>\n",
       "      <th>Id</th>\n",
       "      <th>Title</th>\n",
       "      <th>Body</th>\n",
       "      <th>0</th>\n",
       "      <th>1</th>\n",
       "      <th>2</th>\n",
       "      <th>3</th>\n",
       "      <th>4</th>\n",
       "      <th>5</th>\n",
       "      <th>Token_lemma</th>\n",
       "      <th>Token_BERT</th>\n",
       "      <th>code</th>\n",
       "    </tr>\n",
       "  </thead>\n",
       "  <tbody>\n",
       "    <tr>\n",
       "      <th>0</th>\n",
       "      <td>11227809</td>\n",
       "      <td>Why is processing a sorted array faster than p...</td>\n",
       "      <td>&lt;p&gt;Here is a piece of C++ code that shows some...</td>\n",
       "      <td>java</td>\n",
       "      <td>c++</td>\n",
       "      <td>performance</td>\n",
       "      <td>cpu-architecture</td>\n",
       "      <td>branch-prediction</td>\n",
       "      <td>NaN</td>\n",
       "      <td>process array process array piece c++ code sho...</td>\n",
       "      <td>why is processing a sorted array faster than p...</td>\n",
       "      <td>#include &lt;algorithm&gt;\\n#include &lt;ctime&gt;\\n#inclu...</td>\n",
       "    </tr>\n",
       "    <tr>\n",
       "      <th>1</th>\n",
       "      <td>927358</td>\n",
       "      <td>How do I undo the most recent local commits in...</td>\n",
       "      <td>&lt;p&gt;I accidentally committed the wrong files to...</td>\n",
       "      <td>git</td>\n",
       "      <td>version-control</td>\n",
       "      <td>git-commit</td>\n",
       "      <td>undo</td>\n",
       "      <td>NaN</td>\n",
       "      <td>NaN</td>\n",
       "      <td>undo commit git commit file git push commit se...</td>\n",
       "      <td>how do i undo the most recent local commits in...</td>\n",
       "      <td></td>\n",
       "    </tr>\n",
       "    <tr>\n",
       "      <th>2</th>\n",
       "      <td>2003505</td>\n",
       "      <td>How do I delete a Git branch locally and remot...</td>\n",
       "      <td>&lt;h4&gt;Failed Attempts to Delete a Remote Branch:...</td>\n",
       "      <td>git</td>\n",
       "      <td>version-control</td>\n",
       "      <td>git-branch</td>\n",
       "      <td>git-push</td>\n",
       "      <td>git-remote</td>\n",
       "      <td>NaN</td>\n",
       "      <td>delete git branch delete remote origin bugfix ...</td>\n",
       "      <td>how do i delete a git branch locally and remot...</td>\n",
       "      <td>$ git branch -d remotes/origin/bugfix\\nerror: ...</td>\n",
       "    </tr>\n",
       "    <tr>\n",
       "      <th>3</th>\n",
       "      <td>292357</td>\n",
       "      <td>What is the difference between 'git pull' and ...</td>\n",
       "      <td>&lt;p&gt;What are the differences between &lt;a href=\"h...</td>\n",
       "      <td>git</td>\n",
       "      <td>version-control</td>\n",
       "      <td>git-pull</td>\n",
       "      <td>git-fetch</td>\n",
       "      <td>NaN</td>\n",
       "      <td>NaN</td>\n",
       "      <td>difference git pull git fetch difference git p...</td>\n",
       "      <td>what is the difference between 'git pull' and ...</td>\n",
       "      <td>git pull git fetch</td>\n",
       "    </tr>\n",
       "    <tr>\n",
       "      <th>4</th>\n",
       "      <td>1642028</td>\n",
       "      <td>What is the \"--&gt;\" operator in C++?</td>\n",
       "      <td>&lt;p&gt;After reading &lt;a href=\"http://groups.google...</td>\n",
       "      <td>c++</td>\n",
       "      <td>c</td>\n",
       "      <td>operators</td>\n",
       "      <td>code-formatting</td>\n",
       "      <td>standards-compliance</td>\n",
       "      <td>NaN</td>\n",
       "      <td>operator c++ read hidden features dark corners...</td>\n",
       "      <td>what is the \"--&gt;\" operator in c++? after readi...</td>\n",
       "      <td>comp.lang.c++.moderated #include &lt;stdio.h&gt;\\nin...</td>\n",
       "    </tr>\n",
       "    <tr>\n",
       "      <th>...</th>\n",
       "      <td>...</td>\n",
       "      <td>...</td>\n",
       "      <td>...</td>\n",
       "      <td>...</td>\n",
       "      <td>...</td>\n",
       "      <td>...</td>\n",
       "      <td>...</td>\n",
       "      <td>...</td>\n",
       "      <td>...</td>\n",
       "      <td>...</td>\n",
       "      <td>...</td>\n",
       "      <td>...</td>\n",
       "    </tr>\n",
       "    <tr>\n",
       "      <th>118437</th>\n",
       "      <td>19076229</td>\n",
       "      <td>NSString boundingRectWithSize cutting height s...</td>\n",
       "      <td>&lt;p&gt;I have a custom UIView which is drawing an ...</td>\n",
       "      <td>iphone</td>\n",
       "      <td>ios</td>\n",
       "      <td>objective-c</td>\n",
       "      <td>nsstring</td>\n",
       "      <td>core-text</td>\n",
       "      <td>NaN</td>\n",
       "      <td>nsstring boundingrectwithsize cut height coret...</td>\n",
       "      <td>nsstring boundingrectwithsize cutting height s...</td>\n",
       "      <td>- (NSMutableAttributedString *)getAttributedSt...</td>\n",
       "    </tr>\n",
       "    <tr>\n",
       "      <th>118438</th>\n",
       "      <td>19076240</td>\n",
       "      <td>MvxBind:Error - View type not found - fragment</td>\n",
       "      <td>&lt;p&gt;I'm trying to add map as a part of my activ...</td>\n",
       "      <td>google-maps</td>\n",
       "      <td>android-fragments</td>\n",
       "      <td>xamarin.android</td>\n",
       "      <td>google-maps-android-api-2</td>\n",
       "      <td>android-2.2-froyo</td>\n",
       "      <td>NaN</td>\n",
       "      <td>mvxbind error view type find fragment try add ...</td>\n",
       "      <td>mvxbind:error - view type not found - fragment...</td>\n",
       "      <td>&lt;fragment\\n            android:id=\"@+id/map\"\\...</td>\n",
       "    </tr>\n",
       "    <tr>\n",
       "      <th>118439</th>\n",
       "      <td>19076261</td>\n",
       "      <td>Markers not showing in ie 8</td>\n",
       "      <td>&lt;p&gt;I have created a Google Maps application wh...</td>\n",
       "      <td>javascript</td>\n",
       "      <td>google-maps</td>\n",
       "      <td>google-maps-api-3</td>\n",
       "      <td>internet-explorer-8</td>\n",
       "      <td>google-maps-markers</td>\n",
       "      <td>NaN</td>\n",
       "      <td>marker show ie create google maps application ...</td>\n",
       "      <td>markers not showing in ie 8 i have created a g...</td>\n",
       "      <td>var map;\\n    function initialize() { \\n      ...</td>\n",
       "    </tr>\n",
       "    <tr>\n",
       "      <th>118440</th>\n",
       "      <td>19076270</td>\n",
       "      <td>JAVAMAIL : AUTH NTLM failed</td>\n",
       "      <td>&lt;p&gt;i try to send email with java in local netw...</td>\n",
       "      <td>java</td>\n",
       "      <td>email</td>\n",
       "      <td>exchange-server</td>\n",
       "      <td>jakarta-mail</td>\n",
       "      <td>ntlm</td>\n",
       "      <td>NaN</td>\n",
       "      <td>javamail ntlm fail try send email java network...</td>\n",
       "      <td>javamail : auth ntlm failed i try to send emai...</td>\n",
       "      <td>import java.io.UnsupportedEncodingException;\\n...</td>\n",
       "    </tr>\n",
       "    <tr>\n",
       "      <th>118441</th>\n",
       "      <td>19076312</td>\n",
       "      <td>Understanding disposable objects</td>\n",
       "      <td>&lt;p&gt;I've looked in SO about a question like thi...</td>\n",
       "      <td>c#</td>\n",
       "      <td>.net</td>\n",
       "      <td>garbage-collection</td>\n",
       "      <td>dispose</td>\n",
       "      <td>idisposable</td>\n",
       "      <td>NaN</td>\n",
       "      <td>understand object look question like find thro...</td>\n",
       "      <td>understanding disposable objects i've looked i...</td>\n",
       "      <td>public class SuperObject : IDisposable\\n{\\n   ...</td>\n",
       "    </tr>\n",
       "  </tbody>\n",
       "</table>\n",
       "<p>118442 rows × 12 columns</p>\n",
       "</div>"
      ],
      "text/plain": [
       "              Id                                              Title  \\\n",
       "0       11227809  Why is processing a sorted array faster than p...   \n",
       "1         927358  How do I undo the most recent local commits in...   \n",
       "2        2003505  How do I delete a Git branch locally and remot...   \n",
       "3         292357  What is the difference between 'git pull' and ...   \n",
       "4        1642028                 What is the \"-->\" operator in C++?   \n",
       "...          ...                                                ...   \n",
       "118437  19076229  NSString boundingRectWithSize cutting height s...   \n",
       "118438  19076240     MvxBind:Error - View type not found - fragment   \n",
       "118439  19076261                        Markers not showing in ie 8   \n",
       "118440  19076270                        JAVAMAIL : AUTH NTLM failed   \n",
       "118441  19076312                   Understanding disposable objects   \n",
       "\n",
       "                                                     Body            0  \\\n",
       "0       <p>Here is a piece of C++ code that shows some...         java   \n",
       "1       <p>I accidentally committed the wrong files to...          git   \n",
       "2       <h4>Failed Attempts to Delete a Remote Branch:...          git   \n",
       "3       <p>What are the differences between <a href=\"h...          git   \n",
       "4       <p>After reading <a href=\"http://groups.google...          c++   \n",
       "...                                                   ...          ...   \n",
       "118437  <p>I have a custom UIView which is drawing an ...       iphone   \n",
       "118438  <p>I'm trying to add map as a part of my activ...  google-maps   \n",
       "118439  <p>I have created a Google Maps application wh...   javascript   \n",
       "118440  <p>i try to send email with java in local netw...         java   \n",
       "118441  <p>I've looked in SO about a question like thi...           c#   \n",
       "\n",
       "                        1                   2                          3  \\\n",
       "0                     c++         performance           cpu-architecture   \n",
       "1         version-control          git-commit                       undo   \n",
       "2         version-control          git-branch                   git-push   \n",
       "3         version-control            git-pull                  git-fetch   \n",
       "4                       c           operators            code-formatting   \n",
       "...                   ...                 ...                        ...   \n",
       "118437                ios         objective-c                   nsstring   \n",
       "118438  android-fragments     xamarin.android  google-maps-android-api-2   \n",
       "118439        google-maps   google-maps-api-3        internet-explorer-8   \n",
       "118440              email     exchange-server               jakarta-mail   \n",
       "118441               .net  garbage-collection                    dispose   \n",
       "\n",
       "                           4    5  \\\n",
       "0          branch-prediction  NaN   \n",
       "1                        NaN  NaN   \n",
       "2                 git-remote  NaN   \n",
       "3                        NaN  NaN   \n",
       "4       standards-compliance  NaN   \n",
       "...                      ...  ...   \n",
       "118437             core-text  NaN   \n",
       "118438     android-2.2-froyo  NaN   \n",
       "118439   google-maps-markers  NaN   \n",
       "118440                  ntlm  NaN   \n",
       "118441           idisposable  NaN   \n",
       "\n",
       "                                              Token_lemma  \\\n",
       "0       process array process array piece c++ code sho...   \n",
       "1       undo commit git commit file git push commit se...   \n",
       "2       delete git branch delete remote origin bugfix ...   \n",
       "3       difference git pull git fetch difference git p...   \n",
       "4       operator c++ read hidden features dark corners...   \n",
       "...                                                   ...   \n",
       "118437  nsstring boundingrectwithsize cut height coret...   \n",
       "118438  mvxbind error view type find fragment try add ...   \n",
       "118439  marker show ie create google maps application ...   \n",
       "118440  javamail ntlm fail try send email java network...   \n",
       "118441  understand object look question like find thro...   \n",
       "\n",
       "                                               Token_BERT  \\\n",
       "0       why is processing a sorted array faster than p...   \n",
       "1       how do i undo the most recent local commits in...   \n",
       "2       how do i delete a git branch locally and remot...   \n",
       "3       what is the difference between 'git pull' and ...   \n",
       "4       what is the \"-->\" operator in c++? after readi...   \n",
       "...                                                   ...   \n",
       "118437  nsstring boundingrectwithsize cutting height s...   \n",
       "118438  mvxbind:error - view type not found - fragment...   \n",
       "118439  markers not showing in ie 8 i have created a g...   \n",
       "118440  javamail : auth ntlm failed i try to send emai...   \n",
       "118441  understanding disposable objects i've looked i...   \n",
       "\n",
       "                                                     code  \n",
       "0       #include <algorithm>\\n#include <ctime>\\n#inclu...  \n",
       "1                                                          \n",
       "2       $ git branch -d remotes/origin/bugfix\\nerror: ...  \n",
       "3                                      git pull git fetch  \n",
       "4       comp.lang.c++.moderated #include <stdio.h>\\nin...  \n",
       "...                                                   ...  \n",
       "118437  - (NSMutableAttributedString *)getAttributedSt...  \n",
       "118438   <fragment\\n            android:id=\"@+id/map\"\\...  \n",
       "118439  var map;\\n    function initialize() { \\n      ...  \n",
       "118440  import java.io.UnsupportedEncodingException;\\n...  \n",
       "118441  public class SuperObject : IDisposable\\n{\\n   ...  \n",
       "\n",
       "[118442 rows x 12 columns]"
      ]
     },
     "execution_count": 27,
     "metadata": {},
     "output_type": "execute_result"
    }
   ],
   "source": [
    "df_clean = p5_nlp_utils.TextCleaning.cleaning_v2(df)\n",
    "df_clean"
   ]
  },
  {
   "cell_type": "code",
   "execution_count": null,
   "id": "faa2f99f",
   "metadata": {
    "execution": {
     "iopub.execute_input": "2023-01-25T21:04:20.076112Z",
     "iopub.status.busy": "2023-01-25T21:04:20.075669Z",
     "iopub.status.idle": "2023-01-25T21:04:21.827755Z",
     "shell.execute_reply": "2023-01-25T21:04:21.825987Z"
    },
    "papermill": {
     "duration": 1.78743,
     "end_time": "2023-01-25T21:04:21.834956",
     "exception": false,
     "start_time": "2023-01-25T21:04:20.047526",
     "status": "completed"
    },
    "tags": []
   },
   "outputs": [],
   "source": [
    "words_cloud(df_clean.loc[tag_is_in(df_clean, \"javascript\"), \"Token_lemma\"])"
   ]
  },
  {
   "cell_type": "code",
   "execution_count": null,
   "id": "a0238361",
   "metadata": {
    "execution": {
     "iopub.execute_input": "2023-01-25T21:04:21.905789Z",
     "iopub.status.busy": "2023-01-25T21:04:21.905310Z",
     "iopub.status.idle": "2023-01-25T21:04:23.597936Z",
     "shell.execute_reply": "2023-01-25T21:04:23.596602Z"
    },
    "papermill": {
     "duration": 1.734447,
     "end_time": "2023-01-25T21:04:23.604298",
     "exception": false,
     "start_time": "2023-01-25T21:04:21.869851",
     "status": "completed"
    },
    "tags": []
   },
   "outputs": [],
   "source": [
    "words_cloud(df_clean.loc[tag_is_in(df_clean, \"javascript\"), \"Token_BERT\"])"
   ]
  },
  {
   "cell_type": "code",
   "execution_count": null,
   "id": "17d0c4c0",
   "metadata": {
    "execution": {
     "iopub.execute_input": "2023-01-25T21:04:23.691383Z",
     "iopub.status.busy": "2023-01-25T21:04:23.690790Z",
     "iopub.status.idle": "2023-01-25T21:04:25.070355Z",
     "shell.execute_reply": "2023-01-25T21:04:25.068830Z"
    },
    "papermill": {
     "duration": 1.431695,
     "end_time": "2023-01-25T21:04:25.077724",
     "exception": false,
     "start_time": "2023-01-25T21:04:23.646029",
     "status": "completed"
    },
    "tags": []
   },
   "outputs": [],
   "source": [
    "words_cloud(df_clean.loc[tag_is_in(df_clean, \"python\"), \"Token_lemma\"])"
   ]
  },
  {
   "cell_type": "code",
   "execution_count": null,
   "id": "fd711721",
   "metadata": {
    "execution": {
     "iopub.execute_input": "2023-01-25T21:04:25.177185Z",
     "iopub.status.busy": "2023-01-25T21:04:25.176783Z",
     "iopub.status.idle": "2023-01-25T21:04:25.777783Z",
     "shell.execute_reply": "2023-01-25T21:04:25.776645Z"
    },
    "papermill": {
     "duration": 0.657758,
     "end_time": "2023-01-25T21:04:25.784822",
     "exception": false,
     "start_time": "2023-01-25T21:04:25.127064",
     "status": "completed"
    },
    "tags": []
   },
   "outputs": [],
   "source": [
    "words_cloud(df_clean.loc[tag_is_in(df_clean, \"git\"), \"Token_lemma\"])"
   ]
  },
  {
   "cell_type": "code",
   "execution_count": 32,
   "id": "9cfa92fc",
   "metadata": {
    "execution": {
     "iopub.execute_input": "2023-01-25T21:04:25.897111Z",
     "iopub.status.busy": "2023-01-25T21:04:25.895800Z",
     "iopub.status.idle": "2023-01-25T21:04:26.975040Z",
     "shell.execute_reply": "2023-01-25T21:04:26.973284Z"
    },
    "papermill": {
     "duration": 1.14069,
     "end_time": "2023-01-25T21:04:26.979684",
     "exception": false,
     "start_time": "2023-01-25T21:04:25.838994",
     "status": "completed"
    },
    "tags": []
   },
   "outputs": [
    {
     "name": "stderr",
     "output_type": "stream",
     "text": [
      "/opt/conda/lib/python3.7/site-packages/wordcloud/wordcloud.py:499: DeprecationWarning: ROTATE_90 is deprecated and will be removed in Pillow 10 (2023-07-01). Use Transpose.ROTATE_90 instead.\n",
      "  orientation = Image.ROTATE_90\n",
      "/opt/conda/lib/python3.7/site-packages/wordcloud/wordcloud.py:520: DeprecationWarning: ROTATE_90 is deprecated and will be removed in Pillow 10 (2023-07-01). Use Transpose.ROTATE_90 instead.\n",
      "  Image.ROTATE_90)\n",
      "/opt/conda/lib/python3.7/site-packages/wordcloud/wordcloud.py:519: DeprecationWarning: ROTATE_90 is deprecated and will be removed in Pillow 10 (2023-07-01). Use Transpose.ROTATE_90 instead.\n",
      "  orientation = (Image.ROTATE_90 if orientation is None else\n",
      "/opt/conda/lib/python3.7/site-packages/wordcloud/wordcloud.py:519: DeprecationWarning: ROTATE_90 is deprecated and will be removed in Pillow 10 (2023-07-01). Use Transpose.ROTATE_90 instead.\n",
      "  orientation = (Image.ROTATE_90 if orientation is None else\n",
      "/opt/conda/lib/python3.7/site-packages/wordcloud/wordcloud.py:519: DeprecationWarning: ROTATE_90 is deprecated and will be removed in Pillow 10 (2023-07-01). Use Transpose.ROTATE_90 instead.\n",
      "  orientation = (Image.ROTATE_90 if orientation is None else\n",
      "/opt/conda/lib/python3.7/site-packages/wordcloud/wordcloud.py:499: DeprecationWarning: ROTATE_90 is deprecated and will be removed in Pillow 10 (2023-07-01). Use Transpose.ROTATE_90 instead.\n",
      "  orientation = Image.ROTATE_90\n",
      "/opt/conda/lib/python3.7/site-packages/wordcloud/wordcloud.py:499: DeprecationWarning: ROTATE_90 is deprecated and will be removed in Pillow 10 (2023-07-01). Use Transpose.ROTATE_90 instead.\n",
      "  orientation = Image.ROTATE_90\n",
      "/opt/conda/lib/python3.7/site-packages/wordcloud/wordcloud.py:519: DeprecationWarning: ROTATE_90 is deprecated and will be removed in Pillow 10 (2023-07-01). Use Transpose.ROTATE_90 instead.\n",
      "  orientation = (Image.ROTATE_90 if orientation is None else\n",
      "/opt/conda/lib/python3.7/site-packages/wordcloud/wordcloud.py:499: DeprecationWarning: ROTATE_90 is deprecated and will be removed in Pillow 10 (2023-07-01). Use Transpose.ROTATE_90 instead.\n",
      "  orientation = Image.ROTATE_90\n",
      "/opt/conda/lib/python3.7/site-packages/wordcloud/wordcloud.py:499: DeprecationWarning: ROTATE_90 is deprecated and will be removed in Pillow 10 (2023-07-01). Use Transpose.ROTATE_90 instead.\n",
      "  orientation = Image.ROTATE_90\n",
      "/opt/conda/lib/python3.7/site-packages/wordcloud/wordcloud.py:519: DeprecationWarning: ROTATE_90 is deprecated and will be removed in Pillow 10 (2023-07-01). Use Transpose.ROTATE_90 instead.\n",
      "  orientation = (Image.ROTATE_90 if orientation is None else\n",
      "/opt/conda/lib/python3.7/site-packages/wordcloud/wordcloud.py:519: DeprecationWarning: ROTATE_90 is deprecated and will be removed in Pillow 10 (2023-07-01). Use Transpose.ROTATE_90 instead.\n",
      "  orientation = (Image.ROTATE_90 if orientation is None else\n",
      "/opt/conda/lib/python3.7/site-packages/wordcloud/wordcloud.py:519: DeprecationWarning: ROTATE_90 is deprecated and will be removed in Pillow 10 (2023-07-01). Use Transpose.ROTATE_90 instead.\n",
      "  orientation = (Image.ROTATE_90 if orientation is None else\n",
      "/opt/conda/lib/python3.7/site-packages/wordcloud/wordcloud.py:499: DeprecationWarning: ROTATE_90 is deprecated and will be removed in Pillow 10 (2023-07-01). Use Transpose.ROTATE_90 instead.\n",
      "  orientation = Image.ROTATE_90\n",
      "/opt/conda/lib/python3.7/site-packages/wordcloud/wordcloud.py:499: DeprecationWarning: ROTATE_90 is deprecated and will be removed in Pillow 10 (2023-07-01). Use Transpose.ROTATE_90 instead.\n",
      "  orientation = Image.ROTATE_90\n"
     ]
    },
    {
     "data": {
      "image/png": "[encoded data removed]",
      "text/plain": [
       "<Figure size 1440x1080 with 1 Axes>"
      ]
     },
     "metadata": {
      "needs_background": "light"
     },
     "output_type": "display_data"
    }
   ],
   "source": [
    "words_cloud(df_clean.loc[tag_is_in(df_clean, \"html\"), \"Token_lemma\"])"
   ]
  },
  {
   "cell_type": "code",
   "execution_count": 33,
   "id": "6102ff57",
   "metadata": {
    "execution": {
     "iopub.execute_input": "2023-01-25T21:04:27.102929Z",
     "iopub.status.busy": "2023-01-25T21:04:27.101439Z",
     "iopub.status.idle": "2023-01-25T21:04:27.108718Z",
     "shell.execute_reply": "2023-01-25T21:04:27.106949Z"
    },
    "papermill": {
     "duration": 0.071953,
     "end_time": "2023-01-25T21:04:27.112588",
     "exception": false,
     "start_time": "2023-01-25T21:04:27.040635",
     "status": "completed"
    },
    "tags": []
   },
   "outputs": [],
   "source": [
    "#java c# .. "
   ]
  },
  {
   "cell_type": "code",
   "execution_count": 34,
   "id": "a24b1eb8",
   "metadata": {
    "execution": {
     "iopub.execute_input": "2023-01-25T21:04:27.234752Z",
     "iopub.status.busy": "2023-01-25T21:04:27.234281Z",
     "iopub.status.idle": "2023-01-25T21:04:27.246894Z",
     "shell.execute_reply": "2023-01-25T21:04:27.245722Z"
    },
    "papermill": {
     "duration": 0.076256,
     "end_time": "2023-01-25T21:04:27.249535",
     "exception": false,
     "start_time": "2023-01-25T21:04:27.173279",
     "status": "completed"
    },
    "tags": []
   },
   "outputs": [],
   "source": [
    "# %%time\n",
    "# df[\"Title_clean\"] = \"\"\n",
    "# df[\"Code\"] = \"\"\n",
    "# df[\"Body_clean\"] = \"\"\n",
    "# start = time.time()\n",
    "\n",
    "\n",
    "# def time_e():\n",
    "#     return f\"{time.time()-start:_.0f}s\"\n",
    "\n",
    "\n",
    "# bar = progressbar.ProgressBar(\n",
    "#     maxval=len(df),\n",
    "#     widgets=[\n",
    "#         progressbar.Bar(\"=\", \"[\", \"]\"),\n",
    "#         \" \",\n",
    "#         progressbar.Percentage(),\n",
    "#         \" \",\n",
    "#         time_e(),\n",
    "#     ],\n",
    "# )\n",
    "# bar.start()\n",
    "# for index, row in df.iterrows():\n",
    "#     bar.update(index)\n",
    "#     #     print(index, row[\"Title\"])\n",
    "#     title = nlp(row[\"Title\"])\n",
    "#     row[\"Title_clean\"] = \" \".join(\n",
    "#         [\n",
    "#             token.lemma_\n",
    "#             for token in title\n",
    "#             if token.pos_ in [\"VERB\", \"NOUN\", \"PROPN\", \"ADP\"] and not token.is_stop\n",
    "#         ]\n",
    "#     ).lower()\n",
    "#     # print(row[\"Title_clean\"])\n",
    "#     soup = BeautifulSoup(row[\"Body\"])\n",
    "#     row[\"Code\"] = \" \".join([code.get_text() for code in soup.find_all(\"code\")])\n",
    "#     row[\"Body_clean\"] = \" \".join(\n",
    "#         [\n",
    "#             token.lemma_\n",
    "#             for token in nlp(\" \".join([p.get_text() for p in soup.find_all(\"p\")]))\n",
    "#             if token.pos_ in [\"VERB\", \"NOUN\", \"PROPN\", \"ADP\"] and not token.is_stop\n",
    "#         ]\n",
    "#     ).lower()\n",
    "#     df.iloc[index] = row\n",
    "# bar.finish()\n",
    "# df[0:5][[\"Title\", \"Title_clean\", \"Code\", \"Body_clean\"]]"
   ]
  },
  {
   "cell_type": "code",
   "execution_count": 35,
   "id": "ac7328ea",
   "metadata": {
    "execution": {
     "iopub.execute_input": "2023-01-25T21:04:27.371139Z",
     "iopub.status.busy": "2023-01-25T21:04:27.370296Z",
     "iopub.status.idle": "2023-01-25T21:04:36.704650Z",
     "shell.execute_reply": "2023-01-25T21:04:36.703363Z"
    },
    "papermill": {
     "duration": 9.398865,
     "end_time": "2023-01-25T21:04:36.707562",
     "exception": false,
     "start_time": "2023-01-25T21:04:27.308697",
     "status": "completed"
    },
    "tags": []
   },
   "outputs": [],
   "source": [
    "df_clean.to_csv(\"/kaggle/working/stackoverflowCleanedV2.csv\")"
   ]
  },
  {
   "cell_type": "code",
   "execution_count": 36,
   "id": "b5831bd7",
   "metadata": {
    "execution": {
     "iopub.execute_input": "2023-01-25T21:04:36.827095Z",
     "iopub.status.busy": "2023-01-25T21:04:36.826717Z",
     "iopub.status.idle": "2023-01-25T21:04:36.833543Z",
     "shell.execute_reply": "2023-01-25T21:04:36.832444Z"
    },
    "papermill": {
     "duration": 0.069261,
     "end_time": "2023-01-25T21:04:36.836164",
     "exception": false,
     "start_time": "2023-01-25T21:04:36.766903",
     "status": "completed"
    },
    "tags": []
   },
   "outputs": [],
   "source": [
    "# from ipywidgets import interact\n",
    "\n",
    "\n",
    "# @interact(i=(0, df.shape[0] - 1))\n",
    "# def test_tr_print(i):\n",
    "#     print(\n",
    "#         f'***Title***{df[\"Title\"][i]}\\n{\"*\"*30}\\n***Body***{df[\"Body\"][i]}\\n{\"*\"*30}\\n***lemma***{df[\"Token_lemma\"][i]}\\n{\"*\"*30}\\n***bert***{df[\"Token_BERT\"][i]}\\n{\"*\"*30}\\n***Code***{df[\"Code\"][i]}\\n{\"*\"*30}\\n{df.loc[i,0]} {df.loc[i,1]} {df.loc[i,2]} {df.loc[i,3]} {df.loc[i,4]}'\n",
    "#     )"
   ]
  },
  {
   "cell_type": "code",
   "execution_count": 37,
   "id": "8e076862",
   "metadata": {
    "execution": {
     "iopub.execute_input": "2023-01-25T21:04:36.958730Z",
     "iopub.status.busy": "2023-01-25T21:04:36.958044Z",
     "iopub.status.idle": "2023-01-25T21:04:36.964716Z",
     "shell.execute_reply": "2023-01-25T21:04:36.963728Z"
    },
    "papermill": {
     "duration": 0.071109,
     "end_time": "2023-01-25T21:04:36.967201",
     "exception": false,
     "start_time": "2023-01-25T21:04:36.896092",
     "status": "completed"
    },
    "tags": []
   },
   "outputs": [],
   "source": [
    "# test_tr_print(2)"
   ]
  }
 ],
 "metadata": {
  "kernelspec": {
   "display_name": "Python 3",
   "language": "python",
   "name": "python3"
  },
  "language_info": {
   "codemirror_mode": {
    "name": "ipython",
    "version": 3
   },
   "file_extension": ".py",
   "mimetype": "text/x-python",
   "name": "python",
   "nbconvert_exporter": "python",
   "pygments_lexer": "ipython3",
   "version": "3.10.9 (main, Dec  7 2022, 01:12:00) [GCC 9.4.0]"
  },
  "papermill": {
   "default_parameters": {},
   "duration": 15665.242919,
   "end_time": "2023-01-25T21:04:40.704743",
   "environment_variables": {},
   "exception": null,
   "input_path": "__notebook__.ipynb",
   "output_path": "__notebook__.ipynb",
   "parameters": {},
   "start_time": "2023-01-25T16:43:35.461824",
   "version": "2.3.4"
  },
  "vscode": {
   "interpreter": {
    "hash": "97cc609b13305c559618ec78a438abc56230b9381f827f22d070313b9a1f3777"
   }
  }
 },
 "nbformat": 4,
 "nbformat_minor": 5
}
