{
 "cells": [
  {
   "cell_type": "code",
   "execution_count": 1,
   "id": "f827d36a",
   "metadata": {
    "_cell_guid": "b1076dfc-b9ad-4769-8c92-a6c4dae69d19",
    "_uuid": "8f2839f25d086af736a60e9eeb907d3b93b6e0e5",
    "execution": {
     "iopub.execute_input": "2022-11-28T14:09:20.301895Z",
     "iopub.status.busy": "2022-11-28T14:09:20.301087Z",
     "iopub.status.idle": "2022-11-28T14:09:22.345663Z",
     "shell.execute_reply": "2022-11-28T14:09:22.344337Z"
    },
    "papermill": {
     "duration": 2.067017,
     "end_time": "2022-11-28T14:09:22.348657",
     "exception": false,
     "start_time": "2022-11-28T14:09:20.281640",
     "status": "completed"
    },
    "tags": []
   },
   "outputs": [],
   "source": [
    "import re\n",
    "\n",
    "from wordcloud import WordCloud\n",
    "import numpy as np\n",
    "import pandas as pd\n",
    "import matplotlib.pyplot as plt\n",
    "import seaborn as sns\n",
    "from sklearn import (\n",
    "    feature_extraction,\n",
    "    linear_model,\n",
    "    model_selection,\n",
    "    preprocessing,\n",
    "    cluster,\n",
    ")\n",
    "import nltk"
   ]
  },
  {
   "cell_type": "markdown",
   "id": "31f8aef7",
   "metadata": {
    "papermill": {
     "duration": 0.015341,
     "end_time": "2022-11-28T14:09:22.380383",
     "exception": false,
     "start_time": "2022-11-28T14:09:22.365042",
     "status": "completed"
    },
    "tags": []
   },
   "source": [
    "tf idf\n",
    "\n",
    "one vs rest ou\n",
    "tester un 1er modéle multilabel \n",
    "\n",
    "non supervisé\n",
    "allocation directive location lda\n",
    "negativ matice"
   ]
  },
  {
   "cell_type": "code",
   "execution_count": 2,
   "id": "684f14ce",
   "metadata": {
    "execution": {
     "iopub.execute_input": "2022-11-28T14:09:22.414143Z",
     "iopub.status.busy": "2022-11-28T14:09:22.413746Z",
     "iopub.status.idle": "2022-11-28T14:09:23.187028Z",
     "shell.execute_reply": "2022-11-28T14:09:23.185728Z"
    },
    "papermill": {
     "duration": 0.793748,
     "end_time": "2022-11-28T14:09:23.190255",
     "exception": false,
     "start_time": "2022-11-28T14:09:22.396507",
     "status": "completed"
    },
    "tags": []
   },
   "outputs": [
    {
     "name": "stderr",
     "output_type": "stream",
     "text": [
      "[nltk_data] Downloading package omw-1.4 to /usr/share/nltk_data...\n"
     ]
    },
    {
     "data": {
      "text/plain": [
       "True"
      ]
     },
     "execution_count": 2,
     "metadata": {},
     "output_type": "execute_result"
    }
   ],
   "source": [
    "nltk.download(\"omw-1.4\")"
   ]
  },
  {
   "cell_type": "markdown",
   "id": "e2c1ed39",
   "metadata": {
    "papermill": {
     "duration": 0.015363,
     "end_time": "2022-11-28T14:09:23.221419",
     "exception": false,
     "start_time": "2022-11-28T14:09:23.206056",
     "status": "completed"
    },
    "tags": []
   },
   "source": [
    "https://spacy.io/usage#quickstart\n",
    "https://www.kaggle.com/code/rftexas/nlp-cheatsheet-master-nlp\n",
    "https://www.kaggle.com/code/philculliton/nlp-getting-started-tutorial/notebook"
   ]
  },
  {
   "cell_type": "code",
   "execution_count": 3,
   "id": "e1c402f2",
   "metadata": {
    "_kg_hide-output": true,
    "execution": {
     "iopub.execute_input": "2022-11-28T14:09:23.255382Z",
     "iopub.status.busy": "2022-11-28T14:09:23.254959Z",
     "iopub.status.idle": "2022-11-28T14:09:39.060032Z",
     "shell.execute_reply": "2022-11-28T14:09:39.058145Z"
    },
    "papermill": {
     "duration": 15.825262,
     "end_time": "2022-11-28T14:09:39.062900",
     "exception": false,
     "start_time": "2022-11-28T14:09:23.237638",
     "status": "completed"
    },
    "tags": []
   },
   "outputs": [
    {
     "name": "stdout",
     "output_type": "stream",
     "text": [
      "Collecting jupyter-black\r\n",
      "  Downloading jupyter_black-0.3.3-py3-none-any.whl (8.3 kB)\r\n",
      "Requirement already satisfied: jupyter in /opt/conda/lib/python3.7/site-packages (1.0.0)\r\n",
      "Requirement already satisfied: ipython>=7.27.0 in /opt/conda/lib/python3.7/site-packages (from jupyter-black) (7.33.0)\r\n",
      "Collecting tokenize-rt>=4.1.0\r\n",
      "  Downloading tokenize_rt-5.0.0-py2.py3-none-any.whl (5.8 kB)\r\n",
      "Requirement already satisfied: black>=21.9b0 in /opt/conda/lib/python3.7/site-packages (from jupyter-black) (22.6.0)\r\n",
      "Requirement already satisfied: ipykernel in /opt/conda/lib/python3.7/site-packages (from jupyter) (6.15.0)\r\n",
      "Requirement already satisfied: jupyter-console in /opt/conda/lib/python3.7/site-packages (from jupyter) (6.4.4)\r\n",
      "Requirement already satisfied: ipywidgets in /opt/conda/lib/python3.7/site-packages (from jupyter) (7.7.1)\r\n",
      "Requirement already satisfied: nbconvert in /opt/conda/lib/python3.7/site-packages (from jupyter) (6.4.5)\r\n",
      "Requirement already satisfied: notebook in /opt/conda/lib/python3.7/site-packages (from jupyter) (6.4.12)\r\n",
      "Requirement already satisfied: qtconsole in /opt/conda/lib/python3.7/site-packages (from jupyter) (5.3.1)\r\n",
      "Requirement already satisfied: click>=8.0.0 in /opt/conda/lib/python3.7/site-packages (from black>=21.9b0->jupyter-black) (8.0.4)\r\n",
      "Requirement already satisfied: typed-ast>=1.4.2 in /opt/conda/lib/python3.7/site-packages (from black>=21.9b0->jupyter-black) (1.5.4)\r\n",
      "Requirement already satisfied: platformdirs>=2 in /opt/conda/lib/python3.7/site-packages (from black>=21.9b0->jupyter-black) (2.5.1)\r\n",
      "Requirement already satisfied: tomli>=1.1.0 in /opt/conda/lib/python3.7/site-packages (from black>=21.9b0->jupyter-black) (2.0.1)\r\n",
      "Requirement already satisfied: typing-extensions>=3.10.0.0 in /opt/conda/lib/python3.7/site-packages (from black>=21.9b0->jupyter-black) (4.4.0)\r\n",
      "Requirement already satisfied: pathspec>=0.9.0 in /opt/conda/lib/python3.7/site-packages (from black>=21.9b0->jupyter-black) (0.9.0)\r\n",
      "Requirement already satisfied: mypy-extensions>=0.4.3 in /opt/conda/lib/python3.7/site-packages (from black>=21.9b0->jupyter-black) (0.4.3)\r\n",
      "Requirement already satisfied: matplotlib-inline in /opt/conda/lib/python3.7/site-packages (from ipython>=7.27.0->jupyter-black) (0.1.3)\r\n",
      "Requirement already satisfied: jedi>=0.16 in /opt/conda/lib/python3.7/site-packages (from ipython>=7.27.0->jupyter-black) (0.18.1)\r\n",
      "Requirement already satisfied: backcall in /opt/conda/lib/python3.7/site-packages (from ipython>=7.27.0->jupyter-black) (0.2.0)\r\n",
      "Requirement already satisfied: pexpect>4.3 in /opt/conda/lib/python3.7/site-packages (from ipython>=7.27.0->jupyter-black) (4.8.0)\r\n",
      "Requirement already satisfied: pygments in /opt/conda/lib/python3.7/site-packages (from ipython>=7.27.0->jupyter-black) (2.12.0)\r\n",
      "Requirement already satisfied: traitlets>=4.2 in /opt/conda/lib/python3.7/site-packages (from ipython>=7.27.0->jupyter-black) (5.3.0)\r\n",
      "Requirement already satisfied: prompt-toolkit!=3.0.0,!=3.0.1,<3.1.0,>=2.0.0 in /opt/conda/lib/python3.7/site-packages (from ipython>=7.27.0->jupyter-black) (3.0.30)\r\n",
      "Requirement already satisfied: decorator in /opt/conda/lib/python3.7/site-packages (from ipython>=7.27.0->jupyter-black) (5.1.1)\r\n",
      "Requirement already satisfied: pickleshare in /opt/conda/lib/python3.7/site-packages (from ipython>=7.27.0->jupyter-black) (0.7.5)\r\n",
      "Requirement already satisfied: setuptools>=18.5 in /opt/conda/lib/python3.7/site-packages (from ipython>=7.27.0->jupyter-black) (59.8.0)\r\n",
      "Requirement already satisfied: psutil in /opt/conda/lib/python3.7/site-packages (from ipykernel->jupyter) (5.9.1)\r\n",
      "Requirement already satisfied: packaging in /opt/conda/lib/python3.7/site-packages (from ipykernel->jupyter) (21.3)\r\n",
      "Requirement already satisfied: nest-asyncio in /opt/conda/lib/python3.7/site-packages (from ipykernel->jupyter) (1.5.5)\r\n",
      "Requirement already satisfied: tornado>=6.1 in /opt/conda/lib/python3.7/site-packages (from ipykernel->jupyter) (6.1)\r\n",
      "Requirement already satisfied: pyzmq>=17 in /opt/conda/lib/python3.7/site-packages (from ipykernel->jupyter) (23.2.0)\r\n",
      "Requirement already satisfied: debugpy>=1.0 in /opt/conda/lib/python3.7/site-packages (from ipykernel->jupyter) (1.6.0)\r\n",
      "Requirement already satisfied: jupyter-client>=6.1.12 in /opt/conda/lib/python3.7/site-packages (from ipykernel->jupyter) (7.3.4)\r\n",
      "Requirement already satisfied: widgetsnbextension~=3.6.0 in /opt/conda/lib/python3.7/site-packages (from ipywidgets->jupyter) (3.6.1)\r\n",
      "Requirement already satisfied: jupyterlab-widgets>=1.0.0 in /opt/conda/lib/python3.7/site-packages (from ipywidgets->jupyter) (1.1.1)\r\n",
      "Requirement already satisfied: ipython-genutils~=0.2.0 in /opt/conda/lib/python3.7/site-packages (from ipywidgets->jupyter) (0.2.0)\r\n",
      "Requirement already satisfied: MarkupSafe>=2.0 in /opt/conda/lib/python3.7/site-packages (from nbconvert->jupyter) (2.1.1)\r\n",
      "Requirement already satisfied: jinja2>=2.4 in /opt/conda/lib/python3.7/site-packages (from nbconvert->jupyter) (3.1.2)\r\n",
      "Requirement already satisfied: defusedxml in /opt/conda/lib/python3.7/site-packages (from nbconvert->jupyter) (0.7.1)\r\n",
      "Requirement already satisfied: bleach in /opt/conda/lib/python3.7/site-packages (from nbconvert->jupyter) (5.0.1)\r\n",
      "Requirement already satisfied: mistune<2,>=0.8.1 in /opt/conda/lib/python3.7/site-packages (from nbconvert->jupyter) (0.8.4)\r\n",
      "Requirement already satisfied: pandocfilters>=1.4.1 in /opt/conda/lib/python3.7/site-packages (from nbconvert->jupyter) (1.5.0)\r\n",
      "Requirement already satisfied: jupyterlab-pygments in /opt/conda/lib/python3.7/site-packages (from nbconvert->jupyter) (0.2.2)\r\n",
      "Requirement already satisfied: nbclient<0.6.0,>=0.5.0 in /opt/conda/lib/python3.7/site-packages (from nbconvert->jupyter) (0.5.13)\r\n",
      "Requirement already satisfied: jupyter-core in /opt/conda/lib/python3.7/site-packages (from nbconvert->jupyter) (4.10.0)\r\n",
      "Requirement already satisfied: testpath in /opt/conda/lib/python3.7/site-packages (from nbconvert->jupyter) (0.6.0)\r\n",
      "Requirement already satisfied: beautifulsoup4 in /opt/conda/lib/python3.7/site-packages (from nbconvert->jupyter) (4.11.1)\r\n",
      "Requirement already satisfied: entrypoints>=0.2.2 in /opt/conda/lib/python3.7/site-packages (from nbconvert->jupyter) (0.4)\r\n",
      "Requirement already satisfied: nbformat>=4.4 in /opt/conda/lib/python3.7/site-packages (from nbconvert->jupyter) (5.4.0)\r\n",
      "Requirement already satisfied: terminado>=0.8.3 in /opt/conda/lib/python3.7/site-packages (from notebook->jupyter) (0.15.0)\r\n",
      "Requirement already satisfied: argon2-cffi in /opt/conda/lib/python3.7/site-packages (from notebook->jupyter) (21.3.0)\r\n",
      "Requirement already satisfied: prometheus-client in /opt/conda/lib/python3.7/site-packages (from notebook->jupyter) (0.14.1)\r\n",
      "Requirement already satisfied: Send2Trash>=1.8.0 in /opt/conda/lib/python3.7/site-packages (from notebook->jupyter) (1.8.0)\r\n",
      "Requirement already satisfied: qtpy>=2.0.1 in /opt/conda/lib/python3.7/site-packages (from qtconsole->jupyter) (2.1.0)\r\n",
      "Requirement already satisfied: importlib-metadata in /opt/conda/lib/python3.7/site-packages (from click>=8.0.0->black>=21.9b0->jupyter-black) (4.13.0)\r\n",
      "Requirement already satisfied: parso<0.9.0,>=0.8.0 in /opt/conda/lib/python3.7/site-packages (from jedi>=0.16->ipython>=7.27.0->jupyter-black) (0.8.3)\r\n",
      "Requirement already satisfied: python-dateutil>=2.8.2 in /opt/conda/lib/python3.7/site-packages (from jupyter-client>=6.1.12->ipykernel->jupyter) (2.8.2)\r\n",
      "Requirement already satisfied: jsonschema>=2.6 in /opt/conda/lib/python3.7/site-packages (from nbformat>=4.4->nbconvert->jupyter) (4.6.1)\r\n",
      "Requirement already satisfied: fastjsonschema in /opt/conda/lib/python3.7/site-packages (from nbformat>=4.4->nbconvert->jupyter) (2.15.3)\r\n",
      "Requirement already satisfied: ptyprocess>=0.5 in /opt/conda/lib/python3.7/site-packages (from pexpect>4.3->ipython>=7.27.0->jupyter-black) (0.7.0)\r\n",
      "Requirement already satisfied: wcwidth in /opt/conda/lib/python3.7/site-packages (from prompt-toolkit!=3.0.0,!=3.0.1,<3.1.0,>=2.0.0->ipython>=7.27.0->jupyter-black) (0.2.5)\r\n",
      "Requirement already satisfied: argon2-cffi-bindings in /opt/conda/lib/python3.7/site-packages (from argon2-cffi->notebook->jupyter) (21.2.0)\r\n",
      "Requirement already satisfied: soupsieve>1.2 in /opt/conda/lib/python3.7/site-packages (from beautifulsoup4->nbconvert->jupyter) (2.3.1)\r\n",
      "Requirement already satisfied: webencodings in /opt/conda/lib/python3.7/site-packages (from bleach->nbconvert->jupyter) (0.5.1)\r\n",
      "Requirement already satisfied: six>=1.9.0 in /opt/conda/lib/python3.7/site-packages (from bleach->nbconvert->jupyter) (1.15.0)\r\n",
      "Requirement already satisfied: pyparsing!=3.0.5,>=2.0.2 in /opt/conda/lib/python3.7/site-packages (from packaging->ipykernel->jupyter) (3.0.9)\r\n",
      "Requirement already satisfied: importlib-resources>=1.4.0 in /opt/conda/lib/python3.7/site-packages (from jsonschema>=2.6->nbformat>=4.4->nbconvert->jupyter) (5.8.0)\r\n",
      "Requirement already satisfied: pyrsistent!=0.17.0,!=0.17.1,!=0.17.2,>=0.14.0 in /opt/conda/lib/python3.7/site-packages (from jsonschema>=2.6->nbformat>=4.4->nbconvert->jupyter) (0.18.1)\r\n",
      "Requirement already satisfied: attrs>=17.4.0 in /opt/conda/lib/python3.7/site-packages (from jsonschema>=2.6->nbformat>=4.4->nbconvert->jupyter) (21.4.0)\r\n",
      "Requirement already satisfied: cffi>=1.0.1 in /opt/conda/lib/python3.7/site-packages (from argon2-cffi-bindings->argon2-cffi->notebook->jupyter) (1.15.0)\r\n",
      "Requirement already satisfied: zipp>=0.5 in /opt/conda/lib/python3.7/site-packages (from importlib-metadata->click>=8.0.0->black>=21.9b0->jupyter-black) (3.8.0)\r\n",
      "Requirement already satisfied: pycparser in /opt/conda/lib/python3.7/site-packages (from cffi>=1.0.1->argon2-cffi-bindings->argon2-cffi->notebook->jupyter) (2.21)\r\n",
      "Installing collected packages: tokenize-rt, jupyter-black\r\n",
      "Successfully installed jupyter-black-0.3.3 tokenize-rt-5.0.0\r\n",
      "\u001b[33mWARNING: Running pip as the 'root' user can result in broken permissions and conflicting behaviour with the system package manager. It is recommended to use a virtual environment instead: https://pip.pypa.io/warnings/venv\u001b[0m\u001b[33m\r\n",
      "\u001b[0mNote: you may need to restart the kernel to use updated packages.\n"
     ]
    }
   ],
   "source": [
    "pip install jupyter-black jupyter"
   ]
  },
  {
   "cell_type": "code",
   "execution_count": 4,
   "id": "c8139038",
   "metadata": {
    "execution": {
     "iopub.execute_input": "2022-11-28T14:09:39.099549Z",
     "iopub.status.busy": "2022-11-28T14:09:39.099104Z",
     "iopub.status.idle": "2022-11-28T14:09:39.259398Z",
     "shell.execute_reply": "2022-11-28T14:09:39.258089Z"
    },
    "papermill": {
     "duration": 0.181814,
     "end_time": "2022-11-28T14:09:39.262103",
     "exception": false,
     "start_time": "2022-11-28T14:09:39.080289",
     "status": "completed"
    },
    "tags": []
   },
   "outputs": [
    {
     "data": {
      "text/html": [
       "\n",
       "                <script type=\"application/javascript\" id=\"jupyter_black\">\n",
       "                (function() {\n",
       "                    if (window.IPython === undefined) {\n",
       "                        return\n",
       "                    }\n",
       "                    var msg = \"WARNING: it looks like you might have loaded \" +\n",
       "                        \"jupyter_black in a non-lab notebook with \" +\n",
       "                        \"`is_lab=True`. Please double check, and if \" +\n",
       "                        \"loading with `%load_ext` please review the README!\"\n",
       "                    console.log(msg)\n",
       "                    alert(msg)\n",
       "                })()\n",
       "                </script>\n",
       "                "
      ],
      "text/plain": [
       "<IPython.core.display.HTML object>"
      ]
     },
     "metadata": {},
     "output_type": "display_data"
    }
   ],
   "source": [
    "# for black formating\n",
    "import jupyter_black  # pip install jupyter-black jupyter\n",
    "\n",
    "jupyter_black.load()\n",
    "# ??jupyter_black.load #show config"
   ]
  },
  {
   "cell_type": "markdown",
   "id": "70c63938",
   "metadata": {
    "papermill": {
     "duration": 0.017895,
     "end_time": "2022-11-28T14:09:39.298889",
     "exception": false,
     "start_time": "2022-11-28T14:09:39.280994",
     "status": "completed"
    },
    "tags": []
   },
   "source": [
    "```sql\n",
    "SELECT TOP 1000000 Title, Body, Tags, Id, Score, ViewCount, FavoriteCount, AnswerCount, CommentCount, ClosedDate, AcceptedAnswerId\n",
    "FROM Posts\n",
    "WHERE ViewCount>100 AND (LEN(TAGS)-LEN(REPLACE(Tags, '<','')))>=5\n",
    "```\n",
    "only get 500000"
   ]
  },
  {
   "cell_type": "code",
   "execution_count": 5,
   "id": "ed68a45e",
   "metadata": {
    "execution": {
     "iopub.execute_input": "2022-11-28T14:09:39.336037Z",
     "iopub.status.busy": "2022-11-28T14:09:39.335645Z",
     "iopub.status.idle": "2022-11-28T14:09:42.031702Z",
     "shell.execute_reply": "2022-11-28T14:09:42.030487Z"
    },
    "papermill": {
     "duration": 2.717835,
     "end_time": "2022-11-28T14:09:42.034526",
     "exception": false,
     "start_time": "2022-11-28T14:09:39.316691",
     "status": "completed"
    },
    "tags": []
   },
   "outputs": [],
   "source": [
    "df = pd.read_csv(\"/kaggle/input/stackoverflowqueryres0/QueryResults.csv\")"
   ]
  },
  {
   "cell_type": "markdown",
   "id": "ce44a6de",
   "metadata": {
    "papermill": {
     "duration": 0.017267,
     "end_time": "2022-11-28T14:09:42.070368",
     "exception": false,
     "start_time": "2022-11-28T14:09:42.053101",
     "status": "completed"
    },
    "tags": []
   },
   "source": [
    "```sql\n",
    "SELECT TOP 500000 Title, Body, Tags, Id, Score, ViewCount, FavoriteCount, AnswerCount, CommentCount, ClosedDate, AcceptedAnswerId\n",
    "FROM Posts\n",
    "WHERE ViewCount>1000 AND Score>10 AND (AnswerCount>5 OR CommentCount>5) AND (LEN(TAGS)-LEN(REPLACE(Tags, '<','')))>=4\n",
    "```"
   ]
  },
  {
   "cell_type": "code",
   "execution_count": 6,
   "id": "32885a20",
   "metadata": {
    "execution": {
     "iopub.execute_input": "2022-11-28T14:09:42.107171Z",
     "iopub.status.busy": "2022-11-28T14:09:42.106789Z",
     "iopub.status.idle": "2022-11-28T14:09:44.055834Z",
     "shell.execute_reply": "2022-11-28T14:09:44.054530Z"
    },
    "papermill": {
     "duration": 1.971097,
     "end_time": "2022-11-28T14:09:44.058797",
     "exception": false,
     "start_time": "2022-11-28T14:09:42.087700",
     "status": "completed"
    },
    "tags": []
   },
   "outputs": [],
   "source": [
    "df = pd.concat([pd.read_csv(\"/kaggle/input/stackoverflow/QueryResults1Score.csv\"), df])"
   ]
  },
  {
   "cell_type": "markdown",
   "id": "6f4a3e61",
   "metadata": {
    "papermill": {
     "duration": 0.017503,
     "end_time": "2022-11-28T14:09:44.094393",
     "exception": false,
     "start_time": "2022-11-28T14:09:44.076890",
     "status": "completed"
    },
    "tags": []
   },
   "source": [
    "```sql\n",
    "SELECT TOP 500000 Title, Body, Tags, Id, Score, ViewCount, FavoriteCount, AnswerCount, CommentCount, ClosedDate, AcceptedAnswerId\n",
    "FROM Posts\n",
    "WHERE ViewCount>1000 AND Score>10 AND (AnswerCount>5 OR CommentCount>5) AND (LEN(TAGS)-LEN(REPLACE(Tags, '<','')))>=4\n",
    "ORDER BY Score Desc, ViewCount DESC\n",
    "```"
   ]
  },
  {
   "cell_type": "code",
   "execution_count": 7,
   "id": "b910a56a",
   "metadata": {
    "execution": {
     "iopub.execute_input": "2022-11-28T14:09:44.132436Z",
     "iopub.status.busy": "2022-11-28T14:09:44.131988Z",
     "iopub.status.idle": "2022-11-28T14:09:46.034411Z",
     "shell.execute_reply": "2022-11-28T14:09:46.033248Z"
    },
    "papermill": {
     "duration": 1.924766,
     "end_time": "2022-11-28T14:09:46.037178",
     "exception": false,
     "start_time": "2022-11-28T14:09:44.112412",
     "status": "completed"
    },
    "tags": []
   },
   "outputs": [],
   "source": [
    "df = pd.concat(\n",
    "    [pd.read_csv(\"/kaggle/input/stackoverflow/QueryResults2TopOrderByScore.csv\"), df]\n",
    ")"
   ]
  },
  {
   "cell_type": "code",
   "execution_count": 8,
   "id": "de51e617",
   "metadata": {
    "execution": {
     "iopub.execute_input": "2022-11-28T14:09:46.075028Z",
     "iopub.status.busy": "2022-11-28T14:09:46.074220Z",
     "iopub.status.idle": "2022-11-28T14:09:46.147601Z",
     "shell.execute_reply": "2022-11-28T14:09:46.146121Z"
    },
    "papermill": {
     "duration": 0.095553,
     "end_time": "2022-11-28T14:09:46.150291",
     "exception": false,
     "start_time": "2022-11-28T14:09:46.054738",
     "status": "completed"
    },
    "tags": []
   },
   "outputs": [
    {
     "name": "stdout",
     "output_type": "stream",
     "text": [
      "<class 'pandas.core.frame.DataFrame'>\n",
      "Int64Index: 150000 entries, 0 to 49999\n",
      "Data columns (total 11 columns):\n",
      " #   Column            Non-Null Count   Dtype  \n",
      "---  ------            --------------   -----  \n",
      " 0   Title             150000 non-null  object \n",
      " 1   Body              150000 non-null  object \n",
      " 2   Tags              150000 non-null  object \n",
      " 3   Id                150000 non-null  int64  \n",
      " 4   Score             150000 non-null  int64  \n",
      " 5   ViewCount         150000 non-null  int64  \n",
      " 6   FavoriteCount     116783 non-null  float64\n",
      " 7   AnswerCount       150000 non-null  int64  \n",
      " 8   CommentCount      150000 non-null  int64  \n",
      " 9   ClosedDate        7619 non-null    object \n",
      " 10  AcceptedAnswerId  107891 non-null  float64\n",
      "dtypes: float64(2), int64(5), object(4)\n",
      "memory usage: 13.7+ MB\n"
     ]
    }
   ],
   "source": [
    "df.info()"
   ]
  },
  {
   "cell_type": "code",
   "execution_count": 9,
   "id": "5d826ef5",
   "metadata": {
    "execution": {
     "iopub.execute_input": "2022-11-28T14:09:46.187046Z",
     "iopub.status.busy": "2022-11-28T14:09:46.186656Z",
     "iopub.status.idle": "2022-11-28T14:09:46.344667Z",
     "shell.execute_reply": "2022-11-28T14:09:46.343239Z"
    },
    "papermill": {
     "duration": 0.179783,
     "end_time": "2022-11-28T14:09:46.347712",
     "exception": false,
     "start_time": "2022-11-28T14:09:46.167929",
     "status": "completed"
    },
    "tags": []
   },
   "outputs": [
    {
     "name": "stdout",
     "output_type": "stream",
     "text": [
      "<class 'pandas.core.frame.DataFrame'>\n",
      "RangeIndex: 118442 entries, 0 to 118441\n",
      "Data columns (total 11 columns):\n",
      " #   Column            Non-Null Count   Dtype  \n",
      "---  ------            --------------   -----  \n",
      " 0   Title             118442 non-null  object \n",
      " 1   Body              118442 non-null  object \n",
      " 2   Tags              118442 non-null  object \n",
      " 3   Id                118442 non-null  int64  \n",
      " 4   Score             118442 non-null  int64  \n",
      " 5   ViewCount         118442 non-null  int64  \n",
      " 6   FavoriteCount     85312 non-null   float64\n",
      " 7   AnswerCount       118442 non-null  int64  \n",
      " 8   CommentCount      118442 non-null  int64  \n",
      " 9   ClosedDate        5445 non-null    object \n",
      " 10  AcceptedAnswerId  81953 non-null   float64\n",
      "dtypes: float64(2), int64(5), object(4)\n",
      "memory usage: 9.9+ MB\n"
     ]
    }
   ],
   "source": [
    "df = df[~df.duplicated(subset=\"Id\")].reset_index(drop=True)\n",
    "df.info()"
   ]
  },
  {
   "cell_type": "code",
   "execution_count": 10,
   "id": "910b94e7",
   "metadata": {
    "execution": {
     "iopub.execute_input": "2022-11-28T14:09:46.385331Z",
     "iopub.status.busy": "2022-11-28T14:09:46.384896Z",
     "iopub.status.idle": "2022-11-28T14:09:46.492313Z",
     "shell.execute_reply": "2022-11-28T14:09:46.491156Z"
    },
    "papermill": {
     "duration": 0.129102,
     "end_time": "2022-11-28T14:09:46.495033",
     "exception": false,
     "start_time": "2022-11-28T14:09:46.365931",
     "status": "completed"
    },
    "tags": []
   },
   "outputs": [
    {
     "data": {
      "text/plain": [
       "<javascript><jquery><html><css>                             0.000912\n",
       "<javascript><jquery><html><css><twitter-bootstrap>          0.000735\n",
       "<javascript><php><jquery><html><ajax>                       0.000321\n",
       "<sql><sql-server><sql-server-2005><tsql>                    0.000270\n",
       "<html><css><twitter-bootstrap><twitter-bootstrap-3>         0.000220\n",
       "<javascript><php><jquery><html><css>                        0.000203\n",
       "<sql><sql-server><tsql><sql-server-2008>                    0.000194\n",
       "<javascript><jquery><html><css><jquery-ui>                  0.000177\n",
       "<javascript><php><jquery><mysql><ajax>                      0.000160\n",
       "<c#><.net><winforms><datagridview>                          0.000144\n",
       "<java><lambda><java-8><java-stream>                         0.000144\n",
       "<javascript><jquery><html><forms>                           0.000135\n",
       "<php><apache><.htaccess><redirect><mod-rewrite>             0.000127\n",
       "<c#><.net><exception><exception-handling>                   0.000127\n",
       "<android><android-studio><gradle><android-gradle-plugin>    0.000118\n",
       "<python><selenium><xpath><css-selectors><webdriverwait>     0.000118\n",
       "<javascript><jquery><html><css><ajax>                       0.000118\n",
       "<angular><typescript><ionic-framework><ionic2><ionic3>      0.000110\n",
       "<javascript><jquery><html><dom>                             0.000110\n",
       "<javascript><php><jquery><html><forms>                      0.000110\n",
       "Name: Tags, dtype: float64"
      ]
     },
     "execution_count": 10,
     "metadata": {},
     "output_type": "execute_result"
    }
   ],
   "source": [
    "df[\"Tags\"].value_counts(normalize=True).head(\n",
    "    20\n",
    ")  # combinaison de tags les plus fréquent"
   ]
  },
  {
   "cell_type": "code",
   "execution_count": 11,
   "id": "31092a8e",
   "metadata": {
    "execution": {
     "iopub.execute_input": "2022-11-28T14:09:46.532426Z",
     "iopub.status.busy": "2022-11-28T14:09:46.532006Z",
     "iopub.status.idle": "2022-11-28T14:09:48.763495Z",
     "shell.execute_reply": "2022-11-28T14:09:48.762178Z"
    },
    "papermill": {
     "duration": 2.253254,
     "end_time": "2022-11-28T14:09:48.766187",
     "exception": false,
     "start_time": "2022-11-28T14:09:46.512933",
     "status": "completed"
    },
    "tags": []
   },
   "outputs": [
    {
     "data": {
      "text/html": [
       "<div>\n",
       "<style scoped>\n",
       "    .dataframe tbody tr th:only-of-type {\n",
       "        vertical-align: middle;\n",
       "    }\n",
       "\n",
       "    .dataframe tbody tr th {\n",
       "        vertical-align: top;\n",
       "    }\n",
       "\n",
       "    .dataframe thead th {\n",
       "        text-align: right;\n",
       "    }\n",
       "</style>\n",
       "<table border=\"1\" class=\"dataframe\">\n",
       "  <thead>\n",
       "    <tr style=\"text-align: right;\">\n",
       "      <th></th>\n",
       "      <th></th>\n",
       "      <th>0</th>\n",
       "    </tr>\n",
       "    <tr>\n",
       "      <th></th>\n",
       "      <th>match</th>\n",
       "      <th></th>\n",
       "    </tr>\n",
       "  </thead>\n",
       "  <tbody>\n",
       "    <tr>\n",
       "      <th rowspan=\"5\" valign=\"top\">0</th>\n",
       "      <th>0</th>\n",
       "      <td>java</td>\n",
       "    </tr>\n",
       "    <tr>\n",
       "      <th>1</th>\n",
       "      <td>c++</td>\n",
       "    </tr>\n",
       "    <tr>\n",
       "      <th>2</th>\n",
       "      <td>performance</td>\n",
       "    </tr>\n",
       "    <tr>\n",
       "      <th>3</th>\n",
       "      <td>cpu-architecture</td>\n",
       "    </tr>\n",
       "    <tr>\n",
       "      <th>4</th>\n",
       "      <td>branch-prediction</td>\n",
       "    </tr>\n",
       "    <tr>\n",
       "      <th>...</th>\n",
       "      <th>...</th>\n",
       "      <td>...</td>\n",
       "    </tr>\n",
       "    <tr>\n",
       "      <th rowspan=\"5\" valign=\"top\">118441</th>\n",
       "      <th>0</th>\n",
       "      <td>c#</td>\n",
       "    </tr>\n",
       "    <tr>\n",
       "      <th>1</th>\n",
       "      <td>.net</td>\n",
       "    </tr>\n",
       "    <tr>\n",
       "      <th>2</th>\n",
       "      <td>garbage-collection</td>\n",
       "    </tr>\n",
       "    <tr>\n",
       "      <th>3</th>\n",
       "      <td>dispose</td>\n",
       "    </tr>\n",
       "    <tr>\n",
       "      <th>4</th>\n",
       "      <td>idisposable</td>\n",
       "    </tr>\n",
       "  </tbody>\n",
       "</table>\n",
       "<p>550206 rows × 1 columns</p>\n",
       "</div>"
      ],
      "text/plain": [
       "                               0\n",
       "       match                    \n",
       "0      0                    java\n",
       "       1                     c++\n",
       "       2             performance\n",
       "       3        cpu-architecture\n",
       "       4       branch-prediction\n",
       "...                          ...\n",
       "118441 0                      c#\n",
       "       1                    .net\n",
       "       2      garbage-collection\n",
       "       3                 dispose\n",
       "       4             idisposable\n",
       "\n",
       "[550206 rows x 1 columns]"
      ]
     },
     "execution_count": 11,
     "metadata": {},
     "output_type": "execute_result"
    }
   ],
   "source": [
    "tags = df[\"Tags\"].str.extractall(r\"\\<([^>]*)\\>\")\n",
    "tags"
   ]
  },
  {
   "cell_type": "code",
   "execution_count": 12,
   "id": "e12e4b0c",
   "metadata": {
    "execution": {
     "iopub.execute_input": "2022-11-28T14:09:48.804393Z",
     "iopub.status.busy": "2022-11-28T14:09:48.803971Z",
     "iopub.status.idle": "2022-11-28T14:09:49.009391Z",
     "shell.execute_reply": "2022-11-28T14:09:49.008109Z"
    },
    "papermill": {
     "duration": 0.227154,
     "end_time": "2022-11-28T14:09:49.011843",
     "exception": false,
     "start_time": "2022-11-28T14:09:48.784689",
     "status": "completed"
    },
    "tags": []
   },
   "outputs": [
    {
     "data": {
      "text/plain": [
       "java              12.043025\n",
       "c#                11.783827\n",
       "javascript        11.657182\n",
       "python             8.665845\n",
       "android            6.974722\n",
       "c++                6.633627\n",
       "ios                6.242718\n",
       "html               5.870384\n",
       "php                5.540264\n",
       ".net               5.331724\n",
       "jquery             5.319059\n",
       "css                3.783286\n",
       "objective-c        3.059725\n",
       "c                  3.055504\n",
       "sql                2.984583\n",
       "iphone             2.774354\n",
       "asp.net            2.726229\n",
       "mysql              2.357272\n",
       "linux              2.331943\n",
       "node.js            2.293105\n",
       "arrays             2.093008\n",
       "swift              2.049948\n",
       "sql-server         1.968896\n",
       "json               1.949477\n",
       "string             1.882778\n",
       "windows            1.827899\n",
       "performance        1.827055\n",
       "ruby-on-rails      1.714763\n",
       "xcode              1.713919\n",
       "spring             1.669171\n",
       "ajax               1.523108\n",
       "database           1.500312\n",
       "asp.net-mvc        1.467385\n",
       "algorithm          1.386333\n",
       "ruby               1.354249\n",
       "macos              1.323855\n",
       "multithreading     1.300214\n",
       "visual-studio      1.278263\n",
       "django             1.239425\n",
       "reactjs            1.220006\n",
       "wpf                1.192989\n",
       "xml                1.190456\n",
       "bash               1.154151\n",
       "eclipse            1.148241\n",
       "python-3.x         1.134733\n",
       "image              1.086608\n",
       "unit-testing       1.059590\n",
       "angular            1.015687\n",
       "c++11              0.993735\n",
       "angularjs          0.949832\n",
       "dtype: float64"
      ]
     },
     "execution_count": 12,
     "metadata": {},
     "output_type": "execute_result"
    }
   ],
   "source": [
    "tags.value_counts(normalize=True).head(50) * 100 * (\n",
    "    len(tags) / len(df)\n",
    ")  # pour avoir prop"
   ]
  },
  {
   "cell_type": "code",
   "execution_count": 13,
   "id": "eb4a1dec",
   "metadata": {
    "execution": {
     "iopub.execute_input": "2022-11-28T14:09:49.051661Z",
     "iopub.status.busy": "2022-11-28T14:09:49.050252Z",
     "iopub.status.idle": "2022-11-28T14:09:49.229434Z",
     "shell.execute_reply": "2022-11-28T14:09:49.227958Z"
    },
    "papermill": {
     "duration": 0.203029,
     "end_time": "2022-11-28T14:09:49.233535",
     "exception": false,
     "start_time": "2022-11-28T14:09:49.030506",
     "status": "completed"
    },
    "tags": []
   },
   "outputs": [
    {
     "name": "stdout",
     "output_type": "stream",
     "text": [
      "les 50tags les plus fréquent représente 33.29% des données\n"
     ]
    }
   ],
   "source": [
    "print(\n",
    "    f\"les 50tags les plus fréquent représente {tags.value_counts(normalize=True).head(50).sum():.2%} des données\"\n",
    ")"
   ]
  },
  {
   "cell_type": "markdown",
   "id": "193c1c9e",
   "metadata": {
    "papermill": {
     "duration": 0.018969,
     "end_time": "2022-11-28T14:09:49.271462",
     "exception": false,
     "start_time": "2022-11-28T14:09:49.252493",
     "status": "completed"
    },
    "tags": []
   },
   "source": [
    "## tags les plus fréquents:\n",
    "### langage : \n",
    "- javascript(jquery, nodejs, angularjs,reactjs,angular)\n",
    "- c# (.net, asp.net, asp.net-mvc, wpf) \n",
    "- java (spring, eclipse ou catégorie ide)\n",
    "- python (django\n",
    "- html css xml json ajax forms image (=front?)\n",
    "- c (objective-c \n",
    "- database sql (mysql, sql-server ) (hybernate?)\n",
    "- ? ruby ruby-on-rails,\n",
    "- swift\n",
    "### OS\n",
    "- android\n",
    "- ios iphone macos\n",
    "- linux\n",
    "- windows\n",
    "\n",
    "### Notion divers (ni langage ni os)\n",
    "- arrays string \n",
    "- performance multithreading\n",
    "- unit-testing\n"
   ]
  },
  {
   "cell_type": "code",
   "execution_count": 14,
   "id": "e2883e34",
   "metadata": {
    "execution": {
     "iopub.execute_input": "2022-11-28T14:09:49.311464Z",
     "iopub.status.busy": "2022-11-28T14:09:49.310672Z",
     "iopub.status.idle": "2022-11-28T14:09:49.326837Z",
     "shell.execute_reply": "2022-11-28T14:09:49.325631Z"
    },
    "papermill": {
     "duration": 0.039469,
     "end_time": "2022-11-28T14:09:49.329571",
     "exception": false,
     "start_time": "2022-11-28T14:09:49.290102",
     "status": "completed"
    },
    "tags": []
   },
   "outputs": [
    {
     "data": {
      "text/html": [
       "<div>\n",
       "<style scoped>\n",
       "    .dataframe tbody tr th:only-of-type {\n",
       "        vertical-align: middle;\n",
       "    }\n",
       "\n",
       "    .dataframe tbody tr th {\n",
       "        vertical-align: top;\n",
       "    }\n",
       "\n",
       "    .dataframe thead th {\n",
       "        text-align: right;\n",
       "    }\n",
       "</style>\n",
       "<table border=\"1\" class=\"dataframe\">\n",
       "  <thead>\n",
       "    <tr style=\"text-align: right;\">\n",
       "      <th></th>\n",
       "      <th></th>\n",
       "      <th>0</th>\n",
       "    </tr>\n",
       "    <tr>\n",
       "      <th></th>\n",
       "      <th>match</th>\n",
       "      <th></th>\n",
       "    </tr>\n",
       "  </thead>\n",
       "  <tbody>\n",
       "    <tr>\n",
       "      <th rowspan=\"5\" valign=\"top\">0</th>\n",
       "      <th>0</th>\n",
       "      <td>java</td>\n",
       "    </tr>\n",
       "    <tr>\n",
       "      <th>1</th>\n",
       "      <td>c++</td>\n",
       "    </tr>\n",
       "    <tr>\n",
       "      <th>2</th>\n",
       "      <td>performance</td>\n",
       "    </tr>\n",
       "    <tr>\n",
       "      <th>3</th>\n",
       "      <td>cpu-architecture</td>\n",
       "    </tr>\n",
       "    <tr>\n",
       "      <th>4</th>\n",
       "      <td>branch-prediction</td>\n",
       "    </tr>\n",
       "    <tr>\n",
       "      <th>...</th>\n",
       "      <th>...</th>\n",
       "      <td>...</td>\n",
       "    </tr>\n",
       "    <tr>\n",
       "      <th rowspan=\"5\" valign=\"top\">118441</th>\n",
       "      <th>0</th>\n",
       "      <td>c#</td>\n",
       "    </tr>\n",
       "    <tr>\n",
       "      <th>1</th>\n",
       "      <td>.net</td>\n",
       "    </tr>\n",
       "    <tr>\n",
       "      <th>2</th>\n",
       "      <td>garbage-collection</td>\n",
       "    </tr>\n",
       "    <tr>\n",
       "      <th>3</th>\n",
       "      <td>dispose</td>\n",
       "    </tr>\n",
       "    <tr>\n",
       "      <th>4</th>\n",
       "      <td>idisposable</td>\n",
       "    </tr>\n",
       "  </tbody>\n",
       "</table>\n",
       "<p>550206 rows × 1 columns</p>\n",
       "</div>"
      ],
      "text/plain": [
       "                               0\n",
       "       match                    \n",
       "0      0                    java\n",
       "       1                     c++\n",
       "       2             performance\n",
       "       3        cpu-architecture\n",
       "       4       branch-prediction\n",
       "...                          ...\n",
       "118441 0                      c#\n",
       "       1                    .net\n",
       "       2      garbage-collection\n",
       "       3                 dispose\n",
       "       4             idisposable\n",
       "\n",
       "[550206 rows x 1 columns]"
      ]
     },
     "execution_count": 14,
     "metadata": {},
     "output_type": "execute_result"
    }
   ],
   "source": [
    "tags"
   ]
  },
  {
   "cell_type": "code",
   "execution_count": 15,
   "id": "1dc1041a",
   "metadata": {
    "execution": {
     "iopub.execute_input": "2022-11-28T14:09:49.369925Z",
     "iopub.status.busy": "2022-11-28T14:09:49.369498Z",
     "iopub.status.idle": "2022-11-28T14:09:49.644243Z",
     "shell.execute_reply": "2022-11-28T14:09:49.643026Z"
    },
    "papermill": {
     "duration": 0.297477,
     "end_time": "2022-11-28T14:09:49.646701",
     "exception": false,
     "start_time": "2022-11-28T14:09:49.349224",
     "status": "completed"
    },
    "tags": []
   },
   "outputs": [
    {
     "data": {
      "text/html": [
       "<div>\n",
       "<style scoped>\n",
       "    .dataframe tbody tr th:only-of-type {\n",
       "        vertical-align: middle;\n",
       "    }\n",
       "\n",
       "    .dataframe tbody tr th {\n",
       "        vertical-align: top;\n",
       "    }\n",
       "\n",
       "    .dataframe thead th {\n",
       "        text-align: right;\n",
       "    }\n",
       "</style>\n",
       "<table border=\"1\" class=\"dataframe\">\n",
       "  <thead>\n",
       "    <tr style=\"text-align: right;\">\n",
       "      <th>match</th>\n",
       "      <th>0</th>\n",
       "      <th>1</th>\n",
       "      <th>2</th>\n",
       "      <th>3</th>\n",
       "      <th>4</th>\n",
       "      <th>5</th>\n",
       "    </tr>\n",
       "  </thead>\n",
       "  <tbody>\n",
       "    <tr>\n",
       "      <th>0</th>\n",
       "      <td>java</td>\n",
       "      <td>c++</td>\n",
       "      <td>performance</td>\n",
       "      <td>cpu-architecture</td>\n",
       "      <td>branch-prediction</td>\n",
       "      <td>NaN</td>\n",
       "    </tr>\n",
       "    <tr>\n",
       "      <th>1</th>\n",
       "      <td>git</td>\n",
       "      <td>version-control</td>\n",
       "      <td>git-commit</td>\n",
       "      <td>undo</td>\n",
       "      <td>NaN</td>\n",
       "      <td>NaN</td>\n",
       "    </tr>\n",
       "    <tr>\n",
       "      <th>2</th>\n",
       "      <td>git</td>\n",
       "      <td>version-control</td>\n",
       "      <td>git-branch</td>\n",
       "      <td>git-push</td>\n",
       "      <td>git-remote</td>\n",
       "      <td>NaN</td>\n",
       "    </tr>\n",
       "    <tr>\n",
       "      <th>3</th>\n",
       "      <td>git</td>\n",
       "      <td>version-control</td>\n",
       "      <td>git-pull</td>\n",
       "      <td>git-fetch</td>\n",
       "      <td>NaN</td>\n",
       "      <td>NaN</td>\n",
       "    </tr>\n",
       "    <tr>\n",
       "      <th>4</th>\n",
       "      <td>c++</td>\n",
       "      <td>c</td>\n",
       "      <td>operators</td>\n",
       "      <td>code-formatting</td>\n",
       "      <td>standards-compliance</td>\n",
       "      <td>NaN</td>\n",
       "    </tr>\n",
       "    <tr>\n",
       "      <th>...</th>\n",
       "      <td>...</td>\n",
       "      <td>...</td>\n",
       "      <td>...</td>\n",
       "      <td>...</td>\n",
       "      <td>...</td>\n",
       "      <td>...</td>\n",
       "    </tr>\n",
       "    <tr>\n",
       "      <th>118437</th>\n",
       "      <td>iphone</td>\n",
       "      <td>ios</td>\n",
       "      <td>objective-c</td>\n",
       "      <td>nsstring</td>\n",
       "      <td>core-text</td>\n",
       "      <td>NaN</td>\n",
       "    </tr>\n",
       "    <tr>\n",
       "      <th>118438</th>\n",
       "      <td>google-maps</td>\n",
       "      <td>android-fragments</td>\n",
       "      <td>xamarin.android</td>\n",
       "      <td>google-maps-android-api-2</td>\n",
       "      <td>android-2.2-froyo</td>\n",
       "      <td>NaN</td>\n",
       "    </tr>\n",
       "    <tr>\n",
       "      <th>118439</th>\n",
       "      <td>javascript</td>\n",
       "      <td>google-maps</td>\n",
       "      <td>google-maps-api-3</td>\n",
       "      <td>internet-explorer-8</td>\n",
       "      <td>google-maps-markers</td>\n",
       "      <td>NaN</td>\n",
       "    </tr>\n",
       "    <tr>\n",
       "      <th>118440</th>\n",
       "      <td>java</td>\n",
       "      <td>email</td>\n",
       "      <td>exchange-server</td>\n",
       "      <td>jakarta-mail</td>\n",
       "      <td>ntlm</td>\n",
       "      <td>NaN</td>\n",
       "    </tr>\n",
       "    <tr>\n",
       "      <th>118441</th>\n",
       "      <td>c#</td>\n",
       "      <td>.net</td>\n",
       "      <td>garbage-collection</td>\n",
       "      <td>dispose</td>\n",
       "      <td>idisposable</td>\n",
       "      <td>NaN</td>\n",
       "    </tr>\n",
       "  </tbody>\n",
       "</table>\n",
       "<p>118442 rows × 6 columns</p>\n",
       "</div>"
      ],
      "text/plain": [
       "match             0                  1                   2  \\\n",
       "0              java                c++         performance   \n",
       "1               git    version-control          git-commit   \n",
       "2               git    version-control          git-branch   \n",
       "3               git    version-control            git-pull   \n",
       "4               c++                  c           operators   \n",
       "...             ...                ...                 ...   \n",
       "118437       iphone                ios         objective-c   \n",
       "118438  google-maps  android-fragments     xamarin.android   \n",
       "118439   javascript        google-maps   google-maps-api-3   \n",
       "118440         java              email     exchange-server   \n",
       "118441           c#               .net  garbage-collection   \n",
       "\n",
       "match                           3                     4    5  \n",
       "0                cpu-architecture     branch-prediction  NaN  \n",
       "1                            undo                   NaN  NaN  \n",
       "2                        git-push            git-remote  NaN  \n",
       "3                       git-fetch                   NaN  NaN  \n",
       "4                 code-formatting  standards-compliance  NaN  \n",
       "...                           ...                   ...  ...  \n",
       "118437                   nsstring             core-text  NaN  \n",
       "118438  google-maps-android-api-2     android-2.2-froyo  NaN  \n",
       "118439        internet-explorer-8   google-maps-markers  NaN  \n",
       "118440               jakarta-mail                  ntlm  NaN  \n",
       "118441                    dispose           idisposable  NaN  \n",
       "\n",
       "[118442 rows x 6 columns]"
      ]
     },
     "execution_count": 15,
     "metadata": {},
     "output_type": "execute_result"
    }
   ],
   "source": [
    "tags.unstack()[0]"
   ]
  },
  {
   "cell_type": "code",
   "execution_count": 16,
   "id": "18fd5de8",
   "metadata": {
    "execution": {
     "iopub.execute_input": "2022-11-28T14:09:49.686513Z",
     "iopub.status.busy": "2022-11-28T14:09:49.685639Z",
     "iopub.status.idle": "2022-11-28T14:09:50.023778Z",
     "shell.execute_reply": "2022-11-28T14:09:50.022888Z"
    },
    "papermill": {
     "duration": 0.360609,
     "end_time": "2022-11-28T14:09:50.026004",
     "exception": false,
     "start_time": "2022-11-28T14:09:49.665395",
     "status": "completed"
    },
    "tags": []
   },
   "outputs": [
    {
     "data": {
      "text/html": [
       "<div>\n",
       "<style scoped>\n",
       "    .dataframe tbody tr th:only-of-type {\n",
       "        vertical-align: middle;\n",
       "    }\n",
       "\n",
       "    .dataframe tbody tr th {\n",
       "        vertical-align: top;\n",
       "    }\n",
       "\n",
       "    .dataframe thead th {\n",
       "        text-align: right;\n",
       "    }\n",
       "</style>\n",
       "<table border=\"1\" class=\"dataframe\">\n",
       "  <thead>\n",
       "    <tr style=\"text-align: right;\">\n",
       "      <th></th>\n",
       "      <th>Title</th>\n",
       "      <th>Body</th>\n",
       "      <th>Tags</th>\n",
       "      <th>Id</th>\n",
       "      <th>Score</th>\n",
       "      <th>ViewCount</th>\n",
       "      <th>FavoriteCount</th>\n",
       "      <th>AnswerCount</th>\n",
       "      <th>CommentCount</th>\n",
       "      <th>ClosedDate</th>\n",
       "      <th>AcceptedAnswerId</th>\n",
       "      <th>0</th>\n",
       "      <th>1</th>\n",
       "      <th>2</th>\n",
       "      <th>3</th>\n",
       "      <th>4</th>\n",
       "      <th>5</th>\n",
       "    </tr>\n",
       "  </thead>\n",
       "  <tbody>\n",
       "    <tr>\n",
       "      <th>0</th>\n",
       "      <td>Why is processing a sorted array faster than p...</td>\n",
       "      <td>&lt;p&gt;Here is a piece of C++ code that shows some...</td>\n",
       "      <td>&lt;java&gt;&lt;c++&gt;&lt;performance&gt;&lt;cpu-architecture&gt;&lt;bra...</td>\n",
       "      <td>11227809</td>\n",
       "      <td>26730</td>\n",
       "      <td>1769357</td>\n",
       "      <td>0.0</td>\n",
       "      <td>27</td>\n",
       "      <td>9</td>\n",
       "      <td>NaN</td>\n",
       "      <td>11227902.0</td>\n",
       "      <td>java</td>\n",
       "      <td>c++</td>\n",
       "      <td>performance</td>\n",
       "      <td>cpu-architecture</td>\n",
       "      <td>branch-prediction</td>\n",
       "      <td>NaN</td>\n",
       "    </tr>\n",
       "    <tr>\n",
       "      <th>1</th>\n",
       "      <td>How do I undo the most recent local commits in...</td>\n",
       "      <td>&lt;p&gt;I accidentally committed the wrong files to...</td>\n",
       "      <td>&lt;git&gt;&lt;version-control&gt;&lt;git-commit&gt;&lt;undo&gt;</td>\n",
       "      <td>927358</td>\n",
       "      <td>25054</td>\n",
       "      <td>11955812</td>\n",
       "      <td>2.0</td>\n",
       "      <td>100</td>\n",
       "      <td>12</td>\n",
       "      <td>NaN</td>\n",
       "      <td>927386.0</td>\n",
       "      <td>git</td>\n",
       "      <td>version-control</td>\n",
       "      <td>git-commit</td>\n",
       "      <td>undo</td>\n",
       "      <td>NaN</td>\n",
       "      <td>NaN</td>\n",
       "    </tr>\n",
       "    <tr>\n",
       "      <th>2</th>\n",
       "      <td>How do I delete a Git branch locally and remot...</td>\n",
       "      <td>&lt;h4&gt;Failed Attempts to Delete a Remote Branch:...</td>\n",
       "      <td>&lt;git&gt;&lt;version-control&gt;&lt;git-branch&gt;&lt;git-push&gt;&lt;g...</td>\n",
       "      <td>2003505</td>\n",
       "      <td>19720</td>\n",
       "      <td>10488243</td>\n",
       "      <td>0.0</td>\n",
       "      <td>41</td>\n",
       "      <td>10</td>\n",
       "      <td>NaN</td>\n",
       "      <td>2003515.0</td>\n",
       "      <td>git</td>\n",
       "      <td>version-control</td>\n",
       "      <td>git-branch</td>\n",
       "      <td>git-push</td>\n",
       "      <td>git-remote</td>\n",
       "      <td>NaN</td>\n",
       "    </tr>\n",
       "    <tr>\n",
       "      <th>3</th>\n",
       "      <td>What is the difference between 'git pull' and ...</td>\n",
       "      <td>&lt;p&gt;What are the differences between &lt;a href=\"h...</td>\n",
       "      <td>&lt;git&gt;&lt;version-control&gt;&lt;git-pull&gt;&lt;git-fetch&gt;</td>\n",
       "      <td>292357</td>\n",
       "      <td>13439</td>\n",
       "      <td>3286583</td>\n",
       "      <td>0.0</td>\n",
       "      <td>37</td>\n",
       "      <td>7</td>\n",
       "      <td>NaN</td>\n",
       "      <td>292359.0</td>\n",
       "      <td>git</td>\n",
       "      <td>version-control</td>\n",
       "      <td>git-pull</td>\n",
       "      <td>git-fetch</td>\n",
       "      <td>NaN</td>\n",
       "      <td>NaN</td>\n",
       "    </tr>\n",
       "    <tr>\n",
       "      <th>4</th>\n",
       "      <td>What is the \"--&gt;\" operator in C++?</td>\n",
       "      <td>&lt;p&gt;After reading &lt;a href=\"http://groups.google...</td>\n",
       "      <td>&lt;c++&gt;&lt;c&gt;&lt;operators&gt;&lt;code-formatting&gt;&lt;standards...</td>\n",
       "      <td>1642028</td>\n",
       "      <td>9903</td>\n",
       "      <td>949071</td>\n",
       "      <td>0.0</td>\n",
       "      <td>28</td>\n",
       "      <td>0</td>\n",
       "      <td>NaN</td>\n",
       "      <td>1642035.0</td>\n",
       "      <td>c++</td>\n",
       "      <td>c</td>\n",
       "      <td>operators</td>\n",
       "      <td>code-formatting</td>\n",
       "      <td>standards-compliance</td>\n",
       "      <td>NaN</td>\n",
       "    </tr>\n",
       "  </tbody>\n",
       "</table>\n",
       "</div>"
      ],
      "text/plain": [
       "                                               Title  \\\n",
       "0  Why is processing a sorted array faster than p...   \n",
       "1  How do I undo the most recent local commits in...   \n",
       "2  How do I delete a Git branch locally and remot...   \n",
       "3  What is the difference between 'git pull' and ...   \n",
       "4                 What is the \"-->\" operator in C++?   \n",
       "\n",
       "                                                Body  \\\n",
       "0  <p>Here is a piece of C++ code that shows some...   \n",
       "1  <p>I accidentally committed the wrong files to...   \n",
       "2  <h4>Failed Attempts to Delete a Remote Branch:...   \n",
       "3  <p>What are the differences between <a href=\"h...   \n",
       "4  <p>After reading <a href=\"http://groups.google...   \n",
       "\n",
       "                                                Tags        Id  Score  \\\n",
       "0  <java><c++><performance><cpu-architecture><bra...  11227809  26730   \n",
       "1           <git><version-control><git-commit><undo>    927358  25054   \n",
       "2  <git><version-control><git-branch><git-push><g...   2003505  19720   \n",
       "3        <git><version-control><git-pull><git-fetch>    292357  13439   \n",
       "4  <c++><c><operators><code-formatting><standards...   1642028   9903   \n",
       "\n",
       "   ViewCount  FavoriteCount  AnswerCount  CommentCount ClosedDate  \\\n",
       "0    1769357            0.0           27             9        NaN   \n",
       "1   11955812            2.0          100            12        NaN   \n",
       "2   10488243            0.0           41            10        NaN   \n",
       "3    3286583            0.0           37             7        NaN   \n",
       "4     949071            0.0           28             0        NaN   \n",
       "\n",
       "   AcceptedAnswerId     0                1            2                 3  \\\n",
       "0        11227902.0  java              c++  performance  cpu-architecture   \n",
       "1          927386.0   git  version-control   git-commit              undo   \n",
       "2         2003515.0   git  version-control   git-branch          git-push   \n",
       "3          292359.0   git  version-control     git-pull         git-fetch   \n",
       "4         1642035.0   c++                c    operators   code-formatting   \n",
       "\n",
       "                      4    5  \n",
       "0     branch-prediction  NaN  \n",
       "1                   NaN  NaN  \n",
       "2            git-remote  NaN  \n",
       "3                   NaN  NaN  \n",
       "4  standards-compliance  NaN  "
      ]
     },
     "execution_count": 16,
     "metadata": {},
     "output_type": "execute_result"
    }
   ],
   "source": [
    "df = df.join(tags.unstack()[0])\n",
    "df.head()"
   ]
  },
  {
   "cell_type": "code",
   "execution_count": 17,
   "id": "332c6bfd",
   "metadata": {
    "execution": {
     "iopub.execute_input": "2022-11-28T14:09:50.067953Z",
     "iopub.status.busy": "2022-11-28T14:09:50.067351Z",
     "iopub.status.idle": "2022-11-28T14:09:50.160605Z",
     "shell.execute_reply": "2022-11-28T14:09:50.159327Z"
    },
    "papermill": {
     "duration": 0.117381,
     "end_time": "2022-11-28T14:09:50.163064",
     "exception": false,
     "start_time": "2022-11-28T14:09:50.045683",
     "status": "completed"
    },
    "tags": []
   },
   "outputs": [
    {
     "name": "stdout",
     "output_type": "stream",
     "text": [
      "118438 sans 6éme tag sur 118442 (100.00%)\n",
      "42008 sans 6éme tag sur 118442 (35.47%)\n"
     ]
    }
   ],
   "source": [
    "print(\n",
    "    f\"{sum(df[5].isna())} sans 6éme tag sur {df.shape[0]} ({sum(df[5].isna())/df.shape[0]:.2%})\"\n",
    ")\n",
    "print(\n",
    "    f\"{sum(df[4].isna())} sans 6éme tag sur {df.shape[0]} ({sum(df[4].isna())/df.shape[0]:.2%})\"\n",
    ")"
   ]
  },
  {
   "cell_type": "code",
   "execution_count": 18,
   "id": "f17c9741",
   "metadata": {
    "execution": {
     "iopub.execute_input": "2022-11-28T14:09:50.204954Z",
     "iopub.status.busy": "2022-11-28T14:09:50.204188Z",
     "iopub.status.idle": "2022-11-28T14:09:50.306819Z",
     "shell.execute_reply": "2022-11-28T14:09:50.305851Z"
    },
    "papermill": {
     "duration": 0.126778,
     "end_time": "2022-11-28T14:09:50.309132",
     "exception": false,
     "start_time": "2022-11-28T14:09:50.182354",
     "status": "completed"
    },
    "tags": []
   },
   "outputs": [
    {
     "data": {
      "text/html": [
       "<div>\n",
       "<style scoped>\n",
       "    .dataframe tbody tr th:only-of-type {\n",
       "        vertical-align: middle;\n",
       "    }\n",
       "\n",
       "    .dataframe tbody tr th {\n",
       "        vertical-align: top;\n",
       "    }\n",
       "\n",
       "    .dataframe thead th {\n",
       "        text-align: right;\n",
       "    }\n",
       "</style>\n",
       "<table border=\"1\" class=\"dataframe\">\n",
       "  <thead>\n",
       "    <tr style=\"text-align: right;\">\n",
       "      <th></th>\n",
       "      <th>Title</th>\n",
       "      <th>Body</th>\n",
       "      <th>0</th>\n",
       "      <th>1</th>\n",
       "      <th>2</th>\n",
       "      <th>3</th>\n",
       "      <th>4</th>\n",
       "      <th>5</th>\n",
       "    </tr>\n",
       "  </thead>\n",
       "  <tbody>\n",
       "    <tr>\n",
       "      <th>94452</th>\n",
       "      <td>Show the latest commit value within a web appl...</td>\n",
       "      <td>&lt;p&gt;I have a few Rails applications and I use G...</td>\n",
       "      <td>ruby-on-rails</td>\n",
       "      <td>git</td>\n",
       "      <td>version-control</td>\n",
       "      <td>github</td>\n",
       "      <td>amazon-elastic-beanstalk</td>\n",
       "      <td>beanstalk-svn</td>\n",
       "    </tr>\n",
       "    <tr>\n",
       "      <th>95832</th>\n",
       "      <td>Remove genres android-UniversalMusicPlayer-master</td>\n",
       "      <td>&lt;p&gt;I am using \"android-UniversalMusicPlayer-ma...</td>\n",
       "      <td>android</td>\n",
       "      <td>android-studio</td>\n",
       "      <td>github</td>\n",
       "      <td>mobile-application</td>\n",
       "      <td>audio-player</td>\n",
       "      <td>android-music-player</td>\n",
       "    </tr>\n",
       "    <tr>\n",
       "      <th>104180</th>\n",
       "      <td>How To Add Media To MediaStore on Android 4.4 ...</td>\n",
       "      <td>&lt;p&gt;Background: In Android 4.4, Google decided ...</td>\n",
       "      <td>android</td>\n",
       "      <td>android-sdcard</td>\n",
       "      <td>android-4.4-kitkat</td>\n",
       "      <td>audio-player</td>\n",
       "      <td>android-mediascanner</td>\n",
       "      <td>android-music-player</td>\n",
       "    </tr>\n",
       "    <tr>\n",
       "      <th>108913</th>\n",
       "      <td>When handling a form POST in a Django views.py...</td>\n",
       "      <td>&lt;p&gt;I have a Django application that generates ...</td>\n",
       "      <td>python</td>\n",
       "      <td>django</td>\n",
       "      <td>csv</td>\n",
       "      <td>httpresponse</td>\n",
       "      <td>forms</td>\n",
       "      <td>http-post</td>\n",
       "    </tr>\n",
       "  </tbody>\n",
       "</table>\n",
       "</div>"
      ],
      "text/plain": [
       "                                                    Title  \\\n",
       "94452   Show the latest commit value within a web appl...   \n",
       "95832   Remove genres android-UniversalMusicPlayer-master   \n",
       "104180  How To Add Media To MediaStore on Android 4.4 ...   \n",
       "108913  When handling a form POST in a Django views.py...   \n",
       "\n",
       "                                                     Body              0  \\\n",
       "94452   <p>I have a few Rails applications and I use G...  ruby-on-rails   \n",
       "95832   <p>I am using \"android-UniversalMusicPlayer-ma...        android   \n",
       "104180  <p>Background: In Android 4.4, Google decided ...        android   \n",
       "108913  <p>I have a Django application that generates ...         python   \n",
       "\n",
       "                     1                   2                   3  \\\n",
       "94452              git     version-control              github   \n",
       "95832   android-studio              github  mobile-application   \n",
       "104180  android-sdcard  android-4.4-kitkat        audio-player   \n",
       "108913          django                 csv        httpresponse   \n",
       "\n",
       "                               4                     5  \n",
       "94452   amazon-elastic-beanstalk         beanstalk-svn  \n",
       "95832               audio-player  android-music-player  \n",
       "104180      android-mediascanner  android-music-player  \n",
       "108913                     forms             http-post  "
      ]
     },
     "execution_count": 18,
     "metadata": {},
     "output_type": "execute_result"
    }
   ],
   "source": [
    "df[~df[5].isna()][[\"Title\", \"Body\", 0, 1, 2, 3, 4, 5]]"
   ]
  },
  {
   "cell_type": "markdown",
   "id": "605a8681",
   "metadata": {
    "papermill": {
     "duration": 0.020318,
     "end_time": "2022-11-28T14:09:50.350394",
     "exception": false,
     "start_time": "2022-11-28T14:09:50.330076",
     "status": "completed"
    },
    "tags": []
   },
   "source": [
    "# Nettoyage du texte"
   ]
  },
  {
   "cell_type": "code",
   "execution_count": 19,
   "id": "42f841b7",
   "metadata": {
    "execution": {
     "iopub.execute_input": "2022-11-28T14:09:50.392807Z",
     "iopub.status.busy": "2022-11-28T14:09:50.391640Z",
     "iopub.status.idle": "2022-11-28T14:09:50.396987Z",
     "shell.execute_reply": "2022-11-28T14:09:50.396247Z"
    },
    "papermill": {
     "duration": 0.028885,
     "end_time": "2022-11-28T14:09:50.399327",
     "exception": false,
     "start_time": "2022-11-28T14:09:50.370442",
     "status": "completed"
    },
    "tags": []
   },
   "outputs": [],
   "source": [
    "# def remove_html(text):\n",
    "#     return re.sub(r\"<[^>]*>\", \"\", text)"
   ]
  },
  {
   "cell_type": "code",
   "execution_count": 20,
   "id": "1ee75a53",
   "metadata": {
    "execution": {
     "iopub.execute_input": "2022-11-28T14:09:50.440680Z",
     "iopub.status.busy": "2022-11-28T14:09:50.440256Z",
     "iopub.status.idle": "2022-11-28T14:09:50.445679Z",
     "shell.execute_reply": "2022-11-28T14:09:50.444560Z"
    },
    "papermill": {
     "duration": 0.029019,
     "end_time": "2022-11-28T14:09:50.447883",
     "exception": false,
     "start_time": "2022-11-28T14:09:50.418864",
     "status": "completed"
    },
    "tags": []
   },
   "outputs": [],
   "source": [
    "# remove_html(df[\"Body\"][0])"
   ]
  },
  {
   "cell_type": "code",
   "execution_count": 21,
   "id": "65a63b75",
   "metadata": {
    "execution": {
     "iopub.execute_input": "2022-11-28T14:09:50.489078Z",
     "iopub.status.busy": "2022-11-28T14:09:50.488665Z",
     "iopub.status.idle": "2022-11-28T14:09:50.494451Z",
     "shell.execute_reply": "2022-11-28T14:09:50.493336Z"
    },
    "papermill": {
     "duration": 0.029224,
     "end_time": "2022-11-28T14:09:50.496860",
     "exception": false,
     "start_time": "2022-11-28T14:09:50.467636",
     "status": "completed"
    },
    "tags": []
   },
   "outputs": [],
   "source": [
    "# df[\"Body\"].str.replace(r\"<[^>]*>\", \"\", regex=True)"
   ]
  },
  {
   "cell_type": "code",
   "execution_count": 22,
   "id": "5b54b366",
   "metadata": {
    "execution": {
     "iopub.execute_input": "2022-11-28T14:09:50.538024Z",
     "iopub.status.busy": "2022-11-28T14:09:50.537362Z",
     "iopub.status.idle": "2022-11-28T14:09:50.658199Z",
     "shell.execute_reply": "2022-11-28T14:09:50.657062Z"
    },
    "jupyter": {
     "source_hidden": true
    },
    "papermill": {
     "duration": 0.144621,
     "end_time": "2022-11-28T14:09:50.661018",
     "exception": false,
     "start_time": "2022-11-28T14:09:50.516397",
     "status": "completed"
    },
    "tags": []
   },
   "outputs": [],
   "source": [
    "def tokenizer_fct(sentence):\n",
    "    # print(sentence)\n",
    "    sentence_clean = (\n",
    "        sentence.replace(\"-\", \" \").replace(\"+\", \" \").replace(\"/\", \" \").replace(\"#\", \" \")\n",
    "    )\n",
    "    word_tokens = nltk.tokenize.word_tokenize(sentence_clean)\n",
    "    return word_tokens\n",
    "\n",
    "\n",
    "# Stop words\n",
    "stop_w = list(set(nltk.corpus.stopwords.words(\"english\"))) + [\n",
    "    \"[\",\n",
    "    \"]\",\n",
    "    \",\",\n",
    "    \".\",\n",
    "    \":\",\n",
    "    \"?\",\n",
    "    \"(\",\n",
    "    \")\",\n",
    "]\n",
    "\n",
    "\n",
    "def stop_word_filter_fct(list_words):\n",
    "    filtered_w = [w for w in list_words if not w in stop_w]\n",
    "    filtered_w2 = [w for w in filtered_w if len(w) > 2]\n",
    "    return filtered_w2\n",
    "\n",
    "\n",
    "# lower case et alpha\n",
    "def lower_start_fct(list_words):\n",
    "    lw = [\n",
    "        w.lower()\n",
    "        for w in list_words\n",
    "        if (not w.startswith(\"@\"))\n",
    "        #                                   and (not w.startswith(\"#\"))\n",
    "        and (not w.startswith(\"http\"))\n",
    "    ]\n",
    "    return lw\n",
    "\n",
    "\n",
    "# Lemmatizer (base d'un mot)\n",
    "def lemma_fct(list_words):\n",
    "    lemmatizer = nltk.stem.WordNetLemmatizer()\n",
    "    lem_w = [lemmatizer.lemmatize(w) for w in list_words]\n",
    "    return lem_w\n",
    "\n",
    "\n",
    "# Fonction de préparation du texte pour le bag of words (Countvectorizer et Tf_idf, Word2Vec)\n",
    "def transform_bow_fct(desc_text):\n",
    "    word_tokens = tokenizer_fct(desc_text)\n",
    "    sw = stop_word_filter_fct(word_tokens)\n",
    "    lw = lower_start_fct(sw)\n",
    "    # lem_w = lemma_fct(lw)\n",
    "    transf_desc_text = \" \".join(lw)\n",
    "    return transf_desc_text\n",
    "\n",
    "\n",
    "# Fonction de préparation du texte pour le bag of words avec lemmatization\n",
    "def transform_bow_lem_fct(desc_text):\n",
    "    word_tokens = tokenizer_fct(desc_text)\n",
    "    sw = stop_word_filter_fct(word_tokens)\n",
    "    lw = lower_start_fct(sw)\n",
    "    lem_w = lemma_fct(lw)\n",
    "    transf_desc_text = \" \".join(lem_w)\n",
    "    return transf_desc_text\n",
    "\n",
    "\n",
    "# Fonction de préparation du texte pour le Deep learning (USE et BERT)\n",
    "def transform_dl_fct(desc_text):\n",
    "    word_tokens = tokenizer_fct(desc_text)\n",
    "    #    sw = stop_word_filter_fct(word_tokens)\n",
    "    lw = lower_start_fct(word_tokens)\n",
    "    # lem_w = lemma_fct(lw)\n",
    "    transf_desc_text = \" \".join(lw)\n",
    "    return transf_desc_text"
   ]
  },
  {
   "cell_type": "code",
   "execution_count": 23,
   "id": "61efcb31",
   "metadata": {
    "execution": {
     "iopub.execute_input": "2022-11-28T14:09:50.702908Z",
     "iopub.status.busy": "2022-11-28T14:09:50.702052Z",
     "iopub.status.idle": "2022-11-28T14:09:50.708574Z",
     "shell.execute_reply": "2022-11-28T14:09:50.707720Z"
    },
    "papermill": {
     "duration": 0.030821,
     "end_time": "2022-11-28T14:09:50.710956",
     "exception": false,
     "start_time": "2022-11-28T14:09:50.680135",
     "status": "completed"
    },
    "tags": []
   },
   "outputs": [],
   "source": [
    "# df[\"Title_bow\"] = df[\"Title\"].apply(lambda x: transform_bow_fct(x))\n",
    "# df[\"Title_bow_lem\"] = df[\"Title\"].apply(lambda x: transform_bow_lem_fct(x))\n",
    "# df[\"Title_dl\"] = df[\"Title\"].apply(lambda x: transform_dl_fct(x))\n",
    "# df[[\"Title\", \"Title_bow\", \"Title_bow_lem\", \"Title_dl\"]]"
   ]
  },
  {
   "cell_type": "code",
   "execution_count": 24,
   "id": "2fd8ff63",
   "metadata": {
    "execution": {
     "iopub.execute_input": "2022-11-28T14:09:50.752434Z",
     "iopub.status.busy": "2022-11-28T14:09:50.751763Z",
     "iopub.status.idle": "2022-11-28T14:09:50.757902Z",
     "shell.execute_reply": "2022-11-28T14:09:50.757053Z"
    },
    "papermill": {
     "duration": 0.029183,
     "end_time": "2022-11-28T14:09:50.760140",
     "exception": false,
     "start_time": "2022-11-28T14:09:50.730957",
     "status": "completed"
    },
    "tags": []
   },
   "outputs": [],
   "source": [
    "# df[\"Body_bow\"] = df[\"Body\"].apply(lambda x: transform_bow_fct(x))\n",
    "# df[\"Body_bow_lem\"] = df[\"Body\"].apply(lambda x: transform_bow_lem_fct(x))\n",
    "# df[\"Body_dl\"] = df[\"Body\"].apply(lambda x: transform_dl_fct(x))\n",
    "# df[[\"Body\", \"Body_bow\", \"Body_bow_lem\", \"Body_dl\"]].head()"
   ]
  },
  {
   "cell_type": "code",
   "execution_count": 25,
   "id": "edcce99b",
   "metadata": {
    "execution": {
     "iopub.execute_input": "2022-11-28T14:09:50.800489Z",
     "iopub.status.busy": "2022-11-28T14:09:50.800069Z",
     "iopub.status.idle": "2022-11-28T14:09:50.806001Z",
     "shell.execute_reply": "2022-11-28T14:09:50.805243Z"
    },
    "papermill": {
     "duration": 0.028709,
     "end_time": "2022-11-28T14:09:50.808159",
     "exception": false,
     "start_time": "2022-11-28T14:09:50.779450",
     "status": "completed"
    },
    "tags": []
   },
   "outputs": [],
   "source": [
    "# df[\"Code\"] = df[\"Body\"].str.replace(r\".*<code[^>]*>(.*)</code>.*\", \"{$1}\", regex=True)\n",
    "# df[\"Code\"][4]"
   ]
  },
  {
   "cell_type": "code",
   "execution_count": 26,
   "id": "9d678816",
   "metadata": {
    "execution": {
     "iopub.execute_input": "2022-11-28T14:09:50.849488Z",
     "iopub.status.busy": "2022-11-28T14:09:50.849058Z",
     "iopub.status.idle": "2022-11-28T14:09:50.854813Z",
     "shell.execute_reply": "2022-11-28T14:09:50.853833Z"
    },
    "papermill": {
     "duration": 0.029802,
     "end_time": "2022-11-28T14:09:50.857079",
     "exception": false,
     "start_time": "2022-11-28T14:09:50.827277",
     "status": "completed"
    },
    "tags": []
   },
   "outputs": [],
   "source": [
    "# df[\"Body\"][5].replace(\"\\n\", \"\")"
   ]
  },
  {
   "cell_type": "code",
   "execution_count": 27,
   "id": "33caa41c",
   "metadata": {
    "execution": {
     "iopub.execute_input": "2022-11-28T14:09:50.898557Z",
     "iopub.status.busy": "2022-11-28T14:09:50.898108Z",
     "iopub.status.idle": "2022-11-28T14:09:50.904451Z",
     "shell.execute_reply": "2022-11-28T14:09:50.903305Z"
    },
    "papermill": {
     "duration": 0.029609,
     "end_time": "2022-11-28T14:09:50.906982",
     "exception": false,
     "start_time": "2022-11-28T14:09:50.877373",
     "status": "completed"
    },
    "tags": []
   },
   "outputs": [],
   "source": [
    "# group = re.findall(\n",
    "#     r\"<code>(((?!</code).)*)</code>\", df[\"Body\"][5].replace(\"\\n\", \"\"), re.MULTILINE\n",
    "# )\n",
    "# group"
   ]
  },
  {
   "cell_type": "code",
   "execution_count": 28,
   "id": "32c104ae",
   "metadata": {
    "execution": {
     "iopub.execute_input": "2022-11-28T14:09:50.946939Z",
     "iopub.status.busy": "2022-11-28T14:09:50.946501Z",
     "iopub.status.idle": "2022-11-28T14:09:50.952095Z",
     "shell.execute_reply": "2022-11-28T14:09:50.951299Z"
    },
    "papermill": {
     "duration": 0.028579,
     "end_time": "2022-11-28T14:09:50.954665",
     "exception": false,
     "start_time": "2022-11-28T14:09:50.926086",
     "status": "completed"
    },
    "tags": []
   },
   "outputs": [],
   "source": [
    "# group[1]"
   ]
  },
  {
   "cell_type": "code",
   "execution_count": 29,
   "id": "9242f995",
   "metadata": {
    "execution": {
     "iopub.execute_input": "2022-11-28T14:09:50.995897Z",
     "iopub.status.busy": "2022-11-28T14:09:50.995205Z",
     "iopub.status.idle": "2022-11-28T14:09:51.001661Z",
     "shell.execute_reply": "2022-11-28T14:09:51.000519Z"
    },
    "papermill": {
     "duration": 0.029475,
     "end_time": "2022-11-28T14:09:51.004093",
     "exception": false,
     "start_time": "2022-11-28T14:09:50.974618",
     "status": "completed"
    },
    "tags": []
   },
   "outputs": [],
   "source": [
    "# df[\"Body_nohtml\"] = df[\"Body\"].str.replace(\n",
    "#     r\"<[^>]*>\", \"\", regex=True\n",
    "# )  # df[\"Body\"].apply(lambda x: remove_html(x))\n",
    "# df[\"Body_nohtml_bow\"] = df[\"Body_nohtml\"].apply(lambda x: transform_bow_fct(x))"
   ]
  },
  {
   "cell_type": "code",
   "execution_count": 30,
   "id": "c7e427b1",
   "metadata": {
    "execution": {
     "iopub.execute_input": "2022-11-28T14:09:51.045288Z",
     "iopub.status.busy": "2022-11-28T14:09:51.044317Z",
     "iopub.status.idle": "2022-11-28T14:09:51.077246Z",
     "shell.execute_reply": "2022-11-28T14:09:51.075925Z"
    },
    "papermill": {
     "duration": 0.056727,
     "end_time": "2022-11-28T14:09:51.080178",
     "exception": false,
     "start_time": "2022-11-28T14:09:51.023451",
     "status": "completed"
    },
    "tags": []
   },
   "outputs": [],
   "source": [
    "def words_cloud(data, stopwords=[]):\n",
    "    plt.figure(figsize=(20, 15))\n",
    "    wordcloud = WordCloud(\n",
    "        background_color=\"white\", stopwords=stopwords, max_words=50\n",
    "    ).generate(data.to_string(header=False, index=False))\n",
    "    plt.imshow(wordcloud)\n",
    "    plt.axis(\"off\")\n",
    "    plt.show()\n",
    "\n",
    "\n",
    "# words_cloud(df[\"Body_nohtml_bow\"])"
   ]
  },
  {
   "cell_type": "code",
   "execution_count": 31,
   "id": "21d5f673",
   "metadata": {
    "execution": {
     "iopub.execute_input": "2022-11-28T14:09:51.120683Z",
     "iopub.status.busy": "2022-11-28T14:09:51.120256Z",
     "iopub.status.idle": "2022-11-28T14:10:00.491446Z",
     "shell.execute_reply": "2022-11-28T14:10:00.490326Z"
    },
    "papermill": {
     "duration": 9.400565,
     "end_time": "2022-11-28T14:10:00.500179",
     "exception": false,
     "start_time": "2022-11-28T14:09:51.099614",
     "status": "completed"
    },
    "tags": []
   },
   "outputs": [
    {
     "data": {
      "image/png": "[encoded data removed]",
      "text/plain": [
       "<Figure size 1440x1080 with 1 Axes>"
      ]
     },
     "metadata": {
      "needs_background": "light"
     },
     "output_type": "display_data"
    }
   ],
   "source": [
    "words_cloud(df[[0, 1, 2, 3, 4, 5]], stopwords=[\"Nan\"])"
   ]
  },
  {
   "cell_type": "code",
   "execution_count": 32,
   "id": "ad8fe535",
   "metadata": {
    "execution": {
     "iopub.execute_input": "2022-11-28T14:10:00.554368Z",
     "iopub.status.busy": "2022-11-28T14:10:00.553439Z",
     "iopub.status.idle": "2022-11-28T14:10:00.562347Z",
     "shell.execute_reply": "2022-11-28T14:10:00.561128Z"
    },
    "jupyter": {
     "source_hidden": true
    },
    "papermill": {
     "duration": 0.03833,
     "end_time": "2022-11-28T14:10:00.564584",
     "exception": false,
     "start_time": "2022-11-28T14:10:00.526254",
     "status": "completed"
    },
    "tags": []
   },
   "outputs": [],
   "source": [
    "# words_cloud(\n",
    "#     df[\"Body_nohtml\"],\n",
    "#     stopwords=[\n",
    "#         \"I\",\n",
    "#         \"i\",\n",
    "#         \"and\",\n",
    "#         \"am\",\n",
    "#         \"have\",\n",
    "#         \"I'm\",\n",
    "#         \"i'm\",\n",
    "#         \"in\",\n",
    "#         \"for\",\n",
    "#         \"a\",\n",
    "#         \"we\",\n",
    "#         \"to\",\n",
    "#         \"is\",\n",
    "#         \"of\",\n",
    "#         \"the\",\n",
    "#         \"but\",\n",
    "#     ],\n",
    "# )"
   ]
  },
  {
   "cell_type": "code",
   "execution_count": 33,
   "id": "7cf62dbe",
   "metadata": {
    "execution": {
     "iopub.execute_input": "2022-11-28T14:10:00.618756Z",
     "iopub.status.busy": "2022-11-28T14:10:00.617869Z",
     "iopub.status.idle": "2022-11-28T14:10:00.631742Z",
     "shell.execute_reply": "2022-11-28T14:10:00.630404Z"
    },
    "jupyter": {
     "source_hidden": true
    },
    "papermill": {
     "duration": 0.044015,
     "end_time": "2022-11-28T14:10:00.634484",
     "exception": false,
     "start_time": "2022-11-28T14:10:00.590469",
     "status": "completed"
    },
    "tags": []
   },
   "outputs": [],
   "source": [
    "# # stopwords = [\n",
    "#     \"I\",\n",
    "#     \"i\",\n",
    "#     \"and\",\n",
    "#     \"am\",\n",
    "#     \"have\",\n",
    "#     \"I'm\",\n",
    "#     \"i'm\",\n",
    "#     \"in\",\n",
    "#     \"for\",\n",
    "#     \"a\",\n",
    "#     \"we\",\n",
    "#     \"to\",\n",
    "#     \"is\",\n",
    "#     \"of\",\n",
    "#     \"the\",\n",
    "#     \"but\",\n",
    "#     \"trying\",\n",
    "#     \"want\",\n",
    "#     \"need\",\n",
    "#     \"with\",\n",
    "#     \"use\",\n",
    "#     \"using\",\n",
    "#     \"on\",\n",
    "#     \"an\",\n",
    "#     \"thi\",\n",
    "#     \"this\",\n",
    "#     \"that\",\n",
    "#     \"So\",\n",
    "#     \"one\",\n",
    "#     \"my\",\n",
    "#     \"when\",\n",
    "#     \"it\",\n",
    "#     \"here\",\n",
    "#     \"all\",\n",
    "#     \"way\",\n",
    "#     \"s\",\n",
    "#     \"as\",\n",
    "#     \"n\",\n",
    "#     \"t\",\n",
    "#     \"do\",\n",
    "#     \"w\",\n",
    "#     \"m\",\n",
    "#     \"f\",\n",
    "#     \"get\",\n",
    "#     \"there\",\n",
    "# ]\n",
    "# words_cloud(\n",
    "#     df[\"Body_nohtml\"],\n",
    "#     stopwords=stopwords,\n",
    "# )"
   ]
  },
  {
   "cell_type": "code",
   "execution_count": 34,
   "id": "0487aa0e",
   "metadata": {
    "execution": {
     "iopub.execute_input": "2022-11-28T14:10:00.689335Z",
     "iopub.status.busy": "2022-11-28T14:10:00.688920Z",
     "iopub.status.idle": "2022-11-28T14:10:00.783844Z",
     "shell.execute_reply": "2022-11-28T14:10:00.782617Z"
    },
    "papermill": {
     "duration": 0.126084,
     "end_time": "2022-11-28T14:10:00.786620",
     "exception": false,
     "start_time": "2022-11-28T14:10:00.660536",
     "status": "completed"
    },
    "tags": []
   },
   "outputs": [
    {
     "data": {
      "text/plain": [
       "0         False\n",
       "1         False\n",
       "2         False\n",
       "3         False\n",
       "4         False\n",
       "          ...  \n",
       "118437    False\n",
       "118438    False\n",
       "118439     True\n",
       "118440    False\n",
       "118441    False\n",
       "Length: 118442, dtype: bool"
      ]
     },
     "execution_count": 34,
     "metadata": {},
     "output_type": "execute_result"
    }
   ],
   "source": [
    "def tag_is_in(df: pd.DataFrame(), tag: str, nb_cols: int = 6):\n",
    "    return eval(\"|\".join(f'(df[{i}] == \"{tag}\")' for i in range(0, nb_cols)))\n",
    "\n",
    "\n",
    "tag_is_in(df, \"javascript\")"
   ]
  },
  {
   "cell_type": "code",
   "execution_count": 35,
   "id": "11e1eac5",
   "metadata": {
    "execution": {
     "iopub.execute_input": "2022-11-28T14:10:00.839837Z",
     "iopub.status.busy": "2022-11-28T14:10:00.839396Z",
     "iopub.status.idle": "2022-11-28T14:10:01.009140Z",
     "shell.execute_reply": "2022-11-28T14:10:01.007845Z"
    },
    "papermill": {
     "duration": 0.199417,
     "end_time": "2022-11-28T14:10:01.011933",
     "exception": false,
     "start_time": "2022-11-28T14:10:00.812516",
     "status": "completed"
    },
    "tags": []
   },
   "outputs": [
    {
     "name": "stdout",
     "output_type": "stream",
     "text": [
      "13807 js (11.66%)\n"
     ]
    }
   ],
   "source": [
    "print(\n",
    "    f'{sum(tag_is_in(df, \"javascript\"))} js ({(sum(tag_is_in(df, \"javascript\"))/ len(df)):.2%})'\n",
    ")"
   ]
  },
  {
   "cell_type": "code",
   "execution_count": 36,
   "id": "73bcde60",
   "metadata": {
    "execution": {
     "iopub.execute_input": "2022-11-28T14:10:01.066939Z",
     "iopub.status.busy": "2022-11-28T14:10:01.066515Z",
     "iopub.status.idle": "2022-11-28T14:10:01.072943Z",
     "shell.execute_reply": "2022-11-28T14:10:01.071791Z"
    },
    "jupyter": {
     "source_hidden": true
    },
    "papermill": {
     "duration": 0.036874,
     "end_time": "2022-11-28T14:10:01.075190",
     "exception": false,
     "start_time": "2022-11-28T14:10:01.038316",
     "status": "completed"
    },
    "tags": []
   },
   "outputs": [],
   "source": [
    "# words_cloud(\n",
    "#     df.loc[tag_is_in(df, \"javascript\"), \"Body_nohtml\"],\n",
    "#     stopwords=stopwords,\n",
    "# )"
   ]
  },
  {
   "cell_type": "code",
   "execution_count": 37,
   "id": "ebda628e",
   "metadata": {
    "execution": {
     "iopub.execute_input": "2022-11-28T14:10:01.128445Z",
     "iopub.status.busy": "2022-11-28T14:10:01.128006Z",
     "iopub.status.idle": "2022-11-28T14:10:01.134401Z",
     "shell.execute_reply": "2022-11-28T14:10:01.133261Z"
    },
    "jupyter": {
     "source_hidden": true
    },
    "papermill": {
     "duration": 0.035873,
     "end_time": "2022-11-28T14:10:01.136672",
     "exception": false,
     "start_time": "2022-11-28T14:10:01.100799",
     "status": "completed"
    },
    "tags": []
   },
   "outputs": [],
   "source": [
    "# words_cloud(\n",
    "#     df.loc[tag_is_in(df, \"javascript\"), \"Body_nohtml_bow\"],\n",
    "#     stopwords=stopwords,\n",
    "# )"
   ]
  },
  {
   "cell_type": "code",
   "execution_count": 38,
   "id": "df520083",
   "metadata": {
    "execution": {
     "iopub.execute_input": "2022-11-28T14:10:01.190634Z",
     "iopub.status.busy": "2022-11-28T14:10:01.190193Z",
     "iopub.status.idle": "2022-11-28T14:10:01.196849Z",
     "shell.execute_reply": "2022-11-28T14:10:01.195532Z"
    },
    "jupyter": {
     "source_hidden": true
    },
    "papermill": {
     "duration": 0.036634,
     "end_time": "2022-11-28T14:10:01.199307",
     "exception": false,
     "start_time": "2022-11-28T14:10:01.162673",
     "status": "completed"
    },
    "tags": []
   },
   "outputs": [],
   "source": [
    "# words_cloud(\n",
    "#     df.loc[tag_is_in(df, \"python\"), \"Body_nohtml\"],\n",
    "#     stopwords=stopwords,\n",
    "# )"
   ]
  },
  {
   "cell_type": "code",
   "execution_count": 39,
   "id": "a44052b9",
   "metadata": {
    "execution": {
     "iopub.execute_input": "2022-11-28T14:10:01.252402Z",
     "iopub.status.busy": "2022-11-28T14:10:01.252010Z",
     "iopub.status.idle": "2022-11-28T14:10:01.257307Z",
     "shell.execute_reply": "2022-11-28T14:10:01.256506Z"
    },
    "jupyter": {
     "source_hidden": true
    },
    "papermill": {
     "duration": 0.034057,
     "end_time": "2022-11-28T14:10:01.259322",
     "exception": false,
     "start_time": "2022-11-28T14:10:01.225265",
     "status": "completed"
    },
    "tags": []
   },
   "outputs": [],
   "source": [
    "# words_cloud(\n",
    "#     df.loc[tag_is_in(df, \"java\"), \"Body_nohtml\"],\n",
    "#     stopwords=stopwords,\n",
    "# )"
   ]
  },
  {
   "cell_type": "code",
   "execution_count": 40,
   "id": "462d3a15",
   "metadata": {
    "execution": {
     "iopub.execute_input": "2022-11-28T14:10:01.313545Z",
     "iopub.status.busy": "2022-11-28T14:10:01.312882Z",
     "iopub.status.idle": "2022-11-28T14:10:01.318018Z",
     "shell.execute_reply": "2022-11-28T14:10:01.317290Z"
    },
    "jupyter": {
     "source_hidden": true
    },
    "papermill": {
     "duration": 0.035013,
     "end_time": "2022-11-28T14:10:01.320293",
     "exception": false,
     "start_time": "2022-11-28T14:10:01.285280",
     "status": "completed"
    },
    "tags": []
   },
   "outputs": [],
   "source": [
    "# words_cloud(\n",
    "#     df.loc[tag_is_in(df, \"c#\"), \"Body_nohtml\"],\n",
    "#     stopwords=stopwords,\n",
    "# )"
   ]
  },
  {
   "cell_type": "code",
   "execution_count": 41,
   "id": "2ee27eca",
   "metadata": {
    "execution": {
     "iopub.execute_input": "2022-11-28T14:10:01.374335Z",
     "iopub.status.busy": "2022-11-28T14:10:01.373701Z",
     "iopub.status.idle": "2022-11-28T14:10:01.379803Z",
     "shell.execute_reply": "2022-11-28T14:10:01.378849Z"
    },
    "jupyter": {
     "source_hidden": true
    },
    "papermill": {
     "duration": 0.035972,
     "end_time": "2022-11-28T14:10:01.381911",
     "exception": false,
     "start_time": "2022-11-28T14:10:01.345939",
     "status": "completed"
    },
    "tags": []
   },
   "outputs": [],
   "source": [
    "# words_cloud(\n",
    "#     df.loc[tag_is_in(df, \"c#\"), \"Body_nohtml_bow\"],\n",
    "#     stopwords=stopwords,\n",
    "# )"
   ]
  },
  {
   "cell_type": "markdown",
   "id": "a227b47a",
   "metadata": {
    "papermill": {
     "duration": 0.025595,
     "end_time": "2022-11-28T14:10:01.433810",
     "exception": false,
     "start_time": "2022-11-28T14:10:01.408215",
     "status": "completed"
    },
    "tags": []
   },
   "source": [
    "# Count vectorizer"
   ]
  },
  {
   "cell_type": "code",
   "execution_count": 42,
   "id": "b271c0ce",
   "metadata": {
    "execution": {
     "iopub.execute_input": "2022-11-28T14:10:01.488035Z",
     "iopub.status.busy": "2022-11-28T14:10:01.487317Z",
     "iopub.status.idle": "2022-11-28T14:10:01.493563Z",
     "shell.execute_reply": "2022-11-28T14:10:01.492497Z"
    },
    "papermill": {
     "duration": 0.0356,
     "end_time": "2022-11-28T14:10:01.496000",
     "exception": false,
     "start_time": "2022-11-28T14:10:01.460400",
     "status": "completed"
    },
    "tags": []
   },
   "outputs": [],
   "source": [
    "# count_vectorizer = feature_extraction.text.CountVectorizer(min_df=0.01,max_df=0.9, max_features=None)\n",
    "# train_vectors_test = count_vectorizer.fit_transform(df[\"Title_bow\"][0:10])\n",
    "# print(train_vectors_test[0].todense().shape)\n",
    "# print(train_vectors_test[0].todense())"
   ]
  },
  {
   "cell_type": "code",
   "execution_count": 43,
   "id": "1a7a3260",
   "metadata": {
    "execution": {
     "iopub.execute_input": "2022-11-28T14:10:01.549639Z",
     "iopub.status.busy": "2022-11-28T14:10:01.549256Z",
     "iopub.status.idle": "2022-11-28T14:10:01.554719Z",
     "shell.execute_reply": "2022-11-28T14:10:01.553534Z"
    },
    "papermill": {
     "duration": 0.034682,
     "end_time": "2022-11-28T14:10:01.556872",
     "exception": false,
     "start_time": "2022-11-28T14:10:01.522190",
     "status": "completed"
    },
    "tags": []
   },
   "outputs": [],
   "source": [
    "# train_vectors = count_vectorizer.fit_transform(df[\"Title_bow\"])\n",
    "# train_vectors.shape"
   ]
  },
  {
   "cell_type": "code",
   "execution_count": 44,
   "id": "2d791b91",
   "metadata": {
    "execution": {
     "iopub.execute_input": "2022-11-28T14:10:01.610937Z",
     "iopub.status.busy": "2022-11-28T14:10:01.610024Z",
     "iopub.status.idle": "2022-11-28T14:10:01.616085Z",
     "shell.execute_reply": "2022-11-28T14:10:01.615094Z"
    },
    "jupyter": {
     "source_hidden": true
    },
    "papermill": {
     "duration": 0.035839,
     "end_time": "2022-11-28T14:10:01.618624",
     "exception": false,
     "start_time": "2022-11-28T14:10:01.582785",
     "status": "completed"
    },
    "tags": []
   },
   "outputs": [],
   "source": [
    "# train_vectors[1].todense()"
   ]
  },
  {
   "cell_type": "code",
   "execution_count": 45,
   "id": "bb349127",
   "metadata": {
    "execution": {
     "iopub.execute_input": "2022-11-28T14:10:01.673646Z",
     "iopub.status.busy": "2022-11-28T14:10:01.673103Z",
     "iopub.status.idle": "2022-11-28T14:10:01.679811Z",
     "shell.execute_reply": "2022-11-28T14:10:01.678552Z"
    },
    "jupyter": {
     "source_hidden": true
    },
    "papermill": {
     "duration": 0.037002,
     "end_time": "2022-11-28T14:10:01.682110",
     "exception": false,
     "start_time": "2022-11-28T14:10:01.645108",
     "status": "completed"
    },
    "tags": []
   },
   "outputs": [],
   "source": [
    "# clf = linear_model.RidgeClassifier()"
   ]
  },
  {
   "cell_type": "code",
   "execution_count": 46,
   "id": "bfc13f9e",
   "metadata": {
    "execution": {
     "iopub.execute_input": "2022-11-28T14:10:01.736713Z",
     "iopub.status.busy": "2022-11-28T14:10:01.736319Z",
     "iopub.status.idle": "2022-11-28T14:10:01.743451Z",
     "shell.execute_reply": "2022-11-28T14:10:01.742334Z"
    },
    "jupyter": {
     "source_hidden": true
    },
    "papermill": {
     "duration": 0.036875,
     "end_time": "2022-11-28T14:10:01.745689",
     "exception": false,
     "start_time": "2022-11-28T14:10:01.708814",
     "status": "completed"
    },
    "tags": []
   },
   "outputs": [],
   "source": [
    "# clustering = cluster.KMeans(n_clusters=5).fit(train_vectors)\n",
    "# df[\"Kmeans5\"] = clustering.labels_\n",
    "# print(df[\"Kmeans5\"].value_counts())\n",
    "# df[\"Kmeans5\"].value_counts(normalize=True).plot.pie(\n",
    "#     figsize=(10, 10),\n",
    "#     autopct=\"%.1f%%\",\n",
    "#     legend=False,\n",
    "#     title=f\"Répartition des clusters\",\n",
    "# )\n",
    "# plt.show()\n",
    "# df[df[\"Kmeans5\"] == 3][[\"Title\", \"Title_bow\", 0, 1, 2, 3, 4, \"Body_nohtml_bow\"]]"
   ]
  },
  {
   "cell_type": "code",
   "execution_count": 47,
   "id": "310f1ba9",
   "metadata": {
    "execution": {
     "iopub.execute_input": "2022-11-28T14:10:01.799646Z",
     "iopub.status.busy": "2022-11-28T14:10:01.799227Z",
     "iopub.status.idle": "2022-11-28T14:10:13.436810Z",
     "shell.execute_reply": "2022-11-28T14:10:13.435820Z"
    },
    "papermill": {
     "duration": 11.667332,
     "end_time": "2022-11-28T14:10:13.439360",
     "exception": false,
     "start_time": "2022-11-28T14:10:01.772028",
     "status": "completed"
    },
    "tags": []
   },
   "outputs": [],
   "source": [
    "import spacy\n",
    "from bs4 import BeautifulSoup\n",
    "\n",
    "nlp = spacy.load(\"en_core_web_sm\")"
   ]
  },
  {
   "cell_type": "code",
   "execution_count": 48,
   "id": "02e59b20",
   "metadata": {
    "execution": {
     "iopub.execute_input": "2022-11-28T14:10:13.495683Z",
     "iopub.status.busy": "2022-11-28T14:10:13.494679Z",
     "iopub.status.idle": "2022-11-28T14:10:13.568719Z",
     "shell.execute_reply": "2022-11-28T14:10:13.567043Z"
    },
    "papermill": {
     "duration": 0.106465,
     "end_time": "2022-11-28T14:10:13.572310",
     "exception": false,
     "start_time": "2022-11-28T14:10:13.465845",
     "status": "completed"
    },
    "tags": []
   },
   "outputs": [
    {
     "name": "stdout",
     "output_type": "stream",
     "text": [
      "Token \t\tLemma \t\tStopword\t\tPartOfSpeech\n",
      "------------------------------------------------------------\n",
      "How\t\thow\t\tTrue \t\t ('SCONJ',)\n",
      "do\t\tdo\t\tTrue \t\t ('AUX',)\n",
      "I\t\tI\t\tTrue \t\t ('PRON',)\n",
      "undo\t\tundo\t\tFalse \t\t ('VERB',)\n",
      "the\t\tthe\t\tTrue \t\t ('DET',)\n",
      "most\t\tmost\t\tTrue \t\t ('ADV',)\n",
      "recent\t\trecent\t\tFalse \t\t ('ADJ',)\n",
      "local\t\tlocal\t\tFalse \t\t ('ADJ',)\n",
      "commits\t\tcommit\t\tFalse \t\t ('NOUN',)\n",
      "in\t\tin\t\tTrue \t\t ('ADP',)\n",
      "Git\t\tGit\t\tFalse \t\t ('PROPN',)\n",
      "?\t\t?\t\tFalse \t\t ('PUNCT',)\n"
     ]
    }
   ],
   "source": [
    "doc = nlp(df[\"Title\"][5000])\n",
    "# doc = nlp(df[\"Body_nohtml\"][5])\n",
    "def nlp_print(phrase: str):\n",
    "    doc = nlp(phrase)\n",
    "    print(\n",
    "        f\"Token \\t\\tLemma \\t\\tStopword\\t\\tPartOfSpeech\".format(\n",
    "            \"Token\", \"Lemma\", \"Stopword\", \"PartOfSpeech\"\n",
    "        )\n",
    "    )\n",
    "    print(\"-\" * 60)\n",
    "    for token in doc:\n",
    "        print(\n",
    "            f\"{token.text}\\t\\t{token.lemma_}\\t\\t{token.is_stop} \\t\\t {token.pos_,}\"\n",
    "        )  # token.shape_, token.is_alpha, token.tag_,\n",
    "    return doc\n",
    "\n",
    "\n",
    "doc = nlp_print(df[\"Title\"][1])"
   ]
  },
  {
   "cell_type": "code",
   "execution_count": 49,
   "id": "08ffad7e",
   "metadata": {
    "execution": {
     "iopub.execute_input": "2022-11-28T14:10:13.628924Z",
     "iopub.status.busy": "2022-11-28T14:10:13.628529Z",
     "iopub.status.idle": "2022-11-28T14:10:13.653118Z",
     "shell.execute_reply": "2022-11-28T14:10:13.651695Z"
    },
    "papermill": {
     "duration": 0.05618,
     "end_time": "2022-11-28T14:10:13.656525",
     "exception": false,
     "start_time": "2022-11-28T14:10:13.600345",
     "status": "completed"
    },
    "tags": []
   },
   "outputs": [
    {
     "name": "stdout",
     "output_type": "stream",
     "text": [
      "Token \t\tLemma \t\tStopword\t\tPartOfSpeech\n",
      "------------------------------------------------------------\n",
      "How\t\thow\t\tTrue \t\t ('SCONJ',)\n",
      "do\t\tdo\t\tTrue \t\t ('AUX',)\n",
      "JavaScript\t\tJavaScript\t\tFalse \t\t ('PROPN',)\n",
      "closures\t\tclosure\t\tFalse \t\t ('NOUN',)\n",
      "work\t\twork\t\tFalse \t\t ('VERB',)\n",
      "?\t\t?\t\tFalse \t\t ('PUNCT',)\n"
     ]
    },
    {
     "data": {
      "text/plain": [
       "How do JavaScript closures work?"
      ]
     },
     "execution_count": 49,
     "metadata": {},
     "output_type": "execute_result"
    }
   ],
   "source": [
    "nlp_print(df[\"Title\"][11])"
   ]
  },
  {
   "cell_type": "code",
   "execution_count": 50,
   "id": "5119c91e",
   "metadata": {
    "execution": {
     "iopub.execute_input": "2022-11-28T14:10:13.712850Z",
     "iopub.status.busy": "2022-11-28T14:10:13.712429Z",
     "iopub.status.idle": "2022-11-28T14:10:13.736219Z",
     "shell.execute_reply": "2022-11-28T14:10:13.734764Z"
    },
    "papermill": {
     "duration": 0.055661,
     "end_time": "2022-11-28T14:10:13.738977",
     "exception": false,
     "start_time": "2022-11-28T14:10:13.683316",
     "status": "completed"
    },
    "tags": []
   },
   "outputs": [
    {
     "name": "stdout",
     "output_type": "stream",
     "text": [
      "Token \t\tLemma \t\tStopword\t\tPartOfSpeech\n",
      "------------------------------------------------------------\n",
      "What\t\twhat\t\tTrue \t\t ('PRON',)\n",
      "does\t\tdo\t\tTrue \t\t ('AUX',)\n",
      "if\t\tif\t\tTrue \t\t ('SCONJ',)\n",
      "_\t\t_\t\tFalse \t\t ('PRON',)\n",
      "_\t\t_\t\tFalse \t\t ('NOUN',)\n",
      "name\t\tname\t\tTrue \t\t ('NOUN',)\n",
      "_\t\t_\t\tFalse \t\t ('NOUN',)\n",
      "_\t\t_\t\tFalse \t\t ('NOUN',)\n",
      "=\t\t=\t\tFalse \t\t ('NOUN',)\n",
      "=\t\t=\t\tFalse \t\t ('SYM',)\n",
      "\"\t\t\"\t\tFalse \t\t ('PUNCT',)\n",
      "_\t\t_\t\tFalse \t\t ('ADJ',)\n",
      "_\t\t_\t\tFalse \t\t ('ADJ',)\n",
      "main\t\tmain\t\tFalse \t\t ('ADJ',)\n",
      "_\t\t_\t\tFalse \t\t ('NOUN',)\n",
      "_\t\t_\t\tFalse \t\t ('NOUN',)\n",
      "\"\t\t\"\t\tFalse \t\t ('PUNCT',)\n",
      ":\t\t:\t\tFalse \t\t ('PUNCT',)\n",
      "do\t\tdo\t\tTrue \t\t ('VERB',)\n",
      "?\t\t?\t\tFalse \t\t ('PUNCT',)\n"
     ]
    },
    {
     "data": {
      "text/plain": [
       "What does if __name__ == \"__main__\": do?"
      ]
     },
     "execution_count": 50,
     "metadata": {},
     "output_type": "execute_result"
    }
   ],
   "source": [
    "nlp_print(df[\"Title\"][9])"
   ]
  },
  {
   "cell_type": "code",
   "execution_count": 51,
   "id": "643595a5",
   "metadata": {
    "execution": {
     "iopub.execute_input": "2022-11-28T14:10:13.794325Z",
     "iopub.status.busy": "2022-11-28T14:10:13.793094Z",
     "iopub.status.idle": "2022-11-28T14:10:13.799575Z",
     "shell.execute_reply": "2022-11-28T14:10:13.798320Z"
    },
    "papermill": {
     "duration": 0.036707,
     "end_time": "2022-11-28T14:10:13.802059",
     "exception": false,
     "start_time": "2022-11-28T14:10:13.765352",
     "status": "completed"
    },
    "tags": []
   },
   "outputs": [],
   "source": [
    "# nlp_print(df[\"Body\"][9])"
   ]
  },
  {
   "cell_type": "code",
   "execution_count": 52,
   "id": "4ee34bc1",
   "metadata": {
    "execution": {
     "iopub.execute_input": "2022-11-28T14:10:13.858822Z",
     "iopub.status.busy": "2022-11-28T14:10:13.858403Z",
     "iopub.status.idle": "2022-11-28T14:10:13.959903Z",
     "shell.execute_reply": "2022-11-28T14:10:13.958609Z"
    },
    "papermill": {
     "duration": 0.133678,
     "end_time": "2022-11-28T14:10:13.962557",
     "exception": false,
     "start_time": "2022-11-28T14:10:13.828879",
     "status": "completed"
    },
    "tags": []
   },
   "outputs": [
    {
     "data": {
      "text/html": [
       "<div>\n",
       "<style scoped>\n",
       "    .dataframe tbody tr th:only-of-type {\n",
       "        vertical-align: middle;\n",
       "    }\n",
       "\n",
       "    .dataframe tbody tr th {\n",
       "        vertical-align: top;\n",
       "    }\n",
       "\n",
       "    .dataframe thead th {\n",
       "        text-align: right;\n",
       "    }\n",
       "</style>\n",
       "<table border=\"1\" class=\"dataframe\">\n",
       "  <thead>\n",
       "    <tr style=\"text-align: right;\">\n",
       "      <th></th>\n",
       "      <th>Id</th>\n",
       "      <th>Title</th>\n",
       "      <th>Body</th>\n",
       "      <th>0</th>\n",
       "      <th>1</th>\n",
       "      <th>2</th>\n",
       "      <th>3</th>\n",
       "      <th>4</th>\n",
       "      <th>5</th>\n",
       "    </tr>\n",
       "  </thead>\n",
       "  <tbody>\n",
       "    <tr>\n",
       "      <th>0</th>\n",
       "      <td>11227809</td>\n",
       "      <td>Why is processing a sorted array faster than p...</td>\n",
       "      <td>&lt;p&gt;Here is a piece of C++ code that shows some...</td>\n",
       "      <td>java</td>\n",
       "      <td>c++</td>\n",
       "      <td>performance</td>\n",
       "      <td>cpu-architecture</td>\n",
       "      <td>branch-prediction</td>\n",
       "      <td>NaN</td>\n",
       "    </tr>\n",
       "    <tr>\n",
       "      <th>1</th>\n",
       "      <td>927358</td>\n",
       "      <td>How do I undo the most recent local commits in...</td>\n",
       "      <td>&lt;p&gt;I accidentally committed the wrong files to...</td>\n",
       "      <td>git</td>\n",
       "      <td>version-control</td>\n",
       "      <td>git-commit</td>\n",
       "      <td>undo</td>\n",
       "      <td>NaN</td>\n",
       "      <td>NaN</td>\n",
       "    </tr>\n",
       "    <tr>\n",
       "      <th>2</th>\n",
       "      <td>2003505</td>\n",
       "      <td>How do I delete a Git branch locally and remot...</td>\n",
       "      <td>&lt;h4&gt;Failed Attempts to Delete a Remote Branch:...</td>\n",
       "      <td>git</td>\n",
       "      <td>version-control</td>\n",
       "      <td>git-branch</td>\n",
       "      <td>git-push</td>\n",
       "      <td>git-remote</td>\n",
       "      <td>NaN</td>\n",
       "    </tr>\n",
       "    <tr>\n",
       "      <th>3</th>\n",
       "      <td>292357</td>\n",
       "      <td>What is the difference between 'git pull' and ...</td>\n",
       "      <td>&lt;p&gt;What are the differences between &lt;a href=\"h...</td>\n",
       "      <td>git</td>\n",
       "      <td>version-control</td>\n",
       "      <td>git-pull</td>\n",
       "      <td>git-fetch</td>\n",
       "      <td>NaN</td>\n",
       "      <td>NaN</td>\n",
       "    </tr>\n",
       "    <tr>\n",
       "      <th>4</th>\n",
       "      <td>1642028</td>\n",
       "      <td>What is the \"--&gt;\" operator in C++?</td>\n",
       "      <td>&lt;p&gt;After reading &lt;a href=\"http://groups.google...</td>\n",
       "      <td>c++</td>\n",
       "      <td>c</td>\n",
       "      <td>operators</td>\n",
       "      <td>code-formatting</td>\n",
       "      <td>standards-compliance</td>\n",
       "      <td>NaN</td>\n",
       "    </tr>\n",
       "    <tr>\n",
       "      <th>...</th>\n",
       "      <td>...</td>\n",
       "      <td>...</td>\n",
       "      <td>...</td>\n",
       "      <td>...</td>\n",
       "      <td>...</td>\n",
       "      <td>...</td>\n",
       "      <td>...</td>\n",
       "      <td>...</td>\n",
       "      <td>...</td>\n",
       "    </tr>\n",
       "    <tr>\n",
       "      <th>118437</th>\n",
       "      <td>19076229</td>\n",
       "      <td>NSString boundingRectWithSize cutting height s...</td>\n",
       "      <td>&lt;p&gt;I have a custom UIView which is drawing an ...</td>\n",
       "      <td>iphone</td>\n",
       "      <td>ios</td>\n",
       "      <td>objective-c</td>\n",
       "      <td>nsstring</td>\n",
       "      <td>core-text</td>\n",
       "      <td>NaN</td>\n",
       "    </tr>\n",
       "    <tr>\n",
       "      <th>118438</th>\n",
       "      <td>19076240</td>\n",
       "      <td>MvxBind:Error - View type not found - fragment</td>\n",
       "      <td>&lt;p&gt;I'm trying to add map as a part of my activ...</td>\n",
       "      <td>google-maps</td>\n",
       "      <td>android-fragments</td>\n",
       "      <td>xamarin.android</td>\n",
       "      <td>google-maps-android-api-2</td>\n",
       "      <td>android-2.2-froyo</td>\n",
       "      <td>NaN</td>\n",
       "    </tr>\n",
       "    <tr>\n",
       "      <th>118439</th>\n",
       "      <td>19076261</td>\n",
       "      <td>Markers not showing in ie 8</td>\n",
       "      <td>&lt;p&gt;I have created a Google Maps application wh...</td>\n",
       "      <td>javascript</td>\n",
       "      <td>google-maps</td>\n",
       "      <td>google-maps-api-3</td>\n",
       "      <td>internet-explorer-8</td>\n",
       "      <td>google-maps-markers</td>\n",
       "      <td>NaN</td>\n",
       "    </tr>\n",
       "    <tr>\n",
       "      <th>118440</th>\n",
       "      <td>19076270</td>\n",
       "      <td>JAVAMAIL : AUTH NTLM failed</td>\n",
       "      <td>&lt;p&gt;i try to send email with java in local netw...</td>\n",
       "      <td>java</td>\n",
       "      <td>email</td>\n",
       "      <td>exchange-server</td>\n",
       "      <td>jakarta-mail</td>\n",
       "      <td>ntlm</td>\n",
       "      <td>NaN</td>\n",
       "    </tr>\n",
       "    <tr>\n",
       "      <th>118441</th>\n",
       "      <td>19076312</td>\n",
       "      <td>Understanding disposable objects</td>\n",
       "      <td>&lt;p&gt;I've looked in SO about a question like thi...</td>\n",
       "      <td>c#</td>\n",
       "      <td>.net</td>\n",
       "      <td>garbage-collection</td>\n",
       "      <td>dispose</td>\n",
       "      <td>idisposable</td>\n",
       "      <td>NaN</td>\n",
       "    </tr>\n",
       "  </tbody>\n",
       "</table>\n",
       "<p>118442 rows × 9 columns</p>\n",
       "</div>"
      ],
      "text/plain": [
       "              Id                                              Title  \\\n",
       "0       11227809  Why is processing a sorted array faster than p...   \n",
       "1         927358  How do I undo the most recent local commits in...   \n",
       "2        2003505  How do I delete a Git branch locally and remot...   \n",
       "3         292357  What is the difference between 'git pull' and ...   \n",
       "4        1642028                 What is the \"-->\" operator in C++?   \n",
       "...          ...                                                ...   \n",
       "118437  19076229  NSString boundingRectWithSize cutting height s...   \n",
       "118438  19076240     MvxBind:Error - View type not found - fragment   \n",
       "118439  19076261                        Markers not showing in ie 8   \n",
       "118440  19076270                        JAVAMAIL : AUTH NTLM failed   \n",
       "118441  19076312                   Understanding disposable objects   \n",
       "\n",
       "                                                     Body            0  \\\n",
       "0       <p>Here is a piece of C++ code that shows some...         java   \n",
       "1       <p>I accidentally committed the wrong files to...          git   \n",
       "2       <h4>Failed Attempts to Delete a Remote Branch:...          git   \n",
       "3       <p>What are the differences between <a href=\"h...          git   \n",
       "4       <p>After reading <a href=\"http://groups.google...          c++   \n",
       "...                                                   ...          ...   \n",
       "118437  <p>I have a custom UIView which is drawing an ...       iphone   \n",
       "118438  <p>I'm trying to add map as a part of my activ...  google-maps   \n",
       "118439  <p>I have created a Google Maps application wh...   javascript   \n",
       "118440  <p>i try to send email with java in local netw...         java   \n",
       "118441  <p>I've looked in SO about a question like thi...           c#   \n",
       "\n",
       "                        1                   2                          3  \\\n",
       "0                     c++         performance           cpu-architecture   \n",
       "1         version-control          git-commit                       undo   \n",
       "2         version-control          git-branch                   git-push   \n",
       "3         version-control            git-pull                  git-fetch   \n",
       "4                       c           operators            code-formatting   \n",
       "...                   ...                 ...                        ...   \n",
       "118437                ios         objective-c                   nsstring   \n",
       "118438  android-fragments     xamarin.android  google-maps-android-api-2   \n",
       "118439        google-maps   google-maps-api-3        internet-explorer-8   \n",
       "118440              email     exchange-server               jakarta-mail   \n",
       "118441               .net  garbage-collection                    dispose   \n",
       "\n",
       "                           4    5  \n",
       "0          branch-prediction  NaN  \n",
       "1                        NaN  NaN  \n",
       "2                 git-remote  NaN  \n",
       "3                        NaN  NaN  \n",
       "4       standards-compliance  NaN  \n",
       "...                      ...  ...  \n",
       "118437             core-text  NaN  \n",
       "118438     android-2.2-froyo  NaN  \n",
       "118439   google-maps-markers  NaN  \n",
       "118440                  ntlm  NaN  \n",
       "118441           idisposable  NaN  \n",
       "\n",
       "[118442 rows x 9 columns]"
      ]
     },
     "execution_count": 52,
     "metadata": {},
     "output_type": "execute_result"
    }
   ],
   "source": [
    "df = df[[\"Id\", \"Title\", \"Body\", 0, 1, 2, 3, 4, 5]].copy()\n",
    "df"
   ]
  },
  {
   "cell_type": "code",
   "execution_count": 53,
   "id": "0c16edbf",
   "metadata": {
    "execution": {
     "iopub.execute_input": "2022-11-28T14:10:14.018731Z",
     "iopub.status.busy": "2022-11-28T14:10:14.018314Z",
     "iopub.status.idle": "2022-11-28T14:10:14.052971Z",
     "shell.execute_reply": "2022-11-28T14:10:14.051682Z"
    },
    "papermill": {
     "duration": 0.066213,
     "end_time": "2022-11-28T14:10:14.055872",
     "exception": false,
     "start_time": "2022-11-28T14:10:13.989659",
     "status": "completed"
    },
    "tags": []
   },
   "outputs": [],
   "source": [
    "import progressbar\n",
    "import time"
   ]
  },
  {
   "cell_type": "code",
   "execution_count": 54,
   "id": "aeb1bed7",
   "metadata": {
    "execution": {
     "iopub.execute_input": "2022-11-28T14:10:14.112373Z",
     "iopub.status.busy": "2022-11-28T14:10:14.111938Z",
     "iopub.status.idle": "2022-11-28T17:37:03.354379Z",
     "shell.execute_reply": "2022-11-28T17:37:03.353299Z"
    },
    "papermill": {
     "duration": 12409.309397,
     "end_time": "2022-11-28T17:37:03.393021",
     "exception": false,
     "start_time": "2022-11-28T14:10:14.083624",
     "status": "completed"
    },
    "tags": []
   },
   "outputs": [
    {
     "name": "stderr",
     "output_type": "stream",
     "text": [
      "[=====================================================================] 100% 0s\n"
     ]
    },
    {
     "name": "stdout",
     "output_type": "stream",
     "text": [
      "CPU times: user 3h 26min 30s, sys: 4.26 s, total: 3h 26min 34s\n",
      "Wall time: 3h 26min 49s\n"
     ]
    },
    {
     "data": {
      "text/html": [
       "<div>\n",
       "<style scoped>\n",
       "    .dataframe tbody tr th:only-of-type {\n",
       "        vertical-align: middle;\n",
       "    }\n",
       "\n",
       "    .dataframe tbody tr th {\n",
       "        vertical-align: top;\n",
       "    }\n",
       "\n",
       "    .dataframe thead th {\n",
       "        text-align: right;\n",
       "    }\n",
       "</style>\n",
       "<table border=\"1\" class=\"dataframe\">\n",
       "  <thead>\n",
       "    <tr style=\"text-align: right;\">\n",
       "      <th></th>\n",
       "      <th>Title</th>\n",
       "      <th>Title_clean</th>\n",
       "      <th>Code</th>\n",
       "      <th>Body_clean</th>\n",
       "    </tr>\n",
       "  </thead>\n",
       "  <tbody>\n",
       "    <tr>\n",
       "      <th>0</th>\n",
       "      <td>Why is processing a sorted array faster than p...</td>\n",
       "      <td>process array process array</td>\n",
       "      <td>#include &lt;algorithm&gt;\\n#include &lt;ctime&gt;\\n#inclu...</td>\n",
       "      <td>piece c++ code show behavior reason sort datum...</td>\n",
       "    </tr>\n",
       "    <tr>\n",
       "      <th>1</th>\n",
       "      <td>How do I undo the most recent local commits in...</td>\n",
       "      <td>undo commit git</td>\n",
       "      <td></td>\n",
       "      <td>commit file git push commit server undo commit...</td>\n",
       "    </tr>\n",
       "    <tr>\n",
       "      <th>2</th>\n",
       "      <td>How do I delete a Git branch locally and remot...</td>\n",
       "      <td>delete git branch</td>\n",
       "      <td>$ git branch -d remotes/origin/bugfix\\nerror: ...</td>\n",
       "      <td>delete remote origin bugfix branch</td>\n",
       "    </tr>\n",
       "    <tr>\n",
       "      <th>3</th>\n",
       "      <td>What is the difference between 'git pull' and ...</td>\n",
       "      <td>difference git pull git fetch</td>\n",
       "      <td>git pull git fetch</td>\n",
       "      <td>difference git pull git fetch</td>\n",
       "    </tr>\n",
       "    <tr>\n",
       "      <th>4</th>\n",
       "      <td>What is the \"--&gt;\" operator in C++?</td>\n",
       "      <td>operator c++</td>\n",
       "      <td>comp.lang.c++.moderated #include &lt;stdio.h&gt;\\nin...</td>\n",
       "      <td>read hidden features dark corners c++/stl comp...</td>\n",
       "    </tr>\n",
       "  </tbody>\n",
       "</table>\n",
       "</div>"
      ],
      "text/plain": [
       "                                               Title  \\\n",
       "0  Why is processing a sorted array faster than p...   \n",
       "1  How do I undo the most recent local commits in...   \n",
       "2  How do I delete a Git branch locally and remot...   \n",
       "3  What is the difference between 'git pull' and ...   \n",
       "4                 What is the \"-->\" operator in C++?   \n",
       "\n",
       "                     Title_clean  \\\n",
       "0    process array process array   \n",
       "1                undo commit git   \n",
       "2              delete git branch   \n",
       "3  difference git pull git fetch   \n",
       "4                   operator c++   \n",
       "\n",
       "                                                Code  \\\n",
       "0  #include <algorithm>\\n#include <ctime>\\n#inclu...   \n",
       "1                                                      \n",
       "2  $ git branch -d remotes/origin/bugfix\\nerror: ...   \n",
       "3                                 git pull git fetch   \n",
       "4  comp.lang.c++.moderated #include <stdio.h>\\nin...   \n",
       "\n",
       "                                          Body_clean  \n",
       "0  piece c++ code show behavior reason sort datum...  \n",
       "1  commit file git push commit server undo commit...  \n",
       "2                 delete remote origin bugfix branch  \n",
       "3                      difference git pull git fetch  \n",
       "4  read hidden features dark corners c++/stl comp...  "
      ]
     },
     "execution_count": 54,
     "metadata": {},
     "output_type": "execute_result"
    }
   ],
   "source": [
    "%%time\n",
    "df[\"Title_clean\"] = \"\"\n",
    "df[\"Code\"] = \"\"\n",
    "df[\"Body_clean\"] = \"\"\n",
    "start = time.time()\n",
    "\n",
    "\n",
    "def time_e():\n",
    "    return f\"{time.time()-start:_.0f}s\"\n",
    "\n",
    "\n",
    "bar = progressbar.ProgressBar(\n",
    "    maxval=len(df),\n",
    "    widgets=[\n",
    "        progressbar.Bar(\"=\", \"[\", \"]\"),\n",
    "        \" \",\n",
    "        progressbar.Percentage(),\n",
    "        \" \",\n",
    "        time_e(),\n",
    "    ],\n",
    ")\n",
    "bar.start()\n",
    "for index, row in df.iterrows():\n",
    "    bar.update(index)\n",
    "    #     print(index, row[\"Title\"])\n",
    "    title = nlp(row[\"Title\"])\n",
    "    row[\"Title_clean\"] = \" \".join(\n",
    "        [\n",
    "            token.lemma_\n",
    "            for token in title\n",
    "            if token.pos_ in [\"VERB\", \"NOUN\", \"PROPN\", \"ADP\"] and not token.is_stop\n",
    "        ]\n",
    "    ).lower()\n",
    "    # print(row[\"Title_clean\"])\n",
    "    soup = BeautifulSoup(row[\"Body\"])\n",
    "    row[\"Code\"] = \" \".join([code.get_text() for code in soup.find_all(\"code\")])\n",
    "    row[\"Body_clean\"] = \" \".join(\n",
    "        [\n",
    "            token.lemma_\n",
    "            for token in nlp(\" \".join([p.get_text() for p in soup.find_all(\"p\")]))\n",
    "            if token.pos_ in [\"VERB\", \"NOUN\", \"PROPN\", \"ADP\"] and not token.is_stop\n",
    "        ]\n",
    "    ).lower()\n",
    "    df.iloc[index] = row\n",
    "bar.finish()\n",
    "df[0:5][[\"Title\", \"Title_clean\", \"Code\", \"Body_clean\"]]"
   ]
  },
  {
   "cell_type": "code",
   "execution_count": 55,
   "id": "9427c55c",
   "metadata": {
    "execution": {
     "iopub.execute_input": "2022-11-28T17:37:03.462974Z",
     "iopub.status.busy": "2022-11-28T17:37:03.462599Z",
     "iopub.status.idle": "2022-11-28T17:37:10.768059Z",
     "shell.execute_reply": "2022-11-28T17:37:10.767072Z"
    },
    "papermill": {
     "duration": 7.34323,
     "end_time": "2022-11-28T17:37:10.770790",
     "exception": false,
     "start_time": "2022-11-28T17:37:03.427560",
     "status": "completed"
    },
    "tags": []
   },
   "outputs": [],
   "source": [
    "df.to_csv(\"/kaggle/working/stackoverflowCleaned.csv\")"
   ]
  },
  {
   "cell_type": "code",
   "execution_count": 56,
   "id": "ba337ae1",
   "metadata": {
    "execution": {
     "iopub.execute_input": "2022-11-28T17:37:10.837089Z",
     "iopub.status.busy": "2022-11-28T17:37:10.836314Z",
     "iopub.status.idle": "2022-11-28T17:37:10.849717Z",
     "shell.execute_reply": "2022-11-28T17:37:10.848940Z"
    },
    "papermill": {
     "duration": 0.049262,
     "end_time": "2022-11-28T17:37:10.852073",
     "exception": false,
     "start_time": "2022-11-28T17:37:10.802811",
     "status": "completed"
    },
    "tags": []
   },
   "outputs": [],
   "source": [
    "count_vectorizer = feature_extraction.text.CountVectorizer(min_df=0.005,max_df=0.95, max_features=None)"
   ]
  },
  {
   "cell_type": "code",
   "execution_count": 57,
   "id": "d76394f2",
   "metadata": {
    "execution": {
     "iopub.execute_input": "2022-11-28T17:37:10.919084Z",
     "iopub.status.busy": "2022-11-28T17:37:10.918436Z",
     "iopub.status.idle": "2022-11-28T17:37:16.393209Z",
     "shell.execute_reply": "2022-11-28T17:37:16.391984Z"
    },
    "papermill": {
     "duration": 5.511522,
     "end_time": "2022-11-28T17:37:16.395652",
     "exception": false,
     "start_time": "2022-11-28T17:37:10.884130",
     "status": "completed"
    },
    "tags": []
   },
   "outputs": [
    {
     "name": "stdout",
     "output_type": "stream",
     "text": [
      "tokens unique:\n",
      "192 dans title\n",
      "876 dans body\n"
     ]
    }
   ],
   "source": [
    "title_vectors = count_vectorizer.fit_transform(df[\"Title_clean\"])\n",
    "body_vectors = count_vectorizer.fit_transform(df[\"Body_clean\"])\n",
    "print(\n",
    "    f\"tokens unique:\\n{title_vectors.shape[1]} dans title\\n{body_vectors.shape[1]} dans body\"\n",
    ")"
   ]
  },
  {
   "cell_type": "markdown",
   "id": "6d58af2c",
   "metadata": {
    "papermill": {
     "duration": 0.031787,
     "end_time": "2022-11-28T17:37:16.460070",
     "exception": false,
     "start_time": "2022-11-28T17:37:16.428283",
     "status": "completed"
    },
    "tags": []
   },
   "source": []
  },
  {
   "cell_type": "code",
   "execution_count": 58,
   "id": "72c2cf66",
   "metadata": {
    "execution": {
     "iopub.execute_input": "2022-11-28T17:37:16.527064Z",
     "iopub.status.busy": "2022-11-28T17:37:16.526667Z",
     "iopub.status.idle": "2022-11-28T17:37:16.534384Z",
     "shell.execute_reply": "2022-11-28T17:37:16.533207Z"
    },
    "papermill": {
     "duration": 0.043671,
     "end_time": "2022-11-28T17:37:16.536699",
     "exception": false,
     "start_time": "2022-11-28T17:37:16.493028",
     "status": "completed"
    },
    "tags": []
   },
   "outputs": [],
   "source": [
    "# %%time\n",
    "# clustering = cluster.KMeans(n_clusters=5).fit(np.asarray(title_vectors.todense()))\n",
    "# df[\"KMeans_title_5\"] = clustering.labels_\n",
    "# print(df[\"KMeans_title_5\"].value_counts())\n",
    "# df[\"KMeans_title_5\"].value_counts(normalize=True).plot.pie(\n",
    "#     figsize=(10, 10),\n",
    "#     autopct=\"%.1f%%\",\n",
    "#     legend=False,\n",
    "#     title=f\"Répartition des clusters\",\n",
    "# )\n",
    "# plt.show()"
   ]
  },
  {
   "cell_type": "code",
   "execution_count": 59,
   "id": "f45c20cc",
   "metadata": {
    "execution": {
     "iopub.execute_input": "2022-11-28T17:37:16.603602Z",
     "iopub.status.busy": "2022-11-28T17:37:16.603197Z",
     "iopub.status.idle": "2022-11-28T17:37:16.608782Z",
     "shell.execute_reply": "2022-11-28T17:37:16.607628Z"
    },
    "papermill": {
     "duration": 0.042042,
     "end_time": "2022-11-28T17:37:16.610808",
     "exception": false,
     "start_time": "2022-11-28T17:37:16.568766",
     "status": "completed"
    },
    "tags": []
   },
   "outputs": [],
   "source": [
    "# df[df[\"KMeans_title_5\"] == 2][[\"Title\", \"Title_clean\", 0, 1, 2, 3, 4, \"Body_clean\"]]"
   ]
  },
  {
   "cell_type": "code",
   "execution_count": 60,
   "id": "d20dff71",
   "metadata": {
    "execution": {
     "iopub.execute_input": "2022-11-28T17:37:16.678446Z",
     "iopub.status.busy": "2022-11-28T17:37:16.677798Z",
     "iopub.status.idle": "2022-11-28T17:37:16.683225Z",
     "shell.execute_reply": "2022-11-28T17:37:16.682429Z"
    },
    "papermill": {
     "duration": 0.042457,
     "end_time": "2022-11-28T17:37:16.685255",
     "exception": false,
     "start_time": "2022-11-28T17:37:16.642798",
     "status": "completed"
    },
    "tags": []
   },
   "outputs": [],
   "source": [
    "# df[df[\"KMeans_title_5\"] == 2][0].value_counts()"
   ]
  },
  {
   "cell_type": "code",
   "execution_count": 61,
   "id": "aa0c1c3c",
   "metadata": {
    "execution": {
     "iopub.execute_input": "2022-11-28T17:37:16.752891Z",
     "iopub.status.busy": "2022-11-28T17:37:16.752161Z",
     "iopub.status.idle": "2022-11-28T17:37:16.758674Z",
     "shell.execute_reply": "2022-11-28T17:37:16.757671Z"
    },
    "papermill": {
     "duration": 0.043156,
     "end_time": "2022-11-28T17:37:16.760887",
     "exception": false,
     "start_time": "2022-11-28T17:37:16.717731",
     "status": "completed"
    },
    "tags": []
   },
   "outputs": [],
   "source": [
    "# %%time\n",
    "# clustering = cluster.KMeans(n_clusters=5).fit(np.asarray(body_vectors.todense()))\n",
    "# df[\"KMeans_body_5\"] = clustering.labels_\n",
    "# print(df[\"KMeans_body_5\"].value_counts())\n",
    "# df[\"KMeans_body_5\"].value_counts(normalize=True).plot.pie(\n",
    "#     figsize=(10, 10),\n",
    "#     autopct=\"%.1f%%\",\n",
    "#     legend=False,\n",
    "#     title=f\"Répartition des clusters\",\n",
    "# )\n",
    "# plt.show()"
   ]
  },
  {
   "cell_type": "code",
   "execution_count": 62,
   "id": "0bdc156d",
   "metadata": {
    "execution": {
     "iopub.execute_input": "2022-11-28T17:37:16.827581Z",
     "iopub.status.busy": "2022-11-28T17:37:16.826855Z",
     "iopub.status.idle": "2022-11-28T17:37:16.879466Z",
     "shell.execute_reply": "2022-11-28T17:37:16.878419Z"
    },
    "papermill": {
     "duration": 0.088418,
     "end_time": "2022-11-28T17:37:16.881700",
     "exception": false,
     "start_time": "2022-11-28T17:37:16.793282",
     "status": "completed"
    },
    "tags": []
   },
   "outputs": [
    {
     "data": {
      "application/vnd.jupyter.widget-view+json": {
       "model_id": "1f536ec8591b4339a61fb7d4c722cd50",
       "version_major": 2,
       "version_minor": 0
      },
      "text/plain": [
       "interactive(children=(IntSlider(value=59220, description='i', max=118441), Output()), _dom_classes=('widget-in…"
      ]
     },
     "metadata": {},
     "output_type": "display_data"
    }
   ],
   "source": [
    "from ipywidgets import interact\n",
    "\n",
    "\n",
    "@interact(i=(0, df.shape[0] - 1))\n",
    "def test_tr_print(i):\n",
    "    print(\n",
    "        f'{df[\"Title\"][i]}\\n{\"*\"*30}\\n{df[\"Title_clean\"][i]}\\n{\"*\"*30}\\n{df[\"Body\"][i]}\\n{\"*\"*30}\\n{df[\"Body_clean\"][i]}\\n{\"*\"*30}\\n{df[\"Code\"][i]}\\n{\"*\"*30}\\n{df.loc[i,0]} {df.loc[i,1]} {df.loc[i,2]} {df.loc[i,3]} {df.loc[i,4]}'\n",
    "    )"
   ]
  },
  {
   "cell_type": "code",
   "execution_count": 63,
   "id": "e670581b",
   "metadata": {
    "execution": {
     "iopub.execute_input": "2022-11-28T17:37:16.950653Z",
     "iopub.status.busy": "2022-11-28T17:37:16.950260Z",
     "iopub.status.idle": "2022-11-28T17:37:16.957931Z",
     "shell.execute_reply": "2022-11-28T17:37:16.957077Z"
    },
    "papermill": {
     "duration": 0.045085,
     "end_time": "2022-11-28T17:37:16.960310",
     "exception": false,
     "start_time": "2022-11-28T17:37:16.915225",
     "status": "completed"
    },
    "tags": []
   },
   "outputs": [
    {
     "name": "stdout",
     "output_type": "stream",
     "text": [
      "How do I delete a Git branch locally and remotely?\n",
      "******************************\n",
      "delete git branch\n",
      "******************************\n",
      "<h4>Failed Attempts to Delete a Remote Branch:</h4>\n",
      "<pre class=\"lang-bash prettyprint-override\"><code>$ git branch -d remotes/origin/bugfix\n",
      "error: branch 'remotes/origin/bugfix' not found.\n",
      "\n",
      "$ git branch -d origin/bugfix\n",
      "error: branch 'origin/bugfix' not found.\n",
      "\n",
      "$ git branch -rd origin/bugfix\n",
      "Deleted remote branch origin/bugfix (was 2a14ef7).\n",
      "\n",
      "$ git push\n",
      "Everything up-to-date\n",
      "\n",
      "$ git pull\n",
      "From github.com:gituser/gitproject\n",
      "\n",
      "* [new branch] bugfix -&gt; origin/bugfix\n",
      "Already up-to-date.\n",
      "</code></pre>\n",
      "<p>How do I properly delete the <code>remotes/origin/bugfix</code> branch both locally and remotely?</p>\n",
      "\n",
      "******************************\n",
      "delete remote origin bugfix branch\n",
      "******************************\n",
      "$ git branch -d remotes/origin/bugfix\n",
      "error: branch 'remotes/origin/bugfix' not found.\n",
      "\n",
      "$ git branch -d origin/bugfix\n",
      "error: branch 'origin/bugfix' not found.\n",
      "\n",
      "$ git branch -rd origin/bugfix\n",
      "Deleted remote branch origin/bugfix (was 2a14ef7).\n",
      "\n",
      "$ git push\n",
      "Everything up-to-date\n",
      "\n",
      "$ git pull\n",
      "From github.com:gituser/gitproject\n",
      "\n",
      "* [new branch] bugfix -> origin/bugfix\n",
      "Already up-to-date.\n",
      " remotes/origin/bugfix\n",
      "******************************\n",
      "git version-control git-branch git-push git-remote\n"
     ]
    }
   ],
   "source": [
    "test_tr_print(2)"
   ]
  }
 ],
 "metadata": {
  "kernelspec": {
   "display_name": "Python 3",
   "language": "python",
   "name": "python3"
  },
  "language_info": {
   "codemirror_mode": {
    "name": "ipython",
    "version": 3
   },
   "file_extension": ".py",
   "mimetype": "text/x-python",
   "name": "python",
   "nbconvert_exporter": "python",
   "pygments_lexer": "ipython3",
   "version": "3.7.12"
  },
  "papermill": {
   "default_parameters": {},
   "duration": 12488.080063,
   "end_time": "2022-11-28T17:37:19.735437",
   "environment_variables": {},
   "exception": null,
   "input_path": "__notebook__.ipynb",
   "output_path": "__notebook__.ipynb",
   "parameters": {},
   "start_time": "2022-11-28T14:09:11.655374",
   "version": "2.3.4"
  },
  "widgets": {
   "application/vnd.jupyter.widget-state+json": {
    "state": {
     "1e1aebfd7a2b467cba49451fef497462": {
      "model_module": "@jupyter-widgets/base",
      "model_module_version": "1.2.0",
      "model_name": "LayoutModel",
      "state": {
       "_model_module": "@jupyter-widgets/base",
       "_model_module_version": "1.2.0",
       "_model_name": "LayoutModel",
       "_view_count": null,
       "_view_module": "@jupyter-widgets/base",
       "_view_module_version": "1.2.0",
       "_view_name": "LayoutView",
       "align_content": null,
       "align_items": null,
       "align_self": null,
       "border": null,
       "bottom": null,
       "display": null,
       "flex": null,
       "flex_flow": null,
       "grid_area": null,
       "grid_auto_columns": null,
       "grid_auto_flow": null,
       "grid_auto_rows": null,
       "grid_column": null,
       "grid_gap": null,
       "grid_row": null,
       "grid_template_areas": null,
       "grid_template_columns": null,
       "grid_template_rows": null,
       "height": null,
       "justify_content": null,
       "justify_items": null,
       "left": null,
       "margin": null,
       "max_height": null,
       "max_width": null,
       "min_height": null,
       "min_width": null,
       "object_fit": null,
       "object_position": null,
       "order": null,
       "overflow": null,
       "overflow_x": null,
       "overflow_y": null,
       "padding": null,
       "right": null,
       "top": null,
       "visibility": null,
       "width": null
      }
     },
     "1f536ec8591b4339a61fb7d4c722cd50": {
      "model_module": "@jupyter-widgets/controls",
      "model_module_version": "1.5.0",
      "model_name": "VBoxModel",
      "state": {
       "_dom_classes": [
        "widget-interact"
       ],
       "_model_module": "@jupyter-widgets/controls",
       "_model_module_version": "1.5.0",
       "_model_name": "VBoxModel",
       "_view_count": null,
       "_view_module": "@jupyter-widgets/controls",
       "_view_module_version": "1.5.0",
       "_view_name": "VBoxView",
       "box_style": "",
       "children": [
        "IPY_MODEL_c0c592012af4423b91964016680096e6",
        "IPY_MODEL_e44f19f818d84786b2fc82635025b4e7"
       ],
       "layout": "IPY_MODEL_bc749765706147dfbb835daaf0b1a6f9"
      }
     },
     "595a6674314f4c38b4e53eb0bfc43d22": {
      "model_module": "@jupyter-widgets/controls",
      "model_module_version": "1.5.0",
      "model_name": "SliderStyleModel",
      "state": {
       "_model_module": "@jupyter-widgets/controls",
       "_model_module_version": "1.5.0",
       "_model_name": "SliderStyleModel",
       "_view_count": null,
       "_view_module": "@jupyter-widgets/base",
       "_view_module_version": "1.2.0",
       "_view_name": "StyleView",
       "description_width": "",
       "handle_color": null
      }
     },
     "bc749765706147dfbb835daaf0b1a6f9": {
      "model_module": "@jupyter-widgets/base",
      "model_module_version": "1.2.0",
      "model_name": "LayoutModel",
      "state": {
       "_model_module": "@jupyter-widgets/base",
       "_model_module_version": "1.2.0",
       "_model_name": "LayoutModel",
       "_view_count": null,
       "_view_module": "@jupyter-widgets/base",
       "_view_module_version": "1.2.0",
       "_view_name": "LayoutView",
       "align_content": null,
       "align_items": null,
       "align_self": null,
       "border": null,
       "bottom": null,
       "display": null,
       "flex": null,
       "flex_flow": null,
       "grid_area": null,
       "grid_auto_columns": null,
       "grid_auto_flow": null,
       "grid_auto_rows": null,
       "grid_column": null,
       "grid_gap": null,
       "grid_row": null,
       "grid_template_areas": null,
       "grid_template_columns": null,
       "grid_template_rows": null,
       "height": null,
       "justify_content": null,
       "justify_items": null,
       "left": null,
       "margin": null,
       "max_height": null,
       "max_width": null,
       "min_height": null,
       "min_width": null,
       "object_fit": null,
       "object_position": null,
       "order": null,
       "overflow": null,
       "overflow_x": null,
       "overflow_y": null,
       "padding": null,
       "right": null,
       "top": null,
       "visibility": null,
       "width": null
      }
     },
     "c0c592012af4423b91964016680096e6": {
      "model_module": "@jupyter-widgets/controls",
      "model_module_version": "1.5.0",
      "model_name": "IntSliderModel",
      "state": {
       "_dom_classes": [],
       "_model_module": "@jupyter-widgets/controls",
       "_model_module_version": "1.5.0",
       "_model_name": "IntSliderModel",
       "_view_count": null,
       "_view_module": "@jupyter-widgets/controls",
       "_view_module_version": "1.5.0",
       "_view_name": "IntSliderView",
       "continuous_update": true,
       "description": "i",
       "description_tooltip": null,
       "disabled": false,
       "layout": "IPY_MODEL_1e1aebfd7a2b467cba49451fef497462",
       "max": 118441,
       "min": 0,
       "orientation": "horizontal",
       "readout": true,
       "readout_format": "d",
       "step": 1,
       "style": "IPY_MODEL_595a6674314f4c38b4e53eb0bfc43d22",
       "value": 59220
      }
     },
     "e44f19f818d84786b2fc82635025b4e7": {
      "model_module": "@jupyter-widgets/output",
      "model_module_version": "1.0.0",
      "model_name": "OutputModel",
      "state": {
       "_dom_classes": [],
       "_model_module": "@jupyter-widgets/output",
       "_model_module_version": "1.0.0",
       "_model_name": "OutputModel",
       "_view_count": null,
       "_view_module": "@jupyter-widgets/output",
       "_view_module_version": "1.0.0",
       "_view_name": "OutputView",
       "layout": "IPY_MODEL_f2866294e5d14c1284ff3e196facce8e",
       "msg_id": "",
       "outputs": [
        {
         "name": "stdout",
         "output_type": "stream",
         "text": "How to change culture to a DateTimepicker or calendar control in .Net\n******************************\nchange culture datetimepicker calendar control\n******************************\n<p>How to set internationalization to a <code>DateTimepicker</code> or <code>Calendar WinForm</code> control in .Net when the desire culture is different to the one installed in the PC?</p>\n\n******************************\nset internationalization datetimepicker calendar winform control .net desire culture instal pc\n******************************\nDateTimepicker Calendar WinForm\n******************************\nc# .net internationalization datetimepicker culture\n"
        }
       ]
      }
     },
     "f2866294e5d14c1284ff3e196facce8e": {
      "model_module": "@jupyter-widgets/base",
      "model_module_version": "1.2.0",
      "model_name": "LayoutModel",
      "state": {
       "_model_module": "@jupyter-widgets/base",
       "_model_module_version": "1.2.0",
       "_model_name": "LayoutModel",
       "_view_count": null,
       "_view_module": "@jupyter-widgets/base",
       "_view_module_version": "1.2.0",
       "_view_name": "LayoutView",
       "align_content": null,
       "align_items": null,
       "align_self": null,
       "border": null,
       "bottom": null,
       "display": null,
       "flex": null,
       "flex_flow": null,
       "grid_area": null,
       "grid_auto_columns": null,
       "grid_auto_flow": null,
       "grid_auto_rows": null,
       "grid_column": null,
       "grid_gap": null,
       "grid_row": null,
       "grid_template_areas": null,
       "grid_template_columns": null,
       "grid_template_rows": null,
       "height": null,
       "justify_content": null,
       "justify_items": null,
       "left": null,
       "margin": null,
       "max_height": null,
       "max_width": null,
       "min_height": null,
       "min_width": null,
       "object_fit": null,
       "object_position": null,
       "order": null,
       "overflow": null,
       "overflow_x": null,
       "overflow_y": null,
       "padding": null,
       "right": null,
       "top": null,
       "visibility": null,
       "width": null
      }
     }
    },
    "version_major": 2,
    "version_minor": 0
   }
  }
 },
 "nbformat": 4,
 "nbformat_minor": 5
}
