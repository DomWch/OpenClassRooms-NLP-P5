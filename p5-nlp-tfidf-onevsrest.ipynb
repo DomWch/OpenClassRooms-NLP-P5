{
 "cells": [
  {
   "cell_type": "markdown",
   "id": "c6c71188",
   "metadata": {
    "papermill": {
     "duration": 0.011306,
     "end_time": "2022-12-15T09:19:35.826573",
     "exception": false,
     "start_time": "2022-12-15T09:19:35.815267",
     "status": "completed"
    },
    "tags": []
   },
   "source": [
    "# Index\n",
    "* [Import](#index)\n",
    "* [Tokenization](#Tokenization)\n",
    "* [CountVectorizer](#CountVectorizer)\n",
    "* [Tfidf](#Tfidf)\n",
    "* [OvsRest](#OvsRest)\n",
    "* [Word2Vec](#Word2Vec)\n",
    "* [BERT](#BERT)\n",
    "* [USE](#USE)"
   ]
  },
  {
   "cell_type": "code",
   "execution_count": 1,
   "id": "8cd24fc8",
   "metadata": {
    "_cell_guid": "b1076dfc-b9ad-4769-8c92-a6c4dae69d19",
    "_uuid": "8f2839f25d086af736a60e9eeb907d3b93b6e0e5",
    "execution": {
     "iopub.execute_input": "2022-12-15T09:19:35.846953Z",
     "iopub.status.busy": "2022-12-15T09:19:35.846315Z",
     "iopub.status.idle": "2022-12-15T09:19:37.845592Z",
     "shell.execute_reply": "2022-12-15T09:19:37.844182Z"
    },
    "papermill": {
     "duration": 2.013284,
     "end_time": "2022-12-15T09:19:37.849055",
     "exception": false,
     "start_time": "2022-12-15T09:19:35.835771",
     "status": "completed"
    },
    "tags": []
   },
   "outputs": [],
   "source": [
    "import time\n",
    "import warnings\n",
    "import numpy as np\n",
    "import pandas as pd\n",
    "import gensim\n",
    "\n",
    "# from gensim import (\n",
    "#     corpora,\n",
    "# )  # https://pypi.org/project/gensim/ #https://radimrehurek.com/gensim/auto_examples/core/run_topics_and_transformations.html#sphx-glr-auto-examples-core-run-topics-and-transformations-py\n",
    "from sklearn import (\n",
    "    metrics,\n",
    "    feature_extraction,\n",
    "    linear_model,\n",
    "    model_selection,\n",
    "    preprocessing,\n",
    "    cluster,\n",
    "    multiclass,\n",
    "    svm,\n",
    "    pipeline,\n",
    "    exceptions\n",
    ")\n",
    "\n",
    "# import nlpk"
   ]
  },
  {
   "cell_type": "markdown",
   "id": "c1f99d23",
   "metadata": {
    "papermill": {
     "duration": 0.008798,
     "end_time": "2022-12-15T09:19:37.867249",
     "exception": false,
     "start_time": "2022-12-15T09:19:37.858451",
     "status": "completed"
    },
    "tags": []
   },
   "source": [
    "test https://scikit-learn.org/stable/modules/multiclass.html autre stategie que OneVsRest\n",
    "https://keras.io/examples/nlp/text_extraction_with_bert/"
   ]
  },
  {
   "cell_type": "code",
   "execution_count": 2,
   "id": "5266aa95",
   "metadata": {
    "_kg_hide-output": true,
    "execution": {
     "iopub.execute_input": "2022-12-15T09:19:37.887275Z",
     "iopub.status.busy": "2022-12-15T09:19:37.886513Z",
     "iopub.status.idle": "2022-12-15T09:19:53.772592Z",
     "shell.execute_reply": "2022-12-15T09:19:53.770474Z"
    },
    "papermill": {
     "duration": 15.899939,
     "end_time": "2022-12-15T09:19:53.775946",
     "exception": false,
     "start_time": "2022-12-15T09:19:37.876007",
     "status": "completed"
    },
    "tags": []
   },
   "outputs": [
    {
     "name": "stdout",
     "output_type": "stream",
     "text": [
      "\u001b[33mWARNING: Running pip as the 'root' user can result in broken permissions and conflicting behaviour with the system package manager. It is recommended to use a virtual environment instead: https://pip.pypa.io/warnings/venv\u001b[0m\u001b[33m\r\n",
      "\u001b[0mNote: you may need to restart the kernel to use updated packages.\n"
     ]
    }
   ],
   "source": [
    "pip install -q jupyter-black jupyter"
   ]
  },
  {
   "cell_type": "code",
   "execution_count": 3,
   "id": "4a5f5885",
   "metadata": {
    "execution": {
     "iopub.execute_input": "2022-12-15T09:19:53.798578Z",
     "iopub.status.busy": "2022-12-15T09:19:53.798078Z",
     "iopub.status.idle": "2022-12-15T09:19:54.006611Z",
     "shell.execute_reply": "2022-12-15T09:19:54.004967Z"
    },
    "papermill": {
     "duration": 0.223582,
     "end_time": "2022-12-15T09:19:54.010328",
     "exception": false,
     "start_time": "2022-12-15T09:19:53.786746",
     "status": "completed"
    },
    "tags": []
   },
   "outputs": [
    {
     "data": {
      "text/html": [
       "\n",
       "                <script type=\"application/javascript\" id=\"jupyter_black\">\n",
       "                (function() {\n",
       "                    if (window.IPython === undefined) {\n",
       "                        return\n",
       "                    }\n",
       "                    var msg = \"WARNING: it looks like you might have loaded \" +\n",
       "                        \"jupyter_black in a non-lab notebook with \" +\n",
       "                        \"`is_lab=True`. Please double check, and if \" +\n",
       "                        \"loading with `%load_ext` please review the README!\"\n",
       "                    console.log(msg)\n",
       "                    alert(msg)\n",
       "                })()\n",
       "                </script>\n",
       "                "
      ],
      "text/plain": [
       "<IPython.core.display.HTML object>"
      ]
     },
     "metadata": {},
     "output_type": "display_data"
    }
   ],
   "source": [
    "# for black formating\n",
    "import jupyter_black  # pip install jupyter-black jupyter\n",
    "\n",
    "jupyter_black.load()\n",
    "# ??jupyter_black.load #show config"
   ]
  },
  {
   "cell_type": "code",
   "execution_count": 4,
   "id": "8fc21e75",
   "metadata": {
    "execution": {
     "iopub.execute_input": "2022-12-15T09:19:54.033000Z",
     "iopub.status.busy": "2022-12-15T09:19:54.032390Z",
     "iopub.status.idle": "2022-12-15T09:20:03.711808Z",
     "shell.execute_reply": "2022-12-15T09:20:03.709884Z"
    },
    "papermill": {
     "duration": 9.695185,
     "end_time": "2022-12-15T09:20:03.715775",
     "exception": false,
     "start_time": "2022-12-15T09:19:54.020590",
     "status": "completed"
    },
    "tags": []
   },
   "outputs": [
    {
     "name": "stdout",
     "output_type": "stream",
     "text": [
      "<class 'pandas.core.frame.DataFrame'>\n",
      "Int64Index: 118442 entries, 0 to 118441\n",
      "Data columns (total 12 columns):\n",
      " #   Column       Non-Null Count   Dtype \n",
      "---  ------       --------------   ----- \n",
      " 0   Id           118442 non-null  int64 \n",
      " 1   Title        118442 non-null  object\n",
      " 2   Body         118442 non-null  object\n",
      " 3   0            118440 non-null  object\n",
      " 4   1            118383 non-null  object\n",
      " 5   2            118292 non-null  object\n",
      " 6   3            118292 non-null  object\n",
      " 7   4            76389 non-null   object\n",
      " 8   5            4 non-null       object\n",
      " 9   Title_clean  118389 non-null  object\n",
      " 10  Code         88202 non-null   object\n",
      " 11  Body_clean   118392 non-null  object\n",
      "dtypes: int64(1), object(11)\n",
      "memory usage: 11.7+ MB\n"
     ]
    }
   ],
   "source": [
    "df = pd.read_csv(\n",
    "    \"/kaggle/input/p5-nlp/stackoverflowCleaned.csv\", index_col=0, low_memory=False\n",
    ")\n",
    "df.info()"
   ]
  },
  {
   "cell_type": "markdown",
   "id": "8f791a70",
   "metadata": {
    "papermill": {
     "duration": 0.008598,
     "end_time": "2022-12-15T09:20:03.734059",
     "exception": false,
     "start_time": "2022-12-15T09:20:03.725461",
     "status": "completed"
    },
    "tags": []
   },
   "source": [
    "# Tokenization"
   ]
  },
  {
   "cell_type": "code",
   "execution_count": 5,
   "id": "e0956f6d",
   "metadata": {
    "execution": {
     "iopub.execute_input": "2022-12-15T09:20:03.755114Z",
     "iopub.status.busy": "2022-12-15T09:20:03.754569Z",
     "iopub.status.idle": "2022-12-15T09:20:03.933808Z",
     "shell.execute_reply": "2022-12-15T09:20:03.932617Z"
    },
    "papermill": {
     "duration": 0.192732,
     "end_time": "2022-12-15T09:20:03.936268",
     "exception": false,
     "start_time": "2022-12-15T09:20:03.743536",
     "status": "completed"
    },
    "tags": []
   },
   "outputs": [
    {
     "data": {
      "application/vnd.jupyter.widget-view+json": {
       "model_id": "8f0b8a94f90f4d74bc47a35da0fdaba8",
       "version_major": 2,
       "version_minor": 0
      },
      "text/plain": [
       "interactive(children=(IntSlider(value=59220, description='i', max=118441), Output()), _dom_classes=('widget-in…"
      ]
     },
     "metadata": {},
     "output_type": "display_data"
    }
   ],
   "source": [
    "from ipywidgets import interact\n",
    "\n",
    "\n",
    "@interact(i=(0, df.shape[0] - 1))\n",
    "def test_tr_print(i):\n",
    "    print(\n",
    "        f'Title:{df[\"Title\"][i]}\\n{\"*\"*30}\\nTitle_clean:{df[\"Title_clean\"][i]}\\n{\"*\"*30}\\nBody:{df[\"Body\"][i]}\\n{\"*\"*30}\\nBody_clean:{df[\"Body_clean\"][i]}\\n{\"*\"*30}\\nCode:{df[\"Code\"][i]}\\n{\"*\"*30}\\nTags:{df.loc[i,\"0\"]} {df.loc[i,\"1\"]} {df.loc[i,\"2\"]} {df.loc[i,\"3\"]} {df.loc[i,\"4\"]}'\n",
    "    )"
   ]
  },
  {
   "cell_type": "code",
   "execution_count": 6,
   "id": "a25b25f5",
   "metadata": {
    "execution": {
     "iopub.execute_input": "2022-12-15T09:20:03.960728Z",
     "iopub.status.busy": "2022-12-15T09:20:03.959740Z",
     "iopub.status.idle": "2022-12-15T09:20:03.992785Z",
     "shell.execute_reply": "2022-12-15T09:20:03.991404Z"
    },
    "papermill": {
     "duration": 0.048461,
     "end_time": "2022-12-15T09:20:03.995601",
     "exception": false,
     "start_time": "2022-12-15T09:20:03.947140",
     "status": "completed"
    },
    "tags": []
   },
   "outputs": [
    {
     "data": {
      "text/plain": [
       "53"
      ]
     },
     "execution_count": 6,
     "metadata": {},
     "output_type": "execute_result"
    }
   ],
   "source": [
    "sum(df[\"Title_clean\"].isna())"
   ]
  },
  {
   "cell_type": "code",
   "execution_count": 7,
   "id": "8e34f785",
   "metadata": {
    "execution": {
     "iopub.execute_input": "2022-12-15T09:20:04.016219Z",
     "iopub.status.busy": "2022-12-15T09:20:04.015790Z",
     "iopub.status.idle": "2022-12-15T09:20:04.062559Z",
     "shell.execute_reply": "2022-12-15T09:20:04.061320Z"
    },
    "papermill": {
     "duration": 0.060145,
     "end_time": "2022-12-15T09:20:04.065283",
     "exception": false,
     "start_time": "2022-12-15T09:20:04.005138",
     "status": "completed"
    },
    "tags": []
   },
   "outputs": [
    {
     "data": {
      "text/html": [
       "<div>\n",
       "<style scoped>\n",
       "    .dataframe tbody tr th:only-of-type {\n",
       "        vertical-align: middle;\n",
       "    }\n",
       "\n",
       "    .dataframe tbody tr th {\n",
       "        vertical-align: top;\n",
       "    }\n",
       "\n",
       "    .dataframe thead th {\n",
       "        text-align: right;\n",
       "    }\n",
       "</style>\n",
       "<table border=\"1\" class=\"dataframe\">\n",
       "  <thead>\n",
       "    <tr style=\"text-align: right;\">\n",
       "      <th></th>\n",
       "      <th>Title</th>\n",
       "      <th>Title_clean</th>\n",
       "      <th>Body</th>\n",
       "      <th>Body_clean</th>\n",
       "      <th>0</th>\n",
       "      <th>1</th>\n",
       "      <th>2</th>\n",
       "      <th>3</th>\n",
       "      <th>4</th>\n",
       "    </tr>\n",
       "  </thead>\n",
       "  <tbody>\n",
       "    <tr>\n",
       "      <th>302</th>\n",
       "      <td>Is &lt; faster than &lt;=?</td>\n",
       "      <td>NaN</td>\n",
       "      <td>&lt;p&gt;Is &lt;code&gt;if (a &amp;lt; 901)&lt;/code&gt; faster than...</td>\n",
       "      <td>example performance change loop code suppose g...</td>\n",
       "      <td>c++</td>\n",
       "      <td>c</td>\n",
       "      <td>performance</td>\n",
       "      <td>assembly</td>\n",
       "      <td>relational-operators</td>\n",
       "    </tr>\n",
       "    <tr>\n",
       "      <th>393</th>\n",
       "      <td>What is setup.py?</td>\n",
       "      <td>NaN</td>\n",
       "      <td>&lt;p&gt;What is &lt;code&gt;setup.py&lt;/code&gt; and how can i...</td>\n",
       "      <td>configure</td>\n",
       "      <td>python</td>\n",
       "      <td>pypi</td>\n",
       "      <td>setup.py</td>\n",
       "      <td>python-packaging</td>\n",
       "      <td>NaN</td>\n",
       "    </tr>\n",
       "    <tr>\n",
       "      <th>1437</th>\n",
       "      <td>What is related_name used for?</td>\n",
       "      <td>NaN</td>\n",
       "      <td>&lt;p&gt;What is the &lt;code&gt;related_name&lt;/code&gt; argum...</td>\n",
       "      <td>argument manytomanyfield foreignkey field exam...</td>\n",
       "      <td>python</td>\n",
       "      <td>django</td>\n",
       "      <td>foreign-keys</td>\n",
       "      <td>many-to-many</td>\n",
       "      <td>NaN</td>\n",
       "    </tr>\n",
       "    <tr>\n",
       "      <th>4062</th>\n",
       "      <td>What is \"android:allowBackup\"?</td>\n",
       "      <td>NaN</td>\n",
       "      <td>&lt;p&gt;Since the &lt;a href=\"http://tools.android.com...</td>\n",
       "      <td>adt preview version version lint warning tell ...</td>\n",
       "      <td>android</td>\n",
       "      <td>adt</td>\n",
       "      <td>compiler-warnings</td>\n",
       "      <td>android-lint</td>\n",
       "      <td>android-backup-service</td>\n",
       "    </tr>\n",
       "    <tr>\n",
       "      <th>4870</th>\n",
       "      <td>Why is 0 &lt; -0x80000000?</td>\n",
       "      <td>NaN</td>\n",
       "      <td>&lt;p&gt;I have below a simple program:&lt;/p&gt;\\n\\n&lt;pre&gt;...</td>\n",
       "      <td>program condition if(bal int32_min work change...</td>\n",
       "      <td>c</td>\n",
       "      <td>signed</td>\n",
       "      <td>numeric-limits</td>\n",
       "      <td>numeric-conversion</td>\n",
       "      <td>NaN</td>\n",
       "    </tr>\n",
       "  </tbody>\n",
       "</table>\n",
       "</div>"
      ],
      "text/plain": [
       "                               Title Title_clean  \\\n",
       "302             Is < faster than <=?         NaN   \n",
       "393                What is setup.py?         NaN   \n",
       "1437  What is related_name used for?         NaN   \n",
       "4062  What is \"android:allowBackup\"?         NaN   \n",
       "4870         Why is 0 < -0x80000000?         NaN   \n",
       "\n",
       "                                                   Body  \\\n",
       "302   <p>Is <code>if (a &lt; 901)</code> faster than...   \n",
       "393   <p>What is <code>setup.py</code> and how can i...   \n",
       "1437  <p>What is the <code>related_name</code> argum...   \n",
       "4062  <p>Since the <a href=\"http://tools.android.com...   \n",
       "4870  <p>I have below a simple program:</p>\\n\\n<pre>...   \n",
       "\n",
       "                                             Body_clean        0       1  \\\n",
       "302   example performance change loop code suppose g...      c++       c   \n",
       "393                                           configure   python    pypi   \n",
       "1437  argument manytomanyfield foreignkey field exam...   python  django   \n",
       "4062  adt preview version version lint warning tell ...  android     adt   \n",
       "4870  program condition if(bal int32_min work change...        c  signed   \n",
       "\n",
       "                      2                   3                       4  \n",
       "302         performance            assembly    relational-operators  \n",
       "393            setup.py    python-packaging                     NaN  \n",
       "1437       foreign-keys        many-to-many                     NaN  \n",
       "4062  compiler-warnings        android-lint  android-backup-service  \n",
       "4870     numeric-limits  numeric-conversion                     NaN  "
      ]
     },
     "execution_count": 7,
     "metadata": {},
     "output_type": "execute_result"
    }
   ],
   "source": [
    "df[df[\"Title_clean\"].isna()][\n",
    "    [\"Title\", \"Title_clean\", \"Body\", \"Body_clean\", \"0\", \"1\", \"2\", \"3\", \"4\"]\n",
    "].head(5)"
   ]
  },
  {
   "cell_type": "code",
   "execution_count": 8,
   "id": "2753971f",
   "metadata": {
    "execution": {
     "iopub.execute_input": "2022-12-15T09:20:04.088181Z",
     "iopub.status.busy": "2022-12-15T09:20:04.086988Z",
     "iopub.status.idle": "2022-12-15T09:20:04.167008Z",
     "shell.execute_reply": "2022-12-15T09:20:04.165476Z"
    },
    "papermill": {
     "duration": 0.094756,
     "end_time": "2022-12-15T09:20:04.170365",
     "exception": false,
     "start_time": "2022-12-15T09:20:04.075609",
     "status": "completed"
    },
    "tags": []
   },
   "outputs": [
    {
     "name": "stdout",
     "output_type": "stream",
     "text": [
      "50\n"
     ]
    },
    {
     "data": {
      "text/html": [
       "<div>\n",
       "<style scoped>\n",
       "    .dataframe tbody tr th:only-of-type {\n",
       "        vertical-align: middle;\n",
       "    }\n",
       "\n",
       "    .dataframe tbody tr th {\n",
       "        vertical-align: top;\n",
       "    }\n",
       "\n",
       "    .dataframe thead th {\n",
       "        text-align: right;\n",
       "    }\n",
       "</style>\n",
       "<table border=\"1\" class=\"dataframe\">\n",
       "  <thead>\n",
       "    <tr style=\"text-align: right;\">\n",
       "      <th></th>\n",
       "      <th>Title</th>\n",
       "      <th>Title_clean</th>\n",
       "      <th>Body</th>\n",
       "      <th>Body_clean</th>\n",
       "      <th>Code</th>\n",
       "    </tr>\n",
       "  </thead>\n",
       "  <tbody>\n",
       "    <tr>\n",
       "      <th>5</th>\n",
       "      <td>What and where are the stack and heap?</td>\n",
       "      <td>stack heap</td>\n",
       "      <td>&lt;ul&gt;\\n&lt;li&gt;What are the stack and heap?&lt;/li&gt;\\n&lt;...</td>\n",
       "      <td>NaN</td>\n",
       "      <td>NaN</td>\n",
       "    </tr>\n",
       "    <tr>\n",
       "      <th>168</th>\n",
       "      <td>What is The Rule of Three?</td>\n",
       "      <td>rule</td>\n",
       "      <td>&lt;ul&gt;\\n&lt;li&gt;What does &lt;em&gt;copying an object&lt;/em&gt;...</td>\n",
       "      <td>NaN</td>\n",
       "      <td>NaN</td>\n",
       "    </tr>\n",
       "    <tr>\n",
       "      <th>828</th>\n",
       "      <td>Why are these constructs using pre and post-in...</td>\n",
       "      <td>construct pre behavior</td>\n",
       "      <td>&lt;pre&gt;&lt;code&gt;#include &amp;lt;stdio.h&amp;gt;\\n\\nint mai...</td>\n",
       "      <td>NaN</td>\n",
       "      <td>#include &lt;stdio.h&gt;\\n\\nint main(void)\\n{\\n   in...</td>\n",
       "    </tr>\n",
       "    <tr>\n",
       "      <th>1207</th>\n",
       "      <td>How to use ADB Shell when Multiple Devices are...</td>\n",
       "      <td>use adb shell multiple device connect fail err...</td>\n",
       "      <td>&lt;pre&gt;&lt;code&gt;$ adb --help\\n&lt;/code&gt;&lt;/pre&gt;\\n&lt;hr /&gt;...</td>\n",
       "      <td>NaN</td>\n",
       "      <td>$ adb --help\\n -s SERIAL  use device with give...</td>\n",
       "    </tr>\n",
       "    <tr>\n",
       "      <th>1640</th>\n",
       "      <td>What are the advantages of list initialization...</td>\n",
       "      <td>advantage list initialization brace</td>\n",
       "      <td>&lt;pre&gt;&lt;code&gt;MyClass a1 {a};     // clearer and ...</td>\n",
       "      <td>NaN</td>\n",
       "      <td>MyClass a1 {a};     // clearer and less error-...</td>\n",
       "    </tr>\n",
       "  </tbody>\n",
       "</table>\n",
       "</div>"
      ],
      "text/plain": [
       "                                                  Title  \\\n",
       "5                What and where are the stack and heap?   \n",
       "168                          What is The Rule of Three?   \n",
       "828   Why are these constructs using pre and post-in...   \n",
       "1207  How to use ADB Shell when Multiple Devices are...   \n",
       "1640  What are the advantages of list initialization...   \n",
       "\n",
       "                                            Title_clean  \\\n",
       "5                                            stack heap   \n",
       "168                                                rule   \n",
       "828                              construct pre behavior   \n",
       "1207  use adb shell multiple device connect fail err...   \n",
       "1640                advantage list initialization brace   \n",
       "\n",
       "                                                   Body Body_clean  \\\n",
       "5     <ul>\\n<li>What are the stack and heap?</li>\\n<...        NaN   \n",
       "168   <ul>\\n<li>What does <em>copying an object</em>...        NaN   \n",
       "828   <pre><code>#include &lt;stdio.h&gt;\\n\\nint mai...        NaN   \n",
       "1207  <pre><code>$ adb --help\\n</code></pre>\\n<hr />...        NaN   \n",
       "1640  <pre><code>MyClass a1 {a};     // clearer and ...        NaN   \n",
       "\n",
       "                                                   Code  \n",
       "5                                                   NaN  \n",
       "168                                                 NaN  \n",
       "828   #include <stdio.h>\\n\\nint main(void)\\n{\\n   in...  \n",
       "1207  $ adb --help\\n -s SERIAL  use device with give...  \n",
       "1640  MyClass a1 {a};     // clearer and less error-...  "
      ]
     },
     "execution_count": 8,
     "metadata": {},
     "output_type": "execute_result"
    }
   ],
   "source": [
    "print(sum(df[\"Body_clean\"].isna()))\n",
    "df[df[\"Body_clean\"].isna()][\n",
    "    [\"Title\", \"Title_clean\", \"Body\", \"Body_clean\", \"Code\"]\n",
    "].head(5)"
   ]
  },
  {
   "cell_type": "code",
   "execution_count": 9,
   "id": "84245f1f",
   "metadata": {
    "execution": {
     "iopub.execute_input": "2022-12-15T09:20:04.193408Z",
     "iopub.status.busy": "2022-12-15T09:20:04.192916Z",
     "iopub.status.idle": "2022-12-15T09:20:04.235677Z",
     "shell.execute_reply": "2022-12-15T09:20:04.234328Z"
    },
    "papermill": {
     "duration": 0.057201,
     "end_time": "2022-12-15T09:20:04.238502",
     "exception": false,
     "start_time": "2022-12-15T09:20:04.181301",
     "status": "completed"
    },
    "tags": []
   },
   "outputs": [
    {
     "data": {
      "text/plain": [
       "0"
      ]
     },
     "execution_count": 9,
     "metadata": {},
     "output_type": "execute_result"
    }
   ],
   "source": [
    "len(df[df[\"Body_clean\"].isna() & df[\"Title_clean\"].isna()])"
   ]
  },
  {
   "cell_type": "code",
   "execution_count": 10,
   "id": "607be7eb",
   "metadata": {
    "execution": {
     "iopub.execute_input": "2022-12-15T09:20:04.262729Z",
     "iopub.status.busy": "2022-12-15T09:20:04.261116Z",
     "iopub.status.idle": "2022-12-15T09:20:04.390865Z",
     "shell.execute_reply": "2022-12-15T09:20:04.389665Z"
    },
    "papermill": {
     "duration": 0.144779,
     "end_time": "2022-12-15T09:20:04.393444",
     "exception": false,
     "start_time": "2022-12-15T09:20:04.248665",
     "status": "completed"
    },
    "tags": []
   },
   "outputs": [
    {
     "data": {
      "text/plain": [
       "103"
      ]
     },
     "execution_count": 10,
     "metadata": {},
     "output_type": "execute_result"
    }
   ],
   "source": [
    "sum((df[\"Title_clean\"] + df[\"Body_clean\"]).isna())"
   ]
  },
  {
   "cell_type": "code",
   "execution_count": 11,
   "id": "2730422f",
   "metadata": {
    "execution": {
     "iopub.execute_input": "2022-12-15T09:20:04.415866Z",
     "iopub.status.busy": "2022-12-15T09:20:04.415014Z",
     "iopub.status.idle": "2022-12-15T09:20:04.494137Z",
     "shell.execute_reply": "2022-12-15T09:20:04.493188Z"
    },
    "papermill": {
     "duration": 0.093149,
     "end_time": "2022-12-15T09:20:04.496746",
     "exception": false,
     "start_time": "2022-12-15T09:20:04.403597",
     "status": "completed"
    },
    "tags": []
   },
   "outputs": [
    {
     "data": {
      "text/html": [
       "<div>\n",
       "<style scoped>\n",
       "    .dataframe tbody tr th:only-of-type {\n",
       "        vertical-align: middle;\n",
       "    }\n",
       "\n",
       "    .dataframe tbody tr th {\n",
       "        vertical-align: top;\n",
       "    }\n",
       "\n",
       "    .dataframe thead th {\n",
       "        text-align: right;\n",
       "    }\n",
       "</style>\n",
       "<table border=\"1\" class=\"dataframe\">\n",
       "  <thead>\n",
       "    <tr style=\"text-align: right;\">\n",
       "      <th></th>\n",
       "      <th>javascript</th>\n",
       "      <th>java</th>\n",
       "      <th>c#</th>\n",
       "      <th>python</th>\n",
       "      <th>html</th>\n",
       "      <th>git</th>\n",
       "      <th>php</th>\n",
       "    </tr>\n",
       "  </thead>\n",
       "  <tbody>\n",
       "    <tr>\n",
       "      <th>10001</th>\n",
       "      <td>True</td>\n",
       "      <td>False</td>\n",
       "      <td>False</td>\n",
       "      <td>False</td>\n",
       "      <td>True</td>\n",
       "      <td>False</td>\n",
       "      <td>False</td>\n",
       "    </tr>\n",
       "    <tr>\n",
       "      <th>10002</th>\n",
       "      <td>False</td>\n",
       "      <td>True</td>\n",
       "      <td>False</td>\n",
       "      <td>False</td>\n",
       "      <td>False</td>\n",
       "      <td>False</td>\n",
       "      <td>False</td>\n",
       "    </tr>\n",
       "    <tr>\n",
       "      <th>10003</th>\n",
       "      <td>False</td>\n",
       "      <td>False</td>\n",
       "      <td>True</td>\n",
       "      <td>False</td>\n",
       "      <td>False</td>\n",
       "      <td>False</td>\n",
       "      <td>False</td>\n",
       "    </tr>\n",
       "    <tr>\n",
       "      <th>10004</th>\n",
       "      <td>False</td>\n",
       "      <td>False</td>\n",
       "      <td>False</td>\n",
       "      <td>False</td>\n",
       "      <td>True</td>\n",
       "      <td>False</td>\n",
       "      <td>False</td>\n",
       "    </tr>\n",
       "    <tr>\n",
       "      <th>10005</th>\n",
       "      <td>False</td>\n",
       "      <td>False</td>\n",
       "      <td>False</td>\n",
       "      <td>False</td>\n",
       "      <td>False</td>\n",
       "      <td>False</td>\n",
       "      <td>False</td>\n",
       "    </tr>\n",
       "    <tr>\n",
       "      <th>...</th>\n",
       "      <td>...</td>\n",
       "      <td>...</td>\n",
       "      <td>...</td>\n",
       "      <td>...</td>\n",
       "      <td>...</td>\n",
       "      <td>...</td>\n",
       "      <td>...</td>\n",
       "    </tr>\n",
       "    <tr>\n",
       "      <th>15045</th>\n",
       "      <td>False</td>\n",
       "      <td>False</td>\n",
       "      <td>False</td>\n",
       "      <td>False</td>\n",
       "      <td>False</td>\n",
       "      <td>False</td>\n",
       "      <td>False</td>\n",
       "    </tr>\n",
       "    <tr>\n",
       "      <th>15046</th>\n",
       "      <td>False</td>\n",
       "      <td>False</td>\n",
       "      <td>False</td>\n",
       "      <td>False</td>\n",
       "      <td>False</td>\n",
       "      <td>False</td>\n",
       "      <td>False</td>\n",
       "    </tr>\n",
       "    <tr>\n",
       "      <th>15047</th>\n",
       "      <td>True</td>\n",
       "      <td>False</td>\n",
       "      <td>False</td>\n",
       "      <td>False</td>\n",
       "      <td>False</td>\n",
       "      <td>False</td>\n",
       "      <td>False</td>\n",
       "    </tr>\n",
       "    <tr>\n",
       "      <th>15048</th>\n",
       "      <td>False</td>\n",
       "      <td>False</td>\n",
       "      <td>False</td>\n",
       "      <td>False</td>\n",
       "      <td>False</td>\n",
       "      <td>False</td>\n",
       "      <td>False</td>\n",
       "    </tr>\n",
       "    <tr>\n",
       "      <th>15049</th>\n",
       "      <td>False</td>\n",
       "      <td>False</td>\n",
       "      <td>False</td>\n",
       "      <td>False</td>\n",
       "      <td>False</td>\n",
       "      <td>False</td>\n",
       "      <td>False</td>\n",
       "    </tr>\n",
       "  </tbody>\n",
       "</table>\n",
       "<p>5049 rows × 7 columns</p>\n",
       "</div>"
      ],
      "text/plain": [
       "       javascript   java     c#  python   html    git    php\n",
       "10001        True  False  False   False   True  False  False\n",
       "10002       False   True  False   False  False  False  False\n",
       "10003       False  False   True   False  False  False  False\n",
       "10004       False  False  False   False   True  False  False\n",
       "10005       False  False  False   False  False  False  False\n",
       "...           ...    ...    ...     ...    ...    ...    ...\n",
       "15045       False  False  False   False  False  False  False\n",
       "15046       False  False  False   False  False  False  False\n",
       "15047        True  False  False   False  False  False  False\n",
       "15048       False  False  False   False  False  False  False\n",
       "15049       False  False  False   False  False  False  False\n",
       "\n",
       "[5049 rows x 7 columns]"
      ]
     },
     "execution_count": 11,
     "metadata": {},
     "output_type": "execute_result"
    }
   ],
   "source": [
    "def tag_is_in(df: pd.DataFrame(), tag: str, nb_cols: int = 6):\n",
    "    return eval(\"|\".join(f'(df[\"{i}\"] == \"{tag}\")' for i in range(0, nb_cols)))\n",
    "\n",
    "\n",
    "def tags_are_in(df: pd.DataFrame(), tags: list):\n",
    "    return pd.DataFrame({tag: tag_is_in(df, tag) for tag in tags})\n",
    "\n",
    "\n",
    "# tags_are_in(df, [\"javascript\",\"java\"])\n",
    "tags_are_in(\n",
    "    df[10001:15050], [\"javascript\", \"java\", \"c#\", \"python\", \"html\", \"git\", \"php\"]\n",
    ")"
   ]
  },
  {
   "cell_type": "code",
   "execution_count": 12,
   "id": "1b21e5ca",
   "metadata": {
    "execution": {
     "iopub.execute_input": "2022-12-15T09:20:04.521475Z",
     "iopub.status.busy": "2022-12-15T09:20:04.520874Z",
     "iopub.status.idle": "2022-12-15T09:20:04.773674Z",
     "shell.execute_reply": "2022-12-15T09:20:04.772729Z"
    },
    "papermill": {
     "duration": 0.268095,
     "end_time": "2022-12-15T09:20:04.776418",
     "exception": false,
     "start_time": "2022-12-15T09:20:04.508323",
     "status": "completed"
    },
    "tags": []
   },
   "outputs": [
    {
     "data": {
      "text/plain": [
       "['java',\n",
       " 'c#',\n",
       " 'javascript',\n",
       " 'python',\n",
       " 'android',\n",
       " 'c++',\n",
       " 'ios',\n",
       " 'html',\n",
       " 'php',\n",
       " '.net',\n",
       " 'jquery',\n",
       " 'css',\n",
       " 'objective-c',\n",
       " 'c',\n",
       " 'sql',\n",
       " 'iphone',\n",
       " 'asp.net',\n",
       " 'mysql',\n",
       " 'linux',\n",
       " 'node.js',\n",
       " 'arrays',\n",
       " 'swift',\n",
       " 'sql-server',\n",
       " 'json',\n",
       " 'string',\n",
       " 'windows',\n",
       " 'performance',\n",
       " 'ruby-on-rails',\n",
       " 'xcode',\n",
       " 'spring',\n",
       " 'ajax',\n",
       " 'database',\n",
       " 'asp.net-mvc',\n",
       " 'algorithm',\n",
       " 'ruby',\n",
       " 'macos',\n",
       " 'multithreading',\n",
       " 'visual-studio',\n",
       " 'django',\n",
       " 'reactjs',\n",
       " 'wpf',\n",
       " 'xml',\n",
       " 'bash',\n",
       " 'eclipse',\n",
       " 'python-3.x',\n",
       " 'image',\n",
       " 'unit-testing',\n",
       " 'angular',\n",
       " 'c++11',\n",
       " 'angularjs',\n",
       " 'git']"
      ]
     },
     "execution_count": 12,
     "metadata": {},
     "output_type": "execute_result"
    }
   ],
   "source": [
    "tags = df[[\"0\", \"1\", \"2\", \"3\", \"4\", \"5\"]].stack()\n",
    "target_names = [\n",
    "    tag\n",
    "    for tag, freq in tags.reset_index(drop=True).value_counts(normalize=True).items()\n",
    "    if freq > 0.002\n",
    "]\n",
    "target_names"
   ]
  },
  {
   "cell_type": "markdown",
   "id": "acef2685",
   "metadata": {
    "papermill": {
     "duration": 0.010299,
     "end_time": "2022-12-15T09:20:04.797450",
     "exception": false,
     "start_time": "2022-12-15T09:20:04.787151",
     "status": "completed"
    },
    "tags": []
   },
   "source": [
    "# CountVectorizer"
   ]
  },
  {
   "cell_type": "code",
   "execution_count": 13,
   "id": "3ed7f9ce",
   "metadata": {
    "execution": {
     "iopub.execute_input": "2022-12-15T09:20:04.821236Z",
     "iopub.status.busy": "2022-12-15T09:20:04.820745Z",
     "iopub.status.idle": "2022-12-15T09:20:10.916891Z",
     "shell.execute_reply": "2022-12-15T09:20:10.914775Z"
    },
    "papermill": {
     "duration": 6.111379,
     "end_time": "2022-12-15T09:20:10.919941",
     "exception": false,
     "start_time": "2022-12-15T09:20:04.808562",
     "status": "completed"
    },
    "tags": []
   },
   "outputs": [
    {
     "name": "stdout",
     "output_type": "stream",
     "text": [
      "99.99409% des questions ont plus d'un tokens\n",
      "\n",
      "******************************\n",
      " pour min_df:1e-05; max_df:0.995\n",
      "\ttokens unique:\n",
      "\t\t53999 dans title et body regroupé\n"
     ]
    }
   ],
   "source": [
    "# target_names = [\"javascript\", \"java\", \"c#\", \"python\", \"html\", \"git\", \"php\"]\n",
    "df[\"Token\"] = df[\"Title_clean\"].fillna(\"\") + df[\"Body_clean\"].fillna(\"\")\n",
    "print(\n",
    "    f\"{len(df[[len(token.split()) > 1 for token in df['Token']]])/len(df):.5%} des questions ont plus d'un tokens\"\n",
    "    if len(df[df[\"Token\"] == \"\"]) == 0\n",
    "    else f\"{len(df[df['Token'] == ''])} questions n'ont pas de token\"\n",
    ")\n",
    "LONG = False\n",
    "\n",
    "for min_df in [0.01, 0.05, 0.005, 0.0005, 0.00001] if LONG else [0.00001]:\n",
    "    for max_df in [0.95, 0.995, 0.9995] if LONG else [0.995]:\n",
    "        print(f\"\\n{'*'*30}\\n pour min_df:{min_df}; max_df:{max_df}\")\n",
    "        count_vectorizer = feature_extraction.text.CountVectorizer(\n",
    "            min_df=min_df, max_df=max_df, max_features=None\n",
    "        )\n",
    "        #         pipe = pipeline.make_pipeline(feature_extraction.text.CountVectorizer(min_df=min_df, max_df=max_df, max_features=None), feature_extraction.text.TfidfTransformer( norm=\"l2\", use_idf=True, smooth_idf=True, sublinear_tf=False))\n",
    "        #         feat_train = pipe.transform(X_train[\"Token\"])\n",
    "        #         print(feat_train.shape)\n",
    "\n",
    "        token_vectors = count_vectorizer.fit_transform(df[\"Token\"])\n",
    "        print(\n",
    "            f\"\\ttokens unique:\\n\\t\\t{token_vectors.shape[1]} dans title et body regroupé\"\n",
    "        )"
   ]
  },
  {
   "cell_type": "code",
   "execution_count": 14,
   "id": "d90d638d",
   "metadata": {
    "execution": {
     "iopub.execute_input": "2022-12-15T09:20:10.943831Z",
     "iopub.status.busy": "2022-12-15T09:20:10.943154Z",
     "iopub.status.idle": "2022-12-15T09:20:13.492117Z",
     "shell.execute_reply": "2022-12-15T09:20:13.490475Z"
    },
    "papermill": {
     "duration": 2.5637,
     "end_time": "2022-12-15T09:20:13.494995",
     "exception": false,
     "start_time": "2022-12-15T09:20:10.931295",
     "status": "completed"
    },
    "tags": []
   },
   "outputs": [],
   "source": [
    "X_train, X_test, y_train, y_test = model_selection.train_test_split(\n",
    "    token_vectors, tags_are_in(df, target_names), random_state=42\n",
    ")"
   ]
  },
  {
   "cell_type": "markdown",
   "id": "530cdefc",
   "metadata": {
    "papermill": {
     "duration": 0.010629,
     "end_time": "2022-12-15T09:20:13.517264",
     "exception": false,
     "start_time": "2022-12-15T09:20:13.506635",
     "status": "completed"
    },
    "tags": []
   },
   "source": [
    "# Tfidf"
   ]
  },
  {
   "cell_type": "code",
   "execution_count": 15,
   "id": "c027c154",
   "metadata": {
    "execution": {
     "iopub.execute_input": "2022-12-15T09:20:13.540251Z",
     "iopub.status.busy": "2022-12-15T09:20:13.539819Z",
     "iopub.status.idle": "2022-12-15T09:20:13.973205Z",
     "shell.execute_reply": "2022-12-15T09:20:13.970994Z"
    },
    "papermill": {
     "duration": 0.448653,
     "end_time": "2022-12-15T09:20:13.976596",
     "exception": false,
     "start_time": "2022-12-15T09:20:13.527943",
     "status": "completed"
    },
    "tags": []
   },
   "outputs": [
    {
     "name": "stdout",
     "output_type": "stream",
     "text": [
      "88831\n",
      "29611\n"
     ]
    }
   ],
   "source": [
    "tfidf_transformer = feature_extraction.text.TfidfTransformer(\n",
    "    norm=\"l2\", use_idf=True, smooth_idf=True, sublinear_tf=False\n",
    ").fit(X_train)\n",
    "X_train = tfidf_transformer.transform(X_train)\n",
    "print(X_train.shape[0])\n",
    "X_test = tfidf_transformer.transform(X_test)\n",
    "print(X_test.shape[0])"
   ]
  },
  {
   "cell_type": "code",
   "execution_count": 16,
   "id": "f943eae8",
   "metadata": {
    "execution": {
     "iopub.execute_input": "2022-12-15T09:20:13.999963Z",
     "iopub.status.busy": "2022-12-15T09:20:13.999556Z",
     "iopub.status.idle": "2022-12-15T09:20:14.007572Z",
     "shell.execute_reply": "2022-12-15T09:20:14.005704Z"
    },
    "papermill": {
     "duration": 0.023751,
     "end_time": "2022-12-15T09:20:14.011258",
     "exception": false,
     "start_time": "2022-12-15T09:20:13.987507",
     "status": "completed"
    },
    "tags": []
   },
   "outputs": [],
   "source": [
    "# [text for text in [token for token in X_test[0:5]]]"
   ]
  },
  {
   "cell_type": "markdown",
   "id": "9421cbfc",
   "metadata": {
    "papermill": {
     "duration": 0.01183,
     "end_time": "2022-12-15T09:20:14.035338",
     "exception": false,
     "start_time": "2022-12-15T09:20:14.023508",
     "status": "completed"
    },
    "tags": []
   },
   "source": [
    "# OvsRest"
   ]
  },
  {
   "cell_type": "code",
   "execution_count": 17,
   "id": "1f710cb4",
   "metadata": {
    "execution": {
     "iopub.execute_input": "2022-12-15T09:20:14.060622Z",
     "iopub.status.busy": "2022-12-15T09:20:14.060162Z",
     "iopub.status.idle": "2022-12-15T09:20:14.071782Z",
     "shell.execute_reply": "2022-12-15T09:20:14.070282Z"
    },
    "papermill": {
     "duration": 0.026608,
     "end_time": "2022-12-15T09:20:14.074512",
     "exception": false,
     "start_time": "2022-12-15T09:20:14.047904",
     "status": "completed"
    },
    "tags": []
   },
   "outputs": [
    {
     "data": {
      "text/plain": [
       "<88831x53999 sparse matrix of type '<class 'numpy.float64'>'\n",
       "\twith 2625878 stored elements in Compressed Sparse Row format>"
      ]
     },
     "execution_count": 17,
     "metadata": {},
     "output_type": "execute_result"
    }
   ],
   "source": [
    "X_train"
   ]
  },
  {
   "cell_type": "code",
   "execution_count": 18,
   "id": "9c58f15f",
   "metadata": {
    "execution": {
     "iopub.execute_input": "2022-12-15T09:20:14.098854Z",
     "iopub.status.busy": "2022-12-15T09:20:14.098371Z",
     "iopub.status.idle": "2022-12-15T09:20:14.129109Z",
     "shell.execute_reply": "2022-12-15T09:20:14.127515Z"
    },
    "papermill": {
     "duration": 0.046538,
     "end_time": "2022-12-15T09:20:14.131950",
     "exception": false,
     "start_time": "2022-12-15T09:20:14.085412",
     "status": "completed"
    },
    "tags": []
   },
   "outputs": [
    {
     "data": {
      "text/html": [
       "<div>\n",
       "<style scoped>\n",
       "    .dataframe tbody tr th:only-of-type {\n",
       "        vertical-align: middle;\n",
       "    }\n",
       "\n",
       "    .dataframe tbody tr th {\n",
       "        vertical-align: top;\n",
       "    }\n",
       "\n",
       "    .dataframe thead th {\n",
       "        text-align: right;\n",
       "    }\n",
       "</style>\n",
       "<table border=\"1\" class=\"dataframe\">\n",
       "  <thead>\n",
       "    <tr style=\"text-align: right;\">\n",
       "      <th></th>\n",
       "      <th>java</th>\n",
       "      <th>c#</th>\n",
       "      <th>javascript</th>\n",
       "      <th>python</th>\n",
       "      <th>android</th>\n",
       "      <th>c++</th>\n",
       "      <th>ios</th>\n",
       "      <th>html</th>\n",
       "      <th>php</th>\n",
       "      <th>.net</th>\n",
       "      <th>...</th>\n",
       "      <th>xml</th>\n",
       "      <th>bash</th>\n",
       "      <th>eclipse</th>\n",
       "      <th>python-3.x</th>\n",
       "      <th>image</th>\n",
       "      <th>unit-testing</th>\n",
       "      <th>angular</th>\n",
       "      <th>c++11</th>\n",
       "      <th>angularjs</th>\n",
       "      <th>git</th>\n",
       "    </tr>\n",
       "  </thead>\n",
       "  <tbody>\n",
       "    <tr>\n",
       "      <th>42834</th>\n",
       "      <td>False</td>\n",
       "      <td>False</td>\n",
       "      <td>True</td>\n",
       "      <td>False</td>\n",
       "      <td>False</td>\n",
       "      <td>False</td>\n",
       "      <td>False</td>\n",
       "      <td>False</td>\n",
       "      <td>False</td>\n",
       "      <td>False</td>\n",
       "      <td>...</td>\n",
       "      <td>False</td>\n",
       "      <td>False</td>\n",
       "      <td>False</td>\n",
       "      <td>False</td>\n",
       "      <td>False</td>\n",
       "      <td>False</td>\n",
       "      <td>False</td>\n",
       "      <td>False</td>\n",
       "      <td>False</td>\n",
       "      <td>False</td>\n",
       "    </tr>\n",
       "    <tr>\n",
       "      <th>25716</th>\n",
       "      <td>False</td>\n",
       "      <td>False</td>\n",
       "      <td>False</td>\n",
       "      <td>False</td>\n",
       "      <td>False</td>\n",
       "      <td>True</td>\n",
       "      <td>False</td>\n",
       "      <td>False</td>\n",
       "      <td>False</td>\n",
       "      <td>False</td>\n",
       "      <td>...</td>\n",
       "      <td>False</td>\n",
       "      <td>False</td>\n",
       "      <td>False</td>\n",
       "      <td>False</td>\n",
       "      <td>False</td>\n",
       "      <td>False</td>\n",
       "      <td>False</td>\n",
       "      <td>False</td>\n",
       "      <td>False</td>\n",
       "      <td>False</td>\n",
       "    </tr>\n",
       "    <tr>\n",
       "      <th>93960</th>\n",
       "      <td>True</td>\n",
       "      <td>False</td>\n",
       "      <td>False</td>\n",
       "      <td>False</td>\n",
       "      <td>True</td>\n",
       "      <td>False</td>\n",
       "      <td>False</td>\n",
       "      <td>False</td>\n",
       "      <td>False</td>\n",
       "      <td>False</td>\n",
       "      <td>...</td>\n",
       "      <td>False</td>\n",
       "      <td>False</td>\n",
       "      <td>False</td>\n",
       "      <td>False</td>\n",
       "      <td>False</td>\n",
       "      <td>False</td>\n",
       "      <td>False</td>\n",
       "      <td>False</td>\n",
       "      <td>False</td>\n",
       "      <td>False</td>\n",
       "    </tr>\n",
       "    <tr>\n",
       "      <th>106821</th>\n",
       "      <td>False</td>\n",
       "      <td>False</td>\n",
       "      <td>True</td>\n",
       "      <td>False</td>\n",
       "      <td>False</td>\n",
       "      <td>False</td>\n",
       "      <td>False</td>\n",
       "      <td>False</td>\n",
       "      <td>False</td>\n",
       "      <td>False</td>\n",
       "      <td>...</td>\n",
       "      <td>False</td>\n",
       "      <td>False</td>\n",
       "      <td>False</td>\n",
       "      <td>False</td>\n",
       "      <td>False</td>\n",
       "      <td>False</td>\n",
       "      <td>False</td>\n",
       "      <td>False</td>\n",
       "      <td>False</td>\n",
       "      <td>False</td>\n",
       "    </tr>\n",
       "    <tr>\n",
       "      <th>84135</th>\n",
       "      <td>False</td>\n",
       "      <td>False</td>\n",
       "      <td>False</td>\n",
       "      <td>True</td>\n",
       "      <td>False</td>\n",
       "      <td>False</td>\n",
       "      <td>False</td>\n",
       "      <td>False</td>\n",
       "      <td>False</td>\n",
       "      <td>False</td>\n",
       "      <td>...</td>\n",
       "      <td>False</td>\n",
       "      <td>False</td>\n",
       "      <td>False</td>\n",
       "      <td>False</td>\n",
       "      <td>False</td>\n",
       "      <td>False</td>\n",
       "      <td>False</td>\n",
       "      <td>False</td>\n",
       "      <td>False</td>\n",
       "      <td>False</td>\n",
       "    </tr>\n",
       "  </tbody>\n",
       "</table>\n",
       "<p>5 rows × 51 columns</p>\n",
       "</div>"
      ],
      "text/plain": [
       "         java     c#  javascript  python  android    c++    ios   html    php  \\\n",
       "42834   False  False        True   False    False  False  False  False  False   \n",
       "25716   False  False       False   False    False   True  False  False  False   \n",
       "93960    True  False       False   False     True  False  False  False  False   \n",
       "106821  False  False        True   False    False  False  False  False  False   \n",
       "84135   False  False       False    True    False  False  False  False  False   \n",
       "\n",
       "         .net  ...    xml   bash  eclipse  python-3.x  image  unit-testing  \\\n",
       "42834   False  ...  False  False    False       False  False         False   \n",
       "25716   False  ...  False  False    False       False  False         False   \n",
       "93960   False  ...  False  False    False       False  False         False   \n",
       "106821  False  ...  False  False    False       False  False         False   \n",
       "84135   False  ...  False  False    False       False  False         False   \n",
       "\n",
       "        angular  c++11  angularjs    git  \n",
       "42834     False  False      False  False  \n",
       "25716     False  False      False  False  \n",
       "93960     False  False      False  False  \n",
       "106821    False  False      False  False  \n",
       "84135     False  False      False  False  \n",
       "\n",
       "[5 rows x 51 columns]"
      ]
     },
     "execution_count": 18,
     "metadata": {},
     "output_type": "execute_result"
    }
   ],
   "source": [
    "y_train[0:5]"
   ]
  },
  {
   "cell_type": "code",
   "execution_count": 19,
   "id": "1afff4db",
   "metadata": {
    "execution": {
     "iopub.execute_input": "2022-12-15T09:20:14.157962Z",
     "iopub.status.busy": "2022-12-15T09:20:14.157563Z",
     "iopub.status.idle": "2022-12-15T09:20:14.166736Z",
     "shell.execute_reply": "2022-12-15T09:20:14.165279Z"
    },
    "papermill": {
     "duration": 0.025159,
     "end_time": "2022-12-15T09:20:14.169438",
     "exception": false,
     "start_time": "2022-12-15T09:20:14.144279",
     "status": "completed"
    },
    "tags": []
   },
   "outputs": [
    {
     "name": "stdout",
     "output_type": "stream",
     "text": [
      "Début entrainement OvsRest\n"
     ]
    }
   ],
   "source": [
    "print(\"Début entrainement OvsRest\")"
   ]
  },
  {
   "cell_type": "code",
   "execution_count": 20,
   "id": "ab4ff69d",
   "metadata": {
    "execution": {
     "iopub.execute_input": "2022-12-15T09:20:14.193994Z",
     "iopub.status.busy": "2022-12-15T09:20:14.193003Z",
     "iopub.status.idle": "2022-12-15T12:08:09.226614Z",
     "shell.execute_reply": "2022-12-15T12:08:09.225317Z"
    },
    "papermill": {
     "duration": 10075.059589,
     "end_time": "2022-12-15T12:08:09.240136",
     "exception": false,
     "start_time": "2022-12-15T09:20:14.180547",
     "status": "completed"
    },
    "tags": []
   },
   "outputs": [
    {
     "name": "stdout",
     "output_type": "stream",
     "text": [
      "CPU times: user 2h 47min 25s, sys: 11.4 s, total: 2h 47min 36s\n",
      "Wall time: 2h 47min 55s\n"
     ]
    }
   ],
   "source": [
    "%%time\n",
    "warnings.filterwarnings(\"ignore\",category=exceptions.ConvergenceWarning)\n",
    "OvsRestAll = multiclass.OneVsRestClassifier(\n",
    "    svm.SVC(cache_size=1080, max_iter=5_000, random_state=42)\n",
    ").fit(\n",
    "    X_train,\n",
    "    y_train,\n",
    ")"
   ]
  },
  {
   "cell_type": "code",
   "execution_count": 21,
   "id": "8d83c755",
   "metadata": {
    "execution": {
     "iopub.execute_input": "2022-12-15T12:08:09.264882Z",
     "iopub.status.busy": "2022-12-15T12:08:09.264479Z",
     "iopub.status.idle": "2022-12-15T12:08:09.273630Z",
     "shell.execute_reply": "2022-12-15T12:08:09.272463Z"
    },
    "papermill": {
     "duration": 0.024775,
     "end_time": "2022-12-15T12:08:09.276582",
     "exception": false,
     "start_time": "2022-12-15T12:08:09.251807",
     "status": "completed"
    },
    "tags": []
   },
   "outputs": [
    {
     "name": "stdout",
     "output_type": "stream",
     "text": [
      "Fin entrainement OvsRest début prédiction\n"
     ]
    }
   ],
   "source": [
    "print(\"Fin entrainement OvsRest début prédiction\")"
   ]
  },
  {
   "cell_type": "code",
   "execution_count": 22,
   "id": "98708d1d",
   "metadata": {
    "execution": {
     "iopub.execute_input": "2022-12-15T12:08:09.301401Z",
     "iopub.status.busy": "2022-12-15T12:08:09.300955Z",
     "iopub.status.idle": "2022-12-15T13:18:15.368185Z",
     "shell.execute_reply": "2022-12-15T13:18:15.367257Z"
    },
    "papermill": {
     "duration": 4206.100366,
     "end_time": "2022-12-15T13:18:15.388243",
     "exception": false,
     "start_time": "2022-12-15T12:08:09.287877",
     "status": "completed"
    },
    "tags": []
   },
   "outputs": [
    {
     "name": "stdout",
     "output_type": "stream",
     "text": [
      "CPU times: user 1h 10min 16s, sys: 11.8 s, total: 1h 10min 28s\n",
      "Wall time: 1h 10min 6s\n"
     ]
    },
    {
     "data": {
      "text/plain": [
       "array([[0, 0, 0, ..., 0, 0, 0],\n",
       "       [0, 0, 0, ..., 0, 0, 0],\n",
       "       [0, 0, 0, ..., 0, 0, 0],\n",
       "       ...,\n",
       "       [0, 0, 0, ..., 0, 0, 0],\n",
       "       [0, 0, 0, ..., 0, 0, 0],\n",
       "       [0, 0, 0, ..., 0, 0, 0]])"
      ]
     },
     "execution_count": 22,
     "metadata": {},
     "output_type": "execute_result"
    }
   ],
   "source": [
    "%%time\n",
    "pred = OvsRestAll.predict(X_test)\n",
    "pred"
   ]
  },
  {
   "cell_type": "code",
   "execution_count": 23,
   "id": "4ca62743",
   "metadata": {
    "execution": {
     "iopub.execute_input": "2022-12-15T13:18:15.413790Z",
     "iopub.status.busy": "2022-12-15T13:18:15.412663Z",
     "iopub.status.idle": "2022-12-15T13:18:15.609771Z",
     "shell.execute_reply": "2022-12-15T13:18:15.608545Z"
    },
    "papermill": {
     "duration": 0.212342,
     "end_time": "2022-12-15T13:18:15.612070",
     "exception": false,
     "start_time": "2022-12-15T13:18:15.399728",
     "status": "completed"
    },
    "tags": []
   },
   "outputs": [
    {
     "data": {
      "text/html": [
       "<div>\n",
       "<style scoped>\n",
       "    .dataframe tbody tr th:only-of-type {\n",
       "        vertical-align: middle;\n",
       "    }\n",
       "\n",
       "    .dataframe tbody tr th {\n",
       "        vertical-align: top;\n",
       "    }\n",
       "\n",
       "    .dataframe thead th {\n",
       "        text-align: right;\n",
       "    }\n",
       "</style>\n",
       "<table border=\"1\" class=\"dataframe\">\n",
       "  <thead>\n",
       "    <tr style=\"text-align: right;\">\n",
       "      <th></th>\n",
       "      <th>java</th>\n",
       "      <th>c#</th>\n",
       "      <th>javascript</th>\n",
       "      <th>python</th>\n",
       "      <th>android</th>\n",
       "      <th>c++</th>\n",
       "      <th>ios</th>\n",
       "      <th>html</th>\n",
       "      <th>php</th>\n",
       "      <th>.net</th>\n",
       "      <th>...</th>\n",
       "      <th>image</th>\n",
       "      <th>unit-testing</th>\n",
       "      <th>angular</th>\n",
       "      <th>c++11</th>\n",
       "      <th>angularjs</th>\n",
       "      <th>git</th>\n",
       "      <th>micro avg</th>\n",
       "      <th>macro avg</th>\n",
       "      <th>weighted avg</th>\n",
       "      <th>samples avg</th>\n",
       "    </tr>\n",
       "  </thead>\n",
       "  <tbody>\n",
       "    <tr>\n",
       "      <th>precision</th>\n",
       "      <td>0.760667</td>\n",
       "      <td>0.565953</td>\n",
       "      <td>0.652016</td>\n",
       "      <td>0.890451</td>\n",
       "      <td>0.927681</td>\n",
       "      <td>0.848113</td>\n",
       "      <td>0.786850</td>\n",
       "      <td>0.706767</td>\n",
       "      <td>0.859797</td>\n",
       "      <td>0.669202</td>\n",
       "      <td>...</td>\n",
       "      <td>0.574468</td>\n",
       "      <td>0.766467</td>\n",
       "      <td>0.888889</td>\n",
       "      <td>0.794393</td>\n",
       "      <td>0.966667</td>\n",
       "      <td>0.904110</td>\n",
       "      <td>0.771220</td>\n",
       "      <td>0.772529</td>\n",
       "      <td>0.763135</td>\n",
       "      <td>0.527019</td>\n",
       "    </tr>\n",
       "    <tr>\n",
       "      <th>recall</th>\n",
       "      <td>0.641372</td>\n",
       "      <td>0.433631</td>\n",
       "      <td>0.640942</td>\n",
       "      <td>0.703292</td>\n",
       "      <td>0.727628</td>\n",
       "      <td>0.457739</td>\n",
       "      <td>0.591848</td>\n",
       "      <td>0.428490</td>\n",
       "      <td>0.625691</td>\n",
       "      <td>0.112173</td>\n",
       "      <td>...</td>\n",
       "      <td>0.084375</td>\n",
       "      <td>0.406349</td>\n",
       "      <td>0.418301</td>\n",
       "      <td>0.283333</td>\n",
       "      <td>0.417266</td>\n",
       "      <td>0.722628</td>\n",
       "      <td>0.467300</td>\n",
       "      <td>0.404696</td>\n",
       "      <td>0.467300</td>\n",
       "      <td>0.438355</td>\n",
       "    </tr>\n",
       "    <tr>\n",
       "      <th>f1-score</th>\n",
       "      <td>0.695944</td>\n",
       "      <td>0.491034</td>\n",
       "      <td>0.646431</td>\n",
       "      <td>0.785882</td>\n",
       "      <td>0.815566</td>\n",
       "      <td>0.594577</td>\n",
       "      <td>0.675558</td>\n",
       "      <td>0.533523</td>\n",
       "      <td>0.724297</td>\n",
       "      <td>0.192140</td>\n",
       "      <td>...</td>\n",
       "      <td>0.147139</td>\n",
       "      <td>0.531120</td>\n",
       "      <td>0.568889</td>\n",
       "      <td>0.417690</td>\n",
       "      <td>0.582915</td>\n",
       "      <td>0.803245</td>\n",
       "      <td>0.581971</td>\n",
       "      <td>0.508451</td>\n",
       "      <td>0.557639</td>\n",
       "      <td>0.456634</td>\n",
       "    </tr>\n",
       "    <tr>\n",
       "      <th>support</th>\n",
       "      <td>3558.000000</td>\n",
       "      <td>3473.000000</td>\n",
       "      <td>3356.000000</td>\n",
       "      <td>2612.000000</td>\n",
       "      <td>2045.000000</td>\n",
       "      <td>1964.000000</td>\n",
       "      <td>1840.000000</td>\n",
       "      <td>1755.000000</td>\n",
       "      <td>1627.000000</td>\n",
       "      <td>1569.000000</td>\n",
       "      <td>...</td>\n",
       "      <td>320.000000</td>\n",
       "      <td>315.000000</td>\n",
       "      <td>306.000000</td>\n",
       "      <td>300.000000</td>\n",
       "      <td>278.000000</td>\n",
       "      <td>274.000000</td>\n",
       "      <td>45887.000000</td>\n",
       "      <td>45887.000000</td>\n",
       "      <td>45887.000000</td>\n",
       "      <td>45887.000000</td>\n",
       "    </tr>\n",
       "  </tbody>\n",
       "</table>\n",
       "<p>4 rows × 55 columns</p>\n",
       "</div>"
      ],
      "text/plain": [
       "                  java           c#   javascript       python      android  \\\n",
       "precision     0.760667     0.565953     0.652016     0.890451     0.927681   \n",
       "recall        0.641372     0.433631     0.640942     0.703292     0.727628   \n",
       "f1-score      0.695944     0.491034     0.646431     0.785882     0.815566   \n",
       "support    3558.000000  3473.000000  3356.000000  2612.000000  2045.000000   \n",
       "\n",
       "                   c++          ios         html          php         .net  \\\n",
       "precision     0.848113     0.786850     0.706767     0.859797     0.669202   \n",
       "recall        0.457739     0.591848     0.428490     0.625691     0.112173   \n",
       "f1-score      0.594577     0.675558     0.533523     0.724297     0.192140   \n",
       "support    1964.000000  1840.000000  1755.000000  1627.000000  1569.000000   \n",
       "\n",
       "           ...       image  unit-testing     angular       c++11   angularjs  \\\n",
       "precision  ...    0.574468      0.766467    0.888889    0.794393    0.966667   \n",
       "recall     ...    0.084375      0.406349    0.418301    0.283333    0.417266   \n",
       "f1-score   ...    0.147139      0.531120    0.568889    0.417690    0.582915   \n",
       "support    ...  320.000000    315.000000  306.000000  300.000000  278.000000   \n",
       "\n",
       "                  git     micro avg     macro avg  weighted avg   samples avg  \n",
       "precision    0.904110      0.771220      0.772529      0.763135      0.527019  \n",
       "recall       0.722628      0.467300      0.404696      0.467300      0.438355  \n",
       "f1-score     0.803245      0.581971      0.508451      0.557639      0.456634  \n",
       "support    274.000000  45887.000000  45887.000000  45887.000000  45887.000000  \n",
       "\n",
       "[4 rows x 55 columns]"
      ]
     },
     "execution_count": 23,
     "metadata": {},
     "output_type": "execute_result"
    }
   ],
   "source": [
    "# print(\n",
    "#     metrics.classification_report(\n",
    "#         y_test,\n",
    "#         pred,\n",
    "#         target_names=target_names,\n",
    "#         zero_division=0,\n",
    "#     )\n",
    "# )  # zero_division for the warning\n",
    "\n",
    "scores = pd.DataFrame(\n",
    "    metrics.classification_report(\n",
    "        y_test, pred, target_names=target_names, zero_division=0, output_dict=True\n",
    "    )\n",
    ")\n",
    "scores.to_csv(\"/kaggle/working/result_OvsRest.csv\")\n",
    "scores"
   ]
  },
  {
   "cell_type": "markdown",
   "id": "b2ab58c6",
   "metadata": {
    "papermill": {
     "duration": 0.01202,
     "end_time": "2022-12-15T13:18:15.636685",
     "exception": false,
     "start_time": "2022-12-15T13:18:15.624665",
     "status": "completed"
    },
    "tags": []
   },
   "source": [
    "# Word2Vec"
   ]
  },
  {
   "cell_type": "code",
   "execution_count": 24,
   "id": "e03360f9",
   "metadata": {
    "execution": {
     "iopub.execute_input": "2022-12-15T13:18:15.664335Z",
     "iopub.status.busy": "2022-12-15T13:18:15.663386Z",
     "iopub.status.idle": "2022-12-15T13:18:15.677860Z",
     "shell.execute_reply": "2022-12-15T13:18:15.676677Z"
    },
    "papermill": {
     "duration": 0.031868,
     "end_time": "2022-12-15T13:18:15.680876",
     "exception": false,
     "start_time": "2022-12-15T13:18:15.649008",
     "status": "completed"
    },
    "tags": []
   },
   "outputs": [
    {
     "data": {
      "text/plain": [
       "0     process array process arraypiece c++ code show...\n",
       "1     undo commit gitcommit file git push commit ser...\n",
       "2     delete git branchdelete remote origin bugfix b...\n",
       "3     difference git pull git fetchdifference git pu...\n",
       "4     operator c++read hidden features dark corners ...\n",
       "5                                            stack heap\n",
       "6     force git pull overwrite fileforce overwrite f...\n",
       "7     check element hide jquerytoggle visibility ele...\n",
       "8     use javascript reasoningrun javascript code cr...\n",
       "9     _ _ _ = _ _include statement try close questio...\n",
       "10    modify exist commit messagewrite thing commit ...\n",
       "11    javascript closure workexplain javascript clos...\n",
       "12    revert git repository commitrevert state snaps...\n",
       "13    java pass reference pass valuethink java use p...\n",
       "14    var functionname function vs function function...\n",
       "15           difference string string c #difference use\n",
       "16                          metaclasse pythonmetaclasse\n",
       "17    find file contain text string linuxfind file c...\n",
       "18    difference px dip spdifference unit measure px...\n",
       "19    difference post httpaccord rfc post create res...\n",
       "20    include javascript file javascript fileinclude...\n",
       "21    difference let varecmascript introduce stateme...\n",
       "22    disable text selection highlightinganchor act ...\n",
       "23    execute program system commandcommand python t...\n",
       "24    equal operator vs javascript comparisonjslint ...\n",
       "25    guide form base website authenticationquestion...\n",
       "26     loop array javascriptloop entry array javascript\n",
       "27    validate email address javascriptlike check us...\n",
       "28    create nest directorycheck directory file go w...\n",
       "29    push branch git repository trackcreate branch ...\n",
       "30    explanation o notationprefer definition mathem...\n",
       "31    resolve merge conflict git repositoryresolve m...\n",
       "32                             differenceleave join fit\n",
       "33    check checkbox check jqueryneed check check pr...\n",
       "34    reference symbol mean phpcollection question c...\n",
       "35                         center elementcenter div css\n",
       "36    list list listlist list like flatten list list...\n",
       "37                squash n commitsquash n commit commit\n",
       "38    letter string uppercase javascriptletter strin...\n",
       "39         difference uri url urndifference url uri urn\n",
       "40    difference tilde(~ caret(^ package.jsonupgrade...\n",
       "41    pass surname web service actionscriptemployee ...\n",
       "42    check array include value javascriptway find j...\n",
       "43    clone branchmaster development branch track gi...\n",
       "44    timestamp javascriptwant number represent date...\n",
       "45    read convert inputstream string javajava.io in...\n",
       "46    update sync fork repository githubfork project...\n",
       "47    set check checkbox jquerylike like tick checkb...\n",
       "48    @classmethod vs @staticmethod pythondifference...\n",
       "49    google prepend while(1 json responsegoogle pre...\n",
       "Name: Token, dtype: object"
      ]
     },
     "execution_count": 24,
     "metadata": {},
     "output_type": "execute_result"
    }
   ],
   "source": [
    "df[0:50][\"Token\"]"
   ]
  },
  {
   "cell_type": "code",
   "execution_count": 25,
   "id": "07aff9af",
   "metadata": {
    "_kg_hide-output": true,
    "collapsed": true,
    "execution": {
     "iopub.execute_input": "2022-12-15T13:18:15.708730Z",
     "iopub.status.busy": "2022-12-15T13:18:15.707696Z",
     "iopub.status.idle": "2022-12-15T13:18:16.784665Z",
     "shell.execute_reply": "2022-12-15T13:18:16.783314Z"
    },
    "jupyter": {
     "outputs_hidden": true
    },
    "papermill": {
     "duration": 1.094061,
     "end_time": "2022-12-15T13:18:16.787713",
     "exception": false,
     "start_time": "2022-12-15T13:18:15.693652",
     "status": "completed"
    },
    "tags": []
   },
   "outputs": [],
   "source": [
    "sentences = [gensim.utils.simple_preprocess(text) for text in df[0:20000][\"Token\"]]\n",
    "#sentences"
   ]
  },
  {
   "cell_type": "code",
   "execution_count": 26,
   "id": "75f5b643",
   "metadata": {
    "execution": {
     "iopub.execute_input": "2022-12-15T13:18:16.813771Z",
     "iopub.status.busy": "2022-12-15T13:18:16.813363Z",
     "iopub.status.idle": "2022-12-15T13:18:16.819354Z",
     "shell.execute_reply": "2022-12-15T13:18:16.818119Z"
    },
    "papermill": {
     "duration": 0.021791,
     "end_time": "2022-12-15T13:18:16.821688",
     "exception": false,
     "start_time": "2022-12-15T13:18:16.799897",
     "status": "completed"
    },
    "tags": []
   },
   "outputs": [],
   "source": [
    "# gensim.corpora.Dictionary(token[\"Token\"])"
   ]
  },
  {
   "cell_type": "code",
   "execution_count": 27,
   "id": "a171d3ae",
   "metadata": {
    "execution": {
     "iopub.execute_input": "2022-12-15T13:18:16.848204Z",
     "iopub.status.busy": "2022-12-15T13:18:16.847777Z",
     "iopub.status.idle": "2022-12-15T13:18:22.966378Z",
     "shell.execute_reply": "2022-12-15T13:18:22.965127Z"
    },
    "papermill": {
     "duration": 6.135451,
     "end_time": "2022-12-15T13:18:22.969573",
     "exception": false,
     "start_time": "2022-12-15T13:18:16.834122",
     "status": "completed"
    },
    "tags": []
   },
   "outputs": [],
   "source": [
    "from tensorflow import keras"
   ]
  },
  {
   "cell_type": "code",
   "execution_count": 28,
   "id": "0c454fd0",
   "metadata": {
    "execution": {
     "iopub.execute_input": "2022-12-15T13:18:22.997160Z",
     "iopub.status.busy": "2022-12-15T13:18:22.996419Z",
     "iopub.status.idle": "2022-12-15T13:22:05.669780Z",
     "shell.execute_reply": "2022-12-15T13:22:05.668838Z"
    },
    "papermill": {
     "duration": 222.702944,
     "end_time": "2022-12-15T13:22:05.685059",
     "exception": false,
     "start_time": "2022-12-15T13:18:22.982115",
     "status": "completed"
    },
    "tags": []
   },
   "outputs": [
    {
     "name": "stdout",
     "output_type": "stream",
     "text": [
      "Build & train Word2Vec model ...\n",
      "Vocabulary size: 35610\n",
      "Word2Vec trained\n"
     ]
    }
   ],
   "source": [
    "print(\"Build & train Word2Vec model ...\")\n",
    "w2v_min_count = 1\n",
    "w2v_size = 300\n",
    "w2v_window = 5\n",
    "w2v_epochs = 100\n",
    "maxlen = 24\n",
    "w2v_model = gensim.models.Word2Vec(\n",
    "    min_count=w2v_min_count, window=w2v_window, vector_size=w2v_size, seed=42, workers=1\n",
    ")\n",
    "#                                                workers=multiprocessing.cpu_count())\n",
    "w2v_model.build_vocab(sentences)\n",
    "w2v_model.train(sentences, total_examples=w2v_model.corpus_count, epochs=w2v_epochs)\n",
    "model_vectors = w2v_model.wv\n",
    "w2v_words = model_vectors.index_to_key\n",
    "print(\"Vocabulary size: %i\" % len(w2v_words))\n",
    "print(\"Word2Vec trained\")"
   ]
  },
  {
   "cell_type": "code",
   "execution_count": 29,
   "id": "1dde2f9c",
   "metadata": {
    "execution": {
     "iopub.execute_input": "2022-12-15T13:22:05.711667Z",
     "iopub.status.busy": "2022-12-15T13:22:05.711253Z",
     "iopub.status.idle": "2022-12-15T13:22:08.087052Z",
     "shell.execute_reply": "2022-12-15T13:22:08.085002Z"
    },
    "papermill": {
     "duration": 2.392308,
     "end_time": "2022-12-15T13:22:08.089804",
     "exception": false,
     "start_time": "2022-12-15T13:22:05.697496",
     "status": "completed"
    },
    "tags": []
   },
   "outputs": [
    {
     "name": "stdout",
     "output_type": "stream",
     "text": [
      "Number of unique words: 35611\n"
     ]
    }
   ],
   "source": [
    "tokenizer = keras.preprocessing.text.Tokenizer()\n",
    "tokenizer.fit_on_texts(sentences)\n",
    "x_sentences = keras.preprocessing.sequence.pad_sequences(\n",
    "    tokenizer.texts_to_sequences(sentences), maxlen=maxlen, padding=\"post\"\n",
    ")\n",
    "\n",
    "num_words = len(tokenizer.word_index) + 1\n",
    "print(\"Number of unique words: %i\" % num_words)"
   ]
  },
  {
   "cell_type": "markdown",
   "id": "645d615a",
   "metadata": {
    "papermill": {
     "duration": 0.011945,
     "end_time": "2022-12-15T13:22:08.114281",
     "exception": false,
     "start_time": "2022-12-15T13:22:08.102336",
     "status": "completed"
    },
    "tags": []
   },
   "source": [
    "# BERT"
   ]
  },
  {
   "cell_type": "markdown",
   "id": "32f7ff8b",
   "metadata": {
    "papermill": {
     "duration": 0.011951,
     "end_time": "2022-12-15T13:22:08.138714",
     "exception": false,
     "start_time": "2022-12-15T13:22:08.126763",
     "status": "completed"
    },
    "tags": []
   },
   "source": [
    "# USE"
   ]
  }
 ],
 "metadata": {
  "kernelspec": {
   "display_name": "Python 3",
   "language": "python",
   "name": "python3"
  },
  "language_info": {
   "codemirror_mode": {
    "name": "ipython",
    "version": 3
   },
   "file_extension": ".py",
   "mimetype": "text/x-python",
   "name": "python",
   "nbconvert_exporter": "python",
   "pygments_lexer": "ipython3",
   "version": "3.7.12"
  },
  "papermill": {
   "default_parameters": {},
   "duration": 14565.625373,
   "end_time": "2022-12-15T13:22:10.897635",
   "environment_variables": {},
   "exception": null,
   "input_path": "__notebook__.ipynb",
   "output_path": "__notebook__.ipynb",
   "parameters": {},
   "start_time": "2022-12-15T09:19:25.272262",
   "version": "2.3.4"
  },
  "widgets": {
   "application/vnd.jupyter.widget-state+json": {
    "state": {
     "463ce981a06e451785d3dc6a52eaf724": {
      "model_module": "@jupyter-widgets/base",
      "model_module_version": "1.2.0",
      "model_name": "LayoutModel",
      "state": {
       "_model_module": "@jupyter-widgets/base",
       "_model_module_version": "1.2.0",
       "_model_name": "LayoutModel",
       "_view_count": null,
       "_view_module": "@jupyter-widgets/base",
       "_view_module_version": "1.2.0",
       "_view_name": "LayoutView",
       "align_content": null,
       "align_items": null,
       "align_self": null,
       "border": null,
       "bottom": null,
       "display": null,
       "flex": null,
       "flex_flow": null,
       "grid_area": null,
       "grid_auto_columns": null,
       "grid_auto_flow": null,
       "grid_auto_rows": null,
       "grid_column": null,
       "grid_gap": null,
       "grid_row": null,
       "grid_template_areas": null,
       "grid_template_columns": null,
       "grid_template_rows": null,
       "height": null,
       "justify_content": null,
       "justify_items": null,
       "left": null,
       "margin": null,
       "max_height": null,
       "max_width": null,
       "min_height": null,
       "min_width": null,
       "object_fit": null,
       "object_position": null,
       "order": null,
       "overflow": null,
       "overflow_x": null,
       "overflow_y": null,
       "padding": null,
       "right": null,
       "top": null,
       "visibility": null,
       "width": null
      }
     },
     "4eee3d78c76949ca83992a0f9385191b": {
      "model_module": "@jupyter-widgets/controls",
      "model_module_version": "1.5.0",
      "model_name": "SliderStyleModel",
      "state": {
       "_model_module": "@jupyter-widgets/controls",
       "_model_module_version": "1.5.0",
       "_model_name": "SliderStyleModel",
       "_view_count": null,
       "_view_module": "@jupyter-widgets/base",
       "_view_module_version": "1.2.0",
       "_view_name": "StyleView",
       "description_width": "",
       "handle_color": null
      }
     },
     "57551ba6e97d414c955b938d0e75094a": {
      "model_module": "@jupyter-widgets/output",
      "model_module_version": "1.0.0",
      "model_name": "OutputModel",
      "state": {
       "_dom_classes": [],
       "_model_module": "@jupyter-widgets/output",
       "_model_module_version": "1.0.0",
       "_model_name": "OutputModel",
       "_view_count": null,
       "_view_module": "@jupyter-widgets/output",
       "_view_module_version": "1.0.0",
       "_view_name": "OutputView",
       "layout": "IPY_MODEL_d6fb8ccf56004b3a9dfa5175987b0805",
       "msg_id": "",
       "outputs": [
        {
         "name": "stdout",
         "output_type": "stream",
         "text": "Title:How to change culture to a DateTimepicker or calendar control in .Net\n******************************\nTitle_clean:change culture datetimepicker calendar control\n******************************\nBody:<p>How to set internationalization to a <code>DateTimepicker</code> or <code>Calendar WinForm</code> control in .Net when the desire culture is different to the one installed in the PC?</p>\n\n******************************\nBody_clean:set internationalization datetimepicker calendar winform control .net desire culture instal pc\n******************************\nCode:DateTimepicker Calendar WinForm\n******************************\nTags:c# .net internationalization datetimepicker culture\n"
        }
       ]
      }
     },
     "7f0b9430153745d6aa2ec69afe85af70": {
      "model_module": "@jupyter-widgets/base",
      "model_module_version": "1.2.0",
      "model_name": "LayoutModel",
      "state": {
       "_model_module": "@jupyter-widgets/base",
       "_model_module_version": "1.2.0",
       "_model_name": "LayoutModel",
       "_view_count": null,
       "_view_module": "@jupyter-widgets/base",
       "_view_module_version": "1.2.0",
       "_view_name": "LayoutView",
       "align_content": null,
       "align_items": null,
       "align_self": null,
       "border": null,
       "bottom": null,
       "display": null,
       "flex": null,
       "flex_flow": null,
       "grid_area": null,
       "grid_auto_columns": null,
       "grid_auto_flow": null,
       "grid_auto_rows": null,
       "grid_column": null,
       "grid_gap": null,
       "grid_row": null,
       "grid_template_areas": null,
       "grid_template_columns": null,
       "grid_template_rows": null,
       "height": null,
       "justify_content": null,
       "justify_items": null,
       "left": null,
       "margin": null,
       "max_height": null,
       "max_width": null,
       "min_height": null,
       "min_width": null,
       "object_fit": null,
       "object_position": null,
       "order": null,
       "overflow": null,
       "overflow_x": null,
       "overflow_y": null,
       "padding": null,
       "right": null,
       "top": null,
       "visibility": null,
       "width": null
      }
     },
     "8f0b8a94f90f4d74bc47a35da0fdaba8": {
      "model_module": "@jupyter-widgets/controls",
      "model_module_version": "1.5.0",
      "model_name": "VBoxModel",
      "state": {
       "_dom_classes": [
        "widget-interact"
       ],
       "_model_module": "@jupyter-widgets/controls",
       "_model_module_version": "1.5.0",
       "_model_name": "VBoxModel",
       "_view_count": null,
       "_view_module": "@jupyter-widgets/controls",
       "_view_module_version": "1.5.0",
       "_view_name": "VBoxView",
       "box_style": "",
       "children": [
        "IPY_MODEL_a5ad7a73827d496aa13ccbcdf9fff1d3",
        "IPY_MODEL_57551ba6e97d414c955b938d0e75094a"
       ],
       "layout": "IPY_MODEL_463ce981a06e451785d3dc6a52eaf724"
      }
     },
     "a5ad7a73827d496aa13ccbcdf9fff1d3": {
      "model_module": "@jupyter-widgets/controls",
      "model_module_version": "1.5.0",
      "model_name": "IntSliderModel",
      "state": {
       "_dom_classes": [],
       "_model_module": "@jupyter-widgets/controls",
       "_model_module_version": "1.5.0",
       "_model_name": "IntSliderModel",
       "_view_count": null,
       "_view_module": "@jupyter-widgets/controls",
       "_view_module_version": "1.5.0",
       "_view_name": "IntSliderView",
       "continuous_update": true,
       "description": "i",
       "description_tooltip": null,
       "disabled": false,
       "layout": "IPY_MODEL_7f0b9430153745d6aa2ec69afe85af70",
       "max": 118441,
       "min": 0,
       "orientation": "horizontal",
       "readout": true,
       "readout_format": "d",
       "step": 1,
       "style": "IPY_MODEL_4eee3d78c76949ca83992a0f9385191b",
       "value": 59220
      }
     },
     "d6fb8ccf56004b3a9dfa5175987b0805": {
      "model_module": "@jupyter-widgets/base",
      "model_module_version": "1.2.0",
      "model_name": "LayoutModel",
      "state": {
       "_model_module": "@jupyter-widgets/base",
       "_model_module_version": "1.2.0",
       "_model_name": "LayoutModel",
       "_view_count": null,
       "_view_module": "@jupyter-widgets/base",
       "_view_module_version": "1.2.0",
       "_view_name": "LayoutView",
       "align_content": null,
       "align_items": null,
       "align_self": null,
       "border": null,
       "bottom": null,
       "display": null,
       "flex": null,
       "flex_flow": null,
       "grid_area": null,
       "grid_auto_columns": null,
       "grid_auto_flow": null,
       "grid_auto_rows": null,
       "grid_column": null,
       "grid_gap": null,
       "grid_row": null,
       "grid_template_areas": null,
       "grid_template_columns": null,
       "grid_template_rows": null,
       "height": null,
       "justify_content": null,
       "justify_items": null,
       "left": null,
       "margin": null,
       "max_height": null,
       "max_width": null,
       "min_height": null,
       "min_width": null,
       "object_fit": null,
       "object_position": null,
       "order": null,
       "overflow": null,
       "overflow_x": null,
       "overflow_y": null,
       "padding": null,
       "right": null,
       "top": null,
       "visibility": null,
       "width": null
      }
     }
    },
    "version_major": 2,
    "version_minor": 0
   }
  }
 },
 "nbformat": 4,
 "nbformat_minor": 5
}
