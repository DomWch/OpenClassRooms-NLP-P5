{
 "cells": [
  {
   "cell_type": "markdown",
   "id": "170d6bb0",
   "metadata": {
    "papermill": {
     "duration": 0.015451,
     "end_time": "2022-12-18T14:56:05.959447",
     "exception": false,
     "start_time": "2022-12-18T14:56:05.943996",
     "status": "completed"
    },
    "tags": []
   },
   "source": [
    "# Index\n",
    "* [Import](#index)\n",
    "* [Tokenization](#Tokenization)\n",
    "* [CountVectorizer](#CountVectorizer)\n",
    "* [Tfidf](#Tfidf)\n",
    "* [OvsRest](#OvsRest)\n",
    "    - [LogisticRegression](#LogisticRegression)\n",
    "    - [SVC](#SVC)\n",
    "* [Word2Vec](#Word2Vec)\n",
    "* [BERT](#BERT)\n",
    "* [USE](#USE)"
   ]
  },
  {
   "cell_type": "code",
   "execution_count": 1,
   "id": "571ea645",
   "metadata": {
    "_cell_guid": "b1076dfc-b9ad-4769-8c92-a6c4dae69d19",
    "_uuid": "8f2839f25d086af736a60e9eeb907d3b93b6e0e5",
    "execution": {
     "iopub.execute_input": "2022-12-18T14:56:05.992047Z",
     "iopub.status.busy": "2022-12-18T14:56:05.991291Z",
     "iopub.status.idle": "2022-12-18T14:56:12.431256Z",
     "shell.execute_reply": "2022-12-18T14:56:12.430144Z"
    },
    "papermill": {
     "duration": 6.460098,
     "end_time": "2022-12-18T14:56:12.434012",
     "exception": false,
     "start_time": "2022-12-18T14:56:05.973914",
     "status": "completed"
    },
    "tags": []
   },
   "outputs": [],
   "source": [
    "import time\n",
    "#from joblib import dump #, load, Memory \n",
    "import joblib\n",
    "# import warnings\n",
    "\n",
    "import numpy as np\n",
    "import pandas as pd\n",
    "import gensim\n",
    "\n",
    "# from gensim import (\n",
    "#     corpora,\n",
    "# )  # https://pypi.org/project/gensim/ #https://radimrehurek.com/gensim/auto_examples/core/run_topics_and_transformations.html#sphx-glr-auto-examples-core-run-topics-and-transformations-py\n",
    "from sklearn import (\n",
    "    metrics,\n",
    "    feature_extraction,\n",
    "    linear_model,\n",
    "    model_selection,\n",
    "    preprocessing,\n",
    "    cluster,\n",
    "    multiclass,\n",
    "    svm,\n",
    "    pipeline,\n",
    "    exceptions,\n",
    "    manifold,\n",
    ")\n",
    "from sklearn.utils._testing import ignore_warnings\n",
    "from tensorflow import keras\n",
    "\n",
    "# import nlpk"
   ]
  },
  {
   "cell_type": "code",
   "execution_count": 2,
   "id": "b8a175d0",
   "metadata": {
    "execution": {
     "iopub.execute_input": "2022-12-18T14:56:12.463868Z",
     "iopub.status.busy": "2022-12-18T14:56:12.463197Z",
     "iopub.status.idle": "2022-12-18T14:56:12.469033Z",
     "shell.execute_reply": "2022-12-18T14:56:12.468278Z"
    },
    "papermill": {
     "duration": 0.023152,
     "end_time": "2022-12-18T14:56:12.471015",
     "exception": false,
     "start_time": "2022-12-18T14:56:12.447863",
     "status": "completed"
    },
    "tags": []
   },
   "outputs": [],
   "source": [
    "class colors:\n",
    "    PURPLE = \"\\033[95m\"\n",
    "    BLUE = \"\\033[94m\"\n",
    "    CYAN = \"\\033[96m\"\n",
    "    GREEN = \"\\033[92m\"\n",
    "    YELLOW = \"\\033[93m\"\n",
    "    RED = \"\\033[91m\"\n",
    "    ENDC = \"\\033[0m\"\n",
    "    BOLD = \"\\033[1m\"\n",
    "    UNDERLINE = \"\\033[4m\""
   ]
  },
  {
   "cell_type": "markdown",
   "id": "4891436b",
   "metadata": {
    "papermill": {
     "duration": 0.01339,
     "end_time": "2022-12-18T14:56:12.497952",
     "exception": false,
     "start_time": "2022-12-18T14:56:12.484562",
     "status": "completed"
    },
    "tags": []
   },
   "source": [
    "test https://scikit-learn.org/stable/modules/multiclass.html autre stategie que OneVsRest\n",
    "https://keras.io/examples/nlp/text_extraction_with_bert/"
   ]
  },
  {
   "cell_type": "code",
   "execution_count": 3,
   "id": "b5bc0950",
   "metadata": {
    "_kg_hide-output": true,
    "execution": {
     "iopub.execute_input": "2022-12-18T14:56:12.527678Z",
     "iopub.status.busy": "2022-12-18T14:56:12.526504Z",
     "iopub.status.idle": "2022-12-18T14:56:25.942407Z",
     "shell.execute_reply": "2022-12-18T14:56:25.940607Z"
    },
    "papermill": {
     "duration": 13.433467,
     "end_time": "2022-12-18T14:56:25.945104",
     "exception": false,
     "start_time": "2022-12-18T14:56:12.511637",
     "status": "completed"
    },
    "tags": []
   },
   "outputs": [
    {
     "name": "stdout",
     "output_type": "stream",
     "text": [
      "\u001b[33mWARNING: Running pip as the 'root' user can result in broken permissions and conflicting behaviour with the system package manager. It is recommended to use a virtual environment instead: https://pip.pypa.io/warnings/venv\u001b[0m\u001b[33m\r\n",
      "\u001b[0mNote: you may need to restart the kernel to use updated packages.\n"
     ]
    }
   ],
   "source": [
    "pip install -q jupyter-black jupyter"
   ]
  },
  {
   "cell_type": "code",
   "execution_count": 4,
   "id": "2dda9240",
   "metadata": {
    "execution": {
     "iopub.execute_input": "2022-12-18T14:56:25.975848Z",
     "iopub.status.busy": "2022-12-18T14:56:25.975412Z",
     "iopub.status.idle": "2022-12-18T14:56:26.142061Z",
     "shell.execute_reply": "2022-12-18T14:56:26.140867Z"
    },
    "papermill": {
     "duration": 0.185408,
     "end_time": "2022-12-18T14:56:26.144917",
     "exception": false,
     "start_time": "2022-12-18T14:56:25.959509",
     "status": "completed"
    },
    "tags": []
   },
   "outputs": [
    {
     "data": {
      "text/html": [
       "\n",
       "                <script type=\"application/javascript\" id=\"jupyter_black\">\n",
       "                (function() {\n",
       "                    if (window.IPython === undefined) {\n",
       "                        return\n",
       "                    }\n",
       "                    var msg = \"WARNING: it looks like you might have loaded \" +\n",
       "                        \"jupyter_black in a non-lab notebook with \" +\n",
       "                        \"`is_lab=True`. Please double check, and if \" +\n",
       "                        \"loading with `%load_ext` please review the README!\"\n",
       "                    console.log(msg)\n",
       "                    alert(msg)\n",
       "                })()\n",
       "                </script>\n",
       "                "
      ],
      "text/plain": [
       "<IPython.core.display.HTML object>"
      ]
     },
     "metadata": {},
     "output_type": "display_data"
    }
   ],
   "source": [
    "# for black formating\n",
    "import jupyter_black  # pip install jupyter-black jupyter\n",
    "\n",
    "jupyter_black.load()\n",
    "# ??jupyter_black.load #show config"
   ]
  },
  {
   "cell_type": "code",
   "execution_count": 5,
   "id": "870dcced",
   "metadata": {
    "execution": {
     "iopub.execute_input": "2022-12-18T14:56:26.174965Z",
     "iopub.status.busy": "2022-12-18T14:56:26.174559Z",
     "iopub.status.idle": "2022-12-18T14:56:35.728987Z",
     "shell.execute_reply": "2022-12-18T14:56:35.727524Z"
    },
    "papermill": {
     "duration": 9.572137,
     "end_time": "2022-12-18T14:56:35.731352",
     "exception": false,
     "start_time": "2022-12-18T14:56:26.159215",
     "status": "completed"
    },
    "tags": []
   },
   "outputs": [
    {
     "name": "stdout",
     "output_type": "stream",
     "text": [
      "<class 'pandas.core.frame.DataFrame'>\n",
      "Int64Index: 118442 entries, 0 to 118441\n",
      "Data columns (total 12 columns):\n",
      " #   Column       Non-Null Count   Dtype \n",
      "---  ------       --------------   ----- \n",
      " 0   Id           118442 non-null  int64 \n",
      " 1   Title        118442 non-null  object\n",
      " 2   Body         118442 non-null  object\n",
      " 3   0            118440 non-null  object\n",
      " 4   1            118383 non-null  object\n",
      " 5   2            118292 non-null  object\n",
      " 6   3            118292 non-null  object\n",
      " 7   4            76389 non-null   object\n",
      " 8   5            4 non-null       object\n",
      " 9   Title_clean  118389 non-null  object\n",
      " 10  Code         88202 non-null   object\n",
      " 11  Body_clean   118392 non-null  object\n",
      "dtypes: int64(1), object(11)\n",
      "memory usage: 11.7+ MB\n"
     ]
    }
   ],
   "source": [
    "LONG = False\n",
    "df = pd.read_csv(\n",
    "    \"/kaggle/input/p5-nlp/stackoverflowCleaned.csv\", index_col=0, low_memory=False\n",
    ")\n",
    "df.info()"
   ]
  },
  {
   "cell_type": "markdown",
   "id": "1dbb985d",
   "metadata": {
    "papermill": {
     "duration": 0.014057,
     "end_time": "2022-12-18T14:56:35.760381",
     "exception": false,
     "start_time": "2022-12-18T14:56:35.746324",
     "status": "completed"
    },
    "tags": []
   },
   "source": [
    "# Tokenization"
   ]
  },
  {
   "cell_type": "code",
   "execution_count": 6,
   "id": "47b47f66",
   "metadata": {
    "execution": {
     "iopub.execute_input": "2022-12-18T14:56:35.790375Z",
     "iopub.status.busy": "2022-12-18T14:56:35.789913Z",
     "iopub.status.idle": "2022-12-18T14:56:35.940425Z",
     "shell.execute_reply": "2022-12-18T14:56:35.939439Z"
    },
    "papermill": {
     "duration": 0.168606,
     "end_time": "2022-12-18T14:56:35.943186",
     "exception": false,
     "start_time": "2022-12-18T14:56:35.774580",
     "status": "completed"
    },
    "tags": []
   },
   "outputs": [
    {
     "data": {
      "application/vnd.jupyter.widget-view+json": {
       "model_id": "9dbf087eddc148d9ab431e04ea3254ee",
       "version_major": 2,
       "version_minor": 0
      },
      "text/plain": [
       "interactive(children=(IntSlider(value=59220, description='i', max=118441), Output()), _dom_classes=('widget-in…"
      ]
     },
     "metadata": {},
     "output_type": "display_data"
    }
   ],
   "source": [
    "from ipywidgets import interact\n",
    "\n",
    "\n",
    "@interact(i=(0, df.shape[0] - 1))\n",
    "def test_tr_print(i):\n",
    "    print(\n",
    "        f'Title:{df[\"Title\"][i]}\\n{\"*\"*30}\\nTitle_clean:{df[\"Title_clean\"][i]}\\n{\"*\"*30}\\nBody:{df[\"Body\"][i]}\\n{\"*\"*30}\\nBody_clean:{df[\"Body_clean\"][i]}\\n{\"*\"*30}\\nCode:{df[\"Code\"][i]}\\n{\"*\"*30}\\nTags:{df.loc[i,\"0\"]} {df.loc[i,\"1\"]} {df.loc[i,\"2\"]} {df.loc[i,\"3\"]} {df.loc[i,\"4\"]}'\n",
    "    )"
   ]
  },
  {
   "cell_type": "code",
   "execution_count": 7,
   "id": "fc602eb7",
   "metadata": {
    "execution": {
     "iopub.execute_input": "2022-12-18T14:56:35.974997Z",
     "iopub.status.busy": "2022-12-18T14:56:35.974459Z",
     "iopub.status.idle": "2022-12-18T14:56:36.004662Z",
     "shell.execute_reply": "2022-12-18T14:56:36.003896Z"
    },
    "papermill": {
     "duration": 0.048538,
     "end_time": "2022-12-18T14:56:36.007018",
     "exception": false,
     "start_time": "2022-12-18T14:56:35.958480",
     "status": "completed"
    },
    "tags": []
   },
   "outputs": [
    {
     "data": {
      "text/plain": [
       "53"
      ]
     },
     "execution_count": 7,
     "metadata": {},
     "output_type": "execute_result"
    }
   ],
   "source": [
    "sum(df[\"Title_clean\"].isna())"
   ]
  },
  {
   "cell_type": "code",
   "execution_count": 8,
   "id": "304ac2d2",
   "metadata": {
    "execution": {
     "iopub.execute_input": "2022-12-18T14:56:36.039034Z",
     "iopub.status.busy": "2022-12-18T14:56:36.037835Z",
     "iopub.status.idle": "2022-12-18T14:56:36.078236Z",
     "shell.execute_reply": "2022-12-18T14:56:36.076923Z"
    },
    "papermill": {
     "duration": 0.058911,
     "end_time": "2022-12-18T14:56:36.080738",
     "exception": false,
     "start_time": "2022-12-18T14:56:36.021827",
     "status": "completed"
    },
    "tags": []
   },
   "outputs": [
    {
     "data": {
      "text/html": [
       "<div>\n",
       "<style scoped>\n",
       "    .dataframe tbody tr th:only-of-type {\n",
       "        vertical-align: middle;\n",
       "    }\n",
       "\n",
       "    .dataframe tbody tr th {\n",
       "        vertical-align: top;\n",
       "    }\n",
       "\n",
       "    .dataframe thead th {\n",
       "        text-align: right;\n",
       "    }\n",
       "</style>\n",
       "<table border=\"1\" class=\"dataframe\">\n",
       "  <thead>\n",
       "    <tr style=\"text-align: right;\">\n",
       "      <th></th>\n",
       "      <th>Title</th>\n",
       "      <th>Title_clean</th>\n",
       "      <th>Body</th>\n",
       "      <th>Body_clean</th>\n",
       "      <th>0</th>\n",
       "      <th>1</th>\n",
       "      <th>2</th>\n",
       "      <th>3</th>\n",
       "      <th>4</th>\n",
       "    </tr>\n",
       "  </thead>\n",
       "  <tbody>\n",
       "    <tr>\n",
       "      <th>302</th>\n",
       "      <td>Is &lt; faster than &lt;=?</td>\n",
       "      <td>NaN</td>\n",
       "      <td>&lt;p&gt;Is &lt;code&gt;if (a &amp;lt; 901)&lt;/code&gt; faster than...</td>\n",
       "      <td>example performance change loop code suppose g...</td>\n",
       "      <td>c++</td>\n",
       "      <td>c</td>\n",
       "      <td>performance</td>\n",
       "      <td>assembly</td>\n",
       "      <td>relational-operators</td>\n",
       "    </tr>\n",
       "    <tr>\n",
       "      <th>393</th>\n",
       "      <td>What is setup.py?</td>\n",
       "      <td>NaN</td>\n",
       "      <td>&lt;p&gt;What is &lt;code&gt;setup.py&lt;/code&gt; and how can i...</td>\n",
       "      <td>configure</td>\n",
       "      <td>python</td>\n",
       "      <td>pypi</td>\n",
       "      <td>setup.py</td>\n",
       "      <td>python-packaging</td>\n",
       "      <td>NaN</td>\n",
       "    </tr>\n",
       "    <tr>\n",
       "      <th>1437</th>\n",
       "      <td>What is related_name used for?</td>\n",
       "      <td>NaN</td>\n",
       "      <td>&lt;p&gt;What is the &lt;code&gt;related_name&lt;/code&gt; argum...</td>\n",
       "      <td>argument manytomanyfield foreignkey field exam...</td>\n",
       "      <td>python</td>\n",
       "      <td>django</td>\n",
       "      <td>foreign-keys</td>\n",
       "      <td>many-to-many</td>\n",
       "      <td>NaN</td>\n",
       "    </tr>\n",
       "    <tr>\n",
       "      <th>4062</th>\n",
       "      <td>What is \"android:allowBackup\"?</td>\n",
       "      <td>NaN</td>\n",
       "      <td>&lt;p&gt;Since the &lt;a href=\"http://tools.android.com...</td>\n",
       "      <td>adt preview version version lint warning tell ...</td>\n",
       "      <td>android</td>\n",
       "      <td>adt</td>\n",
       "      <td>compiler-warnings</td>\n",
       "      <td>android-lint</td>\n",
       "      <td>android-backup-service</td>\n",
       "    </tr>\n",
       "    <tr>\n",
       "      <th>4870</th>\n",
       "      <td>Why is 0 &lt; -0x80000000?</td>\n",
       "      <td>NaN</td>\n",
       "      <td>&lt;p&gt;I have below a simple program:&lt;/p&gt;\\n\\n&lt;pre&gt;...</td>\n",
       "      <td>program condition if(bal int32_min work change...</td>\n",
       "      <td>c</td>\n",
       "      <td>signed</td>\n",
       "      <td>numeric-limits</td>\n",
       "      <td>numeric-conversion</td>\n",
       "      <td>NaN</td>\n",
       "    </tr>\n",
       "  </tbody>\n",
       "</table>\n",
       "</div>"
      ],
      "text/plain": [
       "                               Title Title_clean  \\\n",
       "302             Is < faster than <=?         NaN   \n",
       "393                What is setup.py?         NaN   \n",
       "1437  What is related_name used for?         NaN   \n",
       "4062  What is \"android:allowBackup\"?         NaN   \n",
       "4870         Why is 0 < -0x80000000?         NaN   \n",
       "\n",
       "                                                   Body  \\\n",
       "302   <p>Is <code>if (a &lt; 901)</code> faster than...   \n",
       "393   <p>What is <code>setup.py</code> and how can i...   \n",
       "1437  <p>What is the <code>related_name</code> argum...   \n",
       "4062  <p>Since the <a href=\"http://tools.android.com...   \n",
       "4870  <p>I have below a simple program:</p>\\n\\n<pre>...   \n",
       "\n",
       "                                             Body_clean        0       1  \\\n",
       "302   example performance change loop code suppose g...      c++       c   \n",
       "393                                           configure   python    pypi   \n",
       "1437  argument manytomanyfield foreignkey field exam...   python  django   \n",
       "4062  adt preview version version lint warning tell ...  android     adt   \n",
       "4870  program condition if(bal int32_min work change...        c  signed   \n",
       "\n",
       "                      2                   3                       4  \n",
       "302         performance            assembly    relational-operators  \n",
       "393            setup.py    python-packaging                     NaN  \n",
       "1437       foreign-keys        many-to-many                     NaN  \n",
       "4062  compiler-warnings        android-lint  android-backup-service  \n",
       "4870     numeric-limits  numeric-conversion                     NaN  "
      ]
     },
     "execution_count": 8,
     "metadata": {},
     "output_type": "execute_result"
    }
   ],
   "source": [
    "df[df[\"Title_clean\"].isna()][\n",
    "    [\"Title\", \"Title_clean\", \"Body\", \"Body_clean\", \"0\", \"1\", \"2\", \"3\", \"4\"]\n",
    "].head(5)"
   ]
  },
  {
   "cell_type": "code",
   "execution_count": 9,
   "id": "51892f35",
   "metadata": {
    "execution": {
     "iopub.execute_input": "2022-12-18T14:56:36.113241Z",
     "iopub.status.busy": "2022-12-18T14:56:36.112456Z",
     "iopub.status.idle": "2022-12-18T14:56:36.182749Z",
     "shell.execute_reply": "2022-12-18T14:56:36.181619Z"
    },
    "papermill": {
     "duration": 0.089362,
     "end_time": "2022-12-18T14:56:36.185128",
     "exception": false,
     "start_time": "2022-12-18T14:56:36.095766",
     "status": "completed"
    },
    "tags": []
   },
   "outputs": [
    {
     "name": "stdout",
     "output_type": "stream",
     "text": [
      "50\n"
     ]
    },
    {
     "data": {
      "text/html": [
       "<div>\n",
       "<style scoped>\n",
       "    .dataframe tbody tr th:only-of-type {\n",
       "        vertical-align: middle;\n",
       "    }\n",
       "\n",
       "    .dataframe tbody tr th {\n",
       "        vertical-align: top;\n",
       "    }\n",
       "\n",
       "    .dataframe thead th {\n",
       "        text-align: right;\n",
       "    }\n",
       "</style>\n",
       "<table border=\"1\" class=\"dataframe\">\n",
       "  <thead>\n",
       "    <tr style=\"text-align: right;\">\n",
       "      <th></th>\n",
       "      <th>Title</th>\n",
       "      <th>Title_clean</th>\n",
       "      <th>Body</th>\n",
       "      <th>Body_clean</th>\n",
       "      <th>Code</th>\n",
       "    </tr>\n",
       "  </thead>\n",
       "  <tbody>\n",
       "    <tr>\n",
       "      <th>5</th>\n",
       "      <td>What and where are the stack and heap?</td>\n",
       "      <td>stack heap</td>\n",
       "      <td>&lt;ul&gt;\\n&lt;li&gt;What are the stack and heap?&lt;/li&gt;\\n&lt;...</td>\n",
       "      <td>NaN</td>\n",
       "      <td>NaN</td>\n",
       "    </tr>\n",
       "    <tr>\n",
       "      <th>168</th>\n",
       "      <td>What is The Rule of Three?</td>\n",
       "      <td>rule</td>\n",
       "      <td>&lt;ul&gt;\\n&lt;li&gt;What does &lt;em&gt;copying an object&lt;/em&gt;...</td>\n",
       "      <td>NaN</td>\n",
       "      <td>NaN</td>\n",
       "    </tr>\n",
       "    <tr>\n",
       "      <th>828</th>\n",
       "      <td>Why are these constructs using pre and post-in...</td>\n",
       "      <td>construct pre behavior</td>\n",
       "      <td>&lt;pre&gt;&lt;code&gt;#include &amp;lt;stdio.h&amp;gt;\\n\\nint mai...</td>\n",
       "      <td>NaN</td>\n",
       "      <td>#include &lt;stdio.h&gt;\\n\\nint main(void)\\n{\\n   in...</td>\n",
       "    </tr>\n",
       "    <tr>\n",
       "      <th>1207</th>\n",
       "      <td>How to use ADB Shell when Multiple Devices are...</td>\n",
       "      <td>use adb shell multiple device connect fail err...</td>\n",
       "      <td>&lt;pre&gt;&lt;code&gt;$ adb --help\\n&lt;/code&gt;&lt;/pre&gt;\\n&lt;hr /&gt;...</td>\n",
       "      <td>NaN</td>\n",
       "      <td>$ adb --help\\n -s SERIAL  use device with give...</td>\n",
       "    </tr>\n",
       "    <tr>\n",
       "      <th>1640</th>\n",
       "      <td>What are the advantages of list initialization...</td>\n",
       "      <td>advantage list initialization brace</td>\n",
       "      <td>&lt;pre&gt;&lt;code&gt;MyClass a1 {a};     // clearer and ...</td>\n",
       "      <td>NaN</td>\n",
       "      <td>MyClass a1 {a};     // clearer and less error-...</td>\n",
       "    </tr>\n",
       "  </tbody>\n",
       "</table>\n",
       "</div>"
      ],
      "text/plain": [
       "                                                  Title  \\\n",
       "5                What and where are the stack and heap?   \n",
       "168                          What is The Rule of Three?   \n",
       "828   Why are these constructs using pre and post-in...   \n",
       "1207  How to use ADB Shell when Multiple Devices are...   \n",
       "1640  What are the advantages of list initialization...   \n",
       "\n",
       "                                            Title_clean  \\\n",
       "5                                            stack heap   \n",
       "168                                                rule   \n",
       "828                              construct pre behavior   \n",
       "1207  use adb shell multiple device connect fail err...   \n",
       "1640                advantage list initialization brace   \n",
       "\n",
       "                                                   Body Body_clean  \\\n",
       "5     <ul>\\n<li>What are the stack and heap?</li>\\n<...        NaN   \n",
       "168   <ul>\\n<li>What does <em>copying an object</em>...        NaN   \n",
       "828   <pre><code>#include &lt;stdio.h&gt;\\n\\nint mai...        NaN   \n",
       "1207  <pre><code>$ adb --help\\n</code></pre>\\n<hr />...        NaN   \n",
       "1640  <pre><code>MyClass a1 {a};     // clearer and ...        NaN   \n",
       "\n",
       "                                                   Code  \n",
       "5                                                   NaN  \n",
       "168                                                 NaN  \n",
       "828   #include <stdio.h>\\n\\nint main(void)\\n{\\n   in...  \n",
       "1207  $ adb --help\\n -s SERIAL  use device with give...  \n",
       "1640  MyClass a1 {a};     // clearer and less error-...  "
      ]
     },
     "execution_count": 9,
     "metadata": {},
     "output_type": "execute_result"
    }
   ],
   "source": [
    "print(sum(df[\"Body_clean\"].isna()))\n",
    "df[df[\"Body_clean\"].isna()][\n",
    "    [\"Title\", \"Title_clean\", \"Body\", \"Body_clean\", \"Code\"]\n",
    "].head(5)"
   ]
  },
  {
   "cell_type": "code",
   "execution_count": 10,
   "id": "59eea7eb",
   "metadata": {
    "execution": {
     "iopub.execute_input": "2022-12-18T14:56:36.218312Z",
     "iopub.status.busy": "2022-12-18T14:56:36.217899Z",
     "iopub.status.idle": "2022-12-18T14:56:36.254347Z",
     "shell.execute_reply": "2022-12-18T14:56:36.253345Z"
    },
    "papermill": {
     "duration": 0.056143,
     "end_time": "2022-12-18T14:56:36.256678",
     "exception": false,
     "start_time": "2022-12-18T14:56:36.200535",
     "status": "completed"
    },
    "tags": []
   },
   "outputs": [
    {
     "data": {
      "text/plain": [
       "0"
      ]
     },
     "execution_count": 10,
     "metadata": {},
     "output_type": "execute_result"
    }
   ],
   "source": [
    "len(df[df[\"Body_clean\"].isna() & df[\"Title_clean\"].isna()])"
   ]
  },
  {
   "cell_type": "code",
   "execution_count": 11,
   "id": "6e0f15d5",
   "metadata": {
    "execution": {
     "iopub.execute_input": "2022-12-18T14:56:36.290027Z",
     "iopub.status.busy": "2022-12-18T14:56:36.289541Z",
     "iopub.status.idle": "2022-12-18T14:56:36.422240Z",
     "shell.execute_reply": "2022-12-18T14:56:36.421102Z"
    },
    "papermill": {
     "duration": 0.15227,
     "end_time": "2022-12-18T14:56:36.424563",
     "exception": false,
     "start_time": "2022-12-18T14:56:36.272293",
     "status": "completed"
    },
    "tags": []
   },
   "outputs": [
    {
     "data": {
      "text/plain": [
       "103"
      ]
     },
     "execution_count": 11,
     "metadata": {},
     "output_type": "execute_result"
    }
   ],
   "source": [
    "sum((df[\"Title_clean\"] + df[\"Body_clean\"]).isna())"
   ]
  },
  {
   "cell_type": "code",
   "execution_count": 12,
   "id": "ce31ba68",
   "metadata": {
    "execution": {
     "iopub.execute_input": "2022-12-18T14:56:36.457643Z",
     "iopub.status.busy": "2022-12-18T14:56:36.457226Z",
     "iopub.status.idle": "2022-12-18T14:56:36.530816Z",
     "shell.execute_reply": "2022-12-18T14:56:36.529745Z"
    },
    "papermill": {
     "duration": 0.092697,
     "end_time": "2022-12-18T14:56:36.533037",
     "exception": false,
     "start_time": "2022-12-18T14:56:36.440340",
     "status": "completed"
    },
    "tags": []
   },
   "outputs": [
    {
     "data": {
      "text/html": [
       "<div>\n",
       "<style scoped>\n",
       "    .dataframe tbody tr th:only-of-type {\n",
       "        vertical-align: middle;\n",
       "    }\n",
       "\n",
       "    .dataframe tbody tr th {\n",
       "        vertical-align: top;\n",
       "    }\n",
       "\n",
       "    .dataframe thead th {\n",
       "        text-align: right;\n",
       "    }\n",
       "</style>\n",
       "<table border=\"1\" class=\"dataframe\">\n",
       "  <thead>\n",
       "    <tr style=\"text-align: right;\">\n",
       "      <th></th>\n",
       "      <th>javascript</th>\n",
       "      <th>java</th>\n",
       "      <th>c#</th>\n",
       "      <th>python</th>\n",
       "      <th>html</th>\n",
       "      <th>git</th>\n",
       "      <th>php</th>\n",
       "    </tr>\n",
       "  </thead>\n",
       "  <tbody>\n",
       "    <tr>\n",
       "      <th>10001</th>\n",
       "      <td>True</td>\n",
       "      <td>False</td>\n",
       "      <td>False</td>\n",
       "      <td>False</td>\n",
       "      <td>True</td>\n",
       "      <td>False</td>\n",
       "      <td>False</td>\n",
       "    </tr>\n",
       "    <tr>\n",
       "      <th>10002</th>\n",
       "      <td>False</td>\n",
       "      <td>True</td>\n",
       "      <td>False</td>\n",
       "      <td>False</td>\n",
       "      <td>False</td>\n",
       "      <td>False</td>\n",
       "      <td>False</td>\n",
       "    </tr>\n",
       "    <tr>\n",
       "      <th>10003</th>\n",
       "      <td>False</td>\n",
       "      <td>False</td>\n",
       "      <td>True</td>\n",
       "      <td>False</td>\n",
       "      <td>False</td>\n",
       "      <td>False</td>\n",
       "      <td>False</td>\n",
       "    </tr>\n",
       "    <tr>\n",
       "      <th>10004</th>\n",
       "      <td>False</td>\n",
       "      <td>False</td>\n",
       "      <td>False</td>\n",
       "      <td>False</td>\n",
       "      <td>True</td>\n",
       "      <td>False</td>\n",
       "      <td>False</td>\n",
       "    </tr>\n",
       "    <tr>\n",
       "      <th>10005</th>\n",
       "      <td>False</td>\n",
       "      <td>False</td>\n",
       "      <td>False</td>\n",
       "      <td>False</td>\n",
       "      <td>False</td>\n",
       "      <td>False</td>\n",
       "      <td>False</td>\n",
       "    </tr>\n",
       "    <tr>\n",
       "      <th>...</th>\n",
       "      <td>...</td>\n",
       "      <td>...</td>\n",
       "      <td>...</td>\n",
       "      <td>...</td>\n",
       "      <td>...</td>\n",
       "      <td>...</td>\n",
       "      <td>...</td>\n",
       "    </tr>\n",
       "    <tr>\n",
       "      <th>15045</th>\n",
       "      <td>False</td>\n",
       "      <td>False</td>\n",
       "      <td>False</td>\n",
       "      <td>False</td>\n",
       "      <td>False</td>\n",
       "      <td>False</td>\n",
       "      <td>False</td>\n",
       "    </tr>\n",
       "    <tr>\n",
       "      <th>15046</th>\n",
       "      <td>False</td>\n",
       "      <td>False</td>\n",
       "      <td>False</td>\n",
       "      <td>False</td>\n",
       "      <td>False</td>\n",
       "      <td>False</td>\n",
       "      <td>False</td>\n",
       "    </tr>\n",
       "    <tr>\n",
       "      <th>15047</th>\n",
       "      <td>True</td>\n",
       "      <td>False</td>\n",
       "      <td>False</td>\n",
       "      <td>False</td>\n",
       "      <td>False</td>\n",
       "      <td>False</td>\n",
       "      <td>False</td>\n",
       "    </tr>\n",
       "    <tr>\n",
       "      <th>15048</th>\n",
       "      <td>False</td>\n",
       "      <td>False</td>\n",
       "      <td>False</td>\n",
       "      <td>False</td>\n",
       "      <td>False</td>\n",
       "      <td>False</td>\n",
       "      <td>False</td>\n",
       "    </tr>\n",
       "    <tr>\n",
       "      <th>15049</th>\n",
       "      <td>False</td>\n",
       "      <td>False</td>\n",
       "      <td>False</td>\n",
       "      <td>False</td>\n",
       "      <td>False</td>\n",
       "      <td>False</td>\n",
       "      <td>False</td>\n",
       "    </tr>\n",
       "  </tbody>\n",
       "</table>\n",
       "<p>5049 rows × 7 columns</p>\n",
       "</div>"
      ],
      "text/plain": [
       "       javascript   java     c#  python   html    git    php\n",
       "10001        True  False  False   False   True  False  False\n",
       "10002       False   True  False   False  False  False  False\n",
       "10003       False  False   True   False  False  False  False\n",
       "10004       False  False  False   False   True  False  False\n",
       "10005       False  False  False   False  False  False  False\n",
       "...           ...    ...    ...     ...    ...    ...    ...\n",
       "15045       False  False  False   False  False  False  False\n",
       "15046       False  False  False   False  False  False  False\n",
       "15047        True  False  False   False  False  False  False\n",
       "15048       False  False  False   False  False  False  False\n",
       "15049       False  False  False   False  False  False  False\n",
       "\n",
       "[5049 rows x 7 columns]"
      ]
     },
     "execution_count": 12,
     "metadata": {},
     "output_type": "execute_result"
    }
   ],
   "source": [
    "def tag_is_in(df: pd.DataFrame(), tag: str, nb_cols: int = 6):\n",
    "    return eval(\"|\".join(f'(df[\"{i}\"] == \"{tag}\")' for i in range(0, nb_cols)))\n",
    "\n",
    "\n",
    "def tags_are_in(df: pd.DataFrame(), tags: list):\n",
    "    return pd.DataFrame({tag: tag_is_in(df, tag) for tag in tags})\n",
    "\n",
    "\n",
    "# tags_are_in(df, [\"javascript\",\"java\"])\n",
    "tags_are_in(\n",
    "    df[10001:15050], [\"javascript\", \"java\", \"c#\", \"python\", \"html\", \"git\", \"php\"]\n",
    ")"
   ]
  },
  {
   "cell_type": "code",
   "execution_count": 13,
   "id": "f162f031",
   "metadata": {
    "execution": {
     "iopub.execute_input": "2022-12-18T14:56:36.567343Z",
     "iopub.status.busy": "2022-12-18T14:56:36.566474Z",
     "iopub.status.idle": "2022-12-18T14:56:36.782831Z",
     "shell.execute_reply": "2022-12-18T14:56:36.781772Z"
    },
    "papermill": {
     "duration": 0.236074,
     "end_time": "2022-12-18T14:56:36.785135",
     "exception": false,
     "start_time": "2022-12-18T14:56:36.549061",
     "status": "completed"
    },
    "tags": []
   },
   "outputs": [
    {
     "data": {
      "text/plain": [
       "['java',\n",
       " 'c#',\n",
       " 'javascript',\n",
       " 'python',\n",
       " 'android',\n",
       " 'c++',\n",
       " 'ios',\n",
       " 'html',\n",
       " 'php',\n",
       " '.net',\n",
       " 'jquery',\n",
       " 'css',\n",
       " 'objective-c',\n",
       " 'c',\n",
       " 'sql',\n",
       " 'iphone',\n",
       " 'asp.net',\n",
       " 'mysql',\n",
       " 'linux',\n",
       " 'node.js',\n",
       " 'git']"
      ]
     },
     "execution_count": 13,
     "metadata": {},
     "output_type": "execute_result"
    }
   ],
   "source": [
    "tags = df[[\"0\", \"1\", \"2\", \"3\", \"4\", \"5\"]].stack()\n",
    "target_names = [\n",
    "    tag\n",
    "    for tag, freq in tags.reset_index(drop=True).value_counts(normalize=True).items()\n",
    "    if freq > 0.002\n",
    "]\n",
    "if not LONG:\n",
    "    target_names = target_names[0:20] + [\"git\"]\n",
    "target_names"
   ]
  },
  {
   "cell_type": "markdown",
   "id": "9a8ea54b",
   "metadata": {
    "papermill": {
     "duration": 0.016391,
     "end_time": "2022-12-18T14:56:36.817266",
     "exception": false,
     "start_time": "2022-12-18T14:56:36.800875",
     "status": "completed"
    },
    "tags": []
   },
   "source": [
    "# CountVectorizer"
   ]
  },
  {
   "cell_type": "code",
   "execution_count": 14,
   "id": "625ac075",
   "metadata": {
    "execution": {
     "iopub.execute_input": "2022-12-18T14:56:36.853638Z",
     "iopub.status.busy": "2022-12-18T14:56:36.853247Z",
     "iopub.status.idle": "2022-12-18T14:56:38.443384Z",
     "shell.execute_reply": "2022-12-18T14:56:38.442184Z"
    },
    "papermill": {
     "duration": 1.610116,
     "end_time": "2022-12-18T14:56:38.446178",
     "exception": false,
     "start_time": "2022-12-18T14:56:36.836062",
     "status": "completed"
    },
    "tags": []
   },
   "outputs": [
    {
     "name": "stdout",
     "output_type": "stream",
     "text": [
      "99.99409% des questions ont plus d'un tokens\n"
     ]
    }
   ],
   "source": [
    "df[\"Token\"] = df[\"Title_clean\"].fillna(\"\") + df[\"Body_clean\"].fillna(\"\")\n",
    "print(\n",
    "    f\"{len(df[[len(token.split()) > 1 for token in df['Token']]])/len(df):.5%} des questions ont plus d'un tokens\"\n",
    "    if len(df[df[\"Token\"] == \"\"]) == 0\n",
    "    else f\"{len(df[df['Token'] == ''])} questions n'ont pas de token\"\n",
    ")\n",
    "X_train, X_test, y_train, y_test = model_selection.train_test_split(\n",
    "    df[\"Token\"], tags_are_in(df, target_names), random_state=42\n",
    ")"
   ]
  },
  {
   "cell_type": "code",
   "execution_count": 15,
   "id": "002a7979",
   "metadata": {
    "execution": {
     "iopub.execute_input": "2022-12-18T14:56:38.480199Z",
     "iopub.status.busy": "2022-12-18T14:56:38.479798Z",
     "iopub.status.idle": "2022-12-18T14:56:38.558105Z",
     "shell.execute_reply": "2022-12-18T14:56:38.556516Z"
    },
    "papermill": {
     "duration": 0.098056,
     "end_time": "2022-12-18T14:56:38.560372",
     "exception": false,
     "start_time": "2022-12-18T14:56:38.462316",
     "status": "completed"
    },
    "tags": []
   },
   "outputs": [
    {
     "name": "stdout",
     "output_type": "stream",
     "text": [
      "\u001b[1mjava\u001b[0m\n",
      "\t Sur entrainement \u001b[92m12.05%\u001b[0m positif \u001b[91m87.95%\u001b[0m negatif\n",
      "\t Sur test \u001b[92m12.02%\u001b[0m positif \u001b[91m87.98%\u001b[0m negatif\n",
      "\n",
      "\n",
      "\u001b[1mc#\u001b[0m\n",
      "\t Sur entrainement \u001b[92m11.80%\u001b[0m positif \u001b[91m88.20%\u001b[0m negatif\n",
      "\t Sur test \u001b[92m11.73%\u001b[0m positif \u001b[91m88.27%\u001b[0m negatif\n",
      "\n",
      "\n",
      "\u001b[1mjavascript\u001b[0m\n",
      "\t Sur entrainement \u001b[92m11.77%\u001b[0m positif \u001b[91m88.23%\u001b[0m negatif\n",
      "\t Sur test \u001b[92m11.33%\u001b[0m positif \u001b[91m88.67%\u001b[0m negatif\n",
      "\n",
      "\n",
      "\u001b[1mpython\u001b[0m\n",
      "\t Sur entrainement \u001b[92m8.61%\u001b[0m positif \u001b[91m91.39%\u001b[0m negatif\n",
      "\t Sur test \u001b[92m8.82%\u001b[0m positif \u001b[91m91.18%\u001b[0m negatif\n",
      "\n",
      "\n",
      "\u001b[1mandroid\u001b[0m\n",
      "\t Sur entrainement \u001b[92m7.00%\u001b[0m positif \u001b[91m93.00%\u001b[0m negatif\n",
      "\t Sur test \u001b[92m6.91%\u001b[0m positif \u001b[91m93.09%\u001b[0m negatif\n",
      "\n",
      "\n",
      "\u001b[1mc++\u001b[0m\n",
      "\t Sur entrainement \u001b[92m6.63%\u001b[0m positif \u001b[91m93.37%\u001b[0m negatif\n",
      "\t Sur test \u001b[92m6.63%\u001b[0m positif \u001b[91m93.37%\u001b[0m negatif\n",
      "\n",
      "\n",
      "\u001b[1mios\u001b[0m\n",
      "\t Sur entrainement \u001b[92m6.25%\u001b[0m positif \u001b[91m93.75%\u001b[0m negatif\n",
      "\t Sur test \u001b[92m6.21%\u001b[0m positif \u001b[91m93.79%\u001b[0m negatif\n",
      "\n",
      "\n",
      "\u001b[1mhtml\u001b[0m\n",
      "\t Sur entrainement \u001b[92m5.85%\u001b[0m positif \u001b[91m94.15%\u001b[0m negatif\n",
      "\t Sur test \u001b[92m5.93%\u001b[0m positif \u001b[91m94.07%\u001b[0m negatif\n",
      "\n",
      "\n",
      "\u001b[1mphp\u001b[0m\n",
      "\t Sur entrainement \u001b[92m5.56%\u001b[0m positif \u001b[91m94.44%\u001b[0m negatif\n",
      "\t Sur test \u001b[92m5.49%\u001b[0m positif \u001b[91m94.51%\u001b[0m negatif\n",
      "\n",
      "\n",
      "\u001b[1m.net\u001b[0m\n",
      "\t Sur entrainement \u001b[92m5.34%\u001b[0m positif \u001b[91m94.66%\u001b[0m negatif\n",
      "\t Sur test \u001b[92m5.30%\u001b[0m positif \u001b[91m94.70%\u001b[0m negatif\n",
      "\n",
      "\n",
      "\u001b[1mjquery\u001b[0m\n",
      "\t Sur entrainement \u001b[92m5.36%\u001b[0m positif \u001b[91m94.64%\u001b[0m negatif\n",
      "\t Sur test \u001b[92m5.19%\u001b[0m positif \u001b[91m94.81%\u001b[0m negatif\n",
      "\n",
      "\n",
      "\u001b[1mcss\u001b[0m\n",
      "\t Sur entrainement \u001b[92m3.77%\u001b[0m positif \u001b[91m96.23%\u001b[0m negatif\n",
      "\t Sur test \u001b[92m3.82%\u001b[0m positif \u001b[91m96.18%\u001b[0m negatif\n",
      "\n",
      "\n",
      "\u001b[1mobjective-c\u001b[0m\n",
      "\t Sur entrainement \u001b[92m3.08%\u001b[0m positif \u001b[91m96.92%\u001b[0m negatif\n",
      "\t Sur test \u001b[92m3.00%\u001b[0m positif \u001b[91m97.00%\u001b[0m negatif\n",
      "\n",
      "\n",
      "\u001b[1mc\u001b[0m\n",
      "\t Sur entrainement \u001b[92m3.08%\u001b[0m positif \u001b[91m96.92%\u001b[0m negatif\n",
      "\t Sur test \u001b[92m2.99%\u001b[0m positif \u001b[91m97.01%\u001b[0m negatif\n",
      "\n",
      "\n",
      "\u001b[1msql\u001b[0m\n",
      "\t Sur entrainement \u001b[92m3.00%\u001b[0m positif \u001b[91m97.00%\u001b[0m negatif\n",
      "\t Sur test \u001b[92m2.94%\u001b[0m positif \u001b[91m97.06%\u001b[0m negatif\n",
      "\n",
      "\n",
      "\u001b[1miphone\u001b[0m\n",
      "\t Sur entrainement \u001b[92m2.79%\u001b[0m positif \u001b[91m97.21%\u001b[0m negatif\n",
      "\t Sur test \u001b[92m2.73%\u001b[0m positif \u001b[91m97.27%\u001b[0m negatif\n",
      "\n",
      "\n",
      "\u001b[1masp.net\u001b[0m\n",
      "\t Sur entrainement \u001b[92m2.73%\u001b[0m positif \u001b[91m97.27%\u001b[0m negatif\n",
      "\t Sur test \u001b[92m2.72%\u001b[0m positif \u001b[91m97.28%\u001b[0m negatif\n",
      "\n",
      "\n",
      "\u001b[1mmysql\u001b[0m\n",
      "\t Sur entrainement \u001b[92m2.37%\u001b[0m positif \u001b[91m97.63%\u001b[0m negatif\n",
      "\t Sur test \u001b[92m2.31%\u001b[0m positif \u001b[91m97.69%\u001b[0m negatif\n",
      "\n",
      "\n",
      "\u001b[1mlinux\u001b[0m\n",
      "\t Sur entrainement \u001b[92m2.34%\u001b[0m positif \u001b[91m97.66%\u001b[0m negatif\n",
      "\t Sur test \u001b[92m2.30%\u001b[0m positif \u001b[91m97.70%\u001b[0m negatif\n",
      "\n",
      "\n",
      "\u001b[1mnode.js\u001b[0m\n",
      "\t Sur entrainement \u001b[92m2.29%\u001b[0m positif \u001b[91m97.71%\u001b[0m negatif\n",
      "\t Sur test \u001b[92m2.30%\u001b[0m positif \u001b[91m97.70%\u001b[0m negatif\n",
      "\n",
      "\n",
      "\u001b[1mgit\u001b[0m\n",
      "\t Sur entrainement \u001b[92m0.95%\u001b[0m positif \u001b[91m99.05%\u001b[0m negatif\n",
      "\t Sur test \u001b[92m0.93%\u001b[0m positif \u001b[91m99.07%\u001b[0m negatif\n",
      "\n",
      "\n"
     ]
    }
   ],
   "source": [
    "for column in y_train.columns:\n",
    "    t_train = y_train[column].value_counts(normalize=True)\n",
    "    t_test = y_test[column].value_counts(normalize=True)\n",
    "    print(f\"{colors.BOLD}{column}{colors.ENDC}\")\n",
    "    print(\n",
    "        f\"\\t Sur entrainement {colors.GREEN}{t_train[True]:.2%}{colors.ENDC} positif {colors.RED}{t_train[False]:.2%}{colors.ENDC} negatif\"\n",
    "    )\n",
    "    print(\n",
    "        f\"\\t Sur test {colors.GREEN}{t_test[True]:.2%}{colors.ENDC} positif {colors.RED}{t_test[False]:.2%}{colors.ENDC} negatif\"\n",
    "    )\n",
    "    print(\"\\n\")"
   ]
  },
  {
   "cell_type": "code",
   "execution_count": 16,
   "id": "f7e756ec",
   "metadata": {
    "execution": {
     "iopub.execute_input": "2022-12-18T14:56:38.594644Z",
     "iopub.status.busy": "2022-12-18T14:56:38.594254Z",
     "iopub.status.idle": "2022-12-18T14:56:43.693034Z",
     "shell.execute_reply": "2022-12-18T14:56:43.691691Z"
    },
    "papermill": {
     "duration": 5.118891,
     "end_time": "2022-12-18T14:56:43.695500",
     "exception": false,
     "start_time": "2022-12-18T14:56:38.576609",
     "status": "completed"
    },
    "tags": []
   },
   "outputs": [
    {
     "name": "stdout",
     "output_type": "stream",
     "text": [
      "\n",
      "******************************\n",
      " pour min_df:1e-05; max_df:0.995\n",
      "\ttokens unique:\n",
      "\t\t53999 dans title et body regroupé\n"
     ]
    }
   ],
   "source": [
    "best_min_df = 0.00001\n",
    "best_max_df = 0.995\n",
    "for min_df in [0.01, 0.05, 0.005, 0.0005, 0.00001] if LONG else [best_min_df]:\n",
    "    for max_df in [0.95, 0.995, 0.9995] if LONG else [best_max_df]:\n",
    "        print(f\"\\n{'*'*30}\\n pour min_df:{min_df}; max_df:{max_df}\")\n",
    "        count_vectorizer = feature_extraction.text.CountVectorizer(\n",
    "            min_df=min_df, max_df=max_df, max_features=None\n",
    "        )\n",
    "        #         pipe = pipeline.make_pipeline(feature_extraction.text.CountVectorizer(min_df=min_df, max_df=max_df, max_features=None), feature_extraction.text.TfidfTransformer( norm=\"l2\", use_idf=True, smooth_idf=True, sublinear_tf=False))\n",
    "        #         feat_train = pipe.transform(X_train[\"Token\"])\n",
    "        #         print(feat_train.shape)\n",
    "\n",
    "        token_vectors = count_vectorizer.fit_transform(df[\"Token\"])\n",
    "        print(\n",
    "            f\"\\ttokens unique:\\n\\t\\t{token_vectors.shape[1]} dans title et body regroupé\"\n",
    "        )"
   ]
  },
  {
   "cell_type": "code",
   "execution_count": 17,
   "id": "e4e0f634",
   "metadata": {
    "execution": {
     "iopub.execute_input": "2022-12-18T14:56:43.729972Z",
     "iopub.status.busy": "2022-12-18T14:56:43.729551Z",
     "iopub.status.idle": "2022-12-18T14:56:43.764028Z",
     "shell.execute_reply": "2022-12-18T14:56:43.763045Z"
    },
    "papermill": {
     "duration": 0.055137,
     "end_time": "2022-12-18T14:56:43.767040",
     "exception": false,
     "start_time": "2022-12-18T14:56:43.711903",
     "status": "completed"
    },
    "tags": []
   },
   "outputs": [],
   "source": [
    "pipeline_tfidf = pipeline.Pipeline(\n",
    "    [\n",
    "        (\n",
    "            \"count\",\n",
    "            feature_extraction.text.CountVectorizer(\n",
    "                min_df=best_min_df, max_df=best_max_df, max_features=None\n",
    "            ),\n",
    "        ),\n",
    "        (\n",
    "            \"tfidf\",\n",
    "            feature_extraction.text.TfidfTransformer(\n",
    "                norm=\"l2\", use_idf=True, smooth_idf=True, sublinear_tf=False\n",
    "            ),\n",
    "        ),\n",
    "    ]\n",
    ")"
   ]
  },
  {
   "cell_type": "markdown",
   "id": "083dc0e4",
   "metadata": {
    "papermill": {
     "duration": 0.015849,
     "end_time": "2022-12-18T14:56:43.799021",
     "exception": false,
     "start_time": "2022-12-18T14:56:43.783172",
     "status": "completed"
    },
    "tags": []
   },
   "source": [
    "# Tfidf"
   ]
  },
  {
   "cell_type": "code",
   "execution_count": 18,
   "id": "4019f3c1",
   "metadata": {
    "execution": {
     "iopub.execute_input": "2022-12-18T14:56:43.833466Z",
     "iopub.status.busy": "2022-12-18T14:56:43.832302Z",
     "iopub.status.idle": "2022-12-18T14:56:43.839177Z",
     "shell.execute_reply": "2022-12-18T14:56:43.838437Z"
    },
    "papermill": {
     "duration": 0.026284,
     "end_time": "2022-12-18T14:56:43.841320",
     "exception": false,
     "start_time": "2022-12-18T14:56:43.815036",
     "status": "completed"
    },
    "tags": []
   },
   "outputs": [],
   "source": [
    "# tfidf_transformer = feature_extraction.text.TfidfTransformer(\n",
    "#     norm=\"l2\", use_idf=True, smooth_idf=True, sublinear_tf=False\n",
    "# ).fit(X_train)\n",
    "# X_train = tfidf_transformer.transform(X_train)\n",
    "# print(X_train.shape[0])\n",
    "# X_test = tfidf_transformer.transform(X_test)\n",
    "# print(X_test.shape[0])"
   ]
  },
  {
   "cell_type": "code",
   "execution_count": 19,
   "id": "5635ecc4",
   "metadata": {
    "execution": {
     "iopub.execute_input": "2022-12-18T14:56:43.875156Z",
     "iopub.status.busy": "2022-12-18T14:56:43.874287Z",
     "iopub.status.idle": "2022-12-18T14:56:43.879977Z",
     "shell.execute_reply": "2022-12-18T14:56:43.878951Z"
    },
    "papermill": {
     "duration": 0.024719,
     "end_time": "2022-12-18T14:56:43.882013",
     "exception": false,
     "start_time": "2022-12-18T14:56:43.857294",
     "status": "completed"
    },
    "tags": []
   },
   "outputs": [],
   "source": [
    "# y_train[\"java\"].value_counts(normalize=True)[True]"
   ]
  },
  {
   "cell_type": "code",
   "execution_count": 20,
   "id": "44cf6957",
   "metadata": {
    "execution": {
     "iopub.execute_input": "2022-12-18T14:56:43.916026Z",
     "iopub.status.busy": "2022-12-18T14:56:43.915498Z",
     "iopub.status.idle": "2022-12-18T14:56:43.921749Z",
     "shell.execute_reply": "2022-12-18T14:56:43.921003Z"
    },
    "papermill": {
     "duration": 0.025675,
     "end_time": "2022-12-18T14:56:43.923885",
     "exception": false,
     "start_time": "2022-12-18T14:56:43.898210",
     "status": "completed"
    },
    "tags": []
   },
   "outputs": [],
   "source": [
    "# [text for text in [token for token in X_test[0:5]]]"
   ]
  },
  {
   "cell_type": "code",
   "execution_count": 21,
   "id": "175b08fa",
   "metadata": {
    "execution": {
     "iopub.execute_input": "2022-12-18T14:56:43.958283Z",
     "iopub.status.busy": "2022-12-18T14:56:43.957202Z",
     "iopub.status.idle": "2022-12-18T14:56:43.962832Z",
     "shell.execute_reply": "2022-12-18T14:56:43.962014Z"
    },
    "papermill": {
     "duration": 0.025113,
     "end_time": "2022-12-18T14:56:43.965020",
     "exception": false,
     "start_time": "2022-12-18T14:56:43.939907",
     "status": "completed"
    },
    "tags": []
   },
   "outputs": [],
   "source": [
    "# clf = linear_model.LogisticRegression(random_state=0, multi_class=\"ovr\").fit(X_train, y_train)"
   ]
  },
  {
   "cell_type": "markdown",
   "id": "1108f59f",
   "metadata": {
    "papermill": {
     "duration": 0.015531,
     "end_time": "2022-12-18T14:56:43.996249",
     "exception": false,
     "start_time": "2022-12-18T14:56:43.980718",
     "status": "completed"
    },
    "tags": []
   },
   "source": [
    "# OvsRest"
   ]
  },
  {
   "cell_type": "code",
   "execution_count": 22,
   "id": "49ff83db",
   "metadata": {
    "execution": {
     "iopub.execute_input": "2022-12-18T14:56:44.030364Z",
     "iopub.status.busy": "2022-12-18T14:56:44.029593Z",
     "iopub.status.idle": "2022-12-18T14:56:44.053426Z",
     "shell.execute_reply": "2022-12-18T14:56:44.052655Z"
    },
    "papermill": {
     "duration": 0.043034,
     "end_time": "2022-12-18T14:56:44.055343",
     "exception": false,
     "start_time": "2022-12-18T14:56:44.012309",
     "status": "completed"
    },
    "tags": []
   },
   "outputs": [],
   "source": [
    "def save_score(y_true, y_pred, target_names, name) -> pd.DataFrame():\n",
    "    scores = pd.DataFrame(\n",
    "        metrics.classification_report(\n",
    "            y_true, y_pred, target_names=target_names, zero_division=0, output_dict=True\n",
    "        )\n",
    "    ).T\n",
    "    scores.to_csv(f\"/kaggle/working/{name}_score.csv\")\n",
    "    return scores"
   ]
  },
  {
   "cell_type": "markdown",
   "id": "9ed4d015",
   "metadata": {
    "papermill": {
     "duration": 0.015596,
     "end_time": "2022-12-18T14:56:44.087180",
     "exception": false,
     "start_time": "2022-12-18T14:56:44.071584",
     "status": "completed"
    },
    "tags": []
   },
   "source": [
    "## LogisticRegression"
   ]
  },
  {
   "cell_type": "code",
   "execution_count": 23,
   "id": "0424ba1c",
   "metadata": {
    "execution": {
     "iopub.execute_input": "2022-12-18T14:56:44.121280Z",
     "iopub.status.busy": "2022-12-18T14:56:44.120578Z",
     "iopub.status.idle": "2022-12-18T14:56:44.129929Z",
     "shell.execute_reply": "2022-12-18T14:56:44.128671Z"
    },
    "papermill": {
     "duration": 0.029027,
     "end_time": "2022-12-18T14:56:44.131970",
     "exception": false,
     "start_time": "2022-12-18T14:56:44.102943",
     "status": "completed"
    },
    "tags": []
   },
   "outputs": [
    {
     "name": "stdout",
     "output_type": "stream",
     "text": [
      "CPU times: user 3 µs, sys: 0 ns, total: 3 µs\n",
      "Wall time: 8.11 µs\n"
     ]
    }
   ],
   "source": [
    "%%time\n",
    "# with ignore_warnings(category=exceptions.ConvergenceWarning):\n",
    "#     clf_lr = multiclass.OneVsRestClassifier(\n",
    "#         linear_model.LogisticRegression(random_state=42)\n",
    "#     ).fit(X_train, y_train)"
   ]
  },
  {
   "cell_type": "code",
   "execution_count": 24,
   "id": "37d083af",
   "metadata": {
    "execution": {
     "iopub.execute_input": "2022-12-18T14:56:44.165515Z",
     "iopub.status.busy": "2022-12-18T14:56:44.164813Z",
     "iopub.status.idle": "2022-12-18T14:56:44.185747Z",
     "shell.execute_reply": "2022-12-18T14:56:44.184918Z"
    },
    "papermill": {
     "duration": 0.040428,
     "end_time": "2022-12-18T14:56:44.188053",
     "exception": false,
     "start_time": "2022-12-18T14:56:44.147625",
     "status": "completed"
    },
    "tags": []
   },
   "outputs": [],
   "source": [
    "pipeline_logisticReg = pipeline.Pipeline(\n",
    "    [\n",
    "        (\"tfidf\", pipeline_tfidf),\n",
    "        (\n",
    "            \"OvRLogisticReg\",\n",
    "            multiclass.OneVsRestClassifier(\n",
    "                linear_model.LogisticRegression(random_state=42)\n",
    "            ),\n",
    "        ),\n",
    "    ]\n",
    ")"
   ]
  },
  {
   "cell_type": "code",
   "execution_count": 25,
   "id": "4cc3aea3",
   "metadata": {
    "execution": {
     "iopub.execute_input": "2022-12-18T14:56:44.222240Z",
     "iopub.status.busy": "2022-12-18T14:56:44.221561Z",
     "iopub.status.idle": "2022-12-18T15:00:31.935667Z",
     "shell.execute_reply": "2022-12-18T15:00:31.934119Z"
    },
    "papermill": {
     "duration": 227.766524,
     "end_time": "2022-12-18T15:00:31.970809",
     "exception": false,
     "start_time": "2022-12-18T14:56:44.204285",
     "status": "completed"
    },
    "tags": []
   },
   "outputs": [
    {
     "name": "stdout",
     "output_type": "stream",
     "text": [
      "CPU times: user 7min 4s, sys: 7min 3s, total: 14min 8s\n",
      "Wall time: 3min 47s\n"
     ]
    }
   ],
   "source": [
    "%%time\n",
    "with ignore_warnings(category=exceptions.ConvergenceWarning):\n",
    "    pipeline_logisticReg.fit(X_train, y_train)"
   ]
  },
  {
   "cell_type": "markdown",
   "id": "941ad79d",
   "metadata": {
    "papermill": {
     "duration": 0.016822,
     "end_time": "2022-12-18T15:00:32.032111",
     "exception": false,
     "start_time": "2022-12-18T15:00:32.015289",
     "status": "completed"
    },
    "tags": []
   },
   "source": []
  },
  {
   "cell_type": "code",
   "execution_count": 26,
   "id": "18c46758",
   "metadata": {
    "execution": {
     "iopub.execute_input": "2022-12-18T15:00:32.065937Z",
     "iopub.status.busy": "2022-12-18T15:00:32.065489Z",
     "iopub.status.idle": "2022-12-18T15:00:33.353993Z",
     "shell.execute_reply": "2022-12-18T15:00:33.353051Z"
    },
    "papermill": {
     "duration": 1.308864,
     "end_time": "2022-12-18T15:00:33.356993",
     "exception": false,
     "start_time": "2022-12-18T15:00:32.048129",
     "status": "completed"
    },
    "tags": []
   },
   "outputs": [],
   "source": [
    "pred_lr = pipeline_logisticReg.predict(X_test)"
   ]
  },
  {
   "cell_type": "code",
   "execution_count": 27,
   "id": "fd5d6e89",
   "metadata": {
    "execution": {
     "iopub.execute_input": "2022-12-18T15:00:33.390419Z",
     "iopub.status.busy": "2022-12-18T15:00:33.390012Z",
     "iopub.status.idle": "2022-12-18T15:00:34.994685Z",
     "shell.execute_reply": "2022-12-18T15:00:34.993601Z"
    },
    "papermill": {
     "duration": 1.62406,
     "end_time": "2022-12-18T15:00:34.997081",
     "exception": false,
     "start_time": "2022-12-18T15:00:33.373021",
     "status": "completed"
    },
    "tags": []
   },
   "outputs": [
    {
     "data": {
      "text/html": [
       "<div>\n",
       "<style scoped>\n",
       "    .dataframe tbody tr th:only-of-type {\n",
       "        vertical-align: middle;\n",
       "    }\n",
       "\n",
       "    .dataframe tbody tr th {\n",
       "        vertical-align: top;\n",
       "    }\n",
       "\n",
       "    .dataframe thead th {\n",
       "        text-align: right;\n",
       "    }\n",
       "</style>\n",
       "<table border=\"1\" class=\"dataframe\">\n",
       "  <thead>\n",
       "    <tr style=\"text-align: right;\">\n",
       "      <th></th>\n",
       "      <th>precision</th>\n",
       "      <th>recall</th>\n",
       "      <th>f1-score</th>\n",
       "      <th>support</th>\n",
       "    </tr>\n",
       "  </thead>\n",
       "  <tbody>\n",
       "    <tr>\n",
       "      <th>samples avg</th>\n",
       "      <td>0.406905</td>\n",
       "      <td>0.379385</td>\n",
       "      <td>0.380651</td>\n",
       "      <td>33044.0</td>\n",
       "    </tr>\n",
       "    <tr>\n",
       "      <th>micro avg</th>\n",
       "      <td>0.780031</td>\n",
       "      <td>0.455120</td>\n",
       "      <td>0.574841</td>\n",
       "      <td>33044.0</td>\n",
       "    </tr>\n",
       "    <tr>\n",
       "      <th>weighted avg</th>\n",
       "      <td>0.762518</td>\n",
       "      <td>0.455120</td>\n",
       "      <td>0.563992</td>\n",
       "      <td>33044.0</td>\n",
       "    </tr>\n",
       "    <tr>\n",
       "      <th>macro avg</th>\n",
       "      <td>0.746632</td>\n",
       "      <td>0.425657</td>\n",
       "      <td>0.534277</td>\n",
       "      <td>33044.0</td>\n",
       "    </tr>\n",
       "    <tr>\n",
       "      <th>java</th>\n",
       "      <td>0.831630</td>\n",
       "      <td>0.526138</td>\n",
       "      <td>0.644517</td>\n",
       "      <td>3558.0</td>\n",
       "    </tr>\n",
       "    <tr>\n",
       "      <th>c#</th>\n",
       "      <td>0.686422</td>\n",
       "      <td>0.366830</td>\n",
       "      <td>0.478138</td>\n",
       "      <td>3473.0</td>\n",
       "    </tr>\n",
       "    <tr>\n",
       "      <th>javascript</th>\n",
       "      <td>0.742475</td>\n",
       "      <td>0.529201</td>\n",
       "      <td>0.617954</td>\n",
       "      <td>3356.0</td>\n",
       "    </tr>\n",
       "    <tr>\n",
       "      <th>python</th>\n",
       "      <td>0.902315</td>\n",
       "      <td>0.611792</td>\n",
       "      <td>0.729181</td>\n",
       "      <td>2612.0</td>\n",
       "    </tr>\n",
       "    <tr>\n",
       "      <th>android</th>\n",
       "      <td>0.933975</td>\n",
       "      <td>0.664059</td>\n",
       "      <td>0.776222</td>\n",
       "      <td>2045.0</td>\n",
       "    </tr>\n",
       "    <tr>\n",
       "      <th>c++</th>\n",
       "      <td>0.787489</td>\n",
       "      <td>0.435845</td>\n",
       "      <td>0.561127</td>\n",
       "      <td>1964.0</td>\n",
       "    </tr>\n",
       "    <tr>\n",
       "      <th>ios</th>\n",
       "      <td>0.784535</td>\n",
       "      <td>0.490761</td>\n",
       "      <td>0.603811</td>\n",
       "      <td>1840.0</td>\n",
       "    </tr>\n",
       "    <tr>\n",
       "      <th>html</th>\n",
       "      <td>0.671171</td>\n",
       "      <td>0.424501</td>\n",
       "      <td>0.520070</td>\n",
       "      <td>1755.0</td>\n",
       "    </tr>\n",
       "    <tr>\n",
       "      <th>php</th>\n",
       "      <td>0.877953</td>\n",
       "      <td>0.548248</td>\n",
       "      <td>0.674991</td>\n",
       "      <td>1627.0</td>\n",
       "    </tr>\n",
       "    <tr>\n",
       "      <th>.net</th>\n",
       "      <td>0.567089</td>\n",
       "      <td>0.142766</td>\n",
       "      <td>0.228106</td>\n",
       "      <td>1569.0</td>\n",
       "    </tr>\n",
       "    <tr>\n",
       "      <th>jquery</th>\n",
       "      <td>0.818269</td>\n",
       "      <td>0.553316</td>\n",
       "      <td>0.660202</td>\n",
       "      <td>1538.0</td>\n",
       "    </tr>\n",
       "    <tr>\n",
       "      <th>css</th>\n",
       "      <td>0.829815</td>\n",
       "      <td>0.556145</td>\n",
       "      <td>0.665961</td>\n",
       "      <td>1131.0</td>\n",
       "    </tr>\n",
       "    <tr>\n",
       "      <th>objective-c</th>\n",
       "      <td>0.545455</td>\n",
       "      <td>0.189189</td>\n",
       "      <td>0.280936</td>\n",
       "      <td>888.0</td>\n",
       "    </tr>\n",
       "    <tr>\n",
       "      <th>c</th>\n",
       "      <td>0.663609</td>\n",
       "      <td>0.245198</td>\n",
       "      <td>0.358086</td>\n",
       "      <td>885.0</td>\n",
       "    </tr>\n",
       "    <tr>\n",
       "      <th>sql</th>\n",
       "      <td>0.629091</td>\n",
       "      <td>0.397701</td>\n",
       "      <td>0.487324</td>\n",
       "      <td>870.0</td>\n",
       "    </tr>\n",
       "    <tr>\n",
       "      <th>iphone</th>\n",
       "      <td>0.588816</td>\n",
       "      <td>0.221809</td>\n",
       "      <td>0.322232</td>\n",
       "      <td>807.0</td>\n",
       "    </tr>\n",
       "    <tr>\n",
       "      <th>asp.net</th>\n",
       "      <td>0.661538</td>\n",
       "      <td>0.267081</td>\n",
       "      <td>0.380531</td>\n",
       "      <td>805.0</td>\n",
       "    </tr>\n",
       "    <tr>\n",
       "      <th>mysql</th>\n",
       "      <td>0.824356</td>\n",
       "      <td>0.513869</td>\n",
       "      <td>0.633094</td>\n",
       "      <td>685.0</td>\n",
       "    </tr>\n",
       "    <tr>\n",
       "      <th>node.js</th>\n",
       "      <td>0.763975</td>\n",
       "      <td>0.360704</td>\n",
       "      <td>0.490040</td>\n",
       "      <td>682.0</td>\n",
       "    </tr>\n",
       "    <tr>\n",
       "      <th>linux</th>\n",
       "      <td>0.663830</td>\n",
       "      <td>0.229412</td>\n",
       "      <td>0.340984</td>\n",
       "      <td>680.0</td>\n",
       "    </tr>\n",
       "    <tr>\n",
       "      <th>git</th>\n",
       "      <td>0.905473</td>\n",
       "      <td>0.664234</td>\n",
       "      <td>0.766316</td>\n",
       "      <td>274.0</td>\n",
       "    </tr>\n",
       "  </tbody>\n",
       "</table>\n",
       "</div>"
      ],
      "text/plain": [
       "              precision    recall  f1-score  support\n",
       "samples avg    0.406905  0.379385  0.380651  33044.0\n",
       "micro avg      0.780031  0.455120  0.574841  33044.0\n",
       "weighted avg   0.762518  0.455120  0.563992  33044.0\n",
       "macro avg      0.746632  0.425657  0.534277  33044.0\n",
       "java           0.831630  0.526138  0.644517   3558.0\n",
       "c#             0.686422  0.366830  0.478138   3473.0\n",
       "javascript     0.742475  0.529201  0.617954   3356.0\n",
       "python         0.902315  0.611792  0.729181   2612.0\n",
       "android        0.933975  0.664059  0.776222   2045.0\n",
       "c++            0.787489  0.435845  0.561127   1964.0\n",
       "ios            0.784535  0.490761  0.603811   1840.0\n",
       "html           0.671171  0.424501  0.520070   1755.0\n",
       "php            0.877953  0.548248  0.674991   1627.0\n",
       ".net           0.567089  0.142766  0.228106   1569.0\n",
       "jquery         0.818269  0.553316  0.660202   1538.0\n",
       "css            0.829815  0.556145  0.665961   1131.0\n",
       "objective-c    0.545455  0.189189  0.280936    888.0\n",
       "c              0.663609  0.245198  0.358086    885.0\n",
       "sql            0.629091  0.397701  0.487324    870.0\n",
       "iphone         0.588816  0.221809  0.322232    807.0\n",
       "asp.net        0.661538  0.267081  0.380531    805.0\n",
       "mysql          0.824356  0.513869  0.633094    685.0\n",
       "node.js        0.763975  0.360704  0.490040    682.0\n",
       "linux          0.663830  0.229412  0.340984    680.0\n",
       "git            0.905473  0.664234  0.766316    274.0"
      ]
     },
     "execution_count": 27,
     "metadata": {},
     "output_type": "execute_result"
    }
   ],
   "source": [
    "scores_lr = save_score(y_test, pred_lr, target_names, \"LogisticRegression\")\n",
    "joblib.dump(pipeline_logisticReg, \"LogisticRegression_model.joblib\")\n",
    "scores_lr.sort_values(by=\"support\", ascending=False)"
   ]
  },
  {
   "cell_type": "code",
   "execution_count": 28,
   "id": "758ffd46",
   "metadata": {
    "execution": {
     "iopub.execute_input": "2022-12-18T15:00:35.032496Z",
     "iopub.status.busy": "2022-12-18T15:00:35.032066Z",
     "iopub.status.idle": "2022-12-18T15:00:35.054844Z",
     "shell.execute_reply": "2022-12-18T15:00:35.053747Z"
    },
    "papermill": {
     "duration": 0.042972,
     "end_time": "2022-12-18T15:00:35.057087",
     "exception": false,
     "start_time": "2022-12-18T15:00:35.014115",
     "status": "completed"
    },
    "tags": []
   },
   "outputs": [
    {
     "data": {
      "text/html": [
       "<div>\n",
       "<style scoped>\n",
       "    .dataframe tbody tr th:only-of-type {\n",
       "        vertical-align: middle;\n",
       "    }\n",
       "\n",
       "    .dataframe tbody tr th {\n",
       "        vertical-align: top;\n",
       "    }\n",
       "\n",
       "    .dataframe thead th {\n",
       "        text-align: right;\n",
       "    }\n",
       "</style>\n",
       "<table border=\"1\" class=\"dataframe\">\n",
       "  <thead>\n",
       "    <tr style=\"text-align: right;\">\n",
       "      <th></th>\n",
       "      <th>precision</th>\n",
       "      <th>recall</th>\n",
       "      <th>f1-score</th>\n",
       "      <th>support</th>\n",
       "    </tr>\n",
       "  </thead>\n",
       "  <tbody>\n",
       "    <tr>\n",
       "      <th>android</th>\n",
       "      <td>0.933975</td>\n",
       "      <td>0.664059</td>\n",
       "      <td>0.776222</td>\n",
       "      <td>2045.0</td>\n",
       "    </tr>\n",
       "    <tr>\n",
       "      <th>git</th>\n",
       "      <td>0.905473</td>\n",
       "      <td>0.664234</td>\n",
       "      <td>0.766316</td>\n",
       "      <td>274.0</td>\n",
       "    </tr>\n",
       "    <tr>\n",
       "      <th>python</th>\n",
       "      <td>0.902315</td>\n",
       "      <td>0.611792</td>\n",
       "      <td>0.729181</td>\n",
       "      <td>2612.0</td>\n",
       "    </tr>\n",
       "    <tr>\n",
       "      <th>php</th>\n",
       "      <td>0.877953</td>\n",
       "      <td>0.548248</td>\n",
       "      <td>0.674991</td>\n",
       "      <td>1627.0</td>\n",
       "    </tr>\n",
       "    <tr>\n",
       "      <th>java</th>\n",
       "      <td>0.831630</td>\n",
       "      <td>0.526138</td>\n",
       "      <td>0.644517</td>\n",
       "      <td>3558.0</td>\n",
       "    </tr>\n",
       "    <tr>\n",
       "      <th>css</th>\n",
       "      <td>0.829815</td>\n",
       "      <td>0.556145</td>\n",
       "      <td>0.665961</td>\n",
       "      <td>1131.0</td>\n",
       "    </tr>\n",
       "    <tr>\n",
       "      <th>mysql</th>\n",
       "      <td>0.824356</td>\n",
       "      <td>0.513869</td>\n",
       "      <td>0.633094</td>\n",
       "      <td>685.0</td>\n",
       "    </tr>\n",
       "    <tr>\n",
       "      <th>jquery</th>\n",
       "      <td>0.818269</td>\n",
       "      <td>0.553316</td>\n",
       "      <td>0.660202</td>\n",
       "      <td>1538.0</td>\n",
       "    </tr>\n",
       "    <tr>\n",
       "      <th>c++</th>\n",
       "      <td>0.787489</td>\n",
       "      <td>0.435845</td>\n",
       "      <td>0.561127</td>\n",
       "      <td>1964.0</td>\n",
       "    </tr>\n",
       "    <tr>\n",
       "      <th>ios</th>\n",
       "      <td>0.784535</td>\n",
       "      <td>0.490761</td>\n",
       "      <td>0.603811</td>\n",
       "      <td>1840.0</td>\n",
       "    </tr>\n",
       "    <tr>\n",
       "      <th>micro avg</th>\n",
       "      <td>0.780031</td>\n",
       "      <td>0.455120</td>\n",
       "      <td>0.574841</td>\n",
       "      <td>33044.0</td>\n",
       "    </tr>\n",
       "    <tr>\n",
       "      <th>node.js</th>\n",
       "      <td>0.763975</td>\n",
       "      <td>0.360704</td>\n",
       "      <td>0.490040</td>\n",
       "      <td>682.0</td>\n",
       "    </tr>\n",
       "    <tr>\n",
       "      <th>weighted avg</th>\n",
       "      <td>0.762518</td>\n",
       "      <td>0.455120</td>\n",
       "      <td>0.563992</td>\n",
       "      <td>33044.0</td>\n",
       "    </tr>\n",
       "    <tr>\n",
       "      <th>macro avg</th>\n",
       "      <td>0.746632</td>\n",
       "      <td>0.425657</td>\n",
       "      <td>0.534277</td>\n",
       "      <td>33044.0</td>\n",
       "    </tr>\n",
       "    <tr>\n",
       "      <th>javascript</th>\n",
       "      <td>0.742475</td>\n",
       "      <td>0.529201</td>\n",
       "      <td>0.617954</td>\n",
       "      <td>3356.0</td>\n",
       "    </tr>\n",
       "    <tr>\n",
       "      <th>c#</th>\n",
       "      <td>0.686422</td>\n",
       "      <td>0.366830</td>\n",
       "      <td>0.478138</td>\n",
       "      <td>3473.0</td>\n",
       "    </tr>\n",
       "    <tr>\n",
       "      <th>html</th>\n",
       "      <td>0.671171</td>\n",
       "      <td>0.424501</td>\n",
       "      <td>0.520070</td>\n",
       "      <td>1755.0</td>\n",
       "    </tr>\n",
       "    <tr>\n",
       "      <th>linux</th>\n",
       "      <td>0.663830</td>\n",
       "      <td>0.229412</td>\n",
       "      <td>0.340984</td>\n",
       "      <td>680.0</td>\n",
       "    </tr>\n",
       "    <tr>\n",
       "      <th>c</th>\n",
       "      <td>0.663609</td>\n",
       "      <td>0.245198</td>\n",
       "      <td>0.358086</td>\n",
       "      <td>885.0</td>\n",
       "    </tr>\n",
       "    <tr>\n",
       "      <th>asp.net</th>\n",
       "      <td>0.661538</td>\n",
       "      <td>0.267081</td>\n",
       "      <td>0.380531</td>\n",
       "      <td>805.0</td>\n",
       "    </tr>\n",
       "    <tr>\n",
       "      <th>sql</th>\n",
       "      <td>0.629091</td>\n",
       "      <td>0.397701</td>\n",
       "      <td>0.487324</td>\n",
       "      <td>870.0</td>\n",
       "    </tr>\n",
       "    <tr>\n",
       "      <th>iphone</th>\n",
       "      <td>0.588816</td>\n",
       "      <td>0.221809</td>\n",
       "      <td>0.322232</td>\n",
       "      <td>807.0</td>\n",
       "    </tr>\n",
       "    <tr>\n",
       "      <th>.net</th>\n",
       "      <td>0.567089</td>\n",
       "      <td>0.142766</td>\n",
       "      <td>0.228106</td>\n",
       "      <td>1569.0</td>\n",
       "    </tr>\n",
       "    <tr>\n",
       "      <th>objective-c</th>\n",
       "      <td>0.545455</td>\n",
       "      <td>0.189189</td>\n",
       "      <td>0.280936</td>\n",
       "      <td>888.0</td>\n",
       "    </tr>\n",
       "    <tr>\n",
       "      <th>samples avg</th>\n",
       "      <td>0.406905</td>\n",
       "      <td>0.379385</td>\n",
       "      <td>0.380651</td>\n",
       "      <td>33044.0</td>\n",
       "    </tr>\n",
       "  </tbody>\n",
       "</table>\n",
       "</div>"
      ],
      "text/plain": [
       "              precision    recall  f1-score  support\n",
       "android        0.933975  0.664059  0.776222   2045.0\n",
       "git            0.905473  0.664234  0.766316    274.0\n",
       "python         0.902315  0.611792  0.729181   2612.0\n",
       "php            0.877953  0.548248  0.674991   1627.0\n",
       "java           0.831630  0.526138  0.644517   3558.0\n",
       "css            0.829815  0.556145  0.665961   1131.0\n",
       "mysql          0.824356  0.513869  0.633094    685.0\n",
       "jquery         0.818269  0.553316  0.660202   1538.0\n",
       "c++            0.787489  0.435845  0.561127   1964.0\n",
       "ios            0.784535  0.490761  0.603811   1840.0\n",
       "micro avg      0.780031  0.455120  0.574841  33044.0\n",
       "node.js        0.763975  0.360704  0.490040    682.0\n",
       "weighted avg   0.762518  0.455120  0.563992  33044.0\n",
       "macro avg      0.746632  0.425657  0.534277  33044.0\n",
       "javascript     0.742475  0.529201  0.617954   3356.0\n",
       "c#             0.686422  0.366830  0.478138   3473.0\n",
       "html           0.671171  0.424501  0.520070   1755.0\n",
       "linux          0.663830  0.229412  0.340984    680.0\n",
       "c              0.663609  0.245198  0.358086    885.0\n",
       "asp.net        0.661538  0.267081  0.380531    805.0\n",
       "sql            0.629091  0.397701  0.487324    870.0\n",
       "iphone         0.588816  0.221809  0.322232    807.0\n",
       ".net           0.567089  0.142766  0.228106   1569.0\n",
       "objective-c    0.545455  0.189189  0.280936    888.0\n",
       "samples avg    0.406905  0.379385  0.380651  33044.0"
      ]
     },
     "execution_count": 28,
     "metadata": {},
     "output_type": "execute_result"
    }
   ],
   "source": [
    "scores_lr.sort_values(by=\"precision\", ascending=False)"
   ]
  },
  {
   "cell_type": "code",
   "execution_count": 29,
   "id": "79ad8376",
   "metadata": {
    "execution": {
     "iopub.execute_input": "2022-12-18T15:00:35.093315Z",
     "iopub.status.busy": "2022-12-18T15:00:35.092916Z",
     "iopub.status.idle": "2022-12-18T15:00:35.114662Z",
     "shell.execute_reply": "2022-12-18T15:00:35.113557Z"
    },
    "papermill": {
     "duration": 0.042451,
     "end_time": "2022-12-18T15:00:35.116884",
     "exception": false,
     "start_time": "2022-12-18T15:00:35.074433",
     "status": "completed"
    },
    "tags": []
   },
   "outputs": [
    {
     "data": {
      "text/html": [
       "<div>\n",
       "<style scoped>\n",
       "    .dataframe tbody tr th:only-of-type {\n",
       "        vertical-align: middle;\n",
       "    }\n",
       "\n",
       "    .dataframe tbody tr th {\n",
       "        vertical-align: top;\n",
       "    }\n",
       "\n",
       "    .dataframe thead th {\n",
       "        text-align: right;\n",
       "    }\n",
       "</style>\n",
       "<table border=\"1\" class=\"dataframe\">\n",
       "  <thead>\n",
       "    <tr style=\"text-align: right;\">\n",
       "      <th></th>\n",
       "      <th>precision</th>\n",
       "      <th>recall</th>\n",
       "      <th>f1-score</th>\n",
       "      <th>support</th>\n",
       "    </tr>\n",
       "  </thead>\n",
       "  <tbody>\n",
       "    <tr>\n",
       "      <th>git</th>\n",
       "      <td>0.905473</td>\n",
       "      <td>0.664234</td>\n",
       "      <td>0.766316</td>\n",
       "      <td>274.0</td>\n",
       "    </tr>\n",
       "    <tr>\n",
       "      <th>android</th>\n",
       "      <td>0.933975</td>\n",
       "      <td>0.664059</td>\n",
       "      <td>0.776222</td>\n",
       "      <td>2045.0</td>\n",
       "    </tr>\n",
       "    <tr>\n",
       "      <th>python</th>\n",
       "      <td>0.902315</td>\n",
       "      <td>0.611792</td>\n",
       "      <td>0.729181</td>\n",
       "      <td>2612.0</td>\n",
       "    </tr>\n",
       "    <tr>\n",
       "      <th>css</th>\n",
       "      <td>0.829815</td>\n",
       "      <td>0.556145</td>\n",
       "      <td>0.665961</td>\n",
       "      <td>1131.0</td>\n",
       "    </tr>\n",
       "    <tr>\n",
       "      <th>jquery</th>\n",
       "      <td>0.818269</td>\n",
       "      <td>0.553316</td>\n",
       "      <td>0.660202</td>\n",
       "      <td>1538.0</td>\n",
       "    </tr>\n",
       "    <tr>\n",
       "      <th>php</th>\n",
       "      <td>0.877953</td>\n",
       "      <td>0.548248</td>\n",
       "      <td>0.674991</td>\n",
       "      <td>1627.0</td>\n",
       "    </tr>\n",
       "    <tr>\n",
       "      <th>javascript</th>\n",
       "      <td>0.742475</td>\n",
       "      <td>0.529201</td>\n",
       "      <td>0.617954</td>\n",
       "      <td>3356.0</td>\n",
       "    </tr>\n",
       "    <tr>\n",
       "      <th>java</th>\n",
       "      <td>0.831630</td>\n",
       "      <td>0.526138</td>\n",
       "      <td>0.644517</td>\n",
       "      <td>3558.0</td>\n",
       "    </tr>\n",
       "    <tr>\n",
       "      <th>mysql</th>\n",
       "      <td>0.824356</td>\n",
       "      <td>0.513869</td>\n",
       "      <td>0.633094</td>\n",
       "      <td>685.0</td>\n",
       "    </tr>\n",
       "    <tr>\n",
       "      <th>ios</th>\n",
       "      <td>0.784535</td>\n",
       "      <td>0.490761</td>\n",
       "      <td>0.603811</td>\n",
       "      <td>1840.0</td>\n",
       "    </tr>\n",
       "    <tr>\n",
       "      <th>weighted avg</th>\n",
       "      <td>0.762518</td>\n",
       "      <td>0.455120</td>\n",
       "      <td>0.563992</td>\n",
       "      <td>33044.0</td>\n",
       "    </tr>\n",
       "    <tr>\n",
       "      <th>micro avg</th>\n",
       "      <td>0.780031</td>\n",
       "      <td>0.455120</td>\n",
       "      <td>0.574841</td>\n",
       "      <td>33044.0</td>\n",
       "    </tr>\n",
       "    <tr>\n",
       "      <th>c++</th>\n",
       "      <td>0.787489</td>\n",
       "      <td>0.435845</td>\n",
       "      <td>0.561127</td>\n",
       "      <td>1964.0</td>\n",
       "    </tr>\n",
       "    <tr>\n",
       "      <th>macro avg</th>\n",
       "      <td>0.746632</td>\n",
       "      <td>0.425657</td>\n",
       "      <td>0.534277</td>\n",
       "      <td>33044.0</td>\n",
       "    </tr>\n",
       "    <tr>\n",
       "      <th>html</th>\n",
       "      <td>0.671171</td>\n",
       "      <td>0.424501</td>\n",
       "      <td>0.520070</td>\n",
       "      <td>1755.0</td>\n",
       "    </tr>\n",
       "    <tr>\n",
       "      <th>sql</th>\n",
       "      <td>0.629091</td>\n",
       "      <td>0.397701</td>\n",
       "      <td>0.487324</td>\n",
       "      <td>870.0</td>\n",
       "    </tr>\n",
       "    <tr>\n",
       "      <th>samples avg</th>\n",
       "      <td>0.406905</td>\n",
       "      <td>0.379385</td>\n",
       "      <td>0.380651</td>\n",
       "      <td>33044.0</td>\n",
       "    </tr>\n",
       "    <tr>\n",
       "      <th>c#</th>\n",
       "      <td>0.686422</td>\n",
       "      <td>0.366830</td>\n",
       "      <td>0.478138</td>\n",
       "      <td>3473.0</td>\n",
       "    </tr>\n",
       "    <tr>\n",
       "      <th>node.js</th>\n",
       "      <td>0.763975</td>\n",
       "      <td>0.360704</td>\n",
       "      <td>0.490040</td>\n",
       "      <td>682.0</td>\n",
       "    </tr>\n",
       "    <tr>\n",
       "      <th>asp.net</th>\n",
       "      <td>0.661538</td>\n",
       "      <td>0.267081</td>\n",
       "      <td>0.380531</td>\n",
       "      <td>805.0</td>\n",
       "    </tr>\n",
       "    <tr>\n",
       "      <th>c</th>\n",
       "      <td>0.663609</td>\n",
       "      <td>0.245198</td>\n",
       "      <td>0.358086</td>\n",
       "      <td>885.0</td>\n",
       "    </tr>\n",
       "    <tr>\n",
       "      <th>linux</th>\n",
       "      <td>0.663830</td>\n",
       "      <td>0.229412</td>\n",
       "      <td>0.340984</td>\n",
       "      <td>680.0</td>\n",
       "    </tr>\n",
       "    <tr>\n",
       "      <th>iphone</th>\n",
       "      <td>0.588816</td>\n",
       "      <td>0.221809</td>\n",
       "      <td>0.322232</td>\n",
       "      <td>807.0</td>\n",
       "    </tr>\n",
       "    <tr>\n",
       "      <th>objective-c</th>\n",
       "      <td>0.545455</td>\n",
       "      <td>0.189189</td>\n",
       "      <td>0.280936</td>\n",
       "      <td>888.0</td>\n",
       "    </tr>\n",
       "    <tr>\n",
       "      <th>.net</th>\n",
       "      <td>0.567089</td>\n",
       "      <td>0.142766</td>\n",
       "      <td>0.228106</td>\n",
       "      <td>1569.0</td>\n",
       "    </tr>\n",
       "  </tbody>\n",
       "</table>\n",
       "</div>"
      ],
      "text/plain": [
       "              precision    recall  f1-score  support\n",
       "git            0.905473  0.664234  0.766316    274.0\n",
       "android        0.933975  0.664059  0.776222   2045.0\n",
       "python         0.902315  0.611792  0.729181   2612.0\n",
       "css            0.829815  0.556145  0.665961   1131.0\n",
       "jquery         0.818269  0.553316  0.660202   1538.0\n",
       "php            0.877953  0.548248  0.674991   1627.0\n",
       "javascript     0.742475  0.529201  0.617954   3356.0\n",
       "java           0.831630  0.526138  0.644517   3558.0\n",
       "mysql          0.824356  0.513869  0.633094    685.0\n",
       "ios            0.784535  0.490761  0.603811   1840.0\n",
       "weighted avg   0.762518  0.455120  0.563992  33044.0\n",
       "micro avg      0.780031  0.455120  0.574841  33044.0\n",
       "c++            0.787489  0.435845  0.561127   1964.0\n",
       "macro avg      0.746632  0.425657  0.534277  33044.0\n",
       "html           0.671171  0.424501  0.520070   1755.0\n",
       "sql            0.629091  0.397701  0.487324    870.0\n",
       "samples avg    0.406905  0.379385  0.380651  33044.0\n",
       "c#             0.686422  0.366830  0.478138   3473.0\n",
       "node.js        0.763975  0.360704  0.490040    682.0\n",
       "asp.net        0.661538  0.267081  0.380531    805.0\n",
       "c              0.663609  0.245198  0.358086    885.0\n",
       "linux          0.663830  0.229412  0.340984    680.0\n",
       "iphone         0.588816  0.221809  0.322232    807.0\n",
       "objective-c    0.545455  0.189189  0.280936    888.0\n",
       ".net           0.567089  0.142766  0.228106   1569.0"
      ]
     },
     "execution_count": 29,
     "metadata": {},
     "output_type": "execute_result"
    }
   ],
   "source": [
    "scores_lr.sort_values(by=\"recall\", ascending=False)"
   ]
  },
  {
   "cell_type": "markdown",
   "id": "ca568ef5",
   "metadata": {
    "papermill": {
     "duration": 0.017069,
     "end_time": "2022-12-18T15:00:35.151750",
     "exception": false,
     "start_time": "2022-12-18T15:00:35.134681",
     "status": "completed"
    },
    "tags": []
   },
   "source": [
    "## SVC"
   ]
  },
  {
   "cell_type": "code",
   "execution_count": 30,
   "id": "2ce63009",
   "metadata": {
    "execution": {
     "iopub.execute_input": "2022-12-18T15:00:35.188109Z",
     "iopub.status.busy": "2022-12-18T15:00:35.187716Z",
     "iopub.status.idle": "2022-12-18T15:00:35.215333Z",
     "shell.execute_reply": "2022-12-18T15:00:35.214440Z"
    },
    "papermill": {
     "duration": 0.048501,
     "end_time": "2022-12-18T15:00:35.217414",
     "exception": false,
     "start_time": "2022-12-18T15:00:35.168913",
     "status": "completed"
    },
    "tags": []
   },
   "outputs": [],
   "source": [
    "pipeline_svc= pipeline.Pipeline(\n",
    "    [\n",
    "        (\"tfidf\", pipeline_tfidf),\n",
    "        (\n",
    "            \"OvRSVC\",\n",
    "            multiclass.OneVsRestClassifier(\n",
    "                svm.SVC(cache_size=1080, max_iter=5_000 if LONG else 1_000, random_state=42)\n",
    "            ),\n",
    "        ),\n",
    "    ]\n",
    ")"
   ]
  },
  {
   "cell_type": "code",
   "execution_count": 31,
   "id": "ef5f7f2c",
   "metadata": {
    "execution": {
     "iopub.execute_input": "2022-12-18T15:00:35.254605Z",
     "iopub.status.busy": "2022-12-18T15:00:35.254233Z",
     "iopub.status.idle": "2022-12-18T15:21:10.649527Z",
     "shell.execute_reply": "2022-12-18T15:21:10.648472Z"
    },
    "papermill": {
     "duration": 1235.433486,
     "end_time": "2022-12-18T15:21:10.668751",
     "exception": false,
     "start_time": "2022-12-18T15:00:35.235265",
     "status": "completed"
    },
    "tags": []
   },
   "outputs": [
    {
     "name": "stdout",
     "output_type": "stream",
     "text": [
      "CPU times: user 20min 23s, sys: 11.6 s, total: 20min 35s\n",
      "Wall time: 20min 35s\n"
     ]
    }
   ],
   "source": [
    "%%time\n",
    "with ignore_warnings(category=exceptions.ConvergenceWarning):\n",
    "    pipeline_svc.fit(\n",
    "        X_train,\n",
    "        y_train,\n",
    "    )"
   ]
  },
  {
   "cell_type": "code",
   "execution_count": 32,
   "id": "1cda69b7",
   "metadata": {
    "execution": {
     "iopub.execute_input": "2022-12-18T15:21:10.703554Z",
     "iopub.status.busy": "2022-12-18T15:21:10.703183Z",
     "iopub.status.idle": "2022-12-18T15:28:07.053402Z",
     "shell.execute_reply": "2022-12-18T15:28:07.052332Z"
    },
    "papermill": {
     "duration": 416.388977,
     "end_time": "2022-12-18T15:28:07.074314",
     "exception": false,
     "start_time": "2022-12-18T15:21:10.685337",
     "status": "completed"
    },
    "tags": []
   },
   "outputs": [
    {
     "name": "stdout",
     "output_type": "stream",
     "text": [
      "CPU times: user 6min 57s, sys: 802 ms, total: 6min 57s\n",
      "Wall time: 6min 56s\n"
     ]
    },
    {
     "data": {
      "text/plain": [
       "array([[0, 0, 0, ..., 0, 0, 0],\n",
       "       [0, 0, 0, ..., 0, 0, 0],\n",
       "       [0, 0, 0, ..., 0, 0, 0],\n",
       "       ...,\n",
       "       [0, 0, 0, ..., 0, 0, 0],\n",
       "       [0, 0, 1, ..., 0, 0, 0],\n",
       "       [0, 0, 0, ..., 0, 0, 0]])"
      ]
     },
     "execution_count": 32,
     "metadata": {},
     "output_type": "execute_result"
    }
   ],
   "source": [
    "%%time\n",
    "pred_svc = pipeline_svc.predict(X_test)\n",
    "pred_svc"
   ]
  },
  {
   "cell_type": "markdown",
   "id": "98024f16",
   "metadata": {
    "papermill": {
     "duration": 0.016993,
     "end_time": "2022-12-18T15:28:07.108507",
     "exception": false,
     "start_time": "2022-12-18T15:28:07.091514",
     "status": "completed"
    },
    "tags": []
   },
   "source": [
    "### Score et enregistrement"
   ]
  },
  {
   "cell_type": "code",
   "execution_count": 33,
   "id": "0ccea274",
   "metadata": {
    "execution": {
     "iopub.execute_input": "2022-12-18T15:28:07.145368Z",
     "iopub.status.busy": "2022-12-18T15:28:07.144987Z",
     "iopub.status.idle": "2022-12-18T15:28:08.754750Z",
     "shell.execute_reply": "2022-12-18T15:28:08.753700Z"
    },
    "papermill": {
     "duration": 1.631087,
     "end_time": "2022-12-18T15:28:08.757096",
     "exception": false,
     "start_time": "2022-12-18T15:28:07.126009",
     "status": "completed"
    },
    "tags": []
   },
   "outputs": [
    {
     "data": {
      "text/html": [
       "<div>\n",
       "<style scoped>\n",
       "    .dataframe tbody tr th:only-of-type {\n",
       "        vertical-align: middle;\n",
       "    }\n",
       "\n",
       "    .dataframe tbody tr th {\n",
       "        vertical-align: top;\n",
       "    }\n",
       "\n",
       "    .dataframe thead th {\n",
       "        text-align: right;\n",
       "    }\n",
       "</style>\n",
       "<table border=\"1\" class=\"dataframe\">\n",
       "  <thead>\n",
       "    <tr style=\"text-align: right;\">\n",
       "      <th></th>\n",
       "      <th>precision</th>\n",
       "      <th>recall</th>\n",
       "      <th>f1-score</th>\n",
       "      <th>support</th>\n",
       "    </tr>\n",
       "  </thead>\n",
       "  <tbody>\n",
       "    <tr>\n",
       "      <th>git</th>\n",
       "      <td>0.903509</td>\n",
       "      <td>0.751825</td>\n",
       "      <td>0.820717</td>\n",
       "      <td>274.0</td>\n",
       "    </tr>\n",
       "    <tr>\n",
       "      <th>c++</th>\n",
       "      <td>0.754601</td>\n",
       "      <td>0.250509</td>\n",
       "      <td>0.376147</td>\n",
       "      <td>1964.0</td>\n",
       "    </tr>\n",
       "    <tr>\n",
       "      <th>mysql</th>\n",
       "      <td>0.753704</td>\n",
       "      <td>0.594161</td>\n",
       "      <td>0.664490</td>\n",
       "      <td>685.0</td>\n",
       "    </tr>\n",
       "    <tr>\n",
       "      <th>android</th>\n",
       "      <td>0.694884</td>\n",
       "      <td>0.730562</td>\n",
       "      <td>0.712277</td>\n",
       "      <td>2045.0</td>\n",
       "    </tr>\n",
       "    <tr>\n",
       "      <th>node.js</th>\n",
       "      <td>0.586552</td>\n",
       "      <td>0.601173</td>\n",
       "      <td>0.593773</td>\n",
       "      <td>682.0</td>\n",
       "    </tr>\n",
       "    <tr>\n",
       "      <th>linux</th>\n",
       "      <td>0.544444</td>\n",
       "      <td>0.216176</td>\n",
       "      <td>0.309474</td>\n",
       "      <td>680.0</td>\n",
       "    </tr>\n",
       "    <tr>\n",
       "      <th>jquery</th>\n",
       "      <td>0.514717</td>\n",
       "      <td>0.443433</td>\n",
       "      <td>0.476423</td>\n",
       "      <td>1538.0</td>\n",
       "    </tr>\n",
       "    <tr>\n",
       "      <th>css</th>\n",
       "      <td>0.457585</td>\n",
       "      <td>0.653404</td>\n",
       "      <td>0.538237</td>\n",
       "      <td>1131.0</td>\n",
       "    </tr>\n",
       "    <tr>\n",
       "      <th>python</th>\n",
       "      <td>0.448074</td>\n",
       "      <td>0.703675</td>\n",
       "      <td>0.547513</td>\n",
       "      <td>2612.0</td>\n",
       "    </tr>\n",
       "    <tr>\n",
       "      <th>javascript</th>\n",
       "      <td>0.437308</td>\n",
       "      <td>0.338796</td>\n",
       "      <td>0.381800</td>\n",
       "      <td>3356.0</td>\n",
       "    </tr>\n",
       "    <tr>\n",
       "      <th>macro avg</th>\n",
       "      <td>0.429152</td>\n",
       "      <td>0.512963</td>\n",
       "      <td>0.436849</td>\n",
       "      <td>33044.0</td>\n",
       "    </tr>\n",
       "    <tr>\n",
       "      <th>weighted avg</th>\n",
       "      <td>0.404102</td>\n",
       "      <td>0.520064</td>\n",
       "      <td>0.424805</td>\n",
       "      <td>33044.0</td>\n",
       "    </tr>\n",
       "    <tr>\n",
       "      <th>php</th>\n",
       "      <td>0.361521</td>\n",
       "      <td>0.677935</td>\n",
       "      <td>0.471569</td>\n",
       "      <td>1627.0</td>\n",
       "    </tr>\n",
       "    <tr>\n",
       "      <th>java</th>\n",
       "      <td>0.351802</td>\n",
       "      <td>0.622822</td>\n",
       "      <td>0.449630</td>\n",
       "      <td>3558.0</td>\n",
       "    </tr>\n",
       "    <tr>\n",
       "      <th>asp.net</th>\n",
       "      <td>0.342138</td>\n",
       "      <td>0.337888</td>\n",
       "      <td>0.340000</td>\n",
       "      <td>805.0</td>\n",
       "    </tr>\n",
       "    <tr>\n",
       "      <th>micro avg</th>\n",
       "      <td>0.336394</td>\n",
       "      <td>0.520064</td>\n",
       "      <td>0.408534</td>\n",
       "      <td>33044.0</td>\n",
       "    </tr>\n",
       "    <tr>\n",
       "      <th>samples avg</th>\n",
       "      <td>0.331598</td>\n",
       "      <td>0.431463</td>\n",
       "      <td>0.349181</td>\n",
       "      <td>33044.0</td>\n",
       "    </tr>\n",
       "    <tr>\n",
       "      <th>ios</th>\n",
       "      <td>0.322519</td>\n",
       "      <td>0.637500</td>\n",
       "      <td>0.428337</td>\n",
       "      <td>1840.0</td>\n",
       "    </tr>\n",
       "    <tr>\n",
       "      <th>sql</th>\n",
       "      <td>0.285714</td>\n",
       "      <td>0.455172</td>\n",
       "      <td>0.351064</td>\n",
       "      <td>870.0</td>\n",
       "    </tr>\n",
       "    <tr>\n",
       "      <th>c#</th>\n",
       "      <td>0.255605</td>\n",
       "      <td>0.525194</td>\n",
       "      <td>0.343859</td>\n",
       "      <td>3473.0</td>\n",
       "    </tr>\n",
       "    <tr>\n",
       "      <th>c</th>\n",
       "      <td>0.250741</td>\n",
       "      <td>0.477966</td>\n",
       "      <td>0.328927</td>\n",
       "      <td>885.0</td>\n",
       "    </tr>\n",
       "    <tr>\n",
       "      <th>iphone</th>\n",
       "      <td>0.212963</td>\n",
       "      <td>0.427509</td>\n",
       "      <td>0.284302</td>\n",
       "      <td>807.0</td>\n",
       "    </tr>\n",
       "    <tr>\n",
       "      <th>objective-c</th>\n",
       "      <td>0.211086</td>\n",
       "      <td>0.424550</td>\n",
       "      <td>0.281975</td>\n",
       "      <td>888.0</td>\n",
       "    </tr>\n",
       "    <tr>\n",
       "      <th>html</th>\n",
       "      <td>0.194793</td>\n",
       "      <td>0.477493</td>\n",
       "      <td>0.276705</td>\n",
       "      <td>1755.0</td>\n",
       "    </tr>\n",
       "    <tr>\n",
       "      <th>.net</th>\n",
       "      <td>0.127929</td>\n",
       "      <td>0.424474</td>\n",
       "      <td>0.196605</td>\n",
       "      <td>1569.0</td>\n",
       "    </tr>\n",
       "  </tbody>\n",
       "</table>\n",
       "</div>"
      ],
      "text/plain": [
       "              precision    recall  f1-score  support\n",
       "git            0.903509  0.751825  0.820717    274.0\n",
       "c++            0.754601  0.250509  0.376147   1964.0\n",
       "mysql          0.753704  0.594161  0.664490    685.0\n",
       "android        0.694884  0.730562  0.712277   2045.0\n",
       "node.js        0.586552  0.601173  0.593773    682.0\n",
       "linux          0.544444  0.216176  0.309474    680.0\n",
       "jquery         0.514717  0.443433  0.476423   1538.0\n",
       "css            0.457585  0.653404  0.538237   1131.0\n",
       "python         0.448074  0.703675  0.547513   2612.0\n",
       "javascript     0.437308  0.338796  0.381800   3356.0\n",
       "macro avg      0.429152  0.512963  0.436849  33044.0\n",
       "weighted avg   0.404102  0.520064  0.424805  33044.0\n",
       "php            0.361521  0.677935  0.471569   1627.0\n",
       "java           0.351802  0.622822  0.449630   3558.0\n",
       "asp.net        0.342138  0.337888  0.340000    805.0\n",
       "micro avg      0.336394  0.520064  0.408534  33044.0\n",
       "samples avg    0.331598  0.431463  0.349181  33044.0\n",
       "ios            0.322519  0.637500  0.428337   1840.0\n",
       "sql            0.285714  0.455172  0.351064    870.0\n",
       "c#             0.255605  0.525194  0.343859   3473.0\n",
       "c              0.250741  0.477966  0.328927    885.0\n",
       "iphone         0.212963  0.427509  0.284302    807.0\n",
       "objective-c    0.211086  0.424550  0.281975    888.0\n",
       "html           0.194793  0.477493  0.276705   1755.0\n",
       ".net           0.127929  0.424474  0.196605   1569.0"
      ]
     },
     "execution_count": 33,
     "metadata": {},
     "output_type": "execute_result"
    }
   ],
   "source": [
    "scores_svc = save_score(y_test,pred_svc,target_names,\"TfidfOvRestSvc\")\n",
    "joblib.dump(pipeline_svc,\"TfidfOvRestSvc_model.joblib\")\n",
    "scores_svc.sort_values(by=\"precision\", ascending=False)"
   ]
  },
  {
   "cell_type": "markdown",
   "id": "4b24169c",
   "metadata": {
    "papermill": {
     "duration": 0.018403,
     "end_time": "2022-12-18T15:28:08.793389",
     "exception": false,
     "start_time": "2022-12-18T15:28:08.774986",
     "status": "completed"
    },
    "tags": []
   },
   "source": [
    "# Word2Vec"
   ]
  },
  {
   "cell_type": "code",
   "execution_count": 34,
   "id": "478acf7c",
   "metadata": {
    "execution": {
     "iopub.execute_input": "2022-12-18T15:28:08.831454Z",
     "iopub.status.busy": "2022-12-18T15:28:08.830597Z",
     "iopub.status.idle": "2022-12-18T15:28:08.842106Z",
     "shell.execute_reply": "2022-12-18T15:28:08.841031Z"
    },
    "papermill": {
     "duration": 0.032541,
     "end_time": "2022-12-18T15:28:08.844179",
     "exception": false,
     "start_time": "2022-12-18T15:28:08.811638",
     "status": "completed"
    },
    "tags": []
   },
   "outputs": [
    {
     "data": {
      "text/plain": [
       "42834     streetview api hiding fullscreen controltry hi...\n",
       "25716      reason if(1 fooread legacy code see reason write\n",
       "93960     android studio junit testingupdate accord buil...\n",
       "106821    string database tableneed generate string digi...\n",
       "84135     communication loop guimake gui python machine ...\n",
       "55325     test devise view rspecgenerate devise view run...\n",
       "50066     html drag drop tablewant html drag drop table ...\n",
       "1171      check internet access android inetaddress time...\n",
       "38945     generate apply diff pythonbox way python gener...\n",
       "109885    git mercurial workflowtry establish worflow re...\n",
       "Name: Token, dtype: object"
      ]
     },
     "execution_count": 34,
     "metadata": {},
     "output_type": "execute_result"
    }
   ],
   "source": [
    "X_train[0:10]"
   ]
  },
  {
   "cell_type": "code",
   "execution_count": 35,
   "id": "5d330da6",
   "metadata": {
    "execution": {
     "iopub.execute_input": "2022-12-18T15:28:08.881926Z",
     "iopub.status.busy": "2022-12-18T15:28:08.881255Z",
     "iopub.status.idle": "2022-12-18T15:28:08.885936Z",
     "shell.execute_reply": "2022-12-18T15:28:08.885164Z"
    },
    "papermill": {
     "duration": 0.025788,
     "end_time": "2022-12-18T15:28:08.887930",
     "exception": false,
     "start_time": "2022-12-18T15:28:08.862142",
     "status": "completed"
    },
    "tags": []
   },
   "outputs": [],
   "source": [
    "# gensim.corpora.Dictionary(token[\"Token\"])"
   ]
  },
  {
   "cell_type": "code",
   "execution_count": 36,
   "id": "9ee675bb",
   "metadata": {
    "execution": {
     "iopub.execute_input": "2022-12-18T15:28:08.924280Z",
     "iopub.status.busy": "2022-12-18T15:28:08.923898Z",
     "iopub.status.idle": "2022-12-18T15:52:51.636441Z",
     "shell.execute_reply": "2022-12-18T15:52:51.635466Z"
    },
    "papermill": {
     "duration": 1482.748777,
     "end_time": "2022-12-18T15:52:51.654138",
     "exception": false,
     "start_time": "2022-12-18T15:28:08.905361",
     "status": "completed"
    },
    "tags": []
   },
   "outputs": [
    {
     "name": "stdout",
     "output_type": "stream",
     "text": [
      "Build & train Word2Vec model ...\n",
      "Vocabulary size: 739\n",
      "Word2Vec trained\n",
      "CPU times: user 24min 41s, sys: 17.4 s, total: 24min 58s\n",
      "Wall time: 24min 42s\n"
     ]
    }
   ],
   "source": [
    "%%time\n",
    "print(\"Build & train Word2Vec model ...\")\n",
    "# sentences = [gensim.utils.simple_preprocess(text) for text in df[0:20_000][\"Token\"]]\n",
    "# sentences = X_train\n",
    "w2v_min_count = 1\n",
    "w2v_size = 300\n",
    "w2v_window = 5\n",
    "w2v_epochs = 100\n",
    "maxlen = 24\n",
    "w2v_model = gensim.models.Word2Vec(\n",
    "    min_count=w2v_min_count, window=w2v_window, vector_size=w2v_size, seed=42, workers=1\n",
    ")\n",
    "#                                                workers=multiprocessing.cpu_count())\n",
    "w2v_model.build_vocab(X_train)\n",
    "w2v_model.train(X_train, total_examples=w2v_model.corpus_count, epochs=w2v_epochs)\n",
    "model_vectors = w2v_model.wv\n",
    "w2v_words = model_vectors.index_to_key\n",
    "print(\"Vocabulary size: %i\" % len(w2v_words))\n",
    "print(\"Word2Vec trained\")"
   ]
  },
  {
   "cell_type": "code",
   "execution_count": 37,
   "id": "9e5af97d",
   "metadata": {
    "execution": {
     "iopub.execute_input": "2022-12-18T15:52:51.686333Z",
     "iopub.status.busy": "2022-12-18T15:52:51.686017Z",
     "iopub.status.idle": "2022-12-18T15:53:00.239720Z",
     "shell.execute_reply": "2022-12-18T15:53:00.238699Z"
    },
    "papermill": {
     "duration": 8.572227,
     "end_time": "2022-12-18T15:53:00.241829",
     "exception": false,
     "start_time": "2022-12-18T15:52:51.669602",
     "status": "completed"
    },
    "tags": []
   },
   "outputs": [
    {
     "name": "stdout",
     "output_type": "stream",
     "text": [
      "Number of unique words: 163658\n",
      "CPU times: user 8.21 s, sys: 116 ms, total: 8.32 s\n",
      "Wall time: 8.52 s\n"
     ]
    }
   ],
   "source": [
    "%%time\n",
    "tokenizer = keras.preprocessing.text.Tokenizer()\n",
    "tokenizer.fit_on_texts(X_train)\n",
    "x_sentences_train = keras.preprocessing.sequence.pad_sequences(\n",
    "    tokenizer.texts_to_sequences(X_train), maxlen=maxlen, padding=\"post\"\n",
    ")\n",
    "x_sentences_test = keras.preprocessing.sequence.pad_sequences(\n",
    "    tokenizer.texts_to_sequences(X_test), maxlen=maxlen, padding=\"post\"\n",
    ")\n",
    "num_words = len(tokenizer.word_index) + 1\n",
    "print(\"Number of unique words: %i\" % num_words)"
   ]
  },
  {
   "cell_type": "markdown",
   "id": "60a3db3d",
   "metadata": {
    "papermill": {
     "duration": 0.01507,
     "end_time": "2022-12-18T15:53:00.272517",
     "exception": false,
     "start_time": "2022-12-18T15:53:00.257447",
     "status": "completed"
    },
    "tags": []
   },
   "source": [
    "## matrice d'embedding"
   ]
  },
  {
   "cell_type": "code",
   "execution_count": 38,
   "id": "235f7948",
   "metadata": {
    "execution": {
     "iopub.execute_input": "2022-12-18T15:53:00.304055Z",
     "iopub.status.busy": "2022-12-18T15:53:00.303748Z",
     "iopub.status.idle": "2022-12-18T15:53:02.034489Z",
     "shell.execute_reply": "2022-12-18T15:53:02.033247Z"
    },
    "papermill": {
     "duration": 1.748598,
     "end_time": "2022-12-18T15:53:02.036426",
     "exception": false,
     "start_time": "2022-12-18T15:53:00.287828",
     "status": "completed"
    },
    "tags": []
   },
   "outputs": [
    {
     "name": "stdout",
     "output_type": "stream",
     "text": [
      "Create Embedding matrix ...\n",
      "Word embedding rate :  0.0018\n",
      "Embedding matrix: (163658, 300)\n",
      "CPU times: user 1.69 s, sys: 1.02 ms, total: 1.69 s\n",
      "Wall time: 1.69 s\n"
     ]
    }
   ],
   "source": [
    "%%time\n",
    "print(\"Create Embedding matrix ...\")\n",
    "word_index = tokenizer.word_index\n",
    "vocab_size = len(word_index) + 1\n",
    "embedding_matrix = np.zeros((vocab_size, w2v_size))\n",
    "i = 0\n",
    "j = 0\n",
    "\n",
    "for word, idx in word_index.items():\n",
    "    i += 1\n",
    "    if word in w2v_words:\n",
    "        j += 1\n",
    "        embedding_vector = model_vectors[word]\n",
    "        if embedding_vector is not None:\n",
    "            embedding_matrix[idx] = model_vectors[word]\n",
    "\n",
    "word_rate = np.round(j / i, 4)\n",
    "print(\"Word embedding rate : \", word_rate)\n",
    "print(\"Embedding matrix: %s\" % str(embedding_matrix.shape))"
   ]
  },
  {
   "cell_type": "markdown",
   "id": "7efbb22c",
   "metadata": {
    "papermill": {
     "duration": 0.015036,
     "end_time": "2022-12-18T15:53:02.067286",
     "exception": false,
     "start_time": "2022-12-18T15:53:02.052250",
     "status": "completed"
    },
    "tags": []
   },
   "source": [
    "## Creation du modèle"
   ]
  },
  {
   "cell_type": "code",
   "execution_count": 39,
   "id": "65440346",
   "metadata": {
    "execution": {
     "iopub.execute_input": "2022-12-18T15:53:02.099525Z",
     "iopub.status.busy": "2022-12-18T15:53:02.098636Z",
     "iopub.status.idle": "2022-12-18T15:53:02.725903Z",
     "shell.execute_reply": "2022-12-18T15:53:02.724707Z"
    },
    "papermill": {
     "duration": 0.645574,
     "end_time": "2022-12-18T15:53:02.727975",
     "exception": false,
     "start_time": "2022-12-18T15:53:02.082401",
     "status": "completed"
    },
    "tags": []
   },
   "outputs": [
    {
     "name": "stderr",
     "output_type": "stream",
     "text": [
      "2022-12-18 15:53:02.170366: I tensorflow/core/common_runtime/process_util.cc:146] Creating new thread pool with default inter op setting: 2. Tune using inter_op_parallelism_threads for best performance.\n"
     ]
    },
    {
     "name": "stdout",
     "output_type": "stream",
     "text": [
      "Model: \"model\"\n",
      "_________________________________________________________________\n",
      "Layer (type)                 Output Shape              Param #   \n",
      "=================================================================\n",
      "input_2 (InputLayer)         [(None, 24)]              0         \n",
      "_________________________________________________________________\n",
      "embedding (Embedding)        (None, 24, 300)           49097400  \n",
      "_________________________________________________________________\n",
      "global_average_pooling1d (Gl (None, 300)               0         \n",
      "=================================================================\n",
      "Total params: 49,097,400\n",
      "Trainable params: 49,097,400\n",
      "Non-trainable params: 0\n",
      "_________________________________________________________________\n",
      "CPU times: user 785 ms, sys: 508 ms, total: 1.29 s\n",
      "Wall time: 593 ms\n"
     ]
    }
   ],
   "source": [
    "%%time\n",
    "input = keras.layers.Input(shape=(len(x_sentences_train), maxlen), dtype=\"float64\")\n",
    "word_input = keras.layers.Input(shape=(maxlen,), dtype=\"float64\")\n",
    "word_embedding = keras.layers.Embedding(\n",
    "    input_dim=vocab_size,\n",
    "    output_dim=w2v_size,\n",
    "    weights=[embedding_matrix],\n",
    "    input_length=maxlen,\n",
    ")(word_input)\n",
    "word_vec = keras.layers.GlobalAveragePooling1D()(word_embedding)\n",
    "embed_model = keras.models.Model([word_input], word_vec)\n",
    "\n",
    "embed_model.summary()"
   ]
  },
  {
   "cell_type": "code",
   "execution_count": 40,
   "id": "7f38f970",
   "metadata": {
    "execution": {
     "iopub.execute_input": "2022-12-18T15:53:02.760240Z",
     "iopub.status.busy": "2022-12-18T15:53:02.759971Z",
     "iopub.status.idle": "2022-12-18T15:53:04.866855Z",
     "shell.execute_reply": "2022-12-18T15:53:04.865879Z"
    },
    "papermill": {
     "duration": 2.125061,
     "end_time": "2022-12-18T15:53:04.868748",
     "exception": false,
     "start_time": "2022-12-18T15:53:02.743687",
     "status": "completed"
    },
    "tags": []
   },
   "outputs": [
    {
     "name": "stderr",
     "output_type": "stream",
     "text": [
      "2022-12-18 15:53:02.828523: I tensorflow/compiler/mlir/mlir_graph_optimization_pass.cc:185] None of the MLIR Optimization Passes are enabled (registered 2)\n"
     ]
    },
    {
     "name": "stdout",
     "output_type": "stream",
     "text": [
      "CPU times: user 2.62 s, sys: 397 ms, total: 3.01 s\n",
      "Wall time: 2.1 s\n"
     ]
    },
    {
     "data": {
      "text/plain": [
       "(88831, 300)"
      ]
     },
     "execution_count": 40,
     "metadata": {},
     "output_type": "execute_result"
    }
   ],
   "source": [
    "%%time\n",
    "embeddings = embed_model.predict(x_sentences_train)\n",
    "embeddings.shape"
   ]
  },
  {
   "cell_type": "code",
   "execution_count": 41,
   "id": "52ee74b7",
   "metadata": {
    "execution": {
     "iopub.execute_input": "2022-12-18T15:53:04.902090Z",
     "iopub.status.busy": "2022-12-18T15:53:04.901320Z",
     "iopub.status.idle": "2022-12-18T15:53:05.602229Z",
     "shell.execute_reply": "2022-12-18T15:53:05.601175Z"
    },
    "papermill": {
     "duration": 0.719619,
     "end_time": "2022-12-18T15:53:05.604239",
     "exception": false,
     "start_time": "2022-12-18T15:53:04.884620",
     "status": "completed"
    },
    "tags": []
   },
   "outputs": [
    {
     "name": "stdout",
     "output_type": "stream",
     "text": [
      "CPU times: user 880 ms, sys: 130 ms, total: 1.01 s\n",
      "Wall time: 688 ms\n"
     ]
    },
    {
     "data": {
      "text/plain": [
       "(29611, 300)"
      ]
     },
     "execution_count": 41,
     "metadata": {},
     "output_type": "execute_result"
    }
   ],
   "source": [
    "%%time\n",
    "embeddings_test = embed_model.predict(x_sentences_test)\n",
    "embeddings_test.shape"
   ]
  },
  {
   "cell_type": "code",
   "execution_count": 42,
   "id": "4ee34a3d",
   "metadata": {
    "execution": {
     "iopub.execute_input": "2022-12-18T15:53:05.637417Z",
     "iopub.status.busy": "2022-12-18T15:53:05.637109Z",
     "iopub.status.idle": "2022-12-18T16:07:37.037427Z",
     "shell.execute_reply": "2022-12-18T16:07:37.036494Z"
    },
    "papermill": {
     "duration": 871.434919,
     "end_time": "2022-12-18T16:07:37.055463",
     "exception": false,
     "start_time": "2022-12-18T15:53:05.620544",
     "status": "completed"
    },
    "tags": []
   },
   "outputs": [
    {
     "name": "stdout",
     "output_type": "stream",
     "text": [
      "CPU times: user 14min 17s, sys: 13.7 s, total: 14min 31s\n",
      "Wall time: 14min 31s\n"
     ]
    }
   ],
   "source": [
    "%%time\n",
    "with ignore_warnings(category=exceptions.ConvergenceWarning):\n",
    "    OvsRSVC_word2vec = multiclass.OneVsRestClassifier(\n",
    "        svm.SVC(cache_size=1080, max_iter=5_000 if LONG else 1_000, random_state=42)\n",
    "    ).fit(embeddings, y_train)\n",
    "    #    ).fit(embeddings, tags_are_in(df[0:10_000], target_names))"
   ]
  },
  {
   "cell_type": "code",
   "execution_count": 43,
   "id": "eb8a4039",
   "metadata": {
    "execution": {
     "iopub.execute_input": "2022-12-18T16:07:37.087735Z",
     "iopub.status.busy": "2022-12-18T16:07:37.087450Z",
     "iopub.status.idle": "2022-12-18T16:13:38.336995Z",
     "shell.execute_reply": "2022-12-18T16:13:38.336115Z"
    },
    "papermill": {
     "duration": 361.284494,
     "end_time": "2022-12-18T16:13:38.355449",
     "exception": false,
     "start_time": "2022-12-18T16:07:37.070955",
     "status": "completed"
    },
    "tags": []
   },
   "outputs": [
    {
     "name": "stdout",
     "output_type": "stream",
     "text": [
      "CPU times: user 6min, sys: 296 ms, total: 6min 1s\n",
      "Wall time: 6min 1s\n"
     ]
    },
    {
     "data": {
      "text/plain": [
       "array([[1, 1, 1, ..., 1, 1, 0],\n",
       "       [1, 1, 1, ..., 1, 1, 0],\n",
       "       [1, 1, 1, ..., 1, 1, 0],\n",
       "       ...,\n",
       "       [1, 1, 1, ..., 1, 1, 0],\n",
       "       [1, 1, 1, ..., 1, 1, 0],\n",
       "       [1, 1, 1, ..., 1, 1, 0]])"
      ]
     },
     "execution_count": 43,
     "metadata": {},
     "output_type": "execute_result"
    }
   ],
   "source": [
    "%%time\n",
    "pred_word2vec = OvsRSVC_word2vec.predict(embeddings_test)\n",
    "pred_word2vec"
   ]
  },
  {
   "cell_type": "code",
   "execution_count": 44,
   "id": "74403190",
   "metadata": {
    "execution": {
     "iopub.execute_input": "2022-12-18T16:13:38.387729Z",
     "iopub.status.busy": "2022-12-18T16:13:38.387447Z",
     "iopub.status.idle": "2022-12-18T16:13:38.662063Z",
     "shell.execute_reply": "2022-12-18T16:13:38.661232Z"
    },
    "papermill": {
     "duration": 0.292878,
     "end_time": "2022-12-18T16:13:38.664009",
     "exception": false,
     "start_time": "2022-12-18T16:13:38.371131",
     "status": "completed"
    },
    "tags": []
   },
   "outputs": [
    {
     "data": {
      "text/html": [
       "<div>\n",
       "<style scoped>\n",
       "    .dataframe tbody tr th:only-of-type {\n",
       "        vertical-align: middle;\n",
       "    }\n",
       "\n",
       "    .dataframe tbody tr th {\n",
       "        vertical-align: top;\n",
       "    }\n",
       "\n",
       "    .dataframe thead th {\n",
       "        text-align: right;\n",
       "    }\n",
       "</style>\n",
       "<table border=\"1\" class=\"dataframe\">\n",
       "  <thead>\n",
       "    <tr style=\"text-align: right;\">\n",
       "      <th></th>\n",
       "      <th>precision</th>\n",
       "      <th>recall</th>\n",
       "      <th>f1-score</th>\n",
       "      <th>support</th>\n",
       "    </tr>\n",
       "  </thead>\n",
       "  <tbody>\n",
       "    <tr>\n",
       "      <th>java</th>\n",
       "      <td>0.121486</td>\n",
       "      <td>0.897695</td>\n",
       "      <td>0.214011</td>\n",
       "      <td>3558.0</td>\n",
       "    </tr>\n",
       "    <tr>\n",
       "      <th>c#</th>\n",
       "      <td>0.120331</td>\n",
       "      <td>0.933199</td>\n",
       "      <td>0.213175</td>\n",
       "      <td>3473.0</td>\n",
       "    </tr>\n",
       "    <tr>\n",
       "      <th>javascript</th>\n",
       "      <td>0.116296</td>\n",
       "      <td>0.930572</td>\n",
       "      <td>0.206753</td>\n",
       "      <td>3356.0</td>\n",
       "    </tr>\n",
       "    <tr>\n",
       "      <th>python</th>\n",
       "      <td>0.085756</td>\n",
       "      <td>0.864089</td>\n",
       "      <td>0.156026</td>\n",
       "      <td>2612.0</td>\n",
       "    </tr>\n",
       "    <tr>\n",
       "      <th>weighted avg</th>\n",
       "      <td>0.073381</td>\n",
       "      <td>0.903038</td>\n",
       "      <td>0.133666</td>\n",
       "      <td>33044.0</td>\n",
       "    </tr>\n",
       "    <tr>\n",
       "      <th>android</th>\n",
       "      <td>0.070372</td>\n",
       "      <td>0.923716</td>\n",
       "      <td>0.130781</td>\n",
       "      <td>2045.0</td>\n",
       "    </tr>\n",
       "    <tr>\n",
       "      <th>ios</th>\n",
       "      <td>0.063869</td>\n",
       "      <td>0.930435</td>\n",
       "      <td>0.119532</td>\n",
       "      <td>1840.0</td>\n",
       "    </tr>\n",
       "    <tr>\n",
       "      <th>html</th>\n",
       "      <td>0.061420</td>\n",
       "      <td>0.933903</td>\n",
       "      <td>0.115260</td>\n",
       "      <td>1755.0</td>\n",
       "    </tr>\n",
       "    <tr>\n",
       "      <th>c++</th>\n",
       "      <td>0.061036</td>\n",
       "      <td>0.845214</td>\n",
       "      <td>0.113851</td>\n",
       "      <td>1964.0</td>\n",
       "    </tr>\n",
       "    <tr>\n",
       "      <th>php</th>\n",
       "      <td>0.055993</td>\n",
       "      <td>0.922557</td>\n",
       "      <td>0.105578</td>\n",
       "      <td>1627.0</td>\n",
       "    </tr>\n",
       "    <tr>\n",
       "      <th>micro avg</th>\n",
       "      <td>0.055720</td>\n",
       "      <td>0.903038</td>\n",
       "      <td>0.104963</td>\n",
       "      <td>33044.0</td>\n",
       "    </tr>\n",
       "    <tr>\n",
       "      <th>.net</th>\n",
       "      <td>0.054222</td>\n",
       "      <td>0.926068</td>\n",
       "      <td>0.102447</td>\n",
       "      <td>1569.0</td>\n",
       "    </tr>\n",
       "    <tr>\n",
       "      <th>jquery</th>\n",
       "      <td>0.053140</td>\n",
       "      <td>0.925878</td>\n",
       "      <td>0.100512</td>\n",
       "      <td>1538.0</td>\n",
       "    </tr>\n",
       "    <tr>\n",
       "      <th>macro avg</th>\n",
       "      <td>0.053125</td>\n",
       "      <td>0.866968</td>\n",
       "      <td>0.098377</td>\n",
       "      <td>33044.0</td>\n",
       "    </tr>\n",
       "    <tr>\n",
       "      <th>samples avg</th>\n",
       "      <td>0.052491</td>\n",
       "      <td>0.710970</td>\n",
       "      <td>0.095006</td>\n",
       "      <td>33044.0</td>\n",
       "    </tr>\n",
       "    <tr>\n",
       "      <th>css</th>\n",
       "      <td>0.038586</td>\n",
       "      <td>0.914235</td>\n",
       "      <td>0.074048</td>\n",
       "      <td>1131.0</td>\n",
       "    </tr>\n",
       "    <tr>\n",
       "      <th>objective-c</th>\n",
       "      <td>0.030776</td>\n",
       "      <td>0.934685</td>\n",
       "      <td>0.059590</td>\n",
       "      <td>888.0</td>\n",
       "    </tr>\n",
       "    <tr>\n",
       "      <th>sql</th>\n",
       "      <td>0.030451</td>\n",
       "      <td>0.937931</td>\n",
       "      <td>0.058987</td>\n",
       "      <td>870.0</td>\n",
       "    </tr>\n",
       "    <tr>\n",
       "      <th>asp.net</th>\n",
       "      <td>0.028399</td>\n",
       "      <td>0.945342</td>\n",
       "      <td>0.055141</td>\n",
       "      <td>805.0</td>\n",
       "    </tr>\n",
       "    <tr>\n",
       "      <th>iphone</th>\n",
       "      <td>0.028175</td>\n",
       "      <td>0.935564</td>\n",
       "      <td>0.054702</td>\n",
       "      <td>807.0</td>\n",
       "    </tr>\n",
       "    <tr>\n",
       "      <th>c</th>\n",
       "      <td>0.025944</td>\n",
       "      <td>0.785311</td>\n",
       "      <td>0.050229</td>\n",
       "      <td>885.0</td>\n",
       "    </tr>\n",
       "    <tr>\n",
       "      <th>mysql</th>\n",
       "      <td>0.023769</td>\n",
       "      <td>0.925547</td>\n",
       "      <td>0.046348</td>\n",
       "      <td>685.0</td>\n",
       "    </tr>\n",
       "    <tr>\n",
       "      <th>node.js</th>\n",
       "      <td>0.023177</td>\n",
       "      <td>0.910557</td>\n",
       "      <td>0.045203</td>\n",
       "      <td>682.0</td>\n",
       "    </tr>\n",
       "    <tr>\n",
       "      <th>linux</th>\n",
       "      <td>0.022428</td>\n",
       "      <td>0.883824</td>\n",
       "      <td>0.043746</td>\n",
       "      <td>680.0</td>\n",
       "    </tr>\n",
       "    <tr>\n",
       "      <th>git</th>\n",
       "      <td>0.000000</td>\n",
       "      <td>0.000000</td>\n",
       "      <td>0.000000</td>\n",
       "      <td>274.0</td>\n",
       "    </tr>\n",
       "  </tbody>\n",
       "</table>\n",
       "</div>"
      ],
      "text/plain": [
       "              precision    recall  f1-score  support\n",
       "java           0.121486  0.897695  0.214011   3558.0\n",
       "c#             0.120331  0.933199  0.213175   3473.0\n",
       "javascript     0.116296  0.930572  0.206753   3356.0\n",
       "python         0.085756  0.864089  0.156026   2612.0\n",
       "weighted avg   0.073381  0.903038  0.133666  33044.0\n",
       "android        0.070372  0.923716  0.130781   2045.0\n",
       "ios            0.063869  0.930435  0.119532   1840.0\n",
       "html           0.061420  0.933903  0.115260   1755.0\n",
       "c++            0.061036  0.845214  0.113851   1964.0\n",
       "php            0.055993  0.922557  0.105578   1627.0\n",
       "micro avg      0.055720  0.903038  0.104963  33044.0\n",
       ".net           0.054222  0.926068  0.102447   1569.0\n",
       "jquery         0.053140  0.925878  0.100512   1538.0\n",
       "macro avg      0.053125  0.866968  0.098377  33044.0\n",
       "samples avg    0.052491  0.710970  0.095006  33044.0\n",
       "css            0.038586  0.914235  0.074048   1131.0\n",
       "objective-c    0.030776  0.934685  0.059590    888.0\n",
       "sql            0.030451  0.937931  0.058987    870.0\n",
       "asp.net        0.028399  0.945342  0.055141    805.0\n",
       "iphone         0.028175  0.935564  0.054702    807.0\n",
       "c              0.025944  0.785311  0.050229    885.0\n",
       "mysql          0.023769  0.925547  0.046348    685.0\n",
       "node.js        0.023177  0.910557  0.045203    682.0\n",
       "linux          0.022428  0.883824  0.043746    680.0\n",
       "git            0.000000  0.000000  0.000000    274.0"
      ]
     },
     "execution_count": 44,
     "metadata": {},
     "output_type": "execute_result"
    }
   ],
   "source": [
    "# scores_word2vec = save_score(\n",
    "#     tags_are_in(df[0:10_000], target_names), pred_word2vec, target_names, \"word2vec\"\n",
    "# )\n",
    "scores_word2vec = save_score(y_test,pred_word2vec,target_names, \"word2vec\")\n",
    "scores_word2vec.sort_values(by=\"precision\", ascending=False)"
   ]
  },
  {
   "cell_type": "code",
   "execution_count": 45,
   "id": "e20b793a",
   "metadata": {
    "execution": {
     "iopub.execute_input": "2022-12-18T16:13:38.697681Z",
     "iopub.status.busy": "2022-12-18T16:13:38.697387Z",
     "iopub.status.idle": "2022-12-18T16:13:38.796543Z",
     "shell.execute_reply": "2022-12-18T16:13:38.795894Z"
    },
    "papermill": {
     "duration": 0.117931,
     "end_time": "2022-12-18T16:13:38.798416",
     "exception": false,
     "start_time": "2022-12-18T16:13:38.680485",
     "status": "completed"
    },
    "tags": []
   },
   "outputs": [],
   "source": [
    "def ARI_fct(features, target_names, y):\n",
    "    time1 = time.time()\n",
    "    num_labels = len(target_names)\n",
    "    tsne = manifold.TSNE(\n",
    "        n_components=2,\n",
    "        perplexity=30,\n",
    "        n_iter=2000,\n",
    "        init=\"random\",\n",
    "        learning_rate=200,\n",
    "        random_state=42,\n",
    "    )\n",
    "    X_tsne = tsne.fit_transform(features)\n",
    "\n",
    "    # Détermination des clusters à partir des données après Tsne\n",
    "    cls = cluster.KMeans(n_clusters=num_labels, n_init=100, random_state=42)\n",
    "    cls.fit(X_tsne)\n",
    "    #     ARI = np.round(metrics.adjusted_rand_score(y, cls.labels_), 4)\n",
    "    time2 = np.round(time.time() - time1, 0)\n",
    "    scores = pd.DataFrame(\n",
    "        metrics.classification_report(\n",
    "            np.argmax(y, axis=1),\n",
    "            np.argmax(cls.labels_, axis=1),\n",
    "            target_names=target_names,\n",
    "            zero_division=0,\n",
    "            output_dict=True,\n",
    "        )\n",
    "    )\n",
    "    print(scores)\n",
    "    print(\"time : {:.2f}\".format(ARI, time.time() - time1))\n",
    "\n",
    "    return scores, X_tsne, cls.labels_\n",
    "\n",
    "\n",
    "# visualisation du Tsne selon les vraies catégories et selon les clusters\n",
    "def TSNE_visu_fct(X_tsne, y, labels, ARI):\n",
    "    fig = plt.figure(figsize=(15, 6))\n",
    "\n",
    "    ax = fig.add_subplot(121)\n",
    "    scatter = ax.scatter(X_tsne[:, 0], X_tsne[:, 1], c=y, cmap=\"Set1\")\n",
    "    ax.legend(\n",
    "        handles=scatter.legend_elements()[0],\n",
    "        labels=l_cat,\n",
    "        loc=\"best\",\n",
    "        title=\"Categorie\",\n",
    "    )\n",
    "    plt.title(\"Représentation des tweets par catégories réelles\")\n",
    "\n",
    "    ax = fig.add_subplot(122)\n",
    "    scatter = ax.scatter(X_tsne[:, 0], X_tsne[:, 1], c=labels, cmap=\"Set1\")\n",
    "    ax.legend(\n",
    "        handles=scatter.legend_elements()[0],\n",
    "        labels=set(labels),\n",
    "        loc=\"best\",\n",
    "        title=\"Clusters\",\n",
    "    )\n",
    "    plt.title(\"Représentation des tweets par clusters\")\n",
    "\n",
    "    plt.show()\n",
    "    print(\"ARI : \", ARI)"
   ]
  },
  {
   "cell_type": "code",
   "execution_count": 46,
   "id": "ba3aae93",
   "metadata": {
    "execution": {
     "iopub.execute_input": "2022-12-18T16:13:38.831356Z",
     "iopub.status.busy": "2022-12-18T16:13:38.831100Z",
     "iopub.status.idle": "2022-12-18T16:13:38.837983Z",
     "shell.execute_reply": "2022-12-18T16:13:38.837073Z"
    },
    "papermill": {
     "duration": 0.025545,
     "end_time": "2022-12-18T16:13:38.839969",
     "exception": false,
     "start_time": "2022-12-18T16:13:38.814424",
     "status": "completed"
    },
    "tags": []
   },
   "outputs": [
    {
     "name": "stdout",
     "output_type": "stream",
     "text": [
      "CPU times: user 3 µs, sys: 0 ns, total: 3 µs\n",
      "Wall time: 6.2 µs\n"
     ]
    }
   ],
   "source": [
    "%%time\n",
    "# ARI, X_tsne, labels = ARI_fct(\n",
    "#     embeddings, target_names, y=tags_are_in(df[0:20000], target_names)\n",
    "# )"
   ]
  },
  {
   "cell_type": "code",
   "execution_count": 47,
   "id": "a40b3967",
   "metadata": {
    "execution": {
     "iopub.execute_input": "2022-12-18T16:13:38.872582Z",
     "iopub.status.busy": "2022-12-18T16:13:38.872160Z",
     "iopub.status.idle": "2022-12-18T16:13:38.877406Z",
     "shell.execute_reply": "2022-12-18T16:13:38.876704Z"
    },
    "papermill": {
     "duration": 0.02359,
     "end_time": "2022-12-18T16:13:38.879200",
     "exception": false,
     "start_time": "2022-12-18T16:13:38.855610",
     "status": "completed"
    },
    "tags": []
   },
   "outputs": [],
   "source": [
    "# %%time\n",
    "# tsne = manifold.TSNE(\n",
    "#     n_components=2,\n",
    "#     perplexity=30,\n",
    "#     n_iter=2000,\n",
    "#     init=\"random\",\n",
    "#     learning_rate=200,\n",
    "#     random_state=42,\n",
    "# )\n",
    "# X_tsne = tsne.fit_transform(embeddings)"
   ]
  },
  {
   "cell_type": "code",
   "execution_count": 48,
   "id": "635aef80",
   "metadata": {
    "execution": {
     "iopub.execute_input": "2022-12-18T16:13:38.912166Z",
     "iopub.status.busy": "2022-12-18T16:13:38.911930Z",
     "iopub.status.idle": "2022-12-18T16:13:38.916097Z",
     "shell.execute_reply": "2022-12-18T16:13:38.915283Z"
    },
    "papermill": {
     "duration": 0.02248,
     "end_time": "2022-12-18T16:13:38.917842",
     "exception": false,
     "start_time": "2022-12-18T16:13:38.895362",
     "status": "completed"
    },
    "tags": []
   },
   "outputs": [],
   "source": [
    "# X_tsne"
   ]
  },
  {
   "cell_type": "code",
   "execution_count": 49,
   "id": "f07b2376",
   "metadata": {
    "execution": {
     "iopub.execute_input": "2022-12-18T16:13:38.950862Z",
     "iopub.status.busy": "2022-12-18T16:13:38.950396Z",
     "iopub.status.idle": "2022-12-18T16:13:38.955874Z",
     "shell.execute_reply": "2022-12-18T16:13:38.955273Z"
    },
    "papermill": {
     "duration": 0.023877,
     "end_time": "2022-12-18T16:13:38.957582",
     "exception": false,
     "start_time": "2022-12-18T16:13:38.933705",
     "status": "completed"
    },
    "tags": []
   },
   "outputs": [],
   "source": [
    "# %%time\n",
    "# # Détermination des clusters à partir des données après Tsne\n",
    "# time_start = time.time()\n",
    "# cls = cluster.KMeans(n_clusters=len(target_names), n_init=100, random_state=42)\n",
    "# cls.fit(X_tsne)\n",
    "# #     ARI = np.round(metrics.adjusted_rand_score(y, cls.labels_), 4)\n",
    "# scores = pd.DataFrame(\n",
    "#     metrics.classification_report(\n",
    "#         tags_are_in(df[0:20000], target_names),\n",
    "#         np.argmax(cls.labels_, axis=1),\n",
    "#         target_names=target_names,\n",
    "#         zero_division=0,\n",
    "#         output_dict=True,\n",
    "#     )\n",
    "# )\n",
    "# print(scores)\n",
    "# print(\"time : {:.2f}\".format(time.time() - time_start))"
   ]
  },
  {
   "cell_type": "code",
   "execution_count": 50,
   "id": "7eb05cd8",
   "metadata": {
    "execution": {
     "iopub.execute_input": "2022-12-18T16:13:38.991511Z",
     "iopub.status.busy": "2022-12-18T16:13:38.991076Z",
     "iopub.status.idle": "2022-12-18T16:13:38.995037Z",
     "shell.execute_reply": "2022-12-18T16:13:38.994007Z"
    },
    "papermill": {
     "duration": 0.022702,
     "end_time": "2022-12-18T16:13:38.996695",
     "exception": false,
     "start_time": "2022-12-18T16:13:38.973993",
     "status": "completed"
    },
    "tags": []
   },
   "outputs": [],
   "source": [
    "# cls.labels_"
   ]
  },
  {
   "cell_type": "code",
   "execution_count": 51,
   "id": "0affb916",
   "metadata": {
    "execution": {
     "iopub.execute_input": "2022-12-18T16:13:39.029705Z",
     "iopub.status.busy": "2022-12-18T16:13:39.029177Z",
     "iopub.status.idle": "2022-12-18T16:13:39.033813Z",
     "shell.execute_reply": "2022-12-18T16:13:39.033011Z"
    },
    "papermill": {
     "duration": 0.023033,
     "end_time": "2022-12-18T16:13:39.035623",
     "exception": false,
     "start_time": "2022-12-18T16:13:39.012590",
     "status": "completed"
    },
    "tags": []
   },
   "outputs": [],
   "source": [
    "# len(cls.labels_)"
   ]
  },
  {
   "cell_type": "code",
   "execution_count": 52,
   "id": "fad217b4",
   "metadata": {
    "execution": {
     "iopub.execute_input": "2022-12-18T16:13:39.068671Z",
     "iopub.status.busy": "2022-12-18T16:13:39.068250Z",
     "iopub.status.idle": "2022-12-18T16:13:39.073039Z",
     "shell.execute_reply": "2022-12-18T16:13:39.072250Z"
    },
    "papermill": {
     "duration": 0.023179,
     "end_time": "2022-12-18T16:13:39.074706",
     "exception": false,
     "start_time": "2022-12-18T16:13:39.051527",
     "status": "completed"
    },
    "tags": []
   },
   "outputs": [],
   "source": [
    "# scores = pd.DataFrame(\n",
    "#     metrics.classification_report(\n",
    "#         tags_are_in(df[0:20000], target_names),\n",
    "#         np.argmax(cls.labels_, axis=1),\n",
    "#         target_names=target_names,\n",
    "#         zero_division=0,\n",
    "#         output_dict=True,\n",
    "#     )\n",
    "# )"
   ]
  },
  {
   "cell_type": "markdown",
   "id": "95760d50",
   "metadata": {
    "papermill": {
     "duration": 0.015847,
     "end_time": "2022-12-18T16:13:39.106601",
     "exception": false,
     "start_time": "2022-12-18T16:13:39.090754",
     "status": "completed"
    },
    "tags": []
   },
   "source": [
    "# BERT"
   ]
  },
  {
   "cell_type": "markdown",
   "id": "c0a003c3",
   "metadata": {
    "papermill": {
     "duration": 0.015678,
     "end_time": "2022-12-18T16:13:39.138090",
     "exception": false,
     "start_time": "2022-12-18T16:13:39.122412",
     "status": "completed"
    },
    "tags": []
   },
   "source": [
    "# USE"
   ]
  }
 ],
 "metadata": {
  "kernelspec": {
   "display_name": "Python 3",
   "language": "python",
   "name": "python3"
  },
  "language_info": {
   "codemirror_mode": {
    "name": "ipython",
    "version": 3
   },
   "file_extension": ".py",
   "mimetype": "text/x-python",
   "name": "python",
   "nbconvert_exporter": "python",
   "pygments_lexer": "ipython3",
   "version": "3.7.12"
  },
  "papermill": {
   "default_parameters": {},
   "duration": 4664.132559,
   "end_time": "2022-12-18T16:13:41.778056",
   "environment_variables": {},
   "exception": null,
   "input_path": "__notebook__.ipynb",
   "output_path": "__notebook__.ipynb",
   "parameters": {},
   "start_time": "2022-12-18T14:55:57.645497",
   "version": "2.3.4"
  },
  "widgets": {
   "application/vnd.jupyter.widget-state+json": {
    "state": {
     "1901b4426dba408093da61d02670a510": {
      "model_module": "@jupyter-widgets/output",
      "model_module_version": "1.0.0",
      "model_name": "OutputModel",
      "state": {
       "_dom_classes": [],
       "_model_module": "@jupyter-widgets/output",
       "_model_module_version": "1.0.0",
       "_model_name": "OutputModel",
       "_view_count": null,
       "_view_module": "@jupyter-widgets/output",
       "_view_module_version": "1.0.0",
       "_view_name": "OutputView",
       "layout": "IPY_MODEL_d1fa638fa20c4e09a6486f64ff148827",
       "msg_id": "",
       "outputs": [
        {
         "name": "stdout",
         "output_type": "stream",
         "text": "Title:How to change culture to a DateTimepicker or calendar control in .Net\n******************************\nTitle_clean:change culture datetimepicker calendar control\n******************************\nBody:<p>How to set internationalization to a <code>DateTimepicker</code> or <code>Calendar WinForm</code> control in .Net when the desire culture is different to the one installed in the PC?</p>\n\n******************************\nBody_clean:set internationalization datetimepicker calendar winform control .net desire culture instal pc\n******************************\nCode:DateTimepicker Calendar WinForm\n******************************\nTags:c# .net internationalization datetimepicker culture\n"
        }
       ]
      }
     },
     "9dbf087eddc148d9ab431e04ea3254ee": {
      "model_module": "@jupyter-widgets/controls",
      "model_module_version": "1.5.0",
      "model_name": "VBoxModel",
      "state": {
       "_dom_classes": [
        "widget-interact"
       ],
       "_model_module": "@jupyter-widgets/controls",
       "_model_module_version": "1.5.0",
       "_model_name": "VBoxModel",
       "_view_count": null,
       "_view_module": "@jupyter-widgets/controls",
       "_view_module_version": "1.5.0",
       "_view_name": "VBoxView",
       "box_style": "",
       "children": [
        "IPY_MODEL_a6a68e50b8584abb94c02fcc84e53d0c",
        "IPY_MODEL_1901b4426dba408093da61d02670a510"
       ],
       "layout": "IPY_MODEL_a82d3c769c0141a7b31108f38263415d"
      }
     },
     "a6a68e50b8584abb94c02fcc84e53d0c": {
      "model_module": "@jupyter-widgets/controls",
      "model_module_version": "1.5.0",
      "model_name": "IntSliderModel",
      "state": {
       "_dom_classes": [],
       "_model_module": "@jupyter-widgets/controls",
       "_model_module_version": "1.5.0",
       "_model_name": "IntSliderModel",
       "_view_count": null,
       "_view_module": "@jupyter-widgets/controls",
       "_view_module_version": "1.5.0",
       "_view_name": "IntSliderView",
       "continuous_update": true,
       "description": "i",
       "description_tooltip": null,
       "disabled": false,
       "layout": "IPY_MODEL_b049daf23917418bbef4fbfd6035b74b",
       "max": 118441,
       "min": 0,
       "orientation": "horizontal",
       "readout": true,
       "readout_format": "d",
       "step": 1,
       "style": "IPY_MODEL_af41cebdeefd4a2b9e9c19670d4242c6",
       "value": 59220
      }
     },
     "a82d3c769c0141a7b31108f38263415d": {
      "model_module": "@jupyter-widgets/base",
      "model_module_version": "1.2.0",
      "model_name": "LayoutModel",
      "state": {
       "_model_module": "@jupyter-widgets/base",
       "_model_module_version": "1.2.0",
       "_model_name": "LayoutModel",
       "_view_count": null,
       "_view_module": "@jupyter-widgets/base",
       "_view_module_version": "1.2.0",
       "_view_name": "LayoutView",
       "align_content": null,
       "align_items": null,
       "align_self": null,
       "border": null,
       "bottom": null,
       "display": null,
       "flex": null,
       "flex_flow": null,
       "grid_area": null,
       "grid_auto_columns": null,
       "grid_auto_flow": null,
       "grid_auto_rows": null,
       "grid_column": null,
       "grid_gap": null,
       "grid_row": null,
       "grid_template_areas": null,
       "grid_template_columns": null,
       "grid_template_rows": null,
       "height": null,
       "justify_content": null,
       "justify_items": null,
       "left": null,
       "margin": null,
       "max_height": null,
       "max_width": null,
       "min_height": null,
       "min_width": null,
       "object_fit": null,
       "object_position": null,
       "order": null,
       "overflow": null,
       "overflow_x": null,
       "overflow_y": null,
       "padding": null,
       "right": null,
       "top": null,
       "visibility": null,
       "width": null
      }
     },
     "af41cebdeefd4a2b9e9c19670d4242c6": {
      "model_module": "@jupyter-widgets/controls",
      "model_module_version": "1.5.0",
      "model_name": "SliderStyleModel",
      "state": {
       "_model_module": "@jupyter-widgets/controls",
       "_model_module_version": "1.5.0",
       "_model_name": "SliderStyleModel",
       "_view_count": null,
       "_view_module": "@jupyter-widgets/base",
       "_view_module_version": "1.2.0",
       "_view_name": "StyleView",
       "description_width": "",
       "handle_color": null
      }
     },
     "b049daf23917418bbef4fbfd6035b74b": {
      "model_module": "@jupyter-widgets/base",
      "model_module_version": "1.2.0",
      "model_name": "LayoutModel",
      "state": {
       "_model_module": "@jupyter-widgets/base",
       "_model_module_version": "1.2.0",
       "_model_name": "LayoutModel",
       "_view_count": null,
       "_view_module": "@jupyter-widgets/base",
       "_view_module_version": "1.2.0",
       "_view_name": "LayoutView",
       "align_content": null,
       "align_items": null,
       "align_self": null,
       "border": null,
       "bottom": null,
       "display": null,
       "flex": null,
       "flex_flow": null,
       "grid_area": null,
       "grid_auto_columns": null,
       "grid_auto_flow": null,
       "grid_auto_rows": null,
       "grid_column": null,
       "grid_gap": null,
       "grid_row": null,
       "grid_template_areas": null,
       "grid_template_columns": null,
       "grid_template_rows": null,
       "height": null,
       "justify_content": null,
       "justify_items": null,
       "left": null,
       "margin": null,
       "max_height": null,
       "max_width": null,
       "min_height": null,
       "min_width": null,
       "object_fit": null,
       "object_position": null,
       "order": null,
       "overflow": null,
       "overflow_x": null,
       "overflow_y": null,
       "padding": null,
       "right": null,
       "top": null,
       "visibility": null,
       "width": null
      }
     },
     "d1fa638fa20c4e09a6486f64ff148827": {
      "model_module": "@jupyter-widgets/base",
      "model_module_version": "1.2.0",
      "model_name": "LayoutModel",
      "state": {
       "_model_module": "@jupyter-widgets/base",
       "_model_module_version": "1.2.0",
       "_model_name": "LayoutModel",
       "_view_count": null,
       "_view_module": "@jupyter-widgets/base",
       "_view_module_version": "1.2.0",
       "_view_name": "LayoutView",
       "align_content": null,
       "align_items": null,
       "align_self": null,
       "border": null,
       "bottom": null,
       "display": null,
       "flex": null,
       "flex_flow": null,
       "grid_area": null,
       "grid_auto_columns": null,
       "grid_auto_flow": null,
       "grid_auto_rows": null,
       "grid_column": null,
       "grid_gap": null,
       "grid_row": null,
       "grid_template_areas": null,
       "grid_template_columns": null,
       "grid_template_rows": null,
       "height": null,
       "justify_content": null,
       "justify_items": null,
       "left": null,
       "margin": null,
       "max_height": null,
       "max_width": null,
       "min_height": null,
       "min_width": null,
       "object_fit": null,
       "object_position": null,
       "order": null,
       "overflow": null,
       "overflow_x": null,
       "overflow_y": null,
       "padding": null,
       "right": null,
       "top": null,
       "visibility": null,
       "width": null
      }
     }
    },
    "version_major": 2,
    "version_minor": 0
   }
  }
 },
 "nbformat": 4,
 "nbformat_minor": 5
}
