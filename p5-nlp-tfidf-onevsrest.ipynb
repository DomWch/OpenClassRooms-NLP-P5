{
 "cells": [
  {
   "cell_type": "markdown",
   "id": "23c8ea28",
   "metadata": {
    "papermill": {
     "duration": 0.015585,
     "end_time": "2023-01-02T15:43:26.469247",
     "exception": false,
     "start_time": "2023-01-02T15:43:26.453662",
     "status": "completed"
    },
    "tags": []
   },
   "source": [
    "# Index\n",
    "* [Import](#index)\n",
    "* [Tokenization](#Tokenization)\n",
    "* [CountVectorizer](#CountVectorizer)\n",
    "* [PreprocessPipeline](#PreprocessPipeline)\n",
    "* [OvsRest](#OvsRest)\n",
    "    - [LogisticRegression](#LogisticRegression)\n",
    "    - [SVC](#SVC)\n",
    "* [Word2Vec](#Word2Vec)\n",
    "* [BERT](#BERT)\n",
    "* [USE](#USE)"
   ]
  },
  {
   "cell_type": "code",
   "execution_count": 1,
   "id": "593d04c3",
   "metadata": {
    "_cell_guid": "b1076dfc-b9ad-4769-8c92-a6c4dae69d19",
    "_uuid": "8f2839f25d086af736a60e9eeb907d3b93b6e0e5",
    "execution": {
     "iopub.execute_input": "2023-01-02T15:43:26.501747Z",
     "iopub.status.busy": "2023-01-02T15:43:26.501271Z",
     "iopub.status.idle": "2023-01-02T15:43:34.504034Z",
     "shell.execute_reply": "2023-01-02T15:43:34.502990Z"
    },
    "papermill": {
     "duration": 8.023426,
     "end_time": "2023-01-02T15:43:34.507353",
     "exception": false,
     "start_time": "2023-01-02T15:43:26.483927",
     "status": "completed"
    },
    "tags": []
   },
   "outputs": [],
   "source": [
    "import time\n",
    "import json\n",
    "\n",
    "# from joblib import dump, load, Memory\n",
    "import joblib\n",
    "import dill\n",
    "import weakref\n",
    "\n",
    "# import warnings\n",
    "\n",
    "import numpy as np\n",
    "import pandas as pd\n",
    "import gensim\n",
    "import matplotlib.pyplot as plt\n",
    "\n",
    "# from gensim import (\n",
    "#     corpora,\n",
    "# )  # https://pypi.org/project/gensim/ #https://radimrehurek.com/gensim/auto_examples/core/run_topics_and_transformations.html#sphx-glr-auto-examples-core-run-topics-and-transformations-py\n",
    "from sklearn import (\n",
    "    metrics,\n",
    "    feature_extraction,\n",
    "    linear_model,\n",
    "    model_selection,\n",
    "    preprocessing,\n",
    "    cluster,\n",
    "    decomposition,\n",
    "    multiclass,\n",
    "    svm,\n",
    "    pipeline,\n",
    "    exceptions,\n",
    "    manifold,\n",
    ")\n",
    "from sklearn.utils._testing import ignore_warnings\n",
    "from sklearn.base import BaseEstimator, TransformerMixin\n",
    "from tensorflow import keras\n",
    "from transformers import AutoTokenizer, TFAutoModel, AutoModel  # BertModel\n",
    "import transformers\n",
    "\n",
    "# import nlpk"
   ]
  },
  {
   "cell_type": "markdown",
   "id": "238ba466",
   "metadata": {
    "papermill": {
     "duration": 0.013549,
     "end_time": "2023-01-02T15:43:34.535605",
     "exception": false,
     "start_time": "2023-01-02T15:43:34.522056",
     "status": "completed"
    },
    "tags": []
   },
   "source": [
    "test https://scikit-learn.org/stable/modules/multiclass.html autre stategie que OneVsRest\n",
    "https://keras.io/examples/nlp/text_extraction_with_bert/"
   ]
  },
  {
   "cell_type": "code",
   "execution_count": 2,
   "id": "5707ad96",
   "metadata": {
    "_kg_hide-output": true,
    "execution": {
     "iopub.execute_input": "2023-01-02T15:43:34.565904Z",
     "iopub.status.busy": "2023-01-02T15:43:34.564998Z",
     "iopub.status.idle": "2023-01-02T15:43:48.598990Z",
     "shell.execute_reply": "2023-01-02T15:43:48.597244Z"
    },
    "papermill": {
     "duration": 14.052545,
     "end_time": "2023-01-02T15:43:48.602096",
     "exception": false,
     "start_time": "2023-01-02T15:43:34.549551",
     "status": "completed"
    },
    "tags": []
   },
   "outputs": [
    {
     "name": "stdout",
     "output_type": "stream",
     "text": [
      "\u001b[33mWARNING: Running pip as the 'root' user can result in broken permissions and conflicting behaviour with the system package manager. It is recommended to use a virtual environment instead: https://pip.pypa.io/warnings/venv\u001b[0m\u001b[33m\r\n",
      "\u001b[0mNote: you may need to restart the kernel to use updated packages.\n"
     ]
    }
   ],
   "source": [
    "pip install -q jupyter-black jupyter"
   ]
  },
  {
   "cell_type": "code",
   "execution_count": 3,
   "id": "484fc76e",
   "metadata": {
    "execution": {
     "iopub.execute_input": "2023-01-02T15:43:48.632781Z",
     "iopub.status.busy": "2023-01-02T15:43:48.632285Z",
     "iopub.status.idle": "2023-01-02T15:43:48.803307Z",
     "shell.execute_reply": "2023-01-02T15:43:48.802075Z"
    },
    "papermill": {
     "duration": 0.189636,
     "end_time": "2023-01-02T15:43:48.805933",
     "exception": false,
     "start_time": "2023-01-02T15:43:48.616297",
     "status": "completed"
    },
    "tags": []
   },
   "outputs": [
    {
     "data": {
      "text/html": [
       "\n",
       "                <script type=\"application/javascript\" id=\"jupyter_black\">\n",
       "                (function() {\n",
       "                    if (window.IPython === undefined) {\n",
       "                        return\n",
       "                    }\n",
       "                    var msg = \"WARNING: it looks like you might have loaded \" +\n",
       "                        \"jupyter_black in a non-lab notebook with \" +\n",
       "                        \"`is_lab=True`. Please double check, and if \" +\n",
       "                        \"loading with `%load_ext` please review the README!\"\n",
       "                    console.log(msg)\n",
       "                    alert(msg)\n",
       "                })()\n",
       "                </script>\n",
       "                "
      ],
      "text/plain": [
       "<IPython.core.display.HTML object>"
      ]
     },
     "metadata": {},
     "output_type": "display_data"
    }
   ],
   "source": [
    "# for black formating\n",
    "import jupyter_black  # pip install jupyter-black jupyter\n",
    "\n",
    "jupyter_black.load()\n",
    "# ??jupyter_black.load #show config"
   ]
  },
  {
   "cell_type": "code",
   "execution_count": 4,
   "id": "fe23804c",
   "metadata": {
    "execution": {
     "iopub.execute_input": "2023-01-02T15:43:48.836911Z",
     "iopub.status.busy": "2023-01-02T15:43:48.836526Z",
     "iopub.status.idle": "2023-01-02T15:43:58.745859Z",
     "shell.execute_reply": "2023-01-02T15:43:58.744450Z"
    },
    "papermill": {
     "duration": 9.92916,
     "end_time": "2023-01-02T15:43:58.749336",
     "exception": false,
     "start_time": "2023-01-02T15:43:48.820176",
     "status": "completed"
    },
    "tags": []
   },
   "outputs": [
    {
     "name": "stdout",
     "output_type": "stream",
     "text": [
      "<class 'pandas.core.frame.DataFrame'>\n",
      "Int64Index: 118442 entries, 0 to 118441\n",
      "Data columns (total 12 columns):\n",
      " #   Column       Non-Null Count   Dtype \n",
      "---  ------       --------------   ----- \n",
      " 0   Id           118442 non-null  int64 \n",
      " 1   Title        118442 non-null  object\n",
      " 2   Body         118442 non-null  object\n",
      " 3   0            118440 non-null  object\n",
      " 4   1            118383 non-null  object\n",
      " 5   2            118292 non-null  object\n",
      " 6   3            118292 non-null  object\n",
      " 7   4            76389 non-null   object\n",
      " 8   5            4 non-null       object\n",
      " 9   Title_clean  118389 non-null  object\n",
      " 10  Code         88202 non-null   object\n",
      " 11  Body_clean   118392 non-null  object\n",
      "dtypes: int64(1), object(11)\n",
      "memory usage: 11.7+ MB\n"
     ]
    }
   ],
   "source": [
    "df = pd.read_csv(\n",
    "    \"/kaggle/input/p5-nlp/stackoverflowCleaned.csv\", index_col=0, low_memory=False\n",
    ")\n",
    "df.info()"
   ]
  },
  {
   "cell_type": "code",
   "execution_count": 5,
   "id": "33e08221",
   "metadata": {
    "execution": {
     "iopub.execute_input": "2023-01-02T15:43:58.780368Z",
     "iopub.status.busy": "2023-01-02T15:43:58.779975Z",
     "iopub.status.idle": "2023-01-02T15:43:58.832366Z",
     "shell.execute_reply": "2023-01-02T15:43:58.831194Z"
    },
    "papermill": {
     "duration": 0.070917,
     "end_time": "2023-01-02T15:43:58.835184",
     "exception": false,
     "start_time": "2023-01-02T15:43:58.764267",
     "status": "completed"
    },
    "tags": []
   },
   "outputs": [],
   "source": [
    "LONG = False\n",
    "description = {\n",
    "    \"title\": \"Word2Vec fix & avec pipeline custom transformer\",\n",
    "    \"CountVectorizer\": {\"min_df\": 0.00001, \"max_df\": 0.995, \"max_features\": None},\n",
    "    \"StandardScaler\": {\"actif\": False},\n",
    "    \"TruncatedSVD\": {\"actif\": False, \"n_components\": 1_000},\n",
    "    \"LogisticRegression\": {\"actif\": False},\n",
    "    \"TfidfOvRSVC\": {\"actif\": False, \"max_iter\": 100},\n",
    "    \"Word2Vec\": {\n",
    "        \"actif\": True,\n",
    "        \"min_count\": 1,\n",
    "        \"size\": 500,\n",
    "        \"window\": 10,\n",
    "        \"epochs\": 100,\n",
    "        \"maxlen\": 50,\n",
    "        \"max_iter\": 6_000,\n",
    "    },\n",
    "    \"BERT\": {\"actif\": False, \"max_length\": 20, \"max_iter\": 5_000, \"batch_size\": 20},\n",
    "}"
   ]
  },
  {
   "cell_type": "code",
   "execution_count": 6,
   "id": "d48e8484",
   "metadata": {
    "execution": {
     "iopub.execute_input": "2023-01-02T15:43:58.865593Z",
     "iopub.status.busy": "2023-01-02T15:43:58.865173Z",
     "iopub.status.idle": "2023-01-02T15:43:58.888204Z",
     "shell.execute_reply": "2023-01-02T15:43:58.887000Z"
    },
    "papermill": {
     "duration": 0.041084,
     "end_time": "2023-01-02T15:43:58.890635",
     "exception": false,
     "start_time": "2023-01-02T15:43:58.849551",
     "status": "completed"
    },
    "tags": []
   },
   "outputs": [],
   "source": [
    "class colors:\n",
    "    PURPLE = \"\\033[95m\"\n",
    "    BLUE = \"\\033[94m\"\n",
    "    CYAN = \"\\033[96m\"\n",
    "    GREEN = \"\\033[92m\"\n",
    "    YELLOW = \"\\033[93m\"\n",
    "    RED = \"\\033[91m\"\n",
    "    ENDC = \"\\033[0m\"\n",
    "    BOLD = \"\\033[1m\"\n",
    "    UNDERLINE = \"\\033[4m\""
   ]
  },
  {
   "cell_type": "markdown",
   "id": "9a4f828d",
   "metadata": {
    "papermill": {
     "duration": 0.01395,
     "end_time": "2023-01-02T15:43:58.919034",
     "exception": false,
     "start_time": "2023-01-02T15:43:58.905084",
     "status": "completed"
    },
    "tags": []
   },
   "source": [
    "# Tokenization"
   ]
  },
  {
   "cell_type": "code",
   "execution_count": 7,
   "id": "42eafb6e",
   "metadata": {
    "execution": {
     "iopub.execute_input": "2023-01-02T15:43:58.950190Z",
     "iopub.status.busy": "2023-01-02T15:43:58.949516Z",
     "iopub.status.idle": "2023-01-02T15:43:59.004240Z",
     "shell.execute_reply": "2023-01-02T15:43:59.003125Z"
    },
    "papermill": {
     "duration": 0.073765,
     "end_time": "2023-01-02T15:43:59.007019",
     "exception": false,
     "start_time": "2023-01-02T15:43:58.933254",
     "status": "completed"
    },
    "tags": []
   },
   "outputs": [
    {
     "data": {
      "application/vnd.jupyter.widget-view+json": {
       "model_id": "06bd827e8f97405993357529787f62bb",
       "version_major": 2,
       "version_minor": 0
      },
      "text/plain": [
       "interactive(children=(IntSlider(value=59220, description='i', max=118441), Output()), _dom_classes=('widget-in…"
      ]
     },
     "metadata": {},
     "output_type": "display_data"
    }
   ],
   "source": [
    "from ipywidgets import interact\n",
    "\n",
    "\n",
    "@interact(i=(0, df.shape[0] - 1))\n",
    "def test_tr_print(i):\n",
    "    print(\n",
    "        f'Title:{df[\"Title\"][i]}\\n{\"*\"*30}\\nTitle_clean:{df[\"Title_clean\"][i]}\\n{\"*\"*30}\\nBody:{df[\"Body\"][i]}\\n{\"*\"*30}\\nBody_clean:{df[\"Body_clean\"][i]}\\n{\"*\"*30}\\nCode:{df[\"Code\"][i]}\\n{\"*\"*30}\\nTags:{df.loc[i,\"0\"]} {df.loc[i,\"1\"]} {df.loc[i,\"2\"]} {df.loc[i,\"3\"]} {df.loc[i,\"4\"]}'\n",
    "    )"
   ]
  },
  {
   "cell_type": "code",
   "execution_count": 8,
   "id": "609af0c7",
   "metadata": {
    "execution": {
     "iopub.execute_input": "2023-01-02T15:43:59.040956Z",
     "iopub.status.busy": "2023-01-02T15:43:59.040066Z",
     "iopub.status.idle": "2023-01-02T15:43:59.068934Z",
     "shell.execute_reply": "2023-01-02T15:43:59.067583Z"
    },
    "papermill": {
     "duration": 0.048076,
     "end_time": "2023-01-02T15:43:59.071216",
     "exception": false,
     "start_time": "2023-01-02T15:43:59.023140",
     "status": "completed"
    },
    "tags": []
   },
   "outputs": [
    {
     "data": {
      "text/plain": [
       "53"
      ]
     },
     "execution_count": 8,
     "metadata": {},
     "output_type": "execute_result"
    }
   ],
   "source": [
    "sum(df[\"Title_clean\"].isna())"
   ]
  },
  {
   "cell_type": "code",
   "execution_count": 9,
   "id": "436e9ec2",
   "metadata": {
    "execution": {
     "iopub.execute_input": "2023-01-02T15:43:59.102164Z",
     "iopub.status.busy": "2023-01-02T15:43:59.101764Z",
     "iopub.status.idle": "2023-01-02T15:43:59.144106Z",
     "shell.execute_reply": "2023-01-02T15:43:59.142562Z"
    },
    "papermill": {
     "duration": 0.060553,
     "end_time": "2023-01-02T15:43:59.146475",
     "exception": false,
     "start_time": "2023-01-02T15:43:59.085922",
     "status": "completed"
    },
    "tags": []
   },
   "outputs": [
    {
     "data": {
      "text/html": [
       "<div>\n",
       "<style scoped>\n",
       "    .dataframe tbody tr th:only-of-type {\n",
       "        vertical-align: middle;\n",
       "    }\n",
       "\n",
       "    .dataframe tbody tr th {\n",
       "        vertical-align: top;\n",
       "    }\n",
       "\n",
       "    .dataframe thead th {\n",
       "        text-align: right;\n",
       "    }\n",
       "</style>\n",
       "<table border=\"1\" class=\"dataframe\">\n",
       "  <thead>\n",
       "    <tr style=\"text-align: right;\">\n",
       "      <th></th>\n",
       "      <th>Title</th>\n",
       "      <th>Title_clean</th>\n",
       "      <th>Body</th>\n",
       "      <th>Body_clean</th>\n",
       "      <th>0</th>\n",
       "      <th>1</th>\n",
       "      <th>2</th>\n",
       "      <th>3</th>\n",
       "      <th>4</th>\n",
       "    </tr>\n",
       "  </thead>\n",
       "  <tbody>\n",
       "    <tr>\n",
       "      <th>302</th>\n",
       "      <td>Is &lt; faster than &lt;=?</td>\n",
       "      <td>NaN</td>\n",
       "      <td>&lt;p&gt;Is &lt;code&gt;if (a &amp;lt; 901)&lt;/code&gt; faster than...</td>\n",
       "      <td>example performance change loop code suppose g...</td>\n",
       "      <td>c++</td>\n",
       "      <td>c</td>\n",
       "      <td>performance</td>\n",
       "      <td>assembly</td>\n",
       "      <td>relational-operators</td>\n",
       "    </tr>\n",
       "    <tr>\n",
       "      <th>393</th>\n",
       "      <td>What is setup.py?</td>\n",
       "      <td>NaN</td>\n",
       "      <td>&lt;p&gt;What is &lt;code&gt;setup.py&lt;/code&gt; and how can i...</td>\n",
       "      <td>configure</td>\n",
       "      <td>python</td>\n",
       "      <td>pypi</td>\n",
       "      <td>setup.py</td>\n",
       "      <td>python-packaging</td>\n",
       "      <td>NaN</td>\n",
       "    </tr>\n",
       "    <tr>\n",
       "      <th>1437</th>\n",
       "      <td>What is related_name used for?</td>\n",
       "      <td>NaN</td>\n",
       "      <td>&lt;p&gt;What is the &lt;code&gt;related_name&lt;/code&gt; argum...</td>\n",
       "      <td>argument manytomanyfield foreignkey field exam...</td>\n",
       "      <td>python</td>\n",
       "      <td>django</td>\n",
       "      <td>foreign-keys</td>\n",
       "      <td>many-to-many</td>\n",
       "      <td>NaN</td>\n",
       "    </tr>\n",
       "    <tr>\n",
       "      <th>4062</th>\n",
       "      <td>What is \"android:allowBackup\"?</td>\n",
       "      <td>NaN</td>\n",
       "      <td>&lt;p&gt;Since the &lt;a href=\"http://tools.android.com...</td>\n",
       "      <td>adt preview version version lint warning tell ...</td>\n",
       "      <td>android</td>\n",
       "      <td>adt</td>\n",
       "      <td>compiler-warnings</td>\n",
       "      <td>android-lint</td>\n",
       "      <td>android-backup-service</td>\n",
       "    </tr>\n",
       "    <tr>\n",
       "      <th>4870</th>\n",
       "      <td>Why is 0 &lt; -0x80000000?</td>\n",
       "      <td>NaN</td>\n",
       "      <td>&lt;p&gt;I have below a simple program:&lt;/p&gt;\\n\\n&lt;pre&gt;...</td>\n",
       "      <td>program condition if(bal int32_min work change...</td>\n",
       "      <td>c</td>\n",
       "      <td>signed</td>\n",
       "      <td>numeric-limits</td>\n",
       "      <td>numeric-conversion</td>\n",
       "      <td>NaN</td>\n",
       "    </tr>\n",
       "  </tbody>\n",
       "</table>\n",
       "</div>"
      ],
      "text/plain": [
       "                               Title Title_clean  \\\n",
       "302             Is < faster than <=?         NaN   \n",
       "393                What is setup.py?         NaN   \n",
       "1437  What is related_name used for?         NaN   \n",
       "4062  What is \"android:allowBackup\"?         NaN   \n",
       "4870         Why is 0 < -0x80000000?         NaN   \n",
       "\n",
       "                                                   Body  \\\n",
       "302   <p>Is <code>if (a &lt; 901)</code> faster than...   \n",
       "393   <p>What is <code>setup.py</code> and how can i...   \n",
       "1437  <p>What is the <code>related_name</code> argum...   \n",
       "4062  <p>Since the <a href=\"http://tools.android.com...   \n",
       "4870  <p>I have below a simple program:</p>\\n\\n<pre>...   \n",
       "\n",
       "                                             Body_clean        0       1  \\\n",
       "302   example performance change loop code suppose g...      c++       c   \n",
       "393                                           configure   python    pypi   \n",
       "1437  argument manytomanyfield foreignkey field exam...   python  django   \n",
       "4062  adt preview version version lint warning tell ...  android     adt   \n",
       "4870  program condition if(bal int32_min work change...        c  signed   \n",
       "\n",
       "                      2                   3                       4  \n",
       "302         performance            assembly    relational-operators  \n",
       "393            setup.py    python-packaging                     NaN  \n",
       "1437       foreign-keys        many-to-many                     NaN  \n",
       "4062  compiler-warnings        android-lint  android-backup-service  \n",
       "4870     numeric-limits  numeric-conversion                     NaN  "
      ]
     },
     "execution_count": 9,
     "metadata": {},
     "output_type": "execute_result"
    }
   ],
   "source": [
    "df[df[\"Title_clean\"].isna()][\n",
    "    [\"Title\", \"Title_clean\", \"Body\", \"Body_clean\", \"0\", \"1\", \"2\", \"3\", \"4\"]\n",
    "].head(5)"
   ]
  },
  {
   "cell_type": "code",
   "execution_count": 10,
   "id": "70bfda5b",
   "metadata": {
    "execution": {
     "iopub.execute_input": "2023-01-02T15:43:59.178232Z",
     "iopub.status.busy": "2023-01-02T15:43:59.177816Z",
     "iopub.status.idle": "2023-01-02T15:43:59.247943Z",
     "shell.execute_reply": "2023-01-02T15:43:59.246594Z"
    },
    "papermill": {
     "duration": 0.088744,
     "end_time": "2023-01-02T15:43:59.250335",
     "exception": false,
     "start_time": "2023-01-02T15:43:59.161591",
     "status": "completed"
    },
    "tags": []
   },
   "outputs": [
    {
     "name": "stdout",
     "output_type": "stream",
     "text": [
      "50\n"
     ]
    },
    {
     "data": {
      "text/html": [
       "<div>\n",
       "<style scoped>\n",
       "    .dataframe tbody tr th:only-of-type {\n",
       "        vertical-align: middle;\n",
       "    }\n",
       "\n",
       "    .dataframe tbody tr th {\n",
       "        vertical-align: top;\n",
       "    }\n",
       "\n",
       "    .dataframe thead th {\n",
       "        text-align: right;\n",
       "    }\n",
       "</style>\n",
       "<table border=\"1\" class=\"dataframe\">\n",
       "  <thead>\n",
       "    <tr style=\"text-align: right;\">\n",
       "      <th></th>\n",
       "      <th>Title</th>\n",
       "      <th>Title_clean</th>\n",
       "      <th>Body</th>\n",
       "      <th>Body_clean</th>\n",
       "      <th>Code</th>\n",
       "    </tr>\n",
       "  </thead>\n",
       "  <tbody>\n",
       "    <tr>\n",
       "      <th>5</th>\n",
       "      <td>What and where are the stack and heap?</td>\n",
       "      <td>stack heap</td>\n",
       "      <td>&lt;ul&gt;\\n&lt;li&gt;What are the stack and heap?&lt;/li&gt;\\n&lt;...</td>\n",
       "      <td>NaN</td>\n",
       "      <td>NaN</td>\n",
       "    </tr>\n",
       "    <tr>\n",
       "      <th>168</th>\n",
       "      <td>What is The Rule of Three?</td>\n",
       "      <td>rule</td>\n",
       "      <td>&lt;ul&gt;\\n&lt;li&gt;What does &lt;em&gt;copying an object&lt;/em&gt;...</td>\n",
       "      <td>NaN</td>\n",
       "      <td>NaN</td>\n",
       "    </tr>\n",
       "    <tr>\n",
       "      <th>828</th>\n",
       "      <td>Why are these constructs using pre and post-in...</td>\n",
       "      <td>construct pre behavior</td>\n",
       "      <td>&lt;pre&gt;&lt;code&gt;#include &amp;lt;stdio.h&amp;gt;\\n\\nint mai...</td>\n",
       "      <td>NaN</td>\n",
       "      <td>#include &lt;stdio.h&gt;\\n\\nint main(void)\\n{\\n   in...</td>\n",
       "    </tr>\n",
       "    <tr>\n",
       "      <th>1207</th>\n",
       "      <td>How to use ADB Shell when Multiple Devices are...</td>\n",
       "      <td>use adb shell multiple device connect fail err...</td>\n",
       "      <td>&lt;pre&gt;&lt;code&gt;$ adb --help\\n&lt;/code&gt;&lt;/pre&gt;\\n&lt;hr /&gt;...</td>\n",
       "      <td>NaN</td>\n",
       "      <td>$ adb --help\\n -s SERIAL  use device with give...</td>\n",
       "    </tr>\n",
       "    <tr>\n",
       "      <th>1640</th>\n",
       "      <td>What are the advantages of list initialization...</td>\n",
       "      <td>advantage list initialization brace</td>\n",
       "      <td>&lt;pre&gt;&lt;code&gt;MyClass a1 {a};     // clearer and ...</td>\n",
       "      <td>NaN</td>\n",
       "      <td>MyClass a1 {a};     // clearer and less error-...</td>\n",
       "    </tr>\n",
       "  </tbody>\n",
       "</table>\n",
       "</div>"
      ],
      "text/plain": [
       "                                                  Title  \\\n",
       "5                What and where are the stack and heap?   \n",
       "168                          What is The Rule of Three?   \n",
       "828   Why are these constructs using pre and post-in...   \n",
       "1207  How to use ADB Shell when Multiple Devices are...   \n",
       "1640  What are the advantages of list initialization...   \n",
       "\n",
       "                                            Title_clean  \\\n",
       "5                                            stack heap   \n",
       "168                                                rule   \n",
       "828                              construct pre behavior   \n",
       "1207  use adb shell multiple device connect fail err...   \n",
       "1640                advantage list initialization brace   \n",
       "\n",
       "                                                   Body Body_clean  \\\n",
       "5     <ul>\\n<li>What are the stack and heap?</li>\\n<...        NaN   \n",
       "168   <ul>\\n<li>What does <em>copying an object</em>...        NaN   \n",
       "828   <pre><code>#include &lt;stdio.h&gt;\\n\\nint mai...        NaN   \n",
       "1207  <pre><code>$ adb --help\\n</code></pre>\\n<hr />...        NaN   \n",
       "1640  <pre><code>MyClass a1 {a};     // clearer and ...        NaN   \n",
       "\n",
       "                                                   Code  \n",
       "5                                                   NaN  \n",
       "168                                                 NaN  \n",
       "828   #include <stdio.h>\\n\\nint main(void)\\n{\\n   in...  \n",
       "1207  $ adb --help\\n -s SERIAL  use device with give...  \n",
       "1640  MyClass a1 {a};     // clearer and less error-...  "
      ]
     },
     "execution_count": 10,
     "metadata": {},
     "output_type": "execute_result"
    }
   ],
   "source": [
    "print(sum(df[\"Body_clean\"].isna()))\n",
    "df[df[\"Body_clean\"].isna()][\n",
    "    [\"Title\", \"Title_clean\", \"Body\", \"Body_clean\", \"Code\"]\n",
    "].head(5)"
   ]
  },
  {
   "cell_type": "code",
   "execution_count": 11,
   "id": "81b30846",
   "metadata": {
    "execution": {
     "iopub.execute_input": "2023-01-02T15:43:59.282980Z",
     "iopub.status.busy": "2023-01-02T15:43:59.282578Z",
     "iopub.status.idle": "2023-01-02T15:43:59.318894Z",
     "shell.execute_reply": "2023-01-02T15:43:59.317924Z"
    },
    "papermill": {
     "duration": 0.055297,
     "end_time": "2023-01-02T15:43:59.321154",
     "exception": false,
     "start_time": "2023-01-02T15:43:59.265857",
     "status": "completed"
    },
    "tags": []
   },
   "outputs": [
    {
     "data": {
      "text/plain": [
       "0"
      ]
     },
     "execution_count": 11,
     "metadata": {},
     "output_type": "execute_result"
    }
   ],
   "source": [
    "len(df[df[\"Body_clean\"].isna() & df[\"Title_clean\"].isna()])"
   ]
  },
  {
   "cell_type": "code",
   "execution_count": 12,
   "id": "0a625800",
   "metadata": {
    "execution": {
     "iopub.execute_input": "2023-01-02T15:43:59.355465Z",
     "iopub.status.busy": "2023-01-02T15:43:59.354320Z",
     "iopub.status.idle": "2023-01-02T15:43:59.479282Z",
     "shell.execute_reply": "2023-01-02T15:43:59.477892Z"
    },
    "papermill": {
     "duration": 0.145147,
     "end_time": "2023-01-02T15:43:59.481982",
     "exception": false,
     "start_time": "2023-01-02T15:43:59.336835",
     "status": "completed"
    },
    "tags": []
   },
   "outputs": [
    {
     "data": {
      "text/plain": [
       "103"
      ]
     },
     "execution_count": 12,
     "metadata": {},
     "output_type": "execute_result"
    }
   ],
   "source": [
    "sum((df[\"Title_clean\"] + df[\"Body_clean\"]).isna())"
   ]
  },
  {
   "cell_type": "code",
   "execution_count": 13,
   "id": "a51ac72c",
   "metadata": {
    "execution": {
     "iopub.execute_input": "2023-01-02T15:43:59.515002Z",
     "iopub.status.busy": "2023-01-02T15:43:59.514588Z",
     "iopub.status.idle": "2023-01-02T15:43:59.615448Z",
     "shell.execute_reply": "2023-01-02T15:43:59.614258Z"
    },
    "papermill": {
     "duration": 0.120604,
     "end_time": "2023-01-02T15:43:59.618283",
     "exception": false,
     "start_time": "2023-01-02T15:43:59.497679",
     "status": "completed"
    },
    "tags": []
   },
   "outputs": [
    {
     "data": {
      "text/html": [
       "<div>\n",
       "<style scoped>\n",
       "    .dataframe tbody tr th:only-of-type {\n",
       "        vertical-align: middle;\n",
       "    }\n",
       "\n",
       "    .dataframe tbody tr th {\n",
       "        vertical-align: top;\n",
       "    }\n",
       "\n",
       "    .dataframe thead th {\n",
       "        text-align: right;\n",
       "    }\n",
       "</style>\n",
       "<table border=\"1\" class=\"dataframe\">\n",
       "  <thead>\n",
       "    <tr style=\"text-align: right;\">\n",
       "      <th></th>\n",
       "      <th>javascript</th>\n",
       "      <th>java</th>\n",
       "      <th>c#</th>\n",
       "      <th>python</th>\n",
       "      <th>html</th>\n",
       "      <th>git</th>\n",
       "      <th>php</th>\n",
       "    </tr>\n",
       "  </thead>\n",
       "  <tbody>\n",
       "    <tr>\n",
       "      <th>10001</th>\n",
       "      <td>True</td>\n",
       "      <td>False</td>\n",
       "      <td>False</td>\n",
       "      <td>False</td>\n",
       "      <td>True</td>\n",
       "      <td>False</td>\n",
       "      <td>False</td>\n",
       "    </tr>\n",
       "    <tr>\n",
       "      <th>10002</th>\n",
       "      <td>False</td>\n",
       "      <td>True</td>\n",
       "      <td>False</td>\n",
       "      <td>False</td>\n",
       "      <td>False</td>\n",
       "      <td>False</td>\n",
       "      <td>False</td>\n",
       "    </tr>\n",
       "    <tr>\n",
       "      <th>10003</th>\n",
       "      <td>False</td>\n",
       "      <td>False</td>\n",
       "      <td>True</td>\n",
       "      <td>False</td>\n",
       "      <td>False</td>\n",
       "      <td>False</td>\n",
       "      <td>False</td>\n",
       "    </tr>\n",
       "    <tr>\n",
       "      <th>10004</th>\n",
       "      <td>False</td>\n",
       "      <td>False</td>\n",
       "      <td>False</td>\n",
       "      <td>False</td>\n",
       "      <td>True</td>\n",
       "      <td>False</td>\n",
       "      <td>False</td>\n",
       "    </tr>\n",
       "    <tr>\n",
       "      <th>10005</th>\n",
       "      <td>False</td>\n",
       "      <td>False</td>\n",
       "      <td>False</td>\n",
       "      <td>False</td>\n",
       "      <td>False</td>\n",
       "      <td>False</td>\n",
       "      <td>False</td>\n",
       "    </tr>\n",
       "    <tr>\n",
       "      <th>...</th>\n",
       "      <td>...</td>\n",
       "      <td>...</td>\n",
       "      <td>...</td>\n",
       "      <td>...</td>\n",
       "      <td>...</td>\n",
       "      <td>...</td>\n",
       "      <td>...</td>\n",
       "    </tr>\n",
       "    <tr>\n",
       "      <th>15045</th>\n",
       "      <td>False</td>\n",
       "      <td>False</td>\n",
       "      <td>False</td>\n",
       "      <td>False</td>\n",
       "      <td>False</td>\n",
       "      <td>False</td>\n",
       "      <td>False</td>\n",
       "    </tr>\n",
       "    <tr>\n",
       "      <th>15046</th>\n",
       "      <td>False</td>\n",
       "      <td>False</td>\n",
       "      <td>False</td>\n",
       "      <td>False</td>\n",
       "      <td>False</td>\n",
       "      <td>False</td>\n",
       "      <td>False</td>\n",
       "    </tr>\n",
       "    <tr>\n",
       "      <th>15047</th>\n",
       "      <td>True</td>\n",
       "      <td>False</td>\n",
       "      <td>False</td>\n",
       "      <td>False</td>\n",
       "      <td>False</td>\n",
       "      <td>False</td>\n",
       "      <td>False</td>\n",
       "    </tr>\n",
       "    <tr>\n",
       "      <th>15048</th>\n",
       "      <td>False</td>\n",
       "      <td>False</td>\n",
       "      <td>False</td>\n",
       "      <td>False</td>\n",
       "      <td>False</td>\n",
       "      <td>False</td>\n",
       "      <td>False</td>\n",
       "    </tr>\n",
       "    <tr>\n",
       "      <th>15049</th>\n",
       "      <td>False</td>\n",
       "      <td>False</td>\n",
       "      <td>False</td>\n",
       "      <td>False</td>\n",
       "      <td>False</td>\n",
       "      <td>False</td>\n",
       "      <td>False</td>\n",
       "    </tr>\n",
       "  </tbody>\n",
       "</table>\n",
       "<p>5049 rows × 7 columns</p>\n",
       "</div>"
      ],
      "text/plain": [
       "       javascript   java     c#  python   html    git    php\n",
       "10001        True  False  False   False   True  False  False\n",
       "10002       False   True  False   False  False  False  False\n",
       "10003       False  False   True   False  False  False  False\n",
       "10004       False  False  False   False   True  False  False\n",
       "10005       False  False  False   False  False  False  False\n",
       "...           ...    ...    ...     ...    ...    ...    ...\n",
       "15045       False  False  False   False  False  False  False\n",
       "15046       False  False  False   False  False  False  False\n",
       "15047        True  False  False   False  False  False  False\n",
       "15048       False  False  False   False  False  False  False\n",
       "15049       False  False  False   False  False  False  False\n",
       "\n",
       "[5049 rows x 7 columns]"
      ]
     },
     "execution_count": 13,
     "metadata": {},
     "output_type": "execute_result"
    }
   ],
   "source": [
    "def tag_is_in(df: pd.DataFrame(), tag: str, nb_cols: int = 6):\n",
    "    return eval(\"|\".join(f'(df[\"{i}\"] == \"{tag}\")' for i in range(0, nb_cols)))\n",
    "\n",
    "\n",
    "def tags_are_in(df: pd.DataFrame(), tags: list):\n",
    "    return pd.DataFrame({tag: tag_is_in(df, tag) for tag in tags})\n",
    "\n",
    "\n",
    "def save_score(\n",
    "    y_true, y_pred, target_names: list, name=None, zero_division=0\n",
    ") -> pd.DataFrame():\n",
    "    scores = pd.DataFrame(\n",
    "        metrics.classification_report(\n",
    "            y_true,\n",
    "            y_pred,\n",
    "            target_names=target_names,\n",
    "            zero_division=zero_division,\n",
    "            output_dict=True,\n",
    "        )\n",
    "    ).T\n",
    "    if name is not None:\n",
    "        scores.to_csv(f\"/kaggle/working/{name}_score.csv\")\n",
    "    return scores\n",
    "\n",
    "\n",
    "# tags_are_in(df, [\"javascript\",\"java\"])\n",
    "tags_are_in(\n",
    "    df[10001:15050], [\"javascript\", \"java\", \"c#\", \"python\", \"html\", \"git\", \"php\"]\n",
    ")"
   ]
  },
  {
   "cell_type": "code",
   "execution_count": 14,
   "id": "d20ef9d4",
   "metadata": {
    "execution": {
     "iopub.execute_input": "2023-01-02T15:43:59.652287Z",
     "iopub.status.busy": "2023-01-02T15:43:59.651352Z",
     "iopub.status.idle": "2023-01-02T15:43:59.872658Z",
     "shell.execute_reply": "2023-01-02T15:43:59.871544Z"
    },
    "papermill": {
     "duration": 0.240888,
     "end_time": "2023-01-02T15:43:59.875202",
     "exception": false,
     "start_time": "2023-01-02T15:43:59.634314",
     "status": "completed"
    },
    "tags": []
   },
   "outputs": [
    {
     "data": {
      "text/plain": [
       "['java',\n",
       " 'c#',\n",
       " 'javascript',\n",
       " 'python',\n",
       " 'android',\n",
       " 'c++',\n",
       " 'ios',\n",
       " 'html',\n",
       " 'php',\n",
       " '.net',\n",
       " 'jquery',\n",
       " 'css',\n",
       " 'objective-c',\n",
       " 'c',\n",
       " 'sql',\n",
       " 'iphone',\n",
       " 'asp.net',\n",
       " 'mysql',\n",
       " 'linux',\n",
       " 'node.js',\n",
       " 'git']"
      ]
     },
     "execution_count": 14,
     "metadata": {},
     "output_type": "execute_result"
    }
   ],
   "source": [
    "tags = df[[\"0\", \"1\", \"2\", \"3\", \"4\", \"5\"]].stack()\n",
    "target_names = [\n",
    "    tag\n",
    "    for tag, freq in tags.reset_index(drop=True).value_counts(normalize=True).items()\n",
    "    if freq > 0.002\n",
    "]\n",
    "if not LONG:\n",
    "    target_names = target_names[0:20] + [\"git\"]\n",
    "target_names"
   ]
  },
  {
   "cell_type": "code",
   "execution_count": 15,
   "id": "1147da2a",
   "metadata": {
    "execution": {
     "iopub.execute_input": "2023-01-02T15:43:59.909509Z",
     "iopub.status.busy": "2023-01-02T15:43:59.908698Z",
     "iopub.status.idle": "2023-01-02T15:43:59.924478Z",
     "shell.execute_reply": "2023-01-02T15:43:59.923421Z"
    },
    "papermill": {
     "duration": 0.035369,
     "end_time": "2023-01-02T15:43:59.926855",
     "exception": false,
     "start_time": "2023-01-02T15:43:59.891486",
     "status": "completed"
    },
    "tags": []
   },
   "outputs": [],
   "source": [
    "# Enregistrement des paramétres avec la liste des tags a predire\n",
    "description[\"target_names\"] = target_names\n",
    "with open(\"/kaggle/working/description.json\", \"w\") as outfile:\n",
    "    json.dump(description, outfile)"
   ]
  },
  {
   "cell_type": "markdown",
   "id": "742f7227",
   "metadata": {
    "papermill": {
     "duration": 0.016634,
     "end_time": "2023-01-02T15:43:59.959854",
     "exception": false,
     "start_time": "2023-01-02T15:43:59.943220",
     "status": "completed"
    },
    "tags": []
   },
   "source": [
    "## Separation train/test"
   ]
  },
  {
   "cell_type": "code",
   "execution_count": 16,
   "id": "3940d84e",
   "metadata": {
    "execution": {
     "iopub.execute_input": "2023-01-02T15:43:59.993814Z",
     "iopub.status.busy": "2023-01-02T15:43:59.993401Z",
     "iopub.status.idle": "2023-01-02T15:44:01.582539Z",
     "shell.execute_reply": "2023-01-02T15:44:01.581188Z"
    },
    "papermill": {
     "duration": 1.609363,
     "end_time": "2023-01-02T15:44:01.585446",
     "exception": false,
     "start_time": "2023-01-02T15:43:59.976083",
     "status": "completed"
    },
    "tags": []
   },
   "outputs": [
    {
     "name": "stdout",
     "output_type": "stream",
     "text": [
      "99.99409% des questions ont plus d'un tokens\n"
     ]
    }
   ],
   "source": [
    "df[\"Token\"] = df[\"Title_clean\"].fillna(\"\") + df[\"Body_clean\"].fillna(\"\")\n",
    "print(\n",
    "    f\"{len(df[[len(token.split()) > 1 for token in df['Token']]])/len(df):.5%} des questions ont plus d'un tokens\"\n",
    "    if len(df[df[\"Token\"] == \"\"]) == 0\n",
    "    else f\"{len(df[df['Token'] == ''])} questions n'ont pas de token\"\n",
    ")\n",
    "X_train, X_test, y_train, y_test = model_selection.train_test_split(\n",
    "    df[\"Token\"], tags_are_in(df, target_names), random_state=42\n",
    ")"
   ]
  },
  {
   "cell_type": "markdown",
   "id": "e5e013d2",
   "metadata": {
    "papermill": {
     "duration": 0.015866,
     "end_time": "2023-01-02T15:44:01.617583",
     "exception": false,
     "start_time": "2023-01-02T15:44:01.601717",
     "status": "completed"
    },
    "tags": []
   },
   "source": [
    "## Approche naïve pour comparer les résultat:\n",
    "    - Valeur la plus fréquente (False)\n",
    "    - Si le tag est présent dans la question"
   ]
  },
  {
   "cell_type": "code",
   "execution_count": 17,
   "id": "87db24da",
   "metadata": {
    "execution": {
     "iopub.execute_input": "2023-01-02T15:44:01.651482Z",
     "iopub.status.busy": "2023-01-02T15:44:01.651074Z",
     "iopub.status.idle": "2023-01-02T15:44:01.740624Z",
     "shell.execute_reply": "2023-01-02T15:44:01.739426Z"
    },
    "papermill": {
     "duration": 0.109496,
     "end_time": "2023-01-02T15:44:01.743031",
     "exception": false,
     "start_time": "2023-01-02T15:44:01.633535",
     "status": "completed"
    },
    "tags": []
   },
   "outputs": [
    {
     "data": {
      "text/html": [
       "<div>\n",
       "<style scoped>\n",
       "    .dataframe tbody tr th:only-of-type {\n",
       "        vertical-align: middle;\n",
       "    }\n",
       "\n",
       "    .dataframe tbody tr th {\n",
       "        vertical-align: top;\n",
       "    }\n",
       "\n",
       "    .dataframe thead th {\n",
       "        text-align: right;\n",
       "    }\n",
       "</style>\n",
       "<table border=\"1\" class=\"dataframe\">\n",
       "  <thead>\n",
       "    <tr style=\"text-align: right;\">\n",
       "      <th></th>\n",
       "      <th>precision</th>\n",
       "      <th>recall</th>\n",
       "      <th>f1-score</th>\n",
       "      <th>support</th>\n",
       "    </tr>\n",
       "  </thead>\n",
       "  <tbody>\n",
       "    <tr>\n",
       "      <th>java</th>\n",
       "      <td>1.0</td>\n",
       "      <td>0.000000</td>\n",
       "      <td>0.000000</td>\n",
       "      <td>3558.0</td>\n",
       "    </tr>\n",
       "    <tr>\n",
       "      <th>c#</th>\n",
       "      <td>1.0</td>\n",
       "      <td>0.000000</td>\n",
       "      <td>0.000000</td>\n",
       "      <td>3473.0</td>\n",
       "    </tr>\n",
       "    <tr>\n",
       "      <th>javascript</th>\n",
       "      <td>1.0</td>\n",
       "      <td>0.000000</td>\n",
       "      <td>0.000000</td>\n",
       "      <td>3356.0</td>\n",
       "    </tr>\n",
       "    <tr>\n",
       "      <th>python</th>\n",
       "      <td>1.0</td>\n",
       "      <td>0.000000</td>\n",
       "      <td>0.000000</td>\n",
       "      <td>2612.0</td>\n",
       "    </tr>\n",
       "    <tr>\n",
       "      <th>android</th>\n",
       "      <td>1.0</td>\n",
       "      <td>0.000000</td>\n",
       "      <td>0.000000</td>\n",
       "      <td>2045.0</td>\n",
       "    </tr>\n",
       "    <tr>\n",
       "      <th>c++</th>\n",
       "      <td>1.0</td>\n",
       "      <td>0.000000</td>\n",
       "      <td>0.000000</td>\n",
       "      <td>1964.0</td>\n",
       "    </tr>\n",
       "    <tr>\n",
       "      <th>ios</th>\n",
       "      <td>1.0</td>\n",
       "      <td>0.000000</td>\n",
       "      <td>0.000000</td>\n",
       "      <td>1840.0</td>\n",
       "    </tr>\n",
       "    <tr>\n",
       "      <th>html</th>\n",
       "      <td>1.0</td>\n",
       "      <td>0.000000</td>\n",
       "      <td>0.000000</td>\n",
       "      <td>1755.0</td>\n",
       "    </tr>\n",
       "    <tr>\n",
       "      <th>php</th>\n",
       "      <td>1.0</td>\n",
       "      <td>0.000000</td>\n",
       "      <td>0.000000</td>\n",
       "      <td>1627.0</td>\n",
       "    </tr>\n",
       "    <tr>\n",
       "      <th>.net</th>\n",
       "      <td>1.0</td>\n",
       "      <td>0.000000</td>\n",
       "      <td>0.000000</td>\n",
       "      <td>1569.0</td>\n",
       "    </tr>\n",
       "    <tr>\n",
       "      <th>jquery</th>\n",
       "      <td>1.0</td>\n",
       "      <td>0.000000</td>\n",
       "      <td>0.000000</td>\n",
       "      <td>1538.0</td>\n",
       "    </tr>\n",
       "    <tr>\n",
       "      <th>css</th>\n",
       "      <td>1.0</td>\n",
       "      <td>0.000000</td>\n",
       "      <td>0.000000</td>\n",
       "      <td>1131.0</td>\n",
       "    </tr>\n",
       "    <tr>\n",
       "      <th>objective-c</th>\n",
       "      <td>1.0</td>\n",
       "      <td>0.000000</td>\n",
       "      <td>0.000000</td>\n",
       "      <td>888.0</td>\n",
       "    </tr>\n",
       "    <tr>\n",
       "      <th>c</th>\n",
       "      <td>1.0</td>\n",
       "      <td>0.000000</td>\n",
       "      <td>0.000000</td>\n",
       "      <td>885.0</td>\n",
       "    </tr>\n",
       "    <tr>\n",
       "      <th>sql</th>\n",
       "      <td>1.0</td>\n",
       "      <td>0.000000</td>\n",
       "      <td>0.000000</td>\n",
       "      <td>870.0</td>\n",
       "    </tr>\n",
       "    <tr>\n",
       "      <th>iphone</th>\n",
       "      <td>1.0</td>\n",
       "      <td>0.000000</td>\n",
       "      <td>0.000000</td>\n",
       "      <td>807.0</td>\n",
       "    </tr>\n",
       "    <tr>\n",
       "      <th>asp.net</th>\n",
       "      <td>1.0</td>\n",
       "      <td>0.000000</td>\n",
       "      <td>0.000000</td>\n",
       "      <td>805.0</td>\n",
       "    </tr>\n",
       "    <tr>\n",
       "      <th>mysql</th>\n",
       "      <td>1.0</td>\n",
       "      <td>0.000000</td>\n",
       "      <td>0.000000</td>\n",
       "      <td>685.0</td>\n",
       "    </tr>\n",
       "    <tr>\n",
       "      <th>linux</th>\n",
       "      <td>1.0</td>\n",
       "      <td>0.000000</td>\n",
       "      <td>0.000000</td>\n",
       "      <td>680.0</td>\n",
       "    </tr>\n",
       "    <tr>\n",
       "      <th>node.js</th>\n",
       "      <td>1.0</td>\n",
       "      <td>0.000000</td>\n",
       "      <td>0.000000</td>\n",
       "      <td>682.0</td>\n",
       "    </tr>\n",
       "    <tr>\n",
       "      <th>git</th>\n",
       "      <td>1.0</td>\n",
       "      <td>0.000000</td>\n",
       "      <td>0.000000</td>\n",
       "      <td>274.0</td>\n",
       "    </tr>\n",
       "    <tr>\n",
       "      <th>micro avg</th>\n",
       "      <td>1.0</td>\n",
       "      <td>0.000000</td>\n",
       "      <td>0.000000</td>\n",
       "      <td>33044.0</td>\n",
       "    </tr>\n",
       "    <tr>\n",
       "      <th>macro avg</th>\n",
       "      <td>1.0</td>\n",
       "      <td>0.000000</td>\n",
       "      <td>0.000000</td>\n",
       "      <td>33044.0</td>\n",
       "    </tr>\n",
       "    <tr>\n",
       "      <th>weighted avg</th>\n",
       "      <td>1.0</td>\n",
       "      <td>0.000000</td>\n",
       "      <td>0.000000</td>\n",
       "      <td>33044.0</td>\n",
       "    </tr>\n",
       "    <tr>\n",
       "      <th>samples avg</th>\n",
       "      <td>1.0</td>\n",
       "      <td>0.207322</td>\n",
       "      <td>0.207322</td>\n",
       "      <td>33044.0</td>\n",
       "    </tr>\n",
       "  </tbody>\n",
       "</table>\n",
       "</div>"
      ],
      "text/plain": [
       "              precision    recall  f1-score  support\n",
       "java                1.0  0.000000  0.000000   3558.0\n",
       "c#                  1.0  0.000000  0.000000   3473.0\n",
       "javascript          1.0  0.000000  0.000000   3356.0\n",
       "python              1.0  0.000000  0.000000   2612.0\n",
       "android             1.0  0.000000  0.000000   2045.0\n",
       "c++                 1.0  0.000000  0.000000   1964.0\n",
       "ios                 1.0  0.000000  0.000000   1840.0\n",
       "html                1.0  0.000000  0.000000   1755.0\n",
       "php                 1.0  0.000000  0.000000   1627.0\n",
       ".net                1.0  0.000000  0.000000   1569.0\n",
       "jquery              1.0  0.000000  0.000000   1538.0\n",
       "css                 1.0  0.000000  0.000000   1131.0\n",
       "objective-c         1.0  0.000000  0.000000    888.0\n",
       "c                   1.0  0.000000  0.000000    885.0\n",
       "sql                 1.0  0.000000  0.000000    870.0\n",
       "iphone              1.0  0.000000  0.000000    807.0\n",
       "asp.net             1.0  0.000000  0.000000    805.0\n",
       "mysql               1.0  0.000000  0.000000    685.0\n",
       "linux               1.0  0.000000  0.000000    680.0\n",
       "node.js             1.0  0.000000  0.000000    682.0\n",
       "git                 1.0  0.000000  0.000000    274.0\n",
       "micro avg           1.0  0.000000  0.000000  33044.0\n",
       "macro avg           1.0  0.000000  0.000000  33044.0\n",
       "weighted avg        1.0  0.000000  0.000000  33044.0\n",
       "samples avg         1.0  0.207322  0.207322  33044.0"
      ]
     },
     "execution_count": 17,
     "metadata": {},
     "output_type": "execute_result"
    }
   ],
   "source": [
    "save_score(\n",
    "    y_true=y_test,\n",
    "    y_pred=y_test.replace([True], False),\n",
    "    target_names=target_names,\n",
    "    zero_division=1,  # because TruePositif=0\n",
    ")"
   ]
  },
  {
   "cell_type": "markdown",
   "id": "fd1a644b",
   "metadata": {
    "papermill": {
     "duration": 0.015743,
     "end_time": "2023-01-02T15:44:01.775379",
     "exception": false,
     "start_time": "2023-01-02T15:44:01.759636",
     "status": "completed"
    },
    "tags": []
   },
   "source": [
    "Avec prédire toujours vrai"
   ]
  },
  {
   "cell_type": "code",
   "execution_count": 18,
   "id": "31457186",
   "metadata": {
    "execution": {
     "iopub.execute_input": "2023-01-02T15:44:01.809462Z",
     "iopub.status.busy": "2023-01-02T15:44:01.809077Z",
     "iopub.status.idle": "2023-01-02T15:44:02.157721Z",
     "shell.execute_reply": "2023-01-02T15:44:02.156445Z"
    },
    "papermill": {
     "duration": 0.369058,
     "end_time": "2023-01-02T15:44:02.160370",
     "exception": false,
     "start_time": "2023-01-02T15:44:01.791312",
     "status": "completed"
    },
    "tags": []
   },
   "outputs": [
    {
     "data": {
      "text/html": [
       "<div>\n",
       "<style scoped>\n",
       "    .dataframe tbody tr th:only-of-type {\n",
       "        vertical-align: middle;\n",
       "    }\n",
       "\n",
       "    .dataframe tbody tr th {\n",
       "        vertical-align: top;\n",
       "    }\n",
       "\n",
       "    .dataframe thead th {\n",
       "        text-align: right;\n",
       "    }\n",
       "</style>\n",
       "<table border=\"1\" class=\"dataframe\">\n",
       "  <thead>\n",
       "    <tr style=\"text-align: right;\">\n",
       "      <th></th>\n",
       "      <th>precision</th>\n",
       "      <th>recall</th>\n",
       "      <th>f1-score</th>\n",
       "      <th>support</th>\n",
       "    </tr>\n",
       "  </thead>\n",
       "  <tbody>\n",
       "    <tr>\n",
       "      <th>java</th>\n",
       "      <td>0.120158</td>\n",
       "      <td>1.000000</td>\n",
       "      <td>0.214538</td>\n",
       "      <td>3558.0</td>\n",
       "    </tr>\n",
       "    <tr>\n",
       "      <th>c#</th>\n",
       "      <td>0.117287</td>\n",
       "      <td>1.000000</td>\n",
       "      <td>0.209950</td>\n",
       "      <td>3473.0</td>\n",
       "    </tr>\n",
       "    <tr>\n",
       "      <th>javascript</th>\n",
       "      <td>0.113336</td>\n",
       "      <td>1.000000</td>\n",
       "      <td>0.203598</td>\n",
       "      <td>3356.0</td>\n",
       "    </tr>\n",
       "    <tr>\n",
       "      <th>python</th>\n",
       "      <td>0.088210</td>\n",
       "      <td>1.000000</td>\n",
       "      <td>0.162120</td>\n",
       "      <td>2612.0</td>\n",
       "    </tr>\n",
       "    <tr>\n",
       "      <th>android</th>\n",
       "      <td>0.069062</td>\n",
       "      <td>1.000000</td>\n",
       "      <td>0.129201</td>\n",
       "      <td>2045.0</td>\n",
       "    </tr>\n",
       "    <tr>\n",
       "      <th>c++</th>\n",
       "      <td>0.066327</td>\n",
       "      <td>1.000000</td>\n",
       "      <td>0.124402</td>\n",
       "      <td>1964.0</td>\n",
       "    </tr>\n",
       "    <tr>\n",
       "      <th>ios</th>\n",
       "      <td>0.062139</td>\n",
       "      <td>1.000000</td>\n",
       "      <td>0.117007</td>\n",
       "      <td>1840.0</td>\n",
       "    </tr>\n",
       "    <tr>\n",
       "      <th>html</th>\n",
       "      <td>0.059269</td>\n",
       "      <td>1.000000</td>\n",
       "      <td>0.111905</td>\n",
       "      <td>1755.0</td>\n",
       "    </tr>\n",
       "    <tr>\n",
       "      <th>php</th>\n",
       "      <td>0.054946</td>\n",
       "      <td>1.000000</td>\n",
       "      <td>0.104168</td>\n",
       "      <td>1627.0</td>\n",
       "    </tr>\n",
       "    <tr>\n",
       "      <th>.net</th>\n",
       "      <td>0.052987</td>\n",
       "      <td>1.000000</td>\n",
       "      <td>0.100641</td>\n",
       "      <td>1569.0</td>\n",
       "    </tr>\n",
       "    <tr>\n",
       "      <th>jquery</th>\n",
       "      <td>0.051940</td>\n",
       "      <td>1.000000</td>\n",
       "      <td>0.098751</td>\n",
       "      <td>1538.0</td>\n",
       "    </tr>\n",
       "    <tr>\n",
       "      <th>css</th>\n",
       "      <td>0.038195</td>\n",
       "      <td>1.000000</td>\n",
       "      <td>0.073580</td>\n",
       "      <td>1131.0</td>\n",
       "    </tr>\n",
       "    <tr>\n",
       "      <th>objective-c</th>\n",
       "      <td>0.029989</td>\n",
       "      <td>1.000000</td>\n",
       "      <td>0.058231</td>\n",
       "      <td>888.0</td>\n",
       "    </tr>\n",
       "    <tr>\n",
       "      <th>c</th>\n",
       "      <td>0.029888</td>\n",
       "      <td>1.000000</td>\n",
       "      <td>0.058040</td>\n",
       "      <td>885.0</td>\n",
       "    </tr>\n",
       "    <tr>\n",
       "      <th>sql</th>\n",
       "      <td>0.029381</td>\n",
       "      <td>1.000000</td>\n",
       "      <td>0.057085</td>\n",
       "      <td>870.0</td>\n",
       "    </tr>\n",
       "    <tr>\n",
       "      <th>iphone</th>\n",
       "      <td>0.027253</td>\n",
       "      <td>1.000000</td>\n",
       "      <td>0.053061</td>\n",
       "      <td>807.0</td>\n",
       "    </tr>\n",
       "    <tr>\n",
       "      <th>asp.net</th>\n",
       "      <td>0.027186</td>\n",
       "      <td>1.000000</td>\n",
       "      <td>0.052933</td>\n",
       "      <td>805.0</td>\n",
       "    </tr>\n",
       "    <tr>\n",
       "      <th>mysql</th>\n",
       "      <td>0.023133</td>\n",
       "      <td>1.000000</td>\n",
       "      <td>0.045220</td>\n",
       "      <td>685.0</td>\n",
       "    </tr>\n",
       "    <tr>\n",
       "      <th>linux</th>\n",
       "      <td>0.022964</td>\n",
       "      <td>1.000000</td>\n",
       "      <td>0.044898</td>\n",
       "      <td>680.0</td>\n",
       "    </tr>\n",
       "    <tr>\n",
       "      <th>node.js</th>\n",
       "      <td>0.023032</td>\n",
       "      <td>1.000000</td>\n",
       "      <td>0.045027</td>\n",
       "      <td>682.0</td>\n",
       "    </tr>\n",
       "    <tr>\n",
       "      <th>git</th>\n",
       "      <td>0.009253</td>\n",
       "      <td>1.000000</td>\n",
       "      <td>0.018337</td>\n",
       "      <td>274.0</td>\n",
       "    </tr>\n",
       "    <tr>\n",
       "      <th>micro avg</th>\n",
       "      <td>0.053140</td>\n",
       "      <td>1.000000</td>\n",
       "      <td>0.100917</td>\n",
       "      <td>33044.0</td>\n",
       "    </tr>\n",
       "    <tr>\n",
       "      <th>macro avg</th>\n",
       "      <td>0.053140</td>\n",
       "      <td>1.000000</td>\n",
       "      <td>0.099176</td>\n",
       "      <td>33044.0</td>\n",
       "    </tr>\n",
       "    <tr>\n",
       "      <th>weighted avg</th>\n",
       "      <td>0.072731</td>\n",
       "      <td>1.000000</td>\n",
       "      <td>0.133680</td>\n",
       "      <td>33044.0</td>\n",
       "    </tr>\n",
       "    <tr>\n",
       "      <th>samples avg</th>\n",
       "      <td>0.053140</td>\n",
       "      <td>0.792678</td>\n",
       "      <td>0.098364</td>\n",
       "      <td>33044.0</td>\n",
       "    </tr>\n",
       "  </tbody>\n",
       "</table>\n",
       "</div>"
      ],
      "text/plain": [
       "              precision    recall  f1-score  support\n",
       "java           0.120158  1.000000  0.214538   3558.0\n",
       "c#             0.117287  1.000000  0.209950   3473.0\n",
       "javascript     0.113336  1.000000  0.203598   3356.0\n",
       "python         0.088210  1.000000  0.162120   2612.0\n",
       "android        0.069062  1.000000  0.129201   2045.0\n",
       "c++            0.066327  1.000000  0.124402   1964.0\n",
       "ios            0.062139  1.000000  0.117007   1840.0\n",
       "html           0.059269  1.000000  0.111905   1755.0\n",
       "php            0.054946  1.000000  0.104168   1627.0\n",
       ".net           0.052987  1.000000  0.100641   1569.0\n",
       "jquery         0.051940  1.000000  0.098751   1538.0\n",
       "css            0.038195  1.000000  0.073580   1131.0\n",
       "objective-c    0.029989  1.000000  0.058231    888.0\n",
       "c              0.029888  1.000000  0.058040    885.0\n",
       "sql            0.029381  1.000000  0.057085    870.0\n",
       "iphone         0.027253  1.000000  0.053061    807.0\n",
       "asp.net        0.027186  1.000000  0.052933    805.0\n",
       "mysql          0.023133  1.000000  0.045220    685.0\n",
       "linux          0.022964  1.000000  0.044898    680.0\n",
       "node.js        0.023032  1.000000  0.045027    682.0\n",
       "git            0.009253  1.000000  0.018337    274.0\n",
       "micro avg      0.053140  1.000000  0.100917  33044.0\n",
       "macro avg      0.053140  1.000000  0.099176  33044.0\n",
       "weighted avg   0.072731  1.000000  0.133680  33044.0\n",
       "samples avg    0.053140  0.792678  0.098364  33044.0"
      ]
     },
     "execution_count": 18,
     "metadata": {},
     "output_type": "execute_result"
    }
   ],
   "source": [
    "save_score(\n",
    "    y_true=y_test, y_pred=y_test.replace([False], True), target_names=target_names\n",
    ")"
   ]
  },
  {
   "cell_type": "markdown",
   "id": "29764954",
   "metadata": {
    "papermill": {
     "duration": 0.016134,
     "end_time": "2023-01-02T15:44:02.193090",
     "exception": false,
     "start_time": "2023-01-02T15:44:02.176956",
     "status": "completed"
    },
    "tags": []
   },
   "source": [
    "### Methode naive le tag est dans la question:"
   ]
  },
  {
   "cell_type": "code",
   "execution_count": 19,
   "id": "3f6d62ef",
   "metadata": {
    "execution": {
     "iopub.execute_input": "2023-01-02T15:44:02.228937Z",
     "iopub.status.busy": "2023-01-02T15:44:02.228528Z",
     "iopub.status.idle": "2023-01-02T15:44:03.203257Z",
     "shell.execute_reply": "2023-01-02T15:44:03.201968Z"
    },
    "papermill": {
     "duration": 0.99515,
     "end_time": "2023-01-02T15:44:03.205902",
     "exception": false,
     "start_time": "2023-01-02T15:44:02.210752",
     "status": "completed"
    },
    "tags": []
   },
   "outputs": [
    {
     "data": {
      "text/html": [
       "<div>\n",
       "<style scoped>\n",
       "    .dataframe tbody tr th:only-of-type {\n",
       "        vertical-align: middle;\n",
       "    }\n",
       "\n",
       "    .dataframe tbody tr th {\n",
       "        vertical-align: top;\n",
       "    }\n",
       "\n",
       "    .dataframe thead th {\n",
       "        text-align: right;\n",
       "    }\n",
       "</style>\n",
       "<table border=\"1\" class=\"dataframe\">\n",
       "  <thead>\n",
       "    <tr style=\"text-align: right;\">\n",
       "      <th></th>\n",
       "      <th>0</th>\n",
       "      <th>1</th>\n",
       "      <th>2</th>\n",
       "      <th>3</th>\n",
       "      <th>4</th>\n",
       "      <th>5</th>\n",
       "      <th>6</th>\n",
       "      <th>7</th>\n",
       "      <th>8</th>\n",
       "      <th>9</th>\n",
       "      <th>...</th>\n",
       "      <th>29601</th>\n",
       "      <th>29602</th>\n",
       "      <th>29603</th>\n",
       "      <th>29604</th>\n",
       "      <th>29605</th>\n",
       "      <th>29606</th>\n",
       "      <th>29607</th>\n",
       "      <th>29608</th>\n",
       "      <th>29609</th>\n",
       "      <th>29610</th>\n",
       "    </tr>\n",
       "  </thead>\n",
       "  <tbody>\n",
       "    <tr>\n",
       "      <th>java</th>\n",
       "      <td>False</td>\n",
       "      <td>False</td>\n",
       "      <td>False</td>\n",
       "      <td>False</td>\n",
       "      <td>True</td>\n",
       "      <td>False</td>\n",
       "      <td>False</td>\n",
       "      <td>False</td>\n",
       "      <td>False</td>\n",
       "      <td>False</td>\n",
       "      <td>...</td>\n",
       "      <td>False</td>\n",
       "      <td>False</td>\n",
       "      <td>False</td>\n",
       "      <td>False</td>\n",
       "      <td>False</td>\n",
       "      <td>False</td>\n",
       "      <td>False</td>\n",
       "      <td>False</td>\n",
       "      <td>False</td>\n",
       "      <td>False</td>\n",
       "    </tr>\n",
       "    <tr>\n",
       "      <th>c#</th>\n",
       "      <td>False</td>\n",
       "      <td>False</td>\n",
       "      <td>False</td>\n",
       "      <td>False</td>\n",
       "      <td>False</td>\n",
       "      <td>False</td>\n",
       "      <td>False</td>\n",
       "      <td>False</td>\n",
       "      <td>False</td>\n",
       "      <td>False</td>\n",
       "      <td>...</td>\n",
       "      <td>False</td>\n",
       "      <td>False</td>\n",
       "      <td>False</td>\n",
       "      <td>False</td>\n",
       "      <td>False</td>\n",
       "      <td>False</td>\n",
       "      <td>False</td>\n",
       "      <td>False</td>\n",
       "      <td>False</td>\n",
       "      <td>False</td>\n",
       "    </tr>\n",
       "    <tr>\n",
       "      <th>javascript</th>\n",
       "      <td>False</td>\n",
       "      <td>False</td>\n",
       "      <td>False</td>\n",
       "      <td>True</td>\n",
       "      <td>False</td>\n",
       "      <td>False</td>\n",
       "      <td>False</td>\n",
       "      <td>False</td>\n",
       "      <td>False</td>\n",
       "      <td>False</td>\n",
       "      <td>...</td>\n",
       "      <td>False</td>\n",
       "      <td>False</td>\n",
       "      <td>False</td>\n",
       "      <td>False</td>\n",
       "      <td>False</td>\n",
       "      <td>False</td>\n",
       "      <td>False</td>\n",
       "      <td>False</td>\n",
       "      <td>False</td>\n",
       "      <td>False</td>\n",
       "    </tr>\n",
       "    <tr>\n",
       "      <th>python</th>\n",
       "      <td>True</td>\n",
       "      <td>False</td>\n",
       "      <td>False</td>\n",
       "      <td>False</td>\n",
       "      <td>False</td>\n",
       "      <td>False</td>\n",
       "      <td>False</td>\n",
       "      <td>False</td>\n",
       "      <td>False</td>\n",
       "      <td>False</td>\n",
       "      <td>...</td>\n",
       "      <td>False</td>\n",
       "      <td>False</td>\n",
       "      <td>True</td>\n",
       "      <td>False</td>\n",
       "      <td>False</td>\n",
       "      <td>False</td>\n",
       "      <td>False</td>\n",
       "      <td>False</td>\n",
       "      <td>False</td>\n",
       "      <td>False</td>\n",
       "    </tr>\n",
       "    <tr>\n",
       "      <th>android</th>\n",
       "      <td>False</td>\n",
       "      <td>False</td>\n",
       "      <td>False</td>\n",
       "      <td>False</td>\n",
       "      <td>False</td>\n",
       "      <td>False</td>\n",
       "      <td>False</td>\n",
       "      <td>False</td>\n",
       "      <td>False</td>\n",
       "      <td>False</td>\n",
       "      <td>...</td>\n",
       "      <td>False</td>\n",
       "      <td>False</td>\n",
       "      <td>False</td>\n",
       "      <td>False</td>\n",
       "      <td>False</td>\n",
       "      <td>False</td>\n",
       "      <td>False</td>\n",
       "      <td>False</td>\n",
       "      <td>False</td>\n",
       "      <td>False</td>\n",
       "    </tr>\n",
       "    <tr>\n",
       "      <th>c++</th>\n",
       "      <td>False</td>\n",
       "      <td>False</td>\n",
       "      <td>False</td>\n",
       "      <td>False</td>\n",
       "      <td>True</td>\n",
       "      <td>False</td>\n",
       "      <td>False</td>\n",
       "      <td>False</td>\n",
       "      <td>False</td>\n",
       "      <td>False</td>\n",
       "      <td>...</td>\n",
       "      <td>False</td>\n",
       "      <td>False</td>\n",
       "      <td>False</td>\n",
       "      <td>False</td>\n",
       "      <td>False</td>\n",
       "      <td>False</td>\n",
       "      <td>False</td>\n",
       "      <td>False</td>\n",
       "      <td>False</td>\n",
       "      <td>False</td>\n",
       "    </tr>\n",
       "    <tr>\n",
       "      <th>ios</th>\n",
       "      <td>False</td>\n",
       "      <td>False</td>\n",
       "      <td>False</td>\n",
       "      <td>False</td>\n",
       "      <td>False</td>\n",
       "      <td>False</td>\n",
       "      <td>False</td>\n",
       "      <td>False</td>\n",
       "      <td>False</td>\n",
       "      <td>False</td>\n",
       "      <td>...</td>\n",
       "      <td>False</td>\n",
       "      <td>False</td>\n",
       "      <td>False</td>\n",
       "      <td>True</td>\n",
       "      <td>False</td>\n",
       "      <td>False</td>\n",
       "      <td>False</td>\n",
       "      <td>False</td>\n",
       "      <td>False</td>\n",
       "      <td>False</td>\n",
       "    </tr>\n",
       "    <tr>\n",
       "      <th>html</th>\n",
       "      <td>False</td>\n",
       "      <td>False</td>\n",
       "      <td>False</td>\n",
       "      <td>False</td>\n",
       "      <td>False</td>\n",
       "      <td>False</td>\n",
       "      <td>False</td>\n",
       "      <td>False</td>\n",
       "      <td>False</td>\n",
       "      <td>False</td>\n",
       "      <td>...</td>\n",
       "      <td>False</td>\n",
       "      <td>False</td>\n",
       "      <td>False</td>\n",
       "      <td>False</td>\n",
       "      <td>False</td>\n",
       "      <td>False</td>\n",
       "      <td>False</td>\n",
       "      <td>False</td>\n",
       "      <td>False</td>\n",
       "      <td>False</td>\n",
       "    </tr>\n",
       "    <tr>\n",
       "      <th>php</th>\n",
       "      <td>False</td>\n",
       "      <td>False</td>\n",
       "      <td>False</td>\n",
       "      <td>True</td>\n",
       "      <td>False</td>\n",
       "      <td>False</td>\n",
       "      <td>False</td>\n",
       "      <td>False</td>\n",
       "      <td>False</td>\n",
       "      <td>False</td>\n",
       "      <td>...</td>\n",
       "      <td>False</td>\n",
       "      <td>False</td>\n",
       "      <td>False</td>\n",
       "      <td>False</td>\n",
       "      <td>False</td>\n",
       "      <td>False</td>\n",
       "      <td>False</td>\n",
       "      <td>False</td>\n",
       "      <td>False</td>\n",
       "      <td>False</td>\n",
       "    </tr>\n",
       "    <tr>\n",
       "      <th>.net</th>\n",
       "      <td>False</td>\n",
       "      <td>False</td>\n",
       "      <td>False</td>\n",
       "      <td>False</td>\n",
       "      <td>False</td>\n",
       "      <td>False</td>\n",
       "      <td>False</td>\n",
       "      <td>False</td>\n",
       "      <td>False</td>\n",
       "      <td>False</td>\n",
       "      <td>...</td>\n",
       "      <td>False</td>\n",
       "      <td>False</td>\n",
       "      <td>False</td>\n",
       "      <td>False</td>\n",
       "      <td>False</td>\n",
       "      <td>False</td>\n",
       "      <td>False</td>\n",
       "      <td>False</td>\n",
       "      <td>False</td>\n",
       "      <td>False</td>\n",
       "    </tr>\n",
       "    <tr>\n",
       "      <th>jquery</th>\n",
       "      <td>False</td>\n",
       "      <td>False</td>\n",
       "      <td>False</td>\n",
       "      <td>False</td>\n",
       "      <td>False</td>\n",
       "      <td>False</td>\n",
       "      <td>False</td>\n",
       "      <td>False</td>\n",
       "      <td>False</td>\n",
       "      <td>False</td>\n",
       "      <td>...</td>\n",
       "      <td>False</td>\n",
       "      <td>False</td>\n",
       "      <td>False</td>\n",
       "      <td>False</td>\n",
       "      <td>False</td>\n",
       "      <td>False</td>\n",
       "      <td>False</td>\n",
       "      <td>False</td>\n",
       "      <td>False</td>\n",
       "      <td>False</td>\n",
       "    </tr>\n",
       "    <tr>\n",
       "      <th>css</th>\n",
       "      <td>False</td>\n",
       "      <td>False</td>\n",
       "      <td>False</td>\n",
       "      <td>False</td>\n",
       "      <td>False</td>\n",
       "      <td>False</td>\n",
       "      <td>False</td>\n",
       "      <td>False</td>\n",
       "      <td>False</td>\n",
       "      <td>False</td>\n",
       "      <td>...</td>\n",
       "      <td>False</td>\n",
       "      <td>False</td>\n",
       "      <td>False</td>\n",
       "      <td>False</td>\n",
       "      <td>False</td>\n",
       "      <td>False</td>\n",
       "      <td>False</td>\n",
       "      <td>False</td>\n",
       "      <td>False</td>\n",
       "      <td>False</td>\n",
       "    </tr>\n",
       "    <tr>\n",
       "      <th>objective-c</th>\n",
       "      <td>False</td>\n",
       "      <td>False</td>\n",
       "      <td>False</td>\n",
       "      <td>False</td>\n",
       "      <td>False</td>\n",
       "      <td>False</td>\n",
       "      <td>False</td>\n",
       "      <td>False</td>\n",
       "      <td>False</td>\n",
       "      <td>False</td>\n",
       "      <td>...</td>\n",
       "      <td>False</td>\n",
       "      <td>False</td>\n",
       "      <td>False</td>\n",
       "      <td>False</td>\n",
       "      <td>False</td>\n",
       "      <td>False</td>\n",
       "      <td>False</td>\n",
       "      <td>False</td>\n",
       "      <td>False</td>\n",
       "      <td>False</td>\n",
       "    </tr>\n",
       "    <tr>\n",
       "      <th>c</th>\n",
       "      <td>False</td>\n",
       "      <td>False</td>\n",
       "      <td>False</td>\n",
       "      <td>False</td>\n",
       "      <td>True</td>\n",
       "      <td>False</td>\n",
       "      <td>False</td>\n",
       "      <td>False</td>\n",
       "      <td>False</td>\n",
       "      <td>False</td>\n",
       "      <td>...</td>\n",
       "      <td>False</td>\n",
       "      <td>False</td>\n",
       "      <td>False</td>\n",
       "      <td>False</td>\n",
       "      <td>False</td>\n",
       "      <td>False</td>\n",
       "      <td>False</td>\n",
       "      <td>True</td>\n",
       "      <td>False</td>\n",
       "      <td>False</td>\n",
       "    </tr>\n",
       "    <tr>\n",
       "      <th>sql</th>\n",
       "      <td>False</td>\n",
       "      <td>False</td>\n",
       "      <td>True</td>\n",
       "      <td>False</td>\n",
       "      <td>False</td>\n",
       "      <td>False</td>\n",
       "      <td>False</td>\n",
       "      <td>False</td>\n",
       "      <td>False</td>\n",
       "      <td>False</td>\n",
       "      <td>...</td>\n",
       "      <td>False</td>\n",
       "      <td>False</td>\n",
       "      <td>False</td>\n",
       "      <td>False</td>\n",
       "      <td>False</td>\n",
       "      <td>True</td>\n",
       "      <td>False</td>\n",
       "      <td>False</td>\n",
       "      <td>False</td>\n",
       "      <td>False</td>\n",
       "    </tr>\n",
       "    <tr>\n",
       "      <th>iphone</th>\n",
       "      <td>False</td>\n",
       "      <td>False</td>\n",
       "      <td>False</td>\n",
       "      <td>False</td>\n",
       "      <td>False</td>\n",
       "      <td>False</td>\n",
       "      <td>False</td>\n",
       "      <td>False</td>\n",
       "      <td>False</td>\n",
       "      <td>False</td>\n",
       "      <td>...</td>\n",
       "      <td>False</td>\n",
       "      <td>False</td>\n",
       "      <td>False</td>\n",
       "      <td>True</td>\n",
       "      <td>False</td>\n",
       "      <td>False</td>\n",
       "      <td>False</td>\n",
       "      <td>False</td>\n",
       "      <td>False</td>\n",
       "      <td>False</td>\n",
       "    </tr>\n",
       "    <tr>\n",
       "      <th>asp.net</th>\n",
       "      <td>False</td>\n",
       "      <td>False</td>\n",
       "      <td>False</td>\n",
       "      <td>False</td>\n",
       "      <td>False</td>\n",
       "      <td>False</td>\n",
       "      <td>False</td>\n",
       "      <td>False</td>\n",
       "      <td>False</td>\n",
       "      <td>False</td>\n",
       "      <td>...</td>\n",
       "      <td>False</td>\n",
       "      <td>False</td>\n",
       "      <td>False</td>\n",
       "      <td>False</td>\n",
       "      <td>False</td>\n",
       "      <td>False</td>\n",
       "      <td>False</td>\n",
       "      <td>False</td>\n",
       "      <td>False</td>\n",
       "      <td>False</td>\n",
       "    </tr>\n",
       "    <tr>\n",
       "      <th>mysql</th>\n",
       "      <td>False</td>\n",
       "      <td>False</td>\n",
       "      <td>True</td>\n",
       "      <td>False</td>\n",
       "      <td>False</td>\n",
       "      <td>False</td>\n",
       "      <td>False</td>\n",
       "      <td>False</td>\n",
       "      <td>False</td>\n",
       "      <td>False</td>\n",
       "      <td>...</td>\n",
       "      <td>False</td>\n",
       "      <td>False</td>\n",
       "      <td>False</td>\n",
       "      <td>False</td>\n",
       "      <td>False</td>\n",
       "      <td>False</td>\n",
       "      <td>False</td>\n",
       "      <td>False</td>\n",
       "      <td>False</td>\n",
       "      <td>False</td>\n",
       "    </tr>\n",
       "    <tr>\n",
       "      <th>linux</th>\n",
       "      <td>False</td>\n",
       "      <td>False</td>\n",
       "      <td>False</td>\n",
       "      <td>False</td>\n",
       "      <td>False</td>\n",
       "      <td>True</td>\n",
       "      <td>False</td>\n",
       "      <td>False</td>\n",
       "      <td>False</td>\n",
       "      <td>False</td>\n",
       "      <td>...</td>\n",
       "      <td>False</td>\n",
       "      <td>False</td>\n",
       "      <td>False</td>\n",
       "      <td>False</td>\n",
       "      <td>False</td>\n",
       "      <td>False</td>\n",
       "      <td>False</td>\n",
       "      <td>False</td>\n",
       "      <td>False</td>\n",
       "      <td>True</td>\n",
       "    </tr>\n",
       "    <tr>\n",
       "      <th>node.js</th>\n",
       "      <td>False</td>\n",
       "      <td>False</td>\n",
       "      <td>False</td>\n",
       "      <td>False</td>\n",
       "      <td>False</td>\n",
       "      <td>False</td>\n",
       "      <td>False</td>\n",
       "      <td>False</td>\n",
       "      <td>False</td>\n",
       "      <td>False</td>\n",
       "      <td>...</td>\n",
       "      <td>False</td>\n",
       "      <td>False</td>\n",
       "      <td>False</td>\n",
       "      <td>False</td>\n",
       "      <td>False</td>\n",
       "      <td>False</td>\n",
       "      <td>False</td>\n",
       "      <td>False</td>\n",
       "      <td>False</td>\n",
       "      <td>False</td>\n",
       "    </tr>\n",
       "    <tr>\n",
       "      <th>git</th>\n",
       "      <td>False</td>\n",
       "      <td>False</td>\n",
       "      <td>False</td>\n",
       "      <td>False</td>\n",
       "      <td>False</td>\n",
       "      <td>False</td>\n",
       "      <td>False</td>\n",
       "      <td>False</td>\n",
       "      <td>False</td>\n",
       "      <td>False</td>\n",
       "      <td>...</td>\n",
       "      <td>False</td>\n",
       "      <td>False</td>\n",
       "      <td>False</td>\n",
       "      <td>False</td>\n",
       "      <td>False</td>\n",
       "      <td>False</td>\n",
       "      <td>False</td>\n",
       "      <td>False</td>\n",
       "      <td>False</td>\n",
       "      <td>False</td>\n",
       "    </tr>\n",
       "  </tbody>\n",
       "</table>\n",
       "<p>21 rows × 29611 columns</p>\n",
       "</div>"
      ],
      "text/plain": [
       "             0      1      2      3      4      5      6      7      8      \\\n",
       "java         False  False  False  False   True  False  False  False  False   \n",
       "c#           False  False  False  False  False  False  False  False  False   \n",
       "javascript   False  False  False   True  False  False  False  False  False   \n",
       "python        True  False  False  False  False  False  False  False  False   \n",
       "android      False  False  False  False  False  False  False  False  False   \n",
       "c++          False  False  False  False   True  False  False  False  False   \n",
       "ios          False  False  False  False  False  False  False  False  False   \n",
       "html         False  False  False  False  False  False  False  False  False   \n",
       "php          False  False  False   True  False  False  False  False  False   \n",
       ".net         False  False  False  False  False  False  False  False  False   \n",
       "jquery       False  False  False  False  False  False  False  False  False   \n",
       "css          False  False  False  False  False  False  False  False  False   \n",
       "objective-c  False  False  False  False  False  False  False  False  False   \n",
       "c            False  False  False  False   True  False  False  False  False   \n",
       "sql          False  False   True  False  False  False  False  False  False   \n",
       "iphone       False  False  False  False  False  False  False  False  False   \n",
       "asp.net      False  False  False  False  False  False  False  False  False   \n",
       "mysql        False  False   True  False  False  False  False  False  False   \n",
       "linux        False  False  False  False  False   True  False  False  False   \n",
       "node.js      False  False  False  False  False  False  False  False  False   \n",
       "git          False  False  False  False  False  False  False  False  False   \n",
       "\n",
       "             9      ...  29601  29602  29603  29604  29605  29606  29607  \\\n",
       "java         False  ...  False  False  False  False  False  False  False   \n",
       "c#           False  ...  False  False  False  False  False  False  False   \n",
       "javascript   False  ...  False  False  False  False  False  False  False   \n",
       "python       False  ...  False  False   True  False  False  False  False   \n",
       "android      False  ...  False  False  False  False  False  False  False   \n",
       "c++          False  ...  False  False  False  False  False  False  False   \n",
       "ios          False  ...  False  False  False   True  False  False  False   \n",
       "html         False  ...  False  False  False  False  False  False  False   \n",
       "php          False  ...  False  False  False  False  False  False  False   \n",
       ".net         False  ...  False  False  False  False  False  False  False   \n",
       "jquery       False  ...  False  False  False  False  False  False  False   \n",
       "css          False  ...  False  False  False  False  False  False  False   \n",
       "objective-c  False  ...  False  False  False  False  False  False  False   \n",
       "c            False  ...  False  False  False  False  False  False  False   \n",
       "sql          False  ...  False  False  False  False  False   True  False   \n",
       "iphone       False  ...  False  False  False   True  False  False  False   \n",
       "asp.net      False  ...  False  False  False  False  False  False  False   \n",
       "mysql        False  ...  False  False  False  False  False  False  False   \n",
       "linux        False  ...  False  False  False  False  False  False  False   \n",
       "node.js      False  ...  False  False  False  False  False  False  False   \n",
       "git          False  ...  False  False  False  False  False  False  False   \n",
       "\n",
       "             29608  29609  29610  \n",
       "java         False  False  False  \n",
       "c#           False  False  False  \n",
       "javascript   False  False  False  \n",
       "python       False  False  False  \n",
       "android      False  False  False  \n",
       "c++          False  False  False  \n",
       "ios          False  False  False  \n",
       "html         False  False  False  \n",
       "php          False  False  False  \n",
       ".net         False  False  False  \n",
       "jquery       False  False  False  \n",
       "css          False  False  False  \n",
       "objective-c  False  False  False  \n",
       "c             True  False  False  \n",
       "sql          False  False  False  \n",
       "iphone       False  False  False  \n",
       "asp.net      False  False  False  \n",
       "mysql        False  False  False  \n",
       "linux        False  False   True  \n",
       "node.js      False  False  False  \n",
       "git          False  False  False  \n",
       "\n",
       "[21 rows x 29611 columns]"
      ]
     },
     "execution_count": 19,
     "metadata": {},
     "output_type": "execute_result"
    }
   ],
   "source": [
    "test_str = X_test.str\n",
    "pred_is_in = pd.DataFrame(\n",
    "    {\n",
    "        target_name: test_str.contains(\n",
    "            f\" {target_name} \", case=False, regex=False\n",
    "        ).values\n",
    "        for target_name in target_names\n",
    "    }\n",
    ")\n",
    "pred_is_in.T"
   ]
  },
  {
   "cell_type": "code",
   "execution_count": 20,
   "id": "7509723e",
   "metadata": {
    "execution": {
     "iopub.execute_input": "2023-01-02T15:44:03.243414Z",
     "iopub.status.busy": "2023-01-02T15:44:03.243008Z",
     "iopub.status.idle": "2023-01-02T15:44:03.336547Z",
     "shell.execute_reply": "2023-01-02T15:44:03.335315Z"
    },
    "papermill": {
     "duration": 0.11557,
     "end_time": "2023-01-02T15:44:03.339059",
     "exception": false,
     "start_time": "2023-01-02T15:44:03.223489",
     "status": "completed"
    },
    "tags": []
   },
   "outputs": [
    {
     "data": {
      "text/html": [
       "<div>\n",
       "<style scoped>\n",
       "    .dataframe tbody tr th:only-of-type {\n",
       "        vertical-align: middle;\n",
       "    }\n",
       "\n",
       "    .dataframe tbody tr th {\n",
       "        vertical-align: top;\n",
       "    }\n",
       "\n",
       "    .dataframe thead th {\n",
       "        text-align: right;\n",
       "    }\n",
       "</style>\n",
       "<table border=\"1\" class=\"dataframe\">\n",
       "  <thead>\n",
       "    <tr style=\"text-align: right;\">\n",
       "      <th></th>\n",
       "      <th>precision</th>\n",
       "      <th>recall</th>\n",
       "      <th>f1-score</th>\n",
       "      <th>support</th>\n",
       "    </tr>\n",
       "  </thead>\n",
       "  <tbody>\n",
       "    <tr>\n",
       "      <th>git</th>\n",
       "      <td>0.716846</td>\n",
       "      <td>0.729927</td>\n",
       "      <td>0.723327</td>\n",
       "      <td>274.0</td>\n",
       "    </tr>\n",
       "    <tr>\n",
       "      <th>mysql</th>\n",
       "      <td>0.723949</td>\n",
       "      <td>0.578102</td>\n",
       "      <td>0.642857</td>\n",
       "      <td>685.0</td>\n",
       "    </tr>\n",
       "    <tr>\n",
       "      <th>python</th>\n",
       "      <td>0.878273</td>\n",
       "      <td>0.475115</td>\n",
       "      <td>0.616646</td>\n",
       "      <td>2612.0</td>\n",
       "    </tr>\n",
       "    <tr>\n",
       "      <th>php</th>\n",
       "      <td>0.827292</td>\n",
       "      <td>0.476951</td>\n",
       "      <td>0.605068</td>\n",
       "      <td>1627.0</td>\n",
       "    </tr>\n",
       "    <tr>\n",
       "      <th>android</th>\n",
       "      <td>0.851163</td>\n",
       "      <td>0.447433</td>\n",
       "      <td>0.586538</td>\n",
       "      <td>2045.0</td>\n",
       "    </tr>\n",
       "    <tr>\n",
       "      <th>jquery</th>\n",
       "      <td>0.796804</td>\n",
       "      <td>0.453836</td>\n",
       "      <td>0.578293</td>\n",
       "      <td>1538.0</td>\n",
       "    </tr>\n",
       "    <tr>\n",
       "      <th>css</th>\n",
       "      <td>0.714670</td>\n",
       "      <td>0.469496</td>\n",
       "      <td>0.566702</td>\n",
       "      <td>1131.0</td>\n",
       "    </tr>\n",
       "    <tr>\n",
       "      <th>c++</th>\n",
       "      <td>0.805702</td>\n",
       "      <td>0.388493</td>\n",
       "      <td>0.524218</td>\n",
       "      <td>1964.0</td>\n",
       "    </tr>\n",
       "    <tr>\n",
       "      <th>java</th>\n",
       "      <td>0.766089</td>\n",
       "      <td>0.347948</td>\n",
       "      <td>0.478547</td>\n",
       "      <td>3558.0</td>\n",
       "    </tr>\n",
       "    <tr>\n",
       "      <th>linux</th>\n",
       "      <td>0.458265</td>\n",
       "      <td>0.411765</td>\n",
       "      <td>0.433772</td>\n",
       "      <td>680.0</td>\n",
       "    </tr>\n",
       "    <tr>\n",
       "      <th>micro avg</th>\n",
       "      <td>0.642411</td>\n",
       "      <td>0.326746</td>\n",
       "      <td>0.433171</td>\n",
       "      <td>33044.0</td>\n",
       "    </tr>\n",
       "    <tr>\n",
       "      <th>macro avg</th>\n",
       "      <td>0.604087</td>\n",
       "      <td>0.360648</td>\n",
       "      <td>0.429556</td>\n",
       "      <td>33044.0</td>\n",
       "    </tr>\n",
       "    <tr>\n",
       "      <th>sql</th>\n",
       "      <td>0.412766</td>\n",
       "      <td>0.445977</td>\n",
       "      <td>0.428729</td>\n",
       "      <td>870.0</td>\n",
       "    </tr>\n",
       "    <tr>\n",
       "      <th>html</th>\n",
       "      <td>0.481022</td>\n",
       "      <td>0.375499</td>\n",
       "      <td>0.421760</td>\n",
       "      <td>1755.0</td>\n",
       "    </tr>\n",
       "    <tr>\n",
       "      <th>weighted avg</th>\n",
       "      <td>0.618122</td>\n",
       "      <td>0.326746</td>\n",
       "      <td>0.413810</td>\n",
       "      <td>33044.0</td>\n",
       "    </tr>\n",
       "    <tr>\n",
       "      <th>asp.net</th>\n",
       "      <td>0.524096</td>\n",
       "      <td>0.324224</td>\n",
       "      <td>0.400614</td>\n",
       "      <td>805.0</td>\n",
       "    </tr>\n",
       "    <tr>\n",
       "      <th>iphone</th>\n",
       "      <td>0.578947</td>\n",
       "      <td>0.299876</td>\n",
       "      <td>0.395102</td>\n",
       "      <td>807.0</td>\n",
       "    </tr>\n",
       "    <tr>\n",
       "      <th>javascript</th>\n",
       "      <td>0.766812</td>\n",
       "      <td>0.261621</td>\n",
       "      <td>0.390136</td>\n",
       "      <td>3356.0</td>\n",
       "    </tr>\n",
       "    <tr>\n",
       "      <th>ios</th>\n",
       "      <td>0.768456</td>\n",
       "      <td>0.248913</td>\n",
       "      <td>0.376026</td>\n",
       "      <td>1840.0</td>\n",
       "    </tr>\n",
       "    <tr>\n",
       "      <th>.net</th>\n",
       "      <td>0.536657</td>\n",
       "      <td>0.233270</td>\n",
       "      <td>0.325189</td>\n",
       "      <td>1569.0</td>\n",
       "    </tr>\n",
       "    <tr>\n",
       "      <th>c</th>\n",
       "      <td>0.205295</td>\n",
       "      <td>0.464407</td>\n",
       "      <td>0.284725</td>\n",
       "      <td>885.0</td>\n",
       "    </tr>\n",
       "    <tr>\n",
       "      <th>samples avg</th>\n",
       "      <td>0.283512</td>\n",
       "      <td>0.263238</td>\n",
       "      <td>0.262590</td>\n",
       "      <td>33044.0</td>\n",
       "    </tr>\n",
       "    <tr>\n",
       "      <th>node.js</th>\n",
       "      <td>0.872727</td>\n",
       "      <td>0.140762</td>\n",
       "      <td>0.242424</td>\n",
       "      <td>682.0</td>\n",
       "    </tr>\n",
       "    <tr>\n",
       "      <th>c#</th>\n",
       "      <td>0.000000</td>\n",
       "      <td>0.000000</td>\n",
       "      <td>0.000000</td>\n",
       "      <td>3473.0</td>\n",
       "    </tr>\n",
       "    <tr>\n",
       "      <th>objective-c</th>\n",
       "      <td>0.000000</td>\n",
       "      <td>0.000000</td>\n",
       "      <td>0.000000</td>\n",
       "      <td>888.0</td>\n",
       "    </tr>\n",
       "  </tbody>\n",
       "</table>\n",
       "</div>"
      ],
      "text/plain": [
       "              precision    recall  f1-score  support\n",
       "git            0.716846  0.729927  0.723327    274.0\n",
       "mysql          0.723949  0.578102  0.642857    685.0\n",
       "python         0.878273  0.475115  0.616646   2612.0\n",
       "php            0.827292  0.476951  0.605068   1627.0\n",
       "android        0.851163  0.447433  0.586538   2045.0\n",
       "jquery         0.796804  0.453836  0.578293   1538.0\n",
       "css            0.714670  0.469496  0.566702   1131.0\n",
       "c++            0.805702  0.388493  0.524218   1964.0\n",
       "java           0.766089  0.347948  0.478547   3558.0\n",
       "linux          0.458265  0.411765  0.433772    680.0\n",
       "micro avg      0.642411  0.326746  0.433171  33044.0\n",
       "macro avg      0.604087  0.360648  0.429556  33044.0\n",
       "sql            0.412766  0.445977  0.428729    870.0\n",
       "html           0.481022  0.375499  0.421760   1755.0\n",
       "weighted avg   0.618122  0.326746  0.413810  33044.0\n",
       "asp.net        0.524096  0.324224  0.400614    805.0\n",
       "iphone         0.578947  0.299876  0.395102    807.0\n",
       "javascript     0.766812  0.261621  0.390136   3356.0\n",
       "ios            0.768456  0.248913  0.376026   1840.0\n",
       ".net           0.536657  0.233270  0.325189   1569.0\n",
       "c              0.205295  0.464407  0.284725    885.0\n",
       "samples avg    0.283512  0.263238  0.262590  33044.0\n",
       "node.js        0.872727  0.140762  0.242424    682.0\n",
       "c#             0.000000  0.000000  0.000000   3473.0\n",
       "objective-c    0.000000  0.000000  0.000000    888.0"
      ]
     },
     "execution_count": 20,
     "metadata": {},
     "output_type": "execute_result"
    }
   ],
   "source": [
    "score_naive_is_in = save_score(y_test, pred_is_in, target_names, \"naive_is_in\")\n",
    "score_naive_is_in.sort_values(by=\"f1-score\", ascending=False)"
   ]
  },
  {
   "cell_type": "code",
   "execution_count": 21,
   "id": "9028b7ec",
   "metadata": {
    "execution": {
     "iopub.execute_input": "2023-01-02T15:44:03.376423Z",
     "iopub.status.busy": "2023-01-02T15:44:03.376031Z",
     "iopub.status.idle": "2023-01-02T15:44:03.450622Z",
     "shell.execute_reply": "2023-01-02T15:44:03.449223Z"
    },
    "papermill": {
     "duration": 0.097775,
     "end_time": "2023-01-02T15:44:03.454638",
     "exception": false,
     "start_time": "2023-01-02T15:44:03.356863",
     "status": "completed"
    },
    "tags": []
   },
   "outputs": [
    {
     "name": "stdout",
     "output_type": "stream",
     "text": [
      "\u001b[1mjava\u001b[0m\n",
      "\t Sur entrainement \u001b[92m12.05%\u001b[0m positif \u001b[91m87.95%\u001b[0m negatif\n",
      "\t Sur test \u001b[92m12.02%\u001b[0m positif \u001b[91m87.98%\u001b[0m negatif\n",
      "\n",
      "\n",
      "\u001b[1mc#\u001b[0m\n",
      "\t Sur entrainement \u001b[92m11.80%\u001b[0m positif \u001b[91m88.20%\u001b[0m negatif\n",
      "\t Sur test \u001b[92m11.73%\u001b[0m positif \u001b[91m88.27%\u001b[0m negatif\n",
      "\n",
      "\n",
      "\u001b[1mjavascript\u001b[0m\n",
      "\t Sur entrainement \u001b[92m11.77%\u001b[0m positif \u001b[91m88.23%\u001b[0m negatif\n",
      "\t Sur test \u001b[92m11.33%\u001b[0m positif \u001b[91m88.67%\u001b[0m negatif\n",
      "\n",
      "\n",
      "\u001b[1mpython\u001b[0m\n",
      "\t Sur entrainement \u001b[92m8.61%\u001b[0m positif \u001b[91m91.39%\u001b[0m negatif\n",
      "\t Sur test \u001b[92m8.82%\u001b[0m positif \u001b[91m91.18%\u001b[0m negatif\n",
      "\n",
      "\n",
      "\u001b[1mandroid\u001b[0m\n",
      "\t Sur entrainement \u001b[92m7.00%\u001b[0m positif \u001b[91m93.00%\u001b[0m negatif\n",
      "\t Sur test \u001b[92m6.91%\u001b[0m positif \u001b[91m93.09%\u001b[0m negatif\n",
      "\n",
      "\n",
      "\u001b[1mc++\u001b[0m\n",
      "\t Sur entrainement \u001b[92m6.63%\u001b[0m positif \u001b[91m93.37%\u001b[0m negatif\n",
      "\t Sur test \u001b[92m6.63%\u001b[0m positif \u001b[91m93.37%\u001b[0m negatif\n",
      "\n",
      "\n",
      "\u001b[1mios\u001b[0m\n",
      "\t Sur entrainement \u001b[92m6.25%\u001b[0m positif \u001b[91m93.75%\u001b[0m negatif\n",
      "\t Sur test \u001b[92m6.21%\u001b[0m positif \u001b[91m93.79%\u001b[0m negatif\n",
      "\n",
      "\n",
      "\u001b[1mhtml\u001b[0m\n",
      "\t Sur entrainement \u001b[92m5.85%\u001b[0m positif \u001b[91m94.15%\u001b[0m negatif\n",
      "\t Sur test \u001b[92m5.93%\u001b[0m positif \u001b[91m94.07%\u001b[0m negatif\n",
      "\n",
      "\n",
      "\u001b[1mphp\u001b[0m\n",
      "\t Sur entrainement \u001b[92m5.56%\u001b[0m positif \u001b[91m94.44%\u001b[0m negatif\n",
      "\t Sur test \u001b[92m5.49%\u001b[0m positif \u001b[91m94.51%\u001b[0m negatif\n",
      "\n",
      "\n",
      "\u001b[1m.net\u001b[0m\n",
      "\t Sur entrainement \u001b[92m5.34%\u001b[0m positif \u001b[91m94.66%\u001b[0m negatif\n",
      "\t Sur test \u001b[92m5.30%\u001b[0m positif \u001b[91m94.70%\u001b[0m negatif\n",
      "\n",
      "\n",
      "\u001b[1mjquery\u001b[0m\n",
      "\t Sur entrainement \u001b[92m5.36%\u001b[0m positif \u001b[91m94.64%\u001b[0m negatif\n",
      "\t Sur test \u001b[92m5.19%\u001b[0m positif \u001b[91m94.81%\u001b[0m negatif\n",
      "\n",
      "\n",
      "\u001b[1mcss\u001b[0m\n",
      "\t Sur entrainement \u001b[92m3.77%\u001b[0m positif \u001b[91m96.23%\u001b[0m negatif\n",
      "\t Sur test \u001b[92m3.82%\u001b[0m positif \u001b[91m96.18%\u001b[0m negatif\n",
      "\n",
      "\n",
      "\u001b[1mobjective-c\u001b[0m\n",
      "\t Sur entrainement \u001b[92m3.08%\u001b[0m positif \u001b[91m96.92%\u001b[0m negatif\n",
      "\t Sur test \u001b[92m3.00%\u001b[0m positif \u001b[91m97.00%\u001b[0m negatif\n",
      "\n",
      "\n",
      "\u001b[1mc\u001b[0m\n",
      "\t Sur entrainement \u001b[92m3.08%\u001b[0m positif \u001b[91m96.92%\u001b[0m negatif\n",
      "\t Sur test \u001b[92m2.99%\u001b[0m positif \u001b[91m97.01%\u001b[0m negatif\n",
      "\n",
      "\n",
      "\u001b[1msql\u001b[0m\n",
      "\t Sur entrainement \u001b[92m3.00%\u001b[0m positif \u001b[91m97.00%\u001b[0m negatif\n",
      "\t Sur test \u001b[92m2.94%\u001b[0m positif \u001b[91m97.06%\u001b[0m negatif\n",
      "\n",
      "\n",
      "\u001b[1miphone\u001b[0m\n",
      "\t Sur entrainement \u001b[92m2.79%\u001b[0m positif \u001b[91m97.21%\u001b[0m negatif\n",
      "\t Sur test \u001b[92m2.73%\u001b[0m positif \u001b[91m97.27%\u001b[0m negatif\n",
      "\n",
      "\n",
      "\u001b[1masp.net\u001b[0m\n",
      "\t Sur entrainement \u001b[92m2.73%\u001b[0m positif \u001b[91m97.27%\u001b[0m negatif\n",
      "\t Sur test \u001b[92m2.72%\u001b[0m positif \u001b[91m97.28%\u001b[0m negatif\n",
      "\n",
      "\n",
      "\u001b[1mmysql\u001b[0m\n",
      "\t Sur entrainement \u001b[92m2.37%\u001b[0m positif \u001b[91m97.63%\u001b[0m negatif\n",
      "\t Sur test \u001b[92m2.31%\u001b[0m positif \u001b[91m97.69%\u001b[0m negatif\n",
      "\n",
      "\n",
      "\u001b[1mlinux\u001b[0m\n",
      "\t Sur entrainement \u001b[92m2.34%\u001b[0m positif \u001b[91m97.66%\u001b[0m negatif\n",
      "\t Sur test \u001b[92m2.30%\u001b[0m positif \u001b[91m97.70%\u001b[0m negatif\n",
      "\n",
      "\n",
      "\u001b[1mnode.js\u001b[0m\n",
      "\t Sur entrainement \u001b[92m2.29%\u001b[0m positif \u001b[91m97.71%\u001b[0m negatif\n",
      "\t Sur test \u001b[92m2.30%\u001b[0m positif \u001b[91m97.70%\u001b[0m negatif\n",
      "\n",
      "\n",
      "\u001b[1mgit\u001b[0m\n",
      "\t Sur entrainement \u001b[92m0.95%\u001b[0m positif \u001b[91m99.05%\u001b[0m negatif\n",
      "\t Sur test \u001b[92m0.93%\u001b[0m positif \u001b[91m99.07%\u001b[0m negatif\n",
      "\n",
      "\n"
     ]
    }
   ],
   "source": [
    "for column in y_train.columns:\n",
    "    t_train = y_train[column].value_counts(normalize=True)\n",
    "    t_test = y_test[column].value_counts(normalize=True)\n",
    "    print(f\"{colors.BOLD}{column}{colors.ENDC}\")\n",
    "    print(\n",
    "        f\"\\t Sur entrainement {colors.GREEN}{t_train[True]:.2%}{colors.ENDC} positif {colors.RED}{t_train[False]:.2%}{colors.ENDC} negatif\"\n",
    "    )\n",
    "    print(\n",
    "        f\"\\t Sur test {colors.GREEN}{t_test[True]:.2%}{colors.ENDC} positif {colors.RED}{t_test[False]:.2%}{colors.ENDC} negatif\"\n",
    "    )\n",
    "    print(\"\\n\")"
   ]
  },
  {
   "cell_type": "markdown",
   "id": "f807f1cb",
   "metadata": {
    "papermill": {
     "duration": 0.01756,
     "end_time": "2023-01-02T15:44:03.491417",
     "exception": false,
     "start_time": "2023-01-02T15:44:03.473857",
     "status": "completed"
    },
    "tags": []
   },
   "source": [
    "# CountVectorizer"
   ]
  },
  {
   "cell_type": "code",
   "execution_count": 22,
   "id": "c1b244e9",
   "metadata": {
    "execution": {
     "iopub.execute_input": "2023-01-02T15:44:03.529376Z",
     "iopub.status.busy": "2023-01-02T15:44:03.528935Z",
     "iopub.status.idle": "2023-01-02T15:44:08.560288Z",
     "shell.execute_reply": "2023-01-02T15:44:08.559046Z"
    },
    "papermill": {
     "duration": 5.053456,
     "end_time": "2023-01-02T15:44:08.562944",
     "exception": false,
     "start_time": "2023-01-02T15:44:03.509488",
     "status": "completed"
    },
    "tags": []
   },
   "outputs": [
    {
     "name": "stdout",
     "output_type": "stream",
     "text": [
      "\n",
      "******************************\n",
      " pour min_df:1e-05; max_df:0.995\n",
      "\ttokens unique:\n",
      "\t\t53999 dans title et body regroupé\n"
     ]
    }
   ],
   "source": [
    "best_min_df = description[\"CountVectorizer\"][\"min_df\"]\n",
    "best_max_df = description[\"CountVectorizer\"][\"max_df\"]\n",
    "for min_df in [0.01, 0.05, 0.005, 0.0005, 0.00001] if LONG else [best_min_df]:\n",
    "    for max_df in [0.95, 0.995, 0.9995] if LONG else [best_max_df]:\n",
    "        print(f\"\\n{'*'*30}\\n pour min_df:{min_df}; max_df:{max_df}\")\n",
    "        count_vectorizer = feature_extraction.text.CountVectorizer(\n",
    "            min_df=min_df, max_df=max_df, max_features=None\n",
    "        )\n",
    "        #         pipe = pipeline.make_pipeline(feature_extraction.text.CountVectorizer(min_df=min_df, max_df=max_df, max_features=None), feature_extraction.text.TfidfTransformer( norm=\"l2\", use_idf=True, smooth_idf=True, sublinear_tf=False))\n",
    "        #         feat_train = pipe.transform(X_train[\"Token\"])\n",
    "        #         print(feat_train.shape)\n",
    "\n",
    "        token_vectors = count_vectorizer.fit_transform(df[\"Token\"])\n",
    "        print(\n",
    "            f\"\\ttokens unique:\\n\\t\\t{token_vectors.shape[1]} dans title et body regroupé\"\n",
    "        )"
   ]
  },
  {
   "cell_type": "markdown",
   "id": "c126e911",
   "metadata": {
    "papermill": {
     "duration": 0.018041,
     "end_time": "2023-01-02T15:44:08.601384",
     "exception": false,
     "start_time": "2023-01-02T15:44:08.583343",
     "status": "completed"
    },
    "tags": []
   },
   "source": [
    "### Test reduction dimension\n",
    "avec n_components=1_000 : 10% de la variance éxpliqué\n"
   ]
  },
  {
   "cell_type": "code",
   "execution_count": 23,
   "id": "09eb64ae",
   "metadata": {
    "execution": {
     "iopub.execute_input": "2023-01-02T15:44:08.639920Z",
     "iopub.status.busy": "2023-01-02T15:44:08.639472Z",
     "iopub.status.idle": "2023-01-02T15:44:08.685474Z",
     "shell.execute_reply": "2023-01-02T15:44:08.683908Z"
    },
    "papermill": {
     "duration": 0.069236,
     "end_time": "2023-01-02T15:44:08.688936",
     "exception": false,
     "start_time": "2023-01-02T15:44:08.619700",
     "status": "completed"
    },
    "tags": []
   },
   "outputs": [
    {
     "name": "stdout",
     "output_type": "stream",
     "text": [
      "CPU times: user 4 µs, sys: 0 ns, total: 4 µs\n",
      "Wall time: 7.87 µs\n"
     ]
    }
   ],
   "source": [
    "%%time\n",
    "if LONG:\n",
    "    truncSvd = decomposition.TruncatedSVD(n_components=1000).fit(\n",
    "        preprocessing.StandardScaler(with_mean=False).fit_transform(token_vectors)\n",
    "    )\n",
    "    plt.figure(figsize=(30, 15))\n",
    "    scree = truncSvd.explained_variance_ratio_ * 100\n",
    "    plt.bar(np.arange(len(scree)) + 1, scree)\n",
    "    plt.plot(np.arange(len(scree)) + 1, scree.cumsum(), c=\"red\", marker=\"o\")\n",
    "    plt.xlabel(\"rang de l'axe d'inertie\")\n",
    "    plt.ylabel(\"pourcentage variance expliquée\")\n",
    "    plt.title(\"Eboulis des valeurs propres\")\n",
    "    plt.show()"
   ]
  },
  {
   "cell_type": "markdown",
   "id": "e54a43f3",
   "metadata": {
    "papermill": {
     "duration": 0.017668,
     "end_time": "2023-01-02T15:44:08.725128",
     "exception": false,
     "start_time": "2023-01-02T15:44:08.707460",
     "status": "completed"
    },
    "tags": []
   },
   "source": [
    "# PreprocessPipeline"
   ]
  },
  {
   "cell_type": "code",
   "execution_count": 24,
   "id": "54f883b7",
   "metadata": {
    "execution": {
     "iopub.execute_input": "2023-01-02T15:44:08.764428Z",
     "iopub.status.busy": "2023-01-02T15:44:08.764037Z",
     "iopub.status.idle": "2023-01-02T15:44:08.825845Z",
     "shell.execute_reply": "2023-01-02T15:44:08.824530Z"
    },
    "papermill": {
     "duration": 0.085385,
     "end_time": "2023-01-02T15:44:08.828617",
     "exception": false,
     "start_time": "2023-01-02T15:44:08.743232",
     "status": "completed"
    },
    "tags": []
   },
   "outputs": [],
   "source": [
    "pipeline_tfidf = pipeline.Pipeline(\n",
    "    [\n",
    "        (\n",
    "            \"count\",\n",
    "            feature_extraction.text.CountVectorizer(\n",
    "                min_df=best_min_df, max_df=best_max_df, max_features=None\n",
    "            ),\n",
    "        ),\n",
    "        (\n",
    "            \"tfidf\",\n",
    "            feature_extraction.text.TfidfTransformer(\n",
    "                norm=\"l2\", use_idf=True, smooth_idf=True, sublinear_tf=False\n",
    "            ),\n",
    "        ),\n",
    "        (\n",
    "            \"scale\",\n",
    "            preprocessing.StandardScaler(with_mean=False)\n",
    "            if description[\"StandardScaler\"][\"actif\"]\n",
    "            else \"passthrough\",\n",
    "        ),\n",
    "        (\n",
    "            \"dimReduction\",\n",
    "            decomposition.TruncatedSVD(\n",
    "                n_components=description[\"TruncatedSVD\"][\"n_components\"]\n",
    "            )\n",
    "            if description[\"TruncatedSVD\"][\"actif\"]\n",
    "            else \"passthrough\",\n",
    "        ),\n",
    "    ]\n",
    ")\n",
    "## @TODO cache\n",
    "# memory = joblib.Memory(location=\"/kaggle/working/cache_dir\", verbose=0)\n",
    "# pipeline_tfidf = memory.cache(pipeline_tfidf)"
   ]
  },
  {
   "cell_type": "markdown",
   "id": "8c23acf7",
   "metadata": {
    "papermill": {
     "duration": 0.018011,
     "end_time": "2023-01-02T15:44:08.864879",
     "exception": false,
     "start_time": "2023-01-02T15:44:08.846868",
     "status": "completed"
    },
    "tags": []
   },
   "source": [
    "# OvsRest"
   ]
  },
  {
   "cell_type": "markdown",
   "id": "e92a75a9",
   "metadata": {
    "papermill": {
     "duration": 0.018213,
     "end_time": "2023-01-02T15:44:08.901195",
     "exception": false,
     "start_time": "2023-01-02T15:44:08.882982",
     "status": "completed"
    },
    "tags": []
   },
   "source": [
    "## LogisticRegression"
   ]
  },
  {
   "cell_type": "code",
   "execution_count": 25,
   "id": "7a6e1d59",
   "metadata": {
    "execution": {
     "iopub.execute_input": "2023-01-02T15:44:08.939673Z",
     "iopub.status.busy": "2023-01-02T15:44:08.939256Z",
     "iopub.status.idle": "2023-01-02T15:44:08.987057Z",
     "shell.execute_reply": "2023-01-02T15:44:08.985565Z"
    },
    "papermill": {
     "duration": 0.070429,
     "end_time": "2023-01-02T15:44:08.989740",
     "exception": false,
     "start_time": "2023-01-02T15:44:08.919311",
     "status": "completed"
    },
    "tags": []
   },
   "outputs": [
    {
     "name": "stdout",
     "output_type": "stream",
     "text": [
      "CPU times: user 5 µs, sys: 0 ns, total: 5 µs\n",
      "Wall time: 9.06 µs\n"
     ]
    }
   ],
   "source": [
    "%%time\n",
    "if description[\"LogisticRegression\"][\"actif\"]:\n",
    "    pipeline_logisticReg = pipeline.Pipeline(\n",
    "        [\n",
    "            (\"tfidf\", pipeline_tfidf),\n",
    "            (\n",
    "                \"OvRLogisticReg\",\n",
    "                multiclass.OneVsRestClassifier(\n",
    "                    linear_model.LogisticRegression(random_state=42)\n",
    "                ),\n",
    "            ),\n",
    "        ]\n",
    "    )\n",
    "    with ignore_warnings(category=exceptions.ConvergenceWarning):\n",
    "        pipeline_logisticReg.fit(X_train, y_train)\n",
    "\n",
    "    # prediction sur jeu de test\n",
    "    pred_lr = pipeline_logisticReg.predict(X_test)\n",
    "    scores_lr = save_score(y_test, pred_lr, target_names, \"LogisticRegression\")\n",
    "\n",
    "    # enregistrement model et score\n",
    "    joblib.dump(pipeline_logisticReg, \"LogisticRegression_model.joblib\")\n",
    "    scores_lr.sort_values(by=\"support\", ascending=False)"
   ]
  },
  {
   "cell_type": "code",
   "execution_count": 26,
   "id": "fcb7aad8",
   "metadata": {
    "execution": {
     "iopub.execute_input": "2023-01-02T15:44:09.028645Z",
     "iopub.status.busy": "2023-01-02T15:44:09.027974Z",
     "iopub.status.idle": "2023-01-02T15:44:09.042144Z",
     "shell.execute_reply": "2023-01-02T15:44:09.040988Z"
    },
    "papermill": {
     "duration": 0.036214,
     "end_time": "2023-01-02T15:44:09.044616",
     "exception": false,
     "start_time": "2023-01-02T15:44:09.008402",
     "status": "completed"
    },
    "tags": []
   },
   "outputs": [],
   "source": [
    "if description[\"LogisticRegression\"][\"actif\"]:\n",
    "    print(scores_lr.sort_values(by=\"precision\", ascending=False))"
   ]
  },
  {
   "cell_type": "code",
   "execution_count": 27,
   "id": "492e50da",
   "metadata": {
    "execution": {
     "iopub.execute_input": "2023-01-02T15:44:09.083490Z",
     "iopub.status.busy": "2023-01-02T15:44:09.082782Z",
     "iopub.status.idle": "2023-01-02T15:44:09.096210Z",
     "shell.execute_reply": "2023-01-02T15:44:09.095224Z"
    },
    "papermill": {
     "duration": 0.035615,
     "end_time": "2023-01-02T15:44:09.098711",
     "exception": false,
     "start_time": "2023-01-02T15:44:09.063096",
     "status": "completed"
    },
    "tags": []
   },
   "outputs": [],
   "source": [
    "if description[\"LogisticRegression\"][\"actif\"]:\n",
    "    print(scores_lr.sort_values(by=\"recall\", ascending=False))"
   ]
  },
  {
   "cell_type": "markdown",
   "id": "0aebc9bd",
   "metadata": {
    "papermill": {
     "duration": 0.017686,
     "end_time": "2023-01-02T15:44:09.134822",
     "exception": false,
     "start_time": "2023-01-02T15:44:09.117136",
     "status": "completed"
    },
    "tags": []
   },
   "source": [
    "## SVC"
   ]
  },
  {
   "cell_type": "code",
   "execution_count": 28,
   "id": "c98b2127",
   "metadata": {
    "execution": {
     "iopub.execute_input": "2023-01-02T15:44:09.172803Z",
     "iopub.status.busy": "2023-01-02T15:44:09.172110Z",
     "iopub.status.idle": "2023-01-02T15:44:09.204231Z",
     "shell.execute_reply": "2023-01-02T15:44:09.202839Z"
    },
    "papermill": {
     "duration": 0.054451,
     "end_time": "2023-01-02T15:44:09.207206",
     "exception": false,
     "start_time": "2023-01-02T15:44:09.152755",
     "status": "completed"
    },
    "tags": []
   },
   "outputs": [],
   "source": [
    "pipeline_svc = pipeline.Pipeline(\n",
    "    [\n",
    "        (\"tfidf\", pipeline_tfidf),\n",
    "        (\n",
    "            \"TfidfOvRSVC\",\n",
    "            multiclass.OneVsRestClassifier(\n",
    "                svm.SVC(\n",
    "                    cache_size=1080,\n",
    "                    max_iter=description[\"TfidfOvRSVC\"][\"max_iter\"],\n",
    "                    random_state=42,\n",
    "                )\n",
    "            ),\n",
    "        ),\n",
    "    ]\n",
    ")"
   ]
  },
  {
   "cell_type": "code",
   "execution_count": 29,
   "id": "4769ea9b",
   "metadata": {
    "execution": {
     "iopub.execute_input": "2023-01-02T15:44:09.246139Z",
     "iopub.status.busy": "2023-01-02T15:44:09.245151Z",
     "iopub.status.idle": "2023-01-02T15:44:09.265673Z",
     "shell.execute_reply": "2023-01-02T15:44:09.264046Z"
    },
    "papermill": {
     "duration": 0.043032,
     "end_time": "2023-01-02T15:44:09.268855",
     "exception": false,
     "start_time": "2023-01-02T15:44:09.225823",
     "status": "completed"
    },
    "tags": []
   },
   "outputs": [
    {
     "name": "stdout",
     "output_type": "stream",
     "text": [
      "CPU times: user 5 µs, sys: 1 µs, total: 6 µs\n",
      "Wall time: 9.06 µs\n"
     ]
    }
   ],
   "source": [
    "%%time\n",
    "if description[\"TfidfOvRSVC\"][\"actif\"]:\n",
    "    with ignore_warnings(category=exceptions.ConvergenceWarning):\n",
    "        pipeline_svc.fit(\n",
    "            X_train,\n",
    "            y_train,\n",
    "        )"
   ]
  },
  {
   "cell_type": "code",
   "execution_count": 30,
   "id": "947644fc",
   "metadata": {
    "execution": {
     "iopub.execute_input": "2023-01-02T15:44:09.307522Z",
     "iopub.status.busy": "2023-01-02T15:44:09.306890Z",
     "iopub.status.idle": "2023-01-02T15:44:09.322375Z",
     "shell.execute_reply": "2023-01-02T15:44:09.320995Z"
    },
    "papermill": {
     "duration": 0.037885,
     "end_time": "2023-01-02T15:44:09.325132",
     "exception": false,
     "start_time": "2023-01-02T15:44:09.287247",
     "status": "completed"
    },
    "tags": []
   },
   "outputs": [
    {
     "name": "stdout",
     "output_type": "stream",
     "text": [
      "CPU times: user 4 µs, sys: 0 ns, total: 4 µs\n",
      "Wall time: 8.58 µs\n"
     ]
    }
   ],
   "source": [
    "%%time\n",
    "if description[\"TfidfOvRSVC\"][\"actif\"]:\n",
    "    pred_svc = pipeline_svc.predict(X_test)\n",
    "    print(pred_svc)"
   ]
  },
  {
   "cell_type": "markdown",
   "id": "f8dc44b5",
   "metadata": {
    "papermill": {
     "duration": 0.017955,
     "end_time": "2023-01-02T15:44:09.361942",
     "exception": false,
     "start_time": "2023-01-02T15:44:09.343987",
     "status": "completed"
    },
    "tags": []
   },
   "source": [
    "### Score et enregistrement"
   ]
  },
  {
   "cell_type": "code",
   "execution_count": 31,
   "id": "1e811a4a",
   "metadata": {
    "execution": {
     "iopub.execute_input": "2023-01-02T15:44:09.400152Z",
     "iopub.status.busy": "2023-01-02T15:44:09.399748Z",
     "iopub.status.idle": "2023-01-02T15:44:09.421636Z",
     "shell.execute_reply": "2023-01-02T15:44:09.420461Z"
    },
    "papermill": {
     "duration": 0.044237,
     "end_time": "2023-01-02T15:44:09.424372",
     "exception": false,
     "start_time": "2023-01-02T15:44:09.380135",
     "status": "completed"
    },
    "tags": []
   },
   "outputs": [],
   "source": [
    "if description[\"TfidfOvRSVC\"][\"actif\"]:\n",
    "    scores_svc = save_score(y_test, pred_svc, target_names, \"TfidfOvRSVC\")\n",
    "    joblib.dump(pipeline_svc, \"TfidfOvRestSvc_model.joblib\")\n",
    "    print(scores_svc.sort_values(by=\"precision\", ascending=False))"
   ]
  },
  {
   "cell_type": "markdown",
   "id": "17b23ffb",
   "metadata": {
    "papermill": {
     "duration": 0.018016,
     "end_time": "2023-01-02T15:44:09.460790",
     "exception": false,
     "start_time": "2023-01-02T15:44:09.442774",
     "status": "completed"
    },
    "tags": []
   },
   "source": [
    "# Word2Vec"
   ]
  },
  {
   "cell_type": "code",
   "execution_count": 32,
   "id": "daa1fd80",
   "metadata": {
    "execution": {
     "iopub.execute_input": "2023-01-02T15:44:09.499806Z",
     "iopub.status.busy": "2023-01-02T15:44:09.499372Z",
     "iopub.status.idle": "2023-01-02T15:44:09.518174Z",
     "shell.execute_reply": "2023-01-02T15:44:09.516762Z"
    },
    "papermill": {
     "duration": 0.041754,
     "end_time": "2023-01-02T15:44:09.520885",
     "exception": false,
     "start_time": "2023-01-02T15:44:09.479131",
     "status": "completed"
    },
    "tags": []
   },
   "outputs": [],
   "source": [
    "from kerasembedtransformerclass import KerasEmbedTransformer"
   ]
  },
  {
   "cell_type": "code",
   "execution_count": 33,
   "id": "b23340c6",
   "metadata": {
    "execution": {
     "iopub.execute_input": "2023-01-02T15:44:09.560060Z",
     "iopub.status.busy": "2023-01-02T15:44:09.559631Z",
     "iopub.status.idle": "2023-01-02T15:44:09.577600Z",
     "shell.execute_reply": "2023-01-02T15:44:09.576738Z"
    },
    "papermill": {
     "duration": 0.040016,
     "end_time": "2023-01-02T15:44:09.579694",
     "exception": false,
     "start_time": "2023-01-02T15:44:09.539678",
     "status": "completed"
    },
    "tags": []
   },
   "outputs": [],
   "source": [
    "# class KerasEmbedTransformer(BaseEstimator, TransformerMixin):\n",
    "#     def init(self, params):\n",
    "#         self.params = params\n",
    "#         return self\n",
    "\n",
    "#     def fit(self, X, y=None):\n",
    "#         self.embed_model, self.tokenizer = self.create_keras_model(X)\n",
    "#         return self\n",
    "\n",
    "#     def transform(self, X, y=None):\n",
    "#         x_sentences = keras.preprocessing.sequence.pad_sequences(\n",
    "#             self.tokenizer.texts_to_sequences(X),\n",
    "#             maxlen=self.params[\"maxlen\"],\n",
    "#             padding=\"post\",\n",
    "#         )\n",
    "#         embeddings = self.embed_model.predict(x_sentences)\n",
    "#         print(\"embedings shape \", embeddings.shape)\n",
    "#         return embeddings\n",
    "\n",
    "#     def save(self, filename):\n",
    "#         joblib.dump(self.tokenizer, f\"{filename}.tokenizer\")\n",
    "#         self.embed_model.save(\n",
    "#             f\"{filename}.model\"\n",
    "#         )  # This hack allows us to save the sklearn pipeline\n",
    "#         self.embed_model = None\n",
    "#         return self\n",
    "\n",
    "#     def load(self, filename, params):\n",
    "#         self.tokenizer = joblib.load(f\"{filename}.tokenizer\")\n",
    "#         self.embed_model = keras.models.load_model(f\"{filename}.model\")\n",
    "#         self.init(params)\n",
    "#         return self\n",
    "\n",
    "#     def create_embeding(self, word_index, model_vectors):\n",
    "#         vocab_size = len(word_index) + 1\n",
    "#         print(f\"Number of unique words: {vocab_size}\")\n",
    "#         print(\"Create Embedding matrix ...\")\n",
    "#         embedding_matrix = np.zeros((vocab_size, self.params[\"size\"]))\n",
    "#         i = 0\n",
    "#         j = 0\n",
    "\n",
    "#         for word, idx in word_index.items():\n",
    "#             i += 1\n",
    "#             if word in model_vectors.index_to_key:\n",
    "#                 j += 1\n",
    "#                 embedding_vector = model_vectors[word]\n",
    "#                 if embedding_vector is not None:\n",
    "#                     embedding_matrix[idx] = model_vectors[word]\n",
    "\n",
    "#         word_rate = np.round(j / i, 4)\n",
    "#         print(\"Word embedding rate : \", word_rate)\n",
    "#         print(\"Embedding matrix: %s\" % str(embedding_matrix.shape))\n",
    "#         return (embedding_matrix, vocab_size)\n",
    "\n",
    "#     def create_keras_model(self, X_train):\n",
    "#         print(\"Build & train Word2Vec model ...\")\n",
    "#         X_train_token = X_train.str.split()\n",
    "#         w2v_model = gensim.models.Word2Vec(\n",
    "#             min_count=self.params[\"min_count\"],\n",
    "#             window=self.params[\"window\"],\n",
    "#             vector_size=self.params[\"size\"],\n",
    "#             seed=42,\n",
    "#             workers=1,\n",
    "#         )\n",
    "#         w2v_model.build_vocab(X_train_token)\n",
    "#         w2v_model.train(\n",
    "#             X_train_token,\n",
    "#             total_examples=w2v_model.corpus_count,\n",
    "#             epochs=self.params[\"epochs\"],\n",
    "#         )\n",
    "#         model_vectors = w2v_model.wv\n",
    "#         print(\"Vocabulary size: %i\" % len(model_vectors.index_to_key))\n",
    "#         print(\"Word2Vec trained\")\n",
    "\n",
    "#         tokenizer = keras.preprocessing.text.Tokenizer()\n",
    "#         tokenizer.fit_on_texts(X_train_token)\n",
    "#         embedding_matrix, vocab_size = self.create_embeding(\n",
    "#             tokenizer.word_index, model_vectors\n",
    "#         )\n",
    "\n",
    "#         word_input = keras.layers.Input(shape=(self.params[\"maxlen\"],), dtype=\"float64\")\n",
    "#         word_embedding = keras.layers.Embedding(\n",
    "#             input_dim=vocab_size,\n",
    "#             output_dim=self.params[\"size\"],\n",
    "#             weights=[embedding_matrix],\n",
    "#             input_length=self.params[\"maxlen\"],\n",
    "#         )(word_input)\n",
    "#         word_vec = keras.layers.GlobalAveragePooling1D()(word_embedding)\n",
    "#         embed_model = keras.models.Model([word_input], word_vec)\n",
    "#         print(embed_model.summary())\n",
    "\n",
    "#         return (embed_model, tokenizer)"
   ]
  },
  {
   "cell_type": "code",
   "execution_count": 34,
   "id": "e10567c9",
   "metadata": {
    "execution": {
     "iopub.execute_input": "2023-01-02T15:44:09.618949Z",
     "iopub.status.busy": "2023-01-02T15:44:09.618459Z",
     "iopub.status.idle": "2023-01-02T18:20:08.921926Z",
     "shell.execute_reply": "2023-01-02T18:20:08.920878Z"
    },
    "papermill": {
     "duration": 9359.344707,
     "end_time": "2023-01-02T18:20:08.943326",
     "exception": false,
     "start_time": "2023-01-02T15:44:09.598619",
     "status": "completed"
    },
    "tags": []
   },
   "outputs": [
    {
     "name": "stdout",
     "output_type": "stream",
     "text": [
      "Build & train Word2Vec model ...\n",
      "Vocabulary size: 210897\n",
      "Word2Vec trained\n",
      "Number of unique words: 210898\n",
      "Create Embedding matrix ...\n",
      "Word embedding rate :  1.0\n",
      "Embedding matrix: (210898, 500)\n"
     ]
    },
    {
     "name": "stderr",
     "output_type": "stream",
     "text": [
      "2023-01-02 16:39:58.996949: I tensorflow/core/common_runtime/process_util.cc:146] Creating new thread pool with default inter op setting: 2. Tune using inter_op_parallelism_threads for best performance.\n"
     ]
    },
    {
     "name": "stdout",
     "output_type": "stream",
     "text": [
      "Model: \"model\"\n",
      "_________________________________________________________________\n",
      "Layer (type)                 Output Shape              Param #   \n",
      "=================================================================\n",
      "input_1 (InputLayer)         [(None, 50)]              0         \n",
      "_________________________________________________________________\n",
      "embedding (Embedding)        (None, 50, 500)           105449000 \n",
      "_________________________________________________________________\n",
      "global_average_pooling1d (Gl (None, 500)               0         \n",
      "=================================================================\n",
      "Total params: 105,449,000\n",
      "Trainable params: 105,449,000\n",
      "Non-trainable params: 0\n",
      "_________________________________________________________________\n",
      "None\n"
     ]
    },
    {
     "name": "stderr",
     "output_type": "stream",
     "text": [
      "2023-01-02 16:40:04.783685: I tensorflow/compiler/mlir/mlir_graph_optimization_pass.cc:185] None of the MLIR Optimization Passes are enabled (registered 2)\n"
     ]
    },
    {
     "name": "stdout",
     "output_type": "stream",
     "text": [
      "embedings shape  (88831, 500)\n",
      "CPU times: user 2h 35min 41s, sys: 28.6 s, total: 2h 36min 10s\n",
      "Wall time: 2h 35min 59s\n"
     ]
    }
   ],
   "source": [
    "%%time\n",
    "# KerasEmbed = KerasEmbedTransformer().init(description[\"Word2Vec\"])\n",
    "pipeline_w2v = pipeline.Pipeline(\n",
    "    [\n",
    "        (\n",
    "            \"keras_embed_transformer\",\n",
    "            KerasEmbedTransformer().init(description[\"Word2Vec\"]),\n",
    "        ),\n",
    "        (\n",
    "            \"Word2Vec\",\n",
    "            multiclass.OneVsRestClassifier(\n",
    "                svm.SVC(\n",
    "                    cache_size=1080,\n",
    "                    max_iter=description[\"Word2Vec\"][\"max_iter\"],\n",
    "                    random_state=42,\n",
    "                )\n",
    "            ),\n",
    "        ),\n",
    "    ]\n",
    ")\n",
    "\n",
    "if description[\"Word2Vec\"][\"actif\"]:\n",
    "    with ignore_warnings(category=exceptions.ConvergenceWarning):\n",
    "        pipeline_w2v.fit(X_train, y_train)\n",
    "#         pipeline_w2v.fit(X_train[0:10], y_train[0:10])"
   ]
  },
  {
   "cell_type": "code",
   "execution_count": 35,
   "id": "1f7cba60",
   "metadata": {
    "execution": {
     "iopub.execute_input": "2023-01-02T18:20:08.983224Z",
     "iopub.status.busy": "2023-01-02T18:20:08.982615Z",
     "iopub.status.idle": "2023-01-02T19:10:28.343962Z",
     "shell.execute_reply": "2023-01-02T19:10:28.342595Z"
    },
    "papermill": {
     "duration": 3019.402942,
     "end_time": "2023-01-02T19:10:28.365193",
     "exception": false,
     "start_time": "2023-01-02T18:20:08.962251",
     "status": "completed"
    },
    "tags": []
   },
   "outputs": [
    {
     "name": "stdout",
     "output_type": "stream",
     "text": [
      "embedings shape  (29611, 500)\n",
      "[[0 0 0 ... 0 0 0]\n",
      " [0 0 0 ... 0 0 0]\n",
      " [0 1 0 ... 0 0 0]\n",
      " ...\n",
      " [1 0 0 ... 0 0 0]\n",
      " [0 0 1 ... 0 0 0]\n",
      " [1 0 0 ... 0 0 0]]\n",
      "CPU times: user 50min 18s, sys: 656 ms, total: 50min 19s\n",
      "Wall time: 50min 19s\n"
     ]
    }
   ],
   "source": [
    "%%time\n",
    "if description[\"Word2Vec\"][\"actif\"]:\n",
    "    pred_word2vec = pipeline_w2v.predict(X_test)\n",
    "    print(pred_word2vec)"
   ]
  },
  {
   "cell_type": "markdown",
   "id": "9d3dc509",
   "metadata": {
    "papermill": {
     "duration": 0.018721,
     "end_time": "2023-01-02T19:10:28.402887",
     "exception": false,
     "start_time": "2023-01-02T19:10:28.384166",
     "status": "completed"
    },
    "tags": []
   },
   "source": [
    "### i got the same issue as:\n",
    "https://stackoverflow.com/questions/37984304/how-to-save-a-scikit-learn-pipline-with-keras-regressor-inside-to-disk  \n",
    "Solution is to save keras model in separate file than remove it from the pipeline so it can be save with joblib  \n",
    "I did that in my `KerasEmbedTransformer` class `save` & `load` method"
   ]
  },
  {
   "cell_type": "code",
   "execution_count": 36,
   "id": "bae6c4af",
   "metadata": {
    "execution": {
     "iopub.execute_input": "2023-01-02T19:10:28.443286Z",
     "iopub.status.busy": "2023-01-02T19:10:28.442901Z",
     "iopub.status.idle": "2023-01-02T19:10:36.344280Z",
     "shell.execute_reply": "2023-01-02T19:10:36.342961Z"
    },
    "papermill": {
     "duration": 7.925093,
     "end_time": "2023-01-02T19:10:36.347103",
     "exception": false,
     "start_time": "2023-01-02T19:10:28.422010",
     "status": "completed"
    },
    "tags": []
   },
   "outputs": [
    {
     "name": "stderr",
     "output_type": "stream",
     "text": [
      "2023-01-02 19:10:35.354956: W tensorflow/python/util/util.cc:348] Sets are not currently considered sequences, but this may change in the future, so consider avoiding using them.\n"
     ]
    },
    {
     "name": "stdout",
     "output_type": "stream",
     "text": [
      "Pipeline(steps=[('keras_embed_transformer', 'passthrough'),\n",
      "                ('Word2Vec',\n",
      "                 OneVsRestClassifier(estimator=SVC(cache_size=1080,\n",
      "                                                   max_iter=6000,\n",
      "                                                   random_state=42)))])\n"
     ]
    }
   ],
   "source": [
    "if description[\"Word2Vec\"][\"actif\"]:\n",
    "    pipeline_w2v.named_steps[\"keras_embed_transformer\"].save(\"keras\")\n",
    "    # Otherwise i can save it but not load in api\n",
    "    #     pipeline_w2v.named_steps[\"keras_embed_transformer\"] = \"passthrough\"  # __module__\n",
    "    #     pipeline_w2v.named_steps[\"keras_embed_transformer\"].__module__ = None\n",
    "    ## i have issue loading the joblib in api so i try to delete the step from the pipeline\n",
    "    pipeline_w2v.steps.pop(0)\n",
    "    pipeline_w2v.steps.insert(0, (\"keras_embed_transformer\", \"passthrough\"))\n",
    "    print(pipeline_w2v)"
   ]
  },
  {
   "cell_type": "code",
   "execution_count": 37,
   "id": "fb8e132d",
   "metadata": {
    "execution": {
     "iopub.execute_input": "2023-01-02T19:10:36.388121Z",
     "iopub.status.busy": "2023-01-02T19:10:36.386906Z",
     "iopub.status.idle": "2023-01-02T19:10:37.249857Z",
     "shell.execute_reply": "2023-01-02T19:10:37.248452Z"
    },
    "papermill": {
     "duration": 0.886089,
     "end_time": "2023-01-02T19:10:37.252545",
     "exception": false,
     "start_time": "2023-01-02T19:10:36.366456",
     "status": "completed"
    },
    "tags": []
   },
   "outputs": [
    {
     "name": "stdout",
     "output_type": "stream",
     "text": [
      "              precision    recall  f1-score  support\n",
      "android        0.909383  0.691932  0.785893   2045.0\n",
      "mysql          0.889299  0.351825  0.504184    685.0\n",
      "python         0.886302  0.626723  0.734245   2612.0\n",
      "git            0.877934  0.682482  0.767967    274.0\n",
      "linux          0.870968  0.039706  0.075949    680.0\n",
      "php            0.868906  0.492932  0.629020   1627.0\n",
      "css            0.840580  0.564103  0.675132   1131.0\n",
      "objective-c    0.827586  0.027027  0.052345    888.0\n",
      "jquery         0.825792  0.474642  0.602808   1538.0\n",
      "node.js        0.820896  0.241935  0.373726    682.0\n",
      "c++            0.799253  0.435845  0.564086   1964.0\n",
      ".net           0.780488  0.020395  0.039752   1569.0\n",
      "asp.net        0.779528  0.122981  0.212446    805.0\n",
      "ios            0.767908  0.582609  0.662546   1840.0\n",
      "c              0.764706  0.102825  0.181275    885.0\n",
      "macro avg      0.751035  0.409317  0.446580  33044.0\n",
      "iphone         0.739726  0.066914  0.122727    807.0\n",
      "html           0.718160  0.347009  0.467922   1755.0\n",
      "sql            0.682171  0.303448  0.420048    870.0\n",
      "weighted avg   0.677189  0.524422  0.494897  33044.0\n",
      "micro avg      0.499870  0.524422  0.511852  33044.0\n",
      "javascript     0.444146  0.836412  0.580198   3356.0\n",
      "samples avg    0.424382  0.442561  0.413786  33044.0\n",
      "c#             0.401355  0.665419  0.500704   3473.0\n",
      "java           0.276644  0.918494  0.425216   3558.0\n"
     ]
    }
   ],
   "source": [
    "if description[\"Word2Vec\"][\"actif\"]:\n",
    "    scores_word2vec = save_score(y_test, pred_word2vec, target_names, \"Word2Vec\")\n",
    "    joblib.dump(pipeline_w2v, \"Word2Vec_model.joblib\")\n",
    "    print(scores_word2vec.sort_values(by=\"precision\", ascending=False))"
   ]
  },
  {
   "cell_type": "markdown",
   "id": "a199f7a9",
   "metadata": {
    "papermill": {
     "duration": 0.019344,
     "end_time": "2023-01-02T19:10:37.292125",
     "exception": false,
     "start_time": "2023-01-02T19:10:37.272781",
     "status": "completed"
    },
    "tags": []
   },
   "source": [
    "### test to reimport saved model"
   ]
  },
  {
   "cell_type": "code",
   "execution_count": 38,
   "id": "fee1159c",
   "metadata": {
    "execution": {
     "iopub.execute_input": "2023-01-02T19:10:37.334388Z",
     "iopub.status.busy": "2023-01-02T19:10:37.333913Z",
     "iopub.status.idle": "2023-01-02T19:10:37.364040Z",
     "shell.execute_reply": "2023-01-02T19:10:37.362796Z"
    },
    "papermill": {
     "duration": 0.055138,
     "end_time": "2023-01-02T19:10:37.366958",
     "exception": false,
     "start_time": "2023-01-02T19:10:37.311820",
     "status": "completed"
    },
    "tags": []
   },
   "outputs": [],
   "source": [
    "if description[\"Word2Vec\"][\"actif\"] and LONG:\n",
    "    loaded = joblib.load(\"/kaggle/working/Word2Vec_model.joblib\")\n",
    "    loaded.named_steps[\"keras_embed_transformer\"] = KerasEmbedTransformer().load(\n",
    "        \"/kaggle/working/keras\", description[\"Word2Vec\"]\n",
    "    )\n",
    "    pred_word2vec == loaded.predict(X_test)"
   ]
  },
  {
   "cell_type": "markdown",
   "id": "cf27e599",
   "metadata": {
    "papermill": {
     "duration": 0.019432,
     "end_time": "2023-01-02T19:10:37.406060",
     "exception": false,
     "start_time": "2023-01-02T19:10:37.386628",
     "status": "completed"
    },
    "tags": []
   },
   "source": [
    "# BERT"
   ]
  },
  {
   "cell_type": "code",
   "execution_count": 39,
   "id": "e7ce4ed3",
   "metadata": {
    "execution": {
     "iopub.execute_input": "2023-01-02T19:10:37.447968Z",
     "iopub.status.busy": "2023-01-02T19:10:37.446831Z",
     "iopub.status.idle": "2023-01-02T19:10:37.454070Z",
     "shell.execute_reply": "2023-01-02T19:10:37.453046Z"
    },
    "papermill": {
     "duration": 0.031632,
     "end_time": "2023-01-02T19:10:37.457111",
     "exception": false,
     "start_time": "2023-01-02T19:10:37.425479",
     "status": "completed"
    },
    "tags": []
   },
   "outputs": [],
   "source": [
    "# import torch\n",
    "# torch.cuda.is_available()"
   ]
  },
  {
   "cell_type": "code",
   "execution_count": 40,
   "id": "8bb23517",
   "metadata": {
    "execution": {
     "iopub.execute_input": "2023-01-02T19:10:37.502710Z",
     "iopub.status.busy": "2023-01-02T19:10:37.501832Z",
     "iopub.status.idle": "2023-01-02T19:10:37.562615Z",
     "shell.execute_reply": "2023-01-02T19:10:37.561782Z"
    },
    "papermill": {
     "duration": 0.085004,
     "end_time": "2023-01-02T19:10:37.565643",
     "exception": false,
     "start_time": "2023-01-02T19:10:37.480639",
     "status": "completed"
    },
    "tags": []
   },
   "outputs": [],
   "source": [
    "def BertTransformer(sentences: list, params):\n",
    "    tokenizer = AutoTokenizer.from_pretrained(\"bert-base-uncased\")\n",
    "    model = AutoModel.from_pretrained(\"bert-base-uncased\")  # ou TFAutoModel\n",
    "    ## (input_ids,attention_mask,token_type_ids)\n",
    "    encoded_input = tokenizer(\n",
    "        sentences,\n",
    "        return_tensors=\"pt\",\n",
    "        padding=True,\n",
    "        truncation=True,\n",
    "        max_length=params[\"max_length\"],\n",
    "    )\n",
    "    #     model.predict(\n",
    "    #         [\n",
    "    #             encoded_input[\"input_ids\"],\n",
    "    #             encoded_input[\"attention_mask\"],\n",
    "    #             encoded_input[\"token_type_ids\"],\n",
    "    #         ], batch_size=params[\"batch_size\"]\n",
    "    #     )\n",
    "\n",
    "    #     return model\n",
    "    b_size = params[\"batch_size\"]\n",
    "    output = [\n",
    "        ## (last_hidden_state,pooler_output)\n",
    "        model(\n",
    "            encoded_input[\"input_ids\"][step : step + b_size],\n",
    "            attention_mask=encoded_input[\"attention_mask\"][step : step + b_size],\n",
    "        )\n",
    "        .last_hidden_state.detach()\n",
    "        .numpy()\n",
    "        for step in range(0, len(sentences), b_size)\n",
    "    ]\n",
    "    return np.concatenate(output)\n",
    "\n",
    "\n",
    "#     for step in range(len(sentences)//params[\"batch_size\"]):\n",
    "#         idx = step*params[\"batch_size\"]\n",
    "#         encoded_input_batch = encoded_input[idx:idx+params[\"batch_size\"]]\n",
    "#         output = model(\n",
    "#             encoded_input_batch[\"input_ids\"], attention_mask=encoded_input_batch[\"attention_mask\"]\n",
    "#         )\n",
    "#         print(output[\"last_hidden_state\"].shape)"
   ]
  },
  {
   "cell_type": "code",
   "execution_count": 41,
   "id": "a2f0d696",
   "metadata": {
    "execution": {
     "iopub.execute_input": "2023-01-02T19:10:37.611129Z",
     "iopub.status.busy": "2023-01-02T19:10:37.610241Z",
     "iopub.status.idle": "2023-01-02T19:10:37.616195Z",
     "shell.execute_reply": "2023-01-02T19:10:37.615210Z"
    },
    "papermill": {
     "duration": 0.029346,
     "end_time": "2023-01-02T19:10:37.618552",
     "exception": false,
     "start_time": "2023-01-02T19:10:37.589206",
     "status": "completed"
    },
    "tags": []
   },
   "outputs": [],
   "source": [
    "# encoded_input"
   ]
  },
  {
   "cell_type": "code",
   "execution_count": 42,
   "id": "4db217b7",
   "metadata": {
    "execution": {
     "iopub.execute_input": "2023-01-02T19:10:37.663119Z",
     "iopub.status.busy": "2023-01-02T19:10:37.662450Z",
     "iopub.status.idle": "2023-01-02T19:10:37.667924Z",
     "shell.execute_reply": "2023-01-02T19:10:37.666962Z"
    },
    "papermill": {
     "duration": 0.028395,
     "end_time": "2023-01-02T19:10:37.670015",
     "exception": false,
     "start_time": "2023-01-02T19:10:37.641620",
     "status": "completed"
    },
    "tags": []
   },
   "outputs": [],
   "source": [
    "# %%time\n",
    "# model = BertTransformer(list(X_train[0:50_000]), params=description[\"BERT\"])\n",
    "# model\n",
    "# # model.mean(axis=1)"
   ]
  },
  {
   "cell_type": "code",
   "execution_count": 43,
   "id": "4ccb069b",
   "metadata": {
    "execution": {
     "iopub.execute_input": "2023-01-02T19:10:37.710385Z",
     "iopub.status.busy": "2023-01-02T19:10:37.709690Z",
     "iopub.status.idle": "2023-01-02T19:10:37.714337Z",
     "shell.execute_reply": "2023-01-02T19:10:37.713625Z"
    },
    "papermill": {
     "duration": 0.027421,
     "end_time": "2023-01-02T19:10:37.716550",
     "exception": false,
     "start_time": "2023-01-02T19:10:37.689129",
     "status": "completed"
    },
    "tags": []
   },
   "outputs": [],
   "source": [
    "# model"
   ]
  },
  {
   "cell_type": "code",
   "execution_count": 44,
   "id": "122f8c32",
   "metadata": {
    "execution": {
     "iopub.execute_input": "2023-01-02T19:10:37.756883Z",
     "iopub.status.busy": "2023-01-02T19:10:37.756466Z",
     "iopub.status.idle": "2023-01-02T19:10:37.765144Z",
     "shell.execute_reply": "2023-01-02T19:10:37.764184Z"
    },
    "papermill": {
     "duration": 0.031692,
     "end_time": "2023-01-02T19:10:37.767453",
     "exception": false,
     "start_time": "2023-01-02T19:10:37.735761",
     "status": "completed"
    },
    "tags": []
   },
   "outputs": [],
   "source": [
    "# sentences = list(X_train[0:10])\n",
    "# tokenizer = AutoTokenizer.from_pretrained(\"bert-base-uncased\")\n",
    "# model = AutoModel.from_pretrained(\"bert-base-uncased\")\n",
    "# ## (input_ids,attention_mask,token_type_ids)\n",
    "# encoded_input = tokenizer(\n",
    "#     sentences,\n",
    "#     return_tensors=\"pt\",\n",
    "#     padding=True,\n",
    "#     truncation=True,\n",
    "#     max_length=10,  # params[\"max_length\"],\n",
    "# )\n",
    "# b_size = 5  # params[\"batch_size\"]\n",
    "\n",
    "# output = [\n",
    "#     ## (last_hidden_state,pooler_output)\n",
    "#     model(\n",
    "#         encoded_input[\"input_ids\"][step : step + b_size],\n",
    "#         attention_mask=encoded_input[\"attention_mask\"][step : step + b_size],\n",
    "#     ).last_hidden_state\n",
    "#     for step in range(0, len(sentences), b_size)\n",
    "# ]"
   ]
  },
  {
   "cell_type": "code",
   "execution_count": 45,
   "id": "6d14abbd",
   "metadata": {
    "execution": {
     "iopub.execute_input": "2023-01-02T19:10:37.807977Z",
     "iopub.status.busy": "2023-01-02T19:10:37.806956Z",
     "iopub.status.idle": "2023-01-02T19:10:37.812946Z",
     "shell.execute_reply": "2023-01-02T19:10:37.811893Z"
    },
    "papermill": {
     "duration": 0.028646,
     "end_time": "2023-01-02T19:10:37.815345",
     "exception": false,
     "start_time": "2023-01-02T19:10:37.786699",
     "status": "completed"
    },
    "tags": []
   },
   "outputs": [],
   "source": [
    "# for step in range(0, len(sentences), b_size):\n",
    "#     print(encoded_input[\"input_ids\"][step : step + b_size])"
   ]
  },
  {
   "cell_type": "code",
   "execution_count": 46,
   "id": "1fa754c5",
   "metadata": {
    "execution": {
     "iopub.execute_input": "2023-01-02T19:10:37.921374Z",
     "iopub.status.busy": "2023-01-02T19:10:37.920972Z",
     "iopub.status.idle": "2023-01-02T19:10:37.927172Z",
     "shell.execute_reply": "2023-01-02T19:10:37.926136Z"
    },
    "papermill": {
     "duration": 0.028874,
     "end_time": "2023-01-02T19:10:37.929319",
     "exception": false,
     "start_time": "2023-01-02T19:10:37.900445",
     "status": "completed"
    },
    "tags": []
   },
   "outputs": [],
   "source": [
    "# if description[\"BERT\"][\"actif\"]:\n",
    "#     clfOvRBERT= multiclass.OneVsRestClassifier(\n",
    "#                 svm.SVC(\n",
    "#                     cache_size=1080,\n",
    "#                     max_iter=description[\"BERT\"][\"max_iter\"],\n",
    "#                     random_state=42,\n",
    "#                 )\n",
    "#             )"
   ]
  },
  {
   "cell_type": "code",
   "execution_count": 47,
   "id": "da06bb0f",
   "metadata": {
    "execution": {
     "iopub.execute_input": "2023-01-02T19:10:37.969274Z",
     "iopub.status.busy": "2023-01-02T19:10:37.968622Z",
     "iopub.status.idle": "2023-01-02T19:10:37.975475Z",
     "shell.execute_reply": "2023-01-02T19:10:37.974695Z"
    },
    "papermill": {
     "duration": 0.029373,
     "end_time": "2023-01-02T19:10:37.977728",
     "exception": false,
     "start_time": "2023-01-02T19:10:37.948355",
     "status": "completed"
    },
    "tags": []
   },
   "outputs": [],
   "source": [
    "# if description[\"BERT\"][\"actif\"]:\n",
    "#     clfOvRBERT.fit(output,y_train)"
   ]
  },
  {
   "cell_type": "markdown",
   "id": "0047a418",
   "metadata": {
    "papermill": {
     "duration": 0.018575,
     "end_time": "2023-01-02T19:10:38.015232",
     "exception": false,
     "start_time": "2023-01-02T19:10:37.996657",
     "status": "completed"
    },
    "tags": []
   },
   "source": [
    "# LDA "
   ]
  },
  {
   "cell_type": "markdown",
   "id": "3737378c",
   "metadata": {
    "papermill": {
     "duration": 0.019205,
     "end_time": "2023-01-02T19:10:38.053124",
     "exception": false,
     "start_time": "2023-01-02T19:10:38.033919",
     "status": "completed"
    },
    "tags": []
   },
   "source": [
    "# USE"
   ]
  }
 ],
 "metadata": {
  "kernelspec": {
   "display_name": "Python 3",
   "language": "python",
   "name": "python3"
  },
  "language_info": {
   "codemirror_mode": {
    "name": "ipython",
    "version": 3
   },
   "file_extension": ".py",
   "mimetype": "text/x-python",
   "name": "python",
   "nbconvert_exporter": "python",
   "pygments_lexer": "ipython3",
   "version": "3.7.12"
  },
  "papermill": {
   "default_parameters": {},
   "duration": 12443.212776,
   "end_time": "2023-01-02T19:10:40.914082",
   "environment_variables": {},
   "exception": null,
   "input_path": "__notebook__.ipynb",
   "output_path": "__notebook__.ipynb",
   "parameters": {},
   "start_time": "2023-01-02T15:43:17.701306",
   "version": "2.3.4"
  },
  "widgets": {
   "application/vnd.jupyter.widget-state+json": {
    "state": {
     "06bd827e8f97405993357529787f62bb": {
      "model_module": "@jupyter-widgets/controls",
      "model_module_version": "1.5.0",
      "model_name": "VBoxModel",
      "state": {
       "_dom_classes": [
        "widget-interact"
       ],
       "_model_module": "@jupyter-widgets/controls",
       "_model_module_version": "1.5.0",
       "_model_name": "VBoxModel",
       "_view_count": null,
       "_view_module": "@jupyter-widgets/controls",
       "_view_module_version": "1.5.0",
       "_view_name": "VBoxView",
       "box_style": "",
       "children": [
        "IPY_MODEL_ead2c97ec75b48939694ebf62c0e5d31",
        "IPY_MODEL_8eff43b2bb784b75a6401bc11dcaf63d"
       ],
       "layout": "IPY_MODEL_fbe73b5bc31c48d4a3fa5b280a3dd7f5"
      }
     },
     "1134c838f39d4317a0d74c8e28d12fba": {
      "model_module": "@jupyter-widgets/base",
      "model_module_version": "1.2.0",
      "model_name": "LayoutModel",
      "state": {
       "_model_module": "@jupyter-widgets/base",
       "_model_module_version": "1.2.0",
       "_model_name": "LayoutModel",
       "_view_count": null,
       "_view_module": "@jupyter-widgets/base",
       "_view_module_version": "1.2.0",
       "_view_name": "LayoutView",
       "align_content": null,
       "align_items": null,
       "align_self": null,
       "border": null,
       "bottom": null,
       "display": null,
       "flex": null,
       "flex_flow": null,
       "grid_area": null,
       "grid_auto_columns": null,
       "grid_auto_flow": null,
       "grid_auto_rows": null,
       "grid_column": null,
       "grid_gap": null,
       "grid_row": null,
       "grid_template_areas": null,
       "grid_template_columns": null,
       "grid_template_rows": null,
       "height": null,
       "justify_content": null,
       "justify_items": null,
       "left": null,
       "margin": null,
       "max_height": null,
       "max_width": null,
       "min_height": null,
       "min_width": null,
       "object_fit": null,
       "object_position": null,
       "order": null,
       "overflow": null,
       "overflow_x": null,
       "overflow_y": null,
       "padding": null,
       "right": null,
       "top": null,
       "visibility": null,
       "width": null
      }
     },
     "4859d14f2d2740528596d09e63ca8a2e": {
      "model_module": "@jupyter-widgets/base",
      "model_module_version": "1.2.0",
      "model_name": "LayoutModel",
      "state": {
       "_model_module": "@jupyter-widgets/base",
       "_model_module_version": "1.2.0",
       "_model_name": "LayoutModel",
       "_view_count": null,
       "_view_module": "@jupyter-widgets/base",
       "_view_module_version": "1.2.0",
       "_view_name": "LayoutView",
       "align_content": null,
       "align_items": null,
       "align_self": null,
       "border": null,
       "bottom": null,
       "display": null,
       "flex": null,
       "flex_flow": null,
       "grid_area": null,
       "grid_auto_columns": null,
       "grid_auto_flow": null,
       "grid_auto_rows": null,
       "grid_column": null,
       "grid_gap": null,
       "grid_row": null,
       "grid_template_areas": null,
       "grid_template_columns": null,
       "grid_template_rows": null,
       "height": null,
       "justify_content": null,
       "justify_items": null,
       "left": null,
       "margin": null,
       "max_height": null,
       "max_width": null,
       "min_height": null,
       "min_width": null,
       "object_fit": null,
       "object_position": null,
       "order": null,
       "overflow": null,
       "overflow_x": null,
       "overflow_y": null,
       "padding": null,
       "right": null,
       "top": null,
       "visibility": null,
       "width": null
      }
     },
     "8eff43b2bb784b75a6401bc11dcaf63d": {
      "model_module": "@jupyter-widgets/output",
      "model_module_version": "1.0.0",
      "model_name": "OutputModel",
      "state": {
       "_dom_classes": [],
       "_model_module": "@jupyter-widgets/output",
       "_model_module_version": "1.0.0",
       "_model_name": "OutputModel",
       "_view_count": null,
       "_view_module": "@jupyter-widgets/output",
       "_view_module_version": "1.0.0",
       "_view_name": "OutputView",
       "layout": "IPY_MODEL_1134c838f39d4317a0d74c8e28d12fba",
       "msg_id": "",
       "outputs": [
        {
         "name": "stdout",
         "output_type": "stream",
         "text": "Title:How to change culture to a DateTimepicker or calendar control in .Net\n******************************\nTitle_clean:change culture datetimepicker calendar control\n******************************\nBody:<p>How to set internationalization to a <code>DateTimepicker</code> or <code>Calendar WinForm</code> control in .Net when the desire culture is different to the one installed in the PC?</p>\n\n******************************\nBody_clean:set internationalization datetimepicker calendar winform control .net desire culture instal pc\n******************************\nCode:DateTimepicker Calendar WinForm\n******************************\nTags:c# .net internationalization datetimepicker culture\n"
        }
       ]
      }
     },
     "db34b58c39eb4f4f91f9656b86bac46b": {
      "model_module": "@jupyter-widgets/controls",
      "model_module_version": "1.5.0",
      "model_name": "SliderStyleModel",
      "state": {
       "_model_module": "@jupyter-widgets/controls",
       "_model_module_version": "1.5.0",
       "_model_name": "SliderStyleModel",
       "_view_count": null,
       "_view_module": "@jupyter-widgets/base",
       "_view_module_version": "1.2.0",
       "_view_name": "StyleView",
       "description_width": "",
       "handle_color": null
      }
     },
     "ead2c97ec75b48939694ebf62c0e5d31": {
      "model_module": "@jupyter-widgets/controls",
      "model_module_version": "1.5.0",
      "model_name": "IntSliderModel",
      "state": {
       "_dom_classes": [],
       "_model_module": "@jupyter-widgets/controls",
       "_model_module_version": "1.5.0",
       "_model_name": "IntSliderModel",
       "_view_count": null,
       "_view_module": "@jupyter-widgets/controls",
       "_view_module_version": "1.5.0",
       "_view_name": "IntSliderView",
       "continuous_update": true,
       "description": "i",
       "description_tooltip": null,
       "disabled": false,
       "layout": "IPY_MODEL_4859d14f2d2740528596d09e63ca8a2e",
       "max": 118441,
       "min": 0,
       "orientation": "horizontal",
       "readout": true,
       "readout_format": "d",
       "step": 1,
       "style": "IPY_MODEL_db34b58c39eb4f4f91f9656b86bac46b",
       "value": 59220
      }
     },
     "fbe73b5bc31c48d4a3fa5b280a3dd7f5": {
      "model_module": "@jupyter-widgets/base",
      "model_module_version": "1.2.0",
      "model_name": "LayoutModel",
      "state": {
       "_model_module": "@jupyter-widgets/base",
       "_model_module_version": "1.2.0",
       "_model_name": "LayoutModel",
       "_view_count": null,
       "_view_module": "@jupyter-widgets/base",
       "_view_module_version": "1.2.0",
       "_view_name": "LayoutView",
       "align_content": null,
       "align_items": null,
       "align_self": null,
       "border": null,
       "bottom": null,
       "display": null,
       "flex": null,
       "flex_flow": null,
       "grid_area": null,
       "grid_auto_columns": null,
       "grid_auto_flow": null,
       "grid_auto_rows": null,
       "grid_column": null,
       "grid_gap": null,
       "grid_row": null,
       "grid_template_areas": null,
       "grid_template_columns": null,
       "grid_template_rows": null,
       "height": null,
       "justify_content": null,
       "justify_items": null,
       "left": null,
       "margin": null,
       "max_height": null,
       "max_width": null,
       "min_height": null,
       "min_width": null,
       "object_fit": null,
       "object_position": null,
       "order": null,
       "overflow": null,
       "overflow_x": null,
       "overflow_y": null,
       "padding": null,
       "right": null,
       "top": null,
       "visibility": null,
       "width": null
      }
     }
    },
    "version_major": 2,
    "version_minor": 0
   }
  }
 },
 "nbformat": 4,
 "nbformat_minor": 5
}
