{
 "cells": [
  {
   "cell_type": "markdown",
   "id": "b99487fb",
   "metadata": {
    "papermill": {
     "duration": 0.016827,
     "end_time": "2023-01-04T21:53:28.357480",
     "exception": false,
     "start_time": "2023-01-04T21:53:28.340653",
     "status": "completed"
    },
    "tags": []
   },
   "source": [
    "# Index\n",
    "* [Import](#index)\n",
    "* [Tokenization](#Tokenization)\n",
    "* [CountVectorizer](#CountVectorizer)\n",
    "* [PreprocessPipeline](#PreprocessPipeline)\n",
    "* [OvsRest](#OvsRest)\n",
    "    - [LogisticRegression](#LogisticRegression)\n",
    "    - [SVC](#SVC)\n",
    "* [Word2Vec](#Word2Vec)\n",
    "* [BERT](#BERT)\n",
    "* [USE](#USE)"
   ]
  },
  {
   "cell_type": "code",
   "execution_count": 1,
   "id": "31a423d3",
   "metadata": {
    "_cell_guid": "b1076dfc-b9ad-4769-8c92-a6c4dae69d19",
    "_uuid": "8f2839f25d086af736a60e9eeb907d3b93b6e0e5",
    "execution": {
     "iopub.execute_input": "2023-01-04T21:53:28.390493Z",
     "iopub.status.busy": "2023-01-04T21:53:28.389346Z",
     "iopub.status.idle": "2023-01-04T21:53:42.523900Z",
     "shell.execute_reply": "2023-01-04T21:53:42.522898Z"
    },
    "papermill": {
     "duration": 14.153578,
     "end_time": "2023-01-04T21:53:42.526335",
     "exception": false,
     "start_time": "2023-01-04T21:53:28.372757",
     "status": "completed"
    },
    "tags": []
   },
   "outputs": [
    {
     "name": "stderr",
     "output_type": "stream",
     "text": [
      "2023-01-04 21:53:37.146605: I tensorflow/stream_executor/cuda/cuda_gpu_executor.cc:937] successful NUMA node read from SysFS had negative value (-1), but there must be at least one NUMA node, so returning NUMA node zero\n",
      "2023-01-04 21:53:37.147751: I tensorflow/stream_executor/cuda/cuda_gpu_executor.cc:937] successful NUMA node read from SysFS had negative value (-1), but there must be at least one NUMA node, so returning NUMA node zero\n",
      "2023-01-04 21:53:37.148427: I tensorflow/stream_executor/cuda/cuda_gpu_executor.cc:937] successful NUMA node read from SysFS had negative value (-1), but there must be at least one NUMA node, so returning NUMA node zero\n",
      "2023-01-04 21:53:37.150735: I tensorflow/core/platform/cpu_feature_guard.cc:142] This TensorFlow binary is optimized with oneAPI Deep Neural Network Library (oneDNN) to use the following CPU instructions in performance-critical operations:  AVX2 AVX512F FMA\n",
      "To enable them in other operations, rebuild TensorFlow with the appropriate compiler flags.\n",
      "2023-01-04 21:53:37.151053: I tensorflow/stream_executor/cuda/cuda_gpu_executor.cc:937] successful NUMA node read from SysFS had negative value (-1), but there must be at least one NUMA node, so returning NUMA node zero\n",
      "2023-01-04 21:53:37.151802: I tensorflow/stream_executor/cuda/cuda_gpu_executor.cc:937] successful NUMA node read from SysFS had negative value (-1), but there must be at least one NUMA node, so returning NUMA node zero\n",
      "2023-01-04 21:53:37.152471: I tensorflow/stream_executor/cuda/cuda_gpu_executor.cc:937] successful NUMA node read from SysFS had negative value (-1), but there must be at least one NUMA node, so returning NUMA node zero\n",
      "2023-01-04 21:53:42.147821: I tensorflow/stream_executor/cuda/cuda_gpu_executor.cc:937] successful NUMA node read from SysFS had negative value (-1), but there must be at least one NUMA node, so returning NUMA node zero\n",
      "2023-01-04 21:53:42.148825: I tensorflow/stream_executor/cuda/cuda_gpu_executor.cc:937] successful NUMA node read from SysFS had negative value (-1), but there must be at least one NUMA node, so returning NUMA node zero\n",
      "2023-01-04 21:53:42.149577: I tensorflow/stream_executor/cuda/cuda_gpu_executor.cc:937] successful NUMA node read from SysFS had negative value (-1), but there must be at least one NUMA node, so returning NUMA node zero\n",
      "2023-01-04 21:53:42.150164: I tensorflow/core/common_runtime/gpu/gpu_device.cc:1510] Created device /job:localhost/replica:0/task:0/device:GPU:0 with 15043 MB memory:  -> device: 0, name: Tesla P100-PCIE-16GB, pci bus id: 0000:00:04.0, compute capability: 6.0\n"
     ]
    }
   ],
   "source": [
    "import time\n",
    "import json\n",
    "import os\n",
    "\n",
    "# from joblib import dump, load, Memory\n",
    "import joblib\n",
    "import dill\n",
    "import weakref\n",
    "\n",
    "# import warnings\n",
    "\n",
    "import numpy as np\n",
    "import pandas as pd\n",
    "import gensim\n",
    "import matplotlib.pyplot as plt\n",
    "\n",
    "# from gensim import (\n",
    "#     corpora,\n",
    "# )  # https://pypi.org/project/gensim/ #https://radimrehurek.com/gensim/auto_examples/core/run_topics_and_transformations.html#sphx-glr-auto-examples-core-run-topics-and-transformations-py\n",
    "from sklearn import (\n",
    "    metrics,\n",
    "    feature_extraction,\n",
    "    linear_model,\n",
    "    model_selection,\n",
    "    preprocessing,\n",
    "    cluster,\n",
    "    decomposition,\n",
    "    multiclass,\n",
    "    svm,\n",
    "    pipeline,\n",
    "    exceptions,\n",
    "    manifold,\n",
    ")\n",
    "from sklearn.utils._testing import ignore_warnings\n",
    "from sklearn.base import BaseEstimator, TransformerMixin\n",
    "import tensorflow as tf\n",
    "from transformers import (\n",
    "    AutoTokenizer,\n",
    "    TFAutoModel,\n",
    "    AutoModel,\n",
    "    BertTokenizer,\n",
    "    TFBertModel,\n",
    "    BertConfig,\n",
    ")  # BertModel\n",
    "import transformers\n",
    "from tokenizers import BertWordPieceTokenizer\n",
    "\n",
    "\n",
    "# import nlpk"
   ]
  },
  {
   "cell_type": "markdown",
   "id": "fa357ae6",
   "metadata": {
    "papermill": {
     "duration": 0.015218,
     "end_time": "2023-01-04T21:53:42.557328",
     "exception": false,
     "start_time": "2023-01-04T21:53:42.542110",
     "status": "completed"
    },
    "tags": []
   },
   "source": [
    "test https://scikit-learn.org/stable/modules/multiclass.html autre stategie que OneVsRest\n",
    "https://keras.io/examples/nlp/text_extraction_with_bert/"
   ]
  },
  {
   "cell_type": "code",
   "execution_count": 2,
   "id": "ee871096",
   "metadata": {
    "_kg_hide-output": true,
    "execution": {
     "iopub.execute_input": "2023-01-04T21:53:42.592185Z",
     "iopub.status.busy": "2023-01-04T21:53:42.591417Z",
     "iopub.status.idle": "2023-01-04T21:53:54.084862Z",
     "shell.execute_reply": "2023-01-04T21:53:54.083143Z"
    },
    "papermill": {
     "duration": 11.514523,
     "end_time": "2023-01-04T21:53:54.087160",
     "exception": false,
     "start_time": "2023-01-04T21:53:42.572637",
     "status": "completed"
    },
    "tags": []
   },
   "outputs": [
    {
     "name": "stdout",
     "output_type": "stream",
     "text": [
      "\u001b[33mWARNING: Running pip as the 'root' user can result in broken permissions and conflicting behaviour with the system package manager. It is recommended to use a virtual environment instead: https://pip.pypa.io/warnings/venv\u001b[0m\u001b[33m\r\n",
      "\u001b[0mNote: you may need to restart the kernel to use updated packages.\n"
     ]
    }
   ],
   "source": [
    "pip install -q jupyter-black jupyter"
   ]
  },
  {
   "cell_type": "code",
   "execution_count": 3,
   "id": "9541752b",
   "metadata": {
    "execution": {
     "iopub.execute_input": "2023-01-04T21:53:54.121579Z",
     "iopub.status.busy": "2023-01-04T21:53:54.121226Z",
     "iopub.status.idle": "2023-01-04T21:53:54.258605Z",
     "shell.execute_reply": "2023-01-04T21:53:54.257501Z"
    },
    "papermill": {
     "duration": 0.157481,
     "end_time": "2023-01-04T21:53:54.261414",
     "exception": false,
     "start_time": "2023-01-04T21:53:54.103933",
     "status": "completed"
    },
    "tags": []
   },
   "outputs": [
    {
     "data": {
      "text/html": [
       "\n",
       "                <script type=\"application/javascript\" id=\"jupyter_black\">\n",
       "                (function() {\n",
       "                    if (window.IPython === undefined) {\n",
       "                        return\n",
       "                    }\n",
       "                    var msg = \"WARNING: it looks like you might have loaded \" +\n",
       "                        \"jupyter_black in a non-lab notebook with \" +\n",
       "                        \"`is_lab=True`. Please double check, and if \" +\n",
       "                        \"loading with `%load_ext` please review the README!\"\n",
       "                    console.log(msg)\n",
       "                    alert(msg)\n",
       "                })()\n",
       "                </script>\n",
       "                "
      ],
      "text/plain": [
       "<IPython.core.display.HTML object>"
      ]
     },
     "metadata": {},
     "output_type": "display_data"
    }
   ],
   "source": [
    "# for black formating\n",
    "import jupyter_black  # pip install jupyter-black jupyter\n",
    "\n",
    "jupyter_black.load()\n",
    "# ??jupyter_black.load #show config"
   ]
  },
  {
   "cell_type": "code",
   "execution_count": 4,
   "id": "6a4a6f41",
   "metadata": {
    "execution": {
     "iopub.execute_input": "2023-01-04T21:53:54.295946Z",
     "iopub.status.busy": "2023-01-04T21:53:54.295034Z",
     "iopub.status.idle": "2023-01-04T21:54:01.872871Z",
     "shell.execute_reply": "2023-01-04T21:54:01.871588Z"
    },
    "papermill": {
     "duration": 7.597794,
     "end_time": "2023-01-04T21:54:01.875501",
     "exception": false,
     "start_time": "2023-01-04T21:53:54.277707",
     "status": "completed"
    },
    "tags": []
   },
   "outputs": [
    {
     "name": "stdout",
     "output_type": "stream",
     "text": [
      "<class 'pandas.core.frame.DataFrame'>\n",
      "Int64Index: 118442 entries, 0 to 118441\n",
      "Data columns (total 12 columns):\n",
      " #   Column       Non-Null Count   Dtype \n",
      "---  ------       --------------   ----- \n",
      " 0   Id           118442 non-null  int64 \n",
      " 1   Title        118442 non-null  object\n",
      " 2   Body         118442 non-null  object\n",
      " 3   0            118440 non-null  object\n",
      " 4   1            118383 non-null  object\n",
      " 5   2            118292 non-null  object\n",
      " 6   3            118292 non-null  object\n",
      " 7   4            76389 non-null   object\n",
      " 8   5            4 non-null       object\n",
      " 9   Title_clean  118389 non-null  object\n",
      " 10  Code         88202 non-null   object\n",
      " 11  Body_clean   118392 non-null  object\n",
      "dtypes: int64(1), object(11)\n",
      "memory usage: 11.7+ MB\n"
     ]
    }
   ],
   "source": [
    "df = pd.read_csv(\n",
    "    \"/kaggle/input/p5-nlp/stackoverflowCleaned.csv\", index_col=0, low_memory=False\n",
    ")\n",
    "df.info()"
   ]
  },
  {
   "cell_type": "code",
   "execution_count": 5,
   "id": "59b5f785",
   "metadata": {
    "execution": {
     "iopub.execute_input": "2023-01-04T21:54:01.909192Z",
     "iopub.status.busy": "2023-01-04T21:54:01.908884Z",
     "iopub.status.idle": "2023-01-04T21:54:01.966216Z",
     "shell.execute_reply": "2023-01-04T21:54:01.965311Z"
    },
    "papermill": {
     "duration": 0.076389,
     "end_time": "2023-01-04T21:54:01.968555",
     "exception": false,
     "start_time": "2023-01-04T21:54:01.892166",
     "status": "completed"
    },
    "tags": []
   },
   "outputs": [],
   "source": [
    "LONG = False\n",
    "description = {\n",
    "    \"title\": \"Keras Sequential Model with Word2Vec (kerasPipeline)\",\n",
    "    \"CountVectorizer\": {\"min_df\": 0.00001, \"max_df\": 0.995, \"max_features\": None},\n",
    "    \"StandardScaler\": {\"actif\": False},\n",
    "    \"TruncatedSVD\": {\"actif\": False, \"n_components\": 1_000},\n",
    "    \"LogisticRegression\": {\"actif\": False},\n",
    "    \"TfidfOvRSVC\": {\"actif\": False, \"max_iter\": 100},\n",
    "    \"kerasPipeline\": {\n",
    "        \"actif\": True,\n",
    "        \"TextVectorization__max_tokens\": 210_000,  # 20_000,\n",
    "        \"TextVectorization__output_sequence_length\": 100,  # 20\n",
    "        \"Embedding__output_dim\": 500,\n",
    "        \"Word2Vec__min_count\": 5,\n",
    "        \"Word2Vec__window\": 25,\n",
    "        \"Word2Vec__epochs\": 150,  # 100,\n",
    "        \"fit__epochs\": 15,  # 15\n",
    "    },\n",
    "    \"Word2Vec\": {\n",
    "        \"actif\": False,\n",
    "        \"min_count\": 1,\n",
    "        \"size\": 500,\n",
    "        \"window\": 10,\n",
    "        \"epochs\": 100,\n",
    "        \"maxlen\": 50,\n",
    "        \"max_iter\": 6_000,\n",
    "    },\n",
    "    \"BERT\": {\n",
    "        \"actif\": False,\n",
    "        \"max_length\": 150,\n",
    "        \"epochs\": 5,\n",
    "    },\n",
    "}"
   ]
  },
  {
   "cell_type": "code",
   "execution_count": 6,
   "id": "faf9760b",
   "metadata": {
    "execution": {
     "iopub.execute_input": "2023-01-04T21:54:02.001485Z",
     "iopub.status.busy": "2023-01-04T21:54:02.001183Z",
     "iopub.status.idle": "2023-01-04T21:54:02.006465Z",
     "shell.execute_reply": "2023-01-04T21:54:02.005394Z"
    },
    "papermill": {
     "duration": 0.024423,
     "end_time": "2023-01-04T21:54:02.008748",
     "exception": false,
     "start_time": "2023-01-04T21:54:01.984325",
     "status": "completed"
    },
    "tags": []
   },
   "outputs": [],
   "source": [
    "# # ultra fast\n",
    "# description[\"kerasPipeline\"][\"fit__epochs\"] = 1\n",
    "# description[\"kerasPipeline\"][\"TextVectorization__max_tokens\"] = 100\n",
    "# description[\"kerasPipeline\"][\"TextVectorization__output_sequence_length\"] = 5\n",
    "# description[\"kerasPipeline\"][\"Word2Vec__epochs\"] = 1\n",
    "# description[\"kerasPipeline\"][\"Embedding__output_dim\"] = 10"
   ]
  },
  {
   "cell_type": "code",
   "execution_count": 7,
   "id": "acae08fa",
   "metadata": {
    "execution": {
     "iopub.execute_input": "2023-01-04T21:54:02.041520Z",
     "iopub.status.busy": "2023-01-04T21:54:02.041235Z",
     "iopub.status.idle": "2023-01-04T21:54:02.059145Z",
     "shell.execute_reply": "2023-01-04T21:54:02.058221Z"
    },
    "papermill": {
     "duration": 0.036544,
     "end_time": "2023-01-04T21:54:02.061231",
     "exception": false,
     "start_time": "2023-01-04T21:54:02.024687",
     "status": "completed"
    },
    "tags": []
   },
   "outputs": [],
   "source": [
    "class colors:\n",
    "    PURPLE = \"\\033[95m\"\n",
    "    BLUE = \"\\033[94m\"\n",
    "    CYAN = \"\\033[96m\"\n",
    "    GREEN = \"\\033[92m\"\n",
    "    YELLOW = \"\\033[93m\"\n",
    "    RED = \"\\033[91m\"\n",
    "    ENDC = \"\\033[0m\"\n",
    "    BOLD = \"\\033[1m\"\n",
    "    UNDERLINE = \"\\033[4m\""
   ]
  },
  {
   "cell_type": "markdown",
   "id": "dc72f44b",
   "metadata": {
    "papermill": {
     "duration": 0.015464,
     "end_time": "2023-01-04T21:54:02.092345",
     "exception": false,
     "start_time": "2023-01-04T21:54:02.076881",
     "status": "completed"
    },
    "tags": []
   },
   "source": [
    "# Tokenization"
   ]
  },
  {
   "cell_type": "code",
   "execution_count": 8,
   "id": "c11cab37",
   "metadata": {
    "execution": {
     "iopub.execute_input": "2023-01-04T21:54:02.125583Z",
     "iopub.status.busy": "2023-01-04T21:54:02.125265Z",
     "iopub.status.idle": "2023-01-04T21:54:02.174488Z",
     "shell.execute_reply": "2023-01-04T21:54:02.173601Z"
    },
    "papermill": {
     "duration": 0.068494,
     "end_time": "2023-01-04T21:54:02.177015",
     "exception": false,
     "start_time": "2023-01-04T21:54:02.108521",
     "status": "completed"
    },
    "tags": []
   },
   "outputs": [
    {
     "data": {
      "application/vnd.jupyter.widget-view+json": {
       "model_id": "614032da3d204cc9919b382b7bcf0480",
       "version_major": 2,
       "version_minor": 0
      },
      "text/plain": [
       "interactive(children=(IntSlider(value=59220, description='i', max=118441), Output()), _dom_classes=('widget-in…"
      ]
     },
     "metadata": {},
     "output_type": "display_data"
    }
   ],
   "source": [
    "from ipywidgets import interact\n",
    "\n",
    "\n",
    "@interact(i=(0, df.shape[0] - 1))\n",
    "def test_tr_print(i):\n",
    "    print(\n",
    "        f'Title:{df[\"Title\"][i]}\\n{\"*\"*30}\\nTitle_clean:{df[\"Title_clean\"][i]}\\n{\"*\"*30}\\nBody:{df[\"Body\"][i]}\\n{\"*\"*30}\\nBody_clean:{df[\"Body_clean\"][i]}\\n{\"*\"*30}\\nCode:{df[\"Code\"][i]}\\n{\"*\"*30}\\nTags:{df.loc[i,\"0\"]} {df.loc[i,\"1\"]} {df.loc[i,\"2\"]} {df.loc[i,\"3\"]} {df.loc[i,\"4\"]}'\n",
    "    )"
   ]
  },
  {
   "cell_type": "code",
   "execution_count": 9,
   "id": "f7fbad83",
   "metadata": {
    "execution": {
     "iopub.execute_input": "2023-01-04T21:54:02.211643Z",
     "iopub.status.busy": "2023-01-04T21:54:02.210870Z",
     "iopub.status.idle": "2023-01-04T21:54:02.235563Z",
     "shell.execute_reply": "2023-01-04T21:54:02.234573Z"
    },
    "papermill": {
     "duration": 0.04343,
     "end_time": "2023-01-04T21:54:02.237572",
     "exception": false,
     "start_time": "2023-01-04T21:54:02.194142",
     "status": "completed"
    },
    "tags": []
   },
   "outputs": [
    {
     "data": {
      "text/plain": [
       "53"
      ]
     },
     "execution_count": 9,
     "metadata": {},
     "output_type": "execute_result"
    }
   ],
   "source": [
    "sum(df[\"Title_clean\"].isna())"
   ]
  },
  {
   "cell_type": "code",
   "execution_count": 10,
   "id": "e124317b",
   "metadata": {
    "execution": {
     "iopub.execute_input": "2023-01-04T21:54:02.270995Z",
     "iopub.status.busy": "2023-01-04T21:54:02.270331Z",
     "iopub.status.idle": "2023-01-04T21:54:02.304004Z",
     "shell.execute_reply": "2023-01-04T21:54:02.303156Z"
    },
    "papermill": {
     "duration": 0.052532,
     "end_time": "2023-01-04T21:54:02.306067",
     "exception": false,
     "start_time": "2023-01-04T21:54:02.253535",
     "status": "completed"
    },
    "tags": []
   },
   "outputs": [
    {
     "data": {
      "text/html": [
       "<div>\n",
       "<style scoped>\n",
       "    .dataframe tbody tr th:only-of-type {\n",
       "        vertical-align: middle;\n",
       "    }\n",
       "\n",
       "    .dataframe tbody tr th {\n",
       "        vertical-align: top;\n",
       "    }\n",
       "\n",
       "    .dataframe thead th {\n",
       "        text-align: right;\n",
       "    }\n",
       "</style>\n",
       "<table border=\"1\" class=\"dataframe\">\n",
       "  <thead>\n",
       "    <tr style=\"text-align: right;\">\n",
       "      <th></th>\n",
       "      <th>Title</th>\n",
       "      <th>Title_clean</th>\n",
       "      <th>Body</th>\n",
       "      <th>Body_clean</th>\n",
       "      <th>0</th>\n",
       "      <th>1</th>\n",
       "      <th>2</th>\n",
       "      <th>3</th>\n",
       "      <th>4</th>\n",
       "    </tr>\n",
       "  </thead>\n",
       "  <tbody>\n",
       "    <tr>\n",
       "      <th>302</th>\n",
       "      <td>Is &lt; faster than &lt;=?</td>\n",
       "      <td>NaN</td>\n",
       "      <td>&lt;p&gt;Is &lt;code&gt;if (a &amp;lt; 901)&lt;/code&gt; faster than...</td>\n",
       "      <td>example performance change loop code suppose g...</td>\n",
       "      <td>c++</td>\n",
       "      <td>c</td>\n",
       "      <td>performance</td>\n",
       "      <td>assembly</td>\n",
       "      <td>relational-operators</td>\n",
       "    </tr>\n",
       "    <tr>\n",
       "      <th>393</th>\n",
       "      <td>What is setup.py?</td>\n",
       "      <td>NaN</td>\n",
       "      <td>&lt;p&gt;What is &lt;code&gt;setup.py&lt;/code&gt; and how can i...</td>\n",
       "      <td>configure</td>\n",
       "      <td>python</td>\n",
       "      <td>pypi</td>\n",
       "      <td>setup.py</td>\n",
       "      <td>python-packaging</td>\n",
       "      <td>NaN</td>\n",
       "    </tr>\n",
       "    <tr>\n",
       "      <th>1437</th>\n",
       "      <td>What is related_name used for?</td>\n",
       "      <td>NaN</td>\n",
       "      <td>&lt;p&gt;What is the &lt;code&gt;related_name&lt;/code&gt; argum...</td>\n",
       "      <td>argument manytomanyfield foreignkey field exam...</td>\n",
       "      <td>python</td>\n",
       "      <td>django</td>\n",
       "      <td>foreign-keys</td>\n",
       "      <td>many-to-many</td>\n",
       "      <td>NaN</td>\n",
       "    </tr>\n",
       "    <tr>\n",
       "      <th>4062</th>\n",
       "      <td>What is \"android:allowBackup\"?</td>\n",
       "      <td>NaN</td>\n",
       "      <td>&lt;p&gt;Since the &lt;a href=\"http://tools.android.com...</td>\n",
       "      <td>adt preview version version lint warning tell ...</td>\n",
       "      <td>android</td>\n",
       "      <td>adt</td>\n",
       "      <td>compiler-warnings</td>\n",
       "      <td>android-lint</td>\n",
       "      <td>android-backup-service</td>\n",
       "    </tr>\n",
       "    <tr>\n",
       "      <th>4870</th>\n",
       "      <td>Why is 0 &lt; -0x80000000?</td>\n",
       "      <td>NaN</td>\n",
       "      <td>&lt;p&gt;I have below a simple program:&lt;/p&gt;\\n\\n&lt;pre&gt;...</td>\n",
       "      <td>program condition if(bal int32_min work change...</td>\n",
       "      <td>c</td>\n",
       "      <td>signed</td>\n",
       "      <td>numeric-limits</td>\n",
       "      <td>numeric-conversion</td>\n",
       "      <td>NaN</td>\n",
       "    </tr>\n",
       "  </tbody>\n",
       "</table>\n",
       "</div>"
      ],
      "text/plain": [
       "                               Title Title_clean  \\\n",
       "302             Is < faster than <=?         NaN   \n",
       "393                What is setup.py?         NaN   \n",
       "1437  What is related_name used for?         NaN   \n",
       "4062  What is \"android:allowBackup\"?         NaN   \n",
       "4870         Why is 0 < -0x80000000?         NaN   \n",
       "\n",
       "                                                   Body  \\\n",
       "302   <p>Is <code>if (a &lt; 901)</code> faster than...   \n",
       "393   <p>What is <code>setup.py</code> and how can i...   \n",
       "1437  <p>What is the <code>related_name</code> argum...   \n",
       "4062  <p>Since the <a href=\"http://tools.android.com...   \n",
       "4870  <p>I have below a simple program:</p>\\n\\n<pre>...   \n",
       "\n",
       "                                             Body_clean        0       1  \\\n",
       "302   example performance change loop code suppose g...      c++       c   \n",
       "393                                           configure   python    pypi   \n",
       "1437  argument manytomanyfield foreignkey field exam...   python  django   \n",
       "4062  adt preview version version lint warning tell ...  android     adt   \n",
       "4870  program condition if(bal int32_min work change...        c  signed   \n",
       "\n",
       "                      2                   3                       4  \n",
       "302         performance            assembly    relational-operators  \n",
       "393            setup.py    python-packaging                     NaN  \n",
       "1437       foreign-keys        many-to-many                     NaN  \n",
       "4062  compiler-warnings        android-lint  android-backup-service  \n",
       "4870     numeric-limits  numeric-conversion                     NaN  "
      ]
     },
     "execution_count": 10,
     "metadata": {},
     "output_type": "execute_result"
    }
   ],
   "source": [
    "df[df[\"Title_clean\"].isna()][\n",
    "    [\"Title\", \"Title_clean\", \"Body\", \"Body_clean\", \"0\", \"1\", \"2\", \"3\", \"4\"]\n",
    "].head(5)"
   ]
  },
  {
   "cell_type": "code",
   "execution_count": 11,
   "id": "4a703121",
   "metadata": {
    "execution": {
     "iopub.execute_input": "2023-01-04T21:54:02.340955Z",
     "iopub.status.busy": "2023-01-04T21:54:02.339486Z",
     "iopub.status.idle": "2023-01-04T21:54:02.399089Z",
     "shell.execute_reply": "2023-01-04T21:54:02.398086Z"
    },
    "papermill": {
     "duration": 0.078611,
     "end_time": "2023-01-04T21:54:02.401096",
     "exception": false,
     "start_time": "2023-01-04T21:54:02.322485",
     "status": "completed"
    },
    "tags": []
   },
   "outputs": [
    {
     "name": "stdout",
     "output_type": "stream",
     "text": [
      "50\n"
     ]
    },
    {
     "data": {
      "text/html": [
       "<div>\n",
       "<style scoped>\n",
       "    .dataframe tbody tr th:only-of-type {\n",
       "        vertical-align: middle;\n",
       "    }\n",
       "\n",
       "    .dataframe tbody tr th {\n",
       "        vertical-align: top;\n",
       "    }\n",
       "\n",
       "    .dataframe thead th {\n",
       "        text-align: right;\n",
       "    }\n",
       "</style>\n",
       "<table border=\"1\" class=\"dataframe\">\n",
       "  <thead>\n",
       "    <tr style=\"text-align: right;\">\n",
       "      <th></th>\n",
       "      <th>Title</th>\n",
       "      <th>Title_clean</th>\n",
       "      <th>Body</th>\n",
       "      <th>Body_clean</th>\n",
       "      <th>Code</th>\n",
       "    </tr>\n",
       "  </thead>\n",
       "  <tbody>\n",
       "    <tr>\n",
       "      <th>5</th>\n",
       "      <td>What and where are the stack and heap?</td>\n",
       "      <td>stack heap</td>\n",
       "      <td>&lt;ul&gt;\\n&lt;li&gt;What are the stack and heap?&lt;/li&gt;\\n&lt;...</td>\n",
       "      <td>NaN</td>\n",
       "      <td>NaN</td>\n",
       "    </tr>\n",
       "    <tr>\n",
       "      <th>168</th>\n",
       "      <td>What is The Rule of Three?</td>\n",
       "      <td>rule</td>\n",
       "      <td>&lt;ul&gt;\\n&lt;li&gt;What does &lt;em&gt;copying an object&lt;/em&gt;...</td>\n",
       "      <td>NaN</td>\n",
       "      <td>NaN</td>\n",
       "    </tr>\n",
       "    <tr>\n",
       "      <th>828</th>\n",
       "      <td>Why are these constructs using pre and post-in...</td>\n",
       "      <td>construct pre behavior</td>\n",
       "      <td>&lt;pre&gt;&lt;code&gt;#include &amp;lt;stdio.h&amp;gt;\\n\\nint mai...</td>\n",
       "      <td>NaN</td>\n",
       "      <td>#include &lt;stdio.h&gt;\\n\\nint main(void)\\n{\\n   in...</td>\n",
       "    </tr>\n",
       "    <tr>\n",
       "      <th>1207</th>\n",
       "      <td>How to use ADB Shell when Multiple Devices are...</td>\n",
       "      <td>use adb shell multiple device connect fail err...</td>\n",
       "      <td>&lt;pre&gt;&lt;code&gt;$ adb --help\\n&lt;/code&gt;&lt;/pre&gt;\\n&lt;hr /&gt;...</td>\n",
       "      <td>NaN</td>\n",
       "      <td>$ adb --help\\n -s SERIAL  use device with give...</td>\n",
       "    </tr>\n",
       "    <tr>\n",
       "      <th>1640</th>\n",
       "      <td>What are the advantages of list initialization...</td>\n",
       "      <td>advantage list initialization brace</td>\n",
       "      <td>&lt;pre&gt;&lt;code&gt;MyClass a1 {a};     // clearer and ...</td>\n",
       "      <td>NaN</td>\n",
       "      <td>MyClass a1 {a};     // clearer and less error-...</td>\n",
       "    </tr>\n",
       "  </tbody>\n",
       "</table>\n",
       "</div>"
      ],
      "text/plain": [
       "                                                  Title  \\\n",
       "5                What and where are the stack and heap?   \n",
       "168                          What is The Rule of Three?   \n",
       "828   Why are these constructs using pre and post-in...   \n",
       "1207  How to use ADB Shell when Multiple Devices are...   \n",
       "1640  What are the advantages of list initialization...   \n",
       "\n",
       "                                            Title_clean  \\\n",
       "5                                            stack heap   \n",
       "168                                                rule   \n",
       "828                              construct pre behavior   \n",
       "1207  use adb shell multiple device connect fail err...   \n",
       "1640                advantage list initialization brace   \n",
       "\n",
       "                                                   Body Body_clean  \\\n",
       "5     <ul>\\n<li>What are the stack and heap?</li>\\n<...        NaN   \n",
       "168   <ul>\\n<li>What does <em>copying an object</em>...        NaN   \n",
       "828   <pre><code>#include &lt;stdio.h&gt;\\n\\nint mai...        NaN   \n",
       "1207  <pre><code>$ adb --help\\n</code></pre>\\n<hr />...        NaN   \n",
       "1640  <pre><code>MyClass a1 {a};     // clearer and ...        NaN   \n",
       "\n",
       "                                                   Code  \n",
       "5                                                   NaN  \n",
       "168                                                 NaN  \n",
       "828   #include <stdio.h>\\n\\nint main(void)\\n{\\n   in...  \n",
       "1207  $ adb --help\\n -s SERIAL  use device with give...  \n",
       "1640  MyClass a1 {a};     // clearer and less error-...  "
      ]
     },
     "execution_count": 11,
     "metadata": {},
     "output_type": "execute_result"
    }
   ],
   "source": [
    "print(sum(df[\"Body_clean\"].isna()))\n",
    "df[df[\"Body_clean\"].isna()][\n",
    "    [\"Title\", \"Title_clean\", \"Body\", \"Body_clean\", \"Code\"]\n",
    "].head(5)"
   ]
  },
  {
   "cell_type": "code",
   "execution_count": 12,
   "id": "aee69346",
   "metadata": {
    "execution": {
     "iopub.execute_input": "2023-01-04T21:54:02.436060Z",
     "iopub.status.busy": "2023-01-04T21:54:02.435247Z",
     "iopub.status.idle": "2023-01-04T21:54:02.464422Z",
     "shell.execute_reply": "2023-01-04T21:54:02.463400Z"
    },
    "papermill": {
     "duration": 0.048775,
     "end_time": "2023-01-04T21:54:02.466426",
     "exception": false,
     "start_time": "2023-01-04T21:54:02.417651",
     "status": "completed"
    },
    "tags": []
   },
   "outputs": [
    {
     "data": {
      "text/plain": [
       "0"
      ]
     },
     "execution_count": 12,
     "metadata": {},
     "output_type": "execute_result"
    }
   ],
   "source": [
    "len(df[df[\"Body_clean\"].isna() & df[\"Title_clean\"].isna()])"
   ]
  },
  {
   "cell_type": "code",
   "execution_count": 13,
   "id": "17e5cf12",
   "metadata": {
    "execution": {
     "iopub.execute_input": "2023-01-04T21:54:02.500658Z",
     "iopub.status.busy": "2023-01-04T21:54:02.500357Z",
     "iopub.status.idle": "2023-01-04T21:54:02.651691Z",
     "shell.execute_reply": "2023-01-04T21:54:02.649142Z"
    },
    "papermill": {
     "duration": 0.172069,
     "end_time": "2023-01-04T21:54:02.655190",
     "exception": false,
     "start_time": "2023-01-04T21:54:02.483121",
     "status": "completed"
    },
    "tags": []
   },
   "outputs": [
    {
     "data": {
      "text/plain": [
       "103"
      ]
     },
     "execution_count": 13,
     "metadata": {},
     "output_type": "execute_result"
    }
   ],
   "source": [
    "sum((df[\"Title_clean\"] + df[\"Body_clean\"]).isna())"
   ]
  },
  {
   "cell_type": "code",
   "execution_count": 14,
   "id": "ea81e784",
   "metadata": {
    "execution": {
     "iopub.execute_input": "2023-01-04T21:54:02.725839Z",
     "iopub.status.busy": "2023-01-04T21:54:02.725285Z",
     "iopub.status.idle": "2023-01-04T21:54:02.861201Z",
     "shell.execute_reply": "2023-01-04T21:54:02.860305Z"
    },
    "papermill": {
     "duration": 0.176716,
     "end_time": "2023-01-04T21:54:02.863992",
     "exception": false,
     "start_time": "2023-01-04T21:54:02.687276",
     "status": "completed"
    },
    "tags": []
   },
   "outputs": [
    {
     "data": {
      "text/html": [
       "<div>\n",
       "<style scoped>\n",
       "    .dataframe tbody tr th:only-of-type {\n",
       "        vertical-align: middle;\n",
       "    }\n",
       "\n",
       "    .dataframe tbody tr th {\n",
       "        vertical-align: top;\n",
       "    }\n",
       "\n",
       "    .dataframe thead th {\n",
       "        text-align: right;\n",
       "    }\n",
       "</style>\n",
       "<table border=\"1\" class=\"dataframe\">\n",
       "  <thead>\n",
       "    <tr style=\"text-align: right;\">\n",
       "      <th></th>\n",
       "      <th>javascript</th>\n",
       "      <th>java</th>\n",
       "      <th>c#</th>\n",
       "      <th>python</th>\n",
       "      <th>html</th>\n",
       "      <th>git</th>\n",
       "      <th>php</th>\n",
       "    </tr>\n",
       "  </thead>\n",
       "  <tbody>\n",
       "    <tr>\n",
       "      <th>10001</th>\n",
       "      <td>True</td>\n",
       "      <td>False</td>\n",
       "      <td>False</td>\n",
       "      <td>False</td>\n",
       "      <td>True</td>\n",
       "      <td>False</td>\n",
       "      <td>False</td>\n",
       "    </tr>\n",
       "    <tr>\n",
       "      <th>10002</th>\n",
       "      <td>False</td>\n",
       "      <td>True</td>\n",
       "      <td>False</td>\n",
       "      <td>False</td>\n",
       "      <td>False</td>\n",
       "      <td>False</td>\n",
       "      <td>False</td>\n",
       "    </tr>\n",
       "    <tr>\n",
       "      <th>10003</th>\n",
       "      <td>False</td>\n",
       "      <td>False</td>\n",
       "      <td>True</td>\n",
       "      <td>False</td>\n",
       "      <td>False</td>\n",
       "      <td>False</td>\n",
       "      <td>False</td>\n",
       "    </tr>\n",
       "    <tr>\n",
       "      <th>10004</th>\n",
       "      <td>False</td>\n",
       "      <td>False</td>\n",
       "      <td>False</td>\n",
       "      <td>False</td>\n",
       "      <td>True</td>\n",
       "      <td>False</td>\n",
       "      <td>False</td>\n",
       "    </tr>\n",
       "    <tr>\n",
       "      <th>10005</th>\n",
       "      <td>False</td>\n",
       "      <td>False</td>\n",
       "      <td>False</td>\n",
       "      <td>False</td>\n",
       "      <td>False</td>\n",
       "      <td>False</td>\n",
       "      <td>False</td>\n",
       "    </tr>\n",
       "    <tr>\n",
       "      <th>...</th>\n",
       "      <td>...</td>\n",
       "      <td>...</td>\n",
       "      <td>...</td>\n",
       "      <td>...</td>\n",
       "      <td>...</td>\n",
       "      <td>...</td>\n",
       "      <td>...</td>\n",
       "    </tr>\n",
       "    <tr>\n",
       "      <th>15045</th>\n",
       "      <td>False</td>\n",
       "      <td>False</td>\n",
       "      <td>False</td>\n",
       "      <td>False</td>\n",
       "      <td>False</td>\n",
       "      <td>False</td>\n",
       "      <td>False</td>\n",
       "    </tr>\n",
       "    <tr>\n",
       "      <th>15046</th>\n",
       "      <td>False</td>\n",
       "      <td>False</td>\n",
       "      <td>False</td>\n",
       "      <td>False</td>\n",
       "      <td>False</td>\n",
       "      <td>False</td>\n",
       "      <td>False</td>\n",
       "    </tr>\n",
       "    <tr>\n",
       "      <th>15047</th>\n",
       "      <td>True</td>\n",
       "      <td>False</td>\n",
       "      <td>False</td>\n",
       "      <td>False</td>\n",
       "      <td>False</td>\n",
       "      <td>False</td>\n",
       "      <td>False</td>\n",
       "    </tr>\n",
       "    <tr>\n",
       "      <th>15048</th>\n",
       "      <td>False</td>\n",
       "      <td>False</td>\n",
       "      <td>False</td>\n",
       "      <td>False</td>\n",
       "      <td>False</td>\n",
       "      <td>False</td>\n",
       "      <td>False</td>\n",
       "    </tr>\n",
       "    <tr>\n",
       "      <th>15049</th>\n",
       "      <td>False</td>\n",
       "      <td>False</td>\n",
       "      <td>False</td>\n",
       "      <td>False</td>\n",
       "      <td>False</td>\n",
       "      <td>False</td>\n",
       "      <td>False</td>\n",
       "    </tr>\n",
       "  </tbody>\n",
       "</table>\n",
       "<p>5049 rows × 7 columns</p>\n",
       "</div>"
      ],
      "text/plain": [
       "       javascript   java     c#  python   html    git    php\n",
       "10001        True  False  False   False   True  False  False\n",
       "10002       False   True  False   False  False  False  False\n",
       "10003       False  False   True   False  False  False  False\n",
       "10004       False  False  False   False   True  False  False\n",
       "10005       False  False  False   False  False  False  False\n",
       "...           ...    ...    ...     ...    ...    ...    ...\n",
       "15045       False  False  False   False  False  False  False\n",
       "15046       False  False  False   False  False  False  False\n",
       "15047        True  False  False   False  False  False  False\n",
       "15048       False  False  False   False  False  False  False\n",
       "15049       False  False  False   False  False  False  False\n",
       "\n",
       "[5049 rows x 7 columns]"
      ]
     },
     "execution_count": 14,
     "metadata": {},
     "output_type": "execute_result"
    }
   ],
   "source": [
    "def tag_is_in(df: pd.DataFrame(), tag: str, nb_cols: int = 6):\n",
    "    return eval(\"|\".join(f'(df[\"{i}\"] == \"{tag}\")' for i in range(0, nb_cols)))\n",
    "\n",
    "\n",
    "def tags_are_in(df: pd.DataFrame(), tags: list):\n",
    "    return pd.DataFrame({tag: tag_is_in(df, tag) for tag in tags})\n",
    "\n",
    "\n",
    "def save_score(\n",
    "    y_true, y_pred, target_names: list, name=None, zero_division=0\n",
    ") -> pd.DataFrame():\n",
    "    scores = pd.DataFrame(\n",
    "        metrics.classification_report(\n",
    "            y_true,\n",
    "            y_pred,\n",
    "            target_names=target_names,\n",
    "            zero_division=zero_division,\n",
    "            output_dict=True,\n",
    "        )\n",
    "    ).T\n",
    "    if name is not None:\n",
    "        scores.to_csv(f\"/kaggle/working/{name}_score.csv\")\n",
    "    return scores\n",
    "\n",
    "\n",
    "# tags_are_in(df, [\"javascript\",\"java\"])\n",
    "tags_are_in(\n",
    "    df[10001:15050], [\"javascript\", \"java\", \"c#\", \"python\", \"html\", \"git\", \"php\"]\n",
    ")"
   ]
  },
  {
   "cell_type": "code",
   "execution_count": 15,
   "id": "ce2ce04c",
   "metadata": {
    "execution": {
     "iopub.execute_input": "2023-01-04T21:54:02.916338Z",
     "iopub.status.busy": "2023-01-04T21:54:02.915816Z",
     "iopub.status.idle": "2023-01-04T21:54:03.139142Z",
     "shell.execute_reply": "2023-01-04T21:54:03.138210Z"
    },
    "papermill": {
     "duration": 0.251575,
     "end_time": "2023-01-04T21:54:03.141354",
     "exception": false,
     "start_time": "2023-01-04T21:54:02.889779",
     "status": "completed"
    },
    "tags": []
   },
   "outputs": [
    {
     "data": {
      "text/plain": [
       "['java',\n",
       " 'c#',\n",
       " 'javascript',\n",
       " 'python',\n",
       " 'android',\n",
       " 'c++',\n",
       " 'ios',\n",
       " 'html',\n",
       " 'php',\n",
       " '.net',\n",
       " 'jquery',\n",
       " 'css',\n",
       " 'objective-c',\n",
       " 'c',\n",
       " 'sql',\n",
       " 'iphone',\n",
       " 'asp.net',\n",
       " 'mysql',\n",
       " 'linux',\n",
       " 'node.js',\n",
       " 'git']"
      ]
     },
     "execution_count": 15,
     "metadata": {},
     "output_type": "execute_result"
    }
   ],
   "source": [
    "tags = df[[\"0\", \"1\", \"2\", \"3\", \"4\", \"5\"]].stack()\n",
    "target_names = [\n",
    "    tag\n",
    "    for tag, freq in tags.reset_index(drop=True).value_counts(normalize=True).items()\n",
    "    if freq > 0.002\n",
    "]\n",
    "if not LONG:\n",
    "    target_names = target_names[0:20] + [\"git\"]\n",
    "target_names"
   ]
  },
  {
   "cell_type": "code",
   "execution_count": 16,
   "id": "6d183fe7",
   "metadata": {
    "execution": {
     "iopub.execute_input": "2023-01-04T21:54:03.177599Z",
     "iopub.status.busy": "2023-01-04T21:54:03.176731Z",
     "iopub.status.idle": "2023-01-04T21:54:03.190059Z",
     "shell.execute_reply": "2023-01-04T21:54:03.189191Z"
    },
    "papermill": {
     "duration": 0.033371,
     "end_time": "2023-01-04T21:54:03.192114",
     "exception": false,
     "start_time": "2023-01-04T21:54:03.158743",
     "status": "completed"
    },
    "tags": []
   },
   "outputs": [],
   "source": [
    "# Enregistrement des paramétres avec la liste des tags a predire\n",
    "description[\"target_names\"] = target_names\n",
    "with open(\"/kaggle/working/description.json\", \"w\") as outfile:\n",
    "    json.dump(description, outfile)"
   ]
  },
  {
   "cell_type": "markdown",
   "id": "da7328a6",
   "metadata": {
    "papermill": {
     "duration": 0.016637,
     "end_time": "2023-01-04T21:54:03.225633",
     "exception": false,
     "start_time": "2023-01-04T21:54:03.208996",
     "status": "completed"
    },
    "tags": []
   },
   "source": [
    "## Separation train/test"
   ]
  },
  {
   "cell_type": "code",
   "execution_count": 17,
   "id": "aa84c9e6",
   "metadata": {
    "execution": {
     "iopub.execute_input": "2023-01-04T21:54:03.260930Z",
     "iopub.status.busy": "2023-01-04T21:54:03.260595Z",
     "iopub.status.idle": "2023-01-04T21:54:04.545164Z",
     "shell.execute_reply": "2023-01-04T21:54:04.544184Z"
    },
    "papermill": {
     "duration": 1.305101,
     "end_time": "2023-01-04T21:54:04.547585",
     "exception": false,
     "start_time": "2023-01-04T21:54:03.242484",
     "status": "completed"
    },
    "tags": []
   },
   "outputs": [
    {
     "name": "stdout",
     "output_type": "stream",
     "text": [
      "99.99409% des questions ont plus d'un tokens\n"
     ]
    }
   ],
   "source": [
    "df[\"Token\"] = df[\"Title_clean\"].fillna(\"\") + df[\"Body_clean\"].fillna(\"\")\n",
    "print(\n",
    "    f\"{len(df[[len(token.split()) > 1 for token in df['Token']]])/len(df):.5%} des questions ont plus d'un tokens\"\n",
    "    if len(df[df[\"Token\"] == \"\"]) == 0\n",
    "    else f\"{len(df[df['Token'] == ''])} questions n'ont pas de token\"\n",
    ")\n",
    "X_train, X_test, y_train, y_test = model_selection.train_test_split(\n",
    "    df[\"Token\"], tags_are_in(df, target_names), random_state=42\n",
    ")"
   ]
  },
  {
   "cell_type": "markdown",
   "id": "79ffc568",
   "metadata": {
    "papermill": {
     "duration": 0.016776,
     "end_time": "2023-01-04T21:54:04.581846",
     "exception": false,
     "start_time": "2023-01-04T21:54:04.565070",
     "status": "completed"
    },
    "tags": []
   },
   "source": [
    "## Approche naïve pour comparer les résultat:\n",
    "    - Valeur la plus fréquente (False)\n",
    "    - Si le tag est présent dans la question"
   ]
  },
  {
   "cell_type": "code",
   "execution_count": 18,
   "id": "06dea0c2",
   "metadata": {
    "execution": {
     "iopub.execute_input": "2023-01-04T21:54:04.616875Z",
     "iopub.status.busy": "2023-01-04T21:54:04.616551Z",
     "iopub.status.idle": "2023-01-04T21:54:04.687661Z",
     "shell.execute_reply": "2023-01-04T21:54:04.686748Z"
    },
    "papermill": {
     "duration": 0.091159,
     "end_time": "2023-01-04T21:54:04.689859",
     "exception": false,
     "start_time": "2023-01-04T21:54:04.598700",
     "status": "completed"
    },
    "tags": []
   },
   "outputs": [
    {
     "data": {
      "text/html": [
       "<div>\n",
       "<style scoped>\n",
       "    .dataframe tbody tr th:only-of-type {\n",
       "        vertical-align: middle;\n",
       "    }\n",
       "\n",
       "    .dataframe tbody tr th {\n",
       "        vertical-align: top;\n",
       "    }\n",
       "\n",
       "    .dataframe thead th {\n",
       "        text-align: right;\n",
       "    }\n",
       "</style>\n",
       "<table border=\"1\" class=\"dataframe\">\n",
       "  <thead>\n",
       "    <tr style=\"text-align: right;\">\n",
       "      <th></th>\n",
       "      <th>precision</th>\n",
       "      <th>recall</th>\n",
       "      <th>f1-score</th>\n",
       "      <th>support</th>\n",
       "    </tr>\n",
       "  </thead>\n",
       "  <tbody>\n",
       "    <tr>\n",
       "      <th>java</th>\n",
       "      <td>1.0</td>\n",
       "      <td>0.000000</td>\n",
       "      <td>0.000000</td>\n",
       "      <td>3558.0</td>\n",
       "    </tr>\n",
       "    <tr>\n",
       "      <th>c#</th>\n",
       "      <td>1.0</td>\n",
       "      <td>0.000000</td>\n",
       "      <td>0.000000</td>\n",
       "      <td>3473.0</td>\n",
       "    </tr>\n",
       "    <tr>\n",
       "      <th>javascript</th>\n",
       "      <td>1.0</td>\n",
       "      <td>0.000000</td>\n",
       "      <td>0.000000</td>\n",
       "      <td>3356.0</td>\n",
       "    </tr>\n",
       "    <tr>\n",
       "      <th>python</th>\n",
       "      <td>1.0</td>\n",
       "      <td>0.000000</td>\n",
       "      <td>0.000000</td>\n",
       "      <td>2612.0</td>\n",
       "    </tr>\n",
       "    <tr>\n",
       "      <th>android</th>\n",
       "      <td>1.0</td>\n",
       "      <td>0.000000</td>\n",
       "      <td>0.000000</td>\n",
       "      <td>2045.0</td>\n",
       "    </tr>\n",
       "    <tr>\n",
       "      <th>c++</th>\n",
       "      <td>1.0</td>\n",
       "      <td>0.000000</td>\n",
       "      <td>0.000000</td>\n",
       "      <td>1964.0</td>\n",
       "    </tr>\n",
       "    <tr>\n",
       "      <th>ios</th>\n",
       "      <td>1.0</td>\n",
       "      <td>0.000000</td>\n",
       "      <td>0.000000</td>\n",
       "      <td>1840.0</td>\n",
       "    </tr>\n",
       "    <tr>\n",
       "      <th>html</th>\n",
       "      <td>1.0</td>\n",
       "      <td>0.000000</td>\n",
       "      <td>0.000000</td>\n",
       "      <td>1755.0</td>\n",
       "    </tr>\n",
       "    <tr>\n",
       "      <th>php</th>\n",
       "      <td>1.0</td>\n",
       "      <td>0.000000</td>\n",
       "      <td>0.000000</td>\n",
       "      <td>1627.0</td>\n",
       "    </tr>\n",
       "    <tr>\n",
       "      <th>.net</th>\n",
       "      <td>1.0</td>\n",
       "      <td>0.000000</td>\n",
       "      <td>0.000000</td>\n",
       "      <td>1569.0</td>\n",
       "    </tr>\n",
       "    <tr>\n",
       "      <th>jquery</th>\n",
       "      <td>1.0</td>\n",
       "      <td>0.000000</td>\n",
       "      <td>0.000000</td>\n",
       "      <td>1538.0</td>\n",
       "    </tr>\n",
       "    <tr>\n",
       "      <th>css</th>\n",
       "      <td>1.0</td>\n",
       "      <td>0.000000</td>\n",
       "      <td>0.000000</td>\n",
       "      <td>1131.0</td>\n",
       "    </tr>\n",
       "    <tr>\n",
       "      <th>objective-c</th>\n",
       "      <td>1.0</td>\n",
       "      <td>0.000000</td>\n",
       "      <td>0.000000</td>\n",
       "      <td>888.0</td>\n",
       "    </tr>\n",
       "    <tr>\n",
       "      <th>c</th>\n",
       "      <td>1.0</td>\n",
       "      <td>0.000000</td>\n",
       "      <td>0.000000</td>\n",
       "      <td>885.0</td>\n",
       "    </tr>\n",
       "    <tr>\n",
       "      <th>sql</th>\n",
       "      <td>1.0</td>\n",
       "      <td>0.000000</td>\n",
       "      <td>0.000000</td>\n",
       "      <td>870.0</td>\n",
       "    </tr>\n",
       "    <tr>\n",
       "      <th>iphone</th>\n",
       "      <td>1.0</td>\n",
       "      <td>0.000000</td>\n",
       "      <td>0.000000</td>\n",
       "      <td>807.0</td>\n",
       "    </tr>\n",
       "    <tr>\n",
       "      <th>asp.net</th>\n",
       "      <td>1.0</td>\n",
       "      <td>0.000000</td>\n",
       "      <td>0.000000</td>\n",
       "      <td>805.0</td>\n",
       "    </tr>\n",
       "    <tr>\n",
       "      <th>mysql</th>\n",
       "      <td>1.0</td>\n",
       "      <td>0.000000</td>\n",
       "      <td>0.000000</td>\n",
       "      <td>685.0</td>\n",
       "    </tr>\n",
       "    <tr>\n",
       "      <th>linux</th>\n",
       "      <td>1.0</td>\n",
       "      <td>0.000000</td>\n",
       "      <td>0.000000</td>\n",
       "      <td>680.0</td>\n",
       "    </tr>\n",
       "    <tr>\n",
       "      <th>node.js</th>\n",
       "      <td>1.0</td>\n",
       "      <td>0.000000</td>\n",
       "      <td>0.000000</td>\n",
       "      <td>682.0</td>\n",
       "    </tr>\n",
       "    <tr>\n",
       "      <th>git</th>\n",
       "      <td>1.0</td>\n",
       "      <td>0.000000</td>\n",
       "      <td>0.000000</td>\n",
       "      <td>274.0</td>\n",
       "    </tr>\n",
       "    <tr>\n",
       "      <th>micro avg</th>\n",
       "      <td>1.0</td>\n",
       "      <td>0.000000</td>\n",
       "      <td>0.000000</td>\n",
       "      <td>33044.0</td>\n",
       "    </tr>\n",
       "    <tr>\n",
       "      <th>macro avg</th>\n",
       "      <td>1.0</td>\n",
       "      <td>0.000000</td>\n",
       "      <td>0.000000</td>\n",
       "      <td>33044.0</td>\n",
       "    </tr>\n",
       "    <tr>\n",
       "      <th>weighted avg</th>\n",
       "      <td>1.0</td>\n",
       "      <td>0.000000</td>\n",
       "      <td>0.000000</td>\n",
       "      <td>33044.0</td>\n",
       "    </tr>\n",
       "    <tr>\n",
       "      <th>samples avg</th>\n",
       "      <td>1.0</td>\n",
       "      <td>0.207322</td>\n",
       "      <td>0.207322</td>\n",
       "      <td>33044.0</td>\n",
       "    </tr>\n",
       "  </tbody>\n",
       "</table>\n",
       "</div>"
      ],
      "text/plain": [
       "              precision    recall  f1-score  support\n",
       "java                1.0  0.000000  0.000000   3558.0\n",
       "c#                  1.0  0.000000  0.000000   3473.0\n",
       "javascript          1.0  0.000000  0.000000   3356.0\n",
       "python              1.0  0.000000  0.000000   2612.0\n",
       "android             1.0  0.000000  0.000000   2045.0\n",
       "c++                 1.0  0.000000  0.000000   1964.0\n",
       "ios                 1.0  0.000000  0.000000   1840.0\n",
       "html                1.0  0.000000  0.000000   1755.0\n",
       "php                 1.0  0.000000  0.000000   1627.0\n",
       ".net                1.0  0.000000  0.000000   1569.0\n",
       "jquery              1.0  0.000000  0.000000   1538.0\n",
       "css                 1.0  0.000000  0.000000   1131.0\n",
       "objective-c         1.0  0.000000  0.000000    888.0\n",
       "c                   1.0  0.000000  0.000000    885.0\n",
       "sql                 1.0  0.000000  0.000000    870.0\n",
       "iphone              1.0  0.000000  0.000000    807.0\n",
       "asp.net             1.0  0.000000  0.000000    805.0\n",
       "mysql               1.0  0.000000  0.000000    685.0\n",
       "linux               1.0  0.000000  0.000000    680.0\n",
       "node.js             1.0  0.000000  0.000000    682.0\n",
       "git                 1.0  0.000000  0.000000    274.0\n",
       "micro avg           1.0  0.000000  0.000000  33044.0\n",
       "macro avg           1.0  0.000000  0.000000  33044.0\n",
       "weighted avg        1.0  0.000000  0.000000  33044.0\n",
       "samples avg         1.0  0.207322  0.207322  33044.0"
      ]
     },
     "execution_count": 18,
     "metadata": {},
     "output_type": "execute_result"
    }
   ],
   "source": [
    "save_score(\n",
    "    y_true=y_test,\n",
    "    y_pred=y_test.replace([True], False),\n",
    "    target_names=target_names,\n",
    "    zero_division=1,  # because TruePositif=0\n",
    ")"
   ]
  },
  {
   "cell_type": "markdown",
   "id": "f806d7c5",
   "metadata": {
    "papermill": {
     "duration": 0.017403,
     "end_time": "2023-01-04T21:54:04.724695",
     "exception": false,
     "start_time": "2023-01-04T21:54:04.707292",
     "status": "completed"
    },
    "tags": []
   },
   "source": [
    "Avec prédire toujours vrai"
   ]
  },
  {
   "cell_type": "code",
   "execution_count": 19,
   "id": "7aa47e39",
   "metadata": {
    "execution": {
     "iopub.execute_input": "2023-01-04T21:54:04.760645Z",
     "iopub.status.busy": "2023-01-04T21:54:04.760308Z",
     "iopub.status.idle": "2023-01-04T21:54:05.003990Z",
     "shell.execute_reply": "2023-01-04T21:54:05.003004Z"
    },
    "papermill": {
     "duration": 0.263877,
     "end_time": "2023-01-04T21:54:05.006042",
     "exception": false,
     "start_time": "2023-01-04T21:54:04.742165",
     "status": "completed"
    },
    "tags": []
   },
   "outputs": [
    {
     "data": {
      "text/html": [
       "<div>\n",
       "<style scoped>\n",
       "    .dataframe tbody tr th:only-of-type {\n",
       "        vertical-align: middle;\n",
       "    }\n",
       "\n",
       "    .dataframe tbody tr th {\n",
       "        vertical-align: top;\n",
       "    }\n",
       "\n",
       "    .dataframe thead th {\n",
       "        text-align: right;\n",
       "    }\n",
       "</style>\n",
       "<table border=\"1\" class=\"dataframe\">\n",
       "  <thead>\n",
       "    <tr style=\"text-align: right;\">\n",
       "      <th></th>\n",
       "      <th>precision</th>\n",
       "      <th>recall</th>\n",
       "      <th>f1-score</th>\n",
       "      <th>support</th>\n",
       "    </tr>\n",
       "  </thead>\n",
       "  <tbody>\n",
       "    <tr>\n",
       "      <th>java</th>\n",
       "      <td>0.120158</td>\n",
       "      <td>1.000000</td>\n",
       "      <td>0.214538</td>\n",
       "      <td>3558.0</td>\n",
       "    </tr>\n",
       "    <tr>\n",
       "      <th>c#</th>\n",
       "      <td>0.117287</td>\n",
       "      <td>1.000000</td>\n",
       "      <td>0.209950</td>\n",
       "      <td>3473.0</td>\n",
       "    </tr>\n",
       "    <tr>\n",
       "      <th>javascript</th>\n",
       "      <td>0.113336</td>\n",
       "      <td>1.000000</td>\n",
       "      <td>0.203598</td>\n",
       "      <td>3356.0</td>\n",
       "    </tr>\n",
       "    <tr>\n",
       "      <th>python</th>\n",
       "      <td>0.088210</td>\n",
       "      <td>1.000000</td>\n",
       "      <td>0.162120</td>\n",
       "      <td>2612.0</td>\n",
       "    </tr>\n",
       "    <tr>\n",
       "      <th>android</th>\n",
       "      <td>0.069062</td>\n",
       "      <td>1.000000</td>\n",
       "      <td>0.129201</td>\n",
       "      <td>2045.0</td>\n",
       "    </tr>\n",
       "    <tr>\n",
       "      <th>c++</th>\n",
       "      <td>0.066327</td>\n",
       "      <td>1.000000</td>\n",
       "      <td>0.124402</td>\n",
       "      <td>1964.0</td>\n",
       "    </tr>\n",
       "    <tr>\n",
       "      <th>ios</th>\n",
       "      <td>0.062139</td>\n",
       "      <td>1.000000</td>\n",
       "      <td>0.117007</td>\n",
       "      <td>1840.0</td>\n",
       "    </tr>\n",
       "    <tr>\n",
       "      <th>html</th>\n",
       "      <td>0.059269</td>\n",
       "      <td>1.000000</td>\n",
       "      <td>0.111905</td>\n",
       "      <td>1755.0</td>\n",
       "    </tr>\n",
       "    <tr>\n",
       "      <th>php</th>\n",
       "      <td>0.054946</td>\n",
       "      <td>1.000000</td>\n",
       "      <td>0.104168</td>\n",
       "      <td>1627.0</td>\n",
       "    </tr>\n",
       "    <tr>\n",
       "      <th>.net</th>\n",
       "      <td>0.052987</td>\n",
       "      <td>1.000000</td>\n",
       "      <td>0.100641</td>\n",
       "      <td>1569.0</td>\n",
       "    </tr>\n",
       "    <tr>\n",
       "      <th>jquery</th>\n",
       "      <td>0.051940</td>\n",
       "      <td>1.000000</td>\n",
       "      <td>0.098751</td>\n",
       "      <td>1538.0</td>\n",
       "    </tr>\n",
       "    <tr>\n",
       "      <th>css</th>\n",
       "      <td>0.038195</td>\n",
       "      <td>1.000000</td>\n",
       "      <td>0.073580</td>\n",
       "      <td>1131.0</td>\n",
       "    </tr>\n",
       "    <tr>\n",
       "      <th>objective-c</th>\n",
       "      <td>0.029989</td>\n",
       "      <td>1.000000</td>\n",
       "      <td>0.058231</td>\n",
       "      <td>888.0</td>\n",
       "    </tr>\n",
       "    <tr>\n",
       "      <th>c</th>\n",
       "      <td>0.029888</td>\n",
       "      <td>1.000000</td>\n",
       "      <td>0.058040</td>\n",
       "      <td>885.0</td>\n",
       "    </tr>\n",
       "    <tr>\n",
       "      <th>sql</th>\n",
       "      <td>0.029381</td>\n",
       "      <td>1.000000</td>\n",
       "      <td>0.057085</td>\n",
       "      <td>870.0</td>\n",
       "    </tr>\n",
       "    <tr>\n",
       "      <th>iphone</th>\n",
       "      <td>0.027253</td>\n",
       "      <td>1.000000</td>\n",
       "      <td>0.053061</td>\n",
       "      <td>807.0</td>\n",
       "    </tr>\n",
       "    <tr>\n",
       "      <th>asp.net</th>\n",
       "      <td>0.027186</td>\n",
       "      <td>1.000000</td>\n",
       "      <td>0.052933</td>\n",
       "      <td>805.0</td>\n",
       "    </tr>\n",
       "    <tr>\n",
       "      <th>mysql</th>\n",
       "      <td>0.023133</td>\n",
       "      <td>1.000000</td>\n",
       "      <td>0.045220</td>\n",
       "      <td>685.0</td>\n",
       "    </tr>\n",
       "    <tr>\n",
       "      <th>linux</th>\n",
       "      <td>0.022964</td>\n",
       "      <td>1.000000</td>\n",
       "      <td>0.044898</td>\n",
       "      <td>680.0</td>\n",
       "    </tr>\n",
       "    <tr>\n",
       "      <th>node.js</th>\n",
       "      <td>0.023032</td>\n",
       "      <td>1.000000</td>\n",
       "      <td>0.045027</td>\n",
       "      <td>682.0</td>\n",
       "    </tr>\n",
       "    <tr>\n",
       "      <th>git</th>\n",
       "      <td>0.009253</td>\n",
       "      <td>1.000000</td>\n",
       "      <td>0.018337</td>\n",
       "      <td>274.0</td>\n",
       "    </tr>\n",
       "    <tr>\n",
       "      <th>micro avg</th>\n",
       "      <td>0.053140</td>\n",
       "      <td>1.000000</td>\n",
       "      <td>0.100917</td>\n",
       "      <td>33044.0</td>\n",
       "    </tr>\n",
       "    <tr>\n",
       "      <th>macro avg</th>\n",
       "      <td>0.053140</td>\n",
       "      <td>1.000000</td>\n",
       "      <td>0.099176</td>\n",
       "      <td>33044.0</td>\n",
       "    </tr>\n",
       "    <tr>\n",
       "      <th>weighted avg</th>\n",
       "      <td>0.072731</td>\n",
       "      <td>1.000000</td>\n",
       "      <td>0.133680</td>\n",
       "      <td>33044.0</td>\n",
       "    </tr>\n",
       "    <tr>\n",
       "      <th>samples avg</th>\n",
       "      <td>0.053140</td>\n",
       "      <td>0.792678</td>\n",
       "      <td>0.098364</td>\n",
       "      <td>33044.0</td>\n",
       "    </tr>\n",
       "  </tbody>\n",
       "</table>\n",
       "</div>"
      ],
      "text/plain": [
       "              precision    recall  f1-score  support\n",
       "java           0.120158  1.000000  0.214538   3558.0\n",
       "c#             0.117287  1.000000  0.209950   3473.0\n",
       "javascript     0.113336  1.000000  0.203598   3356.0\n",
       "python         0.088210  1.000000  0.162120   2612.0\n",
       "android        0.069062  1.000000  0.129201   2045.0\n",
       "c++            0.066327  1.000000  0.124402   1964.0\n",
       "ios            0.062139  1.000000  0.117007   1840.0\n",
       "html           0.059269  1.000000  0.111905   1755.0\n",
       "php            0.054946  1.000000  0.104168   1627.0\n",
       ".net           0.052987  1.000000  0.100641   1569.0\n",
       "jquery         0.051940  1.000000  0.098751   1538.0\n",
       "css            0.038195  1.000000  0.073580   1131.0\n",
       "objective-c    0.029989  1.000000  0.058231    888.0\n",
       "c              0.029888  1.000000  0.058040    885.0\n",
       "sql            0.029381  1.000000  0.057085    870.0\n",
       "iphone         0.027253  1.000000  0.053061    807.0\n",
       "asp.net        0.027186  1.000000  0.052933    805.0\n",
       "mysql          0.023133  1.000000  0.045220    685.0\n",
       "linux          0.022964  1.000000  0.044898    680.0\n",
       "node.js        0.023032  1.000000  0.045027    682.0\n",
       "git            0.009253  1.000000  0.018337    274.0\n",
       "micro avg      0.053140  1.000000  0.100917  33044.0\n",
       "macro avg      0.053140  1.000000  0.099176  33044.0\n",
       "weighted avg   0.072731  1.000000  0.133680  33044.0\n",
       "samples avg    0.053140  0.792678  0.098364  33044.0"
      ]
     },
     "execution_count": 19,
     "metadata": {},
     "output_type": "execute_result"
    }
   ],
   "source": [
    "save_score(\n",
    "    y_true=y_test, y_pred=y_test.replace([False], True), target_names=target_names\n",
    ")"
   ]
  },
  {
   "cell_type": "markdown",
   "id": "66be0762",
   "metadata": {
    "papermill": {
     "duration": 0.01724,
     "end_time": "2023-01-04T21:54:05.041214",
     "exception": false,
     "start_time": "2023-01-04T21:54:05.023974",
     "status": "completed"
    },
    "tags": []
   },
   "source": [
    "### Methode naive le tag est dans la question:"
   ]
  },
  {
   "cell_type": "code",
   "execution_count": 20,
   "id": "3ac155d0",
   "metadata": {
    "execution": {
     "iopub.execute_input": "2023-01-04T21:54:05.078631Z",
     "iopub.status.busy": "2023-01-04T21:54:05.077090Z",
     "iopub.status.idle": "2023-01-04T21:54:05.728292Z",
     "shell.execute_reply": "2023-01-04T21:54:05.727351Z"
    },
    "papermill": {
     "duration": 0.671698,
     "end_time": "2023-01-04T21:54:05.730294",
     "exception": false,
     "start_time": "2023-01-04T21:54:05.058596",
     "status": "completed"
    },
    "tags": []
   },
   "outputs": [
    {
     "data": {
      "text/html": [
       "<div>\n",
       "<style scoped>\n",
       "    .dataframe tbody tr th:only-of-type {\n",
       "        vertical-align: middle;\n",
       "    }\n",
       "\n",
       "    .dataframe tbody tr th {\n",
       "        vertical-align: top;\n",
       "    }\n",
       "\n",
       "    .dataframe thead th {\n",
       "        text-align: right;\n",
       "    }\n",
       "</style>\n",
       "<table border=\"1\" class=\"dataframe\">\n",
       "  <thead>\n",
       "    <tr style=\"text-align: right;\">\n",
       "      <th></th>\n",
       "      <th>0</th>\n",
       "      <th>1</th>\n",
       "      <th>2</th>\n",
       "      <th>3</th>\n",
       "      <th>4</th>\n",
       "      <th>5</th>\n",
       "      <th>6</th>\n",
       "      <th>7</th>\n",
       "      <th>8</th>\n",
       "      <th>9</th>\n",
       "      <th>...</th>\n",
       "      <th>29601</th>\n",
       "      <th>29602</th>\n",
       "      <th>29603</th>\n",
       "      <th>29604</th>\n",
       "      <th>29605</th>\n",
       "      <th>29606</th>\n",
       "      <th>29607</th>\n",
       "      <th>29608</th>\n",
       "      <th>29609</th>\n",
       "      <th>29610</th>\n",
       "    </tr>\n",
       "  </thead>\n",
       "  <tbody>\n",
       "    <tr>\n",
       "      <th>java</th>\n",
       "      <td>False</td>\n",
       "      <td>False</td>\n",
       "      <td>False</td>\n",
       "      <td>False</td>\n",
       "      <td>True</td>\n",
       "      <td>False</td>\n",
       "      <td>False</td>\n",
       "      <td>False</td>\n",
       "      <td>False</td>\n",
       "      <td>False</td>\n",
       "      <td>...</td>\n",
       "      <td>False</td>\n",
       "      <td>False</td>\n",
       "      <td>False</td>\n",
       "      <td>False</td>\n",
       "      <td>False</td>\n",
       "      <td>False</td>\n",
       "      <td>False</td>\n",
       "      <td>False</td>\n",
       "      <td>False</td>\n",
       "      <td>False</td>\n",
       "    </tr>\n",
       "    <tr>\n",
       "      <th>c#</th>\n",
       "      <td>False</td>\n",
       "      <td>False</td>\n",
       "      <td>False</td>\n",
       "      <td>False</td>\n",
       "      <td>False</td>\n",
       "      <td>False</td>\n",
       "      <td>False</td>\n",
       "      <td>False</td>\n",
       "      <td>False</td>\n",
       "      <td>False</td>\n",
       "      <td>...</td>\n",
       "      <td>False</td>\n",
       "      <td>False</td>\n",
       "      <td>False</td>\n",
       "      <td>False</td>\n",
       "      <td>False</td>\n",
       "      <td>False</td>\n",
       "      <td>False</td>\n",
       "      <td>False</td>\n",
       "      <td>False</td>\n",
       "      <td>False</td>\n",
       "    </tr>\n",
       "    <tr>\n",
       "      <th>javascript</th>\n",
       "      <td>False</td>\n",
       "      <td>False</td>\n",
       "      <td>False</td>\n",
       "      <td>True</td>\n",
       "      <td>False</td>\n",
       "      <td>False</td>\n",
       "      <td>False</td>\n",
       "      <td>False</td>\n",
       "      <td>False</td>\n",
       "      <td>False</td>\n",
       "      <td>...</td>\n",
       "      <td>False</td>\n",
       "      <td>False</td>\n",
       "      <td>False</td>\n",
       "      <td>False</td>\n",
       "      <td>False</td>\n",
       "      <td>False</td>\n",
       "      <td>False</td>\n",
       "      <td>False</td>\n",
       "      <td>False</td>\n",
       "      <td>False</td>\n",
       "    </tr>\n",
       "    <tr>\n",
       "      <th>python</th>\n",
       "      <td>True</td>\n",
       "      <td>False</td>\n",
       "      <td>False</td>\n",
       "      <td>False</td>\n",
       "      <td>False</td>\n",
       "      <td>False</td>\n",
       "      <td>False</td>\n",
       "      <td>False</td>\n",
       "      <td>False</td>\n",
       "      <td>False</td>\n",
       "      <td>...</td>\n",
       "      <td>False</td>\n",
       "      <td>False</td>\n",
       "      <td>True</td>\n",
       "      <td>False</td>\n",
       "      <td>False</td>\n",
       "      <td>False</td>\n",
       "      <td>False</td>\n",
       "      <td>False</td>\n",
       "      <td>False</td>\n",
       "      <td>False</td>\n",
       "    </tr>\n",
       "    <tr>\n",
       "      <th>android</th>\n",
       "      <td>False</td>\n",
       "      <td>False</td>\n",
       "      <td>False</td>\n",
       "      <td>False</td>\n",
       "      <td>False</td>\n",
       "      <td>False</td>\n",
       "      <td>False</td>\n",
       "      <td>False</td>\n",
       "      <td>False</td>\n",
       "      <td>False</td>\n",
       "      <td>...</td>\n",
       "      <td>False</td>\n",
       "      <td>False</td>\n",
       "      <td>False</td>\n",
       "      <td>False</td>\n",
       "      <td>False</td>\n",
       "      <td>False</td>\n",
       "      <td>False</td>\n",
       "      <td>False</td>\n",
       "      <td>False</td>\n",
       "      <td>False</td>\n",
       "    </tr>\n",
       "    <tr>\n",
       "      <th>c++</th>\n",
       "      <td>False</td>\n",
       "      <td>False</td>\n",
       "      <td>False</td>\n",
       "      <td>False</td>\n",
       "      <td>True</td>\n",
       "      <td>False</td>\n",
       "      <td>False</td>\n",
       "      <td>False</td>\n",
       "      <td>False</td>\n",
       "      <td>False</td>\n",
       "      <td>...</td>\n",
       "      <td>False</td>\n",
       "      <td>False</td>\n",
       "      <td>False</td>\n",
       "      <td>False</td>\n",
       "      <td>False</td>\n",
       "      <td>False</td>\n",
       "      <td>False</td>\n",
       "      <td>False</td>\n",
       "      <td>False</td>\n",
       "      <td>False</td>\n",
       "    </tr>\n",
       "    <tr>\n",
       "      <th>ios</th>\n",
       "      <td>False</td>\n",
       "      <td>False</td>\n",
       "      <td>False</td>\n",
       "      <td>False</td>\n",
       "      <td>False</td>\n",
       "      <td>False</td>\n",
       "      <td>False</td>\n",
       "      <td>False</td>\n",
       "      <td>False</td>\n",
       "      <td>False</td>\n",
       "      <td>...</td>\n",
       "      <td>False</td>\n",
       "      <td>False</td>\n",
       "      <td>False</td>\n",
       "      <td>True</td>\n",
       "      <td>False</td>\n",
       "      <td>False</td>\n",
       "      <td>False</td>\n",
       "      <td>False</td>\n",
       "      <td>False</td>\n",
       "      <td>False</td>\n",
       "    </tr>\n",
       "    <tr>\n",
       "      <th>html</th>\n",
       "      <td>False</td>\n",
       "      <td>False</td>\n",
       "      <td>False</td>\n",
       "      <td>False</td>\n",
       "      <td>False</td>\n",
       "      <td>False</td>\n",
       "      <td>False</td>\n",
       "      <td>False</td>\n",
       "      <td>False</td>\n",
       "      <td>False</td>\n",
       "      <td>...</td>\n",
       "      <td>False</td>\n",
       "      <td>False</td>\n",
       "      <td>False</td>\n",
       "      <td>False</td>\n",
       "      <td>False</td>\n",
       "      <td>False</td>\n",
       "      <td>False</td>\n",
       "      <td>False</td>\n",
       "      <td>False</td>\n",
       "      <td>False</td>\n",
       "    </tr>\n",
       "    <tr>\n",
       "      <th>php</th>\n",
       "      <td>False</td>\n",
       "      <td>False</td>\n",
       "      <td>False</td>\n",
       "      <td>True</td>\n",
       "      <td>False</td>\n",
       "      <td>False</td>\n",
       "      <td>False</td>\n",
       "      <td>False</td>\n",
       "      <td>False</td>\n",
       "      <td>False</td>\n",
       "      <td>...</td>\n",
       "      <td>False</td>\n",
       "      <td>False</td>\n",
       "      <td>False</td>\n",
       "      <td>False</td>\n",
       "      <td>False</td>\n",
       "      <td>False</td>\n",
       "      <td>False</td>\n",
       "      <td>False</td>\n",
       "      <td>False</td>\n",
       "      <td>False</td>\n",
       "    </tr>\n",
       "    <tr>\n",
       "      <th>.net</th>\n",
       "      <td>False</td>\n",
       "      <td>False</td>\n",
       "      <td>False</td>\n",
       "      <td>False</td>\n",
       "      <td>False</td>\n",
       "      <td>False</td>\n",
       "      <td>False</td>\n",
       "      <td>False</td>\n",
       "      <td>False</td>\n",
       "      <td>False</td>\n",
       "      <td>...</td>\n",
       "      <td>False</td>\n",
       "      <td>False</td>\n",
       "      <td>False</td>\n",
       "      <td>False</td>\n",
       "      <td>False</td>\n",
       "      <td>False</td>\n",
       "      <td>False</td>\n",
       "      <td>False</td>\n",
       "      <td>False</td>\n",
       "      <td>False</td>\n",
       "    </tr>\n",
       "    <tr>\n",
       "      <th>jquery</th>\n",
       "      <td>False</td>\n",
       "      <td>False</td>\n",
       "      <td>False</td>\n",
       "      <td>False</td>\n",
       "      <td>False</td>\n",
       "      <td>False</td>\n",
       "      <td>False</td>\n",
       "      <td>False</td>\n",
       "      <td>False</td>\n",
       "      <td>False</td>\n",
       "      <td>...</td>\n",
       "      <td>False</td>\n",
       "      <td>False</td>\n",
       "      <td>False</td>\n",
       "      <td>False</td>\n",
       "      <td>False</td>\n",
       "      <td>False</td>\n",
       "      <td>False</td>\n",
       "      <td>False</td>\n",
       "      <td>False</td>\n",
       "      <td>False</td>\n",
       "    </tr>\n",
       "    <tr>\n",
       "      <th>css</th>\n",
       "      <td>False</td>\n",
       "      <td>False</td>\n",
       "      <td>False</td>\n",
       "      <td>False</td>\n",
       "      <td>False</td>\n",
       "      <td>False</td>\n",
       "      <td>False</td>\n",
       "      <td>False</td>\n",
       "      <td>False</td>\n",
       "      <td>False</td>\n",
       "      <td>...</td>\n",
       "      <td>False</td>\n",
       "      <td>False</td>\n",
       "      <td>False</td>\n",
       "      <td>False</td>\n",
       "      <td>False</td>\n",
       "      <td>False</td>\n",
       "      <td>False</td>\n",
       "      <td>False</td>\n",
       "      <td>False</td>\n",
       "      <td>False</td>\n",
       "    </tr>\n",
       "    <tr>\n",
       "      <th>objective-c</th>\n",
       "      <td>False</td>\n",
       "      <td>False</td>\n",
       "      <td>False</td>\n",
       "      <td>False</td>\n",
       "      <td>False</td>\n",
       "      <td>False</td>\n",
       "      <td>False</td>\n",
       "      <td>False</td>\n",
       "      <td>False</td>\n",
       "      <td>False</td>\n",
       "      <td>...</td>\n",
       "      <td>False</td>\n",
       "      <td>False</td>\n",
       "      <td>False</td>\n",
       "      <td>False</td>\n",
       "      <td>False</td>\n",
       "      <td>False</td>\n",
       "      <td>False</td>\n",
       "      <td>False</td>\n",
       "      <td>False</td>\n",
       "      <td>False</td>\n",
       "    </tr>\n",
       "    <tr>\n",
       "      <th>c</th>\n",
       "      <td>False</td>\n",
       "      <td>False</td>\n",
       "      <td>False</td>\n",
       "      <td>False</td>\n",
       "      <td>True</td>\n",
       "      <td>False</td>\n",
       "      <td>False</td>\n",
       "      <td>False</td>\n",
       "      <td>False</td>\n",
       "      <td>False</td>\n",
       "      <td>...</td>\n",
       "      <td>False</td>\n",
       "      <td>False</td>\n",
       "      <td>False</td>\n",
       "      <td>False</td>\n",
       "      <td>False</td>\n",
       "      <td>False</td>\n",
       "      <td>False</td>\n",
       "      <td>True</td>\n",
       "      <td>False</td>\n",
       "      <td>False</td>\n",
       "    </tr>\n",
       "    <tr>\n",
       "      <th>sql</th>\n",
       "      <td>False</td>\n",
       "      <td>False</td>\n",
       "      <td>True</td>\n",
       "      <td>False</td>\n",
       "      <td>False</td>\n",
       "      <td>False</td>\n",
       "      <td>False</td>\n",
       "      <td>False</td>\n",
       "      <td>False</td>\n",
       "      <td>False</td>\n",
       "      <td>...</td>\n",
       "      <td>False</td>\n",
       "      <td>False</td>\n",
       "      <td>False</td>\n",
       "      <td>False</td>\n",
       "      <td>False</td>\n",
       "      <td>True</td>\n",
       "      <td>False</td>\n",
       "      <td>False</td>\n",
       "      <td>False</td>\n",
       "      <td>False</td>\n",
       "    </tr>\n",
       "    <tr>\n",
       "      <th>iphone</th>\n",
       "      <td>False</td>\n",
       "      <td>False</td>\n",
       "      <td>False</td>\n",
       "      <td>False</td>\n",
       "      <td>False</td>\n",
       "      <td>False</td>\n",
       "      <td>False</td>\n",
       "      <td>False</td>\n",
       "      <td>False</td>\n",
       "      <td>False</td>\n",
       "      <td>...</td>\n",
       "      <td>False</td>\n",
       "      <td>False</td>\n",
       "      <td>False</td>\n",
       "      <td>True</td>\n",
       "      <td>False</td>\n",
       "      <td>False</td>\n",
       "      <td>False</td>\n",
       "      <td>False</td>\n",
       "      <td>False</td>\n",
       "      <td>False</td>\n",
       "    </tr>\n",
       "    <tr>\n",
       "      <th>asp.net</th>\n",
       "      <td>False</td>\n",
       "      <td>False</td>\n",
       "      <td>False</td>\n",
       "      <td>False</td>\n",
       "      <td>False</td>\n",
       "      <td>False</td>\n",
       "      <td>False</td>\n",
       "      <td>False</td>\n",
       "      <td>False</td>\n",
       "      <td>False</td>\n",
       "      <td>...</td>\n",
       "      <td>False</td>\n",
       "      <td>False</td>\n",
       "      <td>False</td>\n",
       "      <td>False</td>\n",
       "      <td>False</td>\n",
       "      <td>False</td>\n",
       "      <td>False</td>\n",
       "      <td>False</td>\n",
       "      <td>False</td>\n",
       "      <td>False</td>\n",
       "    </tr>\n",
       "    <tr>\n",
       "      <th>mysql</th>\n",
       "      <td>False</td>\n",
       "      <td>False</td>\n",
       "      <td>True</td>\n",
       "      <td>False</td>\n",
       "      <td>False</td>\n",
       "      <td>False</td>\n",
       "      <td>False</td>\n",
       "      <td>False</td>\n",
       "      <td>False</td>\n",
       "      <td>False</td>\n",
       "      <td>...</td>\n",
       "      <td>False</td>\n",
       "      <td>False</td>\n",
       "      <td>False</td>\n",
       "      <td>False</td>\n",
       "      <td>False</td>\n",
       "      <td>False</td>\n",
       "      <td>False</td>\n",
       "      <td>False</td>\n",
       "      <td>False</td>\n",
       "      <td>False</td>\n",
       "    </tr>\n",
       "    <tr>\n",
       "      <th>linux</th>\n",
       "      <td>False</td>\n",
       "      <td>False</td>\n",
       "      <td>False</td>\n",
       "      <td>False</td>\n",
       "      <td>False</td>\n",
       "      <td>True</td>\n",
       "      <td>False</td>\n",
       "      <td>False</td>\n",
       "      <td>False</td>\n",
       "      <td>False</td>\n",
       "      <td>...</td>\n",
       "      <td>False</td>\n",
       "      <td>False</td>\n",
       "      <td>False</td>\n",
       "      <td>False</td>\n",
       "      <td>False</td>\n",
       "      <td>False</td>\n",
       "      <td>False</td>\n",
       "      <td>False</td>\n",
       "      <td>False</td>\n",
       "      <td>True</td>\n",
       "    </tr>\n",
       "    <tr>\n",
       "      <th>node.js</th>\n",
       "      <td>False</td>\n",
       "      <td>False</td>\n",
       "      <td>False</td>\n",
       "      <td>False</td>\n",
       "      <td>False</td>\n",
       "      <td>False</td>\n",
       "      <td>False</td>\n",
       "      <td>False</td>\n",
       "      <td>False</td>\n",
       "      <td>False</td>\n",
       "      <td>...</td>\n",
       "      <td>False</td>\n",
       "      <td>False</td>\n",
       "      <td>False</td>\n",
       "      <td>False</td>\n",
       "      <td>False</td>\n",
       "      <td>False</td>\n",
       "      <td>False</td>\n",
       "      <td>False</td>\n",
       "      <td>False</td>\n",
       "      <td>False</td>\n",
       "    </tr>\n",
       "    <tr>\n",
       "      <th>git</th>\n",
       "      <td>False</td>\n",
       "      <td>False</td>\n",
       "      <td>False</td>\n",
       "      <td>False</td>\n",
       "      <td>False</td>\n",
       "      <td>False</td>\n",
       "      <td>False</td>\n",
       "      <td>False</td>\n",
       "      <td>False</td>\n",
       "      <td>False</td>\n",
       "      <td>...</td>\n",
       "      <td>False</td>\n",
       "      <td>False</td>\n",
       "      <td>False</td>\n",
       "      <td>False</td>\n",
       "      <td>False</td>\n",
       "      <td>False</td>\n",
       "      <td>False</td>\n",
       "      <td>False</td>\n",
       "      <td>False</td>\n",
       "      <td>False</td>\n",
       "    </tr>\n",
       "  </tbody>\n",
       "</table>\n",
       "<p>21 rows × 29611 columns</p>\n",
       "</div>"
      ],
      "text/plain": [
       "             0      1      2      3      4      5      6      7      8      \\\n",
       "java         False  False  False  False   True  False  False  False  False   \n",
       "c#           False  False  False  False  False  False  False  False  False   \n",
       "javascript   False  False  False   True  False  False  False  False  False   \n",
       "python        True  False  False  False  False  False  False  False  False   \n",
       "android      False  False  False  False  False  False  False  False  False   \n",
       "c++          False  False  False  False   True  False  False  False  False   \n",
       "ios          False  False  False  False  False  False  False  False  False   \n",
       "html         False  False  False  False  False  False  False  False  False   \n",
       "php          False  False  False   True  False  False  False  False  False   \n",
       ".net         False  False  False  False  False  False  False  False  False   \n",
       "jquery       False  False  False  False  False  False  False  False  False   \n",
       "css          False  False  False  False  False  False  False  False  False   \n",
       "objective-c  False  False  False  False  False  False  False  False  False   \n",
       "c            False  False  False  False   True  False  False  False  False   \n",
       "sql          False  False   True  False  False  False  False  False  False   \n",
       "iphone       False  False  False  False  False  False  False  False  False   \n",
       "asp.net      False  False  False  False  False  False  False  False  False   \n",
       "mysql        False  False   True  False  False  False  False  False  False   \n",
       "linux        False  False  False  False  False   True  False  False  False   \n",
       "node.js      False  False  False  False  False  False  False  False  False   \n",
       "git          False  False  False  False  False  False  False  False  False   \n",
       "\n",
       "             9      ...  29601  29602  29603  29604  29605  29606  29607  \\\n",
       "java         False  ...  False  False  False  False  False  False  False   \n",
       "c#           False  ...  False  False  False  False  False  False  False   \n",
       "javascript   False  ...  False  False  False  False  False  False  False   \n",
       "python       False  ...  False  False   True  False  False  False  False   \n",
       "android      False  ...  False  False  False  False  False  False  False   \n",
       "c++          False  ...  False  False  False  False  False  False  False   \n",
       "ios          False  ...  False  False  False   True  False  False  False   \n",
       "html         False  ...  False  False  False  False  False  False  False   \n",
       "php          False  ...  False  False  False  False  False  False  False   \n",
       ".net         False  ...  False  False  False  False  False  False  False   \n",
       "jquery       False  ...  False  False  False  False  False  False  False   \n",
       "css          False  ...  False  False  False  False  False  False  False   \n",
       "objective-c  False  ...  False  False  False  False  False  False  False   \n",
       "c            False  ...  False  False  False  False  False  False  False   \n",
       "sql          False  ...  False  False  False  False  False   True  False   \n",
       "iphone       False  ...  False  False  False   True  False  False  False   \n",
       "asp.net      False  ...  False  False  False  False  False  False  False   \n",
       "mysql        False  ...  False  False  False  False  False  False  False   \n",
       "linux        False  ...  False  False  False  False  False  False  False   \n",
       "node.js      False  ...  False  False  False  False  False  False  False   \n",
       "git          False  ...  False  False  False  False  False  False  False   \n",
       "\n",
       "             29608  29609  29610  \n",
       "java         False  False  False  \n",
       "c#           False  False  False  \n",
       "javascript   False  False  False  \n",
       "python       False  False  False  \n",
       "android      False  False  False  \n",
       "c++          False  False  False  \n",
       "ios          False  False  False  \n",
       "html         False  False  False  \n",
       "php          False  False  False  \n",
       ".net         False  False  False  \n",
       "jquery       False  False  False  \n",
       "css          False  False  False  \n",
       "objective-c  False  False  False  \n",
       "c             True  False  False  \n",
       "sql          False  False  False  \n",
       "iphone       False  False  False  \n",
       "asp.net      False  False  False  \n",
       "mysql        False  False  False  \n",
       "linux        False  False   True  \n",
       "node.js      False  False  False  \n",
       "git          False  False  False  \n",
       "\n",
       "[21 rows x 29611 columns]"
      ]
     },
     "execution_count": 20,
     "metadata": {},
     "output_type": "execute_result"
    }
   ],
   "source": [
    "test_str = X_test.str\n",
    "pred_is_in = pd.DataFrame(\n",
    "    {\n",
    "        target_name: test_str.contains(\n",
    "            f\" {target_name} \", case=False, regex=False\n",
    "        ).values\n",
    "        for target_name in target_names\n",
    "    }\n",
    ")\n",
    "pred_is_in.T"
   ]
  },
  {
   "cell_type": "code",
   "execution_count": 21,
   "id": "69be466f",
   "metadata": {
    "execution": {
     "iopub.execute_input": "2023-01-04T21:54:05.768827Z",
     "iopub.status.busy": "2023-01-04T21:54:05.768501Z",
     "iopub.status.idle": "2023-01-04T21:54:05.841411Z",
     "shell.execute_reply": "2023-01-04T21:54:05.840350Z"
    },
    "papermill": {
     "duration": 0.093952,
     "end_time": "2023-01-04T21:54:05.843424",
     "exception": false,
     "start_time": "2023-01-04T21:54:05.749472",
     "status": "completed"
    },
    "tags": []
   },
   "outputs": [
    {
     "data": {
      "text/html": [
       "<div>\n",
       "<style scoped>\n",
       "    .dataframe tbody tr th:only-of-type {\n",
       "        vertical-align: middle;\n",
       "    }\n",
       "\n",
       "    .dataframe tbody tr th {\n",
       "        vertical-align: top;\n",
       "    }\n",
       "\n",
       "    .dataframe thead th {\n",
       "        text-align: right;\n",
       "    }\n",
       "</style>\n",
       "<table border=\"1\" class=\"dataframe\">\n",
       "  <thead>\n",
       "    <tr style=\"text-align: right;\">\n",
       "      <th></th>\n",
       "      <th>precision</th>\n",
       "      <th>recall</th>\n",
       "      <th>f1-score</th>\n",
       "      <th>support</th>\n",
       "    </tr>\n",
       "  </thead>\n",
       "  <tbody>\n",
       "    <tr>\n",
       "      <th>git</th>\n",
       "      <td>0.716846</td>\n",
       "      <td>0.729927</td>\n",
       "      <td>0.723327</td>\n",
       "      <td>274.0</td>\n",
       "    </tr>\n",
       "    <tr>\n",
       "      <th>mysql</th>\n",
       "      <td>0.723949</td>\n",
       "      <td>0.578102</td>\n",
       "      <td>0.642857</td>\n",
       "      <td>685.0</td>\n",
       "    </tr>\n",
       "    <tr>\n",
       "      <th>python</th>\n",
       "      <td>0.878273</td>\n",
       "      <td>0.475115</td>\n",
       "      <td>0.616646</td>\n",
       "      <td>2612.0</td>\n",
       "    </tr>\n",
       "    <tr>\n",
       "      <th>php</th>\n",
       "      <td>0.827292</td>\n",
       "      <td>0.476951</td>\n",
       "      <td>0.605068</td>\n",
       "      <td>1627.0</td>\n",
       "    </tr>\n",
       "    <tr>\n",
       "      <th>android</th>\n",
       "      <td>0.851163</td>\n",
       "      <td>0.447433</td>\n",
       "      <td>0.586538</td>\n",
       "      <td>2045.0</td>\n",
       "    </tr>\n",
       "    <tr>\n",
       "      <th>jquery</th>\n",
       "      <td>0.796804</td>\n",
       "      <td>0.453836</td>\n",
       "      <td>0.578293</td>\n",
       "      <td>1538.0</td>\n",
       "    </tr>\n",
       "    <tr>\n",
       "      <th>css</th>\n",
       "      <td>0.714670</td>\n",
       "      <td>0.469496</td>\n",
       "      <td>0.566702</td>\n",
       "      <td>1131.0</td>\n",
       "    </tr>\n",
       "    <tr>\n",
       "      <th>c++</th>\n",
       "      <td>0.805702</td>\n",
       "      <td>0.388493</td>\n",
       "      <td>0.524218</td>\n",
       "      <td>1964.0</td>\n",
       "    </tr>\n",
       "    <tr>\n",
       "      <th>java</th>\n",
       "      <td>0.766089</td>\n",
       "      <td>0.347948</td>\n",
       "      <td>0.478547</td>\n",
       "      <td>3558.0</td>\n",
       "    </tr>\n",
       "    <tr>\n",
       "      <th>linux</th>\n",
       "      <td>0.458265</td>\n",
       "      <td>0.411765</td>\n",
       "      <td>0.433772</td>\n",
       "      <td>680.0</td>\n",
       "    </tr>\n",
       "    <tr>\n",
       "      <th>micro avg</th>\n",
       "      <td>0.642411</td>\n",
       "      <td>0.326746</td>\n",
       "      <td>0.433171</td>\n",
       "      <td>33044.0</td>\n",
       "    </tr>\n",
       "    <tr>\n",
       "      <th>macro avg</th>\n",
       "      <td>0.604087</td>\n",
       "      <td>0.360648</td>\n",
       "      <td>0.429556</td>\n",
       "      <td>33044.0</td>\n",
       "    </tr>\n",
       "    <tr>\n",
       "      <th>sql</th>\n",
       "      <td>0.412766</td>\n",
       "      <td>0.445977</td>\n",
       "      <td>0.428729</td>\n",
       "      <td>870.0</td>\n",
       "    </tr>\n",
       "    <tr>\n",
       "      <th>html</th>\n",
       "      <td>0.481022</td>\n",
       "      <td>0.375499</td>\n",
       "      <td>0.421760</td>\n",
       "      <td>1755.0</td>\n",
       "    </tr>\n",
       "    <tr>\n",
       "      <th>weighted avg</th>\n",
       "      <td>0.618122</td>\n",
       "      <td>0.326746</td>\n",
       "      <td>0.413810</td>\n",
       "      <td>33044.0</td>\n",
       "    </tr>\n",
       "    <tr>\n",
       "      <th>asp.net</th>\n",
       "      <td>0.524096</td>\n",
       "      <td>0.324224</td>\n",
       "      <td>0.400614</td>\n",
       "      <td>805.0</td>\n",
       "    </tr>\n",
       "    <tr>\n",
       "      <th>iphone</th>\n",
       "      <td>0.578947</td>\n",
       "      <td>0.299876</td>\n",
       "      <td>0.395102</td>\n",
       "      <td>807.0</td>\n",
       "    </tr>\n",
       "    <tr>\n",
       "      <th>javascript</th>\n",
       "      <td>0.766812</td>\n",
       "      <td>0.261621</td>\n",
       "      <td>0.390136</td>\n",
       "      <td>3356.0</td>\n",
       "    </tr>\n",
       "    <tr>\n",
       "      <th>ios</th>\n",
       "      <td>0.768456</td>\n",
       "      <td>0.248913</td>\n",
       "      <td>0.376026</td>\n",
       "      <td>1840.0</td>\n",
       "    </tr>\n",
       "    <tr>\n",
       "      <th>.net</th>\n",
       "      <td>0.536657</td>\n",
       "      <td>0.233270</td>\n",
       "      <td>0.325189</td>\n",
       "      <td>1569.0</td>\n",
       "    </tr>\n",
       "    <tr>\n",
       "      <th>c</th>\n",
       "      <td>0.205295</td>\n",
       "      <td>0.464407</td>\n",
       "      <td>0.284725</td>\n",
       "      <td>885.0</td>\n",
       "    </tr>\n",
       "    <tr>\n",
       "      <th>samples avg</th>\n",
       "      <td>0.283512</td>\n",
       "      <td>0.263238</td>\n",
       "      <td>0.262590</td>\n",
       "      <td>33044.0</td>\n",
       "    </tr>\n",
       "    <tr>\n",
       "      <th>node.js</th>\n",
       "      <td>0.872727</td>\n",
       "      <td>0.140762</td>\n",
       "      <td>0.242424</td>\n",
       "      <td>682.0</td>\n",
       "    </tr>\n",
       "    <tr>\n",
       "      <th>c#</th>\n",
       "      <td>0.000000</td>\n",
       "      <td>0.000000</td>\n",
       "      <td>0.000000</td>\n",
       "      <td>3473.0</td>\n",
       "    </tr>\n",
       "    <tr>\n",
       "      <th>objective-c</th>\n",
       "      <td>0.000000</td>\n",
       "      <td>0.000000</td>\n",
       "      <td>0.000000</td>\n",
       "      <td>888.0</td>\n",
       "    </tr>\n",
       "  </tbody>\n",
       "</table>\n",
       "</div>"
      ],
      "text/plain": [
       "              precision    recall  f1-score  support\n",
       "git            0.716846  0.729927  0.723327    274.0\n",
       "mysql          0.723949  0.578102  0.642857    685.0\n",
       "python         0.878273  0.475115  0.616646   2612.0\n",
       "php            0.827292  0.476951  0.605068   1627.0\n",
       "android        0.851163  0.447433  0.586538   2045.0\n",
       "jquery         0.796804  0.453836  0.578293   1538.0\n",
       "css            0.714670  0.469496  0.566702   1131.0\n",
       "c++            0.805702  0.388493  0.524218   1964.0\n",
       "java           0.766089  0.347948  0.478547   3558.0\n",
       "linux          0.458265  0.411765  0.433772    680.0\n",
       "micro avg      0.642411  0.326746  0.433171  33044.0\n",
       "macro avg      0.604087  0.360648  0.429556  33044.0\n",
       "sql            0.412766  0.445977  0.428729    870.0\n",
       "html           0.481022  0.375499  0.421760   1755.0\n",
       "weighted avg   0.618122  0.326746  0.413810  33044.0\n",
       "asp.net        0.524096  0.324224  0.400614    805.0\n",
       "iphone         0.578947  0.299876  0.395102    807.0\n",
       "javascript     0.766812  0.261621  0.390136   3356.0\n",
       "ios            0.768456  0.248913  0.376026   1840.0\n",
       ".net           0.536657  0.233270  0.325189   1569.0\n",
       "c              0.205295  0.464407  0.284725    885.0\n",
       "samples avg    0.283512  0.263238  0.262590  33044.0\n",
       "node.js        0.872727  0.140762  0.242424    682.0\n",
       "c#             0.000000  0.000000  0.000000   3473.0\n",
       "objective-c    0.000000  0.000000  0.000000    888.0"
      ]
     },
     "execution_count": 21,
     "metadata": {},
     "output_type": "execute_result"
    }
   ],
   "source": [
    "score_naive_is_in = save_score(y_test, pred_is_in, target_names, \"naive_is_in\")\n",
    "score_naive_is_in.sort_values(by=\"f1-score\", ascending=False)"
   ]
  },
  {
   "cell_type": "code",
   "execution_count": 22,
   "id": "47fcb210",
   "metadata": {
    "execution": {
     "iopub.execute_input": "2023-01-04T21:54:05.882565Z",
     "iopub.status.busy": "2023-01-04T21:54:05.881610Z",
     "iopub.status.idle": "2023-01-04T21:54:05.947699Z",
     "shell.execute_reply": "2023-01-04T21:54:05.946758Z"
    },
    "papermill": {
     "duration": 0.08738,
     "end_time": "2023-01-04T21:54:05.949764",
     "exception": false,
     "start_time": "2023-01-04T21:54:05.862384",
     "status": "completed"
    },
    "tags": []
   },
   "outputs": [
    {
     "name": "stdout",
     "output_type": "stream",
     "text": [
      "\u001b[1mjava\u001b[0m\n",
      "\t Sur entrainement \u001b[92m12.05%\u001b[0m positif \u001b[91m87.95%\u001b[0m negatif\n",
      "\t Sur test \u001b[92m12.02%\u001b[0m positif \u001b[91m87.98%\u001b[0m negatif\n",
      "\n",
      "\n",
      "\u001b[1mc#\u001b[0m\n",
      "\t Sur entrainement \u001b[92m11.80%\u001b[0m positif \u001b[91m88.20%\u001b[0m negatif\n",
      "\t Sur test \u001b[92m11.73%\u001b[0m positif \u001b[91m88.27%\u001b[0m negatif\n",
      "\n",
      "\n",
      "\u001b[1mjavascript\u001b[0m\n",
      "\t Sur entrainement \u001b[92m11.77%\u001b[0m positif \u001b[91m88.23%\u001b[0m negatif\n",
      "\t Sur test \u001b[92m11.33%\u001b[0m positif \u001b[91m88.67%\u001b[0m negatif\n",
      "\n",
      "\n",
      "\u001b[1mpython\u001b[0m\n",
      "\t Sur entrainement \u001b[92m8.61%\u001b[0m positif \u001b[91m91.39%\u001b[0m negatif\n",
      "\t Sur test \u001b[92m8.82%\u001b[0m positif \u001b[91m91.18%\u001b[0m negatif\n",
      "\n",
      "\n",
      "\u001b[1mandroid\u001b[0m\n",
      "\t Sur entrainement \u001b[92m7.00%\u001b[0m positif \u001b[91m93.00%\u001b[0m negatif\n",
      "\t Sur test \u001b[92m6.91%\u001b[0m positif \u001b[91m93.09%\u001b[0m negatif\n",
      "\n",
      "\n",
      "\u001b[1mc++\u001b[0m\n",
      "\t Sur entrainement \u001b[92m6.63%\u001b[0m positif \u001b[91m93.37%\u001b[0m negatif\n",
      "\t Sur test \u001b[92m6.63%\u001b[0m positif \u001b[91m93.37%\u001b[0m negatif\n",
      "\n",
      "\n",
      "\u001b[1mios\u001b[0m\n",
      "\t Sur entrainement \u001b[92m6.25%\u001b[0m positif \u001b[91m93.75%\u001b[0m negatif\n",
      "\t Sur test \u001b[92m6.21%\u001b[0m positif \u001b[91m93.79%\u001b[0m negatif\n",
      "\n",
      "\n",
      "\u001b[1mhtml\u001b[0m\n",
      "\t Sur entrainement \u001b[92m5.85%\u001b[0m positif \u001b[91m94.15%\u001b[0m negatif\n",
      "\t Sur test \u001b[92m5.93%\u001b[0m positif \u001b[91m94.07%\u001b[0m negatif\n",
      "\n",
      "\n",
      "\u001b[1mphp\u001b[0m\n",
      "\t Sur entrainement \u001b[92m5.56%\u001b[0m positif \u001b[91m94.44%\u001b[0m negatif\n",
      "\t Sur test \u001b[92m5.49%\u001b[0m positif \u001b[91m94.51%\u001b[0m negatif\n",
      "\n",
      "\n",
      "\u001b[1m.net\u001b[0m\n",
      "\t Sur entrainement \u001b[92m5.34%\u001b[0m positif \u001b[91m94.66%\u001b[0m negatif\n",
      "\t Sur test \u001b[92m5.30%\u001b[0m positif \u001b[91m94.70%\u001b[0m negatif\n",
      "\n",
      "\n",
      "\u001b[1mjquery\u001b[0m\n",
      "\t Sur entrainement \u001b[92m5.36%\u001b[0m positif \u001b[91m94.64%\u001b[0m negatif\n",
      "\t Sur test \u001b[92m5.19%\u001b[0m positif \u001b[91m94.81%\u001b[0m negatif\n",
      "\n",
      "\n",
      "\u001b[1mcss\u001b[0m\n",
      "\t Sur entrainement \u001b[92m3.77%\u001b[0m positif \u001b[91m96.23%\u001b[0m negatif\n",
      "\t Sur test \u001b[92m3.82%\u001b[0m positif \u001b[91m96.18%\u001b[0m negatif\n",
      "\n",
      "\n",
      "\u001b[1mobjective-c\u001b[0m\n",
      "\t Sur entrainement \u001b[92m3.08%\u001b[0m positif \u001b[91m96.92%\u001b[0m negatif\n",
      "\t Sur test \u001b[92m3.00%\u001b[0m positif \u001b[91m97.00%\u001b[0m negatif\n",
      "\n",
      "\n",
      "\u001b[1mc\u001b[0m\n",
      "\t Sur entrainement \u001b[92m3.08%\u001b[0m positif \u001b[91m96.92%\u001b[0m negatif\n",
      "\t Sur test \u001b[92m2.99%\u001b[0m positif \u001b[91m97.01%\u001b[0m negatif\n",
      "\n",
      "\n",
      "\u001b[1msql\u001b[0m\n",
      "\t Sur entrainement \u001b[92m3.00%\u001b[0m positif \u001b[91m97.00%\u001b[0m negatif\n",
      "\t Sur test \u001b[92m2.94%\u001b[0m positif \u001b[91m97.06%\u001b[0m negatif\n",
      "\n",
      "\n",
      "\u001b[1miphone\u001b[0m\n",
      "\t Sur entrainement \u001b[92m2.79%\u001b[0m positif \u001b[91m97.21%\u001b[0m negatif\n",
      "\t Sur test \u001b[92m2.73%\u001b[0m positif \u001b[91m97.27%\u001b[0m negatif\n",
      "\n",
      "\n",
      "\u001b[1masp.net\u001b[0m\n",
      "\t Sur entrainement \u001b[92m2.73%\u001b[0m positif \u001b[91m97.27%\u001b[0m negatif\n",
      "\t Sur test \u001b[92m2.72%\u001b[0m positif \u001b[91m97.28%\u001b[0m negatif\n",
      "\n",
      "\n",
      "\u001b[1mmysql\u001b[0m\n",
      "\t Sur entrainement \u001b[92m2.37%\u001b[0m positif \u001b[91m97.63%\u001b[0m negatif\n",
      "\t Sur test \u001b[92m2.31%\u001b[0m positif \u001b[91m97.69%\u001b[0m negatif\n",
      "\n",
      "\n",
      "\u001b[1mlinux\u001b[0m\n",
      "\t Sur entrainement \u001b[92m2.34%\u001b[0m positif \u001b[91m97.66%\u001b[0m negatif\n",
      "\t Sur test \u001b[92m2.30%\u001b[0m positif \u001b[91m97.70%\u001b[0m negatif\n",
      "\n",
      "\n",
      "\u001b[1mnode.js\u001b[0m\n",
      "\t Sur entrainement \u001b[92m2.29%\u001b[0m positif \u001b[91m97.71%\u001b[0m negatif\n",
      "\t Sur test \u001b[92m2.30%\u001b[0m positif \u001b[91m97.70%\u001b[0m negatif\n",
      "\n",
      "\n",
      "\u001b[1mgit\u001b[0m\n",
      "\t Sur entrainement \u001b[92m0.95%\u001b[0m positif \u001b[91m99.05%\u001b[0m negatif\n",
      "\t Sur test \u001b[92m0.93%\u001b[0m positif \u001b[91m99.07%\u001b[0m negatif\n",
      "\n",
      "\n"
     ]
    }
   ],
   "source": [
    "for column in y_train.columns:\n",
    "    t_train = y_train[column].value_counts(normalize=True)\n",
    "    t_test = y_test[column].value_counts(normalize=True)\n",
    "    print(f\"{colors.BOLD}{column}{colors.ENDC}\")\n",
    "    print(\n",
    "        f\"\\t Sur entrainement {colors.GREEN}{t_train[True]:.2%}{colors.ENDC} positif {colors.RED}{t_train[False]:.2%}{colors.ENDC} negatif\"\n",
    "    )\n",
    "    print(\n",
    "        f\"\\t Sur test {colors.GREEN}{t_test[True]:.2%}{colors.ENDC} positif {colors.RED}{t_test[False]:.2%}{colors.ENDC} negatif\"\n",
    "    )\n",
    "    print(\"\\n\")"
   ]
  },
  {
   "cell_type": "markdown",
   "id": "305065f6",
   "metadata": {
    "papermill": {
     "duration": 0.018418,
     "end_time": "2023-01-04T21:54:05.986908",
     "exception": false,
     "start_time": "2023-01-04T21:54:05.968490",
     "status": "completed"
    },
    "tags": []
   },
   "source": [
    "# CountVectorizer"
   ]
  },
  {
   "cell_type": "code",
   "execution_count": 23,
   "id": "ac34326d",
   "metadata": {
    "execution": {
     "iopub.execute_input": "2023-01-04T21:54:06.025491Z",
     "iopub.status.busy": "2023-01-04T21:54:06.024765Z",
     "iopub.status.idle": "2023-01-04T21:54:10.192945Z",
     "shell.execute_reply": "2023-01-04T21:54:10.191923Z"
    },
    "papermill": {
     "duration": 4.189736,
     "end_time": "2023-01-04T21:54:10.195076",
     "exception": false,
     "start_time": "2023-01-04T21:54:06.005340",
     "status": "completed"
    },
    "tags": []
   },
   "outputs": [
    {
     "name": "stdout",
     "output_type": "stream",
     "text": [
      "\n",
      "******************************\n",
      " pour min_df:1e-05; max_df:0.995\n",
      "\ttokens unique:\n",
      "\t\t53999 dans title et body regroupé\n"
     ]
    }
   ],
   "source": [
    "best_min_df = description[\"CountVectorizer\"][\"min_df\"]\n",
    "best_max_df = description[\"CountVectorizer\"][\"max_df\"]\n",
    "for min_df in [0.01, 0.05, 0.005, 0.0005, 0.00001] if LONG else [best_min_df]:\n",
    "    for max_df in [0.95, 0.995, 0.9995] if LONG else [best_max_df]:\n",
    "        print(f\"\\n{'*'*30}\\n pour min_df:{min_df}; max_df:{max_df}\")\n",
    "        count_vectorizer = feature_extraction.text.CountVectorizer(\n",
    "            min_df=min_df, max_df=max_df, max_features=None\n",
    "        )\n",
    "        #         pipe = pipeline.make_pipeline(feature_extraction.text.CountVectorizer(min_df=min_df, max_df=max_df, max_features=None), feature_extraction.text.TfidfTransformer( norm=\"l2\", use_idf=True, smooth_idf=True, sublinear_tf=False))\n",
    "        #         feat_train = pipe.transform(X_train[\"Token\"])\n",
    "        #         print(feat_train.shape)\n",
    "\n",
    "        token_vectors = count_vectorizer.fit_transform(df[\"Token\"])\n",
    "        print(\n",
    "            f\"\\ttokens unique:\\n\\t\\t{token_vectors.shape[1]} dans title et body regroupé\"\n",
    "        )"
   ]
  },
  {
   "cell_type": "markdown",
   "id": "3dc58361",
   "metadata": {
    "papermill": {
     "duration": 0.018411,
     "end_time": "2023-01-04T21:54:10.232404",
     "exception": false,
     "start_time": "2023-01-04T21:54:10.213993",
     "status": "completed"
    },
    "tags": []
   },
   "source": [
    "### Test reduction dimension\n",
    "avec n_components=1_000 : 10% de la variance éxpliqué\n"
   ]
  },
  {
   "cell_type": "code",
   "execution_count": 24,
   "id": "c0360910",
   "metadata": {
    "execution": {
     "iopub.execute_input": "2023-01-04T21:54:10.271288Z",
     "iopub.status.busy": "2023-01-04T21:54:10.270628Z",
     "iopub.status.idle": "2023-01-04T21:54:10.309346Z",
     "shell.execute_reply": "2023-01-04T21:54:10.308130Z"
    },
    "papermill": {
     "duration": 0.060675,
     "end_time": "2023-01-04T21:54:10.311524",
     "exception": false,
     "start_time": "2023-01-04T21:54:10.250849",
     "status": "completed"
    },
    "tags": []
   },
   "outputs": [
    {
     "name": "stdout",
     "output_type": "stream",
     "text": [
      "CPU times: user 3 µs, sys: 0 ns, total: 3 µs\n",
      "Wall time: 6.91 µs\n"
     ]
    }
   ],
   "source": [
    "%%time\n",
    "if LONG:\n",
    "    truncSvd = decomposition.TruncatedSVD(n_components=1000).fit(\n",
    "        preprocessing.StandardScaler(with_mean=False).fit_transform(token_vectors)\n",
    "    )\n",
    "    plt.figure(figsize=(30, 15))\n",
    "    scree = truncSvd.explained_variance_ratio_ * 100\n",
    "    plt.bar(np.arange(len(scree)) + 1, scree)\n",
    "    plt.plot(np.arange(len(scree)) + 1, scree.cumsum(), c=\"red\", marker=\"o\")\n",
    "    plt.xlabel(\"rang de l'axe d'inertie\")\n",
    "    plt.ylabel(\"pourcentage variance expliquée\")\n",
    "    plt.title(\"Eboulis des valeurs propres\")\n",
    "    plt.show()"
   ]
  },
  {
   "cell_type": "markdown",
   "id": "885e979a",
   "metadata": {
    "papermill": {
     "duration": 0.018431,
     "end_time": "2023-01-04T21:54:10.348894",
     "exception": false,
     "start_time": "2023-01-04T21:54:10.330463",
     "status": "completed"
    },
    "tags": []
   },
   "source": [
    "# PreprocessPipeline"
   ]
  },
  {
   "cell_type": "code",
   "execution_count": 25,
   "id": "98d1407c",
   "metadata": {
    "execution": {
     "iopub.execute_input": "2023-01-04T21:54:10.388513Z",
     "iopub.status.busy": "2023-01-04T21:54:10.387515Z",
     "iopub.status.idle": "2023-01-04T21:54:10.438670Z",
     "shell.execute_reply": "2023-01-04T21:54:10.437761Z"
    },
    "papermill": {
     "duration": 0.073122,
     "end_time": "2023-01-04T21:54:10.440806",
     "exception": false,
     "start_time": "2023-01-04T21:54:10.367684",
     "status": "completed"
    },
    "tags": []
   },
   "outputs": [],
   "source": [
    "pipeline_tfidf = pipeline.Pipeline(\n",
    "    [\n",
    "        (\n",
    "            \"count\",\n",
    "            feature_extraction.text.CountVectorizer(\n",
    "                min_df=best_min_df, max_df=best_max_df, max_features=None\n",
    "            ),\n",
    "        ),\n",
    "        (\n",
    "            \"tfidf\",\n",
    "            feature_extraction.text.TfidfTransformer(\n",
    "                norm=\"l2\", use_idf=True, smooth_idf=True, sublinear_tf=False\n",
    "            ),\n",
    "        ),\n",
    "        (\n",
    "            \"scale\",\n",
    "            preprocessing.StandardScaler(with_mean=False)\n",
    "            if description[\"StandardScaler\"][\"actif\"]\n",
    "            else \"passthrough\",\n",
    "        ),\n",
    "        (\n",
    "            \"dimReduction\",\n",
    "            decomposition.TruncatedSVD(\n",
    "                n_components=description[\"TruncatedSVD\"][\"n_components\"]\n",
    "            )\n",
    "            if description[\"TruncatedSVD\"][\"actif\"]\n",
    "            else \"passthrough\",\n",
    "        ),\n",
    "    ]\n",
    ")\n",
    "## @TODO cache\n",
    "# memory = joblib.Memory(location=\"/kaggle/working/cache_dir\", verbose=0)\n",
    "# pipeline_tfidf = memory.cache(pipeline_tfidf)"
   ]
  },
  {
   "cell_type": "markdown",
   "id": "5b5511ed",
   "metadata": {
    "papermill": {
     "duration": 0.018417,
     "end_time": "2023-01-04T21:54:10.477955",
     "exception": false,
     "start_time": "2023-01-04T21:54:10.459538",
     "status": "completed"
    },
    "tags": []
   },
   "source": [
    "# OvsRest"
   ]
  },
  {
   "cell_type": "markdown",
   "id": "8377d80a",
   "metadata": {
    "papermill": {
     "duration": 0.018464,
     "end_time": "2023-01-04T21:54:10.515203",
     "exception": false,
     "start_time": "2023-01-04T21:54:10.496739",
     "status": "completed"
    },
    "tags": []
   },
   "source": [
    "## LogisticRegression"
   ]
  },
  {
   "cell_type": "code",
   "execution_count": 26,
   "id": "261f93ca",
   "metadata": {
    "execution": {
     "iopub.execute_input": "2023-01-04T21:54:10.554195Z",
     "iopub.status.busy": "2023-01-04T21:54:10.553828Z",
     "iopub.status.idle": "2023-01-04T21:54:10.594654Z",
     "shell.execute_reply": "2023-01-04T21:54:10.593498Z"
    },
    "papermill": {
     "duration": 0.06284,
     "end_time": "2023-01-04T21:54:10.596822",
     "exception": false,
     "start_time": "2023-01-04T21:54:10.533982",
     "status": "completed"
    },
    "tags": []
   },
   "outputs": [
    {
     "name": "stdout",
     "output_type": "stream",
     "text": [
      "CPU times: user 4 µs, sys: 1e+03 ns, total: 5 µs\n",
      "Wall time: 7.87 µs\n"
     ]
    }
   ],
   "source": [
    "%%time\n",
    "if description[\"LogisticRegression\"][\"actif\"]:\n",
    "    pipeline_logisticReg = pipeline.Pipeline(\n",
    "        [\n",
    "            (\"tfidf\", pipeline_tfidf),\n",
    "            (\n",
    "                \"OvRLogisticReg\",\n",
    "                multiclass.OneVsRestClassifier(\n",
    "                    linear_model.LogisticRegression(random_state=42)\n",
    "                ),\n",
    "            ),\n",
    "        ]\n",
    "    )\n",
    "    with ignore_warnings(category=exceptions.ConvergenceWarning):\n",
    "        pipeline_logisticReg.fit(X_train, y_train)\n",
    "\n",
    "    # prediction sur jeu de test\n",
    "    pred_lr = pipeline_logisticReg.predict(X_test)\n",
    "    scores_lr = save_score(y_test, pred_lr, target_names, \"LogisticRegression\")\n",
    "\n",
    "    # enregistrement model et score\n",
    "    joblib.dump(pipeline_logisticReg, \"LogisticRegression_model.joblib\")\n",
    "    scores_lr.sort_values(by=\"support\", ascending=False)"
   ]
  },
  {
   "cell_type": "code",
   "execution_count": 27,
   "id": "676be759",
   "metadata": {
    "execution": {
     "iopub.execute_input": "2023-01-04T21:54:10.636627Z",
     "iopub.status.busy": "2023-01-04T21:54:10.635575Z",
     "iopub.status.idle": "2023-01-04T21:54:10.647733Z",
     "shell.execute_reply": "2023-01-04T21:54:10.646849Z"
    },
    "papermill": {
     "duration": 0.033888,
     "end_time": "2023-01-04T21:54:10.649666",
     "exception": false,
     "start_time": "2023-01-04T21:54:10.615778",
     "status": "completed"
    },
    "tags": []
   },
   "outputs": [],
   "source": [
    "if description[\"LogisticRegression\"][\"actif\"]:\n",
    "    print(scores_lr.sort_values(by=\"precision\", ascending=False))"
   ]
  },
  {
   "cell_type": "code",
   "execution_count": 28,
   "id": "c866fbaf",
   "metadata": {
    "execution": {
     "iopub.execute_input": "2023-01-04T21:54:10.688703Z",
     "iopub.status.busy": "2023-01-04T21:54:10.687791Z",
     "iopub.status.idle": "2023-01-04T21:54:10.699310Z",
     "shell.execute_reply": "2023-01-04T21:54:10.698476Z"
    },
    "papermill": {
     "duration": 0.033027,
     "end_time": "2023-01-04T21:54:10.701322",
     "exception": false,
     "start_time": "2023-01-04T21:54:10.668295",
     "status": "completed"
    },
    "tags": []
   },
   "outputs": [],
   "source": [
    "if description[\"LogisticRegression\"][\"actif\"]:\n",
    "    print(scores_lr.sort_values(by=\"recall\", ascending=False))"
   ]
  },
  {
   "cell_type": "markdown",
   "id": "15ffce10",
   "metadata": {
    "papermill": {
     "duration": 0.01852,
     "end_time": "2023-01-04T21:54:10.738547",
     "exception": false,
     "start_time": "2023-01-04T21:54:10.720027",
     "status": "completed"
    },
    "tags": []
   },
   "source": [
    "## SVC"
   ]
  },
  {
   "cell_type": "code",
   "execution_count": 29,
   "id": "1a049045",
   "metadata": {
    "execution": {
     "iopub.execute_input": "2023-01-04T21:54:10.778266Z",
     "iopub.status.busy": "2023-01-04T21:54:10.777594Z",
     "iopub.status.idle": "2023-01-04T21:54:10.804320Z",
     "shell.execute_reply": "2023-01-04T21:54:10.803469Z"
    },
    "papermill": {
     "duration": 0.049158,
     "end_time": "2023-01-04T21:54:10.806318",
     "exception": false,
     "start_time": "2023-01-04T21:54:10.757160",
     "status": "completed"
    },
    "tags": []
   },
   "outputs": [],
   "source": [
    "pipeline_svc = pipeline.Pipeline(\n",
    "    [\n",
    "        (\"tfidf\", pipeline_tfidf),\n",
    "        (\n",
    "            \"TfidfOvRSVC\",\n",
    "            multiclass.OneVsRestClassifier(\n",
    "                svm.SVC(\n",
    "                    cache_size=1080,\n",
    "                    max_iter=description[\"TfidfOvRSVC\"][\"max_iter\"],\n",
    "                    random_state=42,\n",
    "                )\n",
    "            ),\n",
    "        ),\n",
    "    ]\n",
    ")"
   ]
  },
  {
   "cell_type": "code",
   "execution_count": 30,
   "id": "534bb07e",
   "metadata": {
    "execution": {
     "iopub.execute_input": "2023-01-04T21:54:10.846291Z",
     "iopub.status.busy": "2023-01-04T21:54:10.844779Z",
     "iopub.status.idle": "2023-01-04T21:54:10.861618Z",
     "shell.execute_reply": "2023-01-04T21:54:10.860497Z"
    },
    "papermill": {
     "duration": 0.038415,
     "end_time": "2023-01-04T21:54:10.863608",
     "exception": false,
     "start_time": "2023-01-04T21:54:10.825193",
     "status": "completed"
    },
    "tags": []
   },
   "outputs": [
    {
     "name": "stdout",
     "output_type": "stream",
     "text": [
      "CPU times: user 4 µs, sys: 0 ns, total: 4 µs\n",
      "Wall time: 7.87 µs\n"
     ]
    }
   ],
   "source": [
    "%%time\n",
    "if description[\"TfidfOvRSVC\"][\"actif\"]:\n",
    "    with ignore_warnings(category=exceptions.ConvergenceWarning):\n",
    "        pipeline_svc.fit(\n",
    "            X_train,\n",
    "            y_train,\n",
    "        )"
   ]
  },
  {
   "cell_type": "code",
   "execution_count": 31,
   "id": "6d2115c2",
   "metadata": {
    "execution": {
     "iopub.execute_input": "2023-01-04T21:54:10.902754Z",
     "iopub.status.busy": "2023-01-04T21:54:10.902024Z",
     "iopub.status.idle": "2023-01-04T21:54:10.916095Z",
     "shell.execute_reply": "2023-01-04T21:54:10.914830Z"
    },
    "papermill": {
     "duration": 0.035448,
     "end_time": "2023-01-04T21:54:10.917926",
     "exception": false,
     "start_time": "2023-01-04T21:54:10.882478",
     "status": "completed"
    },
    "tags": []
   },
   "outputs": [
    {
     "name": "stdout",
     "output_type": "stream",
     "text": [
      "CPU times: user 4 µs, sys: 0 ns, total: 4 µs\n",
      "Wall time: 7.15 µs\n"
     ]
    }
   ],
   "source": [
    "%%time\n",
    "if description[\"TfidfOvRSVC\"][\"actif\"]:\n",
    "    pred_svc = pipeline_svc.predict(X_test)\n",
    "    print(pred_svc)"
   ]
  },
  {
   "cell_type": "markdown",
   "id": "f426dd0e",
   "metadata": {
    "papermill": {
     "duration": 0.018585,
     "end_time": "2023-01-04T21:54:10.955615",
     "exception": false,
     "start_time": "2023-01-04T21:54:10.937030",
     "status": "completed"
    },
    "tags": []
   },
   "source": [
    "### Score et enregistrement"
   ]
  },
  {
   "cell_type": "code",
   "execution_count": 32,
   "id": "3d177d99",
   "metadata": {
    "execution": {
     "iopub.execute_input": "2023-01-04T21:54:10.994371Z",
     "iopub.status.busy": "2023-01-04T21:54:10.994045Z",
     "iopub.status.idle": "2023-01-04T21:54:11.011557Z",
     "shell.execute_reply": "2023-01-04T21:54:11.010653Z"
    },
    "papermill": {
     "duration": 0.039256,
     "end_time": "2023-01-04T21:54:11.013532",
     "exception": false,
     "start_time": "2023-01-04T21:54:10.974276",
     "status": "completed"
    },
    "tags": []
   },
   "outputs": [],
   "source": [
    "if description[\"TfidfOvRSVC\"][\"actif\"]:\n",
    "    scores_svc = save_score(y_test, pred_svc, target_names, \"TfidfOvRSVC\")\n",
    "    joblib.dump(pipeline_svc, \"TfidfOvRestSvc_model.joblib\")\n",
    "    print(scores_svc.sort_values(by=\"precision\", ascending=False))"
   ]
  },
  {
   "cell_type": "markdown",
   "id": "116f9b44",
   "metadata": {
    "papermill": {
     "duration": 0.018671,
     "end_time": "2023-01-04T21:54:11.050970",
     "exception": false,
     "start_time": "2023-01-04T21:54:11.032299",
     "status": "completed"
    },
    "tags": []
   },
   "source": [
    "# Word2Vec"
   ]
  },
  {
   "cell_type": "markdown",
   "id": "b721d5d2",
   "metadata": {
    "papermill": {
     "duration": 0.018524,
     "end_time": "2023-01-04T21:54:11.088359",
     "exception": false,
     "start_time": "2023-01-04T21:54:11.069835",
     "status": "completed"
    },
    "tags": []
   },
   "source": [
    "## Keras Model"
   ]
  },
  {
   "cell_type": "code",
   "execution_count": 33,
   "id": "80233e33",
   "metadata": {
    "execution": {
     "iopub.execute_input": "2023-01-04T21:54:11.127667Z",
     "iopub.status.busy": "2023-01-04T21:54:11.127305Z",
     "iopub.status.idle": "2023-01-04T21:54:11.135258Z",
     "shell.execute_reply": "2023-01-04T21:54:11.134303Z"
    },
    "papermill": {
     "duration": 0.030555,
     "end_time": "2023-01-04T21:54:11.137593",
     "exception": false,
     "start_time": "2023-01-04T21:54:11.107038",
     "status": "completed"
    },
    "tags": []
   },
   "outputs": [
    {
     "name": "stdout",
     "output_type": "stream",
     "text": [
      "{'actif': True, 'TextVectorization__max_tokens': 210000, 'TextVectorization__output_sequence_length': 100, 'Embedding__output_dim': 500, 'Word2Vec__min_count': 5, 'Word2Vec__window': 25, 'Word2Vec__epochs': 150, 'fit__epochs': 15}\n"
     ]
    }
   ],
   "source": [
    "print(description[\"kerasPipeline\"])"
   ]
  },
  {
   "cell_type": "code",
   "execution_count": 34,
   "id": "e4947878",
   "metadata": {
    "execution": {
     "iopub.execute_input": "2023-01-04T21:54:11.177570Z",
     "iopub.status.busy": "2023-01-04T21:54:11.176038Z",
     "iopub.status.idle": "2023-01-04T21:54:11.221467Z",
     "shell.execute_reply": "2023-01-04T21:54:11.220539Z"
    },
    "papermill": {
     "duration": 0.067578,
     "end_time": "2023-01-04T21:54:11.223884",
     "exception": false,
     "start_time": "2023-01-04T21:54:11.156306",
     "status": "completed"
    },
    "tags": []
   },
   "outputs": [],
   "source": [
    "## https://www.tensorflow.org/api_docs/python/tf/keras/layers/TextVectorization\n",
    "# because https://www.tensorflow.org/api_docs/python/tf/keras/preprocessing/text/Tokenizer deprecaded\n",
    "vectorize_layer = tf.keras.layers.TextVectorization(\n",
    "    max_tokens=description[\"kerasPipeline\"][\"TextVectorization__max_tokens\"],\n",
    "    standardize=\"lower_and_strip_punctuation\",\n",
    "    split=\"whitespace\",\n",
    "    ngrams=None,\n",
    "    output_mode=\"int\",\n",
    "    output_sequence_length=description[\"kerasPipeline\"][\n",
    "        \"TextVectorization__output_sequence_length\"\n",
    "    ],\n",
    ")"
   ]
  },
  {
   "cell_type": "code",
   "execution_count": 35,
   "id": "5503a1d7",
   "metadata": {
    "execution": {
     "iopub.execute_input": "2023-01-04T21:54:11.263551Z",
     "iopub.status.busy": "2023-01-04T21:54:11.263220Z",
     "iopub.status.idle": "2023-01-04T21:54:16.838303Z",
     "shell.execute_reply": "2023-01-04T21:54:16.836495Z"
    },
    "papermill": {
     "duration": 5.597193,
     "end_time": "2023-01-04T21:54:16.840456",
     "exception": false,
     "start_time": "2023-01-04T21:54:11.243263",
     "status": "completed"
    },
    "tags": []
   },
   "outputs": [
    {
     "name": "stderr",
     "output_type": "stream",
     "text": [
      "2023-01-04 21:54:11.602600: I tensorflow/compiler/mlir/mlir_graph_optimization_pass.cc:185] None of the MLIR Optimization Passes are enabled (registered 2)\n"
     ]
    },
    {
     "name": "stdout",
     "output_type": "stream",
     "text": [
      "CPU times: user 6.79 s, sys: 454 ms, total: 7.24 s\n",
      "Wall time: 5.56 s\n"
     ]
    }
   ],
   "source": [
    "%%time\n",
    "if description[\"kerasPipeline\"][\"actif\"]:\n",
    "    vectorize_layer.adapt(X_train)"
   ]
  },
  {
   "cell_type": "code",
   "execution_count": 36,
   "id": "122fd369",
   "metadata": {
    "execution": {
     "iopub.execute_input": "2023-01-04T21:54:16.880426Z",
     "iopub.status.busy": "2023-01-04T21:54:16.880104Z",
     "iopub.status.idle": "2023-01-04T21:54:16.918787Z",
     "shell.execute_reply": "2023-01-04T21:54:16.917874Z"
    },
    "papermill": {
     "duration": 0.060735,
     "end_time": "2023-01-04T21:54:16.920877",
     "exception": false,
     "start_time": "2023-01-04T21:54:16.860142",
     "status": "completed"
    },
    "tags": []
   },
   "outputs": [],
   "source": [
    "def build_Word2Vec(X_train, params):\n",
    "    print(\"Build & train Word2Vec model ...\")\n",
    "    X_train_token = X_train.str.split()\n",
    "    w2v_model = gensim.models.Word2Vec(\n",
    "        min_count=params[\"Word2Vec__min_count\"],\n",
    "        window=params[\"Word2Vec__window\"],\n",
    "        vector_size=params[\"Embedding__output_dim\"],\n",
    "        seed=42,\n",
    "        workers=1,\n",
    "    )\n",
    "    w2v_model.build_vocab(X_train_token)\n",
    "    w2v_model.train(\n",
    "        X_train_token,\n",
    "        total_examples=w2v_model.corpus_count,\n",
    "        epochs=params[\"Word2Vec__epochs\"],\n",
    "    )\n",
    "    model_vectors = w2v_model.wv\n",
    "    print(\"Vocabulary size: %i\" % len(model_vectors.index_to_key))\n",
    "    print(\"Word2Vec trained\")\n",
    "    return model_vectors"
   ]
  },
  {
   "cell_type": "code",
   "execution_count": 37,
   "id": "d7e6345b",
   "metadata": {
    "execution": {
     "iopub.execute_input": "2023-01-04T21:54:16.961912Z",
     "iopub.status.busy": "2023-01-04T21:54:16.960242Z",
     "iopub.status.idle": "2023-01-04T22:36:01.332950Z",
     "shell.execute_reply": "2023-01-04T22:36:01.331485Z"
    },
    "papermill": {
     "duration": 2504.395358,
     "end_time": "2023-01-04T22:36:01.335324",
     "exception": false,
     "start_time": "2023-01-04T21:54:16.939966",
     "status": "completed"
    },
    "tags": []
   },
   "outputs": [
    {
     "name": "stdout",
     "output_type": "stream",
     "text": [
      "Build & train Word2Vec model ...\n",
      "Vocabulary size: 21381\n",
      "Word2Vec trained\n",
      "199578 21381 933.44%\n",
      "CPU times: user 41min 30s, sys: 8.19 s, total: 41min 39s\n",
      "Wall time: 41min 44s\n"
     ]
    }
   ],
   "source": [
    "%%time\n",
    "if description[\"kerasPipeline\"][\"actif\"]:\n",
    "    model_vectors = build_Word2Vec(X_train, description[\"kerasPipeline\"])\n",
    "    print(\n",
    "        f\"{len(vectorize_layer.get_vocabulary())} {len(model_vectors.index_to_key)} {len(vectorize_layer.get_vocabulary())/len(model_vectors.index_to_key):.2%}\"\n",
    "    )\n",
    "# embedding_matrix, vocab_size = create_embeding(\n",
    "#    vectorize_layer.get_vocabulary(), build_Word2Vec(X_train, description[\"kerasPipeline\"]), params=description[\"kerasPipeline\"]\n",
    "# )"
   ]
  },
  {
   "cell_type": "code",
   "execution_count": 38,
   "id": "c51b5556",
   "metadata": {
    "execution": {
     "iopub.execute_input": "2023-01-04T22:36:01.376144Z",
     "iopub.status.busy": "2023-01-04T22:36:01.375377Z",
     "iopub.status.idle": "2023-01-04T22:38:01.483237Z",
     "shell.execute_reply": "2023-01-04T22:38:01.482144Z"
    },
    "papermill": {
     "duration": 120.14893,
     "end_time": "2023-01-04T22:38:01.503888",
     "exception": false,
     "start_time": "2023-01-04T22:36:01.354958",
     "status": "completed"
    },
    "tags": []
   },
   "outputs": [
    {
     "name": "stdout",
     "output_type": "stream",
     "text": [
      "Create Embedding matrix ...\n",
      "CPU times: user 1min 57s, sys: 2.18 s, total: 2min\n",
      "Wall time: 2min\n"
     ]
    }
   ],
   "source": [
    "%%time\n",
    "if description[\"kerasPipeline\"][\"actif\"]:\n",
    "    print(\"Create Embedding matrix ...\")\n",
    "    embedding_matrix = np.asarray(\n",
    "        [\n",
    "            model_vectors[word]\n",
    "            if word in model_vectors.index_to_key\n",
    "            else np.zeros(description[\"kerasPipeline\"][\"Embedding__output_dim\"])\n",
    "            for word in vectorize_layer.get_vocabulary()\n",
    "        ]\n",
    "    )\n",
    "    embedding_matrix.shape"
   ]
  },
  {
   "cell_type": "code",
   "execution_count": 39,
   "id": "ce36c582",
   "metadata": {
    "execution": {
     "iopub.execute_input": "2023-01-04T22:38:01.547502Z",
     "iopub.status.busy": "2023-01-04T22:38:01.547164Z",
     "iopub.status.idle": "2023-01-04T22:38:04.050810Z",
     "shell.execute_reply": "2023-01-04T22:38:04.049828Z"
    },
    "papermill": {
     "duration": 2.529957,
     "end_time": "2023-01-04T22:38:04.053404",
     "exception": false,
     "start_time": "2023-01-04T22:38:01.523447",
     "status": "completed"
    },
    "tags": []
   },
   "outputs": [],
   "source": [
    "# https://www.tensorflow.org/text/guide/word_embeddings\n",
    "if description[\"kerasPipeline\"][\"actif\"]:\n",
    "    modelkerasPipeline = tf.keras.models.Sequential(\n",
    "        [\n",
    "            vectorize_layer,\n",
    "            tf.keras.layers.Embedding(\n",
    "                input_dim=len(vectorize_layer.get_vocabulary()),\n",
    "                output_dim=description[\"kerasPipeline\"][\"Embedding__output_dim\"],\n",
    "                weights=[embedding_matrix],\n",
    "                input_length=description[\"kerasPipeline\"][\n",
    "                    \"TextVectorization__output_sequence_length\"\n",
    "                ],\n",
    "            ),\n",
    "            tf.keras.layers.GlobalAveragePooling1D(),\n",
    "            tf.keras.layers.Dense(16, activation=\"relu\"),\n",
    "            tf.keras.layers.Dense(21),\n",
    "        ]\n",
    "    )\n",
    "    # tensorboard_callback = tf.keras.callbacks.TensorBoard(log_dir=\"logs\") # for log create a dir\n",
    "    modelkerasPipeline.compile(\n",
    "        optimizer=\"adam\",\n",
    "        loss=tf.keras.losses.BinaryCrossentropy(from_logits=True),\n",
    "        metrics=[\"accuracy\"],\n",
    "    )"
   ]
  },
  {
   "cell_type": "code",
   "execution_count": 40,
   "id": "4186e9fc",
   "metadata": {
    "execution": {
     "iopub.execute_input": "2023-01-04T22:38:04.093804Z",
     "iopub.status.busy": "2023-01-04T22:38:04.093507Z",
     "iopub.status.idle": "2023-01-04T22:57:26.592073Z",
     "shell.execute_reply": "2023-01-04T22:57:26.590510Z"
    },
    "papermill": {
     "duration": 1163.686518,
     "end_time": "2023-01-04T22:57:27.759532",
     "exception": false,
     "start_time": "2023-01-04T22:38:04.073014",
     "status": "completed"
    },
    "tags": []
   },
   "outputs": [
    {
     "name": "stdout",
     "output_type": "stream",
     "text": [
      "Epoch 1/15\n",
      "2776/2776 [==============================] - 76s 27ms/step - loss: 0.1404 - accuracy: 0.4906\n",
      "Epoch 2/15\n",
      "2776/2776 [==============================] - 74s 27ms/step - loss: 0.0935 - accuracy: 0.5828\n",
      "Epoch 3/15\n",
      "2776/2776 [==============================] - 75s 27ms/step - loss: 0.0832 - accuracy: 0.5977\n",
      "Epoch 4/15\n",
      "2776/2776 [==============================] - 75s 27ms/step - loss: 0.0756 - accuracy: 0.6095\n",
      "Epoch 5/15\n",
      "2776/2776 [==============================] - 75s 27ms/step - loss: 0.0689 - accuracy: 0.6219\n",
      "Epoch 6/15\n",
      "2776/2776 [==============================] - 75s 27ms/step - loss: 0.0628 - accuracy: 0.6324\n",
      "Epoch 7/15\n",
      "2776/2776 [==============================] - 75s 27ms/step - loss: 0.0569 - accuracy: 0.6407\n",
      "Epoch 8/15\n",
      "2776/2776 [==============================] - 75s 27ms/step - loss: 0.0513 - accuracy: 0.6505\n",
      "Epoch 9/15\n",
      "2776/2776 [==============================] - 75s 27ms/step - loss: 0.0458 - accuracy: 0.6573\n",
      "Epoch 10/15\n",
      "2776/2776 [==============================] - 75s 27ms/step - loss: 0.0406 - accuracy: 0.6653\n",
      "Epoch 11/15\n",
      "2776/2776 [==============================] - 75s 27ms/step - loss: 0.0356 - accuracy: 0.6711\n",
      "Epoch 12/15\n",
      "2776/2776 [==============================] - 75s 27ms/step - loss: 0.0310 - accuracy: 0.6759\n",
      "Epoch 13/15\n",
      "2776/2776 [==============================] - 75s 27ms/step - loss: 0.0269 - accuracy: 0.6798\n",
      "Epoch 14/15\n",
      "2776/2776 [==============================] - 75s 27ms/step - loss: 0.0230 - accuracy: 0.6843\n",
      "Epoch 15/15\n",
      "2776/2776 [==============================] - 75s 27ms/step - loss: 0.0197 - accuracy: 0.6869\n",
      "CPU times: user 14min 27s, sys: 37.2 s, total: 15min 4s\n",
      "Wall time: 19min 22s\n"
     ]
    }
   ],
   "source": [
    "%%time\n",
    "if description[\"kerasPipeline\"][\"actif\"]:\n",
    "    modelkerasPipeline.fit(\n",
    "        X_train,\n",
    "        y_train,\n",
    "        epochs=description[\"kerasPipeline\"][\"fit__epochs\"],\n",
    "        # callbacks=[tensorboard_callback],\n",
    "    )"
   ]
  },
  {
   "cell_type": "code",
   "execution_count": 41,
   "id": "411d93a6",
   "metadata": {
    "execution": {
     "iopub.execute_input": "2023-01-04T22:57:30.374026Z",
     "iopub.status.busy": "2023-01-04T22:57:30.373318Z",
     "iopub.status.idle": "2023-01-04T22:57:34.369251Z",
     "shell.execute_reply": "2023-01-04T22:57:34.367253Z"
    },
    "papermill": {
     "duration": 5.214974,
     "end_time": "2023-01-04T22:57:34.371311",
     "exception": false,
     "start_time": "2023-01-04T22:57:29.156337",
     "status": "completed"
    },
    "tags": []
   },
   "outputs": [
    {
     "name": "stdout",
     "output_type": "stream",
     "text": [
      "java   c#     javascript  python  android  c++    ios    html   php    .net   jquery  css    objective-c  c      sql    iphone  asp.net  mysql  linux  node.js  git  \n",
      "False  False  False       False   False    False  False  False  False  False  False   False  False        False  False  False   False    False  False  False    False    9018\n",
      "True   False  False       False   False    False  False  False  False  False  False   False  False        False  False  False   False    False  False  False    False    2457\n",
      "False  False  False       True    False    False  False  False  False  False  False   False  False        False  False  False   False    False  False  False    False    2006\n",
      "       True   False       False   False    False  False  False  False  False  False   False  False        False  False  False   False    False  False  False    False    1815\n",
      "       False  False       False   True     False  False  False  False  False  False   False  False        False  False  False   False    False  False  False    False    1341\n",
      "                                                                                                                                                                         ... \n",
      "                                  False    False  False  False  False  False  False   True   True         False  False  False   False    False  False  False    False       1\n",
      "              True        False   False    False  False  True   False  False  True    False  False        False  False  False   True     False  False  False    False       1\n",
      "              False       False   False    False  False  False  False  False  False   True   False        False  False  True    False    False  False  False    False       1\n",
      "              True        False   False    False  False  True   False  False  True    True   False        False  False  True    False    False  False  False    False       1\n",
      "True   True   True        False   False    False  False  False  False  True   False   False  False        False  False  False   False    False  False  False    False       1\n",
      "Length: 336, dtype: int64\n",
      "CPU times: user 3.86 s, sys: 216 ms, total: 4.07 s\n",
      "Wall time: 3.97 s\n"
     ]
    }
   ],
   "source": [
    "%%time\n",
    "if description[\"kerasPipeline\"][\"actif\"]:\n",
    "    pred_kerasword2vec_proba = modelkerasPipeline.predict(X_test)\n",
    "    #     print(pred_kerasword2vec_proba)\n",
    "    pred_kerasword2vec = pd.DataFrame(\n",
    "        [\n",
    "            {tag: pred_tag > 0 for pred_tag, tag in zip(pred, target_names)}\n",
    "            for pred in pred_kerasword2vec_proba\n",
    "        ]\n",
    "    )\n",
    "    print(pred_kerasword2vec.value_counts())"
   ]
  },
  {
   "cell_type": "code",
   "execution_count": 42,
   "id": "e24030a2",
   "metadata": {
    "execution": {
     "iopub.execute_input": "2023-01-04T22:57:36.593307Z",
     "iopub.status.busy": "2023-01-04T22:57:36.592955Z",
     "iopub.status.idle": "2023-01-04T22:57:40.925302Z",
     "shell.execute_reply": "2023-01-04T22:57:40.923973Z"
    },
    "papermill": {
     "duration": 5.481858,
     "end_time": "2023-01-04T22:57:40.931746",
     "exception": false,
     "start_time": "2023-01-04T22:57:35.449888",
     "status": "completed"
    },
    "tags": []
   },
   "outputs": [
    {
     "name": "stdout",
     "output_type": "stream",
     "text": [
      "              precision    recall  f1-score  support\n",
      "android        0.846193  0.820538  0.833168   2045.0\n",
      "git            0.888889  0.759124  0.818898    274.0\n",
      "python         0.831476  0.714012  0.768280   2612.0\n",
      "php            0.766520  0.641672  0.698561   1627.0\n",
      "java           0.719683  0.663856  0.690643   3558.0\n",
      "ios            0.720049  0.640217  0.677791   1840.0\n",
      "css            0.738720  0.622458  0.675624   1131.0\n",
      "jquery         0.721963  0.602731  0.656981   1538.0\n",
      "javascript     0.681973  0.597437  0.636912   3356.0\n",
      "node.js        0.777542  0.538123  0.636049    682.0\n",
      "c++            0.676843  0.598269  0.635135   1964.0\n",
      "micro avg      0.681115  0.587762  0.631004  33044.0\n",
      "mysql          0.724335  0.556204  0.629232    685.0\n",
      "weighted avg   0.676866  0.587762  0.627584  33044.0\n",
      "macro avg      0.662632  0.557644  0.603700  33044.0\n",
      "c#             0.633344  0.576447  0.603557   3473.0\n",
      "html           0.552574  0.574929  0.563530   1755.0\n",
      "sql            0.565272  0.512644  0.537673    870.0\n",
      "c              0.577201  0.451977  0.506971    885.0\n",
      "samples avg    0.494620  0.489277  0.474867  33044.0\n",
      "iphone         0.502865  0.434944  0.466445    807.0\n",
      "objective-c    0.519231  0.395270  0.448849    888.0\n",
      "linux          0.493554  0.394118  0.438267    680.0\n",
      "asp.net        0.536538  0.346584  0.421132    805.0\n",
      ".net           0.440501  0.268961  0.333993   1569.0\n"
     ]
    },
    {
     "name": "stderr",
     "output_type": "stream",
     "text": [
      "2023-01-04 22:57:37.024652: W tensorflow/python/util/util.cc:348] Sets are not currently considered sequences, but this may change in the future, so consider avoiding using them.\n"
     ]
    }
   ],
   "source": [
    "if description[\"kerasPipeline\"][\"actif\"]:\n",
    "    scores_kerasword2vec = save_score(\n",
    "        y_test,\n",
    "        pred_kerasword2vec,\n",
    "        target_names,\n",
    "        \"kerasPipeline\",\n",
    "    )\n",
    "    print(scores_kerasword2vec.sort_values(by=\"f1-score\", ascending=False))\n",
    "    modelkerasPipeline.save(\"kerasPipeline\")"
   ]
  },
  {
   "cell_type": "markdown",
   "id": "bfe10e9b",
   "metadata": {
    "papermill": {
     "duration": 1.154036,
     "end_time": "2023-01-04T22:57:43.691261",
     "exception": false,
     "start_time": "2023-01-04T22:57:42.537225",
     "status": "completed"
    },
    "tags": []
   },
   "source": [
    "## Word2Vec puis OvR SVC"
   ]
  },
  {
   "cell_type": "code",
   "execution_count": 43,
   "id": "4df0c5f8",
   "metadata": {
    "_kg_hide-input": true,
    "execution": {
     "iopub.execute_input": "2023-01-04T22:57:46.010775Z",
     "iopub.status.busy": "2023-01-04T22:57:46.010214Z",
     "iopub.status.idle": "2023-01-04T22:57:46.047020Z",
     "shell.execute_reply": "2023-01-04T22:57:46.046128Z"
    },
    "papermill": {
     "duration": 1.246388,
     "end_time": "2023-01-04T22:57:46.049063",
     "exception": false,
     "start_time": "2023-01-04T22:57:44.802675",
     "status": "completed"
    },
    "tags": []
   },
   "outputs": [],
   "source": [
    "from kerasembedtransformerclass import KerasEmbedTransformer\n",
    "\n",
    "# class KerasEmbedTransformer(BaseEstimator, TransformerMixin):\n",
    "#     def init(self, params):\n",
    "#         self.params = params\n",
    "#         return self\n",
    "\n",
    "#     def fit(self, X, y=None):\n",
    "#         self.embed_model, self.tokenizer = self.create_keras_model(X)\n",
    "#         return self\n",
    "\n",
    "#     def transform(self, X, y=None):\n",
    "#         x_sentences = keras.preprocessing.sequence.pad_sequences(\n",
    "#             self.tokenizer.texts_to_sequences(X),\n",
    "#             maxlen=self.params[\"maxlen\"],\n",
    "#             padding=\"post\",\n",
    "#         )\n",
    "#         embeddings = self.embed_model.predict(x_sentences)\n",
    "#         print(\"embedings shape \", embeddings.shape)\n",
    "#         return embeddings\n",
    "\n",
    "#     def save(self, filename):\n",
    "#         joblib.dump(self.tokenizer, f\"{filename}.tokenizer\")\n",
    "#         self.embed_model.save(\n",
    "#             f\"{filename}.model\"\n",
    "#         )  # This hack allows us to save the sklearn pipeline\n",
    "#         self.embed_model = None\n",
    "#         return self\n",
    "\n",
    "#     def load(self, filename, params):\n",
    "#         self.tokenizer = joblib.load(f\"{filename}.tokenizer\")\n",
    "#         self.embed_model = keras.models.load_model(f\"{filename}.model\")\n",
    "#         self.init(params)\n",
    "#         return self\n",
    "\n",
    "#     def create_embeding(self, word_index, model_vectors):\n",
    "#         vocab_size = len(word_index) + 1\n",
    "#         print(f\"Number of unique words: {vocab_size}\")\n",
    "#         print(\"Create Embedding matrix ...\")\n",
    "#         embedding_matrix = np.zeros((vocab_size, self.params[\"size\"]))\n",
    "#         i = 0\n",
    "#         j = 0\n",
    "\n",
    "#         for word, idx in word_index.items():\n",
    "#             i += 1\n",
    "#             if word in model_vectors.index_to_key:\n",
    "#                 j += 1\n",
    "#                 embedding_vector = model_vectors[word]\n",
    "#                 if embedding_vector is not None:\n",
    "#                     embedding_matrix[idx] = model_vectors[word]\n",
    "\n",
    "#         word_rate = np.round(j / i, 4)\n",
    "#         print(\"Word embedding rate : \", word_rate)\n",
    "#         print(\"Embedding matrix: %s\" % str(embedding_matrix.shape))\n",
    "#         return (embedding_matrix, vocab_size)\n",
    "\n",
    "#     def create_keras_model(self, X_train):\n",
    "#         print(\"Build & train Word2Vec model ...\")\n",
    "#         X_train_token = X_train.str.split()\n",
    "#         w2v_model = gensim.models.Word2Vec(\n",
    "#             min_count=self.params[\"min_count\"],\n",
    "#             window=self.params[\"window\"],\n",
    "#             vector_size=self.params[\"size\"],\n",
    "#             seed=42,\n",
    "#             workers=1,\n",
    "#         )\n",
    "#         w2v_model.build_vocab(X_train_token)\n",
    "#         w2v_model.train(\n",
    "#             X_train_token,\n",
    "#             total_examples=w2v_model.corpus_count,\n",
    "#             epochs=self.params[\"epochs\"],\n",
    "#         )\n",
    "#         model_vectors = w2v_model.wv\n",
    "#         print(\"Vocabulary size: %i\" % len(model_vectors.index_to_key))\n",
    "#         print(\"Word2Vec trained\")\n",
    "\n",
    "#         tokenizer = keras.preprocessing.text.Tokenizer()\n",
    "#         tokenizer.fit_on_texts(X_train_token)\n",
    "#         embedding_matrix, vocab_size = self.create_embeding(\n",
    "#             tokenizer.word_index, model_vectors\n",
    "#         )\n",
    "\n",
    "#         word_input = keras.layers.Input(shape=(self.params[\"maxlen\"],), dtype=\"float64\")\n",
    "#         word_embedding = keras.layers.Embedding(\n",
    "#             input_dim=vocab_size,\n",
    "#             output_dim=self.params[\"size\"],\n",
    "#             weights=[embedding_matrix],\n",
    "#             input_length=self.params[\"maxlen\"],\n",
    "#         )(word_input)\n",
    "#         word_vec = keras.layers.GlobalAveragePooling1D()(word_embedding)\n",
    "#         embed_model = keras.models.Model([word_input], word_vec)\n",
    "#         print(embed_model.summary())\n",
    "\n",
    "#         return (embed_model, tokenizer)"
   ]
  },
  {
   "cell_type": "code",
   "execution_count": 44,
   "id": "adacc68b",
   "metadata": {
    "execution": {
     "iopub.execute_input": "2023-01-04T22:57:48.388663Z",
     "iopub.status.busy": "2023-01-04T22:57:48.387902Z",
     "iopub.status.idle": "2023-01-04T22:57:48.431474Z",
     "shell.execute_reply": "2023-01-04T22:57:48.430492Z"
    },
    "papermill": {
     "duration": 1.182383,
     "end_time": "2023-01-04T22:57:48.434450",
     "exception": false,
     "start_time": "2023-01-04T22:57:47.252067",
     "status": "completed"
    },
    "tags": []
   },
   "outputs": [
    {
     "name": "stdout",
     "output_type": "stream",
     "text": [
      "CPU times: user 121 µs, sys: 0 ns, total: 121 µs\n",
      "Wall time: 124 µs\n"
     ]
    }
   ],
   "source": [
    "%%time\n",
    "# KerasEmbed = KerasEmbedTransformer().init(description[\"Word2Vec\"])\n",
    "pipeline_w2v = pipeline.Pipeline(\n",
    "    [\n",
    "        (\n",
    "            \"keras_embed_transformer\",\n",
    "            KerasEmbedTransformer().init(description[\"Word2Vec\"]),\n",
    "        ),\n",
    "        (\n",
    "            \"Word2Vec\",\n",
    "            multiclass.OneVsRestClassifier(\n",
    "                svm.SVC(\n",
    "                    cache_size=1080,\n",
    "                    max_iter=description[\"Word2Vec\"][\"max_iter\"],\n",
    "                    random_state=42,\n",
    "                )\n",
    "            ),\n",
    "        ),\n",
    "    ]\n",
    ")\n",
    "\n",
    "if description[\"Word2Vec\"][\"actif\"]:\n",
    "    with ignore_warnings(category=exceptions.ConvergenceWarning):\n",
    "        pipeline_w2v.fit(X_train, y_train)\n",
    "#         pipeline_w2v.fit(X_train[0:10], y_train[0:10])"
   ]
  },
  {
   "cell_type": "code",
   "execution_count": 45,
   "id": "33853f38",
   "metadata": {
    "execution": {
     "iopub.execute_input": "2023-01-04T22:57:50.830731Z",
     "iopub.status.busy": "2023-01-04T22:57:50.830144Z",
     "iopub.status.idle": "2023-01-04T22:57:50.852878Z",
     "shell.execute_reply": "2023-01-04T22:57:50.851893Z"
    },
    "papermill": {
     "duration": 1.284158,
     "end_time": "2023-01-04T22:57:50.855174",
     "exception": false,
     "start_time": "2023-01-04T22:57:49.571016",
     "status": "completed"
    },
    "tags": []
   },
   "outputs": [
    {
     "name": "stdout",
     "output_type": "stream",
     "text": [
      "CPU times: user 6 µs, sys: 0 ns, total: 6 µs\n",
      "Wall time: 10.7 µs\n"
     ]
    }
   ],
   "source": [
    "%%time\n",
    "if description[\"Word2Vec\"][\"actif\"]:\n",
    "    pred_word2vec = pipeline_w2v.predict(X_test)\n",
    "    print(pred_word2vec)"
   ]
  },
  {
   "cell_type": "markdown",
   "id": "e654c1b4",
   "metadata": {
    "papermill": {
     "duration": 1.105782,
     "end_time": "2023-01-04T22:57:53.204549",
     "exception": false,
     "start_time": "2023-01-04T22:57:52.098767",
     "status": "completed"
    },
    "tags": []
   },
   "source": [
    "### i got the same issue as:\n",
    "https://stackoverflow.com/questions/37984304/how-to-save-a-scikit-learn-pipline-with-keras-regressor-inside-to-disk  \n",
    "Solution is to save keras model in separate file than remove it from the pipeline so it can be save with joblib  \n",
    "I did that in my `KerasEmbedTransformer` class `save` & `load` method"
   ]
  },
  {
   "cell_type": "code",
   "execution_count": 46,
   "id": "548e46a4",
   "metadata": {
    "execution": {
     "iopub.execute_input": "2023-01-04T22:57:55.511043Z",
     "iopub.status.busy": "2023-01-04T22:57:55.510279Z",
     "iopub.status.idle": "2023-01-04T22:57:55.529788Z",
     "shell.execute_reply": "2023-01-04T22:57:55.528897Z"
    },
    "papermill": {
     "duration": 1.176167,
     "end_time": "2023-01-04T22:57:55.531770",
     "exception": false,
     "start_time": "2023-01-04T22:57:54.355603",
     "status": "completed"
    },
    "tags": []
   },
   "outputs": [],
   "source": [
    "if description[\"Word2Vec\"][\"actif\"]:\n",
    "    pipeline_w2v.named_steps[\"keras_embed_transformer\"].save(\"keras\")\n",
    "    # Otherwise i can save it but not load in api\n",
    "    #     pipeline_w2v.named_steps[\"keras_embed_transformer\"] = \"passthrough\"  # __module__\n",
    "    #     pipeline_w2v.named_steps[\"keras_embed_transformer\"].__module__ = None\n",
    "    ## i have issue loading the joblib in api so i try to delete the step from the pipeline\n",
    "    pipeline_w2v.steps.pop(0)\n",
    "    pipeline_w2v.steps.insert(0, (\"keras_embed_transformer\", \"passthrough\"))\n",
    "    print(pipeline_w2v)"
   ]
  },
  {
   "cell_type": "code",
   "execution_count": 47,
   "id": "df1edf59",
   "metadata": {
    "execution": {
     "iopub.execute_input": "2023-01-04T22:57:57.786713Z",
     "iopub.status.busy": "2023-01-04T22:57:57.786160Z",
     "iopub.status.idle": "2023-01-04T22:57:57.806979Z",
     "shell.execute_reply": "2023-01-04T22:57:57.805911Z"
    },
    "papermill": {
     "duration": 1.195667,
     "end_time": "2023-01-04T22:57:57.809165",
     "exception": false,
     "start_time": "2023-01-04T22:57:56.613498",
     "status": "completed"
    },
    "tags": []
   },
   "outputs": [],
   "source": [
    "if description[\"Word2Vec\"][\"actif\"]:\n",
    "    scores_word2vec = save_score(y_test, pred_word2vec, target_names, \"Word2Vec\")\n",
    "    joblib.dump(pipeline_w2v, \"Word2Vec_model.joblib\")\n",
    "    print(scores_word2vec.sort_values(by=\"precision\", ascending=False))"
   ]
  },
  {
   "cell_type": "markdown",
   "id": "138f594d",
   "metadata": {
    "papermill": {
     "duration": 1.163316,
     "end_time": "2023-01-04T22:58:00.117453",
     "exception": false,
     "start_time": "2023-01-04T22:57:58.954137",
     "status": "completed"
    },
    "tags": []
   },
   "source": [
    "### test to reimport saved model"
   ]
  },
  {
   "cell_type": "code",
   "execution_count": 48,
   "id": "5fac064f",
   "metadata": {
    "execution": {
     "iopub.execute_input": "2023-01-04T22:58:03.063083Z",
     "iopub.status.busy": "2023-01-04T22:58:03.062656Z",
     "iopub.status.idle": "2023-01-04T22:58:03.087224Z",
     "shell.execute_reply": "2023-01-04T22:58:03.086387Z"
    },
    "papermill": {
     "duration": 1.884348,
     "end_time": "2023-01-04T22:58:03.089534",
     "exception": false,
     "start_time": "2023-01-04T22:58:01.205186",
     "status": "completed"
    },
    "tags": []
   },
   "outputs": [],
   "source": [
    "if description[\"Word2Vec\"][\"actif\"] and LONG:\n",
    "    loaded = joblib.load(\"/kaggle/working/Word2Vec_model.joblib\")\n",
    "    loaded.named_steps[\"keras_embed_transformer\"] = KerasEmbedTransformer().load(\n",
    "        \"/kaggle/working/keras\", description[\"Word2Vec\"]\n",
    "    )\n",
    "    pred_word2vec == loaded.predict(X_test)"
   ]
  },
  {
   "cell_type": "markdown",
   "id": "d6d84cfd",
   "metadata": {
    "papermill": {
     "duration": 1.065975,
     "end_time": "2023-01-04T22:58:05.329212",
     "exception": false,
     "start_time": "2023-01-04T22:58:04.263237",
     "status": "completed"
    },
    "tags": []
   },
   "source": [
    "# BERT"
   ]
  },
  {
   "cell_type": "code",
   "execution_count": 49,
   "id": "2e14f84c",
   "metadata": {
    "execution": {
     "iopub.execute_input": "2023-01-04T22:58:07.614047Z",
     "iopub.status.busy": "2023-01-04T22:58:07.613531Z",
     "iopub.status.idle": "2023-01-04T22:58:07.622394Z",
     "shell.execute_reply": "2023-01-04T22:58:07.621462Z"
    },
    "papermill": {
     "duration": 1.169404,
     "end_time": "2023-01-04T22:58:07.624483",
     "exception": false,
     "start_time": "2023-01-04T22:58:06.455079",
     "status": "completed"
    },
    "tags": []
   },
   "outputs": [
    {
     "data": {
      "text/plain": [
       "{'actif': False, 'max_length': 150, 'epochs': 5}"
      ]
     },
     "execution_count": 49,
     "metadata": {},
     "output_type": "execute_result"
    }
   ],
   "source": [
    "description[\"BERT\"]"
   ]
  },
  {
   "cell_type": "code",
   "execution_count": 50,
   "id": "98094070",
   "metadata": {
    "execution": {
     "iopub.execute_input": "2023-01-04T22:58:09.850227Z",
     "iopub.status.busy": "2023-01-04T22:58:09.849177Z",
     "iopub.status.idle": "2023-01-04T22:58:09.854956Z",
     "shell.execute_reply": "2023-01-04T22:58:09.854006Z"
    },
    "papermill": {
     "duration": 1.09644,
     "end_time": "2023-01-04T22:58:09.856978",
     "exception": false,
     "start_time": "2023-01-04T22:58:08.760538",
     "status": "completed"
    },
    "tags": []
   },
   "outputs": [],
   "source": [
    "# import torch\n",
    "# torch.cuda.is_available()"
   ]
  },
  {
   "cell_type": "code",
   "execution_count": 51,
   "id": "db9b5718",
   "metadata": {
    "execution": {
     "iopub.execute_input": "2023-01-04T22:58:12.136674Z",
     "iopub.status.busy": "2023-01-04T22:58:12.136230Z",
     "iopub.status.idle": "2023-01-04T22:58:12.147214Z",
     "shell.execute_reply": "2023-01-04T22:58:12.146184Z"
    },
    "papermill": {
     "duration": 1.154425,
     "end_time": "2023-01-04T22:58:12.149325",
     "exception": false,
     "start_time": "2023-01-04T22:58:10.994900",
     "status": "completed"
    },
    "tags": []
   },
   "outputs": [
    {
     "data": {
      "text/plain": [
       "BertConfig {\n",
       "  \"attention_probs_dropout_prob\": 0.1,\n",
       "  \"classifier_dropout\": null,\n",
       "  \"hidden_act\": \"gelu\",\n",
       "  \"hidden_dropout_prob\": 0.1,\n",
       "  \"hidden_size\": 768,\n",
       "  \"initializer_range\": 0.02,\n",
       "  \"intermediate_size\": 3072,\n",
       "  \"layer_norm_eps\": 1e-12,\n",
       "  \"max_position_embeddings\": 512,\n",
       "  \"model_type\": \"bert\",\n",
       "  \"num_attention_heads\": 12,\n",
       "  \"num_hidden_layers\": 12,\n",
       "  \"pad_token_id\": 0,\n",
       "  \"position_embedding_type\": \"absolute\",\n",
       "  \"transformers_version\": \"4.20.1\",\n",
       "  \"type_vocab_size\": 2,\n",
       "  \"use_cache\": true,\n",
       "  \"vocab_size\": 30522\n",
       "}"
      ]
     },
     "execution_count": 51,
     "metadata": {},
     "output_type": "execute_result"
    }
   ],
   "source": [
    "configuration = BertConfig()\n",
    "configuration"
   ]
  },
  {
   "cell_type": "code",
   "execution_count": 52,
   "id": "0fc8bed6",
   "metadata": {
    "execution": {
     "iopub.execute_input": "2023-01-04T22:58:14.591205Z",
     "iopub.status.busy": "2023-01-04T22:58:14.590192Z",
     "iopub.status.idle": "2023-01-04T22:58:14.620115Z",
     "shell.execute_reply": "2023-01-04T22:58:14.619231Z"
    },
    "papermill": {
     "duration": 1.168789,
     "end_time": "2023-01-04T22:58:14.622196",
     "exception": false,
     "start_time": "2023-01-04T22:58:13.453407",
     "status": "completed"
    },
    "tags": []
   },
   "outputs": [],
   "source": [
    "if description[\"BERT\"][\"actif\"]:\n",
    "    slow_tokenizer = BertTokenizer.from_pretrained(\n",
    "        \"bert-base-uncased\", model_max_length=description[\"BERT\"][\"max_length\"]\n",
    "    )\n",
    "    save_path = \"bert_base_uncased/\"\n",
    "    if not os.path.exists(save_path):\n",
    "        os.makedirs(save_path)\n",
    "    slow_tokenizer.save_pretrained(save_path)\n",
    "    # from https://keras.io/examples/nlp/text_extraction_with_bert/\n",
    "    # Load the fast tokenizer from saved file\n",
    "    tokenizer = BertWordPieceTokenizer(\"bert_base_uncased/vocab.txt\", lowercase=True)"
   ]
  },
  {
   "cell_type": "code",
   "execution_count": 53,
   "id": "8f50a198",
   "metadata": {
    "execution": {
     "iopub.execute_input": "2023-01-04T22:58:16.899637Z",
     "iopub.status.busy": "2023-01-04T22:58:16.899259Z",
     "iopub.status.idle": "2023-01-04T22:58:16.917420Z",
     "shell.execute_reply": "2023-01-04T22:58:16.916485Z"
    },
    "papermill": {
     "duration": 1.159422,
     "end_time": "2023-01-04T22:58:16.919401",
     "exception": false,
     "start_time": "2023-01-04T22:58:15.759979",
     "status": "completed"
    },
    "tags": []
   },
   "outputs": [],
   "source": [
    "def create_bert_input_target(X, params):\n",
    "    x_encoded = tokenizer.encode(X)\n",
    "    x_encoded.truncate(params[\"max_length\"])\n",
    "    x_encoded.pad(params[\"max_length\"])\n",
    "    #     print(len(x_encoded.ids))\n",
    "    #     print(len(x_encoded.attention_mask))\n",
    "    #     params[\"max_length\"]\n",
    "    #     return np.array(\n",
    "    #         [\n",
    "    #             np.array((encoded_id, attention_mask))\n",
    "    #             for encoded_id, attention_mask in zip(\n",
    "    #                 x_encoded.ids, x_encoded.attention_mask\n",
    "    #             )\n",
    "    #         ]\n",
    "    #     )\n",
    "    #     return {\"ids\": x_encoded.ids, \"attention_mask\": x_encoded.attention_mask}\n",
    "    #     return np.array(x_encoded.ids), np.array(x_encoded.attention_mask)\n",
    "    return np.array(x_encoded.ids)"
   ]
  },
  {
   "cell_type": "code",
   "execution_count": 54,
   "id": "592d56ac",
   "metadata": {
    "execution": {
     "iopub.execute_input": "2023-01-04T22:58:19.177629Z",
     "iopub.status.busy": "2023-01-04T22:58:19.177226Z",
     "iopub.status.idle": "2023-01-04T22:58:19.231997Z",
     "shell.execute_reply": "2023-01-04T22:58:19.231042Z"
    },
    "papermill": {
     "duration": 1.205824,
     "end_time": "2023-01-04T22:58:19.234335",
     "exception": false,
     "start_time": "2023-01-04T22:58:18.028511",
     "status": "completed"
    },
    "tags": []
   },
   "outputs": [],
   "source": [
    "def create_bert_model(params):\n",
    "    ## BERT encoder\n",
    "    encoder = TFBertModel.from_pretrained(\"bert-base-uncased\")\n",
    "\n",
    "    inputs = tf.keras.layers.Input(\n",
    "        shape=(params[\"max_length\"],),\n",
    "        dtype=tf.int32,\n",
    "    )\n",
    "    embedding = encoder(inputs)[0]\n",
    "\n",
    "    #     layerDense = tf.keras.layers.Dense(\n",
    "    #         len(target_names), name=\"start_logit\", use_bias=False\n",
    "    #     )(embedding)\n",
    "    #     layerDense = tf.keras.layers.Flatten()(layerDense)\n",
    "    #     end_layer = tf.keras.layers.Activation(tf.keras.activations.softmax)(layerDense)\n",
    "\n",
    "    #     layerFlat = tf.keras.layers.Flatten()(embedding)\n",
    "    layerGAvg = tf.keras.layers.GlobalAveragePooling1D()(embedding)\n",
    "    #     layerDense = tf.keras.layers.Dense(16 * len(target_names), activation=\"relu\")(\n",
    "    #         layerGAvg\n",
    "    #     )\n",
    "    #     layerEnd = tf.keras.layers.Dense(\n",
    "    #         len(target_names)  # , name=\"start_logit\", use_bias=False\n",
    "    #     )(layerDense)\n",
    "    layerActivation = tf.keras.layers.Activation(tf.keras.activations.softmax)(layerGAvg)\n",
    "    layerEnd = tf.keras.layers.Dense(len(target_names), activation=\"relu\")(layerGAvg)\n",
    "    model = tf.keras.Model(\n",
    "        inputs=[inputs],\n",
    "        outputs=[layerEnd],\n",
    "    )\n",
    "    #     loss = tf.keras.losses.SparseCategoricalCrossentropy(from_logits=False)\n",
    "    #     optimizer = tf.keras.optimizers.Adam(learning_rate=5e-5)\n",
    "    #     model.compile(optimizer=optimizer, loss=[loss, loss])\n",
    "    model.compile(\n",
    "        optimizer=\"adam\",\n",
    "        loss=tf.keras.losses.BinaryCrossentropy(from_logits=True),\n",
    "        # https://keras.io/api/metrics/classification_metrics/#auc-class\n",
    "        #         metrics=tf.keras.metrics.AUC(\n",
    "        #             num_thresholds=200,\n",
    "        #             curve=\"PR\",  # \"ROC\"default\n",
    "        #             summation_method=\"interpolation\",\n",
    "        #             name=None,\n",
    "        #             dtype=None,\n",
    "        #             thresholds=None,\n",
    "        #             multi_label=True,\n",
    "        #             num_labels=len(target_names),\n",
    "        #             label_weights=None,\n",
    "        #             from_logits=True,\n",
    "        #         ),\n",
    "        metrics=[\"accuracy\"],\n",
    "    )\n",
    "    return model"
   ]
  },
  {
   "cell_type": "code",
   "execution_count": 55,
   "id": "645222ee",
   "metadata": {
    "execution": {
     "iopub.execute_input": "2023-01-04T22:58:21.454574Z",
     "iopub.status.busy": "2023-01-04T22:58:21.454072Z",
     "iopub.status.idle": "2023-01-04T22:58:21.468722Z",
     "shell.execute_reply": "2023-01-04T22:58:21.467825Z"
    },
    "papermill": {
     "duration": 1.092224,
     "end_time": "2023-01-04T22:58:21.470895",
     "exception": false,
     "start_time": "2023-01-04T22:58:20.378671",
     "status": "completed"
    },
    "tags": []
   },
   "outputs": [],
   "source": [
    "if description[\"BERT\"][\"actif\"]:\n",
    "    bert_model = create_bert_model(params=description[\"BERT\"])\n",
    "    print(bert_model.summary())"
   ]
  },
  {
   "cell_type": "code",
   "execution_count": 56,
   "id": "2ea0ea15",
   "metadata": {
    "execution": {
     "iopub.execute_input": "2023-01-04T22:58:23.878692Z",
     "iopub.status.busy": "2023-01-04T22:58:23.878241Z",
     "iopub.status.idle": "2023-01-04T22:58:23.884583Z",
     "shell.execute_reply": "2023-01-04T22:58:23.883424Z"
    },
    "papermill": {
     "duration": 1.283523,
     "end_time": "2023-01-04T22:58:23.887721",
     "exception": false,
     "start_time": "2023-01-04T22:58:22.604198",
     "status": "completed"
    },
    "tags": []
   },
   "outputs": [],
   "source": [
    "# create_bert_input_target(X_train.values[1], params=description[\"BERT\"])"
   ]
  },
  {
   "cell_type": "code",
   "execution_count": 57,
   "id": "aa86e061",
   "metadata": {
    "execution": {
     "iopub.execute_input": "2023-01-04T22:58:26.251403Z",
     "iopub.status.busy": "2023-01-04T22:58:26.251026Z",
     "iopub.status.idle": "2023-01-04T22:58:26.256810Z",
     "shell.execute_reply": "2023-01-04T22:58:26.255828Z"
    },
    "papermill": {
     "duration": 1.149531,
     "end_time": "2023-01-04T22:58:26.258870",
     "exception": false,
     "start_time": "2023-01-04T22:58:25.109339",
     "status": "completed"
    },
    "tags": []
   },
   "outputs": [],
   "source": [
    "# %%time\n",
    "# X_train_bert = X_train[0:100].apply(\n",
    "#     lambda x: create_bert_input_target(x, description[\"BERT\"])\n",
    "# )\n",
    "# X_train_bert.values\n",
    "# # CPU times: user 19 s, sys: 125 ms, total: 19.1 s\n",
    "# # Wall time: 19.1 s"
   ]
  },
  {
   "cell_type": "code",
   "execution_count": 58,
   "id": "e3bf338d",
   "metadata": {
    "execution": {
     "iopub.execute_input": "2023-01-04T22:58:28.553332Z",
     "iopub.status.busy": "2023-01-04T22:58:28.552976Z",
     "iopub.status.idle": "2023-01-04T22:58:28.561778Z",
     "shell.execute_reply": "2023-01-04T22:58:28.560813Z"
    },
    "papermill": {
     "duration": 1.163536,
     "end_time": "2023-01-04T22:58:28.563713",
     "exception": false,
     "start_time": "2023-01-04T22:58:27.400177",
     "status": "completed"
    },
    "tags": []
   },
   "outputs": [],
   "source": [
    "# %%time\n",
    "# test = np.array(\n",
    "#     [create_bert_input_target(x, description[\"BERT\"]) for x in X_train[0:100].values]\n",
    "# )\n",
    "# test\n",
    "# # CPU times: user 19.2 s, sys: 149 ms, total: 19.4 s\n",
    "# # Wall time: 19.4 s"
   ]
  },
  {
   "cell_type": "code",
   "execution_count": 59,
   "id": "2d4b6bd8",
   "metadata": {
    "execution": {
     "iopub.execute_input": "2023-01-04T22:58:30.842191Z",
     "iopub.status.busy": "2023-01-04T22:58:30.841239Z",
     "iopub.status.idle": "2023-01-04T22:58:30.866260Z",
     "shell.execute_reply": "2023-01-04T22:58:30.865080Z"
    },
    "papermill": {
     "duration": 1.236934,
     "end_time": "2023-01-04T22:58:30.868276",
     "exception": false,
     "start_time": "2023-01-04T22:58:29.631342",
     "status": "completed"
    },
    "tags": []
   },
   "outputs": [
    {
     "name": "stdout",
     "output_type": "stream",
     "text": [
      "CPU times: user 5 µs, sys: 0 ns, total: 5 µs\n",
      "Wall time: 8.58 µs\n"
     ]
    }
   ],
   "source": [
    "%%time\n",
    "if description[\"BERT\"][\"actif\"]:\n",
    "    bert_model.fit(\n",
    "        np.array(\n",
    "            [create_bert_input_target(x, description[\"BERT\"]) for x in X_train.values]\n",
    "        ),\n",
    "        #         X_train_bert,\n",
    "        y_train,\n",
    "        epochs=description[\"BERT\"][\"epochs\"],\n",
    "        verbose=2,\n",
    "    )"
   ]
  },
  {
   "cell_type": "code",
   "execution_count": 60,
   "id": "5c566da9",
   "metadata": {
    "execution": {
     "iopub.execute_input": "2023-01-04T22:58:33.151887Z",
     "iopub.status.busy": "2023-01-04T22:58:33.151487Z",
     "iopub.status.idle": "2023-01-04T22:58:33.169030Z",
     "shell.execute_reply": "2023-01-04T22:58:33.168109Z"
    },
    "papermill": {
     "duration": 1.159052,
     "end_time": "2023-01-04T22:58:33.171099",
     "exception": false,
     "start_time": "2023-01-04T22:58:32.012047",
     "status": "completed"
    },
    "tags": []
   },
   "outputs": [],
   "source": [
    "def convert_pred_to_bool(preds):\n",
    "    return pd.DataFrame(\n",
    "        [\n",
    "            {tag: pred_tag > 0 for pred_tag, tag in zip(pred, target_names)}\n",
    "            for pred in preds\n",
    "        ]\n",
    "    )"
   ]
  },
  {
   "cell_type": "code",
   "execution_count": 61,
   "id": "2320fd61",
   "metadata": {
    "execution": {
     "iopub.execute_input": "2023-01-04T22:58:36.070534Z",
     "iopub.status.busy": "2023-01-04T22:58:36.070102Z",
     "iopub.status.idle": "2023-01-04T22:58:36.104732Z",
     "shell.execute_reply": "2023-01-04T22:58:36.103771Z"
    },
    "papermill": {
     "duration": 1.287751,
     "end_time": "2023-01-04T22:58:36.106946",
     "exception": false,
     "start_time": "2023-01-04T22:58:34.819195",
     "status": "completed"
    },
    "tags": []
   },
   "outputs": [
    {
     "name": "stdout",
     "output_type": "stream",
     "text": [
      "CPU times: user 5 µs, sys: 0 ns, total: 5 µs\n",
      "Wall time: 8.11 µs\n"
     ]
    }
   ],
   "source": [
    "%%time\n",
    "if description[\"BERT\"][\"actif\"]:\n",
    "    bert_model.save(\"BERT\")\n",
    "    pred_bert_proba = bert_model.predict(\n",
    "        np.array(\n",
    "            [create_bert_input_target(x, description[\"BERT\"]) for x in X_test.values]\n",
    "        )\n",
    "    )\n",
    "    pred_bert = convert_pred_to_bool(pred_bert_proba)\n",
    "    print(pred_bert.value_counts())\n",
    "    scores_bert = save_score(\n",
    "        y_test,\n",
    "        pred_bert,\n",
    "        target_names,\n",
    "        \"BERT\",\n",
    "    )\n",
    "    print(scores_bert.sort_values(by=\"f1-score\", ascending=False))"
   ]
  },
  {
   "cell_type": "code",
   "execution_count": 62,
   "id": "5e296e2a",
   "metadata": {
    "execution": {
     "iopub.execute_input": "2023-01-04T22:58:38.328525Z",
     "iopub.status.busy": "2023-01-04T22:58:38.328129Z",
     "iopub.status.idle": "2023-01-04T22:58:38.333253Z",
     "shell.execute_reply": "2023-01-04T22:58:38.332317Z"
    },
    "papermill": {
     "duration": 1.093293,
     "end_time": "2023-01-04T22:58:38.335196",
     "exception": false,
     "start_time": "2023-01-04T22:58:37.241903",
     "status": "completed"
    },
    "tags": []
   },
   "outputs": [],
   "source": [
    "# kerasBertPipeline = tf.keras.models.Sequential()\n",
    "# kerasBertPipeline(tokenizer, bert_model)"
   ]
  },
  {
   "cell_type": "code",
   "execution_count": 63,
   "id": "7af286c3",
   "metadata": {
    "execution": {
     "iopub.execute_input": "2023-01-04T22:58:40.592548Z",
     "iopub.status.busy": "2023-01-04T22:58:40.592097Z",
     "iopub.status.idle": "2023-01-04T22:58:40.597833Z",
     "shell.execute_reply": "2023-01-04T22:58:40.596773Z"
    },
    "papermill": {
     "duration": 1.142116,
     "end_time": "2023-01-04T22:58:40.599856",
     "exception": false,
     "start_time": "2023-01-04T22:58:39.457740",
     "status": "completed"
    },
    "tags": []
   },
   "outputs": [],
   "source": [
    "# kerasBertPipeline.compile(\n",
    "#     optimizer=\"adam\",\n",
    "#     loss=tf.keras.losses.BinaryCrossentropy(from_logits=True),\n",
    "#     metrics=[\"accuracy\"],\n",
    "# )\n",
    "# kerasBertPipeline.summary()"
   ]
  },
  {
   "cell_type": "code",
   "execution_count": 64,
   "id": "f81ffbf3",
   "metadata": {
    "execution": {
     "iopub.execute_input": "2023-01-04T22:58:42.811891Z",
     "iopub.status.busy": "2023-01-04T22:58:42.811516Z",
     "iopub.status.idle": "2023-01-04T22:58:42.818360Z",
     "shell.execute_reply": "2023-01-04T22:58:42.817334Z"
    },
    "papermill": {
     "duration": 1.082478,
     "end_time": "2023-01-04T22:58:42.820421",
     "exception": false,
     "start_time": "2023-01-04T22:58:41.737943",
     "status": "completed"
    },
    "tags": []
   },
   "outputs": [],
   "source": [
    "# %%time\n",
    "# kerasBertPipeline.compile(\n",
    "#     optimizer=\"adam\",\n",
    "#     loss=tf.keras.losses.BinaryCrossentropy(from_logits=True),\n",
    "#     metrics=[\"accuracy\"],\n",
    "# )\n",
    "# kerasBertPipeline.fit( X_train,\n",
    "#     y_train,\n",
    "#     epochs=1,\n",
    "#     verbose=2,)"
   ]
  },
  {
   "cell_type": "code",
   "execution_count": 65,
   "id": "c0ead223",
   "metadata": {
    "execution": {
     "iopub.execute_input": "2023-01-04T22:58:45.089824Z",
     "iopub.status.busy": "2023-01-04T22:58:45.089416Z",
     "iopub.status.idle": "2023-01-04T22:58:45.141737Z",
     "shell.execute_reply": "2023-01-04T22:58:45.140863Z"
    },
    "papermill": {
     "duration": 1.194914,
     "end_time": "2023-01-04T22:58:45.143953",
     "exception": false,
     "start_time": "2023-01-04T22:58:43.949039",
     "status": "completed"
    },
    "tags": []
   },
   "outputs": [],
   "source": [
    "def BertTransformer(sentences: list, params):\n",
    "    tokenizer = AutoTokenizer.from_pretrained(\"bert-base-uncased\")\n",
    "    model = AutoModel.from_pretrained(\"bert-base-uncased\")  # ou TFAutoModel\n",
    "    ## (input_ids,attention_mask,token_type_ids)\n",
    "    encoded_input = tokenizer(\n",
    "        sentences,\n",
    "        return_tensors=\"pt\",\n",
    "        padding=True,\n",
    "        truncation=True,\n",
    "        max_length=params[\"max_length\"],\n",
    "    )\n",
    "    #     model.predict(\n",
    "    #         [\n",
    "    #             encoded_input[\"input_ids\"],\n",
    "    #             encoded_input[\"attention_mask\"],\n",
    "    #             encoded_input[\"token_type_ids\"],\n",
    "    #         ], batch_size=params[\"batch_size\"]\n",
    "    #     )\n",
    "\n",
    "    #     return model\n",
    "    b_size = params[\"batch_size\"]\n",
    "    output = [\n",
    "        ## (last_hidden_state,pooler_output)\n",
    "        model(\n",
    "            encoded_input[\"input_ids\"][step : step + b_size],\n",
    "            attention_mask=encoded_input[\"attention_mask\"][step : step + b_size],\n",
    "        )\n",
    "        .last_hidden_state.detach()\n",
    "        .numpy()\n",
    "        for step in range(0, len(sentences), b_size)\n",
    "    ]\n",
    "    print(model.summary())\n",
    "    return np.concatenate(output)\n",
    "\n",
    "\n",
    "#     for step in range(len(sentences)//params[\"batch_size\"]):\n",
    "#         idx = step*params[\"batch_size\"]\n",
    "#         encoded_input_batch = encoded_input[idx:idx+params[\"batch_size\"]]\n",
    "#         output = model(\n",
    "#             encoded_input_batch[\"input_ids\"], attention_mask=encoded_input_batch[\"attention_mask\"]\n",
    "#         )\n",
    "#         print(output[\"last_hidden_state\"].shape)"
   ]
  },
  {
   "cell_type": "code",
   "execution_count": 66,
   "id": "8507cedf",
   "metadata": {
    "execution": {
     "iopub.execute_input": "2023-01-04T22:58:47.563665Z",
     "iopub.status.busy": "2023-01-04T22:58:47.563290Z",
     "iopub.status.idle": "2023-01-04T22:58:47.568384Z",
     "shell.execute_reply": "2023-01-04T22:58:47.567493Z"
    },
    "papermill": {
     "duration": 1.145186,
     "end_time": "2023-01-04T22:58:47.570325",
     "exception": false,
     "start_time": "2023-01-04T22:58:46.425139",
     "status": "completed"
    },
    "tags": []
   },
   "outputs": [],
   "source": [
    "# encoded_input"
   ]
  },
  {
   "cell_type": "code",
   "execution_count": 67,
   "id": "8f123b00",
   "metadata": {
    "execution": {
     "iopub.execute_input": "2023-01-04T22:58:49.844956Z",
     "iopub.status.busy": "2023-01-04T22:58:49.844525Z",
     "iopub.status.idle": "2023-01-04T22:58:49.850609Z",
     "shell.execute_reply": "2023-01-04T22:58:49.849639Z"
    },
    "papermill": {
     "duration": 1.145963,
     "end_time": "2023-01-04T22:58:49.852575",
     "exception": false,
     "start_time": "2023-01-04T22:58:48.706612",
     "status": "completed"
    },
    "tags": []
   },
   "outputs": [],
   "source": [
    "# # detect and init the TPU\n",
    "# tpu = tf.distribute.cluster_resolver.TPUClusterResolver.connect()\n",
    "\n",
    "# # instantiate a distribution strategy\n",
    "# tpu_strategy = tf.distribute.experimental.TPUStrategy(tpu)\n",
    "# with tpu_strategy.scope():\n",
    "# ..."
   ]
  },
  {
   "cell_type": "code",
   "execution_count": 68,
   "id": "14b820a3",
   "metadata": {
    "execution": {
     "iopub.execute_input": "2023-01-04T22:58:52.068571Z",
     "iopub.status.busy": "2023-01-04T22:58:52.068137Z",
     "iopub.status.idle": "2023-01-04T22:58:52.073383Z",
     "shell.execute_reply": "2023-01-04T22:58:52.072396Z"
    },
    "papermill": {
     "duration": 1.146976,
     "end_time": "2023-01-04T22:58:52.075390",
     "exception": false,
     "start_time": "2023-01-04T22:58:50.928414",
     "status": "completed"
    },
    "tags": []
   },
   "outputs": [],
   "source": [
    "# %%time\n",
    "# model = BertTransformer(list(X_train[0:5]), params=description[\"BERT\"])\n",
    "# model"
   ]
  },
  {
   "cell_type": "code",
   "execution_count": 69,
   "id": "332c08f3",
   "metadata": {
    "execution": {
     "iopub.execute_input": "2023-01-04T22:58:54.286280Z",
     "iopub.status.busy": "2023-01-04T22:58:54.285305Z",
     "iopub.status.idle": "2023-01-04T22:58:54.291149Z",
     "shell.execute_reply": "2023-01-04T22:58:54.290202Z"
    },
    "papermill": {
     "duration": 1.088469,
     "end_time": "2023-01-04T22:58:54.293212",
     "exception": false,
     "start_time": "2023-01-04T22:58:53.204743",
     "status": "completed"
    },
    "tags": []
   },
   "outputs": [],
   "source": [
    "# %%time\n",
    "# model = BertTransformer(list(X_train[0:50_000]), params=description[\"BERT\"])\n",
    "# # model = BertTransformer(list(X_train), params=description[\"BERT\"])\n",
    "# model\n",
    "# # model.mean(axis=1)"
   ]
  },
  {
   "cell_type": "markdown",
   "id": "61c98add",
   "metadata": {
    "papermill": {
     "duration": 1.136901,
     "end_time": "2023-01-04T22:58:56.557668",
     "exception": false,
     "start_time": "2023-01-04T22:58:55.420767",
     "status": "completed"
    },
    "tags": []
   },
   "source": [
    "# LDA "
   ]
  },
  {
   "cell_type": "markdown",
   "id": "10a665ae",
   "metadata": {
    "papermill": {
     "duration": 1.078351,
     "end_time": "2023-01-04T22:58:59.008511",
     "exception": false,
     "start_time": "2023-01-04T22:58:57.930160",
     "status": "completed"
    },
    "tags": []
   },
   "source": [
    "# USE"
   ]
  }
 ],
 "metadata": {
  "kernelspec": {
   "display_name": "Python 3",
   "language": "python",
   "name": "python3"
  },
  "language_info": {
   "codemirror_mode": {
    "name": "ipython",
    "version": 3
   },
   "file_extension": ".py",
   "mimetype": "text/x-python",
   "name": "python",
   "nbconvert_exporter": "python",
   "pygments_lexer": "ipython3",
   "version": "3.7.12"
  },
  "papermill": {
   "default_parameters": {},
   "duration": 3942.615315,
   "end_time": "2023-01-04T22:59:02.975924",
   "environment_variables": {},
   "exception": null,
   "input_path": "__notebook__.ipynb",
   "output_path": "__notebook__.ipynb",
   "parameters": {},
   "start_time": "2023-01-04T21:53:20.360609",
   "version": "2.3.4"
  },
  "widgets": {
   "application/vnd.jupyter.widget-state+json": {
    "state": {
     "452ccaaf1e824540986a155e7f826dae": {
      "model_module": "@jupyter-widgets/output",
      "model_module_version": "1.0.0",
      "model_name": "OutputModel",
      "state": {
       "_dom_classes": [],
       "_model_module": "@jupyter-widgets/output",
       "_model_module_version": "1.0.0",
       "_model_name": "OutputModel",
       "_view_count": null,
       "_view_module": "@jupyter-widgets/output",
       "_view_module_version": "1.0.0",
       "_view_name": "OutputView",
       "layout": "IPY_MODEL_7cd6d0c248e8466585753f8ad3351de9",
       "msg_id": "",
       "outputs": [
        {
         "name": "stdout",
         "output_type": "stream",
         "text": "Title:How to change culture to a DateTimepicker or calendar control in .Net\n******************************\nTitle_clean:change culture datetimepicker calendar control\n******************************\nBody:<p>How to set internationalization to a <code>DateTimepicker</code> or <code>Calendar WinForm</code> control in .Net when the desire culture is different to the one installed in the PC?</p>\n\n******************************\nBody_clean:set internationalization datetimepicker calendar winform control .net desire culture instal pc\n******************************\nCode:DateTimepicker Calendar WinForm\n******************************\nTags:c# .net internationalization datetimepicker culture\n"
        }
       ]
      }
     },
     "614032da3d204cc9919b382b7bcf0480": {
      "model_module": "@jupyter-widgets/controls",
      "model_module_version": "1.5.0",
      "model_name": "VBoxModel",
      "state": {
       "_dom_classes": [
        "widget-interact"
       ],
       "_model_module": "@jupyter-widgets/controls",
       "_model_module_version": "1.5.0",
       "_model_name": "VBoxModel",
       "_view_count": null,
       "_view_module": "@jupyter-widgets/controls",
       "_view_module_version": "1.5.0",
       "_view_name": "VBoxView",
       "box_style": "",
       "children": [
        "IPY_MODEL_d51311e5b1dd4741864dacc8bbd832ae",
        "IPY_MODEL_452ccaaf1e824540986a155e7f826dae"
       ],
       "layout": "IPY_MODEL_ccee7d08b2204f7f87cf68713ffa03ce"
      }
     },
     "75fd5a43504644d28dad710f498be2d8": {
      "model_module": "@jupyter-widgets/base",
      "model_module_version": "1.2.0",
      "model_name": "LayoutModel",
      "state": {
       "_model_module": "@jupyter-widgets/base",
       "_model_module_version": "1.2.0",
       "_model_name": "LayoutModel",
       "_view_count": null,
       "_view_module": "@jupyter-widgets/base",
       "_view_module_version": "1.2.0",
       "_view_name": "LayoutView",
       "align_content": null,
       "align_items": null,
       "align_self": null,
       "border": null,
       "bottom": null,
       "display": null,
       "flex": null,
       "flex_flow": null,
       "grid_area": null,
       "grid_auto_columns": null,
       "grid_auto_flow": null,
       "grid_auto_rows": null,
       "grid_column": null,
       "grid_gap": null,
       "grid_row": null,
       "grid_template_areas": null,
       "grid_template_columns": null,
       "grid_template_rows": null,
       "height": null,
       "justify_content": null,
       "justify_items": null,
       "left": null,
       "margin": null,
       "max_height": null,
       "max_width": null,
       "min_height": null,
       "min_width": null,
       "object_fit": null,
       "object_position": null,
       "order": null,
       "overflow": null,
       "overflow_x": null,
       "overflow_y": null,
       "padding": null,
       "right": null,
       "top": null,
       "visibility": null,
       "width": null
      }
     },
     "7cd6d0c248e8466585753f8ad3351de9": {
      "model_module": "@jupyter-widgets/base",
      "model_module_version": "1.2.0",
      "model_name": "LayoutModel",
      "state": {
       "_model_module": "@jupyter-widgets/base",
       "_model_module_version": "1.2.0",
       "_model_name": "LayoutModel",
       "_view_count": null,
       "_view_module": "@jupyter-widgets/base",
       "_view_module_version": "1.2.0",
       "_view_name": "LayoutView",
       "align_content": null,
       "align_items": null,
       "align_self": null,
       "border": null,
       "bottom": null,
       "display": null,
       "flex": null,
       "flex_flow": null,
       "grid_area": null,
       "grid_auto_columns": null,
       "grid_auto_flow": null,
       "grid_auto_rows": null,
       "grid_column": null,
       "grid_gap": null,
       "grid_row": null,
       "grid_template_areas": null,
       "grid_template_columns": null,
       "grid_template_rows": null,
       "height": null,
       "justify_content": null,
       "justify_items": null,
       "left": null,
       "margin": null,
       "max_height": null,
       "max_width": null,
       "min_height": null,
       "min_width": null,
       "object_fit": null,
       "object_position": null,
       "order": null,
       "overflow": null,
       "overflow_x": null,
       "overflow_y": null,
       "padding": null,
       "right": null,
       "top": null,
       "visibility": null,
       "width": null
      }
     },
     "ccee7d08b2204f7f87cf68713ffa03ce": {
      "model_module": "@jupyter-widgets/base",
      "model_module_version": "1.2.0",
      "model_name": "LayoutModel",
      "state": {
       "_model_module": "@jupyter-widgets/base",
       "_model_module_version": "1.2.0",
       "_model_name": "LayoutModel",
       "_view_count": null,
       "_view_module": "@jupyter-widgets/base",
       "_view_module_version": "1.2.0",
       "_view_name": "LayoutView",
       "align_content": null,
       "align_items": null,
       "align_self": null,
       "border": null,
       "bottom": null,
       "display": null,
       "flex": null,
       "flex_flow": null,
       "grid_area": null,
       "grid_auto_columns": null,
       "grid_auto_flow": null,
       "grid_auto_rows": null,
       "grid_column": null,
       "grid_gap": null,
       "grid_row": null,
       "grid_template_areas": null,
       "grid_template_columns": null,
       "grid_template_rows": null,
       "height": null,
       "justify_content": null,
       "justify_items": null,
       "left": null,
       "margin": null,
       "max_height": null,
       "max_width": null,
       "min_height": null,
       "min_width": null,
       "object_fit": null,
       "object_position": null,
       "order": null,
       "overflow": null,
       "overflow_x": null,
       "overflow_y": null,
       "padding": null,
       "right": null,
       "top": null,
       "visibility": null,
       "width": null
      }
     },
     "d51311e5b1dd4741864dacc8bbd832ae": {
      "model_module": "@jupyter-widgets/controls",
      "model_module_version": "1.5.0",
      "model_name": "IntSliderModel",
      "state": {
       "_dom_classes": [],
       "_model_module": "@jupyter-widgets/controls",
       "_model_module_version": "1.5.0",
       "_model_name": "IntSliderModel",
       "_view_count": null,
       "_view_module": "@jupyter-widgets/controls",
       "_view_module_version": "1.5.0",
       "_view_name": "IntSliderView",
       "continuous_update": true,
       "description": "i",
       "description_tooltip": null,
       "disabled": false,
       "layout": "IPY_MODEL_75fd5a43504644d28dad710f498be2d8",
       "max": 118441,
       "min": 0,
       "orientation": "horizontal",
       "readout": true,
       "readout_format": "d",
       "step": 1,
       "style": "IPY_MODEL_f96e452916e740bface2278f860a56ac",
       "value": 59220
      }
     },
     "f96e452916e740bface2278f860a56ac": {
      "model_module": "@jupyter-widgets/controls",
      "model_module_version": "1.5.0",
      "model_name": "SliderStyleModel",
      "state": {
       "_model_module": "@jupyter-widgets/controls",
       "_model_module_version": "1.5.0",
       "_model_name": "SliderStyleModel",
       "_view_count": null,
       "_view_module": "@jupyter-widgets/base",
       "_view_module_version": "1.2.0",
       "_view_name": "StyleView",
       "description_width": "",
       "handle_color": null
      }
     }
    },
    "version_major": 2,
    "version_minor": 0
   }
  }
 },
 "nbformat": 4,
 "nbformat_minor": 5
}
