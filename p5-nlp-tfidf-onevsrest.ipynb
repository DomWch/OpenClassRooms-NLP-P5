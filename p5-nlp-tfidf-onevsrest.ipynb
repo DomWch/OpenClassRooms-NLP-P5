{
 "cells": [
  {
   "cell_type": "markdown",
   "id": "ce01ee21",
   "metadata": {
    "papermill": {
     "duration": 0.017595,
     "end_time": "2023-01-03T18:19:00.458292",
     "exception": false,
     "start_time": "2023-01-03T18:19:00.440697",
     "status": "completed"
    },
    "tags": []
   },
   "source": [
    "# Index\n",
    "* [Import](#index)\n",
    "* [Tokenization](#Tokenization)\n",
    "* [CountVectorizer](#CountVectorizer)\n",
    "* [PreprocessPipeline](#PreprocessPipeline)\n",
    "* [OvsRest](#OvsRest)\n",
    "    - [LogisticRegression](#LogisticRegression)\n",
    "    - [SVC](#SVC)\n",
    "* [Word2Vec](#Word2Vec)\n",
    "* [BERT](#BERT)\n",
    "* [USE](#USE)"
   ]
  },
  {
   "cell_type": "code",
   "execution_count": 1,
   "id": "ba538061",
   "metadata": {
    "_cell_guid": "b1076dfc-b9ad-4769-8c92-a6c4dae69d19",
    "_uuid": "8f2839f25d086af736a60e9eeb907d3b93b6e0e5",
    "execution": {
     "iopub.execute_input": "2023-01-03T18:19:00.488491Z",
     "iopub.status.busy": "2023-01-03T18:19:00.487253Z",
     "iopub.status.idle": "2023-01-03T18:19:07.303346Z",
     "shell.execute_reply": "2023-01-03T18:19:07.302308Z"
    },
    "papermill": {
     "duration": 6.833801,
     "end_time": "2023-01-03T18:19:07.305956",
     "exception": false,
     "start_time": "2023-01-03T18:19:00.472155",
     "status": "completed"
    },
    "tags": []
   },
   "outputs": [],
   "source": [
    "import time\n",
    "import json\n",
    "\n",
    "# from joblib import dump, load, Memory\n",
    "import joblib\n",
    "import dill\n",
    "import weakref\n",
    "\n",
    "# import warnings\n",
    "\n",
    "import numpy as np\n",
    "import pandas as pd\n",
    "import gensim\n",
    "import matplotlib.pyplot as plt\n",
    "\n",
    "# from gensim import (\n",
    "#     corpora,\n",
    "# )  # https://pypi.org/project/gensim/ #https://radimrehurek.com/gensim/auto_examples/core/run_topics_and_transformations.html#sphx-glr-auto-examples-core-run-topics-and-transformations-py\n",
    "from sklearn import (\n",
    "    metrics,\n",
    "    feature_extraction,\n",
    "    linear_model,\n",
    "    model_selection,\n",
    "    preprocessing,\n",
    "    cluster,\n",
    "    decomposition,\n",
    "    multiclass,\n",
    "    svm,\n",
    "    pipeline,\n",
    "    exceptions,\n",
    "    manifold,\n",
    ")\n",
    "from sklearn.utils._testing import ignore_warnings\n",
    "from sklearn.base import BaseEstimator, TransformerMixin\n",
    "import tensorflow as tf\n",
    "from transformers import AutoTokenizer, TFAutoModel, AutoModel  # BertModel\n",
    "import transformers\n",
    "\n",
    "\n",
    "# import nlpk"
   ]
  },
  {
   "cell_type": "markdown",
   "id": "52c243ee",
   "metadata": {
    "papermill": {
     "duration": 0.013028,
     "end_time": "2023-01-03T18:19:07.332627",
     "exception": false,
     "start_time": "2023-01-03T18:19:07.319599",
     "status": "completed"
    },
    "tags": []
   },
   "source": [
    "test https://scikit-learn.org/stable/modules/multiclass.html autre stategie que OneVsRest\n",
    "https://keras.io/examples/nlp/text_extraction_with_bert/"
   ]
  },
  {
   "cell_type": "code",
   "execution_count": 2,
   "id": "d3e1d11e",
   "metadata": {
    "_kg_hide-output": true,
    "execution": {
     "iopub.execute_input": "2023-01-03T18:19:07.362826Z",
     "iopub.status.busy": "2023-01-03T18:19:07.360666Z",
     "iopub.status.idle": "2023-01-03T18:19:18.733059Z",
     "shell.execute_reply": "2023-01-03T18:19:18.731253Z"
    },
    "papermill": {
     "duration": 11.389282,
     "end_time": "2023-01-03T18:19:18.735379",
     "exception": false,
     "start_time": "2023-01-03T18:19:07.346097",
     "status": "completed"
    },
    "tags": []
   },
   "outputs": [
    {
     "name": "stdout",
     "output_type": "stream",
     "text": [
      "\u001b[33mWARNING: Running pip as the 'root' user can result in broken permissions and conflicting behaviour with the system package manager. It is recommended to use a virtual environment instead: https://pip.pypa.io/warnings/venv\u001b[0m\u001b[33m\r\n",
      "\u001b[0mNote: you may need to restart the kernel to use updated packages.\n"
     ]
    }
   ],
   "source": [
    "pip install -q jupyter-black jupyter"
   ]
  },
  {
   "cell_type": "code",
   "execution_count": 3,
   "id": "3cdfaa81",
   "metadata": {
    "execution": {
     "iopub.execute_input": "2023-01-03T18:19:18.763384Z",
     "iopub.status.busy": "2023-01-03T18:19:18.763023Z",
     "iopub.status.idle": "2023-01-03T18:19:18.906192Z",
     "shell.execute_reply": "2023-01-03T18:19:18.904922Z"
    },
    "papermill": {
     "duration": 0.160427,
     "end_time": "2023-01-03T18:19:18.909235",
     "exception": false,
     "start_time": "2023-01-03T18:19:18.748808",
     "status": "completed"
    },
    "tags": []
   },
   "outputs": [
    {
     "data": {
      "text/html": [
       "\n",
       "                <script type=\"application/javascript\" id=\"jupyter_black\">\n",
       "                (function() {\n",
       "                    if (window.IPython === undefined) {\n",
       "                        return\n",
       "                    }\n",
       "                    var msg = \"WARNING: it looks like you might have loaded \" +\n",
       "                        \"jupyter_black in a non-lab notebook with \" +\n",
       "                        \"`is_lab=True`. Please double check, and if \" +\n",
       "                        \"loading with `%load_ext` please review the README!\"\n",
       "                    console.log(msg)\n",
       "                    alert(msg)\n",
       "                })()\n",
       "                </script>\n",
       "                "
      ],
      "text/plain": [
       "<IPython.core.display.HTML object>"
      ]
     },
     "metadata": {},
     "output_type": "display_data"
    }
   ],
   "source": [
    "# for black formating\n",
    "import jupyter_black  # pip install jupyter-black jupyter\n",
    "\n",
    "jupyter_black.load()\n",
    "# ??jupyter_black.load #show config"
   ]
  },
  {
   "cell_type": "code",
   "execution_count": 4,
   "id": "f85340d6",
   "metadata": {
    "execution": {
     "iopub.execute_input": "2023-01-03T18:19:18.937333Z",
     "iopub.status.busy": "2023-01-03T18:19:18.937029Z",
     "iopub.status.idle": "2023-01-03T18:19:26.607811Z",
     "shell.execute_reply": "2023-01-03T18:19:26.606591Z"
    },
    "papermill": {
     "duration": 7.688122,
     "end_time": "2023-01-03T18:19:26.610721",
     "exception": false,
     "start_time": "2023-01-03T18:19:18.922599",
     "status": "completed"
    },
    "tags": []
   },
   "outputs": [
    {
     "name": "stdout",
     "output_type": "stream",
     "text": [
      "<class 'pandas.core.frame.DataFrame'>\n",
      "Int64Index: 118442 entries, 0 to 118441\n",
      "Data columns (total 12 columns):\n",
      " #   Column       Non-Null Count   Dtype \n",
      "---  ------       --------------   ----- \n",
      " 0   Id           118442 non-null  int64 \n",
      " 1   Title        118442 non-null  object\n",
      " 2   Body         118442 non-null  object\n",
      " 3   0            118440 non-null  object\n",
      " 4   1            118383 non-null  object\n",
      " 5   2            118292 non-null  object\n",
      " 6   3            118292 non-null  object\n",
      " 7   4            76389 non-null   object\n",
      " 8   5            4 non-null       object\n",
      " 9   Title_clean  118389 non-null  object\n",
      " 10  Code         88202 non-null   object\n",
      " 11  Body_clean   118392 non-null  object\n",
      "dtypes: int64(1), object(11)\n",
      "memory usage: 11.7+ MB\n"
     ]
    }
   ],
   "source": [
    "df = pd.read_csv(\n",
    "    \"/kaggle/input/p5-nlp/stackoverflowCleaned.csv\", index_col=0, low_memory=False\n",
    ")\n",
    "df.info()"
   ]
  },
  {
   "cell_type": "code",
   "execution_count": 5,
   "id": "84aab890",
   "metadata": {
    "execution": {
     "iopub.execute_input": "2023-01-03T18:19:26.640745Z",
     "iopub.status.busy": "2023-01-03T18:19:26.639995Z",
     "iopub.status.idle": "2023-01-03T18:19:26.697105Z",
     "shell.execute_reply": "2023-01-03T18:19:26.696207Z"
    },
    "papermill": {
     "duration": 0.073458,
     "end_time": "2023-01-03T18:19:26.699185",
     "exception": false,
     "start_time": "2023-01-03T18:19:26.625727",
     "status": "completed"
    },
    "tags": []
   },
   "outputs": [],
   "source": [
    "LONG = False\n",
    "description = {\n",
    "    \"title\": \"Keras Sequential Model with Word2Vec (kerasPipeline) i give up trying to fit keras into sklearn pipeline\",\n",
    "    \"CountVectorizer\": {\"min_df\": 0.00001, \"max_df\": 0.995, \"max_features\": None},\n",
    "    \"StandardScaler\": {\"actif\": False},\n",
    "    \"TruncatedSVD\": {\"actif\": False, \"n_components\": 1_000},\n",
    "    \"LogisticRegression\": {\"actif\": False},\n",
    "    \"TfidfOvRSVC\": {\"actif\": False, \"max_iter\": 100},\n",
    "    \"Word2Vec\": {\n",
    "        \"actif\": False,\n",
    "        \"min_count\": 1,\n",
    "        \"size\": 500,\n",
    "        \"window\": 10,\n",
    "        \"epochs\": 100,\n",
    "        \"maxlen\": 50,\n",
    "        \"max_iter\": 6_000,\n",
    "    },\n",
    "    \"BERT\": {\"actif\": False, \"max_length\": 20, \"max_iter\": 5_000, \"batch_size\": 20},\n",
    "    \"kerasPipeline\": {\n",
    "        \"actif\": True,\n",
    "        \"TextVectorization__max_tokens\": 200_000,  # 20_000,\n",
    "        \"TextVectorization__output_sequence_length\": 50,  # 20\n",
    "        \"Embedding__output_dim\": 500,\n",
    "        \"Word2Vec__min_count\": 1,\n",
    "        \"Word2Vec__window\": 20,\n",
    "        \"Word2Vec__epochs\": 100,  # 100,\n",
    "        \"fit__epochs\": 20,  # 15\n",
    "    },\n",
    "}"
   ]
  },
  {
   "cell_type": "code",
   "execution_count": 6,
   "id": "ae0a3ce5",
   "metadata": {
    "execution": {
     "iopub.execute_input": "2023-01-03T18:19:26.727533Z",
     "iopub.status.busy": "2023-01-03T18:19:26.727258Z",
     "iopub.status.idle": "2023-01-03T18:19:26.732751Z",
     "shell.execute_reply": "2023-01-03T18:19:26.731864Z"
    },
    "papermill": {
     "duration": 0.022741,
     "end_time": "2023-01-03T18:19:26.735028",
     "exception": false,
     "start_time": "2023-01-03T18:19:26.712287",
     "status": "completed"
    },
    "tags": []
   },
   "outputs": [],
   "source": [
    "# # ultra fast\n",
    "# description[\"kerasPipeline\"][\"fit__epochs\"] = 1\n",
    "# description[\"kerasPipeline\"][\"TextVectorization__max_tokens\"] = 100\n",
    "# description[\"kerasPipeline\"][\"TextVectorization__output_sequence_length\"] = 5\n",
    "# description[\"kerasPipeline\"][\"Word2Vec__epochs\"] = 1\n",
    "# description[\"kerasPipeline\"][\"Embedding__output_dim\"] = 10"
   ]
  },
  {
   "cell_type": "code",
   "execution_count": 7,
   "id": "bfbe181c",
   "metadata": {
    "execution": {
     "iopub.execute_input": "2023-01-03T18:19:26.761939Z",
     "iopub.status.busy": "2023-01-03T18:19:26.761635Z",
     "iopub.status.idle": "2023-01-03T18:19:26.780469Z",
     "shell.execute_reply": "2023-01-03T18:19:26.779613Z"
    },
    "papermill": {
     "duration": 0.034538,
     "end_time": "2023-01-03T18:19:26.782473",
     "exception": false,
     "start_time": "2023-01-03T18:19:26.747935",
     "status": "completed"
    },
    "tags": []
   },
   "outputs": [],
   "source": [
    "class colors:\n",
    "    PURPLE = \"\\033[95m\"\n",
    "    BLUE = \"\\033[94m\"\n",
    "    CYAN = \"\\033[96m\"\n",
    "    GREEN = \"\\033[92m\"\n",
    "    YELLOW = \"\\033[93m\"\n",
    "    RED = \"\\033[91m\"\n",
    "    ENDC = \"\\033[0m\"\n",
    "    BOLD = \"\\033[1m\"\n",
    "    UNDERLINE = \"\\033[4m\""
   ]
  },
  {
   "cell_type": "markdown",
   "id": "73165262",
   "metadata": {
    "papermill": {
     "duration": 0.013101,
     "end_time": "2023-01-03T18:19:26.808692",
     "exception": false,
     "start_time": "2023-01-03T18:19:26.795591",
     "status": "completed"
    },
    "tags": []
   },
   "source": [
    "# Tokenization"
   ]
  },
  {
   "cell_type": "code",
   "execution_count": 8,
   "id": "0013d5bc",
   "metadata": {
    "execution": {
     "iopub.execute_input": "2023-01-03T18:19:26.837743Z",
     "iopub.status.busy": "2023-01-03T18:19:26.836797Z",
     "iopub.status.idle": "2023-01-03T18:19:26.884062Z",
     "shell.execute_reply": "2023-01-03T18:19:26.882917Z"
    },
    "papermill": {
     "duration": 0.065088,
     "end_time": "2023-01-03T18:19:26.887104",
     "exception": false,
     "start_time": "2023-01-03T18:19:26.822016",
     "status": "completed"
    },
    "tags": []
   },
   "outputs": [
    {
     "data": {
      "application/vnd.jupyter.widget-view+json": {
       "model_id": "7184c8784b4c453ca481c5623d7e3095",
       "version_major": 2,
       "version_minor": 0
      },
      "text/plain": [
       "interactive(children=(IntSlider(value=59220, description='i', max=118441), Output()), _dom_classes=('widget-in…"
      ]
     },
     "metadata": {},
     "output_type": "display_data"
    }
   ],
   "source": [
    "from ipywidgets import interact\n",
    "\n",
    "\n",
    "@interact(i=(0, df.shape[0] - 1))\n",
    "def test_tr_print(i):\n",
    "    print(\n",
    "        f'Title:{df[\"Title\"][i]}\\n{\"*\"*30}\\nTitle_clean:{df[\"Title_clean\"][i]}\\n{\"*\"*30}\\nBody:{df[\"Body\"][i]}\\n{\"*\"*30}\\nBody_clean:{df[\"Body_clean\"][i]}\\n{\"*\"*30}\\nCode:{df[\"Code\"][i]}\\n{\"*\"*30}\\nTags:{df.loc[i,\"0\"]} {df.loc[i,\"1\"]} {df.loc[i,\"2\"]} {df.loc[i,\"3\"]} {df.loc[i,\"4\"]}'\n",
    "    )"
   ]
  },
  {
   "cell_type": "code",
   "execution_count": 9,
   "id": "db1295d7",
   "metadata": {
    "execution": {
     "iopub.execute_input": "2023-01-03T18:19:26.916803Z",
     "iopub.status.busy": "2023-01-03T18:19:26.916158Z",
     "iopub.status.idle": "2023-01-03T18:19:26.939820Z",
     "shell.execute_reply": "2023-01-03T18:19:26.938895Z"
    },
    "papermill": {
     "duration": 0.040337,
     "end_time": "2023-01-03T18:19:26.941908",
     "exception": false,
     "start_time": "2023-01-03T18:19:26.901571",
     "status": "completed"
    },
    "tags": []
   },
   "outputs": [
    {
     "data": {
      "text/plain": [
       "53"
      ]
     },
     "execution_count": 9,
     "metadata": {},
     "output_type": "execute_result"
    }
   ],
   "source": [
    "sum(df[\"Title_clean\"].isna())"
   ]
  },
  {
   "cell_type": "code",
   "execution_count": 10,
   "id": "bc2dd999",
   "metadata": {
    "execution": {
     "iopub.execute_input": "2023-01-03T18:19:26.970120Z",
     "iopub.status.busy": "2023-01-03T18:19:26.969566Z",
     "iopub.status.idle": "2023-01-03T18:19:27.005317Z",
     "shell.execute_reply": "2023-01-03T18:19:27.004415Z"
    },
    "papermill": {
     "duration": 0.052031,
     "end_time": "2023-01-03T18:19:27.007389",
     "exception": false,
     "start_time": "2023-01-03T18:19:26.955358",
     "status": "completed"
    },
    "tags": []
   },
   "outputs": [
    {
     "data": {
      "text/html": [
       "<div>\n",
       "<style scoped>\n",
       "    .dataframe tbody tr th:only-of-type {\n",
       "        vertical-align: middle;\n",
       "    }\n",
       "\n",
       "    .dataframe tbody tr th {\n",
       "        vertical-align: top;\n",
       "    }\n",
       "\n",
       "    .dataframe thead th {\n",
       "        text-align: right;\n",
       "    }\n",
       "</style>\n",
       "<table border=\"1\" class=\"dataframe\">\n",
       "  <thead>\n",
       "    <tr style=\"text-align: right;\">\n",
       "      <th></th>\n",
       "      <th>Title</th>\n",
       "      <th>Title_clean</th>\n",
       "      <th>Body</th>\n",
       "      <th>Body_clean</th>\n",
       "      <th>0</th>\n",
       "      <th>1</th>\n",
       "      <th>2</th>\n",
       "      <th>3</th>\n",
       "      <th>4</th>\n",
       "    </tr>\n",
       "  </thead>\n",
       "  <tbody>\n",
       "    <tr>\n",
       "      <th>302</th>\n",
       "      <td>Is &lt; faster than &lt;=?</td>\n",
       "      <td>NaN</td>\n",
       "      <td>&lt;p&gt;Is &lt;code&gt;if (a &amp;lt; 901)&lt;/code&gt; faster than...</td>\n",
       "      <td>example performance change loop code suppose g...</td>\n",
       "      <td>c++</td>\n",
       "      <td>c</td>\n",
       "      <td>performance</td>\n",
       "      <td>assembly</td>\n",
       "      <td>relational-operators</td>\n",
       "    </tr>\n",
       "    <tr>\n",
       "      <th>393</th>\n",
       "      <td>What is setup.py?</td>\n",
       "      <td>NaN</td>\n",
       "      <td>&lt;p&gt;What is &lt;code&gt;setup.py&lt;/code&gt; and how can i...</td>\n",
       "      <td>configure</td>\n",
       "      <td>python</td>\n",
       "      <td>pypi</td>\n",
       "      <td>setup.py</td>\n",
       "      <td>python-packaging</td>\n",
       "      <td>NaN</td>\n",
       "    </tr>\n",
       "    <tr>\n",
       "      <th>1437</th>\n",
       "      <td>What is related_name used for?</td>\n",
       "      <td>NaN</td>\n",
       "      <td>&lt;p&gt;What is the &lt;code&gt;related_name&lt;/code&gt; argum...</td>\n",
       "      <td>argument manytomanyfield foreignkey field exam...</td>\n",
       "      <td>python</td>\n",
       "      <td>django</td>\n",
       "      <td>foreign-keys</td>\n",
       "      <td>many-to-many</td>\n",
       "      <td>NaN</td>\n",
       "    </tr>\n",
       "    <tr>\n",
       "      <th>4062</th>\n",
       "      <td>What is \"android:allowBackup\"?</td>\n",
       "      <td>NaN</td>\n",
       "      <td>&lt;p&gt;Since the &lt;a href=\"http://tools.android.com...</td>\n",
       "      <td>adt preview version version lint warning tell ...</td>\n",
       "      <td>android</td>\n",
       "      <td>adt</td>\n",
       "      <td>compiler-warnings</td>\n",
       "      <td>android-lint</td>\n",
       "      <td>android-backup-service</td>\n",
       "    </tr>\n",
       "    <tr>\n",
       "      <th>4870</th>\n",
       "      <td>Why is 0 &lt; -0x80000000?</td>\n",
       "      <td>NaN</td>\n",
       "      <td>&lt;p&gt;I have below a simple program:&lt;/p&gt;\\n\\n&lt;pre&gt;...</td>\n",
       "      <td>program condition if(bal int32_min work change...</td>\n",
       "      <td>c</td>\n",
       "      <td>signed</td>\n",
       "      <td>numeric-limits</td>\n",
       "      <td>numeric-conversion</td>\n",
       "      <td>NaN</td>\n",
       "    </tr>\n",
       "  </tbody>\n",
       "</table>\n",
       "</div>"
      ],
      "text/plain": [
       "                               Title Title_clean  \\\n",
       "302             Is < faster than <=?         NaN   \n",
       "393                What is setup.py?         NaN   \n",
       "1437  What is related_name used for?         NaN   \n",
       "4062  What is \"android:allowBackup\"?         NaN   \n",
       "4870         Why is 0 < -0x80000000?         NaN   \n",
       "\n",
       "                                                   Body  \\\n",
       "302   <p>Is <code>if (a &lt; 901)</code> faster than...   \n",
       "393   <p>What is <code>setup.py</code> and how can i...   \n",
       "1437  <p>What is the <code>related_name</code> argum...   \n",
       "4062  <p>Since the <a href=\"http://tools.android.com...   \n",
       "4870  <p>I have below a simple program:</p>\\n\\n<pre>...   \n",
       "\n",
       "                                             Body_clean        0       1  \\\n",
       "302   example performance change loop code suppose g...      c++       c   \n",
       "393                                           configure   python    pypi   \n",
       "1437  argument manytomanyfield foreignkey field exam...   python  django   \n",
       "4062  adt preview version version lint warning tell ...  android     adt   \n",
       "4870  program condition if(bal int32_min work change...        c  signed   \n",
       "\n",
       "                      2                   3                       4  \n",
       "302         performance            assembly    relational-operators  \n",
       "393            setup.py    python-packaging                     NaN  \n",
       "1437       foreign-keys        many-to-many                     NaN  \n",
       "4062  compiler-warnings        android-lint  android-backup-service  \n",
       "4870     numeric-limits  numeric-conversion                     NaN  "
      ]
     },
     "execution_count": 10,
     "metadata": {},
     "output_type": "execute_result"
    }
   ],
   "source": [
    "df[df[\"Title_clean\"].isna()][\n",
    "    [\"Title\", \"Title_clean\", \"Body\", \"Body_clean\", \"0\", \"1\", \"2\", \"3\", \"4\"]\n",
    "].head(5)"
   ]
  },
  {
   "cell_type": "code",
   "execution_count": 11,
   "id": "b55d2072",
   "metadata": {
    "execution": {
     "iopub.execute_input": "2023-01-03T18:19:27.037998Z",
     "iopub.status.busy": "2023-01-03T18:19:27.036390Z",
     "iopub.status.idle": "2023-01-03T18:19:27.102027Z",
     "shell.execute_reply": "2023-01-03T18:19:27.100791Z"
    },
    "papermill": {
     "duration": 0.083509,
     "end_time": "2023-01-03T18:19:27.104708",
     "exception": false,
     "start_time": "2023-01-03T18:19:27.021199",
     "status": "completed"
    },
    "tags": []
   },
   "outputs": [
    {
     "name": "stdout",
     "output_type": "stream",
     "text": [
      "50\n"
     ]
    },
    {
     "data": {
      "text/html": [
       "<div>\n",
       "<style scoped>\n",
       "    .dataframe tbody tr th:only-of-type {\n",
       "        vertical-align: middle;\n",
       "    }\n",
       "\n",
       "    .dataframe tbody tr th {\n",
       "        vertical-align: top;\n",
       "    }\n",
       "\n",
       "    .dataframe thead th {\n",
       "        text-align: right;\n",
       "    }\n",
       "</style>\n",
       "<table border=\"1\" class=\"dataframe\">\n",
       "  <thead>\n",
       "    <tr style=\"text-align: right;\">\n",
       "      <th></th>\n",
       "      <th>Title</th>\n",
       "      <th>Title_clean</th>\n",
       "      <th>Body</th>\n",
       "      <th>Body_clean</th>\n",
       "      <th>Code</th>\n",
       "    </tr>\n",
       "  </thead>\n",
       "  <tbody>\n",
       "    <tr>\n",
       "      <th>5</th>\n",
       "      <td>What and where are the stack and heap?</td>\n",
       "      <td>stack heap</td>\n",
       "      <td>&lt;ul&gt;\\n&lt;li&gt;What are the stack and heap?&lt;/li&gt;\\n&lt;...</td>\n",
       "      <td>NaN</td>\n",
       "      <td>NaN</td>\n",
       "    </tr>\n",
       "    <tr>\n",
       "      <th>168</th>\n",
       "      <td>What is The Rule of Three?</td>\n",
       "      <td>rule</td>\n",
       "      <td>&lt;ul&gt;\\n&lt;li&gt;What does &lt;em&gt;copying an object&lt;/em&gt;...</td>\n",
       "      <td>NaN</td>\n",
       "      <td>NaN</td>\n",
       "    </tr>\n",
       "    <tr>\n",
       "      <th>828</th>\n",
       "      <td>Why are these constructs using pre and post-in...</td>\n",
       "      <td>construct pre behavior</td>\n",
       "      <td>&lt;pre&gt;&lt;code&gt;#include &amp;lt;stdio.h&amp;gt;\\n\\nint mai...</td>\n",
       "      <td>NaN</td>\n",
       "      <td>#include &lt;stdio.h&gt;\\n\\nint main(void)\\n{\\n   in...</td>\n",
       "    </tr>\n",
       "    <tr>\n",
       "      <th>1207</th>\n",
       "      <td>How to use ADB Shell when Multiple Devices are...</td>\n",
       "      <td>use adb shell multiple device connect fail err...</td>\n",
       "      <td>&lt;pre&gt;&lt;code&gt;$ adb --help\\n&lt;/code&gt;&lt;/pre&gt;\\n&lt;hr /&gt;...</td>\n",
       "      <td>NaN</td>\n",
       "      <td>$ adb --help\\n -s SERIAL  use device with give...</td>\n",
       "    </tr>\n",
       "    <tr>\n",
       "      <th>1640</th>\n",
       "      <td>What are the advantages of list initialization...</td>\n",
       "      <td>advantage list initialization brace</td>\n",
       "      <td>&lt;pre&gt;&lt;code&gt;MyClass a1 {a};     // clearer and ...</td>\n",
       "      <td>NaN</td>\n",
       "      <td>MyClass a1 {a};     // clearer and less error-...</td>\n",
       "    </tr>\n",
       "  </tbody>\n",
       "</table>\n",
       "</div>"
      ],
      "text/plain": [
       "                                                  Title  \\\n",
       "5                What and where are the stack and heap?   \n",
       "168                          What is The Rule of Three?   \n",
       "828   Why are these constructs using pre and post-in...   \n",
       "1207  How to use ADB Shell when Multiple Devices are...   \n",
       "1640  What are the advantages of list initialization...   \n",
       "\n",
       "                                            Title_clean  \\\n",
       "5                                            stack heap   \n",
       "168                                                rule   \n",
       "828                              construct pre behavior   \n",
       "1207  use adb shell multiple device connect fail err...   \n",
       "1640                advantage list initialization brace   \n",
       "\n",
       "                                                   Body Body_clean  \\\n",
       "5     <ul>\\n<li>What are the stack and heap?</li>\\n<...        NaN   \n",
       "168   <ul>\\n<li>What does <em>copying an object</em>...        NaN   \n",
       "828   <pre><code>#include &lt;stdio.h&gt;\\n\\nint mai...        NaN   \n",
       "1207  <pre><code>$ adb --help\\n</code></pre>\\n<hr />...        NaN   \n",
       "1640  <pre><code>MyClass a1 {a};     // clearer and ...        NaN   \n",
       "\n",
       "                                                   Code  \n",
       "5                                                   NaN  \n",
       "168                                                 NaN  \n",
       "828   #include <stdio.h>\\n\\nint main(void)\\n{\\n   in...  \n",
       "1207  $ adb --help\\n -s SERIAL  use device with give...  \n",
       "1640  MyClass a1 {a};     // clearer and less error-...  "
      ]
     },
     "execution_count": 11,
     "metadata": {},
     "output_type": "execute_result"
    }
   ],
   "source": [
    "print(sum(df[\"Body_clean\"].isna()))\n",
    "df[df[\"Body_clean\"].isna()][\n",
    "    [\"Title\", \"Title_clean\", \"Body\", \"Body_clean\", \"Code\"]\n",
    "].head(5)"
   ]
  },
  {
   "cell_type": "code",
   "execution_count": 12,
   "id": "6e5a40fc",
   "metadata": {
    "execution": {
     "iopub.execute_input": "2023-01-03T18:19:27.138803Z",
     "iopub.status.busy": "2023-01-03T18:19:27.138412Z",
     "iopub.status.idle": "2023-01-03T18:19:27.172866Z",
     "shell.execute_reply": "2023-01-03T18:19:27.171894Z"
    },
    "papermill": {
     "duration": 0.05421,
     "end_time": "2023-01-03T18:19:27.175237",
     "exception": false,
     "start_time": "2023-01-03T18:19:27.121027",
     "status": "completed"
    },
    "tags": []
   },
   "outputs": [
    {
     "data": {
      "text/plain": [
       "0"
      ]
     },
     "execution_count": 12,
     "metadata": {},
     "output_type": "execute_result"
    }
   ],
   "source": [
    "len(df[df[\"Body_clean\"].isna() & df[\"Title_clean\"].isna()])"
   ]
  },
  {
   "cell_type": "code",
   "execution_count": 13,
   "id": "a1fe407e",
   "metadata": {
    "execution": {
     "iopub.execute_input": "2023-01-03T18:19:27.209736Z",
     "iopub.status.busy": "2023-01-03T18:19:27.208833Z",
     "iopub.status.idle": "2023-01-03T18:19:27.318645Z",
     "shell.execute_reply": "2023-01-03T18:19:27.317414Z"
    },
    "papermill": {
     "duration": 0.130298,
     "end_time": "2023-01-03T18:19:27.321701",
     "exception": false,
     "start_time": "2023-01-03T18:19:27.191403",
     "status": "completed"
    },
    "tags": []
   },
   "outputs": [
    {
     "data": {
      "text/plain": [
       "103"
      ]
     },
     "execution_count": 13,
     "metadata": {},
     "output_type": "execute_result"
    }
   ],
   "source": [
    "sum((df[\"Title_clean\"] + df[\"Body_clean\"]).isna())"
   ]
  },
  {
   "cell_type": "code",
   "execution_count": 14,
   "id": "74c84cf8",
   "metadata": {
    "execution": {
     "iopub.execute_input": "2023-01-03T18:19:27.356452Z",
     "iopub.status.busy": "2023-01-03T18:19:27.356109Z",
     "iopub.status.idle": "2023-01-03T18:19:27.448631Z",
     "shell.execute_reply": "2023-01-03T18:19:27.447687Z"
    },
    "papermill": {
     "duration": 0.11257,
     "end_time": "2023-01-03T18:19:27.450925",
     "exception": false,
     "start_time": "2023-01-03T18:19:27.338355",
     "status": "completed"
    },
    "tags": []
   },
   "outputs": [
    {
     "data": {
      "text/html": [
       "<div>\n",
       "<style scoped>\n",
       "    .dataframe tbody tr th:only-of-type {\n",
       "        vertical-align: middle;\n",
       "    }\n",
       "\n",
       "    .dataframe tbody tr th {\n",
       "        vertical-align: top;\n",
       "    }\n",
       "\n",
       "    .dataframe thead th {\n",
       "        text-align: right;\n",
       "    }\n",
       "</style>\n",
       "<table border=\"1\" class=\"dataframe\">\n",
       "  <thead>\n",
       "    <tr style=\"text-align: right;\">\n",
       "      <th></th>\n",
       "      <th>javascript</th>\n",
       "      <th>java</th>\n",
       "      <th>c#</th>\n",
       "      <th>python</th>\n",
       "      <th>html</th>\n",
       "      <th>git</th>\n",
       "      <th>php</th>\n",
       "    </tr>\n",
       "  </thead>\n",
       "  <tbody>\n",
       "    <tr>\n",
       "      <th>10001</th>\n",
       "      <td>True</td>\n",
       "      <td>False</td>\n",
       "      <td>False</td>\n",
       "      <td>False</td>\n",
       "      <td>True</td>\n",
       "      <td>False</td>\n",
       "      <td>False</td>\n",
       "    </tr>\n",
       "    <tr>\n",
       "      <th>10002</th>\n",
       "      <td>False</td>\n",
       "      <td>True</td>\n",
       "      <td>False</td>\n",
       "      <td>False</td>\n",
       "      <td>False</td>\n",
       "      <td>False</td>\n",
       "      <td>False</td>\n",
       "    </tr>\n",
       "    <tr>\n",
       "      <th>10003</th>\n",
       "      <td>False</td>\n",
       "      <td>False</td>\n",
       "      <td>True</td>\n",
       "      <td>False</td>\n",
       "      <td>False</td>\n",
       "      <td>False</td>\n",
       "      <td>False</td>\n",
       "    </tr>\n",
       "    <tr>\n",
       "      <th>10004</th>\n",
       "      <td>False</td>\n",
       "      <td>False</td>\n",
       "      <td>False</td>\n",
       "      <td>False</td>\n",
       "      <td>True</td>\n",
       "      <td>False</td>\n",
       "      <td>False</td>\n",
       "    </tr>\n",
       "    <tr>\n",
       "      <th>10005</th>\n",
       "      <td>False</td>\n",
       "      <td>False</td>\n",
       "      <td>False</td>\n",
       "      <td>False</td>\n",
       "      <td>False</td>\n",
       "      <td>False</td>\n",
       "      <td>False</td>\n",
       "    </tr>\n",
       "    <tr>\n",
       "      <th>...</th>\n",
       "      <td>...</td>\n",
       "      <td>...</td>\n",
       "      <td>...</td>\n",
       "      <td>...</td>\n",
       "      <td>...</td>\n",
       "      <td>...</td>\n",
       "      <td>...</td>\n",
       "    </tr>\n",
       "    <tr>\n",
       "      <th>15045</th>\n",
       "      <td>False</td>\n",
       "      <td>False</td>\n",
       "      <td>False</td>\n",
       "      <td>False</td>\n",
       "      <td>False</td>\n",
       "      <td>False</td>\n",
       "      <td>False</td>\n",
       "    </tr>\n",
       "    <tr>\n",
       "      <th>15046</th>\n",
       "      <td>False</td>\n",
       "      <td>False</td>\n",
       "      <td>False</td>\n",
       "      <td>False</td>\n",
       "      <td>False</td>\n",
       "      <td>False</td>\n",
       "      <td>False</td>\n",
       "    </tr>\n",
       "    <tr>\n",
       "      <th>15047</th>\n",
       "      <td>True</td>\n",
       "      <td>False</td>\n",
       "      <td>False</td>\n",
       "      <td>False</td>\n",
       "      <td>False</td>\n",
       "      <td>False</td>\n",
       "      <td>False</td>\n",
       "    </tr>\n",
       "    <tr>\n",
       "      <th>15048</th>\n",
       "      <td>False</td>\n",
       "      <td>False</td>\n",
       "      <td>False</td>\n",
       "      <td>False</td>\n",
       "      <td>False</td>\n",
       "      <td>False</td>\n",
       "      <td>False</td>\n",
       "    </tr>\n",
       "    <tr>\n",
       "      <th>15049</th>\n",
       "      <td>False</td>\n",
       "      <td>False</td>\n",
       "      <td>False</td>\n",
       "      <td>False</td>\n",
       "      <td>False</td>\n",
       "      <td>False</td>\n",
       "      <td>False</td>\n",
       "    </tr>\n",
       "  </tbody>\n",
       "</table>\n",
       "<p>5049 rows × 7 columns</p>\n",
       "</div>"
      ],
      "text/plain": [
       "       javascript   java     c#  python   html    git    php\n",
       "10001        True  False  False   False   True  False  False\n",
       "10002       False   True  False   False  False  False  False\n",
       "10003       False  False   True   False  False  False  False\n",
       "10004       False  False  False   False   True  False  False\n",
       "10005       False  False  False   False  False  False  False\n",
       "...           ...    ...    ...     ...    ...    ...    ...\n",
       "15045       False  False  False   False  False  False  False\n",
       "15046       False  False  False   False  False  False  False\n",
       "15047        True  False  False   False  False  False  False\n",
       "15048       False  False  False   False  False  False  False\n",
       "15049       False  False  False   False  False  False  False\n",
       "\n",
       "[5049 rows x 7 columns]"
      ]
     },
     "execution_count": 14,
     "metadata": {},
     "output_type": "execute_result"
    }
   ],
   "source": [
    "def tag_is_in(df: pd.DataFrame(), tag: str, nb_cols: int = 6):\n",
    "    return eval(\"|\".join(f'(df[\"{i}\"] == \"{tag}\")' for i in range(0, nb_cols)))\n",
    "\n",
    "\n",
    "def tags_are_in(df: pd.DataFrame(), tags: list):\n",
    "    return pd.DataFrame({tag: tag_is_in(df, tag) for tag in tags})\n",
    "\n",
    "\n",
    "def save_score(\n",
    "    y_true, y_pred, target_names: list, name=None, zero_division=0\n",
    ") -> pd.DataFrame():\n",
    "    scores = pd.DataFrame(\n",
    "        metrics.classification_report(\n",
    "            y_true,\n",
    "            y_pred,\n",
    "            target_names=target_names,\n",
    "            zero_division=zero_division,\n",
    "            output_dict=True,\n",
    "        )\n",
    "    ).T\n",
    "    if name is not None:\n",
    "        scores.to_csv(f\"/kaggle/working/{name}_score.csv\")\n",
    "    return scores\n",
    "\n",
    "\n",
    "# tags_are_in(df, [\"javascript\",\"java\"])\n",
    "tags_are_in(\n",
    "    df[10001:15050], [\"javascript\", \"java\", \"c#\", \"python\", \"html\", \"git\", \"php\"]\n",
    ")"
   ]
  },
  {
   "cell_type": "code",
   "execution_count": 15,
   "id": "b1ac8e51",
   "metadata": {
    "execution": {
     "iopub.execute_input": "2023-01-03T18:19:27.482039Z",
     "iopub.status.busy": "2023-01-03T18:19:27.481691Z",
     "iopub.status.idle": "2023-01-03T18:19:27.652583Z",
     "shell.execute_reply": "2023-01-03T18:19:27.651601Z"
    },
    "papermill": {
     "duration": 0.189227,
     "end_time": "2023-01-03T18:19:27.655057",
     "exception": false,
     "start_time": "2023-01-03T18:19:27.465830",
     "status": "completed"
    },
    "tags": []
   },
   "outputs": [
    {
     "data": {
      "text/plain": [
       "['java',\n",
       " 'c#',\n",
       " 'javascript',\n",
       " 'python',\n",
       " 'android',\n",
       " 'c++',\n",
       " 'ios',\n",
       " 'html',\n",
       " 'php',\n",
       " '.net',\n",
       " 'jquery',\n",
       " 'css',\n",
       " 'objective-c',\n",
       " 'c',\n",
       " 'sql',\n",
       " 'iphone',\n",
       " 'asp.net',\n",
       " 'mysql',\n",
       " 'linux',\n",
       " 'node.js',\n",
       " 'git']"
      ]
     },
     "execution_count": 15,
     "metadata": {},
     "output_type": "execute_result"
    }
   ],
   "source": [
    "tags = df[[\"0\", \"1\", \"2\", \"3\", \"4\", \"5\"]].stack()\n",
    "target_names = [\n",
    "    tag\n",
    "    for tag, freq in tags.reset_index(drop=True).value_counts(normalize=True).items()\n",
    "    if freq > 0.002\n",
    "]\n",
    "if not LONG:\n",
    "    target_names = target_names[0:20] + [\"git\"]\n",
    "target_names"
   ]
  },
  {
   "cell_type": "code",
   "execution_count": 16,
   "id": "fd9c6861",
   "metadata": {
    "execution": {
     "iopub.execute_input": "2023-01-03T18:19:27.687453Z",
     "iopub.status.busy": "2023-01-03T18:19:27.686821Z",
     "iopub.status.idle": "2023-01-03T18:19:27.701696Z",
     "shell.execute_reply": "2023-01-03T18:19:27.700743Z"
    },
    "papermill": {
     "duration": 0.033763,
     "end_time": "2023-01-03T18:19:27.704003",
     "exception": false,
     "start_time": "2023-01-03T18:19:27.670240",
     "status": "completed"
    },
    "tags": []
   },
   "outputs": [],
   "source": [
    "# Enregistrement des paramétres avec la liste des tags a predire\n",
    "description[\"target_names\"] = target_names\n",
    "with open(\"/kaggle/working/description.json\", \"w\") as outfile:\n",
    "    json.dump(description, outfile)"
   ]
  },
  {
   "cell_type": "markdown",
   "id": "43310d33",
   "metadata": {
    "papermill": {
     "duration": 0.015665,
     "end_time": "2023-01-03T18:19:27.735064",
     "exception": false,
     "start_time": "2023-01-03T18:19:27.719399",
     "status": "completed"
    },
    "tags": []
   },
   "source": [
    "## Separation train/test"
   ]
  },
  {
   "cell_type": "code",
   "execution_count": 17,
   "id": "265bcb3f",
   "metadata": {
    "execution": {
     "iopub.execute_input": "2023-01-03T18:19:27.767034Z",
     "iopub.status.busy": "2023-01-03T18:19:27.766639Z",
     "iopub.status.idle": "2023-01-03T18:19:29.093709Z",
     "shell.execute_reply": "2023-01-03T18:19:29.092626Z"
    },
    "papermill": {
     "duration": 1.345882,
     "end_time": "2023-01-03T18:19:29.096497",
     "exception": false,
     "start_time": "2023-01-03T18:19:27.750615",
     "status": "completed"
    },
    "tags": []
   },
   "outputs": [
    {
     "name": "stdout",
     "output_type": "stream",
     "text": [
      "99.99409% des questions ont plus d'un tokens\n"
     ]
    }
   ],
   "source": [
    "df[\"Token\"] = df[\"Title_clean\"].fillna(\"\") + df[\"Body_clean\"].fillna(\"\")\n",
    "print(\n",
    "    f\"{len(df[[len(token.split()) > 1 for token in df['Token']]])/len(df):.5%} des questions ont plus d'un tokens\"\n",
    "    if len(df[df[\"Token\"] == \"\"]) == 0\n",
    "    else f\"{len(df[df['Token'] == ''])} questions n'ont pas de token\"\n",
    ")\n",
    "X_train, X_test, y_train, y_test = model_selection.train_test_split(\n",
    "    df[\"Token\"], tags_are_in(df, target_names), random_state=42\n",
    ")"
   ]
  },
  {
   "cell_type": "markdown",
   "id": "ae768297",
   "metadata": {
    "papermill": {
     "duration": 0.014814,
     "end_time": "2023-01-03T18:19:29.126438",
     "exception": false,
     "start_time": "2023-01-03T18:19:29.111624",
     "status": "completed"
    },
    "tags": []
   },
   "source": [
    "## Approche naïve pour comparer les résultat:\n",
    "    - Valeur la plus fréquente (False)\n",
    "    - Si le tag est présent dans la question"
   ]
  },
  {
   "cell_type": "code",
   "execution_count": 18,
   "id": "60ffd597",
   "metadata": {
    "execution": {
     "iopub.execute_input": "2023-01-03T18:19:29.159003Z",
     "iopub.status.busy": "2023-01-03T18:19:29.157307Z",
     "iopub.status.idle": "2023-01-03T18:19:29.234004Z",
     "shell.execute_reply": "2023-01-03T18:19:29.232776Z"
    },
    "papermill": {
     "duration": 0.095182,
     "end_time": "2023-01-03T18:19:29.236296",
     "exception": false,
     "start_time": "2023-01-03T18:19:29.141114",
     "status": "completed"
    },
    "tags": []
   },
   "outputs": [
    {
     "data": {
      "text/html": [
       "<div>\n",
       "<style scoped>\n",
       "    .dataframe tbody tr th:only-of-type {\n",
       "        vertical-align: middle;\n",
       "    }\n",
       "\n",
       "    .dataframe tbody tr th {\n",
       "        vertical-align: top;\n",
       "    }\n",
       "\n",
       "    .dataframe thead th {\n",
       "        text-align: right;\n",
       "    }\n",
       "</style>\n",
       "<table border=\"1\" class=\"dataframe\">\n",
       "  <thead>\n",
       "    <tr style=\"text-align: right;\">\n",
       "      <th></th>\n",
       "      <th>precision</th>\n",
       "      <th>recall</th>\n",
       "      <th>f1-score</th>\n",
       "      <th>support</th>\n",
       "    </tr>\n",
       "  </thead>\n",
       "  <tbody>\n",
       "    <tr>\n",
       "      <th>java</th>\n",
       "      <td>1.0</td>\n",
       "      <td>0.000000</td>\n",
       "      <td>0.000000</td>\n",
       "      <td>3558.0</td>\n",
       "    </tr>\n",
       "    <tr>\n",
       "      <th>c#</th>\n",
       "      <td>1.0</td>\n",
       "      <td>0.000000</td>\n",
       "      <td>0.000000</td>\n",
       "      <td>3473.0</td>\n",
       "    </tr>\n",
       "    <tr>\n",
       "      <th>javascript</th>\n",
       "      <td>1.0</td>\n",
       "      <td>0.000000</td>\n",
       "      <td>0.000000</td>\n",
       "      <td>3356.0</td>\n",
       "    </tr>\n",
       "    <tr>\n",
       "      <th>python</th>\n",
       "      <td>1.0</td>\n",
       "      <td>0.000000</td>\n",
       "      <td>0.000000</td>\n",
       "      <td>2612.0</td>\n",
       "    </tr>\n",
       "    <tr>\n",
       "      <th>android</th>\n",
       "      <td>1.0</td>\n",
       "      <td>0.000000</td>\n",
       "      <td>0.000000</td>\n",
       "      <td>2045.0</td>\n",
       "    </tr>\n",
       "    <tr>\n",
       "      <th>c++</th>\n",
       "      <td>1.0</td>\n",
       "      <td>0.000000</td>\n",
       "      <td>0.000000</td>\n",
       "      <td>1964.0</td>\n",
       "    </tr>\n",
       "    <tr>\n",
       "      <th>ios</th>\n",
       "      <td>1.0</td>\n",
       "      <td>0.000000</td>\n",
       "      <td>0.000000</td>\n",
       "      <td>1840.0</td>\n",
       "    </tr>\n",
       "    <tr>\n",
       "      <th>html</th>\n",
       "      <td>1.0</td>\n",
       "      <td>0.000000</td>\n",
       "      <td>0.000000</td>\n",
       "      <td>1755.0</td>\n",
       "    </tr>\n",
       "    <tr>\n",
       "      <th>php</th>\n",
       "      <td>1.0</td>\n",
       "      <td>0.000000</td>\n",
       "      <td>0.000000</td>\n",
       "      <td>1627.0</td>\n",
       "    </tr>\n",
       "    <tr>\n",
       "      <th>.net</th>\n",
       "      <td>1.0</td>\n",
       "      <td>0.000000</td>\n",
       "      <td>0.000000</td>\n",
       "      <td>1569.0</td>\n",
       "    </tr>\n",
       "    <tr>\n",
       "      <th>jquery</th>\n",
       "      <td>1.0</td>\n",
       "      <td>0.000000</td>\n",
       "      <td>0.000000</td>\n",
       "      <td>1538.0</td>\n",
       "    </tr>\n",
       "    <tr>\n",
       "      <th>css</th>\n",
       "      <td>1.0</td>\n",
       "      <td>0.000000</td>\n",
       "      <td>0.000000</td>\n",
       "      <td>1131.0</td>\n",
       "    </tr>\n",
       "    <tr>\n",
       "      <th>objective-c</th>\n",
       "      <td>1.0</td>\n",
       "      <td>0.000000</td>\n",
       "      <td>0.000000</td>\n",
       "      <td>888.0</td>\n",
       "    </tr>\n",
       "    <tr>\n",
       "      <th>c</th>\n",
       "      <td>1.0</td>\n",
       "      <td>0.000000</td>\n",
       "      <td>0.000000</td>\n",
       "      <td>885.0</td>\n",
       "    </tr>\n",
       "    <tr>\n",
       "      <th>sql</th>\n",
       "      <td>1.0</td>\n",
       "      <td>0.000000</td>\n",
       "      <td>0.000000</td>\n",
       "      <td>870.0</td>\n",
       "    </tr>\n",
       "    <tr>\n",
       "      <th>iphone</th>\n",
       "      <td>1.0</td>\n",
       "      <td>0.000000</td>\n",
       "      <td>0.000000</td>\n",
       "      <td>807.0</td>\n",
       "    </tr>\n",
       "    <tr>\n",
       "      <th>asp.net</th>\n",
       "      <td>1.0</td>\n",
       "      <td>0.000000</td>\n",
       "      <td>0.000000</td>\n",
       "      <td>805.0</td>\n",
       "    </tr>\n",
       "    <tr>\n",
       "      <th>mysql</th>\n",
       "      <td>1.0</td>\n",
       "      <td>0.000000</td>\n",
       "      <td>0.000000</td>\n",
       "      <td>685.0</td>\n",
       "    </tr>\n",
       "    <tr>\n",
       "      <th>linux</th>\n",
       "      <td>1.0</td>\n",
       "      <td>0.000000</td>\n",
       "      <td>0.000000</td>\n",
       "      <td>680.0</td>\n",
       "    </tr>\n",
       "    <tr>\n",
       "      <th>node.js</th>\n",
       "      <td>1.0</td>\n",
       "      <td>0.000000</td>\n",
       "      <td>0.000000</td>\n",
       "      <td>682.0</td>\n",
       "    </tr>\n",
       "    <tr>\n",
       "      <th>git</th>\n",
       "      <td>1.0</td>\n",
       "      <td>0.000000</td>\n",
       "      <td>0.000000</td>\n",
       "      <td>274.0</td>\n",
       "    </tr>\n",
       "    <tr>\n",
       "      <th>micro avg</th>\n",
       "      <td>1.0</td>\n",
       "      <td>0.000000</td>\n",
       "      <td>0.000000</td>\n",
       "      <td>33044.0</td>\n",
       "    </tr>\n",
       "    <tr>\n",
       "      <th>macro avg</th>\n",
       "      <td>1.0</td>\n",
       "      <td>0.000000</td>\n",
       "      <td>0.000000</td>\n",
       "      <td>33044.0</td>\n",
       "    </tr>\n",
       "    <tr>\n",
       "      <th>weighted avg</th>\n",
       "      <td>1.0</td>\n",
       "      <td>0.000000</td>\n",
       "      <td>0.000000</td>\n",
       "      <td>33044.0</td>\n",
       "    </tr>\n",
       "    <tr>\n",
       "      <th>samples avg</th>\n",
       "      <td>1.0</td>\n",
       "      <td>0.207322</td>\n",
       "      <td>0.207322</td>\n",
       "      <td>33044.0</td>\n",
       "    </tr>\n",
       "  </tbody>\n",
       "</table>\n",
       "</div>"
      ],
      "text/plain": [
       "              precision    recall  f1-score  support\n",
       "java                1.0  0.000000  0.000000   3558.0\n",
       "c#                  1.0  0.000000  0.000000   3473.0\n",
       "javascript          1.0  0.000000  0.000000   3356.0\n",
       "python              1.0  0.000000  0.000000   2612.0\n",
       "android             1.0  0.000000  0.000000   2045.0\n",
       "c++                 1.0  0.000000  0.000000   1964.0\n",
       "ios                 1.0  0.000000  0.000000   1840.0\n",
       "html                1.0  0.000000  0.000000   1755.0\n",
       "php                 1.0  0.000000  0.000000   1627.0\n",
       ".net                1.0  0.000000  0.000000   1569.0\n",
       "jquery              1.0  0.000000  0.000000   1538.0\n",
       "css                 1.0  0.000000  0.000000   1131.0\n",
       "objective-c         1.0  0.000000  0.000000    888.0\n",
       "c                   1.0  0.000000  0.000000    885.0\n",
       "sql                 1.0  0.000000  0.000000    870.0\n",
       "iphone              1.0  0.000000  0.000000    807.0\n",
       "asp.net             1.0  0.000000  0.000000    805.0\n",
       "mysql               1.0  0.000000  0.000000    685.0\n",
       "linux               1.0  0.000000  0.000000    680.0\n",
       "node.js             1.0  0.000000  0.000000    682.0\n",
       "git                 1.0  0.000000  0.000000    274.0\n",
       "micro avg           1.0  0.000000  0.000000  33044.0\n",
       "macro avg           1.0  0.000000  0.000000  33044.0\n",
       "weighted avg        1.0  0.000000  0.000000  33044.0\n",
       "samples avg         1.0  0.207322  0.207322  33044.0"
      ]
     },
     "execution_count": 18,
     "metadata": {},
     "output_type": "execute_result"
    }
   ],
   "source": [
    "save_score(\n",
    "    y_true=y_test,\n",
    "    y_pred=y_test.replace([True], False),\n",
    "    target_names=target_names,\n",
    "    zero_division=1,  # because TruePositif=0\n",
    ")"
   ]
  },
  {
   "cell_type": "markdown",
   "id": "23ee93be",
   "metadata": {
    "papermill": {
     "duration": 0.015288,
     "end_time": "2023-01-03T18:19:29.267928",
     "exception": false,
     "start_time": "2023-01-03T18:19:29.252640",
     "status": "completed"
    },
    "tags": []
   },
   "source": [
    "Avec prédire toujours vrai"
   ]
  },
  {
   "cell_type": "code",
   "execution_count": 19,
   "id": "9e370eec",
   "metadata": {
    "execution": {
     "iopub.execute_input": "2023-01-03T18:19:29.299744Z",
     "iopub.status.busy": "2023-01-03T18:19:29.298798Z",
     "iopub.status.idle": "2023-01-03T18:19:29.551920Z",
     "shell.execute_reply": "2023-01-03T18:19:29.550787Z"
    },
    "papermill": {
     "duration": 0.272976,
     "end_time": "2023-01-03T18:19:29.555464",
     "exception": false,
     "start_time": "2023-01-03T18:19:29.282488",
     "status": "completed"
    },
    "tags": []
   },
   "outputs": [
    {
     "data": {
      "text/html": [
       "<div>\n",
       "<style scoped>\n",
       "    .dataframe tbody tr th:only-of-type {\n",
       "        vertical-align: middle;\n",
       "    }\n",
       "\n",
       "    .dataframe tbody tr th {\n",
       "        vertical-align: top;\n",
       "    }\n",
       "\n",
       "    .dataframe thead th {\n",
       "        text-align: right;\n",
       "    }\n",
       "</style>\n",
       "<table border=\"1\" class=\"dataframe\">\n",
       "  <thead>\n",
       "    <tr style=\"text-align: right;\">\n",
       "      <th></th>\n",
       "      <th>precision</th>\n",
       "      <th>recall</th>\n",
       "      <th>f1-score</th>\n",
       "      <th>support</th>\n",
       "    </tr>\n",
       "  </thead>\n",
       "  <tbody>\n",
       "    <tr>\n",
       "      <th>java</th>\n",
       "      <td>0.120158</td>\n",
       "      <td>1.000000</td>\n",
       "      <td>0.214538</td>\n",
       "      <td>3558.0</td>\n",
       "    </tr>\n",
       "    <tr>\n",
       "      <th>c#</th>\n",
       "      <td>0.117287</td>\n",
       "      <td>1.000000</td>\n",
       "      <td>0.209950</td>\n",
       "      <td>3473.0</td>\n",
       "    </tr>\n",
       "    <tr>\n",
       "      <th>javascript</th>\n",
       "      <td>0.113336</td>\n",
       "      <td>1.000000</td>\n",
       "      <td>0.203598</td>\n",
       "      <td>3356.0</td>\n",
       "    </tr>\n",
       "    <tr>\n",
       "      <th>python</th>\n",
       "      <td>0.088210</td>\n",
       "      <td>1.000000</td>\n",
       "      <td>0.162120</td>\n",
       "      <td>2612.0</td>\n",
       "    </tr>\n",
       "    <tr>\n",
       "      <th>android</th>\n",
       "      <td>0.069062</td>\n",
       "      <td>1.000000</td>\n",
       "      <td>0.129201</td>\n",
       "      <td>2045.0</td>\n",
       "    </tr>\n",
       "    <tr>\n",
       "      <th>c++</th>\n",
       "      <td>0.066327</td>\n",
       "      <td>1.000000</td>\n",
       "      <td>0.124402</td>\n",
       "      <td>1964.0</td>\n",
       "    </tr>\n",
       "    <tr>\n",
       "      <th>ios</th>\n",
       "      <td>0.062139</td>\n",
       "      <td>1.000000</td>\n",
       "      <td>0.117007</td>\n",
       "      <td>1840.0</td>\n",
       "    </tr>\n",
       "    <tr>\n",
       "      <th>html</th>\n",
       "      <td>0.059269</td>\n",
       "      <td>1.000000</td>\n",
       "      <td>0.111905</td>\n",
       "      <td>1755.0</td>\n",
       "    </tr>\n",
       "    <tr>\n",
       "      <th>php</th>\n",
       "      <td>0.054946</td>\n",
       "      <td>1.000000</td>\n",
       "      <td>0.104168</td>\n",
       "      <td>1627.0</td>\n",
       "    </tr>\n",
       "    <tr>\n",
       "      <th>.net</th>\n",
       "      <td>0.052987</td>\n",
       "      <td>1.000000</td>\n",
       "      <td>0.100641</td>\n",
       "      <td>1569.0</td>\n",
       "    </tr>\n",
       "    <tr>\n",
       "      <th>jquery</th>\n",
       "      <td>0.051940</td>\n",
       "      <td>1.000000</td>\n",
       "      <td>0.098751</td>\n",
       "      <td>1538.0</td>\n",
       "    </tr>\n",
       "    <tr>\n",
       "      <th>css</th>\n",
       "      <td>0.038195</td>\n",
       "      <td>1.000000</td>\n",
       "      <td>0.073580</td>\n",
       "      <td>1131.0</td>\n",
       "    </tr>\n",
       "    <tr>\n",
       "      <th>objective-c</th>\n",
       "      <td>0.029989</td>\n",
       "      <td>1.000000</td>\n",
       "      <td>0.058231</td>\n",
       "      <td>888.0</td>\n",
       "    </tr>\n",
       "    <tr>\n",
       "      <th>c</th>\n",
       "      <td>0.029888</td>\n",
       "      <td>1.000000</td>\n",
       "      <td>0.058040</td>\n",
       "      <td>885.0</td>\n",
       "    </tr>\n",
       "    <tr>\n",
       "      <th>sql</th>\n",
       "      <td>0.029381</td>\n",
       "      <td>1.000000</td>\n",
       "      <td>0.057085</td>\n",
       "      <td>870.0</td>\n",
       "    </tr>\n",
       "    <tr>\n",
       "      <th>iphone</th>\n",
       "      <td>0.027253</td>\n",
       "      <td>1.000000</td>\n",
       "      <td>0.053061</td>\n",
       "      <td>807.0</td>\n",
       "    </tr>\n",
       "    <tr>\n",
       "      <th>asp.net</th>\n",
       "      <td>0.027186</td>\n",
       "      <td>1.000000</td>\n",
       "      <td>0.052933</td>\n",
       "      <td>805.0</td>\n",
       "    </tr>\n",
       "    <tr>\n",
       "      <th>mysql</th>\n",
       "      <td>0.023133</td>\n",
       "      <td>1.000000</td>\n",
       "      <td>0.045220</td>\n",
       "      <td>685.0</td>\n",
       "    </tr>\n",
       "    <tr>\n",
       "      <th>linux</th>\n",
       "      <td>0.022964</td>\n",
       "      <td>1.000000</td>\n",
       "      <td>0.044898</td>\n",
       "      <td>680.0</td>\n",
       "    </tr>\n",
       "    <tr>\n",
       "      <th>node.js</th>\n",
       "      <td>0.023032</td>\n",
       "      <td>1.000000</td>\n",
       "      <td>0.045027</td>\n",
       "      <td>682.0</td>\n",
       "    </tr>\n",
       "    <tr>\n",
       "      <th>git</th>\n",
       "      <td>0.009253</td>\n",
       "      <td>1.000000</td>\n",
       "      <td>0.018337</td>\n",
       "      <td>274.0</td>\n",
       "    </tr>\n",
       "    <tr>\n",
       "      <th>micro avg</th>\n",
       "      <td>0.053140</td>\n",
       "      <td>1.000000</td>\n",
       "      <td>0.100917</td>\n",
       "      <td>33044.0</td>\n",
       "    </tr>\n",
       "    <tr>\n",
       "      <th>macro avg</th>\n",
       "      <td>0.053140</td>\n",
       "      <td>1.000000</td>\n",
       "      <td>0.099176</td>\n",
       "      <td>33044.0</td>\n",
       "    </tr>\n",
       "    <tr>\n",
       "      <th>weighted avg</th>\n",
       "      <td>0.072731</td>\n",
       "      <td>1.000000</td>\n",
       "      <td>0.133680</td>\n",
       "      <td>33044.0</td>\n",
       "    </tr>\n",
       "    <tr>\n",
       "      <th>samples avg</th>\n",
       "      <td>0.053140</td>\n",
       "      <td>0.792678</td>\n",
       "      <td>0.098364</td>\n",
       "      <td>33044.0</td>\n",
       "    </tr>\n",
       "  </tbody>\n",
       "</table>\n",
       "</div>"
      ],
      "text/plain": [
       "              precision    recall  f1-score  support\n",
       "java           0.120158  1.000000  0.214538   3558.0\n",
       "c#             0.117287  1.000000  0.209950   3473.0\n",
       "javascript     0.113336  1.000000  0.203598   3356.0\n",
       "python         0.088210  1.000000  0.162120   2612.0\n",
       "android        0.069062  1.000000  0.129201   2045.0\n",
       "c++            0.066327  1.000000  0.124402   1964.0\n",
       "ios            0.062139  1.000000  0.117007   1840.0\n",
       "html           0.059269  1.000000  0.111905   1755.0\n",
       "php            0.054946  1.000000  0.104168   1627.0\n",
       ".net           0.052987  1.000000  0.100641   1569.0\n",
       "jquery         0.051940  1.000000  0.098751   1538.0\n",
       "css            0.038195  1.000000  0.073580   1131.0\n",
       "objective-c    0.029989  1.000000  0.058231    888.0\n",
       "c              0.029888  1.000000  0.058040    885.0\n",
       "sql            0.029381  1.000000  0.057085    870.0\n",
       "iphone         0.027253  1.000000  0.053061    807.0\n",
       "asp.net        0.027186  1.000000  0.052933    805.0\n",
       "mysql          0.023133  1.000000  0.045220    685.0\n",
       "linux          0.022964  1.000000  0.044898    680.0\n",
       "node.js        0.023032  1.000000  0.045027    682.0\n",
       "git            0.009253  1.000000  0.018337    274.0\n",
       "micro avg      0.053140  1.000000  0.100917  33044.0\n",
       "macro avg      0.053140  1.000000  0.099176  33044.0\n",
       "weighted avg   0.072731  1.000000  0.133680  33044.0\n",
       "samples avg    0.053140  0.792678  0.098364  33044.0"
      ]
     },
     "execution_count": 19,
     "metadata": {},
     "output_type": "execute_result"
    }
   ],
   "source": [
    "save_score(\n",
    "    y_true=y_test, y_pred=y_test.replace([False], True), target_names=target_names\n",
    ")"
   ]
  },
  {
   "cell_type": "markdown",
   "id": "2c56711c",
   "metadata": {
    "papermill": {
     "duration": 0.025075,
     "end_time": "2023-01-03T18:19:29.602411",
     "exception": false,
     "start_time": "2023-01-03T18:19:29.577336",
     "status": "completed"
    },
    "tags": []
   },
   "source": [
    "### Methode naive le tag est dans la question:"
   ]
  },
  {
   "cell_type": "code",
   "execution_count": 20,
   "id": "d7c3b0b6",
   "metadata": {
    "execution": {
     "iopub.execute_input": "2023-01-03T18:19:29.636297Z",
     "iopub.status.busy": "2023-01-03T18:19:29.635960Z",
     "iopub.status.idle": "2023-01-03T18:19:30.375727Z",
     "shell.execute_reply": "2023-01-03T18:19:30.374710Z"
    },
    "papermill": {
     "duration": 0.758958,
     "end_time": "2023-01-03T18:19:30.377939",
     "exception": false,
     "start_time": "2023-01-03T18:19:29.618981",
     "status": "completed"
    },
    "tags": []
   },
   "outputs": [
    {
     "data": {
      "text/html": [
       "<div>\n",
       "<style scoped>\n",
       "    .dataframe tbody tr th:only-of-type {\n",
       "        vertical-align: middle;\n",
       "    }\n",
       "\n",
       "    .dataframe tbody tr th {\n",
       "        vertical-align: top;\n",
       "    }\n",
       "\n",
       "    .dataframe thead th {\n",
       "        text-align: right;\n",
       "    }\n",
       "</style>\n",
       "<table border=\"1\" class=\"dataframe\">\n",
       "  <thead>\n",
       "    <tr style=\"text-align: right;\">\n",
       "      <th></th>\n",
       "      <th>0</th>\n",
       "      <th>1</th>\n",
       "      <th>2</th>\n",
       "      <th>3</th>\n",
       "      <th>4</th>\n",
       "      <th>5</th>\n",
       "      <th>6</th>\n",
       "      <th>7</th>\n",
       "      <th>8</th>\n",
       "      <th>9</th>\n",
       "      <th>...</th>\n",
       "      <th>29601</th>\n",
       "      <th>29602</th>\n",
       "      <th>29603</th>\n",
       "      <th>29604</th>\n",
       "      <th>29605</th>\n",
       "      <th>29606</th>\n",
       "      <th>29607</th>\n",
       "      <th>29608</th>\n",
       "      <th>29609</th>\n",
       "      <th>29610</th>\n",
       "    </tr>\n",
       "  </thead>\n",
       "  <tbody>\n",
       "    <tr>\n",
       "      <th>java</th>\n",
       "      <td>False</td>\n",
       "      <td>False</td>\n",
       "      <td>False</td>\n",
       "      <td>False</td>\n",
       "      <td>True</td>\n",
       "      <td>False</td>\n",
       "      <td>False</td>\n",
       "      <td>False</td>\n",
       "      <td>False</td>\n",
       "      <td>False</td>\n",
       "      <td>...</td>\n",
       "      <td>False</td>\n",
       "      <td>False</td>\n",
       "      <td>False</td>\n",
       "      <td>False</td>\n",
       "      <td>False</td>\n",
       "      <td>False</td>\n",
       "      <td>False</td>\n",
       "      <td>False</td>\n",
       "      <td>False</td>\n",
       "      <td>False</td>\n",
       "    </tr>\n",
       "    <tr>\n",
       "      <th>c#</th>\n",
       "      <td>False</td>\n",
       "      <td>False</td>\n",
       "      <td>False</td>\n",
       "      <td>False</td>\n",
       "      <td>False</td>\n",
       "      <td>False</td>\n",
       "      <td>False</td>\n",
       "      <td>False</td>\n",
       "      <td>False</td>\n",
       "      <td>False</td>\n",
       "      <td>...</td>\n",
       "      <td>False</td>\n",
       "      <td>False</td>\n",
       "      <td>False</td>\n",
       "      <td>False</td>\n",
       "      <td>False</td>\n",
       "      <td>False</td>\n",
       "      <td>False</td>\n",
       "      <td>False</td>\n",
       "      <td>False</td>\n",
       "      <td>False</td>\n",
       "    </tr>\n",
       "    <tr>\n",
       "      <th>javascript</th>\n",
       "      <td>False</td>\n",
       "      <td>False</td>\n",
       "      <td>False</td>\n",
       "      <td>True</td>\n",
       "      <td>False</td>\n",
       "      <td>False</td>\n",
       "      <td>False</td>\n",
       "      <td>False</td>\n",
       "      <td>False</td>\n",
       "      <td>False</td>\n",
       "      <td>...</td>\n",
       "      <td>False</td>\n",
       "      <td>False</td>\n",
       "      <td>False</td>\n",
       "      <td>False</td>\n",
       "      <td>False</td>\n",
       "      <td>False</td>\n",
       "      <td>False</td>\n",
       "      <td>False</td>\n",
       "      <td>False</td>\n",
       "      <td>False</td>\n",
       "    </tr>\n",
       "    <tr>\n",
       "      <th>python</th>\n",
       "      <td>True</td>\n",
       "      <td>False</td>\n",
       "      <td>False</td>\n",
       "      <td>False</td>\n",
       "      <td>False</td>\n",
       "      <td>False</td>\n",
       "      <td>False</td>\n",
       "      <td>False</td>\n",
       "      <td>False</td>\n",
       "      <td>False</td>\n",
       "      <td>...</td>\n",
       "      <td>False</td>\n",
       "      <td>False</td>\n",
       "      <td>True</td>\n",
       "      <td>False</td>\n",
       "      <td>False</td>\n",
       "      <td>False</td>\n",
       "      <td>False</td>\n",
       "      <td>False</td>\n",
       "      <td>False</td>\n",
       "      <td>False</td>\n",
       "    </tr>\n",
       "    <tr>\n",
       "      <th>android</th>\n",
       "      <td>False</td>\n",
       "      <td>False</td>\n",
       "      <td>False</td>\n",
       "      <td>False</td>\n",
       "      <td>False</td>\n",
       "      <td>False</td>\n",
       "      <td>False</td>\n",
       "      <td>False</td>\n",
       "      <td>False</td>\n",
       "      <td>False</td>\n",
       "      <td>...</td>\n",
       "      <td>False</td>\n",
       "      <td>False</td>\n",
       "      <td>False</td>\n",
       "      <td>False</td>\n",
       "      <td>False</td>\n",
       "      <td>False</td>\n",
       "      <td>False</td>\n",
       "      <td>False</td>\n",
       "      <td>False</td>\n",
       "      <td>False</td>\n",
       "    </tr>\n",
       "    <tr>\n",
       "      <th>c++</th>\n",
       "      <td>False</td>\n",
       "      <td>False</td>\n",
       "      <td>False</td>\n",
       "      <td>False</td>\n",
       "      <td>True</td>\n",
       "      <td>False</td>\n",
       "      <td>False</td>\n",
       "      <td>False</td>\n",
       "      <td>False</td>\n",
       "      <td>False</td>\n",
       "      <td>...</td>\n",
       "      <td>False</td>\n",
       "      <td>False</td>\n",
       "      <td>False</td>\n",
       "      <td>False</td>\n",
       "      <td>False</td>\n",
       "      <td>False</td>\n",
       "      <td>False</td>\n",
       "      <td>False</td>\n",
       "      <td>False</td>\n",
       "      <td>False</td>\n",
       "    </tr>\n",
       "    <tr>\n",
       "      <th>ios</th>\n",
       "      <td>False</td>\n",
       "      <td>False</td>\n",
       "      <td>False</td>\n",
       "      <td>False</td>\n",
       "      <td>False</td>\n",
       "      <td>False</td>\n",
       "      <td>False</td>\n",
       "      <td>False</td>\n",
       "      <td>False</td>\n",
       "      <td>False</td>\n",
       "      <td>...</td>\n",
       "      <td>False</td>\n",
       "      <td>False</td>\n",
       "      <td>False</td>\n",
       "      <td>True</td>\n",
       "      <td>False</td>\n",
       "      <td>False</td>\n",
       "      <td>False</td>\n",
       "      <td>False</td>\n",
       "      <td>False</td>\n",
       "      <td>False</td>\n",
       "    </tr>\n",
       "    <tr>\n",
       "      <th>html</th>\n",
       "      <td>False</td>\n",
       "      <td>False</td>\n",
       "      <td>False</td>\n",
       "      <td>False</td>\n",
       "      <td>False</td>\n",
       "      <td>False</td>\n",
       "      <td>False</td>\n",
       "      <td>False</td>\n",
       "      <td>False</td>\n",
       "      <td>False</td>\n",
       "      <td>...</td>\n",
       "      <td>False</td>\n",
       "      <td>False</td>\n",
       "      <td>False</td>\n",
       "      <td>False</td>\n",
       "      <td>False</td>\n",
       "      <td>False</td>\n",
       "      <td>False</td>\n",
       "      <td>False</td>\n",
       "      <td>False</td>\n",
       "      <td>False</td>\n",
       "    </tr>\n",
       "    <tr>\n",
       "      <th>php</th>\n",
       "      <td>False</td>\n",
       "      <td>False</td>\n",
       "      <td>False</td>\n",
       "      <td>True</td>\n",
       "      <td>False</td>\n",
       "      <td>False</td>\n",
       "      <td>False</td>\n",
       "      <td>False</td>\n",
       "      <td>False</td>\n",
       "      <td>False</td>\n",
       "      <td>...</td>\n",
       "      <td>False</td>\n",
       "      <td>False</td>\n",
       "      <td>False</td>\n",
       "      <td>False</td>\n",
       "      <td>False</td>\n",
       "      <td>False</td>\n",
       "      <td>False</td>\n",
       "      <td>False</td>\n",
       "      <td>False</td>\n",
       "      <td>False</td>\n",
       "    </tr>\n",
       "    <tr>\n",
       "      <th>.net</th>\n",
       "      <td>False</td>\n",
       "      <td>False</td>\n",
       "      <td>False</td>\n",
       "      <td>False</td>\n",
       "      <td>False</td>\n",
       "      <td>False</td>\n",
       "      <td>False</td>\n",
       "      <td>False</td>\n",
       "      <td>False</td>\n",
       "      <td>False</td>\n",
       "      <td>...</td>\n",
       "      <td>False</td>\n",
       "      <td>False</td>\n",
       "      <td>False</td>\n",
       "      <td>False</td>\n",
       "      <td>False</td>\n",
       "      <td>False</td>\n",
       "      <td>False</td>\n",
       "      <td>False</td>\n",
       "      <td>False</td>\n",
       "      <td>False</td>\n",
       "    </tr>\n",
       "    <tr>\n",
       "      <th>jquery</th>\n",
       "      <td>False</td>\n",
       "      <td>False</td>\n",
       "      <td>False</td>\n",
       "      <td>False</td>\n",
       "      <td>False</td>\n",
       "      <td>False</td>\n",
       "      <td>False</td>\n",
       "      <td>False</td>\n",
       "      <td>False</td>\n",
       "      <td>False</td>\n",
       "      <td>...</td>\n",
       "      <td>False</td>\n",
       "      <td>False</td>\n",
       "      <td>False</td>\n",
       "      <td>False</td>\n",
       "      <td>False</td>\n",
       "      <td>False</td>\n",
       "      <td>False</td>\n",
       "      <td>False</td>\n",
       "      <td>False</td>\n",
       "      <td>False</td>\n",
       "    </tr>\n",
       "    <tr>\n",
       "      <th>css</th>\n",
       "      <td>False</td>\n",
       "      <td>False</td>\n",
       "      <td>False</td>\n",
       "      <td>False</td>\n",
       "      <td>False</td>\n",
       "      <td>False</td>\n",
       "      <td>False</td>\n",
       "      <td>False</td>\n",
       "      <td>False</td>\n",
       "      <td>False</td>\n",
       "      <td>...</td>\n",
       "      <td>False</td>\n",
       "      <td>False</td>\n",
       "      <td>False</td>\n",
       "      <td>False</td>\n",
       "      <td>False</td>\n",
       "      <td>False</td>\n",
       "      <td>False</td>\n",
       "      <td>False</td>\n",
       "      <td>False</td>\n",
       "      <td>False</td>\n",
       "    </tr>\n",
       "    <tr>\n",
       "      <th>objective-c</th>\n",
       "      <td>False</td>\n",
       "      <td>False</td>\n",
       "      <td>False</td>\n",
       "      <td>False</td>\n",
       "      <td>False</td>\n",
       "      <td>False</td>\n",
       "      <td>False</td>\n",
       "      <td>False</td>\n",
       "      <td>False</td>\n",
       "      <td>False</td>\n",
       "      <td>...</td>\n",
       "      <td>False</td>\n",
       "      <td>False</td>\n",
       "      <td>False</td>\n",
       "      <td>False</td>\n",
       "      <td>False</td>\n",
       "      <td>False</td>\n",
       "      <td>False</td>\n",
       "      <td>False</td>\n",
       "      <td>False</td>\n",
       "      <td>False</td>\n",
       "    </tr>\n",
       "    <tr>\n",
       "      <th>c</th>\n",
       "      <td>False</td>\n",
       "      <td>False</td>\n",
       "      <td>False</td>\n",
       "      <td>False</td>\n",
       "      <td>True</td>\n",
       "      <td>False</td>\n",
       "      <td>False</td>\n",
       "      <td>False</td>\n",
       "      <td>False</td>\n",
       "      <td>False</td>\n",
       "      <td>...</td>\n",
       "      <td>False</td>\n",
       "      <td>False</td>\n",
       "      <td>False</td>\n",
       "      <td>False</td>\n",
       "      <td>False</td>\n",
       "      <td>False</td>\n",
       "      <td>False</td>\n",
       "      <td>True</td>\n",
       "      <td>False</td>\n",
       "      <td>False</td>\n",
       "    </tr>\n",
       "    <tr>\n",
       "      <th>sql</th>\n",
       "      <td>False</td>\n",
       "      <td>False</td>\n",
       "      <td>True</td>\n",
       "      <td>False</td>\n",
       "      <td>False</td>\n",
       "      <td>False</td>\n",
       "      <td>False</td>\n",
       "      <td>False</td>\n",
       "      <td>False</td>\n",
       "      <td>False</td>\n",
       "      <td>...</td>\n",
       "      <td>False</td>\n",
       "      <td>False</td>\n",
       "      <td>False</td>\n",
       "      <td>False</td>\n",
       "      <td>False</td>\n",
       "      <td>True</td>\n",
       "      <td>False</td>\n",
       "      <td>False</td>\n",
       "      <td>False</td>\n",
       "      <td>False</td>\n",
       "    </tr>\n",
       "    <tr>\n",
       "      <th>iphone</th>\n",
       "      <td>False</td>\n",
       "      <td>False</td>\n",
       "      <td>False</td>\n",
       "      <td>False</td>\n",
       "      <td>False</td>\n",
       "      <td>False</td>\n",
       "      <td>False</td>\n",
       "      <td>False</td>\n",
       "      <td>False</td>\n",
       "      <td>False</td>\n",
       "      <td>...</td>\n",
       "      <td>False</td>\n",
       "      <td>False</td>\n",
       "      <td>False</td>\n",
       "      <td>True</td>\n",
       "      <td>False</td>\n",
       "      <td>False</td>\n",
       "      <td>False</td>\n",
       "      <td>False</td>\n",
       "      <td>False</td>\n",
       "      <td>False</td>\n",
       "    </tr>\n",
       "    <tr>\n",
       "      <th>asp.net</th>\n",
       "      <td>False</td>\n",
       "      <td>False</td>\n",
       "      <td>False</td>\n",
       "      <td>False</td>\n",
       "      <td>False</td>\n",
       "      <td>False</td>\n",
       "      <td>False</td>\n",
       "      <td>False</td>\n",
       "      <td>False</td>\n",
       "      <td>False</td>\n",
       "      <td>...</td>\n",
       "      <td>False</td>\n",
       "      <td>False</td>\n",
       "      <td>False</td>\n",
       "      <td>False</td>\n",
       "      <td>False</td>\n",
       "      <td>False</td>\n",
       "      <td>False</td>\n",
       "      <td>False</td>\n",
       "      <td>False</td>\n",
       "      <td>False</td>\n",
       "    </tr>\n",
       "    <tr>\n",
       "      <th>mysql</th>\n",
       "      <td>False</td>\n",
       "      <td>False</td>\n",
       "      <td>True</td>\n",
       "      <td>False</td>\n",
       "      <td>False</td>\n",
       "      <td>False</td>\n",
       "      <td>False</td>\n",
       "      <td>False</td>\n",
       "      <td>False</td>\n",
       "      <td>False</td>\n",
       "      <td>...</td>\n",
       "      <td>False</td>\n",
       "      <td>False</td>\n",
       "      <td>False</td>\n",
       "      <td>False</td>\n",
       "      <td>False</td>\n",
       "      <td>False</td>\n",
       "      <td>False</td>\n",
       "      <td>False</td>\n",
       "      <td>False</td>\n",
       "      <td>False</td>\n",
       "    </tr>\n",
       "    <tr>\n",
       "      <th>linux</th>\n",
       "      <td>False</td>\n",
       "      <td>False</td>\n",
       "      <td>False</td>\n",
       "      <td>False</td>\n",
       "      <td>False</td>\n",
       "      <td>True</td>\n",
       "      <td>False</td>\n",
       "      <td>False</td>\n",
       "      <td>False</td>\n",
       "      <td>False</td>\n",
       "      <td>...</td>\n",
       "      <td>False</td>\n",
       "      <td>False</td>\n",
       "      <td>False</td>\n",
       "      <td>False</td>\n",
       "      <td>False</td>\n",
       "      <td>False</td>\n",
       "      <td>False</td>\n",
       "      <td>False</td>\n",
       "      <td>False</td>\n",
       "      <td>True</td>\n",
       "    </tr>\n",
       "    <tr>\n",
       "      <th>node.js</th>\n",
       "      <td>False</td>\n",
       "      <td>False</td>\n",
       "      <td>False</td>\n",
       "      <td>False</td>\n",
       "      <td>False</td>\n",
       "      <td>False</td>\n",
       "      <td>False</td>\n",
       "      <td>False</td>\n",
       "      <td>False</td>\n",
       "      <td>False</td>\n",
       "      <td>...</td>\n",
       "      <td>False</td>\n",
       "      <td>False</td>\n",
       "      <td>False</td>\n",
       "      <td>False</td>\n",
       "      <td>False</td>\n",
       "      <td>False</td>\n",
       "      <td>False</td>\n",
       "      <td>False</td>\n",
       "      <td>False</td>\n",
       "      <td>False</td>\n",
       "    </tr>\n",
       "    <tr>\n",
       "      <th>git</th>\n",
       "      <td>False</td>\n",
       "      <td>False</td>\n",
       "      <td>False</td>\n",
       "      <td>False</td>\n",
       "      <td>False</td>\n",
       "      <td>False</td>\n",
       "      <td>False</td>\n",
       "      <td>False</td>\n",
       "      <td>False</td>\n",
       "      <td>False</td>\n",
       "      <td>...</td>\n",
       "      <td>False</td>\n",
       "      <td>False</td>\n",
       "      <td>False</td>\n",
       "      <td>False</td>\n",
       "      <td>False</td>\n",
       "      <td>False</td>\n",
       "      <td>False</td>\n",
       "      <td>False</td>\n",
       "      <td>False</td>\n",
       "      <td>False</td>\n",
       "    </tr>\n",
       "  </tbody>\n",
       "</table>\n",
       "<p>21 rows × 29611 columns</p>\n",
       "</div>"
      ],
      "text/plain": [
       "             0      1      2      3      4      5      6      7      8      \\\n",
       "java         False  False  False  False   True  False  False  False  False   \n",
       "c#           False  False  False  False  False  False  False  False  False   \n",
       "javascript   False  False  False   True  False  False  False  False  False   \n",
       "python        True  False  False  False  False  False  False  False  False   \n",
       "android      False  False  False  False  False  False  False  False  False   \n",
       "c++          False  False  False  False   True  False  False  False  False   \n",
       "ios          False  False  False  False  False  False  False  False  False   \n",
       "html         False  False  False  False  False  False  False  False  False   \n",
       "php          False  False  False   True  False  False  False  False  False   \n",
       ".net         False  False  False  False  False  False  False  False  False   \n",
       "jquery       False  False  False  False  False  False  False  False  False   \n",
       "css          False  False  False  False  False  False  False  False  False   \n",
       "objective-c  False  False  False  False  False  False  False  False  False   \n",
       "c            False  False  False  False   True  False  False  False  False   \n",
       "sql          False  False   True  False  False  False  False  False  False   \n",
       "iphone       False  False  False  False  False  False  False  False  False   \n",
       "asp.net      False  False  False  False  False  False  False  False  False   \n",
       "mysql        False  False   True  False  False  False  False  False  False   \n",
       "linux        False  False  False  False  False   True  False  False  False   \n",
       "node.js      False  False  False  False  False  False  False  False  False   \n",
       "git          False  False  False  False  False  False  False  False  False   \n",
       "\n",
       "             9      ...  29601  29602  29603  29604  29605  29606  29607  \\\n",
       "java         False  ...  False  False  False  False  False  False  False   \n",
       "c#           False  ...  False  False  False  False  False  False  False   \n",
       "javascript   False  ...  False  False  False  False  False  False  False   \n",
       "python       False  ...  False  False   True  False  False  False  False   \n",
       "android      False  ...  False  False  False  False  False  False  False   \n",
       "c++          False  ...  False  False  False  False  False  False  False   \n",
       "ios          False  ...  False  False  False   True  False  False  False   \n",
       "html         False  ...  False  False  False  False  False  False  False   \n",
       "php          False  ...  False  False  False  False  False  False  False   \n",
       ".net         False  ...  False  False  False  False  False  False  False   \n",
       "jquery       False  ...  False  False  False  False  False  False  False   \n",
       "css          False  ...  False  False  False  False  False  False  False   \n",
       "objective-c  False  ...  False  False  False  False  False  False  False   \n",
       "c            False  ...  False  False  False  False  False  False  False   \n",
       "sql          False  ...  False  False  False  False  False   True  False   \n",
       "iphone       False  ...  False  False  False   True  False  False  False   \n",
       "asp.net      False  ...  False  False  False  False  False  False  False   \n",
       "mysql        False  ...  False  False  False  False  False  False  False   \n",
       "linux        False  ...  False  False  False  False  False  False  False   \n",
       "node.js      False  ...  False  False  False  False  False  False  False   \n",
       "git          False  ...  False  False  False  False  False  False  False   \n",
       "\n",
       "             29608  29609  29610  \n",
       "java         False  False  False  \n",
       "c#           False  False  False  \n",
       "javascript   False  False  False  \n",
       "python       False  False  False  \n",
       "android      False  False  False  \n",
       "c++          False  False  False  \n",
       "ios          False  False  False  \n",
       "html         False  False  False  \n",
       "php          False  False  False  \n",
       ".net         False  False  False  \n",
       "jquery       False  False  False  \n",
       "css          False  False  False  \n",
       "objective-c  False  False  False  \n",
       "c             True  False  False  \n",
       "sql          False  False  False  \n",
       "iphone       False  False  False  \n",
       "asp.net      False  False  False  \n",
       "mysql        False  False  False  \n",
       "linux        False  False   True  \n",
       "node.js      False  False  False  \n",
       "git          False  False  False  \n",
       "\n",
       "[21 rows x 29611 columns]"
      ]
     },
     "execution_count": 20,
     "metadata": {},
     "output_type": "execute_result"
    }
   ],
   "source": [
    "test_str = X_test.str\n",
    "pred_is_in = pd.DataFrame(\n",
    "    {\n",
    "        target_name: test_str.contains(\n",
    "            f\" {target_name} \", case=False, regex=False\n",
    "        ).values\n",
    "        for target_name in target_names\n",
    "    }\n",
    ")\n",
    "pred_is_in.T"
   ]
  },
  {
   "cell_type": "code",
   "execution_count": 21,
   "id": "988b1e13",
   "metadata": {
    "execution": {
     "iopub.execute_input": "2023-01-03T18:19:30.414904Z",
     "iopub.status.busy": "2023-01-03T18:19:30.413739Z",
     "iopub.status.idle": "2023-01-03T18:19:30.491634Z",
     "shell.execute_reply": "2023-01-03T18:19:30.490651Z"
    },
    "papermill": {
     "duration": 0.098131,
     "end_time": "2023-01-03T18:19:30.493766",
     "exception": false,
     "start_time": "2023-01-03T18:19:30.395635",
     "status": "completed"
    },
    "tags": []
   },
   "outputs": [
    {
     "data": {
      "text/html": [
       "<div>\n",
       "<style scoped>\n",
       "    .dataframe tbody tr th:only-of-type {\n",
       "        vertical-align: middle;\n",
       "    }\n",
       "\n",
       "    .dataframe tbody tr th {\n",
       "        vertical-align: top;\n",
       "    }\n",
       "\n",
       "    .dataframe thead th {\n",
       "        text-align: right;\n",
       "    }\n",
       "</style>\n",
       "<table border=\"1\" class=\"dataframe\">\n",
       "  <thead>\n",
       "    <tr style=\"text-align: right;\">\n",
       "      <th></th>\n",
       "      <th>precision</th>\n",
       "      <th>recall</th>\n",
       "      <th>f1-score</th>\n",
       "      <th>support</th>\n",
       "    </tr>\n",
       "  </thead>\n",
       "  <tbody>\n",
       "    <tr>\n",
       "      <th>git</th>\n",
       "      <td>0.716846</td>\n",
       "      <td>0.729927</td>\n",
       "      <td>0.723327</td>\n",
       "      <td>274.0</td>\n",
       "    </tr>\n",
       "    <tr>\n",
       "      <th>mysql</th>\n",
       "      <td>0.723949</td>\n",
       "      <td>0.578102</td>\n",
       "      <td>0.642857</td>\n",
       "      <td>685.0</td>\n",
       "    </tr>\n",
       "    <tr>\n",
       "      <th>python</th>\n",
       "      <td>0.878273</td>\n",
       "      <td>0.475115</td>\n",
       "      <td>0.616646</td>\n",
       "      <td>2612.0</td>\n",
       "    </tr>\n",
       "    <tr>\n",
       "      <th>php</th>\n",
       "      <td>0.827292</td>\n",
       "      <td>0.476951</td>\n",
       "      <td>0.605068</td>\n",
       "      <td>1627.0</td>\n",
       "    </tr>\n",
       "    <tr>\n",
       "      <th>android</th>\n",
       "      <td>0.851163</td>\n",
       "      <td>0.447433</td>\n",
       "      <td>0.586538</td>\n",
       "      <td>2045.0</td>\n",
       "    </tr>\n",
       "    <tr>\n",
       "      <th>jquery</th>\n",
       "      <td>0.796804</td>\n",
       "      <td>0.453836</td>\n",
       "      <td>0.578293</td>\n",
       "      <td>1538.0</td>\n",
       "    </tr>\n",
       "    <tr>\n",
       "      <th>css</th>\n",
       "      <td>0.714670</td>\n",
       "      <td>0.469496</td>\n",
       "      <td>0.566702</td>\n",
       "      <td>1131.0</td>\n",
       "    </tr>\n",
       "    <tr>\n",
       "      <th>c++</th>\n",
       "      <td>0.805702</td>\n",
       "      <td>0.388493</td>\n",
       "      <td>0.524218</td>\n",
       "      <td>1964.0</td>\n",
       "    </tr>\n",
       "    <tr>\n",
       "      <th>java</th>\n",
       "      <td>0.766089</td>\n",
       "      <td>0.347948</td>\n",
       "      <td>0.478547</td>\n",
       "      <td>3558.0</td>\n",
       "    </tr>\n",
       "    <tr>\n",
       "      <th>linux</th>\n",
       "      <td>0.458265</td>\n",
       "      <td>0.411765</td>\n",
       "      <td>0.433772</td>\n",
       "      <td>680.0</td>\n",
       "    </tr>\n",
       "    <tr>\n",
       "      <th>micro avg</th>\n",
       "      <td>0.642411</td>\n",
       "      <td>0.326746</td>\n",
       "      <td>0.433171</td>\n",
       "      <td>33044.0</td>\n",
       "    </tr>\n",
       "    <tr>\n",
       "      <th>macro avg</th>\n",
       "      <td>0.604087</td>\n",
       "      <td>0.360648</td>\n",
       "      <td>0.429556</td>\n",
       "      <td>33044.0</td>\n",
       "    </tr>\n",
       "    <tr>\n",
       "      <th>sql</th>\n",
       "      <td>0.412766</td>\n",
       "      <td>0.445977</td>\n",
       "      <td>0.428729</td>\n",
       "      <td>870.0</td>\n",
       "    </tr>\n",
       "    <tr>\n",
       "      <th>html</th>\n",
       "      <td>0.481022</td>\n",
       "      <td>0.375499</td>\n",
       "      <td>0.421760</td>\n",
       "      <td>1755.0</td>\n",
       "    </tr>\n",
       "    <tr>\n",
       "      <th>weighted avg</th>\n",
       "      <td>0.618122</td>\n",
       "      <td>0.326746</td>\n",
       "      <td>0.413810</td>\n",
       "      <td>33044.0</td>\n",
       "    </tr>\n",
       "    <tr>\n",
       "      <th>asp.net</th>\n",
       "      <td>0.524096</td>\n",
       "      <td>0.324224</td>\n",
       "      <td>0.400614</td>\n",
       "      <td>805.0</td>\n",
       "    </tr>\n",
       "    <tr>\n",
       "      <th>iphone</th>\n",
       "      <td>0.578947</td>\n",
       "      <td>0.299876</td>\n",
       "      <td>0.395102</td>\n",
       "      <td>807.0</td>\n",
       "    </tr>\n",
       "    <tr>\n",
       "      <th>javascript</th>\n",
       "      <td>0.766812</td>\n",
       "      <td>0.261621</td>\n",
       "      <td>0.390136</td>\n",
       "      <td>3356.0</td>\n",
       "    </tr>\n",
       "    <tr>\n",
       "      <th>ios</th>\n",
       "      <td>0.768456</td>\n",
       "      <td>0.248913</td>\n",
       "      <td>0.376026</td>\n",
       "      <td>1840.0</td>\n",
       "    </tr>\n",
       "    <tr>\n",
       "      <th>.net</th>\n",
       "      <td>0.536657</td>\n",
       "      <td>0.233270</td>\n",
       "      <td>0.325189</td>\n",
       "      <td>1569.0</td>\n",
       "    </tr>\n",
       "    <tr>\n",
       "      <th>c</th>\n",
       "      <td>0.205295</td>\n",
       "      <td>0.464407</td>\n",
       "      <td>0.284725</td>\n",
       "      <td>885.0</td>\n",
       "    </tr>\n",
       "    <tr>\n",
       "      <th>samples avg</th>\n",
       "      <td>0.283512</td>\n",
       "      <td>0.263238</td>\n",
       "      <td>0.262590</td>\n",
       "      <td>33044.0</td>\n",
       "    </tr>\n",
       "    <tr>\n",
       "      <th>node.js</th>\n",
       "      <td>0.872727</td>\n",
       "      <td>0.140762</td>\n",
       "      <td>0.242424</td>\n",
       "      <td>682.0</td>\n",
       "    </tr>\n",
       "    <tr>\n",
       "      <th>c#</th>\n",
       "      <td>0.000000</td>\n",
       "      <td>0.000000</td>\n",
       "      <td>0.000000</td>\n",
       "      <td>3473.0</td>\n",
       "    </tr>\n",
       "    <tr>\n",
       "      <th>objective-c</th>\n",
       "      <td>0.000000</td>\n",
       "      <td>0.000000</td>\n",
       "      <td>0.000000</td>\n",
       "      <td>888.0</td>\n",
       "    </tr>\n",
       "  </tbody>\n",
       "</table>\n",
       "</div>"
      ],
      "text/plain": [
       "              precision    recall  f1-score  support\n",
       "git            0.716846  0.729927  0.723327    274.0\n",
       "mysql          0.723949  0.578102  0.642857    685.0\n",
       "python         0.878273  0.475115  0.616646   2612.0\n",
       "php            0.827292  0.476951  0.605068   1627.0\n",
       "android        0.851163  0.447433  0.586538   2045.0\n",
       "jquery         0.796804  0.453836  0.578293   1538.0\n",
       "css            0.714670  0.469496  0.566702   1131.0\n",
       "c++            0.805702  0.388493  0.524218   1964.0\n",
       "java           0.766089  0.347948  0.478547   3558.0\n",
       "linux          0.458265  0.411765  0.433772    680.0\n",
       "micro avg      0.642411  0.326746  0.433171  33044.0\n",
       "macro avg      0.604087  0.360648  0.429556  33044.0\n",
       "sql            0.412766  0.445977  0.428729    870.0\n",
       "html           0.481022  0.375499  0.421760   1755.0\n",
       "weighted avg   0.618122  0.326746  0.413810  33044.0\n",
       "asp.net        0.524096  0.324224  0.400614    805.0\n",
       "iphone         0.578947  0.299876  0.395102    807.0\n",
       "javascript     0.766812  0.261621  0.390136   3356.0\n",
       "ios            0.768456  0.248913  0.376026   1840.0\n",
       ".net           0.536657  0.233270  0.325189   1569.0\n",
       "c              0.205295  0.464407  0.284725    885.0\n",
       "samples avg    0.283512  0.263238  0.262590  33044.0\n",
       "node.js        0.872727  0.140762  0.242424    682.0\n",
       "c#             0.000000  0.000000  0.000000   3473.0\n",
       "objective-c    0.000000  0.000000  0.000000    888.0"
      ]
     },
     "execution_count": 21,
     "metadata": {},
     "output_type": "execute_result"
    }
   ],
   "source": [
    "score_naive_is_in = save_score(y_test, pred_is_in, target_names, \"naive_is_in\")\n",
    "score_naive_is_in.sort_values(by=\"f1-score\", ascending=False)"
   ]
  },
  {
   "cell_type": "code",
   "execution_count": 22,
   "id": "8a53359d",
   "metadata": {
    "execution": {
     "iopub.execute_input": "2023-01-03T18:19:30.528174Z",
     "iopub.status.busy": "2023-01-03T18:19:30.527352Z",
     "iopub.status.idle": "2023-01-03T18:19:30.598041Z",
     "shell.execute_reply": "2023-01-03T18:19:30.595538Z"
    },
    "papermill": {
     "duration": 0.090681,
     "end_time": "2023-01-03T18:19:30.600706",
     "exception": false,
     "start_time": "2023-01-03T18:19:30.510025",
     "status": "completed"
    },
    "tags": []
   },
   "outputs": [
    {
     "name": "stdout",
     "output_type": "stream",
     "text": [
      "\u001b[1mjava\u001b[0m\n",
      "\t Sur entrainement \u001b[92m12.05%\u001b[0m positif \u001b[91m87.95%\u001b[0m negatif\n",
      "\t Sur test \u001b[92m12.02%\u001b[0m positif \u001b[91m87.98%\u001b[0m negatif\n",
      "\n",
      "\n",
      "\u001b[1mc#\u001b[0m\n",
      "\t Sur entrainement \u001b[92m11.80%\u001b[0m positif \u001b[91m88.20%\u001b[0m negatif\n",
      "\t Sur test \u001b[92m11.73%\u001b[0m positif \u001b[91m88.27%\u001b[0m negatif\n",
      "\n",
      "\n",
      "\u001b[1mjavascript\u001b[0m\n",
      "\t Sur entrainement \u001b[92m11.77%\u001b[0m positif \u001b[91m88.23%\u001b[0m negatif\n",
      "\t Sur test \u001b[92m11.33%\u001b[0m positif \u001b[91m88.67%\u001b[0m negatif\n",
      "\n",
      "\n",
      "\u001b[1mpython\u001b[0m\n",
      "\t Sur entrainement \u001b[92m8.61%\u001b[0m positif \u001b[91m91.39%\u001b[0m negatif\n",
      "\t Sur test \u001b[92m8.82%\u001b[0m positif \u001b[91m91.18%\u001b[0m negatif\n",
      "\n",
      "\n",
      "\u001b[1mandroid\u001b[0m\n",
      "\t Sur entrainement \u001b[92m7.00%\u001b[0m positif \u001b[91m93.00%\u001b[0m negatif\n",
      "\t Sur test \u001b[92m6.91%\u001b[0m positif \u001b[91m93.09%\u001b[0m negatif\n",
      "\n",
      "\n",
      "\u001b[1mc++\u001b[0m\n",
      "\t Sur entrainement \u001b[92m6.63%\u001b[0m positif \u001b[91m93.37%\u001b[0m negatif\n",
      "\t Sur test \u001b[92m6.63%\u001b[0m positif \u001b[91m93.37%\u001b[0m negatif\n",
      "\n",
      "\n",
      "\u001b[1mios\u001b[0m\n",
      "\t Sur entrainement \u001b[92m6.25%\u001b[0m positif \u001b[91m93.75%\u001b[0m negatif\n",
      "\t Sur test \u001b[92m6.21%\u001b[0m positif \u001b[91m93.79%\u001b[0m negatif\n",
      "\n",
      "\n",
      "\u001b[1mhtml\u001b[0m\n",
      "\t Sur entrainement \u001b[92m5.85%\u001b[0m positif \u001b[91m94.15%\u001b[0m negatif\n",
      "\t Sur test \u001b[92m5.93%\u001b[0m positif \u001b[91m94.07%\u001b[0m negatif\n",
      "\n",
      "\n",
      "\u001b[1mphp\u001b[0m\n",
      "\t Sur entrainement \u001b[92m5.56%\u001b[0m positif \u001b[91m94.44%\u001b[0m negatif\n",
      "\t Sur test \u001b[92m5.49%\u001b[0m positif \u001b[91m94.51%\u001b[0m negatif\n",
      "\n",
      "\n",
      "\u001b[1m.net\u001b[0m\n",
      "\t Sur entrainement \u001b[92m5.34%\u001b[0m positif \u001b[91m94.66%\u001b[0m negatif\n",
      "\t Sur test \u001b[92m5.30%\u001b[0m positif \u001b[91m94.70%\u001b[0m negatif\n",
      "\n",
      "\n",
      "\u001b[1mjquery\u001b[0m\n",
      "\t Sur entrainement \u001b[92m5.36%\u001b[0m positif \u001b[91m94.64%\u001b[0m negatif\n",
      "\t Sur test \u001b[92m5.19%\u001b[0m positif \u001b[91m94.81%\u001b[0m negatif\n",
      "\n",
      "\n",
      "\u001b[1mcss\u001b[0m\n",
      "\t Sur entrainement \u001b[92m3.77%\u001b[0m positif \u001b[91m96.23%\u001b[0m negatif\n",
      "\t Sur test \u001b[92m3.82%\u001b[0m positif \u001b[91m96.18%\u001b[0m negatif\n",
      "\n",
      "\n",
      "\u001b[1mobjective-c\u001b[0m\n",
      "\t Sur entrainement \u001b[92m3.08%\u001b[0m positif \u001b[91m96.92%\u001b[0m negatif\n",
      "\t Sur test \u001b[92m3.00%\u001b[0m positif \u001b[91m97.00%\u001b[0m negatif\n",
      "\n",
      "\n",
      "\u001b[1mc\u001b[0m\n",
      "\t Sur entrainement \u001b[92m3.08%\u001b[0m positif \u001b[91m96.92%\u001b[0m negatif\n",
      "\t Sur test \u001b[92m2.99%\u001b[0m positif \u001b[91m97.01%\u001b[0m negatif\n",
      "\n",
      "\n",
      "\u001b[1msql\u001b[0m\n",
      "\t Sur entrainement \u001b[92m3.00%\u001b[0m positif \u001b[91m97.00%\u001b[0m negatif\n",
      "\t Sur test \u001b[92m2.94%\u001b[0m positif \u001b[91m97.06%\u001b[0m negatif\n",
      "\n",
      "\n",
      "\u001b[1miphone\u001b[0m\n",
      "\t Sur entrainement \u001b[92m2.79%\u001b[0m positif \u001b[91m97.21%\u001b[0m negatif\n",
      "\t Sur test \u001b[92m2.73%\u001b[0m positif \u001b[91m97.27%\u001b[0m negatif\n",
      "\n",
      "\n",
      "\u001b[1masp.net\u001b[0m\n",
      "\t Sur entrainement \u001b[92m2.73%\u001b[0m positif \u001b[91m97.27%\u001b[0m negatif\n",
      "\t Sur test \u001b[92m2.72%\u001b[0m positif \u001b[91m97.28%\u001b[0m negatif\n",
      "\n",
      "\n",
      "\u001b[1mmysql\u001b[0m\n",
      "\t Sur entrainement \u001b[92m2.37%\u001b[0m positif \u001b[91m97.63%\u001b[0m negatif\n",
      "\t Sur test \u001b[92m2.31%\u001b[0m positif \u001b[91m97.69%\u001b[0m negatif\n",
      "\n",
      "\n",
      "\u001b[1mlinux\u001b[0m\n",
      "\t Sur entrainement \u001b[92m2.34%\u001b[0m positif \u001b[91m97.66%\u001b[0m negatif\n",
      "\t Sur test \u001b[92m2.30%\u001b[0m positif \u001b[91m97.70%\u001b[0m negatif\n",
      "\n",
      "\n",
      "\u001b[1mnode.js\u001b[0m\n",
      "\t Sur entrainement \u001b[92m2.29%\u001b[0m positif \u001b[91m97.71%\u001b[0m negatif\n",
      "\t Sur test \u001b[92m2.30%\u001b[0m positif \u001b[91m97.70%\u001b[0m negatif\n",
      "\n",
      "\n",
      "\u001b[1mgit\u001b[0m\n",
      "\t Sur entrainement \u001b[92m0.95%\u001b[0m positif \u001b[91m99.05%\u001b[0m negatif\n",
      "\t Sur test \u001b[92m0.93%\u001b[0m positif \u001b[91m99.07%\u001b[0m negatif\n",
      "\n",
      "\n"
     ]
    }
   ],
   "source": [
    "for column in y_train.columns:\n",
    "    t_train = y_train[column].value_counts(normalize=True)\n",
    "    t_test = y_test[column].value_counts(normalize=True)\n",
    "    print(f\"{colors.BOLD}{column}{colors.ENDC}\")\n",
    "    print(\n",
    "        f\"\\t Sur entrainement {colors.GREEN}{t_train[True]:.2%}{colors.ENDC} positif {colors.RED}{t_train[False]:.2%}{colors.ENDC} negatif\"\n",
    "    )\n",
    "    print(\n",
    "        f\"\\t Sur test {colors.GREEN}{t_test[True]:.2%}{colors.ENDC} positif {colors.RED}{t_test[False]:.2%}{colors.ENDC} negatif\"\n",
    "    )\n",
    "    print(\"\\n\")"
   ]
  },
  {
   "cell_type": "markdown",
   "id": "82997d6f",
   "metadata": {
    "papermill": {
     "duration": 0.015909,
     "end_time": "2023-01-03T18:19:30.634034",
     "exception": false,
     "start_time": "2023-01-03T18:19:30.618125",
     "status": "completed"
    },
    "tags": []
   },
   "source": [
    "# CountVectorizer"
   ]
  },
  {
   "cell_type": "code",
   "execution_count": 23,
   "id": "137bbdd0",
   "metadata": {
    "execution": {
     "iopub.execute_input": "2023-01-03T18:19:30.668341Z",
     "iopub.status.busy": "2023-01-03T18:19:30.667381Z",
     "iopub.status.idle": "2023-01-03T18:19:35.076898Z",
     "shell.execute_reply": "2023-01-03T18:19:35.075315Z"
    },
    "papermill": {
     "duration": 4.430283,
     "end_time": "2023-01-03T18:19:35.080309",
     "exception": false,
     "start_time": "2023-01-03T18:19:30.650026",
     "status": "completed"
    },
    "tags": []
   },
   "outputs": [
    {
     "name": "stdout",
     "output_type": "stream",
     "text": [
      "\n",
      "******************************\n",
      " pour min_df:1e-05; max_df:0.995\n",
      "\ttokens unique:\n",
      "\t\t53999 dans title et body regroupé\n"
     ]
    }
   ],
   "source": [
    "best_min_df = description[\"CountVectorizer\"][\"min_df\"]\n",
    "best_max_df = description[\"CountVectorizer\"][\"max_df\"]\n",
    "for min_df in [0.01, 0.05, 0.005, 0.0005, 0.00001] if LONG else [best_min_df]:\n",
    "    for max_df in [0.95, 0.995, 0.9995] if LONG else [best_max_df]:\n",
    "        print(f\"\\n{'*'*30}\\n pour min_df:{min_df}; max_df:{max_df}\")\n",
    "        count_vectorizer = feature_extraction.text.CountVectorizer(\n",
    "            min_df=min_df, max_df=max_df, max_features=None\n",
    "        )\n",
    "        #         pipe = pipeline.make_pipeline(feature_extraction.text.CountVectorizer(min_df=min_df, max_df=max_df, max_features=None), feature_extraction.text.TfidfTransformer( norm=\"l2\", use_idf=True, smooth_idf=True, sublinear_tf=False))\n",
    "        #         feat_train = pipe.transform(X_train[\"Token\"])\n",
    "        #         print(feat_train.shape)\n",
    "\n",
    "        token_vectors = count_vectorizer.fit_transform(df[\"Token\"])\n",
    "        print(\n",
    "            f\"\\ttokens unique:\\n\\t\\t{token_vectors.shape[1]} dans title et body regroupé\"\n",
    "        )"
   ]
  },
  {
   "cell_type": "markdown",
   "id": "c2e8e017",
   "metadata": {
    "papermill": {
     "duration": 0.016612,
     "end_time": "2023-01-03T18:19:35.131553",
     "exception": false,
     "start_time": "2023-01-03T18:19:35.114941",
     "status": "completed"
    },
    "tags": []
   },
   "source": [
    "### Test reduction dimension\n",
    "avec n_components=1_000 : 10% de la variance éxpliqué\n"
   ]
  },
  {
   "cell_type": "code",
   "execution_count": 24,
   "id": "b6d20057",
   "metadata": {
    "execution": {
     "iopub.execute_input": "2023-01-03T18:19:35.165327Z",
     "iopub.status.busy": "2023-01-03T18:19:35.164999Z",
     "iopub.status.idle": "2023-01-03T18:19:35.204570Z",
     "shell.execute_reply": "2023-01-03T18:19:35.202801Z"
    },
    "papermill": {
     "duration": 0.059608,
     "end_time": "2023-01-03T18:19:35.207291",
     "exception": false,
     "start_time": "2023-01-03T18:19:35.147683",
     "status": "completed"
    },
    "tags": []
   },
   "outputs": [
    {
     "name": "stdout",
     "output_type": "stream",
     "text": [
      "CPU times: user 3 µs, sys: 0 ns, total: 3 µs\n",
      "Wall time: 6.44 µs\n"
     ]
    }
   ],
   "source": [
    "%%time\n",
    "if LONG:\n",
    "    truncSvd = decomposition.TruncatedSVD(n_components=1000).fit(\n",
    "        preprocessing.StandardScaler(with_mean=False).fit_transform(token_vectors)\n",
    "    )\n",
    "    plt.figure(figsize=(30, 15))\n",
    "    scree = truncSvd.explained_variance_ratio_ * 100\n",
    "    plt.bar(np.arange(len(scree)) + 1, scree)\n",
    "    plt.plot(np.arange(len(scree)) + 1, scree.cumsum(), c=\"red\", marker=\"o\")\n",
    "    plt.xlabel(\"rang de l'axe d'inertie\")\n",
    "    plt.ylabel(\"pourcentage variance expliquée\")\n",
    "    plt.title(\"Eboulis des valeurs propres\")\n",
    "    plt.show()"
   ]
  },
  {
   "cell_type": "markdown",
   "id": "18293ebf",
   "metadata": {
    "papermill": {
     "duration": 0.016065,
     "end_time": "2023-01-03T18:19:35.240100",
     "exception": false,
     "start_time": "2023-01-03T18:19:35.224035",
     "status": "completed"
    },
    "tags": []
   },
   "source": [
    "# PreprocessPipeline"
   ]
  },
  {
   "cell_type": "code",
   "execution_count": 25,
   "id": "7f8b5315",
   "metadata": {
    "execution": {
     "iopub.execute_input": "2023-01-03T18:19:35.275648Z",
     "iopub.status.busy": "2023-01-03T18:19:35.275004Z",
     "iopub.status.idle": "2023-01-03T18:19:35.327583Z",
     "shell.execute_reply": "2023-01-03T18:19:35.326729Z"
    },
    "papermill": {
     "duration": 0.071827,
     "end_time": "2023-01-03T18:19:35.329720",
     "exception": false,
     "start_time": "2023-01-03T18:19:35.257893",
     "status": "completed"
    },
    "tags": []
   },
   "outputs": [],
   "source": [
    "pipeline_tfidf = pipeline.Pipeline(\n",
    "    [\n",
    "        (\n",
    "            \"count\",\n",
    "            feature_extraction.text.CountVectorizer(\n",
    "                min_df=best_min_df, max_df=best_max_df, max_features=None\n",
    "            ),\n",
    "        ),\n",
    "        (\n",
    "            \"tfidf\",\n",
    "            feature_extraction.text.TfidfTransformer(\n",
    "                norm=\"l2\", use_idf=True, smooth_idf=True, sublinear_tf=False\n",
    "            ),\n",
    "        ),\n",
    "        (\n",
    "            \"scale\",\n",
    "            preprocessing.StandardScaler(with_mean=False)\n",
    "            if description[\"StandardScaler\"][\"actif\"]\n",
    "            else \"passthrough\",\n",
    "        ),\n",
    "        (\n",
    "            \"dimReduction\",\n",
    "            decomposition.TruncatedSVD(\n",
    "                n_components=description[\"TruncatedSVD\"][\"n_components\"]\n",
    "            )\n",
    "            if description[\"TruncatedSVD\"][\"actif\"]\n",
    "            else \"passthrough\",\n",
    "        ),\n",
    "    ]\n",
    ")\n",
    "## @TODO cache\n",
    "# memory = joblib.Memory(location=\"/kaggle/working/cache_dir\", verbose=0)\n",
    "# pipeline_tfidf = memory.cache(pipeline_tfidf)"
   ]
  },
  {
   "cell_type": "markdown",
   "id": "79692192",
   "metadata": {
    "papermill": {
     "duration": 0.016068,
     "end_time": "2023-01-03T18:19:35.362213",
     "exception": false,
     "start_time": "2023-01-03T18:19:35.346145",
     "status": "completed"
    },
    "tags": []
   },
   "source": [
    "# OvsRest"
   ]
  },
  {
   "cell_type": "markdown",
   "id": "099106fa",
   "metadata": {
    "papermill": {
     "duration": 0.016185,
     "end_time": "2023-01-03T18:19:35.394639",
     "exception": false,
     "start_time": "2023-01-03T18:19:35.378454",
     "status": "completed"
    },
    "tags": []
   },
   "source": [
    "## LogisticRegression"
   ]
  },
  {
   "cell_type": "code",
   "execution_count": 26,
   "id": "b5a6ce12",
   "metadata": {
    "execution": {
     "iopub.execute_input": "2023-01-03T18:19:35.428907Z",
     "iopub.status.busy": "2023-01-03T18:19:35.428039Z",
     "iopub.status.idle": "2023-01-03T18:19:35.467345Z",
     "shell.execute_reply": "2023-01-03T18:19:35.465990Z"
    },
    "papermill": {
     "duration": 0.058732,
     "end_time": "2023-01-03T18:19:35.469451",
     "exception": false,
     "start_time": "2023-01-03T18:19:35.410719",
     "status": "completed"
    },
    "tags": []
   },
   "outputs": [
    {
     "name": "stdout",
     "output_type": "stream",
     "text": [
      "CPU times: user 4 µs, sys: 1e+03 ns, total: 5 µs\n",
      "Wall time: 7.39 µs\n"
     ]
    }
   ],
   "source": [
    "%%time\n",
    "if description[\"LogisticRegression\"][\"actif\"]:\n",
    "    pipeline_logisticReg = pipeline.Pipeline(\n",
    "        [\n",
    "            (\"tfidf\", pipeline_tfidf),\n",
    "            (\n",
    "                \"OvRLogisticReg\",\n",
    "                multiclass.OneVsRestClassifier(\n",
    "                    linear_model.LogisticRegression(random_state=42)\n",
    "                ),\n",
    "            ),\n",
    "        ]\n",
    "    )\n",
    "    with ignore_warnings(category=exceptions.ConvergenceWarning):\n",
    "        pipeline_logisticReg.fit(X_train, y_train)\n",
    "\n",
    "    # prediction sur jeu de test\n",
    "    pred_lr = pipeline_logisticReg.predict(X_test)\n",
    "    scores_lr = save_score(y_test, pred_lr, target_names, \"LogisticRegression\")\n",
    "\n",
    "    # enregistrement model et score\n",
    "    joblib.dump(pipeline_logisticReg, \"LogisticRegression_model.joblib\")\n",
    "    scores_lr.sort_values(by=\"support\", ascending=False)"
   ]
  },
  {
   "cell_type": "code",
   "execution_count": 27,
   "id": "f00d77e4",
   "metadata": {
    "execution": {
     "iopub.execute_input": "2023-01-03T18:19:35.503748Z",
     "iopub.status.busy": "2023-01-03T18:19:35.502925Z",
     "iopub.status.idle": "2023-01-03T18:19:35.514673Z",
     "shell.execute_reply": "2023-01-03T18:19:35.513707Z"
    },
    "papermill": {
     "duration": 0.030751,
     "end_time": "2023-01-03T18:19:35.516724",
     "exception": false,
     "start_time": "2023-01-03T18:19:35.485973",
     "status": "completed"
    },
    "tags": []
   },
   "outputs": [],
   "source": [
    "if description[\"LogisticRegression\"][\"actif\"]:\n",
    "    print(scores_lr.sort_values(by=\"precision\", ascending=False))"
   ]
  },
  {
   "cell_type": "code",
   "execution_count": 28,
   "id": "21f50a7a",
   "metadata": {
    "execution": {
     "iopub.execute_input": "2023-01-03T18:19:35.550671Z",
     "iopub.status.busy": "2023-01-03T18:19:35.549766Z",
     "iopub.status.idle": "2023-01-03T18:19:35.561452Z",
     "shell.execute_reply": "2023-01-03T18:19:35.560625Z"
    },
    "papermill": {
     "duration": 0.030745,
     "end_time": "2023-01-03T18:19:35.563438",
     "exception": false,
     "start_time": "2023-01-03T18:19:35.532693",
     "status": "completed"
    },
    "tags": []
   },
   "outputs": [],
   "source": [
    "if description[\"LogisticRegression\"][\"actif\"]:\n",
    "    print(scores_lr.sort_values(by=\"recall\", ascending=False))"
   ]
  },
  {
   "cell_type": "markdown",
   "id": "4a2d323d",
   "metadata": {
    "papermill": {
     "duration": 0.016119,
     "end_time": "2023-01-03T18:19:35.596307",
     "exception": false,
     "start_time": "2023-01-03T18:19:35.580188",
     "status": "completed"
    },
    "tags": []
   },
   "source": [
    "## SVC"
   ]
  },
  {
   "cell_type": "code",
   "execution_count": 29,
   "id": "2f7fa06f",
   "metadata": {
    "execution": {
     "iopub.execute_input": "2023-01-03T18:19:35.630357Z",
     "iopub.status.busy": "2023-01-03T18:19:35.629587Z",
     "iopub.status.idle": "2023-01-03T18:19:35.655546Z",
     "shell.execute_reply": "2023-01-03T18:19:35.654641Z"
    },
    "papermill": {
     "duration": 0.045215,
     "end_time": "2023-01-03T18:19:35.657616",
     "exception": false,
     "start_time": "2023-01-03T18:19:35.612401",
     "status": "completed"
    },
    "tags": []
   },
   "outputs": [],
   "source": [
    "pipeline_svc = pipeline.Pipeline(\n",
    "    [\n",
    "        (\"tfidf\", pipeline_tfidf),\n",
    "        (\n",
    "            \"TfidfOvRSVC\",\n",
    "            multiclass.OneVsRestClassifier(\n",
    "                svm.SVC(\n",
    "                    cache_size=1080,\n",
    "                    max_iter=description[\"TfidfOvRSVC\"][\"max_iter\"],\n",
    "                    random_state=42,\n",
    "                )\n",
    "            ),\n",
    "        ),\n",
    "    ]\n",
    ")"
   ]
  },
  {
   "cell_type": "code",
   "execution_count": 30,
   "id": "4ac541b5",
   "metadata": {
    "execution": {
     "iopub.execute_input": "2023-01-03T18:19:35.691830Z",
     "iopub.status.busy": "2023-01-03T18:19:35.690957Z",
     "iopub.status.idle": "2023-01-03T18:19:35.708647Z",
     "shell.execute_reply": "2023-01-03T18:19:35.707243Z"
    },
    "papermill": {
     "duration": 0.037048,
     "end_time": "2023-01-03T18:19:35.711026",
     "exception": false,
     "start_time": "2023-01-03T18:19:35.673978",
     "status": "completed"
    },
    "tags": []
   },
   "outputs": [
    {
     "name": "stdout",
     "output_type": "stream",
     "text": [
      "CPU times: user 3 µs, sys: 1 µs, total: 4 µs\n",
      "Wall time: 6.68 µs\n"
     ]
    }
   ],
   "source": [
    "%%time\n",
    "if description[\"TfidfOvRSVC\"][\"actif\"]:\n",
    "    with ignore_warnings(category=exceptions.ConvergenceWarning):\n",
    "        pipeline_svc.fit(\n",
    "            X_train,\n",
    "            y_train,\n",
    "        )"
   ]
  },
  {
   "cell_type": "code",
   "execution_count": 31,
   "id": "3811245e",
   "metadata": {
    "execution": {
     "iopub.execute_input": "2023-01-03T18:19:35.745882Z",
     "iopub.status.busy": "2023-01-03T18:19:35.745599Z",
     "iopub.status.idle": "2023-01-03T18:19:35.759640Z",
     "shell.execute_reply": "2023-01-03T18:19:35.758201Z"
    },
    "papermill": {
     "duration": 0.034037,
     "end_time": "2023-01-03T18:19:35.762162",
     "exception": false,
     "start_time": "2023-01-03T18:19:35.728125",
     "status": "completed"
    },
    "tags": []
   },
   "outputs": [
    {
     "name": "stdout",
     "output_type": "stream",
     "text": [
      "CPU times: user 4 µs, sys: 0 ns, total: 4 µs\n",
      "Wall time: 6.2 µs\n"
     ]
    }
   ],
   "source": [
    "%%time\n",
    "if description[\"TfidfOvRSVC\"][\"actif\"]:\n",
    "    pred_svc = pipeline_svc.predict(X_test)\n",
    "    print(pred_svc)"
   ]
  },
  {
   "cell_type": "markdown",
   "id": "2234dd6b",
   "metadata": {
    "papermill": {
     "duration": 0.016022,
     "end_time": "2023-01-03T18:19:35.795014",
     "exception": false,
     "start_time": "2023-01-03T18:19:35.778992",
     "status": "completed"
    },
    "tags": []
   },
   "source": [
    "### Score et enregistrement"
   ]
  },
  {
   "cell_type": "code",
   "execution_count": 32,
   "id": "2667b42f",
   "metadata": {
    "execution": {
     "iopub.execute_input": "2023-01-03T18:19:35.828693Z",
     "iopub.status.busy": "2023-01-03T18:19:35.828430Z",
     "iopub.status.idle": "2023-01-03T18:19:35.845719Z",
     "shell.execute_reply": "2023-01-03T18:19:35.844804Z"
    },
    "papermill": {
     "duration": 0.036393,
     "end_time": "2023-01-03T18:19:35.847614",
     "exception": false,
     "start_time": "2023-01-03T18:19:35.811221",
     "status": "completed"
    },
    "tags": []
   },
   "outputs": [],
   "source": [
    "if description[\"TfidfOvRSVC\"][\"actif\"]:\n",
    "    scores_svc = save_score(y_test, pred_svc, target_names, \"TfidfOvRSVC\")\n",
    "    joblib.dump(pipeline_svc, \"TfidfOvRestSvc_model.joblib\")\n",
    "    print(scores_svc.sort_values(by=\"precision\", ascending=False))"
   ]
  },
  {
   "cell_type": "markdown",
   "id": "8ea4a9b6",
   "metadata": {
    "papermill": {
     "duration": 0.016211,
     "end_time": "2023-01-03T18:19:35.880305",
     "exception": false,
     "start_time": "2023-01-03T18:19:35.864094",
     "status": "completed"
    },
    "tags": []
   },
   "source": [
    "# Keras Model"
   ]
  },
  {
   "cell_type": "code",
   "execution_count": 33,
   "id": "04b67677",
   "metadata": {
    "execution": {
     "iopub.execute_input": "2023-01-03T18:19:35.914383Z",
     "iopub.status.busy": "2023-01-03T18:19:35.913506Z",
     "iopub.status.idle": "2023-01-03T18:19:35.921643Z",
     "shell.execute_reply": "2023-01-03T18:19:35.920595Z"
    },
    "papermill": {
     "duration": 0.026977,
     "end_time": "2023-01-03T18:19:35.923566",
     "exception": false,
     "start_time": "2023-01-03T18:19:35.896589",
     "status": "completed"
    },
    "tags": []
   },
   "outputs": [
    {
     "name": "stdout",
     "output_type": "stream",
     "text": [
      "{'actif': True, 'TextVectorization__max_tokens': 200000, 'TextVectorization__output_sequence_length': 50, 'Embedding__output_dim': 500, 'Word2Vec__min_count': 1, 'Word2Vec__window': 20, 'Word2Vec__epochs': 100, 'fit__epochs': 20}\n"
     ]
    }
   ],
   "source": [
    "print(description[\"kerasPipeline\"])"
   ]
  },
  {
   "cell_type": "code",
   "execution_count": 34,
   "id": "7263bf2f",
   "metadata": {
    "execution": {
     "iopub.execute_input": "2023-01-03T18:19:35.957720Z",
     "iopub.status.busy": "2023-01-03T18:19:35.957470Z",
     "iopub.status.idle": "2023-01-03T18:19:40.067699Z",
     "shell.execute_reply": "2023-01-03T18:19:40.066665Z"
    },
    "papermill": {
     "duration": 4.130127,
     "end_time": "2023-01-03T18:19:40.070294",
     "exception": false,
     "start_time": "2023-01-03T18:19:35.940167",
     "status": "completed"
    },
    "tags": []
   },
   "outputs": [
    {
     "name": "stderr",
     "output_type": "stream",
     "text": [
      "2023-01-03 18:19:37.104971: I tensorflow/stream_executor/cuda/cuda_gpu_executor.cc:937] successful NUMA node read from SysFS had negative value (-1), but there must be at least one NUMA node, so returning NUMA node zero\n",
      "2023-01-03 18:19:37.286402: I tensorflow/stream_executor/cuda/cuda_gpu_executor.cc:937] successful NUMA node read from SysFS had negative value (-1), but there must be at least one NUMA node, so returning NUMA node zero\n",
      "2023-01-03 18:19:37.287538: I tensorflow/stream_executor/cuda/cuda_gpu_executor.cc:937] successful NUMA node read from SysFS had negative value (-1), but there must be at least one NUMA node, so returning NUMA node zero\n",
      "2023-01-03 18:19:37.290230: I tensorflow/core/platform/cpu_feature_guard.cc:142] This TensorFlow binary is optimized with oneAPI Deep Neural Network Library (oneDNN) to use the following CPU instructions in performance-critical operations:  AVX2 AVX512F FMA\n",
      "To enable them in other operations, rebuild TensorFlow with the appropriate compiler flags.\n",
      "2023-01-03 18:19:37.290592: I tensorflow/stream_executor/cuda/cuda_gpu_executor.cc:937] successful NUMA node read from SysFS had negative value (-1), but there must be at least one NUMA node, so returning NUMA node zero\n",
      "2023-01-03 18:19:37.291610: I tensorflow/stream_executor/cuda/cuda_gpu_executor.cc:937] successful NUMA node read from SysFS had negative value (-1), but there must be at least one NUMA node, so returning NUMA node zero\n",
      "2023-01-03 18:19:37.292565: I tensorflow/stream_executor/cuda/cuda_gpu_executor.cc:937] successful NUMA node read from SysFS had negative value (-1), but there must be at least one NUMA node, so returning NUMA node zero\n",
      "2023-01-03 18:19:39.693513: I tensorflow/stream_executor/cuda/cuda_gpu_executor.cc:937] successful NUMA node read from SysFS had negative value (-1), but there must be at least one NUMA node, so returning NUMA node zero\n",
      "2023-01-03 18:19:39.694491: I tensorflow/stream_executor/cuda/cuda_gpu_executor.cc:937] successful NUMA node read from SysFS had negative value (-1), but there must be at least one NUMA node, so returning NUMA node zero\n",
      "2023-01-03 18:19:39.695291: I tensorflow/stream_executor/cuda/cuda_gpu_executor.cc:937] successful NUMA node read from SysFS had negative value (-1), but there must be at least one NUMA node, so returning NUMA node zero\n",
      "2023-01-03 18:19:39.696072: I tensorflow/core/common_runtime/gpu/gpu_device.cc:1510] Created device /job:localhost/replica:0/task:0/device:GPU:0 with 15401 MB memory:  -> device: 0, name: Tesla P100-PCIE-16GB, pci bus id: 0000:00:04.0, compute capability: 6.0\n"
     ]
    }
   ],
   "source": [
    "## https://www.tensorflow.org/api_docs/python/tf/keras/layers/TextVectorization\n",
    "# because https://www.tensorflow.org/api_docs/python/tf/keras/preprocessing/text/Tokenizer deprecaded\n",
    "vectorize_layer = tf.keras.layers.TextVectorization(\n",
    "    max_tokens=description[\"kerasPipeline\"][\"TextVectorization__max_tokens\"],\n",
    "    standardize=\"lower_and_strip_punctuation\",\n",
    "    split=\"whitespace\",\n",
    "    ngrams=None,\n",
    "    output_mode=\"int\",\n",
    "    output_sequence_length=description[\"kerasPipeline\"][\n",
    "        \"TextVectorization__output_sequence_length\"\n",
    "    ],\n",
    ")"
   ]
  },
  {
   "cell_type": "code",
   "execution_count": 35,
   "id": "63a91ac1",
   "metadata": {
    "execution": {
     "iopub.execute_input": "2023-01-03T18:19:40.112278Z",
     "iopub.status.busy": "2023-01-03T18:19:40.111706Z",
     "iopub.status.idle": "2023-01-03T18:19:45.485641Z",
     "shell.execute_reply": "2023-01-03T18:19:45.483006Z"
    },
    "papermill": {
     "duration": 5.401316,
     "end_time": "2023-01-03T18:19:45.488721",
     "exception": false,
     "start_time": "2023-01-03T18:19:40.087405",
     "status": "completed"
    },
    "tags": []
   },
   "outputs": [
    {
     "name": "stderr",
     "output_type": "stream",
     "text": [
      "2023-01-03 18:19:40.231530: I tensorflow/compiler/mlir/mlir_graph_optimization_pass.cc:185] None of the MLIR Optimization Passes are enabled (registered 2)\n"
     ]
    },
    {
     "name": "stdout",
     "output_type": "stream",
     "text": [
      "CPU times: user 6.7 s, sys: 537 ms, total: 7.24 s\n",
      "Wall time: 5.36 s\n"
     ]
    }
   ],
   "source": [
    "%%time\n",
    "if description[\"kerasPipeline\"][\"actif\"]:\n",
    "    vectorize_layer.adapt(X_train)"
   ]
  },
  {
   "cell_type": "code",
   "execution_count": 36,
   "id": "ed2dd538",
   "metadata": {
    "execution": {
     "iopub.execute_input": "2023-01-03T18:19:45.525090Z",
     "iopub.status.busy": "2023-01-03T18:19:45.524083Z",
     "iopub.status.idle": "2023-01-03T18:19:45.562612Z",
     "shell.execute_reply": "2023-01-03T18:19:45.561646Z"
    },
    "papermill": {
     "duration": 0.058443,
     "end_time": "2023-01-03T18:19:45.564815",
     "exception": false,
     "start_time": "2023-01-03T18:19:45.506372",
     "status": "completed"
    },
    "tags": []
   },
   "outputs": [],
   "source": [
    "def build_Word2Vec(X_train, params):\n",
    "    print(\"Build & train Word2Vec model ...\")\n",
    "    X_train_token = X_train.str.split()\n",
    "    w2v_model = gensim.models.Word2Vec(\n",
    "        min_count=params[\"Word2Vec__min_count\"],\n",
    "        window=params[\"Word2Vec__window\"],\n",
    "        vector_size=params[\"Embedding__output_dim\"],\n",
    "        seed=42,\n",
    "        workers=1,\n",
    "    )\n",
    "    w2v_model.build_vocab(X_train_token)\n",
    "    w2v_model.train(\n",
    "        X_train_token,\n",
    "        total_examples=w2v_model.corpus_count,\n",
    "        epochs=params[\"Word2Vec__epochs\"],\n",
    "    )\n",
    "    model_vectors = w2v_model.wv\n",
    "    print(\"Vocabulary size: %i\" % len(model_vectors.index_to_key))\n",
    "    print(\"Word2Vec trained\")\n",
    "    return model_vectors"
   ]
  },
  {
   "cell_type": "code",
   "execution_count": 37,
   "id": "c91e0686",
   "metadata": {
    "execution": {
     "iopub.execute_input": "2023-01-03T18:19:45.628530Z",
     "iopub.status.busy": "2023-01-03T18:19:45.628180Z",
     "iopub.status.idle": "2023-01-03T18:55:43.566474Z",
     "shell.execute_reply": "2023-01-03T18:55:43.564573Z"
    },
    "papermill": {
     "duration": 2157.979748,
     "end_time": "2023-01-03T18:55:43.569512",
     "exception": false,
     "start_time": "2023-01-03T18:19:45.589764",
     "status": "completed"
    },
    "tags": []
   },
   "outputs": [
    {
     "name": "stdout",
     "output_type": "stream",
     "text": [
      "Build & train Word2Vec model ...\n",
      "Vocabulary size: 210897\n",
      "Word2Vec trained\n",
      "199578 210897 94.63%\n",
      "CPU times: user 35min 44s, sys: 8.3 s, total: 35min 52s\n",
      "Wall time: 35min 57s\n"
     ]
    }
   ],
   "source": [
    "%%time\n",
    "if description[\"kerasPipeline\"][\"actif\"]:\n",
    "    model_vectors = build_Word2Vec(X_train, description[\"kerasPipeline\"])\n",
    "    print(\n",
    "        f\"{len(vectorize_layer.get_vocabulary())} {len(model_vectors.index_to_key)} {len(vectorize_layer.get_vocabulary())/len(model_vectors.index_to_key):.2%}\"\n",
    "    )\n",
    "# embedding_matrix, vocab_size = create_embeding(\n",
    "#    vectorize_layer.get_vocabulary(), build_Word2Vec(X_train, description[\"kerasPipeline\"]), params=description[\"kerasPipeline\"]\n",
    "# )"
   ]
  },
  {
   "cell_type": "code",
   "execution_count": 38,
   "id": "0df48b2b",
   "metadata": {
    "execution": {
     "iopub.execute_input": "2023-01-03T18:55:43.605645Z",
     "iopub.status.busy": "2023-01-03T18:55:43.605308Z",
     "iopub.status.idle": "2023-01-03T19:10:54.010230Z",
     "shell.execute_reply": "2023-01-03T19:10:54.009114Z"
    },
    "papermill": {
     "duration": 910.442889,
     "end_time": "2023-01-03T19:10:54.030220",
     "exception": false,
     "start_time": "2023-01-03T18:55:43.587331",
     "status": "completed"
    },
    "tags": []
   },
   "outputs": [
    {
     "name": "stdout",
     "output_type": "stream",
     "text": [
      "Create Embedding matrix ...\n",
      "CPU times: user 15min 5s, sys: 2.01 s, total: 15min 7s\n",
      "Wall time: 15min 10s\n"
     ]
    }
   ],
   "source": [
    "%%time\n",
    "if description[\"kerasPipeline\"][\"actif\"]:\n",
    "    print(\"Create Embedding matrix ...\")\n",
    "    embedding_matrix = np.asarray(\n",
    "        [\n",
    "            model_vectors[word]\n",
    "            if word in model_vectors.index_to_key\n",
    "            else np.zeros(description[\"kerasPipeline\"][\"Embedding__output_dim\"])\n",
    "            for word in vectorize_layer.get_vocabulary()\n",
    "        ]\n",
    "    )\n",
    "    embedding_matrix.shape"
   ]
  },
  {
   "cell_type": "code",
   "execution_count": 39,
   "id": "de0b1e63",
   "metadata": {
    "execution": {
     "iopub.execute_input": "2023-01-03T19:10:54.066667Z",
     "iopub.status.busy": "2023-01-03T19:10:54.065630Z",
     "iopub.status.idle": "2023-01-03T19:10:57.000277Z",
     "shell.execute_reply": "2023-01-03T19:10:56.999241Z"
    },
    "papermill": {
     "duration": 2.955468,
     "end_time": "2023-01-03T19:10:57.002648",
     "exception": false,
     "start_time": "2023-01-03T19:10:54.047180",
     "status": "completed"
    },
    "tags": []
   },
   "outputs": [],
   "source": [
    "# https://www.tensorflow.org/text/guide/word_embeddings\n",
    "modelkerasPipeline = tf.keras.models.Sequential(\n",
    "    [\n",
    "        vectorize_layer,\n",
    "        tf.keras.layers.Embedding(\n",
    "            input_dim=len(vectorize_layer.get_vocabulary()),\n",
    "            output_dim=description[\"kerasPipeline\"][\"Embedding__output_dim\"],\n",
    "            weights=[embedding_matrix],\n",
    "            input_length=description[\"kerasPipeline\"][\n",
    "                \"TextVectorization__output_sequence_length\"\n",
    "            ],\n",
    "        ),\n",
    "        tf.keras.layers.GlobalAveragePooling1D(),\n",
    "        tf.keras.layers.Dense(16, activation=\"relu\"),\n",
    "        tf.keras.layers.Dense(21),\n",
    "    ]\n",
    ")\n",
    "# tensorboard_callback = tf.keras.callbacks.TensorBoard(log_dir=\"logs\") # for log create a dir\n",
    "modelkerasPipeline.compile(\n",
    "    optimizer=\"adam\",\n",
    "    loss=tf.keras.losses.BinaryCrossentropy(from_logits=True),\n",
    "    metrics=[\"accuracy\"],\n",
    ")"
   ]
  },
  {
   "cell_type": "code",
   "execution_count": 40,
   "id": "38230dd2",
   "metadata": {
    "execution": {
     "iopub.execute_input": "2023-01-03T19:10:57.040338Z",
     "iopub.status.busy": "2023-01-03T19:10:57.038544Z",
     "iopub.status.idle": "2023-01-03T19:35:51.637447Z",
     "shell.execute_reply": "2023-01-03T19:35:51.636478Z"
    },
    "papermill": {
     "duration": 1494.619009,
     "end_time": "2023-01-03T19:35:51.639524",
     "exception": false,
     "start_time": "2023-01-03T19:10:57.020515",
     "status": "completed"
    },
    "tags": []
   },
   "outputs": [
    {
     "name": "stdout",
     "output_type": "stream",
     "text": [
      "Epoch 1/20\n",
      "2776/2776 [==============================] - 76s 27ms/step - loss: 0.1396 - accuracy: 0.4953\n",
      "Epoch 2/20\n",
      "2776/2776 [==============================] - 74s 27ms/step - loss: 0.0966 - accuracy: 0.5779\n",
      "Epoch 3/20\n",
      "2776/2776 [==============================] - 74s 27ms/step - loss: 0.0859 - accuracy: 0.5956\n",
      "Epoch 4/20\n",
      "2776/2776 [==============================] - 74s 27ms/step - loss: 0.0776 - accuracy: 0.6094\n",
      "Epoch 5/20\n",
      "2776/2776 [==============================] - 75s 27ms/step - loss: 0.0703 - accuracy: 0.6218\n",
      "Epoch 6/20\n",
      "2776/2776 [==============================] - 75s 27ms/step - loss: 0.0637 - accuracy: 0.6322\n",
      "Epoch 7/20\n",
      "2776/2776 [==============================] - 75s 27ms/step - loss: 0.0573 - accuracy: 0.6420\n",
      "Epoch 8/20\n",
      "2776/2776 [==============================] - 75s 27ms/step - loss: 0.0513 - accuracy: 0.6507\n",
      "Epoch 9/20\n",
      "2776/2776 [==============================] - 74s 27ms/step - loss: 0.0454 - accuracy: 0.6583\n",
      "Epoch 10/20\n",
      "2776/2776 [==============================] - 74s 27ms/step - loss: 0.0398 - accuracy: 0.6647\n",
      "Epoch 11/20\n",
      "2776/2776 [==============================] - 74s 27ms/step - loss: 0.0346 - accuracy: 0.6718\n",
      "Epoch 12/20\n",
      "2776/2776 [==============================] - 74s 27ms/step - loss: 0.0300 - accuracy: 0.6768\n",
      "Epoch 13/20\n",
      "2776/2776 [==============================] - 74s 27ms/step - loss: 0.0257 - accuracy: 0.6822\n",
      "Epoch 14/20\n",
      "2776/2776 [==============================] - 75s 27ms/step - loss: 0.0220 - accuracy: 0.6851\n",
      "Epoch 15/20\n",
      "2776/2776 [==============================] - 75s 27ms/step - loss: 0.0187 - accuracy: 0.6890\n",
      "Epoch 16/20\n",
      "2776/2776 [==============================] - 75s 27ms/step - loss: 0.0159 - accuracy: 0.6917\n",
      "Epoch 17/20\n",
      "2776/2776 [==============================] - 75s 27ms/step - loss: 0.0137 - accuracy: 0.6916\n",
      "Epoch 18/20\n",
      "2776/2776 [==============================] - 75s 27ms/step - loss: 0.0118 - accuracy: 0.6947\n",
      "Epoch 19/20\n",
      "2776/2776 [==============================] - 75s 27ms/step - loss: 0.0100 - accuracy: 0.6950\n",
      "Epoch 20/20\n",
      "2776/2776 [==============================] - 75s 27ms/step - loss: 0.0087 - accuracy: 0.6933\n",
      "CPU times: user 19min 22s, sys: 51.7 s, total: 20min 14s\n",
      "Wall time: 24min 54s\n"
     ]
    }
   ],
   "source": [
    "%%time\n",
    "if description[\"kerasPipeline\"][\"actif\"]:\n",
    "    modelkerasPipeline.fit(\n",
    "        X_train,\n",
    "        y_train,\n",
    "        epochs=description[\"kerasPipeline\"][\"fit__epochs\"],\n",
    "        # callbacks=[tensorboard_callback],\n",
    "    )"
   ]
  },
  {
   "cell_type": "code",
   "execution_count": 41,
   "id": "7ae9514e",
   "metadata": {
    "execution": {
     "iopub.execute_input": "2023-01-03T19:35:54.762678Z",
     "iopub.status.busy": "2023-01-03T19:35:54.762271Z",
     "iopub.status.idle": "2023-01-03T19:35:58.740220Z",
     "shell.execute_reply": "2023-01-03T19:35:58.738302Z"
    },
    "papermill": {
     "duration": 5.532277,
     "end_time": "2023-01-03T19:35:58.742715",
     "exception": false,
     "start_time": "2023-01-03T19:35:53.210438",
     "status": "completed"
    },
    "tags": []
   },
   "outputs": [
    {
     "name": "stdout",
     "output_type": "stream",
     "text": [
      "java   c#     javascript  python  android  c++    ios    html   php    .net   jquery  css    objective-c  c      sql    iphone  asp.net  mysql  linux  node.js  git  \n",
      "False  False  False       False   False    False  False  False  False  False  False   False  False        False  False  False   False    False  False  False    False    9566\n",
      "True   False  False       False   False    False  False  False  False  False  False   False  False        False  False  False   False    False  False  False    False    2005\n",
      "False  False  False       True    False    False  False  False  False  False  False   False  False        False  False  False   False    False  False  False    False    1919\n",
      "       True   False       False   False    False  False  False  False  False  False   False  False        False  False  False   False    False  False  False    False    1757\n",
      "       False  False       False   True     False  False  False  False  False  False   False  False        False  False  False   False    False  False  False    False    1305\n",
      "                                                                                                                                                                         ... \n",
      "                          True    False    True   False  False  True   False  False   False  False        True   False  False   False    False  False  False    False       1\n",
      "                                                  True   False  False  False  False   False  False        False  False  False   False    False  True   False    True        1\n",
      "                                                                                                          True   False  False   False    False  False  False    False       1\n",
      "              True        False   False    False  False  False  False  False  False   False  False        False  False  False   False    True   False  False    False       1\n",
      "True   True   True        False   False    False  False  False  False  True   True    True   False        False  False  False   False    False  False  False    False       1\n",
      "Length: 419, dtype: int64\n",
      "CPU times: user 3.9 s, sys: 261 ms, total: 4.16 s\n",
      "Wall time: 3.95 s\n"
     ]
    }
   ],
   "source": [
    "%%time\n",
    "if description[\"kerasPipeline\"][\"actif\"]:\n",
    "    pred_kerasword2vec_proba = modelkerasPipeline.predict(X_test)\n",
    "    #     print(pred_kerasword2vec_proba)\n",
    "    pred_kerasword2vec = pd.DataFrame(\n",
    "        [\n",
    "            {tag: pred_tag > 0 for pred_tag, tag in zip(pred, target_names)}\n",
    "            for pred in pred_kerasword2vec_proba\n",
    "        ]\n",
    "    )\n",
    "    print(pred_kerasword2vec.value_counts())"
   ]
  },
  {
   "cell_type": "code",
   "execution_count": 42,
   "id": "58267e5c",
   "metadata": {
    "execution": {
     "iopub.execute_input": "2023-01-03T19:36:02.640680Z",
     "iopub.status.busy": "2023-01-03T19:36:02.640313Z",
     "iopub.status.idle": "2023-01-03T19:36:07.055330Z",
     "shell.execute_reply": "2023-01-03T19:36:07.053780Z"
    },
    "papermill": {
     "duration": 6.645315,
     "end_time": "2023-01-03T19:36:07.059181",
     "exception": false,
     "start_time": "2023-01-03T19:36:00.413866",
     "status": "completed"
    },
    "tags": []
   },
   "outputs": [
    {
     "name": "stdout",
     "output_type": "stream",
     "text": [
      "              precision    recall  f1-score  support\n",
      "android        0.850804  0.750122  0.797297   2045.0\n",
      "git            0.785992  0.737226  0.760829    274.0\n",
      "python         0.805160  0.692956  0.744856   2612.0\n",
      "php            0.698466  0.643516  0.669866   1627.0\n",
      "ios            0.699761  0.635870  0.666287   1840.0\n",
      "css            0.715048  0.592396  0.647969   1131.0\n",
      "jquery         0.672131  0.613134  0.641278   1538.0\n",
      "java           0.741799  0.540191  0.625142   3558.0\n",
      "mysql          0.682456  0.567883  0.619920    685.0\n",
      "javascript     0.659951  0.556317  0.603719   3356.0\n",
      "c++            0.653309  0.547862  0.595957   1964.0\n",
      "micro avg      0.642414  0.551507  0.593500  33044.0\n",
      "weighted avg   0.643000  0.551507  0.592740  33044.0\n",
      "node.js        0.653558  0.511730  0.574013    682.0\n",
      "c#             0.577640  0.562338  0.569886   3473.0\n",
      "macro avg      0.616567  0.529736  0.569050  33044.0\n",
      "html           0.551186  0.503134  0.526065   1755.0\n",
      "sql            0.525886  0.443678  0.481297    870.0\n",
      "iphone         0.464607  0.447336  0.455808    807.0\n",
      "samples avg    0.459033  0.456965  0.441017  33044.0\n",
      "c              0.497829  0.388701  0.436548    885.0\n",
      "linux          0.466786  0.382353  0.420372    680.0\n",
      "objective-c    0.441441  0.386261  0.412012    888.0\n",
      "asp.net        0.452145  0.340373  0.388377    805.0\n",
      ".net           0.351955  0.281071  0.312544   1569.0\n"
     ]
    },
    {
     "name": "stderr",
     "output_type": "stream",
     "text": [
      "2023-01-03 19:36:03.086318: W tensorflow/python/util/util.cc:348] Sets are not currently considered sequences, but this may change in the future, so consider avoiding using them.\n"
     ]
    }
   ],
   "source": [
    "if description[\"kerasPipeline\"][\"actif\"]:\n",
    "    scores_kerasword2vec = save_score(\n",
    "        y_test,\n",
    "        pred_kerasword2vec,\n",
    "        target_names,\n",
    "        \"kerasPipeline\",\n",
    "    )\n",
    "    print(scores_kerasword2vec.sort_values(by=\"f1-score\", ascending=False))\n",
    "    modelkerasPipeline.save(\"kerasPipeline\")"
   ]
  },
  {
   "cell_type": "markdown",
   "id": "e3e1c5d3",
   "metadata": {
    "papermill": {
     "duration": 1.749616,
     "end_time": "2023-01-03T19:36:10.807448",
     "exception": false,
     "start_time": "2023-01-03T19:36:09.057832",
     "status": "completed"
    },
    "tags": []
   },
   "source": [
    "# Word2Vec"
   ]
  },
  {
   "cell_type": "code",
   "execution_count": 43,
   "id": "f6c29788",
   "metadata": {
    "_kg_hide-input": true,
    "execution": {
     "iopub.execute_input": "2023-01-03T19:36:14.287920Z",
     "iopub.status.busy": "2023-01-03T19:36:14.286748Z",
     "iopub.status.idle": "2023-01-03T19:36:14.322061Z",
     "shell.execute_reply": "2023-01-03T19:36:14.321029Z"
    },
    "papermill": {
     "duration": 1.936622,
     "end_time": "2023-01-03T19:36:14.324377",
     "exception": false,
     "start_time": "2023-01-03T19:36:12.387755",
     "status": "completed"
    },
    "tags": []
   },
   "outputs": [],
   "source": [
    "from kerasembedtransformerclass import KerasEmbedTransformer\n",
    "# class KerasEmbedTransformer(BaseEstimator, TransformerMixin):\n",
    "#     def init(self, params):\n",
    "#         self.params = params\n",
    "#         return self\n",
    "\n",
    "#     def fit(self, X, y=None):\n",
    "#         self.embed_model, self.tokenizer = self.create_keras_model(X)\n",
    "#         return self\n",
    "\n",
    "#     def transform(self, X, y=None):\n",
    "#         x_sentences = keras.preprocessing.sequence.pad_sequences(\n",
    "#             self.tokenizer.texts_to_sequences(X),\n",
    "#             maxlen=self.params[\"maxlen\"],\n",
    "#             padding=\"post\",\n",
    "#         )\n",
    "#         embeddings = self.embed_model.predict(x_sentences)\n",
    "#         print(\"embedings shape \", embeddings.shape)\n",
    "#         return embeddings\n",
    "\n",
    "#     def save(self, filename):\n",
    "#         joblib.dump(self.tokenizer, f\"{filename}.tokenizer\")\n",
    "#         self.embed_model.save(\n",
    "#             f\"{filename}.model\"\n",
    "#         )  # This hack allows us to save the sklearn pipeline\n",
    "#         self.embed_model = None\n",
    "#         return self\n",
    "\n",
    "#     def load(self, filename, params):\n",
    "#         self.tokenizer = joblib.load(f\"{filename}.tokenizer\")\n",
    "#         self.embed_model = keras.models.load_model(f\"{filename}.model\")\n",
    "#         self.init(params)\n",
    "#         return self\n",
    "\n",
    "#     def create_embeding(self, word_index, model_vectors):\n",
    "#         vocab_size = len(word_index) + 1\n",
    "#         print(f\"Number of unique words: {vocab_size}\")\n",
    "#         print(\"Create Embedding matrix ...\")\n",
    "#         embedding_matrix = np.zeros((vocab_size, self.params[\"size\"]))\n",
    "#         i = 0\n",
    "#         j = 0\n",
    "\n",
    "#         for word, idx in word_index.items():\n",
    "#             i += 1\n",
    "#             if word in model_vectors.index_to_key:\n",
    "#                 j += 1\n",
    "#                 embedding_vector = model_vectors[word]\n",
    "#                 if embedding_vector is not None:\n",
    "#                     embedding_matrix[idx] = model_vectors[word]\n",
    "\n",
    "#         word_rate = np.round(j / i, 4)\n",
    "#         print(\"Word embedding rate : \", word_rate)\n",
    "#         print(\"Embedding matrix: %s\" % str(embedding_matrix.shape))\n",
    "#         return (embedding_matrix, vocab_size)\n",
    "\n",
    "#     def create_keras_model(self, X_train):\n",
    "#         print(\"Build & train Word2Vec model ...\")\n",
    "#         X_train_token = X_train.str.split()\n",
    "#         w2v_model = gensim.models.Word2Vec(\n",
    "#             min_count=self.params[\"min_count\"],\n",
    "#             window=self.params[\"window\"],\n",
    "#             vector_size=self.params[\"size\"],\n",
    "#             seed=42,\n",
    "#             workers=1,\n",
    "#         )\n",
    "#         w2v_model.build_vocab(X_train_token)\n",
    "#         w2v_model.train(\n",
    "#             X_train_token,\n",
    "#             total_examples=w2v_model.corpus_count,\n",
    "#             epochs=self.params[\"epochs\"],\n",
    "#         )\n",
    "#         model_vectors = w2v_model.wv\n",
    "#         print(\"Vocabulary size: %i\" % len(model_vectors.index_to_key))\n",
    "#         print(\"Word2Vec trained\")\n",
    "\n",
    "#         tokenizer = keras.preprocessing.text.Tokenizer()\n",
    "#         tokenizer.fit_on_texts(X_train_token)\n",
    "#         embedding_matrix, vocab_size = self.create_embeding(\n",
    "#             tokenizer.word_index, model_vectors\n",
    "#         )\n",
    "\n",
    "#         word_input = keras.layers.Input(shape=(self.params[\"maxlen\"],), dtype=\"float64\")\n",
    "#         word_embedding = keras.layers.Embedding(\n",
    "#             input_dim=vocab_size,\n",
    "#             output_dim=self.params[\"size\"],\n",
    "#             weights=[embedding_matrix],\n",
    "#             input_length=self.params[\"maxlen\"],\n",
    "#         )(word_input)\n",
    "#         word_vec = keras.layers.GlobalAveragePooling1D()(word_embedding)\n",
    "#         embed_model = keras.models.Model([word_input], word_vec)\n",
    "#         print(embed_model.summary())\n",
    "\n",
    "#         return (embed_model, tokenizer)"
   ]
  },
  {
   "cell_type": "code",
   "execution_count": 44,
   "id": "3e715f8b",
   "metadata": {
    "execution": {
     "iopub.execute_input": "2023-01-03T19:36:17.400757Z",
     "iopub.status.busy": "2023-01-03T19:36:17.400400Z",
     "iopub.status.idle": "2023-01-03T19:36:17.442195Z",
     "shell.execute_reply": "2023-01-03T19:36:17.441240Z"
    },
    "papermill": {
     "duration": 1.60514,
     "end_time": "2023-01-03T19:36:17.445244",
     "exception": false,
     "start_time": "2023-01-03T19:36:15.840104",
     "status": "completed"
    },
    "tags": []
   },
   "outputs": [
    {
     "name": "stdout",
     "output_type": "stream",
     "text": [
      "CPU times: user 143 µs, sys: 0 ns, total: 143 µs\n",
      "Wall time: 148 µs\n"
     ]
    }
   ],
   "source": [
    "%%time\n",
    "# KerasEmbed = KerasEmbedTransformer().init(description[\"Word2Vec\"])\n",
    "pipeline_w2v = pipeline.Pipeline(\n",
    "    [\n",
    "        (\n",
    "            \"keras_embed_transformer\",\n",
    "            KerasEmbedTransformer().init(description[\"Word2Vec\"]),\n",
    "        ),\n",
    "        (\n",
    "            \"Word2Vec\",\n",
    "            multiclass.OneVsRestClassifier(\n",
    "                svm.SVC(\n",
    "                    cache_size=1080,\n",
    "                    max_iter=description[\"Word2Vec\"][\"max_iter\"],\n",
    "                    random_state=42,\n",
    "                )\n",
    "            ),\n",
    "        ),\n",
    "    ]\n",
    ")\n",
    "\n",
    "if description[\"Word2Vec\"][\"actif\"]:\n",
    "    with ignore_warnings(category=exceptions.ConvergenceWarning):\n",
    "        pipeline_w2v.fit(X_train, y_train)\n",
    "#         pipeline_w2v.fit(X_train[0:10], y_train[0:10])"
   ]
  },
  {
   "cell_type": "code",
   "execution_count": 45,
   "id": "34038b94",
   "metadata": {
    "execution": {
     "iopub.execute_input": "2023-01-03T19:36:20.550179Z",
     "iopub.status.busy": "2023-01-03T19:36:20.549774Z",
     "iopub.status.idle": "2023-01-03T19:36:20.568083Z",
     "shell.execute_reply": "2023-01-03T19:36:20.566810Z"
    },
    "papermill": {
     "duration": 1.527565,
     "end_time": "2023-01-03T19:36:20.571011",
     "exception": false,
     "start_time": "2023-01-03T19:36:19.043446",
     "status": "completed"
    },
    "tags": []
   },
   "outputs": [
    {
     "name": "stdout",
     "output_type": "stream",
     "text": [
      "CPU times: user 4 µs, sys: 0 ns, total: 4 µs\n",
      "Wall time: 8.58 µs\n"
     ]
    }
   ],
   "source": [
    "%%time\n",
    "if description[\"Word2Vec\"][\"actif\"]:\n",
    "    pred_word2vec = pipeline_w2v.predict(X_test)\n",
    "    print(pred_word2vec)"
   ]
  },
  {
   "cell_type": "markdown",
   "id": "b478f29f",
   "metadata": {
    "papermill": {
     "duration": 1.588052,
     "end_time": "2023-01-03T19:36:23.797584",
     "exception": false,
     "start_time": "2023-01-03T19:36:22.209532",
     "status": "completed"
    },
    "tags": []
   },
   "source": [
    "### i got the same issue as:\n",
    "https://stackoverflow.com/questions/37984304/how-to-save-a-scikit-learn-pipline-with-keras-regressor-inside-to-disk  \n",
    "Solution is to save keras model in separate file than remove it from the pipeline so it can be save with joblib  \n",
    "I did that in my `KerasEmbedTransformer` class `save` & `load` method"
   ]
  },
  {
   "cell_type": "code",
   "execution_count": 46,
   "id": "d2a0a515",
   "metadata": {
    "execution": {
     "iopub.execute_input": "2023-01-03T19:36:27.075886Z",
     "iopub.status.busy": "2023-01-03T19:36:27.075471Z",
     "iopub.status.idle": "2023-01-03T19:36:27.095276Z",
     "shell.execute_reply": "2023-01-03T19:36:27.094337Z"
    },
    "papermill": {
     "duration": 1.628562,
     "end_time": "2023-01-03T19:36:27.097393",
     "exception": false,
     "start_time": "2023-01-03T19:36:25.468831",
     "status": "completed"
    },
    "tags": []
   },
   "outputs": [],
   "source": [
    "if description[\"Word2Vec\"][\"actif\"]:\n",
    "    pipeline_w2v.named_steps[\"keras_embed_transformer\"].save(\"keras\")\n",
    "    # Otherwise i can save it but not load in api\n",
    "    #     pipeline_w2v.named_steps[\"keras_embed_transformer\"] = \"passthrough\"  # __module__\n",
    "    #     pipeline_w2v.named_steps[\"keras_embed_transformer\"].__module__ = None\n",
    "    ## i have issue loading the joblib in api so i try to delete the step from the pipeline\n",
    "    pipeline_w2v.steps.pop(0)\n",
    "    pipeline_w2v.steps.insert(0, (\"keras_embed_transformer\", \"passthrough\"))\n",
    "    print(pipeline_w2v)"
   ]
  },
  {
   "cell_type": "code",
   "execution_count": 47,
   "id": "31d2a015",
   "metadata": {
    "execution": {
     "iopub.execute_input": "2023-01-03T19:36:30.157765Z",
     "iopub.status.busy": "2023-01-03T19:36:30.157395Z",
     "iopub.status.idle": "2023-01-03T19:36:30.175607Z",
     "shell.execute_reply": "2023-01-03T19:36:30.174625Z"
    },
    "papermill": {
     "duration": 1.584644,
     "end_time": "2023-01-03T19:36:30.177755",
     "exception": false,
     "start_time": "2023-01-03T19:36:28.593111",
     "status": "completed"
    },
    "tags": []
   },
   "outputs": [],
   "source": [
    "if description[\"Word2Vec\"][\"actif\"]:\n",
    "    scores_word2vec = save_score(y_test, pred_word2vec, target_names, \"Word2Vec\")\n",
    "    joblib.dump(pipeline_w2v, \"Word2Vec_model.joblib\")\n",
    "    print(scores_word2vec.sort_values(by=\"precision\", ascending=False))"
   ]
  },
  {
   "cell_type": "markdown",
   "id": "eb54f5cc",
   "metadata": {
    "papermill": {
     "duration": 1.980853,
     "end_time": "2023-01-03T19:36:33.804499",
     "exception": false,
     "start_time": "2023-01-03T19:36:31.823646",
     "status": "completed"
    },
    "tags": []
   },
   "source": [
    "### test to reimport saved model"
   ]
  },
  {
   "cell_type": "code",
   "execution_count": 48,
   "id": "723952fe",
   "metadata": {
    "execution": {
     "iopub.execute_input": "2023-01-03T19:36:37.256895Z",
     "iopub.status.busy": "2023-01-03T19:36:37.256470Z",
     "iopub.status.idle": "2023-01-03T19:36:37.277521Z",
     "shell.execute_reply": "2023-01-03T19:36:37.276530Z"
    },
    "papermill": {
     "duration": 1.637407,
     "end_time": "2023-01-03T19:36:37.279498",
     "exception": false,
     "start_time": "2023-01-03T19:36:35.642091",
     "status": "completed"
    },
    "tags": []
   },
   "outputs": [],
   "source": [
    "if description[\"Word2Vec\"][\"actif\"] and LONG:\n",
    "    loaded = joblib.load(\"/kaggle/working/Word2Vec_model.joblib\")\n",
    "    loaded.named_steps[\"keras_embed_transformer\"] = KerasEmbedTransformer().load(\n",
    "        \"/kaggle/working/keras\", description[\"Word2Vec\"]\n",
    "    )\n",
    "    pred_word2vec == loaded.predict(X_test)"
   ]
  },
  {
   "cell_type": "markdown",
   "id": "203e7445",
   "metadata": {
    "papermill": {
     "duration": 1.564516,
     "end_time": "2023-01-03T19:36:40.355455",
     "exception": false,
     "start_time": "2023-01-03T19:36:38.790939",
     "status": "completed"
    },
    "tags": []
   },
   "source": [
    "# BERT"
   ]
  },
  {
   "cell_type": "code",
   "execution_count": 49,
   "id": "c728ee9b",
   "metadata": {
    "execution": {
     "iopub.execute_input": "2023-01-03T19:36:43.435773Z",
     "iopub.status.busy": "2023-01-03T19:36:43.435396Z",
     "iopub.status.idle": "2023-01-03T19:36:43.441007Z",
     "shell.execute_reply": "2023-01-03T19:36:43.439922Z"
    },
    "papermill": {
     "duration": 1.487902,
     "end_time": "2023-01-03T19:36:43.443161",
     "exception": false,
     "start_time": "2023-01-03T19:36:41.955259",
     "status": "completed"
    },
    "tags": []
   },
   "outputs": [],
   "source": [
    "# import torch\n",
    "# torch.cuda.is_available()"
   ]
  },
  {
   "cell_type": "code",
   "execution_count": 50,
   "id": "46004cbc",
   "metadata": {
    "execution": {
     "iopub.execute_input": "2023-01-03T19:36:46.726944Z",
     "iopub.status.busy": "2023-01-03T19:36:46.726522Z",
     "iopub.status.idle": "2023-01-03T19:36:46.775735Z",
     "shell.execute_reply": "2023-01-03T19:36:46.774882Z"
    },
    "papermill": {
     "duration": 1.790571,
     "end_time": "2023-01-03T19:36:46.777999",
     "exception": false,
     "start_time": "2023-01-03T19:36:44.987428",
     "status": "completed"
    },
    "tags": []
   },
   "outputs": [],
   "source": [
    "def BertTransformer(sentences: list, params):\n",
    "    tokenizer = AutoTokenizer.from_pretrained(\"bert-base-uncased\")\n",
    "    model = AutoModel.from_pretrained(\"bert-base-uncased\")  # ou TFAutoModel\n",
    "    ## (input_ids,attention_mask,token_type_ids)\n",
    "    encoded_input = tokenizer(\n",
    "        sentences,\n",
    "        return_tensors=\"pt\",\n",
    "        padding=True,\n",
    "        truncation=True,\n",
    "        max_length=params[\"max_length\"],\n",
    "    )\n",
    "    #     model.predict(\n",
    "    #         [\n",
    "    #             encoded_input[\"input_ids\"],\n",
    "    #             encoded_input[\"attention_mask\"],\n",
    "    #             encoded_input[\"token_type_ids\"],\n",
    "    #         ], batch_size=params[\"batch_size\"]\n",
    "    #     )\n",
    "\n",
    "    #     return model\n",
    "    b_size = params[\"batch_size\"]\n",
    "    output = [\n",
    "        ## (last_hidden_state,pooler_output)\n",
    "        model(\n",
    "            encoded_input[\"input_ids\"][step : step + b_size],\n",
    "            attention_mask=encoded_input[\"attention_mask\"][step : step + b_size],\n",
    "        )\n",
    "        .last_hidden_state.detach()\n",
    "        .numpy()\n",
    "        for step in range(0, len(sentences), b_size)\n",
    "    ]\n",
    "    return np.concatenate(output)\n",
    "\n",
    "\n",
    "#     for step in range(len(sentences)//params[\"batch_size\"]):\n",
    "#         idx = step*params[\"batch_size\"]\n",
    "#         encoded_input_batch = encoded_input[idx:idx+params[\"batch_size\"]]\n",
    "#         output = model(\n",
    "#             encoded_input_batch[\"input_ids\"], attention_mask=encoded_input_batch[\"attention_mask\"]\n",
    "#         )\n",
    "#         print(output[\"last_hidden_state\"].shape)"
   ]
  },
  {
   "cell_type": "code",
   "execution_count": 51,
   "id": "47f38460",
   "metadata": {
    "execution": {
     "iopub.execute_input": "2023-01-03T19:36:49.902880Z",
     "iopub.status.busy": "2023-01-03T19:36:49.902504Z",
     "iopub.status.idle": "2023-01-03T19:36:49.907878Z",
     "shell.execute_reply": "2023-01-03T19:36:49.906700Z"
    },
    "papermill": {
     "duration": 1.597805,
     "end_time": "2023-01-03T19:36:49.909942",
     "exception": false,
     "start_time": "2023-01-03T19:36:48.312137",
     "status": "completed"
    },
    "tags": []
   },
   "outputs": [],
   "source": [
    "# encoded_input"
   ]
  },
  {
   "cell_type": "code",
   "execution_count": 52,
   "id": "159d70a6",
   "metadata": {
    "execution": {
     "iopub.execute_input": "2023-01-03T19:36:53.002338Z",
     "iopub.status.busy": "2023-01-03T19:36:53.001973Z",
     "iopub.status.idle": "2023-01-03T19:36:53.008193Z",
     "shell.execute_reply": "2023-01-03T19:36:53.007044Z"
    },
    "papermill": {
     "duration": 1.481268,
     "end_time": "2023-01-03T19:36:53.010275",
     "exception": false,
     "start_time": "2023-01-03T19:36:51.529007",
     "status": "completed"
    },
    "tags": []
   },
   "outputs": [],
   "source": [
    "# # detect and init the TPU\n",
    "# tpu = tf.distribute.cluster_resolver.TPUClusterResolver.connect()\n",
    "\n",
    "# # instantiate a distribution strategy\n",
    "# tpu_strategy = tf.distribute.experimental.TPUStrategy(tpu)\n",
    "# with tpu_strategy.scope():\n",
    "# ..."
   ]
  },
  {
   "cell_type": "code",
   "execution_count": 53,
   "id": "4888733d",
   "metadata": {
    "execution": {
     "iopub.execute_input": "2023-01-03T19:36:56.084949Z",
     "iopub.status.busy": "2023-01-03T19:36:56.084442Z",
     "iopub.status.idle": "2023-01-03T19:36:56.090327Z",
     "shell.execute_reply": "2023-01-03T19:36:56.089399Z"
    },
    "papermill": {
     "duration": 1.556076,
     "end_time": "2023-01-03T19:36:56.092441",
     "exception": false,
     "start_time": "2023-01-03T19:36:54.536365",
     "status": "completed"
    },
    "tags": []
   },
   "outputs": [],
   "source": [
    "# %%time\n",
    "# model = BertTransformer(list(X_train[0:50_000]), params=description[\"BERT\"])\n",
    "# # model = BertTransformer(list(X_train), params=description[\"BERT\"])\n",
    "# model\n",
    "# # model.mean(axis=1)"
   ]
  },
  {
   "cell_type": "code",
   "execution_count": 54,
   "id": "77a71c13",
   "metadata": {
    "execution": {
     "iopub.execute_input": "2023-01-03T19:36:59.464873Z",
     "iopub.status.busy": "2023-01-03T19:36:59.463691Z",
     "iopub.status.idle": "2023-01-03T19:36:59.471885Z",
     "shell.execute_reply": "2023-01-03T19:36:59.470919Z"
    },
    "papermill": {
     "duration": 1.617375,
     "end_time": "2023-01-03T19:36:59.473953",
     "exception": false,
     "start_time": "2023-01-03T19:36:57.856578",
     "status": "completed"
    },
    "tags": []
   },
   "outputs": [],
   "source": [
    "# sentences = list(X_train[0:10])\n",
    "# tokenizer = AutoTokenizer.from_pretrained(\"bert-base-uncased\")\n",
    "# model = AutoModel.from_pretrained(\"bert-base-uncased\")\n",
    "# ## (input_ids,attention_mask,token_type_ids)\n",
    "# encoded_input = tokenizer(\n",
    "#     sentences,\n",
    "#     return_tensors=\"pt\",\n",
    "#     padding=True,\n",
    "#     truncation=True,\n",
    "#     max_length=10,  # params[\"max_length\"],\n",
    "# )\n",
    "# b_size = 5  # params[\"batch_size\"]\n",
    "\n",
    "# output = [\n",
    "#     ## (last_hidden_state,pooler_output)\n",
    "#     model(\n",
    "#         encoded_input[\"input_ids\"][step : step + b_size],\n",
    "#         attention_mask=encoded_input[\"attention_mask\"][step : step + b_size],\n",
    "#     ).last_hidden_state\n",
    "#     for step in range(0, len(sentences), b_size)\n",
    "# ]"
   ]
  },
  {
   "cell_type": "markdown",
   "id": "a24a17cc",
   "metadata": {
    "papermill": {
     "duration": 1.575165,
     "end_time": "2023-01-03T19:37:02.538815",
     "exception": false,
     "start_time": "2023-01-03T19:37:00.963650",
     "status": "completed"
    },
    "tags": []
   },
   "source": [
    "# LDA "
   ]
  },
  {
   "cell_type": "markdown",
   "id": "d39842fc",
   "metadata": {
    "papermill": {
     "duration": 1.733495,
     "end_time": "2023-01-03T19:37:06.123940",
     "exception": false,
     "start_time": "2023-01-03T19:37:04.390445",
     "status": "completed"
    },
    "tags": []
   },
   "source": [
    "# USE"
   ]
  }
 ],
 "metadata": {
  "kernelspec": {
   "display_name": "Python 3",
   "language": "python",
   "name": "python3"
  },
  "language_info": {
   "codemirror_mode": {
    "name": "ipython",
    "version": 3
   },
   "file_extension": ".py",
   "mimetype": "text/x-python",
   "name": "python",
   "nbconvert_exporter": "python",
   "pygments_lexer": "ipython3",
   "version": "3.7.12"
  },
  "papermill": {
   "default_parameters": {},
   "duration": 4698.236476,
   "end_time": "2023-01-03T19:37:10.567838",
   "environment_variables": {},
   "exception": null,
   "input_path": "__notebook__.ipynb",
   "output_path": "__notebook__.ipynb",
   "parameters": {},
   "start_time": "2023-01-03T18:18:52.331362",
   "version": "2.3.4"
  },
  "widgets": {
   "application/vnd.jupyter.widget-state+json": {
    "state": {
     "5b2491be29014e88af143249bfb26592": {
      "model_module": "@jupyter-widgets/base",
      "model_module_version": "1.2.0",
      "model_name": "LayoutModel",
      "state": {
       "_model_module": "@jupyter-widgets/base",
       "_model_module_version": "1.2.0",
       "_model_name": "LayoutModel",
       "_view_count": null,
       "_view_module": "@jupyter-widgets/base",
       "_view_module_version": "1.2.0",
       "_view_name": "LayoutView",
       "align_content": null,
       "align_items": null,
       "align_self": null,
       "border": null,
       "bottom": null,
       "display": null,
       "flex": null,
       "flex_flow": null,
       "grid_area": null,
       "grid_auto_columns": null,
       "grid_auto_flow": null,
       "grid_auto_rows": null,
       "grid_column": null,
       "grid_gap": null,
       "grid_row": null,
       "grid_template_areas": null,
       "grid_template_columns": null,
       "grid_template_rows": null,
       "height": null,
       "justify_content": null,
       "justify_items": null,
       "left": null,
       "margin": null,
       "max_height": null,
       "max_width": null,
       "min_height": null,
       "min_width": null,
       "object_fit": null,
       "object_position": null,
       "order": null,
       "overflow": null,
       "overflow_x": null,
       "overflow_y": null,
       "padding": null,
       "right": null,
       "top": null,
       "visibility": null,
       "width": null
      }
     },
     "7184c8784b4c453ca481c5623d7e3095": {
      "model_module": "@jupyter-widgets/controls",
      "model_module_version": "1.5.0",
      "model_name": "VBoxModel",
      "state": {
       "_dom_classes": [
        "widget-interact"
       ],
       "_model_module": "@jupyter-widgets/controls",
       "_model_module_version": "1.5.0",
       "_model_name": "VBoxModel",
       "_view_count": null,
       "_view_module": "@jupyter-widgets/controls",
       "_view_module_version": "1.5.0",
       "_view_name": "VBoxView",
       "box_style": "",
       "children": [
        "IPY_MODEL_94a6e2ef40aa437f99c04db7314f7837",
        "IPY_MODEL_f7f8535ea46d460ea89d428dddb612f4"
       ],
       "layout": "IPY_MODEL_e4d1df5a10e54377bd384f561e0e0b8e"
      }
     },
     "94a6e2ef40aa437f99c04db7314f7837": {
      "model_module": "@jupyter-widgets/controls",
      "model_module_version": "1.5.0",
      "model_name": "IntSliderModel",
      "state": {
       "_dom_classes": [],
       "_model_module": "@jupyter-widgets/controls",
       "_model_module_version": "1.5.0",
       "_model_name": "IntSliderModel",
       "_view_count": null,
       "_view_module": "@jupyter-widgets/controls",
       "_view_module_version": "1.5.0",
       "_view_name": "IntSliderView",
       "continuous_update": true,
       "description": "i",
       "description_tooltip": null,
       "disabled": false,
       "layout": "IPY_MODEL_5b2491be29014e88af143249bfb26592",
       "max": 118441,
       "min": 0,
       "orientation": "horizontal",
       "readout": true,
       "readout_format": "d",
       "step": 1,
       "style": "IPY_MODEL_e61248e5aeb24c8382461ddc71284f2a",
       "value": 59220
      }
     },
     "e4d1df5a10e54377bd384f561e0e0b8e": {
      "model_module": "@jupyter-widgets/base",
      "model_module_version": "1.2.0",
      "model_name": "LayoutModel",
      "state": {
       "_model_module": "@jupyter-widgets/base",
       "_model_module_version": "1.2.0",
       "_model_name": "LayoutModel",
       "_view_count": null,
       "_view_module": "@jupyter-widgets/base",
       "_view_module_version": "1.2.0",
       "_view_name": "LayoutView",
       "align_content": null,
       "align_items": null,
       "align_self": null,
       "border": null,
       "bottom": null,
       "display": null,
       "flex": null,
       "flex_flow": null,
       "grid_area": null,
       "grid_auto_columns": null,
       "grid_auto_flow": null,
       "grid_auto_rows": null,
       "grid_column": null,
       "grid_gap": null,
       "grid_row": null,
       "grid_template_areas": null,
       "grid_template_columns": null,
       "grid_template_rows": null,
       "height": null,
       "justify_content": null,
       "justify_items": null,
       "left": null,
       "margin": null,
       "max_height": null,
       "max_width": null,
       "min_height": null,
       "min_width": null,
       "object_fit": null,
       "object_position": null,
       "order": null,
       "overflow": null,
       "overflow_x": null,
       "overflow_y": null,
       "padding": null,
       "right": null,
       "top": null,
       "visibility": null,
       "width": null
      }
     },
     "e61248e5aeb24c8382461ddc71284f2a": {
      "model_module": "@jupyter-widgets/controls",
      "model_module_version": "1.5.0",
      "model_name": "SliderStyleModel",
      "state": {
       "_model_module": "@jupyter-widgets/controls",
       "_model_module_version": "1.5.0",
       "_model_name": "SliderStyleModel",
       "_view_count": null,
       "_view_module": "@jupyter-widgets/base",
       "_view_module_version": "1.2.0",
       "_view_name": "StyleView",
       "description_width": "",
       "handle_color": null
      }
     },
     "f7f8535ea46d460ea89d428dddb612f4": {
      "model_module": "@jupyter-widgets/output",
      "model_module_version": "1.0.0",
      "model_name": "OutputModel",
      "state": {
       "_dom_classes": [],
       "_model_module": "@jupyter-widgets/output",
       "_model_module_version": "1.0.0",
       "_model_name": "OutputModel",
       "_view_count": null,
       "_view_module": "@jupyter-widgets/output",
       "_view_module_version": "1.0.0",
       "_view_name": "OutputView",
       "layout": "IPY_MODEL_fccdc1b86c6a4ea2b32dde0a9633a4ee",
       "msg_id": "",
       "outputs": [
        {
         "name": "stdout",
         "output_type": "stream",
         "text": "Title:How to change culture to a DateTimepicker or calendar control in .Net\n******************************\nTitle_clean:change culture datetimepicker calendar control\n******************************\nBody:<p>How to set internationalization to a <code>DateTimepicker</code> or <code>Calendar WinForm</code> control in .Net when the desire culture is different to the one installed in the PC?</p>\n\n******************************\nBody_clean:set internationalization datetimepicker calendar winform control .net desire culture instal pc\n******************************\nCode:DateTimepicker Calendar WinForm\n******************************\nTags:c# .net internationalization datetimepicker culture\n"
        }
       ]
      }
     },
     "fccdc1b86c6a4ea2b32dde0a9633a4ee": {
      "model_module": "@jupyter-widgets/base",
      "model_module_version": "1.2.0",
      "model_name": "LayoutModel",
      "state": {
       "_model_module": "@jupyter-widgets/base",
       "_model_module_version": "1.2.0",
       "_model_name": "LayoutModel",
       "_view_count": null,
       "_view_module": "@jupyter-widgets/base",
       "_view_module_version": "1.2.0",
       "_view_name": "LayoutView",
       "align_content": null,
       "align_items": null,
       "align_self": null,
       "border": null,
       "bottom": null,
       "display": null,
       "flex": null,
       "flex_flow": null,
       "grid_area": null,
       "grid_auto_columns": null,
       "grid_auto_flow": null,
       "grid_auto_rows": null,
       "grid_column": null,
       "grid_gap": null,
       "grid_row": null,
       "grid_template_areas": null,
       "grid_template_columns": null,
       "grid_template_rows": null,
       "height": null,
       "justify_content": null,
       "justify_items": null,
       "left": null,
       "margin": null,
       "max_height": null,
       "max_width": null,
       "min_height": null,
       "min_width": null,
       "object_fit": null,
       "object_position": null,
       "order": null,
       "overflow": null,
       "overflow_x": null,
       "overflow_y": null,
       "padding": null,
       "right": null,
       "top": null,
       "visibility": null,
       "width": null
      }
     }
    },
    "version_major": 2,
    "version_minor": 0
   }
  }
 },
 "nbformat": 4,
 "nbformat_minor": 5
}
