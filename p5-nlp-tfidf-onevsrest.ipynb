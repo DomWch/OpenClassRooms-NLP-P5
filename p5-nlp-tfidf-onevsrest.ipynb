{
 "cells": [
  {
   "cell_type": "markdown",
   "id": "210ecca8",
   "metadata": {
    "papermill": {
     "duration": 0.012183,
     "end_time": "2022-12-23T09:10:16.624807",
     "exception": false,
     "start_time": "2022-12-23T09:10:16.612624",
     "status": "completed"
    },
    "tags": []
   },
   "source": [
    "# Index\n",
    "* [Import](#index)\n",
    "* [Tokenization](#Tokenization)\n",
    "* [CountVectorizer](#CountVectorizer)\n",
    "* [PreprocessPipeline](#PreprocessPipeline)\n",
    "* [OvsRest](#OvsRest)\n",
    "    - [LogisticRegression](#LogisticRegression)\n",
    "    - [SVC](#SVC)\n",
    "* [Word2Vec](#Word2Vec)\n",
    "* [BERT](#BERT)\n",
    "* [USE](#USE)"
   ]
  },
  {
   "cell_type": "code",
   "execution_count": 1,
   "id": "f8cd392c",
   "metadata": {
    "_cell_guid": "b1076dfc-b9ad-4769-8c92-a6c4dae69d19",
    "_uuid": "8f2839f25d086af736a60e9eeb907d3b93b6e0e5",
    "execution": {
     "iopub.execute_input": "2022-12-23T09:10:16.648405Z",
     "iopub.status.busy": "2022-12-23T09:10:16.647649Z",
     "iopub.status.idle": "2022-12-23T09:10:24.443411Z",
     "shell.execute_reply": "2022-12-23T09:10:24.442248Z"
    },
    "papermill": {
     "duration": 7.811319,
     "end_time": "2022-12-23T09:10:24.446570",
     "exception": false,
     "start_time": "2022-12-23T09:10:16.635251",
     "status": "completed"
    },
    "tags": []
   },
   "outputs": [],
   "source": [
    "import time\n",
    "import json\n",
    "\n",
    "# from joblib import dump, load, Memory\n",
    "import joblib\n",
    "\n",
    "# import warnings\n",
    "\n",
    "import numpy as np\n",
    "import pandas as pd\n",
    "import gensim\n",
    "import matplotlib.pyplot as plt\n",
    "\n",
    "# from gensim import (\n",
    "#     corpora,\n",
    "# )  # https://pypi.org/project/gensim/ #https://radimrehurek.com/gensim/auto_examples/core/run_topics_and_transformations.html#sphx-glr-auto-examples-core-run-topics-and-transformations-py\n",
    "from sklearn import (\n",
    "    metrics,\n",
    "    feature_extraction,\n",
    "    linear_model,\n",
    "    model_selection,\n",
    "    preprocessing,\n",
    "    cluster,\n",
    "    decomposition,\n",
    "    multiclass,\n",
    "    svm,\n",
    "    pipeline,\n",
    "    exceptions,\n",
    "    manifold,\n",
    ")\n",
    "from sklearn.utils._testing import ignore_warnings\n",
    "from tensorflow import keras\n",
    "\n",
    "\n",
    "# import nlpk"
   ]
  },
  {
   "cell_type": "markdown",
   "id": "d014c5a9",
   "metadata": {
    "papermill": {
     "duration": 0.012101,
     "end_time": "2022-12-23T09:10:24.468890",
     "exception": false,
     "start_time": "2022-12-23T09:10:24.456789",
     "status": "completed"
    },
    "tags": []
   },
   "source": [
    "test https://scikit-learn.org/stable/modules/multiclass.html autre stategie que OneVsRest\n",
    "https://keras.io/examples/nlp/text_extraction_with_bert/"
   ]
  },
  {
   "cell_type": "code",
   "execution_count": 2,
   "id": "96a4e99d",
   "metadata": {
    "_kg_hide-output": true,
    "execution": {
     "iopub.execute_input": "2022-12-23T09:10:24.492136Z",
     "iopub.status.busy": "2022-12-23T09:10:24.491369Z",
     "iopub.status.idle": "2022-12-23T09:10:38.853547Z",
     "shell.execute_reply": "2022-12-23T09:10:38.851551Z"
    },
    "papermill": {
     "duration": 14.377688,
     "end_time": "2022-12-23T09:10:38.856547",
     "exception": false,
     "start_time": "2022-12-23T09:10:24.478859",
     "status": "completed"
    },
    "tags": []
   },
   "outputs": [
    {
     "name": "stdout",
     "output_type": "stream",
     "text": [
      "\u001b[33mWARNING: Running pip as the 'root' user can result in broken permissions and conflicting behaviour with the system package manager. It is recommended to use a virtual environment instead: https://pip.pypa.io/warnings/venv\u001b[0m\u001b[33m\r\n",
      "\u001b[0mNote: you may need to restart the kernel to use updated packages.\n"
     ]
    }
   ],
   "source": [
    "pip install -q jupyter-black jupyter"
   ]
  },
  {
   "cell_type": "code",
   "execution_count": 3,
   "id": "426a8b17",
   "metadata": {
    "execution": {
     "iopub.execute_input": "2022-12-23T09:10:38.879907Z",
     "iopub.status.busy": "2022-12-23T09:10:38.879445Z",
     "iopub.status.idle": "2022-12-23T09:10:39.080212Z",
     "shell.execute_reply": "2022-12-23T09:10:39.078561Z"
    },
    "papermill": {
     "duration": 0.216092,
     "end_time": "2022-12-23T09:10:39.083186",
     "exception": false,
     "start_time": "2022-12-23T09:10:38.867094",
     "status": "completed"
    },
    "tags": []
   },
   "outputs": [
    {
     "data": {
      "text/html": [
       "\n",
       "                <script type=\"application/javascript\" id=\"jupyter_black\">\n",
       "                (function() {\n",
       "                    if (window.IPython === undefined) {\n",
       "                        return\n",
       "                    }\n",
       "                    var msg = \"WARNING: it looks like you might have loaded \" +\n",
       "                        \"jupyter_black in a non-lab notebook with \" +\n",
       "                        \"`is_lab=True`. Please double check, and if \" +\n",
       "                        \"loading with `%load_ext` please review the README!\"\n",
       "                    console.log(msg)\n",
       "                    alert(msg)\n",
       "                })()\n",
       "                </script>\n",
       "                "
      ],
      "text/plain": [
       "<IPython.core.display.HTML object>"
      ]
     },
     "metadata": {},
     "output_type": "display_data"
    }
   ],
   "source": [
    "# for black formating\n",
    "import jupyter_black  # pip install jupyter-black jupyter\n",
    "\n",
    "jupyter_black.load()\n",
    "# ??jupyter_black.load #show config"
   ]
  },
  {
   "cell_type": "code",
   "execution_count": 4,
   "id": "18cbf014",
   "metadata": {
    "execution": {
     "iopub.execute_input": "2022-12-23T09:10:39.107501Z",
     "iopub.status.busy": "2022-12-23T09:10:39.107076Z",
     "iopub.status.idle": "2022-12-23T09:10:48.445272Z",
     "shell.execute_reply": "2022-12-23T09:10:48.443540Z"
    },
    "papermill": {
     "duration": 9.353565,
     "end_time": "2022-12-23T09:10:48.448307",
     "exception": false,
     "start_time": "2022-12-23T09:10:39.094742",
     "status": "completed"
    },
    "tags": []
   },
   "outputs": [
    {
     "name": "stdout",
     "output_type": "stream",
     "text": [
      "<class 'pandas.core.frame.DataFrame'>\n",
      "Int64Index: 118442 entries, 0 to 118441\n",
      "Data columns (total 12 columns):\n",
      " #   Column       Non-Null Count   Dtype \n",
      "---  ------       --------------   ----- \n",
      " 0   Id           118442 non-null  int64 \n",
      " 1   Title        118442 non-null  object\n",
      " 2   Body         118442 non-null  object\n",
      " 3   0            118440 non-null  object\n",
      " 4   1            118383 non-null  object\n",
      " 5   2            118292 non-null  object\n",
      " 6   3            118292 non-null  object\n",
      " 7   4            76389 non-null   object\n",
      " 8   5            4 non-null       object\n",
      " 9   Title_clean  118389 non-null  object\n",
      " 10  Code         88202 non-null   object\n",
      " 11  Body_clean   118392 non-null  object\n",
      "dtypes: int64(1), object(11)\n",
      "memory usage: 11.7+ MB\n"
     ]
    }
   ],
   "source": [
    "df = pd.read_csv(\n",
    "    \"/kaggle/input/p5-nlp/stackoverflowCleaned.csv\", index_col=0, low_memory=False\n",
    ")\n",
    "df.info()"
   ]
  },
  {
   "cell_type": "code",
   "execution_count": 5,
   "id": "e0cb0094",
   "metadata": {
    "execution": {
     "iopub.execute_input": "2022-12-23T09:10:48.471600Z",
     "iopub.status.busy": "2022-12-23T09:10:48.470926Z",
     "iopub.status.idle": "2022-12-23T09:10:48.515902Z",
     "shell.execute_reply": "2022-12-23T09:10:48.514287Z"
    },
    "papermill": {
     "duration": 0.059964,
     "end_time": "2022-12-23T09:10:48.519042",
     "exception": false,
     "start_time": "2022-12-23T09:10:48.459078",
     "status": "completed"
    },
    "tags": []
   },
   "outputs": [],
   "source": [
    "LONG = False\n",
    "description = {\n",
    "    \"CountVectorizer\": {\"min_df\": 0.00001, \"max_df\": 0.995, \"max_features\": None},\n",
    "    \"StandardScaler\": {\"actif\": True},\n",
    "    \"TruncatedSVD\": {\"actif\": False, \"n_components\": 1_000},\n",
    "    \"LogisticRegression\": {\"actif\": False},\n",
    "    \"TfidfOvRSVC\": {\"actif\": True, \"max_iter\": 5_000},\n",
    "    \"Word2Vec\": {\n",
    "        \"actif\": False,\n",
    "        \"min_count\": 1,\n",
    "        \"size\": 500,\n",
    "        \"window\": 5,\n",
    "        \"epochs\": 100,\n",
    "        \"maxlen\": 30,\n",
    "    },\n",
    "}"
   ]
  },
  {
   "cell_type": "code",
   "execution_count": 6,
   "id": "aec1ebbb",
   "metadata": {
    "execution": {
     "iopub.execute_input": "2022-12-23T09:10:48.542792Z",
     "iopub.status.busy": "2022-12-23T09:10:48.542064Z",
     "iopub.status.idle": "2022-12-23T09:10:48.567372Z",
     "shell.execute_reply": "2022-12-23T09:10:48.566076Z"
    },
    "papermill": {
     "duration": 0.040308,
     "end_time": "2022-12-23T09:10:48.570298",
     "exception": false,
     "start_time": "2022-12-23T09:10:48.529990",
     "status": "completed"
    },
    "tags": []
   },
   "outputs": [],
   "source": [
    "class colors:\n",
    "    PURPLE = \"\\033[95m\"\n",
    "    BLUE = \"\\033[94m\"\n",
    "    CYAN = \"\\033[96m\"\n",
    "    GREEN = \"\\033[92m\"\n",
    "    YELLOW = \"\\033[93m\"\n",
    "    RED = \"\\033[91m\"\n",
    "    ENDC = \"\\033[0m\"\n",
    "    BOLD = \"\\033[1m\"\n",
    "    UNDERLINE = \"\\033[4m\""
   ]
  },
  {
   "cell_type": "markdown",
   "id": "1a6407d5",
   "metadata": {
    "papermill": {
     "duration": 0.010084,
     "end_time": "2022-12-23T09:10:48.590891",
     "exception": false,
     "start_time": "2022-12-23T09:10:48.580807",
     "status": "completed"
    },
    "tags": []
   },
   "source": [
    "# Tokenization"
   ]
  },
  {
   "cell_type": "code",
   "execution_count": 7,
   "id": "89995ff3",
   "metadata": {
    "execution": {
     "iopub.execute_input": "2022-12-23T09:10:48.614375Z",
     "iopub.status.busy": "2022-12-23T09:10:48.613913Z",
     "iopub.status.idle": "2022-12-23T09:10:48.786454Z",
     "shell.execute_reply": "2022-12-23T09:10:48.785063Z"
    },
    "papermill": {
     "duration": 0.187516,
     "end_time": "2022-12-23T09:10:48.789066",
     "exception": false,
     "start_time": "2022-12-23T09:10:48.601550",
     "status": "completed"
    },
    "tags": []
   },
   "outputs": [
    {
     "data": {
      "application/vnd.jupyter.widget-view+json": {
       "model_id": "f349d86e81b14be284d314059c212722",
       "version_major": 2,
       "version_minor": 0
      },
      "text/plain": [
       "interactive(children=(IntSlider(value=59220, description='i', max=118441), Output()), _dom_classes=('widget-in…"
      ]
     },
     "metadata": {},
     "output_type": "display_data"
    }
   ],
   "source": [
    "from ipywidgets import interact\n",
    "\n",
    "\n",
    "@interact(i=(0, df.shape[0] - 1))\n",
    "def test_tr_print(i):\n",
    "    print(\n",
    "        f'Title:{df[\"Title\"][i]}\\n{\"*\"*30}\\nTitle_clean:{df[\"Title_clean\"][i]}\\n{\"*\"*30}\\nBody:{df[\"Body\"][i]}\\n{\"*\"*30}\\nBody_clean:{df[\"Body_clean\"][i]}\\n{\"*\"*30}\\nCode:{df[\"Code\"][i]}\\n{\"*\"*30}\\nTags:{df.loc[i,\"0\"]} {df.loc[i,\"1\"]} {df.loc[i,\"2\"]} {df.loc[i,\"3\"]} {df.loc[i,\"4\"]}'\n",
    "    )"
   ]
  },
  {
   "cell_type": "code",
   "execution_count": 8,
   "id": "6e2dafdd",
   "metadata": {
    "execution": {
     "iopub.execute_input": "2022-12-23T09:10:48.812445Z",
     "iopub.status.busy": "2022-12-23T09:10:48.811999Z",
     "iopub.status.idle": "2022-12-23T09:10:48.842267Z",
     "shell.execute_reply": "2022-12-23T09:10:48.840910Z"
    },
    "papermill": {
     "duration": 0.044729,
     "end_time": "2022-12-23T09:10:48.844865",
     "exception": false,
     "start_time": "2022-12-23T09:10:48.800136",
     "status": "completed"
    },
    "tags": []
   },
   "outputs": [
    {
     "data": {
      "text/plain": [
       "53"
      ]
     },
     "execution_count": 8,
     "metadata": {},
     "output_type": "execute_result"
    }
   ],
   "source": [
    "sum(df[\"Title_clean\"].isna())"
   ]
  },
  {
   "cell_type": "code",
   "execution_count": 9,
   "id": "8defe784",
   "metadata": {
    "execution": {
     "iopub.execute_input": "2022-12-23T09:10:48.868287Z",
     "iopub.status.busy": "2022-12-23T09:10:48.867813Z",
     "iopub.status.idle": "2022-12-23T09:10:48.910956Z",
     "shell.execute_reply": "2022-12-23T09:10:48.910016Z"
    },
    "papermill": {
     "duration": 0.057757,
     "end_time": "2022-12-23T09:10:48.913463",
     "exception": false,
     "start_time": "2022-12-23T09:10:48.855706",
     "status": "completed"
    },
    "tags": []
   },
   "outputs": [
    {
     "data": {
      "text/html": [
       "<div>\n",
       "<style scoped>\n",
       "    .dataframe tbody tr th:only-of-type {\n",
       "        vertical-align: middle;\n",
       "    }\n",
       "\n",
       "    .dataframe tbody tr th {\n",
       "        vertical-align: top;\n",
       "    }\n",
       "\n",
       "    .dataframe thead th {\n",
       "        text-align: right;\n",
       "    }\n",
       "</style>\n",
       "<table border=\"1\" class=\"dataframe\">\n",
       "  <thead>\n",
       "    <tr style=\"text-align: right;\">\n",
       "      <th></th>\n",
       "      <th>Title</th>\n",
       "      <th>Title_clean</th>\n",
       "      <th>Body</th>\n",
       "      <th>Body_clean</th>\n",
       "      <th>0</th>\n",
       "      <th>1</th>\n",
       "      <th>2</th>\n",
       "      <th>3</th>\n",
       "      <th>4</th>\n",
       "    </tr>\n",
       "  </thead>\n",
       "  <tbody>\n",
       "    <tr>\n",
       "      <th>302</th>\n",
       "      <td>Is &lt; faster than &lt;=?</td>\n",
       "      <td>NaN</td>\n",
       "      <td>&lt;p&gt;Is &lt;code&gt;if (a &amp;lt; 901)&lt;/code&gt; faster than...</td>\n",
       "      <td>example performance change loop code suppose g...</td>\n",
       "      <td>c++</td>\n",
       "      <td>c</td>\n",
       "      <td>performance</td>\n",
       "      <td>assembly</td>\n",
       "      <td>relational-operators</td>\n",
       "    </tr>\n",
       "    <tr>\n",
       "      <th>393</th>\n",
       "      <td>What is setup.py?</td>\n",
       "      <td>NaN</td>\n",
       "      <td>&lt;p&gt;What is &lt;code&gt;setup.py&lt;/code&gt; and how can i...</td>\n",
       "      <td>configure</td>\n",
       "      <td>python</td>\n",
       "      <td>pypi</td>\n",
       "      <td>setup.py</td>\n",
       "      <td>python-packaging</td>\n",
       "      <td>NaN</td>\n",
       "    </tr>\n",
       "    <tr>\n",
       "      <th>1437</th>\n",
       "      <td>What is related_name used for?</td>\n",
       "      <td>NaN</td>\n",
       "      <td>&lt;p&gt;What is the &lt;code&gt;related_name&lt;/code&gt; argum...</td>\n",
       "      <td>argument manytomanyfield foreignkey field exam...</td>\n",
       "      <td>python</td>\n",
       "      <td>django</td>\n",
       "      <td>foreign-keys</td>\n",
       "      <td>many-to-many</td>\n",
       "      <td>NaN</td>\n",
       "    </tr>\n",
       "    <tr>\n",
       "      <th>4062</th>\n",
       "      <td>What is \"android:allowBackup\"?</td>\n",
       "      <td>NaN</td>\n",
       "      <td>&lt;p&gt;Since the &lt;a href=\"http://tools.android.com...</td>\n",
       "      <td>adt preview version version lint warning tell ...</td>\n",
       "      <td>android</td>\n",
       "      <td>adt</td>\n",
       "      <td>compiler-warnings</td>\n",
       "      <td>android-lint</td>\n",
       "      <td>android-backup-service</td>\n",
       "    </tr>\n",
       "    <tr>\n",
       "      <th>4870</th>\n",
       "      <td>Why is 0 &lt; -0x80000000?</td>\n",
       "      <td>NaN</td>\n",
       "      <td>&lt;p&gt;I have below a simple program:&lt;/p&gt;\\n\\n&lt;pre&gt;...</td>\n",
       "      <td>program condition if(bal int32_min work change...</td>\n",
       "      <td>c</td>\n",
       "      <td>signed</td>\n",
       "      <td>numeric-limits</td>\n",
       "      <td>numeric-conversion</td>\n",
       "      <td>NaN</td>\n",
       "    </tr>\n",
       "  </tbody>\n",
       "</table>\n",
       "</div>"
      ],
      "text/plain": [
       "                               Title Title_clean  \\\n",
       "302             Is < faster than <=?         NaN   \n",
       "393                What is setup.py?         NaN   \n",
       "1437  What is related_name used for?         NaN   \n",
       "4062  What is \"android:allowBackup\"?         NaN   \n",
       "4870         Why is 0 < -0x80000000?         NaN   \n",
       "\n",
       "                                                   Body  \\\n",
       "302   <p>Is <code>if (a &lt; 901)</code> faster than...   \n",
       "393   <p>What is <code>setup.py</code> and how can i...   \n",
       "1437  <p>What is the <code>related_name</code> argum...   \n",
       "4062  <p>Since the <a href=\"http://tools.android.com...   \n",
       "4870  <p>I have below a simple program:</p>\\n\\n<pre>...   \n",
       "\n",
       "                                             Body_clean        0       1  \\\n",
       "302   example performance change loop code suppose g...      c++       c   \n",
       "393                                           configure   python    pypi   \n",
       "1437  argument manytomanyfield foreignkey field exam...   python  django   \n",
       "4062  adt preview version version lint warning tell ...  android     adt   \n",
       "4870  program condition if(bal int32_min work change...        c  signed   \n",
       "\n",
       "                      2                   3                       4  \n",
       "302         performance            assembly    relational-operators  \n",
       "393            setup.py    python-packaging                     NaN  \n",
       "1437       foreign-keys        many-to-many                     NaN  \n",
       "4062  compiler-warnings        android-lint  android-backup-service  \n",
       "4870     numeric-limits  numeric-conversion                     NaN  "
      ]
     },
     "execution_count": 9,
     "metadata": {},
     "output_type": "execute_result"
    }
   ],
   "source": [
    "df[df[\"Title_clean\"].isna()][\n",
    "    [\"Title\", \"Title_clean\", \"Body\", \"Body_clean\", \"0\", \"1\", \"2\", \"3\", \"4\"]\n",
    "].head(5)"
   ]
  },
  {
   "cell_type": "code",
   "execution_count": 10,
   "id": "e7cafefa",
   "metadata": {
    "execution": {
     "iopub.execute_input": "2022-12-23T09:10:48.938784Z",
     "iopub.status.busy": "2022-12-23T09:10:48.938378Z",
     "iopub.status.idle": "2022-12-23T09:10:49.010842Z",
     "shell.execute_reply": "2022-12-23T09:10:49.009515Z"
    },
    "papermill": {
     "duration": 0.088255,
     "end_time": "2022-12-23T09:10:49.013476",
     "exception": false,
     "start_time": "2022-12-23T09:10:48.925221",
     "status": "completed"
    },
    "tags": []
   },
   "outputs": [
    {
     "name": "stdout",
     "output_type": "stream",
     "text": [
      "50\n"
     ]
    },
    {
     "data": {
      "text/html": [
       "<div>\n",
       "<style scoped>\n",
       "    .dataframe tbody tr th:only-of-type {\n",
       "        vertical-align: middle;\n",
       "    }\n",
       "\n",
       "    .dataframe tbody tr th {\n",
       "        vertical-align: top;\n",
       "    }\n",
       "\n",
       "    .dataframe thead th {\n",
       "        text-align: right;\n",
       "    }\n",
       "</style>\n",
       "<table border=\"1\" class=\"dataframe\">\n",
       "  <thead>\n",
       "    <tr style=\"text-align: right;\">\n",
       "      <th></th>\n",
       "      <th>Title</th>\n",
       "      <th>Title_clean</th>\n",
       "      <th>Body</th>\n",
       "      <th>Body_clean</th>\n",
       "      <th>Code</th>\n",
       "    </tr>\n",
       "  </thead>\n",
       "  <tbody>\n",
       "    <tr>\n",
       "      <th>5</th>\n",
       "      <td>What and where are the stack and heap?</td>\n",
       "      <td>stack heap</td>\n",
       "      <td>&lt;ul&gt;\\n&lt;li&gt;What are the stack and heap?&lt;/li&gt;\\n&lt;...</td>\n",
       "      <td>NaN</td>\n",
       "      <td>NaN</td>\n",
       "    </tr>\n",
       "    <tr>\n",
       "      <th>168</th>\n",
       "      <td>What is The Rule of Three?</td>\n",
       "      <td>rule</td>\n",
       "      <td>&lt;ul&gt;\\n&lt;li&gt;What does &lt;em&gt;copying an object&lt;/em&gt;...</td>\n",
       "      <td>NaN</td>\n",
       "      <td>NaN</td>\n",
       "    </tr>\n",
       "    <tr>\n",
       "      <th>828</th>\n",
       "      <td>Why are these constructs using pre and post-in...</td>\n",
       "      <td>construct pre behavior</td>\n",
       "      <td>&lt;pre&gt;&lt;code&gt;#include &amp;lt;stdio.h&amp;gt;\\n\\nint mai...</td>\n",
       "      <td>NaN</td>\n",
       "      <td>#include &lt;stdio.h&gt;\\n\\nint main(void)\\n{\\n   in...</td>\n",
       "    </tr>\n",
       "    <tr>\n",
       "      <th>1207</th>\n",
       "      <td>How to use ADB Shell when Multiple Devices are...</td>\n",
       "      <td>use adb shell multiple device connect fail err...</td>\n",
       "      <td>&lt;pre&gt;&lt;code&gt;$ adb --help\\n&lt;/code&gt;&lt;/pre&gt;\\n&lt;hr /&gt;...</td>\n",
       "      <td>NaN</td>\n",
       "      <td>$ adb --help\\n -s SERIAL  use device with give...</td>\n",
       "    </tr>\n",
       "    <tr>\n",
       "      <th>1640</th>\n",
       "      <td>What are the advantages of list initialization...</td>\n",
       "      <td>advantage list initialization brace</td>\n",
       "      <td>&lt;pre&gt;&lt;code&gt;MyClass a1 {a};     // clearer and ...</td>\n",
       "      <td>NaN</td>\n",
       "      <td>MyClass a1 {a};     // clearer and less error-...</td>\n",
       "    </tr>\n",
       "  </tbody>\n",
       "</table>\n",
       "</div>"
      ],
      "text/plain": [
       "                                                  Title  \\\n",
       "5                What and where are the stack and heap?   \n",
       "168                          What is The Rule of Three?   \n",
       "828   Why are these constructs using pre and post-in...   \n",
       "1207  How to use ADB Shell when Multiple Devices are...   \n",
       "1640  What are the advantages of list initialization...   \n",
       "\n",
       "                                            Title_clean  \\\n",
       "5                                            stack heap   \n",
       "168                                                rule   \n",
       "828                              construct pre behavior   \n",
       "1207  use adb shell multiple device connect fail err...   \n",
       "1640                advantage list initialization brace   \n",
       "\n",
       "                                                   Body Body_clean  \\\n",
       "5     <ul>\\n<li>What are the stack and heap?</li>\\n<...        NaN   \n",
       "168   <ul>\\n<li>What does <em>copying an object</em>...        NaN   \n",
       "828   <pre><code>#include &lt;stdio.h&gt;\\n\\nint mai...        NaN   \n",
       "1207  <pre><code>$ adb --help\\n</code></pre>\\n<hr />...        NaN   \n",
       "1640  <pre><code>MyClass a1 {a};     // clearer and ...        NaN   \n",
       "\n",
       "                                                   Code  \n",
       "5                                                   NaN  \n",
       "168                                                 NaN  \n",
       "828   #include <stdio.h>\\n\\nint main(void)\\n{\\n   in...  \n",
       "1207  $ adb --help\\n -s SERIAL  use device with give...  \n",
       "1640  MyClass a1 {a};     // clearer and less error-...  "
      ]
     },
     "execution_count": 10,
     "metadata": {},
     "output_type": "execute_result"
    }
   ],
   "source": [
    "print(sum(df[\"Body_clean\"].isna()))\n",
    "df[df[\"Body_clean\"].isna()][\n",
    "    [\"Title\", \"Title_clean\", \"Body\", \"Body_clean\", \"Code\"]\n",
    "].head(5)"
   ]
  },
  {
   "cell_type": "code",
   "execution_count": 11,
   "id": "febc79a7",
   "metadata": {
    "execution": {
     "iopub.execute_input": "2022-12-23T09:10:49.038483Z",
     "iopub.status.busy": "2022-12-23T09:10:49.038081Z",
     "iopub.status.idle": "2022-12-23T09:10:49.075440Z",
     "shell.execute_reply": "2022-12-23T09:10:49.074050Z"
    },
    "papermill": {
     "duration": 0.053249,
     "end_time": "2022-12-23T09:10:49.078364",
     "exception": false,
     "start_time": "2022-12-23T09:10:49.025115",
     "status": "completed"
    },
    "tags": []
   },
   "outputs": [
    {
     "data": {
      "text/plain": [
       "0"
      ]
     },
     "execution_count": 11,
     "metadata": {},
     "output_type": "execute_result"
    }
   ],
   "source": [
    "len(df[df[\"Body_clean\"].isna() & df[\"Title_clean\"].isna()])"
   ]
  },
  {
   "cell_type": "code",
   "execution_count": 12,
   "id": "60077d3e",
   "metadata": {
    "execution": {
     "iopub.execute_input": "2022-12-23T09:10:49.104523Z",
     "iopub.status.busy": "2022-12-23T09:10:49.103932Z",
     "iopub.status.idle": "2022-12-23T09:10:49.244906Z",
     "shell.execute_reply": "2022-12-23T09:10:49.243673Z"
    },
    "papermill": {
     "duration": 0.158033,
     "end_time": "2022-12-23T09:10:49.247862",
     "exception": false,
     "start_time": "2022-12-23T09:10:49.089829",
     "status": "completed"
    },
    "tags": []
   },
   "outputs": [
    {
     "data": {
      "text/plain": [
       "103"
      ]
     },
     "execution_count": 12,
     "metadata": {},
     "output_type": "execute_result"
    }
   ],
   "source": [
    "sum((df[\"Title_clean\"] + df[\"Body_clean\"]).isna())"
   ]
  },
  {
   "cell_type": "code",
   "execution_count": 13,
   "id": "9c58012d",
   "metadata": {
    "execution": {
     "iopub.execute_input": "2022-12-23T09:10:49.273744Z",
     "iopub.status.busy": "2022-12-23T09:10:49.273294Z",
     "iopub.status.idle": "2022-12-23T09:10:49.353883Z",
     "shell.execute_reply": "2022-12-23T09:10:49.352891Z"
    },
    "papermill": {
     "duration": 0.096728,
     "end_time": "2022-12-23T09:10:49.356440",
     "exception": false,
     "start_time": "2022-12-23T09:10:49.259712",
     "status": "completed"
    },
    "tags": []
   },
   "outputs": [
    {
     "data": {
      "text/html": [
       "<div>\n",
       "<style scoped>\n",
       "    .dataframe tbody tr th:only-of-type {\n",
       "        vertical-align: middle;\n",
       "    }\n",
       "\n",
       "    .dataframe tbody tr th {\n",
       "        vertical-align: top;\n",
       "    }\n",
       "\n",
       "    .dataframe thead th {\n",
       "        text-align: right;\n",
       "    }\n",
       "</style>\n",
       "<table border=\"1\" class=\"dataframe\">\n",
       "  <thead>\n",
       "    <tr style=\"text-align: right;\">\n",
       "      <th></th>\n",
       "      <th>javascript</th>\n",
       "      <th>java</th>\n",
       "      <th>c#</th>\n",
       "      <th>python</th>\n",
       "      <th>html</th>\n",
       "      <th>git</th>\n",
       "      <th>php</th>\n",
       "    </tr>\n",
       "  </thead>\n",
       "  <tbody>\n",
       "    <tr>\n",
       "      <th>10001</th>\n",
       "      <td>True</td>\n",
       "      <td>False</td>\n",
       "      <td>False</td>\n",
       "      <td>False</td>\n",
       "      <td>True</td>\n",
       "      <td>False</td>\n",
       "      <td>False</td>\n",
       "    </tr>\n",
       "    <tr>\n",
       "      <th>10002</th>\n",
       "      <td>False</td>\n",
       "      <td>True</td>\n",
       "      <td>False</td>\n",
       "      <td>False</td>\n",
       "      <td>False</td>\n",
       "      <td>False</td>\n",
       "      <td>False</td>\n",
       "    </tr>\n",
       "    <tr>\n",
       "      <th>10003</th>\n",
       "      <td>False</td>\n",
       "      <td>False</td>\n",
       "      <td>True</td>\n",
       "      <td>False</td>\n",
       "      <td>False</td>\n",
       "      <td>False</td>\n",
       "      <td>False</td>\n",
       "    </tr>\n",
       "    <tr>\n",
       "      <th>10004</th>\n",
       "      <td>False</td>\n",
       "      <td>False</td>\n",
       "      <td>False</td>\n",
       "      <td>False</td>\n",
       "      <td>True</td>\n",
       "      <td>False</td>\n",
       "      <td>False</td>\n",
       "    </tr>\n",
       "    <tr>\n",
       "      <th>10005</th>\n",
       "      <td>False</td>\n",
       "      <td>False</td>\n",
       "      <td>False</td>\n",
       "      <td>False</td>\n",
       "      <td>False</td>\n",
       "      <td>False</td>\n",
       "      <td>False</td>\n",
       "    </tr>\n",
       "    <tr>\n",
       "      <th>...</th>\n",
       "      <td>...</td>\n",
       "      <td>...</td>\n",
       "      <td>...</td>\n",
       "      <td>...</td>\n",
       "      <td>...</td>\n",
       "      <td>...</td>\n",
       "      <td>...</td>\n",
       "    </tr>\n",
       "    <tr>\n",
       "      <th>15045</th>\n",
       "      <td>False</td>\n",
       "      <td>False</td>\n",
       "      <td>False</td>\n",
       "      <td>False</td>\n",
       "      <td>False</td>\n",
       "      <td>False</td>\n",
       "      <td>False</td>\n",
       "    </tr>\n",
       "    <tr>\n",
       "      <th>15046</th>\n",
       "      <td>False</td>\n",
       "      <td>False</td>\n",
       "      <td>False</td>\n",
       "      <td>False</td>\n",
       "      <td>False</td>\n",
       "      <td>False</td>\n",
       "      <td>False</td>\n",
       "    </tr>\n",
       "    <tr>\n",
       "      <th>15047</th>\n",
       "      <td>True</td>\n",
       "      <td>False</td>\n",
       "      <td>False</td>\n",
       "      <td>False</td>\n",
       "      <td>False</td>\n",
       "      <td>False</td>\n",
       "      <td>False</td>\n",
       "    </tr>\n",
       "    <tr>\n",
       "      <th>15048</th>\n",
       "      <td>False</td>\n",
       "      <td>False</td>\n",
       "      <td>False</td>\n",
       "      <td>False</td>\n",
       "      <td>False</td>\n",
       "      <td>False</td>\n",
       "      <td>False</td>\n",
       "    </tr>\n",
       "    <tr>\n",
       "      <th>15049</th>\n",
       "      <td>False</td>\n",
       "      <td>False</td>\n",
       "      <td>False</td>\n",
       "      <td>False</td>\n",
       "      <td>False</td>\n",
       "      <td>False</td>\n",
       "      <td>False</td>\n",
       "    </tr>\n",
       "  </tbody>\n",
       "</table>\n",
       "<p>5049 rows × 7 columns</p>\n",
       "</div>"
      ],
      "text/plain": [
       "       javascript   java     c#  python   html    git    php\n",
       "10001        True  False  False   False   True  False  False\n",
       "10002       False   True  False   False  False  False  False\n",
       "10003       False  False   True   False  False  False  False\n",
       "10004       False  False  False   False   True  False  False\n",
       "10005       False  False  False   False  False  False  False\n",
       "...           ...    ...    ...     ...    ...    ...    ...\n",
       "15045       False  False  False   False  False  False  False\n",
       "15046       False  False  False   False  False  False  False\n",
       "15047        True  False  False   False  False  False  False\n",
       "15048       False  False  False   False  False  False  False\n",
       "15049       False  False  False   False  False  False  False\n",
       "\n",
       "[5049 rows x 7 columns]"
      ]
     },
     "execution_count": 13,
     "metadata": {},
     "output_type": "execute_result"
    }
   ],
   "source": [
    "def tag_is_in(df: pd.DataFrame(), tag: str, nb_cols: int = 6):\n",
    "    return eval(\"|\".join(f'(df[\"{i}\"] == \"{tag}\")' for i in range(0, nb_cols)))\n",
    "\n",
    "\n",
    "def tags_are_in(df: pd.DataFrame(), tags: list):\n",
    "    return pd.DataFrame({tag: tag_is_in(df, tag) for tag in tags})\n",
    "\n",
    "\n",
    "# tags_are_in(df, [\"javascript\",\"java\"])\n",
    "tags_are_in(\n",
    "    df[10001:15050], [\"javascript\", \"java\", \"c#\", \"python\", \"html\", \"git\", \"php\"]\n",
    ")"
   ]
  },
  {
   "cell_type": "code",
   "execution_count": 14,
   "id": "e22dec9b",
   "metadata": {
    "execution": {
     "iopub.execute_input": "2022-12-23T09:10:49.381950Z",
     "iopub.status.busy": "2022-12-23T09:10:49.381545Z",
     "iopub.status.idle": "2022-12-23T09:10:49.623228Z",
     "shell.execute_reply": "2022-12-23T09:10:49.622317Z"
    },
    "papermill": {
     "duration": 0.257363,
     "end_time": "2022-12-23T09:10:49.625850",
     "exception": false,
     "start_time": "2022-12-23T09:10:49.368487",
     "status": "completed"
    },
    "tags": []
   },
   "outputs": [
    {
     "data": {
      "text/plain": [
       "['java',\n",
       " 'c#',\n",
       " 'javascript',\n",
       " 'python',\n",
       " 'android',\n",
       " 'c++',\n",
       " 'ios',\n",
       " 'html',\n",
       " 'php',\n",
       " '.net',\n",
       " 'jquery',\n",
       " 'css',\n",
       " 'objective-c',\n",
       " 'c',\n",
       " 'sql',\n",
       " 'iphone',\n",
       " 'asp.net',\n",
       " 'mysql',\n",
       " 'linux',\n",
       " 'node.js',\n",
       " 'git']"
      ]
     },
     "execution_count": 14,
     "metadata": {},
     "output_type": "execute_result"
    }
   ],
   "source": [
    "tags = df[[\"0\", \"1\", \"2\", \"3\", \"4\", \"5\"]].stack()\n",
    "target_names = [\n",
    "    tag\n",
    "    for tag, freq in tags.reset_index(drop=True).value_counts(normalize=True).items()\n",
    "    if freq > 0.002\n",
    "]\n",
    "if not LONG:\n",
    "    target_names = target_names[0:20] + [\"git\"]\n",
    "target_names"
   ]
  },
  {
   "cell_type": "code",
   "execution_count": 15,
   "id": "e7c2d329",
   "metadata": {
    "execution": {
     "iopub.execute_input": "2022-12-23T09:10:49.651603Z",
     "iopub.status.busy": "2022-12-23T09:10:49.651185Z",
     "iopub.status.idle": "2022-12-23T09:10:49.667658Z",
     "shell.execute_reply": "2022-12-23T09:10:49.666628Z"
    },
    "papermill": {
     "duration": 0.032655,
     "end_time": "2022-12-23T09:10:49.670466",
     "exception": false,
     "start_time": "2022-12-23T09:10:49.637811",
     "status": "completed"
    },
    "tags": []
   },
   "outputs": [],
   "source": [
    "#Enregistrement des paramétres avec la liste des tags a predire\n",
    "description[\"target_names\"] = target_names\n",
    "with open(\"/kaggle/working/description.json\", \"w\") as outfile:\n",
    "    json.dump(description, outfile)"
   ]
  },
  {
   "cell_type": "markdown",
   "id": "6889c88e",
   "metadata": {
    "papermill": {
     "duration": 0.01148,
     "end_time": "2022-12-23T09:10:49.693901",
     "exception": false,
     "start_time": "2022-12-23T09:10:49.682421",
     "status": "completed"
    },
    "tags": []
   },
   "source": [
    "# CountVectorizer"
   ]
  },
  {
   "cell_type": "code",
   "execution_count": 16,
   "id": "0a5b160b",
   "metadata": {
    "execution": {
     "iopub.execute_input": "2022-12-23T09:10:49.719573Z",
     "iopub.status.busy": "2022-12-23T09:10:49.719174Z",
     "iopub.status.idle": "2022-12-23T09:10:51.397358Z",
     "shell.execute_reply": "2022-12-23T09:10:51.396028Z"
    },
    "papermill": {
     "duration": 1.694705,
     "end_time": "2022-12-23T09:10:51.400476",
     "exception": false,
     "start_time": "2022-12-23T09:10:49.705771",
     "status": "completed"
    },
    "tags": []
   },
   "outputs": [
    {
     "name": "stdout",
     "output_type": "stream",
     "text": [
      "99.99409% des questions ont plus d'un tokens\n"
     ]
    }
   ],
   "source": [
    "df[\"Token\"] = df[\"Title_clean\"].fillna(\"\") + df[\"Body_clean\"].fillna(\"\")\n",
    "print(\n",
    "    f\"{len(df[[len(token.split()) > 1 for token in df['Token']]])/len(df):.5%} des questions ont plus d'un tokens\"\n",
    "    if len(df[df[\"Token\"] == \"\"]) == 0\n",
    "    else f\"{len(df[df['Token'] == ''])} questions n'ont pas de token\"\n",
    ")\n",
    "X_train, X_test, y_train, y_test = model_selection.train_test_split(\n",
    "    df[\"Token\"], tags_are_in(df, target_names), random_state=42\n",
    ")"
   ]
  },
  {
   "cell_type": "code",
   "execution_count": 17,
   "id": "4de5e00f",
   "metadata": {
    "execution": {
     "iopub.execute_input": "2022-12-23T09:10:51.426781Z",
     "iopub.status.busy": "2022-12-23T09:10:51.426344Z",
     "iopub.status.idle": "2022-12-23T09:10:51.506154Z",
     "shell.execute_reply": "2022-12-23T09:10:51.504873Z"
    },
    "papermill": {
     "duration": 0.096632,
     "end_time": "2022-12-23T09:10:51.509588",
     "exception": false,
     "start_time": "2022-12-23T09:10:51.412956",
     "status": "completed"
    },
    "tags": []
   },
   "outputs": [
    {
     "name": "stdout",
     "output_type": "stream",
     "text": [
      "\u001b[1mjava\u001b[0m\n",
      "\t Sur entrainement \u001b[92m12.05%\u001b[0m positif \u001b[91m87.95%\u001b[0m negatif\n",
      "\t Sur test \u001b[92m12.02%\u001b[0m positif \u001b[91m87.98%\u001b[0m negatif\n",
      "\n",
      "\n",
      "\u001b[1mc#\u001b[0m\n",
      "\t Sur entrainement \u001b[92m11.80%\u001b[0m positif \u001b[91m88.20%\u001b[0m negatif\n",
      "\t Sur test \u001b[92m11.73%\u001b[0m positif \u001b[91m88.27%\u001b[0m negatif\n",
      "\n",
      "\n",
      "\u001b[1mjavascript\u001b[0m\n",
      "\t Sur entrainement \u001b[92m11.77%\u001b[0m positif \u001b[91m88.23%\u001b[0m negatif\n",
      "\t Sur test \u001b[92m11.33%\u001b[0m positif \u001b[91m88.67%\u001b[0m negatif\n",
      "\n",
      "\n",
      "\u001b[1mpython\u001b[0m\n",
      "\t Sur entrainement \u001b[92m8.61%\u001b[0m positif \u001b[91m91.39%\u001b[0m negatif\n",
      "\t Sur test \u001b[92m8.82%\u001b[0m positif \u001b[91m91.18%\u001b[0m negatif\n",
      "\n",
      "\n",
      "\u001b[1mandroid\u001b[0m\n",
      "\t Sur entrainement \u001b[92m7.00%\u001b[0m positif \u001b[91m93.00%\u001b[0m negatif\n",
      "\t Sur test \u001b[92m6.91%\u001b[0m positif \u001b[91m93.09%\u001b[0m negatif\n",
      "\n",
      "\n",
      "\u001b[1mc++\u001b[0m\n",
      "\t Sur entrainement \u001b[92m6.63%\u001b[0m positif \u001b[91m93.37%\u001b[0m negatif\n",
      "\t Sur test \u001b[92m6.63%\u001b[0m positif \u001b[91m93.37%\u001b[0m negatif\n",
      "\n",
      "\n",
      "\u001b[1mios\u001b[0m\n",
      "\t Sur entrainement \u001b[92m6.25%\u001b[0m positif \u001b[91m93.75%\u001b[0m negatif\n",
      "\t Sur test \u001b[92m6.21%\u001b[0m positif \u001b[91m93.79%\u001b[0m negatif\n",
      "\n",
      "\n",
      "\u001b[1mhtml\u001b[0m\n",
      "\t Sur entrainement \u001b[92m5.85%\u001b[0m positif \u001b[91m94.15%\u001b[0m negatif\n",
      "\t Sur test \u001b[92m5.93%\u001b[0m positif \u001b[91m94.07%\u001b[0m negatif\n",
      "\n",
      "\n",
      "\u001b[1mphp\u001b[0m\n",
      "\t Sur entrainement \u001b[92m5.56%\u001b[0m positif \u001b[91m94.44%\u001b[0m negatif\n",
      "\t Sur test \u001b[92m5.49%\u001b[0m positif \u001b[91m94.51%\u001b[0m negatif\n",
      "\n",
      "\n",
      "\u001b[1m.net\u001b[0m\n",
      "\t Sur entrainement \u001b[92m5.34%\u001b[0m positif \u001b[91m94.66%\u001b[0m negatif\n",
      "\t Sur test \u001b[92m5.30%\u001b[0m positif \u001b[91m94.70%\u001b[0m negatif\n",
      "\n",
      "\n",
      "\u001b[1mjquery\u001b[0m\n",
      "\t Sur entrainement \u001b[92m5.36%\u001b[0m positif \u001b[91m94.64%\u001b[0m negatif\n",
      "\t Sur test \u001b[92m5.19%\u001b[0m positif \u001b[91m94.81%\u001b[0m negatif\n",
      "\n",
      "\n",
      "\u001b[1mcss\u001b[0m\n",
      "\t Sur entrainement \u001b[92m3.77%\u001b[0m positif \u001b[91m96.23%\u001b[0m negatif\n",
      "\t Sur test \u001b[92m3.82%\u001b[0m positif \u001b[91m96.18%\u001b[0m negatif\n",
      "\n",
      "\n",
      "\u001b[1mobjective-c\u001b[0m\n",
      "\t Sur entrainement \u001b[92m3.08%\u001b[0m positif \u001b[91m96.92%\u001b[0m negatif\n",
      "\t Sur test \u001b[92m3.00%\u001b[0m positif \u001b[91m97.00%\u001b[0m negatif\n",
      "\n",
      "\n",
      "\u001b[1mc\u001b[0m\n",
      "\t Sur entrainement \u001b[92m3.08%\u001b[0m positif \u001b[91m96.92%\u001b[0m negatif\n",
      "\t Sur test \u001b[92m2.99%\u001b[0m positif \u001b[91m97.01%\u001b[0m negatif\n",
      "\n",
      "\n",
      "\u001b[1msql\u001b[0m\n",
      "\t Sur entrainement \u001b[92m3.00%\u001b[0m positif \u001b[91m97.00%\u001b[0m negatif\n",
      "\t Sur test \u001b[92m2.94%\u001b[0m positif \u001b[91m97.06%\u001b[0m negatif\n",
      "\n",
      "\n",
      "\u001b[1miphone\u001b[0m\n",
      "\t Sur entrainement \u001b[92m2.79%\u001b[0m positif \u001b[91m97.21%\u001b[0m negatif\n",
      "\t Sur test \u001b[92m2.73%\u001b[0m positif \u001b[91m97.27%\u001b[0m negatif\n",
      "\n",
      "\n",
      "\u001b[1masp.net\u001b[0m\n",
      "\t Sur entrainement \u001b[92m2.73%\u001b[0m positif \u001b[91m97.27%\u001b[0m negatif\n",
      "\t Sur test \u001b[92m2.72%\u001b[0m positif \u001b[91m97.28%\u001b[0m negatif\n",
      "\n",
      "\n",
      "\u001b[1mmysql\u001b[0m\n",
      "\t Sur entrainement \u001b[92m2.37%\u001b[0m positif \u001b[91m97.63%\u001b[0m negatif\n",
      "\t Sur test \u001b[92m2.31%\u001b[0m positif \u001b[91m97.69%\u001b[0m negatif\n",
      "\n",
      "\n",
      "\u001b[1mlinux\u001b[0m\n",
      "\t Sur entrainement \u001b[92m2.34%\u001b[0m positif \u001b[91m97.66%\u001b[0m negatif\n",
      "\t Sur test \u001b[92m2.30%\u001b[0m positif \u001b[91m97.70%\u001b[0m negatif\n",
      "\n",
      "\n",
      "\u001b[1mnode.js\u001b[0m\n",
      "\t Sur entrainement \u001b[92m2.29%\u001b[0m positif \u001b[91m97.71%\u001b[0m negatif\n",
      "\t Sur test \u001b[92m2.30%\u001b[0m positif \u001b[91m97.70%\u001b[0m negatif\n",
      "\n",
      "\n",
      "\u001b[1mgit\u001b[0m\n",
      "\t Sur entrainement \u001b[92m0.95%\u001b[0m positif \u001b[91m99.05%\u001b[0m negatif\n",
      "\t Sur test \u001b[92m0.93%\u001b[0m positif \u001b[91m99.07%\u001b[0m negatif\n",
      "\n",
      "\n"
     ]
    }
   ],
   "source": [
    "for column in y_train.columns:\n",
    "    t_train = y_train[column].value_counts(normalize=True)\n",
    "    t_test = y_test[column].value_counts(normalize=True)\n",
    "    print(f\"{colors.BOLD}{column}{colors.ENDC}\")\n",
    "    print(\n",
    "        f\"\\t Sur entrainement {colors.GREEN}{t_train[True]:.2%}{colors.ENDC} positif {colors.RED}{t_train[False]:.2%}{colors.ENDC} negatif\"\n",
    "    )\n",
    "    print(\n",
    "        f\"\\t Sur test {colors.GREEN}{t_test[True]:.2%}{colors.ENDC} positif {colors.RED}{t_test[False]:.2%}{colors.ENDC} negatif\"\n",
    "    )\n",
    "    print(\"\\n\")"
   ]
  },
  {
   "cell_type": "code",
   "execution_count": 18,
   "id": "1969fbec",
   "metadata": {
    "execution": {
     "iopub.execute_input": "2022-12-23T09:10:51.535744Z",
     "iopub.status.busy": "2022-12-23T09:10:51.535333Z",
     "iopub.status.idle": "2022-12-23T09:10:57.029736Z",
     "shell.execute_reply": "2022-12-23T09:10:57.027751Z"
    },
    "papermill": {
     "duration": 5.512288,
     "end_time": "2022-12-23T09:10:57.034174",
     "exception": false,
     "start_time": "2022-12-23T09:10:51.521886",
     "status": "completed"
    },
    "tags": []
   },
   "outputs": [
    {
     "name": "stdout",
     "output_type": "stream",
     "text": [
      "\n",
      "******************************\n",
      " pour min_df:1e-05; max_df:0.995\n",
      "\ttokens unique:\n",
      "\t\t53999 dans title et body regroupé\n"
     ]
    }
   ],
   "source": [
    "best_min_df = description[\"CountVectorizer\"][\"min_df\"]\n",
    "best_max_df = description[\"CountVectorizer\"][\"max_df\"]\n",
    "for min_df in [0.01, 0.05, 0.005, 0.0005, 0.00001] if LONG else [best_min_df]:\n",
    "    for max_df in [0.95, 0.995, 0.9995] if LONG else [best_max_df]:\n",
    "        print(f\"\\n{'*'*30}\\n pour min_df:{min_df}; max_df:{max_df}\")\n",
    "        count_vectorizer = feature_extraction.text.CountVectorizer(\n",
    "            min_df=min_df, max_df=max_df, max_features=None\n",
    "        )\n",
    "        #         pipe = pipeline.make_pipeline(feature_extraction.text.CountVectorizer(min_df=min_df, max_df=max_df, max_features=None), feature_extraction.text.TfidfTransformer( norm=\"l2\", use_idf=True, smooth_idf=True, sublinear_tf=False))\n",
    "        #         feat_train = pipe.transform(X_train[\"Token\"])\n",
    "        #         print(feat_train.shape)\n",
    "\n",
    "        token_vectors = count_vectorizer.fit_transform(df[\"Token\"])\n",
    "        print(\n",
    "            f\"\\ttokens unique:\\n\\t\\t{token_vectors.shape[1]} dans title et body regroupé\"\n",
    "        )"
   ]
  },
  {
   "cell_type": "markdown",
   "id": "8479bb9e",
   "metadata": {
    "papermill": {
     "duration": 0.012788,
     "end_time": "2022-12-23T09:10:57.060088",
     "exception": false,
     "start_time": "2022-12-23T09:10:57.047300",
     "status": "completed"
    },
    "tags": []
   },
   "source": [
    "avec n_components=1_000 : 10% de la variance éxpliqué"
   ]
  },
  {
   "cell_type": "code",
   "execution_count": 19,
   "id": "48de0b4d",
   "metadata": {
    "execution": {
     "iopub.execute_input": "2022-12-23T09:10:57.088504Z",
     "iopub.status.busy": "2022-12-23T09:10:57.088088Z",
     "iopub.status.idle": "2022-12-23T09:10:57.142567Z",
     "shell.execute_reply": "2022-12-23T09:10:57.140450Z"
    },
    "papermill": {
     "duration": 0.073995,
     "end_time": "2022-12-23T09:10:57.147038",
     "exception": false,
     "start_time": "2022-12-23T09:10:57.073043",
     "status": "completed"
    },
    "tags": []
   },
   "outputs": [
    {
     "name": "stdout",
     "output_type": "stream",
     "text": [
      "CPU times: user 4 µs, sys: 0 ns, total: 4 µs\n",
      "Wall time: 10 µs\n"
     ]
    }
   ],
   "source": [
    "%%time\n",
    "if LONG:\n",
    "    truncSvd = decomposition.TruncatedSVD(n_components=1000).fit(\n",
    "        preprocessing.StandardScaler(with_mean=False).fit_transform(token_vectors)\n",
    "    )\n",
    "    plt.figure(figsize=(30, 15))\n",
    "    scree = truncSvd.explained_variance_ratio_ * 100\n",
    "    plt.bar(np.arange(len(scree)) + 1, scree)\n",
    "    plt.plot(np.arange(len(scree)) + 1, scree.cumsum(), c=\"red\", marker=\"o\")\n",
    "    plt.xlabel(\"rang de l'axe d'inertie\")\n",
    "    plt.ylabel(\"pourcentage variance expliquée\")\n",
    "    plt.title(\"Eboulis des valeurs propres\")\n",
    "    plt.show()"
   ]
  },
  {
   "cell_type": "markdown",
   "id": "a2c6a78a",
   "metadata": {
    "papermill": {
     "duration": 0.014512,
     "end_time": "2022-12-23T09:10:57.174991",
     "exception": false,
     "start_time": "2022-12-23T09:10:57.160479",
     "status": "completed"
    },
    "tags": []
   },
   "source": [
    "# PreprocessPipeline"
   ]
  },
  {
   "cell_type": "code",
   "execution_count": 20,
   "id": "41cb0553",
   "metadata": {
    "execution": {
     "iopub.execute_input": "2022-12-23T09:10:57.204055Z",
     "iopub.status.busy": "2022-12-23T09:10:57.203491Z",
     "iopub.status.idle": "2022-12-23T09:10:57.273927Z",
     "shell.execute_reply": "2022-12-23T09:10:57.272501Z"
    },
    "papermill": {
     "duration": 0.08908,
     "end_time": "2022-12-23T09:10:57.278039",
     "exception": false,
     "start_time": "2022-12-23T09:10:57.188959",
     "status": "completed"
    },
    "tags": []
   },
   "outputs": [],
   "source": [
    "pipeline_tfidf = pipeline.Pipeline(\n",
    "    [\n",
    "        (\n",
    "            \"count\",\n",
    "            feature_extraction.text.CountVectorizer(\n",
    "                min_df=best_min_df, max_df=best_max_df, max_features=None\n",
    "            ),\n",
    "        ),\n",
    "        (\n",
    "            \"tfidf\",\n",
    "            feature_extraction.text.TfidfTransformer(\n",
    "                norm=\"l2\", use_idf=True, smooth_idf=True, sublinear_tf=False\n",
    "            ),\n",
    "        ),\n",
    "        (\n",
    "            \"scale\",\n",
    "            preprocessing.StandardScaler(with_mean=False)\n",
    "            if description[\"StandardScaler\"][\"actif\"]\n",
    "            else \"passthrough\",\n",
    "        ),\n",
    "        (\n",
    "            \"dimReduction\",\n",
    "            decomposition.TruncatedSVD(\n",
    "                n_components=description[\"TruncatedSVD\"][\"n_components\"]\n",
    "            )\n",
    "            if description[\"TruncatedSVD\"][\"actif\"]\n",
    "            else \"passthrough\",\n",
    "        ),\n",
    "    ]\n",
    ")\n",
    "## @TODO cache\n",
    "# memory = joblib.Memory(location=\"/kaggle/working/cache_dir\", verbose=0)\n",
    "# pipeline_tfidf = memory.cache(pipeline_tfidf)"
   ]
  },
  {
   "cell_type": "markdown",
   "id": "6fd20231",
   "metadata": {
    "papermill": {
     "duration": 0.012369,
     "end_time": "2022-12-23T09:10:57.304445",
     "exception": false,
     "start_time": "2022-12-23T09:10:57.292076",
     "status": "completed"
    },
    "tags": []
   },
   "source": [
    "# OvsRest"
   ]
  },
  {
   "cell_type": "code",
   "execution_count": 21,
   "id": "b902dd69",
   "metadata": {
    "execution": {
     "iopub.execute_input": "2022-12-23T09:10:57.333434Z",
     "iopub.status.busy": "2022-12-23T09:10:57.331505Z",
     "iopub.status.idle": "2022-12-23T09:10:57.358839Z",
     "shell.execute_reply": "2022-12-23T09:10:57.357391Z"
    },
    "papermill": {
     "duration": 0.044275,
     "end_time": "2022-12-23T09:10:57.361805",
     "exception": false,
     "start_time": "2022-12-23T09:10:57.317530",
     "status": "completed"
    },
    "tags": []
   },
   "outputs": [],
   "source": [
    "def save_score(y_true, y_pred, target_names, name) -> pd.DataFrame():\n",
    "    scores = pd.DataFrame(\n",
    "        metrics.classification_report(\n",
    "            y_true, y_pred, target_names=target_names, zero_division=0, output_dict=True\n",
    "        )\n",
    "    ).T\n",
    "    scores.to_csv(f\"/kaggle/working/{name}_score.csv\")\n",
    "    return scores"
   ]
  },
  {
   "cell_type": "markdown",
   "id": "d3448436",
   "metadata": {
    "papermill": {
     "duration": 0.012089,
     "end_time": "2022-12-23T09:10:57.387407",
     "exception": false,
     "start_time": "2022-12-23T09:10:57.375318",
     "status": "completed"
    },
    "tags": []
   },
   "source": [
    "## LogisticRegression"
   ]
  },
  {
   "cell_type": "code",
   "execution_count": 22,
   "id": "246d5675",
   "metadata": {
    "execution": {
     "iopub.execute_input": "2022-12-23T09:10:57.414892Z",
     "iopub.status.busy": "2022-12-23T09:10:57.413692Z",
     "iopub.status.idle": "2022-12-23T09:10:57.466854Z",
     "shell.execute_reply": "2022-12-23T09:10:57.465059Z"
    },
    "papermill": {
     "duration": 0.070747,
     "end_time": "2022-12-23T09:10:57.470504",
     "exception": false,
     "start_time": "2022-12-23T09:10:57.399757",
     "status": "completed"
    },
    "tags": []
   },
   "outputs": [
    {
     "name": "stdout",
     "output_type": "stream",
     "text": [
      "CPU times: user 8 µs, sys: 0 ns, total: 8 µs\n",
      "Wall time: 11.9 µs\n"
     ]
    }
   ],
   "source": [
    "%%time\n",
    "if description[\"LogisticRegression\"][\"actif\"]:\n",
    "    pipeline_logisticReg = pipeline.Pipeline(\n",
    "        [\n",
    "            (\"tfidf\", pipeline_tfidf),\n",
    "            (\n",
    "                \"OvRLogisticReg\",\n",
    "                multiclass.OneVsRestClassifier(\n",
    "                    linear_model.LogisticRegression(random_state=42)\n",
    "                ),\n",
    "            ),\n",
    "        ]\n",
    "    )\n",
    "    with ignore_warnings(category=exceptions.ConvergenceWarning):\n",
    "        pipeline_logisticReg.fit(X_train, y_train)\n",
    "\n",
    "    # prediction sur jeu de test\n",
    "    pred_lr = pipeline_logisticReg.predict(X_test)\n",
    "    scores_lr = save_score(y_test, pred_lr, target_names, \"LogisticRegression\")\n",
    "\n",
    "    # enregistrement model et score\n",
    "    joblib.dump(pipeline_logisticReg, \"LogisticRegression_model.joblib\")\n",
    "    scores_lr.sort_values(by=\"support\", ascending=False)"
   ]
  },
  {
   "cell_type": "code",
   "execution_count": 23,
   "id": "23e02547",
   "metadata": {
    "execution": {
     "iopub.execute_input": "2022-12-23T09:10:57.498610Z",
     "iopub.status.busy": "2022-12-23T09:10:57.498217Z",
     "iopub.status.idle": "2022-12-23T09:10:57.513839Z",
     "shell.execute_reply": "2022-12-23T09:10:57.512384Z"
    },
    "papermill": {
     "duration": 0.033139,
     "end_time": "2022-12-23T09:10:57.516613",
     "exception": false,
     "start_time": "2022-12-23T09:10:57.483474",
     "status": "completed"
    },
    "tags": []
   },
   "outputs": [],
   "source": [
    "if description[\"LogisticRegression\"][\"actif\"]:\n",
    "    scores_lr.sort_values(by=\"precision\", ascending=False)"
   ]
  },
  {
   "cell_type": "code",
   "execution_count": 24,
   "id": "e8543023",
   "metadata": {
    "execution": {
     "iopub.execute_input": "2022-12-23T09:10:57.543348Z",
     "iopub.status.busy": "2022-12-23T09:10:57.542933Z",
     "iopub.status.idle": "2022-12-23T09:10:57.558023Z",
     "shell.execute_reply": "2022-12-23T09:10:57.556831Z"
    },
    "papermill": {
     "duration": 0.031676,
     "end_time": "2022-12-23T09:10:57.560862",
     "exception": false,
     "start_time": "2022-12-23T09:10:57.529186",
     "status": "completed"
    },
    "tags": []
   },
   "outputs": [],
   "source": [
    "if description[\"LogisticRegression\"][\"actif\"]:\n",
    "    scores_lr.sort_values(by=\"recall\", ascending=False)"
   ]
  },
  {
   "cell_type": "markdown",
   "id": "eb5c6453",
   "metadata": {
    "papermill": {
     "duration": 0.012818,
     "end_time": "2022-12-23T09:10:57.586234",
     "exception": false,
     "start_time": "2022-12-23T09:10:57.573416",
     "status": "completed"
    },
    "tags": []
   },
   "source": [
    "## SVC"
   ]
  },
  {
   "cell_type": "code",
   "execution_count": 25,
   "id": "ec3aee43",
   "metadata": {
    "execution": {
     "iopub.execute_input": "2022-12-23T09:10:57.614741Z",
     "iopub.status.busy": "2022-12-23T09:10:57.614346Z",
     "iopub.status.idle": "2022-12-23T09:10:57.650067Z",
     "shell.execute_reply": "2022-12-23T09:10:57.648710Z"
    },
    "papermill": {
     "duration": 0.053315,
     "end_time": "2022-12-23T09:10:57.653048",
     "exception": false,
     "start_time": "2022-12-23T09:10:57.599733",
     "status": "completed"
    },
    "tags": []
   },
   "outputs": [],
   "source": [
    "pipeline_svc = pipeline.Pipeline(\n",
    "    [\n",
    "        (\"tfidf\", pipeline_tfidf),\n",
    "        (\n",
    "            \"TfidfOvRSVC\",\n",
    "            multiclass.OneVsRestClassifier(\n",
    "                svm.SVC(\n",
    "                    cache_size=1080,\n",
    "                    max_iter=description[\"TfidfOvRSVC\"][\"max_iter\"],\n",
    "                    random_state=42,\n",
    "                )\n",
    "            ),\n",
    "        ),\n",
    "    ]\n",
    ")"
   ]
  },
  {
   "cell_type": "code",
   "execution_count": 26,
   "id": "fbd51e85",
   "metadata": {
    "execution": {
     "iopub.execute_input": "2022-12-23T09:10:57.679987Z",
     "iopub.status.busy": "2022-12-23T09:10:57.679573Z",
     "iopub.status.idle": "2022-12-23T11:07:32.571200Z",
     "shell.execute_reply": "2022-12-23T11:07:32.569348Z"
    },
    "papermill": {
     "duration": 6994.9206,
     "end_time": "2022-12-23T11:07:32.586168",
     "exception": false,
     "start_time": "2022-12-23T09:10:57.665568",
     "status": "completed"
    },
    "tags": []
   },
   "outputs": [
    {
     "name": "stdout",
     "output_type": "stream",
     "text": [
      "CPU times: user 1h 56min 18s, sys: 8.55 s, total: 1h 56min 26s\n",
      "Wall time: 1h 56min 34s\n"
     ]
    }
   ],
   "source": [
    "%%time\n",
    "if description[\"TfidfOvRSVC\"][\"actif\"]:\n",
    "    with ignore_warnings(category=exceptions.ConvergenceWarning):\n",
    "        pipeline_svc.fit(\n",
    "            X_train,\n",
    "            y_train,\n",
    "        )"
   ]
  },
  {
   "cell_type": "code",
   "execution_count": 27,
   "id": "be465309",
   "metadata": {
    "execution": {
     "iopub.execute_input": "2022-12-23T11:07:32.613425Z",
     "iopub.status.busy": "2022-12-23T11:07:32.613013Z",
     "iopub.status.idle": "2022-12-23T11:48:08.820805Z",
     "shell.execute_reply": "2022-12-23T11:48:08.818719Z"
    },
    "papermill": {
     "duration": 2436.23742,
     "end_time": "2022-12-23T11:48:08.836344",
     "exception": false,
     "start_time": "2022-12-23T11:07:32.598924",
     "status": "completed"
    },
    "tags": []
   },
   "outputs": [
    {
     "name": "stdout",
     "output_type": "stream",
     "text": [
      "CPU times: user 40min 39s, sys: 6.51 s, total: 40min 46s\n",
      "Wall time: 40min 36s\n"
     ]
    }
   ],
   "source": [
    "%%time\n",
    "if description[\"TfidfOvRSVC\"][\"actif\"]:\n",
    "    pred_svc = pipeline_svc.predict(X_test)\n",
    "    pred_svc"
   ]
  },
  {
   "cell_type": "markdown",
   "id": "a84d6139",
   "metadata": {
    "papermill": {
     "duration": 0.01234,
     "end_time": "2022-12-23T11:48:08.862335",
     "exception": false,
     "start_time": "2022-12-23T11:48:08.849995",
     "status": "completed"
    },
    "tags": []
   },
   "source": [
    "### Score et enregistrement"
   ]
  },
  {
   "cell_type": "code",
   "execution_count": 28,
   "id": "4833e88a",
   "metadata": {
    "execution": {
     "iopub.execute_input": "2022-12-23T11:48:08.890542Z",
     "iopub.status.busy": "2022-12-23T11:48:08.889472Z",
     "iopub.status.idle": "2022-12-23T11:48:10.771041Z",
     "shell.execute_reply": "2022-12-23T11:48:10.769735Z"
    },
    "papermill": {
     "duration": 1.8987,
     "end_time": "2022-12-23T11:48:10.774047",
     "exception": false,
     "start_time": "2022-12-23T11:48:08.875347",
     "status": "completed"
    },
    "tags": []
   },
   "outputs": [],
   "source": [
    "if description[\"TfidfOvRSVC\"][\"actif\"]:\n",
    "    scores_svc = save_score(y_test,pred_svc,target_names,\"TfidfOvRSVC\")\n",
    "    joblib.dump(pipeline_svc,\"TfidfOvRestSvc_model.joblib\")\n",
    "    scores_svc.sort_values(by=\"precision\", ascending=False)"
   ]
  },
  {
   "cell_type": "markdown",
   "id": "22d994de",
   "metadata": {
    "papermill": {
     "duration": 0.015258,
     "end_time": "2022-12-23T11:48:10.802653",
     "exception": false,
     "start_time": "2022-12-23T11:48:10.787395",
     "status": "completed"
    },
    "tags": []
   },
   "source": [
    "# Word2Vec"
   ]
  },
  {
   "cell_type": "code",
   "execution_count": 29,
   "id": "7e5d7f92",
   "metadata": {
    "execution": {
     "iopub.execute_input": "2022-12-23T11:48:10.846648Z",
     "iopub.status.busy": "2022-12-23T11:48:10.842526Z",
     "iopub.status.idle": "2022-12-23T11:48:10.968482Z",
     "shell.execute_reply": "2022-12-23T11:48:10.966941Z"
    },
    "papermill": {
     "duration": 0.149734,
     "end_time": "2022-12-23T11:48:10.971467",
     "exception": false,
     "start_time": "2022-12-23T11:48:10.821733",
     "status": "completed"
    },
    "tags": []
   },
   "outputs": [
    {
     "name": "stdout",
     "output_type": "stream",
     "text": [
      "CPU times: user 9 µs, sys: 0 ns, total: 9 µs\n",
      "Wall time: 16.2 µs\n"
     ]
    }
   ],
   "source": [
    "%%time\n",
    "if description[\"Word2Vec\"][\"actif\"]:\n",
    "    print(\"Build & train Word2Vec model ...\")\n",
    "    # sentences = [gensim.utils.simple_preprocess(text) for text in df[0:20_000][\"Token\"]]\n",
    "    # sentences = X_train\n",
    "    w2v_model = gensim.models.Word2Vec(\n",
    "        min_count= description[\"Word2Vec\"][\"min_count\"], window= description[\"Word2Vec\"][\"window\"], vector_size= description[\"Word2Vec\"][\"size\"], seed=42, workers=1\n",
    "    )\n",
    "    #                                                workers=multiprocessing.cpu_count())\n",
    "    w2v_model.build_vocab(X_train)\n",
    "    w2v_model.train(X_train, total_examples=w2v_model.corpus_count, epochs=description[\"Word2Vec\"][\"epochs\"])\n",
    "    model_vectors = w2v_model.wv\n",
    "    w2v_words = model_vectors.index_to_key\n",
    "    print(\"Vocabulary size: %i\" % len(w2v_words))\n",
    "    print(\"Word2Vec trained\")\n",
    "\n",
    "    tokenizer = keras.preprocessing.text.Tokenizer()\n",
    "    tokenizer.fit_on_texts(X_train)\n",
    "    x_sentences_train = keras.preprocessing.sequence.pad_sequences(\n",
    "        tokenizer.texts_to_sequences(X_train), maxlen=maxlen, padding=\"post\"\n",
    "    )\n",
    "    x_sentences_test = keras.preprocessing.sequence.pad_sequences(\n",
    "        tokenizer.texts_to_sequences(X_test), maxlen=maxlen, padding=\"post\"\n",
    "    )\n",
    "    num_words = len(tokenizer.word_index) + 1\n",
    "    print(\"Number of unique words: %i\" % num_words)\n",
    "\n",
    "    # matrice d'embedding\n",
    "    print(\"Create Embedding matrix ...\")\n",
    "    word_index = tokenizer.word_index\n",
    "    vocab_size = len(word_index) + 1\n",
    "    embedding_matrix = np.zeros((vocab_size, description[\"Word2Vec\"][\"size\"]))\n",
    "    i = 0\n",
    "    j = 0\n",
    "\n",
    "    for word, idx in word_index.items():\n",
    "        i += 1\n",
    "        if word in w2v_words:\n",
    "            j += 1\n",
    "            embedding_vector = model_vectors[word]\n",
    "            if embedding_vector is not None:\n",
    "                embedding_matrix[idx] = model_vectors[word]\n",
    "\n",
    "    word_rate = np.round(j / i, 4)\n",
    "    print(\"Word embedding rate : \", word_rate)\n",
    "    print(\"Embedding matrix: %s\" % str(embedding_matrix.shape))"
   ]
  },
  {
   "cell_type": "markdown",
   "id": "d5b7cc24",
   "metadata": {
    "papermill": {
     "duration": 0.016499,
     "end_time": "2022-12-23T11:48:11.001926",
     "exception": false,
     "start_time": "2022-12-23T11:48:10.985427",
     "status": "completed"
    },
    "tags": []
   },
   "source": [
    "## Creation du modèle"
   ]
  },
  {
   "cell_type": "code",
   "execution_count": 30,
   "id": "526a9d72",
   "metadata": {
    "execution": {
     "iopub.execute_input": "2022-12-23T11:48:11.039819Z",
     "iopub.status.busy": "2022-12-23T11:48:11.038758Z",
     "iopub.status.idle": "2022-12-23T11:48:11.098918Z",
     "shell.execute_reply": "2022-12-23T11:48:11.097712Z"
    },
    "papermill": {
     "duration": 0.084875,
     "end_time": "2022-12-23T11:48:11.102315",
     "exception": false,
     "start_time": "2022-12-23T11:48:11.017440",
     "status": "completed"
    },
    "tags": []
   },
   "outputs": [
    {
     "name": "stdout",
     "output_type": "stream",
     "text": [
      "CPU times: user 6 µs, sys: 0 ns, total: 6 µs\n",
      "Wall time: 10.3 µs\n"
     ]
    }
   ],
   "source": [
    "%%time\n",
    "if description[\"Word2Vec\"][\"actif\"]:\n",
    "    input = keras.layers.Input(shape=(len(x_sentences_train), maxlen), dtype=\"float64\")\n",
    "    word_input = keras.layers.Input(shape=(maxlen,), dtype=\"float64\")\n",
    "    word_embedding = keras.layers.Embedding(\n",
    "        input_dim=vocab_size,\n",
    "        output_dim=w2v_size,\n",
    "        weights=[embedding_matrix],\n",
    "        input_length=maxlen,\n",
    "    )(word_input)\n",
    "    word_vec = keras.layers.GlobalAveragePooling1D()(word_embedding)\n",
    "    embed_model = keras.models.Model([word_input], word_vec)\n",
    "\n",
    "    embeddings = embed_model.predict(x_sentences_train)\n",
    "    print(\"shape train\", embeddings.shape)\n",
    "    \n",
    "    embeddings_test = embed_model.predict(x_sentences_test)\n",
    "    print(\"shape test\",embeddings_test.shape)\n",
    "    \n",
    "    embed_model.summary()"
   ]
  },
  {
   "cell_type": "code",
   "execution_count": 31,
   "id": "a36e7f60",
   "metadata": {
    "execution": {
     "iopub.execute_input": "2022-12-23T11:48:11.138140Z",
     "iopub.status.busy": "2022-12-23T11:48:11.137631Z",
     "iopub.status.idle": "2022-12-23T11:48:11.172776Z",
     "shell.execute_reply": "2022-12-23T11:48:11.171462Z"
    },
    "papermill": {
     "duration": 0.054014,
     "end_time": "2022-12-23T11:48:11.175416",
     "exception": false,
     "start_time": "2022-12-23T11:48:11.121402",
     "status": "completed"
    },
    "tags": []
   },
   "outputs": [
    {
     "name": "stdout",
     "output_type": "stream",
     "text": [
      "CPU times: user 6 µs, sys: 0 ns, total: 6 µs\n",
      "Wall time: 10.3 µs\n"
     ]
    }
   ],
   "source": [
    "%%time\n",
    "if description[\"Word2Vec\"][\"actif\"]:\n",
    "    with ignore_warnings(category=exceptions.ConvergenceWarning):\n",
    "        OvsRSVC_word2vec = multiclass.OneVsRestClassifier(\n",
    "            svm.SVC(cache_size=1080, max_iter=10_000 if LONG else 100, random_state=42)\n",
    "        ).fit(embeddings, y_train)\n",
    "        #    ).fit(embeddings, tags_are_in(df[0:10_000], target_names))"
   ]
  },
  {
   "cell_type": "code",
   "execution_count": 32,
   "id": "2df58d7c",
   "metadata": {
    "execution": {
     "iopub.execute_input": "2022-12-23T11:48:11.203590Z",
     "iopub.status.busy": "2022-12-23T11:48:11.203190Z",
     "iopub.status.idle": "2022-12-23T11:48:11.221230Z",
     "shell.execute_reply": "2022-12-23T11:48:11.219624Z"
    },
    "papermill": {
     "duration": 0.035751,
     "end_time": "2022-12-23T11:48:11.224356",
     "exception": false,
     "start_time": "2022-12-23T11:48:11.188605",
     "status": "completed"
    },
    "tags": []
   },
   "outputs": [
    {
     "name": "stdout",
     "output_type": "stream",
     "text": [
      "CPU times: user 7 µs, sys: 0 ns, total: 7 µs\n",
      "Wall time: 13.1 µs\n"
     ]
    }
   ],
   "source": [
    "%%time\n",
    "if description[\"Word2Vec\"][\"actif\"]:\n",
    "    pred_word2vec = OvsRSVC_word2vec.predict(embeddings_test)\n",
    "    pred_word2vec"
   ]
  },
  {
   "cell_type": "code",
   "execution_count": 33,
   "id": "fbeba989",
   "metadata": {
    "execution": {
     "iopub.execute_input": "2022-12-23T11:48:11.269047Z",
     "iopub.status.busy": "2022-12-23T11:48:11.268520Z",
     "iopub.status.idle": "2022-12-23T11:48:11.291591Z",
     "shell.execute_reply": "2022-12-23T11:48:11.290386Z"
    },
    "papermill": {
     "duration": 0.047287,
     "end_time": "2022-12-23T11:48:11.294374",
     "exception": false,
     "start_time": "2022-12-23T11:48:11.247087",
     "status": "completed"
    },
    "tags": []
   },
   "outputs": [],
   "source": [
    "if description[\"Word2Vec\"][\"actif\"]:\n",
    "    scores_word2vec = save_score(y_test,pred_word2vec,target_names, \"word2vec\")\n",
    "    scores_word2vec.sort_values(by=\"precision\", ascending=False)"
   ]
  },
  {
   "cell_type": "markdown",
   "id": "05cc7f12",
   "metadata": {
    "papermill": {
     "duration": 0.01429,
     "end_time": "2022-12-23T11:48:11.322836",
     "exception": false,
     "start_time": "2022-12-23T11:48:11.308546",
     "status": "completed"
    },
    "tags": []
   },
   "source": [
    "# BERT"
   ]
  },
  {
   "cell_type": "markdown",
   "id": "cfddb3b4",
   "metadata": {
    "papermill": {
     "duration": 0.01454,
     "end_time": "2022-12-23T11:48:11.351669",
     "exception": false,
     "start_time": "2022-12-23T11:48:11.337129",
     "status": "completed"
    },
    "tags": []
   },
   "source": [
    "# USE"
   ]
  }
 ],
 "metadata": {
  "kernelspec": {
   "display_name": "Python 3",
   "language": "python",
   "name": "python3"
  },
  "language_info": {
   "codemirror_mode": {
    "name": "ipython",
    "version": 3
   },
   "file_extension": ".py",
   "mimetype": "text/x-python",
   "name": "python",
   "nbconvert_exporter": "python",
   "pygments_lexer": "ipython3",
   "version": "3.7.12"
  },
  "papermill": {
   "default_parameters": {},
   "duration": 9487.20057,
   "end_time": "2022-12-23T11:48:14.114825",
   "environment_variables": {},
   "exception": null,
   "input_path": "__notebook__.ipynb",
   "output_path": "__notebook__.ipynb",
   "parameters": {},
   "start_time": "2022-12-23T09:10:06.914255",
   "version": "2.3.4"
  },
  "widgets": {
   "application/vnd.jupyter.widget-state+json": {
    "state": {
     "21a3becff6cd49219b26095abf419551": {
      "model_module": "@jupyter-widgets/controls",
      "model_module_version": "1.5.0",
      "model_name": "SliderStyleModel",
      "state": {
       "_model_module": "@jupyter-widgets/controls",
       "_model_module_version": "1.5.0",
       "_model_name": "SliderStyleModel",
       "_view_count": null,
       "_view_module": "@jupyter-widgets/base",
       "_view_module_version": "1.2.0",
       "_view_name": "StyleView",
       "description_width": "",
       "handle_color": null
      }
     },
     "4bfaf14047e64674b777c1956268fe67": {
      "model_module": "@jupyter-widgets/output",
      "model_module_version": "1.0.0",
      "model_name": "OutputModel",
      "state": {
       "_dom_classes": [],
       "_model_module": "@jupyter-widgets/output",
       "_model_module_version": "1.0.0",
       "_model_name": "OutputModel",
       "_view_count": null,
       "_view_module": "@jupyter-widgets/output",
       "_view_module_version": "1.0.0",
       "_view_name": "OutputView",
       "layout": "IPY_MODEL_7f283acbdac7483b9f7a839490e1aa47",
       "msg_id": "",
       "outputs": [
        {
         "name": "stdout",
         "output_type": "stream",
         "text": "Title:How to change culture to a DateTimepicker or calendar control in .Net\n******************************\nTitle_clean:change culture datetimepicker calendar control\n******************************\nBody:<p>How to set internationalization to a <code>DateTimepicker</code> or <code>Calendar WinForm</code> control in .Net when the desire culture is different to the one installed in the PC?</p>\n\n******************************\nBody_clean:set internationalization datetimepicker calendar winform control .net desire culture instal pc\n******************************\nCode:DateTimepicker Calendar WinForm\n******************************\nTags:c# .net internationalization datetimepicker culture\n"
        }
       ]
      }
     },
     "7f283acbdac7483b9f7a839490e1aa47": {
      "model_module": "@jupyter-widgets/base",
      "model_module_version": "1.2.0",
      "model_name": "LayoutModel",
      "state": {
       "_model_module": "@jupyter-widgets/base",
       "_model_module_version": "1.2.0",
       "_model_name": "LayoutModel",
       "_view_count": null,
       "_view_module": "@jupyter-widgets/base",
       "_view_module_version": "1.2.0",
       "_view_name": "LayoutView",
       "align_content": null,
       "align_items": null,
       "align_self": null,
       "border": null,
       "bottom": null,
       "display": null,
       "flex": null,
       "flex_flow": null,
       "grid_area": null,
       "grid_auto_columns": null,
       "grid_auto_flow": null,
       "grid_auto_rows": null,
       "grid_column": null,
       "grid_gap": null,
       "grid_row": null,
       "grid_template_areas": null,
       "grid_template_columns": null,
       "grid_template_rows": null,
       "height": null,
       "justify_content": null,
       "justify_items": null,
       "left": null,
       "margin": null,
       "max_height": null,
       "max_width": null,
       "min_height": null,
       "min_width": null,
       "object_fit": null,
       "object_position": null,
       "order": null,
       "overflow": null,
       "overflow_x": null,
       "overflow_y": null,
       "padding": null,
       "right": null,
       "top": null,
       "visibility": null,
       "width": null
      }
     },
     "e945c3c058ae4138af498e3179a1045a": {
      "model_module": "@jupyter-widgets/base",
      "model_module_version": "1.2.0",
      "model_name": "LayoutModel",
      "state": {
       "_model_module": "@jupyter-widgets/base",
       "_model_module_version": "1.2.0",
       "_model_name": "LayoutModel",
       "_view_count": null,
       "_view_module": "@jupyter-widgets/base",
       "_view_module_version": "1.2.0",
       "_view_name": "LayoutView",
       "align_content": null,
       "align_items": null,
       "align_self": null,
       "border": null,
       "bottom": null,
       "display": null,
       "flex": null,
       "flex_flow": null,
       "grid_area": null,
       "grid_auto_columns": null,
       "grid_auto_flow": null,
       "grid_auto_rows": null,
       "grid_column": null,
       "grid_gap": null,
       "grid_row": null,
       "grid_template_areas": null,
       "grid_template_columns": null,
       "grid_template_rows": null,
       "height": null,
       "justify_content": null,
       "justify_items": null,
       "left": null,
       "margin": null,
       "max_height": null,
       "max_width": null,
       "min_height": null,
       "min_width": null,
       "object_fit": null,
       "object_position": null,
       "order": null,
       "overflow": null,
       "overflow_x": null,
       "overflow_y": null,
       "padding": null,
       "right": null,
       "top": null,
       "visibility": null,
       "width": null
      }
     },
     "f349d86e81b14be284d314059c212722": {
      "model_module": "@jupyter-widgets/controls",
      "model_module_version": "1.5.0",
      "model_name": "VBoxModel",
      "state": {
       "_dom_classes": [
        "widget-interact"
       ],
       "_model_module": "@jupyter-widgets/controls",
       "_model_module_version": "1.5.0",
       "_model_name": "VBoxModel",
       "_view_count": null,
       "_view_module": "@jupyter-widgets/controls",
       "_view_module_version": "1.5.0",
       "_view_name": "VBoxView",
       "box_style": "",
       "children": [
        "IPY_MODEL_fab682ff1f1a4ef89b8e1b07583c2cd8",
        "IPY_MODEL_4bfaf14047e64674b777c1956268fe67"
       ],
       "layout": "IPY_MODEL_e945c3c058ae4138af498e3179a1045a"
      }
     },
     "fab682ff1f1a4ef89b8e1b07583c2cd8": {
      "model_module": "@jupyter-widgets/controls",
      "model_module_version": "1.5.0",
      "model_name": "IntSliderModel",
      "state": {
       "_dom_classes": [],
       "_model_module": "@jupyter-widgets/controls",
       "_model_module_version": "1.5.0",
       "_model_name": "IntSliderModel",
       "_view_count": null,
       "_view_module": "@jupyter-widgets/controls",
       "_view_module_version": "1.5.0",
       "_view_name": "IntSliderView",
       "continuous_update": true,
       "description": "i",
       "description_tooltip": null,
       "disabled": false,
       "layout": "IPY_MODEL_fd0595e093f34a11a0ee55efd7ab51ee",
       "max": 118441,
       "min": 0,
       "orientation": "horizontal",
       "readout": true,
       "readout_format": "d",
       "step": 1,
       "style": "IPY_MODEL_21a3becff6cd49219b26095abf419551",
       "value": 59220
      }
     },
     "fd0595e093f34a11a0ee55efd7ab51ee": {
      "model_module": "@jupyter-widgets/base",
      "model_module_version": "1.2.0",
      "model_name": "LayoutModel",
      "state": {
       "_model_module": "@jupyter-widgets/base",
       "_model_module_version": "1.2.0",
       "_model_name": "LayoutModel",
       "_view_count": null,
       "_view_module": "@jupyter-widgets/base",
       "_view_module_version": "1.2.0",
       "_view_name": "LayoutView",
       "align_content": null,
       "align_items": null,
       "align_self": null,
       "border": null,
       "bottom": null,
       "display": null,
       "flex": null,
       "flex_flow": null,
       "grid_area": null,
       "grid_auto_columns": null,
       "grid_auto_flow": null,
       "grid_auto_rows": null,
       "grid_column": null,
       "grid_gap": null,
       "grid_row": null,
       "grid_template_areas": null,
       "grid_template_columns": null,
       "grid_template_rows": null,
       "height": null,
       "justify_content": null,
       "justify_items": null,
       "left": null,
       "margin": null,
       "max_height": null,
       "max_width": null,
       "min_height": null,
       "min_width": null,
       "object_fit": null,
       "object_position": null,
       "order": null,
       "overflow": null,
       "overflow_x": null,
       "overflow_y": null,
       "padding": null,
       "right": null,
       "top": null,
       "visibility": null,
       "width": null
      }
     }
    },
    "version_major": 2,
    "version_minor": 0
   }
  }
 },
 "nbformat": 4,
 "nbformat_minor": 5
}
