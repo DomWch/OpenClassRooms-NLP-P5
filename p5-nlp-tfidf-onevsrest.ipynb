{
 "cells": [
  {
   "cell_type": "markdown",
   "id": "90aa73bd",
   "metadata": {
    "papermill": {
     "duration": 0.016394,
     "end_time": "2022-12-18T11:51:14.737050",
     "exception": false,
     "start_time": "2022-12-18T11:51:14.720656",
     "status": "completed"
    },
    "tags": []
   },
   "source": [
    "# Index\n",
    "* [Import](#index)\n",
    "* [Tokenization](#Tokenization)\n",
    "* [CountVectorizer](#CountVectorizer)\n",
    "* [Tfidf](#Tfidf)\n",
    "* [OvsRest](#OvsRest)\n",
    "    - [LogisticRegression](#LogisticRegression)\n",
    "    - [SVC](#SVC)\n",
    "* [Word2Vec](#Word2Vec)\n",
    "* [BERT](#BERT)\n",
    "* [USE](#USE)"
   ]
  },
  {
   "cell_type": "code",
   "execution_count": 1,
   "id": "e0b17137",
   "metadata": {
    "_cell_guid": "b1076dfc-b9ad-4769-8c92-a6c4dae69d19",
    "_uuid": "8f2839f25d086af736a60e9eeb907d3b93b6e0e5",
    "execution": {
     "iopub.execute_input": "2022-12-18T11:51:14.773833Z",
     "iopub.status.busy": "2022-12-18T11:51:14.772636Z",
     "iopub.status.idle": "2022-12-18T11:51:22.476032Z",
     "shell.execute_reply": "2022-12-18T11:51:22.474741Z"
    },
    "papermill": {
     "duration": 7.727259,
     "end_time": "2022-12-18T11:51:22.479463",
     "exception": false,
     "start_time": "2022-12-18T11:51:14.752204",
     "status": "completed"
    },
    "tags": []
   },
   "outputs": [],
   "source": [
    "import time\n",
    "\n",
    "# import warnings\n",
    "\n",
    "import numpy as np\n",
    "import pandas as pd\n",
    "import gensim\n",
    "\n",
    "# from gensim import (\n",
    "#     corpora,\n",
    "# )  # https://pypi.org/project/gensim/ #https://radimrehurek.com/gensim/auto_examples/core/run_topics_and_transformations.html#sphx-glr-auto-examples-core-run-topics-and-transformations-py\n",
    "from sklearn import (\n",
    "    metrics,\n",
    "    feature_extraction,\n",
    "    linear_model,\n",
    "    model_selection,\n",
    "    preprocessing,\n",
    "    cluster,\n",
    "    multiclass,\n",
    "    svm,\n",
    "    pipeline,\n",
    "    exceptions,\n",
    "    manifold,\n",
    ")\n",
    "from sklearn.utils._testing import ignore_warnings\n",
    "from tensorflow import keras\n",
    "\n",
    "# import nlpk"
   ]
  },
  {
   "cell_type": "code",
   "execution_count": 2,
   "id": "d5887307",
   "metadata": {
    "execution": {
     "iopub.execute_input": "2022-12-18T11:51:22.512068Z",
     "iopub.status.busy": "2022-12-18T11:51:22.511338Z",
     "iopub.status.idle": "2022-12-18T11:51:22.517868Z",
     "shell.execute_reply": "2022-12-18T11:51:22.516270Z"
    },
    "papermill": {
     "duration": 0.026101,
     "end_time": "2022-12-18T11:51:22.520320",
     "exception": false,
     "start_time": "2022-12-18T11:51:22.494219",
     "status": "completed"
    },
    "tags": []
   },
   "outputs": [],
   "source": [
    "class colors:\n",
    "    PURPLE = \"\\033[95m\"\n",
    "    BLUE = \"\\033[94m\"\n",
    "    CYAN = \"\\033[96m\"\n",
    "    GREEN = \"\\033[92m\"\n",
    "    YELLOW = \"\\033[93m\"\n",
    "    RED = \"\\033[91m\"\n",
    "    ENDC = \"\\033[0m\"\n",
    "    BOLD = \"\\033[1m\"\n",
    "    UNDERLINE = \"\\033[4m\""
   ]
  },
  {
   "cell_type": "markdown",
   "id": "e9dd2dad",
   "metadata": {
    "papermill": {
     "duration": 0.014461,
     "end_time": "2022-12-18T11:51:22.549941",
     "exception": false,
     "start_time": "2022-12-18T11:51:22.535480",
     "status": "completed"
    },
    "tags": []
   },
   "source": [
    "test https://scikit-learn.org/stable/modules/multiclass.html autre stategie que OneVsRest\n",
    "https://keras.io/examples/nlp/text_extraction_with_bert/"
   ]
  },
  {
   "cell_type": "code",
   "execution_count": 3,
   "id": "4070890f",
   "metadata": {
    "_kg_hide-output": true,
    "execution": {
     "iopub.execute_input": "2022-12-18T11:51:22.580240Z",
     "iopub.status.busy": "2022-12-18T11:51:22.579774Z",
     "iopub.status.idle": "2022-12-18T11:51:38.008501Z",
     "shell.execute_reply": "2022-12-18T11:51:38.006507Z"
    },
    "papermill": {
     "duration": 15.447247,
     "end_time": "2022-12-18T11:51:38.011565",
     "exception": false,
     "start_time": "2022-12-18T11:51:22.564318",
     "status": "completed"
    },
    "tags": []
   },
   "outputs": [
    {
     "name": "stdout",
     "output_type": "stream",
     "text": [
      "\u001b[33mWARNING: Running pip as the 'root' user can result in broken permissions and conflicting behaviour with the system package manager. It is recommended to use a virtual environment instead: https://pip.pypa.io/warnings/venv\u001b[0m\u001b[33m\r\n",
      "\u001b[0mNote: you may need to restart the kernel to use updated packages.\n"
     ]
    }
   ],
   "source": [
    "pip install -q jupyter-black jupyter"
   ]
  },
  {
   "cell_type": "code",
   "execution_count": 4,
   "id": "3dc25feb",
   "metadata": {
    "execution": {
     "iopub.execute_input": "2022-12-18T11:51:38.044025Z",
     "iopub.status.busy": "2022-12-18T11:51:38.043559Z",
     "iopub.status.idle": "2022-12-18T11:51:38.229663Z",
     "shell.execute_reply": "2022-12-18T11:51:38.228405Z"
    },
    "papermill": {
     "duration": 0.206158,
     "end_time": "2022-12-18T11:51:38.232669",
     "exception": false,
     "start_time": "2022-12-18T11:51:38.026511",
     "status": "completed"
    },
    "tags": []
   },
   "outputs": [
    {
     "data": {
      "text/html": [
       "\n",
       "                <script type=\"application/javascript\" id=\"jupyter_black\">\n",
       "                (function() {\n",
       "                    if (window.IPython === undefined) {\n",
       "                        return\n",
       "                    }\n",
       "                    var msg = \"WARNING: it looks like you might have loaded \" +\n",
       "                        \"jupyter_black in a non-lab notebook with \" +\n",
       "                        \"`is_lab=True`. Please double check, and if \" +\n",
       "                        \"loading with `%load_ext` please review the README!\"\n",
       "                    console.log(msg)\n",
       "                    alert(msg)\n",
       "                })()\n",
       "                </script>\n",
       "                "
      ],
      "text/plain": [
       "<IPython.core.display.HTML object>"
      ]
     },
     "metadata": {},
     "output_type": "display_data"
    }
   ],
   "source": [
    "# for black formating\n",
    "import jupyter_black  # pip install jupyter-black jupyter\n",
    "\n",
    "jupyter_black.load()\n",
    "# ??jupyter_black.load #show config"
   ]
  },
  {
   "cell_type": "code",
   "execution_count": 5,
   "id": "62852bf4",
   "metadata": {
    "execution": {
     "iopub.execute_input": "2022-12-18T11:51:38.265793Z",
     "iopub.status.busy": "2022-12-18T11:51:38.265363Z",
     "iopub.status.idle": "2022-12-18T11:51:47.950561Z",
     "shell.execute_reply": "2022-12-18T11:51:47.948869Z"
    },
    "papermill": {
     "duration": 9.704534,
     "end_time": "2022-12-18T11:51:47.953495",
     "exception": false,
     "start_time": "2022-12-18T11:51:38.248961",
     "status": "completed"
    },
    "tags": []
   },
   "outputs": [
    {
     "name": "stdout",
     "output_type": "stream",
     "text": [
      "<class 'pandas.core.frame.DataFrame'>\n",
      "Int64Index: 118442 entries, 0 to 118441\n",
      "Data columns (total 12 columns):\n",
      " #   Column       Non-Null Count   Dtype \n",
      "---  ------       --------------   ----- \n",
      " 0   Id           118442 non-null  int64 \n",
      " 1   Title        118442 non-null  object\n",
      " 2   Body         118442 non-null  object\n",
      " 3   0            118440 non-null  object\n",
      " 4   1            118383 non-null  object\n",
      " 5   2            118292 non-null  object\n",
      " 6   3            118292 non-null  object\n",
      " 7   4            76389 non-null   object\n",
      " 8   5            4 non-null       object\n",
      " 9   Title_clean  118389 non-null  object\n",
      " 10  Code         88202 non-null   object\n",
      " 11  Body_clean   118392 non-null  object\n",
      "dtypes: int64(1), object(11)\n",
      "memory usage: 11.7+ MB\n"
     ]
    }
   ],
   "source": [
    "LONG = False\n",
    "df = pd.read_csv(\n",
    "    \"/kaggle/input/p5-nlp/stackoverflowCleaned.csv\", index_col=0, low_memory=False\n",
    ")\n",
    "df.info()"
   ]
  },
  {
   "cell_type": "markdown",
   "id": "d7f1ee24",
   "metadata": {
    "papermill": {
     "duration": 0.014404,
     "end_time": "2022-12-18T11:51:47.982914",
     "exception": false,
     "start_time": "2022-12-18T11:51:47.968510",
     "status": "completed"
    },
    "tags": []
   },
   "source": [
    "# Tokenization"
   ]
  },
  {
   "cell_type": "code",
   "execution_count": 6,
   "id": "7cf67db7",
   "metadata": {
    "execution": {
     "iopub.execute_input": "2022-12-18T11:51:48.016225Z",
     "iopub.status.busy": "2022-12-18T11:51:48.015724Z",
     "iopub.status.idle": "2022-12-18T11:51:48.184403Z",
     "shell.execute_reply": "2022-12-18T11:51:48.183222Z"
    },
    "papermill": {
     "duration": 0.189298,
     "end_time": "2022-12-18T11:51:48.187070",
     "exception": false,
     "start_time": "2022-12-18T11:51:47.997772",
     "status": "completed"
    },
    "tags": []
   },
   "outputs": [
    {
     "data": {
      "application/vnd.jupyter.widget-view+json": {
       "model_id": "2bea55c098bd4577a3150000233f0bb9",
       "version_major": 2,
       "version_minor": 0
      },
      "text/plain": [
       "interactive(children=(IntSlider(value=59220, description='i', max=118441), Output()), _dom_classes=('widget-in…"
      ]
     },
     "metadata": {},
     "output_type": "display_data"
    }
   ],
   "source": [
    "from ipywidgets import interact\n",
    "\n",
    "\n",
    "@interact(i=(0, df.shape[0] - 1))\n",
    "def test_tr_print(i):\n",
    "    print(\n",
    "        f'Title:{df[\"Title\"][i]}\\n{\"*\"*30}\\nTitle_clean:{df[\"Title_clean\"][i]}\\n{\"*\"*30}\\nBody:{df[\"Body\"][i]}\\n{\"*\"*30}\\nBody_clean:{df[\"Body_clean\"][i]}\\n{\"*\"*30}\\nCode:{df[\"Code\"][i]}\\n{\"*\"*30}\\nTags:{df.loc[i,\"0\"]} {df.loc[i,\"1\"]} {df.loc[i,\"2\"]} {df.loc[i,\"3\"]} {df.loc[i,\"4\"]}'\n",
    "    )"
   ]
  },
  {
   "cell_type": "code",
   "execution_count": 7,
   "id": "417451d7",
   "metadata": {
    "execution": {
     "iopub.execute_input": "2022-12-18T11:51:48.222108Z",
     "iopub.status.busy": "2022-12-18T11:51:48.221655Z",
     "iopub.status.idle": "2022-12-18T11:51:48.253477Z",
     "shell.execute_reply": "2022-12-18T11:51:48.252260Z"
    },
    "papermill": {
     "duration": 0.052592,
     "end_time": "2022-12-18T11:51:48.256136",
     "exception": false,
     "start_time": "2022-12-18T11:51:48.203544",
     "status": "completed"
    },
    "tags": []
   },
   "outputs": [
    {
     "data": {
      "text/plain": [
       "53"
      ]
     },
     "execution_count": 7,
     "metadata": {},
     "output_type": "execute_result"
    }
   ],
   "source": [
    "sum(df[\"Title_clean\"].isna())"
   ]
  },
  {
   "cell_type": "code",
   "execution_count": 8,
   "id": "c47c3348",
   "metadata": {
    "execution": {
     "iopub.execute_input": "2022-12-18T11:51:48.289707Z",
     "iopub.status.busy": "2022-12-18T11:51:48.288470Z",
     "iopub.status.idle": "2022-12-18T11:51:48.333356Z",
     "shell.execute_reply": "2022-12-18T11:51:48.331948Z"
    },
    "papermill": {
     "duration": 0.06494,
     "end_time": "2022-12-18T11:51:48.336341",
     "exception": false,
     "start_time": "2022-12-18T11:51:48.271401",
     "status": "completed"
    },
    "tags": []
   },
   "outputs": [
    {
     "data": {
      "text/html": [
       "<div>\n",
       "<style scoped>\n",
       "    .dataframe tbody tr th:only-of-type {\n",
       "        vertical-align: middle;\n",
       "    }\n",
       "\n",
       "    .dataframe tbody tr th {\n",
       "        vertical-align: top;\n",
       "    }\n",
       "\n",
       "    .dataframe thead th {\n",
       "        text-align: right;\n",
       "    }\n",
       "</style>\n",
       "<table border=\"1\" class=\"dataframe\">\n",
       "  <thead>\n",
       "    <tr style=\"text-align: right;\">\n",
       "      <th></th>\n",
       "      <th>Title</th>\n",
       "      <th>Title_clean</th>\n",
       "      <th>Body</th>\n",
       "      <th>Body_clean</th>\n",
       "      <th>0</th>\n",
       "      <th>1</th>\n",
       "      <th>2</th>\n",
       "      <th>3</th>\n",
       "      <th>4</th>\n",
       "    </tr>\n",
       "  </thead>\n",
       "  <tbody>\n",
       "    <tr>\n",
       "      <th>302</th>\n",
       "      <td>Is &lt; faster than &lt;=?</td>\n",
       "      <td>NaN</td>\n",
       "      <td>&lt;p&gt;Is &lt;code&gt;if (a &amp;lt; 901)&lt;/code&gt; faster than...</td>\n",
       "      <td>example performance change loop code suppose g...</td>\n",
       "      <td>c++</td>\n",
       "      <td>c</td>\n",
       "      <td>performance</td>\n",
       "      <td>assembly</td>\n",
       "      <td>relational-operators</td>\n",
       "    </tr>\n",
       "    <tr>\n",
       "      <th>393</th>\n",
       "      <td>What is setup.py?</td>\n",
       "      <td>NaN</td>\n",
       "      <td>&lt;p&gt;What is &lt;code&gt;setup.py&lt;/code&gt; and how can i...</td>\n",
       "      <td>configure</td>\n",
       "      <td>python</td>\n",
       "      <td>pypi</td>\n",
       "      <td>setup.py</td>\n",
       "      <td>python-packaging</td>\n",
       "      <td>NaN</td>\n",
       "    </tr>\n",
       "    <tr>\n",
       "      <th>1437</th>\n",
       "      <td>What is related_name used for?</td>\n",
       "      <td>NaN</td>\n",
       "      <td>&lt;p&gt;What is the &lt;code&gt;related_name&lt;/code&gt; argum...</td>\n",
       "      <td>argument manytomanyfield foreignkey field exam...</td>\n",
       "      <td>python</td>\n",
       "      <td>django</td>\n",
       "      <td>foreign-keys</td>\n",
       "      <td>many-to-many</td>\n",
       "      <td>NaN</td>\n",
       "    </tr>\n",
       "    <tr>\n",
       "      <th>4062</th>\n",
       "      <td>What is \"android:allowBackup\"?</td>\n",
       "      <td>NaN</td>\n",
       "      <td>&lt;p&gt;Since the &lt;a href=\"http://tools.android.com...</td>\n",
       "      <td>adt preview version version lint warning tell ...</td>\n",
       "      <td>android</td>\n",
       "      <td>adt</td>\n",
       "      <td>compiler-warnings</td>\n",
       "      <td>android-lint</td>\n",
       "      <td>android-backup-service</td>\n",
       "    </tr>\n",
       "    <tr>\n",
       "      <th>4870</th>\n",
       "      <td>Why is 0 &lt; -0x80000000?</td>\n",
       "      <td>NaN</td>\n",
       "      <td>&lt;p&gt;I have below a simple program:&lt;/p&gt;\\n\\n&lt;pre&gt;...</td>\n",
       "      <td>program condition if(bal int32_min work change...</td>\n",
       "      <td>c</td>\n",
       "      <td>signed</td>\n",
       "      <td>numeric-limits</td>\n",
       "      <td>numeric-conversion</td>\n",
       "      <td>NaN</td>\n",
       "    </tr>\n",
       "  </tbody>\n",
       "</table>\n",
       "</div>"
      ],
      "text/plain": [
       "                               Title Title_clean  \\\n",
       "302             Is < faster than <=?         NaN   \n",
       "393                What is setup.py?         NaN   \n",
       "1437  What is related_name used for?         NaN   \n",
       "4062  What is \"android:allowBackup\"?         NaN   \n",
       "4870         Why is 0 < -0x80000000?         NaN   \n",
       "\n",
       "                                                   Body  \\\n",
       "302   <p>Is <code>if (a &lt; 901)</code> faster than...   \n",
       "393   <p>What is <code>setup.py</code> and how can i...   \n",
       "1437  <p>What is the <code>related_name</code> argum...   \n",
       "4062  <p>Since the <a href=\"http://tools.android.com...   \n",
       "4870  <p>I have below a simple program:</p>\\n\\n<pre>...   \n",
       "\n",
       "                                             Body_clean        0       1  \\\n",
       "302   example performance change loop code suppose g...      c++       c   \n",
       "393                                           configure   python    pypi   \n",
       "1437  argument manytomanyfield foreignkey field exam...   python  django   \n",
       "4062  adt preview version version lint warning tell ...  android     adt   \n",
       "4870  program condition if(bal int32_min work change...        c  signed   \n",
       "\n",
       "                      2                   3                       4  \n",
       "302         performance            assembly    relational-operators  \n",
       "393            setup.py    python-packaging                     NaN  \n",
       "1437       foreign-keys        many-to-many                     NaN  \n",
       "4062  compiler-warnings        android-lint  android-backup-service  \n",
       "4870     numeric-limits  numeric-conversion                     NaN  "
      ]
     },
     "execution_count": 8,
     "metadata": {},
     "output_type": "execute_result"
    }
   ],
   "source": [
    "df[df[\"Title_clean\"].isna()][\n",
    "    [\"Title\", \"Title_clean\", \"Body\", \"Body_clean\", \"0\", \"1\", \"2\", \"3\", \"4\"]\n",
    "].head(5)"
   ]
  },
  {
   "cell_type": "code",
   "execution_count": 9,
   "id": "de958201",
   "metadata": {
    "execution": {
     "iopub.execute_input": "2022-12-18T11:51:48.369091Z",
     "iopub.status.busy": "2022-12-18T11:51:48.368667Z",
     "iopub.status.idle": "2022-12-18T11:51:48.443965Z",
     "shell.execute_reply": "2022-12-18T11:51:48.442429Z"
    },
    "papermill": {
     "duration": 0.095086,
     "end_time": "2022-12-18T11:51:48.446908",
     "exception": false,
     "start_time": "2022-12-18T11:51:48.351822",
     "status": "completed"
    },
    "tags": []
   },
   "outputs": [
    {
     "name": "stdout",
     "output_type": "stream",
     "text": [
      "50\n"
     ]
    },
    {
     "data": {
      "text/html": [
       "<div>\n",
       "<style scoped>\n",
       "    .dataframe tbody tr th:only-of-type {\n",
       "        vertical-align: middle;\n",
       "    }\n",
       "\n",
       "    .dataframe tbody tr th {\n",
       "        vertical-align: top;\n",
       "    }\n",
       "\n",
       "    .dataframe thead th {\n",
       "        text-align: right;\n",
       "    }\n",
       "</style>\n",
       "<table border=\"1\" class=\"dataframe\">\n",
       "  <thead>\n",
       "    <tr style=\"text-align: right;\">\n",
       "      <th></th>\n",
       "      <th>Title</th>\n",
       "      <th>Title_clean</th>\n",
       "      <th>Body</th>\n",
       "      <th>Body_clean</th>\n",
       "      <th>Code</th>\n",
       "    </tr>\n",
       "  </thead>\n",
       "  <tbody>\n",
       "    <tr>\n",
       "      <th>5</th>\n",
       "      <td>What and where are the stack and heap?</td>\n",
       "      <td>stack heap</td>\n",
       "      <td>&lt;ul&gt;\\n&lt;li&gt;What are the stack and heap?&lt;/li&gt;\\n&lt;...</td>\n",
       "      <td>NaN</td>\n",
       "      <td>NaN</td>\n",
       "    </tr>\n",
       "    <tr>\n",
       "      <th>168</th>\n",
       "      <td>What is The Rule of Three?</td>\n",
       "      <td>rule</td>\n",
       "      <td>&lt;ul&gt;\\n&lt;li&gt;What does &lt;em&gt;copying an object&lt;/em&gt;...</td>\n",
       "      <td>NaN</td>\n",
       "      <td>NaN</td>\n",
       "    </tr>\n",
       "    <tr>\n",
       "      <th>828</th>\n",
       "      <td>Why are these constructs using pre and post-in...</td>\n",
       "      <td>construct pre behavior</td>\n",
       "      <td>&lt;pre&gt;&lt;code&gt;#include &amp;lt;stdio.h&amp;gt;\\n\\nint mai...</td>\n",
       "      <td>NaN</td>\n",
       "      <td>#include &lt;stdio.h&gt;\\n\\nint main(void)\\n{\\n   in...</td>\n",
       "    </tr>\n",
       "    <tr>\n",
       "      <th>1207</th>\n",
       "      <td>How to use ADB Shell when Multiple Devices are...</td>\n",
       "      <td>use adb shell multiple device connect fail err...</td>\n",
       "      <td>&lt;pre&gt;&lt;code&gt;$ adb --help\\n&lt;/code&gt;&lt;/pre&gt;\\n&lt;hr /&gt;...</td>\n",
       "      <td>NaN</td>\n",
       "      <td>$ adb --help\\n -s SERIAL  use device with give...</td>\n",
       "    </tr>\n",
       "    <tr>\n",
       "      <th>1640</th>\n",
       "      <td>What are the advantages of list initialization...</td>\n",
       "      <td>advantage list initialization brace</td>\n",
       "      <td>&lt;pre&gt;&lt;code&gt;MyClass a1 {a};     // clearer and ...</td>\n",
       "      <td>NaN</td>\n",
       "      <td>MyClass a1 {a};     // clearer and less error-...</td>\n",
       "    </tr>\n",
       "  </tbody>\n",
       "</table>\n",
       "</div>"
      ],
      "text/plain": [
       "                                                  Title  \\\n",
       "5                What and where are the stack and heap?   \n",
       "168                          What is The Rule of Three?   \n",
       "828   Why are these constructs using pre and post-in...   \n",
       "1207  How to use ADB Shell when Multiple Devices are...   \n",
       "1640  What are the advantages of list initialization...   \n",
       "\n",
       "                                            Title_clean  \\\n",
       "5                                            stack heap   \n",
       "168                                                rule   \n",
       "828                              construct pre behavior   \n",
       "1207  use adb shell multiple device connect fail err...   \n",
       "1640                advantage list initialization brace   \n",
       "\n",
       "                                                   Body Body_clean  \\\n",
       "5     <ul>\\n<li>What are the stack and heap?</li>\\n<...        NaN   \n",
       "168   <ul>\\n<li>What does <em>copying an object</em>...        NaN   \n",
       "828   <pre><code>#include &lt;stdio.h&gt;\\n\\nint mai...        NaN   \n",
       "1207  <pre><code>$ adb --help\\n</code></pre>\\n<hr />...        NaN   \n",
       "1640  <pre><code>MyClass a1 {a};     // clearer and ...        NaN   \n",
       "\n",
       "                                                   Code  \n",
       "5                                                   NaN  \n",
       "168                                                 NaN  \n",
       "828   #include <stdio.h>\\n\\nint main(void)\\n{\\n   in...  \n",
       "1207  $ adb --help\\n -s SERIAL  use device with give...  \n",
       "1640  MyClass a1 {a};     // clearer and less error-...  "
      ]
     },
     "execution_count": 9,
     "metadata": {},
     "output_type": "execute_result"
    }
   ],
   "source": [
    "print(sum(df[\"Body_clean\"].isna()))\n",
    "df[df[\"Body_clean\"].isna()][\n",
    "    [\"Title\", \"Title_clean\", \"Body\", \"Body_clean\", \"Code\"]\n",
    "].head(5)"
   ]
  },
  {
   "cell_type": "code",
   "execution_count": 10,
   "id": "11a5aeda",
   "metadata": {
    "execution": {
     "iopub.execute_input": "2022-12-18T11:51:48.481778Z",
     "iopub.status.busy": "2022-12-18T11:51:48.481345Z",
     "iopub.status.idle": "2022-12-18T11:51:48.518370Z",
     "shell.execute_reply": "2022-12-18T11:51:48.517351Z"
    },
    "papermill": {
     "duration": 0.057632,
     "end_time": "2022-12-18T11:51:48.521015",
     "exception": false,
     "start_time": "2022-12-18T11:51:48.463383",
     "status": "completed"
    },
    "tags": []
   },
   "outputs": [
    {
     "data": {
      "text/plain": [
       "0"
      ]
     },
     "execution_count": 10,
     "metadata": {},
     "output_type": "execute_result"
    }
   ],
   "source": [
    "len(df[df[\"Body_clean\"].isna() & df[\"Title_clean\"].isna()])"
   ]
  },
  {
   "cell_type": "code",
   "execution_count": 11,
   "id": "4bd7173f",
   "metadata": {
    "execution": {
     "iopub.execute_input": "2022-12-18T11:51:48.554983Z",
     "iopub.status.busy": "2022-12-18T11:51:48.554548Z",
     "iopub.status.idle": "2022-12-18T11:51:48.687757Z",
     "shell.execute_reply": "2022-12-18T11:51:48.686479Z"
    },
    "papermill": {
     "duration": 0.153463,
     "end_time": "2022-12-18T11:51:48.690560",
     "exception": false,
     "start_time": "2022-12-18T11:51:48.537097",
     "status": "completed"
    },
    "tags": []
   },
   "outputs": [
    {
     "data": {
      "text/plain": [
       "103"
      ]
     },
     "execution_count": 11,
     "metadata": {},
     "output_type": "execute_result"
    }
   ],
   "source": [
    "sum((df[\"Title_clean\"] + df[\"Body_clean\"]).isna())"
   ]
  },
  {
   "cell_type": "code",
   "execution_count": 12,
   "id": "9f9e26f9",
   "metadata": {
    "execution": {
     "iopub.execute_input": "2022-12-18T11:51:48.728134Z",
     "iopub.status.busy": "2022-12-18T11:51:48.727272Z",
     "iopub.status.idle": "2022-12-18T11:51:48.807321Z",
     "shell.execute_reply": "2022-12-18T11:51:48.805863Z"
    },
    "papermill": {
     "duration": 0.102632,
     "end_time": "2022-12-18T11:51:48.810211",
     "exception": false,
     "start_time": "2022-12-18T11:51:48.707579",
     "status": "completed"
    },
    "tags": []
   },
   "outputs": [
    {
     "data": {
      "text/html": [
       "<div>\n",
       "<style scoped>\n",
       "    .dataframe tbody tr th:only-of-type {\n",
       "        vertical-align: middle;\n",
       "    }\n",
       "\n",
       "    .dataframe tbody tr th {\n",
       "        vertical-align: top;\n",
       "    }\n",
       "\n",
       "    .dataframe thead th {\n",
       "        text-align: right;\n",
       "    }\n",
       "</style>\n",
       "<table border=\"1\" class=\"dataframe\">\n",
       "  <thead>\n",
       "    <tr style=\"text-align: right;\">\n",
       "      <th></th>\n",
       "      <th>javascript</th>\n",
       "      <th>java</th>\n",
       "      <th>c#</th>\n",
       "      <th>python</th>\n",
       "      <th>html</th>\n",
       "      <th>git</th>\n",
       "      <th>php</th>\n",
       "    </tr>\n",
       "  </thead>\n",
       "  <tbody>\n",
       "    <tr>\n",
       "      <th>10001</th>\n",
       "      <td>True</td>\n",
       "      <td>False</td>\n",
       "      <td>False</td>\n",
       "      <td>False</td>\n",
       "      <td>True</td>\n",
       "      <td>False</td>\n",
       "      <td>False</td>\n",
       "    </tr>\n",
       "    <tr>\n",
       "      <th>10002</th>\n",
       "      <td>False</td>\n",
       "      <td>True</td>\n",
       "      <td>False</td>\n",
       "      <td>False</td>\n",
       "      <td>False</td>\n",
       "      <td>False</td>\n",
       "      <td>False</td>\n",
       "    </tr>\n",
       "    <tr>\n",
       "      <th>10003</th>\n",
       "      <td>False</td>\n",
       "      <td>False</td>\n",
       "      <td>True</td>\n",
       "      <td>False</td>\n",
       "      <td>False</td>\n",
       "      <td>False</td>\n",
       "      <td>False</td>\n",
       "    </tr>\n",
       "    <tr>\n",
       "      <th>10004</th>\n",
       "      <td>False</td>\n",
       "      <td>False</td>\n",
       "      <td>False</td>\n",
       "      <td>False</td>\n",
       "      <td>True</td>\n",
       "      <td>False</td>\n",
       "      <td>False</td>\n",
       "    </tr>\n",
       "    <tr>\n",
       "      <th>10005</th>\n",
       "      <td>False</td>\n",
       "      <td>False</td>\n",
       "      <td>False</td>\n",
       "      <td>False</td>\n",
       "      <td>False</td>\n",
       "      <td>False</td>\n",
       "      <td>False</td>\n",
       "    </tr>\n",
       "    <tr>\n",
       "      <th>...</th>\n",
       "      <td>...</td>\n",
       "      <td>...</td>\n",
       "      <td>...</td>\n",
       "      <td>...</td>\n",
       "      <td>...</td>\n",
       "      <td>...</td>\n",
       "      <td>...</td>\n",
       "    </tr>\n",
       "    <tr>\n",
       "      <th>15045</th>\n",
       "      <td>False</td>\n",
       "      <td>False</td>\n",
       "      <td>False</td>\n",
       "      <td>False</td>\n",
       "      <td>False</td>\n",
       "      <td>False</td>\n",
       "      <td>False</td>\n",
       "    </tr>\n",
       "    <tr>\n",
       "      <th>15046</th>\n",
       "      <td>False</td>\n",
       "      <td>False</td>\n",
       "      <td>False</td>\n",
       "      <td>False</td>\n",
       "      <td>False</td>\n",
       "      <td>False</td>\n",
       "      <td>False</td>\n",
       "    </tr>\n",
       "    <tr>\n",
       "      <th>15047</th>\n",
       "      <td>True</td>\n",
       "      <td>False</td>\n",
       "      <td>False</td>\n",
       "      <td>False</td>\n",
       "      <td>False</td>\n",
       "      <td>False</td>\n",
       "      <td>False</td>\n",
       "    </tr>\n",
       "    <tr>\n",
       "      <th>15048</th>\n",
       "      <td>False</td>\n",
       "      <td>False</td>\n",
       "      <td>False</td>\n",
       "      <td>False</td>\n",
       "      <td>False</td>\n",
       "      <td>False</td>\n",
       "      <td>False</td>\n",
       "    </tr>\n",
       "    <tr>\n",
       "      <th>15049</th>\n",
       "      <td>False</td>\n",
       "      <td>False</td>\n",
       "      <td>False</td>\n",
       "      <td>False</td>\n",
       "      <td>False</td>\n",
       "      <td>False</td>\n",
       "      <td>False</td>\n",
       "    </tr>\n",
       "  </tbody>\n",
       "</table>\n",
       "<p>5049 rows × 7 columns</p>\n",
       "</div>"
      ],
      "text/plain": [
       "       javascript   java     c#  python   html    git    php\n",
       "10001        True  False  False   False   True  False  False\n",
       "10002       False   True  False   False  False  False  False\n",
       "10003       False  False   True   False  False  False  False\n",
       "10004       False  False  False   False   True  False  False\n",
       "10005       False  False  False   False  False  False  False\n",
       "...           ...    ...    ...     ...    ...    ...    ...\n",
       "15045       False  False  False   False  False  False  False\n",
       "15046       False  False  False   False  False  False  False\n",
       "15047        True  False  False   False  False  False  False\n",
       "15048       False  False  False   False  False  False  False\n",
       "15049       False  False  False   False  False  False  False\n",
       "\n",
       "[5049 rows x 7 columns]"
      ]
     },
     "execution_count": 12,
     "metadata": {},
     "output_type": "execute_result"
    }
   ],
   "source": [
    "def tag_is_in(df: pd.DataFrame(), tag: str, nb_cols: int = 6):\n",
    "    return eval(\"|\".join(f'(df[\"{i}\"] == \"{tag}\")' for i in range(0, nb_cols)))\n",
    "\n",
    "\n",
    "def tags_are_in(df: pd.DataFrame(), tags: list):\n",
    "    return pd.DataFrame({tag: tag_is_in(df, tag) for tag in tags})\n",
    "\n",
    "\n",
    "# tags_are_in(df, [\"javascript\",\"java\"])\n",
    "tags_are_in(\n",
    "    df[10001:15050], [\"javascript\", \"java\", \"c#\", \"python\", \"html\", \"git\", \"php\"]\n",
    ")"
   ]
  },
  {
   "cell_type": "code",
   "execution_count": 13,
   "id": "4aa0e3f5",
   "metadata": {
    "execution": {
     "iopub.execute_input": "2022-12-18T11:51:48.846803Z",
     "iopub.status.busy": "2022-12-18T11:51:48.846254Z",
     "iopub.status.idle": "2022-12-18T11:51:49.080660Z",
     "shell.execute_reply": "2022-12-18T11:51:49.079683Z"
    },
    "papermill": {
     "duration": 0.255339,
     "end_time": "2022-12-18T11:51:49.083147",
     "exception": false,
     "start_time": "2022-12-18T11:51:48.827808",
     "status": "completed"
    },
    "tags": []
   },
   "outputs": [
    {
     "data": {
      "text/plain": [
       "['java',\n",
       " 'c#',\n",
       " 'javascript',\n",
       " 'python',\n",
       " 'android',\n",
       " 'c++',\n",
       " 'ios',\n",
       " 'html',\n",
       " 'php',\n",
       " '.net',\n",
       " 'jquery',\n",
       " 'css',\n",
       " 'objective-c',\n",
       " 'c',\n",
       " 'sql',\n",
       " 'iphone',\n",
       " 'asp.net',\n",
       " 'mysql',\n",
       " 'linux',\n",
       " 'node.js',\n",
       " 'git']"
      ]
     },
     "execution_count": 13,
     "metadata": {},
     "output_type": "execute_result"
    }
   ],
   "source": [
    "tags = df[[\"0\", \"1\", \"2\", \"3\", \"4\", \"5\"]].stack()\n",
    "target_names = [\n",
    "    tag\n",
    "    for tag, freq in tags.reset_index(drop=True).value_counts(normalize=True).items()\n",
    "    if freq > 0.002\n",
    "]\n",
    "if not LONG:\n",
    "    target_names = target_names[0:20] + [\"git\"]\n",
    "target_names"
   ]
  },
  {
   "cell_type": "markdown",
   "id": "3e7284ff",
   "metadata": {
    "papermill": {
     "duration": 0.01623,
     "end_time": "2022-12-18T11:51:49.115984",
     "exception": false,
     "start_time": "2022-12-18T11:51:49.099754",
     "status": "completed"
    },
    "tags": []
   },
   "source": [
    "# CountVectorizer"
   ]
  },
  {
   "cell_type": "code",
   "execution_count": 14,
   "id": "a44a1414",
   "metadata": {
    "execution": {
     "iopub.execute_input": "2022-12-18T11:51:49.152209Z",
     "iopub.status.busy": "2022-12-18T11:51:49.151760Z",
     "iopub.status.idle": "2022-12-18T11:51:50.819800Z",
     "shell.execute_reply": "2022-12-18T11:51:50.818520Z"
    },
    "papermill": {
     "duration": 1.69046,
     "end_time": "2022-12-18T11:51:50.823099",
     "exception": false,
     "start_time": "2022-12-18T11:51:49.132639",
     "status": "completed"
    },
    "tags": []
   },
   "outputs": [
    {
     "name": "stdout",
     "output_type": "stream",
     "text": [
      "99.99409% des questions ont plus d'un tokens\n"
     ]
    }
   ],
   "source": [
    "df[\"Token\"] = df[\"Title_clean\"].fillna(\"\") + df[\"Body_clean\"].fillna(\"\")\n",
    "print(\n",
    "    f\"{len(df[[len(token.split()) > 1 for token in df['Token']]])/len(df):.5%} des questions ont plus d'un tokens\"\n",
    "    if len(df[df[\"Token\"] == \"\"]) == 0\n",
    "    else f\"{len(df[df['Token'] == ''])} questions n'ont pas de token\"\n",
    ")\n",
    "X_train, X_test, y_train, y_test = model_selection.train_test_split(\n",
    "    df[\"Token\"], tags_are_in(df, target_names), random_state=42\n",
    ")"
   ]
  },
  {
   "cell_type": "code",
   "execution_count": 15,
   "id": "2c582494",
   "metadata": {
    "execution": {
     "iopub.execute_input": "2022-12-18T11:51:50.860880Z",
     "iopub.status.busy": "2022-12-18T11:51:50.860443Z",
     "iopub.status.idle": "2022-12-18T11:51:50.938099Z",
     "shell.execute_reply": "2022-12-18T11:51:50.935970Z"
    },
    "papermill": {
     "duration": 0.100577,
     "end_time": "2022-12-18T11:51:50.941787",
     "exception": false,
     "start_time": "2022-12-18T11:51:50.841210",
     "status": "completed"
    },
    "tags": []
   },
   "outputs": [
    {
     "name": "stdout",
     "output_type": "stream",
     "text": [
      "\u001b[1mjava\u001b[0m\n",
      "\t Sur entrainement \u001b[92m12.05%\u001b[0m positif \u001b[91m87.95%\u001b[0m negatif\n",
      "\t Sur test \u001b[92m12.02%\u001b[0m positif \u001b[91m87.98%\u001b[0m negatif\n",
      "\n",
      "\n",
      "\u001b[1mc#\u001b[0m\n",
      "\t Sur entrainement \u001b[92m11.80%\u001b[0m positif \u001b[91m88.20%\u001b[0m negatif\n",
      "\t Sur test \u001b[92m11.73%\u001b[0m positif \u001b[91m88.27%\u001b[0m negatif\n",
      "\n",
      "\n",
      "\u001b[1mjavascript\u001b[0m\n",
      "\t Sur entrainement \u001b[92m11.77%\u001b[0m positif \u001b[91m88.23%\u001b[0m negatif\n",
      "\t Sur test \u001b[92m11.33%\u001b[0m positif \u001b[91m88.67%\u001b[0m negatif\n",
      "\n",
      "\n",
      "\u001b[1mpython\u001b[0m\n",
      "\t Sur entrainement \u001b[92m8.61%\u001b[0m positif \u001b[91m91.39%\u001b[0m negatif\n",
      "\t Sur test \u001b[92m8.82%\u001b[0m positif \u001b[91m91.18%\u001b[0m negatif\n",
      "\n",
      "\n",
      "\u001b[1mandroid\u001b[0m\n",
      "\t Sur entrainement \u001b[92m7.00%\u001b[0m positif \u001b[91m93.00%\u001b[0m negatif\n",
      "\t Sur test \u001b[92m6.91%\u001b[0m positif \u001b[91m93.09%\u001b[0m negatif\n",
      "\n",
      "\n",
      "\u001b[1mc++\u001b[0m\n",
      "\t Sur entrainement \u001b[92m6.63%\u001b[0m positif \u001b[91m93.37%\u001b[0m negatif\n",
      "\t Sur test \u001b[92m6.63%\u001b[0m positif \u001b[91m93.37%\u001b[0m negatif\n",
      "\n",
      "\n",
      "\u001b[1mios\u001b[0m\n",
      "\t Sur entrainement \u001b[92m6.25%\u001b[0m positif \u001b[91m93.75%\u001b[0m negatif\n",
      "\t Sur test \u001b[92m6.21%\u001b[0m positif \u001b[91m93.79%\u001b[0m negatif\n",
      "\n",
      "\n",
      "\u001b[1mhtml\u001b[0m\n",
      "\t Sur entrainement \u001b[92m5.85%\u001b[0m positif \u001b[91m94.15%\u001b[0m negatif\n",
      "\t Sur test \u001b[92m5.93%\u001b[0m positif \u001b[91m94.07%\u001b[0m negatif\n",
      "\n",
      "\n",
      "\u001b[1mphp\u001b[0m\n",
      "\t Sur entrainement \u001b[92m5.56%\u001b[0m positif \u001b[91m94.44%\u001b[0m negatif\n",
      "\t Sur test \u001b[92m5.49%\u001b[0m positif \u001b[91m94.51%\u001b[0m negatif\n",
      "\n",
      "\n",
      "\u001b[1m.net\u001b[0m\n",
      "\t Sur entrainement \u001b[92m5.34%\u001b[0m positif \u001b[91m94.66%\u001b[0m negatif\n",
      "\t Sur test \u001b[92m5.30%\u001b[0m positif \u001b[91m94.70%\u001b[0m negatif\n",
      "\n",
      "\n",
      "\u001b[1mjquery\u001b[0m\n",
      "\t Sur entrainement \u001b[92m5.36%\u001b[0m positif \u001b[91m94.64%\u001b[0m negatif\n",
      "\t Sur test \u001b[92m5.19%\u001b[0m positif \u001b[91m94.81%\u001b[0m negatif\n",
      "\n",
      "\n",
      "\u001b[1mcss\u001b[0m\n",
      "\t Sur entrainement \u001b[92m3.77%\u001b[0m positif \u001b[91m96.23%\u001b[0m negatif\n",
      "\t Sur test \u001b[92m3.82%\u001b[0m positif \u001b[91m96.18%\u001b[0m negatif\n",
      "\n",
      "\n",
      "\u001b[1mobjective-c\u001b[0m\n",
      "\t Sur entrainement \u001b[92m3.08%\u001b[0m positif \u001b[91m96.92%\u001b[0m negatif\n",
      "\t Sur test \u001b[92m3.00%\u001b[0m positif \u001b[91m97.00%\u001b[0m negatif\n",
      "\n",
      "\n",
      "\u001b[1mc\u001b[0m\n",
      "\t Sur entrainement \u001b[92m3.08%\u001b[0m positif \u001b[91m96.92%\u001b[0m negatif\n",
      "\t Sur test \u001b[92m2.99%\u001b[0m positif \u001b[91m97.01%\u001b[0m negatif\n",
      "\n",
      "\n",
      "\u001b[1msql\u001b[0m\n",
      "\t Sur entrainement \u001b[92m3.00%\u001b[0m positif \u001b[91m97.00%\u001b[0m negatif\n",
      "\t Sur test \u001b[92m2.94%\u001b[0m positif \u001b[91m97.06%\u001b[0m negatif\n",
      "\n",
      "\n",
      "\u001b[1miphone\u001b[0m\n",
      "\t Sur entrainement \u001b[92m2.79%\u001b[0m positif \u001b[91m97.21%\u001b[0m negatif\n",
      "\t Sur test \u001b[92m2.73%\u001b[0m positif \u001b[91m97.27%\u001b[0m negatif\n",
      "\n",
      "\n",
      "\u001b[1masp.net\u001b[0m\n",
      "\t Sur entrainement \u001b[92m2.73%\u001b[0m positif \u001b[91m97.27%\u001b[0m negatif\n",
      "\t Sur test \u001b[92m2.72%\u001b[0m positif \u001b[91m97.28%\u001b[0m negatif\n",
      "\n",
      "\n",
      "\u001b[1mmysql\u001b[0m\n",
      "\t Sur entrainement \u001b[92m2.37%\u001b[0m positif \u001b[91m97.63%\u001b[0m negatif\n",
      "\t Sur test \u001b[92m2.31%\u001b[0m positif \u001b[91m97.69%\u001b[0m negatif\n",
      "\n",
      "\n",
      "\u001b[1mlinux\u001b[0m\n",
      "\t Sur entrainement \u001b[92m2.34%\u001b[0m positif \u001b[91m97.66%\u001b[0m negatif\n",
      "\t Sur test \u001b[92m2.30%\u001b[0m positif \u001b[91m97.70%\u001b[0m negatif\n",
      "\n",
      "\n",
      "\u001b[1mnode.js\u001b[0m\n",
      "\t Sur entrainement \u001b[92m2.29%\u001b[0m positif \u001b[91m97.71%\u001b[0m negatif\n",
      "\t Sur test \u001b[92m2.30%\u001b[0m positif \u001b[91m97.70%\u001b[0m negatif\n",
      "\n",
      "\n",
      "\u001b[1mgit\u001b[0m\n",
      "\t Sur entrainement \u001b[92m0.95%\u001b[0m positif \u001b[91m99.05%\u001b[0m negatif\n",
      "\t Sur test \u001b[92m0.93%\u001b[0m positif \u001b[91m99.07%\u001b[0m negatif\n",
      "\n",
      "\n"
     ]
    }
   ],
   "source": [
    "for column in y_train.columns:\n",
    "    t_train = y_train[column].value_counts(normalize=True)\n",
    "    t_test = y_test[column].value_counts(normalize=True)\n",
    "    print(f\"{colors.BOLD}{column}{colors.ENDC}\")\n",
    "    print(\n",
    "        f\"\\t Sur entrainement {colors.GREEN}{t_train[True]:.2%}{colors.ENDC} positif {colors.RED}{t_train[False]:.2%}{colors.ENDC} negatif\"\n",
    "    )\n",
    "    print(\n",
    "        f\"\\t Sur test {colors.GREEN}{t_test[True]:.2%}{colors.ENDC} positif {colors.RED}{t_test[False]:.2%}{colors.ENDC} negatif\"\n",
    "    )\n",
    "    print(\"\\n\")"
   ]
  },
  {
   "cell_type": "code",
   "execution_count": 16,
   "id": "ac4a0df5",
   "metadata": {
    "execution": {
     "iopub.execute_input": "2022-12-18T11:51:50.978339Z",
     "iopub.status.busy": "2022-12-18T11:51:50.977828Z",
     "iopub.status.idle": "2022-12-18T11:51:56.043607Z",
     "shell.execute_reply": "2022-12-18T11:51:56.042449Z"
    },
    "papermill": {
     "duration": 5.086823,
     "end_time": "2022-12-18T11:51:56.046203",
     "exception": false,
     "start_time": "2022-12-18T11:51:50.959380",
     "status": "completed"
    },
    "tags": []
   },
   "outputs": [
    {
     "name": "stdout",
     "output_type": "stream",
     "text": [
      "\n",
      "******************************\n",
      " pour min_df:1e-05; max_df:0.995\n",
      "\ttokens unique:\n",
      "\t\t53999 dans title et body regroupé\n"
     ]
    }
   ],
   "source": [
    "best_min_df = 0.00001\n",
    "best_max_df = 0.995\n",
    "for min_df in [0.01, 0.05, 0.005, 0.0005, 0.00001] if LONG else [best_min_df]:\n",
    "    for max_df in [0.95, 0.995, 0.9995] if LONG else [best_max_df]:\n",
    "        print(f\"\\n{'*'*30}\\n pour min_df:{min_df}; max_df:{max_df}\")\n",
    "        count_vectorizer = feature_extraction.text.CountVectorizer(\n",
    "            min_df=min_df, max_df=max_df, max_features=None\n",
    "        )\n",
    "        #         pipe = pipeline.make_pipeline(feature_extraction.text.CountVectorizer(min_df=min_df, max_df=max_df, max_features=None), feature_extraction.text.TfidfTransformer( norm=\"l2\", use_idf=True, smooth_idf=True, sublinear_tf=False))\n",
    "        #         feat_train = pipe.transform(X_train[\"Token\"])\n",
    "        #         print(feat_train.shape)\n",
    "\n",
    "        token_vectors = count_vectorizer.fit_transform(df[\"Token\"])\n",
    "        print(\n",
    "            f\"\\ttokens unique:\\n\\t\\t{token_vectors.shape[1]} dans title et body regroupé\"\n",
    "        )"
   ]
  },
  {
   "cell_type": "code",
   "execution_count": 17,
   "id": "1c00adea",
   "metadata": {
    "execution": {
     "iopub.execute_input": "2022-12-18T11:51:56.082491Z",
     "iopub.status.busy": "2022-12-18T11:51:56.081539Z",
     "iopub.status.idle": "2022-12-18T11:51:56.118142Z",
     "shell.execute_reply": "2022-12-18T11:51:56.117022Z"
    },
    "papermill": {
     "duration": 0.057567,
     "end_time": "2022-12-18T11:51:56.120959",
     "exception": false,
     "start_time": "2022-12-18T11:51:56.063392",
     "status": "completed"
    },
    "tags": []
   },
   "outputs": [],
   "source": [
    "pipeline_tfidf = pipeline.Pipeline(\n",
    "    [\n",
    "        (\n",
    "            \"count\",\n",
    "            feature_extraction.text.CountVectorizer(\n",
    "                min_df=best_min_df, max_df=best_max_df, max_features=None\n",
    "            ),\n",
    "        ),\n",
    "        (\n",
    "            \"tfidf\",\n",
    "            feature_extraction.text.TfidfTransformer(\n",
    "                norm=\"l2\", use_idf=True, smooth_idf=True, sublinear_tf=False\n",
    "            ),\n",
    "        ),\n",
    "    ]\n",
    ")"
   ]
  },
  {
   "cell_type": "markdown",
   "id": "8f46df34",
   "metadata": {
    "papermill": {
     "duration": 0.016496,
     "end_time": "2022-12-18T11:51:56.154277",
     "exception": false,
     "start_time": "2022-12-18T11:51:56.137781",
     "status": "completed"
    },
    "tags": []
   },
   "source": [
    "# Tfidf"
   ]
  },
  {
   "cell_type": "code",
   "execution_count": 18,
   "id": "8c98f97e",
   "metadata": {
    "execution": {
     "iopub.execute_input": "2022-12-18T11:51:56.190187Z",
     "iopub.status.busy": "2022-12-18T11:51:56.189750Z",
     "iopub.status.idle": "2022-12-18T11:51:56.196927Z",
     "shell.execute_reply": "2022-12-18T11:51:56.195730Z"
    },
    "papermill": {
     "duration": 0.028235,
     "end_time": "2022-12-18T11:51:56.199373",
     "exception": false,
     "start_time": "2022-12-18T11:51:56.171138",
     "status": "completed"
    },
    "tags": []
   },
   "outputs": [],
   "source": [
    "# tfidf_transformer = feature_extraction.text.TfidfTransformer(\n",
    "#     norm=\"l2\", use_idf=True, smooth_idf=True, sublinear_tf=False\n",
    "# ).fit(X_train)\n",
    "# X_train = tfidf_transformer.transform(X_train)\n",
    "# print(X_train.shape[0])\n",
    "# X_test = tfidf_transformer.transform(X_test)\n",
    "# print(X_test.shape[0])"
   ]
  },
  {
   "cell_type": "code",
   "execution_count": 19,
   "id": "f0b91617",
   "metadata": {
    "execution": {
     "iopub.execute_input": "2022-12-18T11:51:56.235503Z",
     "iopub.status.busy": "2022-12-18T11:51:56.235056Z",
     "iopub.status.idle": "2022-12-18T11:51:56.240832Z",
     "shell.execute_reply": "2022-12-18T11:51:56.239514Z"
    },
    "papermill": {
     "duration": 0.026448,
     "end_time": "2022-12-18T11:51:56.243040",
     "exception": false,
     "start_time": "2022-12-18T11:51:56.216592",
     "status": "completed"
    },
    "tags": []
   },
   "outputs": [],
   "source": [
    "# y_train[\"java\"].value_counts(normalize=True)[True]"
   ]
  },
  {
   "cell_type": "code",
   "execution_count": 20,
   "id": "b9d165f6",
   "metadata": {
    "execution": {
     "iopub.execute_input": "2022-12-18T11:51:56.278832Z",
     "iopub.status.busy": "2022-12-18T11:51:56.278375Z",
     "iopub.status.idle": "2022-12-18T11:51:56.284553Z",
     "shell.execute_reply": "2022-12-18T11:51:56.283293Z"
    },
    "papermill": {
     "duration": 0.027052,
     "end_time": "2022-12-18T11:51:56.286960",
     "exception": false,
     "start_time": "2022-12-18T11:51:56.259908",
     "status": "completed"
    },
    "tags": []
   },
   "outputs": [],
   "source": [
    "# [text for text in [token for token in X_test[0:5]]]"
   ]
  },
  {
   "cell_type": "code",
   "execution_count": 21,
   "id": "82c70d9a",
   "metadata": {
    "execution": {
     "iopub.execute_input": "2022-12-18T11:51:56.323483Z",
     "iopub.status.busy": "2022-12-18T11:51:56.323034Z",
     "iopub.status.idle": "2022-12-18T11:51:56.328097Z",
     "shell.execute_reply": "2022-12-18T11:51:56.327235Z"
    },
    "papermill": {
     "duration": 0.026698,
     "end_time": "2022-12-18T11:51:56.330661",
     "exception": false,
     "start_time": "2022-12-18T11:51:56.303963",
     "status": "completed"
    },
    "tags": []
   },
   "outputs": [],
   "source": [
    "# clf = linear_model.LogisticRegression(random_state=0, multi_class=\"ovr\").fit(X_train, y_train)"
   ]
  },
  {
   "cell_type": "markdown",
   "id": "2c0e6e33",
   "metadata": {
    "papermill": {
     "duration": 0.017018,
     "end_time": "2022-12-18T11:51:56.365112",
     "exception": false,
     "start_time": "2022-12-18T11:51:56.348094",
     "status": "completed"
    },
    "tags": []
   },
   "source": [
    "# OvsRest"
   ]
  },
  {
   "cell_type": "code",
   "execution_count": 22,
   "id": "37fa4972",
   "metadata": {
    "execution": {
     "iopub.execute_input": "2022-12-18T11:51:56.401640Z",
     "iopub.status.busy": "2022-12-18T11:51:56.401186Z",
     "iopub.status.idle": "2022-12-18T11:51:56.427365Z",
     "shell.execute_reply": "2022-12-18T11:51:56.426134Z"
    },
    "papermill": {
     "duration": 0.047523,
     "end_time": "2022-12-18T11:51:56.430018",
     "exception": false,
     "start_time": "2022-12-18T11:51:56.382495",
     "status": "completed"
    },
    "tags": []
   },
   "outputs": [],
   "source": [
    "def save_score(y_true, y_pred, target_names, name) -> pd.DataFrame():\n",
    "    scores = pd.DataFrame(\n",
    "        metrics.classification_report(\n",
    "            y_true, y_pred, target_names=target_names, zero_division=0, output_dict=True\n",
    "        )\n",
    "    ).T\n",
    "    scores.to_csv(f\"/kaggle/working/{name}_score.csv\")\n",
    "    return scores"
   ]
  },
  {
   "cell_type": "markdown",
   "id": "58753138",
   "metadata": {
    "papermill": {
     "duration": 0.01657,
     "end_time": "2022-12-18T11:51:56.463469",
     "exception": false,
     "start_time": "2022-12-18T11:51:56.446899",
     "status": "completed"
    },
    "tags": []
   },
   "source": [
    "## LogisticRegression"
   ]
  },
  {
   "cell_type": "code",
   "execution_count": 23,
   "id": "4b4ce3c6",
   "metadata": {
    "execution": {
     "iopub.execute_input": "2022-12-18T11:51:56.499295Z",
     "iopub.status.busy": "2022-12-18T11:51:56.498819Z",
     "iopub.status.idle": "2022-12-18T11:51:56.508615Z",
     "shell.execute_reply": "2022-12-18T11:51:56.507214Z"
    },
    "papermill": {
     "duration": 0.030989,
     "end_time": "2022-12-18T11:51:56.511317",
     "exception": false,
     "start_time": "2022-12-18T11:51:56.480328",
     "status": "completed"
    },
    "tags": []
   },
   "outputs": [
    {
     "name": "stdout",
     "output_type": "stream",
     "text": [
      "CPU times: user 3 µs, sys: 0 ns, total: 3 µs\n",
      "Wall time: 8.58 µs\n"
     ]
    }
   ],
   "source": [
    "%%time\n",
    "# with ignore_warnings(category=exceptions.ConvergenceWarning):\n",
    "#     clf_lr = multiclass.OneVsRestClassifier(\n",
    "#         linear_model.LogisticRegression(random_state=42)\n",
    "#     ).fit(X_train, y_train)"
   ]
  },
  {
   "cell_type": "code",
   "execution_count": 24,
   "id": "8c930bd0",
   "metadata": {
    "execution": {
     "iopub.execute_input": "2022-12-18T11:51:56.547707Z",
     "iopub.status.busy": "2022-12-18T11:51:56.546828Z",
     "iopub.status.idle": "2022-12-18T11:51:56.572071Z",
     "shell.execute_reply": "2022-12-18T11:51:56.571119Z"
    },
    "papermill": {
     "duration": 0.04662,
     "end_time": "2022-12-18T11:51:56.574938",
     "exception": false,
     "start_time": "2022-12-18T11:51:56.528318",
     "status": "completed"
    },
    "tags": []
   },
   "outputs": [],
   "source": [
    "pipeline_logisticReg = pipeline.Pipeline(\n",
    "    [\n",
    "        (\"tfidf\", pipeline_tfidf),\n",
    "        (\n",
    "            \"OvRLogisticReg\",\n",
    "            multiclass.OneVsRestClassifier(\n",
    "                linear_model.LogisticRegression(random_state=42)\n",
    "            ),\n",
    "        ),\n",
    "    ]\n",
    ")"
   ]
  },
  {
   "cell_type": "code",
   "execution_count": 25,
   "id": "5b714eef",
   "metadata": {
    "execution": {
     "iopub.execute_input": "2022-12-18T11:51:56.611237Z",
     "iopub.status.busy": "2022-12-18T11:51:56.610316Z",
     "iopub.status.idle": "2022-12-18T11:55:39.324637Z",
     "shell.execute_reply": "2022-12-18T11:55:39.322933Z"
    },
    "papermill": {
     "duration": 222.777291,
     "end_time": "2022-12-18T11:55:39.369057",
     "exception": false,
     "start_time": "2022-12-18T11:51:56.591766",
     "status": "completed"
    },
    "tags": []
   },
   "outputs": [
    {
     "name": "stdout",
     "output_type": "stream",
     "text": [
      "CPU times: user 6min 55s, sys: 6min 55s, total: 13min 51s\n",
      "Wall time: 3min 42s\n"
     ]
    }
   ],
   "source": [
    "%%time\n",
    "with ignore_warnings(category=exceptions.ConvergenceWarning):\n",
    "    pipeline_logisticReg.fit(X_train,y_train)"
   ]
  },
  {
   "cell_type": "code",
   "execution_count": 26,
   "id": "0edf5ed0",
   "metadata": {
    "execution": {
     "iopub.execute_input": "2022-12-18T11:55:39.415352Z",
     "iopub.status.busy": "2022-12-18T11:55:39.414893Z",
     "iopub.status.idle": "2022-12-18T11:55:40.833943Z",
     "shell.execute_reply": "2022-12-18T11:55:40.832633Z"
    },
    "papermill": {
     "duration": 1.441555,
     "end_time": "2022-12-18T11:55:40.836680",
     "exception": false,
     "start_time": "2022-12-18T11:55:39.395125",
     "status": "completed"
    },
    "tags": []
   },
   "outputs": [],
   "source": [
    "pred_lr = pipeline_logisticReg.predict(X_test)"
   ]
  },
  {
   "cell_type": "code",
   "execution_count": 27,
   "id": "7a708927",
   "metadata": {
    "execution": {
     "iopub.execute_input": "2022-12-18T11:55:40.873408Z",
     "iopub.status.busy": "2022-12-18T11:55:40.872230Z",
     "iopub.status.idle": "2022-12-18T11:55:40.980926Z",
     "shell.execute_reply": "2022-12-18T11:55:40.979825Z"
    },
    "papermill": {
     "duration": 0.129694,
     "end_time": "2022-12-18T11:55:40.983633",
     "exception": false,
     "start_time": "2022-12-18T11:55:40.853939",
     "status": "completed"
    },
    "tags": []
   },
   "outputs": [
    {
     "data": {
      "text/html": [
       "<div>\n",
       "<style scoped>\n",
       "    .dataframe tbody tr th:only-of-type {\n",
       "        vertical-align: middle;\n",
       "    }\n",
       "\n",
       "    .dataframe tbody tr th {\n",
       "        vertical-align: top;\n",
       "    }\n",
       "\n",
       "    .dataframe thead th {\n",
       "        text-align: right;\n",
       "    }\n",
       "</style>\n",
       "<table border=\"1\" class=\"dataframe\">\n",
       "  <thead>\n",
       "    <tr style=\"text-align: right;\">\n",
       "      <th></th>\n",
       "      <th>precision</th>\n",
       "      <th>recall</th>\n",
       "      <th>f1-score</th>\n",
       "      <th>support</th>\n",
       "    </tr>\n",
       "  </thead>\n",
       "  <tbody>\n",
       "    <tr>\n",
       "      <th>samples avg</th>\n",
       "      <td>0.406905</td>\n",
       "      <td>0.379385</td>\n",
       "      <td>0.380651</td>\n",
       "      <td>33044.0</td>\n",
       "    </tr>\n",
       "    <tr>\n",
       "      <th>micro avg</th>\n",
       "      <td>0.780031</td>\n",
       "      <td>0.455120</td>\n",
       "      <td>0.574841</td>\n",
       "      <td>33044.0</td>\n",
       "    </tr>\n",
       "    <tr>\n",
       "      <th>weighted avg</th>\n",
       "      <td>0.762518</td>\n",
       "      <td>0.455120</td>\n",
       "      <td>0.563992</td>\n",
       "      <td>33044.0</td>\n",
       "    </tr>\n",
       "    <tr>\n",
       "      <th>macro avg</th>\n",
       "      <td>0.746632</td>\n",
       "      <td>0.425657</td>\n",
       "      <td>0.534277</td>\n",
       "      <td>33044.0</td>\n",
       "    </tr>\n",
       "    <tr>\n",
       "      <th>java</th>\n",
       "      <td>0.831630</td>\n",
       "      <td>0.526138</td>\n",
       "      <td>0.644517</td>\n",
       "      <td>3558.0</td>\n",
       "    </tr>\n",
       "    <tr>\n",
       "      <th>c#</th>\n",
       "      <td>0.686422</td>\n",
       "      <td>0.366830</td>\n",
       "      <td>0.478138</td>\n",
       "      <td>3473.0</td>\n",
       "    </tr>\n",
       "    <tr>\n",
       "      <th>javascript</th>\n",
       "      <td>0.742475</td>\n",
       "      <td>0.529201</td>\n",
       "      <td>0.617954</td>\n",
       "      <td>3356.0</td>\n",
       "    </tr>\n",
       "    <tr>\n",
       "      <th>python</th>\n",
       "      <td>0.902315</td>\n",
       "      <td>0.611792</td>\n",
       "      <td>0.729181</td>\n",
       "      <td>2612.0</td>\n",
       "    </tr>\n",
       "    <tr>\n",
       "      <th>android</th>\n",
       "      <td>0.933975</td>\n",
       "      <td>0.664059</td>\n",
       "      <td>0.776222</td>\n",
       "      <td>2045.0</td>\n",
       "    </tr>\n",
       "    <tr>\n",
       "      <th>c++</th>\n",
       "      <td>0.787489</td>\n",
       "      <td>0.435845</td>\n",
       "      <td>0.561127</td>\n",
       "      <td>1964.0</td>\n",
       "    </tr>\n",
       "    <tr>\n",
       "      <th>ios</th>\n",
       "      <td>0.784535</td>\n",
       "      <td>0.490761</td>\n",
       "      <td>0.603811</td>\n",
       "      <td>1840.0</td>\n",
       "    </tr>\n",
       "    <tr>\n",
       "      <th>html</th>\n",
       "      <td>0.671171</td>\n",
       "      <td>0.424501</td>\n",
       "      <td>0.520070</td>\n",
       "      <td>1755.0</td>\n",
       "    </tr>\n",
       "    <tr>\n",
       "      <th>php</th>\n",
       "      <td>0.877953</td>\n",
       "      <td>0.548248</td>\n",
       "      <td>0.674991</td>\n",
       "      <td>1627.0</td>\n",
       "    </tr>\n",
       "    <tr>\n",
       "      <th>.net</th>\n",
       "      <td>0.567089</td>\n",
       "      <td>0.142766</td>\n",
       "      <td>0.228106</td>\n",
       "      <td>1569.0</td>\n",
       "    </tr>\n",
       "    <tr>\n",
       "      <th>jquery</th>\n",
       "      <td>0.818269</td>\n",
       "      <td>0.553316</td>\n",
       "      <td>0.660202</td>\n",
       "      <td>1538.0</td>\n",
       "    </tr>\n",
       "    <tr>\n",
       "      <th>css</th>\n",
       "      <td>0.829815</td>\n",
       "      <td>0.556145</td>\n",
       "      <td>0.665961</td>\n",
       "      <td>1131.0</td>\n",
       "    </tr>\n",
       "    <tr>\n",
       "      <th>objective-c</th>\n",
       "      <td>0.545455</td>\n",
       "      <td>0.189189</td>\n",
       "      <td>0.280936</td>\n",
       "      <td>888.0</td>\n",
       "    </tr>\n",
       "    <tr>\n",
       "      <th>c</th>\n",
       "      <td>0.663609</td>\n",
       "      <td>0.245198</td>\n",
       "      <td>0.358086</td>\n",
       "      <td>885.0</td>\n",
       "    </tr>\n",
       "    <tr>\n",
       "      <th>sql</th>\n",
       "      <td>0.629091</td>\n",
       "      <td>0.397701</td>\n",
       "      <td>0.487324</td>\n",
       "      <td>870.0</td>\n",
       "    </tr>\n",
       "    <tr>\n",
       "      <th>iphone</th>\n",
       "      <td>0.588816</td>\n",
       "      <td>0.221809</td>\n",
       "      <td>0.322232</td>\n",
       "      <td>807.0</td>\n",
       "    </tr>\n",
       "    <tr>\n",
       "      <th>asp.net</th>\n",
       "      <td>0.661538</td>\n",
       "      <td>0.267081</td>\n",
       "      <td>0.380531</td>\n",
       "      <td>805.0</td>\n",
       "    </tr>\n",
       "    <tr>\n",
       "      <th>mysql</th>\n",
       "      <td>0.824356</td>\n",
       "      <td>0.513869</td>\n",
       "      <td>0.633094</td>\n",
       "      <td>685.0</td>\n",
       "    </tr>\n",
       "    <tr>\n",
       "      <th>node.js</th>\n",
       "      <td>0.763975</td>\n",
       "      <td>0.360704</td>\n",
       "      <td>0.490040</td>\n",
       "      <td>682.0</td>\n",
       "    </tr>\n",
       "    <tr>\n",
       "      <th>linux</th>\n",
       "      <td>0.663830</td>\n",
       "      <td>0.229412</td>\n",
       "      <td>0.340984</td>\n",
       "      <td>680.0</td>\n",
       "    </tr>\n",
       "    <tr>\n",
       "      <th>git</th>\n",
       "      <td>0.905473</td>\n",
       "      <td>0.664234</td>\n",
       "      <td>0.766316</td>\n",
       "      <td>274.0</td>\n",
       "    </tr>\n",
       "  </tbody>\n",
       "</table>\n",
       "</div>"
      ],
      "text/plain": [
       "              precision    recall  f1-score  support\n",
       "samples avg    0.406905  0.379385  0.380651  33044.0\n",
       "micro avg      0.780031  0.455120  0.574841  33044.0\n",
       "weighted avg   0.762518  0.455120  0.563992  33044.0\n",
       "macro avg      0.746632  0.425657  0.534277  33044.0\n",
       "java           0.831630  0.526138  0.644517   3558.0\n",
       "c#             0.686422  0.366830  0.478138   3473.0\n",
       "javascript     0.742475  0.529201  0.617954   3356.0\n",
       "python         0.902315  0.611792  0.729181   2612.0\n",
       "android        0.933975  0.664059  0.776222   2045.0\n",
       "c++            0.787489  0.435845  0.561127   1964.0\n",
       "ios            0.784535  0.490761  0.603811   1840.0\n",
       "html           0.671171  0.424501  0.520070   1755.0\n",
       "php            0.877953  0.548248  0.674991   1627.0\n",
       ".net           0.567089  0.142766  0.228106   1569.0\n",
       "jquery         0.818269  0.553316  0.660202   1538.0\n",
       "css            0.829815  0.556145  0.665961   1131.0\n",
       "objective-c    0.545455  0.189189  0.280936    888.0\n",
       "c              0.663609  0.245198  0.358086    885.0\n",
       "sql            0.629091  0.397701  0.487324    870.0\n",
       "iphone         0.588816  0.221809  0.322232    807.0\n",
       "asp.net        0.661538  0.267081  0.380531    805.0\n",
       "mysql          0.824356  0.513869  0.633094    685.0\n",
       "node.js        0.763975  0.360704  0.490040    682.0\n",
       "linux          0.663830  0.229412  0.340984    680.0\n",
       "git            0.905473  0.664234  0.766316    274.0"
      ]
     },
     "execution_count": 27,
     "metadata": {},
     "output_type": "execute_result"
    }
   ],
   "source": [
    "scores_lr = save_score(y_test, pred_lr, target_names, \"LogisticRegression\")\n",
    "scores_lr.sort_values(by=\"support\", ascending=False)"
   ]
  },
  {
   "cell_type": "code",
   "execution_count": 28,
   "id": "09bc2bfa",
   "metadata": {
    "execution": {
     "iopub.execute_input": "2022-12-18T11:55:41.020126Z",
     "iopub.status.busy": "2022-12-18T11:55:41.019698Z",
     "iopub.status.idle": "2022-12-18T11:55:41.044001Z",
     "shell.execute_reply": "2022-12-18T11:55:41.042723Z"
    },
    "papermill": {
     "duration": 0.04571,
     "end_time": "2022-12-18T11:55:41.046711",
     "exception": false,
     "start_time": "2022-12-18T11:55:41.001001",
     "status": "completed"
    },
    "tags": []
   },
   "outputs": [
    {
     "data": {
      "text/html": [
       "<div>\n",
       "<style scoped>\n",
       "    .dataframe tbody tr th:only-of-type {\n",
       "        vertical-align: middle;\n",
       "    }\n",
       "\n",
       "    .dataframe tbody tr th {\n",
       "        vertical-align: top;\n",
       "    }\n",
       "\n",
       "    .dataframe thead th {\n",
       "        text-align: right;\n",
       "    }\n",
       "</style>\n",
       "<table border=\"1\" class=\"dataframe\">\n",
       "  <thead>\n",
       "    <tr style=\"text-align: right;\">\n",
       "      <th></th>\n",
       "      <th>precision</th>\n",
       "      <th>recall</th>\n",
       "      <th>f1-score</th>\n",
       "      <th>support</th>\n",
       "    </tr>\n",
       "  </thead>\n",
       "  <tbody>\n",
       "    <tr>\n",
       "      <th>android</th>\n",
       "      <td>0.933975</td>\n",
       "      <td>0.664059</td>\n",
       "      <td>0.776222</td>\n",
       "      <td>2045.0</td>\n",
       "    </tr>\n",
       "    <tr>\n",
       "      <th>git</th>\n",
       "      <td>0.905473</td>\n",
       "      <td>0.664234</td>\n",
       "      <td>0.766316</td>\n",
       "      <td>274.0</td>\n",
       "    </tr>\n",
       "    <tr>\n",
       "      <th>python</th>\n",
       "      <td>0.902315</td>\n",
       "      <td>0.611792</td>\n",
       "      <td>0.729181</td>\n",
       "      <td>2612.0</td>\n",
       "    </tr>\n",
       "    <tr>\n",
       "      <th>php</th>\n",
       "      <td>0.877953</td>\n",
       "      <td>0.548248</td>\n",
       "      <td>0.674991</td>\n",
       "      <td>1627.0</td>\n",
       "    </tr>\n",
       "    <tr>\n",
       "      <th>java</th>\n",
       "      <td>0.831630</td>\n",
       "      <td>0.526138</td>\n",
       "      <td>0.644517</td>\n",
       "      <td>3558.0</td>\n",
       "    </tr>\n",
       "    <tr>\n",
       "      <th>css</th>\n",
       "      <td>0.829815</td>\n",
       "      <td>0.556145</td>\n",
       "      <td>0.665961</td>\n",
       "      <td>1131.0</td>\n",
       "    </tr>\n",
       "    <tr>\n",
       "      <th>mysql</th>\n",
       "      <td>0.824356</td>\n",
       "      <td>0.513869</td>\n",
       "      <td>0.633094</td>\n",
       "      <td>685.0</td>\n",
       "    </tr>\n",
       "    <tr>\n",
       "      <th>jquery</th>\n",
       "      <td>0.818269</td>\n",
       "      <td>0.553316</td>\n",
       "      <td>0.660202</td>\n",
       "      <td>1538.0</td>\n",
       "    </tr>\n",
       "    <tr>\n",
       "      <th>c++</th>\n",
       "      <td>0.787489</td>\n",
       "      <td>0.435845</td>\n",
       "      <td>0.561127</td>\n",
       "      <td>1964.0</td>\n",
       "    </tr>\n",
       "    <tr>\n",
       "      <th>ios</th>\n",
       "      <td>0.784535</td>\n",
       "      <td>0.490761</td>\n",
       "      <td>0.603811</td>\n",
       "      <td>1840.0</td>\n",
       "    </tr>\n",
       "    <tr>\n",
       "      <th>micro avg</th>\n",
       "      <td>0.780031</td>\n",
       "      <td>0.455120</td>\n",
       "      <td>0.574841</td>\n",
       "      <td>33044.0</td>\n",
       "    </tr>\n",
       "    <tr>\n",
       "      <th>node.js</th>\n",
       "      <td>0.763975</td>\n",
       "      <td>0.360704</td>\n",
       "      <td>0.490040</td>\n",
       "      <td>682.0</td>\n",
       "    </tr>\n",
       "    <tr>\n",
       "      <th>weighted avg</th>\n",
       "      <td>0.762518</td>\n",
       "      <td>0.455120</td>\n",
       "      <td>0.563992</td>\n",
       "      <td>33044.0</td>\n",
       "    </tr>\n",
       "    <tr>\n",
       "      <th>macro avg</th>\n",
       "      <td>0.746632</td>\n",
       "      <td>0.425657</td>\n",
       "      <td>0.534277</td>\n",
       "      <td>33044.0</td>\n",
       "    </tr>\n",
       "    <tr>\n",
       "      <th>javascript</th>\n",
       "      <td>0.742475</td>\n",
       "      <td>0.529201</td>\n",
       "      <td>0.617954</td>\n",
       "      <td>3356.0</td>\n",
       "    </tr>\n",
       "    <tr>\n",
       "      <th>c#</th>\n",
       "      <td>0.686422</td>\n",
       "      <td>0.366830</td>\n",
       "      <td>0.478138</td>\n",
       "      <td>3473.0</td>\n",
       "    </tr>\n",
       "    <tr>\n",
       "      <th>html</th>\n",
       "      <td>0.671171</td>\n",
       "      <td>0.424501</td>\n",
       "      <td>0.520070</td>\n",
       "      <td>1755.0</td>\n",
       "    </tr>\n",
       "    <tr>\n",
       "      <th>linux</th>\n",
       "      <td>0.663830</td>\n",
       "      <td>0.229412</td>\n",
       "      <td>0.340984</td>\n",
       "      <td>680.0</td>\n",
       "    </tr>\n",
       "    <tr>\n",
       "      <th>c</th>\n",
       "      <td>0.663609</td>\n",
       "      <td>0.245198</td>\n",
       "      <td>0.358086</td>\n",
       "      <td>885.0</td>\n",
       "    </tr>\n",
       "    <tr>\n",
       "      <th>asp.net</th>\n",
       "      <td>0.661538</td>\n",
       "      <td>0.267081</td>\n",
       "      <td>0.380531</td>\n",
       "      <td>805.0</td>\n",
       "    </tr>\n",
       "    <tr>\n",
       "      <th>sql</th>\n",
       "      <td>0.629091</td>\n",
       "      <td>0.397701</td>\n",
       "      <td>0.487324</td>\n",
       "      <td>870.0</td>\n",
       "    </tr>\n",
       "    <tr>\n",
       "      <th>iphone</th>\n",
       "      <td>0.588816</td>\n",
       "      <td>0.221809</td>\n",
       "      <td>0.322232</td>\n",
       "      <td>807.0</td>\n",
       "    </tr>\n",
       "    <tr>\n",
       "      <th>.net</th>\n",
       "      <td>0.567089</td>\n",
       "      <td>0.142766</td>\n",
       "      <td>0.228106</td>\n",
       "      <td>1569.0</td>\n",
       "    </tr>\n",
       "    <tr>\n",
       "      <th>objective-c</th>\n",
       "      <td>0.545455</td>\n",
       "      <td>0.189189</td>\n",
       "      <td>0.280936</td>\n",
       "      <td>888.0</td>\n",
       "    </tr>\n",
       "    <tr>\n",
       "      <th>samples avg</th>\n",
       "      <td>0.406905</td>\n",
       "      <td>0.379385</td>\n",
       "      <td>0.380651</td>\n",
       "      <td>33044.0</td>\n",
       "    </tr>\n",
       "  </tbody>\n",
       "</table>\n",
       "</div>"
      ],
      "text/plain": [
       "              precision    recall  f1-score  support\n",
       "android        0.933975  0.664059  0.776222   2045.0\n",
       "git            0.905473  0.664234  0.766316    274.0\n",
       "python         0.902315  0.611792  0.729181   2612.0\n",
       "php            0.877953  0.548248  0.674991   1627.0\n",
       "java           0.831630  0.526138  0.644517   3558.0\n",
       "css            0.829815  0.556145  0.665961   1131.0\n",
       "mysql          0.824356  0.513869  0.633094    685.0\n",
       "jquery         0.818269  0.553316  0.660202   1538.0\n",
       "c++            0.787489  0.435845  0.561127   1964.0\n",
       "ios            0.784535  0.490761  0.603811   1840.0\n",
       "micro avg      0.780031  0.455120  0.574841  33044.0\n",
       "node.js        0.763975  0.360704  0.490040    682.0\n",
       "weighted avg   0.762518  0.455120  0.563992  33044.0\n",
       "macro avg      0.746632  0.425657  0.534277  33044.0\n",
       "javascript     0.742475  0.529201  0.617954   3356.0\n",
       "c#             0.686422  0.366830  0.478138   3473.0\n",
       "html           0.671171  0.424501  0.520070   1755.0\n",
       "linux          0.663830  0.229412  0.340984    680.0\n",
       "c              0.663609  0.245198  0.358086    885.0\n",
       "asp.net        0.661538  0.267081  0.380531    805.0\n",
       "sql            0.629091  0.397701  0.487324    870.0\n",
       "iphone         0.588816  0.221809  0.322232    807.0\n",
       ".net           0.567089  0.142766  0.228106   1569.0\n",
       "objective-c    0.545455  0.189189  0.280936    888.0\n",
       "samples avg    0.406905  0.379385  0.380651  33044.0"
      ]
     },
     "execution_count": 28,
     "metadata": {},
     "output_type": "execute_result"
    }
   ],
   "source": [
    "scores_lr.sort_values(by=\"precision\", ascending=False)"
   ]
  },
  {
   "cell_type": "code",
   "execution_count": 29,
   "id": "0704c604",
   "metadata": {
    "execution": {
     "iopub.execute_input": "2022-12-18T11:55:41.085045Z",
     "iopub.status.busy": "2022-12-18T11:55:41.083621Z",
     "iopub.status.idle": "2022-12-18T11:55:41.108420Z",
     "shell.execute_reply": "2022-12-18T11:55:41.107238Z"
    },
    "papermill": {
     "duration": 0.046552,
     "end_time": "2022-12-18T11:55:41.111070",
     "exception": false,
     "start_time": "2022-12-18T11:55:41.064518",
     "status": "completed"
    },
    "tags": []
   },
   "outputs": [
    {
     "data": {
      "text/html": [
       "<div>\n",
       "<style scoped>\n",
       "    .dataframe tbody tr th:only-of-type {\n",
       "        vertical-align: middle;\n",
       "    }\n",
       "\n",
       "    .dataframe tbody tr th {\n",
       "        vertical-align: top;\n",
       "    }\n",
       "\n",
       "    .dataframe thead th {\n",
       "        text-align: right;\n",
       "    }\n",
       "</style>\n",
       "<table border=\"1\" class=\"dataframe\">\n",
       "  <thead>\n",
       "    <tr style=\"text-align: right;\">\n",
       "      <th></th>\n",
       "      <th>precision</th>\n",
       "      <th>recall</th>\n",
       "      <th>f1-score</th>\n",
       "      <th>support</th>\n",
       "    </tr>\n",
       "  </thead>\n",
       "  <tbody>\n",
       "    <tr>\n",
       "      <th>git</th>\n",
       "      <td>0.905473</td>\n",
       "      <td>0.664234</td>\n",
       "      <td>0.766316</td>\n",
       "      <td>274.0</td>\n",
       "    </tr>\n",
       "    <tr>\n",
       "      <th>android</th>\n",
       "      <td>0.933975</td>\n",
       "      <td>0.664059</td>\n",
       "      <td>0.776222</td>\n",
       "      <td>2045.0</td>\n",
       "    </tr>\n",
       "    <tr>\n",
       "      <th>python</th>\n",
       "      <td>0.902315</td>\n",
       "      <td>0.611792</td>\n",
       "      <td>0.729181</td>\n",
       "      <td>2612.0</td>\n",
       "    </tr>\n",
       "    <tr>\n",
       "      <th>css</th>\n",
       "      <td>0.829815</td>\n",
       "      <td>0.556145</td>\n",
       "      <td>0.665961</td>\n",
       "      <td>1131.0</td>\n",
       "    </tr>\n",
       "    <tr>\n",
       "      <th>jquery</th>\n",
       "      <td>0.818269</td>\n",
       "      <td>0.553316</td>\n",
       "      <td>0.660202</td>\n",
       "      <td>1538.0</td>\n",
       "    </tr>\n",
       "    <tr>\n",
       "      <th>php</th>\n",
       "      <td>0.877953</td>\n",
       "      <td>0.548248</td>\n",
       "      <td>0.674991</td>\n",
       "      <td>1627.0</td>\n",
       "    </tr>\n",
       "    <tr>\n",
       "      <th>javascript</th>\n",
       "      <td>0.742475</td>\n",
       "      <td>0.529201</td>\n",
       "      <td>0.617954</td>\n",
       "      <td>3356.0</td>\n",
       "    </tr>\n",
       "    <tr>\n",
       "      <th>java</th>\n",
       "      <td>0.831630</td>\n",
       "      <td>0.526138</td>\n",
       "      <td>0.644517</td>\n",
       "      <td>3558.0</td>\n",
       "    </tr>\n",
       "    <tr>\n",
       "      <th>mysql</th>\n",
       "      <td>0.824356</td>\n",
       "      <td>0.513869</td>\n",
       "      <td>0.633094</td>\n",
       "      <td>685.0</td>\n",
       "    </tr>\n",
       "    <tr>\n",
       "      <th>ios</th>\n",
       "      <td>0.784535</td>\n",
       "      <td>0.490761</td>\n",
       "      <td>0.603811</td>\n",
       "      <td>1840.0</td>\n",
       "    </tr>\n",
       "    <tr>\n",
       "      <th>weighted avg</th>\n",
       "      <td>0.762518</td>\n",
       "      <td>0.455120</td>\n",
       "      <td>0.563992</td>\n",
       "      <td>33044.0</td>\n",
       "    </tr>\n",
       "    <tr>\n",
       "      <th>micro avg</th>\n",
       "      <td>0.780031</td>\n",
       "      <td>0.455120</td>\n",
       "      <td>0.574841</td>\n",
       "      <td>33044.0</td>\n",
       "    </tr>\n",
       "    <tr>\n",
       "      <th>c++</th>\n",
       "      <td>0.787489</td>\n",
       "      <td>0.435845</td>\n",
       "      <td>0.561127</td>\n",
       "      <td>1964.0</td>\n",
       "    </tr>\n",
       "    <tr>\n",
       "      <th>macro avg</th>\n",
       "      <td>0.746632</td>\n",
       "      <td>0.425657</td>\n",
       "      <td>0.534277</td>\n",
       "      <td>33044.0</td>\n",
       "    </tr>\n",
       "    <tr>\n",
       "      <th>html</th>\n",
       "      <td>0.671171</td>\n",
       "      <td>0.424501</td>\n",
       "      <td>0.520070</td>\n",
       "      <td>1755.0</td>\n",
       "    </tr>\n",
       "    <tr>\n",
       "      <th>sql</th>\n",
       "      <td>0.629091</td>\n",
       "      <td>0.397701</td>\n",
       "      <td>0.487324</td>\n",
       "      <td>870.0</td>\n",
       "    </tr>\n",
       "    <tr>\n",
       "      <th>samples avg</th>\n",
       "      <td>0.406905</td>\n",
       "      <td>0.379385</td>\n",
       "      <td>0.380651</td>\n",
       "      <td>33044.0</td>\n",
       "    </tr>\n",
       "    <tr>\n",
       "      <th>c#</th>\n",
       "      <td>0.686422</td>\n",
       "      <td>0.366830</td>\n",
       "      <td>0.478138</td>\n",
       "      <td>3473.0</td>\n",
       "    </tr>\n",
       "    <tr>\n",
       "      <th>node.js</th>\n",
       "      <td>0.763975</td>\n",
       "      <td>0.360704</td>\n",
       "      <td>0.490040</td>\n",
       "      <td>682.0</td>\n",
       "    </tr>\n",
       "    <tr>\n",
       "      <th>asp.net</th>\n",
       "      <td>0.661538</td>\n",
       "      <td>0.267081</td>\n",
       "      <td>0.380531</td>\n",
       "      <td>805.0</td>\n",
       "    </tr>\n",
       "    <tr>\n",
       "      <th>c</th>\n",
       "      <td>0.663609</td>\n",
       "      <td>0.245198</td>\n",
       "      <td>0.358086</td>\n",
       "      <td>885.0</td>\n",
       "    </tr>\n",
       "    <tr>\n",
       "      <th>linux</th>\n",
       "      <td>0.663830</td>\n",
       "      <td>0.229412</td>\n",
       "      <td>0.340984</td>\n",
       "      <td>680.0</td>\n",
       "    </tr>\n",
       "    <tr>\n",
       "      <th>iphone</th>\n",
       "      <td>0.588816</td>\n",
       "      <td>0.221809</td>\n",
       "      <td>0.322232</td>\n",
       "      <td>807.0</td>\n",
       "    </tr>\n",
       "    <tr>\n",
       "      <th>objective-c</th>\n",
       "      <td>0.545455</td>\n",
       "      <td>0.189189</td>\n",
       "      <td>0.280936</td>\n",
       "      <td>888.0</td>\n",
       "    </tr>\n",
       "    <tr>\n",
       "      <th>.net</th>\n",
       "      <td>0.567089</td>\n",
       "      <td>0.142766</td>\n",
       "      <td>0.228106</td>\n",
       "      <td>1569.0</td>\n",
       "    </tr>\n",
       "  </tbody>\n",
       "</table>\n",
       "</div>"
      ],
      "text/plain": [
       "              precision    recall  f1-score  support\n",
       "git            0.905473  0.664234  0.766316    274.0\n",
       "android        0.933975  0.664059  0.776222   2045.0\n",
       "python         0.902315  0.611792  0.729181   2612.0\n",
       "css            0.829815  0.556145  0.665961   1131.0\n",
       "jquery         0.818269  0.553316  0.660202   1538.0\n",
       "php            0.877953  0.548248  0.674991   1627.0\n",
       "javascript     0.742475  0.529201  0.617954   3356.0\n",
       "java           0.831630  0.526138  0.644517   3558.0\n",
       "mysql          0.824356  0.513869  0.633094    685.0\n",
       "ios            0.784535  0.490761  0.603811   1840.0\n",
       "weighted avg   0.762518  0.455120  0.563992  33044.0\n",
       "micro avg      0.780031  0.455120  0.574841  33044.0\n",
       "c++            0.787489  0.435845  0.561127   1964.0\n",
       "macro avg      0.746632  0.425657  0.534277  33044.0\n",
       "html           0.671171  0.424501  0.520070   1755.0\n",
       "sql            0.629091  0.397701  0.487324    870.0\n",
       "samples avg    0.406905  0.379385  0.380651  33044.0\n",
       "c#             0.686422  0.366830  0.478138   3473.0\n",
       "node.js        0.763975  0.360704  0.490040    682.0\n",
       "asp.net        0.661538  0.267081  0.380531    805.0\n",
       "c              0.663609  0.245198  0.358086    885.0\n",
       "linux          0.663830  0.229412  0.340984    680.0\n",
       "iphone         0.588816  0.221809  0.322232    807.0\n",
       "objective-c    0.545455  0.189189  0.280936    888.0\n",
       ".net           0.567089  0.142766  0.228106   1569.0"
      ]
     },
     "execution_count": 29,
     "metadata": {},
     "output_type": "execute_result"
    }
   ],
   "source": [
    "scores_lr.sort_values(by=\"recall\", ascending=False)"
   ]
  },
  {
   "cell_type": "code",
   "execution_count": 30,
   "id": "d3da6ad0",
   "metadata": {
    "execution": {
     "iopub.execute_input": "2022-12-18T11:55:41.152194Z",
     "iopub.status.busy": "2022-12-18T11:55:41.151220Z",
     "iopub.status.idle": "2022-12-18T11:55:41.163381Z",
     "shell.execute_reply": "2022-12-18T11:55:41.161927Z"
    },
    "papermill": {
     "duration": 0.035831,
     "end_time": "2022-12-18T11:55:41.165849",
     "exception": false,
     "start_time": "2022-12-18T11:55:41.130018",
     "status": "completed"
    },
    "tags": []
   },
   "outputs": [
    {
     "data": {
      "text/plain": [
       "42834     streetview api hiding fullscreen controltry hi...\n",
       "25716      reason if(1 fooread legacy code see reason write\n",
       "93960     android studio junit testingupdate accord buil...\n",
       "106821    string database tableneed generate string digi...\n",
       "84135     communication loop guimake gui python machine ...\n",
       "                                ...                        \n",
       "76820     view inside scroll view increase width pull re...\n",
       "110268    problem xamarin form getasync(url jsonconvertc...\n",
       "103694    install mssql driver mac os phpmac run php 5.3...\n",
       "860       python function definitionnotice look python g...\n",
       "15795     compare datetime date sql serverdatabase user ...\n",
       "Name: Token, Length: 88831, dtype: object"
      ]
     },
     "execution_count": 30,
     "metadata": {},
     "output_type": "execute_result"
    }
   ],
   "source": [
    "X_train"
   ]
  },
  {
   "cell_type": "code",
   "execution_count": 31,
   "id": "a7198a89",
   "metadata": {
    "execution": {
     "iopub.execute_input": "2022-12-18T11:55:41.206784Z",
     "iopub.status.busy": "2022-12-18T11:55:41.206324Z",
     "iopub.status.idle": "2022-12-18T11:55:41.236272Z",
     "shell.execute_reply": "2022-12-18T11:55:41.235028Z"
    },
    "papermill": {
     "duration": 0.053568,
     "end_time": "2022-12-18T11:55:41.239292",
     "exception": false,
     "start_time": "2022-12-18T11:55:41.185724",
     "status": "completed"
    },
    "tags": []
   },
   "outputs": [
    {
     "data": {
      "text/html": [
       "<div>\n",
       "<style scoped>\n",
       "    .dataframe tbody tr th:only-of-type {\n",
       "        vertical-align: middle;\n",
       "    }\n",
       "\n",
       "    .dataframe tbody tr th {\n",
       "        vertical-align: top;\n",
       "    }\n",
       "\n",
       "    .dataframe thead th {\n",
       "        text-align: right;\n",
       "    }\n",
       "</style>\n",
       "<table border=\"1\" class=\"dataframe\">\n",
       "  <thead>\n",
       "    <tr style=\"text-align: right;\">\n",
       "      <th></th>\n",
       "      <th>java</th>\n",
       "      <th>c#</th>\n",
       "      <th>javascript</th>\n",
       "      <th>python</th>\n",
       "      <th>android</th>\n",
       "      <th>c++</th>\n",
       "      <th>ios</th>\n",
       "      <th>html</th>\n",
       "      <th>php</th>\n",
       "      <th>.net</th>\n",
       "      <th>...</th>\n",
       "      <th>css</th>\n",
       "      <th>objective-c</th>\n",
       "      <th>c</th>\n",
       "      <th>sql</th>\n",
       "      <th>iphone</th>\n",
       "      <th>asp.net</th>\n",
       "      <th>mysql</th>\n",
       "      <th>linux</th>\n",
       "      <th>node.js</th>\n",
       "      <th>git</th>\n",
       "    </tr>\n",
       "  </thead>\n",
       "  <tbody>\n",
       "    <tr>\n",
       "      <th>42834</th>\n",
       "      <td>False</td>\n",
       "      <td>False</td>\n",
       "      <td>True</td>\n",
       "      <td>False</td>\n",
       "      <td>False</td>\n",
       "      <td>False</td>\n",
       "      <td>False</td>\n",
       "      <td>False</td>\n",
       "      <td>False</td>\n",
       "      <td>False</td>\n",
       "      <td>...</td>\n",
       "      <td>False</td>\n",
       "      <td>False</td>\n",
       "      <td>False</td>\n",
       "      <td>False</td>\n",
       "      <td>False</td>\n",
       "      <td>False</td>\n",
       "      <td>False</td>\n",
       "      <td>False</td>\n",
       "      <td>False</td>\n",
       "      <td>False</td>\n",
       "    </tr>\n",
       "    <tr>\n",
       "      <th>25716</th>\n",
       "      <td>False</td>\n",
       "      <td>False</td>\n",
       "      <td>False</td>\n",
       "      <td>False</td>\n",
       "      <td>False</td>\n",
       "      <td>True</td>\n",
       "      <td>False</td>\n",
       "      <td>False</td>\n",
       "      <td>False</td>\n",
       "      <td>False</td>\n",
       "      <td>...</td>\n",
       "      <td>False</td>\n",
       "      <td>False</td>\n",
       "      <td>True</td>\n",
       "      <td>False</td>\n",
       "      <td>False</td>\n",
       "      <td>False</td>\n",
       "      <td>False</td>\n",
       "      <td>False</td>\n",
       "      <td>False</td>\n",
       "      <td>False</td>\n",
       "    </tr>\n",
       "    <tr>\n",
       "      <th>93960</th>\n",
       "      <td>True</td>\n",
       "      <td>False</td>\n",
       "      <td>False</td>\n",
       "      <td>False</td>\n",
       "      <td>True</td>\n",
       "      <td>False</td>\n",
       "      <td>False</td>\n",
       "      <td>False</td>\n",
       "      <td>False</td>\n",
       "      <td>False</td>\n",
       "      <td>...</td>\n",
       "      <td>False</td>\n",
       "      <td>False</td>\n",
       "      <td>False</td>\n",
       "      <td>False</td>\n",
       "      <td>False</td>\n",
       "      <td>False</td>\n",
       "      <td>False</td>\n",
       "      <td>False</td>\n",
       "      <td>False</td>\n",
       "      <td>False</td>\n",
       "    </tr>\n",
       "    <tr>\n",
       "      <th>106821</th>\n",
       "      <td>False</td>\n",
       "      <td>False</td>\n",
       "      <td>True</td>\n",
       "      <td>False</td>\n",
       "      <td>False</td>\n",
       "      <td>False</td>\n",
       "      <td>False</td>\n",
       "      <td>False</td>\n",
       "      <td>False</td>\n",
       "      <td>False</td>\n",
       "      <td>...</td>\n",
       "      <td>False</td>\n",
       "      <td>False</td>\n",
       "      <td>False</td>\n",
       "      <td>True</td>\n",
       "      <td>False</td>\n",
       "      <td>False</td>\n",
       "      <td>True</td>\n",
       "      <td>False</td>\n",
       "      <td>True</td>\n",
       "      <td>False</td>\n",
       "    </tr>\n",
       "    <tr>\n",
       "      <th>84135</th>\n",
       "      <td>False</td>\n",
       "      <td>False</td>\n",
       "      <td>False</td>\n",
       "      <td>True</td>\n",
       "      <td>False</td>\n",
       "      <td>False</td>\n",
       "      <td>False</td>\n",
       "      <td>False</td>\n",
       "      <td>False</td>\n",
       "      <td>False</td>\n",
       "      <td>...</td>\n",
       "      <td>False</td>\n",
       "      <td>False</td>\n",
       "      <td>False</td>\n",
       "      <td>False</td>\n",
       "      <td>False</td>\n",
       "      <td>False</td>\n",
       "      <td>False</td>\n",
       "      <td>False</td>\n",
       "      <td>False</td>\n",
       "      <td>False</td>\n",
       "    </tr>\n",
       "  </tbody>\n",
       "</table>\n",
       "<p>5 rows × 21 columns</p>\n",
       "</div>"
      ],
      "text/plain": [
       "         java     c#  javascript  python  android    c++    ios   html    php  \\\n",
       "42834   False  False        True   False    False  False  False  False  False   \n",
       "25716   False  False       False   False    False   True  False  False  False   \n",
       "93960    True  False       False   False     True  False  False  False  False   \n",
       "106821  False  False        True   False    False  False  False  False  False   \n",
       "84135   False  False       False    True    False  False  False  False  False   \n",
       "\n",
       "         .net  ...    css  objective-c      c    sql  iphone  asp.net  mysql  \\\n",
       "42834   False  ...  False        False  False  False   False    False  False   \n",
       "25716   False  ...  False        False   True  False   False    False  False   \n",
       "93960   False  ...  False        False  False  False   False    False  False   \n",
       "106821  False  ...  False        False  False   True   False    False   True   \n",
       "84135   False  ...  False        False  False  False   False    False  False   \n",
       "\n",
       "        linux  node.js    git  \n",
       "42834   False    False  False  \n",
       "25716   False    False  False  \n",
       "93960   False    False  False  \n",
       "106821  False     True  False  \n",
       "84135   False    False  False  \n",
       "\n",
       "[5 rows x 21 columns]"
      ]
     },
     "execution_count": 31,
     "metadata": {},
     "output_type": "execute_result"
    }
   ],
   "source": [
    "y_train[0:5]"
   ]
  },
  {
   "cell_type": "markdown",
   "id": "34167467",
   "metadata": {
    "papermill": {
     "duration": 0.018398,
     "end_time": "2022-12-18T11:55:41.276633",
     "exception": false,
     "start_time": "2022-12-18T11:55:41.258235",
     "status": "completed"
    },
    "tags": []
   },
   "source": [
    "## SVC"
   ]
  },
  {
   "cell_type": "code",
   "execution_count": 32,
   "id": "220223e2",
   "metadata": {
    "execution": {
     "iopub.execute_input": "2022-12-18T11:55:41.315829Z",
     "iopub.status.busy": "2022-12-18T11:55:41.315370Z",
     "iopub.status.idle": "2022-12-18T11:55:41.344949Z",
     "shell.execute_reply": "2022-12-18T11:55:41.343912Z"
    },
    "papermill": {
     "duration": 0.052333,
     "end_time": "2022-12-18T11:55:41.347594",
     "exception": false,
     "start_time": "2022-12-18T11:55:41.295261",
     "status": "completed"
    },
    "tags": []
   },
   "outputs": [],
   "source": [
    "pipeline_scv = pipeline.Pipeline(\n",
    "    [\n",
    "        (\"tfidf\", pipeline_tfidf),\n",
    "        (\n",
    "            \"OvRSVC\",\n",
    "            multiclass.OneVsRestClassifier(\n",
    "                svm.SVC(cache_size=1080, max_iter=5_000 if LONG else 1_000, random_state=42)\n",
    "            ),\n",
    "        ),\n",
    "    ]\n",
    ")"
   ]
  },
  {
   "cell_type": "code",
   "execution_count": 33,
   "id": "2bf7743f",
   "metadata": {
    "execution": {
     "iopub.execute_input": "2022-12-18T11:55:41.387655Z",
     "iopub.status.busy": "2022-12-18T11:55:41.387232Z",
     "iopub.status.idle": "2022-12-18T12:17:36.463744Z",
     "shell.execute_reply": "2022-12-18T12:17:36.462375Z"
    },
    "papermill": {
     "duration": 1315.11864,
     "end_time": "2022-12-18T12:17:36.484925",
     "exception": false,
     "start_time": "2022-12-18T11:55:41.366285",
     "status": "completed"
    },
    "tags": []
   },
   "outputs": [
    {
     "name": "stdout",
     "output_type": "stream",
     "text": [
      "CPU times: user 21min 42s, sys: 11.8 s, total: 21min 54s\n",
      "Wall time: 21min 55s\n"
     ]
    }
   ],
   "source": [
    "%%time\n",
    "with ignore_warnings(category=exceptions.ConvergenceWarning):\n",
    "    pipeline_scv.fit(\n",
    "        X_train,\n",
    "        y_train,\n",
    "    )"
   ]
  },
  {
   "cell_type": "code",
   "execution_count": 34,
   "id": "f368a153",
   "metadata": {
    "execution": {
     "iopub.execute_input": "2022-12-18T12:17:36.524431Z",
     "iopub.status.busy": "2022-12-18T12:17:36.523563Z",
     "iopub.status.idle": "2022-12-18T12:24:41.090739Z",
     "shell.execute_reply": "2022-12-18T12:24:41.089368Z"
    },
    "papermill": {
     "duration": 424.609501,
     "end_time": "2022-12-18T12:24:41.112899",
     "exception": false,
     "start_time": "2022-12-18T12:17:36.503398",
     "status": "completed"
    },
    "tags": []
   },
   "outputs": [
    {
     "name": "stdout",
     "output_type": "stream",
     "text": [
      "CPU times: user 7min 5s, sys: 1.18 s, total: 7min 6s\n",
      "Wall time: 7min 4s\n"
     ]
    },
    {
     "data": {
      "text/plain": [
       "array([[0, 0, 0, ..., 0, 0, 0],\n",
       "       [0, 0, 0, ..., 0, 0, 0],\n",
       "       [0, 0, 0, ..., 0, 0, 0],\n",
       "       ...,\n",
       "       [0, 0, 0, ..., 0, 0, 0],\n",
       "       [0, 0, 1, ..., 0, 0, 0],\n",
       "       [0, 0, 0, ..., 0, 0, 0]])"
      ]
     },
     "execution_count": 34,
     "metadata": {},
     "output_type": "execute_result"
    }
   ],
   "source": [
    "%%time\n",
    "pred_scv = pipeline_scv.predict(X_test)\n",
    "pred_scv"
   ]
  },
  {
   "cell_type": "code",
   "execution_count": 35,
   "id": "9f138893",
   "metadata": {
    "execution": {
     "iopub.execute_input": "2022-12-18T12:24:41.152636Z",
     "iopub.status.busy": "2022-12-18T12:24:41.151828Z",
     "iopub.status.idle": "2022-12-18T12:24:41.267093Z",
     "shell.execute_reply": "2022-12-18T12:24:41.265590Z"
    },
    "papermill": {
     "duration": 0.13835,
     "end_time": "2022-12-18T12:24:41.270088",
     "exception": false,
     "start_time": "2022-12-18T12:24:41.131738",
     "status": "completed"
    },
    "tags": []
   },
   "outputs": [
    {
     "data": {
      "text/html": [
       "<div>\n",
       "<style scoped>\n",
       "    .dataframe tbody tr th:only-of-type {\n",
       "        vertical-align: middle;\n",
       "    }\n",
       "\n",
       "    .dataframe tbody tr th {\n",
       "        vertical-align: top;\n",
       "    }\n",
       "\n",
       "    .dataframe thead th {\n",
       "        text-align: right;\n",
       "    }\n",
       "</style>\n",
       "<table border=\"1\" class=\"dataframe\">\n",
       "  <thead>\n",
       "    <tr style=\"text-align: right;\">\n",
       "      <th></th>\n",
       "      <th>precision</th>\n",
       "      <th>recall</th>\n",
       "      <th>f1-score</th>\n",
       "      <th>support</th>\n",
       "    </tr>\n",
       "  </thead>\n",
       "  <tbody>\n",
       "    <tr>\n",
       "      <th>git</th>\n",
       "      <td>0.903509</td>\n",
       "      <td>0.751825</td>\n",
       "      <td>0.820717</td>\n",
       "      <td>274.0</td>\n",
       "    </tr>\n",
       "    <tr>\n",
       "      <th>c++</th>\n",
       "      <td>0.754601</td>\n",
       "      <td>0.250509</td>\n",
       "      <td>0.376147</td>\n",
       "      <td>1964.0</td>\n",
       "    </tr>\n",
       "    <tr>\n",
       "      <th>mysql</th>\n",
       "      <td>0.753704</td>\n",
       "      <td>0.594161</td>\n",
       "      <td>0.664490</td>\n",
       "      <td>685.0</td>\n",
       "    </tr>\n",
       "    <tr>\n",
       "      <th>android</th>\n",
       "      <td>0.694884</td>\n",
       "      <td>0.730562</td>\n",
       "      <td>0.712277</td>\n",
       "      <td>2045.0</td>\n",
       "    </tr>\n",
       "    <tr>\n",
       "      <th>node.js</th>\n",
       "      <td>0.586552</td>\n",
       "      <td>0.601173</td>\n",
       "      <td>0.593773</td>\n",
       "      <td>682.0</td>\n",
       "    </tr>\n",
       "    <tr>\n",
       "      <th>linux</th>\n",
       "      <td>0.544444</td>\n",
       "      <td>0.216176</td>\n",
       "      <td>0.309474</td>\n",
       "      <td>680.0</td>\n",
       "    </tr>\n",
       "    <tr>\n",
       "      <th>jquery</th>\n",
       "      <td>0.514717</td>\n",
       "      <td>0.443433</td>\n",
       "      <td>0.476423</td>\n",
       "      <td>1538.0</td>\n",
       "    </tr>\n",
       "    <tr>\n",
       "      <th>css</th>\n",
       "      <td>0.457585</td>\n",
       "      <td>0.653404</td>\n",
       "      <td>0.538237</td>\n",
       "      <td>1131.0</td>\n",
       "    </tr>\n",
       "    <tr>\n",
       "      <th>python</th>\n",
       "      <td>0.448074</td>\n",
       "      <td>0.703675</td>\n",
       "      <td>0.547513</td>\n",
       "      <td>2612.0</td>\n",
       "    </tr>\n",
       "    <tr>\n",
       "      <th>javascript</th>\n",
       "      <td>0.437308</td>\n",
       "      <td>0.338796</td>\n",
       "      <td>0.381800</td>\n",
       "      <td>3356.0</td>\n",
       "    </tr>\n",
       "    <tr>\n",
       "      <th>macro avg</th>\n",
       "      <td>0.429152</td>\n",
       "      <td>0.512963</td>\n",
       "      <td>0.436849</td>\n",
       "      <td>33044.0</td>\n",
       "    </tr>\n",
       "    <tr>\n",
       "      <th>weighted avg</th>\n",
       "      <td>0.404102</td>\n",
       "      <td>0.520064</td>\n",
       "      <td>0.424805</td>\n",
       "      <td>33044.0</td>\n",
       "    </tr>\n",
       "    <tr>\n",
       "      <th>php</th>\n",
       "      <td>0.361521</td>\n",
       "      <td>0.677935</td>\n",
       "      <td>0.471569</td>\n",
       "      <td>1627.0</td>\n",
       "    </tr>\n",
       "    <tr>\n",
       "      <th>java</th>\n",
       "      <td>0.351802</td>\n",
       "      <td>0.622822</td>\n",
       "      <td>0.449630</td>\n",
       "      <td>3558.0</td>\n",
       "    </tr>\n",
       "    <tr>\n",
       "      <th>asp.net</th>\n",
       "      <td>0.342138</td>\n",
       "      <td>0.337888</td>\n",
       "      <td>0.340000</td>\n",
       "      <td>805.0</td>\n",
       "    </tr>\n",
       "    <tr>\n",
       "      <th>micro avg</th>\n",
       "      <td>0.336394</td>\n",
       "      <td>0.520064</td>\n",
       "      <td>0.408534</td>\n",
       "      <td>33044.0</td>\n",
       "    </tr>\n",
       "    <tr>\n",
       "      <th>samples avg</th>\n",
       "      <td>0.331598</td>\n",
       "      <td>0.431463</td>\n",
       "      <td>0.349181</td>\n",
       "      <td>33044.0</td>\n",
       "    </tr>\n",
       "    <tr>\n",
       "      <th>ios</th>\n",
       "      <td>0.322519</td>\n",
       "      <td>0.637500</td>\n",
       "      <td>0.428337</td>\n",
       "      <td>1840.0</td>\n",
       "    </tr>\n",
       "    <tr>\n",
       "      <th>sql</th>\n",
       "      <td>0.285714</td>\n",
       "      <td>0.455172</td>\n",
       "      <td>0.351064</td>\n",
       "      <td>870.0</td>\n",
       "    </tr>\n",
       "    <tr>\n",
       "      <th>c#</th>\n",
       "      <td>0.255605</td>\n",
       "      <td>0.525194</td>\n",
       "      <td>0.343859</td>\n",
       "      <td>3473.0</td>\n",
       "    </tr>\n",
       "    <tr>\n",
       "      <th>c</th>\n",
       "      <td>0.250741</td>\n",
       "      <td>0.477966</td>\n",
       "      <td>0.328927</td>\n",
       "      <td>885.0</td>\n",
       "    </tr>\n",
       "    <tr>\n",
       "      <th>iphone</th>\n",
       "      <td>0.212963</td>\n",
       "      <td>0.427509</td>\n",
       "      <td>0.284302</td>\n",
       "      <td>807.0</td>\n",
       "    </tr>\n",
       "    <tr>\n",
       "      <th>objective-c</th>\n",
       "      <td>0.211086</td>\n",
       "      <td>0.424550</td>\n",
       "      <td>0.281975</td>\n",
       "      <td>888.0</td>\n",
       "    </tr>\n",
       "    <tr>\n",
       "      <th>html</th>\n",
       "      <td>0.194793</td>\n",
       "      <td>0.477493</td>\n",
       "      <td>0.276705</td>\n",
       "      <td>1755.0</td>\n",
       "    </tr>\n",
       "    <tr>\n",
       "      <th>.net</th>\n",
       "      <td>0.127929</td>\n",
       "      <td>0.424474</td>\n",
       "      <td>0.196605</td>\n",
       "      <td>1569.0</td>\n",
       "    </tr>\n",
       "  </tbody>\n",
       "</table>\n",
       "</div>"
      ],
      "text/plain": [
       "              precision    recall  f1-score  support\n",
       "git            0.903509  0.751825  0.820717    274.0\n",
       "c++            0.754601  0.250509  0.376147   1964.0\n",
       "mysql          0.753704  0.594161  0.664490    685.0\n",
       "android        0.694884  0.730562  0.712277   2045.0\n",
       "node.js        0.586552  0.601173  0.593773    682.0\n",
       "linux          0.544444  0.216176  0.309474    680.0\n",
       "jquery         0.514717  0.443433  0.476423   1538.0\n",
       "css            0.457585  0.653404  0.538237   1131.0\n",
       "python         0.448074  0.703675  0.547513   2612.0\n",
       "javascript     0.437308  0.338796  0.381800   3356.0\n",
       "macro avg      0.429152  0.512963  0.436849  33044.0\n",
       "weighted avg   0.404102  0.520064  0.424805  33044.0\n",
       "php            0.361521  0.677935  0.471569   1627.0\n",
       "java           0.351802  0.622822  0.449630   3558.0\n",
       "asp.net        0.342138  0.337888  0.340000    805.0\n",
       "micro avg      0.336394  0.520064  0.408534  33044.0\n",
       "samples avg    0.331598  0.431463  0.349181  33044.0\n",
       "ios            0.322519  0.637500  0.428337   1840.0\n",
       "sql            0.285714  0.455172  0.351064    870.0\n",
       "c#             0.255605  0.525194  0.343859   3473.0\n",
       "c              0.250741  0.477966  0.328927    885.0\n",
       "iphone         0.212963  0.427509  0.284302    807.0\n",
       "objective-c    0.211086  0.424550  0.281975    888.0\n",
       "html           0.194793  0.477493  0.276705   1755.0\n",
       ".net           0.127929  0.424474  0.196605   1569.0"
      ]
     },
     "execution_count": 35,
     "metadata": {},
     "output_type": "execute_result"
    }
   ],
   "source": [
    "scores_scv = save_score(y_test,pred_scv,target_names,\"TfidfOvRestSvc\")\n",
    "scores_scv.sort_values(by=\"precision\", ascending=False)"
   ]
  },
  {
   "cell_type": "markdown",
   "id": "be09b3e2",
   "metadata": {
    "papermill": {
     "duration": 0.018968,
     "end_time": "2022-12-18T12:24:41.308528",
     "exception": false,
     "start_time": "2022-12-18T12:24:41.289560",
     "status": "completed"
    },
    "tags": []
   },
   "source": [
    "# Word2Vec"
   ]
  },
  {
   "cell_type": "code",
   "execution_count": 36,
   "id": "644d65ad",
   "metadata": {
    "execution": {
     "iopub.execute_input": "2022-12-18T12:24:41.348872Z",
     "iopub.status.busy": "2022-12-18T12:24:41.348428Z",
     "iopub.status.idle": "2022-12-18T12:24:41.362457Z",
     "shell.execute_reply": "2022-12-18T12:24:41.361260Z"
    },
    "papermill": {
     "duration": 0.037227,
     "end_time": "2022-12-18T12:24:41.364938",
     "exception": false,
     "start_time": "2022-12-18T12:24:41.327711",
     "status": "completed"
    },
    "tags": []
   },
   "outputs": [
    {
     "data": {
      "text/plain": [
       "0    process array process arraypiece c++ code show...\n",
       "1    undo commit gitcommit file git push commit ser...\n",
       "2    delete git branchdelete remote origin bugfix b...\n",
       "3    difference git pull git fetchdifference git pu...\n",
       "4    operator c++read hidden features dark corners ...\n",
       "5                                           stack heap\n",
       "6    force git pull overwrite fileforce overwrite f...\n",
       "7    check element hide jquerytoggle visibility ele...\n",
       "8    use javascript reasoningrun javascript code cr...\n",
       "9    _ _ _ = _ _include statement try close questio...\n",
       "Name: Token, dtype: object"
      ]
     },
     "execution_count": 36,
     "metadata": {},
     "output_type": "execute_result"
    }
   ],
   "source": [
    "df[0:10][\"Token\"]"
   ]
  },
  {
   "cell_type": "code",
   "execution_count": 37,
   "id": "1654f2a6",
   "metadata": {
    "execution": {
     "iopub.execute_input": "2022-12-18T12:24:41.406864Z",
     "iopub.status.busy": "2022-12-18T12:24:41.406141Z",
     "iopub.status.idle": "2022-12-18T12:24:41.411921Z",
     "shell.execute_reply": "2022-12-18T12:24:41.411009Z"
    },
    "papermill": {
     "duration": 0.029296,
     "end_time": "2022-12-18T12:24:41.414272",
     "exception": false,
     "start_time": "2022-12-18T12:24:41.384976",
     "status": "completed"
    },
    "tags": []
   },
   "outputs": [],
   "source": [
    "# gensim.corpora.Dictionary(token[\"Token\"])"
   ]
  },
  {
   "cell_type": "code",
   "execution_count": 38,
   "id": "0ce0797a",
   "metadata": {
    "execution": {
     "iopub.execute_input": "2022-12-18T12:24:41.455534Z",
     "iopub.status.busy": "2022-12-18T12:24:41.454837Z",
     "iopub.status.idle": "2022-12-18T12:26:37.359027Z",
     "shell.execute_reply": "2022-12-18T12:26:37.357648Z"
    },
    "papermill": {
     "duration": 115.94717,
     "end_time": "2022-12-18T12:26:37.380871",
     "exception": false,
     "start_time": "2022-12-18T12:24:41.433701",
     "status": "completed"
    },
    "tags": []
   },
   "outputs": [
    {
     "name": "stdout",
     "output_type": "stream",
     "text": [
      "Build & train Word2Vec model ...\n",
      "Vocabulary size: 133\n",
      "Word2Vec trained\n",
      "CPU times: user 1min 56s, sys: 1.67 s, total: 1min 57s\n",
      "Wall time: 1min 55s\n"
     ]
    }
   ],
   "source": [
    "%%time\n",
    "print(\"Build & train Word2Vec model ...\")\n",
    "# sentences = [gensim.utils.simple_preprocess(text) for text in df[0:20_000][\"Token\"]]\n",
    "sentences = df[0:10_000][\"Token\"]\n",
    "w2v_min_count = 1\n",
    "w2v_size = 300\n",
    "w2v_window = 5\n",
    "w2v_epochs = 100\n",
    "maxlen = 24\n",
    "w2v_model = gensim.models.Word2Vec(\n",
    "    min_count=w2v_min_count, window=w2v_window, vector_size=w2v_size, seed=42, workers=1\n",
    ")\n",
    "#                                                workers=multiprocessing.cpu_count())\n",
    "w2v_model.build_vocab(sentences)\n",
    "w2v_model.train(sentences, total_examples=w2v_model.corpus_count, epochs=w2v_epochs)\n",
    "model_vectors = w2v_model.wv\n",
    "w2v_words = model_vectors.index_to_key\n",
    "print(\"Vocabulary size: %i\" % len(w2v_words))\n",
    "print(\"Word2Vec trained\")"
   ]
  },
  {
   "cell_type": "code",
   "execution_count": 39,
   "id": "db6a6f88",
   "metadata": {
    "execution": {
     "iopub.execute_input": "2022-12-18T12:26:37.423355Z",
     "iopub.status.busy": "2022-12-18T12:26:37.422604Z",
     "iopub.status.idle": "2022-12-18T12:26:39.296302Z",
     "shell.execute_reply": "2022-12-18T12:26:39.294271Z"
    },
    "papermill": {
     "duration": 1.898411,
     "end_time": "2022-12-18T12:26:39.299281",
     "exception": false,
     "start_time": "2022-12-18T12:26:37.400870",
     "status": "completed"
    },
    "tags": []
   },
   "outputs": [
    {
     "name": "stdout",
     "output_type": "stream",
     "text": [
      "Number of unique words: 23893\n",
      "CPU times: user 1.42 s, sys: 138 ms, total: 1.56 s\n",
      "Wall time: 1.84 s\n"
     ]
    }
   ],
   "source": [
    "%%time\n",
    "tokenizer = keras.preprocessing.text.Tokenizer()\n",
    "tokenizer.fit_on_texts(sentences)\n",
    "x_sentences = keras.preprocessing.sequence.pad_sequences(\n",
    "    tokenizer.texts_to_sequences(sentences), maxlen=maxlen, padding=\"post\"\n",
    ")\n",
    "\n",
    "num_words = len(tokenizer.word_index) + 1\n",
    "print(\"Number of unique words: %i\" % num_words)"
   ]
  },
  {
   "cell_type": "markdown",
   "id": "47e1ef4c",
   "metadata": {
    "papermill": {
     "duration": 0.019369,
     "end_time": "2022-12-18T12:26:39.340495",
     "exception": false,
     "start_time": "2022-12-18T12:26:39.321126",
     "status": "completed"
    },
    "tags": []
   },
   "source": [
    "## matrice d'embedding"
   ]
  },
  {
   "cell_type": "code",
   "execution_count": 40,
   "id": "0d0e1b12",
   "metadata": {
    "execution": {
     "iopub.execute_input": "2022-12-18T12:26:39.383379Z",
     "iopub.status.busy": "2022-12-18T12:26:39.382134Z",
     "iopub.status.idle": "2022-12-18T12:26:39.500291Z",
     "shell.execute_reply": "2022-12-18T12:26:39.498817Z"
    },
    "papermill": {
     "duration": 0.142213,
     "end_time": "2022-12-18T12:26:39.502995",
     "exception": false,
     "start_time": "2022-12-18T12:26:39.360782",
     "status": "completed"
    },
    "tags": []
   },
   "outputs": [
    {
     "name": "stdout",
     "output_type": "stream",
     "text": [
      "Create Embedding matrix ...\n",
      "Word embedding rate :  0.0034\n",
      "Embedding matrix: (23893, 300)\n",
      "CPU times: user 65.9 ms, sys: 0 ns, total: 65.9 ms\n",
      "Wall time: 65.5 ms\n"
     ]
    }
   ],
   "source": [
    "%%time\n",
    "print(\"Create Embedding matrix ...\")\n",
    "w2v_size = 300\n",
    "word_index = tokenizer.word_index\n",
    "vocab_size = len(word_index) + 1\n",
    "embedding_matrix = np.zeros((vocab_size, w2v_size))\n",
    "i = 0\n",
    "j = 0\n",
    "\n",
    "for word, idx in word_index.items():\n",
    "    i += 1\n",
    "    if word in w2v_words:\n",
    "        j += 1\n",
    "        embedding_vector = model_vectors[word]\n",
    "        if embedding_vector is not None:\n",
    "            embedding_matrix[idx] = model_vectors[word]\n",
    "\n",
    "word_rate = np.round(j / i, 4)\n",
    "print(\"Word embedding rate : \", word_rate)\n",
    "print(\"Embedding matrix: %s\" % str(embedding_matrix.shape))"
   ]
  },
  {
   "cell_type": "markdown",
   "id": "6650be5a",
   "metadata": {
    "papermill": {
     "duration": 0.019157,
     "end_time": "2022-12-18T12:26:39.541840",
     "exception": false,
     "start_time": "2022-12-18T12:26:39.522683",
     "status": "completed"
    },
    "tags": []
   },
   "source": [
    "## Creation du modèle"
   ]
  },
  {
   "cell_type": "code",
   "execution_count": 41,
   "id": "29285d36",
   "metadata": {
    "execution": {
     "iopub.execute_input": "2022-12-18T12:26:39.582604Z",
     "iopub.status.busy": "2022-12-18T12:26:39.582132Z",
     "iopub.status.idle": "2022-12-18T12:26:39.800555Z",
     "shell.execute_reply": "2022-12-18T12:26:39.798501Z"
    },
    "papermill": {
     "duration": 0.241881,
     "end_time": "2022-12-18T12:26:39.803322",
     "exception": false,
     "start_time": "2022-12-18T12:26:39.561441",
     "status": "completed"
    },
    "tags": []
   },
   "outputs": [
    {
     "name": "stdout",
     "output_type": "stream",
     "text": [
      "Model: \"model\"\n",
      "_________________________________________________________________\n",
      "Layer (type)                 Output Shape              Param #   \n",
      "=================================================================\n",
      "input_2 (InputLayer)         [(None, 24)]              0         \n",
      "_________________________________________________________________\n",
      "embedding (Embedding)        (None, 24, 300)           7167900   \n",
      "_________________________________________________________________\n",
      "global_average_pooling1d (Gl (None, 300)               0         \n",
      "=================================================================\n",
      "Total params: 7,167,900\n",
      "Trainable params: 7,167,900\n",
      "Non-trainable params: 0\n",
      "_________________________________________________________________\n",
      "CPU times: user 154 ms, sys: 90.2 ms, total: 244 ms\n",
      "Wall time: 175 ms\n"
     ]
    },
    {
     "name": "stderr",
     "output_type": "stream",
     "text": [
      "2022-12-18 12:26:39.674981: I tensorflow/core/common_runtime/process_util.cc:146] Creating new thread pool with default inter op setting: 2. Tune using inter_op_parallelism_threads for best performance.\n"
     ]
    }
   ],
   "source": [
    "%%time\n",
    "input = keras.layers.Input(shape=(len(x_sentences), maxlen), dtype=\"float64\")\n",
    "word_input = keras.layers.Input(shape=(maxlen,), dtype=\"float64\")\n",
    "word_embedding = keras.layers.Embedding(\n",
    "    input_dim=vocab_size,\n",
    "    output_dim=w2v_size,\n",
    "    weights=[embedding_matrix],\n",
    "    input_length=maxlen,\n",
    ")(word_input)\n",
    "word_vec = keras.layers.GlobalAveragePooling1D()(word_embedding)\n",
    "embed_model = keras.models.Model([word_input], word_vec)\n",
    "\n",
    "embed_model.summary()"
   ]
  },
  {
   "cell_type": "code",
   "execution_count": 42,
   "id": "89cb83f3",
   "metadata": {
    "execution": {
     "iopub.execute_input": "2022-12-18T12:26:39.847592Z",
     "iopub.status.busy": "2022-12-18T12:26:39.847104Z",
     "iopub.status.idle": "2022-12-18T12:26:40.401937Z",
     "shell.execute_reply": "2022-12-18T12:26:40.400570Z"
    },
    "papermill": {
     "duration": 0.58025,
     "end_time": "2022-12-18T12:26:40.404799",
     "exception": false,
     "start_time": "2022-12-18T12:26:39.824549",
     "status": "completed"
    },
    "tags": []
   },
   "outputs": [
    {
     "name": "stderr",
     "output_type": "stream",
     "text": [
      "2022-12-18 12:26:39.939419: I tensorflow/compiler/mlir/mlir_graph_optimization_pass.cc:185] None of the MLIR Optimization Passes are enabled (registered 2)\n"
     ]
    },
    {
     "data": {
      "text/plain": [
       "(10000, 300)"
      ]
     },
     "execution_count": 42,
     "metadata": {},
     "output_type": "execute_result"
    }
   ],
   "source": [
    "embeddings = embed_model.predict(x_sentences)\n",
    "embeddings.shape"
   ]
  },
  {
   "cell_type": "code",
   "execution_count": 43,
   "id": "bb4134c9",
   "metadata": {
    "execution": {
     "iopub.execute_input": "2022-12-18T12:26:40.447362Z",
     "iopub.status.busy": "2022-12-18T12:26:40.446850Z",
     "iopub.status.idle": "2022-12-18T12:27:46.764030Z",
     "shell.execute_reply": "2022-12-18T12:27:46.762946Z"
    },
    "papermill": {
     "duration": 66.366066,
     "end_time": "2022-12-18T12:27:46.791381",
     "exception": false,
     "start_time": "2022-12-18T12:26:40.425315",
     "status": "completed"
    },
    "tags": []
   },
   "outputs": [
    {
     "name": "stdout",
     "output_type": "stream",
     "text": [
      "CPU times: user 1min 6s, sys: 233 ms, total: 1min 6s\n",
      "Wall time: 1min 6s\n"
     ]
    }
   ],
   "source": [
    "%%time\n",
    "with ignore_warnings(category=exceptions.ConvergenceWarning):\n",
    "    OvsRSVC_word2vec = multiclass.OneVsRestClassifier(\n",
    "        svm.SVC(cache_size=1080, max_iter=5_000 if LONG else 1_000, random_state=42)\n",
    "    ).fit(embeddings, tags_are_in(df[0:10_000], target_names))"
   ]
  },
  {
   "cell_type": "code",
   "execution_count": 44,
   "id": "321efbcd",
   "metadata": {
    "execution": {
     "iopub.execute_input": "2022-12-18T12:27:46.835667Z",
     "iopub.status.busy": "2022-12-18T12:27:46.834803Z",
     "iopub.status.idle": "2022-12-18T12:29:13.670077Z",
     "shell.execute_reply": "2022-12-18T12:29:13.668718Z"
    },
    "papermill": {
     "duration": 86.881482,
     "end_time": "2022-12-18T12:29:13.693601",
     "exception": false,
     "start_time": "2022-12-18T12:27:46.812119",
     "status": "completed"
    },
    "tags": []
   },
   "outputs": [
    {
     "name": "stdout",
     "output_type": "stream",
     "text": [
      "CPU times: user 1min 26s, sys: 10.3 ms, total: 1min 26s\n",
      "Wall time: 1min 26s\n"
     ]
    },
    {
     "data": {
      "text/plain": [
       "array([[0, 0, 0, ..., 0, 0, 0],\n",
       "       [1, 0, 1, ..., 0, 0, 0],\n",
       "       [1, 0, 1, ..., 0, 0, 0],\n",
       "       ...,\n",
       "       [1, 0, 1, ..., 0, 0, 0],\n",
       "       [1, 0, 1, ..., 0, 0, 0],\n",
       "       [1, 0, 1, ..., 0, 0, 0]])"
      ]
     },
     "execution_count": 44,
     "metadata": {},
     "output_type": "execute_result"
    }
   ],
   "source": [
    "%%time\n",
    "pred_word2vec = OvsRSVC_word2vec.predict(embeddings)\n",
    "pred_word2vec"
   ]
  },
  {
   "cell_type": "code",
   "execution_count": 45,
   "id": "5ee3cbbf",
   "metadata": {
    "execution": {
     "iopub.execute_input": "2022-12-18T12:29:13.736676Z",
     "iopub.status.busy": "2022-12-18T12:29:13.735917Z",
     "iopub.status.idle": "2022-12-18T12:29:13.913607Z",
     "shell.execute_reply": "2022-12-18T12:29:13.912275Z"
    },
    "papermill": {
     "duration": 0.202726,
     "end_time": "2022-12-18T12:29:13.916559",
     "exception": false,
     "start_time": "2022-12-18T12:29:13.713833",
     "status": "completed"
    },
    "tags": []
   },
   "outputs": [
    {
     "data": {
      "text/html": [
       "<div>\n",
       "<style scoped>\n",
       "    .dataframe tbody tr th:only-of-type {\n",
       "        vertical-align: middle;\n",
       "    }\n",
       "\n",
       "    .dataframe tbody tr th {\n",
       "        vertical-align: top;\n",
       "    }\n",
       "\n",
       "    .dataframe thead th {\n",
       "        text-align: right;\n",
       "    }\n",
       "</style>\n",
       "<table border=\"1\" class=\"dataframe\">\n",
       "  <thead>\n",
       "    <tr style=\"text-align: right;\">\n",
       "      <th></th>\n",
       "      <th>precision</th>\n",
       "      <th>recall</th>\n",
       "      <th>f1-score</th>\n",
       "      <th>support</th>\n",
       "    </tr>\n",
       "  </thead>\n",
       "  <tbody>\n",
       "    <tr>\n",
       "      <th>jquery</th>\n",
       "      <td>1.000000</td>\n",
       "      <td>0.010076</td>\n",
       "      <td>0.019950</td>\n",
       "      <td>397.0</td>\n",
       "    </tr>\n",
       "    <tr>\n",
       "      <th>.net</th>\n",
       "      <td>1.000000</td>\n",
       "      <td>0.003781</td>\n",
       "      <td>0.007533</td>\n",
       "      <td>529.0</td>\n",
       "    </tr>\n",
       "    <tr>\n",
       "      <th>linux</th>\n",
       "      <td>1.000000</td>\n",
       "      <td>0.007018</td>\n",
       "      <td>0.013937</td>\n",
       "      <td>285.0</td>\n",
       "    </tr>\n",
       "    <tr>\n",
       "      <th>mysql</th>\n",
       "      <td>1.000000</td>\n",
       "      <td>0.011236</td>\n",
       "      <td>0.022222</td>\n",
       "      <td>178.0</td>\n",
       "    </tr>\n",
       "    <tr>\n",
       "      <th>sql</th>\n",
       "      <td>1.000000</td>\n",
       "      <td>0.002762</td>\n",
       "      <td>0.005510</td>\n",
       "      <td>362.0</td>\n",
       "    </tr>\n",
       "    <tr>\n",
       "      <th>c</th>\n",
       "      <td>1.000000</td>\n",
       "      <td>0.022422</td>\n",
       "      <td>0.043860</td>\n",
       "      <td>223.0</td>\n",
       "    </tr>\n",
       "    <tr>\n",
       "      <th>css</th>\n",
       "      <td>1.000000</td>\n",
       "      <td>0.002710</td>\n",
       "      <td>0.005405</td>\n",
       "      <td>369.0</td>\n",
       "    </tr>\n",
       "    <tr>\n",
       "      <th>git</th>\n",
       "      <td>1.000000</td>\n",
       "      <td>0.007067</td>\n",
       "      <td>0.014035</td>\n",
       "      <td>283.0</td>\n",
       "    </tr>\n",
       "    <tr>\n",
       "      <th>node.js</th>\n",
       "      <td>1.000000</td>\n",
       "      <td>0.044118</td>\n",
       "      <td>0.084507</td>\n",
       "      <td>272.0</td>\n",
       "    </tr>\n",
       "    <tr>\n",
       "      <th>php</th>\n",
       "      <td>1.000000</td>\n",
       "      <td>0.006849</td>\n",
       "      <td>0.013605</td>\n",
       "      <td>292.0</td>\n",
       "    </tr>\n",
       "    <tr>\n",
       "      <th>html</th>\n",
       "      <td>1.000000</td>\n",
       "      <td>0.001718</td>\n",
       "      <td>0.003431</td>\n",
       "      <td>582.0</td>\n",
       "    </tr>\n",
       "    <tr>\n",
       "      <th>android</th>\n",
       "      <td>1.000000</td>\n",
       "      <td>0.008798</td>\n",
       "      <td>0.017442</td>\n",
       "      <td>682.0</td>\n",
       "    </tr>\n",
       "    <tr>\n",
       "      <th>c++</th>\n",
       "      <td>0.903226</td>\n",
       "      <td>0.058700</td>\n",
       "      <td>0.110236</td>\n",
       "      <td>477.0</td>\n",
       "    </tr>\n",
       "    <tr>\n",
       "      <th>c#</th>\n",
       "      <td>0.842105</td>\n",
       "      <td>0.016736</td>\n",
       "      <td>0.032821</td>\n",
       "      <td>956.0</td>\n",
       "    </tr>\n",
       "    <tr>\n",
       "      <th>macro avg</th>\n",
       "      <td>0.671671</td>\n",
       "      <td>0.140237</td>\n",
       "      <td>0.049066</td>\n",
       "      <td>10643.0</td>\n",
       "    </tr>\n",
       "    <tr>\n",
       "      <th>weighted avg</th>\n",
       "      <td>0.574698</td>\n",
       "      <td>0.312506</td>\n",
       "      <td>0.086087</td>\n",
       "      <td>10643.0</td>\n",
       "    </tr>\n",
       "    <tr>\n",
       "      <th>javascript</th>\n",
       "      <td>0.128906</td>\n",
       "      <td>0.928457</td>\n",
       "      <td>0.226382</td>\n",
       "      <td>1244.0</td>\n",
       "    </tr>\n",
       "    <tr>\n",
       "      <th>micro avg</th>\n",
       "      <td>0.122631</td>\n",
       "      <td>0.312506</td>\n",
       "      <td>0.176142</td>\n",
       "      <td>10643.0</td>\n",
       "    </tr>\n",
       "    <tr>\n",
       "      <th>samples avg</th>\n",
       "      <td>0.119883</td>\n",
       "      <td>0.284017</td>\n",
       "      <td>0.161630</td>\n",
       "      <td>10643.0</td>\n",
       "    </tr>\n",
       "    <tr>\n",
       "      <th>python</th>\n",
       "      <td>0.118023</td>\n",
       "      <td>0.897774</td>\n",
       "      <td>0.208621</td>\n",
       "      <td>1213.0</td>\n",
       "    </tr>\n",
       "    <tr>\n",
       "      <th>java</th>\n",
       "      <td>0.112832</td>\n",
       "      <td>0.914757</td>\n",
       "      <td>0.200886</td>\n",
       "      <td>1091.0</td>\n",
       "    </tr>\n",
       "    <tr>\n",
       "      <th>asp.net</th>\n",
       "      <td>0.000000</td>\n",
       "      <td>0.000000</td>\n",
       "      <td>0.000000</td>\n",
       "      <td>136.0</td>\n",
       "    </tr>\n",
       "    <tr>\n",
       "      <th>iphone</th>\n",
       "      <td>0.000000</td>\n",
       "      <td>0.000000</td>\n",
       "      <td>0.000000</td>\n",
       "      <td>207.0</td>\n",
       "    </tr>\n",
       "    <tr>\n",
       "      <th>ios</th>\n",
       "      <td>0.000000</td>\n",
       "      <td>0.000000</td>\n",
       "      <td>0.000000</td>\n",
       "      <td>588.0</td>\n",
       "    </tr>\n",
       "    <tr>\n",
       "      <th>objective-c</th>\n",
       "      <td>0.000000</td>\n",
       "      <td>0.000000</td>\n",
       "      <td>0.000000</td>\n",
       "      <td>277.0</td>\n",
       "    </tr>\n",
       "  </tbody>\n",
       "</table>\n",
       "</div>"
      ],
      "text/plain": [
       "              precision    recall  f1-score  support\n",
       "jquery         1.000000  0.010076  0.019950    397.0\n",
       ".net           1.000000  0.003781  0.007533    529.0\n",
       "linux          1.000000  0.007018  0.013937    285.0\n",
       "mysql          1.000000  0.011236  0.022222    178.0\n",
       "sql            1.000000  0.002762  0.005510    362.0\n",
       "c              1.000000  0.022422  0.043860    223.0\n",
       "css            1.000000  0.002710  0.005405    369.0\n",
       "git            1.000000  0.007067  0.014035    283.0\n",
       "node.js        1.000000  0.044118  0.084507    272.0\n",
       "php            1.000000  0.006849  0.013605    292.0\n",
       "html           1.000000  0.001718  0.003431    582.0\n",
       "android        1.000000  0.008798  0.017442    682.0\n",
       "c++            0.903226  0.058700  0.110236    477.0\n",
       "c#             0.842105  0.016736  0.032821    956.0\n",
       "macro avg      0.671671  0.140237  0.049066  10643.0\n",
       "weighted avg   0.574698  0.312506  0.086087  10643.0\n",
       "javascript     0.128906  0.928457  0.226382   1244.0\n",
       "micro avg      0.122631  0.312506  0.176142  10643.0\n",
       "samples avg    0.119883  0.284017  0.161630  10643.0\n",
       "python         0.118023  0.897774  0.208621   1213.0\n",
       "java           0.112832  0.914757  0.200886   1091.0\n",
       "asp.net        0.000000  0.000000  0.000000    136.0\n",
       "iphone         0.000000  0.000000  0.000000    207.0\n",
       "ios            0.000000  0.000000  0.000000    588.0\n",
       "objective-c    0.000000  0.000000  0.000000    277.0"
      ]
     },
     "execution_count": 45,
     "metadata": {},
     "output_type": "execute_result"
    }
   ],
   "source": [
    "scores_word2vec = save_score(\n",
    "    tags_are_in(df[0:10_000], target_names), pred_word2vec, target_names, \"word2vec\"\n",
    ")\n",
    "scores_word2vec.sort_values(by=\"precision\", ascending=False)"
   ]
  },
  {
   "cell_type": "code",
   "execution_count": 46,
   "id": "97df2330",
   "metadata": {
    "execution": {
     "iopub.execute_input": "2022-12-18T12:29:13.960967Z",
     "iopub.status.busy": "2022-12-18T12:29:13.960537Z",
     "iopub.status.idle": "2022-12-18T12:29:14.087528Z",
     "shell.execute_reply": "2022-12-18T12:29:14.086234Z"
    },
    "papermill": {
     "duration": 0.152429,
     "end_time": "2022-12-18T12:29:14.090595",
     "exception": false,
     "start_time": "2022-12-18T12:29:13.938166",
     "status": "completed"
    },
    "tags": []
   },
   "outputs": [],
   "source": [
    "def ARI_fct(features, target_names, y):\n",
    "    time1 = time.time()\n",
    "    num_labels = len(target_names)\n",
    "    tsne = manifold.TSNE(\n",
    "        n_components=2,\n",
    "        perplexity=30,\n",
    "        n_iter=2000,\n",
    "        init=\"random\",\n",
    "        learning_rate=200,\n",
    "        random_state=42,\n",
    "    )\n",
    "    X_tsne = tsne.fit_transform(features)\n",
    "\n",
    "    # Détermination des clusters à partir des données après Tsne\n",
    "    cls = cluster.KMeans(n_clusters=num_labels, n_init=100, random_state=42)\n",
    "    cls.fit(X_tsne)\n",
    "    #     ARI = np.round(metrics.adjusted_rand_score(y, cls.labels_), 4)\n",
    "    time2 = np.round(time.time() - time1, 0)\n",
    "    scores = pd.DataFrame(\n",
    "        metrics.classification_report(\n",
    "            np.argmax(y, axis=1),\n",
    "            np.argmax(cls.labels_, axis=1),\n",
    "            target_names=target_names,\n",
    "            zero_division=0,\n",
    "            output_dict=True,\n",
    "        )\n",
    "    )\n",
    "    print(scores)\n",
    "    print(\"time : {:.2f}\".format(ARI, time.time() - time1))\n",
    "\n",
    "    return scores, X_tsne, cls.labels_\n",
    "\n",
    "\n",
    "# visualisation du Tsne selon les vraies catégories et selon les clusters\n",
    "def TSNE_visu_fct(X_tsne, y, labels, ARI):\n",
    "    fig = plt.figure(figsize=(15, 6))\n",
    "\n",
    "    ax = fig.add_subplot(121)\n",
    "    scatter = ax.scatter(X_tsne[:, 0], X_tsne[:, 1], c=y, cmap=\"Set1\")\n",
    "    ax.legend(\n",
    "        handles=scatter.legend_elements()[0],\n",
    "        labels=l_cat,\n",
    "        loc=\"best\",\n",
    "        title=\"Categorie\",\n",
    "    )\n",
    "    plt.title(\"Représentation des tweets par catégories réelles\")\n",
    "\n",
    "    ax = fig.add_subplot(122)\n",
    "    scatter = ax.scatter(X_tsne[:, 0], X_tsne[:, 1], c=labels, cmap=\"Set1\")\n",
    "    ax.legend(\n",
    "        handles=scatter.legend_elements()[0],\n",
    "        labels=set(labels),\n",
    "        loc=\"best\",\n",
    "        title=\"Clusters\",\n",
    "    )\n",
    "    plt.title(\"Représentation des tweets par clusters\")\n",
    "\n",
    "    plt.show()\n",
    "    print(\"ARI : \", ARI)"
   ]
  },
  {
   "cell_type": "code",
   "execution_count": 47,
   "id": "8a3de9ad",
   "metadata": {
    "execution": {
     "iopub.execute_input": "2022-12-18T12:29:14.134383Z",
     "iopub.status.busy": "2022-12-18T12:29:14.133907Z",
     "iopub.status.idle": "2022-12-18T12:29:14.143365Z",
     "shell.execute_reply": "2022-12-18T12:29:14.142113Z"
    },
    "papermill": {
     "duration": 0.034897,
     "end_time": "2022-12-18T12:29:14.146339",
     "exception": false,
     "start_time": "2022-12-18T12:29:14.111442",
     "status": "completed"
    },
    "tags": []
   },
   "outputs": [
    {
     "name": "stdout",
     "output_type": "stream",
     "text": [
      "CPU times: user 3 µs, sys: 1e+03 ns, total: 4 µs\n",
      "Wall time: 8.58 µs\n"
     ]
    }
   ],
   "source": [
    "%%time\n",
    "# ARI, X_tsne, labels = ARI_fct(\n",
    "#     embeddings, target_names, y=tags_are_in(df[0:20000], target_names)\n",
    "# )"
   ]
  },
  {
   "cell_type": "code",
   "execution_count": 48,
   "id": "4e140b0a",
   "metadata": {
    "execution": {
     "iopub.execute_input": "2022-12-18T12:29:14.191948Z",
     "iopub.status.busy": "2022-12-18T12:29:14.191497Z",
     "iopub.status.idle": "2022-12-18T12:29:14.199512Z",
     "shell.execute_reply": "2022-12-18T12:29:14.198021Z"
    },
    "papermill": {
     "duration": 0.034082,
     "end_time": "2022-12-18T12:29:14.202208",
     "exception": false,
     "start_time": "2022-12-18T12:29:14.168126",
     "status": "completed"
    },
    "tags": []
   },
   "outputs": [],
   "source": [
    "# %%time\n",
    "# tsne = manifold.TSNE(\n",
    "#     n_components=2,\n",
    "#     perplexity=30,\n",
    "#     n_iter=2000,\n",
    "#     init=\"random\",\n",
    "#     learning_rate=200,\n",
    "#     random_state=42,\n",
    "# )\n",
    "# X_tsne = tsne.fit_transform(embeddings)"
   ]
  },
  {
   "cell_type": "code",
   "execution_count": 49,
   "id": "17deffda",
   "metadata": {
    "execution": {
     "iopub.execute_input": "2022-12-18T12:29:14.246063Z",
     "iopub.status.busy": "2022-12-18T12:29:14.245632Z",
     "iopub.status.idle": "2022-12-18T12:29:14.251421Z",
     "shell.execute_reply": "2022-12-18T12:29:14.250093Z"
    },
    "papermill": {
     "duration": 0.031053,
     "end_time": "2022-12-18T12:29:14.254192",
     "exception": false,
     "start_time": "2022-12-18T12:29:14.223139",
     "status": "completed"
    },
    "tags": []
   },
   "outputs": [],
   "source": [
    "# X_tsne"
   ]
  },
  {
   "cell_type": "code",
   "execution_count": 50,
   "id": "d72170d3",
   "metadata": {
    "execution": {
     "iopub.execute_input": "2022-12-18T12:29:14.298261Z",
     "iopub.status.busy": "2022-12-18T12:29:14.297520Z",
     "iopub.status.idle": "2022-12-18T12:29:14.305882Z",
     "shell.execute_reply": "2022-12-18T12:29:14.304976Z"
    },
    "papermill": {
     "duration": 0.033435,
     "end_time": "2022-12-18T12:29:14.308407",
     "exception": false,
     "start_time": "2022-12-18T12:29:14.274972",
     "status": "completed"
    },
    "tags": []
   },
   "outputs": [],
   "source": [
    "# %%time\n",
    "# # Détermination des clusters à partir des données après Tsne\n",
    "# time_start = time.time()\n",
    "# cls = cluster.KMeans(n_clusters=len(target_names), n_init=100, random_state=42)\n",
    "# cls.fit(X_tsne)\n",
    "# #     ARI = np.round(metrics.adjusted_rand_score(y, cls.labels_), 4)\n",
    "# scores = pd.DataFrame(\n",
    "#     metrics.classification_report(\n",
    "#         tags_are_in(df[0:20000], target_names),\n",
    "#         np.argmax(cls.labels_, axis=1),\n",
    "#         target_names=target_names,\n",
    "#         zero_division=0,\n",
    "#         output_dict=True,\n",
    "#     )\n",
    "# )\n",
    "# print(scores)\n",
    "# print(\"time : {:.2f}\".format(time.time() - time_start))"
   ]
  },
  {
   "cell_type": "code",
   "execution_count": 51,
   "id": "641dd070",
   "metadata": {
    "execution": {
     "iopub.execute_input": "2022-12-18T12:29:14.353700Z",
     "iopub.status.busy": "2022-12-18T12:29:14.352933Z",
     "iopub.status.idle": "2022-12-18T12:29:14.358953Z",
     "shell.execute_reply": "2022-12-18T12:29:14.358016Z"
    },
    "papermill": {
     "duration": 0.031796,
     "end_time": "2022-12-18T12:29:14.361526",
     "exception": false,
     "start_time": "2022-12-18T12:29:14.329730",
     "status": "completed"
    },
    "tags": []
   },
   "outputs": [],
   "source": [
    "# cls.labels_"
   ]
  },
  {
   "cell_type": "code",
   "execution_count": 52,
   "id": "d9f166eb",
   "metadata": {
    "execution": {
     "iopub.execute_input": "2022-12-18T12:29:14.407015Z",
     "iopub.status.busy": "2022-12-18T12:29:14.406527Z",
     "iopub.status.idle": "2022-12-18T12:29:14.415943Z",
     "shell.execute_reply": "2022-12-18T12:29:14.414317Z"
    },
    "papermill": {
     "duration": 0.036051,
     "end_time": "2022-12-18T12:29:14.419200",
     "exception": false,
     "start_time": "2022-12-18T12:29:14.383149",
     "status": "completed"
    },
    "tags": []
   },
   "outputs": [],
   "source": [
    "# len(cls.labels_)"
   ]
  },
  {
   "cell_type": "code",
   "execution_count": 53,
   "id": "3ee5bdb6",
   "metadata": {
    "execution": {
     "iopub.execute_input": "2022-12-18T12:29:14.463281Z",
     "iopub.status.busy": "2022-12-18T12:29:14.462764Z",
     "iopub.status.idle": "2022-12-18T12:29:14.470830Z",
     "shell.execute_reply": "2022-12-18T12:29:14.469402Z"
    },
    "papermill": {
     "duration": 0.03318,
     "end_time": "2022-12-18T12:29:14.473443",
     "exception": false,
     "start_time": "2022-12-18T12:29:14.440263",
     "status": "completed"
    },
    "tags": []
   },
   "outputs": [],
   "source": [
    "# scores = pd.DataFrame(\n",
    "#     metrics.classification_report(\n",
    "#         tags_are_in(df[0:20000], target_names),\n",
    "#         np.argmax(cls.labels_, axis=1),\n",
    "#         target_names=target_names,\n",
    "#         zero_division=0,\n",
    "#         output_dict=True,\n",
    "#     )\n",
    "# )"
   ]
  },
  {
   "cell_type": "markdown",
   "id": "9f0c119c",
   "metadata": {
    "papermill": {
     "duration": 0.020279,
     "end_time": "2022-12-18T12:29:14.514651",
     "exception": false,
     "start_time": "2022-12-18T12:29:14.494372",
     "status": "completed"
    },
    "tags": []
   },
   "source": [
    "# BERT"
   ]
  },
  {
   "cell_type": "markdown",
   "id": "07ebd4ea",
   "metadata": {
    "papermill": {
     "duration": 0.020402,
     "end_time": "2022-12-18T12:29:14.556298",
     "exception": false,
     "start_time": "2022-12-18T12:29:14.535896",
     "status": "completed"
    },
    "tags": []
   },
   "source": [
    "# USE"
   ]
  }
 ],
 "metadata": {
  "kernelspec": {
   "display_name": "Python 3",
   "language": "python",
   "name": "python3"
  },
  "language_info": {
   "codemirror_mode": {
    "name": "ipython",
    "version": 3
   },
   "file_extension": ".py",
   "mimetype": "text/x-python",
   "name": "python",
   "nbconvert_exporter": "python",
   "pygments_lexer": "ipython3",
   "version": "3.7.12"
  },
  "papermill": {
   "default_parameters": {},
   "duration": 2291.540497,
   "end_time": "2022-12-18T12:29:17.204376",
   "environment_variables": {},
   "exception": null,
   "input_path": "__notebook__.ipynb",
   "output_path": "__notebook__.ipynb",
   "parameters": {},
   "start_time": "2022-12-18T11:51:05.663879",
   "version": "2.3.4"
  },
  "widgets": {
   "application/vnd.jupyter.widget-state+json": {
    "state": {
     "2710c6776c9f478f8beeb1e7c6126130": {
      "model_module": "@jupyter-widgets/base",
      "model_module_version": "1.2.0",
      "model_name": "LayoutModel",
      "state": {
       "_model_module": "@jupyter-widgets/base",
       "_model_module_version": "1.2.0",
       "_model_name": "LayoutModel",
       "_view_count": null,
       "_view_module": "@jupyter-widgets/base",
       "_view_module_version": "1.2.0",
       "_view_name": "LayoutView",
       "align_content": null,
       "align_items": null,
       "align_self": null,
       "border": null,
       "bottom": null,
       "display": null,
       "flex": null,
       "flex_flow": null,
       "grid_area": null,
       "grid_auto_columns": null,
       "grid_auto_flow": null,
       "grid_auto_rows": null,
       "grid_column": null,
       "grid_gap": null,
       "grid_row": null,
       "grid_template_areas": null,
       "grid_template_columns": null,
       "grid_template_rows": null,
       "height": null,
       "justify_content": null,
       "justify_items": null,
       "left": null,
       "margin": null,
       "max_height": null,
       "max_width": null,
       "min_height": null,
       "min_width": null,
       "object_fit": null,
       "object_position": null,
       "order": null,
       "overflow": null,
       "overflow_x": null,
       "overflow_y": null,
       "padding": null,
       "right": null,
       "top": null,
       "visibility": null,
       "width": null
      }
     },
     "2bea55c098bd4577a3150000233f0bb9": {
      "model_module": "@jupyter-widgets/controls",
      "model_module_version": "1.5.0",
      "model_name": "VBoxModel",
      "state": {
       "_dom_classes": [
        "widget-interact"
       ],
       "_model_module": "@jupyter-widgets/controls",
       "_model_module_version": "1.5.0",
       "_model_name": "VBoxModel",
       "_view_count": null,
       "_view_module": "@jupyter-widgets/controls",
       "_view_module_version": "1.5.0",
       "_view_name": "VBoxView",
       "box_style": "",
       "children": [
        "IPY_MODEL_5db67602caf44272b24aeac2e24cde21",
        "IPY_MODEL_c0d5fc4b6d17499fa2b5d04682d86165"
       ],
       "layout": "IPY_MODEL_b741a6d0e8da4ec3b0f8f8c55407f642"
      }
     },
     "4b065ecf281f4aa082553d8042cc16b7": {
      "model_module": "@jupyter-widgets/base",
      "model_module_version": "1.2.0",
      "model_name": "LayoutModel",
      "state": {
       "_model_module": "@jupyter-widgets/base",
       "_model_module_version": "1.2.0",
       "_model_name": "LayoutModel",
       "_view_count": null,
       "_view_module": "@jupyter-widgets/base",
       "_view_module_version": "1.2.0",
       "_view_name": "LayoutView",
       "align_content": null,
       "align_items": null,
       "align_self": null,
       "border": null,
       "bottom": null,
       "display": null,
       "flex": null,
       "flex_flow": null,
       "grid_area": null,
       "grid_auto_columns": null,
       "grid_auto_flow": null,
       "grid_auto_rows": null,
       "grid_column": null,
       "grid_gap": null,
       "grid_row": null,
       "grid_template_areas": null,
       "grid_template_columns": null,
       "grid_template_rows": null,
       "height": null,
       "justify_content": null,
       "justify_items": null,
       "left": null,
       "margin": null,
       "max_height": null,
       "max_width": null,
       "min_height": null,
       "min_width": null,
       "object_fit": null,
       "object_position": null,
       "order": null,
       "overflow": null,
       "overflow_x": null,
       "overflow_y": null,
       "padding": null,
       "right": null,
       "top": null,
       "visibility": null,
       "width": null
      }
     },
     "5db67602caf44272b24aeac2e24cde21": {
      "model_module": "@jupyter-widgets/controls",
      "model_module_version": "1.5.0",
      "model_name": "IntSliderModel",
      "state": {
       "_dom_classes": [],
       "_model_module": "@jupyter-widgets/controls",
       "_model_module_version": "1.5.0",
       "_model_name": "IntSliderModel",
       "_view_count": null,
       "_view_module": "@jupyter-widgets/controls",
       "_view_module_version": "1.5.0",
       "_view_name": "IntSliderView",
       "continuous_update": true,
       "description": "i",
       "description_tooltip": null,
       "disabled": false,
       "layout": "IPY_MODEL_4b065ecf281f4aa082553d8042cc16b7",
       "max": 118441,
       "min": 0,
       "orientation": "horizontal",
       "readout": true,
       "readout_format": "d",
       "step": 1,
       "style": "IPY_MODEL_6e1c7daaf0804e239dafd5683464ae34",
       "value": 59220
      }
     },
     "6e1c7daaf0804e239dafd5683464ae34": {
      "model_module": "@jupyter-widgets/controls",
      "model_module_version": "1.5.0",
      "model_name": "SliderStyleModel",
      "state": {
       "_model_module": "@jupyter-widgets/controls",
       "_model_module_version": "1.5.0",
       "_model_name": "SliderStyleModel",
       "_view_count": null,
       "_view_module": "@jupyter-widgets/base",
       "_view_module_version": "1.2.0",
       "_view_name": "StyleView",
       "description_width": "",
       "handle_color": null
      }
     },
     "b741a6d0e8da4ec3b0f8f8c55407f642": {
      "model_module": "@jupyter-widgets/base",
      "model_module_version": "1.2.0",
      "model_name": "LayoutModel",
      "state": {
       "_model_module": "@jupyter-widgets/base",
       "_model_module_version": "1.2.0",
       "_model_name": "LayoutModel",
       "_view_count": null,
       "_view_module": "@jupyter-widgets/base",
       "_view_module_version": "1.2.0",
       "_view_name": "LayoutView",
       "align_content": null,
       "align_items": null,
       "align_self": null,
       "border": null,
       "bottom": null,
       "display": null,
       "flex": null,
       "flex_flow": null,
       "grid_area": null,
       "grid_auto_columns": null,
       "grid_auto_flow": null,
       "grid_auto_rows": null,
       "grid_column": null,
       "grid_gap": null,
       "grid_row": null,
       "grid_template_areas": null,
       "grid_template_columns": null,
       "grid_template_rows": null,
       "height": null,
       "justify_content": null,
       "justify_items": null,
       "left": null,
       "margin": null,
       "max_height": null,
       "max_width": null,
       "min_height": null,
       "min_width": null,
       "object_fit": null,
       "object_position": null,
       "order": null,
       "overflow": null,
       "overflow_x": null,
       "overflow_y": null,
       "padding": null,
       "right": null,
       "top": null,
       "visibility": null,
       "width": null
      }
     },
     "c0d5fc4b6d17499fa2b5d04682d86165": {
      "model_module": "@jupyter-widgets/output",
      "model_module_version": "1.0.0",
      "model_name": "OutputModel",
      "state": {
       "_dom_classes": [],
       "_model_module": "@jupyter-widgets/output",
       "_model_module_version": "1.0.0",
       "_model_name": "OutputModel",
       "_view_count": null,
       "_view_module": "@jupyter-widgets/output",
       "_view_module_version": "1.0.0",
       "_view_name": "OutputView",
       "layout": "IPY_MODEL_2710c6776c9f478f8beeb1e7c6126130",
       "msg_id": "",
       "outputs": [
        {
         "name": "stdout",
         "output_type": "stream",
         "text": "Title:How to change culture to a DateTimepicker or calendar control in .Net\n******************************\nTitle_clean:change culture datetimepicker calendar control\n******************************\nBody:<p>How to set internationalization to a <code>DateTimepicker</code> or <code>Calendar WinForm</code> control in .Net when the desire culture is different to the one installed in the PC?</p>\n\n******************************\nBody_clean:set internationalization datetimepicker calendar winform control .net desire culture instal pc\n******************************\nCode:DateTimepicker Calendar WinForm\n******************************\nTags:c# .net internationalization datetimepicker culture\n"
        }
       ]
      }
     }
    },
    "version_major": 2,
    "version_minor": 0
   }
  }
 },
 "nbformat": 4,
 "nbformat_minor": 5
}
