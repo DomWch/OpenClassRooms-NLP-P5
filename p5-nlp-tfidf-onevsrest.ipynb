{
 "cells": [
  {
   "cell_type": "markdown",
   "id": "9134bb74",
   "metadata": {
    "papermill": {
     "duration": 0.010613,
     "end_time": "2022-12-14T14:16:34.595844",
     "exception": false,
     "start_time": "2022-12-14T14:16:34.585231",
     "status": "completed"
    },
    "tags": []
   },
   "source": [
    "# Index\n",
    "* [Import](#index)\n",
    "* [Tokenization](#Tokenization)\n",
    "* [CountVectorizer](#CountVectorizer)\n",
    "* [Tfidf](#Tfidf)\n",
    "* [OvsRest](#OvsRest)\n",
    "* [Word2Vec](#Word2Vec)\n",
    "* [BERT](#BERT)\n",
    "* [USE](#USE)"
   ]
  },
  {
   "cell_type": "code",
   "execution_count": 1,
   "id": "ac02e931",
   "metadata": {
    "_cell_guid": "b1076dfc-b9ad-4769-8c92-a6c4dae69d19",
    "_uuid": "8f2839f25d086af736a60e9eeb907d3b93b6e0e5",
    "execution": {
     "iopub.execute_input": "2022-12-14T14:16:34.625069Z",
     "iopub.status.busy": "2022-12-14T14:16:34.624114Z",
     "iopub.status.idle": "2022-12-14T14:16:36.396583Z",
     "shell.execute_reply": "2022-12-14T14:16:36.394864Z"
    },
    "papermill": {
     "duration": 1.788893,
     "end_time": "2022-12-14T14:16:36.399718",
     "exception": false,
     "start_time": "2022-12-14T14:16:34.610825",
     "status": "completed"
    },
    "tags": []
   },
   "outputs": [],
   "source": [
    "import time\n",
    "import warnings\n",
    "import numpy as np\n",
    "import pandas as pd\n",
    "import gensim\n",
    "\n",
    "# from gensim import (\n",
    "#     corpora,\n",
    "# )  # https://pypi.org/project/gensim/ #https://radimrehurek.com/gensim/auto_examples/core/run_topics_and_transformations.html#sphx-glr-auto-examples-core-run-topics-and-transformations-py\n",
    "from sklearn import (\n",
    "    metrics,\n",
    "    feature_extraction,\n",
    "    linear_model,\n",
    "    model_selection,\n",
    "    preprocessing,\n",
    "    cluster,\n",
    "    multiclass,\n",
    "    svm,\n",
    "    pipeline,\n",
    ")\n",
    "\n",
    "# import nlpk"
   ]
  },
  {
   "cell_type": "markdown",
   "id": "f3f8be36",
   "metadata": {
    "papermill": {
     "duration": 0.008806,
     "end_time": "2022-12-14T14:16:36.417396",
     "exception": false,
     "start_time": "2022-12-14T14:16:36.408590",
     "status": "completed"
    },
    "tags": []
   },
   "source": [
    "test https://scikit-learn.org/stable/modules/multiclass.html autre stategie que OneVsRest\n",
    "https://keras.io/examples/nlp/text_extraction_with_bert/"
   ]
  },
  {
   "cell_type": "code",
   "execution_count": 2,
   "id": "aefaa19b",
   "metadata": {
    "_kg_hide-output": true,
    "execution": {
     "iopub.execute_input": "2022-12-14T14:16:36.436652Z",
     "iopub.status.busy": "2022-12-14T14:16:36.435943Z",
     "iopub.status.idle": "2022-12-14T14:16:51.141514Z",
     "shell.execute_reply": "2022-12-14T14:16:51.139581Z"
    },
    "papermill": {
     "duration": 14.718526,
     "end_time": "2022-12-14T14:16:51.144491",
     "exception": false,
     "start_time": "2022-12-14T14:16:36.425965",
     "status": "completed"
    },
    "tags": []
   },
   "outputs": [
    {
     "name": "stdout",
     "output_type": "stream",
     "text": [
      "\u001b[33mWARNING: Running pip as the 'root' user can result in broken permissions and conflicting behaviour with the system package manager. It is recommended to use a virtual environment instead: https://pip.pypa.io/warnings/venv\u001b[0m\u001b[33m\r\n",
      "\u001b[0mNote: you may need to restart the kernel to use updated packages.\n"
     ]
    }
   ],
   "source": [
    "pip install -q jupyter-black jupyter"
   ]
  },
  {
   "cell_type": "code",
   "execution_count": 3,
   "id": "6f6e3b8b",
   "metadata": {
    "execution": {
     "iopub.execute_input": "2022-12-14T14:16:51.167850Z",
     "iopub.status.busy": "2022-12-14T14:16:51.167349Z",
     "iopub.status.idle": "2022-12-14T14:16:51.356707Z",
     "shell.execute_reply": "2022-12-14T14:16:51.355254Z"
    },
    "papermill": {
     "duration": 0.203889,
     "end_time": "2022-12-14T14:16:51.360019",
     "exception": false,
     "start_time": "2022-12-14T14:16:51.156130",
     "status": "completed"
    },
    "tags": []
   },
   "outputs": [
    {
     "data": {
      "text/html": [
       "\n",
       "                <script type=\"application/javascript\" id=\"jupyter_black\">\n",
       "                (function() {\n",
       "                    if (window.IPython === undefined) {\n",
       "                        return\n",
       "                    }\n",
       "                    var msg = \"WARNING: it looks like you might have loaded \" +\n",
       "                        \"jupyter_black in a non-lab notebook with \" +\n",
       "                        \"`is_lab=True`. Please double check, and if \" +\n",
       "                        \"loading with `%load_ext` please review the README!\"\n",
       "                    console.log(msg)\n",
       "                    alert(msg)\n",
       "                })()\n",
       "                </script>\n",
       "                "
      ],
      "text/plain": [
       "<IPython.core.display.HTML object>"
      ]
     },
     "metadata": {},
     "output_type": "display_data"
    }
   ],
   "source": [
    "# for black formating\n",
    "import jupyter_black  # pip install jupyter-black jupyter\n",
    "\n",
    "jupyter_black.load()\n",
    "# ??jupyter_black.load #show config"
   ]
  },
  {
   "cell_type": "code",
   "execution_count": 4,
   "id": "d5521e97",
   "metadata": {
    "execution": {
     "iopub.execute_input": "2022-12-14T14:16:51.380842Z",
     "iopub.status.busy": "2022-12-14T14:16:51.380344Z",
     "iopub.status.idle": "2022-12-14T14:17:01.054564Z",
     "shell.execute_reply": "2022-12-14T14:17:01.052666Z"
    },
    "papermill": {
     "duration": 9.688398,
     "end_time": "2022-12-14T14:17:01.057835",
     "exception": false,
     "start_time": "2022-12-14T14:16:51.369437",
     "status": "completed"
    },
    "tags": []
   },
   "outputs": [
    {
     "name": "stdout",
     "output_type": "stream",
     "text": [
      "<class 'pandas.core.frame.DataFrame'>\n",
      "Int64Index: 118442 entries, 0 to 118441\n",
      "Data columns (total 12 columns):\n",
      " #   Column       Non-Null Count   Dtype \n",
      "---  ------       --------------   ----- \n",
      " 0   Id           118442 non-null  int64 \n",
      " 1   Title        118442 non-null  object\n",
      " 2   Body         118442 non-null  object\n",
      " 3   0            118440 non-null  object\n",
      " 4   1            118383 non-null  object\n",
      " 5   2            118292 non-null  object\n",
      " 6   3            118292 non-null  object\n",
      " 7   4            76389 non-null   object\n",
      " 8   5            4 non-null       object\n",
      " 9   Title_clean  118389 non-null  object\n",
      " 10  Code         88202 non-null   object\n",
      " 11  Body_clean   118392 non-null  object\n",
      "dtypes: int64(1), object(11)\n",
      "memory usage: 11.7+ MB\n"
     ]
    }
   ],
   "source": [
    "df = pd.read_csv(\n",
    "    \"/kaggle/input/p5-nlp/stackoverflowCleaned.csv\", index_col=0, low_memory=False\n",
    ")\n",
    "df.info()"
   ]
  },
  {
   "cell_type": "markdown",
   "id": "34bb3534",
   "metadata": {
    "papermill": {
     "duration": 0.009043,
     "end_time": "2022-12-14T14:17:01.076505",
     "exception": false,
     "start_time": "2022-12-14T14:17:01.067462",
     "status": "completed"
    },
    "tags": []
   },
   "source": [
    "# Tokenization"
   ]
  },
  {
   "cell_type": "code",
   "execution_count": 5,
   "id": "58347e44",
   "metadata": {
    "execution": {
     "iopub.execute_input": "2022-12-14T14:17:01.098133Z",
     "iopub.status.busy": "2022-12-14T14:17:01.097647Z",
     "iopub.status.idle": "2022-12-14T14:17:01.276669Z",
     "shell.execute_reply": "2022-12-14T14:17:01.275541Z"
    },
    "papermill": {
     "duration": 0.195799,
     "end_time": "2022-12-14T14:17:01.282099",
     "exception": false,
     "start_time": "2022-12-14T14:17:01.086300",
     "status": "completed"
    },
    "tags": []
   },
   "outputs": [
    {
     "data": {
      "application/vnd.jupyter.widget-view+json": {
       "model_id": "e6d1deca08ce4ad5a1b68a7ab0b3207c",
       "version_major": 2,
       "version_minor": 0
      },
      "text/plain": [
       "interactive(children=(IntSlider(value=59220, description='i', max=118441), Output()), _dom_classes=('widget-in…"
      ]
     },
     "metadata": {},
     "output_type": "display_data"
    }
   ],
   "source": [
    "from ipywidgets import interact\n",
    "\n",
    "\n",
    "@interact(i=(0, df.shape[0] - 1))\n",
    "def test_tr_print(i):\n",
    "    print(\n",
    "        f'Title:{df[\"Title\"][i]}\\n{\"*\"*30}\\nTitle_clean:{df[\"Title_clean\"][i]}\\n{\"*\"*30}\\nBody:{df[\"Body\"][i]}\\n{\"*\"*30}\\nBody_clean:{df[\"Body_clean\"][i]}\\n{\"*\"*30}\\nCode:{df[\"Code\"][i]}\\n{\"*\"*30}\\nTags:{df.loc[i,\"0\"]} {df.loc[i,\"1\"]} {df.loc[i,\"2\"]} {df.loc[i,\"3\"]} {df.loc[i,\"4\"]}'\n",
    "    )"
   ]
  },
  {
   "cell_type": "code",
   "execution_count": 6,
   "id": "2e7cb43a",
   "metadata": {
    "execution": {
     "iopub.execute_input": "2022-12-14T14:17:01.303560Z",
     "iopub.status.busy": "2022-12-14T14:17:01.302557Z",
     "iopub.status.idle": "2022-12-14T14:17:01.334066Z",
     "shell.execute_reply": "2022-12-14T14:17:01.332621Z"
    },
    "papermill": {
     "duration": 0.044943,
     "end_time": "2022-12-14T14:17:01.336549",
     "exception": false,
     "start_time": "2022-12-14T14:17:01.291606",
     "status": "completed"
    },
    "tags": []
   },
   "outputs": [
    {
     "data": {
      "text/plain": [
       "53"
      ]
     },
     "execution_count": 6,
     "metadata": {},
     "output_type": "execute_result"
    }
   ],
   "source": [
    "sum(df[\"Title_clean\"].isna())"
   ]
  },
  {
   "cell_type": "code",
   "execution_count": 7,
   "id": "1bfede35",
   "metadata": {
    "execution": {
     "iopub.execute_input": "2022-12-14T14:17:01.357483Z",
     "iopub.status.busy": "2022-12-14T14:17:01.356999Z",
     "iopub.status.idle": "2022-12-14T14:17:01.401310Z",
     "shell.execute_reply": "2022-12-14T14:17:01.400367Z"
    },
    "papermill": {
     "duration": 0.057501,
     "end_time": "2022-12-14T14:17:01.403592",
     "exception": false,
     "start_time": "2022-12-14T14:17:01.346091",
     "status": "completed"
    },
    "tags": []
   },
   "outputs": [
    {
     "data": {
      "text/html": [
       "<div>\n",
       "<style scoped>\n",
       "    .dataframe tbody tr th:only-of-type {\n",
       "        vertical-align: middle;\n",
       "    }\n",
       "\n",
       "    .dataframe tbody tr th {\n",
       "        vertical-align: top;\n",
       "    }\n",
       "\n",
       "    .dataframe thead th {\n",
       "        text-align: right;\n",
       "    }\n",
       "</style>\n",
       "<table border=\"1\" class=\"dataframe\">\n",
       "  <thead>\n",
       "    <tr style=\"text-align: right;\">\n",
       "      <th></th>\n",
       "      <th>Title</th>\n",
       "      <th>Title_clean</th>\n",
       "      <th>Body</th>\n",
       "      <th>Body_clean</th>\n",
       "      <th>0</th>\n",
       "      <th>1</th>\n",
       "      <th>2</th>\n",
       "      <th>3</th>\n",
       "      <th>4</th>\n",
       "    </tr>\n",
       "  </thead>\n",
       "  <tbody>\n",
       "    <tr>\n",
       "      <th>302</th>\n",
       "      <td>Is &lt; faster than &lt;=?</td>\n",
       "      <td>NaN</td>\n",
       "      <td>&lt;p&gt;Is &lt;code&gt;if (a &amp;lt; 901)&lt;/code&gt; faster than...</td>\n",
       "      <td>example performance change loop code suppose g...</td>\n",
       "      <td>c++</td>\n",
       "      <td>c</td>\n",
       "      <td>performance</td>\n",
       "      <td>assembly</td>\n",
       "      <td>relational-operators</td>\n",
       "    </tr>\n",
       "    <tr>\n",
       "      <th>393</th>\n",
       "      <td>What is setup.py?</td>\n",
       "      <td>NaN</td>\n",
       "      <td>&lt;p&gt;What is &lt;code&gt;setup.py&lt;/code&gt; and how can i...</td>\n",
       "      <td>configure</td>\n",
       "      <td>python</td>\n",
       "      <td>pypi</td>\n",
       "      <td>setup.py</td>\n",
       "      <td>python-packaging</td>\n",
       "      <td>NaN</td>\n",
       "    </tr>\n",
       "    <tr>\n",
       "      <th>1437</th>\n",
       "      <td>What is related_name used for?</td>\n",
       "      <td>NaN</td>\n",
       "      <td>&lt;p&gt;What is the &lt;code&gt;related_name&lt;/code&gt; argum...</td>\n",
       "      <td>argument manytomanyfield foreignkey field exam...</td>\n",
       "      <td>python</td>\n",
       "      <td>django</td>\n",
       "      <td>foreign-keys</td>\n",
       "      <td>many-to-many</td>\n",
       "      <td>NaN</td>\n",
       "    </tr>\n",
       "    <tr>\n",
       "      <th>4062</th>\n",
       "      <td>What is \"android:allowBackup\"?</td>\n",
       "      <td>NaN</td>\n",
       "      <td>&lt;p&gt;Since the &lt;a href=\"http://tools.android.com...</td>\n",
       "      <td>adt preview version version lint warning tell ...</td>\n",
       "      <td>android</td>\n",
       "      <td>adt</td>\n",
       "      <td>compiler-warnings</td>\n",
       "      <td>android-lint</td>\n",
       "      <td>android-backup-service</td>\n",
       "    </tr>\n",
       "    <tr>\n",
       "      <th>4870</th>\n",
       "      <td>Why is 0 &lt; -0x80000000?</td>\n",
       "      <td>NaN</td>\n",
       "      <td>&lt;p&gt;I have below a simple program:&lt;/p&gt;\\n\\n&lt;pre&gt;...</td>\n",
       "      <td>program condition if(bal int32_min work change...</td>\n",
       "      <td>c</td>\n",
       "      <td>signed</td>\n",
       "      <td>numeric-limits</td>\n",
       "      <td>numeric-conversion</td>\n",
       "      <td>NaN</td>\n",
       "    </tr>\n",
       "  </tbody>\n",
       "</table>\n",
       "</div>"
      ],
      "text/plain": [
       "                               Title Title_clean  \\\n",
       "302             Is < faster than <=?         NaN   \n",
       "393                What is setup.py?         NaN   \n",
       "1437  What is related_name used for?         NaN   \n",
       "4062  What is \"android:allowBackup\"?         NaN   \n",
       "4870         Why is 0 < -0x80000000?         NaN   \n",
       "\n",
       "                                                   Body  \\\n",
       "302   <p>Is <code>if (a &lt; 901)</code> faster than...   \n",
       "393   <p>What is <code>setup.py</code> and how can i...   \n",
       "1437  <p>What is the <code>related_name</code> argum...   \n",
       "4062  <p>Since the <a href=\"http://tools.android.com...   \n",
       "4870  <p>I have below a simple program:</p>\\n\\n<pre>...   \n",
       "\n",
       "                                             Body_clean        0       1  \\\n",
       "302   example performance change loop code suppose g...      c++       c   \n",
       "393                                           configure   python    pypi   \n",
       "1437  argument manytomanyfield foreignkey field exam...   python  django   \n",
       "4062  adt preview version version lint warning tell ...  android     adt   \n",
       "4870  program condition if(bal int32_min work change...        c  signed   \n",
       "\n",
       "                      2                   3                       4  \n",
       "302         performance            assembly    relational-operators  \n",
       "393            setup.py    python-packaging                     NaN  \n",
       "1437       foreign-keys        many-to-many                     NaN  \n",
       "4062  compiler-warnings        android-lint  android-backup-service  \n",
       "4870     numeric-limits  numeric-conversion                     NaN  "
      ]
     },
     "execution_count": 7,
     "metadata": {},
     "output_type": "execute_result"
    }
   ],
   "source": [
    "df[df[\"Title_clean\"].isna()][\n",
    "    [\"Title\", \"Title_clean\", \"Body\", \"Body_clean\", \"0\", \"1\", \"2\", \"3\", \"4\"]\n",
    "].head(5)"
   ]
  },
  {
   "cell_type": "code",
   "execution_count": 8,
   "id": "2e4904b0",
   "metadata": {
    "execution": {
     "iopub.execute_input": "2022-12-14T14:17:01.425338Z",
     "iopub.status.busy": "2022-12-14T14:17:01.424261Z",
     "iopub.status.idle": "2022-12-14T14:17:01.515317Z",
     "shell.execute_reply": "2022-12-14T14:17:01.513660Z"
    },
    "papermill": {
     "duration": 0.104962,
     "end_time": "2022-12-14T14:17:01.518205",
     "exception": false,
     "start_time": "2022-12-14T14:17:01.413243",
     "status": "completed"
    },
    "tags": []
   },
   "outputs": [
    {
     "name": "stdout",
     "output_type": "stream",
     "text": [
      "50\n"
     ]
    },
    {
     "data": {
      "text/html": [
       "<div>\n",
       "<style scoped>\n",
       "    .dataframe tbody tr th:only-of-type {\n",
       "        vertical-align: middle;\n",
       "    }\n",
       "\n",
       "    .dataframe tbody tr th {\n",
       "        vertical-align: top;\n",
       "    }\n",
       "\n",
       "    .dataframe thead th {\n",
       "        text-align: right;\n",
       "    }\n",
       "</style>\n",
       "<table border=\"1\" class=\"dataframe\">\n",
       "  <thead>\n",
       "    <tr style=\"text-align: right;\">\n",
       "      <th></th>\n",
       "      <th>Title</th>\n",
       "      <th>Title_clean</th>\n",
       "      <th>Body</th>\n",
       "      <th>Body_clean</th>\n",
       "      <th>Code</th>\n",
       "    </tr>\n",
       "  </thead>\n",
       "  <tbody>\n",
       "    <tr>\n",
       "      <th>5</th>\n",
       "      <td>What and where are the stack and heap?</td>\n",
       "      <td>stack heap</td>\n",
       "      <td>&lt;ul&gt;\\n&lt;li&gt;What are the stack and heap?&lt;/li&gt;\\n&lt;...</td>\n",
       "      <td>NaN</td>\n",
       "      <td>NaN</td>\n",
       "    </tr>\n",
       "    <tr>\n",
       "      <th>168</th>\n",
       "      <td>What is The Rule of Three?</td>\n",
       "      <td>rule</td>\n",
       "      <td>&lt;ul&gt;\\n&lt;li&gt;What does &lt;em&gt;copying an object&lt;/em&gt;...</td>\n",
       "      <td>NaN</td>\n",
       "      <td>NaN</td>\n",
       "    </tr>\n",
       "    <tr>\n",
       "      <th>828</th>\n",
       "      <td>Why are these constructs using pre and post-in...</td>\n",
       "      <td>construct pre behavior</td>\n",
       "      <td>&lt;pre&gt;&lt;code&gt;#include &amp;lt;stdio.h&amp;gt;\\n\\nint mai...</td>\n",
       "      <td>NaN</td>\n",
       "      <td>#include &lt;stdio.h&gt;\\n\\nint main(void)\\n{\\n   in...</td>\n",
       "    </tr>\n",
       "    <tr>\n",
       "      <th>1207</th>\n",
       "      <td>How to use ADB Shell when Multiple Devices are...</td>\n",
       "      <td>use adb shell multiple device connect fail err...</td>\n",
       "      <td>&lt;pre&gt;&lt;code&gt;$ adb --help\\n&lt;/code&gt;&lt;/pre&gt;\\n&lt;hr /&gt;...</td>\n",
       "      <td>NaN</td>\n",
       "      <td>$ adb --help\\n -s SERIAL  use device with give...</td>\n",
       "    </tr>\n",
       "    <tr>\n",
       "      <th>1640</th>\n",
       "      <td>What are the advantages of list initialization...</td>\n",
       "      <td>advantage list initialization brace</td>\n",
       "      <td>&lt;pre&gt;&lt;code&gt;MyClass a1 {a};     // clearer and ...</td>\n",
       "      <td>NaN</td>\n",
       "      <td>MyClass a1 {a};     // clearer and less error-...</td>\n",
       "    </tr>\n",
       "  </tbody>\n",
       "</table>\n",
       "</div>"
      ],
      "text/plain": [
       "                                                  Title  \\\n",
       "5                What and where are the stack and heap?   \n",
       "168                          What is The Rule of Three?   \n",
       "828   Why are these constructs using pre and post-in...   \n",
       "1207  How to use ADB Shell when Multiple Devices are...   \n",
       "1640  What are the advantages of list initialization...   \n",
       "\n",
       "                                            Title_clean  \\\n",
       "5                                            stack heap   \n",
       "168                                                rule   \n",
       "828                              construct pre behavior   \n",
       "1207  use adb shell multiple device connect fail err...   \n",
       "1640                advantage list initialization brace   \n",
       "\n",
       "                                                   Body Body_clean  \\\n",
       "5     <ul>\\n<li>What are the stack and heap?</li>\\n<...        NaN   \n",
       "168   <ul>\\n<li>What does <em>copying an object</em>...        NaN   \n",
       "828   <pre><code>#include &lt;stdio.h&gt;\\n\\nint mai...        NaN   \n",
       "1207  <pre><code>$ adb --help\\n</code></pre>\\n<hr />...        NaN   \n",
       "1640  <pre><code>MyClass a1 {a};     // clearer and ...        NaN   \n",
       "\n",
       "                                                   Code  \n",
       "5                                                   NaN  \n",
       "168                                                 NaN  \n",
       "828   #include <stdio.h>\\n\\nint main(void)\\n{\\n   in...  \n",
       "1207  $ adb --help\\n -s SERIAL  use device with give...  \n",
       "1640  MyClass a1 {a};     // clearer and less error-...  "
      ]
     },
     "execution_count": 8,
     "metadata": {},
     "output_type": "execute_result"
    }
   ],
   "source": [
    "print(sum(df[\"Body_clean\"].isna()))\n",
    "df[df[\"Body_clean\"].isna()][\n",
    "    [\"Title\", \"Title_clean\", \"Body\", \"Body_clean\", \"Code\"]\n",
    "].head(5)"
   ]
  },
  {
   "cell_type": "code",
   "execution_count": 9,
   "id": "dcdccb5e",
   "metadata": {
    "execution": {
     "iopub.execute_input": "2022-12-14T14:17:01.541518Z",
     "iopub.status.busy": "2022-12-14T14:17:01.541031Z",
     "iopub.status.idle": "2022-12-14T14:17:01.589414Z",
     "shell.execute_reply": "2022-12-14T14:17:01.587877Z"
    },
    "papermill": {
     "duration": 0.063339,
     "end_time": "2022-12-14T14:17:01.592255",
     "exception": false,
     "start_time": "2022-12-14T14:17:01.528916",
     "status": "completed"
    },
    "tags": []
   },
   "outputs": [
    {
     "data": {
      "text/plain": [
       "0"
      ]
     },
     "execution_count": 9,
     "metadata": {},
     "output_type": "execute_result"
    }
   ],
   "source": [
    "len(df[df[\"Body_clean\"].isna() & df[\"Title_clean\"].isna()])"
   ]
  },
  {
   "cell_type": "code",
   "execution_count": 10,
   "id": "18b92b42",
   "metadata": {
    "execution": {
     "iopub.execute_input": "2022-12-14T14:17:01.615381Z",
     "iopub.status.busy": "2022-12-14T14:17:01.614915Z",
     "iopub.status.idle": "2022-12-14T14:17:01.783362Z",
     "shell.execute_reply": "2022-12-14T14:17:01.781750Z"
    },
    "papermill": {
     "duration": 0.183192,
     "end_time": "2022-12-14T14:17:01.786091",
     "exception": false,
     "start_time": "2022-12-14T14:17:01.602899",
     "status": "completed"
    },
    "tags": []
   },
   "outputs": [
    {
     "data": {
      "text/plain": [
       "103"
      ]
     },
     "execution_count": 10,
     "metadata": {},
     "output_type": "execute_result"
    }
   ],
   "source": [
    "sum((df[\"Title_clean\"] + df[\"Body_clean\"]).isna())"
   ]
  },
  {
   "cell_type": "code",
   "execution_count": 11,
   "id": "dababba8",
   "metadata": {
    "execution": {
     "iopub.execute_input": "2022-12-14T14:17:01.810632Z",
     "iopub.status.busy": "2022-12-14T14:17:01.809548Z",
     "iopub.status.idle": "2022-12-14T14:17:01.894477Z",
     "shell.execute_reply": "2022-12-14T14:17:01.893307Z"
    },
    "papermill": {
     "duration": 0.099933,
     "end_time": "2022-12-14T14:17:01.897214",
     "exception": false,
     "start_time": "2022-12-14T14:17:01.797281",
     "status": "completed"
    },
    "tags": []
   },
   "outputs": [
    {
     "data": {
      "text/html": [
       "<div>\n",
       "<style scoped>\n",
       "    .dataframe tbody tr th:only-of-type {\n",
       "        vertical-align: middle;\n",
       "    }\n",
       "\n",
       "    .dataframe tbody tr th {\n",
       "        vertical-align: top;\n",
       "    }\n",
       "\n",
       "    .dataframe thead th {\n",
       "        text-align: right;\n",
       "    }\n",
       "</style>\n",
       "<table border=\"1\" class=\"dataframe\">\n",
       "  <thead>\n",
       "    <tr style=\"text-align: right;\">\n",
       "      <th></th>\n",
       "      <th>javascript</th>\n",
       "      <th>java</th>\n",
       "      <th>c#</th>\n",
       "      <th>python</th>\n",
       "      <th>html</th>\n",
       "      <th>git</th>\n",
       "      <th>php</th>\n",
       "    </tr>\n",
       "  </thead>\n",
       "  <tbody>\n",
       "    <tr>\n",
       "      <th>10001</th>\n",
       "      <td>True</td>\n",
       "      <td>False</td>\n",
       "      <td>False</td>\n",
       "      <td>False</td>\n",
       "      <td>True</td>\n",
       "      <td>False</td>\n",
       "      <td>False</td>\n",
       "    </tr>\n",
       "    <tr>\n",
       "      <th>10002</th>\n",
       "      <td>False</td>\n",
       "      <td>True</td>\n",
       "      <td>False</td>\n",
       "      <td>False</td>\n",
       "      <td>False</td>\n",
       "      <td>False</td>\n",
       "      <td>False</td>\n",
       "    </tr>\n",
       "    <tr>\n",
       "      <th>10003</th>\n",
       "      <td>False</td>\n",
       "      <td>False</td>\n",
       "      <td>True</td>\n",
       "      <td>False</td>\n",
       "      <td>False</td>\n",
       "      <td>False</td>\n",
       "      <td>False</td>\n",
       "    </tr>\n",
       "    <tr>\n",
       "      <th>10004</th>\n",
       "      <td>False</td>\n",
       "      <td>False</td>\n",
       "      <td>False</td>\n",
       "      <td>False</td>\n",
       "      <td>True</td>\n",
       "      <td>False</td>\n",
       "      <td>False</td>\n",
       "    </tr>\n",
       "    <tr>\n",
       "      <th>10005</th>\n",
       "      <td>False</td>\n",
       "      <td>False</td>\n",
       "      <td>False</td>\n",
       "      <td>False</td>\n",
       "      <td>False</td>\n",
       "      <td>False</td>\n",
       "      <td>False</td>\n",
       "    </tr>\n",
       "    <tr>\n",
       "      <th>...</th>\n",
       "      <td>...</td>\n",
       "      <td>...</td>\n",
       "      <td>...</td>\n",
       "      <td>...</td>\n",
       "      <td>...</td>\n",
       "      <td>...</td>\n",
       "      <td>...</td>\n",
       "    </tr>\n",
       "    <tr>\n",
       "      <th>15045</th>\n",
       "      <td>False</td>\n",
       "      <td>False</td>\n",
       "      <td>False</td>\n",
       "      <td>False</td>\n",
       "      <td>False</td>\n",
       "      <td>False</td>\n",
       "      <td>False</td>\n",
       "    </tr>\n",
       "    <tr>\n",
       "      <th>15046</th>\n",
       "      <td>False</td>\n",
       "      <td>False</td>\n",
       "      <td>False</td>\n",
       "      <td>False</td>\n",
       "      <td>False</td>\n",
       "      <td>False</td>\n",
       "      <td>False</td>\n",
       "    </tr>\n",
       "    <tr>\n",
       "      <th>15047</th>\n",
       "      <td>True</td>\n",
       "      <td>False</td>\n",
       "      <td>False</td>\n",
       "      <td>False</td>\n",
       "      <td>False</td>\n",
       "      <td>False</td>\n",
       "      <td>False</td>\n",
       "    </tr>\n",
       "    <tr>\n",
       "      <th>15048</th>\n",
       "      <td>False</td>\n",
       "      <td>False</td>\n",
       "      <td>False</td>\n",
       "      <td>False</td>\n",
       "      <td>False</td>\n",
       "      <td>False</td>\n",
       "      <td>False</td>\n",
       "    </tr>\n",
       "    <tr>\n",
       "      <th>15049</th>\n",
       "      <td>False</td>\n",
       "      <td>False</td>\n",
       "      <td>False</td>\n",
       "      <td>False</td>\n",
       "      <td>False</td>\n",
       "      <td>False</td>\n",
       "      <td>False</td>\n",
       "    </tr>\n",
       "  </tbody>\n",
       "</table>\n",
       "<p>5049 rows × 7 columns</p>\n",
       "</div>"
      ],
      "text/plain": [
       "       javascript   java     c#  python   html    git    php\n",
       "10001        True  False  False   False   True  False  False\n",
       "10002       False   True  False   False  False  False  False\n",
       "10003       False  False   True   False  False  False  False\n",
       "10004       False  False  False   False   True  False  False\n",
       "10005       False  False  False   False  False  False  False\n",
       "...           ...    ...    ...     ...    ...    ...    ...\n",
       "15045       False  False  False   False  False  False  False\n",
       "15046       False  False  False   False  False  False  False\n",
       "15047        True  False  False   False  False  False  False\n",
       "15048       False  False  False   False  False  False  False\n",
       "15049       False  False  False   False  False  False  False\n",
       "\n",
       "[5049 rows x 7 columns]"
      ]
     },
     "execution_count": 11,
     "metadata": {},
     "output_type": "execute_result"
    }
   ],
   "source": [
    "def tag_is_in(df: pd.DataFrame(), tag: str, nb_cols: int = 6):\n",
    "    return eval(\"|\".join(f'(df[\"{i}\"] == \"{tag}\")' for i in range(0, nb_cols)))\n",
    "\n",
    "\n",
    "def tags_are_in(df: pd.DataFrame(), tags: list):\n",
    "    return pd.DataFrame({tag: tag_is_in(df, tag) for tag in tags})\n",
    "\n",
    "\n",
    "# tags_are_in(df, [\"javascript\",\"java\"])\n",
    "tags_are_in(\n",
    "    df[10001:15050], [\"javascript\", \"java\", \"c#\", \"python\", \"html\", \"git\", \"php\"]\n",
    ")"
   ]
  },
  {
   "cell_type": "code",
   "execution_count": 12,
   "id": "72032a8a",
   "metadata": {
    "execution": {
     "iopub.execute_input": "2022-12-14T14:17:01.920875Z",
     "iopub.status.busy": "2022-12-14T14:17:01.920359Z",
     "iopub.status.idle": "2022-12-14T14:17:02.190310Z",
     "shell.execute_reply": "2022-12-14T14:17:02.189021Z"
    },
    "papermill": {
     "duration": 0.28488,
     "end_time": "2022-12-14T14:17:02.192881",
     "exception": false,
     "start_time": "2022-12-14T14:17:01.908001",
     "status": "completed"
    },
    "tags": []
   },
   "outputs": [
    {
     "data": {
      "text/plain": [
       "['java',\n",
       " 'c#',\n",
       " 'javascript',\n",
       " 'python',\n",
       " 'android',\n",
       " 'c++',\n",
       " 'ios',\n",
       " 'html',\n",
       " 'php',\n",
       " '.net',\n",
       " 'jquery',\n",
       " 'css',\n",
       " 'objective-c',\n",
       " 'c',\n",
       " 'sql',\n",
       " 'iphone',\n",
       " 'asp.net',\n",
       " 'mysql',\n",
       " 'linux',\n",
       " 'node.js',\n",
       " 'arrays',\n",
       " 'swift',\n",
       " 'sql-server',\n",
       " 'json',\n",
       " 'string',\n",
       " 'windows',\n",
       " 'performance',\n",
       " 'ruby-on-rails',\n",
       " 'xcode',\n",
       " 'spring',\n",
       " 'ajax',\n",
       " 'database',\n",
       " 'asp.net-mvc',\n",
       " 'algorithm',\n",
       " 'ruby',\n",
       " 'macos',\n",
       " 'multithreading',\n",
       " 'visual-studio',\n",
       " 'django',\n",
       " 'reactjs',\n",
       " 'wpf',\n",
       " 'xml',\n",
       " 'bash',\n",
       " 'eclipse',\n",
       " 'python-3.x',\n",
       " 'image',\n",
       " 'unit-testing',\n",
       " 'angular',\n",
       " 'c++11',\n",
       " 'angularjs',\n",
       " 'git']"
      ]
     },
     "execution_count": 12,
     "metadata": {},
     "output_type": "execute_result"
    }
   ],
   "source": [
    "tags = df[[\"0\", \"1\", \"2\", \"3\", \"4\", \"5\"]].stack()\n",
    "target_names = [\n",
    "    tag\n",
    "    for tag, freq in tags.reset_index(drop=True).value_counts(normalize=True).items()\n",
    "    if freq > 0.002\n",
    "]\n",
    "target_names"
   ]
  },
  {
   "cell_type": "markdown",
   "id": "5c641fa9",
   "metadata": {
    "papermill": {
     "duration": 0.010563,
     "end_time": "2022-12-14T14:17:02.214399",
     "exception": false,
     "start_time": "2022-12-14T14:17:02.203836",
     "status": "completed"
    },
    "tags": []
   },
   "source": [
    "# CountVectorizer"
   ]
  },
  {
   "cell_type": "code",
   "execution_count": 13,
   "id": "60044f6b",
   "metadata": {
    "execution": {
     "iopub.execute_input": "2022-12-14T14:17:02.238685Z",
     "iopub.status.busy": "2022-12-14T14:17:02.237662Z",
     "iopub.status.idle": "2022-12-14T14:17:08.571212Z",
     "shell.execute_reply": "2022-12-14T14:17:08.569467Z"
    },
    "papermill": {
     "duration": 6.349622,
     "end_time": "2022-12-14T14:17:08.574978",
     "exception": false,
     "start_time": "2022-12-14T14:17:02.225356",
     "status": "completed"
    },
    "tags": []
   },
   "outputs": [
    {
     "name": "stdout",
     "output_type": "stream",
     "text": [
      "99.99409% des questions ont plus d'un tokens\n",
      "\n",
      "******************************\n",
      " pour min_df:1e-05; max_df:0.995\n",
      "\ttokens unique:\n",
      "\t\t53999 dans title et body regroupé\n"
     ]
    }
   ],
   "source": [
    "# target_names = [\"javascript\", \"java\", \"c#\", \"python\", \"html\", \"git\", \"php\"]\n",
    "df[\"Token\"] = df[\"Title_clean\"].fillna(\"\") + df[\"Body_clean\"].fillna(\"\")\n",
    "print(\n",
    "    f\"{len(df[[len(token.split()) > 1 for token in df['Token']]])/len(df):.5%} des questions ont plus d'un tokens\"\n",
    "    if len(df[df[\"Token\"] == \"\"]) == 0\n",
    "    else f\"{len(df[df['Token'] == ''])} questions n'ont pas de token\"\n",
    ")\n",
    "LONG = False\n",
    "\n",
    "for min_df in [0.01, 0.05, 0.005, 0.0005, 0.00001] if LONG else [0.00001]:\n",
    "    for max_df in [0.95, 0.995, 0.9995] if LONG else [0.995]:\n",
    "        print(f\"\\n{'*'*30}\\n pour min_df:{min_df}; max_df:{max_df}\")\n",
    "        count_vectorizer = feature_extraction.text.CountVectorizer(\n",
    "            min_df=min_df, max_df=max_df, max_features=None\n",
    "        )\n",
    "        #         pipe = pipeline.make_pipeline(feature_extraction.text.CountVectorizer(min_df=min_df, max_df=max_df, max_features=None), feature_extraction.text.TfidfTransformer( norm=\"l2\", use_idf=True, smooth_idf=True, sublinear_tf=False))\n",
    "        #         feat_train = pipe.transform(X_train[\"Token\"])\n",
    "        #         print(feat_train.shape)\n",
    "\n",
    "        token_vectors = count_vectorizer.fit_transform(df[\"Token\"])\n",
    "        print(\n",
    "            f\"\\ttokens unique:\\n\\t\\t{token_vectors.shape[1]} dans title et body regroupé\"\n",
    "        )"
   ]
  },
  {
   "cell_type": "code",
   "execution_count": 14,
   "id": "d27e8c04",
   "metadata": {
    "execution": {
     "iopub.execute_input": "2022-12-14T14:17:08.601629Z",
     "iopub.status.busy": "2022-12-14T14:17:08.601174Z",
     "iopub.status.idle": "2022-12-14T14:17:11.092311Z",
     "shell.execute_reply": "2022-12-14T14:17:11.090879Z"
    },
    "papermill": {
     "duration": 2.50849,
     "end_time": "2022-12-14T14:17:11.095454",
     "exception": false,
     "start_time": "2022-12-14T14:17:08.586964",
     "status": "completed"
    },
    "tags": []
   },
   "outputs": [],
   "source": [
    "X_train, X_test, y_train, y_test = model_selection.train_test_split(\n",
    "    token_vectors, tags_are_in(df, target_names), random_state=42\n",
    ")"
   ]
  },
  {
   "cell_type": "markdown",
   "id": "f6d48809",
   "metadata": {
    "papermill": {
     "duration": 0.010963,
     "end_time": "2022-12-14T14:17:11.117396",
     "exception": false,
     "start_time": "2022-12-14T14:17:11.106433",
     "status": "completed"
    },
    "tags": []
   },
   "source": [
    "# Tfidf"
   ]
  },
  {
   "cell_type": "code",
   "execution_count": 15,
   "id": "4436dd9d",
   "metadata": {
    "execution": {
     "iopub.execute_input": "2022-12-14T14:17:11.142410Z",
     "iopub.status.busy": "2022-12-14T14:17:11.141948Z",
     "iopub.status.idle": "2022-12-14T14:17:11.579749Z",
     "shell.execute_reply": "2022-12-14T14:17:11.578233Z"
    },
    "papermill": {
     "duration": 0.45448,
     "end_time": "2022-12-14T14:17:11.582940",
     "exception": false,
     "start_time": "2022-12-14T14:17:11.128460",
     "status": "completed"
    },
    "tags": []
   },
   "outputs": [
    {
     "name": "stdout",
     "output_type": "stream",
     "text": [
      "88831\n",
      "29611\n"
     ]
    }
   ],
   "source": [
    "tfidf_transformer = feature_extraction.text.TfidfTransformer(\n",
    "    norm=\"l2\", use_idf=True, smooth_idf=True, sublinear_tf=False\n",
    ").fit(X_train)\n",
    "X_train = tfidf_transformer.transform(X_train)\n",
    "print(X_train.shape[0])\n",
    "X_test = tfidf_transformer.transform(X_test)\n",
    "print(X_test.shape[0])"
   ]
  },
  {
   "cell_type": "code",
   "execution_count": 16,
   "id": "5dbfebbc",
   "metadata": {
    "execution": {
     "iopub.execute_input": "2022-12-14T14:17:11.607533Z",
     "iopub.status.busy": "2022-12-14T14:17:11.607077Z",
     "iopub.status.idle": "2022-12-14T14:17:11.615305Z",
     "shell.execute_reply": "2022-12-14T14:17:11.613998Z"
    },
    "papermill": {
     "duration": 0.023998,
     "end_time": "2022-12-14T14:17:11.618138",
     "exception": false,
     "start_time": "2022-12-14T14:17:11.594140",
     "status": "completed"
    },
    "tags": []
   },
   "outputs": [],
   "source": [
    "# [text for text in [token for token in X_test[0:5]]]"
   ]
  },
  {
   "cell_type": "markdown",
   "id": "a4ce0712",
   "metadata": {
    "papermill": {
     "duration": 0.011035,
     "end_time": "2022-12-14T14:17:11.640523",
     "exception": false,
     "start_time": "2022-12-14T14:17:11.629488",
     "status": "completed"
    },
    "tags": []
   },
   "source": [
    "# OvsRest"
   ]
  },
  {
   "cell_type": "code",
   "execution_count": 17,
   "id": "3f3c6219",
   "metadata": {
    "execution": {
     "iopub.execute_input": "2022-12-14T14:17:11.665353Z",
     "iopub.status.busy": "2022-12-14T14:17:11.664898Z",
     "iopub.status.idle": "2022-12-14T14:17:11.675071Z",
     "shell.execute_reply": "2022-12-14T14:17:11.673587Z"
    },
    "papermill": {
     "duration": 0.025803,
     "end_time": "2022-12-14T14:17:11.677651",
     "exception": false,
     "start_time": "2022-12-14T14:17:11.651848",
     "status": "completed"
    },
    "tags": []
   },
   "outputs": [
    {
     "data": {
      "text/plain": [
       "<88831x53999 sparse matrix of type '<class 'numpy.float64'>'\n",
       "\twith 2625878 stored elements in Compressed Sparse Row format>"
      ]
     },
     "execution_count": 17,
     "metadata": {},
     "output_type": "execute_result"
    }
   ],
   "source": [
    "X_train"
   ]
  },
  {
   "cell_type": "code",
   "execution_count": 18,
   "id": "747e5170",
   "metadata": {
    "execution": {
     "iopub.execute_input": "2022-12-14T14:17:11.702379Z",
     "iopub.status.busy": "2022-12-14T14:17:11.701910Z",
     "iopub.status.idle": "2022-12-14T14:17:11.730364Z",
     "shell.execute_reply": "2022-12-14T14:17:11.729216Z"
    },
    "papermill": {
     "duration": 0.044259,
     "end_time": "2022-12-14T14:17:11.733217",
     "exception": false,
     "start_time": "2022-12-14T14:17:11.688958",
     "status": "completed"
    },
    "tags": []
   },
   "outputs": [
    {
     "data": {
      "text/html": [
       "<div>\n",
       "<style scoped>\n",
       "    .dataframe tbody tr th:only-of-type {\n",
       "        vertical-align: middle;\n",
       "    }\n",
       "\n",
       "    .dataframe tbody tr th {\n",
       "        vertical-align: top;\n",
       "    }\n",
       "\n",
       "    .dataframe thead th {\n",
       "        text-align: right;\n",
       "    }\n",
       "</style>\n",
       "<table border=\"1\" class=\"dataframe\">\n",
       "  <thead>\n",
       "    <tr style=\"text-align: right;\">\n",
       "      <th></th>\n",
       "      <th>java</th>\n",
       "      <th>c#</th>\n",
       "      <th>javascript</th>\n",
       "      <th>python</th>\n",
       "      <th>android</th>\n",
       "      <th>c++</th>\n",
       "      <th>ios</th>\n",
       "      <th>html</th>\n",
       "      <th>php</th>\n",
       "      <th>.net</th>\n",
       "      <th>...</th>\n",
       "      <th>xml</th>\n",
       "      <th>bash</th>\n",
       "      <th>eclipse</th>\n",
       "      <th>python-3.x</th>\n",
       "      <th>image</th>\n",
       "      <th>unit-testing</th>\n",
       "      <th>angular</th>\n",
       "      <th>c++11</th>\n",
       "      <th>angularjs</th>\n",
       "      <th>git</th>\n",
       "    </tr>\n",
       "  </thead>\n",
       "  <tbody>\n",
       "    <tr>\n",
       "      <th>42834</th>\n",
       "      <td>False</td>\n",
       "      <td>False</td>\n",
       "      <td>True</td>\n",
       "      <td>False</td>\n",
       "      <td>False</td>\n",
       "      <td>False</td>\n",
       "      <td>False</td>\n",
       "      <td>False</td>\n",
       "      <td>False</td>\n",
       "      <td>False</td>\n",
       "      <td>...</td>\n",
       "      <td>False</td>\n",
       "      <td>False</td>\n",
       "      <td>False</td>\n",
       "      <td>False</td>\n",
       "      <td>False</td>\n",
       "      <td>False</td>\n",
       "      <td>False</td>\n",
       "      <td>False</td>\n",
       "      <td>False</td>\n",
       "      <td>False</td>\n",
       "    </tr>\n",
       "    <tr>\n",
       "      <th>25716</th>\n",
       "      <td>False</td>\n",
       "      <td>False</td>\n",
       "      <td>False</td>\n",
       "      <td>False</td>\n",
       "      <td>False</td>\n",
       "      <td>True</td>\n",
       "      <td>False</td>\n",
       "      <td>False</td>\n",
       "      <td>False</td>\n",
       "      <td>False</td>\n",
       "      <td>...</td>\n",
       "      <td>False</td>\n",
       "      <td>False</td>\n",
       "      <td>False</td>\n",
       "      <td>False</td>\n",
       "      <td>False</td>\n",
       "      <td>False</td>\n",
       "      <td>False</td>\n",
       "      <td>False</td>\n",
       "      <td>False</td>\n",
       "      <td>False</td>\n",
       "    </tr>\n",
       "    <tr>\n",
       "      <th>93960</th>\n",
       "      <td>True</td>\n",
       "      <td>False</td>\n",
       "      <td>False</td>\n",
       "      <td>False</td>\n",
       "      <td>True</td>\n",
       "      <td>False</td>\n",
       "      <td>False</td>\n",
       "      <td>False</td>\n",
       "      <td>False</td>\n",
       "      <td>False</td>\n",
       "      <td>...</td>\n",
       "      <td>False</td>\n",
       "      <td>False</td>\n",
       "      <td>False</td>\n",
       "      <td>False</td>\n",
       "      <td>False</td>\n",
       "      <td>False</td>\n",
       "      <td>False</td>\n",
       "      <td>False</td>\n",
       "      <td>False</td>\n",
       "      <td>False</td>\n",
       "    </tr>\n",
       "    <tr>\n",
       "      <th>106821</th>\n",
       "      <td>False</td>\n",
       "      <td>False</td>\n",
       "      <td>True</td>\n",
       "      <td>False</td>\n",
       "      <td>False</td>\n",
       "      <td>False</td>\n",
       "      <td>False</td>\n",
       "      <td>False</td>\n",
       "      <td>False</td>\n",
       "      <td>False</td>\n",
       "      <td>...</td>\n",
       "      <td>False</td>\n",
       "      <td>False</td>\n",
       "      <td>False</td>\n",
       "      <td>False</td>\n",
       "      <td>False</td>\n",
       "      <td>False</td>\n",
       "      <td>False</td>\n",
       "      <td>False</td>\n",
       "      <td>False</td>\n",
       "      <td>False</td>\n",
       "    </tr>\n",
       "    <tr>\n",
       "      <th>84135</th>\n",
       "      <td>False</td>\n",
       "      <td>False</td>\n",
       "      <td>False</td>\n",
       "      <td>True</td>\n",
       "      <td>False</td>\n",
       "      <td>False</td>\n",
       "      <td>False</td>\n",
       "      <td>False</td>\n",
       "      <td>False</td>\n",
       "      <td>False</td>\n",
       "      <td>...</td>\n",
       "      <td>False</td>\n",
       "      <td>False</td>\n",
       "      <td>False</td>\n",
       "      <td>False</td>\n",
       "      <td>False</td>\n",
       "      <td>False</td>\n",
       "      <td>False</td>\n",
       "      <td>False</td>\n",
       "      <td>False</td>\n",
       "      <td>False</td>\n",
       "    </tr>\n",
       "  </tbody>\n",
       "</table>\n",
       "<p>5 rows × 51 columns</p>\n",
       "</div>"
      ],
      "text/plain": [
       "         java     c#  javascript  python  android    c++    ios   html    php  \\\n",
       "42834   False  False        True   False    False  False  False  False  False   \n",
       "25716   False  False       False   False    False   True  False  False  False   \n",
       "93960    True  False       False   False     True  False  False  False  False   \n",
       "106821  False  False        True   False    False  False  False  False  False   \n",
       "84135   False  False       False    True    False  False  False  False  False   \n",
       "\n",
       "         .net  ...    xml   bash  eclipse  python-3.x  image  unit-testing  \\\n",
       "42834   False  ...  False  False    False       False  False         False   \n",
       "25716   False  ...  False  False    False       False  False         False   \n",
       "93960   False  ...  False  False    False       False  False         False   \n",
       "106821  False  ...  False  False    False       False  False         False   \n",
       "84135   False  ...  False  False    False       False  False         False   \n",
       "\n",
       "        angular  c++11  angularjs    git  \n",
       "42834     False  False      False  False  \n",
       "25716     False  False      False  False  \n",
       "93960     False  False      False  False  \n",
       "106821    False  False      False  False  \n",
       "84135     False  False      False  False  \n",
       "\n",
       "[5 rows x 51 columns]"
      ]
     },
     "execution_count": 18,
     "metadata": {},
     "output_type": "execute_result"
    }
   ],
   "source": [
    "y_train[0:5]"
   ]
  },
  {
   "cell_type": "code",
   "execution_count": 19,
   "id": "f530997f",
   "metadata": {
    "execution": {
     "iopub.execute_input": "2022-12-14T14:17:11.759177Z",
     "iopub.status.busy": "2022-12-14T14:17:11.758708Z",
     "iopub.status.idle": "2022-12-14T14:17:11.768579Z",
     "shell.execute_reply": "2022-12-14T14:17:11.767269Z"
    },
    "papermill": {
     "duration": 0.027482,
     "end_time": "2022-12-14T14:17:11.773006",
     "exception": false,
     "start_time": "2022-12-14T14:17:11.745524",
     "status": "completed"
    },
    "tags": []
   },
   "outputs": [
    {
     "name": "stdout",
     "output_type": "stream",
     "text": [
      "Début entrainement OvsRest\n"
     ]
    }
   ],
   "source": [
    "print(\"Début entrainement OvsRest\")"
   ]
  },
  {
   "cell_type": "code",
   "execution_count": 20,
   "id": "ceb85771",
   "metadata": {
    "execution": {
     "iopub.execute_input": "2022-12-14T14:17:11.797767Z",
     "iopub.status.busy": "2022-12-14T14:17:11.797370Z",
     "iopub.status.idle": "2022-12-14T15:08:12.050299Z",
     "shell.execute_reply": "2022-12-14T15:08:12.049165Z"
    },
    "papermill": {
     "duration": 3060.286727,
     "end_time": "2022-12-14T15:08:12.071600",
     "exception": false,
     "start_time": "2022-12-14T14:17:11.784873",
     "status": "completed"
    },
    "tags": []
   },
   "outputs": [
    {
     "name": "stderr",
     "output_type": "stream",
     "text": [
      "/opt/conda/lib/python3.7/site-packages/sklearn/svm/_base.py:289: ConvergenceWarning: Solver terminated early (max_iter=1000).  Consider pre-processing your data with StandardScaler or MinMaxScaler.\n",
      "  ConvergenceWarning,\n",
      "/opt/conda/lib/python3.7/site-packages/sklearn/svm/_base.py:289: ConvergenceWarning: Solver terminated early (max_iter=1000).  Consider pre-processing your data with StandardScaler or MinMaxScaler.\n",
      "  ConvergenceWarning,\n",
      "/opt/conda/lib/python3.7/site-packages/sklearn/svm/_base.py:289: ConvergenceWarning: Solver terminated early (max_iter=1000).  Consider pre-processing your data with StandardScaler or MinMaxScaler.\n",
      "  ConvergenceWarning,\n",
      "/opt/conda/lib/python3.7/site-packages/sklearn/svm/_base.py:289: ConvergenceWarning: Solver terminated early (max_iter=1000).  Consider pre-processing your data with StandardScaler or MinMaxScaler.\n",
      "  ConvergenceWarning,\n",
      "/opt/conda/lib/python3.7/site-packages/sklearn/svm/_base.py:289: ConvergenceWarning: Solver terminated early (max_iter=1000).  Consider pre-processing your data with StandardScaler or MinMaxScaler.\n",
      "  ConvergenceWarning,\n",
      "/opt/conda/lib/python3.7/site-packages/sklearn/svm/_base.py:289: ConvergenceWarning: Solver terminated early (max_iter=1000).  Consider pre-processing your data with StandardScaler or MinMaxScaler.\n",
      "  ConvergenceWarning,\n",
      "/opt/conda/lib/python3.7/site-packages/sklearn/svm/_base.py:289: ConvergenceWarning: Solver terminated early (max_iter=1000).  Consider pre-processing your data with StandardScaler or MinMaxScaler.\n",
      "  ConvergenceWarning,\n",
      "/opt/conda/lib/python3.7/site-packages/sklearn/svm/_base.py:289: ConvergenceWarning: Solver terminated early (max_iter=1000).  Consider pre-processing your data with StandardScaler or MinMaxScaler.\n",
      "  ConvergenceWarning,\n",
      "/opt/conda/lib/python3.7/site-packages/sklearn/svm/_base.py:289: ConvergenceWarning: Solver terminated early (max_iter=1000).  Consider pre-processing your data with StandardScaler or MinMaxScaler.\n",
      "  ConvergenceWarning,\n",
      "/opt/conda/lib/python3.7/site-packages/sklearn/svm/_base.py:289: ConvergenceWarning: Solver terminated early (max_iter=1000).  Consider pre-processing your data with StandardScaler or MinMaxScaler.\n",
      "  ConvergenceWarning,\n",
      "/opt/conda/lib/python3.7/site-packages/sklearn/svm/_base.py:289: ConvergenceWarning: Solver terminated early (max_iter=1000).  Consider pre-processing your data with StandardScaler or MinMaxScaler.\n",
      "  ConvergenceWarning,\n",
      "/opt/conda/lib/python3.7/site-packages/sklearn/svm/_base.py:289: ConvergenceWarning: Solver terminated early (max_iter=1000).  Consider pre-processing your data with StandardScaler or MinMaxScaler.\n",
      "  ConvergenceWarning,\n",
      "/opt/conda/lib/python3.7/site-packages/sklearn/svm/_base.py:289: ConvergenceWarning: Solver terminated early (max_iter=1000).  Consider pre-processing your data with StandardScaler or MinMaxScaler.\n",
      "  ConvergenceWarning,\n",
      "/opt/conda/lib/python3.7/site-packages/sklearn/svm/_base.py:289: ConvergenceWarning: Solver terminated early (max_iter=1000).  Consider pre-processing your data with StandardScaler or MinMaxScaler.\n",
      "  ConvergenceWarning,\n",
      "/opt/conda/lib/python3.7/site-packages/sklearn/svm/_base.py:289: ConvergenceWarning: Solver terminated early (max_iter=1000).  Consider pre-processing your data with StandardScaler or MinMaxScaler.\n",
      "  ConvergenceWarning,\n",
      "/opt/conda/lib/python3.7/site-packages/sklearn/svm/_base.py:289: ConvergenceWarning: Solver terminated early (max_iter=1000).  Consider pre-processing your data with StandardScaler or MinMaxScaler.\n",
      "  ConvergenceWarning,\n",
      "/opt/conda/lib/python3.7/site-packages/sklearn/svm/_base.py:289: ConvergenceWarning: Solver terminated early (max_iter=1000).  Consider pre-processing your data with StandardScaler or MinMaxScaler.\n",
      "  ConvergenceWarning,\n",
      "/opt/conda/lib/python3.7/site-packages/sklearn/svm/_base.py:289: ConvergenceWarning: Solver terminated early (max_iter=1000).  Consider pre-processing your data with StandardScaler or MinMaxScaler.\n",
      "  ConvergenceWarning,\n",
      "/opt/conda/lib/python3.7/site-packages/sklearn/svm/_base.py:289: ConvergenceWarning: Solver terminated early (max_iter=1000).  Consider pre-processing your data with StandardScaler or MinMaxScaler.\n",
      "  ConvergenceWarning,\n",
      "/opt/conda/lib/python3.7/site-packages/sklearn/svm/_base.py:289: ConvergenceWarning: Solver terminated early (max_iter=1000).  Consider pre-processing your data with StandardScaler or MinMaxScaler.\n",
      "  ConvergenceWarning,\n",
      "/opt/conda/lib/python3.7/site-packages/sklearn/svm/_base.py:289: ConvergenceWarning: Solver terminated early (max_iter=1000).  Consider pre-processing your data with StandardScaler or MinMaxScaler.\n",
      "  ConvergenceWarning,\n",
      "/opt/conda/lib/python3.7/site-packages/sklearn/svm/_base.py:289: ConvergenceWarning: Solver terminated early (max_iter=1000).  Consider pre-processing your data with StandardScaler or MinMaxScaler.\n",
      "  ConvergenceWarning,\n",
      "/opt/conda/lib/python3.7/site-packages/sklearn/svm/_base.py:289: ConvergenceWarning: Solver terminated early (max_iter=1000).  Consider pre-processing your data with StandardScaler or MinMaxScaler.\n",
      "  ConvergenceWarning,\n",
      "/opt/conda/lib/python3.7/site-packages/sklearn/svm/_base.py:289: ConvergenceWarning: Solver terminated early (max_iter=1000).  Consider pre-processing your data with StandardScaler or MinMaxScaler.\n",
      "  ConvergenceWarning,\n",
      "/opt/conda/lib/python3.7/site-packages/sklearn/svm/_base.py:289: ConvergenceWarning: Solver terminated early (max_iter=1000).  Consider pre-processing your data with StandardScaler or MinMaxScaler.\n",
      "  ConvergenceWarning,\n",
      "/opt/conda/lib/python3.7/site-packages/sklearn/svm/_base.py:289: ConvergenceWarning: Solver terminated early (max_iter=1000).  Consider pre-processing your data with StandardScaler or MinMaxScaler.\n",
      "  ConvergenceWarning,\n",
      "/opt/conda/lib/python3.7/site-packages/sklearn/svm/_base.py:289: ConvergenceWarning: Solver terminated early (max_iter=1000).  Consider pre-processing your data with StandardScaler or MinMaxScaler.\n",
      "  ConvergenceWarning,\n",
      "/opt/conda/lib/python3.7/site-packages/sklearn/svm/_base.py:289: ConvergenceWarning: Solver terminated early (max_iter=1000).  Consider pre-processing your data with StandardScaler or MinMaxScaler.\n",
      "  ConvergenceWarning,\n",
      "/opt/conda/lib/python3.7/site-packages/sklearn/svm/_base.py:289: ConvergenceWarning: Solver terminated early (max_iter=1000).  Consider pre-processing your data with StandardScaler or MinMaxScaler.\n",
      "  ConvergenceWarning,\n",
      "/opt/conda/lib/python3.7/site-packages/sklearn/svm/_base.py:289: ConvergenceWarning: Solver terminated early (max_iter=1000).  Consider pre-processing your data with StandardScaler or MinMaxScaler.\n",
      "  ConvergenceWarning,\n",
      "/opt/conda/lib/python3.7/site-packages/sklearn/svm/_base.py:289: ConvergenceWarning: Solver terminated early (max_iter=1000).  Consider pre-processing your data with StandardScaler or MinMaxScaler.\n",
      "  ConvergenceWarning,\n",
      "/opt/conda/lib/python3.7/site-packages/sklearn/svm/_base.py:289: ConvergenceWarning: Solver terminated early (max_iter=1000).  Consider pre-processing your data with StandardScaler or MinMaxScaler.\n",
      "  ConvergenceWarning,\n",
      "/opt/conda/lib/python3.7/site-packages/sklearn/svm/_base.py:289: ConvergenceWarning: Solver terminated early (max_iter=1000).  Consider pre-processing your data with StandardScaler or MinMaxScaler.\n",
      "  ConvergenceWarning,\n",
      "/opt/conda/lib/python3.7/site-packages/sklearn/svm/_base.py:289: ConvergenceWarning: Solver terminated early (max_iter=1000).  Consider pre-processing your data with StandardScaler or MinMaxScaler.\n",
      "  ConvergenceWarning,\n",
      "/opt/conda/lib/python3.7/site-packages/sklearn/svm/_base.py:289: ConvergenceWarning: Solver terminated early (max_iter=1000).  Consider pre-processing your data with StandardScaler or MinMaxScaler.\n",
      "  ConvergenceWarning,\n",
      "/opt/conda/lib/python3.7/site-packages/sklearn/svm/_base.py:289: ConvergenceWarning: Solver terminated early (max_iter=1000).  Consider pre-processing your data with StandardScaler or MinMaxScaler.\n",
      "  ConvergenceWarning,\n",
      "/opt/conda/lib/python3.7/site-packages/sklearn/svm/_base.py:289: ConvergenceWarning: Solver terminated early (max_iter=1000).  Consider pre-processing your data with StandardScaler or MinMaxScaler.\n",
      "  ConvergenceWarning,\n",
      "/opt/conda/lib/python3.7/site-packages/sklearn/svm/_base.py:289: ConvergenceWarning: Solver terminated early (max_iter=1000).  Consider pre-processing your data with StandardScaler or MinMaxScaler.\n",
      "  ConvergenceWarning,\n",
      "/opt/conda/lib/python3.7/site-packages/sklearn/svm/_base.py:289: ConvergenceWarning: Solver terminated early (max_iter=1000).  Consider pre-processing your data with StandardScaler or MinMaxScaler.\n",
      "  ConvergenceWarning,\n",
      "/opt/conda/lib/python3.7/site-packages/sklearn/svm/_base.py:289: ConvergenceWarning: Solver terminated early (max_iter=1000).  Consider pre-processing your data with StandardScaler or MinMaxScaler.\n",
      "  ConvergenceWarning,\n",
      "/opt/conda/lib/python3.7/site-packages/sklearn/svm/_base.py:289: ConvergenceWarning: Solver terminated early (max_iter=1000).  Consider pre-processing your data with StandardScaler or MinMaxScaler.\n",
      "  ConvergenceWarning,\n",
      "/opt/conda/lib/python3.7/site-packages/sklearn/svm/_base.py:289: ConvergenceWarning: Solver terminated early (max_iter=1000).  Consider pre-processing your data with StandardScaler or MinMaxScaler.\n",
      "  ConvergenceWarning,\n",
      "/opt/conda/lib/python3.7/site-packages/sklearn/svm/_base.py:289: ConvergenceWarning: Solver terminated early (max_iter=1000).  Consider pre-processing your data with StandardScaler or MinMaxScaler.\n",
      "  ConvergenceWarning,\n",
      "/opt/conda/lib/python3.7/site-packages/sklearn/svm/_base.py:289: ConvergenceWarning: Solver terminated early (max_iter=1000).  Consider pre-processing your data with StandardScaler or MinMaxScaler.\n",
      "  ConvergenceWarning,\n",
      "/opt/conda/lib/python3.7/site-packages/sklearn/svm/_base.py:289: ConvergenceWarning: Solver terminated early (max_iter=1000).  Consider pre-processing your data with StandardScaler or MinMaxScaler.\n",
      "  ConvergenceWarning,\n",
      "/opt/conda/lib/python3.7/site-packages/sklearn/svm/_base.py:289: ConvergenceWarning: Solver terminated early (max_iter=1000).  Consider pre-processing your data with StandardScaler or MinMaxScaler.\n",
      "  ConvergenceWarning,\n",
      "/opt/conda/lib/python3.7/site-packages/sklearn/svm/_base.py:289: ConvergenceWarning: Solver terminated early (max_iter=1000).  Consider pre-processing your data with StandardScaler or MinMaxScaler.\n",
      "  ConvergenceWarning,\n",
      "/opt/conda/lib/python3.7/site-packages/sklearn/svm/_base.py:289: ConvergenceWarning: Solver terminated early (max_iter=1000).  Consider pre-processing your data with StandardScaler or MinMaxScaler.\n",
      "  ConvergenceWarning,\n",
      "/opt/conda/lib/python3.7/site-packages/sklearn/svm/_base.py:289: ConvergenceWarning: Solver terminated early (max_iter=1000).  Consider pre-processing your data with StandardScaler or MinMaxScaler.\n",
      "  ConvergenceWarning,\n",
      "/opt/conda/lib/python3.7/site-packages/sklearn/svm/_base.py:289: ConvergenceWarning: Solver terminated early (max_iter=1000).  Consider pre-processing your data with StandardScaler or MinMaxScaler.\n",
      "  ConvergenceWarning,\n"
     ]
    },
    {
     "name": "stdout",
     "output_type": "stream",
     "text": [
      "CPU times: user 50min 27s, sys: 30.9 s, total: 50min 58s\n",
      "Wall time: 51min\n"
     ]
    },
    {
     "name": "stderr",
     "output_type": "stream",
     "text": [
      "/opt/conda/lib/python3.7/site-packages/sklearn/svm/_base.py:289: ConvergenceWarning: Solver terminated early (max_iter=1000).  Consider pre-processing your data with StandardScaler or MinMaxScaler.\n",
      "  ConvergenceWarning,\n"
     ]
    }
   ],
   "source": [
    "%%time\n",
    "# warnings.filterwarnings(\"ignore\", category=ConvergenceWarning)\n",
    "OvsRestAll = multiclass.OneVsRestClassifier(\n",
    "    svm.SVC(cache_size=1080, max_iter=1_000, random_state=42)\n",
    ").fit(\n",
    "    X_train,\n",
    "    y_train,\n",
    ")"
   ]
  },
  {
   "cell_type": "code",
   "execution_count": 21,
   "id": "10963436",
   "metadata": {
    "execution": {
     "iopub.execute_input": "2022-12-14T15:08:12.107516Z",
     "iopub.status.busy": "2022-12-14T15:08:12.107089Z",
     "iopub.status.idle": "2022-12-14T15:08:12.116396Z",
     "shell.execute_reply": "2022-12-14T15:08:12.115010Z"
    },
    "papermill": {
     "duration": 0.031292,
     "end_time": "2022-12-14T15:08:12.119295",
     "exception": false,
     "start_time": "2022-12-14T15:08:12.088003",
     "status": "completed"
    },
    "tags": []
   },
   "outputs": [
    {
     "name": "stdout",
     "output_type": "stream",
     "text": [
      "Fin entrainement OvsRest début prédiction\n"
     ]
    }
   ],
   "source": [
    "print(\"Fin entrainement OvsRest début prédiction\")"
   ]
  },
  {
   "cell_type": "code",
   "execution_count": 22,
   "id": "b30b389e",
   "metadata": {
    "execution": {
     "iopub.execute_input": "2022-12-14T15:08:12.151892Z",
     "iopub.status.busy": "2022-12-14T15:08:12.151242Z",
     "iopub.status.idle": "2022-12-14T15:24:52.020175Z",
     "shell.execute_reply": "2022-12-14T15:24:52.019020Z"
    },
    "papermill": {
     "duration": 999.90524,
     "end_time": "2022-12-14T15:24:52.039905",
     "exception": false,
     "start_time": "2022-12-14T15:08:12.134665",
     "status": "completed"
    },
    "tags": []
   },
   "outputs": [
    {
     "name": "stdout",
     "output_type": "stream",
     "text": [
      "CPU times: user 16min 42s, sys: 2.46 s, total: 16min 45s\n",
      "Wall time: 16min 39s\n"
     ]
    },
    {
     "data": {
      "text/plain": [
       "array([[0, 0, 1, ..., 0, 0, 0],\n",
       "       [0, 0, 0, ..., 0, 0, 0],\n",
       "       [0, 0, 0, ..., 0, 0, 0],\n",
       "       ...,\n",
       "       [0, 0, 0, ..., 0, 0, 0],\n",
       "       [0, 0, 0, ..., 0, 0, 0],\n",
       "       [0, 0, 0, ..., 0, 0, 0]])"
      ]
     },
     "execution_count": 22,
     "metadata": {},
     "output_type": "execute_result"
    }
   ],
   "source": [
    "%%time\n",
    "pred = OvsRestAll.predict(X_test)\n",
    "pred"
   ]
  },
  {
   "cell_type": "code",
   "execution_count": 23,
   "id": "4fa3cdc5",
   "metadata": {
    "execution": {
     "iopub.execute_input": "2022-12-14T15:24:52.073880Z",
     "iopub.status.busy": "2022-12-14T15:24:52.072888Z",
     "iopub.status.idle": "2022-12-14T15:24:52.284312Z",
     "shell.execute_reply": "2022-12-14T15:24:52.282853Z"
    },
    "papermill": {
     "duration": 0.231489,
     "end_time": "2022-12-14T15:24:52.287301",
     "exception": false,
     "start_time": "2022-12-14T15:24:52.055812",
     "status": "completed"
    },
    "tags": []
   },
   "outputs": [
    {
     "data": {
      "text/html": [
       "<div>\n",
       "<style scoped>\n",
       "    .dataframe tbody tr th:only-of-type {\n",
       "        vertical-align: middle;\n",
       "    }\n",
       "\n",
       "    .dataframe tbody tr th {\n",
       "        vertical-align: top;\n",
       "    }\n",
       "\n",
       "    .dataframe thead th {\n",
       "        text-align: right;\n",
       "    }\n",
       "</style>\n",
       "<table border=\"1\" class=\"dataframe\">\n",
       "  <thead>\n",
       "    <tr style=\"text-align: right;\">\n",
       "      <th></th>\n",
       "      <th>java</th>\n",
       "      <th>c#</th>\n",
       "      <th>javascript</th>\n",
       "      <th>python</th>\n",
       "      <th>android</th>\n",
       "      <th>c++</th>\n",
       "      <th>ios</th>\n",
       "      <th>html</th>\n",
       "      <th>php</th>\n",
       "      <th>.net</th>\n",
       "      <th>...</th>\n",
       "      <th>image</th>\n",
       "      <th>unit-testing</th>\n",
       "      <th>angular</th>\n",
       "      <th>c++11</th>\n",
       "      <th>angularjs</th>\n",
       "      <th>git</th>\n",
       "      <th>micro avg</th>\n",
       "      <th>macro avg</th>\n",
       "      <th>weighted avg</th>\n",
       "      <th>samples avg</th>\n",
       "    </tr>\n",
       "  </thead>\n",
       "  <tbody>\n",
       "    <tr>\n",
       "      <th>precision</th>\n",
       "      <td>0.311590</td>\n",
       "      <td>0.346266</td>\n",
       "      <td>0.247296</td>\n",
       "      <td>0.483525</td>\n",
       "      <td>0.576126</td>\n",
       "      <td>0.299640</td>\n",
       "      <td>0.416761</td>\n",
       "      <td>0.289987</td>\n",
       "      <td>0.578073</td>\n",
       "      <td>0.265226</td>\n",
       "      <td>...</td>\n",
       "      <td>0.623529</td>\n",
       "      <td>0.763736</td>\n",
       "      <td>0.883436</td>\n",
       "      <td>0.792793</td>\n",
       "      <td>0.953125</td>\n",
       "      <td>0.905405</td>\n",
       "      <td>0.400288</td>\n",
       "      <td>0.586945</td>\n",
       "      <td>0.467525</td>\n",
       "      <td>0.389639</td>\n",
       "    </tr>\n",
       "    <tr>\n",
       "      <th>recall</th>\n",
       "      <td>0.625632</td>\n",
       "      <td>0.205586</td>\n",
       "      <td>0.667759</td>\n",
       "      <td>0.707887</td>\n",
       "      <td>0.788264</td>\n",
       "      <td>0.550916</td>\n",
       "      <td>0.602717</td>\n",
       "      <td>0.491738</td>\n",
       "      <td>0.534726</td>\n",
       "      <td>0.086042</td>\n",
       "      <td>...</td>\n",
       "      <td>0.165625</td>\n",
       "      <td>0.441270</td>\n",
       "      <td>0.470588</td>\n",
       "      <td>0.293333</td>\n",
       "      <td>0.438849</td>\n",
       "      <td>0.733577</td>\n",
       "      <td>0.502168</td>\n",
       "      <td>0.468176</td>\n",
       "      <td>0.502168</td>\n",
       "      <td>0.465615</td>\n",
       "    </tr>\n",
       "    <tr>\n",
       "      <th>f1-score</th>\n",
       "      <td>0.415997</td>\n",
       "      <td>0.257995</td>\n",
       "      <td>0.360928</td>\n",
       "      <td>0.574580</td>\n",
       "      <td>0.665703</td>\n",
       "      <td>0.388161</td>\n",
       "      <td>0.492779</td>\n",
       "      <td>0.364828</td>\n",
       "      <td>0.555556</td>\n",
       "      <td>0.129933</td>\n",
       "      <td>...</td>\n",
       "      <td>0.261728</td>\n",
       "      <td>0.559356</td>\n",
       "      <td>0.614072</td>\n",
       "      <td>0.428224</td>\n",
       "      <td>0.600985</td>\n",
       "      <td>0.810484</td>\n",
       "      <td>0.445478</td>\n",
       "      <td>0.490609</td>\n",
       "      <td>0.450257</td>\n",
       "      <td>0.392882</td>\n",
       "    </tr>\n",
       "    <tr>\n",
       "      <th>support</th>\n",
       "      <td>3558.000000</td>\n",
       "      <td>3473.000000</td>\n",
       "      <td>3356.000000</td>\n",
       "      <td>2612.000000</td>\n",
       "      <td>2045.000000</td>\n",
       "      <td>1964.000000</td>\n",
       "      <td>1840.000000</td>\n",
       "      <td>1755.000000</td>\n",
       "      <td>1627.000000</td>\n",
       "      <td>1569.000000</td>\n",
       "      <td>...</td>\n",
       "      <td>320.000000</td>\n",
       "      <td>315.000000</td>\n",
       "      <td>306.000000</td>\n",
       "      <td>300.000000</td>\n",
       "      <td>278.000000</td>\n",
       "      <td>274.000000</td>\n",
       "      <td>45887.000000</td>\n",
       "      <td>45887.000000</td>\n",
       "      <td>45887.000000</td>\n",
       "      <td>45887.000000</td>\n",
       "    </tr>\n",
       "  </tbody>\n",
       "</table>\n",
       "<p>4 rows × 55 columns</p>\n",
       "</div>"
      ],
      "text/plain": [
       "                  java           c#   javascript       python      android  \\\n",
       "precision     0.311590     0.346266     0.247296     0.483525     0.576126   \n",
       "recall        0.625632     0.205586     0.667759     0.707887     0.788264   \n",
       "f1-score      0.415997     0.257995     0.360928     0.574580     0.665703   \n",
       "support    3558.000000  3473.000000  3356.000000  2612.000000  2045.000000   \n",
       "\n",
       "                   c++          ios         html          php         .net  \\\n",
       "precision     0.299640     0.416761     0.289987     0.578073     0.265226   \n",
       "recall        0.550916     0.602717     0.491738     0.534726     0.086042   \n",
       "f1-score      0.388161     0.492779     0.364828     0.555556     0.129933   \n",
       "support    1964.000000  1840.000000  1755.000000  1627.000000  1569.000000   \n",
       "\n",
       "           ...       image  unit-testing     angular       c++11   angularjs  \\\n",
       "precision  ...    0.623529      0.763736    0.883436    0.792793    0.953125   \n",
       "recall     ...    0.165625      0.441270    0.470588    0.293333    0.438849   \n",
       "f1-score   ...    0.261728      0.559356    0.614072    0.428224    0.600985   \n",
       "support    ...  320.000000    315.000000  306.000000  300.000000  278.000000   \n",
       "\n",
       "                  git     micro avg     macro avg  weighted avg   samples avg  \n",
       "precision    0.905405      0.400288      0.586945      0.467525      0.389639  \n",
       "recall       0.733577      0.502168      0.468176      0.502168      0.465615  \n",
       "f1-score     0.810484      0.445478      0.490609      0.450257      0.392882  \n",
       "support    274.000000  45887.000000  45887.000000  45887.000000  45887.000000  \n",
       "\n",
       "[4 rows x 55 columns]"
      ]
     },
     "execution_count": 23,
     "metadata": {},
     "output_type": "execute_result"
    }
   ],
   "source": [
    "# print(\n",
    "#     metrics.classification_report(\n",
    "#         y_test,\n",
    "#         pred,\n",
    "#         target_names=target_names,\n",
    "#         zero_division=0,\n",
    "#     )\n",
    "# )  # zero_division for the warning\n",
    "\n",
    "scores = pd.DataFrame(\n",
    "    metrics.classification_report(\n",
    "        y_test, pred, target_names=target_names, zero_division=0, output_dict=True\n",
    "    )\n",
    ")\n",
    "scores.to_csv(\"/kaggle/working/result_OvsRest.csv\")\n",
    "scores"
   ]
  },
  {
   "cell_type": "markdown",
   "id": "d4c22c1d",
   "metadata": {
    "papermill": {
     "duration": 0.014604,
     "end_time": "2022-12-14T15:24:52.317201",
     "exception": false,
     "start_time": "2022-12-14T15:24:52.302597",
     "status": "completed"
    },
    "tags": []
   },
   "source": [
    "# Word2Vec"
   ]
  },
  {
   "cell_type": "code",
   "execution_count": 24,
   "id": "bcc87b08",
   "metadata": {
    "execution": {
     "iopub.execute_input": "2022-12-14T15:24:52.348818Z",
     "iopub.status.busy": "2022-12-14T15:24:52.348344Z",
     "iopub.status.idle": "2022-12-14T15:24:52.363678Z",
     "shell.execute_reply": "2022-12-14T15:24:52.362499Z"
    },
    "papermill": {
     "duration": 0.034017,
     "end_time": "2022-12-14T15:24:52.365984",
     "exception": false,
     "start_time": "2022-12-14T15:24:52.331967",
     "status": "completed"
    },
    "tags": []
   },
   "outputs": [
    {
     "data": {
      "text/plain": [
       "0     process array process arraypiece c++ code show...\n",
       "1     undo commit gitcommit file git push commit ser...\n",
       "2     delete git branchdelete remote origin bugfix b...\n",
       "3     difference git pull git fetchdifference git pu...\n",
       "4     operator c++read hidden features dark corners ...\n",
       "5                                            stack heap\n",
       "6     force git pull overwrite fileforce overwrite f...\n",
       "7     check element hide jquerytoggle visibility ele...\n",
       "8     use javascript reasoningrun javascript code cr...\n",
       "9     _ _ _ = _ _include statement try close questio...\n",
       "10    modify exist commit messagewrite thing commit ...\n",
       "11    javascript closure workexplain javascript clos...\n",
       "12    revert git repository commitrevert state snaps...\n",
       "13    java pass reference pass valuethink java use p...\n",
       "14    var functionname function vs function function...\n",
       "15           difference string string c #difference use\n",
       "16                          metaclasse pythonmetaclasse\n",
       "17    find file contain text string linuxfind file c...\n",
       "18    difference px dip spdifference unit measure px...\n",
       "19    difference post httpaccord rfc post create res...\n",
       "20    include javascript file javascript fileinclude...\n",
       "21    difference let varecmascript introduce stateme...\n",
       "22    disable text selection highlightinganchor act ...\n",
       "23    execute program system commandcommand python t...\n",
       "24    equal operator vs javascript comparisonjslint ...\n",
       "25    guide form base website authenticationquestion...\n",
       "26     loop array javascriptloop entry array javascript\n",
       "27    validate email address javascriptlike check us...\n",
       "28    create nest directorycheck directory file go w...\n",
       "29    push branch git repository trackcreate branch ...\n",
       "30    explanation o notationprefer definition mathem...\n",
       "31    resolve merge conflict git repositoryresolve m...\n",
       "32                             differenceleave join fit\n",
       "33    check checkbox check jqueryneed check check pr...\n",
       "34    reference symbol mean phpcollection question c...\n",
       "35                         center elementcenter div css\n",
       "36    list list listlist list like flatten list list...\n",
       "37                squash n commitsquash n commit commit\n",
       "38    letter string uppercase javascriptletter strin...\n",
       "39         difference uri url urndifference url uri urn\n",
       "40    difference tilde(~ caret(^ package.jsonupgrade...\n",
       "41    pass surname web service actionscriptemployee ...\n",
       "42    check array include value javascriptway find j...\n",
       "43    clone branchmaster development branch track gi...\n",
       "44    timestamp javascriptwant number represent date...\n",
       "45    read convert inputstream string javajava.io in...\n",
       "46    update sync fork repository githubfork project...\n",
       "47    set check checkbox jquerylike like tick checkb...\n",
       "48    @classmethod vs @staticmethod pythondifference...\n",
       "49    google prepend while(1 json responsegoogle pre...\n",
       "Name: Token, dtype: object"
      ]
     },
     "execution_count": 24,
     "metadata": {},
     "output_type": "execute_result"
    }
   ],
   "source": [
    "df[0:50][\"Token\"]"
   ]
  },
  {
   "cell_type": "code",
   "execution_count": 25,
   "id": "417f940d",
   "metadata": {
    "_kg_hide-output": true,
    "collapsed": true,
    "execution": {
     "iopub.execute_input": "2022-12-14T15:24:52.397874Z",
     "iopub.status.busy": "2022-12-14T15:24:52.397431Z",
     "iopub.status.idle": "2022-12-14T15:24:53.451319Z",
     "shell.execute_reply": "2022-12-14T15:24:53.450196Z"
    },
    "jupyter": {
     "outputs_hidden": true
    },
    "papermill": {
     "duration": 1.073138,
     "end_time": "2022-12-14T15:24:53.454207",
     "exception": false,
     "start_time": "2022-12-14T15:24:52.381069",
     "status": "completed"
    },
    "tags": []
   },
   "outputs": [],
   "source": [
    "sentences = [gensim.utils.simple_preprocess(text) for text in df[0:20000][\"Token\"]]\n",
    "#sentences"
   ]
  },
  {
   "cell_type": "code",
   "execution_count": 26,
   "id": "8320f12b",
   "metadata": {
    "execution": {
     "iopub.execute_input": "2022-12-14T15:24:53.487797Z",
     "iopub.status.busy": "2022-12-14T15:24:53.487391Z",
     "iopub.status.idle": "2022-12-14T15:24:53.493366Z",
     "shell.execute_reply": "2022-12-14T15:24:53.492103Z"
    },
    "papermill": {
     "duration": 0.025506,
     "end_time": "2022-12-14T15:24:53.495742",
     "exception": false,
     "start_time": "2022-12-14T15:24:53.470236",
     "status": "completed"
    },
    "tags": []
   },
   "outputs": [],
   "source": [
    "# gensim.corpora.Dictionary(token[\"Token\"])"
   ]
  },
  {
   "cell_type": "code",
   "execution_count": 27,
   "id": "7e1bf248",
   "metadata": {
    "execution": {
     "iopub.execute_input": "2022-12-14T15:24:53.528058Z",
     "iopub.status.busy": "2022-12-14T15:24:53.527682Z",
     "iopub.status.idle": "2022-12-14T15:24:59.157827Z",
     "shell.execute_reply": "2022-12-14T15:24:59.156492Z"
    },
    "papermill": {
     "duration": 5.649987,
     "end_time": "2022-12-14T15:24:59.161053",
     "exception": false,
     "start_time": "2022-12-14T15:24:53.511066",
     "status": "completed"
    },
    "tags": []
   },
   "outputs": [],
   "source": [
    "from tensorflow import keras"
   ]
  },
  {
   "cell_type": "code",
   "execution_count": 28,
   "id": "a016b0f5",
   "metadata": {
    "execution": {
     "iopub.execute_input": "2022-12-14T15:24:59.196740Z",
     "iopub.status.busy": "2022-12-14T15:24:59.195483Z",
     "iopub.status.idle": "2022-12-14T15:28:51.197657Z",
     "shell.execute_reply": "2022-12-14T15:28:51.196163Z"
    },
    "papermill": {
     "duration": 232.038118,
     "end_time": "2022-12-14T15:28:51.216027",
     "exception": false,
     "start_time": "2022-12-14T15:24:59.177909",
     "status": "completed"
    },
    "tags": []
   },
   "outputs": [
    {
     "name": "stdout",
     "output_type": "stream",
     "text": [
      "Build & train Word2Vec model ...\n",
      "Vocabulary size: 35610\n",
      "Word2Vec trained\n"
     ]
    }
   ],
   "source": [
    "print(\"Build & train Word2Vec model ...\")\n",
    "w2v_min_count = 1\n",
    "w2v_size = 300\n",
    "w2v_window = 5\n",
    "w2v_epochs = 100\n",
    "maxlen = 24\n",
    "w2v_model = gensim.models.Word2Vec(\n",
    "    min_count=w2v_min_count, window=w2v_window, vector_size=w2v_size, seed=42, workers=1\n",
    ")\n",
    "#                                                workers=multiprocessing.cpu_count())\n",
    "w2v_model.build_vocab(sentences)\n",
    "w2v_model.train(sentences, total_examples=w2v_model.corpus_count, epochs=w2v_epochs)\n",
    "model_vectors = w2v_model.wv\n",
    "w2v_words = model_vectors.index_to_key\n",
    "print(\"Vocabulary size: %i\" % len(w2v_words))\n",
    "print(\"Word2Vec trained\")"
   ]
  },
  {
   "cell_type": "code",
   "execution_count": 29,
   "id": "97c5e248",
   "metadata": {
    "execution": {
     "iopub.execute_input": "2022-12-14T15:28:51.252383Z",
     "iopub.status.busy": "2022-12-14T15:28:51.251943Z",
     "iopub.status.idle": "2022-12-14T15:28:53.552246Z",
     "shell.execute_reply": "2022-12-14T15:28:53.550759Z"
    },
    "papermill": {
     "duration": 2.321536,
     "end_time": "2022-12-14T15:28:53.555155",
     "exception": false,
     "start_time": "2022-12-14T15:28:51.233619",
     "status": "completed"
    },
    "tags": []
   },
   "outputs": [
    {
     "name": "stdout",
     "output_type": "stream",
     "text": [
      "Number of unique words: 35611\n"
     ]
    }
   ],
   "source": [
    "tokenizer = keras.preprocessing.text.Tokenizer()\n",
    "tokenizer.fit_on_texts(sentences)\n",
    "x_sentences = keras.preprocessing.sequence.pad_sequences(\n",
    "    tokenizer.texts_to_sequences(sentences), maxlen=maxlen, padding=\"post\"\n",
    ")\n",
    "\n",
    "num_words = len(tokenizer.word_index) + 1\n",
    "print(\"Number of unique words: %i\" % num_words)"
   ]
  },
  {
   "cell_type": "markdown",
   "id": "11c77ba8",
   "metadata": {
    "papermill": {
     "duration": 0.014984,
     "end_time": "2022-12-14T15:28:53.585915",
     "exception": false,
     "start_time": "2022-12-14T15:28:53.570931",
     "status": "completed"
    },
    "tags": []
   },
   "source": [
    "# BERT"
   ]
  },
  {
   "cell_type": "markdown",
   "id": "1db842db",
   "metadata": {
    "papermill": {
     "duration": 0.014905,
     "end_time": "2022-12-14T15:28:53.616045",
     "exception": false,
     "start_time": "2022-12-14T15:28:53.601140",
     "status": "completed"
    },
    "tags": []
   },
   "source": [
    "# USE"
   ]
  }
 ],
 "metadata": {
  "kernelspec": {
   "display_name": "Python 3",
   "language": "python",
   "name": "python3"
  },
  "language_info": {
   "codemirror_mode": {
    "name": "ipython",
    "version": 3
   },
   "file_extension": ".py",
   "mimetype": "text/x-python",
   "name": "python",
   "nbconvert_exporter": "python",
   "pygments_lexer": "ipython3",
   "version": "3.7.12"
  },
  "papermill": {
   "default_parameters": {},
   "duration": 4350.910231,
   "end_time": "2022-12-14T15:28:56.275228",
   "environment_variables": {},
   "exception": null,
   "input_path": "__notebook__.ipynb",
   "output_path": "__notebook__.ipynb",
   "parameters": {},
   "start_time": "2022-12-14T14:16:25.364997",
   "version": "2.3.4"
  },
  "widgets": {
   "application/vnd.jupyter.widget-state+json": {
    "state": {
     "09bdf42b316442bc80f37569d0e660e7": {
      "model_module": "@jupyter-widgets/controls",
      "model_module_version": "1.5.0",
      "model_name": "SliderStyleModel",
      "state": {
       "_model_module": "@jupyter-widgets/controls",
       "_model_module_version": "1.5.0",
       "_model_name": "SliderStyleModel",
       "_view_count": null,
       "_view_module": "@jupyter-widgets/base",
       "_view_module_version": "1.2.0",
       "_view_name": "StyleView",
       "description_width": "",
       "handle_color": null
      }
     },
     "2b43f2081d43420b87ff77e2f507f6b0": {
      "model_module": "@jupyter-widgets/controls",
      "model_module_version": "1.5.0",
      "model_name": "IntSliderModel",
      "state": {
       "_dom_classes": [],
       "_model_module": "@jupyter-widgets/controls",
       "_model_module_version": "1.5.0",
       "_model_name": "IntSliderModel",
       "_view_count": null,
       "_view_module": "@jupyter-widgets/controls",
       "_view_module_version": "1.5.0",
       "_view_name": "IntSliderView",
       "continuous_update": true,
       "description": "i",
       "description_tooltip": null,
       "disabled": false,
       "layout": "IPY_MODEL_5641d735690f4e108c09eba59423a2a5",
       "max": 118441,
       "min": 0,
       "orientation": "horizontal",
       "readout": true,
       "readout_format": "d",
       "step": 1,
       "style": "IPY_MODEL_09bdf42b316442bc80f37569d0e660e7",
       "value": 59220
      }
     },
     "5641d735690f4e108c09eba59423a2a5": {
      "model_module": "@jupyter-widgets/base",
      "model_module_version": "1.2.0",
      "model_name": "LayoutModel",
      "state": {
       "_model_module": "@jupyter-widgets/base",
       "_model_module_version": "1.2.0",
       "_model_name": "LayoutModel",
       "_view_count": null,
       "_view_module": "@jupyter-widgets/base",
       "_view_module_version": "1.2.0",
       "_view_name": "LayoutView",
       "align_content": null,
       "align_items": null,
       "align_self": null,
       "border": null,
       "bottom": null,
       "display": null,
       "flex": null,
       "flex_flow": null,
       "grid_area": null,
       "grid_auto_columns": null,
       "grid_auto_flow": null,
       "grid_auto_rows": null,
       "grid_column": null,
       "grid_gap": null,
       "grid_row": null,
       "grid_template_areas": null,
       "grid_template_columns": null,
       "grid_template_rows": null,
       "height": null,
       "justify_content": null,
       "justify_items": null,
       "left": null,
       "margin": null,
       "max_height": null,
       "max_width": null,
       "min_height": null,
       "min_width": null,
       "object_fit": null,
       "object_position": null,
       "order": null,
       "overflow": null,
       "overflow_x": null,
       "overflow_y": null,
       "padding": null,
       "right": null,
       "top": null,
       "visibility": null,
       "width": null
      }
     },
     "91b296652a024078bc7ac283a158c682": {
      "model_module": "@jupyter-widgets/output",
      "model_module_version": "1.0.0",
      "model_name": "OutputModel",
      "state": {
       "_dom_classes": [],
       "_model_module": "@jupyter-widgets/output",
       "_model_module_version": "1.0.0",
       "_model_name": "OutputModel",
       "_view_count": null,
       "_view_module": "@jupyter-widgets/output",
       "_view_module_version": "1.0.0",
       "_view_name": "OutputView",
       "layout": "IPY_MODEL_93697e2f03d542b2986a23061e4571d6",
       "msg_id": "",
       "outputs": [
        {
         "name": "stdout",
         "output_type": "stream",
         "text": "Title:How to change culture to a DateTimepicker or calendar control in .Net\n******************************\nTitle_clean:change culture datetimepicker calendar control\n******************************\nBody:<p>How to set internationalization to a <code>DateTimepicker</code> or <code>Calendar WinForm</code> control in .Net when the desire culture is different to the one installed in the PC?</p>\n\n******************************\nBody_clean:set internationalization datetimepicker calendar winform control .net desire culture instal pc\n******************************\nCode:DateTimepicker Calendar WinForm\n******************************\nTags:c# .net internationalization datetimepicker culture\n"
        }
       ]
      }
     },
     "93697e2f03d542b2986a23061e4571d6": {
      "model_module": "@jupyter-widgets/base",
      "model_module_version": "1.2.0",
      "model_name": "LayoutModel",
      "state": {
       "_model_module": "@jupyter-widgets/base",
       "_model_module_version": "1.2.0",
       "_model_name": "LayoutModel",
       "_view_count": null,
       "_view_module": "@jupyter-widgets/base",
       "_view_module_version": "1.2.0",
       "_view_name": "LayoutView",
       "align_content": null,
       "align_items": null,
       "align_self": null,
       "border": null,
       "bottom": null,
       "display": null,
       "flex": null,
       "flex_flow": null,
       "grid_area": null,
       "grid_auto_columns": null,
       "grid_auto_flow": null,
       "grid_auto_rows": null,
       "grid_column": null,
       "grid_gap": null,
       "grid_row": null,
       "grid_template_areas": null,
       "grid_template_columns": null,
       "grid_template_rows": null,
       "height": null,
       "justify_content": null,
       "justify_items": null,
       "left": null,
       "margin": null,
       "max_height": null,
       "max_width": null,
       "min_height": null,
       "min_width": null,
       "object_fit": null,
       "object_position": null,
       "order": null,
       "overflow": null,
       "overflow_x": null,
       "overflow_y": null,
       "padding": null,
       "right": null,
       "top": null,
       "visibility": null,
       "width": null
      }
     },
     "944015b7ba004a968dd9b788d33c349b": {
      "model_module": "@jupyter-widgets/base",
      "model_module_version": "1.2.0",
      "model_name": "LayoutModel",
      "state": {
       "_model_module": "@jupyter-widgets/base",
       "_model_module_version": "1.2.0",
       "_model_name": "LayoutModel",
       "_view_count": null,
       "_view_module": "@jupyter-widgets/base",
       "_view_module_version": "1.2.0",
       "_view_name": "LayoutView",
       "align_content": null,
       "align_items": null,
       "align_self": null,
       "border": null,
       "bottom": null,
       "display": null,
       "flex": null,
       "flex_flow": null,
       "grid_area": null,
       "grid_auto_columns": null,
       "grid_auto_flow": null,
       "grid_auto_rows": null,
       "grid_column": null,
       "grid_gap": null,
       "grid_row": null,
       "grid_template_areas": null,
       "grid_template_columns": null,
       "grid_template_rows": null,
       "height": null,
       "justify_content": null,
       "justify_items": null,
       "left": null,
       "margin": null,
       "max_height": null,
       "max_width": null,
       "min_height": null,
       "min_width": null,
       "object_fit": null,
       "object_position": null,
       "order": null,
       "overflow": null,
       "overflow_x": null,
       "overflow_y": null,
       "padding": null,
       "right": null,
       "top": null,
       "visibility": null,
       "width": null
      }
     },
     "e6d1deca08ce4ad5a1b68a7ab0b3207c": {
      "model_module": "@jupyter-widgets/controls",
      "model_module_version": "1.5.0",
      "model_name": "VBoxModel",
      "state": {
       "_dom_classes": [
        "widget-interact"
       ],
       "_model_module": "@jupyter-widgets/controls",
       "_model_module_version": "1.5.0",
       "_model_name": "VBoxModel",
       "_view_count": null,
       "_view_module": "@jupyter-widgets/controls",
       "_view_module_version": "1.5.0",
       "_view_name": "VBoxView",
       "box_style": "",
       "children": [
        "IPY_MODEL_2b43f2081d43420b87ff77e2f507f6b0",
        "IPY_MODEL_91b296652a024078bc7ac283a158c682"
       ],
       "layout": "IPY_MODEL_944015b7ba004a968dd9b788d33c349b"
      }
     }
    },
    "version_major": 2,
    "version_minor": 0
   }
  }
 },
 "nbformat": 4,
 "nbformat_minor": 5
}
