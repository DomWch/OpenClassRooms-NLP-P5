{
 "cells": [
  {
   "cell_type": "markdown",
   "id": "135254a4",
   "metadata": {
    "papermill": {
     "duration": 0.010343,
     "end_time": "2022-12-22T20:29:11.731545",
     "exception": false,
     "start_time": "2022-12-22T20:29:11.721202",
     "status": "completed"
    },
    "tags": []
   },
   "source": [
    "# Index\n",
    "* [Import](#index)\n",
    "* [Tokenization](#Tokenization)\n",
    "* [CountVectorizer](#CountVectorizer)\n",
    "* [PreprocessPipeline](#PreprocessPipeline)\n",
    "* [OvsRest](#OvsRest)\n",
    "    - [LogisticRegression](#LogisticRegression)\n",
    "    - [SVC](#SVC)\n",
    "* [Word2Vec](#Word2Vec)\n",
    "* [BERT](#BERT)\n",
    "* [USE](#USE)"
   ]
  },
  {
   "cell_type": "code",
   "execution_count": 1,
   "id": "6248265b",
   "metadata": {
    "_cell_guid": "b1076dfc-b9ad-4769-8c92-a6c4dae69d19",
    "_uuid": "8f2839f25d086af736a60e9eeb907d3b93b6e0e5",
    "execution": {
     "iopub.execute_input": "2022-12-22T20:29:11.753684Z",
     "iopub.status.busy": "2022-12-22T20:29:11.752924Z",
     "iopub.status.idle": "2022-12-22T20:29:16.903959Z",
     "shell.execute_reply": "2022-12-22T20:29:16.903031Z"
    },
    "papermill": {
     "duration": 5.165534,
     "end_time": "2022-12-22T20:29:16.906440",
     "exception": false,
     "start_time": "2022-12-22T20:29:11.740906",
     "status": "completed"
    },
    "tags": []
   },
   "outputs": [],
   "source": [
    "import time\n",
    "\n",
    "# from joblib import dump, load, Memory\n",
    "import joblib\n",
    "\n",
    "# import warnings\n",
    "\n",
    "import numpy as np\n",
    "import pandas as pd\n",
    "import gensim\n",
    "import matplotlib.pyplot as plt\n",
    "\n",
    "# from gensim import (\n",
    "#     corpora,\n",
    "# )  # https://pypi.org/project/gensim/ #https://radimrehurek.com/gensim/auto_examples/core/run_topics_and_transformations.html#sphx-glr-auto-examples-core-run-topics-and-transformations-py\n",
    "from sklearn import (\n",
    "    metrics,\n",
    "    feature_extraction,\n",
    "    linear_model,\n",
    "    model_selection,\n",
    "    preprocessing,\n",
    "    cluster,\n",
    "    decomposition,\n",
    "    multiclass,\n",
    "    svm,\n",
    "    pipeline,\n",
    "    exceptions,\n",
    "    manifold,\n",
    ")\n",
    "from sklearn.utils._testing import ignore_warnings\n",
    "from tensorflow import keras\n",
    "\n",
    "\n",
    "# import nlpk"
   ]
  },
  {
   "cell_type": "code",
   "execution_count": 2,
   "id": "6f1ff022",
   "metadata": {
    "execution": {
     "iopub.execute_input": "2022-12-22T20:29:16.927631Z",
     "iopub.status.busy": "2022-12-22T20:29:16.926551Z",
     "iopub.status.idle": "2022-12-22T20:29:16.931601Z",
     "shell.execute_reply": "2022-12-22T20:29:16.931046Z"
    },
    "papermill": {
     "duration": 0.01711,
     "end_time": "2022-12-22T20:29:16.933285",
     "exception": false,
     "start_time": "2022-12-22T20:29:16.916175",
     "status": "completed"
    },
    "tags": []
   },
   "outputs": [],
   "source": [
    "class colors:\n",
    "    PURPLE = \"\\033[95m\"\n",
    "    BLUE = \"\\033[94m\"\n",
    "    CYAN = \"\\033[96m\"\n",
    "    GREEN = \"\\033[92m\"\n",
    "    YELLOW = \"\\033[93m\"\n",
    "    RED = \"\\033[91m\"\n",
    "    ENDC = \"\\033[0m\"\n",
    "    BOLD = \"\\033[1m\"\n",
    "    UNDERLINE = \"\\033[4m\""
   ]
  },
  {
   "cell_type": "markdown",
   "id": "b0d292a7",
   "metadata": {
    "papermill": {
     "duration": 0.009028,
     "end_time": "2022-12-22T20:29:16.952066",
     "exception": false,
     "start_time": "2022-12-22T20:29:16.943038",
     "status": "completed"
    },
    "tags": []
   },
   "source": [
    "test https://scikit-learn.org/stable/modules/multiclass.html autre stategie que OneVsRest\n",
    "https://keras.io/examples/nlp/text_extraction_with_bert/"
   ]
  },
  {
   "cell_type": "code",
   "execution_count": 3,
   "id": "40199ec9",
   "metadata": {
    "_kg_hide-output": true,
    "execution": {
     "iopub.execute_input": "2022-12-22T20:29:16.972591Z",
     "iopub.status.busy": "2022-12-22T20:29:16.971956Z",
     "iopub.status.idle": "2022-12-22T20:29:27.795382Z",
     "shell.execute_reply": "2022-12-22T20:29:27.794190Z"
    },
    "papermill": {
     "duration": 10.835821,
     "end_time": "2022-12-22T20:29:27.797198",
     "exception": false,
     "start_time": "2022-12-22T20:29:16.961377",
     "status": "completed"
    },
    "tags": []
   },
   "outputs": [
    {
     "name": "stdout",
     "output_type": "stream",
     "text": [
      "\u001b[33mWARNING: Running pip as the 'root' user can result in broken permissions and conflicting behaviour with the system package manager. It is recommended to use a virtual environment instead: https://pip.pypa.io/warnings/venv\u001b[0m\u001b[33m\r\n",
      "\u001b[0mNote: you may need to restart the kernel to use updated packages.\n"
     ]
    }
   ],
   "source": [
    "pip install -q jupyter-black jupyter"
   ]
  },
  {
   "cell_type": "code",
   "execution_count": 4,
   "id": "87457928",
   "metadata": {
    "execution": {
     "iopub.execute_input": "2022-12-22T20:29:27.817299Z",
     "iopub.status.busy": "2022-12-22T20:29:27.817043Z",
     "iopub.status.idle": "2022-12-22T20:29:27.938387Z",
     "shell.execute_reply": "2022-12-22T20:29:27.937580Z"
    },
    "papermill": {
     "duration": 0.133072,
     "end_time": "2022-12-22T20:29:27.940151",
     "exception": false,
     "start_time": "2022-12-22T20:29:27.807079",
     "status": "completed"
    },
    "tags": []
   },
   "outputs": [
    {
     "data": {
      "text/html": [
       "\n",
       "                <script type=\"application/javascript\" id=\"jupyter_black\">\n",
       "                (function() {\n",
       "                    if (window.IPython === undefined) {\n",
       "                        return\n",
       "                    }\n",
       "                    var msg = \"WARNING: it looks like you might have loaded \" +\n",
       "                        \"jupyter_black in a non-lab notebook with \" +\n",
       "                        \"`is_lab=True`. Please double check, and if \" +\n",
       "                        \"loading with `%load_ext` please review the README!\"\n",
       "                    console.log(msg)\n",
       "                    alert(msg)\n",
       "                })()\n",
       "                </script>\n",
       "                "
      ],
      "text/plain": [
       "<IPython.core.display.HTML object>"
      ]
     },
     "metadata": {},
     "output_type": "display_data"
    }
   ],
   "source": [
    "# for black formating\n",
    "import jupyter_black  # pip install jupyter-black jupyter\n",
    "\n",
    "jupyter_black.load()\n",
    "# ??jupyter_black.load #show config"
   ]
  },
  {
   "cell_type": "code",
   "execution_count": 5,
   "id": "25552317",
   "metadata": {
    "execution": {
     "iopub.execute_input": "2022-12-22T20:29:27.959723Z",
     "iopub.status.busy": "2022-12-22T20:29:27.959485Z",
     "iopub.status.idle": "2022-12-22T20:29:35.066547Z",
     "shell.execute_reply": "2022-12-22T20:29:35.065597Z"
    },
    "papermill": {
     "duration": 7.118861,
     "end_time": "2022-12-22T20:29:35.068310",
     "exception": false,
     "start_time": "2022-12-22T20:29:27.949449",
     "status": "completed"
    },
    "tags": []
   },
   "outputs": [
    {
     "name": "stdout",
     "output_type": "stream",
     "text": [
      "<class 'pandas.core.frame.DataFrame'>\n",
      "Int64Index: 118442 entries, 0 to 118441\n",
      "Data columns (total 12 columns):\n",
      " #   Column       Non-Null Count   Dtype \n",
      "---  ------       --------------   ----- \n",
      " 0   Id           118442 non-null  int64 \n",
      " 1   Title        118442 non-null  object\n",
      " 2   Body         118442 non-null  object\n",
      " 3   0            118440 non-null  object\n",
      " 4   1            118383 non-null  object\n",
      " 5   2            118292 non-null  object\n",
      " 6   3            118292 non-null  object\n",
      " 7   4            76389 non-null   object\n",
      " 8   5            4 non-null       object\n",
      " 9   Title_clean  118389 non-null  object\n",
      " 10  Code         88202 non-null   object\n",
      " 11  Body_clean   118392 non-null  object\n",
      "dtypes: int64(1), object(11)\n",
      "memory usage: 11.7+ MB\n"
     ]
    }
   ],
   "source": [
    "LONG = False\n",
    "df = pd.read_csv(\n",
    "    \"/kaggle/input/p5-nlp/stackoverflowCleaned.csv\", index_col=0, low_memory=False\n",
    ")\n",
    "df.info()"
   ]
  },
  {
   "cell_type": "markdown",
   "id": "105738ee",
   "metadata": {
    "papermill": {
     "duration": 0.009401,
     "end_time": "2022-12-22T20:29:35.087677",
     "exception": false,
     "start_time": "2022-12-22T20:29:35.078276",
     "status": "completed"
    },
    "tags": []
   },
   "source": [
    "# Tokenization"
   ]
  },
  {
   "cell_type": "code",
   "execution_count": 6,
   "id": "19395240",
   "metadata": {
    "execution": {
     "iopub.execute_input": "2022-12-22T20:29:35.108653Z",
     "iopub.status.busy": "2022-12-22T20:29:35.108113Z",
     "iopub.status.idle": "2022-12-22T20:29:35.226663Z",
     "shell.execute_reply": "2022-12-22T20:29:35.225628Z"
    },
    "papermill": {
     "duration": 0.131212,
     "end_time": "2022-12-22T20:29:35.228524",
     "exception": false,
     "start_time": "2022-12-22T20:29:35.097312",
     "status": "completed"
    },
    "tags": []
   },
   "outputs": [
    {
     "data": {
      "application/vnd.jupyter.widget-view+json": {
       "model_id": "44e59315bb3b4a54879c720e4437b9d8",
       "version_major": 2,
       "version_minor": 0
      },
      "text/plain": [
       "interactive(children=(IntSlider(value=59220, description='i', max=118441), Output()), _dom_classes=('widget-in…"
      ]
     },
     "metadata": {},
     "output_type": "display_data"
    }
   ],
   "source": [
    "from ipywidgets import interact\n",
    "\n",
    "\n",
    "@interact(i=(0, df.shape[0] - 1))\n",
    "def test_tr_print(i):\n",
    "    print(\n",
    "        f'Title:{df[\"Title\"][i]}\\n{\"*\"*30}\\nTitle_clean:{df[\"Title_clean\"][i]}\\n{\"*\"*30}\\nBody:{df[\"Body\"][i]}\\n{\"*\"*30}\\nBody_clean:{df[\"Body_clean\"][i]}\\n{\"*\"*30}\\nCode:{df[\"Code\"][i]}\\n{\"*\"*30}\\nTags:{df.loc[i,\"0\"]} {df.loc[i,\"1\"]} {df.loc[i,\"2\"]} {df.loc[i,\"3\"]} {df.loc[i,\"4\"]}'\n",
    "    )"
   ]
  },
  {
   "cell_type": "code",
   "execution_count": 7,
   "id": "93683c8c",
   "metadata": {
    "execution": {
     "iopub.execute_input": "2022-12-22T20:29:35.250395Z",
     "iopub.status.busy": "2022-12-22T20:29:35.249780Z",
     "iopub.status.idle": "2022-12-22T20:29:35.274962Z",
     "shell.execute_reply": "2022-12-22T20:29:35.274326Z"
    },
    "papermill": {
     "duration": 0.037947,
     "end_time": "2022-12-22T20:29:35.276535",
     "exception": false,
     "start_time": "2022-12-22T20:29:35.238588",
     "status": "completed"
    },
    "tags": []
   },
   "outputs": [
    {
     "data": {
      "text/plain": [
       "53"
      ]
     },
     "execution_count": 7,
     "metadata": {},
     "output_type": "execute_result"
    }
   ],
   "source": [
    "sum(df[\"Title_clean\"].isna())"
   ]
  },
  {
   "cell_type": "code",
   "execution_count": 8,
   "id": "6dd29214",
   "metadata": {
    "execution": {
     "iopub.execute_input": "2022-12-22T20:29:35.297592Z",
     "iopub.status.busy": "2022-12-22T20:29:35.297060Z",
     "iopub.status.idle": "2022-12-22T20:29:35.331935Z",
     "shell.execute_reply": "2022-12-22T20:29:35.331119Z"
    },
    "papermill": {
     "duration": 0.047769,
     "end_time": "2022-12-22T20:29:35.334144",
     "exception": false,
     "start_time": "2022-12-22T20:29:35.286375",
     "status": "completed"
    },
    "tags": []
   },
   "outputs": [
    {
     "data": {
      "text/html": [
       "<div>\n",
       "<style scoped>\n",
       "    .dataframe tbody tr th:only-of-type {\n",
       "        vertical-align: middle;\n",
       "    }\n",
       "\n",
       "    .dataframe tbody tr th {\n",
       "        vertical-align: top;\n",
       "    }\n",
       "\n",
       "    .dataframe thead th {\n",
       "        text-align: right;\n",
       "    }\n",
       "</style>\n",
       "<table border=\"1\" class=\"dataframe\">\n",
       "  <thead>\n",
       "    <tr style=\"text-align: right;\">\n",
       "      <th></th>\n",
       "      <th>Title</th>\n",
       "      <th>Title_clean</th>\n",
       "      <th>Body</th>\n",
       "      <th>Body_clean</th>\n",
       "      <th>0</th>\n",
       "      <th>1</th>\n",
       "      <th>2</th>\n",
       "      <th>3</th>\n",
       "      <th>4</th>\n",
       "    </tr>\n",
       "  </thead>\n",
       "  <tbody>\n",
       "    <tr>\n",
       "      <th>302</th>\n",
       "      <td>Is &lt; faster than &lt;=?</td>\n",
       "      <td>NaN</td>\n",
       "      <td>&lt;p&gt;Is &lt;code&gt;if (a &amp;lt; 901)&lt;/code&gt; faster than...</td>\n",
       "      <td>example performance change loop code suppose g...</td>\n",
       "      <td>c++</td>\n",
       "      <td>c</td>\n",
       "      <td>performance</td>\n",
       "      <td>assembly</td>\n",
       "      <td>relational-operators</td>\n",
       "    </tr>\n",
       "    <tr>\n",
       "      <th>393</th>\n",
       "      <td>What is setup.py?</td>\n",
       "      <td>NaN</td>\n",
       "      <td>&lt;p&gt;What is &lt;code&gt;setup.py&lt;/code&gt; and how can i...</td>\n",
       "      <td>configure</td>\n",
       "      <td>python</td>\n",
       "      <td>pypi</td>\n",
       "      <td>setup.py</td>\n",
       "      <td>python-packaging</td>\n",
       "      <td>NaN</td>\n",
       "    </tr>\n",
       "    <tr>\n",
       "      <th>1437</th>\n",
       "      <td>What is related_name used for?</td>\n",
       "      <td>NaN</td>\n",
       "      <td>&lt;p&gt;What is the &lt;code&gt;related_name&lt;/code&gt; argum...</td>\n",
       "      <td>argument manytomanyfield foreignkey field exam...</td>\n",
       "      <td>python</td>\n",
       "      <td>django</td>\n",
       "      <td>foreign-keys</td>\n",
       "      <td>many-to-many</td>\n",
       "      <td>NaN</td>\n",
       "    </tr>\n",
       "    <tr>\n",
       "      <th>4062</th>\n",
       "      <td>What is \"android:allowBackup\"?</td>\n",
       "      <td>NaN</td>\n",
       "      <td>&lt;p&gt;Since the &lt;a href=\"http://tools.android.com...</td>\n",
       "      <td>adt preview version version lint warning tell ...</td>\n",
       "      <td>android</td>\n",
       "      <td>adt</td>\n",
       "      <td>compiler-warnings</td>\n",
       "      <td>android-lint</td>\n",
       "      <td>android-backup-service</td>\n",
       "    </tr>\n",
       "    <tr>\n",
       "      <th>4870</th>\n",
       "      <td>Why is 0 &lt; -0x80000000?</td>\n",
       "      <td>NaN</td>\n",
       "      <td>&lt;p&gt;I have below a simple program:&lt;/p&gt;\\n\\n&lt;pre&gt;...</td>\n",
       "      <td>program condition if(bal int32_min work change...</td>\n",
       "      <td>c</td>\n",
       "      <td>signed</td>\n",
       "      <td>numeric-limits</td>\n",
       "      <td>numeric-conversion</td>\n",
       "      <td>NaN</td>\n",
       "    </tr>\n",
       "  </tbody>\n",
       "</table>\n",
       "</div>"
      ],
      "text/plain": [
       "                               Title Title_clean  \\\n",
       "302             Is < faster than <=?         NaN   \n",
       "393                What is setup.py?         NaN   \n",
       "1437  What is related_name used for?         NaN   \n",
       "4062  What is \"android:allowBackup\"?         NaN   \n",
       "4870         Why is 0 < -0x80000000?         NaN   \n",
       "\n",
       "                                                   Body  \\\n",
       "302   <p>Is <code>if (a &lt; 901)</code> faster than...   \n",
       "393   <p>What is <code>setup.py</code> and how can i...   \n",
       "1437  <p>What is the <code>related_name</code> argum...   \n",
       "4062  <p>Since the <a href=\"http://tools.android.com...   \n",
       "4870  <p>I have below a simple program:</p>\\n\\n<pre>...   \n",
       "\n",
       "                                             Body_clean        0       1  \\\n",
       "302   example performance change loop code suppose g...      c++       c   \n",
       "393                                           configure   python    pypi   \n",
       "1437  argument manytomanyfield foreignkey field exam...   python  django   \n",
       "4062  adt preview version version lint warning tell ...  android     adt   \n",
       "4870  program condition if(bal int32_min work change...        c  signed   \n",
       "\n",
       "                      2                   3                       4  \n",
       "302         performance            assembly    relational-operators  \n",
       "393            setup.py    python-packaging                     NaN  \n",
       "1437       foreign-keys        many-to-many                     NaN  \n",
       "4062  compiler-warnings        android-lint  android-backup-service  \n",
       "4870     numeric-limits  numeric-conversion                     NaN  "
      ]
     },
     "execution_count": 8,
     "metadata": {},
     "output_type": "execute_result"
    }
   ],
   "source": [
    "df[df[\"Title_clean\"].isna()][\n",
    "    [\"Title\", \"Title_clean\", \"Body\", \"Body_clean\", \"0\", \"1\", \"2\", \"3\", \"4\"]\n",
    "].head(5)"
   ]
  },
  {
   "cell_type": "code",
   "execution_count": 9,
   "id": "b3ef8f5e",
   "metadata": {
    "execution": {
     "iopub.execute_input": "2022-12-22T20:29:35.356570Z",
     "iopub.status.busy": "2022-12-22T20:29:35.355632Z",
     "iopub.status.idle": "2022-12-22T20:29:35.423225Z",
     "shell.execute_reply": "2022-12-22T20:29:35.422214Z"
    },
    "papermill": {
     "duration": 0.080353,
     "end_time": "2022-12-22T20:29:35.424970",
     "exception": false,
     "start_time": "2022-12-22T20:29:35.344617",
     "status": "completed"
    },
    "tags": []
   },
   "outputs": [
    {
     "name": "stdout",
     "output_type": "stream",
     "text": [
      "50\n"
     ]
    },
    {
     "data": {
      "text/html": [
       "<div>\n",
       "<style scoped>\n",
       "    .dataframe tbody tr th:only-of-type {\n",
       "        vertical-align: middle;\n",
       "    }\n",
       "\n",
       "    .dataframe tbody tr th {\n",
       "        vertical-align: top;\n",
       "    }\n",
       "\n",
       "    .dataframe thead th {\n",
       "        text-align: right;\n",
       "    }\n",
       "</style>\n",
       "<table border=\"1\" class=\"dataframe\">\n",
       "  <thead>\n",
       "    <tr style=\"text-align: right;\">\n",
       "      <th></th>\n",
       "      <th>Title</th>\n",
       "      <th>Title_clean</th>\n",
       "      <th>Body</th>\n",
       "      <th>Body_clean</th>\n",
       "      <th>Code</th>\n",
       "    </tr>\n",
       "  </thead>\n",
       "  <tbody>\n",
       "    <tr>\n",
       "      <th>5</th>\n",
       "      <td>What and where are the stack and heap?</td>\n",
       "      <td>stack heap</td>\n",
       "      <td>&lt;ul&gt;\\n&lt;li&gt;What are the stack and heap?&lt;/li&gt;\\n&lt;...</td>\n",
       "      <td>NaN</td>\n",
       "      <td>NaN</td>\n",
       "    </tr>\n",
       "    <tr>\n",
       "      <th>168</th>\n",
       "      <td>What is The Rule of Three?</td>\n",
       "      <td>rule</td>\n",
       "      <td>&lt;ul&gt;\\n&lt;li&gt;What does &lt;em&gt;copying an object&lt;/em&gt;...</td>\n",
       "      <td>NaN</td>\n",
       "      <td>NaN</td>\n",
       "    </tr>\n",
       "    <tr>\n",
       "      <th>828</th>\n",
       "      <td>Why are these constructs using pre and post-in...</td>\n",
       "      <td>construct pre behavior</td>\n",
       "      <td>&lt;pre&gt;&lt;code&gt;#include &amp;lt;stdio.h&amp;gt;\\n\\nint mai...</td>\n",
       "      <td>NaN</td>\n",
       "      <td>#include &lt;stdio.h&gt;\\n\\nint main(void)\\n{\\n   in...</td>\n",
       "    </tr>\n",
       "    <tr>\n",
       "      <th>1207</th>\n",
       "      <td>How to use ADB Shell when Multiple Devices are...</td>\n",
       "      <td>use adb shell multiple device connect fail err...</td>\n",
       "      <td>&lt;pre&gt;&lt;code&gt;$ adb --help\\n&lt;/code&gt;&lt;/pre&gt;\\n&lt;hr /&gt;...</td>\n",
       "      <td>NaN</td>\n",
       "      <td>$ adb --help\\n -s SERIAL  use device with give...</td>\n",
       "    </tr>\n",
       "    <tr>\n",
       "      <th>1640</th>\n",
       "      <td>What are the advantages of list initialization...</td>\n",
       "      <td>advantage list initialization brace</td>\n",
       "      <td>&lt;pre&gt;&lt;code&gt;MyClass a1 {a};     // clearer and ...</td>\n",
       "      <td>NaN</td>\n",
       "      <td>MyClass a1 {a};     // clearer and less error-...</td>\n",
       "    </tr>\n",
       "  </tbody>\n",
       "</table>\n",
       "</div>"
      ],
      "text/plain": [
       "                                                  Title  \\\n",
       "5                What and where are the stack and heap?   \n",
       "168                          What is The Rule of Three?   \n",
       "828   Why are these constructs using pre and post-in...   \n",
       "1207  How to use ADB Shell when Multiple Devices are...   \n",
       "1640  What are the advantages of list initialization...   \n",
       "\n",
       "                                            Title_clean  \\\n",
       "5                                            stack heap   \n",
       "168                                                rule   \n",
       "828                              construct pre behavior   \n",
       "1207  use adb shell multiple device connect fail err...   \n",
       "1640                advantage list initialization brace   \n",
       "\n",
       "                                                   Body Body_clean  \\\n",
       "5     <ul>\\n<li>What are the stack and heap?</li>\\n<...        NaN   \n",
       "168   <ul>\\n<li>What does <em>copying an object</em>...        NaN   \n",
       "828   <pre><code>#include &lt;stdio.h&gt;\\n\\nint mai...        NaN   \n",
       "1207  <pre><code>$ adb --help\\n</code></pre>\\n<hr />...        NaN   \n",
       "1640  <pre><code>MyClass a1 {a};     // clearer and ...        NaN   \n",
       "\n",
       "                                                   Code  \n",
       "5                                                   NaN  \n",
       "168                                                 NaN  \n",
       "828   #include <stdio.h>\\n\\nint main(void)\\n{\\n   in...  \n",
       "1207  $ adb --help\\n -s SERIAL  use device with give...  \n",
       "1640  MyClass a1 {a};     // clearer and less error-...  "
      ]
     },
     "execution_count": 9,
     "metadata": {},
     "output_type": "execute_result"
    }
   ],
   "source": [
    "print(sum(df[\"Body_clean\"].isna()))\n",
    "df[df[\"Body_clean\"].isna()][\n",
    "    [\"Title\", \"Title_clean\", \"Body\", \"Body_clean\", \"Code\"]\n",
    "].head(5)"
   ]
  },
  {
   "cell_type": "code",
   "execution_count": 10,
   "id": "f38f26eb",
   "metadata": {
    "execution": {
     "iopub.execute_input": "2022-12-22T20:29:35.447481Z",
     "iopub.status.busy": "2022-12-22T20:29:35.446637Z",
     "iopub.status.idle": "2022-12-22T20:29:35.482670Z",
     "shell.execute_reply": "2022-12-22T20:29:35.481662Z"
    },
    "papermill": {
     "duration": 0.04946,
     "end_time": "2022-12-22T20:29:35.484705",
     "exception": false,
     "start_time": "2022-12-22T20:29:35.435245",
     "status": "completed"
    },
    "tags": []
   },
   "outputs": [
    {
     "data": {
      "text/plain": [
       "0"
      ]
     },
     "execution_count": 10,
     "metadata": {},
     "output_type": "execute_result"
    }
   ],
   "source": [
    "len(df[df[\"Body_clean\"].isna() & df[\"Title_clean\"].isna()])"
   ]
  },
  {
   "cell_type": "code",
   "execution_count": 11,
   "id": "7a2dc09d",
   "metadata": {
    "execution": {
     "iopub.execute_input": "2022-12-22T20:29:35.507586Z",
     "iopub.status.busy": "2022-12-22T20:29:35.507248Z",
     "iopub.status.idle": "2022-12-22T20:29:35.609362Z",
     "shell.execute_reply": "2022-12-22T20:29:35.608564Z"
    },
    "papermill": {
     "duration": 0.115798,
     "end_time": "2022-12-22T20:29:35.611203",
     "exception": false,
     "start_time": "2022-12-22T20:29:35.495405",
     "status": "completed"
    },
    "tags": []
   },
   "outputs": [
    {
     "data": {
      "text/plain": [
       "103"
      ]
     },
     "execution_count": 11,
     "metadata": {},
     "output_type": "execute_result"
    }
   ],
   "source": [
    "sum((df[\"Title_clean\"] + df[\"Body_clean\"]).isna())"
   ]
  },
  {
   "cell_type": "code",
   "execution_count": 12,
   "id": "b198fddc",
   "metadata": {
    "execution": {
     "iopub.execute_input": "2022-12-22T20:29:35.633278Z",
     "iopub.status.busy": "2022-12-22T20:29:35.632965Z",
     "iopub.status.idle": "2022-12-22T20:29:35.698088Z",
     "shell.execute_reply": "2022-12-22T20:29:35.697226Z"
    },
    "papermill": {
     "duration": 0.078061,
     "end_time": "2022-12-22T20:29:35.699740",
     "exception": false,
     "start_time": "2022-12-22T20:29:35.621679",
     "status": "completed"
    },
    "tags": []
   },
   "outputs": [
    {
     "data": {
      "text/html": [
       "<div>\n",
       "<style scoped>\n",
       "    .dataframe tbody tr th:only-of-type {\n",
       "        vertical-align: middle;\n",
       "    }\n",
       "\n",
       "    .dataframe tbody tr th {\n",
       "        vertical-align: top;\n",
       "    }\n",
       "\n",
       "    .dataframe thead th {\n",
       "        text-align: right;\n",
       "    }\n",
       "</style>\n",
       "<table border=\"1\" class=\"dataframe\">\n",
       "  <thead>\n",
       "    <tr style=\"text-align: right;\">\n",
       "      <th></th>\n",
       "      <th>javascript</th>\n",
       "      <th>java</th>\n",
       "      <th>c#</th>\n",
       "      <th>python</th>\n",
       "      <th>html</th>\n",
       "      <th>git</th>\n",
       "      <th>php</th>\n",
       "    </tr>\n",
       "  </thead>\n",
       "  <tbody>\n",
       "    <tr>\n",
       "      <th>10001</th>\n",
       "      <td>True</td>\n",
       "      <td>False</td>\n",
       "      <td>False</td>\n",
       "      <td>False</td>\n",
       "      <td>True</td>\n",
       "      <td>False</td>\n",
       "      <td>False</td>\n",
       "    </tr>\n",
       "    <tr>\n",
       "      <th>10002</th>\n",
       "      <td>False</td>\n",
       "      <td>True</td>\n",
       "      <td>False</td>\n",
       "      <td>False</td>\n",
       "      <td>False</td>\n",
       "      <td>False</td>\n",
       "      <td>False</td>\n",
       "    </tr>\n",
       "    <tr>\n",
       "      <th>10003</th>\n",
       "      <td>False</td>\n",
       "      <td>False</td>\n",
       "      <td>True</td>\n",
       "      <td>False</td>\n",
       "      <td>False</td>\n",
       "      <td>False</td>\n",
       "      <td>False</td>\n",
       "    </tr>\n",
       "    <tr>\n",
       "      <th>10004</th>\n",
       "      <td>False</td>\n",
       "      <td>False</td>\n",
       "      <td>False</td>\n",
       "      <td>False</td>\n",
       "      <td>True</td>\n",
       "      <td>False</td>\n",
       "      <td>False</td>\n",
       "    </tr>\n",
       "    <tr>\n",
       "      <th>10005</th>\n",
       "      <td>False</td>\n",
       "      <td>False</td>\n",
       "      <td>False</td>\n",
       "      <td>False</td>\n",
       "      <td>False</td>\n",
       "      <td>False</td>\n",
       "      <td>False</td>\n",
       "    </tr>\n",
       "    <tr>\n",
       "      <th>...</th>\n",
       "      <td>...</td>\n",
       "      <td>...</td>\n",
       "      <td>...</td>\n",
       "      <td>...</td>\n",
       "      <td>...</td>\n",
       "      <td>...</td>\n",
       "      <td>...</td>\n",
       "    </tr>\n",
       "    <tr>\n",
       "      <th>15045</th>\n",
       "      <td>False</td>\n",
       "      <td>False</td>\n",
       "      <td>False</td>\n",
       "      <td>False</td>\n",
       "      <td>False</td>\n",
       "      <td>False</td>\n",
       "      <td>False</td>\n",
       "    </tr>\n",
       "    <tr>\n",
       "      <th>15046</th>\n",
       "      <td>False</td>\n",
       "      <td>False</td>\n",
       "      <td>False</td>\n",
       "      <td>False</td>\n",
       "      <td>False</td>\n",
       "      <td>False</td>\n",
       "      <td>False</td>\n",
       "    </tr>\n",
       "    <tr>\n",
       "      <th>15047</th>\n",
       "      <td>True</td>\n",
       "      <td>False</td>\n",
       "      <td>False</td>\n",
       "      <td>False</td>\n",
       "      <td>False</td>\n",
       "      <td>False</td>\n",
       "      <td>False</td>\n",
       "    </tr>\n",
       "    <tr>\n",
       "      <th>15048</th>\n",
       "      <td>False</td>\n",
       "      <td>False</td>\n",
       "      <td>False</td>\n",
       "      <td>False</td>\n",
       "      <td>False</td>\n",
       "      <td>False</td>\n",
       "      <td>False</td>\n",
       "    </tr>\n",
       "    <tr>\n",
       "      <th>15049</th>\n",
       "      <td>False</td>\n",
       "      <td>False</td>\n",
       "      <td>False</td>\n",
       "      <td>False</td>\n",
       "      <td>False</td>\n",
       "      <td>False</td>\n",
       "      <td>False</td>\n",
       "    </tr>\n",
       "  </tbody>\n",
       "</table>\n",
       "<p>5049 rows × 7 columns</p>\n",
       "</div>"
      ],
      "text/plain": [
       "       javascript   java     c#  python   html    git    php\n",
       "10001        True  False  False   False   True  False  False\n",
       "10002       False   True  False   False  False  False  False\n",
       "10003       False  False   True   False  False  False  False\n",
       "10004       False  False  False   False   True  False  False\n",
       "10005       False  False  False   False  False  False  False\n",
       "...           ...    ...    ...     ...    ...    ...    ...\n",
       "15045       False  False  False   False  False  False  False\n",
       "15046       False  False  False   False  False  False  False\n",
       "15047        True  False  False   False  False  False  False\n",
       "15048       False  False  False   False  False  False  False\n",
       "15049       False  False  False   False  False  False  False\n",
       "\n",
       "[5049 rows x 7 columns]"
      ]
     },
     "execution_count": 12,
     "metadata": {},
     "output_type": "execute_result"
    }
   ],
   "source": [
    "def tag_is_in(df: pd.DataFrame(), tag: str, nb_cols: int = 6):\n",
    "    return eval(\"|\".join(f'(df[\"{i}\"] == \"{tag}\")' for i in range(0, nb_cols)))\n",
    "\n",
    "\n",
    "def tags_are_in(df: pd.DataFrame(), tags: list):\n",
    "    return pd.DataFrame({tag: tag_is_in(df, tag) for tag in tags})\n",
    "\n",
    "\n",
    "# tags_are_in(df, [\"javascript\",\"java\"])\n",
    "tags_are_in(\n",
    "    df[10001:15050], [\"javascript\", \"java\", \"c#\", \"python\", \"html\", \"git\", \"php\"]\n",
    ")"
   ]
  },
  {
   "cell_type": "code",
   "execution_count": 13,
   "id": "5d62825e",
   "metadata": {
    "execution": {
     "iopub.execute_input": "2022-12-22T20:29:35.722737Z",
     "iopub.status.busy": "2022-12-22T20:29:35.722405Z",
     "iopub.status.idle": "2022-12-22T20:29:35.873670Z",
     "shell.execute_reply": "2022-12-22T20:29:35.872841Z"
    },
    "papermill": {
     "duration": 0.164954,
     "end_time": "2022-12-22T20:29:35.875582",
     "exception": false,
     "start_time": "2022-12-22T20:29:35.710628",
     "status": "completed"
    },
    "tags": []
   },
   "outputs": [
    {
     "data": {
      "text/plain": [
       "['java',\n",
       " 'c#',\n",
       " 'javascript',\n",
       " 'python',\n",
       " 'android',\n",
       " 'c++',\n",
       " 'ios',\n",
       " 'html',\n",
       " 'php',\n",
       " '.net',\n",
       " 'jquery',\n",
       " 'css',\n",
       " 'objective-c',\n",
       " 'c',\n",
       " 'sql',\n",
       " 'iphone',\n",
       " 'asp.net',\n",
       " 'mysql',\n",
       " 'linux',\n",
       " 'node.js',\n",
       " 'git']"
      ]
     },
     "execution_count": 13,
     "metadata": {},
     "output_type": "execute_result"
    }
   ],
   "source": [
    "tags = df[[\"0\", \"1\", \"2\", \"3\", \"4\", \"5\"]].stack()\n",
    "target_names = [\n",
    "    tag\n",
    "    for tag, freq in tags.reset_index(drop=True).value_counts(normalize=True).items()\n",
    "    if freq > 0.002\n",
    "]\n",
    "if not LONG:\n",
    "    target_names = target_names[0:20] + [\"git\"]\n",
    "target_names"
   ]
  },
  {
   "cell_type": "markdown",
   "id": "b1fd1bbe",
   "metadata": {
    "papermill": {
     "duration": 0.010413,
     "end_time": "2022-12-22T20:29:35.896920",
     "exception": false,
     "start_time": "2022-12-22T20:29:35.886507",
     "status": "completed"
    },
    "tags": []
   },
   "source": [
    "# CountVectorizer"
   ]
  },
  {
   "cell_type": "code",
   "execution_count": 14,
   "id": "e9ecd6c6",
   "metadata": {
    "execution": {
     "iopub.execute_input": "2022-12-22T20:29:35.919679Z",
     "iopub.status.busy": "2022-12-22T20:29:35.919343Z",
     "iopub.status.idle": "2022-12-22T20:29:37.199860Z",
     "shell.execute_reply": "2022-12-22T20:29:37.199249Z"
    },
    "papermill": {
     "duration": 1.294356,
     "end_time": "2022-12-22T20:29:37.201816",
     "exception": false,
     "start_time": "2022-12-22T20:29:35.907460",
     "status": "completed"
    },
    "tags": []
   },
   "outputs": [
    {
     "name": "stdout",
     "output_type": "stream",
     "text": [
      "99.99409% des questions ont plus d'un tokens\n"
     ]
    }
   ],
   "source": [
    "df[\"Token\"] = df[\"Title_clean\"].fillna(\"\") + df[\"Body_clean\"].fillna(\"\")\n",
    "print(\n",
    "    f\"{len(df[[len(token.split()) > 1 for token in df['Token']]])/len(df):.5%} des questions ont plus d'un tokens\"\n",
    "    if len(df[df[\"Token\"] == \"\"]) == 0\n",
    "    else f\"{len(df[df['Token'] == ''])} questions n'ont pas de token\"\n",
    ")\n",
    "X_train, X_test, y_train, y_test = model_selection.train_test_split(\n",
    "    df[\"Token\"], tags_are_in(df, target_names), random_state=42\n",
    ")"
   ]
  },
  {
   "cell_type": "code",
   "execution_count": 15,
   "id": "7143d688",
   "metadata": {
    "execution": {
     "iopub.execute_input": "2022-12-22T20:29:37.224787Z",
     "iopub.status.busy": "2022-12-22T20:29:37.223862Z",
     "iopub.status.idle": "2022-12-22T20:29:37.286569Z",
     "shell.execute_reply": "2022-12-22T20:29:37.285334Z"
    },
    "papermill": {
     "duration": 0.076013,
     "end_time": "2022-12-22T20:29:37.288564",
     "exception": false,
     "start_time": "2022-12-22T20:29:37.212551",
     "status": "completed"
    },
    "tags": []
   },
   "outputs": [
    {
     "name": "stdout",
     "output_type": "stream",
     "text": [
      "\u001b[1mjava\u001b[0m\n",
      "\t Sur entrainement \u001b[92m12.05%\u001b[0m positif \u001b[91m87.95%\u001b[0m negatif\n",
      "\t Sur test \u001b[92m12.02%\u001b[0m positif \u001b[91m87.98%\u001b[0m negatif\n",
      "\n",
      "\n",
      "\u001b[1mc#\u001b[0m\n",
      "\t Sur entrainement \u001b[92m11.80%\u001b[0m positif \u001b[91m88.20%\u001b[0m negatif\n",
      "\t Sur test \u001b[92m11.73%\u001b[0m positif \u001b[91m88.27%\u001b[0m negatif\n",
      "\n",
      "\n",
      "\u001b[1mjavascript\u001b[0m\n",
      "\t Sur entrainement \u001b[92m11.77%\u001b[0m positif \u001b[91m88.23%\u001b[0m negatif\n",
      "\t Sur test \u001b[92m11.33%\u001b[0m positif \u001b[91m88.67%\u001b[0m negatif\n",
      "\n",
      "\n",
      "\u001b[1mpython\u001b[0m\n",
      "\t Sur entrainement \u001b[92m8.61%\u001b[0m positif \u001b[91m91.39%\u001b[0m negatif\n",
      "\t Sur test \u001b[92m8.82%\u001b[0m positif \u001b[91m91.18%\u001b[0m negatif\n",
      "\n",
      "\n",
      "\u001b[1mandroid\u001b[0m\n",
      "\t Sur entrainement \u001b[92m7.00%\u001b[0m positif \u001b[91m93.00%\u001b[0m negatif\n",
      "\t Sur test \u001b[92m6.91%\u001b[0m positif \u001b[91m93.09%\u001b[0m negatif\n",
      "\n",
      "\n",
      "\u001b[1mc++\u001b[0m\n",
      "\t Sur entrainement \u001b[92m6.63%\u001b[0m positif \u001b[91m93.37%\u001b[0m negatif\n",
      "\t Sur test \u001b[92m6.63%\u001b[0m positif \u001b[91m93.37%\u001b[0m negatif\n",
      "\n",
      "\n",
      "\u001b[1mios\u001b[0m\n",
      "\t Sur entrainement \u001b[92m6.25%\u001b[0m positif \u001b[91m93.75%\u001b[0m negatif\n",
      "\t Sur test \u001b[92m6.21%\u001b[0m positif \u001b[91m93.79%\u001b[0m negatif\n",
      "\n",
      "\n",
      "\u001b[1mhtml\u001b[0m\n",
      "\t Sur entrainement \u001b[92m5.85%\u001b[0m positif \u001b[91m94.15%\u001b[0m negatif\n",
      "\t Sur test \u001b[92m5.93%\u001b[0m positif \u001b[91m94.07%\u001b[0m negatif\n",
      "\n",
      "\n",
      "\u001b[1mphp\u001b[0m\n",
      "\t Sur entrainement \u001b[92m5.56%\u001b[0m positif \u001b[91m94.44%\u001b[0m negatif\n",
      "\t Sur test \u001b[92m5.49%\u001b[0m positif \u001b[91m94.51%\u001b[0m negatif\n",
      "\n",
      "\n",
      "\u001b[1m.net\u001b[0m\n",
      "\t Sur entrainement \u001b[92m5.34%\u001b[0m positif \u001b[91m94.66%\u001b[0m negatif\n",
      "\t Sur test \u001b[92m5.30%\u001b[0m positif \u001b[91m94.70%\u001b[0m negatif\n",
      "\n",
      "\n",
      "\u001b[1mjquery\u001b[0m\n",
      "\t Sur entrainement \u001b[92m5.36%\u001b[0m positif \u001b[91m94.64%\u001b[0m negatif\n",
      "\t Sur test \u001b[92m5.19%\u001b[0m positif \u001b[91m94.81%\u001b[0m negatif\n",
      "\n",
      "\n",
      "\u001b[1mcss\u001b[0m\n",
      "\t Sur entrainement \u001b[92m3.77%\u001b[0m positif \u001b[91m96.23%\u001b[0m negatif\n",
      "\t Sur test \u001b[92m3.82%\u001b[0m positif \u001b[91m96.18%\u001b[0m negatif\n",
      "\n",
      "\n",
      "\u001b[1mobjective-c\u001b[0m\n",
      "\t Sur entrainement \u001b[92m3.08%\u001b[0m positif \u001b[91m96.92%\u001b[0m negatif\n",
      "\t Sur test \u001b[92m3.00%\u001b[0m positif \u001b[91m97.00%\u001b[0m negatif\n",
      "\n",
      "\n",
      "\u001b[1mc\u001b[0m\n",
      "\t Sur entrainement \u001b[92m3.08%\u001b[0m positif \u001b[91m96.92%\u001b[0m negatif\n",
      "\t Sur test \u001b[92m2.99%\u001b[0m positif \u001b[91m97.01%\u001b[0m negatif\n",
      "\n",
      "\n",
      "\u001b[1msql\u001b[0m\n",
      "\t Sur entrainement \u001b[92m3.00%\u001b[0m positif \u001b[91m97.00%\u001b[0m negatif\n",
      "\t Sur test \u001b[92m2.94%\u001b[0m positif \u001b[91m97.06%\u001b[0m negatif\n",
      "\n",
      "\n",
      "\u001b[1miphone\u001b[0m\n",
      "\t Sur entrainement \u001b[92m2.79%\u001b[0m positif \u001b[91m97.21%\u001b[0m negatif\n",
      "\t Sur test \u001b[92m2.73%\u001b[0m positif \u001b[91m97.27%\u001b[0m negatif\n",
      "\n",
      "\n",
      "\u001b[1masp.net\u001b[0m\n",
      "\t Sur entrainement \u001b[92m2.73%\u001b[0m positif \u001b[91m97.27%\u001b[0m negatif\n",
      "\t Sur test \u001b[92m2.72%\u001b[0m positif \u001b[91m97.28%\u001b[0m negatif\n",
      "\n",
      "\n",
      "\u001b[1mmysql\u001b[0m\n",
      "\t Sur entrainement \u001b[92m2.37%\u001b[0m positif \u001b[91m97.63%\u001b[0m negatif\n",
      "\t Sur test \u001b[92m2.31%\u001b[0m positif \u001b[91m97.69%\u001b[0m negatif\n",
      "\n",
      "\n",
      "\u001b[1mlinux\u001b[0m\n",
      "\t Sur entrainement \u001b[92m2.34%\u001b[0m positif \u001b[91m97.66%\u001b[0m negatif\n",
      "\t Sur test \u001b[92m2.30%\u001b[0m positif \u001b[91m97.70%\u001b[0m negatif\n",
      "\n",
      "\n",
      "\u001b[1mnode.js\u001b[0m\n",
      "\t Sur entrainement \u001b[92m2.29%\u001b[0m positif \u001b[91m97.71%\u001b[0m negatif\n",
      "\t Sur test \u001b[92m2.30%\u001b[0m positif \u001b[91m97.70%\u001b[0m negatif\n",
      "\n",
      "\n",
      "\u001b[1mgit\u001b[0m\n",
      "\t Sur entrainement \u001b[92m0.95%\u001b[0m positif \u001b[91m99.05%\u001b[0m negatif\n",
      "\t Sur test \u001b[92m0.93%\u001b[0m positif \u001b[91m99.07%\u001b[0m negatif\n",
      "\n",
      "\n"
     ]
    }
   ],
   "source": [
    "for column in y_train.columns:\n",
    "    t_train = y_train[column].value_counts(normalize=True)\n",
    "    t_test = y_test[column].value_counts(normalize=True)\n",
    "    print(f\"{colors.BOLD}{column}{colors.ENDC}\")\n",
    "    print(\n",
    "        f\"\\t Sur entrainement {colors.GREEN}{t_train[True]:.2%}{colors.ENDC} positif {colors.RED}{t_train[False]:.2%}{colors.ENDC} negatif\"\n",
    "    )\n",
    "    print(\n",
    "        f\"\\t Sur test {colors.GREEN}{t_test[True]:.2%}{colors.ENDC} positif {colors.RED}{t_test[False]:.2%}{colors.ENDC} negatif\"\n",
    "    )\n",
    "    print(\"\\n\")"
   ]
  },
  {
   "cell_type": "code",
   "execution_count": 16,
   "id": "2d714fea",
   "metadata": {
    "execution": {
     "iopub.execute_input": "2022-12-22T20:29:37.312134Z",
     "iopub.status.busy": "2022-12-22T20:29:37.311766Z",
     "iopub.status.idle": "2022-12-22T20:29:41.263211Z",
     "shell.execute_reply": "2022-12-22T20:29:41.262249Z"
    },
    "papermill": {
     "duration": 3.965511,
     "end_time": "2022-12-22T20:29:41.265315",
     "exception": false,
     "start_time": "2022-12-22T20:29:37.299804",
     "status": "completed"
    },
    "tags": []
   },
   "outputs": [
    {
     "name": "stdout",
     "output_type": "stream",
     "text": [
      "\n",
      "******************************\n",
      " pour min_df:1e-05; max_df:0.995\n",
      "\ttokens unique:\n",
      "\t\t53999 dans title et body regroupé\n"
     ]
    }
   ],
   "source": [
    "best_min_df = 0.00001\n",
    "best_max_df = 0.995\n",
    "for min_df in [0.01, 0.05, 0.005, 0.0005, 0.00001] if LONG else [best_min_df]:\n",
    "    for max_df in [0.95, 0.995, 0.9995] if LONG else [best_max_df]:\n",
    "        print(f\"\\n{'*'*30}\\n pour min_df:{min_df}; max_df:{max_df}\")\n",
    "        count_vectorizer = feature_extraction.text.CountVectorizer(\n",
    "            min_df=min_df, max_df=max_df, max_features=None\n",
    "        )\n",
    "        #         pipe = pipeline.make_pipeline(feature_extraction.text.CountVectorizer(min_df=min_df, max_df=max_df, max_features=None), feature_extraction.text.TfidfTransformer( norm=\"l2\", use_idf=True, smooth_idf=True, sublinear_tf=False))\n",
    "        #         feat_train = pipe.transform(X_train[\"Token\"])\n",
    "        #         print(feat_train.shape)\n",
    "\n",
    "        token_vectors = count_vectorizer.fit_transform(df[\"Token\"])\n",
    "        print(\n",
    "            f\"\\ttokens unique:\\n\\t\\t{token_vectors.shape[1]} dans title et body regroupé\"\n",
    "        )"
   ]
  },
  {
   "cell_type": "code",
   "execution_count": 17,
   "id": "1468353f",
   "metadata": {
    "execution": {
     "iopub.execute_input": "2022-12-22T20:29:41.289993Z",
     "iopub.status.busy": "2022-12-22T20:29:41.289629Z",
     "iopub.status.idle": "2022-12-22T20:29:41.333003Z",
     "shell.execute_reply": "2022-12-22T20:29:41.331815Z"
    },
    "papermill": {
     "duration": 0.058261,
     "end_time": "2022-12-22T20:29:41.334992",
     "exception": false,
     "start_time": "2022-12-22T20:29:41.276731",
     "status": "completed"
    },
    "tags": []
   },
   "outputs": [
    {
     "name": "stdout",
     "output_type": "stream",
     "text": [
      "CPU times: user 2 µs, sys: 0 ns, total: 2 µs\n",
      "Wall time: 5.72 µs\n"
     ]
    }
   ],
   "source": [
    "%%time\n",
    "if LONG:\n",
    "    truncSvd = decomposition.TruncatedSVD(n_components=1000).fit(\n",
    "        preprocessing.StandardScaler(with_mean=False).fit_transform(token_vectors)\n",
    "    )\n",
    "    plt.figure(figsize=(30, 15))\n",
    "    scree = truncSvd.explained_variance_ratio_ * 100\n",
    "    plt.bar(np.arange(len(scree)) + 1, scree)\n",
    "    plt.plot(np.arange(len(scree)) + 1, scree.cumsum(), c=\"red\", marker=\"o\")\n",
    "    plt.xlabel(\"rang de l'axe d'inertie\")\n",
    "    plt.ylabel(\"pourcentage variance expliquée\")\n",
    "    plt.title(\"Eboulis des valeurs propres\")\n",
    "    plt.show()"
   ]
  },
  {
   "cell_type": "markdown",
   "id": "ad8326af",
   "metadata": {
    "papermill": {
     "duration": 0.011067,
     "end_time": "2022-12-22T20:29:41.357612",
     "exception": false,
     "start_time": "2022-12-22T20:29:41.346545",
     "status": "completed"
    },
    "tags": []
   },
   "source": [
    "# PreprocessPipeline"
   ]
  },
  {
   "cell_type": "code",
   "execution_count": 18,
   "id": "5c9bb040",
   "metadata": {
    "execution": {
     "iopub.execute_input": "2022-12-22T20:29:41.381955Z",
     "iopub.status.busy": "2022-12-22T20:29:41.381627Z",
     "iopub.status.idle": "2022-12-22T20:29:41.420390Z",
     "shell.execute_reply": "2022-12-22T20:29:41.419575Z"
    },
    "papermill": {
     "duration": 0.053588,
     "end_time": "2022-12-22T20:29:41.422672",
     "exception": false,
     "start_time": "2022-12-22T20:29:41.369084",
     "status": "completed"
    },
    "tags": []
   },
   "outputs": [],
   "source": [
    "pipeline_tfidf = pipeline.Pipeline(\n",
    "    [\n",
    "        (\n",
    "            \"count\",\n",
    "            feature_extraction.text.CountVectorizer(\n",
    "                min_df=best_min_df, max_df=best_max_df, max_features=None\n",
    "            ),\n",
    "        ),\n",
    "        (\n",
    "            \"tfidf\",\n",
    "            feature_extraction.text.TfidfTransformer(\n",
    "                norm=\"l2\", use_idf=True, smooth_idf=True, sublinear_tf=False\n",
    "            ),\n",
    "        ),\n",
    "        (\"scale\", preprocessing.StandardScaler(with_mean=False)),\n",
    "        (\n",
    "            \"dimReduction\",\n",
    "            decomposition.TruncatedSVD(n_components=1_000),\n",
    "        ),  # 1_000 = 10% de la variance\n",
    "    ]\n",
    ")\n",
    "## @TODO cache\n",
    "# memory = joblib.Memory(location=\"/kaggle/working/cache_dir\", verbose=0)\n",
    "# pipeline_tfidf = memory.cache(pipeline_tfidf)"
   ]
  },
  {
   "cell_type": "markdown",
   "id": "989ddde2",
   "metadata": {
    "papermill": {
     "duration": 0.010952,
     "end_time": "2022-12-22T20:29:41.445005",
     "exception": false,
     "start_time": "2022-12-22T20:29:41.434053",
     "status": "completed"
    },
    "tags": []
   },
   "source": [
    "# OvsRest"
   ]
  },
  {
   "cell_type": "code",
   "execution_count": 19,
   "id": "410eddd8",
   "metadata": {
    "execution": {
     "iopub.execute_input": "2022-12-22T20:29:41.469221Z",
     "iopub.status.busy": "2022-12-22T20:29:41.468891Z",
     "iopub.status.idle": "2022-12-22T20:29:41.491427Z",
     "shell.execute_reply": "2022-12-22T20:29:41.490644Z"
    },
    "papermill": {
     "duration": 0.037216,
     "end_time": "2022-12-22T20:29:41.493434",
     "exception": false,
     "start_time": "2022-12-22T20:29:41.456218",
     "status": "completed"
    },
    "tags": []
   },
   "outputs": [],
   "source": [
    "def save_score(y_true, y_pred, target_names, name) -> pd.DataFrame():\n",
    "    scores = pd.DataFrame(\n",
    "        metrics.classification_report(\n",
    "            y_true, y_pred, target_names=target_names, zero_division=0, output_dict=True\n",
    "        )\n",
    "    ).T\n",
    "    scores.to_csv(f\"/kaggle/working/{name}_score.csv\")\n",
    "    return scores"
   ]
  },
  {
   "cell_type": "markdown",
   "id": "ad6994b4",
   "metadata": {
    "papermill": {
     "duration": 0.010867,
     "end_time": "2022-12-22T20:29:41.515785",
     "exception": false,
     "start_time": "2022-12-22T20:29:41.504918",
     "status": "completed"
    },
    "tags": []
   },
   "source": [
    "## LogisticRegression"
   ]
  },
  {
   "cell_type": "code",
   "execution_count": 20,
   "id": "d936614f",
   "metadata": {
    "execution": {
     "iopub.execute_input": "2022-12-22T20:29:41.539360Z",
     "iopub.status.busy": "2022-12-22T20:29:41.539087Z",
     "iopub.status.idle": "2022-12-22T20:29:41.546629Z",
     "shell.execute_reply": "2022-12-22T20:29:41.545572Z"
    },
    "papermill": {
     "duration": 0.021566,
     "end_time": "2022-12-22T20:29:41.548488",
     "exception": false,
     "start_time": "2022-12-22T20:29:41.526922",
     "status": "completed"
    },
    "tags": []
   },
   "outputs": [
    {
     "name": "stdout",
     "output_type": "stream",
     "text": [
      "CPU times: user 2 µs, sys: 0 ns, total: 2 µs\n",
      "Wall time: 4.53 µs\n"
     ]
    }
   ],
   "source": [
    "%%time\n",
    "# with ignore_warnings(category=exceptions.ConvergenceWarning):\n",
    "#     clf_lr = multiclass.OneVsRestClassifier(\n",
    "#         linear_model.LogisticRegression(random_state=42)\n",
    "#     ).fit(X_train, y_train)"
   ]
  },
  {
   "cell_type": "code",
   "execution_count": 21,
   "id": "0aafbbcb",
   "metadata": {
    "execution": {
     "iopub.execute_input": "2022-12-22T20:29:41.573778Z",
     "iopub.status.busy": "2022-12-22T20:29:41.572697Z",
     "iopub.status.idle": "2022-12-22T20:29:41.593574Z",
     "shell.execute_reply": "2022-12-22T20:29:41.592842Z"
    },
    "papermill": {
     "duration": 0.035768,
     "end_time": "2022-12-22T20:29:41.595775",
     "exception": false,
     "start_time": "2022-12-22T20:29:41.560007",
     "status": "completed"
    },
    "tags": []
   },
   "outputs": [],
   "source": [
    "pipeline_logisticReg = pipeline.Pipeline(\n",
    "    [\n",
    "        (\"tfidf\", pipeline_tfidf),\n",
    "        (\n",
    "            \"OvRLogisticReg\",\n",
    "            multiclass.OneVsRestClassifier(\n",
    "                linear_model.LogisticRegression(random_state=42)\n",
    "            ),\n",
    "        ),\n",
    "    ]\n",
    ")"
   ]
  },
  {
   "cell_type": "code",
   "execution_count": 22,
   "id": "3cb2c815",
   "metadata": {
    "execution": {
     "iopub.execute_input": "2022-12-22T20:29:41.621442Z",
     "iopub.status.busy": "2022-12-22T20:29:41.620424Z",
     "iopub.status.idle": "2022-12-22T20:33:16.507302Z",
     "shell.execute_reply": "2022-12-22T20:33:16.499366Z"
    },
    "papermill": {
     "duration": 214.911215,
     "end_time": "2022-12-22T20:33:16.518604",
     "exception": false,
     "start_time": "2022-12-22T20:29:41.607389",
     "status": "completed"
    },
    "tags": []
   },
   "outputs": [
    {
     "name": "stdout",
     "output_type": "stream",
     "text": [
      "CPU times: user 10min 31s, sys: 1min 26s, total: 11min 58s\n",
      "Wall time: 3min 34s\n"
     ]
    }
   ],
   "source": [
    "%%time\n",
    "with ignore_warnings(category=exceptions.ConvergenceWarning):\n",
    "    pipeline_logisticReg.fit(X_train, y_train)"
   ]
  },
  {
   "cell_type": "code",
   "execution_count": 23,
   "id": "f323e72e",
   "metadata": {
    "execution": {
     "iopub.execute_input": "2022-12-22T20:33:16.551079Z",
     "iopub.status.busy": "2022-12-22T20:33:16.550227Z",
     "iopub.status.idle": "2022-12-22T20:33:18.701619Z",
     "shell.execute_reply": "2022-12-22T20:33:18.700790Z"
    },
    "papermill": {
     "duration": 2.170855,
     "end_time": "2022-12-22T20:33:18.704220",
     "exception": false,
     "start_time": "2022-12-22T20:33:16.533365",
     "status": "completed"
    },
    "tags": []
   },
   "outputs": [],
   "source": [
    "pred_lr = pipeline_logisticReg.predict(X_test)"
   ]
  },
  {
   "cell_type": "code",
   "execution_count": 24,
   "id": "2e378438",
   "metadata": {
    "execution": {
     "iopub.execute_input": "2022-12-22T20:33:18.737060Z",
     "iopub.status.busy": "2022-12-22T20:33:18.736619Z",
     "iopub.status.idle": "2022-12-22T20:33:21.460291Z",
     "shell.execute_reply": "2022-12-22T20:33:21.459279Z"
    },
    "papermill": {
     "duration": 2.74218,
     "end_time": "2022-12-22T20:33:21.462106",
     "exception": false,
     "start_time": "2022-12-22T20:33:18.719926",
     "status": "completed"
    },
    "tags": []
   },
   "outputs": [
    {
     "data": {
      "text/html": [
       "<div>\n",
       "<style scoped>\n",
       "    .dataframe tbody tr th:only-of-type {\n",
       "        vertical-align: middle;\n",
       "    }\n",
       "\n",
       "    .dataframe tbody tr th {\n",
       "        vertical-align: top;\n",
       "    }\n",
       "\n",
       "    .dataframe thead th {\n",
       "        text-align: right;\n",
       "    }\n",
       "</style>\n",
       "<table border=\"1\" class=\"dataframe\">\n",
       "  <thead>\n",
       "    <tr style=\"text-align: right;\">\n",
       "      <th></th>\n",
       "      <th>precision</th>\n",
       "      <th>recall</th>\n",
       "      <th>f1-score</th>\n",
       "      <th>support</th>\n",
       "    </tr>\n",
       "  </thead>\n",
       "  <tbody>\n",
       "    <tr>\n",
       "      <th>samples avg</th>\n",
       "      <td>0.062856</td>\n",
       "      <td>0.058837</td>\n",
       "      <td>0.058605</td>\n",
       "      <td>33044.0</td>\n",
       "    </tr>\n",
       "    <tr>\n",
       "      <th>micro avg</th>\n",
       "      <td>0.471857</td>\n",
       "      <td>0.062916</td>\n",
       "      <td>0.111028</td>\n",
       "      <td>33044.0</td>\n",
       "    </tr>\n",
       "    <tr>\n",
       "      <th>weighted avg</th>\n",
       "      <td>0.379913</td>\n",
       "      <td>0.062916</td>\n",
       "      <td>0.105741</td>\n",
       "      <td>33044.0</td>\n",
       "    </tr>\n",
       "    <tr>\n",
       "      <th>macro avg</th>\n",
       "      <td>0.289857</td>\n",
       "      <td>0.044122</td>\n",
       "      <td>0.074589</td>\n",
       "      <td>33044.0</td>\n",
       "    </tr>\n",
       "    <tr>\n",
       "      <th>java</th>\n",
       "      <td>0.591281</td>\n",
       "      <td>0.121979</td>\n",
       "      <td>0.202237</td>\n",
       "      <td>3558.0</td>\n",
       "    </tr>\n",
       "    <tr>\n",
       "      <th>c#</th>\n",
       "      <td>0.496109</td>\n",
       "      <td>0.073424</td>\n",
       "      <td>0.127916</td>\n",
       "      <td>3473.0</td>\n",
       "    </tr>\n",
       "    <tr>\n",
       "      <th>javascript</th>\n",
       "      <td>0.381250</td>\n",
       "      <td>0.036353</td>\n",
       "      <td>0.066376</td>\n",
       "      <td>3356.0</td>\n",
       "    </tr>\n",
       "    <tr>\n",
       "      <th>python</th>\n",
       "      <td>0.592841</td>\n",
       "      <td>0.101455</td>\n",
       "      <td>0.173259</td>\n",
       "      <td>2612.0</td>\n",
       "    </tr>\n",
       "    <tr>\n",
       "      <th>android</th>\n",
       "      <td>0.721781</td>\n",
       "      <td>0.222005</td>\n",
       "      <td>0.339566</td>\n",
       "      <td>2045.0</td>\n",
       "    </tr>\n",
       "    <tr>\n",
       "      <th>c++</th>\n",
       "      <td>0.438438</td>\n",
       "      <td>0.074338</td>\n",
       "      <td>0.127122</td>\n",
       "      <td>1964.0</td>\n",
       "    </tr>\n",
       "    <tr>\n",
       "      <th>ios</th>\n",
       "      <td>0.595930</td>\n",
       "      <td>0.111413</td>\n",
       "      <td>0.187729</td>\n",
       "      <td>1840.0</td>\n",
       "    </tr>\n",
       "    <tr>\n",
       "      <th>html</th>\n",
       "      <td>0.094737</td>\n",
       "      <td>0.005128</td>\n",
       "      <td>0.009730</td>\n",
       "      <td>1755.0</td>\n",
       "    </tr>\n",
       "    <tr>\n",
       "      <th>php</th>\n",
       "      <td>0.324503</td>\n",
       "      <td>0.030117</td>\n",
       "      <td>0.055118</td>\n",
       "      <td>1627.0</td>\n",
       "    </tr>\n",
       "    <tr>\n",
       "      <th>.net</th>\n",
       "      <td>0.206349</td>\n",
       "      <td>0.016571</td>\n",
       "      <td>0.030678</td>\n",
       "      <td>1569.0</td>\n",
       "    </tr>\n",
       "    <tr>\n",
       "      <th>jquery</th>\n",
       "      <td>0.157303</td>\n",
       "      <td>0.009103</td>\n",
       "      <td>0.017210</td>\n",
       "      <td>1538.0</td>\n",
       "    </tr>\n",
       "    <tr>\n",
       "      <th>css</th>\n",
       "      <td>0.102941</td>\n",
       "      <td>0.006189</td>\n",
       "      <td>0.011676</td>\n",
       "      <td>1131.0</td>\n",
       "    </tr>\n",
       "    <tr>\n",
       "      <th>objective-c</th>\n",
       "      <td>0.276316</td>\n",
       "      <td>0.023649</td>\n",
       "      <td>0.043568</td>\n",
       "      <td>888.0</td>\n",
       "    </tr>\n",
       "    <tr>\n",
       "      <th>c</th>\n",
       "      <td>0.219178</td>\n",
       "      <td>0.018079</td>\n",
       "      <td>0.033403</td>\n",
       "      <td>885.0</td>\n",
       "    </tr>\n",
       "    <tr>\n",
       "      <th>sql</th>\n",
       "      <td>0.093750</td>\n",
       "      <td>0.006897</td>\n",
       "      <td>0.012848</td>\n",
       "      <td>870.0</td>\n",
       "    </tr>\n",
       "    <tr>\n",
       "      <th>iphone</th>\n",
       "      <td>0.180000</td>\n",
       "      <td>0.011152</td>\n",
       "      <td>0.021004</td>\n",
       "      <td>807.0</td>\n",
       "    </tr>\n",
       "    <tr>\n",
       "      <th>asp.net</th>\n",
       "      <td>0.164948</td>\n",
       "      <td>0.019876</td>\n",
       "      <td>0.035477</td>\n",
       "      <td>805.0</td>\n",
       "    </tr>\n",
       "    <tr>\n",
       "      <th>mysql</th>\n",
       "      <td>0.085106</td>\n",
       "      <td>0.005839</td>\n",
       "      <td>0.010929</td>\n",
       "      <td>685.0</td>\n",
       "    </tr>\n",
       "    <tr>\n",
       "      <th>node.js</th>\n",
       "      <td>0.213115</td>\n",
       "      <td>0.019062</td>\n",
       "      <td>0.034993</td>\n",
       "      <td>682.0</td>\n",
       "    </tr>\n",
       "    <tr>\n",
       "      <th>linux</th>\n",
       "      <td>0.111111</td>\n",
       "      <td>0.010294</td>\n",
       "      <td>0.018843</td>\n",
       "      <td>680.0</td>\n",
       "    </tr>\n",
       "    <tr>\n",
       "      <th>git</th>\n",
       "      <td>0.040000</td>\n",
       "      <td>0.003650</td>\n",
       "      <td>0.006689</td>\n",
       "      <td>274.0</td>\n",
       "    </tr>\n",
       "  </tbody>\n",
       "</table>\n",
       "</div>"
      ],
      "text/plain": [
       "              precision    recall  f1-score  support\n",
       "samples avg    0.062856  0.058837  0.058605  33044.0\n",
       "micro avg      0.471857  0.062916  0.111028  33044.0\n",
       "weighted avg   0.379913  0.062916  0.105741  33044.0\n",
       "macro avg      0.289857  0.044122  0.074589  33044.0\n",
       "java           0.591281  0.121979  0.202237   3558.0\n",
       "c#             0.496109  0.073424  0.127916   3473.0\n",
       "javascript     0.381250  0.036353  0.066376   3356.0\n",
       "python         0.592841  0.101455  0.173259   2612.0\n",
       "android        0.721781  0.222005  0.339566   2045.0\n",
       "c++            0.438438  0.074338  0.127122   1964.0\n",
       "ios            0.595930  0.111413  0.187729   1840.0\n",
       "html           0.094737  0.005128  0.009730   1755.0\n",
       "php            0.324503  0.030117  0.055118   1627.0\n",
       ".net           0.206349  0.016571  0.030678   1569.0\n",
       "jquery         0.157303  0.009103  0.017210   1538.0\n",
       "css            0.102941  0.006189  0.011676   1131.0\n",
       "objective-c    0.276316  0.023649  0.043568    888.0\n",
       "c              0.219178  0.018079  0.033403    885.0\n",
       "sql            0.093750  0.006897  0.012848    870.0\n",
       "iphone         0.180000  0.011152  0.021004    807.0\n",
       "asp.net        0.164948  0.019876  0.035477    805.0\n",
       "mysql          0.085106  0.005839  0.010929    685.0\n",
       "node.js        0.213115  0.019062  0.034993    682.0\n",
       "linux          0.111111  0.010294  0.018843    680.0\n",
       "git            0.040000  0.003650  0.006689    274.0"
      ]
     },
     "execution_count": 24,
     "metadata": {},
     "output_type": "execute_result"
    }
   ],
   "source": [
    "scores_lr = save_score(y_test, pred_lr, target_names, \"LogisticRegression\")\n",
    "joblib.dump(pipeline_logisticReg, \"LogisticRegression_model.joblib\")\n",
    "scores_lr.sort_values(by=\"support\", ascending=False)"
   ]
  },
  {
   "cell_type": "code",
   "execution_count": 25,
   "id": "0472de1f",
   "metadata": {
    "execution": {
     "iopub.execute_input": "2022-12-22T20:33:21.486719Z",
     "iopub.status.busy": "2022-12-22T20:33:21.486386Z",
     "iopub.status.idle": "2022-12-22T20:33:21.504570Z",
     "shell.execute_reply": "2022-12-22T20:33:21.503780Z"
    },
    "papermill": {
     "duration": 0.032806,
     "end_time": "2022-12-22T20:33:21.506670",
     "exception": false,
     "start_time": "2022-12-22T20:33:21.473864",
     "status": "completed"
    },
    "tags": []
   },
   "outputs": [
    {
     "data": {
      "text/html": [
       "<div>\n",
       "<style scoped>\n",
       "    .dataframe tbody tr th:only-of-type {\n",
       "        vertical-align: middle;\n",
       "    }\n",
       "\n",
       "    .dataframe tbody tr th {\n",
       "        vertical-align: top;\n",
       "    }\n",
       "\n",
       "    .dataframe thead th {\n",
       "        text-align: right;\n",
       "    }\n",
       "</style>\n",
       "<table border=\"1\" class=\"dataframe\">\n",
       "  <thead>\n",
       "    <tr style=\"text-align: right;\">\n",
       "      <th></th>\n",
       "      <th>precision</th>\n",
       "      <th>recall</th>\n",
       "      <th>f1-score</th>\n",
       "      <th>support</th>\n",
       "    </tr>\n",
       "  </thead>\n",
       "  <tbody>\n",
       "    <tr>\n",
       "      <th>android</th>\n",
       "      <td>0.721781</td>\n",
       "      <td>0.222005</td>\n",
       "      <td>0.339566</td>\n",
       "      <td>2045.0</td>\n",
       "    </tr>\n",
       "    <tr>\n",
       "      <th>ios</th>\n",
       "      <td>0.595930</td>\n",
       "      <td>0.111413</td>\n",
       "      <td>0.187729</td>\n",
       "      <td>1840.0</td>\n",
       "    </tr>\n",
       "    <tr>\n",
       "      <th>python</th>\n",
       "      <td>0.592841</td>\n",
       "      <td>0.101455</td>\n",
       "      <td>0.173259</td>\n",
       "      <td>2612.0</td>\n",
       "    </tr>\n",
       "    <tr>\n",
       "      <th>java</th>\n",
       "      <td>0.591281</td>\n",
       "      <td>0.121979</td>\n",
       "      <td>0.202237</td>\n",
       "      <td>3558.0</td>\n",
       "    </tr>\n",
       "    <tr>\n",
       "      <th>c#</th>\n",
       "      <td>0.496109</td>\n",
       "      <td>0.073424</td>\n",
       "      <td>0.127916</td>\n",
       "      <td>3473.0</td>\n",
       "    </tr>\n",
       "    <tr>\n",
       "      <th>micro avg</th>\n",
       "      <td>0.471857</td>\n",
       "      <td>0.062916</td>\n",
       "      <td>0.111028</td>\n",
       "      <td>33044.0</td>\n",
       "    </tr>\n",
       "    <tr>\n",
       "      <th>c++</th>\n",
       "      <td>0.438438</td>\n",
       "      <td>0.074338</td>\n",
       "      <td>0.127122</td>\n",
       "      <td>1964.0</td>\n",
       "    </tr>\n",
       "    <tr>\n",
       "      <th>javascript</th>\n",
       "      <td>0.381250</td>\n",
       "      <td>0.036353</td>\n",
       "      <td>0.066376</td>\n",
       "      <td>3356.0</td>\n",
       "    </tr>\n",
       "    <tr>\n",
       "      <th>weighted avg</th>\n",
       "      <td>0.379913</td>\n",
       "      <td>0.062916</td>\n",
       "      <td>0.105741</td>\n",
       "      <td>33044.0</td>\n",
       "    </tr>\n",
       "    <tr>\n",
       "      <th>php</th>\n",
       "      <td>0.324503</td>\n",
       "      <td>0.030117</td>\n",
       "      <td>0.055118</td>\n",
       "      <td>1627.0</td>\n",
       "    </tr>\n",
       "    <tr>\n",
       "      <th>macro avg</th>\n",
       "      <td>0.289857</td>\n",
       "      <td>0.044122</td>\n",
       "      <td>0.074589</td>\n",
       "      <td>33044.0</td>\n",
       "    </tr>\n",
       "    <tr>\n",
       "      <th>objective-c</th>\n",
       "      <td>0.276316</td>\n",
       "      <td>0.023649</td>\n",
       "      <td>0.043568</td>\n",
       "      <td>888.0</td>\n",
       "    </tr>\n",
       "    <tr>\n",
       "      <th>c</th>\n",
       "      <td>0.219178</td>\n",
       "      <td>0.018079</td>\n",
       "      <td>0.033403</td>\n",
       "      <td>885.0</td>\n",
       "    </tr>\n",
       "    <tr>\n",
       "      <th>node.js</th>\n",
       "      <td>0.213115</td>\n",
       "      <td>0.019062</td>\n",
       "      <td>0.034993</td>\n",
       "      <td>682.0</td>\n",
       "    </tr>\n",
       "    <tr>\n",
       "      <th>.net</th>\n",
       "      <td>0.206349</td>\n",
       "      <td>0.016571</td>\n",
       "      <td>0.030678</td>\n",
       "      <td>1569.0</td>\n",
       "    </tr>\n",
       "    <tr>\n",
       "      <th>iphone</th>\n",
       "      <td>0.180000</td>\n",
       "      <td>0.011152</td>\n",
       "      <td>0.021004</td>\n",
       "      <td>807.0</td>\n",
       "    </tr>\n",
       "    <tr>\n",
       "      <th>asp.net</th>\n",
       "      <td>0.164948</td>\n",
       "      <td>0.019876</td>\n",
       "      <td>0.035477</td>\n",
       "      <td>805.0</td>\n",
       "    </tr>\n",
       "    <tr>\n",
       "      <th>jquery</th>\n",
       "      <td>0.157303</td>\n",
       "      <td>0.009103</td>\n",
       "      <td>0.017210</td>\n",
       "      <td>1538.0</td>\n",
       "    </tr>\n",
       "    <tr>\n",
       "      <th>linux</th>\n",
       "      <td>0.111111</td>\n",
       "      <td>0.010294</td>\n",
       "      <td>0.018843</td>\n",
       "      <td>680.0</td>\n",
       "    </tr>\n",
       "    <tr>\n",
       "      <th>css</th>\n",
       "      <td>0.102941</td>\n",
       "      <td>0.006189</td>\n",
       "      <td>0.011676</td>\n",
       "      <td>1131.0</td>\n",
       "    </tr>\n",
       "    <tr>\n",
       "      <th>html</th>\n",
       "      <td>0.094737</td>\n",
       "      <td>0.005128</td>\n",
       "      <td>0.009730</td>\n",
       "      <td>1755.0</td>\n",
       "    </tr>\n",
       "    <tr>\n",
       "      <th>sql</th>\n",
       "      <td>0.093750</td>\n",
       "      <td>0.006897</td>\n",
       "      <td>0.012848</td>\n",
       "      <td>870.0</td>\n",
       "    </tr>\n",
       "    <tr>\n",
       "      <th>mysql</th>\n",
       "      <td>0.085106</td>\n",
       "      <td>0.005839</td>\n",
       "      <td>0.010929</td>\n",
       "      <td>685.0</td>\n",
       "    </tr>\n",
       "    <tr>\n",
       "      <th>samples avg</th>\n",
       "      <td>0.062856</td>\n",
       "      <td>0.058837</td>\n",
       "      <td>0.058605</td>\n",
       "      <td>33044.0</td>\n",
       "    </tr>\n",
       "    <tr>\n",
       "      <th>git</th>\n",
       "      <td>0.040000</td>\n",
       "      <td>0.003650</td>\n",
       "      <td>0.006689</td>\n",
       "      <td>274.0</td>\n",
       "    </tr>\n",
       "  </tbody>\n",
       "</table>\n",
       "</div>"
      ],
      "text/plain": [
       "              precision    recall  f1-score  support\n",
       "android        0.721781  0.222005  0.339566   2045.0\n",
       "ios            0.595930  0.111413  0.187729   1840.0\n",
       "python         0.592841  0.101455  0.173259   2612.0\n",
       "java           0.591281  0.121979  0.202237   3558.0\n",
       "c#             0.496109  0.073424  0.127916   3473.0\n",
       "micro avg      0.471857  0.062916  0.111028  33044.0\n",
       "c++            0.438438  0.074338  0.127122   1964.0\n",
       "javascript     0.381250  0.036353  0.066376   3356.0\n",
       "weighted avg   0.379913  0.062916  0.105741  33044.0\n",
       "php            0.324503  0.030117  0.055118   1627.0\n",
       "macro avg      0.289857  0.044122  0.074589  33044.0\n",
       "objective-c    0.276316  0.023649  0.043568    888.0\n",
       "c              0.219178  0.018079  0.033403    885.0\n",
       "node.js        0.213115  0.019062  0.034993    682.0\n",
       ".net           0.206349  0.016571  0.030678   1569.0\n",
       "iphone         0.180000  0.011152  0.021004    807.0\n",
       "asp.net        0.164948  0.019876  0.035477    805.0\n",
       "jquery         0.157303  0.009103  0.017210   1538.0\n",
       "linux          0.111111  0.010294  0.018843    680.0\n",
       "css            0.102941  0.006189  0.011676   1131.0\n",
       "html           0.094737  0.005128  0.009730   1755.0\n",
       "sql            0.093750  0.006897  0.012848    870.0\n",
       "mysql          0.085106  0.005839  0.010929    685.0\n",
       "samples avg    0.062856  0.058837  0.058605  33044.0\n",
       "git            0.040000  0.003650  0.006689    274.0"
      ]
     },
     "execution_count": 25,
     "metadata": {},
     "output_type": "execute_result"
    }
   ],
   "source": [
    "scores_lr.sort_values(by=\"precision\", ascending=False)"
   ]
  },
  {
   "cell_type": "code",
   "execution_count": 26,
   "id": "6cc2b027",
   "metadata": {
    "execution": {
     "iopub.execute_input": "2022-12-22T20:33:21.532939Z",
     "iopub.status.busy": "2022-12-22T20:33:21.531853Z",
     "iopub.status.idle": "2022-12-22T20:33:21.549855Z",
     "shell.execute_reply": "2022-12-22T20:33:21.549065Z"
    },
    "papermill": {
     "duration": 0.032661,
     "end_time": "2022-12-22T20:33:21.551561",
     "exception": false,
     "start_time": "2022-12-22T20:33:21.518900",
     "status": "completed"
    },
    "tags": []
   },
   "outputs": [
    {
     "data": {
      "text/html": [
       "<div>\n",
       "<style scoped>\n",
       "    .dataframe tbody tr th:only-of-type {\n",
       "        vertical-align: middle;\n",
       "    }\n",
       "\n",
       "    .dataframe tbody tr th {\n",
       "        vertical-align: top;\n",
       "    }\n",
       "\n",
       "    .dataframe thead th {\n",
       "        text-align: right;\n",
       "    }\n",
       "</style>\n",
       "<table border=\"1\" class=\"dataframe\">\n",
       "  <thead>\n",
       "    <tr style=\"text-align: right;\">\n",
       "      <th></th>\n",
       "      <th>precision</th>\n",
       "      <th>recall</th>\n",
       "      <th>f1-score</th>\n",
       "      <th>support</th>\n",
       "    </tr>\n",
       "  </thead>\n",
       "  <tbody>\n",
       "    <tr>\n",
       "      <th>android</th>\n",
       "      <td>0.721781</td>\n",
       "      <td>0.222005</td>\n",
       "      <td>0.339566</td>\n",
       "      <td>2045.0</td>\n",
       "    </tr>\n",
       "    <tr>\n",
       "      <th>java</th>\n",
       "      <td>0.591281</td>\n",
       "      <td>0.121979</td>\n",
       "      <td>0.202237</td>\n",
       "      <td>3558.0</td>\n",
       "    </tr>\n",
       "    <tr>\n",
       "      <th>ios</th>\n",
       "      <td>0.595930</td>\n",
       "      <td>0.111413</td>\n",
       "      <td>0.187729</td>\n",
       "      <td>1840.0</td>\n",
       "    </tr>\n",
       "    <tr>\n",
       "      <th>python</th>\n",
       "      <td>0.592841</td>\n",
       "      <td>0.101455</td>\n",
       "      <td>0.173259</td>\n",
       "      <td>2612.0</td>\n",
       "    </tr>\n",
       "    <tr>\n",
       "      <th>c++</th>\n",
       "      <td>0.438438</td>\n",
       "      <td>0.074338</td>\n",
       "      <td>0.127122</td>\n",
       "      <td>1964.0</td>\n",
       "    </tr>\n",
       "    <tr>\n",
       "      <th>c#</th>\n",
       "      <td>0.496109</td>\n",
       "      <td>0.073424</td>\n",
       "      <td>0.127916</td>\n",
       "      <td>3473.0</td>\n",
       "    </tr>\n",
       "    <tr>\n",
       "      <th>weighted avg</th>\n",
       "      <td>0.379913</td>\n",
       "      <td>0.062916</td>\n",
       "      <td>0.105741</td>\n",
       "      <td>33044.0</td>\n",
       "    </tr>\n",
       "    <tr>\n",
       "      <th>micro avg</th>\n",
       "      <td>0.471857</td>\n",
       "      <td>0.062916</td>\n",
       "      <td>0.111028</td>\n",
       "      <td>33044.0</td>\n",
       "    </tr>\n",
       "    <tr>\n",
       "      <th>samples avg</th>\n",
       "      <td>0.062856</td>\n",
       "      <td>0.058837</td>\n",
       "      <td>0.058605</td>\n",
       "      <td>33044.0</td>\n",
       "    </tr>\n",
       "    <tr>\n",
       "      <th>macro avg</th>\n",
       "      <td>0.289857</td>\n",
       "      <td>0.044122</td>\n",
       "      <td>0.074589</td>\n",
       "      <td>33044.0</td>\n",
       "    </tr>\n",
       "    <tr>\n",
       "      <th>javascript</th>\n",
       "      <td>0.381250</td>\n",
       "      <td>0.036353</td>\n",
       "      <td>0.066376</td>\n",
       "      <td>3356.0</td>\n",
       "    </tr>\n",
       "    <tr>\n",
       "      <th>php</th>\n",
       "      <td>0.324503</td>\n",
       "      <td>0.030117</td>\n",
       "      <td>0.055118</td>\n",
       "      <td>1627.0</td>\n",
       "    </tr>\n",
       "    <tr>\n",
       "      <th>objective-c</th>\n",
       "      <td>0.276316</td>\n",
       "      <td>0.023649</td>\n",
       "      <td>0.043568</td>\n",
       "      <td>888.0</td>\n",
       "    </tr>\n",
       "    <tr>\n",
       "      <th>asp.net</th>\n",
       "      <td>0.164948</td>\n",
       "      <td>0.019876</td>\n",
       "      <td>0.035477</td>\n",
       "      <td>805.0</td>\n",
       "    </tr>\n",
       "    <tr>\n",
       "      <th>node.js</th>\n",
       "      <td>0.213115</td>\n",
       "      <td>0.019062</td>\n",
       "      <td>0.034993</td>\n",
       "      <td>682.0</td>\n",
       "    </tr>\n",
       "    <tr>\n",
       "      <th>c</th>\n",
       "      <td>0.219178</td>\n",
       "      <td>0.018079</td>\n",
       "      <td>0.033403</td>\n",
       "      <td>885.0</td>\n",
       "    </tr>\n",
       "    <tr>\n",
       "      <th>.net</th>\n",
       "      <td>0.206349</td>\n",
       "      <td>0.016571</td>\n",
       "      <td>0.030678</td>\n",
       "      <td>1569.0</td>\n",
       "    </tr>\n",
       "    <tr>\n",
       "      <th>iphone</th>\n",
       "      <td>0.180000</td>\n",
       "      <td>0.011152</td>\n",
       "      <td>0.021004</td>\n",
       "      <td>807.0</td>\n",
       "    </tr>\n",
       "    <tr>\n",
       "      <th>linux</th>\n",
       "      <td>0.111111</td>\n",
       "      <td>0.010294</td>\n",
       "      <td>0.018843</td>\n",
       "      <td>680.0</td>\n",
       "    </tr>\n",
       "    <tr>\n",
       "      <th>jquery</th>\n",
       "      <td>0.157303</td>\n",
       "      <td>0.009103</td>\n",
       "      <td>0.017210</td>\n",
       "      <td>1538.0</td>\n",
       "    </tr>\n",
       "    <tr>\n",
       "      <th>sql</th>\n",
       "      <td>0.093750</td>\n",
       "      <td>0.006897</td>\n",
       "      <td>0.012848</td>\n",
       "      <td>870.0</td>\n",
       "    </tr>\n",
       "    <tr>\n",
       "      <th>css</th>\n",
       "      <td>0.102941</td>\n",
       "      <td>0.006189</td>\n",
       "      <td>0.011676</td>\n",
       "      <td>1131.0</td>\n",
       "    </tr>\n",
       "    <tr>\n",
       "      <th>mysql</th>\n",
       "      <td>0.085106</td>\n",
       "      <td>0.005839</td>\n",
       "      <td>0.010929</td>\n",
       "      <td>685.0</td>\n",
       "    </tr>\n",
       "    <tr>\n",
       "      <th>html</th>\n",
       "      <td>0.094737</td>\n",
       "      <td>0.005128</td>\n",
       "      <td>0.009730</td>\n",
       "      <td>1755.0</td>\n",
       "    </tr>\n",
       "    <tr>\n",
       "      <th>git</th>\n",
       "      <td>0.040000</td>\n",
       "      <td>0.003650</td>\n",
       "      <td>0.006689</td>\n",
       "      <td>274.0</td>\n",
       "    </tr>\n",
       "  </tbody>\n",
       "</table>\n",
       "</div>"
      ],
      "text/plain": [
       "              precision    recall  f1-score  support\n",
       "android        0.721781  0.222005  0.339566   2045.0\n",
       "java           0.591281  0.121979  0.202237   3558.0\n",
       "ios            0.595930  0.111413  0.187729   1840.0\n",
       "python         0.592841  0.101455  0.173259   2612.0\n",
       "c++            0.438438  0.074338  0.127122   1964.0\n",
       "c#             0.496109  0.073424  0.127916   3473.0\n",
       "weighted avg   0.379913  0.062916  0.105741  33044.0\n",
       "micro avg      0.471857  0.062916  0.111028  33044.0\n",
       "samples avg    0.062856  0.058837  0.058605  33044.0\n",
       "macro avg      0.289857  0.044122  0.074589  33044.0\n",
       "javascript     0.381250  0.036353  0.066376   3356.0\n",
       "php            0.324503  0.030117  0.055118   1627.0\n",
       "objective-c    0.276316  0.023649  0.043568    888.0\n",
       "asp.net        0.164948  0.019876  0.035477    805.0\n",
       "node.js        0.213115  0.019062  0.034993    682.0\n",
       "c              0.219178  0.018079  0.033403    885.0\n",
       ".net           0.206349  0.016571  0.030678   1569.0\n",
       "iphone         0.180000  0.011152  0.021004    807.0\n",
       "linux          0.111111  0.010294  0.018843    680.0\n",
       "jquery         0.157303  0.009103  0.017210   1538.0\n",
       "sql            0.093750  0.006897  0.012848    870.0\n",
       "css            0.102941  0.006189  0.011676   1131.0\n",
       "mysql          0.085106  0.005839  0.010929    685.0\n",
       "html           0.094737  0.005128  0.009730   1755.0\n",
       "git            0.040000  0.003650  0.006689    274.0"
      ]
     },
     "execution_count": 26,
     "metadata": {},
     "output_type": "execute_result"
    }
   ],
   "source": [
    "scores_lr.sort_values(by=\"recall\", ascending=False)"
   ]
  },
  {
   "cell_type": "markdown",
   "id": "a3991b00",
   "metadata": {
    "papermill": {
     "duration": 0.011396,
     "end_time": "2022-12-22T20:33:21.574640",
     "exception": false,
     "start_time": "2022-12-22T20:33:21.563244",
     "status": "completed"
    },
    "tags": []
   },
   "source": [
    "## SVC"
   ]
  },
  {
   "cell_type": "code",
   "execution_count": 27,
   "id": "a780dfdc",
   "metadata": {
    "execution": {
     "iopub.execute_input": "2022-12-22T20:33:21.599527Z",
     "iopub.status.busy": "2022-12-22T20:33:21.599173Z",
     "iopub.status.idle": "2022-12-22T20:33:21.622870Z",
     "shell.execute_reply": "2022-12-22T20:33:21.622024Z"
    },
    "papermill": {
     "duration": 0.038443,
     "end_time": "2022-12-22T20:33:21.624739",
     "exception": false,
     "start_time": "2022-12-22T20:33:21.586296",
     "status": "completed"
    },
    "tags": []
   },
   "outputs": [],
   "source": [
    "pipeline_svc= pipeline.Pipeline(\n",
    "    [\n",
    "        (\"tfidf\", pipeline_tfidf),\n",
    "        (\n",
    "            \"OvRSVC\",\n",
    "            multiclass.OneVsRestClassifier(\n",
    "                svm.SVC(cache_size=1080, max_iter=None if LONG else 10_000, random_state=42)\n",
    "            ),\n",
    "        ),\n",
    "    ]\n",
    ")"
   ]
  },
  {
   "cell_type": "code",
   "execution_count": 28,
   "id": "cc975fab",
   "metadata": {
    "execution": {
     "iopub.execute_input": "2022-12-22T20:33:21.649684Z",
     "iopub.status.busy": "2022-12-22T20:33:21.649337Z",
     "iopub.status.idle": "2022-12-23T00:32:41.408676Z",
     "shell.execute_reply": "2022-12-23T00:32:41.404801Z"
    },
    "papermill": {
     "duration": 14359.801833,
     "end_time": "2022-12-23T00:32:41.438236",
     "exception": false,
     "start_time": "2022-12-22T20:33:21.636403",
     "status": "completed"
    },
    "tags": []
   },
   "outputs": [
    {
     "name": "stdout",
     "output_type": "stream",
     "text": [
      "CPU times: user 4h 1min 23s, sys: 1min 1s, total: 4h 2min 25s\n",
      "Wall time: 3h 59min 19s\n"
     ]
    }
   ],
   "source": [
    "%%time\n",
    "with ignore_warnings(category=exceptions.ConvergenceWarning):\n",
    "    pipeline_svc.fit(\n",
    "        X_train,\n",
    "        y_train,\n",
    "    )"
   ]
  },
  {
   "cell_type": "code",
   "execution_count": 29,
   "id": "958ea04f",
   "metadata": {
    "execution": {
     "iopub.execute_input": "2022-12-23T00:32:41.469354Z",
     "iopub.status.busy": "2022-12-23T00:32:41.468110Z",
     "iopub.status.idle": "2022-12-23T02:08:12.202619Z",
     "shell.execute_reply": "2022-12-23T02:08:12.199116Z"
    },
    "papermill": {
     "duration": 5730.766303,
     "end_time": "2022-12-23T02:08:12.217229",
     "exception": false,
     "start_time": "2022-12-23T00:32:41.450926",
     "status": "completed"
    },
    "tags": []
   },
   "outputs": [
    {
     "name": "stdout",
     "output_type": "stream",
     "text": [
      "CPU times: user 1h 35min 29s, sys: 1.2 s, total: 1h 35min 30s\n",
      "Wall time: 1h 35min 30s\n"
     ]
    },
    {
     "data": {
      "text/plain": [
       "array([[1, 1, 1, ..., 0, 0, 0],\n",
       "       [1, 1, 1, ..., 0, 0, 0],\n",
       "       [1, 1, 1, ..., 0, 0, 0],\n",
       "       ...,\n",
       "       [1, 1, 1, ..., 0, 0, 0],\n",
       "       [1, 1, 1, ..., 0, 0, 0],\n",
       "       [1, 1, 1, ..., 0, 0, 0]])"
      ]
     },
     "execution_count": 29,
     "metadata": {},
     "output_type": "execute_result"
    }
   ],
   "source": [
    "%%time\n",
    "pred_svc = pipeline_svc.predict(X_test)\n",
    "pred_svc"
   ]
  },
  {
   "cell_type": "markdown",
   "id": "c6acf025",
   "metadata": {
    "papermill": {
     "duration": 0.013334,
     "end_time": "2022-12-23T02:08:12.243943",
     "exception": false,
     "start_time": "2022-12-23T02:08:12.230609",
     "status": "completed"
    },
    "tags": []
   },
   "source": [
    "### Score et enregistrement"
   ]
  },
  {
   "cell_type": "code",
   "execution_count": 30,
   "id": "23e9cc21",
   "metadata": {
    "execution": {
     "iopub.execute_input": "2022-12-23T02:08:12.274095Z",
     "iopub.status.busy": "2022-12-23T02:08:12.273505Z",
     "iopub.status.idle": "2022-12-23T02:08:20.451678Z",
     "shell.execute_reply": "2022-12-23T02:08:20.450762Z"
    },
    "papermill": {
     "duration": 8.197356,
     "end_time": "2022-12-23T02:08:20.454364",
     "exception": false,
     "start_time": "2022-12-23T02:08:12.257008",
     "status": "completed"
    },
    "tags": []
   },
   "outputs": [
    {
     "data": {
      "text/html": [
       "<div>\n",
       "<style scoped>\n",
       "    .dataframe tbody tr th:only-of-type {\n",
       "        vertical-align: middle;\n",
       "    }\n",
       "\n",
       "    .dataframe tbody tr th {\n",
       "        vertical-align: top;\n",
       "    }\n",
       "\n",
       "    .dataframe thead th {\n",
       "        text-align: right;\n",
       "    }\n",
       "</style>\n",
       "<table border=\"1\" class=\"dataframe\">\n",
       "  <thead>\n",
       "    <tr style=\"text-align: right;\">\n",
       "      <th></th>\n",
       "      <th>precision</th>\n",
       "      <th>recall</th>\n",
       "      <th>f1-score</th>\n",
       "      <th>support</th>\n",
       "    </tr>\n",
       "  </thead>\n",
       "  <tbody>\n",
       "    <tr>\n",
       "      <th>python</th>\n",
       "      <td>0.923077</td>\n",
       "      <td>0.004594</td>\n",
       "      <td>0.009143</td>\n",
       "      <td>2612.0</td>\n",
       "    </tr>\n",
       "    <tr>\n",
       "      <th>android</th>\n",
       "      <td>0.916667</td>\n",
       "      <td>0.021516</td>\n",
       "      <td>0.042045</td>\n",
       "      <td>2045.0</td>\n",
       "    </tr>\n",
       "    <tr>\n",
       "      <th>ios</th>\n",
       "      <td>0.733333</td>\n",
       "      <td>0.005978</td>\n",
       "      <td>0.011860</td>\n",
       "      <td>1840.0</td>\n",
       "    </tr>\n",
       "    <tr>\n",
       "      <th>weighted avg</th>\n",
       "      <td>0.207611</td>\n",
       "      <td>0.306712</td>\n",
       "      <td>0.070095</td>\n",
       "      <td>33044.0</td>\n",
       "    </tr>\n",
       "    <tr>\n",
       "      <th>macro avg</th>\n",
       "      <td>0.139371</td>\n",
       "      <td>0.140017</td>\n",
       "      <td>0.033035</td>\n",
       "      <td>33044.0</td>\n",
       "    </tr>\n",
       "    <tr>\n",
       "      <th>java</th>\n",
       "      <td>0.120142</td>\n",
       "      <td>0.967960</td>\n",
       "      <td>0.213754</td>\n",
       "      <td>3558.0</td>\n",
       "    </tr>\n",
       "    <tr>\n",
       "      <th>c#</th>\n",
       "      <td>0.119226</td>\n",
       "      <td>0.960265</td>\n",
       "      <td>0.212116</td>\n",
       "      <td>3473.0</td>\n",
       "    </tr>\n",
       "    <tr>\n",
       "      <th>micro avg</th>\n",
       "      <td>0.118569</td>\n",
       "      <td>0.306712</td>\n",
       "      <td>0.171023</td>\n",
       "      <td>33044.0</td>\n",
       "    </tr>\n",
       "    <tr>\n",
       "      <th>samples avg</th>\n",
       "      <td>0.116454</td>\n",
       "      <td>0.254149</td>\n",
       "      <td>0.153356</td>\n",
       "      <td>33044.0</td>\n",
       "    </tr>\n",
       "    <tr>\n",
       "      <th>javascript</th>\n",
       "      <td>0.114352</td>\n",
       "      <td>0.980036</td>\n",
       "      <td>0.204807</td>\n",
       "      <td>3356.0</td>\n",
       "    </tr>\n",
       "    <tr>\n",
       "      <th>.net</th>\n",
       "      <td>0.000000</td>\n",
       "      <td>0.000000</td>\n",
       "      <td>0.000000</td>\n",
       "      <td>1569.0</td>\n",
       "    </tr>\n",
       "    <tr>\n",
       "      <th>jquery</th>\n",
       "      <td>0.000000</td>\n",
       "      <td>0.000000</td>\n",
       "      <td>0.000000</td>\n",
       "      <td>1538.0</td>\n",
       "    </tr>\n",
       "    <tr>\n",
       "      <th>css</th>\n",
       "      <td>0.000000</td>\n",
       "      <td>0.000000</td>\n",
       "      <td>0.000000</td>\n",
       "      <td>1131.0</td>\n",
       "    </tr>\n",
       "    <tr>\n",
       "      <th>php</th>\n",
       "      <td>0.000000</td>\n",
       "      <td>0.000000</td>\n",
       "      <td>0.000000</td>\n",
       "      <td>1627.0</td>\n",
       "    </tr>\n",
       "    <tr>\n",
       "      <th>c</th>\n",
       "      <td>0.000000</td>\n",
       "      <td>0.000000</td>\n",
       "      <td>0.000000</td>\n",
       "      <td>885.0</td>\n",
       "    </tr>\n",
       "    <tr>\n",
       "      <th>sql</th>\n",
       "      <td>0.000000</td>\n",
       "      <td>0.000000</td>\n",
       "      <td>0.000000</td>\n",
       "      <td>870.0</td>\n",
       "    </tr>\n",
       "    <tr>\n",
       "      <th>iphone</th>\n",
       "      <td>0.000000</td>\n",
       "      <td>0.000000</td>\n",
       "      <td>0.000000</td>\n",
       "      <td>807.0</td>\n",
       "    </tr>\n",
       "    <tr>\n",
       "      <th>asp.net</th>\n",
       "      <td>0.000000</td>\n",
       "      <td>0.000000</td>\n",
       "      <td>0.000000</td>\n",
       "      <td>805.0</td>\n",
       "    </tr>\n",
       "    <tr>\n",
       "      <th>mysql</th>\n",
       "      <td>0.000000</td>\n",
       "      <td>0.000000</td>\n",
       "      <td>0.000000</td>\n",
       "      <td>685.0</td>\n",
       "    </tr>\n",
       "    <tr>\n",
       "      <th>linux</th>\n",
       "      <td>0.000000</td>\n",
       "      <td>0.000000</td>\n",
       "      <td>0.000000</td>\n",
       "      <td>680.0</td>\n",
       "    </tr>\n",
       "    <tr>\n",
       "      <th>node.js</th>\n",
       "      <td>0.000000</td>\n",
       "      <td>0.000000</td>\n",
       "      <td>0.000000</td>\n",
       "      <td>682.0</td>\n",
       "    </tr>\n",
       "    <tr>\n",
       "      <th>git</th>\n",
       "      <td>0.000000</td>\n",
       "      <td>0.000000</td>\n",
       "      <td>0.000000</td>\n",
       "      <td>274.0</td>\n",
       "    </tr>\n",
       "    <tr>\n",
       "      <th>html</th>\n",
       "      <td>0.000000</td>\n",
       "      <td>0.000000</td>\n",
       "      <td>0.000000</td>\n",
       "      <td>1755.0</td>\n",
       "    </tr>\n",
       "    <tr>\n",
       "      <th>c++</th>\n",
       "      <td>0.000000</td>\n",
       "      <td>0.000000</td>\n",
       "      <td>0.000000</td>\n",
       "      <td>1964.0</td>\n",
       "    </tr>\n",
       "    <tr>\n",
       "      <th>objective-c</th>\n",
       "      <td>0.000000</td>\n",
       "      <td>0.000000</td>\n",
       "      <td>0.000000</td>\n",
       "      <td>888.0</td>\n",
       "    </tr>\n",
       "  </tbody>\n",
       "</table>\n",
       "</div>"
      ],
      "text/plain": [
       "              precision    recall  f1-score  support\n",
       "python         0.923077  0.004594  0.009143   2612.0\n",
       "android        0.916667  0.021516  0.042045   2045.0\n",
       "ios            0.733333  0.005978  0.011860   1840.0\n",
       "weighted avg   0.207611  0.306712  0.070095  33044.0\n",
       "macro avg      0.139371  0.140017  0.033035  33044.0\n",
       "java           0.120142  0.967960  0.213754   3558.0\n",
       "c#             0.119226  0.960265  0.212116   3473.0\n",
       "micro avg      0.118569  0.306712  0.171023  33044.0\n",
       "samples avg    0.116454  0.254149  0.153356  33044.0\n",
       "javascript     0.114352  0.980036  0.204807   3356.0\n",
       ".net           0.000000  0.000000  0.000000   1569.0\n",
       "jquery         0.000000  0.000000  0.000000   1538.0\n",
       "css            0.000000  0.000000  0.000000   1131.0\n",
       "php            0.000000  0.000000  0.000000   1627.0\n",
       "c              0.000000  0.000000  0.000000    885.0\n",
       "sql            0.000000  0.000000  0.000000    870.0\n",
       "iphone         0.000000  0.000000  0.000000    807.0\n",
       "asp.net        0.000000  0.000000  0.000000    805.0\n",
       "mysql          0.000000  0.000000  0.000000    685.0\n",
       "linux          0.000000  0.000000  0.000000    680.0\n",
       "node.js        0.000000  0.000000  0.000000    682.0\n",
       "git            0.000000  0.000000  0.000000    274.0\n",
       "html           0.000000  0.000000  0.000000   1755.0\n",
       "c++            0.000000  0.000000  0.000000   1964.0\n",
       "objective-c    0.000000  0.000000  0.000000    888.0"
      ]
     },
     "execution_count": 30,
     "metadata": {},
     "output_type": "execute_result"
    }
   ],
   "source": [
    "scores_svc = save_score(y_test,pred_svc,target_names,\"TfidfOvRestSvc\")\n",
    "joblib.dump(pipeline_svc,\"TfidfOvRestSvc_model.joblib\")\n",
    "scores_svc.sort_values(by=\"precision\", ascending=False)"
   ]
  },
  {
   "cell_type": "markdown",
   "id": "f775f7d5",
   "metadata": {
    "papermill": {
     "duration": 0.068902,
     "end_time": "2022-12-23T02:08:20.563307",
     "exception": false,
     "start_time": "2022-12-23T02:08:20.494405",
     "status": "completed"
    },
    "tags": []
   },
   "source": [
    "# Word2Vec"
   ]
  },
  {
   "cell_type": "code",
   "execution_count": 31,
   "id": "c9203c24",
   "metadata": {
    "execution": {
     "iopub.execute_input": "2022-12-23T02:08:20.690117Z",
     "iopub.status.busy": "2022-12-23T02:08:20.689444Z",
     "iopub.status.idle": "2022-12-23T02:31:14.051941Z",
     "shell.execute_reply": "2022-12-23T02:31:14.050757Z"
    },
    "papermill": {
     "duration": 1373.430243,
     "end_time": "2022-12-23T02:31:14.054261",
     "exception": false,
     "start_time": "2022-12-23T02:08:20.624018",
     "status": "completed"
    },
    "tags": []
   },
   "outputs": [
    {
     "name": "stdout",
     "output_type": "stream",
     "text": [
      "Build & train Word2Vec model ...\n",
      "Vocabulary size: 739\n",
      "Word2Vec trained\n",
      "Number of unique words: 163658\n",
      "Create Embedding matrix ...\n",
      "Word embedding rate :  0.0018\n",
      "Embedding matrix: (163658, 500)\n",
      "CPU times: user 22min 47s, sys: 15.2 s, total: 23min 2s\n",
      "Wall time: 22min 53s\n"
     ]
    }
   ],
   "source": [
    "%%time\n",
    "print(\"Build & train Word2Vec model ...\")\n",
    "# sentences = [gensim.utils.simple_preprocess(text) for text in df[0:20_000][\"Token\"]]\n",
    "# sentences = X_train\n",
    "w2v_min_count = 1\n",
    "w2v_size = 500\n",
    "w2v_window = 5\n",
    "w2v_epochs = 100\n",
    "maxlen = 30\n",
    "w2v_model = gensim.models.Word2Vec(\n",
    "    min_count=w2v_min_count, window=w2v_window, vector_size=w2v_size, seed=42, workers=1\n",
    ")\n",
    "#                                                workers=multiprocessing.cpu_count())\n",
    "w2v_model.build_vocab(X_train)\n",
    "w2v_model.train(X_train, total_examples=w2v_model.corpus_count, epochs=w2v_epochs)\n",
    "model_vectors = w2v_model.wv\n",
    "w2v_words = model_vectors.index_to_key\n",
    "print(\"Vocabulary size: %i\" % len(w2v_words))\n",
    "print(\"Word2Vec trained\")\n",
    "\n",
    "tokenizer = keras.preprocessing.text.Tokenizer()\n",
    "tokenizer.fit_on_texts(X_train)\n",
    "x_sentences_train = keras.preprocessing.sequence.pad_sequences(\n",
    "    tokenizer.texts_to_sequences(X_train), maxlen=maxlen, padding=\"post\"\n",
    ")\n",
    "x_sentences_test = keras.preprocessing.sequence.pad_sequences(\n",
    "    tokenizer.texts_to_sequences(X_test), maxlen=maxlen, padding=\"post\"\n",
    ")\n",
    "num_words = len(tokenizer.word_index) + 1\n",
    "print(\"Number of unique words: %i\" % num_words)\n",
    "\n",
    "# matrice d'embedding\n",
    "print(\"Create Embedding matrix ...\")\n",
    "word_index = tokenizer.word_index\n",
    "vocab_size = len(word_index) + 1\n",
    "embedding_matrix = np.zeros((vocab_size, w2v_size))\n",
    "i = 0\n",
    "j = 0\n",
    "\n",
    "for word, idx in word_index.items():\n",
    "    i += 1\n",
    "    if word in w2v_words:\n",
    "        j += 1\n",
    "        embedding_vector = model_vectors[word]\n",
    "        if embedding_vector is not None:\n",
    "            embedding_matrix[idx] = model_vectors[word]\n",
    "\n",
    "word_rate = np.round(j / i, 4)\n",
    "print(\"Word embedding rate : \", word_rate)\n",
    "print(\"Embedding matrix: %s\" % str(embedding_matrix.shape))"
   ]
  },
  {
   "cell_type": "markdown",
   "id": "95a10e86",
   "metadata": {
    "papermill": {
     "duration": 0.012622,
     "end_time": "2022-12-23T02:31:14.080058",
     "exception": false,
     "start_time": "2022-12-23T02:31:14.067436",
     "status": "completed"
    },
    "tags": []
   },
   "source": [
    "## Creation du modèle"
   ]
  },
  {
   "cell_type": "code",
   "execution_count": 32,
   "id": "50ea84dc",
   "metadata": {
    "execution": {
     "iopub.execute_input": "2022-12-23T02:31:14.107496Z",
     "iopub.status.busy": "2022-12-23T02:31:14.106964Z",
     "iopub.status.idle": "2022-12-23T02:31:14.821606Z",
     "shell.execute_reply": "2022-12-23T02:31:14.820682Z"
    },
    "papermill": {
     "duration": 0.730837,
     "end_time": "2022-12-23T02:31:14.823501",
     "exception": false,
     "start_time": "2022-12-23T02:31:14.092664",
     "status": "completed"
    },
    "tags": []
   },
   "outputs": [
    {
     "name": "stderr",
     "output_type": "stream",
     "text": [
      "2022-12-23 02:31:14.212199: I tensorflow/core/common_runtime/process_util.cc:146] Creating new thread pool with default inter op setting: 2. Tune using inter_op_parallelism_threads for best performance.\n"
     ]
    },
    {
     "name": "stdout",
     "output_type": "stream",
     "text": [
      "Model: \"model\"\n",
      "_________________________________________________________________\n",
      "Layer (type)                 Output Shape              Param #   \n",
      "=================================================================\n",
      "input_2 (InputLayer)         [(None, 30)]              0         \n",
      "_________________________________________________________________\n",
      "embedding (Embedding)        (None, 30, 500)           81829000  \n",
      "_________________________________________________________________\n",
      "global_average_pooling1d (Gl (None, 500)               0         \n",
      "=================================================================\n",
      "Total params: 81,829,000\n",
      "Trainable params: 81,829,000\n",
      "Non-trainable params: 0\n",
      "_________________________________________________________________\n",
      "CPU times: user 921 ms, sys: 690 ms, total: 1.61 s\n",
      "Wall time: 678 ms\n"
     ]
    }
   ],
   "source": [
    "%%time\n",
    "input = keras.layers.Input(shape=(len(x_sentences_train), maxlen), dtype=\"float64\")\n",
    "word_input = keras.layers.Input(shape=(maxlen,), dtype=\"float64\")\n",
    "word_embedding = keras.layers.Embedding(\n",
    "    input_dim=vocab_size,\n",
    "    output_dim=w2v_size,\n",
    "    weights=[embedding_matrix],\n",
    "    input_length=maxlen,\n",
    ")(word_input)\n",
    "word_vec = keras.layers.GlobalAveragePooling1D()(word_embedding)\n",
    "embed_model = keras.models.Model([word_input], word_vec)\n",
    "\n",
    "embed_model.summary()"
   ]
  },
  {
   "cell_type": "code",
   "execution_count": 33,
   "id": "c5f321cf",
   "metadata": {
    "execution": {
     "iopub.execute_input": "2022-12-23T02:31:14.851792Z",
     "iopub.status.busy": "2022-12-23T02:31:14.851280Z",
     "iopub.status.idle": "2022-12-23T02:31:17.724464Z",
     "shell.execute_reply": "2022-12-23T02:31:17.723583Z"
    },
    "papermill": {
     "duration": 2.889743,
     "end_time": "2022-12-23T02:31:17.726607",
     "exception": false,
     "start_time": "2022-12-23T02:31:14.836864",
     "status": "completed"
    },
    "tags": []
   },
   "outputs": [
    {
     "name": "stderr",
     "output_type": "stream",
     "text": [
      "2022-12-23 02:31:15.023976: I tensorflow/compiler/mlir/mlir_graph_optimization_pass.cc:185] None of the MLIR Optimization Passes are enabled (registered 2)\n"
     ]
    },
    {
     "name": "stdout",
     "output_type": "stream",
     "text": [
      "CPU times: user 3.57 s, sys: 472 ms, total: 4.05 s\n",
      "Wall time: 2.86 s\n"
     ]
    },
    {
     "data": {
      "text/plain": [
       "(88831, 500)"
      ]
     },
     "execution_count": 33,
     "metadata": {},
     "output_type": "execute_result"
    }
   ],
   "source": [
    "%%time\n",
    "embeddings = embed_model.predict(x_sentences_train)\n",
    "embeddings.shape"
   ]
  },
  {
   "cell_type": "code",
   "execution_count": 34,
   "id": "c82f6aff",
   "metadata": {
    "execution": {
     "iopub.execute_input": "2022-12-23T02:31:17.755689Z",
     "iopub.status.busy": "2022-12-23T02:31:17.754697Z",
     "iopub.status.idle": "2022-12-23T02:31:18.558348Z",
     "shell.execute_reply": "2022-12-23T02:31:18.557444Z"
    },
    "papermill": {
     "duration": 0.820502,
     "end_time": "2022-12-23T02:31:18.560581",
     "exception": false,
     "start_time": "2022-12-23T02:31:17.740079",
     "status": "completed"
    },
    "tags": []
   },
   "outputs": [
    {
     "name": "stdout",
     "output_type": "stream",
     "text": [
      "CPU times: user 1.11 s, sys: 132 ms, total: 1.25 s\n",
      "Wall time: 789 ms\n"
     ]
    },
    {
     "data": {
      "text/plain": [
       "(29611, 500)"
      ]
     },
     "execution_count": 34,
     "metadata": {},
     "output_type": "execute_result"
    }
   ],
   "source": [
    "%%time\n",
    "embeddings_test = embed_model.predict(x_sentences_test)\n",
    "embeddings_test.shape"
   ]
  },
  {
   "cell_type": "code",
   "execution_count": 35,
   "id": "c7f1f40b",
   "metadata": {
    "execution": {
     "iopub.execute_input": "2022-12-23T02:31:18.589287Z",
     "iopub.status.busy": "2022-12-23T02:31:18.588991Z",
     "iopub.status.idle": "2022-12-23T02:32:57.865337Z",
     "shell.execute_reply": "2022-12-23T02:32:57.863998Z"
    },
    "papermill": {
     "duration": 99.30621,
     "end_time": "2022-12-23T02:32:57.880631",
     "exception": false,
     "start_time": "2022-12-23T02:31:18.574421",
     "status": "completed"
    },
    "tags": []
   },
   "outputs": [
    {
     "name": "stdout",
     "output_type": "stream",
     "text": [
      "CPU times: user 1min 37s, sys: 2.03 s, total: 1min 39s\n",
      "Wall time: 1min 39s\n"
     ]
    }
   ],
   "source": [
    "%%time\n",
    "with ignore_warnings(category=exceptions.ConvergenceWarning):\n",
    "    OvsRSVC_word2vec = multiclass.OneVsRestClassifier(\n",
    "        svm.SVC(cache_size=1080, max_iter=10_000 if LONG else 100, random_state=42)\n",
    "    ).fit(embeddings, y_train)\n",
    "    #    ).fit(embeddings, tags_are_in(df[0:10_000], target_names))"
   ]
  },
  {
   "cell_type": "code",
   "execution_count": 36,
   "id": "bea359c1",
   "metadata": {
    "execution": {
     "iopub.execute_input": "2022-12-23T02:32:57.909639Z",
     "iopub.status.busy": "2022-12-23T02:32:57.909299Z",
     "iopub.status.idle": "2022-12-23T02:33:36.817433Z",
     "shell.execute_reply": "2022-12-23T02:33:36.816535Z"
    },
    "papermill": {
     "duration": 38.938744,
     "end_time": "2022-12-23T02:33:36.832899",
     "exception": false,
     "start_time": "2022-12-23T02:32:57.894155",
     "status": "completed"
    },
    "tags": []
   },
   "outputs": [
    {
     "name": "stdout",
     "output_type": "stream",
     "text": [
      "CPU times: user 38.9 s, sys: 5.03 ms, total: 38.9 s\n",
      "Wall time: 38.9 s\n"
     ]
    },
    {
     "data": {
      "text/plain": [
       "array([[1, 0, 1, ..., 1, 1, 1],\n",
       "       [1, 0, 1, ..., 1, 1, 1],\n",
       "       [1, 0, 1, ..., 1, 1, 1],\n",
       "       ...,\n",
       "       [1, 1, 1, ..., 1, 1, 1],\n",
       "       [1, 0, 1, ..., 1, 1, 1],\n",
       "       [1, 0, 1, ..., 1, 1, 1]])"
      ]
     },
     "execution_count": 36,
     "metadata": {},
     "output_type": "execute_result"
    }
   ],
   "source": [
    "%%time\n",
    "pred_word2vec = OvsRSVC_word2vec.predict(embeddings_test)\n",
    "pred_word2vec"
   ]
  },
  {
   "cell_type": "code",
   "execution_count": 37,
   "id": "04b5056a",
   "metadata": {
    "execution": {
     "iopub.execute_input": "2022-12-23T02:33:36.861459Z",
     "iopub.status.busy": "2022-12-23T02:33:36.861130Z",
     "iopub.status.idle": "2022-12-23T02:33:37.081105Z",
     "shell.execute_reply": "2022-12-23T02:33:37.080275Z"
    },
    "papermill": {
     "duration": 0.236494,
     "end_time": "2022-12-23T02:33:37.082936",
     "exception": false,
     "start_time": "2022-12-23T02:33:36.846442",
     "status": "completed"
    },
    "tags": []
   },
   "outputs": [
    {
     "data": {
      "text/html": [
       "<div>\n",
       "<style scoped>\n",
       "    .dataframe tbody tr th:only-of-type {\n",
       "        vertical-align: middle;\n",
       "    }\n",
       "\n",
       "    .dataframe tbody tr th {\n",
       "        vertical-align: top;\n",
       "    }\n",
       "\n",
       "    .dataframe thead th {\n",
       "        text-align: right;\n",
       "    }\n",
       "</style>\n",
       "<table border=\"1\" class=\"dataframe\">\n",
       "  <thead>\n",
       "    <tr style=\"text-align: right;\">\n",
       "      <th></th>\n",
       "      <th>precision</th>\n",
       "      <th>recall</th>\n",
       "      <th>f1-score</th>\n",
       "      <th>support</th>\n",
       "    </tr>\n",
       "  </thead>\n",
       "  <tbody>\n",
       "    <tr>\n",
       "      <th>c#</th>\n",
       "      <td>0.338184</td>\n",
       "      <td>0.194069</td>\n",
       "      <td>0.246615</td>\n",
       "      <td>3473.0</td>\n",
       "    </tr>\n",
       "    <tr>\n",
       "      <th>java</th>\n",
       "      <td>0.120329</td>\n",
       "      <td>0.893198</td>\n",
       "      <td>0.212086</td>\n",
       "      <td>3558.0</td>\n",
       "    </tr>\n",
       "    <tr>\n",
       "      <th>javascript</th>\n",
       "      <td>0.116071</td>\n",
       "      <td>0.928188</td>\n",
       "      <td>0.206339</td>\n",
       "      <td>3356.0</td>\n",
       "    </tr>\n",
       "    <tr>\n",
       "      <th>weighted avg</th>\n",
       "      <td>0.096959</td>\n",
       "      <td>0.773211</td>\n",
       "      <td>0.131413</td>\n",
       "      <td>33044.0</td>\n",
       "    </tr>\n",
       "    <tr>\n",
       "      <th>python</th>\n",
       "      <td>0.085328</td>\n",
       "      <td>0.877489</td>\n",
       "      <td>0.155532</td>\n",
       "      <td>2612.0</td>\n",
       "    </tr>\n",
       "    <tr>\n",
       "      <th>android</th>\n",
       "      <td>0.079929</td>\n",
       "      <td>0.022005</td>\n",
       "      <td>0.034509</td>\n",
       "      <td>2045.0</td>\n",
       "    </tr>\n",
       "    <tr>\n",
       "      <th>macro avg</th>\n",
       "      <td>0.064504</td>\n",
       "      <td>0.826979</td>\n",
       "      <td>0.096451</td>\n",
       "      <td>33044.0</td>\n",
       "    </tr>\n",
       "    <tr>\n",
       "      <th>ios</th>\n",
       "      <td>0.063977</td>\n",
       "      <td>0.916848</td>\n",
       "      <td>0.119607</td>\n",
       "      <td>1840.0</td>\n",
       "    </tr>\n",
       "    <tr>\n",
       "      <th>c++</th>\n",
       "      <td>0.063242</td>\n",
       "      <td>0.859470</td>\n",
       "      <td>0.117815</td>\n",
       "      <td>1964.0</td>\n",
       "    </tr>\n",
       "    <tr>\n",
       "      <th>html</th>\n",
       "      <td>0.061781</td>\n",
       "      <td>0.927066</td>\n",
       "      <td>0.115842</td>\n",
       "      <td>1755.0</td>\n",
       "    </tr>\n",
       "    <tr>\n",
       "      <th>php</th>\n",
       "      <td>0.056085</td>\n",
       "      <td>0.911494</td>\n",
       "      <td>0.105668</td>\n",
       "      <td>1627.0</td>\n",
       "    </tr>\n",
       "    <tr>\n",
       "      <th>.net</th>\n",
       "      <td>0.054625</td>\n",
       "      <td>0.919057</td>\n",
       "      <td>0.103122</td>\n",
       "      <td>1569.0</td>\n",
       "    </tr>\n",
       "    <tr>\n",
       "      <th>jquery</th>\n",
       "      <td>0.053235</td>\n",
       "      <td>0.914824</td>\n",
       "      <td>0.100615</td>\n",
       "      <td>1538.0</td>\n",
       "    </tr>\n",
       "    <tr>\n",
       "      <th>micro avg</th>\n",
       "      <td>0.050567</td>\n",
       "      <td>0.773211</td>\n",
       "      <td>0.094925</td>\n",
       "      <td>33044.0</td>\n",
       "    </tr>\n",
       "    <tr>\n",
       "      <th>samples avg</th>\n",
       "      <td>0.049109</td>\n",
       "      <td>0.601127</td>\n",
       "      <td>0.087196</td>\n",
       "      <td>33044.0</td>\n",
       "    </tr>\n",
       "    <tr>\n",
       "      <th>css</th>\n",
       "      <td>0.038613</td>\n",
       "      <td>0.900973</td>\n",
       "      <td>0.074053</td>\n",
       "      <td>1131.0</td>\n",
       "    </tr>\n",
       "    <tr>\n",
       "      <th>objective-c</th>\n",
       "      <td>0.030853</td>\n",
       "      <td>0.920045</td>\n",
       "      <td>0.059705</td>\n",
       "      <td>888.0</td>\n",
       "    </tr>\n",
       "    <tr>\n",
       "      <th>sql</th>\n",
       "      <td>0.030466</td>\n",
       "      <td>0.928736</td>\n",
       "      <td>0.058997</td>\n",
       "      <td>870.0</td>\n",
       "    </tr>\n",
       "    <tr>\n",
       "      <th>asp.net</th>\n",
       "      <td>0.028681</td>\n",
       "      <td>0.940373</td>\n",
       "      <td>0.055664</td>\n",
       "      <td>805.0</td>\n",
       "    </tr>\n",
       "    <tr>\n",
       "      <th>iphone</th>\n",
       "      <td>0.028419</td>\n",
       "      <td>0.929368</td>\n",
       "      <td>0.055151</td>\n",
       "      <td>807.0</td>\n",
       "    </tr>\n",
       "    <tr>\n",
       "      <th>c</th>\n",
       "      <td>0.025305</td>\n",
       "      <td>0.754802</td>\n",
       "      <td>0.048968</td>\n",
       "      <td>885.0</td>\n",
       "    </tr>\n",
       "    <tr>\n",
       "      <th>mysql</th>\n",
       "      <td>0.023934</td>\n",
       "      <td>0.919708</td>\n",
       "      <td>0.046655</td>\n",
       "      <td>685.0</td>\n",
       "    </tr>\n",
       "    <tr>\n",
       "      <th>node.js</th>\n",
       "      <td>0.023306</td>\n",
       "      <td>0.900293</td>\n",
       "      <td>0.045436</td>\n",
       "      <td>682.0</td>\n",
       "    </tr>\n",
       "    <tr>\n",
       "      <th>linux</th>\n",
       "      <td>0.022461</td>\n",
       "      <td>0.870588</td>\n",
       "      <td>0.043792</td>\n",
       "      <td>680.0</td>\n",
       "    </tr>\n",
       "    <tr>\n",
       "      <th>git</th>\n",
       "      <td>0.009755</td>\n",
       "      <td>0.937956</td>\n",
       "      <td>0.019310</td>\n",
       "      <td>274.0</td>\n",
       "    </tr>\n",
       "  </tbody>\n",
       "</table>\n",
       "</div>"
      ],
      "text/plain": [
       "              precision    recall  f1-score  support\n",
       "c#             0.338184  0.194069  0.246615   3473.0\n",
       "java           0.120329  0.893198  0.212086   3558.0\n",
       "javascript     0.116071  0.928188  0.206339   3356.0\n",
       "weighted avg   0.096959  0.773211  0.131413  33044.0\n",
       "python         0.085328  0.877489  0.155532   2612.0\n",
       "android        0.079929  0.022005  0.034509   2045.0\n",
       "macro avg      0.064504  0.826979  0.096451  33044.0\n",
       "ios            0.063977  0.916848  0.119607   1840.0\n",
       "c++            0.063242  0.859470  0.117815   1964.0\n",
       "html           0.061781  0.927066  0.115842   1755.0\n",
       "php            0.056085  0.911494  0.105668   1627.0\n",
       ".net           0.054625  0.919057  0.103122   1569.0\n",
       "jquery         0.053235  0.914824  0.100615   1538.0\n",
       "micro avg      0.050567  0.773211  0.094925  33044.0\n",
       "samples avg    0.049109  0.601127  0.087196  33044.0\n",
       "css            0.038613  0.900973  0.074053   1131.0\n",
       "objective-c    0.030853  0.920045  0.059705    888.0\n",
       "sql            0.030466  0.928736  0.058997    870.0\n",
       "asp.net        0.028681  0.940373  0.055664    805.0\n",
       "iphone         0.028419  0.929368  0.055151    807.0\n",
       "c              0.025305  0.754802  0.048968    885.0\n",
       "mysql          0.023934  0.919708  0.046655    685.0\n",
       "node.js        0.023306  0.900293  0.045436    682.0\n",
       "linux          0.022461  0.870588  0.043792    680.0\n",
       "git            0.009755  0.937956  0.019310    274.0"
      ]
     },
     "execution_count": 37,
     "metadata": {},
     "output_type": "execute_result"
    }
   ],
   "source": [
    "# scores_word2vec = save_score(\n",
    "#     tags_are_in(df[0:10_000], target_names), pred_word2vec, target_names, \"word2vec\"\n",
    "# )\n",
    "scores_word2vec = save_score(y_test,pred_word2vec,target_names, \"word2vec\")\n",
    "scores_word2vec.sort_values(by=\"precision\", ascending=False)"
   ]
  },
  {
   "cell_type": "markdown",
   "id": "4887a8ab",
   "metadata": {
    "papermill": {
     "duration": 0.01331,
     "end_time": "2022-12-23T02:33:37.110149",
     "exception": false,
     "start_time": "2022-12-23T02:33:37.096839",
     "status": "completed"
    },
    "tags": []
   },
   "source": [
    "# BERT"
   ]
  },
  {
   "cell_type": "markdown",
   "id": "7053d9bf",
   "metadata": {
    "papermill": {
     "duration": 0.013308,
     "end_time": "2022-12-23T02:33:37.136861",
     "exception": false,
     "start_time": "2022-12-23T02:33:37.123553",
     "status": "completed"
    },
    "tags": []
   },
   "source": [
    "# USE"
   ]
  }
 ],
 "metadata": {
  "kernelspec": {
   "display_name": "Python 3",
   "language": "python",
   "name": "python3"
  },
  "language_info": {
   "codemirror_mode": {
    "name": "ipython",
    "version": 3
   },
   "file_extension": ".py",
   "mimetype": "text/x-python",
   "name": "python",
   "nbconvert_exporter": "python",
   "pygments_lexer": "ipython3",
   "version": "3.7.12"
  },
  "papermill": {
   "default_parameters": {},
   "duration": 21874.932807,
   "end_time": "2022-12-23T02:33:40.029955",
   "environment_variables": {},
   "exception": null,
   "input_path": "__notebook__.ipynb",
   "output_path": "__notebook__.ipynb",
   "parameters": {},
   "start_time": "2022-12-22T20:29:05.097148",
   "version": "2.3.4"
  },
  "widgets": {
   "application/vnd.jupyter.widget-state+json": {
    "state": {
     "44e59315bb3b4a54879c720e4437b9d8": {
      "model_module": "@jupyter-widgets/controls",
      "model_module_version": "1.5.0",
      "model_name": "VBoxModel",
      "state": {
       "_dom_classes": [
        "widget-interact"
       ],
       "_model_module": "@jupyter-widgets/controls",
       "_model_module_version": "1.5.0",
       "_model_name": "VBoxModel",
       "_view_count": null,
       "_view_module": "@jupyter-widgets/controls",
       "_view_module_version": "1.5.0",
       "_view_name": "VBoxView",
       "box_style": "",
       "children": [
        "IPY_MODEL_8a56b5ca89e5431c99632b6740cf75f4",
        "IPY_MODEL_bc21a5a47c0e4917a859fb2f64aa8220"
       ],
       "layout": "IPY_MODEL_bc91b6e70e604235abca393b7dc027f2"
      }
     },
     "4c5e68ed88b14b5ebd4c6a91a9327e21": {
      "model_module": "@jupyter-widgets/controls",
      "model_module_version": "1.5.0",
      "model_name": "SliderStyleModel",
      "state": {
       "_model_module": "@jupyter-widgets/controls",
       "_model_module_version": "1.5.0",
       "_model_name": "SliderStyleModel",
       "_view_count": null,
       "_view_module": "@jupyter-widgets/base",
       "_view_module_version": "1.2.0",
       "_view_name": "StyleView",
       "description_width": "",
       "handle_color": null
      }
     },
     "5332656201514f0aab9c899e0ebcb1fc": {
      "model_module": "@jupyter-widgets/base",
      "model_module_version": "1.2.0",
      "model_name": "LayoutModel",
      "state": {
       "_model_module": "@jupyter-widgets/base",
       "_model_module_version": "1.2.0",
       "_model_name": "LayoutModel",
       "_view_count": null,
       "_view_module": "@jupyter-widgets/base",
       "_view_module_version": "1.2.0",
       "_view_name": "LayoutView",
       "align_content": null,
       "align_items": null,
       "align_self": null,
       "border": null,
       "bottom": null,
       "display": null,
       "flex": null,
       "flex_flow": null,
       "grid_area": null,
       "grid_auto_columns": null,
       "grid_auto_flow": null,
       "grid_auto_rows": null,
       "grid_column": null,
       "grid_gap": null,
       "grid_row": null,
       "grid_template_areas": null,
       "grid_template_columns": null,
       "grid_template_rows": null,
       "height": null,
       "justify_content": null,
       "justify_items": null,
       "left": null,
       "margin": null,
       "max_height": null,
       "max_width": null,
       "min_height": null,
       "min_width": null,
       "object_fit": null,
       "object_position": null,
       "order": null,
       "overflow": null,
       "overflow_x": null,
       "overflow_y": null,
       "padding": null,
       "right": null,
       "top": null,
       "visibility": null,
       "width": null
      }
     },
     "897e87a4b4a542a791c0f0692a71ce2a": {
      "model_module": "@jupyter-widgets/base",
      "model_module_version": "1.2.0",
      "model_name": "LayoutModel",
      "state": {
       "_model_module": "@jupyter-widgets/base",
       "_model_module_version": "1.2.0",
       "_model_name": "LayoutModel",
       "_view_count": null,
       "_view_module": "@jupyter-widgets/base",
       "_view_module_version": "1.2.0",
       "_view_name": "LayoutView",
       "align_content": null,
       "align_items": null,
       "align_self": null,
       "border": null,
       "bottom": null,
       "display": null,
       "flex": null,
       "flex_flow": null,
       "grid_area": null,
       "grid_auto_columns": null,
       "grid_auto_flow": null,
       "grid_auto_rows": null,
       "grid_column": null,
       "grid_gap": null,
       "grid_row": null,
       "grid_template_areas": null,
       "grid_template_columns": null,
       "grid_template_rows": null,
       "height": null,
       "justify_content": null,
       "justify_items": null,
       "left": null,
       "margin": null,
       "max_height": null,
       "max_width": null,
       "min_height": null,
       "min_width": null,
       "object_fit": null,
       "object_position": null,
       "order": null,
       "overflow": null,
       "overflow_x": null,
       "overflow_y": null,
       "padding": null,
       "right": null,
       "top": null,
       "visibility": null,
       "width": null
      }
     },
     "8a56b5ca89e5431c99632b6740cf75f4": {
      "model_module": "@jupyter-widgets/controls",
      "model_module_version": "1.5.0",
      "model_name": "IntSliderModel",
      "state": {
       "_dom_classes": [],
       "_model_module": "@jupyter-widgets/controls",
       "_model_module_version": "1.5.0",
       "_model_name": "IntSliderModel",
       "_view_count": null,
       "_view_module": "@jupyter-widgets/controls",
       "_view_module_version": "1.5.0",
       "_view_name": "IntSliderView",
       "continuous_update": true,
       "description": "i",
       "description_tooltip": null,
       "disabled": false,
       "layout": "IPY_MODEL_897e87a4b4a542a791c0f0692a71ce2a",
       "max": 118441,
       "min": 0,
       "orientation": "horizontal",
       "readout": true,
       "readout_format": "d",
       "step": 1,
       "style": "IPY_MODEL_4c5e68ed88b14b5ebd4c6a91a9327e21",
       "value": 59220
      }
     },
     "bc21a5a47c0e4917a859fb2f64aa8220": {
      "model_module": "@jupyter-widgets/output",
      "model_module_version": "1.0.0",
      "model_name": "OutputModel",
      "state": {
       "_dom_classes": [],
       "_model_module": "@jupyter-widgets/output",
       "_model_module_version": "1.0.0",
       "_model_name": "OutputModel",
       "_view_count": null,
       "_view_module": "@jupyter-widgets/output",
       "_view_module_version": "1.0.0",
       "_view_name": "OutputView",
       "layout": "IPY_MODEL_5332656201514f0aab9c899e0ebcb1fc",
       "msg_id": "",
       "outputs": [
        {
         "name": "stdout",
         "output_type": "stream",
         "text": "Title:How to change culture to a DateTimepicker or calendar control in .Net\n******************************\nTitle_clean:change culture datetimepicker calendar control\n******************************\nBody:<p>How to set internationalization to a <code>DateTimepicker</code> or <code>Calendar WinForm</code> control in .Net when the desire culture is different to the one installed in the PC?</p>\n\n******************************\nBody_clean:set internationalization datetimepicker calendar winform control .net desire culture instal pc\n******************************\nCode:DateTimepicker Calendar WinForm\n******************************\nTags:c# .net internationalization datetimepicker culture\n"
        }
       ]
      }
     },
     "bc91b6e70e604235abca393b7dc027f2": {
      "model_module": "@jupyter-widgets/base",
      "model_module_version": "1.2.0",
      "model_name": "LayoutModel",
      "state": {
       "_model_module": "@jupyter-widgets/base",
       "_model_module_version": "1.2.0",
       "_model_name": "LayoutModel",
       "_view_count": null,
       "_view_module": "@jupyter-widgets/base",
       "_view_module_version": "1.2.0",
       "_view_name": "LayoutView",
       "align_content": null,
       "align_items": null,
       "align_self": null,
       "border": null,
       "bottom": null,
       "display": null,
       "flex": null,
       "flex_flow": null,
       "grid_area": null,
       "grid_auto_columns": null,
       "grid_auto_flow": null,
       "grid_auto_rows": null,
       "grid_column": null,
       "grid_gap": null,
       "grid_row": null,
       "grid_template_areas": null,
       "grid_template_columns": null,
       "grid_template_rows": null,
       "height": null,
       "justify_content": null,
       "justify_items": null,
       "left": null,
       "margin": null,
       "max_height": null,
       "max_width": null,
       "min_height": null,
       "min_width": null,
       "object_fit": null,
       "object_position": null,
       "order": null,
       "overflow": null,
       "overflow_x": null,
       "overflow_y": null,
       "padding": null,
       "right": null,
       "top": null,
       "visibility": null,
       "width": null
      }
     }
    },
    "version_major": 2,
    "version_minor": 0
   }
  }
 },
 "nbformat": 4,
 "nbformat_minor": 5
}
