{
 "cells": [
  {
   "cell_type": "markdown",
   "id": "5a21735a",
   "metadata": {
    "papermill": {
     "duration": 0.027053,
     "end_time": "2023-01-04T13:55:27.495733",
     "exception": false,
     "start_time": "2023-01-04T13:55:27.468680",
     "status": "completed"
    },
    "tags": []
   },
   "source": [
    "# Index\n",
    "* [Import](#index)\n",
    "* [Tokenization](#Tokenization)\n",
    "* [CountVectorizer](#CountVectorizer)\n",
    "* [PreprocessPipeline](#PreprocessPipeline)\n",
    "* [OvsRest](#OvsRest)\n",
    "    - [LogisticRegression](#LogisticRegression)\n",
    "    - [SVC](#SVC)\n",
    "* [Word2Vec](#Word2Vec)\n",
    "* [BERT](#BERT)\n",
    "* [USE](#USE)"
   ]
  },
  {
   "cell_type": "code",
   "execution_count": 1,
   "id": "a30f9696",
   "metadata": {
    "_cell_guid": "b1076dfc-b9ad-4769-8c92-a6c4dae69d19",
    "_uuid": "8f2839f25d086af736a60e9eeb907d3b93b6e0e5",
    "execution": {
     "iopub.execute_input": "2023-01-04T13:55:27.547520Z",
     "iopub.status.busy": "2023-01-04T13:55:27.546999Z",
     "iopub.status.idle": "2023-01-04T13:55:41.908432Z",
     "shell.execute_reply": "2023-01-04T13:55:41.907315Z"
    },
    "papermill": {
     "duration": 14.390726,
     "end_time": "2023-01-04T13:55:41.910666",
     "exception": false,
     "start_time": "2023-01-04T13:55:27.519940",
     "status": "completed"
    },
    "tags": []
   },
   "outputs": [
    {
     "name": "stderr",
     "output_type": "stream",
     "text": [
      "2023-01-04 13:55:36.345279: I tensorflow/stream_executor/cuda/cuda_gpu_executor.cc:937] successful NUMA node read from SysFS had negative value (-1), but there must be at least one NUMA node, so returning NUMA node zero\n",
      "2023-01-04 13:55:36.346379: I tensorflow/stream_executor/cuda/cuda_gpu_executor.cc:937] successful NUMA node read from SysFS had negative value (-1), but there must be at least one NUMA node, so returning NUMA node zero\n",
      "2023-01-04 13:55:36.347085: I tensorflow/stream_executor/cuda/cuda_gpu_executor.cc:937] successful NUMA node read from SysFS had negative value (-1), but there must be at least one NUMA node, so returning NUMA node zero\n",
      "2023-01-04 13:55:36.349609: I tensorflow/core/platform/cpu_feature_guard.cc:142] This TensorFlow binary is optimized with oneAPI Deep Neural Network Library (oneDNN) to use the following CPU instructions in performance-critical operations:  AVX2 AVX512F FMA\n",
      "To enable them in other operations, rebuild TensorFlow with the appropriate compiler flags.\n",
      "2023-01-04 13:55:36.349979: I tensorflow/stream_executor/cuda/cuda_gpu_executor.cc:937] successful NUMA node read from SysFS had negative value (-1), but there must be at least one NUMA node, so returning NUMA node zero\n",
      "2023-01-04 13:55:36.350771: I tensorflow/stream_executor/cuda/cuda_gpu_executor.cc:937] successful NUMA node read from SysFS had negative value (-1), but there must be at least one NUMA node, so returning NUMA node zero\n",
      "2023-01-04 13:55:36.351446: I tensorflow/stream_executor/cuda/cuda_gpu_executor.cc:937] successful NUMA node read from SysFS had negative value (-1), but there must be at least one NUMA node, so returning NUMA node zero\n",
      "2023-01-04 13:55:41.519809: I tensorflow/stream_executor/cuda/cuda_gpu_executor.cc:937] successful NUMA node read from SysFS had negative value (-1), but there must be at least one NUMA node, so returning NUMA node zero\n",
      "2023-01-04 13:55:41.520716: I tensorflow/stream_executor/cuda/cuda_gpu_executor.cc:937] successful NUMA node read from SysFS had negative value (-1), but there must be at least one NUMA node, so returning NUMA node zero\n",
      "2023-01-04 13:55:41.521381: I tensorflow/stream_executor/cuda/cuda_gpu_executor.cc:937] successful NUMA node read from SysFS had negative value (-1), but there must be at least one NUMA node, so returning NUMA node zero\n",
      "2023-01-04 13:55:41.521970: I tensorflow/core/common_runtime/gpu/gpu_device.cc:1510] Created device /job:localhost/replica:0/task:0/device:GPU:0 with 15043 MB memory:  -> device: 0, name: Tesla P100-PCIE-16GB, pci bus id: 0000:00:04.0, compute capability: 6.0\n"
     ]
    }
   ],
   "source": [
    "import time\n",
    "import json\n",
    "import os\n",
    "\n",
    "# from joblib import dump, load, Memory\n",
    "import joblib\n",
    "import dill\n",
    "import weakref\n",
    "\n",
    "# import warnings\n",
    "\n",
    "import numpy as np\n",
    "import pandas as pd\n",
    "import gensim\n",
    "import matplotlib.pyplot as plt\n",
    "\n",
    "# from gensim import (\n",
    "#     corpora,\n",
    "# )  # https://pypi.org/project/gensim/ #https://radimrehurek.com/gensim/auto_examples/core/run_topics_and_transformations.html#sphx-glr-auto-examples-core-run-topics-and-transformations-py\n",
    "from sklearn import (\n",
    "    metrics,\n",
    "    feature_extraction,\n",
    "    linear_model,\n",
    "    model_selection,\n",
    "    preprocessing,\n",
    "    cluster,\n",
    "    decomposition,\n",
    "    multiclass,\n",
    "    svm,\n",
    "    pipeline,\n",
    "    exceptions,\n",
    "    manifold,\n",
    ")\n",
    "from sklearn.utils._testing import ignore_warnings\n",
    "from sklearn.base import BaseEstimator, TransformerMixin\n",
    "import tensorflow as tf\n",
    "from transformers import (\n",
    "    AutoTokenizer,\n",
    "    TFAutoModel,\n",
    "    AutoModel,\n",
    "    BertTokenizer,\n",
    "    TFBertModel,\n",
    "    BertConfig,\n",
    ")  # BertModel\n",
    "import transformers\n",
    "from tokenizers import BertWordPieceTokenizer\n",
    "\n",
    "\n",
    "# import nlpk"
   ]
  },
  {
   "cell_type": "markdown",
   "id": "6e6279cc",
   "metadata": {
    "papermill": {
     "duration": 0.016246,
     "end_time": "2023-01-04T13:55:41.942778",
     "exception": false,
     "start_time": "2023-01-04T13:55:41.926532",
     "status": "completed"
    },
    "tags": []
   },
   "source": [
    "test https://scikit-learn.org/stable/modules/multiclass.html autre stategie que OneVsRest\n",
    "https://keras.io/examples/nlp/text_extraction_with_bert/"
   ]
  },
  {
   "cell_type": "code",
   "execution_count": 2,
   "id": "8e448a99",
   "metadata": {
    "_kg_hide-output": true,
    "execution": {
     "iopub.execute_input": "2023-01-04T13:55:41.977223Z",
     "iopub.status.busy": "2023-01-04T13:55:41.974980Z",
     "iopub.status.idle": "2023-01-04T13:55:53.346732Z",
     "shell.execute_reply": "2023-01-04T13:55:53.345194Z"
    },
    "papermill": {
     "duration": 11.390516,
     "end_time": "2023-01-04T13:55:53.348963",
     "exception": false,
     "start_time": "2023-01-04T13:55:41.958447",
     "status": "completed"
    },
    "tags": []
   },
   "outputs": [
    {
     "name": "stdout",
     "output_type": "stream",
     "text": [
      "\u001b[33mWARNING: Running pip as the 'root' user can result in broken permissions and conflicting behaviour with the system package manager. It is recommended to use a virtual environment instead: https://pip.pypa.io/warnings/venv\u001b[0m\u001b[33m\r\n",
      "\u001b[0mNote: you may need to restart the kernel to use updated packages.\n"
     ]
    }
   ],
   "source": [
    "pip install -q jupyter-black jupyter"
   ]
  },
  {
   "cell_type": "code",
   "execution_count": 3,
   "id": "c7606c56",
   "metadata": {
    "execution": {
     "iopub.execute_input": "2023-01-04T13:55:53.383076Z",
     "iopub.status.busy": "2023-01-04T13:55:53.381511Z",
     "iopub.status.idle": "2023-01-04T13:55:53.517845Z",
     "shell.execute_reply": "2023-01-04T13:55:53.516803Z"
    },
    "papermill": {
     "duration": 0.156036,
     "end_time": "2023-01-04T13:55:53.520906",
     "exception": false,
     "start_time": "2023-01-04T13:55:53.364870",
     "status": "completed"
    },
    "tags": []
   },
   "outputs": [
    {
     "data": {
      "text/html": [
       "\n",
       "                <script type=\"application/javascript\" id=\"jupyter_black\">\n",
       "                (function() {\n",
       "                    if (window.IPython === undefined) {\n",
       "                        return\n",
       "                    }\n",
       "                    var msg = \"WARNING: it looks like you might have loaded \" +\n",
       "                        \"jupyter_black in a non-lab notebook with \" +\n",
       "                        \"`is_lab=True`. Please double check, and if \" +\n",
       "                        \"loading with `%load_ext` please review the README!\"\n",
       "                    console.log(msg)\n",
       "                    alert(msg)\n",
       "                })()\n",
       "                </script>\n",
       "                "
      ],
      "text/plain": [
       "<IPython.core.display.HTML object>"
      ]
     },
     "metadata": {},
     "output_type": "display_data"
    }
   ],
   "source": [
    "# for black formating\n",
    "import jupyter_black  # pip install jupyter-black jupyter\n",
    "\n",
    "jupyter_black.load()\n",
    "# ??jupyter_black.load #show config"
   ]
  },
  {
   "cell_type": "code",
   "execution_count": 4,
   "id": "ec53b28b",
   "metadata": {
    "execution": {
     "iopub.execute_input": "2023-01-04T13:55:53.555818Z",
     "iopub.status.busy": "2023-01-04T13:55:53.554875Z",
     "iopub.status.idle": "2023-01-04T13:56:01.618113Z",
     "shell.execute_reply": "2023-01-04T13:56:01.616081Z"
    },
    "papermill": {
     "duration": 8.083004,
     "end_time": "2023-01-04T13:56:01.620405",
     "exception": false,
     "start_time": "2023-01-04T13:55:53.537401",
     "status": "completed"
    },
    "tags": []
   },
   "outputs": [
    {
     "name": "stdout",
     "output_type": "stream",
     "text": [
      "<class 'pandas.core.frame.DataFrame'>\n",
      "Int64Index: 118442 entries, 0 to 118441\n",
      "Data columns (total 12 columns):\n",
      " #   Column       Non-Null Count   Dtype \n",
      "---  ------       --------------   ----- \n",
      " 0   Id           118442 non-null  int64 \n",
      " 1   Title        118442 non-null  object\n",
      " 2   Body         118442 non-null  object\n",
      " 3   0            118440 non-null  object\n",
      " 4   1            118383 non-null  object\n",
      " 5   2            118292 non-null  object\n",
      " 6   3            118292 non-null  object\n",
      " 7   4            76389 non-null   object\n",
      " 8   5            4 non-null       object\n",
      " 9   Title_clean  118389 non-null  object\n",
      " 10  Code         88202 non-null   object\n",
      " 11  Body_clean   118392 non-null  object\n",
      "dtypes: int64(1), object(11)\n",
      "memory usage: 11.7+ MB\n"
     ]
    }
   ],
   "source": [
    "df = pd.read_csv(\n",
    "    \"/kaggle/input/p5-nlp/stackoverflowCleaned.csv\", index_col=0, low_memory=False\n",
    ")\n",
    "df.info()"
   ]
  },
  {
   "cell_type": "code",
   "execution_count": 5,
   "id": "5dc2174f",
   "metadata": {
    "execution": {
     "iopub.execute_input": "2023-01-04T13:56:01.654329Z",
     "iopub.status.busy": "2023-01-04T13:56:01.654029Z",
     "iopub.status.idle": "2023-01-04T13:56:01.710753Z",
     "shell.execute_reply": "2023-01-04T13:56:01.709867Z"
    },
    "papermill": {
     "duration": 0.076249,
     "end_time": "2023-01-04T13:56:01.713168",
     "exception": false,
     "start_time": "2023-01-04T13:56:01.636919",
     "status": "completed"
    },
    "tags": []
   },
   "outputs": [],
   "source": [
    "LONG = False\n",
    "description = {\n",
    "    \"title\": \"Keras Sequential Model with Word2Vec (kerasPipeline) i give up trying to fit keras into sklearn pipeline\",\n",
    "    \"CountVectorizer\": {\"min_df\": 0.00001, \"max_df\": 0.995, \"max_features\": None},\n",
    "    \"StandardScaler\": {\"actif\": False},\n",
    "    \"TruncatedSVD\": {\"actif\": False, \"n_components\": 1_000},\n",
    "    \"LogisticRegression\": {\"actif\": False},\n",
    "    \"TfidfOvRSVC\": {\"actif\": False, \"max_iter\": 100},\n",
    "    \"kerasPipeline\": {\n",
    "        \"actif\": False,\n",
    "        \"TextVectorization__max_tokens\": 200_000,  # 20_000,\n",
    "        \"TextVectorization__output_sequence_length\": 50,  # 20\n",
    "        \"Embedding__output_dim\": 500,\n",
    "        \"Word2Vec__min_count\": 1,\n",
    "        \"Word2Vec__window\": 20,\n",
    "        \"Word2Vec__epochs\": 100,  # 100,\n",
    "        \"fit__epochs\": 20,  # 15\n",
    "    },\n",
    "    \"Word2Vec\": {\n",
    "        \"actif\": False,\n",
    "        \"min_count\": 1,\n",
    "        \"size\": 500,\n",
    "        \"window\": 10,\n",
    "        \"epochs\": 100,\n",
    "        \"maxlen\": 50,\n",
    "        \"max_iter\": 6_000,\n",
    "    },\n",
    "    \"BERT\": {\n",
    "        \"actif\": True,\n",
    "        \"max_length\": 50,\n",
    "        \"epochs\": 5,\n",
    "    },\n",
    "}"
   ]
  },
  {
   "cell_type": "code",
   "execution_count": 6,
   "id": "71800365",
   "metadata": {
    "execution": {
     "iopub.execute_input": "2023-01-04T13:56:01.746785Z",
     "iopub.status.busy": "2023-01-04T13:56:01.745982Z",
     "iopub.status.idle": "2023-01-04T13:56:01.751907Z",
     "shell.execute_reply": "2023-01-04T13:56:01.750872Z"
    },
    "papermill": {
     "duration": 0.025117,
     "end_time": "2023-01-04T13:56:01.754107",
     "exception": false,
     "start_time": "2023-01-04T13:56:01.728990",
     "status": "completed"
    },
    "tags": []
   },
   "outputs": [],
   "source": [
    "# # ultra fast\n",
    "# description[\"kerasPipeline\"][\"fit__epochs\"] = 1\n",
    "# description[\"kerasPipeline\"][\"TextVectorization__max_tokens\"] = 100\n",
    "# description[\"kerasPipeline\"][\"TextVectorization__output_sequence_length\"] = 5\n",
    "# description[\"kerasPipeline\"][\"Word2Vec__epochs\"] = 1\n",
    "# description[\"kerasPipeline\"][\"Embedding__output_dim\"] = 10"
   ]
  },
  {
   "cell_type": "code",
   "execution_count": 7,
   "id": "a176d500",
   "metadata": {
    "execution": {
     "iopub.execute_input": "2023-01-04T13:56:01.786722Z",
     "iopub.status.busy": "2023-01-04T13:56:01.786427Z",
     "iopub.status.idle": "2023-01-04T13:56:01.805158Z",
     "shell.execute_reply": "2023-01-04T13:56:01.804292Z"
    },
    "papermill": {
     "duration": 0.037377,
     "end_time": "2023-01-04T13:56:01.807066",
     "exception": false,
     "start_time": "2023-01-04T13:56:01.769689",
     "status": "completed"
    },
    "tags": []
   },
   "outputs": [],
   "source": [
    "class colors:\n",
    "    PURPLE = \"\\033[95m\"\n",
    "    BLUE = \"\\033[94m\"\n",
    "    CYAN = \"\\033[96m\"\n",
    "    GREEN = \"\\033[92m\"\n",
    "    YELLOW = \"\\033[93m\"\n",
    "    RED = \"\\033[91m\"\n",
    "    ENDC = \"\\033[0m\"\n",
    "    BOLD = \"\\033[1m\"\n",
    "    UNDERLINE = \"\\033[4m\""
   ]
  },
  {
   "cell_type": "markdown",
   "id": "7e633628",
   "metadata": {
    "papermill": {
     "duration": 0.01567,
     "end_time": "2023-01-04T13:56:01.838601",
     "exception": false,
     "start_time": "2023-01-04T13:56:01.822931",
     "status": "completed"
    },
    "tags": []
   },
   "source": [
    "# Tokenization"
   ]
  },
  {
   "cell_type": "code",
   "execution_count": 8,
   "id": "140b29a0",
   "metadata": {
    "execution": {
     "iopub.execute_input": "2023-01-04T13:56:01.872100Z",
     "iopub.status.busy": "2023-01-04T13:56:01.871187Z",
     "iopub.status.idle": "2023-01-04T13:56:01.919421Z",
     "shell.execute_reply": "2023-01-04T13:56:01.918290Z"
    },
    "papermill": {
     "duration": 0.067666,
     "end_time": "2023-01-04T13:56:01.922348",
     "exception": false,
     "start_time": "2023-01-04T13:56:01.854682",
     "status": "completed"
    },
    "tags": []
   },
   "outputs": [
    {
     "data": {
      "application/vnd.jupyter.widget-view+json": {
       "model_id": "da5f3edc82bd4c9c8b958ede527442f3",
       "version_major": 2,
       "version_minor": 0
      },
      "text/plain": [
       "interactive(children=(IntSlider(value=59220, description='i', max=118441), Output()), _dom_classes=('widget-in…"
      ]
     },
     "metadata": {},
     "output_type": "display_data"
    }
   ],
   "source": [
    "from ipywidgets import interact\n",
    "\n",
    "\n",
    "@interact(i=(0, df.shape[0] - 1))\n",
    "def test_tr_print(i):\n",
    "    print(\n",
    "        f'Title:{df[\"Title\"][i]}\\n{\"*\"*30}\\nTitle_clean:{df[\"Title_clean\"][i]}\\n{\"*\"*30}\\nBody:{df[\"Body\"][i]}\\n{\"*\"*30}\\nBody_clean:{df[\"Body_clean\"][i]}\\n{\"*\"*30}\\nCode:{df[\"Code\"][i]}\\n{\"*\"*30}\\nTags:{df.loc[i,\"0\"]} {df.loc[i,\"1\"]} {df.loc[i,\"2\"]} {df.loc[i,\"3\"]} {df.loc[i,\"4\"]}'\n",
    "    )"
   ]
  },
  {
   "cell_type": "code",
   "execution_count": 9,
   "id": "64bf9672",
   "metadata": {
    "execution": {
     "iopub.execute_input": "2023-01-04T13:56:01.957138Z",
     "iopub.status.busy": "2023-01-04T13:56:01.956505Z",
     "iopub.status.idle": "2023-01-04T13:56:01.979047Z",
     "shell.execute_reply": "2023-01-04T13:56:01.978047Z"
    },
    "papermill": {
     "duration": 0.041947,
     "end_time": "2023-01-04T13:56:01.981174",
     "exception": false,
     "start_time": "2023-01-04T13:56:01.939227",
     "status": "completed"
    },
    "tags": []
   },
   "outputs": [
    {
     "data": {
      "text/plain": [
       "53"
      ]
     },
     "execution_count": 9,
     "metadata": {},
     "output_type": "execute_result"
    }
   ],
   "source": [
    "sum(df[\"Title_clean\"].isna())"
   ]
  },
  {
   "cell_type": "code",
   "execution_count": 10,
   "id": "8f3b2f01",
   "metadata": {
    "execution": {
     "iopub.execute_input": "2023-01-04T13:56:02.015129Z",
     "iopub.status.busy": "2023-01-04T13:56:02.014864Z",
     "iopub.status.idle": "2023-01-04T13:56:02.047327Z",
     "shell.execute_reply": "2023-01-04T13:56:02.046394Z"
    },
    "papermill": {
     "duration": 0.051493,
     "end_time": "2023-01-04T13:56:02.049344",
     "exception": false,
     "start_time": "2023-01-04T13:56:01.997851",
     "status": "completed"
    },
    "tags": []
   },
   "outputs": [
    {
     "data": {
      "text/html": [
       "<div>\n",
       "<style scoped>\n",
       "    .dataframe tbody tr th:only-of-type {\n",
       "        vertical-align: middle;\n",
       "    }\n",
       "\n",
       "    .dataframe tbody tr th {\n",
       "        vertical-align: top;\n",
       "    }\n",
       "\n",
       "    .dataframe thead th {\n",
       "        text-align: right;\n",
       "    }\n",
       "</style>\n",
       "<table border=\"1\" class=\"dataframe\">\n",
       "  <thead>\n",
       "    <tr style=\"text-align: right;\">\n",
       "      <th></th>\n",
       "      <th>Title</th>\n",
       "      <th>Title_clean</th>\n",
       "      <th>Body</th>\n",
       "      <th>Body_clean</th>\n",
       "      <th>0</th>\n",
       "      <th>1</th>\n",
       "      <th>2</th>\n",
       "      <th>3</th>\n",
       "      <th>4</th>\n",
       "    </tr>\n",
       "  </thead>\n",
       "  <tbody>\n",
       "    <tr>\n",
       "      <th>302</th>\n",
       "      <td>Is &lt; faster than &lt;=?</td>\n",
       "      <td>NaN</td>\n",
       "      <td>&lt;p&gt;Is &lt;code&gt;if (a &amp;lt; 901)&lt;/code&gt; faster than...</td>\n",
       "      <td>example performance change loop code suppose g...</td>\n",
       "      <td>c++</td>\n",
       "      <td>c</td>\n",
       "      <td>performance</td>\n",
       "      <td>assembly</td>\n",
       "      <td>relational-operators</td>\n",
       "    </tr>\n",
       "    <tr>\n",
       "      <th>393</th>\n",
       "      <td>What is setup.py?</td>\n",
       "      <td>NaN</td>\n",
       "      <td>&lt;p&gt;What is &lt;code&gt;setup.py&lt;/code&gt; and how can i...</td>\n",
       "      <td>configure</td>\n",
       "      <td>python</td>\n",
       "      <td>pypi</td>\n",
       "      <td>setup.py</td>\n",
       "      <td>python-packaging</td>\n",
       "      <td>NaN</td>\n",
       "    </tr>\n",
       "    <tr>\n",
       "      <th>1437</th>\n",
       "      <td>What is related_name used for?</td>\n",
       "      <td>NaN</td>\n",
       "      <td>&lt;p&gt;What is the &lt;code&gt;related_name&lt;/code&gt; argum...</td>\n",
       "      <td>argument manytomanyfield foreignkey field exam...</td>\n",
       "      <td>python</td>\n",
       "      <td>django</td>\n",
       "      <td>foreign-keys</td>\n",
       "      <td>many-to-many</td>\n",
       "      <td>NaN</td>\n",
       "    </tr>\n",
       "    <tr>\n",
       "      <th>4062</th>\n",
       "      <td>What is \"android:allowBackup\"?</td>\n",
       "      <td>NaN</td>\n",
       "      <td>&lt;p&gt;Since the &lt;a href=\"http://tools.android.com...</td>\n",
       "      <td>adt preview version version lint warning tell ...</td>\n",
       "      <td>android</td>\n",
       "      <td>adt</td>\n",
       "      <td>compiler-warnings</td>\n",
       "      <td>android-lint</td>\n",
       "      <td>android-backup-service</td>\n",
       "    </tr>\n",
       "    <tr>\n",
       "      <th>4870</th>\n",
       "      <td>Why is 0 &lt; -0x80000000?</td>\n",
       "      <td>NaN</td>\n",
       "      <td>&lt;p&gt;I have below a simple program:&lt;/p&gt;\\n\\n&lt;pre&gt;...</td>\n",
       "      <td>program condition if(bal int32_min work change...</td>\n",
       "      <td>c</td>\n",
       "      <td>signed</td>\n",
       "      <td>numeric-limits</td>\n",
       "      <td>numeric-conversion</td>\n",
       "      <td>NaN</td>\n",
       "    </tr>\n",
       "  </tbody>\n",
       "</table>\n",
       "</div>"
      ],
      "text/plain": [
       "                               Title Title_clean  \\\n",
       "302             Is < faster than <=?         NaN   \n",
       "393                What is setup.py?         NaN   \n",
       "1437  What is related_name used for?         NaN   \n",
       "4062  What is \"android:allowBackup\"?         NaN   \n",
       "4870         Why is 0 < -0x80000000?         NaN   \n",
       "\n",
       "                                                   Body  \\\n",
       "302   <p>Is <code>if (a &lt; 901)</code> faster than...   \n",
       "393   <p>What is <code>setup.py</code> and how can i...   \n",
       "1437  <p>What is the <code>related_name</code> argum...   \n",
       "4062  <p>Since the <a href=\"http://tools.android.com...   \n",
       "4870  <p>I have below a simple program:</p>\\n\\n<pre>...   \n",
       "\n",
       "                                             Body_clean        0       1  \\\n",
       "302   example performance change loop code suppose g...      c++       c   \n",
       "393                                           configure   python    pypi   \n",
       "1437  argument manytomanyfield foreignkey field exam...   python  django   \n",
       "4062  adt preview version version lint warning tell ...  android     adt   \n",
       "4870  program condition if(bal int32_min work change...        c  signed   \n",
       "\n",
       "                      2                   3                       4  \n",
       "302         performance            assembly    relational-operators  \n",
       "393            setup.py    python-packaging                     NaN  \n",
       "1437       foreign-keys        many-to-many                     NaN  \n",
       "4062  compiler-warnings        android-lint  android-backup-service  \n",
       "4870     numeric-limits  numeric-conversion                     NaN  "
      ]
     },
     "execution_count": 10,
     "metadata": {},
     "output_type": "execute_result"
    }
   ],
   "source": [
    "df[df[\"Title_clean\"].isna()][\n",
    "    [\"Title\", \"Title_clean\", \"Body\", \"Body_clean\", \"0\", \"1\", \"2\", \"3\", \"4\"]\n",
    "].head(5)"
   ]
  },
  {
   "cell_type": "code",
   "execution_count": 11,
   "id": "759db14f",
   "metadata": {
    "execution": {
     "iopub.execute_input": "2023-01-04T13:56:02.083626Z",
     "iopub.status.busy": "2023-01-04T13:56:02.082859Z",
     "iopub.status.idle": "2023-01-04T13:56:02.153550Z",
     "shell.execute_reply": "2023-01-04T13:56:02.151632Z"
    },
    "papermill": {
     "duration": 0.091419,
     "end_time": "2023-01-04T13:56:02.157250",
     "exception": false,
     "start_time": "2023-01-04T13:56:02.065831",
     "status": "completed"
    },
    "tags": []
   },
   "outputs": [
    {
     "name": "stdout",
     "output_type": "stream",
     "text": [
      "50\n"
     ]
    },
    {
     "data": {
      "text/html": [
       "<div>\n",
       "<style scoped>\n",
       "    .dataframe tbody tr th:only-of-type {\n",
       "        vertical-align: middle;\n",
       "    }\n",
       "\n",
       "    .dataframe tbody tr th {\n",
       "        vertical-align: top;\n",
       "    }\n",
       "\n",
       "    .dataframe thead th {\n",
       "        text-align: right;\n",
       "    }\n",
       "</style>\n",
       "<table border=\"1\" class=\"dataframe\">\n",
       "  <thead>\n",
       "    <tr style=\"text-align: right;\">\n",
       "      <th></th>\n",
       "      <th>Title</th>\n",
       "      <th>Title_clean</th>\n",
       "      <th>Body</th>\n",
       "      <th>Body_clean</th>\n",
       "      <th>Code</th>\n",
       "    </tr>\n",
       "  </thead>\n",
       "  <tbody>\n",
       "    <tr>\n",
       "      <th>5</th>\n",
       "      <td>What and where are the stack and heap?</td>\n",
       "      <td>stack heap</td>\n",
       "      <td>&lt;ul&gt;\\n&lt;li&gt;What are the stack and heap?&lt;/li&gt;\\n&lt;...</td>\n",
       "      <td>NaN</td>\n",
       "      <td>NaN</td>\n",
       "    </tr>\n",
       "    <tr>\n",
       "      <th>168</th>\n",
       "      <td>What is The Rule of Three?</td>\n",
       "      <td>rule</td>\n",
       "      <td>&lt;ul&gt;\\n&lt;li&gt;What does &lt;em&gt;copying an object&lt;/em&gt;...</td>\n",
       "      <td>NaN</td>\n",
       "      <td>NaN</td>\n",
       "    </tr>\n",
       "    <tr>\n",
       "      <th>828</th>\n",
       "      <td>Why are these constructs using pre and post-in...</td>\n",
       "      <td>construct pre behavior</td>\n",
       "      <td>&lt;pre&gt;&lt;code&gt;#include &amp;lt;stdio.h&amp;gt;\\n\\nint mai...</td>\n",
       "      <td>NaN</td>\n",
       "      <td>#include &lt;stdio.h&gt;\\n\\nint main(void)\\n{\\n   in...</td>\n",
       "    </tr>\n",
       "    <tr>\n",
       "      <th>1207</th>\n",
       "      <td>How to use ADB Shell when Multiple Devices are...</td>\n",
       "      <td>use adb shell multiple device connect fail err...</td>\n",
       "      <td>&lt;pre&gt;&lt;code&gt;$ adb --help\\n&lt;/code&gt;&lt;/pre&gt;\\n&lt;hr /&gt;...</td>\n",
       "      <td>NaN</td>\n",
       "      <td>$ adb --help\\n -s SERIAL  use device with give...</td>\n",
       "    </tr>\n",
       "    <tr>\n",
       "      <th>1640</th>\n",
       "      <td>What are the advantages of list initialization...</td>\n",
       "      <td>advantage list initialization brace</td>\n",
       "      <td>&lt;pre&gt;&lt;code&gt;MyClass a1 {a};     // clearer and ...</td>\n",
       "      <td>NaN</td>\n",
       "      <td>MyClass a1 {a};     // clearer and less error-...</td>\n",
       "    </tr>\n",
       "  </tbody>\n",
       "</table>\n",
       "</div>"
      ],
      "text/plain": [
       "                                                  Title  \\\n",
       "5                What and where are the stack and heap?   \n",
       "168                          What is The Rule of Three?   \n",
       "828   Why are these constructs using pre and post-in...   \n",
       "1207  How to use ADB Shell when Multiple Devices are...   \n",
       "1640  What are the advantages of list initialization...   \n",
       "\n",
       "                                            Title_clean  \\\n",
       "5                                            stack heap   \n",
       "168                                                rule   \n",
       "828                              construct pre behavior   \n",
       "1207  use adb shell multiple device connect fail err...   \n",
       "1640                advantage list initialization brace   \n",
       "\n",
       "                                                   Body Body_clean  \\\n",
       "5     <ul>\\n<li>What are the stack and heap?</li>\\n<...        NaN   \n",
       "168   <ul>\\n<li>What does <em>copying an object</em>...        NaN   \n",
       "828   <pre><code>#include &lt;stdio.h&gt;\\n\\nint mai...        NaN   \n",
       "1207  <pre><code>$ adb --help\\n</code></pre>\\n<hr />...        NaN   \n",
       "1640  <pre><code>MyClass a1 {a};     // clearer and ...        NaN   \n",
       "\n",
       "                                                   Code  \n",
       "5                                                   NaN  \n",
       "168                                                 NaN  \n",
       "828   #include <stdio.h>\\n\\nint main(void)\\n{\\n   in...  \n",
       "1207  $ adb --help\\n -s SERIAL  use device with give...  \n",
       "1640  MyClass a1 {a};     // clearer and less error-...  "
      ]
     },
     "execution_count": 11,
     "metadata": {},
     "output_type": "execute_result"
    }
   ],
   "source": [
    "print(sum(df[\"Body_clean\"].isna()))\n",
    "df[df[\"Body_clean\"].isna()][\n",
    "    [\"Title\", \"Title_clean\", \"Body\", \"Body_clean\", \"Code\"]\n",
    "].head(5)"
   ]
  },
  {
   "cell_type": "code",
   "execution_count": 12,
   "id": "232255d0",
   "metadata": {
    "execution": {
     "iopub.execute_input": "2023-01-04T13:56:02.235106Z",
     "iopub.status.busy": "2023-01-04T13:56:02.234717Z",
     "iopub.status.idle": "2023-01-04T13:56:02.290706Z",
     "shell.execute_reply": "2023-01-04T13:56:02.289711Z"
    },
    "papermill": {
     "duration": 0.101927,
     "end_time": "2023-01-04T13:56:02.293044",
     "exception": false,
     "start_time": "2023-01-04T13:56:02.191117",
     "status": "completed"
    },
    "tags": []
   },
   "outputs": [
    {
     "data": {
      "text/plain": [
       "0"
      ]
     },
     "execution_count": 12,
     "metadata": {},
     "output_type": "execute_result"
    }
   ],
   "source": [
    "len(df[df[\"Body_clean\"].isna() & df[\"Title_clean\"].isna()])"
   ]
  },
  {
   "cell_type": "code",
   "execution_count": 13,
   "id": "b005308a",
   "metadata": {
    "execution": {
     "iopub.execute_input": "2023-01-04T13:56:02.345152Z",
     "iopub.status.busy": "2023-01-04T13:56:02.344587Z",
     "iopub.status.idle": "2023-01-04T13:56:02.486127Z",
     "shell.execute_reply": "2023-01-04T13:56:02.485159Z"
    },
    "papermill": {
     "duration": 0.169982,
     "end_time": "2023-01-04T13:56:02.488577",
     "exception": false,
     "start_time": "2023-01-04T13:56:02.318595",
     "status": "completed"
    },
    "tags": []
   },
   "outputs": [
    {
     "data": {
      "text/plain": [
       "103"
      ]
     },
     "execution_count": 13,
     "metadata": {},
     "output_type": "execute_result"
    }
   ],
   "source": [
    "sum((df[\"Title_clean\"] + df[\"Body_clean\"]).isna())"
   ]
  },
  {
   "cell_type": "code",
   "execution_count": 14,
   "id": "2108277b",
   "metadata": {
    "execution": {
     "iopub.execute_input": "2023-01-04T13:56:02.545872Z",
     "iopub.status.busy": "2023-01-04T13:56:02.544905Z",
     "iopub.status.idle": "2023-01-04T13:56:02.658182Z",
     "shell.execute_reply": "2023-01-04T13:56:02.657210Z"
    },
    "papermill": {
     "duration": 0.144018,
     "end_time": "2023-01-04T13:56:02.660399",
     "exception": false,
     "start_time": "2023-01-04T13:56:02.516381",
     "status": "completed"
    },
    "tags": []
   },
   "outputs": [
    {
     "data": {
      "text/html": [
       "<div>\n",
       "<style scoped>\n",
       "    .dataframe tbody tr th:only-of-type {\n",
       "        vertical-align: middle;\n",
       "    }\n",
       "\n",
       "    .dataframe tbody tr th {\n",
       "        vertical-align: top;\n",
       "    }\n",
       "\n",
       "    .dataframe thead th {\n",
       "        text-align: right;\n",
       "    }\n",
       "</style>\n",
       "<table border=\"1\" class=\"dataframe\">\n",
       "  <thead>\n",
       "    <tr style=\"text-align: right;\">\n",
       "      <th></th>\n",
       "      <th>javascript</th>\n",
       "      <th>java</th>\n",
       "      <th>c#</th>\n",
       "      <th>python</th>\n",
       "      <th>html</th>\n",
       "      <th>git</th>\n",
       "      <th>php</th>\n",
       "    </tr>\n",
       "  </thead>\n",
       "  <tbody>\n",
       "    <tr>\n",
       "      <th>10001</th>\n",
       "      <td>True</td>\n",
       "      <td>False</td>\n",
       "      <td>False</td>\n",
       "      <td>False</td>\n",
       "      <td>True</td>\n",
       "      <td>False</td>\n",
       "      <td>False</td>\n",
       "    </tr>\n",
       "    <tr>\n",
       "      <th>10002</th>\n",
       "      <td>False</td>\n",
       "      <td>True</td>\n",
       "      <td>False</td>\n",
       "      <td>False</td>\n",
       "      <td>False</td>\n",
       "      <td>False</td>\n",
       "      <td>False</td>\n",
       "    </tr>\n",
       "    <tr>\n",
       "      <th>10003</th>\n",
       "      <td>False</td>\n",
       "      <td>False</td>\n",
       "      <td>True</td>\n",
       "      <td>False</td>\n",
       "      <td>False</td>\n",
       "      <td>False</td>\n",
       "      <td>False</td>\n",
       "    </tr>\n",
       "    <tr>\n",
       "      <th>10004</th>\n",
       "      <td>False</td>\n",
       "      <td>False</td>\n",
       "      <td>False</td>\n",
       "      <td>False</td>\n",
       "      <td>True</td>\n",
       "      <td>False</td>\n",
       "      <td>False</td>\n",
       "    </tr>\n",
       "    <tr>\n",
       "      <th>10005</th>\n",
       "      <td>False</td>\n",
       "      <td>False</td>\n",
       "      <td>False</td>\n",
       "      <td>False</td>\n",
       "      <td>False</td>\n",
       "      <td>False</td>\n",
       "      <td>False</td>\n",
       "    </tr>\n",
       "    <tr>\n",
       "      <th>...</th>\n",
       "      <td>...</td>\n",
       "      <td>...</td>\n",
       "      <td>...</td>\n",
       "      <td>...</td>\n",
       "      <td>...</td>\n",
       "      <td>...</td>\n",
       "      <td>...</td>\n",
       "    </tr>\n",
       "    <tr>\n",
       "      <th>15045</th>\n",
       "      <td>False</td>\n",
       "      <td>False</td>\n",
       "      <td>False</td>\n",
       "      <td>False</td>\n",
       "      <td>False</td>\n",
       "      <td>False</td>\n",
       "      <td>False</td>\n",
       "    </tr>\n",
       "    <tr>\n",
       "      <th>15046</th>\n",
       "      <td>False</td>\n",
       "      <td>False</td>\n",
       "      <td>False</td>\n",
       "      <td>False</td>\n",
       "      <td>False</td>\n",
       "      <td>False</td>\n",
       "      <td>False</td>\n",
       "    </tr>\n",
       "    <tr>\n",
       "      <th>15047</th>\n",
       "      <td>True</td>\n",
       "      <td>False</td>\n",
       "      <td>False</td>\n",
       "      <td>False</td>\n",
       "      <td>False</td>\n",
       "      <td>False</td>\n",
       "      <td>False</td>\n",
       "    </tr>\n",
       "    <tr>\n",
       "      <th>15048</th>\n",
       "      <td>False</td>\n",
       "      <td>False</td>\n",
       "      <td>False</td>\n",
       "      <td>False</td>\n",
       "      <td>False</td>\n",
       "      <td>False</td>\n",
       "      <td>False</td>\n",
       "    </tr>\n",
       "    <tr>\n",
       "      <th>15049</th>\n",
       "      <td>False</td>\n",
       "      <td>False</td>\n",
       "      <td>False</td>\n",
       "      <td>False</td>\n",
       "      <td>False</td>\n",
       "      <td>False</td>\n",
       "      <td>False</td>\n",
       "    </tr>\n",
       "  </tbody>\n",
       "</table>\n",
       "<p>5049 rows × 7 columns</p>\n",
       "</div>"
      ],
      "text/plain": [
       "       javascript   java     c#  python   html    git    php\n",
       "10001        True  False  False   False   True  False  False\n",
       "10002       False   True  False   False  False  False  False\n",
       "10003       False  False   True   False  False  False  False\n",
       "10004       False  False  False   False   True  False  False\n",
       "10005       False  False  False   False  False  False  False\n",
       "...           ...    ...    ...     ...    ...    ...    ...\n",
       "15045       False  False  False   False  False  False  False\n",
       "15046       False  False  False   False  False  False  False\n",
       "15047        True  False  False   False  False  False  False\n",
       "15048       False  False  False   False  False  False  False\n",
       "15049       False  False  False   False  False  False  False\n",
       "\n",
       "[5049 rows x 7 columns]"
      ]
     },
     "execution_count": 14,
     "metadata": {},
     "output_type": "execute_result"
    }
   ],
   "source": [
    "def tag_is_in(df: pd.DataFrame(), tag: str, nb_cols: int = 6):\n",
    "    return eval(\"|\".join(f'(df[\"{i}\"] == \"{tag}\")' for i in range(0, nb_cols)))\n",
    "\n",
    "\n",
    "def tags_are_in(df: pd.DataFrame(), tags: list):\n",
    "    return pd.DataFrame({tag: tag_is_in(df, tag) for tag in tags})\n",
    "\n",
    "\n",
    "def save_score(\n",
    "    y_true, y_pred, target_names: list, name=None, zero_division=0\n",
    ") -> pd.DataFrame():\n",
    "    scores = pd.DataFrame(\n",
    "        metrics.classification_report(\n",
    "            y_true,\n",
    "            y_pred,\n",
    "            target_names=target_names,\n",
    "            zero_division=zero_division,\n",
    "            output_dict=True,\n",
    "        )\n",
    "    ).T\n",
    "    if name is not None:\n",
    "        scores.to_csv(f\"/kaggle/working/{name}_score.csv\")\n",
    "    return scores\n",
    "\n",
    "\n",
    "# tags_are_in(df, [\"javascript\",\"java\"])\n",
    "tags_are_in(\n",
    "    df[10001:15050], [\"javascript\", \"java\", \"c#\", \"python\", \"html\", \"git\", \"php\"]\n",
    ")"
   ]
  },
  {
   "cell_type": "code",
   "execution_count": 15,
   "id": "185107ef",
   "metadata": {
    "execution": {
     "iopub.execute_input": "2023-01-04T13:56:02.724283Z",
     "iopub.status.busy": "2023-01-04T13:56:02.723972Z",
     "iopub.status.idle": "2023-01-04T13:56:02.869563Z",
     "shell.execute_reply": "2023-01-04T13:56:02.868494Z"
    },
    "papermill": {
     "duration": 0.183881,
     "end_time": "2023-01-04T13:56:02.872251",
     "exception": false,
     "start_time": "2023-01-04T13:56:02.688370",
     "status": "completed"
    },
    "tags": []
   },
   "outputs": [
    {
     "data": {
      "text/plain": [
       "['java',\n",
       " 'c#',\n",
       " 'javascript',\n",
       " 'python',\n",
       " 'android',\n",
       " 'c++',\n",
       " 'ios',\n",
       " 'html',\n",
       " 'php',\n",
       " '.net',\n",
       " 'jquery',\n",
       " 'css',\n",
       " 'objective-c',\n",
       " 'c',\n",
       " 'sql',\n",
       " 'iphone',\n",
       " 'asp.net',\n",
       " 'mysql',\n",
       " 'linux',\n",
       " 'node.js',\n",
       " 'git']"
      ]
     },
     "execution_count": 15,
     "metadata": {},
     "output_type": "execute_result"
    }
   ],
   "source": [
    "tags = df[[\"0\", \"1\", \"2\", \"3\", \"4\", \"5\"]].stack()\n",
    "target_names = [\n",
    "    tag\n",
    "    for tag, freq in tags.reset_index(drop=True).value_counts(normalize=True).items()\n",
    "    if freq > 0.002\n",
    "]\n",
    "if not LONG:\n",
    "    target_names = target_names[0:20] + [\"git\"]\n",
    "target_names"
   ]
  },
  {
   "cell_type": "code",
   "execution_count": 16,
   "id": "6dd07ae4",
   "metadata": {
    "execution": {
     "iopub.execute_input": "2023-01-04T13:56:02.908299Z",
     "iopub.status.busy": "2023-01-04T13:56:02.908008Z",
     "iopub.status.idle": "2023-01-04T13:56:02.921106Z",
     "shell.execute_reply": "2023-01-04T13:56:02.920234Z"
    },
    "papermill": {
     "duration": 0.033299,
     "end_time": "2023-01-04T13:56:02.923120",
     "exception": false,
     "start_time": "2023-01-04T13:56:02.889821",
     "status": "completed"
    },
    "tags": []
   },
   "outputs": [],
   "source": [
    "# Enregistrement des paramétres avec la liste des tags a predire\n",
    "description[\"target_names\"] = target_names\n",
    "with open(\"/kaggle/working/description.json\", \"w\") as outfile:\n",
    "    json.dump(description, outfile)"
   ]
  },
  {
   "cell_type": "markdown",
   "id": "d8ca17f2",
   "metadata": {
    "papermill": {
     "duration": 0.016753,
     "end_time": "2023-01-04T13:56:02.957349",
     "exception": false,
     "start_time": "2023-01-04T13:56:02.940596",
     "status": "completed"
    },
    "tags": []
   },
   "source": [
    "## Separation train/test"
   ]
  },
  {
   "cell_type": "code",
   "execution_count": 17,
   "id": "72a35076",
   "metadata": {
    "execution": {
     "iopub.execute_input": "2023-01-04T13:56:02.993034Z",
     "iopub.status.busy": "2023-01-04T13:56:02.992749Z",
     "iopub.status.idle": "2023-01-04T13:56:04.253423Z",
     "shell.execute_reply": "2023-01-04T13:56:04.252458Z"
    },
    "papermill": {
     "duration": 1.281714,
     "end_time": "2023-01-04T13:56:04.256048",
     "exception": false,
     "start_time": "2023-01-04T13:56:02.974334",
     "status": "completed"
    },
    "tags": []
   },
   "outputs": [
    {
     "name": "stdout",
     "output_type": "stream",
     "text": [
      "99.99409% des questions ont plus d'un tokens\n"
     ]
    }
   ],
   "source": [
    "df[\"Token\"] = df[\"Title_clean\"].fillna(\"\") + df[\"Body_clean\"].fillna(\"\")\n",
    "print(\n",
    "    f\"{len(df[[len(token.split()) > 1 for token in df['Token']]])/len(df):.5%} des questions ont plus d'un tokens\"\n",
    "    if len(df[df[\"Token\"] == \"\"]) == 0\n",
    "    else f\"{len(df[df['Token'] == ''])} questions n'ont pas de token\"\n",
    ")\n",
    "X_train, X_test, y_train, y_test = model_selection.train_test_split(\n",
    "    df[\"Token\"], tags_are_in(df, target_names), random_state=42\n",
    ")"
   ]
  },
  {
   "cell_type": "markdown",
   "id": "5b995912",
   "metadata": {
    "papermill": {
     "duration": 0.017274,
     "end_time": "2023-01-04T13:56:04.290708",
     "exception": false,
     "start_time": "2023-01-04T13:56:04.273434",
     "status": "completed"
    },
    "tags": []
   },
   "source": [
    "## Approche naïve pour comparer les résultat:\n",
    "    - Valeur la plus fréquente (False)\n",
    "    - Si le tag est présent dans la question"
   ]
  },
  {
   "cell_type": "code",
   "execution_count": 18,
   "id": "3e0e572e",
   "metadata": {
    "execution": {
     "iopub.execute_input": "2023-01-04T13:56:04.326248Z",
     "iopub.status.busy": "2023-01-04T13:56:04.325929Z",
     "iopub.status.idle": "2023-01-04T13:56:04.396395Z",
     "shell.execute_reply": "2023-01-04T13:56:04.395421Z"
    },
    "papermill": {
     "duration": 0.090798,
     "end_time": "2023-01-04T13:56:04.398651",
     "exception": false,
     "start_time": "2023-01-04T13:56:04.307853",
     "status": "completed"
    },
    "tags": []
   },
   "outputs": [
    {
     "data": {
      "text/html": [
       "<div>\n",
       "<style scoped>\n",
       "    .dataframe tbody tr th:only-of-type {\n",
       "        vertical-align: middle;\n",
       "    }\n",
       "\n",
       "    .dataframe tbody tr th {\n",
       "        vertical-align: top;\n",
       "    }\n",
       "\n",
       "    .dataframe thead th {\n",
       "        text-align: right;\n",
       "    }\n",
       "</style>\n",
       "<table border=\"1\" class=\"dataframe\">\n",
       "  <thead>\n",
       "    <tr style=\"text-align: right;\">\n",
       "      <th></th>\n",
       "      <th>precision</th>\n",
       "      <th>recall</th>\n",
       "      <th>f1-score</th>\n",
       "      <th>support</th>\n",
       "    </tr>\n",
       "  </thead>\n",
       "  <tbody>\n",
       "    <tr>\n",
       "      <th>java</th>\n",
       "      <td>1.0</td>\n",
       "      <td>0.000000</td>\n",
       "      <td>0.000000</td>\n",
       "      <td>3558.0</td>\n",
       "    </tr>\n",
       "    <tr>\n",
       "      <th>c#</th>\n",
       "      <td>1.0</td>\n",
       "      <td>0.000000</td>\n",
       "      <td>0.000000</td>\n",
       "      <td>3473.0</td>\n",
       "    </tr>\n",
       "    <tr>\n",
       "      <th>javascript</th>\n",
       "      <td>1.0</td>\n",
       "      <td>0.000000</td>\n",
       "      <td>0.000000</td>\n",
       "      <td>3356.0</td>\n",
       "    </tr>\n",
       "    <tr>\n",
       "      <th>python</th>\n",
       "      <td>1.0</td>\n",
       "      <td>0.000000</td>\n",
       "      <td>0.000000</td>\n",
       "      <td>2612.0</td>\n",
       "    </tr>\n",
       "    <tr>\n",
       "      <th>android</th>\n",
       "      <td>1.0</td>\n",
       "      <td>0.000000</td>\n",
       "      <td>0.000000</td>\n",
       "      <td>2045.0</td>\n",
       "    </tr>\n",
       "    <tr>\n",
       "      <th>c++</th>\n",
       "      <td>1.0</td>\n",
       "      <td>0.000000</td>\n",
       "      <td>0.000000</td>\n",
       "      <td>1964.0</td>\n",
       "    </tr>\n",
       "    <tr>\n",
       "      <th>ios</th>\n",
       "      <td>1.0</td>\n",
       "      <td>0.000000</td>\n",
       "      <td>0.000000</td>\n",
       "      <td>1840.0</td>\n",
       "    </tr>\n",
       "    <tr>\n",
       "      <th>html</th>\n",
       "      <td>1.0</td>\n",
       "      <td>0.000000</td>\n",
       "      <td>0.000000</td>\n",
       "      <td>1755.0</td>\n",
       "    </tr>\n",
       "    <tr>\n",
       "      <th>php</th>\n",
       "      <td>1.0</td>\n",
       "      <td>0.000000</td>\n",
       "      <td>0.000000</td>\n",
       "      <td>1627.0</td>\n",
       "    </tr>\n",
       "    <tr>\n",
       "      <th>.net</th>\n",
       "      <td>1.0</td>\n",
       "      <td>0.000000</td>\n",
       "      <td>0.000000</td>\n",
       "      <td>1569.0</td>\n",
       "    </tr>\n",
       "    <tr>\n",
       "      <th>jquery</th>\n",
       "      <td>1.0</td>\n",
       "      <td>0.000000</td>\n",
       "      <td>0.000000</td>\n",
       "      <td>1538.0</td>\n",
       "    </tr>\n",
       "    <tr>\n",
       "      <th>css</th>\n",
       "      <td>1.0</td>\n",
       "      <td>0.000000</td>\n",
       "      <td>0.000000</td>\n",
       "      <td>1131.0</td>\n",
       "    </tr>\n",
       "    <tr>\n",
       "      <th>objective-c</th>\n",
       "      <td>1.0</td>\n",
       "      <td>0.000000</td>\n",
       "      <td>0.000000</td>\n",
       "      <td>888.0</td>\n",
       "    </tr>\n",
       "    <tr>\n",
       "      <th>c</th>\n",
       "      <td>1.0</td>\n",
       "      <td>0.000000</td>\n",
       "      <td>0.000000</td>\n",
       "      <td>885.0</td>\n",
       "    </tr>\n",
       "    <tr>\n",
       "      <th>sql</th>\n",
       "      <td>1.0</td>\n",
       "      <td>0.000000</td>\n",
       "      <td>0.000000</td>\n",
       "      <td>870.0</td>\n",
       "    </tr>\n",
       "    <tr>\n",
       "      <th>iphone</th>\n",
       "      <td>1.0</td>\n",
       "      <td>0.000000</td>\n",
       "      <td>0.000000</td>\n",
       "      <td>807.0</td>\n",
       "    </tr>\n",
       "    <tr>\n",
       "      <th>asp.net</th>\n",
       "      <td>1.0</td>\n",
       "      <td>0.000000</td>\n",
       "      <td>0.000000</td>\n",
       "      <td>805.0</td>\n",
       "    </tr>\n",
       "    <tr>\n",
       "      <th>mysql</th>\n",
       "      <td>1.0</td>\n",
       "      <td>0.000000</td>\n",
       "      <td>0.000000</td>\n",
       "      <td>685.0</td>\n",
       "    </tr>\n",
       "    <tr>\n",
       "      <th>linux</th>\n",
       "      <td>1.0</td>\n",
       "      <td>0.000000</td>\n",
       "      <td>0.000000</td>\n",
       "      <td>680.0</td>\n",
       "    </tr>\n",
       "    <tr>\n",
       "      <th>node.js</th>\n",
       "      <td>1.0</td>\n",
       "      <td>0.000000</td>\n",
       "      <td>0.000000</td>\n",
       "      <td>682.0</td>\n",
       "    </tr>\n",
       "    <tr>\n",
       "      <th>git</th>\n",
       "      <td>1.0</td>\n",
       "      <td>0.000000</td>\n",
       "      <td>0.000000</td>\n",
       "      <td>274.0</td>\n",
       "    </tr>\n",
       "    <tr>\n",
       "      <th>micro avg</th>\n",
       "      <td>1.0</td>\n",
       "      <td>0.000000</td>\n",
       "      <td>0.000000</td>\n",
       "      <td>33044.0</td>\n",
       "    </tr>\n",
       "    <tr>\n",
       "      <th>macro avg</th>\n",
       "      <td>1.0</td>\n",
       "      <td>0.000000</td>\n",
       "      <td>0.000000</td>\n",
       "      <td>33044.0</td>\n",
       "    </tr>\n",
       "    <tr>\n",
       "      <th>weighted avg</th>\n",
       "      <td>1.0</td>\n",
       "      <td>0.000000</td>\n",
       "      <td>0.000000</td>\n",
       "      <td>33044.0</td>\n",
       "    </tr>\n",
       "    <tr>\n",
       "      <th>samples avg</th>\n",
       "      <td>1.0</td>\n",
       "      <td>0.207322</td>\n",
       "      <td>0.207322</td>\n",
       "      <td>33044.0</td>\n",
       "    </tr>\n",
       "  </tbody>\n",
       "</table>\n",
       "</div>"
      ],
      "text/plain": [
       "              precision    recall  f1-score  support\n",
       "java                1.0  0.000000  0.000000   3558.0\n",
       "c#                  1.0  0.000000  0.000000   3473.0\n",
       "javascript          1.0  0.000000  0.000000   3356.0\n",
       "python              1.0  0.000000  0.000000   2612.0\n",
       "android             1.0  0.000000  0.000000   2045.0\n",
       "c++                 1.0  0.000000  0.000000   1964.0\n",
       "ios                 1.0  0.000000  0.000000   1840.0\n",
       "html                1.0  0.000000  0.000000   1755.0\n",
       "php                 1.0  0.000000  0.000000   1627.0\n",
       ".net                1.0  0.000000  0.000000   1569.0\n",
       "jquery              1.0  0.000000  0.000000   1538.0\n",
       "css                 1.0  0.000000  0.000000   1131.0\n",
       "objective-c         1.0  0.000000  0.000000    888.0\n",
       "c                   1.0  0.000000  0.000000    885.0\n",
       "sql                 1.0  0.000000  0.000000    870.0\n",
       "iphone              1.0  0.000000  0.000000    807.0\n",
       "asp.net             1.0  0.000000  0.000000    805.0\n",
       "mysql               1.0  0.000000  0.000000    685.0\n",
       "linux               1.0  0.000000  0.000000    680.0\n",
       "node.js             1.0  0.000000  0.000000    682.0\n",
       "git                 1.0  0.000000  0.000000    274.0\n",
       "micro avg           1.0  0.000000  0.000000  33044.0\n",
       "macro avg           1.0  0.000000  0.000000  33044.0\n",
       "weighted avg        1.0  0.000000  0.000000  33044.0\n",
       "samples avg         1.0  0.207322  0.207322  33044.0"
      ]
     },
     "execution_count": 18,
     "metadata": {},
     "output_type": "execute_result"
    }
   ],
   "source": [
    "save_score(\n",
    "    y_true=y_test,\n",
    "    y_pred=y_test.replace([True], False),\n",
    "    target_names=target_names,\n",
    "    zero_division=1,  # because TruePositif=0\n",
    ")"
   ]
  },
  {
   "cell_type": "markdown",
   "id": "970962b3",
   "metadata": {
    "papermill": {
     "duration": 0.017238,
     "end_time": "2023-01-04T13:56:04.433449",
     "exception": false,
     "start_time": "2023-01-04T13:56:04.416211",
     "status": "completed"
    },
    "tags": []
   },
   "source": [
    "Avec prédire toujours vrai"
   ]
  },
  {
   "cell_type": "code",
   "execution_count": 19,
   "id": "757c9d11",
   "metadata": {
    "execution": {
     "iopub.execute_input": "2023-01-04T13:56:04.469230Z",
     "iopub.status.busy": "2023-01-04T13:56:04.468935Z",
     "iopub.status.idle": "2023-01-04T13:56:04.712818Z",
     "shell.execute_reply": "2023-01-04T13:56:04.711817Z"
    },
    "papermill": {
     "duration": 0.264443,
     "end_time": "2023-01-04T13:56:04.715061",
     "exception": false,
     "start_time": "2023-01-04T13:56:04.450618",
     "status": "completed"
    },
    "tags": []
   },
   "outputs": [
    {
     "data": {
      "text/html": [
       "<div>\n",
       "<style scoped>\n",
       "    .dataframe tbody tr th:only-of-type {\n",
       "        vertical-align: middle;\n",
       "    }\n",
       "\n",
       "    .dataframe tbody tr th {\n",
       "        vertical-align: top;\n",
       "    }\n",
       "\n",
       "    .dataframe thead th {\n",
       "        text-align: right;\n",
       "    }\n",
       "</style>\n",
       "<table border=\"1\" class=\"dataframe\">\n",
       "  <thead>\n",
       "    <tr style=\"text-align: right;\">\n",
       "      <th></th>\n",
       "      <th>precision</th>\n",
       "      <th>recall</th>\n",
       "      <th>f1-score</th>\n",
       "      <th>support</th>\n",
       "    </tr>\n",
       "  </thead>\n",
       "  <tbody>\n",
       "    <tr>\n",
       "      <th>java</th>\n",
       "      <td>0.120158</td>\n",
       "      <td>1.000000</td>\n",
       "      <td>0.214538</td>\n",
       "      <td>3558.0</td>\n",
       "    </tr>\n",
       "    <tr>\n",
       "      <th>c#</th>\n",
       "      <td>0.117287</td>\n",
       "      <td>1.000000</td>\n",
       "      <td>0.209950</td>\n",
       "      <td>3473.0</td>\n",
       "    </tr>\n",
       "    <tr>\n",
       "      <th>javascript</th>\n",
       "      <td>0.113336</td>\n",
       "      <td>1.000000</td>\n",
       "      <td>0.203598</td>\n",
       "      <td>3356.0</td>\n",
       "    </tr>\n",
       "    <tr>\n",
       "      <th>python</th>\n",
       "      <td>0.088210</td>\n",
       "      <td>1.000000</td>\n",
       "      <td>0.162120</td>\n",
       "      <td>2612.0</td>\n",
       "    </tr>\n",
       "    <tr>\n",
       "      <th>android</th>\n",
       "      <td>0.069062</td>\n",
       "      <td>1.000000</td>\n",
       "      <td>0.129201</td>\n",
       "      <td>2045.0</td>\n",
       "    </tr>\n",
       "    <tr>\n",
       "      <th>c++</th>\n",
       "      <td>0.066327</td>\n",
       "      <td>1.000000</td>\n",
       "      <td>0.124402</td>\n",
       "      <td>1964.0</td>\n",
       "    </tr>\n",
       "    <tr>\n",
       "      <th>ios</th>\n",
       "      <td>0.062139</td>\n",
       "      <td>1.000000</td>\n",
       "      <td>0.117007</td>\n",
       "      <td>1840.0</td>\n",
       "    </tr>\n",
       "    <tr>\n",
       "      <th>html</th>\n",
       "      <td>0.059269</td>\n",
       "      <td>1.000000</td>\n",
       "      <td>0.111905</td>\n",
       "      <td>1755.0</td>\n",
       "    </tr>\n",
       "    <tr>\n",
       "      <th>php</th>\n",
       "      <td>0.054946</td>\n",
       "      <td>1.000000</td>\n",
       "      <td>0.104168</td>\n",
       "      <td>1627.0</td>\n",
       "    </tr>\n",
       "    <tr>\n",
       "      <th>.net</th>\n",
       "      <td>0.052987</td>\n",
       "      <td>1.000000</td>\n",
       "      <td>0.100641</td>\n",
       "      <td>1569.0</td>\n",
       "    </tr>\n",
       "    <tr>\n",
       "      <th>jquery</th>\n",
       "      <td>0.051940</td>\n",
       "      <td>1.000000</td>\n",
       "      <td>0.098751</td>\n",
       "      <td>1538.0</td>\n",
       "    </tr>\n",
       "    <tr>\n",
       "      <th>css</th>\n",
       "      <td>0.038195</td>\n",
       "      <td>1.000000</td>\n",
       "      <td>0.073580</td>\n",
       "      <td>1131.0</td>\n",
       "    </tr>\n",
       "    <tr>\n",
       "      <th>objective-c</th>\n",
       "      <td>0.029989</td>\n",
       "      <td>1.000000</td>\n",
       "      <td>0.058231</td>\n",
       "      <td>888.0</td>\n",
       "    </tr>\n",
       "    <tr>\n",
       "      <th>c</th>\n",
       "      <td>0.029888</td>\n",
       "      <td>1.000000</td>\n",
       "      <td>0.058040</td>\n",
       "      <td>885.0</td>\n",
       "    </tr>\n",
       "    <tr>\n",
       "      <th>sql</th>\n",
       "      <td>0.029381</td>\n",
       "      <td>1.000000</td>\n",
       "      <td>0.057085</td>\n",
       "      <td>870.0</td>\n",
       "    </tr>\n",
       "    <tr>\n",
       "      <th>iphone</th>\n",
       "      <td>0.027253</td>\n",
       "      <td>1.000000</td>\n",
       "      <td>0.053061</td>\n",
       "      <td>807.0</td>\n",
       "    </tr>\n",
       "    <tr>\n",
       "      <th>asp.net</th>\n",
       "      <td>0.027186</td>\n",
       "      <td>1.000000</td>\n",
       "      <td>0.052933</td>\n",
       "      <td>805.0</td>\n",
       "    </tr>\n",
       "    <tr>\n",
       "      <th>mysql</th>\n",
       "      <td>0.023133</td>\n",
       "      <td>1.000000</td>\n",
       "      <td>0.045220</td>\n",
       "      <td>685.0</td>\n",
       "    </tr>\n",
       "    <tr>\n",
       "      <th>linux</th>\n",
       "      <td>0.022964</td>\n",
       "      <td>1.000000</td>\n",
       "      <td>0.044898</td>\n",
       "      <td>680.0</td>\n",
       "    </tr>\n",
       "    <tr>\n",
       "      <th>node.js</th>\n",
       "      <td>0.023032</td>\n",
       "      <td>1.000000</td>\n",
       "      <td>0.045027</td>\n",
       "      <td>682.0</td>\n",
       "    </tr>\n",
       "    <tr>\n",
       "      <th>git</th>\n",
       "      <td>0.009253</td>\n",
       "      <td>1.000000</td>\n",
       "      <td>0.018337</td>\n",
       "      <td>274.0</td>\n",
       "    </tr>\n",
       "    <tr>\n",
       "      <th>micro avg</th>\n",
       "      <td>0.053140</td>\n",
       "      <td>1.000000</td>\n",
       "      <td>0.100917</td>\n",
       "      <td>33044.0</td>\n",
       "    </tr>\n",
       "    <tr>\n",
       "      <th>macro avg</th>\n",
       "      <td>0.053140</td>\n",
       "      <td>1.000000</td>\n",
       "      <td>0.099176</td>\n",
       "      <td>33044.0</td>\n",
       "    </tr>\n",
       "    <tr>\n",
       "      <th>weighted avg</th>\n",
       "      <td>0.072731</td>\n",
       "      <td>1.000000</td>\n",
       "      <td>0.133680</td>\n",
       "      <td>33044.0</td>\n",
       "    </tr>\n",
       "    <tr>\n",
       "      <th>samples avg</th>\n",
       "      <td>0.053140</td>\n",
       "      <td>0.792678</td>\n",
       "      <td>0.098364</td>\n",
       "      <td>33044.0</td>\n",
       "    </tr>\n",
       "  </tbody>\n",
       "</table>\n",
       "</div>"
      ],
      "text/plain": [
       "              precision    recall  f1-score  support\n",
       "java           0.120158  1.000000  0.214538   3558.0\n",
       "c#             0.117287  1.000000  0.209950   3473.0\n",
       "javascript     0.113336  1.000000  0.203598   3356.0\n",
       "python         0.088210  1.000000  0.162120   2612.0\n",
       "android        0.069062  1.000000  0.129201   2045.0\n",
       "c++            0.066327  1.000000  0.124402   1964.0\n",
       "ios            0.062139  1.000000  0.117007   1840.0\n",
       "html           0.059269  1.000000  0.111905   1755.0\n",
       "php            0.054946  1.000000  0.104168   1627.0\n",
       ".net           0.052987  1.000000  0.100641   1569.0\n",
       "jquery         0.051940  1.000000  0.098751   1538.0\n",
       "css            0.038195  1.000000  0.073580   1131.0\n",
       "objective-c    0.029989  1.000000  0.058231    888.0\n",
       "c              0.029888  1.000000  0.058040    885.0\n",
       "sql            0.029381  1.000000  0.057085    870.0\n",
       "iphone         0.027253  1.000000  0.053061    807.0\n",
       "asp.net        0.027186  1.000000  0.052933    805.0\n",
       "mysql          0.023133  1.000000  0.045220    685.0\n",
       "linux          0.022964  1.000000  0.044898    680.0\n",
       "node.js        0.023032  1.000000  0.045027    682.0\n",
       "git            0.009253  1.000000  0.018337    274.0\n",
       "micro avg      0.053140  1.000000  0.100917  33044.0\n",
       "macro avg      0.053140  1.000000  0.099176  33044.0\n",
       "weighted avg   0.072731  1.000000  0.133680  33044.0\n",
       "samples avg    0.053140  0.792678  0.098364  33044.0"
      ]
     },
     "execution_count": 19,
     "metadata": {},
     "output_type": "execute_result"
    }
   ],
   "source": [
    "save_score(\n",
    "    y_true=y_test, y_pred=y_test.replace([False], True), target_names=target_names\n",
    ")"
   ]
  },
  {
   "cell_type": "markdown",
   "id": "22122cef",
   "metadata": {
    "papermill": {
     "duration": 0.017449,
     "end_time": "2023-01-04T13:56:04.750884",
     "exception": false,
     "start_time": "2023-01-04T13:56:04.733435",
     "status": "completed"
    },
    "tags": []
   },
   "source": [
    "### Methode naive le tag est dans la question:"
   ]
  },
  {
   "cell_type": "code",
   "execution_count": 20,
   "id": "78fa7d32",
   "metadata": {
    "execution": {
     "iopub.execute_input": "2023-01-04T13:56:04.788252Z",
     "iopub.status.busy": "2023-01-04T13:56:04.786754Z",
     "iopub.status.idle": "2023-01-04T13:56:05.444686Z",
     "shell.execute_reply": "2023-01-04T13:56:05.443756Z"
    },
    "papermill": {
     "duration": 0.67862,
     "end_time": "2023-01-04T13:56:05.446865",
     "exception": false,
     "start_time": "2023-01-04T13:56:04.768245",
     "status": "completed"
    },
    "tags": []
   },
   "outputs": [
    {
     "data": {
      "text/html": [
       "<div>\n",
       "<style scoped>\n",
       "    .dataframe tbody tr th:only-of-type {\n",
       "        vertical-align: middle;\n",
       "    }\n",
       "\n",
       "    .dataframe tbody tr th {\n",
       "        vertical-align: top;\n",
       "    }\n",
       "\n",
       "    .dataframe thead th {\n",
       "        text-align: right;\n",
       "    }\n",
       "</style>\n",
       "<table border=\"1\" class=\"dataframe\">\n",
       "  <thead>\n",
       "    <tr style=\"text-align: right;\">\n",
       "      <th></th>\n",
       "      <th>0</th>\n",
       "      <th>1</th>\n",
       "      <th>2</th>\n",
       "      <th>3</th>\n",
       "      <th>4</th>\n",
       "      <th>5</th>\n",
       "      <th>6</th>\n",
       "      <th>7</th>\n",
       "      <th>8</th>\n",
       "      <th>9</th>\n",
       "      <th>...</th>\n",
       "      <th>29601</th>\n",
       "      <th>29602</th>\n",
       "      <th>29603</th>\n",
       "      <th>29604</th>\n",
       "      <th>29605</th>\n",
       "      <th>29606</th>\n",
       "      <th>29607</th>\n",
       "      <th>29608</th>\n",
       "      <th>29609</th>\n",
       "      <th>29610</th>\n",
       "    </tr>\n",
       "  </thead>\n",
       "  <tbody>\n",
       "    <tr>\n",
       "      <th>java</th>\n",
       "      <td>False</td>\n",
       "      <td>False</td>\n",
       "      <td>False</td>\n",
       "      <td>False</td>\n",
       "      <td>True</td>\n",
       "      <td>False</td>\n",
       "      <td>False</td>\n",
       "      <td>False</td>\n",
       "      <td>False</td>\n",
       "      <td>False</td>\n",
       "      <td>...</td>\n",
       "      <td>False</td>\n",
       "      <td>False</td>\n",
       "      <td>False</td>\n",
       "      <td>False</td>\n",
       "      <td>False</td>\n",
       "      <td>False</td>\n",
       "      <td>False</td>\n",
       "      <td>False</td>\n",
       "      <td>False</td>\n",
       "      <td>False</td>\n",
       "    </tr>\n",
       "    <tr>\n",
       "      <th>c#</th>\n",
       "      <td>False</td>\n",
       "      <td>False</td>\n",
       "      <td>False</td>\n",
       "      <td>False</td>\n",
       "      <td>False</td>\n",
       "      <td>False</td>\n",
       "      <td>False</td>\n",
       "      <td>False</td>\n",
       "      <td>False</td>\n",
       "      <td>False</td>\n",
       "      <td>...</td>\n",
       "      <td>False</td>\n",
       "      <td>False</td>\n",
       "      <td>False</td>\n",
       "      <td>False</td>\n",
       "      <td>False</td>\n",
       "      <td>False</td>\n",
       "      <td>False</td>\n",
       "      <td>False</td>\n",
       "      <td>False</td>\n",
       "      <td>False</td>\n",
       "    </tr>\n",
       "    <tr>\n",
       "      <th>javascript</th>\n",
       "      <td>False</td>\n",
       "      <td>False</td>\n",
       "      <td>False</td>\n",
       "      <td>True</td>\n",
       "      <td>False</td>\n",
       "      <td>False</td>\n",
       "      <td>False</td>\n",
       "      <td>False</td>\n",
       "      <td>False</td>\n",
       "      <td>False</td>\n",
       "      <td>...</td>\n",
       "      <td>False</td>\n",
       "      <td>False</td>\n",
       "      <td>False</td>\n",
       "      <td>False</td>\n",
       "      <td>False</td>\n",
       "      <td>False</td>\n",
       "      <td>False</td>\n",
       "      <td>False</td>\n",
       "      <td>False</td>\n",
       "      <td>False</td>\n",
       "    </tr>\n",
       "    <tr>\n",
       "      <th>python</th>\n",
       "      <td>True</td>\n",
       "      <td>False</td>\n",
       "      <td>False</td>\n",
       "      <td>False</td>\n",
       "      <td>False</td>\n",
       "      <td>False</td>\n",
       "      <td>False</td>\n",
       "      <td>False</td>\n",
       "      <td>False</td>\n",
       "      <td>False</td>\n",
       "      <td>...</td>\n",
       "      <td>False</td>\n",
       "      <td>False</td>\n",
       "      <td>True</td>\n",
       "      <td>False</td>\n",
       "      <td>False</td>\n",
       "      <td>False</td>\n",
       "      <td>False</td>\n",
       "      <td>False</td>\n",
       "      <td>False</td>\n",
       "      <td>False</td>\n",
       "    </tr>\n",
       "    <tr>\n",
       "      <th>android</th>\n",
       "      <td>False</td>\n",
       "      <td>False</td>\n",
       "      <td>False</td>\n",
       "      <td>False</td>\n",
       "      <td>False</td>\n",
       "      <td>False</td>\n",
       "      <td>False</td>\n",
       "      <td>False</td>\n",
       "      <td>False</td>\n",
       "      <td>False</td>\n",
       "      <td>...</td>\n",
       "      <td>False</td>\n",
       "      <td>False</td>\n",
       "      <td>False</td>\n",
       "      <td>False</td>\n",
       "      <td>False</td>\n",
       "      <td>False</td>\n",
       "      <td>False</td>\n",
       "      <td>False</td>\n",
       "      <td>False</td>\n",
       "      <td>False</td>\n",
       "    </tr>\n",
       "    <tr>\n",
       "      <th>c++</th>\n",
       "      <td>False</td>\n",
       "      <td>False</td>\n",
       "      <td>False</td>\n",
       "      <td>False</td>\n",
       "      <td>True</td>\n",
       "      <td>False</td>\n",
       "      <td>False</td>\n",
       "      <td>False</td>\n",
       "      <td>False</td>\n",
       "      <td>False</td>\n",
       "      <td>...</td>\n",
       "      <td>False</td>\n",
       "      <td>False</td>\n",
       "      <td>False</td>\n",
       "      <td>False</td>\n",
       "      <td>False</td>\n",
       "      <td>False</td>\n",
       "      <td>False</td>\n",
       "      <td>False</td>\n",
       "      <td>False</td>\n",
       "      <td>False</td>\n",
       "    </tr>\n",
       "    <tr>\n",
       "      <th>ios</th>\n",
       "      <td>False</td>\n",
       "      <td>False</td>\n",
       "      <td>False</td>\n",
       "      <td>False</td>\n",
       "      <td>False</td>\n",
       "      <td>False</td>\n",
       "      <td>False</td>\n",
       "      <td>False</td>\n",
       "      <td>False</td>\n",
       "      <td>False</td>\n",
       "      <td>...</td>\n",
       "      <td>False</td>\n",
       "      <td>False</td>\n",
       "      <td>False</td>\n",
       "      <td>True</td>\n",
       "      <td>False</td>\n",
       "      <td>False</td>\n",
       "      <td>False</td>\n",
       "      <td>False</td>\n",
       "      <td>False</td>\n",
       "      <td>False</td>\n",
       "    </tr>\n",
       "    <tr>\n",
       "      <th>html</th>\n",
       "      <td>False</td>\n",
       "      <td>False</td>\n",
       "      <td>False</td>\n",
       "      <td>False</td>\n",
       "      <td>False</td>\n",
       "      <td>False</td>\n",
       "      <td>False</td>\n",
       "      <td>False</td>\n",
       "      <td>False</td>\n",
       "      <td>False</td>\n",
       "      <td>...</td>\n",
       "      <td>False</td>\n",
       "      <td>False</td>\n",
       "      <td>False</td>\n",
       "      <td>False</td>\n",
       "      <td>False</td>\n",
       "      <td>False</td>\n",
       "      <td>False</td>\n",
       "      <td>False</td>\n",
       "      <td>False</td>\n",
       "      <td>False</td>\n",
       "    </tr>\n",
       "    <tr>\n",
       "      <th>php</th>\n",
       "      <td>False</td>\n",
       "      <td>False</td>\n",
       "      <td>False</td>\n",
       "      <td>True</td>\n",
       "      <td>False</td>\n",
       "      <td>False</td>\n",
       "      <td>False</td>\n",
       "      <td>False</td>\n",
       "      <td>False</td>\n",
       "      <td>False</td>\n",
       "      <td>...</td>\n",
       "      <td>False</td>\n",
       "      <td>False</td>\n",
       "      <td>False</td>\n",
       "      <td>False</td>\n",
       "      <td>False</td>\n",
       "      <td>False</td>\n",
       "      <td>False</td>\n",
       "      <td>False</td>\n",
       "      <td>False</td>\n",
       "      <td>False</td>\n",
       "    </tr>\n",
       "    <tr>\n",
       "      <th>.net</th>\n",
       "      <td>False</td>\n",
       "      <td>False</td>\n",
       "      <td>False</td>\n",
       "      <td>False</td>\n",
       "      <td>False</td>\n",
       "      <td>False</td>\n",
       "      <td>False</td>\n",
       "      <td>False</td>\n",
       "      <td>False</td>\n",
       "      <td>False</td>\n",
       "      <td>...</td>\n",
       "      <td>False</td>\n",
       "      <td>False</td>\n",
       "      <td>False</td>\n",
       "      <td>False</td>\n",
       "      <td>False</td>\n",
       "      <td>False</td>\n",
       "      <td>False</td>\n",
       "      <td>False</td>\n",
       "      <td>False</td>\n",
       "      <td>False</td>\n",
       "    </tr>\n",
       "    <tr>\n",
       "      <th>jquery</th>\n",
       "      <td>False</td>\n",
       "      <td>False</td>\n",
       "      <td>False</td>\n",
       "      <td>False</td>\n",
       "      <td>False</td>\n",
       "      <td>False</td>\n",
       "      <td>False</td>\n",
       "      <td>False</td>\n",
       "      <td>False</td>\n",
       "      <td>False</td>\n",
       "      <td>...</td>\n",
       "      <td>False</td>\n",
       "      <td>False</td>\n",
       "      <td>False</td>\n",
       "      <td>False</td>\n",
       "      <td>False</td>\n",
       "      <td>False</td>\n",
       "      <td>False</td>\n",
       "      <td>False</td>\n",
       "      <td>False</td>\n",
       "      <td>False</td>\n",
       "    </tr>\n",
       "    <tr>\n",
       "      <th>css</th>\n",
       "      <td>False</td>\n",
       "      <td>False</td>\n",
       "      <td>False</td>\n",
       "      <td>False</td>\n",
       "      <td>False</td>\n",
       "      <td>False</td>\n",
       "      <td>False</td>\n",
       "      <td>False</td>\n",
       "      <td>False</td>\n",
       "      <td>False</td>\n",
       "      <td>...</td>\n",
       "      <td>False</td>\n",
       "      <td>False</td>\n",
       "      <td>False</td>\n",
       "      <td>False</td>\n",
       "      <td>False</td>\n",
       "      <td>False</td>\n",
       "      <td>False</td>\n",
       "      <td>False</td>\n",
       "      <td>False</td>\n",
       "      <td>False</td>\n",
       "    </tr>\n",
       "    <tr>\n",
       "      <th>objective-c</th>\n",
       "      <td>False</td>\n",
       "      <td>False</td>\n",
       "      <td>False</td>\n",
       "      <td>False</td>\n",
       "      <td>False</td>\n",
       "      <td>False</td>\n",
       "      <td>False</td>\n",
       "      <td>False</td>\n",
       "      <td>False</td>\n",
       "      <td>False</td>\n",
       "      <td>...</td>\n",
       "      <td>False</td>\n",
       "      <td>False</td>\n",
       "      <td>False</td>\n",
       "      <td>False</td>\n",
       "      <td>False</td>\n",
       "      <td>False</td>\n",
       "      <td>False</td>\n",
       "      <td>False</td>\n",
       "      <td>False</td>\n",
       "      <td>False</td>\n",
       "    </tr>\n",
       "    <tr>\n",
       "      <th>c</th>\n",
       "      <td>False</td>\n",
       "      <td>False</td>\n",
       "      <td>False</td>\n",
       "      <td>False</td>\n",
       "      <td>True</td>\n",
       "      <td>False</td>\n",
       "      <td>False</td>\n",
       "      <td>False</td>\n",
       "      <td>False</td>\n",
       "      <td>False</td>\n",
       "      <td>...</td>\n",
       "      <td>False</td>\n",
       "      <td>False</td>\n",
       "      <td>False</td>\n",
       "      <td>False</td>\n",
       "      <td>False</td>\n",
       "      <td>False</td>\n",
       "      <td>False</td>\n",
       "      <td>True</td>\n",
       "      <td>False</td>\n",
       "      <td>False</td>\n",
       "    </tr>\n",
       "    <tr>\n",
       "      <th>sql</th>\n",
       "      <td>False</td>\n",
       "      <td>False</td>\n",
       "      <td>True</td>\n",
       "      <td>False</td>\n",
       "      <td>False</td>\n",
       "      <td>False</td>\n",
       "      <td>False</td>\n",
       "      <td>False</td>\n",
       "      <td>False</td>\n",
       "      <td>False</td>\n",
       "      <td>...</td>\n",
       "      <td>False</td>\n",
       "      <td>False</td>\n",
       "      <td>False</td>\n",
       "      <td>False</td>\n",
       "      <td>False</td>\n",
       "      <td>True</td>\n",
       "      <td>False</td>\n",
       "      <td>False</td>\n",
       "      <td>False</td>\n",
       "      <td>False</td>\n",
       "    </tr>\n",
       "    <tr>\n",
       "      <th>iphone</th>\n",
       "      <td>False</td>\n",
       "      <td>False</td>\n",
       "      <td>False</td>\n",
       "      <td>False</td>\n",
       "      <td>False</td>\n",
       "      <td>False</td>\n",
       "      <td>False</td>\n",
       "      <td>False</td>\n",
       "      <td>False</td>\n",
       "      <td>False</td>\n",
       "      <td>...</td>\n",
       "      <td>False</td>\n",
       "      <td>False</td>\n",
       "      <td>False</td>\n",
       "      <td>True</td>\n",
       "      <td>False</td>\n",
       "      <td>False</td>\n",
       "      <td>False</td>\n",
       "      <td>False</td>\n",
       "      <td>False</td>\n",
       "      <td>False</td>\n",
       "    </tr>\n",
       "    <tr>\n",
       "      <th>asp.net</th>\n",
       "      <td>False</td>\n",
       "      <td>False</td>\n",
       "      <td>False</td>\n",
       "      <td>False</td>\n",
       "      <td>False</td>\n",
       "      <td>False</td>\n",
       "      <td>False</td>\n",
       "      <td>False</td>\n",
       "      <td>False</td>\n",
       "      <td>False</td>\n",
       "      <td>...</td>\n",
       "      <td>False</td>\n",
       "      <td>False</td>\n",
       "      <td>False</td>\n",
       "      <td>False</td>\n",
       "      <td>False</td>\n",
       "      <td>False</td>\n",
       "      <td>False</td>\n",
       "      <td>False</td>\n",
       "      <td>False</td>\n",
       "      <td>False</td>\n",
       "    </tr>\n",
       "    <tr>\n",
       "      <th>mysql</th>\n",
       "      <td>False</td>\n",
       "      <td>False</td>\n",
       "      <td>True</td>\n",
       "      <td>False</td>\n",
       "      <td>False</td>\n",
       "      <td>False</td>\n",
       "      <td>False</td>\n",
       "      <td>False</td>\n",
       "      <td>False</td>\n",
       "      <td>False</td>\n",
       "      <td>...</td>\n",
       "      <td>False</td>\n",
       "      <td>False</td>\n",
       "      <td>False</td>\n",
       "      <td>False</td>\n",
       "      <td>False</td>\n",
       "      <td>False</td>\n",
       "      <td>False</td>\n",
       "      <td>False</td>\n",
       "      <td>False</td>\n",
       "      <td>False</td>\n",
       "    </tr>\n",
       "    <tr>\n",
       "      <th>linux</th>\n",
       "      <td>False</td>\n",
       "      <td>False</td>\n",
       "      <td>False</td>\n",
       "      <td>False</td>\n",
       "      <td>False</td>\n",
       "      <td>True</td>\n",
       "      <td>False</td>\n",
       "      <td>False</td>\n",
       "      <td>False</td>\n",
       "      <td>False</td>\n",
       "      <td>...</td>\n",
       "      <td>False</td>\n",
       "      <td>False</td>\n",
       "      <td>False</td>\n",
       "      <td>False</td>\n",
       "      <td>False</td>\n",
       "      <td>False</td>\n",
       "      <td>False</td>\n",
       "      <td>False</td>\n",
       "      <td>False</td>\n",
       "      <td>True</td>\n",
       "    </tr>\n",
       "    <tr>\n",
       "      <th>node.js</th>\n",
       "      <td>False</td>\n",
       "      <td>False</td>\n",
       "      <td>False</td>\n",
       "      <td>False</td>\n",
       "      <td>False</td>\n",
       "      <td>False</td>\n",
       "      <td>False</td>\n",
       "      <td>False</td>\n",
       "      <td>False</td>\n",
       "      <td>False</td>\n",
       "      <td>...</td>\n",
       "      <td>False</td>\n",
       "      <td>False</td>\n",
       "      <td>False</td>\n",
       "      <td>False</td>\n",
       "      <td>False</td>\n",
       "      <td>False</td>\n",
       "      <td>False</td>\n",
       "      <td>False</td>\n",
       "      <td>False</td>\n",
       "      <td>False</td>\n",
       "    </tr>\n",
       "    <tr>\n",
       "      <th>git</th>\n",
       "      <td>False</td>\n",
       "      <td>False</td>\n",
       "      <td>False</td>\n",
       "      <td>False</td>\n",
       "      <td>False</td>\n",
       "      <td>False</td>\n",
       "      <td>False</td>\n",
       "      <td>False</td>\n",
       "      <td>False</td>\n",
       "      <td>False</td>\n",
       "      <td>...</td>\n",
       "      <td>False</td>\n",
       "      <td>False</td>\n",
       "      <td>False</td>\n",
       "      <td>False</td>\n",
       "      <td>False</td>\n",
       "      <td>False</td>\n",
       "      <td>False</td>\n",
       "      <td>False</td>\n",
       "      <td>False</td>\n",
       "      <td>False</td>\n",
       "    </tr>\n",
       "  </tbody>\n",
       "</table>\n",
       "<p>21 rows × 29611 columns</p>\n",
       "</div>"
      ],
      "text/plain": [
       "             0      1      2      3      4      5      6      7      8      \\\n",
       "java         False  False  False  False   True  False  False  False  False   \n",
       "c#           False  False  False  False  False  False  False  False  False   \n",
       "javascript   False  False  False   True  False  False  False  False  False   \n",
       "python        True  False  False  False  False  False  False  False  False   \n",
       "android      False  False  False  False  False  False  False  False  False   \n",
       "c++          False  False  False  False   True  False  False  False  False   \n",
       "ios          False  False  False  False  False  False  False  False  False   \n",
       "html         False  False  False  False  False  False  False  False  False   \n",
       "php          False  False  False   True  False  False  False  False  False   \n",
       ".net         False  False  False  False  False  False  False  False  False   \n",
       "jquery       False  False  False  False  False  False  False  False  False   \n",
       "css          False  False  False  False  False  False  False  False  False   \n",
       "objective-c  False  False  False  False  False  False  False  False  False   \n",
       "c            False  False  False  False   True  False  False  False  False   \n",
       "sql          False  False   True  False  False  False  False  False  False   \n",
       "iphone       False  False  False  False  False  False  False  False  False   \n",
       "asp.net      False  False  False  False  False  False  False  False  False   \n",
       "mysql        False  False   True  False  False  False  False  False  False   \n",
       "linux        False  False  False  False  False   True  False  False  False   \n",
       "node.js      False  False  False  False  False  False  False  False  False   \n",
       "git          False  False  False  False  False  False  False  False  False   \n",
       "\n",
       "             9      ...  29601  29602  29603  29604  29605  29606  29607  \\\n",
       "java         False  ...  False  False  False  False  False  False  False   \n",
       "c#           False  ...  False  False  False  False  False  False  False   \n",
       "javascript   False  ...  False  False  False  False  False  False  False   \n",
       "python       False  ...  False  False   True  False  False  False  False   \n",
       "android      False  ...  False  False  False  False  False  False  False   \n",
       "c++          False  ...  False  False  False  False  False  False  False   \n",
       "ios          False  ...  False  False  False   True  False  False  False   \n",
       "html         False  ...  False  False  False  False  False  False  False   \n",
       "php          False  ...  False  False  False  False  False  False  False   \n",
       ".net         False  ...  False  False  False  False  False  False  False   \n",
       "jquery       False  ...  False  False  False  False  False  False  False   \n",
       "css          False  ...  False  False  False  False  False  False  False   \n",
       "objective-c  False  ...  False  False  False  False  False  False  False   \n",
       "c            False  ...  False  False  False  False  False  False  False   \n",
       "sql          False  ...  False  False  False  False  False   True  False   \n",
       "iphone       False  ...  False  False  False   True  False  False  False   \n",
       "asp.net      False  ...  False  False  False  False  False  False  False   \n",
       "mysql        False  ...  False  False  False  False  False  False  False   \n",
       "linux        False  ...  False  False  False  False  False  False  False   \n",
       "node.js      False  ...  False  False  False  False  False  False  False   \n",
       "git          False  ...  False  False  False  False  False  False  False   \n",
       "\n",
       "             29608  29609  29610  \n",
       "java         False  False  False  \n",
       "c#           False  False  False  \n",
       "javascript   False  False  False  \n",
       "python       False  False  False  \n",
       "android      False  False  False  \n",
       "c++          False  False  False  \n",
       "ios          False  False  False  \n",
       "html         False  False  False  \n",
       "php          False  False  False  \n",
       ".net         False  False  False  \n",
       "jquery       False  False  False  \n",
       "css          False  False  False  \n",
       "objective-c  False  False  False  \n",
       "c             True  False  False  \n",
       "sql          False  False  False  \n",
       "iphone       False  False  False  \n",
       "asp.net      False  False  False  \n",
       "mysql        False  False  False  \n",
       "linux        False  False   True  \n",
       "node.js      False  False  False  \n",
       "git          False  False  False  \n",
       "\n",
       "[21 rows x 29611 columns]"
      ]
     },
     "execution_count": 20,
     "metadata": {},
     "output_type": "execute_result"
    }
   ],
   "source": [
    "test_str = X_test.str\n",
    "pred_is_in = pd.DataFrame(\n",
    "    {\n",
    "        target_name: test_str.contains(\n",
    "            f\" {target_name} \", case=False, regex=False\n",
    "        ).values\n",
    "        for target_name in target_names\n",
    "    }\n",
    ")\n",
    "pred_is_in.T"
   ]
  },
  {
   "cell_type": "code",
   "execution_count": 21,
   "id": "313d0e66",
   "metadata": {
    "execution": {
     "iopub.execute_input": "2023-01-04T13:56:05.485412Z",
     "iopub.status.busy": "2023-01-04T13:56:05.484586Z",
     "iopub.status.idle": "2023-01-04T13:56:05.557128Z",
     "shell.execute_reply": "2023-01-04T13:56:05.556151Z"
    },
    "papermill": {
     "duration": 0.093738,
     "end_time": "2023-01-04T13:56:05.559190",
     "exception": false,
     "start_time": "2023-01-04T13:56:05.465452",
     "status": "completed"
    },
    "tags": []
   },
   "outputs": [
    {
     "data": {
      "text/html": [
       "<div>\n",
       "<style scoped>\n",
       "    .dataframe tbody tr th:only-of-type {\n",
       "        vertical-align: middle;\n",
       "    }\n",
       "\n",
       "    .dataframe tbody tr th {\n",
       "        vertical-align: top;\n",
       "    }\n",
       "\n",
       "    .dataframe thead th {\n",
       "        text-align: right;\n",
       "    }\n",
       "</style>\n",
       "<table border=\"1\" class=\"dataframe\">\n",
       "  <thead>\n",
       "    <tr style=\"text-align: right;\">\n",
       "      <th></th>\n",
       "      <th>precision</th>\n",
       "      <th>recall</th>\n",
       "      <th>f1-score</th>\n",
       "      <th>support</th>\n",
       "    </tr>\n",
       "  </thead>\n",
       "  <tbody>\n",
       "    <tr>\n",
       "      <th>git</th>\n",
       "      <td>0.716846</td>\n",
       "      <td>0.729927</td>\n",
       "      <td>0.723327</td>\n",
       "      <td>274.0</td>\n",
       "    </tr>\n",
       "    <tr>\n",
       "      <th>mysql</th>\n",
       "      <td>0.723949</td>\n",
       "      <td>0.578102</td>\n",
       "      <td>0.642857</td>\n",
       "      <td>685.0</td>\n",
       "    </tr>\n",
       "    <tr>\n",
       "      <th>python</th>\n",
       "      <td>0.878273</td>\n",
       "      <td>0.475115</td>\n",
       "      <td>0.616646</td>\n",
       "      <td>2612.0</td>\n",
       "    </tr>\n",
       "    <tr>\n",
       "      <th>php</th>\n",
       "      <td>0.827292</td>\n",
       "      <td>0.476951</td>\n",
       "      <td>0.605068</td>\n",
       "      <td>1627.0</td>\n",
       "    </tr>\n",
       "    <tr>\n",
       "      <th>android</th>\n",
       "      <td>0.851163</td>\n",
       "      <td>0.447433</td>\n",
       "      <td>0.586538</td>\n",
       "      <td>2045.0</td>\n",
       "    </tr>\n",
       "    <tr>\n",
       "      <th>jquery</th>\n",
       "      <td>0.796804</td>\n",
       "      <td>0.453836</td>\n",
       "      <td>0.578293</td>\n",
       "      <td>1538.0</td>\n",
       "    </tr>\n",
       "    <tr>\n",
       "      <th>css</th>\n",
       "      <td>0.714670</td>\n",
       "      <td>0.469496</td>\n",
       "      <td>0.566702</td>\n",
       "      <td>1131.0</td>\n",
       "    </tr>\n",
       "    <tr>\n",
       "      <th>c++</th>\n",
       "      <td>0.805702</td>\n",
       "      <td>0.388493</td>\n",
       "      <td>0.524218</td>\n",
       "      <td>1964.0</td>\n",
       "    </tr>\n",
       "    <tr>\n",
       "      <th>java</th>\n",
       "      <td>0.766089</td>\n",
       "      <td>0.347948</td>\n",
       "      <td>0.478547</td>\n",
       "      <td>3558.0</td>\n",
       "    </tr>\n",
       "    <tr>\n",
       "      <th>linux</th>\n",
       "      <td>0.458265</td>\n",
       "      <td>0.411765</td>\n",
       "      <td>0.433772</td>\n",
       "      <td>680.0</td>\n",
       "    </tr>\n",
       "    <tr>\n",
       "      <th>micro avg</th>\n",
       "      <td>0.642411</td>\n",
       "      <td>0.326746</td>\n",
       "      <td>0.433171</td>\n",
       "      <td>33044.0</td>\n",
       "    </tr>\n",
       "    <tr>\n",
       "      <th>macro avg</th>\n",
       "      <td>0.604087</td>\n",
       "      <td>0.360648</td>\n",
       "      <td>0.429556</td>\n",
       "      <td>33044.0</td>\n",
       "    </tr>\n",
       "    <tr>\n",
       "      <th>sql</th>\n",
       "      <td>0.412766</td>\n",
       "      <td>0.445977</td>\n",
       "      <td>0.428729</td>\n",
       "      <td>870.0</td>\n",
       "    </tr>\n",
       "    <tr>\n",
       "      <th>html</th>\n",
       "      <td>0.481022</td>\n",
       "      <td>0.375499</td>\n",
       "      <td>0.421760</td>\n",
       "      <td>1755.0</td>\n",
       "    </tr>\n",
       "    <tr>\n",
       "      <th>weighted avg</th>\n",
       "      <td>0.618122</td>\n",
       "      <td>0.326746</td>\n",
       "      <td>0.413810</td>\n",
       "      <td>33044.0</td>\n",
       "    </tr>\n",
       "    <tr>\n",
       "      <th>asp.net</th>\n",
       "      <td>0.524096</td>\n",
       "      <td>0.324224</td>\n",
       "      <td>0.400614</td>\n",
       "      <td>805.0</td>\n",
       "    </tr>\n",
       "    <tr>\n",
       "      <th>iphone</th>\n",
       "      <td>0.578947</td>\n",
       "      <td>0.299876</td>\n",
       "      <td>0.395102</td>\n",
       "      <td>807.0</td>\n",
       "    </tr>\n",
       "    <tr>\n",
       "      <th>javascript</th>\n",
       "      <td>0.766812</td>\n",
       "      <td>0.261621</td>\n",
       "      <td>0.390136</td>\n",
       "      <td>3356.0</td>\n",
       "    </tr>\n",
       "    <tr>\n",
       "      <th>ios</th>\n",
       "      <td>0.768456</td>\n",
       "      <td>0.248913</td>\n",
       "      <td>0.376026</td>\n",
       "      <td>1840.0</td>\n",
       "    </tr>\n",
       "    <tr>\n",
       "      <th>.net</th>\n",
       "      <td>0.536657</td>\n",
       "      <td>0.233270</td>\n",
       "      <td>0.325189</td>\n",
       "      <td>1569.0</td>\n",
       "    </tr>\n",
       "    <tr>\n",
       "      <th>c</th>\n",
       "      <td>0.205295</td>\n",
       "      <td>0.464407</td>\n",
       "      <td>0.284725</td>\n",
       "      <td>885.0</td>\n",
       "    </tr>\n",
       "    <tr>\n",
       "      <th>samples avg</th>\n",
       "      <td>0.283512</td>\n",
       "      <td>0.263238</td>\n",
       "      <td>0.262590</td>\n",
       "      <td>33044.0</td>\n",
       "    </tr>\n",
       "    <tr>\n",
       "      <th>node.js</th>\n",
       "      <td>0.872727</td>\n",
       "      <td>0.140762</td>\n",
       "      <td>0.242424</td>\n",
       "      <td>682.0</td>\n",
       "    </tr>\n",
       "    <tr>\n",
       "      <th>c#</th>\n",
       "      <td>0.000000</td>\n",
       "      <td>0.000000</td>\n",
       "      <td>0.000000</td>\n",
       "      <td>3473.0</td>\n",
       "    </tr>\n",
       "    <tr>\n",
       "      <th>objective-c</th>\n",
       "      <td>0.000000</td>\n",
       "      <td>0.000000</td>\n",
       "      <td>0.000000</td>\n",
       "      <td>888.0</td>\n",
       "    </tr>\n",
       "  </tbody>\n",
       "</table>\n",
       "</div>"
      ],
      "text/plain": [
       "              precision    recall  f1-score  support\n",
       "git            0.716846  0.729927  0.723327    274.0\n",
       "mysql          0.723949  0.578102  0.642857    685.0\n",
       "python         0.878273  0.475115  0.616646   2612.0\n",
       "php            0.827292  0.476951  0.605068   1627.0\n",
       "android        0.851163  0.447433  0.586538   2045.0\n",
       "jquery         0.796804  0.453836  0.578293   1538.0\n",
       "css            0.714670  0.469496  0.566702   1131.0\n",
       "c++            0.805702  0.388493  0.524218   1964.0\n",
       "java           0.766089  0.347948  0.478547   3558.0\n",
       "linux          0.458265  0.411765  0.433772    680.0\n",
       "micro avg      0.642411  0.326746  0.433171  33044.0\n",
       "macro avg      0.604087  0.360648  0.429556  33044.0\n",
       "sql            0.412766  0.445977  0.428729    870.0\n",
       "html           0.481022  0.375499  0.421760   1755.0\n",
       "weighted avg   0.618122  0.326746  0.413810  33044.0\n",
       "asp.net        0.524096  0.324224  0.400614    805.0\n",
       "iphone         0.578947  0.299876  0.395102    807.0\n",
       "javascript     0.766812  0.261621  0.390136   3356.0\n",
       "ios            0.768456  0.248913  0.376026   1840.0\n",
       ".net           0.536657  0.233270  0.325189   1569.0\n",
       "c              0.205295  0.464407  0.284725    885.0\n",
       "samples avg    0.283512  0.263238  0.262590  33044.0\n",
       "node.js        0.872727  0.140762  0.242424    682.0\n",
       "c#             0.000000  0.000000  0.000000   3473.0\n",
       "objective-c    0.000000  0.000000  0.000000    888.0"
      ]
     },
     "execution_count": 21,
     "metadata": {},
     "output_type": "execute_result"
    }
   ],
   "source": [
    "score_naive_is_in = save_score(y_test, pred_is_in, target_names, \"naive_is_in\")\n",
    "score_naive_is_in.sort_values(by=\"f1-score\", ascending=False)"
   ]
  },
  {
   "cell_type": "code",
   "execution_count": 22,
   "id": "fa62d425",
   "metadata": {
    "execution": {
     "iopub.execute_input": "2023-01-04T13:56:05.598749Z",
     "iopub.status.busy": "2023-01-04T13:56:05.597294Z",
     "iopub.status.idle": "2023-01-04T13:56:05.664005Z",
     "shell.execute_reply": "2023-01-04T13:56:05.662975Z"
    },
    "papermill": {
     "duration": 0.088141,
     "end_time": "2023-01-04T13:56:05.666082",
     "exception": false,
     "start_time": "2023-01-04T13:56:05.577941",
     "status": "completed"
    },
    "tags": []
   },
   "outputs": [
    {
     "name": "stdout",
     "output_type": "stream",
     "text": [
      "\u001b[1mjava\u001b[0m\n",
      "\t Sur entrainement \u001b[92m12.05%\u001b[0m positif \u001b[91m87.95%\u001b[0m negatif\n",
      "\t Sur test \u001b[92m12.02%\u001b[0m positif \u001b[91m87.98%\u001b[0m negatif\n",
      "\n",
      "\n",
      "\u001b[1mc#\u001b[0m\n",
      "\t Sur entrainement \u001b[92m11.80%\u001b[0m positif \u001b[91m88.20%\u001b[0m negatif\n",
      "\t Sur test \u001b[92m11.73%\u001b[0m positif \u001b[91m88.27%\u001b[0m negatif\n",
      "\n",
      "\n",
      "\u001b[1mjavascript\u001b[0m\n",
      "\t Sur entrainement \u001b[92m11.77%\u001b[0m positif \u001b[91m88.23%\u001b[0m negatif\n",
      "\t Sur test \u001b[92m11.33%\u001b[0m positif \u001b[91m88.67%\u001b[0m negatif\n",
      "\n",
      "\n",
      "\u001b[1mpython\u001b[0m\n",
      "\t Sur entrainement \u001b[92m8.61%\u001b[0m positif \u001b[91m91.39%\u001b[0m negatif\n",
      "\t Sur test \u001b[92m8.82%\u001b[0m positif \u001b[91m91.18%\u001b[0m negatif\n",
      "\n",
      "\n",
      "\u001b[1mandroid\u001b[0m\n",
      "\t Sur entrainement \u001b[92m7.00%\u001b[0m positif \u001b[91m93.00%\u001b[0m negatif\n",
      "\t Sur test \u001b[92m6.91%\u001b[0m positif \u001b[91m93.09%\u001b[0m negatif\n",
      "\n",
      "\n",
      "\u001b[1mc++\u001b[0m\n",
      "\t Sur entrainement \u001b[92m6.63%\u001b[0m positif \u001b[91m93.37%\u001b[0m negatif\n",
      "\t Sur test \u001b[92m6.63%\u001b[0m positif \u001b[91m93.37%\u001b[0m negatif\n",
      "\n",
      "\n",
      "\u001b[1mios\u001b[0m\n",
      "\t Sur entrainement \u001b[92m6.25%\u001b[0m positif \u001b[91m93.75%\u001b[0m negatif\n",
      "\t Sur test \u001b[92m6.21%\u001b[0m positif \u001b[91m93.79%\u001b[0m negatif\n",
      "\n",
      "\n",
      "\u001b[1mhtml\u001b[0m\n",
      "\t Sur entrainement \u001b[92m5.85%\u001b[0m positif \u001b[91m94.15%\u001b[0m negatif\n",
      "\t Sur test \u001b[92m5.93%\u001b[0m positif \u001b[91m94.07%\u001b[0m negatif\n",
      "\n",
      "\n",
      "\u001b[1mphp\u001b[0m\n",
      "\t Sur entrainement \u001b[92m5.56%\u001b[0m positif \u001b[91m94.44%\u001b[0m negatif\n",
      "\t Sur test \u001b[92m5.49%\u001b[0m positif \u001b[91m94.51%\u001b[0m negatif\n",
      "\n",
      "\n",
      "\u001b[1m.net\u001b[0m\n",
      "\t Sur entrainement \u001b[92m5.34%\u001b[0m positif \u001b[91m94.66%\u001b[0m negatif\n",
      "\t Sur test \u001b[92m5.30%\u001b[0m positif \u001b[91m94.70%\u001b[0m negatif\n",
      "\n",
      "\n",
      "\u001b[1mjquery\u001b[0m\n",
      "\t Sur entrainement \u001b[92m5.36%\u001b[0m positif \u001b[91m94.64%\u001b[0m negatif\n",
      "\t Sur test \u001b[92m5.19%\u001b[0m positif \u001b[91m94.81%\u001b[0m negatif\n",
      "\n",
      "\n",
      "\u001b[1mcss\u001b[0m\n",
      "\t Sur entrainement \u001b[92m3.77%\u001b[0m positif \u001b[91m96.23%\u001b[0m negatif\n",
      "\t Sur test \u001b[92m3.82%\u001b[0m positif \u001b[91m96.18%\u001b[0m negatif\n",
      "\n",
      "\n",
      "\u001b[1mobjective-c\u001b[0m\n",
      "\t Sur entrainement \u001b[92m3.08%\u001b[0m positif \u001b[91m96.92%\u001b[0m negatif\n",
      "\t Sur test \u001b[92m3.00%\u001b[0m positif \u001b[91m97.00%\u001b[0m negatif\n",
      "\n",
      "\n",
      "\u001b[1mc\u001b[0m\n",
      "\t Sur entrainement \u001b[92m3.08%\u001b[0m positif \u001b[91m96.92%\u001b[0m negatif\n",
      "\t Sur test \u001b[92m2.99%\u001b[0m positif \u001b[91m97.01%\u001b[0m negatif\n",
      "\n",
      "\n",
      "\u001b[1msql\u001b[0m\n",
      "\t Sur entrainement \u001b[92m3.00%\u001b[0m positif \u001b[91m97.00%\u001b[0m negatif\n",
      "\t Sur test \u001b[92m2.94%\u001b[0m positif \u001b[91m97.06%\u001b[0m negatif\n",
      "\n",
      "\n",
      "\u001b[1miphone\u001b[0m\n",
      "\t Sur entrainement \u001b[92m2.79%\u001b[0m positif \u001b[91m97.21%\u001b[0m negatif\n",
      "\t Sur test \u001b[92m2.73%\u001b[0m positif \u001b[91m97.27%\u001b[0m negatif\n",
      "\n",
      "\n",
      "\u001b[1masp.net\u001b[0m\n",
      "\t Sur entrainement \u001b[92m2.73%\u001b[0m positif \u001b[91m97.27%\u001b[0m negatif\n",
      "\t Sur test \u001b[92m2.72%\u001b[0m positif \u001b[91m97.28%\u001b[0m negatif\n",
      "\n",
      "\n",
      "\u001b[1mmysql\u001b[0m\n",
      "\t Sur entrainement \u001b[92m2.37%\u001b[0m positif \u001b[91m97.63%\u001b[0m negatif\n",
      "\t Sur test \u001b[92m2.31%\u001b[0m positif \u001b[91m97.69%\u001b[0m negatif\n",
      "\n",
      "\n",
      "\u001b[1mlinux\u001b[0m\n",
      "\t Sur entrainement \u001b[92m2.34%\u001b[0m positif \u001b[91m97.66%\u001b[0m negatif\n",
      "\t Sur test \u001b[92m2.30%\u001b[0m positif \u001b[91m97.70%\u001b[0m negatif\n",
      "\n",
      "\n",
      "\u001b[1mnode.js\u001b[0m\n",
      "\t Sur entrainement \u001b[92m2.29%\u001b[0m positif \u001b[91m97.71%\u001b[0m negatif\n",
      "\t Sur test \u001b[92m2.30%\u001b[0m positif \u001b[91m97.70%\u001b[0m negatif\n",
      "\n",
      "\n",
      "\u001b[1mgit\u001b[0m\n",
      "\t Sur entrainement \u001b[92m0.95%\u001b[0m positif \u001b[91m99.05%\u001b[0m negatif\n",
      "\t Sur test \u001b[92m0.93%\u001b[0m positif \u001b[91m99.07%\u001b[0m negatif\n",
      "\n",
      "\n"
     ]
    }
   ],
   "source": [
    "for column in y_train.columns:\n",
    "    t_train = y_train[column].value_counts(normalize=True)\n",
    "    t_test = y_test[column].value_counts(normalize=True)\n",
    "    print(f\"{colors.BOLD}{column}{colors.ENDC}\")\n",
    "    print(\n",
    "        f\"\\t Sur entrainement {colors.GREEN}{t_train[True]:.2%}{colors.ENDC} positif {colors.RED}{t_train[False]:.2%}{colors.ENDC} negatif\"\n",
    "    )\n",
    "    print(\n",
    "        f\"\\t Sur test {colors.GREEN}{t_test[True]:.2%}{colors.ENDC} positif {colors.RED}{t_test[False]:.2%}{colors.ENDC} negatif\"\n",
    "    )\n",
    "    print(\"\\n\")"
   ]
  },
  {
   "cell_type": "markdown",
   "id": "beadfa34",
   "metadata": {
    "papermill": {
     "duration": 0.018584,
     "end_time": "2023-01-04T13:56:05.703869",
     "exception": false,
     "start_time": "2023-01-04T13:56:05.685285",
     "status": "completed"
    },
    "tags": []
   },
   "source": [
    "# CountVectorizer"
   ]
  },
  {
   "cell_type": "code",
   "execution_count": 23,
   "id": "7edb4f5d",
   "metadata": {
    "execution": {
     "iopub.execute_input": "2023-01-04T13:56:05.742785Z",
     "iopub.status.busy": "2023-01-04T13:56:05.742032Z",
     "iopub.status.idle": "2023-01-04T13:56:09.829429Z",
     "shell.execute_reply": "2023-01-04T13:56:09.828362Z"
    },
    "papermill": {
     "duration": 4.108907,
     "end_time": "2023-01-04T13:56:09.831423",
     "exception": false,
     "start_time": "2023-01-04T13:56:05.722516",
     "status": "completed"
    },
    "tags": []
   },
   "outputs": [
    {
     "name": "stdout",
     "output_type": "stream",
     "text": [
      "\n",
      "******************************\n",
      " pour min_df:1e-05; max_df:0.995\n",
      "\ttokens unique:\n",
      "\t\t53999 dans title et body regroupé\n"
     ]
    }
   ],
   "source": [
    "best_min_df = description[\"CountVectorizer\"][\"min_df\"]\n",
    "best_max_df = description[\"CountVectorizer\"][\"max_df\"]\n",
    "for min_df in [0.01, 0.05, 0.005, 0.0005, 0.00001] if LONG else [best_min_df]:\n",
    "    for max_df in [0.95, 0.995, 0.9995] if LONG else [best_max_df]:\n",
    "        print(f\"\\n{'*'*30}\\n pour min_df:{min_df}; max_df:{max_df}\")\n",
    "        count_vectorizer = feature_extraction.text.CountVectorizer(\n",
    "            min_df=min_df, max_df=max_df, max_features=None\n",
    "        )\n",
    "        #         pipe = pipeline.make_pipeline(feature_extraction.text.CountVectorizer(min_df=min_df, max_df=max_df, max_features=None), feature_extraction.text.TfidfTransformer( norm=\"l2\", use_idf=True, smooth_idf=True, sublinear_tf=False))\n",
    "        #         feat_train = pipe.transform(X_train[\"Token\"])\n",
    "        #         print(feat_train.shape)\n",
    "\n",
    "        token_vectors = count_vectorizer.fit_transform(df[\"Token\"])\n",
    "        print(\n",
    "            f\"\\ttokens unique:\\n\\t\\t{token_vectors.shape[1]} dans title et body regroupé\"\n",
    "        )"
   ]
  },
  {
   "cell_type": "markdown",
   "id": "eec367bf",
   "metadata": {
    "papermill": {
     "duration": 0.018526,
     "end_time": "2023-01-04T13:56:09.869263",
     "exception": false,
     "start_time": "2023-01-04T13:56:09.850737",
     "status": "completed"
    },
    "tags": []
   },
   "source": [
    "### Test reduction dimension\n",
    "avec n_components=1_000 : 10% de la variance éxpliqué\n"
   ]
  },
  {
   "cell_type": "code",
   "execution_count": 24,
   "id": "9600735a",
   "metadata": {
    "execution": {
     "iopub.execute_input": "2023-01-04T13:56:09.908535Z",
     "iopub.status.busy": "2023-01-04T13:56:09.908202Z",
     "iopub.status.idle": "2023-01-04T13:56:09.945935Z",
     "shell.execute_reply": "2023-01-04T13:56:09.944892Z"
    },
    "papermill": {
     "duration": 0.060098,
     "end_time": "2023-01-04T13:56:09.947997",
     "exception": false,
     "start_time": "2023-01-04T13:56:09.887899",
     "status": "completed"
    },
    "tags": []
   },
   "outputs": [
    {
     "name": "stdout",
     "output_type": "stream",
     "text": [
      "CPU times: user 3 µs, sys: 1 µs, total: 4 µs\n",
      "Wall time: 6.68 µs\n"
     ]
    }
   ],
   "source": [
    "%%time\n",
    "if LONG:\n",
    "    truncSvd = decomposition.TruncatedSVD(n_components=1000).fit(\n",
    "        preprocessing.StandardScaler(with_mean=False).fit_transform(token_vectors)\n",
    "    )\n",
    "    plt.figure(figsize=(30, 15))\n",
    "    scree = truncSvd.explained_variance_ratio_ * 100\n",
    "    plt.bar(np.arange(len(scree)) + 1, scree)\n",
    "    plt.plot(np.arange(len(scree)) + 1, scree.cumsum(), c=\"red\", marker=\"o\")\n",
    "    plt.xlabel(\"rang de l'axe d'inertie\")\n",
    "    plt.ylabel(\"pourcentage variance expliquée\")\n",
    "    plt.title(\"Eboulis des valeurs propres\")\n",
    "    plt.show()"
   ]
  },
  {
   "cell_type": "markdown",
   "id": "bdc37e6a",
   "metadata": {
    "papermill": {
     "duration": 0.018838,
     "end_time": "2023-01-04T13:56:09.985222",
     "exception": false,
     "start_time": "2023-01-04T13:56:09.966384",
     "status": "completed"
    },
    "tags": []
   },
   "source": [
    "# PreprocessPipeline"
   ]
  },
  {
   "cell_type": "code",
   "execution_count": 25,
   "id": "36ddb278",
   "metadata": {
    "execution": {
     "iopub.execute_input": "2023-01-04T13:56:10.024698Z",
     "iopub.status.busy": "2023-01-04T13:56:10.023089Z",
     "iopub.status.idle": "2023-01-04T13:56:10.073540Z",
     "shell.execute_reply": "2023-01-04T13:56:10.072672Z"
    },
    "papermill": {
     "duration": 0.071895,
     "end_time": "2023-01-04T13:56:10.075566",
     "exception": false,
     "start_time": "2023-01-04T13:56:10.003671",
     "status": "completed"
    },
    "tags": []
   },
   "outputs": [],
   "source": [
    "pipeline_tfidf = pipeline.Pipeline(\n",
    "    [\n",
    "        (\n",
    "            \"count\",\n",
    "            feature_extraction.text.CountVectorizer(\n",
    "                min_df=best_min_df, max_df=best_max_df, max_features=None\n",
    "            ),\n",
    "        ),\n",
    "        (\n",
    "            \"tfidf\",\n",
    "            feature_extraction.text.TfidfTransformer(\n",
    "                norm=\"l2\", use_idf=True, smooth_idf=True, sublinear_tf=False\n",
    "            ),\n",
    "        ),\n",
    "        (\n",
    "            \"scale\",\n",
    "            preprocessing.StandardScaler(with_mean=False)\n",
    "            if description[\"StandardScaler\"][\"actif\"]\n",
    "            else \"passthrough\",\n",
    "        ),\n",
    "        (\n",
    "            \"dimReduction\",\n",
    "            decomposition.TruncatedSVD(\n",
    "                n_components=description[\"TruncatedSVD\"][\"n_components\"]\n",
    "            )\n",
    "            if description[\"TruncatedSVD\"][\"actif\"]\n",
    "            else \"passthrough\",\n",
    "        ),\n",
    "    ]\n",
    ")\n",
    "## @TODO cache\n",
    "# memory = joblib.Memory(location=\"/kaggle/working/cache_dir\", verbose=0)\n",
    "# pipeline_tfidf = memory.cache(pipeline_tfidf)"
   ]
  },
  {
   "cell_type": "markdown",
   "id": "c45ee885",
   "metadata": {
    "papermill": {
     "duration": 0.018281,
     "end_time": "2023-01-04T13:56:10.112644",
     "exception": false,
     "start_time": "2023-01-04T13:56:10.094363",
     "status": "completed"
    },
    "tags": []
   },
   "source": [
    "# OvsRest"
   ]
  },
  {
   "cell_type": "markdown",
   "id": "fcdc05a4",
   "metadata": {
    "papermill": {
     "duration": 0.018378,
     "end_time": "2023-01-04T13:56:10.149638",
     "exception": false,
     "start_time": "2023-01-04T13:56:10.131260",
     "status": "completed"
    },
    "tags": []
   },
   "source": [
    "## LogisticRegression"
   ]
  },
  {
   "cell_type": "code",
   "execution_count": 26,
   "id": "7669bea3",
   "metadata": {
    "execution": {
     "iopub.execute_input": "2023-01-04T13:56:10.188631Z",
     "iopub.status.busy": "2023-01-04T13:56:10.187791Z",
     "iopub.status.idle": "2023-01-04T13:56:10.228065Z",
     "shell.execute_reply": "2023-01-04T13:56:10.227037Z"
    },
    "papermill": {
     "duration": 0.062126,
     "end_time": "2023-01-04T13:56:10.230360",
     "exception": false,
     "start_time": "2023-01-04T13:56:10.168234",
     "status": "completed"
    },
    "tags": []
   },
   "outputs": [
    {
     "name": "stdout",
     "output_type": "stream",
     "text": [
      "CPU times: user 3 µs, sys: 1e+03 ns, total: 4 µs\n",
      "Wall time: 7.15 µs\n"
     ]
    }
   ],
   "source": [
    "%%time\n",
    "if description[\"LogisticRegression\"][\"actif\"]:\n",
    "    pipeline_logisticReg = pipeline.Pipeline(\n",
    "        [\n",
    "            (\"tfidf\", pipeline_tfidf),\n",
    "            (\n",
    "                \"OvRLogisticReg\",\n",
    "                multiclass.OneVsRestClassifier(\n",
    "                    linear_model.LogisticRegression(random_state=42)\n",
    "                ),\n",
    "            ),\n",
    "        ]\n",
    "    )\n",
    "    with ignore_warnings(category=exceptions.ConvergenceWarning):\n",
    "        pipeline_logisticReg.fit(X_train, y_train)\n",
    "\n",
    "    # prediction sur jeu de test\n",
    "    pred_lr = pipeline_logisticReg.predict(X_test)\n",
    "    scores_lr = save_score(y_test, pred_lr, target_names, \"LogisticRegression\")\n",
    "\n",
    "    # enregistrement model et score\n",
    "    joblib.dump(pipeline_logisticReg, \"LogisticRegression_model.joblib\")\n",
    "    scores_lr.sort_values(by=\"support\", ascending=False)"
   ]
  },
  {
   "cell_type": "code",
   "execution_count": 27,
   "id": "c36b98af",
   "metadata": {
    "execution": {
     "iopub.execute_input": "2023-01-04T13:56:10.269749Z",
     "iopub.status.busy": "2023-01-04T13:56:10.268853Z",
     "iopub.status.idle": "2023-01-04T13:56:10.280284Z",
     "shell.execute_reply": "2023-01-04T13:56:10.279455Z"
    },
    "papermill": {
     "duration": 0.033073,
     "end_time": "2023-01-04T13:56:10.282230",
     "exception": false,
     "start_time": "2023-01-04T13:56:10.249157",
     "status": "completed"
    },
    "tags": []
   },
   "outputs": [],
   "source": [
    "if description[\"LogisticRegression\"][\"actif\"]:\n",
    "    print(scores_lr.sort_values(by=\"precision\", ascending=False))"
   ]
  },
  {
   "cell_type": "code",
   "execution_count": 28,
   "id": "27fd044c",
   "metadata": {
    "execution": {
     "iopub.execute_input": "2023-01-04T13:56:10.321414Z",
     "iopub.status.busy": "2023-01-04T13:56:10.320645Z",
     "iopub.status.idle": "2023-01-04T13:56:10.331939Z",
     "shell.execute_reply": "2023-01-04T13:56:10.331084Z"
    },
    "papermill": {
     "duration": 0.03284,
     "end_time": "2023-01-04T13:56:10.333904",
     "exception": false,
     "start_time": "2023-01-04T13:56:10.301064",
     "status": "completed"
    },
    "tags": []
   },
   "outputs": [],
   "source": [
    "if description[\"LogisticRegression\"][\"actif\"]:\n",
    "    print(scores_lr.sort_values(by=\"recall\", ascending=False))"
   ]
  },
  {
   "cell_type": "markdown",
   "id": "7c738fb5",
   "metadata": {
    "papermill": {
     "duration": 0.018485,
     "end_time": "2023-01-04T13:56:10.370887",
     "exception": false,
     "start_time": "2023-01-04T13:56:10.352402",
     "status": "completed"
    },
    "tags": []
   },
   "source": [
    "## SVC"
   ]
  },
  {
   "cell_type": "code",
   "execution_count": 29,
   "id": "d7a138e7",
   "metadata": {
    "execution": {
     "iopub.execute_input": "2023-01-04T13:56:10.410070Z",
     "iopub.status.busy": "2023-01-04T13:56:10.409088Z",
     "iopub.status.idle": "2023-01-04T13:56:10.434477Z",
     "shell.execute_reply": "2023-01-04T13:56:10.433643Z"
    },
    "papermill": {
     "duration": 0.047024,
     "end_time": "2023-01-04T13:56:10.436516",
     "exception": false,
     "start_time": "2023-01-04T13:56:10.389492",
     "status": "completed"
    },
    "tags": []
   },
   "outputs": [],
   "source": [
    "pipeline_svc = pipeline.Pipeline(\n",
    "    [\n",
    "        (\"tfidf\", pipeline_tfidf),\n",
    "        (\n",
    "            \"TfidfOvRSVC\",\n",
    "            multiclass.OneVsRestClassifier(\n",
    "                svm.SVC(\n",
    "                    cache_size=1080,\n",
    "                    max_iter=description[\"TfidfOvRSVC\"][\"max_iter\"],\n",
    "                    random_state=42,\n",
    "                )\n",
    "            ),\n",
    "        ),\n",
    "    ]\n",
    ")"
   ]
  },
  {
   "cell_type": "code",
   "execution_count": 30,
   "id": "c635f0f0",
   "metadata": {
    "execution": {
     "iopub.execute_input": "2023-01-04T13:56:10.475738Z",
     "iopub.status.busy": "2023-01-04T13:56:10.474833Z",
     "iopub.status.idle": "2023-01-04T13:56:10.490680Z",
     "shell.execute_reply": "2023-01-04T13:56:10.489622Z"
    },
    "papermill": {
     "duration": 0.037388,
     "end_time": "2023-01-04T13:56:10.492598",
     "exception": false,
     "start_time": "2023-01-04T13:56:10.455210",
     "status": "completed"
    },
    "tags": []
   },
   "outputs": [
    {
     "name": "stdout",
     "output_type": "stream",
     "text": [
      "CPU times: user 3 µs, sys: 1e+03 ns, total: 4 µs\n",
      "Wall time: 6.91 µs\n"
     ]
    }
   ],
   "source": [
    "%%time\n",
    "if description[\"TfidfOvRSVC\"][\"actif\"]:\n",
    "    with ignore_warnings(category=exceptions.ConvergenceWarning):\n",
    "        pipeline_svc.fit(\n",
    "            X_train,\n",
    "            y_train,\n",
    "        )"
   ]
  },
  {
   "cell_type": "code",
   "execution_count": 31,
   "id": "ec61ff7e",
   "metadata": {
    "execution": {
     "iopub.execute_input": "2023-01-04T13:56:10.531792Z",
     "iopub.status.busy": "2023-01-04T13:56:10.530870Z",
     "iopub.status.idle": "2023-01-04T13:56:10.544734Z",
     "shell.execute_reply": "2023-01-04T13:56:10.543532Z"
    },
    "papermill": {
     "duration": 0.035394,
     "end_time": "2023-01-04T13:56:10.546770",
     "exception": false,
     "start_time": "2023-01-04T13:56:10.511376",
     "status": "completed"
    },
    "tags": []
   },
   "outputs": [
    {
     "name": "stdout",
     "output_type": "stream",
     "text": [
      "CPU times: user 3 µs, sys: 1e+03 ns, total: 4 µs\n",
      "Wall time: 7.15 µs\n"
     ]
    }
   ],
   "source": [
    "%%time\n",
    "if description[\"TfidfOvRSVC\"][\"actif\"]:\n",
    "    pred_svc = pipeline_svc.predict(X_test)\n",
    "    print(pred_svc)"
   ]
  },
  {
   "cell_type": "markdown",
   "id": "6dcf06eb",
   "metadata": {
    "papermill": {
     "duration": 0.018529,
     "end_time": "2023-01-04T13:56:10.583986",
     "exception": false,
     "start_time": "2023-01-04T13:56:10.565457",
     "status": "completed"
    },
    "tags": []
   },
   "source": [
    "### Score et enregistrement"
   ]
  },
  {
   "cell_type": "code",
   "execution_count": 32,
   "id": "4c946a08",
   "metadata": {
    "execution": {
     "iopub.execute_input": "2023-01-04T13:56:10.622566Z",
     "iopub.status.busy": "2023-01-04T13:56:10.622254Z",
     "iopub.status.idle": "2023-01-04T13:56:10.639497Z",
     "shell.execute_reply": "2023-01-04T13:56:10.638667Z"
    },
    "papermill": {
     "duration": 0.038775,
     "end_time": "2023-01-04T13:56:10.641382",
     "exception": false,
     "start_time": "2023-01-04T13:56:10.602607",
     "status": "completed"
    },
    "tags": []
   },
   "outputs": [],
   "source": [
    "if description[\"TfidfOvRSVC\"][\"actif\"]:\n",
    "    scores_svc = save_score(y_test, pred_svc, target_names, \"TfidfOvRSVC\")\n",
    "    joblib.dump(pipeline_svc, \"TfidfOvRestSvc_model.joblib\")\n",
    "    print(scores_svc.sort_values(by=\"precision\", ascending=False))"
   ]
  },
  {
   "cell_type": "markdown",
   "id": "06783c26",
   "metadata": {
    "papermill": {
     "duration": 0.018722,
     "end_time": "2023-01-04T13:56:10.678773",
     "exception": false,
     "start_time": "2023-01-04T13:56:10.660051",
     "status": "completed"
    },
    "tags": []
   },
   "source": [
    "# Word2Vec"
   ]
  },
  {
   "cell_type": "markdown",
   "id": "6c5c65bc",
   "metadata": {
    "papermill": {
     "duration": 0.018561,
     "end_time": "2023-01-04T13:56:10.716227",
     "exception": false,
     "start_time": "2023-01-04T13:56:10.697666",
     "status": "completed"
    },
    "tags": []
   },
   "source": [
    "## Keras Model"
   ]
  },
  {
   "cell_type": "code",
   "execution_count": 33,
   "id": "19de4fa7",
   "metadata": {
    "execution": {
     "iopub.execute_input": "2023-01-04T13:56:10.755648Z",
     "iopub.status.busy": "2023-01-04T13:56:10.754781Z",
     "iopub.status.idle": "2023-01-04T13:56:10.762947Z",
     "shell.execute_reply": "2023-01-04T13:56:10.761927Z"
    },
    "papermill": {
     "duration": 0.030754,
     "end_time": "2023-01-04T13:56:10.765820",
     "exception": false,
     "start_time": "2023-01-04T13:56:10.735066",
     "status": "completed"
    },
    "tags": []
   },
   "outputs": [
    {
     "name": "stdout",
     "output_type": "stream",
     "text": [
      "{'actif': False, 'TextVectorization__max_tokens': 200000, 'TextVectorization__output_sequence_length': 50, 'Embedding__output_dim': 500, 'Word2Vec__min_count': 1, 'Word2Vec__window': 20, 'Word2Vec__epochs': 100, 'fit__epochs': 20}\n"
     ]
    }
   ],
   "source": [
    "print(description[\"kerasPipeline\"])"
   ]
  },
  {
   "cell_type": "code",
   "execution_count": 34,
   "id": "fa84a352",
   "metadata": {
    "execution": {
     "iopub.execute_input": "2023-01-04T13:56:10.804781Z",
     "iopub.status.busy": "2023-01-04T13:56:10.804458Z",
     "iopub.status.idle": "2023-01-04T13:56:10.850484Z",
     "shell.execute_reply": "2023-01-04T13:56:10.849609Z"
    },
    "papermill": {
     "duration": 0.067864,
     "end_time": "2023-01-04T13:56:10.852575",
     "exception": false,
     "start_time": "2023-01-04T13:56:10.784711",
     "status": "completed"
    },
    "tags": []
   },
   "outputs": [],
   "source": [
    "## https://www.tensorflow.org/api_docs/python/tf/keras/layers/TextVectorization\n",
    "# because https://www.tensorflow.org/api_docs/python/tf/keras/preprocessing/text/Tokenizer deprecaded\n",
    "vectorize_layer = tf.keras.layers.TextVectorization(\n",
    "    max_tokens=description[\"kerasPipeline\"][\"TextVectorization__max_tokens\"],\n",
    "    standardize=\"lower_and_strip_punctuation\",\n",
    "    split=\"whitespace\",\n",
    "    ngrams=None,\n",
    "    output_mode=\"int\",\n",
    "    output_sequence_length=description[\"kerasPipeline\"][\n",
    "        \"TextVectorization__output_sequence_length\"\n",
    "    ],\n",
    ")"
   ]
  },
  {
   "cell_type": "code",
   "execution_count": 35,
   "id": "a2f66a0f",
   "metadata": {
    "execution": {
     "iopub.execute_input": "2023-01-04T13:56:10.892218Z",
     "iopub.status.busy": "2023-01-04T13:56:10.891937Z",
     "iopub.status.idle": "2023-01-04T13:56:10.904189Z",
     "shell.execute_reply": "2023-01-04T13:56:10.903049Z"
    },
    "papermill": {
     "duration": 0.03432,
     "end_time": "2023-01-04T13:56:10.906141",
     "exception": false,
     "start_time": "2023-01-04T13:56:10.871821",
     "status": "completed"
    },
    "tags": []
   },
   "outputs": [
    {
     "name": "stdout",
     "output_type": "stream",
     "text": [
      "CPU times: user 4 µs, sys: 1 µs, total: 5 µs\n",
      "Wall time: 7.39 µs\n"
     ]
    }
   ],
   "source": [
    "%%time\n",
    "if description[\"kerasPipeline\"][\"actif\"]:\n",
    "    vectorize_layer.adapt(X_train)"
   ]
  },
  {
   "cell_type": "code",
   "execution_count": 36,
   "id": "67b39858",
   "metadata": {
    "execution": {
     "iopub.execute_input": "2023-01-04T13:56:10.945902Z",
     "iopub.status.busy": "2023-01-04T13:56:10.945579Z",
     "iopub.status.idle": "2023-01-04T13:56:11.212028Z",
     "shell.execute_reply": "2023-01-04T13:56:11.211082Z"
    },
    "papermill": {
     "duration": 0.288623,
     "end_time": "2023-01-04T13:56:11.214536",
     "exception": false,
     "start_time": "2023-01-04T13:56:10.925913",
     "status": "completed"
    },
    "tags": []
   },
   "outputs": [],
   "source": [
    "def build_Word2Vec(X_train, params):\n",
    "    print(\"Build & train Word2Vec model ...\")\n",
    "    X_train_token = X_train.str.split()\n",
    "    w2v_model = gensim.models.Word2Vec(\n",
    "        min_count=params[\"Word2Vec__min_count\"],\n",
    "        window=params[\"Word2Vec__window\"],\n",
    "        vector_size=params[\"Embedding__output_dim\"],\n",
    "        seed=42,\n",
    "        workers=1,\n",
    "    )\n",
    "    w2v_model.build_vocab(X_train_token)\n",
    "    w2v_model.train(\n",
    "        X_train_token,\n",
    "        total_examples=w2v_model.corpus_count,\n",
    "        epochs=params[\"Word2Vec__epochs\"],\n",
    "    )\n",
    "    model_vectors = w2v_model.wv\n",
    "    print(\"Vocabulary size: %i\" % len(model_vectors.index_to_key))\n",
    "    print(\"Word2Vec trained\")\n",
    "    return model_vectors"
   ]
  },
  {
   "cell_type": "code",
   "execution_count": 37,
   "id": "c6be9af5",
   "metadata": {
    "execution": {
     "iopub.execute_input": "2023-01-04T13:56:11.254657Z",
     "iopub.status.busy": "2023-01-04T13:56:11.253823Z",
     "iopub.status.idle": "2023-01-04T13:56:11.271112Z",
     "shell.execute_reply": "2023-01-04T13:56:11.270031Z"
    },
    "papermill": {
     "duration": 0.039348,
     "end_time": "2023-01-04T13:56:11.273463",
     "exception": false,
     "start_time": "2023-01-04T13:56:11.234115",
     "status": "completed"
    },
    "tags": []
   },
   "outputs": [
    {
     "name": "stdout",
     "output_type": "stream",
     "text": [
      "CPU times: user 4 µs, sys: 1 µs, total: 5 µs\n",
      "Wall time: 7.63 µs\n"
     ]
    }
   ],
   "source": [
    "%%time\n",
    "if description[\"kerasPipeline\"][\"actif\"]:\n",
    "    model_vectors = build_Word2Vec(X_train, description[\"kerasPipeline\"])\n",
    "    print(\n",
    "        f\"{len(vectorize_layer.get_vocabulary())} {len(model_vectors.index_to_key)} {len(vectorize_layer.get_vocabulary())/len(model_vectors.index_to_key):.2%}\"\n",
    "    )\n",
    "# embedding_matrix, vocab_size = create_embeding(\n",
    "#    vectorize_layer.get_vocabulary(), build_Word2Vec(X_train, description[\"kerasPipeline\"]), params=description[\"kerasPipeline\"]\n",
    "# )"
   ]
  },
  {
   "cell_type": "code",
   "execution_count": 38,
   "id": "f690634f",
   "metadata": {
    "execution": {
     "iopub.execute_input": "2023-01-04T13:56:11.313487Z",
     "iopub.status.busy": "2023-01-04T13:56:11.312044Z",
     "iopub.status.idle": "2023-01-04T13:56:11.339313Z",
     "shell.execute_reply": "2023-01-04T13:56:11.338128Z"
    },
    "papermill": {
     "duration": 0.049109,
     "end_time": "2023-01-04T13:56:11.341342",
     "exception": false,
     "start_time": "2023-01-04T13:56:11.292233",
     "status": "completed"
    },
    "tags": []
   },
   "outputs": [
    {
     "name": "stdout",
     "output_type": "stream",
     "text": [
      "CPU times: user 5 µs, sys: 1e+03 ns, total: 6 µs\n",
      "Wall time: 8.11 µs\n"
     ]
    }
   ],
   "source": [
    "%%time\n",
    "if description[\"kerasPipeline\"][\"actif\"]:\n",
    "    print(\"Create Embedding matrix ...\")\n",
    "    embedding_matrix = np.asarray(\n",
    "        [\n",
    "            model_vectors[word]\n",
    "            if word in model_vectors.index_to_key\n",
    "            else np.zeros(description[\"kerasPipeline\"][\"Embedding__output_dim\"])\n",
    "            for word in vectorize_layer.get_vocabulary()\n",
    "        ]\n",
    "    )\n",
    "    embedding_matrix.shape"
   ]
  },
  {
   "cell_type": "code",
   "execution_count": 39,
   "id": "53937b72",
   "metadata": {
    "execution": {
     "iopub.execute_input": "2023-01-04T13:56:11.381659Z",
     "iopub.status.busy": "2023-01-04T13:56:11.380702Z",
     "iopub.status.idle": "2023-01-04T13:56:11.426802Z",
     "shell.execute_reply": "2023-01-04T13:56:11.425935Z"
    },
    "papermill": {
     "duration": 0.068441,
     "end_time": "2023-01-04T13:56:11.428936",
     "exception": false,
     "start_time": "2023-01-04T13:56:11.360495",
     "status": "completed"
    },
    "tags": []
   },
   "outputs": [],
   "source": [
    "# https://www.tensorflow.org/text/guide/word_embeddings\n",
    "if description[\"kerasPipeline\"][\"actif\"]:\n",
    "    modelkerasPipeline = tf.keras.models.Sequential(\n",
    "        [\n",
    "            vectorize_layer,\n",
    "            tf.keras.layers.Embedding(\n",
    "                input_dim=len(vectorize_layer.get_vocabulary()),\n",
    "                output_dim=description[\"kerasPipeline\"][\"Embedding__output_dim\"],\n",
    "                weights=[embedding_matrix],\n",
    "                input_length=description[\"kerasPipeline\"][\n",
    "                    \"TextVectorization__output_sequence_length\"\n",
    "                ],\n",
    "            ),\n",
    "            tf.keras.layers.GlobalAveragePooling1D(),\n",
    "            tf.keras.layers.Dense(16, activation=\"relu\"),\n",
    "            tf.keras.layers.Dense(21),\n",
    "        ]\n",
    "    )\n",
    "    # tensorboard_callback = tf.keras.callbacks.TensorBoard(log_dir=\"logs\") # for log create a dir\n",
    "    modelkerasPipeline.compile(\n",
    "        optimizer=\"adam\",\n",
    "        loss=tf.keras.losses.BinaryCrossentropy(from_logits=True),\n",
    "        metrics=[\"accuracy\"],\n",
    "    )"
   ]
  },
  {
   "cell_type": "code",
   "execution_count": 40,
   "id": "c2271b81",
   "metadata": {
    "execution": {
     "iopub.execute_input": "2023-01-04T13:56:11.468997Z",
     "iopub.status.busy": "2023-01-04T13:56:11.468299Z",
     "iopub.status.idle": "2023-01-04T13:56:11.485558Z",
     "shell.execute_reply": "2023-01-04T13:56:11.484705Z"
    },
    "papermill": {
     "duration": 0.039374,
     "end_time": "2023-01-04T13:56:11.487462",
     "exception": false,
     "start_time": "2023-01-04T13:56:11.448088",
     "status": "completed"
    },
    "tags": []
   },
   "outputs": [
    {
     "name": "stdout",
     "output_type": "stream",
     "text": [
      "CPU times: user 3 µs, sys: 1e+03 ns, total: 4 µs\n",
      "Wall time: 7.39 µs\n"
     ]
    }
   ],
   "source": [
    "%%time\n",
    "if description[\"kerasPipeline\"][\"actif\"]:\n",
    "    modelkerasPipeline.fit(\n",
    "        X_train,\n",
    "        y_train,\n",
    "        epochs=description[\"kerasPipeline\"][\"fit__epochs\"],\n",
    "        # callbacks=[tensorboard_callback],\n",
    "    )"
   ]
  },
  {
   "cell_type": "code",
   "execution_count": 41,
   "id": "9dc2435b",
   "metadata": {
    "execution": {
     "iopub.execute_input": "2023-01-04T13:56:11.527292Z",
     "iopub.status.busy": "2023-01-04T13:56:11.526459Z",
     "iopub.status.idle": "2023-01-04T13:56:11.553538Z",
     "shell.execute_reply": "2023-01-04T13:56:11.552313Z"
    },
    "papermill": {
     "duration": 0.049098,
     "end_time": "2023-01-04T13:56:11.555525",
     "exception": false,
     "start_time": "2023-01-04T13:56:11.506427",
     "status": "completed"
    },
    "tags": []
   },
   "outputs": [
    {
     "name": "stdout",
     "output_type": "stream",
     "text": [
      "CPU times: user 3 µs, sys: 0 ns, total: 3 µs\n",
      "Wall time: 7.15 µs\n"
     ]
    }
   ],
   "source": [
    "%%time\n",
    "if description[\"kerasPipeline\"][\"actif\"]:\n",
    "    pred_kerasword2vec_proba = modelkerasPipeline.predict(X_test)\n",
    "    #     print(pred_kerasword2vec_proba)\n",
    "    pred_kerasword2vec = pd.DataFrame(\n",
    "        [\n",
    "            {tag: pred_tag > 0 for pred_tag, tag in zip(pred, target_names)}\n",
    "            for pred in pred_kerasword2vec_proba\n",
    "        ]\n",
    "    )\n",
    "    print(pred_kerasword2vec.value_counts())"
   ]
  },
  {
   "cell_type": "code",
   "execution_count": 42,
   "id": "667babdb",
   "metadata": {
    "execution": {
     "iopub.execute_input": "2023-01-04T13:56:11.595954Z",
     "iopub.status.busy": "2023-01-04T13:56:11.595086Z",
     "iopub.status.idle": "2023-01-04T13:56:11.613715Z",
     "shell.execute_reply": "2023-01-04T13:56:11.612790Z"
    },
    "papermill": {
     "duration": 0.040834,
     "end_time": "2023-01-04T13:56:11.615683",
     "exception": false,
     "start_time": "2023-01-04T13:56:11.574849",
     "status": "completed"
    },
    "tags": []
   },
   "outputs": [],
   "source": [
    "if description[\"kerasPipeline\"][\"actif\"]:\n",
    "    scores_kerasword2vec = save_score(\n",
    "        y_test,\n",
    "        pred_kerasword2vec,\n",
    "        target_names,\n",
    "        \"kerasPipeline\",\n",
    "    )\n",
    "    print(scores_kerasword2vec.sort_values(by=\"f1-score\", ascending=False))\n",
    "    modelkerasPipeline.save(\"kerasPipeline\")"
   ]
  },
  {
   "cell_type": "markdown",
   "id": "2042c770",
   "metadata": {
    "papermill": {
     "duration": 0.018797,
     "end_time": "2023-01-04T13:56:11.653975",
     "exception": false,
     "start_time": "2023-01-04T13:56:11.635178",
     "status": "completed"
    },
    "tags": []
   },
   "source": [
    "## Word2Vec puis OvR SVC"
   ]
  },
  {
   "cell_type": "code",
   "execution_count": 43,
   "id": "5c634e69",
   "metadata": {
    "_kg_hide-input": true,
    "execution": {
     "iopub.execute_input": "2023-01-04T13:56:11.693744Z",
     "iopub.status.busy": "2023-01-04T13:56:11.693447Z",
     "iopub.status.idle": "2023-01-04T13:56:11.719497Z",
     "shell.execute_reply": "2023-01-04T13:56:11.718651Z"
    },
    "papermill": {
     "duration": 0.048284,
     "end_time": "2023-01-04T13:56:11.721346",
     "exception": false,
     "start_time": "2023-01-04T13:56:11.673062",
     "status": "completed"
    },
    "tags": []
   },
   "outputs": [],
   "source": [
    "from kerasembedtransformerclass import KerasEmbedTransformer\n",
    "\n",
    "# class KerasEmbedTransformer(BaseEstimator, TransformerMixin):\n",
    "#     def init(self, params):\n",
    "#         self.params = params\n",
    "#         return self\n",
    "\n",
    "#     def fit(self, X, y=None):\n",
    "#         self.embed_model, self.tokenizer = self.create_keras_model(X)\n",
    "#         return self\n",
    "\n",
    "#     def transform(self, X, y=None):\n",
    "#         x_sentences = keras.preprocessing.sequence.pad_sequences(\n",
    "#             self.tokenizer.texts_to_sequences(X),\n",
    "#             maxlen=self.params[\"maxlen\"],\n",
    "#             padding=\"post\",\n",
    "#         )\n",
    "#         embeddings = self.embed_model.predict(x_sentences)\n",
    "#         print(\"embedings shape \", embeddings.shape)\n",
    "#         return embeddings\n",
    "\n",
    "#     def save(self, filename):\n",
    "#         joblib.dump(self.tokenizer, f\"{filename}.tokenizer\")\n",
    "#         self.embed_model.save(\n",
    "#             f\"{filename}.model\"\n",
    "#         )  # This hack allows us to save the sklearn pipeline\n",
    "#         self.embed_model = None\n",
    "#         return self\n",
    "\n",
    "#     def load(self, filename, params):\n",
    "#         self.tokenizer = joblib.load(f\"{filename}.tokenizer\")\n",
    "#         self.embed_model = keras.models.load_model(f\"{filename}.model\")\n",
    "#         self.init(params)\n",
    "#         return self\n",
    "\n",
    "#     def create_embeding(self, word_index, model_vectors):\n",
    "#         vocab_size = len(word_index) + 1\n",
    "#         print(f\"Number of unique words: {vocab_size}\")\n",
    "#         print(\"Create Embedding matrix ...\")\n",
    "#         embedding_matrix = np.zeros((vocab_size, self.params[\"size\"]))\n",
    "#         i = 0\n",
    "#         j = 0\n",
    "\n",
    "#         for word, idx in word_index.items():\n",
    "#             i += 1\n",
    "#             if word in model_vectors.index_to_key:\n",
    "#                 j += 1\n",
    "#                 embedding_vector = model_vectors[word]\n",
    "#                 if embedding_vector is not None:\n",
    "#                     embedding_matrix[idx] = model_vectors[word]\n",
    "\n",
    "#         word_rate = np.round(j / i, 4)\n",
    "#         print(\"Word embedding rate : \", word_rate)\n",
    "#         print(\"Embedding matrix: %s\" % str(embedding_matrix.shape))\n",
    "#         return (embedding_matrix, vocab_size)\n",
    "\n",
    "#     def create_keras_model(self, X_train):\n",
    "#         print(\"Build & train Word2Vec model ...\")\n",
    "#         X_train_token = X_train.str.split()\n",
    "#         w2v_model = gensim.models.Word2Vec(\n",
    "#             min_count=self.params[\"min_count\"],\n",
    "#             window=self.params[\"window\"],\n",
    "#             vector_size=self.params[\"size\"],\n",
    "#             seed=42,\n",
    "#             workers=1,\n",
    "#         )\n",
    "#         w2v_model.build_vocab(X_train_token)\n",
    "#         w2v_model.train(\n",
    "#             X_train_token,\n",
    "#             total_examples=w2v_model.corpus_count,\n",
    "#             epochs=self.params[\"epochs\"],\n",
    "#         )\n",
    "#         model_vectors = w2v_model.wv\n",
    "#         print(\"Vocabulary size: %i\" % len(model_vectors.index_to_key))\n",
    "#         print(\"Word2Vec trained\")\n",
    "\n",
    "#         tokenizer = keras.preprocessing.text.Tokenizer()\n",
    "#         tokenizer.fit_on_texts(X_train_token)\n",
    "#         embedding_matrix, vocab_size = self.create_embeding(\n",
    "#             tokenizer.word_index, model_vectors\n",
    "#         )\n",
    "\n",
    "#         word_input = keras.layers.Input(shape=(self.params[\"maxlen\"],), dtype=\"float64\")\n",
    "#         word_embedding = keras.layers.Embedding(\n",
    "#             input_dim=vocab_size,\n",
    "#             output_dim=self.params[\"size\"],\n",
    "#             weights=[embedding_matrix],\n",
    "#             input_length=self.params[\"maxlen\"],\n",
    "#         )(word_input)\n",
    "#         word_vec = keras.layers.GlobalAveragePooling1D()(word_embedding)\n",
    "#         embed_model = keras.models.Model([word_input], word_vec)\n",
    "#         print(embed_model.summary())\n",
    "\n",
    "#         return (embed_model, tokenizer)"
   ]
  },
  {
   "cell_type": "code",
   "execution_count": 44,
   "id": "52d73ee2",
   "metadata": {
    "execution": {
     "iopub.execute_input": "2023-01-04T13:56:11.761250Z",
     "iopub.status.busy": "2023-01-04T13:56:11.760464Z",
     "iopub.status.idle": "2023-01-04T13:56:11.799234Z",
     "shell.execute_reply": "2023-01-04T13:56:11.798323Z"
    },
    "papermill": {
     "duration": 0.060914,
     "end_time": "2023-01-04T13:56:11.801348",
     "exception": false,
     "start_time": "2023-01-04T13:56:11.740434",
     "status": "completed"
    },
    "tags": []
   },
   "outputs": [
    {
     "name": "stdout",
     "output_type": "stream",
     "text": [
      "CPU times: user 94 µs, sys: 15 µs, total: 109 µs\n",
      "Wall time: 113 µs\n"
     ]
    }
   ],
   "source": [
    "%%time\n",
    "# KerasEmbed = KerasEmbedTransformer().init(description[\"Word2Vec\"])\n",
    "pipeline_w2v = pipeline.Pipeline(\n",
    "    [\n",
    "        (\n",
    "            \"keras_embed_transformer\",\n",
    "            KerasEmbedTransformer().init(description[\"Word2Vec\"]),\n",
    "        ),\n",
    "        (\n",
    "            \"Word2Vec\",\n",
    "            multiclass.OneVsRestClassifier(\n",
    "                svm.SVC(\n",
    "                    cache_size=1080,\n",
    "                    max_iter=description[\"Word2Vec\"][\"max_iter\"],\n",
    "                    random_state=42,\n",
    "                )\n",
    "            ),\n",
    "        ),\n",
    "    ]\n",
    ")\n",
    "\n",
    "if description[\"Word2Vec\"][\"actif\"]:\n",
    "    with ignore_warnings(category=exceptions.ConvergenceWarning):\n",
    "        pipeline_w2v.fit(X_train, y_train)\n",
    "#         pipeline_w2v.fit(X_train[0:10], y_train[0:10])"
   ]
  },
  {
   "cell_type": "code",
   "execution_count": 45,
   "id": "ddd7dc3a",
   "metadata": {
    "execution": {
     "iopub.execute_input": "2023-01-04T13:56:11.840931Z",
     "iopub.status.busy": "2023-01-04T13:56:11.840103Z",
     "iopub.status.idle": "2023-01-04T13:56:11.853371Z",
     "shell.execute_reply": "2023-01-04T13:56:11.852358Z"
    },
    "papermill": {
     "duration": 0.035203,
     "end_time": "2023-01-04T13:56:11.855449",
     "exception": false,
     "start_time": "2023-01-04T13:56:11.820246",
     "status": "completed"
    },
    "tags": []
   },
   "outputs": [
    {
     "name": "stdout",
     "output_type": "stream",
     "text": [
      "CPU times: user 4 µs, sys: 1 µs, total: 5 µs\n",
      "Wall time: 6.91 µs\n"
     ]
    }
   ],
   "source": [
    "%%time\n",
    "if description[\"Word2Vec\"][\"actif\"]:\n",
    "    pred_word2vec = pipeline_w2v.predict(X_test)\n",
    "    print(pred_word2vec)"
   ]
  },
  {
   "cell_type": "markdown",
   "id": "85f2e237",
   "metadata": {
    "papermill": {
     "duration": 0.019116,
     "end_time": "2023-01-04T13:56:11.893737",
     "exception": false,
     "start_time": "2023-01-04T13:56:11.874621",
     "status": "completed"
    },
    "tags": []
   },
   "source": [
    "### i got the same issue as:\n",
    "https://stackoverflow.com/questions/37984304/how-to-save-a-scikit-learn-pipline-with-keras-regressor-inside-to-disk  \n",
    "Solution is to save keras model in separate file than remove it from the pipeline so it can be save with joblib  \n",
    "I did that in my `KerasEmbedTransformer` class `save` & `load` method"
   ]
  },
  {
   "cell_type": "code",
   "execution_count": 46,
   "id": "b37e1be6",
   "metadata": {
    "execution": {
     "iopub.execute_input": "2023-01-04T13:56:11.934127Z",
     "iopub.status.busy": "2023-01-04T13:56:11.933823Z",
     "iopub.status.idle": "2023-01-04T13:56:11.951696Z",
     "shell.execute_reply": "2023-01-04T13:56:11.950846Z"
    },
    "papermill": {
     "duration": 0.040708,
     "end_time": "2023-01-04T13:56:11.953603",
     "exception": false,
     "start_time": "2023-01-04T13:56:11.912895",
     "status": "completed"
    },
    "tags": []
   },
   "outputs": [],
   "source": [
    "if description[\"Word2Vec\"][\"actif\"]:\n",
    "    pipeline_w2v.named_steps[\"keras_embed_transformer\"].save(\"keras\")\n",
    "    # Otherwise i can save it but not load in api\n",
    "    #     pipeline_w2v.named_steps[\"keras_embed_transformer\"] = \"passthrough\"  # __module__\n",
    "    #     pipeline_w2v.named_steps[\"keras_embed_transformer\"].__module__ = None\n",
    "    ## i have issue loading the joblib in api so i try to delete the step from the pipeline\n",
    "    pipeline_w2v.steps.pop(0)\n",
    "    pipeline_w2v.steps.insert(0, (\"keras_embed_transformer\", \"passthrough\"))\n",
    "    print(pipeline_w2v)"
   ]
  },
  {
   "cell_type": "code",
   "execution_count": 47,
   "id": "6c725fb4",
   "metadata": {
    "execution": {
     "iopub.execute_input": "2023-01-04T13:56:11.993992Z",
     "iopub.status.busy": "2023-01-04T13:56:11.993178Z",
     "iopub.status.idle": "2023-01-04T13:56:12.011335Z",
     "shell.execute_reply": "2023-01-04T13:56:12.010506Z"
    },
    "papermill": {
     "duration": 0.040501,
     "end_time": "2023-01-04T13:56:12.013395",
     "exception": false,
     "start_time": "2023-01-04T13:56:11.972894",
     "status": "completed"
    },
    "tags": []
   },
   "outputs": [],
   "source": [
    "if description[\"Word2Vec\"][\"actif\"]:\n",
    "    scores_word2vec = save_score(y_test, pred_word2vec, target_names, \"Word2Vec\")\n",
    "    joblib.dump(pipeline_w2v, \"Word2Vec_model.joblib\")\n",
    "    print(scores_word2vec.sort_values(by=\"precision\", ascending=False))"
   ]
  },
  {
   "cell_type": "markdown",
   "id": "a11c09d5",
   "metadata": {
    "papermill": {
     "duration": 0.019005,
     "end_time": "2023-01-04T13:56:12.052010",
     "exception": false,
     "start_time": "2023-01-04T13:56:12.033005",
     "status": "completed"
    },
    "tags": []
   },
   "source": [
    "### test to reimport saved model"
   ]
  },
  {
   "cell_type": "code",
   "execution_count": 48,
   "id": "5fdddeee",
   "metadata": {
    "execution": {
     "iopub.execute_input": "2023-01-04T13:56:12.092187Z",
     "iopub.status.busy": "2023-01-04T13:56:12.091340Z",
     "iopub.status.idle": "2023-01-04T13:56:12.110718Z",
     "shell.execute_reply": "2023-01-04T13:56:12.109873Z"
    },
    "papermill": {
     "duration": 0.041506,
     "end_time": "2023-01-04T13:56:12.112737",
     "exception": false,
     "start_time": "2023-01-04T13:56:12.071231",
     "status": "completed"
    },
    "tags": []
   },
   "outputs": [],
   "source": [
    "if description[\"Word2Vec\"][\"actif\"] and LONG:\n",
    "    loaded = joblib.load(\"/kaggle/working/Word2Vec_model.joblib\")\n",
    "    loaded.named_steps[\"keras_embed_transformer\"] = KerasEmbedTransformer().load(\n",
    "        \"/kaggle/working/keras\", description[\"Word2Vec\"]\n",
    "    )\n",
    "    pred_word2vec == loaded.predict(X_test)"
   ]
  },
  {
   "cell_type": "markdown",
   "id": "81458bf8",
   "metadata": {
    "papermill": {
     "duration": 0.022062,
     "end_time": "2023-01-04T13:56:12.157201",
     "exception": false,
     "start_time": "2023-01-04T13:56:12.135139",
     "status": "completed"
    },
    "tags": []
   },
   "source": [
    "# BERT"
   ]
  },
  {
   "cell_type": "code",
   "execution_count": 49,
   "id": "2f79ab00",
   "metadata": {
    "execution": {
     "iopub.execute_input": "2023-01-04T13:56:12.198994Z",
     "iopub.status.busy": "2023-01-04T13:56:12.198647Z",
     "iopub.status.idle": "2023-01-04T13:56:12.207092Z",
     "shell.execute_reply": "2023-01-04T13:56:12.206211Z"
    },
    "papermill": {
     "duration": 0.031531,
     "end_time": "2023-01-04T13:56:12.208966",
     "exception": false,
     "start_time": "2023-01-04T13:56:12.177435",
     "status": "completed"
    },
    "tags": []
   },
   "outputs": [
    {
     "data": {
      "text/plain": [
       "{'actif': True, 'max_length': 50, 'epochs': 5}"
      ]
     },
     "execution_count": 49,
     "metadata": {},
     "output_type": "execute_result"
    }
   ],
   "source": [
    "description[\"BERT\"]"
   ]
  },
  {
   "cell_type": "code",
   "execution_count": 50,
   "id": "2b3380fd",
   "metadata": {
    "execution": {
     "iopub.execute_input": "2023-01-04T13:56:12.249208Z",
     "iopub.status.busy": "2023-01-04T13:56:12.248586Z",
     "iopub.status.idle": "2023-01-04T13:56:12.253574Z",
     "shell.execute_reply": "2023-01-04T13:56:12.252529Z"
    },
    "papermill": {
     "duration": 0.027305,
     "end_time": "2023-01-04T13:56:12.255487",
     "exception": false,
     "start_time": "2023-01-04T13:56:12.228182",
     "status": "completed"
    },
    "tags": []
   },
   "outputs": [],
   "source": [
    "# import torch\n",
    "# torch.cuda.is_available()"
   ]
  },
  {
   "cell_type": "code",
   "execution_count": 51,
   "id": "b36638ca",
   "metadata": {
    "execution": {
     "iopub.execute_input": "2023-01-04T13:56:12.295970Z",
     "iopub.status.busy": "2023-01-04T13:56:12.295070Z",
     "iopub.status.idle": "2023-01-04T13:56:12.305024Z",
     "shell.execute_reply": "2023-01-04T13:56:12.304133Z"
    },
    "papermill": {
     "duration": 0.032215,
     "end_time": "2023-01-04T13:56:12.307014",
     "exception": false,
     "start_time": "2023-01-04T13:56:12.274799",
     "status": "completed"
    },
    "tags": []
   },
   "outputs": [
    {
     "data": {
      "text/plain": [
       "BertConfig {\n",
       "  \"attention_probs_dropout_prob\": 0.1,\n",
       "  \"classifier_dropout\": null,\n",
       "  \"hidden_act\": \"gelu\",\n",
       "  \"hidden_dropout_prob\": 0.1,\n",
       "  \"hidden_size\": 768,\n",
       "  \"initializer_range\": 0.02,\n",
       "  \"intermediate_size\": 3072,\n",
       "  \"layer_norm_eps\": 1e-12,\n",
       "  \"max_position_embeddings\": 512,\n",
       "  \"model_type\": \"bert\",\n",
       "  \"num_attention_heads\": 12,\n",
       "  \"num_hidden_layers\": 12,\n",
       "  \"pad_token_id\": 0,\n",
       "  \"position_embedding_type\": \"absolute\",\n",
       "  \"transformers_version\": \"4.20.1\",\n",
       "  \"type_vocab_size\": 2,\n",
       "  \"use_cache\": true,\n",
       "  \"vocab_size\": 30522\n",
       "}"
      ]
     },
     "execution_count": 51,
     "metadata": {},
     "output_type": "execute_result"
    }
   ],
   "source": [
    "configuration = BertConfig()\n",
    "configuration"
   ]
  },
  {
   "cell_type": "code",
   "execution_count": 52,
   "id": "2b68734f",
   "metadata": {
    "execution": {
     "iopub.execute_input": "2023-01-04T13:56:12.347252Z",
     "iopub.status.busy": "2023-01-04T13:56:12.346490Z",
     "iopub.status.idle": "2023-01-04T13:56:13.420854Z",
     "shell.execute_reply": "2023-01-04T13:56:13.419896Z"
    },
    "papermill": {
     "duration": 1.097279,
     "end_time": "2023-01-04T13:56:13.423538",
     "exception": false,
     "start_time": "2023-01-04T13:56:12.326259",
     "status": "completed"
    },
    "tags": []
   },
   "outputs": [
    {
     "data": {
      "application/vnd.jupyter.widget-view+json": {
       "model_id": "72bcf93aa4d4486eb3edb2f1315d40f1",
       "version_major": 2,
       "version_minor": 0
      },
      "text/plain": [
       "Downloading:   0%|          | 0.00/226k [00:00<?, ?B/s]"
      ]
     },
     "metadata": {},
     "output_type": "display_data"
    },
    {
     "data": {
      "application/vnd.jupyter.widget-view+json": {
       "model_id": "6344f5d61b284825a67e086d812dc711",
       "version_major": 2,
       "version_minor": 0
      },
      "text/plain": [
       "Downloading:   0%|          | 0.00/28.0 [00:00<?, ?B/s]"
      ]
     },
     "metadata": {},
     "output_type": "display_data"
    },
    {
     "data": {
      "application/vnd.jupyter.widget-view+json": {
       "model_id": "d974d63f99ce4e319f8faa588211a951",
       "version_major": 2,
       "version_minor": 0
      },
      "text/plain": [
       "Downloading:   0%|          | 0.00/570 [00:00<?, ?B/s]"
      ]
     },
     "metadata": {},
     "output_type": "display_data"
    }
   ],
   "source": [
    "if description[\"BERT\"][\"actif\"]:\n",
    "    slow_tokenizer = BertTokenizer.from_pretrained(\n",
    "        \"bert-base-uncased\", model_max_length=description[\"BERT\"][\"max_length\"]\n",
    "    )\n",
    "    save_path = \"bert_base_uncased/\"\n",
    "    if not os.path.exists(save_path):\n",
    "        os.makedirs(save_path)\n",
    "    slow_tokenizer.save_pretrained(save_path)\n",
    "    # from https://keras.io/examples/nlp/text_extraction_with_bert/\n",
    "    # Load the fast tokenizer from saved file\n",
    "    tokenizer = BertWordPieceTokenizer(\"bert_base_uncased/vocab.txt\", lowercase=True)"
   ]
  },
  {
   "cell_type": "code",
   "execution_count": 53,
   "id": "a78fb4aa",
   "metadata": {
    "execution": {
     "iopub.execute_input": "2023-01-04T13:56:13.485327Z",
     "iopub.status.busy": "2023-01-04T13:56:13.484890Z",
     "iopub.status.idle": "2023-01-04T13:56:13.510357Z",
     "shell.execute_reply": "2023-01-04T13:56:13.509533Z"
    },
    "papermill": {
     "duration": 0.058151,
     "end_time": "2023-01-04T13:56:13.512960",
     "exception": false,
     "start_time": "2023-01-04T13:56:13.454809",
     "status": "completed"
    },
    "tags": []
   },
   "outputs": [],
   "source": [
    "def create_bert_input_target(X, params):\n",
    "    x_encoded = tokenizer.encode(X)\n",
    "    x_encoded.truncate(params[\"max_length\"])\n",
    "    x_encoded.pad(params[\"max_length\"])\n",
    "    #     print(len(x_encoded.ids))\n",
    "    #     print(len(x_encoded.attention_mask))\n",
    "    #     params[\"max_length\"]\n",
    "    #     return np.array(\n",
    "    #         [\n",
    "    #             np.array((encoded_id, attention_mask))\n",
    "    #             for encoded_id, attention_mask in zip(\n",
    "    #                 x_encoded.ids, x_encoded.attention_mask\n",
    "    #             )\n",
    "    #         ]\n",
    "    #     )\n",
    "    #     return {\"ids\": x_encoded.ids, \"attention_mask\": x_encoded.attention_mask}\n",
    "    #     return np.array(x_encoded.ids), np.array(x_encoded.attention_mask)\n",
    "    return np.array(x_encoded.ids)"
   ]
  },
  {
   "cell_type": "code",
   "execution_count": 54,
   "id": "dd8dc7cc",
   "metadata": {
    "execution": {
     "iopub.execute_input": "2023-01-04T13:56:13.574421Z",
     "iopub.status.busy": "2023-01-04T13:56:13.573923Z",
     "iopub.status.idle": "2023-01-04T13:56:13.676684Z",
     "shell.execute_reply": "2023-01-04T13:56:13.675757Z"
    },
    "papermill": {
     "duration": 0.139439,
     "end_time": "2023-01-04T13:56:13.683313",
     "exception": false,
     "start_time": "2023-01-04T13:56:13.543874",
     "status": "completed"
    },
    "tags": []
   },
   "outputs": [],
   "source": [
    "def create_bert_model(params):\n",
    "    ## BERT encoder\n",
    "    encoder = TFBertModel.from_pretrained(\"bert-base-uncased\")\n",
    "\n",
    "    inputs = tf.keras.layers.Input(\n",
    "        shape=(params[\"max_length\"],),\n",
    "        dtype=tf.int32,\n",
    "    )\n",
    "    embedding = encoder(inputs)[0]\n",
    "\n",
    "    #     layerDense = tf.keras.layers.Dense(\n",
    "    #         len(target_names), name=\"start_logit\", use_bias=False\n",
    "    #     )(embedding)\n",
    "    #     layerDense = tf.keras.layers.Flatten()(layerDense)\n",
    "    #     end_layer = tf.keras.layers.Activation(tf.keras.activations.softmax)(layerDense)\n",
    "\n",
    "    #     layerFlat = tf.keras.layers.Flatten()(embedding)\n",
    "    layerGAvg = tf.keras.layers.GlobalAveragePooling1D()(embedding)\n",
    "    layerDense = tf.keras.layers.Dense(16 * len(target_names), activation=\"relu\")(\n",
    "        layerGAvg\n",
    "    )\n",
    "    layerEnd = tf.keras.layers.Dense(\n",
    "        len(target_names)  # , name=\"start_logit\", use_bias=False\n",
    "    )(layerDense)\n",
    "    #     end_layer = tf.keras.layers.Activation(tf.keras.activations.softmax)(layerDense)\n",
    "    model = tf.keras.Model(\n",
    "        inputs=[inputs],\n",
    "        outputs=[layerEnd],\n",
    "    )\n",
    "    #     loss = tf.keras.losses.SparseCategoricalCrossentropy(from_logits=False)\n",
    "    #     optimizer = tf.keras.optimizers.Adam(learning_rate=5e-5)\n",
    "    #     model.compile(optimizer=optimizer, loss=[loss, loss])\n",
    "    model.compile(\n",
    "        optimizer=\"adam\",\n",
    "        loss=tf.keras.losses.BinaryCrossentropy(from_logits=True),\n",
    "        # https://keras.io/api/metrics/classification_metrics/#auc-class\n",
    "        metrics=tf.keras.metrics.AUC(\n",
    "            num_thresholds=200,\n",
    "            curve=\"PR\",  # \"ROC\"default\n",
    "            summation_method=\"interpolation\",\n",
    "            name=None,\n",
    "            dtype=None,\n",
    "            thresholds=None,\n",
    "            multi_label=True,\n",
    "            num_labels=len(target_names),\n",
    "            label_weights=None,\n",
    "            from_logits=True,\n",
    "        ),\n",
    "    )\n",
    "    return model"
   ]
  },
  {
   "cell_type": "code",
   "execution_count": 55,
   "id": "5cb5d528",
   "metadata": {
    "execution": {
     "iopub.execute_input": "2023-01-04T13:56:13.726231Z",
     "iopub.status.busy": "2023-01-04T13:56:13.725259Z",
     "iopub.status.idle": "2023-01-04T13:56:41.078508Z",
     "shell.execute_reply": "2023-01-04T13:56:41.077515Z"
    },
    "papermill": {
     "duration": 27.376502,
     "end_time": "2023-01-04T13:56:41.080724",
     "exception": false,
     "start_time": "2023-01-04T13:56:13.704222",
     "status": "completed"
    },
    "tags": []
   },
   "outputs": [
    {
     "data": {
      "application/vnd.jupyter.widget-view+json": {
       "model_id": "b9c180d9f1694c0e860b710ef258a7af",
       "version_major": 2,
       "version_minor": 0
      },
      "text/plain": [
       "Downloading:   0%|          | 0.00/511M [00:00<?, ?B/s]"
      ]
     },
     "metadata": {},
     "output_type": "display_data"
    },
    {
     "name": "stderr",
     "output_type": "stream",
     "text": [
      "Some layers from the model checkpoint at bert-base-uncased were not used when initializing TFBertModel: ['nsp___cls', 'mlm___cls']\n",
      "- This IS expected if you are initializing TFBertModel from the checkpoint of a model trained on another task or with another architecture (e.g. initializing a BertForSequenceClassification model from a BertForPreTraining model).\n",
      "- This IS NOT expected if you are initializing TFBertModel from the checkpoint of a model that you expect to be exactly identical (initializing a BertForSequenceClassification model from a BertForSequenceClassification model).\n",
      "All the layers of TFBertModel were initialized from the model checkpoint at bert-base-uncased.\n",
      "If your task is similar to the task the model of the checkpoint was trained on, you can already use TFBertModel for predictions without further training.\n"
     ]
    },
    {
     "name": "stdout",
     "output_type": "stream",
     "text": [
      "Model: \"model\"\n",
      "_________________________________________________________________\n",
      "Layer (type)                 Output Shape              Param #   \n",
      "=================================================================\n",
      "input_1 (InputLayer)         [(None, 50)]              0         \n",
      "_________________________________________________________________\n",
      "tf_bert_model (TFBertModel)  TFBaseModelOutputWithPool 109482240 \n",
      "_________________________________________________________________\n",
      "global_average_pooling1d (Gl (None, 768)               0         \n",
      "_________________________________________________________________\n",
      "dense (Dense)                (None, 336)               258384    \n",
      "_________________________________________________________________\n",
      "dense_1 (Dense)              (None, 21)                7077      \n",
      "=================================================================\n",
      "Total params: 109,747,701\n",
      "Trainable params: 109,747,701\n",
      "Non-trainable params: 0\n",
      "_________________________________________________________________\n",
      "None\n"
     ]
    }
   ],
   "source": [
    "if description[\"BERT\"][\"actif\"]:\n",
    "    bert_model = create_bert_model(params=description[\"BERT\"])\n",
    "    print(bert_model.summary())"
   ]
  },
  {
   "cell_type": "code",
   "execution_count": 56,
   "id": "8308b786",
   "metadata": {
    "execution": {
     "iopub.execute_input": "2023-01-04T13:56:41.127490Z",
     "iopub.status.busy": "2023-01-04T13:56:41.126864Z",
     "iopub.status.idle": "2023-01-04T13:56:41.132202Z",
     "shell.execute_reply": "2023-01-04T13:56:41.131228Z"
    },
    "papermill": {
     "duration": 0.032034,
     "end_time": "2023-01-04T13:56:41.134185",
     "exception": false,
     "start_time": "2023-01-04T13:56:41.102151",
     "status": "completed"
    },
    "tags": []
   },
   "outputs": [],
   "source": [
    "# create_bert_input_target(X_train.values[1], params=description[\"BERT\"])"
   ]
  },
  {
   "cell_type": "code",
   "execution_count": 57,
   "id": "6641cb6e",
   "metadata": {
    "execution": {
     "iopub.execute_input": "2023-01-04T13:56:41.177340Z",
     "iopub.status.busy": "2023-01-04T13:56:41.175852Z",
     "iopub.status.idle": "2023-01-04T13:56:41.182150Z",
     "shell.execute_reply": "2023-01-04T13:56:41.181262Z"
    },
    "papermill": {
     "duration": 0.029473,
     "end_time": "2023-01-04T13:56:41.184073",
     "exception": false,
     "start_time": "2023-01-04T13:56:41.154600",
     "status": "completed"
    },
    "tags": []
   },
   "outputs": [],
   "source": [
    "# %%time\n",
    "# X_train_bert = X_train[0:100].apply(\n",
    "#     lambda x: create_bert_input_target(x, description[\"BERT\"])\n",
    "# )\n",
    "# X_train_bert.values\n",
    "# # CPU times: user 19 s, sys: 125 ms, total: 19.1 s\n",
    "# # Wall time: 19.1 s"
   ]
  },
  {
   "cell_type": "code",
   "execution_count": 58,
   "id": "be28b80a",
   "metadata": {
    "execution": {
     "iopub.execute_input": "2023-01-04T13:56:41.226017Z",
     "iopub.status.busy": "2023-01-04T13:56:41.225206Z",
     "iopub.status.idle": "2023-01-04T13:56:41.230797Z",
     "shell.execute_reply": "2023-01-04T13:56:41.229806Z"
    },
    "papermill": {
     "duration": 0.028648,
     "end_time": "2023-01-04T13:56:41.232748",
     "exception": false,
     "start_time": "2023-01-04T13:56:41.204100",
     "status": "completed"
    },
    "tags": []
   },
   "outputs": [],
   "source": [
    "# %%time\n",
    "# test = np.array(\n",
    "#     [create_bert_input_target(x, description[\"BERT\"]) for x in X_train[0:100].values]\n",
    "# )\n",
    "# test\n",
    "# # CPU times: user 19.2 s, sys: 149 ms, total: 19.4 s\n",
    "# # Wall time: 19.4 s"
   ]
  },
  {
   "cell_type": "code",
   "execution_count": 59,
   "id": "b010afbf",
   "metadata": {
    "execution": {
     "iopub.execute_input": "2023-01-04T13:56:41.274128Z",
     "iopub.status.busy": "2023-01-04T13:56:41.273423Z",
     "iopub.status.idle": "2023-01-04T14:45:04.492418Z",
     "shell.execute_reply": "2023-01-04T14:45:04.491351Z"
    },
    "papermill": {
     "duration": 2903.260607,
     "end_time": "2023-01-04T14:45:04.513317",
     "exception": false,
     "start_time": "2023-01-04T13:56:41.252710",
     "status": "completed"
    },
    "tags": []
   },
   "outputs": [
    {
     "name": "stderr",
     "output_type": "stream",
     "text": [
      "2023-01-04 13:57:03.535269: I tensorflow/compiler/mlir/mlir_graph_optimization_pass.cc:185] None of the MLIR Optimization Passes are enabled (registered 2)\n"
     ]
    },
    {
     "name": "stdout",
     "output_type": "stream",
     "text": [
      "Epoch 1/5\n",
      "2776/2776 - 588s - loss: 0.2012 - auc: 0.0538\n",
      "Epoch 2/5\n",
      "2776/2776 - 573s - loss: 0.1998 - auc: 0.0536\n",
      "Epoch 3/5\n",
      "2776/2776 - 573s - loss: 0.2003 - auc: 0.0537\n",
      "Epoch 4/5\n",
      "2776/2776 - 573s - loss: 0.1997 - auc: 0.0536\n",
      "Epoch 5/5\n",
      "2776/2776 - 574s - loss: 0.1996 - auc: 0.0535\n",
      "CPU times: user 21min 43s, sys: 4min 1s, total: 25min 45s\n",
      "Wall time: 48min 23s\n"
     ]
    }
   ],
   "source": [
    "%%time\n",
    "if description[\"BERT\"][\"actif\"]:\n",
    "    bert_model.fit(\n",
    "        np.array(\n",
    "            [create_bert_input_target(x, description[\"BERT\"]) for x in X_train.values]\n",
    "        ),\n",
    "        #         X_train_bert,\n",
    "        y_train,\n",
    "        epochs=description[\"BERT\"][\"epochs\"],\n",
    "        verbose=2,\n",
    "    )"
   ]
  },
  {
   "cell_type": "code",
   "execution_count": 60,
   "id": "b7c06200",
   "metadata": {
    "execution": {
     "iopub.execute_input": "2023-01-04T14:45:04.556028Z",
     "iopub.status.busy": "2023-01-04T14:45:04.555708Z",
     "iopub.status.idle": "2023-01-04T14:45:04.574172Z",
     "shell.execute_reply": "2023-01-04T14:45:04.573313Z"
    },
    "papermill": {
     "duration": 0.042079,
     "end_time": "2023-01-04T14:45:04.576149",
     "exception": false,
     "start_time": "2023-01-04T14:45:04.534070",
     "status": "completed"
    },
    "tags": []
   },
   "outputs": [],
   "source": [
    "def convert_pred_to_bool(preds):\n",
    "    return pd.DataFrame(\n",
    "        [\n",
    "            {tag: pred_tag > 0 for pred_tag, tag in zip(pred, target_names)}\n",
    "            for pred in preds\n",
    "        ]\n",
    "    )"
   ]
  },
  {
   "cell_type": "code",
   "execution_count": 61,
   "id": "fd9526ae",
   "metadata": {
    "execution": {
     "iopub.execute_input": "2023-01-04T14:45:04.620232Z",
     "iopub.status.busy": "2023-01-04T14:45:04.618828Z",
     "iopub.status.idle": "2023-01-04T14:47:17.535155Z",
     "shell.execute_reply": "2023-01-04T14:47:17.531995Z"
    },
    "papermill": {
     "duration": 132.959917,
     "end_time": "2023-01-04T14:47:17.557117",
     "exception": false,
     "start_time": "2023-01-04T14:45:04.597200",
     "status": "completed"
    },
    "tags": []
   },
   "outputs": [
    {
     "name": "stderr",
     "output_type": "stream",
     "text": [
      "2023-01-04 14:45:17.623423: W tensorflow/python/util/util.cc:348] Sets are not currently considered sequences, but this may change in the future, so consider avoiding using them.\n"
     ]
    },
    {
     "name": "stdout",
     "output_type": "stream",
     "text": [
      "java   c#     javascript  python  android  c++    ios    html   php    .net   jquery  css    objective-c  c      sql    iphone  asp.net  mysql  linux  node.js  git  \n",
      "False  False  False       False   False    False  False  False  False  False  False   False  False        False  False  False   False    False  False  False    False    29611\n",
      "dtype: int64\n",
      "CPU times: user 1min 36s, sys: 8.62 s, total: 1min 44s\n",
      "Wall time: 2min 12s\n"
     ]
    }
   ],
   "source": [
    "%%time\n",
    "if description[\"BERT\"][\"actif\"]:\n",
    "    bert_model.save(\"BERT\")\n",
    "    pred_bert_proba = bert_model.predict(\n",
    "        np.array(\n",
    "            [create_bert_input_target(x, description[\"BERT\"]) for x in X_test.values]\n",
    "        )\n",
    "    )\n",
    "    pred_bert = convert_pred_to_bool(pred_bert_proba)\n",
    "    print(pred_bert.value_counts())\n",
    "    scores_bert = save_score(\n",
    "        y_test,\n",
    "        pred_bert,\n",
    "        target_names,\n",
    "        \"BERT\",\n",
    "    )"
   ]
  },
  {
   "cell_type": "code",
   "execution_count": 62,
   "id": "7de0c794",
   "metadata": {
    "execution": {
     "iopub.execute_input": "2023-01-04T14:47:17.600392Z",
     "iopub.status.busy": "2023-01-04T14:47:17.600075Z",
     "iopub.status.idle": "2023-01-04T14:47:17.605167Z",
     "shell.execute_reply": "2023-01-04T14:47:17.604201Z"
    },
    "papermill": {
     "duration": 0.029,
     "end_time": "2023-01-04T14:47:17.607175",
     "exception": false,
     "start_time": "2023-01-04T14:47:17.578175",
     "status": "completed"
    },
    "tags": []
   },
   "outputs": [],
   "source": [
    "# kerasBertPipeline = tf.keras.models.Sequential()\n",
    "# kerasBertPipeline(tokenizer, bert_model)"
   ]
  },
  {
   "cell_type": "code",
   "execution_count": 63,
   "id": "3cf8650f",
   "metadata": {
    "execution": {
     "iopub.execute_input": "2023-01-04T14:47:17.651563Z",
     "iopub.status.busy": "2023-01-04T14:47:17.651190Z",
     "iopub.status.idle": "2023-01-04T14:47:17.657985Z",
     "shell.execute_reply": "2023-01-04T14:47:17.657127Z"
    },
    "papermill": {
     "duration": 0.031245,
     "end_time": "2023-01-04T14:47:17.659980",
     "exception": false,
     "start_time": "2023-01-04T14:47:17.628735",
     "status": "completed"
    },
    "tags": []
   },
   "outputs": [],
   "source": [
    "# kerasBertPipeline.compile(\n",
    "#     optimizer=\"adam\",\n",
    "#     loss=tf.keras.losses.BinaryCrossentropy(from_logits=True),\n",
    "#     metrics=[\"accuracy\"],\n",
    "# )\n",
    "# kerasBertPipeline.summary()"
   ]
  },
  {
   "cell_type": "code",
   "execution_count": 64,
   "id": "0f708c9f",
   "metadata": {
    "execution": {
     "iopub.execute_input": "2023-01-04T14:47:17.703650Z",
     "iopub.status.busy": "2023-01-04T14:47:17.702845Z",
     "iopub.status.idle": "2023-01-04T14:47:17.709144Z",
     "shell.execute_reply": "2023-01-04T14:47:17.708289Z"
    },
    "papermill": {
     "duration": 0.030197,
     "end_time": "2023-01-04T14:47:17.711109",
     "exception": false,
     "start_time": "2023-01-04T14:47:17.680912",
     "status": "completed"
    },
    "tags": []
   },
   "outputs": [],
   "source": [
    "# %%time\n",
    "# kerasBertPipeline.compile(\n",
    "#     optimizer=\"adam\",\n",
    "#     loss=tf.keras.losses.BinaryCrossentropy(from_logits=True),\n",
    "#     metrics=[\"accuracy\"],\n",
    "# )\n",
    "# kerasBertPipeline.fit( X_train,\n",
    "#     y_train,\n",
    "#     epochs=1,\n",
    "#     verbose=2,)"
   ]
  },
  {
   "cell_type": "code",
   "execution_count": 65,
   "id": "be2e7320",
   "metadata": {
    "execution": {
     "iopub.execute_input": "2023-01-04T14:47:17.754621Z",
     "iopub.status.busy": "2023-01-04T14:47:17.754339Z",
     "iopub.status.idle": "2023-01-04T14:47:17.804904Z",
     "shell.execute_reply": "2023-01-04T14:47:17.804068Z"
    },
    "papermill": {
     "duration": 0.074494,
     "end_time": "2023-01-04T14:47:17.806926",
     "exception": false,
     "start_time": "2023-01-04T14:47:17.732432",
     "status": "completed"
    },
    "tags": []
   },
   "outputs": [],
   "source": [
    "def BertTransformer(sentences: list, params):\n",
    "    tokenizer = AutoTokenizer.from_pretrained(\"bert-base-uncased\")\n",
    "    model = AutoModel.from_pretrained(\"bert-base-uncased\")  # ou TFAutoModel\n",
    "    ## (input_ids,attention_mask,token_type_ids)\n",
    "    encoded_input = tokenizer(\n",
    "        sentences,\n",
    "        return_tensors=\"pt\",\n",
    "        padding=True,\n",
    "        truncation=True,\n",
    "        max_length=params[\"max_length\"],\n",
    "    )\n",
    "    #     model.predict(\n",
    "    #         [\n",
    "    #             encoded_input[\"input_ids\"],\n",
    "    #             encoded_input[\"attention_mask\"],\n",
    "    #             encoded_input[\"token_type_ids\"],\n",
    "    #         ], batch_size=params[\"batch_size\"]\n",
    "    #     )\n",
    "\n",
    "    #     return model\n",
    "    b_size = params[\"batch_size\"]\n",
    "    output = [\n",
    "        ## (last_hidden_state,pooler_output)\n",
    "        model(\n",
    "            encoded_input[\"input_ids\"][step : step + b_size],\n",
    "            attention_mask=encoded_input[\"attention_mask\"][step : step + b_size],\n",
    "        )\n",
    "        .last_hidden_state.detach()\n",
    "        .numpy()\n",
    "        for step in range(0, len(sentences), b_size)\n",
    "    ]\n",
    "    print(model.summary())\n",
    "    return np.concatenate(output)\n",
    "\n",
    "\n",
    "#     for step in range(len(sentences)//params[\"batch_size\"]):\n",
    "#         idx = step*params[\"batch_size\"]\n",
    "#         encoded_input_batch = encoded_input[idx:idx+params[\"batch_size\"]]\n",
    "#         output = model(\n",
    "#             encoded_input_batch[\"input_ids\"], attention_mask=encoded_input_batch[\"attention_mask\"]\n",
    "#         )\n",
    "#         print(output[\"last_hidden_state\"].shape)"
   ]
  },
  {
   "cell_type": "code",
   "execution_count": 66,
   "id": "067fd9ef",
   "metadata": {
    "execution": {
     "iopub.execute_input": "2023-01-04T14:47:17.850665Z",
     "iopub.status.busy": "2023-01-04T14:47:17.849886Z",
     "iopub.status.idle": "2023-01-04T14:47:17.855018Z",
     "shell.execute_reply": "2023-01-04T14:47:17.854131Z"
    },
    "papermill": {
     "duration": 0.028924,
     "end_time": "2023-01-04T14:47:17.856945",
     "exception": false,
     "start_time": "2023-01-04T14:47:17.828021",
     "status": "completed"
    },
    "tags": []
   },
   "outputs": [],
   "source": [
    "# encoded_input"
   ]
  },
  {
   "cell_type": "code",
   "execution_count": 67,
   "id": "10cc333e",
   "metadata": {
    "execution": {
     "iopub.execute_input": "2023-01-04T14:47:17.900359Z",
     "iopub.status.busy": "2023-01-04T14:47:17.899624Z",
     "iopub.status.idle": "2023-01-04T14:47:17.906258Z",
     "shell.execute_reply": "2023-01-04T14:47:17.905507Z"
    },
    "papermill": {
     "duration": 0.030234,
     "end_time": "2023-01-04T14:47:17.908150",
     "exception": false,
     "start_time": "2023-01-04T14:47:17.877916",
     "status": "completed"
    },
    "tags": []
   },
   "outputs": [],
   "source": [
    "# # detect and init the TPU\n",
    "# tpu = tf.distribute.cluster_resolver.TPUClusterResolver.connect()\n",
    "\n",
    "# # instantiate a distribution strategy\n",
    "# tpu_strategy = tf.distribute.experimental.TPUStrategy(tpu)\n",
    "# with tpu_strategy.scope():\n",
    "# ..."
   ]
  },
  {
   "cell_type": "code",
   "execution_count": 68,
   "id": "fe0b711e",
   "metadata": {
    "execution": {
     "iopub.execute_input": "2023-01-04T14:47:17.951555Z",
     "iopub.status.busy": "2023-01-04T14:47:17.950739Z",
     "iopub.status.idle": "2023-01-04T14:47:17.956070Z",
     "shell.execute_reply": "2023-01-04T14:47:17.955263Z"
    },
    "papermill": {
     "duration": 0.028871,
     "end_time": "2023-01-04T14:47:17.957972",
     "exception": false,
     "start_time": "2023-01-04T14:47:17.929101",
     "status": "completed"
    },
    "tags": []
   },
   "outputs": [],
   "source": [
    "# %%time\n",
    "# model = BertTransformer(list(X_train[0:5]), params=description[\"BERT\"])\n",
    "# model"
   ]
  },
  {
   "cell_type": "code",
   "execution_count": 69,
   "id": "3aa2200c",
   "metadata": {
    "execution": {
     "iopub.execute_input": "2023-01-04T14:47:18.001660Z",
     "iopub.status.busy": "2023-01-04T14:47:18.000837Z",
     "iopub.status.idle": "2023-01-04T14:47:18.006500Z",
     "shell.execute_reply": "2023-01-04T14:47:18.005685Z"
    },
    "papermill": {
     "duration": 0.029543,
     "end_time": "2023-01-04T14:47:18.008423",
     "exception": false,
     "start_time": "2023-01-04T14:47:17.978880",
     "status": "completed"
    },
    "tags": []
   },
   "outputs": [],
   "source": [
    "# %%time\n",
    "# model = BertTransformer(list(X_train[0:50_000]), params=description[\"BERT\"])\n",
    "# # model = BertTransformer(list(X_train), params=description[\"BERT\"])\n",
    "# model\n",
    "# # model.mean(axis=1)"
   ]
  },
  {
   "cell_type": "markdown",
   "id": "d6309cb7",
   "metadata": {
    "papermill": {
     "duration": 0.020924,
     "end_time": "2023-01-04T14:47:18.051342",
     "exception": false,
     "start_time": "2023-01-04T14:47:18.030418",
     "status": "completed"
    },
    "tags": []
   },
   "source": [
    "# LDA "
   ]
  },
  {
   "cell_type": "markdown",
   "id": "863b68c8",
   "metadata": {
    "papermill": {
     "duration": 0.022318,
     "end_time": "2023-01-04T14:47:18.094641",
     "exception": false,
     "start_time": "2023-01-04T14:47:18.072323",
     "status": "completed"
    },
    "tags": []
   },
   "source": [
    "# USE"
   ]
  }
 ],
 "metadata": {
  "kernelspec": {
   "display_name": "Python 3",
   "language": "python",
   "name": "python3"
  },
  "language_info": {
   "codemirror_mode": {
    "name": "ipython",
    "version": 3
   },
   "file_extension": ".py",
   "mimetype": "text/x-python",
   "name": "python",
   "nbconvert_exporter": "python",
   "pygments_lexer": "ipython3",
   "version": "3.7.12"
  },
  "papermill": {
   "default_parameters": {},
   "duration": 3121.865533,
   "end_time": "2023-01-04T14:47:21.443605",
   "environment_variables": {},
   "exception": null,
   "input_path": "__notebook__.ipynb",
   "output_path": "__notebook__.ipynb",
   "parameters": {},
   "start_time": "2023-01-04T13:55:19.578072",
   "version": "2.3.4"
  },
  "widgets": {
   "application/vnd.jupyter.widget-state+json": {
    "state": {
     "052d6fa1b8cc4e0e82ba72f53b167ee6": {
      "model_module": "@jupyter-widgets/base",
      "model_module_version": "1.2.0",
      "model_name": "LayoutModel",
      "state": {
       "_model_module": "@jupyter-widgets/base",
       "_model_module_version": "1.2.0",
       "_model_name": "LayoutModel",
       "_view_count": null,
       "_view_module": "@jupyter-widgets/base",
       "_view_module_version": "1.2.0",
       "_view_name": "LayoutView",
       "align_content": null,
       "align_items": null,
       "align_self": null,
       "border": null,
       "bottom": null,
       "display": null,
       "flex": null,
       "flex_flow": null,
       "grid_area": null,
       "grid_auto_columns": null,
       "grid_auto_flow": null,
       "grid_auto_rows": null,
       "grid_column": null,
       "grid_gap": null,
       "grid_row": null,
       "grid_template_areas": null,
       "grid_template_columns": null,
       "grid_template_rows": null,
       "height": null,
       "justify_content": null,
       "justify_items": null,
       "left": null,
       "margin": null,
       "max_height": null,
       "max_width": null,
       "min_height": null,
       "min_width": null,
       "object_fit": null,
       "object_position": null,
       "order": null,
       "overflow": null,
       "overflow_x": null,
       "overflow_y": null,
       "padding": null,
       "right": null,
       "top": null,
       "visibility": null,
       "width": null
      }
     },
     "066e459271d54acebec308431efbae28": {
      "model_module": "@jupyter-widgets/base",
      "model_module_version": "1.2.0",
      "model_name": "LayoutModel",
      "state": {
       "_model_module": "@jupyter-widgets/base",
       "_model_module_version": "1.2.0",
       "_model_name": "LayoutModel",
       "_view_count": null,
       "_view_module": "@jupyter-widgets/base",
       "_view_module_version": "1.2.0",
       "_view_name": "LayoutView",
       "align_content": null,
       "align_items": null,
       "align_self": null,
       "border": null,
       "bottom": null,
       "display": null,
       "flex": null,
       "flex_flow": null,
       "grid_area": null,
       "grid_auto_columns": null,
       "grid_auto_flow": null,
       "grid_auto_rows": null,
       "grid_column": null,
       "grid_gap": null,
       "grid_row": null,
       "grid_template_areas": null,
       "grid_template_columns": null,
       "grid_template_rows": null,
       "height": null,
       "justify_content": null,
       "justify_items": null,
       "left": null,
       "margin": null,
       "max_height": null,
       "max_width": null,
       "min_height": null,
       "min_width": null,
       "object_fit": null,
       "object_position": null,
       "order": null,
       "overflow": null,
       "overflow_x": null,
       "overflow_y": null,
       "padding": null,
       "right": null,
       "top": null,
       "visibility": null,
       "width": null
      }
     },
     "08a42edb04ee436ca605b89d412eeb14": {
      "model_module": "@jupyter-widgets/base",
      "model_module_version": "1.2.0",
      "model_name": "LayoutModel",
      "state": {
       "_model_module": "@jupyter-widgets/base",
       "_model_module_version": "1.2.0",
       "_model_name": "LayoutModel",
       "_view_count": null,
       "_view_module": "@jupyter-widgets/base",
       "_view_module_version": "1.2.0",
       "_view_name": "LayoutView",
       "align_content": null,
       "align_items": null,
       "align_self": null,
       "border": null,
       "bottom": null,
       "display": null,
       "flex": null,
       "flex_flow": null,
       "grid_area": null,
       "grid_auto_columns": null,
       "grid_auto_flow": null,
       "grid_auto_rows": null,
       "grid_column": null,
       "grid_gap": null,
       "grid_row": null,
       "grid_template_areas": null,
       "grid_template_columns": null,
       "grid_template_rows": null,
       "height": null,
       "justify_content": null,
       "justify_items": null,
       "left": null,
       "margin": null,
       "max_height": null,
       "max_width": null,
       "min_height": null,
       "min_width": null,
       "object_fit": null,
       "object_position": null,
       "order": null,
       "overflow": null,
       "overflow_x": null,
       "overflow_y": null,
       "padding": null,
       "right": null,
       "top": null,
       "visibility": null,
       "width": null
      }
     },
     "1a3df029721a4ed3aad009cb07c0991d": {
      "model_module": "@jupyter-widgets/base",
      "model_module_version": "1.2.0",
      "model_name": "LayoutModel",
      "state": {
       "_model_module": "@jupyter-widgets/base",
       "_model_module_version": "1.2.0",
       "_model_name": "LayoutModel",
       "_view_count": null,
       "_view_module": "@jupyter-widgets/base",
       "_view_module_version": "1.2.0",
       "_view_name": "LayoutView",
       "align_content": null,
       "align_items": null,
       "align_self": null,
       "border": null,
       "bottom": null,
       "display": null,
       "flex": null,
       "flex_flow": null,
       "grid_area": null,
       "grid_auto_columns": null,
       "grid_auto_flow": null,
       "grid_auto_rows": null,
       "grid_column": null,
       "grid_gap": null,
       "grid_row": null,
       "grid_template_areas": null,
       "grid_template_columns": null,
       "grid_template_rows": null,
       "height": null,
       "justify_content": null,
       "justify_items": null,
       "left": null,
       "margin": null,
       "max_height": null,
       "max_width": null,
       "min_height": null,
       "min_width": null,
       "object_fit": null,
       "object_position": null,
       "order": null,
       "overflow": null,
       "overflow_x": null,
       "overflow_y": null,
       "padding": null,
       "right": null,
       "top": null,
       "visibility": null,
       "width": null
      }
     },
     "1b539ac2d3ef43ec97a65ac17812c6bb": {
      "model_module": "@jupyter-widgets/controls",
      "model_module_version": "1.5.0",
      "model_name": "DescriptionStyleModel",
      "state": {
       "_model_module": "@jupyter-widgets/controls",
       "_model_module_version": "1.5.0",
       "_model_name": "DescriptionStyleModel",
       "_view_count": null,
       "_view_module": "@jupyter-widgets/base",
       "_view_module_version": "1.2.0",
       "_view_name": "StyleView",
       "description_width": ""
      }
     },
     "2b5ef691917d44bf8692ef4458506695": {
      "model_module": "@jupyter-widgets/output",
      "model_module_version": "1.0.0",
      "model_name": "OutputModel",
      "state": {
       "_dom_classes": [],
       "_model_module": "@jupyter-widgets/output",
       "_model_module_version": "1.0.0",
       "_model_name": "OutputModel",
       "_view_count": null,
       "_view_module": "@jupyter-widgets/output",
       "_view_module_version": "1.0.0",
       "_view_name": "OutputView",
       "layout": "IPY_MODEL_e5e736aceac54f1b829dcc1e5245f4fd",
       "msg_id": "",
       "outputs": [
        {
         "name": "stdout",
         "output_type": "stream",
         "text": "Title:How to change culture to a DateTimepicker or calendar control in .Net\n******************************\nTitle_clean:change culture datetimepicker calendar control\n******************************\nBody:<p>How to set internationalization to a <code>DateTimepicker</code> or <code>Calendar WinForm</code> control in .Net when the desire culture is different to the one installed in the PC?</p>\n\n******************************\nBody_clean:set internationalization datetimepicker calendar winform control .net desire culture instal pc\n******************************\nCode:DateTimepicker Calendar WinForm\n******************************\nTags:c# .net internationalization datetimepicker culture\n"
        }
       ]
      }
     },
     "2e812e95c42647a58765ac7199343767": {
      "model_module": "@jupyter-widgets/controls",
      "model_module_version": "1.5.0",
      "model_name": "FloatProgressModel",
      "state": {
       "_dom_classes": [],
       "_model_module": "@jupyter-widgets/controls",
       "_model_module_version": "1.5.0",
       "_model_name": "FloatProgressModel",
       "_view_count": null,
       "_view_module": "@jupyter-widgets/controls",
       "_view_module_version": "1.5.0",
       "_view_name": "ProgressView",
       "bar_style": "success",
       "description": "",
       "description_tooltip": null,
       "layout": "IPY_MODEL_72ee3ab74e734d10bd4a1b4679d26002",
       "max": 570.0,
       "min": 0.0,
       "orientation": "horizontal",
       "style": "IPY_MODEL_d6fde6c04f88441b91a63e52feb10835",
       "value": 570.0
      }
     },
     "2eb1f1181c134c28ab63d6b8d3b59c79": {
      "model_module": "@jupyter-widgets/controls",
      "model_module_version": "1.5.0",
      "model_name": "ProgressStyleModel",
      "state": {
       "_model_module": "@jupyter-widgets/controls",
       "_model_module_version": "1.5.0",
       "_model_name": "ProgressStyleModel",
       "_view_count": null,
       "_view_module": "@jupyter-widgets/base",
       "_view_module_version": "1.2.0",
       "_view_name": "StyleView",
       "bar_color": null,
       "description_width": ""
      }
     },
     "33d82db0b17d41bb8612e88a8e6945eb": {
      "model_module": "@jupyter-widgets/controls",
      "model_module_version": "1.5.0",
      "model_name": "DescriptionStyleModel",
      "state": {
       "_model_module": "@jupyter-widgets/controls",
       "_model_module_version": "1.5.0",
       "_model_name": "DescriptionStyleModel",
       "_view_count": null,
       "_view_module": "@jupyter-widgets/base",
       "_view_module_version": "1.2.0",
       "_view_name": "StyleView",
       "description_width": ""
      }
     },
     "384c10c1deb14234af9b1d5100f0c636": {
      "model_module": "@jupyter-widgets/base",
      "model_module_version": "1.2.0",
      "model_name": "LayoutModel",
      "state": {
       "_model_module": "@jupyter-widgets/base",
       "_model_module_version": "1.2.0",
       "_model_name": "LayoutModel",
       "_view_count": null,
       "_view_module": "@jupyter-widgets/base",
       "_view_module_version": "1.2.0",
       "_view_name": "LayoutView",
       "align_content": null,
       "align_items": null,
       "align_self": null,
       "border": null,
       "bottom": null,
       "display": null,
       "flex": null,
       "flex_flow": null,
       "grid_area": null,
       "grid_auto_columns": null,
       "grid_auto_flow": null,
       "grid_auto_rows": null,
       "grid_column": null,
       "grid_gap": null,
       "grid_row": null,
       "grid_template_areas": null,
       "grid_template_columns": null,
       "grid_template_rows": null,
       "height": null,
       "justify_content": null,
       "justify_items": null,
       "left": null,
       "margin": null,
       "max_height": null,
       "max_width": null,
       "min_height": null,
       "min_width": null,
       "object_fit": null,
       "object_position": null,
       "order": null,
       "overflow": null,
       "overflow_x": null,
       "overflow_y": null,
       "padding": null,
       "right": null,
       "top": null,
       "visibility": null,
       "width": null
      }
     },
     "393455090f214c68a4bd19bb18485139": {
      "model_module": "@jupyter-widgets/controls",
      "model_module_version": "1.5.0",
      "model_name": "HTMLModel",
      "state": {
       "_dom_classes": [],
       "_model_module": "@jupyter-widgets/controls",
       "_model_module_version": "1.5.0",
       "_model_name": "HTMLModel",
       "_view_count": null,
       "_view_module": "@jupyter-widgets/controls",
       "_view_module_version": "1.5.0",
       "_view_name": "HTMLView",
       "description": "",
       "description_tooltip": null,
       "layout": "IPY_MODEL_08a42edb04ee436ca605b89d412eeb14",
       "placeholder": "​",
       "style": "IPY_MODEL_88691b53bd704c4e8f878dd9c8e38b28",
       "value": " 511M/511M [00:17&lt;00:00, 31.8MB/s]"
      }
     },
     "39908da542614f24b27b9935f46e21b1": {
      "model_module": "@jupyter-widgets/controls",
      "model_module_version": "1.5.0",
      "model_name": "IntSliderModel",
      "state": {
       "_dom_classes": [],
       "_model_module": "@jupyter-widgets/controls",
       "_model_module_version": "1.5.0",
       "_model_name": "IntSliderModel",
       "_view_count": null,
       "_view_module": "@jupyter-widgets/controls",
       "_view_module_version": "1.5.0",
       "_view_name": "IntSliderView",
       "continuous_update": true,
       "description": "i",
       "description_tooltip": null,
       "disabled": false,
       "layout": "IPY_MODEL_066e459271d54acebec308431efbae28",
       "max": 118441,
       "min": 0,
       "orientation": "horizontal",
       "readout": true,
       "readout_format": "d",
       "step": 1,
       "style": "IPY_MODEL_d13e4ba8c40347cca315b19b16cf9849",
       "value": 59220
      }
     },
     "39c5af08dfc14ada8c82648c13d15824": {
      "model_module": "@jupyter-widgets/controls",
      "model_module_version": "1.5.0",
      "model_name": "DescriptionStyleModel",
      "state": {
       "_model_module": "@jupyter-widgets/controls",
       "_model_module_version": "1.5.0",
       "_model_name": "DescriptionStyleModel",
       "_view_count": null,
       "_view_module": "@jupyter-widgets/base",
       "_view_module_version": "1.2.0",
       "_view_name": "StyleView",
       "description_width": ""
      }
     },
     "3fdb5e36a9114caca2de2b869e797df7": {
      "model_module": "@jupyter-widgets/controls",
      "model_module_version": "1.5.0",
      "model_name": "FloatProgressModel",
      "state": {
       "_dom_classes": [],
       "_model_module": "@jupyter-widgets/controls",
       "_model_module_version": "1.5.0",
       "_model_name": "FloatProgressModel",
       "_view_count": null,
       "_view_module": "@jupyter-widgets/controls",
       "_view_module_version": "1.5.0",
       "_view_name": "ProgressView",
       "bar_style": "success",
       "description": "",
       "description_tooltip": null,
       "layout": "IPY_MODEL_c33dc09d8eaa48d19f601799ac99aa00",
       "max": 536063208.0,
       "min": 0.0,
       "orientation": "horizontal",
       "style": "IPY_MODEL_8fc786a8f938473ea67347294269c979",
       "value": 536063208.0
      }
     },
     "4e731fef6c444da98de46e117d49e3ac": {
      "model_module": "@jupyter-widgets/controls",
      "model_module_version": "1.5.0",
      "model_name": "HTMLModel",
      "state": {
       "_dom_classes": [],
       "_model_module": "@jupyter-widgets/controls",
       "_model_module_version": "1.5.0",
       "_model_name": "HTMLModel",
       "_view_count": null,
       "_view_module": "@jupyter-widgets/controls",
       "_view_module_version": "1.5.0",
       "_view_name": "HTMLView",
       "description": "",
       "description_tooltip": null,
       "layout": "IPY_MODEL_c6ce1c3358de4fa9b5f30d6cfd16e5cc",
       "placeholder": "​",
       "style": "IPY_MODEL_1b539ac2d3ef43ec97a65ac17812c6bb",
       "value": " 28.0/28.0 [00:00&lt;00:00, 987B/s]"
      }
     },
     "515099f421aa465bab46244023e883ed": {
      "model_module": "@jupyter-widgets/controls",
      "model_module_version": "1.5.0",
      "model_name": "FloatProgressModel",
      "state": {
       "_dom_classes": [],
       "_model_module": "@jupyter-widgets/controls",
       "_model_module_version": "1.5.0",
       "_model_name": "FloatProgressModel",
       "_view_count": null,
       "_view_module": "@jupyter-widgets/controls",
       "_view_module_version": "1.5.0",
       "_view_name": "ProgressView",
       "bar_style": "success",
       "description": "",
       "description_tooltip": null,
       "layout": "IPY_MODEL_5fa49b3689204fe6b09434c1ef51db99",
       "max": 231508.0,
       "min": 0.0,
       "orientation": "horizontal",
       "style": "IPY_MODEL_9b042f0bc0b04314925663fa2f9d3e67",
       "value": 231508.0
      }
     },
     "53553bd7051b448fa2d4965f49bd39eb": {
      "model_module": "@jupyter-widgets/controls",
      "model_module_version": "1.5.0",
      "model_name": "HTMLModel",
      "state": {
       "_dom_classes": [],
       "_model_module": "@jupyter-widgets/controls",
       "_model_module_version": "1.5.0",
       "_model_name": "HTMLModel",
       "_view_count": null,
       "_view_module": "@jupyter-widgets/controls",
       "_view_module_version": "1.5.0",
       "_view_name": "HTMLView",
       "description": "",
       "description_tooltip": null,
       "layout": "IPY_MODEL_1a3df029721a4ed3aad009cb07c0991d",
       "placeholder": "​",
       "style": "IPY_MODEL_8adf0e9f2ed8440b80171e34a2d10318",
       "value": "Downloading: 100%"
      }
     },
     "5445205b255e409c8563ea78f16498ae": {
      "model_module": "@jupyter-widgets/base",
      "model_module_version": "1.2.0",
      "model_name": "LayoutModel",
      "state": {
       "_model_module": "@jupyter-widgets/base",
       "_model_module_version": "1.2.0",
       "_model_name": "LayoutModel",
       "_view_count": null,
       "_view_module": "@jupyter-widgets/base",
       "_view_module_version": "1.2.0",
       "_view_name": "LayoutView",
       "align_content": null,
       "align_items": null,
       "align_self": null,
       "border": null,
       "bottom": null,
       "display": null,
       "flex": null,
       "flex_flow": null,
       "grid_area": null,
       "grid_auto_columns": null,
       "grid_auto_flow": null,
       "grid_auto_rows": null,
       "grid_column": null,
       "grid_gap": null,
       "grid_row": null,
       "grid_template_areas": null,
       "grid_template_columns": null,
       "grid_template_rows": null,
       "height": null,
       "justify_content": null,
       "justify_items": null,
       "left": null,
       "margin": null,
       "max_height": null,
       "max_width": null,
       "min_height": null,
       "min_width": null,
       "object_fit": null,
       "object_position": null,
       "order": null,
       "overflow": null,
       "overflow_x": null,
       "overflow_y": null,
       "padding": null,
       "right": null,
       "top": null,
       "visibility": null,
       "width": null
      }
     },
     "5fa49b3689204fe6b09434c1ef51db99": {
      "model_module": "@jupyter-widgets/base",
      "model_module_version": "1.2.0",
      "model_name": "LayoutModel",
      "state": {
       "_model_module": "@jupyter-widgets/base",
       "_model_module_version": "1.2.0",
       "_model_name": "LayoutModel",
       "_view_count": null,
       "_view_module": "@jupyter-widgets/base",
       "_view_module_version": "1.2.0",
       "_view_name": "LayoutView",
       "align_content": null,
       "align_items": null,
       "align_self": null,
       "border": null,
       "bottom": null,
       "display": null,
       "flex": null,
       "flex_flow": null,
       "grid_area": null,
       "grid_auto_columns": null,
       "grid_auto_flow": null,
       "grid_auto_rows": null,
       "grid_column": null,
       "grid_gap": null,
       "grid_row": null,
       "grid_template_areas": null,
       "grid_template_columns": null,
       "grid_template_rows": null,
       "height": null,
       "justify_content": null,
       "justify_items": null,
       "left": null,
       "margin": null,
       "max_height": null,
       "max_width": null,
       "min_height": null,
       "min_width": null,
       "object_fit": null,
       "object_position": null,
       "order": null,
       "overflow": null,
       "overflow_x": null,
       "overflow_y": null,
       "padding": null,
       "right": null,
       "top": null,
       "visibility": null,
       "width": null
      }
     },
     "6344f5d61b284825a67e086d812dc711": {
      "model_module": "@jupyter-widgets/controls",
      "model_module_version": "1.5.0",
      "model_name": "HBoxModel",
      "state": {
       "_dom_classes": [],
       "_model_module": "@jupyter-widgets/controls",
       "_model_module_version": "1.5.0",
       "_model_name": "HBoxModel",
       "_view_count": null,
       "_view_module": "@jupyter-widgets/controls",
       "_view_module_version": "1.5.0",
       "_view_name": "HBoxView",
       "box_style": "",
       "children": [
        "IPY_MODEL_a55b25059337460095b1b59364bba07f",
        "IPY_MODEL_d7c012fccf554689b77787313dfcac92",
        "IPY_MODEL_4e731fef6c444da98de46e117d49e3ac"
       ],
       "layout": "IPY_MODEL_cca457ef79914586886e3c2f64ef031e"
      }
     },
     "63a577584c9c4c79bb1e0af1c4627b80": {
      "model_module": "@jupyter-widgets/controls",
      "model_module_version": "1.5.0",
      "model_name": "DescriptionStyleModel",
      "state": {
       "_model_module": "@jupyter-widgets/controls",
       "_model_module_version": "1.5.0",
       "_model_name": "DescriptionStyleModel",
       "_view_count": null,
       "_view_module": "@jupyter-widgets/base",
       "_view_module_version": "1.2.0",
       "_view_name": "StyleView",
       "description_width": ""
      }
     },
     "6984c50563d44225a14965d94dfb2762": {
      "model_module": "@jupyter-widgets/controls",
      "model_module_version": "1.5.0",
      "model_name": "HTMLModel",
      "state": {
       "_dom_classes": [],
       "_model_module": "@jupyter-widgets/controls",
       "_model_module_version": "1.5.0",
       "_model_name": "HTMLModel",
       "_view_count": null,
       "_view_module": "@jupyter-widgets/controls",
       "_view_module_version": "1.5.0",
       "_view_name": "HTMLView",
       "description": "",
       "description_tooltip": null,
       "layout": "IPY_MODEL_8d2a95cd7be442dd92b4f8ad59ecb714",
       "placeholder": "​",
       "style": "IPY_MODEL_33d82db0b17d41bb8612e88a8e6945eb",
       "value": "Downloading: 100%"
      }
     },
     "69b1492e108d460ead842be93057e22c": {
      "model_module": "@jupyter-widgets/controls",
      "model_module_version": "1.5.0",
      "model_name": "HTMLModel",
      "state": {
       "_dom_classes": [],
       "_model_module": "@jupyter-widgets/controls",
       "_model_module_version": "1.5.0",
       "_model_name": "HTMLModel",
       "_view_count": null,
       "_view_module": "@jupyter-widgets/controls",
       "_view_module_version": "1.5.0",
       "_view_name": "HTMLView",
       "description": "",
       "description_tooltip": null,
       "layout": "IPY_MODEL_5445205b255e409c8563ea78f16498ae",
       "placeholder": "​",
       "style": "IPY_MODEL_63a577584c9c4c79bb1e0af1c4627b80",
       "value": " 226k/226k [00:00&lt;00:00, 2.85MB/s]"
      }
     },
     "69e1284799e74037acae384fd4553523": {
      "model_module": "@jupyter-widgets/base",
      "model_module_version": "1.2.0",
      "model_name": "LayoutModel",
      "state": {
       "_model_module": "@jupyter-widgets/base",
       "_model_module_version": "1.2.0",
       "_model_name": "LayoutModel",
       "_view_count": null,
       "_view_module": "@jupyter-widgets/base",
       "_view_module_version": "1.2.0",
       "_view_name": "LayoutView",
       "align_content": null,
       "align_items": null,
       "align_self": null,
       "border": null,
       "bottom": null,
       "display": null,
       "flex": null,
       "flex_flow": null,
       "grid_area": null,
       "grid_auto_columns": null,
       "grid_auto_flow": null,
       "grid_auto_rows": null,
       "grid_column": null,
       "grid_gap": null,
       "grid_row": null,
       "grid_template_areas": null,
       "grid_template_columns": null,
       "grid_template_rows": null,
       "height": null,
       "justify_content": null,
       "justify_items": null,
       "left": null,
       "margin": null,
       "max_height": null,
       "max_width": null,
       "min_height": null,
       "min_width": null,
       "object_fit": null,
       "object_position": null,
       "order": null,
       "overflow": null,
       "overflow_x": null,
       "overflow_y": null,
       "padding": null,
       "right": null,
       "top": null,
       "visibility": null,
       "width": null
      }
     },
     "6ff3146178ed47e8b70d52d91666f549": {
      "model_module": "@jupyter-widgets/controls",
      "model_module_version": "1.5.0",
      "model_name": "DescriptionStyleModel",
      "state": {
       "_model_module": "@jupyter-widgets/controls",
       "_model_module_version": "1.5.0",
       "_model_name": "DescriptionStyleModel",
       "_view_count": null,
       "_view_module": "@jupyter-widgets/base",
       "_view_module_version": "1.2.0",
       "_view_name": "StyleView",
       "description_width": ""
      }
     },
     "72bcf93aa4d4486eb3edb2f1315d40f1": {
      "model_module": "@jupyter-widgets/controls",
      "model_module_version": "1.5.0",
      "model_name": "HBoxModel",
      "state": {
       "_dom_classes": [],
       "_model_module": "@jupyter-widgets/controls",
       "_model_module_version": "1.5.0",
       "_model_name": "HBoxModel",
       "_view_count": null,
       "_view_module": "@jupyter-widgets/controls",
       "_view_module_version": "1.5.0",
       "_view_name": "HBoxView",
       "box_style": "",
       "children": [
        "IPY_MODEL_53553bd7051b448fa2d4965f49bd39eb",
        "IPY_MODEL_515099f421aa465bab46244023e883ed",
        "IPY_MODEL_69b1492e108d460ead842be93057e22c"
       ],
       "layout": "IPY_MODEL_dab971a891524280a4ecfbba46ecb66f"
      }
     },
     "72c757639b464f0891cffe365c106748": {
      "model_module": "@jupyter-widgets/controls",
      "model_module_version": "1.5.0",
      "model_name": "HTMLModel",
      "state": {
       "_dom_classes": [],
       "_model_module": "@jupyter-widgets/controls",
       "_model_module_version": "1.5.0",
       "_model_name": "HTMLModel",
       "_view_count": null,
       "_view_module": "@jupyter-widgets/controls",
       "_view_module_version": "1.5.0",
       "_view_name": "HTMLView",
       "description": "",
       "description_tooltip": null,
       "layout": "IPY_MODEL_cd142d779508460b96156c244672608b",
       "placeholder": "​",
       "style": "IPY_MODEL_39c5af08dfc14ada8c82648c13d15824",
       "value": " 570/570 [00:00&lt;00:00, 13.7kB/s]"
      }
     },
     "72ee3ab74e734d10bd4a1b4679d26002": {
      "model_module": "@jupyter-widgets/base",
      "model_module_version": "1.2.0",
      "model_name": "LayoutModel",
      "state": {
       "_model_module": "@jupyter-widgets/base",
       "_model_module_version": "1.2.0",
       "_model_name": "LayoutModel",
       "_view_count": null,
       "_view_module": "@jupyter-widgets/base",
       "_view_module_version": "1.2.0",
       "_view_name": "LayoutView",
       "align_content": null,
       "align_items": null,
       "align_self": null,
       "border": null,
       "bottom": null,
       "display": null,
       "flex": null,
       "flex_flow": null,
       "grid_area": null,
       "grid_auto_columns": null,
       "grid_auto_flow": null,
       "grid_auto_rows": null,
       "grid_column": null,
       "grid_gap": null,
       "grid_row": null,
       "grid_template_areas": null,
       "grid_template_columns": null,
       "grid_template_rows": null,
       "height": null,
       "justify_content": null,
       "justify_items": null,
       "left": null,
       "margin": null,
       "max_height": null,
       "max_width": null,
       "min_height": null,
       "min_width": null,
       "object_fit": null,
       "object_position": null,
       "order": null,
       "overflow": null,
       "overflow_x": null,
       "overflow_y": null,
       "padding": null,
       "right": null,
       "top": null,
       "visibility": null,
       "width": null
      }
     },
     "88691b53bd704c4e8f878dd9c8e38b28": {
      "model_module": "@jupyter-widgets/controls",
      "model_module_version": "1.5.0",
      "model_name": "DescriptionStyleModel",
      "state": {
       "_model_module": "@jupyter-widgets/controls",
       "_model_module_version": "1.5.0",
       "_model_name": "DescriptionStyleModel",
       "_view_count": null,
       "_view_module": "@jupyter-widgets/base",
       "_view_module_version": "1.2.0",
       "_view_name": "StyleView",
       "description_width": ""
      }
     },
     "8adf0e9f2ed8440b80171e34a2d10318": {
      "model_module": "@jupyter-widgets/controls",
      "model_module_version": "1.5.0",
      "model_name": "DescriptionStyleModel",
      "state": {
       "_model_module": "@jupyter-widgets/controls",
       "_model_module_version": "1.5.0",
       "_model_name": "DescriptionStyleModel",
       "_view_count": null,
       "_view_module": "@jupyter-widgets/base",
       "_view_module_version": "1.2.0",
       "_view_name": "StyleView",
       "description_width": ""
      }
     },
     "8d2a95cd7be442dd92b4f8ad59ecb714": {
      "model_module": "@jupyter-widgets/base",
      "model_module_version": "1.2.0",
      "model_name": "LayoutModel",
      "state": {
       "_model_module": "@jupyter-widgets/base",
       "_model_module_version": "1.2.0",
       "_model_name": "LayoutModel",
       "_view_count": null,
       "_view_module": "@jupyter-widgets/base",
       "_view_module_version": "1.2.0",
       "_view_name": "LayoutView",
       "align_content": null,
       "align_items": null,
       "align_self": null,
       "border": null,
       "bottom": null,
       "display": null,
       "flex": null,
       "flex_flow": null,
       "grid_area": null,
       "grid_auto_columns": null,
       "grid_auto_flow": null,
       "grid_auto_rows": null,
       "grid_column": null,
       "grid_gap": null,
       "grid_row": null,
       "grid_template_areas": null,
       "grid_template_columns": null,
       "grid_template_rows": null,
       "height": null,
       "justify_content": null,
       "justify_items": null,
       "left": null,
       "margin": null,
       "max_height": null,
       "max_width": null,
       "min_height": null,
       "min_width": null,
       "object_fit": null,
       "object_position": null,
       "order": null,
       "overflow": null,
       "overflow_x": null,
       "overflow_y": null,
       "padding": null,
       "right": null,
       "top": null,
       "visibility": null,
       "width": null
      }
     },
     "8fc786a8f938473ea67347294269c979": {
      "model_module": "@jupyter-widgets/controls",
      "model_module_version": "1.5.0",
      "model_name": "ProgressStyleModel",
      "state": {
       "_model_module": "@jupyter-widgets/controls",
       "_model_module_version": "1.5.0",
       "_model_name": "ProgressStyleModel",
       "_view_count": null,
       "_view_module": "@jupyter-widgets/base",
       "_view_module_version": "1.2.0",
       "_view_name": "StyleView",
       "bar_color": null,
       "description_width": ""
      }
     },
     "95da91d057874b939971392d2f79ec9a": {
      "model_module": "@jupyter-widgets/controls",
      "model_module_version": "1.5.0",
      "model_name": "DescriptionStyleModel",
      "state": {
       "_model_module": "@jupyter-widgets/controls",
       "_model_module_version": "1.5.0",
       "_model_name": "DescriptionStyleModel",
       "_view_count": null,
       "_view_module": "@jupyter-widgets/base",
       "_view_module_version": "1.2.0",
       "_view_name": "StyleView",
       "description_width": ""
      }
     },
     "9b042f0bc0b04314925663fa2f9d3e67": {
      "model_module": "@jupyter-widgets/controls",
      "model_module_version": "1.5.0",
      "model_name": "ProgressStyleModel",
      "state": {
       "_model_module": "@jupyter-widgets/controls",
       "_model_module_version": "1.5.0",
       "_model_name": "ProgressStyleModel",
       "_view_count": null,
       "_view_module": "@jupyter-widgets/base",
       "_view_module_version": "1.2.0",
       "_view_name": "StyleView",
       "bar_color": null,
       "description_width": ""
      }
     },
     "9f14d3b3ad004dee870a3bd8ef2251df": {
      "model_module": "@jupyter-widgets/controls",
      "model_module_version": "1.5.0",
      "model_name": "HTMLModel",
      "state": {
       "_dom_classes": [],
       "_model_module": "@jupyter-widgets/controls",
       "_model_module_version": "1.5.0",
       "_model_name": "HTMLModel",
       "_view_count": null,
       "_view_module": "@jupyter-widgets/controls",
       "_view_module_version": "1.5.0",
       "_view_name": "HTMLView",
       "description": "",
       "description_tooltip": null,
       "layout": "IPY_MODEL_052d6fa1b8cc4e0e82ba72f53b167ee6",
       "placeholder": "​",
       "style": "IPY_MODEL_95da91d057874b939971392d2f79ec9a",
       "value": "Downloading: 100%"
      }
     },
     "a55b25059337460095b1b59364bba07f": {
      "model_module": "@jupyter-widgets/controls",
      "model_module_version": "1.5.0",
      "model_name": "HTMLModel",
      "state": {
       "_dom_classes": [],
       "_model_module": "@jupyter-widgets/controls",
       "_model_module_version": "1.5.0",
       "_model_name": "HTMLModel",
       "_view_count": null,
       "_view_module": "@jupyter-widgets/controls",
       "_view_module_version": "1.5.0",
       "_view_name": "HTMLView",
       "description": "",
       "description_tooltip": null,
       "layout": "IPY_MODEL_ba91bd789466498e8baa0706b3261567",
       "placeholder": "​",
       "style": "IPY_MODEL_6ff3146178ed47e8b70d52d91666f549",
       "value": "Downloading: 100%"
      }
     },
     "b9c180d9f1694c0e860b710ef258a7af": {
      "model_module": "@jupyter-widgets/controls",
      "model_module_version": "1.5.0",
      "model_name": "HBoxModel",
      "state": {
       "_dom_classes": [],
       "_model_module": "@jupyter-widgets/controls",
       "_model_module_version": "1.5.0",
       "_model_name": "HBoxModel",
       "_view_count": null,
       "_view_module": "@jupyter-widgets/controls",
       "_view_module_version": "1.5.0",
       "_view_name": "HBoxView",
       "box_style": "",
       "children": [
        "IPY_MODEL_9f14d3b3ad004dee870a3bd8ef2251df",
        "IPY_MODEL_3fdb5e36a9114caca2de2b869e797df7",
        "IPY_MODEL_393455090f214c68a4bd19bb18485139"
       ],
       "layout": "IPY_MODEL_69e1284799e74037acae384fd4553523"
      }
     },
     "ba91bd789466498e8baa0706b3261567": {
      "model_module": "@jupyter-widgets/base",
      "model_module_version": "1.2.0",
      "model_name": "LayoutModel",
      "state": {
       "_model_module": "@jupyter-widgets/base",
       "_model_module_version": "1.2.0",
       "_model_name": "LayoutModel",
       "_view_count": null,
       "_view_module": "@jupyter-widgets/base",
       "_view_module_version": "1.2.0",
       "_view_name": "LayoutView",
       "align_content": null,
       "align_items": null,
       "align_self": null,
       "border": null,
       "bottom": null,
       "display": null,
       "flex": null,
       "flex_flow": null,
       "grid_area": null,
       "grid_auto_columns": null,
       "grid_auto_flow": null,
       "grid_auto_rows": null,
       "grid_column": null,
       "grid_gap": null,
       "grid_row": null,
       "grid_template_areas": null,
       "grid_template_columns": null,
       "grid_template_rows": null,
       "height": null,
       "justify_content": null,
       "justify_items": null,
       "left": null,
       "margin": null,
       "max_height": null,
       "max_width": null,
       "min_height": null,
       "min_width": null,
       "object_fit": null,
       "object_position": null,
       "order": null,
       "overflow": null,
       "overflow_x": null,
       "overflow_y": null,
       "padding": null,
       "right": null,
       "top": null,
       "visibility": null,
       "width": null
      }
     },
     "c33dc09d8eaa48d19f601799ac99aa00": {
      "model_module": "@jupyter-widgets/base",
      "model_module_version": "1.2.0",
      "model_name": "LayoutModel",
      "state": {
       "_model_module": "@jupyter-widgets/base",
       "_model_module_version": "1.2.0",
       "_model_name": "LayoutModel",
       "_view_count": null,
       "_view_module": "@jupyter-widgets/base",
       "_view_module_version": "1.2.0",
       "_view_name": "LayoutView",
       "align_content": null,
       "align_items": null,
       "align_self": null,
       "border": null,
       "bottom": null,
       "display": null,
       "flex": null,
       "flex_flow": null,
       "grid_area": null,
       "grid_auto_columns": null,
       "grid_auto_flow": null,
       "grid_auto_rows": null,
       "grid_column": null,
       "grid_gap": null,
       "grid_row": null,
       "grid_template_areas": null,
       "grid_template_columns": null,
       "grid_template_rows": null,
       "height": null,
       "justify_content": null,
       "justify_items": null,
       "left": null,
       "margin": null,
       "max_height": null,
       "max_width": null,
       "min_height": null,
       "min_width": null,
       "object_fit": null,
       "object_position": null,
       "order": null,
       "overflow": null,
       "overflow_x": null,
       "overflow_y": null,
       "padding": null,
       "right": null,
       "top": null,
       "visibility": null,
       "width": null
      }
     },
     "c6ce1c3358de4fa9b5f30d6cfd16e5cc": {
      "model_module": "@jupyter-widgets/base",
      "model_module_version": "1.2.0",
      "model_name": "LayoutModel",
      "state": {
       "_model_module": "@jupyter-widgets/base",
       "_model_module_version": "1.2.0",
       "_model_name": "LayoutModel",
       "_view_count": null,
       "_view_module": "@jupyter-widgets/base",
       "_view_module_version": "1.2.0",
       "_view_name": "LayoutView",
       "align_content": null,
       "align_items": null,
       "align_self": null,
       "border": null,
       "bottom": null,
       "display": null,
       "flex": null,
       "flex_flow": null,
       "grid_area": null,
       "grid_auto_columns": null,
       "grid_auto_flow": null,
       "grid_auto_rows": null,
       "grid_column": null,
       "grid_gap": null,
       "grid_row": null,
       "grid_template_areas": null,
       "grid_template_columns": null,
       "grid_template_rows": null,
       "height": null,
       "justify_content": null,
       "justify_items": null,
       "left": null,
       "margin": null,
       "max_height": null,
       "max_width": null,
       "min_height": null,
       "min_width": null,
       "object_fit": null,
       "object_position": null,
       "order": null,
       "overflow": null,
       "overflow_x": null,
       "overflow_y": null,
       "padding": null,
       "right": null,
       "top": null,
       "visibility": null,
       "width": null
      }
     },
     "cca457ef79914586886e3c2f64ef031e": {
      "model_module": "@jupyter-widgets/base",
      "model_module_version": "1.2.0",
      "model_name": "LayoutModel",
      "state": {
       "_model_module": "@jupyter-widgets/base",
       "_model_module_version": "1.2.0",
       "_model_name": "LayoutModel",
       "_view_count": null,
       "_view_module": "@jupyter-widgets/base",
       "_view_module_version": "1.2.0",
       "_view_name": "LayoutView",
       "align_content": null,
       "align_items": null,
       "align_self": null,
       "border": null,
       "bottom": null,
       "display": null,
       "flex": null,
       "flex_flow": null,
       "grid_area": null,
       "grid_auto_columns": null,
       "grid_auto_flow": null,
       "grid_auto_rows": null,
       "grid_column": null,
       "grid_gap": null,
       "grid_row": null,
       "grid_template_areas": null,
       "grid_template_columns": null,
       "grid_template_rows": null,
       "height": null,
       "justify_content": null,
       "justify_items": null,
       "left": null,
       "margin": null,
       "max_height": null,
       "max_width": null,
       "min_height": null,
       "min_width": null,
       "object_fit": null,
       "object_position": null,
       "order": null,
       "overflow": null,
       "overflow_x": null,
       "overflow_y": null,
       "padding": null,
       "right": null,
       "top": null,
       "visibility": null,
       "width": null
      }
     },
     "cd142d779508460b96156c244672608b": {
      "model_module": "@jupyter-widgets/base",
      "model_module_version": "1.2.0",
      "model_name": "LayoutModel",
      "state": {
       "_model_module": "@jupyter-widgets/base",
       "_model_module_version": "1.2.0",
       "_model_name": "LayoutModel",
       "_view_count": null,
       "_view_module": "@jupyter-widgets/base",
       "_view_module_version": "1.2.0",
       "_view_name": "LayoutView",
       "align_content": null,
       "align_items": null,
       "align_self": null,
       "border": null,
       "bottom": null,
       "display": null,
       "flex": null,
       "flex_flow": null,
       "grid_area": null,
       "grid_auto_columns": null,
       "grid_auto_flow": null,
       "grid_auto_rows": null,
       "grid_column": null,
       "grid_gap": null,
       "grid_row": null,
       "grid_template_areas": null,
       "grid_template_columns": null,
       "grid_template_rows": null,
       "height": null,
       "justify_content": null,
       "justify_items": null,
       "left": null,
       "margin": null,
       "max_height": null,
       "max_width": null,
       "min_height": null,
       "min_width": null,
       "object_fit": null,
       "object_position": null,
       "order": null,
       "overflow": null,
       "overflow_x": null,
       "overflow_y": null,
       "padding": null,
       "right": null,
       "top": null,
       "visibility": null,
       "width": null
      }
     },
     "d12a1701b3184103b2913ce01804f0e3": {
      "model_module": "@jupyter-widgets/base",
      "model_module_version": "1.2.0",
      "model_name": "LayoutModel",
      "state": {
       "_model_module": "@jupyter-widgets/base",
       "_model_module_version": "1.2.0",
       "_model_name": "LayoutModel",
       "_view_count": null,
       "_view_module": "@jupyter-widgets/base",
       "_view_module_version": "1.2.0",
       "_view_name": "LayoutView",
       "align_content": null,
       "align_items": null,
       "align_self": null,
       "border": null,
       "bottom": null,
       "display": null,
       "flex": null,
       "flex_flow": null,
       "grid_area": null,
       "grid_auto_columns": null,
       "grid_auto_flow": null,
       "grid_auto_rows": null,
       "grid_column": null,
       "grid_gap": null,
       "grid_row": null,
       "grid_template_areas": null,
       "grid_template_columns": null,
       "grid_template_rows": null,
       "height": null,
       "justify_content": null,
       "justify_items": null,
       "left": null,
       "margin": null,
       "max_height": null,
       "max_width": null,
       "min_height": null,
       "min_width": null,
       "object_fit": null,
       "object_position": null,
       "order": null,
       "overflow": null,
       "overflow_x": null,
       "overflow_y": null,
       "padding": null,
       "right": null,
       "top": null,
       "visibility": null,
       "width": null
      }
     },
     "d13e4ba8c40347cca315b19b16cf9849": {
      "model_module": "@jupyter-widgets/controls",
      "model_module_version": "1.5.0",
      "model_name": "SliderStyleModel",
      "state": {
       "_model_module": "@jupyter-widgets/controls",
       "_model_module_version": "1.5.0",
       "_model_name": "SliderStyleModel",
       "_view_count": null,
       "_view_module": "@jupyter-widgets/base",
       "_view_module_version": "1.2.0",
       "_view_name": "StyleView",
       "description_width": "",
       "handle_color": null
      }
     },
     "d6fde6c04f88441b91a63e52feb10835": {
      "model_module": "@jupyter-widgets/controls",
      "model_module_version": "1.5.0",
      "model_name": "ProgressStyleModel",
      "state": {
       "_model_module": "@jupyter-widgets/controls",
       "_model_module_version": "1.5.0",
       "_model_name": "ProgressStyleModel",
       "_view_count": null,
       "_view_module": "@jupyter-widgets/base",
       "_view_module_version": "1.2.0",
       "_view_name": "StyleView",
       "bar_color": null,
       "description_width": ""
      }
     },
     "d7c012fccf554689b77787313dfcac92": {
      "model_module": "@jupyter-widgets/controls",
      "model_module_version": "1.5.0",
      "model_name": "FloatProgressModel",
      "state": {
       "_dom_classes": [],
       "_model_module": "@jupyter-widgets/controls",
       "_model_module_version": "1.5.0",
       "_model_name": "FloatProgressModel",
       "_view_count": null,
       "_view_module": "@jupyter-widgets/controls",
       "_view_module_version": "1.5.0",
       "_view_name": "ProgressView",
       "bar_style": "success",
       "description": "",
       "description_tooltip": null,
       "layout": "IPY_MODEL_fbb0950a132244378d9f1aaff1274837",
       "max": 28.0,
       "min": 0.0,
       "orientation": "horizontal",
       "style": "IPY_MODEL_2eb1f1181c134c28ab63d6b8d3b59c79",
       "value": 28.0
      }
     },
     "d974d63f99ce4e319f8faa588211a951": {
      "model_module": "@jupyter-widgets/controls",
      "model_module_version": "1.5.0",
      "model_name": "HBoxModel",
      "state": {
       "_dom_classes": [],
       "_model_module": "@jupyter-widgets/controls",
       "_model_module_version": "1.5.0",
       "_model_name": "HBoxModel",
       "_view_count": null,
       "_view_module": "@jupyter-widgets/controls",
       "_view_module_version": "1.5.0",
       "_view_name": "HBoxView",
       "box_style": "",
       "children": [
        "IPY_MODEL_6984c50563d44225a14965d94dfb2762",
        "IPY_MODEL_2e812e95c42647a58765ac7199343767",
        "IPY_MODEL_72c757639b464f0891cffe365c106748"
       ],
       "layout": "IPY_MODEL_384c10c1deb14234af9b1d5100f0c636"
      }
     },
     "da5f3edc82bd4c9c8b958ede527442f3": {
      "model_module": "@jupyter-widgets/controls",
      "model_module_version": "1.5.0",
      "model_name": "VBoxModel",
      "state": {
       "_dom_classes": [
        "widget-interact"
       ],
       "_model_module": "@jupyter-widgets/controls",
       "_model_module_version": "1.5.0",
       "_model_name": "VBoxModel",
       "_view_count": null,
       "_view_module": "@jupyter-widgets/controls",
       "_view_module_version": "1.5.0",
       "_view_name": "VBoxView",
       "box_style": "",
       "children": [
        "IPY_MODEL_39908da542614f24b27b9935f46e21b1",
        "IPY_MODEL_2b5ef691917d44bf8692ef4458506695"
       ],
       "layout": "IPY_MODEL_d12a1701b3184103b2913ce01804f0e3"
      }
     },
     "dab971a891524280a4ecfbba46ecb66f": {
      "model_module": "@jupyter-widgets/base",
      "model_module_version": "1.2.0",
      "model_name": "LayoutModel",
      "state": {
       "_model_module": "@jupyter-widgets/base",
       "_model_module_version": "1.2.0",
       "_model_name": "LayoutModel",
       "_view_count": null,
       "_view_module": "@jupyter-widgets/base",
       "_view_module_version": "1.2.0",
       "_view_name": "LayoutView",
       "align_content": null,
       "align_items": null,
       "align_self": null,
       "border": null,
       "bottom": null,
       "display": null,
       "flex": null,
       "flex_flow": null,
       "grid_area": null,
       "grid_auto_columns": null,
       "grid_auto_flow": null,
       "grid_auto_rows": null,
       "grid_column": null,
       "grid_gap": null,
       "grid_row": null,
       "grid_template_areas": null,
       "grid_template_columns": null,
       "grid_template_rows": null,
       "height": null,
       "justify_content": null,
       "justify_items": null,
       "left": null,
       "margin": null,
       "max_height": null,
       "max_width": null,
       "min_height": null,
       "min_width": null,
       "object_fit": null,
       "object_position": null,
       "order": null,
       "overflow": null,
       "overflow_x": null,
       "overflow_y": null,
       "padding": null,
       "right": null,
       "top": null,
       "visibility": null,
       "width": null
      }
     },
     "e5e736aceac54f1b829dcc1e5245f4fd": {
      "model_module": "@jupyter-widgets/base",
      "model_module_version": "1.2.0",
      "model_name": "LayoutModel",
      "state": {
       "_model_module": "@jupyter-widgets/base",
       "_model_module_version": "1.2.0",
       "_model_name": "LayoutModel",
       "_view_count": null,
       "_view_module": "@jupyter-widgets/base",
       "_view_module_version": "1.2.0",
       "_view_name": "LayoutView",
       "align_content": null,
       "align_items": null,
       "align_self": null,
       "border": null,
       "bottom": null,
       "display": null,
       "flex": null,
       "flex_flow": null,
       "grid_area": null,
       "grid_auto_columns": null,
       "grid_auto_flow": null,
       "grid_auto_rows": null,
       "grid_column": null,
       "grid_gap": null,
       "grid_row": null,
       "grid_template_areas": null,
       "grid_template_columns": null,
       "grid_template_rows": null,
       "height": null,
       "justify_content": null,
       "justify_items": null,
       "left": null,
       "margin": null,
       "max_height": null,
       "max_width": null,
       "min_height": null,
       "min_width": null,
       "object_fit": null,
       "object_position": null,
       "order": null,
       "overflow": null,
       "overflow_x": null,
       "overflow_y": null,
       "padding": null,
       "right": null,
       "top": null,
       "visibility": null,
       "width": null
      }
     },
     "fbb0950a132244378d9f1aaff1274837": {
      "model_module": "@jupyter-widgets/base",
      "model_module_version": "1.2.0",
      "model_name": "LayoutModel",
      "state": {
       "_model_module": "@jupyter-widgets/base",
       "_model_module_version": "1.2.0",
       "_model_name": "LayoutModel",
       "_view_count": null,
       "_view_module": "@jupyter-widgets/base",
       "_view_module_version": "1.2.0",
       "_view_name": "LayoutView",
       "align_content": null,
       "align_items": null,
       "align_self": null,
       "border": null,
       "bottom": null,
       "display": null,
       "flex": null,
       "flex_flow": null,
       "grid_area": null,
       "grid_auto_columns": null,
       "grid_auto_flow": null,
       "grid_auto_rows": null,
       "grid_column": null,
       "grid_gap": null,
       "grid_row": null,
       "grid_template_areas": null,
       "grid_template_columns": null,
       "grid_template_rows": null,
       "height": null,
       "justify_content": null,
       "justify_items": null,
       "left": null,
       "margin": null,
       "max_height": null,
       "max_width": null,
       "min_height": null,
       "min_width": null,
       "object_fit": null,
       "object_position": null,
       "order": null,
       "overflow": null,
       "overflow_x": null,
       "overflow_y": null,
       "padding": null,
       "right": null,
       "top": null,
       "visibility": null,
       "width": null
      }
     }
    },
    "version_major": 2,
    "version_minor": 0
   }
  }
 },
 "nbformat": 4,
 "nbformat_minor": 5
}
