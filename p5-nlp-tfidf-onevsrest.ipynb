{
 "cells": [
  {
   "cell_type": "markdown",
   "id": "a28de884",
   "metadata": {
    "papermill": {
     "duration": 0.016654,
     "end_time": "2023-01-04T16:38:43.385353",
     "exception": false,
     "start_time": "2023-01-04T16:38:43.368699",
     "status": "completed"
    },
    "tags": []
   },
   "source": [
    "# Index\n",
    "* [Import](#index)\n",
    "* [Tokenization](#Tokenization)\n",
    "* [CountVectorizer](#CountVectorizer)\n",
    "* [PreprocessPipeline](#PreprocessPipeline)\n",
    "* [OvsRest](#OvsRest)\n",
    "    - [LogisticRegression](#LogisticRegression)\n",
    "    - [SVC](#SVC)\n",
    "* [Word2Vec](#Word2Vec)\n",
    "* [BERT](#BERT)\n",
    "* [USE](#USE)"
   ]
  },
  {
   "cell_type": "code",
   "execution_count": 1,
   "id": "9c3e792f",
   "metadata": {
    "_cell_guid": "b1076dfc-b9ad-4769-8c92-a6c4dae69d19",
    "_uuid": "8f2839f25d086af736a60e9eeb907d3b93b6e0e5",
    "execution": {
     "iopub.execute_input": "2023-01-04T16:38:43.417951Z",
     "iopub.status.busy": "2023-01-04T16:38:43.417233Z",
     "iopub.status.idle": "2023-01-04T16:38:56.186258Z",
     "shell.execute_reply": "2023-01-04T16:38:56.185227Z"
    },
    "papermill": {
     "duration": 12.788889,
     "end_time": "2023-01-04T16:38:56.189538",
     "exception": false,
     "start_time": "2023-01-04T16:38:43.400649",
     "status": "completed"
    },
    "tags": []
   },
   "outputs": [
    {
     "name": "stderr",
     "output_type": "stream",
     "text": [
      "2023-01-04 16:38:51.375010: I tensorflow/stream_executor/cuda/cuda_gpu_executor.cc:937] successful NUMA node read from SysFS had negative value (-1), but there must be at least one NUMA node, so returning NUMA node zero\n",
      "2023-01-04 16:38:51.376112: I tensorflow/stream_executor/cuda/cuda_gpu_executor.cc:937] successful NUMA node read from SysFS had negative value (-1), but there must be at least one NUMA node, so returning NUMA node zero\n",
      "2023-01-04 16:38:51.376813: I tensorflow/stream_executor/cuda/cuda_gpu_executor.cc:937] successful NUMA node read from SysFS had negative value (-1), but there must be at least one NUMA node, so returning NUMA node zero\n",
      "2023-01-04 16:38:51.378628: I tensorflow/core/platform/cpu_feature_guard.cc:142] This TensorFlow binary is optimized with oneAPI Deep Neural Network Library (oneDNN) to use the following CPU instructions in performance-critical operations:  AVX2 AVX512F FMA\n",
      "To enable them in other operations, rebuild TensorFlow with the appropriate compiler flags.\n",
      "2023-01-04 16:38:51.378979: I tensorflow/stream_executor/cuda/cuda_gpu_executor.cc:937] successful NUMA node read from SysFS had negative value (-1), but there must be at least one NUMA node, so returning NUMA node zero\n",
      "2023-01-04 16:38:51.379676: I tensorflow/stream_executor/cuda/cuda_gpu_executor.cc:937] successful NUMA node read from SysFS had negative value (-1), but there must be at least one NUMA node, so returning NUMA node zero\n",
      "2023-01-04 16:38:51.380382: I tensorflow/stream_executor/cuda/cuda_gpu_executor.cc:937] successful NUMA node read from SysFS had negative value (-1), but there must be at least one NUMA node, so returning NUMA node zero\n",
      "2023-01-04 16:38:55.800347: I tensorflow/stream_executor/cuda/cuda_gpu_executor.cc:937] successful NUMA node read from SysFS had negative value (-1), but there must be at least one NUMA node, so returning NUMA node zero\n",
      "2023-01-04 16:38:55.801533: I tensorflow/stream_executor/cuda/cuda_gpu_executor.cc:937] successful NUMA node read from SysFS had negative value (-1), but there must be at least one NUMA node, so returning NUMA node zero\n",
      "2023-01-04 16:38:55.802681: I tensorflow/stream_executor/cuda/cuda_gpu_executor.cc:937] successful NUMA node read from SysFS had negative value (-1), but there must be at least one NUMA node, so returning NUMA node zero\n",
      "2023-01-04 16:38:55.803395: I tensorflow/core/common_runtime/gpu/gpu_device.cc:1510] Created device /job:localhost/replica:0/task:0/device:GPU:0 with 15043 MB memory:  -> device: 0, name: Tesla P100-PCIE-16GB, pci bus id: 0000:00:04.0, compute capability: 6.0\n"
     ]
    }
   ],
   "source": [
    "import time\n",
    "import json\n",
    "import os\n",
    "\n",
    "# from joblib import dump, load, Memory\n",
    "import joblib\n",
    "import dill\n",
    "import weakref\n",
    "\n",
    "# import warnings\n",
    "\n",
    "import numpy as np\n",
    "import pandas as pd\n",
    "import gensim\n",
    "import matplotlib.pyplot as plt\n",
    "\n",
    "# from gensim import (\n",
    "#     corpora,\n",
    "# )  # https://pypi.org/project/gensim/ #https://radimrehurek.com/gensim/auto_examples/core/run_topics_and_transformations.html#sphx-glr-auto-examples-core-run-topics-and-transformations-py\n",
    "from sklearn import (\n",
    "    metrics,\n",
    "    feature_extraction,\n",
    "    linear_model,\n",
    "    model_selection,\n",
    "    preprocessing,\n",
    "    cluster,\n",
    "    decomposition,\n",
    "    multiclass,\n",
    "    svm,\n",
    "    pipeline,\n",
    "    exceptions,\n",
    "    manifold,\n",
    ")\n",
    "from sklearn.utils._testing import ignore_warnings\n",
    "from sklearn.base import BaseEstimator, TransformerMixin\n",
    "import tensorflow as tf\n",
    "from transformers import (\n",
    "    AutoTokenizer,\n",
    "    TFAutoModel,\n",
    "    AutoModel,\n",
    "    BertTokenizer,\n",
    "    TFBertModel,\n",
    "    BertConfig,\n",
    ")  # BertModel\n",
    "import transformers\n",
    "from tokenizers import BertWordPieceTokenizer\n",
    "\n",
    "\n",
    "# import nlpk"
   ]
  },
  {
   "cell_type": "markdown",
   "id": "c64e4211",
   "metadata": {
    "papermill": {
     "duration": 0.015218,
     "end_time": "2023-01-04T16:38:56.220634",
     "exception": false,
     "start_time": "2023-01-04T16:38:56.205416",
     "status": "completed"
    },
    "tags": []
   },
   "source": [
    "test https://scikit-learn.org/stable/modules/multiclass.html autre stategie que OneVsRest\n",
    "https://keras.io/examples/nlp/text_extraction_with_bert/"
   ]
  },
  {
   "cell_type": "code",
   "execution_count": 2,
   "id": "b040fc72",
   "metadata": {
    "_kg_hide-output": true,
    "execution": {
     "iopub.execute_input": "2023-01-04T16:38:56.253279Z",
     "iopub.status.busy": "2023-01-04T16:38:56.252661Z",
     "iopub.status.idle": "2023-01-04T16:39:08.242764Z",
     "shell.execute_reply": "2023-01-04T16:39:08.241134Z"
    },
    "papermill": {
     "duration": 12.00938,
     "end_time": "2023-01-04T16:39:08.245629",
     "exception": false,
     "start_time": "2023-01-04T16:38:56.236249",
     "status": "completed"
    },
    "tags": []
   },
   "outputs": [
    {
     "name": "stdout",
     "output_type": "stream",
     "text": [
      "\u001b[33mWARNING: Running pip as the 'root' user can result in broken permissions and conflicting behaviour with the system package manager. It is recommended to use a virtual environment instead: https://pip.pypa.io/warnings/venv\u001b[0m\u001b[33m\r\n",
      "\u001b[0mNote: you may need to restart the kernel to use updated packages.\n"
     ]
    }
   ],
   "source": [
    "pip install -q jupyter-black jupyter"
   ]
  },
  {
   "cell_type": "code",
   "execution_count": 3,
   "id": "5baa281d",
   "metadata": {
    "execution": {
     "iopub.execute_input": "2023-01-04T16:39:08.293642Z",
     "iopub.status.busy": "2023-01-04T16:39:08.293273Z",
     "iopub.status.idle": "2023-01-04T16:39:08.468263Z",
     "shell.execute_reply": "2023-01-04T16:39:08.467439Z"
    },
    "papermill": {
     "duration": 0.201702,
     "end_time": "2023-01-04T16:39:08.470907",
     "exception": false,
     "start_time": "2023-01-04T16:39:08.269205",
     "status": "completed"
    },
    "tags": []
   },
   "outputs": [
    {
     "data": {
      "text/html": [
       "\n",
       "                <script type=\"application/javascript\" id=\"jupyter_black\">\n",
       "                (function() {\n",
       "                    if (window.IPython === undefined) {\n",
       "                        return\n",
       "                    }\n",
       "                    var msg = \"WARNING: it looks like you might have loaded \" +\n",
       "                        \"jupyter_black in a non-lab notebook with \" +\n",
       "                        \"`is_lab=True`. Please double check, and if \" +\n",
       "                        \"loading with `%load_ext` please review the README!\"\n",
       "                    console.log(msg)\n",
       "                    alert(msg)\n",
       "                })()\n",
       "                </script>\n",
       "                "
      ],
      "text/plain": [
       "<IPython.core.display.HTML object>"
      ]
     },
     "metadata": {},
     "output_type": "display_data"
    }
   ],
   "source": [
    "# for black formating\n",
    "import jupyter_black  # pip install jupyter-black jupyter\n",
    "\n",
    "jupyter_black.load()\n",
    "# ??jupyter_black.load #show config"
   ]
  },
  {
   "cell_type": "code",
   "execution_count": 4,
   "id": "4702528a",
   "metadata": {
    "execution": {
     "iopub.execute_input": "2023-01-04T16:39:08.521255Z",
     "iopub.status.busy": "2023-01-04T16:39:08.520828Z",
     "iopub.status.idle": "2023-01-04T16:39:16.368400Z",
     "shell.execute_reply": "2023-01-04T16:39:16.366467Z"
    },
    "papermill": {
     "duration": 7.874763,
     "end_time": "2023-01-04T16:39:16.370677",
     "exception": false,
     "start_time": "2023-01-04T16:39:08.495914",
     "status": "completed"
    },
    "tags": []
   },
   "outputs": [
    {
     "name": "stdout",
     "output_type": "stream",
     "text": [
      "<class 'pandas.core.frame.DataFrame'>\n",
      "Int64Index: 118442 entries, 0 to 118441\n",
      "Data columns (total 12 columns):\n",
      " #   Column       Non-Null Count   Dtype \n",
      "---  ------       --------------   ----- \n",
      " 0   Id           118442 non-null  int64 \n",
      " 1   Title        118442 non-null  object\n",
      " 2   Body         118442 non-null  object\n",
      " 3   0            118440 non-null  object\n",
      " 4   1            118383 non-null  object\n",
      " 5   2            118292 non-null  object\n",
      " 6   3            118292 non-null  object\n",
      " 7   4            76389 non-null   object\n",
      " 8   5            4 non-null       object\n",
      " 9   Title_clean  118389 non-null  object\n",
      " 10  Code         88202 non-null   object\n",
      " 11  Body_clean   118392 non-null  object\n",
      "dtypes: int64(1), object(11)\n",
      "memory usage: 11.7+ MB\n"
     ]
    }
   ],
   "source": [
    "df = pd.read_csv(\n",
    "    \"/kaggle/input/p5-nlp/stackoverflowCleaned.csv\", index_col=0, low_memory=False\n",
    ")\n",
    "df.info()"
   ]
  },
  {
   "cell_type": "code",
   "execution_count": 5,
   "id": "9529df1b",
   "metadata": {
    "execution": {
     "iopub.execute_input": "2023-01-04T16:39:16.405735Z",
     "iopub.status.busy": "2023-01-04T16:39:16.404286Z",
     "iopub.status.idle": "2023-01-04T16:39:16.460209Z",
     "shell.execute_reply": "2023-01-04T16:39:16.459346Z"
    },
    "papermill": {
     "duration": 0.074806,
     "end_time": "2023-01-04T16:39:16.462370",
     "exception": false,
     "start_time": "2023-01-04T16:39:16.387564",
     "status": "completed"
    },
    "tags": []
   },
   "outputs": [],
   "source": [
    "LONG = False\n",
    "description = {\n",
    "    \"title\": \"Keras Sequential Model with Word2Vec (kerasPipeline) i give up trying to fit keras into sklearn pipeline\",\n",
    "    \"CountVectorizer\": {\"min_df\": 0.00001, \"max_df\": 0.995, \"max_features\": None},\n",
    "    \"StandardScaler\": {\"actif\": False},\n",
    "    \"TruncatedSVD\": {\"actif\": False, \"n_components\": 1_000},\n",
    "    \"LogisticRegression\": {\"actif\": False},\n",
    "    \"TfidfOvRSVC\": {\"actif\": False, \"max_iter\": 100},\n",
    "    \"kerasPipeline\": {\n",
    "        \"actif\": False,\n",
    "        \"TextVectorization__max_tokens\": 200_000,  # 20_000,\n",
    "        \"TextVectorization__output_sequence_length\": 50,  # 20\n",
    "        \"Embedding__output_dim\": 500,\n",
    "        \"Word2Vec__min_count\": 1,\n",
    "        \"Word2Vec__window\": 20,\n",
    "        \"Word2Vec__epochs\": 100,  # 100,\n",
    "        \"fit__epochs\": 20,  # 15\n",
    "    },\n",
    "    \"Word2Vec\": {\n",
    "        \"actif\": False,\n",
    "        \"min_count\": 1,\n",
    "        \"size\": 500,\n",
    "        \"window\": 10,\n",
    "        \"epochs\": 100,\n",
    "        \"maxlen\": 50,\n",
    "        \"max_iter\": 6_000,\n",
    "    },\n",
    "    \"BERT\": {\n",
    "        \"actif\": True,\n",
    "        \"max_length\": 100,\n",
    "        \"epochs\": 5,\n",
    "    },\n",
    "}"
   ]
  },
  {
   "cell_type": "code",
   "execution_count": 6,
   "id": "9638976b",
   "metadata": {
    "execution": {
     "iopub.execute_input": "2023-01-04T16:39:16.494506Z",
     "iopub.status.busy": "2023-01-04T16:39:16.494239Z",
     "iopub.status.idle": "2023-01-04T16:39:16.499330Z",
     "shell.execute_reply": "2023-01-04T16:39:16.498404Z"
    },
    "papermill": {
     "duration": 0.023448,
     "end_time": "2023-01-04T16:39:16.501384",
     "exception": false,
     "start_time": "2023-01-04T16:39:16.477936",
     "status": "completed"
    },
    "tags": []
   },
   "outputs": [],
   "source": [
    "# # ultra fast\n",
    "# description[\"kerasPipeline\"][\"fit__epochs\"] = 1\n",
    "# description[\"kerasPipeline\"][\"TextVectorization__max_tokens\"] = 100\n",
    "# description[\"kerasPipeline\"][\"TextVectorization__output_sequence_length\"] = 5\n",
    "# description[\"kerasPipeline\"][\"Word2Vec__epochs\"] = 1\n",
    "# description[\"kerasPipeline\"][\"Embedding__output_dim\"] = 10"
   ]
  },
  {
   "cell_type": "code",
   "execution_count": 7,
   "id": "2dd972ce",
   "metadata": {
    "execution": {
     "iopub.execute_input": "2023-01-04T16:39:16.533455Z",
     "iopub.status.busy": "2023-01-04T16:39:16.533201Z",
     "iopub.status.idle": "2023-01-04T16:39:16.551010Z",
     "shell.execute_reply": "2023-01-04T16:39:16.550091Z"
    },
    "papermill": {
     "duration": 0.036233,
     "end_time": "2023-01-04T16:39:16.552998",
     "exception": false,
     "start_time": "2023-01-04T16:39:16.516765",
     "status": "completed"
    },
    "tags": []
   },
   "outputs": [],
   "source": [
    "class colors:\n",
    "    PURPLE = \"\\033[95m\"\n",
    "    BLUE = \"\\033[94m\"\n",
    "    CYAN = \"\\033[96m\"\n",
    "    GREEN = \"\\033[92m\"\n",
    "    YELLOW = \"\\033[93m\"\n",
    "    RED = \"\\033[91m\"\n",
    "    ENDC = \"\\033[0m\"\n",
    "    BOLD = \"\\033[1m\"\n",
    "    UNDERLINE = \"\\033[4m\""
   ]
  },
  {
   "cell_type": "markdown",
   "id": "80c406df",
   "metadata": {
    "papermill": {
     "duration": 0.015256,
     "end_time": "2023-01-04T16:39:16.584118",
     "exception": false,
     "start_time": "2023-01-04T16:39:16.568862",
     "status": "completed"
    },
    "tags": []
   },
   "source": [
    "# Tokenization"
   ]
  },
  {
   "cell_type": "code",
   "execution_count": 8,
   "id": "faec05cf",
   "metadata": {
    "execution": {
     "iopub.execute_input": "2023-01-04T16:39:16.616913Z",
     "iopub.status.busy": "2023-01-04T16:39:16.616158Z",
     "iopub.status.idle": "2023-01-04T16:39:16.662758Z",
     "shell.execute_reply": "2023-01-04T16:39:16.661843Z"
    },
    "papermill": {
     "duration": 0.067881,
     "end_time": "2023-01-04T16:39:16.667650",
     "exception": false,
     "start_time": "2023-01-04T16:39:16.599769",
     "status": "completed"
    },
    "tags": []
   },
   "outputs": [
    {
     "data": {
      "application/vnd.jupyter.widget-view+json": {
       "model_id": "1e9df49aaf54499698b1067aafdd098b",
       "version_major": 2,
       "version_minor": 0
      },
      "text/plain": [
       "interactive(children=(IntSlider(value=59220, description='i', max=118441), Output()), _dom_classes=('widget-in…"
      ]
     },
     "metadata": {},
     "output_type": "display_data"
    }
   ],
   "source": [
    "from ipywidgets import interact\n",
    "\n",
    "\n",
    "@interact(i=(0, df.shape[0] - 1))\n",
    "def test_tr_print(i):\n",
    "    print(\n",
    "        f'Title:{df[\"Title\"][i]}\\n{\"*\"*30}\\nTitle_clean:{df[\"Title_clean\"][i]}\\n{\"*\"*30}\\nBody:{df[\"Body\"][i]}\\n{\"*\"*30}\\nBody_clean:{df[\"Body_clean\"][i]}\\n{\"*\"*30}\\nCode:{df[\"Code\"][i]}\\n{\"*\"*30}\\nTags:{df.loc[i,\"0\"]} {df.loc[i,\"1\"]} {df.loc[i,\"2\"]} {df.loc[i,\"3\"]} {df.loc[i,\"4\"]}'\n",
    "    )"
   ]
  },
  {
   "cell_type": "code",
   "execution_count": 9,
   "id": "893f709a",
   "metadata": {
    "execution": {
     "iopub.execute_input": "2023-01-04T16:39:16.701440Z",
     "iopub.status.busy": "2023-01-04T16:39:16.700568Z",
     "iopub.status.idle": "2023-01-04T16:39:16.724466Z",
     "shell.execute_reply": "2023-01-04T16:39:16.723432Z"
    },
    "papermill": {
     "duration": 0.043554,
     "end_time": "2023-01-04T16:39:16.727091",
     "exception": false,
     "start_time": "2023-01-04T16:39:16.683537",
     "status": "completed"
    },
    "tags": []
   },
   "outputs": [
    {
     "data": {
      "text/plain": [
       "53"
      ]
     },
     "execution_count": 9,
     "metadata": {},
     "output_type": "execute_result"
    }
   ],
   "source": [
    "sum(df[\"Title_clean\"].isna())"
   ]
  },
  {
   "cell_type": "code",
   "execution_count": 10,
   "id": "0af1b85e",
   "metadata": {
    "execution": {
     "iopub.execute_input": "2023-01-04T16:39:16.760418Z",
     "iopub.status.busy": "2023-01-04T16:39:16.760167Z",
     "iopub.status.idle": "2023-01-04T16:39:16.791027Z",
     "shell.execute_reply": "2023-01-04T16:39:16.790025Z"
    },
    "papermill": {
     "duration": 0.049922,
     "end_time": "2023-01-04T16:39:16.793257",
     "exception": false,
     "start_time": "2023-01-04T16:39:16.743335",
     "status": "completed"
    },
    "tags": []
   },
   "outputs": [
    {
     "data": {
      "text/html": [
       "<div>\n",
       "<style scoped>\n",
       "    .dataframe tbody tr th:only-of-type {\n",
       "        vertical-align: middle;\n",
       "    }\n",
       "\n",
       "    .dataframe tbody tr th {\n",
       "        vertical-align: top;\n",
       "    }\n",
       "\n",
       "    .dataframe thead th {\n",
       "        text-align: right;\n",
       "    }\n",
       "</style>\n",
       "<table border=\"1\" class=\"dataframe\">\n",
       "  <thead>\n",
       "    <tr style=\"text-align: right;\">\n",
       "      <th></th>\n",
       "      <th>Title</th>\n",
       "      <th>Title_clean</th>\n",
       "      <th>Body</th>\n",
       "      <th>Body_clean</th>\n",
       "      <th>0</th>\n",
       "      <th>1</th>\n",
       "      <th>2</th>\n",
       "      <th>3</th>\n",
       "      <th>4</th>\n",
       "    </tr>\n",
       "  </thead>\n",
       "  <tbody>\n",
       "    <tr>\n",
       "      <th>302</th>\n",
       "      <td>Is &lt; faster than &lt;=?</td>\n",
       "      <td>NaN</td>\n",
       "      <td>&lt;p&gt;Is &lt;code&gt;if (a &amp;lt; 901)&lt;/code&gt; faster than...</td>\n",
       "      <td>example performance change loop code suppose g...</td>\n",
       "      <td>c++</td>\n",
       "      <td>c</td>\n",
       "      <td>performance</td>\n",
       "      <td>assembly</td>\n",
       "      <td>relational-operators</td>\n",
       "    </tr>\n",
       "    <tr>\n",
       "      <th>393</th>\n",
       "      <td>What is setup.py?</td>\n",
       "      <td>NaN</td>\n",
       "      <td>&lt;p&gt;What is &lt;code&gt;setup.py&lt;/code&gt; and how can i...</td>\n",
       "      <td>configure</td>\n",
       "      <td>python</td>\n",
       "      <td>pypi</td>\n",
       "      <td>setup.py</td>\n",
       "      <td>python-packaging</td>\n",
       "      <td>NaN</td>\n",
       "    </tr>\n",
       "    <tr>\n",
       "      <th>1437</th>\n",
       "      <td>What is related_name used for?</td>\n",
       "      <td>NaN</td>\n",
       "      <td>&lt;p&gt;What is the &lt;code&gt;related_name&lt;/code&gt; argum...</td>\n",
       "      <td>argument manytomanyfield foreignkey field exam...</td>\n",
       "      <td>python</td>\n",
       "      <td>django</td>\n",
       "      <td>foreign-keys</td>\n",
       "      <td>many-to-many</td>\n",
       "      <td>NaN</td>\n",
       "    </tr>\n",
       "    <tr>\n",
       "      <th>4062</th>\n",
       "      <td>What is \"android:allowBackup\"?</td>\n",
       "      <td>NaN</td>\n",
       "      <td>&lt;p&gt;Since the &lt;a href=\"http://tools.android.com...</td>\n",
       "      <td>adt preview version version lint warning tell ...</td>\n",
       "      <td>android</td>\n",
       "      <td>adt</td>\n",
       "      <td>compiler-warnings</td>\n",
       "      <td>android-lint</td>\n",
       "      <td>android-backup-service</td>\n",
       "    </tr>\n",
       "    <tr>\n",
       "      <th>4870</th>\n",
       "      <td>Why is 0 &lt; -0x80000000?</td>\n",
       "      <td>NaN</td>\n",
       "      <td>&lt;p&gt;I have below a simple program:&lt;/p&gt;\\n\\n&lt;pre&gt;...</td>\n",
       "      <td>program condition if(bal int32_min work change...</td>\n",
       "      <td>c</td>\n",
       "      <td>signed</td>\n",
       "      <td>numeric-limits</td>\n",
       "      <td>numeric-conversion</td>\n",
       "      <td>NaN</td>\n",
       "    </tr>\n",
       "  </tbody>\n",
       "</table>\n",
       "</div>"
      ],
      "text/plain": [
       "                               Title Title_clean  \\\n",
       "302             Is < faster than <=?         NaN   \n",
       "393                What is setup.py?         NaN   \n",
       "1437  What is related_name used for?         NaN   \n",
       "4062  What is \"android:allowBackup\"?         NaN   \n",
       "4870         Why is 0 < -0x80000000?         NaN   \n",
       "\n",
       "                                                   Body  \\\n",
       "302   <p>Is <code>if (a &lt; 901)</code> faster than...   \n",
       "393   <p>What is <code>setup.py</code> and how can i...   \n",
       "1437  <p>What is the <code>related_name</code> argum...   \n",
       "4062  <p>Since the <a href=\"http://tools.android.com...   \n",
       "4870  <p>I have below a simple program:</p>\\n\\n<pre>...   \n",
       "\n",
       "                                             Body_clean        0       1  \\\n",
       "302   example performance change loop code suppose g...      c++       c   \n",
       "393                                           configure   python    pypi   \n",
       "1437  argument manytomanyfield foreignkey field exam...   python  django   \n",
       "4062  adt preview version version lint warning tell ...  android     adt   \n",
       "4870  program condition if(bal int32_min work change...        c  signed   \n",
       "\n",
       "                      2                   3                       4  \n",
       "302         performance            assembly    relational-operators  \n",
       "393            setup.py    python-packaging                     NaN  \n",
       "1437       foreign-keys        many-to-many                     NaN  \n",
       "4062  compiler-warnings        android-lint  android-backup-service  \n",
       "4870     numeric-limits  numeric-conversion                     NaN  "
      ]
     },
     "execution_count": 10,
     "metadata": {},
     "output_type": "execute_result"
    }
   ],
   "source": [
    "df[df[\"Title_clean\"].isna()][\n",
    "    [\"Title\", \"Title_clean\", \"Body\", \"Body_clean\", \"0\", \"1\", \"2\", \"3\", \"4\"]\n",
    "].head(5)"
   ]
  },
  {
   "cell_type": "code",
   "execution_count": 11,
   "id": "411fc488",
   "metadata": {
    "execution": {
     "iopub.execute_input": "2023-01-04T16:39:16.827133Z",
     "iopub.status.busy": "2023-01-04T16:39:16.826377Z",
     "iopub.status.idle": "2023-01-04T16:39:16.884662Z",
     "shell.execute_reply": "2023-01-04T16:39:16.883713Z"
    },
    "papermill": {
     "duration": 0.077033,
     "end_time": "2023-01-04T16:39:16.886652",
     "exception": false,
     "start_time": "2023-01-04T16:39:16.809619",
     "status": "completed"
    },
    "tags": []
   },
   "outputs": [
    {
     "name": "stdout",
     "output_type": "stream",
     "text": [
      "50\n"
     ]
    },
    {
     "data": {
      "text/html": [
       "<div>\n",
       "<style scoped>\n",
       "    .dataframe tbody tr th:only-of-type {\n",
       "        vertical-align: middle;\n",
       "    }\n",
       "\n",
       "    .dataframe tbody tr th {\n",
       "        vertical-align: top;\n",
       "    }\n",
       "\n",
       "    .dataframe thead th {\n",
       "        text-align: right;\n",
       "    }\n",
       "</style>\n",
       "<table border=\"1\" class=\"dataframe\">\n",
       "  <thead>\n",
       "    <tr style=\"text-align: right;\">\n",
       "      <th></th>\n",
       "      <th>Title</th>\n",
       "      <th>Title_clean</th>\n",
       "      <th>Body</th>\n",
       "      <th>Body_clean</th>\n",
       "      <th>Code</th>\n",
       "    </tr>\n",
       "  </thead>\n",
       "  <tbody>\n",
       "    <tr>\n",
       "      <th>5</th>\n",
       "      <td>What and where are the stack and heap?</td>\n",
       "      <td>stack heap</td>\n",
       "      <td>&lt;ul&gt;\\n&lt;li&gt;What are the stack and heap?&lt;/li&gt;\\n&lt;...</td>\n",
       "      <td>NaN</td>\n",
       "      <td>NaN</td>\n",
       "    </tr>\n",
       "    <tr>\n",
       "      <th>168</th>\n",
       "      <td>What is The Rule of Three?</td>\n",
       "      <td>rule</td>\n",
       "      <td>&lt;ul&gt;\\n&lt;li&gt;What does &lt;em&gt;copying an object&lt;/em&gt;...</td>\n",
       "      <td>NaN</td>\n",
       "      <td>NaN</td>\n",
       "    </tr>\n",
       "    <tr>\n",
       "      <th>828</th>\n",
       "      <td>Why are these constructs using pre and post-in...</td>\n",
       "      <td>construct pre behavior</td>\n",
       "      <td>&lt;pre&gt;&lt;code&gt;#include &amp;lt;stdio.h&amp;gt;\\n\\nint mai...</td>\n",
       "      <td>NaN</td>\n",
       "      <td>#include &lt;stdio.h&gt;\\n\\nint main(void)\\n{\\n   in...</td>\n",
       "    </tr>\n",
       "    <tr>\n",
       "      <th>1207</th>\n",
       "      <td>How to use ADB Shell when Multiple Devices are...</td>\n",
       "      <td>use adb shell multiple device connect fail err...</td>\n",
       "      <td>&lt;pre&gt;&lt;code&gt;$ adb --help\\n&lt;/code&gt;&lt;/pre&gt;\\n&lt;hr /&gt;...</td>\n",
       "      <td>NaN</td>\n",
       "      <td>$ adb --help\\n -s SERIAL  use device with give...</td>\n",
       "    </tr>\n",
       "    <tr>\n",
       "      <th>1640</th>\n",
       "      <td>What are the advantages of list initialization...</td>\n",
       "      <td>advantage list initialization brace</td>\n",
       "      <td>&lt;pre&gt;&lt;code&gt;MyClass a1 {a};     // clearer and ...</td>\n",
       "      <td>NaN</td>\n",
       "      <td>MyClass a1 {a};     // clearer and less error-...</td>\n",
       "    </tr>\n",
       "  </tbody>\n",
       "</table>\n",
       "</div>"
      ],
      "text/plain": [
       "                                                  Title  \\\n",
       "5                What and where are the stack and heap?   \n",
       "168                          What is The Rule of Three?   \n",
       "828   Why are these constructs using pre and post-in...   \n",
       "1207  How to use ADB Shell when Multiple Devices are...   \n",
       "1640  What are the advantages of list initialization...   \n",
       "\n",
       "                                            Title_clean  \\\n",
       "5                                            stack heap   \n",
       "168                                                rule   \n",
       "828                              construct pre behavior   \n",
       "1207  use adb shell multiple device connect fail err...   \n",
       "1640                advantage list initialization brace   \n",
       "\n",
       "                                                   Body Body_clean  \\\n",
       "5     <ul>\\n<li>What are the stack and heap?</li>\\n<...        NaN   \n",
       "168   <ul>\\n<li>What does <em>copying an object</em>...        NaN   \n",
       "828   <pre><code>#include &lt;stdio.h&gt;\\n\\nint mai...        NaN   \n",
       "1207  <pre><code>$ adb --help\\n</code></pre>\\n<hr />...        NaN   \n",
       "1640  <pre><code>MyClass a1 {a};     // clearer and ...        NaN   \n",
       "\n",
       "                                                   Code  \n",
       "5                                                   NaN  \n",
       "168                                                 NaN  \n",
       "828   #include <stdio.h>\\n\\nint main(void)\\n{\\n   in...  \n",
       "1207  $ adb --help\\n -s SERIAL  use device with give...  \n",
       "1640  MyClass a1 {a};     // clearer and less error-...  "
      ]
     },
     "execution_count": 11,
     "metadata": {},
     "output_type": "execute_result"
    }
   ],
   "source": [
    "print(sum(df[\"Body_clean\"].isna()))\n",
    "df[df[\"Body_clean\"].isna()][\n",
    "    [\"Title\", \"Title_clean\", \"Body\", \"Body_clean\", \"Code\"]\n",
    "].head(5)"
   ]
  },
  {
   "cell_type": "code",
   "execution_count": 12,
   "id": "023cad70",
   "metadata": {
    "execution": {
     "iopub.execute_input": "2023-01-04T16:39:16.920844Z",
     "iopub.status.busy": "2023-01-04T16:39:16.919985Z",
     "iopub.status.idle": "2023-01-04T16:39:16.947947Z",
     "shell.execute_reply": "2023-01-04T16:39:16.946930Z"
    },
    "papermill": {
     "duration": 0.047256,
     "end_time": "2023-01-04T16:39:16.950085",
     "exception": false,
     "start_time": "2023-01-04T16:39:16.902829",
     "status": "completed"
    },
    "tags": []
   },
   "outputs": [
    {
     "data": {
      "text/plain": [
       "0"
      ]
     },
     "execution_count": 12,
     "metadata": {},
     "output_type": "execute_result"
    }
   ],
   "source": [
    "len(df[df[\"Body_clean\"].isna() & df[\"Title_clean\"].isna()])"
   ]
  },
  {
   "cell_type": "code",
   "execution_count": 13,
   "id": "edaaef3a",
   "metadata": {
    "execution": {
     "iopub.execute_input": "2023-01-04T16:39:16.984029Z",
     "iopub.status.busy": "2023-01-04T16:39:16.983758Z",
     "iopub.status.idle": "2023-01-04T16:39:17.077585Z",
     "shell.execute_reply": "2023-01-04T16:39:17.076464Z"
    },
    "papermill": {
     "duration": 0.113372,
     "end_time": "2023-01-04T16:39:17.079763",
     "exception": false,
     "start_time": "2023-01-04T16:39:16.966391",
     "status": "completed"
    },
    "tags": []
   },
   "outputs": [
    {
     "data": {
      "text/plain": [
       "103"
      ]
     },
     "execution_count": 13,
     "metadata": {},
     "output_type": "execute_result"
    }
   ],
   "source": [
    "sum((df[\"Title_clean\"] + df[\"Body_clean\"]).isna())"
   ]
  },
  {
   "cell_type": "code",
   "execution_count": 14,
   "id": "157af168",
   "metadata": {
    "execution": {
     "iopub.execute_input": "2023-01-04T16:39:17.115162Z",
     "iopub.status.busy": "2023-01-04T16:39:17.114825Z",
     "iopub.status.idle": "2023-01-04T16:39:17.195946Z",
     "shell.execute_reply": "2023-01-04T16:39:17.194972Z"
    },
    "papermill": {
     "duration": 0.101416,
     "end_time": "2023-01-04T16:39:17.198084",
     "exception": false,
     "start_time": "2023-01-04T16:39:17.096668",
     "status": "completed"
    },
    "tags": []
   },
   "outputs": [
    {
     "data": {
      "text/html": [
       "<div>\n",
       "<style scoped>\n",
       "    .dataframe tbody tr th:only-of-type {\n",
       "        vertical-align: middle;\n",
       "    }\n",
       "\n",
       "    .dataframe tbody tr th {\n",
       "        vertical-align: top;\n",
       "    }\n",
       "\n",
       "    .dataframe thead th {\n",
       "        text-align: right;\n",
       "    }\n",
       "</style>\n",
       "<table border=\"1\" class=\"dataframe\">\n",
       "  <thead>\n",
       "    <tr style=\"text-align: right;\">\n",
       "      <th></th>\n",
       "      <th>javascript</th>\n",
       "      <th>java</th>\n",
       "      <th>c#</th>\n",
       "      <th>python</th>\n",
       "      <th>html</th>\n",
       "      <th>git</th>\n",
       "      <th>php</th>\n",
       "    </tr>\n",
       "  </thead>\n",
       "  <tbody>\n",
       "    <tr>\n",
       "      <th>10001</th>\n",
       "      <td>True</td>\n",
       "      <td>False</td>\n",
       "      <td>False</td>\n",
       "      <td>False</td>\n",
       "      <td>True</td>\n",
       "      <td>False</td>\n",
       "      <td>False</td>\n",
       "    </tr>\n",
       "    <tr>\n",
       "      <th>10002</th>\n",
       "      <td>False</td>\n",
       "      <td>True</td>\n",
       "      <td>False</td>\n",
       "      <td>False</td>\n",
       "      <td>False</td>\n",
       "      <td>False</td>\n",
       "      <td>False</td>\n",
       "    </tr>\n",
       "    <tr>\n",
       "      <th>10003</th>\n",
       "      <td>False</td>\n",
       "      <td>False</td>\n",
       "      <td>True</td>\n",
       "      <td>False</td>\n",
       "      <td>False</td>\n",
       "      <td>False</td>\n",
       "      <td>False</td>\n",
       "    </tr>\n",
       "    <tr>\n",
       "      <th>10004</th>\n",
       "      <td>False</td>\n",
       "      <td>False</td>\n",
       "      <td>False</td>\n",
       "      <td>False</td>\n",
       "      <td>True</td>\n",
       "      <td>False</td>\n",
       "      <td>False</td>\n",
       "    </tr>\n",
       "    <tr>\n",
       "      <th>10005</th>\n",
       "      <td>False</td>\n",
       "      <td>False</td>\n",
       "      <td>False</td>\n",
       "      <td>False</td>\n",
       "      <td>False</td>\n",
       "      <td>False</td>\n",
       "      <td>False</td>\n",
       "    </tr>\n",
       "    <tr>\n",
       "      <th>...</th>\n",
       "      <td>...</td>\n",
       "      <td>...</td>\n",
       "      <td>...</td>\n",
       "      <td>...</td>\n",
       "      <td>...</td>\n",
       "      <td>...</td>\n",
       "      <td>...</td>\n",
       "    </tr>\n",
       "    <tr>\n",
       "      <th>15045</th>\n",
       "      <td>False</td>\n",
       "      <td>False</td>\n",
       "      <td>False</td>\n",
       "      <td>False</td>\n",
       "      <td>False</td>\n",
       "      <td>False</td>\n",
       "      <td>False</td>\n",
       "    </tr>\n",
       "    <tr>\n",
       "      <th>15046</th>\n",
       "      <td>False</td>\n",
       "      <td>False</td>\n",
       "      <td>False</td>\n",
       "      <td>False</td>\n",
       "      <td>False</td>\n",
       "      <td>False</td>\n",
       "      <td>False</td>\n",
       "    </tr>\n",
       "    <tr>\n",
       "      <th>15047</th>\n",
       "      <td>True</td>\n",
       "      <td>False</td>\n",
       "      <td>False</td>\n",
       "      <td>False</td>\n",
       "      <td>False</td>\n",
       "      <td>False</td>\n",
       "      <td>False</td>\n",
       "    </tr>\n",
       "    <tr>\n",
       "      <th>15048</th>\n",
       "      <td>False</td>\n",
       "      <td>False</td>\n",
       "      <td>False</td>\n",
       "      <td>False</td>\n",
       "      <td>False</td>\n",
       "      <td>False</td>\n",
       "      <td>False</td>\n",
       "    </tr>\n",
       "    <tr>\n",
       "      <th>15049</th>\n",
       "      <td>False</td>\n",
       "      <td>False</td>\n",
       "      <td>False</td>\n",
       "      <td>False</td>\n",
       "      <td>False</td>\n",
       "      <td>False</td>\n",
       "      <td>False</td>\n",
       "    </tr>\n",
       "  </tbody>\n",
       "</table>\n",
       "<p>5049 rows × 7 columns</p>\n",
       "</div>"
      ],
      "text/plain": [
       "       javascript   java     c#  python   html    git    php\n",
       "10001        True  False  False   False   True  False  False\n",
       "10002       False   True  False   False  False  False  False\n",
       "10003       False  False   True   False  False  False  False\n",
       "10004       False  False  False   False   True  False  False\n",
       "10005       False  False  False   False  False  False  False\n",
       "...           ...    ...    ...     ...    ...    ...    ...\n",
       "15045       False  False  False   False  False  False  False\n",
       "15046       False  False  False   False  False  False  False\n",
       "15047        True  False  False   False  False  False  False\n",
       "15048       False  False  False   False  False  False  False\n",
       "15049       False  False  False   False  False  False  False\n",
       "\n",
       "[5049 rows x 7 columns]"
      ]
     },
     "execution_count": 14,
     "metadata": {},
     "output_type": "execute_result"
    }
   ],
   "source": [
    "def tag_is_in(df: pd.DataFrame(), tag: str, nb_cols: int = 6):\n",
    "    return eval(\"|\".join(f'(df[\"{i}\"] == \"{tag}\")' for i in range(0, nb_cols)))\n",
    "\n",
    "\n",
    "def tags_are_in(df: pd.DataFrame(), tags: list):\n",
    "    return pd.DataFrame({tag: tag_is_in(df, tag) for tag in tags})\n",
    "\n",
    "\n",
    "def save_score(\n",
    "    y_true, y_pred, target_names: list, name=None, zero_division=0\n",
    ") -> pd.DataFrame():\n",
    "    scores = pd.DataFrame(\n",
    "        metrics.classification_report(\n",
    "            y_true,\n",
    "            y_pred,\n",
    "            target_names=target_names,\n",
    "            zero_division=zero_division,\n",
    "            output_dict=True,\n",
    "        )\n",
    "    ).T\n",
    "    if name is not None:\n",
    "        scores.to_csv(f\"/kaggle/working/{name}_score.csv\")\n",
    "    return scores\n",
    "\n",
    "\n",
    "# tags_are_in(df, [\"javascript\",\"java\"])\n",
    "tags_are_in(\n",
    "    df[10001:15050], [\"javascript\", \"java\", \"c#\", \"python\", \"html\", \"git\", \"php\"]\n",
    ")"
   ]
  },
  {
   "cell_type": "code",
   "execution_count": 15,
   "id": "cc0f15af",
   "metadata": {
    "execution": {
     "iopub.execute_input": "2023-01-04T16:39:17.233560Z",
     "iopub.status.busy": "2023-01-04T16:39:17.233288Z",
     "iopub.status.idle": "2023-01-04T16:39:17.383817Z",
     "shell.execute_reply": "2023-01-04T16:39:17.382792Z"
    },
    "papermill": {
     "duration": 0.171171,
     "end_time": "2023-01-04T16:39:17.386297",
     "exception": false,
     "start_time": "2023-01-04T16:39:17.215126",
     "status": "completed"
    },
    "tags": []
   },
   "outputs": [
    {
     "data": {
      "text/plain": [
       "['java',\n",
       " 'c#',\n",
       " 'javascript',\n",
       " 'python',\n",
       " 'android',\n",
       " 'c++',\n",
       " 'ios',\n",
       " 'html',\n",
       " 'php',\n",
       " '.net',\n",
       " 'jquery',\n",
       " 'css',\n",
       " 'objective-c',\n",
       " 'c',\n",
       " 'sql',\n",
       " 'iphone',\n",
       " 'asp.net',\n",
       " 'mysql',\n",
       " 'linux',\n",
       " 'node.js',\n",
       " 'git']"
      ]
     },
     "execution_count": 15,
     "metadata": {},
     "output_type": "execute_result"
    }
   ],
   "source": [
    "tags = df[[\"0\", \"1\", \"2\", \"3\", \"4\", \"5\"]].stack()\n",
    "target_names = [\n",
    "    tag\n",
    "    for tag, freq in tags.reset_index(drop=True).value_counts(normalize=True).items()\n",
    "    if freq > 0.002\n",
    "]\n",
    "if not LONG:\n",
    "    target_names = target_names[0:20] + [\"git\"]\n",
    "target_names"
   ]
  },
  {
   "cell_type": "code",
   "execution_count": 16,
   "id": "0a505beb",
   "metadata": {
    "execution": {
     "iopub.execute_input": "2023-01-04T16:39:17.424029Z",
     "iopub.status.busy": "2023-01-04T16:39:17.423700Z",
     "iopub.status.idle": "2023-01-04T16:39:17.437165Z",
     "shell.execute_reply": "2023-01-04T16:39:17.436310Z"
    },
    "papermill": {
     "duration": 0.033641,
     "end_time": "2023-01-04T16:39:17.439179",
     "exception": false,
     "start_time": "2023-01-04T16:39:17.405538",
     "status": "completed"
    },
    "tags": []
   },
   "outputs": [],
   "source": [
    "# Enregistrement des paramétres avec la liste des tags a predire\n",
    "description[\"target_names\"] = target_names\n",
    "with open(\"/kaggle/working/description.json\", \"w\") as outfile:\n",
    "    json.dump(description, outfile)"
   ]
  },
  {
   "cell_type": "markdown",
   "id": "1bdfdd4b",
   "metadata": {
    "papermill": {
     "duration": 0.016804,
     "end_time": "2023-01-04T16:39:17.472938",
     "exception": false,
     "start_time": "2023-01-04T16:39:17.456134",
     "status": "completed"
    },
    "tags": []
   },
   "source": [
    "## Separation train/test"
   ]
  },
  {
   "cell_type": "code",
   "execution_count": 17,
   "id": "97cdbadc",
   "metadata": {
    "execution": {
     "iopub.execute_input": "2023-01-04T16:39:17.509085Z",
     "iopub.status.busy": "2023-01-04T16:39:17.508313Z",
     "iopub.status.idle": "2023-01-04T16:39:18.738065Z",
     "shell.execute_reply": "2023-01-04T16:39:18.736840Z"
    },
    "papermill": {
     "duration": 1.250951,
     "end_time": "2023-01-04T16:39:18.740933",
     "exception": false,
     "start_time": "2023-01-04T16:39:17.489982",
     "status": "completed"
    },
    "tags": []
   },
   "outputs": [
    {
     "name": "stdout",
     "output_type": "stream",
     "text": [
      "99.99409% des questions ont plus d'un tokens\n"
     ]
    }
   ],
   "source": [
    "df[\"Token\"] = df[\"Title_clean\"].fillna(\"\") + df[\"Body_clean\"].fillna(\"\")\n",
    "print(\n",
    "    f\"{len(df[[len(token.split()) > 1 for token in df['Token']]])/len(df):.5%} des questions ont plus d'un tokens\"\n",
    "    if len(df[df[\"Token\"] == \"\"]) == 0\n",
    "    else f\"{len(df[df['Token'] == ''])} questions n'ont pas de token\"\n",
    ")\n",
    "X_train, X_test, y_train, y_test = model_selection.train_test_split(\n",
    "    df[\"Token\"], tags_are_in(df, target_names), random_state=42\n",
    ")"
   ]
  },
  {
   "cell_type": "markdown",
   "id": "d3eee38f",
   "metadata": {
    "papermill": {
     "duration": 0.017096,
     "end_time": "2023-01-04T16:39:18.775740",
     "exception": false,
     "start_time": "2023-01-04T16:39:18.758644",
     "status": "completed"
    },
    "tags": []
   },
   "source": [
    "## Approche naïve pour comparer les résultat:\n",
    "    - Valeur la plus fréquente (False)\n",
    "    - Si le tag est présent dans la question"
   ]
  },
  {
   "cell_type": "code",
   "execution_count": 18,
   "id": "71413871",
   "metadata": {
    "execution": {
     "iopub.execute_input": "2023-01-04T16:39:18.811068Z",
     "iopub.status.busy": "2023-01-04T16:39:18.810715Z",
     "iopub.status.idle": "2023-01-04T16:39:18.883231Z",
     "shell.execute_reply": "2023-01-04T16:39:18.882070Z"
    },
    "papermill": {
     "duration": 0.092902,
     "end_time": "2023-01-04T16:39:18.885585",
     "exception": false,
     "start_time": "2023-01-04T16:39:18.792683",
     "status": "completed"
    },
    "tags": []
   },
   "outputs": [
    {
     "data": {
      "text/html": [
       "<div>\n",
       "<style scoped>\n",
       "    .dataframe tbody tr th:only-of-type {\n",
       "        vertical-align: middle;\n",
       "    }\n",
       "\n",
       "    .dataframe tbody tr th {\n",
       "        vertical-align: top;\n",
       "    }\n",
       "\n",
       "    .dataframe thead th {\n",
       "        text-align: right;\n",
       "    }\n",
       "</style>\n",
       "<table border=\"1\" class=\"dataframe\">\n",
       "  <thead>\n",
       "    <tr style=\"text-align: right;\">\n",
       "      <th></th>\n",
       "      <th>precision</th>\n",
       "      <th>recall</th>\n",
       "      <th>f1-score</th>\n",
       "      <th>support</th>\n",
       "    </tr>\n",
       "  </thead>\n",
       "  <tbody>\n",
       "    <tr>\n",
       "      <th>java</th>\n",
       "      <td>1.0</td>\n",
       "      <td>0.000000</td>\n",
       "      <td>0.000000</td>\n",
       "      <td>3558.0</td>\n",
       "    </tr>\n",
       "    <tr>\n",
       "      <th>c#</th>\n",
       "      <td>1.0</td>\n",
       "      <td>0.000000</td>\n",
       "      <td>0.000000</td>\n",
       "      <td>3473.0</td>\n",
       "    </tr>\n",
       "    <tr>\n",
       "      <th>javascript</th>\n",
       "      <td>1.0</td>\n",
       "      <td>0.000000</td>\n",
       "      <td>0.000000</td>\n",
       "      <td>3356.0</td>\n",
       "    </tr>\n",
       "    <tr>\n",
       "      <th>python</th>\n",
       "      <td>1.0</td>\n",
       "      <td>0.000000</td>\n",
       "      <td>0.000000</td>\n",
       "      <td>2612.0</td>\n",
       "    </tr>\n",
       "    <tr>\n",
       "      <th>android</th>\n",
       "      <td>1.0</td>\n",
       "      <td>0.000000</td>\n",
       "      <td>0.000000</td>\n",
       "      <td>2045.0</td>\n",
       "    </tr>\n",
       "    <tr>\n",
       "      <th>c++</th>\n",
       "      <td>1.0</td>\n",
       "      <td>0.000000</td>\n",
       "      <td>0.000000</td>\n",
       "      <td>1964.0</td>\n",
       "    </tr>\n",
       "    <tr>\n",
       "      <th>ios</th>\n",
       "      <td>1.0</td>\n",
       "      <td>0.000000</td>\n",
       "      <td>0.000000</td>\n",
       "      <td>1840.0</td>\n",
       "    </tr>\n",
       "    <tr>\n",
       "      <th>html</th>\n",
       "      <td>1.0</td>\n",
       "      <td>0.000000</td>\n",
       "      <td>0.000000</td>\n",
       "      <td>1755.0</td>\n",
       "    </tr>\n",
       "    <tr>\n",
       "      <th>php</th>\n",
       "      <td>1.0</td>\n",
       "      <td>0.000000</td>\n",
       "      <td>0.000000</td>\n",
       "      <td>1627.0</td>\n",
       "    </tr>\n",
       "    <tr>\n",
       "      <th>.net</th>\n",
       "      <td>1.0</td>\n",
       "      <td>0.000000</td>\n",
       "      <td>0.000000</td>\n",
       "      <td>1569.0</td>\n",
       "    </tr>\n",
       "    <tr>\n",
       "      <th>jquery</th>\n",
       "      <td>1.0</td>\n",
       "      <td>0.000000</td>\n",
       "      <td>0.000000</td>\n",
       "      <td>1538.0</td>\n",
       "    </tr>\n",
       "    <tr>\n",
       "      <th>css</th>\n",
       "      <td>1.0</td>\n",
       "      <td>0.000000</td>\n",
       "      <td>0.000000</td>\n",
       "      <td>1131.0</td>\n",
       "    </tr>\n",
       "    <tr>\n",
       "      <th>objective-c</th>\n",
       "      <td>1.0</td>\n",
       "      <td>0.000000</td>\n",
       "      <td>0.000000</td>\n",
       "      <td>888.0</td>\n",
       "    </tr>\n",
       "    <tr>\n",
       "      <th>c</th>\n",
       "      <td>1.0</td>\n",
       "      <td>0.000000</td>\n",
       "      <td>0.000000</td>\n",
       "      <td>885.0</td>\n",
       "    </tr>\n",
       "    <tr>\n",
       "      <th>sql</th>\n",
       "      <td>1.0</td>\n",
       "      <td>0.000000</td>\n",
       "      <td>0.000000</td>\n",
       "      <td>870.0</td>\n",
       "    </tr>\n",
       "    <tr>\n",
       "      <th>iphone</th>\n",
       "      <td>1.0</td>\n",
       "      <td>0.000000</td>\n",
       "      <td>0.000000</td>\n",
       "      <td>807.0</td>\n",
       "    </tr>\n",
       "    <tr>\n",
       "      <th>asp.net</th>\n",
       "      <td>1.0</td>\n",
       "      <td>0.000000</td>\n",
       "      <td>0.000000</td>\n",
       "      <td>805.0</td>\n",
       "    </tr>\n",
       "    <tr>\n",
       "      <th>mysql</th>\n",
       "      <td>1.0</td>\n",
       "      <td>0.000000</td>\n",
       "      <td>0.000000</td>\n",
       "      <td>685.0</td>\n",
       "    </tr>\n",
       "    <tr>\n",
       "      <th>linux</th>\n",
       "      <td>1.0</td>\n",
       "      <td>0.000000</td>\n",
       "      <td>0.000000</td>\n",
       "      <td>680.0</td>\n",
       "    </tr>\n",
       "    <tr>\n",
       "      <th>node.js</th>\n",
       "      <td>1.0</td>\n",
       "      <td>0.000000</td>\n",
       "      <td>0.000000</td>\n",
       "      <td>682.0</td>\n",
       "    </tr>\n",
       "    <tr>\n",
       "      <th>git</th>\n",
       "      <td>1.0</td>\n",
       "      <td>0.000000</td>\n",
       "      <td>0.000000</td>\n",
       "      <td>274.0</td>\n",
       "    </tr>\n",
       "    <tr>\n",
       "      <th>micro avg</th>\n",
       "      <td>1.0</td>\n",
       "      <td>0.000000</td>\n",
       "      <td>0.000000</td>\n",
       "      <td>33044.0</td>\n",
       "    </tr>\n",
       "    <tr>\n",
       "      <th>macro avg</th>\n",
       "      <td>1.0</td>\n",
       "      <td>0.000000</td>\n",
       "      <td>0.000000</td>\n",
       "      <td>33044.0</td>\n",
       "    </tr>\n",
       "    <tr>\n",
       "      <th>weighted avg</th>\n",
       "      <td>1.0</td>\n",
       "      <td>0.000000</td>\n",
       "      <td>0.000000</td>\n",
       "      <td>33044.0</td>\n",
       "    </tr>\n",
       "    <tr>\n",
       "      <th>samples avg</th>\n",
       "      <td>1.0</td>\n",
       "      <td>0.207322</td>\n",
       "      <td>0.207322</td>\n",
       "      <td>33044.0</td>\n",
       "    </tr>\n",
       "  </tbody>\n",
       "</table>\n",
       "</div>"
      ],
      "text/plain": [
       "              precision    recall  f1-score  support\n",
       "java                1.0  0.000000  0.000000   3558.0\n",
       "c#                  1.0  0.000000  0.000000   3473.0\n",
       "javascript          1.0  0.000000  0.000000   3356.0\n",
       "python              1.0  0.000000  0.000000   2612.0\n",
       "android             1.0  0.000000  0.000000   2045.0\n",
       "c++                 1.0  0.000000  0.000000   1964.0\n",
       "ios                 1.0  0.000000  0.000000   1840.0\n",
       "html                1.0  0.000000  0.000000   1755.0\n",
       "php                 1.0  0.000000  0.000000   1627.0\n",
       ".net                1.0  0.000000  0.000000   1569.0\n",
       "jquery              1.0  0.000000  0.000000   1538.0\n",
       "css                 1.0  0.000000  0.000000   1131.0\n",
       "objective-c         1.0  0.000000  0.000000    888.0\n",
       "c                   1.0  0.000000  0.000000    885.0\n",
       "sql                 1.0  0.000000  0.000000    870.0\n",
       "iphone              1.0  0.000000  0.000000    807.0\n",
       "asp.net             1.0  0.000000  0.000000    805.0\n",
       "mysql               1.0  0.000000  0.000000    685.0\n",
       "linux               1.0  0.000000  0.000000    680.0\n",
       "node.js             1.0  0.000000  0.000000    682.0\n",
       "git                 1.0  0.000000  0.000000    274.0\n",
       "micro avg           1.0  0.000000  0.000000  33044.0\n",
       "macro avg           1.0  0.000000  0.000000  33044.0\n",
       "weighted avg        1.0  0.000000  0.000000  33044.0\n",
       "samples avg         1.0  0.207322  0.207322  33044.0"
      ]
     },
     "execution_count": 18,
     "metadata": {},
     "output_type": "execute_result"
    }
   ],
   "source": [
    "save_score(\n",
    "    y_true=y_test,\n",
    "    y_pred=y_test.replace([True], False),\n",
    "    target_names=target_names,\n",
    "    zero_division=1,  # because TruePositif=0\n",
    ")"
   ]
  },
  {
   "cell_type": "markdown",
   "id": "a0f90007",
   "metadata": {
    "papermill": {
     "duration": 0.016819,
     "end_time": "2023-01-04T16:39:18.920578",
     "exception": false,
     "start_time": "2023-01-04T16:39:18.903759",
     "status": "completed"
    },
    "tags": []
   },
   "source": [
    "Avec prédire toujours vrai"
   ]
  },
  {
   "cell_type": "code",
   "execution_count": 19,
   "id": "bd634c4a",
   "metadata": {
    "execution": {
     "iopub.execute_input": "2023-01-04T16:39:18.956698Z",
     "iopub.status.busy": "2023-01-04T16:39:18.955918Z",
     "iopub.status.idle": "2023-01-04T16:39:19.264654Z",
     "shell.execute_reply": "2023-01-04T16:39:19.263549Z"
    },
    "papermill": {
     "duration": 0.329503,
     "end_time": "2023-01-04T16:39:19.267387",
     "exception": false,
     "start_time": "2023-01-04T16:39:18.937884",
     "status": "completed"
    },
    "tags": []
   },
   "outputs": [
    {
     "data": {
      "text/html": [
       "<div>\n",
       "<style scoped>\n",
       "    .dataframe tbody tr th:only-of-type {\n",
       "        vertical-align: middle;\n",
       "    }\n",
       "\n",
       "    .dataframe tbody tr th {\n",
       "        vertical-align: top;\n",
       "    }\n",
       "\n",
       "    .dataframe thead th {\n",
       "        text-align: right;\n",
       "    }\n",
       "</style>\n",
       "<table border=\"1\" class=\"dataframe\">\n",
       "  <thead>\n",
       "    <tr style=\"text-align: right;\">\n",
       "      <th></th>\n",
       "      <th>precision</th>\n",
       "      <th>recall</th>\n",
       "      <th>f1-score</th>\n",
       "      <th>support</th>\n",
       "    </tr>\n",
       "  </thead>\n",
       "  <tbody>\n",
       "    <tr>\n",
       "      <th>java</th>\n",
       "      <td>0.120158</td>\n",
       "      <td>1.000000</td>\n",
       "      <td>0.214538</td>\n",
       "      <td>3558.0</td>\n",
       "    </tr>\n",
       "    <tr>\n",
       "      <th>c#</th>\n",
       "      <td>0.117287</td>\n",
       "      <td>1.000000</td>\n",
       "      <td>0.209950</td>\n",
       "      <td>3473.0</td>\n",
       "    </tr>\n",
       "    <tr>\n",
       "      <th>javascript</th>\n",
       "      <td>0.113336</td>\n",
       "      <td>1.000000</td>\n",
       "      <td>0.203598</td>\n",
       "      <td>3356.0</td>\n",
       "    </tr>\n",
       "    <tr>\n",
       "      <th>python</th>\n",
       "      <td>0.088210</td>\n",
       "      <td>1.000000</td>\n",
       "      <td>0.162120</td>\n",
       "      <td>2612.0</td>\n",
       "    </tr>\n",
       "    <tr>\n",
       "      <th>android</th>\n",
       "      <td>0.069062</td>\n",
       "      <td>1.000000</td>\n",
       "      <td>0.129201</td>\n",
       "      <td>2045.0</td>\n",
       "    </tr>\n",
       "    <tr>\n",
       "      <th>c++</th>\n",
       "      <td>0.066327</td>\n",
       "      <td>1.000000</td>\n",
       "      <td>0.124402</td>\n",
       "      <td>1964.0</td>\n",
       "    </tr>\n",
       "    <tr>\n",
       "      <th>ios</th>\n",
       "      <td>0.062139</td>\n",
       "      <td>1.000000</td>\n",
       "      <td>0.117007</td>\n",
       "      <td>1840.0</td>\n",
       "    </tr>\n",
       "    <tr>\n",
       "      <th>html</th>\n",
       "      <td>0.059269</td>\n",
       "      <td>1.000000</td>\n",
       "      <td>0.111905</td>\n",
       "      <td>1755.0</td>\n",
       "    </tr>\n",
       "    <tr>\n",
       "      <th>php</th>\n",
       "      <td>0.054946</td>\n",
       "      <td>1.000000</td>\n",
       "      <td>0.104168</td>\n",
       "      <td>1627.0</td>\n",
       "    </tr>\n",
       "    <tr>\n",
       "      <th>.net</th>\n",
       "      <td>0.052987</td>\n",
       "      <td>1.000000</td>\n",
       "      <td>0.100641</td>\n",
       "      <td>1569.0</td>\n",
       "    </tr>\n",
       "    <tr>\n",
       "      <th>jquery</th>\n",
       "      <td>0.051940</td>\n",
       "      <td>1.000000</td>\n",
       "      <td>0.098751</td>\n",
       "      <td>1538.0</td>\n",
       "    </tr>\n",
       "    <tr>\n",
       "      <th>css</th>\n",
       "      <td>0.038195</td>\n",
       "      <td>1.000000</td>\n",
       "      <td>0.073580</td>\n",
       "      <td>1131.0</td>\n",
       "    </tr>\n",
       "    <tr>\n",
       "      <th>objective-c</th>\n",
       "      <td>0.029989</td>\n",
       "      <td>1.000000</td>\n",
       "      <td>0.058231</td>\n",
       "      <td>888.0</td>\n",
       "    </tr>\n",
       "    <tr>\n",
       "      <th>c</th>\n",
       "      <td>0.029888</td>\n",
       "      <td>1.000000</td>\n",
       "      <td>0.058040</td>\n",
       "      <td>885.0</td>\n",
       "    </tr>\n",
       "    <tr>\n",
       "      <th>sql</th>\n",
       "      <td>0.029381</td>\n",
       "      <td>1.000000</td>\n",
       "      <td>0.057085</td>\n",
       "      <td>870.0</td>\n",
       "    </tr>\n",
       "    <tr>\n",
       "      <th>iphone</th>\n",
       "      <td>0.027253</td>\n",
       "      <td>1.000000</td>\n",
       "      <td>0.053061</td>\n",
       "      <td>807.0</td>\n",
       "    </tr>\n",
       "    <tr>\n",
       "      <th>asp.net</th>\n",
       "      <td>0.027186</td>\n",
       "      <td>1.000000</td>\n",
       "      <td>0.052933</td>\n",
       "      <td>805.0</td>\n",
       "    </tr>\n",
       "    <tr>\n",
       "      <th>mysql</th>\n",
       "      <td>0.023133</td>\n",
       "      <td>1.000000</td>\n",
       "      <td>0.045220</td>\n",
       "      <td>685.0</td>\n",
       "    </tr>\n",
       "    <tr>\n",
       "      <th>linux</th>\n",
       "      <td>0.022964</td>\n",
       "      <td>1.000000</td>\n",
       "      <td>0.044898</td>\n",
       "      <td>680.0</td>\n",
       "    </tr>\n",
       "    <tr>\n",
       "      <th>node.js</th>\n",
       "      <td>0.023032</td>\n",
       "      <td>1.000000</td>\n",
       "      <td>0.045027</td>\n",
       "      <td>682.0</td>\n",
       "    </tr>\n",
       "    <tr>\n",
       "      <th>git</th>\n",
       "      <td>0.009253</td>\n",
       "      <td>1.000000</td>\n",
       "      <td>0.018337</td>\n",
       "      <td>274.0</td>\n",
       "    </tr>\n",
       "    <tr>\n",
       "      <th>micro avg</th>\n",
       "      <td>0.053140</td>\n",
       "      <td>1.000000</td>\n",
       "      <td>0.100917</td>\n",
       "      <td>33044.0</td>\n",
       "    </tr>\n",
       "    <tr>\n",
       "      <th>macro avg</th>\n",
       "      <td>0.053140</td>\n",
       "      <td>1.000000</td>\n",
       "      <td>0.099176</td>\n",
       "      <td>33044.0</td>\n",
       "    </tr>\n",
       "    <tr>\n",
       "      <th>weighted avg</th>\n",
       "      <td>0.072731</td>\n",
       "      <td>1.000000</td>\n",
       "      <td>0.133680</td>\n",
       "      <td>33044.0</td>\n",
       "    </tr>\n",
       "    <tr>\n",
       "      <th>samples avg</th>\n",
       "      <td>0.053140</td>\n",
       "      <td>0.792678</td>\n",
       "      <td>0.098364</td>\n",
       "      <td>33044.0</td>\n",
       "    </tr>\n",
       "  </tbody>\n",
       "</table>\n",
       "</div>"
      ],
      "text/plain": [
       "              precision    recall  f1-score  support\n",
       "java           0.120158  1.000000  0.214538   3558.0\n",
       "c#             0.117287  1.000000  0.209950   3473.0\n",
       "javascript     0.113336  1.000000  0.203598   3356.0\n",
       "python         0.088210  1.000000  0.162120   2612.0\n",
       "android        0.069062  1.000000  0.129201   2045.0\n",
       "c++            0.066327  1.000000  0.124402   1964.0\n",
       "ios            0.062139  1.000000  0.117007   1840.0\n",
       "html           0.059269  1.000000  0.111905   1755.0\n",
       "php            0.054946  1.000000  0.104168   1627.0\n",
       ".net           0.052987  1.000000  0.100641   1569.0\n",
       "jquery         0.051940  1.000000  0.098751   1538.0\n",
       "css            0.038195  1.000000  0.073580   1131.0\n",
       "objective-c    0.029989  1.000000  0.058231    888.0\n",
       "c              0.029888  1.000000  0.058040    885.0\n",
       "sql            0.029381  1.000000  0.057085    870.0\n",
       "iphone         0.027253  1.000000  0.053061    807.0\n",
       "asp.net        0.027186  1.000000  0.052933    805.0\n",
       "mysql          0.023133  1.000000  0.045220    685.0\n",
       "linux          0.022964  1.000000  0.044898    680.0\n",
       "node.js        0.023032  1.000000  0.045027    682.0\n",
       "git            0.009253  1.000000  0.018337    274.0\n",
       "micro avg      0.053140  1.000000  0.100917  33044.0\n",
       "macro avg      0.053140  1.000000  0.099176  33044.0\n",
       "weighted avg   0.072731  1.000000  0.133680  33044.0\n",
       "samples avg    0.053140  0.792678  0.098364  33044.0"
      ]
     },
     "execution_count": 19,
     "metadata": {},
     "output_type": "execute_result"
    }
   ],
   "source": [
    "save_score(\n",
    "    y_true=y_test, y_pred=y_test.replace([False], True), target_names=target_names\n",
    ")"
   ]
  },
  {
   "cell_type": "markdown",
   "id": "5f077922",
   "metadata": {
    "papermill": {
     "duration": 0.035495,
     "end_time": "2023-01-04T16:39:19.340210",
     "exception": false,
     "start_time": "2023-01-04T16:39:19.304715",
     "status": "completed"
    },
    "tags": []
   },
   "source": [
    "### Methode naive le tag est dans la question:"
   ]
  },
  {
   "cell_type": "code",
   "execution_count": 20,
   "id": "cf59e31a",
   "metadata": {
    "execution": {
     "iopub.execute_input": "2023-01-04T16:39:19.402968Z",
     "iopub.status.busy": "2023-01-04T16:39:19.402577Z",
     "iopub.status.idle": "2023-01-04T16:39:20.145656Z",
     "shell.execute_reply": "2023-01-04T16:39:20.144710Z"
    },
    "papermill": {
     "duration": 0.775968,
     "end_time": "2023-01-04T16:39:20.147830",
     "exception": false,
     "start_time": "2023-01-04T16:39:19.371862",
     "status": "completed"
    },
    "tags": []
   },
   "outputs": [
    {
     "data": {
      "text/html": [
       "<div>\n",
       "<style scoped>\n",
       "    .dataframe tbody tr th:only-of-type {\n",
       "        vertical-align: middle;\n",
       "    }\n",
       "\n",
       "    .dataframe tbody tr th {\n",
       "        vertical-align: top;\n",
       "    }\n",
       "\n",
       "    .dataframe thead th {\n",
       "        text-align: right;\n",
       "    }\n",
       "</style>\n",
       "<table border=\"1\" class=\"dataframe\">\n",
       "  <thead>\n",
       "    <tr style=\"text-align: right;\">\n",
       "      <th></th>\n",
       "      <th>0</th>\n",
       "      <th>1</th>\n",
       "      <th>2</th>\n",
       "      <th>3</th>\n",
       "      <th>4</th>\n",
       "      <th>5</th>\n",
       "      <th>6</th>\n",
       "      <th>7</th>\n",
       "      <th>8</th>\n",
       "      <th>9</th>\n",
       "      <th>...</th>\n",
       "      <th>29601</th>\n",
       "      <th>29602</th>\n",
       "      <th>29603</th>\n",
       "      <th>29604</th>\n",
       "      <th>29605</th>\n",
       "      <th>29606</th>\n",
       "      <th>29607</th>\n",
       "      <th>29608</th>\n",
       "      <th>29609</th>\n",
       "      <th>29610</th>\n",
       "    </tr>\n",
       "  </thead>\n",
       "  <tbody>\n",
       "    <tr>\n",
       "      <th>java</th>\n",
       "      <td>False</td>\n",
       "      <td>False</td>\n",
       "      <td>False</td>\n",
       "      <td>False</td>\n",
       "      <td>True</td>\n",
       "      <td>False</td>\n",
       "      <td>False</td>\n",
       "      <td>False</td>\n",
       "      <td>False</td>\n",
       "      <td>False</td>\n",
       "      <td>...</td>\n",
       "      <td>False</td>\n",
       "      <td>False</td>\n",
       "      <td>False</td>\n",
       "      <td>False</td>\n",
       "      <td>False</td>\n",
       "      <td>False</td>\n",
       "      <td>False</td>\n",
       "      <td>False</td>\n",
       "      <td>False</td>\n",
       "      <td>False</td>\n",
       "    </tr>\n",
       "    <tr>\n",
       "      <th>c#</th>\n",
       "      <td>False</td>\n",
       "      <td>False</td>\n",
       "      <td>False</td>\n",
       "      <td>False</td>\n",
       "      <td>False</td>\n",
       "      <td>False</td>\n",
       "      <td>False</td>\n",
       "      <td>False</td>\n",
       "      <td>False</td>\n",
       "      <td>False</td>\n",
       "      <td>...</td>\n",
       "      <td>False</td>\n",
       "      <td>False</td>\n",
       "      <td>False</td>\n",
       "      <td>False</td>\n",
       "      <td>False</td>\n",
       "      <td>False</td>\n",
       "      <td>False</td>\n",
       "      <td>False</td>\n",
       "      <td>False</td>\n",
       "      <td>False</td>\n",
       "    </tr>\n",
       "    <tr>\n",
       "      <th>javascript</th>\n",
       "      <td>False</td>\n",
       "      <td>False</td>\n",
       "      <td>False</td>\n",
       "      <td>True</td>\n",
       "      <td>False</td>\n",
       "      <td>False</td>\n",
       "      <td>False</td>\n",
       "      <td>False</td>\n",
       "      <td>False</td>\n",
       "      <td>False</td>\n",
       "      <td>...</td>\n",
       "      <td>False</td>\n",
       "      <td>False</td>\n",
       "      <td>False</td>\n",
       "      <td>False</td>\n",
       "      <td>False</td>\n",
       "      <td>False</td>\n",
       "      <td>False</td>\n",
       "      <td>False</td>\n",
       "      <td>False</td>\n",
       "      <td>False</td>\n",
       "    </tr>\n",
       "    <tr>\n",
       "      <th>python</th>\n",
       "      <td>True</td>\n",
       "      <td>False</td>\n",
       "      <td>False</td>\n",
       "      <td>False</td>\n",
       "      <td>False</td>\n",
       "      <td>False</td>\n",
       "      <td>False</td>\n",
       "      <td>False</td>\n",
       "      <td>False</td>\n",
       "      <td>False</td>\n",
       "      <td>...</td>\n",
       "      <td>False</td>\n",
       "      <td>False</td>\n",
       "      <td>True</td>\n",
       "      <td>False</td>\n",
       "      <td>False</td>\n",
       "      <td>False</td>\n",
       "      <td>False</td>\n",
       "      <td>False</td>\n",
       "      <td>False</td>\n",
       "      <td>False</td>\n",
       "    </tr>\n",
       "    <tr>\n",
       "      <th>android</th>\n",
       "      <td>False</td>\n",
       "      <td>False</td>\n",
       "      <td>False</td>\n",
       "      <td>False</td>\n",
       "      <td>False</td>\n",
       "      <td>False</td>\n",
       "      <td>False</td>\n",
       "      <td>False</td>\n",
       "      <td>False</td>\n",
       "      <td>False</td>\n",
       "      <td>...</td>\n",
       "      <td>False</td>\n",
       "      <td>False</td>\n",
       "      <td>False</td>\n",
       "      <td>False</td>\n",
       "      <td>False</td>\n",
       "      <td>False</td>\n",
       "      <td>False</td>\n",
       "      <td>False</td>\n",
       "      <td>False</td>\n",
       "      <td>False</td>\n",
       "    </tr>\n",
       "    <tr>\n",
       "      <th>c++</th>\n",
       "      <td>False</td>\n",
       "      <td>False</td>\n",
       "      <td>False</td>\n",
       "      <td>False</td>\n",
       "      <td>True</td>\n",
       "      <td>False</td>\n",
       "      <td>False</td>\n",
       "      <td>False</td>\n",
       "      <td>False</td>\n",
       "      <td>False</td>\n",
       "      <td>...</td>\n",
       "      <td>False</td>\n",
       "      <td>False</td>\n",
       "      <td>False</td>\n",
       "      <td>False</td>\n",
       "      <td>False</td>\n",
       "      <td>False</td>\n",
       "      <td>False</td>\n",
       "      <td>False</td>\n",
       "      <td>False</td>\n",
       "      <td>False</td>\n",
       "    </tr>\n",
       "    <tr>\n",
       "      <th>ios</th>\n",
       "      <td>False</td>\n",
       "      <td>False</td>\n",
       "      <td>False</td>\n",
       "      <td>False</td>\n",
       "      <td>False</td>\n",
       "      <td>False</td>\n",
       "      <td>False</td>\n",
       "      <td>False</td>\n",
       "      <td>False</td>\n",
       "      <td>False</td>\n",
       "      <td>...</td>\n",
       "      <td>False</td>\n",
       "      <td>False</td>\n",
       "      <td>False</td>\n",
       "      <td>True</td>\n",
       "      <td>False</td>\n",
       "      <td>False</td>\n",
       "      <td>False</td>\n",
       "      <td>False</td>\n",
       "      <td>False</td>\n",
       "      <td>False</td>\n",
       "    </tr>\n",
       "    <tr>\n",
       "      <th>html</th>\n",
       "      <td>False</td>\n",
       "      <td>False</td>\n",
       "      <td>False</td>\n",
       "      <td>False</td>\n",
       "      <td>False</td>\n",
       "      <td>False</td>\n",
       "      <td>False</td>\n",
       "      <td>False</td>\n",
       "      <td>False</td>\n",
       "      <td>False</td>\n",
       "      <td>...</td>\n",
       "      <td>False</td>\n",
       "      <td>False</td>\n",
       "      <td>False</td>\n",
       "      <td>False</td>\n",
       "      <td>False</td>\n",
       "      <td>False</td>\n",
       "      <td>False</td>\n",
       "      <td>False</td>\n",
       "      <td>False</td>\n",
       "      <td>False</td>\n",
       "    </tr>\n",
       "    <tr>\n",
       "      <th>php</th>\n",
       "      <td>False</td>\n",
       "      <td>False</td>\n",
       "      <td>False</td>\n",
       "      <td>True</td>\n",
       "      <td>False</td>\n",
       "      <td>False</td>\n",
       "      <td>False</td>\n",
       "      <td>False</td>\n",
       "      <td>False</td>\n",
       "      <td>False</td>\n",
       "      <td>...</td>\n",
       "      <td>False</td>\n",
       "      <td>False</td>\n",
       "      <td>False</td>\n",
       "      <td>False</td>\n",
       "      <td>False</td>\n",
       "      <td>False</td>\n",
       "      <td>False</td>\n",
       "      <td>False</td>\n",
       "      <td>False</td>\n",
       "      <td>False</td>\n",
       "    </tr>\n",
       "    <tr>\n",
       "      <th>.net</th>\n",
       "      <td>False</td>\n",
       "      <td>False</td>\n",
       "      <td>False</td>\n",
       "      <td>False</td>\n",
       "      <td>False</td>\n",
       "      <td>False</td>\n",
       "      <td>False</td>\n",
       "      <td>False</td>\n",
       "      <td>False</td>\n",
       "      <td>False</td>\n",
       "      <td>...</td>\n",
       "      <td>False</td>\n",
       "      <td>False</td>\n",
       "      <td>False</td>\n",
       "      <td>False</td>\n",
       "      <td>False</td>\n",
       "      <td>False</td>\n",
       "      <td>False</td>\n",
       "      <td>False</td>\n",
       "      <td>False</td>\n",
       "      <td>False</td>\n",
       "    </tr>\n",
       "    <tr>\n",
       "      <th>jquery</th>\n",
       "      <td>False</td>\n",
       "      <td>False</td>\n",
       "      <td>False</td>\n",
       "      <td>False</td>\n",
       "      <td>False</td>\n",
       "      <td>False</td>\n",
       "      <td>False</td>\n",
       "      <td>False</td>\n",
       "      <td>False</td>\n",
       "      <td>False</td>\n",
       "      <td>...</td>\n",
       "      <td>False</td>\n",
       "      <td>False</td>\n",
       "      <td>False</td>\n",
       "      <td>False</td>\n",
       "      <td>False</td>\n",
       "      <td>False</td>\n",
       "      <td>False</td>\n",
       "      <td>False</td>\n",
       "      <td>False</td>\n",
       "      <td>False</td>\n",
       "    </tr>\n",
       "    <tr>\n",
       "      <th>css</th>\n",
       "      <td>False</td>\n",
       "      <td>False</td>\n",
       "      <td>False</td>\n",
       "      <td>False</td>\n",
       "      <td>False</td>\n",
       "      <td>False</td>\n",
       "      <td>False</td>\n",
       "      <td>False</td>\n",
       "      <td>False</td>\n",
       "      <td>False</td>\n",
       "      <td>...</td>\n",
       "      <td>False</td>\n",
       "      <td>False</td>\n",
       "      <td>False</td>\n",
       "      <td>False</td>\n",
       "      <td>False</td>\n",
       "      <td>False</td>\n",
       "      <td>False</td>\n",
       "      <td>False</td>\n",
       "      <td>False</td>\n",
       "      <td>False</td>\n",
       "    </tr>\n",
       "    <tr>\n",
       "      <th>objective-c</th>\n",
       "      <td>False</td>\n",
       "      <td>False</td>\n",
       "      <td>False</td>\n",
       "      <td>False</td>\n",
       "      <td>False</td>\n",
       "      <td>False</td>\n",
       "      <td>False</td>\n",
       "      <td>False</td>\n",
       "      <td>False</td>\n",
       "      <td>False</td>\n",
       "      <td>...</td>\n",
       "      <td>False</td>\n",
       "      <td>False</td>\n",
       "      <td>False</td>\n",
       "      <td>False</td>\n",
       "      <td>False</td>\n",
       "      <td>False</td>\n",
       "      <td>False</td>\n",
       "      <td>False</td>\n",
       "      <td>False</td>\n",
       "      <td>False</td>\n",
       "    </tr>\n",
       "    <tr>\n",
       "      <th>c</th>\n",
       "      <td>False</td>\n",
       "      <td>False</td>\n",
       "      <td>False</td>\n",
       "      <td>False</td>\n",
       "      <td>True</td>\n",
       "      <td>False</td>\n",
       "      <td>False</td>\n",
       "      <td>False</td>\n",
       "      <td>False</td>\n",
       "      <td>False</td>\n",
       "      <td>...</td>\n",
       "      <td>False</td>\n",
       "      <td>False</td>\n",
       "      <td>False</td>\n",
       "      <td>False</td>\n",
       "      <td>False</td>\n",
       "      <td>False</td>\n",
       "      <td>False</td>\n",
       "      <td>True</td>\n",
       "      <td>False</td>\n",
       "      <td>False</td>\n",
       "    </tr>\n",
       "    <tr>\n",
       "      <th>sql</th>\n",
       "      <td>False</td>\n",
       "      <td>False</td>\n",
       "      <td>True</td>\n",
       "      <td>False</td>\n",
       "      <td>False</td>\n",
       "      <td>False</td>\n",
       "      <td>False</td>\n",
       "      <td>False</td>\n",
       "      <td>False</td>\n",
       "      <td>False</td>\n",
       "      <td>...</td>\n",
       "      <td>False</td>\n",
       "      <td>False</td>\n",
       "      <td>False</td>\n",
       "      <td>False</td>\n",
       "      <td>False</td>\n",
       "      <td>True</td>\n",
       "      <td>False</td>\n",
       "      <td>False</td>\n",
       "      <td>False</td>\n",
       "      <td>False</td>\n",
       "    </tr>\n",
       "    <tr>\n",
       "      <th>iphone</th>\n",
       "      <td>False</td>\n",
       "      <td>False</td>\n",
       "      <td>False</td>\n",
       "      <td>False</td>\n",
       "      <td>False</td>\n",
       "      <td>False</td>\n",
       "      <td>False</td>\n",
       "      <td>False</td>\n",
       "      <td>False</td>\n",
       "      <td>False</td>\n",
       "      <td>...</td>\n",
       "      <td>False</td>\n",
       "      <td>False</td>\n",
       "      <td>False</td>\n",
       "      <td>True</td>\n",
       "      <td>False</td>\n",
       "      <td>False</td>\n",
       "      <td>False</td>\n",
       "      <td>False</td>\n",
       "      <td>False</td>\n",
       "      <td>False</td>\n",
       "    </tr>\n",
       "    <tr>\n",
       "      <th>asp.net</th>\n",
       "      <td>False</td>\n",
       "      <td>False</td>\n",
       "      <td>False</td>\n",
       "      <td>False</td>\n",
       "      <td>False</td>\n",
       "      <td>False</td>\n",
       "      <td>False</td>\n",
       "      <td>False</td>\n",
       "      <td>False</td>\n",
       "      <td>False</td>\n",
       "      <td>...</td>\n",
       "      <td>False</td>\n",
       "      <td>False</td>\n",
       "      <td>False</td>\n",
       "      <td>False</td>\n",
       "      <td>False</td>\n",
       "      <td>False</td>\n",
       "      <td>False</td>\n",
       "      <td>False</td>\n",
       "      <td>False</td>\n",
       "      <td>False</td>\n",
       "    </tr>\n",
       "    <tr>\n",
       "      <th>mysql</th>\n",
       "      <td>False</td>\n",
       "      <td>False</td>\n",
       "      <td>True</td>\n",
       "      <td>False</td>\n",
       "      <td>False</td>\n",
       "      <td>False</td>\n",
       "      <td>False</td>\n",
       "      <td>False</td>\n",
       "      <td>False</td>\n",
       "      <td>False</td>\n",
       "      <td>...</td>\n",
       "      <td>False</td>\n",
       "      <td>False</td>\n",
       "      <td>False</td>\n",
       "      <td>False</td>\n",
       "      <td>False</td>\n",
       "      <td>False</td>\n",
       "      <td>False</td>\n",
       "      <td>False</td>\n",
       "      <td>False</td>\n",
       "      <td>False</td>\n",
       "    </tr>\n",
       "    <tr>\n",
       "      <th>linux</th>\n",
       "      <td>False</td>\n",
       "      <td>False</td>\n",
       "      <td>False</td>\n",
       "      <td>False</td>\n",
       "      <td>False</td>\n",
       "      <td>True</td>\n",
       "      <td>False</td>\n",
       "      <td>False</td>\n",
       "      <td>False</td>\n",
       "      <td>False</td>\n",
       "      <td>...</td>\n",
       "      <td>False</td>\n",
       "      <td>False</td>\n",
       "      <td>False</td>\n",
       "      <td>False</td>\n",
       "      <td>False</td>\n",
       "      <td>False</td>\n",
       "      <td>False</td>\n",
       "      <td>False</td>\n",
       "      <td>False</td>\n",
       "      <td>True</td>\n",
       "    </tr>\n",
       "    <tr>\n",
       "      <th>node.js</th>\n",
       "      <td>False</td>\n",
       "      <td>False</td>\n",
       "      <td>False</td>\n",
       "      <td>False</td>\n",
       "      <td>False</td>\n",
       "      <td>False</td>\n",
       "      <td>False</td>\n",
       "      <td>False</td>\n",
       "      <td>False</td>\n",
       "      <td>False</td>\n",
       "      <td>...</td>\n",
       "      <td>False</td>\n",
       "      <td>False</td>\n",
       "      <td>False</td>\n",
       "      <td>False</td>\n",
       "      <td>False</td>\n",
       "      <td>False</td>\n",
       "      <td>False</td>\n",
       "      <td>False</td>\n",
       "      <td>False</td>\n",
       "      <td>False</td>\n",
       "    </tr>\n",
       "    <tr>\n",
       "      <th>git</th>\n",
       "      <td>False</td>\n",
       "      <td>False</td>\n",
       "      <td>False</td>\n",
       "      <td>False</td>\n",
       "      <td>False</td>\n",
       "      <td>False</td>\n",
       "      <td>False</td>\n",
       "      <td>False</td>\n",
       "      <td>False</td>\n",
       "      <td>False</td>\n",
       "      <td>...</td>\n",
       "      <td>False</td>\n",
       "      <td>False</td>\n",
       "      <td>False</td>\n",
       "      <td>False</td>\n",
       "      <td>False</td>\n",
       "      <td>False</td>\n",
       "      <td>False</td>\n",
       "      <td>False</td>\n",
       "      <td>False</td>\n",
       "      <td>False</td>\n",
       "    </tr>\n",
       "  </tbody>\n",
       "</table>\n",
       "<p>21 rows × 29611 columns</p>\n",
       "</div>"
      ],
      "text/plain": [
       "             0      1      2      3      4      5      6      7      8      \\\n",
       "java         False  False  False  False   True  False  False  False  False   \n",
       "c#           False  False  False  False  False  False  False  False  False   \n",
       "javascript   False  False  False   True  False  False  False  False  False   \n",
       "python        True  False  False  False  False  False  False  False  False   \n",
       "android      False  False  False  False  False  False  False  False  False   \n",
       "c++          False  False  False  False   True  False  False  False  False   \n",
       "ios          False  False  False  False  False  False  False  False  False   \n",
       "html         False  False  False  False  False  False  False  False  False   \n",
       "php          False  False  False   True  False  False  False  False  False   \n",
       ".net         False  False  False  False  False  False  False  False  False   \n",
       "jquery       False  False  False  False  False  False  False  False  False   \n",
       "css          False  False  False  False  False  False  False  False  False   \n",
       "objective-c  False  False  False  False  False  False  False  False  False   \n",
       "c            False  False  False  False   True  False  False  False  False   \n",
       "sql          False  False   True  False  False  False  False  False  False   \n",
       "iphone       False  False  False  False  False  False  False  False  False   \n",
       "asp.net      False  False  False  False  False  False  False  False  False   \n",
       "mysql        False  False   True  False  False  False  False  False  False   \n",
       "linux        False  False  False  False  False   True  False  False  False   \n",
       "node.js      False  False  False  False  False  False  False  False  False   \n",
       "git          False  False  False  False  False  False  False  False  False   \n",
       "\n",
       "             9      ...  29601  29602  29603  29604  29605  29606  29607  \\\n",
       "java         False  ...  False  False  False  False  False  False  False   \n",
       "c#           False  ...  False  False  False  False  False  False  False   \n",
       "javascript   False  ...  False  False  False  False  False  False  False   \n",
       "python       False  ...  False  False   True  False  False  False  False   \n",
       "android      False  ...  False  False  False  False  False  False  False   \n",
       "c++          False  ...  False  False  False  False  False  False  False   \n",
       "ios          False  ...  False  False  False   True  False  False  False   \n",
       "html         False  ...  False  False  False  False  False  False  False   \n",
       "php          False  ...  False  False  False  False  False  False  False   \n",
       ".net         False  ...  False  False  False  False  False  False  False   \n",
       "jquery       False  ...  False  False  False  False  False  False  False   \n",
       "css          False  ...  False  False  False  False  False  False  False   \n",
       "objective-c  False  ...  False  False  False  False  False  False  False   \n",
       "c            False  ...  False  False  False  False  False  False  False   \n",
       "sql          False  ...  False  False  False  False  False   True  False   \n",
       "iphone       False  ...  False  False  False   True  False  False  False   \n",
       "asp.net      False  ...  False  False  False  False  False  False  False   \n",
       "mysql        False  ...  False  False  False  False  False  False  False   \n",
       "linux        False  ...  False  False  False  False  False  False  False   \n",
       "node.js      False  ...  False  False  False  False  False  False  False   \n",
       "git          False  ...  False  False  False  False  False  False  False   \n",
       "\n",
       "             29608  29609  29610  \n",
       "java         False  False  False  \n",
       "c#           False  False  False  \n",
       "javascript   False  False  False  \n",
       "python       False  False  False  \n",
       "android      False  False  False  \n",
       "c++          False  False  False  \n",
       "ios          False  False  False  \n",
       "html         False  False  False  \n",
       "php          False  False  False  \n",
       ".net         False  False  False  \n",
       "jquery       False  False  False  \n",
       "css          False  False  False  \n",
       "objective-c  False  False  False  \n",
       "c             True  False  False  \n",
       "sql          False  False  False  \n",
       "iphone       False  False  False  \n",
       "asp.net      False  False  False  \n",
       "mysql        False  False  False  \n",
       "linux        False  False   True  \n",
       "node.js      False  False  False  \n",
       "git          False  False  False  \n",
       "\n",
       "[21 rows x 29611 columns]"
      ]
     },
     "execution_count": 20,
     "metadata": {},
     "output_type": "execute_result"
    }
   ],
   "source": [
    "test_str = X_test.str\n",
    "pred_is_in = pd.DataFrame(\n",
    "    {\n",
    "        target_name: test_str.contains(\n",
    "            f\" {target_name} \", case=False, regex=False\n",
    "        ).values\n",
    "        for target_name in target_names\n",
    "    }\n",
    ")\n",
    "pred_is_in.T"
   ]
  },
  {
   "cell_type": "code",
   "execution_count": 21,
   "id": "50951af3",
   "metadata": {
    "execution": {
     "iopub.execute_input": "2023-01-04T16:39:20.186558Z",
     "iopub.status.busy": "2023-01-04T16:39:20.185633Z",
     "iopub.status.idle": "2023-01-04T16:39:20.257538Z",
     "shell.execute_reply": "2023-01-04T16:39:20.256583Z"
    },
    "papermill": {
     "duration": 0.093007,
     "end_time": "2023-01-04T16:39:20.259719",
     "exception": false,
     "start_time": "2023-01-04T16:39:20.166712",
     "status": "completed"
    },
    "tags": []
   },
   "outputs": [
    {
     "data": {
      "text/html": [
       "<div>\n",
       "<style scoped>\n",
       "    .dataframe tbody tr th:only-of-type {\n",
       "        vertical-align: middle;\n",
       "    }\n",
       "\n",
       "    .dataframe tbody tr th {\n",
       "        vertical-align: top;\n",
       "    }\n",
       "\n",
       "    .dataframe thead th {\n",
       "        text-align: right;\n",
       "    }\n",
       "</style>\n",
       "<table border=\"1\" class=\"dataframe\">\n",
       "  <thead>\n",
       "    <tr style=\"text-align: right;\">\n",
       "      <th></th>\n",
       "      <th>precision</th>\n",
       "      <th>recall</th>\n",
       "      <th>f1-score</th>\n",
       "      <th>support</th>\n",
       "    </tr>\n",
       "  </thead>\n",
       "  <tbody>\n",
       "    <tr>\n",
       "      <th>git</th>\n",
       "      <td>0.716846</td>\n",
       "      <td>0.729927</td>\n",
       "      <td>0.723327</td>\n",
       "      <td>274.0</td>\n",
       "    </tr>\n",
       "    <tr>\n",
       "      <th>mysql</th>\n",
       "      <td>0.723949</td>\n",
       "      <td>0.578102</td>\n",
       "      <td>0.642857</td>\n",
       "      <td>685.0</td>\n",
       "    </tr>\n",
       "    <tr>\n",
       "      <th>python</th>\n",
       "      <td>0.878273</td>\n",
       "      <td>0.475115</td>\n",
       "      <td>0.616646</td>\n",
       "      <td>2612.0</td>\n",
       "    </tr>\n",
       "    <tr>\n",
       "      <th>php</th>\n",
       "      <td>0.827292</td>\n",
       "      <td>0.476951</td>\n",
       "      <td>0.605068</td>\n",
       "      <td>1627.0</td>\n",
       "    </tr>\n",
       "    <tr>\n",
       "      <th>android</th>\n",
       "      <td>0.851163</td>\n",
       "      <td>0.447433</td>\n",
       "      <td>0.586538</td>\n",
       "      <td>2045.0</td>\n",
       "    </tr>\n",
       "    <tr>\n",
       "      <th>jquery</th>\n",
       "      <td>0.796804</td>\n",
       "      <td>0.453836</td>\n",
       "      <td>0.578293</td>\n",
       "      <td>1538.0</td>\n",
       "    </tr>\n",
       "    <tr>\n",
       "      <th>css</th>\n",
       "      <td>0.714670</td>\n",
       "      <td>0.469496</td>\n",
       "      <td>0.566702</td>\n",
       "      <td>1131.0</td>\n",
       "    </tr>\n",
       "    <tr>\n",
       "      <th>c++</th>\n",
       "      <td>0.805702</td>\n",
       "      <td>0.388493</td>\n",
       "      <td>0.524218</td>\n",
       "      <td>1964.0</td>\n",
       "    </tr>\n",
       "    <tr>\n",
       "      <th>java</th>\n",
       "      <td>0.766089</td>\n",
       "      <td>0.347948</td>\n",
       "      <td>0.478547</td>\n",
       "      <td>3558.0</td>\n",
       "    </tr>\n",
       "    <tr>\n",
       "      <th>linux</th>\n",
       "      <td>0.458265</td>\n",
       "      <td>0.411765</td>\n",
       "      <td>0.433772</td>\n",
       "      <td>680.0</td>\n",
       "    </tr>\n",
       "    <tr>\n",
       "      <th>micro avg</th>\n",
       "      <td>0.642411</td>\n",
       "      <td>0.326746</td>\n",
       "      <td>0.433171</td>\n",
       "      <td>33044.0</td>\n",
       "    </tr>\n",
       "    <tr>\n",
       "      <th>macro avg</th>\n",
       "      <td>0.604087</td>\n",
       "      <td>0.360648</td>\n",
       "      <td>0.429556</td>\n",
       "      <td>33044.0</td>\n",
       "    </tr>\n",
       "    <tr>\n",
       "      <th>sql</th>\n",
       "      <td>0.412766</td>\n",
       "      <td>0.445977</td>\n",
       "      <td>0.428729</td>\n",
       "      <td>870.0</td>\n",
       "    </tr>\n",
       "    <tr>\n",
       "      <th>html</th>\n",
       "      <td>0.481022</td>\n",
       "      <td>0.375499</td>\n",
       "      <td>0.421760</td>\n",
       "      <td>1755.0</td>\n",
       "    </tr>\n",
       "    <tr>\n",
       "      <th>weighted avg</th>\n",
       "      <td>0.618122</td>\n",
       "      <td>0.326746</td>\n",
       "      <td>0.413810</td>\n",
       "      <td>33044.0</td>\n",
       "    </tr>\n",
       "    <tr>\n",
       "      <th>asp.net</th>\n",
       "      <td>0.524096</td>\n",
       "      <td>0.324224</td>\n",
       "      <td>0.400614</td>\n",
       "      <td>805.0</td>\n",
       "    </tr>\n",
       "    <tr>\n",
       "      <th>iphone</th>\n",
       "      <td>0.578947</td>\n",
       "      <td>0.299876</td>\n",
       "      <td>0.395102</td>\n",
       "      <td>807.0</td>\n",
       "    </tr>\n",
       "    <tr>\n",
       "      <th>javascript</th>\n",
       "      <td>0.766812</td>\n",
       "      <td>0.261621</td>\n",
       "      <td>0.390136</td>\n",
       "      <td>3356.0</td>\n",
       "    </tr>\n",
       "    <tr>\n",
       "      <th>ios</th>\n",
       "      <td>0.768456</td>\n",
       "      <td>0.248913</td>\n",
       "      <td>0.376026</td>\n",
       "      <td>1840.0</td>\n",
       "    </tr>\n",
       "    <tr>\n",
       "      <th>.net</th>\n",
       "      <td>0.536657</td>\n",
       "      <td>0.233270</td>\n",
       "      <td>0.325189</td>\n",
       "      <td>1569.0</td>\n",
       "    </tr>\n",
       "    <tr>\n",
       "      <th>c</th>\n",
       "      <td>0.205295</td>\n",
       "      <td>0.464407</td>\n",
       "      <td>0.284725</td>\n",
       "      <td>885.0</td>\n",
       "    </tr>\n",
       "    <tr>\n",
       "      <th>samples avg</th>\n",
       "      <td>0.283512</td>\n",
       "      <td>0.263238</td>\n",
       "      <td>0.262590</td>\n",
       "      <td>33044.0</td>\n",
       "    </tr>\n",
       "    <tr>\n",
       "      <th>node.js</th>\n",
       "      <td>0.872727</td>\n",
       "      <td>0.140762</td>\n",
       "      <td>0.242424</td>\n",
       "      <td>682.0</td>\n",
       "    </tr>\n",
       "    <tr>\n",
       "      <th>c#</th>\n",
       "      <td>0.000000</td>\n",
       "      <td>0.000000</td>\n",
       "      <td>0.000000</td>\n",
       "      <td>3473.0</td>\n",
       "    </tr>\n",
       "    <tr>\n",
       "      <th>objective-c</th>\n",
       "      <td>0.000000</td>\n",
       "      <td>0.000000</td>\n",
       "      <td>0.000000</td>\n",
       "      <td>888.0</td>\n",
       "    </tr>\n",
       "  </tbody>\n",
       "</table>\n",
       "</div>"
      ],
      "text/plain": [
       "              precision    recall  f1-score  support\n",
       "git            0.716846  0.729927  0.723327    274.0\n",
       "mysql          0.723949  0.578102  0.642857    685.0\n",
       "python         0.878273  0.475115  0.616646   2612.0\n",
       "php            0.827292  0.476951  0.605068   1627.0\n",
       "android        0.851163  0.447433  0.586538   2045.0\n",
       "jquery         0.796804  0.453836  0.578293   1538.0\n",
       "css            0.714670  0.469496  0.566702   1131.0\n",
       "c++            0.805702  0.388493  0.524218   1964.0\n",
       "java           0.766089  0.347948  0.478547   3558.0\n",
       "linux          0.458265  0.411765  0.433772    680.0\n",
       "micro avg      0.642411  0.326746  0.433171  33044.0\n",
       "macro avg      0.604087  0.360648  0.429556  33044.0\n",
       "sql            0.412766  0.445977  0.428729    870.0\n",
       "html           0.481022  0.375499  0.421760   1755.0\n",
       "weighted avg   0.618122  0.326746  0.413810  33044.0\n",
       "asp.net        0.524096  0.324224  0.400614    805.0\n",
       "iphone         0.578947  0.299876  0.395102    807.0\n",
       "javascript     0.766812  0.261621  0.390136   3356.0\n",
       "ios            0.768456  0.248913  0.376026   1840.0\n",
       ".net           0.536657  0.233270  0.325189   1569.0\n",
       "c              0.205295  0.464407  0.284725    885.0\n",
       "samples avg    0.283512  0.263238  0.262590  33044.0\n",
       "node.js        0.872727  0.140762  0.242424    682.0\n",
       "c#             0.000000  0.000000  0.000000   3473.0\n",
       "objective-c    0.000000  0.000000  0.000000    888.0"
      ]
     },
     "execution_count": 21,
     "metadata": {},
     "output_type": "execute_result"
    }
   ],
   "source": [
    "score_naive_is_in = save_score(y_test, pred_is_in, target_names, \"naive_is_in\")\n",
    "score_naive_is_in.sort_values(by=\"f1-score\", ascending=False)"
   ]
  },
  {
   "cell_type": "code",
   "execution_count": 22,
   "id": "b9f0e35b",
   "metadata": {
    "execution": {
     "iopub.execute_input": "2023-01-04T16:39:20.298061Z",
     "iopub.status.busy": "2023-01-04T16:39:20.297766Z",
     "iopub.status.idle": "2023-01-04T16:39:20.367355Z",
     "shell.execute_reply": "2023-01-04T16:39:20.366036Z"
    },
    "papermill": {
     "duration": 0.091244,
     "end_time": "2023-01-04T16:39:20.369355",
     "exception": false,
     "start_time": "2023-01-04T16:39:20.278111",
     "status": "completed"
    },
    "tags": []
   },
   "outputs": [
    {
     "name": "stdout",
     "output_type": "stream",
     "text": [
      "\u001b[1mjava\u001b[0m\n",
      "\t Sur entrainement \u001b[92m12.05%\u001b[0m positif \u001b[91m87.95%\u001b[0m negatif\n",
      "\t Sur test \u001b[92m12.02%\u001b[0m positif \u001b[91m87.98%\u001b[0m negatif\n",
      "\n",
      "\n",
      "\u001b[1mc#\u001b[0m\n",
      "\t Sur entrainement \u001b[92m11.80%\u001b[0m positif \u001b[91m88.20%\u001b[0m negatif\n",
      "\t Sur test \u001b[92m11.73%\u001b[0m positif \u001b[91m88.27%\u001b[0m negatif\n",
      "\n",
      "\n",
      "\u001b[1mjavascript\u001b[0m\n",
      "\t Sur entrainement \u001b[92m11.77%\u001b[0m positif \u001b[91m88.23%\u001b[0m negatif\n",
      "\t Sur test \u001b[92m11.33%\u001b[0m positif \u001b[91m88.67%\u001b[0m negatif\n",
      "\n",
      "\n",
      "\u001b[1mpython\u001b[0m\n",
      "\t Sur entrainement \u001b[92m8.61%\u001b[0m positif \u001b[91m91.39%\u001b[0m negatif\n",
      "\t Sur test \u001b[92m8.82%\u001b[0m positif \u001b[91m91.18%\u001b[0m negatif\n",
      "\n",
      "\n",
      "\u001b[1mandroid\u001b[0m\n",
      "\t Sur entrainement \u001b[92m7.00%\u001b[0m positif \u001b[91m93.00%\u001b[0m negatif\n",
      "\t Sur test \u001b[92m6.91%\u001b[0m positif \u001b[91m93.09%\u001b[0m negatif\n",
      "\n",
      "\n",
      "\u001b[1mc++\u001b[0m\n",
      "\t Sur entrainement \u001b[92m6.63%\u001b[0m positif \u001b[91m93.37%\u001b[0m negatif\n",
      "\t Sur test \u001b[92m6.63%\u001b[0m positif \u001b[91m93.37%\u001b[0m negatif\n",
      "\n",
      "\n",
      "\u001b[1mios\u001b[0m\n",
      "\t Sur entrainement \u001b[92m6.25%\u001b[0m positif \u001b[91m93.75%\u001b[0m negatif\n",
      "\t Sur test \u001b[92m6.21%\u001b[0m positif \u001b[91m93.79%\u001b[0m negatif\n",
      "\n",
      "\n",
      "\u001b[1mhtml\u001b[0m\n",
      "\t Sur entrainement \u001b[92m5.85%\u001b[0m positif \u001b[91m94.15%\u001b[0m negatif\n",
      "\t Sur test \u001b[92m5.93%\u001b[0m positif \u001b[91m94.07%\u001b[0m negatif\n",
      "\n",
      "\n",
      "\u001b[1mphp\u001b[0m\n",
      "\t Sur entrainement \u001b[92m5.56%\u001b[0m positif \u001b[91m94.44%\u001b[0m negatif\n",
      "\t Sur test \u001b[92m5.49%\u001b[0m positif \u001b[91m94.51%\u001b[0m negatif\n",
      "\n",
      "\n",
      "\u001b[1m.net\u001b[0m\n",
      "\t Sur entrainement \u001b[92m5.34%\u001b[0m positif \u001b[91m94.66%\u001b[0m negatif\n",
      "\t Sur test \u001b[92m5.30%\u001b[0m positif \u001b[91m94.70%\u001b[0m negatif\n",
      "\n",
      "\n",
      "\u001b[1mjquery\u001b[0m\n",
      "\t Sur entrainement \u001b[92m5.36%\u001b[0m positif \u001b[91m94.64%\u001b[0m negatif\n",
      "\t Sur test \u001b[92m5.19%\u001b[0m positif \u001b[91m94.81%\u001b[0m negatif\n",
      "\n",
      "\n",
      "\u001b[1mcss\u001b[0m\n",
      "\t Sur entrainement \u001b[92m3.77%\u001b[0m positif \u001b[91m96.23%\u001b[0m negatif\n",
      "\t Sur test \u001b[92m3.82%\u001b[0m positif \u001b[91m96.18%\u001b[0m negatif\n",
      "\n",
      "\n",
      "\u001b[1mobjective-c\u001b[0m\n",
      "\t Sur entrainement \u001b[92m3.08%\u001b[0m positif \u001b[91m96.92%\u001b[0m negatif\n",
      "\t Sur test \u001b[92m3.00%\u001b[0m positif \u001b[91m97.00%\u001b[0m negatif\n",
      "\n",
      "\n",
      "\u001b[1mc\u001b[0m\n",
      "\t Sur entrainement \u001b[92m3.08%\u001b[0m positif \u001b[91m96.92%\u001b[0m negatif\n",
      "\t Sur test \u001b[92m2.99%\u001b[0m positif \u001b[91m97.01%\u001b[0m negatif\n",
      "\n",
      "\n",
      "\u001b[1msql\u001b[0m\n",
      "\t Sur entrainement \u001b[92m3.00%\u001b[0m positif \u001b[91m97.00%\u001b[0m negatif\n",
      "\t Sur test \u001b[92m2.94%\u001b[0m positif \u001b[91m97.06%\u001b[0m negatif\n",
      "\n",
      "\n",
      "\u001b[1miphone\u001b[0m\n",
      "\t Sur entrainement \u001b[92m2.79%\u001b[0m positif \u001b[91m97.21%\u001b[0m negatif\n",
      "\t Sur test \u001b[92m2.73%\u001b[0m positif \u001b[91m97.27%\u001b[0m negatif\n",
      "\n",
      "\n",
      "\u001b[1masp.net\u001b[0m\n",
      "\t Sur entrainement \u001b[92m2.73%\u001b[0m positif \u001b[91m97.27%\u001b[0m negatif\n",
      "\t Sur test \u001b[92m2.72%\u001b[0m positif \u001b[91m97.28%\u001b[0m negatif\n",
      "\n",
      "\n",
      "\u001b[1mmysql\u001b[0m\n",
      "\t Sur entrainement \u001b[92m2.37%\u001b[0m positif \u001b[91m97.63%\u001b[0m negatif\n",
      "\t Sur test \u001b[92m2.31%\u001b[0m positif \u001b[91m97.69%\u001b[0m negatif\n",
      "\n",
      "\n",
      "\u001b[1mlinux\u001b[0m\n",
      "\t Sur entrainement \u001b[92m2.34%\u001b[0m positif \u001b[91m97.66%\u001b[0m negatif\n",
      "\t Sur test \u001b[92m2.30%\u001b[0m positif \u001b[91m97.70%\u001b[0m negatif\n",
      "\n",
      "\n",
      "\u001b[1mnode.js\u001b[0m\n",
      "\t Sur entrainement \u001b[92m2.29%\u001b[0m positif \u001b[91m97.71%\u001b[0m negatif\n",
      "\t Sur test \u001b[92m2.30%\u001b[0m positif \u001b[91m97.70%\u001b[0m negatif\n",
      "\n",
      "\n",
      "\u001b[1mgit\u001b[0m\n",
      "\t Sur entrainement \u001b[92m0.95%\u001b[0m positif \u001b[91m99.05%\u001b[0m negatif\n",
      "\t Sur test \u001b[92m0.93%\u001b[0m positif \u001b[91m99.07%\u001b[0m negatif\n",
      "\n",
      "\n"
     ]
    }
   ],
   "source": [
    "for column in y_train.columns:\n",
    "    t_train = y_train[column].value_counts(normalize=True)\n",
    "    t_test = y_test[column].value_counts(normalize=True)\n",
    "    print(f\"{colors.BOLD}{column}{colors.ENDC}\")\n",
    "    print(\n",
    "        f\"\\t Sur entrainement {colors.GREEN}{t_train[True]:.2%}{colors.ENDC} positif {colors.RED}{t_train[False]:.2%}{colors.ENDC} negatif\"\n",
    "    )\n",
    "    print(\n",
    "        f\"\\t Sur test {colors.GREEN}{t_test[True]:.2%}{colors.ENDC} positif {colors.RED}{t_test[False]:.2%}{colors.ENDC} negatif\"\n",
    "    )\n",
    "    print(\"\\n\")"
   ]
  },
  {
   "cell_type": "markdown",
   "id": "a26cf4fc",
   "metadata": {
    "papermill": {
     "duration": 0.018463,
     "end_time": "2023-01-04T16:39:20.407665",
     "exception": false,
     "start_time": "2023-01-04T16:39:20.389202",
     "status": "completed"
    },
    "tags": []
   },
   "source": [
    "# CountVectorizer"
   ]
  },
  {
   "cell_type": "code",
   "execution_count": 23,
   "id": "0ddb0eac",
   "metadata": {
    "execution": {
     "iopub.execute_input": "2023-01-04T16:39:20.446652Z",
     "iopub.status.busy": "2023-01-04T16:39:20.445750Z",
     "iopub.status.idle": "2023-01-04T16:39:24.560274Z",
     "shell.execute_reply": "2023-01-04T16:39:24.559326Z"
    },
    "papermill": {
     "duration": 4.136086,
     "end_time": "2023-01-04T16:39:24.562327",
     "exception": false,
     "start_time": "2023-01-04T16:39:20.426241",
     "status": "completed"
    },
    "tags": []
   },
   "outputs": [
    {
     "name": "stdout",
     "output_type": "stream",
     "text": [
      "\n",
      "******************************\n",
      " pour min_df:1e-05; max_df:0.995\n",
      "\ttokens unique:\n",
      "\t\t53999 dans title et body regroupé\n"
     ]
    }
   ],
   "source": [
    "best_min_df = description[\"CountVectorizer\"][\"min_df\"]\n",
    "best_max_df = description[\"CountVectorizer\"][\"max_df\"]\n",
    "for min_df in [0.01, 0.05, 0.005, 0.0005, 0.00001] if LONG else [best_min_df]:\n",
    "    for max_df in [0.95, 0.995, 0.9995] if LONG else [best_max_df]:\n",
    "        print(f\"\\n{'*'*30}\\n pour min_df:{min_df}; max_df:{max_df}\")\n",
    "        count_vectorizer = feature_extraction.text.CountVectorizer(\n",
    "            min_df=min_df, max_df=max_df, max_features=None\n",
    "        )\n",
    "        #         pipe = pipeline.make_pipeline(feature_extraction.text.CountVectorizer(min_df=min_df, max_df=max_df, max_features=None), feature_extraction.text.TfidfTransformer( norm=\"l2\", use_idf=True, smooth_idf=True, sublinear_tf=False))\n",
    "        #         feat_train = pipe.transform(X_train[\"Token\"])\n",
    "        #         print(feat_train.shape)\n",
    "\n",
    "        token_vectors = count_vectorizer.fit_transform(df[\"Token\"])\n",
    "        print(\n",
    "            f\"\\ttokens unique:\\n\\t\\t{token_vectors.shape[1]} dans title et body regroupé\"\n",
    "        )"
   ]
  },
  {
   "cell_type": "markdown",
   "id": "c48aa364",
   "metadata": {
    "papermill": {
     "duration": 0.018616,
     "end_time": "2023-01-04T16:39:24.599972",
     "exception": false,
     "start_time": "2023-01-04T16:39:24.581356",
     "status": "completed"
    },
    "tags": []
   },
   "source": [
    "### Test reduction dimension\n",
    "avec n_components=1_000 : 10% de la variance éxpliqué\n"
   ]
  },
  {
   "cell_type": "code",
   "execution_count": 24,
   "id": "bb294e6b",
   "metadata": {
    "execution": {
     "iopub.execute_input": "2023-01-04T16:39:24.639129Z",
     "iopub.status.busy": "2023-01-04T16:39:24.638016Z",
     "iopub.status.idle": "2023-01-04T16:39:24.676655Z",
     "shell.execute_reply": "2023-01-04T16:39:24.675095Z"
    },
    "papermill": {
     "duration": 0.061502,
     "end_time": "2023-01-04T16:39:24.679811",
     "exception": false,
     "start_time": "2023-01-04T16:39:24.618309",
     "status": "completed"
    },
    "tags": []
   },
   "outputs": [
    {
     "name": "stdout",
     "output_type": "stream",
     "text": [
      "CPU times: user 3 µs, sys: 1 µs, total: 4 µs\n",
      "Wall time: 7.15 µs\n"
     ]
    }
   ],
   "source": [
    "%%time\n",
    "if LONG:\n",
    "    truncSvd = decomposition.TruncatedSVD(n_components=1000).fit(\n",
    "        preprocessing.StandardScaler(with_mean=False).fit_transform(token_vectors)\n",
    "    )\n",
    "    plt.figure(figsize=(30, 15))\n",
    "    scree = truncSvd.explained_variance_ratio_ * 100\n",
    "    plt.bar(np.arange(len(scree)) + 1, scree)\n",
    "    plt.plot(np.arange(len(scree)) + 1, scree.cumsum(), c=\"red\", marker=\"o\")\n",
    "    plt.xlabel(\"rang de l'axe d'inertie\")\n",
    "    plt.ylabel(\"pourcentage variance expliquée\")\n",
    "    plt.title(\"Eboulis des valeurs propres\")\n",
    "    plt.show()"
   ]
  },
  {
   "cell_type": "markdown",
   "id": "5abadbdc",
   "metadata": {
    "papermill": {
     "duration": 0.018128,
     "end_time": "2023-01-04T16:39:24.716644",
     "exception": false,
     "start_time": "2023-01-04T16:39:24.698516",
     "status": "completed"
    },
    "tags": []
   },
   "source": [
    "# PreprocessPipeline"
   ]
  },
  {
   "cell_type": "code",
   "execution_count": 25,
   "id": "8a63cb85",
   "metadata": {
    "execution": {
     "iopub.execute_input": "2023-01-04T16:39:24.755018Z",
     "iopub.status.busy": "2023-01-04T16:39:24.754709Z",
     "iopub.status.idle": "2023-01-04T16:39:24.805324Z",
     "shell.execute_reply": "2023-01-04T16:39:24.804465Z"
    },
    "papermill": {
     "duration": 0.072334,
     "end_time": "2023-01-04T16:39:24.807364",
     "exception": false,
     "start_time": "2023-01-04T16:39:24.735030",
     "status": "completed"
    },
    "tags": []
   },
   "outputs": [],
   "source": [
    "pipeline_tfidf = pipeline.Pipeline(\n",
    "    [\n",
    "        (\n",
    "            \"count\",\n",
    "            feature_extraction.text.CountVectorizer(\n",
    "                min_df=best_min_df, max_df=best_max_df, max_features=None\n",
    "            ),\n",
    "        ),\n",
    "        (\n",
    "            \"tfidf\",\n",
    "            feature_extraction.text.TfidfTransformer(\n",
    "                norm=\"l2\", use_idf=True, smooth_idf=True, sublinear_tf=False\n",
    "            ),\n",
    "        ),\n",
    "        (\n",
    "            \"scale\",\n",
    "            preprocessing.StandardScaler(with_mean=False)\n",
    "            if description[\"StandardScaler\"][\"actif\"]\n",
    "            else \"passthrough\",\n",
    "        ),\n",
    "        (\n",
    "            \"dimReduction\",\n",
    "            decomposition.TruncatedSVD(\n",
    "                n_components=description[\"TruncatedSVD\"][\"n_components\"]\n",
    "            )\n",
    "            if description[\"TruncatedSVD\"][\"actif\"]\n",
    "            else \"passthrough\",\n",
    "        ),\n",
    "    ]\n",
    ")\n",
    "## @TODO cache\n",
    "# memory = joblib.Memory(location=\"/kaggle/working/cache_dir\", verbose=0)\n",
    "# pipeline_tfidf = memory.cache(pipeline_tfidf)"
   ]
  },
  {
   "cell_type": "markdown",
   "id": "5221eb97",
   "metadata": {
    "papermill": {
     "duration": 0.018443,
     "end_time": "2023-01-04T16:39:24.844379",
     "exception": false,
     "start_time": "2023-01-04T16:39:24.825936",
     "status": "completed"
    },
    "tags": []
   },
   "source": [
    "# OvsRest"
   ]
  },
  {
   "cell_type": "markdown",
   "id": "9a966f80",
   "metadata": {
    "papermill": {
     "duration": 0.018475,
     "end_time": "2023-01-04T16:39:24.881327",
     "exception": false,
     "start_time": "2023-01-04T16:39:24.862852",
     "status": "completed"
    },
    "tags": []
   },
   "source": [
    "## LogisticRegression"
   ]
  },
  {
   "cell_type": "code",
   "execution_count": 26,
   "id": "7c6f8f21",
   "metadata": {
    "execution": {
     "iopub.execute_input": "2023-01-04T16:39:24.919892Z",
     "iopub.status.busy": "2023-01-04T16:39:24.919075Z",
     "iopub.status.idle": "2023-01-04T16:39:24.958367Z",
     "shell.execute_reply": "2023-01-04T16:39:24.956835Z"
    },
    "papermill": {
     "duration": 0.061248,
     "end_time": "2023-01-04T16:39:24.960969",
     "exception": false,
     "start_time": "2023-01-04T16:39:24.899721",
     "status": "completed"
    },
    "tags": []
   },
   "outputs": [
    {
     "name": "stdout",
     "output_type": "stream",
     "text": [
      "CPU times: user 4 µs, sys: 0 ns, total: 4 µs\n",
      "Wall time: 7.15 µs\n"
     ]
    }
   ],
   "source": [
    "%%time\n",
    "if description[\"LogisticRegression\"][\"actif\"]:\n",
    "    pipeline_logisticReg = pipeline.Pipeline(\n",
    "        [\n",
    "            (\"tfidf\", pipeline_tfidf),\n",
    "            (\n",
    "                \"OvRLogisticReg\",\n",
    "                multiclass.OneVsRestClassifier(\n",
    "                    linear_model.LogisticRegression(random_state=42)\n",
    "                ),\n",
    "            ),\n",
    "        ]\n",
    "    )\n",
    "    with ignore_warnings(category=exceptions.ConvergenceWarning):\n",
    "        pipeline_logisticReg.fit(X_train, y_train)\n",
    "\n",
    "    # prediction sur jeu de test\n",
    "    pred_lr = pipeline_logisticReg.predict(X_test)\n",
    "    scores_lr = save_score(y_test, pred_lr, target_names, \"LogisticRegression\")\n",
    "\n",
    "    # enregistrement model et score\n",
    "    joblib.dump(pipeline_logisticReg, \"LogisticRegression_model.joblib\")\n",
    "    scores_lr.sort_values(by=\"support\", ascending=False)"
   ]
  },
  {
   "cell_type": "code",
   "execution_count": 27,
   "id": "14935c23",
   "metadata": {
    "execution": {
     "iopub.execute_input": "2023-01-04T16:39:25.001309Z",
     "iopub.status.busy": "2023-01-04T16:39:25.000559Z",
     "iopub.status.idle": "2023-01-04T16:39:25.011696Z",
     "shell.execute_reply": "2023-01-04T16:39:25.010838Z"
    },
    "papermill": {
     "duration": 0.033582,
     "end_time": "2023-01-04T16:39:25.013611",
     "exception": false,
     "start_time": "2023-01-04T16:39:24.980029",
     "status": "completed"
    },
    "tags": []
   },
   "outputs": [],
   "source": [
    "if description[\"LogisticRegression\"][\"actif\"]:\n",
    "    print(scores_lr.sort_values(by=\"precision\", ascending=False))"
   ]
  },
  {
   "cell_type": "code",
   "execution_count": 28,
   "id": "ca54da2b",
   "metadata": {
    "execution": {
     "iopub.execute_input": "2023-01-04T16:39:25.052852Z",
     "iopub.status.busy": "2023-01-04T16:39:25.051443Z",
     "iopub.status.idle": "2023-01-04T16:39:25.063153Z",
     "shell.execute_reply": "2023-01-04T16:39:25.062316Z"
    },
    "papermill": {
     "duration": 0.032988,
     "end_time": "2023-01-04T16:39:25.065101",
     "exception": false,
     "start_time": "2023-01-04T16:39:25.032113",
     "status": "completed"
    },
    "tags": []
   },
   "outputs": [],
   "source": [
    "if description[\"LogisticRegression\"][\"actif\"]:\n",
    "    print(scores_lr.sort_values(by=\"recall\", ascending=False))"
   ]
  },
  {
   "cell_type": "markdown",
   "id": "6475899c",
   "metadata": {
    "papermill": {
     "duration": 0.018226,
     "end_time": "2023-01-04T16:39:25.102052",
     "exception": false,
     "start_time": "2023-01-04T16:39:25.083826",
     "status": "completed"
    },
    "tags": []
   },
   "source": [
    "## SVC"
   ]
  },
  {
   "cell_type": "code",
   "execution_count": 29,
   "id": "5af70b8c",
   "metadata": {
    "execution": {
     "iopub.execute_input": "2023-01-04T16:39:25.141070Z",
     "iopub.status.busy": "2023-01-04T16:39:25.140792Z",
     "iopub.status.idle": "2023-01-04T16:39:25.166657Z",
     "shell.execute_reply": "2023-01-04T16:39:25.165816Z"
    },
    "papermill": {
     "duration": 0.047405,
     "end_time": "2023-01-04T16:39:25.168608",
     "exception": false,
     "start_time": "2023-01-04T16:39:25.121203",
     "status": "completed"
    },
    "tags": []
   },
   "outputs": [],
   "source": [
    "pipeline_svc = pipeline.Pipeline(\n",
    "    [\n",
    "        (\"tfidf\", pipeline_tfidf),\n",
    "        (\n",
    "            \"TfidfOvRSVC\",\n",
    "            multiclass.OneVsRestClassifier(\n",
    "                svm.SVC(\n",
    "                    cache_size=1080,\n",
    "                    max_iter=description[\"TfidfOvRSVC\"][\"max_iter\"],\n",
    "                    random_state=42,\n",
    "                )\n",
    "            ),\n",
    "        ),\n",
    "    ]\n",
    ")"
   ]
  },
  {
   "cell_type": "code",
   "execution_count": 30,
   "id": "83910695",
   "metadata": {
    "execution": {
     "iopub.execute_input": "2023-01-04T16:39:25.209029Z",
     "iopub.status.busy": "2023-01-04T16:39:25.208141Z",
     "iopub.status.idle": "2023-01-04T16:39:25.224171Z",
     "shell.execute_reply": "2023-01-04T16:39:25.222925Z"
    },
    "papermill": {
     "duration": 0.037816,
     "end_time": "2023-01-04T16:39:25.226068",
     "exception": false,
     "start_time": "2023-01-04T16:39:25.188252",
     "status": "completed"
    },
    "tags": []
   },
   "outputs": [
    {
     "name": "stdout",
     "output_type": "stream",
     "text": [
      "CPU times: user 3 µs, sys: 1 µs, total: 4 µs\n",
      "Wall time: 6.91 µs\n"
     ]
    }
   ],
   "source": [
    "%%time\n",
    "if description[\"TfidfOvRSVC\"][\"actif\"]:\n",
    "    with ignore_warnings(category=exceptions.ConvergenceWarning):\n",
    "        pipeline_svc.fit(\n",
    "            X_train,\n",
    "            y_train,\n",
    "        )"
   ]
  },
  {
   "cell_type": "code",
   "execution_count": 31,
   "id": "edd1afa5",
   "metadata": {
    "execution": {
     "iopub.execute_input": "2023-01-04T16:39:25.265047Z",
     "iopub.status.busy": "2023-01-04T16:39:25.264191Z",
     "iopub.status.idle": "2023-01-04T16:39:25.277850Z",
     "shell.execute_reply": "2023-01-04T16:39:25.276890Z"
    },
    "papermill": {
     "duration": 0.03501,
     "end_time": "2023-01-04T16:39:25.279906",
     "exception": false,
     "start_time": "2023-01-04T16:39:25.244896",
     "status": "completed"
    },
    "tags": []
   },
   "outputs": [
    {
     "name": "stdout",
     "output_type": "stream",
     "text": [
      "CPU times: user 3 µs, sys: 0 ns, total: 3 µs\n",
      "Wall time: 6.68 µs\n"
     ]
    }
   ],
   "source": [
    "%%time\n",
    "if description[\"TfidfOvRSVC\"][\"actif\"]:\n",
    "    pred_svc = pipeline_svc.predict(X_test)\n",
    "    print(pred_svc)"
   ]
  },
  {
   "cell_type": "markdown",
   "id": "28335e38",
   "metadata": {
    "papermill": {
     "duration": 0.018602,
     "end_time": "2023-01-04T16:39:25.317114",
     "exception": false,
     "start_time": "2023-01-04T16:39:25.298512",
     "status": "completed"
    },
    "tags": []
   },
   "source": [
    "### Score et enregistrement"
   ]
  },
  {
   "cell_type": "code",
   "execution_count": 32,
   "id": "f4048de2",
   "metadata": {
    "execution": {
     "iopub.execute_input": "2023-01-04T16:39:25.355370Z",
     "iopub.status.busy": "2023-01-04T16:39:25.355100Z",
     "iopub.status.idle": "2023-01-04T16:39:25.371744Z",
     "shell.execute_reply": "2023-01-04T16:39:25.370882Z"
    },
    "papermill": {
     "duration": 0.037949,
     "end_time": "2023-01-04T16:39:25.373650",
     "exception": false,
     "start_time": "2023-01-04T16:39:25.335701",
     "status": "completed"
    },
    "tags": []
   },
   "outputs": [],
   "source": [
    "if description[\"TfidfOvRSVC\"][\"actif\"]:\n",
    "    scores_svc = save_score(y_test, pred_svc, target_names, \"TfidfOvRSVC\")\n",
    "    joblib.dump(pipeline_svc, \"TfidfOvRestSvc_model.joblib\")\n",
    "    print(scores_svc.sort_values(by=\"precision\", ascending=False))"
   ]
  },
  {
   "cell_type": "markdown",
   "id": "0a38f268",
   "metadata": {
    "papermill": {
     "duration": 0.018318,
     "end_time": "2023-01-04T16:39:25.410653",
     "exception": false,
     "start_time": "2023-01-04T16:39:25.392335",
     "status": "completed"
    },
    "tags": []
   },
   "source": [
    "# Word2Vec"
   ]
  },
  {
   "cell_type": "markdown",
   "id": "b02d5bbc",
   "metadata": {
    "papermill": {
     "duration": 0.018494,
     "end_time": "2023-01-04T16:39:25.447839",
     "exception": false,
     "start_time": "2023-01-04T16:39:25.429345",
     "status": "completed"
    },
    "tags": []
   },
   "source": [
    "## Keras Model"
   ]
  },
  {
   "cell_type": "code",
   "execution_count": 33,
   "id": "21ade375",
   "metadata": {
    "execution": {
     "iopub.execute_input": "2023-01-04T16:39:25.487230Z",
     "iopub.status.busy": "2023-01-04T16:39:25.486466Z",
     "iopub.status.idle": "2023-01-04T16:39:25.494529Z",
     "shell.execute_reply": "2023-01-04T16:39:25.493384Z"
    },
    "papermill": {
     "duration": 0.031083,
     "end_time": "2023-01-04T16:39:25.497781",
     "exception": false,
     "start_time": "2023-01-04T16:39:25.466698",
     "status": "completed"
    },
    "tags": []
   },
   "outputs": [
    {
     "name": "stdout",
     "output_type": "stream",
     "text": [
      "{'actif': False, 'TextVectorization__max_tokens': 200000, 'TextVectorization__output_sequence_length': 50, 'Embedding__output_dim': 500, 'Word2Vec__min_count': 1, 'Word2Vec__window': 20, 'Word2Vec__epochs': 100, 'fit__epochs': 20}\n"
     ]
    }
   ],
   "source": [
    "print(description[\"kerasPipeline\"])"
   ]
  },
  {
   "cell_type": "code",
   "execution_count": 34,
   "id": "9ed0001c",
   "metadata": {
    "execution": {
     "iopub.execute_input": "2023-01-04T16:39:25.540201Z",
     "iopub.status.busy": "2023-01-04T16:39:25.539904Z",
     "iopub.status.idle": "2023-01-04T16:39:25.588917Z",
     "shell.execute_reply": "2023-01-04T16:39:25.587929Z"
    },
    "papermill": {
     "duration": 0.072306,
     "end_time": "2023-01-04T16:39:25.591547",
     "exception": false,
     "start_time": "2023-01-04T16:39:25.519241",
     "status": "completed"
    },
    "tags": []
   },
   "outputs": [],
   "source": [
    "## https://www.tensorflow.org/api_docs/python/tf/keras/layers/TextVectorization\n",
    "# because https://www.tensorflow.org/api_docs/python/tf/keras/preprocessing/text/Tokenizer deprecaded\n",
    "vectorize_layer = tf.keras.layers.TextVectorization(\n",
    "    max_tokens=description[\"kerasPipeline\"][\"TextVectorization__max_tokens\"],\n",
    "    standardize=\"lower_and_strip_punctuation\",\n",
    "    split=\"whitespace\",\n",
    "    ngrams=None,\n",
    "    output_mode=\"int\",\n",
    "    output_sequence_length=description[\"kerasPipeline\"][\n",
    "        \"TextVectorization__output_sequence_length\"\n",
    "    ],\n",
    ")"
   ]
  },
  {
   "cell_type": "code",
   "execution_count": 35,
   "id": "62f7531f",
   "metadata": {
    "execution": {
     "iopub.execute_input": "2023-01-04T16:39:25.636713Z",
     "iopub.status.busy": "2023-01-04T16:39:25.636413Z",
     "iopub.status.idle": "2023-01-04T16:39:25.649314Z",
     "shell.execute_reply": "2023-01-04T16:39:25.648267Z"
    },
    "papermill": {
     "duration": 0.038379,
     "end_time": "2023-01-04T16:39:25.652179",
     "exception": false,
     "start_time": "2023-01-04T16:39:25.613800",
     "status": "completed"
    },
    "tags": []
   },
   "outputs": [
    {
     "name": "stdout",
     "output_type": "stream",
     "text": [
      "CPU times: user 3 µs, sys: 1 µs, total: 4 µs\n",
      "Wall time: 7.15 µs\n"
     ]
    }
   ],
   "source": [
    "%%time\n",
    "if description[\"kerasPipeline\"][\"actif\"]:\n",
    "    vectorize_layer.adapt(X_train)"
   ]
  },
  {
   "cell_type": "code",
   "execution_count": 36,
   "id": "7d8038d2",
   "metadata": {
    "execution": {
     "iopub.execute_input": "2023-01-04T16:39:25.694087Z",
     "iopub.status.busy": "2023-01-04T16:39:25.693215Z",
     "iopub.status.idle": "2023-01-04T16:39:25.960099Z",
     "shell.execute_reply": "2023-01-04T16:39:25.959194Z"
    },
    "papermill": {
     "duration": 0.289604,
     "end_time": "2023-01-04T16:39:25.962746",
     "exception": false,
     "start_time": "2023-01-04T16:39:25.673142",
     "status": "completed"
    },
    "tags": []
   },
   "outputs": [],
   "source": [
    "def build_Word2Vec(X_train, params):\n",
    "    print(\"Build & train Word2Vec model ...\")\n",
    "    X_train_token = X_train.str.split()\n",
    "    w2v_model = gensim.models.Word2Vec(\n",
    "        min_count=params[\"Word2Vec__min_count\"],\n",
    "        window=params[\"Word2Vec__window\"],\n",
    "        vector_size=params[\"Embedding__output_dim\"],\n",
    "        seed=42,\n",
    "        workers=1,\n",
    "    )\n",
    "    w2v_model.build_vocab(X_train_token)\n",
    "    w2v_model.train(\n",
    "        X_train_token,\n",
    "        total_examples=w2v_model.corpus_count,\n",
    "        epochs=params[\"Word2Vec__epochs\"],\n",
    "    )\n",
    "    model_vectors = w2v_model.wv\n",
    "    print(\"Vocabulary size: %i\" % len(model_vectors.index_to_key))\n",
    "    print(\"Word2Vec trained\")\n",
    "    return model_vectors"
   ]
  },
  {
   "cell_type": "code",
   "execution_count": 37,
   "id": "eb09d9dd",
   "metadata": {
    "execution": {
     "iopub.execute_input": "2023-01-04T16:39:26.002460Z",
     "iopub.status.busy": "2023-01-04T16:39:26.002173Z",
     "iopub.status.idle": "2023-01-04T16:39:26.019999Z",
     "shell.execute_reply": "2023-01-04T16:39:26.018685Z"
    },
    "papermill": {
     "duration": 0.040311,
     "end_time": "2023-01-04T16:39:26.022689",
     "exception": false,
     "start_time": "2023-01-04T16:39:25.982378",
     "status": "completed"
    },
    "tags": []
   },
   "outputs": [
    {
     "name": "stdout",
     "output_type": "stream",
     "text": [
      "CPU times: user 4 µs, sys: 1 µs, total: 5 µs\n",
      "Wall time: 6.91 µs\n"
     ]
    }
   ],
   "source": [
    "%%time\n",
    "if description[\"kerasPipeline\"][\"actif\"]:\n",
    "    model_vectors = build_Word2Vec(X_train, description[\"kerasPipeline\"])\n",
    "    print(\n",
    "        f\"{len(vectorize_layer.get_vocabulary())} {len(model_vectors.index_to_key)} {len(vectorize_layer.get_vocabulary())/len(model_vectors.index_to_key):.2%}\"\n",
    "    )\n",
    "# embedding_matrix, vocab_size = create_embeding(\n",
    "#    vectorize_layer.get_vocabulary(), build_Word2Vec(X_train, description[\"kerasPipeline\"]), params=description[\"kerasPipeline\"]\n",
    "# )"
   ]
  },
  {
   "cell_type": "code",
   "execution_count": 38,
   "id": "a9ec5b76",
   "metadata": {
    "execution": {
     "iopub.execute_input": "2023-01-04T16:39:26.062937Z",
     "iopub.status.busy": "2023-01-04T16:39:26.062035Z",
     "iopub.status.idle": "2023-01-04T16:39:26.088059Z",
     "shell.execute_reply": "2023-01-04T16:39:26.086851Z"
    },
    "papermill": {
     "duration": 0.04857,
     "end_time": "2023-01-04T16:39:26.090755",
     "exception": false,
     "start_time": "2023-01-04T16:39:26.042185",
     "status": "completed"
    },
    "tags": []
   },
   "outputs": [
    {
     "name": "stdout",
     "output_type": "stream",
     "text": [
      "CPU times: user 4 µs, sys: 0 ns, total: 4 µs\n",
      "Wall time: 7.15 µs\n"
     ]
    }
   ],
   "source": [
    "%%time\n",
    "if description[\"kerasPipeline\"][\"actif\"]:\n",
    "    print(\"Create Embedding matrix ...\")\n",
    "    embedding_matrix = np.asarray(\n",
    "        [\n",
    "            model_vectors[word]\n",
    "            if word in model_vectors.index_to_key\n",
    "            else np.zeros(description[\"kerasPipeline\"][\"Embedding__output_dim\"])\n",
    "            for word in vectorize_layer.get_vocabulary()\n",
    "        ]\n",
    "    )\n",
    "    embedding_matrix.shape"
   ]
  },
  {
   "cell_type": "code",
   "execution_count": 39,
   "id": "989cc13d",
   "metadata": {
    "execution": {
     "iopub.execute_input": "2023-01-04T16:39:26.132016Z",
     "iopub.status.busy": "2023-01-04T16:39:26.131100Z",
     "iopub.status.idle": "2023-01-04T16:39:26.177470Z",
     "shell.execute_reply": "2023-01-04T16:39:26.176658Z"
    },
    "papermill": {
     "duration": 0.069227,
     "end_time": "2023-01-04T16:39:26.179573",
     "exception": false,
     "start_time": "2023-01-04T16:39:26.110346",
     "status": "completed"
    },
    "tags": []
   },
   "outputs": [],
   "source": [
    "# https://www.tensorflow.org/text/guide/word_embeddings\n",
    "if description[\"kerasPipeline\"][\"actif\"]:\n",
    "    modelkerasPipeline = tf.keras.models.Sequential(\n",
    "        [\n",
    "            vectorize_layer,\n",
    "            tf.keras.layers.Embedding(\n",
    "                input_dim=len(vectorize_layer.get_vocabulary()),\n",
    "                output_dim=description[\"kerasPipeline\"][\"Embedding__output_dim\"],\n",
    "                weights=[embedding_matrix],\n",
    "                input_length=description[\"kerasPipeline\"][\n",
    "                    \"TextVectorization__output_sequence_length\"\n",
    "                ],\n",
    "            ),\n",
    "            tf.keras.layers.GlobalAveragePooling1D(),\n",
    "            tf.keras.layers.Dense(16, activation=\"relu\"),\n",
    "            tf.keras.layers.Dense(21),\n",
    "        ]\n",
    "    )\n",
    "    # tensorboard_callback = tf.keras.callbacks.TensorBoard(log_dir=\"logs\") # for log create a dir\n",
    "    modelkerasPipeline.compile(\n",
    "        optimizer=\"adam\",\n",
    "        loss=tf.keras.losses.BinaryCrossentropy(from_logits=True),\n",
    "        metrics=[\"accuracy\"],\n",
    "    )"
   ]
  },
  {
   "cell_type": "code",
   "execution_count": 40,
   "id": "a68e1dcd",
   "metadata": {
    "execution": {
     "iopub.execute_input": "2023-01-04T16:39:26.218988Z",
     "iopub.status.busy": "2023-01-04T16:39:26.218699Z",
     "iopub.status.idle": "2023-01-04T16:39:26.235943Z",
     "shell.execute_reply": "2023-01-04T16:39:26.234660Z"
    },
    "papermill": {
     "duration": 0.039754,
     "end_time": "2023-01-04T16:39:26.238447",
     "exception": false,
     "start_time": "2023-01-04T16:39:26.198693",
     "status": "completed"
    },
    "tags": []
   },
   "outputs": [
    {
     "name": "stdout",
     "output_type": "stream",
     "text": [
      "CPU times: user 3 µs, sys: 0 ns, total: 3 µs\n",
      "Wall time: 6.91 µs\n"
     ]
    }
   ],
   "source": [
    "%%time\n",
    "if description[\"kerasPipeline\"][\"actif\"]:\n",
    "    modelkerasPipeline.fit(\n",
    "        X_train,\n",
    "        y_train,\n",
    "        epochs=description[\"kerasPipeline\"][\"fit__epochs\"],\n",
    "        # callbacks=[tensorboard_callback],\n",
    "    )"
   ]
  },
  {
   "cell_type": "code",
   "execution_count": 41,
   "id": "fb8f86c2",
   "metadata": {
    "execution": {
     "iopub.execute_input": "2023-01-04T16:39:26.280703Z",
     "iopub.status.busy": "2023-01-04T16:39:26.279289Z",
     "iopub.status.idle": "2023-01-04T16:39:26.306149Z",
     "shell.execute_reply": "2023-01-04T16:39:26.304952Z"
    },
    "papermill": {
     "duration": 0.048897,
     "end_time": "2023-01-04T16:39:26.307999",
     "exception": false,
     "start_time": "2023-01-04T16:39:26.259102",
     "status": "completed"
    },
    "tags": []
   },
   "outputs": [
    {
     "name": "stdout",
     "output_type": "stream",
     "text": [
      "CPU times: user 3 µs, sys: 1 µs, total: 4 µs\n",
      "Wall time: 6.91 µs\n"
     ]
    }
   ],
   "source": [
    "%%time\n",
    "if description[\"kerasPipeline\"][\"actif\"]:\n",
    "    pred_kerasword2vec_proba = modelkerasPipeline.predict(X_test)\n",
    "    #     print(pred_kerasword2vec_proba)\n",
    "    pred_kerasword2vec = pd.DataFrame(\n",
    "        [\n",
    "            {tag: pred_tag > 0 for pred_tag, tag in zip(pred, target_names)}\n",
    "            for pred in pred_kerasword2vec_proba\n",
    "        ]\n",
    "    )\n",
    "    print(pred_kerasword2vec.value_counts())"
   ]
  },
  {
   "cell_type": "code",
   "execution_count": 42,
   "id": "c85c7a16",
   "metadata": {
    "execution": {
     "iopub.execute_input": "2023-01-04T16:39:26.347312Z",
     "iopub.status.busy": "2023-01-04T16:39:26.347054Z",
     "iopub.status.idle": "2023-01-04T16:39:26.365329Z",
     "shell.execute_reply": "2023-01-04T16:39:26.364506Z"
    },
    "papermill": {
     "duration": 0.040169,
     "end_time": "2023-01-04T16:39:26.367293",
     "exception": false,
     "start_time": "2023-01-04T16:39:26.327124",
     "status": "completed"
    },
    "tags": []
   },
   "outputs": [],
   "source": [
    "if description[\"kerasPipeline\"][\"actif\"]:\n",
    "    scores_kerasword2vec = save_score(\n",
    "        y_test,\n",
    "        pred_kerasword2vec,\n",
    "        target_names,\n",
    "        \"kerasPipeline\",\n",
    "    )\n",
    "    print(scores_kerasword2vec.sort_values(by=\"f1-score\", ascending=False))\n",
    "    modelkerasPipeline.save(\"kerasPipeline\")"
   ]
  },
  {
   "cell_type": "markdown",
   "id": "cd986569",
   "metadata": {
    "papermill": {
     "duration": 0.01871,
     "end_time": "2023-01-04T16:39:26.405328",
     "exception": false,
     "start_time": "2023-01-04T16:39:26.386618",
     "status": "completed"
    },
    "tags": []
   },
   "source": [
    "## Word2Vec puis OvR SVC"
   ]
  },
  {
   "cell_type": "code",
   "execution_count": 43,
   "id": "3b61c88c",
   "metadata": {
    "_kg_hide-input": true,
    "execution": {
     "iopub.execute_input": "2023-01-04T16:39:26.445585Z",
     "iopub.status.busy": "2023-01-04T16:39:26.444826Z",
     "iopub.status.idle": "2023-01-04T16:39:26.471224Z",
     "shell.execute_reply": "2023-01-04T16:39:26.470384Z"
    },
    "papermill": {
     "duration": 0.048691,
     "end_time": "2023-01-04T16:39:26.473185",
     "exception": false,
     "start_time": "2023-01-04T16:39:26.424494",
     "status": "completed"
    },
    "tags": []
   },
   "outputs": [],
   "source": [
    "from kerasembedtransformerclass import KerasEmbedTransformer\n",
    "\n",
    "# class KerasEmbedTransformer(BaseEstimator, TransformerMixin):\n",
    "#     def init(self, params):\n",
    "#         self.params = params\n",
    "#         return self\n",
    "\n",
    "#     def fit(self, X, y=None):\n",
    "#         self.embed_model, self.tokenizer = self.create_keras_model(X)\n",
    "#         return self\n",
    "\n",
    "#     def transform(self, X, y=None):\n",
    "#         x_sentences = keras.preprocessing.sequence.pad_sequences(\n",
    "#             self.tokenizer.texts_to_sequences(X),\n",
    "#             maxlen=self.params[\"maxlen\"],\n",
    "#             padding=\"post\",\n",
    "#         )\n",
    "#         embeddings = self.embed_model.predict(x_sentences)\n",
    "#         print(\"embedings shape \", embeddings.shape)\n",
    "#         return embeddings\n",
    "\n",
    "#     def save(self, filename):\n",
    "#         joblib.dump(self.tokenizer, f\"{filename}.tokenizer\")\n",
    "#         self.embed_model.save(\n",
    "#             f\"{filename}.model\"\n",
    "#         )  # This hack allows us to save the sklearn pipeline\n",
    "#         self.embed_model = None\n",
    "#         return self\n",
    "\n",
    "#     def load(self, filename, params):\n",
    "#         self.tokenizer = joblib.load(f\"{filename}.tokenizer\")\n",
    "#         self.embed_model = keras.models.load_model(f\"{filename}.model\")\n",
    "#         self.init(params)\n",
    "#         return self\n",
    "\n",
    "#     def create_embeding(self, word_index, model_vectors):\n",
    "#         vocab_size = len(word_index) + 1\n",
    "#         print(f\"Number of unique words: {vocab_size}\")\n",
    "#         print(\"Create Embedding matrix ...\")\n",
    "#         embedding_matrix = np.zeros((vocab_size, self.params[\"size\"]))\n",
    "#         i = 0\n",
    "#         j = 0\n",
    "\n",
    "#         for word, idx in word_index.items():\n",
    "#             i += 1\n",
    "#             if word in model_vectors.index_to_key:\n",
    "#                 j += 1\n",
    "#                 embedding_vector = model_vectors[word]\n",
    "#                 if embedding_vector is not None:\n",
    "#                     embedding_matrix[idx] = model_vectors[word]\n",
    "\n",
    "#         word_rate = np.round(j / i, 4)\n",
    "#         print(\"Word embedding rate : \", word_rate)\n",
    "#         print(\"Embedding matrix: %s\" % str(embedding_matrix.shape))\n",
    "#         return (embedding_matrix, vocab_size)\n",
    "\n",
    "#     def create_keras_model(self, X_train):\n",
    "#         print(\"Build & train Word2Vec model ...\")\n",
    "#         X_train_token = X_train.str.split()\n",
    "#         w2v_model = gensim.models.Word2Vec(\n",
    "#             min_count=self.params[\"min_count\"],\n",
    "#             window=self.params[\"window\"],\n",
    "#             vector_size=self.params[\"size\"],\n",
    "#             seed=42,\n",
    "#             workers=1,\n",
    "#         )\n",
    "#         w2v_model.build_vocab(X_train_token)\n",
    "#         w2v_model.train(\n",
    "#             X_train_token,\n",
    "#             total_examples=w2v_model.corpus_count,\n",
    "#             epochs=self.params[\"epochs\"],\n",
    "#         )\n",
    "#         model_vectors = w2v_model.wv\n",
    "#         print(\"Vocabulary size: %i\" % len(model_vectors.index_to_key))\n",
    "#         print(\"Word2Vec trained\")\n",
    "\n",
    "#         tokenizer = keras.preprocessing.text.Tokenizer()\n",
    "#         tokenizer.fit_on_texts(X_train_token)\n",
    "#         embedding_matrix, vocab_size = self.create_embeding(\n",
    "#             tokenizer.word_index, model_vectors\n",
    "#         )\n",
    "\n",
    "#         word_input = keras.layers.Input(shape=(self.params[\"maxlen\"],), dtype=\"float64\")\n",
    "#         word_embedding = keras.layers.Embedding(\n",
    "#             input_dim=vocab_size,\n",
    "#             output_dim=self.params[\"size\"],\n",
    "#             weights=[embedding_matrix],\n",
    "#             input_length=self.params[\"maxlen\"],\n",
    "#         )(word_input)\n",
    "#         word_vec = keras.layers.GlobalAveragePooling1D()(word_embedding)\n",
    "#         embed_model = keras.models.Model([word_input], word_vec)\n",
    "#         print(embed_model.summary())\n",
    "\n",
    "#         return (embed_model, tokenizer)"
   ]
  },
  {
   "cell_type": "code",
   "execution_count": 44,
   "id": "6592fb28",
   "metadata": {
    "execution": {
     "iopub.execute_input": "2023-01-04T16:39:26.513138Z",
     "iopub.status.busy": "2023-01-04T16:39:26.512331Z",
     "iopub.status.idle": "2023-01-04T16:39:26.551731Z",
     "shell.execute_reply": "2023-01-04T16:39:26.550803Z"
    },
    "papermill": {
     "duration": 0.062256,
     "end_time": "2023-01-04T16:39:26.554554",
     "exception": false,
     "start_time": "2023-01-04T16:39:26.492298",
     "status": "completed"
    },
    "tags": []
   },
   "outputs": [
    {
     "name": "stdout",
     "output_type": "stream",
     "text": [
      "CPU times: user 113 µs, sys: 18 µs, total: 131 µs\n",
      "Wall time: 134 µs\n"
     ]
    }
   ],
   "source": [
    "%%time\n",
    "# KerasEmbed = KerasEmbedTransformer().init(description[\"Word2Vec\"])\n",
    "pipeline_w2v = pipeline.Pipeline(\n",
    "    [\n",
    "        (\n",
    "            \"keras_embed_transformer\",\n",
    "            KerasEmbedTransformer().init(description[\"Word2Vec\"]),\n",
    "        ),\n",
    "        (\n",
    "            \"Word2Vec\",\n",
    "            multiclass.OneVsRestClassifier(\n",
    "                svm.SVC(\n",
    "                    cache_size=1080,\n",
    "                    max_iter=description[\"Word2Vec\"][\"max_iter\"],\n",
    "                    random_state=42,\n",
    "                )\n",
    "            ),\n",
    "        ),\n",
    "    ]\n",
    ")\n",
    "\n",
    "if description[\"Word2Vec\"][\"actif\"]:\n",
    "    with ignore_warnings(category=exceptions.ConvergenceWarning):\n",
    "        pipeline_w2v.fit(X_train, y_train)\n",
    "#         pipeline_w2v.fit(X_train[0:10], y_train[0:10])"
   ]
  },
  {
   "cell_type": "code",
   "execution_count": 45,
   "id": "be24b904",
   "metadata": {
    "execution": {
     "iopub.execute_input": "2023-01-04T16:39:26.596303Z",
     "iopub.status.busy": "2023-01-04T16:39:26.595420Z",
     "iopub.status.idle": "2023-01-04T16:39:26.609468Z",
     "shell.execute_reply": "2023-01-04T16:39:26.608177Z"
    },
    "papermill": {
     "duration": 0.036723,
     "end_time": "2023-01-04T16:39:26.612124",
     "exception": false,
     "start_time": "2023-01-04T16:39:26.575401",
     "status": "completed"
    },
    "tags": []
   },
   "outputs": [
    {
     "name": "stdout",
     "output_type": "stream",
     "text": [
      "CPU times: user 4 µs, sys: 0 ns, total: 4 µs\n",
      "Wall time: 6.91 µs\n"
     ]
    }
   ],
   "source": [
    "%%time\n",
    "if description[\"Word2Vec\"][\"actif\"]:\n",
    "    pred_word2vec = pipeline_w2v.predict(X_test)\n",
    "    print(pred_word2vec)"
   ]
  },
  {
   "cell_type": "markdown",
   "id": "cc60568c",
   "metadata": {
    "papermill": {
     "duration": 0.019573,
     "end_time": "2023-01-04T16:39:26.652158",
     "exception": false,
     "start_time": "2023-01-04T16:39:26.632585",
     "status": "completed"
    },
    "tags": []
   },
   "source": [
    "### i got the same issue as:\n",
    "https://stackoverflow.com/questions/37984304/how-to-save-a-scikit-learn-pipline-with-keras-regressor-inside-to-disk  \n",
    "Solution is to save keras model in separate file than remove it from the pipeline so it can be save with joblib  \n",
    "I did that in my `KerasEmbedTransformer` class `save` & `load` method"
   ]
  },
  {
   "cell_type": "code",
   "execution_count": 46,
   "id": "0c396f3a",
   "metadata": {
    "execution": {
     "iopub.execute_input": "2023-01-04T16:39:26.692490Z",
     "iopub.status.busy": "2023-01-04T16:39:26.691963Z",
     "iopub.status.idle": "2023-01-04T16:39:26.709990Z",
     "shell.execute_reply": "2023-01-04T16:39:26.709132Z"
    },
    "papermill": {
     "duration": 0.039982,
     "end_time": "2023-01-04T16:39:26.711930",
     "exception": false,
     "start_time": "2023-01-04T16:39:26.671948",
     "status": "completed"
    },
    "tags": []
   },
   "outputs": [],
   "source": [
    "if description[\"Word2Vec\"][\"actif\"]:\n",
    "    pipeline_w2v.named_steps[\"keras_embed_transformer\"].save(\"keras\")\n",
    "    # Otherwise i can save it but not load in api\n",
    "    #     pipeline_w2v.named_steps[\"keras_embed_transformer\"] = \"passthrough\"  # __module__\n",
    "    #     pipeline_w2v.named_steps[\"keras_embed_transformer\"].__module__ = None\n",
    "    ## i have issue loading the joblib in api so i try to delete the step from the pipeline\n",
    "    pipeline_w2v.steps.pop(0)\n",
    "    pipeline_w2v.steps.insert(0, (\"keras_embed_transformer\", \"passthrough\"))\n",
    "    print(pipeline_w2v)"
   ]
  },
  {
   "cell_type": "code",
   "execution_count": 47,
   "id": "f9d60f52",
   "metadata": {
    "execution": {
     "iopub.execute_input": "2023-01-04T16:39:26.751757Z",
     "iopub.status.busy": "2023-01-04T16:39:26.751490Z",
     "iopub.status.idle": "2023-01-04T16:39:26.769124Z",
     "shell.execute_reply": "2023-01-04T16:39:26.768274Z"
    },
    "papermill": {
     "duration": 0.040205,
     "end_time": "2023-01-04T16:39:26.771079",
     "exception": false,
     "start_time": "2023-01-04T16:39:26.730874",
     "status": "completed"
    },
    "tags": []
   },
   "outputs": [],
   "source": [
    "if description[\"Word2Vec\"][\"actif\"]:\n",
    "    scores_word2vec = save_score(y_test, pred_word2vec, target_names, \"Word2Vec\")\n",
    "    joblib.dump(pipeline_w2v, \"Word2Vec_model.joblib\")\n",
    "    print(scores_word2vec.sort_values(by=\"precision\", ascending=False))"
   ]
  },
  {
   "cell_type": "markdown",
   "id": "4bd953de",
   "metadata": {
    "papermill": {
     "duration": 0.019278,
     "end_time": "2023-01-04T16:39:26.809634",
     "exception": false,
     "start_time": "2023-01-04T16:39:26.790356",
     "status": "completed"
    },
    "tags": []
   },
   "source": [
    "### test to reimport saved model"
   ]
  },
  {
   "cell_type": "code",
   "execution_count": 48,
   "id": "d4960ab9",
   "metadata": {
    "execution": {
     "iopub.execute_input": "2023-01-04T16:39:26.849692Z",
     "iopub.status.busy": "2023-01-04T16:39:26.848951Z",
     "iopub.status.idle": "2023-01-04T16:39:26.867139Z",
     "shell.execute_reply": "2023-01-04T16:39:26.866399Z"
    },
    "papermill": {
     "duration": 0.04,
     "end_time": "2023-01-04T16:39:26.869159",
     "exception": false,
     "start_time": "2023-01-04T16:39:26.829159",
     "status": "completed"
    },
    "tags": []
   },
   "outputs": [],
   "source": [
    "if description[\"Word2Vec\"][\"actif\"] and LONG:\n",
    "    loaded = joblib.load(\"/kaggle/working/Word2Vec_model.joblib\")\n",
    "    loaded.named_steps[\"keras_embed_transformer\"] = KerasEmbedTransformer().load(\n",
    "        \"/kaggle/working/keras\", description[\"Word2Vec\"]\n",
    "    )\n",
    "    pred_word2vec == loaded.predict(X_test)"
   ]
  },
  {
   "cell_type": "markdown",
   "id": "05c365bc",
   "metadata": {
    "papermill": {
     "duration": 0.019081,
     "end_time": "2023-01-04T16:39:26.907350",
     "exception": false,
     "start_time": "2023-01-04T16:39:26.888269",
     "status": "completed"
    },
    "tags": []
   },
   "source": [
    "# BERT"
   ]
  },
  {
   "cell_type": "code",
   "execution_count": 49,
   "id": "0b90d609",
   "metadata": {
    "execution": {
     "iopub.execute_input": "2023-01-04T16:39:26.947590Z",
     "iopub.status.busy": "2023-01-04T16:39:26.946173Z",
     "iopub.status.idle": "2023-01-04T16:39:26.954405Z",
     "shell.execute_reply": "2023-01-04T16:39:26.953497Z"
    },
    "papermill": {
     "duration": 0.030072,
     "end_time": "2023-01-04T16:39:26.956339",
     "exception": false,
     "start_time": "2023-01-04T16:39:26.926267",
     "status": "completed"
    },
    "tags": []
   },
   "outputs": [
    {
     "data": {
      "text/plain": [
       "{'actif': True, 'max_length': 100, 'epochs': 5}"
      ]
     },
     "execution_count": 49,
     "metadata": {},
     "output_type": "execute_result"
    }
   ],
   "source": [
    "description[\"BERT\"]"
   ]
  },
  {
   "cell_type": "code",
   "execution_count": 50,
   "id": "53b4c9d9",
   "metadata": {
    "execution": {
     "iopub.execute_input": "2023-01-04T16:39:26.996764Z",
     "iopub.status.busy": "2023-01-04T16:39:26.996502Z",
     "iopub.status.idle": "2023-01-04T16:39:27.001185Z",
     "shell.execute_reply": "2023-01-04T16:39:27.000263Z"
    },
    "papermill": {
     "duration": 0.027209,
     "end_time": "2023-01-04T16:39:27.003187",
     "exception": false,
     "start_time": "2023-01-04T16:39:26.975978",
     "status": "completed"
    },
    "tags": []
   },
   "outputs": [],
   "source": [
    "# import torch\n",
    "# torch.cuda.is_available()"
   ]
  },
  {
   "cell_type": "code",
   "execution_count": 51,
   "id": "d456ae79",
   "metadata": {
    "execution": {
     "iopub.execute_input": "2023-01-04T16:39:27.043133Z",
     "iopub.status.busy": "2023-01-04T16:39:27.042395Z",
     "iopub.status.idle": "2023-01-04T16:39:27.052182Z",
     "shell.execute_reply": "2023-01-04T16:39:27.051200Z"
    },
    "papermill": {
     "duration": 0.032009,
     "end_time": "2023-01-04T16:39:27.054251",
     "exception": false,
     "start_time": "2023-01-04T16:39:27.022242",
     "status": "completed"
    },
    "tags": []
   },
   "outputs": [
    {
     "data": {
      "text/plain": [
       "BertConfig {\n",
       "  \"attention_probs_dropout_prob\": 0.1,\n",
       "  \"classifier_dropout\": null,\n",
       "  \"hidden_act\": \"gelu\",\n",
       "  \"hidden_dropout_prob\": 0.1,\n",
       "  \"hidden_size\": 768,\n",
       "  \"initializer_range\": 0.02,\n",
       "  \"intermediate_size\": 3072,\n",
       "  \"layer_norm_eps\": 1e-12,\n",
       "  \"max_position_embeddings\": 512,\n",
       "  \"model_type\": \"bert\",\n",
       "  \"num_attention_heads\": 12,\n",
       "  \"num_hidden_layers\": 12,\n",
       "  \"pad_token_id\": 0,\n",
       "  \"position_embedding_type\": \"absolute\",\n",
       "  \"transformers_version\": \"4.20.1\",\n",
       "  \"type_vocab_size\": 2,\n",
       "  \"use_cache\": true,\n",
       "  \"vocab_size\": 30522\n",
       "}"
      ]
     },
     "execution_count": 51,
     "metadata": {},
     "output_type": "execute_result"
    }
   ],
   "source": [
    "configuration = BertConfig()\n",
    "configuration"
   ]
  },
  {
   "cell_type": "code",
   "execution_count": 52,
   "id": "e821e187",
   "metadata": {
    "execution": {
     "iopub.execute_input": "2023-01-04T16:39:27.094730Z",
     "iopub.status.busy": "2023-01-04T16:39:27.093997Z",
     "iopub.status.idle": "2023-01-04T16:39:31.328332Z",
     "shell.execute_reply": "2023-01-04T16:39:31.327415Z"
    },
    "papermill": {
     "duration": 4.256599,
     "end_time": "2023-01-04T16:39:31.330468",
     "exception": false,
     "start_time": "2023-01-04T16:39:27.073869",
     "status": "completed"
    },
    "tags": []
   },
   "outputs": [
    {
     "data": {
      "application/vnd.jupyter.widget-view+json": {
       "model_id": "64eb7e130d404aab99c2bb128a601b34",
       "version_major": 2,
       "version_minor": 0
      },
      "text/plain": [
       "Downloading:   0%|          | 0.00/226k [00:00<?, ?B/s]"
      ]
     },
     "metadata": {},
     "output_type": "display_data"
    },
    {
     "data": {
      "application/vnd.jupyter.widget-view+json": {
       "model_id": "ebae85a44e024f37af8b0ede611250dd",
       "version_major": 2,
       "version_minor": 0
      },
      "text/plain": [
       "Downloading:   0%|          | 0.00/28.0 [00:00<?, ?B/s]"
      ]
     },
     "metadata": {},
     "output_type": "display_data"
    },
    {
     "data": {
      "application/vnd.jupyter.widget-view+json": {
       "model_id": "5af73c611bcd4a7da50e96c208ba5090",
       "version_major": 2,
       "version_minor": 0
      },
      "text/plain": [
       "Downloading:   0%|          | 0.00/570 [00:00<?, ?B/s]"
      ]
     },
     "metadata": {},
     "output_type": "display_data"
    }
   ],
   "source": [
    "if description[\"BERT\"][\"actif\"]:\n",
    "    slow_tokenizer = BertTokenizer.from_pretrained(\n",
    "        \"bert-base-uncased\", model_max_length=description[\"BERT\"][\"max_length\"]\n",
    "    )\n",
    "    save_path = \"bert_base_uncased/\"\n",
    "    if not os.path.exists(save_path):\n",
    "        os.makedirs(save_path)\n",
    "    slow_tokenizer.save_pretrained(save_path)\n",
    "    # from https://keras.io/examples/nlp/text_extraction_with_bert/\n",
    "    # Load the fast tokenizer from saved file\n",
    "    tokenizer = BertWordPieceTokenizer(\"bert_base_uncased/vocab.txt\", lowercase=True)"
   ]
  },
  {
   "cell_type": "code",
   "execution_count": 53,
   "id": "6540b289",
   "metadata": {
    "execution": {
     "iopub.execute_input": "2023-01-04T16:39:31.372480Z",
     "iopub.status.busy": "2023-01-04T16:39:31.371764Z",
     "iopub.status.idle": "2023-01-04T16:39:31.390162Z",
     "shell.execute_reply": "2023-01-04T16:39:31.389229Z"
    },
    "papermill": {
     "duration": 0.041047,
     "end_time": "2023-01-04T16:39:31.392112",
     "exception": false,
     "start_time": "2023-01-04T16:39:31.351065",
     "status": "completed"
    },
    "tags": []
   },
   "outputs": [],
   "source": [
    "def create_bert_input_target(X, params):\n",
    "    x_encoded = tokenizer.encode(X)\n",
    "    x_encoded.truncate(params[\"max_length\"])\n",
    "    x_encoded.pad(params[\"max_length\"])\n",
    "    #     print(len(x_encoded.ids))\n",
    "    #     print(len(x_encoded.attention_mask))\n",
    "    #     params[\"max_length\"]\n",
    "    #     return np.array(\n",
    "    #         [\n",
    "    #             np.array((encoded_id, attention_mask))\n",
    "    #             for encoded_id, attention_mask in zip(\n",
    "    #                 x_encoded.ids, x_encoded.attention_mask\n",
    "    #             )\n",
    "    #         ]\n",
    "    #     )\n",
    "    #     return {\"ids\": x_encoded.ids, \"attention_mask\": x_encoded.attention_mask}\n",
    "    #     return np.array(x_encoded.ids), np.array(x_encoded.attention_mask)\n",
    "    return np.array(x_encoded.ids)"
   ]
  },
  {
   "cell_type": "code",
   "execution_count": 54,
   "id": "00830c80",
   "metadata": {
    "execution": {
     "iopub.execute_input": "2023-01-04T16:39:31.432674Z",
     "iopub.status.busy": "2023-01-04T16:39:31.432409Z",
     "iopub.status.idle": "2023-01-04T16:39:31.485255Z",
     "shell.execute_reply": "2023-01-04T16:39:31.484423Z"
    },
    "papermill": {
     "duration": 0.075626,
     "end_time": "2023-01-04T16:39:31.487386",
     "exception": false,
     "start_time": "2023-01-04T16:39:31.411760",
     "status": "completed"
    },
    "tags": []
   },
   "outputs": [],
   "source": [
    "def create_bert_model(params):\n",
    "    ## BERT encoder\n",
    "    encoder = TFBertModel.from_pretrained(\"bert-base-uncased\")\n",
    "\n",
    "    inputs = tf.keras.layers.Input(\n",
    "        shape=(params[\"max_length\"],),\n",
    "        dtype=tf.int32,\n",
    "    )\n",
    "    embedding = encoder(inputs)[0]\n",
    "\n",
    "    #     layerDense = tf.keras.layers.Dense(\n",
    "    #         len(target_names), name=\"start_logit\", use_bias=False\n",
    "    #     )(embedding)\n",
    "    #     layerDense = tf.keras.layers.Flatten()(layerDense)\n",
    "    #     end_layer = tf.keras.layers.Activation(tf.keras.activations.softmax)(layerDense)\n",
    "\n",
    "    #     layerFlat = tf.keras.layers.Flatten()(embedding)\n",
    "    layerGAvg = tf.keras.layers.GlobalAveragePooling1D()(embedding)\n",
    "    #     layerDense = tf.keras.layers.Dense(16 * len(target_names), activation=\"relu\")(\n",
    "    #         layerGAvg\n",
    "    #     )\n",
    "    #     layerEnd = tf.keras.layers.Dense(\n",
    "    #         len(target_names)  # , name=\"start_logit\", use_bias=False\n",
    "    #     )(layerDense)\n",
    "    layerDense = tf.keras.layers.Dense(len(target_names), activation=\"relu\")(layerGAvg)\n",
    "    layerEnd = tf.keras.layers.Activation(tf.keras.activations.softmax)(layerDense)\n",
    "    model = tf.keras.Model(\n",
    "        inputs=[inputs],\n",
    "        outputs=[layerEnd],\n",
    "    )\n",
    "    #     loss = tf.keras.losses.SparseCategoricalCrossentropy(from_logits=False)\n",
    "    #     optimizer = tf.keras.optimizers.Adam(learning_rate=5e-5)\n",
    "    #     model.compile(optimizer=optimizer, loss=[loss, loss])\n",
    "    model.compile(\n",
    "        optimizer=\"adam\",\n",
    "        loss=tf.keras.losses.BinaryCrossentropy(from_logits=True),\n",
    "        # https://keras.io/api/metrics/classification_metrics/#auc-class\n",
    "        #         metrics=tf.keras.metrics.AUC(\n",
    "        #             num_thresholds=200,\n",
    "        #             curve=\"PR\",  # \"ROC\"default\n",
    "        #             summation_method=\"interpolation\",\n",
    "        #             name=None,\n",
    "        #             dtype=None,\n",
    "        #             thresholds=None,\n",
    "        #             multi_label=True,\n",
    "        #             num_labels=len(target_names),\n",
    "        #             label_weights=None,\n",
    "        #             from_logits=True,\n",
    "        #         ),\n",
    "        metrics=[\"accuracy\"],\n",
    "    )\n",
    "    return model"
   ]
  },
  {
   "cell_type": "code",
   "execution_count": 55,
   "id": "d60ed361",
   "metadata": {
    "execution": {
     "iopub.execute_input": "2023-01-04T16:39:31.527865Z",
     "iopub.status.busy": "2023-01-04T16:39:31.527584Z",
     "iopub.status.idle": "2023-01-04T16:39:51.291765Z",
     "shell.execute_reply": "2023-01-04T16:39:51.290752Z"
    },
    "papermill": {
     "duration": 19.787369,
     "end_time": "2023-01-04T16:39:51.294306",
     "exception": false,
     "start_time": "2023-01-04T16:39:31.506937",
     "status": "completed"
    },
    "tags": []
   },
   "outputs": [
    {
     "data": {
      "application/vnd.jupyter.widget-view+json": {
       "model_id": "017a52f453d54c92a8c6c41f1adfd9d2",
       "version_major": 2,
       "version_minor": 0
      },
      "text/plain": [
       "Downloading:   0%|          | 0.00/511M [00:00<?, ?B/s]"
      ]
     },
     "metadata": {},
     "output_type": "display_data"
    },
    {
     "name": "stderr",
     "output_type": "stream",
     "text": [
      "Some layers from the model checkpoint at bert-base-uncased were not used when initializing TFBertModel: ['nsp___cls', 'mlm___cls']\n",
      "- This IS expected if you are initializing TFBertModel from the checkpoint of a model trained on another task or with another architecture (e.g. initializing a BertForSequenceClassification model from a BertForPreTraining model).\n",
      "- This IS NOT expected if you are initializing TFBertModel from the checkpoint of a model that you expect to be exactly identical (initializing a BertForSequenceClassification model from a BertForSequenceClassification model).\n",
      "All the layers of TFBertModel were initialized from the model checkpoint at bert-base-uncased.\n",
      "If your task is similar to the task the model of the checkpoint was trained on, you can already use TFBertModel for predictions without further training.\n"
     ]
    },
    {
     "name": "stdout",
     "output_type": "stream",
     "text": [
      "Model: \"model\"\n",
      "_________________________________________________________________\n",
      "Layer (type)                 Output Shape              Param #   \n",
      "=================================================================\n",
      "input_1 (InputLayer)         [(None, 100)]             0         \n",
      "_________________________________________________________________\n",
      "tf_bert_model (TFBertModel)  TFBaseModelOutputWithPool 109482240 \n",
      "_________________________________________________________________\n",
      "global_average_pooling1d (Gl (None, 768)               0         \n",
      "_________________________________________________________________\n",
      "dense (Dense)                (None, 21)                16149     \n",
      "_________________________________________________________________\n",
      "activation (Activation)      (None, 21)                0         \n",
      "=================================================================\n",
      "Total params: 109,498,389\n",
      "Trainable params: 109,498,389\n",
      "Non-trainable params: 0\n",
      "_________________________________________________________________\n",
      "None\n"
     ]
    }
   ],
   "source": [
    "if description[\"BERT\"][\"actif\"]:\n",
    "    bert_model = create_bert_model(params=description[\"BERT\"])\n",
    "    print(bert_model.summary())"
   ]
  },
  {
   "cell_type": "code",
   "execution_count": 56,
   "id": "27a1abc4",
   "metadata": {
    "execution": {
     "iopub.execute_input": "2023-01-04T16:39:51.337702Z",
     "iopub.status.busy": "2023-01-04T16:39:51.337273Z",
     "iopub.status.idle": "2023-01-04T16:39:51.342373Z",
     "shell.execute_reply": "2023-01-04T16:39:51.341384Z"
    },
    "papermill": {
     "duration": 0.027776,
     "end_time": "2023-01-04T16:39:51.344356",
     "exception": false,
     "start_time": "2023-01-04T16:39:51.316580",
     "status": "completed"
    },
    "tags": []
   },
   "outputs": [],
   "source": [
    "# create_bert_input_target(X_train.values[1], params=description[\"BERT\"])"
   ]
  },
  {
   "cell_type": "code",
   "execution_count": 57,
   "id": "5dc5c9a7",
   "metadata": {
    "execution": {
     "iopub.execute_input": "2023-01-04T16:39:51.385903Z",
     "iopub.status.busy": "2023-01-04T16:39:51.385111Z",
     "iopub.status.idle": "2023-01-04T16:39:51.391133Z",
     "shell.execute_reply": "2023-01-04T16:39:51.390217Z"
    },
    "papermill": {
     "duration": 0.028885,
     "end_time": "2023-01-04T16:39:51.393078",
     "exception": false,
     "start_time": "2023-01-04T16:39:51.364193",
     "status": "completed"
    },
    "tags": []
   },
   "outputs": [],
   "source": [
    "# %%time\n",
    "# X_train_bert = X_train[0:100].apply(\n",
    "#     lambda x: create_bert_input_target(x, description[\"BERT\"])\n",
    "# )\n",
    "# X_train_bert.values\n",
    "# # CPU times: user 19 s, sys: 125 ms, total: 19.1 s\n",
    "# # Wall time: 19.1 s"
   ]
  },
  {
   "cell_type": "code",
   "execution_count": 58,
   "id": "d1649d05",
   "metadata": {
    "execution": {
     "iopub.execute_input": "2023-01-04T16:39:51.434637Z",
     "iopub.status.busy": "2023-01-04T16:39:51.433733Z",
     "iopub.status.idle": "2023-01-04T16:39:51.439458Z",
     "shell.execute_reply": "2023-01-04T16:39:51.438654Z"
    },
    "papermill": {
     "duration": 0.028163,
     "end_time": "2023-01-04T16:39:51.441356",
     "exception": false,
     "start_time": "2023-01-04T16:39:51.413193",
     "status": "completed"
    },
    "tags": []
   },
   "outputs": [],
   "source": [
    "# %%time\n",
    "# test = np.array(\n",
    "#     [create_bert_input_target(x, description[\"BERT\"]) for x in X_train[0:100].values]\n",
    "# )\n",
    "# test\n",
    "# # CPU times: user 19.2 s, sys: 149 ms, total: 19.4 s\n",
    "# # Wall time: 19.4 s"
   ]
  },
  {
   "cell_type": "code",
   "execution_count": 59,
   "id": "135edd46",
   "metadata": {
    "execution": {
     "iopub.execute_input": "2023-01-04T16:39:51.482694Z",
     "iopub.status.busy": "2023-01-04T16:39:51.481822Z",
     "iopub.status.idle": "2023-01-04T18:07:43.797974Z",
     "shell.execute_reply": "2023-01-04T18:07:43.796982Z"
    },
    "papermill": {
     "duration": 5272.35957,
     "end_time": "2023-01-04T18:07:43.820819",
     "exception": false,
     "start_time": "2023-01-04T16:39:51.461249",
     "status": "completed"
    },
    "tags": []
   },
   "outputs": [
    {
     "name": "stderr",
     "output_type": "stream",
     "text": [
      "2023-01-04 16:40:11.388361: I tensorflow/compiler/mlir/mlir_graph_optimization_pass.cc:185] None of the MLIR Optimization Passes are enabled (registered 2)\n"
     ]
    },
    {
     "name": "stdout",
     "output_type": "stream",
     "text": [
      "Epoch 1/5\n"
     ]
    },
    {
     "name": "stderr",
     "output_type": "stream",
     "text": [
      "/opt/conda/lib/python3.7/site-packages/keras/backend.py:4994: UserWarning: \"`binary_crossentropy` received `from_logits=True`, but the `output` argument was produced by a sigmoid or softmax activation and thus does not represent logits. Was this intended?\"\n",
      "  '\"`binary_crossentropy` received `from_logits=True`, but the `output`'\n"
     ]
    },
    {
     "name": "stdout",
     "output_type": "stream",
     "text": [
      "2776/2776 - 1063s - loss: 0.6947 - accuracy: 0.3243\n",
      "Epoch 2/5\n",
      "2776/2776 - 1048s - loss: 0.6931 - accuracy: 0.3253\n",
      "Epoch 3/5\n",
      "2776/2776 - 1047s - loss: 0.6931 - accuracy: 0.3253\n",
      "Epoch 4/5\n",
      "2776/2776 - 1048s - loss: 0.6931 - accuracy: 0.3253\n",
      "Epoch 5/5\n",
      "2776/2776 - 1047s - loss: 0.6931 - accuracy: 0.3253\n",
      "CPU times: user 27min 43s, sys: 8min 29s, total: 36min 12s\n",
      "Wall time: 1h 27min 52s\n"
     ]
    }
   ],
   "source": [
    "%%time\n",
    "if description[\"BERT\"][\"actif\"]:\n",
    "    bert_model.fit(\n",
    "        np.array(\n",
    "            [create_bert_input_target(x, description[\"BERT\"]) for x in X_train.values]\n",
    "        ),\n",
    "        #         X_train_bert,\n",
    "        y_train,\n",
    "        epochs=description[\"BERT\"][\"epochs\"],\n",
    "        verbose=2,\n",
    "    )"
   ]
  },
  {
   "cell_type": "code",
   "execution_count": 60,
   "id": "431e4f4c",
   "metadata": {
    "execution": {
     "iopub.execute_input": "2023-01-04T18:07:43.863517Z",
     "iopub.status.busy": "2023-01-04T18:07:43.863226Z",
     "iopub.status.idle": "2023-01-04T18:07:43.881095Z",
     "shell.execute_reply": "2023-01-04T18:07:43.880272Z"
    },
    "papermill": {
     "duration": 0.041327,
     "end_time": "2023-01-04T18:07:43.882939",
     "exception": false,
     "start_time": "2023-01-04T18:07:43.841612",
     "status": "completed"
    },
    "tags": []
   },
   "outputs": [],
   "source": [
    "def convert_pred_to_bool(preds):\n",
    "    return pd.DataFrame(\n",
    "        [\n",
    "            {tag: pred_tag > 0 for pred_tag, tag in zip(pred, target_names)}\n",
    "            for pred in preds\n",
    "        ]\n",
    "    )"
   ]
  },
  {
   "cell_type": "code",
   "execution_count": 61,
   "id": "1d635ac0",
   "metadata": {
    "execution": {
     "iopub.execute_input": "2023-01-04T18:07:43.925741Z",
     "iopub.status.busy": "2023-01-04T18:07:43.924951Z",
     "iopub.status.idle": "2023-01-04T18:11:08.466074Z",
     "shell.execute_reply": "2023-01-04T18:11:08.464864Z"
    },
    "papermill": {
     "duration": 204.565428,
     "end_time": "2023-01-04T18:11:08.469046",
     "exception": false,
     "start_time": "2023-01-04T18:07:43.903618",
     "status": "completed"
    },
    "tags": []
   },
   "outputs": [
    {
     "name": "stderr",
     "output_type": "stream",
     "text": [
      "2023-01-04 18:07:56.743568: W tensorflow/python/util/util.cc:348] Sets are not currently considered sequences, but this may change in the future, so consider avoiding using them.\n"
     ]
    },
    {
     "name": "stdout",
     "output_type": "stream",
     "text": [
      "java  c#    javascript  python  android  c++   ios   html  php   .net  jquery  css   objective-c  c     sql   iphone  asp.net  mysql  linux  node.js  git \n",
      "True  True  True        True    True     True  True  True  True  True  True    True  True         True  True  True    True     True   True   True     True    29611\n",
      "dtype: int64\n",
      "              precision    recall  f1-score  support\n",
      "java           0.120158  1.000000  0.214538   3558.0\n",
      "c#             0.117287  1.000000  0.209950   3473.0\n",
      "javascript     0.113336  1.000000  0.203598   3356.0\n",
      "python         0.088210  1.000000  0.162120   2612.0\n",
      "weighted avg   0.072731  1.000000  0.133680  33044.0\n",
      "android        0.069062  1.000000  0.129201   2045.0\n",
      "c++            0.066327  1.000000  0.124402   1964.0\n",
      "ios            0.062139  1.000000  0.117007   1840.0\n",
      "html           0.059269  1.000000  0.111905   1755.0\n",
      "php            0.054946  1.000000  0.104168   1627.0\n",
      "micro avg      0.053140  1.000000  0.100917  33044.0\n",
      ".net           0.052987  1.000000  0.100641   1569.0\n",
      "macro avg      0.053140  1.000000  0.099176  33044.0\n",
      "jquery         0.051940  1.000000  0.098751   1538.0\n",
      "samples avg    0.053140  0.792678  0.098364  33044.0\n",
      "css            0.038195  1.000000  0.073580   1131.0\n",
      "objective-c    0.029989  1.000000  0.058231    888.0\n",
      "c              0.029888  1.000000  0.058040    885.0\n",
      "sql            0.029381  1.000000  0.057085    870.0\n",
      "iphone         0.027253  1.000000  0.053061    807.0\n",
      "asp.net        0.027186  1.000000  0.052933    805.0\n",
      "mysql          0.023133  1.000000  0.045220    685.0\n",
      "node.js        0.023032  1.000000  0.045027    682.0\n",
      "linux          0.022964  1.000000  0.044898    680.0\n",
      "git            0.009253  1.000000  0.018337    274.0\n",
      "CPU times: user 1min 42s, sys: 7.76 s, total: 1min 50s\n",
      "Wall time: 3min 24s\n"
     ]
    }
   ],
   "source": [
    "%%time\n",
    "if description[\"BERT\"][\"actif\"]:\n",
    "    bert_model.save(\"BERT\")\n",
    "    pred_bert_proba = bert_model.predict(\n",
    "        np.array(\n",
    "            [create_bert_input_target(x, description[\"BERT\"]) for x in X_test.values]\n",
    "        )\n",
    "    )\n",
    "    pred_bert = convert_pred_to_bool(pred_bert_proba)\n",
    "    print(pred_bert.value_counts())\n",
    "    scores_bert = save_score(\n",
    "        y_test,\n",
    "        pred_bert,\n",
    "        target_names,\n",
    "        \"BERT\",\n",
    "    )\n",
    "    print(scores_bert.sort_values(by=\"f1-score\", ascending=False))"
   ]
  },
  {
   "cell_type": "code",
   "execution_count": 62,
   "id": "70486689",
   "metadata": {
    "execution": {
     "iopub.execute_input": "2023-01-04T18:11:08.514009Z",
     "iopub.status.busy": "2023-01-04T18:11:08.513692Z",
     "iopub.status.idle": "2023-01-04T18:11:08.518752Z",
     "shell.execute_reply": "2023-01-04T18:11:08.517746Z"
    },
    "papermill": {
     "duration": 0.029071,
     "end_time": "2023-01-04T18:11:08.521018",
     "exception": false,
     "start_time": "2023-01-04T18:11:08.491947",
     "status": "completed"
    },
    "tags": []
   },
   "outputs": [],
   "source": [
    "# kerasBertPipeline = tf.keras.models.Sequential()\n",
    "# kerasBertPipeline(tokenizer, bert_model)"
   ]
  },
  {
   "cell_type": "code",
   "execution_count": 63,
   "id": "cd937e39",
   "metadata": {
    "execution": {
     "iopub.execute_input": "2023-01-04T18:11:08.563484Z",
     "iopub.status.busy": "2023-01-04T18:11:08.563214Z",
     "iopub.status.idle": "2023-01-04T18:11:08.568936Z",
     "shell.execute_reply": "2023-01-04T18:11:08.567945Z"
    },
    "papermill": {
     "duration": 0.029427,
     "end_time": "2023-01-04T18:11:08.570995",
     "exception": false,
     "start_time": "2023-01-04T18:11:08.541568",
     "status": "completed"
    },
    "tags": []
   },
   "outputs": [],
   "source": [
    "# kerasBertPipeline.compile(\n",
    "#     optimizer=\"adam\",\n",
    "#     loss=tf.keras.losses.BinaryCrossentropy(from_logits=True),\n",
    "#     metrics=[\"accuracy\"],\n",
    "# )\n",
    "# kerasBertPipeline.summary()"
   ]
  },
  {
   "cell_type": "code",
   "execution_count": 64,
   "id": "ac0729dc",
   "metadata": {
    "execution": {
     "iopub.execute_input": "2023-01-04T18:11:08.613884Z",
     "iopub.status.busy": "2023-01-04T18:11:08.613595Z",
     "iopub.status.idle": "2023-01-04T18:11:08.619400Z",
     "shell.execute_reply": "2023-01-04T18:11:08.618375Z"
    },
    "papermill": {
     "duration": 0.02989,
     "end_time": "2023-01-04T18:11:08.621588",
     "exception": false,
     "start_time": "2023-01-04T18:11:08.591698",
     "status": "completed"
    },
    "tags": []
   },
   "outputs": [],
   "source": [
    "# %%time\n",
    "# kerasBertPipeline.compile(\n",
    "#     optimizer=\"adam\",\n",
    "#     loss=tf.keras.losses.BinaryCrossentropy(from_logits=True),\n",
    "#     metrics=[\"accuracy\"],\n",
    "# )\n",
    "# kerasBertPipeline.fit( X_train,\n",
    "#     y_train,\n",
    "#     epochs=1,\n",
    "#     verbose=2,)"
   ]
  },
  {
   "cell_type": "code",
   "execution_count": 65,
   "id": "94d356d2",
   "metadata": {
    "execution": {
     "iopub.execute_input": "2023-01-04T18:11:08.664487Z",
     "iopub.status.busy": "2023-01-04T18:11:08.663649Z",
     "iopub.status.idle": "2023-01-04T18:11:08.712239Z",
     "shell.execute_reply": "2023-01-04T18:11:08.711313Z"
    },
    "papermill": {
     "duration": 0.072134,
     "end_time": "2023-01-04T18:11:08.714270",
     "exception": false,
     "start_time": "2023-01-04T18:11:08.642136",
     "status": "completed"
    },
    "tags": []
   },
   "outputs": [],
   "source": [
    "def BertTransformer(sentences: list, params):\n",
    "    tokenizer = AutoTokenizer.from_pretrained(\"bert-base-uncased\")\n",
    "    model = AutoModel.from_pretrained(\"bert-base-uncased\")  # ou TFAutoModel\n",
    "    ## (input_ids,attention_mask,token_type_ids)\n",
    "    encoded_input = tokenizer(\n",
    "        sentences,\n",
    "        return_tensors=\"pt\",\n",
    "        padding=True,\n",
    "        truncation=True,\n",
    "        max_length=params[\"max_length\"],\n",
    "    )\n",
    "    #     model.predict(\n",
    "    #         [\n",
    "    #             encoded_input[\"input_ids\"],\n",
    "    #             encoded_input[\"attention_mask\"],\n",
    "    #             encoded_input[\"token_type_ids\"],\n",
    "    #         ], batch_size=params[\"batch_size\"]\n",
    "    #     )\n",
    "\n",
    "    #     return model\n",
    "    b_size = params[\"batch_size\"]\n",
    "    output = [\n",
    "        ## (last_hidden_state,pooler_output)\n",
    "        model(\n",
    "            encoded_input[\"input_ids\"][step : step + b_size],\n",
    "            attention_mask=encoded_input[\"attention_mask\"][step : step + b_size],\n",
    "        )\n",
    "        .last_hidden_state.detach()\n",
    "        .numpy()\n",
    "        for step in range(0, len(sentences), b_size)\n",
    "    ]\n",
    "    print(model.summary())\n",
    "    return np.concatenate(output)\n",
    "\n",
    "\n",
    "#     for step in range(len(sentences)//params[\"batch_size\"]):\n",
    "#         idx = step*params[\"batch_size\"]\n",
    "#         encoded_input_batch = encoded_input[idx:idx+params[\"batch_size\"]]\n",
    "#         output = model(\n",
    "#             encoded_input_batch[\"input_ids\"], attention_mask=encoded_input_batch[\"attention_mask\"]\n",
    "#         )\n",
    "#         print(output[\"last_hidden_state\"].shape)"
   ]
  },
  {
   "cell_type": "code",
   "execution_count": 66,
   "id": "22fc16f8",
   "metadata": {
    "execution": {
     "iopub.execute_input": "2023-01-04T18:11:08.757238Z",
     "iopub.status.busy": "2023-01-04T18:11:08.756978Z",
     "iopub.status.idle": "2023-01-04T18:11:08.761644Z",
     "shell.execute_reply": "2023-01-04T18:11:08.760653Z"
    },
    "papermill": {
     "duration": 0.028708,
     "end_time": "2023-01-04T18:11:08.763923",
     "exception": false,
     "start_time": "2023-01-04T18:11:08.735215",
     "status": "completed"
    },
    "tags": []
   },
   "outputs": [],
   "source": [
    "# encoded_input"
   ]
  },
  {
   "cell_type": "code",
   "execution_count": 67,
   "id": "3f1bc936",
   "metadata": {
    "execution": {
     "iopub.execute_input": "2023-01-04T18:11:08.806235Z",
     "iopub.status.busy": "2023-01-04T18:11:08.805970Z",
     "iopub.status.idle": "2023-01-04T18:11:08.811445Z",
     "shell.execute_reply": "2023-01-04T18:11:08.810491Z"
    },
    "papermill": {
     "duration": 0.028744,
     "end_time": "2023-01-04T18:11:08.813363",
     "exception": false,
     "start_time": "2023-01-04T18:11:08.784619",
     "status": "completed"
    },
    "tags": []
   },
   "outputs": [],
   "source": [
    "# # detect and init the TPU\n",
    "# tpu = tf.distribute.cluster_resolver.TPUClusterResolver.connect()\n",
    "\n",
    "# # instantiate a distribution strategy\n",
    "# tpu_strategy = tf.distribute.experimental.TPUStrategy(tpu)\n",
    "# with tpu_strategy.scope():\n",
    "# ..."
   ]
  },
  {
   "cell_type": "code",
   "execution_count": 68,
   "id": "30e25924",
   "metadata": {
    "execution": {
     "iopub.execute_input": "2023-01-04T18:11:08.856588Z",
     "iopub.status.busy": "2023-01-04T18:11:08.855858Z",
     "iopub.status.idle": "2023-01-04T18:11:08.860821Z",
     "shell.execute_reply": "2023-01-04T18:11:08.860090Z"
    },
    "papermill": {
     "duration": 0.028291,
     "end_time": "2023-01-04T18:11:08.862723",
     "exception": false,
     "start_time": "2023-01-04T18:11:08.834432",
     "status": "completed"
    },
    "tags": []
   },
   "outputs": [],
   "source": [
    "# %%time\n",
    "# model = BertTransformer(list(X_train[0:5]), params=description[\"BERT\"])\n",
    "# model"
   ]
  },
  {
   "cell_type": "code",
   "execution_count": 69,
   "id": "63319bc0",
   "metadata": {
    "execution": {
     "iopub.execute_input": "2023-01-04T18:11:08.905300Z",
     "iopub.status.busy": "2023-01-04T18:11:08.904690Z",
     "iopub.status.idle": "2023-01-04T18:11:08.909548Z",
     "shell.execute_reply": "2023-01-04T18:11:08.908690Z"
    },
    "papermill": {
     "duration": 0.028152,
     "end_time": "2023-01-04T18:11:08.911447",
     "exception": false,
     "start_time": "2023-01-04T18:11:08.883295",
     "status": "completed"
    },
    "tags": []
   },
   "outputs": [],
   "source": [
    "# %%time\n",
    "# model = BertTransformer(list(X_train[0:50_000]), params=description[\"BERT\"])\n",
    "# # model = BertTransformer(list(X_train), params=description[\"BERT\"])\n",
    "# model\n",
    "# # model.mean(axis=1)"
   ]
  },
  {
   "cell_type": "markdown",
   "id": "dcaddff8",
   "metadata": {
    "papermill": {
     "duration": 0.020642,
     "end_time": "2023-01-04T18:11:08.952570",
     "exception": false,
     "start_time": "2023-01-04T18:11:08.931928",
     "status": "completed"
    },
    "tags": []
   },
   "source": [
    "# LDA "
   ]
  },
  {
   "cell_type": "markdown",
   "id": "a9e9556a",
   "metadata": {
    "papermill": {
     "duration": 0.020407,
     "end_time": "2023-01-04T18:11:08.993665",
     "exception": false,
     "start_time": "2023-01-04T18:11:08.973258",
     "status": "completed"
    },
    "tags": []
   },
   "source": [
    "# USE"
   ]
  }
 ],
 "metadata": {
  "kernelspec": {
   "display_name": "Python 3",
   "language": "python",
   "name": "python3"
  },
  "language_info": {
   "codemirror_mode": {
    "name": "ipython",
    "version": 3
   },
   "file_extension": ".py",
   "mimetype": "text/x-python",
   "name": "python",
   "nbconvert_exporter": "python",
   "pygments_lexer": "ipython3",
   "version": "3.7.12"
  },
  "papermill": {
   "default_parameters": {},
   "duration": 5556.188028,
   "end_time": "2023-01-04T18:11:12.042742",
   "environment_variables": {},
   "exception": null,
   "input_path": "__notebook__.ipynb",
   "output_path": "__notebook__.ipynb",
   "parameters": {},
   "start_time": "2023-01-04T16:38:35.854714",
   "version": "2.3.4"
  },
  "widgets": {
   "application/vnd.jupyter.widget-state+json": {
    "state": {
     "017a52f453d54c92a8c6c41f1adfd9d2": {
      "model_module": "@jupyter-widgets/controls",
      "model_module_version": "1.5.0",
      "model_name": "HBoxModel",
      "state": {
       "_dom_classes": [],
       "_model_module": "@jupyter-widgets/controls",
       "_model_module_version": "1.5.0",
       "_model_name": "HBoxModel",
       "_view_count": null,
       "_view_module": "@jupyter-widgets/controls",
       "_view_module_version": "1.5.0",
       "_view_name": "HBoxView",
       "box_style": "",
       "children": [
        "IPY_MODEL_a2c969f75e7e4c3ea08e69f3e01e094c",
        "IPY_MODEL_38dc987e6ea145f597d37e20a215dcbb",
        "IPY_MODEL_894c2e8c22b74923a7e0e2fb6d2bd2e8"
       ],
       "layout": "IPY_MODEL_55301a0ab3314143bdee4a0aa1994487"
      }
     },
     "01e90fd7496c421e9c19ca717ccaf48d": {
      "model_module": "@jupyter-widgets/controls",
      "model_module_version": "1.5.0",
      "model_name": "DescriptionStyleModel",
      "state": {
       "_model_module": "@jupyter-widgets/controls",
       "_model_module_version": "1.5.0",
       "_model_name": "DescriptionStyleModel",
       "_view_count": null,
       "_view_module": "@jupyter-widgets/base",
       "_view_module_version": "1.2.0",
       "_view_name": "StyleView",
       "description_width": ""
      }
     },
     "023dd0ac166347a798e1bf830323e25f": {
      "model_module": "@jupyter-widgets/base",
      "model_module_version": "1.2.0",
      "model_name": "LayoutModel",
      "state": {
       "_model_module": "@jupyter-widgets/base",
       "_model_module_version": "1.2.0",
       "_model_name": "LayoutModel",
       "_view_count": null,
       "_view_module": "@jupyter-widgets/base",
       "_view_module_version": "1.2.0",
       "_view_name": "LayoutView",
       "align_content": null,
       "align_items": null,
       "align_self": null,
       "border": null,
       "bottom": null,
       "display": null,
       "flex": null,
       "flex_flow": null,
       "grid_area": null,
       "grid_auto_columns": null,
       "grid_auto_flow": null,
       "grid_auto_rows": null,
       "grid_column": null,
       "grid_gap": null,
       "grid_row": null,
       "grid_template_areas": null,
       "grid_template_columns": null,
       "grid_template_rows": null,
       "height": null,
       "justify_content": null,
       "justify_items": null,
       "left": null,
       "margin": null,
       "max_height": null,
       "max_width": null,
       "min_height": null,
       "min_width": null,
       "object_fit": null,
       "object_position": null,
       "order": null,
       "overflow": null,
       "overflow_x": null,
       "overflow_y": null,
       "padding": null,
       "right": null,
       "top": null,
       "visibility": null,
       "width": null
      }
     },
     "0bcc7c63175f4bee86324547365f2418": {
      "model_module": "@jupyter-widgets/controls",
      "model_module_version": "1.5.0",
      "model_name": "IntSliderModel",
      "state": {
       "_dom_classes": [],
       "_model_module": "@jupyter-widgets/controls",
       "_model_module_version": "1.5.0",
       "_model_name": "IntSliderModel",
       "_view_count": null,
       "_view_module": "@jupyter-widgets/controls",
       "_view_module_version": "1.5.0",
       "_view_name": "IntSliderView",
       "continuous_update": true,
       "description": "i",
       "description_tooltip": null,
       "disabled": false,
       "layout": "IPY_MODEL_25d3ef6264d74cd68d0f0e78cbdf3d11",
       "max": 118441,
       "min": 0,
       "orientation": "horizontal",
       "readout": true,
       "readout_format": "d",
       "step": 1,
       "style": "IPY_MODEL_47a93399b1df4021b448939fad706116",
       "value": 59220
      }
     },
     "0d3a70fa744442609151e24dbf970b76": {
      "model_module": "@jupyter-widgets/controls",
      "model_module_version": "1.5.0",
      "model_name": "DescriptionStyleModel",
      "state": {
       "_model_module": "@jupyter-widgets/controls",
       "_model_module_version": "1.5.0",
       "_model_name": "DescriptionStyleModel",
       "_view_count": null,
       "_view_module": "@jupyter-widgets/base",
       "_view_module_version": "1.2.0",
       "_view_name": "StyleView",
       "description_width": ""
      }
     },
     "1527c117f52345e4998dfcefedf3ae3a": {
      "model_module": "@jupyter-widgets/controls",
      "model_module_version": "1.5.0",
      "model_name": "HTMLModel",
      "state": {
       "_dom_classes": [],
       "_model_module": "@jupyter-widgets/controls",
       "_model_module_version": "1.5.0",
       "_model_name": "HTMLModel",
       "_view_count": null,
       "_view_module": "@jupyter-widgets/controls",
       "_view_module_version": "1.5.0",
       "_view_name": "HTMLView",
       "description": "",
       "description_tooltip": null,
       "layout": "IPY_MODEL_6cf5defd5cad43328f65490533ef870e",
       "placeholder": "​",
       "style": "IPY_MODEL_3410d8f9c4054cef96a84ba4f2de8a60",
       "value": " 226k/226k [00:00&lt;00:00, 641kB/s]"
      }
     },
     "1668c21a629d4049bd0c857677544ca4": {
      "model_module": "@jupyter-widgets/controls",
      "model_module_version": "1.5.0",
      "model_name": "DescriptionStyleModel",
      "state": {
       "_model_module": "@jupyter-widgets/controls",
       "_model_module_version": "1.5.0",
       "_model_name": "DescriptionStyleModel",
       "_view_count": null,
       "_view_module": "@jupyter-widgets/base",
       "_view_module_version": "1.2.0",
       "_view_name": "StyleView",
       "description_width": ""
      }
     },
     "1db8dcf1f7dd48ad9a2d21633562c2ac": {
      "model_module": "@jupyter-widgets/controls",
      "model_module_version": "1.5.0",
      "model_name": "DescriptionStyleModel",
      "state": {
       "_model_module": "@jupyter-widgets/controls",
       "_model_module_version": "1.5.0",
       "_model_name": "DescriptionStyleModel",
       "_view_count": null,
       "_view_module": "@jupyter-widgets/base",
       "_view_module_version": "1.2.0",
       "_view_name": "StyleView",
       "description_width": ""
      }
     },
     "1e1e3159f418408ca292b772bd224604": {
      "model_module": "@jupyter-widgets/controls",
      "model_module_version": "1.5.0",
      "model_name": "HTMLModel",
      "state": {
       "_dom_classes": [],
       "_model_module": "@jupyter-widgets/controls",
       "_model_module_version": "1.5.0",
       "_model_name": "HTMLModel",
       "_view_count": null,
       "_view_module": "@jupyter-widgets/controls",
       "_view_module_version": "1.5.0",
       "_view_name": "HTMLView",
       "description": "",
       "description_tooltip": null,
       "layout": "IPY_MODEL_fac764909bd64b7a867e599c3abb4b92",
       "placeholder": "​",
       "style": "IPY_MODEL_0d3a70fa744442609151e24dbf970b76",
       "value": " 28.0/28.0 [00:00&lt;00:00, 455B/s]"
      }
     },
     "1e9df49aaf54499698b1067aafdd098b": {
      "model_module": "@jupyter-widgets/controls",
      "model_module_version": "1.5.0",
      "model_name": "VBoxModel",
      "state": {
       "_dom_classes": [
        "widget-interact"
       ],
       "_model_module": "@jupyter-widgets/controls",
       "_model_module_version": "1.5.0",
       "_model_name": "VBoxModel",
       "_view_count": null,
       "_view_module": "@jupyter-widgets/controls",
       "_view_module_version": "1.5.0",
       "_view_name": "VBoxView",
       "box_style": "",
       "children": [
        "IPY_MODEL_0bcc7c63175f4bee86324547365f2418",
        "IPY_MODEL_39e8748cb7be4f96b312dd7a846a4e1e"
       ],
       "layout": "IPY_MODEL_fda359992b714f7689c4ad141f045b7d"
      }
     },
     "22abe655542041ffac547d224ae9e0a0": {
      "model_module": "@jupyter-widgets/controls",
      "model_module_version": "1.5.0",
      "model_name": "DescriptionStyleModel",
      "state": {
       "_model_module": "@jupyter-widgets/controls",
       "_model_module_version": "1.5.0",
       "_model_name": "DescriptionStyleModel",
       "_view_count": null,
       "_view_module": "@jupyter-widgets/base",
       "_view_module_version": "1.2.0",
       "_view_name": "StyleView",
       "description_width": ""
      }
     },
     "25d3ef6264d74cd68d0f0e78cbdf3d11": {
      "model_module": "@jupyter-widgets/base",
      "model_module_version": "1.2.0",
      "model_name": "LayoutModel",
      "state": {
       "_model_module": "@jupyter-widgets/base",
       "_model_module_version": "1.2.0",
       "_model_name": "LayoutModel",
       "_view_count": null,
       "_view_module": "@jupyter-widgets/base",
       "_view_module_version": "1.2.0",
       "_view_name": "LayoutView",
       "align_content": null,
       "align_items": null,
       "align_self": null,
       "border": null,
       "bottom": null,
       "display": null,
       "flex": null,
       "flex_flow": null,
       "grid_area": null,
       "grid_auto_columns": null,
       "grid_auto_flow": null,
       "grid_auto_rows": null,
       "grid_column": null,
       "grid_gap": null,
       "grid_row": null,
       "grid_template_areas": null,
       "grid_template_columns": null,
       "grid_template_rows": null,
       "height": null,
       "justify_content": null,
       "justify_items": null,
       "left": null,
       "margin": null,
       "max_height": null,
       "max_width": null,
       "min_height": null,
       "min_width": null,
       "object_fit": null,
       "object_position": null,
       "order": null,
       "overflow": null,
       "overflow_x": null,
       "overflow_y": null,
       "padding": null,
       "right": null,
       "top": null,
       "visibility": null,
       "width": null
      }
     },
     "262dec955c9348a3b62a39749c0d2823": {
      "model_module": "@jupyter-widgets/base",
      "model_module_version": "1.2.0",
      "model_name": "LayoutModel",
      "state": {
       "_model_module": "@jupyter-widgets/base",
       "_model_module_version": "1.2.0",
       "_model_name": "LayoutModel",
       "_view_count": null,
       "_view_module": "@jupyter-widgets/base",
       "_view_module_version": "1.2.0",
       "_view_name": "LayoutView",
       "align_content": null,
       "align_items": null,
       "align_self": null,
       "border": null,
       "bottom": null,
       "display": null,
       "flex": null,
       "flex_flow": null,
       "grid_area": null,
       "grid_auto_columns": null,
       "grid_auto_flow": null,
       "grid_auto_rows": null,
       "grid_column": null,
       "grid_gap": null,
       "grid_row": null,
       "grid_template_areas": null,
       "grid_template_columns": null,
       "grid_template_rows": null,
       "height": null,
       "justify_content": null,
       "justify_items": null,
       "left": null,
       "margin": null,
       "max_height": null,
       "max_width": null,
       "min_height": null,
       "min_width": null,
       "object_fit": null,
       "object_position": null,
       "order": null,
       "overflow": null,
       "overflow_x": null,
       "overflow_y": null,
       "padding": null,
       "right": null,
       "top": null,
       "visibility": null,
       "width": null
      }
     },
     "3410d8f9c4054cef96a84ba4f2de8a60": {
      "model_module": "@jupyter-widgets/controls",
      "model_module_version": "1.5.0",
      "model_name": "DescriptionStyleModel",
      "state": {
       "_model_module": "@jupyter-widgets/controls",
       "_model_module_version": "1.5.0",
       "_model_name": "DescriptionStyleModel",
       "_view_count": null,
       "_view_module": "@jupyter-widgets/base",
       "_view_module_version": "1.2.0",
       "_view_name": "StyleView",
       "description_width": ""
      }
     },
     "35576c2852174d1cb92a1496f182e971": {
      "model_module": "@jupyter-widgets/controls",
      "model_module_version": "1.5.0",
      "model_name": "HTMLModel",
      "state": {
       "_dom_classes": [],
       "_model_module": "@jupyter-widgets/controls",
       "_model_module_version": "1.5.0",
       "_model_name": "HTMLModel",
       "_view_count": null,
       "_view_module": "@jupyter-widgets/controls",
       "_view_module_version": "1.5.0",
       "_view_name": "HTMLView",
       "description": "",
       "description_tooltip": null,
       "layout": "IPY_MODEL_4740f7ee47ae475895d962c45f24367a",
       "placeholder": "​",
       "style": "IPY_MODEL_6e917790476845ee8db13fcb2fca6cef",
       "value": "Downloading: 100%"
      }
     },
     "36ad0a3dba374f489812d9fec1346b12": {
      "model_module": "@jupyter-widgets/base",
      "model_module_version": "1.2.0",
      "model_name": "LayoutModel",
      "state": {
       "_model_module": "@jupyter-widgets/base",
       "_model_module_version": "1.2.0",
       "_model_name": "LayoutModel",
       "_view_count": null,
       "_view_module": "@jupyter-widgets/base",
       "_view_module_version": "1.2.0",
       "_view_name": "LayoutView",
       "align_content": null,
       "align_items": null,
       "align_self": null,
       "border": null,
       "bottom": null,
       "display": null,
       "flex": null,
       "flex_flow": null,
       "grid_area": null,
       "grid_auto_columns": null,
       "grid_auto_flow": null,
       "grid_auto_rows": null,
       "grid_column": null,
       "grid_gap": null,
       "grid_row": null,
       "grid_template_areas": null,
       "grid_template_columns": null,
       "grid_template_rows": null,
       "height": null,
       "justify_content": null,
       "justify_items": null,
       "left": null,
       "margin": null,
       "max_height": null,
       "max_width": null,
       "min_height": null,
       "min_width": null,
       "object_fit": null,
       "object_position": null,
       "order": null,
       "overflow": null,
       "overflow_x": null,
       "overflow_y": null,
       "padding": null,
       "right": null,
       "top": null,
       "visibility": null,
       "width": null
      }
     },
     "38dc987e6ea145f597d37e20a215dcbb": {
      "model_module": "@jupyter-widgets/controls",
      "model_module_version": "1.5.0",
      "model_name": "FloatProgressModel",
      "state": {
       "_dom_classes": [],
       "_model_module": "@jupyter-widgets/controls",
       "_model_module_version": "1.5.0",
       "_model_name": "FloatProgressModel",
       "_view_count": null,
       "_view_module": "@jupyter-widgets/controls",
       "_view_module_version": "1.5.0",
       "_view_name": "ProgressView",
       "bar_style": "success",
       "description": "",
       "description_tooltip": null,
       "layout": "IPY_MODEL_36ad0a3dba374f489812d9fec1346b12",
       "max": 536063208.0,
       "min": 0.0,
       "orientation": "horizontal",
       "style": "IPY_MODEL_e2e80ef3aa4f4b5e966861d161bc24fb",
       "value": 536063208.0
      }
     },
     "39e8748cb7be4f96b312dd7a846a4e1e": {
      "model_module": "@jupyter-widgets/output",
      "model_module_version": "1.0.0",
      "model_name": "OutputModel",
      "state": {
       "_dom_classes": [],
       "_model_module": "@jupyter-widgets/output",
       "_model_module_version": "1.0.0",
       "_model_name": "OutputModel",
       "_view_count": null,
       "_view_module": "@jupyter-widgets/output",
       "_view_module_version": "1.0.0",
       "_view_name": "OutputView",
       "layout": "IPY_MODEL_d9c565ab6e2540aab66e0e9b8f760ea3",
       "msg_id": "",
       "outputs": [
        {
         "name": "stdout",
         "output_type": "stream",
         "text": "Title:How to change culture to a DateTimepicker or calendar control in .Net\n******************************\nTitle_clean:change culture datetimepicker calendar control\n******************************\nBody:<p>How to set internationalization to a <code>DateTimepicker</code> or <code>Calendar WinForm</code> control in .Net when the desire culture is different to the one installed in the PC?</p>\n\n******************************\nBody_clean:set internationalization datetimepicker calendar winform control .net desire culture instal pc\n******************************\nCode:DateTimepicker Calendar WinForm\n******************************\nTags:c# .net internationalization datetimepicker culture\n"
        }
       ]
      }
     },
     "3bf8c8960f9e4b6b9e2ab111bd62eee2": {
      "model_module": "@jupyter-widgets/controls",
      "model_module_version": "1.5.0",
      "model_name": "HTMLModel",
      "state": {
       "_dom_classes": [],
       "_model_module": "@jupyter-widgets/controls",
       "_model_module_version": "1.5.0",
       "_model_name": "HTMLModel",
       "_view_count": null,
       "_view_module": "@jupyter-widgets/controls",
       "_view_module_version": "1.5.0",
       "_view_name": "HTMLView",
       "description": "",
       "description_tooltip": null,
       "layout": "IPY_MODEL_023dd0ac166347a798e1bf830323e25f",
       "placeholder": "​",
       "style": "IPY_MODEL_1668c21a629d4049bd0c857677544ca4",
       "value": "Downloading: 100%"
      }
     },
     "43634174abf34f7aa714bed8081828fe": {
      "model_module": "@jupyter-widgets/controls",
      "model_module_version": "1.5.0",
      "model_name": "HTMLModel",
      "state": {
       "_dom_classes": [],
       "_model_module": "@jupyter-widgets/controls",
       "_model_module_version": "1.5.0",
       "_model_name": "HTMLModel",
       "_view_count": null,
       "_view_module": "@jupyter-widgets/controls",
       "_view_module_version": "1.5.0",
       "_view_name": "HTMLView",
       "description": "",
       "description_tooltip": null,
       "layout": "IPY_MODEL_6ec2763b82f94d8694dfab9a32024a9d",
       "placeholder": "​",
       "style": "IPY_MODEL_a621ee11e1d14333b721fb3b5967c507",
       "value": " 570/570 [00:00&lt;00:00, 22.5kB/s]"
      }
     },
     "458fc0ca45cf4ce1bddd54b51c73c28f": {
      "model_module": "@jupyter-widgets/controls",
      "model_module_version": "1.5.0",
      "model_name": "ProgressStyleModel",
      "state": {
       "_model_module": "@jupyter-widgets/controls",
       "_model_module_version": "1.5.0",
       "_model_name": "ProgressStyleModel",
       "_view_count": null,
       "_view_module": "@jupyter-widgets/base",
       "_view_module_version": "1.2.0",
       "_view_name": "StyleView",
       "bar_color": null,
       "description_width": ""
      }
     },
     "4740f7ee47ae475895d962c45f24367a": {
      "model_module": "@jupyter-widgets/base",
      "model_module_version": "1.2.0",
      "model_name": "LayoutModel",
      "state": {
       "_model_module": "@jupyter-widgets/base",
       "_model_module_version": "1.2.0",
       "_model_name": "LayoutModel",
       "_view_count": null,
       "_view_module": "@jupyter-widgets/base",
       "_view_module_version": "1.2.0",
       "_view_name": "LayoutView",
       "align_content": null,
       "align_items": null,
       "align_self": null,
       "border": null,
       "bottom": null,
       "display": null,
       "flex": null,
       "flex_flow": null,
       "grid_area": null,
       "grid_auto_columns": null,
       "grid_auto_flow": null,
       "grid_auto_rows": null,
       "grid_column": null,
       "grid_gap": null,
       "grid_row": null,
       "grid_template_areas": null,
       "grid_template_columns": null,
       "grid_template_rows": null,
       "height": null,
       "justify_content": null,
       "justify_items": null,
       "left": null,
       "margin": null,
       "max_height": null,
       "max_width": null,
       "min_height": null,
       "min_width": null,
       "object_fit": null,
       "object_position": null,
       "order": null,
       "overflow": null,
       "overflow_x": null,
       "overflow_y": null,
       "padding": null,
       "right": null,
       "top": null,
       "visibility": null,
       "width": null
      }
     },
     "47a93399b1df4021b448939fad706116": {
      "model_module": "@jupyter-widgets/controls",
      "model_module_version": "1.5.0",
      "model_name": "SliderStyleModel",
      "state": {
       "_model_module": "@jupyter-widgets/controls",
       "_model_module_version": "1.5.0",
       "_model_name": "SliderStyleModel",
       "_view_count": null,
       "_view_module": "@jupyter-widgets/base",
       "_view_module_version": "1.2.0",
       "_view_name": "StyleView",
       "description_width": "",
       "handle_color": null
      }
     },
     "55301a0ab3314143bdee4a0aa1994487": {
      "model_module": "@jupyter-widgets/base",
      "model_module_version": "1.2.0",
      "model_name": "LayoutModel",
      "state": {
       "_model_module": "@jupyter-widgets/base",
       "_model_module_version": "1.2.0",
       "_model_name": "LayoutModel",
       "_view_count": null,
       "_view_module": "@jupyter-widgets/base",
       "_view_module_version": "1.2.0",
       "_view_name": "LayoutView",
       "align_content": null,
       "align_items": null,
       "align_self": null,
       "border": null,
       "bottom": null,
       "display": null,
       "flex": null,
       "flex_flow": null,
       "grid_area": null,
       "grid_auto_columns": null,
       "grid_auto_flow": null,
       "grid_auto_rows": null,
       "grid_column": null,
       "grid_gap": null,
       "grid_row": null,
       "grid_template_areas": null,
       "grid_template_columns": null,
       "grid_template_rows": null,
       "height": null,
       "justify_content": null,
       "justify_items": null,
       "left": null,
       "margin": null,
       "max_height": null,
       "max_width": null,
       "min_height": null,
       "min_width": null,
       "object_fit": null,
       "object_position": null,
       "order": null,
       "overflow": null,
       "overflow_x": null,
       "overflow_y": null,
       "padding": null,
       "right": null,
       "top": null,
       "visibility": null,
       "width": null
      }
     },
     "5af73c611bcd4a7da50e96c208ba5090": {
      "model_module": "@jupyter-widgets/controls",
      "model_module_version": "1.5.0",
      "model_name": "HBoxModel",
      "state": {
       "_dom_classes": [],
       "_model_module": "@jupyter-widgets/controls",
       "_model_module_version": "1.5.0",
       "_model_name": "HBoxModel",
       "_view_count": null,
       "_view_module": "@jupyter-widgets/controls",
       "_view_module_version": "1.5.0",
       "_view_name": "HBoxView",
       "box_style": "",
       "children": [
        "IPY_MODEL_b70b7bc82e6242d78c045dcb85fbd69a",
        "IPY_MODEL_865c9a402e4e44d1bd916f5c3ed76cf0",
        "IPY_MODEL_43634174abf34f7aa714bed8081828fe"
       ],
       "layout": "IPY_MODEL_db87d4a71df641d286ba6e779ee00989"
      }
     },
     "64eb7e130d404aab99c2bb128a601b34": {
      "model_module": "@jupyter-widgets/controls",
      "model_module_version": "1.5.0",
      "model_name": "HBoxModel",
      "state": {
       "_dom_classes": [],
       "_model_module": "@jupyter-widgets/controls",
       "_model_module_version": "1.5.0",
       "_model_name": "HBoxModel",
       "_view_count": null,
       "_view_module": "@jupyter-widgets/controls",
       "_view_module_version": "1.5.0",
       "_view_name": "HBoxView",
       "box_style": "",
       "children": [
        "IPY_MODEL_35576c2852174d1cb92a1496f182e971",
        "IPY_MODEL_c7d9f38fc9a346c8b60111dae313d329",
        "IPY_MODEL_1527c117f52345e4998dfcefedf3ae3a"
       ],
       "layout": "IPY_MODEL_b6be16b7ac854fb9b3175c2b2ff235f3"
      }
     },
     "6cf5defd5cad43328f65490533ef870e": {
      "model_module": "@jupyter-widgets/base",
      "model_module_version": "1.2.0",
      "model_name": "LayoutModel",
      "state": {
       "_model_module": "@jupyter-widgets/base",
       "_model_module_version": "1.2.0",
       "_model_name": "LayoutModel",
       "_view_count": null,
       "_view_module": "@jupyter-widgets/base",
       "_view_module_version": "1.2.0",
       "_view_name": "LayoutView",
       "align_content": null,
       "align_items": null,
       "align_self": null,
       "border": null,
       "bottom": null,
       "display": null,
       "flex": null,
       "flex_flow": null,
       "grid_area": null,
       "grid_auto_columns": null,
       "grid_auto_flow": null,
       "grid_auto_rows": null,
       "grid_column": null,
       "grid_gap": null,
       "grid_row": null,
       "grid_template_areas": null,
       "grid_template_columns": null,
       "grid_template_rows": null,
       "height": null,
       "justify_content": null,
       "justify_items": null,
       "left": null,
       "margin": null,
       "max_height": null,
       "max_width": null,
       "min_height": null,
       "min_width": null,
       "object_fit": null,
       "object_position": null,
       "order": null,
       "overflow": null,
       "overflow_x": null,
       "overflow_y": null,
       "padding": null,
       "right": null,
       "top": null,
       "visibility": null,
       "width": null
      }
     },
     "6e917790476845ee8db13fcb2fca6cef": {
      "model_module": "@jupyter-widgets/controls",
      "model_module_version": "1.5.0",
      "model_name": "DescriptionStyleModel",
      "state": {
       "_model_module": "@jupyter-widgets/controls",
       "_model_module_version": "1.5.0",
       "_model_name": "DescriptionStyleModel",
       "_view_count": null,
       "_view_module": "@jupyter-widgets/base",
       "_view_module_version": "1.2.0",
       "_view_name": "StyleView",
       "description_width": ""
      }
     },
     "6ec2763b82f94d8694dfab9a32024a9d": {
      "model_module": "@jupyter-widgets/base",
      "model_module_version": "1.2.0",
      "model_name": "LayoutModel",
      "state": {
       "_model_module": "@jupyter-widgets/base",
       "_model_module_version": "1.2.0",
       "_model_name": "LayoutModel",
       "_view_count": null,
       "_view_module": "@jupyter-widgets/base",
       "_view_module_version": "1.2.0",
       "_view_name": "LayoutView",
       "align_content": null,
       "align_items": null,
       "align_self": null,
       "border": null,
       "bottom": null,
       "display": null,
       "flex": null,
       "flex_flow": null,
       "grid_area": null,
       "grid_auto_columns": null,
       "grid_auto_flow": null,
       "grid_auto_rows": null,
       "grid_column": null,
       "grid_gap": null,
       "grid_row": null,
       "grid_template_areas": null,
       "grid_template_columns": null,
       "grid_template_rows": null,
       "height": null,
       "justify_content": null,
       "justify_items": null,
       "left": null,
       "margin": null,
       "max_height": null,
       "max_width": null,
       "min_height": null,
       "min_width": null,
       "object_fit": null,
       "object_position": null,
       "order": null,
       "overflow": null,
       "overflow_x": null,
       "overflow_y": null,
       "padding": null,
       "right": null,
       "top": null,
       "visibility": null,
       "width": null
      }
     },
     "82a49c837b934d899666045d8d1b029f": {
      "model_module": "@jupyter-widgets/base",
      "model_module_version": "1.2.0",
      "model_name": "LayoutModel",
      "state": {
       "_model_module": "@jupyter-widgets/base",
       "_model_module_version": "1.2.0",
       "_model_name": "LayoutModel",
       "_view_count": null,
       "_view_module": "@jupyter-widgets/base",
       "_view_module_version": "1.2.0",
       "_view_name": "LayoutView",
       "align_content": null,
       "align_items": null,
       "align_self": null,
       "border": null,
       "bottom": null,
       "display": null,
       "flex": null,
       "flex_flow": null,
       "grid_area": null,
       "grid_auto_columns": null,
       "grid_auto_flow": null,
       "grid_auto_rows": null,
       "grid_column": null,
       "grid_gap": null,
       "grid_row": null,
       "grid_template_areas": null,
       "grid_template_columns": null,
       "grid_template_rows": null,
       "height": null,
       "justify_content": null,
       "justify_items": null,
       "left": null,
       "margin": null,
       "max_height": null,
       "max_width": null,
       "min_height": null,
       "min_width": null,
       "object_fit": null,
       "object_position": null,
       "order": null,
       "overflow": null,
       "overflow_x": null,
       "overflow_y": null,
       "padding": null,
       "right": null,
       "top": null,
       "visibility": null,
       "width": null
      }
     },
     "849db6c364324146ad6adf20f2308983": {
      "model_module": "@jupyter-widgets/controls",
      "model_module_version": "1.5.0",
      "model_name": "ProgressStyleModel",
      "state": {
       "_model_module": "@jupyter-widgets/controls",
       "_model_module_version": "1.5.0",
       "_model_name": "ProgressStyleModel",
       "_view_count": null,
       "_view_module": "@jupyter-widgets/base",
       "_view_module_version": "1.2.0",
       "_view_name": "StyleView",
       "bar_color": null,
       "description_width": ""
      }
     },
     "865c9a402e4e44d1bd916f5c3ed76cf0": {
      "model_module": "@jupyter-widgets/controls",
      "model_module_version": "1.5.0",
      "model_name": "FloatProgressModel",
      "state": {
       "_dom_classes": [],
       "_model_module": "@jupyter-widgets/controls",
       "_model_module_version": "1.5.0",
       "_model_name": "FloatProgressModel",
       "_view_count": null,
       "_view_module": "@jupyter-widgets/controls",
       "_view_module_version": "1.5.0",
       "_view_name": "ProgressView",
       "bar_style": "success",
       "description": "",
       "description_tooltip": null,
       "layout": "IPY_MODEL_e8c4019b3dab449f952a5759fb866efd",
       "max": 570.0,
       "min": 0.0,
       "orientation": "horizontal",
       "style": "IPY_MODEL_849db6c364324146ad6adf20f2308983",
       "value": 570.0
      }
     },
     "894c2e8c22b74923a7e0e2fb6d2bd2e8": {
      "model_module": "@jupyter-widgets/controls",
      "model_module_version": "1.5.0",
      "model_name": "HTMLModel",
      "state": {
       "_dom_classes": [],
       "_model_module": "@jupyter-widgets/controls",
       "_model_module_version": "1.5.0",
       "_model_name": "HTMLModel",
       "_view_count": null,
       "_view_module": "@jupyter-widgets/controls",
       "_view_module_version": "1.5.0",
       "_view_name": "HTMLView",
       "description": "",
       "description_tooltip": null,
       "layout": "IPY_MODEL_e95dc6ce50a340ae9fb642b585826601",
       "placeholder": "​",
       "style": "IPY_MODEL_01e90fd7496c421e9c19ca717ccaf48d",
       "value": " 511M/511M [00:10&lt;00:00, 55.7MB/s]"
      }
     },
     "9c7a53029cd3480aae81d0159326a3d4": {
      "model_module": "@jupyter-widgets/controls",
      "model_module_version": "1.5.0",
      "model_name": "ProgressStyleModel",
      "state": {
       "_model_module": "@jupyter-widgets/controls",
       "_model_module_version": "1.5.0",
       "_model_name": "ProgressStyleModel",
       "_view_count": null,
       "_view_module": "@jupyter-widgets/base",
       "_view_module_version": "1.2.0",
       "_view_name": "StyleView",
       "bar_color": null,
       "description_width": ""
      }
     },
     "a2c969f75e7e4c3ea08e69f3e01e094c": {
      "model_module": "@jupyter-widgets/controls",
      "model_module_version": "1.5.0",
      "model_name": "HTMLModel",
      "state": {
       "_dom_classes": [],
       "_model_module": "@jupyter-widgets/controls",
       "_model_module_version": "1.5.0",
       "_model_name": "HTMLModel",
       "_view_count": null,
       "_view_module": "@jupyter-widgets/controls",
       "_view_module_version": "1.5.0",
       "_view_name": "HTMLView",
       "description": "",
       "description_tooltip": null,
       "layout": "IPY_MODEL_bb89f7eba39344bbae98467293e2ea09",
       "placeholder": "​",
       "style": "IPY_MODEL_22abe655542041ffac547d224ae9e0a0",
       "value": "Downloading: 100%"
      }
     },
     "a621ee11e1d14333b721fb3b5967c507": {
      "model_module": "@jupyter-widgets/controls",
      "model_module_version": "1.5.0",
      "model_name": "DescriptionStyleModel",
      "state": {
       "_model_module": "@jupyter-widgets/controls",
       "_model_module_version": "1.5.0",
       "_model_name": "DescriptionStyleModel",
       "_view_count": null,
       "_view_module": "@jupyter-widgets/base",
       "_view_module_version": "1.2.0",
       "_view_name": "StyleView",
       "description_width": ""
      }
     },
     "b6be16b7ac854fb9b3175c2b2ff235f3": {
      "model_module": "@jupyter-widgets/base",
      "model_module_version": "1.2.0",
      "model_name": "LayoutModel",
      "state": {
       "_model_module": "@jupyter-widgets/base",
       "_model_module_version": "1.2.0",
       "_model_name": "LayoutModel",
       "_view_count": null,
       "_view_module": "@jupyter-widgets/base",
       "_view_module_version": "1.2.0",
       "_view_name": "LayoutView",
       "align_content": null,
       "align_items": null,
       "align_self": null,
       "border": null,
       "bottom": null,
       "display": null,
       "flex": null,
       "flex_flow": null,
       "grid_area": null,
       "grid_auto_columns": null,
       "grid_auto_flow": null,
       "grid_auto_rows": null,
       "grid_column": null,
       "grid_gap": null,
       "grid_row": null,
       "grid_template_areas": null,
       "grid_template_columns": null,
       "grid_template_rows": null,
       "height": null,
       "justify_content": null,
       "justify_items": null,
       "left": null,
       "margin": null,
       "max_height": null,
       "max_width": null,
       "min_height": null,
       "min_width": null,
       "object_fit": null,
       "object_position": null,
       "order": null,
       "overflow": null,
       "overflow_x": null,
       "overflow_y": null,
       "padding": null,
       "right": null,
       "top": null,
       "visibility": null,
       "width": null
      }
     },
     "b70b7bc82e6242d78c045dcb85fbd69a": {
      "model_module": "@jupyter-widgets/controls",
      "model_module_version": "1.5.0",
      "model_name": "HTMLModel",
      "state": {
       "_dom_classes": [],
       "_model_module": "@jupyter-widgets/controls",
       "_model_module_version": "1.5.0",
       "_model_name": "HTMLModel",
       "_view_count": null,
       "_view_module": "@jupyter-widgets/controls",
       "_view_module_version": "1.5.0",
       "_view_name": "HTMLView",
       "description": "",
       "description_tooltip": null,
       "layout": "IPY_MODEL_262dec955c9348a3b62a39749c0d2823",
       "placeholder": "​",
       "style": "IPY_MODEL_1db8dcf1f7dd48ad9a2d21633562c2ac",
       "value": "Downloading: 100%"
      }
     },
     "bb89f7eba39344bbae98467293e2ea09": {
      "model_module": "@jupyter-widgets/base",
      "model_module_version": "1.2.0",
      "model_name": "LayoutModel",
      "state": {
       "_model_module": "@jupyter-widgets/base",
       "_model_module_version": "1.2.0",
       "_model_name": "LayoutModel",
       "_view_count": null,
       "_view_module": "@jupyter-widgets/base",
       "_view_module_version": "1.2.0",
       "_view_name": "LayoutView",
       "align_content": null,
       "align_items": null,
       "align_self": null,
       "border": null,
       "bottom": null,
       "display": null,
       "flex": null,
       "flex_flow": null,
       "grid_area": null,
       "grid_auto_columns": null,
       "grid_auto_flow": null,
       "grid_auto_rows": null,
       "grid_column": null,
       "grid_gap": null,
       "grid_row": null,
       "grid_template_areas": null,
       "grid_template_columns": null,
       "grid_template_rows": null,
       "height": null,
       "justify_content": null,
       "justify_items": null,
       "left": null,
       "margin": null,
       "max_height": null,
       "max_width": null,
       "min_height": null,
       "min_width": null,
       "object_fit": null,
       "object_position": null,
       "order": null,
       "overflow": null,
       "overflow_x": null,
       "overflow_y": null,
       "padding": null,
       "right": null,
       "top": null,
       "visibility": null,
       "width": null
      }
     },
     "c7d9f38fc9a346c8b60111dae313d329": {
      "model_module": "@jupyter-widgets/controls",
      "model_module_version": "1.5.0",
      "model_name": "FloatProgressModel",
      "state": {
       "_dom_classes": [],
       "_model_module": "@jupyter-widgets/controls",
       "_model_module_version": "1.5.0",
       "_model_name": "FloatProgressModel",
       "_view_count": null,
       "_view_module": "@jupyter-widgets/controls",
       "_view_module_version": "1.5.0",
       "_view_name": "ProgressView",
       "bar_style": "success",
       "description": "",
       "description_tooltip": null,
       "layout": "IPY_MODEL_caf9ce8e776145979fffff615097b3fa",
       "max": 231508.0,
       "min": 0.0,
       "orientation": "horizontal",
       "style": "IPY_MODEL_458fc0ca45cf4ce1bddd54b51c73c28f",
       "value": 231508.0
      }
     },
     "caf9ce8e776145979fffff615097b3fa": {
      "model_module": "@jupyter-widgets/base",
      "model_module_version": "1.2.0",
      "model_name": "LayoutModel",
      "state": {
       "_model_module": "@jupyter-widgets/base",
       "_model_module_version": "1.2.0",
       "_model_name": "LayoutModel",
       "_view_count": null,
       "_view_module": "@jupyter-widgets/base",
       "_view_module_version": "1.2.0",
       "_view_name": "LayoutView",
       "align_content": null,
       "align_items": null,
       "align_self": null,
       "border": null,
       "bottom": null,
       "display": null,
       "flex": null,
       "flex_flow": null,
       "grid_area": null,
       "grid_auto_columns": null,
       "grid_auto_flow": null,
       "grid_auto_rows": null,
       "grid_column": null,
       "grid_gap": null,
       "grid_row": null,
       "grid_template_areas": null,
       "grid_template_columns": null,
       "grid_template_rows": null,
       "height": null,
       "justify_content": null,
       "justify_items": null,
       "left": null,
       "margin": null,
       "max_height": null,
       "max_width": null,
       "min_height": null,
       "min_width": null,
       "object_fit": null,
       "object_position": null,
       "order": null,
       "overflow": null,
       "overflow_x": null,
       "overflow_y": null,
       "padding": null,
       "right": null,
       "top": null,
       "visibility": null,
       "width": null
      }
     },
     "d060d1e8cae34edcb5e520abedb86850": {
      "model_module": "@jupyter-widgets/controls",
      "model_module_version": "1.5.0",
      "model_name": "FloatProgressModel",
      "state": {
       "_dom_classes": [],
       "_model_module": "@jupyter-widgets/controls",
       "_model_module_version": "1.5.0",
       "_model_name": "FloatProgressModel",
       "_view_count": null,
       "_view_module": "@jupyter-widgets/controls",
       "_view_module_version": "1.5.0",
       "_view_name": "ProgressView",
       "bar_style": "success",
       "description": "",
       "description_tooltip": null,
       "layout": "IPY_MODEL_82a49c837b934d899666045d8d1b029f",
       "max": 28.0,
       "min": 0.0,
       "orientation": "horizontal",
       "style": "IPY_MODEL_9c7a53029cd3480aae81d0159326a3d4",
       "value": 28.0
      }
     },
     "d9c565ab6e2540aab66e0e9b8f760ea3": {
      "model_module": "@jupyter-widgets/base",
      "model_module_version": "1.2.0",
      "model_name": "LayoutModel",
      "state": {
       "_model_module": "@jupyter-widgets/base",
       "_model_module_version": "1.2.0",
       "_model_name": "LayoutModel",
       "_view_count": null,
       "_view_module": "@jupyter-widgets/base",
       "_view_module_version": "1.2.0",
       "_view_name": "LayoutView",
       "align_content": null,
       "align_items": null,
       "align_self": null,
       "border": null,
       "bottom": null,
       "display": null,
       "flex": null,
       "flex_flow": null,
       "grid_area": null,
       "grid_auto_columns": null,
       "grid_auto_flow": null,
       "grid_auto_rows": null,
       "grid_column": null,
       "grid_gap": null,
       "grid_row": null,
       "grid_template_areas": null,
       "grid_template_columns": null,
       "grid_template_rows": null,
       "height": null,
       "justify_content": null,
       "justify_items": null,
       "left": null,
       "margin": null,
       "max_height": null,
       "max_width": null,
       "min_height": null,
       "min_width": null,
       "object_fit": null,
       "object_position": null,
       "order": null,
       "overflow": null,
       "overflow_x": null,
       "overflow_y": null,
       "padding": null,
       "right": null,
       "top": null,
       "visibility": null,
       "width": null
      }
     },
     "db87d4a71df641d286ba6e779ee00989": {
      "model_module": "@jupyter-widgets/base",
      "model_module_version": "1.2.0",
      "model_name": "LayoutModel",
      "state": {
       "_model_module": "@jupyter-widgets/base",
       "_model_module_version": "1.2.0",
       "_model_name": "LayoutModel",
       "_view_count": null,
       "_view_module": "@jupyter-widgets/base",
       "_view_module_version": "1.2.0",
       "_view_name": "LayoutView",
       "align_content": null,
       "align_items": null,
       "align_self": null,
       "border": null,
       "bottom": null,
       "display": null,
       "flex": null,
       "flex_flow": null,
       "grid_area": null,
       "grid_auto_columns": null,
       "grid_auto_flow": null,
       "grid_auto_rows": null,
       "grid_column": null,
       "grid_gap": null,
       "grid_row": null,
       "grid_template_areas": null,
       "grid_template_columns": null,
       "grid_template_rows": null,
       "height": null,
       "justify_content": null,
       "justify_items": null,
       "left": null,
       "margin": null,
       "max_height": null,
       "max_width": null,
       "min_height": null,
       "min_width": null,
       "object_fit": null,
       "object_position": null,
       "order": null,
       "overflow": null,
       "overflow_x": null,
       "overflow_y": null,
       "padding": null,
       "right": null,
       "top": null,
       "visibility": null,
       "width": null
      }
     },
     "e2e80ef3aa4f4b5e966861d161bc24fb": {
      "model_module": "@jupyter-widgets/controls",
      "model_module_version": "1.5.0",
      "model_name": "ProgressStyleModel",
      "state": {
       "_model_module": "@jupyter-widgets/controls",
       "_model_module_version": "1.5.0",
       "_model_name": "ProgressStyleModel",
       "_view_count": null,
       "_view_module": "@jupyter-widgets/base",
       "_view_module_version": "1.2.0",
       "_view_name": "StyleView",
       "bar_color": null,
       "description_width": ""
      }
     },
     "e8c4019b3dab449f952a5759fb866efd": {
      "model_module": "@jupyter-widgets/base",
      "model_module_version": "1.2.0",
      "model_name": "LayoutModel",
      "state": {
       "_model_module": "@jupyter-widgets/base",
       "_model_module_version": "1.2.0",
       "_model_name": "LayoutModel",
       "_view_count": null,
       "_view_module": "@jupyter-widgets/base",
       "_view_module_version": "1.2.0",
       "_view_name": "LayoutView",
       "align_content": null,
       "align_items": null,
       "align_self": null,
       "border": null,
       "bottom": null,
       "display": null,
       "flex": null,
       "flex_flow": null,
       "grid_area": null,
       "grid_auto_columns": null,
       "grid_auto_flow": null,
       "grid_auto_rows": null,
       "grid_column": null,
       "grid_gap": null,
       "grid_row": null,
       "grid_template_areas": null,
       "grid_template_columns": null,
       "grid_template_rows": null,
       "height": null,
       "justify_content": null,
       "justify_items": null,
       "left": null,
       "margin": null,
       "max_height": null,
       "max_width": null,
       "min_height": null,
       "min_width": null,
       "object_fit": null,
       "object_position": null,
       "order": null,
       "overflow": null,
       "overflow_x": null,
       "overflow_y": null,
       "padding": null,
       "right": null,
       "top": null,
       "visibility": null,
       "width": null
      }
     },
     "e95dc6ce50a340ae9fb642b585826601": {
      "model_module": "@jupyter-widgets/base",
      "model_module_version": "1.2.0",
      "model_name": "LayoutModel",
      "state": {
       "_model_module": "@jupyter-widgets/base",
       "_model_module_version": "1.2.0",
       "_model_name": "LayoutModel",
       "_view_count": null,
       "_view_module": "@jupyter-widgets/base",
       "_view_module_version": "1.2.0",
       "_view_name": "LayoutView",
       "align_content": null,
       "align_items": null,
       "align_self": null,
       "border": null,
       "bottom": null,
       "display": null,
       "flex": null,
       "flex_flow": null,
       "grid_area": null,
       "grid_auto_columns": null,
       "grid_auto_flow": null,
       "grid_auto_rows": null,
       "grid_column": null,
       "grid_gap": null,
       "grid_row": null,
       "grid_template_areas": null,
       "grid_template_columns": null,
       "grid_template_rows": null,
       "height": null,
       "justify_content": null,
       "justify_items": null,
       "left": null,
       "margin": null,
       "max_height": null,
       "max_width": null,
       "min_height": null,
       "min_width": null,
       "object_fit": null,
       "object_position": null,
       "order": null,
       "overflow": null,
       "overflow_x": null,
       "overflow_y": null,
       "padding": null,
       "right": null,
       "top": null,
       "visibility": null,
       "width": null
      }
     },
     "ebae85a44e024f37af8b0ede611250dd": {
      "model_module": "@jupyter-widgets/controls",
      "model_module_version": "1.5.0",
      "model_name": "HBoxModel",
      "state": {
       "_dom_classes": [],
       "_model_module": "@jupyter-widgets/controls",
       "_model_module_version": "1.5.0",
       "_model_name": "HBoxModel",
       "_view_count": null,
       "_view_module": "@jupyter-widgets/controls",
       "_view_module_version": "1.5.0",
       "_view_name": "HBoxView",
       "box_style": "",
       "children": [
        "IPY_MODEL_3bf8c8960f9e4b6b9e2ab111bd62eee2",
        "IPY_MODEL_d060d1e8cae34edcb5e520abedb86850",
        "IPY_MODEL_1e1e3159f418408ca292b772bd224604"
       ],
       "layout": "IPY_MODEL_f7003c18830649f89903344e96d05de1"
      }
     },
     "f7003c18830649f89903344e96d05de1": {
      "model_module": "@jupyter-widgets/base",
      "model_module_version": "1.2.0",
      "model_name": "LayoutModel",
      "state": {
       "_model_module": "@jupyter-widgets/base",
       "_model_module_version": "1.2.0",
       "_model_name": "LayoutModel",
       "_view_count": null,
       "_view_module": "@jupyter-widgets/base",
       "_view_module_version": "1.2.0",
       "_view_name": "LayoutView",
       "align_content": null,
       "align_items": null,
       "align_self": null,
       "border": null,
       "bottom": null,
       "display": null,
       "flex": null,
       "flex_flow": null,
       "grid_area": null,
       "grid_auto_columns": null,
       "grid_auto_flow": null,
       "grid_auto_rows": null,
       "grid_column": null,
       "grid_gap": null,
       "grid_row": null,
       "grid_template_areas": null,
       "grid_template_columns": null,
       "grid_template_rows": null,
       "height": null,
       "justify_content": null,
       "justify_items": null,
       "left": null,
       "margin": null,
       "max_height": null,
       "max_width": null,
       "min_height": null,
       "min_width": null,
       "object_fit": null,
       "object_position": null,
       "order": null,
       "overflow": null,
       "overflow_x": null,
       "overflow_y": null,
       "padding": null,
       "right": null,
       "top": null,
       "visibility": null,
       "width": null
      }
     },
     "fac764909bd64b7a867e599c3abb4b92": {
      "model_module": "@jupyter-widgets/base",
      "model_module_version": "1.2.0",
      "model_name": "LayoutModel",
      "state": {
       "_model_module": "@jupyter-widgets/base",
       "_model_module_version": "1.2.0",
       "_model_name": "LayoutModel",
       "_view_count": null,
       "_view_module": "@jupyter-widgets/base",
       "_view_module_version": "1.2.0",
       "_view_name": "LayoutView",
       "align_content": null,
       "align_items": null,
       "align_self": null,
       "border": null,
       "bottom": null,
       "display": null,
       "flex": null,
       "flex_flow": null,
       "grid_area": null,
       "grid_auto_columns": null,
       "grid_auto_flow": null,
       "grid_auto_rows": null,
       "grid_column": null,
       "grid_gap": null,
       "grid_row": null,
       "grid_template_areas": null,
       "grid_template_columns": null,
       "grid_template_rows": null,
       "height": null,
       "justify_content": null,
       "justify_items": null,
       "left": null,
       "margin": null,
       "max_height": null,
       "max_width": null,
       "min_height": null,
       "min_width": null,
       "object_fit": null,
       "object_position": null,
       "order": null,
       "overflow": null,
       "overflow_x": null,
       "overflow_y": null,
       "padding": null,
       "right": null,
       "top": null,
       "visibility": null,
       "width": null
      }
     },
     "fda359992b714f7689c4ad141f045b7d": {
      "model_module": "@jupyter-widgets/base",
      "model_module_version": "1.2.0",
      "model_name": "LayoutModel",
      "state": {
       "_model_module": "@jupyter-widgets/base",
       "_model_module_version": "1.2.0",
       "_model_name": "LayoutModel",
       "_view_count": null,
       "_view_module": "@jupyter-widgets/base",
       "_view_module_version": "1.2.0",
       "_view_name": "LayoutView",
       "align_content": null,
       "align_items": null,
       "align_self": null,
       "border": null,
       "bottom": null,
       "display": null,
       "flex": null,
       "flex_flow": null,
       "grid_area": null,
       "grid_auto_columns": null,
       "grid_auto_flow": null,
       "grid_auto_rows": null,
       "grid_column": null,
       "grid_gap": null,
       "grid_row": null,
       "grid_template_areas": null,
       "grid_template_columns": null,
       "grid_template_rows": null,
       "height": null,
       "justify_content": null,
       "justify_items": null,
       "left": null,
       "margin": null,
       "max_height": null,
       "max_width": null,
       "min_height": null,
       "min_width": null,
       "object_fit": null,
       "object_position": null,
       "order": null,
       "overflow": null,
       "overflow_x": null,
       "overflow_y": null,
       "padding": null,
       "right": null,
       "top": null,
       "visibility": null,
       "width": null
      }
     }
    },
    "version_major": 2,
    "version_minor": 0
   }
  }
 },
 "nbformat": 4,
 "nbformat_minor": 5
}
