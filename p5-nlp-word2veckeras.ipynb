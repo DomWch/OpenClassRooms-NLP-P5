{
 "cells": [
  {
   "cell_type": "markdown",
   "id": "77d22065",
   "metadata": {
    "papermill": {
     "duration": 0.019959,
     "end_time": "2023-01-28T15:06:40.379938",
     "exception": false,
     "start_time": "2023-01-28T15:06:40.359979",
     "status": "completed"
    },
    "tags": []
   },
   "source": [
    "# Index\n",
    "* [Import](#index)\n",
    "* [Tokenization](#Tokenization)\n",
    "* [CountVectorizer](#CountVectorizer)\n",
    "* [PreprocessPipeline](#PreprocessPipeline)\n",
    "* [OvsRest](#OvsRest)\n",
    "    - [LogisticRegression](#LogisticRegression)\n",
    "    - [SVC](#SVC)\n",
    "* [Word2Vec](#Word2Vec)\n",
    "* [BERT](#BERT)\n",
    "* [USE](#USE)\n",
    "* [LDA](#LDA)"
   ]
  },
  {
   "cell_type": "code",
   "execution_count": 1,
   "id": "2616a672",
   "metadata": {
    "_cell_guid": "b1076dfc-b9ad-4769-8c92-a6c4dae69d19",
    "_uuid": "8f2839f25d086af736a60e9eeb907d3b93b6e0e5",
    "execution": {
     "iopub.execute_input": "2023-01-28T15:06:40.414124Z",
     "iopub.status.busy": "2023-01-28T15:06:40.413280Z",
     "iopub.status.idle": "2023-01-28T15:06:53.856216Z",
     "shell.execute_reply": "2023-01-28T15:06:53.855078Z"
    },
    "papermill": {
     "duration": 13.463776,
     "end_time": "2023-01-28T15:06:53.859641",
     "exception": false,
     "start_time": "2023-01-28T15:06:40.395865",
     "status": "completed"
    },
    "tags": []
   },
   "outputs": [
    {
     "name": "stderr",
     "output_type": "stream",
     "text": [
      "/opt/conda/lib/python3.7/site-packages/past/types/oldstr.py:36: DeprecationWarning: invalid escape sequence \\d\n",
      "  \"\"\"\n",
      "/opt/conda/lib/python3.7/site-packages/past/builtins/misc.py:45: DeprecationWarning: the imp module is deprecated in favour of importlib; see the module's documentation for alternative uses\n",
      "  from imp import reload\n",
      "/opt/conda/lib/python3.7/site-packages/tensorflow/python/framework/dtypes.py:585: DeprecationWarning: `np.object` is a deprecated alias for the builtin `object`. To silence this warning, use `object` by itself. Doing this will not modify any behavior and is safe. \n",
      "Deprecated in NumPy 1.20; for more details and guidance: https://numpy.org/devdocs/release/1.20.0-notes.html#deprecations\n",
      "  np.object,\n",
      "/opt/conda/lib/python3.7/site-packages/tensorflow/python/framework/dtypes.py:627: DeprecationWarning: `np.object` is a deprecated alias for the builtin `object`. To silence this warning, use `object` by itself. Doing this will not modify any behavior and is safe. \n",
      "Deprecated in NumPy 1.20; for more details and guidance: https://numpy.org/devdocs/release/1.20.0-notes.html#deprecations\n",
      "  np.object,\n",
      "/opt/conda/lib/python3.7/site-packages/tensorflow/python/framework/dtypes.py:637: DeprecationWarning: `np.bool` is a deprecated alias for the builtin `bool`. To silence this warning, use `bool` by itself. Doing this will not modify any behavior and is safe. If you specifically wanted the numpy scalar type, use `np.bool_` here.\n",
      "Deprecated in NumPy 1.20; for more details and guidance: https://numpy.org/devdocs/release/1.20.0-notes.html#deprecations\n",
      "  np.bool,\n",
      "/opt/conda/lib/python3.7/site-packages/tensorflow/python/framework/tensor_util.py:108: DeprecationWarning: `np.object` is a deprecated alias for the builtin `object`. To silence this warning, use `object` by itself. Doing this will not modify any behavior and is safe. \n",
      "Deprecated in NumPy 1.20; for more details and guidance: https://numpy.org/devdocs/release/1.20.0-notes.html#deprecations\n",
      "  np.object:\n",
      "/opt/conda/lib/python3.7/site-packages/tensorflow/python/framework/tensor_util.py:110: DeprecationWarning: `np.bool` is a deprecated alias for the builtin `bool`. To silence this warning, use `bool` by itself. Doing this will not modify any behavior and is safe. If you specifically wanted the numpy scalar type, use `np.bool_` here.\n",
      "Deprecated in NumPy 1.20; for more details and guidance: https://numpy.org/devdocs/release/1.20.0-notes.html#deprecations\n",
      "  np.bool:\n",
      "/opt/conda/lib/python3.7/site-packages/tensorflow/python/ops/numpy_ops/np_random.py:110: DeprecationWarning: `np.int` is a deprecated alias for the builtin `int`. To silence this warning, use `int` by itself. Doing this will not modify any behavior and is safe. When replacing `np.int`, you may wish to use e.g. `np.int64` or `np.int32` to specify the precision. If you wish to review your current use, check the release note link for additional information.\n",
      "Deprecated in NumPy 1.20; for more details and guidance: https://numpy.org/devdocs/release/1.20.0-notes.html#deprecations\n",
      "  def randint(low, high=None, size=None, dtype=onp.int):  # pylint: disable=missing-function-docstring\n",
      "/opt/conda/lib/python3.7/site-packages/keras_preprocessing/image/utils.py:23: DeprecationWarning: NEAREST is deprecated and will be removed in Pillow 10 (2023-07-01). Use Resampling.NEAREST or Dither.NONE instead.\n",
      "  'nearest': pil_image.NEAREST,\n",
      "/opt/conda/lib/python3.7/site-packages/keras_preprocessing/image/utils.py:24: DeprecationWarning: BILINEAR is deprecated and will be removed in Pillow 10 (2023-07-01). Use Resampling.BILINEAR instead.\n",
      "  'bilinear': pil_image.BILINEAR,\n",
      "/opt/conda/lib/python3.7/site-packages/keras_preprocessing/image/utils.py:25: DeprecationWarning: BICUBIC is deprecated and will be removed in Pillow 10 (2023-07-01). Use Resampling.BICUBIC instead.\n",
      "  'bicubic': pil_image.BICUBIC,\n",
      "/opt/conda/lib/python3.7/site-packages/keras_preprocessing/image/utils.py:28: DeprecationWarning: HAMMING is deprecated and will be removed in Pillow 10 (2023-07-01). Use Resampling.HAMMING instead.\n",
      "  if hasattr(pil_image, 'HAMMING'):\n",
      "/opt/conda/lib/python3.7/site-packages/keras_preprocessing/image/utils.py:29: DeprecationWarning: HAMMING is deprecated and will be removed in Pillow 10 (2023-07-01). Use Resampling.HAMMING instead.\n",
      "  _PIL_INTERPOLATION_METHODS['hamming'] = pil_image.HAMMING\n",
      "/opt/conda/lib/python3.7/site-packages/keras_preprocessing/image/utils.py:30: DeprecationWarning: BOX is deprecated and will be removed in Pillow 10 (2023-07-01). Use Resampling.BOX instead.\n",
      "  if hasattr(pil_image, 'BOX'):\n",
      "/opt/conda/lib/python3.7/site-packages/keras_preprocessing/image/utils.py:31: DeprecationWarning: BOX is deprecated and will be removed in Pillow 10 (2023-07-01). Use Resampling.BOX instead.\n",
      "  _PIL_INTERPOLATION_METHODS['box'] = pil_image.BOX\n",
      "/opt/conda/lib/python3.7/site-packages/keras_preprocessing/image/utils.py:33: DeprecationWarning: LANCZOS is deprecated and will be removed in Pillow 10 (2023-07-01). Use Resampling.LANCZOS instead.\n",
      "  if hasattr(pil_image, 'LANCZOS'):\n",
      "/opt/conda/lib/python3.7/site-packages/keras_preprocessing/image/utils.py:34: DeprecationWarning: LANCZOS is deprecated and will be removed in Pillow 10 (2023-07-01). Use Resampling.LANCZOS instead.\n",
      "  _PIL_INTERPOLATION_METHODS['lanczos'] = pil_image.LANCZOS\n",
      "2023-01-28 15:06:48.915084: I tensorflow/stream_executor/cuda/cuda_gpu_executor.cc:937] successful NUMA node read from SysFS had negative value (-1), but there must be at least one NUMA node, so returning NUMA node zero\n",
      "2023-01-28 15:06:48.916247: I tensorflow/stream_executor/cuda/cuda_gpu_executor.cc:937] successful NUMA node read from SysFS had negative value (-1), but there must be at least one NUMA node, so returning NUMA node zero\n",
      "2023-01-28 15:06:48.916945: I tensorflow/stream_executor/cuda/cuda_gpu_executor.cc:937] successful NUMA node read from SysFS had negative value (-1), but there must be at least one NUMA node, so returning NUMA node zero\n",
      "2023-01-28 15:06:48.918840: I tensorflow/core/platform/cpu_feature_guard.cc:142] This TensorFlow binary is optimized with oneAPI Deep Neural Network Library (oneDNN) to use the following CPU instructions in performance-critical operations:  AVX2 AVX512F FMA\n",
      "To enable them in other operations, rebuild TensorFlow with the appropriate compiler flags.\n",
      "2023-01-28 15:06:48.919182: I tensorflow/stream_executor/cuda/cuda_gpu_executor.cc:937] successful NUMA node read from SysFS had negative value (-1), but there must be at least one NUMA node, so returning NUMA node zero\n",
      "2023-01-28 15:06:48.919876: I tensorflow/stream_executor/cuda/cuda_gpu_executor.cc:937] successful NUMA node read from SysFS had negative value (-1), but there must be at least one NUMA node, so returning NUMA node zero\n",
      "2023-01-28 15:06:48.920587: I tensorflow/stream_executor/cuda/cuda_gpu_executor.cc:937] successful NUMA node read from SysFS had negative value (-1), but there must be at least one NUMA node, so returning NUMA node zero\n",
      "2023-01-28 15:06:53.467262: I tensorflow/stream_executor/cuda/cuda_gpu_executor.cc:937] successful NUMA node read from SysFS had negative value (-1), but there must be at least one NUMA node, so returning NUMA node zero\n",
      "2023-01-28 15:06:53.468297: I tensorflow/stream_executor/cuda/cuda_gpu_executor.cc:937] successful NUMA node read from SysFS had negative value (-1), but there must be at least one NUMA node, so returning NUMA node zero\n",
      "2023-01-28 15:06:53.469141: I tensorflow/stream_executor/cuda/cuda_gpu_executor.cc:937] successful NUMA node read from SysFS had negative value (-1), but there must be at least one NUMA node, so returning NUMA node zero\n",
      "2023-01-28 15:06:53.469767: I tensorflow/core/common_runtime/gpu/gpu_device.cc:1510] Created device /job:localhost/replica:0/task:0/device:GPU:0 with 15043 MB memory:  -> device: 0, name: Tesla P100-PCIE-16GB, pci bus id: 0000:00:04.0, compute capability: 6.0\n"
     ]
    }
   ],
   "source": [
    "import time\n",
    "import json\n",
    "import os\n",
    "\n",
    "# from joblib import dump, load, Memory\n",
    "import joblib\n",
    "import dill\n",
    "import weakref\n",
    "\n",
    "# import warnings\n",
    "\n",
    "import numpy as np\n",
    "import pandas as pd\n",
    "import gensim\n",
    "import pyLDAvis\n",
    "import matplotlib.pyplot as plt\n",
    "\n",
    "# from gensim import (\n",
    "#     corpora,\n",
    "# )  # https://pypi.org/project/gensim/ #https://radimrehurek.com/gensim/auto_examples/core/run_topics_and_transformations.html#sphx-glr-auto-examples-core-run-topics-and-transformations-py\n",
    "from sklearn import (\n",
    "    metrics,\n",
    "    feature_extraction,\n",
    "    linear_model,\n",
    "    model_selection,\n",
    "    preprocessing,\n",
    "    cluster,\n",
    "    decomposition,\n",
    "    multiclass,\n",
    "    svm,\n",
    "    pipeline,\n",
    "    exceptions,\n",
    "    manifold,\n",
    ")\n",
    "from wordcloud import WordCloud\n",
    "from sklearn.utils._testing import ignore_warnings\n",
    "from sklearn.base import BaseEstimator, TransformerMixin\n",
    "import tensorflow as tf\n",
    "import tensorflow_hub as hub\n",
    "from transformers import (\n",
    "    AutoTokenizer,\n",
    "    TFAutoModel,\n",
    "    AutoModel,\n",
    "    BertTokenizer,\n",
    "    TFBertModel,\n",
    "    BertConfig,\n",
    ")  # BertModel\n",
    "import transformers\n",
    "from tokenizers import BertWordPieceTokenizer\n",
    "\n",
    "\n",
    "# import nlpk"
   ]
  },
  {
   "cell_type": "code",
   "execution_count": 2,
   "id": "48cae34b",
   "metadata": {
    "execution": {
     "iopub.execute_input": "2023-01-28T15:06:53.899603Z",
     "iopub.status.busy": "2023-01-28T15:06:53.897809Z",
     "iopub.status.idle": "2023-01-28T15:06:58.100942Z",
     "shell.execute_reply": "2023-01-28T15:06:58.100017Z"
    },
    "papermill": {
     "duration": 4.225105,
     "end_time": "2023-01-28T15:06:58.103724",
     "exception": false,
     "start_time": "2023-01-28T15:06:53.878619",
     "status": "completed"
    },
    "tags": []
   },
   "outputs": [
    {
     "name": "stderr",
     "output_type": "stream",
     "text": [
      "/opt/conda/lib/python3.7/site-packages/mxnet/numpy/utils.py:37: DeprecationWarning: `np.bool` is a deprecated alias for the builtin `bool`. To silence this warning, use `bool` by itself. Doing this will not modify any behavior and is safe. If you specifically wanted the numpy scalar type, use `np.bool_` here.\n",
      "Deprecated in NumPy 1.20; for more details and guidance: https://numpy.org/devdocs/release/1.20.0-notes.html#deprecations\n",
      "  bool = onp.bool\n",
      "/opt/conda/lib/python3.7/site-packages/mxnet/numpy/fallback.py:143: DeprecationWarning: In accordance with NEP 32, the function mirr was removed from NumPy version 1.20.  A replacement for this function is available in the numpy_financial library: https://pypi.org/project/numpy-financial\n",
      "  mirr = onp.mirr\n",
      "/opt/conda/lib/python3.7/site-packages/mxnet/numpy/fallback.py:160: DeprecationWarning: In accordance with NEP 32, the function npv was removed from NumPy version 1.20.  A replacement for this function is available in the numpy_financial library: https://pypi.org/project/numpy-financial\n",
      "  npv = onp.npv\n",
      "/opt/conda/lib/python3.7/site-packages/mxnet/numpy/fallback.py:164: DeprecationWarning: In accordance with NEP 32, the function pmt was removed from NumPy version 1.20.  A replacement for this function is available in the numpy_financial library: https://pypi.org/project/numpy-financial\n",
      "  pmt = onp.pmt\n",
      "/opt/conda/lib/python3.7/site-packages/mxnet/numpy/fallback.py:173: DeprecationWarning: In accordance with NEP 32, the function ppmt was removed from NumPy version 1.20.  A replacement for this function is available in the numpy_financial library: https://pypi.org/project/numpy-financial\n",
      "  ppmt = onp.ppmt\n",
      "/opt/conda/lib/python3.7/site-packages/mxnet/numpy/fallback.py:176: DeprecationWarning: In accordance with NEP 32, the function pv was removed from NumPy version 1.20.  A replacement for this function is available in the numpy_financial library: https://pypi.org/project/numpy-financial\n",
      "  pv = onp.pv\n",
      "/opt/conda/lib/python3.7/site-packages/mxnet/numpy/fallback.py:177: DeprecationWarning: In accordance with NEP 32, the function rate was removed from NumPy version 1.20.  A replacement for this function is available in the numpy_financial library: https://pypi.org/project/numpy-financial\n",
      "  rate = onp.rate\n"
     ]
    }
   ],
   "source": [
    "from kerasembedtransformerclass import p5_nlp_utils"
   ]
  },
  {
   "cell_type": "markdown",
   "id": "cea00c64",
   "metadata": {
    "papermill": {
     "duration": 0.016307,
     "end_time": "2023-01-28T15:06:58.137044",
     "exception": false,
     "start_time": "2023-01-28T15:06:58.120737",
     "status": "completed"
    },
    "tags": []
   },
   "source": [
    "https://scikit-learn.org/stable/modules/multiclass.html test autre stategie que OneVsRest  \n",
    "https://keras.io/examples/nlp/text_extraction_with_bert/  "
   ]
  },
  {
   "cell_type": "code",
   "execution_count": 3,
   "id": "ff0d1301",
   "metadata": {
    "_kg_hide-output": true,
    "execution": {
     "iopub.execute_input": "2023-01-28T15:06:58.172039Z",
     "iopub.status.busy": "2023-01-28T15:06:58.170540Z",
     "iopub.status.idle": "2023-01-28T15:07:09.806218Z",
     "shell.execute_reply": "2023-01-28T15:07:09.805041Z"
    },
    "papermill": {
     "duration": 11.655119,
     "end_time": "2023-01-28T15:07:09.808471",
     "exception": false,
     "start_time": "2023-01-28T15:06:58.153352",
     "status": "completed"
    },
    "tags": []
   },
   "outputs": [
    {
     "name": "stdout",
     "output_type": "stream",
     "text": [
      "\u001b[33mWARNING: Running pip as the 'root' user can result in broken permissions and conflicting behaviour with the system package manager. It is recommended to use a virtual environment instead: https://pip.pypa.io/warnings/venv\u001b[0m\u001b[33m\r\n",
      "\u001b[0mNote: you may need to restart the kernel to use updated packages.\n"
     ]
    }
   ],
   "source": [
    "pip install -q jupyter-black jupyter"
   ]
  },
  {
   "cell_type": "code",
   "execution_count": 4,
   "id": "420362f1",
   "metadata": {
    "execution": {
     "iopub.execute_input": "2023-01-28T15:07:09.843414Z",
     "iopub.status.busy": "2023-01-28T15:07:09.843085Z",
     "iopub.status.idle": "2023-01-28T15:07:09.967438Z",
     "shell.execute_reply": "2023-01-28T15:07:09.966371Z"
    },
    "papermill": {
     "duration": 0.145022,
     "end_time": "2023-01-28T15:07:09.970308",
     "exception": false,
     "start_time": "2023-01-28T15:07:09.825286",
     "status": "completed"
    },
    "tags": []
   },
   "outputs": [
    {
     "data": {
      "text/html": [
       "\n",
       "                <script type=\"application/javascript\" id=\"jupyter_black\">\n",
       "                (function() {\n",
       "                    if (window.IPython === undefined) {\n",
       "                        return\n",
       "                    }\n",
       "                    var msg = \"WARNING: it looks like you might have loaded \" +\n",
       "                        \"jupyter_black in a non-lab notebook with \" +\n",
       "                        \"`is_lab=True`. Please double check, and if \" +\n",
       "                        \"loading with `%load_ext` please review the README!\"\n",
       "                    console.log(msg)\n",
       "                    alert(msg)\n",
       "                })()\n",
       "                </script>\n",
       "                "
      ],
      "text/plain": [
       "<IPython.core.display.HTML object>"
      ]
     },
     "metadata": {},
     "output_type": "display_data"
    }
   ],
   "source": [
    "# for black formating\n",
    "import jupyter_black  # pip install jupyter-black jupyter\n",
    "\n",
    "jupyter_black.load()\n",
    "# ??jupyter_black.load #show config"
   ]
  },
  {
   "cell_type": "code",
   "execution_count": 5,
   "id": "c584276e",
   "metadata": {
    "execution": {
     "iopub.execute_input": "2023-01-28T15:07:10.006154Z",
     "iopub.status.busy": "2023-01-28T15:07:10.005201Z",
     "iopub.status.idle": "2023-01-28T15:07:20.746047Z",
     "shell.execute_reply": "2023-01-28T15:07:20.744029Z"
    },
    "papermill": {
     "duration": 10.761109,
     "end_time": "2023-01-28T15:07:20.748391",
     "exception": false,
     "start_time": "2023-01-28T15:07:09.987282",
     "status": "completed"
    },
    "tags": []
   },
   "outputs": [
    {
     "name": "stdout",
     "output_type": "stream",
     "text": [
      "<class 'pandas.core.frame.DataFrame'>\n",
      "Int64Index: 118442 entries, 0 to 118441\n",
      "Data columns (total 12 columns):\n",
      " #   Column       Non-Null Count   Dtype \n",
      "---  ------       --------------   ----- \n",
      " 0   Id           118442 non-null  int64 \n",
      " 1   Title        118442 non-null  object\n",
      " 2   Body         118442 non-null  object\n",
      " 3   0            118440 non-null  object\n",
      " 4   1            118383 non-null  object\n",
      " 5   2            118292 non-null  object\n",
      " 6   3            118292 non-null  object\n",
      " 7   4            76389 non-null   object\n",
      " 8   5            4 non-null       object\n",
      " 9   Token_lemma  118442 non-null  object\n",
      " 10  Token_BERT   118442 non-null  object\n",
      " 11  code         88202 non-null   object\n",
      "dtypes: int64(1), object(11)\n",
      "memory usage: 11.7+ MB\n"
     ]
    }
   ],
   "source": [
    "df = pd.read_csv(\n",
    "    \"/kaggle/input/p5-nlp/stackoverflowCleanedV2.csv\", index_col=0, low_memory=False\n",
    ")\n",
    "df.info()"
   ]
  },
  {
   "cell_type": "code",
   "execution_count": 6,
   "id": "78826b6b",
   "metadata": {
    "execution": {
     "iopub.execute_input": "2023-01-28T15:07:20.784878Z",
     "iopub.status.busy": "2023-01-28T15:07:20.784587Z",
     "iopub.status.idle": "2023-01-28T15:07:20.862660Z",
     "shell.execute_reply": "2023-01-28T15:07:20.861786Z"
    },
    "papermill": {
     "duration": 0.098001,
     "end_time": "2023-01-28T15:07:20.864743",
     "exception": false,
     "start_time": "2023-01-28T15:07:20.766742",
     "status": "completed"
    },
    "tags": []
   },
   "outputs": [],
   "source": [
    "LONG = False\n",
    "description = {\n",
    "    \"title\": \"Word2Vec best scores\",\n",
    "    \"target_min_freq\": 0.002, # 0.002 -> 50tags jusqu'a git\n",
    "    \"target_nb_max\": 20, # int en complément de freq, premier test fait avec 20+git\n",
    "    \"CountVectorizer\": {\"min_df\": 0.00001, \"max_df\": 0.995, \"max_features\": None},\n",
    "    \"StandardScaler\": {\"actif\": False},\n",
    "    \"TruncatedSVD\": {\"actif\": False, \"n_components\": 1_000},\n",
    "    \"LogisticRegression\": {\"actif\": False},\n",
    "    \"TfidfOvRSVC\": {\"actif\": False, \"max_iter\": 100},\n",
    "    \"Word2Vec_keras\": {\n",
    "        \"actif\": True,\n",
    "        \"TextVectorization__max_tokens\": 210_000,  # 20_000,\n",
    "        \"TextVectorization__output_sequence_length\": 256,  # max tokens(mots) considéré par question #20\n",
    "        \"Embedding__output_dim\": 512, \n",
    "        \"Word2Vec__min_count\": 5,\n",
    "        \"Word2Vec__window\": 25,\n",
    "        \"Word2Vec__epochs\": 200,  # 100,\n",
    "        \"fit__learning_rate\":1e-5,\n",
    "        \"fit__epochs\": 150,  # 15\n",
    "    },\n",
    "    \"Word2Vec_OVR\": {\n",
    "        \"actif\": False,\n",
    "        \"min_count\": 1,\n",
    "        \"size\": 500,\n",
    "        \"window\": 10,\n",
    "        \"epochs\": 100,\n",
    "        \"maxlen\": 50,\n",
    "        \"max_iter\": 6_000,\n",
    "    },\n",
    "    \"BERT\": {\n",
    "        \"actif\": False,\n",
    "        \"max_length\": 512,\n",
    "        \"epochs\": 10,\n",
    "        \"cleaning\":\"v2\",\n",
    "    },\n",
    "    \"USE\": {\"actif\": False, \"tsne_visu\": True, \"epochs\": 50},\n",
    "    \"LDA\": {\n",
    "        \"actif\": False,\n",
    "        \"num_topics\": [20],  # [5, 10, 20],\n",
    "        \"lda__no_below\": 100,\n",
    "        \"lda__no_above\": 0.5,\n",
    "        \"lda__max_tokens\": 100_000,\n",
    "        \"lda__iterations\": 50,\n",
    "        \"word_cloud__nb_words\": 50,\n",
    "    },\n",
    "}"
   ]
  },
  {
   "cell_type": "code",
   "execution_count": 7,
   "id": "8f76f54f",
   "metadata": {
    "execution": {
     "iopub.execute_input": "2023-01-28T15:07:20.899328Z",
     "iopub.status.busy": "2023-01-28T15:07:20.898567Z",
     "iopub.status.idle": "2023-01-28T15:07:20.916846Z",
     "shell.execute_reply": "2023-01-28T15:07:20.916035Z"
    },
    "papermill": {
     "duration": 0.037498,
     "end_time": "2023-01-28T15:07:20.918760",
     "exception": false,
     "start_time": "2023-01-28T15:07:20.881262",
     "status": "completed"
    },
    "tags": []
   },
   "outputs": [],
   "source": [
    "class colors:\n",
    "    PURPLE = \"\\033[95m\"\n",
    "    BLUE = \"\\033[94m\"\n",
    "    CYAN = \"\\033[96m\"\n",
    "    GREEN = \"\\033[92m\"\n",
    "    YELLOW = \"\\033[93m\"\n",
    "    RED = \"\\033[91m\"\n",
    "    ENDC = \"\\033[0m\"\n",
    "    BOLD = \"\\033[1m\"\n",
    "    UNDERLINE = \"\\033[4m\""
   ]
  },
  {
   "cell_type": "markdown",
   "id": "5499db98",
   "metadata": {
    "papermill": {
     "duration": 0.016212,
     "end_time": "2023-01-28T15:07:20.951475",
     "exception": false,
     "start_time": "2023-01-28T15:07:20.935263",
     "status": "completed"
    },
    "tags": []
   },
   "source": [
    "# Tokenization"
   ]
  },
  {
   "cell_type": "code",
   "execution_count": 8,
   "id": "2383acf1",
   "metadata": {
    "execution": {
     "iopub.execute_input": "2023-01-28T15:07:20.986241Z",
     "iopub.status.busy": "2023-01-28T15:07:20.985480Z",
     "iopub.status.idle": "2023-01-28T15:07:21.036819Z",
     "shell.execute_reply": "2023-01-28T15:07:21.035876Z"
    },
    "papermill": {
     "duration": 0.071494,
     "end_time": "2023-01-28T15:07:21.039639",
     "exception": false,
     "start_time": "2023-01-28T15:07:20.968145",
     "status": "completed"
    },
    "tags": []
   },
   "outputs": [
    {
     "name": "stderr",
     "output_type": "stream",
     "text": [
      "/opt/conda/lib/python3.7/site-packages/ipykernel/pylab/backend_inline.py:13: DeprecationWarning: `ipykernel.pylab.backend_inline` is deprecated, directly use `matplotlib_inline.backend_inline`\n",
      "  DeprecationWarning,\n"
     ]
    },
    {
     "data": {
      "application/vnd.jupyter.widget-view+json": {
       "model_id": "6f57f64dbc1a4ac49e5dd0abd27dc971",
       "version_major": 2,
       "version_minor": 0
      },
      "text/plain": [
       "interactive(children=(IntSlider(value=59220, description='i', max=118441), Output()), _dom_classes=('widget-in…"
      ]
     },
     "metadata": {},
     "output_type": "display_data"
    }
   ],
   "source": [
    "from ipywidgets import interact\n",
    "\n",
    "\n",
    "@interact(i=(0, df.shape[0] - 1))\n",
    "def test_tr_print(i):\n",
    "    print(\n",
    "        f'***Title***{df[\"Title\"][i]}\\n{\"*\"*30}\\n***Body***{df[\"Body\"][i]}\\n{\"*\"*30}\\n\\\n",
    "        ***Lemma** {df[\"Token_lemma\"][i]}\\n{\"*\"*30}\\n\\\n",
    "        ***Bert*** {df[\"Token_BERT\"][i]}\\n{\"*\"*30}\\n\\\n",
    "        ***Code*** {df[\"code\"][i]}\\n{\"*\"*30}\\n\\\n",
    "        ***Tags*** {df.loc[i,\"0\"]} {df.loc[i,\"1\"]} {df.loc[i,\"2\"]} {df.loc[i,\"3\"]} {df.loc[i,\"4\"]}'\n",
    "    )"
   ]
  },
  {
   "cell_type": "code",
   "execution_count": 9,
   "id": "e98ab969",
   "metadata": {
    "execution": {
     "iopub.execute_input": "2023-01-28T15:07:21.078397Z",
     "iopub.status.busy": "2023-01-28T15:07:21.077618Z",
     "iopub.status.idle": "2023-01-28T15:07:21.142013Z",
     "shell.execute_reply": "2023-01-28T15:07:21.140324Z"
    },
    "papermill": {
     "duration": 0.084919,
     "end_time": "2023-01-28T15:07:21.144601",
     "exception": false,
     "start_time": "2023-01-28T15:07:21.059682",
     "status": "completed"
    },
    "tags": []
   },
   "outputs": [
    {
     "name": "stdout",
     "output_type": "stream",
     "text": [
      "0\n"
     ]
    },
    {
     "data": {
      "text/html": [
       "<div>\n",
       "<style scoped>\n",
       "    .dataframe tbody tr th:only-of-type {\n",
       "        vertical-align: middle;\n",
       "    }\n",
       "\n",
       "    .dataframe tbody tr th {\n",
       "        vertical-align: top;\n",
       "    }\n",
       "\n",
       "    .dataframe thead th {\n",
       "        text-align: right;\n",
       "    }\n",
       "</style>\n",
       "<table border=\"1\" class=\"dataframe\">\n",
       "  <thead>\n",
       "    <tr style=\"text-align: right;\">\n",
       "      <th></th>\n",
       "      <th>Title</th>\n",
       "      <th>Body</th>\n",
       "      <th>Token_lemma</th>\n",
       "      <th>0</th>\n",
       "      <th>1</th>\n",
       "      <th>2</th>\n",
       "      <th>3</th>\n",
       "      <th>4</th>\n",
       "    </tr>\n",
       "  </thead>\n",
       "  <tbody>\n",
       "  </tbody>\n",
       "</table>\n",
       "</div>"
      ],
      "text/plain": [
       "Empty DataFrame\n",
       "Columns: [Title, Body, Token_lemma, 0, 1, 2, 3, 4]\n",
       "Index: []"
      ]
     },
     "execution_count": 9,
     "metadata": {},
     "output_type": "execute_result"
    }
   ],
   "source": [
    "print(sum(df[\"Token_lemma\"].isna()))\n",
    "df[df[\"Token_lemma\"].isna()][\n",
    "    [\"Title\", \"Body\", \"Token_lemma\", \"0\", \"1\", \"2\", \"3\", \"4\"]\n",
    "].head(5)"
   ]
  },
  {
   "cell_type": "code",
   "execution_count": 10,
   "id": "54068057",
   "metadata": {
    "execution": {
     "iopub.execute_input": "2023-01-28T15:07:21.180478Z",
     "iopub.status.busy": "2023-01-28T15:07:21.179932Z",
     "iopub.status.idle": "2023-01-28T15:07:21.240836Z",
     "shell.execute_reply": "2023-01-28T15:07:21.239919Z"
    },
    "papermill": {
     "duration": 0.080904,
     "end_time": "2023-01-28T15:07:21.242904",
     "exception": false,
     "start_time": "2023-01-28T15:07:21.162000",
     "status": "completed"
    },
    "tags": []
   },
   "outputs": [
    {
     "name": "stdout",
     "output_type": "stream",
     "text": [
      "0\n"
     ]
    },
    {
     "data": {
      "text/html": [
       "<div>\n",
       "<style scoped>\n",
       "    .dataframe tbody tr th:only-of-type {\n",
       "        vertical-align: middle;\n",
       "    }\n",
       "\n",
       "    .dataframe tbody tr th {\n",
       "        vertical-align: top;\n",
       "    }\n",
       "\n",
       "    .dataframe thead th {\n",
       "        text-align: right;\n",
       "    }\n",
       "</style>\n",
       "<table border=\"1\" class=\"dataframe\">\n",
       "  <thead>\n",
       "    <tr style=\"text-align: right;\">\n",
       "      <th></th>\n",
       "      <th>Title</th>\n",
       "      <th>Body</th>\n",
       "      <th>Token_BERT</th>\n",
       "      <th>code</th>\n",
       "    </tr>\n",
       "  </thead>\n",
       "  <tbody>\n",
       "  </tbody>\n",
       "</table>\n",
       "</div>"
      ],
      "text/plain": [
       "Empty DataFrame\n",
       "Columns: [Title, Body, Token_BERT, code]\n",
       "Index: []"
      ]
     },
     "execution_count": 10,
     "metadata": {},
     "output_type": "execute_result"
    }
   ],
   "source": [
    "print(sum(df[\"Token_BERT\"].isna()))\n",
    "df[df[\"Token_BERT\"].isna()][\n",
    "    [\"Title\", \"Body\", \"Token_BERT\", \"code\"]\n",
    "].head(5)"
   ]
  },
  {
   "cell_type": "code",
   "execution_count": 11,
   "id": "29b05984",
   "metadata": {
    "execution": {
     "iopub.execute_input": "2023-01-28T15:07:21.279825Z",
     "iopub.status.busy": "2023-01-28T15:07:21.279073Z",
     "iopub.status.idle": "2023-01-28T15:07:21.426390Z",
     "shell.execute_reply": "2023-01-28T15:07:21.424895Z"
    },
    "papermill": {
     "duration": 0.168536,
     "end_time": "2023-01-28T15:07:21.429128",
     "exception": false,
     "start_time": "2023-01-28T15:07:21.260592",
     "status": "completed"
    },
    "tags": []
   },
   "outputs": [
    {
     "name": "stdout",
     "output_type": "stream",
     "text": [
      "taille 21\n",
      "java c# javascript python android c++ ios html php .net jquery css objective-c c sql iphone asp.net mysql linux node.js git\n"
     ]
    }
   ],
   "source": [
    "tags = df[[\"0\", \"1\", \"2\", \"3\", \"4\", \"5\"]].stack()\n",
    "target_names = [\n",
    "    tag\n",
    "    for tag, freq in tags.reset_index(drop=True).value_counts(normalize=True).items()\n",
    "    if freq > description[\"target_min_freq\"]\n",
    "]\n",
    "if description[\"target_nb_max\"] and len(target_names)>description[\"target_nb_max\"]:\n",
    "    target_names = target_names[0:description[\"target_nb_max\"]] + [\"git\"]\n",
    "print(f\"taille {len(target_names)}\\n{' '.join(target_names)}\")"
   ]
  },
  {
   "cell_type": "code",
   "execution_count": 12,
   "id": "964378d3",
   "metadata": {
    "execution": {
     "iopub.execute_input": "2023-01-28T15:07:21.466449Z",
     "iopub.status.busy": "2023-01-28T15:07:21.465523Z",
     "iopub.status.idle": "2023-01-28T15:07:21.478485Z",
     "shell.execute_reply": "2023-01-28T15:07:21.477623Z"
    },
    "papermill": {
     "duration": 0.033184,
     "end_time": "2023-01-28T15:07:21.480448",
     "exception": false,
     "start_time": "2023-01-28T15:07:21.447264",
     "status": "completed"
    },
    "tags": []
   },
   "outputs": [],
   "source": [
    "# Enregistrement des paramétres avec la liste des tags a predire\n",
    "description[\"target_names\"] = target_names\n",
    "with open(\"/kaggle/working/description.json\", \"w\") as outfile:\n",
    "    json.dump(description, outfile)"
   ]
  },
  {
   "cell_type": "code",
   "execution_count": 13,
   "id": "9167be7f",
   "metadata": {
    "execution": {
     "iopub.execute_input": "2023-01-28T15:07:21.516684Z",
     "iopub.status.busy": "2023-01-28T15:07:21.515809Z",
     "iopub.status.idle": "2023-01-28T15:07:21.545167Z",
     "shell.execute_reply": "2023-01-28T15:07:21.544141Z"
    },
    "papermill": {
     "duration": 0.049611,
     "end_time": "2023-01-28T15:07:21.547405",
     "exception": false,
     "start_time": "2023-01-28T15:07:21.497794",
     "status": "completed"
    },
    "tags": []
   },
   "outputs": [
    {
     "data": {
      "text/html": [
       "<div>\n",
       "<style scoped>\n",
       "    .dataframe tbody tr th:only-of-type {\n",
       "        vertical-align: middle;\n",
       "    }\n",
       "\n",
       "    .dataframe tbody tr th {\n",
       "        vertical-align: top;\n",
       "    }\n",
       "\n",
       "    .dataframe thead th {\n",
       "        text-align: right;\n",
       "    }\n",
       "</style>\n",
       "<table border=\"1\" class=\"dataframe\">\n",
       "  <thead>\n",
       "    <tr style=\"text-align: right;\">\n",
       "      <th></th>\n",
       "      <th>javascript</th>\n",
       "      <th>java</th>\n",
       "      <th>c#</th>\n",
       "      <th>python</th>\n",
       "      <th>html</th>\n",
       "      <th>git</th>\n",
       "      <th>php</th>\n",
       "    </tr>\n",
       "  </thead>\n",
       "  <tbody>\n",
       "    <tr>\n",
       "      <th>0</th>\n",
       "      <td>False</td>\n",
       "      <td>True</td>\n",
       "      <td>False</td>\n",
       "      <td>False</td>\n",
       "      <td>False</td>\n",
       "      <td>False</td>\n",
       "      <td>False</td>\n",
       "    </tr>\n",
       "    <tr>\n",
       "      <th>1</th>\n",
       "      <td>False</td>\n",
       "      <td>False</td>\n",
       "      <td>False</td>\n",
       "      <td>False</td>\n",
       "      <td>False</td>\n",
       "      <td>True</td>\n",
       "      <td>False</td>\n",
       "    </tr>\n",
       "    <tr>\n",
       "      <th>2</th>\n",
       "      <td>False</td>\n",
       "      <td>False</td>\n",
       "      <td>False</td>\n",
       "      <td>False</td>\n",
       "      <td>False</td>\n",
       "      <td>True</td>\n",
       "      <td>False</td>\n",
       "    </tr>\n",
       "    <tr>\n",
       "      <th>3</th>\n",
       "      <td>False</td>\n",
       "      <td>False</td>\n",
       "      <td>False</td>\n",
       "      <td>False</td>\n",
       "      <td>False</td>\n",
       "      <td>True</td>\n",
       "      <td>False</td>\n",
       "    </tr>\n",
       "    <tr>\n",
       "      <th>4</th>\n",
       "      <td>False</td>\n",
       "      <td>False</td>\n",
       "      <td>False</td>\n",
       "      <td>False</td>\n",
       "      <td>False</td>\n",
       "      <td>False</td>\n",
       "      <td>False</td>\n",
       "    </tr>\n",
       "    <tr>\n",
       "      <th>5</th>\n",
       "      <td>False</td>\n",
       "      <td>False</td>\n",
       "      <td>False</td>\n",
       "      <td>False</td>\n",
       "      <td>False</td>\n",
       "      <td>False</td>\n",
       "      <td>False</td>\n",
       "    </tr>\n",
       "    <tr>\n",
       "      <th>6</th>\n",
       "      <td>False</td>\n",
       "      <td>False</td>\n",
       "      <td>False</td>\n",
       "      <td>False</td>\n",
       "      <td>False</td>\n",
       "      <td>True</td>\n",
       "      <td>False</td>\n",
       "    </tr>\n",
       "    <tr>\n",
       "      <th>7</th>\n",
       "      <td>True</td>\n",
       "      <td>False</td>\n",
       "      <td>False</td>\n",
       "      <td>False</td>\n",
       "      <td>False</td>\n",
       "      <td>False</td>\n",
       "      <td>False</td>\n",
       "    </tr>\n",
       "    <tr>\n",
       "      <th>8</th>\n",
       "      <td>True</td>\n",
       "      <td>False</td>\n",
       "      <td>False</td>\n",
       "      <td>False</td>\n",
       "      <td>False</td>\n",
       "      <td>False</td>\n",
       "      <td>False</td>\n",
       "    </tr>\n",
       "    <tr>\n",
       "      <th>9</th>\n",
       "      <td>False</td>\n",
       "      <td>False</td>\n",
       "      <td>False</td>\n",
       "      <td>True</td>\n",
       "      <td>False</td>\n",
       "      <td>False</td>\n",
       "      <td>False</td>\n",
       "    </tr>\n",
       "  </tbody>\n",
       "</table>\n",
       "</div>"
      ],
      "text/plain": [
       "   javascript   java     c#  python   html    git    php\n",
       "0       False   True  False   False  False  False  False\n",
       "1       False  False  False   False  False   True  False\n",
       "2       False  False  False   False  False   True  False\n",
       "3       False  False  False   False  False   True  False\n",
       "4       False  False  False   False  False  False  False\n",
       "5       False  False  False   False  False  False  False\n",
       "6       False  False  False   False  False   True  False\n",
       "7        True  False  False   False  False  False  False\n",
       "8        True  False  False   False  False  False  False\n",
       "9       False  False  False    True  False  False  False"
      ]
     },
     "execution_count": 13,
     "metadata": {},
     "output_type": "execute_result"
    }
   ],
   "source": [
    "p5_nlp_utils.Commun.tags_are_in(\n",
    "    df[0:10], [\"javascript\", \"java\", \"c#\", \"python\", \"html\", \"git\", \"php\"]\n",
    ")"
   ]
  },
  {
   "cell_type": "markdown",
   "id": "33300bf7",
   "metadata": {
    "papermill": {
     "duration": 0.017398,
     "end_time": "2023-01-28T15:07:21.582444",
     "exception": false,
     "start_time": "2023-01-28T15:07:21.565046",
     "status": "completed"
    },
    "tags": []
   },
   "source": [
    "## Separation train/test"
   ]
  },
  {
   "cell_type": "code",
   "execution_count": 14,
   "id": "fc1efdcf",
   "metadata": {
    "execution": {
     "iopub.execute_input": "2023-01-28T15:07:21.619246Z",
     "iopub.status.busy": "2023-01-28T15:07:21.618523Z",
     "iopub.status.idle": "2023-01-28T15:07:22.844012Z",
     "shell.execute_reply": "2023-01-28T15:07:22.843015Z"
    },
    "papermill": {
     "duration": 1.246162,
     "end_time": "2023-01-28T15:07:22.846434",
     "exception": false,
     "start_time": "2023-01-28T15:07:21.600272",
     "status": "completed"
    },
    "tags": []
   },
   "outputs": [
    {
     "name": "stdout",
     "output_type": "stream",
     "text": [
      "99.99831% des questions ont au moins 2tokens\n"
     ]
    }
   ],
   "source": [
    "if description[\"BERT\"][\"actif\"] and description[\"BERT\"][\"cleaning\"] ==\"raw\": #essaie sans nettoyer le texte pour BERT\n",
    "    df[\"Token\"] = (\n",
    "        df[\"Title\"].fillna(\"\").str.strip() + \" \" + df[\"Body\"].fillna(\"\").str.strip()\n",
    "    )\n",
    "elif description[\"BERT\"][\"actif\"] and description[\"BERT\"][\"cleaning\"] ==\"v2\":\n",
    "    df[\"Token\"] = df[\"Token_BERT\"]\n",
    "else:\n",
    "    df[\"Token\"] = df[\"Token_lemma\"]\n",
    "#     df[\"Token\"] = df[\"Title_clean\"].fillna(\"\") + df[\"Body_clean\"].fillna(\"\")\n",
    "    print(\n",
    "        f\"{len(df[[len(token.split()) > 1 for token in df['Token']]])/len(df):.5%} des questions ont au moins 2tokens\"\n",
    "        if len(df[df[\"Token\"] == \"\"]) == 0\n",
    "        else f\"{len(df[df['Token'] == ''])} questions n'ont pas de token\"\n",
    "    )\n",
    "X_train, X_test, y_train, y_test = model_selection.train_test_split(\n",
    "    df[\"Token\"], p5_nlp_utils.Commun.tags_are_in(df, target_names), random_state=42\n",
    ")"
   ]
  },
  {
   "cell_type": "markdown",
   "id": "52e9012e",
   "metadata": {
    "papermill": {
     "duration": 0.018073,
     "end_time": "2023-01-28T15:07:22.882491",
     "exception": false,
     "start_time": "2023-01-28T15:07:22.864418",
     "status": "completed"
    },
    "tags": []
   },
   "source": [
    "## Nombre et % de chaque tag dans train et test\n",
    "Une question peut avoir plusieur tag donc la somme est supérieur aux nombres de ligne"
   ]
  },
  {
   "cell_type": "code",
   "execution_count": 15,
   "id": "37714747",
   "metadata": {
    "execution": {
     "iopub.execute_input": "2023-01-28T15:07:22.918741Z",
     "iopub.status.busy": "2023-01-28T15:07:22.918434Z",
     "iopub.status.idle": "2023-01-28T15:07:22.962076Z",
     "shell.execute_reply": "2023-01-28T15:07:22.960981Z"
    },
    "papermill": {
     "duration": 0.064104,
     "end_time": "2023-01-28T15:07:22.964190",
     "exception": false,
     "start_time": "2023-01-28T15:07:22.900086",
     "status": "completed"
    },
    "tags": []
   },
   "outputs": [
    {
     "name": "stdout",
     "output_type": "stream",
     "text": [
      "|tag positif  nb train   %    |  test   %   |\n",
      "|\u001b[1mjava          \u001b[0m\u001b[92m10706   \u001b[0m12.05% | \u001b[92m3558 \u001b[0m 12.02%|\n",
      "|\u001b[1mc#            \u001b[0m\u001b[92m10484   \u001b[0m11.80% | \u001b[92m3473 \u001b[0m 11.73%|\n",
      "|\u001b[1mjavascript    \u001b[0m\u001b[92m10451   \u001b[0m11.77% | \u001b[92m3356 \u001b[0m 11.33%|\n",
      "|\u001b[1mpython        \u001b[0m\u001b[92m7652    \u001b[0m08.61% | \u001b[92m2612 \u001b[0m 08.82%|\n",
      "|\u001b[1mandroid       \u001b[0m\u001b[92m6216    \u001b[0m07.00% | \u001b[92m2045 \u001b[0m 06.91%|\n",
      "|\u001b[1mc++           \u001b[0m\u001b[92m5893    \u001b[0m06.63% | \u001b[92m1964 \u001b[0m 06.63%|\n",
      "|\u001b[1mios           \u001b[0m\u001b[92m5554    \u001b[0m06.25% | \u001b[92m1840 \u001b[0m 06.21%|\n",
      "|\u001b[1mhtml          \u001b[0m\u001b[92m5198    \u001b[0m05.85% | \u001b[92m1755 \u001b[0m 05.93%|\n",
      "|\u001b[1mphp           \u001b[0m\u001b[92m4935    \u001b[0m05.56% | \u001b[92m1627 \u001b[0m 05.49%|\n",
      "|\u001b[1m.net          \u001b[0m\u001b[92m4746    \u001b[0m05.34% | \u001b[92m1569 \u001b[0m 05.30%|\n",
      "|\u001b[1mjquery        \u001b[0m\u001b[92m4762    \u001b[0m05.36% | \u001b[92m1538 \u001b[0m 05.19%|\n",
      "|\u001b[1mcss           \u001b[0m\u001b[92m3350    \u001b[0m03.77% | \u001b[92m1131 \u001b[0m 03.82%|\n",
      "|\u001b[1mobjective-c   \u001b[0m\u001b[92m2736    \u001b[0m03.08% | \u001b[92m888  \u001b[0m 03.00%|\n",
      "|\u001b[1mc             \u001b[0m\u001b[92m2734    \u001b[0m03.08% | \u001b[92m885  \u001b[0m 02.99%|\n",
      "|\u001b[1msql           \u001b[0m\u001b[92m2665    \u001b[0m03.00% | \u001b[92m870  \u001b[0m 02.94%|\n",
      "|\u001b[1miphone        \u001b[0m\u001b[92m2479    \u001b[0m02.79% | \u001b[92m807  \u001b[0m 02.73%|\n",
      "|\u001b[1masp.net       \u001b[0m\u001b[92m2424    \u001b[0m02.73% | \u001b[92m805  \u001b[0m 02.72%|\n",
      "|\u001b[1mmysql         \u001b[0m\u001b[92m2107    \u001b[0m02.37% | \u001b[92m685  \u001b[0m 02.31%|\n",
      "|\u001b[1mlinux         \u001b[0m\u001b[92m2082    \u001b[0m02.34% | \u001b[92m680  \u001b[0m 02.30%|\n",
      "|\u001b[1mnode.js       \u001b[0m\u001b[92m2034    \u001b[0m02.29% | \u001b[92m682  \u001b[0m 02.30%|\n",
      "|\u001b[1mgit           \u001b[0m\u001b[92m840     \u001b[0m00.95% | \u001b[92m274  \u001b[0m 00.93%|\n"
     ]
    }
   ],
   "source": [
    "print(\"|tag positif  nb train   %    |  test   %   |\")\n",
    "for column in y_train.columns:\n",
    "    nb_positif_train = y_train[y_train[column]].shape[0]\n",
    "    nb_positif_test = y_test[y_test[column]].shape[0]\n",
    "    print(\n",
    "        f\"|{colors.BOLD}{column: <14}{colors.ENDC}{colors.GREEN}{nb_positif_train: <8}{colors.ENDC}{(nb_positif_train/y_train.shape[0]):06.2%} | {colors.GREEN}{nb_positif_test:<5}{colors.ENDC} {nb_positif_test/y_test.shape[0]:06.2%}|\"\n",
    "    )"
   ]
  },
  {
   "cell_type": "markdown",
   "id": "dd1f2ec3",
   "metadata": {
    "papermill": {
     "duration": 0.01737,
     "end_time": "2023-01-28T15:07:22.999100",
     "exception": false,
     "start_time": "2023-01-28T15:07:22.981730",
     "status": "completed"
    },
    "tags": []
   },
   "source": [
    "### Regroupement des tags pour visualisation tsne:\n",
    "En une collone unique pour représenter tout les tags dans 1graph, avec priorité pour les tags les moins fréquents  \n",
    "Ici la somme = nombre de ligne  "
   ]
  },
  {
   "cell_type": "code",
   "execution_count": 16,
   "id": "11493282",
   "metadata": {
    "execution": {
     "iopub.execute_input": "2023-01-28T15:07:23.035511Z",
     "iopub.status.busy": "2023-01-28T15:07:23.034634Z",
     "iopub.status.idle": "2023-01-28T15:07:50.953452Z",
     "shell.execute_reply": "2023-01-28T15:07:50.952481Z"
    },
    "papermill": {
     "duration": 27.939174,
     "end_time": "2023-01-28T15:07:50.955521",
     "exception": false,
     "start_time": "2023-01-28T15:07:23.016347",
     "status": "completed"
    },
    "tags": []
   },
   "outputs": [
    {
     "name": "stdout",
     "output_type": "stream",
     "text": [
      "CPU times: user 27.8 s, sys: 16.6 ms, total: 27.8 s\n",
      "Wall time: 27.9 s\n"
     ]
    },
    {
     "data": {
      "text/plain": [
       "Non Suivi      18192\n",
       "java            8114\n",
       "python          6900\n",
       "android         5595\n",
       "c#              5212\n",
       "c++             4570\n",
       ".net            4188\n",
       "javascript      3734\n",
       "jquery          3411\n",
       "php             3322\n",
       "css             3227\n",
       "ios             2745\n",
       "iphone          2470\n",
       "asp.net         2402\n",
       "c               2385\n",
       "sql             2081\n",
       "mysql           2038\n",
       "linux           2038\n",
       "node.js         2010\n",
       "html            1715\n",
       "objective-c     1642\n",
       "git              840\n",
       "dtype: int64"
      ]
     },
     "execution_count": 16,
     "metadata": {},
     "output_type": "execute_result"
    }
   ],
   "source": [
    "%%time\n",
    "y_train_monodim = pd.Series(index=y_train.index, dtype=bool)\n",
    "for tag in y_train.columns:\n",
    "    y_train_monodim = (\n",
    "        y_train[tag]\n",
    "        .replace(to_replace=True, value=tag)\n",
    "        .combine(y_train_monodim, lambda s1, s2: s1 if s1 else s2)\n",
    "    )\n",
    "y_train_monodim.replace(to_replace=False, value=\"Non Suivi\", inplace=True)\n",
    "y_train_monodim.value_counts()"
   ]
  },
  {
   "cell_type": "markdown",
   "id": "abf3f67b",
   "metadata": {
    "papermill": {
     "duration": 0.017499,
     "end_time": "2023-01-28T15:07:50.991993",
     "exception": false,
     "start_time": "2023-01-28T15:07:50.974494",
     "status": "completed"
    },
    "tags": []
   },
   "source": [
    "## Approche naïve pour comparer les résultats:\n",
    "    - Valeur la plus fréquente (False)\n",
    "    - Si le tag est présent dans la question"
   ]
  },
  {
   "cell_type": "code",
   "execution_count": 17,
   "id": "31820881",
   "metadata": {
    "_kg_hide-output": true,
    "execution": {
     "iopub.execute_input": "2023-01-28T15:07:51.030046Z",
     "iopub.status.busy": "2023-01-28T15:07:51.028409Z",
     "iopub.status.idle": "2023-01-28T15:07:51.099982Z",
     "shell.execute_reply": "2023-01-28T15:07:51.098945Z"
    },
    "papermill": {
     "duration": 0.092433,
     "end_time": "2023-01-28T15:07:51.102311",
     "exception": false,
     "start_time": "2023-01-28T15:07:51.009878",
     "status": "completed"
    },
    "tags": []
   },
   "outputs": [
    {
     "data": {
      "text/html": [
       "<div>\n",
       "<style scoped>\n",
       "    .dataframe tbody tr th:only-of-type {\n",
       "        vertical-align: middle;\n",
       "    }\n",
       "\n",
       "    .dataframe tbody tr th {\n",
       "        vertical-align: top;\n",
       "    }\n",
       "\n",
       "    .dataframe thead th {\n",
       "        text-align: right;\n",
       "    }\n",
       "</style>\n",
       "<table border=\"1\" class=\"dataframe\">\n",
       "  <thead>\n",
       "    <tr style=\"text-align: right;\">\n",
       "      <th></th>\n",
       "      <th>precision</th>\n",
       "      <th>recall</th>\n",
       "      <th>f1-score</th>\n",
       "      <th>support</th>\n",
       "    </tr>\n",
       "  </thead>\n",
       "  <tbody>\n",
       "    <tr>\n",
       "      <th>java</th>\n",
       "      <td>1.0</td>\n",
       "      <td>0.000000</td>\n",
       "      <td>0.000000</td>\n",
       "      <td>3558.0</td>\n",
       "    </tr>\n",
       "    <tr>\n",
       "      <th>c#</th>\n",
       "      <td>1.0</td>\n",
       "      <td>0.000000</td>\n",
       "      <td>0.000000</td>\n",
       "      <td>3473.0</td>\n",
       "    </tr>\n",
       "    <tr>\n",
       "      <th>javascript</th>\n",
       "      <td>1.0</td>\n",
       "      <td>0.000000</td>\n",
       "      <td>0.000000</td>\n",
       "      <td>3356.0</td>\n",
       "    </tr>\n",
       "    <tr>\n",
       "      <th>python</th>\n",
       "      <td>1.0</td>\n",
       "      <td>0.000000</td>\n",
       "      <td>0.000000</td>\n",
       "      <td>2612.0</td>\n",
       "    </tr>\n",
       "    <tr>\n",
       "      <th>android</th>\n",
       "      <td>1.0</td>\n",
       "      <td>0.000000</td>\n",
       "      <td>0.000000</td>\n",
       "      <td>2045.0</td>\n",
       "    </tr>\n",
       "    <tr>\n",
       "      <th>c++</th>\n",
       "      <td>1.0</td>\n",
       "      <td>0.000000</td>\n",
       "      <td>0.000000</td>\n",
       "      <td>1964.0</td>\n",
       "    </tr>\n",
       "    <tr>\n",
       "      <th>ios</th>\n",
       "      <td>1.0</td>\n",
       "      <td>0.000000</td>\n",
       "      <td>0.000000</td>\n",
       "      <td>1840.0</td>\n",
       "    </tr>\n",
       "    <tr>\n",
       "      <th>html</th>\n",
       "      <td>1.0</td>\n",
       "      <td>0.000000</td>\n",
       "      <td>0.000000</td>\n",
       "      <td>1755.0</td>\n",
       "    </tr>\n",
       "    <tr>\n",
       "      <th>php</th>\n",
       "      <td>1.0</td>\n",
       "      <td>0.000000</td>\n",
       "      <td>0.000000</td>\n",
       "      <td>1627.0</td>\n",
       "    </tr>\n",
       "    <tr>\n",
       "      <th>.net</th>\n",
       "      <td>1.0</td>\n",
       "      <td>0.000000</td>\n",
       "      <td>0.000000</td>\n",
       "      <td>1569.0</td>\n",
       "    </tr>\n",
       "    <tr>\n",
       "      <th>jquery</th>\n",
       "      <td>1.0</td>\n",
       "      <td>0.000000</td>\n",
       "      <td>0.000000</td>\n",
       "      <td>1538.0</td>\n",
       "    </tr>\n",
       "    <tr>\n",
       "      <th>css</th>\n",
       "      <td>1.0</td>\n",
       "      <td>0.000000</td>\n",
       "      <td>0.000000</td>\n",
       "      <td>1131.0</td>\n",
       "    </tr>\n",
       "    <tr>\n",
       "      <th>objective-c</th>\n",
       "      <td>1.0</td>\n",
       "      <td>0.000000</td>\n",
       "      <td>0.000000</td>\n",
       "      <td>888.0</td>\n",
       "    </tr>\n",
       "    <tr>\n",
       "      <th>c</th>\n",
       "      <td>1.0</td>\n",
       "      <td>0.000000</td>\n",
       "      <td>0.000000</td>\n",
       "      <td>885.0</td>\n",
       "    </tr>\n",
       "    <tr>\n",
       "      <th>sql</th>\n",
       "      <td>1.0</td>\n",
       "      <td>0.000000</td>\n",
       "      <td>0.000000</td>\n",
       "      <td>870.0</td>\n",
       "    </tr>\n",
       "    <tr>\n",
       "      <th>iphone</th>\n",
       "      <td>1.0</td>\n",
       "      <td>0.000000</td>\n",
       "      <td>0.000000</td>\n",
       "      <td>807.0</td>\n",
       "    </tr>\n",
       "    <tr>\n",
       "      <th>asp.net</th>\n",
       "      <td>1.0</td>\n",
       "      <td>0.000000</td>\n",
       "      <td>0.000000</td>\n",
       "      <td>805.0</td>\n",
       "    </tr>\n",
       "    <tr>\n",
       "      <th>mysql</th>\n",
       "      <td>1.0</td>\n",
       "      <td>0.000000</td>\n",
       "      <td>0.000000</td>\n",
       "      <td>685.0</td>\n",
       "    </tr>\n",
       "    <tr>\n",
       "      <th>linux</th>\n",
       "      <td>1.0</td>\n",
       "      <td>0.000000</td>\n",
       "      <td>0.000000</td>\n",
       "      <td>680.0</td>\n",
       "    </tr>\n",
       "    <tr>\n",
       "      <th>node.js</th>\n",
       "      <td>1.0</td>\n",
       "      <td>0.000000</td>\n",
       "      <td>0.000000</td>\n",
       "      <td>682.0</td>\n",
       "    </tr>\n",
       "    <tr>\n",
       "      <th>git</th>\n",
       "      <td>1.0</td>\n",
       "      <td>0.000000</td>\n",
       "      <td>0.000000</td>\n",
       "      <td>274.0</td>\n",
       "    </tr>\n",
       "    <tr>\n",
       "      <th>micro avg</th>\n",
       "      <td>1.0</td>\n",
       "      <td>0.000000</td>\n",
       "      <td>0.000000</td>\n",
       "      <td>33044.0</td>\n",
       "    </tr>\n",
       "    <tr>\n",
       "      <th>macro avg</th>\n",
       "      <td>1.0</td>\n",
       "      <td>0.000000</td>\n",
       "      <td>0.000000</td>\n",
       "      <td>33044.0</td>\n",
       "    </tr>\n",
       "    <tr>\n",
       "      <th>weighted avg</th>\n",
       "      <td>1.0</td>\n",
       "      <td>0.000000</td>\n",
       "      <td>0.000000</td>\n",
       "      <td>33044.0</td>\n",
       "    </tr>\n",
       "    <tr>\n",
       "      <th>samples avg</th>\n",
       "      <td>1.0</td>\n",
       "      <td>0.207322</td>\n",
       "      <td>0.207322</td>\n",
       "      <td>33044.0</td>\n",
       "    </tr>\n",
       "  </tbody>\n",
       "</table>\n",
       "</div>"
      ],
      "text/plain": [
       "              precision    recall  f1-score  support\n",
       "java                1.0  0.000000  0.000000   3558.0\n",
       "c#                  1.0  0.000000  0.000000   3473.0\n",
       "javascript          1.0  0.000000  0.000000   3356.0\n",
       "python              1.0  0.000000  0.000000   2612.0\n",
       "android             1.0  0.000000  0.000000   2045.0\n",
       "c++                 1.0  0.000000  0.000000   1964.0\n",
       "ios                 1.0  0.000000  0.000000   1840.0\n",
       "html                1.0  0.000000  0.000000   1755.0\n",
       "php                 1.0  0.000000  0.000000   1627.0\n",
       ".net                1.0  0.000000  0.000000   1569.0\n",
       "jquery              1.0  0.000000  0.000000   1538.0\n",
       "css                 1.0  0.000000  0.000000   1131.0\n",
       "objective-c         1.0  0.000000  0.000000    888.0\n",
       "c                   1.0  0.000000  0.000000    885.0\n",
       "sql                 1.0  0.000000  0.000000    870.0\n",
       "iphone              1.0  0.000000  0.000000    807.0\n",
       "asp.net             1.0  0.000000  0.000000    805.0\n",
       "mysql               1.0  0.000000  0.000000    685.0\n",
       "linux               1.0  0.000000  0.000000    680.0\n",
       "node.js             1.0  0.000000  0.000000    682.0\n",
       "git                 1.0  0.000000  0.000000    274.0\n",
       "micro avg           1.0  0.000000  0.000000  33044.0\n",
       "macro avg           1.0  0.000000  0.000000  33044.0\n",
       "weighted avg        1.0  0.000000  0.000000  33044.0\n",
       "samples avg         1.0  0.207322  0.207322  33044.0"
      ]
     },
     "execution_count": 17,
     "metadata": {},
     "output_type": "execute_result"
    }
   ],
   "source": [
    "p5_nlp_utils.Commun.save_score(\n",
    "    y_true=y_test,\n",
    "    y_pred=y_test.replace([True], False),\n",
    "    target_names=target_names,\n",
    "    zero_division=1,  # because TruePositif=0\n",
    ")"
   ]
  },
  {
   "cell_type": "markdown",
   "id": "9aeecdc4",
   "metadata": {
    "papermill": {
     "duration": 0.019115,
     "end_time": "2023-01-28T15:07:51.142024",
     "exception": false,
     "start_time": "2023-01-28T15:07:51.122909",
     "status": "completed"
    },
    "tags": []
   },
   "source": [
    "Avec prédire toujours vrai"
   ]
  },
  {
   "cell_type": "code",
   "execution_count": 18,
   "id": "404990c8",
   "metadata": {
    "_kg_hide-input": false,
    "_kg_hide-output": true,
    "execution": {
     "iopub.execute_input": "2023-01-28T15:07:51.178898Z",
     "iopub.status.busy": "2023-01-28T15:07:51.178617Z",
     "iopub.status.idle": "2023-01-28T15:07:51.426327Z",
     "shell.execute_reply": "2023-01-28T15:07:51.424746Z"
    },
    "papermill": {
     "duration": 0.268697,
     "end_time": "2023-01-28T15:07:51.428605",
     "exception": false,
     "start_time": "2023-01-28T15:07:51.159908",
     "status": "completed"
    },
    "tags": []
   },
   "outputs": [
    {
     "data": {
      "text/html": [
       "<div>\n",
       "<style scoped>\n",
       "    .dataframe tbody tr th:only-of-type {\n",
       "        vertical-align: middle;\n",
       "    }\n",
       "\n",
       "    .dataframe tbody tr th {\n",
       "        vertical-align: top;\n",
       "    }\n",
       "\n",
       "    .dataframe thead th {\n",
       "        text-align: right;\n",
       "    }\n",
       "</style>\n",
       "<table border=\"1\" class=\"dataframe\">\n",
       "  <thead>\n",
       "    <tr style=\"text-align: right;\">\n",
       "      <th></th>\n",
       "      <th>precision</th>\n",
       "      <th>recall</th>\n",
       "      <th>f1-score</th>\n",
       "      <th>support</th>\n",
       "    </tr>\n",
       "  </thead>\n",
       "  <tbody>\n",
       "    <tr>\n",
       "      <th>java</th>\n",
       "      <td>0.120158</td>\n",
       "      <td>1.000000</td>\n",
       "      <td>0.214538</td>\n",
       "      <td>3558.0</td>\n",
       "    </tr>\n",
       "    <tr>\n",
       "      <th>c#</th>\n",
       "      <td>0.117287</td>\n",
       "      <td>1.000000</td>\n",
       "      <td>0.209950</td>\n",
       "      <td>3473.0</td>\n",
       "    </tr>\n",
       "    <tr>\n",
       "      <th>javascript</th>\n",
       "      <td>0.113336</td>\n",
       "      <td>1.000000</td>\n",
       "      <td>0.203598</td>\n",
       "      <td>3356.0</td>\n",
       "    </tr>\n",
       "    <tr>\n",
       "      <th>python</th>\n",
       "      <td>0.088210</td>\n",
       "      <td>1.000000</td>\n",
       "      <td>0.162120</td>\n",
       "      <td>2612.0</td>\n",
       "    </tr>\n",
       "    <tr>\n",
       "      <th>android</th>\n",
       "      <td>0.069062</td>\n",
       "      <td>1.000000</td>\n",
       "      <td>0.129201</td>\n",
       "      <td>2045.0</td>\n",
       "    </tr>\n",
       "    <tr>\n",
       "      <th>c++</th>\n",
       "      <td>0.066327</td>\n",
       "      <td>1.000000</td>\n",
       "      <td>0.124402</td>\n",
       "      <td>1964.0</td>\n",
       "    </tr>\n",
       "    <tr>\n",
       "      <th>ios</th>\n",
       "      <td>0.062139</td>\n",
       "      <td>1.000000</td>\n",
       "      <td>0.117007</td>\n",
       "      <td>1840.0</td>\n",
       "    </tr>\n",
       "    <tr>\n",
       "      <th>html</th>\n",
       "      <td>0.059269</td>\n",
       "      <td>1.000000</td>\n",
       "      <td>0.111905</td>\n",
       "      <td>1755.0</td>\n",
       "    </tr>\n",
       "    <tr>\n",
       "      <th>php</th>\n",
       "      <td>0.054946</td>\n",
       "      <td>1.000000</td>\n",
       "      <td>0.104168</td>\n",
       "      <td>1627.0</td>\n",
       "    </tr>\n",
       "    <tr>\n",
       "      <th>.net</th>\n",
       "      <td>0.052987</td>\n",
       "      <td>1.000000</td>\n",
       "      <td>0.100641</td>\n",
       "      <td>1569.0</td>\n",
       "    </tr>\n",
       "    <tr>\n",
       "      <th>jquery</th>\n",
       "      <td>0.051940</td>\n",
       "      <td>1.000000</td>\n",
       "      <td>0.098751</td>\n",
       "      <td>1538.0</td>\n",
       "    </tr>\n",
       "    <tr>\n",
       "      <th>css</th>\n",
       "      <td>0.038195</td>\n",
       "      <td>1.000000</td>\n",
       "      <td>0.073580</td>\n",
       "      <td>1131.0</td>\n",
       "    </tr>\n",
       "    <tr>\n",
       "      <th>objective-c</th>\n",
       "      <td>0.029989</td>\n",
       "      <td>1.000000</td>\n",
       "      <td>0.058231</td>\n",
       "      <td>888.0</td>\n",
       "    </tr>\n",
       "    <tr>\n",
       "      <th>c</th>\n",
       "      <td>0.029888</td>\n",
       "      <td>1.000000</td>\n",
       "      <td>0.058040</td>\n",
       "      <td>885.0</td>\n",
       "    </tr>\n",
       "    <tr>\n",
       "      <th>sql</th>\n",
       "      <td>0.029381</td>\n",
       "      <td>1.000000</td>\n",
       "      <td>0.057085</td>\n",
       "      <td>870.0</td>\n",
       "    </tr>\n",
       "    <tr>\n",
       "      <th>iphone</th>\n",
       "      <td>0.027253</td>\n",
       "      <td>1.000000</td>\n",
       "      <td>0.053061</td>\n",
       "      <td>807.0</td>\n",
       "    </tr>\n",
       "    <tr>\n",
       "      <th>asp.net</th>\n",
       "      <td>0.027186</td>\n",
       "      <td>1.000000</td>\n",
       "      <td>0.052933</td>\n",
       "      <td>805.0</td>\n",
       "    </tr>\n",
       "    <tr>\n",
       "      <th>mysql</th>\n",
       "      <td>0.023133</td>\n",
       "      <td>1.000000</td>\n",
       "      <td>0.045220</td>\n",
       "      <td>685.0</td>\n",
       "    </tr>\n",
       "    <tr>\n",
       "      <th>linux</th>\n",
       "      <td>0.022964</td>\n",
       "      <td>1.000000</td>\n",
       "      <td>0.044898</td>\n",
       "      <td>680.0</td>\n",
       "    </tr>\n",
       "    <tr>\n",
       "      <th>node.js</th>\n",
       "      <td>0.023032</td>\n",
       "      <td>1.000000</td>\n",
       "      <td>0.045027</td>\n",
       "      <td>682.0</td>\n",
       "    </tr>\n",
       "    <tr>\n",
       "      <th>git</th>\n",
       "      <td>0.009253</td>\n",
       "      <td>1.000000</td>\n",
       "      <td>0.018337</td>\n",
       "      <td>274.0</td>\n",
       "    </tr>\n",
       "    <tr>\n",
       "      <th>micro avg</th>\n",
       "      <td>0.053140</td>\n",
       "      <td>1.000000</td>\n",
       "      <td>0.100917</td>\n",
       "      <td>33044.0</td>\n",
       "    </tr>\n",
       "    <tr>\n",
       "      <th>macro avg</th>\n",
       "      <td>0.053140</td>\n",
       "      <td>1.000000</td>\n",
       "      <td>0.099176</td>\n",
       "      <td>33044.0</td>\n",
       "    </tr>\n",
       "    <tr>\n",
       "      <th>weighted avg</th>\n",
       "      <td>0.072731</td>\n",
       "      <td>1.000000</td>\n",
       "      <td>0.133680</td>\n",
       "      <td>33044.0</td>\n",
       "    </tr>\n",
       "    <tr>\n",
       "      <th>samples avg</th>\n",
       "      <td>0.053140</td>\n",
       "      <td>0.792678</td>\n",
       "      <td>0.098364</td>\n",
       "      <td>33044.0</td>\n",
       "    </tr>\n",
       "  </tbody>\n",
       "</table>\n",
       "</div>"
      ],
      "text/plain": [
       "              precision    recall  f1-score  support\n",
       "java           0.120158  1.000000  0.214538   3558.0\n",
       "c#             0.117287  1.000000  0.209950   3473.0\n",
       "javascript     0.113336  1.000000  0.203598   3356.0\n",
       "python         0.088210  1.000000  0.162120   2612.0\n",
       "android        0.069062  1.000000  0.129201   2045.0\n",
       "c++            0.066327  1.000000  0.124402   1964.0\n",
       "ios            0.062139  1.000000  0.117007   1840.0\n",
       "html           0.059269  1.000000  0.111905   1755.0\n",
       "php            0.054946  1.000000  0.104168   1627.0\n",
       ".net           0.052987  1.000000  0.100641   1569.0\n",
       "jquery         0.051940  1.000000  0.098751   1538.0\n",
       "css            0.038195  1.000000  0.073580   1131.0\n",
       "objective-c    0.029989  1.000000  0.058231    888.0\n",
       "c              0.029888  1.000000  0.058040    885.0\n",
       "sql            0.029381  1.000000  0.057085    870.0\n",
       "iphone         0.027253  1.000000  0.053061    807.0\n",
       "asp.net        0.027186  1.000000  0.052933    805.0\n",
       "mysql          0.023133  1.000000  0.045220    685.0\n",
       "linux          0.022964  1.000000  0.044898    680.0\n",
       "node.js        0.023032  1.000000  0.045027    682.0\n",
       "git            0.009253  1.000000  0.018337    274.0\n",
       "micro avg      0.053140  1.000000  0.100917  33044.0\n",
       "macro avg      0.053140  1.000000  0.099176  33044.0\n",
       "weighted avg   0.072731  1.000000  0.133680  33044.0\n",
       "samples avg    0.053140  0.792678  0.098364  33044.0"
      ]
     },
     "execution_count": 18,
     "metadata": {},
     "output_type": "execute_result"
    }
   ],
   "source": [
    "p5_nlp_utils.Commun.save_score(\n",
    "    y_true=y_test, y_pred=y_test.replace([False], True), target_names=target_names\n",
    ")"
   ]
  },
  {
   "cell_type": "markdown",
   "id": "68072dbe",
   "metadata": {
    "papermill": {
     "duration": 0.018057,
     "end_time": "2023-01-28T15:07:51.465650",
     "exception": false,
     "start_time": "2023-01-28T15:07:51.447593",
     "status": "completed"
    },
    "tags": []
   },
   "source": [
    "### Methode naive le tag est dans la question:"
   ]
  },
  {
   "cell_type": "code",
   "execution_count": 19,
   "id": "d7450739",
   "metadata": {
    "_kg_hide-input": false,
    "_kg_hide-output": true,
    "execution": {
     "iopub.execute_input": "2023-01-28T15:07:51.503839Z",
     "iopub.status.busy": "2023-01-28T15:07:51.503510Z",
     "iopub.status.idle": "2023-01-28T15:07:52.167983Z",
     "shell.execute_reply": "2023-01-28T15:07:52.166936Z"
    },
    "papermill": {
     "duration": 0.68623,
     "end_time": "2023-01-28T15:07:52.170203",
     "exception": false,
     "start_time": "2023-01-28T15:07:51.483973",
     "status": "completed"
    },
    "tags": []
   },
   "outputs": [
    {
     "data": {
      "text/html": [
       "<div>\n",
       "<style scoped>\n",
       "    .dataframe tbody tr th:only-of-type {\n",
       "        vertical-align: middle;\n",
       "    }\n",
       "\n",
       "    .dataframe tbody tr th {\n",
       "        vertical-align: top;\n",
       "    }\n",
       "\n",
       "    .dataframe thead th {\n",
       "        text-align: right;\n",
       "    }\n",
       "</style>\n",
       "<table border=\"1\" class=\"dataframe\">\n",
       "  <thead>\n",
       "    <tr style=\"text-align: right;\">\n",
       "      <th></th>\n",
       "      <th>0</th>\n",
       "      <th>1</th>\n",
       "      <th>2</th>\n",
       "      <th>3</th>\n",
       "      <th>4</th>\n",
       "      <th>5</th>\n",
       "      <th>6</th>\n",
       "      <th>7</th>\n",
       "      <th>8</th>\n",
       "      <th>9</th>\n",
       "    </tr>\n",
       "  </thead>\n",
       "  <tbody>\n",
       "    <tr>\n",
       "      <th>java</th>\n",
       "      <td>False</td>\n",
       "      <td>False</td>\n",
       "      <td>False</td>\n",
       "      <td>False</td>\n",
       "      <td>True</td>\n",
       "      <td>False</td>\n",
       "      <td>False</td>\n",
       "      <td>False</td>\n",
       "      <td>False</td>\n",
       "      <td>False</td>\n",
       "    </tr>\n",
       "    <tr>\n",
       "      <th>c#</th>\n",
       "      <td>False</td>\n",
       "      <td>False</td>\n",
       "      <td>False</td>\n",
       "      <td>False</td>\n",
       "      <td>False</td>\n",
       "      <td>False</td>\n",
       "      <td>False</td>\n",
       "      <td>False</td>\n",
       "      <td>False</td>\n",
       "      <td>False</td>\n",
       "    </tr>\n",
       "    <tr>\n",
       "      <th>javascript</th>\n",
       "      <td>False</td>\n",
       "      <td>False</td>\n",
       "      <td>False</td>\n",
       "      <td>True</td>\n",
       "      <td>False</td>\n",
       "      <td>False</td>\n",
       "      <td>False</td>\n",
       "      <td>False</td>\n",
       "      <td>False</td>\n",
       "      <td>True</td>\n",
       "    </tr>\n",
       "    <tr>\n",
       "      <th>python</th>\n",
       "      <td>True</td>\n",
       "      <td>False</td>\n",
       "      <td>False</td>\n",
       "      <td>False</td>\n",
       "      <td>False</td>\n",
       "      <td>False</td>\n",
       "      <td>False</td>\n",
       "      <td>False</td>\n",
       "      <td>False</td>\n",
       "      <td>False</td>\n",
       "    </tr>\n",
       "    <tr>\n",
       "      <th>android</th>\n",
       "      <td>False</td>\n",
       "      <td>False</td>\n",
       "      <td>False</td>\n",
       "      <td>False</td>\n",
       "      <td>False</td>\n",
       "      <td>False</td>\n",
       "      <td>False</td>\n",
       "      <td>False</td>\n",
       "      <td>False</td>\n",
       "      <td>False</td>\n",
       "    </tr>\n",
       "    <tr>\n",
       "      <th>c++</th>\n",
       "      <td>False</td>\n",
       "      <td>False</td>\n",
       "      <td>False</td>\n",
       "      <td>False</td>\n",
       "      <td>True</td>\n",
       "      <td>False</td>\n",
       "      <td>False</td>\n",
       "      <td>False</td>\n",
       "      <td>False</td>\n",
       "      <td>False</td>\n",
       "    </tr>\n",
       "    <tr>\n",
       "      <th>ios</th>\n",
       "      <td>False</td>\n",
       "      <td>False</td>\n",
       "      <td>False</td>\n",
       "      <td>False</td>\n",
       "      <td>False</td>\n",
       "      <td>False</td>\n",
       "      <td>False</td>\n",
       "      <td>False</td>\n",
       "      <td>False</td>\n",
       "      <td>False</td>\n",
       "    </tr>\n",
       "    <tr>\n",
       "      <th>html</th>\n",
       "      <td>False</td>\n",
       "      <td>False</td>\n",
       "      <td>False</td>\n",
       "      <td>False</td>\n",
       "      <td>False</td>\n",
       "      <td>False</td>\n",
       "      <td>False</td>\n",
       "      <td>False</td>\n",
       "      <td>False</td>\n",
       "      <td>False</td>\n",
       "    </tr>\n",
       "    <tr>\n",
       "      <th>php</th>\n",
       "      <td>False</td>\n",
       "      <td>False</td>\n",
       "      <td>False</td>\n",
       "      <td>True</td>\n",
       "      <td>False</td>\n",
       "      <td>False</td>\n",
       "      <td>False</td>\n",
       "      <td>False</td>\n",
       "      <td>False</td>\n",
       "      <td>False</td>\n",
       "    </tr>\n",
       "    <tr>\n",
       "      <th>.net</th>\n",
       "      <td>False</td>\n",
       "      <td>False</td>\n",
       "      <td>False</td>\n",
       "      <td>False</td>\n",
       "      <td>False</td>\n",
       "      <td>False</td>\n",
       "      <td>False</td>\n",
       "      <td>False</td>\n",
       "      <td>False</td>\n",
       "      <td>False</td>\n",
       "    </tr>\n",
       "    <tr>\n",
       "      <th>jquery</th>\n",
       "      <td>False</td>\n",
       "      <td>False</td>\n",
       "      <td>False</td>\n",
       "      <td>False</td>\n",
       "      <td>False</td>\n",
       "      <td>False</td>\n",
       "      <td>False</td>\n",
       "      <td>False</td>\n",
       "      <td>False</td>\n",
       "      <td>False</td>\n",
       "    </tr>\n",
       "    <tr>\n",
       "      <th>css</th>\n",
       "      <td>False</td>\n",
       "      <td>False</td>\n",
       "      <td>False</td>\n",
       "      <td>False</td>\n",
       "      <td>False</td>\n",
       "      <td>False</td>\n",
       "      <td>False</td>\n",
       "      <td>False</td>\n",
       "      <td>False</td>\n",
       "      <td>False</td>\n",
       "    </tr>\n",
       "    <tr>\n",
       "      <th>objective-c</th>\n",
       "      <td>False</td>\n",
       "      <td>False</td>\n",
       "      <td>False</td>\n",
       "      <td>False</td>\n",
       "      <td>False</td>\n",
       "      <td>False</td>\n",
       "      <td>False</td>\n",
       "      <td>False</td>\n",
       "      <td>False</td>\n",
       "      <td>False</td>\n",
       "    </tr>\n",
       "    <tr>\n",
       "      <th>c</th>\n",
       "      <td>False</td>\n",
       "      <td>False</td>\n",
       "      <td>False</td>\n",
       "      <td>False</td>\n",
       "      <td>True</td>\n",
       "      <td>False</td>\n",
       "      <td>False</td>\n",
       "      <td>False</td>\n",
       "      <td>False</td>\n",
       "      <td>False</td>\n",
       "    </tr>\n",
       "    <tr>\n",
       "      <th>sql</th>\n",
       "      <td>False</td>\n",
       "      <td>False</td>\n",
       "      <td>True</td>\n",
       "      <td>False</td>\n",
       "      <td>False</td>\n",
       "      <td>False</td>\n",
       "      <td>False</td>\n",
       "      <td>False</td>\n",
       "      <td>False</td>\n",
       "      <td>False</td>\n",
       "    </tr>\n",
       "    <tr>\n",
       "      <th>iphone</th>\n",
       "      <td>False</td>\n",
       "      <td>False</td>\n",
       "      <td>False</td>\n",
       "      <td>False</td>\n",
       "      <td>False</td>\n",
       "      <td>False</td>\n",
       "      <td>False</td>\n",
       "      <td>False</td>\n",
       "      <td>False</td>\n",
       "      <td>False</td>\n",
       "    </tr>\n",
       "    <tr>\n",
       "      <th>asp.net</th>\n",
       "      <td>False</td>\n",
       "      <td>False</td>\n",
       "      <td>False</td>\n",
       "      <td>False</td>\n",
       "      <td>False</td>\n",
       "      <td>False</td>\n",
       "      <td>False</td>\n",
       "      <td>False</td>\n",
       "      <td>False</td>\n",
       "      <td>False</td>\n",
       "    </tr>\n",
       "    <tr>\n",
       "      <th>mysql</th>\n",
       "      <td>False</td>\n",
       "      <td>False</td>\n",
       "      <td>True</td>\n",
       "      <td>False</td>\n",
       "      <td>False</td>\n",
       "      <td>False</td>\n",
       "      <td>False</td>\n",
       "      <td>False</td>\n",
       "      <td>False</td>\n",
       "      <td>False</td>\n",
       "    </tr>\n",
       "    <tr>\n",
       "      <th>linux</th>\n",
       "      <td>False</td>\n",
       "      <td>False</td>\n",
       "      <td>False</td>\n",
       "      <td>False</td>\n",
       "      <td>False</td>\n",
       "      <td>True</td>\n",
       "      <td>False</td>\n",
       "      <td>False</td>\n",
       "      <td>False</td>\n",
       "      <td>False</td>\n",
       "    </tr>\n",
       "    <tr>\n",
       "      <th>node.js</th>\n",
       "      <td>False</td>\n",
       "      <td>False</td>\n",
       "      <td>False</td>\n",
       "      <td>False</td>\n",
       "      <td>False</td>\n",
       "      <td>False</td>\n",
       "      <td>False</td>\n",
       "      <td>False</td>\n",
       "      <td>False</td>\n",
       "      <td>False</td>\n",
       "    </tr>\n",
       "    <tr>\n",
       "      <th>git</th>\n",
       "      <td>False</td>\n",
       "      <td>False</td>\n",
       "      <td>False</td>\n",
       "      <td>False</td>\n",
       "      <td>False</td>\n",
       "      <td>False</td>\n",
       "      <td>False</td>\n",
       "      <td>False</td>\n",
       "      <td>False</td>\n",
       "      <td>False</td>\n",
       "    </tr>\n",
       "  </tbody>\n",
       "</table>\n",
       "</div>"
      ],
      "text/plain": [
       "                 0      1      2      3      4      5      6      7      8  \\\n",
       "java         False  False  False  False   True  False  False  False  False   \n",
       "c#           False  False  False  False  False  False  False  False  False   \n",
       "javascript   False  False  False   True  False  False  False  False  False   \n",
       "python        True  False  False  False  False  False  False  False  False   \n",
       "android      False  False  False  False  False  False  False  False  False   \n",
       "c++          False  False  False  False   True  False  False  False  False   \n",
       "ios          False  False  False  False  False  False  False  False  False   \n",
       "html         False  False  False  False  False  False  False  False  False   \n",
       "php          False  False  False   True  False  False  False  False  False   \n",
       ".net         False  False  False  False  False  False  False  False  False   \n",
       "jquery       False  False  False  False  False  False  False  False  False   \n",
       "css          False  False  False  False  False  False  False  False  False   \n",
       "objective-c  False  False  False  False  False  False  False  False  False   \n",
       "c            False  False  False  False   True  False  False  False  False   \n",
       "sql          False  False   True  False  False  False  False  False  False   \n",
       "iphone       False  False  False  False  False  False  False  False  False   \n",
       "asp.net      False  False  False  False  False  False  False  False  False   \n",
       "mysql        False  False   True  False  False  False  False  False  False   \n",
       "linux        False  False  False  False  False   True  False  False  False   \n",
       "node.js      False  False  False  False  False  False  False  False  False   \n",
       "git          False  False  False  False  False  False  False  False  False   \n",
       "\n",
       "                 9  \n",
       "java         False  \n",
       "c#           False  \n",
       "javascript    True  \n",
       "python       False  \n",
       "android      False  \n",
       "c++          False  \n",
       "ios          False  \n",
       "html         False  \n",
       "php          False  \n",
       ".net         False  \n",
       "jquery       False  \n",
       "css          False  \n",
       "objective-c  False  \n",
       "c            False  \n",
       "sql          False  \n",
       "iphone       False  \n",
       "asp.net      False  \n",
       "mysql        False  \n",
       "linux        False  \n",
       "node.js      False  \n",
       "git          False  "
      ]
     },
     "execution_count": 19,
     "metadata": {},
     "output_type": "execute_result"
    }
   ],
   "source": [
    "test_str = X_test.str\n",
    "pred_is_in = pd.DataFrame(\n",
    "    {\n",
    "        target_name: test_str.contains(\n",
    "            f\" {target_name} \", case=False, regex=False\n",
    "        ).values\n",
    "        for target_name in target_names\n",
    "    }\n",
    ")\n",
    "pred_is_in.head(10).T"
   ]
  },
  {
   "cell_type": "code",
   "execution_count": 20,
   "id": "3d34c994",
   "metadata": {
    "_kg_hide-input": false,
    "_kg_hide-output": true,
    "execution": {
     "iopub.execute_input": "2023-01-28T15:07:52.209164Z",
     "iopub.status.busy": "2023-01-28T15:07:52.208865Z",
     "iopub.status.idle": "2023-01-28T15:07:52.283039Z",
     "shell.execute_reply": "2023-01-28T15:07:52.281958Z"
    },
    "papermill": {
     "duration": 0.096055,
     "end_time": "2023-01-28T15:07:52.285529",
     "exception": false,
     "start_time": "2023-01-28T15:07:52.189474",
     "status": "completed"
    },
    "tags": []
   },
   "outputs": [
    {
     "data": {
      "text/html": [
       "<div>\n",
       "<style scoped>\n",
       "    .dataframe tbody tr th:only-of-type {\n",
       "        vertical-align: middle;\n",
       "    }\n",
       "\n",
       "    .dataframe tbody tr th {\n",
       "        vertical-align: top;\n",
       "    }\n",
       "\n",
       "    .dataframe thead th {\n",
       "        text-align: right;\n",
       "    }\n",
       "</style>\n",
       "<table border=\"1\" class=\"dataframe\">\n",
       "  <thead>\n",
       "    <tr style=\"text-align: right;\">\n",
       "      <th></th>\n",
       "      <th>precision</th>\n",
       "      <th>recall</th>\n",
       "      <th>f1-score</th>\n",
       "      <th>support</th>\n",
       "    </tr>\n",
       "  </thead>\n",
       "  <tbody>\n",
       "    <tr>\n",
       "      <th>git</th>\n",
       "      <td>0.724138</td>\n",
       "      <td>0.766423</td>\n",
       "      <td>0.744681</td>\n",
       "      <td>274.0</td>\n",
       "    </tr>\n",
       "    <tr>\n",
       "      <th>mysql</th>\n",
       "      <td>0.742373</td>\n",
       "      <td>0.639416</td>\n",
       "      <td>0.687059</td>\n",
       "      <td>685.0</td>\n",
       "    </tr>\n",
       "    <tr>\n",
       "      <th>python</th>\n",
       "      <td>0.885378</td>\n",
       "      <td>0.547090</td>\n",
       "      <td>0.676290</td>\n",
       "      <td>2612.0</td>\n",
       "    </tr>\n",
       "    <tr>\n",
       "      <th>android</th>\n",
       "      <td>0.870266</td>\n",
       "      <td>0.528117</td>\n",
       "      <td>0.657334</td>\n",
       "      <td>2045.0</td>\n",
       "    </tr>\n",
       "    <tr>\n",
       "      <th>php</th>\n",
       "      <td>0.839885</td>\n",
       "      <td>0.538414</td>\n",
       "      <td>0.656180</td>\n",
       "      <td>1627.0</td>\n",
       "    </tr>\n",
       "    <tr>\n",
       "      <th>jquery</th>\n",
       "      <td>0.809129</td>\n",
       "      <td>0.507152</td>\n",
       "      <td>0.623501</td>\n",
       "      <td>1538.0</td>\n",
       "    </tr>\n",
       "    <tr>\n",
       "      <th>c++</th>\n",
       "      <td>0.820965</td>\n",
       "      <td>0.450611</td>\n",
       "      <td>0.581854</td>\n",
       "      <td>1964.0</td>\n",
       "    </tr>\n",
       "    <tr>\n",
       "      <th>css</th>\n",
       "      <td>0.718182</td>\n",
       "      <td>0.488948</td>\n",
       "      <td>0.581799</td>\n",
       "      <td>1131.0</td>\n",
       "    </tr>\n",
       "    <tr>\n",
       "      <th>java</th>\n",
       "      <td>0.786381</td>\n",
       "      <td>0.402473</td>\n",
       "      <td>0.532441</td>\n",
       "      <td>3558.0</td>\n",
       "    </tr>\n",
       "    <tr>\n",
       "      <th>linux</th>\n",
       "      <td>0.479042</td>\n",
       "      <td>0.470588</td>\n",
       "      <td>0.474777</td>\n",
       "      <td>680.0</td>\n",
       "    </tr>\n",
       "    <tr>\n",
       "      <th>micro avg</th>\n",
       "      <td>0.660857</td>\n",
       "      <td>0.368327</td>\n",
       "      <td>0.473018</td>\n",
       "      <td>33044.0</td>\n",
       "    </tr>\n",
       "    <tr>\n",
       "      <th>macro avg</th>\n",
       "      <td>0.616749</td>\n",
       "      <td>0.402217</td>\n",
       "      <td>0.464462</td>\n",
       "      <td>33044.0</td>\n",
       "    </tr>\n",
       "    <tr>\n",
       "      <th>weighted avg</th>\n",
       "      <td>0.630639</td>\n",
       "      <td>0.368327</td>\n",
       "      <td>0.450918</td>\n",
       "      <td>33044.0</td>\n",
       "    </tr>\n",
       "    <tr>\n",
       "      <th>sql</th>\n",
       "      <td>0.424923</td>\n",
       "      <td>0.478161</td>\n",
       "      <td>0.449973</td>\n",
       "      <td>870.0</td>\n",
       "    </tr>\n",
       "    <tr>\n",
       "      <th>html</th>\n",
       "      <td>0.485935</td>\n",
       "      <td>0.393732</td>\n",
       "      <td>0.435002</td>\n",
       "      <td>1755.0</td>\n",
       "    </tr>\n",
       "    <tr>\n",
       "      <th>asp.net</th>\n",
       "      <td>0.535780</td>\n",
       "      <td>0.362733</td>\n",
       "      <td>0.432593</td>\n",
       "      <td>805.0</td>\n",
       "    </tr>\n",
       "    <tr>\n",
       "      <th>iphone</th>\n",
       "      <td>0.594655</td>\n",
       "      <td>0.330855</td>\n",
       "      <td>0.425159</td>\n",
       "      <td>807.0</td>\n",
       "    </tr>\n",
       "    <tr>\n",
       "      <th>ios</th>\n",
       "      <td>0.786451</td>\n",
       "      <td>0.290217</td>\n",
       "      <td>0.423978</td>\n",
       "      <td>1840.0</td>\n",
       "    </tr>\n",
       "    <tr>\n",
       "      <th>javascript</th>\n",
       "      <td>0.782258</td>\n",
       "      <td>0.289035</td>\n",
       "      <td>0.422106</td>\n",
       "      <td>3356.0</td>\n",
       "    </tr>\n",
       "    <tr>\n",
       "      <th>.net</th>\n",
       "      <td>0.556604</td>\n",
       "      <td>0.263225</td>\n",
       "      <td>0.357421</td>\n",
       "      <td>1569.0</td>\n",
       "    </tr>\n",
       "    <tr>\n",
       "      <th>c</th>\n",
       "      <td>0.218765</td>\n",
       "      <td>0.532203</td>\n",
       "      <td>0.310072</td>\n",
       "      <td>885.0</td>\n",
       "    </tr>\n",
       "    <tr>\n",
       "      <th>samples avg</th>\n",
       "      <td>0.321445</td>\n",
       "      <td>0.300505</td>\n",
       "      <td>0.299495</td>\n",
       "      <td>33044.0</td>\n",
       "    </tr>\n",
       "    <tr>\n",
       "      <th>node.js</th>\n",
       "      <td>0.890625</td>\n",
       "      <td>0.167155</td>\n",
       "      <td>0.281481</td>\n",
       "      <td>682.0</td>\n",
       "    </tr>\n",
       "    <tr>\n",
       "      <th>c#</th>\n",
       "      <td>0.000000</td>\n",
       "      <td>0.000000</td>\n",
       "      <td>0.000000</td>\n",
       "      <td>3473.0</td>\n",
       "    </tr>\n",
       "    <tr>\n",
       "      <th>objective-c</th>\n",
       "      <td>0.000000</td>\n",
       "      <td>0.000000</td>\n",
       "      <td>0.000000</td>\n",
       "      <td>888.0</td>\n",
       "    </tr>\n",
       "  </tbody>\n",
       "</table>\n",
       "</div>"
      ],
      "text/plain": [
       "              precision    recall  f1-score  support\n",
       "git            0.724138  0.766423  0.744681    274.0\n",
       "mysql          0.742373  0.639416  0.687059    685.0\n",
       "python         0.885378  0.547090  0.676290   2612.0\n",
       "android        0.870266  0.528117  0.657334   2045.0\n",
       "php            0.839885  0.538414  0.656180   1627.0\n",
       "jquery         0.809129  0.507152  0.623501   1538.0\n",
       "c++            0.820965  0.450611  0.581854   1964.0\n",
       "css            0.718182  0.488948  0.581799   1131.0\n",
       "java           0.786381  0.402473  0.532441   3558.0\n",
       "linux          0.479042  0.470588  0.474777    680.0\n",
       "micro avg      0.660857  0.368327  0.473018  33044.0\n",
       "macro avg      0.616749  0.402217  0.464462  33044.0\n",
       "weighted avg   0.630639  0.368327  0.450918  33044.0\n",
       "sql            0.424923  0.478161  0.449973    870.0\n",
       "html           0.485935  0.393732  0.435002   1755.0\n",
       "asp.net        0.535780  0.362733  0.432593    805.0\n",
       "iphone         0.594655  0.330855  0.425159    807.0\n",
       "ios            0.786451  0.290217  0.423978   1840.0\n",
       "javascript     0.782258  0.289035  0.422106   3356.0\n",
       ".net           0.556604  0.263225  0.357421   1569.0\n",
       "c              0.218765  0.532203  0.310072    885.0\n",
       "samples avg    0.321445  0.300505  0.299495  33044.0\n",
       "node.js        0.890625  0.167155  0.281481    682.0\n",
       "c#             0.000000  0.000000  0.000000   3473.0\n",
       "objective-c    0.000000  0.000000  0.000000    888.0"
      ]
     },
     "execution_count": 20,
     "metadata": {},
     "output_type": "execute_result"
    }
   ],
   "source": [
    "score_naive_is_in = p5_nlp_utils.Commun.save_score(\n",
    "    y_test, pred_is_in, target_names, \"naive_is_in\"\n",
    ")\n",
    "score_naive_is_in.sort_values(by=\"f1-score\", ascending=False)"
   ]
  },
  {
   "cell_type": "markdown",
   "id": "404c9d90",
   "metadata": {
    "papermill": {
     "duration": 0.018538,
     "end_time": "2023-01-28T15:07:52.323121",
     "exception": false,
     "start_time": "2023-01-28T15:07:52.304583",
     "status": "completed"
    },
    "tags": []
   },
   "source": [
    "# CountVectorizer"
   ]
  },
  {
   "cell_type": "code",
   "execution_count": 21,
   "id": "f2486833",
   "metadata": {
    "execution": {
     "iopub.execute_input": "2023-01-28T15:07:52.361725Z",
     "iopub.status.busy": "2023-01-28T15:07:52.361434Z",
     "iopub.status.idle": "2023-01-28T15:07:56.399440Z",
     "shell.execute_reply": "2023-01-28T15:07:56.398405Z"
    },
    "papermill": {
     "duration": 4.060565,
     "end_time": "2023-01-28T15:07:56.402442",
     "exception": false,
     "start_time": "2023-01-28T15:07:52.341877",
     "status": "completed"
    },
    "tags": []
   },
   "outputs": [
    {
     "name": "stdout",
     "output_type": "stream",
     "text": [
      "\n",
      "******************************\n",
      " pour min_df:1e-05; max_df:0.995\n",
      "\ttokens unique:\n",
      "\t\t41253 dans title et body regroupé\n"
     ]
    }
   ],
   "source": [
    "best_min_df = description[\"CountVectorizer\"][\"min_df\"]\n",
    "best_max_df = description[\"CountVectorizer\"][\"max_df\"]\n",
    "for min_df in [0.01, 0.05, 0.005, 0.0005, 0.00001] if LONG else [best_min_df]:\n",
    "    for max_df in [0.95, 0.995, 0.9995] if LONG else [best_max_df]:\n",
    "        print(f\"\\n{'*'*30}\\n pour min_df:{min_df}; max_df:{max_df}\")\n",
    "        count_vectorizer = feature_extraction.text.CountVectorizer(\n",
    "            min_df=min_df, max_df=max_df, max_features=None\n",
    "        )\n",
    "        #         pipe = pipeline.make_pipeline(feature_extraction.text.CountVectorizer(min_df=min_df, max_df=max_df, max_features=None), feature_extraction.text.TfidfTransformer( norm=\"l2\", use_idf=True, smooth_idf=True, sublinear_tf=False))\n",
    "        #         feat_train = pipe.transform(X_train[\"Token\"])\n",
    "        #         print(feat_train.shape)\n",
    "\n",
    "        token_vectors = count_vectorizer.fit_transform(df[\"Token\"])\n",
    "        print(\n",
    "            f\"\\ttokens unique:\\n\\t\\t{token_vectors.shape[1]} dans title et body regroupé\"\n",
    "        )"
   ]
  },
  {
   "cell_type": "markdown",
   "id": "9bf1cc93",
   "metadata": {
    "papermill": {
     "duration": 0.018988,
     "end_time": "2023-01-28T15:07:56.442494",
     "exception": false,
     "start_time": "2023-01-28T15:07:56.423506",
     "status": "completed"
    },
    "tags": []
   },
   "source": [
    "### Test reduction dimension\n",
    "avec n_components=1_000 : 10% de la variance éxpliqué\n"
   ]
  },
  {
   "cell_type": "code",
   "execution_count": 22,
   "id": "a510ce38",
   "metadata": {
    "execution": {
     "iopub.execute_input": "2023-01-28T15:07:56.482967Z",
     "iopub.status.busy": "2023-01-28T15:07:56.481301Z",
     "iopub.status.idle": "2023-01-28T15:07:56.519172Z",
     "shell.execute_reply": "2023-01-28T15:07:56.518127Z"
    },
    "papermill": {
     "duration": 0.060898,
     "end_time": "2023-01-28T15:07:56.522432",
     "exception": false,
     "start_time": "2023-01-28T15:07:56.461534",
     "status": "completed"
    },
    "tags": []
   },
   "outputs": [
    {
     "name": "stdout",
     "output_type": "stream",
     "text": [
      "CPU times: user 3 µs, sys: 0 ns, total: 3 µs\n",
      "Wall time: 7.87 µs\n"
     ]
    }
   ],
   "source": [
    "%%time\n",
    "if LONG:\n",
    "    truncSvd = decomposition.TruncatedSVD(n_components=1000).fit(\n",
    "        preprocessing.StandardScaler(with_mean=False).fit_transform(token_vectors)\n",
    "    )\n",
    "    plt.figure(figsize=(30, 15))\n",
    "    scree = truncSvd.explained_variance_ratio_ * 100\n",
    "    plt.bar(np.arange(len(scree)) + 1, scree)\n",
    "    plt.plot(np.arange(len(scree)) + 1, scree.cumsum(), c=\"red\", marker=\"o\")\n",
    "    plt.xlabel(\"rang de l'axe d'inertie\")\n",
    "    plt.ylabel(\"pourcentage variance expliquée\")\n",
    "    plt.title(\"Eboulis des valeurs propres\")\n",
    "    plt.show()"
   ]
  },
  {
   "cell_type": "markdown",
   "id": "601695b4",
   "metadata": {
    "papermill": {
     "duration": 0.018776,
     "end_time": "2023-01-28T15:07:56.561818",
     "exception": false,
     "start_time": "2023-01-28T15:07:56.543042",
     "status": "completed"
    },
    "tags": []
   },
   "source": [
    "# PreprocessPipeline"
   ]
  },
  {
   "cell_type": "code",
   "execution_count": 23,
   "id": "2e718a9d",
   "metadata": {
    "execution": {
     "iopub.execute_input": "2023-01-28T15:07:56.601574Z",
     "iopub.status.busy": "2023-01-28T15:07:56.600703Z",
     "iopub.status.idle": "2023-01-28T15:07:56.651561Z",
     "shell.execute_reply": "2023-01-28T15:07:56.650662Z"
    },
    "papermill": {
     "duration": 0.073089,
     "end_time": "2023-01-28T15:07:56.653694",
     "exception": false,
     "start_time": "2023-01-28T15:07:56.580605",
     "status": "completed"
    },
    "tags": []
   },
   "outputs": [],
   "source": [
    "pipeline_tfidf = pipeline.Pipeline(\n",
    "    [\n",
    "        (\n",
    "            \"count\",\n",
    "            feature_extraction.text.CountVectorizer(\n",
    "                min_df=best_min_df, max_df=best_max_df, max_features=None\n",
    "            ),\n",
    "        ),\n",
    "        (\n",
    "            \"tfidf\",\n",
    "            feature_extraction.text.TfidfTransformer(\n",
    "                norm=\"l2\", use_idf=True, smooth_idf=True, sublinear_tf=False\n",
    "            ),\n",
    "        ),\n",
    "        (\n",
    "            \"scale\",\n",
    "            preprocessing.StandardScaler(with_mean=False)\n",
    "            if description[\"StandardScaler\"][\"actif\"]\n",
    "            else \"passthrough\",\n",
    "        ),\n",
    "        (\n",
    "            \"dimReduction\",\n",
    "            decomposition.TruncatedSVD(\n",
    "                n_components=description[\"TruncatedSVD\"][\"n_components\"]\n",
    "            )\n",
    "            if description[\"TruncatedSVD\"][\"actif\"]\n",
    "            else \"passthrough\",\n",
    "        ),\n",
    "    ]\n",
    ")\n",
    "## @TODO cache\n",
    "# memory = joblib.Memory(location=\"/kaggle/working/cache_dir\", verbose=0)\n",
    "# pipeline_tfidf = memory.cache(pipeline_tfidf)"
   ]
  },
  {
   "cell_type": "markdown",
   "id": "82c71eed",
   "metadata": {
    "papermill": {
     "duration": 0.018744,
     "end_time": "2023-01-28T15:07:56.691644",
     "exception": false,
     "start_time": "2023-01-28T15:07:56.672900",
     "status": "completed"
    },
    "tags": []
   },
   "source": [
    "# OvsRest"
   ]
  },
  {
   "cell_type": "markdown",
   "id": "4ffafd02",
   "metadata": {
    "papermill": {
     "duration": 0.018753,
     "end_time": "2023-01-28T15:07:56.729425",
     "exception": false,
     "start_time": "2023-01-28T15:07:56.710672",
     "status": "completed"
    },
    "tags": []
   },
   "source": [
    "## LogisticRegression"
   ]
  },
  {
   "cell_type": "code",
   "execution_count": 24,
   "id": "00237e98",
   "metadata": {
    "execution": {
     "iopub.execute_input": "2023-01-28T15:07:56.769124Z",
     "iopub.status.busy": "2023-01-28T15:07:56.768304Z",
     "iopub.status.idle": "2023-01-28T15:07:56.807828Z",
     "shell.execute_reply": "2023-01-28T15:07:56.806747Z"
    },
    "papermill": {
     "duration": 0.062135,
     "end_time": "2023-01-28T15:07:56.810570",
     "exception": false,
     "start_time": "2023-01-28T15:07:56.748435",
     "status": "completed"
    },
    "tags": []
   },
   "outputs": [
    {
     "name": "stdout",
     "output_type": "stream",
     "text": [
      "CPU times: user 4 µs, sys: 1 µs, total: 5 µs\n",
      "Wall time: 7.87 µs\n"
     ]
    }
   ],
   "source": [
    "%%time\n",
    "if description[\"LogisticRegression\"][\"actif\"]:\n",
    "    pipeline_logisticReg = pipeline.Pipeline(\n",
    "        [\n",
    "            (\"tfidf\", pipeline_tfidf),\n",
    "            (\n",
    "                \"OvRLogisticReg\",\n",
    "                multiclass.OneVsRestClassifier(\n",
    "                    linear_model.LogisticRegression(random_state=42)\n",
    "                ),\n",
    "            ),\n",
    "        ]\n",
    "    )\n",
    "    with ignore_warnings(category=exceptions.ConvergenceWarning):\n",
    "        pipeline_logisticReg.fit(X_train, y_train)\n",
    "\n",
    "    # prediction sur jeu de test\n",
    "    pred_lr = pipeline_logisticReg.predict(X_test)\n",
    "    scores_lr = p5_nlp_utils.Commun.save_score(\n",
    "        y_test, pred_lr, target_names, \"LogisticRegression\"\n",
    "    )\n",
    "\n",
    "    # enregistrement model et score\n",
    "    joblib.dump(pipeline_logisticReg, \"LogisticRegression_model.joblib\")\n",
    "    scores_lr.sort_values(by=\"f1-score\", ascending=False)"
   ]
  },
  {
   "cell_type": "markdown",
   "id": "578786b8",
   "metadata": {
    "papermill": {
     "duration": 0.019028,
     "end_time": "2023-01-28T15:07:56.848982",
     "exception": false,
     "start_time": "2023-01-28T15:07:56.829954",
     "status": "completed"
    },
    "tags": []
   },
   "source": [
    "## SVC"
   ]
  },
  {
   "cell_type": "code",
   "execution_count": 25,
   "id": "7327239f",
   "metadata": {
    "execution": {
     "iopub.execute_input": "2023-01-28T15:07:56.889229Z",
     "iopub.status.busy": "2023-01-28T15:07:56.888235Z",
     "iopub.status.idle": "2023-01-28T15:07:56.916531Z",
     "shell.execute_reply": "2023-01-28T15:07:56.915519Z"
    },
    "papermill": {
     "duration": 0.050694,
     "end_time": "2023-01-28T15:07:56.918671",
     "exception": false,
     "start_time": "2023-01-28T15:07:56.867977",
     "status": "completed"
    },
    "tags": []
   },
   "outputs": [],
   "source": [
    "pipeline_svc = pipeline.Pipeline(\n",
    "    [\n",
    "        (\"tfidf\", pipeline_tfidf),\n",
    "        (\n",
    "            \"TfidfOvRSVC\",\n",
    "            multiclass.OneVsRestClassifier(\n",
    "                svm.SVC(\n",
    "                    cache_size=1080,\n",
    "                    max_iter=description[\"TfidfOvRSVC\"][\"max_iter\"],\n",
    "                    random_state=42,\n",
    "                )\n",
    "            ),\n",
    "        ),\n",
    "    ]\n",
    ")"
   ]
  },
  {
   "cell_type": "code",
   "execution_count": 26,
   "id": "cdab74c8",
   "metadata": {
    "execution": {
     "iopub.execute_input": "2023-01-28T15:07:56.959886Z",
     "iopub.status.busy": "2023-01-28T15:07:56.958385Z",
     "iopub.status.idle": "2023-01-28T15:07:56.991128Z",
     "shell.execute_reply": "2023-01-28T15:07:56.989560Z"
    },
    "papermill": {
     "duration": 0.055485,
     "end_time": "2023-01-28T15:07:56.993675",
     "exception": false,
     "start_time": "2023-01-28T15:07:56.938190",
     "status": "completed"
    },
    "tags": []
   },
   "outputs": [
    {
     "name": "stdout",
     "output_type": "stream",
     "text": [
      "CPU times: user 4 µs, sys: 0 ns, total: 4 µs\n",
      "Wall time: 8.11 µs\n"
     ]
    }
   ],
   "source": [
    "%%time\n",
    "if description[\"TfidfOvRSVC\"][\"actif\"]:\n",
    "    with ignore_warnings(category=exceptions.ConvergenceWarning):\n",
    "        pipeline_svc.fit(\n",
    "            X_train,\n",
    "            y_train,\n",
    "        )\n",
    "    print(\"Fin entrainement début prédiction\")\n",
    "    pred_svc = pipeline_svc.predict(X_test)\n",
    "    #     print(pred_svc)\n",
    "    print(\"Enregistrement score et modéle\")\n",
    "    scores_svc = p5_nlp_utils.Commun.save_score(\n",
    "        y_test, pred_svc, target_names, \"TfidfOvRSVC\"\n",
    "    )\n",
    "    joblib.dump(pipeline_svc, \"TfidfOvRestSvc_model.joblib\")\n",
    "    print(scores_svc.sort_values(by=\"f1-score\", ascending=False))"
   ]
  },
  {
   "cell_type": "markdown",
   "id": "55ad9b21",
   "metadata": {
    "papermill": {
     "duration": 0.019142,
     "end_time": "2023-01-28T15:07:57.032487",
     "exception": false,
     "start_time": "2023-01-28T15:07:57.013345",
     "status": "completed"
    },
    "tags": []
   },
   "source": [
    "# Word2Vec"
   ]
  },
  {
   "cell_type": "markdown",
   "id": "2ad5eda8",
   "metadata": {
    "papermill": {
     "duration": 0.019039,
     "end_time": "2023-01-28T15:07:57.070920",
     "exception": false,
     "start_time": "2023-01-28T15:07:57.051881",
     "status": "completed"
    },
    "tags": []
   },
   "source": [
    "## Keras Model"
   ]
  },
  {
   "cell_type": "code",
   "execution_count": 27,
   "id": "a31601d2",
   "metadata": {
    "execution": {
     "iopub.execute_input": "2023-01-28T15:07:57.111495Z",
     "iopub.status.busy": "2023-01-28T15:07:57.109955Z",
     "iopub.status.idle": "2023-01-28T15:08:02.773926Z",
     "shell.execute_reply": "2023-01-28T15:08:02.772909Z"
    },
    "papermill": {
     "duration": 5.686344,
     "end_time": "2023-01-28T15:08:02.776222",
     "exception": false,
     "start_time": "2023-01-28T15:07:57.089878",
     "status": "completed"
    },
    "tags": []
   },
   "outputs": [
    {
     "name": "stdout",
     "output_type": "stream",
     "text": [
      "{'actif': True, 'TextVectorization__max_tokens': 210000, 'TextVectorization__output_sequence_length': 256, 'Embedding__output_dim': 512, 'Word2Vec__min_count': 5, 'Word2Vec__window': 25, 'Word2Vec__epochs': 200, 'fit__learning_rate': 1e-05, 'fit__epochs': 150}\n"
     ]
    },
    {
     "name": "stderr",
     "output_type": "stream",
     "text": [
      "2023-01-28 15:07:57.256559: I tensorflow/compiler/mlir/mlir_graph_optimization_pass.cc:185] None of the MLIR Optimization Passes are enabled (registered 2)\n"
     ]
    },
    {
     "name": "stdout",
     "output_type": "stream",
     "text": [
      "CPU times: user 7.18 s, sys: 518 ms, total: 7.7 s\n",
      "Wall time: 5.63 s\n"
     ]
    }
   ],
   "source": [
    "%%time\n",
    "if description[\"Word2Vec_keras\"][\"actif\"]:\n",
    "    print(description[\"Word2Vec_keras\"])\n",
    "    ## https://www.tensorflow.org/api_docs/python/tf/keras/layers/TextVectorization\n",
    "    # because https://www.tensorflow.org/api_docs/python/tf/keras/preprocessing/text/Tokenizer deprecaded\n",
    "    vectorize_layer = tf.keras.layers.TextVectorization(\n",
    "        max_tokens=description[\"Word2Vec_keras\"][\"TextVectorization__max_tokens\"],\n",
    "        standardize=\"lower_and_strip_punctuation\",\n",
    "        split=\"whitespace\",\n",
    "        ngrams=None,\n",
    "        output_mode=\"int\",\n",
    "        output_sequence_length=description[\"Word2Vec_keras\"][\n",
    "            \"TextVectorization__output_sequence_length\"\n",
    "        ],\n",
    "    )\n",
    "    vectorize_layer.adapt(X_train)"
   ]
  },
  {
   "cell_type": "code",
   "execution_count": 28,
   "id": "0ab2b382",
   "metadata": {
    "execution": {
     "iopub.execute_input": "2023-01-28T15:08:02.818671Z",
     "iopub.status.busy": "2023-01-28T15:08:02.818375Z",
     "iopub.status.idle": "2023-01-28T16:07:47.358741Z",
     "shell.execute_reply": "2023-01-28T16:07:47.357245Z"
    },
    "papermill": {
     "duration": 3584.564805,
     "end_time": "2023-01-28T16:07:47.360966",
     "exception": false,
     "start_time": "2023-01-28T15:08:02.796161",
     "status": "completed"
    },
    "tags": []
   },
   "outputs": [
    {
     "name": "stdout",
     "output_type": "stream",
     "text": [
      "Build & train Word2Vec model ...\n",
      "Vocabulary size: 20120\n",
      "Word2Vec trained\n",
      "141837 20120 704.96%\n",
      "CPU times: user 59min 25s, sys: 10.9 s, total: 59min 36s\n",
      "Wall time: 59min 44s\n"
     ]
    }
   ],
   "source": [
    "%%time\n",
    "if description[\"Word2Vec_keras\"][\"actif\"]:\n",
    "    model_vectors = p5_nlp_utils.Word2Vec.build_Word2Vec(\n",
    "        X_train, description[\"Word2Vec_keras\"]\n",
    "    )\n",
    "    print(\n",
    "        f\"{len(vectorize_layer.get_vocabulary())} {len(model_vectors.index_to_key)} {len(vectorize_layer.get_vocabulary())/len(model_vectors.index_to_key):.2%}\"\n",
    "    )"
   ]
  },
  {
   "cell_type": "code",
   "execution_count": 29,
   "id": "648039c6",
   "metadata": {
    "execution": {
     "iopub.execute_input": "2023-01-28T16:07:47.413104Z",
     "iopub.status.busy": "2023-01-28T16:07:47.412783Z",
     "iopub.status.idle": "2023-01-28T16:09:05.821402Z",
     "shell.execute_reply": "2023-01-28T16:09:05.820385Z"
    },
    "papermill": {
     "duration": 78.461879,
     "end_time": "2023-01-28T16:09:05.843801",
     "exception": false,
     "start_time": "2023-01-28T16:07:47.381922",
     "status": "completed"
    },
    "tags": []
   },
   "outputs": [
    {
     "name": "stdout",
     "output_type": "stream",
     "text": [
      "Create Embedding matrix ...\n",
      "CPU times: user 1min 16s, sys: 1.51 s, total: 1min 18s\n",
      "Wall time: 1min 18s\n"
     ]
    }
   ],
   "source": [
    "%%time\n",
    "# @TODO p5_nlp_utils.Word2Vec.get_embedding(model_vectors, vocabulary, params)\n",
    "if description[\"Word2Vec_keras\"][\"actif\"]:\n",
    "    print(\"Create Embedding matrix ...\")\n",
    "    embedding_matrix = np.asarray(\n",
    "        [\n",
    "            model_vectors[word]\n",
    "            if word in model_vectors.index_to_key\n",
    "            else np.zeros(description[\"Word2Vec_keras\"][\"Embedding__output_dim\"])\n",
    "            for word in vectorize_layer.get_vocabulary()\n",
    "        ]\n",
    "    )\n",
    "    embedding_matrix.shape"
   ]
  },
  {
   "cell_type": "code",
   "execution_count": 30,
   "id": "aa119f25",
   "metadata": {
    "execution": {
     "iopub.execute_input": "2023-01-28T16:09:05.885420Z",
     "iopub.status.busy": "2023-01-28T16:09:05.884523Z",
     "iopub.status.idle": "2023-01-28T16:09:10.436673Z",
     "shell.execute_reply": "2023-01-28T16:09:10.435273Z"
    },
    "papermill": {
     "duration": 4.576318,
     "end_time": "2023-01-28T16:09:10.439942",
     "exception": false,
     "start_time": "2023-01-28T16:09:05.863624",
     "status": "completed"
    },
    "tags": []
   },
   "outputs": [
    {
     "name": "stdout",
     "output_type": "stream",
     "text": [
      "Model: \"sequential\"\n",
      "_________________________________________________________________\n",
      "Layer (type)                 Output Shape              Param #   \n",
      "=================================================================\n",
      "text_vectorization (TextVect (None, 256)               0         \n",
      "_________________________________________________________________\n",
      "embedding (Embedding)        (None, 256, 512)          72620544  \n",
      "_________________________________________________________________\n",
      "global_average_pooling1d (Gl (None, 512)               0         \n",
      "_________________________________________________________________\n",
      "dense (Dense)                (None, 256)               131328    \n",
      "_________________________________________________________________\n",
      "dense_1 (Dense)              (None, 21)                5397      \n",
      "=================================================================\n",
      "Total params: 72,757,269\n",
      "Trainable params: 72,757,269\n",
      "Non-trainable params: 0\n",
      "_________________________________________________________________\n",
      "None\n"
     ]
    }
   ],
   "source": [
    "# https://www.tensorflow.org/text/guide/word_embeddings\n",
    "if description[\"Word2Vec_keras\"][\"actif\"]:\n",
    "    modelkerasPipeline = tf.keras.models.Sequential(\n",
    "        [\n",
    "            vectorize_layer,\n",
    "            tf.keras.layers.Embedding(\n",
    "                input_dim=len(vectorize_layer.get_vocabulary()),\n",
    "                output_dim=description[\"Word2Vec_keras\"][\"Embedding__output_dim\"],\n",
    "                weights=[embedding_matrix],\n",
    "                input_length=description[\"Word2Vec_keras\"][\n",
    "                    \"TextVectorization__output_sequence_length\"\n",
    "                ],\n",
    "            ),\n",
    "            tf.keras.layers.GlobalAveragePooling1D(),\n",
    "            tf.keras.layers.Dense(256, activation=\"relu\"),\n",
    "            tf.keras.layers.Dense(len(target_names), activation=\"sigmoid\"),\n",
    "        ]\n",
    "    )\n",
    "    # tensorboard_callback = tf.keras.callbacks.TensorBoard(log_dir=\"logs\") # for log create a dir\n",
    "    modelkerasPipeline.compile(\n",
    "        optimizer=tf.keras.optimizers.Adam(learning_rate=description[\"Word2Vec_keras\"][\"fit__learning_rate\"]),\n",
    "        loss=tf.keras.losses.BinaryCrossentropy(),\n",
    "        metrics=[\"accuracy\"],\n",
    "    )\n",
    "    print(modelkerasPipeline.summary())"
   ]
  },
  {
   "cell_type": "code",
   "execution_count": 31,
   "id": "6124fd86",
   "metadata": {
    "execution": {
     "iopub.execute_input": "2023-01-28T16:09:10.542385Z",
     "iopub.status.busy": "2023-01-28T16:09:10.541830Z",
     "iopub.status.idle": "2023-01-28T18:39:31.937868Z",
     "shell.execute_reply": "2023-01-28T18:39:31.936895Z"
    },
    "papermill": {
     "duration": 9021.436407,
     "end_time": "2023-01-28T18:39:31.939985",
     "exception": false,
     "start_time": "2023-01-28T16:09:10.503578",
     "status": "completed"
    },
    "tags": []
   },
   "outputs": [
    {
     "name": "stdout",
     "output_type": "stream",
     "text": [
      "Epoch 1/150\n",
      "2776/2776 [==============================] - 61s 21ms/step - loss: 0.4509 - accuracy: 0.2353\n",
      "Epoch 2/150\n",
      "2776/2776 [==============================] - 59s 21ms/step - loss: 0.1975 - accuracy: 0.3518\n",
      "Epoch 3/150\n",
      "2776/2776 [==============================] - 60s 22ms/step - loss: 0.1774 - accuracy: 0.4000\n",
      "Epoch 4/150\n",
      "2776/2776 [==============================] - 59s 21ms/step - loss: 0.1647 - accuracy: 0.4438\n",
      "Epoch 5/150\n",
      "2776/2776 [==============================] - 60s 22ms/step - loss: 0.1556 - accuracy: 0.4729\n",
      "Epoch 6/150\n",
      "2776/2776 [==============================] - 59s 21ms/step - loss: 0.1486 - accuracy: 0.4922\n",
      "Epoch 7/150\n",
      "2776/2776 [==============================] - 60s 22ms/step - loss: 0.1428 - accuracy: 0.5041\n",
      "Epoch 8/150\n",
      "2776/2776 [==============================] - 60s 22ms/step - loss: 0.1380 - accuracy: 0.5158\n",
      "Epoch 9/150\n",
      "2776/2776 [==============================] - 59s 21ms/step - loss: 0.1338 - accuracy: 0.5236\n",
      "Epoch 10/150\n",
      "2776/2776 [==============================] - 60s 22ms/step - loss: 0.1301 - accuracy: 0.5312\n",
      "Epoch 11/150\n",
      "2776/2776 [==============================] - 60s 21ms/step - loss: 0.1268 - accuracy: 0.5374\n",
      "Epoch 12/150\n",
      "2776/2776 [==============================] - 60s 22ms/step - loss: 0.1239 - accuracy: 0.5430\n",
      "Epoch 13/150\n",
      "2776/2776 [==============================] - 59s 21ms/step - loss: 0.1212 - accuracy: 0.5468\n",
      "Epoch 14/150\n",
      "2776/2776 [==============================] - 60s 22ms/step - loss: 0.1188 - accuracy: 0.5516\n",
      "Epoch 15/150\n",
      "2776/2776 [==============================] - 60s 22ms/step - loss: 0.1167 - accuracy: 0.5553\n",
      "Epoch 16/150\n",
      "2776/2776 [==============================] - 60s 21ms/step - loss: 0.1147 - accuracy: 0.5589\n",
      "Epoch 17/150\n",
      "2776/2776 [==============================] - 60s 22ms/step - loss: 0.1128 - accuracy: 0.5618\n",
      "Epoch 18/150\n",
      "2776/2776 [==============================] - 59s 21ms/step - loss: 0.1112 - accuracy: 0.5648\n",
      "Epoch 19/150\n",
      "2776/2776 [==============================] - 60s 22ms/step - loss: 0.1096 - accuracy: 0.5675\n",
      "Epoch 20/150\n",
      "2776/2776 [==============================] - 60s 21ms/step - loss: 0.1082 - accuracy: 0.5692\n",
      "Epoch 21/150\n",
      "2776/2776 [==============================] - 60s 22ms/step - loss: 0.1069 - accuracy: 0.5715\n",
      "Epoch 22/150\n",
      "2776/2776 [==============================] - 60s 22ms/step - loss: 0.1056 - accuracy: 0.5743\n",
      "Epoch 23/150\n",
      "2776/2776 [==============================] - 60s 22ms/step - loss: 0.1045 - accuracy: 0.5754\n",
      "Epoch 24/150\n",
      "2776/2776 [==============================] - 60s 22ms/step - loss: 0.1034 - accuracy: 0.5774\n",
      "Epoch 25/150\n",
      "2776/2776 [==============================] - 60s 22ms/step - loss: 0.1024 - accuracy: 0.5793\n",
      "Epoch 26/150\n",
      "2776/2776 [==============================] - 60s 22ms/step - loss: 0.1014 - accuracy: 0.5810\n",
      "Epoch 27/150\n",
      "2776/2776 [==============================] - 60s 22ms/step - loss: 0.1005 - accuracy: 0.5812\n",
      "Epoch 28/150\n",
      "2776/2776 [==============================] - 60s 22ms/step - loss: 0.0996 - accuracy: 0.5828\n",
      "Epoch 29/150\n",
      "2776/2776 [==============================] - 60s 22ms/step - loss: 0.0988 - accuracy: 0.5837\n",
      "Epoch 30/150\n",
      "2776/2776 [==============================] - 60s 22ms/step - loss: 0.0981 - accuracy: 0.5848\n",
      "Epoch 31/150\n",
      "2776/2776 [==============================] - 60s 22ms/step - loss: 0.0973 - accuracy: 0.5855\n",
      "Epoch 32/150\n",
      "2776/2776 [==============================] - 60s 22ms/step - loss: 0.0966 - accuracy: 0.5859\n",
      "Epoch 33/150\n",
      "2776/2776 [==============================] - 60s 22ms/step - loss: 0.0960 - accuracy: 0.5865\n",
      "Epoch 34/150\n",
      "2776/2776 [==============================] - 60s 22ms/step - loss: 0.0953 - accuracy: 0.5873\n",
      "Epoch 35/150\n",
      "2776/2776 [==============================] - 60s 22ms/step - loss: 0.0947 - accuracy: 0.5884\n",
      "Epoch 36/150\n",
      "2776/2776 [==============================] - 60s 22ms/step - loss: 0.0942 - accuracy: 0.5890\n",
      "Epoch 37/150\n",
      "2776/2776 [==============================] - 60s 22ms/step - loss: 0.0936 - accuracy: 0.5899\n",
      "Epoch 38/150\n",
      "2776/2776 [==============================] - 60s 22ms/step - loss: 0.0931 - accuracy: 0.5905\n",
      "Epoch 39/150\n",
      "2776/2776 [==============================] - 60s 22ms/step - loss: 0.0925 - accuracy: 0.5912\n",
      "Epoch 40/150\n",
      "2776/2776 [==============================] - 60s 22ms/step - loss: 0.0920 - accuracy: 0.5912\n",
      "Epoch 41/150\n",
      "2776/2776 [==============================] - 60s 22ms/step - loss: 0.0916 - accuracy: 0.5921\n",
      "Epoch 42/150\n",
      "2776/2776 [==============================] - 60s 22ms/step - loss: 0.0911 - accuracy: 0.5928\n",
      "Epoch 43/150\n",
      "2776/2776 [==============================] - 60s 22ms/step - loss: 0.0906 - accuracy: 0.5928\n",
      "Epoch 44/150\n",
      "2776/2776 [==============================] - 60s 22ms/step - loss: 0.0902 - accuracy: 0.5933\n",
      "Epoch 45/150\n",
      "2776/2776 [==============================] - 60s 22ms/step - loss: 0.0898 - accuracy: 0.5945\n",
      "Epoch 46/150\n",
      "2776/2776 [==============================] - 60s 22ms/step - loss: 0.0894 - accuracy: 0.5943\n",
      "Epoch 47/150\n",
      "2776/2776 [==============================] - 60s 22ms/step - loss: 0.0890 - accuracy: 0.5949\n",
      "Epoch 48/150\n",
      "2776/2776 [==============================] - 60s 22ms/step - loss: 0.0886 - accuracy: 0.5955\n",
      "Epoch 49/150\n",
      "2776/2776 [==============================] - 60s 22ms/step - loss: 0.0882 - accuracy: 0.5956\n",
      "Epoch 50/150\n",
      "2776/2776 [==============================] - 60s 22ms/step - loss: 0.0878 - accuracy: 0.5961\n",
      "Epoch 51/150\n",
      "2776/2776 [==============================] - 60s 22ms/step - loss: 0.0875 - accuracy: 0.5969\n",
      "Epoch 52/150\n",
      "2776/2776 [==============================] - 60s 22ms/step - loss: 0.0871 - accuracy: 0.5970\n",
      "Epoch 53/150\n",
      "2776/2776 [==============================] - 60s 22ms/step - loss: 0.0868 - accuracy: 0.5970\n",
      "Epoch 54/150\n",
      "2776/2776 [==============================] - 60s 22ms/step - loss: 0.0865 - accuracy: 0.5975\n",
      "Epoch 55/150\n",
      "2776/2776 [==============================] - 60s 22ms/step - loss: 0.0862 - accuracy: 0.5982\n",
      "Epoch 56/150\n",
      "2776/2776 [==============================] - 60s 22ms/step - loss: 0.0858 - accuracy: 0.5983\n",
      "Epoch 57/150\n",
      "2776/2776 [==============================] - 60s 22ms/step - loss: 0.0855 - accuracy: 0.5990\n",
      "Epoch 58/150\n",
      "2776/2776 [==============================] - 60s 22ms/step - loss: 0.0852 - accuracy: 0.5984\n",
      "Epoch 59/150\n",
      "2776/2776 [==============================] - 60s 22ms/step - loss: 0.0849 - accuracy: 0.5990\n",
      "Epoch 60/150\n",
      "2776/2776 [==============================] - 60s 22ms/step - loss: 0.0846 - accuracy: 0.5997\n",
      "Epoch 61/150\n",
      "2776/2776 [==============================] - 60s 22ms/step - loss: 0.0844 - accuracy: 0.5999\n",
      "Epoch 62/150\n",
      "2776/2776 [==============================] - 60s 22ms/step - loss: 0.0841 - accuracy: 0.6003\n",
      "Epoch 63/150\n",
      "2776/2776 [==============================] - 60s 22ms/step - loss: 0.0838 - accuracy: 0.6001\n",
      "Epoch 64/150\n",
      "2776/2776 [==============================] - 61s 22ms/step - loss: 0.0835 - accuracy: 0.6003\n",
      "Epoch 65/150\n",
      "2776/2776 [==============================] - 60s 22ms/step - loss: 0.0833 - accuracy: 0.6007\n",
      "Epoch 66/150\n",
      "2776/2776 [==============================] - 60s 22ms/step - loss: 0.0830 - accuracy: 0.6010\n",
      "Epoch 67/150\n",
      "2776/2776 [==============================] - 61s 22ms/step - loss: 0.0828 - accuracy: 0.6016\n",
      "Epoch 68/150\n",
      "2776/2776 [==============================] - 60s 22ms/step - loss: 0.0825 - accuracy: 0.6019\n",
      "Epoch 69/150\n",
      "2776/2776 [==============================] - 60s 22ms/step - loss: 0.0823 - accuracy: 0.6022\n",
      "Epoch 70/150\n",
      "2776/2776 [==============================] - 60s 22ms/step - loss: 0.0820 - accuracy: 0.6024\n",
      "Epoch 71/150\n",
      "2776/2776 [==============================] - 61s 22ms/step - loss: 0.0818 - accuracy: 0.6024\n",
      "Epoch 72/150\n",
      "2776/2776 [==============================] - 60s 22ms/step - loss: 0.0816 - accuracy: 0.6026\n",
      "Epoch 73/150\n",
      "2776/2776 [==============================] - 60s 22ms/step - loss: 0.0813 - accuracy: 0.6031\n",
      "Epoch 74/150\n",
      "2776/2776 [==============================] - 61s 22ms/step - loss: 0.0811 - accuracy: 0.6032\n",
      "Epoch 75/150\n",
      "2776/2776 [==============================] - 61s 22ms/step - loss: 0.0809 - accuracy: 0.6036\n",
      "Epoch 76/150\n",
      "2776/2776 [==============================] - 60s 22ms/step - loss: 0.0807 - accuracy: 0.6034\n",
      "Epoch 77/150\n",
      "2776/2776 [==============================] - 61s 22ms/step - loss: 0.0805 - accuracy: 0.6040\n",
      "Epoch 78/150\n",
      "2776/2776 [==============================] - 60s 22ms/step - loss: 0.0803 - accuracy: 0.6040\n",
      "Epoch 79/150\n",
      "2776/2776 [==============================] - 60s 22ms/step - loss: 0.0800 - accuracy: 0.6043\n",
      "Epoch 80/150\n",
      "2776/2776 [==============================] - 60s 22ms/step - loss: 0.0798 - accuracy: 0.6050\n",
      "Epoch 81/150\n",
      "2776/2776 [==============================] - 60s 22ms/step - loss: 0.0796 - accuracy: 0.6047\n",
      "Epoch 82/150\n",
      "2776/2776 [==============================] - 60s 22ms/step - loss: 0.0794 - accuracy: 0.6052\n",
      "Epoch 83/150\n",
      "2776/2776 [==============================] - 61s 22ms/step - loss: 0.0792 - accuracy: 0.6057\n",
      "Epoch 84/150\n",
      "2776/2776 [==============================] - 60s 22ms/step - loss: 0.0791 - accuracy: 0.6058\n",
      "Epoch 85/150\n",
      "2776/2776 [==============================] - 61s 22ms/step - loss: 0.0789 - accuracy: 0.6059\n",
      "Epoch 86/150\n",
      "2776/2776 [==============================] - 60s 22ms/step - loss: 0.0787 - accuracy: 0.6066\n",
      "Epoch 87/150\n",
      "2776/2776 [==============================] - 60s 22ms/step - loss: 0.0785 - accuracy: 0.6067\n",
      "Epoch 88/150\n",
      "2776/2776 [==============================] - 60s 22ms/step - loss: 0.0783 - accuracy: 0.6069\n",
      "Epoch 89/150\n",
      "2776/2776 [==============================] - 60s 22ms/step - loss: 0.0781 - accuracy: 0.6071\n",
      "Epoch 90/150\n",
      "2776/2776 [==============================] - 60s 22ms/step - loss: 0.0779 - accuracy: 0.6074\n",
      "Epoch 91/150\n",
      "2776/2776 [==============================] - 60s 22ms/step - loss: 0.0778 - accuracy: 0.6076\n",
      "Epoch 92/150\n",
      "2776/2776 [==============================] - 60s 22ms/step - loss: 0.0776 - accuracy: 0.6077\n",
      "Epoch 93/150\n",
      "2776/2776 [==============================] - 60s 22ms/step - loss: 0.0774 - accuracy: 0.6080\n",
      "Epoch 94/150\n",
      "2776/2776 [==============================] - 60s 22ms/step - loss: 0.0772 - accuracy: 0.6080\n",
      "Epoch 95/150\n",
      "2776/2776 [==============================] - 60s 22ms/step - loss: 0.0771 - accuracy: 0.6086\n",
      "Epoch 96/150\n",
      "2776/2776 [==============================] - 60s 22ms/step - loss: 0.0769 - accuracy: 0.6085\n",
      "Epoch 97/150\n",
      "2776/2776 [==============================] - 60s 22ms/step - loss: 0.0767 - accuracy: 0.6087\n",
      "Epoch 98/150\n",
      "2776/2776 [==============================] - 60s 22ms/step - loss: 0.0766 - accuracy: 0.6091\n",
      "Epoch 99/150\n",
      "2776/2776 [==============================] - 60s 22ms/step - loss: 0.0764 - accuracy: 0.6084\n",
      "Epoch 100/150\n",
      "2776/2776 [==============================] - 60s 22ms/step - loss: 0.0762 - accuracy: 0.6093\n",
      "Epoch 101/150\n",
      "2776/2776 [==============================] - 60s 22ms/step - loss: 0.0761 - accuracy: 0.6095\n",
      "Epoch 102/150\n",
      "2776/2776 [==============================] - 60s 22ms/step - loss: 0.0759 - accuracy: 0.6098\n",
      "Epoch 103/150\n",
      "2776/2776 [==============================] - 60s 22ms/step - loss: 0.0758 - accuracy: 0.6098\n",
      "Epoch 104/150\n",
      "2776/2776 [==============================] - 60s 22ms/step - loss: 0.0756 - accuracy: 0.6099\n",
      "Epoch 105/150\n",
      "2776/2776 [==============================] - 60s 22ms/step - loss: 0.0755 - accuracy: 0.6103\n",
      "Epoch 106/150\n",
      "2776/2776 [==============================] - 60s 21ms/step - loss: 0.0753 - accuracy: 0.6107\n",
      "Epoch 107/150\n",
      "2776/2776 [==============================] - 60s 22ms/step - loss: 0.0752 - accuracy: 0.6106\n",
      "Epoch 108/150\n",
      "2776/2776 [==============================] - 60s 22ms/step - loss: 0.0750 - accuracy: 0.6109\n",
      "Epoch 109/150\n",
      "2776/2776 [==============================] - 61s 22ms/step - loss: 0.0749 - accuracy: 0.6110\n",
      "Epoch 110/150\n",
      "2776/2776 [==============================] - 60s 22ms/step - loss: 0.0747 - accuracy: 0.6114\n",
      "Epoch 111/150\n",
      "2776/2776 [==============================] - 60s 22ms/step - loss: 0.0746 - accuracy: 0.6119\n",
      "Epoch 112/150\n",
      "2776/2776 [==============================] - 61s 22ms/step - loss: 0.0744 - accuracy: 0.6123\n",
      "Epoch 113/150\n",
      "2776/2776 [==============================] - 60s 22ms/step - loss: 0.0743 - accuracy: 0.6121\n",
      "Epoch 114/150\n",
      "2776/2776 [==============================] - 60s 22ms/step - loss: 0.0742 - accuracy: 0.6122\n",
      "Epoch 115/150\n",
      "2776/2776 [==============================] - 60s 22ms/step - loss: 0.0740 - accuracy: 0.6127\n",
      "Epoch 116/150\n",
      "2776/2776 [==============================] - 60s 22ms/step - loss: 0.0739 - accuracy: 0.6128\n",
      "Epoch 117/150\n",
      "2776/2776 [==============================] - 60s 22ms/step - loss: 0.0737 - accuracy: 0.6132\n",
      "Epoch 118/150\n",
      "2776/2776 [==============================] - 60s 22ms/step - loss: 0.0736 - accuracy: 0.6130\n",
      "Epoch 119/150\n",
      "2776/2776 [==============================] - 61s 22ms/step - loss: 0.0735 - accuracy: 0.6131\n",
      "Epoch 120/150\n",
      "2776/2776 [==============================] - 60s 22ms/step - loss: 0.0733 - accuracy: 0.6135\n",
      "Epoch 121/150\n",
      "2776/2776 [==============================] - 60s 21ms/step - loss: 0.0732 - accuracy: 0.6136\n",
      "Epoch 122/150\n",
      "2776/2776 [==============================] - 60s 22ms/step - loss: 0.0731 - accuracy: 0.6142\n",
      "Epoch 123/150\n",
      "2776/2776 [==============================] - 60s 22ms/step - loss: 0.0729 - accuracy: 0.6140\n",
      "Epoch 124/150\n",
      "2776/2776 [==============================] - 60s 22ms/step - loss: 0.0728 - accuracy: 0.6143\n",
      "Epoch 125/150\n",
      "2776/2776 [==============================] - 60s 22ms/step - loss: 0.0727 - accuracy: 0.6141\n",
      "Epoch 126/150\n",
      "2776/2776 [==============================] - 60s 22ms/step - loss: 0.0725 - accuracy: 0.6148\n",
      "Epoch 127/150\n",
      "2776/2776 [==============================] - 60s 22ms/step - loss: 0.0724 - accuracy: 0.6148\n",
      "Epoch 128/150\n",
      "2776/2776 [==============================] - 59s 21ms/step - loss: 0.0723 - accuracy: 0.6151\n",
      "Epoch 129/150\n",
      "2776/2776 [==============================] - 61s 22ms/step - loss: 0.0722 - accuracy: 0.6146\n",
      "Epoch 130/150\n",
      "2776/2776 [==============================] - 61s 22ms/step - loss: 0.0720 - accuracy: 0.6156\n",
      "Epoch 131/150\n",
      "2776/2776 [==============================] - 61s 22ms/step - loss: 0.0719 - accuracy: 0.6152\n",
      "Epoch 132/150\n",
      "2776/2776 [==============================] - 60s 22ms/step - loss: 0.0718 - accuracy: 0.6154\n",
      "Epoch 133/150\n",
      "2776/2776 [==============================] - 60s 22ms/step - loss: 0.0717 - accuracy: 0.6159\n",
      "Epoch 134/150\n",
      "2776/2776 [==============================] - 60s 22ms/step - loss: 0.0715 - accuracy: 0.6160\n",
      "Epoch 135/150\n",
      "2776/2776 [==============================] - 60s 22ms/step - loss: 0.0714 - accuracy: 0.6164\n",
      "Epoch 136/150\n",
      "2776/2776 [==============================] - 60s 22ms/step - loss: 0.0713 - accuracy: 0.6161\n",
      "Epoch 137/150\n",
      "2776/2776 [==============================] - 60s 22ms/step - loss: 0.0712 - accuracy: 0.6163\n",
      "Epoch 138/150\n",
      "2776/2776 [==============================] - 61s 22ms/step - loss: 0.0711 - accuracy: 0.6167\n",
      "Epoch 139/150\n",
      "2776/2776 [==============================] - 61s 22ms/step - loss: 0.0710 - accuracy: 0.6169\n",
      "Epoch 140/150\n",
      "2776/2776 [==============================] - 60s 22ms/step - loss: 0.0708 - accuracy: 0.6167\n",
      "Epoch 141/150\n",
      "2776/2776 [==============================] - 60s 21ms/step - loss: 0.0707 - accuracy: 0.6172\n",
      "Epoch 142/150\n",
      "2776/2776 [==============================] - 60s 22ms/step - loss: 0.0706 - accuracy: 0.6175\n",
      "Epoch 143/150\n",
      "2776/2776 [==============================] - 61s 22ms/step - loss: 0.0705 - accuracy: 0.6177\n",
      "Epoch 144/150\n",
      "2776/2776 [==============================] - 60s 22ms/step - loss: 0.0704 - accuracy: 0.6175\n",
      "Epoch 145/150\n",
      "2776/2776 [==============================] - 61s 22ms/step - loss: 0.0703 - accuracy: 0.6180\n",
      "Epoch 146/150\n",
      "2776/2776 [==============================] - 61s 22ms/step - loss: 0.0701 - accuracy: 0.6177\n",
      "Epoch 147/150\n",
      "2776/2776 [==============================] - 60s 21ms/step - loss: 0.0700 - accuracy: 0.6183\n",
      "Epoch 148/150\n",
      "2776/2776 [==============================] - 61s 22ms/step - loss: 0.0699 - accuracy: 0.6180\n",
      "Epoch 149/150\n",
      "2776/2776 [==============================] - 61s 22ms/step - loss: 0.0698 - accuracy: 0.6184\n",
      "Epoch 150/150\n",
      "2776/2776 [==============================] - 61s 22ms/step - loss: 0.0697 - accuracy: 0.6188\n",
      "CPU times: user 2h 5min 50s, sys: 5min 18s, total: 2h 11min 8s\n",
      "Wall time: 2h 30min 21s\n"
     ]
    }
   ],
   "source": [
    "%%time\n",
    "if description[\"Word2Vec_keras\"][\"actif\"]:\n",
    "    modelkerasPipeline.fit(\n",
    "        X_train,\n",
    "        y_train,\n",
    "        epochs=description[\"Word2Vec_keras\"][\"fit__epochs\"],\n",
    "        # callbacks=[tensorboard_callback],\n",
    "    )"
   ]
  },
  {
   "cell_type": "code",
   "execution_count": 32,
   "id": "f827fde5",
   "metadata": {
    "execution": {
     "iopub.execute_input": "2023-01-28T18:39:47.858549Z",
     "iopub.status.busy": "2023-01-28T18:39:47.858185Z",
     "iopub.status.idle": "2023-01-28T18:39:50.565102Z",
     "shell.execute_reply": "2023-01-28T18:39:50.562074Z"
    },
    "papermill": {
     "duration": 10.502781,
     "end_time": "2023-01-28T18:39:50.568143",
     "exception": false,
     "start_time": "2023-01-28T18:39:40.065362",
     "status": "completed"
    },
    "tags": []
   },
   "outputs": [
    {
     "name": "stdout",
     "output_type": "stream",
     "text": [
      "CPU times: user 2.82 s, sys: 271 ms, total: 3.09 s\n",
      "Wall time: 2.69 s\n"
     ]
    }
   ],
   "source": [
    "%%time\n",
    "if description[\"Word2Vec_keras\"][\"actif\"]:\n",
    "    pred_kerasword2vec_proba = modelkerasPipeline.predict(X_test)\n",
    "    #display(pred_kerasword2vec_proba.head(5))"
   ]
  },
  {
   "cell_type": "code",
   "execution_count": 33,
   "id": "b66b8ba0",
   "metadata": {
    "execution": {
     "iopub.execute_input": "2023-01-28T18:40:06.950763Z",
     "iopub.status.busy": "2023-01-28T18:40:06.950397Z",
     "iopub.status.idle": "2023-01-28T18:40:14.977551Z",
     "shell.execute_reply": "2023-01-28T18:40:14.975526Z"
    },
    "papermill": {
     "duration": 16.166105,
     "end_time": "2023-01-28T18:40:14.979800",
     "exception": false,
     "start_time": "2023-01-28T18:39:58.813695",
     "status": "completed"
    },
    "tags": []
   },
   "outputs": [
    {
     "name": "stdout",
     "output_type": "stream",
     "text": [
      "java : meilleur f1-score 75.65% pour limit 0.32\n",
      "c# : meilleur f1-score 67.44% pour limit 0.31\n",
      "javascript : meilleur f1-score 71.78% pour limit 0.38\n",
      "python : meilleur f1-score 83.64% pour limit 0.28\n",
      "android : meilleur f1-score 86.94% pour limit 0.35000000000000003\n",
      "c++ : meilleur f1-score 68.61% pour limit 0.34\n",
      "ios : meilleur f1-score 76.90% pour limit 0.29\n",
      "html : meilleur f1-score 63.38% pour limit 0.26\n",
      "php : meilleur f1-score 77.78% pour limit 0.33\n",
      ".net : meilleur f1-score 47.14% pour limit 0.26\n",
      "jquery : meilleur f1-score 72.49% pour limit 0.36\n",
      "css : meilleur f1-score 74.51% pour limit 0.36\n",
      "objective-c : meilleur f1-score 56.75% pour limit 0.26\n",
      "c : meilleur f1-score 55.46% pour limit 0.3\n",
      "sql : meilleur f1-score 62.47% pour limit 0.33\n",
      "iphone : meilleur f1-score 56.30% pour limit 0.28\n",
      "asp.net : meilleur f1-score 51.55% pour limit 0.23\n",
      "mysql : meilleur f1-score 71.62% pour limit 0.32\n",
      "linux : meilleur f1-score 54.27% pour limit 0.22\n",
      "node.js : meilleur f1-score 65.15% pour limit 0.32\n",
      "git : meilleur f1-score 82.18% pour limit 0.33\n"
     ]
    },
    {
     "data": {
      "image/png": "[encoded data removed]",
      "text/plain": [
       "<Figure size 2160x1080 with 1 Axes>"
      ]
     },
     "metadata": {
      "needs_background": "light"
     },
     "output_type": "display_data"
    },
    {
     "name": "stdout",
     "output_type": "stream",
     "text": [
      "Sur le jeu test avec limit par tag:\n",
      "              precision    recall  f1-score  support\n",
      "android        0.885005  0.854279  0.869370   2045.0\n",
      "python         0.838139  0.834609  0.836371   2612.0\n",
      "git            0.845560  0.799270  0.821764    274.0\n",
      "php            0.809302  0.748617  0.777778   1627.0\n",
      "ios            0.703654  0.847826  0.769041   1840.0\n",
      "java           0.742888  0.770658  0.756518   3558.0\n",
      "css            0.753846  0.736516  0.745081   1131.0\n",
      "jquery         0.721649  0.728218  0.724919   1538.0\n",
      "javascript     0.676602  0.764303  0.717784   3356.0\n",
      "mysql          0.729198  0.703650  0.716196    685.0\n",
      "weighted avg   0.672580  0.739378  0.701473  33044.0\n",
      "micro avg      0.659095  0.739378  0.696932  33044.0\n",
      "c++            0.656584  0.718432  0.686117   1964.0\n",
      "macro avg      0.652318  0.712069  0.677144  33044.0\n",
      "c#             0.604010  0.763317  0.674383   3473.0\n",
      "node.js        0.730419  0.587977  0.651503    682.0\n",
      "html           0.544118  0.758974  0.633833   1755.0\n",
      "sql            0.578999  0.678161  0.624669    870.0\n",
      "objective-c    0.476994  0.700450  0.567518    888.0\n",
      "iphone         0.481514  0.677819  0.563047    807.0\n",
      "samples avg    0.552145  0.602527  0.556700  33044.0\n",
      "c              0.515534  0.600000  0.554569    885.0\n",
      "linux          0.493381  0.602941  0.542687    680.0\n",
      "asp.net        0.485714  0.549068  0.515452    805.0\n",
      ".net           0.425565  0.528362  0.471425   1569.0\n",
      "CPU times: user 7.97 s, sys: 104 ms, total: 8.08 s\n",
      "Wall time: 7.98 s\n"
     ]
    }
   ],
   "source": [
    "%%time\n",
    "if description[\"Word2Vec_keras\"][\"actif\"]:\n",
    "    best_limits_kerasword2vec = p5_nlp_utils.Commun.find_best_limit_by_tags(\n",
    "        pred_kerasword2vec_proba, y_test, target_names, limits=np.linspace(0, 1, 101)\n",
    "    )\n",
    "    with open(\"/kaggle/working/best_limits_kerasword2vec.json\", \"w\") as outfile:\n",
    "        json.dump(best_limits_kerasword2vec, outfile)\n",
    "    pred_kerasword2vec = p5_nlp_utils.Commun.convert_pred_to_bool_by_tags(pred_kerasword2vec_proba, {k: v[0] for k, v in best_limits_kerasword2vec.items()})\n",
    "    scores_kerasword2vec = p5_nlp_utils.Commun.save_score(\n",
    "        y_true=y_test,\n",
    "        y_pred=pred_kerasword2vec,\n",
    "        target_names=target_names,\n",
    "        name=\"Word2Vec_keras\",\n",
    "    )\n",
    "    print(\"Sur le jeu test avec limit par tag:\")\n",
    "    print(scores_kerasword2vec.sort_values(by=\"f1-score\", ascending=False))"
   ]
  },
  {
   "cell_type": "code",
   "execution_count": 34,
   "id": "e1f1496e",
   "metadata": {
    "execution": {
     "iopub.execute_input": "2023-01-28T18:40:31.370498Z",
     "iopub.status.busy": "2023-01-28T18:40:31.370068Z",
     "iopub.status.idle": "2023-01-28T18:40:35.473461Z",
     "shell.execute_reply": "2023-01-28T18:40:35.472094Z"
    },
    "papermill": {
     "duration": 11.967307,
     "end_time": "2023-01-28T18:40:35.479863",
     "exception": false,
     "start_time": "2023-01-28T18:40:23.512556",
     "status": "completed"
    },
    "tags": []
   },
   "outputs": [
    {
     "name": "stderr",
     "output_type": "stream",
     "text": [
      "2023-01-28 18:40:31.774057: W tensorflow/python/util/util.cc:348] Sets are not currently considered sequences, but this may change in the future, so consider avoiding using them.\n"
     ]
    },
    {
     "name": "stdout",
     "output_type": "stream",
     "text": [
      "CPU times: user 2.81 s, sys: 1.26 s, total: 4.07 s\n",
      "Wall time: 4.08 s\n"
     ]
    }
   ],
   "source": [
    "%%time\n",
    "if description[\"Word2Vec_keras\"][\"actif\"]:\n",
    "    modelkerasPipeline.save(\"kerasWord2Vec\")"
   ]
  },
  {
   "cell_type": "markdown",
   "id": "5ba93b24",
   "metadata": {
    "papermill": {
     "duration": 7.969595,
     "end_time": "2023-01-28T18:40:51.800980",
     "exception": false,
     "start_time": "2023-01-28T18:40:43.831385",
     "status": "completed"
    },
    "tags": []
   },
   "source": [
    "## Word2Vec puis OvR SVC"
   ]
  },
  {
   "cell_type": "code",
   "execution_count": 35,
   "id": "9467064c",
   "metadata": {
    "execution": {
     "iopub.execute_input": "2023-01-28T18:41:08.726359Z",
     "iopub.status.busy": "2023-01-28T18:41:08.725951Z",
     "iopub.status.idle": "2023-01-28T18:41:08.768249Z",
     "shell.execute_reply": "2023-01-28T18:41:08.767050Z"
    },
    "papermill": {
     "duration": 8.220755,
     "end_time": "2023-01-28T18:41:08.770302",
     "exception": false,
     "start_time": "2023-01-28T18:41:00.549547",
     "status": "completed"
    },
    "tags": []
   },
   "outputs": [
    {
     "name": "stdout",
     "output_type": "stream",
     "text": [
      "CPU times: user 142 µs, sys: 0 ns, total: 142 µs\n",
      "Wall time: 147 µs\n"
     ]
    }
   ],
   "source": [
    "%%time\n",
    "pipeline_w2v = pipeline.Pipeline(\n",
    "    [\n",
    "        (\n",
    "            \"keras_embed_transformer\",\n",
    "            p5_nlp_utils.KerasEmbedTransformer().init(description[\"Word2Vec_OVR\"]),\n",
    "        ),\n",
    "        (\n",
    "            \"OVR_SVC\",\n",
    "            multiclass.OneVsRestClassifier(\n",
    "                svm.SVC(\n",
    "                    cache_size=1080,\n",
    "                    max_iter=description[\"Word2Vec_OVR\"][\"max_iter\"],\n",
    "                    random_state=42,\n",
    "                )\n",
    "            ),\n",
    "        ),\n",
    "    ]\n",
    ")\n",
    "\n",
    "if description[\"Word2Vec_OVR\"][\"actif\"]:\n",
    "    with ignore_warnings(category=exceptions.ConvergenceWarning):\n",
    "        pipeline_w2v.fit(X_train, y_train)\n",
    "#         pipeline_w2v.fit(X_train[0:10], y_train[0:10])"
   ]
  },
  {
   "cell_type": "code",
   "execution_count": 36,
   "id": "44e81792",
   "metadata": {
    "execution": {
     "iopub.execute_input": "2023-01-28T18:41:24.439566Z",
     "iopub.status.busy": "2023-01-28T18:41:24.439207Z",
     "iopub.status.idle": "2023-01-28T18:41:24.454398Z",
     "shell.execute_reply": "2023-01-28T18:41:24.453211Z"
    },
    "papermill": {
     "duration": 8.084648,
     "end_time": "2023-01-28T18:41:24.456636",
     "exception": false,
     "start_time": "2023-01-28T18:41:16.371988",
     "status": "completed"
    },
    "tags": []
   },
   "outputs": [
    {
     "name": "stdout",
     "output_type": "stream",
     "text": [
      "CPU times: user 5 µs, sys: 0 ns, total: 5 µs\n",
      "Wall time: 8.82 µs\n"
     ]
    }
   ],
   "source": [
    "%%time\n",
    "if description[\"Word2Vec_OVR\"][\"actif\"]:\n",
    "    pred_word2vec = pipeline_w2v.predict(X_test)\n",
    "    print(pred_word2vec)"
   ]
  },
  {
   "cell_type": "markdown",
   "id": "c64610f9",
   "metadata": {
    "papermill": {
     "duration": 8.151283,
     "end_time": "2023-01-28T18:41:41.210045",
     "exception": false,
     "start_time": "2023-01-28T18:41:33.058762",
     "status": "completed"
    },
    "tags": []
   },
   "source": [
    "### i got the same issue as:\n",
    "https://stackoverflow.com/questions/37984304/how-to-save-a-scikit-learn-pipline-with-keras-regressor-inside-to-disk  \n",
    "Solution is to save keras model in separate file than remove it from the pipeline so it can be save with joblib  \n",
    "I did that in my `KerasEmbedTransformer` class `save` & `load` method"
   ]
  },
  {
   "cell_type": "code",
   "execution_count": 37,
   "id": "16c063d1",
   "metadata": {
    "execution": {
     "iopub.execute_input": "2023-01-28T18:41:57.120142Z",
     "iopub.status.busy": "2023-01-28T18:41:57.119754Z",
     "iopub.status.idle": "2023-01-28T18:41:57.138772Z",
     "shell.execute_reply": "2023-01-28T18:41:57.137872Z"
    },
    "papermill": {
     "duration": 8.094433,
     "end_time": "2023-01-28T18:41:57.140762",
     "exception": false,
     "start_time": "2023-01-28T18:41:49.046329",
     "status": "completed"
    },
    "tags": []
   },
   "outputs": [],
   "source": [
    "if description[\"Word2Vec_OVR\"][\"actif\"]:\n",
    "    pipeline_w2v.named_steps[\"keras_embed_transformer\"].save(\"keras\")\n",
    "    # Otherwise i can save it but not load in api\n",
    "    #     pipeline_w2v.named_steps[\"keras_embed_transformer\"] = \"passthrough\"  # __module__\n",
    "    #     pipeline_w2v.named_steps[\"keras_embed_transformer\"].__module__ = None\n",
    "    ## i have issue loading the joblib in api so i try to delete the step from the pipeline\n",
    "    pipeline_w2v.steps.pop(0)\n",
    "    pipeline_w2v.steps.insert(0, (\"keras_embed_transformer\", \"passthrough\"))\n",
    "    print(pipeline_w2v)"
   ]
  },
  {
   "cell_type": "code",
   "execution_count": 38,
   "id": "56e66bbb",
   "metadata": {
    "execution": {
     "iopub.execute_input": "2023-01-28T18:42:13.903979Z",
     "iopub.status.busy": "2023-01-28T18:42:13.903613Z",
     "iopub.status.idle": "2023-01-28T18:42:13.924892Z",
     "shell.execute_reply": "2023-01-28T18:42:13.924039Z"
    },
    "papermill": {
     "duration": 8.265112,
     "end_time": "2023-01-28T18:42:13.927017",
     "exception": false,
     "start_time": "2023-01-28T18:42:05.661905",
     "status": "completed"
    },
    "tags": []
   },
   "outputs": [],
   "source": [
    "if description[\"Word2Vec_OVR\"][\"actif\"]:\n",
    "    scores_word2vec = p5_nlp_utils.Commun.save_score(\n",
    "        y_test, pred_word2vec, target_names, \"Word2Vec\"\n",
    "    )\n",
    "    joblib.dump(pipeline_w2v, \"Word2Vec_model.joblib\")\n",
    "    print(scores_word2vec.sort_values(by=\"f1-score\", ascending=False))"
   ]
  },
  {
   "cell_type": "markdown",
   "id": "0b993ae9",
   "metadata": {
    "papermill": {
     "duration": 8.011889,
     "end_time": "2023-01-28T18:42:29.874117",
     "exception": false,
     "start_time": "2023-01-28T18:42:21.862228",
     "status": "completed"
    },
    "tags": []
   },
   "source": [
    "### test to reimport saved model"
   ]
  },
  {
   "cell_type": "code",
   "execution_count": 39,
   "id": "ad3f0392",
   "metadata": {
    "execution": {
     "iopub.execute_input": "2023-01-28T18:42:46.327742Z",
     "iopub.status.busy": "2023-01-28T18:42:46.327380Z",
     "iopub.status.idle": "2023-01-28T18:42:46.348717Z",
     "shell.execute_reply": "2023-01-28T18:42:46.347813Z"
    },
    "papermill": {
     "duration": 8.025147,
     "end_time": "2023-01-28T18:42:46.350731",
     "exception": false,
     "start_time": "2023-01-28T18:42:38.325584",
     "status": "completed"
    },
    "tags": []
   },
   "outputs": [],
   "source": [
    "if description[\"Word2Vec_OVR\"][\"actif\"] and LONG:\n",
    "    loaded = joblib.load(\"/kaggle/working/Word2Vec_model.joblib\")\n",
    "    loaded.named_steps[\n",
    "        \"keras_embed_transformer\"\n",
    "    ] = p5_nlp_utils.KerasEmbedTransformer().load(\n",
    "        \"/kaggle/working/keras\", description[\"Word2Vec_OVR\"]\n",
    "    )\n",
    "    pred_word2vec == loaded.predict(X_test)"
   ]
  },
  {
   "cell_type": "markdown",
   "id": "1d3a4d05",
   "metadata": {
    "papermill": {
     "duration": 8.513827,
     "end_time": "2023-01-28T18:43:02.841588",
     "exception": false,
     "start_time": "2023-01-28T18:42:54.327761",
     "status": "completed"
    },
    "tags": []
   },
   "source": [
    "# BERT\n",
    "Bidirectional Encoder Representations from Transformers  \n",
    "[Article explication en français](https://www.quantmetry.com/glossaire/bert-nlp/)  \n",
    "[Exemple multi-classification](https://www.analyticsvidhya.com/blog/2020/10/simple-text-multi-classification-task-using-keras-bert)"
   ]
  },
  {
   "cell_type": "code",
   "execution_count": 40,
   "id": "fe4c5e1a",
   "metadata": {
    "execution": {
     "iopub.execute_input": "2023-01-28T18:43:18.951607Z",
     "iopub.status.busy": "2023-01-28T18:43:18.951243Z",
     "iopub.status.idle": "2023-01-28T18:43:18.956717Z",
     "shell.execute_reply": "2023-01-28T18:43:18.955758Z"
    },
    "papermill": {
     "duration": 8.025489,
     "end_time": "2023-01-28T18:43:18.958735",
     "exception": false,
     "start_time": "2023-01-28T18:43:10.933246",
     "status": "completed"
    },
    "tags": []
   },
   "outputs": [],
   "source": [
    "## check gpu\n",
    "# import torch\n",
    "# torch.cuda.is_available()"
   ]
  },
  {
   "cell_type": "code",
   "execution_count": 41,
   "id": "b91d76fd",
   "metadata": {
    "execution": {
     "iopub.execute_input": "2023-01-28T18:43:35.510766Z",
     "iopub.status.busy": "2023-01-28T18:43:35.510404Z",
     "iopub.status.idle": "2023-01-28T18:43:35.524118Z",
     "shell.execute_reply": "2023-01-28T18:43:35.523229Z"
    },
    "papermill": {
     "duration": 8.867726,
     "end_time": "2023-01-28T18:43:35.526168",
     "exception": false,
     "start_time": "2023-01-28T18:43:26.658442",
     "status": "completed"
    },
    "tags": []
   },
   "outputs": [],
   "source": [
    "if description[\"BERT\"][\"actif\"]:\n",
    "    print(description[\"BERT\"])\n",
    "    configuration = BertConfig()\n",
    "    print(configuration)"
   ]
  },
  {
   "cell_type": "code",
   "execution_count": 42,
   "id": "8cd256aa",
   "metadata": {
    "execution": {
     "iopub.execute_input": "2023-01-28T18:43:51.483108Z",
     "iopub.status.busy": "2023-01-28T18:43:51.482665Z",
     "iopub.status.idle": "2023-01-28T18:43:51.491570Z",
     "shell.execute_reply": "2023-01-28T18:43:51.490753Z"
    },
    "papermill": {
     "duration": 8.137645,
     "end_time": "2023-01-28T18:43:51.494016",
     "exception": false,
     "start_time": "2023-01-28T18:43:43.356371",
     "status": "completed"
    },
    "tags": []
   },
   "outputs": [],
   "source": [
    "# %%time\n",
    "# if description[\"BERT\"][\"actif\"]:\n",
    "#     tokenizer = p5_nlp_utils.Bert.get_tokenizer(\n",
    "#         model_max_length=description[\"BERT\"][\"max_length\"],\n",
    "#         save_path=\"bert_base_uncased/\",\n",
    "#     )"
   ]
  },
  {
   "cell_type": "code",
   "execution_count": 43,
   "id": "8ca0c814",
   "metadata": {
    "execution": {
     "iopub.execute_input": "2023-01-28T18:44:08.065278Z",
     "iopub.status.busy": "2023-01-28T18:44:08.064909Z",
     "iopub.status.idle": "2023-01-28T18:44:08.084811Z",
     "shell.execute_reply": "2023-01-28T18:44:08.083824Z"
    },
    "papermill": {
     "duration": 8.778274,
     "end_time": "2023-01-28T18:44:08.086869",
     "exception": false,
     "start_time": "2023-01-28T18:43:59.308595",
     "status": "completed"
    },
    "tags": []
   },
   "outputs": [
    {
     "name": "stdout",
     "output_type": "stream",
     "text": [
      "CPU times: user 4 µs, sys: 0 ns, total: 4 µs\n",
      "Wall time: 9.3 µs\n"
     ]
    }
   ],
   "source": [
    "%%time\n",
    "if description[\"BERT\"][\"actif\"]:\n",
    "    X_train_bert = p5_nlp_utils.Bert.create_bert_inputs(\n",
    "        X_train.values, max_len=description[\"BERT\"][\"max_length\"]\n",
    "    )\n",
    "    print(\"Shape input BERT tupple 3*\", X_train_bert[0].shape)"
   ]
  },
  {
   "cell_type": "code",
   "execution_count": 44,
   "id": "0b4063b5",
   "metadata": {
    "execution": {
     "iopub.execute_input": "2023-01-28T18:44:23.976083Z",
     "iopub.status.busy": "2023-01-28T18:44:23.975701Z",
     "iopub.status.idle": "2023-01-28T18:44:23.996896Z",
     "shell.execute_reply": "2023-01-28T18:44:23.995581Z"
    },
    "papermill": {
     "duration": 7.864982,
     "end_time": "2023-01-28T18:44:23.998914",
     "exception": false,
     "start_time": "2023-01-28T18:44:16.133932",
     "status": "completed"
    },
    "tags": []
   },
   "outputs": [
    {
     "name": "stdout",
     "output_type": "stream",
     "text": [
      "CPU times: user 4 µs, sys: 0 ns, total: 4 µs\n",
      "Wall time: 8.58 µs\n"
     ]
    }
   ],
   "source": [
    "%%time\n",
    "if description[\"BERT\"][\"actif\"]:\n",
    "    #     bert_model = p5_nlp_utils.Bert.create_bert_model(\n",
    "    #         params=description[\"BERT\"], target_names=target_names\n",
    "    #     )\n",
    "    bert_model = p5_nlp_utils.Bert.build_bert_model(\n",
    "        max_len=description[\"BERT\"][\"max_length\"], target_names=target_names\n",
    "    )\n",
    "    print(bert_model.summary())"
   ]
  },
  {
   "cell_type": "code",
   "execution_count": 45,
   "id": "b61e140f",
   "metadata": {
    "execution": {
     "iopub.execute_input": "2023-01-28T18:44:40.778590Z",
     "iopub.status.busy": "2023-01-28T18:44:40.778226Z",
     "iopub.status.idle": "2023-01-28T18:44:40.798568Z",
     "shell.execute_reply": "2023-01-28T18:44:40.797665Z"
    },
    "papermill": {
     "duration": 8.774497,
     "end_time": "2023-01-28T18:44:40.800670",
     "exception": false,
     "start_time": "2023-01-28T18:44:32.026173",
     "status": "completed"
    },
    "tags": []
   },
   "outputs": [
    {
     "name": "stdout",
     "output_type": "stream",
     "text": [
      "CPU times: user 4 µs, sys: 0 ns, total: 4 µs\n",
      "Wall time: 8.34 µs\n"
     ]
    }
   ],
   "source": [
    "%%time\n",
    "if description[\"BERT\"][\"actif\"]:\n",
    "    bert_model.fit(\n",
    "        #         np.array(\n",
    "        #             [create_bert_input_target(x, description[\"BERT\"]) for x in X_train.values]\n",
    "        #         ),\n",
    "        X_train_bert,\n",
    "        y_train,\n",
    "        epochs=description[\"BERT\"][\"epochs\"],\n",
    "        verbose=3,\n",
    "    )"
   ]
  },
  {
   "cell_type": "code",
   "execution_count": 46,
   "id": "8d9adaad",
   "metadata": {
    "execution": {
     "iopub.execute_input": "2023-01-28T18:44:56.570725Z",
     "iopub.status.busy": "2023-01-28T18:44:56.570370Z",
     "iopub.status.idle": "2023-01-28T18:44:56.613117Z",
     "shell.execute_reply": "2023-01-28T18:44:56.611834Z"
    },
    "papermill": {
     "duration": 7.955886,
     "end_time": "2023-01-28T18:44:56.615417",
     "exception": false,
     "start_time": "2023-01-28T18:44:48.659531",
     "status": "completed"
    },
    "tags": []
   },
   "outputs": [
    {
     "name": "stdout",
     "output_type": "stream",
     "text": [
      "CPU times: user 5 µs, sys: 0 ns, total: 5 µs\n",
      "Wall time: 8.82 µs\n"
     ]
    }
   ],
   "source": [
    "%%time\n",
    "if description[\"BERT\"][\"actif\"]:\n",
    "    bert_model.save(\"BERT\")\n",
    "    #     pred_bert_proba = bert_model.predict(\n",
    "    #         np.array(\n",
    "    #             [create_bert_input_target(x, description[\"BERT\"]) for x in X_test.values]\n",
    "    #         )\n",
    "    #     )\n",
    "    pred_bert_proba = bert_model.predict(\n",
    "        p5_nlp_utils.Bert.create_bert_inputs(\n",
    "            X_test.values, max_len=description[\"BERT\"][\"max_length\"]\n",
    "        )\n",
    "    )\n",
    "    print(pred_bert_proba)\n",
    "    best, f1_score_avg = p5_nlp_utils.Commun.find_best_limit(\n",
    "        pred_bert_proba, y_test, target_names\n",
    "    )\n",
    "    pred_bert = p5_nlp_utils.Commun.convert_pred_to_bool(pred_bert_proba, limit=best)\n",
    "    #     print(pred_bert.value_counts())\n",
    "    scores_bert = p5_nlp_utils.Commun.save_score(\n",
    "        y_test,\n",
    "        pred_bert,\n",
    "        target_names,\n",
    "        None,\n",
    "    )\n",
    "    print(scores_bert.sort_values(by=\"f1-score\", ascending=False))"
   ]
  },
  {
   "cell_type": "markdown",
   "id": "a8b2ce18",
   "metadata": {
    "papermill": {
     "duration": 8.645533,
     "end_time": "2023-01-28T18:45:13.211942",
     "exception": false,
     "start_time": "2023-01-28T18:45:04.566409",
     "status": "completed"
    },
    "tags": []
   },
   "source": [
    "Test avec limit/seuil différent par tag"
   ]
  },
  {
   "cell_type": "code",
   "execution_count": 47,
   "id": "f327709f",
   "metadata": {
    "execution": {
     "iopub.execute_input": "2023-01-28T18:45:29.017236Z",
     "iopub.status.busy": "2023-01-28T18:45:29.016869Z",
     "iopub.status.idle": "2023-01-28T18:45:29.061530Z",
     "shell.execute_reply": "2023-01-28T18:45:29.060373Z"
    },
    "papermill": {
     "duration": 7.917258,
     "end_time": "2023-01-28T18:45:29.063652",
     "exception": false,
     "start_time": "2023-01-28T18:45:21.146394",
     "status": "completed"
    },
    "tags": []
   },
   "outputs": [
    {
     "name": "stdout",
     "output_type": "stream",
     "text": [
      "CPU times: user 5 µs, sys: 0 ns, total: 5 µs\n",
      "Wall time: 8.82 µs\n"
     ]
    }
   ],
   "source": [
    "%%time\n",
    "if description[\"BERT\"][\"actif\"]:\n",
    "    best_limits_bert = p5_nlp_utils.Commun.find_best_limit_by_tags(\n",
    "        pred_bert_proba, y_test, target_names, limits=np.linspace(0, 1, 101)\n",
    "    )\n",
    "    with open(\"/kaggle/working/best_limits_bert.json\", \"w\") as outfile:\n",
    "        json.dump(best_limits_bert, outfile)\n",
    "    pred_bert_2 = p5_nlp_utils.Commun.convert_pred_to_bool_by_tags(pred_bert_proba, {k: v[0] for k, v in best_limits_bert.items()})\n",
    "    scores_bert_2 = p5_nlp_utils.Commun.save_score(\n",
    "        y_true=y_test,\n",
    "        y_pred=pred_bert_2,\n",
    "        target_names=target_names,\n",
    "        name=\"BERT\",\n",
    "    )\n",
    "    print(\"Sur le jeu test avec limit par tag:\")\n",
    "    print(scores_bert_2.sort_values(by=\"f1-score\", ascending=False))"
   ]
  },
  {
   "cell_type": "code",
   "execution_count": 48,
   "id": "c0ae0bf6",
   "metadata": {
    "execution": {
     "iopub.execute_input": "2023-01-28T18:45:45.648450Z",
     "iopub.status.busy": "2023-01-28T18:45:45.648043Z",
     "iopub.status.idle": "2023-01-28T18:45:45.653981Z",
     "shell.execute_reply": "2023-01-28T18:45:45.653058Z"
    },
    "papermill": {
     "duration": 8.474954,
     "end_time": "2023-01-28T18:45:45.656024",
     "exception": false,
     "start_time": "2023-01-28T18:45:37.181070",
     "status": "completed"
    },
    "tags": []
   },
   "outputs": [],
   "source": [
    "# # detect and init the TPU\n",
    "# tpu = tf.distribute.cluster_resolver.TPUClusterResolver.connect()\n",
    "\n",
    "# # instantiate a distribution strategy\n",
    "# tpu_strategy = tf.distribute.experimental.TPUStrategy(tpu)\n",
    "# with tpu_strategy.scope():\n",
    "# ..."
   ]
  },
  {
   "cell_type": "code",
   "execution_count": 49,
   "id": "accb2145",
   "metadata": {
    "execution": {
     "iopub.execute_input": "2023-01-28T18:46:01.775657Z",
     "iopub.status.busy": "2023-01-28T18:46:01.775268Z",
     "iopub.status.idle": "2023-01-28T18:46:01.780805Z",
     "shell.execute_reply": "2023-01-28T18:46:01.779787Z"
    },
    "papermill": {
     "duration": 7.88765,
     "end_time": "2023-01-28T18:46:01.782839",
     "exception": false,
     "start_time": "2023-01-28T18:45:53.895189",
     "status": "completed"
    },
    "tags": []
   },
   "outputs": [],
   "source": [
    "# %%time\n",
    "# model = BertTransformer(list(X_train[0:5]), params=description[\"BERT\"])\n",
    "# model"
   ]
  },
  {
   "cell_type": "code",
   "execution_count": 50,
   "id": "7447aa34",
   "metadata": {
    "execution": {
     "iopub.execute_input": "2023-01-28T18:46:18.407906Z",
     "iopub.status.busy": "2023-01-28T18:46:18.407532Z",
     "iopub.status.idle": "2023-01-28T18:46:18.413329Z",
     "shell.execute_reply": "2023-01-28T18:46:18.412355Z"
    },
    "papermill": {
     "duration": 8.493604,
     "end_time": "2023-01-28T18:46:18.415338",
     "exception": false,
     "start_time": "2023-01-28T18:46:09.921734",
     "status": "completed"
    },
    "tags": []
   },
   "outputs": [],
   "source": [
    "# %%time\n",
    "# model = BertTransformer(list(X_train[0:50_000]), params=description[\"BERT\"])\n",
    "# # model = BertTransformer(list(X_train), params=description[\"BERT\"])\n",
    "# model\n",
    "# # model.mean(axis=1)"
   ]
  },
  {
   "cell_type": "markdown",
   "id": "60d3b77e",
   "metadata": {
    "papermill": {
     "duration": 7.776877,
     "end_time": "2023-01-28T18:46:34.279193",
     "exception": false,
     "start_time": "2023-01-28T18:46:26.502316",
     "status": "completed"
    },
    "tags": []
   },
   "source": [
    "# USE"
   ]
  },
  {
   "cell_type": "code",
   "execution_count": 51,
   "id": "ed2d8a0c",
   "metadata": {
    "execution": {
     "iopub.execute_input": "2023-01-28T18:46:50.986023Z",
     "iopub.status.busy": "2023-01-28T18:46:50.985642Z",
     "iopub.status.idle": "2023-01-28T18:46:51.003749Z",
     "shell.execute_reply": "2023-01-28T18:46:51.002735Z"
    },
    "papermill": {
     "duration": 8.633952,
     "end_time": "2023-01-28T18:46:51.005976",
     "exception": false,
     "start_time": "2023-01-28T18:46:42.372024",
     "status": "completed"
    },
    "tags": []
   },
   "outputs": [
    {
     "name": "stdout",
     "output_type": "stream",
     "text": [
      "CPU times: user 4 µs, sys: 1e+03 ns, total: 5 µs\n",
      "Wall time: 8.34 µs\n"
     ]
    }
   ],
   "source": [
    "%%time\n",
    "if description[\"USE\"][\"actif\"]:\n",
    "    embed = hub.load(\"https://tfhub.dev/google/universal-sentence-encoder/4\")\n",
    "    X_train_use = embed(X_train.values)\n",
    "    print(X_train_use.numpy().shape)"
   ]
  },
  {
   "cell_type": "code",
   "execution_count": 52,
   "id": "34b98f85",
   "metadata": {
    "execution": {
     "iopub.execute_input": "2023-01-28T18:47:06.875122Z",
     "iopub.status.busy": "2023-01-28T18:47:06.874741Z",
     "iopub.status.idle": "2023-01-28T18:47:06.923187Z",
     "shell.execute_reply": "2023-01-28T18:47:06.920421Z"
    },
    "papermill": {
     "duration": 7.80985,
     "end_time": "2023-01-28T18:47:06.926317",
     "exception": false,
     "start_time": "2023-01-28T18:46:59.116467",
     "status": "completed"
    },
    "tags": []
   },
   "outputs": [
    {
     "name": "stdout",
     "output_type": "stream",
     "text": [
      "CPU times: user 4 µs, sys: 0 ns, total: 4 µs\n",
      "Wall time: 8.58 µs\n"
     ]
    }
   ],
   "source": [
    "%%time\n",
    "if description[\"USE\"][\"actif\"]:\n",
    "    USEkerasPipeline = tf.keras.models.Sequential(\n",
    "        [\n",
    "            tf.keras.Input(shape=(512,)),  # tensor=X_train_use),\n",
    "            tf.keras.layers.Dense(128, activation=\"relu\"),\n",
    "            tf.keras.layers.Dense(len(target_names), activation=\"sigmoid\"),\n",
    "        ]\n",
    "    )\n",
    "    USEkerasPipeline.compile(\n",
    "        optimizer=\"adam\",\n",
    "        loss=tf.keras.losses.BinaryCrossentropy(),\n",
    "        metrics=[\"accuracy\"],\n",
    "    )\n",
    "    USEkerasPipeline.fit(\n",
    "        X_train_use.numpy(),\n",
    "        y_train,\n",
    "        epochs=description[\"USE\"][\"epochs\"],\n",
    "        verbose=3,\n",
    "    )"
   ]
  },
  {
   "cell_type": "code",
   "execution_count": 53,
   "id": "56b053e4",
   "metadata": {
    "execution": {
     "iopub.execute_input": "2023-01-28T18:47:23.537737Z",
     "iopub.status.busy": "2023-01-28T18:47:23.536848Z",
     "iopub.status.idle": "2023-01-28T18:47:23.578972Z",
     "shell.execute_reply": "2023-01-28T18:47:23.577915Z"
    },
    "papermill": {
     "duration": 8.542301,
     "end_time": "2023-01-28T18:47:23.580928",
     "exception": false,
     "start_time": "2023-01-28T18:47:15.038627",
     "status": "completed"
    },
    "tags": []
   },
   "outputs": [
    {
     "name": "stdout",
     "output_type": "stream",
     "text": [
      "CPU times: user 5 µs, sys: 0 ns, total: 5 µs\n",
      "Wall time: 8.82 µs\n"
     ]
    }
   ],
   "source": [
    "%%time\n",
    "if description[\"USE\"][\"actif\"]:\n",
    "    X_pred_test_use = USEkerasPipeline.predict(embed(X_test.values))\n",
    "    #     print(X_pred_test_use)\n",
    "    best, f1_score_avg = p5_nlp_utils.Commun.find_best_limit(\n",
    "        X_pred_test_use, y_test, target_names, limits=np.linspace(0, 1, 101)\n",
    "    )\n",
    "    pred_use_bool = p5_nlp_utils.Commun.convert_pred_to_bool(\n",
    "        X_pred_test_use, limit=best\n",
    "    )\n",
    "    use_pred_test_score = p5_nlp_utils.Commun.save_score(\n",
    "        y_true=y_test,\n",
    "        y_pred=pred_use_bool,\n",
    "        target_names=target_names,\n",
    "        name=None,\n",
    "    )\n",
    "    print(\"Sur le jeu test:\")\n",
    "    print(use_pred_test_score.sort_values(by=\"f1-score\", ascending=False))\n",
    "    USEkerasPipeline.save(\"kerasUSE\")"
   ]
  },
  {
   "cell_type": "markdown",
   "id": "d1705a06",
   "metadata": {
    "papermill": {
     "duration": 7.863704,
     "end_time": "2023-01-28T18:47:39.453769",
     "exception": false,
     "start_time": "2023-01-28T18:47:31.590065",
     "status": "completed"
    },
    "tags": []
   },
   "source": [
    "La limite optimal peut etre différente en fonction des tags:"
   ]
  },
  {
   "cell_type": "code",
   "execution_count": 54,
   "id": "2f5396f9",
   "metadata": {
    "execution": {
     "iopub.execute_input": "2023-01-28T18:47:55.941941Z",
     "iopub.status.busy": "2023-01-28T18:47:55.941587Z",
     "iopub.status.idle": "2023-01-28T18:47:55.997911Z",
     "shell.execute_reply": "2023-01-28T18:47:55.996594Z"
    },
    "papermill": {
     "duration": 8.126586,
     "end_time": "2023-01-28T18:47:56.001020",
     "exception": false,
     "start_time": "2023-01-28T18:47:47.874434",
     "status": "completed"
    },
    "tags": []
   },
   "outputs": [
    {
     "name": "stdout",
     "output_type": "stream",
     "text": [
      "CPU times: user 7 µs, sys: 1e+03 ns, total: 8 µs\n",
      "Wall time: 12.2 µs\n"
     ]
    }
   ],
   "source": [
    "%%time\n",
    "if description[\"USE\"][\"actif\"]:\n",
    "    best_limits_use = p5_nlp_utils.Commun.find_best_limit_by_tags(\n",
    "        X_pred_test_use, y_test, target_names, limits=np.linspace(0, 1, 101)\n",
    "    )\n",
    "#     print(best_limits_use)\n",
    "    with open(\"/kaggle/working/best_limits_use.json\", \"w\") as outfile:\n",
    "        json.dump(best_limits_use, outfile)\n",
    "        \n",
    "    pred_use_bool_2 = p5_nlp_utils.Commun.convert_pred_to_bool_by_tags(X_pred_test_use, {k: v[0] for k, v in best_limits_use.items()})\n",
    "    use_pred_test_score_2 = p5_nlp_utils.Commun.save_score(\n",
    "        y_true=y_test,\n",
    "        y_pred=pred_use_bool_2,\n",
    "        target_names=target_names,\n",
    "        name=\"kerasUSE\",\n",
    "    )\n",
    "    print(\"Sur le jeu test avec limit par tag:\")\n",
    "    print(use_pred_test_score_2.sort_values(by=\"f1-score\", ascending=False))"
   ]
  },
  {
   "cell_type": "code",
   "execution_count": 55,
   "id": "12878f50",
   "metadata": {
    "execution": {
     "iopub.execute_input": "2023-01-28T18:48:12.043506Z",
     "iopub.status.busy": "2023-01-28T18:48:12.043146Z",
     "iopub.status.idle": "2023-01-28T18:48:12.049688Z",
     "shell.execute_reply": "2023-01-28T18:48:12.048790Z"
    },
    "papermill": {
     "duration": 8.231546,
     "end_time": "2023-01-28T18:48:12.051698",
     "exception": false,
     "start_time": "2023-01-28T18:48:03.820152",
     "status": "completed"
    },
    "tags": []
   },
   "outputs": [],
   "source": [
    "# f1_scores = pd.DataFrame(\n",
    "#     [\n",
    "#         p5_nlp_utils.Commun.save_score(\n",
    "#             y_true=y_test,\n",
    "#             y_pred=p5_nlp_utils.Commun.convert_pred_to_bool(\n",
    "#                 X_pred_test_use, limit=limit\n",
    "#             ),\n",
    "#             target_names=target_names,\n",
    "#             name=None,\n",
    "#         ).loc[target_names, \"f1-score\"]\n",
    "#         for limit in np.linspace(0, 1, 101)\n",
    "#     ],\n",
    "#     index=np.linspace(0, 1, 101),\n",
    "# )"
   ]
  },
  {
   "cell_type": "code",
   "execution_count": 56,
   "id": "d4972e82",
   "metadata": {
    "execution": {
     "iopub.execute_input": "2023-01-28T18:48:28.686926Z",
     "iopub.status.busy": "2023-01-28T18:48:28.686569Z",
     "iopub.status.idle": "2023-01-28T18:48:28.722889Z",
     "shell.execute_reply": "2023-01-28T18:48:28.722029Z"
    },
    "papermill": {
     "duration": 8.1077,
     "end_time": "2023-01-28T18:48:28.725071",
     "exception": false,
     "start_time": "2023-01-28T18:48:20.617371",
     "status": "completed"
    },
    "tags": []
   },
   "outputs": [],
   "source": [
    "if description[\"USE\"][\"actif\"] and description[\"USE\"][\"tsne_visu\"]:\n",
    "    use_pred_train = USEkerasPipeline.predict(X_train_use)\n",
    "    use_pred_train_bool = p5_nlp_utils.Commun.convert_pred_to_bool_by_tags(use_pred_train, {k: v[0] for k, v in best_limits_use.items()})\n",
    "    use_pred_train_score = p5_nlp_utils.Commun.save_score(\n",
    "        y_true=y_train, y_pred=use_pred_train_bool, target_names=target_names, name=None\n",
    "    )\n",
    "    print(\"Sur le jeu d'entrainement:\")\n",
    "    print(use_pred_train_score.sort_values(by=\"f1-score\", ascending=False))"
   ]
  },
  {
   "cell_type": "code",
   "execution_count": 57,
   "id": "080a6bf6",
   "metadata": {
    "execution": {
     "iopub.execute_input": "2023-01-28T18:48:44.693120Z",
     "iopub.status.busy": "2023-01-28T18:48:44.692748Z",
     "iopub.status.idle": "2023-01-28T18:48:44.743429Z",
     "shell.execute_reply": "2023-01-28T18:48:44.742348Z"
    },
    "papermill": {
     "duration": 8.163928,
     "end_time": "2023-01-28T18:48:44.745567",
     "exception": false,
     "start_time": "2023-01-28T18:48:36.581639",
     "status": "completed"
    },
    "tags": []
   },
   "outputs": [
    {
     "name": "stdout",
     "output_type": "stream",
     "text": [
      "CPU times: user 5 µs, sys: 0 ns, total: 5 µs\n",
      "Wall time: 9.3 µs\n"
     ]
    }
   ],
   "source": [
    "%%time\n",
    "if description[\"USE\"][\"actif\"] and description[\"USE\"][\"tsne_visu\"]:\n",
    "    X_train_use_tsne = p5_nlp_utils.Commun.calcul_tsne(X_train_use)\n",
    "    print(\"Tag Réél:\")\n",
    "    p5_nlp_utils.Commun.visu_tsne(\n",
    "        X_tsne=X_train_use_tsne,\n",
    "        y_train_monodim=y_train_monodim,\n",
    "        y_train=y_train,\n",
    "        target_names=target_names,\n",
    "        tag_list=[\n",
    "            \"java\",\n",
    "            \"c#\",\n",
    "            \"python\",\n",
    "            \"android\",\n",
    "            \"php\",\n",
    "            \".net\",\n",
    "            \"mysql\",\n",
    "            \"sql\",\n",
    "            \"javascript\",\n",
    "            \"jquery\",\n",
    "            \"html\",\n",
    "            \"node.js\",\n",
    "            \"css\",\n",
    "            \"c\",\n",
    "            \"mysql\",\n",
    "            \"linux\",\n",
    "            \"git\",\n",
    "        ],\n",
    "    )\n",
    "    print(\"Tag prédit:\")\n",
    "    p5_nlp_utils.Commun.visu_tsne(\n",
    "        X_tsne=X_train_use_tsne,\n",
    "        y_train_monodim=y_train_monodim,\n",
    "        y_train=use_pred_train_bool,\n",
    "        target_names=target_names,\n",
    "        tag_list=[\n",
    "            \"python\",\n",
    "            \"java\",\n",
    "            \"git\",\n",
    "            \"android\",\n",
    "            \"javascript\",\n",
    "            \"css\"\n",
    "        ],\n",
    "        maxcols=3,\n",
    "    )"
   ]
  },
  {
   "cell_type": "markdown",
   "id": "20a84359",
   "metadata": {
    "papermill": {
     "duration": 8.136255,
     "end_time": "2023-01-28T18:49:01.519389",
     "exception": false,
     "start_time": "2023-01-28T18:48:53.383134",
     "status": "completed"
    },
    "tags": []
   },
   "source": [
    "# LDA "
   ]
  },
  {
   "cell_type": "code",
   "execution_count": 58,
   "id": "f9ccdcbc",
   "metadata": {
    "execution": {
     "iopub.execute_input": "2023-01-28T18:49:17.378893Z",
     "iopub.status.busy": "2023-01-28T18:49:17.378531Z",
     "iopub.status.idle": "2023-01-28T18:49:17.383640Z",
     "shell.execute_reply": "2023-01-28T18:49:17.382647Z"
    },
    "papermill": {
     "duration": 8.063763,
     "end_time": "2023-01-28T18:49:17.385632",
     "exception": false,
     "start_time": "2023-01-28T18:49:09.321869",
     "status": "completed"
    },
    "tags": []
   },
   "outputs": [],
   "source": [
    "# import importlib\n",
    "\n",
    "# importlib.reload(p5_nlp_utils)"
   ]
  },
  {
   "cell_type": "code",
   "execution_count": 59,
   "id": "e956bf74",
   "metadata": {
    "execution": {
     "iopub.execute_input": "2023-01-28T18:49:33.805837Z",
     "iopub.status.busy": "2023-01-28T18:49:33.805483Z",
     "iopub.status.idle": "2023-01-28T18:49:33.811314Z",
     "shell.execute_reply": "2023-01-28T18:49:33.810321Z"
    },
    "papermill": {
     "duration": 8.04387,
     "end_time": "2023-01-28T18:49:33.813446",
     "exception": false,
     "start_time": "2023-01-28T18:49:25.769576",
     "status": "completed"
    },
    "tags": []
   },
   "outputs": [],
   "source": [
    "import warnings"
   ]
  },
  {
   "cell_type": "code",
   "execution_count": 60,
   "id": "c219cab0",
   "metadata": {
    "execution": {
     "iopub.execute_input": "2023-01-28T18:49:49.885680Z",
     "iopub.status.busy": "2023-01-28T18:49:49.885327Z",
     "iopub.status.idle": "2023-01-28T18:49:49.942587Z",
     "shell.execute_reply": "2023-01-28T18:49:49.941398Z"
    },
    "papermill": {
     "duration": 8.207104,
     "end_time": "2023-01-28T18:49:49.944717",
     "exception": false,
     "start_time": "2023-01-28T18:49:41.737613",
     "status": "completed"
    },
    "tags": []
   },
   "outputs": [
    {
     "name": "stdout",
     "output_type": "stream",
     "text": [
      "CPU times: user 6 µs, sys: 0 ns, total: 6 µs\n",
      "Wall time: 9.06 µs\n"
     ]
    }
   ],
   "source": [
    "%%time\n",
    "lda_models = {}\n",
    "if description[\"LDA\"][\"actif\"]:\n",
    "    print(description[\"LDA\"])\n",
    "    X_train_tokens = X_train.str.split()\n",
    "    nb_num_topics = len(description[\"LDA\"][\"num_topics\"])\n",
    "    warnings.filterwarnings(\"ignore\", category=DeprecationWarning)\n",
    "    for indice, num_topics in enumerate(description[\"LDA\"][\"num_topics\"]):\n",
    "        print(f\"Début {num_topics}topics ({indice+1}/{nb_num_topics})\")\n",
    "        lda_model = p5_nlp_utils.LDA(\n",
    "            tokens=X_train_tokens,\n",
    "            num_topics=num_topics,\n",
    "            no_below=description[\"LDA\"][\"lda__no_below\"],\n",
    "            no_above=description[\"LDA\"][\"lda__no_above\"],\n",
    "            max_tokens=description[\"LDA\"][\"lda__max_tokens\"],\n",
    "            iterations=description[\"LDA\"][\"lda__iterations\"],\n",
    "        )\n",
    "        print(f\"Nommage des topis\")\n",
    "        lda_model.name_topics(target_names)\n",
    "        # print(lda_model.topics_names)\n",
    "        lda_model.word_cloud_by_topics(\n",
    "            nb_words=description[\"LDA\"][\"word_cloud__nb_words\"]\n",
    "        )\n",
    "        lda_models[indice] = lda_model.prepare_display()"
   ]
  },
  {
   "cell_type": "markdown",
   "id": "d8cd5ffc",
   "metadata": {
    "papermill": {
     "duration": 7.980609,
     "end_time": "2023-01-28T18:50:06.575953",
     "exception": false,
     "start_time": "2023-01-28T18:49:58.595344",
     "status": "completed"
    },
    "tags": []
   },
   "source": [
    "### Affichage des topics avec pyLDAvis:"
   ]
  },
  {
   "cell_type": "code",
   "execution_count": 61,
   "id": "600d9b6a",
   "metadata": {
    "execution": {
     "iopub.execute_input": "2023-01-28T18:50:22.538953Z",
     "iopub.status.busy": "2023-01-28T18:50:22.538602Z",
     "iopub.status.idle": "2023-01-28T18:50:22.550504Z",
     "shell.execute_reply": "2023-01-28T18:50:22.549599Z"
    },
    "papermill": {
     "duration": 8.065776,
     "end_time": "2023-01-28T18:50:22.552494",
     "exception": false,
     "start_time": "2023-01-28T18:50:14.486718",
     "status": "completed"
    },
    "tags": []
   },
   "outputs": [],
   "source": [
    "pyLDAvis.display(lda_models[0].display_data) if lda_models and lda_models.get(\n",
    "    0, False\n",
    ") else None"
   ]
  },
  {
   "cell_type": "code",
   "execution_count": 62,
   "id": "53b5059d",
   "metadata": {
    "execution": {
     "iopub.execute_input": "2023-01-28T18:50:39.078717Z",
     "iopub.status.busy": "2023-01-28T18:50:39.077871Z",
     "iopub.status.idle": "2023-01-28T18:50:39.091044Z",
     "shell.execute_reply": "2023-01-28T18:50:39.090088Z"
    },
    "papermill": {
     "duration": 8.064969,
     "end_time": "2023-01-28T18:50:39.093126",
     "exception": false,
     "start_time": "2023-01-28T18:50:31.028157",
     "status": "completed"
    },
    "tags": []
   },
   "outputs": [],
   "source": [
    "pyLDAvis.display(lda_models[1].display_data) if lda_models and lda_models.get(\n",
    "    1, False\n",
    ") else None"
   ]
  },
  {
   "cell_type": "code",
   "execution_count": 63,
   "id": "6cf08e82",
   "metadata": {
    "execution": {
     "iopub.execute_input": "2023-01-28T18:50:54.953728Z",
     "iopub.status.busy": "2023-01-28T18:50:54.953374Z",
     "iopub.status.idle": "2023-01-28T18:50:54.965040Z",
     "shell.execute_reply": "2023-01-28T18:50:54.964037Z"
    },
    "papermill": {
     "duration": 7.995428,
     "end_time": "2023-01-28T18:50:54.967050",
     "exception": false,
     "start_time": "2023-01-28T18:50:46.971622",
     "status": "completed"
    },
    "tags": []
   },
   "outputs": [],
   "source": [
    "pyLDAvis.display(lda_models[2].display_data) if lda_models and lda_models.get(\n",
    "    2, False\n",
    ") else None"
   ]
  },
  {
   "cell_type": "code",
   "execution_count": 64,
   "id": "d8cfb25a",
   "metadata": {
    "execution": {
     "iopub.execute_input": "2023-01-28T18:51:11.450406Z",
     "iopub.status.busy": "2023-01-28T18:51:11.449974Z",
     "iopub.status.idle": "2023-01-28T18:51:11.455853Z",
     "shell.execute_reply": "2023-01-28T18:51:11.454938Z"
    },
    "papermill": {
     "duration": 7.997841,
     "end_time": "2023-01-28T18:51:11.458675",
     "exception": false,
     "start_time": "2023-01-28T18:51:03.460834",
     "status": "completed"
    },
    "tags": []
   },
   "outputs": [],
   "source": [
    "# pyLDAvis.prepared_data_to_html(lda_models[0].display_data)"
   ]
  },
  {
   "cell_type": "code",
   "execution_count": 65,
   "id": "b94c5f68",
   "metadata": {
    "execution": {
     "iopub.execute_input": "2023-01-28T18:51:27.458220Z",
     "iopub.status.busy": "2023-01-28T18:51:27.457854Z",
     "iopub.status.idle": "2023-01-28T18:51:27.483981Z",
     "shell.execute_reply": "2023-01-28T18:51:27.482725Z"
    },
    "papermill": {
     "duration": 8.051794,
     "end_time": "2023-01-28T18:51:27.485903",
     "exception": false,
     "start_time": "2023-01-28T18:51:19.434109",
     "status": "completed"
    },
    "tags": []
   },
   "outputs": [
    {
     "name": "stdout",
     "output_type": "stream",
     "text": [
      "CPU times: user 4 µs, sys: 1e+03 ns, total: 5 µs\n",
      "Wall time: 8.11 µs\n"
     ]
    }
   ],
   "source": [
    "%%time\n",
    "if description[\"LDA\"][\"actif\"]:\n",
    "    lda_model = lda_models[list(lda_models.keys())[-1]]  # last\n",
    "    pred_lda = lda_model.predict(X_test.str.split())\n",
    "    print(\"Exemple prediction\", pred_lda[0])\n",
    "    pred_lda_bool = p5_nlp_utils.LDA.convert_pred(pred_lda, target_names)\n",
    "    print(pred_lda_bool.head(1))"
   ]
  },
  {
   "cell_type": "code",
   "execution_count": 66,
   "id": "33ab2318",
   "metadata": {
    "execution": {
     "iopub.execute_input": "2023-01-28T18:51:43.838831Z",
     "iopub.status.busy": "2023-01-28T18:51:43.838484Z",
     "iopub.status.idle": "2023-01-28T18:51:43.864388Z",
     "shell.execute_reply": "2023-01-28T18:51:43.863380Z"
    },
    "papermill": {
     "duration": 7.825369,
     "end_time": "2023-01-28T18:51:43.866669",
     "exception": false,
     "start_time": "2023-01-28T18:51:36.041300",
     "status": "completed"
    },
    "tags": []
   },
   "outputs": [
    {
     "name": "stdout",
     "output_type": "stream",
     "text": [
      "CPU times: user 4 µs, sys: 0 ns, total: 4 µs\n",
      "Wall time: 8.34 µs\n"
     ]
    }
   ],
   "source": [
    "%%time\n",
    "if description[\"LDA\"][\"actif\"]:\n",
    "    lda_pred_test_score = p5_nlp_utils.Commun.save_score(\n",
    "        y_true=y_test,\n",
    "        y_pred=pred_lda_bool,\n",
    "        target_names=target_names,\n",
    "        name=\"LDA\",\n",
    "    )\n",
    "    print(\"Sur le jeu test:\")\n",
    "    print(lda_pred_test_score.sort_values(by=\"f1-score\", ascending=False))\n",
    "    lda_model.model.save(\"LDA\")"
   ]
  },
  {
   "cell_type": "code",
   "execution_count": 67,
   "id": "60018052",
   "metadata": {
    "execution": {
     "iopub.execute_input": "2023-01-28T18:51:59.939811Z",
     "iopub.status.busy": "2023-01-28T18:51:59.939454Z",
     "iopub.status.idle": "2023-01-28T18:51:59.944771Z",
     "shell.execute_reply": "2023-01-28T18:51:59.943752Z"
    },
    "papermill": {
     "duration": 8.015984,
     "end_time": "2023-01-28T18:51:59.947073",
     "exception": false,
     "start_time": "2023-01-28T18:51:51.931089",
     "status": "completed"
    },
    "tags": []
   },
   "outputs": [],
   "source": [
    "# X_test.values[0]"
   ]
  },
  {
   "cell_type": "code",
   "execution_count": 68,
   "id": "34e1dbb5",
   "metadata": {
    "execution": {
     "iopub.execute_input": "2023-01-28T18:52:16.265688Z",
     "iopub.status.busy": "2023-01-28T18:52:16.265260Z",
     "iopub.status.idle": "2023-01-28T18:52:16.274477Z",
     "shell.execute_reply": "2023-01-28T18:52:16.273475Z"
    },
    "papermill": {
     "duration": 7.870311,
     "end_time": "2023-01-28T18:52:16.278228",
     "exception": false,
     "start_time": "2023-01-28T18:52:08.407917",
     "status": "completed"
    },
    "tags": []
   },
   "outputs": [],
   "source": [
    "# pred_lda[0]"
   ]
  },
  {
   "cell_type": "code",
   "execution_count": 69,
   "id": "69923194",
   "metadata": {
    "execution": {
     "iopub.execute_input": "2023-01-28T18:52:32.338533Z",
     "iopub.status.busy": "2023-01-28T18:52:32.338080Z",
     "iopub.status.idle": "2023-01-28T18:52:32.346071Z",
     "shell.execute_reply": "2023-01-28T18:52:32.344709Z"
    },
    "papermill": {
     "duration": 8.065181,
     "end_time": "2023-01-28T18:52:32.352370",
     "exception": false,
     "start_time": "2023-01-28T18:52:24.287189",
     "status": "completed"
    },
    "tags": []
   },
   "outputs": [],
   "source": [
    "# y_test.iloc[0]"
   ]
  },
  {
   "cell_type": "code",
   "execution_count": 70,
   "id": "fe0fdbd3",
   "metadata": {
    "execution": {
     "iopub.execute_input": "2023-01-28T18:52:48.747689Z",
     "iopub.status.busy": "2023-01-28T18:52:48.747335Z",
     "iopub.status.idle": "2023-01-28T18:52:48.778192Z",
     "shell.execute_reply": "2023-01-28T18:52:48.777337Z"
    },
    "papermill": {
     "duration": 7.913092,
     "end_time": "2023-01-28T18:52:48.780336",
     "exception": false,
     "start_time": "2023-01-28T18:52:40.867244",
     "status": "completed"
    },
    "tags": []
   },
   "outputs": [],
   "source": [
    "def compare_topic_tags(\n",
    "    pred_topic, y_true, tags=[\"java\", \"python\", \"javascript\", \"git\"]\n",
    "):\n",
    "    \"\"\"Pour chacun des tags, regarde les topics attribué quand ce tag est présent\"\"\"\n",
    "    df_pred = pd.DataFrame(pred_topic)\n",
    "    for tag in tags:\n",
    "        print(f\"***{colors.BOLD}{tag}{colors.ENDC}*** sur {sum(y_true[tag])} positif\")\n",
    "        display(\n",
    "            df_pred[y_true[tag].values]\n",
    "            .describe()\n",
    "            .sort_values(by=\"count\", ascending=False, axis=\"columns\")\n",
    "        )\n",
    "        print(\"\\n\")"
   ]
  },
  {
   "cell_type": "code",
   "execution_count": 71,
   "id": "61fda268",
   "metadata": {
    "execution": {
     "iopub.execute_input": "2023-01-28T18:53:05.225365Z",
     "iopub.status.busy": "2023-01-28T18:53:05.224948Z",
     "iopub.status.idle": "2023-01-28T18:53:05.236747Z",
     "shell.execute_reply": "2023-01-28T18:53:05.235800Z"
    },
    "papermill": {
     "duration": 8.471891,
     "end_time": "2023-01-28T18:53:05.240682",
     "exception": false,
     "start_time": "2023-01-28T18:52:56.768791",
     "status": "completed"
    },
    "tags": []
   },
   "outputs": [],
   "source": [
    "if description[\"LDA\"][\"actif\"]:\n",
    "    compare_topic_tags(pred_lda, y_test)"
   ]
  }
 ],
 "metadata": {
  "kernelspec": {
   "display_name": "Python 3",
   "language": "python",
   "name": "python3"
  },
  "language_info": {
   "codemirror_mode": {
    "name": "ipython",
    "version": 3
   },
   "file_extension": ".py",
   "mimetype": "text/x-python",
   "name": "python",
   "nbconvert_exporter": "python",
   "pygments_lexer": "ipython3",
   "version": "3.7.12"
  },
  "papermill": {
   "default_parameters": {},
   "duration": 13603.604305,
   "end_time": "2023-01-28T18:53:16.412959",
   "environment_variables": {},
   "exception": null,
   "input_path": "__notebook__.ipynb",
   "output_path": "__notebook__.ipynb",
   "parameters": {},
   "start_time": "2023-01-28T15:06:32.808654",
   "version": "2.3.4"
  },
  "widgets": {
   "application/vnd.jupyter.widget-state+json": {
    "state": {
     "6f57f64dbc1a4ac49e5dd0abd27dc971": {
      "model_module": "@jupyter-widgets/controls",
      "model_module_version": "1.5.0",
      "model_name": "VBoxModel",
      "state": {
       "_dom_classes": [
        "widget-interact"
       ],
       "_model_module": "@jupyter-widgets/controls",
       "_model_module_version": "1.5.0",
       "_model_name": "VBoxModel",
       "_view_count": null,
       "_view_module": "@jupyter-widgets/controls",
       "_view_module_version": "1.5.0",
       "_view_name": "VBoxView",
       "box_style": "",
       "children": [
        "IPY_MODEL_e440a7d5445549da8474c6b0ee0f7051",
        "IPY_MODEL_88b8a795593b49cfa2048708290c26d5"
       ],
       "layout": "IPY_MODEL_a15ed059e32746b781ebdc1bbdcc42e4"
      }
     },
     "88b8a795593b49cfa2048708290c26d5": {
      "model_module": "@jupyter-widgets/output",
      "model_module_version": "1.0.0",
      "model_name": "OutputModel",
      "state": {
       "_dom_classes": [],
       "_model_module": "@jupyter-widgets/output",
       "_model_module_version": "1.0.0",
       "_model_name": "OutputModel",
       "_view_count": null,
       "_view_module": "@jupyter-widgets/output",
       "_view_module_version": "1.0.0",
       "_view_name": "OutputView",
       "layout": "IPY_MODEL_c54395d7491f4eb394041b91e7c278f5",
       "msg_id": "",
       "outputs": [
        {
         "name": "stdout",
         "output_type": "stream",
         "text": "***Title***How to change culture to a DateTimepicker or calendar control in .Net\n******************************\n***Body***<p>How to set internationalization to a <code>DateTimepicker</code> or <code>Calendar WinForm</code> control in .Net when the desire culture is different to the one installed in the PC?</p>\n\n******************************\n        ***Lemma** change culture datetimepicker calendar control set internationalization datetimepicker calendar winform control .net desire culture instal pc\n******************************\n        ***Bert*** how to change culture to a datetimepicker or calendar control in .net how to set internationalization to a datetimepicker or calendar winform control in .net when the desire culture is different to the one installed in the pc?\n******************************\n        ***Code*** DateTimepicker Calendar WinForm\n******************************\n        ***Tags*** c# .net internationalization datetimepicker culture\n"
        }
       ]
      }
     },
     "9701e53f1ce8477ea7592c17ddf38cf5": {
      "model_module": "@jupyter-widgets/controls",
      "model_module_version": "1.5.0",
      "model_name": "SliderStyleModel",
      "state": {
       "_model_module": "@jupyter-widgets/controls",
       "_model_module_version": "1.5.0",
       "_model_name": "SliderStyleModel",
       "_view_count": null,
       "_view_module": "@jupyter-widgets/base",
       "_view_module_version": "1.2.0",
       "_view_name": "StyleView",
       "description_width": "",
       "handle_color": null
      }
     },
     "a15ed059e32746b781ebdc1bbdcc42e4": {
      "model_module": "@jupyter-widgets/base",
      "model_module_version": "1.2.0",
      "model_name": "LayoutModel",
      "state": {
       "_model_module": "@jupyter-widgets/base",
       "_model_module_version": "1.2.0",
       "_model_name": "LayoutModel",
       "_view_count": null,
       "_view_module": "@jupyter-widgets/base",
       "_view_module_version": "1.2.0",
       "_view_name": "LayoutView",
       "align_content": null,
       "align_items": null,
       "align_self": null,
       "border": null,
       "bottom": null,
       "display": null,
       "flex": null,
       "flex_flow": null,
       "grid_area": null,
       "grid_auto_columns": null,
       "grid_auto_flow": null,
       "grid_auto_rows": null,
       "grid_column": null,
       "grid_gap": null,
       "grid_row": null,
       "grid_template_areas": null,
       "grid_template_columns": null,
       "grid_template_rows": null,
       "height": null,
       "justify_content": null,
       "justify_items": null,
       "left": null,
       "margin": null,
       "max_height": null,
       "max_width": null,
       "min_height": null,
       "min_width": null,
       "object_fit": null,
       "object_position": null,
       "order": null,
       "overflow": null,
       "overflow_x": null,
       "overflow_y": null,
       "padding": null,
       "right": null,
       "top": null,
       "visibility": null,
       "width": null
      }
     },
     "bca7619f4f244a3dab8e2e782445da9f": {
      "model_module": "@jupyter-widgets/base",
      "model_module_version": "1.2.0",
      "model_name": "LayoutModel",
      "state": {
       "_model_module": "@jupyter-widgets/base",
       "_model_module_version": "1.2.0",
       "_model_name": "LayoutModel",
       "_view_count": null,
       "_view_module": "@jupyter-widgets/base",
       "_view_module_version": "1.2.0",
       "_view_name": "LayoutView",
       "align_content": null,
       "align_items": null,
       "align_self": null,
       "border": null,
       "bottom": null,
       "display": null,
       "flex": null,
       "flex_flow": null,
       "grid_area": null,
       "grid_auto_columns": null,
       "grid_auto_flow": null,
       "grid_auto_rows": null,
       "grid_column": null,
       "grid_gap": null,
       "grid_row": null,
       "grid_template_areas": null,
       "grid_template_columns": null,
       "grid_template_rows": null,
       "height": null,
       "justify_content": null,
       "justify_items": null,
       "left": null,
       "margin": null,
       "max_height": null,
       "max_width": null,
       "min_height": null,
       "min_width": null,
       "object_fit": null,
       "object_position": null,
       "order": null,
       "overflow": null,
       "overflow_x": null,
       "overflow_y": null,
       "padding": null,
       "right": null,
       "top": null,
       "visibility": null,
       "width": null
      }
     },
     "c54395d7491f4eb394041b91e7c278f5": {
      "model_module": "@jupyter-widgets/base",
      "model_module_version": "1.2.0",
      "model_name": "LayoutModel",
      "state": {
       "_model_module": "@jupyter-widgets/base",
       "_model_module_version": "1.2.0",
       "_model_name": "LayoutModel",
       "_view_count": null,
       "_view_module": "@jupyter-widgets/base",
       "_view_module_version": "1.2.0",
       "_view_name": "LayoutView",
       "align_content": null,
       "align_items": null,
       "align_self": null,
       "border": null,
       "bottom": null,
       "display": null,
       "flex": null,
       "flex_flow": null,
       "grid_area": null,
       "grid_auto_columns": null,
       "grid_auto_flow": null,
       "grid_auto_rows": null,
       "grid_column": null,
       "grid_gap": null,
       "grid_row": null,
       "grid_template_areas": null,
       "grid_template_columns": null,
       "grid_template_rows": null,
       "height": null,
       "justify_content": null,
       "justify_items": null,
       "left": null,
       "margin": null,
       "max_height": null,
       "max_width": null,
       "min_height": null,
       "min_width": null,
       "object_fit": null,
       "object_position": null,
       "order": null,
       "overflow": null,
       "overflow_x": null,
       "overflow_y": null,
       "padding": null,
       "right": null,
       "top": null,
       "visibility": null,
       "width": null
      }
     },
     "e440a7d5445549da8474c6b0ee0f7051": {
      "model_module": "@jupyter-widgets/controls",
      "model_module_version": "1.5.0",
      "model_name": "IntSliderModel",
      "state": {
       "_dom_classes": [],
       "_model_module": "@jupyter-widgets/controls",
       "_model_module_version": "1.5.0",
       "_model_name": "IntSliderModel",
       "_view_count": null,
       "_view_module": "@jupyter-widgets/controls",
       "_view_module_version": "1.5.0",
       "_view_name": "IntSliderView",
       "continuous_update": true,
       "description": "i",
       "description_tooltip": null,
       "disabled": false,
       "layout": "IPY_MODEL_bca7619f4f244a3dab8e2e782445da9f",
       "max": 118441,
       "min": 0,
       "orientation": "horizontal",
       "readout": true,
       "readout_format": "d",
       "step": 1,
       "style": "IPY_MODEL_9701e53f1ce8477ea7592c17ddf38cf5",
       "value": 59220
      }
     }
    },
    "version_major": 2,
    "version_minor": 0
   }
  }
 },
 "nbformat": 4,
 "nbformat_minor": 5
}
