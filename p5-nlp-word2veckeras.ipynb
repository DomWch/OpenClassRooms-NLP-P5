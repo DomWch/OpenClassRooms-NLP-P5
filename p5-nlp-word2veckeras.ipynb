{
 "cells": [
  {
   "cell_type": "markdown",
   "id": "f671e68c",
   "metadata": {
    "papermill": {
     "duration": 0.022657,
     "end_time": "2023-01-27T22:44:07.691634",
     "exception": false,
     "start_time": "2023-01-27T22:44:07.668977",
     "status": "completed"
    },
    "tags": []
   },
   "source": [
    "# Index\n",
    "* [Import](#index)\n",
    "* [Tokenization](#Tokenization)\n",
    "* [CountVectorizer](#CountVectorizer)\n",
    "* [PreprocessPipeline](#PreprocessPipeline)\n",
    "* [OvsRest](#OvsRest)\n",
    "    - [LogisticRegression](#LogisticRegression)\n",
    "    - [SVC](#SVC)\n",
    "* [Word2Vec](#Word2Vec)\n",
    "* [BERT](#BERT)\n",
    "* [USE](#USE)\n",
    "* [LDA](#LDA)"
   ]
  },
  {
   "cell_type": "code",
   "execution_count": 1,
   "id": "6c85d0c1",
   "metadata": {
    "_cell_guid": "b1076dfc-b9ad-4769-8c92-a6c4dae69d19",
    "_uuid": "8f2839f25d086af736a60e9eeb907d3b93b6e0e5",
    "execution": {
     "iopub.execute_input": "2023-01-27T22:44:07.727227Z",
     "iopub.status.busy": "2023-01-27T22:44:07.726703Z",
     "iopub.status.idle": "2023-01-27T22:44:21.895374Z",
     "shell.execute_reply": "2023-01-27T22:44:21.893221Z"
    },
    "papermill": {
     "duration": 14.18939,
     "end_time": "2023-01-27T22:44:21.898310",
     "exception": false,
     "start_time": "2023-01-27T22:44:07.708920",
     "status": "completed"
    },
    "tags": []
   },
   "outputs": [
    {
     "name": "stderr",
     "output_type": "stream",
     "text": [
      "/opt/conda/lib/python3.7/site-packages/past/types/oldstr.py:36: DeprecationWarning: invalid escape sequence \\d\n",
      "  \"\"\"\n",
      "/opt/conda/lib/python3.7/site-packages/past/builtins/misc.py:45: DeprecationWarning: the imp module is deprecated in favour of importlib; see the module's documentation for alternative uses\n",
      "  from imp import reload\n",
      "/opt/conda/lib/python3.7/site-packages/tensorflow/python/framework/dtypes.py:585: DeprecationWarning: `np.object` is a deprecated alias for the builtin `object`. To silence this warning, use `object` by itself. Doing this will not modify any behavior and is safe. \n",
      "Deprecated in NumPy 1.20; for more details and guidance: https://numpy.org/devdocs/release/1.20.0-notes.html#deprecations\n",
      "  np.object,\n",
      "/opt/conda/lib/python3.7/site-packages/tensorflow/python/framework/dtypes.py:627: DeprecationWarning: `np.object` is a deprecated alias for the builtin `object`. To silence this warning, use `object` by itself. Doing this will not modify any behavior and is safe. \n",
      "Deprecated in NumPy 1.20; for more details and guidance: https://numpy.org/devdocs/release/1.20.0-notes.html#deprecations\n",
      "  np.object,\n",
      "/opt/conda/lib/python3.7/site-packages/tensorflow/python/framework/dtypes.py:637: DeprecationWarning: `np.bool` is a deprecated alias for the builtin `bool`. To silence this warning, use `bool` by itself. Doing this will not modify any behavior and is safe. If you specifically wanted the numpy scalar type, use `np.bool_` here.\n",
      "Deprecated in NumPy 1.20; for more details and guidance: https://numpy.org/devdocs/release/1.20.0-notes.html#deprecations\n",
      "  np.bool,\n",
      "/opt/conda/lib/python3.7/site-packages/tensorflow/python/framework/tensor_util.py:108: DeprecationWarning: `np.object` is a deprecated alias for the builtin `object`. To silence this warning, use `object` by itself. Doing this will not modify any behavior and is safe. \n",
      "Deprecated in NumPy 1.20; for more details and guidance: https://numpy.org/devdocs/release/1.20.0-notes.html#deprecations\n",
      "  np.object:\n",
      "/opt/conda/lib/python3.7/site-packages/tensorflow/python/framework/tensor_util.py:110: DeprecationWarning: `np.bool` is a deprecated alias for the builtin `bool`. To silence this warning, use `bool` by itself. Doing this will not modify any behavior and is safe. If you specifically wanted the numpy scalar type, use `np.bool_` here.\n",
      "Deprecated in NumPy 1.20; for more details and guidance: https://numpy.org/devdocs/release/1.20.0-notes.html#deprecations\n",
      "  np.bool:\n",
      "/opt/conda/lib/python3.7/site-packages/tensorflow/python/ops/numpy_ops/np_random.py:110: DeprecationWarning: `np.int` is a deprecated alias for the builtin `int`. To silence this warning, use `int` by itself. Doing this will not modify any behavior and is safe. When replacing `np.int`, you may wish to use e.g. `np.int64` or `np.int32` to specify the precision. If you wish to review your current use, check the release note link for additional information.\n",
      "Deprecated in NumPy 1.20; for more details and guidance: https://numpy.org/devdocs/release/1.20.0-notes.html#deprecations\n",
      "  def randint(low, high=None, size=None, dtype=onp.int):  # pylint: disable=missing-function-docstring\n",
      "/opt/conda/lib/python3.7/site-packages/keras_preprocessing/image/utils.py:23: DeprecationWarning: NEAREST is deprecated and will be removed in Pillow 10 (2023-07-01). Use Resampling.NEAREST or Dither.NONE instead.\n",
      "  'nearest': pil_image.NEAREST,\n",
      "/opt/conda/lib/python3.7/site-packages/keras_preprocessing/image/utils.py:24: DeprecationWarning: BILINEAR is deprecated and will be removed in Pillow 10 (2023-07-01). Use Resampling.BILINEAR instead.\n",
      "  'bilinear': pil_image.BILINEAR,\n",
      "/opt/conda/lib/python3.7/site-packages/keras_preprocessing/image/utils.py:25: DeprecationWarning: BICUBIC is deprecated and will be removed in Pillow 10 (2023-07-01). Use Resampling.BICUBIC instead.\n",
      "  'bicubic': pil_image.BICUBIC,\n",
      "/opt/conda/lib/python3.7/site-packages/keras_preprocessing/image/utils.py:28: DeprecationWarning: HAMMING is deprecated and will be removed in Pillow 10 (2023-07-01). Use Resampling.HAMMING instead.\n",
      "  if hasattr(pil_image, 'HAMMING'):\n",
      "/opt/conda/lib/python3.7/site-packages/keras_preprocessing/image/utils.py:29: DeprecationWarning: HAMMING is deprecated and will be removed in Pillow 10 (2023-07-01). Use Resampling.HAMMING instead.\n",
      "  _PIL_INTERPOLATION_METHODS['hamming'] = pil_image.HAMMING\n",
      "/opt/conda/lib/python3.7/site-packages/keras_preprocessing/image/utils.py:30: DeprecationWarning: BOX is deprecated and will be removed in Pillow 10 (2023-07-01). Use Resampling.BOX instead.\n",
      "  if hasattr(pil_image, 'BOX'):\n",
      "/opt/conda/lib/python3.7/site-packages/keras_preprocessing/image/utils.py:31: DeprecationWarning: BOX is deprecated and will be removed in Pillow 10 (2023-07-01). Use Resampling.BOX instead.\n",
      "  _PIL_INTERPOLATION_METHODS['box'] = pil_image.BOX\n",
      "/opt/conda/lib/python3.7/site-packages/keras_preprocessing/image/utils.py:33: DeprecationWarning: LANCZOS is deprecated and will be removed in Pillow 10 (2023-07-01). Use Resampling.LANCZOS instead.\n",
      "  if hasattr(pil_image, 'LANCZOS'):\n",
      "/opt/conda/lib/python3.7/site-packages/keras_preprocessing/image/utils.py:34: DeprecationWarning: LANCZOS is deprecated and will be removed in Pillow 10 (2023-07-01). Use Resampling.LANCZOS instead.\n",
      "  _PIL_INTERPOLATION_METHODS['lanczos'] = pil_image.LANCZOS\n",
      "2023-01-27 22:44:16.604993: I tensorflow/stream_executor/cuda/cuda_gpu_executor.cc:937] successful NUMA node read from SysFS had negative value (-1), but there must be at least one NUMA node, so returning NUMA node zero\n",
      "2023-01-27 22:44:16.606302: I tensorflow/stream_executor/cuda/cuda_gpu_executor.cc:937] successful NUMA node read from SysFS had negative value (-1), but there must be at least one NUMA node, so returning NUMA node zero\n",
      "2023-01-27 22:44:16.607046: I tensorflow/stream_executor/cuda/cuda_gpu_executor.cc:937] successful NUMA node read from SysFS had negative value (-1), but there must be at least one NUMA node, so returning NUMA node zero\n",
      "2023-01-27 22:44:16.608994: I tensorflow/core/platform/cpu_feature_guard.cc:142] This TensorFlow binary is optimized with oneAPI Deep Neural Network Library (oneDNN) to use the following CPU instructions in performance-critical operations:  AVX2 AVX512F FMA\n",
      "To enable them in other operations, rebuild TensorFlow with the appropriate compiler flags.\n",
      "2023-01-27 22:44:16.609316: I tensorflow/stream_executor/cuda/cuda_gpu_executor.cc:937] successful NUMA node read from SysFS had negative value (-1), but there must be at least one NUMA node, so returning NUMA node zero\n",
      "2023-01-27 22:44:16.610061: I tensorflow/stream_executor/cuda/cuda_gpu_executor.cc:937] successful NUMA node read from SysFS had negative value (-1), but there must be at least one NUMA node, so returning NUMA node zero\n",
      "2023-01-27 22:44:16.610769: I tensorflow/stream_executor/cuda/cuda_gpu_executor.cc:937] successful NUMA node read from SysFS had negative value (-1), but there must be at least one NUMA node, so returning NUMA node zero\n",
      "2023-01-27 22:44:21.499180: I tensorflow/stream_executor/cuda/cuda_gpu_executor.cc:937] successful NUMA node read from SysFS had negative value (-1), but there must be at least one NUMA node, so returning NUMA node zero\n",
      "2023-01-27 22:44:21.500080: I tensorflow/stream_executor/cuda/cuda_gpu_executor.cc:937] successful NUMA node read from SysFS had negative value (-1), but there must be at least one NUMA node, so returning NUMA node zero\n",
      "2023-01-27 22:44:21.500788: I tensorflow/stream_executor/cuda/cuda_gpu_executor.cc:937] successful NUMA node read from SysFS had negative value (-1), but there must be at least one NUMA node, so returning NUMA node zero\n",
      "2023-01-27 22:44:21.501380: I tensorflow/core/common_runtime/gpu/gpu_device.cc:1510] Created device /job:localhost/replica:0/task:0/device:GPU:0 with 15043 MB memory:  -> device: 0, name: Tesla P100-PCIE-16GB, pci bus id: 0000:00:04.0, compute capability: 6.0\n"
     ]
    }
   ],
   "source": [
    "import time\n",
    "import json\n",
    "import os\n",
    "\n",
    "# from joblib import dump, load, Memory\n",
    "import joblib\n",
    "import dill\n",
    "import weakref\n",
    "\n",
    "# import warnings\n",
    "\n",
    "import numpy as np\n",
    "import pandas as pd\n",
    "import gensim\n",
    "import pyLDAvis\n",
    "import matplotlib.pyplot as plt\n",
    "\n",
    "# from gensim import (\n",
    "#     corpora,\n",
    "# )  # https://pypi.org/project/gensim/ #https://radimrehurek.com/gensim/auto_examples/core/run_topics_and_transformations.html#sphx-glr-auto-examples-core-run-topics-and-transformations-py\n",
    "from sklearn import (\n",
    "    metrics,\n",
    "    feature_extraction,\n",
    "    linear_model,\n",
    "    model_selection,\n",
    "    preprocessing,\n",
    "    cluster,\n",
    "    decomposition,\n",
    "    multiclass,\n",
    "    svm,\n",
    "    pipeline,\n",
    "    exceptions,\n",
    "    manifold,\n",
    ")\n",
    "from wordcloud import WordCloud\n",
    "from sklearn.utils._testing import ignore_warnings\n",
    "from sklearn.base import BaseEstimator, TransformerMixin\n",
    "import tensorflow as tf\n",
    "import tensorflow_hub as hub\n",
    "from transformers import (\n",
    "    AutoTokenizer,\n",
    "    TFAutoModel,\n",
    "    AutoModel,\n",
    "    BertTokenizer,\n",
    "    TFBertModel,\n",
    "    BertConfig,\n",
    ")  # BertModel\n",
    "import transformers\n",
    "from tokenizers import BertWordPieceTokenizer\n",
    "\n",
    "\n",
    "# import nlpk"
   ]
  },
  {
   "cell_type": "code",
   "execution_count": 2,
   "id": "fc0e4bfb",
   "metadata": {
    "execution": {
     "iopub.execute_input": "2023-01-27T22:44:21.935962Z",
     "iopub.status.busy": "2023-01-27T22:44:21.934292Z",
     "iopub.status.idle": "2023-01-27T22:44:26.349901Z",
     "shell.execute_reply": "2023-01-27T22:44:26.348750Z"
    },
    "papermill": {
     "duration": 4.436804,
     "end_time": "2023-01-27T22:44:26.352472",
     "exception": false,
     "start_time": "2023-01-27T22:44:21.915668",
     "status": "completed"
    },
    "tags": []
   },
   "outputs": [
    {
     "name": "stderr",
     "output_type": "stream",
     "text": [
      "/opt/conda/lib/python3.7/site-packages/mxnet/numpy/utils.py:37: DeprecationWarning: `np.bool` is a deprecated alias for the builtin `bool`. To silence this warning, use `bool` by itself. Doing this will not modify any behavior and is safe. If you specifically wanted the numpy scalar type, use `np.bool_` here.\n",
      "Deprecated in NumPy 1.20; for more details and guidance: https://numpy.org/devdocs/release/1.20.0-notes.html#deprecations\n",
      "  bool = onp.bool\n",
      "/opt/conda/lib/python3.7/site-packages/mxnet/numpy/fallback.py:143: DeprecationWarning: In accordance with NEP 32, the function mirr was removed from NumPy version 1.20.  A replacement for this function is available in the numpy_financial library: https://pypi.org/project/numpy-financial\n",
      "  mirr = onp.mirr\n",
      "/opt/conda/lib/python3.7/site-packages/mxnet/numpy/fallback.py:160: DeprecationWarning: In accordance with NEP 32, the function npv was removed from NumPy version 1.20.  A replacement for this function is available in the numpy_financial library: https://pypi.org/project/numpy-financial\n",
      "  npv = onp.npv\n",
      "/opt/conda/lib/python3.7/site-packages/mxnet/numpy/fallback.py:164: DeprecationWarning: In accordance with NEP 32, the function pmt was removed from NumPy version 1.20.  A replacement for this function is available in the numpy_financial library: https://pypi.org/project/numpy-financial\n",
      "  pmt = onp.pmt\n",
      "/opt/conda/lib/python3.7/site-packages/mxnet/numpy/fallback.py:173: DeprecationWarning: In accordance with NEP 32, the function ppmt was removed from NumPy version 1.20.  A replacement for this function is available in the numpy_financial library: https://pypi.org/project/numpy-financial\n",
      "  ppmt = onp.ppmt\n",
      "/opt/conda/lib/python3.7/site-packages/mxnet/numpy/fallback.py:176: DeprecationWarning: In accordance with NEP 32, the function pv was removed from NumPy version 1.20.  A replacement for this function is available in the numpy_financial library: https://pypi.org/project/numpy-financial\n",
      "  pv = onp.pv\n",
      "/opt/conda/lib/python3.7/site-packages/mxnet/numpy/fallback.py:177: DeprecationWarning: In accordance with NEP 32, the function rate was removed from NumPy version 1.20.  A replacement for this function is available in the numpy_financial library: https://pypi.org/project/numpy-financial\n",
      "  rate = onp.rate\n"
     ]
    }
   ],
   "source": [
    "from kerasembedtransformerclass import p5_nlp_utils"
   ]
  },
  {
   "cell_type": "markdown",
   "id": "b9ebccae",
   "metadata": {
    "papermill": {
     "duration": 0.017246,
     "end_time": "2023-01-27T22:44:26.391545",
     "exception": false,
     "start_time": "2023-01-27T22:44:26.374299",
     "status": "completed"
    },
    "tags": []
   },
   "source": [
    "https://scikit-learn.org/stable/modules/multiclass.html test autre stategie que OneVsRest  \n",
    "https://keras.io/examples/nlp/text_extraction_with_bert/  "
   ]
  },
  {
   "cell_type": "code",
   "execution_count": 3,
   "id": "3c2c4093",
   "metadata": {
    "_kg_hide-output": true,
    "execution": {
     "iopub.execute_input": "2023-01-27T22:44:26.425943Z",
     "iopub.status.busy": "2023-01-27T22:44:26.425620Z",
     "iopub.status.idle": "2023-01-27T22:44:37.710635Z",
     "shell.execute_reply": "2023-01-27T22:44:37.709293Z"
    },
    "papermill": {
     "duration": 11.304606,
     "end_time": "2023-01-27T22:44:37.712710",
     "exception": false,
     "start_time": "2023-01-27T22:44:26.408104",
     "status": "completed"
    },
    "tags": []
   },
   "outputs": [
    {
     "name": "stdout",
     "output_type": "stream",
     "text": [
      "\u001b[33mWARNING: Running pip as the 'root' user can result in broken permissions and conflicting behaviour with the system package manager. It is recommended to use a virtual environment instead: https://pip.pypa.io/warnings/venv\u001b[0m\u001b[33m\r\n",
      "\u001b[0mNote: you may need to restart the kernel to use updated packages.\n"
     ]
    }
   ],
   "source": [
    "pip install -q jupyter-black jupyter"
   ]
  },
  {
   "cell_type": "code",
   "execution_count": 4,
   "id": "2ad7ccbf",
   "metadata": {
    "execution": {
     "iopub.execute_input": "2023-01-27T22:44:37.747361Z",
     "iopub.status.busy": "2023-01-27T22:44:37.747022Z",
     "iopub.status.idle": "2023-01-27T22:44:37.865969Z",
     "shell.execute_reply": "2023-01-27T22:44:37.864944Z"
    },
    "papermill": {
     "duration": 0.138843,
     "end_time": "2023-01-27T22:44:37.868374",
     "exception": false,
     "start_time": "2023-01-27T22:44:37.729531",
     "status": "completed"
    },
    "tags": []
   },
   "outputs": [
    {
     "data": {
      "text/html": [
       "\n",
       "                <script type=\"application/javascript\" id=\"jupyter_black\">\n",
       "                (function() {\n",
       "                    if (window.IPython === undefined) {\n",
       "                        return\n",
       "                    }\n",
       "                    var msg = \"WARNING: it looks like you might have loaded \" +\n",
       "                        \"jupyter_black in a non-lab notebook with \" +\n",
       "                        \"`is_lab=True`. Please double check, and if \" +\n",
       "                        \"loading with `%load_ext` please review the README!\"\n",
       "                    console.log(msg)\n",
       "                    alert(msg)\n",
       "                })()\n",
       "                </script>\n",
       "                "
      ],
      "text/plain": [
       "<IPython.core.display.HTML object>"
      ]
     },
     "metadata": {},
     "output_type": "display_data"
    }
   ],
   "source": [
    "# for black formating\n",
    "import jupyter_black  # pip install jupyter-black jupyter\n",
    "\n",
    "jupyter_black.load()\n",
    "# ??jupyter_black.load #show config"
   ]
  },
  {
   "cell_type": "code",
   "execution_count": 5,
   "id": "2bbf919d",
   "metadata": {
    "execution": {
     "iopub.execute_input": "2023-01-27T22:44:37.903041Z",
     "iopub.status.busy": "2023-01-27T22:44:37.902406Z",
     "iopub.status.idle": "2023-01-27T22:44:47.117392Z",
     "shell.execute_reply": "2023-01-27T22:44:47.115105Z"
    },
    "papermill": {
     "duration": 9.234583,
     "end_time": "2023-01-27T22:44:47.119791",
     "exception": false,
     "start_time": "2023-01-27T22:44:37.885208",
     "status": "completed"
    },
    "tags": []
   },
   "outputs": [
    {
     "name": "stdout",
     "output_type": "stream",
     "text": [
      "<class 'pandas.core.frame.DataFrame'>\n",
      "Int64Index: 118442 entries, 0 to 118441\n",
      "Data columns (total 12 columns):\n",
      " #   Column       Non-Null Count   Dtype \n",
      "---  ------       --------------   ----- \n",
      " 0   Id           118442 non-null  int64 \n",
      " 1   Title        118442 non-null  object\n",
      " 2   Body         118442 non-null  object\n",
      " 3   0            118440 non-null  object\n",
      " 4   1            118383 non-null  object\n",
      " 5   2            118292 non-null  object\n",
      " 6   3            118292 non-null  object\n",
      " 7   4            76389 non-null   object\n",
      " 8   5            4 non-null       object\n",
      " 9   Token_lemma  118442 non-null  object\n",
      " 10  Token_BERT   118442 non-null  object\n",
      " 11  code         88202 non-null   object\n",
      "dtypes: int64(1), object(11)\n",
      "memory usage: 11.7+ MB\n"
     ]
    }
   ],
   "source": [
    "df = pd.read_csv(\n",
    "    \"/kaggle/input/p5-nlp/stackoverflowCleanedV2.csv\", index_col=0, low_memory=False\n",
    ")\n",
    "df.info()"
   ]
  },
  {
   "cell_type": "code",
   "execution_count": 6,
   "id": "2c745d4c",
   "metadata": {
    "execution": {
     "iopub.execute_input": "2023-01-27T22:44:47.155207Z",
     "iopub.status.busy": "2023-01-27T22:44:47.154377Z",
     "iopub.status.idle": "2023-01-27T22:44:47.230235Z",
     "shell.execute_reply": "2023-01-27T22:44:47.229361Z"
    },
    "papermill": {
     "duration": 0.095782,
     "end_time": "2023-01-27T22:44:47.232504",
     "exception": false,
     "start_time": "2023-01-27T22:44:47.136722",
     "status": "completed"
    },
    "tags": []
   },
   "outputs": [],
   "source": [
    "LONG = False\n",
    "description = {\n",
    "    \"title\": \"USE avec plus de target tag (50 avant 21)\",\n",
    "    \"target_min_freq\": 0.002, # 0.002 -> 50tags jusqu'a git\n",
    "    \"target_nb_max\": 20, # int en complément de freq, premier test fait avec 20+git\n",
    "    \"CountVectorizer\": {\"min_df\": 0.00001, \"max_df\": 0.995, \"max_features\": None},\n",
    "    \"StandardScaler\": {\"actif\": False},\n",
    "    \"TruncatedSVD\": {\"actif\": False, \"n_components\": 1_000},\n",
    "    \"LogisticRegression\": {\"actif\": False},\n",
    "    \"TfidfOvRSVC\": {\"actif\": False, \"max_iter\": 100},\n",
    "    \"Word2Vec_keras\": {\n",
    "        \"actif\": True,\n",
    "        \"TextVectorization__max_tokens\": 210_000,  # 20_000,\n",
    "        \"TextVectorization__output_sequence_length\": 256,  # max tokens(mots) considéré par question #20\n",
    "        \"Embedding__output_dim\": 512, \n",
    "        \"Word2Vec__min_count\": 5,\n",
    "        \"Word2Vec__window\": 25,\n",
    "        \"Word2Vec__epochs\": 150,  # 100,\n",
    "        \"fit__learning_rate\":1e-5,\n",
    "        \"fit__epochs\": 100,  # 15\n",
    "    },\n",
    "    \"Word2Vec_OVR\": {\n",
    "        \"actif\": False,\n",
    "        \"min_count\": 1,\n",
    "        \"size\": 500,\n",
    "        \"window\": 10,\n",
    "        \"epochs\": 100,\n",
    "        \"maxlen\": 50,\n",
    "        \"max_iter\": 6_000,\n",
    "    },\n",
    "    \"BERT\": {\n",
    "        \"actif\": False,\n",
    "        \"max_length\": 512,\n",
    "        \"epochs\": 10,\n",
    "        \"cleaning\":\"v2\",\n",
    "    },\n",
    "    \"USE\": {\"actif\": False, \"tsne_visu\": True, \"epochs\": 50},\n",
    "    \"LDA\": {\n",
    "        \"actif\": False,\n",
    "        \"num_topics\": [20],  # [5, 10, 20],\n",
    "        \"lda__no_below\": 100,\n",
    "        \"lda__no_above\": 0.5,\n",
    "        \"lda__max_tokens\": 100_000,\n",
    "        \"lda__iterations\": 50,\n",
    "        \"word_cloud__nb_words\": 50,\n",
    "    },\n",
    "}"
   ]
  },
  {
   "cell_type": "code",
   "execution_count": 7,
   "id": "919ab0a3",
   "metadata": {
    "execution": {
     "iopub.execute_input": "2023-01-27T22:44:47.266904Z",
     "iopub.status.busy": "2023-01-27T22:44:47.266643Z",
     "iopub.status.idle": "2023-01-27T22:44:47.284844Z",
     "shell.execute_reply": "2023-01-27T22:44:47.284032Z"
    },
    "papermill": {
     "duration": 0.037687,
     "end_time": "2023-01-27T22:44:47.286964",
     "exception": false,
     "start_time": "2023-01-27T22:44:47.249277",
     "status": "completed"
    },
    "tags": []
   },
   "outputs": [],
   "source": [
    "class colors:\n",
    "    PURPLE = \"\\033[95m\"\n",
    "    BLUE = \"\\033[94m\"\n",
    "    CYAN = \"\\033[96m\"\n",
    "    GREEN = \"\\033[92m\"\n",
    "    YELLOW = \"\\033[93m\"\n",
    "    RED = \"\\033[91m\"\n",
    "    ENDC = \"\\033[0m\"\n",
    "    BOLD = \"\\033[1m\"\n",
    "    UNDERLINE = \"\\033[4m\""
   ]
  },
  {
   "cell_type": "markdown",
   "id": "d879943b",
   "metadata": {
    "papermill": {
     "duration": 0.016292,
     "end_time": "2023-01-27T22:44:47.319581",
     "exception": false,
     "start_time": "2023-01-27T22:44:47.303289",
     "status": "completed"
    },
    "tags": []
   },
   "source": [
    "# Tokenization"
   ]
  },
  {
   "cell_type": "code",
   "execution_count": 8,
   "id": "1cf462f2",
   "metadata": {
    "execution": {
     "iopub.execute_input": "2023-01-27T22:44:47.354244Z",
     "iopub.status.busy": "2023-01-27T22:44:47.353481Z",
     "iopub.status.idle": "2023-01-27T22:44:47.913287Z",
     "shell.execute_reply": "2023-01-27T22:44:47.912316Z"
    },
    "papermill": {
     "duration": 0.580039,
     "end_time": "2023-01-27T22:44:47.916098",
     "exception": false,
     "start_time": "2023-01-27T22:44:47.336059",
     "status": "completed"
    },
    "tags": []
   },
   "outputs": [
    {
     "name": "stderr",
     "output_type": "stream",
     "text": [
      "/opt/conda/lib/python3.7/site-packages/ipykernel/pylab/backend_inline.py:13: DeprecationWarning: `ipykernel.pylab.backend_inline` is deprecated, directly use `matplotlib_inline.backend_inline`\n",
      "  DeprecationWarning,\n"
     ]
    },
    {
     "data": {
      "application/vnd.jupyter.widget-view+json": {
       "model_id": "d26224d9b04940e0a1d3fd08e3c802a6",
       "version_major": 2,
       "version_minor": 0
      },
      "text/plain": [
       "interactive(children=(IntSlider(value=59220, description='i', max=118441), Output()), _dom_classes=('widget-in…"
      ]
     },
     "metadata": {},
     "output_type": "display_data"
    }
   ],
   "source": [
    "from ipywidgets import interact\n",
    "\n",
    "\n",
    "@interact(i=(0, df.shape[0] - 1))\n",
    "def test_tr_print(i):\n",
    "    print(\n",
    "        f'***Title***{df[\"Title\"][i]}\\n{\"*\"*30}\\n***Body***{df[\"Body\"][i]}\\n{\"*\"*30}\\n\\\n",
    "        ***lemma***{df[\"Token_lemma\"][i]}\\n{\"*\"*30}\\n\\\n",
    "        ***bert***{df[\"Token_BERT\"][i]}\\n{\"*\"*30}\\n\\\n",
    "        ***Code***{df[\"code\"][i]}\\n{\"*\"*30}\\n\\\n",
    "        ***Tags***{df.loc[i,0]} {df.loc[i,\"0\"]} {df.loc[i,\"1\"]} {df.loc[i,\"2\"]} {df.loc[i,\"3\"]} {df.loc[i,\"4\"]}'\n",
    "    )"
   ]
  },
  {
   "cell_type": "code",
   "execution_count": 9,
   "id": "9d3e7562",
   "metadata": {
    "execution": {
     "iopub.execute_input": "2023-01-27T22:44:47.956301Z",
     "iopub.status.busy": "2023-01-27T22:44:47.955658Z",
     "iopub.status.idle": "2023-01-27T22:44:48.019433Z",
     "shell.execute_reply": "2023-01-27T22:44:48.018139Z"
    },
    "papermill": {
     "duration": 0.085657,
     "end_time": "2023-01-27T22:44:48.023451",
     "exception": false,
     "start_time": "2023-01-27T22:44:47.937794",
     "status": "completed"
    },
    "tags": []
   },
   "outputs": [
    {
     "name": "stdout",
     "output_type": "stream",
     "text": [
      "0\n"
     ]
    },
    {
     "data": {
      "text/html": [
       "<div>\n",
       "<style scoped>\n",
       "    .dataframe tbody tr th:only-of-type {\n",
       "        vertical-align: middle;\n",
       "    }\n",
       "\n",
       "    .dataframe tbody tr th {\n",
       "        vertical-align: top;\n",
       "    }\n",
       "\n",
       "    .dataframe thead th {\n",
       "        text-align: right;\n",
       "    }\n",
       "</style>\n",
       "<table border=\"1\" class=\"dataframe\">\n",
       "  <thead>\n",
       "    <tr style=\"text-align: right;\">\n",
       "      <th></th>\n",
       "      <th>Title</th>\n",
       "      <th>Body</th>\n",
       "      <th>Token_lemma</th>\n",
       "      <th>0</th>\n",
       "      <th>1</th>\n",
       "      <th>2</th>\n",
       "      <th>3</th>\n",
       "      <th>4</th>\n",
       "    </tr>\n",
       "  </thead>\n",
       "  <tbody>\n",
       "  </tbody>\n",
       "</table>\n",
       "</div>"
      ],
      "text/plain": [
       "Empty DataFrame\n",
       "Columns: [Title, Body, Token_lemma, 0, 1, 2, 3, 4]\n",
       "Index: []"
      ]
     },
     "execution_count": 9,
     "metadata": {},
     "output_type": "execute_result"
    }
   ],
   "source": [
    "print(sum(df[\"Token_lemma\"].isna()))\n",
    "df[df[\"Token_lemma\"].isna()][\n",
    "    [\"Title\", \"Body\", \"Token_lemma\", \"0\", \"1\", \"2\", \"3\", \"4\"]\n",
    "].head(5)"
   ]
  },
  {
   "cell_type": "code",
   "execution_count": 10,
   "id": "f71d172a",
   "metadata": {
    "execution": {
     "iopub.execute_input": "2023-01-27T22:44:48.059981Z",
     "iopub.status.busy": "2023-01-27T22:44:48.059200Z",
     "iopub.status.idle": "2023-01-27T22:44:48.116441Z",
     "shell.execute_reply": "2023-01-27T22:44:48.115061Z"
    },
    "papermill": {
     "duration": 0.077868,
     "end_time": "2023-01-27T22:44:48.118891",
     "exception": false,
     "start_time": "2023-01-27T22:44:48.041023",
     "status": "completed"
    },
    "tags": []
   },
   "outputs": [
    {
     "name": "stdout",
     "output_type": "stream",
     "text": [
      "0\n"
     ]
    },
    {
     "data": {
      "text/html": [
       "<div>\n",
       "<style scoped>\n",
       "    .dataframe tbody tr th:only-of-type {\n",
       "        vertical-align: middle;\n",
       "    }\n",
       "\n",
       "    .dataframe tbody tr th {\n",
       "        vertical-align: top;\n",
       "    }\n",
       "\n",
       "    .dataframe thead th {\n",
       "        text-align: right;\n",
       "    }\n",
       "</style>\n",
       "<table border=\"1\" class=\"dataframe\">\n",
       "  <thead>\n",
       "    <tr style=\"text-align: right;\">\n",
       "      <th></th>\n",
       "      <th>Title</th>\n",
       "      <th>Body</th>\n",
       "      <th>Token_BERT</th>\n",
       "      <th>code</th>\n",
       "    </tr>\n",
       "  </thead>\n",
       "  <tbody>\n",
       "  </tbody>\n",
       "</table>\n",
       "</div>"
      ],
      "text/plain": [
       "Empty DataFrame\n",
       "Columns: [Title, Body, Token_BERT, code]\n",
       "Index: []"
      ]
     },
     "execution_count": 10,
     "metadata": {},
     "output_type": "execute_result"
    }
   ],
   "source": [
    "print(sum(df[\"Token_BERT\"].isna()))\n",
    "df[df[\"Token_BERT\"].isna()][\n",
    "    [\"Title\", \"Body\", \"Token_BERT\", \"code\"]\n",
    "].head(5)"
   ]
  },
  {
   "cell_type": "code",
   "execution_count": 11,
   "id": "5090a581",
   "metadata": {
    "execution": {
     "iopub.execute_input": "2023-01-27T22:44:48.154509Z",
     "iopub.status.busy": "2023-01-27T22:44:48.154255Z",
     "iopub.status.idle": "2023-01-27T22:44:48.301496Z",
     "shell.execute_reply": "2023-01-27T22:44:48.300263Z"
    },
    "papermill": {
     "duration": 0.167379,
     "end_time": "2023-01-27T22:44:48.303684",
     "exception": false,
     "start_time": "2023-01-27T22:44:48.136305",
     "status": "completed"
    },
    "tags": []
   },
   "outputs": [
    {
     "name": "stdout",
     "output_type": "stream",
     "text": [
      "taille 21\n",
      "java c# javascript python android c++ ios html php .net jquery css objective-c c sql iphone asp.net mysql linux node.js git\n"
     ]
    }
   ],
   "source": [
    "tags = df[[\"0\", \"1\", \"2\", \"3\", \"4\", \"5\"]].stack()\n",
    "target_names = [\n",
    "    tag\n",
    "    for tag, freq in tags.reset_index(drop=True).value_counts(normalize=True).items()\n",
    "    if freq > description[\"target_min_freq\"]\n",
    "]\n",
    "if description[\"target_nb_max\"] and len(target_names)>description[\"target_nb_max\"]:\n",
    "    target_names = target_names[0:description[\"target_nb_max\"]] + [\"git\"]\n",
    "print(f\"taille {len(target_names)}\\n{' '.join(target_names)}\")"
   ]
  },
  {
   "cell_type": "code",
   "execution_count": 12,
   "id": "19dc97f7",
   "metadata": {
    "execution": {
     "iopub.execute_input": "2023-01-27T22:44:48.340299Z",
     "iopub.status.busy": "2023-01-27T22:44:48.339490Z",
     "iopub.status.idle": "2023-01-27T22:44:48.353188Z",
     "shell.execute_reply": "2023-01-27T22:44:48.352222Z"
    },
    "papermill": {
     "duration": 0.033797,
     "end_time": "2023-01-27T22:44:48.355208",
     "exception": false,
     "start_time": "2023-01-27T22:44:48.321411",
     "status": "completed"
    },
    "tags": []
   },
   "outputs": [],
   "source": [
    "# Enregistrement des paramétres avec la liste des tags a predire\n",
    "description[\"target_names\"] = target_names\n",
    "with open(\"/kaggle/working/description.json\", \"w\") as outfile:\n",
    "    json.dump(description, outfile)"
   ]
  },
  {
   "cell_type": "code",
   "execution_count": 13,
   "id": "ed0b39fd",
   "metadata": {
    "execution": {
     "iopub.execute_input": "2023-01-27T22:44:48.390987Z",
     "iopub.status.busy": "2023-01-27T22:44:48.390204Z",
     "iopub.status.idle": "2023-01-27T22:44:48.420998Z",
     "shell.execute_reply": "2023-01-27T22:44:48.419982Z"
    },
    "papermill": {
     "duration": 0.051496,
     "end_time": "2023-01-27T22:44:48.423712",
     "exception": false,
     "start_time": "2023-01-27T22:44:48.372216",
     "status": "completed"
    },
    "tags": []
   },
   "outputs": [
    {
     "data": {
      "text/html": [
       "<div>\n",
       "<style scoped>\n",
       "    .dataframe tbody tr th:only-of-type {\n",
       "        vertical-align: middle;\n",
       "    }\n",
       "\n",
       "    .dataframe tbody tr th {\n",
       "        vertical-align: top;\n",
       "    }\n",
       "\n",
       "    .dataframe thead th {\n",
       "        text-align: right;\n",
       "    }\n",
       "</style>\n",
       "<table border=\"1\" class=\"dataframe\">\n",
       "  <thead>\n",
       "    <tr style=\"text-align: right;\">\n",
       "      <th></th>\n",
       "      <th>javascript</th>\n",
       "      <th>java</th>\n",
       "      <th>c#</th>\n",
       "      <th>python</th>\n",
       "      <th>html</th>\n",
       "      <th>git</th>\n",
       "      <th>php</th>\n",
       "    </tr>\n",
       "  </thead>\n",
       "  <tbody>\n",
       "    <tr>\n",
       "      <th>0</th>\n",
       "      <td>False</td>\n",
       "      <td>True</td>\n",
       "      <td>False</td>\n",
       "      <td>False</td>\n",
       "      <td>False</td>\n",
       "      <td>False</td>\n",
       "      <td>False</td>\n",
       "    </tr>\n",
       "    <tr>\n",
       "      <th>1</th>\n",
       "      <td>False</td>\n",
       "      <td>False</td>\n",
       "      <td>False</td>\n",
       "      <td>False</td>\n",
       "      <td>False</td>\n",
       "      <td>True</td>\n",
       "      <td>False</td>\n",
       "    </tr>\n",
       "    <tr>\n",
       "      <th>2</th>\n",
       "      <td>False</td>\n",
       "      <td>False</td>\n",
       "      <td>False</td>\n",
       "      <td>False</td>\n",
       "      <td>False</td>\n",
       "      <td>True</td>\n",
       "      <td>False</td>\n",
       "    </tr>\n",
       "    <tr>\n",
       "      <th>3</th>\n",
       "      <td>False</td>\n",
       "      <td>False</td>\n",
       "      <td>False</td>\n",
       "      <td>False</td>\n",
       "      <td>False</td>\n",
       "      <td>True</td>\n",
       "      <td>False</td>\n",
       "    </tr>\n",
       "    <tr>\n",
       "      <th>4</th>\n",
       "      <td>False</td>\n",
       "      <td>False</td>\n",
       "      <td>False</td>\n",
       "      <td>False</td>\n",
       "      <td>False</td>\n",
       "      <td>False</td>\n",
       "      <td>False</td>\n",
       "    </tr>\n",
       "    <tr>\n",
       "      <th>5</th>\n",
       "      <td>False</td>\n",
       "      <td>False</td>\n",
       "      <td>False</td>\n",
       "      <td>False</td>\n",
       "      <td>False</td>\n",
       "      <td>False</td>\n",
       "      <td>False</td>\n",
       "    </tr>\n",
       "    <tr>\n",
       "      <th>6</th>\n",
       "      <td>False</td>\n",
       "      <td>False</td>\n",
       "      <td>False</td>\n",
       "      <td>False</td>\n",
       "      <td>False</td>\n",
       "      <td>True</td>\n",
       "      <td>False</td>\n",
       "    </tr>\n",
       "    <tr>\n",
       "      <th>7</th>\n",
       "      <td>True</td>\n",
       "      <td>False</td>\n",
       "      <td>False</td>\n",
       "      <td>False</td>\n",
       "      <td>False</td>\n",
       "      <td>False</td>\n",
       "      <td>False</td>\n",
       "    </tr>\n",
       "    <tr>\n",
       "      <th>8</th>\n",
       "      <td>True</td>\n",
       "      <td>False</td>\n",
       "      <td>False</td>\n",
       "      <td>False</td>\n",
       "      <td>False</td>\n",
       "      <td>False</td>\n",
       "      <td>False</td>\n",
       "    </tr>\n",
       "    <tr>\n",
       "      <th>9</th>\n",
       "      <td>False</td>\n",
       "      <td>False</td>\n",
       "      <td>False</td>\n",
       "      <td>True</td>\n",
       "      <td>False</td>\n",
       "      <td>False</td>\n",
       "      <td>False</td>\n",
       "    </tr>\n",
       "  </tbody>\n",
       "</table>\n",
       "</div>"
      ],
      "text/plain": [
       "   javascript   java     c#  python   html    git    php\n",
       "0       False   True  False   False  False  False  False\n",
       "1       False  False  False   False  False   True  False\n",
       "2       False  False  False   False  False   True  False\n",
       "3       False  False  False   False  False   True  False\n",
       "4       False  False  False   False  False  False  False\n",
       "5       False  False  False   False  False  False  False\n",
       "6       False  False  False   False  False   True  False\n",
       "7        True  False  False   False  False  False  False\n",
       "8        True  False  False   False  False  False  False\n",
       "9       False  False  False    True  False  False  False"
      ]
     },
     "execution_count": 13,
     "metadata": {},
     "output_type": "execute_result"
    }
   ],
   "source": [
    "p5_nlp_utils.Commun.tags_are_in(\n",
    "    df[0:10], [\"javascript\", \"java\", \"c#\", \"python\", \"html\", \"git\", \"php\"]\n",
    ")"
   ]
  },
  {
   "cell_type": "markdown",
   "id": "cc962593",
   "metadata": {
    "papermill": {
     "duration": 0.017505,
     "end_time": "2023-01-27T22:44:48.458561",
     "exception": false,
     "start_time": "2023-01-27T22:44:48.441056",
     "status": "completed"
    },
    "tags": []
   },
   "source": [
    "## Separation train/test"
   ]
  },
  {
   "cell_type": "code",
   "execution_count": 14,
   "id": "ee108bdd",
   "metadata": {
    "execution": {
     "iopub.execute_input": "2023-01-27T22:44:48.494412Z",
     "iopub.status.busy": "2023-01-27T22:44:48.494154Z",
     "iopub.status.idle": "2023-01-27T22:44:49.697164Z",
     "shell.execute_reply": "2023-01-27T22:44:49.696164Z"
    },
    "papermill": {
     "duration": 1.224056,
     "end_time": "2023-01-27T22:44:49.699829",
     "exception": false,
     "start_time": "2023-01-27T22:44:48.475773",
     "status": "completed"
    },
    "tags": []
   },
   "outputs": [
    {
     "name": "stdout",
     "output_type": "stream",
     "text": [
      "99.99831% des questions ont au moins 2tokens\n"
     ]
    }
   ],
   "source": [
    "if description[\"BERT\"][\"actif\"] and description[\"BERT\"][\"cleaning\"] ==\"raw\": #essaie sans nettoyer le texte pour BERT\n",
    "    df[\"Token\"] = (\n",
    "        df[\"Title\"].fillna(\"\").str.strip() + \" \" + df[\"Body\"].fillna(\"\").str.strip()\n",
    "    )\n",
    "elif description[\"BERT\"][\"actif\"] and description[\"BERT\"][\"cleaning\"] ==\"v2\":\n",
    "    df[\"Token\"] = df[\"Token_BERT\"]\n",
    "else:\n",
    "    df[\"Token\"] = df[\"Token_lemma\"]\n",
    "#     df[\"Token\"] = df[\"Title_clean\"].fillna(\"\") + df[\"Body_clean\"].fillna(\"\")\n",
    "    print(\n",
    "        f\"{len(df[[len(token.split()) > 1 for token in df['Token']]])/len(df):.5%} des questions ont au moins 2tokens\"\n",
    "        if len(df[df[\"Token\"] == \"\"]) == 0\n",
    "        else f\"{len(df[df['Token'] == ''])} questions n'ont pas de token\"\n",
    "    )\n",
    "X_train, X_test, y_train, y_test = model_selection.train_test_split(\n",
    "    df[\"Token\"], p5_nlp_utils.Commun.tags_are_in(df, target_names), random_state=42\n",
    ")"
   ]
  },
  {
   "cell_type": "markdown",
   "id": "2ffa3fe9",
   "metadata": {
    "papermill": {
     "duration": 0.017266,
     "end_time": "2023-01-27T22:44:49.735751",
     "exception": false,
     "start_time": "2023-01-27T22:44:49.718485",
     "status": "completed"
    },
    "tags": []
   },
   "source": [
    "## Nombre et % de chaque tag dans train et test\n",
    "Une question peut avoir plusieur tag donc la somme est supérieur aux nombres de ligne"
   ]
  },
  {
   "cell_type": "code",
   "execution_count": 15,
   "id": "bb51e5f9",
   "metadata": {
    "execution": {
     "iopub.execute_input": "2023-01-27T22:44:49.771832Z",
     "iopub.status.busy": "2023-01-27T22:44:49.771528Z",
     "iopub.status.idle": "2023-01-27T22:44:49.816833Z",
     "shell.execute_reply": "2023-01-27T22:44:49.815945Z"
    },
    "papermill": {
     "duration": 0.065726,
     "end_time": "2023-01-27T22:44:49.818765",
     "exception": false,
     "start_time": "2023-01-27T22:44:49.753039",
     "status": "completed"
    },
    "tags": []
   },
   "outputs": [
    {
     "name": "stdout",
     "output_type": "stream",
     "text": [
      "|tag positif  nb train   %    |  test   %   |\n",
      "|\u001b[1mjava          \u001b[0m\u001b[92m10706   \u001b[0m12.05% | \u001b[92m3558 \u001b[0m 12.02%|\n",
      "|\u001b[1mc#            \u001b[0m\u001b[92m10484   \u001b[0m11.80% | \u001b[92m3473 \u001b[0m 11.73%|\n",
      "|\u001b[1mjavascript    \u001b[0m\u001b[92m10451   \u001b[0m11.77% | \u001b[92m3356 \u001b[0m 11.33%|\n",
      "|\u001b[1mpython        \u001b[0m\u001b[92m7652    \u001b[0m08.61% | \u001b[92m2612 \u001b[0m 08.82%|\n",
      "|\u001b[1mandroid       \u001b[0m\u001b[92m6216    \u001b[0m07.00% | \u001b[92m2045 \u001b[0m 06.91%|\n",
      "|\u001b[1mc++           \u001b[0m\u001b[92m5893    \u001b[0m06.63% | \u001b[92m1964 \u001b[0m 06.63%|\n",
      "|\u001b[1mios           \u001b[0m\u001b[92m5554    \u001b[0m06.25% | \u001b[92m1840 \u001b[0m 06.21%|\n",
      "|\u001b[1mhtml          \u001b[0m\u001b[92m5198    \u001b[0m05.85% | \u001b[92m1755 \u001b[0m 05.93%|\n",
      "|\u001b[1mphp           \u001b[0m\u001b[92m4935    \u001b[0m05.56% | \u001b[92m1627 \u001b[0m 05.49%|\n",
      "|\u001b[1m.net          \u001b[0m\u001b[92m4746    \u001b[0m05.34% | \u001b[92m1569 \u001b[0m 05.30%|\n",
      "|\u001b[1mjquery        \u001b[0m\u001b[92m4762    \u001b[0m05.36% | \u001b[92m1538 \u001b[0m 05.19%|\n",
      "|\u001b[1mcss           \u001b[0m\u001b[92m3350    \u001b[0m03.77% | \u001b[92m1131 \u001b[0m 03.82%|\n",
      "|\u001b[1mobjective-c   \u001b[0m\u001b[92m2736    \u001b[0m03.08% | \u001b[92m888  \u001b[0m 03.00%|\n",
      "|\u001b[1mc             \u001b[0m\u001b[92m2734    \u001b[0m03.08% | \u001b[92m885  \u001b[0m 02.99%|\n",
      "|\u001b[1msql           \u001b[0m\u001b[92m2665    \u001b[0m03.00% | \u001b[92m870  \u001b[0m 02.94%|\n",
      "|\u001b[1miphone        \u001b[0m\u001b[92m2479    \u001b[0m02.79% | \u001b[92m807  \u001b[0m 02.73%|\n",
      "|\u001b[1masp.net       \u001b[0m\u001b[92m2424    \u001b[0m02.73% | \u001b[92m805  \u001b[0m 02.72%|\n",
      "|\u001b[1mmysql         \u001b[0m\u001b[92m2107    \u001b[0m02.37% | \u001b[92m685  \u001b[0m 02.31%|\n",
      "|\u001b[1mlinux         \u001b[0m\u001b[92m2082    \u001b[0m02.34% | \u001b[92m680  \u001b[0m 02.30%|\n",
      "|\u001b[1mnode.js       \u001b[0m\u001b[92m2034    \u001b[0m02.29% | \u001b[92m682  \u001b[0m 02.30%|\n",
      "|\u001b[1mgit           \u001b[0m\u001b[92m840     \u001b[0m00.95% | \u001b[92m274  \u001b[0m 00.93%|\n"
     ]
    }
   ],
   "source": [
    "print(\"|tag positif  nb train   %    |  test   %   |\")\n",
    "for column in y_train.columns:\n",
    "    nb_positif_train = y_train[y_train[column]].shape[0]\n",
    "    nb_positif_test = y_test[y_test[column]].shape[0]\n",
    "    print(\n",
    "        f\"|{colors.BOLD}{column: <14}{colors.ENDC}{colors.GREEN}{nb_positif_train: <8}{colors.ENDC}{(nb_positif_train/y_train.shape[0]):06.2%} | {colors.GREEN}{nb_positif_test:<5}{colors.ENDC} {nb_positif_test/y_test.shape[0]:06.2%}|\"\n",
    "    )"
   ]
  },
  {
   "cell_type": "markdown",
   "id": "134feca5",
   "metadata": {
    "papermill": {
     "duration": 0.017297,
     "end_time": "2023-01-27T22:44:49.853548",
     "exception": false,
     "start_time": "2023-01-27T22:44:49.836251",
     "status": "completed"
    },
    "tags": []
   },
   "source": [
    "### Regroupement des tags pour visualisation tsne:\n",
    "En une collone unique pour représenter tout les tags dans 1graph, avec priorité pour les tags les moins fréquents  \n",
    "Ici la somme = nombre de ligne  "
   ]
  },
  {
   "cell_type": "code",
   "execution_count": 16,
   "id": "be6bdd78",
   "metadata": {
    "execution": {
     "iopub.execute_input": "2023-01-27T22:44:49.889658Z",
     "iopub.status.busy": "2023-01-27T22:44:49.889391Z",
     "iopub.status.idle": "2023-01-27T22:45:17.489437Z",
     "shell.execute_reply": "2023-01-27T22:45:17.487979Z"
    },
    "papermill": {
     "duration": 27.621196,
     "end_time": "2023-01-27T22:45:17.492239",
     "exception": false,
     "start_time": "2023-01-27T22:44:49.871043",
     "status": "completed"
    },
    "tags": []
   },
   "outputs": [
    {
     "name": "stdout",
     "output_type": "stream",
     "text": [
      "CPU times: user 27.5 s, sys: 6.91 ms, total: 27.5 s\n",
      "Wall time: 27.6 s\n"
     ]
    },
    {
     "data": {
      "text/plain": [
       "Non Suivi      18192\n",
       "java            8114\n",
       "python          6900\n",
       "android         5595\n",
       "c#              5212\n",
       "c++             4570\n",
       ".net            4188\n",
       "javascript      3734\n",
       "jquery          3411\n",
       "php             3322\n",
       "css             3227\n",
       "ios             2745\n",
       "iphone          2470\n",
       "asp.net         2402\n",
       "c               2385\n",
       "sql             2081\n",
       "mysql           2038\n",
       "linux           2038\n",
       "node.js         2010\n",
       "html            1715\n",
       "objective-c     1642\n",
       "git              840\n",
       "dtype: int64"
      ]
     },
     "execution_count": 16,
     "metadata": {},
     "output_type": "execute_result"
    }
   ],
   "source": [
    "%%time\n",
    "y_train_monodim = pd.Series(index=y_train.index, dtype=bool)\n",
    "for tag in y_train.columns:\n",
    "    y_train_monodim = (\n",
    "        y_train[tag]\n",
    "        .replace(to_replace=True, value=tag)\n",
    "        .combine(y_train_monodim, lambda s1, s2: s1 if s1 else s2)\n",
    "    )\n",
    "y_train_monodim.replace(to_replace=False, value=\"Non Suivi\", inplace=True)\n",
    "y_train_monodim.value_counts()"
   ]
  },
  {
   "cell_type": "markdown",
   "id": "5f342d14",
   "metadata": {
    "papermill": {
     "duration": 0.017603,
     "end_time": "2023-01-27T22:45:17.528162",
     "exception": false,
     "start_time": "2023-01-27T22:45:17.510559",
     "status": "completed"
    },
    "tags": []
   },
   "source": [
    "## Approche naïve pour comparer les résultats:\n",
    "    - Valeur la plus fréquente (False)\n",
    "    - Si le tag est présent dans la question"
   ]
  },
  {
   "cell_type": "code",
   "execution_count": 17,
   "id": "432ef77a",
   "metadata": {
    "_kg_hide-output": true,
    "execution": {
     "iopub.execute_input": "2023-01-27T22:45:17.565253Z",
     "iopub.status.busy": "2023-01-27T22:45:17.564531Z",
     "iopub.status.idle": "2023-01-27T22:45:17.641806Z",
     "shell.execute_reply": "2023-01-27T22:45:17.640963Z"
    },
    "papermill": {
     "duration": 0.098114,
     "end_time": "2023-01-27T22:45:17.643943",
     "exception": false,
     "start_time": "2023-01-27T22:45:17.545829",
     "status": "completed"
    },
    "tags": []
   },
   "outputs": [
    {
     "data": {
      "text/html": [
       "<div>\n",
       "<style scoped>\n",
       "    .dataframe tbody tr th:only-of-type {\n",
       "        vertical-align: middle;\n",
       "    }\n",
       "\n",
       "    .dataframe tbody tr th {\n",
       "        vertical-align: top;\n",
       "    }\n",
       "\n",
       "    .dataframe thead th {\n",
       "        text-align: right;\n",
       "    }\n",
       "</style>\n",
       "<table border=\"1\" class=\"dataframe\">\n",
       "  <thead>\n",
       "    <tr style=\"text-align: right;\">\n",
       "      <th></th>\n",
       "      <th>precision</th>\n",
       "      <th>recall</th>\n",
       "      <th>f1-score</th>\n",
       "      <th>support</th>\n",
       "    </tr>\n",
       "  </thead>\n",
       "  <tbody>\n",
       "    <tr>\n",
       "      <th>java</th>\n",
       "      <td>1.0</td>\n",
       "      <td>0.000000</td>\n",
       "      <td>0.000000</td>\n",
       "      <td>3558.0</td>\n",
       "    </tr>\n",
       "    <tr>\n",
       "      <th>c#</th>\n",
       "      <td>1.0</td>\n",
       "      <td>0.000000</td>\n",
       "      <td>0.000000</td>\n",
       "      <td>3473.0</td>\n",
       "    </tr>\n",
       "    <tr>\n",
       "      <th>javascript</th>\n",
       "      <td>1.0</td>\n",
       "      <td>0.000000</td>\n",
       "      <td>0.000000</td>\n",
       "      <td>3356.0</td>\n",
       "    </tr>\n",
       "    <tr>\n",
       "      <th>python</th>\n",
       "      <td>1.0</td>\n",
       "      <td>0.000000</td>\n",
       "      <td>0.000000</td>\n",
       "      <td>2612.0</td>\n",
       "    </tr>\n",
       "    <tr>\n",
       "      <th>android</th>\n",
       "      <td>1.0</td>\n",
       "      <td>0.000000</td>\n",
       "      <td>0.000000</td>\n",
       "      <td>2045.0</td>\n",
       "    </tr>\n",
       "    <tr>\n",
       "      <th>c++</th>\n",
       "      <td>1.0</td>\n",
       "      <td>0.000000</td>\n",
       "      <td>0.000000</td>\n",
       "      <td>1964.0</td>\n",
       "    </tr>\n",
       "    <tr>\n",
       "      <th>ios</th>\n",
       "      <td>1.0</td>\n",
       "      <td>0.000000</td>\n",
       "      <td>0.000000</td>\n",
       "      <td>1840.0</td>\n",
       "    </tr>\n",
       "    <tr>\n",
       "      <th>html</th>\n",
       "      <td>1.0</td>\n",
       "      <td>0.000000</td>\n",
       "      <td>0.000000</td>\n",
       "      <td>1755.0</td>\n",
       "    </tr>\n",
       "    <tr>\n",
       "      <th>php</th>\n",
       "      <td>1.0</td>\n",
       "      <td>0.000000</td>\n",
       "      <td>0.000000</td>\n",
       "      <td>1627.0</td>\n",
       "    </tr>\n",
       "    <tr>\n",
       "      <th>.net</th>\n",
       "      <td>1.0</td>\n",
       "      <td>0.000000</td>\n",
       "      <td>0.000000</td>\n",
       "      <td>1569.0</td>\n",
       "    </tr>\n",
       "    <tr>\n",
       "      <th>jquery</th>\n",
       "      <td>1.0</td>\n",
       "      <td>0.000000</td>\n",
       "      <td>0.000000</td>\n",
       "      <td>1538.0</td>\n",
       "    </tr>\n",
       "    <tr>\n",
       "      <th>css</th>\n",
       "      <td>1.0</td>\n",
       "      <td>0.000000</td>\n",
       "      <td>0.000000</td>\n",
       "      <td>1131.0</td>\n",
       "    </tr>\n",
       "    <tr>\n",
       "      <th>objective-c</th>\n",
       "      <td>1.0</td>\n",
       "      <td>0.000000</td>\n",
       "      <td>0.000000</td>\n",
       "      <td>888.0</td>\n",
       "    </tr>\n",
       "    <tr>\n",
       "      <th>c</th>\n",
       "      <td>1.0</td>\n",
       "      <td>0.000000</td>\n",
       "      <td>0.000000</td>\n",
       "      <td>885.0</td>\n",
       "    </tr>\n",
       "    <tr>\n",
       "      <th>sql</th>\n",
       "      <td>1.0</td>\n",
       "      <td>0.000000</td>\n",
       "      <td>0.000000</td>\n",
       "      <td>870.0</td>\n",
       "    </tr>\n",
       "    <tr>\n",
       "      <th>iphone</th>\n",
       "      <td>1.0</td>\n",
       "      <td>0.000000</td>\n",
       "      <td>0.000000</td>\n",
       "      <td>807.0</td>\n",
       "    </tr>\n",
       "    <tr>\n",
       "      <th>asp.net</th>\n",
       "      <td>1.0</td>\n",
       "      <td>0.000000</td>\n",
       "      <td>0.000000</td>\n",
       "      <td>805.0</td>\n",
       "    </tr>\n",
       "    <tr>\n",
       "      <th>mysql</th>\n",
       "      <td>1.0</td>\n",
       "      <td>0.000000</td>\n",
       "      <td>0.000000</td>\n",
       "      <td>685.0</td>\n",
       "    </tr>\n",
       "    <tr>\n",
       "      <th>linux</th>\n",
       "      <td>1.0</td>\n",
       "      <td>0.000000</td>\n",
       "      <td>0.000000</td>\n",
       "      <td>680.0</td>\n",
       "    </tr>\n",
       "    <tr>\n",
       "      <th>node.js</th>\n",
       "      <td>1.0</td>\n",
       "      <td>0.000000</td>\n",
       "      <td>0.000000</td>\n",
       "      <td>682.0</td>\n",
       "    </tr>\n",
       "    <tr>\n",
       "      <th>git</th>\n",
       "      <td>1.0</td>\n",
       "      <td>0.000000</td>\n",
       "      <td>0.000000</td>\n",
       "      <td>274.0</td>\n",
       "    </tr>\n",
       "    <tr>\n",
       "      <th>micro avg</th>\n",
       "      <td>1.0</td>\n",
       "      <td>0.000000</td>\n",
       "      <td>0.000000</td>\n",
       "      <td>33044.0</td>\n",
       "    </tr>\n",
       "    <tr>\n",
       "      <th>macro avg</th>\n",
       "      <td>1.0</td>\n",
       "      <td>0.000000</td>\n",
       "      <td>0.000000</td>\n",
       "      <td>33044.0</td>\n",
       "    </tr>\n",
       "    <tr>\n",
       "      <th>weighted avg</th>\n",
       "      <td>1.0</td>\n",
       "      <td>0.000000</td>\n",
       "      <td>0.000000</td>\n",
       "      <td>33044.0</td>\n",
       "    </tr>\n",
       "    <tr>\n",
       "      <th>samples avg</th>\n",
       "      <td>1.0</td>\n",
       "      <td>0.207322</td>\n",
       "      <td>0.207322</td>\n",
       "      <td>33044.0</td>\n",
       "    </tr>\n",
       "  </tbody>\n",
       "</table>\n",
       "</div>"
      ],
      "text/plain": [
       "              precision    recall  f1-score  support\n",
       "java                1.0  0.000000  0.000000   3558.0\n",
       "c#                  1.0  0.000000  0.000000   3473.0\n",
       "javascript          1.0  0.000000  0.000000   3356.0\n",
       "python              1.0  0.000000  0.000000   2612.0\n",
       "android             1.0  0.000000  0.000000   2045.0\n",
       "c++                 1.0  0.000000  0.000000   1964.0\n",
       "ios                 1.0  0.000000  0.000000   1840.0\n",
       "html                1.0  0.000000  0.000000   1755.0\n",
       "php                 1.0  0.000000  0.000000   1627.0\n",
       ".net                1.0  0.000000  0.000000   1569.0\n",
       "jquery              1.0  0.000000  0.000000   1538.0\n",
       "css                 1.0  0.000000  0.000000   1131.0\n",
       "objective-c         1.0  0.000000  0.000000    888.0\n",
       "c                   1.0  0.000000  0.000000    885.0\n",
       "sql                 1.0  0.000000  0.000000    870.0\n",
       "iphone              1.0  0.000000  0.000000    807.0\n",
       "asp.net             1.0  0.000000  0.000000    805.0\n",
       "mysql               1.0  0.000000  0.000000    685.0\n",
       "linux               1.0  0.000000  0.000000    680.0\n",
       "node.js             1.0  0.000000  0.000000    682.0\n",
       "git                 1.0  0.000000  0.000000    274.0\n",
       "micro avg           1.0  0.000000  0.000000  33044.0\n",
       "macro avg           1.0  0.000000  0.000000  33044.0\n",
       "weighted avg        1.0  0.000000  0.000000  33044.0\n",
       "samples avg         1.0  0.207322  0.207322  33044.0"
      ]
     },
     "execution_count": 17,
     "metadata": {},
     "output_type": "execute_result"
    }
   ],
   "source": [
    "p5_nlp_utils.Commun.save_score(\n",
    "    y_true=y_test,\n",
    "    y_pred=y_test.replace([True], False),\n",
    "    target_names=target_names,\n",
    "    zero_division=1,  # because TruePositif=0\n",
    ")"
   ]
  },
  {
   "cell_type": "markdown",
   "id": "eee4d6ce",
   "metadata": {
    "papermill": {
     "duration": 0.017586,
     "end_time": "2023-01-27T22:45:17.680140",
     "exception": false,
     "start_time": "2023-01-27T22:45:17.662554",
     "status": "completed"
    },
    "tags": []
   },
   "source": [
    "Avec prédire toujours vrai"
   ]
  },
  {
   "cell_type": "code",
   "execution_count": 18,
   "id": "25474e9d",
   "metadata": {
    "_kg_hide-input": false,
    "_kg_hide-output": true,
    "execution": {
     "iopub.execute_input": "2023-01-27T22:45:17.717290Z",
     "iopub.status.busy": "2023-01-27T22:45:17.716662Z",
     "iopub.status.idle": "2023-01-27T22:45:17.963801Z",
     "shell.execute_reply": "2023-01-27T22:45:17.962829Z"
    },
    "papermill": {
     "duration": 0.26821,
     "end_time": "2023-01-27T22:45:17.966047",
     "exception": false,
     "start_time": "2023-01-27T22:45:17.697837",
     "status": "completed"
    },
    "tags": []
   },
   "outputs": [
    {
     "data": {
      "text/html": [
       "<div>\n",
       "<style scoped>\n",
       "    .dataframe tbody tr th:only-of-type {\n",
       "        vertical-align: middle;\n",
       "    }\n",
       "\n",
       "    .dataframe tbody tr th {\n",
       "        vertical-align: top;\n",
       "    }\n",
       "\n",
       "    .dataframe thead th {\n",
       "        text-align: right;\n",
       "    }\n",
       "</style>\n",
       "<table border=\"1\" class=\"dataframe\">\n",
       "  <thead>\n",
       "    <tr style=\"text-align: right;\">\n",
       "      <th></th>\n",
       "      <th>precision</th>\n",
       "      <th>recall</th>\n",
       "      <th>f1-score</th>\n",
       "      <th>support</th>\n",
       "    </tr>\n",
       "  </thead>\n",
       "  <tbody>\n",
       "    <tr>\n",
       "      <th>java</th>\n",
       "      <td>0.120158</td>\n",
       "      <td>1.000000</td>\n",
       "      <td>0.214538</td>\n",
       "      <td>3558.0</td>\n",
       "    </tr>\n",
       "    <tr>\n",
       "      <th>c#</th>\n",
       "      <td>0.117287</td>\n",
       "      <td>1.000000</td>\n",
       "      <td>0.209950</td>\n",
       "      <td>3473.0</td>\n",
       "    </tr>\n",
       "    <tr>\n",
       "      <th>javascript</th>\n",
       "      <td>0.113336</td>\n",
       "      <td>1.000000</td>\n",
       "      <td>0.203598</td>\n",
       "      <td>3356.0</td>\n",
       "    </tr>\n",
       "    <tr>\n",
       "      <th>python</th>\n",
       "      <td>0.088210</td>\n",
       "      <td>1.000000</td>\n",
       "      <td>0.162120</td>\n",
       "      <td>2612.0</td>\n",
       "    </tr>\n",
       "    <tr>\n",
       "      <th>android</th>\n",
       "      <td>0.069062</td>\n",
       "      <td>1.000000</td>\n",
       "      <td>0.129201</td>\n",
       "      <td>2045.0</td>\n",
       "    </tr>\n",
       "    <tr>\n",
       "      <th>c++</th>\n",
       "      <td>0.066327</td>\n",
       "      <td>1.000000</td>\n",
       "      <td>0.124402</td>\n",
       "      <td>1964.0</td>\n",
       "    </tr>\n",
       "    <tr>\n",
       "      <th>ios</th>\n",
       "      <td>0.062139</td>\n",
       "      <td>1.000000</td>\n",
       "      <td>0.117007</td>\n",
       "      <td>1840.0</td>\n",
       "    </tr>\n",
       "    <tr>\n",
       "      <th>html</th>\n",
       "      <td>0.059269</td>\n",
       "      <td>1.000000</td>\n",
       "      <td>0.111905</td>\n",
       "      <td>1755.0</td>\n",
       "    </tr>\n",
       "    <tr>\n",
       "      <th>php</th>\n",
       "      <td>0.054946</td>\n",
       "      <td>1.000000</td>\n",
       "      <td>0.104168</td>\n",
       "      <td>1627.0</td>\n",
       "    </tr>\n",
       "    <tr>\n",
       "      <th>.net</th>\n",
       "      <td>0.052987</td>\n",
       "      <td>1.000000</td>\n",
       "      <td>0.100641</td>\n",
       "      <td>1569.0</td>\n",
       "    </tr>\n",
       "    <tr>\n",
       "      <th>jquery</th>\n",
       "      <td>0.051940</td>\n",
       "      <td>1.000000</td>\n",
       "      <td>0.098751</td>\n",
       "      <td>1538.0</td>\n",
       "    </tr>\n",
       "    <tr>\n",
       "      <th>css</th>\n",
       "      <td>0.038195</td>\n",
       "      <td>1.000000</td>\n",
       "      <td>0.073580</td>\n",
       "      <td>1131.0</td>\n",
       "    </tr>\n",
       "    <tr>\n",
       "      <th>objective-c</th>\n",
       "      <td>0.029989</td>\n",
       "      <td>1.000000</td>\n",
       "      <td>0.058231</td>\n",
       "      <td>888.0</td>\n",
       "    </tr>\n",
       "    <tr>\n",
       "      <th>c</th>\n",
       "      <td>0.029888</td>\n",
       "      <td>1.000000</td>\n",
       "      <td>0.058040</td>\n",
       "      <td>885.0</td>\n",
       "    </tr>\n",
       "    <tr>\n",
       "      <th>sql</th>\n",
       "      <td>0.029381</td>\n",
       "      <td>1.000000</td>\n",
       "      <td>0.057085</td>\n",
       "      <td>870.0</td>\n",
       "    </tr>\n",
       "    <tr>\n",
       "      <th>iphone</th>\n",
       "      <td>0.027253</td>\n",
       "      <td>1.000000</td>\n",
       "      <td>0.053061</td>\n",
       "      <td>807.0</td>\n",
       "    </tr>\n",
       "    <tr>\n",
       "      <th>asp.net</th>\n",
       "      <td>0.027186</td>\n",
       "      <td>1.000000</td>\n",
       "      <td>0.052933</td>\n",
       "      <td>805.0</td>\n",
       "    </tr>\n",
       "    <tr>\n",
       "      <th>mysql</th>\n",
       "      <td>0.023133</td>\n",
       "      <td>1.000000</td>\n",
       "      <td>0.045220</td>\n",
       "      <td>685.0</td>\n",
       "    </tr>\n",
       "    <tr>\n",
       "      <th>linux</th>\n",
       "      <td>0.022964</td>\n",
       "      <td>1.000000</td>\n",
       "      <td>0.044898</td>\n",
       "      <td>680.0</td>\n",
       "    </tr>\n",
       "    <tr>\n",
       "      <th>node.js</th>\n",
       "      <td>0.023032</td>\n",
       "      <td>1.000000</td>\n",
       "      <td>0.045027</td>\n",
       "      <td>682.0</td>\n",
       "    </tr>\n",
       "    <tr>\n",
       "      <th>git</th>\n",
       "      <td>0.009253</td>\n",
       "      <td>1.000000</td>\n",
       "      <td>0.018337</td>\n",
       "      <td>274.0</td>\n",
       "    </tr>\n",
       "    <tr>\n",
       "      <th>micro avg</th>\n",
       "      <td>0.053140</td>\n",
       "      <td>1.000000</td>\n",
       "      <td>0.100917</td>\n",
       "      <td>33044.0</td>\n",
       "    </tr>\n",
       "    <tr>\n",
       "      <th>macro avg</th>\n",
       "      <td>0.053140</td>\n",
       "      <td>1.000000</td>\n",
       "      <td>0.099176</td>\n",
       "      <td>33044.0</td>\n",
       "    </tr>\n",
       "    <tr>\n",
       "      <th>weighted avg</th>\n",
       "      <td>0.072731</td>\n",
       "      <td>1.000000</td>\n",
       "      <td>0.133680</td>\n",
       "      <td>33044.0</td>\n",
       "    </tr>\n",
       "    <tr>\n",
       "      <th>samples avg</th>\n",
       "      <td>0.053140</td>\n",
       "      <td>0.792678</td>\n",
       "      <td>0.098364</td>\n",
       "      <td>33044.0</td>\n",
       "    </tr>\n",
       "  </tbody>\n",
       "</table>\n",
       "</div>"
      ],
      "text/plain": [
       "              precision    recall  f1-score  support\n",
       "java           0.120158  1.000000  0.214538   3558.0\n",
       "c#             0.117287  1.000000  0.209950   3473.0\n",
       "javascript     0.113336  1.000000  0.203598   3356.0\n",
       "python         0.088210  1.000000  0.162120   2612.0\n",
       "android        0.069062  1.000000  0.129201   2045.0\n",
       "c++            0.066327  1.000000  0.124402   1964.0\n",
       "ios            0.062139  1.000000  0.117007   1840.0\n",
       "html           0.059269  1.000000  0.111905   1755.0\n",
       "php            0.054946  1.000000  0.104168   1627.0\n",
       ".net           0.052987  1.000000  0.100641   1569.0\n",
       "jquery         0.051940  1.000000  0.098751   1538.0\n",
       "css            0.038195  1.000000  0.073580   1131.0\n",
       "objective-c    0.029989  1.000000  0.058231    888.0\n",
       "c              0.029888  1.000000  0.058040    885.0\n",
       "sql            0.029381  1.000000  0.057085    870.0\n",
       "iphone         0.027253  1.000000  0.053061    807.0\n",
       "asp.net        0.027186  1.000000  0.052933    805.0\n",
       "mysql          0.023133  1.000000  0.045220    685.0\n",
       "linux          0.022964  1.000000  0.044898    680.0\n",
       "node.js        0.023032  1.000000  0.045027    682.0\n",
       "git            0.009253  1.000000  0.018337    274.0\n",
       "micro avg      0.053140  1.000000  0.100917  33044.0\n",
       "macro avg      0.053140  1.000000  0.099176  33044.0\n",
       "weighted avg   0.072731  1.000000  0.133680  33044.0\n",
       "samples avg    0.053140  0.792678  0.098364  33044.0"
      ]
     },
     "execution_count": 18,
     "metadata": {},
     "output_type": "execute_result"
    }
   ],
   "source": [
    "p5_nlp_utils.Commun.save_score(\n",
    "    y_true=y_test, y_pred=y_test.replace([False], True), target_names=target_names\n",
    ")"
   ]
  },
  {
   "cell_type": "markdown",
   "id": "ff0ceb76",
   "metadata": {
    "papermill": {
     "duration": 0.01828,
     "end_time": "2023-01-27T22:45:18.003438",
     "exception": false,
     "start_time": "2023-01-27T22:45:17.985158",
     "status": "completed"
    },
    "tags": []
   },
   "source": [
    "### Methode naive le tag est dans la question:"
   ]
  },
  {
   "cell_type": "code",
   "execution_count": 19,
   "id": "cdbdc36e",
   "metadata": {
    "_kg_hide-input": false,
    "_kg_hide-output": true,
    "execution": {
     "iopub.execute_input": "2023-01-27T22:45:18.041115Z",
     "iopub.status.busy": "2023-01-27T22:45:18.040806Z",
     "iopub.status.idle": "2023-01-27T22:45:18.670847Z",
     "shell.execute_reply": "2023-01-27T22:45:18.669950Z"
    },
    "papermill": {
     "duration": 0.651331,
     "end_time": "2023-01-27T22:45:18.672997",
     "exception": false,
     "start_time": "2023-01-27T22:45:18.021666",
     "status": "completed"
    },
    "tags": []
   },
   "outputs": [
    {
     "data": {
      "text/html": [
       "<div>\n",
       "<style scoped>\n",
       "    .dataframe tbody tr th:only-of-type {\n",
       "        vertical-align: middle;\n",
       "    }\n",
       "\n",
       "    .dataframe tbody tr th {\n",
       "        vertical-align: top;\n",
       "    }\n",
       "\n",
       "    .dataframe thead th {\n",
       "        text-align: right;\n",
       "    }\n",
       "</style>\n",
       "<table border=\"1\" class=\"dataframe\">\n",
       "  <thead>\n",
       "    <tr style=\"text-align: right;\">\n",
       "      <th></th>\n",
       "      <th>0</th>\n",
       "      <th>1</th>\n",
       "      <th>2</th>\n",
       "      <th>3</th>\n",
       "      <th>4</th>\n",
       "      <th>5</th>\n",
       "      <th>6</th>\n",
       "      <th>7</th>\n",
       "      <th>8</th>\n",
       "      <th>9</th>\n",
       "    </tr>\n",
       "  </thead>\n",
       "  <tbody>\n",
       "    <tr>\n",
       "      <th>java</th>\n",
       "      <td>False</td>\n",
       "      <td>False</td>\n",
       "      <td>False</td>\n",
       "      <td>False</td>\n",
       "      <td>True</td>\n",
       "      <td>False</td>\n",
       "      <td>False</td>\n",
       "      <td>False</td>\n",
       "      <td>False</td>\n",
       "      <td>False</td>\n",
       "    </tr>\n",
       "    <tr>\n",
       "      <th>c#</th>\n",
       "      <td>False</td>\n",
       "      <td>False</td>\n",
       "      <td>False</td>\n",
       "      <td>False</td>\n",
       "      <td>False</td>\n",
       "      <td>False</td>\n",
       "      <td>False</td>\n",
       "      <td>False</td>\n",
       "      <td>False</td>\n",
       "      <td>False</td>\n",
       "    </tr>\n",
       "    <tr>\n",
       "      <th>javascript</th>\n",
       "      <td>False</td>\n",
       "      <td>False</td>\n",
       "      <td>False</td>\n",
       "      <td>True</td>\n",
       "      <td>False</td>\n",
       "      <td>False</td>\n",
       "      <td>False</td>\n",
       "      <td>False</td>\n",
       "      <td>False</td>\n",
       "      <td>True</td>\n",
       "    </tr>\n",
       "    <tr>\n",
       "      <th>python</th>\n",
       "      <td>True</td>\n",
       "      <td>False</td>\n",
       "      <td>False</td>\n",
       "      <td>False</td>\n",
       "      <td>False</td>\n",
       "      <td>False</td>\n",
       "      <td>False</td>\n",
       "      <td>False</td>\n",
       "      <td>False</td>\n",
       "      <td>False</td>\n",
       "    </tr>\n",
       "    <tr>\n",
       "      <th>android</th>\n",
       "      <td>False</td>\n",
       "      <td>False</td>\n",
       "      <td>False</td>\n",
       "      <td>False</td>\n",
       "      <td>False</td>\n",
       "      <td>False</td>\n",
       "      <td>False</td>\n",
       "      <td>False</td>\n",
       "      <td>False</td>\n",
       "      <td>False</td>\n",
       "    </tr>\n",
       "    <tr>\n",
       "      <th>c++</th>\n",
       "      <td>False</td>\n",
       "      <td>False</td>\n",
       "      <td>False</td>\n",
       "      <td>False</td>\n",
       "      <td>True</td>\n",
       "      <td>False</td>\n",
       "      <td>False</td>\n",
       "      <td>False</td>\n",
       "      <td>False</td>\n",
       "      <td>False</td>\n",
       "    </tr>\n",
       "    <tr>\n",
       "      <th>ios</th>\n",
       "      <td>False</td>\n",
       "      <td>False</td>\n",
       "      <td>False</td>\n",
       "      <td>False</td>\n",
       "      <td>False</td>\n",
       "      <td>False</td>\n",
       "      <td>False</td>\n",
       "      <td>False</td>\n",
       "      <td>False</td>\n",
       "      <td>False</td>\n",
       "    </tr>\n",
       "    <tr>\n",
       "      <th>html</th>\n",
       "      <td>False</td>\n",
       "      <td>False</td>\n",
       "      <td>False</td>\n",
       "      <td>False</td>\n",
       "      <td>False</td>\n",
       "      <td>False</td>\n",
       "      <td>False</td>\n",
       "      <td>False</td>\n",
       "      <td>False</td>\n",
       "      <td>False</td>\n",
       "    </tr>\n",
       "    <tr>\n",
       "      <th>php</th>\n",
       "      <td>False</td>\n",
       "      <td>False</td>\n",
       "      <td>False</td>\n",
       "      <td>True</td>\n",
       "      <td>False</td>\n",
       "      <td>False</td>\n",
       "      <td>False</td>\n",
       "      <td>False</td>\n",
       "      <td>False</td>\n",
       "      <td>False</td>\n",
       "    </tr>\n",
       "    <tr>\n",
       "      <th>.net</th>\n",
       "      <td>False</td>\n",
       "      <td>False</td>\n",
       "      <td>False</td>\n",
       "      <td>False</td>\n",
       "      <td>False</td>\n",
       "      <td>False</td>\n",
       "      <td>False</td>\n",
       "      <td>False</td>\n",
       "      <td>False</td>\n",
       "      <td>False</td>\n",
       "    </tr>\n",
       "    <tr>\n",
       "      <th>jquery</th>\n",
       "      <td>False</td>\n",
       "      <td>False</td>\n",
       "      <td>False</td>\n",
       "      <td>False</td>\n",
       "      <td>False</td>\n",
       "      <td>False</td>\n",
       "      <td>False</td>\n",
       "      <td>False</td>\n",
       "      <td>False</td>\n",
       "      <td>False</td>\n",
       "    </tr>\n",
       "    <tr>\n",
       "      <th>css</th>\n",
       "      <td>False</td>\n",
       "      <td>False</td>\n",
       "      <td>False</td>\n",
       "      <td>False</td>\n",
       "      <td>False</td>\n",
       "      <td>False</td>\n",
       "      <td>False</td>\n",
       "      <td>False</td>\n",
       "      <td>False</td>\n",
       "      <td>False</td>\n",
       "    </tr>\n",
       "    <tr>\n",
       "      <th>objective-c</th>\n",
       "      <td>False</td>\n",
       "      <td>False</td>\n",
       "      <td>False</td>\n",
       "      <td>False</td>\n",
       "      <td>False</td>\n",
       "      <td>False</td>\n",
       "      <td>False</td>\n",
       "      <td>False</td>\n",
       "      <td>False</td>\n",
       "      <td>False</td>\n",
       "    </tr>\n",
       "    <tr>\n",
       "      <th>c</th>\n",
       "      <td>False</td>\n",
       "      <td>False</td>\n",
       "      <td>False</td>\n",
       "      <td>False</td>\n",
       "      <td>True</td>\n",
       "      <td>False</td>\n",
       "      <td>False</td>\n",
       "      <td>False</td>\n",
       "      <td>False</td>\n",
       "      <td>False</td>\n",
       "    </tr>\n",
       "    <tr>\n",
       "      <th>sql</th>\n",
       "      <td>False</td>\n",
       "      <td>False</td>\n",
       "      <td>True</td>\n",
       "      <td>False</td>\n",
       "      <td>False</td>\n",
       "      <td>False</td>\n",
       "      <td>False</td>\n",
       "      <td>False</td>\n",
       "      <td>False</td>\n",
       "      <td>False</td>\n",
       "    </tr>\n",
       "    <tr>\n",
       "      <th>iphone</th>\n",
       "      <td>False</td>\n",
       "      <td>False</td>\n",
       "      <td>False</td>\n",
       "      <td>False</td>\n",
       "      <td>False</td>\n",
       "      <td>False</td>\n",
       "      <td>False</td>\n",
       "      <td>False</td>\n",
       "      <td>False</td>\n",
       "      <td>False</td>\n",
       "    </tr>\n",
       "    <tr>\n",
       "      <th>asp.net</th>\n",
       "      <td>False</td>\n",
       "      <td>False</td>\n",
       "      <td>False</td>\n",
       "      <td>False</td>\n",
       "      <td>False</td>\n",
       "      <td>False</td>\n",
       "      <td>False</td>\n",
       "      <td>False</td>\n",
       "      <td>False</td>\n",
       "      <td>False</td>\n",
       "    </tr>\n",
       "    <tr>\n",
       "      <th>mysql</th>\n",
       "      <td>False</td>\n",
       "      <td>False</td>\n",
       "      <td>True</td>\n",
       "      <td>False</td>\n",
       "      <td>False</td>\n",
       "      <td>False</td>\n",
       "      <td>False</td>\n",
       "      <td>False</td>\n",
       "      <td>False</td>\n",
       "      <td>False</td>\n",
       "    </tr>\n",
       "    <tr>\n",
       "      <th>linux</th>\n",
       "      <td>False</td>\n",
       "      <td>False</td>\n",
       "      <td>False</td>\n",
       "      <td>False</td>\n",
       "      <td>False</td>\n",
       "      <td>True</td>\n",
       "      <td>False</td>\n",
       "      <td>False</td>\n",
       "      <td>False</td>\n",
       "      <td>False</td>\n",
       "    </tr>\n",
       "    <tr>\n",
       "      <th>node.js</th>\n",
       "      <td>False</td>\n",
       "      <td>False</td>\n",
       "      <td>False</td>\n",
       "      <td>False</td>\n",
       "      <td>False</td>\n",
       "      <td>False</td>\n",
       "      <td>False</td>\n",
       "      <td>False</td>\n",
       "      <td>False</td>\n",
       "      <td>False</td>\n",
       "    </tr>\n",
       "    <tr>\n",
       "      <th>git</th>\n",
       "      <td>False</td>\n",
       "      <td>False</td>\n",
       "      <td>False</td>\n",
       "      <td>False</td>\n",
       "      <td>False</td>\n",
       "      <td>False</td>\n",
       "      <td>False</td>\n",
       "      <td>False</td>\n",
       "      <td>False</td>\n",
       "      <td>False</td>\n",
       "    </tr>\n",
       "  </tbody>\n",
       "</table>\n",
       "</div>"
      ],
      "text/plain": [
       "                 0      1      2      3      4      5      6      7      8  \\\n",
       "java         False  False  False  False   True  False  False  False  False   \n",
       "c#           False  False  False  False  False  False  False  False  False   \n",
       "javascript   False  False  False   True  False  False  False  False  False   \n",
       "python        True  False  False  False  False  False  False  False  False   \n",
       "android      False  False  False  False  False  False  False  False  False   \n",
       "c++          False  False  False  False   True  False  False  False  False   \n",
       "ios          False  False  False  False  False  False  False  False  False   \n",
       "html         False  False  False  False  False  False  False  False  False   \n",
       "php          False  False  False   True  False  False  False  False  False   \n",
       ".net         False  False  False  False  False  False  False  False  False   \n",
       "jquery       False  False  False  False  False  False  False  False  False   \n",
       "css          False  False  False  False  False  False  False  False  False   \n",
       "objective-c  False  False  False  False  False  False  False  False  False   \n",
       "c            False  False  False  False   True  False  False  False  False   \n",
       "sql          False  False   True  False  False  False  False  False  False   \n",
       "iphone       False  False  False  False  False  False  False  False  False   \n",
       "asp.net      False  False  False  False  False  False  False  False  False   \n",
       "mysql        False  False   True  False  False  False  False  False  False   \n",
       "linux        False  False  False  False  False   True  False  False  False   \n",
       "node.js      False  False  False  False  False  False  False  False  False   \n",
       "git          False  False  False  False  False  False  False  False  False   \n",
       "\n",
       "                 9  \n",
       "java         False  \n",
       "c#           False  \n",
       "javascript    True  \n",
       "python       False  \n",
       "android      False  \n",
       "c++          False  \n",
       "ios          False  \n",
       "html         False  \n",
       "php          False  \n",
       ".net         False  \n",
       "jquery       False  \n",
       "css          False  \n",
       "objective-c  False  \n",
       "c            False  \n",
       "sql          False  \n",
       "iphone       False  \n",
       "asp.net      False  \n",
       "mysql        False  \n",
       "linux        False  \n",
       "node.js      False  \n",
       "git          False  "
      ]
     },
     "execution_count": 19,
     "metadata": {},
     "output_type": "execute_result"
    }
   ],
   "source": [
    "test_str = X_test.str\n",
    "pred_is_in = pd.DataFrame(\n",
    "    {\n",
    "        target_name: test_str.contains(\n",
    "            f\" {target_name} \", case=False, regex=False\n",
    "        ).values\n",
    "        for target_name in target_names\n",
    "    }\n",
    ")\n",
    "pred_is_in.head(10).T"
   ]
  },
  {
   "cell_type": "code",
   "execution_count": 20,
   "id": "1075bb27",
   "metadata": {
    "_kg_hide-input": false,
    "_kg_hide-output": true,
    "execution": {
     "iopub.execute_input": "2023-01-27T22:45:18.713141Z",
     "iopub.status.busy": "2023-01-27T22:45:18.711690Z",
     "iopub.status.idle": "2023-01-27T22:45:18.786907Z",
     "shell.execute_reply": "2023-01-27T22:45:18.785875Z"
    },
    "papermill": {
     "duration": 0.097012,
     "end_time": "2023-01-27T22:45:18.789025",
     "exception": false,
     "start_time": "2023-01-27T22:45:18.692013",
     "status": "completed"
    },
    "tags": []
   },
   "outputs": [
    {
     "data": {
      "text/html": [
       "<div>\n",
       "<style scoped>\n",
       "    .dataframe tbody tr th:only-of-type {\n",
       "        vertical-align: middle;\n",
       "    }\n",
       "\n",
       "    .dataframe tbody tr th {\n",
       "        vertical-align: top;\n",
       "    }\n",
       "\n",
       "    .dataframe thead th {\n",
       "        text-align: right;\n",
       "    }\n",
       "</style>\n",
       "<table border=\"1\" class=\"dataframe\">\n",
       "  <thead>\n",
       "    <tr style=\"text-align: right;\">\n",
       "      <th></th>\n",
       "      <th>precision</th>\n",
       "      <th>recall</th>\n",
       "      <th>f1-score</th>\n",
       "      <th>support</th>\n",
       "    </tr>\n",
       "  </thead>\n",
       "  <tbody>\n",
       "    <tr>\n",
       "      <th>git</th>\n",
       "      <td>0.724138</td>\n",
       "      <td>0.766423</td>\n",
       "      <td>0.744681</td>\n",
       "      <td>274.0</td>\n",
       "    </tr>\n",
       "    <tr>\n",
       "      <th>mysql</th>\n",
       "      <td>0.742373</td>\n",
       "      <td>0.639416</td>\n",
       "      <td>0.687059</td>\n",
       "      <td>685.0</td>\n",
       "    </tr>\n",
       "    <tr>\n",
       "      <th>python</th>\n",
       "      <td>0.885378</td>\n",
       "      <td>0.547090</td>\n",
       "      <td>0.676290</td>\n",
       "      <td>2612.0</td>\n",
       "    </tr>\n",
       "    <tr>\n",
       "      <th>android</th>\n",
       "      <td>0.870266</td>\n",
       "      <td>0.528117</td>\n",
       "      <td>0.657334</td>\n",
       "      <td>2045.0</td>\n",
       "    </tr>\n",
       "    <tr>\n",
       "      <th>php</th>\n",
       "      <td>0.839885</td>\n",
       "      <td>0.538414</td>\n",
       "      <td>0.656180</td>\n",
       "      <td>1627.0</td>\n",
       "    </tr>\n",
       "    <tr>\n",
       "      <th>jquery</th>\n",
       "      <td>0.809129</td>\n",
       "      <td>0.507152</td>\n",
       "      <td>0.623501</td>\n",
       "      <td>1538.0</td>\n",
       "    </tr>\n",
       "    <tr>\n",
       "      <th>c++</th>\n",
       "      <td>0.820965</td>\n",
       "      <td>0.450611</td>\n",
       "      <td>0.581854</td>\n",
       "      <td>1964.0</td>\n",
       "    </tr>\n",
       "    <tr>\n",
       "      <th>css</th>\n",
       "      <td>0.718182</td>\n",
       "      <td>0.488948</td>\n",
       "      <td>0.581799</td>\n",
       "      <td>1131.0</td>\n",
       "    </tr>\n",
       "    <tr>\n",
       "      <th>java</th>\n",
       "      <td>0.786381</td>\n",
       "      <td>0.402473</td>\n",
       "      <td>0.532441</td>\n",
       "      <td>3558.0</td>\n",
       "    </tr>\n",
       "    <tr>\n",
       "      <th>linux</th>\n",
       "      <td>0.479042</td>\n",
       "      <td>0.470588</td>\n",
       "      <td>0.474777</td>\n",
       "      <td>680.0</td>\n",
       "    </tr>\n",
       "    <tr>\n",
       "      <th>micro avg</th>\n",
       "      <td>0.660857</td>\n",
       "      <td>0.368327</td>\n",
       "      <td>0.473018</td>\n",
       "      <td>33044.0</td>\n",
       "    </tr>\n",
       "    <tr>\n",
       "      <th>macro avg</th>\n",
       "      <td>0.616749</td>\n",
       "      <td>0.402217</td>\n",
       "      <td>0.464462</td>\n",
       "      <td>33044.0</td>\n",
       "    </tr>\n",
       "    <tr>\n",
       "      <th>weighted avg</th>\n",
       "      <td>0.630639</td>\n",
       "      <td>0.368327</td>\n",
       "      <td>0.450918</td>\n",
       "      <td>33044.0</td>\n",
       "    </tr>\n",
       "    <tr>\n",
       "      <th>sql</th>\n",
       "      <td>0.424923</td>\n",
       "      <td>0.478161</td>\n",
       "      <td>0.449973</td>\n",
       "      <td>870.0</td>\n",
       "    </tr>\n",
       "    <tr>\n",
       "      <th>html</th>\n",
       "      <td>0.485935</td>\n",
       "      <td>0.393732</td>\n",
       "      <td>0.435002</td>\n",
       "      <td>1755.0</td>\n",
       "    </tr>\n",
       "    <tr>\n",
       "      <th>asp.net</th>\n",
       "      <td>0.535780</td>\n",
       "      <td>0.362733</td>\n",
       "      <td>0.432593</td>\n",
       "      <td>805.0</td>\n",
       "    </tr>\n",
       "    <tr>\n",
       "      <th>iphone</th>\n",
       "      <td>0.594655</td>\n",
       "      <td>0.330855</td>\n",
       "      <td>0.425159</td>\n",
       "      <td>807.0</td>\n",
       "    </tr>\n",
       "    <tr>\n",
       "      <th>ios</th>\n",
       "      <td>0.786451</td>\n",
       "      <td>0.290217</td>\n",
       "      <td>0.423978</td>\n",
       "      <td>1840.0</td>\n",
       "    </tr>\n",
       "    <tr>\n",
       "      <th>javascript</th>\n",
       "      <td>0.782258</td>\n",
       "      <td>0.289035</td>\n",
       "      <td>0.422106</td>\n",
       "      <td>3356.0</td>\n",
       "    </tr>\n",
       "    <tr>\n",
       "      <th>.net</th>\n",
       "      <td>0.556604</td>\n",
       "      <td>0.263225</td>\n",
       "      <td>0.357421</td>\n",
       "      <td>1569.0</td>\n",
       "    </tr>\n",
       "    <tr>\n",
       "      <th>c</th>\n",
       "      <td>0.218765</td>\n",
       "      <td>0.532203</td>\n",
       "      <td>0.310072</td>\n",
       "      <td>885.0</td>\n",
       "    </tr>\n",
       "    <tr>\n",
       "      <th>samples avg</th>\n",
       "      <td>0.321445</td>\n",
       "      <td>0.300505</td>\n",
       "      <td>0.299495</td>\n",
       "      <td>33044.0</td>\n",
       "    </tr>\n",
       "    <tr>\n",
       "      <th>node.js</th>\n",
       "      <td>0.890625</td>\n",
       "      <td>0.167155</td>\n",
       "      <td>0.281481</td>\n",
       "      <td>682.0</td>\n",
       "    </tr>\n",
       "    <tr>\n",
       "      <th>c#</th>\n",
       "      <td>0.000000</td>\n",
       "      <td>0.000000</td>\n",
       "      <td>0.000000</td>\n",
       "      <td>3473.0</td>\n",
       "    </tr>\n",
       "    <tr>\n",
       "      <th>objective-c</th>\n",
       "      <td>0.000000</td>\n",
       "      <td>0.000000</td>\n",
       "      <td>0.000000</td>\n",
       "      <td>888.0</td>\n",
       "    </tr>\n",
       "  </tbody>\n",
       "</table>\n",
       "</div>"
      ],
      "text/plain": [
       "              precision    recall  f1-score  support\n",
       "git            0.724138  0.766423  0.744681    274.0\n",
       "mysql          0.742373  0.639416  0.687059    685.0\n",
       "python         0.885378  0.547090  0.676290   2612.0\n",
       "android        0.870266  0.528117  0.657334   2045.0\n",
       "php            0.839885  0.538414  0.656180   1627.0\n",
       "jquery         0.809129  0.507152  0.623501   1538.0\n",
       "c++            0.820965  0.450611  0.581854   1964.0\n",
       "css            0.718182  0.488948  0.581799   1131.0\n",
       "java           0.786381  0.402473  0.532441   3558.0\n",
       "linux          0.479042  0.470588  0.474777    680.0\n",
       "micro avg      0.660857  0.368327  0.473018  33044.0\n",
       "macro avg      0.616749  0.402217  0.464462  33044.0\n",
       "weighted avg   0.630639  0.368327  0.450918  33044.0\n",
       "sql            0.424923  0.478161  0.449973    870.0\n",
       "html           0.485935  0.393732  0.435002   1755.0\n",
       "asp.net        0.535780  0.362733  0.432593    805.0\n",
       "iphone         0.594655  0.330855  0.425159    807.0\n",
       "ios            0.786451  0.290217  0.423978   1840.0\n",
       "javascript     0.782258  0.289035  0.422106   3356.0\n",
       ".net           0.556604  0.263225  0.357421   1569.0\n",
       "c              0.218765  0.532203  0.310072    885.0\n",
       "samples avg    0.321445  0.300505  0.299495  33044.0\n",
       "node.js        0.890625  0.167155  0.281481    682.0\n",
       "c#             0.000000  0.000000  0.000000   3473.0\n",
       "objective-c    0.000000  0.000000  0.000000    888.0"
      ]
     },
     "execution_count": 20,
     "metadata": {},
     "output_type": "execute_result"
    }
   ],
   "source": [
    "score_naive_is_in = p5_nlp_utils.Commun.save_score(\n",
    "    y_test, pred_is_in, target_names, \"naive_is_in\"\n",
    ")\n",
    "score_naive_is_in.sort_values(by=\"f1-score\", ascending=False)"
   ]
  },
  {
   "cell_type": "markdown",
   "id": "bc298ec9",
   "metadata": {
    "papermill": {
     "duration": 0.018564,
     "end_time": "2023-01-27T22:45:18.826552",
     "exception": false,
     "start_time": "2023-01-27T22:45:18.807988",
     "status": "completed"
    },
    "tags": []
   },
   "source": [
    "# CountVectorizer"
   ]
  },
  {
   "cell_type": "code",
   "execution_count": 21,
   "id": "f2ba07cd",
   "metadata": {
    "execution": {
     "iopub.execute_input": "2023-01-27T22:45:18.868425Z",
     "iopub.status.busy": "2023-01-27T22:45:18.867614Z",
     "iopub.status.idle": "2023-01-27T22:45:22.740232Z",
     "shell.execute_reply": "2023-01-27T22:45:22.739162Z"
    },
    "papermill": {
     "duration": 3.898005,
     "end_time": "2023-01-27T22:45:22.743608",
     "exception": false,
     "start_time": "2023-01-27T22:45:18.845603",
     "status": "completed"
    },
    "tags": []
   },
   "outputs": [
    {
     "name": "stdout",
     "output_type": "stream",
     "text": [
      "\n",
      "******************************\n",
      " pour min_df:1e-05; max_df:0.995\n",
      "\ttokens unique:\n",
      "\t\t41253 dans title et body regroupé\n"
     ]
    }
   ],
   "source": [
    "best_min_df = description[\"CountVectorizer\"][\"min_df\"]\n",
    "best_max_df = description[\"CountVectorizer\"][\"max_df\"]\n",
    "for min_df in [0.01, 0.05, 0.005, 0.0005, 0.00001] if LONG else [best_min_df]:\n",
    "    for max_df in [0.95, 0.995, 0.9995] if LONG else [best_max_df]:\n",
    "        print(f\"\\n{'*'*30}\\n pour min_df:{min_df}; max_df:{max_df}\")\n",
    "        count_vectorizer = feature_extraction.text.CountVectorizer(\n",
    "            min_df=min_df, max_df=max_df, max_features=None\n",
    "        )\n",
    "        #         pipe = pipeline.make_pipeline(feature_extraction.text.CountVectorizer(min_df=min_df, max_df=max_df, max_features=None), feature_extraction.text.TfidfTransformer( norm=\"l2\", use_idf=True, smooth_idf=True, sublinear_tf=False))\n",
    "        #         feat_train = pipe.transform(X_train[\"Token\"])\n",
    "        #         print(feat_train.shape)\n",
    "\n",
    "        token_vectors = count_vectorizer.fit_transform(df[\"Token\"])\n",
    "        print(\n",
    "            f\"\\ttokens unique:\\n\\t\\t{token_vectors.shape[1]} dans title et body regroupé\"\n",
    "        )"
   ]
  },
  {
   "cell_type": "markdown",
   "id": "e7afa415",
   "metadata": {
    "papermill": {
     "duration": 0.019949,
     "end_time": "2023-01-27T22:45:22.784324",
     "exception": false,
     "start_time": "2023-01-27T22:45:22.764375",
     "status": "completed"
    },
    "tags": []
   },
   "source": [
    "### Test reduction dimension\n",
    "avec n_components=1_000 : 10% de la variance éxpliqué\n"
   ]
  },
  {
   "cell_type": "code",
   "execution_count": 22,
   "id": "9b35e351",
   "metadata": {
    "execution": {
     "iopub.execute_input": "2023-01-27T22:45:22.823338Z",
     "iopub.status.busy": "2023-01-27T22:45:22.823038Z",
     "iopub.status.idle": "2023-01-27T22:45:22.860999Z",
     "shell.execute_reply": "2023-01-27T22:45:22.859864Z"
    },
    "papermill": {
     "duration": 0.059927,
     "end_time": "2023-01-27T22:45:22.863033",
     "exception": false,
     "start_time": "2023-01-27T22:45:22.803106",
     "status": "completed"
    },
    "tags": []
   },
   "outputs": [
    {
     "name": "stdout",
     "output_type": "stream",
     "text": [
      "CPU times: user 4 µs, sys: 0 ns, total: 4 µs\n",
      "Wall time: 7.15 µs\n"
     ]
    }
   ],
   "source": [
    "%%time\n",
    "if LONG:\n",
    "    truncSvd = decomposition.TruncatedSVD(n_components=1000).fit(\n",
    "        preprocessing.StandardScaler(with_mean=False).fit_transform(token_vectors)\n",
    "    )\n",
    "    plt.figure(figsize=(30, 15))\n",
    "    scree = truncSvd.explained_variance_ratio_ * 100\n",
    "    plt.bar(np.arange(len(scree)) + 1, scree)\n",
    "    plt.plot(np.arange(len(scree)) + 1, scree.cumsum(), c=\"red\", marker=\"o\")\n",
    "    plt.xlabel(\"rang de l'axe d'inertie\")\n",
    "    plt.ylabel(\"pourcentage variance expliquée\")\n",
    "    plt.title(\"Eboulis des valeurs propres\")\n",
    "    plt.show()"
   ]
  },
  {
   "cell_type": "markdown",
   "id": "7955382a",
   "metadata": {
    "papermill": {
     "duration": 0.018765,
     "end_time": "2023-01-27T22:45:22.900605",
     "exception": false,
     "start_time": "2023-01-27T22:45:22.881840",
     "status": "completed"
    },
    "tags": []
   },
   "source": [
    "# PreprocessPipeline"
   ]
  },
  {
   "cell_type": "code",
   "execution_count": 23,
   "id": "64e5d201",
   "metadata": {
    "execution": {
     "iopub.execute_input": "2023-01-27T22:45:22.940408Z",
     "iopub.status.busy": "2023-01-27T22:45:22.939615Z",
     "iopub.status.idle": "2023-01-27T22:45:22.989596Z",
     "shell.execute_reply": "2023-01-27T22:45:22.988760Z"
    },
    "papermill": {
     "duration": 0.072089,
     "end_time": "2023-01-27T22:45:22.991534",
     "exception": false,
     "start_time": "2023-01-27T22:45:22.919445",
     "status": "completed"
    },
    "tags": []
   },
   "outputs": [],
   "source": [
    "pipeline_tfidf = pipeline.Pipeline(\n",
    "    [\n",
    "        (\n",
    "            \"count\",\n",
    "            feature_extraction.text.CountVectorizer(\n",
    "                min_df=best_min_df, max_df=best_max_df, max_features=None\n",
    "            ),\n",
    "        ),\n",
    "        (\n",
    "            \"tfidf\",\n",
    "            feature_extraction.text.TfidfTransformer(\n",
    "                norm=\"l2\", use_idf=True, smooth_idf=True, sublinear_tf=False\n",
    "            ),\n",
    "        ),\n",
    "        (\n",
    "            \"scale\",\n",
    "            preprocessing.StandardScaler(with_mean=False)\n",
    "            if description[\"StandardScaler\"][\"actif\"]\n",
    "            else \"passthrough\",\n",
    "        ),\n",
    "        (\n",
    "            \"dimReduction\",\n",
    "            decomposition.TruncatedSVD(\n",
    "                n_components=description[\"TruncatedSVD\"][\"n_components\"]\n",
    "            )\n",
    "            if description[\"TruncatedSVD\"][\"actif\"]\n",
    "            else \"passthrough\",\n",
    "        ),\n",
    "    ]\n",
    ")\n",
    "## @TODO cache\n",
    "# memory = joblib.Memory(location=\"/kaggle/working/cache_dir\", verbose=0)\n",
    "# pipeline_tfidf = memory.cache(pipeline_tfidf)"
   ]
  },
  {
   "cell_type": "markdown",
   "id": "a17775db",
   "metadata": {
    "papermill": {
     "duration": 0.018771,
     "end_time": "2023-01-27T22:45:23.029348",
     "exception": false,
     "start_time": "2023-01-27T22:45:23.010577",
     "status": "completed"
    },
    "tags": []
   },
   "source": [
    "# OvsRest"
   ]
  },
  {
   "cell_type": "markdown",
   "id": "d38c0c32",
   "metadata": {
    "papermill": {
     "duration": 0.019202,
     "end_time": "2023-01-27T22:45:23.067404",
     "exception": false,
     "start_time": "2023-01-27T22:45:23.048202",
     "status": "completed"
    },
    "tags": []
   },
   "source": [
    "## LogisticRegression"
   ]
  },
  {
   "cell_type": "code",
   "execution_count": 24,
   "id": "3e6ca8fe",
   "metadata": {
    "execution": {
     "iopub.execute_input": "2023-01-27T22:45:23.107015Z",
     "iopub.status.busy": "2023-01-27T22:45:23.106228Z",
     "iopub.status.idle": "2023-01-27T22:45:23.145368Z",
     "shell.execute_reply": "2023-01-27T22:45:23.144000Z"
    },
    "papermill": {
     "duration": 0.060983,
     "end_time": "2023-01-27T22:45:23.147439",
     "exception": false,
     "start_time": "2023-01-27T22:45:23.086456",
     "status": "completed"
    },
    "tags": []
   },
   "outputs": [
    {
     "name": "stdout",
     "output_type": "stream",
     "text": [
      "CPU times: user 4 µs, sys: 0 ns, total: 4 µs\n",
      "Wall time: 8.11 µs\n"
     ]
    }
   ],
   "source": [
    "%%time\n",
    "if description[\"LogisticRegression\"][\"actif\"]:\n",
    "    pipeline_logisticReg = pipeline.Pipeline(\n",
    "        [\n",
    "            (\"tfidf\", pipeline_tfidf),\n",
    "            (\n",
    "                \"OvRLogisticReg\",\n",
    "                multiclass.OneVsRestClassifier(\n",
    "                    linear_model.LogisticRegression(random_state=42)\n",
    "                ),\n",
    "            ),\n",
    "        ]\n",
    "    )\n",
    "    with ignore_warnings(category=exceptions.ConvergenceWarning):\n",
    "        pipeline_logisticReg.fit(X_train, y_train)\n",
    "\n",
    "    # prediction sur jeu de test\n",
    "    pred_lr = pipeline_logisticReg.predict(X_test)\n",
    "    scores_lr = p5_nlp_utils.Commun.save_score(\n",
    "        y_test, pred_lr, target_names, \"LogisticRegression\"\n",
    "    )\n",
    "\n",
    "    # enregistrement model et score\n",
    "    joblib.dump(pipeline_logisticReg, \"LogisticRegression_model.joblib\")\n",
    "    scores_lr.sort_values(by=\"f1-score\", ascending=False)"
   ]
  },
  {
   "cell_type": "markdown",
   "id": "72ecdb30",
   "metadata": {
    "papermill": {
     "duration": 0.018844,
     "end_time": "2023-01-27T22:45:23.185446",
     "exception": false,
     "start_time": "2023-01-27T22:45:23.166602",
     "status": "completed"
    },
    "tags": []
   },
   "source": [
    "## SVC"
   ]
  },
  {
   "cell_type": "code",
   "execution_count": 25,
   "id": "1168faaf",
   "metadata": {
    "execution": {
     "iopub.execute_input": "2023-01-27T22:45:23.225658Z",
     "iopub.status.busy": "2023-01-27T22:45:23.224862Z",
     "iopub.status.idle": "2023-01-27T22:45:23.251281Z",
     "shell.execute_reply": "2023-01-27T22:45:23.250433Z"
    },
    "papermill": {
     "duration": 0.048536,
     "end_time": "2023-01-27T22:45:23.253228",
     "exception": false,
     "start_time": "2023-01-27T22:45:23.204692",
     "status": "completed"
    },
    "tags": []
   },
   "outputs": [],
   "source": [
    "pipeline_svc = pipeline.Pipeline(\n",
    "    [\n",
    "        (\"tfidf\", pipeline_tfidf),\n",
    "        (\n",
    "            \"TfidfOvRSVC\",\n",
    "            multiclass.OneVsRestClassifier(\n",
    "                svm.SVC(\n",
    "                    cache_size=1080,\n",
    "                    max_iter=description[\"TfidfOvRSVC\"][\"max_iter\"],\n",
    "                    random_state=42,\n",
    "                )\n",
    "            ),\n",
    "        ),\n",
    "    ]\n",
    ")"
   ]
  },
  {
   "cell_type": "code",
   "execution_count": 26,
   "id": "c8c99add",
   "metadata": {
    "execution": {
     "iopub.execute_input": "2023-01-27T22:45:23.292536Z",
     "iopub.status.busy": "2023-01-27T22:45:23.291900Z",
     "iopub.status.idle": "2023-01-27T22:45:23.323289Z",
     "shell.execute_reply": "2023-01-27T22:45:23.321987Z"
    },
    "papermill": {
     "duration": 0.053046,
     "end_time": "2023-01-27T22:45:23.325212",
     "exception": false,
     "start_time": "2023-01-27T22:45:23.272166",
     "status": "completed"
    },
    "tags": []
   },
   "outputs": [
    {
     "name": "stdout",
     "output_type": "stream",
     "text": [
      "CPU times: user 5 µs, sys: 0 ns, total: 5 µs\n",
      "Wall time: 8.34 µs\n"
     ]
    }
   ],
   "source": [
    "%%time\n",
    "if description[\"TfidfOvRSVC\"][\"actif\"]:\n",
    "    with ignore_warnings(category=exceptions.ConvergenceWarning):\n",
    "        pipeline_svc.fit(\n",
    "            X_train,\n",
    "            y_train,\n",
    "        )\n",
    "    print(\"Fin entrainement début prédiction\")\n",
    "    pred_svc = pipeline_svc.predict(X_test)\n",
    "    #     print(pred_svc)\n",
    "    print(\"Enregistrement score et modéle\")\n",
    "    scores_svc = p5_nlp_utils.Commun.save_score(\n",
    "        y_test, pred_svc, target_names, \"TfidfOvRSVC\"\n",
    "    )\n",
    "    joblib.dump(pipeline_svc, \"TfidfOvRestSvc_model.joblib\")\n",
    "    print(scores_svc.sort_values(by=\"f1-score\", ascending=False))"
   ]
  },
  {
   "cell_type": "markdown",
   "id": "f6cfc832",
   "metadata": {
    "papermill": {
     "duration": 0.019145,
     "end_time": "2023-01-27T22:45:23.363823",
     "exception": false,
     "start_time": "2023-01-27T22:45:23.344678",
     "status": "completed"
    },
    "tags": []
   },
   "source": [
    "# Word2Vec"
   ]
  },
  {
   "cell_type": "markdown",
   "id": "4e9458f2",
   "metadata": {
    "papermill": {
     "duration": 0.018894,
     "end_time": "2023-01-27T22:45:23.401983",
     "exception": false,
     "start_time": "2023-01-27T22:45:23.383089",
     "status": "completed"
    },
    "tags": []
   },
   "source": [
    "## Keras Model"
   ]
  },
  {
   "cell_type": "code",
   "execution_count": 27,
   "id": "2aa29075",
   "metadata": {
    "execution": {
     "iopub.execute_input": "2023-01-27T22:45:23.441946Z",
     "iopub.status.busy": "2023-01-27T22:45:23.441664Z",
     "iopub.status.idle": "2023-01-27T22:45:28.819770Z",
     "shell.execute_reply": "2023-01-27T22:45:28.818254Z"
    },
    "papermill": {
     "duration": 5.401303,
     "end_time": "2023-01-27T22:45:28.822712",
     "exception": false,
     "start_time": "2023-01-27T22:45:23.421409",
     "status": "completed"
    },
    "tags": []
   },
   "outputs": [
    {
     "name": "stdout",
     "output_type": "stream",
     "text": [
      "{'actif': True, 'TextVectorization__max_tokens': 210000, 'TextVectorization__output_sequence_length': 256, 'Embedding__output_dim': 512, 'Word2Vec__min_count': 5, 'Word2Vec__window': 25, 'Word2Vec__epochs': 150, 'fit__learning_rate': 1e-05, 'fit__epochs': 100}\n"
     ]
    },
    {
     "name": "stderr",
     "output_type": "stream",
     "text": [
      "2023-01-27 22:45:23.587739: I tensorflow/compiler/mlir/mlir_graph_optimization_pass.cc:185] None of the MLIR Optimization Passes are enabled (registered 2)\n"
     ]
    },
    {
     "name": "stdout",
     "output_type": "stream",
     "text": [
      "CPU times: user 6.84 s, sys: 440 ms, total: 7.28 s\n",
      "Wall time: 5.35 s\n"
     ]
    }
   ],
   "source": [
    "%%time\n",
    "if description[\"Word2Vec_keras\"][\"actif\"]:\n",
    "    print(description[\"Word2Vec_keras\"])\n",
    "    ## https://www.tensorflow.org/api_docs/python/tf/keras/layers/TextVectorization\n",
    "    # because https://www.tensorflow.org/api_docs/python/tf/keras/preprocessing/text/Tokenizer deprecaded\n",
    "    vectorize_layer = tf.keras.layers.TextVectorization(\n",
    "        max_tokens=description[\"Word2Vec_keras\"][\"TextVectorization__max_tokens\"],\n",
    "        standardize=\"lower_and_strip_punctuation\",\n",
    "        split=\"whitespace\",\n",
    "        ngrams=None,\n",
    "        output_mode=\"int\",\n",
    "        output_sequence_length=description[\"Word2Vec_keras\"][\n",
    "            \"TextVectorization__output_sequence_length\"\n",
    "        ],\n",
    "    )\n",
    "    vectorize_layer.adapt(X_train)"
   ]
  },
  {
   "cell_type": "code",
   "execution_count": 28,
   "id": "a5193f92",
   "metadata": {
    "execution": {
     "iopub.execute_input": "2023-01-27T22:45:28.865520Z",
     "iopub.status.busy": "2023-01-27T22:45:28.865206Z",
     "iopub.status.idle": "2023-01-27T23:29:01.901562Z",
     "shell.execute_reply": "2023-01-27T23:29:01.900008Z"
    },
    "papermill": {
     "duration": 2613.061099,
     "end_time": "2023-01-27T23:29:01.905229",
     "exception": false,
     "start_time": "2023-01-27T22:45:28.844130",
     "status": "completed"
    },
    "tags": []
   },
   "outputs": [
    {
     "name": "stdout",
     "output_type": "stream",
     "text": [
      "Build & train Word2Vec model ...\n",
      "Vocabulary size: 20120\n",
      "Word2Vec trained\n",
      "141837 20120 704.96%\n",
      "CPU times: user 43min 18s, sys: 8.71 s, total: 43min 27s\n",
      "Wall time: 43min 33s\n"
     ]
    }
   ],
   "source": [
    "%%time\n",
    "if description[\"Word2Vec_keras\"][\"actif\"]:\n",
    "    model_vectors = p5_nlp_utils.Word2Vec.build_Word2Vec(\n",
    "        X_train, description[\"Word2Vec_keras\"]\n",
    "    )\n",
    "    print(\n",
    "        f\"{len(vectorize_layer.get_vocabulary())} {len(model_vectors.index_to_key)} {len(vectorize_layer.get_vocabulary())/len(model_vectors.index_to_key):.2%}\"\n",
    "    )"
   ]
  },
  {
   "cell_type": "code",
   "execution_count": 29,
   "id": "563bc943",
   "metadata": {
    "execution": {
     "iopub.execute_input": "2023-01-27T23:29:01.946717Z",
     "iopub.status.busy": "2023-01-27T23:29:01.946416Z",
     "iopub.status.idle": "2023-01-27T23:30:18.836563Z",
     "shell.execute_reply": "2023-01-27T23:30:18.835437Z"
    },
    "papermill": {
     "duration": 76.934071,
     "end_time": "2023-01-27T23:30:18.859920",
     "exception": false,
     "start_time": "2023-01-27T23:29:01.925849",
     "status": "completed"
    },
    "tags": []
   },
   "outputs": [
    {
     "name": "stdout",
     "output_type": "stream",
     "text": [
      "Create Embedding matrix ...\n",
      "CPU times: user 1min 15s, sys: 1.46 s, total: 1min 16s\n",
      "Wall time: 1min 16s\n"
     ]
    }
   ],
   "source": [
    "%%time\n",
    "# @TODO p5_nlp_utils.Word2Vec.get_embedding(model_vectors, vocabulary, params)\n",
    "if description[\"Word2Vec_keras\"][\"actif\"]:\n",
    "    print(\"Create Embedding matrix ...\")\n",
    "    embedding_matrix = np.asarray(\n",
    "        [\n",
    "            model_vectors[word]\n",
    "            if word in model_vectors.index_to_key\n",
    "            else np.zeros(description[\"Word2Vec_keras\"][\"Embedding__output_dim\"])\n",
    "            for word in vectorize_layer.get_vocabulary()\n",
    "        ]\n",
    "    )\n",
    "    embedding_matrix.shape"
   ]
  },
  {
   "cell_type": "code",
   "execution_count": 30,
   "id": "ea1df707",
   "metadata": {
    "execution": {
     "iopub.execute_input": "2023-01-27T23:30:18.902895Z",
     "iopub.status.busy": "2023-01-27T23:30:18.902582Z",
     "iopub.status.idle": "2023-01-27T23:30:23.635739Z",
     "shell.execute_reply": "2023-01-27T23:30:23.633852Z"
    },
    "papermill": {
     "duration": 4.755885,
     "end_time": "2023-01-27T23:30:23.637842",
     "exception": false,
     "start_time": "2023-01-27T23:30:18.881957",
     "status": "completed"
    },
    "tags": []
   },
   "outputs": [
    {
     "name": "stdout",
     "output_type": "stream",
     "text": [
      "Model: \"sequential\"\n",
      "_________________________________________________________________\n",
      "Layer (type)                 Output Shape              Param #   \n",
      "=================================================================\n",
      "text_vectorization (TextVect (None, 256)               0         \n",
      "_________________________________________________________________\n",
      "embedding (Embedding)        (None, 256, 512)          72620544  \n",
      "_________________________________________________________________\n",
      "global_average_pooling1d (Gl (None, 512)               0         \n",
      "_________________________________________________________________\n",
      "dense (Dense)                (None, 256)               131328    \n",
      "_________________________________________________________________\n",
      "dense_1 (Dense)              (None, 21)                5397      \n",
      "=================================================================\n",
      "Total params: 72,757,269\n",
      "Trainable params: 72,757,269\n",
      "Non-trainable params: 0\n",
      "_________________________________________________________________\n",
      "None\n"
     ]
    }
   ],
   "source": [
    "# https://www.tensorflow.org/text/guide/word_embeddings\n",
    "if description[\"Word2Vec_keras\"][\"actif\"]:\n",
    "    modelkerasPipeline = tf.keras.models.Sequential(\n",
    "        [\n",
    "            vectorize_layer,\n",
    "            tf.keras.layers.Embedding(\n",
    "                input_dim=len(vectorize_layer.get_vocabulary()),\n",
    "                output_dim=description[\"Word2Vec_keras\"][\"Embedding__output_dim\"],\n",
    "                weights=[embedding_matrix],\n",
    "                input_length=description[\"Word2Vec_keras\"][\n",
    "                    \"TextVectorization__output_sequence_length\"\n",
    "                ],\n",
    "            ),\n",
    "            tf.keras.layers.GlobalAveragePooling1D(),\n",
    "            tf.keras.layers.Dense(256, activation=\"relu\"),\n",
    "            tf.keras.layers.Dense(len(target_names), activation=\"sigmoid\"),\n",
    "        ]\n",
    "    )\n",
    "    # tensorboard_callback = tf.keras.callbacks.TensorBoard(log_dir=\"logs\") # for log create a dir\n",
    "    modelkerasPipeline.compile(\n",
    "        optimizer=tf.keras.optimizers.Adam(learning_rate=description[\"Word2Vec_keras\"][\"fit__learning_rate\"]),\n",
    "        loss=tf.keras.losses.BinaryCrossentropy(),\n",
    "        metrics=[\"accuracy\"],\n",
    "    )\n",
    "    print(modelkerasPipeline.summary())"
   ]
  },
  {
   "cell_type": "code",
   "execution_count": 31,
   "id": "24a0a6d3",
   "metadata": {
    "execution": {
     "iopub.execute_input": "2023-01-27T23:30:23.679806Z",
     "iopub.status.busy": "2023-01-27T23:30:23.679024Z",
     "iopub.status.idle": "2023-01-28T01:10:46.238431Z",
     "shell.execute_reply": "2023-01-28T01:10:46.236773Z"
    },
    "papermill": {
     "duration": 6022.58248,
     "end_time": "2023-01-28T01:10:46.240832",
     "exception": false,
     "start_time": "2023-01-27T23:30:23.658352",
     "status": "completed"
    },
    "tags": []
   },
   "outputs": [
    {
     "name": "stdout",
     "output_type": "stream",
     "text": [
      "Epoch 1/100\n",
      "2776/2776 [==============================] - 61s 21ms/step - loss: 0.4330 - accuracy: 0.1344\n",
      "Epoch 2/100\n",
      "2776/2776 [==============================] - 59s 21ms/step - loss: 0.1965 - accuracy: 0.3067\n",
      "Epoch 3/100\n",
      "2776/2776 [==============================] - 59s 21ms/step - loss: 0.1773 - accuracy: 0.4152\n",
      "Epoch 4/100\n",
      "2776/2776 [==============================] - 59s 21ms/step - loss: 0.1648 - accuracy: 0.4531\n",
      "Epoch 5/100\n",
      "2776/2776 [==============================] - 59s 21ms/step - loss: 0.1558 - accuracy: 0.4779\n",
      "Epoch 6/100\n",
      "2776/2776 [==============================] - 59s 21ms/step - loss: 0.1488 - accuracy: 0.4936\n",
      "Epoch 7/100\n",
      "2776/2776 [==============================] - 59s 21ms/step - loss: 0.1431 - accuracy: 0.5049\n",
      "Epoch 8/100\n",
      "2776/2776 [==============================] - 59s 21ms/step - loss: 0.1383 - accuracy: 0.5151\n",
      "Epoch 9/100\n",
      "2776/2776 [==============================] - 59s 21ms/step - loss: 0.1342 - accuracy: 0.5229\n",
      "Epoch 10/100\n",
      "2776/2776 [==============================] - 59s 21ms/step - loss: 0.1305 - accuracy: 0.5298\n",
      "Epoch 11/100\n",
      "2776/2776 [==============================] - 59s 21ms/step - loss: 0.1273 - accuracy: 0.5352\n",
      "Epoch 12/100\n",
      "2776/2776 [==============================] - 59s 21ms/step - loss: 0.1244 - accuracy: 0.5407\n",
      "Epoch 13/100\n",
      "2776/2776 [==============================] - 59s 21ms/step - loss: 0.1217 - accuracy: 0.5449\n",
      "Epoch 14/100\n",
      "2776/2776 [==============================] - 59s 21ms/step - loss: 0.1194 - accuracy: 0.5491\n",
      "Epoch 15/100\n",
      "2776/2776 [==============================] - 59s 21ms/step - loss: 0.1172 - accuracy: 0.5531\n",
      "Epoch 16/100\n",
      "2776/2776 [==============================] - 59s 21ms/step - loss: 0.1152 - accuracy: 0.5574\n",
      "Epoch 17/100\n",
      "2776/2776 [==============================] - 59s 21ms/step - loss: 0.1134 - accuracy: 0.5599\n",
      "Epoch 18/100\n",
      "2776/2776 [==============================] - 59s 21ms/step - loss: 0.1117 - accuracy: 0.5624\n",
      "Epoch 19/100\n",
      "2776/2776 [==============================] - 59s 21ms/step - loss: 0.1101 - accuracy: 0.5653\n",
      "Epoch 20/100\n",
      "2776/2776 [==============================] - 59s 21ms/step - loss: 0.1087 - accuracy: 0.5679\n",
      "Epoch 21/100\n",
      "2776/2776 [==============================] - 60s 21ms/step - loss: 0.1073 - accuracy: 0.5705\n",
      "Epoch 22/100\n",
      "2776/2776 [==============================] - 59s 21ms/step - loss: 0.1060 - accuracy: 0.5728\n",
      "Epoch 23/100\n",
      "2776/2776 [==============================] - 59s 21ms/step - loss: 0.1049 - accuracy: 0.5737\n",
      "Epoch 24/100\n",
      "2776/2776 [==============================] - 59s 21ms/step - loss: 0.1037 - accuracy: 0.5761\n",
      "Epoch 25/100\n",
      "2776/2776 [==============================] - 59s 21ms/step - loss: 0.1027 - accuracy: 0.5773\n",
      "Epoch 26/100\n",
      "2776/2776 [==============================] - 59s 21ms/step - loss: 0.1017 - accuracy: 0.5793\n",
      "Epoch 27/100\n",
      "2776/2776 [==============================] - 59s 21ms/step - loss: 0.1008 - accuracy: 0.5807\n",
      "Epoch 28/100\n",
      "2776/2776 [==============================] - 60s 21ms/step - loss: 0.0999 - accuracy: 0.5815\n",
      "Epoch 29/100\n",
      "2776/2776 [==============================] - 60s 21ms/step - loss: 0.0991 - accuracy: 0.5829\n",
      "Epoch 30/100\n",
      "2776/2776 [==============================] - 59s 21ms/step - loss: 0.0983 - accuracy: 0.5843\n",
      "Epoch 31/100\n",
      "2776/2776 [==============================] - 60s 22ms/step - loss: 0.0975 - accuracy: 0.5855\n",
      "Epoch 32/100\n",
      "2776/2776 [==============================] - 60s 21ms/step - loss: 0.0968 - accuracy: 0.5860\n",
      "Epoch 33/100\n",
      "2776/2776 [==============================] - 60s 21ms/step - loss: 0.0961 - accuracy: 0.5868\n",
      "Epoch 34/100\n",
      "2776/2776 [==============================] - 60s 22ms/step - loss: 0.0954 - accuracy: 0.5879\n",
      "Epoch 35/100\n",
      "2776/2776 [==============================] - 59s 21ms/step - loss: 0.0948 - accuracy: 0.5886\n",
      "Epoch 36/100\n",
      "2776/2776 [==============================] - 59s 21ms/step - loss: 0.0942 - accuracy: 0.5894\n",
      "Epoch 37/100\n",
      "2776/2776 [==============================] - 60s 21ms/step - loss: 0.0936 - accuracy: 0.5903\n",
      "Epoch 38/100\n",
      "2776/2776 [==============================] - 60s 21ms/step - loss: 0.0931 - accuracy: 0.5907\n",
      "Epoch 39/100\n",
      "2776/2776 [==============================] - 60s 21ms/step - loss: 0.0926 - accuracy: 0.5916\n",
      "Epoch 40/100\n",
      "2776/2776 [==============================] - 59s 21ms/step - loss: 0.0921 - accuracy: 0.5916\n",
      "Epoch 41/100\n",
      "2776/2776 [==============================] - 60s 21ms/step - loss: 0.0916 - accuracy: 0.5927\n",
      "Epoch 42/100\n",
      "2776/2776 [==============================] - 60s 21ms/step - loss: 0.0911 - accuracy: 0.5933\n",
      "Epoch 43/100\n",
      "2776/2776 [==============================] - 60s 22ms/step - loss: 0.0906 - accuracy: 0.5942\n",
      "Epoch 44/100\n",
      "2776/2776 [==============================] - 60s 22ms/step - loss: 0.0902 - accuracy: 0.5944\n",
      "Epoch 45/100\n",
      "2776/2776 [==============================] - 60s 21ms/step - loss: 0.0897 - accuracy: 0.5949\n",
      "Epoch 46/100\n",
      "2776/2776 [==============================] - 59s 21ms/step - loss: 0.0893 - accuracy: 0.5953\n",
      "Epoch 47/100\n",
      "2776/2776 [==============================] - 59s 21ms/step - loss: 0.0889 - accuracy: 0.5955\n",
      "Epoch 48/100\n",
      "2776/2776 [==============================] - 60s 21ms/step - loss: 0.0885 - accuracy: 0.5964\n",
      "Epoch 49/100\n",
      "2776/2776 [==============================] - 59s 21ms/step - loss: 0.0881 - accuracy: 0.5965\n",
      "Epoch 50/100\n",
      "2776/2776 [==============================] - 60s 22ms/step - loss: 0.0878 - accuracy: 0.5974\n",
      "Epoch 51/100\n",
      "2776/2776 [==============================] - 60s 22ms/step - loss: 0.0874 - accuracy: 0.5976\n",
      "Epoch 52/100\n",
      "2776/2776 [==============================] - 60s 22ms/step - loss: 0.0871 - accuracy: 0.5981\n",
      "Epoch 53/100\n",
      "2776/2776 [==============================] - 60s 21ms/step - loss: 0.0867 - accuracy: 0.5984\n",
      "Epoch 54/100\n",
      "2776/2776 [==============================] - 60s 22ms/step - loss: 0.0864 - accuracy: 0.5983\n",
      "Epoch 55/100\n",
      "2776/2776 [==============================] - 60s 22ms/step - loss: 0.0860 - accuracy: 0.5989\n",
      "Epoch 56/100\n",
      "2776/2776 [==============================] - 60s 22ms/step - loss: 0.0857 - accuracy: 0.5995\n",
      "Epoch 57/100\n",
      "2776/2776 [==============================] - 60s 22ms/step - loss: 0.0854 - accuracy: 0.5991\n",
      "Epoch 58/100\n",
      "2776/2776 [==============================] - 60s 22ms/step - loss: 0.0851 - accuracy: 0.5996\n",
      "Epoch 59/100\n",
      "2776/2776 [==============================] - 60s 22ms/step - loss: 0.0848 - accuracy: 0.6001\n",
      "Epoch 60/100\n",
      "2776/2776 [==============================] - 60s 22ms/step - loss: 0.0845 - accuracy: 0.6005\n",
      "Epoch 61/100\n",
      "2776/2776 [==============================] - 60s 21ms/step - loss: 0.0842 - accuracy: 0.6007\n",
      "Epoch 62/100\n",
      "2776/2776 [==============================] - 60s 22ms/step - loss: 0.0839 - accuracy: 0.6011\n",
      "Epoch 63/100\n",
      "2776/2776 [==============================] - 60s 22ms/step - loss: 0.0837 - accuracy: 0.6011\n",
      "Epoch 64/100\n",
      "2776/2776 [==============================] - 60s 21ms/step - loss: 0.0834 - accuracy: 0.6014\n",
      "Epoch 65/100\n",
      "2776/2776 [==============================] - 60s 22ms/step - loss: 0.0831 - accuracy: 0.6015\n",
      "Epoch 66/100\n",
      "2776/2776 [==============================] - 60s 22ms/step - loss: 0.0829 - accuracy: 0.6021\n",
      "Epoch 67/100\n",
      "2776/2776 [==============================] - 60s 22ms/step - loss: 0.0826 - accuracy: 0.6022\n",
      "Epoch 68/100\n",
      "2776/2776 [==============================] - 60s 22ms/step - loss: 0.0824 - accuracy: 0.6024\n",
      "Epoch 69/100\n",
      "2776/2776 [==============================] - 60s 22ms/step - loss: 0.0821 - accuracy: 0.6025\n",
      "Epoch 70/100\n",
      "2776/2776 [==============================] - 60s 22ms/step - loss: 0.0819 - accuracy: 0.6031\n",
      "Epoch 71/100\n",
      "2776/2776 [==============================] - 60s 22ms/step - loss: 0.0816 - accuracy: 0.6029\n",
      "Epoch 72/100\n",
      "2776/2776 [==============================] - 60s 22ms/step - loss: 0.0814 - accuracy: 0.6033\n",
      "Epoch 73/100\n",
      "2776/2776 [==============================] - 60s 22ms/step - loss: 0.0812 - accuracy: 0.6040\n",
      "Epoch 74/100\n",
      "2776/2776 [==============================] - 60s 22ms/step - loss: 0.0810 - accuracy: 0.6039\n",
      "Epoch 75/100\n",
      "2776/2776 [==============================] - 61s 22ms/step - loss: 0.0807 - accuracy: 0.6039\n",
      "Epoch 76/100\n",
      "2776/2776 [==============================] - 60s 21ms/step - loss: 0.0805 - accuracy: 0.6042\n",
      "Epoch 77/100\n",
      "2776/2776 [==============================] - 60s 22ms/step - loss: 0.0803 - accuracy: 0.6045\n",
      "Epoch 78/100\n",
      "2776/2776 [==============================] - 61s 22ms/step - loss: 0.0801 - accuracy: 0.6049\n",
      "Epoch 79/100\n",
      "2776/2776 [==============================] - 60s 22ms/step - loss: 0.0799 - accuracy: 0.6049\n",
      "Epoch 80/100\n",
      "2776/2776 [==============================] - 60s 22ms/step - loss: 0.0797 - accuracy: 0.6052\n",
      "Epoch 81/100\n",
      "2776/2776 [==============================] - 60s 22ms/step - loss: 0.0795 - accuracy: 0.6054\n",
      "Epoch 82/100\n",
      "2776/2776 [==============================] - 60s 22ms/step - loss: 0.0793 - accuracy: 0.6055\n",
      "Epoch 83/100\n",
      "2776/2776 [==============================] - 61s 22ms/step - loss: 0.0791 - accuracy: 0.6061\n",
      "Epoch 84/100\n",
      "2776/2776 [==============================] - 61s 22ms/step - loss: 0.0789 - accuracy: 0.6061\n",
      "Epoch 85/100\n",
      "2776/2776 [==============================] - 60s 22ms/step - loss: 0.0787 - accuracy: 0.6061\n",
      "Epoch 86/100\n",
      "2776/2776 [==============================] - 60s 22ms/step - loss: 0.0785 - accuracy: 0.6064\n",
      "Epoch 87/100\n",
      "2776/2776 [==============================] - 60s 22ms/step - loss: 0.0783 - accuracy: 0.6065\n",
      "Epoch 88/100\n",
      "2776/2776 [==============================] - 60s 22ms/step - loss: 0.0781 - accuracy: 0.6065\n",
      "Epoch 89/100\n",
      "2776/2776 [==============================] - 60s 22ms/step - loss: 0.0779 - accuracy: 0.6068\n",
      "Epoch 90/100\n",
      "2776/2776 [==============================] - 60s 22ms/step - loss: 0.0778 - accuracy: 0.6073\n",
      "Epoch 91/100\n",
      "2776/2776 [==============================] - 60s 22ms/step - loss: 0.0776 - accuracy: 0.6077\n",
      "Epoch 92/100\n",
      "2776/2776 [==============================] - 60s 22ms/step - loss: 0.0774 - accuracy: 0.6078\n",
      "Epoch 93/100\n",
      "2776/2776 [==============================] - 59s 21ms/step - loss: 0.0772 - accuracy: 0.6081\n",
      "Epoch 94/100\n",
      "2776/2776 [==============================] - 60s 22ms/step - loss: 0.0771 - accuracy: 0.6080\n",
      "Epoch 95/100\n",
      "2776/2776 [==============================] - 60s 22ms/step - loss: 0.0769 - accuracy: 0.6085\n",
      "Epoch 96/100\n",
      "2776/2776 [==============================] - 60s 22ms/step - loss: 0.0767 - accuracy: 0.6088\n",
      "Epoch 97/100\n",
      "2776/2776 [==============================] - 60s 22ms/step - loss: 0.0766 - accuracy: 0.6091\n",
      "Epoch 98/100\n",
      "2776/2776 [==============================] - 60s 22ms/step - loss: 0.0764 - accuracy: 0.6091\n",
      "Epoch 99/100\n",
      "2776/2776 [==============================] - 60s 22ms/step - loss: 0.0762 - accuracy: 0.6093\n",
      "Epoch 100/100\n",
      "2776/2776 [==============================] - 60s 22ms/step - loss: 0.0761 - accuracy: 0.6093\n",
      "CPU times: user 1h 22min 46s, sys: 3min 50s, total: 1h 26min 36s\n",
      "Wall time: 1h 40min 22s\n"
     ]
    }
   ],
   "source": [
    "%%time\n",
    "if description[\"Word2Vec_keras\"][\"actif\"]:\n",
    "    modelkerasPipeline.fit(\n",
    "        X_train,\n",
    "        y_train,\n",
    "        epochs=description[\"Word2Vec_keras\"][\"fit__epochs\"],\n",
    "        # callbacks=[tensorboard_callback],\n",
    "    )"
   ]
  },
  {
   "cell_type": "code",
   "execution_count": 32,
   "id": "abed4ac8",
   "metadata": {
    "execution": {
     "iopub.execute_input": "2023-01-28T01:10:56.768448Z",
     "iopub.status.busy": "2023-01-28T01:10:56.768069Z",
     "iopub.status.idle": "2023-01-28T01:10:58.590225Z",
     "shell.execute_reply": "2023-01-28T01:10:58.589275Z"
    },
    "papermill": {
     "duration": 7.269677,
     "end_time": "2023-01-28T01:10:58.592331",
     "exception": false,
     "start_time": "2023-01-28T01:10:51.322654",
     "status": "completed"
    },
    "tags": []
   },
   "outputs": [
    {
     "name": "stdout",
     "output_type": "stream",
     "text": [
      "CPU times: user 2.63 s, sys: 236 ms, total: 2.87 s\n",
      "Wall time: 1.81 s\n"
     ]
    }
   ],
   "source": [
    "%%time\n",
    "if description[\"Word2Vec_keras\"][\"actif\"]:\n",
    "    pred_kerasword2vec_proba = modelkerasPipeline.predict(X_test)\n",
    "    #display(pred_kerasword2vec_proba.head(5))"
   ]
  },
  {
   "cell_type": "code",
   "execution_count": 33,
   "id": "63897fcf",
   "metadata": {
    "execution": {
     "iopub.execute_input": "2023-01-28T01:11:09.235687Z",
     "iopub.status.busy": "2023-01-28T01:11:09.235333Z",
     "iopub.status.idle": "2023-01-28T01:11:17.892364Z",
     "shell.execute_reply": "2023-01-28T01:11:17.891059Z"
    },
    "papermill": {
     "duration": 13.967543,
     "end_time": "2023-01-28T01:11:17.894495",
     "exception": false,
     "start_time": "2023-01-28T01:11:03.926952",
     "status": "completed"
    },
    "tags": []
   },
   "outputs": [
    {
     "name": "stdout",
     "output_type": "stream",
     "text": [
      "java : meilleur f1-score 75.27% pour limit 0.29\n",
      "c# : meilleur f1-score 66.49% pour limit 0.33\n",
      "javascript : meilleur f1-score 71.01% pour limit 0.35000000000000003\n",
      "python : meilleur f1-score 83.03% pour limit 0.25\n",
      "android : meilleur f1-score 86.18% pour limit 0.33\n",
      "c++ : meilleur f1-score 67.35% pour limit 0.32\n",
      "ios : meilleur f1-score 75.98% pour limit 0.29\n",
      "html : meilleur f1-score 62.78% pour limit 0.24\n",
      "php : meilleur f1-score 76.59% pour limit 0.26\n",
      ".net : meilleur f1-score 46.03% pour limit 0.2\n",
      "jquery : meilleur f1-score 71.47% pour limit 0.39\n",
      "css : meilleur f1-score 73.94% pour limit 0.3\n",
      "objective-c : meilleur f1-score 55.92% pour limit 0.24\n",
      "c : meilleur f1-score 54.32% pour limit 0.27\n",
      "sql : meilleur f1-score 62.25% pour limit 0.28\n",
      "iphone : meilleur f1-score 54.93% pour limit 0.21\n",
      "asp.net : meilleur f1-score 50.57% pour limit 0.19\n",
      "mysql : meilleur f1-score 70.61% pour limit 0.34\n",
      "linux : meilleur f1-score 52.89% pour limit 0.21\n",
      "node.js : meilleur f1-score 63.04% pour limit 0.28\n",
      "git : meilleur f1-score 80.75% pour limit 0.28\n"
     ]
    },
    {
     "data": {
      "image/png": "[encoded data removed]",
      "text/plain": [
       "<Figure size 2160x1080 with 1 Axes>"
      ]
     },
     "metadata": {
      "needs_background": "light"
     },
     "output_type": "display_data"
    },
    {
     "name": "stdout",
     "output_type": "stream",
     "text": [
      "Sur le jeu test avec limit par tag:\n",
      "              precision    recall  f1-score  support\n",
      "android        0.875000  0.848900  0.861752   2045.0\n",
      "python         0.824462  0.836141  0.830260   2612.0\n",
      "git            0.827586  0.788321  0.807477    274.0\n",
      "php            0.766626  0.765212  0.765918   1627.0\n",
      "ios            0.705828  0.822826  0.759849   1840.0\n",
      "java           0.737396  0.768690  0.752718   3558.0\n",
      "css            0.721988  0.757737  0.739431   1131.0\n",
      "jquery         0.741440  0.689857  0.714719   1538.0\n",
      "javascript     0.664245  0.762813  0.710125   3356.0\n",
      "mysql          0.733858  0.680292  0.706061    685.0\n",
      "weighted avg   0.658478  0.739892  0.692768  33044.0\n",
      "micro avg      0.638272  0.739892  0.685335  33044.0\n",
      "c++            0.636322  0.715377  0.673538   1964.0\n",
      "macro avg      0.634445  0.716112  0.667336  33044.0\n",
      "c#             0.611151  0.729053  0.664916   3473.0\n",
      "node.js        0.693662  0.577713  0.630400    682.0\n",
      "html           0.528884  0.772080  0.627751   1755.0\n",
      "sql            0.559012  0.702299  0.622517    870.0\n",
      "objective-c    0.463360  0.704955  0.559178    888.0\n",
      "iphone         0.437271  0.738538  0.549309    807.0\n",
      "samples avg    0.536793  0.601639  0.547244  33044.0\n",
      "c              0.493987  0.603390  0.543235    885.0\n",
      "linux          0.482424  0.585294  0.528904    680.0\n",
      "asp.net        0.449710  0.577640  0.505710    805.0\n",
      ".net           0.369130  0.611217  0.460283   1569.0\n",
      "CPU times: user 8.24 s, sys: 118 ms, total: 8.35 s\n",
      "Wall time: 8.61 s\n"
     ]
    }
   ],
   "source": [
    "%%time\n",
    "if description[\"Word2Vec_keras\"][\"actif\"]:\n",
    "    best_limits_kerasword2vec = p5_nlp_utils.Commun.find_best_limit_by_tags(\n",
    "        pred_kerasword2vec_proba, y_test, target_names, limits=np.linspace(0, 1, 101)\n",
    "    )\n",
    "    with open(\"/kaggle/working/best_limits_kerasword2vec.json\", \"w\") as outfile:\n",
    "        json.dump(best_limits_kerasword2vec, outfile)\n",
    "    pred_kerasword2vec = p5_nlp_utils.Commun.convert_pred_to_bool_by_tags(pred_kerasword2vec_proba, {k: v[0] for k, v in best_limits_kerasword2vec.items()})\n",
    "    scores_kerasword2vec = p5_nlp_utils.Commun.save_score(\n",
    "        y_true=y_test,\n",
    "        y_pred=pred_kerasword2vec,\n",
    "        target_names=target_names,\n",
    "        name=\"Word2Vec_keras\",\n",
    "    )\n",
    "    print(\"Sur le jeu test avec limit par tag:\")\n",
    "    print(scores_kerasword2vec.sort_values(by=\"f1-score\", ascending=False))"
   ]
  },
  {
   "cell_type": "markdown",
   "id": "a98d1058",
   "metadata": {
    "papermill": {
     "duration": 5.562155,
     "end_time": "2023-01-28T01:11:28.714799",
     "exception": false,
     "start_time": "2023-01-28T01:11:23.152644",
     "status": "completed"
    },
    "tags": []
   },
   "source": [
    "## Word2Vec puis OvR SVC"
   ]
  },
  {
   "cell_type": "code",
   "execution_count": 34,
   "id": "54b89262",
   "metadata": {
    "execution": {
     "iopub.execute_input": "2023-01-28T01:11:39.182000Z",
     "iopub.status.busy": "2023-01-28T01:11:39.181619Z",
     "iopub.status.idle": "2023-01-28T01:11:39.222566Z",
     "shell.execute_reply": "2023-01-28T01:11:39.221131Z"
    },
    "papermill": {
     "duration": 5.45762,
     "end_time": "2023-01-28T01:11:39.224822",
     "exception": false,
     "start_time": "2023-01-28T01:11:33.767202",
     "status": "completed"
    },
    "tags": []
   },
   "outputs": [
    {
     "name": "stdout",
     "output_type": "stream",
     "text": [
      "CPU times: user 118 µs, sys: 0 ns, total: 118 µs\n",
      "Wall time: 123 µs\n"
     ]
    }
   ],
   "source": [
    "%%time\n",
    "pipeline_w2v = pipeline.Pipeline(\n",
    "    [\n",
    "        (\n",
    "            \"keras_embed_transformer\",\n",
    "            p5_nlp_utils.KerasEmbedTransformer().init(description[\"Word2Vec_OVR\"]),\n",
    "        ),\n",
    "        (\n",
    "            \"OVR_SVC\",\n",
    "            multiclass.OneVsRestClassifier(\n",
    "                svm.SVC(\n",
    "                    cache_size=1080,\n",
    "                    max_iter=description[\"Word2Vec_OVR\"][\"max_iter\"],\n",
    "                    random_state=42,\n",
    "                )\n",
    "            ),\n",
    "        ),\n",
    "    ]\n",
    ")\n",
    "\n",
    "if description[\"Word2Vec_OVR\"][\"actif\"]:\n",
    "    with ignore_warnings(category=exceptions.ConvergenceWarning):\n",
    "        pipeline_w2v.fit(X_train, y_train)\n",
    "#         pipeline_w2v.fit(X_train[0:10], y_train[0:10])"
   ]
  },
  {
   "cell_type": "code",
   "execution_count": 35,
   "id": "4141cc04",
   "metadata": {
    "execution": {
     "iopub.execute_input": "2023-01-28T01:11:50.520767Z",
     "iopub.status.busy": "2023-01-28T01:11:50.520136Z",
     "iopub.status.idle": "2023-01-28T01:11:50.537124Z",
     "shell.execute_reply": "2023-01-28T01:11:50.535989Z"
    },
    "papermill": {
     "duration": 5.991915,
     "end_time": "2023-01-28T01:11:50.539262",
     "exception": false,
     "start_time": "2023-01-28T01:11:44.547347",
     "status": "completed"
    },
    "tags": []
   },
   "outputs": [
    {
     "name": "stdout",
     "output_type": "stream",
     "text": [
      "CPU times: user 5 µs, sys: 0 ns, total: 5 µs\n",
      "Wall time: 8.82 µs\n"
     ]
    }
   ],
   "source": [
    "%%time\n",
    "if description[\"Word2Vec_OVR\"][\"actif\"]:\n",
    "    pred_word2vec = pipeline_w2v.predict(X_test)\n",
    "    print(pred_word2vec)"
   ]
  },
  {
   "cell_type": "markdown",
   "id": "69fb5f19",
   "metadata": {
    "papermill": {
     "duration": 5.466517,
     "end_time": "2023-01-28T01:12:01.407533",
     "exception": false,
     "start_time": "2023-01-28T01:11:55.941016",
     "status": "completed"
    },
    "tags": []
   },
   "source": [
    "### i got the same issue as:\n",
    "https://stackoverflow.com/questions/37984304/how-to-save-a-scikit-learn-pipline-with-keras-regressor-inside-to-disk  \n",
    "Solution is to save keras model in separate file than remove it from the pipeline so it can be save with joblib  \n",
    "I did that in my `KerasEmbedTransformer` class `save` & `load` method"
   ]
  },
  {
   "cell_type": "code",
   "execution_count": 36,
   "id": "9071f982",
   "metadata": {
    "execution": {
     "iopub.execute_input": "2023-01-28T01:12:12.039773Z",
     "iopub.status.busy": "2023-01-28T01:12:12.039407Z",
     "iopub.status.idle": "2023-01-28T01:12:12.059050Z",
     "shell.execute_reply": "2023-01-28T01:12:12.058176Z"
    },
    "papermill": {
     "duration": 5.32998,
     "end_time": "2023-01-28T01:12:12.060861",
     "exception": false,
     "start_time": "2023-01-28T01:12:06.730881",
     "status": "completed"
    },
    "tags": []
   },
   "outputs": [],
   "source": [
    "if description[\"Word2Vec_OVR\"][\"actif\"]:\n",
    "    pipeline_w2v.named_steps[\"keras_embed_transformer\"].save(\"keras\")\n",
    "    # Otherwise i can save it but not load in api\n",
    "    #     pipeline_w2v.named_steps[\"keras_embed_transformer\"] = \"passthrough\"  # __module__\n",
    "    #     pipeline_w2v.named_steps[\"keras_embed_transformer\"].__module__ = None\n",
    "    ## i have issue loading the joblib in api so i try to delete the step from the pipeline\n",
    "    pipeline_w2v.steps.pop(0)\n",
    "    pipeline_w2v.steps.insert(0, (\"keras_embed_transformer\", \"passthrough\"))\n",
    "    print(pipeline_w2v)"
   ]
  },
  {
   "cell_type": "code",
   "execution_count": 37,
   "id": "c751e283",
   "metadata": {
    "execution": {
     "iopub.execute_input": "2023-01-28T01:12:23.192093Z",
     "iopub.status.busy": "2023-01-28T01:12:23.191714Z",
     "iopub.status.idle": "2023-01-28T01:12:23.211296Z",
     "shell.execute_reply": "2023-01-28T01:12:23.210436Z"
    },
    "papermill": {
     "duration": 5.911662,
     "end_time": "2023-01-28T01:12:23.213277",
     "exception": false,
     "start_time": "2023-01-28T01:12:17.301615",
     "status": "completed"
    },
    "tags": []
   },
   "outputs": [],
   "source": [
    "if description[\"Word2Vec_OVR\"][\"actif\"]:\n",
    "    scores_word2vec = p5_nlp_utils.Commun.save_score(\n",
    "        y_test, pred_word2vec, target_names, \"Word2Vec\"\n",
    "    )\n",
    "    joblib.dump(pipeline_w2v, \"Word2Vec_model.joblib\")\n",
    "    print(scores_word2vec.sort_values(by=\"f1-score\", ascending=False))"
   ]
  },
  {
   "cell_type": "markdown",
   "id": "3884561f",
   "metadata": {
    "papermill": {
     "duration": 5.550151,
     "end_time": "2023-01-28T01:12:33.918307",
     "exception": false,
     "start_time": "2023-01-28T01:12:28.368156",
     "status": "completed"
    },
    "tags": []
   },
   "source": [
    "### test to reimport saved model"
   ]
  },
  {
   "cell_type": "code",
   "execution_count": 38,
   "id": "c9f3e034",
   "metadata": {
    "execution": {
     "iopub.execute_input": "2023-01-28T01:12:44.730317Z",
     "iopub.status.busy": "2023-01-28T01:12:44.729904Z",
     "iopub.status.idle": "2023-01-28T01:12:44.753055Z",
     "shell.execute_reply": "2023-01-28T01:12:44.752141Z"
    },
    "papermill": {
     "duration": 5.530753,
     "end_time": "2023-01-28T01:12:44.755143",
     "exception": false,
     "start_time": "2023-01-28T01:12:39.224390",
     "status": "completed"
    },
    "tags": []
   },
   "outputs": [],
   "source": [
    "if description[\"Word2Vec_OVR\"][\"actif\"] and LONG:\n",
    "    loaded = joblib.load(\"/kaggle/working/Word2Vec_model.joblib\")\n",
    "    loaded.named_steps[\n",
    "        \"keras_embed_transformer\"\n",
    "    ] = p5_nlp_utils.KerasEmbedTransformer().load(\n",
    "        \"/kaggle/working/keras\", description[\"Word2Vec_OVR\"]\n",
    "    )\n",
    "    pred_word2vec == loaded.predict(X_test)"
   ]
  },
  {
   "cell_type": "markdown",
   "id": "409f7a6d",
   "metadata": {
    "papermill": {
     "duration": 5.801227,
     "end_time": "2023-01-28T01:12:55.884423",
     "exception": false,
     "start_time": "2023-01-28T01:12:50.083196",
     "status": "completed"
    },
    "tags": []
   },
   "source": [
    "# BERT\n",
    "Bidirectional Encoder Representations from Transformers  \n",
    "[Article explication en français](https://www.quantmetry.com/glossaire/bert-nlp/)  \n",
    "[Exemple multi-classification](https://www.analyticsvidhya.com/blog/2020/10/simple-text-multi-classification-task-using-keras-bert)"
   ]
  },
  {
   "cell_type": "code",
   "execution_count": 39,
   "id": "377f0fc9",
   "metadata": {
    "execution": {
     "iopub.execute_input": "2023-01-28T01:13:06.407207Z",
     "iopub.status.busy": "2023-01-28T01:13:06.406771Z",
     "iopub.status.idle": "2023-01-28T01:13:06.414454Z",
     "shell.execute_reply": "2023-01-28T01:13:06.413598Z"
    },
    "papermill": {
     "duration": 5.332581,
     "end_time": "2023-01-28T01:13:06.416907",
     "exception": false,
     "start_time": "2023-01-28T01:13:01.084326",
     "status": "completed"
    },
    "tags": []
   },
   "outputs": [],
   "source": [
    "## check gpu\n",
    "# import torch\n",
    "# torch.cuda.is_available()"
   ]
  },
  {
   "cell_type": "code",
   "execution_count": 40,
   "id": "2b8f6c12",
   "metadata": {
    "execution": {
     "iopub.execute_input": "2023-01-28T01:13:17.011299Z",
     "iopub.status.busy": "2023-01-28T01:13:17.010914Z",
     "iopub.status.idle": "2023-01-28T01:13:17.023861Z",
     "shell.execute_reply": "2023-01-28T01:13:17.022954Z"
    },
    "papermill": {
     "duration": 5.363634,
     "end_time": "2023-01-28T01:13:17.025964",
     "exception": false,
     "start_time": "2023-01-28T01:13:11.662330",
     "status": "completed"
    },
    "tags": []
   },
   "outputs": [],
   "source": [
    "if description[\"BERT\"][\"actif\"]:\n",
    "    print(description[\"BERT\"])\n",
    "    configuration = BertConfig()\n",
    "    print(configuration)"
   ]
  },
  {
   "cell_type": "code",
   "execution_count": 41,
   "id": "aed12181",
   "metadata": {
    "execution": {
     "iopub.execute_input": "2023-01-28T01:13:28.040100Z",
     "iopub.status.busy": "2023-01-28T01:13:28.039712Z",
     "iopub.status.idle": "2023-01-28T01:13:28.045400Z",
     "shell.execute_reply": "2023-01-28T01:13:28.044432Z"
    },
    "papermill": {
     "duration": 5.240274,
     "end_time": "2023-01-28T01:13:28.047634",
     "exception": false,
     "start_time": "2023-01-28T01:13:22.807360",
     "status": "completed"
    },
    "tags": []
   },
   "outputs": [],
   "source": [
    "# %%time\n",
    "# if description[\"BERT\"][\"actif\"]:\n",
    "#     tokenizer = p5_nlp_utils.Bert.get_tokenizer(\n",
    "#         model_max_length=description[\"BERT\"][\"max_length\"],\n",
    "#         save_path=\"bert_base_uncased/\",\n",
    "#     )"
   ]
  },
  {
   "cell_type": "code",
   "execution_count": 42,
   "id": "e8c38c3b",
   "metadata": {
    "execution": {
     "iopub.execute_input": "2023-01-28T01:13:38.586349Z",
     "iopub.status.busy": "2023-01-28T01:13:38.585762Z",
     "iopub.status.idle": "2023-01-28T01:13:38.606814Z",
     "shell.execute_reply": "2023-01-28T01:13:38.605665Z"
    },
    "papermill": {
     "duration": 5.22875,
     "end_time": "2023-01-28T01:13:38.609363",
     "exception": false,
     "start_time": "2023-01-28T01:13:33.380613",
     "status": "completed"
    },
    "tags": []
   },
   "outputs": [
    {
     "name": "stdout",
     "output_type": "stream",
     "text": [
      "CPU times: user 5 µs, sys: 1e+03 ns, total: 6 µs\n",
      "Wall time: 8.11 µs\n"
     ]
    }
   ],
   "source": [
    "%%time\n",
    "if description[\"BERT\"][\"actif\"]:\n",
    "    X_train_bert = p5_nlp_utils.Bert.create_bert_inputs(\n",
    "        X_train.values, max_len=description[\"BERT\"][\"max_length\"]\n",
    "    )\n",
    "    print(\"Shape input BERT tupple 3*\", X_train_bert[0].shape)"
   ]
  },
  {
   "cell_type": "code",
   "execution_count": 43,
   "id": "dd80ea10",
   "metadata": {
    "execution": {
     "iopub.execute_input": "2023-01-28T01:13:49.312227Z",
     "iopub.status.busy": "2023-01-28T01:13:49.311866Z",
     "iopub.status.idle": "2023-01-28T01:13:49.332226Z",
     "shell.execute_reply": "2023-01-28T01:13:49.331070Z"
    },
    "papermill": {
     "duration": 5.349745,
     "end_time": "2023-01-28T01:13:49.334198",
     "exception": false,
     "start_time": "2023-01-28T01:13:43.984453",
     "status": "completed"
    },
    "tags": []
   },
   "outputs": [
    {
     "name": "stdout",
     "output_type": "stream",
     "text": [
      "CPU times: user 4 µs, sys: 0 ns, total: 4 µs\n",
      "Wall time: 8.11 µs\n"
     ]
    }
   ],
   "source": [
    "%%time\n",
    "if description[\"BERT\"][\"actif\"]:\n",
    "    #     bert_model = p5_nlp_utils.Bert.create_bert_model(\n",
    "    #         params=description[\"BERT\"], target_names=target_names\n",
    "    #     )\n",
    "    bert_model = p5_nlp_utils.Bert.build_bert_model(\n",
    "        max_len=description[\"BERT\"][\"max_length\"], target_names=target_names\n",
    "    )\n",
    "    print(bert_model.summary())"
   ]
  },
  {
   "cell_type": "code",
   "execution_count": 44,
   "id": "d87111a8",
   "metadata": {
    "execution": {
     "iopub.execute_input": "2023-01-28T01:14:00.498947Z",
     "iopub.status.busy": "2023-01-28T01:14:00.498356Z",
     "iopub.status.idle": "2023-01-28T01:14:00.519158Z",
     "shell.execute_reply": "2023-01-28T01:14:00.518237Z"
    },
    "papermill": {
     "duration": 5.318728,
     "end_time": "2023-01-28T01:14:00.522827",
     "exception": false,
     "start_time": "2023-01-28T01:13:55.204099",
     "status": "completed"
    },
    "tags": []
   },
   "outputs": [
    {
     "name": "stdout",
     "output_type": "stream",
     "text": [
      "CPU times: user 5 µs, sys: 0 ns, total: 5 µs\n",
      "Wall time: 8.34 µs\n"
     ]
    }
   ],
   "source": [
    "%%time\n",
    "if description[\"BERT\"][\"actif\"]:\n",
    "    bert_model.fit(\n",
    "        #         np.array(\n",
    "        #             [create_bert_input_target(x, description[\"BERT\"]) for x in X_train.values]\n",
    "        #         ),\n",
    "        X_train_bert,\n",
    "        y_train,\n",
    "        epochs=description[\"BERT\"][\"epochs\"],\n",
    "        verbose=3,\n",
    "    )"
   ]
  },
  {
   "cell_type": "code",
   "execution_count": 45,
   "id": "d8584ea7",
   "metadata": {
    "execution": {
     "iopub.execute_input": "2023-01-28T01:14:11.092943Z",
     "iopub.status.busy": "2023-01-28T01:14:11.090973Z",
     "iopub.status.idle": "2023-01-28T01:14:11.137385Z",
     "shell.execute_reply": "2023-01-28T01:14:11.136207Z"
    },
    "papermill": {
     "duration": 5.236224,
     "end_time": "2023-01-28T01:14:11.139499",
     "exception": false,
     "start_time": "2023-01-28T01:14:05.903275",
     "status": "completed"
    },
    "tags": []
   },
   "outputs": [
    {
     "name": "stdout",
     "output_type": "stream",
     "text": [
      "CPU times: user 5 µs, sys: 0 ns, total: 5 µs\n",
      "Wall time: 8.11 µs\n"
     ]
    }
   ],
   "source": [
    "%%time\n",
    "if description[\"BERT\"][\"actif\"]:\n",
    "    bert_model.save(\"BERT\")\n",
    "    #     pred_bert_proba = bert_model.predict(\n",
    "    #         np.array(\n",
    "    #             [create_bert_input_target(x, description[\"BERT\"]) for x in X_test.values]\n",
    "    #         )\n",
    "    #     )\n",
    "    pred_bert_proba = bert_model.predict(\n",
    "        p5_nlp_utils.Bert.create_bert_inputs(\n",
    "            X_test.values, max_len=description[\"BERT\"][\"max_length\"]\n",
    "        )\n",
    "    )\n",
    "    print(pred_bert_proba)\n",
    "    best, f1_score_avg = p5_nlp_utils.Commun.find_best_limit(\n",
    "        pred_bert_proba, y_test, target_names\n",
    "    )\n",
    "    pred_bert = p5_nlp_utils.Commun.convert_pred_to_bool(pred_bert_proba, limit=best)\n",
    "    #     print(pred_bert.value_counts())\n",
    "    scores_bert = p5_nlp_utils.Commun.save_score(\n",
    "        y_test,\n",
    "        pred_bert,\n",
    "        target_names,\n",
    "        None,\n",
    "    )\n",
    "    print(scores_bert.sort_values(by=\"f1-score\", ascending=False))"
   ]
  },
  {
   "cell_type": "markdown",
   "id": "c5f618b1",
   "metadata": {
    "papermill": {
     "duration": 5.204621,
     "end_time": "2023-01-28T01:14:21.739640",
     "exception": false,
     "start_time": "2023-01-28T01:14:16.535019",
     "status": "completed"
    },
    "tags": []
   },
   "source": [
    "Test avec limit/seuil différent par tag"
   ]
  },
  {
   "cell_type": "code",
   "execution_count": 46,
   "id": "e22bfdbd",
   "metadata": {
    "execution": {
     "iopub.execute_input": "2023-01-28T01:14:33.007508Z",
     "iopub.status.busy": "2023-01-28T01:14:33.007146Z",
     "iopub.status.idle": "2023-01-28T01:14:33.076591Z",
     "shell.execute_reply": "2023-01-28T01:14:33.075376Z"
    },
    "papermill": {
     "duration": 5.324141,
     "end_time": "2023-01-28T01:14:33.078760",
     "exception": false,
     "start_time": "2023-01-28T01:14:27.754619",
     "status": "completed"
    },
    "tags": []
   },
   "outputs": [
    {
     "name": "stdout",
     "output_type": "stream",
     "text": [
      "CPU times: user 5 µs, sys: 0 ns, total: 5 µs\n",
      "Wall time: 9.06 µs\n"
     ]
    }
   ],
   "source": [
    "%%time\n",
    "if description[\"BERT\"][\"actif\"]:\n",
    "    best_limits_bert = p5_nlp_utils.Commun.find_best_limit_by_tags(\n",
    "        pred_bert_proba, y_test, target_names, limits=np.linspace(0, 1, 101)\n",
    "    )\n",
    "    with open(\"/kaggle/working/best_limits_bert.json\", \"w\") as outfile:\n",
    "        json.dump(best_limits_bert, outfile)\n",
    "    pred_bert_2 = p5_nlp_utils.Commun.convert_pred_to_bool_by_tags(pred_bert_proba, {k: v[0] for k, v in best_limits_bert.items()})\n",
    "    scores_bert_2 = p5_nlp_utils.Commun.save_score(\n",
    "        y_true=y_test,\n",
    "        y_pred=pred_bert_2,\n",
    "        target_names=target_names,\n",
    "        name=\"BERT\",\n",
    "    )\n",
    "    print(\"Sur le jeu test avec limit par tag:\")\n",
    "    print(scores_bert_2.sort_values(by=\"f1-score\", ascending=False))"
   ]
  },
  {
   "cell_type": "code",
   "execution_count": 47,
   "id": "d7f6e40b",
   "metadata": {
    "execution": {
     "iopub.execute_input": "2023-01-28T01:14:43.662973Z",
     "iopub.status.busy": "2023-01-28T01:14:43.662594Z",
     "iopub.status.idle": "2023-01-28T01:14:43.668481Z",
     "shell.execute_reply": "2023-01-28T01:14:43.667445Z"
    },
    "papermill": {
     "duration": 5.202181,
     "end_time": "2023-01-28T01:14:43.671030",
     "exception": false,
     "start_time": "2023-01-28T01:14:38.468849",
     "status": "completed"
    },
    "tags": []
   },
   "outputs": [],
   "source": [
    "# # detect and init the TPU\n",
    "# tpu = tf.distribute.cluster_resolver.TPUClusterResolver.connect()\n",
    "\n",
    "# # instantiate a distribution strategy\n",
    "# tpu_strategy = tf.distribute.experimental.TPUStrategy(tpu)\n",
    "# with tpu_strategy.scope():\n",
    "# ..."
   ]
  },
  {
   "cell_type": "code",
   "execution_count": 48,
   "id": "1713f8ef",
   "metadata": {
    "execution": {
     "iopub.execute_input": "2023-01-28T01:14:54.413913Z",
     "iopub.status.busy": "2023-01-28T01:14:54.413553Z",
     "iopub.status.idle": "2023-01-28T01:14:54.418674Z",
     "shell.execute_reply": "2023-01-28T01:14:54.417706Z"
    },
    "papermill": {
     "duration": 5.179398,
     "end_time": "2023-01-28T01:14:54.420696",
     "exception": false,
     "start_time": "2023-01-28T01:14:49.241298",
     "status": "completed"
    },
    "tags": []
   },
   "outputs": [],
   "source": [
    "# %%time\n",
    "# model = BertTransformer(list(X_train[0:5]), params=description[\"BERT\"])\n",
    "# model"
   ]
  },
  {
   "cell_type": "code",
   "execution_count": 49,
   "id": "cb5cd6db",
   "metadata": {
    "execution": {
     "iopub.execute_input": "2023-01-28T01:15:05.523408Z",
     "iopub.status.busy": "2023-01-28T01:15:05.522798Z",
     "iopub.status.idle": "2023-01-28T01:15:05.531529Z",
     "shell.execute_reply": "2023-01-28T01:15:05.530595Z"
    },
    "papermill": {
     "duration": 5.179086,
     "end_time": "2023-01-28T01:15:05.533980",
     "exception": false,
     "start_time": "2023-01-28T01:15:00.354894",
     "status": "completed"
    },
    "tags": []
   },
   "outputs": [],
   "source": [
    "# %%time\n",
    "# model = BertTransformer(list(X_train[0:50_000]), params=description[\"BERT\"])\n",
    "# # model = BertTransformer(list(X_train), params=description[\"BERT\"])\n",
    "# model\n",
    "# # model.mean(axis=1)"
   ]
  },
  {
   "cell_type": "markdown",
   "id": "106dbd02",
   "metadata": {
    "papermill": {
     "duration": 5.240941,
     "end_time": "2023-01-28T01:15:16.162159",
     "exception": false,
     "start_time": "2023-01-28T01:15:10.921218",
     "status": "completed"
    },
    "tags": []
   },
   "source": [
    "# USE"
   ]
  },
  {
   "cell_type": "code",
   "execution_count": 50,
   "id": "345dc9de",
   "metadata": {
    "execution": {
     "iopub.execute_input": "2023-01-28T01:15:26.907065Z",
     "iopub.status.busy": "2023-01-28T01:15:26.906450Z",
     "iopub.status.idle": "2023-01-28T01:15:26.932256Z",
     "shell.execute_reply": "2023-01-28T01:15:26.931040Z"
    },
    "papermill": {
     "duration": 5.288039,
     "end_time": "2023-01-28T01:15:26.935123",
     "exception": false,
     "start_time": "2023-01-28T01:15:21.647084",
     "status": "completed"
    },
    "tags": []
   },
   "outputs": [
    {
     "name": "stdout",
     "output_type": "stream",
     "text": [
      "CPU times: user 5 µs, sys: 0 ns, total: 5 µs\n",
      "Wall time: 11 µs\n"
     ]
    }
   ],
   "source": [
    "%%time\n",
    "if description[\"USE\"][\"actif\"]:\n",
    "    embed = hub.load(\"https://tfhub.dev/google/universal-sentence-encoder/4\")\n",
    "    X_train_use = embed(X_train.values)\n",
    "    print(X_train_use.numpy().shape)"
   ]
  },
  {
   "cell_type": "code",
   "execution_count": 51,
   "id": "a423c80e",
   "metadata": {
    "execution": {
     "iopub.execute_input": "2023-01-28T01:15:37.884454Z",
     "iopub.status.busy": "2023-01-28T01:15:37.883945Z",
     "iopub.status.idle": "2023-01-28T01:15:37.929785Z",
     "shell.execute_reply": "2023-01-28T01:15:37.928574Z"
    },
    "papermill": {
     "duration": 5.234782,
     "end_time": "2023-01-28T01:15:37.931834",
     "exception": false,
     "start_time": "2023-01-28T01:15:32.697052",
     "status": "completed"
    },
    "tags": []
   },
   "outputs": [
    {
     "name": "stdout",
     "output_type": "stream",
     "text": [
      "CPU times: user 5 µs, sys: 1e+03 ns, total: 6 µs\n",
      "Wall time: 9.06 µs\n"
     ]
    }
   ],
   "source": [
    "%%time\n",
    "if description[\"USE\"][\"actif\"]:\n",
    "    USEkerasPipeline = tf.keras.models.Sequential(\n",
    "        [\n",
    "            tf.keras.Input(shape=(512,)),  # tensor=X_train_use),\n",
    "            tf.keras.layers.Dense(128, activation=\"relu\"),\n",
    "            tf.keras.layers.Dense(len(target_names), activation=\"sigmoid\"),\n",
    "        ]\n",
    "    )\n",
    "    USEkerasPipeline.compile(\n",
    "        optimizer=\"adam\",\n",
    "        loss=tf.keras.losses.BinaryCrossentropy(),\n",
    "        metrics=[\"accuracy\"],\n",
    "    )\n",
    "    USEkerasPipeline.fit(\n",
    "        X_train_use.numpy(),\n",
    "        y_train,\n",
    "        epochs=description[\"USE\"][\"epochs\"],\n",
    "        verbose=3,\n",
    "    )"
   ]
  },
  {
   "cell_type": "code",
   "execution_count": 52,
   "id": "4b397507",
   "metadata": {
    "execution": {
     "iopub.execute_input": "2023-01-28T01:15:48.568631Z",
     "iopub.status.busy": "2023-01-28T01:15:48.568235Z",
     "iopub.status.idle": "2023-01-28T01:15:48.615853Z",
     "shell.execute_reply": "2023-01-28T01:15:48.614594Z"
    },
    "papermill": {
     "duration": 5.286362,
     "end_time": "2023-01-28T01:15:48.618063",
     "exception": false,
     "start_time": "2023-01-28T01:15:43.331701",
     "status": "completed"
    },
    "tags": []
   },
   "outputs": [
    {
     "name": "stdout",
     "output_type": "stream",
     "text": [
      "CPU times: user 5 µs, sys: 0 ns, total: 5 µs\n",
      "Wall time: 9.06 µs\n"
     ]
    }
   ],
   "source": [
    "%%time\n",
    "if description[\"USE\"][\"actif\"]:\n",
    "    X_pred_test_use = USEkerasPipeline.predict(embed(X_test.values))\n",
    "    #     print(X_pred_test_use)\n",
    "    best, f1_score_avg = p5_nlp_utils.Commun.find_best_limit(\n",
    "        X_pred_test_use, y_test, target_names, limits=np.linspace(0, 1, 101)\n",
    "    )\n",
    "    pred_use_bool = p5_nlp_utils.Commun.convert_pred_to_bool(\n",
    "        X_pred_test_use, limit=best\n",
    "    )\n",
    "    use_pred_test_score = p5_nlp_utils.Commun.save_score(\n",
    "        y_true=y_test,\n",
    "        y_pred=pred_use_bool,\n",
    "        target_names=target_names,\n",
    "        name=None,\n",
    "    )\n",
    "    print(\"Sur le jeu test:\")\n",
    "    print(use_pred_test_score.sort_values(by=\"f1-score\", ascending=False))\n",
    "    USEkerasPipeline.save(\"kerasUSE\")"
   ]
  },
  {
   "cell_type": "markdown",
   "id": "9e6aa57d",
   "metadata": {
    "papermill": {
     "duration": 5.609008,
     "end_time": "2023-01-28T01:15:59.653723",
     "exception": false,
     "start_time": "2023-01-28T01:15:54.044715",
     "status": "completed"
    },
    "tags": []
   },
   "source": [
    "La limite optimal peut etre différente en fonction des tags:"
   ]
  },
  {
   "cell_type": "code",
   "execution_count": 53,
   "id": "a2a9473c",
   "metadata": {
    "execution": {
     "iopub.execute_input": "2023-01-28T01:16:10.200319Z",
     "iopub.status.busy": "2023-01-28T01:16:10.199958Z",
     "iopub.status.idle": "2023-01-28T01:16:10.243459Z",
     "shell.execute_reply": "2023-01-28T01:16:10.242226Z"
    },
    "papermill": {
     "duration": 5.211613,
     "end_time": "2023-01-28T01:16:10.245598",
     "exception": false,
     "start_time": "2023-01-28T01:16:05.033985",
     "status": "completed"
    },
    "tags": []
   },
   "outputs": [
    {
     "name": "stdout",
     "output_type": "stream",
     "text": [
      "CPU times: user 5 µs, sys: 0 ns, total: 5 µs\n",
      "Wall time: 9.06 µs\n"
     ]
    }
   ],
   "source": [
    "%%time\n",
    "if description[\"USE\"][\"actif\"]:\n",
    "    best_limits_use = p5_nlp_utils.Commun.find_best_limit_by_tags(\n",
    "        X_pred_test_use, y_test, target_names, limits=np.linspace(0, 1, 101)\n",
    "    )\n",
    "#     print(best_limits_use)\n",
    "    with open(\"/kaggle/working/best_limits_use.json\", \"w\") as outfile:\n",
    "        json.dump(best_limits_use, outfile)\n",
    "        \n",
    "    pred_use_bool_2 = p5_nlp_utils.Commun.convert_pred_to_bool_by_tags(X_pred_test_use, {k: v[0] for k, v in best_limits_use.items()})\n",
    "    use_pred_test_score_2 = p5_nlp_utils.Commun.save_score(\n",
    "        y_true=y_test,\n",
    "        y_pred=pred_use_bool_2,\n",
    "        target_names=target_names,\n",
    "        name=\"kerasUSE\",\n",
    "    )\n",
    "    print(\"Sur le jeu test avec limit par tag:\")\n",
    "    print(use_pred_test_score_2.sort_values(by=\"f1-score\", ascending=False))"
   ]
  },
  {
   "cell_type": "code",
   "execution_count": 54,
   "id": "492b3426",
   "metadata": {
    "execution": {
     "iopub.execute_input": "2023-01-28T01:16:20.836749Z",
     "iopub.status.busy": "2023-01-28T01:16:20.836387Z",
     "iopub.status.idle": "2023-01-28T01:16:20.845657Z",
     "shell.execute_reply": "2023-01-28T01:16:20.844703Z"
    },
    "papermill": {
     "duration": 5.216765,
     "end_time": "2023-01-28T01:16:20.847646",
     "exception": false,
     "start_time": "2023-01-28T01:16:15.630881",
     "status": "completed"
    },
    "tags": []
   },
   "outputs": [],
   "source": [
    "# f1_scores = pd.DataFrame(\n",
    "#     [\n",
    "#         p5_nlp_utils.Commun.save_score(\n",
    "#             y_true=y_test,\n",
    "#             y_pred=p5_nlp_utils.Commun.convert_pred_to_bool(\n",
    "#                 X_pred_test_use, limit=limit\n",
    "#             ),\n",
    "#             target_names=target_names,\n",
    "#             name=None,\n",
    "#         ).loc[target_names, \"f1-score\"]\n",
    "#         for limit in np.linspace(0, 1, 101)\n",
    "#     ],\n",
    "#     index=np.linspace(0, 1, 101),\n",
    "# )"
   ]
  },
  {
   "cell_type": "code",
   "execution_count": 55,
   "id": "149451e5",
   "metadata": {
    "execution": {
     "iopub.execute_input": "2023-01-28T01:16:31.957369Z",
     "iopub.status.busy": "2023-01-28T01:16:31.956758Z",
     "iopub.status.idle": "2023-01-28T01:16:31.991797Z",
     "shell.execute_reply": "2023-01-28T01:16:31.990911Z"
    },
    "papermill": {
     "duration": 5.670748,
     "end_time": "2023-01-28T01:16:31.993955",
     "exception": false,
     "start_time": "2023-01-28T01:16:26.323207",
     "status": "completed"
    },
    "tags": []
   },
   "outputs": [],
   "source": [
    "if description[\"USE\"][\"actif\"] and description[\"USE\"][\"tsne_visu\"]:\n",
    "    use_pred_train = USEkerasPipeline.predict(X_train_use)\n",
    "    use_pred_train_bool = p5_nlp_utils.Commun.convert_pred_to_bool_by_tags(use_pred_train, {k: v[0] for k, v in best_limits_use.items()})\n",
    "    use_pred_train_score = p5_nlp_utils.Commun.save_score(\n",
    "        y_true=y_train, y_pred=use_pred_train_bool, target_names=target_names, name=None\n",
    "    )\n",
    "    print(\"Sur le jeu d'entrainement:\")\n",
    "    print(use_pred_train_score.sort_values(by=\"f1-score\", ascending=False))"
   ]
  },
  {
   "cell_type": "code",
   "execution_count": 56,
   "id": "1f860e83",
   "metadata": {
    "execution": {
     "iopub.execute_input": "2023-01-28T01:16:42.574906Z",
     "iopub.status.busy": "2023-01-28T01:16:42.574559Z",
     "iopub.status.idle": "2023-01-28T01:16:42.626890Z",
     "shell.execute_reply": "2023-01-28T01:16:42.625658Z"
    },
    "papermill": {
     "duration": 5.290397,
     "end_time": "2023-01-28T01:16:42.629015",
     "exception": false,
     "start_time": "2023-01-28T01:16:37.338618",
     "status": "completed"
    },
    "tags": []
   },
   "outputs": [
    {
     "name": "stdout",
     "output_type": "stream",
     "text": [
      "CPU times: user 5 µs, sys: 0 ns, total: 5 µs\n",
      "Wall time: 8.58 µs\n"
     ]
    }
   ],
   "source": [
    "%%time\n",
    "if description[\"USE\"][\"actif\"] and description[\"USE\"][\"tsne_visu\"]:\n",
    "    X_train_use_tsne = p5_nlp_utils.Commun.calcul_tsne(X_train_use)\n",
    "    print(\"Tag Réél:\")\n",
    "    p5_nlp_utils.Commun.visu_tsne(\n",
    "        X_tsne=X_train_use_tsne,\n",
    "        y_train_monodim=y_train_monodim,\n",
    "        y_train=y_train,\n",
    "        target_names=target_names,\n",
    "        tag_list=[\n",
    "            \"java\",\n",
    "            \"c#\",\n",
    "            \"python\",\n",
    "            \"android\",\n",
    "            \"php\",\n",
    "            \".net\",\n",
    "            \"mysql\",\n",
    "            \"sql\",\n",
    "            \"javascript\",\n",
    "            \"jquery\",\n",
    "            \"html\",\n",
    "            \"node.js\",\n",
    "            \"css\",\n",
    "            \"c\",\n",
    "            \"mysql\",\n",
    "            \"linux\",\n",
    "            \"git\",\n",
    "        ],\n",
    "    )\n",
    "    print(\"Tag prédit:\")\n",
    "    p5_nlp_utils.Commun.visu_tsne(\n",
    "        X_tsne=X_train_use_tsne,\n",
    "        y_train_monodim=y_train_monodim,\n",
    "        y_train=use_pred_train_bool,\n",
    "        target_names=target_names,\n",
    "        tag_list=[\n",
    "            \"python\",\n",
    "            \"java\",\n",
    "            \"git\",\n",
    "            \"android\",\n",
    "            \"javascript\",\n",
    "            \"css\"\n",
    "        ],\n",
    "        maxcols=3,\n",
    "    )"
   ]
  },
  {
   "cell_type": "markdown",
   "id": "3b36c157",
   "metadata": {
    "papermill": {
     "duration": 5.428064,
     "end_time": "2023-01-28T01:16:53.634596",
     "exception": false,
     "start_time": "2023-01-28T01:16:48.206532",
     "status": "completed"
    },
    "tags": []
   },
   "source": [
    "# LDA "
   ]
  },
  {
   "cell_type": "code",
   "execution_count": 57,
   "id": "4711924a",
   "metadata": {
    "execution": {
     "iopub.execute_input": "2023-01-28T01:17:04.741564Z",
     "iopub.status.busy": "2023-01-28T01:17:04.741210Z",
     "iopub.status.idle": "2023-01-28T01:17:04.746270Z",
     "shell.execute_reply": "2023-01-28T01:17:04.745329Z"
    },
    "papermill": {
     "duration": 5.66382,
     "end_time": "2023-01-28T01:17:04.748176",
     "exception": false,
     "start_time": "2023-01-28T01:16:59.084356",
     "status": "completed"
    },
    "tags": []
   },
   "outputs": [],
   "source": [
    "# import importlib\n",
    "\n",
    "# importlib.reload(p5_nlp_utils)"
   ]
  },
  {
   "cell_type": "code",
   "execution_count": 58,
   "id": "f4838350",
   "metadata": {
    "execution": {
     "iopub.execute_input": "2023-01-28T01:17:15.288260Z",
     "iopub.status.busy": "2023-01-28T01:17:15.287887Z",
     "iopub.status.idle": "2023-01-28T01:17:15.293736Z",
     "shell.execute_reply": "2023-01-28T01:17:15.292734Z"
    },
    "papermill": {
     "duration": 5.183785,
     "end_time": "2023-01-28T01:17:15.295629",
     "exception": false,
     "start_time": "2023-01-28T01:17:10.111844",
     "status": "completed"
    },
    "tags": []
   },
   "outputs": [],
   "source": [
    "import warnings"
   ]
  },
  {
   "cell_type": "code",
   "execution_count": 59,
   "id": "0bac0727",
   "metadata": {
    "execution": {
     "iopub.execute_input": "2023-01-28T01:17:26.167819Z",
     "iopub.status.busy": "2023-01-28T01:17:26.167455Z",
     "iopub.status.idle": "2023-01-28T01:17:26.224303Z",
     "shell.execute_reply": "2023-01-28T01:17:26.222900Z"
    },
    "papermill": {
     "duration": 5.405399,
     "end_time": "2023-01-28T01:17:26.226473",
     "exception": false,
     "start_time": "2023-01-28T01:17:20.821074",
     "status": "completed"
    },
    "tags": []
   },
   "outputs": [
    {
     "name": "stdout",
     "output_type": "stream",
     "text": [
      "CPU times: user 5 µs, sys: 0 ns, total: 5 µs\n",
      "Wall time: 8.58 µs\n"
     ]
    }
   ],
   "source": [
    "%%time\n",
    "lda_models = {}\n",
    "if description[\"LDA\"][\"actif\"]:\n",
    "    print(description[\"LDA\"])\n",
    "    X_train_tokens = X_train.str.split()\n",
    "    nb_num_topics = len(description[\"LDA\"][\"num_topics\"])\n",
    "    warnings.filterwarnings(\"ignore\", category=DeprecationWarning)\n",
    "    for indice, num_topics in enumerate(description[\"LDA\"][\"num_topics\"]):\n",
    "        print(f\"Début {num_topics}topics ({indice+1}/{nb_num_topics})\")\n",
    "        lda_model = p5_nlp_utils.LDA(\n",
    "            tokens=X_train_tokens,\n",
    "            num_topics=num_topics,\n",
    "            no_below=description[\"LDA\"][\"lda__no_below\"],\n",
    "            no_above=description[\"LDA\"][\"lda__no_above\"],\n",
    "            max_tokens=description[\"LDA\"][\"lda__max_tokens\"],\n",
    "            iterations=description[\"LDA\"][\"lda__iterations\"],\n",
    "        )\n",
    "        print(f\"Nommage des topis\")\n",
    "        lda_model.name_topics(target_names)\n",
    "        # print(lda_model.topics_names)\n",
    "        lda_model.word_cloud_by_topics(\n",
    "            nb_words=description[\"LDA\"][\"word_cloud__nb_words\"]\n",
    "        )\n",
    "        lda_models[indice] = lda_model.prepare_display()"
   ]
  },
  {
   "cell_type": "markdown",
   "id": "eaddea3c",
   "metadata": {
    "papermill": {
     "duration": 5.693818,
     "end_time": "2023-01-28T01:17:37.321086",
     "exception": false,
     "start_time": "2023-01-28T01:17:31.627268",
     "status": "completed"
    },
    "tags": []
   },
   "source": [
    "### Affichage des topics avec pyLDAvis:"
   ]
  },
  {
   "cell_type": "code",
   "execution_count": 60,
   "id": "fb47b91a",
   "metadata": {
    "execution": {
     "iopub.execute_input": "2023-01-28T01:17:47.980097Z",
     "iopub.status.busy": "2023-01-28T01:17:47.979729Z",
     "iopub.status.idle": "2023-01-28T01:17:47.991643Z",
     "shell.execute_reply": "2023-01-28T01:17:47.990749Z"
    },
    "papermill": {
     "duration": 5.23855,
     "end_time": "2023-01-28T01:17:47.993579",
     "exception": false,
     "start_time": "2023-01-28T01:17:42.755029",
     "status": "completed"
    },
    "tags": []
   },
   "outputs": [],
   "source": [
    "pyLDAvis.display(lda_models[0].display_data) if lda_models and lda_models.get(\n",
    "    0, False\n",
    ") else None"
   ]
  },
  {
   "cell_type": "code",
   "execution_count": 61,
   "id": "23c7103a",
   "metadata": {
    "execution": {
     "iopub.execute_input": "2023-01-28T01:17:58.887824Z",
     "iopub.status.busy": "2023-01-28T01:17:58.887478Z",
     "iopub.status.idle": "2023-01-28T01:17:58.900430Z",
     "shell.execute_reply": "2023-01-28T01:17:58.899560Z"
    },
    "papermill": {
     "duration": 5.32673,
     "end_time": "2023-01-28T01:17:58.902578",
     "exception": false,
     "start_time": "2023-01-28T01:17:53.575848",
     "status": "completed"
    },
    "tags": []
   },
   "outputs": [],
   "source": [
    "pyLDAvis.display(lda_models[1].display_data) if lda_models and lda_models.get(\n",
    "    1, False\n",
    ") else None"
   ]
  },
  {
   "cell_type": "code",
   "execution_count": 62,
   "id": "cb8e5857",
   "metadata": {
    "execution": {
     "iopub.execute_input": "2023-01-28T01:18:09.897849Z",
     "iopub.status.busy": "2023-01-28T01:18:09.897478Z",
     "iopub.status.idle": "2023-01-28T01:18:09.909568Z",
     "shell.execute_reply": "2023-01-28T01:18:09.908705Z"
    },
    "papermill": {
     "duration": 5.307984,
     "end_time": "2023-01-28T01:18:09.911669",
     "exception": false,
     "start_time": "2023-01-28T01:18:04.603685",
     "status": "completed"
    },
    "tags": []
   },
   "outputs": [],
   "source": [
    "pyLDAvis.display(lda_models[2].display_data) if lda_models and lda_models.get(\n",
    "    2, False\n",
    ") else None"
   ]
  },
  {
   "cell_type": "code",
   "execution_count": 63,
   "id": "641a69e3",
   "metadata": {
    "execution": {
     "iopub.execute_input": "2023-01-28T01:18:20.506377Z",
     "iopub.status.busy": "2023-01-28T01:18:20.506026Z",
     "iopub.status.idle": "2023-01-28T01:18:20.511005Z",
     "shell.execute_reply": "2023-01-28T01:18:20.510106Z"
    },
    "papermill": {
     "duration": 5.201235,
     "end_time": "2023-01-28T01:18:20.512871",
     "exception": false,
     "start_time": "2023-01-28T01:18:15.311636",
     "status": "completed"
    },
    "tags": []
   },
   "outputs": [],
   "source": [
    "# pyLDAvis.prepared_data_to_html(lda_models[0].display_data)"
   ]
  },
  {
   "cell_type": "code",
   "execution_count": 64,
   "id": "b53f2ebb",
   "metadata": {
    "execution": {
     "iopub.execute_input": "2023-01-28T01:18:31.520918Z",
     "iopub.status.busy": "2023-01-28T01:18:31.520532Z",
     "iopub.status.idle": "2023-01-28T01:18:31.548215Z",
     "shell.execute_reply": "2023-01-28T01:18:31.546967Z"
    },
    "papermill": {
     "duration": 5.367491,
     "end_time": "2023-01-28T01:18:31.550462",
     "exception": false,
     "start_time": "2023-01-28T01:18:26.182971",
     "status": "completed"
    },
    "tags": []
   },
   "outputs": [
    {
     "name": "stdout",
     "output_type": "stream",
     "text": [
      "CPU times: user 5 µs, sys: 0 ns, total: 5 µs\n",
      "Wall time: 9.3 µs\n"
     ]
    }
   ],
   "source": [
    "%%time\n",
    "if description[\"LDA\"][\"actif\"]:\n",
    "    lda_model = lda_models[list(lda_models.keys())[-1]]  # last\n",
    "    pred_lda = lda_model.predict(X_test.str.split())\n",
    "    print(\"Exemple prediction\", pred_lda[0])\n",
    "    pred_lda_bool = p5_nlp_utils.LDA.convert_pred(pred_lda, target_names)\n",
    "    print(pred_lda_bool.head(1))"
   ]
  },
  {
   "cell_type": "code",
   "execution_count": 65,
   "id": "a503e314",
   "metadata": {
    "execution": {
     "iopub.execute_input": "2023-01-28T01:18:42.510255Z",
     "iopub.status.busy": "2023-01-28T01:18:42.509643Z",
     "iopub.status.idle": "2023-01-28T01:18:42.538083Z",
     "shell.execute_reply": "2023-01-28T01:18:42.536638Z"
    },
    "papermill": {
     "duration": 5.235452,
     "end_time": "2023-01-28T01:18:42.540157",
     "exception": false,
     "start_time": "2023-01-28T01:18:37.304705",
     "status": "completed"
    },
    "tags": []
   },
   "outputs": [
    {
     "name": "stdout",
     "output_type": "stream",
     "text": [
      "CPU times: user 5 µs, sys: 0 ns, total: 5 µs\n",
      "Wall time: 8.58 µs\n"
     ]
    }
   ],
   "source": [
    "%%time\n",
    "if description[\"LDA\"][\"actif\"]:\n",
    "    lda_pred_test_score = p5_nlp_utils.Commun.save_score(\n",
    "        y_true=y_test,\n",
    "        y_pred=pred_lda_bool,\n",
    "        target_names=target_names,\n",
    "        name=\"LDA\",\n",
    "    )\n",
    "    print(\"Sur le jeu test:\")\n",
    "    print(lda_pred_test_score.sort_values(by=\"f1-score\", ascending=False))\n",
    "    lda_model.model.save(\"LDA\")"
   ]
  },
  {
   "cell_type": "code",
   "execution_count": 66,
   "id": "45f717c8",
   "metadata": {
    "execution": {
     "iopub.execute_input": "2023-01-28T01:18:53.301227Z",
     "iopub.status.busy": "2023-01-28T01:18:53.300843Z",
     "iopub.status.idle": "2023-01-28T01:18:53.306183Z",
     "shell.execute_reply": "2023-01-28T01:18:53.305123Z"
    },
    "papermill": {
     "duration": 5.326692,
     "end_time": "2023-01-28T01:18:53.308609",
     "exception": false,
     "start_time": "2023-01-28T01:18:47.981917",
     "status": "completed"
    },
    "tags": []
   },
   "outputs": [],
   "source": [
    "# X_test.values[0]"
   ]
  },
  {
   "cell_type": "code",
   "execution_count": 67,
   "id": "dc2be531",
   "metadata": {
    "execution": {
     "iopub.execute_input": "2023-01-28T01:19:03.875426Z",
     "iopub.status.busy": "2023-01-28T01:19:03.875065Z",
     "iopub.status.idle": "2023-01-28T01:19:03.880184Z",
     "shell.execute_reply": "2023-01-28T01:19:03.879263Z"
    },
    "papermill": {
     "duration": 5.166295,
     "end_time": "2023-01-28T01:19:03.882088",
     "exception": false,
     "start_time": "2023-01-28T01:18:58.715793",
     "status": "completed"
    },
    "tags": []
   },
   "outputs": [],
   "source": [
    "# pred_lda[0]"
   ]
  },
  {
   "cell_type": "code",
   "execution_count": 68,
   "id": "90eb94b2",
   "metadata": {
    "execution": {
     "iopub.execute_input": "2023-01-28T01:19:14.925557Z",
     "iopub.status.busy": "2023-01-28T01:19:14.925198Z",
     "iopub.status.idle": "2023-01-28T01:19:14.932474Z",
     "shell.execute_reply": "2023-01-28T01:19:14.931409Z"
    },
    "papermill": {
     "duration": 5.194505,
     "end_time": "2023-01-28T01:19:14.934441",
     "exception": false,
     "start_time": "2023-01-28T01:19:09.739936",
     "status": "completed"
    },
    "tags": []
   },
   "outputs": [],
   "source": [
    "# y_test.iloc[0]"
   ]
  },
  {
   "cell_type": "code",
   "execution_count": 69,
   "id": "969e1b5f",
   "metadata": {
    "execution": {
     "iopub.execute_input": "2023-01-28T01:19:25.699024Z",
     "iopub.status.busy": "2023-01-28T01:19:25.698615Z",
     "iopub.status.idle": "2023-01-28T01:19:25.726339Z",
     "shell.execute_reply": "2023-01-28T01:19:25.725362Z"
    },
    "papermill": {
     "duration": 5.449777,
     "end_time": "2023-01-28T01:19:25.728497",
     "exception": false,
     "start_time": "2023-01-28T01:19:20.278720",
     "status": "completed"
    },
    "tags": []
   },
   "outputs": [],
   "source": [
    "def compare_topic_tags(\n",
    "    pred_topic, y_true, tags=[\"java\", \"python\", \"javascript\", \"git\"]\n",
    "):\n",
    "    \"\"\"Pour chacun des tags, regarde les topics attribué quand ce tag est présent\"\"\"\n",
    "    df_pred = pd.DataFrame(pred_topic)\n",
    "    for tag in tags:\n",
    "        print(f\"***{colors.BOLD}{tag}{colors.ENDC}*** sur {sum(y_true[tag])} positif\")\n",
    "        display(\n",
    "            df_pred[y_true[tag].values]\n",
    "            .describe()\n",
    "            .sort_values(by=\"count\", ascending=False, axis=\"columns\")\n",
    "        )\n",
    "        print(\"\\n\")"
   ]
  },
  {
   "cell_type": "code",
   "execution_count": 70,
   "id": "86951ffc",
   "metadata": {
    "execution": {
     "iopub.execute_input": "2023-01-28T01:19:36.181992Z",
     "iopub.status.busy": "2023-01-28T01:19:36.181364Z",
     "iopub.status.idle": "2023-01-28T01:19:36.195063Z",
     "shell.execute_reply": "2023-01-28T01:19:36.194207Z"
    },
    "papermill": {
     "duration": 5.359483,
     "end_time": "2023-01-28T01:19:36.197069",
     "exception": false,
     "start_time": "2023-01-28T01:19:30.837586",
     "status": "completed"
    },
    "tags": []
   },
   "outputs": [],
   "source": [
    "if description[\"LDA\"][\"actif\"]:\n",
    "    compare_topic_tags(pred_lda, y_test)"
   ]
  }
 ],
 "metadata": {
  "kernelspec": {
   "display_name": "Python 3",
   "language": "python",
   "name": "python3"
  },
  "language_info": {
   "codemirror_mode": {
    "name": "ipython",
    "version": 3
   },
   "file_extension": ".py",
   "mimetype": "text/x-python",
   "name": "python",
   "nbconvert_exporter": "python",
   "pygments_lexer": "ipython3",
   "version": "3.7.12"
  },
  "papermill": {
   "default_parameters": {},
   "duration": 9344.764622,
   "end_time": "2023-01-28T01:19:44.963654",
   "environment_variables": {},
   "exception": null,
   "input_path": "__notebook__.ipynb",
   "output_path": "__notebook__.ipynb",
   "parameters": {},
   "start_time": "2023-01-27T22:44:00.199032",
   "version": "2.3.4"
  },
  "widgets": {
   "application/vnd.jupyter.widget-state+json": {
    "state": {
     "0816e81bf9614b65899c238a8aa5871e": {
      "model_module": "@jupyter-widgets/base",
      "model_module_version": "1.2.0",
      "model_name": "LayoutModel",
      "state": {
       "_model_module": "@jupyter-widgets/base",
       "_model_module_version": "1.2.0",
       "_model_name": "LayoutModel",
       "_view_count": null,
       "_view_module": "@jupyter-widgets/base",
       "_view_module_version": "1.2.0",
       "_view_name": "LayoutView",
       "align_content": null,
       "align_items": null,
       "align_self": null,
       "border": null,
       "bottom": null,
       "display": null,
       "flex": null,
       "flex_flow": null,
       "grid_area": null,
       "grid_auto_columns": null,
       "grid_auto_flow": null,
       "grid_auto_rows": null,
       "grid_column": null,
       "grid_gap": null,
       "grid_row": null,
       "grid_template_areas": null,
       "grid_template_columns": null,
       "grid_template_rows": null,
       "height": null,
       "justify_content": null,
       "justify_items": null,
       "left": null,
       "margin": null,
       "max_height": null,
       "max_width": null,
       "min_height": null,
       "min_width": null,
       "object_fit": null,
       "object_position": null,
       "order": null,
       "overflow": null,
       "overflow_x": null,
       "overflow_y": null,
       "padding": null,
       "right": null,
       "top": null,
       "visibility": null,
       "width": null
      }
     },
     "16b8fce44111476da54902856e563da6": {
      "model_module": "@jupyter-widgets/controls",
      "model_module_version": "1.5.0",
      "model_name": "IntSliderModel",
      "state": {
       "_dom_classes": [],
       "_model_module": "@jupyter-widgets/controls",
       "_model_module_version": "1.5.0",
       "_model_name": "IntSliderModel",
       "_view_count": null,
       "_view_module": "@jupyter-widgets/controls",
       "_view_module_version": "1.5.0",
       "_view_name": "IntSliderView",
       "continuous_update": true,
       "description": "i",
       "description_tooltip": null,
       "disabled": false,
       "layout": "IPY_MODEL_6965d4c1811349a0afbf93ed52ae3b63",
       "max": 118441,
       "min": 0,
       "orientation": "horizontal",
       "readout": true,
       "readout_format": "d",
       "step": 1,
       "style": "IPY_MODEL_ed5e7e4fe66f4d0c9c53ba5432a0f07f",
       "value": 59220
      }
     },
     "298c5332046d485b8aed4d44b13f88f0": {
      "model_module": "@jupyter-widgets/base",
      "model_module_version": "1.2.0",
      "model_name": "LayoutModel",
      "state": {
       "_model_module": "@jupyter-widgets/base",
       "_model_module_version": "1.2.0",
       "_model_name": "LayoutModel",
       "_view_count": null,
       "_view_module": "@jupyter-widgets/base",
       "_view_module_version": "1.2.0",
       "_view_name": "LayoutView",
       "align_content": null,
       "align_items": null,
       "align_self": null,
       "border": null,
       "bottom": null,
       "display": null,
       "flex": null,
       "flex_flow": null,
       "grid_area": null,
       "grid_auto_columns": null,
       "grid_auto_flow": null,
       "grid_auto_rows": null,
       "grid_column": null,
       "grid_gap": null,
       "grid_row": null,
       "grid_template_areas": null,
       "grid_template_columns": null,
       "grid_template_rows": null,
       "height": null,
       "justify_content": null,
       "justify_items": null,
       "left": null,
       "margin": null,
       "max_height": null,
       "max_width": null,
       "min_height": null,
       "min_width": null,
       "object_fit": null,
       "object_position": null,
       "order": null,
       "overflow": null,
       "overflow_x": null,
       "overflow_y": null,
       "padding": null,
       "right": null,
       "top": null,
       "visibility": null,
       "width": null
      }
     },
     "6965d4c1811349a0afbf93ed52ae3b63": {
      "model_module": "@jupyter-widgets/base",
      "model_module_version": "1.2.0",
      "model_name": "LayoutModel",
      "state": {
       "_model_module": "@jupyter-widgets/base",
       "_model_module_version": "1.2.0",
       "_model_name": "LayoutModel",
       "_view_count": null,
       "_view_module": "@jupyter-widgets/base",
       "_view_module_version": "1.2.0",
       "_view_name": "LayoutView",
       "align_content": null,
       "align_items": null,
       "align_self": null,
       "border": null,
       "bottom": null,
       "display": null,
       "flex": null,
       "flex_flow": null,
       "grid_area": null,
       "grid_auto_columns": null,
       "grid_auto_flow": null,
       "grid_auto_rows": null,
       "grid_column": null,
       "grid_gap": null,
       "grid_row": null,
       "grid_template_areas": null,
       "grid_template_columns": null,
       "grid_template_rows": null,
       "height": null,
       "justify_content": null,
       "justify_items": null,
       "left": null,
       "margin": null,
       "max_height": null,
       "max_width": null,
       "min_height": null,
       "min_width": null,
       "object_fit": null,
       "object_position": null,
       "order": null,
       "overflow": null,
       "overflow_x": null,
       "overflow_y": null,
       "padding": null,
       "right": null,
       "top": null,
       "visibility": null,
       "width": null
      }
     },
     "bc980379db454ee1bb8043455744d784": {
      "model_module": "@jupyter-widgets/output",
      "model_module_version": "1.0.0",
      "model_name": "OutputModel",
      "state": {
       "_dom_classes": [],
       "_model_module": "@jupyter-widgets/output",
       "_model_module_version": "1.0.0",
       "_model_name": "OutputModel",
       "_view_count": null,
       "_view_module": "@jupyter-widgets/output",
       "_view_module_version": "1.0.0",
       "_view_name": "OutputView",
       "layout": "IPY_MODEL_0816e81bf9614b65899c238a8aa5871e",
       "msg_id": "",
       "outputs": [
        {
         "ename": "KeyError",
         "evalue": "0",
         "output_type": "error",
         "traceback": [
          "\u001b[0;31m---------------------------------------------------------------------------\u001b[0m",
          "\u001b[0;31mKeyError\u001b[0m                                  Traceback (most recent call last)",
          "\u001b[0;32m/opt/conda/lib/python3.7/site-packages/pandas/core/indexes/base.py\u001b[0m in \u001b[0;36mget_loc\u001b[0;34m(self, key, method, tolerance)\u001b[0m\n\u001b[1;32m   3360\u001b[0m             \u001b[0;32mtry\u001b[0m\u001b[0;34m:\u001b[0m\u001b[0;34m\u001b[0m\u001b[0;34m\u001b[0m\u001b[0m\n\u001b[0;32m-> 3361\u001b[0;31m                 \u001b[0;32mreturn\u001b[0m \u001b[0mself\u001b[0m\u001b[0;34m.\u001b[0m\u001b[0m_engine\u001b[0m\u001b[0;34m.\u001b[0m\u001b[0mget_loc\u001b[0m\u001b[0;34m(\u001b[0m\u001b[0mcasted_key\u001b[0m\u001b[0;34m)\u001b[0m\u001b[0;34m\u001b[0m\u001b[0;34m\u001b[0m\u001b[0m\n\u001b[0m\u001b[1;32m   3362\u001b[0m             \u001b[0;32mexcept\u001b[0m \u001b[0mKeyError\u001b[0m \u001b[0;32mas\u001b[0m \u001b[0merr\u001b[0m\u001b[0;34m:\u001b[0m\u001b[0;34m\u001b[0m\u001b[0;34m\u001b[0m\u001b[0m\n",
          "\u001b[0;32m/opt/conda/lib/python3.7/site-packages/pandas/_libs/index.pyx\u001b[0m in \u001b[0;36mpandas._libs.index.IndexEngine.get_loc\u001b[0;34m()\u001b[0m\n",
          "\u001b[0;32m/opt/conda/lib/python3.7/site-packages/pandas/_libs/index.pyx\u001b[0m in \u001b[0;36mpandas._libs.index.IndexEngine.get_loc\u001b[0;34m()\u001b[0m\n",
          "\u001b[0;32mpandas/_libs/hashtable_class_helper.pxi\u001b[0m in \u001b[0;36mpandas._libs.hashtable.PyObjectHashTable.get_item\u001b[0;34m()\u001b[0m\n",
          "\u001b[0;32mpandas/_libs/hashtable_class_helper.pxi\u001b[0m in \u001b[0;36mpandas._libs.hashtable.PyObjectHashTable.get_item\u001b[0;34m()\u001b[0m\n",
          "\u001b[0;31mKeyError\u001b[0m: 0",
          "\nThe above exception was the direct cause of the following exception:\n",
          "\u001b[0;31mKeyError\u001b[0m                                  Traceback (most recent call last)",
          "\u001b[0;32m/opt/conda/lib/python3.7/site-packages/ipywidgets/widgets/interaction.py\u001b[0m in \u001b[0;36mupdate\u001b[0;34m(self, *args)\u001b[0m\n\u001b[1;32m    255\u001b[0m                     \u001b[0mvalue\u001b[0m \u001b[0;34m=\u001b[0m \u001b[0mwidget\u001b[0m\u001b[0;34m.\u001b[0m\u001b[0mget_interact_value\u001b[0m\u001b[0;34m(\u001b[0m\u001b[0;34m)\u001b[0m\u001b[0;34m\u001b[0m\u001b[0;34m\u001b[0m\u001b[0m\n\u001b[1;32m    256\u001b[0m                     \u001b[0mself\u001b[0m\u001b[0;34m.\u001b[0m\u001b[0mkwargs\u001b[0m\u001b[0;34m[\u001b[0m\u001b[0mwidget\u001b[0m\u001b[0;34m.\u001b[0m\u001b[0m_kwarg\u001b[0m\u001b[0;34m]\u001b[0m \u001b[0;34m=\u001b[0m \u001b[0mvalue\u001b[0m\u001b[0;34m\u001b[0m\u001b[0;34m\u001b[0m\u001b[0m\n\u001b[0;32m--> 257\u001b[0;31m                 \u001b[0mself\u001b[0m\u001b[0;34m.\u001b[0m\u001b[0mresult\u001b[0m \u001b[0;34m=\u001b[0m \u001b[0mself\u001b[0m\u001b[0;34m.\u001b[0m\u001b[0mf\u001b[0m\u001b[0;34m(\u001b[0m\u001b[0;34m**\u001b[0m\u001b[0mself\u001b[0m\u001b[0;34m.\u001b[0m\u001b[0mkwargs\u001b[0m\u001b[0;34m)\u001b[0m\u001b[0;34m\u001b[0m\u001b[0;34m\u001b[0m\u001b[0m\n\u001b[0m\u001b[1;32m    258\u001b[0m                 \u001b[0mshow_inline_matplotlib_plots\u001b[0m\u001b[0;34m(\u001b[0m\u001b[0;34m)\u001b[0m\u001b[0;34m\u001b[0m\u001b[0;34m\u001b[0m\u001b[0m\n\u001b[1;32m    259\u001b[0m                 \u001b[0;32mif\u001b[0m \u001b[0mself\u001b[0m\u001b[0;34m.\u001b[0m\u001b[0mauto_display\u001b[0m \u001b[0;32mand\u001b[0m \u001b[0mself\u001b[0m\u001b[0;34m.\u001b[0m\u001b[0mresult\u001b[0m \u001b[0;32mis\u001b[0m \u001b[0;32mnot\u001b[0m \u001b[0;32mNone\u001b[0m\u001b[0;34m:\u001b[0m\u001b[0;34m\u001b[0m\u001b[0;34m\u001b[0m\u001b[0m\n",
          "\u001b[0;32m/tmp/ipykernel_23/507195640.py\u001b[0m in \u001b[0;36mtest_tr_print\u001b[0;34m(i)\u001b[0m\n\u001b[1;32m      9\u001b[0m         \u001b[0;34m**\u001b[0m\u001b[0;34m*\u001b[0m\u001b[0mbert\u001b[0m\u001b[0;34m**\u001b[0m\u001b[0;34m*\u001b[0m\u001b[0;34m{\u001b[0m\u001b[0mdf\u001b[0m\u001b[0;34m[\u001b[0m\u001b[0;34m\"Token_BERT\"\u001b[0m\u001b[0;34m]\u001b[0m\u001b[0;34m[\u001b[0m\u001b[0mi\u001b[0m\u001b[0;34m]\u001b[0m\u001b[0;34m}\u001b[0m\u001b[0;31m\\\u001b[0m\u001b[0mn\u001b[0m\u001b[0;34m{\u001b[0m\u001b[0;34m\"*\"\u001b[0m\u001b[0;34m*\u001b[0m\u001b[0;36m30\u001b[0m\u001b[0;34m}\u001b[0m\u001b[0;31m\\\u001b[0m\u001b[0mn\u001b[0m\u001b[0;31m\\\u001b[0m\u001b[0;34m\u001b[0m\u001b[0;34m\u001b[0m\u001b[0m\n\u001b[1;32m     10\u001b[0m         \u001b[0;34m**\u001b[0m\u001b[0;34m*\u001b[0m\u001b[0mCode\u001b[0m\u001b[0;34m**\u001b[0m\u001b[0;34m*\u001b[0m\u001b[0;34m{\u001b[0m\u001b[0mdf\u001b[0m\u001b[0;34m[\u001b[0m\u001b[0;34m\"code\"\u001b[0m\u001b[0;34m]\u001b[0m\u001b[0;34m[\u001b[0m\u001b[0mi\u001b[0m\u001b[0;34m]\u001b[0m\u001b[0;34m}\u001b[0m\u001b[0;31m\\\u001b[0m\u001b[0mn\u001b[0m\u001b[0;34m{\u001b[0m\u001b[0;34m\"*\"\u001b[0m\u001b[0;34m*\u001b[0m\u001b[0;36m30\u001b[0m\u001b[0;34m}\u001b[0m\u001b[0;31m\\\u001b[0m\u001b[0mn\u001b[0m\u001b[0;31m\\\u001b[0m\u001b[0;34m\u001b[0m\u001b[0;34m\u001b[0m\u001b[0m\n\u001b[0;32m---> 11\u001b[0;31m         \u001b[0;34m**\u001b[0m\u001b[0;34m*\u001b[0m\u001b[0mTags\u001b[0m\u001b[0;34m**\u001b[0m\u001b[0;34m*\u001b[0m\u001b[0;34m{\u001b[0m\u001b[0mdf\u001b[0m\u001b[0;34m.\u001b[0m\u001b[0mloc\u001b[0m\u001b[0;34m[\u001b[0m\u001b[0mi\u001b[0m\u001b[0;34m,\u001b[0m\u001b[0;36m0\u001b[0m\u001b[0;34m]\u001b[0m\u001b[0;34m}\u001b[0m \u001b[0;34m{\u001b[0m\u001b[0mdf\u001b[0m\u001b[0;34m.\u001b[0m\u001b[0mloc\u001b[0m\u001b[0;34m[\u001b[0m\u001b[0mi\u001b[0m\u001b[0;34m,\u001b[0m\u001b[0;34m\"0\"\u001b[0m\u001b[0;34m]\u001b[0m\u001b[0;34m}\u001b[0m \u001b[0;34m{\u001b[0m\u001b[0mdf\u001b[0m\u001b[0;34m.\u001b[0m\u001b[0mloc\u001b[0m\u001b[0;34m[\u001b[0m\u001b[0mi\u001b[0m\u001b[0;34m,\u001b[0m\u001b[0;34m\"1\"\u001b[0m\u001b[0;34m]\u001b[0m\u001b[0;34m}\u001b[0m \u001b[0;34m{\u001b[0m\u001b[0mdf\u001b[0m\u001b[0;34m.\u001b[0m\u001b[0mloc\u001b[0m\u001b[0;34m[\u001b[0m\u001b[0mi\u001b[0m\u001b[0;34m,\u001b[0m\u001b[0;34m\"2\"\u001b[0m\u001b[0;34m]\u001b[0m\u001b[0;34m}\u001b[0m \u001b[0;34m{\u001b[0m\u001b[0mdf\u001b[0m\u001b[0;34m.\u001b[0m\u001b[0mloc\u001b[0m\u001b[0;34m[\u001b[0m\u001b[0mi\u001b[0m\u001b[0;34m,\u001b[0m\u001b[0;34m\"3\"\u001b[0m\u001b[0;34m]\u001b[0m\u001b[0;34m}\u001b[0m \u001b[0;34m{\u001b[0m\u001b[0mdf\u001b[0m\u001b[0;34m.\u001b[0m\u001b[0mloc\u001b[0m\u001b[0;34m[\u001b[0m\u001b[0mi\u001b[0m\u001b[0;34m,\u001b[0m\u001b[0;34m\"4\"\u001b[0m\u001b[0;34m]\u001b[0m\u001b[0;34m}\u001b[0m\u001b[0;31m'\u001b[0m\u001b[0;34m\u001b[0m\u001b[0;34m\u001b[0m\u001b[0m\n\u001b[0m\u001b[1;32m     12\u001b[0m     )\n",
          "\u001b[0;32m/opt/conda/lib/python3.7/site-packages/pandas/core/indexing.py\u001b[0m in \u001b[0;36m__getitem__\u001b[0;34m(self, key)\u001b[0m\n\u001b[1;32m    923\u001b[0m                 \u001b[0;32mwith\u001b[0m \u001b[0msuppress\u001b[0m\u001b[0;34m(\u001b[0m\u001b[0mKeyError\u001b[0m\u001b[0;34m,\u001b[0m \u001b[0mIndexError\u001b[0m\u001b[0;34m)\u001b[0m\u001b[0;34m:\u001b[0m\u001b[0;34m\u001b[0m\u001b[0;34m\u001b[0m\u001b[0m\n\u001b[1;32m    924\u001b[0m                     \u001b[0;32mreturn\u001b[0m \u001b[0mself\u001b[0m\u001b[0;34m.\u001b[0m\u001b[0mobj\u001b[0m\u001b[0;34m.\u001b[0m\u001b[0m_get_value\u001b[0m\u001b[0;34m(\u001b[0m\u001b[0;34m*\u001b[0m\u001b[0mkey\u001b[0m\u001b[0;34m,\u001b[0m \u001b[0mtakeable\u001b[0m\u001b[0;34m=\u001b[0m\u001b[0mself\u001b[0m\u001b[0;34m.\u001b[0m\u001b[0m_takeable\u001b[0m\u001b[0;34m)\u001b[0m\u001b[0;34m\u001b[0m\u001b[0;34m\u001b[0m\u001b[0m\n\u001b[0;32m--> 925\u001b[0;31m             \u001b[0;32mreturn\u001b[0m \u001b[0mself\u001b[0m\u001b[0;34m.\u001b[0m\u001b[0m_getitem_tuple\u001b[0m\u001b[0;34m(\u001b[0m\u001b[0mkey\u001b[0m\u001b[0;34m)\u001b[0m\u001b[0;34m\u001b[0m\u001b[0;34m\u001b[0m\u001b[0m\n\u001b[0m\u001b[1;32m    926\u001b[0m         \u001b[0;32melse\u001b[0m\u001b[0;34m:\u001b[0m\u001b[0;34m\u001b[0m\u001b[0;34m\u001b[0m\u001b[0m\n\u001b[1;32m    927\u001b[0m             \u001b[0;31m# we by definition only have the 0th axis\u001b[0m\u001b[0;34m\u001b[0m\u001b[0;34m\u001b[0m\u001b[0;34m\u001b[0m\u001b[0m\n",
          "\u001b[0;32m/opt/conda/lib/python3.7/site-packages/pandas/core/indexing.py\u001b[0m in \u001b[0;36m_getitem_tuple\u001b[0;34m(self, tup)\u001b[0m\n\u001b[1;32m   1098\u001b[0m     \u001b[0;32mdef\u001b[0m \u001b[0m_getitem_tuple\u001b[0m\u001b[0;34m(\u001b[0m\u001b[0mself\u001b[0m\u001b[0;34m,\u001b[0m \u001b[0mtup\u001b[0m\u001b[0;34m:\u001b[0m \u001b[0mtuple\u001b[0m\u001b[0;34m)\u001b[0m\u001b[0;34m:\u001b[0m\u001b[0;34m\u001b[0m\u001b[0;34m\u001b[0m\u001b[0m\n\u001b[1;32m   1099\u001b[0m         \u001b[0;32mwith\u001b[0m \u001b[0msuppress\u001b[0m\u001b[0;34m(\u001b[0m\u001b[0mIndexingError\u001b[0m\u001b[0;34m)\u001b[0m\u001b[0;34m:\u001b[0m\u001b[0;34m\u001b[0m\u001b[0;34m\u001b[0m\u001b[0m\n\u001b[0;32m-> 1100\u001b[0;31m             \u001b[0;32mreturn\u001b[0m \u001b[0mself\u001b[0m\u001b[0;34m.\u001b[0m\u001b[0m_getitem_lowerdim\u001b[0m\u001b[0;34m(\u001b[0m\u001b[0mtup\u001b[0m\u001b[0;34m)\u001b[0m\u001b[0;34m\u001b[0m\u001b[0;34m\u001b[0m\u001b[0m\n\u001b[0m\u001b[1;32m   1101\u001b[0m \u001b[0;34m\u001b[0m\u001b[0m\n\u001b[1;32m   1102\u001b[0m         \u001b[0;31m# no multi-index, so validate all of the indexers\u001b[0m\u001b[0;34m\u001b[0m\u001b[0;34m\u001b[0m\u001b[0;34m\u001b[0m\u001b[0m\n",
          "\u001b[0;32m/opt/conda/lib/python3.7/site-packages/pandas/core/indexing.py\u001b[0m in \u001b[0;36m_getitem_lowerdim\u001b[0;34m(self, tup)\u001b[0m\n\u001b[1;32m    860\u001b[0m                     \u001b[0;32mreturn\u001b[0m \u001b[0msection\u001b[0m\u001b[0;34m\u001b[0m\u001b[0;34m\u001b[0m\u001b[0m\n\u001b[1;32m    861\u001b[0m                 \u001b[0;31m# This is an elided recursive call to iloc/loc\u001b[0m\u001b[0;34m\u001b[0m\u001b[0;34m\u001b[0m\u001b[0;34m\u001b[0m\u001b[0m\n\u001b[0;32m--> 862\u001b[0;31m                 \u001b[0;32mreturn\u001b[0m \u001b[0mgetattr\u001b[0m\u001b[0;34m(\u001b[0m\u001b[0msection\u001b[0m\u001b[0;34m,\u001b[0m \u001b[0mself\u001b[0m\u001b[0;34m.\u001b[0m\u001b[0mname\u001b[0m\u001b[0;34m)\u001b[0m\u001b[0;34m[\u001b[0m\u001b[0mnew_key\u001b[0m\u001b[0;34m]\u001b[0m\u001b[0;34m\u001b[0m\u001b[0;34m\u001b[0m\u001b[0m\n\u001b[0m\u001b[1;32m    863\u001b[0m \u001b[0;34m\u001b[0m\u001b[0m\n\u001b[1;32m    864\u001b[0m         \u001b[0;32mraise\u001b[0m \u001b[0mIndexingError\u001b[0m\u001b[0;34m(\u001b[0m\u001b[0;34m\"not applicable\"\u001b[0m\u001b[0;34m)\u001b[0m\u001b[0;34m\u001b[0m\u001b[0;34m\u001b[0m\u001b[0m\n",
          "\u001b[0;32m/opt/conda/lib/python3.7/site-packages/pandas/core/indexing.py\u001b[0m in \u001b[0;36m__getitem__\u001b[0;34m(self, key)\u001b[0m\n\u001b[1;32m    929\u001b[0m \u001b[0;34m\u001b[0m\u001b[0m\n\u001b[1;32m    930\u001b[0m             \u001b[0mmaybe_callable\u001b[0m \u001b[0;34m=\u001b[0m \u001b[0mcom\u001b[0m\u001b[0;34m.\u001b[0m\u001b[0mapply_if_callable\u001b[0m\u001b[0;34m(\u001b[0m\u001b[0mkey\u001b[0m\u001b[0;34m,\u001b[0m \u001b[0mself\u001b[0m\u001b[0;34m.\u001b[0m\u001b[0mobj\u001b[0m\u001b[0;34m)\u001b[0m\u001b[0;34m\u001b[0m\u001b[0;34m\u001b[0m\u001b[0m\n\u001b[0;32m--> 931\u001b[0;31m             \u001b[0;32mreturn\u001b[0m \u001b[0mself\u001b[0m\u001b[0;34m.\u001b[0m\u001b[0m_getitem_axis\u001b[0m\u001b[0;34m(\u001b[0m\u001b[0mmaybe_callable\u001b[0m\u001b[0;34m,\u001b[0m \u001b[0maxis\u001b[0m\u001b[0;34m=\u001b[0m\u001b[0maxis\u001b[0m\u001b[0;34m)\u001b[0m\u001b[0;34m\u001b[0m\u001b[0;34m\u001b[0m\u001b[0m\n\u001b[0m\u001b[1;32m    932\u001b[0m \u001b[0;34m\u001b[0m\u001b[0m\n\u001b[1;32m    933\u001b[0m     \u001b[0;32mdef\u001b[0m \u001b[0m_is_scalar_access\u001b[0m\u001b[0;34m(\u001b[0m\u001b[0mself\u001b[0m\u001b[0;34m,\u001b[0m \u001b[0mkey\u001b[0m\u001b[0;34m:\u001b[0m \u001b[0mtuple\u001b[0m\u001b[0;34m)\u001b[0m\u001b[0;34m:\u001b[0m\u001b[0;34m\u001b[0m\u001b[0;34m\u001b[0m\u001b[0m\n",
          "\u001b[0;32m/opt/conda/lib/python3.7/site-packages/pandas/core/indexing.py\u001b[0m in \u001b[0;36m_getitem_axis\u001b[0;34m(self, key, axis)\u001b[0m\n\u001b[1;32m   1162\u001b[0m         \u001b[0;31m# fall thru to straight lookup\u001b[0m\u001b[0;34m\u001b[0m\u001b[0;34m\u001b[0m\u001b[0;34m\u001b[0m\u001b[0m\n\u001b[1;32m   1163\u001b[0m         \u001b[0mself\u001b[0m\u001b[0;34m.\u001b[0m\u001b[0m_validate_key\u001b[0m\u001b[0;34m(\u001b[0m\u001b[0mkey\u001b[0m\u001b[0;34m,\u001b[0m \u001b[0maxis\u001b[0m\u001b[0;34m)\u001b[0m\u001b[0;34m\u001b[0m\u001b[0;34m\u001b[0m\u001b[0m\n\u001b[0;32m-> 1164\u001b[0;31m         \u001b[0;32mreturn\u001b[0m \u001b[0mself\u001b[0m\u001b[0;34m.\u001b[0m\u001b[0m_get_label\u001b[0m\u001b[0;34m(\u001b[0m\u001b[0mkey\u001b[0m\u001b[0;34m,\u001b[0m \u001b[0maxis\u001b[0m\u001b[0;34m=\u001b[0m\u001b[0maxis\u001b[0m\u001b[0;34m)\u001b[0m\u001b[0;34m\u001b[0m\u001b[0;34m\u001b[0m\u001b[0m\n\u001b[0m\u001b[1;32m   1165\u001b[0m \u001b[0;34m\u001b[0m\u001b[0m\n\u001b[1;32m   1166\u001b[0m     \u001b[0;32mdef\u001b[0m \u001b[0m_get_slice_axis\u001b[0m\u001b[0;34m(\u001b[0m\u001b[0mself\u001b[0m\u001b[0;34m,\u001b[0m \u001b[0mslice_obj\u001b[0m\u001b[0;34m:\u001b[0m \u001b[0mslice\u001b[0m\u001b[0;34m,\u001b[0m \u001b[0maxis\u001b[0m\u001b[0;34m:\u001b[0m \u001b[0mint\u001b[0m\u001b[0;34m)\u001b[0m\u001b[0;34m:\u001b[0m\u001b[0;34m\u001b[0m\u001b[0;34m\u001b[0m\u001b[0m\n",
          "\u001b[0;32m/opt/conda/lib/python3.7/site-packages/pandas/core/indexing.py\u001b[0m in \u001b[0;36m_get_label\u001b[0;34m(self, label, axis)\u001b[0m\n\u001b[1;32m   1111\u001b[0m     \u001b[0;32mdef\u001b[0m \u001b[0m_get_label\u001b[0m\u001b[0;34m(\u001b[0m\u001b[0mself\u001b[0m\u001b[0;34m,\u001b[0m \u001b[0mlabel\u001b[0m\u001b[0;34m,\u001b[0m \u001b[0maxis\u001b[0m\u001b[0;34m:\u001b[0m \u001b[0mint\u001b[0m\u001b[0;34m)\u001b[0m\u001b[0;34m:\u001b[0m\u001b[0;34m\u001b[0m\u001b[0;34m\u001b[0m\u001b[0m\n\u001b[1;32m   1112\u001b[0m         \u001b[0;31m# GH#5667 this will fail if the label is not present in the axis.\u001b[0m\u001b[0;34m\u001b[0m\u001b[0;34m\u001b[0m\u001b[0;34m\u001b[0m\u001b[0m\n\u001b[0;32m-> 1113\u001b[0;31m         \u001b[0;32mreturn\u001b[0m \u001b[0mself\u001b[0m\u001b[0;34m.\u001b[0m\u001b[0mobj\u001b[0m\u001b[0;34m.\u001b[0m\u001b[0mxs\u001b[0m\u001b[0;34m(\u001b[0m\u001b[0mlabel\u001b[0m\u001b[0;34m,\u001b[0m \u001b[0maxis\u001b[0m\u001b[0;34m=\u001b[0m\u001b[0maxis\u001b[0m\u001b[0;34m)\u001b[0m\u001b[0;34m\u001b[0m\u001b[0;34m\u001b[0m\u001b[0m\n\u001b[0m\u001b[1;32m   1114\u001b[0m \u001b[0;34m\u001b[0m\u001b[0m\n\u001b[1;32m   1115\u001b[0m     \u001b[0;32mdef\u001b[0m \u001b[0m_handle_lowerdim_multi_index_axis0\u001b[0m\u001b[0;34m(\u001b[0m\u001b[0mself\u001b[0m\u001b[0;34m,\u001b[0m \u001b[0mtup\u001b[0m\u001b[0;34m:\u001b[0m \u001b[0mtuple\u001b[0m\u001b[0;34m)\u001b[0m\u001b[0;34m:\u001b[0m\u001b[0;34m\u001b[0m\u001b[0;34m\u001b[0m\u001b[0m\n",
          "\u001b[0;32m/opt/conda/lib/python3.7/site-packages/pandas/core/generic.py\u001b[0m in \u001b[0;36mxs\u001b[0;34m(self, key, axis, level, drop_level)\u001b[0m\n\u001b[1;32m   3774\u001b[0m                 \u001b[0;32mraise\u001b[0m \u001b[0mTypeError\u001b[0m\u001b[0;34m(\u001b[0m\u001b[0;34mf\"Expected label or tuple of labels, got {key}\"\u001b[0m\u001b[0;34m)\u001b[0m \u001b[0;32mfrom\u001b[0m \u001b[0me\u001b[0m\u001b[0;34m\u001b[0m\u001b[0;34m\u001b[0m\u001b[0m\n\u001b[1;32m   3775\u001b[0m         \u001b[0;32melse\u001b[0m\u001b[0;34m:\u001b[0m\u001b[0;34m\u001b[0m\u001b[0;34m\u001b[0m\u001b[0m\n\u001b[0;32m-> 3776\u001b[0;31m             \u001b[0mloc\u001b[0m \u001b[0;34m=\u001b[0m \u001b[0mindex\u001b[0m\u001b[0;34m.\u001b[0m\u001b[0mget_loc\u001b[0m\u001b[0;34m(\u001b[0m\u001b[0mkey\u001b[0m\u001b[0;34m)\u001b[0m\u001b[0;34m\u001b[0m\u001b[0;34m\u001b[0m\u001b[0m\n\u001b[0m\u001b[1;32m   3777\u001b[0m \u001b[0;34m\u001b[0m\u001b[0m\n\u001b[1;32m   3778\u001b[0m             \u001b[0;32mif\u001b[0m \u001b[0misinstance\u001b[0m\u001b[0;34m(\u001b[0m\u001b[0mloc\u001b[0m\u001b[0;34m,\u001b[0m \u001b[0mnp\u001b[0m\u001b[0;34m.\u001b[0m\u001b[0mndarray\u001b[0m\u001b[0;34m)\u001b[0m\u001b[0;34m:\u001b[0m\u001b[0;34m\u001b[0m\u001b[0;34m\u001b[0m\u001b[0m\n",
          "\u001b[0;32m/opt/conda/lib/python3.7/site-packages/pandas/core/indexes/base.py\u001b[0m in \u001b[0;36mget_loc\u001b[0;34m(self, key, method, tolerance)\u001b[0m\n\u001b[1;32m   3361\u001b[0m                 \u001b[0;32mreturn\u001b[0m \u001b[0mself\u001b[0m\u001b[0;34m.\u001b[0m\u001b[0m_engine\u001b[0m\u001b[0;34m.\u001b[0m\u001b[0mget_loc\u001b[0m\u001b[0;34m(\u001b[0m\u001b[0mcasted_key\u001b[0m\u001b[0;34m)\u001b[0m\u001b[0;34m\u001b[0m\u001b[0;34m\u001b[0m\u001b[0m\n\u001b[1;32m   3362\u001b[0m             \u001b[0;32mexcept\u001b[0m \u001b[0mKeyError\u001b[0m \u001b[0;32mas\u001b[0m \u001b[0merr\u001b[0m\u001b[0;34m:\u001b[0m\u001b[0;34m\u001b[0m\u001b[0;34m\u001b[0m\u001b[0m\n\u001b[0;32m-> 3363\u001b[0;31m                 \u001b[0;32mraise\u001b[0m \u001b[0mKeyError\u001b[0m\u001b[0;34m(\u001b[0m\u001b[0mkey\u001b[0m\u001b[0;34m)\u001b[0m \u001b[0;32mfrom\u001b[0m \u001b[0merr\u001b[0m\u001b[0;34m\u001b[0m\u001b[0;34m\u001b[0m\u001b[0m\n\u001b[0m\u001b[1;32m   3364\u001b[0m \u001b[0;34m\u001b[0m\u001b[0m\n\u001b[1;32m   3365\u001b[0m         \u001b[0;32mif\u001b[0m \u001b[0mis_scalar\u001b[0m\u001b[0;34m(\u001b[0m\u001b[0mkey\u001b[0m\u001b[0;34m)\u001b[0m \u001b[0;32mand\u001b[0m \u001b[0misna\u001b[0m\u001b[0;34m(\u001b[0m\u001b[0mkey\u001b[0m\u001b[0;34m)\u001b[0m \u001b[0;32mand\u001b[0m \u001b[0;32mnot\u001b[0m \u001b[0mself\u001b[0m\u001b[0;34m.\u001b[0m\u001b[0mhasnans\u001b[0m\u001b[0;34m:\u001b[0m\u001b[0;34m\u001b[0m\u001b[0;34m\u001b[0m\u001b[0m\n",
          "\u001b[0;31mKeyError\u001b[0m: 0"
         ]
        }
       ]
      }
     },
     "d26224d9b04940e0a1d3fd08e3c802a6": {
      "model_module": "@jupyter-widgets/controls",
      "model_module_version": "1.5.0",
      "model_name": "VBoxModel",
      "state": {
       "_dom_classes": [
        "widget-interact"
       ],
       "_model_module": "@jupyter-widgets/controls",
       "_model_module_version": "1.5.0",
       "_model_name": "VBoxModel",
       "_view_count": null,
       "_view_module": "@jupyter-widgets/controls",
       "_view_module_version": "1.5.0",
       "_view_name": "VBoxView",
       "box_style": "",
       "children": [
        "IPY_MODEL_16b8fce44111476da54902856e563da6",
        "IPY_MODEL_bc980379db454ee1bb8043455744d784"
       ],
       "layout": "IPY_MODEL_298c5332046d485b8aed4d44b13f88f0"
      }
     },
     "ed5e7e4fe66f4d0c9c53ba5432a0f07f": {
      "model_module": "@jupyter-widgets/controls",
      "model_module_version": "1.5.0",
      "model_name": "SliderStyleModel",
      "state": {
       "_model_module": "@jupyter-widgets/controls",
       "_model_module_version": "1.5.0",
       "_model_name": "SliderStyleModel",
       "_view_count": null,
       "_view_module": "@jupyter-widgets/base",
       "_view_module_version": "1.2.0",
       "_view_name": "StyleView",
       "description_width": "",
       "handle_color": null
      }
     }
    },
    "version_major": 2,
    "version_minor": 0
   }
  }
 },
 "nbformat": 4,
 "nbformat_minor": 5
}
