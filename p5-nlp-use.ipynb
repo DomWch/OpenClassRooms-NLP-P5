{
 "cells": [
  {
   "cell_type": "markdown",
   "id": "2248fa86",
   "metadata": {
    "papermill": {
     "duration": 0.025056,
     "end_time": "2023-01-18T19:56:00.760774",
     "exception": false,
     "start_time": "2023-01-18T19:56:00.735718",
     "status": "completed"
    },
    "tags": []
   },
   "source": [
    "# Index\n",
    "* [Import](#index)\n",
    "* [Tokenization](#Tokenization)\n",
    "* [CountVectorizer](#CountVectorizer)\n",
    "* [PreprocessPipeline](#PreprocessPipeline)\n",
    "* [OvsRest](#OvsRest)\n",
    "    - [LogisticRegression](#LogisticRegression)\n",
    "    - [SVC](#SVC)\n",
    "* [Word2Vec](#Word2Vec)\n",
    "* [BERT](#BERT)\n",
    "* [USE](#USE)\n",
    "* [LDA](#LDA)"
   ]
  },
  {
   "cell_type": "code",
   "execution_count": 1,
   "id": "f4e4d803",
   "metadata": {
    "_cell_guid": "b1076dfc-b9ad-4769-8c92-a6c4dae69d19",
    "_uuid": "8f2839f25d086af736a60e9eeb907d3b93b6e0e5",
    "execution": {
     "iopub.execute_input": "2023-01-18T19:56:00.804464Z",
     "iopub.status.busy": "2023-01-18T19:56:00.803710Z",
     "iopub.status.idle": "2023-01-18T19:56:12.261478Z",
     "shell.execute_reply": "2023-01-18T19:56:12.260285Z"
    },
    "papermill": {
     "duration": 11.483922,
     "end_time": "2023-01-18T19:56:12.264613",
     "exception": false,
     "start_time": "2023-01-18T19:56:00.780691",
     "status": "completed"
    },
    "tags": []
   },
   "outputs": [
    {
     "name": "stderr",
     "output_type": "stream",
     "text": [
      "/opt/conda/lib/python3.7/site-packages/past/types/oldstr.py:36: DeprecationWarning: invalid escape sequence \\d\n",
      "  \"\"\"\n",
      "/opt/conda/lib/python3.7/site-packages/past/builtins/misc.py:45: DeprecationWarning: the imp module is deprecated in favour of importlib; see the module's documentation for alternative uses\n",
      "  from imp import reload\n",
      "/opt/conda/lib/python3.7/site-packages/tensorflow/python/framework/dtypes.py:585: DeprecationWarning: `np.object` is a deprecated alias for the builtin `object`. To silence this warning, use `object` by itself. Doing this will not modify any behavior and is safe. \n",
      "Deprecated in NumPy 1.20; for more details and guidance: https://numpy.org/devdocs/release/1.20.0-notes.html#deprecations\n",
      "  np.object,\n",
      "/opt/conda/lib/python3.7/site-packages/tensorflow/python/framework/dtypes.py:627: DeprecationWarning: `np.object` is a deprecated alias for the builtin `object`. To silence this warning, use `object` by itself. Doing this will not modify any behavior and is safe. \n",
      "Deprecated in NumPy 1.20; for more details and guidance: https://numpy.org/devdocs/release/1.20.0-notes.html#deprecations\n",
      "  np.object,\n",
      "/opt/conda/lib/python3.7/site-packages/tensorflow/python/framework/dtypes.py:637: DeprecationWarning: `np.bool` is a deprecated alias for the builtin `bool`. To silence this warning, use `bool` by itself. Doing this will not modify any behavior and is safe. If you specifically wanted the numpy scalar type, use `np.bool_` here.\n",
      "Deprecated in NumPy 1.20; for more details and guidance: https://numpy.org/devdocs/release/1.20.0-notes.html#deprecations\n",
      "  np.bool,\n",
      "/opt/conda/lib/python3.7/site-packages/tensorflow/python/framework/tensor_util.py:108: DeprecationWarning: `np.object` is a deprecated alias for the builtin `object`. To silence this warning, use `object` by itself. Doing this will not modify any behavior and is safe. \n",
      "Deprecated in NumPy 1.20; for more details and guidance: https://numpy.org/devdocs/release/1.20.0-notes.html#deprecations\n",
      "  np.object:\n",
      "/opt/conda/lib/python3.7/site-packages/tensorflow/python/framework/tensor_util.py:110: DeprecationWarning: `np.bool` is a deprecated alias for the builtin `bool`. To silence this warning, use `bool` by itself. Doing this will not modify any behavior and is safe. If you specifically wanted the numpy scalar type, use `np.bool_` here.\n",
      "Deprecated in NumPy 1.20; for more details and guidance: https://numpy.org/devdocs/release/1.20.0-notes.html#deprecations\n",
      "  np.bool:\n",
      "/opt/conda/lib/python3.7/site-packages/tensorflow/python/ops/numpy_ops/np_random.py:110: DeprecationWarning: `np.int` is a deprecated alias for the builtin `int`. To silence this warning, use `int` by itself. Doing this will not modify any behavior and is safe. When replacing `np.int`, you may wish to use e.g. `np.int64` or `np.int32` to specify the precision. If you wish to review your current use, check the release note link for additional information.\n",
      "Deprecated in NumPy 1.20; for more details and guidance: https://numpy.org/devdocs/release/1.20.0-notes.html#deprecations\n",
      "  def randint(low, high=None, size=None, dtype=onp.int):  # pylint: disable=missing-function-docstring\n",
      "/opt/conda/lib/python3.7/site-packages/keras_preprocessing/image/utils.py:23: DeprecationWarning: NEAREST is deprecated and will be removed in Pillow 10 (2023-07-01). Use Resampling.NEAREST or Dither.NONE instead.\n",
      "  'nearest': pil_image.NEAREST,\n",
      "/opt/conda/lib/python3.7/site-packages/keras_preprocessing/image/utils.py:24: DeprecationWarning: BILINEAR is deprecated and will be removed in Pillow 10 (2023-07-01). Use Resampling.BILINEAR instead.\n",
      "  'bilinear': pil_image.BILINEAR,\n",
      "/opt/conda/lib/python3.7/site-packages/keras_preprocessing/image/utils.py:25: DeprecationWarning: BICUBIC is deprecated and will be removed in Pillow 10 (2023-07-01). Use Resampling.BICUBIC instead.\n",
      "  'bicubic': pil_image.BICUBIC,\n",
      "/opt/conda/lib/python3.7/site-packages/keras_preprocessing/image/utils.py:28: DeprecationWarning: HAMMING is deprecated and will be removed in Pillow 10 (2023-07-01). Use Resampling.HAMMING instead.\n",
      "  if hasattr(pil_image, 'HAMMING'):\n",
      "/opt/conda/lib/python3.7/site-packages/keras_preprocessing/image/utils.py:29: DeprecationWarning: HAMMING is deprecated and will be removed in Pillow 10 (2023-07-01). Use Resampling.HAMMING instead.\n",
      "  _PIL_INTERPOLATION_METHODS['hamming'] = pil_image.HAMMING\n",
      "/opt/conda/lib/python3.7/site-packages/keras_preprocessing/image/utils.py:30: DeprecationWarning: BOX is deprecated and will be removed in Pillow 10 (2023-07-01). Use Resampling.BOX instead.\n",
      "  if hasattr(pil_image, 'BOX'):\n",
      "/opt/conda/lib/python3.7/site-packages/keras_preprocessing/image/utils.py:31: DeprecationWarning: BOX is deprecated and will be removed in Pillow 10 (2023-07-01). Use Resampling.BOX instead.\n",
      "  _PIL_INTERPOLATION_METHODS['box'] = pil_image.BOX\n",
      "/opt/conda/lib/python3.7/site-packages/keras_preprocessing/image/utils.py:33: DeprecationWarning: LANCZOS is deprecated and will be removed in Pillow 10 (2023-07-01). Use Resampling.LANCZOS instead.\n",
      "  if hasattr(pil_image, 'LANCZOS'):\n",
      "/opt/conda/lib/python3.7/site-packages/keras_preprocessing/image/utils.py:34: DeprecationWarning: LANCZOS is deprecated and will be removed in Pillow 10 (2023-07-01). Use Resampling.LANCZOS instead.\n",
      "  _PIL_INTERPOLATION_METHODS['lanczos'] = pil_image.LANCZOS\n",
      "2023-01-18 19:56:12.208876: I tensorflow/core/common_runtime/process_util.cc:146] Creating new thread pool with default inter op setting: 2. Tune using inter_op_parallelism_threads for best performance.\n"
     ]
    }
   ],
   "source": [
    "import time\n",
    "import json\n",
    "import os\n",
    "\n",
    "# from joblib import dump, load, Memory\n",
    "import joblib\n",
    "import dill\n",
    "import weakref\n",
    "\n",
    "# import warnings\n",
    "\n",
    "import numpy as np\n",
    "import pandas as pd\n",
    "import gensim\n",
    "import pyLDAvis\n",
    "import matplotlib.pyplot as plt\n",
    "\n",
    "# from gensim import (\n",
    "#     corpora,\n",
    "# )  # https://pypi.org/project/gensim/ #https://radimrehurek.com/gensim/auto_examples/core/run_topics_and_transformations.html#sphx-glr-auto-examples-core-run-topics-and-transformations-py\n",
    "from sklearn import (\n",
    "    metrics,\n",
    "    feature_extraction,\n",
    "    linear_model,\n",
    "    model_selection,\n",
    "    preprocessing,\n",
    "    cluster,\n",
    "    decomposition,\n",
    "    multiclass,\n",
    "    svm,\n",
    "    pipeline,\n",
    "    exceptions,\n",
    "    manifold,\n",
    ")\n",
    "from wordcloud import WordCloud\n",
    "from sklearn.utils._testing import ignore_warnings\n",
    "from sklearn.base import BaseEstimator, TransformerMixin\n",
    "import tensorflow as tf\n",
    "import tensorflow_hub as hub\n",
    "from transformers import (\n",
    "    AutoTokenizer,\n",
    "    TFAutoModel,\n",
    "    AutoModel,\n",
    "    BertTokenizer,\n",
    "    TFBertModel,\n",
    "    BertConfig,\n",
    ")  # BertModel\n",
    "import transformers\n",
    "from tokenizers import BertWordPieceTokenizer\n",
    "\n",
    "\n",
    "# import nlpk"
   ]
  },
  {
   "cell_type": "code",
   "execution_count": 2,
   "id": "88754ac7",
   "metadata": {
    "execution": {
     "iopub.execute_input": "2023-01-18T19:56:12.308370Z",
     "iopub.status.busy": "2023-01-18T19:56:12.307658Z",
     "iopub.status.idle": "2023-01-18T19:56:12.386431Z",
     "shell.execute_reply": "2023-01-18T19:56:12.385208Z"
    },
    "papermill": {
     "duration": 0.10316,
     "end_time": "2023-01-18T19:56:12.389331",
     "exception": false,
     "start_time": "2023-01-18T19:56:12.286171",
     "status": "completed"
    },
    "tags": []
   },
   "outputs": [],
   "source": [
    "from kerasembedtransformerclass import p5_nlp_utils"
   ]
  },
  {
   "cell_type": "markdown",
   "id": "2333ae93",
   "metadata": {
    "papermill": {
     "duration": 0.02025,
     "end_time": "2023-01-18T19:56:12.430188",
     "exception": false,
     "start_time": "2023-01-18T19:56:12.409938",
     "status": "completed"
    },
    "tags": []
   },
   "source": [
    "https://scikit-learn.org/stable/modules/multiclass.html test autre stategie que OneVsRest  \n",
    "https://keras.io/examples/nlp/text_extraction_with_bert/  "
   ]
  },
  {
   "cell_type": "code",
   "execution_count": 3,
   "id": "b0e00057",
   "metadata": {
    "_kg_hide-output": true,
    "execution": {
     "iopub.execute_input": "2023-01-18T19:56:12.472483Z",
     "iopub.status.busy": "2023-01-18T19:56:12.472072Z",
     "iopub.status.idle": "2023-01-18T19:56:26.781840Z",
     "shell.execute_reply": "2023-01-18T19:56:26.780435Z"
    },
    "papermill": {
     "duration": 14.333733,
     "end_time": "2023-01-18T19:56:26.784215",
     "exception": false,
     "start_time": "2023-01-18T19:56:12.450482",
     "status": "completed"
    },
    "tags": []
   },
   "outputs": [
    {
     "name": "stdout",
     "output_type": "stream",
     "text": [
      "\u001b[33mWARNING: Running pip as the 'root' user can result in broken permissions and conflicting behaviour with the system package manager. It is recommended to use a virtual environment instead: https://pip.pypa.io/warnings/venv\u001b[0m\u001b[33m\r\n",
      "\u001b[0mNote: you may need to restart the kernel to use updated packages.\n"
     ]
    }
   ],
   "source": [
    "pip install -q jupyter-black jupyter"
   ]
  },
  {
   "cell_type": "code",
   "execution_count": 4,
   "id": "1d1c9721",
   "metadata": {
    "execution": {
     "iopub.execute_input": "2023-01-18T19:56:26.828653Z",
     "iopub.status.busy": "2023-01-18T19:56:26.827499Z",
     "iopub.status.idle": "2023-01-18T19:56:27.000817Z",
     "shell.execute_reply": "2023-01-18T19:56:26.999694Z"
    },
    "papermill": {
     "duration": 0.198791,
     "end_time": "2023-01-18T19:56:27.003816",
     "exception": false,
     "start_time": "2023-01-18T19:56:26.805025",
     "status": "completed"
    },
    "tags": []
   },
   "outputs": [
    {
     "data": {
      "text/html": [
       "\n",
       "                <script type=\"application/javascript\" id=\"jupyter_black\">\n",
       "                (function() {\n",
       "                    if (window.IPython === undefined) {\n",
       "                        return\n",
       "                    }\n",
       "                    var msg = \"WARNING: it looks like you might have loaded \" +\n",
       "                        \"jupyter_black in a non-lab notebook with \" +\n",
       "                        \"`is_lab=True`. Please double check, and if \" +\n",
       "                        \"loading with `%load_ext` please review the README!\"\n",
       "                    console.log(msg)\n",
       "                    alert(msg)\n",
       "                })()\n",
       "                </script>\n",
       "                "
      ],
      "text/plain": [
       "<IPython.core.display.HTML object>"
      ]
     },
     "metadata": {},
     "output_type": "display_data"
    }
   ],
   "source": [
    "# for black formating\n",
    "import jupyter_black  # pip install jupyter-black jupyter\n",
    "\n",
    "jupyter_black.load()\n",
    "# ??jupyter_black.load #show config"
   ]
  },
  {
   "cell_type": "code",
   "execution_count": 5,
   "id": "8890daa9",
   "metadata": {
    "execution": {
     "iopub.execute_input": "2023-01-18T19:56:27.047199Z",
     "iopub.status.busy": "2023-01-18T19:56:27.046780Z",
     "iopub.status.idle": "2023-01-18T19:56:38.210069Z",
     "shell.execute_reply": "2023-01-18T19:56:38.208489Z"
    },
    "papermill": {
     "duration": 11.188819,
     "end_time": "2023-01-18T19:56:38.213305",
     "exception": false,
     "start_time": "2023-01-18T19:56:27.024486",
     "status": "completed"
    },
    "tags": []
   },
   "outputs": [
    {
     "name": "stdout",
     "output_type": "stream",
     "text": [
      "<class 'pandas.core.frame.DataFrame'>\n",
      "Int64Index: 118442 entries, 0 to 118441\n",
      "Data columns (total 12 columns):\n",
      " #   Column       Non-Null Count   Dtype \n",
      "---  ------       --------------   ----- \n",
      " 0   Id           118442 non-null  int64 \n",
      " 1   Title        118442 non-null  object\n",
      " 2   Body         118442 non-null  object\n",
      " 3   0            118440 non-null  object\n",
      " 4   1            118383 non-null  object\n",
      " 5   2            118292 non-null  object\n",
      " 6   3            118292 non-null  object\n",
      " 7   4            76389 non-null   object\n",
      " 8   5            4 non-null       object\n",
      " 9   Title_clean  118389 non-null  object\n",
      " 10  Code         88202 non-null   object\n",
      " 11  Body_clean   118392 non-null  object\n",
      "dtypes: int64(1), object(11)\n",
      "memory usage: 11.7+ MB\n"
     ]
    }
   ],
   "source": [
    "df = pd.read_csv(\n",
    "    \"/kaggle/input/p5-nlp/stackoverflowCleaned.csv\", index_col=0, low_memory=False\n",
    ")\n",
    "df.info()"
   ]
  },
  {
   "cell_type": "code",
   "execution_count": 6,
   "id": "aa1a83f3",
   "metadata": {
    "execution": {
     "iopub.execute_input": "2023-01-18T19:56:38.257854Z",
     "iopub.status.busy": "2023-01-18T19:56:38.257407Z",
     "iopub.status.idle": "2023-01-18T19:56:38.345569Z",
     "shell.execute_reply": "2023-01-18T19:56:38.344190Z"
    },
    "papermill": {
     "duration": 0.114152,
     "end_time": "2023-01-18T19:56:38.348257",
     "exception": false,
     "start_time": "2023-01-18T19:56:38.234105",
     "status": "completed"
    },
    "tags": []
   },
   "outputs": [],
   "source": [
    "LONG = False\n",
    "description = {\n",
    "    \"title\": \"USE avec recherche best limit , epochs 100 et visu tsne\",\n",
    "    \"CountVectorizer\": {\"min_df\": 0.00001, \"max_df\": 0.995, \"max_features\": None},\n",
    "    \"StandardScaler\": {\"actif\": False},\n",
    "    \"TruncatedSVD\": {\"actif\": False, \"n_components\": 1_000},\n",
    "    \"LogisticRegression\": {\"actif\": False},\n",
    "    \"TfidfOvRSVC\": {\"actif\": False, \"max_iter\": 100},\n",
    "    \"kerasPipeline\": {\n",
    "        \"actif\": False,\n",
    "        \"TextVectorization__max_tokens\": 210_000,  # 20_000,\n",
    "        \"TextVectorization__output_sequence_length\": 100,  # 20\n",
    "        \"Embedding__output_dim\": 500,\n",
    "        \"Word2Vec__min_count\": 5,\n",
    "        \"Word2Vec__window\": 25,\n",
    "        \"Word2Vec__epochs\": 150,  # 100,\n",
    "        \"fit__epochs\": 15,  # 15\n",
    "    },\n",
    "    \"Word2Vec\": {\n",
    "        \"actif\": False,\n",
    "        \"min_count\": 1,\n",
    "        \"size\": 500,\n",
    "        \"window\": 10,\n",
    "        \"epochs\": 100,\n",
    "        \"maxlen\": 50,\n",
    "        \"max_iter\": 6_000,\n",
    "    },\n",
    "    \"BERT\": {\n",
    "        \"actif\": False,\n",
    "        \"max_length\": 512,\n",
    "        \"epochs\": 5,\n",
    "    },\n",
    "    \"USE\": {\"actif\": True, \"tsne_visu\": False, \"epochs\": 300},\n",
    "    \"LDA\": {\n",
    "        \"actif\": False,\n",
    "        \"num_topics\": [20],  # [5, 10, 20],\n",
    "        \"lda__no_below\": 100,\n",
    "        \"lda__no_above\": 0.5,\n",
    "        \"lda__max_tokens\": 100_000,\n",
    "        \"lda__iterations\": 50,\n",
    "        \"word_cloud__nb_words\": 50,\n",
    "    },\n",
    "}"
   ]
  },
  {
   "cell_type": "code",
   "execution_count": 7,
   "id": "ec41fe9c",
   "metadata": {
    "execution": {
     "iopub.execute_input": "2023-01-18T19:56:38.392588Z",
     "iopub.status.busy": "2023-01-18T19:56:38.392110Z",
     "iopub.status.idle": "2023-01-18T19:56:38.399232Z",
     "shell.execute_reply": "2023-01-18T19:56:38.398092Z"
    },
    "papermill": {
     "duration": 0.032446,
     "end_time": "2023-01-18T19:56:38.401727",
     "exception": false,
     "start_time": "2023-01-18T19:56:38.369281",
     "status": "completed"
    },
    "tags": []
   },
   "outputs": [],
   "source": [
    "# # ultra fast\n",
    "# description[\"kerasPipeline\"][\"fit__epochs\"] = 1\n",
    "# description[\"kerasPipeline\"][\"TextVectorization__max_tokens\"] = 100\n",
    "# description[\"kerasPipeline\"][\"TextVectorization__output_sequence_length\"] = 5\n",
    "# description[\"kerasPipeline\"][\"Word2Vec__epochs\"] = 1\n",
    "# description[\"kerasPipeline\"][\"Embedding__output_dim\"] = 10"
   ]
  },
  {
   "cell_type": "code",
   "execution_count": 8,
   "id": "348fc79b",
   "metadata": {
    "execution": {
     "iopub.execute_input": "2023-01-18T19:56:38.446322Z",
     "iopub.status.busy": "2023-01-18T19:56:38.445288Z",
     "iopub.status.idle": "2023-01-18T19:56:38.467009Z",
     "shell.execute_reply": "2023-01-18T19:56:38.466056Z"
    },
    "papermill": {
     "duration": 0.046722,
     "end_time": "2023-01-18T19:56:38.469560",
     "exception": false,
     "start_time": "2023-01-18T19:56:38.422838",
     "status": "completed"
    },
    "tags": []
   },
   "outputs": [],
   "source": [
    "class colors:\n",
    "    PURPLE = \"\\033[95m\"\n",
    "    BLUE = \"\\033[94m\"\n",
    "    CYAN = \"\\033[96m\"\n",
    "    GREEN = \"\\033[92m\"\n",
    "    YELLOW = \"\\033[93m\"\n",
    "    RED = \"\\033[91m\"\n",
    "    ENDC = \"\\033[0m\"\n",
    "    BOLD = \"\\033[1m\"\n",
    "    UNDERLINE = \"\\033[4m\""
   ]
  },
  {
   "cell_type": "markdown",
   "id": "ee60c0b3",
   "metadata": {
    "papermill": {
     "duration": 0.021085,
     "end_time": "2023-01-18T19:56:38.511310",
     "exception": false,
     "start_time": "2023-01-18T19:56:38.490225",
     "status": "completed"
    },
    "tags": []
   },
   "source": [
    "# Tokenization"
   ]
  },
  {
   "cell_type": "code",
   "execution_count": 9,
   "id": "1755dcdf",
   "metadata": {
    "execution": {
     "iopub.execute_input": "2023-01-18T19:56:38.556166Z",
     "iopub.status.busy": "2023-01-18T19:56:38.555423Z",
     "iopub.status.idle": "2023-01-18T19:56:38.614329Z",
     "shell.execute_reply": "2023-01-18T19:56:38.613088Z"
    },
    "papermill": {
     "duration": 0.086382,
     "end_time": "2023-01-18T19:56:38.618997",
     "exception": false,
     "start_time": "2023-01-18T19:56:38.532615",
     "status": "completed"
    },
    "tags": []
   },
   "outputs": [
    {
     "name": "stderr",
     "output_type": "stream",
     "text": [
      "/opt/conda/lib/python3.7/site-packages/ipykernel/pylab/backend_inline.py:13: DeprecationWarning: `ipykernel.pylab.backend_inline` is deprecated, directly use `matplotlib_inline.backend_inline`\n",
      "  DeprecationWarning,\n"
     ]
    },
    {
     "data": {
      "application/vnd.jupyter.widget-view+json": {
       "model_id": "bcda69061a924cfe82ae8f4b91d4828e",
       "version_major": 2,
       "version_minor": 0
      },
      "text/plain": [
       "interactive(children=(IntSlider(value=59220, description='i', max=118441), Output()), _dom_classes=('widget-in…"
      ]
     },
     "metadata": {},
     "output_type": "display_data"
    }
   ],
   "source": [
    "from ipywidgets import interact\n",
    "\n",
    "\n",
    "@interact(i=(0, df.shape[0] - 1))\n",
    "def test_tr_print(i):\n",
    "    print(\n",
    "        f'Title:{df[\"Title\"][i]}\\n{\"*\"*30}\\nTitle_clean:{df[\"Title_clean\"][i]}\\n{\"*\"*30}\\nBody:{df[\"Body\"][i]}\\n{\"*\"*30}\\nBody_clean:{df[\"Body_clean\"][i]}\\n{\"*\"*30}\\nCode:{df[\"Code\"][i]}\\n{\"*\"*30}\\nTags:{df.loc[i,\"0\"]} {df.loc[i,\"1\"]} {df.loc[i,\"2\"]} {df.loc[i,\"3\"]} {df.loc[i,\"4\"]}'\n",
    "    )"
   ]
  },
  {
   "cell_type": "code",
   "execution_count": 10,
   "id": "a1032b96",
   "metadata": {
    "execution": {
     "iopub.execute_input": "2023-01-18T19:56:38.663434Z",
     "iopub.status.busy": "2023-01-18T19:56:38.662994Z",
     "iopub.status.idle": "2023-01-18T19:56:38.727223Z",
     "shell.execute_reply": "2023-01-18T19:56:38.725670Z"
    },
    "papermill": {
     "duration": 0.08952,
     "end_time": "2023-01-18T19:56:38.729807",
     "exception": false,
     "start_time": "2023-01-18T19:56:38.640287",
     "status": "completed"
    },
    "tags": []
   },
   "outputs": [
    {
     "name": "stdout",
     "output_type": "stream",
     "text": [
      "53\n"
     ]
    },
    {
     "data": {
      "text/html": [
       "<div>\n",
       "<style scoped>\n",
       "    .dataframe tbody tr th:only-of-type {\n",
       "        vertical-align: middle;\n",
       "    }\n",
       "\n",
       "    .dataframe tbody tr th {\n",
       "        vertical-align: top;\n",
       "    }\n",
       "\n",
       "    .dataframe thead th {\n",
       "        text-align: right;\n",
       "    }\n",
       "</style>\n",
       "<table border=\"1\" class=\"dataframe\">\n",
       "  <thead>\n",
       "    <tr style=\"text-align: right;\">\n",
       "      <th></th>\n",
       "      <th>Title</th>\n",
       "      <th>Title_clean</th>\n",
       "      <th>Body</th>\n",
       "      <th>Body_clean</th>\n",
       "      <th>0</th>\n",
       "      <th>1</th>\n",
       "      <th>2</th>\n",
       "      <th>3</th>\n",
       "      <th>4</th>\n",
       "    </tr>\n",
       "  </thead>\n",
       "  <tbody>\n",
       "    <tr>\n",
       "      <th>302</th>\n",
       "      <td>Is &lt; faster than &lt;=?</td>\n",
       "      <td>NaN</td>\n",
       "      <td>&lt;p&gt;Is &lt;code&gt;if (a &amp;lt; 901)&lt;/code&gt; faster than...</td>\n",
       "      <td>example performance change loop code suppose g...</td>\n",
       "      <td>c++</td>\n",
       "      <td>c</td>\n",
       "      <td>performance</td>\n",
       "      <td>assembly</td>\n",
       "      <td>relational-operators</td>\n",
       "    </tr>\n",
       "    <tr>\n",
       "      <th>393</th>\n",
       "      <td>What is setup.py?</td>\n",
       "      <td>NaN</td>\n",
       "      <td>&lt;p&gt;What is &lt;code&gt;setup.py&lt;/code&gt; and how can i...</td>\n",
       "      <td>configure</td>\n",
       "      <td>python</td>\n",
       "      <td>pypi</td>\n",
       "      <td>setup.py</td>\n",
       "      <td>python-packaging</td>\n",
       "      <td>NaN</td>\n",
       "    </tr>\n",
       "    <tr>\n",
       "      <th>1437</th>\n",
       "      <td>What is related_name used for?</td>\n",
       "      <td>NaN</td>\n",
       "      <td>&lt;p&gt;What is the &lt;code&gt;related_name&lt;/code&gt; argum...</td>\n",
       "      <td>argument manytomanyfield foreignkey field exam...</td>\n",
       "      <td>python</td>\n",
       "      <td>django</td>\n",
       "      <td>foreign-keys</td>\n",
       "      <td>many-to-many</td>\n",
       "      <td>NaN</td>\n",
       "    </tr>\n",
       "    <tr>\n",
       "      <th>4062</th>\n",
       "      <td>What is \"android:allowBackup\"?</td>\n",
       "      <td>NaN</td>\n",
       "      <td>&lt;p&gt;Since the &lt;a href=\"http://tools.android.com...</td>\n",
       "      <td>adt preview version version lint warning tell ...</td>\n",
       "      <td>android</td>\n",
       "      <td>adt</td>\n",
       "      <td>compiler-warnings</td>\n",
       "      <td>android-lint</td>\n",
       "      <td>android-backup-service</td>\n",
       "    </tr>\n",
       "    <tr>\n",
       "      <th>4870</th>\n",
       "      <td>Why is 0 &lt; -0x80000000?</td>\n",
       "      <td>NaN</td>\n",
       "      <td>&lt;p&gt;I have below a simple program:&lt;/p&gt;\\n\\n&lt;pre&gt;...</td>\n",
       "      <td>program condition if(bal int32_min work change...</td>\n",
       "      <td>c</td>\n",
       "      <td>signed</td>\n",
       "      <td>numeric-limits</td>\n",
       "      <td>numeric-conversion</td>\n",
       "      <td>NaN</td>\n",
       "    </tr>\n",
       "  </tbody>\n",
       "</table>\n",
       "</div>"
      ],
      "text/plain": [
       "                               Title Title_clean  \\\n",
       "302             Is < faster than <=?         NaN   \n",
       "393                What is setup.py?         NaN   \n",
       "1437  What is related_name used for?         NaN   \n",
       "4062  What is \"android:allowBackup\"?         NaN   \n",
       "4870         Why is 0 < -0x80000000?         NaN   \n",
       "\n",
       "                                                   Body  \\\n",
       "302   <p>Is <code>if (a &lt; 901)</code> faster than...   \n",
       "393   <p>What is <code>setup.py</code> and how can i...   \n",
       "1437  <p>What is the <code>related_name</code> argum...   \n",
       "4062  <p>Since the <a href=\"http://tools.android.com...   \n",
       "4870  <p>I have below a simple program:</p>\\n\\n<pre>...   \n",
       "\n",
       "                                             Body_clean        0       1  \\\n",
       "302   example performance change loop code suppose g...      c++       c   \n",
       "393                                           configure   python    pypi   \n",
       "1437  argument manytomanyfield foreignkey field exam...   python  django   \n",
       "4062  adt preview version version lint warning tell ...  android     adt   \n",
       "4870  program condition if(bal int32_min work change...        c  signed   \n",
       "\n",
       "                      2                   3                       4  \n",
       "302         performance            assembly    relational-operators  \n",
       "393            setup.py    python-packaging                     NaN  \n",
       "1437       foreign-keys        many-to-many                     NaN  \n",
       "4062  compiler-warnings        android-lint  android-backup-service  \n",
       "4870     numeric-limits  numeric-conversion                     NaN  "
      ]
     },
     "execution_count": 10,
     "metadata": {},
     "output_type": "execute_result"
    }
   ],
   "source": [
    "print(sum(df[\"Title_clean\"].isna()))\n",
    "df[df[\"Title_clean\"].isna()][\n",
    "    [\"Title\", \"Title_clean\", \"Body\", \"Body_clean\", \"0\", \"1\", \"2\", \"3\", \"4\"]\n",
    "].head(5)"
   ]
  },
  {
   "cell_type": "code",
   "execution_count": 11,
   "id": "21eed47c",
   "metadata": {
    "execution": {
     "iopub.execute_input": "2023-01-18T19:56:38.775065Z",
     "iopub.status.busy": "2023-01-18T19:56:38.774635Z",
     "iopub.status.idle": "2023-01-18T19:56:38.847091Z",
     "shell.execute_reply": "2023-01-18T19:56:38.845588Z"
    },
    "papermill": {
     "duration": 0.097925,
     "end_time": "2023-01-18T19:56:38.849713",
     "exception": false,
     "start_time": "2023-01-18T19:56:38.751788",
     "status": "completed"
    },
    "tags": []
   },
   "outputs": [
    {
     "name": "stdout",
     "output_type": "stream",
     "text": [
      "50\n"
     ]
    },
    {
     "data": {
      "text/html": [
       "<div>\n",
       "<style scoped>\n",
       "    .dataframe tbody tr th:only-of-type {\n",
       "        vertical-align: middle;\n",
       "    }\n",
       "\n",
       "    .dataframe tbody tr th {\n",
       "        vertical-align: top;\n",
       "    }\n",
       "\n",
       "    .dataframe thead th {\n",
       "        text-align: right;\n",
       "    }\n",
       "</style>\n",
       "<table border=\"1\" class=\"dataframe\">\n",
       "  <thead>\n",
       "    <tr style=\"text-align: right;\">\n",
       "      <th></th>\n",
       "      <th>Title</th>\n",
       "      <th>Title_clean</th>\n",
       "      <th>Body</th>\n",
       "      <th>Body_clean</th>\n",
       "      <th>Code</th>\n",
       "    </tr>\n",
       "  </thead>\n",
       "  <tbody>\n",
       "    <tr>\n",
       "      <th>5</th>\n",
       "      <td>What and where are the stack and heap?</td>\n",
       "      <td>stack heap</td>\n",
       "      <td>&lt;ul&gt;\\n&lt;li&gt;What are the stack and heap?&lt;/li&gt;\\n&lt;...</td>\n",
       "      <td>NaN</td>\n",
       "      <td>NaN</td>\n",
       "    </tr>\n",
       "    <tr>\n",
       "      <th>168</th>\n",
       "      <td>What is The Rule of Three?</td>\n",
       "      <td>rule</td>\n",
       "      <td>&lt;ul&gt;\\n&lt;li&gt;What does &lt;em&gt;copying an object&lt;/em&gt;...</td>\n",
       "      <td>NaN</td>\n",
       "      <td>NaN</td>\n",
       "    </tr>\n",
       "    <tr>\n",
       "      <th>828</th>\n",
       "      <td>Why are these constructs using pre and post-in...</td>\n",
       "      <td>construct pre behavior</td>\n",
       "      <td>&lt;pre&gt;&lt;code&gt;#include &amp;lt;stdio.h&amp;gt;\\n\\nint mai...</td>\n",
       "      <td>NaN</td>\n",
       "      <td>#include &lt;stdio.h&gt;\\n\\nint main(void)\\n{\\n   in...</td>\n",
       "    </tr>\n",
       "    <tr>\n",
       "      <th>1207</th>\n",
       "      <td>How to use ADB Shell when Multiple Devices are...</td>\n",
       "      <td>use adb shell multiple device connect fail err...</td>\n",
       "      <td>&lt;pre&gt;&lt;code&gt;$ adb --help\\n&lt;/code&gt;&lt;/pre&gt;\\n&lt;hr /&gt;...</td>\n",
       "      <td>NaN</td>\n",
       "      <td>$ adb --help\\n -s SERIAL  use device with give...</td>\n",
       "    </tr>\n",
       "    <tr>\n",
       "      <th>1640</th>\n",
       "      <td>What are the advantages of list initialization...</td>\n",
       "      <td>advantage list initialization brace</td>\n",
       "      <td>&lt;pre&gt;&lt;code&gt;MyClass a1 {a};     // clearer and ...</td>\n",
       "      <td>NaN</td>\n",
       "      <td>MyClass a1 {a};     // clearer and less error-...</td>\n",
       "    </tr>\n",
       "  </tbody>\n",
       "</table>\n",
       "</div>"
      ],
      "text/plain": [
       "                                                  Title  \\\n",
       "5                What and where are the stack and heap?   \n",
       "168                          What is The Rule of Three?   \n",
       "828   Why are these constructs using pre and post-in...   \n",
       "1207  How to use ADB Shell when Multiple Devices are...   \n",
       "1640  What are the advantages of list initialization...   \n",
       "\n",
       "                                            Title_clean  \\\n",
       "5                                            stack heap   \n",
       "168                                                rule   \n",
       "828                              construct pre behavior   \n",
       "1207  use adb shell multiple device connect fail err...   \n",
       "1640                advantage list initialization brace   \n",
       "\n",
       "                                                   Body Body_clean  \\\n",
       "5     <ul>\\n<li>What are the stack and heap?</li>\\n<...        NaN   \n",
       "168   <ul>\\n<li>What does <em>copying an object</em>...        NaN   \n",
       "828   <pre><code>#include &lt;stdio.h&gt;\\n\\nint mai...        NaN   \n",
       "1207  <pre><code>$ adb --help\\n</code></pre>\\n<hr />...        NaN   \n",
       "1640  <pre><code>MyClass a1 {a};     // clearer and ...        NaN   \n",
       "\n",
       "                                                   Code  \n",
       "5                                                   NaN  \n",
       "168                                                 NaN  \n",
       "828   #include <stdio.h>\\n\\nint main(void)\\n{\\n   in...  \n",
       "1207  $ adb --help\\n -s SERIAL  use device with give...  \n",
       "1640  MyClass a1 {a};     // clearer and less error-...  "
      ]
     },
     "execution_count": 11,
     "metadata": {},
     "output_type": "execute_result"
    }
   ],
   "source": [
    "print(sum(df[\"Body_clean\"].isna()))\n",
    "df[df[\"Body_clean\"].isna()][\n",
    "    [\"Title\", \"Title_clean\", \"Body\", \"Body_clean\", \"Code\"]\n",
    "].head(5)"
   ]
  },
  {
   "cell_type": "code",
   "execution_count": 12,
   "id": "84716ece",
   "metadata": {
    "execution": {
     "iopub.execute_input": "2023-01-18T19:56:38.896266Z",
     "iopub.status.busy": "2023-01-18T19:56:38.895828Z",
     "iopub.status.idle": "2023-01-18T19:56:38.933021Z",
     "shell.execute_reply": "2023-01-18T19:56:38.931823Z"
    },
    "papermill": {
     "duration": 0.063437,
     "end_time": "2023-01-18T19:56:38.935626",
     "exception": false,
     "start_time": "2023-01-18T19:56:38.872189",
     "status": "completed"
    },
    "tags": []
   },
   "outputs": [
    {
     "data": {
      "text/plain": [
       "0"
      ]
     },
     "execution_count": 12,
     "metadata": {},
     "output_type": "execute_result"
    }
   ],
   "source": [
    "len(df[df[\"Body_clean\"].isna() & df[\"Title_clean\"].isna()])"
   ]
  },
  {
   "cell_type": "code",
   "execution_count": 13,
   "id": "4587514c",
   "metadata": {
    "execution": {
     "iopub.execute_input": "2023-01-18T19:56:38.981853Z",
     "iopub.status.busy": "2023-01-18T19:56:38.981448Z",
     "iopub.status.idle": "2023-01-18T19:56:39.480722Z",
     "shell.execute_reply": "2023-01-18T19:56:39.479126Z"
    },
    "papermill": {
     "duration": 0.526004,
     "end_time": "2023-01-18T19:56:39.483475",
     "exception": false,
     "start_time": "2023-01-18T19:56:38.957471",
     "status": "completed"
    },
    "tags": []
   },
   "outputs": [
    {
     "name": "stdout",
     "output_type": "stream",
     "text": [
      "taille 21\n",
      "java c# javascript python android c++ ios html php .net jquery css objective-c c sql iphone asp.net mysql linux node.js git\n"
     ]
    }
   ],
   "source": [
    "tags = df[[\"0\", \"1\", \"2\", \"3\", \"4\", \"5\"]].stack()\n",
    "target_names = [\n",
    "    tag\n",
    "    for tag, freq in tags.reset_index(drop=True).value_counts(normalize=True).items()\n",
    "    if freq > 0.002\n",
    "]\n",
    "if not LONG:\n",
    "    target_names = target_names[0:20] + [\"git\"]\n",
    "print(f\"taille {len(target_names)}\\n{' '.join(target_names)}\")"
   ]
  },
  {
   "cell_type": "code",
   "execution_count": 14,
   "id": "42d53f0b",
   "metadata": {
    "execution": {
     "iopub.execute_input": "2023-01-18T19:56:39.530655Z",
     "iopub.status.busy": "2023-01-18T19:56:39.529961Z",
     "iopub.status.idle": "2023-01-18T19:56:39.546776Z",
     "shell.execute_reply": "2023-01-18T19:56:39.545768Z"
    },
    "papermill": {
     "duration": 0.043527,
     "end_time": "2023-01-18T19:56:39.549407",
     "exception": false,
     "start_time": "2023-01-18T19:56:39.505880",
     "status": "completed"
    },
    "tags": []
   },
   "outputs": [],
   "source": [
    "# Enregistrement des paramétres avec la liste des tags a predire\n",
    "description[\"target_names\"] = target_names\n",
    "with open(\"/kaggle/working/description.json\", \"w\") as outfile:\n",
    "    json.dump(description, outfile)"
   ]
  },
  {
   "cell_type": "code",
   "execution_count": 15,
   "id": "a2c9cb52",
   "metadata": {
    "execution": {
     "iopub.execute_input": "2023-01-18T19:56:39.596578Z",
     "iopub.status.busy": "2023-01-18T19:56:39.596145Z",
     "iopub.status.idle": "2023-01-18T19:56:39.632848Z",
     "shell.execute_reply": "2023-01-18T19:56:39.631570Z"
    },
    "papermill": {
     "duration": 0.063841,
     "end_time": "2023-01-18T19:56:39.636226",
     "exception": false,
     "start_time": "2023-01-18T19:56:39.572385",
     "status": "completed"
    },
    "tags": []
   },
   "outputs": [
    {
     "data": {
      "text/html": [
       "<div>\n",
       "<style scoped>\n",
       "    .dataframe tbody tr th:only-of-type {\n",
       "        vertical-align: middle;\n",
       "    }\n",
       "\n",
       "    .dataframe tbody tr th {\n",
       "        vertical-align: top;\n",
       "    }\n",
       "\n",
       "    .dataframe thead th {\n",
       "        text-align: right;\n",
       "    }\n",
       "</style>\n",
       "<table border=\"1\" class=\"dataframe\">\n",
       "  <thead>\n",
       "    <tr style=\"text-align: right;\">\n",
       "      <th></th>\n",
       "      <th>javascript</th>\n",
       "      <th>java</th>\n",
       "      <th>c#</th>\n",
       "      <th>python</th>\n",
       "      <th>html</th>\n",
       "      <th>git</th>\n",
       "      <th>php</th>\n",
       "    </tr>\n",
       "  </thead>\n",
       "  <tbody>\n",
       "    <tr>\n",
       "      <th>0</th>\n",
       "      <td>False</td>\n",
       "      <td>True</td>\n",
       "      <td>False</td>\n",
       "      <td>False</td>\n",
       "      <td>False</td>\n",
       "      <td>False</td>\n",
       "      <td>False</td>\n",
       "    </tr>\n",
       "    <tr>\n",
       "      <th>1</th>\n",
       "      <td>False</td>\n",
       "      <td>False</td>\n",
       "      <td>False</td>\n",
       "      <td>False</td>\n",
       "      <td>False</td>\n",
       "      <td>True</td>\n",
       "      <td>False</td>\n",
       "    </tr>\n",
       "    <tr>\n",
       "      <th>2</th>\n",
       "      <td>False</td>\n",
       "      <td>False</td>\n",
       "      <td>False</td>\n",
       "      <td>False</td>\n",
       "      <td>False</td>\n",
       "      <td>True</td>\n",
       "      <td>False</td>\n",
       "    </tr>\n",
       "    <tr>\n",
       "      <th>3</th>\n",
       "      <td>False</td>\n",
       "      <td>False</td>\n",
       "      <td>False</td>\n",
       "      <td>False</td>\n",
       "      <td>False</td>\n",
       "      <td>True</td>\n",
       "      <td>False</td>\n",
       "    </tr>\n",
       "    <tr>\n",
       "      <th>4</th>\n",
       "      <td>False</td>\n",
       "      <td>False</td>\n",
       "      <td>False</td>\n",
       "      <td>False</td>\n",
       "      <td>False</td>\n",
       "      <td>False</td>\n",
       "      <td>False</td>\n",
       "    </tr>\n",
       "    <tr>\n",
       "      <th>5</th>\n",
       "      <td>False</td>\n",
       "      <td>False</td>\n",
       "      <td>False</td>\n",
       "      <td>False</td>\n",
       "      <td>False</td>\n",
       "      <td>False</td>\n",
       "      <td>False</td>\n",
       "    </tr>\n",
       "    <tr>\n",
       "      <th>6</th>\n",
       "      <td>False</td>\n",
       "      <td>False</td>\n",
       "      <td>False</td>\n",
       "      <td>False</td>\n",
       "      <td>False</td>\n",
       "      <td>True</td>\n",
       "      <td>False</td>\n",
       "    </tr>\n",
       "    <tr>\n",
       "      <th>7</th>\n",
       "      <td>True</td>\n",
       "      <td>False</td>\n",
       "      <td>False</td>\n",
       "      <td>False</td>\n",
       "      <td>False</td>\n",
       "      <td>False</td>\n",
       "      <td>False</td>\n",
       "    </tr>\n",
       "    <tr>\n",
       "      <th>8</th>\n",
       "      <td>True</td>\n",
       "      <td>False</td>\n",
       "      <td>False</td>\n",
       "      <td>False</td>\n",
       "      <td>False</td>\n",
       "      <td>False</td>\n",
       "      <td>False</td>\n",
       "    </tr>\n",
       "    <tr>\n",
       "      <th>9</th>\n",
       "      <td>False</td>\n",
       "      <td>False</td>\n",
       "      <td>False</td>\n",
       "      <td>True</td>\n",
       "      <td>False</td>\n",
       "      <td>False</td>\n",
       "      <td>False</td>\n",
       "    </tr>\n",
       "  </tbody>\n",
       "</table>\n",
       "</div>"
      ],
      "text/plain": [
       "   javascript   java     c#  python   html    git    php\n",
       "0       False   True  False   False  False  False  False\n",
       "1       False  False  False   False  False   True  False\n",
       "2       False  False  False   False  False   True  False\n",
       "3       False  False  False   False  False   True  False\n",
       "4       False  False  False   False  False  False  False\n",
       "5       False  False  False   False  False  False  False\n",
       "6       False  False  False   False  False   True  False\n",
       "7        True  False  False   False  False  False  False\n",
       "8        True  False  False   False  False  False  False\n",
       "9       False  False  False    True  False  False  False"
      ]
     },
     "execution_count": 15,
     "metadata": {},
     "output_type": "execute_result"
    }
   ],
   "source": [
    "p5_nlp_utils.Commun.tags_are_in(\n",
    "    df[0:10], [\"javascript\", \"java\", \"c#\", \"python\", \"html\", \"git\", \"php\"]\n",
    ")"
   ]
  },
  {
   "cell_type": "markdown",
   "id": "a22b84d3",
   "metadata": {
    "papermill": {
     "duration": 0.023246,
     "end_time": "2023-01-18T19:56:39.682606",
     "exception": false,
     "start_time": "2023-01-18T19:56:39.659360",
     "status": "completed"
    },
    "tags": []
   },
   "source": [
    "## Separation train/test"
   ]
  },
  {
   "cell_type": "code",
   "execution_count": 16,
   "id": "a0b55fea",
   "metadata": {
    "execution": {
     "iopub.execute_input": "2023-01-18T19:56:39.730325Z",
     "iopub.status.busy": "2023-01-18T19:56:39.729888Z",
     "iopub.status.idle": "2023-01-18T19:56:41.318576Z",
     "shell.execute_reply": "2023-01-18T19:56:41.317368Z"
    },
    "papermill": {
     "duration": 1.615526,
     "end_time": "2023-01-18T19:56:41.321350",
     "exception": false,
     "start_time": "2023-01-18T19:56:39.705824",
     "status": "completed"
    },
    "tags": []
   },
   "outputs": [
    {
     "name": "stdout",
     "output_type": "stream",
     "text": [
      "99.99409% des questions ont au moins 2tokens\n"
     ]
    }
   ],
   "source": [
    "df[\"Token\"] = df[\"Title_clean\"].fillna(\"\") + df[\"Body_clean\"].fillna(\"\")\n",
    "print(\n",
    "    f\"{len(df[[len(token.split()) > 1 for token in df['Token']]])/len(df):.5%} des questions ont au moins 2tokens\"\n",
    "    if len(df[df[\"Token\"] == \"\"]) == 0\n",
    "    else f\"{len(df[df['Token'] == ''])} questions n'ont pas de token\"\n",
    ")\n",
    "X_train, X_test, y_train, y_test = model_selection.train_test_split(\n",
    "    df[\"Token\"], p5_nlp_utils.Commun.tags_are_in(df, target_names), random_state=42\n",
    ")"
   ]
  },
  {
   "cell_type": "markdown",
   "id": "6039ccdf",
   "metadata": {
    "papermill": {
     "duration": 0.02185,
     "end_time": "2023-01-18T19:56:41.366323",
     "exception": false,
     "start_time": "2023-01-18T19:56:41.344473",
     "status": "completed"
    },
    "tags": []
   },
   "source": [
    "## Nombre et % de chaque tag dans train et test\n",
    "Une question peut avoir plusieur tag donc la somme est supérieur aux nombres de ligne"
   ]
  },
  {
   "cell_type": "code",
   "execution_count": 17,
   "id": "59f3835d",
   "metadata": {
    "execution": {
     "iopub.execute_input": "2023-01-18T19:56:41.414404Z",
     "iopub.status.busy": "2023-01-18T19:56:41.413959Z",
     "iopub.status.idle": "2023-01-18T19:56:41.469856Z",
     "shell.execute_reply": "2023-01-18T19:56:41.468594Z"
    },
    "papermill": {
     "duration": 0.083098,
     "end_time": "2023-01-18T19:56:41.472540",
     "exception": false,
     "start_time": "2023-01-18T19:56:41.389442",
     "status": "completed"
    },
    "tags": []
   },
   "outputs": [
    {
     "name": "stdout",
     "output_type": "stream",
     "text": [
      "|tag positif  nb train   %    |  test   %   |\n",
      "|\u001b[1mjava          \u001b[0m\u001b[92m10706   \u001b[0m12.05% | \u001b[92m3558 \u001b[0m 12.02%|\n",
      "|\u001b[1mc#            \u001b[0m\u001b[92m10484   \u001b[0m11.80% | \u001b[92m3473 \u001b[0m 11.73%|\n",
      "|\u001b[1mjavascript    \u001b[0m\u001b[92m10451   \u001b[0m11.77% | \u001b[92m3356 \u001b[0m 11.33%|\n",
      "|\u001b[1mpython        \u001b[0m\u001b[92m7652    \u001b[0m08.61% | \u001b[92m2612 \u001b[0m 08.82%|\n",
      "|\u001b[1mandroid       \u001b[0m\u001b[92m6216    \u001b[0m07.00% | \u001b[92m2045 \u001b[0m 06.91%|\n",
      "|\u001b[1mc++           \u001b[0m\u001b[92m5893    \u001b[0m06.63% | \u001b[92m1964 \u001b[0m 06.63%|\n",
      "|\u001b[1mios           \u001b[0m\u001b[92m5554    \u001b[0m06.25% | \u001b[92m1840 \u001b[0m 06.21%|\n",
      "|\u001b[1mhtml          \u001b[0m\u001b[92m5198    \u001b[0m05.85% | \u001b[92m1755 \u001b[0m 05.93%|\n",
      "|\u001b[1mphp           \u001b[0m\u001b[92m4935    \u001b[0m05.56% | \u001b[92m1627 \u001b[0m 05.49%|\n",
      "|\u001b[1m.net          \u001b[0m\u001b[92m4746    \u001b[0m05.34% | \u001b[92m1569 \u001b[0m 05.30%|\n",
      "|\u001b[1mjquery        \u001b[0m\u001b[92m4762    \u001b[0m05.36% | \u001b[92m1538 \u001b[0m 05.19%|\n",
      "|\u001b[1mcss           \u001b[0m\u001b[92m3350    \u001b[0m03.77% | \u001b[92m1131 \u001b[0m 03.82%|\n",
      "|\u001b[1mobjective-c   \u001b[0m\u001b[92m2736    \u001b[0m03.08% | \u001b[92m888  \u001b[0m 03.00%|\n",
      "|\u001b[1mc             \u001b[0m\u001b[92m2734    \u001b[0m03.08% | \u001b[92m885  \u001b[0m 02.99%|\n",
      "|\u001b[1msql           \u001b[0m\u001b[92m2665    \u001b[0m03.00% | \u001b[92m870  \u001b[0m 02.94%|\n",
      "|\u001b[1miphone        \u001b[0m\u001b[92m2479    \u001b[0m02.79% | \u001b[92m807  \u001b[0m 02.73%|\n",
      "|\u001b[1masp.net       \u001b[0m\u001b[92m2424    \u001b[0m02.73% | \u001b[92m805  \u001b[0m 02.72%|\n",
      "|\u001b[1mmysql         \u001b[0m\u001b[92m2107    \u001b[0m02.37% | \u001b[92m685  \u001b[0m 02.31%|\n",
      "|\u001b[1mlinux         \u001b[0m\u001b[92m2082    \u001b[0m02.34% | \u001b[92m680  \u001b[0m 02.30%|\n",
      "|\u001b[1mnode.js       \u001b[0m\u001b[92m2034    \u001b[0m02.29% | \u001b[92m682  \u001b[0m 02.30%|\n",
      "|\u001b[1mgit           \u001b[0m\u001b[92m840     \u001b[0m00.95% | \u001b[92m274  \u001b[0m 00.93%|\n"
     ]
    }
   ],
   "source": [
    "print(\"|tag positif  nb train   %    |  test   %   |\")\n",
    "for column in y_train.columns:\n",
    "    nb_positif_train = y_train[y_train[column]].shape[0]\n",
    "    nb_positif_test = y_test[y_test[column]].shape[0]\n",
    "    print(\n",
    "        f\"|{colors.BOLD}{column: <14}{colors.ENDC}{colors.GREEN}{nb_positif_train: <8}{colors.ENDC}{(nb_positif_train/y_train.shape[0]):06.2%} | {colors.GREEN}{nb_positif_test:<5}{colors.ENDC} {nb_positif_test/y_test.shape[0]:06.2%}|\"\n",
    "    )"
   ]
  },
  {
   "cell_type": "markdown",
   "id": "43d97fdd",
   "metadata": {
    "papermill": {
     "duration": 0.022438,
     "end_time": "2023-01-18T19:56:41.517239",
     "exception": false,
     "start_time": "2023-01-18T19:56:41.494801",
     "status": "completed"
    },
    "tags": []
   },
   "source": [
    "### Regroupement des tags pour visualisation tsne:\n",
    "En une collone unique pour représenter tout les tags dans 1graph, avec priorité pour les tags les moins fréquents  \n",
    "Ici la somme = nombre de ligne  "
   ]
  },
  {
   "cell_type": "code",
   "execution_count": 18,
   "id": "81577f72",
   "metadata": {
    "execution": {
     "iopub.execute_input": "2023-01-18T19:56:41.563899Z",
     "iopub.status.busy": "2023-01-18T19:56:41.563476Z",
     "iopub.status.idle": "2023-01-18T19:57:12.869210Z",
     "shell.execute_reply": "2023-01-18T19:57:12.867936Z"
    },
    "papermill": {
     "duration": 31.355839,
     "end_time": "2023-01-18T19:57:12.896011",
     "exception": false,
     "start_time": "2023-01-18T19:56:41.540172",
     "status": "completed"
    },
    "tags": []
   },
   "outputs": [
    {
     "name": "stdout",
     "output_type": "stream",
     "text": [
      "CPU times: user 31.3 s, sys: 0 ns, total: 31.3 s\n",
      "Wall time: 31.3 s\n"
     ]
    },
    {
     "data": {
      "text/plain": [
       "Non Suivi      18192\n",
       "java            8114\n",
       "python          6900\n",
       "android         5595\n",
       "c#              5212\n",
       "c++             4570\n",
       ".net            4188\n",
       "javascript      3734\n",
       "jquery          3411\n",
       "php             3322\n",
       "css             3227\n",
       "ios             2745\n",
       "iphone          2470\n",
       "asp.net         2402\n",
       "c               2385\n",
       "sql             2081\n",
       "mysql           2038\n",
       "linux           2038\n",
       "node.js         2010\n",
       "html            1715\n",
       "objective-c     1642\n",
       "git              840\n",
       "dtype: int64"
      ]
     },
     "execution_count": 18,
     "metadata": {},
     "output_type": "execute_result"
    }
   ],
   "source": [
    "%%time\n",
    "y_train_monodim = pd.Series(index=y_train.index, dtype=bool)\n",
    "for tag in y_train.columns:\n",
    "    y_train_monodim = (\n",
    "        y_train[tag]\n",
    "        .replace(to_replace=True, value=tag)\n",
    "        .combine(y_train_monodim, lambda s1, s2: s1 if s1 else s2)\n",
    "    )\n",
    "y_train_monodim.replace(to_replace=False, value=\"Non Suivi\", inplace=True)\n",
    "y_train_monodim.value_counts()"
   ]
  },
  {
   "cell_type": "markdown",
   "id": "fbef6515",
   "metadata": {
    "papermill": {
     "duration": 0.021995,
     "end_time": "2023-01-18T19:57:12.940965",
     "exception": false,
     "start_time": "2023-01-18T19:57:12.918970",
     "status": "completed"
    },
    "tags": []
   },
   "source": [
    "## Approche naïve pour comparer les résultats:\n",
    "    - Valeur la plus fréquente (False)\n",
    "    - Si le tag est présent dans la question"
   ]
  },
  {
   "cell_type": "code",
   "execution_count": 19,
   "id": "c534ad5c",
   "metadata": {
    "_kg_hide-output": true,
    "execution": {
     "iopub.execute_input": "2023-01-18T19:57:12.989733Z",
     "iopub.status.busy": "2023-01-18T19:57:12.988481Z",
     "iopub.status.idle": "2023-01-18T19:57:13.084567Z",
     "shell.execute_reply": "2023-01-18T19:57:13.083521Z"
    },
    "papermill": {
     "duration": 0.124172,
     "end_time": "2023-01-18T19:57:13.087451",
     "exception": false,
     "start_time": "2023-01-18T19:57:12.963279",
     "status": "completed"
    },
    "tags": []
   },
   "outputs": [
    {
     "data": {
      "text/html": [
       "<div>\n",
       "<style scoped>\n",
       "    .dataframe tbody tr th:only-of-type {\n",
       "        vertical-align: middle;\n",
       "    }\n",
       "\n",
       "    .dataframe tbody tr th {\n",
       "        vertical-align: top;\n",
       "    }\n",
       "\n",
       "    .dataframe thead th {\n",
       "        text-align: right;\n",
       "    }\n",
       "</style>\n",
       "<table border=\"1\" class=\"dataframe\">\n",
       "  <thead>\n",
       "    <tr style=\"text-align: right;\">\n",
       "      <th></th>\n",
       "      <th>precision</th>\n",
       "      <th>recall</th>\n",
       "      <th>f1-score</th>\n",
       "      <th>support</th>\n",
       "    </tr>\n",
       "  </thead>\n",
       "  <tbody>\n",
       "    <tr>\n",
       "      <th>java</th>\n",
       "      <td>1.0</td>\n",
       "      <td>0.000000</td>\n",
       "      <td>0.000000</td>\n",
       "      <td>3558.0</td>\n",
       "    </tr>\n",
       "    <tr>\n",
       "      <th>c#</th>\n",
       "      <td>1.0</td>\n",
       "      <td>0.000000</td>\n",
       "      <td>0.000000</td>\n",
       "      <td>3473.0</td>\n",
       "    </tr>\n",
       "    <tr>\n",
       "      <th>javascript</th>\n",
       "      <td>1.0</td>\n",
       "      <td>0.000000</td>\n",
       "      <td>0.000000</td>\n",
       "      <td>3356.0</td>\n",
       "    </tr>\n",
       "    <tr>\n",
       "      <th>python</th>\n",
       "      <td>1.0</td>\n",
       "      <td>0.000000</td>\n",
       "      <td>0.000000</td>\n",
       "      <td>2612.0</td>\n",
       "    </tr>\n",
       "    <tr>\n",
       "      <th>android</th>\n",
       "      <td>1.0</td>\n",
       "      <td>0.000000</td>\n",
       "      <td>0.000000</td>\n",
       "      <td>2045.0</td>\n",
       "    </tr>\n",
       "    <tr>\n",
       "      <th>c++</th>\n",
       "      <td>1.0</td>\n",
       "      <td>0.000000</td>\n",
       "      <td>0.000000</td>\n",
       "      <td>1964.0</td>\n",
       "    </tr>\n",
       "    <tr>\n",
       "      <th>ios</th>\n",
       "      <td>1.0</td>\n",
       "      <td>0.000000</td>\n",
       "      <td>0.000000</td>\n",
       "      <td>1840.0</td>\n",
       "    </tr>\n",
       "    <tr>\n",
       "      <th>html</th>\n",
       "      <td>1.0</td>\n",
       "      <td>0.000000</td>\n",
       "      <td>0.000000</td>\n",
       "      <td>1755.0</td>\n",
       "    </tr>\n",
       "    <tr>\n",
       "      <th>php</th>\n",
       "      <td>1.0</td>\n",
       "      <td>0.000000</td>\n",
       "      <td>0.000000</td>\n",
       "      <td>1627.0</td>\n",
       "    </tr>\n",
       "    <tr>\n",
       "      <th>.net</th>\n",
       "      <td>1.0</td>\n",
       "      <td>0.000000</td>\n",
       "      <td>0.000000</td>\n",
       "      <td>1569.0</td>\n",
       "    </tr>\n",
       "    <tr>\n",
       "      <th>jquery</th>\n",
       "      <td>1.0</td>\n",
       "      <td>0.000000</td>\n",
       "      <td>0.000000</td>\n",
       "      <td>1538.0</td>\n",
       "    </tr>\n",
       "    <tr>\n",
       "      <th>css</th>\n",
       "      <td>1.0</td>\n",
       "      <td>0.000000</td>\n",
       "      <td>0.000000</td>\n",
       "      <td>1131.0</td>\n",
       "    </tr>\n",
       "    <tr>\n",
       "      <th>objective-c</th>\n",
       "      <td>1.0</td>\n",
       "      <td>0.000000</td>\n",
       "      <td>0.000000</td>\n",
       "      <td>888.0</td>\n",
       "    </tr>\n",
       "    <tr>\n",
       "      <th>c</th>\n",
       "      <td>1.0</td>\n",
       "      <td>0.000000</td>\n",
       "      <td>0.000000</td>\n",
       "      <td>885.0</td>\n",
       "    </tr>\n",
       "    <tr>\n",
       "      <th>sql</th>\n",
       "      <td>1.0</td>\n",
       "      <td>0.000000</td>\n",
       "      <td>0.000000</td>\n",
       "      <td>870.0</td>\n",
       "    </tr>\n",
       "    <tr>\n",
       "      <th>iphone</th>\n",
       "      <td>1.0</td>\n",
       "      <td>0.000000</td>\n",
       "      <td>0.000000</td>\n",
       "      <td>807.0</td>\n",
       "    </tr>\n",
       "    <tr>\n",
       "      <th>asp.net</th>\n",
       "      <td>1.0</td>\n",
       "      <td>0.000000</td>\n",
       "      <td>0.000000</td>\n",
       "      <td>805.0</td>\n",
       "    </tr>\n",
       "    <tr>\n",
       "      <th>mysql</th>\n",
       "      <td>1.0</td>\n",
       "      <td>0.000000</td>\n",
       "      <td>0.000000</td>\n",
       "      <td>685.0</td>\n",
       "    </tr>\n",
       "    <tr>\n",
       "      <th>linux</th>\n",
       "      <td>1.0</td>\n",
       "      <td>0.000000</td>\n",
       "      <td>0.000000</td>\n",
       "      <td>680.0</td>\n",
       "    </tr>\n",
       "    <tr>\n",
       "      <th>node.js</th>\n",
       "      <td>1.0</td>\n",
       "      <td>0.000000</td>\n",
       "      <td>0.000000</td>\n",
       "      <td>682.0</td>\n",
       "    </tr>\n",
       "    <tr>\n",
       "      <th>git</th>\n",
       "      <td>1.0</td>\n",
       "      <td>0.000000</td>\n",
       "      <td>0.000000</td>\n",
       "      <td>274.0</td>\n",
       "    </tr>\n",
       "    <tr>\n",
       "      <th>micro avg</th>\n",
       "      <td>1.0</td>\n",
       "      <td>0.000000</td>\n",
       "      <td>0.000000</td>\n",
       "      <td>33044.0</td>\n",
       "    </tr>\n",
       "    <tr>\n",
       "      <th>macro avg</th>\n",
       "      <td>1.0</td>\n",
       "      <td>0.000000</td>\n",
       "      <td>0.000000</td>\n",
       "      <td>33044.0</td>\n",
       "    </tr>\n",
       "    <tr>\n",
       "      <th>weighted avg</th>\n",
       "      <td>1.0</td>\n",
       "      <td>0.000000</td>\n",
       "      <td>0.000000</td>\n",
       "      <td>33044.0</td>\n",
       "    </tr>\n",
       "    <tr>\n",
       "      <th>samples avg</th>\n",
       "      <td>1.0</td>\n",
       "      <td>0.207322</td>\n",
       "      <td>0.207322</td>\n",
       "      <td>33044.0</td>\n",
       "    </tr>\n",
       "  </tbody>\n",
       "</table>\n",
       "</div>"
      ],
      "text/plain": [
       "              precision    recall  f1-score  support\n",
       "java                1.0  0.000000  0.000000   3558.0\n",
       "c#                  1.0  0.000000  0.000000   3473.0\n",
       "javascript          1.0  0.000000  0.000000   3356.0\n",
       "python              1.0  0.000000  0.000000   2612.0\n",
       "android             1.0  0.000000  0.000000   2045.0\n",
       "c++                 1.0  0.000000  0.000000   1964.0\n",
       "ios                 1.0  0.000000  0.000000   1840.0\n",
       "html                1.0  0.000000  0.000000   1755.0\n",
       "php                 1.0  0.000000  0.000000   1627.0\n",
       ".net                1.0  0.000000  0.000000   1569.0\n",
       "jquery              1.0  0.000000  0.000000   1538.0\n",
       "css                 1.0  0.000000  0.000000   1131.0\n",
       "objective-c         1.0  0.000000  0.000000    888.0\n",
       "c                   1.0  0.000000  0.000000    885.0\n",
       "sql                 1.0  0.000000  0.000000    870.0\n",
       "iphone              1.0  0.000000  0.000000    807.0\n",
       "asp.net             1.0  0.000000  0.000000    805.0\n",
       "mysql               1.0  0.000000  0.000000    685.0\n",
       "linux               1.0  0.000000  0.000000    680.0\n",
       "node.js             1.0  0.000000  0.000000    682.0\n",
       "git                 1.0  0.000000  0.000000    274.0\n",
       "micro avg           1.0  0.000000  0.000000  33044.0\n",
       "macro avg           1.0  0.000000  0.000000  33044.0\n",
       "weighted avg        1.0  0.000000  0.000000  33044.0\n",
       "samples avg         1.0  0.207322  0.207322  33044.0"
      ]
     },
     "execution_count": 19,
     "metadata": {},
     "output_type": "execute_result"
    }
   ],
   "source": [
    "p5_nlp_utils.Commun.save_score(\n",
    "    y_true=y_test,\n",
    "    y_pred=y_test.replace([True], False),\n",
    "    target_names=target_names,\n",
    "    zero_division=1,  # because TruePositif=0\n",
    ")"
   ]
  },
  {
   "cell_type": "markdown",
   "id": "a3643ecd",
   "metadata": {
    "papermill": {
     "duration": 0.022928,
     "end_time": "2023-01-18T19:57:13.133779",
     "exception": false,
     "start_time": "2023-01-18T19:57:13.110851",
     "status": "completed"
    },
    "tags": []
   },
   "source": [
    "Avec prédire toujours vrai"
   ]
  },
  {
   "cell_type": "code",
   "execution_count": 20,
   "id": "66d76e04",
   "metadata": {
    "_kg_hide-input": false,
    "_kg_hide-output": true,
    "execution": {
     "iopub.execute_input": "2023-01-18T19:57:13.181660Z",
     "iopub.status.busy": "2023-01-18T19:57:13.181233Z",
     "iopub.status.idle": "2023-01-18T19:57:13.535826Z",
     "shell.execute_reply": "2023-01-18T19:57:13.534606Z"
    },
    "papermill": {
     "duration": 0.381772,
     "end_time": "2023-01-18T19:57:13.538633",
     "exception": false,
     "start_time": "2023-01-18T19:57:13.156861",
     "status": "completed"
    },
    "tags": []
   },
   "outputs": [
    {
     "data": {
      "text/html": [
       "<div>\n",
       "<style scoped>\n",
       "    .dataframe tbody tr th:only-of-type {\n",
       "        vertical-align: middle;\n",
       "    }\n",
       "\n",
       "    .dataframe tbody tr th {\n",
       "        vertical-align: top;\n",
       "    }\n",
       "\n",
       "    .dataframe thead th {\n",
       "        text-align: right;\n",
       "    }\n",
       "</style>\n",
       "<table border=\"1\" class=\"dataframe\">\n",
       "  <thead>\n",
       "    <tr style=\"text-align: right;\">\n",
       "      <th></th>\n",
       "      <th>precision</th>\n",
       "      <th>recall</th>\n",
       "      <th>f1-score</th>\n",
       "      <th>support</th>\n",
       "    </tr>\n",
       "  </thead>\n",
       "  <tbody>\n",
       "    <tr>\n",
       "      <th>java</th>\n",
       "      <td>0.120158</td>\n",
       "      <td>1.000000</td>\n",
       "      <td>0.214538</td>\n",
       "      <td>3558.0</td>\n",
       "    </tr>\n",
       "    <tr>\n",
       "      <th>c#</th>\n",
       "      <td>0.117287</td>\n",
       "      <td>1.000000</td>\n",
       "      <td>0.209950</td>\n",
       "      <td>3473.0</td>\n",
       "    </tr>\n",
       "    <tr>\n",
       "      <th>javascript</th>\n",
       "      <td>0.113336</td>\n",
       "      <td>1.000000</td>\n",
       "      <td>0.203598</td>\n",
       "      <td>3356.0</td>\n",
       "    </tr>\n",
       "    <tr>\n",
       "      <th>python</th>\n",
       "      <td>0.088210</td>\n",
       "      <td>1.000000</td>\n",
       "      <td>0.162120</td>\n",
       "      <td>2612.0</td>\n",
       "    </tr>\n",
       "    <tr>\n",
       "      <th>android</th>\n",
       "      <td>0.069062</td>\n",
       "      <td>1.000000</td>\n",
       "      <td>0.129201</td>\n",
       "      <td>2045.0</td>\n",
       "    </tr>\n",
       "    <tr>\n",
       "      <th>c++</th>\n",
       "      <td>0.066327</td>\n",
       "      <td>1.000000</td>\n",
       "      <td>0.124402</td>\n",
       "      <td>1964.0</td>\n",
       "    </tr>\n",
       "    <tr>\n",
       "      <th>ios</th>\n",
       "      <td>0.062139</td>\n",
       "      <td>1.000000</td>\n",
       "      <td>0.117007</td>\n",
       "      <td>1840.0</td>\n",
       "    </tr>\n",
       "    <tr>\n",
       "      <th>html</th>\n",
       "      <td>0.059269</td>\n",
       "      <td>1.000000</td>\n",
       "      <td>0.111905</td>\n",
       "      <td>1755.0</td>\n",
       "    </tr>\n",
       "    <tr>\n",
       "      <th>php</th>\n",
       "      <td>0.054946</td>\n",
       "      <td>1.000000</td>\n",
       "      <td>0.104168</td>\n",
       "      <td>1627.0</td>\n",
       "    </tr>\n",
       "    <tr>\n",
       "      <th>.net</th>\n",
       "      <td>0.052987</td>\n",
       "      <td>1.000000</td>\n",
       "      <td>0.100641</td>\n",
       "      <td>1569.0</td>\n",
       "    </tr>\n",
       "    <tr>\n",
       "      <th>jquery</th>\n",
       "      <td>0.051940</td>\n",
       "      <td>1.000000</td>\n",
       "      <td>0.098751</td>\n",
       "      <td>1538.0</td>\n",
       "    </tr>\n",
       "    <tr>\n",
       "      <th>css</th>\n",
       "      <td>0.038195</td>\n",
       "      <td>1.000000</td>\n",
       "      <td>0.073580</td>\n",
       "      <td>1131.0</td>\n",
       "    </tr>\n",
       "    <tr>\n",
       "      <th>objective-c</th>\n",
       "      <td>0.029989</td>\n",
       "      <td>1.000000</td>\n",
       "      <td>0.058231</td>\n",
       "      <td>888.0</td>\n",
       "    </tr>\n",
       "    <tr>\n",
       "      <th>c</th>\n",
       "      <td>0.029888</td>\n",
       "      <td>1.000000</td>\n",
       "      <td>0.058040</td>\n",
       "      <td>885.0</td>\n",
       "    </tr>\n",
       "    <tr>\n",
       "      <th>sql</th>\n",
       "      <td>0.029381</td>\n",
       "      <td>1.000000</td>\n",
       "      <td>0.057085</td>\n",
       "      <td>870.0</td>\n",
       "    </tr>\n",
       "    <tr>\n",
       "      <th>iphone</th>\n",
       "      <td>0.027253</td>\n",
       "      <td>1.000000</td>\n",
       "      <td>0.053061</td>\n",
       "      <td>807.0</td>\n",
       "    </tr>\n",
       "    <tr>\n",
       "      <th>asp.net</th>\n",
       "      <td>0.027186</td>\n",
       "      <td>1.000000</td>\n",
       "      <td>0.052933</td>\n",
       "      <td>805.0</td>\n",
       "    </tr>\n",
       "    <tr>\n",
       "      <th>mysql</th>\n",
       "      <td>0.023133</td>\n",
       "      <td>1.000000</td>\n",
       "      <td>0.045220</td>\n",
       "      <td>685.0</td>\n",
       "    </tr>\n",
       "    <tr>\n",
       "      <th>linux</th>\n",
       "      <td>0.022964</td>\n",
       "      <td>1.000000</td>\n",
       "      <td>0.044898</td>\n",
       "      <td>680.0</td>\n",
       "    </tr>\n",
       "    <tr>\n",
       "      <th>node.js</th>\n",
       "      <td>0.023032</td>\n",
       "      <td>1.000000</td>\n",
       "      <td>0.045027</td>\n",
       "      <td>682.0</td>\n",
       "    </tr>\n",
       "    <tr>\n",
       "      <th>git</th>\n",
       "      <td>0.009253</td>\n",
       "      <td>1.000000</td>\n",
       "      <td>0.018337</td>\n",
       "      <td>274.0</td>\n",
       "    </tr>\n",
       "    <tr>\n",
       "      <th>micro avg</th>\n",
       "      <td>0.053140</td>\n",
       "      <td>1.000000</td>\n",
       "      <td>0.100917</td>\n",
       "      <td>33044.0</td>\n",
       "    </tr>\n",
       "    <tr>\n",
       "      <th>macro avg</th>\n",
       "      <td>0.053140</td>\n",
       "      <td>1.000000</td>\n",
       "      <td>0.099176</td>\n",
       "      <td>33044.0</td>\n",
       "    </tr>\n",
       "    <tr>\n",
       "      <th>weighted avg</th>\n",
       "      <td>0.072731</td>\n",
       "      <td>1.000000</td>\n",
       "      <td>0.133680</td>\n",
       "      <td>33044.0</td>\n",
       "    </tr>\n",
       "    <tr>\n",
       "      <th>samples avg</th>\n",
       "      <td>0.053140</td>\n",
       "      <td>0.792678</td>\n",
       "      <td>0.098364</td>\n",
       "      <td>33044.0</td>\n",
       "    </tr>\n",
       "  </tbody>\n",
       "</table>\n",
       "</div>"
      ],
      "text/plain": [
       "              precision    recall  f1-score  support\n",
       "java           0.120158  1.000000  0.214538   3558.0\n",
       "c#             0.117287  1.000000  0.209950   3473.0\n",
       "javascript     0.113336  1.000000  0.203598   3356.0\n",
       "python         0.088210  1.000000  0.162120   2612.0\n",
       "android        0.069062  1.000000  0.129201   2045.0\n",
       "c++            0.066327  1.000000  0.124402   1964.0\n",
       "ios            0.062139  1.000000  0.117007   1840.0\n",
       "html           0.059269  1.000000  0.111905   1755.0\n",
       "php            0.054946  1.000000  0.104168   1627.0\n",
       ".net           0.052987  1.000000  0.100641   1569.0\n",
       "jquery         0.051940  1.000000  0.098751   1538.0\n",
       "css            0.038195  1.000000  0.073580   1131.0\n",
       "objective-c    0.029989  1.000000  0.058231    888.0\n",
       "c              0.029888  1.000000  0.058040    885.0\n",
       "sql            0.029381  1.000000  0.057085    870.0\n",
       "iphone         0.027253  1.000000  0.053061    807.0\n",
       "asp.net        0.027186  1.000000  0.052933    805.0\n",
       "mysql          0.023133  1.000000  0.045220    685.0\n",
       "linux          0.022964  1.000000  0.044898    680.0\n",
       "node.js        0.023032  1.000000  0.045027    682.0\n",
       "git            0.009253  1.000000  0.018337    274.0\n",
       "micro avg      0.053140  1.000000  0.100917  33044.0\n",
       "macro avg      0.053140  1.000000  0.099176  33044.0\n",
       "weighted avg   0.072731  1.000000  0.133680  33044.0\n",
       "samples avg    0.053140  0.792678  0.098364  33044.0"
      ]
     },
     "execution_count": 20,
     "metadata": {},
     "output_type": "execute_result"
    }
   ],
   "source": [
    "p5_nlp_utils.Commun.save_score(\n",
    "    y_true=y_test, y_pred=y_test.replace([False], True), target_names=target_names\n",
    ")"
   ]
  },
  {
   "cell_type": "markdown",
   "id": "4403f2b0",
   "metadata": {
    "papermill": {
     "duration": 0.022685,
     "end_time": "2023-01-18T19:57:13.585030",
     "exception": false,
     "start_time": "2023-01-18T19:57:13.562345",
     "status": "completed"
    },
    "tags": []
   },
   "source": [
    "### Methode naive le tag est dans la question:"
   ]
  },
  {
   "cell_type": "code",
   "execution_count": 21,
   "id": "96ce59a2",
   "metadata": {
    "_kg_hide-input": false,
    "_kg_hide-output": true,
    "execution": {
     "iopub.execute_input": "2023-01-18T19:57:13.632629Z",
     "iopub.status.busy": "2023-01-18T19:57:13.632187Z",
     "iopub.status.idle": "2023-01-18T19:57:14.646782Z",
     "shell.execute_reply": "2023-01-18T19:57:14.645447Z"
    },
    "papermill": {
     "duration": 1.041651,
     "end_time": "2023-01-18T19:57:14.649565",
     "exception": false,
     "start_time": "2023-01-18T19:57:13.607914",
     "status": "completed"
    },
    "tags": []
   },
   "outputs": [
    {
     "data": {
      "text/html": [
       "<div>\n",
       "<style scoped>\n",
       "    .dataframe tbody tr th:only-of-type {\n",
       "        vertical-align: middle;\n",
       "    }\n",
       "\n",
       "    .dataframe tbody tr th {\n",
       "        vertical-align: top;\n",
       "    }\n",
       "\n",
       "    .dataframe thead th {\n",
       "        text-align: right;\n",
       "    }\n",
       "</style>\n",
       "<table border=\"1\" class=\"dataframe\">\n",
       "  <thead>\n",
       "    <tr style=\"text-align: right;\">\n",
       "      <th></th>\n",
       "      <th>0</th>\n",
       "      <th>1</th>\n",
       "      <th>2</th>\n",
       "      <th>3</th>\n",
       "      <th>4</th>\n",
       "      <th>5</th>\n",
       "      <th>6</th>\n",
       "      <th>7</th>\n",
       "      <th>8</th>\n",
       "      <th>9</th>\n",
       "    </tr>\n",
       "  </thead>\n",
       "  <tbody>\n",
       "    <tr>\n",
       "      <th>java</th>\n",
       "      <td>False</td>\n",
       "      <td>False</td>\n",
       "      <td>False</td>\n",
       "      <td>False</td>\n",
       "      <td>True</td>\n",
       "      <td>False</td>\n",
       "      <td>False</td>\n",
       "      <td>False</td>\n",
       "      <td>False</td>\n",
       "      <td>False</td>\n",
       "    </tr>\n",
       "    <tr>\n",
       "      <th>c#</th>\n",
       "      <td>False</td>\n",
       "      <td>False</td>\n",
       "      <td>False</td>\n",
       "      <td>False</td>\n",
       "      <td>False</td>\n",
       "      <td>False</td>\n",
       "      <td>False</td>\n",
       "      <td>False</td>\n",
       "      <td>False</td>\n",
       "      <td>False</td>\n",
       "    </tr>\n",
       "    <tr>\n",
       "      <th>javascript</th>\n",
       "      <td>False</td>\n",
       "      <td>False</td>\n",
       "      <td>False</td>\n",
       "      <td>True</td>\n",
       "      <td>False</td>\n",
       "      <td>False</td>\n",
       "      <td>False</td>\n",
       "      <td>False</td>\n",
       "      <td>False</td>\n",
       "      <td>False</td>\n",
       "    </tr>\n",
       "    <tr>\n",
       "      <th>python</th>\n",
       "      <td>True</td>\n",
       "      <td>False</td>\n",
       "      <td>False</td>\n",
       "      <td>False</td>\n",
       "      <td>False</td>\n",
       "      <td>False</td>\n",
       "      <td>False</td>\n",
       "      <td>False</td>\n",
       "      <td>False</td>\n",
       "      <td>False</td>\n",
       "    </tr>\n",
       "    <tr>\n",
       "      <th>android</th>\n",
       "      <td>False</td>\n",
       "      <td>False</td>\n",
       "      <td>False</td>\n",
       "      <td>False</td>\n",
       "      <td>False</td>\n",
       "      <td>False</td>\n",
       "      <td>False</td>\n",
       "      <td>False</td>\n",
       "      <td>False</td>\n",
       "      <td>False</td>\n",
       "    </tr>\n",
       "    <tr>\n",
       "      <th>c++</th>\n",
       "      <td>False</td>\n",
       "      <td>False</td>\n",
       "      <td>False</td>\n",
       "      <td>False</td>\n",
       "      <td>True</td>\n",
       "      <td>False</td>\n",
       "      <td>False</td>\n",
       "      <td>False</td>\n",
       "      <td>False</td>\n",
       "      <td>False</td>\n",
       "    </tr>\n",
       "    <tr>\n",
       "      <th>ios</th>\n",
       "      <td>False</td>\n",
       "      <td>False</td>\n",
       "      <td>False</td>\n",
       "      <td>False</td>\n",
       "      <td>False</td>\n",
       "      <td>False</td>\n",
       "      <td>False</td>\n",
       "      <td>False</td>\n",
       "      <td>False</td>\n",
       "      <td>False</td>\n",
       "    </tr>\n",
       "    <tr>\n",
       "      <th>html</th>\n",
       "      <td>False</td>\n",
       "      <td>False</td>\n",
       "      <td>False</td>\n",
       "      <td>False</td>\n",
       "      <td>False</td>\n",
       "      <td>False</td>\n",
       "      <td>False</td>\n",
       "      <td>False</td>\n",
       "      <td>False</td>\n",
       "      <td>False</td>\n",
       "    </tr>\n",
       "    <tr>\n",
       "      <th>php</th>\n",
       "      <td>False</td>\n",
       "      <td>False</td>\n",
       "      <td>False</td>\n",
       "      <td>True</td>\n",
       "      <td>False</td>\n",
       "      <td>False</td>\n",
       "      <td>False</td>\n",
       "      <td>False</td>\n",
       "      <td>False</td>\n",
       "      <td>False</td>\n",
       "    </tr>\n",
       "    <tr>\n",
       "      <th>.net</th>\n",
       "      <td>False</td>\n",
       "      <td>False</td>\n",
       "      <td>False</td>\n",
       "      <td>False</td>\n",
       "      <td>False</td>\n",
       "      <td>False</td>\n",
       "      <td>False</td>\n",
       "      <td>False</td>\n",
       "      <td>False</td>\n",
       "      <td>False</td>\n",
       "    </tr>\n",
       "    <tr>\n",
       "      <th>jquery</th>\n",
       "      <td>False</td>\n",
       "      <td>False</td>\n",
       "      <td>False</td>\n",
       "      <td>False</td>\n",
       "      <td>False</td>\n",
       "      <td>False</td>\n",
       "      <td>False</td>\n",
       "      <td>False</td>\n",
       "      <td>False</td>\n",
       "      <td>False</td>\n",
       "    </tr>\n",
       "    <tr>\n",
       "      <th>css</th>\n",
       "      <td>False</td>\n",
       "      <td>False</td>\n",
       "      <td>False</td>\n",
       "      <td>False</td>\n",
       "      <td>False</td>\n",
       "      <td>False</td>\n",
       "      <td>False</td>\n",
       "      <td>False</td>\n",
       "      <td>False</td>\n",
       "      <td>False</td>\n",
       "    </tr>\n",
       "    <tr>\n",
       "      <th>objective-c</th>\n",
       "      <td>False</td>\n",
       "      <td>False</td>\n",
       "      <td>False</td>\n",
       "      <td>False</td>\n",
       "      <td>False</td>\n",
       "      <td>False</td>\n",
       "      <td>False</td>\n",
       "      <td>False</td>\n",
       "      <td>False</td>\n",
       "      <td>False</td>\n",
       "    </tr>\n",
       "    <tr>\n",
       "      <th>c</th>\n",
       "      <td>False</td>\n",
       "      <td>False</td>\n",
       "      <td>False</td>\n",
       "      <td>False</td>\n",
       "      <td>True</td>\n",
       "      <td>False</td>\n",
       "      <td>False</td>\n",
       "      <td>False</td>\n",
       "      <td>False</td>\n",
       "      <td>False</td>\n",
       "    </tr>\n",
       "    <tr>\n",
       "      <th>sql</th>\n",
       "      <td>False</td>\n",
       "      <td>False</td>\n",
       "      <td>True</td>\n",
       "      <td>False</td>\n",
       "      <td>False</td>\n",
       "      <td>False</td>\n",
       "      <td>False</td>\n",
       "      <td>False</td>\n",
       "      <td>False</td>\n",
       "      <td>False</td>\n",
       "    </tr>\n",
       "    <tr>\n",
       "      <th>iphone</th>\n",
       "      <td>False</td>\n",
       "      <td>False</td>\n",
       "      <td>False</td>\n",
       "      <td>False</td>\n",
       "      <td>False</td>\n",
       "      <td>False</td>\n",
       "      <td>False</td>\n",
       "      <td>False</td>\n",
       "      <td>False</td>\n",
       "      <td>False</td>\n",
       "    </tr>\n",
       "    <tr>\n",
       "      <th>asp.net</th>\n",
       "      <td>False</td>\n",
       "      <td>False</td>\n",
       "      <td>False</td>\n",
       "      <td>False</td>\n",
       "      <td>False</td>\n",
       "      <td>False</td>\n",
       "      <td>False</td>\n",
       "      <td>False</td>\n",
       "      <td>False</td>\n",
       "      <td>False</td>\n",
       "    </tr>\n",
       "    <tr>\n",
       "      <th>mysql</th>\n",
       "      <td>False</td>\n",
       "      <td>False</td>\n",
       "      <td>True</td>\n",
       "      <td>False</td>\n",
       "      <td>False</td>\n",
       "      <td>False</td>\n",
       "      <td>False</td>\n",
       "      <td>False</td>\n",
       "      <td>False</td>\n",
       "      <td>False</td>\n",
       "    </tr>\n",
       "    <tr>\n",
       "      <th>linux</th>\n",
       "      <td>False</td>\n",
       "      <td>False</td>\n",
       "      <td>False</td>\n",
       "      <td>False</td>\n",
       "      <td>False</td>\n",
       "      <td>True</td>\n",
       "      <td>False</td>\n",
       "      <td>False</td>\n",
       "      <td>False</td>\n",
       "      <td>False</td>\n",
       "    </tr>\n",
       "    <tr>\n",
       "      <th>node.js</th>\n",
       "      <td>False</td>\n",
       "      <td>False</td>\n",
       "      <td>False</td>\n",
       "      <td>False</td>\n",
       "      <td>False</td>\n",
       "      <td>False</td>\n",
       "      <td>False</td>\n",
       "      <td>False</td>\n",
       "      <td>False</td>\n",
       "      <td>False</td>\n",
       "    </tr>\n",
       "    <tr>\n",
       "      <th>git</th>\n",
       "      <td>False</td>\n",
       "      <td>False</td>\n",
       "      <td>False</td>\n",
       "      <td>False</td>\n",
       "      <td>False</td>\n",
       "      <td>False</td>\n",
       "      <td>False</td>\n",
       "      <td>False</td>\n",
       "      <td>False</td>\n",
       "      <td>False</td>\n",
       "    </tr>\n",
       "  </tbody>\n",
       "</table>\n",
       "</div>"
      ],
      "text/plain": [
       "                 0      1      2      3      4      5      6      7      8  \\\n",
       "java         False  False  False  False   True  False  False  False  False   \n",
       "c#           False  False  False  False  False  False  False  False  False   \n",
       "javascript   False  False  False   True  False  False  False  False  False   \n",
       "python        True  False  False  False  False  False  False  False  False   \n",
       "android      False  False  False  False  False  False  False  False  False   \n",
       "c++          False  False  False  False   True  False  False  False  False   \n",
       "ios          False  False  False  False  False  False  False  False  False   \n",
       "html         False  False  False  False  False  False  False  False  False   \n",
       "php          False  False  False   True  False  False  False  False  False   \n",
       ".net         False  False  False  False  False  False  False  False  False   \n",
       "jquery       False  False  False  False  False  False  False  False  False   \n",
       "css          False  False  False  False  False  False  False  False  False   \n",
       "objective-c  False  False  False  False  False  False  False  False  False   \n",
       "c            False  False  False  False   True  False  False  False  False   \n",
       "sql          False  False   True  False  False  False  False  False  False   \n",
       "iphone       False  False  False  False  False  False  False  False  False   \n",
       "asp.net      False  False  False  False  False  False  False  False  False   \n",
       "mysql        False  False   True  False  False  False  False  False  False   \n",
       "linux        False  False  False  False  False   True  False  False  False   \n",
       "node.js      False  False  False  False  False  False  False  False  False   \n",
       "git          False  False  False  False  False  False  False  False  False   \n",
       "\n",
       "                 9  \n",
       "java         False  \n",
       "c#           False  \n",
       "javascript   False  \n",
       "python       False  \n",
       "android      False  \n",
       "c++          False  \n",
       "ios          False  \n",
       "html         False  \n",
       "php          False  \n",
       ".net         False  \n",
       "jquery       False  \n",
       "css          False  \n",
       "objective-c  False  \n",
       "c            False  \n",
       "sql          False  \n",
       "iphone       False  \n",
       "asp.net      False  \n",
       "mysql        False  \n",
       "linux        False  \n",
       "node.js      False  \n",
       "git          False  "
      ]
     },
     "execution_count": 21,
     "metadata": {},
     "output_type": "execute_result"
    }
   ],
   "source": [
    "test_str = X_test.str\n",
    "pred_is_in = pd.DataFrame(\n",
    "    {\n",
    "        target_name: test_str.contains(\n",
    "            f\" {target_name} \", case=False, regex=False\n",
    "        ).values\n",
    "        for target_name in target_names\n",
    "    }\n",
    ")\n",
    "pred_is_in.head(10).T"
   ]
  },
  {
   "cell_type": "code",
   "execution_count": 22,
   "id": "fdbc40ad",
   "metadata": {
    "_kg_hide-input": false,
    "_kg_hide-output": true,
    "execution": {
     "iopub.execute_input": "2023-01-18T19:57:14.698306Z",
     "iopub.status.busy": "2023-01-18T19:57:14.697911Z",
     "iopub.status.idle": "2023-01-18T19:57:14.793983Z",
     "shell.execute_reply": "2023-01-18T19:57:14.792875Z"
    },
    "papermill": {
     "duration": 0.123649,
     "end_time": "2023-01-18T19:57:14.796644",
     "exception": false,
     "start_time": "2023-01-18T19:57:14.672995",
     "status": "completed"
    },
    "tags": []
   },
   "outputs": [
    {
     "data": {
      "text/html": [
       "<div>\n",
       "<style scoped>\n",
       "    .dataframe tbody tr th:only-of-type {\n",
       "        vertical-align: middle;\n",
       "    }\n",
       "\n",
       "    .dataframe tbody tr th {\n",
       "        vertical-align: top;\n",
       "    }\n",
       "\n",
       "    .dataframe thead th {\n",
       "        text-align: right;\n",
       "    }\n",
       "</style>\n",
       "<table border=\"1\" class=\"dataframe\">\n",
       "  <thead>\n",
       "    <tr style=\"text-align: right;\">\n",
       "      <th></th>\n",
       "      <th>precision</th>\n",
       "      <th>recall</th>\n",
       "      <th>f1-score</th>\n",
       "      <th>support</th>\n",
       "    </tr>\n",
       "  </thead>\n",
       "  <tbody>\n",
       "    <tr>\n",
       "      <th>git</th>\n",
       "      <td>0.716846</td>\n",
       "      <td>0.729927</td>\n",
       "      <td>0.723327</td>\n",
       "      <td>274.0</td>\n",
       "    </tr>\n",
       "    <tr>\n",
       "      <th>mysql</th>\n",
       "      <td>0.723949</td>\n",
       "      <td>0.578102</td>\n",
       "      <td>0.642857</td>\n",
       "      <td>685.0</td>\n",
       "    </tr>\n",
       "    <tr>\n",
       "      <th>python</th>\n",
       "      <td>0.878273</td>\n",
       "      <td>0.475115</td>\n",
       "      <td>0.616646</td>\n",
       "      <td>2612.0</td>\n",
       "    </tr>\n",
       "    <tr>\n",
       "      <th>php</th>\n",
       "      <td>0.827292</td>\n",
       "      <td>0.476951</td>\n",
       "      <td>0.605068</td>\n",
       "      <td>1627.0</td>\n",
       "    </tr>\n",
       "    <tr>\n",
       "      <th>android</th>\n",
       "      <td>0.851163</td>\n",
       "      <td>0.447433</td>\n",
       "      <td>0.586538</td>\n",
       "      <td>2045.0</td>\n",
       "    </tr>\n",
       "    <tr>\n",
       "      <th>jquery</th>\n",
       "      <td>0.796804</td>\n",
       "      <td>0.453836</td>\n",
       "      <td>0.578293</td>\n",
       "      <td>1538.0</td>\n",
       "    </tr>\n",
       "    <tr>\n",
       "      <th>css</th>\n",
       "      <td>0.714670</td>\n",
       "      <td>0.469496</td>\n",
       "      <td>0.566702</td>\n",
       "      <td>1131.0</td>\n",
       "    </tr>\n",
       "    <tr>\n",
       "      <th>c++</th>\n",
       "      <td>0.805702</td>\n",
       "      <td>0.388493</td>\n",
       "      <td>0.524218</td>\n",
       "      <td>1964.0</td>\n",
       "    </tr>\n",
       "    <tr>\n",
       "      <th>java</th>\n",
       "      <td>0.766089</td>\n",
       "      <td>0.347948</td>\n",
       "      <td>0.478547</td>\n",
       "      <td>3558.0</td>\n",
       "    </tr>\n",
       "    <tr>\n",
       "      <th>linux</th>\n",
       "      <td>0.458265</td>\n",
       "      <td>0.411765</td>\n",
       "      <td>0.433772</td>\n",
       "      <td>680.0</td>\n",
       "    </tr>\n",
       "    <tr>\n",
       "      <th>micro avg</th>\n",
       "      <td>0.642411</td>\n",
       "      <td>0.326746</td>\n",
       "      <td>0.433171</td>\n",
       "      <td>33044.0</td>\n",
       "    </tr>\n",
       "    <tr>\n",
       "      <th>macro avg</th>\n",
       "      <td>0.604087</td>\n",
       "      <td>0.360648</td>\n",
       "      <td>0.429556</td>\n",
       "      <td>33044.0</td>\n",
       "    </tr>\n",
       "    <tr>\n",
       "      <th>sql</th>\n",
       "      <td>0.412766</td>\n",
       "      <td>0.445977</td>\n",
       "      <td>0.428729</td>\n",
       "      <td>870.0</td>\n",
       "    </tr>\n",
       "    <tr>\n",
       "      <th>html</th>\n",
       "      <td>0.481022</td>\n",
       "      <td>0.375499</td>\n",
       "      <td>0.421760</td>\n",
       "      <td>1755.0</td>\n",
       "    </tr>\n",
       "    <tr>\n",
       "      <th>weighted avg</th>\n",
       "      <td>0.618122</td>\n",
       "      <td>0.326746</td>\n",
       "      <td>0.413810</td>\n",
       "      <td>33044.0</td>\n",
       "    </tr>\n",
       "    <tr>\n",
       "      <th>asp.net</th>\n",
       "      <td>0.524096</td>\n",
       "      <td>0.324224</td>\n",
       "      <td>0.400614</td>\n",
       "      <td>805.0</td>\n",
       "    </tr>\n",
       "    <tr>\n",
       "      <th>iphone</th>\n",
       "      <td>0.578947</td>\n",
       "      <td>0.299876</td>\n",
       "      <td>0.395102</td>\n",
       "      <td>807.0</td>\n",
       "    </tr>\n",
       "    <tr>\n",
       "      <th>javascript</th>\n",
       "      <td>0.766812</td>\n",
       "      <td>0.261621</td>\n",
       "      <td>0.390136</td>\n",
       "      <td>3356.0</td>\n",
       "    </tr>\n",
       "    <tr>\n",
       "      <th>ios</th>\n",
       "      <td>0.768456</td>\n",
       "      <td>0.248913</td>\n",
       "      <td>0.376026</td>\n",
       "      <td>1840.0</td>\n",
       "    </tr>\n",
       "    <tr>\n",
       "      <th>.net</th>\n",
       "      <td>0.536657</td>\n",
       "      <td>0.233270</td>\n",
       "      <td>0.325189</td>\n",
       "      <td>1569.0</td>\n",
       "    </tr>\n",
       "    <tr>\n",
       "      <th>c</th>\n",
       "      <td>0.205295</td>\n",
       "      <td>0.464407</td>\n",
       "      <td>0.284725</td>\n",
       "      <td>885.0</td>\n",
       "    </tr>\n",
       "    <tr>\n",
       "      <th>samples avg</th>\n",
       "      <td>0.283512</td>\n",
       "      <td>0.263238</td>\n",
       "      <td>0.262590</td>\n",
       "      <td>33044.0</td>\n",
       "    </tr>\n",
       "    <tr>\n",
       "      <th>node.js</th>\n",
       "      <td>0.872727</td>\n",
       "      <td>0.140762</td>\n",
       "      <td>0.242424</td>\n",
       "      <td>682.0</td>\n",
       "    </tr>\n",
       "    <tr>\n",
       "      <th>c#</th>\n",
       "      <td>0.000000</td>\n",
       "      <td>0.000000</td>\n",
       "      <td>0.000000</td>\n",
       "      <td>3473.0</td>\n",
       "    </tr>\n",
       "    <tr>\n",
       "      <th>objective-c</th>\n",
       "      <td>0.000000</td>\n",
       "      <td>0.000000</td>\n",
       "      <td>0.000000</td>\n",
       "      <td>888.0</td>\n",
       "    </tr>\n",
       "  </tbody>\n",
       "</table>\n",
       "</div>"
      ],
      "text/plain": [
       "              precision    recall  f1-score  support\n",
       "git            0.716846  0.729927  0.723327    274.0\n",
       "mysql          0.723949  0.578102  0.642857    685.0\n",
       "python         0.878273  0.475115  0.616646   2612.0\n",
       "php            0.827292  0.476951  0.605068   1627.0\n",
       "android        0.851163  0.447433  0.586538   2045.0\n",
       "jquery         0.796804  0.453836  0.578293   1538.0\n",
       "css            0.714670  0.469496  0.566702   1131.0\n",
       "c++            0.805702  0.388493  0.524218   1964.0\n",
       "java           0.766089  0.347948  0.478547   3558.0\n",
       "linux          0.458265  0.411765  0.433772    680.0\n",
       "micro avg      0.642411  0.326746  0.433171  33044.0\n",
       "macro avg      0.604087  0.360648  0.429556  33044.0\n",
       "sql            0.412766  0.445977  0.428729    870.0\n",
       "html           0.481022  0.375499  0.421760   1755.0\n",
       "weighted avg   0.618122  0.326746  0.413810  33044.0\n",
       "asp.net        0.524096  0.324224  0.400614    805.0\n",
       "iphone         0.578947  0.299876  0.395102    807.0\n",
       "javascript     0.766812  0.261621  0.390136   3356.0\n",
       "ios            0.768456  0.248913  0.376026   1840.0\n",
       ".net           0.536657  0.233270  0.325189   1569.0\n",
       "c              0.205295  0.464407  0.284725    885.0\n",
       "samples avg    0.283512  0.263238  0.262590  33044.0\n",
       "node.js        0.872727  0.140762  0.242424    682.0\n",
       "c#             0.000000  0.000000  0.000000   3473.0\n",
       "objective-c    0.000000  0.000000  0.000000    888.0"
      ]
     },
     "execution_count": 22,
     "metadata": {},
     "output_type": "execute_result"
    }
   ],
   "source": [
    "score_naive_is_in = p5_nlp_utils.Commun.save_score(\n",
    "    y_test, pred_is_in, target_names, \"naive_is_in\"\n",
    ")\n",
    "score_naive_is_in.sort_values(by=\"f1-score\", ascending=False)"
   ]
  },
  {
   "cell_type": "markdown",
   "id": "46d7557d",
   "metadata": {
    "papermill": {
     "duration": 0.024288,
     "end_time": "2023-01-18T19:57:14.845586",
     "exception": false,
     "start_time": "2023-01-18T19:57:14.821298",
     "status": "completed"
    },
    "tags": []
   },
   "source": [
    "# CountVectorizer"
   ]
  },
  {
   "cell_type": "code",
   "execution_count": 23,
   "id": "c8796124",
   "metadata": {
    "execution": {
     "iopub.execute_input": "2023-01-18T19:57:14.895433Z",
     "iopub.status.busy": "2023-01-18T19:57:14.895030Z",
     "iopub.status.idle": "2023-01-18T19:57:20.270435Z",
     "shell.execute_reply": "2023-01-18T19:57:20.268737Z"
    },
    "papermill": {
     "duration": 5.403655,
     "end_time": "2023-01-18T19:57:20.273120",
     "exception": false,
     "start_time": "2023-01-18T19:57:14.869465",
     "status": "completed"
    },
    "tags": []
   },
   "outputs": [
    {
     "name": "stdout",
     "output_type": "stream",
     "text": [
      "\n",
      "******************************\n",
      " pour min_df:1e-05; max_df:0.995\n",
      "\ttokens unique:\n",
      "\t\t53999 dans title et body regroupé\n"
     ]
    }
   ],
   "source": [
    "best_min_df = description[\"CountVectorizer\"][\"min_df\"]\n",
    "best_max_df = description[\"CountVectorizer\"][\"max_df\"]\n",
    "for min_df in [0.01, 0.05, 0.005, 0.0005, 0.00001] if LONG else [best_min_df]:\n",
    "    for max_df in [0.95, 0.995, 0.9995] if LONG else [best_max_df]:\n",
    "        print(f\"\\n{'*'*30}\\n pour min_df:{min_df}; max_df:{max_df}\")\n",
    "        count_vectorizer = feature_extraction.text.CountVectorizer(\n",
    "            min_df=min_df, max_df=max_df, max_features=None\n",
    "        )\n",
    "        #         pipe = pipeline.make_pipeline(feature_extraction.text.CountVectorizer(min_df=min_df, max_df=max_df, max_features=None), feature_extraction.text.TfidfTransformer( norm=\"l2\", use_idf=True, smooth_idf=True, sublinear_tf=False))\n",
    "        #         feat_train = pipe.transform(X_train[\"Token\"])\n",
    "        #         print(feat_train.shape)\n",
    "\n",
    "        token_vectors = count_vectorizer.fit_transform(df[\"Token\"])\n",
    "        print(\n",
    "            f\"\\ttokens unique:\\n\\t\\t{token_vectors.shape[1]} dans title et body regroupé\"\n",
    "        )"
   ]
  },
  {
   "cell_type": "markdown",
   "id": "cf7a7155",
   "metadata": {
    "papermill": {
     "duration": 0.024248,
     "end_time": "2023-01-18T19:57:20.323801",
     "exception": false,
     "start_time": "2023-01-18T19:57:20.299553",
     "status": "completed"
    },
    "tags": []
   },
   "source": [
    "### Test reduction dimension\n",
    "avec n_components=1_000 : 10% de la variance éxpliqué\n"
   ]
  },
  {
   "cell_type": "code",
   "execution_count": 24,
   "id": "fbfabdaa",
   "metadata": {
    "execution": {
     "iopub.execute_input": "2023-01-18T19:57:20.374619Z",
     "iopub.status.busy": "2023-01-18T19:57:20.374141Z",
     "iopub.status.idle": "2023-01-18T19:57:20.425025Z",
     "shell.execute_reply": "2023-01-18T19:57:20.423498Z"
    },
    "papermill": {
     "duration": 0.079551,
     "end_time": "2023-01-18T19:57:20.427935",
     "exception": false,
     "start_time": "2023-01-18T19:57:20.348384",
     "status": "completed"
    },
    "tags": []
   },
   "outputs": [
    {
     "name": "stdout",
     "output_type": "stream",
     "text": [
      "CPU times: user 6 µs, sys: 0 ns, total: 6 µs\n",
      "Wall time: 10.5 µs\n"
     ]
    }
   ],
   "source": [
    "%%time\n",
    "if LONG:\n",
    "    truncSvd = decomposition.TruncatedSVD(n_components=1000).fit(\n",
    "        preprocessing.StandardScaler(with_mean=False).fit_transform(token_vectors)\n",
    "    )\n",
    "    plt.figure(figsize=(30, 15))\n",
    "    scree = truncSvd.explained_variance_ratio_ * 100\n",
    "    plt.bar(np.arange(len(scree)) + 1, scree)\n",
    "    plt.plot(np.arange(len(scree)) + 1, scree.cumsum(), c=\"red\", marker=\"o\")\n",
    "    plt.xlabel(\"rang de l'axe d'inertie\")\n",
    "    plt.ylabel(\"pourcentage variance expliquée\")\n",
    "    plt.title(\"Eboulis des valeurs propres\")\n",
    "    plt.show()"
   ]
  },
  {
   "cell_type": "markdown",
   "id": "7ac6a4d3",
   "metadata": {
    "papermill": {
     "duration": 0.025094,
     "end_time": "2023-01-18T19:57:20.477259",
     "exception": false,
     "start_time": "2023-01-18T19:57:20.452165",
     "status": "completed"
    },
    "tags": []
   },
   "source": [
    "# PreprocessPipeline"
   ]
  },
  {
   "cell_type": "code",
   "execution_count": 25,
   "id": "9e55df44",
   "metadata": {
    "execution": {
     "iopub.execute_input": "2023-01-18T19:57:20.529831Z",
     "iopub.status.busy": "2023-01-18T19:57:20.528775Z",
     "iopub.status.idle": "2023-01-18T19:57:20.594396Z",
     "shell.execute_reply": "2023-01-18T19:57:20.593269Z"
    },
    "papermill": {
     "duration": 0.095226,
     "end_time": "2023-01-18T19:57:20.597178",
     "exception": false,
     "start_time": "2023-01-18T19:57:20.501952",
     "status": "completed"
    },
    "tags": []
   },
   "outputs": [],
   "source": [
    "pipeline_tfidf = pipeline.Pipeline(\n",
    "    [\n",
    "        (\n",
    "            \"count\",\n",
    "            feature_extraction.text.CountVectorizer(\n",
    "                min_df=best_min_df, max_df=best_max_df, max_features=None\n",
    "            ),\n",
    "        ),\n",
    "        (\n",
    "            \"tfidf\",\n",
    "            feature_extraction.text.TfidfTransformer(\n",
    "                norm=\"l2\", use_idf=True, smooth_idf=True, sublinear_tf=False\n",
    "            ),\n",
    "        ),\n",
    "        (\n",
    "            \"scale\",\n",
    "            preprocessing.StandardScaler(with_mean=False)\n",
    "            if description[\"StandardScaler\"][\"actif\"]\n",
    "            else \"passthrough\",\n",
    "        ),\n",
    "        (\n",
    "            \"dimReduction\",\n",
    "            decomposition.TruncatedSVD(\n",
    "                n_components=description[\"TruncatedSVD\"][\"n_components\"]\n",
    "            )\n",
    "            if description[\"TruncatedSVD\"][\"actif\"]\n",
    "            else \"passthrough\",\n",
    "        ),\n",
    "    ]\n",
    ")\n",
    "## @TODO cache\n",
    "# memory = joblib.Memory(location=\"/kaggle/working/cache_dir\", verbose=0)\n",
    "# pipeline_tfidf = memory.cache(pipeline_tfidf)"
   ]
  },
  {
   "cell_type": "markdown",
   "id": "715bf8be",
   "metadata": {
    "papermill": {
     "duration": 0.02383,
     "end_time": "2023-01-18T19:57:20.645064",
     "exception": false,
     "start_time": "2023-01-18T19:57:20.621234",
     "status": "completed"
    },
    "tags": []
   },
   "source": [
    "# OvsRest"
   ]
  },
  {
   "cell_type": "markdown",
   "id": "180122a3",
   "metadata": {
    "papermill": {
     "duration": 0.02362,
     "end_time": "2023-01-18T19:57:20.693048",
     "exception": false,
     "start_time": "2023-01-18T19:57:20.669428",
     "status": "completed"
    },
    "tags": []
   },
   "source": [
    "## LogisticRegression"
   ]
  },
  {
   "cell_type": "code",
   "execution_count": 26,
   "id": "94b97f07",
   "metadata": {
    "execution": {
     "iopub.execute_input": "2023-01-18T19:57:20.744177Z",
     "iopub.status.busy": "2023-01-18T19:57:20.743775Z",
     "iopub.status.idle": "2023-01-18T19:57:20.795420Z",
     "shell.execute_reply": "2023-01-18T19:57:20.794200Z"
    },
    "papermill": {
     "duration": 0.080901,
     "end_time": "2023-01-18T19:57:20.797942",
     "exception": false,
     "start_time": "2023-01-18T19:57:20.717041",
     "status": "completed"
    },
    "tags": []
   },
   "outputs": [
    {
     "name": "stdout",
     "output_type": "stream",
     "text": [
      "CPU times: user 6 µs, sys: 0 ns, total: 6 µs\n",
      "Wall time: 10.7 µs\n"
     ]
    }
   ],
   "source": [
    "%%time\n",
    "if description[\"LogisticRegression\"][\"actif\"]:\n",
    "    pipeline_logisticReg = pipeline.Pipeline(\n",
    "        [\n",
    "            (\"tfidf\", pipeline_tfidf),\n",
    "            (\n",
    "                \"OvRLogisticReg\",\n",
    "                multiclass.OneVsRestClassifier(\n",
    "                    linear_model.LogisticRegression(random_state=42)\n",
    "                ),\n",
    "            ),\n",
    "        ]\n",
    "    )\n",
    "    with ignore_warnings(category=exceptions.ConvergenceWarning):\n",
    "        pipeline_logisticReg.fit(X_train, y_train)\n",
    "\n",
    "    # prediction sur jeu de test\n",
    "    pred_lr = pipeline_logisticReg.predict(X_test)\n",
    "    scores_lr = p5_nlp_utils.Commun.save_score(\n",
    "        y_test, pred_lr, target_names, \"LogisticRegression\"\n",
    "    )\n",
    "\n",
    "    # enregistrement model et score\n",
    "    joblib.dump(pipeline_logisticReg, \"LogisticRegression_model.joblib\")\n",
    "    scores_lr.sort_values(by=\"f1-score\", ascending=False)"
   ]
  },
  {
   "cell_type": "markdown",
   "id": "fd8c12a6",
   "metadata": {
    "papermill": {
     "duration": 0.023938,
     "end_time": "2023-01-18T19:57:20.845990",
     "exception": false,
     "start_time": "2023-01-18T19:57:20.822052",
     "status": "completed"
    },
    "tags": []
   },
   "source": [
    "## SVC"
   ]
  },
  {
   "cell_type": "code",
   "execution_count": 27,
   "id": "1336ee3d",
   "metadata": {
    "execution": {
     "iopub.execute_input": "2023-01-18T19:57:20.897002Z",
     "iopub.status.busy": "2023-01-18T19:57:20.896207Z",
     "iopub.status.idle": "2023-01-18T19:57:20.927926Z",
     "shell.execute_reply": "2023-01-18T19:57:20.926831Z"
    },
    "papermill": {
     "duration": 0.060494,
     "end_time": "2023-01-18T19:57:20.930745",
     "exception": false,
     "start_time": "2023-01-18T19:57:20.870251",
     "status": "completed"
    },
    "tags": []
   },
   "outputs": [],
   "source": [
    "pipeline_svc = pipeline.Pipeline(\n",
    "    [\n",
    "        (\"tfidf\", pipeline_tfidf),\n",
    "        (\n",
    "            \"TfidfOvRSVC\",\n",
    "            multiclass.OneVsRestClassifier(\n",
    "                svm.SVC(\n",
    "                    cache_size=1080,\n",
    "                    max_iter=description[\"TfidfOvRSVC\"][\"max_iter\"],\n",
    "                    random_state=42,\n",
    "                )\n",
    "            ),\n",
    "        ),\n",
    "    ]\n",
    ")"
   ]
  },
  {
   "cell_type": "code",
   "execution_count": 28,
   "id": "935fdcf5",
   "metadata": {
    "execution": {
     "iopub.execute_input": "2023-01-18T19:57:20.981072Z",
     "iopub.status.busy": "2023-01-18T19:57:20.980672Z",
     "iopub.status.idle": "2023-01-18T19:57:21.025314Z",
     "shell.execute_reply": "2023-01-18T19:57:21.023831Z"
    },
    "papermill": {
     "duration": 0.073017,
     "end_time": "2023-01-18T19:57:21.027873",
     "exception": false,
     "start_time": "2023-01-18T19:57:20.954856",
     "status": "completed"
    },
    "tags": []
   },
   "outputs": [
    {
     "name": "stdout",
     "output_type": "stream",
     "text": [
      "CPU times: user 6 µs, sys: 1 µs, total: 7 µs\n",
      "Wall time: 10.3 µs\n"
     ]
    }
   ],
   "source": [
    "%%time\n",
    "if description[\"TfidfOvRSVC\"][\"actif\"]:\n",
    "    with ignore_warnings(category=exceptions.ConvergenceWarning):\n",
    "        pipeline_svc.fit(\n",
    "            X_train,\n",
    "            y_train,\n",
    "        )\n",
    "    print(\"Fin entrainement début prédiction\")\n",
    "    pred_svc = pipeline_svc.predict(X_test)\n",
    "    #     print(pred_svc)\n",
    "    print(\"Enregistrement score et modéle\")\n",
    "    scores_svc = p5_nlp_utils.Commun.save_score(\n",
    "        y_test, pred_svc, target_names, \"TfidfOvRSVC\"\n",
    "    )\n",
    "    joblib.dump(pipeline_svc, \"TfidfOvRestSvc_model.joblib\")\n",
    "    print(scores_svc.sort_values(by=\"f1-score\", ascending=False))"
   ]
  },
  {
   "cell_type": "markdown",
   "id": "d8e04b70",
   "metadata": {
    "papermill": {
     "duration": 0.024048,
     "end_time": "2023-01-18T19:57:21.076624",
     "exception": false,
     "start_time": "2023-01-18T19:57:21.052576",
     "status": "completed"
    },
    "tags": []
   },
   "source": [
    "# Word2Vec"
   ]
  },
  {
   "cell_type": "markdown",
   "id": "289d43f2",
   "metadata": {
    "papermill": {
     "duration": 0.023967,
     "end_time": "2023-01-18T19:57:21.124904",
     "exception": false,
     "start_time": "2023-01-18T19:57:21.100937",
     "status": "completed"
    },
    "tags": []
   },
   "source": [
    "## Keras Model"
   ]
  },
  {
   "cell_type": "code",
   "execution_count": 29,
   "id": "10daf293",
   "metadata": {
    "execution": {
     "iopub.execute_input": "2023-01-18T19:57:21.177371Z",
     "iopub.status.busy": "2023-01-18T19:57:21.176969Z",
     "iopub.status.idle": "2023-01-18T19:57:21.214065Z",
     "shell.execute_reply": "2023-01-18T19:57:21.212869Z"
    },
    "papermill": {
     "duration": 0.067703,
     "end_time": "2023-01-18T19:57:21.216959",
     "exception": false,
     "start_time": "2023-01-18T19:57:21.149256",
     "status": "completed"
    },
    "tags": []
   },
   "outputs": [
    {
     "name": "stdout",
     "output_type": "stream",
     "text": [
      "CPU times: user 6 µs, sys: 1e+03 ns, total: 7 µs\n",
      "Wall time: 10 µs\n"
     ]
    }
   ],
   "source": [
    "%%time\n",
    "if description[\"kerasPipeline\"][\"actif\"]:\n",
    "    print(description[\"kerasPipeline\"])\n",
    "    ## https://www.tensorflow.org/api_docs/python/tf/keras/layers/TextVectorization\n",
    "    # because https://www.tensorflow.org/api_docs/python/tf/keras/preprocessing/text/Tokenizer deprecaded\n",
    "    vectorize_layer = tf.keras.layers.TextVectorization(\n",
    "        max_tokens=description[\"kerasPipeline\"][\"TextVectorization__max_tokens\"],\n",
    "        standardize=\"lower_and_strip_punctuation\",\n",
    "        split=\"whitespace\",\n",
    "        ngrams=None,\n",
    "        output_mode=\"int\",\n",
    "        output_sequence_length=description[\"kerasPipeline\"][\n",
    "            \"TextVectorization__output_sequence_length\"\n",
    "        ],\n",
    "    )\n",
    "    vectorize_layer.adapt(X_train)"
   ]
  },
  {
   "cell_type": "code",
   "execution_count": 30,
   "id": "e94b2292",
   "metadata": {
    "execution": {
     "iopub.execute_input": "2023-01-18T19:57:21.272179Z",
     "iopub.status.busy": "2023-01-18T19:57:21.271794Z",
     "iopub.status.idle": "2023-01-18T19:57:21.296017Z",
     "shell.execute_reply": "2023-01-18T19:57:21.294922Z"
    },
    "papermill": {
     "duration": 0.056566,
     "end_time": "2023-01-18T19:57:21.299021",
     "exception": false,
     "start_time": "2023-01-18T19:57:21.242455",
     "status": "completed"
    },
    "tags": []
   },
   "outputs": [
    {
     "name": "stdout",
     "output_type": "stream",
     "text": [
      "CPU times: user 5 µs, sys: 0 ns, total: 5 µs\n",
      "Wall time: 9.54 µs\n"
     ]
    }
   ],
   "source": [
    "%%time\n",
    "if description[\"kerasPipeline\"][\"actif\"]:\n",
    "    model_vectors = p5_nlp_utils.Word2Vec.build_Word2Vec(\n",
    "        X_train, description[\"kerasPipeline\"]\n",
    "    )\n",
    "    print(\n",
    "        f\"{len(vectorize_layer.get_vocabulary())} {len(model_vectors.index_to_key)} {len(vectorize_layer.get_vocabulary())/len(model_vectors.index_to_key):.2%}\"\n",
    "    )\n",
    "# embedding_matrix, vocab_size = create_embeding(\n",
    "#    vectorize_layer.get_vocabulary(), build_Word2Vec(X_train, description[\"kerasPipeline\"]), params=description[\"kerasPipeline\"]\n",
    "# )"
   ]
  },
  {
   "cell_type": "markdown",
   "id": "67033f0e",
   "metadata": {
    "papermill": {
     "duration": 0.024706,
     "end_time": "2023-01-18T19:57:21.348232",
     "exception": false,
     "start_time": "2023-01-18T19:57:21.323526",
     "status": "completed"
    },
    "tags": []
   },
   "source": [
    "if description[\"kerasPipeline\"][\"actif\"] and description[\"kerasPipeline\"][\"tsne\"]:\n",
    "    X_tsne_word2vec =  p5_nlp_utils.Commun.calcul_tsne(X_train_use)\n",
    "    p5_nlp_utils.Commun.visu_tsne(\n",
    "        X_tsne_word2vec,\n",
    "        tag_list=[\n",
    "            \"java\",\n",
    "            \"c#\",\n",
    "            \"python\",\n",
    "            \"android\",\n",
    "            \"php\",\n",
    "            \"javascript\",\n",
    "            \"jquery\",\n",
    "            \"git\",\n",
    "        ],\n",
    "    )"
   ]
  },
  {
   "cell_type": "code",
   "execution_count": 31,
   "id": "7cae4724",
   "metadata": {
    "execution": {
     "iopub.execute_input": "2023-01-18T19:57:21.400342Z",
     "iopub.status.busy": "2023-01-18T19:57:21.399536Z",
     "iopub.status.idle": "2023-01-18T19:57:21.432963Z",
     "shell.execute_reply": "2023-01-18T19:57:21.431372Z"
    },
    "papermill": {
     "duration": 0.061976,
     "end_time": "2023-01-18T19:57:21.435592",
     "exception": false,
     "start_time": "2023-01-18T19:57:21.373616",
     "status": "completed"
    },
    "tags": []
   },
   "outputs": [
    {
     "name": "stdout",
     "output_type": "stream",
     "text": [
      "CPU times: user 6 µs, sys: 0 ns, total: 6 µs\n",
      "Wall time: 10 µs\n"
     ]
    }
   ],
   "source": [
    "%%time\n",
    "# @TODO p5_nlp_utils.Word2Vec.get_embedding(model_vectors, vocabulary, params)\n",
    "if description[\"kerasPipeline\"][\"actif\"]:\n",
    "    print(\"Create Embedding matrix ...\")\n",
    "    embedding_matrix = np.asarray(\n",
    "        [\n",
    "            model_vectors[word]\n",
    "            if word in model_vectors.index_to_key\n",
    "            else np.zeros(description[\"kerasPipeline\"][\"Embedding__output_dim\"])\n",
    "            for word in vectorize_layer.get_vocabulary()\n",
    "        ]\n",
    "    )\n",
    "    embedding_matrix.shape"
   ]
  },
  {
   "cell_type": "code",
   "execution_count": 32,
   "id": "e9d69d0c",
   "metadata": {
    "execution": {
     "iopub.execute_input": "2023-01-18T19:57:21.487383Z",
     "iopub.status.busy": "2023-01-18T19:57:21.486158Z",
     "iopub.status.idle": "2023-01-18T19:57:21.545301Z",
     "shell.execute_reply": "2023-01-18T19:57:21.543934Z"
    },
    "papermill": {
     "duration": 0.087699,
     "end_time": "2023-01-18T19:57:21.548170",
     "exception": false,
     "start_time": "2023-01-18T19:57:21.460471",
     "status": "completed"
    },
    "tags": []
   },
   "outputs": [],
   "source": [
    "# https://www.tensorflow.org/text/guide/word_embeddings\n",
    "if description[\"kerasPipeline\"][\"actif\"]:\n",
    "    modelkerasPipeline = tf.keras.models.Sequential(\n",
    "        [\n",
    "            vectorize_layer,\n",
    "            tf.keras.layers.Embedding(\n",
    "                input_dim=len(vectorize_layer.get_vocabulary()),\n",
    "                output_dim=description[\"kerasPipeline\"][\"Embedding__output_dim\"],\n",
    "                weights=[embedding_matrix],\n",
    "                input_length=description[\"kerasPipeline\"][\n",
    "                    \"TextVectorization__output_sequence_length\"\n",
    "                ],\n",
    "            ),\n",
    "            tf.keras.layers.GlobalAveragePooling1D(),\n",
    "            tf.keras.layers.Dense(16, activation=\"relu\"),\n",
    "            tf.keras.layers.Dense(21),\n",
    "        ]\n",
    "    )\n",
    "    # tensorboard_callback = tf.keras.callbacks.TensorBoard(log_dir=\"logs\") # for log create a dir\n",
    "    modelkerasPipeline.compile(\n",
    "        optimizer=\"adam\",\n",
    "        loss=tf.keras.losses.BinaryCrossentropy(from_logits=True),\n",
    "        metrics=[\"accuracy\"],\n",
    "    )"
   ]
  },
  {
   "cell_type": "code",
   "execution_count": 33,
   "id": "7bd9f07b",
   "metadata": {
    "execution": {
     "iopub.execute_input": "2023-01-18T19:57:21.599310Z",
     "iopub.status.busy": "2023-01-18T19:57:21.598935Z",
     "iopub.status.idle": "2023-01-18T19:57:21.621467Z",
     "shell.execute_reply": "2023-01-18T19:57:21.620113Z"
    },
    "papermill": {
     "duration": 0.051736,
     "end_time": "2023-01-18T19:57:21.624462",
     "exception": false,
     "start_time": "2023-01-18T19:57:21.572726",
     "status": "completed"
    },
    "tags": []
   },
   "outputs": [
    {
     "name": "stdout",
     "output_type": "stream",
     "text": [
      "CPU times: user 4 µs, sys: 1e+03 ns, total: 5 µs\n",
      "Wall time: 9.06 µs\n"
     ]
    }
   ],
   "source": [
    "%%time\n",
    "if description[\"kerasPipeline\"][\"actif\"]:\n",
    "    modelkerasPipeline.fit(\n",
    "        X_train,\n",
    "        y_train,\n",
    "        epochs=description[\"kerasPipeline\"][\"fit__epochs\"],\n",
    "        # callbacks=[tensorboard_callback],\n",
    "    )"
   ]
  },
  {
   "cell_type": "code",
   "execution_count": 34,
   "id": "5179ebc8",
   "metadata": {
    "execution": {
     "iopub.execute_input": "2023-01-18T19:57:21.675727Z",
     "iopub.status.busy": "2023-01-18T19:57:21.675270Z",
     "iopub.status.idle": "2023-01-18T19:57:21.707253Z",
     "shell.execute_reply": "2023-01-18T19:57:21.705817Z"
    },
    "papermill": {
     "duration": 0.060997,
     "end_time": "2023-01-18T19:57:21.710149",
     "exception": false,
     "start_time": "2023-01-18T19:57:21.649152",
     "status": "completed"
    },
    "tags": []
   },
   "outputs": [
    {
     "name": "stdout",
     "output_type": "stream",
     "text": [
      "CPU times: user 5 µs, sys: 0 ns, total: 5 µs\n",
      "Wall time: 9.54 µs\n"
     ]
    }
   ],
   "source": [
    "%%time\n",
    "if description[\"kerasPipeline\"][\"actif\"]:\n",
    "    pred_kerasword2vec_proba = modelkerasPipeline.predict(X_test)\n",
    "    #     print(pred_kerasword2vec_proba)\n",
    "    pred_kerasword2vec = pd.DataFrame(\n",
    "        [\n",
    "            {tag: pred_tag > 0 for pred_tag, tag in zip(pred, target_names)}\n",
    "            for pred in pred_kerasword2vec_proba\n",
    "        ]\n",
    "    )\n",
    "    print(pred_kerasword2vec.value_counts())"
   ]
  },
  {
   "cell_type": "code",
   "execution_count": 35,
   "id": "4eecd6a2",
   "metadata": {
    "execution": {
     "iopub.execute_input": "2023-01-18T19:57:21.763451Z",
     "iopub.status.busy": "2023-01-18T19:57:21.763037Z",
     "iopub.status.idle": "2023-01-18T19:57:21.787297Z",
     "shell.execute_reply": "2023-01-18T19:57:21.786068Z"
    },
    "papermill": {
     "duration": 0.053427,
     "end_time": "2023-01-18T19:57:21.789781",
     "exception": false,
     "start_time": "2023-01-18T19:57:21.736354",
     "status": "completed"
    },
    "tags": []
   },
   "outputs": [],
   "source": [
    "if description[\"kerasPipeline\"][\"actif\"]:\n",
    "    scores_kerasword2vec = p5_nlp_utils.Commun.save_score(\n",
    "        y_test,\n",
    "        pred_kerasword2vec,\n",
    "        target_names,\n",
    "        \"kerasPipeline\",\n",
    "    )\n",
    "    print(scores_kerasword2vec.sort_values(by=\"f1-score\", ascending=False))\n",
    "    modelkerasPipeline.save(\"kerasPipeline\")\n",
    "    # tf.saved_model.save(modelkerasPipeline, 'kerasPipeline')"
   ]
  },
  {
   "cell_type": "markdown",
   "id": "425ee191",
   "metadata": {
    "papermill": {
     "duration": 0.024747,
     "end_time": "2023-01-18T19:57:21.839373",
     "exception": false,
     "start_time": "2023-01-18T19:57:21.814626",
     "status": "completed"
    },
    "tags": []
   },
   "source": [
    "## Word2Vec puis OvR SVC"
   ]
  },
  {
   "cell_type": "code",
   "execution_count": 36,
   "id": "40b1fc76",
   "metadata": {
    "execution": {
     "iopub.execute_input": "2023-01-18T19:57:21.891214Z",
     "iopub.status.busy": "2023-01-18T19:57:21.890793Z",
     "iopub.status.idle": "2023-01-18T19:57:21.941802Z",
     "shell.execute_reply": "2023-01-18T19:57:21.940371Z"
    },
    "papermill": {
     "duration": 0.080695,
     "end_time": "2023-01-18T19:57:21.945272",
     "exception": false,
     "start_time": "2023-01-18T19:57:21.864577",
     "status": "completed"
    },
    "tags": []
   },
   "outputs": [
    {
     "name": "stdout",
     "output_type": "stream",
     "text": [
      "CPU times: user 148 µs, sys: 0 ns, total: 148 µs\n",
      "Wall time: 153 µs\n"
     ]
    }
   ],
   "source": [
    "%%time\n",
    "pipeline_w2v = pipeline.Pipeline(\n",
    "    [\n",
    "        (\n",
    "            \"keras_embed_transformer\",\n",
    "            p5_nlp_utils.KerasEmbedTransformer().init(description[\"Word2Vec\"]),\n",
    "        ),\n",
    "        (\n",
    "            \"Word2Vec\",\n",
    "            multiclass.OneVsRestClassifier(\n",
    "                svm.SVC(\n",
    "                    cache_size=1080,\n",
    "                    max_iter=description[\"Word2Vec\"][\"max_iter\"],\n",
    "                    random_state=42,\n",
    "                )\n",
    "            ),\n",
    "        ),\n",
    "    ]\n",
    ")\n",
    "\n",
    "if description[\"Word2Vec\"][\"actif\"]:\n",
    "    with ignore_warnings(category=exceptions.ConvergenceWarning):\n",
    "        pipeline_w2v.fit(X_train, y_train)\n",
    "#         pipeline_w2v.fit(X_train[0:10], y_train[0:10])"
   ]
  },
  {
   "cell_type": "code",
   "execution_count": 37,
   "id": "168350cc",
   "metadata": {
    "execution": {
     "iopub.execute_input": "2023-01-18T19:57:21.997240Z",
     "iopub.status.busy": "2023-01-18T19:57:21.996826Z",
     "iopub.status.idle": "2023-01-18T19:57:22.015011Z",
     "shell.execute_reply": "2023-01-18T19:57:22.013779Z"
    },
    "papermill": {
     "duration": 0.04736,
     "end_time": "2023-01-18T19:57:22.018023",
     "exception": false,
     "start_time": "2023-01-18T19:57:21.970663",
     "status": "completed"
    },
    "tags": []
   },
   "outputs": [
    {
     "name": "stdout",
     "output_type": "stream",
     "text": [
      "CPU times: user 5 µs, sys: 0 ns, total: 5 µs\n",
      "Wall time: 10 µs\n"
     ]
    }
   ],
   "source": [
    "%%time\n",
    "if description[\"Word2Vec\"][\"actif\"]:\n",
    "    pred_word2vec = pipeline_w2v.predict(X_test)\n",
    "    print(pred_word2vec)"
   ]
  },
  {
   "cell_type": "markdown",
   "id": "2021006b",
   "metadata": {
    "papermill": {
     "duration": 0.025565,
     "end_time": "2023-01-18T19:57:22.068191",
     "exception": false,
     "start_time": "2023-01-18T19:57:22.042626",
     "status": "completed"
    },
    "tags": []
   },
   "source": [
    "### i got the same issue as:\n",
    "https://stackoverflow.com/questions/37984304/how-to-save-a-scikit-learn-pipline-with-keras-regressor-inside-to-disk  \n",
    "Solution is to save keras model in separate file than remove it from the pipeline so it can be save with joblib  \n",
    "I did that in my `KerasEmbedTransformer` class `save` & `load` method"
   ]
  },
  {
   "cell_type": "code",
   "execution_count": 38,
   "id": "a2180bbe",
   "metadata": {
    "execution": {
     "iopub.execute_input": "2023-01-18T19:57:22.119251Z",
     "iopub.status.busy": "2023-01-18T19:57:22.118852Z",
     "iopub.status.idle": "2023-01-18T19:57:22.140938Z",
     "shell.execute_reply": "2023-01-18T19:57:22.139846Z"
    },
    "papermill": {
     "duration": 0.050699,
     "end_time": "2023-01-18T19:57:22.143369",
     "exception": false,
     "start_time": "2023-01-18T19:57:22.092670",
     "status": "completed"
    },
    "tags": []
   },
   "outputs": [],
   "source": [
    "if description[\"Word2Vec\"][\"actif\"]:\n",
    "    pipeline_w2v.named_steps[\"keras_embed_transformer\"].save(\"keras\")\n",
    "    # Otherwise i can save it but not load in api\n",
    "    #     pipeline_w2v.named_steps[\"keras_embed_transformer\"] = \"passthrough\"  # __module__\n",
    "    #     pipeline_w2v.named_steps[\"keras_embed_transformer\"].__module__ = None\n",
    "    ## i have issue loading the joblib in api so i try to delete the step from the pipeline\n",
    "    pipeline_w2v.steps.pop(0)\n",
    "    pipeline_w2v.steps.insert(0, (\"keras_embed_transformer\", \"passthrough\"))\n",
    "    print(pipeline_w2v)"
   ]
  },
  {
   "cell_type": "code",
   "execution_count": 39,
   "id": "febda6aa",
   "metadata": {
    "execution": {
     "iopub.execute_input": "2023-01-18T19:57:22.195214Z",
     "iopub.status.busy": "2023-01-18T19:57:22.194819Z",
     "iopub.status.idle": "2023-01-18T19:57:22.220999Z",
     "shell.execute_reply": "2023-01-18T19:57:22.219814Z"
    },
    "papermill": {
     "duration": 0.055588,
     "end_time": "2023-01-18T19:57:22.223848",
     "exception": false,
     "start_time": "2023-01-18T19:57:22.168260",
     "status": "completed"
    },
    "tags": []
   },
   "outputs": [],
   "source": [
    "if description[\"Word2Vec\"][\"actif\"]:\n",
    "    scores_word2vec = p5_nlp_utils.Commun.save_score(\n",
    "        y_test, pred_word2vec, target_names, \"Word2Vec\"\n",
    "    )\n",
    "    joblib.dump(pipeline_w2v, \"Word2Vec_model.joblib\")\n",
    "    print(scores_word2vec.sort_values(by=\"f1-score\", ascending=False))"
   ]
  },
  {
   "cell_type": "markdown",
   "id": "868cebf4",
   "metadata": {
    "papermill": {
     "duration": 0.024382,
     "end_time": "2023-01-18T19:57:22.273152",
     "exception": false,
     "start_time": "2023-01-18T19:57:22.248770",
     "status": "completed"
    },
    "tags": []
   },
   "source": [
    "### test to reimport saved model"
   ]
  },
  {
   "cell_type": "code",
   "execution_count": 40,
   "id": "abb375f8",
   "metadata": {
    "execution": {
     "iopub.execute_input": "2023-01-18T19:57:22.325941Z",
     "iopub.status.busy": "2023-01-18T19:57:22.325536Z",
     "iopub.status.idle": "2023-01-18T19:57:22.353294Z",
     "shell.execute_reply": "2023-01-18T19:57:22.351996Z"
    },
    "papermill": {
     "duration": 0.057435,
     "end_time": "2023-01-18T19:57:22.355978",
     "exception": false,
     "start_time": "2023-01-18T19:57:22.298543",
     "status": "completed"
    },
    "tags": []
   },
   "outputs": [],
   "source": [
    "if description[\"Word2Vec\"][\"actif\"] and LONG:\n",
    "    loaded = joblib.load(\"/kaggle/working/Word2Vec_model.joblib\")\n",
    "    loaded.named_steps[\n",
    "        \"keras_embed_transformer\"\n",
    "    ] = p5_nlp_utils.KerasEmbedTransformer().load(\n",
    "        \"/kaggle/working/keras\", description[\"Word2Vec\"]\n",
    "    )\n",
    "    pred_word2vec == loaded.predict(X_test)"
   ]
  },
  {
   "cell_type": "markdown",
   "id": "80577259",
   "metadata": {
    "papermill": {
     "duration": 0.024466,
     "end_time": "2023-01-18T19:57:22.406110",
     "exception": false,
     "start_time": "2023-01-18T19:57:22.381644",
     "status": "completed"
    },
    "tags": []
   },
   "source": [
    "# BERT"
   ]
  },
  {
   "cell_type": "code",
   "execution_count": 41,
   "id": "4b12cd65",
   "metadata": {
    "execution": {
     "iopub.execute_input": "2023-01-18T19:57:22.458089Z",
     "iopub.status.busy": "2023-01-18T19:57:22.457683Z",
     "iopub.status.idle": "2023-01-18T19:57:22.464097Z",
     "shell.execute_reply": "2023-01-18T19:57:22.462655Z"
    },
    "papermill": {
     "duration": 0.03586,
     "end_time": "2023-01-18T19:57:22.466804",
     "exception": false,
     "start_time": "2023-01-18T19:57:22.430944",
     "status": "completed"
    },
    "tags": []
   },
   "outputs": [],
   "source": [
    "## check gpu\n",
    "# import torch\n",
    "# torch.cuda.is_available()"
   ]
  },
  {
   "cell_type": "code",
   "execution_count": 42,
   "id": "d118b4e2",
   "metadata": {
    "execution": {
     "iopub.execute_input": "2023-01-18T19:57:22.517913Z",
     "iopub.status.busy": "2023-01-18T19:57:22.517469Z",
     "iopub.status.idle": "2023-01-18T19:57:22.533307Z",
     "shell.execute_reply": "2023-01-18T19:57:22.532116Z"
    },
    "papermill": {
     "duration": 0.04399,
     "end_time": "2023-01-18T19:57:22.535584",
     "exception": false,
     "start_time": "2023-01-18T19:57:22.491594",
     "status": "completed"
    },
    "tags": []
   },
   "outputs": [],
   "source": [
    "if description[\"BERT\"][\"actif\"]:\n",
    "    print(description[\"BERT\"])\n",
    "    configuration = BertConfig()\n",
    "    print(configuration)"
   ]
  },
  {
   "cell_type": "code",
   "execution_count": 43,
   "id": "abaa208a",
   "metadata": {
    "execution": {
     "iopub.execute_input": "2023-01-18T19:57:22.586560Z",
     "iopub.status.busy": "2023-01-18T19:57:22.585781Z",
     "iopub.status.idle": "2023-01-18T19:57:22.592544Z",
     "shell.execute_reply": "2023-01-18T19:57:22.591473Z"
    },
    "papermill": {
     "duration": 0.03485,
     "end_time": "2023-01-18T19:57:22.594919",
     "exception": false,
     "start_time": "2023-01-18T19:57:22.560069",
     "status": "completed"
    },
    "tags": []
   },
   "outputs": [],
   "source": [
    "# %%time\n",
    "# if description[\"BERT\"][\"actif\"]:\n",
    "#     tokenizer = p5_nlp_utils.Bert.get_tokenizer(\n",
    "#         model_max_length=description[\"BERT\"][\"max_length\"],\n",
    "#         save_path=\"bert_base_uncased/\",\n",
    "#     )"
   ]
  },
  {
   "cell_type": "code",
   "execution_count": 44,
   "id": "753c1c7f",
   "metadata": {
    "execution": {
     "iopub.execute_input": "2023-01-18T19:57:22.645884Z",
     "iopub.status.busy": "2023-01-18T19:57:22.645444Z",
     "iopub.status.idle": "2023-01-18T19:57:22.670695Z",
     "shell.execute_reply": "2023-01-18T19:57:22.669377Z"
    },
    "papermill": {
     "duration": 0.053839,
     "end_time": "2023-01-18T19:57:22.673374",
     "exception": false,
     "start_time": "2023-01-18T19:57:22.619535",
     "status": "completed"
    },
    "tags": []
   },
   "outputs": [
    {
     "name": "stdout",
     "output_type": "stream",
     "text": [
      "CPU times: user 5 µs, sys: 0 ns, total: 5 µs\n",
      "Wall time: 9.54 µs\n"
     ]
    }
   ],
   "source": [
    "%%time\n",
    "if description[\"BERT\"][\"actif\"]:\n",
    "    X_train_bert = p5_nlp_utils.Bert.create_bert_inputs(\n",
    "        X_train.values, max_len=description[\"BERT\"][\"max_length\"]\n",
    "    )\n",
    "    print(\"Shape input BERT tupple 3*\", X_train_bert[0].shape)"
   ]
  },
  {
   "cell_type": "code",
   "execution_count": 45,
   "id": "7881695e",
   "metadata": {
    "execution": {
     "iopub.execute_input": "2023-01-18T19:57:22.724711Z",
     "iopub.status.busy": "2023-01-18T19:57:22.723875Z",
     "iopub.status.idle": "2023-01-18T19:57:22.748861Z",
     "shell.execute_reply": "2023-01-18T19:57:22.747305Z"
    },
    "papermill": {
     "duration": 0.053603,
     "end_time": "2023-01-18T19:57:22.751705",
     "exception": false,
     "start_time": "2023-01-18T19:57:22.698102",
     "status": "completed"
    },
    "tags": []
   },
   "outputs": [
    {
     "name": "stdout",
     "output_type": "stream",
     "text": [
      "CPU times: user 5 µs, sys: 1 µs, total: 6 µs\n",
      "Wall time: 10 µs\n"
     ]
    }
   ],
   "source": [
    "%%time\n",
    "if description[\"BERT\"][\"actif\"]:\n",
    "    #     bert_model = p5_nlp_utils.Bert.create_bert_model(\n",
    "    #         params=description[\"BERT\"], target_names=target_names\n",
    "    #     )\n",
    "    bert_model = p5_nlp_utils.Bert.build_bert_model(\n",
    "        max_len=description[\"BERT\"][\"max_length\"], target_names=target_names\n",
    "    )\n",
    "    print(bert_model.summary())"
   ]
  },
  {
   "cell_type": "code",
   "execution_count": 46,
   "id": "0bc1697f",
   "metadata": {
    "execution": {
     "iopub.execute_input": "2023-01-18T19:57:22.802848Z",
     "iopub.status.busy": "2023-01-18T19:57:22.802351Z",
     "iopub.status.idle": "2023-01-18T19:57:22.825563Z",
     "shell.execute_reply": "2023-01-18T19:57:22.824136Z"
    },
    "papermill": {
     "duration": 0.052316,
     "end_time": "2023-01-18T19:57:22.828267",
     "exception": false,
     "start_time": "2023-01-18T19:57:22.775951",
     "status": "completed"
    },
    "tags": []
   },
   "outputs": [
    {
     "name": "stdout",
     "output_type": "stream",
     "text": [
      "CPU times: user 6 µs, sys: 0 ns, total: 6 µs\n",
      "Wall time: 10.3 µs\n"
     ]
    }
   ],
   "source": [
    "%%time\n",
    "if description[\"BERT\"][\"actif\"]:\n",
    "    bert_model.fit(\n",
    "        #         np.array(\n",
    "        #             [create_bert_input_target(x, description[\"BERT\"]) for x in X_train.values]\n",
    "        #         ),\n",
    "        X_train_bert,\n",
    "        y_train,\n",
    "        epochs=description[\"BERT\"][\"epochs\"],\n",
    "        verbose=3,\n",
    "    )"
   ]
  },
  {
   "cell_type": "code",
   "execution_count": 47,
   "id": "b8eaaea5",
   "metadata": {
    "execution": {
     "iopub.execute_input": "2023-01-18T19:57:22.879985Z",
     "iopub.status.busy": "2023-01-18T19:57:22.879545Z",
     "iopub.status.idle": "2023-01-18T19:57:22.932207Z",
     "shell.execute_reply": "2023-01-18T19:57:22.930469Z"
    },
    "papermill": {
     "duration": 0.081772,
     "end_time": "2023-01-18T19:57:22.934880",
     "exception": false,
     "start_time": "2023-01-18T19:57:22.853108",
     "status": "completed"
    },
    "tags": []
   },
   "outputs": [
    {
     "name": "stdout",
     "output_type": "stream",
     "text": [
      "CPU times: user 0 ns, sys: 6 µs, total: 6 µs\n",
      "Wall time: 10.3 µs\n"
     ]
    }
   ],
   "source": [
    "%%time\n",
    "if description[\"BERT\"][\"actif\"]:\n",
    "    bert_model.save(\"BERT\")\n",
    "    #     pred_bert_proba = bert_model.predict(\n",
    "    #         np.array(\n",
    "    #             [create_bert_input_target(x, description[\"BERT\"]) for x in X_test.values]\n",
    "    #         )\n",
    "    #     )\n",
    "    pred_bert_proba = bert_model.predict(\n",
    "        p5_nlp_utils.Bert.create_bert_inputs(\n",
    "            X_test.values, max_len=description[\"BERT\"][\"max_length\"]\n",
    "        )\n",
    "    )\n",
    "    print(pred_bert_proba)\n",
    "    best, f1_score_avg = p5_nlp_utils.Commun.find_best_limit(\n",
    "        pred_bert_proba, y_test, target_names\n",
    "    )\n",
    "    pred_bert = p5_nlp_utils.Commun.convert_pred_to_bool(pred_bert_proba, limit=best)\n",
    "    #     print(pred_bert.value_counts())\n",
    "    scores_bert = p5_nlp_utils.Commun.save_score(\n",
    "        y_test,\n",
    "        pred_bert,\n",
    "        target_names,\n",
    "        \"BERT\",\n",
    "    )\n",
    "    print(scores_bert.sort_values(by=\"f1-score\", ascending=False))"
   ]
  },
  {
   "cell_type": "code",
   "execution_count": 48,
   "id": "6d957824",
   "metadata": {
    "execution": {
     "iopub.execute_input": "2023-01-18T19:57:22.986320Z",
     "iopub.status.busy": "2023-01-18T19:57:22.985927Z",
     "iopub.status.idle": "2023-01-18T19:57:22.992853Z",
     "shell.execute_reply": "2023-01-18T19:57:22.991595Z"
    },
    "papermill": {
     "duration": 0.035565,
     "end_time": "2023-01-18T19:57:22.995337",
     "exception": false,
     "start_time": "2023-01-18T19:57:22.959772",
     "status": "completed"
    },
    "tags": []
   },
   "outputs": [],
   "source": [
    "# # detect and init the TPU\n",
    "# tpu = tf.distribute.cluster_resolver.TPUClusterResolver.connect()\n",
    "\n",
    "# # instantiate a distribution strategy\n",
    "# tpu_strategy = tf.distribute.experimental.TPUStrategy(tpu)\n",
    "# with tpu_strategy.scope():\n",
    "# ..."
   ]
  },
  {
   "cell_type": "code",
   "execution_count": 49,
   "id": "7220fc89",
   "metadata": {
    "execution": {
     "iopub.execute_input": "2023-01-18T19:57:23.046718Z",
     "iopub.status.busy": "2023-01-18T19:57:23.046294Z",
     "iopub.status.idle": "2023-01-18T19:57:23.052698Z",
     "shell.execute_reply": "2023-01-18T19:57:23.051479Z"
    },
    "papermill": {
     "duration": 0.034895,
     "end_time": "2023-01-18T19:57:23.055058",
     "exception": false,
     "start_time": "2023-01-18T19:57:23.020163",
     "status": "completed"
    },
    "tags": []
   },
   "outputs": [],
   "source": [
    "# %%time\n",
    "# model = BertTransformer(list(X_train[0:5]), params=description[\"BERT\"])\n",
    "# model"
   ]
  },
  {
   "cell_type": "code",
   "execution_count": 50,
   "id": "56ce0c0b",
   "metadata": {
    "execution": {
     "iopub.execute_input": "2023-01-18T19:57:23.106855Z",
     "iopub.status.busy": "2023-01-18T19:57:23.105987Z",
     "iopub.status.idle": "2023-01-18T19:57:23.112040Z",
     "shell.execute_reply": "2023-01-18T19:57:23.111006Z"
    },
    "papermill": {
     "duration": 0.034562,
     "end_time": "2023-01-18T19:57:23.114400",
     "exception": false,
     "start_time": "2023-01-18T19:57:23.079838",
     "status": "completed"
    },
    "tags": []
   },
   "outputs": [],
   "source": [
    "# %%time\n",
    "# model = BertTransformer(list(X_train[0:50_000]), params=description[\"BERT\"])\n",
    "# # model = BertTransformer(list(X_train), params=description[\"BERT\"])\n",
    "# model\n",
    "# # model.mean(axis=1)"
   ]
  },
  {
   "cell_type": "markdown",
   "id": "b31e4644",
   "metadata": {
    "papermill": {
     "duration": 0.024561,
     "end_time": "2023-01-18T19:57:23.164968",
     "exception": false,
     "start_time": "2023-01-18T19:57:23.140407",
     "status": "completed"
    },
    "tags": []
   },
   "source": [
    "# USE"
   ]
  },
  {
   "cell_type": "code",
   "execution_count": 51,
   "id": "d442e547",
   "metadata": {
    "execution": {
     "iopub.execute_input": "2023-01-18T19:57:23.216457Z",
     "iopub.status.busy": "2023-01-18T19:57:23.216058Z",
     "iopub.status.idle": "2023-01-18T19:59:56.723723Z",
     "shell.execute_reply": "2023-01-18T19:59:56.719999Z"
    },
    "papermill": {
     "duration": 153.563394,
     "end_time": "2023-01-18T19:59:56.753310",
     "exception": false,
     "start_time": "2023-01-18T19:57:23.189916",
     "status": "completed"
    },
    "tags": []
   },
   "outputs": [
    {
     "name": "stderr",
     "output_type": "stream",
     "text": [
      "2023-01-18 19:57:39.384947: I tensorflow/compiler/mlir/mlir_graph_optimization_pass.cc:185] None of the MLIR Optimization Passes are enabled (registered 2)\n"
     ]
    },
    {
     "name": "stdout",
     "output_type": "stream",
     "text": [
      "(88831, 512)\n",
      "CPU times: user 2min 24s, sys: 52.7 s, total: 3min 16s\n",
      "Wall time: 2min 33s\n"
     ]
    }
   ],
   "source": [
    "%%time\n",
    "if description[\"USE\"][\"actif\"]:\n",
    "    embed = hub.load(\"https://tfhub.dev/google/universal-sentence-encoder/4\")\n",
    "    X_train_use = embed(X_train.values)\n",
    "    print(X_train_use.numpy().shape)"
   ]
  },
  {
   "cell_type": "code",
   "execution_count": 52,
   "id": "77c2638e",
   "metadata": {
    "execution": {
     "iopub.execute_input": "2023-01-18T19:59:56.805492Z",
     "iopub.status.busy": "2023-01-18T19:59:56.805080Z",
     "iopub.status.idle": "2023-01-18T20:35:27.843028Z",
     "shell.execute_reply": "2023-01-18T20:35:27.841926Z"
    },
    "papermill": {
     "duration": 2131.114457,
     "end_time": "2023-01-18T20:35:27.893102",
     "exception": false,
     "start_time": "2023-01-18T19:59:56.778645",
     "status": "completed"
    },
    "tags": []
   },
   "outputs": [
    {
     "name": "stdout",
     "output_type": "stream",
     "text": [
      "Epoch 1/300\n",
      "2776/2776 - 8s - loss: 0.1106 - accuracy: 0.5560\n",
      "Epoch 2/300\n",
      "2776/2776 - 7s - loss: 0.0863 - accuracy: 0.5737\n",
      "Epoch 3/300\n",
      "2776/2776 - 7s - loss: 0.0839 - accuracy: 0.5747\n",
      "Epoch 4/300\n",
      "2776/2776 - 7s - loss: 0.0822 - accuracy: 0.5765\n",
      "Epoch 5/300\n",
      "2776/2776 - 8s - loss: 0.0809 - accuracy: 0.5783\n",
      "Epoch 6/300\n",
      "2776/2776 - 7s - loss: 0.0798 - accuracy: 0.5801\n",
      "Epoch 7/300\n",
      "2776/2776 - 7s - loss: 0.0789 - accuracy: 0.5805\n",
      "Epoch 8/300\n",
      "2776/2776 - 7s - loss: 0.0780 - accuracy: 0.5829\n",
      "Epoch 9/300\n",
      "2776/2776 - 7s - loss: 0.0772 - accuracy: 0.5846\n",
      "Epoch 10/300\n",
      "2776/2776 - 7s - loss: 0.0764 - accuracy: 0.5856\n",
      "Epoch 11/300\n",
      "2776/2776 - 7s - loss: 0.0757 - accuracy: 0.5880\n",
      "Epoch 12/300\n",
      "2776/2776 - 7s - loss: 0.0751 - accuracy: 0.5891\n",
      "Epoch 13/300\n",
      "2776/2776 - 7s - loss: 0.0745 - accuracy: 0.5913\n",
      "Epoch 14/300\n",
      "2776/2776 - 8s - loss: 0.0740 - accuracy: 0.5908\n",
      "Epoch 15/300\n",
      "2776/2776 - 8s - loss: 0.0734 - accuracy: 0.5931\n",
      "Epoch 16/300\n",
      "2776/2776 - 8s - loss: 0.0729 - accuracy: 0.5936\n",
      "Epoch 17/300\n",
      "2776/2776 - 7s - loss: 0.0723 - accuracy: 0.5938\n",
      "Epoch 18/300\n",
      "2776/2776 - 7s - loss: 0.0719 - accuracy: 0.5959\n",
      "Epoch 19/300\n",
      "2776/2776 - 7s - loss: 0.0714 - accuracy: 0.5959\n",
      "Epoch 20/300\n",
      "2776/2776 - 7s - loss: 0.0710 - accuracy: 0.5972\n",
      "Epoch 21/300\n",
      "2776/2776 - 6s - loss: 0.0706 - accuracy: 0.5982\n",
      "Epoch 22/300\n",
      "2776/2776 - 6s - loss: 0.0702 - accuracy: 0.5993\n",
      "Epoch 23/300\n",
      "2776/2776 - 6s - loss: 0.0698 - accuracy: 0.6000\n",
      "Epoch 24/300\n",
      "2776/2776 - 6s - loss: 0.0694 - accuracy: 0.6005\n",
      "Epoch 25/300\n",
      "2776/2776 - 6s - loss: 0.0690 - accuracy: 0.6011\n",
      "Epoch 26/300\n",
      "2776/2776 - 6s - loss: 0.0687 - accuracy: 0.6024\n",
      "Epoch 27/300\n",
      "2776/2776 - 6s - loss: 0.0683 - accuracy: 0.6031\n",
      "Epoch 28/300\n",
      "2776/2776 - 6s - loss: 0.0680 - accuracy: 0.6034\n",
      "Epoch 29/300\n",
      "2776/2776 - 6s - loss: 0.0676 - accuracy: 0.6041\n",
      "Epoch 30/300\n",
      "2776/2776 - 5s - loss: 0.0674 - accuracy: 0.6050\n",
      "Epoch 31/300\n",
      "2776/2776 - 6s - loss: 0.0671 - accuracy: 0.6046\n",
      "Epoch 32/300\n",
      "2776/2776 - 6s - loss: 0.0668 - accuracy: 0.6058\n",
      "Epoch 33/300\n",
      "2776/2776 - 5s - loss: 0.0665 - accuracy: 0.6059\n",
      "Epoch 34/300\n",
      "2776/2776 - 6s - loss: 0.0662 - accuracy: 0.6071\n",
      "Epoch 35/300\n",
      "2776/2776 - 6s - loss: 0.0659 - accuracy: 0.6086\n",
      "Epoch 36/300\n",
      "2776/2776 - 6s - loss: 0.0657 - accuracy: 0.6087\n",
      "Epoch 37/300\n",
      "2776/2776 - 6s - loss: 0.0654 - accuracy: 0.6078\n",
      "Epoch 38/300\n",
      "2776/2776 - 6s - loss: 0.0651 - accuracy: 0.6088\n",
      "Epoch 39/300\n",
      "2776/2776 - 8s - loss: 0.0649 - accuracy: 0.6104\n",
      "Epoch 40/300\n",
      "2776/2776 - 8s - loss: 0.0646 - accuracy: 0.6098\n",
      "Epoch 41/300\n",
      "2776/2776 - 7s - loss: 0.0644 - accuracy: 0.6098\n",
      "Epoch 42/300\n",
      "2776/2776 - 6s - loss: 0.0642 - accuracy: 0.6112\n",
      "Epoch 43/300\n",
      "2776/2776 - 8s - loss: 0.0639 - accuracy: 0.6110\n",
      "Epoch 44/300\n",
      "2776/2776 - 7s - loss: 0.0637 - accuracy: 0.6116\n",
      "Epoch 45/300\n",
      "2776/2776 - 8s - loss: 0.0635 - accuracy: 0.6124\n",
      "Epoch 46/300\n",
      "2776/2776 - 8s - loss: 0.0633 - accuracy: 0.6127\n",
      "Epoch 47/300\n",
      "2776/2776 - 10s - loss: 0.0630 - accuracy: 0.6117\n",
      "Epoch 48/300\n",
      "2776/2776 - 10s - loss: 0.0629 - accuracy: 0.6133\n",
      "Epoch 49/300\n",
      "2776/2776 - 10s - loss: 0.0627 - accuracy: 0.6145\n",
      "Epoch 50/300\n",
      "2776/2776 - 10s - loss: 0.0625 - accuracy: 0.6145\n",
      "Epoch 51/300\n",
      "2776/2776 - 11s - loss: 0.0623 - accuracy: 0.6143\n",
      "Epoch 52/300\n",
      "2776/2776 - 12s - loss: 0.0621 - accuracy: 0.6145\n",
      "Epoch 53/300\n",
      "2776/2776 - 12s - loss: 0.0619 - accuracy: 0.6153\n",
      "Epoch 54/300\n",
      "2776/2776 - 11s - loss: 0.0617 - accuracy: 0.6162\n",
      "Epoch 55/300\n",
      "2776/2776 - 11s - loss: 0.0616 - accuracy: 0.6148\n",
      "Epoch 56/300\n",
      "2776/2776 - 11s - loss: 0.0614 - accuracy: 0.6162\n",
      "Epoch 57/300\n",
      "2776/2776 - 11s - loss: 0.0612 - accuracy: 0.6159\n",
      "Epoch 58/300\n",
      "2776/2776 - 11s - loss: 0.0610 - accuracy: 0.6169\n",
      "Epoch 59/300\n",
      "2776/2776 - 7s - loss: 0.0608 - accuracy: 0.6177\n",
      "Epoch 60/300\n",
      "2776/2776 - 7s - loss: 0.0607 - accuracy: 0.6183\n",
      "Epoch 61/300\n",
      "2776/2776 - 6s - loss: 0.0605 - accuracy: 0.6185\n",
      "Epoch 62/300\n",
      "2776/2776 - 6s - loss: 0.0603 - accuracy: 0.6176\n",
      "Epoch 63/300\n",
      "2776/2776 - 6s - loss: 0.0602 - accuracy: 0.6180\n",
      "Epoch 64/300\n",
      "2776/2776 - 6s - loss: 0.0600 - accuracy: 0.6188\n",
      "Epoch 65/300\n",
      "2776/2776 - 6s - loss: 0.0599 - accuracy: 0.6188\n",
      "Epoch 66/300\n",
      "2776/2776 - 6s - loss: 0.0597 - accuracy: 0.6195\n",
      "Epoch 67/300\n",
      "2776/2776 - 6s - loss: 0.0596 - accuracy: 0.6192\n",
      "Epoch 68/300\n",
      "2776/2776 - 6s - loss: 0.0595 - accuracy: 0.6199\n",
      "Epoch 69/300\n",
      "2776/2776 - 6s - loss: 0.0593 - accuracy: 0.6201\n",
      "Epoch 70/300\n",
      "2776/2776 - 6s - loss: 0.0592 - accuracy: 0.6204\n",
      "Epoch 71/300\n",
      "2776/2776 - 6s - loss: 0.0591 - accuracy: 0.6210\n",
      "Epoch 72/300\n",
      "2776/2776 - 6s - loss: 0.0589 - accuracy: 0.6206\n",
      "Epoch 73/300\n",
      "2776/2776 - 6s - loss: 0.0588 - accuracy: 0.6214\n",
      "Epoch 74/300\n",
      "2776/2776 - 7s - loss: 0.0586 - accuracy: 0.6211\n",
      "Epoch 75/300\n",
      "2776/2776 - 6s - loss: 0.0585 - accuracy: 0.6217\n",
      "Epoch 76/300\n",
      "2776/2776 - 6s - loss: 0.0584 - accuracy: 0.6218\n",
      "Epoch 77/300\n",
      "2776/2776 - 6s - loss: 0.0582 - accuracy: 0.6222\n",
      "Epoch 78/300\n",
      "2776/2776 - 6s - loss: 0.0581 - accuracy: 0.6211\n",
      "Epoch 79/300\n",
      "2776/2776 - 7s - loss: 0.0580 - accuracy: 0.6225\n",
      "Epoch 80/300\n",
      "2776/2776 - 6s - loss: 0.0579 - accuracy: 0.6228\n",
      "Epoch 81/300\n",
      "2776/2776 - 6s - loss: 0.0577 - accuracy: 0.6229\n",
      "Epoch 82/300\n",
      "2776/2776 - 6s - loss: 0.0576 - accuracy: 0.6233\n",
      "Epoch 83/300\n",
      "2776/2776 - 6s - loss: 0.0575 - accuracy: 0.6233\n",
      "Epoch 84/300\n",
      "2776/2776 - 6s - loss: 0.0574 - accuracy: 0.6244\n",
      "Epoch 85/300\n",
      "2776/2776 - 7s - loss: 0.0573 - accuracy: 0.6236\n",
      "Epoch 86/300\n",
      "2776/2776 - 6s - loss: 0.0572 - accuracy: 0.6237\n",
      "Epoch 87/300\n",
      "2776/2776 - 6s - loss: 0.0570 - accuracy: 0.6243\n",
      "Epoch 88/300\n",
      "2776/2776 - 6s - loss: 0.0569 - accuracy: 0.6244\n",
      "Epoch 89/300\n",
      "2776/2776 - 6s - loss: 0.0568 - accuracy: 0.6251\n",
      "Epoch 90/300\n",
      "2776/2776 - 7s - loss: 0.0567 - accuracy: 0.6254\n",
      "Epoch 91/300\n",
      "2776/2776 - 8s - loss: 0.0566 - accuracy: 0.6243\n",
      "Epoch 92/300\n",
      "2776/2776 - 7s - loss: 0.0565 - accuracy: 0.6254\n",
      "Epoch 93/300\n",
      "2776/2776 - 7s - loss: 0.0564 - accuracy: 0.6251\n",
      "Epoch 94/300\n",
      "2776/2776 - 8s - loss: 0.0562 - accuracy: 0.6264\n",
      "Epoch 95/300\n",
      "2776/2776 - 8s - loss: 0.0562 - accuracy: 0.6268\n",
      "Epoch 96/300\n",
      "2776/2776 - 8s - loss: 0.0561 - accuracy: 0.6265\n",
      "Epoch 97/300\n",
      "2776/2776 - 9s - loss: 0.0560 - accuracy: 0.6267\n",
      "Epoch 98/300\n",
      "2776/2776 - 10s - loss: 0.0559 - accuracy: 0.6263\n",
      "Epoch 99/300\n",
      "2776/2776 - 10s - loss: 0.0558 - accuracy: 0.6260\n",
      "Epoch 100/300\n",
      "2776/2776 - 9s - loss: 0.0557 - accuracy: 0.6263\n",
      "Epoch 101/300\n",
      "2776/2776 - 10s - loss: 0.0556 - accuracy: 0.6267\n",
      "Epoch 102/300\n",
      "2776/2776 - 9s - loss: 0.0555 - accuracy: 0.6272\n",
      "Epoch 103/300\n",
      "2776/2776 - 8s - loss: 0.0554 - accuracy: 0.6264\n",
      "Epoch 104/300\n",
      "2776/2776 - 8s - loss: 0.0553 - accuracy: 0.6272\n",
      "Epoch 105/300\n",
      "2776/2776 - 9s - loss: 0.0552 - accuracy: 0.6275\n",
      "Epoch 106/300\n",
      "2776/2776 - 9s - loss: 0.0551 - accuracy: 0.6269\n",
      "Epoch 107/300\n",
      "2776/2776 - 9s - loss: 0.0550 - accuracy: 0.6282\n",
      "Epoch 108/300\n",
      "2776/2776 - 9s - loss: 0.0549 - accuracy: 0.6268\n",
      "Epoch 109/300\n",
      "2776/2776 - 8s - loss: 0.0548 - accuracy: 0.6282\n",
      "Epoch 110/300\n",
      "2776/2776 - 8s - loss: 0.0547 - accuracy: 0.6287\n",
      "Epoch 111/300\n",
      "2776/2776 - 10s - loss: 0.0547 - accuracy: 0.6285\n",
      "Epoch 112/300\n",
      "2776/2776 - 10s - loss: 0.0546 - accuracy: 0.6287\n",
      "Epoch 113/300\n",
      "2776/2776 - 9s - loss: 0.0545 - accuracy: 0.6289\n",
      "Epoch 114/300\n",
      "2776/2776 - 9s - loss: 0.0544 - accuracy: 0.6289\n",
      "Epoch 115/300\n",
      "2776/2776 - 7s - loss: 0.0543 - accuracy: 0.6294\n",
      "Epoch 116/300\n",
      "2776/2776 - 8s - loss: 0.0543 - accuracy: 0.6294\n",
      "Epoch 117/300\n",
      "2776/2776 - 8s - loss: 0.0542 - accuracy: 0.6296\n",
      "Epoch 118/300\n",
      "2776/2776 - 8s - loss: 0.0541 - accuracy: 0.6291\n",
      "Epoch 119/300\n",
      "2776/2776 - 9s - loss: 0.0540 - accuracy: 0.6297\n",
      "Epoch 120/300\n",
      "2776/2776 - 8s - loss: 0.0539 - accuracy: 0.6304\n",
      "Epoch 121/300\n",
      "2776/2776 - 7s - loss: 0.0539 - accuracy: 0.6289\n",
      "Epoch 122/300\n",
      "2776/2776 - 7s - loss: 0.0537 - accuracy: 0.6305\n",
      "Epoch 123/300\n",
      "2776/2776 - 8s - loss: 0.0537 - accuracy: 0.6291\n",
      "Epoch 124/300\n",
      "2776/2776 - 9s - loss: 0.0536 - accuracy: 0.6312\n",
      "Epoch 125/300\n",
      "2776/2776 - 10s - loss: 0.0536 - accuracy: 0.6308\n",
      "Epoch 126/300\n",
      "2776/2776 - 9s - loss: 0.0535 - accuracy: 0.6305\n",
      "Epoch 127/300\n",
      "2776/2776 - 7s - loss: 0.0534 - accuracy: 0.6302\n",
      "Epoch 128/300\n",
      "2776/2776 - 7s - loss: 0.0533 - accuracy: 0.6310\n",
      "Epoch 129/300\n",
      "2776/2776 - 7s - loss: 0.0533 - accuracy: 0.6301\n",
      "Epoch 130/300\n",
      "2776/2776 - 6s - loss: 0.0532 - accuracy: 0.6307\n",
      "Epoch 131/300\n",
      "2776/2776 - 7s - loss: 0.0531 - accuracy: 0.6307\n",
      "Epoch 132/300\n",
      "2776/2776 - 7s - loss: 0.0530 - accuracy: 0.6308\n",
      "Epoch 133/300\n",
      "2776/2776 - 8s - loss: 0.0530 - accuracy: 0.6316\n",
      "Epoch 134/300\n",
      "2776/2776 - 8s - loss: 0.0529 - accuracy: 0.6311\n",
      "Epoch 135/300\n",
      "2776/2776 - 8s - loss: 0.0528 - accuracy: 0.6321\n",
      "Epoch 136/300\n",
      "2776/2776 - 8s - loss: 0.0528 - accuracy: 0.6317\n",
      "Epoch 137/300\n",
      "2776/2776 - 8s - loss: 0.0527 - accuracy: 0.6317\n",
      "Epoch 138/300\n",
      "2776/2776 - 7s - loss: 0.0526 - accuracy: 0.6314\n",
      "Epoch 139/300\n",
      "2776/2776 - 8s - loss: 0.0525 - accuracy: 0.6313\n",
      "Epoch 140/300\n",
      "2776/2776 - 7s - loss: 0.0525 - accuracy: 0.6321\n",
      "Epoch 141/300\n",
      "2776/2776 - 7s - loss: 0.0524 - accuracy: 0.6321\n",
      "Epoch 142/300\n",
      "2776/2776 - 7s - loss: 0.0524 - accuracy: 0.6312\n",
      "Epoch 143/300\n",
      "2776/2776 - 8s - loss: 0.0523 - accuracy: 0.6314\n",
      "Epoch 144/300\n",
      "2776/2776 - 8s - loss: 0.0523 - accuracy: 0.6316\n",
      "Epoch 145/300\n",
      "2776/2776 - 9s - loss: 0.0522 - accuracy: 0.6318\n",
      "Epoch 146/300\n",
      "2776/2776 - 9s - loss: 0.0522 - accuracy: 0.6323\n",
      "Epoch 147/300\n",
      "2776/2776 - 8s - loss: 0.0521 - accuracy: 0.6326\n",
      "Epoch 148/300\n",
      "2776/2776 - 9s - loss: 0.0520 - accuracy: 0.6323\n",
      "Epoch 149/300\n",
      "2776/2776 - 8s - loss: 0.0519 - accuracy: 0.6329\n",
      "Epoch 150/300\n",
      "2776/2776 - 7s - loss: 0.0519 - accuracy: 0.6318\n",
      "Epoch 151/300\n",
      "2776/2776 - 7s - loss: 0.0518 - accuracy: 0.6337\n",
      "Epoch 152/300\n",
      "2776/2776 - 8s - loss: 0.0518 - accuracy: 0.6332\n",
      "Epoch 153/300\n",
      "2776/2776 - 8s - loss: 0.0517 - accuracy: 0.6324\n",
      "Epoch 154/300\n",
      "2776/2776 - 7s - loss: 0.0516 - accuracy: 0.6335\n",
      "Epoch 155/300\n",
      "2776/2776 - 7s - loss: 0.0516 - accuracy: 0.6333\n",
      "Epoch 156/300\n",
      "2776/2776 - 8s - loss: 0.0515 - accuracy: 0.6344\n",
      "Epoch 157/300\n",
      "2776/2776 - 7s - loss: 0.0515 - accuracy: 0.6333\n",
      "Epoch 158/300\n",
      "2776/2776 - 7s - loss: 0.0514 - accuracy: 0.6330\n",
      "Epoch 159/300\n",
      "2776/2776 - 7s - loss: 0.0513 - accuracy: 0.6336\n",
      "Epoch 160/300\n",
      "2776/2776 - 9s - loss: 0.0513 - accuracy: 0.6329\n",
      "Epoch 161/300\n",
      "2776/2776 - 8s - loss: 0.0513 - accuracy: 0.6333\n",
      "Epoch 162/300\n",
      "2776/2776 - 7s - loss: 0.0512 - accuracy: 0.6347\n",
      "Epoch 163/300\n",
      "2776/2776 - 7s - loss: 0.0512 - accuracy: 0.6332\n",
      "Epoch 164/300\n",
      "2776/2776 - 7s - loss: 0.0511 - accuracy: 0.6337\n",
      "Epoch 165/300\n",
      "2776/2776 - 7s - loss: 0.0510 - accuracy: 0.6328\n",
      "Epoch 166/300\n",
      "2776/2776 - 7s - loss: 0.0509 - accuracy: 0.6340\n",
      "Epoch 167/300\n",
      "2776/2776 - 8s - loss: 0.0510 - accuracy: 0.6339\n",
      "Epoch 168/300\n",
      "2776/2776 - 7s - loss: 0.0509 - accuracy: 0.6344\n",
      "Epoch 169/300\n",
      "2776/2776 - 8s - loss: 0.0508 - accuracy: 0.6339\n",
      "Epoch 170/300\n",
      "2776/2776 - 7s - loss: 0.0507 - accuracy: 0.6351\n",
      "Epoch 171/300\n",
      "2776/2776 - 9s - loss: 0.0507 - accuracy: 0.6343\n",
      "Epoch 172/300\n",
      "2776/2776 - 8s - loss: 0.0506 - accuracy: 0.6340\n",
      "Epoch 173/300\n",
      "2776/2776 - 9s - loss: 0.0506 - accuracy: 0.6338\n",
      "Epoch 174/300\n",
      "2776/2776 - 8s - loss: 0.0506 - accuracy: 0.6341\n",
      "Epoch 175/300\n",
      "2776/2776 - 8s - loss: 0.0505 - accuracy: 0.6349\n",
      "Epoch 176/300\n",
      "2776/2776 - 9s - loss: 0.0505 - accuracy: 0.6343\n",
      "Epoch 177/300\n",
      "2776/2776 - 8s - loss: 0.0504 - accuracy: 0.6344\n",
      "Epoch 178/300\n",
      "2776/2776 - 9s - loss: 0.0504 - accuracy: 0.6343\n",
      "Epoch 179/300\n",
      "2776/2776 - 8s - loss: 0.0503 - accuracy: 0.6350\n",
      "Epoch 180/300\n",
      "2776/2776 - 8s - loss: 0.0503 - accuracy: 0.6352\n",
      "Epoch 181/300\n",
      "2776/2776 - 8s - loss: 0.0503 - accuracy: 0.6339\n",
      "Epoch 182/300\n",
      "2776/2776 - 8s - loss: 0.0501 - accuracy: 0.6351\n",
      "Epoch 183/300\n",
      "2776/2776 - 8s - loss: 0.0502 - accuracy: 0.6345\n",
      "Epoch 184/300\n",
      "2776/2776 - 8s - loss: 0.0501 - accuracy: 0.6347\n",
      "Epoch 185/300\n",
      "2776/2776 - 8s - loss: 0.0500 - accuracy: 0.6340\n",
      "Epoch 186/300\n",
      "2776/2776 - 7s - loss: 0.0500 - accuracy: 0.6343\n",
      "Epoch 187/300\n",
      "2776/2776 - 8s - loss: 0.0499 - accuracy: 0.6349\n",
      "Epoch 188/300\n",
      "2776/2776 - 7s - loss: 0.0499 - accuracy: 0.6355\n",
      "Epoch 189/300\n",
      "2776/2776 - 7s - loss: 0.0498 - accuracy: 0.6343\n",
      "Epoch 190/300\n",
      "2776/2776 - 6s - loss: 0.0498 - accuracy: 0.6351\n",
      "Epoch 191/300\n",
      "2776/2776 - 6s - loss: 0.0498 - accuracy: 0.6353\n",
      "Epoch 192/300\n",
      "2776/2776 - 7s - loss: 0.0497 - accuracy: 0.6359\n",
      "Epoch 193/300\n",
      "2776/2776 - 7s - loss: 0.0496 - accuracy: 0.6351\n",
      "Epoch 194/300\n",
      "2776/2776 - 7s - loss: 0.0496 - accuracy: 0.6356\n",
      "Epoch 195/300\n",
      "2776/2776 - 6s - loss: 0.0496 - accuracy: 0.6353\n",
      "Epoch 196/300\n",
      "2776/2776 - 6s - loss: 0.0495 - accuracy: 0.6361\n",
      "Epoch 197/300\n",
      "2776/2776 - 6s - loss: 0.0495 - accuracy: 0.6359\n",
      "Epoch 198/300\n",
      "2776/2776 - 7s - loss: 0.0494 - accuracy: 0.6361\n",
      "Epoch 199/300\n",
      "2776/2776 - 7s - loss: 0.0494 - accuracy: 0.6349\n",
      "Epoch 200/300\n",
      "2776/2776 - 7s - loss: 0.0493 - accuracy: 0.6348\n",
      "Epoch 201/300\n",
      "2776/2776 - 8s - loss: 0.0493 - accuracy: 0.6358\n",
      "Epoch 202/300\n",
      "2776/2776 - 8s - loss: 0.0493 - accuracy: 0.6365\n",
      "Epoch 203/300\n",
      "2776/2776 - 9s - loss: 0.0492 - accuracy: 0.6354\n",
      "Epoch 204/300\n",
      "2776/2776 - 8s - loss: 0.0492 - accuracy: 0.6357\n",
      "Epoch 205/300\n",
      "2776/2776 - 7s - loss: 0.0492 - accuracy: 0.6357\n",
      "Epoch 206/300\n",
      "2776/2776 - 8s - loss: 0.0491 - accuracy: 0.6360\n",
      "Epoch 207/300\n",
      "2776/2776 - 7s - loss: 0.0491 - accuracy: 0.6360\n",
      "Epoch 208/300\n",
      "2776/2776 - 8s - loss: 0.0490 - accuracy: 0.6357\n",
      "Epoch 209/300\n",
      "2776/2776 - 8s - loss: 0.0490 - accuracy: 0.6367\n",
      "Epoch 210/300\n",
      "2776/2776 - 9s - loss: 0.0489 - accuracy: 0.6360\n",
      "Epoch 211/300\n",
      "2776/2776 - 10s - loss: 0.0489 - accuracy: 0.6372\n",
      "Epoch 212/300\n",
      "2776/2776 - 10s - loss: 0.0488 - accuracy: 0.6357\n",
      "Epoch 213/300\n",
      "2776/2776 - 7s - loss: 0.0488 - accuracy: 0.6374\n",
      "Epoch 214/300\n",
      "2776/2776 - 7s - loss: 0.0488 - accuracy: 0.6359\n",
      "Epoch 215/300\n",
      "2776/2776 - 6s - loss: 0.0487 - accuracy: 0.6365\n",
      "Epoch 216/300\n",
      "2776/2776 - 7s - loss: 0.0487 - accuracy: 0.6370\n",
      "Epoch 217/300\n",
      "2776/2776 - 7s - loss: 0.0486 - accuracy: 0.6362\n",
      "Epoch 218/300\n",
      "2776/2776 - 7s - loss: 0.0486 - accuracy: 0.6369\n",
      "Epoch 219/300\n",
      "2776/2776 - 7s - loss: 0.0486 - accuracy: 0.6362\n",
      "Epoch 220/300\n",
      "2776/2776 - 7s - loss: 0.0485 - accuracy: 0.6374\n",
      "Epoch 221/300\n",
      "2776/2776 - 6s - loss: 0.0485 - accuracy: 0.6370\n",
      "Epoch 222/300\n",
      "2776/2776 - 6s - loss: 0.0484 - accuracy: 0.6366\n",
      "Epoch 223/300\n",
      "2776/2776 - 7s - loss: 0.0484 - accuracy: 0.6359\n",
      "Epoch 224/300\n",
      "2776/2776 - 7s - loss: 0.0484 - accuracy: 0.6371\n",
      "Epoch 225/300\n",
      "2776/2776 - 7s - loss: 0.0484 - accuracy: 0.6363\n",
      "Epoch 226/300\n",
      "2776/2776 - 7s - loss: 0.0483 - accuracy: 0.6367\n",
      "Epoch 227/300\n",
      "2776/2776 - 6s - loss: 0.0483 - accuracy: 0.6368\n",
      "Epoch 228/300\n",
      "2776/2776 - 7s - loss: 0.0482 - accuracy: 0.6361\n",
      "Epoch 229/300\n",
      "2776/2776 - 7s - loss: 0.0482 - accuracy: 0.6370\n",
      "Epoch 230/300\n",
      "2776/2776 - 6s - loss: 0.0482 - accuracy: 0.6376\n",
      "Epoch 231/300\n",
      "2776/2776 - 6s - loss: 0.0481 - accuracy: 0.6364\n",
      "Epoch 232/300\n",
      "2776/2776 - 6s - loss: 0.0481 - accuracy: 0.6373\n",
      "Epoch 233/300\n",
      "2776/2776 - 7s - loss: 0.0480 - accuracy: 0.6370\n",
      "Epoch 234/300\n",
      "2776/2776 - 7s - loss: 0.0480 - accuracy: 0.6368\n",
      "Epoch 235/300\n",
      "2776/2776 - 6s - loss: 0.0479 - accuracy: 0.6375\n",
      "Epoch 236/300\n",
      "2776/2776 - 6s - loss: 0.0479 - accuracy: 0.6362\n",
      "Epoch 237/300\n",
      "2776/2776 - 6s - loss: 0.0479 - accuracy: 0.6371\n",
      "Epoch 238/300\n",
      "2776/2776 - 7s - loss: 0.0479 - accuracy: 0.6365\n",
      "Epoch 239/300\n",
      "2776/2776 - 7s - loss: 0.0479 - accuracy: 0.6378\n",
      "Epoch 240/300\n",
      "2776/2776 - 7s - loss: 0.0478 - accuracy: 0.6376\n",
      "Epoch 241/300\n",
      "2776/2776 - 6s - loss: 0.0478 - accuracy: 0.6377\n",
      "Epoch 242/300\n",
      "2776/2776 - 6s - loss: 0.0477 - accuracy: 0.6370\n",
      "Epoch 243/300\n",
      "2776/2776 - 8s - loss: 0.0477 - accuracy: 0.6372\n",
      "Epoch 244/300\n",
      "2776/2776 - 7s - loss: 0.0477 - accuracy: 0.6375\n",
      "Epoch 245/300\n",
      "2776/2776 - 7s - loss: 0.0476 - accuracy: 0.6375\n",
      "Epoch 246/300\n",
      "2776/2776 - 6s - loss: 0.0476 - accuracy: 0.6375\n",
      "Epoch 247/300\n",
      "2776/2776 - 7s - loss: 0.0476 - accuracy: 0.6377\n",
      "Epoch 248/300\n",
      "2776/2776 - 7s - loss: 0.0475 - accuracy: 0.6378\n",
      "Epoch 249/300\n",
      "2776/2776 - 7s - loss: 0.0474 - accuracy: 0.6384\n",
      "Epoch 250/300\n",
      "2776/2776 - 6s - loss: 0.0475 - accuracy: 0.6374\n",
      "Epoch 251/300\n",
      "2776/2776 - 6s - loss: 0.0474 - accuracy: 0.6382\n",
      "Epoch 252/300\n",
      "2776/2776 - 6s - loss: 0.0474 - accuracy: 0.6380\n",
      "Epoch 253/300\n",
      "2776/2776 - 6s - loss: 0.0473 - accuracy: 0.6380\n",
      "Epoch 254/300\n",
      "2776/2776 - 6s - loss: 0.0473 - accuracy: 0.6378\n",
      "Epoch 255/300\n",
      "2776/2776 - 5s - loss: 0.0473 - accuracy: 0.6378\n",
      "Epoch 256/300\n",
      "2776/2776 - 6s - loss: 0.0472 - accuracy: 0.6373\n",
      "Epoch 257/300\n",
      "2776/2776 - 6s - loss: 0.0472 - accuracy: 0.6387\n",
      "Epoch 258/300\n",
      "2776/2776 - 6s - loss: 0.0472 - accuracy: 0.6398\n",
      "Epoch 259/300\n",
      "2776/2776 - 6s - loss: 0.0472 - accuracy: 0.6372\n",
      "Epoch 260/300\n",
      "2776/2776 - 6s - loss: 0.0471 - accuracy: 0.6378\n",
      "Epoch 261/300\n",
      "2776/2776 - 6s - loss: 0.0471 - accuracy: 0.6383\n",
      "Epoch 262/300\n",
      "2776/2776 - 6s - loss: 0.0471 - accuracy: 0.6383\n",
      "Epoch 263/300\n",
      "2776/2776 - 6s - loss: 0.0470 - accuracy: 0.6379\n",
      "Epoch 264/300\n",
      "2776/2776 - 6s - loss: 0.0470 - accuracy: 0.6383\n",
      "Epoch 265/300\n",
      "2776/2776 - 5s - loss: 0.0470 - accuracy: 0.6379\n",
      "Epoch 266/300\n",
      "2776/2776 - 5s - loss: 0.0470 - accuracy: 0.6378\n",
      "Epoch 267/300\n",
      "2776/2776 - 5s - loss: 0.0469 - accuracy: 0.6382\n",
      "Epoch 268/300\n",
      "2776/2776 - 6s - loss: 0.0469 - accuracy: 0.6388\n",
      "Epoch 269/300\n",
      "2776/2776 - 5s - loss: 0.0469 - accuracy: 0.6382\n",
      "Epoch 270/300\n",
      "2776/2776 - 5s - loss: 0.0468 - accuracy: 0.6381\n",
      "Epoch 271/300\n",
      "2776/2776 - 5s - loss: 0.0468 - accuracy: 0.6387\n",
      "Epoch 272/300\n",
      "2776/2776 - 5s - loss: 0.0468 - accuracy: 0.6386\n",
      "Epoch 273/300\n",
      "2776/2776 - 5s - loss: 0.0467 - accuracy: 0.6383\n",
      "Epoch 274/300\n",
      "2776/2776 - 6s - loss: 0.0467 - accuracy: 0.6377\n",
      "Epoch 275/300\n",
      "2776/2776 - 5s - loss: 0.0467 - accuracy: 0.6382\n",
      "Epoch 276/300\n",
      "2776/2776 - 5s - loss: 0.0466 - accuracy: 0.6392\n",
      "Epoch 277/300\n",
      "2776/2776 - 5s - loss: 0.0466 - accuracy: 0.6392\n",
      "Epoch 278/300\n",
      "2776/2776 - 5s - loss: 0.0466 - accuracy: 0.6384\n",
      "Epoch 279/300\n",
      "2776/2776 - 5s - loss: 0.0465 - accuracy: 0.6381\n",
      "Epoch 280/300\n",
      "2776/2776 - 6s - loss: 0.0465 - accuracy: 0.6387\n",
      "Epoch 281/300\n",
      "2776/2776 - 5s - loss: 0.0465 - accuracy: 0.6383\n",
      "Epoch 282/300\n",
      "2776/2776 - 5s - loss: 0.0464 - accuracy: 0.6393\n",
      "Epoch 283/300\n",
      "2776/2776 - 5s - loss: 0.0464 - accuracy: 0.6393\n",
      "Epoch 284/300\n",
      "2776/2776 - 5s - loss: 0.0464 - accuracy: 0.6394\n",
      "Epoch 285/300\n",
      "2776/2776 - 5s - loss: 0.0463 - accuracy: 0.6390\n",
      "Epoch 286/300\n",
      "2776/2776 - 6s - loss: 0.0463 - accuracy: 0.6378\n",
      "Epoch 287/300\n",
      "2776/2776 - 5s - loss: 0.0463 - accuracy: 0.6381\n",
      "Epoch 288/300\n",
      "2776/2776 - 5s - loss: 0.0463 - accuracy: 0.6390\n",
      "Epoch 289/300\n",
      "2776/2776 - 5s - loss: 0.0463 - accuracy: 0.6386\n",
      "Epoch 290/300\n",
      "2776/2776 - 5s - loss: 0.0462 - accuracy: 0.6390\n",
      "Epoch 291/300\n",
      "2776/2776 - 6s - loss: 0.0462 - accuracy: 0.6397\n",
      "Epoch 292/300\n",
      "2776/2776 - 5s - loss: 0.0462 - accuracy: 0.6385\n",
      "Epoch 293/300\n",
      "2776/2776 - 5s - loss: 0.0461 - accuracy: 0.6390\n",
      "Epoch 294/300\n",
      "2776/2776 - 5s - loss: 0.0461 - accuracy: 0.6387\n",
      "Epoch 295/300\n",
      "2776/2776 - 5s - loss: 0.0461 - accuracy: 0.6389\n",
      "Epoch 296/300\n",
      "2776/2776 - 5s - loss: 0.0460 - accuracy: 0.6395\n",
      "Epoch 297/300\n",
      "2776/2776 - 6s - loss: 0.0460 - accuracy: 0.6396\n",
      "Epoch 298/300\n",
      "2776/2776 - 5s - loss: 0.0460 - accuracy: 0.6396\n",
      "Epoch 299/300\n",
      "2776/2776 - 5s - loss: 0.0460 - accuracy: 0.6396\n",
      "Epoch 300/300\n",
      "2776/2776 - 5s - loss: 0.0460 - accuracy: 0.6395\n",
      "CPU times: user 41min 2s, sys: 8min 38s, total: 49min 41s\n",
      "Wall time: 35min 30s\n"
     ]
    }
   ],
   "source": [
    "%%time\n",
    "if description[\"USE\"][\"actif\"]:\n",
    "    USEkerasPipeline = tf.keras.models.Sequential(\n",
    "        [\n",
    "            tf.keras.Input(shape=(512,)),  # tensor=X_train_use),\n",
    "            tf.keras.layers.Dense(128, activation=\"relu\"),\n",
    "            tf.keras.layers.Dense(len(target_names), activation=\"sigmoid\"),\n",
    "        ]\n",
    "    )\n",
    "    USEkerasPipeline.compile(\n",
    "        optimizer=\"adam\",\n",
    "        loss=tf.keras.losses.BinaryCrossentropy(),\n",
    "        metrics=[\"accuracy\"],\n",
    "    )\n",
    "    USEkerasPipeline.fit(\n",
    "        X_train_use.numpy(),\n",
    "        y_train,\n",
    "        epochs=description[\"USE\"][\"epochs\"],\n",
    "        verbose=2,\n",
    "    )"
   ]
  },
  {
   "cell_type": "code",
   "execution_count": 53,
   "id": "5bfd878d",
   "metadata": {
    "execution": {
     "iopub.execute_input": "2023-01-18T20:35:28.014676Z",
     "iopub.status.busy": "2023-01-18T20:35:28.014276Z",
     "iopub.status.idle": "2023-01-18T20:36:06.845666Z",
     "shell.execute_reply": "2023-01-18T20:36:06.844392Z"
    },
    "papermill": {
     "duration": 38.895596,
     "end_time": "2023-01-18T20:36:06.848355",
     "exception": false,
     "start_time": "2023-01-18T20:35:27.952759",
     "status": "completed"
    },
    "tags": []
   },
   "outputs": [
    {
     "name": "stdout",
     "output_type": "stream",
     "text": [
      "Meilleur f1-score 59.64% pour limit 0.32\n"
     ]
    },
    {
     "data": {
      "image/png": "[encoded data removed]",
      "text/plain": [
       "<Figure size 2160x1080 with 1 Axes>"
      ]
     },
     "metadata": {
      "needs_background": "light"
     },
     "output_type": "display_data"
    },
    {
     "name": "stdout",
     "output_type": "stream",
     "text": [
      "Sur le jeu test:\n",
      "              precision    recall  f1-score  support\n",
      "android        0.724331  0.821027  0.769654   2045.0\n",
      "git            0.684385  0.751825  0.716522    274.0\n",
      "python         0.664712  0.737749  0.699329   2612.0\n",
      "java           0.645325  0.713884  0.677876   3558.0\n",
      "php            0.621748  0.734481  0.673429   1627.0\n",
      "ios            0.630551  0.702174  0.664438   1840.0\n",
      "c++            0.610465  0.695010  0.650000   1964.0\n",
      "javascript     0.581763  0.690107  0.631321   3356.0\n",
      "css            0.577304  0.670203  0.620295   1131.0\n",
      "weighted avg   0.563608  0.634729  0.596629  33044.0\n",
      "micro avg      0.562456  0.634729  0.596411  33044.0\n",
      "jquery         0.587937  0.602081  0.594925   1538.0\n",
      "mysql          0.542821  0.629197  0.582826    685.0\n",
      "c#             0.565029  0.599194  0.581610   3473.0\n",
      "macro avg      0.531316  0.599282  0.562677  33044.0\n",
      "html           0.496386  0.586895  0.537859   1755.0\n",
      "sql            0.472727  0.537931  0.503226    870.0\n",
      "node.js        0.496942  0.476540  0.486527    682.0\n",
      "samples avg    0.477395  0.520604  0.477035  33044.0\n",
      "c              0.414873  0.479096  0.444678    885.0\n",
      "objective-c    0.372895  0.523649  0.435597    888.0\n",
      "iphone         0.397155  0.449814  0.421848    807.0\n",
      "asp.net        0.395787  0.443478  0.418278    805.0\n",
      "linux          0.347297  0.377941  0.361972    680.0\n",
      ".net           0.327200  0.362651  0.344015   1569.0\n"
     ]
    },
    {
     "name": "stderr",
     "output_type": "stream",
     "text": [
      "2023-01-18 20:36:06.338872: W tensorflow/python/util/util.cc:348] Sets are not currently considered sequences, but this may change in the future, so consider avoiding using them.\n"
     ]
    },
    {
     "name": "stdout",
     "output_type": "stream",
     "text": [
      "CPU times: user 42.1 s, sys: 3.68 s, total: 45.7 s\n",
      "Wall time: 38.8 s\n"
     ]
    }
   ],
   "source": [
    "%%time\n",
    "if description[\"USE\"][\"actif\"]:\n",
    "    X_pred_test_use = USEkerasPipeline.predict(embed(X_test.values))\n",
    "    #     print(X_pred_test_use)\n",
    "    best, f1_score_avg = p5_nlp_utils.Commun.find_best_limit(\n",
    "        X_pred_test_use, y_test, target_names, limits=np.linspace(0, 1, 101)\n",
    "    )\n",
    "    pred_use_bool = p5_nlp_utils.Commun.convert_pred_to_bool(\n",
    "        X_pred_test_use, limit=best\n",
    "    )\n",
    "    use_pred_test_score = p5_nlp_utils.Commun.save_score(\n",
    "        y_true=y_test,\n",
    "        y_pred=pred_use_bool,\n",
    "        target_names=target_names,\n",
    "        name=\"kerasUSE\",\n",
    "    )\n",
    "    print(\"Sur le jeu test:\")\n",
    "    print(use_pred_test_score.sort_values(by=\"f1-score\", ascending=False))\n",
    "    USEkerasPipeline.save(\"kerasUSE\")"
   ]
  },
  {
   "cell_type": "markdown",
   "id": "dc8333b8",
   "metadata": {
    "papermill": {
     "duration": 0.060538,
     "end_time": "2023-01-18T20:36:06.969781",
     "exception": false,
     "start_time": "2023-01-18T20:36:06.909243",
     "status": "completed"
    },
    "tags": []
   },
   "source": [
    "La limite optimal peut etre différente en fonction des tags:"
   ]
  },
  {
   "cell_type": "code",
   "execution_count": 54,
   "id": "7d79f47a",
   "metadata": {
    "execution": {
     "iopub.execute_input": "2023-01-18T20:36:07.093432Z",
     "iopub.status.busy": "2023-01-18T20:36:07.092417Z",
     "iopub.status.idle": "2023-01-18T20:36:15.836660Z",
     "shell.execute_reply": "2023-01-18T20:36:15.835557Z"
    },
    "papermill": {
     "duration": 8.814,
     "end_time": "2023-01-18T20:36:15.844323",
     "exception": false,
     "start_time": "2023-01-18T20:36:07.030323",
     "status": "completed"
    },
    "tags": []
   },
   "outputs": [
    {
     "name": "stdout",
     "output_type": "stream",
     "text": [
      "java : meilleur f1-score 67.99% pour limit 0.36\n",
      "c# : meilleur f1-score 59.17% pour limit 0.19\n",
      "javascript : meilleur f1-score 63.27% pour limit 0.29\n",
      "python : meilleur f1-score 70.53% pour limit 0.5\n",
      "android : meilleur f1-score 78.25% pour limit 0.53\n",
      "c++ : meilleur f1-score 65.64% pour limit 0.41000000000000003\n",
      "ios : meilleur f1-score 67.57% pour limit 0.13\n",
      "html : meilleur f1-score 54.55% pour limit 0.23\n",
      "php : meilleur f1-score 69.27% pour limit 0.55\n",
      ".net : meilleur f1-score 36.63% pour limit 0.09\n",
      "jquery : meilleur f1-score 60.14% pour limit 0.2\n",
      "css : meilleur f1-score 62.64% pour limit 0.42\n",
      "objective-c : meilleur f1-score 45.62% pour limit 0.1\n",
      "c : meilleur f1-score 45.08% pour limit 0.26\n",
      "sql : meilleur f1-score 51.02% pour limit 0.14\n",
      "iphone : meilleur f1-score 44.20% pour limit 0.13\n",
      "asp.net : meilleur f1-score 42.36% pour limit 0.41000000000000003\n",
      "mysql : meilleur f1-score 59.37% pour limit 0.6\n",
      "linux : meilleur f1-score 36.62% pour limit 0.15\n",
      "node.js : meilleur f1-score 50.16% pour limit 0.37\n",
      "git : meilleur f1-score 75.97% pour limit 0.84\n"
     ]
    },
    {
     "data": {
      "image/png": "[encoded data removed]",
      "text/plain": [
       "<Figure size 2160x1080 with 1 Axes>"
      ]
     },
     "metadata": {
      "needs_background": "light"
     },
     "output_type": "display_data"
    },
    {
     "name": "stdout",
     "output_type": "stream",
     "text": [
      "{'java': (0.36, 0.6799123047410249), 'c#': (0.19, 0.5916763303697976), 'javascript': (0.29, 0.6327350656308599), 'python': (0.5, 0.7053158705701078), 'android': (0.53, 0.7825450999512432), 'c++': (0.41000000000000003, 0.6564051638530288), 'ios': (0.13, 0.6756633119853614), 'html': (0.23, 0.5454545454545454), 'php': (0.55, 0.6927016645326505), '.net': (0.09, 0.3663323157435674), 'jquery': (0.2, 0.6014449127031908), 'css': (0.42, 0.6264343391415215), 'objective-c': (0.1, 0.45618153364632236), 'c': (0.26, 0.4508320726172466), 'sql': (0.14, 0.5101580135440181), 'iphone': (0.13, 0.44199424736337495), 'asp.net': (0.41000000000000003, 0.42358909321496513), 'mysql': (0.6, 0.5936555891238671), 'linux': (0.15, 0.36624999999999996), 'node.js': (0.37, 0.5015625), 'git': (0.84, 0.7596899224806202)}\n",
      "CPU times: user 8.86 s, sys: 82.3 ms, total: 8.94 s\n",
      "Wall time: 8.7 s\n"
     ]
    }
   ],
   "source": [
    "%%time\n",
    "if description[\"USE\"][\"actif\"]:\n",
    "    best_limits_use = p5_nlp_utils.Commun.find_best_limit_by_tags(\n",
    "        X_pred_test_use, y_test, target_names, limits=np.linspace(0, 1, 101)\n",
    "    )\n",
    "    print(best_limits_use)\n",
    "    with open(\"/kaggle/working/best_limits_use.json\", \"w\") as outfile:\n",
    "        json.dump(best_limits_use, outfile)"
   ]
  },
  {
   "cell_type": "code",
   "execution_count": 55,
   "id": "27958805",
   "metadata": {
    "execution": {
     "iopub.execute_input": "2023-01-18T20:36:15.983051Z",
     "iopub.status.busy": "2023-01-18T20:36:15.982138Z",
     "iopub.status.idle": "2023-01-18T20:36:15.989885Z",
     "shell.execute_reply": "2023-01-18T20:36:15.988962Z"
    },
    "papermill": {
     "duration": 0.07957,
     "end_time": "2023-01-18T20:36:15.992007",
     "exception": false,
     "start_time": "2023-01-18T20:36:15.912437",
     "status": "completed"
    },
    "tags": []
   },
   "outputs": [],
   "source": [
    "# f1_scores = pd.DataFrame(\n",
    "#     [\n",
    "#         p5_nlp_utils.Commun.save_score(\n",
    "#             y_true=y_test,\n",
    "#             y_pred=p5_nlp_utils.Commun.convert_pred_to_bool(\n",
    "#                 X_pred_test_use, limit=limit\n",
    "#             ),\n",
    "#             target_names=target_names,\n",
    "#             name=None,\n",
    "#         ).loc[target_names, \"f1-score\"]\n",
    "#         for limit in np.linspace(0, 1, 101)\n",
    "#     ],\n",
    "#     index=np.linspace(0, 1, 101),\n",
    "# )"
   ]
  },
  {
   "cell_type": "code",
   "execution_count": 56,
   "id": "d0ebf1c9",
   "metadata": {
    "execution": {
     "iopub.execute_input": "2023-01-18T20:36:16.129402Z",
     "iopub.status.busy": "2023-01-18T20:36:16.128641Z",
     "iopub.status.idle": "2023-01-18T20:36:16.162244Z",
     "shell.execute_reply": "2023-01-18T20:36:16.161427Z"
    },
    "papermill": {
     "duration": 0.104974,
     "end_time": "2023-01-18T20:36:16.164569",
     "exception": false,
     "start_time": "2023-01-18T20:36:16.059595",
     "status": "completed"
    },
    "tags": []
   },
   "outputs": [],
   "source": [
    "if description[\"USE\"][\"actif\"] and description[\"USE\"][\"tsne_visu\"]:\n",
    "    use_pred_train = USEkerasPipeline.predict(X_train_use)\n",
    "    use_pred_train_bool = p5_nlp_utils.Commun.convert_pred_to_bool(\n",
    "        use_pred_train, limit=best\n",
    "    )\n",
    "    use_pred_train_score = p5_nlp_utils.Commun.save_score(\n",
    "        y_true=y_train, y_pred=use_pred_train_bool, target_names=target_names, name=None\n",
    "    )\n",
    "    print(\"Sur le jeu d'entrainement:\")\n",
    "    print(use_pred_train_score.sort_values(by=\"f1-score\", ascending=False))"
   ]
  },
  {
   "cell_type": "code",
   "execution_count": 57,
   "id": "64dadf27",
   "metadata": {
    "execution": {
     "iopub.execute_input": "2023-01-18T20:36:16.302122Z",
     "iopub.status.busy": "2023-01-18T20:36:16.301177Z",
     "iopub.status.idle": "2023-01-18T20:36:16.362102Z",
     "shell.execute_reply": "2023-01-18T20:36:16.360931Z"
    },
    "papermill": {
     "duration": 0.132958,
     "end_time": "2023-01-18T20:36:16.364864",
     "exception": false,
     "start_time": "2023-01-18T20:36:16.231906",
     "status": "completed"
    },
    "tags": []
   },
   "outputs": [
    {
     "name": "stdout",
     "output_type": "stream",
     "text": [
      "CPU times: user 6 µs, sys: 0 ns, total: 6 µs\n",
      "Wall time: 11.2 µs\n"
     ]
    }
   ],
   "source": [
    "%%time\n",
    "if description[\"USE\"][\"actif\"] and description[\"USE\"][\"tsne_visu\"]:\n",
    "    X_train_use_tsne = p5_nlp_utils.Commun.calcul_tsne(X_train_use)\n",
    "    print(\"Tag Réél:\")\n",
    "    p5_nlp_utils.Commun.visu_tsne(\n",
    "        X_tsne=X_train_use_tsne,\n",
    "        y_train_monodim=y_train_monodim,\n",
    "        y_train=y_train,\n",
    "        target_names=target_names,\n",
    "        tag_list=[\n",
    "            \"java\",\n",
    "            \"c#\",\n",
    "            \"python\",\n",
    "            \"android\",\n",
    "            \"php\",\n",
    "            \".net\",\n",
    "            \"mysql\",\n",
    "            \"sql\",\n",
    "            \"javascript\",\n",
    "            \"jquery\",\n",
    "            \"html\",\n",
    "            \"node.js\",\n",
    "            \"css\",\n",
    "            \"c\",\n",
    "            \"mysql\",\n",
    "            \"linux\",\n",
    "            \"git\",\n",
    "        ],\n",
    "    )\n",
    "    print(\"Tag prédit:\")\n",
    "    p5_nlp_utils.Commun.visu_tsne(\n",
    "        X_tsne=X_train_use_tsne,\n",
    "        y_train_monodim=y_train_monodim,\n",
    "        y_train=use_pred_train_bool,\n",
    "        target_names=target_names,\n",
    "        tag_list=[\n",
    "            \"python\",\n",
    "            \"java\",\n",
    "            \"git\",\n",
    "            \"android\",\n",
    "            \"javascript\",\n",
    "            \"css\"\n",
    "        ],\n",
    "        maxcols=3,\n",
    "    )"
   ]
  },
  {
   "cell_type": "markdown",
   "id": "cc89ff4d",
   "metadata": {
    "papermill": {
     "duration": 0.127029,
     "end_time": "2023-01-18T20:36:16.560190",
     "exception": false,
     "start_time": "2023-01-18T20:36:16.433161",
     "status": "completed"
    },
    "tags": []
   },
   "source": [
    "# LDA "
   ]
  },
  {
   "cell_type": "code",
   "execution_count": 58,
   "id": "0280eb8d",
   "metadata": {
    "execution": {
     "iopub.execute_input": "2023-01-18T20:36:16.698294Z",
     "iopub.status.busy": "2023-01-18T20:36:16.697111Z",
     "iopub.status.idle": "2023-01-18T20:36:16.702541Z",
     "shell.execute_reply": "2023-01-18T20:36:16.701731Z"
    },
    "papermill": {
     "duration": 0.076771,
     "end_time": "2023-01-18T20:36:16.704723",
     "exception": false,
     "start_time": "2023-01-18T20:36:16.627952",
     "status": "completed"
    },
    "tags": []
   },
   "outputs": [],
   "source": [
    "# import importlib\n",
    "\n",
    "# importlib.reload(p5_nlp_utils)"
   ]
  },
  {
   "cell_type": "code",
   "execution_count": 59,
   "id": "d4caf857",
   "metadata": {
    "execution": {
     "iopub.execute_input": "2023-01-18T20:36:16.841039Z",
     "iopub.status.busy": "2023-01-18T20:36:16.840124Z",
     "iopub.status.idle": "2023-01-18T20:36:16.846198Z",
     "shell.execute_reply": "2023-01-18T20:36:16.845347Z"
    },
    "papermill": {
     "duration": 0.076453,
     "end_time": "2023-01-18T20:36:16.848286",
     "exception": false,
     "start_time": "2023-01-18T20:36:16.771833",
     "status": "completed"
    },
    "tags": []
   },
   "outputs": [],
   "source": [
    "import warnings"
   ]
  },
  {
   "cell_type": "code",
   "execution_count": 60,
   "id": "de2d00f1",
   "metadata": {
    "execution": {
     "iopub.execute_input": "2023-01-18T20:36:16.986162Z",
     "iopub.status.busy": "2023-01-18T20:36:16.985484Z",
     "iopub.status.idle": "2023-01-18T20:36:17.054170Z",
     "shell.execute_reply": "2023-01-18T20:36:17.053033Z"
    },
    "papermill": {
     "duration": 0.140619,
     "end_time": "2023-01-18T20:36:17.056437",
     "exception": false,
     "start_time": "2023-01-18T20:36:16.915818",
     "status": "completed"
    },
    "tags": []
   },
   "outputs": [
    {
     "name": "stdout",
     "output_type": "stream",
     "text": [
      "CPU times: user 9 µs, sys: 2 µs, total: 11 µs\n",
      "Wall time: 15.5 µs\n"
     ]
    }
   ],
   "source": [
    "%%time\n",
    "lda_models = {}\n",
    "if description[\"LDA\"][\"actif\"]:\n",
    "    print(description[\"LDA\"])\n",
    "    X_train_tokens = X_train.str.split()\n",
    "    nb_num_topics = len(description[\"LDA\"][\"num_topics\"])\n",
    "    warnings.filterwarnings(\"ignore\", category=DeprecationWarning)\n",
    "    for indice, num_topics in enumerate(description[\"LDA\"][\"num_topics\"]):\n",
    "        print(f\"Début {num_topics}topics ({indice+1}/{nb_num_topics})\")\n",
    "        lda_model = p5_nlp_utils.LDA(\n",
    "            tokens=X_train_tokens,\n",
    "            num_topics=num_topics,\n",
    "            no_below=description[\"LDA\"][\"lda__no_below\"],\n",
    "            no_above=description[\"LDA\"][\"lda__no_above\"],\n",
    "            max_tokens=description[\"LDA\"][\"lda__max_tokens\"],\n",
    "            iterations=description[\"LDA\"][\"lda__iterations\"],\n",
    "        )\n",
    "        print(f\"Nommage des topis\")\n",
    "        lda_model.name_topics(target_names)\n",
    "        # print(lda_model.topics_names)\n",
    "        lda_model.word_cloud_by_topics(\n",
    "            nb_words=description[\"LDA\"][\"word_cloud__nb_words\"]\n",
    "        )\n",
    "        lda_models[indice] = lda_model.prepare_display()"
   ]
  },
  {
   "cell_type": "markdown",
   "id": "1579c4fc",
   "metadata": {
    "papermill": {
     "duration": 0.066889,
     "end_time": "2023-01-18T20:36:17.190813",
     "exception": false,
     "start_time": "2023-01-18T20:36:17.123924",
     "status": "completed"
    },
    "tags": []
   },
   "source": [
    "### Affichage des topics avec pyLDAvis:"
   ]
  },
  {
   "cell_type": "code",
   "execution_count": 61,
   "id": "556a074d",
   "metadata": {
    "execution": {
     "iopub.execute_input": "2023-01-18T20:36:17.329598Z",
     "iopub.status.busy": "2023-01-18T20:36:17.328856Z",
     "iopub.status.idle": "2023-01-18T20:36:17.341586Z",
     "shell.execute_reply": "2023-01-18T20:36:17.340788Z"
    },
    "papermill": {
     "duration": 0.084181,
     "end_time": "2023-01-18T20:36:17.343910",
     "exception": false,
     "start_time": "2023-01-18T20:36:17.259729",
     "status": "completed"
    },
    "tags": []
   },
   "outputs": [],
   "source": [
    "pyLDAvis.display(lda_models[0].display_data) if lda_models and lda_models.get(\n",
    "    0, False\n",
    ") else None"
   ]
  },
  {
   "cell_type": "code",
   "execution_count": 62,
   "id": "21dcc4b3",
   "metadata": {
    "execution": {
     "iopub.execute_input": "2023-01-18T20:36:17.480383Z",
     "iopub.status.busy": "2023-01-18T20:36:17.479692Z",
     "iopub.status.idle": "2023-01-18T20:36:17.493184Z",
     "shell.execute_reply": "2023-01-18T20:36:17.492043Z"
    },
    "papermill": {
     "duration": 0.084675,
     "end_time": "2023-01-18T20:36:17.495740",
     "exception": false,
     "start_time": "2023-01-18T20:36:17.411065",
     "status": "completed"
    },
    "tags": []
   },
   "outputs": [],
   "source": [
    "pyLDAvis.display(lda_models[1].display_data) if lda_models and lda_models.get(\n",
    "    1, False\n",
    ") else None"
   ]
  },
  {
   "cell_type": "code",
   "execution_count": 63,
   "id": "5ed572b4",
   "metadata": {
    "execution": {
     "iopub.execute_input": "2023-01-18T20:36:17.632705Z",
     "iopub.status.busy": "2023-01-18T20:36:17.632050Z",
     "iopub.status.idle": "2023-01-18T20:36:17.644347Z",
     "shell.execute_reply": "2023-01-18T20:36:17.643571Z"
    },
    "papermill": {
     "duration": 0.083069,
     "end_time": "2023-01-18T20:36:17.646648",
     "exception": false,
     "start_time": "2023-01-18T20:36:17.563579",
     "status": "completed"
    },
    "tags": []
   },
   "outputs": [],
   "source": [
    "pyLDAvis.display(lda_models[2].display_data) if lda_models and lda_models.get(\n",
    "    2, False\n",
    ") else None"
   ]
  },
  {
   "cell_type": "code",
   "execution_count": 64,
   "id": "5ec90b91",
   "metadata": {
    "execution": {
     "iopub.execute_input": "2023-01-18T20:36:17.782828Z",
     "iopub.status.busy": "2023-01-18T20:36:17.782095Z",
     "iopub.status.idle": "2023-01-18T20:36:17.787678Z",
     "shell.execute_reply": "2023-01-18T20:36:17.786590Z"
    },
    "papermill": {
     "duration": 0.076388,
     "end_time": "2023-01-18T20:36:17.790040",
     "exception": false,
     "start_time": "2023-01-18T20:36:17.713652",
     "status": "completed"
    },
    "tags": []
   },
   "outputs": [],
   "source": [
    "# pyLDAvis.prepared_data_to_html(lda_models[0].display_data)"
   ]
  },
  {
   "cell_type": "code",
   "execution_count": 65,
   "id": "bbef8e73",
   "metadata": {
    "execution": {
     "iopub.execute_input": "2023-01-18T20:36:17.927529Z",
     "iopub.status.busy": "2023-01-18T20:36:17.927124Z",
     "iopub.status.idle": "2023-01-18T20:36:17.957242Z",
     "shell.execute_reply": "2023-01-18T20:36:17.956027Z"
    },
    "papermill": {
     "duration": 0.102039,
     "end_time": "2023-01-18T20:36:17.959970",
     "exception": false,
     "start_time": "2023-01-18T20:36:17.857931",
     "status": "completed"
    },
    "tags": []
   },
   "outputs": [
    {
     "name": "stdout",
     "output_type": "stream",
     "text": [
      "CPU times: user 5 µs, sys: 1e+03 ns, total: 6 µs\n",
      "Wall time: 11.2 µs\n"
     ]
    }
   ],
   "source": [
    "%%time\n",
    "if description[\"LDA\"][\"actif\"]:\n",
    "    lda_model = lda_models[list(lda_models.keys())[-1]]  # last\n",
    "    pred_lda = lda_model.predict(X_test.str.split())\n",
    "    print(\"Exemple prediction\", pred_lda[0])\n",
    "    pred_lda_bool = p5_nlp_utils.LDA.convert_pred(pred_lda, target_names)\n",
    "    print(pred_lda_bool.head(1))"
   ]
  },
  {
   "cell_type": "code",
   "execution_count": 66,
   "id": "5e8e11bf",
   "metadata": {
    "execution": {
     "iopub.execute_input": "2023-01-18T20:36:18.098612Z",
     "iopub.status.busy": "2023-01-18T20:36:18.098233Z",
     "iopub.status.idle": "2023-01-18T20:36:18.128671Z",
     "shell.execute_reply": "2023-01-18T20:36:18.127460Z"
    },
    "papermill": {
     "duration": 0.102787,
     "end_time": "2023-01-18T20:36:18.131087",
     "exception": false,
     "start_time": "2023-01-18T20:36:18.028300",
     "status": "completed"
    },
    "tags": []
   },
   "outputs": [
    {
     "name": "stdout",
     "output_type": "stream",
     "text": [
      "CPU times: user 5 µs, sys: 1e+03 ns, total: 6 µs\n",
      "Wall time: 10.5 µs\n"
     ]
    }
   ],
   "source": [
    "%%time\n",
    "if description[\"LDA\"][\"actif\"]:\n",
    "    lda_pred_test_score = p5_nlp_utils.Commun.save_score(\n",
    "        y_true=y_test,\n",
    "        y_pred=pred_lda_bool,\n",
    "        target_names=target_names,\n",
    "        name=\"LDA\",\n",
    "    )\n",
    "    print(\"Sur le jeu test:\")\n",
    "    print(lda_pred_test_score.sort_values(by=\"f1-score\", ascending=False))\n",
    "    lda_model.model.save(\"LDA\")"
   ]
  },
  {
   "cell_type": "code",
   "execution_count": 67,
   "id": "d7027749",
   "metadata": {
    "execution": {
     "iopub.execute_input": "2023-01-18T20:36:18.269834Z",
     "iopub.status.busy": "2023-01-18T20:36:18.268785Z",
     "iopub.status.idle": "2023-01-18T20:36:18.275058Z",
     "shell.execute_reply": "2023-01-18T20:36:18.274268Z"
    },
    "papermill": {
     "duration": 0.077897,
     "end_time": "2023-01-18T20:36:18.277327",
     "exception": false,
     "start_time": "2023-01-18T20:36:18.199430",
     "status": "completed"
    },
    "tags": []
   },
   "outputs": [],
   "source": [
    "# X_test.values[0]"
   ]
  },
  {
   "cell_type": "code",
   "execution_count": 68,
   "id": "f72efdc8",
   "metadata": {
    "execution": {
     "iopub.execute_input": "2023-01-18T20:36:18.416265Z",
     "iopub.status.busy": "2023-01-18T20:36:18.415554Z",
     "iopub.status.idle": "2023-01-18T20:36:18.422722Z",
     "shell.execute_reply": "2023-01-18T20:36:18.421852Z"
    },
    "papermill": {
     "duration": 0.079235,
     "end_time": "2023-01-18T20:36:18.425036",
     "exception": false,
     "start_time": "2023-01-18T20:36:18.345801",
     "status": "completed"
    },
    "tags": []
   },
   "outputs": [],
   "source": [
    "# pred_lda[0]"
   ]
  },
  {
   "cell_type": "code",
   "execution_count": 69,
   "id": "23579cca",
   "metadata": {
    "execution": {
     "iopub.execute_input": "2023-01-18T20:36:18.566700Z",
     "iopub.status.busy": "2023-01-18T20:36:18.565710Z",
     "iopub.status.idle": "2023-01-18T20:36:18.571226Z",
     "shell.execute_reply": "2023-01-18T20:36:18.570053Z"
    },
    "papermill": {
     "duration": 0.078774,
     "end_time": "2023-01-18T20:36:18.573684",
     "exception": false,
     "start_time": "2023-01-18T20:36:18.494910",
     "status": "completed"
    },
    "tags": []
   },
   "outputs": [],
   "source": [
    "# y_test.iloc[0]"
   ]
  },
  {
   "cell_type": "code",
   "execution_count": 70,
   "id": "12366ffb",
   "metadata": {
    "execution": {
     "iopub.execute_input": "2023-01-18T20:36:18.713609Z",
     "iopub.status.busy": "2023-01-18T20:36:18.713155Z",
     "iopub.status.idle": "2023-01-18T20:36:18.746921Z",
     "shell.execute_reply": "2023-01-18T20:36:18.745902Z"
    },
    "papermill": {
     "duration": 0.106662,
     "end_time": "2023-01-18T20:36:18.749519",
     "exception": false,
     "start_time": "2023-01-18T20:36:18.642857",
     "status": "completed"
    },
    "tags": []
   },
   "outputs": [],
   "source": [
    "def compare_topic_tags(\n",
    "    pred_topic, y_true, tags=[\"java\", \"python\", \"javascript\", \"git\"]\n",
    "):\n",
    "    \"\"\"Pour chacun des tags, regarde les topics attribué quand ce tag est présent\"\"\"\n",
    "    df_pred = pd.DataFrame(pred_topic)\n",
    "    for tag in tags:\n",
    "        print(f\"***{colors.BOLD}{tag}{colors.ENDC}*** sur {sum(y_true[tag])} positif\")\n",
    "        display(\n",
    "            df_pred[y_true[tag].values]\n",
    "            .describe()\n",
    "            .sort_values(by=\"count\", ascending=False, axis=\"columns\")\n",
    "        )\n",
    "        print(\"\\n\")"
   ]
  },
  {
   "cell_type": "code",
   "execution_count": 71,
   "id": "584cf1af",
   "metadata": {
    "execution": {
     "iopub.execute_input": "2023-01-18T20:36:18.887992Z",
     "iopub.status.busy": "2023-01-18T20:36:18.887331Z",
     "iopub.status.idle": "2023-01-18T20:36:18.898805Z",
     "shell.execute_reply": "2023-01-18T20:36:18.897716Z"
    },
    "papermill": {
     "duration": 0.083534,
     "end_time": "2023-01-18T20:36:18.901430",
     "exception": false,
     "start_time": "2023-01-18T20:36:18.817896",
     "status": "completed"
    },
    "tags": []
   },
   "outputs": [],
   "source": [
    "if description[\"LDA\"][\"actif\"]:\n",
    "    compare_topic_tags(pred_lda, y_test)"
   ]
  }
 ],
 "metadata": {
  "kernelspec": {
   "display_name": "Python 3",
   "language": "python",
   "name": "python3"
  },
  "language_info": {
   "codemirror_mode": {
    "name": "ipython",
    "version": 3
   },
   "file_extension": ".py",
   "mimetype": "text/x-python",
   "name": "python",
   "nbconvert_exporter": "python",
   "pygments_lexer": "ipython3",
   "version": "3.7.12"
  },
  "papermill": {
   "default_parameters": {},
   "duration": 2431.57871,
   "end_time": "2023-01-18T20:36:23.604329",
   "environment_variables": {},
   "exception": null,
   "input_path": "__notebook__.ipynb",
   "output_path": "__notebook__.ipynb",
   "parameters": {},
   "start_time": "2023-01-18T19:55:52.025619",
   "version": "2.3.4"
  },
  "widgets": {
   "application/vnd.jupyter.widget-state+json": {
    "state": {
     "18ade9b3f19c486aa4ed3eab103c8b71": {
      "model_module": "@jupyter-widgets/output",
      "model_module_version": "1.0.0",
      "model_name": "OutputModel",
      "state": {
       "_dom_classes": [],
       "_model_module": "@jupyter-widgets/output",
       "_model_module_version": "1.0.0",
       "_model_name": "OutputModel",
       "_view_count": null,
       "_view_module": "@jupyter-widgets/output",
       "_view_module_version": "1.0.0",
       "_view_name": "OutputView",
       "layout": "IPY_MODEL_d50b675fbe194a82a6511c550e54d856",
       "msg_id": "",
       "outputs": [
        {
         "name": "stdout",
         "output_type": "stream",
         "text": "Title:How to change culture to a DateTimepicker or calendar control in .Net\n******************************\nTitle_clean:change culture datetimepicker calendar control\n******************************\nBody:<p>How to set internationalization to a <code>DateTimepicker</code> or <code>Calendar WinForm</code> control in .Net when the desire culture is different to the one installed in the PC?</p>\n\n******************************\nBody_clean:set internationalization datetimepicker calendar winform control .net desire culture instal pc\n******************************\nCode:DateTimepicker Calendar WinForm\n******************************\nTags:c# .net internationalization datetimepicker culture\n"
        }
       ]
      }
     },
     "334d313c093d4c3898fc2ff2fa39f29f": {
      "model_module": "@jupyter-widgets/base",
      "model_module_version": "1.2.0",
      "model_name": "LayoutModel",
      "state": {
       "_model_module": "@jupyter-widgets/base",
       "_model_module_version": "1.2.0",
       "_model_name": "LayoutModel",
       "_view_count": null,
       "_view_module": "@jupyter-widgets/base",
       "_view_module_version": "1.2.0",
       "_view_name": "LayoutView",
       "align_content": null,
       "align_items": null,
       "align_self": null,
       "border": null,
       "bottom": null,
       "display": null,
       "flex": null,
       "flex_flow": null,
       "grid_area": null,
       "grid_auto_columns": null,
       "grid_auto_flow": null,
       "grid_auto_rows": null,
       "grid_column": null,
       "grid_gap": null,
       "grid_row": null,
       "grid_template_areas": null,
       "grid_template_columns": null,
       "grid_template_rows": null,
       "height": null,
       "justify_content": null,
       "justify_items": null,
       "left": null,
       "margin": null,
       "max_height": null,
       "max_width": null,
       "min_height": null,
       "min_width": null,
       "object_fit": null,
       "object_position": null,
       "order": null,
       "overflow": null,
       "overflow_x": null,
       "overflow_y": null,
       "padding": null,
       "right": null,
       "top": null,
       "visibility": null,
       "width": null
      }
     },
     "47ed42e789ee4626bf435b4a34a1f561": {
      "model_module": "@jupyter-widgets/controls",
      "model_module_version": "1.5.0",
      "model_name": "SliderStyleModel",
      "state": {
       "_model_module": "@jupyter-widgets/controls",
       "_model_module_version": "1.5.0",
       "_model_name": "SliderStyleModel",
       "_view_count": null,
       "_view_module": "@jupyter-widgets/base",
       "_view_module_version": "1.2.0",
       "_view_name": "StyleView",
       "description_width": "",
       "handle_color": null
      }
     },
     "b30266c9b31f47afb66baff1b340f259": {
      "model_module": "@jupyter-widgets/base",
      "model_module_version": "1.2.0",
      "model_name": "LayoutModel",
      "state": {
       "_model_module": "@jupyter-widgets/base",
       "_model_module_version": "1.2.0",
       "_model_name": "LayoutModel",
       "_view_count": null,
       "_view_module": "@jupyter-widgets/base",
       "_view_module_version": "1.2.0",
       "_view_name": "LayoutView",
       "align_content": null,
       "align_items": null,
       "align_self": null,
       "border": null,
       "bottom": null,
       "display": null,
       "flex": null,
       "flex_flow": null,
       "grid_area": null,
       "grid_auto_columns": null,
       "grid_auto_flow": null,
       "grid_auto_rows": null,
       "grid_column": null,
       "grid_gap": null,
       "grid_row": null,
       "grid_template_areas": null,
       "grid_template_columns": null,
       "grid_template_rows": null,
       "height": null,
       "justify_content": null,
       "justify_items": null,
       "left": null,
       "margin": null,
       "max_height": null,
       "max_width": null,
       "min_height": null,
       "min_width": null,
       "object_fit": null,
       "object_position": null,
       "order": null,
       "overflow": null,
       "overflow_x": null,
       "overflow_y": null,
       "padding": null,
       "right": null,
       "top": null,
       "visibility": null,
       "width": null
      }
     },
     "bcda69061a924cfe82ae8f4b91d4828e": {
      "model_module": "@jupyter-widgets/controls",
      "model_module_version": "1.5.0",
      "model_name": "VBoxModel",
      "state": {
       "_dom_classes": [
        "widget-interact"
       ],
       "_model_module": "@jupyter-widgets/controls",
       "_model_module_version": "1.5.0",
       "_model_name": "VBoxModel",
       "_view_count": null,
       "_view_module": "@jupyter-widgets/controls",
       "_view_module_version": "1.5.0",
       "_view_name": "VBoxView",
       "box_style": "",
       "children": [
        "IPY_MODEL_c18ccf3f739d467d89e13644901ce2fe",
        "IPY_MODEL_18ade9b3f19c486aa4ed3eab103c8b71"
       ],
       "layout": "IPY_MODEL_334d313c093d4c3898fc2ff2fa39f29f"
      }
     },
     "c18ccf3f739d467d89e13644901ce2fe": {
      "model_module": "@jupyter-widgets/controls",
      "model_module_version": "1.5.0",
      "model_name": "IntSliderModel",
      "state": {
       "_dom_classes": [],
       "_model_module": "@jupyter-widgets/controls",
       "_model_module_version": "1.5.0",
       "_model_name": "IntSliderModel",
       "_view_count": null,
       "_view_module": "@jupyter-widgets/controls",
       "_view_module_version": "1.5.0",
       "_view_name": "IntSliderView",
       "continuous_update": true,
       "description": "i",
       "description_tooltip": null,
       "disabled": false,
       "layout": "IPY_MODEL_b30266c9b31f47afb66baff1b340f259",
       "max": 118441,
       "min": 0,
       "orientation": "horizontal",
       "readout": true,
       "readout_format": "d",
       "step": 1,
       "style": "IPY_MODEL_47ed42e789ee4626bf435b4a34a1f561",
       "value": 59220
      }
     },
     "d50b675fbe194a82a6511c550e54d856": {
      "model_module": "@jupyter-widgets/base",
      "model_module_version": "1.2.0",
      "model_name": "LayoutModel",
      "state": {
       "_model_module": "@jupyter-widgets/base",
       "_model_module_version": "1.2.0",
       "_model_name": "LayoutModel",
       "_view_count": null,
       "_view_module": "@jupyter-widgets/base",
       "_view_module_version": "1.2.0",
       "_view_name": "LayoutView",
       "align_content": null,
       "align_items": null,
       "align_self": null,
       "border": null,
       "bottom": null,
       "display": null,
       "flex": null,
       "flex_flow": null,
       "grid_area": null,
       "grid_auto_columns": null,
       "grid_auto_flow": null,
       "grid_auto_rows": null,
       "grid_column": null,
       "grid_gap": null,
       "grid_row": null,
       "grid_template_areas": null,
       "grid_template_columns": null,
       "grid_template_rows": null,
       "height": null,
       "justify_content": null,
       "justify_items": null,
       "left": null,
       "margin": null,
       "max_height": null,
       "max_width": null,
       "min_height": null,
       "min_width": null,
       "object_fit": null,
       "object_position": null,
       "order": null,
       "overflow": null,
       "overflow_x": null,
       "overflow_y": null,
       "padding": null,
       "right": null,
       "top": null,
       "visibility": null,
       "width": null
      }
     }
    },
    "version_major": 2,
    "version_minor": 0
   }
  }
 },
 "nbformat": 4,
 "nbformat_minor": 5
}
